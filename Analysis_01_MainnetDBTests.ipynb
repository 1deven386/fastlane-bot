{
 "cells": [
  {
   "cell_type": "code",
   "execution_count": 40,
   "id": "8f04c50a-67fe-4f09-822d-6ed6e3ac43e4",
   "metadata": {
    "ExecuteTime": {
     "start_time": "2023-05-09T07:19:46.461644Z",
     "end_time": "2023-05-09T07:19:47.099681Z"
    }
   },
   "outputs": [
    {
     "name": "stdout",
     "output_type": "stream",
     "text": [
      "ConstantProductCurve v2.10.1 (07/May/2023)\n",
      "CPCAnalyzer v0.1 (06/May/2023)\n",
      "CPCArbOptimizer v3.6 (06/May/2023)\n",
      "CarbonBot v3-b2.1 (03/May/2023)\n",
      "Version = 3-b2.1 [requirements >= 3.0 is met]\n"
     ]
    },
    {
     "name": "stderr",
     "output_type": "stream",
     "text": [
      "/var/folders/rt/qnj8r6yd6131ccxkw_k9d9gc0000gn/T/ipykernel_66857/1971048585.py:12: MatplotlibDeprecationWarning: The seaborn styles shipped by Matplotlib are deprecated since 3.6, as they no longer correspond to the styles shipped by seaborn. However, they will remain available as 'seaborn-v0_8-<style>'. Alternatively, directly use the seaborn API instead.\n",
      "  plt.style.use('seaborn-dark')\n"
     ]
    }
   ],
   "source": [
    "from fastlane_bot import Bot, Config, ConfigDB, ConfigNetwork, ConfigProvider\n",
    "from fastlane_bot.tools.cpc import ConstantProductCurve as CPC, CPCContainer, T, Pair\n",
    "from fastlane_bot.tools.analyzer import CPCAnalyzer\n",
    "from fastlane_bot.tools.optimizer import CPCArbOptimizer\n",
    "print(\"{0.__name__} v{0.__VERSION__} ({0.__DATE__})\".format(CPC))\n",
    "print(\"{0.__name__} v{0.__VERSION__} ({0.__DATE__})\".format(CPCAnalyzer))\n",
    "print(\"{0.__name__} v{0.__VERSION__} ({0.__DATE__})\".format(CPCArbOptimizer))\n",
    "print(\"{0.__name__} v{0.__VERSION__} ({0.__DATE__})\".format(Bot))\n",
    "from fastlane_bot.testing import *\n",
    "import itertools as it\n",
    "import collections as cl\n",
    "plt.style.use('seaborn-dark')\n",
    "plt.rcParams['figure.figsize'] = [12,6]\n",
    "from fastlane_bot import __VERSION__\n",
    "require(\"3.0\", __VERSION__)"
   ]
  },
  {
   "cell_type": "markdown",
   "id": "b3f59f14-b91b-4dba-94b0-3d513aaf41c7",
   "metadata": {},
   "source": [
    "# Mainnet Server [A011]"
   ]
  },
  {
   "cell_type": "code",
   "execution_count": 41,
   "id": "736e4c79-fbd4-4898-ba89-82d779b57f20",
   "metadata": {
    "ExecuteTime": {
     "start_time": "2023-05-09T07:19:46.484716Z",
     "end_time": "2023-05-09T07:19:49.531820Z"
    }
   },
   "outputs": [],
   "source": [
    "bot     = Bot()\n",
    "CCm     = bot.get_curves()\n",
    "CA      = CPCAnalyzer(CCm)"
   ]
  },
  {
   "cell_type": "code",
   "execution_count": 42,
   "id": "69819f05-1264-4fb0-87c2-b0835e9f8187",
   "metadata": {
    "ExecuteTime": {
     "start_time": "2023-05-09T07:19:49.541484Z",
     "end_time": "2023-05-09T07:19:49.543308Z"
    }
   },
   "outputs": [],
   "source": [
    "pairs0  = CA.CC.pairs(standardize=False)\n",
    "pairs   = CA.pairs()\n",
    "pairsc  = CA.pairsc()\n",
    "tokens  = CA.tokens()"
   ]
  },
  {
   "cell_type": "code",
   "execution_count": 43,
   "id": "316f952e-ee28-47c8-80d5-2e12e7663c97",
   "metadata": {
    "ExecuteTime": {
     "start_time": "2023-05-09T07:19:49.560644Z",
     "end_time": "2023-05-09T07:19:49.564494Z"
    }
   },
   "outputs": [],
   "source": [
    "assert CA.pairs()  == CCm.pairs(standardize=True)\n",
    "assert CA.pairsc() == {c.pairo.primary for c in CCm if c.P(\"exchange\")==\"carbon_v1\"}\n",
    "assert CA.tokens() == CCm.tokens()"
   ]
  },
  {
   "cell_type": "markdown",
   "id": "af0c9279-da09-4b57-9906-390d6697ea6a",
   "metadata": {},
   "source": [
    "## Overall market"
   ]
  },
  {
   "cell_type": "code",
   "execution_count": 44,
   "id": "4fad31af-e183-48c9-a2a3-17db79372545",
   "metadata": {
    "ExecuteTime": {
     "start_time": "2023-05-09T07:19:49.565142Z",
     "end_time": "2023-05-09T07:19:49.572846Z"
    }
   },
   "outputs": [
    {
     "name": "stdout",
     "output_type": "stream",
     "text": [
      "Total pairs:    2864\n",
      "Primary pairs:  2834\n",
      "...carbon:        26\n",
      "Tokens:         2233\n",
      "Curves:         4156\n"
     ]
    }
   ],
   "source": [
    "print(f\"Total pairs:    {len(pairs0):4}\")\n",
    "print(f\"Primary pairs:  {len(pairs):4}\")\n",
    "print(f\"...carbon:      {len(pairsc):4}\")\n",
    "print(f\"Tokens:         {len(CCm.tokens()):4}\")\n",
    "print(f\"Curves:         {len(CCm):4}\")"
   ]
  },
  {
   "cell_type": "markdown",
   "id": "073680a2-1b21-4265-b43e-cfc895c4f5d3",
   "metadata": {},
   "source": [
    "## By pair"
   ]
  },
  {
   "cell_type": "markdown",
   "id": "78011c05-9d1b-4187-a7e1-89b596df0263",
   "metadata": {},
   "source": [
    "### All pairs"
   ]
  },
  {
   "cell_type": "code",
   "execution_count": 45,
   "id": "7bbef403-7e91-433d-9f64-fd6e01008ab4",
   "metadata": {
    "ExecuteTime": {
     "start_time": "2023-05-09T07:19:49.591848Z",
     "end_time": "2023-05-09T07:19:50.093736Z"
    }
   },
   "outputs": [],
   "source": [
    "cbp0 = {pair: [c for c in CCm.bypairs(pair)] for pair in CCm.pairs()} # curves by (primary) pair\n",
    "nbp0 = {pair: len(cc) for pair,cc in cbp0.items()}\n",
    "assert len(cbp0) == len(CCm.pairs())\n",
    "assert set(cbp0) == CCm.pairs()"
   ]
  },
  {
   "cell_type": "markdown",
   "id": "a44013bd-fc9a-4484-b7a2-0ae1feb11a73",
   "metadata": {},
   "source": [
    "### Only those with >1 curves"
   ]
  },
  {
   "cell_type": "code",
   "execution_count": 46,
   "id": "235b688b-4c30-4c94-9783-4e1bca1647b0",
   "metadata": {
    "ExecuteTime": {
     "start_time": "2023-05-09T07:19:50.094916Z",
     "end_time": "2023-05-09T07:19:50.097381Z"
    }
   },
   "outputs": [
    {
     "name": "stdout",
     "output_type": "stream",
     "text": [
      "Pairs with >1 curves:  936\n",
      "Curves in those:       2258\n",
      "Average curves/pair:   2.4\n"
     ]
    }
   ],
   "source": [
    "cbp = {pair: cc for pair, cc in cbp0.items() if len(cc)>1}\n",
    "nbp = {pair: len(cc) for pair,cc in cbp.items()}\n",
    "print(f\"Pairs with >1 curves:  {len(cbp)}\")\n",
    "print(f\"Curves in those:       {sum(nbp.values())}\")\n",
    "print(f\"Average curves/pair:   {sum(nbp.values())/len(cbp):.1f}\")"
   ]
  },
  {
   "cell_type": "markdown",
   "id": "dec10184-2753-42b6-a4d8-8570e9df3b42",
   "metadata": {},
   "source": [
    "### x=0 or y=0"
   ]
  },
  {
   "cell_type": "code",
   "execution_count": 47,
   "id": "a7e57f87-8475-4a8d-bcfc-4dd17b45cc0f",
   "metadata": {
    "ExecuteTime": {
     "start_time": "2023-05-09T07:19:50.099557Z",
     "end_time": "2023-05-09T07:19:50.101477Z"
    }
   },
   "outputs": [],
   "source": [
    "xis0 = {c.cid: (c.x, c.y) for c in CCm if c.x==0}\n",
    "yis0 = {c.cid: (c.x, c.y) for c in CCm if c.y==0}\n",
    "assert len(xis0) == 0 # set loglevel debug to see removal of curves\n",
    "assert len(yis0) == 0"
   ]
  },
  {
   "cell_type": "markdown",
   "id": "9d7c1b09-9590-4a0f-acb4-66eb7547a42a",
   "metadata": {},
   "source": [
    "### Prices"
   ]
  },
  {
   "cell_type": "markdown",
   "id": "a25e135a-efd9-4f97-9e9e-34620baa3ffe",
   "metadata": {},
   "source": [
    "#### All"
   ]
  },
  {
   "cell_type": "code",
   "execution_count": 48,
   "id": "a4606613-c3b8-46bb-b59f-a346e49e8a8b",
   "metadata": {
    "ExecuteTime": {
     "start_time": "2023-05-09T07:19:50.178348Z",
     "end_time": "2023-05-09T07:19:50.180019Z"
    }
   },
   "outputs": [],
   "source": [
    "prices_da = {pair: \n",
    "             [(\n",
    "                Pair.n(pair), pair, c.primaryp(), c.cid, c.cid[-8:], c.P(\"exchange\"), c.tvl(tkn=pair.split(\"/\")[0]),\n",
    "                \"x\" if c.itm(cc) else \"\", c.buysell(verbose=False), c.buysell(verbose=True, withprice=True)\n",
    "              ) for c in cc \n",
    "             ] \n",
    "             for pair, cc in cbp.items()\n",
    "            }\n",
    "#prices_da"
   ]
  },
  {
   "cell_type": "markdown",
   "id": "8aa0e2cb-b44f-4cda-8fca-b06ba7f91bdd",
   "metadata": {},
   "source": [
    "#### Only for pairs that have at least on Carbon pair"
   ]
  },
  {
   "cell_type": "code",
   "execution_count": 49,
   "id": "f0a5c00e-3674-48f8-8f99-9c29c48941d7",
   "metadata": {
    "ExecuteTime": {
     "start_time": "2023-05-09T07:19:50.180832Z",
     "end_time": "2023-05-09T07:19:50.183498Z"
    }
   },
   "outputs": [],
   "source": [
    "prices_d = {pair: l for pair,l in prices_da.items() if pair in pairsc}\n",
    "prices_l = list(it.chain(*prices_d.values()))"
   ]
  },
  {
   "cell_type": "code",
   "execution_count": 50,
   "id": "f3c3ec5c-52b5-4e71-a325-85637d824c2d",
   "metadata": {
    "ExecuteTime": {
     "start_time": "2023-05-09T07:19:50.183936Z",
     "end_time": "2023-05-09T07:19:50.185839Z"
    }
   },
   "outputs": [],
   "source": [
    "#prices_d"
   ]
  },
  {
   "cell_type": "code",
   "execution_count": 51,
   "id": "31291455-e524-4b75-8dff-75bafad60cf4",
   "metadata": {
    "ExecuteTime": {
     "start_time": "2023-05-09T07:19:50.187588Z",
     "end_time": "2023-05-09T07:19:50.190377Z"
    }
   },
   "outputs": [
    {
     "data": {
      "text/plain": "[('WETH-6Cc2/USDC-eB48', 24),\n ('BNT-FF1C/WETH-6Cc2', 14),\n ('USDT-1ec7/USDC-eB48', 13),\n ('BNT-FF1C/vBNT-7f94', 12),\n ('WBTC-C599/WETH-6Cc2', 10),\n ('LINK-86CA/USDT-1ec7', 8),\n ('WETH-6Cc2/USDT-1ec7', 8),\n ('WETH-6Cc2/DAI-1d0F', 7),\n ('DAI-1d0F/USDC-eB48', 7),\n ('WBTC-C599/USDT-1ec7', 7),\n ('LINK-86CA/USDC-eB48', 6),\n ('DAI-1d0F/USDT-1ec7', 6),\n ('WBTC-C599/USDC-eB48', 6),\n ('BNT-FF1C/USDC-eB48', 5),\n ('rETH-6393/WETH-6Cc2', 5),\n ('CRV-cd52/USDC-eB48', 4),\n ('TSUKA-69eD/USDC-eB48', 4),\n ('stETH-fE84/WETH-6Cc2', 4),\n ('0x0-1AD5/WETH-6Cc2', 3),\n ('LYXe-be6D/USDC-eB48', 3),\n ('PEPE-1933/WETH-6Cc2', 2),\n ('ARB-4ad1/MATIC-eBB0', 2),\n ('SMT-7173/WETH-6Cc2', 2)]"
     },
     "execution_count": 51,
     "metadata": {},
     "output_type": "execute_result"
    }
   ],
   "source": [
    "curves_by_pair = list(cl.Counter([r[1] for r in prices_l]).items())\n",
    "curves_by_pair = sorted(curves_by_pair, key=lambda x: x[1], reverse=True)\n",
    "curves_by_pair"
   ]
  },
  {
   "cell_type": "code",
   "execution_count": 52,
   "id": "49fc0278-f0ac-4e26-9b72-cf8805973886",
   "metadata": {
    "ExecuteTime": {
     "start_time": "2023-05-09T07:19:50.189904Z",
     "end_time": "2023-05-09T07:19:50.194171Z"
    }
   },
   "outputs": [],
   "source": [
    "CODE = \"\"\"\n",
    "# #### {pairn}\n",
    "\n",
    "pair = \"{pair}\"\n",
    "pricedf.loc[Pair.n(pair)]\n",
    "\n",
    "pi = CA.pair_data(pair)\n",
    "O = CPCArbOptimizer(pi.CC)\n",
    "r = O.margp_optimizer(pair.split(\"/\")[0])\n",
    "r.trade_instructions(ti_format=O.TIF_DFAGGR)\n",
    "\n",
    "r = O.margp_optimizer(pair.split(\"/\")[1])\n",
    "r.trade_instructions(ti_format=O.TIF_DFAGGR)\n",
    "\"\"\""
   ]
  },
  {
   "cell_type": "code",
   "execution_count": 53,
   "id": "9db3a2c4-8030-451b-b3c2-7f8ca23c00ca",
   "metadata": {
    "ExecuteTime": {
     "start_time": "2023-05-09T07:19:50.192811Z",
     "end_time": "2023-05-09T07:19:50.196556Z"
    }
   },
   "outputs": [],
   "source": [
    "# for pair, _ in curves_by_pair:\n",
    "#     print(CODE.format(pairn=Pair.n(pair), pair=pair))"
   ]
  },
  {
   "cell_type": "markdown",
   "id": "95d37b78-f3a4-4d11-95f6-158eb559eeca",
   "metadata": {},
   "source": [
    "#### Dataframe"
   ]
  },
  {
   "cell_type": "code",
   "execution_count": 54,
   "id": "cde03243-3e11-4361-bd02-fb324f4b313b",
   "metadata": {
    "ExecuteTime": {
     "start_time": "2023-05-09T07:19:50.199894Z",
     "end_time": "2023-05-09T07:19:50.225543Z"
    }
   },
   "outputs": [
    {
     "data": {
      "text/plain": "                                   price            vl itm  bs  \\\npair       exchange   cid0                                       \n0x0/WETH   carbon_v1  132277-0  0.000013  1.342084e+04       b   \n                      132277-1  0.000015  3.597323e+02   x   s   \n           uniswap_v2 551118da  0.000027  2.853407e+07   x  bs   \nARB/MATIC  carbon_v1  806240-0  1.507045  1.276054e+01       s   \n                      806240-1  1.428571  1.418060e+02       b   \n...                                  ...           ...  ..  ..   \nrETH/WETH  uniswap_v3 ef318a34  1.067460  3.281094e-02   x  bs   \nstETH/WETH carbon_v1  422914-0  1.010101  2.031521e-03       s   \n                      422914-1  0.990099  8.011450e-02       b   \n           uniswap_v2 ff7abe20  0.995957  2.457107e+03      bs   \n           uniswap_v3 154a5023  0.997410  5.800729e+01      bs   \n\n                                                                 bsv  \npair       exchange   cid0                                            \n0x0/WETH   carbon_v1  132277-0           buy-0x0 @ 0.00 WETH per 0x0  \n                      132277-1          sell-0x0 @ 0.00 WETH per 0x0  \n           uniswap_v2 551118da      buy-sell-0x0 @ 0.00 WETH per 0x0  \nARB/MATIC  carbon_v1  806240-0         sell-ARB @ 1.51 MATIC per ARB  \n                      806240-1          buy-ARB @ 1.43 MATIC per ARB  \n...                                                              ...  \nrETH/WETH  uniswap_v3 ef318a34    buy-sell-rETH @ 1.07 WETH per rETH  \nstETH/WETH carbon_v1  422914-0      sell-stETH @ 1.01 WETH per stETH  \n                      422914-1       buy-stETH @ 0.99 WETH per stETH  \n           uniswap_v2 ff7abe20  buy-sell-stETH @ 1.00 WETH per stETH  \n           uniswap_v3 154a5023  buy-sell-stETH @ 1.00 WETH per stETH  \n\n[162 rows x 5 columns]",
      "text/html": "<div>\n<style scoped>\n    .dataframe tbody tr th:only-of-type {\n        vertical-align: middle;\n    }\n\n    .dataframe tbody tr th {\n        vertical-align: top;\n    }\n\n    .dataframe thead th {\n        text-align: right;\n    }\n</style>\n<table border=\"1\" class=\"dataframe\">\n  <thead>\n    <tr style=\"text-align: right;\">\n      <th></th>\n      <th></th>\n      <th></th>\n      <th>price</th>\n      <th>vl</th>\n      <th>itm</th>\n      <th>bs</th>\n      <th>bsv</th>\n    </tr>\n    <tr>\n      <th>pair</th>\n      <th>exchange</th>\n      <th>cid0</th>\n      <th></th>\n      <th></th>\n      <th></th>\n      <th></th>\n      <th></th>\n    </tr>\n  </thead>\n  <tbody>\n    <tr>\n      <th rowspan=\"3\" valign=\"top\">0x0/WETH</th>\n      <th rowspan=\"2\" valign=\"top\">carbon_v1</th>\n      <th>132277-0</th>\n      <td>0.000013</td>\n      <td>1.342084e+04</td>\n      <td></td>\n      <td>b</td>\n      <td>buy-0x0 @ 0.00 WETH per 0x0</td>\n    </tr>\n    <tr>\n      <th>132277-1</th>\n      <td>0.000015</td>\n      <td>3.597323e+02</td>\n      <td>x</td>\n      <td>s</td>\n      <td>sell-0x0 @ 0.00 WETH per 0x0</td>\n    </tr>\n    <tr>\n      <th>uniswap_v2</th>\n      <th>551118da</th>\n      <td>0.000027</td>\n      <td>2.853407e+07</td>\n      <td>x</td>\n      <td>bs</td>\n      <td>buy-sell-0x0 @ 0.00 WETH per 0x0</td>\n    </tr>\n    <tr>\n      <th rowspan=\"2\" valign=\"top\">ARB/MATIC</th>\n      <th rowspan=\"2\" valign=\"top\">carbon_v1</th>\n      <th>806240-0</th>\n      <td>1.507045</td>\n      <td>1.276054e+01</td>\n      <td></td>\n      <td>s</td>\n      <td>sell-ARB @ 1.51 MATIC per ARB</td>\n    </tr>\n    <tr>\n      <th>806240-1</th>\n      <td>1.428571</td>\n      <td>1.418060e+02</td>\n      <td></td>\n      <td>b</td>\n      <td>buy-ARB @ 1.43 MATIC per ARB</td>\n    </tr>\n    <tr>\n      <th>...</th>\n      <th>...</th>\n      <th>...</th>\n      <td>...</td>\n      <td>...</td>\n      <td>...</td>\n      <td>...</td>\n      <td>...</td>\n    </tr>\n    <tr>\n      <th>rETH/WETH</th>\n      <th>uniswap_v3</th>\n      <th>ef318a34</th>\n      <td>1.067460</td>\n      <td>3.281094e-02</td>\n      <td>x</td>\n      <td>bs</td>\n      <td>buy-sell-rETH @ 1.07 WETH per rETH</td>\n    </tr>\n    <tr>\n      <th rowspan=\"4\" valign=\"top\">stETH/WETH</th>\n      <th rowspan=\"2\" valign=\"top\">carbon_v1</th>\n      <th>422914-0</th>\n      <td>1.010101</td>\n      <td>2.031521e-03</td>\n      <td></td>\n      <td>s</td>\n      <td>sell-stETH @ 1.01 WETH per stETH</td>\n    </tr>\n    <tr>\n      <th>422914-1</th>\n      <td>0.990099</td>\n      <td>8.011450e-02</td>\n      <td></td>\n      <td>b</td>\n      <td>buy-stETH @ 0.99 WETH per stETH</td>\n    </tr>\n    <tr>\n      <th>uniswap_v2</th>\n      <th>ff7abe20</th>\n      <td>0.995957</td>\n      <td>2.457107e+03</td>\n      <td></td>\n      <td>bs</td>\n      <td>buy-sell-stETH @ 1.00 WETH per stETH</td>\n    </tr>\n    <tr>\n      <th>uniswap_v3</th>\n      <th>154a5023</th>\n      <td>0.997410</td>\n      <td>5.800729e+01</td>\n      <td></td>\n      <td>bs</td>\n      <td>buy-sell-stETH @ 1.00 WETH per stETH</td>\n    </tr>\n  </tbody>\n</table>\n<p>162 rows × 5 columns</p>\n</div>"
     },
     "execution_count": 54,
     "metadata": {},
     "output_type": "execute_result"
    }
   ],
   "source": [
    "pricedf0 = pd.DataFrame(prices_l, columns=\"pair,pairf,price,cid,cid0,exchange,vl,itm,bs,bsv\".split(\",\"))\n",
    "pricedf = pricedf0.drop(['cid', 'pairf'], axis=1).sort_values(by=[\"pair\", \"exchange\", \"cid0\"])\n",
    "pricedf = pricedf.set_index([\"pair\", \"exchange\", \"cid0\"])\n",
    "pricedf"
   ]
  },
  {
   "cell_type": "markdown",
   "id": "0841ae55-5673-4edb-9c87-c6d21f6db9a2",
   "metadata": {},
   "source": [
    "### Individual frames"
   ]
  },
  {
   "cell_type": "markdown",
   "id": "c066c726-ee75-41e3-8b3f-3b43792c6352",
   "metadata": {},
   "source": [
    "#### WETH/USDC"
   ]
  },
  {
   "cell_type": "code",
   "execution_count": 55,
   "id": "39eb141a-90ff-4c18-95ee-97207ca815ea",
   "metadata": {
    "ExecuteTime": {
     "start_time": "2023-05-09T07:19:50.212278Z",
     "end_time": "2023-05-09T07:19:50.225781Z"
    }
   },
   "outputs": [
    {
     "data": {
      "text/plain": "                             price            vl itm  bs  \\\nexchange     cid0                                          \ncarbon_v1    057285-1  2099.999790      0.006040       s   \n             057292-0  1853.408818      0.003314   x   b   \n             057292-1  2000.000000      0.016387       s   \n             057296-0  1929.999807      0.001033   x   b   \n             057296-1  1949.999805     10.460391       s   \n             057299-1  1940.000000      0.026117       s   \n             057306-0  1405.000140      3.558719       b   \n             057315-1  2300.000000      0.487950       s   \n             057331-0  1800.000000      5.555556       b   \n             057334-0  1700.000170      0.029412       b   \n             057334-1  1999.999800      0.040000       s   \n             057337-0  1850.000000      1.081081       b   \n             057339-0  1800.000000      0.000556       b   \n             057343-1  1989.999801      1.000000       s   \n             057353-0  1854.000185      4.234699   x   b   \n             057353-1  2047.999795      4.000000       s   \nsushiswap_v2 803       1838.745520  17564.479610   x  bs   \n             dd65c110  1841.913305  18392.882153   x  bs   \nuniswap_v2   0c551073  1841.245125  32724.988098   x  bs   \n             255       1840.773969  39241.200664   x  bs   \nuniswap_v3   08cee9b5  1837.884991    210.709853   x  bs   \n             346       1848.191535    233.930315   x  bs   \n             593       1832.243200     58.054109   x  bs   \n             76b13aa0  1843.328373    503.361718   x  bs   \n\n                                                         bsv  \nexchange     cid0                                             \ncarbon_v1    057285-1      sell-WETH @ 2100.00 USDC per WETH  \n             057292-0       buy-WETH @ 1853.41 USDC per WETH  \n             057292-1      sell-WETH @ 2000.00 USDC per WETH  \n             057296-0       buy-WETH @ 1930.00 USDC per WETH  \n             057296-1      sell-WETH @ 1950.00 USDC per WETH  \n             057299-1      sell-WETH @ 1940.00 USDC per WETH  \n             057306-0       buy-WETH @ 1405.00 USDC per WETH  \n             057315-1      sell-WETH @ 2300.00 USDC per WETH  \n             057331-0       buy-WETH @ 1800.00 USDC per WETH  \n             057334-0       buy-WETH @ 1700.00 USDC per WETH  \n             057334-1      sell-WETH @ 2000.00 USDC per WETH  \n             057337-0       buy-WETH @ 1850.00 USDC per WETH  \n             057339-0       buy-WETH @ 1800.00 USDC per WETH  \n             057343-1      sell-WETH @ 1990.00 USDC per WETH  \n             057353-0       buy-WETH @ 1854.00 USDC per WETH  \n             057353-1      sell-WETH @ 2048.00 USDC per WETH  \nsushiswap_v2 803       buy-sell-WETH @ 1838.75 USDC per WETH  \n             dd65c110  buy-sell-WETH @ 1841.91 USDC per WETH  \nuniswap_v2   0c551073  buy-sell-WETH @ 1841.25 USDC per WETH  \n             255       buy-sell-WETH @ 1840.77 USDC per WETH  \nuniswap_v3   08cee9b5  buy-sell-WETH @ 1837.88 USDC per WETH  \n             346       buy-sell-WETH @ 1848.19 USDC per WETH  \n             593       buy-sell-WETH @ 1832.24 USDC per WETH  \n             76b13aa0  buy-sell-WETH @ 1843.33 USDC per WETH  ",
      "text/html": "<div>\n<style scoped>\n    .dataframe tbody tr th:only-of-type {\n        vertical-align: middle;\n    }\n\n    .dataframe tbody tr th {\n        vertical-align: top;\n    }\n\n    .dataframe thead th {\n        text-align: right;\n    }\n</style>\n<table border=\"1\" class=\"dataframe\">\n  <thead>\n    <tr style=\"text-align: right;\">\n      <th></th>\n      <th></th>\n      <th>price</th>\n      <th>vl</th>\n      <th>itm</th>\n      <th>bs</th>\n      <th>bsv</th>\n    </tr>\n    <tr>\n      <th>exchange</th>\n      <th>cid0</th>\n      <th></th>\n      <th></th>\n      <th></th>\n      <th></th>\n      <th></th>\n    </tr>\n  </thead>\n  <tbody>\n    <tr>\n      <th rowspan=\"16\" valign=\"top\">carbon_v1</th>\n      <th>057285-1</th>\n      <td>2099.999790</td>\n      <td>0.006040</td>\n      <td></td>\n      <td>s</td>\n      <td>sell-WETH @ 2100.00 USDC per WETH</td>\n    </tr>\n    <tr>\n      <th>057292-0</th>\n      <td>1853.408818</td>\n      <td>0.003314</td>\n      <td>x</td>\n      <td>b</td>\n      <td>buy-WETH @ 1853.41 USDC per WETH</td>\n    </tr>\n    <tr>\n      <th>057292-1</th>\n      <td>2000.000000</td>\n      <td>0.016387</td>\n      <td></td>\n      <td>s</td>\n      <td>sell-WETH @ 2000.00 USDC per WETH</td>\n    </tr>\n    <tr>\n      <th>057296-0</th>\n      <td>1929.999807</td>\n      <td>0.001033</td>\n      <td>x</td>\n      <td>b</td>\n      <td>buy-WETH @ 1930.00 USDC per WETH</td>\n    </tr>\n    <tr>\n      <th>057296-1</th>\n      <td>1949.999805</td>\n      <td>10.460391</td>\n      <td></td>\n      <td>s</td>\n      <td>sell-WETH @ 1950.00 USDC per WETH</td>\n    </tr>\n    <tr>\n      <th>057299-1</th>\n      <td>1940.000000</td>\n      <td>0.026117</td>\n      <td></td>\n      <td>s</td>\n      <td>sell-WETH @ 1940.00 USDC per WETH</td>\n    </tr>\n    <tr>\n      <th>057306-0</th>\n      <td>1405.000140</td>\n      <td>3.558719</td>\n      <td></td>\n      <td>b</td>\n      <td>buy-WETH @ 1405.00 USDC per WETH</td>\n    </tr>\n    <tr>\n      <th>057315-1</th>\n      <td>2300.000000</td>\n      <td>0.487950</td>\n      <td></td>\n      <td>s</td>\n      <td>sell-WETH @ 2300.00 USDC per WETH</td>\n    </tr>\n    <tr>\n      <th>057331-0</th>\n      <td>1800.000000</td>\n      <td>5.555556</td>\n      <td></td>\n      <td>b</td>\n      <td>buy-WETH @ 1800.00 USDC per WETH</td>\n    </tr>\n    <tr>\n      <th>057334-0</th>\n      <td>1700.000170</td>\n      <td>0.029412</td>\n      <td></td>\n      <td>b</td>\n      <td>buy-WETH @ 1700.00 USDC per WETH</td>\n    </tr>\n    <tr>\n      <th>057334-1</th>\n      <td>1999.999800</td>\n      <td>0.040000</td>\n      <td></td>\n      <td>s</td>\n      <td>sell-WETH @ 2000.00 USDC per WETH</td>\n    </tr>\n    <tr>\n      <th>057337-0</th>\n      <td>1850.000000</td>\n      <td>1.081081</td>\n      <td></td>\n      <td>b</td>\n      <td>buy-WETH @ 1850.00 USDC per WETH</td>\n    </tr>\n    <tr>\n      <th>057339-0</th>\n      <td>1800.000000</td>\n      <td>0.000556</td>\n      <td></td>\n      <td>b</td>\n      <td>buy-WETH @ 1800.00 USDC per WETH</td>\n    </tr>\n    <tr>\n      <th>057343-1</th>\n      <td>1989.999801</td>\n      <td>1.000000</td>\n      <td></td>\n      <td>s</td>\n      <td>sell-WETH @ 1990.00 USDC per WETH</td>\n    </tr>\n    <tr>\n      <th>057353-0</th>\n      <td>1854.000185</td>\n      <td>4.234699</td>\n      <td>x</td>\n      <td>b</td>\n      <td>buy-WETH @ 1854.00 USDC per WETH</td>\n    </tr>\n    <tr>\n      <th>057353-1</th>\n      <td>2047.999795</td>\n      <td>4.000000</td>\n      <td></td>\n      <td>s</td>\n      <td>sell-WETH @ 2048.00 USDC per WETH</td>\n    </tr>\n    <tr>\n      <th rowspan=\"2\" valign=\"top\">sushiswap_v2</th>\n      <th>803</th>\n      <td>1838.745520</td>\n      <td>17564.479610</td>\n      <td>x</td>\n      <td>bs</td>\n      <td>buy-sell-WETH @ 1838.75 USDC per WETH</td>\n    </tr>\n    <tr>\n      <th>dd65c110</th>\n      <td>1841.913305</td>\n      <td>18392.882153</td>\n      <td>x</td>\n      <td>bs</td>\n      <td>buy-sell-WETH @ 1841.91 USDC per WETH</td>\n    </tr>\n    <tr>\n      <th rowspan=\"2\" valign=\"top\">uniswap_v2</th>\n      <th>0c551073</th>\n      <td>1841.245125</td>\n      <td>32724.988098</td>\n      <td>x</td>\n      <td>bs</td>\n      <td>buy-sell-WETH @ 1841.25 USDC per WETH</td>\n    </tr>\n    <tr>\n      <th>255</th>\n      <td>1840.773969</td>\n      <td>39241.200664</td>\n      <td>x</td>\n      <td>bs</td>\n      <td>buy-sell-WETH @ 1840.77 USDC per WETH</td>\n    </tr>\n    <tr>\n      <th rowspan=\"4\" valign=\"top\">uniswap_v3</th>\n      <th>08cee9b5</th>\n      <td>1837.884991</td>\n      <td>210.709853</td>\n      <td>x</td>\n      <td>bs</td>\n      <td>buy-sell-WETH @ 1837.88 USDC per WETH</td>\n    </tr>\n    <tr>\n      <th>346</th>\n      <td>1848.191535</td>\n      <td>233.930315</td>\n      <td>x</td>\n      <td>bs</td>\n      <td>buy-sell-WETH @ 1848.19 USDC per WETH</td>\n    </tr>\n    <tr>\n      <th>593</th>\n      <td>1832.243200</td>\n      <td>58.054109</td>\n      <td>x</td>\n      <td>bs</td>\n      <td>buy-sell-WETH @ 1832.24 USDC per WETH</td>\n    </tr>\n    <tr>\n      <th>76b13aa0</th>\n      <td>1843.328373</td>\n      <td>503.361718</td>\n      <td>x</td>\n      <td>bs</td>\n      <td>buy-sell-WETH @ 1843.33 USDC per WETH</td>\n    </tr>\n  </tbody>\n</table>\n</div>"
     },
     "execution_count": 55,
     "metadata": {},
     "output_type": "execute_result"
    }
   ],
   "source": [
    "pair = \"WETH-6Cc2/USDC-eB48\"\n",
    "pricedf.loc[Pair.n(pair)]"
   ]
  },
  {
   "cell_type": "code",
   "execution_count": 56,
   "id": "e4afb2f3-5926-4a40-a6be-cb4048232b5e",
   "metadata": {
    "ExecuteTime": {
     "start_time": "2023-05-09T07:19:50.223452Z",
     "end_time": "2023-05-09T07:19:50.226404Z"
    }
   },
   "outputs": [
    {
     "data": {
      "text/plain": "                                                USDC-eB48   WETH-6Cc2\n593                                          41582.307951  -22.606771\n255                                          56450.652563  -30.618946\n6c988ffdc9e74acd97ccfb16dd65c110             21227.643365  -11.510354\n803                                          34158.262754  -18.537726\n00125d264f9d49369a467e7708cee9b5             91305.914678  -49.563418\n1701411834604692317316873037158841057296-0      -1.994537    0.001033\n346                                        -388246.353245  210.162583\n1701411834604692317316873037158841057353-0   -7851.133636    4.234700\n7ed16708962e459abe5431a176b13aa0            108176.797097  -58.665088\n50ac5ace09c1483987af46c60c551073             43227.850692  -23.443872\n1701411834604692317316873037158841057292-0      -6.141325    0.003317\n1701411834604692317316873037158841057337-0     -26.779934    0.014489\nAMMIn                                       396129.429100  214.416122\nAMMOut                                     -396132.402678 -214.946174\nTOTAL NET                                       -2.973578   -0.530053",
      "text/html": "<div>\n<style scoped>\n    .dataframe tbody tr th:only-of-type {\n        vertical-align: middle;\n    }\n\n    .dataframe tbody tr th {\n        vertical-align: top;\n    }\n\n    .dataframe thead th {\n        text-align: right;\n    }\n</style>\n<table border=\"1\" class=\"dataframe\">\n  <thead>\n    <tr style=\"text-align: right;\">\n      <th></th>\n      <th>USDC-eB48</th>\n      <th>WETH-6Cc2</th>\n    </tr>\n  </thead>\n  <tbody>\n    <tr>\n      <th>593</th>\n      <td>41582.307951</td>\n      <td>-22.606771</td>\n    </tr>\n    <tr>\n      <th>255</th>\n      <td>56450.652563</td>\n      <td>-30.618946</td>\n    </tr>\n    <tr>\n      <th>6c988ffdc9e74acd97ccfb16dd65c110</th>\n      <td>21227.643365</td>\n      <td>-11.510354</td>\n    </tr>\n    <tr>\n      <th>803</th>\n      <td>34158.262754</td>\n      <td>-18.537726</td>\n    </tr>\n    <tr>\n      <th>00125d264f9d49369a467e7708cee9b5</th>\n      <td>91305.914678</td>\n      <td>-49.563418</td>\n    </tr>\n    <tr>\n      <th>1701411834604692317316873037158841057296-0</th>\n      <td>-1.994537</td>\n      <td>0.001033</td>\n    </tr>\n    <tr>\n      <th>346</th>\n      <td>-388246.353245</td>\n      <td>210.162583</td>\n    </tr>\n    <tr>\n      <th>1701411834604692317316873037158841057353-0</th>\n      <td>-7851.133636</td>\n      <td>4.234700</td>\n    </tr>\n    <tr>\n      <th>7ed16708962e459abe5431a176b13aa0</th>\n      <td>108176.797097</td>\n      <td>-58.665088</td>\n    </tr>\n    <tr>\n      <th>50ac5ace09c1483987af46c60c551073</th>\n      <td>43227.850692</td>\n      <td>-23.443872</td>\n    </tr>\n    <tr>\n      <th>1701411834604692317316873037158841057292-0</th>\n      <td>-6.141325</td>\n      <td>0.003317</td>\n    </tr>\n    <tr>\n      <th>1701411834604692317316873037158841057337-0</th>\n      <td>-26.779934</td>\n      <td>0.014489</td>\n    </tr>\n    <tr>\n      <th>AMMIn</th>\n      <td>396129.429100</td>\n      <td>214.416122</td>\n    </tr>\n    <tr>\n      <th>AMMOut</th>\n      <td>-396132.402678</td>\n      <td>-214.946174</td>\n    </tr>\n    <tr>\n      <th>TOTAL NET</th>\n      <td>-2.973578</td>\n      <td>-0.530053</td>\n    </tr>\n  </tbody>\n</table>\n</div>"
     },
     "execution_count": 56,
     "metadata": {},
     "output_type": "execute_result"
    }
   ],
   "source": [
    "pi = CA.pair_data(pair)\n",
    "O = CPCArbOptimizer(pi.CC)\n",
    "r = O.margp_optimizer(pair.split(\"/\")[0], params=dict(verbose=False, debug=False))\n",
    "r.trade_instructions(ti_format=O.TIF_DFAGGR)"
   ]
  },
  {
   "cell_type": "code",
   "execution_count": 57,
   "id": "5aba1b68-20ec-41ee-b373-12d37d586013",
   "metadata": {
    "lines_to_next_cell": 2,
    "ExecuteTime": {
     "start_time": "2023-05-09T07:19:50.232113Z",
     "end_time": "2023-05-09T07:19:50.236497Z"
    }
   },
   "outputs": [
    {
     "data": {
      "text/plain": "                                                USDC-eB48     WETH-6Cc2\n593                                          41571.952013 -2.260116e+01\n255                                          56415.726935 -3.060003e+01\n6c988ffdc9e74acd97ccfb16dd65c110             21211.268185 -1.150149e+01\n803                                          34142.638554 -1.852926e+01\n00125d264f9d49369a467e7708cee9b5             91268.311093 -4.954305e+01\n1701411834604692317316873037158841057296-0      -1.994537  1.033440e-03\n346                                        -389081.069793  2.106146e+02\n1701411834604692317316873037158841057353-0   -7851.133636  4.234700e+00\n7ed16708962e459abe5431a176b13aa0            108176.797097 -5.866509e+01\n50ac5ace09c1483987af46c60c551073             43198.720925 -2.342810e+01\n1701411834604692317316873037158841057292-0      -6.141325  3.316581e-03\n1701411834604692317316873037158841057337-0     -26.807486  1.450415e-02\nAMMIn                                       395985.414802  2.148682e+02\nAMMOut                                     -396967.146778 -2.148682e+02\nTOTAL NET                                     -981.731976 -7.791942e-08",
      "text/html": "<div>\n<style scoped>\n    .dataframe tbody tr th:only-of-type {\n        vertical-align: middle;\n    }\n\n    .dataframe tbody tr th {\n        vertical-align: top;\n    }\n\n    .dataframe thead th {\n        text-align: right;\n    }\n</style>\n<table border=\"1\" class=\"dataframe\">\n  <thead>\n    <tr style=\"text-align: right;\">\n      <th></th>\n      <th>USDC-eB48</th>\n      <th>WETH-6Cc2</th>\n    </tr>\n  </thead>\n  <tbody>\n    <tr>\n      <th>593</th>\n      <td>41571.952013</td>\n      <td>-2.260116e+01</td>\n    </tr>\n    <tr>\n      <th>255</th>\n      <td>56415.726935</td>\n      <td>-3.060003e+01</td>\n    </tr>\n    <tr>\n      <th>6c988ffdc9e74acd97ccfb16dd65c110</th>\n      <td>21211.268185</td>\n      <td>-1.150149e+01</td>\n    </tr>\n    <tr>\n      <th>803</th>\n      <td>34142.638554</td>\n      <td>-1.852926e+01</td>\n    </tr>\n    <tr>\n      <th>00125d264f9d49369a467e7708cee9b5</th>\n      <td>91268.311093</td>\n      <td>-4.954305e+01</td>\n    </tr>\n    <tr>\n      <th>1701411834604692317316873037158841057296-0</th>\n      <td>-1.994537</td>\n      <td>1.033440e-03</td>\n    </tr>\n    <tr>\n      <th>346</th>\n      <td>-389081.069793</td>\n      <td>2.106146e+02</td>\n    </tr>\n    <tr>\n      <th>1701411834604692317316873037158841057353-0</th>\n      <td>-7851.133636</td>\n      <td>4.234700e+00</td>\n    </tr>\n    <tr>\n      <th>7ed16708962e459abe5431a176b13aa0</th>\n      <td>108176.797097</td>\n      <td>-5.866509e+01</td>\n    </tr>\n    <tr>\n      <th>50ac5ace09c1483987af46c60c551073</th>\n      <td>43198.720925</td>\n      <td>-2.342810e+01</td>\n    </tr>\n    <tr>\n      <th>1701411834604692317316873037158841057292-0</th>\n      <td>-6.141325</td>\n      <td>3.316581e-03</td>\n    </tr>\n    <tr>\n      <th>1701411834604692317316873037158841057337-0</th>\n      <td>-26.807486</td>\n      <td>1.450415e-02</td>\n    </tr>\n    <tr>\n      <th>AMMIn</th>\n      <td>395985.414802</td>\n      <td>2.148682e+02</td>\n    </tr>\n    <tr>\n      <th>AMMOut</th>\n      <td>-396967.146778</td>\n      <td>-2.148682e+02</td>\n    </tr>\n    <tr>\n      <th>TOTAL NET</th>\n      <td>-981.731976</td>\n      <td>-7.791942e-08</td>\n    </tr>\n  </tbody>\n</table>\n</div>"
     },
     "execution_count": 57,
     "metadata": {},
     "output_type": "execute_result"
    }
   ],
   "source": [
    "r = O.margp_optimizer(pair.split(\"/\")[1])\n",
    "r.trade_instructions(ti_format=O.TIF_DFAGGR)"
   ]
  },
  {
   "cell_type": "markdown",
   "id": "0c588152",
   "metadata": {},
   "source": [
    "#### BNT/WETH"
   ]
  },
  {
   "cell_type": "code",
   "execution_count": 58,
   "id": "2e99c8f3-6f4d-4452-b143-23e293a57bd0",
   "metadata": {
    "ExecuteTime": {
     "start_time": "2023-05-09T07:19:50.239198Z",
     "end_time": "2023-05-09T07:19:50.245164Z"
    }
   },
   "outputs": [
    {
     "data": {
      "text/plain": "                        price            vl itm  bs  \\\nexchange   cid0                                       \nbancor_v2  15838ce4  0.000237  1.219687e+07   x  bs   \n           623       0.000238  1.218001e+07   x  bs   \nbancor_v3  704       0.000237  3.182131e+07   x  bs   \ncarbon_v1  326030-0  0.000253  5.000000e+02       s   \n           326030-1  0.000200  2.500000e+02       b   \n           326031-0  0.000200  7.499999e+02       b   \n           326031-1  0.002000  5.000000e+02       s   \n           326034-0  0.000200  3.500000e+02       b   \n           326034-1  0.002100  2.000000e+02       s   \n           326076-0  0.000253  7.905138e+02   x   b   \n           326077-0  0.000250  3.654723e-01   x   b   \n           326077-1  0.000258  7.936392e+03       s   \nuniswap_v2 290       0.000239  2.155118e+05   x  bs   \n           38fd5e41  0.000235  2.172299e+05   x  bs   \n\n                                                  bsv  \nexchange   cid0                                        \nbancor_v2  15838ce4  buy-sell-BNT @ 0.00 WETH per BNT  \n           623       buy-sell-BNT @ 0.00 WETH per BNT  \nbancor_v3  704       buy-sell-BNT @ 0.00 WETH per BNT  \ncarbon_v1  326030-0      sell-BNT @ 0.00 WETH per BNT  \n           326030-1       buy-BNT @ 0.00 WETH per BNT  \n           326031-0       buy-BNT @ 0.00 WETH per BNT  \n           326031-1      sell-BNT @ 0.00 WETH per BNT  \n           326034-0       buy-BNT @ 0.00 WETH per BNT  \n           326034-1      sell-BNT @ 0.00 WETH per BNT  \n           326076-0       buy-BNT @ 0.00 WETH per BNT  \n           326077-0       buy-BNT @ 0.00 WETH per BNT  \n           326077-1      sell-BNT @ 0.00 WETH per BNT  \nuniswap_v2 290       buy-sell-BNT @ 0.00 WETH per BNT  \n           38fd5e41  buy-sell-BNT @ 0.00 WETH per BNT  ",
      "text/html": "<div>\n<style scoped>\n    .dataframe tbody tr th:only-of-type {\n        vertical-align: middle;\n    }\n\n    .dataframe tbody tr th {\n        vertical-align: top;\n    }\n\n    .dataframe thead th {\n        text-align: right;\n    }\n</style>\n<table border=\"1\" class=\"dataframe\">\n  <thead>\n    <tr style=\"text-align: right;\">\n      <th></th>\n      <th></th>\n      <th>price</th>\n      <th>vl</th>\n      <th>itm</th>\n      <th>bs</th>\n      <th>bsv</th>\n    </tr>\n    <tr>\n      <th>exchange</th>\n      <th>cid0</th>\n      <th></th>\n      <th></th>\n      <th></th>\n      <th></th>\n      <th></th>\n    </tr>\n  </thead>\n  <tbody>\n    <tr>\n      <th rowspan=\"2\" valign=\"top\">bancor_v2</th>\n      <th>15838ce4</th>\n      <td>0.000237</td>\n      <td>1.219687e+07</td>\n      <td>x</td>\n      <td>bs</td>\n      <td>buy-sell-BNT @ 0.00 WETH per BNT</td>\n    </tr>\n    <tr>\n      <th>623</th>\n      <td>0.000238</td>\n      <td>1.218001e+07</td>\n      <td>x</td>\n      <td>bs</td>\n      <td>buy-sell-BNT @ 0.00 WETH per BNT</td>\n    </tr>\n    <tr>\n      <th>bancor_v3</th>\n      <th>704</th>\n      <td>0.000237</td>\n      <td>3.182131e+07</td>\n      <td>x</td>\n      <td>bs</td>\n      <td>buy-sell-BNT @ 0.00 WETH per BNT</td>\n    </tr>\n    <tr>\n      <th rowspan=\"9\" valign=\"top\">carbon_v1</th>\n      <th>326030-0</th>\n      <td>0.000253</td>\n      <td>5.000000e+02</td>\n      <td></td>\n      <td>s</td>\n      <td>sell-BNT @ 0.00 WETH per BNT</td>\n    </tr>\n    <tr>\n      <th>326030-1</th>\n      <td>0.000200</td>\n      <td>2.500000e+02</td>\n      <td></td>\n      <td>b</td>\n      <td>buy-BNT @ 0.00 WETH per BNT</td>\n    </tr>\n    <tr>\n      <th>326031-0</th>\n      <td>0.000200</td>\n      <td>7.499999e+02</td>\n      <td></td>\n      <td>b</td>\n      <td>buy-BNT @ 0.00 WETH per BNT</td>\n    </tr>\n    <tr>\n      <th>326031-1</th>\n      <td>0.002000</td>\n      <td>5.000000e+02</td>\n      <td></td>\n      <td>s</td>\n      <td>sell-BNT @ 0.00 WETH per BNT</td>\n    </tr>\n    <tr>\n      <th>326034-0</th>\n      <td>0.000200</td>\n      <td>3.500000e+02</td>\n      <td></td>\n      <td>b</td>\n      <td>buy-BNT @ 0.00 WETH per BNT</td>\n    </tr>\n    <tr>\n      <th>326034-1</th>\n      <td>0.002100</td>\n      <td>2.000000e+02</td>\n      <td></td>\n      <td>s</td>\n      <td>sell-BNT @ 0.00 WETH per BNT</td>\n    </tr>\n    <tr>\n      <th>326076-0</th>\n      <td>0.000253</td>\n      <td>7.905138e+02</td>\n      <td>x</td>\n      <td>b</td>\n      <td>buy-BNT @ 0.00 WETH per BNT</td>\n    </tr>\n    <tr>\n      <th>326077-0</th>\n      <td>0.000250</td>\n      <td>3.654723e-01</td>\n      <td>x</td>\n      <td>b</td>\n      <td>buy-BNT @ 0.00 WETH per BNT</td>\n    </tr>\n    <tr>\n      <th>326077-1</th>\n      <td>0.000258</td>\n      <td>7.936392e+03</td>\n      <td></td>\n      <td>s</td>\n      <td>sell-BNT @ 0.00 WETH per BNT</td>\n    </tr>\n    <tr>\n      <th rowspan=\"2\" valign=\"top\">uniswap_v2</th>\n      <th>290</th>\n      <td>0.000239</td>\n      <td>2.155118e+05</td>\n      <td>x</td>\n      <td>bs</td>\n      <td>buy-sell-BNT @ 0.00 WETH per BNT</td>\n    </tr>\n    <tr>\n      <th>38fd5e41</th>\n      <td>0.000235</td>\n      <td>2.172299e+05</td>\n      <td>x</td>\n      <td>bs</td>\n      <td>buy-sell-BNT @ 0.00 WETH per BNT</td>\n    </tr>\n  </tbody>\n</table>\n</div>"
     },
     "execution_count": 58,
     "metadata": {},
     "output_type": "execute_result"
    }
   ],
   "source": [
    "pair = \"BNT-FF1C/WETH-6Cc2\"\n",
    "pricedf.loc[Pair.n(pair)]"
   ]
  },
  {
   "cell_type": "code",
   "execution_count": 59,
   "id": "add3b466",
   "metadata": {
    "ExecuteTime": {
     "start_time": "2023-05-09T07:19:50.248173Z",
     "end_time": "2023-05-09T07:19:50.286448Z"
    }
   },
   "outputs": [
    {
     "data": {
      "text/plain": "                                               BNT-FF1C     WETH-6Cc2\n290                                          374.609117 -8.914350e-02\n623                                         5757.572044 -1.366639e+00\n704                                        -3942.754081  9.347516e-01\n30e4e04d729a43ccaf47743d38fd5e41            -483.143937  1.140629e-01\n3743106036130323098097120681749450326076-0   811.641256 -2.000000e-01\n9cd44a1425d34f07890193eb15838ce4           -2561.000640  6.070597e-01\n3743106036130323098097120681749450326077-0     0.365472 -9.136815e-05\nAMMIn                                       6944.187889  1.655874e+00\nAMMOut                                     -6986.898658 -1.655874e+00\nTOTAL NET                                    -42.710769 -1.532756e-10",
      "text/html": "<div>\n<style scoped>\n    .dataframe tbody tr th:only-of-type {\n        vertical-align: middle;\n    }\n\n    .dataframe tbody tr th {\n        vertical-align: top;\n    }\n\n    .dataframe thead th {\n        text-align: right;\n    }\n</style>\n<table border=\"1\" class=\"dataframe\">\n  <thead>\n    <tr style=\"text-align: right;\">\n      <th></th>\n      <th>BNT-FF1C</th>\n      <th>WETH-6Cc2</th>\n    </tr>\n  </thead>\n  <tbody>\n    <tr>\n      <th>290</th>\n      <td>374.609117</td>\n      <td>-8.914350e-02</td>\n    </tr>\n    <tr>\n      <th>623</th>\n      <td>5757.572044</td>\n      <td>-1.366639e+00</td>\n    </tr>\n    <tr>\n      <th>704</th>\n      <td>-3942.754081</td>\n      <td>9.347516e-01</td>\n    </tr>\n    <tr>\n      <th>30e4e04d729a43ccaf47743d38fd5e41</th>\n      <td>-483.143937</td>\n      <td>1.140629e-01</td>\n    </tr>\n    <tr>\n      <th>3743106036130323098097120681749450326076-0</th>\n      <td>811.641256</td>\n      <td>-2.000000e-01</td>\n    </tr>\n    <tr>\n      <th>9cd44a1425d34f07890193eb15838ce4</th>\n      <td>-2561.000640</td>\n      <td>6.070597e-01</td>\n    </tr>\n    <tr>\n      <th>3743106036130323098097120681749450326077-0</th>\n      <td>0.365472</td>\n      <td>-9.136815e-05</td>\n    </tr>\n    <tr>\n      <th>AMMIn</th>\n      <td>6944.187889</td>\n      <td>1.655874e+00</td>\n    </tr>\n    <tr>\n      <th>AMMOut</th>\n      <td>-6986.898658</td>\n      <td>-1.655874e+00</td>\n    </tr>\n    <tr>\n      <th>TOTAL NET</th>\n      <td>-42.710769</td>\n      <td>-1.532756e-10</td>\n    </tr>\n  </tbody>\n</table>\n</div>"
     },
     "execution_count": 59,
     "metadata": {},
     "output_type": "execute_result"
    }
   ],
   "source": [
    "pi = CA.pair_data(pair)\n",
    "O = CPCArbOptimizer(pi.CC)\n",
    "r = O.margp_optimizer(pair.split(\"/\")[0])\n",
    "r.trade_instructions(ti_format=O.TIF_DFAGGR)"
   ]
  },
  {
   "cell_type": "code",
   "execution_count": 60,
   "id": "327d06f9",
   "metadata": {
    "lines_to_next_cell": 2,
    "ExecuteTime": {
     "start_time": "2023-05-09T07:19:50.257187Z",
     "end_time": "2023-05-09T07:19:50.309872Z"
    }
   },
   "outputs": [
    {
     "data": {
      "text/plain": "                                                BNT-FF1C  WETH-6Cc2\n290                                         3.747722e+02  -0.089182\n623                                         5.766767e+03  -1.368820\n704                                        -3.918760e+03   0.929062\n30e4e04d729a43ccaf47743d38fd5e41           -4.829808e+02   0.114024\n3743106036130323098097120681749450326076-0  8.116413e+02  -0.200000\n9cd44a1425d34f07890193eb15838ce4           -2.551805e+03   0.604879\n3743106036130323098097120681749450326077-0  3.654725e-01  -0.000091\nAMMIn                                       6.953546e+03   1.647965\nAMMOut                                     -6.953546e+03  -1.658093\nTOTAL NET                                   1.022236e-07  -0.010128",
      "text/html": "<div>\n<style scoped>\n    .dataframe tbody tr th:only-of-type {\n        vertical-align: middle;\n    }\n\n    .dataframe tbody tr th {\n        vertical-align: top;\n    }\n\n    .dataframe thead th {\n        text-align: right;\n    }\n</style>\n<table border=\"1\" class=\"dataframe\">\n  <thead>\n    <tr style=\"text-align: right;\">\n      <th></th>\n      <th>BNT-FF1C</th>\n      <th>WETH-6Cc2</th>\n    </tr>\n  </thead>\n  <tbody>\n    <tr>\n      <th>290</th>\n      <td>3.747722e+02</td>\n      <td>-0.089182</td>\n    </tr>\n    <tr>\n      <th>623</th>\n      <td>5.766767e+03</td>\n      <td>-1.368820</td>\n    </tr>\n    <tr>\n      <th>704</th>\n      <td>-3.918760e+03</td>\n      <td>0.929062</td>\n    </tr>\n    <tr>\n      <th>30e4e04d729a43ccaf47743d38fd5e41</th>\n      <td>-4.829808e+02</td>\n      <td>0.114024</td>\n    </tr>\n    <tr>\n      <th>3743106036130323098097120681749450326076-0</th>\n      <td>8.116413e+02</td>\n      <td>-0.200000</td>\n    </tr>\n    <tr>\n      <th>9cd44a1425d34f07890193eb15838ce4</th>\n      <td>-2.551805e+03</td>\n      <td>0.604879</td>\n    </tr>\n    <tr>\n      <th>3743106036130323098097120681749450326077-0</th>\n      <td>3.654725e-01</td>\n      <td>-0.000091</td>\n    </tr>\n    <tr>\n      <th>AMMIn</th>\n      <td>6.953546e+03</td>\n      <td>1.647965</td>\n    </tr>\n    <tr>\n      <th>AMMOut</th>\n      <td>-6.953546e+03</td>\n      <td>-1.658093</td>\n    </tr>\n    <tr>\n      <th>TOTAL NET</th>\n      <td>1.022236e-07</td>\n      <td>-0.010128</td>\n    </tr>\n  </tbody>\n</table>\n</div>"
     },
     "execution_count": 60,
     "metadata": {},
     "output_type": "execute_result"
    }
   ],
   "source": [
    "r = O.margp_optimizer(pair.split(\"/\")[1])\n",
    "r.trade_instructions(ti_format=O.TIF_DFAGGR)"
   ]
  },
  {
   "cell_type": "markdown",
   "id": "415be231",
   "metadata": {},
   "source": [
    "#### BNT/vBNT"
   ]
  },
  {
   "cell_type": "code",
   "execution_count": 61,
   "id": "3b269245",
   "metadata": {
    "ExecuteTime": {
     "start_time": "2023-05-09T07:19:50.264269Z",
     "end_time": "2023-05-09T07:19:50.424740Z"
    }
   },
   "outputs": [
    {
     "data": {
      "text/plain": "                       price            vl itm  bs  \\\nexchange  cid0                                       \nbancor_v2 653       1.333016  5.350297e+04   x  bs   \n          e5f19b21  1.333016  5.350297e+04   x  bs   \nbancor_v3 742       1.252518  2.466230e+06   x  bs   \ncarbon_v1 748950-0  0.940000  1.413879e+04       b   \n          748965-1  0.909091  1.129751e+03       b   \n          748966-1  1.000000  1.089256e+03       b   \n          748976-0  1.331480  2.593859e+02       s   \n          748976-1  1.111111  7.293739e+02   x   b   \n          748977-0  1.428571  5.000000e+02       s   \n          748977-1  1.250000  4.000000e+02   x   b   \n          748990-0  1.052632  3.000000e+02   x   s   \n          748990-1  0.952381  8.383963e+02       b   \n\n                                                 bsv  \nexchange  cid0                                        \nbancor_v2 653       buy-sell-BNT @ 1.33 vBNT per BNT  \n          e5f19b21  buy-sell-BNT @ 1.33 vBNT per BNT  \nbancor_v3 742       buy-sell-BNT @ 1.25 vBNT per BNT  \ncarbon_v1 748950-0       buy-BNT @ 0.94 vBNT per BNT  \n          748965-1       buy-BNT @ 0.91 vBNT per BNT  \n          748966-1       buy-BNT @ 1.00 vBNT per BNT  \n          748976-0      sell-BNT @ 1.33 vBNT per BNT  \n          748976-1       buy-BNT @ 1.11 vBNT per BNT  \n          748977-0      sell-BNT @ 1.43 vBNT per BNT  \n          748977-1       buy-BNT @ 1.25 vBNT per BNT  \n          748990-0      sell-BNT @ 1.05 vBNT per BNT  \n          748990-1       buy-BNT @ 0.95 vBNT per BNT  ",
      "text/html": "<div>\n<style scoped>\n    .dataframe tbody tr th:only-of-type {\n        vertical-align: middle;\n    }\n\n    .dataframe tbody tr th {\n        vertical-align: top;\n    }\n\n    .dataframe thead th {\n        text-align: right;\n    }\n</style>\n<table border=\"1\" class=\"dataframe\">\n  <thead>\n    <tr style=\"text-align: right;\">\n      <th></th>\n      <th></th>\n      <th>price</th>\n      <th>vl</th>\n      <th>itm</th>\n      <th>bs</th>\n      <th>bsv</th>\n    </tr>\n    <tr>\n      <th>exchange</th>\n      <th>cid0</th>\n      <th></th>\n      <th></th>\n      <th></th>\n      <th></th>\n      <th></th>\n    </tr>\n  </thead>\n  <tbody>\n    <tr>\n      <th rowspan=\"2\" valign=\"top\">bancor_v2</th>\n      <th>653</th>\n      <td>1.333016</td>\n      <td>5.350297e+04</td>\n      <td>x</td>\n      <td>bs</td>\n      <td>buy-sell-BNT @ 1.33 vBNT per BNT</td>\n    </tr>\n    <tr>\n      <th>e5f19b21</th>\n      <td>1.333016</td>\n      <td>5.350297e+04</td>\n      <td>x</td>\n      <td>bs</td>\n      <td>buy-sell-BNT @ 1.33 vBNT per BNT</td>\n    </tr>\n    <tr>\n      <th>bancor_v3</th>\n      <th>742</th>\n      <td>1.252518</td>\n      <td>2.466230e+06</td>\n      <td>x</td>\n      <td>bs</td>\n      <td>buy-sell-BNT @ 1.25 vBNT per BNT</td>\n    </tr>\n    <tr>\n      <th rowspan=\"9\" valign=\"top\">carbon_v1</th>\n      <th>748950-0</th>\n      <td>0.940000</td>\n      <td>1.413879e+04</td>\n      <td></td>\n      <td>b</td>\n      <td>buy-BNT @ 0.94 vBNT per BNT</td>\n    </tr>\n    <tr>\n      <th>748965-1</th>\n      <td>0.909091</td>\n      <td>1.129751e+03</td>\n      <td></td>\n      <td>b</td>\n      <td>buy-BNT @ 0.91 vBNT per BNT</td>\n    </tr>\n    <tr>\n      <th>748966-1</th>\n      <td>1.000000</td>\n      <td>1.089256e+03</td>\n      <td></td>\n      <td>b</td>\n      <td>buy-BNT @ 1.00 vBNT per BNT</td>\n    </tr>\n    <tr>\n      <th>748976-0</th>\n      <td>1.331480</td>\n      <td>2.593859e+02</td>\n      <td></td>\n      <td>s</td>\n      <td>sell-BNT @ 1.33 vBNT per BNT</td>\n    </tr>\n    <tr>\n      <th>748976-1</th>\n      <td>1.111111</td>\n      <td>7.293739e+02</td>\n      <td>x</td>\n      <td>b</td>\n      <td>buy-BNT @ 1.11 vBNT per BNT</td>\n    </tr>\n    <tr>\n      <th>748977-0</th>\n      <td>1.428571</td>\n      <td>5.000000e+02</td>\n      <td></td>\n      <td>s</td>\n      <td>sell-BNT @ 1.43 vBNT per BNT</td>\n    </tr>\n    <tr>\n      <th>748977-1</th>\n      <td>1.250000</td>\n      <td>4.000000e+02</td>\n      <td>x</td>\n      <td>b</td>\n      <td>buy-BNT @ 1.25 vBNT per BNT</td>\n    </tr>\n    <tr>\n      <th>748990-0</th>\n      <td>1.052632</td>\n      <td>3.000000e+02</td>\n      <td>x</td>\n      <td>s</td>\n      <td>sell-BNT @ 1.05 vBNT per BNT</td>\n    </tr>\n    <tr>\n      <th>748990-1</th>\n      <td>0.952381</td>\n      <td>8.383963e+02</td>\n      <td></td>\n      <td>b</td>\n      <td>buy-BNT @ 0.95 vBNT per BNT</td>\n    </tr>\n  </tbody>\n</table>\n</div>"
     },
     "execution_count": 61,
     "metadata": {},
     "output_type": "execute_result"
    }
   ],
   "source": [
    "pair = \"BNT-FF1C/vBNT-7f94\"\n",
    "pricedf.loc[Pair.n(pair)]"
   ]
  },
  {
   "cell_type": "code",
   "execution_count": 62,
   "id": "c0558ec4",
   "metadata": {
    "ExecuteTime": {
     "start_time": "2023-05-09T07:19:50.270398Z",
     "end_time": "2023-05-09T07:19:50.447223Z"
    }
   },
   "outputs": [
    {
     "data": {
      "text/plain": "                                               BNT-FF1C     vBNT-7f94\n653                                          814.443151 -1.053589e+03\ncdae0b93cfa44a2195605c15e5f19b21             814.443151 -1.053589e+03\n4423670769972200025023869896612986748990-0  -300.000000  3.244428e+02\n742                                        -1421.680869  1.782736e+03\nAMMIn                                       1628.886302  2.107179e+03\nAMMOut                                     -1721.680869 -2.107179e+03\nTOTAL NET                                    -92.794567 -8.982170e-09",
      "text/html": "<div>\n<style scoped>\n    .dataframe tbody tr th:only-of-type {\n        vertical-align: middle;\n    }\n\n    .dataframe tbody tr th {\n        vertical-align: top;\n    }\n\n    .dataframe thead th {\n        text-align: right;\n    }\n</style>\n<table border=\"1\" class=\"dataframe\">\n  <thead>\n    <tr style=\"text-align: right;\">\n      <th></th>\n      <th>BNT-FF1C</th>\n      <th>vBNT-7f94</th>\n    </tr>\n  </thead>\n  <tbody>\n    <tr>\n      <th>653</th>\n      <td>814.443151</td>\n      <td>-1.053589e+03</td>\n    </tr>\n    <tr>\n      <th>cdae0b93cfa44a2195605c15e5f19b21</th>\n      <td>814.443151</td>\n      <td>-1.053589e+03</td>\n    </tr>\n    <tr>\n      <th>4423670769972200025023869896612986748990-0</th>\n      <td>-300.000000</td>\n      <td>3.244428e+02</td>\n    </tr>\n    <tr>\n      <th>742</th>\n      <td>-1421.680869</td>\n      <td>1.782736e+03</td>\n    </tr>\n    <tr>\n      <th>AMMIn</th>\n      <td>1628.886302</td>\n      <td>2.107179e+03</td>\n    </tr>\n    <tr>\n      <th>AMMOut</th>\n      <td>-1721.680869</td>\n      <td>-2.107179e+03</td>\n    </tr>\n    <tr>\n      <th>TOTAL NET</th>\n      <td>-92.794567</td>\n      <td>-8.982170e-09</td>\n    </tr>\n  </tbody>\n</table>\n</div>"
     },
     "execution_count": 62,
     "metadata": {},
     "output_type": "execute_result"
    }
   ],
   "source": [
    "pi = CA.pair_data(pair)\n",
    "O = CPCArbOptimizer(pi.CC)\n",
    "r = O.margp_optimizer(pair.split(\"/\")[0])\n",
    "r.trade_instructions(ti_format=O.TIF_DFAGGR)"
   ]
  },
  {
   "cell_type": "code",
   "execution_count": 63,
   "id": "3bd1cdcf",
   "metadata": {
    "lines_to_next_cell": 2,
    "ExecuteTime": {
     "start_time": "2023-05-09T07:19:50.284002Z",
     "end_time": "2023-05-09T07:19:50.447402Z"
    }
   },
   "outputs": [
    {
     "data": {
      "text/plain": "                                                BNT-FF1C    vBNT-7f94\n653                                         8.164310e+02 -1056.084647\ncdae0b93cfa44a2195605c15e5f19b21            8.164310e+02 -1056.084647\n4423670769972200025023869896612986748990-0 -3.000000e+02   324.442842\n742                                        -1.332862e+03  1671.239552\nAMMIn                                       1.632862e+03  1995.682394\nAMMOut                                     -1.632862e+03 -2112.169294\nTOTAL NET                                  -3.034074e-08  -116.486899",
      "text/html": "<div>\n<style scoped>\n    .dataframe tbody tr th:only-of-type {\n        vertical-align: middle;\n    }\n\n    .dataframe tbody tr th {\n        vertical-align: top;\n    }\n\n    .dataframe thead th {\n        text-align: right;\n    }\n</style>\n<table border=\"1\" class=\"dataframe\">\n  <thead>\n    <tr style=\"text-align: right;\">\n      <th></th>\n      <th>BNT-FF1C</th>\n      <th>vBNT-7f94</th>\n    </tr>\n  </thead>\n  <tbody>\n    <tr>\n      <th>653</th>\n      <td>8.164310e+02</td>\n      <td>-1056.084647</td>\n    </tr>\n    <tr>\n      <th>cdae0b93cfa44a2195605c15e5f19b21</th>\n      <td>8.164310e+02</td>\n      <td>-1056.084647</td>\n    </tr>\n    <tr>\n      <th>4423670769972200025023869896612986748990-0</th>\n      <td>-3.000000e+02</td>\n      <td>324.442842</td>\n    </tr>\n    <tr>\n      <th>742</th>\n      <td>-1.332862e+03</td>\n      <td>1671.239552</td>\n    </tr>\n    <tr>\n      <th>AMMIn</th>\n      <td>1.632862e+03</td>\n      <td>1995.682394</td>\n    </tr>\n    <tr>\n      <th>AMMOut</th>\n      <td>-1.632862e+03</td>\n      <td>-2112.169294</td>\n    </tr>\n    <tr>\n      <th>TOTAL NET</th>\n      <td>-3.034074e-08</td>\n      <td>-116.486899</td>\n    </tr>\n  </tbody>\n</table>\n</div>"
     },
     "execution_count": 63,
     "metadata": {},
     "output_type": "execute_result"
    }
   ],
   "source": [
    "r = O.margp_optimizer(pair.split(\"/\")[1])\n",
    "r.trade_instructions(ti_format=O.TIF_DFAGGR)"
   ]
  },
  {
   "cell_type": "markdown",
   "id": "29c59271",
   "metadata": {},
   "source": [
    "#### USDT/USDC"
   ]
  },
  {
   "cell_type": "code",
   "execution_count": 64,
   "id": "a571292f-6141-49e8-970e-15aebb0a7717",
   "metadata": {
    "ExecuteTime": {
     "start_time": "2023-05-09T07:19:50.292377Z",
     "end_time": "2023-05-09T07:19:50.468119Z"
    }
   },
   "outputs": [
    {
     "data": {
      "text/plain": "                          price            vl itm  bs  \\\nexchange     cid0                                       \ncarbon_v1    634371-0  1.005025  5.010000e+01       s   \n             634371-1  0.995025  5.040025e+01   x   b   \n             634391-0  1.001001  5.050000e+02       s   \n             634391-1  1.000690  4.946550e+02   x   b   \nsushiswap_v2 805       0.960965  1.885667e+03   x  bs   \n             b22d879b  0.968776  1.878061e+03   x  bs   \nuniswap_v2   246       0.998090  2.373632e+07   x  bs   \n             9b269168  1.001828  2.366179e+07   x  bs   \nuniswap_v3   2616d525  1.002654  3.514249e+03   x  bs   \n             357       1.002654  3.514249e+03   x  bs   \n             486       1.000655  2.366083e+06   x  bs   \n             b7be04bd  1.000783  6.273568e+06   x  bs   \n             d42fa3d0  1.000675  6.048697e+06   x  bs   \n\n                                                      bsv  \nexchange     cid0                                          \ncarbon_v1    634371-0      sell-USDT @ 1.01 USDC per USDT  \n             634371-1       buy-USDT @ 1.00 USDC per USDT  \n             634391-0      sell-USDT @ 1.00 USDC per USDT  \n             634391-1       buy-USDT @ 1.00 USDC per USDT  \nsushiswap_v2 805       buy-sell-USDT @ 0.96 USDC per USDT  \n             b22d879b  buy-sell-USDT @ 0.97 USDC per USDT  \nuniswap_v2   246       buy-sell-USDT @ 1.00 USDC per USDT  \n             9b269168  buy-sell-USDT @ 1.00 USDC per USDT  \nuniswap_v3   2616d525  buy-sell-USDT @ 1.00 USDC per USDT  \n             357       buy-sell-USDT @ 1.00 USDC per USDT  \n             486       buy-sell-USDT @ 1.00 USDC per USDT  \n             b7be04bd  buy-sell-USDT @ 1.00 USDC per USDT  \n             d42fa3d0  buy-sell-USDT @ 1.00 USDC per USDT  ",
      "text/html": "<div>\n<style scoped>\n    .dataframe tbody tr th:only-of-type {\n        vertical-align: middle;\n    }\n\n    .dataframe tbody tr th {\n        vertical-align: top;\n    }\n\n    .dataframe thead th {\n        text-align: right;\n    }\n</style>\n<table border=\"1\" class=\"dataframe\">\n  <thead>\n    <tr style=\"text-align: right;\">\n      <th></th>\n      <th></th>\n      <th>price</th>\n      <th>vl</th>\n      <th>itm</th>\n      <th>bs</th>\n      <th>bsv</th>\n    </tr>\n    <tr>\n      <th>exchange</th>\n      <th>cid0</th>\n      <th></th>\n      <th></th>\n      <th></th>\n      <th></th>\n      <th></th>\n    </tr>\n  </thead>\n  <tbody>\n    <tr>\n      <th rowspan=\"4\" valign=\"top\">carbon_v1</th>\n      <th>634371-0</th>\n      <td>1.005025</td>\n      <td>5.010000e+01</td>\n      <td></td>\n      <td>s</td>\n      <td>sell-USDT @ 1.01 USDC per USDT</td>\n    </tr>\n    <tr>\n      <th>634371-1</th>\n      <td>0.995025</td>\n      <td>5.040025e+01</td>\n      <td>x</td>\n      <td>b</td>\n      <td>buy-USDT @ 1.00 USDC per USDT</td>\n    </tr>\n    <tr>\n      <th>634391-0</th>\n      <td>1.001001</td>\n      <td>5.050000e+02</td>\n      <td></td>\n      <td>s</td>\n      <td>sell-USDT @ 1.00 USDC per USDT</td>\n    </tr>\n    <tr>\n      <th>634391-1</th>\n      <td>1.000690</td>\n      <td>4.946550e+02</td>\n      <td>x</td>\n      <td>b</td>\n      <td>buy-USDT @ 1.00 USDC per USDT</td>\n    </tr>\n    <tr>\n      <th rowspan=\"2\" valign=\"top\">sushiswap_v2</th>\n      <th>805</th>\n      <td>0.960965</td>\n      <td>1.885667e+03</td>\n      <td>x</td>\n      <td>bs</td>\n      <td>buy-sell-USDT @ 0.96 USDC per USDT</td>\n    </tr>\n    <tr>\n      <th>b22d879b</th>\n      <td>0.968776</td>\n      <td>1.878061e+03</td>\n      <td>x</td>\n      <td>bs</td>\n      <td>buy-sell-USDT @ 0.97 USDC per USDT</td>\n    </tr>\n    <tr>\n      <th rowspan=\"2\" valign=\"top\">uniswap_v2</th>\n      <th>246</th>\n      <td>0.998090</td>\n      <td>2.373632e+07</td>\n      <td>x</td>\n      <td>bs</td>\n      <td>buy-sell-USDT @ 1.00 USDC per USDT</td>\n    </tr>\n    <tr>\n      <th>9b269168</th>\n      <td>1.001828</td>\n      <td>2.366179e+07</td>\n      <td>x</td>\n      <td>bs</td>\n      <td>buy-sell-USDT @ 1.00 USDC per USDT</td>\n    </tr>\n    <tr>\n      <th rowspan=\"5\" valign=\"top\">uniswap_v3</th>\n      <th>2616d525</th>\n      <td>1.002654</td>\n      <td>3.514249e+03</td>\n      <td>x</td>\n      <td>bs</td>\n      <td>buy-sell-USDT @ 1.00 USDC per USDT</td>\n    </tr>\n    <tr>\n      <th>357</th>\n      <td>1.002654</td>\n      <td>3.514249e+03</td>\n      <td>x</td>\n      <td>bs</td>\n      <td>buy-sell-USDT @ 1.00 USDC per USDT</td>\n    </tr>\n    <tr>\n      <th>486</th>\n      <td>1.000655</td>\n      <td>2.366083e+06</td>\n      <td>x</td>\n      <td>bs</td>\n      <td>buy-sell-USDT @ 1.00 USDC per USDT</td>\n    </tr>\n    <tr>\n      <th>b7be04bd</th>\n      <td>1.000783</td>\n      <td>6.273568e+06</td>\n      <td>x</td>\n      <td>bs</td>\n      <td>buy-sell-USDT @ 1.00 USDC per USDT</td>\n    </tr>\n    <tr>\n      <th>d42fa3d0</th>\n      <td>1.000675</td>\n      <td>6.048697e+06</td>\n      <td>x</td>\n      <td>bs</td>\n      <td>buy-sell-USDT @ 1.00 USDC per USDT</td>\n    </tr>\n  </tbody>\n</table>\n</div>"
     },
     "execution_count": 64,
     "metadata": {},
     "output_type": "execute_result"
    }
   ],
   "source": [
    "pair = \"USDT-1ec7/USDC-eB48\"\n",
    "pricedf.loc[Pair.n(pair)]"
   ]
  },
  {
   "cell_type": "code",
   "execution_count": 65,
   "id": "9e29766c",
   "metadata": {
    "ExecuteTime": {
     "start_time": "2023-05-09T07:19:50.301958Z",
     "end_time": "2023-05-09T07:19:50.508744Z"
    }
   },
   "outputs": [
    {
     "data": {
      "text/plain": "                                                USDT-1ec7      USDC-eB48\n357                                           1157.643881   -1159.571540\n246                                         -15349.026041   15339.553785\n486                                        -532123.253410  532477.537949\n805                                            -18.897843      18.531599\na3c4f16e3fd042ab93650511b22d879b               -15.089304      14.856886\nc9a1ba7537f242ecacf31755b7be04bd            664337.575800 -664822.553961\n1cc430ac74f7494cb011948f9b269168              6799.232088   -6807.745655\n15c7994e2d2c468fbad5fb782616d525              1157.643881   -1159.571540\n4c50c9e4fdde4aefbf495b30d42fa3d0           -126020.483414  126105.673706\n1020847100762815390390123822295304634391-1       6.706633      -6.711219\nAMMIn                                       673458.802283  673956.153925\nAMMOut                                     -673526.750012 -673956.153913\nTOTAL NET                                      -67.947730       0.000011",
      "text/html": "<div>\n<style scoped>\n    .dataframe tbody tr th:only-of-type {\n        vertical-align: middle;\n    }\n\n    .dataframe tbody tr th {\n        vertical-align: top;\n    }\n\n    .dataframe thead th {\n        text-align: right;\n    }\n</style>\n<table border=\"1\" class=\"dataframe\">\n  <thead>\n    <tr style=\"text-align: right;\">\n      <th></th>\n      <th>USDT-1ec7</th>\n      <th>USDC-eB48</th>\n    </tr>\n  </thead>\n  <tbody>\n    <tr>\n      <th>357</th>\n      <td>1157.643881</td>\n      <td>-1159.571540</td>\n    </tr>\n    <tr>\n      <th>246</th>\n      <td>-15349.026041</td>\n      <td>15339.553785</td>\n    </tr>\n    <tr>\n      <th>486</th>\n      <td>-532123.253410</td>\n      <td>532477.537949</td>\n    </tr>\n    <tr>\n      <th>805</th>\n      <td>-18.897843</td>\n      <td>18.531599</td>\n    </tr>\n    <tr>\n      <th>a3c4f16e3fd042ab93650511b22d879b</th>\n      <td>-15.089304</td>\n      <td>14.856886</td>\n    </tr>\n    <tr>\n      <th>c9a1ba7537f242ecacf31755b7be04bd</th>\n      <td>664337.575800</td>\n      <td>-664822.553961</td>\n    </tr>\n    <tr>\n      <th>1cc430ac74f7494cb011948f9b269168</th>\n      <td>6799.232088</td>\n      <td>-6807.745655</td>\n    </tr>\n    <tr>\n      <th>15c7994e2d2c468fbad5fb782616d525</th>\n      <td>1157.643881</td>\n      <td>-1159.571540</td>\n    </tr>\n    <tr>\n      <th>4c50c9e4fdde4aefbf495b30d42fa3d0</th>\n      <td>-126020.483414</td>\n      <td>126105.673706</td>\n    </tr>\n    <tr>\n      <th>1020847100762815390390123822295304634391-1</th>\n      <td>6.706633</td>\n      <td>-6.711219</td>\n    </tr>\n    <tr>\n      <th>AMMIn</th>\n      <td>673458.802283</td>\n      <td>673956.153925</td>\n    </tr>\n    <tr>\n      <th>AMMOut</th>\n      <td>-673526.750012</td>\n      <td>-673956.153913</td>\n    </tr>\n    <tr>\n      <th>TOTAL NET</th>\n      <td>-67.947730</td>\n      <td>0.000011</td>\n    </tr>\n  </tbody>\n</table>\n</div>"
     },
     "execution_count": 65,
     "metadata": {},
     "output_type": "execute_result"
    }
   ],
   "source": [
    "pi = CA.pair_data(pair)\n",
    "O = CPCArbOptimizer(pi.CC)\n",
    "r = O.margp_optimizer(pair.split(\"/\")[0])\n",
    "r.trade_instructions(ti_format=O.TIF_DFAGGR)"
   ]
  },
  {
   "cell_type": "code",
   "execution_count": 66,
   "id": "5b4172cd",
   "metadata": {
    "lines_to_next_cell": 2,
    "ExecuteTime": {
     "start_time": "2023-05-09T07:19:50.310755Z",
     "end_time": "2023-05-09T07:19:50.565098Z"
    }
   },
   "outputs": [
    {
     "data": {
      "text/plain": "                                                USDT-1ec7      USDC-eB48\n357                                           1157.644322   -1159.571981\n246                                         -15349.021589   15339.549330\n486                                        -532105.476410  532459.748909\n805                                            -18.897842      18.531599\na3c4f16e3fd042ab93650511b22d879b               -15.089304      14.856886\nc9a1ba7537f242ecacf31755b7be04bd            664342.290316 -664827.271669\n1cc430ac74f7494cb011948f9b269168              6799.236535   -6807.750104\n15c7994e2d2c468fbad5fb782616d525              1157.644322   -1159.571981\n4c50c9e4fdde4aefbf495b30d42fa3d0           -125975.037369  126060.196884\n1020847100762815390390123822295304634391-1       6.707008      -6.711594\nAMMIn                                       673463.522502  673892.883607\nAMMOut                                     -673463.522514 -673960.877330\nTOTAL NET                                       -0.000012     -67.993723",
      "text/html": "<div>\n<style scoped>\n    .dataframe tbody tr th:only-of-type {\n        vertical-align: middle;\n    }\n\n    .dataframe tbody tr th {\n        vertical-align: top;\n    }\n\n    .dataframe thead th {\n        text-align: right;\n    }\n</style>\n<table border=\"1\" class=\"dataframe\">\n  <thead>\n    <tr style=\"text-align: right;\">\n      <th></th>\n      <th>USDT-1ec7</th>\n      <th>USDC-eB48</th>\n    </tr>\n  </thead>\n  <tbody>\n    <tr>\n      <th>357</th>\n      <td>1157.644322</td>\n      <td>-1159.571981</td>\n    </tr>\n    <tr>\n      <th>246</th>\n      <td>-15349.021589</td>\n      <td>15339.549330</td>\n    </tr>\n    <tr>\n      <th>486</th>\n      <td>-532105.476410</td>\n      <td>532459.748909</td>\n    </tr>\n    <tr>\n      <th>805</th>\n      <td>-18.897842</td>\n      <td>18.531599</td>\n    </tr>\n    <tr>\n      <th>a3c4f16e3fd042ab93650511b22d879b</th>\n      <td>-15.089304</td>\n      <td>14.856886</td>\n    </tr>\n    <tr>\n      <th>c9a1ba7537f242ecacf31755b7be04bd</th>\n      <td>664342.290316</td>\n      <td>-664827.271669</td>\n    </tr>\n    <tr>\n      <th>1cc430ac74f7494cb011948f9b269168</th>\n      <td>6799.236535</td>\n      <td>-6807.750104</td>\n    </tr>\n    <tr>\n      <th>15c7994e2d2c468fbad5fb782616d525</th>\n      <td>1157.644322</td>\n      <td>-1159.571981</td>\n    </tr>\n    <tr>\n      <th>4c50c9e4fdde4aefbf495b30d42fa3d0</th>\n      <td>-125975.037369</td>\n      <td>126060.196884</td>\n    </tr>\n    <tr>\n      <th>1020847100762815390390123822295304634391-1</th>\n      <td>6.707008</td>\n      <td>-6.711594</td>\n    </tr>\n    <tr>\n      <th>AMMIn</th>\n      <td>673463.522502</td>\n      <td>673892.883607</td>\n    </tr>\n    <tr>\n      <th>AMMOut</th>\n      <td>-673463.522514</td>\n      <td>-673960.877330</td>\n    </tr>\n    <tr>\n      <th>TOTAL NET</th>\n      <td>-0.000012</td>\n      <td>-67.993723</td>\n    </tr>\n  </tbody>\n</table>\n</div>"
     },
     "execution_count": 66,
     "metadata": {},
     "output_type": "execute_result"
    }
   ],
   "source": [
    "r = O.margp_optimizer(pair.split(\"/\")[1])\n",
    "r.trade_instructions(ti_format=O.TIF_DFAGGR)"
   ]
  },
  {
   "cell_type": "markdown",
   "id": "6b1f3b01",
   "metadata": {},
   "source": [
    "#### WBTC/WETH"
   ]
  },
  {
   "cell_type": "code",
   "execution_count": 67,
   "id": "d456faa0-5b17-4c1d-8b87-bcd58752623f",
   "metadata": {
    "ExecuteTime": {
     "start_time": "2023-05-09T07:19:50.319036Z",
     "end_time": "2023-05-09T07:19:50.626002Z"
    }
   },
   "outputs": [
    {
     "data": {
      "text/plain": "                           price          vl itm  bs  \\\nexchange     cid0                                      \ncarbon_v1    709362-0  15.399750    0.133758       s   \n             709362-1  14.285714    0.417087       b   \nsushiswap_v2 804       14.999746  779.023840      bs   \n             eee68882  14.980919  779.513941      bs   \nuniswap_v3   23c8e88d  15.097158    0.127246      bs   \n             3d1aaf34  14.992129  209.185313      bs   \n             466       15.097158    0.127246      bs   \n             478       15.105116    0.000017      bs   \n             4e3d56b9  15.023596    0.000017      bs   \n             edc87668  14.974717   17.775987      bs   \n\n                                                       bsv  \nexchange     cid0                                           \ncarbon_v1    709362-0      sell-WBTC @ 15.40 WETH per WBTC  \n             709362-1       buy-WBTC @ 14.29 WETH per WBTC  \nsushiswap_v2 804       buy-sell-WBTC @ 15.00 WETH per WBTC  \n             eee68882  buy-sell-WBTC @ 14.98 WETH per WBTC  \nuniswap_v3   23c8e88d  buy-sell-WBTC @ 15.10 WETH per WBTC  \n             3d1aaf34  buy-sell-WBTC @ 14.99 WETH per WBTC  \n             466       buy-sell-WBTC @ 15.10 WETH per WBTC  \n             478       buy-sell-WBTC @ 15.11 WETH per WBTC  \n             4e3d56b9  buy-sell-WBTC @ 15.02 WETH per WBTC  \n             edc87668  buy-sell-WBTC @ 14.97 WETH per WBTC  ",
      "text/html": "<div>\n<style scoped>\n    .dataframe tbody tr th:only-of-type {\n        vertical-align: middle;\n    }\n\n    .dataframe tbody tr th {\n        vertical-align: top;\n    }\n\n    .dataframe thead th {\n        text-align: right;\n    }\n</style>\n<table border=\"1\" class=\"dataframe\">\n  <thead>\n    <tr style=\"text-align: right;\">\n      <th></th>\n      <th></th>\n      <th>price</th>\n      <th>vl</th>\n      <th>itm</th>\n      <th>bs</th>\n      <th>bsv</th>\n    </tr>\n    <tr>\n      <th>exchange</th>\n      <th>cid0</th>\n      <th></th>\n      <th></th>\n      <th></th>\n      <th></th>\n      <th></th>\n    </tr>\n  </thead>\n  <tbody>\n    <tr>\n      <th rowspan=\"2\" valign=\"top\">carbon_v1</th>\n      <th>709362-0</th>\n      <td>15.399750</td>\n      <td>0.133758</td>\n      <td></td>\n      <td>s</td>\n      <td>sell-WBTC @ 15.40 WETH per WBTC</td>\n    </tr>\n    <tr>\n      <th>709362-1</th>\n      <td>14.285714</td>\n      <td>0.417087</td>\n      <td></td>\n      <td>b</td>\n      <td>buy-WBTC @ 14.29 WETH per WBTC</td>\n    </tr>\n    <tr>\n      <th rowspan=\"2\" valign=\"top\">sushiswap_v2</th>\n      <th>804</th>\n      <td>14.999746</td>\n      <td>779.023840</td>\n      <td></td>\n      <td>bs</td>\n      <td>buy-sell-WBTC @ 15.00 WETH per WBTC</td>\n    </tr>\n    <tr>\n      <th>eee68882</th>\n      <td>14.980919</td>\n      <td>779.513941</td>\n      <td></td>\n      <td>bs</td>\n      <td>buy-sell-WBTC @ 14.98 WETH per WBTC</td>\n    </tr>\n    <tr>\n      <th rowspan=\"6\" valign=\"top\">uniswap_v3</th>\n      <th>23c8e88d</th>\n      <td>15.097158</td>\n      <td>0.127246</td>\n      <td></td>\n      <td>bs</td>\n      <td>buy-sell-WBTC @ 15.10 WETH per WBTC</td>\n    </tr>\n    <tr>\n      <th>3d1aaf34</th>\n      <td>14.992129</td>\n      <td>209.185313</td>\n      <td></td>\n      <td>bs</td>\n      <td>buy-sell-WBTC @ 14.99 WETH per WBTC</td>\n    </tr>\n    <tr>\n      <th>466</th>\n      <td>15.097158</td>\n      <td>0.127246</td>\n      <td></td>\n      <td>bs</td>\n      <td>buy-sell-WBTC @ 15.10 WETH per WBTC</td>\n    </tr>\n    <tr>\n      <th>478</th>\n      <td>15.105116</td>\n      <td>0.000017</td>\n      <td></td>\n      <td>bs</td>\n      <td>buy-sell-WBTC @ 15.11 WETH per WBTC</td>\n    </tr>\n    <tr>\n      <th>4e3d56b9</th>\n      <td>15.023596</td>\n      <td>0.000017</td>\n      <td></td>\n      <td>bs</td>\n      <td>buy-sell-WBTC @ 15.02 WETH per WBTC</td>\n    </tr>\n    <tr>\n      <th>edc87668</th>\n      <td>14.974717</td>\n      <td>17.775987</td>\n      <td></td>\n      <td>bs</td>\n      <td>buy-sell-WBTC @ 14.97 WETH per WBTC</td>\n    </tr>\n  </tbody>\n</table>\n</div>"
     },
     "execution_count": 67,
     "metadata": {},
     "output_type": "execute_result"
    }
   ],
   "source": [
    "pair = \"WBTC-C599/WETH-6Cc2\"\n",
    "pricedf.loc[Pair.n(pair)]"
   ]
  },
  {
   "cell_type": "code",
   "execution_count": 68,
   "id": "ce93bf30",
   "metadata": {
    "ExecuteTime": {
     "start_time": "2023-05-09T07:19:50.338605Z",
     "end_time": "2023-05-09T07:19:50.626814Z"
    }
   },
   "outputs": [
    {
     "data": {
      "text/plain": "                                  WBTC-C599     WETH-6Cc2\n466                                0.010511 -1.585580e-01\n804                                0.148015 -2.219342e+00\n478                                0.000012 -1.831884e-04\nb1715f4832ae4a1dabde9cbe4e3d56b9   0.000010 -1.527214e-04\n0a1e0af654974dd6848b52233d1aaf34   8.794744 -1.318353e+02\ndfefc9ca163747858dc6b79eeee68882  -0.096668  1.448531e+00\nedb7550782154a5b8eb1e4feedc87668  -8.874319  1.329236e+02\n652229ad70bd4d19b9d1420123c8e88d   0.010511 -1.585580e-01\nAMMIn                              8.963804  1.343721e+02\nAMMOut                            -8.970987 -1.343721e+02\nTOTAL NET                         -0.007183 -1.979042e-08",
      "text/html": "<div>\n<style scoped>\n    .dataframe tbody tr th:only-of-type {\n        vertical-align: middle;\n    }\n\n    .dataframe tbody tr th {\n        vertical-align: top;\n    }\n\n    .dataframe thead th {\n        text-align: right;\n    }\n</style>\n<table border=\"1\" class=\"dataframe\">\n  <thead>\n    <tr style=\"text-align: right;\">\n      <th></th>\n      <th>WBTC-C599</th>\n      <th>WETH-6Cc2</th>\n    </tr>\n  </thead>\n  <tbody>\n    <tr>\n      <th>466</th>\n      <td>0.010511</td>\n      <td>-1.585580e-01</td>\n    </tr>\n    <tr>\n      <th>804</th>\n      <td>0.148015</td>\n      <td>-2.219342e+00</td>\n    </tr>\n    <tr>\n      <th>478</th>\n      <td>0.000012</td>\n      <td>-1.831884e-04</td>\n    </tr>\n    <tr>\n      <th>b1715f4832ae4a1dabde9cbe4e3d56b9</th>\n      <td>0.000010</td>\n      <td>-1.527214e-04</td>\n    </tr>\n    <tr>\n      <th>0a1e0af654974dd6848b52233d1aaf34</th>\n      <td>8.794744</td>\n      <td>-1.318353e+02</td>\n    </tr>\n    <tr>\n      <th>dfefc9ca163747858dc6b79eeee68882</th>\n      <td>-0.096668</td>\n      <td>1.448531e+00</td>\n    </tr>\n    <tr>\n      <th>edb7550782154a5b8eb1e4feedc87668</th>\n      <td>-8.874319</td>\n      <td>1.329236e+02</td>\n    </tr>\n    <tr>\n      <th>652229ad70bd4d19b9d1420123c8e88d</th>\n      <td>0.010511</td>\n      <td>-1.585580e-01</td>\n    </tr>\n    <tr>\n      <th>AMMIn</th>\n      <td>8.963804</td>\n      <td>1.343721e+02</td>\n    </tr>\n    <tr>\n      <th>AMMOut</th>\n      <td>-8.970987</td>\n      <td>-1.343721e+02</td>\n    </tr>\n    <tr>\n      <th>TOTAL NET</th>\n      <td>-0.007183</td>\n      <td>-1.979042e-08</td>\n    </tr>\n  </tbody>\n</table>\n</div>"
     },
     "execution_count": 68,
     "metadata": {},
     "output_type": "execute_result"
    }
   ],
   "source": [
    "pi = CA.pair_data(pair)\n",
    "O = CPCArbOptimizer(pi.CC)\n",
    "r = O.margp_optimizer(pair.split(\"/\")[0])\n",
    "r.trade_instructions(ti_format=O.TIF_DFAGGR)"
   ]
  },
  {
   "cell_type": "code",
   "execution_count": 69,
   "id": "cb9e5f61",
   "metadata": {
    "lines_to_next_cell": 2,
    "ExecuteTime": {
     "start_time": "2023-05-09T07:19:50.362886Z",
     "end_time": "2023-05-09T07:19:50.649862Z"
    }
   },
   "outputs": [
    {
     "data": {
      "text/plain": "                                     WBTC-C599   WETH-6Cc2\n466                               1.051115e-02   -0.158558\n804                               1.480545e-01   -2.219936\n478                               1.212800e-05   -0.000183\nb1715f4832ae4a1dabde9cbe4e3d56b9  1.016574e-05   -0.000153\n0a1e0af654974dd6848b52233d1aaf34  8.801849e+00 -131.941815\ndfefc9ca163747858dc6b79eeee68882 -9.662812e-02    1.447937\nedb7550782154a5b8eb1e4feedc87668 -8.874319e+00  132.923598\n652229ad70bd4d19b9d1420123c8e88d  1.051115e-02   -0.158558\nAMMIn                             8.970948e+00  134.371534\nAMMOut                           -8.970948e+00 -134.479203\nTOTAL NET                        -8.689985e-10   -0.107669",
      "text/html": "<div>\n<style scoped>\n    .dataframe tbody tr th:only-of-type {\n        vertical-align: middle;\n    }\n\n    .dataframe tbody tr th {\n        vertical-align: top;\n    }\n\n    .dataframe thead th {\n        text-align: right;\n    }\n</style>\n<table border=\"1\" class=\"dataframe\">\n  <thead>\n    <tr style=\"text-align: right;\">\n      <th></th>\n      <th>WBTC-C599</th>\n      <th>WETH-6Cc2</th>\n    </tr>\n  </thead>\n  <tbody>\n    <tr>\n      <th>466</th>\n      <td>1.051115e-02</td>\n      <td>-0.158558</td>\n    </tr>\n    <tr>\n      <th>804</th>\n      <td>1.480545e-01</td>\n      <td>-2.219936</td>\n    </tr>\n    <tr>\n      <th>478</th>\n      <td>1.212800e-05</td>\n      <td>-0.000183</td>\n    </tr>\n    <tr>\n      <th>b1715f4832ae4a1dabde9cbe4e3d56b9</th>\n      <td>1.016574e-05</td>\n      <td>-0.000153</td>\n    </tr>\n    <tr>\n      <th>0a1e0af654974dd6848b52233d1aaf34</th>\n      <td>8.801849e+00</td>\n      <td>-131.941815</td>\n    </tr>\n    <tr>\n      <th>dfefc9ca163747858dc6b79eeee68882</th>\n      <td>-9.662812e-02</td>\n      <td>1.447937</td>\n    </tr>\n    <tr>\n      <th>edb7550782154a5b8eb1e4feedc87668</th>\n      <td>-8.874319e+00</td>\n      <td>132.923598</td>\n    </tr>\n    <tr>\n      <th>652229ad70bd4d19b9d1420123c8e88d</th>\n      <td>1.051115e-02</td>\n      <td>-0.158558</td>\n    </tr>\n    <tr>\n      <th>AMMIn</th>\n      <td>8.970948e+00</td>\n      <td>134.371534</td>\n    </tr>\n    <tr>\n      <th>AMMOut</th>\n      <td>-8.970948e+00</td>\n      <td>-134.479203</td>\n    </tr>\n    <tr>\n      <th>TOTAL NET</th>\n      <td>-8.689985e-10</td>\n      <td>-0.107669</td>\n    </tr>\n  </tbody>\n</table>\n</div>"
     },
     "execution_count": 69,
     "metadata": {},
     "output_type": "execute_result"
    }
   ],
   "source": [
    "r = O.margp_optimizer(pair.split(\"/\")[1])\n",
    "r.trade_instructions(ti_format=O.TIF_DFAGGR)"
   ]
  },
  {
   "cell_type": "markdown",
   "id": "349cde94",
   "metadata": {},
   "source": [
    "#### LINK/USDT"
   ]
  },
  {
   "cell_type": "code",
   "execution_count": 70,
   "id": "d931fd56",
   "metadata": {
    "ExecuteTime": {
     "start_time": "2023-05-09T07:19:50.378322Z",
     "end_time": "2023-05-09T07:19:50.652735Z"
    }
   },
   "outputs": [
    {
     "data": {
      "text/plain": "                          price         vl itm  bs  \\\nexchange     cid0                                    \ncarbon_v1    960408-0  6.900402   0.055841   x   b   \n             960408-1  7.700000  37.987504       s   \nsushiswap_v2 2dc48f37  7.123545  75.100134   x  bs   \n             791       7.123545  75.100134   x  bs   \nuniswap_v2   171       7.328775  65.660409   x  bs   \n             8b9e0410  6.215835  71.305185   x  bs   \nuniswap_v3   549       6.277183   3.483579   x  bs   \n             984a84b8  6.828776   3.339705   x  bs   \n\n                                                      bsv  \nexchange     cid0                                          \ncarbon_v1    960408-0       buy-LINK @ 6.90 USDT per LINK  \n             960408-1      sell-LINK @ 7.70 USDT per LINK  \nsushiswap_v2 2dc48f37  buy-sell-LINK @ 7.12 USDT per LINK  \n             791       buy-sell-LINK @ 7.12 USDT per LINK  \nuniswap_v2   171       buy-sell-LINK @ 7.33 USDT per LINK  \n             8b9e0410  buy-sell-LINK @ 6.22 USDT per LINK  \nuniswap_v3   549       buy-sell-LINK @ 6.28 USDT per LINK  \n             984a84b8  buy-sell-LINK @ 6.83 USDT per LINK  ",
      "text/html": "<div>\n<style scoped>\n    .dataframe tbody tr th:only-of-type {\n        vertical-align: middle;\n    }\n\n    .dataframe tbody tr th {\n        vertical-align: top;\n    }\n\n    .dataframe thead th {\n        text-align: right;\n    }\n</style>\n<table border=\"1\" class=\"dataframe\">\n  <thead>\n    <tr style=\"text-align: right;\">\n      <th></th>\n      <th></th>\n      <th>price</th>\n      <th>vl</th>\n      <th>itm</th>\n      <th>bs</th>\n      <th>bsv</th>\n    </tr>\n    <tr>\n      <th>exchange</th>\n      <th>cid0</th>\n      <th></th>\n      <th></th>\n      <th></th>\n      <th></th>\n      <th></th>\n    </tr>\n  </thead>\n  <tbody>\n    <tr>\n      <th rowspan=\"2\" valign=\"top\">carbon_v1</th>\n      <th>960408-0</th>\n      <td>6.900402</td>\n      <td>0.055841</td>\n      <td>x</td>\n      <td>b</td>\n      <td>buy-LINK @ 6.90 USDT per LINK</td>\n    </tr>\n    <tr>\n      <th>960408-1</th>\n      <td>7.700000</td>\n      <td>37.987504</td>\n      <td></td>\n      <td>s</td>\n      <td>sell-LINK @ 7.70 USDT per LINK</td>\n    </tr>\n    <tr>\n      <th rowspan=\"2\" valign=\"top\">sushiswap_v2</th>\n      <th>2dc48f37</th>\n      <td>7.123545</td>\n      <td>75.100134</td>\n      <td>x</td>\n      <td>bs</td>\n      <td>buy-sell-LINK @ 7.12 USDT per LINK</td>\n    </tr>\n    <tr>\n      <th>791</th>\n      <td>7.123545</td>\n      <td>75.100134</td>\n      <td>x</td>\n      <td>bs</td>\n      <td>buy-sell-LINK @ 7.12 USDT per LINK</td>\n    </tr>\n    <tr>\n      <th rowspan=\"2\" valign=\"top\">uniswap_v2</th>\n      <th>171</th>\n      <td>7.328775</td>\n      <td>65.660409</td>\n      <td>x</td>\n      <td>bs</td>\n      <td>buy-sell-LINK @ 7.33 USDT per LINK</td>\n    </tr>\n    <tr>\n      <th>8b9e0410</th>\n      <td>6.215835</td>\n      <td>71.305185</td>\n      <td>x</td>\n      <td>bs</td>\n      <td>buy-sell-LINK @ 6.22 USDT per LINK</td>\n    </tr>\n    <tr>\n      <th rowspan=\"2\" valign=\"top\">uniswap_v3</th>\n      <th>549</th>\n      <td>6.277183</td>\n      <td>3.483579</td>\n      <td>x</td>\n      <td>bs</td>\n      <td>buy-sell-LINK @ 6.28 USDT per LINK</td>\n    </tr>\n    <tr>\n      <th>984a84b8</th>\n      <td>6.828776</td>\n      <td>3.339705</td>\n      <td>x</td>\n      <td>bs</td>\n      <td>buy-sell-LINK @ 6.83 USDT per LINK</td>\n    </tr>\n  </tbody>\n</table>\n</div>"
     },
     "execution_count": 70,
     "metadata": {},
     "output_type": "execute_result"
    }
   ],
   "source": [
    "pair = \"LINK-86CA/USDT-1ec7\"\n",
    "pricedf.loc[Pair.n(pair)]"
   ]
  },
  {
   "cell_type": "code",
   "execution_count": 71,
   "id": "1a6f6a6f",
   "metadata": {
    "ExecuteTime": {
     "start_time": "2023-05-09T07:19:50.391315Z",
     "end_time": "2023-05-09T07:19:50.684951Z"
    }
   },
   "outputs": [
    {
     "data": {
      "text/plain": "                                            LINK-86CA     USDT-1ec7\n791                                          0.783228 -5.465359e+00\n549                                         -0.807262  5.070853e+00\n171                                          1.164136 -8.239524e+00\n661854190b4b461b840ac93c8b9e0410            -1.654214  1.078262e+01\n4763953136893138488487244504044754960408-0   0.055843 -3.853270e-01\nd6804f9f95a64ea586c0aab32dc48f37             0.783228 -5.465359e+00\n539a301956344755aef66083984a84b8            -0.541869  3.702100e+00\nAMMIn                                        2.786434  1.955557e+01\nAMMOut                                      -3.003345 -1.955557e+01\nTOTAL NET                                   -0.216911 -1.379777e-08",
      "text/html": "<div>\n<style scoped>\n    .dataframe tbody tr th:only-of-type {\n        vertical-align: middle;\n    }\n\n    .dataframe tbody tr th {\n        vertical-align: top;\n    }\n\n    .dataframe thead th {\n        text-align: right;\n    }\n</style>\n<table border=\"1\" class=\"dataframe\">\n  <thead>\n    <tr style=\"text-align: right;\">\n      <th></th>\n      <th>LINK-86CA</th>\n      <th>USDT-1ec7</th>\n    </tr>\n  </thead>\n  <tbody>\n    <tr>\n      <th>791</th>\n      <td>0.783228</td>\n      <td>-5.465359e+00</td>\n    </tr>\n    <tr>\n      <th>549</th>\n      <td>-0.807262</td>\n      <td>5.070853e+00</td>\n    </tr>\n    <tr>\n      <th>171</th>\n      <td>1.164136</td>\n      <td>-8.239524e+00</td>\n    </tr>\n    <tr>\n      <th>661854190b4b461b840ac93c8b9e0410</th>\n      <td>-1.654214</td>\n      <td>1.078262e+01</td>\n    </tr>\n    <tr>\n      <th>4763953136893138488487244504044754960408-0</th>\n      <td>0.055843</td>\n      <td>-3.853270e-01</td>\n    </tr>\n    <tr>\n      <th>d6804f9f95a64ea586c0aab32dc48f37</th>\n      <td>0.783228</td>\n      <td>-5.465359e+00</td>\n    </tr>\n    <tr>\n      <th>539a301956344755aef66083984a84b8</th>\n      <td>-0.541869</td>\n      <td>3.702100e+00</td>\n    </tr>\n    <tr>\n      <th>AMMIn</th>\n      <td>2.786434</td>\n      <td>1.955557e+01</td>\n    </tr>\n    <tr>\n      <th>AMMOut</th>\n      <td>-3.003345</td>\n      <td>-1.955557e+01</td>\n    </tr>\n    <tr>\n      <th>TOTAL NET</th>\n      <td>-0.216911</td>\n      <td>-1.379777e-08</td>\n    </tr>\n  </tbody>\n</table>\n</div>"
     },
     "execution_count": 71,
     "metadata": {},
     "output_type": "execute_result"
    }
   ],
   "source": [
    "pi = CA.pair_data(pair)\n",
    "O = CPCArbOptimizer(pi.CC)\n",
    "r = O.margp_optimizer(pair.split(\"/\")[0])\n",
    "r.trade_instructions(ti_format=O.TIF_DFAGGR)"
   ]
  },
  {
   "cell_type": "code",
   "execution_count": 72,
   "id": "3b60cf5e",
   "metadata": {
    "lines_to_next_cell": 2,
    "ExecuteTime": {
     "start_time": "2023-05-09T07:19:50.404344Z",
     "end_time": "2023-05-09T07:19:50.685091Z"
    }
   },
   "outputs": [
    {
     "data": {
      "text/plain": "                                               LINK-86CA  USDT-1ec7\n791                                         7.898342e-01  -5.510510\n549                                        -8.072620e-01   5.070853\n171                                         1.169995e+00  -8.279565\n661854190b4b461b840ac93c8b9e0410           -1.648355e+00  10.742570\n4763953136893138488487244504044754960408-0  5.584286e-02  -0.385327\nd6804f9f95a64ea586c0aab32dc48f37            7.898342e-01  -5.510510\n539a301956344755aef66083984a84b8           -3.498898e-01   2.390069\nAMMIn                                       2.805506e+00  18.203492\nAMMOut                                     -2.805506e+00 -19.685913\nTOTAL NET                                  -2.131628e-13  -1.482421",
      "text/html": "<div>\n<style scoped>\n    .dataframe tbody tr th:only-of-type {\n        vertical-align: middle;\n    }\n\n    .dataframe tbody tr th {\n        vertical-align: top;\n    }\n\n    .dataframe thead th {\n        text-align: right;\n    }\n</style>\n<table border=\"1\" class=\"dataframe\">\n  <thead>\n    <tr style=\"text-align: right;\">\n      <th></th>\n      <th>LINK-86CA</th>\n      <th>USDT-1ec7</th>\n    </tr>\n  </thead>\n  <tbody>\n    <tr>\n      <th>791</th>\n      <td>7.898342e-01</td>\n      <td>-5.510510</td>\n    </tr>\n    <tr>\n      <th>549</th>\n      <td>-8.072620e-01</td>\n      <td>5.070853</td>\n    </tr>\n    <tr>\n      <th>171</th>\n      <td>1.169995e+00</td>\n      <td>-8.279565</td>\n    </tr>\n    <tr>\n      <th>661854190b4b461b840ac93c8b9e0410</th>\n      <td>-1.648355e+00</td>\n      <td>10.742570</td>\n    </tr>\n    <tr>\n      <th>4763953136893138488487244504044754960408-0</th>\n      <td>5.584286e-02</td>\n      <td>-0.385327</td>\n    </tr>\n    <tr>\n      <th>d6804f9f95a64ea586c0aab32dc48f37</th>\n      <td>7.898342e-01</td>\n      <td>-5.510510</td>\n    </tr>\n    <tr>\n      <th>539a301956344755aef66083984a84b8</th>\n      <td>-3.498898e-01</td>\n      <td>2.390069</td>\n    </tr>\n    <tr>\n      <th>AMMIn</th>\n      <td>2.805506e+00</td>\n      <td>18.203492</td>\n    </tr>\n    <tr>\n      <th>AMMOut</th>\n      <td>-2.805506e+00</td>\n      <td>-19.685913</td>\n    </tr>\n    <tr>\n      <th>TOTAL NET</th>\n      <td>-2.131628e-13</td>\n      <td>-1.482421</td>\n    </tr>\n  </tbody>\n</table>\n</div>"
     },
     "execution_count": 72,
     "metadata": {},
     "output_type": "execute_result"
    }
   ],
   "source": [
    "r = O.margp_optimizer(pair.split(\"/\")[1])\n",
    "r.trade_instructions(ti_format=O.TIF_DFAGGR)"
   ]
  },
  {
   "cell_type": "markdown",
   "id": "d6b2368f",
   "metadata": {},
   "source": [
    "#### WBTC/USDT"
   ]
  },
  {
   "cell_type": "code",
   "execution_count": 73,
   "id": "e2b607da",
   "metadata": {
    "ExecuteTime": {
     "start_time": "2023-05-09T07:19:50.410115Z",
     "end_time": "2023-05-09T07:19:50.685178Z"
    }
   },
   "outputs": [
    {
     "data": {
      "text/plain": "                              price        vl itm  bs  \\\nexchange     cid0                                       \ncarbon_v1    920820-1  29500.000000  0.000065       s   \nsushiswap_v2 814       29043.429150  0.031191   x  bs   \n             b7ad4378  29043.429150  0.031191   x  bs   \nuniswap_v2   183       28257.884111  0.290096   x  bs   \n             44235983  27609.205207  0.460800   x  bs   \nuniswap_v3   472c5f6c  27602.349628  4.963284   x  bs   \n             da663695  27654.095998  0.015273   x  bs   \n\n                                                          bsv  \nexchange     cid0                                              \ncarbon_v1    920820-1      sell-WBTC @ 29500.00 USDT per WBTC  \nsushiswap_v2 814       buy-sell-WBTC @ 29043.43 USDT per WBTC  \n             b7ad4378  buy-sell-WBTC @ 29043.43 USDT per WBTC  \nuniswap_v2   183       buy-sell-WBTC @ 28257.88 USDT per WBTC  \n             44235983  buy-sell-WBTC @ 27609.21 USDT per WBTC  \nuniswap_v3   472c5f6c  buy-sell-WBTC @ 27602.35 USDT per WBTC  \n             da663695  buy-sell-WBTC @ 27654.10 USDT per WBTC  ",
      "text/html": "<div>\n<style scoped>\n    .dataframe tbody tr th:only-of-type {\n        vertical-align: middle;\n    }\n\n    .dataframe tbody tr th {\n        vertical-align: top;\n    }\n\n    .dataframe thead th {\n        text-align: right;\n    }\n</style>\n<table border=\"1\" class=\"dataframe\">\n  <thead>\n    <tr style=\"text-align: right;\">\n      <th></th>\n      <th></th>\n      <th>price</th>\n      <th>vl</th>\n      <th>itm</th>\n      <th>bs</th>\n      <th>bsv</th>\n    </tr>\n    <tr>\n      <th>exchange</th>\n      <th>cid0</th>\n      <th></th>\n      <th></th>\n      <th></th>\n      <th></th>\n      <th></th>\n    </tr>\n  </thead>\n  <tbody>\n    <tr>\n      <th>carbon_v1</th>\n      <th>920820-1</th>\n      <td>29500.000000</td>\n      <td>0.000065</td>\n      <td></td>\n      <td>s</td>\n      <td>sell-WBTC @ 29500.00 USDT per WBTC</td>\n    </tr>\n    <tr>\n      <th rowspan=\"2\" valign=\"top\">sushiswap_v2</th>\n      <th>814</th>\n      <td>29043.429150</td>\n      <td>0.031191</td>\n      <td>x</td>\n      <td>bs</td>\n      <td>buy-sell-WBTC @ 29043.43 USDT per WBTC</td>\n    </tr>\n    <tr>\n      <th>b7ad4378</th>\n      <td>29043.429150</td>\n      <td>0.031191</td>\n      <td>x</td>\n      <td>bs</td>\n      <td>buy-sell-WBTC @ 29043.43 USDT per WBTC</td>\n    </tr>\n    <tr>\n      <th rowspan=\"2\" valign=\"top\">uniswap_v2</th>\n      <th>183</th>\n      <td>28257.884111</td>\n      <td>0.290096</td>\n      <td>x</td>\n      <td>bs</td>\n      <td>buy-sell-WBTC @ 28257.88 USDT per WBTC</td>\n    </tr>\n    <tr>\n      <th>44235983</th>\n      <td>27609.205207</td>\n      <td>0.460800</td>\n      <td>x</td>\n      <td>bs</td>\n      <td>buy-sell-WBTC @ 27609.21 USDT per WBTC</td>\n    </tr>\n    <tr>\n      <th rowspan=\"2\" valign=\"top\">uniswap_v3</th>\n      <th>472c5f6c</th>\n      <td>27602.349628</td>\n      <td>4.963284</td>\n      <td>x</td>\n      <td>bs</td>\n      <td>buy-sell-WBTC @ 27602.35 USDT per WBTC</td>\n    </tr>\n    <tr>\n      <th>da663695</th>\n      <td>27654.095998</td>\n      <td>0.015273</td>\n      <td>x</td>\n      <td>bs</td>\n      <td>buy-sell-WBTC @ 27654.10 USDT per WBTC</td>\n    </tr>\n  </tbody>\n</table>\n</div>"
     },
     "execution_count": 73,
     "metadata": {},
     "output_type": "execute_result"
    }
   ],
   "source": [
    "pair = \"WBTC-C599/USDT-1ec7\"\n",
    "pricedf.loc[Pair.n(pair)]"
   ]
  },
  {
   "cell_type": "code",
   "execution_count": 74,
   "id": "26c3ffc8",
   "metadata": {
    "ExecuteTime": {
     "start_time": "2023-05-09T07:19:50.421980Z",
     "end_time": "2023-05-09T07:19:50.685280Z"
    }
   },
   "outputs": [
    {
     "data": {
      "text/plain": "                                  WBTC-C599     USDT-1ec7\n183                                0.001711 -4.779064e+01\n814                                0.000402 -1.137699e+01\n8b84d53e2a1f47d7aa2e021b472c5f6c  -0.012376  3.416171e+02\n9dab98b0ea8c47a5bb17728844235983   0.000027 -7.422818e-01\n1a63b94c4aab468aadf132f6b7ad4378   0.000402 -1.137699e+01\n6133b4b856974dbcbbaeafd0da663695   0.009779 -2.703302e+02\nAMMIn                              0.012320  3.416171e+02\nAMMOut                            -0.012376 -3.416171e+02\nTOTAL NET                         -0.000056  2.672739e-07",
      "text/html": "<div>\n<style scoped>\n    .dataframe tbody tr th:only-of-type {\n        vertical-align: middle;\n    }\n\n    .dataframe tbody tr th {\n        vertical-align: top;\n    }\n\n    .dataframe thead th {\n        text-align: right;\n    }\n</style>\n<table border=\"1\" class=\"dataframe\">\n  <thead>\n    <tr style=\"text-align: right;\">\n      <th></th>\n      <th>WBTC-C599</th>\n      <th>USDT-1ec7</th>\n    </tr>\n  </thead>\n  <tbody>\n    <tr>\n      <th>183</th>\n      <td>0.001711</td>\n      <td>-4.779064e+01</td>\n    </tr>\n    <tr>\n      <th>814</th>\n      <td>0.000402</td>\n      <td>-1.137699e+01</td>\n    </tr>\n    <tr>\n      <th>8b84d53e2a1f47d7aa2e021b472c5f6c</th>\n      <td>-0.012376</td>\n      <td>3.416171e+02</td>\n    </tr>\n    <tr>\n      <th>9dab98b0ea8c47a5bb17728844235983</th>\n      <td>0.000027</td>\n      <td>-7.422818e-01</td>\n    </tr>\n    <tr>\n      <th>1a63b94c4aab468aadf132f6b7ad4378</th>\n      <td>0.000402</td>\n      <td>-1.137699e+01</td>\n    </tr>\n    <tr>\n      <th>6133b4b856974dbcbbaeafd0da663695</th>\n      <td>0.009779</td>\n      <td>-2.703302e+02</td>\n    </tr>\n    <tr>\n      <th>AMMIn</th>\n      <td>0.012320</td>\n      <td>3.416171e+02</td>\n    </tr>\n    <tr>\n      <th>AMMOut</th>\n      <td>-0.012376</td>\n      <td>-3.416171e+02</td>\n    </tr>\n    <tr>\n      <th>TOTAL NET</th>\n      <td>-0.000056</td>\n      <td>2.672739e-07</td>\n    </tr>\n  </tbody>\n</table>\n</div>"
     },
     "execution_count": 74,
     "metadata": {},
     "output_type": "execute_result"
    }
   ],
   "source": [
    "pi = CA.pair_data(pair)\n",
    "O = CPCArbOptimizer(pi.CC)\n",
    "r = O.margp_optimizer(pair.split(\"/\")[0])\n",
    "r.trade_instructions(ti_format=O.TIF_DFAGGR)"
   ]
  },
  {
   "cell_type": "code",
   "execution_count": 75,
   "id": "77aa8d13",
   "metadata": {
    "lines_to_next_cell": 2,
    "ExecuteTime": {
     "start_time": "2023-05-09T07:19:50.432234Z",
     "end_time": "2023-05-09T07:19:50.687944Z"
    }
   },
   "outputs": [
    {
     "data": {
      "text/plain": "                                     WBTC-C599   USDT-1ec7\n183                               1.711189e-03  -47.790774\n814                               4.018163e-04  -11.377000\n8b84d53e2a1f47d7aa2e021b472c5f6c -1.232026e-02  340.070657\n9dab98b0ea8c47a5bb17728844235983  2.689623e-05   -0.742497\n1a63b94c4aab468aadf132f6b7ad4378  4.018163e-04  -11.377000\n6133b4b856974dbcbbaeafd0da663695  9.778542e-03 -270.330222\nAMMIn                             1.232026e-02  340.070657\nAMMOut                           -1.232026e-02 -341.617493\nTOTAL NET                        -1.367952e-11   -1.546836",
      "text/html": "<div>\n<style scoped>\n    .dataframe tbody tr th:only-of-type {\n        vertical-align: middle;\n    }\n\n    .dataframe tbody tr th {\n        vertical-align: top;\n    }\n\n    .dataframe thead th {\n        text-align: right;\n    }\n</style>\n<table border=\"1\" class=\"dataframe\">\n  <thead>\n    <tr style=\"text-align: right;\">\n      <th></th>\n      <th>WBTC-C599</th>\n      <th>USDT-1ec7</th>\n    </tr>\n  </thead>\n  <tbody>\n    <tr>\n      <th>183</th>\n      <td>1.711189e-03</td>\n      <td>-47.790774</td>\n    </tr>\n    <tr>\n      <th>814</th>\n      <td>4.018163e-04</td>\n      <td>-11.377000</td>\n    </tr>\n    <tr>\n      <th>8b84d53e2a1f47d7aa2e021b472c5f6c</th>\n      <td>-1.232026e-02</td>\n      <td>340.070657</td>\n    </tr>\n    <tr>\n      <th>9dab98b0ea8c47a5bb17728844235983</th>\n      <td>2.689623e-05</td>\n      <td>-0.742497</td>\n    </tr>\n    <tr>\n      <th>1a63b94c4aab468aadf132f6b7ad4378</th>\n      <td>4.018163e-04</td>\n      <td>-11.377000</td>\n    </tr>\n    <tr>\n      <th>6133b4b856974dbcbbaeafd0da663695</th>\n      <td>9.778542e-03</td>\n      <td>-270.330222</td>\n    </tr>\n    <tr>\n      <th>AMMIn</th>\n      <td>1.232026e-02</td>\n      <td>340.070657</td>\n    </tr>\n    <tr>\n      <th>AMMOut</th>\n      <td>-1.232026e-02</td>\n      <td>-341.617493</td>\n    </tr>\n    <tr>\n      <th>TOTAL NET</th>\n      <td>-1.367952e-11</td>\n      <td>-1.546836</td>\n    </tr>\n  </tbody>\n</table>\n</div>"
     },
     "execution_count": 75,
     "metadata": {},
     "output_type": "execute_result"
    }
   ],
   "source": [
    "r = O.margp_optimizer(pair.split(\"/\")[1])\n",
    "r.trade_instructions(ti_format=O.TIF_DFAGGR)"
   ]
  },
  {
   "cell_type": "markdown",
   "id": "e79b1204",
   "metadata": {},
   "source": [
    "#### BNT/USDC"
   ]
  },
  {
   "cell_type": "code",
   "execution_count": 76,
   "id": "59c40cc1",
   "metadata": {
    "ExecuteTime": {
     "start_time": "2023-05-09T07:19:50.442440Z",
     "end_time": "2023-05-09T07:19:50.714695Z"
    }
   },
   "outputs": [
    {
     "data": {
      "text/plain": "                       price            vl itm  bs  \\\nexchange  cid0                                       \nbancor_v2 2820a318  0.430096  1.560855e+06   x  bs   \n          652       0.439371  1.544040e+06   x  bs   \nbancor_v3 720       0.440302  5.223673e+06   x  bs   \ncarbon_v1 480199-0  2.000000  2.910000e+01       s   \n          480202-1  1.480041  4.247463e+04       s   \n\n                                                 bsv  \nexchange  cid0                                        \nbancor_v2 2820a318  buy-sell-BNT @ 0.43 USDC per BNT  \n          652       buy-sell-BNT @ 0.44 USDC per BNT  \nbancor_v3 720       buy-sell-BNT @ 0.44 USDC per BNT  \ncarbon_v1 480199-0      sell-BNT @ 2.00 USDC per BNT  \n          480202-1      sell-BNT @ 1.48 USDC per BNT  ",
      "text/html": "<div>\n<style scoped>\n    .dataframe tbody tr th:only-of-type {\n        vertical-align: middle;\n    }\n\n    .dataframe tbody tr th {\n        vertical-align: top;\n    }\n\n    .dataframe thead th {\n        text-align: right;\n    }\n</style>\n<table border=\"1\" class=\"dataframe\">\n  <thead>\n    <tr style=\"text-align: right;\">\n      <th></th>\n      <th></th>\n      <th>price</th>\n      <th>vl</th>\n      <th>itm</th>\n      <th>bs</th>\n      <th>bsv</th>\n    </tr>\n    <tr>\n      <th>exchange</th>\n      <th>cid0</th>\n      <th></th>\n      <th></th>\n      <th></th>\n      <th></th>\n      <th></th>\n    </tr>\n  </thead>\n  <tbody>\n    <tr>\n      <th rowspan=\"2\" valign=\"top\">bancor_v2</th>\n      <th>2820a318</th>\n      <td>0.430096</td>\n      <td>1.560855e+06</td>\n      <td>x</td>\n      <td>bs</td>\n      <td>buy-sell-BNT @ 0.43 USDC per BNT</td>\n    </tr>\n    <tr>\n      <th>652</th>\n      <td>0.439371</td>\n      <td>1.544040e+06</td>\n      <td>x</td>\n      <td>bs</td>\n      <td>buy-sell-BNT @ 0.44 USDC per BNT</td>\n    </tr>\n    <tr>\n      <th>bancor_v3</th>\n      <th>720</th>\n      <td>0.440302</td>\n      <td>5.223673e+06</td>\n      <td>x</td>\n      <td>bs</td>\n      <td>buy-sell-BNT @ 0.44 USDC per BNT</td>\n    </tr>\n    <tr>\n      <th rowspan=\"2\" valign=\"top\">carbon_v1</th>\n      <th>480199-0</th>\n      <td>2.000000</td>\n      <td>2.910000e+01</td>\n      <td></td>\n      <td>s</td>\n      <td>sell-BNT @ 2.00 USDC per BNT</td>\n    </tr>\n    <tr>\n      <th>480202-1</th>\n      <td>1.480041</td>\n      <td>4.247463e+04</td>\n      <td></td>\n      <td>s</td>\n      <td>sell-BNT @ 1.48 USDC per BNT</td>\n    </tr>\n  </tbody>\n</table>\n</div>"
     },
     "execution_count": 76,
     "metadata": {},
     "output_type": "execute_result"
    }
   ],
   "source": [
    "pair = \"BNT-FF1C/USDC-eB48\"\n",
    "pricedf.loc[Pair.n(pair)]"
   ]
  },
  {
   "cell_type": "code",
   "execution_count": 77,
   "id": "afa149ee",
   "metadata": {
    "ExecuteTime": {
     "start_time": "2023-05-09T07:19:50.453451Z",
     "end_time": "2023-05-09T07:19:50.714956Z"
    }
   },
   "outputs": [
    {
     "data": {
      "text/plain": "                                     BNT-FF1C     USDC-eB48\n652                               1008.424079 -4.424948e+02\n720                               6180.961776 -2.715067e+03\n97327fc2000549f98a6e6c812820a318 -7273.111432  3.157562e+03\nAMMIn                             7189.385855  3.157562e+03\nAMMOut                           -7273.111432 -3.157562e+03\nTOTAL NET                          -83.725577 -1.979060e-09",
      "text/html": "<div>\n<style scoped>\n    .dataframe tbody tr th:only-of-type {\n        vertical-align: middle;\n    }\n\n    .dataframe tbody tr th {\n        vertical-align: top;\n    }\n\n    .dataframe thead th {\n        text-align: right;\n    }\n</style>\n<table border=\"1\" class=\"dataframe\">\n  <thead>\n    <tr style=\"text-align: right;\">\n      <th></th>\n      <th>BNT-FF1C</th>\n      <th>USDC-eB48</th>\n    </tr>\n  </thead>\n  <tbody>\n    <tr>\n      <th>652</th>\n      <td>1008.424079</td>\n      <td>-4.424948e+02</td>\n    </tr>\n    <tr>\n      <th>720</th>\n      <td>6180.961776</td>\n      <td>-2.715067e+03</td>\n    </tr>\n    <tr>\n      <th>97327fc2000549f98a6e6c812820a318</th>\n      <td>-7273.111432</td>\n      <td>3.157562e+03</td>\n    </tr>\n    <tr>\n      <th>AMMIn</th>\n      <td>7189.385855</td>\n      <td>3.157562e+03</td>\n    </tr>\n    <tr>\n      <th>AMMOut</th>\n      <td>-7273.111432</td>\n      <td>-3.157562e+03</td>\n    </tr>\n    <tr>\n      <th>TOTAL NET</th>\n      <td>-83.725577</td>\n      <td>-1.979060e-09</td>\n    </tr>\n  </tbody>\n</table>\n</div>"
     },
     "execution_count": 77,
     "metadata": {},
     "output_type": "execute_result"
    }
   ],
   "source": [
    "pi = CA.pair_data(pair)\n",
    "O = CPCArbOptimizer(pi.CC)\n",
    "r = O.margp_optimizer(pair.split(\"/\")[0])\n",
    "r.trade_instructions(ti_format=O.TIF_DFAGGR)"
   ]
  },
  {
   "cell_type": "code",
   "execution_count": 78,
   "id": "51af548e",
   "metadata": {
    "lines_to_next_cell": 2,
    "ExecuteTime": {
     "start_time": "2023-05-09T07:19:50.467752Z",
     "end_time": "2023-05-09T07:19:50.715120Z"
    }
   },
   "outputs": [
    {
     "data": {
      "text/plain": "                                      BNT-FF1C    USDC-eB48\n652                               1.023967e+03  -449.305769\n720                               6.233600e+03 -2738.134315\n97327fc2000549f98a6e6c812820a318 -7.257566e+03  3150.750108\nAMMIn                             7.257566e+03  3150.750108\nAMMOut                           -7.257566e+03 -3187.440084\nTOTAL NET                        -4.190952e-09   -36.689976",
      "text/html": "<div>\n<style scoped>\n    .dataframe tbody tr th:only-of-type {\n        vertical-align: middle;\n    }\n\n    .dataframe tbody tr th {\n        vertical-align: top;\n    }\n\n    .dataframe thead th {\n        text-align: right;\n    }\n</style>\n<table border=\"1\" class=\"dataframe\">\n  <thead>\n    <tr style=\"text-align: right;\">\n      <th></th>\n      <th>BNT-FF1C</th>\n      <th>USDC-eB48</th>\n    </tr>\n  </thead>\n  <tbody>\n    <tr>\n      <th>652</th>\n      <td>1.023967e+03</td>\n      <td>-449.305769</td>\n    </tr>\n    <tr>\n      <th>720</th>\n      <td>6.233600e+03</td>\n      <td>-2738.134315</td>\n    </tr>\n    <tr>\n      <th>97327fc2000549f98a6e6c812820a318</th>\n      <td>-7.257566e+03</td>\n      <td>3150.750108</td>\n    </tr>\n    <tr>\n      <th>AMMIn</th>\n      <td>7.257566e+03</td>\n      <td>3150.750108</td>\n    </tr>\n    <tr>\n      <th>AMMOut</th>\n      <td>-7.257566e+03</td>\n      <td>-3187.440084</td>\n    </tr>\n    <tr>\n      <th>TOTAL NET</th>\n      <td>-4.190952e-09</td>\n      <td>-36.689976</td>\n    </tr>\n  </tbody>\n</table>\n</div>"
     },
     "execution_count": 78,
     "metadata": {},
     "output_type": "execute_result"
    }
   ],
   "source": [
    "r = O.margp_optimizer(pair.split(\"/\")[1])\n",
    "r.trade_instructions(ti_format=O.TIF_DFAGGR)"
   ]
  },
  {
   "cell_type": "markdown",
   "id": "45741f45",
   "metadata": {},
   "source": [
    "#### WETH/DAI"
   ]
  },
  {
   "cell_type": "code",
   "execution_count": 79,
   "id": "b2d07783",
   "metadata": {
    "ExecuteTime": {
     "start_time": "2023-05-09T07:19:50.478427Z",
     "end_time": "2023-05-09T07:19:50.715202Z"
    }
   },
   "outputs": [
    {
     "data": {
      "text/plain": "                             price           vl itm  bs  \\\nexchange     cid0                                         \ncarbon_v1    211457-1  1944.999806     0.001000       s   \nsushiswap_v2 817       1838.100731  4281.600643      bs   \n             f48bfe9f  1844.936214  4271.976508      bs   \nuniswap_v3   01933a67  1840.121649     8.466599      bs   \n             28a6fe54  1849.440070    10.797647      bs   \n             594       1840.121649     8.466599      bs   \n             7b8cd45b  1844.933284   117.246807      bs   \n\n                                                        bsv  \nexchange     cid0                                            \ncarbon_v1    211457-1      sell-WETH @ 1945.00 DAI per WETH  \nsushiswap_v2 817       buy-sell-WETH @ 1838.10 DAI per WETH  \n             f48bfe9f  buy-sell-WETH @ 1844.94 DAI per WETH  \nuniswap_v3   01933a67  buy-sell-WETH @ 1840.12 DAI per WETH  \n             28a6fe54  buy-sell-WETH @ 1849.44 DAI per WETH  \n             594       buy-sell-WETH @ 1840.12 DAI per WETH  \n             7b8cd45b  buy-sell-WETH @ 1844.93 DAI per WETH  ",
      "text/html": "<div>\n<style scoped>\n    .dataframe tbody tr th:only-of-type {\n        vertical-align: middle;\n    }\n\n    .dataframe tbody tr th {\n        vertical-align: top;\n    }\n\n    .dataframe thead th {\n        text-align: right;\n    }\n</style>\n<table border=\"1\" class=\"dataframe\">\n  <thead>\n    <tr style=\"text-align: right;\">\n      <th></th>\n      <th></th>\n      <th>price</th>\n      <th>vl</th>\n      <th>itm</th>\n      <th>bs</th>\n      <th>bsv</th>\n    </tr>\n    <tr>\n      <th>exchange</th>\n      <th>cid0</th>\n      <th></th>\n      <th></th>\n      <th></th>\n      <th></th>\n      <th></th>\n    </tr>\n  </thead>\n  <tbody>\n    <tr>\n      <th>carbon_v1</th>\n      <th>211457-1</th>\n      <td>1944.999806</td>\n      <td>0.001000</td>\n      <td></td>\n      <td>s</td>\n      <td>sell-WETH @ 1945.00 DAI per WETH</td>\n    </tr>\n    <tr>\n      <th rowspan=\"2\" valign=\"top\">sushiswap_v2</th>\n      <th>817</th>\n      <td>1838.100731</td>\n      <td>4281.600643</td>\n      <td></td>\n      <td>bs</td>\n      <td>buy-sell-WETH @ 1838.10 DAI per WETH</td>\n    </tr>\n    <tr>\n      <th>f48bfe9f</th>\n      <td>1844.936214</td>\n      <td>4271.976508</td>\n      <td></td>\n      <td>bs</td>\n      <td>buy-sell-WETH @ 1844.94 DAI per WETH</td>\n    </tr>\n    <tr>\n      <th rowspan=\"4\" valign=\"top\">uniswap_v3</th>\n      <th>01933a67</th>\n      <td>1840.121649</td>\n      <td>8.466599</td>\n      <td></td>\n      <td>bs</td>\n      <td>buy-sell-WETH @ 1840.12 DAI per WETH</td>\n    </tr>\n    <tr>\n      <th>28a6fe54</th>\n      <td>1849.440070</td>\n      <td>10.797647</td>\n      <td></td>\n      <td>bs</td>\n      <td>buy-sell-WETH @ 1849.44 DAI per WETH</td>\n    </tr>\n    <tr>\n      <th>594</th>\n      <td>1840.121649</td>\n      <td>8.466599</td>\n      <td></td>\n      <td>bs</td>\n      <td>buy-sell-WETH @ 1840.12 DAI per WETH</td>\n    </tr>\n    <tr>\n      <th>7b8cd45b</th>\n      <td>1844.933284</td>\n      <td>117.246807</td>\n      <td></td>\n      <td>bs</td>\n      <td>buy-sell-WETH @ 1844.93 DAI per WETH</td>\n    </tr>\n  </tbody>\n</table>\n</div>"
     },
     "execution_count": 79,
     "metadata": {},
     "output_type": "execute_result"
    }
   ],
   "source": [
    "pair = \"WETH-6Cc2/DAI-1d0F\"\n",
    "pricedf.loc[Pair.n(pair)]"
   ]
  },
  {
   "cell_type": "code",
   "execution_count": 80,
   "id": "d726e8fc",
   "metadata": {
    "ExecuteTime": {
     "start_time": "2023-05-09T07:19:50.494318Z",
     "end_time": "2023-05-09T07:19:50.715739Z"
    }
   },
   "outputs": [
    {
     "data": {
      "text/plain": "                                     DAI-1d0F  WETH-6Cc2\n594                               1594.209278  -0.865479\n817                               6804.141181  -3.695334\n2b3bf6093e55415785a319a6f48bfe9f  -505.571508   0.274067\na6595d66f70c432a9b68557428a6fe54  -286.288242   0.154798\n644ebe18973a4af2aea93d9401933a67  1594.209278  -0.865479\n074a75bbb19a4ef9a0b583317b8cd45b -9200.700113   4.987646\nAMMIn                             9992.559736   5.416511\nAMMOut                           -9992.559863  -5.426292\nTOTAL NET                           -0.000127  -0.009781",
      "text/html": "<div>\n<style scoped>\n    .dataframe tbody tr th:only-of-type {\n        vertical-align: middle;\n    }\n\n    .dataframe tbody tr th {\n        vertical-align: top;\n    }\n\n    .dataframe thead th {\n        text-align: right;\n    }\n</style>\n<table border=\"1\" class=\"dataframe\">\n  <thead>\n    <tr style=\"text-align: right;\">\n      <th></th>\n      <th>DAI-1d0F</th>\n      <th>WETH-6Cc2</th>\n    </tr>\n  </thead>\n  <tbody>\n    <tr>\n      <th>594</th>\n      <td>1594.209278</td>\n      <td>-0.865479</td>\n    </tr>\n    <tr>\n      <th>817</th>\n      <td>6804.141181</td>\n      <td>-3.695334</td>\n    </tr>\n    <tr>\n      <th>2b3bf6093e55415785a319a6f48bfe9f</th>\n      <td>-505.571508</td>\n      <td>0.274067</td>\n    </tr>\n    <tr>\n      <th>a6595d66f70c432a9b68557428a6fe54</th>\n      <td>-286.288242</td>\n      <td>0.154798</td>\n    </tr>\n    <tr>\n      <th>644ebe18973a4af2aea93d9401933a67</th>\n      <td>1594.209278</td>\n      <td>-0.865479</td>\n    </tr>\n    <tr>\n      <th>074a75bbb19a4ef9a0b583317b8cd45b</th>\n      <td>-9200.700113</td>\n      <td>4.987646</td>\n    </tr>\n    <tr>\n      <th>AMMIn</th>\n      <td>9992.559736</td>\n      <td>5.416511</td>\n    </tr>\n    <tr>\n      <th>AMMOut</th>\n      <td>-9992.559863</td>\n      <td>-5.426292</td>\n    </tr>\n    <tr>\n      <th>TOTAL NET</th>\n      <td>-0.000127</td>\n      <td>-0.009781</td>\n    </tr>\n  </tbody>\n</table>\n</div>"
     },
     "execution_count": 80,
     "metadata": {},
     "output_type": "execute_result"
    }
   ],
   "source": [
    "pi = CA.pair_data(pair)\n",
    "O = CPCArbOptimizer(pi.CC)\n",
    "r = O.margp_optimizer(pair.split(\"/\")[0])\n",
    "r.trade_instructions(ti_format=O.TIF_DFAGGR)"
   ]
  },
  {
   "cell_type": "code",
   "execution_count": 81,
   "id": "532300d8",
   "metadata": {
    "lines_to_next_cell": 2,
    "ExecuteTime": {
     "start_time": "2023-05-09T07:19:50.510748Z",
     "end_time": "2023-05-09T07:19:50.772266Z"
    }
   },
   "outputs": [
    {
     "data": {
      "text/plain": "                                      DAI-1d0F     WETH-6Cc2\n594                                1594.209278 -8.654788e-01\n817                                6803.252704 -3.694852e+00\n2b3bf6093e55415785a319a6f48bfe9f   -506.459634  2.745486e-01\na6595d66f70c432a9b68557428a6fe54   -286.288242  1.547984e-01\n644ebe18973a4af2aea93d9401933a67   1594.209278 -8.654788e-01\n074a75bbb19a4ef9a0b583317b8cd45b  -9216.963432  4.996463e+00\nAMMIn                              9991.671260  5.425810e+00\nAMMOut                           -10009.711308 -5.425810e+00\nTOTAL NET                           -18.040048 -8.219217e-08",
      "text/html": "<div>\n<style scoped>\n    .dataframe tbody tr th:only-of-type {\n        vertical-align: middle;\n    }\n\n    .dataframe tbody tr th {\n        vertical-align: top;\n    }\n\n    .dataframe thead th {\n        text-align: right;\n    }\n</style>\n<table border=\"1\" class=\"dataframe\">\n  <thead>\n    <tr style=\"text-align: right;\">\n      <th></th>\n      <th>DAI-1d0F</th>\n      <th>WETH-6Cc2</th>\n    </tr>\n  </thead>\n  <tbody>\n    <tr>\n      <th>594</th>\n      <td>1594.209278</td>\n      <td>-8.654788e-01</td>\n    </tr>\n    <tr>\n      <th>817</th>\n      <td>6803.252704</td>\n      <td>-3.694852e+00</td>\n    </tr>\n    <tr>\n      <th>2b3bf6093e55415785a319a6f48bfe9f</th>\n      <td>-506.459634</td>\n      <td>2.745486e-01</td>\n    </tr>\n    <tr>\n      <th>a6595d66f70c432a9b68557428a6fe54</th>\n      <td>-286.288242</td>\n      <td>1.547984e-01</td>\n    </tr>\n    <tr>\n      <th>644ebe18973a4af2aea93d9401933a67</th>\n      <td>1594.209278</td>\n      <td>-8.654788e-01</td>\n    </tr>\n    <tr>\n      <th>074a75bbb19a4ef9a0b583317b8cd45b</th>\n      <td>-9216.963432</td>\n      <td>4.996463e+00</td>\n    </tr>\n    <tr>\n      <th>AMMIn</th>\n      <td>9991.671260</td>\n      <td>5.425810e+00</td>\n    </tr>\n    <tr>\n      <th>AMMOut</th>\n      <td>-10009.711308</td>\n      <td>-5.425810e+00</td>\n    </tr>\n    <tr>\n      <th>TOTAL NET</th>\n      <td>-18.040048</td>\n      <td>-8.219217e-08</td>\n    </tr>\n  </tbody>\n</table>\n</div>"
     },
     "execution_count": 81,
     "metadata": {},
     "output_type": "execute_result"
    }
   ],
   "source": [
    "r = O.margp_optimizer(pair.split(\"/\")[1])\n",
    "r.trade_instructions(ti_format=O.TIF_DFAGGR)"
   ]
  },
  {
   "cell_type": "markdown",
   "id": "ef5bfda1",
   "metadata": {},
   "source": [
    "#### DAI/USDT"
   ]
  },
  {
   "cell_type": "code",
   "execution_count": 82,
   "id": "0a066043",
   "metadata": {
    "ExecuteTime": {
     "start_time": "2023-05-09T07:19:50.528618Z",
     "end_time": "2023-05-09T07:19:50.813965Z"
    }
   },
   "outputs": [
    {
     "data": {
      "text/plain": "                          price            vl itm  bs  \\\nexchange     cid0                                       \ncarbon_v1    268742-0  0.995000     20.100501       b   \n             268742-1  1.005000     20.000000       s   \nsushiswap_v2 795       0.994182    380.253948      bs   \n             eb9230ec  0.994182    380.253948      bs   \nuniswap_v3   7b12cc08  0.999172  15514.318187      bs   \n             a21da88e  0.999426  50235.221857      bs   \n\n                                                    bsv  \nexchange     cid0                                        \ncarbon_v1    268742-0       buy-DAI @ 1.00 USDT per DAI  \n             268742-1      sell-DAI @ 1.00 USDT per DAI  \nsushiswap_v2 795       buy-sell-DAI @ 0.99 USDT per DAI  \n             eb9230ec  buy-sell-DAI @ 0.99 USDT per DAI  \nuniswap_v3   7b12cc08  buy-sell-DAI @ 1.00 USDT per DAI  \n             a21da88e  buy-sell-DAI @ 1.00 USDT per DAI  ",
      "text/html": "<div>\n<style scoped>\n    .dataframe tbody tr th:only-of-type {\n        vertical-align: middle;\n    }\n\n    .dataframe tbody tr th {\n        vertical-align: top;\n    }\n\n    .dataframe thead th {\n        text-align: right;\n    }\n</style>\n<table border=\"1\" class=\"dataframe\">\n  <thead>\n    <tr style=\"text-align: right;\">\n      <th></th>\n      <th></th>\n      <th>price</th>\n      <th>vl</th>\n      <th>itm</th>\n      <th>bs</th>\n      <th>bsv</th>\n    </tr>\n    <tr>\n      <th>exchange</th>\n      <th>cid0</th>\n      <th></th>\n      <th></th>\n      <th></th>\n      <th></th>\n      <th></th>\n    </tr>\n  </thead>\n  <tbody>\n    <tr>\n      <th rowspan=\"2\" valign=\"top\">carbon_v1</th>\n      <th>268742-0</th>\n      <td>0.995000</td>\n      <td>20.100501</td>\n      <td></td>\n      <td>b</td>\n      <td>buy-DAI @ 1.00 USDT per DAI</td>\n    </tr>\n    <tr>\n      <th>268742-1</th>\n      <td>1.005000</td>\n      <td>20.000000</td>\n      <td></td>\n      <td>s</td>\n      <td>sell-DAI @ 1.00 USDT per DAI</td>\n    </tr>\n    <tr>\n      <th rowspan=\"2\" valign=\"top\">sushiswap_v2</th>\n      <th>795</th>\n      <td>0.994182</td>\n      <td>380.253948</td>\n      <td></td>\n      <td>bs</td>\n      <td>buy-sell-DAI @ 0.99 USDT per DAI</td>\n    </tr>\n    <tr>\n      <th>eb9230ec</th>\n      <td>0.994182</td>\n      <td>380.253948</td>\n      <td></td>\n      <td>bs</td>\n      <td>buy-sell-DAI @ 0.99 USDT per DAI</td>\n    </tr>\n    <tr>\n      <th rowspan=\"2\" valign=\"top\">uniswap_v3</th>\n      <th>7b12cc08</th>\n      <td>0.999172</td>\n      <td>15514.318187</td>\n      <td></td>\n      <td>bs</td>\n      <td>buy-sell-DAI @ 1.00 USDT per DAI</td>\n    </tr>\n    <tr>\n      <th>a21da88e</th>\n      <td>0.999426</td>\n      <td>50235.221857</td>\n      <td></td>\n      <td>bs</td>\n      <td>buy-sell-DAI @ 1.00 USDT per DAI</td>\n    </tr>\n  </tbody>\n</table>\n</div>"
     },
     "execution_count": 82,
     "metadata": {},
     "output_type": "execute_result"
    }
   ],
   "source": [
    "pair = \"DAI-1d0F/USDT-1ec7\"\n",
    "pricedf.loc[Pair.n(pair)]"
   ]
  },
  {
   "cell_type": "code",
   "execution_count": 83,
   "id": "126a06ee",
   "metadata": {
    "ExecuteTime": {
     "start_time": "2023-05-09T07:19:50.541179Z",
     "end_time": "2023-05-09T07:19:50.838715Z"
    }
   },
   "outputs": [
    {
     "data": {
      "text/plain": "                                     USDT-1ec7     DAI-1d0F\n795                               4.972032e-01    -0.498801\nde1e0609fbe84008b5bed757a21da88e -3.577997e+03  3580.063945\nc58b09b0d6bc4534baf324267b12cc08  3.577003e+03 -3579.552900\n4c85f66495b144368500942aeb9230ec  4.972032e-01    -0.498801\nAMMIn                             3.577997e+03  3580.063945\nAMMOut                           -3.577997e+03 -3580.550502\nTOTAL NET                         1.869082e-07    -0.486557",
      "text/html": "<div>\n<style scoped>\n    .dataframe tbody tr th:only-of-type {\n        vertical-align: middle;\n    }\n\n    .dataframe tbody tr th {\n        vertical-align: top;\n    }\n\n    .dataframe thead th {\n        text-align: right;\n    }\n</style>\n<table border=\"1\" class=\"dataframe\">\n  <thead>\n    <tr style=\"text-align: right;\">\n      <th></th>\n      <th>USDT-1ec7</th>\n      <th>DAI-1d0F</th>\n    </tr>\n  </thead>\n  <tbody>\n    <tr>\n      <th>795</th>\n      <td>4.972032e-01</td>\n      <td>-0.498801</td>\n    </tr>\n    <tr>\n      <th>de1e0609fbe84008b5bed757a21da88e</th>\n      <td>-3.577997e+03</td>\n      <td>3580.063945</td>\n    </tr>\n    <tr>\n      <th>c58b09b0d6bc4534baf324267b12cc08</th>\n      <td>3.577003e+03</td>\n      <td>-3579.552900</td>\n    </tr>\n    <tr>\n      <th>4c85f66495b144368500942aeb9230ec</th>\n      <td>4.972032e-01</td>\n      <td>-0.498801</td>\n    </tr>\n    <tr>\n      <th>AMMIn</th>\n      <td>3.577997e+03</td>\n      <td>3580.063945</td>\n    </tr>\n    <tr>\n      <th>AMMOut</th>\n      <td>-3.577997e+03</td>\n      <td>-3580.550502</td>\n    </tr>\n    <tr>\n      <th>TOTAL NET</th>\n      <td>1.869082e-07</td>\n      <td>-0.486557</td>\n    </tr>\n  </tbody>\n</table>\n</div>"
     },
     "execution_count": 83,
     "metadata": {},
     "output_type": "execute_result"
    }
   ],
   "source": [
    "pi = CA.pair_data(pair)\n",
    "O = CPCArbOptimizer(pi.CC)\n",
    "r = O.margp_optimizer(pair.split(\"/\")[0])\n",
    "r.trade_instructions(ti_format=O.TIF_DFAGGR)"
   ]
  },
  {
   "cell_type": "code",
   "execution_count": 84,
   "id": "655ce7ae",
   "metadata": {
    "lines_to_next_cell": 2,
    "ExecuteTime": {
     "start_time": "2023-05-09T07:19:50.548063Z",
     "end_time": "2023-05-09T07:19:50.838867Z"
    }
   },
   "outputs": [
    {
     "data": {
      "text/plain": "                                    USDT-1ec7      DAI-1d0F\n795                                  0.497203 -4.988007e-01\nde1e0609fbe84008b5bed757a21da88e -3578.483445  3.580551e+03\nc58b09b0d6bc4534baf324267b12cc08  3577.002764 -3.579553e+03\n4c85f66495b144368500942aeb9230ec     0.497203 -4.988007e-01\nAMMIn                             3577.997171  3.580551e+03\nAMMOut                           -3578.483445 -3.580551e+03\nTOTAL NET                           -0.486274  2.228529e-08",
      "text/html": "<div>\n<style scoped>\n    .dataframe tbody tr th:only-of-type {\n        vertical-align: middle;\n    }\n\n    .dataframe tbody tr th {\n        vertical-align: top;\n    }\n\n    .dataframe thead th {\n        text-align: right;\n    }\n</style>\n<table border=\"1\" class=\"dataframe\">\n  <thead>\n    <tr style=\"text-align: right;\">\n      <th></th>\n      <th>USDT-1ec7</th>\n      <th>DAI-1d0F</th>\n    </tr>\n  </thead>\n  <tbody>\n    <tr>\n      <th>795</th>\n      <td>0.497203</td>\n      <td>-4.988007e-01</td>\n    </tr>\n    <tr>\n      <th>de1e0609fbe84008b5bed757a21da88e</th>\n      <td>-3578.483445</td>\n      <td>3.580551e+03</td>\n    </tr>\n    <tr>\n      <th>c58b09b0d6bc4534baf324267b12cc08</th>\n      <td>3577.002764</td>\n      <td>-3.579553e+03</td>\n    </tr>\n    <tr>\n      <th>4c85f66495b144368500942aeb9230ec</th>\n      <td>0.497203</td>\n      <td>-4.988007e-01</td>\n    </tr>\n    <tr>\n      <th>AMMIn</th>\n      <td>3577.997171</td>\n      <td>3.580551e+03</td>\n    </tr>\n    <tr>\n      <th>AMMOut</th>\n      <td>-3578.483445</td>\n      <td>-3.580551e+03</td>\n    </tr>\n    <tr>\n      <th>TOTAL NET</th>\n      <td>-0.486274</td>\n      <td>2.228529e-08</td>\n    </tr>\n  </tbody>\n</table>\n</div>"
     },
     "execution_count": 84,
     "metadata": {},
     "output_type": "execute_result"
    }
   ],
   "source": [
    "r = O.margp_optimizer(pair.split(\"/\")[1])\n",
    "r.trade_instructions(ti_format=O.TIF_DFAGGR)"
   ]
  },
  {
   "cell_type": "markdown",
   "id": "688cf539",
   "metadata": {},
   "source": [
    "#### DAI/USDC"
   ]
  },
  {
   "cell_type": "code",
   "execution_count": 85,
   "id": "631831d0",
   "metadata": {
    "ExecuteTime": {
     "start_time": "2023-05-09T07:19:50.560508Z",
     "end_time": "2023-05-09T07:19:50.838941Z"
    }
   },
   "outputs": [
    {
     "data": {
      "text/plain": "                          price            vl itm  bs  \\\nexchange     cid0                                       \ncarbon_v1    845828-0  1.001001  3.000000e+01       s   \n             845828-1  0.999001  2.002000e+01       b   \nsushiswap_v2 839       0.995940  2.573876e+04      bs   \n             de6b2675  0.999022  2.569909e+04      bs   \nuniswap_v3   35fe6796  1.002196  1.291845e+02      bs   \n             3880de01  1.000395  3.107288e+07      bs   \n             8a01aa74  1.000078  2.687145e+07      bs   \n\n                                                    bsv  \nexchange     cid0                                        \ncarbon_v1    845828-0      sell-DAI @ 1.00 USDC per DAI  \n             845828-1       buy-DAI @ 1.00 USDC per DAI  \nsushiswap_v2 839       buy-sell-DAI @ 1.00 USDC per DAI  \n             de6b2675  buy-sell-DAI @ 1.00 USDC per DAI  \nuniswap_v3   35fe6796  buy-sell-DAI @ 1.00 USDC per DAI  \n             3880de01  buy-sell-DAI @ 1.00 USDC per DAI  \n             8a01aa74  buy-sell-DAI @ 1.00 USDC per DAI  ",
      "text/html": "<div>\n<style scoped>\n    .dataframe tbody tr th:only-of-type {\n        vertical-align: middle;\n    }\n\n    .dataframe tbody tr th {\n        vertical-align: top;\n    }\n\n    .dataframe thead th {\n        text-align: right;\n    }\n</style>\n<table border=\"1\" class=\"dataframe\">\n  <thead>\n    <tr style=\"text-align: right;\">\n      <th></th>\n      <th></th>\n      <th>price</th>\n      <th>vl</th>\n      <th>itm</th>\n      <th>bs</th>\n      <th>bsv</th>\n    </tr>\n    <tr>\n      <th>exchange</th>\n      <th>cid0</th>\n      <th></th>\n      <th></th>\n      <th></th>\n      <th></th>\n      <th></th>\n    </tr>\n  </thead>\n  <tbody>\n    <tr>\n      <th rowspan=\"2\" valign=\"top\">carbon_v1</th>\n      <th>845828-0</th>\n      <td>1.001001</td>\n      <td>3.000000e+01</td>\n      <td></td>\n      <td>s</td>\n      <td>sell-DAI @ 1.00 USDC per DAI</td>\n    </tr>\n    <tr>\n      <th>845828-1</th>\n      <td>0.999001</td>\n      <td>2.002000e+01</td>\n      <td></td>\n      <td>b</td>\n      <td>buy-DAI @ 1.00 USDC per DAI</td>\n    </tr>\n    <tr>\n      <th rowspan=\"2\" valign=\"top\">sushiswap_v2</th>\n      <th>839</th>\n      <td>0.995940</td>\n      <td>2.573876e+04</td>\n      <td></td>\n      <td>bs</td>\n      <td>buy-sell-DAI @ 1.00 USDC per DAI</td>\n    </tr>\n    <tr>\n      <th>de6b2675</th>\n      <td>0.999022</td>\n      <td>2.569909e+04</td>\n      <td></td>\n      <td>bs</td>\n      <td>buy-sell-DAI @ 1.00 USDC per DAI</td>\n    </tr>\n    <tr>\n      <th rowspan=\"3\" valign=\"top\">uniswap_v3</th>\n      <th>35fe6796</th>\n      <td>1.002196</td>\n      <td>1.291845e+02</td>\n      <td></td>\n      <td>bs</td>\n      <td>buy-sell-DAI @ 1.00 USDC per DAI</td>\n    </tr>\n    <tr>\n      <th>3880de01</th>\n      <td>1.000395</td>\n      <td>3.107288e+07</td>\n      <td></td>\n      <td>bs</td>\n      <td>buy-sell-DAI @ 1.00 USDC per DAI</td>\n    </tr>\n    <tr>\n      <th>8a01aa74</th>\n      <td>1.000078</td>\n      <td>2.687145e+07</td>\n      <td></td>\n      <td>bs</td>\n      <td>buy-sell-DAI @ 1.00 USDC per DAI</td>\n    </tr>\n  </tbody>\n</table>\n</div>"
     },
     "execution_count": 85,
     "metadata": {},
     "output_type": "execute_result"
    }
   ],
   "source": [
    "pair = \"DAI-1d0F/USDC-eB48\"\n",
    "pricedf.loc[Pair.n(pair)]"
   ]
  },
  {
   "cell_type": "code",
   "execution_count": 86,
   "id": "1ca5d97b",
   "metadata": {
    "ExecuteTime": {
     "start_time": "2023-05-09T07:19:50.572776Z",
     "end_time": "2023-05-09T07:19:50.839015Z"
    }
   },
   "outputs": [
    {
     "data": {
      "text/plain": "                                     USDC-eB48      DAI-1d0F\n839                               2.727103e+01 -2.732406e+01\n873a7e371be64eb485a3cfee35fe6796 -4.342041e+01  4.336886e+01\n7af1ca9ab5eb4b5f98105df03880de01 -6.589934e+06  6.588031e+06\n56ae8dd6f6e44916af9b037ade6b2675  7.456878e+00 -7.459846e+00\n21f3ea686abd44c6b7829e488a01aa74  6.589943e+06 -6.589347e+06\nAMMIn                             6.589978e+06  6.588075e+06\nAMMOut                           -6.589978e+06 -6.589382e+06\nTOTAL NET                         4.082918e-06 -1.307515e+03",
      "text/html": "<div>\n<style scoped>\n    .dataframe tbody tr th:only-of-type {\n        vertical-align: middle;\n    }\n\n    .dataframe tbody tr th {\n        vertical-align: top;\n    }\n\n    .dataframe thead th {\n        text-align: right;\n    }\n</style>\n<table border=\"1\" class=\"dataframe\">\n  <thead>\n    <tr style=\"text-align: right;\">\n      <th></th>\n      <th>USDC-eB48</th>\n      <th>DAI-1d0F</th>\n    </tr>\n  </thead>\n  <tbody>\n    <tr>\n      <th>839</th>\n      <td>2.727103e+01</td>\n      <td>-2.732406e+01</td>\n    </tr>\n    <tr>\n      <th>873a7e371be64eb485a3cfee35fe6796</th>\n      <td>-4.342041e+01</td>\n      <td>4.336886e+01</td>\n    </tr>\n    <tr>\n      <th>7af1ca9ab5eb4b5f98105df03880de01</th>\n      <td>-6.589934e+06</td>\n      <td>6.588031e+06</td>\n    </tr>\n    <tr>\n      <th>56ae8dd6f6e44916af9b037ade6b2675</th>\n      <td>7.456878e+00</td>\n      <td>-7.459846e+00</td>\n    </tr>\n    <tr>\n      <th>21f3ea686abd44c6b7829e488a01aa74</th>\n      <td>6.589943e+06</td>\n      <td>-6.589347e+06</td>\n    </tr>\n    <tr>\n      <th>AMMIn</th>\n      <td>6.589978e+06</td>\n      <td>6.588075e+06</td>\n    </tr>\n    <tr>\n      <th>AMMOut</th>\n      <td>-6.589978e+06</td>\n      <td>-6.589382e+06</td>\n    </tr>\n    <tr>\n      <th>TOTAL NET</th>\n      <td>4.082918e-06</td>\n      <td>-1.307515e+03</td>\n    </tr>\n  </tbody>\n</table>\n</div>"
     },
     "execution_count": 86,
     "metadata": {},
     "output_type": "execute_result"
    }
   ],
   "source": [
    "pi = CA.pair_data(pair)\n",
    "O = CPCArbOptimizer(pi.CC)\n",
    "r = O.margp_optimizer(pair.split(\"/\")[0])\n",
    "r.trade_instructions(ti_format=O.TIF_DFAGGR)"
   ]
  },
  {
   "cell_type": "code",
   "execution_count": 87,
   "id": "a38cce64",
   "metadata": {
    "lines_to_next_cell": 2,
    "ExecuteTime": {
     "start_time": "2023-05-09T07:19:50.586138Z",
     "end_time": "2023-05-09T07:19:50.928039Z"
    }
   },
   "outputs": [
    {
     "data": {
      "text/plain": "                                     USDC-eB48      DAI-1d0F\n839                               2.727076e+01 -2.732379e+01\n873a7e371be64eb485a3cfee35fe6796 -4.342132e+01  4.336977e+01\n7af1ca9ab5eb4b5f98105df03880de01 -6.591242e+06  6.589339e+06\n56ae8dd6f6e44916af9b037ade6b2675  7.456608e+00 -7.459575e+00\n21f3ea686abd44c6b7829e488a01aa74  6.589943e+06 -6.589347e+06\nAMMIn                             6.589978e+06  6.589382e+06\nAMMOut                           -6.591285e+06 -6.589382e+06\nTOTAL NET                        -1.307754e+03 -3.297813e-06",
      "text/html": "<div>\n<style scoped>\n    .dataframe tbody tr th:only-of-type {\n        vertical-align: middle;\n    }\n\n    .dataframe tbody tr th {\n        vertical-align: top;\n    }\n\n    .dataframe thead th {\n        text-align: right;\n    }\n</style>\n<table border=\"1\" class=\"dataframe\">\n  <thead>\n    <tr style=\"text-align: right;\">\n      <th></th>\n      <th>USDC-eB48</th>\n      <th>DAI-1d0F</th>\n    </tr>\n  </thead>\n  <tbody>\n    <tr>\n      <th>839</th>\n      <td>2.727076e+01</td>\n      <td>-2.732379e+01</td>\n    </tr>\n    <tr>\n      <th>873a7e371be64eb485a3cfee35fe6796</th>\n      <td>-4.342132e+01</td>\n      <td>4.336977e+01</td>\n    </tr>\n    <tr>\n      <th>7af1ca9ab5eb4b5f98105df03880de01</th>\n      <td>-6.591242e+06</td>\n      <td>6.589339e+06</td>\n    </tr>\n    <tr>\n      <th>56ae8dd6f6e44916af9b037ade6b2675</th>\n      <td>7.456608e+00</td>\n      <td>-7.459575e+00</td>\n    </tr>\n    <tr>\n      <th>21f3ea686abd44c6b7829e488a01aa74</th>\n      <td>6.589943e+06</td>\n      <td>-6.589347e+06</td>\n    </tr>\n    <tr>\n      <th>AMMIn</th>\n      <td>6.589978e+06</td>\n      <td>6.589382e+06</td>\n    </tr>\n    <tr>\n      <th>AMMOut</th>\n      <td>-6.591285e+06</td>\n      <td>-6.589382e+06</td>\n    </tr>\n    <tr>\n      <th>TOTAL NET</th>\n      <td>-1.307754e+03</td>\n      <td>-3.297813e-06</td>\n    </tr>\n  </tbody>\n</table>\n</div>"
     },
     "execution_count": 87,
     "metadata": {},
     "output_type": "execute_result"
    }
   ],
   "source": [
    "r = O.margp_optimizer(pair.split(\"/\")[1])\n",
    "r.trade_instructions(ti_format=O.TIF_DFAGGR)"
   ]
  },
  {
   "cell_type": "markdown",
   "id": "ffe9513b",
   "metadata": {},
   "source": [
    "#### WETH/USDT"
   ]
  },
  {
   "cell_type": "code",
   "execution_count": 88,
   "id": "6752547e",
   "metadata": {
    "ExecuteTime": {
     "start_time": "2023-05-09T07:19:50.596563Z",
     "end_time": "2023-05-09T07:19:50.928167Z"
    }
   },
   "outputs": [
    {
     "data": {
      "text/plain": "                             price            vl itm  bs  \\\nexchange     cid0                                          \ncarbon_v1    691656-0  1891.000189      0.002644   x   b   \nsushiswap_v2 840       1837.198565  10784.561352   x  bs   \n             8f44c4dd  1841.824009  10761.574447   x  bs   \nuniswap_v2   256       1841.296145  32753.117769   x  bs   \n             f9829ce2  1841.209489  33265.845470   x  bs   \nuniswap_v3   406a386b  1838.536133    199.303088   x  bs   \n             7d051d19  1838.766710     48.706142   x  bs   \n             b23b929d  1841.759896    292.510987   x  bs   \n\n                                                         bsv  \nexchange     cid0                                             \ncarbon_v1    691656-0       buy-WETH @ 1891.00 USDT per WETH  \nsushiswap_v2 840       buy-sell-WETH @ 1837.20 USDT per WETH  \n             8f44c4dd  buy-sell-WETH @ 1841.82 USDT per WETH  \nuniswap_v2   256       buy-sell-WETH @ 1841.30 USDT per WETH  \n             f9829ce2  buy-sell-WETH @ 1841.21 USDT per WETH  \nuniswap_v3   406a386b  buy-sell-WETH @ 1838.54 USDT per WETH  \n             7d051d19  buy-sell-WETH @ 1838.77 USDT per WETH  \n             b23b929d  buy-sell-WETH @ 1841.76 USDT per WETH  ",
      "text/html": "<div>\n<style scoped>\n    .dataframe tbody tr th:only-of-type {\n        vertical-align: middle;\n    }\n\n    .dataframe tbody tr th {\n        vertical-align: top;\n    }\n\n    .dataframe thead th {\n        text-align: right;\n    }\n</style>\n<table border=\"1\" class=\"dataframe\">\n  <thead>\n    <tr style=\"text-align: right;\">\n      <th></th>\n      <th></th>\n      <th>price</th>\n      <th>vl</th>\n      <th>itm</th>\n      <th>bs</th>\n      <th>bsv</th>\n    </tr>\n    <tr>\n      <th>exchange</th>\n      <th>cid0</th>\n      <th></th>\n      <th></th>\n      <th></th>\n      <th></th>\n      <th></th>\n    </tr>\n  </thead>\n  <tbody>\n    <tr>\n      <th>carbon_v1</th>\n      <th>691656-0</th>\n      <td>1891.000189</td>\n      <td>0.002644</td>\n      <td>x</td>\n      <td>b</td>\n      <td>buy-WETH @ 1891.00 USDT per WETH</td>\n    </tr>\n    <tr>\n      <th rowspan=\"2\" valign=\"top\">sushiswap_v2</th>\n      <th>840</th>\n      <td>1837.198565</td>\n      <td>10784.561352</td>\n      <td>x</td>\n      <td>bs</td>\n      <td>buy-sell-WETH @ 1837.20 USDT per WETH</td>\n    </tr>\n    <tr>\n      <th>8f44c4dd</th>\n      <td>1841.824009</td>\n      <td>10761.574447</td>\n      <td>x</td>\n      <td>bs</td>\n      <td>buy-sell-WETH @ 1841.82 USDT per WETH</td>\n    </tr>\n    <tr>\n      <th rowspan=\"2\" valign=\"top\">uniswap_v2</th>\n      <th>256</th>\n      <td>1841.296145</td>\n      <td>32753.117769</td>\n      <td>x</td>\n      <td>bs</td>\n      <td>buy-sell-WETH @ 1841.30 USDT per WETH</td>\n    </tr>\n    <tr>\n      <th>f9829ce2</th>\n      <td>1841.209489</td>\n      <td>33265.845470</td>\n      <td>x</td>\n      <td>bs</td>\n      <td>buy-sell-WETH @ 1841.21 USDT per WETH</td>\n    </tr>\n    <tr>\n      <th rowspan=\"3\" valign=\"top\">uniswap_v3</th>\n      <th>406a386b</th>\n      <td>1838.536133</td>\n      <td>199.303088</td>\n      <td>x</td>\n      <td>bs</td>\n      <td>buy-sell-WETH @ 1838.54 USDT per WETH</td>\n    </tr>\n    <tr>\n      <th>7d051d19</th>\n      <td>1838.766710</td>\n      <td>48.706142</td>\n      <td>x</td>\n      <td>bs</td>\n      <td>buy-sell-WETH @ 1838.77 USDT per WETH</td>\n    </tr>\n    <tr>\n      <th>b23b929d</th>\n      <td>1841.759896</td>\n      <td>292.510987</td>\n      <td>x</td>\n      <td>bs</td>\n      <td>buy-sell-WETH @ 1841.76 USDT per WETH</td>\n    </tr>\n  </tbody>\n</table>\n</div>"
     },
     "execution_count": 88,
     "metadata": {},
     "output_type": "execute_result"
    }
   ],
   "source": [
    "pair = \"WETH-6Cc2/USDT-1ec7\"\n",
    "pricedf.loc[Pair.n(pair)]"
   ]
  },
  {
   "cell_type": "code",
   "execution_count": 89,
   "id": "c454f2d9",
   "metadata": {
    "ExecuteTime": {
     "start_time": "2023-05-09T07:19:50.602369Z",
     "end_time": "2023-05-09T07:19:50.928242Z"
    }
   },
   "outputs": [
    {
     "data": {
      "text/plain": "                                               USDT-1ec7  WETH-6Cc2\n840                                         10003.618548  -5.439547\n256                                         -3155.585199   1.713964\nf8c64dd2abd24ca9941c4407f9829ce2            -2484.245099   1.349356\na838c700fdba49e59bc0376b406a386b            23733.164297 -12.900400\n1f595b1af09543b6959e9f1cb23b929d           -41440.790472  22.505836\n2722258935367507707706996859454145691656-0     -5.000000   0.002644\nac864c78bea34cb7b5e51b038f44c4dd            -2457.231766   1.334460\n67f9d1e2b3fc407eb44dcb637d051d19            15806.069575  -8.595259\nAMMIn                                       49542.852420  26.906261\nAMMOut                                     -49542.852537 -26.935206\nTOTAL NET                                      -0.000116  -0.028945",
      "text/html": "<div>\n<style scoped>\n    .dataframe tbody tr th:only-of-type {\n        vertical-align: middle;\n    }\n\n    .dataframe tbody tr th {\n        vertical-align: top;\n    }\n\n    .dataframe thead th {\n        text-align: right;\n    }\n</style>\n<table border=\"1\" class=\"dataframe\">\n  <thead>\n    <tr style=\"text-align: right;\">\n      <th></th>\n      <th>USDT-1ec7</th>\n      <th>WETH-6Cc2</th>\n    </tr>\n  </thead>\n  <tbody>\n    <tr>\n      <th>840</th>\n      <td>10003.618548</td>\n      <td>-5.439547</td>\n    </tr>\n    <tr>\n      <th>256</th>\n      <td>-3155.585199</td>\n      <td>1.713964</td>\n    </tr>\n    <tr>\n      <th>f8c64dd2abd24ca9941c4407f9829ce2</th>\n      <td>-2484.245099</td>\n      <td>1.349356</td>\n    </tr>\n    <tr>\n      <th>a838c700fdba49e59bc0376b406a386b</th>\n      <td>23733.164297</td>\n      <td>-12.900400</td>\n    </tr>\n    <tr>\n      <th>1f595b1af09543b6959e9f1cb23b929d</th>\n      <td>-41440.790472</td>\n      <td>22.505836</td>\n    </tr>\n    <tr>\n      <th>2722258935367507707706996859454145691656-0</th>\n      <td>-5.000000</td>\n      <td>0.002644</td>\n    </tr>\n    <tr>\n      <th>ac864c78bea34cb7b5e51b038f44c4dd</th>\n      <td>-2457.231766</td>\n      <td>1.334460</td>\n    </tr>\n    <tr>\n      <th>67f9d1e2b3fc407eb44dcb637d051d19</th>\n      <td>15806.069575</td>\n      <td>-8.595259</td>\n    </tr>\n    <tr>\n      <th>AMMIn</th>\n      <td>49542.852420</td>\n      <td>26.906261</td>\n    </tr>\n    <tr>\n      <th>AMMOut</th>\n      <td>-49542.852537</td>\n      <td>-26.935206</td>\n    </tr>\n    <tr>\n      <th>TOTAL NET</th>\n      <td>-0.000116</td>\n      <td>-0.028945</td>\n    </tr>\n  </tbody>\n</table>\n</div>"
     },
     "execution_count": 89,
     "metadata": {},
     "output_type": "execute_result"
    }
   ],
   "source": [
    "pi = CA.pair_data(pair)\n",
    "O = CPCArbOptimizer(pi.CC)\n",
    "r = O.margp_optimizer(pair.split(\"/\")[0])\n",
    "r.trade_instructions(ti_format=O.TIF_DFAGGR)"
   ]
  },
  {
   "cell_type": "code",
   "execution_count": 90,
   "id": "34cf957e",
   "metadata": {
    "lines_to_next_cell": 2,
    "ExecuteTime": {
     "start_time": "2023-05-09T07:19:50.623173Z",
     "end_time": "2023-05-09T07:19:50.931559Z"
    }
   },
   "outputs": [
    {
     "data": {
      "text/plain": "                                               USDT-1ec7     WETH-6Cc2\n840                                         10001.839956 -5.438580e+00\n256                                         -3160.992871  1.716902e+00\nf8c64dd2abd24ca9941c4407f9829ce2            -2489.737295  1.352339e+00\na838c700fdba49e59bc0376b406a386b            23726.566675 -1.289682e+01\n1f595b1af09543b6959e9f1cb23b929d           -41473.022431  2.252334e+01\n2722258935367507707706996859454145691656-0     -5.000000  2.644104e-03\nac864c78bea34cb7b5e51b038f44c4dd            -2459.008800  1.335426e+00\n67f9d1e2b3fc407eb44dcb637d051d19            15806.069575 -8.595259e+00\nAMMIn                                       49534.476206  2.693066e+01\nAMMOut                                     -49587.761398 -2.693066e+01\nTOTAL NET                                     -53.285192 -4.180765e-08",
      "text/html": "<div>\n<style scoped>\n    .dataframe tbody tr th:only-of-type {\n        vertical-align: middle;\n    }\n\n    .dataframe tbody tr th {\n        vertical-align: top;\n    }\n\n    .dataframe thead th {\n        text-align: right;\n    }\n</style>\n<table border=\"1\" class=\"dataframe\">\n  <thead>\n    <tr style=\"text-align: right;\">\n      <th></th>\n      <th>USDT-1ec7</th>\n      <th>WETH-6Cc2</th>\n    </tr>\n  </thead>\n  <tbody>\n    <tr>\n      <th>840</th>\n      <td>10001.839956</td>\n      <td>-5.438580e+00</td>\n    </tr>\n    <tr>\n      <th>256</th>\n      <td>-3160.992871</td>\n      <td>1.716902e+00</td>\n    </tr>\n    <tr>\n      <th>f8c64dd2abd24ca9941c4407f9829ce2</th>\n      <td>-2489.737295</td>\n      <td>1.352339e+00</td>\n    </tr>\n    <tr>\n      <th>a838c700fdba49e59bc0376b406a386b</th>\n      <td>23726.566675</td>\n      <td>-1.289682e+01</td>\n    </tr>\n    <tr>\n      <th>1f595b1af09543b6959e9f1cb23b929d</th>\n      <td>-41473.022431</td>\n      <td>2.252334e+01</td>\n    </tr>\n    <tr>\n      <th>2722258935367507707706996859454145691656-0</th>\n      <td>-5.000000</td>\n      <td>2.644104e-03</td>\n    </tr>\n    <tr>\n      <th>ac864c78bea34cb7b5e51b038f44c4dd</th>\n      <td>-2459.008800</td>\n      <td>1.335426e+00</td>\n    </tr>\n    <tr>\n      <th>67f9d1e2b3fc407eb44dcb637d051d19</th>\n      <td>15806.069575</td>\n      <td>-8.595259e+00</td>\n    </tr>\n    <tr>\n      <th>AMMIn</th>\n      <td>49534.476206</td>\n      <td>2.693066e+01</td>\n    </tr>\n    <tr>\n      <th>AMMOut</th>\n      <td>-49587.761398</td>\n      <td>-2.693066e+01</td>\n    </tr>\n    <tr>\n      <th>TOTAL NET</th>\n      <td>-53.285192</td>\n      <td>-4.180765e-08</td>\n    </tr>\n  </tbody>\n</table>\n</div>"
     },
     "execution_count": 90,
     "metadata": {},
     "output_type": "execute_result"
    }
   ],
   "source": [
    "r = O.margp_optimizer(pair.split(\"/\")[1])\n",
    "r.trade_instructions(ti_format=O.TIF_DFAGGR)"
   ]
  },
  {
   "cell_type": "markdown",
   "id": "90ef05fe",
   "metadata": {},
   "source": [
    "#### LINK/USDC"
   ]
  },
  {
   "cell_type": "code",
   "execution_count": 91,
   "id": "8140ba4d-b102-4a80-89af-881d5cd05cd1",
   "metadata": {
    "ExecuteTime": {
     "start_time": "2023-05-09T07:19:50.632021Z",
     "end_time": "2023-05-09T07:19:50.931680Z"
    }
   },
   "outputs": [
    {
     "data": {
      "text/plain": "                          price          vl itm  bs  \\\nexchange     cid0                                     \ncarbon_v1    497903-1  7.750000  342.883761       s   \nsushiswap_v2 792       6.935941    3.543424   x  bs   \n             e6e5be6d  6.935941    3.543424   x  bs   \nuniswap_v2   176       6.794102  183.739077   x  bs   \n             ae494094  6.794102  183.739077   x  bs   \nuniswap_v3   51505935  6.546066  295.418600   x  bs   \n\n                                                      bsv  \nexchange     cid0                                          \ncarbon_v1    497903-1      sell-LINK @ 7.75 USDC per LINK  \nsushiswap_v2 792       buy-sell-LINK @ 6.94 USDC per LINK  \n             e6e5be6d  buy-sell-LINK @ 6.94 USDC per LINK  \nuniswap_v2   176       buy-sell-LINK @ 6.79 USDC per LINK  \n             ae494094  buy-sell-LINK @ 6.79 USDC per LINK  \nuniswap_v3   51505935  buy-sell-LINK @ 6.55 USDC per LINK  ",
      "text/html": "<div>\n<style scoped>\n    .dataframe tbody tr th:only-of-type {\n        vertical-align: middle;\n    }\n\n    .dataframe tbody tr th {\n        vertical-align: top;\n    }\n\n    .dataframe thead th {\n        text-align: right;\n    }\n</style>\n<table border=\"1\" class=\"dataframe\">\n  <thead>\n    <tr style=\"text-align: right;\">\n      <th></th>\n      <th></th>\n      <th>price</th>\n      <th>vl</th>\n      <th>itm</th>\n      <th>bs</th>\n      <th>bsv</th>\n    </tr>\n    <tr>\n      <th>exchange</th>\n      <th>cid0</th>\n      <th></th>\n      <th></th>\n      <th></th>\n      <th></th>\n      <th></th>\n    </tr>\n  </thead>\n  <tbody>\n    <tr>\n      <th>carbon_v1</th>\n      <th>497903-1</th>\n      <td>7.750000</td>\n      <td>342.883761</td>\n      <td></td>\n      <td>s</td>\n      <td>sell-LINK @ 7.75 USDC per LINK</td>\n    </tr>\n    <tr>\n      <th rowspan=\"2\" valign=\"top\">sushiswap_v2</th>\n      <th>792</th>\n      <td>6.935941</td>\n      <td>3.543424</td>\n      <td>x</td>\n      <td>bs</td>\n      <td>buy-sell-LINK @ 6.94 USDC per LINK</td>\n    </tr>\n    <tr>\n      <th>e6e5be6d</th>\n      <td>6.935941</td>\n      <td>3.543424</td>\n      <td>x</td>\n      <td>bs</td>\n      <td>buy-sell-LINK @ 6.94 USDC per LINK</td>\n    </tr>\n    <tr>\n      <th rowspan=\"2\" valign=\"top\">uniswap_v2</th>\n      <th>176</th>\n      <td>6.794102</td>\n      <td>183.739077</td>\n      <td>x</td>\n      <td>bs</td>\n      <td>buy-sell-LINK @ 6.79 USDC per LINK</td>\n    </tr>\n    <tr>\n      <th>ae494094</th>\n      <td>6.794102</td>\n      <td>183.739077</td>\n      <td>x</td>\n      <td>bs</td>\n      <td>buy-sell-LINK @ 6.79 USDC per LINK</td>\n    </tr>\n    <tr>\n      <th>uniswap_v3</th>\n      <th>51505935</th>\n      <td>6.546066</td>\n      <td>295.418600</td>\n      <td>x</td>\n      <td>bs</td>\n      <td>buy-sell-LINK @ 6.55 USDC per LINK</td>\n    </tr>\n  </tbody>\n</table>\n</div>"
     },
     "execution_count": 91,
     "metadata": {},
     "output_type": "execute_result"
    }
   ],
   "source": [
    "pair = \"LINK-86CA/USDC-eB48\"\n",
    "pricedf.loc[Pair.n(pair)]"
   ]
  },
  {
   "cell_type": "code",
   "execution_count": 92,
   "id": "90995122",
   "metadata": {
    "ExecuteTime": {
     "start_time": "2023-05-09T07:19:50.638349Z",
     "end_time": "2023-05-09T07:19:50.931786Z"
    }
   },
   "outputs": [
    {
     "data": {
      "text/plain": "                                  LINK-86CA     USDC-eB48\n176                                1.720896 -1.147696e+01\n792                                0.051931 -3.499304e-01\n368ffa4c667d4eb48fe33873e6e5be6d   0.051931 -3.499304e-01\n83ed42e38ac3464482db3af8ae494094   1.720896 -1.147696e+01\nf0e05bc5af5546cda90e559151505935  -3.613302  2.365378e+01\nAMMIn                              3.545654  2.365378e+01\nAMMOut                            -3.613302 -2.365378e+01\nTOTAL NET                         -0.067648  2.557954e-13",
      "text/html": "<div>\n<style scoped>\n    .dataframe tbody tr th:only-of-type {\n        vertical-align: middle;\n    }\n\n    .dataframe tbody tr th {\n        vertical-align: top;\n    }\n\n    .dataframe thead th {\n        text-align: right;\n    }\n</style>\n<table border=\"1\" class=\"dataframe\">\n  <thead>\n    <tr style=\"text-align: right;\">\n      <th></th>\n      <th>LINK-86CA</th>\n      <th>USDC-eB48</th>\n    </tr>\n  </thead>\n  <tbody>\n    <tr>\n      <th>176</th>\n      <td>1.720896</td>\n      <td>-1.147696e+01</td>\n    </tr>\n    <tr>\n      <th>792</th>\n      <td>0.051931</td>\n      <td>-3.499304e-01</td>\n    </tr>\n    <tr>\n      <th>368ffa4c667d4eb48fe33873e6e5be6d</th>\n      <td>0.051931</td>\n      <td>-3.499304e-01</td>\n    </tr>\n    <tr>\n      <th>83ed42e38ac3464482db3af8ae494094</th>\n      <td>1.720896</td>\n      <td>-1.147696e+01</td>\n    </tr>\n    <tr>\n      <th>f0e05bc5af5546cda90e559151505935</th>\n      <td>-3.613302</td>\n      <td>2.365378e+01</td>\n    </tr>\n    <tr>\n      <th>AMMIn</th>\n      <td>3.545654</td>\n      <td>2.365378e+01</td>\n    </tr>\n    <tr>\n      <th>AMMOut</th>\n      <td>-3.613302</td>\n      <td>-2.365378e+01</td>\n    </tr>\n    <tr>\n      <th>TOTAL NET</th>\n      <td>-0.067648</td>\n      <td>2.557954e-13</td>\n    </tr>\n  </tbody>\n</table>\n</div>"
     },
     "execution_count": 92,
     "metadata": {},
     "output_type": "execute_result"
    }
   ],
   "source": [
    "pi = CA.pair_data(pair)\n",
    "O = CPCArbOptimizer(pi.CC)\n",
    "r = O.margp_optimizer(pair.split(\"/\")[0])\n",
    "r.trade_instructions(ti_format=O.TIF_DFAGGR)"
   ]
  },
  {
   "cell_type": "code",
   "execution_count": 93,
   "id": "8da912f9",
   "metadata": {
    "lines_to_next_cell": 2,
    "ExecuteTime": {
     "start_time": "2023-05-09T07:19:50.649738Z",
     "end_time": "2023-05-09T07:19:50.931867Z"
    }
   },
   "outputs": [
    {
     "data": {
      "text/plain": "                                     LINK-86CA  USDC-eB48\n176                               1.720960e+00 -11.477379\n792                               5.193180e-02  -0.349939\n368ffa4c667d4eb48fe33873e6e5be6d  5.193180e-02  -0.349939\n83ed42e38ac3464482db3af8ae494094  1.720960e+00 -11.477379\nf0e05bc5af5546cda90e559151505935 -3.545784e+00  23.211772\nAMMIn                             3.545784e+00  23.211772\nAMMOut                           -3.545784e+00 -23.654634\nTOTAL NET                         2.397726e-11  -0.442862",
      "text/html": "<div>\n<style scoped>\n    .dataframe tbody tr th:only-of-type {\n        vertical-align: middle;\n    }\n\n    .dataframe tbody tr th {\n        vertical-align: top;\n    }\n\n    .dataframe thead th {\n        text-align: right;\n    }\n</style>\n<table border=\"1\" class=\"dataframe\">\n  <thead>\n    <tr style=\"text-align: right;\">\n      <th></th>\n      <th>LINK-86CA</th>\n      <th>USDC-eB48</th>\n    </tr>\n  </thead>\n  <tbody>\n    <tr>\n      <th>176</th>\n      <td>1.720960e+00</td>\n      <td>-11.477379</td>\n    </tr>\n    <tr>\n      <th>792</th>\n      <td>5.193180e-02</td>\n      <td>-0.349939</td>\n    </tr>\n    <tr>\n      <th>368ffa4c667d4eb48fe33873e6e5be6d</th>\n      <td>5.193180e-02</td>\n      <td>-0.349939</td>\n    </tr>\n    <tr>\n      <th>83ed42e38ac3464482db3af8ae494094</th>\n      <td>1.720960e+00</td>\n      <td>-11.477379</td>\n    </tr>\n    <tr>\n      <th>f0e05bc5af5546cda90e559151505935</th>\n      <td>-3.545784e+00</td>\n      <td>23.211772</td>\n    </tr>\n    <tr>\n      <th>AMMIn</th>\n      <td>3.545784e+00</td>\n      <td>23.211772</td>\n    </tr>\n    <tr>\n      <th>AMMOut</th>\n      <td>-3.545784e+00</td>\n      <td>-23.654634</td>\n    </tr>\n    <tr>\n      <th>TOTAL NET</th>\n      <td>2.397726e-11</td>\n      <td>-0.442862</td>\n    </tr>\n  </tbody>\n</table>\n</div>"
     },
     "execution_count": 93,
     "metadata": {},
     "output_type": "execute_result"
    }
   ],
   "source": [
    "r = O.margp_optimizer(pair.split(\"/\")[1])\n",
    "r.trade_instructions(ti_format=O.TIF_DFAGGR)"
   ]
  },
  {
   "cell_type": "markdown",
   "id": "4df71521",
   "metadata": {},
   "source": [
    "#### PEPE/WETH"
   ]
  },
  {
   "cell_type": "code",
   "execution_count": 94,
   "id": "936d2a44",
   "metadata": {
    "ExecuteTime": {
     "start_time": "2023-05-09T07:19:50.655630Z",
     "end_time": "2023-05-09T07:19:50.931946Z"
    }
   },
   "outputs": [
    {
     "data": {
      "text/plain": "                           price            vl itm bs  \\\nexchange  cid0                                          \ncarbon_v1 440620-1  4.000000e-07  7.144675e+06      s   \n          440621-1  4.500000e-07  1.315789e+06      s   \n\n                                               bsv  \nexchange  cid0                                      \ncarbon_v1 440620-1  sell-PEPE @ 0.00 WETH per PEPE  \n          440621-1  sell-PEPE @ 0.00 WETH per PEPE  ",
      "text/html": "<div>\n<style scoped>\n    .dataframe tbody tr th:only-of-type {\n        vertical-align: middle;\n    }\n\n    .dataframe tbody tr th {\n        vertical-align: top;\n    }\n\n    .dataframe thead th {\n        text-align: right;\n    }\n</style>\n<table border=\"1\" class=\"dataframe\">\n  <thead>\n    <tr style=\"text-align: right;\">\n      <th></th>\n      <th></th>\n      <th>price</th>\n      <th>vl</th>\n      <th>itm</th>\n      <th>bs</th>\n      <th>bsv</th>\n    </tr>\n    <tr>\n      <th>exchange</th>\n      <th>cid0</th>\n      <th></th>\n      <th></th>\n      <th></th>\n      <th></th>\n      <th></th>\n    </tr>\n  </thead>\n  <tbody>\n    <tr>\n      <th rowspan=\"2\" valign=\"top\">carbon_v1</th>\n      <th>440620-1</th>\n      <td>4.000000e-07</td>\n      <td>7.144675e+06</td>\n      <td></td>\n      <td>s</td>\n      <td>sell-PEPE @ 0.00 WETH per PEPE</td>\n    </tr>\n    <tr>\n      <th>440621-1</th>\n      <td>4.500000e-07</td>\n      <td>1.315789e+06</td>\n      <td></td>\n      <td>s</td>\n      <td>sell-PEPE @ 0.00 WETH per PEPE</td>\n    </tr>\n  </tbody>\n</table>\n</div>"
     },
     "execution_count": 94,
     "metadata": {},
     "output_type": "execute_result"
    }
   ],
   "source": [
    "pair = \"PEPE-1933/WETH-6Cc2\"\n",
    "pricedf.loc[Pair.n(pair)]"
   ]
  },
  {
   "cell_type": "code",
   "execution_count": 95,
   "id": "2a6bcf74",
   "metadata": {
    "ExecuteTime": {
     "start_time": "2023-05-09T07:19:50.658346Z",
     "end_time": "2023-05-09T07:19:50.931982Z"
    }
   },
   "outputs": [],
   "source": [
    "# pi = CA.pair_data(pair)\n",
    "# O = CPCArbOptimizer(pi.CC)\n",
    "# r = O.margp_optimizer(pair.split(\"/\")[0])\n",
    "# r.trade_instructions(ti_format=O.TIF_DFAGGR)"
   ]
  },
  {
   "cell_type": "code",
   "execution_count": 96,
   "id": "83b206a7",
   "metadata": {
    "lines_to_next_cell": 2,
    "ExecuteTime": {
     "start_time": "2023-05-09T07:19:50.660580Z",
     "end_time": "2023-05-09T07:19:50.932012Z"
    }
   },
   "outputs": [],
   "source": [
    "# r = O.margp_optimizer(pair.split(\"/\")[1])\n",
    "# r.trade_instructions(ti_format=O.TIF_DFAGGR)"
   ]
  },
  {
   "cell_type": "markdown",
   "id": "a34a57e1",
   "metadata": {},
   "source": [
    "#### stETH/WETH"
   ]
  },
  {
   "cell_type": "code",
   "execution_count": 97,
   "id": "57929c47",
   "metadata": {
    "ExecuteTime": {
     "start_time": "2023-05-09T07:19:50.665732Z",
     "end_time": "2023-05-09T07:19:50.932091Z"
    }
   },
   "outputs": [
    {
     "data": {
      "text/plain": "                        price           vl itm  bs  \\\nexchange   cid0                                      \ncarbon_v1  422914-0  1.010101     0.002032       s   \n           422914-1  0.990099     0.080114       b   \nuniswap_v2 ff7abe20  0.995957  2457.106537      bs   \nuniswap_v3 154a5023  0.997410    58.007285      bs   \n\n                                                      bsv  \nexchange   cid0                                            \ncarbon_v1  422914-0      sell-stETH @ 1.01 WETH per stETH  \n           422914-1       buy-stETH @ 0.99 WETH per stETH  \nuniswap_v2 ff7abe20  buy-sell-stETH @ 1.00 WETH per stETH  \nuniswap_v3 154a5023  buy-sell-stETH @ 1.00 WETH per stETH  ",
      "text/html": "<div>\n<style scoped>\n    .dataframe tbody tr th:only-of-type {\n        vertical-align: middle;\n    }\n\n    .dataframe tbody tr th {\n        vertical-align: top;\n    }\n\n    .dataframe thead th {\n        text-align: right;\n    }\n</style>\n<table border=\"1\" class=\"dataframe\">\n  <thead>\n    <tr style=\"text-align: right;\">\n      <th></th>\n      <th></th>\n      <th>price</th>\n      <th>vl</th>\n      <th>itm</th>\n      <th>bs</th>\n      <th>bsv</th>\n    </tr>\n    <tr>\n      <th>exchange</th>\n      <th>cid0</th>\n      <th></th>\n      <th></th>\n      <th></th>\n      <th></th>\n      <th></th>\n    </tr>\n  </thead>\n  <tbody>\n    <tr>\n      <th rowspan=\"2\" valign=\"top\">carbon_v1</th>\n      <th>422914-0</th>\n      <td>1.010101</td>\n      <td>0.002032</td>\n      <td></td>\n      <td>s</td>\n      <td>sell-stETH @ 1.01 WETH per stETH</td>\n    </tr>\n    <tr>\n      <th>422914-1</th>\n      <td>0.990099</td>\n      <td>0.080114</td>\n      <td></td>\n      <td>b</td>\n      <td>buy-stETH @ 0.99 WETH per stETH</td>\n    </tr>\n    <tr>\n      <th>uniswap_v2</th>\n      <th>ff7abe20</th>\n      <td>0.995957</td>\n      <td>2457.106537</td>\n      <td></td>\n      <td>bs</td>\n      <td>buy-sell-stETH @ 1.00 WETH per stETH</td>\n    </tr>\n    <tr>\n      <th>uniswap_v3</th>\n      <th>154a5023</th>\n      <td>0.997410</td>\n      <td>58.007285</td>\n      <td></td>\n      <td>bs</td>\n      <td>buy-sell-stETH @ 1.00 WETH per stETH</td>\n    </tr>\n  </tbody>\n</table>\n</div>"
     },
     "execution_count": 97,
     "metadata": {},
     "output_type": "execute_result"
    }
   ],
   "source": [
    "pair = \"stETH-fE84/WETH-6Cc2\"\n",
    "pricedf.loc[Pair.n(pair)]"
   ]
  },
  {
   "cell_type": "code",
   "execution_count": 98,
   "id": "611467c9-ca00-441d-aec4-80ff53f7f1b7",
   "metadata": {
    "ExecuteTime": {
     "start_time": "2023-05-09T07:19:50.668783Z",
     "end_time": "2023-05-09T07:19:50.932129Z"
    }
   },
   "outputs": [],
   "source": [
    "# pi = CA.pair_data(pair)\n",
    "# O = CPCArbOptimizer(pi.CC)\n",
    "# r = O.margp_optimizer(pair.split(\"/\")[0])\n",
    "# r.trade_instructions(ti_format=O.TIF_DFAGGR)"
   ]
  },
  {
   "cell_type": "code",
   "execution_count": 99,
   "id": "20009f86",
   "metadata": {
    "lines_to_next_cell": 2,
    "ExecuteTime": {
     "start_time": "2023-05-09T07:19:50.670867Z",
     "end_time": "2023-05-09T07:19:50.932211Z"
    }
   },
   "outputs": [],
   "source": [
    "# r = O.margp_optimizer(pair.split(\"/\")[1])\n",
    "# r.trade_instructions(ti_format=O.TIF_DFAGGR)"
   ]
  },
  {
   "cell_type": "markdown",
   "id": "f2f02f8e",
   "metadata": {},
   "source": [
    "#### rETH/WETH"
   ]
  },
  {
   "cell_type": "code",
   "execution_count": 100,
   "id": "a85dd079",
   "metadata": {
    "ExecuteTime": {
     "start_time": "2023-05-09T07:19:50.675974Z",
     "end_time": "2023-05-09T07:19:50.932286Z"
    }
   },
   "outputs": [
    {
     "data": {
      "text/plain": "                          price          vl itm  bs  \\\nexchange     cid0                                     \ncarbon_v1    903115-0  1.069000    1.870907       b   \nsushiswap_v2 833       1.237861    0.000312   x  bs   \n             b845b79c  1.237861    0.000312   x  bs   \nuniswap_v3   82c4849c  1.070096  301.692416   x  bs   \n             ef318a34  1.067460    0.032811   x  bs   \n\n                                                      bsv  \nexchange     cid0                                          \ncarbon_v1    903115-0       buy-rETH @ 1.07 WETH per rETH  \nsushiswap_v2 833       buy-sell-rETH @ 1.24 WETH per rETH  \n             b845b79c  buy-sell-rETH @ 1.24 WETH per rETH  \nuniswap_v3   82c4849c  buy-sell-rETH @ 1.07 WETH per rETH  \n             ef318a34  buy-sell-rETH @ 1.07 WETH per rETH  ",
      "text/html": "<div>\n<style scoped>\n    .dataframe tbody tr th:only-of-type {\n        vertical-align: middle;\n    }\n\n    .dataframe tbody tr th {\n        vertical-align: top;\n    }\n\n    .dataframe thead th {\n        text-align: right;\n    }\n</style>\n<table border=\"1\" class=\"dataframe\">\n  <thead>\n    <tr style=\"text-align: right;\">\n      <th></th>\n      <th></th>\n      <th>price</th>\n      <th>vl</th>\n      <th>itm</th>\n      <th>bs</th>\n      <th>bsv</th>\n    </tr>\n    <tr>\n      <th>exchange</th>\n      <th>cid0</th>\n      <th></th>\n      <th></th>\n      <th></th>\n      <th></th>\n      <th></th>\n    </tr>\n  </thead>\n  <tbody>\n    <tr>\n      <th>carbon_v1</th>\n      <th>903115-0</th>\n      <td>1.069000</td>\n      <td>1.870907</td>\n      <td></td>\n      <td>b</td>\n      <td>buy-rETH @ 1.07 WETH per rETH</td>\n    </tr>\n    <tr>\n      <th rowspan=\"2\" valign=\"top\">sushiswap_v2</th>\n      <th>833</th>\n      <td>1.237861</td>\n      <td>0.000312</td>\n      <td>x</td>\n      <td>bs</td>\n      <td>buy-sell-rETH @ 1.24 WETH per rETH</td>\n    </tr>\n    <tr>\n      <th>b845b79c</th>\n      <td>1.237861</td>\n      <td>0.000312</td>\n      <td>x</td>\n      <td>bs</td>\n      <td>buy-sell-rETH @ 1.24 WETH per rETH</td>\n    </tr>\n    <tr>\n      <th rowspan=\"2\" valign=\"top\">uniswap_v3</th>\n      <th>82c4849c</th>\n      <td>1.070096</td>\n      <td>301.692416</td>\n      <td>x</td>\n      <td>bs</td>\n      <td>buy-sell-rETH @ 1.07 WETH per rETH</td>\n    </tr>\n    <tr>\n      <th>ef318a34</th>\n      <td>1.067460</td>\n      <td>0.032811</td>\n      <td>x</td>\n      <td>bs</td>\n      <td>buy-sell-rETH @ 1.07 WETH per rETH</td>\n    </tr>\n  </tbody>\n</table>\n</div>"
     },
     "execution_count": 100,
     "metadata": {},
     "output_type": "execute_result"
    }
   ],
   "source": [
    "pair = \"rETH-6393/WETH-6Cc2\"\n",
    "pricedf.loc[Pair.n(pair)]"
   ]
  },
  {
   "cell_type": "code",
   "execution_count": 101,
   "id": "a193b47d",
   "metadata": {
    "ExecuteTime": {
     "start_time": "2023-05-09T07:19:50.684587Z",
     "end_time": "2023-05-09T07:19:50.932371Z"
    }
   },
   "outputs": [
    {
     "data": {
      "text/plain": "                                  rETH-6393     WETH-6Cc2\n833                                0.000012 -1.354606e-05\n165d9de4a5b74ea1aa09e2c3b845b79c   0.000012 -1.354606e-05\n287994fd2a0e4bf4887ed0f282c4849c   0.003877 -4.148734e-03\n9c5bf9045ed04c80897ae947ef318a34  -0.003911  4.175826e-03\nAMMIn                              0.003901  4.175826e-03\nAMMOut                            -0.003911 -4.175826e-03\nTOTAL NET                         -0.000010 -5.605009e-11",
      "text/html": "<div>\n<style scoped>\n    .dataframe tbody tr th:only-of-type {\n        vertical-align: middle;\n    }\n\n    .dataframe tbody tr th {\n        vertical-align: top;\n    }\n\n    .dataframe thead th {\n        text-align: right;\n    }\n</style>\n<table border=\"1\" class=\"dataframe\">\n  <thead>\n    <tr style=\"text-align: right;\">\n      <th></th>\n      <th>rETH-6393</th>\n      <th>WETH-6Cc2</th>\n    </tr>\n  </thead>\n  <tbody>\n    <tr>\n      <th>833</th>\n      <td>0.000012</td>\n      <td>-1.354606e-05</td>\n    </tr>\n    <tr>\n      <th>165d9de4a5b74ea1aa09e2c3b845b79c</th>\n      <td>0.000012</td>\n      <td>-1.354606e-05</td>\n    </tr>\n    <tr>\n      <th>287994fd2a0e4bf4887ed0f282c4849c</th>\n      <td>0.003877</td>\n      <td>-4.148734e-03</td>\n    </tr>\n    <tr>\n      <th>9c5bf9045ed04c80897ae947ef318a34</th>\n      <td>-0.003911</td>\n      <td>4.175826e-03</td>\n    </tr>\n    <tr>\n      <th>AMMIn</th>\n      <td>0.003901</td>\n      <td>4.175826e-03</td>\n    </tr>\n    <tr>\n      <th>AMMOut</th>\n      <td>-0.003911</td>\n      <td>-4.175826e-03</td>\n    </tr>\n    <tr>\n      <th>TOTAL NET</th>\n      <td>-0.000010</td>\n      <td>-5.605009e-11</td>\n    </tr>\n  </tbody>\n</table>\n</div>"
     },
     "execution_count": 101,
     "metadata": {},
     "output_type": "execute_result"
    }
   ],
   "source": [
    "pi = CA.pair_data(pair)\n",
    "O = CPCArbOptimizer(pi.CC)\n",
    "r = O.margp_optimizer(pair.split(\"/\")[0])\n",
    "r.trade_instructions(ti_format=O.TIF_DFAGGR)"
   ]
  },
  {
   "cell_type": "code",
   "execution_count": 102,
   "id": "cc40011d",
   "metadata": {
    "lines_to_next_cell": 2,
    "ExecuteTime": {
     "start_time": "2023-05-09T07:19:50.692229Z",
     "end_time": "2023-05-09T07:19:50.932448Z"
    }
   },
   "outputs": [
    {
     "data": {
      "text/plain": "                                     rETH-6393  WETH-6Cc2\n833                               1.176971e-05  -0.000014\n165d9de4a5b74ea1aa09e2c3b845b79c  1.176971e-05  -0.000014\n287994fd2a0e4bf4887ed0f282c4849c  3.886990e-03  -0.004159\n9c5bf9045ed04c80897ae947ef318a34 -3.910529e-03   0.004176\nAMMIn                             3.910529e-03   0.004176\nAMMOut                           -3.910529e-03  -0.004187\nTOTAL NET                        -2.411486e-12  -0.000011",
      "text/html": "<div>\n<style scoped>\n    .dataframe tbody tr th:only-of-type {\n        vertical-align: middle;\n    }\n\n    .dataframe tbody tr th {\n        vertical-align: top;\n    }\n\n    .dataframe thead th {\n        text-align: right;\n    }\n</style>\n<table border=\"1\" class=\"dataframe\">\n  <thead>\n    <tr style=\"text-align: right;\">\n      <th></th>\n      <th>rETH-6393</th>\n      <th>WETH-6Cc2</th>\n    </tr>\n  </thead>\n  <tbody>\n    <tr>\n      <th>833</th>\n      <td>1.176971e-05</td>\n      <td>-0.000014</td>\n    </tr>\n    <tr>\n      <th>165d9de4a5b74ea1aa09e2c3b845b79c</th>\n      <td>1.176971e-05</td>\n      <td>-0.000014</td>\n    </tr>\n    <tr>\n      <th>287994fd2a0e4bf4887ed0f282c4849c</th>\n      <td>3.886990e-03</td>\n      <td>-0.004159</td>\n    </tr>\n    <tr>\n      <th>9c5bf9045ed04c80897ae947ef318a34</th>\n      <td>-3.910529e-03</td>\n      <td>0.004176</td>\n    </tr>\n    <tr>\n      <th>AMMIn</th>\n      <td>3.910529e-03</td>\n      <td>0.004176</td>\n    </tr>\n    <tr>\n      <th>AMMOut</th>\n      <td>-3.910529e-03</td>\n      <td>-0.004187</td>\n    </tr>\n    <tr>\n      <th>TOTAL NET</th>\n      <td>-2.411486e-12</td>\n      <td>-0.000011</td>\n    </tr>\n  </tbody>\n</table>\n</div>"
     },
     "execution_count": 102,
     "metadata": {},
     "output_type": "execute_result"
    }
   ],
   "source": [
    "r = O.margp_optimizer(pair.split(\"/\")[1])\n",
    "r.trade_instructions(ti_format=O.TIF_DFAGGR)"
   ]
  },
  {
   "cell_type": "markdown",
   "id": "48c1f6d1",
   "metadata": {},
   "source": [
    "#### ARB/MATIC"
   ]
  },
  {
   "cell_type": "code",
   "execution_count": 103,
   "id": "d662140a",
   "metadata": {
    "ExecuteTime": {
     "start_time": "2023-05-09T07:19:50.697378Z",
     "end_time": "2023-05-09T07:19:50.932528Z"
    }
   },
   "outputs": [
    {
     "data": {
      "text/plain": "                       price          vl itm bs                            bsv\nexchange  cid0                                                                \ncarbon_v1 806240-0  1.507045   12.760538      s  sell-ARB @ 1.51 MATIC per ARB\n          806240-1  1.428571  141.806023      b   buy-ARB @ 1.43 MATIC per ARB",
      "text/html": "<div>\n<style scoped>\n    .dataframe tbody tr th:only-of-type {\n        vertical-align: middle;\n    }\n\n    .dataframe tbody tr th {\n        vertical-align: top;\n    }\n\n    .dataframe thead th {\n        text-align: right;\n    }\n</style>\n<table border=\"1\" class=\"dataframe\">\n  <thead>\n    <tr style=\"text-align: right;\">\n      <th></th>\n      <th></th>\n      <th>price</th>\n      <th>vl</th>\n      <th>itm</th>\n      <th>bs</th>\n      <th>bsv</th>\n    </tr>\n    <tr>\n      <th>exchange</th>\n      <th>cid0</th>\n      <th></th>\n      <th></th>\n      <th></th>\n      <th></th>\n      <th></th>\n    </tr>\n  </thead>\n  <tbody>\n    <tr>\n      <th rowspan=\"2\" valign=\"top\">carbon_v1</th>\n      <th>806240-0</th>\n      <td>1.507045</td>\n      <td>12.760538</td>\n      <td></td>\n      <td>s</td>\n      <td>sell-ARB @ 1.51 MATIC per ARB</td>\n    </tr>\n    <tr>\n      <th>806240-1</th>\n      <td>1.428571</td>\n      <td>141.806023</td>\n      <td></td>\n      <td>b</td>\n      <td>buy-ARB @ 1.43 MATIC per ARB</td>\n    </tr>\n  </tbody>\n</table>\n</div>"
     },
     "execution_count": 103,
     "metadata": {},
     "output_type": "execute_result"
    }
   ],
   "source": [
    "pair = \"ARB-4ad1/MATIC-eBB0\"\n",
    "pricedf.loc[Pair.n(pair)]"
   ]
  },
  {
   "cell_type": "code",
   "execution_count": 104,
   "id": "1de24bf0",
   "metadata": {
    "ExecuteTime": {
     "start_time": "2023-05-09T07:19:50.700847Z",
     "end_time": "2023-05-09T07:19:50.932564Z"
    }
   },
   "outputs": [],
   "source": [
    "# pi = CA.pair_data(pair)\n",
    "# O = CPCArbOptimizer(pi.CC)\n",
    "# r = O.margp_optimizer(pair.split(\"/\")[0])\n",
    "# r.trade_instructions(ti_format=O.TIF_DFAGGR)"
   ]
  },
  {
   "cell_type": "code",
   "execution_count": 105,
   "id": "92e163d3",
   "metadata": {
    "lines_to_next_cell": 2,
    "ExecuteTime": {
     "start_time": "2023-05-09T07:19:50.702932Z",
     "end_time": "2023-05-09T07:19:50.932599Z"
    }
   },
   "outputs": [],
   "source": [
    "# r = O.margp_optimizer(pair.split(\"/\")[1])\n",
    "# r.trade_instructions(ti_format=O.TIF_DFAGGR)"
   ]
  },
  {
   "cell_type": "markdown",
   "id": "2dc74a71",
   "metadata": {},
   "source": [
    "#### 0x0/WETH"
   ]
  },
  {
   "cell_type": "code",
   "execution_count": 106,
   "id": "f177d760",
   "metadata": {
    "ExecuteTime": {
     "start_time": "2023-05-09T07:19:50.707898Z",
     "end_time": "2023-05-09T07:19:50.932676Z"
    }
   },
   "outputs": [
    {
     "data": {
      "text/plain": "                        price            vl itm  bs  \\\nexchange   cid0                                       \ncarbon_v1  132277-0  0.000013  1.342084e+04       b   \n           132277-1  0.000015  3.597323e+02   x   s   \nuniswap_v2 551118da  0.000027  2.853407e+07   x  bs   \n\n                                                  bsv  \nexchange   cid0                                        \ncarbon_v1  132277-0       buy-0x0 @ 0.00 WETH per 0x0  \n           132277-1      sell-0x0 @ 0.00 WETH per 0x0  \nuniswap_v2 551118da  buy-sell-0x0 @ 0.00 WETH per 0x0  ",
      "text/html": "<div>\n<style scoped>\n    .dataframe tbody tr th:only-of-type {\n        vertical-align: middle;\n    }\n\n    .dataframe tbody tr th {\n        vertical-align: top;\n    }\n\n    .dataframe thead th {\n        text-align: right;\n    }\n</style>\n<table border=\"1\" class=\"dataframe\">\n  <thead>\n    <tr style=\"text-align: right;\">\n      <th></th>\n      <th></th>\n      <th>price</th>\n      <th>vl</th>\n      <th>itm</th>\n      <th>bs</th>\n      <th>bsv</th>\n    </tr>\n    <tr>\n      <th>exchange</th>\n      <th>cid0</th>\n      <th></th>\n      <th></th>\n      <th></th>\n      <th></th>\n      <th></th>\n    </tr>\n  </thead>\n  <tbody>\n    <tr>\n      <th rowspan=\"2\" valign=\"top\">carbon_v1</th>\n      <th>132277-0</th>\n      <td>0.000013</td>\n      <td>1.342084e+04</td>\n      <td></td>\n      <td>b</td>\n      <td>buy-0x0 @ 0.00 WETH per 0x0</td>\n    </tr>\n    <tr>\n      <th>132277-1</th>\n      <td>0.000015</td>\n      <td>3.597323e+02</td>\n      <td>x</td>\n      <td>s</td>\n      <td>sell-0x0 @ 0.00 WETH per 0x0</td>\n    </tr>\n    <tr>\n      <th>uniswap_v2</th>\n      <th>551118da</th>\n      <td>0.000027</td>\n      <td>2.853407e+07</td>\n      <td>x</td>\n      <td>bs</td>\n      <td>buy-sell-0x0 @ 0.00 WETH per 0x0</td>\n    </tr>\n  </tbody>\n</table>\n</div>"
     },
     "execution_count": 106,
     "metadata": {},
     "output_type": "execute_result"
    }
   ],
   "source": [
    "pair = \"0x0-1AD5/WETH-6Cc2\"\n",
    "pricedf.loc[Pair.n(pair)]"
   ]
  },
  {
   "cell_type": "code",
   "execution_count": 107,
   "id": "efc59e03",
   "metadata": {
    "ExecuteTime": {
     "start_time": "2023-05-09T07:19:50.710807Z",
     "end_time": "2023-05-09T07:19:50.932723Z"
    }
   },
   "outputs": [],
   "source": [
    "# pi = CA.pair_data(pair)\n",
    "# O = CPCArbOptimizer(pi.CC)\n",
    "# r = O.margp_optimizer(pair.split(\"/\")[0])\n",
    "# r.trade_instructions(ti_format=O.TIF_DFAGGR)"
   ]
  },
  {
   "cell_type": "code",
   "execution_count": 108,
   "id": "fd9d98fe",
   "metadata": {
    "lines_to_next_cell": 2,
    "ExecuteTime": {
     "start_time": "2023-05-09T07:19:50.713154Z",
     "end_time": "2023-05-09T07:19:50.932804Z"
    }
   },
   "outputs": [],
   "source": [
    "# r = O.margp_optimizer(pair.split(\"/\")[1])\n",
    "# r.trade_instructions(ti_format=O.TIF_DFAGGR)"
   ]
  },
  {
   "cell_type": "markdown",
   "id": "6b25bbcf",
   "metadata": {},
   "source": [
    "#### TSUKA/USDC"
   ]
  },
  {
   "cell_type": "code",
   "execution_count": 109,
   "id": "b1d0ac25",
   "metadata": {
    "ExecuteTime": {
     "start_time": "2023-05-09T07:19:50.718361Z",
     "end_time": "2023-05-09T07:19:50.957024Z"
    }
   },
   "outputs": [
    {
     "data": {
      "text/plain": "                        price            vl itm  bs  \\\nexchange   cid0                                       \ncarbon_v1  017697-1  0.120000  4.656734e+04       s   \nuniswap_v2 254       0.044583  3.690614e+07   x  bs   \n           feeb42d8  0.045679  3.647798e+07   x  bs   \nuniswap_v3 f0641f2c  0.049762  2.150701e+04   x  bs   \n\n                                                      bsv  \nexchange   cid0                                            \ncarbon_v1  017697-1      sell-TSUKA @ 0.12 USDC per TSUKA  \nuniswap_v2 254       buy-sell-TSUKA @ 0.04 USDC per TSUKA  \n           feeb42d8  buy-sell-TSUKA @ 0.05 USDC per TSUKA  \nuniswap_v3 f0641f2c  buy-sell-TSUKA @ 0.05 USDC per TSUKA  ",
      "text/html": "<div>\n<style scoped>\n    .dataframe tbody tr th:only-of-type {\n        vertical-align: middle;\n    }\n\n    .dataframe tbody tr th {\n        vertical-align: top;\n    }\n\n    .dataframe thead th {\n        text-align: right;\n    }\n</style>\n<table border=\"1\" class=\"dataframe\">\n  <thead>\n    <tr style=\"text-align: right;\">\n      <th></th>\n      <th></th>\n      <th>price</th>\n      <th>vl</th>\n      <th>itm</th>\n      <th>bs</th>\n      <th>bsv</th>\n    </tr>\n    <tr>\n      <th>exchange</th>\n      <th>cid0</th>\n      <th></th>\n      <th></th>\n      <th></th>\n      <th></th>\n      <th></th>\n    </tr>\n  </thead>\n  <tbody>\n    <tr>\n      <th>carbon_v1</th>\n      <th>017697-1</th>\n      <td>0.120000</td>\n      <td>4.656734e+04</td>\n      <td></td>\n      <td>s</td>\n      <td>sell-TSUKA @ 0.12 USDC per TSUKA</td>\n    </tr>\n    <tr>\n      <th rowspan=\"2\" valign=\"top\">uniswap_v2</th>\n      <th>254</th>\n      <td>0.044583</td>\n      <td>3.690614e+07</td>\n      <td>x</td>\n      <td>bs</td>\n      <td>buy-sell-TSUKA @ 0.04 USDC per TSUKA</td>\n    </tr>\n    <tr>\n      <th>feeb42d8</th>\n      <td>0.045679</td>\n      <td>3.647798e+07</td>\n      <td>x</td>\n      <td>bs</td>\n      <td>buy-sell-TSUKA @ 0.05 USDC per TSUKA</td>\n    </tr>\n    <tr>\n      <th>uniswap_v3</th>\n      <th>f0641f2c</th>\n      <td>0.049762</td>\n      <td>2.150701e+04</td>\n      <td>x</td>\n      <td>bs</td>\n      <td>buy-sell-TSUKA @ 0.05 USDC per TSUKA</td>\n    </tr>\n  </tbody>\n</table>\n</div>"
     },
     "execution_count": 109,
     "metadata": {},
     "output_type": "execute_result"
    }
   ],
   "source": [
    "pair = \"TSUKA-69eD/USDC-eB48\"\n",
    "pricedf.loc[Pair.n(pair)]"
   ]
  },
  {
   "cell_type": "code",
   "execution_count": 110,
   "id": "62de952e",
   "metadata": {
    "ExecuteTime": {
     "start_time": "2023-05-09T07:19:50.726041Z",
     "end_time": "2023-05-09T07:19:50.960160Z"
    }
   },
   "outputs": [
    {
     "data": {
      "text/plain": "                                     USDC-eB48     TSUKA-69eD\n254                               5.327878e+03 -118735.423197\ndab521a0a0134603b0451582feeb42d8 -4.725996e+03  104050.794662\n3aa86ba4746c48f6bea2b713f0641f2c -6.018815e+02   12163.370342\nAMMIn                             5.327878e+03  116214.165004\nAMMOut                           -5.327878e+03 -118735.423197\nTOTAL NET                         3.637979e-10   -2521.258193",
      "text/html": "<div>\n<style scoped>\n    .dataframe tbody tr th:only-of-type {\n        vertical-align: middle;\n    }\n\n    .dataframe tbody tr th {\n        vertical-align: top;\n    }\n\n    .dataframe thead th {\n        text-align: right;\n    }\n</style>\n<table border=\"1\" class=\"dataframe\">\n  <thead>\n    <tr style=\"text-align: right;\">\n      <th></th>\n      <th>USDC-eB48</th>\n      <th>TSUKA-69eD</th>\n    </tr>\n  </thead>\n  <tbody>\n    <tr>\n      <th>254</th>\n      <td>5.327878e+03</td>\n      <td>-118735.423197</td>\n    </tr>\n    <tr>\n      <th>dab521a0a0134603b0451582feeb42d8</th>\n      <td>-4.725996e+03</td>\n      <td>104050.794662</td>\n    </tr>\n    <tr>\n      <th>3aa86ba4746c48f6bea2b713f0641f2c</th>\n      <td>-6.018815e+02</td>\n      <td>12163.370342</td>\n    </tr>\n    <tr>\n      <th>AMMIn</th>\n      <td>5.327878e+03</td>\n      <td>116214.165004</td>\n    </tr>\n    <tr>\n      <th>AMMOut</th>\n      <td>-5.327878e+03</td>\n      <td>-118735.423197</td>\n    </tr>\n    <tr>\n      <th>TOTAL NET</th>\n      <td>3.637979e-10</td>\n      <td>-2521.258193</td>\n    </tr>\n  </tbody>\n</table>\n</div>"
     },
     "execution_count": 110,
     "metadata": {},
     "output_type": "execute_result"
    }
   ],
   "source": [
    "pi = CA.pair_data(pair)\n",
    "O = CPCArbOptimizer(pi.CC)\n",
    "r = O.margp_optimizer(pair.split(\"/\")[0])\n",
    "r.trade_instructions(ti_format=O.TIF_DFAGGR)"
   ]
  },
  {
   "cell_type": "code",
   "execution_count": 111,
   "id": "4747f468",
   "metadata": {
    "lines_to_next_cell": 2,
    "ExecuteTime": {
     "start_time": "2023-05-09T07:19:50.731457Z",
     "end_time": "2023-05-09T07:19:50.960289Z"
    }
   },
   "outputs": [
    {
     "data": {
      "text/plain": "                                    USDC-eB48    TSUKA-69eD\n254                               5270.962094 -1.174751e+05\ndab521a0a0134603b0451582feeb42d8 -4782.938935  1.053117e+05\n3aa86ba4746c48f6bea2b713f0641f2c  -601.881511  1.216337e+04\nAMMIn                             5270.962094  1.174751e+05\nAMMOut                           -5384.820446 -1.174751e+05\nTOTAL NET                         -113.858352  4.656613e-09",
      "text/html": "<div>\n<style scoped>\n    .dataframe tbody tr th:only-of-type {\n        vertical-align: middle;\n    }\n\n    .dataframe tbody tr th {\n        vertical-align: top;\n    }\n\n    .dataframe thead th {\n        text-align: right;\n    }\n</style>\n<table border=\"1\" class=\"dataframe\">\n  <thead>\n    <tr style=\"text-align: right;\">\n      <th></th>\n      <th>USDC-eB48</th>\n      <th>TSUKA-69eD</th>\n    </tr>\n  </thead>\n  <tbody>\n    <tr>\n      <th>254</th>\n      <td>5270.962094</td>\n      <td>-1.174751e+05</td>\n    </tr>\n    <tr>\n      <th>dab521a0a0134603b0451582feeb42d8</th>\n      <td>-4782.938935</td>\n      <td>1.053117e+05</td>\n    </tr>\n    <tr>\n      <th>3aa86ba4746c48f6bea2b713f0641f2c</th>\n      <td>-601.881511</td>\n      <td>1.216337e+04</td>\n    </tr>\n    <tr>\n      <th>AMMIn</th>\n      <td>5270.962094</td>\n      <td>1.174751e+05</td>\n    </tr>\n    <tr>\n      <th>AMMOut</th>\n      <td>-5384.820446</td>\n      <td>-1.174751e+05</td>\n    </tr>\n    <tr>\n      <th>TOTAL NET</th>\n      <td>-113.858352</td>\n      <td>4.656613e-09</td>\n    </tr>\n  </tbody>\n</table>\n</div>"
     },
     "execution_count": 111,
     "metadata": {},
     "output_type": "execute_result"
    }
   ],
   "source": [
    "r = O.margp_optimizer(pair.split(\"/\")[1])\n",
    "r.trade_instructions(ti_format=O.TIF_DFAGGR)"
   ]
  },
  {
   "cell_type": "markdown",
   "id": "3ccc972d",
   "metadata": {},
   "source": [
    "#### WBTC/USDC"
   ]
  },
  {
   "cell_type": "code",
   "execution_count": 112,
   "id": "87af0de9",
   "metadata": {
    "ExecuteTime": {
     "start_time": "2023-05-09T07:19:50.739001Z",
     "end_time": "2023-05-09T07:19:50.960954Z"
    }
   },
   "outputs": [
    {
     "data": {
      "text/plain": "                            price         vl itm  bs  \\\nexchange   cid0                                        \ncarbon_v1  537493-0  28000.000000   0.045365   x   b   \nuniswap_v2 02248661  27658.003470   6.152326   x  bs   \n           332       27658.003470   6.152326   x  bs   \nuniswap_v3 1aaa6fb7  27543.399583   0.104690   x  bs   \n           56caf843  27776.038525   0.093606      bs   \n           cf72417e  27549.422647  22.041670   x  bs   \n\n                                                        bsv  \nexchange   cid0                                              \ncarbon_v1  537493-0       buy-WBTC @ 28000.00 USDC per WBTC  \nuniswap_v2 02248661  buy-sell-WBTC @ 27658.00 USDC per WBTC  \n           332       buy-sell-WBTC @ 27658.00 USDC per WBTC  \nuniswap_v3 1aaa6fb7  buy-sell-WBTC @ 27543.40 USDC per WBTC  \n           56caf843  buy-sell-WBTC @ 27776.04 USDC per WBTC  \n           cf72417e  buy-sell-WBTC @ 27549.42 USDC per WBTC  ",
      "text/html": "<div>\n<style scoped>\n    .dataframe tbody tr th:only-of-type {\n        vertical-align: middle;\n    }\n\n    .dataframe tbody tr th {\n        vertical-align: top;\n    }\n\n    .dataframe thead th {\n        text-align: right;\n    }\n</style>\n<table border=\"1\" class=\"dataframe\">\n  <thead>\n    <tr style=\"text-align: right;\">\n      <th></th>\n      <th></th>\n      <th>price</th>\n      <th>vl</th>\n      <th>itm</th>\n      <th>bs</th>\n      <th>bsv</th>\n    </tr>\n    <tr>\n      <th>exchange</th>\n      <th>cid0</th>\n      <th></th>\n      <th></th>\n      <th></th>\n      <th></th>\n      <th></th>\n    </tr>\n  </thead>\n  <tbody>\n    <tr>\n      <th>carbon_v1</th>\n      <th>537493-0</th>\n      <td>28000.000000</td>\n      <td>0.045365</td>\n      <td>x</td>\n      <td>b</td>\n      <td>buy-WBTC @ 28000.00 USDC per WBTC</td>\n    </tr>\n    <tr>\n      <th rowspan=\"2\" valign=\"top\">uniswap_v2</th>\n      <th>02248661</th>\n      <td>27658.003470</td>\n      <td>6.152326</td>\n      <td>x</td>\n      <td>bs</td>\n      <td>buy-sell-WBTC @ 27658.00 USDC per WBTC</td>\n    </tr>\n    <tr>\n      <th>332</th>\n      <td>27658.003470</td>\n      <td>6.152326</td>\n      <td>x</td>\n      <td>bs</td>\n      <td>buy-sell-WBTC @ 27658.00 USDC per WBTC</td>\n    </tr>\n    <tr>\n      <th rowspan=\"3\" valign=\"top\">uniswap_v3</th>\n      <th>1aaa6fb7</th>\n      <td>27543.399583</td>\n      <td>0.104690</td>\n      <td>x</td>\n      <td>bs</td>\n      <td>buy-sell-WBTC @ 27543.40 USDC per WBTC</td>\n    </tr>\n    <tr>\n      <th>56caf843</th>\n      <td>27776.038525</td>\n      <td>0.093606</td>\n      <td></td>\n      <td>bs</td>\n      <td>buy-sell-WBTC @ 27776.04 USDC per WBTC</td>\n    </tr>\n    <tr>\n      <th>cf72417e</th>\n      <td>27549.422647</td>\n      <td>22.041670</td>\n      <td>x</td>\n      <td>bs</td>\n      <td>buy-sell-WBTC @ 27549.42 USDC per WBTC</td>\n    </tr>\n  </tbody>\n</table>\n</div>"
     },
     "execution_count": 112,
     "metadata": {},
     "output_type": "execute_result"
    }
   ],
   "source": [
    "pair = \"WBTC-C599/USDC-eB48\"\n",
    "pricedf.loc[Pair.n(pair)]"
   ]
  },
  {
   "cell_type": "code",
   "execution_count": 113,
   "id": "5d848357",
   "metadata": {
    "ExecuteTime": {
     "start_time": "2023-05-09T07:19:50.747807Z",
     "end_time": "2023-05-09T07:19:50.980121Z"
    }
   },
   "outputs": [
    {
     "data": {
      "text/plain": "                                            WBTC-C599     USDC-eB48\n332                                          0.006041 -1.667642e+02\n4b7ef4b0433441ad854c728302248661             0.006041 -1.667642e+02\n8ef933e3eef94f8ea2a73cc11aaa6fb7            -0.023895  6.582328e+02\nd7bd6d60f8f14492a9c5587a56caf843             0.033098 -9.161023e+02\n8748e770adfe49f78064fd9bcf72417e            -0.035176  9.690752e+02\n4083388403051261561560495289181218537493-0   0.013598 -3.776774e+02\nAMMIn                                        0.058779  1.627308e+03\nAMMOut                                      -0.059071 -1.627308e+03\nTOTAL NET                                   -0.000292 -1.037552e-07",
      "text/html": "<div>\n<style scoped>\n    .dataframe tbody tr th:only-of-type {\n        vertical-align: middle;\n    }\n\n    .dataframe tbody tr th {\n        vertical-align: top;\n    }\n\n    .dataframe thead th {\n        text-align: right;\n    }\n</style>\n<table border=\"1\" class=\"dataframe\">\n  <thead>\n    <tr style=\"text-align: right;\">\n      <th></th>\n      <th>WBTC-C599</th>\n      <th>USDC-eB48</th>\n    </tr>\n  </thead>\n  <tbody>\n    <tr>\n      <th>332</th>\n      <td>0.006041</td>\n      <td>-1.667642e+02</td>\n    </tr>\n    <tr>\n      <th>4b7ef4b0433441ad854c728302248661</th>\n      <td>0.006041</td>\n      <td>-1.667642e+02</td>\n    </tr>\n    <tr>\n      <th>8ef933e3eef94f8ea2a73cc11aaa6fb7</th>\n      <td>-0.023895</td>\n      <td>6.582328e+02</td>\n    </tr>\n    <tr>\n      <th>d7bd6d60f8f14492a9c5587a56caf843</th>\n      <td>0.033098</td>\n      <td>-9.161023e+02</td>\n    </tr>\n    <tr>\n      <th>8748e770adfe49f78064fd9bcf72417e</th>\n      <td>-0.035176</td>\n      <td>9.690752e+02</td>\n    </tr>\n    <tr>\n      <th>4083388403051261561560495289181218537493-0</th>\n      <td>0.013598</td>\n      <td>-3.776774e+02</td>\n    </tr>\n    <tr>\n      <th>AMMIn</th>\n      <td>0.058779</td>\n      <td>1.627308e+03</td>\n    </tr>\n    <tr>\n      <th>AMMOut</th>\n      <td>-0.059071</td>\n      <td>-1.627308e+03</td>\n    </tr>\n    <tr>\n      <th>TOTAL NET</th>\n      <td>-0.000292</td>\n      <td>-1.037552e-07</td>\n    </tr>\n  </tbody>\n</table>\n</div>"
     },
     "execution_count": 113,
     "metadata": {},
     "output_type": "execute_result"
    }
   ],
   "source": [
    "pi = CA.pair_data(pair)\n",
    "O = CPCArbOptimizer(pi.CC)\n",
    "r = O.margp_optimizer(pair.split(\"/\")[0])\n",
    "r.trade_instructions(ti_format=O.TIF_DFAGGR)"
   ]
  },
  {
   "cell_type": "code",
   "execution_count": 114,
   "id": "3d30146d",
   "metadata": {
    "lines_to_next_cell": 2,
    "ExecuteTime": {
     "start_time": "2023-05-09T07:19:50.755332Z",
     "end_time": "2023-05-09T07:19:50.983244Z"
    }
   },
   "outputs": [
    {
     "data": {
      "text/plain": "                                               WBTC-C599    USDC-eB48\n332                                         6.041469e-03  -166.767446\n4b7ef4b0433441ad854c728302248661            6.041469e-03  -166.767446\n8ef933e3eef94f8ea2a73cc11aaa6fb7           -2.388722e-02   658.010325\nd7bd6d60f8f14492a9c5587a56caf843            3.309805e-02  -916.102340\n8748e770adfe49f78064fd9bcf72417e           -3.489210e-02   961.261703\n4083388403051261561560495289181218537493-0  1.359833e-02  -377.679169\nAMMIn                                       5.877932e-02  1619.272028\nAMMOut                                     -5.877932e-02 -1627.316401\nTOTAL NET                                   6.218137e-12    -8.044373",
      "text/html": "<div>\n<style scoped>\n    .dataframe tbody tr th:only-of-type {\n        vertical-align: middle;\n    }\n\n    .dataframe tbody tr th {\n        vertical-align: top;\n    }\n\n    .dataframe thead th {\n        text-align: right;\n    }\n</style>\n<table border=\"1\" class=\"dataframe\">\n  <thead>\n    <tr style=\"text-align: right;\">\n      <th></th>\n      <th>WBTC-C599</th>\n      <th>USDC-eB48</th>\n    </tr>\n  </thead>\n  <tbody>\n    <tr>\n      <th>332</th>\n      <td>6.041469e-03</td>\n      <td>-166.767446</td>\n    </tr>\n    <tr>\n      <th>4b7ef4b0433441ad854c728302248661</th>\n      <td>6.041469e-03</td>\n      <td>-166.767446</td>\n    </tr>\n    <tr>\n      <th>8ef933e3eef94f8ea2a73cc11aaa6fb7</th>\n      <td>-2.388722e-02</td>\n      <td>658.010325</td>\n    </tr>\n    <tr>\n      <th>d7bd6d60f8f14492a9c5587a56caf843</th>\n      <td>3.309805e-02</td>\n      <td>-916.102340</td>\n    </tr>\n    <tr>\n      <th>8748e770adfe49f78064fd9bcf72417e</th>\n      <td>-3.489210e-02</td>\n      <td>961.261703</td>\n    </tr>\n    <tr>\n      <th>4083388403051261561560495289181218537493-0</th>\n      <td>1.359833e-02</td>\n      <td>-377.679169</td>\n    </tr>\n    <tr>\n      <th>AMMIn</th>\n      <td>5.877932e-02</td>\n      <td>1619.272028</td>\n    </tr>\n    <tr>\n      <th>AMMOut</th>\n      <td>-5.877932e-02</td>\n      <td>-1627.316401</td>\n    </tr>\n    <tr>\n      <th>TOTAL NET</th>\n      <td>6.218137e-12</td>\n      <td>-8.044373</td>\n    </tr>\n  </tbody>\n</table>\n</div>"
     },
     "execution_count": 114,
     "metadata": {},
     "output_type": "execute_result"
    }
   ],
   "source": [
    "r = O.margp_optimizer(pair.split(\"/\")[1])\n",
    "r.trade_instructions(ti_format=O.TIF_DFAGGR)"
   ]
  },
  {
   "cell_type": "markdown",
   "id": "4389f380",
   "metadata": {},
   "source": [
    "#### LYXe/USDC"
   ]
  },
  {
   "cell_type": "code",
   "execution_count": 115,
   "id": "2d65191c",
   "metadata": {
    "ExecuteTime": {
     "start_time": "2023-05-09T07:19:50.760797Z",
     "end_time": "2023-05-09T07:19:50.983388Z"
    }
   },
   "outputs": [
    {
     "data": {
      "text/plain": "                         price           vl itm  bs  \\\nexchange   cid0                                       \ncarbon_v1  652071-1  15.999998  7503.700799       s   \nuniswap_v3 558       14.391360     1.085336      bs   \n           b787691f  14.391360     1.085336      bs   \n\n                                                     bsv  \nexchange   cid0                                           \ncarbon_v1  652071-1      sell-LYXe @ 16.00 USDC per LYXe  \nuniswap_v3 558       buy-sell-LYXe @ 14.39 USDC per LYXe  \n           b787691f  buy-sell-LYXe @ 14.39 USDC per LYXe  ",
      "text/html": "<div>\n<style scoped>\n    .dataframe tbody tr th:only-of-type {\n        vertical-align: middle;\n    }\n\n    .dataframe tbody tr th {\n        vertical-align: top;\n    }\n\n    .dataframe thead th {\n        text-align: right;\n    }\n</style>\n<table border=\"1\" class=\"dataframe\">\n  <thead>\n    <tr style=\"text-align: right;\">\n      <th></th>\n      <th></th>\n      <th>price</th>\n      <th>vl</th>\n      <th>itm</th>\n      <th>bs</th>\n      <th>bsv</th>\n    </tr>\n    <tr>\n      <th>exchange</th>\n      <th>cid0</th>\n      <th></th>\n      <th></th>\n      <th></th>\n      <th></th>\n      <th></th>\n    </tr>\n  </thead>\n  <tbody>\n    <tr>\n      <th>carbon_v1</th>\n      <th>652071-1</th>\n      <td>15.999998</td>\n      <td>7503.700799</td>\n      <td></td>\n      <td>s</td>\n      <td>sell-LYXe @ 16.00 USDC per LYXe</td>\n    </tr>\n    <tr>\n      <th rowspan=\"2\" valign=\"top\">uniswap_v3</th>\n      <th>558</th>\n      <td>14.391360</td>\n      <td>1.085336</td>\n      <td></td>\n      <td>bs</td>\n      <td>buy-sell-LYXe @ 14.39 USDC per LYXe</td>\n    </tr>\n    <tr>\n      <th>b787691f</th>\n      <td>14.391360</td>\n      <td>1.085336</td>\n      <td></td>\n      <td>bs</td>\n      <td>buy-sell-LYXe @ 14.39 USDC per LYXe</td>\n    </tr>\n  </tbody>\n</table>\n</div>"
     },
     "execution_count": 115,
     "metadata": {},
     "output_type": "execute_result"
    }
   ],
   "source": [
    "pair = \"LYXe-be6D/USDC-eB48\"\n",
    "pricedf.loc[Pair.n(pair)]"
   ]
  },
  {
   "cell_type": "code",
   "execution_count": 116,
   "id": "cc46066e",
   "metadata": {
    "ExecuteTime": {
     "start_time": "2023-05-09T07:19:50.770739Z",
     "end_time": "2023-05-09T07:19:50.983576Z"
    }
   },
   "outputs": [
    {
     "data": {
      "text/plain": "                                  LYXe-be6D  USDC-eB48\n558                                     0.0        0.0\n527756afcc054eb4961eb0ddb787691f        0.0        0.0\nAMMIn                                   0.0        0.0\nAMMOut                                  0.0        0.0\nTOTAL NET                               0.0        0.0",
      "text/html": "<div>\n<style scoped>\n    .dataframe tbody tr th:only-of-type {\n        vertical-align: middle;\n    }\n\n    .dataframe tbody tr th {\n        vertical-align: top;\n    }\n\n    .dataframe thead th {\n        text-align: right;\n    }\n</style>\n<table border=\"1\" class=\"dataframe\">\n  <thead>\n    <tr style=\"text-align: right;\">\n      <th></th>\n      <th>LYXe-be6D</th>\n      <th>USDC-eB48</th>\n    </tr>\n  </thead>\n  <tbody>\n    <tr>\n      <th>558</th>\n      <td>0.0</td>\n      <td>0.0</td>\n    </tr>\n    <tr>\n      <th>527756afcc054eb4961eb0ddb787691f</th>\n      <td>0.0</td>\n      <td>0.0</td>\n    </tr>\n    <tr>\n      <th>AMMIn</th>\n      <td>0.0</td>\n      <td>0.0</td>\n    </tr>\n    <tr>\n      <th>AMMOut</th>\n      <td>0.0</td>\n      <td>0.0</td>\n    </tr>\n    <tr>\n      <th>TOTAL NET</th>\n      <td>0.0</td>\n      <td>0.0</td>\n    </tr>\n  </tbody>\n</table>\n</div>"
     },
     "execution_count": 116,
     "metadata": {},
     "output_type": "execute_result"
    }
   ],
   "source": [
    "pi = CA.pair_data(pair)\n",
    "O = CPCArbOptimizer(pi.CC)\n",
    "r = O.margp_optimizer(pair.split(\"/\")[0])\n",
    "r.trade_instructions(ti_format=O.TIF_DFAGGR)"
   ]
  },
  {
   "cell_type": "code",
   "execution_count": 117,
   "id": "1f9a459f",
   "metadata": {
    "ExecuteTime": {
     "start_time": "2023-05-09T07:19:50.773370Z",
     "end_time": "2023-05-09T07:19:51.024256Z"
    }
   },
   "outputs": [
    {
     "data": {
      "text/plain": "                                     USDC-eB48     LYXe-be6D\n558                               6.821210e-13 -5.684342e-14\n527756afcc054eb4961eb0ddb787691f  6.821210e-13 -5.684342e-14\nAMMIn                             1.364242e-12  0.000000e+00\nAMMOut                            0.000000e+00 -1.136868e-13\nTOTAL NET                         1.364242e-12 -1.136868e-13",
      "text/html": "<div>\n<style scoped>\n    .dataframe tbody tr th:only-of-type {\n        vertical-align: middle;\n    }\n\n    .dataframe tbody tr th {\n        vertical-align: top;\n    }\n\n    .dataframe thead th {\n        text-align: right;\n    }\n</style>\n<table border=\"1\" class=\"dataframe\">\n  <thead>\n    <tr style=\"text-align: right;\">\n      <th></th>\n      <th>USDC-eB48</th>\n      <th>LYXe-be6D</th>\n    </tr>\n  </thead>\n  <tbody>\n    <tr>\n      <th>558</th>\n      <td>6.821210e-13</td>\n      <td>-5.684342e-14</td>\n    </tr>\n    <tr>\n      <th>527756afcc054eb4961eb0ddb787691f</th>\n      <td>6.821210e-13</td>\n      <td>-5.684342e-14</td>\n    </tr>\n    <tr>\n      <th>AMMIn</th>\n      <td>1.364242e-12</td>\n      <td>0.000000e+00</td>\n    </tr>\n    <tr>\n      <th>AMMOut</th>\n      <td>0.000000e+00</td>\n      <td>-1.136868e-13</td>\n    </tr>\n    <tr>\n      <th>TOTAL NET</th>\n      <td>1.364242e-12</td>\n      <td>-1.136868e-13</td>\n    </tr>\n  </tbody>\n</table>\n</div>"
     },
     "execution_count": 117,
     "metadata": {},
     "output_type": "execute_result"
    }
   ],
   "source": [
    "r = O.margp_optimizer(pair.split(\"/\")[1])\n",
    "r.trade_instructions(ti_format=O.TIF_DFAGGR)"
   ]
  },
  {
   "cell_type": "code",
   "execution_count": 117,
   "id": "c7790e58-5ffd-44a9-9443-38ce2c8a51dd",
   "metadata": {
    "ExecuteTime": {
     "start_time": "2023-05-09T07:19:50.782294Z",
     "end_time": "2023-05-09T07:19:51.024404Z"
    }
   },
   "outputs": [],
   "source": []
  }
 ],
 "metadata": {
  "jupytext": {
   "encoding": "# -*- coding: utf-8 -*-",
   "formats": "ipynb,py:light"
  },
  "kernelspec": {
   "display_name": "Python 3",
   "language": "python",
   "name": "python3"
  },
  "language_info": {
   "codemirror_mode": {
    "name": "ipython",
    "version": 3
   },
   "file_extension": ".py",
   "mimetype": "text/x-python",
   "name": "python",
   "nbconvert_exporter": "python",
   "pygments_lexer": "ipython3",
   "version": "3.8.8"
  }
 },
 "nbformat": 4,
 "nbformat_minor": 5
}

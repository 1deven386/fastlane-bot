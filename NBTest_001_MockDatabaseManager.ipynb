{
 "cells": [
  {
   "cell_type": "code",
   "execution_count": 11,
   "outputs": [
    {
     "name": "stdout",
     "output_type": "stream",
     "text": [
      "Version = 2.0-BETA4 [requirements >= 2.0 is met]\n",
      "MockDatabaseManager v3.0.1 (04-30-2023)\n",
      "CarbonBot v2.0-BETA4 (30/Apr/2023)\n"
     ]
    }
   ],
   "source": [
    "# from fastlane_bot.config import Config\n",
    "# print(\"{0.__name__} v{0.__VERSION__} ({0.__DATE__})\".format(Config))\n",
    "\n",
    "from fastlane_bot.testing import *\n",
    "# plt.style.use('seaborn-dark')\n",
    "# plt.rcParams['figure.figsize'] = [12,6]\n",
    "\n",
    "# Import the necessary modules\n",
    "from fastlane_bot.config import Config\n",
    "from fastlane_bot.bot import CarbonBot\n",
    "from fastlane_bot.db.mock_model_managers import MockDatabaseManager\n",
    "\n",
    "from fastlane_bot import __VERSION__\n",
    "require(\"2.0\", __VERSION__)\n",
    "\n",
    "print(\"{0.__name__} v{0.__VERSION__} ({0.__DATE__})\".format(MockDatabaseManager))\n",
    "print(\"{0.__name__} v{0.__VERSION__} ({0.__DATE__})\".format(CarbonBot))\n"
   ],
   "metadata": {
    "collapsed": false,
    "ExecuteTime": {
     "start_time": "2023-05-01T09:21:43.937887Z",
     "end_time": "2023-05-01T09:21:44.010962Z"
    }
   }
  },
  {
   "cell_type": "code",
   "execution_count": 12,
   "outputs": [],
   "source": [
    "cfg = Config()"
   ],
   "metadata": {
    "collapsed": false,
    "ExecuteTime": {
     "start_time": "2023-05-01T09:21:43.942146Z",
     "end_time": "2023-05-01T09:21:44.242144Z"
    }
   }
  },
  {
   "cell_type": "markdown",
   "source": [
    "## Instantiate"
   ],
   "metadata": {
    "collapsed": false
   }
  },
  {
   "cell_type": "code",
   "execution_count": 13,
   "metadata": {
    "collapsed": true,
    "ExecuteTime": {
     "start_time": "2023-05-01T09:21:44.243069Z",
     "end_time": "2023-05-01T09:21:44.256607Z"
    }
   },
   "outputs": [
    {
     "name": "stderr",
     "output_type": "stream",
     "text": [
      "2023-05-01 09:21:44,251 [fastlane:INFO] - Database: None\n",
      "2023-05-01 09:21:44,251 [fastlane:INFO] - Database: None\n",
      "2023-05-01 09:21:44,251 [fastlane:INFO] - Database: None\n"
     ]
    }
   ],
   "source": [
    "# Instantiate the MockDatabaseManager\n",
    "db = MockDatabaseManager(cfg)"
   ]
  },
  {
   "cell_type": "markdown",
   "source": [
    "## Get Tokens"
   ],
   "metadata": {
    "collapsed": false
   }
  },
  {
   "cell_type": "code",
   "execution_count": 14,
   "outputs": [
    {
     "name": "stderr",
     "output_type": "stream",
     "text": [
      "2023-05-01 09:21:44,263 [fastlane:INFO] - Database: None\n",
      "2023-05-01 09:21:44,263 [fastlane:INFO] - Database: None\n",
      "2023-05-01 09:21:44,263 [fastlane:INFO] - Database: None\n"
     ]
    },
    {
     "name": "stdout",
     "output_type": "stream",
     "text": [
      "All Tokens:\n",
      "Token(id='1', key='ETH-EEeE', symbol='ETH', name='Ethereum', address='0xEeeeeEeeeEeEeeEeEeEeeEEEeeeeEeeeeeeeEEeE', decimals='18')\n"
     ]
    }
   ],
   "source": [
    "# Get all tokens\n",
    "db = MockDatabaseManager(cfg)\n",
    "all_tokens = db.get_tokens()\n",
    "print(\"All Tokens:\")\n",
    "# for token in all_tokens:\n",
    "print(all_tokens[0])\n",
    "\n",
    "assert len(all_tokens) == 232"
   ],
   "metadata": {
    "collapsed": false,
    "ExecuteTime": {
     "start_time": "2023-05-01T09:21:44.256164Z",
     "end_time": "2023-05-01T09:21:44.289978Z"
    }
   }
  },
  {
   "cell_type": "markdown",
   "source": [
    "## Get Token"
   ],
   "metadata": {
    "collapsed": false
   }
  },
  {
   "cell_type": "code",
   "execution_count": 15,
   "outputs": [
    {
     "name": "stderr",
     "output_type": "stream",
     "text": [
      "2023-05-01 09:21:44,291 [fastlane:INFO] - Database: None\n",
      "2023-05-01 09:21:44,291 [fastlane:INFO] - Database: None\n",
      "2023-05-01 09:21:44,291 [fastlane:INFO] - Database: None\n"
     ]
    },
    {
     "name": "stdout",
     "output_type": "stream",
     "text": [
      "\n",
      "ETH Token:\n",
      "Token(id='1', key='ETH-EEeE', symbol='ETH', name='Ethereum', address='0xEeeeeEeeeEeEeeEeEeEeeEEEeeeeEeeeeeeeEEeE', decimals='18')\n"
     ]
    }
   ],
   "source": [
    "# Get a specific token by symbol\n",
    "db = MockDatabaseManager(cfg)\n",
    "eth_token = db.get_token(symbol=\"ETH\")\n",
    "print(\"\\nETH Token:\")\n",
    "print(eth_token)\n",
    "\n",
    "assert eth_token.symbol == \"ETH\""
   ],
   "metadata": {
    "collapsed": false,
    "ExecuteTime": {
     "start_time": "2023-05-01T09:21:44.285256Z",
     "end_time": "2023-05-01T09:21:44.295662Z"
    }
   }
  },
  {
   "cell_type": "markdown",
   "source": [
    "## Get Pairs"
   ],
   "metadata": {
    "collapsed": false
   }
  },
  {
   "cell_type": "code",
   "execution_count": 16,
   "outputs": [
    {
     "name": "stderr",
     "output_type": "stream",
     "text": [
      "2023-05-01 09:21:44,304 [fastlane:INFO] - Database: None\n",
      "2023-05-01 09:21:44,304 [fastlane:INFO] - Database: None\n",
      "2023-05-01 09:21:44,304 [fastlane:INFO] - Database: None\n"
     ]
    },
    {
     "name": "stdout",
     "output_type": "stream",
     "text": [
      "\n",
      "All Pairs:\n",
      "Pair(id='1', name='ETH-EEeE/DAI-1d0F', tkn0_address='0xEeeeeEeeeEeEeeEeEeEeeEEEeeeeEeeeeeeeEEeE', tkn1_address='0x6B175474E89094C44Da98b954EedeAC495271d0F', tkn0_key='ETH-EEeE', tkn1_key='DAI-1d0F')\n"
     ]
    }
   ],
   "source": [
    "# Get all pairs\n",
    "db = MockDatabaseManager(cfg)\n",
    "all_pairs = db.get_pairs()\n",
    "print(\"\\nAll Pairs:\")\n",
    "# for pair in all_pairs:\n",
    "print(all_pairs[0])\n",
    "\n",
    "assert len(all_pairs) == 244"
   ],
   "metadata": {
    "collapsed": false,
    "ExecuteTime": {
     "start_time": "2023-05-01T09:21:44.297184Z",
     "end_time": "2023-05-01T09:21:44.410441Z"
    }
   }
  },
  {
   "cell_type": "markdown",
   "source": [
    "## Get Pair"
   ],
   "metadata": {
    "collapsed": false
   }
  },
  {
   "cell_type": "code",
   "execution_count": 17,
   "outputs": [
    {
     "name": "stderr",
     "output_type": "stream",
     "text": [
      "2023-05-01 09:21:44,330 [fastlane:INFO] - Database: None\n",
      "2023-05-01 09:21:44,330 [fastlane:INFO] - Database: None\n",
      "2023-05-01 09:21:44,330 [fastlane:INFO] - Database: None\n"
     ]
    },
    {
     "name": "stdout",
     "output_type": "stream",
     "text": [
      "\n",
      "Pair with ID 1:\n",
      "Pair(id='1', name='ETH-EEeE/DAI-1d0F', tkn0_address='0xEeeeeEeeeEeEeeEeEeEeeEEEeeeeEeeeeeeeEEeE', tkn1_address='0x6B175474E89094C44Da98b954EedeAC495271d0F', tkn0_key='ETH-EEeE', tkn1_key='DAI-1d0F')\n"
     ]
    }
   ],
   "source": [
    "# Get a specific pair by id\n",
    "db = MockDatabaseManager(cfg)\n",
    "pair_1 = db.get_pair(id=\"1\")\n",
    "print(\"\\nPair with ID 1:\")\n",
    "print(pair_1)\n",
    "\n",
    "assert pair_1.id == \"1\""
   ],
   "metadata": {
    "collapsed": false,
    "ExecuteTime": {
     "start_time": "2023-05-01T09:21:44.323428Z",
     "end_time": "2023-05-01T09:21:44.410875Z"
    }
   }
  },
  {
   "cell_type": "markdown",
   "source": [
    "## Get Pools"
   ],
   "metadata": {
    "collapsed": false
   }
  },
  {
   "cell_type": "code",
   "execution_count": 18,
   "outputs": [
    {
     "name": "stderr",
     "output_type": "stream",
     "text": [
      "2023-05-01 09:21:44,354 [fastlane:INFO] - Database: None\n",
      "2023-05-01 09:21:44,354 [fastlane:INFO] - Database: None\n",
      "2023-05-01 09:21:44,354 [fastlane:INFO] - Database: None\n"
     ]
    },
    {
     "name": "stdout",
     "output_type": "stream",
     "text": [
      "\n",
      "All Pools:\n",
      "Pool(id='0', cid='340282366920938463463374607431768211457', last_updated='2023-04-26 14:17:53.914212', last_updated_block='17130945', descr='carbon_v1 ETH-EEeE/DAI-1d0F None', pair_name='ETH-EEeE/DAI-1d0F', exchange_name='carbon_v1', fee='0', tkn0_balance='', tkn1_balance='', z_0='1000000000000000', y_0='1000000000000000', A_0='0', B_0='6382340776412', z_1='0', y_1='0', A_1='0', B_1='1875443170982464', sqrt_price_q96='0', tick='', tick_spacing='', liquidity='', address='0xC537e898CD774e2dCBa3B14Ea6f34C93d5eA45e1', anchor='')\n"
     ]
    }
   ],
   "source": [
    "# Get all pools\n",
    "db = MockDatabaseManager(cfg)\n",
    "all_pools = db.get_pools()\n",
    "print(\"\\nAll Pools:\")\n",
    "# for pool in all_pools:\n",
    "print(all_pools[0])\n",
    "\n",
    "assert len(all_pools) == 270"
   ],
   "metadata": {
    "collapsed": false,
    "ExecuteTime": {
     "start_time": "2023-05-01T09:21:44.343166Z",
     "end_time": "2023-05-01T09:21:44.412254Z"
    }
   }
  },
  {
   "cell_type": "markdown",
   "source": [
    "## Get Pool"
   ],
   "metadata": {
    "collapsed": false
   }
  },
  {
   "cell_type": "code",
   "execution_count": 19,
   "outputs": [
    {
     "name": "stderr",
     "output_type": "stream",
     "text": [
      "2023-05-01 09:21:44,395 [fastlane:INFO] - Database: None\n",
      "2023-05-01 09:21:44,395 [fastlane:INFO] - Database: None\n",
      "2023-05-01 09:21:44,395 [fastlane:INFO] - Database: None\n"
     ]
    },
    {
     "name": "stdout",
     "output_type": "stream",
     "text": [
      "\n",
      "Pool with ID 1:\n",
      "Pool(id='1', cid='680564733841876926926749214863536422914', last_updated='2023-04-26 14:17:53.919887', last_updated_block='17130945', descr='carbon_v1 ETH-EEeE/stETH-fE84 None', pair_name='ETH-EEeE/stETH-fE84', exchange_name='carbon_v1', fee='0', tkn0_balance='', tkn1_balance='', z_0='81273295119446689', y_0='79321294126956528', A_0='0', B_0='280078069940593', z_1='40028829792356263', y_1='2031521002415079', A_1='0', B_1='280064065686981', sqrt_price_q96='0', tick='', tick_spacing='', liquidity='', address='0xC537e898CD774e2dCBa3B14Ea6f34C93d5eA45e1', anchor='')\n"
     ]
    }
   ],
   "source": [
    "# Get a specific pool by id\n",
    "db = MockDatabaseManager(cfg)\n",
    "pool_1 = db.get_pool(id=\"1\")\n",
    "print(\"\\nPool with ID 1:\")\n",
    "print(pool_1)\n",
    "\n",
    "assert pool_1.id == \"1\""
   ],
   "metadata": {
    "collapsed": false,
    "ExecuteTime": {
     "start_time": "2023-05-01T09:21:44.387577Z",
     "end_time": "2023-05-01T09:21:44.412848Z"
    }
   }
  },
  {
   "cell_type": "markdown",
   "source": [
    "## Get Curves"
   ],
   "metadata": {
    "collapsed": false
   }
  },
  {
   "cell_type": "code",
   "execution_count": 20,
   "outputs": [
    {
     "name": "stderr",
     "output_type": "stream",
     "text": [
      "2023-05-01 09:21:44,441 [fastlane:INFO] - Database: None\n",
      "2023-05-01 09:21:44,441 [fastlane:INFO] - Database: None\n",
      "2023-05-01 09:21:44,441 [fastlane:INFO] - Database: None\n",
      "2023-05-01 09:21:44,441 [fastlane:INFO] - Database: None\n",
      "2023-05-01 09:21:44,573 [fastlane:INFO] - Database: None\n",
      "2023-05-01 09:21:44,573 [fastlane:INFO] - Database: None\n",
      "2023-05-01 09:21:44,573 [fastlane:INFO] - Database: None\n",
      "2023-05-01 09:21:44,573 [fastlane:INFO] - Database: None\n"
     ]
    },
    {
     "ename": "AttributeError",
     "evalue": "'NoneType' object has no attribute 'query'",
     "output_type": "error",
     "traceback": [
      "\u001B[0;31m---------------------------------------------------------------------------\u001B[0m",
      "\u001B[0;31mAttributeError\u001B[0m                            Traceback (most recent call last)",
      "\u001B[0;32m/var/folders/rt/qnj8r6yd6131ccxkw_k9d9gc0000gn/T/ipykernel_74507/4067658736.py\u001B[0m in \u001B[0;36m<module>\u001B[0;34m\u001B[0m\n\u001B[1;32m      1\u001B[0m \u001B[0mdb\u001B[0m \u001B[0;34m=\u001B[0m \u001B[0mMockDatabaseManager\u001B[0m\u001B[0;34m(\u001B[0m\u001B[0mConfig\u001B[0m\u001B[0;34m(\u001B[0m\u001B[0;34m)\u001B[0m\u001B[0;34m)\u001B[0m\u001B[0;34m\u001B[0m\u001B[0;34m\u001B[0m\u001B[0m\n\u001B[1;32m      2\u001B[0m \u001B[0mbot\u001B[0m \u001B[0;34m=\u001B[0m \u001B[0mCarbonBot\u001B[0m\u001B[0;34m(\u001B[0m\u001B[0mConfigObj\u001B[0m\u001B[0;34m=\u001B[0m\u001B[0mcfg\u001B[0m\u001B[0;34m)\u001B[0m\u001B[0;34m\u001B[0m\u001B[0;34m\u001B[0m\u001B[0m\n\u001B[0;32m----> 3\u001B[0;31m \u001B[0mcurves\u001B[0m \u001B[0;34m=\u001B[0m \u001B[0mbot\u001B[0m\u001B[0;34m.\u001B[0m\u001B[0mget_curves\u001B[0m\u001B[0;34m(\u001B[0m\u001B[0;34m)\u001B[0m\u001B[0;34m\u001B[0m\u001B[0;34m\u001B[0m\u001B[0m\n\u001B[0m\u001B[1;32m      4\u001B[0m \u001B[0mprint\u001B[0m\u001B[0;34m(\u001B[0m\u001B[0;34m\"\\nAll Curves:\"\u001B[0m\u001B[0;34m)\u001B[0m\u001B[0;34m\u001B[0m\u001B[0;34m\u001B[0m\u001B[0m\n\u001B[1;32m      5\u001B[0m \u001B[0;31m# for curve in curves:\u001B[0m\u001B[0;34m\u001B[0m\u001B[0;34m\u001B[0m\u001B[0m\n",
      "\u001B[0;32m~/Local/projects/bancor/carbonbot-main/fastlane_bot/bot.py\u001B[0m in \u001B[0;36mget_curves\u001B[0;34m(self)\u001B[0m\n\u001B[1;32m    180\u001B[0m             \u001B[0mThe\u001B[0m \u001B[0mcontainer\u001B[0m \u001B[0mof\u001B[0m \u001B[0mcurves\u001B[0m\u001B[0;34m.\u001B[0m\u001B[0;34m\u001B[0m\u001B[0;34m\u001B[0m\u001B[0m\n\u001B[1;32m    181\u001B[0m         \"\"\"\n\u001B[0;32m--> 182\u001B[0;31m         \u001B[0mpools_and_tokens\u001B[0m \u001B[0;34m=\u001B[0m \u001B[0mself\u001B[0m\u001B[0;34m.\u001B[0m\u001B[0mdb\u001B[0m\u001B[0;34m.\u001B[0m\u001B[0mget_pool_data_with_tokens\u001B[0m\u001B[0;34m(\u001B[0m\u001B[0mcnfg\u001B[0m\u001B[0;34m=\u001B[0m\u001B[0mself\u001B[0m\u001B[0;34m.\u001B[0m\u001B[0mConfigObj\u001B[0m\u001B[0;34m)\u001B[0m\u001B[0;34m\u001B[0m\u001B[0;34m\u001B[0m\u001B[0m\n\u001B[0m\u001B[1;32m    183\u001B[0m         \u001B[0mcurves\u001B[0m \u001B[0;34m=\u001B[0m \u001B[0;34m[\u001B[0m\u001B[0;34m]\u001B[0m\u001B[0;34m\u001B[0m\u001B[0;34m\u001B[0m\u001B[0m\n\u001B[1;32m    184\u001B[0m         \u001B[0;32mfor\u001B[0m \u001B[0mp\u001B[0m \u001B[0;32min\u001B[0m \u001B[0mpools_and_tokens\u001B[0m\u001B[0;34m:\u001B[0m\u001B[0;34m\u001B[0m\u001B[0;34m\u001B[0m\u001B[0m\n",
      "\u001B[0;32m~/Local/projects/bancor/carbonbot-main/fastlane_bot/db/model_managers.py\u001B[0m in \u001B[0;36mget_pool_data_with_tokens\u001B[0;34m(self, cnfg)\u001B[0m\n\u001B[1;32m    249\u001B[0m         \u001B[0mtkn1\u001B[0m \u001B[0;34m=\u001B[0m \u001B[0mfunc\u001B[0m\u001B[0;34m.\u001B[0m\u001B[0msplit_part\u001B[0m\u001B[0;34m(\u001B[0m\u001B[0mPool\u001B[0m\u001B[0;34m.\u001B[0m\u001B[0mpair_name\u001B[0m\u001B[0;34m,\u001B[0m \u001B[0;34m'/'\u001B[0m\u001B[0;34m,\u001B[0m \u001B[0;36m2\u001B[0m\u001B[0;34m)\u001B[0m\u001B[0;34m.\u001B[0m\u001B[0mlabel\u001B[0m\u001B[0;34m(\u001B[0m\u001B[0;34m\"tkn1\"\u001B[0m\u001B[0;34m)\u001B[0m\u001B[0;34m\u001B[0m\u001B[0;34m\u001B[0m\u001B[0m\n\u001B[1;32m    250\u001B[0m \u001B[0;34m\u001B[0m\u001B[0m\n\u001B[0;32m--> 251\u001B[0;31m         pool_and_tokens = (self.session.query(\n\u001B[0m\u001B[1;32m    252\u001B[0m             \u001B[0mPool\u001B[0m\u001B[0;34m,\u001B[0m\u001B[0;34m\u001B[0m\u001B[0;34m\u001B[0m\u001B[0m\n\u001B[1;32m    253\u001B[0m             \u001B[0mtkn0\u001B[0m\u001B[0;34m,\u001B[0m\u001B[0;34m\u001B[0m\u001B[0;34m\u001B[0m\u001B[0m\n",
      "\u001B[0;31mAttributeError\u001B[0m: 'NoneType' object has no attribute 'query'"
     ]
    }
   ],
   "source": [
    "db = MockDatabaseManager(Config())\n",
    "bot = CarbonBot(ConfigObj=cfg)\n",
    "curves = bot.get_curves()\n",
    "print(\"\\nAll Curves:\")\n",
    "# for curve in curves:\n",
    "print(curves[0])\n",
    "\n",
    "assert len(curves) > 0\n"
   ],
   "metadata": {
    "collapsed": false,
    "ExecuteTime": {
     "start_time": "2023-04-30T08:53:17.926403Z",
     "end_time": "2023-04-30T08:53:18.270882Z"
    }
   }
  }
 ],
 "metadata": {
  "kernelspec": {
   "name": "backend-sqlite-39",
   "language": "python",
   "display_name": "Python 3.9 (backend-sqlite-39)"
  },
  "language_info": {
   "codemirror_mode": {
    "name": "ipython",
    "version": 2
   },
   "file_extension": ".py",
   "mimetype": "text/x-python",
   "name": "python",
   "nbconvert_exporter": "python",
   "pygments_lexer": "ipython2",
   "version": "2.7.6"
  }
 },
 "nbformat": 4,
 "nbformat_minor": 0
}

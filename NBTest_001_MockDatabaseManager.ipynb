{
 "cells": [
  {
   "cell_type": "code",
   "execution_count": 1,
   "outputs": [
    {
     "name": "stdout",
     "output_type": "stream",
     "text": [
      "imported m, np, pd, plt, os, sys, decimal; defined iseq, raises, require\n",
      "Version = 2.0-BETA4 [requirements >= 2.0 is met]\n",
      "MockDatabaseManager v3.0.1 (04-30-2023)\n",
      "CarbonBot v2.0-BETA4 (30/Apr/2023)\n"
     ]
    }
   ],
   "source": [
    "# from fastlane_bot.config import Config\n",
    "# print(\"{0.__name__} v{0.__VERSION__} ({0.__DATE__})\".format(Config))\n",
    "\n",
    "from fastlane_bot.testing import *\n",
    "# plt.style.use('seaborn-dark')\n",
    "# plt.rcParams['figure.figsize'] = [12,6]\n",
    "\n",
    "# Import the necessary modules\n",
    "from fastlane_bot.config import Config\n",
    "from fastlane_bot.bot import CarbonBot\n",
    "from fastlane_bot.db.mock_model_managers import MockDatabaseManager\n",
    "\n",
    "from fastlane_bot import __VERSION__\n",
    "require(\"2.0\", __VERSION__)\n",
    "\n",
    "print(\"{0.__name__} v{0.__VERSION__} ({0.__DATE__})\".format(MockDatabaseManager))\n",
    "print(\"{0.__name__} v{0.__VERSION__} ({0.__DATE__})\".format(CarbonBot))\n"
   ],
   "metadata": {
    "collapsed": false,
    "ExecuteTime": {
     "start_time": "2023-04-30T08:53:10.013456Z",
     "end_time": "2023-04-30T08:53:12.280445Z"
    }
   }
  },
  {
   "cell_type": "markdown",
   "source": [
    "## Instantiate"
   ],
   "metadata": {
    "collapsed": false
   }
  },
  {
   "cell_type": "code",
   "execution_count": 2,
   "metadata": {
    "collapsed": true,
    "ExecuteTime": {
     "start_time": "2023-04-30T08:53:12.284994Z",
     "end_time": "2023-04-30T08:53:17.525238Z"
    }
   },
   "outputs": [],
   "source": [
    "# Instantiate the MockDatabaseManager\n",
    "db = MockDatabaseManager(Config())"
   ]
  },
  {
   "cell_type": "markdown",
   "source": [
    "## Get Tokens"
   ],
   "metadata": {
    "collapsed": false
   }
  },
  {
   "cell_type": "code",
   "execution_count": 3,
   "outputs": [
    {
     "name": "stdout",
     "output_type": "stream",
     "text": [
      "All Tokens:\n",
      "Token(id='1', key='ETH-EEeE', symbol='ETH', name='Ethereum', address='0xEeeeeEeeeEeEeeEeEeEeeEEEeeeeEeeeeeeeEEeE', decimals='18')\n"
     ]
    }
   ],
   "source": [
    "# Get all tokens\n",
    "db = MockDatabaseManager(Config())\n",
    "all_tokens = db.get_tokens()\n",
    "print(\"All Tokens:\")\n",
    "# for token in all_tokens:\n",
    "print(all_tokens[0])\n",
    "\n",
    "assert len(all_tokens) == 232"
   ],
   "metadata": {
    "collapsed": false,
    "ExecuteTime": {
     "start_time": "2023-04-30T08:53:17.526904Z",
     "end_time": "2023-04-30T08:53:17.599248Z"
    }
   }
  },
  {
   "cell_type": "markdown",
   "source": [
    "## Get Token"
   ],
   "metadata": {
    "collapsed": false
   }
  },
  {
   "cell_type": "code",
   "execution_count": 4,
   "outputs": [
    {
     "name": "stdout",
     "output_type": "stream",
     "text": [
      "\n",
      "ETH Token:\n",
      "Token(id='1', key='ETH-EEeE', symbol='ETH', name='Ethereum', address='0xEeeeeEeeeEeEeeEeEeEeeEEEeeeeEeeeeeeeEEeE', decimals='18')\n"
     ]
    }
   ],
   "source": [
    "# Get a specific token by symbol\n",
    "db = MockDatabaseManager(Config())\n",
    "eth_token = db.get_token(symbol=\"ETH\")\n",
    "print(\"\\nETH Token:\")\n",
    "print(eth_token)\n",
    "\n",
    "assert eth_token.symbol == \"ETH\""
   ],
   "metadata": {
    "collapsed": false,
    "ExecuteTime": {
     "start_time": "2023-04-30T08:53:17.601002Z",
     "end_time": "2023-04-30T08:53:17.650682Z"
    }
   }
  },
  {
   "cell_type": "markdown",
   "source": [
    "## Get Pairs"
   ],
   "metadata": {
    "collapsed": false
   }
  },
  {
   "cell_type": "code",
   "execution_count": 5,
   "outputs": [
    {
     "name": "stdout",
     "output_type": "stream",
     "text": [
      "\n",
      "All Pairs:\n",
      "Pair(id='1', name='ETH-EEeE/DAI-1d0F', tkn0_address='0xEeeeeEeeeEeEeeEeEeEeeEEEeeeeEeeeeeeeEEeE', tkn1_address='0x6B175474E89094C44Da98b954EedeAC495271d0F', tkn0_key='ETH-EEeE', tkn1_key='DAI-1d0F')\n"
     ]
    }
   ],
   "source": [
    "# Get all pairs\n",
    "db = MockDatabaseManager(Config())\n",
    "all_pairs = db.get_pairs()\n",
    "print(\"\\nAll Pairs:\")\n",
    "# for pair in all_pairs:\n",
    "print(all_pairs[0])\n",
    "\n",
    "assert len(all_pairs) == 244"
   ],
   "metadata": {
    "collapsed": false,
    "ExecuteTime": {
     "start_time": "2023-04-30T08:53:17.652935Z",
     "end_time": "2023-04-30T08:53:17.728482Z"
    }
   }
  },
  {
   "cell_type": "markdown",
   "source": [
    "## Get Pair"
   ],
   "metadata": {
    "collapsed": false
   }
  },
  {
   "cell_type": "code",
   "execution_count": 6,
   "outputs": [
    {
     "name": "stdout",
     "output_type": "stream",
     "text": [
      "\n",
      "Pair with ID 1:\n",
      "Pair(id='1', name='ETH-EEeE/DAI-1d0F', tkn0_address='0xEeeeeEeeeEeEeeEeEeEeeEEEeeeeEeeeeeeeEEeE', tkn1_address='0x6B175474E89094C44Da98b954EedeAC495271d0F', tkn0_key='ETH-EEeE', tkn1_key='DAI-1d0F')\n"
     ]
    }
   ],
   "source": [
    "# Get a specific pair by id\n",
    "db = MockDatabaseManager(Config())\n",
    "pair_1 = db.get_pair(id=\"1\")\n",
    "print(\"\\nPair with ID 1:\")\n",
    "print(pair_1)\n",
    "\n",
    "assert pair_1.id == \"1\""
   ],
   "metadata": {
    "collapsed": false,
    "ExecuteTime": {
     "start_time": "2023-04-30T08:53:17.729899Z",
     "end_time": "2023-04-30T08:53:17.797424Z"
    }
   }
  },
  {
   "cell_type": "markdown",
   "source": [
    "## Get Pools"
   ],
   "metadata": {
    "collapsed": false
   }
  },
  {
   "cell_type": "code",
   "execution_count": 7,
   "outputs": [
    {
     "name": "stdout",
     "output_type": "stream",
     "text": [
      "\n",
      "All Pools:\n",
      "Pool(id='0', cid='340282366920938463463374607431768211457', last_updated='2023-04-26 14:17:53.914212', last_updated_block='17130945', descr='carbon_v1 ETH-EEeE/DAI-1d0F None', pair_name='ETH-EEeE/DAI-1d0F', exchange_name='carbon_v1', fee='0', tkn0_balance='', tkn1_balance='', z_0='1000000000000000', y_0='1000000000000000', A_0='0', B_0='6382340776412', z_1='0', y_1='0', A_1='0', B_1='1875443170982464', sqrt_price_q96='0', tick='', tick_spacing='', liquidity='', address='0xC537e898CD774e2dCBa3B14Ea6f34C93d5eA45e1', anchor='')\n"
     ]
    }
   ],
   "source": [
    "# Get all pools\n",
    "db = MockDatabaseManager(Config())\n",
    "all_pools = db.get_pools()\n",
    "print(\"\\nAll Pools:\")\n",
    "# for pool in all_pools:\n",
    "print(all_pools[0])\n",
    "\n",
    "assert len(all_pools) == 270"
   ],
   "metadata": {
    "collapsed": false,
    "ExecuteTime": {
     "start_time": "2023-04-30T08:53:17.799591Z",
     "end_time": "2023-04-30T08:53:17.872097Z"
    }
   }
  },
  {
   "cell_type": "markdown",
   "source": [
    "## Get Pool"
   ],
   "metadata": {
    "collapsed": false
   }
  },
  {
   "cell_type": "code",
   "execution_count": 8,
   "outputs": [
    {
     "name": "stdout",
     "output_type": "stream",
     "text": [
      "\n",
      "Pool with ID 1:\n",
      "Pool(id='1', cid='680564733841876926926749214863536422914', last_updated='2023-04-26 14:17:53.919887', last_updated_block='17130945', descr='carbon_v1 ETH-EEeE/stETH-fE84 None', pair_name='ETH-EEeE/stETH-fE84', exchange_name='carbon_v1', fee='0', tkn0_balance='', tkn1_balance='', z_0='81273295119446689', y_0='79321294126956528', A_0='0', B_0='280078069940593', z_1='40028829792356263', y_1='2031521002415079', A_1='0', B_1='280064065686981', sqrt_price_q96='0', tick='', tick_spacing='', liquidity='', address='0xC537e898CD774e2dCBa3B14Ea6f34C93d5eA45e1', anchor='')\n"
     ]
    }
   ],
   "source": [
    "# Get a specific pool by id\n",
    "db = MockDatabaseManager(Config())\n",
    "pool_1 = db.get_pool(id=\"1\")\n",
    "print(\"\\nPool with ID 1:\")\n",
    "print(pool_1)\n",
    "\n",
    "assert pool_1.id == \"1\""
   ],
   "metadata": {
    "collapsed": false,
    "ExecuteTime": {
     "start_time": "2023-04-30T08:53:17.873751Z",
     "end_time": "2023-04-30T08:53:17.924695Z"
    }
   }
  },
  {
   "cell_type": "markdown",
   "source": [
    "## Get Curves"
   ],
   "metadata": {
    "collapsed": false
   }
  },
  {
   "cell_type": "code",
   "execution_count": 9,
   "outputs": [
    {
     "name": "stdout",
     "output_type": "stream",
     "text": [
      "\n",
      "All Curves:\n",
      "ConstantProductCurve(k=2752.748339971377, x=52.73095749897748, x_act=0, y_act=0.53, pair='stETH-fE84/WETH-6Cc2', cid='680564733841876926926749214863536422967-0', fee=0.0, descr='carbon_v1 stETH-fE84/ETH-EEeE None', constr='carb', params={'exchange': 'carbon_v1', 'tknx_dec': 18, 'tkny_dec': 18, 'tknx_addr': '0xae7ab96520DE3A18E5e111B5EaAb095312D7fE84', 'tkny_addr': '0xEeeeeEeeeEeEeeEeEeEeeEEEeeeeEeeeeeeeEEeE', 'blocklud': 17130945, 'y': 0.53, 'yint': 0.53, 'A': 0.010101656927009373, 'B': 0.98488578017961, 'pa': 0.9899999999999989, 'pb': 0.9699999999999992})\n"
     ]
    }
   ],
   "source": [
    "db = MockDatabaseManager(Config())\n",
    "bot = CarbonBot(ConfigObj=Config(), db=db)\n",
    "curves = bot.get_curves()\n",
    "print(\"\\nAll Curves:\")\n",
    "# for curve in curves:\n",
    "print(curves[0])\n",
    "\n",
    "assert len(curves) > 0\n"
   ],
   "metadata": {
    "collapsed": false,
    "ExecuteTime": {
     "start_time": "2023-04-30T08:53:17.926403Z",
     "end_time": "2023-04-30T08:53:18.270882Z"
    }
   }
  }
 ],
 "metadata": {
  "kernelspec": {
   "name": "backend-sqlite-39",
   "language": "python",
   "display_name": "Python 3.9 (backend-sqlite-39)"
  },
  "language_info": {
   "codemirror_mode": {
    "name": "ipython",
    "version": 2
   },
   "file_extension": ".py",
   "mimetype": "text/x-python",
   "name": "python",
   "nbconvert_exporter": "python",
   "pygments_lexer": "ipython2",
   "version": "2.7.6"
  }
 },
 "nbformat": 4,
 "nbformat_minor": 0
}

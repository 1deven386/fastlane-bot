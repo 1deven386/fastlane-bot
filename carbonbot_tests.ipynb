{
 "cells": [
  {
   "cell_type": "code",
   "execution_count": 4,
   "outputs": [
    {
     "ename": "ValueError",
     "evalue": "execution reverted",
     "output_type": "error",
     "traceback": [
      "\u001B[0;31m---------------------------------------------------------------------------\u001B[0m",
      "\u001B[0;31mValueError\u001B[0m                                Traceback (most recent call last)",
      "Cell \u001B[0;32mIn[4], line 3\u001B[0m\n\u001B[1;32m      1\u001B[0m tkn0 \u001B[38;5;241m=\u001B[39m db\u001B[38;5;241m.\u001B[39mc\u001B[38;5;241m.\u001B[39mw3\u001B[38;5;241m.\u001B[39mtoChecksumAddress(\u001B[38;5;124m'\u001B[39m\u001B[38;5;124m0x2260FAC5E5542a773Aa44fBCfeDf7C193bc2C599\u001B[39m\u001B[38;5;124m'\u001B[39m)\n\u001B[1;32m      2\u001B[0m tkn1 \u001B[38;5;241m=\u001B[39m db\u001B[38;5;241m.\u001B[39mc\u001B[38;5;241m.\u001B[39mw3\u001B[38;5;241m.\u001B[39mtoChecksumAddress(\u001B[38;5;124m'\u001B[39m\u001B[38;5;124m0x6B175474E89094C44Da98b954EedeAC495271d0F\u001B[39m\u001B[38;5;124m'\u001B[39m)\n\u001B[0;32m----> 3\u001B[0m \u001B[43mdb\u001B[49m\u001B[38;5;241;43m.\u001B[39;49m\u001B[43mcarbon_controller\u001B[49m\u001B[38;5;241;43m.\u001B[39;49m\u001B[43mstrategiesByPair\u001B[49m\u001B[43m(\u001B[49m\u001B[43mtkn0\u001B[49m\u001B[43m,\u001B[49m\u001B[43m \u001B[49m\u001B[43mtkn1\u001B[49m\u001B[43m,\u001B[49m\u001B[43m \u001B[49m\u001B[38;5;241;43m0\u001B[39;49m\u001B[43m,\u001B[49m\u001B[43m \u001B[49m\u001B[38;5;241;43m500\u001B[39;49m\u001B[43m)\u001B[49m\n",
      "File \u001B[0;32m~/miniforge3/envs/backend-sqlite-39/lib/python3.9/site-packages/brownie/network/contract.py:1905\u001B[0m, in \u001B[0;36mContractCall.__call__\u001B[0;34m(self, block_identifier, override, *args)\u001B[0m\n\u001B[1;32m   1883\u001B[0m \u001B[38;5;250m\u001B[39m\u001B[38;5;124;03m\"\"\"\u001B[39;00m\n\u001B[1;32m   1884\u001B[0m \u001B[38;5;124;03mCall the contract method without broadcasting a transaction.\u001B[39;00m\n\u001B[1;32m   1885\u001B[0m \n\u001B[0;32m   (...)\u001B[0m\n\u001B[1;32m   1901\u001B[0m \u001B[38;5;124;03m    Contract method return value(s).\u001B[39;00m\n\u001B[1;32m   1902\u001B[0m \u001B[38;5;124;03m\"\"\"\u001B[39;00m\n\u001B[1;32m   1904\u001B[0m \u001B[38;5;28;01mif\u001B[39;00m \u001B[38;5;129;01mnot\u001B[39;00m CONFIG\u001B[38;5;241m.\u001B[39margv[\u001B[38;5;124m\"\u001B[39m\u001B[38;5;124malways_transact\u001B[39m\u001B[38;5;124m\"\u001B[39m] \u001B[38;5;129;01mor\u001B[39;00m block_identifier \u001B[38;5;129;01mis\u001B[39;00m \u001B[38;5;129;01mnot\u001B[39;00m \u001B[38;5;28;01mNone\u001B[39;00m:\n\u001B[0;32m-> 1905\u001B[0m     \u001B[38;5;28;01mreturn\u001B[39;00m \u001B[38;5;28;43mself\u001B[39;49m\u001B[38;5;241;43m.\u001B[39;49m\u001B[43mcall\u001B[49m\u001B[43m(\u001B[49m\u001B[38;5;241;43m*\u001B[39;49m\u001B[43margs\u001B[49m\u001B[43m,\u001B[49m\u001B[43m \u001B[49m\u001B[43mblock_identifier\u001B[49m\u001B[38;5;241;43m=\u001B[39;49m\u001B[43mblock_identifier\u001B[49m\u001B[43m,\u001B[49m\u001B[43m \u001B[49m\u001B[43moverride\u001B[49m\u001B[38;5;241;43m=\u001B[39;49m\u001B[43moverride\u001B[49m\u001B[43m)\u001B[49m\n\u001B[1;32m   1907\u001B[0m args, tx \u001B[38;5;241m=\u001B[39m _get_tx(\u001B[38;5;28mself\u001B[39m\u001B[38;5;241m.\u001B[39m_owner, args)\n\u001B[1;32m   1908\u001B[0m tx\u001B[38;5;241m.\u001B[39mupdate({\u001B[38;5;124m\"\u001B[39m\u001B[38;5;124mgas_price\u001B[39m\u001B[38;5;124m\"\u001B[39m: \u001B[38;5;241m0\u001B[39m, \u001B[38;5;124m\"\u001B[39m\u001B[38;5;124mfrom\u001B[39m\u001B[38;5;124m\"\u001B[39m: \u001B[38;5;28mself\u001B[39m\u001B[38;5;241m.\u001B[39m_owner \u001B[38;5;129;01mor\u001B[39;00m accounts[\u001B[38;5;241m0\u001B[39m]})\n",
      "File \u001B[0;32m~/miniforge3/envs/backend-sqlite-39/lib/python3.9/site-packages/brownie/network/contract.py:1696\u001B[0m, in \u001B[0;36m_ContractMethod.call\u001B[0;34m(self, block_identifier, override, *args)\u001B[0m\n\u001B[1;32m   1694\u001B[0m     data \u001B[38;5;241m=\u001B[39m web3\u001B[38;5;241m.\u001B[39meth\u001B[38;5;241m.\u001B[39mcall({k: v \u001B[38;5;28;01mfor\u001B[39;00m k, v \u001B[38;5;129;01min\u001B[39;00m tx\u001B[38;5;241m.\u001B[39mitems() \u001B[38;5;28;01mif\u001B[39;00m v}, block_identifier, override)\n\u001B[1;32m   1695\u001B[0m \u001B[38;5;28;01mexcept\u001B[39;00m \u001B[38;5;167;01mValueError\u001B[39;00m \u001B[38;5;28;01mas\u001B[39;00m e:\n\u001B[0;32m-> 1696\u001B[0m     \u001B[38;5;28;01mraise\u001B[39;00m \u001B[43mVirtualMachineError\u001B[49m\u001B[43m(\u001B[49m\u001B[43me\u001B[49m\u001B[43m)\u001B[49m \u001B[38;5;28;01mfrom\u001B[39;00m \u001B[38;5;28;01mNone\u001B[39;00m\n\u001B[1;32m   1698\u001B[0m selector \u001B[38;5;241m=\u001B[39m HexBytes(data)[:\u001B[38;5;241m4\u001B[39m]\u001B[38;5;241m.\u001B[39mhex()\n\u001B[1;32m   1700\u001B[0m \u001B[38;5;28;01mif\u001B[39;00m selector \u001B[38;5;241m==\u001B[39m \u001B[38;5;124m\"\u001B[39m\u001B[38;5;124m0x08c379a0\u001B[39m\u001B[38;5;124m\"\u001B[39m:\n",
      "File \u001B[0;32m~/miniforge3/envs/backend-sqlite-39/lib/python3.9/site-packages/brownie/exceptions.py:119\u001B[0m, in \u001B[0;36mVirtualMachineError.__init__\u001B[0;34m(self, exc)\u001B[0m\n\u001B[1;32m    117\u001B[0m     \u001B[38;5;28mself\u001B[39m\u001B[38;5;241m.\u001B[39mrevert_type \u001B[38;5;241m=\u001B[39m data[\u001B[38;5;124m\"\u001B[39m\u001B[38;5;124merror\u001B[39m\u001B[38;5;124m\"\u001B[39m]\n\u001B[1;32m    118\u001B[0m \u001B[38;5;28;01mexcept\u001B[39;00m \u001B[38;5;167;01mStopIteration\u001B[39;00m:\n\u001B[0;32m--> 119\u001B[0m     \u001B[38;5;28;01mraise\u001B[39;00m \u001B[38;5;167;01mValueError\u001B[39;00m(exc[\u001B[38;5;124m\"\u001B[39m\u001B[38;5;124mmessage\u001B[39m\u001B[38;5;124m\"\u001B[39m]) \u001B[38;5;28;01mfrom\u001B[39;00m \u001B[38;5;28;01mNone\u001B[39;00m\n\u001B[1;32m    121\u001B[0m \u001B[38;5;28mself\u001B[39m\u001B[38;5;241m.\u001B[39mtxid \u001B[38;5;241m=\u001B[39m txid\n\u001B[1;32m    122\u001B[0m \u001B[38;5;28mself\u001B[39m\u001B[38;5;241m.\u001B[39msource \u001B[38;5;241m=\u001B[39m \u001B[38;5;124m\"\u001B[39m\u001B[38;5;124m\"\u001B[39m\n",
      "\u001B[0;31mValueError\u001B[0m: execution reverted"
     ]
    }
   ],
   "source": [
    "\n",
    "tkn0 = db.c.w3.toChecksumAddress('0x2260FAC5E5542a773Aa44fBCfeDf7C193bc2C599')\n",
    "tkn1 = db.c.w3.toChecksumAddress('0x6B175474E89094C44Da98b954EedeAC495271d0F')\n",
    "db.carbon_controller.strategiesByPair(tkn0, tkn1, 0, 500)"
   ],
   "metadata": {
    "collapsed": false
   }
  },
  {
   "cell_type": "code",
   "execution_count": 11,
   "outputs": [
    {
     "data": {
      "text/plain": "'https://rpc.tenderly.co/fork/045fdd40-5228-487a-a4b6-a513daadb2ad'"
     },
     "execution_count": 11,
     "metadata": {},
     "output_type": "execute_result"
    }
   ],
   "source": [
    "bot.c.w3.provider.endpoint_uri\n"
   ],
   "metadata": {
    "collapsed": false,
    "ExecuteTime": {
     "start_time": "2023-05-07T09:25:26.826565Z",
     "end_time": "2023-05-07T09:25:26.832004Z"
    }
   }
  },
  {
   "cell_type": "code",
   "execution_count": 13,
   "outputs": [
    {
     "data": {
      "text/plain": "'0xC537e898CD774e2dCBa3B14Ea6f34C93d5eA45e1'"
     },
     "execution_count": 13,
     "metadata": {},
     "output_type": "execute_result"
    }
   ],
   "source": [
    "import web3\n",
    "from fastlane_bot.data import abi as abis\n",
    "\n",
    "carbon_controller = bot.c.w3.eth.contract(address=db.c.CARBON_CONTROLLER_ADDRESS, abi=abis.CARBON_CONTROLLER_ABI)\n",
    "\n",
    "carbon_controller.address"
   ],
   "metadata": {
    "collapsed": false,
    "ExecuteTime": {
     "start_time": "2023-05-07T09:26:04.293398Z",
     "end_time": "2023-05-07T09:26:04.303429Z"
    }
   }
  },
  {
   "cell_type": "code",
   "execution_count": 32,
   "outputs": [
    {
     "data": {
      "text/plain": "                                       cid                last_updated  \\\n0     00125d26-4f9d-4936-9a46-7e7708cee9b5  2023-05-06 19:04:10.202420   \n1     0019a82b-c631-4e22-a855-f6f5c4407f2f  2023-05-06 19:12:55.459658   \n2     002cb90e-bf7a-4a89-b08d-c9355b3fa636  2023-05-06 19:42:10.030631   \n3     00304cc4-3510-465e-aa0a-27ff06e7cdfa  2023-05-06 19:31:14.670126   \n4     0063f6a6-f1c0-45be-9bf3-126f1dfe1fa0  2023-05-06 19:46:19.386888   \n...                                    ...                         ...   \n3474  ff1fabe2-f711-46b3-ab32-04086e625390  2023-05-06 19:40:44.385050   \n3475  ff2e48f9-0df7-4a3b-a508-2d0aa33052c2  2023-05-06 19:31:02.591112   \n3476  ff3dc2f5-5462-4de1-9a4d-bb1df0b78f6a  2023-05-06 19:30:15.370667   \n3477  ff82edd0-a1cf-4302-9f4f-ecdeea936baa  2023-05-06 19:23:54.829193   \n3478  ff918d68-79cf-4b75-8916-5f2c19f2b99b  2023-05-06 19:48:22.303530   \n\n      last_updated_block                                     address  \\\n0               17203475  0x7BeA39867e4169DBe237d55C8242a8f2fcDcc387   \n1               17203475  0xE8cF4874d365f3d8f66284679Cec2286a51b1128   \n2               17203475  0x64F0bc5141B18B8C816dA7E7f1f26676e10506bb   \n3               17203475  0x430Ba84FadF427eE5E8d4d78538b64C1E7456020   \n4               17203475  0x6B1455E27902CA89eE3ABB0673A8Aa9Ce1609952   \n...                  ...                                         ...   \n3474            17203475  0xfc221e168dC56cda3dEEa3108760df13766280B6   \n3475            17203475  0x755C1a8F71f4210CD7B60b9439451EfCbeBa33D1   \n3476            17203475  0x51fe8E8FA3F9F10288fA8c2Aff1400F887D21c42   \n3477            17203475  0x3ED96D54BE53868eDbc3Ad5CCc4995710d187dC4   \n3478            17203475  0x7586e4A1E7D950912544732Ed533E4A448317225   \n\n     exchange_name  exchange_id        fee  fee_float              pair_name  \\\n0       uniswap_v3            4  10000.000      0.010    USDC-eB48/WETH-6Cc2   \n1       uniswap_v3            4   3000.000      0.003    WETH-6Cc2/CADC-2Eef   \n2       uniswap_v2            3      0.003      0.003  WETH-6Cc2/MATRIX-1C36   \n3       uniswap_v2            3      0.003      0.003     SAN-f098/WETH-6Cc2   \n4       uniswap_v2            3      0.003      0.003   WETH-6Cc2/PPDEX-0cf7   \n...            ...          ...        ...        ...                    ...   \n3474    uniswap_v2            3      0.003      0.003   SPHRI-b3Ec/WETH-6Cc2   \n3475    uniswap_v2            3      0.003      0.003     LPT-B239/WETH-6Cc2   \n3476    uniswap_v2            3      0.003      0.003    MITx-1Db6/WETH-6Cc2   \n3477    uniswap_v3            4   3000.000      0.003     APE-4381/USDT-1ec7   \n3478    uniswap_v2            3      0.003      0.003    CLIQ-6767/WETH-6Cc2   \n\n                                    tkn0_address  ... z_0 y_0 A_0 B_0 z_1  \\\n0     0xA0b86991c6218b36c1d19D4a2e9Eb0cE3606eB48  ... NaN NaN NaN NaN NaN   \n1     0xC02aaA39b223FE8D0A0e5C4F27eAD9083C756Cc2  ... NaN NaN NaN NaN NaN   \n2     0xC02aaA39b223FE8D0A0e5C4F27eAD9083C756Cc2  ... NaN NaN NaN NaN NaN   \n3     0x7C5A0CE9267ED19B22F8cae653F198e3E8daf098  ... NaN NaN NaN NaN NaN   \n4     0xC02aaA39b223FE8D0A0e5C4F27eAD9083C756Cc2  ... NaN NaN NaN NaN NaN   \n...                                          ...  ...  ..  ..  ..  ..  ..   \n3474  0x8A0cdfaB62eD35b836DC0633482798421C81b3Ec  ... NaN NaN NaN NaN NaN   \n3475  0x58b6A8A3302369DAEc383334672404Ee733aB239  ... NaN NaN NaN NaN NaN   \n3476  0x4a527d8fc13C5203AB24BA0944F4Cb14658D1Db6  ... NaN NaN NaN NaN NaN   \n3477  0x4d224452801ACEd8B2F0aebE155379bb5D594381  ... NaN NaN NaN NaN NaN   \n3478  0x0Def8d8addE14c9eF7c2a986dF3eA4Bd65826767  ... NaN NaN NaN NaN NaN   \n\n      y_1  A_1  B_1                                   descr  anchor  \n0     NaN  NaN  NaN    uniswap_v3 USDC-eB48/WETH-6Cc2 10000     NaN  \n1     NaN  NaN  NaN     uniswap_v3 WETH-6Cc2/CADC-2Eef 3000     NaN  \n2     NaN  NaN  NaN  uniswap_v2 WETH-6Cc2/MATRIX-1C36 0.003     NaN  \n3     NaN  NaN  NaN     uniswap_v2 SAN-f098/WETH-6Cc2 0.003     NaN  \n4     NaN  NaN  NaN   uniswap_v2 WETH-6Cc2/PPDEX-0cf7 0.003     NaN  \n...   ...  ...  ...                                     ...     ...  \n3474  NaN  NaN  NaN   uniswap_v2 SPHRI-b3Ec/WETH-6Cc2 0.003     NaN  \n3475  NaN  NaN  NaN     uniswap_v2 LPT-B239/WETH-6Cc2 0.003     NaN  \n3476  NaN  NaN  NaN    uniswap_v2 MITx-1Db6/WETH-6Cc2 0.003     NaN  \n3477  NaN  NaN  NaN      uniswap_v3 APE-4381/USDT-1ec7 3000     NaN  \n3478  NaN  NaN  NaN    uniswap_v2 CLIQ-6767/WETH-6Cc2 0.003     NaN  \n\n[3479 rows x 33 columns]",
      "text/html": "<div>\n<style scoped>\n    .dataframe tbody tr th:only-of-type {\n        vertical-align: middle;\n    }\n\n    .dataframe tbody tr th {\n        vertical-align: top;\n    }\n\n    .dataframe thead th {\n        text-align: right;\n    }\n</style>\n<table border=\"1\" class=\"dataframe\">\n  <thead>\n    <tr style=\"text-align: right;\">\n      <th></th>\n      <th>cid</th>\n      <th>last_updated</th>\n      <th>last_updated_block</th>\n      <th>address</th>\n      <th>exchange_name</th>\n      <th>exchange_id</th>\n      <th>fee</th>\n      <th>fee_float</th>\n      <th>pair_name</th>\n      <th>tkn0_address</th>\n      <th>...</th>\n      <th>z_0</th>\n      <th>y_0</th>\n      <th>A_0</th>\n      <th>B_0</th>\n      <th>z_1</th>\n      <th>y_1</th>\n      <th>A_1</th>\n      <th>B_1</th>\n      <th>descr</th>\n      <th>anchor</th>\n    </tr>\n  </thead>\n  <tbody>\n    <tr>\n      <th>0</th>\n      <td>00125d26-4f9d-4936-9a46-7e7708cee9b5</td>\n      <td>2023-05-06 19:04:10.202420</td>\n      <td>17203475</td>\n      <td>0x7BeA39867e4169DBe237d55C8242a8f2fcDcc387</td>\n      <td>uniswap_v3</td>\n      <td>4</td>\n      <td>10000.000</td>\n      <td>0.010</td>\n      <td>USDC-eB48/WETH-6Cc2</td>\n      <td>0xA0b86991c6218b36c1d19D4a2e9Eb0cE3606eB48</td>\n      <td>...</td>\n      <td>NaN</td>\n      <td>NaN</td>\n      <td>NaN</td>\n      <td>NaN</td>\n      <td>NaN</td>\n      <td>NaN</td>\n      <td>NaN</td>\n      <td>NaN</td>\n      <td>uniswap_v3 USDC-eB48/WETH-6Cc2 10000</td>\n      <td>NaN</td>\n    </tr>\n    <tr>\n      <th>1</th>\n      <td>0019a82b-c631-4e22-a855-f6f5c4407f2f</td>\n      <td>2023-05-06 19:12:55.459658</td>\n      <td>17203475</td>\n      <td>0xE8cF4874d365f3d8f66284679Cec2286a51b1128</td>\n      <td>uniswap_v3</td>\n      <td>4</td>\n      <td>3000.000</td>\n      <td>0.003</td>\n      <td>WETH-6Cc2/CADC-2Eef</td>\n      <td>0xC02aaA39b223FE8D0A0e5C4F27eAD9083C756Cc2</td>\n      <td>...</td>\n      <td>NaN</td>\n      <td>NaN</td>\n      <td>NaN</td>\n      <td>NaN</td>\n      <td>NaN</td>\n      <td>NaN</td>\n      <td>NaN</td>\n      <td>NaN</td>\n      <td>uniswap_v3 WETH-6Cc2/CADC-2Eef 3000</td>\n      <td>NaN</td>\n    </tr>\n    <tr>\n      <th>2</th>\n      <td>002cb90e-bf7a-4a89-b08d-c9355b3fa636</td>\n      <td>2023-05-06 19:42:10.030631</td>\n      <td>17203475</td>\n      <td>0x64F0bc5141B18B8C816dA7E7f1f26676e10506bb</td>\n      <td>uniswap_v2</td>\n      <td>3</td>\n      <td>0.003</td>\n      <td>0.003</td>\n      <td>WETH-6Cc2/MATRIX-1C36</td>\n      <td>0xC02aaA39b223FE8D0A0e5C4F27eAD9083C756Cc2</td>\n      <td>...</td>\n      <td>NaN</td>\n      <td>NaN</td>\n      <td>NaN</td>\n      <td>NaN</td>\n      <td>NaN</td>\n      <td>NaN</td>\n      <td>NaN</td>\n      <td>NaN</td>\n      <td>uniswap_v2 WETH-6Cc2/MATRIX-1C36 0.003</td>\n      <td>NaN</td>\n    </tr>\n    <tr>\n      <th>3</th>\n      <td>00304cc4-3510-465e-aa0a-27ff06e7cdfa</td>\n      <td>2023-05-06 19:31:14.670126</td>\n      <td>17203475</td>\n      <td>0x430Ba84FadF427eE5E8d4d78538b64C1E7456020</td>\n      <td>uniswap_v2</td>\n      <td>3</td>\n      <td>0.003</td>\n      <td>0.003</td>\n      <td>SAN-f098/WETH-6Cc2</td>\n      <td>0x7C5A0CE9267ED19B22F8cae653F198e3E8daf098</td>\n      <td>...</td>\n      <td>NaN</td>\n      <td>NaN</td>\n      <td>NaN</td>\n      <td>NaN</td>\n      <td>NaN</td>\n      <td>NaN</td>\n      <td>NaN</td>\n      <td>NaN</td>\n      <td>uniswap_v2 SAN-f098/WETH-6Cc2 0.003</td>\n      <td>NaN</td>\n    </tr>\n    <tr>\n      <th>4</th>\n      <td>0063f6a6-f1c0-45be-9bf3-126f1dfe1fa0</td>\n      <td>2023-05-06 19:46:19.386888</td>\n      <td>17203475</td>\n      <td>0x6B1455E27902CA89eE3ABB0673A8Aa9Ce1609952</td>\n      <td>uniswap_v2</td>\n      <td>3</td>\n      <td>0.003</td>\n      <td>0.003</td>\n      <td>WETH-6Cc2/PPDEX-0cf7</td>\n      <td>0xC02aaA39b223FE8D0A0e5C4F27eAD9083C756Cc2</td>\n      <td>...</td>\n      <td>NaN</td>\n      <td>NaN</td>\n      <td>NaN</td>\n      <td>NaN</td>\n      <td>NaN</td>\n      <td>NaN</td>\n      <td>NaN</td>\n      <td>NaN</td>\n      <td>uniswap_v2 WETH-6Cc2/PPDEX-0cf7 0.003</td>\n      <td>NaN</td>\n    </tr>\n    <tr>\n      <th>...</th>\n      <td>...</td>\n      <td>...</td>\n      <td>...</td>\n      <td>...</td>\n      <td>...</td>\n      <td>...</td>\n      <td>...</td>\n      <td>...</td>\n      <td>...</td>\n      <td>...</td>\n      <td>...</td>\n      <td>...</td>\n      <td>...</td>\n      <td>...</td>\n      <td>...</td>\n      <td>...</td>\n      <td>...</td>\n      <td>...</td>\n      <td>...</td>\n      <td>...</td>\n      <td>...</td>\n    </tr>\n    <tr>\n      <th>3474</th>\n      <td>ff1fabe2-f711-46b3-ab32-04086e625390</td>\n      <td>2023-05-06 19:40:44.385050</td>\n      <td>17203475</td>\n      <td>0xfc221e168dC56cda3dEEa3108760df13766280B6</td>\n      <td>uniswap_v2</td>\n      <td>3</td>\n      <td>0.003</td>\n      <td>0.003</td>\n      <td>SPHRI-b3Ec/WETH-6Cc2</td>\n      <td>0x8A0cdfaB62eD35b836DC0633482798421C81b3Ec</td>\n      <td>...</td>\n      <td>NaN</td>\n      <td>NaN</td>\n      <td>NaN</td>\n      <td>NaN</td>\n      <td>NaN</td>\n      <td>NaN</td>\n      <td>NaN</td>\n      <td>NaN</td>\n      <td>uniswap_v2 SPHRI-b3Ec/WETH-6Cc2 0.003</td>\n      <td>NaN</td>\n    </tr>\n    <tr>\n      <th>3475</th>\n      <td>ff2e48f9-0df7-4a3b-a508-2d0aa33052c2</td>\n      <td>2023-05-06 19:31:02.591112</td>\n      <td>17203475</td>\n      <td>0x755C1a8F71f4210CD7B60b9439451EfCbeBa33D1</td>\n      <td>uniswap_v2</td>\n      <td>3</td>\n      <td>0.003</td>\n      <td>0.003</td>\n      <td>LPT-B239/WETH-6Cc2</td>\n      <td>0x58b6A8A3302369DAEc383334672404Ee733aB239</td>\n      <td>...</td>\n      <td>NaN</td>\n      <td>NaN</td>\n      <td>NaN</td>\n      <td>NaN</td>\n      <td>NaN</td>\n      <td>NaN</td>\n      <td>NaN</td>\n      <td>NaN</td>\n      <td>uniswap_v2 LPT-B239/WETH-6Cc2 0.003</td>\n      <td>NaN</td>\n    </tr>\n    <tr>\n      <th>3476</th>\n      <td>ff3dc2f5-5462-4de1-9a4d-bb1df0b78f6a</td>\n      <td>2023-05-06 19:30:15.370667</td>\n      <td>17203475</td>\n      <td>0x51fe8E8FA3F9F10288fA8c2Aff1400F887D21c42</td>\n      <td>uniswap_v2</td>\n      <td>3</td>\n      <td>0.003</td>\n      <td>0.003</td>\n      <td>MITx-1Db6/WETH-6Cc2</td>\n      <td>0x4a527d8fc13C5203AB24BA0944F4Cb14658D1Db6</td>\n      <td>...</td>\n      <td>NaN</td>\n      <td>NaN</td>\n      <td>NaN</td>\n      <td>NaN</td>\n      <td>NaN</td>\n      <td>NaN</td>\n      <td>NaN</td>\n      <td>NaN</td>\n      <td>uniswap_v2 MITx-1Db6/WETH-6Cc2 0.003</td>\n      <td>NaN</td>\n    </tr>\n    <tr>\n      <th>3477</th>\n      <td>ff82edd0-a1cf-4302-9f4f-ecdeea936baa</td>\n      <td>2023-05-06 19:23:54.829193</td>\n      <td>17203475</td>\n      <td>0x3ED96D54BE53868eDbc3Ad5CCc4995710d187dC4</td>\n      <td>uniswap_v3</td>\n      <td>4</td>\n      <td>3000.000</td>\n      <td>0.003</td>\n      <td>APE-4381/USDT-1ec7</td>\n      <td>0x4d224452801ACEd8B2F0aebE155379bb5D594381</td>\n      <td>...</td>\n      <td>NaN</td>\n      <td>NaN</td>\n      <td>NaN</td>\n      <td>NaN</td>\n      <td>NaN</td>\n      <td>NaN</td>\n      <td>NaN</td>\n      <td>NaN</td>\n      <td>uniswap_v3 APE-4381/USDT-1ec7 3000</td>\n      <td>NaN</td>\n    </tr>\n    <tr>\n      <th>3478</th>\n      <td>ff918d68-79cf-4b75-8916-5f2c19f2b99b</td>\n      <td>2023-05-06 19:48:22.303530</td>\n      <td>17203475</td>\n      <td>0x7586e4A1E7D950912544732Ed533E4A448317225</td>\n      <td>uniswap_v2</td>\n      <td>3</td>\n      <td>0.003</td>\n      <td>0.003</td>\n      <td>CLIQ-6767/WETH-6Cc2</td>\n      <td>0x0Def8d8addE14c9eF7c2a986dF3eA4Bd65826767</td>\n      <td>...</td>\n      <td>NaN</td>\n      <td>NaN</td>\n      <td>NaN</td>\n      <td>NaN</td>\n      <td>NaN</td>\n      <td>NaN</td>\n      <td>NaN</td>\n      <td>NaN</td>\n      <td>uniswap_v2 CLIQ-6767/WETH-6Cc2 0.003</td>\n      <td>NaN</td>\n    </tr>\n  </tbody>\n</table>\n<p>3479 rows × 33 columns</p>\n</div>"
     },
     "execution_count": 32,
     "metadata": {},
     "output_type": "execute_result"
    }
   ],
   "source": [
    "combined_tables = pd.read_csv('fastlane_bot/data/combined_tables_new.csv')\n",
    "combined_tables_old = pd.read_csv('fastlane_bot/data/combined_tables.csv')\n",
    "combined_tables_old = combined_tables_old.rename({'exchange': 'exchange_name'}, axis=1)\n",
    "combined_tables_with_anchor = combined_tables.merge(combined_tables_old[['address', 'exchange_name', 'fee', 'anchor']], on=['address', 'exchange_name', 'fee'], how='left')\n",
    "\n",
    "combined_tables_with_anchor"
   ],
   "metadata": {
    "collapsed": false,
    "ExecuteTime": {
     "start_time": "2023-05-07T16:57:58.970779Z",
     "end_time": "2023-05-07T16:57:59.024023Z"
    }
   }
  },
  {
   "cell_type": "code",
   "execution_count": 34,
   "outputs": [
    {
     "data": {
      "text/plain": "                                       cid                last_updated  \\\n0     00125d26-4f9d-4936-9a46-7e7708cee9b5  2023-05-06 19:04:10.202420   \n1     0019a82b-c631-4e22-a855-f6f5c4407f2f  2023-05-06 19:12:55.459658   \n2     002cb90e-bf7a-4a89-b08d-c9355b3fa636  2023-05-06 19:42:10.030631   \n3     00304cc4-3510-465e-aa0a-27ff06e7cdfa  2023-05-06 19:31:14.670126   \n4     0063f6a6-f1c0-45be-9bf3-126f1dfe1fa0  2023-05-06 19:46:19.386888   \n...                                    ...                         ...   \n3474  ff1fabe2-f711-46b3-ab32-04086e625390  2023-05-06 19:40:44.385050   \n3475  ff2e48f9-0df7-4a3b-a508-2d0aa33052c2  2023-05-06 19:31:02.591112   \n3476  ff3dc2f5-5462-4de1-9a4d-bb1df0b78f6a  2023-05-06 19:30:15.370667   \n3477  ff82edd0-a1cf-4302-9f4f-ecdeea936baa  2023-05-06 19:23:54.829193   \n3478  ff918d68-79cf-4b75-8916-5f2c19f2b99b  2023-05-06 19:48:22.303530   \n\n      last_updated_block                                     address  \\\n0               17203475  0x7BeA39867e4169DBe237d55C8242a8f2fcDcc387   \n1               17203475  0xE8cF4874d365f3d8f66284679Cec2286a51b1128   \n2               17203475  0x64F0bc5141B18B8C816dA7E7f1f26676e10506bb   \n3               17203475  0x430Ba84FadF427eE5E8d4d78538b64C1E7456020   \n4               17203475  0x6B1455E27902CA89eE3ABB0673A8Aa9Ce1609952   \n...                  ...                                         ...   \n3474            17203475  0xfc221e168dC56cda3dEEa3108760df13766280B6   \n3475            17203475  0x755C1a8F71f4210CD7B60b9439451EfCbeBa33D1   \n3476            17203475  0x51fe8E8FA3F9F10288fA8c2Aff1400F887D21c42   \n3477            17203475  0x3ED96D54BE53868eDbc3Ad5CCc4995710d187dC4   \n3478            17203475  0x7586e4A1E7D950912544732Ed533E4A448317225   \n\n     exchange_name  exchange_id        fee  fee_float              pair_name  \\\n0       uniswap_v3            4  10000.000      0.010    USDC-eB48/WETH-6Cc2   \n1       uniswap_v3            4   3000.000      0.003    WETH-6Cc2/CADC-2Eef   \n2       uniswap_v2            3      0.003      0.003  WETH-6Cc2/MATRIX-1C36   \n3       uniswap_v2            3      0.003      0.003     SAN-f098/WETH-6Cc2   \n4       uniswap_v2            3      0.003      0.003   WETH-6Cc2/PPDEX-0cf7   \n...            ...          ...        ...        ...                    ...   \n3474    uniswap_v2            3      0.003      0.003   SPHRI-b3Ec/WETH-6Cc2   \n3475    uniswap_v2            3      0.003      0.003     LPT-B239/WETH-6Cc2   \n3476    uniswap_v2            3      0.003      0.003    MITx-1Db6/WETH-6Cc2   \n3477    uniswap_v3            4   3000.000      0.003     APE-4381/USDT-1ec7   \n3478    uniswap_v2            3      0.003      0.003    CLIQ-6767/WETH-6Cc2   \n\n                                    tkn0_address  ... z_0 y_0 A_0 B_0 z_1  \\\n0     0xA0b86991c6218b36c1d19D4a2e9Eb0cE3606eB48  ... NaN NaN NaN NaN NaN   \n1     0xC02aaA39b223FE8D0A0e5C4F27eAD9083C756Cc2  ... NaN NaN NaN NaN NaN   \n2     0xC02aaA39b223FE8D0A0e5C4F27eAD9083C756Cc2  ... NaN NaN NaN NaN NaN   \n3     0x7C5A0CE9267ED19B22F8cae653F198e3E8daf098  ... NaN NaN NaN NaN NaN   \n4     0xC02aaA39b223FE8D0A0e5C4F27eAD9083C756Cc2  ... NaN NaN NaN NaN NaN   \n...                                          ...  ...  ..  ..  ..  ..  ..   \n3474  0x8A0cdfaB62eD35b836DC0633482798421C81b3Ec  ... NaN NaN NaN NaN NaN   \n3475  0x58b6A8A3302369DAEc383334672404Ee733aB239  ... NaN NaN NaN NaN NaN   \n3476  0x4a527d8fc13C5203AB24BA0944F4Cb14658D1Db6  ... NaN NaN NaN NaN NaN   \n3477  0x4d224452801ACEd8B2F0aebE155379bb5D594381  ... NaN NaN NaN NaN NaN   \n3478  0x0Def8d8addE14c9eF7c2a986dF3eA4Bd65826767  ... NaN NaN NaN NaN NaN   \n\n      y_1  A_1  B_1                                   descr  anchor  \n0     NaN  NaN  NaN    uniswap_v3 USDC-eB48/WETH-6Cc2 10000     NaN  \n1     NaN  NaN  NaN     uniswap_v3 WETH-6Cc2/CADC-2Eef 3000     NaN  \n2     NaN  NaN  NaN  uniswap_v2 WETH-6Cc2/MATRIX-1C36 0.003     NaN  \n3     NaN  NaN  NaN     uniswap_v2 SAN-f098/WETH-6Cc2 0.003     NaN  \n4     NaN  NaN  NaN   uniswap_v2 WETH-6Cc2/PPDEX-0cf7 0.003     NaN  \n...   ...  ...  ...                                     ...     ...  \n3474  NaN  NaN  NaN   uniswap_v2 SPHRI-b3Ec/WETH-6Cc2 0.003     NaN  \n3475  NaN  NaN  NaN     uniswap_v2 LPT-B239/WETH-6Cc2 0.003     NaN  \n3476  NaN  NaN  NaN    uniswap_v2 MITx-1Db6/WETH-6Cc2 0.003     NaN  \n3477  NaN  NaN  NaN      uniswap_v3 APE-4381/USDT-1ec7 3000     NaN  \n3478  NaN  NaN  NaN    uniswap_v2 CLIQ-6767/WETH-6Cc2 0.003     NaN  \n\n[3479 rows x 33 columns]",
      "text/html": "<div>\n<style scoped>\n    .dataframe tbody tr th:only-of-type {\n        vertical-align: middle;\n    }\n\n    .dataframe tbody tr th {\n        vertical-align: top;\n    }\n\n    .dataframe thead th {\n        text-align: right;\n    }\n</style>\n<table border=\"1\" class=\"dataframe\">\n  <thead>\n    <tr style=\"text-align: right;\">\n      <th></th>\n      <th>cid</th>\n      <th>last_updated</th>\n      <th>last_updated_block</th>\n      <th>address</th>\n      <th>exchange_name</th>\n      <th>exchange_id</th>\n      <th>fee</th>\n      <th>fee_float</th>\n      <th>pair_name</th>\n      <th>tkn0_address</th>\n      <th>...</th>\n      <th>z_0</th>\n      <th>y_0</th>\n      <th>A_0</th>\n      <th>B_0</th>\n      <th>z_1</th>\n      <th>y_1</th>\n      <th>A_1</th>\n      <th>B_1</th>\n      <th>descr</th>\n      <th>anchor</th>\n    </tr>\n  </thead>\n  <tbody>\n    <tr>\n      <th>0</th>\n      <td>00125d26-4f9d-4936-9a46-7e7708cee9b5</td>\n      <td>2023-05-06 19:04:10.202420</td>\n      <td>17203475</td>\n      <td>0x7BeA39867e4169DBe237d55C8242a8f2fcDcc387</td>\n      <td>uniswap_v3</td>\n      <td>4</td>\n      <td>10000.000</td>\n      <td>0.010</td>\n      <td>USDC-eB48/WETH-6Cc2</td>\n      <td>0xA0b86991c6218b36c1d19D4a2e9Eb0cE3606eB48</td>\n      <td>...</td>\n      <td>NaN</td>\n      <td>NaN</td>\n      <td>NaN</td>\n      <td>NaN</td>\n      <td>NaN</td>\n      <td>NaN</td>\n      <td>NaN</td>\n      <td>NaN</td>\n      <td>uniswap_v3 USDC-eB48/WETH-6Cc2 10000</td>\n      <td>NaN</td>\n    </tr>\n    <tr>\n      <th>1</th>\n      <td>0019a82b-c631-4e22-a855-f6f5c4407f2f</td>\n      <td>2023-05-06 19:12:55.459658</td>\n      <td>17203475</td>\n      <td>0xE8cF4874d365f3d8f66284679Cec2286a51b1128</td>\n      <td>uniswap_v3</td>\n      <td>4</td>\n      <td>3000.000</td>\n      <td>0.003</td>\n      <td>WETH-6Cc2/CADC-2Eef</td>\n      <td>0xC02aaA39b223FE8D0A0e5C4F27eAD9083C756Cc2</td>\n      <td>...</td>\n      <td>NaN</td>\n      <td>NaN</td>\n      <td>NaN</td>\n      <td>NaN</td>\n      <td>NaN</td>\n      <td>NaN</td>\n      <td>NaN</td>\n      <td>NaN</td>\n      <td>uniswap_v3 WETH-6Cc2/CADC-2Eef 3000</td>\n      <td>NaN</td>\n    </tr>\n    <tr>\n      <th>2</th>\n      <td>002cb90e-bf7a-4a89-b08d-c9355b3fa636</td>\n      <td>2023-05-06 19:42:10.030631</td>\n      <td>17203475</td>\n      <td>0x64F0bc5141B18B8C816dA7E7f1f26676e10506bb</td>\n      <td>uniswap_v2</td>\n      <td>3</td>\n      <td>0.003</td>\n      <td>0.003</td>\n      <td>WETH-6Cc2/MATRIX-1C36</td>\n      <td>0xC02aaA39b223FE8D0A0e5C4F27eAD9083C756Cc2</td>\n      <td>...</td>\n      <td>NaN</td>\n      <td>NaN</td>\n      <td>NaN</td>\n      <td>NaN</td>\n      <td>NaN</td>\n      <td>NaN</td>\n      <td>NaN</td>\n      <td>NaN</td>\n      <td>uniswap_v2 WETH-6Cc2/MATRIX-1C36 0.003</td>\n      <td>NaN</td>\n    </tr>\n    <tr>\n      <th>3</th>\n      <td>00304cc4-3510-465e-aa0a-27ff06e7cdfa</td>\n      <td>2023-05-06 19:31:14.670126</td>\n      <td>17203475</td>\n      <td>0x430Ba84FadF427eE5E8d4d78538b64C1E7456020</td>\n      <td>uniswap_v2</td>\n      <td>3</td>\n      <td>0.003</td>\n      <td>0.003</td>\n      <td>SAN-f098/WETH-6Cc2</td>\n      <td>0x7C5A0CE9267ED19B22F8cae653F198e3E8daf098</td>\n      <td>...</td>\n      <td>NaN</td>\n      <td>NaN</td>\n      <td>NaN</td>\n      <td>NaN</td>\n      <td>NaN</td>\n      <td>NaN</td>\n      <td>NaN</td>\n      <td>NaN</td>\n      <td>uniswap_v2 SAN-f098/WETH-6Cc2 0.003</td>\n      <td>NaN</td>\n    </tr>\n    <tr>\n      <th>4</th>\n      <td>0063f6a6-f1c0-45be-9bf3-126f1dfe1fa0</td>\n      <td>2023-05-06 19:46:19.386888</td>\n      <td>17203475</td>\n      <td>0x6B1455E27902CA89eE3ABB0673A8Aa9Ce1609952</td>\n      <td>uniswap_v2</td>\n      <td>3</td>\n      <td>0.003</td>\n      <td>0.003</td>\n      <td>WETH-6Cc2/PPDEX-0cf7</td>\n      <td>0xC02aaA39b223FE8D0A0e5C4F27eAD9083C756Cc2</td>\n      <td>...</td>\n      <td>NaN</td>\n      <td>NaN</td>\n      <td>NaN</td>\n      <td>NaN</td>\n      <td>NaN</td>\n      <td>NaN</td>\n      <td>NaN</td>\n      <td>NaN</td>\n      <td>uniswap_v2 WETH-6Cc2/PPDEX-0cf7 0.003</td>\n      <td>NaN</td>\n    </tr>\n    <tr>\n      <th>...</th>\n      <td>...</td>\n      <td>...</td>\n      <td>...</td>\n      <td>...</td>\n      <td>...</td>\n      <td>...</td>\n      <td>...</td>\n      <td>...</td>\n      <td>...</td>\n      <td>...</td>\n      <td>...</td>\n      <td>...</td>\n      <td>...</td>\n      <td>...</td>\n      <td>...</td>\n      <td>...</td>\n      <td>...</td>\n      <td>...</td>\n      <td>...</td>\n      <td>...</td>\n      <td>...</td>\n    </tr>\n    <tr>\n      <th>3474</th>\n      <td>ff1fabe2-f711-46b3-ab32-04086e625390</td>\n      <td>2023-05-06 19:40:44.385050</td>\n      <td>17203475</td>\n      <td>0xfc221e168dC56cda3dEEa3108760df13766280B6</td>\n      <td>uniswap_v2</td>\n      <td>3</td>\n      <td>0.003</td>\n      <td>0.003</td>\n      <td>SPHRI-b3Ec/WETH-6Cc2</td>\n      <td>0x8A0cdfaB62eD35b836DC0633482798421C81b3Ec</td>\n      <td>...</td>\n      <td>NaN</td>\n      <td>NaN</td>\n      <td>NaN</td>\n      <td>NaN</td>\n      <td>NaN</td>\n      <td>NaN</td>\n      <td>NaN</td>\n      <td>NaN</td>\n      <td>uniswap_v2 SPHRI-b3Ec/WETH-6Cc2 0.003</td>\n      <td>NaN</td>\n    </tr>\n    <tr>\n      <th>3475</th>\n      <td>ff2e48f9-0df7-4a3b-a508-2d0aa33052c2</td>\n      <td>2023-05-06 19:31:02.591112</td>\n      <td>17203475</td>\n      <td>0x755C1a8F71f4210CD7B60b9439451EfCbeBa33D1</td>\n      <td>uniswap_v2</td>\n      <td>3</td>\n      <td>0.003</td>\n      <td>0.003</td>\n      <td>LPT-B239/WETH-6Cc2</td>\n      <td>0x58b6A8A3302369DAEc383334672404Ee733aB239</td>\n      <td>...</td>\n      <td>NaN</td>\n      <td>NaN</td>\n      <td>NaN</td>\n      <td>NaN</td>\n      <td>NaN</td>\n      <td>NaN</td>\n      <td>NaN</td>\n      <td>NaN</td>\n      <td>uniswap_v2 LPT-B239/WETH-6Cc2 0.003</td>\n      <td>NaN</td>\n    </tr>\n    <tr>\n      <th>3476</th>\n      <td>ff3dc2f5-5462-4de1-9a4d-bb1df0b78f6a</td>\n      <td>2023-05-06 19:30:15.370667</td>\n      <td>17203475</td>\n      <td>0x51fe8E8FA3F9F10288fA8c2Aff1400F887D21c42</td>\n      <td>uniswap_v2</td>\n      <td>3</td>\n      <td>0.003</td>\n      <td>0.003</td>\n      <td>MITx-1Db6/WETH-6Cc2</td>\n      <td>0x4a527d8fc13C5203AB24BA0944F4Cb14658D1Db6</td>\n      <td>...</td>\n      <td>NaN</td>\n      <td>NaN</td>\n      <td>NaN</td>\n      <td>NaN</td>\n      <td>NaN</td>\n      <td>NaN</td>\n      <td>NaN</td>\n      <td>NaN</td>\n      <td>uniswap_v2 MITx-1Db6/WETH-6Cc2 0.003</td>\n      <td>NaN</td>\n    </tr>\n    <tr>\n      <th>3477</th>\n      <td>ff82edd0-a1cf-4302-9f4f-ecdeea936baa</td>\n      <td>2023-05-06 19:23:54.829193</td>\n      <td>17203475</td>\n      <td>0x3ED96D54BE53868eDbc3Ad5CCc4995710d187dC4</td>\n      <td>uniswap_v3</td>\n      <td>4</td>\n      <td>3000.000</td>\n      <td>0.003</td>\n      <td>APE-4381/USDT-1ec7</td>\n      <td>0x4d224452801ACEd8B2F0aebE155379bb5D594381</td>\n      <td>...</td>\n      <td>NaN</td>\n      <td>NaN</td>\n      <td>NaN</td>\n      <td>NaN</td>\n      <td>NaN</td>\n      <td>NaN</td>\n      <td>NaN</td>\n      <td>NaN</td>\n      <td>uniswap_v3 APE-4381/USDT-1ec7 3000</td>\n      <td>NaN</td>\n    </tr>\n    <tr>\n      <th>3478</th>\n      <td>ff918d68-79cf-4b75-8916-5f2c19f2b99b</td>\n      <td>2023-05-06 19:48:22.303530</td>\n      <td>17203475</td>\n      <td>0x7586e4A1E7D950912544732Ed533E4A448317225</td>\n      <td>uniswap_v2</td>\n      <td>3</td>\n      <td>0.003</td>\n      <td>0.003</td>\n      <td>CLIQ-6767/WETH-6Cc2</td>\n      <td>0x0Def8d8addE14c9eF7c2a986dF3eA4Bd65826767</td>\n      <td>...</td>\n      <td>NaN</td>\n      <td>NaN</td>\n      <td>NaN</td>\n      <td>NaN</td>\n      <td>NaN</td>\n      <td>NaN</td>\n      <td>NaN</td>\n      <td>NaN</td>\n      <td>uniswap_v2 CLIQ-6767/WETH-6Cc2 0.003</td>\n      <td>NaN</td>\n    </tr>\n  </tbody>\n</table>\n<p>3479 rows × 33 columns</p>\n</div>"
     },
     "execution_count": 34,
     "metadata": {},
     "output_type": "execute_result"
    }
   ],
   "source": [
    "combined_tables_with_anchor"
   ],
   "metadata": {
    "collapsed": false,
    "ExecuteTime": {
     "start_time": "2023-05-07T16:58:48.380629Z",
     "end_time": "2023-05-07T16:58:48.392521Z"
    }
   }
  },
  {
   "cell_type": "code",
   "execution_count": 33,
   "outputs": [],
   "source": [
    "combined_tables_with_anchor.to_csv('fastlane_bot/data/combined_tables_new.csv', index=False)"
   ],
   "metadata": {
    "collapsed": false,
    "ExecuteTime": {
     "start_time": "2023-05-07T16:58:39.426114Z",
     "end_time": "2023-05-07T16:58:39.471667Z"
    }
   }
  },
  {
   "cell_type": "code",
   "execution_count": 23,
   "outputs": [
    {
     "data": {
      "text/plain": "array([nan])"
     },
     "execution_count": 23,
     "metadata": {},
     "output_type": "execute_result"
    }
   ],
   "source": [
    "combined_tables_old['anchor'].unique()"
   ],
   "metadata": {
    "collapsed": false,
    "ExecuteTime": {
     "start_time": "2023-05-07T16:51:55.334322Z",
     "end_time": "2023-05-07T16:51:55.336920Z"
    }
   }
  },
  {
   "cell_type": "code",
   "execution_count": 18,
   "outputs": [
    {
     "name": "stdout",
     "output_type": "stream",
     "text": [
      "{'original_key': 'original_value', 'new_key': 'new_value'}\n"
     ]
    }
   ],
   "source": [
    "def update_dictionary(my_dict):\n",
    "    my_dict['new_key'] = 'new_value'\n",
    "\n",
    "example_dict = {'original_key': 'original_value'}\n",
    "update_dictionary(example_dict)\n",
    "\n",
    "print(example_dict)"
   ],
   "metadata": {
    "collapsed": false,
    "ExecuteTime": {
     "start_time": "2023-05-07T16:30:32.199578Z",
     "end_time": "2023-05-07T16:30:32.199910Z"
    }
   }
  },
  {
   "cell_type": "code",
   "execution_count": 17,
   "outputs": [
    {
     "data": {
      "text/plain": "[['0x6B175474E89094C44Da98b954EedeAC495271d0F',\n  '0xEeeeeEeeeEeEeeEeEeEeeEEEeeeeEeeeeeeeEEeE'],\n ['0xae7ab96520DE3A18E5e111B5EaAb095312D7fE84',\n  '0xEeeeeEeeeEeEeeEeEeEeeEEEeeeeEeeeeeeeEEeE'],\n ['0xA0b86991c6218b36c1d19D4a2e9Eb0cE3606eB48',\n  '0xdAC17F958D2ee523a2206206994597C13D831ec7'],\n ['0x6B175474E89094C44Da98b954EedeAC495271d0F',\n  '0xA0b86991c6218b36c1d19D4a2e9Eb0cE3606eB48'],\n ['0xA0b86991c6218b36c1d19D4a2e9Eb0cE3606eB48',\n  '0xEeeeeEeeeEeEeeEeEeEeeEEEeeeeEeeeeeeeEEeE'],\n ['0x6B175474E89094C44Da98b954EedeAC495271d0F',\n  '0xdAC17F958D2ee523a2206206994597C13D831ec7'],\n ['0x1F573D6Fb3F13d689FF844B4cE37794d79a7FF1C',\n  '0xA0b86991c6218b36c1d19D4a2e9Eb0cE3606eB48'],\n ['0xdAC17F958D2ee523a2206206994597C13D831ec7',\n  '0xEeeeeEeeeEeEeeEeEeEeeEEEeeeeEeeeeeeeEEeE'],\n ['0xae78736Cd615f374D3085123A210448E74Fc6393',\n  '0xEeeeeEeeeEeEeeEeEeEeeEEEeeeeEeeeeeeeEEeE'],\n ['0x6982508145454Ce325dDbE47a25d4ec3d2311933',\n  '0xA0b86991c6218b36c1d19D4a2e9Eb0cE3606eB48'],\n ['0x1F573D6Fb3F13d689FF844B4cE37794d79a7FF1C',\n  '0xEeeeeEeeeEeEeeEeEeEeeEEEeeeeEeeeeeeeEEeE'],\n ['0x2260FAC5E5542a773Aa44fBCfeDf7C193bc2C599',\n  '0xA0b86991c6218b36c1d19D4a2e9Eb0cE3606eB48'],\n ['0x1F573D6Fb3F13d689FF844B4cE37794d79a7FF1C',\n  '0x48Fb253446873234F2fEBbF9BdeAA72d9d387f94'],\n ['0x514910771AF9Ca656af840dff83E8264EcF986CA',\n  '0xdAC17F958D2ee523a2206206994597C13D831ec7'],\n ['0x48Fb253446873234F2fEBbF9BdeAA72d9d387f94',\n  '0xA0b86991c6218b36c1d19D4a2e9Eb0cE3606eB48'],\n ['0x64aa3364F17a4D01c6f1751Fd97C2BD3D7e7f1D5',\n  '0xA0b86991c6218b36c1d19D4a2e9Eb0cE3606eB48'],\n ['0xB4272071eCAdd69d933AdcD19cA99fe80664fc08',\n  '0xD33526068D116cE69F19A9ee46F0bd304F21A51f'],\n ['0x7D1AfA7B718fb893dB30A3aBc0Cfc608AaCfeBB0',\n  '0xB50721BCf8d664c30412Cfbc6cf7a15145234ad1'],\n ['0xA0b86991c6218b36c1d19D4a2e9Eb0cE3606eB48',\n  '0xc5fB36dd2fb59d3B98dEfF88425a3F425Ee469eD'],\n ['0xC98835e792553e505AE46e73a6fD27a23985aCcA',\n  '0xEeeeeEeeeEeEeeEeEeEeeEEEeeeeEeeeeeeeEEeE'],\n ['0x6982508145454Ce325dDbE47a25d4ec3d2311933',\n  '0xEeeeeEeeeEeEeeEeEeEeeEEEeeeeEeeeeeeeEEeE'],\n ['0xA0b86991c6218b36c1d19D4a2e9Eb0cE3606eB48',\n  '0xA8b919680258d369114910511cc87595aec0be6D'],\n ['0xe76C6c83af64e4C60245D8C7dE953DF673a7A33D',\n  '0xEeeeeEeeeEeEeeEeEeEeeEEEeeeeEeeeeeeeEEeE'],\n ['0xbd15Ad921e1B480209AF549874a2fCb80DC312Bf',\n  '0xEeeeeEeeeEeEeeEeEeEeeEEEeeeeEeeeeeeeEEeE'],\n ['0x6f80310CA7F2C654691D1383149Fa1A57d8AB1f8',\n  '0xA0b86991c6218b36c1d19D4a2e9Eb0cE3606eB48'],\n ['0x514910771AF9Ca656af840dff83E8264EcF986CA',\n  '0xA0b86991c6218b36c1d19D4a2e9Eb0cE3606eB48'],\n ['0x2260FAC5E5542a773Aa44fBCfeDf7C193bc2C599',\n  '0xEeeeeEeeeEeEeeEeEeEeeEEEeeeeEeeeeeeeEEeE'],\n ['0x2260FAC5E5542a773Aa44fBCfeDf7C193bc2C599',\n  '0xdAC17F958D2ee523a2206206994597C13D831ec7'],\n ['0x5a3e6A77ba2f983eC0d371ea3B475F8Bc0811AD5',\n  '0xEeeeeEeeeEeEeeEeEeEeeEEEeeeeEeeeeeeeEEeE'],\n ['0xB17548c7B510427baAc4e267BEa62e800b247173',\n  '0xEeeeeEeeeEeEeeEeEeEeeEEEeeeeEeeeeeeeEEeE'],\n ['0xA0b86991c6218b36c1d19D4a2e9Eb0cE3606eB48',\n  '0xA9E8aCf069C58aEc8825542845Fd754e41a9489A'],\n ['0xA0b86991c6218b36c1d19D4a2e9Eb0cE3606eB48',\n  '0xDA7C0810cE6F8329786160bb3d1734cf6661CA6E'],\n ['0xbae9992488AE7f7c1EDB34Ed74c213B28d928991',\n  '0xEeeeeEeeeEeEeeEeEeEeeEEEeeeeEeeeeeeeEEeE'],\n ['0x0414D8C87b271266a5864329fb4932bBE19c0c49',\n  '0xEeeeeEeeeEeEeeEeEeEeeEEEeeeeEeeeeeeeEEeE'],\n ['0x178c820f862B14f316509ec36b13123DA19A6054',\n  '0xEeeeeEeeeEeEeeEeEeEeeEEEeeeeEeeeeeeeEEeE'],\n ['0xA0b86991c6218b36c1d19D4a2e9Eb0cE3606eB48',\n  '0xD533a949740bb3306d119CC777fa900bA034cd52'],\n ['0x2260FAC5E5542a773Aa44fBCfeDf7C193bc2C599',\n  '0x6B175474E89094C44Da98b954EedeAC495271d0F']]"
     },
     "execution_count": 17,
     "metadata": {},
     "output_type": "execute_result"
    }
   ],
   "source": [
    "carbon_controller.functions.pairs().call()"
   ],
   "metadata": {
    "collapsed": false,
    "ExecuteTime": {
     "start_time": "2023-05-07T09:34:09.259848Z",
     "end_time": "2023-05-07T09:34:09.801454Z"
    }
   }
  },
  {
   "cell_type": "code",
   "execution_count": 14,
   "outputs": [
    {
     "ename": "AttributeError",
     "evalue": "'Contract' object has no attribute 'pairs'",
     "output_type": "error",
     "traceback": [
      "\u001B[0;31m---------------------------------------------------------------------------\u001B[0m",
      "\u001B[0;31mAttributeError\u001B[0m                            Traceback (most recent call last)",
      "Cell \u001B[0;32mIn[14], line 1\u001B[0m\n\u001B[0;32m----> 1\u001B[0m \u001B[38;5;28;01mfor\u001B[39;00m pair \u001B[38;5;129;01min\u001B[39;00m \u001B[43mcarbon_controller\u001B[49m\u001B[38;5;241;43m.\u001B[39;49m\u001B[43mpairs\u001B[49m():\n\u001B[1;32m      2\u001B[0m     \u001B[38;5;28mprint\u001B[39m(tkn1\u001B[38;5;241m==\u001B[39mpair[\u001B[38;5;241m0\u001B[39m], tkn0\u001B[38;5;241m==\u001B[39mpair[\u001B[38;5;241m1\u001B[39m])\n",
      "\u001B[0;31mAttributeError\u001B[0m: 'Contract' object has no attribute 'pairs'"
     ]
    }
   ],
   "source": [
    "for pair in carbon_controller.pairs():\n",
    "    print(tkn1==pair[0], tkn0==pair[1])"
   ],
   "metadata": {
    "collapsed": false,
    "ExecuteTime": {
     "start_time": "2023-05-07T09:21:25.473170Z",
     "end_time": "2023-05-07T09:21:25.498869Z"
    }
   }
  },
  {
   "cell_type": "code",
   "execution_count": 5,
   "outputs": [
    {
     "data": {
      "text/plain": "(('0x6B175474E89094C44Da98b954EedeAC495271d0F',\n  '0xEeeeeEeeeEeEeeEeEeEeeEEEeeeeEeeeeeeeEEeE'),\n ('0xae7ab96520DE3A18E5e111B5EaAb095312D7fE84',\n  '0xEeeeeEeeeEeEeeEeEeEeeEEEeeeeEeeeeeeeEEeE'),\n ('0xA0b86991c6218b36c1d19D4a2e9Eb0cE3606eB48',\n  '0xdAC17F958D2ee523a2206206994597C13D831ec7'),\n ('0x6B175474E89094C44Da98b954EedeAC495271d0F',\n  '0xA0b86991c6218b36c1d19D4a2e9Eb0cE3606eB48'),\n ('0xA0b86991c6218b36c1d19D4a2e9Eb0cE3606eB48',\n  '0xEeeeeEeeeEeEeeEeEeEeeEEEeeeeEeeeeeeeEEeE'),\n ('0x6B175474E89094C44Da98b954EedeAC495271d0F',\n  '0xdAC17F958D2ee523a2206206994597C13D831ec7'),\n ('0x1F573D6Fb3F13d689FF844B4cE37794d79a7FF1C',\n  '0xA0b86991c6218b36c1d19D4a2e9Eb0cE3606eB48'),\n ('0xdAC17F958D2ee523a2206206994597C13D831ec7',\n  '0xEeeeeEeeeEeEeeEeEeEeeEEEeeeeEeeeeeeeEEeE'),\n ('0xae78736Cd615f374D3085123A210448E74Fc6393',\n  '0xEeeeeEeeeEeEeeEeEeEeeEEEeeeeEeeeeeeeEEeE'),\n ('0x6982508145454Ce325dDbE47a25d4ec3d2311933',\n  '0xA0b86991c6218b36c1d19D4a2e9Eb0cE3606eB48'),\n ('0x1F573D6Fb3F13d689FF844B4cE37794d79a7FF1C',\n  '0xEeeeeEeeeEeEeeEeEeEeeEEEeeeeEeeeeeeeEEeE'),\n ('0x2260FAC5E5542a773Aa44fBCfeDf7C193bc2C599',\n  '0xA0b86991c6218b36c1d19D4a2e9Eb0cE3606eB48'),\n ('0x1F573D6Fb3F13d689FF844B4cE37794d79a7FF1C',\n  '0x48Fb253446873234F2fEBbF9BdeAA72d9d387f94'),\n ('0x514910771AF9Ca656af840dff83E8264EcF986CA',\n  '0xdAC17F958D2ee523a2206206994597C13D831ec7'),\n ('0x48Fb253446873234F2fEBbF9BdeAA72d9d387f94',\n  '0xA0b86991c6218b36c1d19D4a2e9Eb0cE3606eB48'),\n ('0x64aa3364F17a4D01c6f1751Fd97C2BD3D7e7f1D5',\n  '0xA0b86991c6218b36c1d19D4a2e9Eb0cE3606eB48'),\n ('0xB4272071eCAdd69d933AdcD19cA99fe80664fc08',\n  '0xD33526068D116cE69F19A9ee46F0bd304F21A51f'),\n ('0x7D1AfA7B718fb893dB30A3aBc0Cfc608AaCfeBB0',\n  '0xB50721BCf8d664c30412Cfbc6cf7a15145234ad1'),\n ('0xA0b86991c6218b36c1d19D4a2e9Eb0cE3606eB48',\n  '0xc5fB36dd2fb59d3B98dEfF88425a3F425Ee469eD'),\n ('0xC98835e792553e505AE46e73a6fD27a23985aCcA',\n  '0xEeeeeEeeeEeEeeEeEeEeeEEEeeeeEeeeeeeeEEeE'),\n ('0x6982508145454Ce325dDbE47a25d4ec3d2311933',\n  '0xEeeeeEeeeEeEeeEeEeEeeEEEeeeeEeeeeeeeEEeE'),\n ('0xA0b86991c6218b36c1d19D4a2e9Eb0cE3606eB48',\n  '0xA8b919680258d369114910511cc87595aec0be6D'),\n ('0xe76C6c83af64e4C60245D8C7dE953DF673a7A33D',\n  '0xEeeeeEeeeEeEeeEeEeEeeEEEeeeeEeeeeeeeEEeE'),\n ('0xbd15Ad921e1B480209AF549874a2fCb80DC312Bf',\n  '0xEeeeeEeeeEeEeeEeEeEeeEEEeeeeEeeeeeeeEEeE'),\n ('0x6f80310CA7F2C654691D1383149Fa1A57d8AB1f8',\n  '0xA0b86991c6218b36c1d19D4a2e9Eb0cE3606eB48'),\n ('0x514910771AF9Ca656af840dff83E8264EcF986CA',\n  '0xA0b86991c6218b36c1d19D4a2e9Eb0cE3606eB48'),\n ('0x2260FAC5E5542a773Aa44fBCfeDf7C193bc2C599',\n  '0xEeeeeEeeeEeEeeEeEeEeeEEEeeeeEeeeeeeeEEeE'),\n ('0x2260FAC5E5542a773Aa44fBCfeDf7C193bc2C599',\n  '0xdAC17F958D2ee523a2206206994597C13D831ec7'),\n ('0x5a3e6A77ba2f983eC0d371ea3B475F8Bc0811AD5',\n  '0xEeeeeEeeeEeEeeEeEeEeeEEEeeeeEeeeeeeeEEeE'),\n ('0xB17548c7B510427baAc4e267BEa62e800b247173',\n  '0xEeeeeEeeeEeEeeEeEeEeeEEEeeeeEeeeeeeeEEeE'),\n ('0xA0b86991c6218b36c1d19D4a2e9Eb0cE3606eB48',\n  '0xA9E8aCf069C58aEc8825542845Fd754e41a9489A'),\n ('0xA0b86991c6218b36c1d19D4a2e9Eb0cE3606eB48',\n  '0xDA7C0810cE6F8329786160bb3d1734cf6661CA6E'),\n ('0xbae9992488AE7f7c1EDB34Ed74c213B28d928991',\n  '0xEeeeeEeeeEeEeeEeEeEeeEEEeeeeEeeeeeeeEEeE'),\n ('0xA0b86991c6218b36c1d19D4a2e9Eb0cE3606eB48',\n  '0xC02aaA39b223FE8D0A0e5C4F27eAD9083C756Cc2'),\n ('0x1F573D6Fb3F13d689FF844B4cE37794d79a7FF1C',\n  '0x6B175474E89094C44Da98b954EedeAC495271d0F'),\n ('0x7240aC91f01233BaAf8b064248E80feaA5912BA3',\n  '0xA0b86991c6218b36c1d19D4a2e9Eb0cE3606eB48'),\n ('0x8dBF9A4c99580fC7Fd4024ee08f3994420035727',\n  '0xA0b86991c6218b36c1d19D4a2e9Eb0cE3606eB48'))"
     },
     "execution_count": 5,
     "metadata": {},
     "output_type": "execute_result"
    }
   ],
   "source": [
    "db.carbon_controller.pairs()"
   ],
   "metadata": {
    "collapsed": false,
    "ExecuteTime": {
     "start_time": "2023-05-07T09:19:10.991693Z",
     "end_time": "2023-05-07T09:19:11.611125Z"
    }
   }
  },
  {
   "cell_type": "code",
   "execution_count": 3,
   "outputs": [
    {
     "data": {
      "text/plain": "'https://rpc.tenderly.co/fork/045fdd40-5228-487a-a4b6-a513daadb2ad'"
     },
     "execution_count": 3,
     "metadata": {},
     "output_type": "execute_result"
    }
   ],
   "source": [
    "bot.c.w3.provider.endpoint_uri"
   ],
   "metadata": {
    "collapsed": false,
    "ExecuteTime": {
     "start_time": "2023-05-07T09:18:15.895006Z",
     "end_time": "2023-05-07T09:18:15.898797Z"
    }
   }
  },
  {
   "cell_type": "code",
   "execution_count": 1,
   "outputs": [
    {
     "name": "stdout",
     "output_type": "stream",
     "text": [
      "Using default database url, if you want to use a different database, set the backend_url found at the bottom of manager_base.py\n",
      "Error adding Ethereum blockchain to database Ethereum, (psycopg2.errors.UniqueViolation) duplicate key value violates unique constraint \"ix_blockchains_name\"\n",
      "DETAIL:  Key (name)=(Ethereum) already exists.\n",
      "\n",
      "[SQL: INSERT INTO blockchains (name, block_number) VALUES (%(name)s, %(block_number)s) RETURNING blockchains.id]\n",
      "[parameters: {'name': 'Ethereum', 'block_number': 0}]\n",
      "(Background on this error at: https://sqlalche.me/e/20/gkpj) skipping...\n",
      "Error adding exchange carbon_v1 to database, (psycopg2.errors.UniqueViolation) duplicate key value violates unique constraint \"exchanges_pkey\"\n",
      "DETAIL:  Key (id)=(6) already exists.\n",
      "\n",
      "[SQL: INSERT INTO exchanges (id, name, blockchain_name) VALUES (%(id)s, %(name)s, %(blockchain_name)s)]\n",
      "[parameters: {'id': 6, 'name': 'carbon_v1', 'blockchain_name': 'Ethereum'}]\n",
      "(Background on this error at: https://sqlalche.me/e/20/gkpj) skipping...\n",
      "Error adding exchange bancor_v2 to database, (psycopg2.errors.UniqueViolation) duplicate key value violates unique constraint \"exchanges_pkey\"\n",
      "DETAIL:  Key (id)=(1) already exists.\n",
      "\n",
      "[SQL: INSERT INTO exchanges (id, name, blockchain_name) VALUES (%(id)s, %(name)s, %(blockchain_name)s)]\n",
      "[parameters: {'id': 1, 'name': 'bancor_v2', 'blockchain_name': 'Ethereum'}]\n",
      "(Background on this error at: https://sqlalche.me/e/20/gkpj) skipping...\n",
      "Error adding exchange bancor_v3 to database, (psycopg2.errors.UniqueViolation) duplicate key value violates unique constraint \"exchanges_pkey\"\n",
      "DETAIL:  Key (id)=(2) already exists.\n",
      "\n",
      "[SQL: INSERT INTO exchanges (id, name, blockchain_name) VALUES (%(id)s, %(name)s, %(blockchain_name)s)]\n",
      "[parameters: {'id': 2, 'name': 'bancor_v3', 'blockchain_name': 'Ethereum'}]\n",
      "(Background on this error at: https://sqlalche.me/e/20/gkpj) skipping...\n",
      "Error adding exchange uniswap_v2 to database, (psycopg2.errors.UniqueViolation) duplicate key value violates unique constraint \"exchanges_pkey\"\n",
      "DETAIL:  Key (id)=(3) already exists.\n",
      "\n",
      "[SQL: INSERT INTO exchanges (id, name, blockchain_name) VALUES (%(id)s, %(name)s, %(blockchain_name)s)]\n",
      "[parameters: {'id': 3, 'name': 'uniswap_v2', 'blockchain_name': 'Ethereum'}]\n",
      "(Background on this error at: https://sqlalche.me/e/20/gkpj) skipping...\n",
      "Error adding exchange uniswap_v3 to database, (psycopg2.errors.UniqueViolation) duplicate key value violates unique constraint \"exchanges_pkey\"\n",
      "DETAIL:  Key (id)=(4) already exists.\n",
      "\n",
      "[SQL: INSERT INTO exchanges (id, name, blockchain_name) VALUES (%(id)s, %(name)s, %(blockchain_name)s)]\n",
      "[parameters: {'id': 4, 'name': 'uniswap_v3', 'blockchain_name': 'Ethereum'}]\n",
      "(Background on this error at: https://sqlalche.me/e/20/gkpj) skipping...\n",
      "Error adding exchange sushiswap_v2 to database, (psycopg2.errors.UniqueViolation) duplicate key value violates unique constraint \"exchanges_pkey\"\n",
      "DETAIL:  Key (id)=(5) already exists.\n",
      "\n",
      "[SQL: INSERT INTO exchanges (id, name, blockchain_name) VALUES (%(id)s, %(name)s, %(blockchain_name)s)]\n",
      "[parameters: {'id': 5, 'name': 'sushiswap_v2', 'blockchain_name': 'Ethereum'}]\n",
      "(Background on this error at: https://sqlalche.me/e/20/gkpj) skipping...\n"
     ]
    },
    {
     "data": {
      "text/plain": "'https://rpc.tenderly.co/fork/045fdd40-5228-487a-a4b6-a513daadb2ad'"
     },
     "execution_count": 1,
     "metadata": {},
     "output_type": "execute_result"
    }
   ],
   "source": [
    "import numpy as np\n",
    "import pandas as pd\n",
    "from fastlane_bot.bot import CarbonBot\n",
    "from fastlane_bot.config import Config\n",
    "\n",
    "pools_and_token_table = pd.read_csv('/Users/mikewcasale/Local/projects/bancor/carbonbot-main/fastlane_bot/data/combined_tables.csv', low_memory=False).drop('id', axis=1)\n",
    "\n",
    "cfg = Config.new(config=Config.CONFIG_TENDERLY)\n",
    "bot = CarbonBot(ConfigObj=cfg)\n",
    "\n",
    "db = bot.db\n",
    "\n",
    "db.c.w3.provider.endpoint_uri"
   ],
   "metadata": {
    "collapsed": false,
    "ExecuteTime": {
     "start_time": "2023-05-07T09:16:53.222478Z",
     "end_time": "2023-05-07T09:17:05.446134Z"
    }
   }
  },
  {
   "cell_type": "code",
   "execution_count": 11,
   "outputs": [
    {
     "name": "stdout",
     "output_type": "stream",
     "text": [
      "Added DAI-1d0F/ETH-EEeE to bypairs list\n"
     ]
    },
    {
     "name": "stderr",
     "output_type": "stream",
     "text": [
      "/var/folders/rt/qnj8r6yd6131ccxkw_k9d9gc0000gn/T/ipykernel_97221/175557020.py:26: FutureWarning: The frame.append method is deprecated and will be removed from pandas in a future version. Use pandas.concat instead.\n",
      "  pools_and_token_table = pools_and_token_table.append(dbrow, ignore_index=True)\n"
     ]
    },
    {
     "name": "stdout",
     "output_type": "stream",
     "text": [
      "Added USDC-eB48/ETH-EEeE to bypairs list\n"
     ]
    },
    {
     "name": "stderr",
     "output_type": "stream",
     "text": [
      "/var/folders/rt/qnj8r6yd6131ccxkw_k9d9gc0000gn/T/ipykernel_97221/175557020.py:26: FutureWarning: The frame.append method is deprecated and will be removed from pandas in a future version. Use pandas.concat instead.\n",
      "  pools_and_token_table = pools_and_token_table.append(dbrow, ignore_index=True)\n"
     ]
    },
    {
     "name": "stdout",
     "output_type": "stream",
     "text": [
      "Added USDT-1ec7/ETH-EEeE to bypairs list\n"
     ]
    },
    {
     "name": "stderr",
     "output_type": "stream",
     "text": [
      "/var/folders/rt/qnj8r6yd6131ccxkw_k9d9gc0000gn/T/ipykernel_97221/175557020.py:26: FutureWarning: The frame.append method is deprecated and will be removed from pandas in a future version. Use pandas.concat instead.\n",
      "  pools_and_token_table = pools_and_token_table.append(dbrow, ignore_index=True)\n"
     ]
    },
    {
     "name": "stdout",
     "output_type": "stream",
     "text": [
      "Added XCHF-fc08/RPL-A51f to bypairs list\n"
     ]
    },
    {
     "name": "stderr",
     "output_type": "stream",
     "text": [
      "/var/folders/rt/qnj8r6yd6131ccxkw_k9d9gc0000gn/T/ipykernel_97221/175557020.py:26: FutureWarning: The frame.append method is deprecated and will be removed from pandas in a future version. Use pandas.concat instead.\n",
      "  pools_and_token_table = pools_and_token_table.append(dbrow, ignore_index=True)\n"
     ]
    },
    {
     "name": "stdout",
     "output_type": "stream",
     "text": [
      "Added RAIL-A33D/ETH-EEeE to bypairs list\n"
     ]
    },
    {
     "name": "stderr",
     "output_type": "stream",
     "text": [
      "/var/folders/rt/qnj8r6yd6131ccxkw_k9d9gc0000gn/T/ipykernel_97221/175557020.py:26: FutureWarning: The frame.append method is deprecated and will be removed from pandas in a future version. Use pandas.concat instead.\n",
      "  pools_and_token_table = pools_and_token_table.append(dbrow, ignore_index=True)\n"
     ]
    },
    {
     "name": "stdout",
     "output_type": "stream",
     "text": [
      "Added WBTC-C599/ETH-EEeE to bypairs list\n"
     ]
    },
    {
     "name": "stderr",
     "output_type": "stream",
     "text": [
      "/var/folders/rt/qnj8r6yd6131ccxkw_k9d9gc0000gn/T/ipykernel_97221/175557020.py:26: FutureWarning: The frame.append method is deprecated and will be removed from pandas in a future version. Use pandas.concat instead.\n",
      "  pools_and_token_table = pools_and_token_table.append(dbrow, ignore_index=True)\n"
     ]
    },
    {
     "name": "stdout",
     "output_type": "stream",
     "text": [
      "Added USDC-eB48/pepecoin-489A to bypairs list\n"
     ]
    },
    {
     "name": "stderr",
     "output_type": "stream",
     "text": [
      "/var/folders/rt/qnj8r6yd6131ccxkw_k9d9gc0000gn/T/ipykernel_97221/175557020.py:26: FutureWarning: The frame.append method is deprecated and will be removed from pandas in a future version. Use pandas.concat instead.\n",
      "  pools_and_token_table = pools_and_token_table.append(dbrow, ignore_index=True)\n"
     ]
    },
    {
     "name": "stdout",
     "output_type": "stream",
     "text": [
      "Added USDC-eB48/JAY-CA6E to bypairs list\n"
     ]
    },
    {
     "name": "stderr",
     "output_type": "stream",
     "text": [
      "/var/folders/rt/qnj8r6yd6131ccxkw_k9d9gc0000gn/T/ipykernel_97221/175557020.py:26: FutureWarning: The frame.append method is deprecated and will be removed from pandas in a future version. Use pandas.concat instead.\n",
      "  pools_and_token_table = pools_and_token_table.append(dbrow, ignore_index=True)\n",
      "2023-05-07 08:45:36,193 [fastlane:INFO] - [model_managers.Token] Successfully created token: WYD-8991\n",
      "2023-05-07 08:45:36,193 [fastlane:INFO] - [model_managers.Token] Successfully created token: WYD-8991\n",
      "2023-05-07 08:45:37,746 [fastlane:INFO] - [model_managers.Token] Successfully created token: WSB-0c49\n",
      "2023-05-07 08:45:37,746 [fastlane:INFO] - [model_managers.Token] Successfully created token: WSB-0c49\n"
     ]
    },
    {
     "name": "stdout",
     "output_type": "stream",
     "text": [
      "Added EWTB-6054/ETH-EEeE to bypairs list\n"
     ]
    },
    {
     "name": "stderr",
     "output_type": "stream",
     "text": [
      "/var/folders/rt/qnj8r6yd6131ccxkw_k9d9gc0000gn/T/ipykernel_97221/175557020.py:26: FutureWarning: The frame.append method is deprecated and will be removed from pandas in a future version. Use pandas.concat instead.\n",
      "  pools_and_token_table = pools_and_token_table.append(dbrow, ignore_index=True)\n"
     ]
    },
    {
     "data": {
      "text/plain": "                                          cid                last_updated  \\\n0     340282366920938463463374607431768211457  2023-05-03 17:58:01.525631   \n1     680564733841876926926749214863536422914  2023-05-03 17:58:02.284832   \n2     680564733841876926926749214863536422967  2023-05-03 17:58:02.297098   \n3    1020847100762815390390123822295304634371  2023-05-03 17:58:03.773714   \n4    1020847100762815390390123822295304634391  2023-05-03 17:58:03.781903   \n..                                        ...                         ...   \n844                                       NaN                         NaN   \n845                                       NaN                         NaN   \n846                                       NaN                         NaN   \n847                                       NaN                         NaN   \n848                                       NaN                         NaN   \n\n     last_updated_block                               descr  \\\n0            17181818.0    carbon_v1 ETH-EEeE/DAI-1d0F None   \n1            17181818.0  carbon_v1 ETH-EEeE/stETH-fE84 None   \n2            17181818.0  carbon_v1 stETH-fE84/ETH-EEeE None   \n3            17181818.0  carbon_v1 USDC-eB48/USDT-1ec7 None   \n4            17181818.0  carbon_v1 USDC-eB48/USDT-1ec7 None   \n..                  ...                                 ...   \n844                 NaN                                 NaN   \n845                 NaN                                 NaN   \n846                 NaN                                 NaN   \n847                 NaN                                 NaN   \n848                 NaN                                 NaN   \n\n                   pair_name exchange_name  fee  fee_float tkn0_balance  \\\n0          ETH-EEeE/DAI-1d0F     carbon_v1  0.0        0.0          NaN   \n1        ETH-EEeE/stETH-fE84     carbon_v1  0.0        0.0          NaN   \n2        stETH-fE84/ETH-EEeE     carbon_v1  0.0        0.0          NaN   \n3        USDC-eB48/USDT-1ec7     carbon_v1  0.0        0.0          NaN   \n4        USDC-eB48/USDT-1ec7     carbon_v1  0.0        0.0          NaN   \n..                       ...           ...  ...        ...          ...   \n844       RAIL-A33D/ETH-EEeE     carbon_v1  NaN        NaN          NaN   \n845       WBTC-C599/ETH-EEeE     carbon_v1  NaN        NaN          NaN   \n846  USDC-eB48/pepecoin-489A     carbon_v1  NaN        NaN          NaN   \n847       USDC-eB48/JAY-CA6E     carbon_v1  NaN        NaN          NaN   \n848       EWTB-6054/ETH-EEeE     carbon_v1  NaN        NaN          NaN   \n\n    tkn1_balance  ...                                tkn0_address  \\\n0            NaN  ...  0xEeeeeEeeeEeEeeEeEeEeeEEEeeeeEeeeeeeeEEeE   \n1            NaN  ...  0xEeeeeEeeeEeEeeEeEeEeeEEEeeeeEeeeeeeeEEeE   \n2            NaN  ...  0xae7ab96520DE3A18E5e111B5EaAb095312D7fE84   \n3            NaN  ...  0xA0b86991c6218b36c1d19D4a2e9Eb0cE3606eB48   \n4            NaN  ...  0xA0b86991c6218b36c1d19D4a2e9Eb0cE3606eB48   \n..           ...  ...                                         ...   \n844          NaN  ...  0xe76C6c83af64e4C60245D8C7dE953DF673a7A33D   \n845          NaN  ...  0x2260FAC5E5542a773Aa44fBCfeDf7C193bc2C599   \n846          NaN  ...  0xA0b86991c6218b36c1d19D4a2e9Eb0cE3606eB48   \n847          NaN  ...  0xA0b86991c6218b36c1d19D4a2e9Eb0cE3606eB48   \n848          NaN  ...  0x178c820f862B14f316509ec36b13123DA19A6054   \n\n                                   tkn1_address    tkn0_key    tkn1_key  \\\n0    0x6B175474E89094C44Da98b954EedeAC495271d0F    ETH-EEeE    DAI-1d0F   \n1    0xae7ab96520DE3A18E5e111B5EaAb095312D7fE84    ETH-EEeE  stETH-fE84   \n2    0xEeeeeEeeeEeEeeEeEeEeeEEEeeeeEeeeeeeeEEeE  stETH-fE84    ETH-EEeE   \n3    0xdAC17F958D2ee523a2206206994597C13D831ec7   USDC-eB48   USDT-1ec7   \n4    0xdAC17F958D2ee523a2206206994597C13D831ec7   USDC-eB48   USDT-1ec7   \n..                                          ...         ...         ...   \n844  0xEeeeeEeeeEeEeeEeEeEeeEEEeeeeEeeeeeeeEEeE         NaN         NaN   \n845  0xEeeeeEeeeEeEeeEeEeEeeEEEeeeeEeeeeeeeEEeE         NaN         NaN   \n846  0xA9E8aCf069C58aEc8825542845Fd754e41a9489A         NaN         NaN   \n847  0xDA7C0810cE6F8329786160bb3d1734cf6661CA6E         NaN         NaN   \n848  0xEeeeeEeeeEeEeeEeEeEeeEEEeeeeEeeeeeeeEEeE         NaN         NaN   \n\n    tkn0_decimals tkn1_decimals  exchange_id  tkn0_symbol tkn1_symbol  anchor  \n0            18.0          18.0          6.0          ETH         DAI     NaN  \n1            18.0          18.0          6.0          ETH       stETH     NaN  \n2            18.0          18.0          6.0        stETH         ETH     NaN  \n3             6.0           6.0          6.0         USDC        USDT     NaN  \n4             6.0           6.0          6.0         USDC        USDT     NaN  \n..            ...           ...          ...          ...         ...     ...  \n844           NaN           NaN          NaN          NaN         NaN     NaN  \n845           NaN           NaN          NaN          NaN         NaN     NaN  \n846           NaN           NaN          NaN          NaN         NaN     NaN  \n847           NaN           NaN          NaN          NaN         NaN     NaN  \n848           NaN           NaN          NaN          NaN         NaN     NaN  \n\n[849 rows x 34 columns]",
      "text/html": "<div>\n<style scoped>\n    .dataframe tbody tr th:only-of-type {\n        vertical-align: middle;\n    }\n\n    .dataframe tbody tr th {\n        vertical-align: top;\n    }\n\n    .dataframe thead th {\n        text-align: right;\n    }\n</style>\n<table border=\"1\" class=\"dataframe\">\n  <thead>\n    <tr style=\"text-align: right;\">\n      <th></th>\n      <th>cid</th>\n      <th>last_updated</th>\n      <th>last_updated_block</th>\n      <th>descr</th>\n      <th>pair_name</th>\n      <th>exchange_name</th>\n      <th>fee</th>\n      <th>fee_float</th>\n      <th>tkn0_balance</th>\n      <th>tkn1_balance</th>\n      <th>...</th>\n      <th>tkn0_address</th>\n      <th>tkn1_address</th>\n      <th>tkn0_key</th>\n      <th>tkn1_key</th>\n      <th>tkn0_decimals</th>\n      <th>tkn1_decimals</th>\n      <th>exchange_id</th>\n      <th>tkn0_symbol</th>\n      <th>tkn1_symbol</th>\n      <th>anchor</th>\n    </tr>\n  </thead>\n  <tbody>\n    <tr>\n      <th>0</th>\n      <td>340282366920938463463374607431768211457</td>\n      <td>2023-05-03 17:58:01.525631</td>\n      <td>17181818.0</td>\n      <td>carbon_v1 ETH-EEeE/DAI-1d0F None</td>\n      <td>ETH-EEeE/DAI-1d0F</td>\n      <td>carbon_v1</td>\n      <td>0.0</td>\n      <td>0.0</td>\n      <td>NaN</td>\n      <td>NaN</td>\n      <td>...</td>\n      <td>0xEeeeeEeeeEeEeeEeEeEeeEEEeeeeEeeeeeeeEEeE</td>\n      <td>0x6B175474E89094C44Da98b954EedeAC495271d0F</td>\n      <td>ETH-EEeE</td>\n      <td>DAI-1d0F</td>\n      <td>18.0</td>\n      <td>18.0</td>\n      <td>6.0</td>\n      <td>ETH</td>\n      <td>DAI</td>\n      <td>NaN</td>\n    </tr>\n    <tr>\n      <th>1</th>\n      <td>680564733841876926926749214863536422914</td>\n      <td>2023-05-03 17:58:02.284832</td>\n      <td>17181818.0</td>\n      <td>carbon_v1 ETH-EEeE/stETH-fE84 None</td>\n      <td>ETH-EEeE/stETH-fE84</td>\n      <td>carbon_v1</td>\n      <td>0.0</td>\n      <td>0.0</td>\n      <td>NaN</td>\n      <td>NaN</td>\n      <td>...</td>\n      <td>0xEeeeeEeeeEeEeeEeEeEeeEEEeeeeEeeeeeeeEEeE</td>\n      <td>0xae7ab96520DE3A18E5e111B5EaAb095312D7fE84</td>\n      <td>ETH-EEeE</td>\n      <td>stETH-fE84</td>\n      <td>18.0</td>\n      <td>18.0</td>\n      <td>6.0</td>\n      <td>ETH</td>\n      <td>stETH</td>\n      <td>NaN</td>\n    </tr>\n    <tr>\n      <th>2</th>\n      <td>680564733841876926926749214863536422967</td>\n      <td>2023-05-03 17:58:02.297098</td>\n      <td>17181818.0</td>\n      <td>carbon_v1 stETH-fE84/ETH-EEeE None</td>\n      <td>stETH-fE84/ETH-EEeE</td>\n      <td>carbon_v1</td>\n      <td>0.0</td>\n      <td>0.0</td>\n      <td>NaN</td>\n      <td>NaN</td>\n      <td>...</td>\n      <td>0xae7ab96520DE3A18E5e111B5EaAb095312D7fE84</td>\n      <td>0xEeeeeEeeeEeEeeEeEeEeeEEEeeeeEeeeeeeeEEeE</td>\n      <td>stETH-fE84</td>\n      <td>ETH-EEeE</td>\n      <td>18.0</td>\n      <td>18.0</td>\n      <td>6.0</td>\n      <td>stETH</td>\n      <td>ETH</td>\n      <td>NaN</td>\n    </tr>\n    <tr>\n      <th>3</th>\n      <td>1020847100762815390390123822295304634371</td>\n      <td>2023-05-03 17:58:03.773714</td>\n      <td>17181818.0</td>\n      <td>carbon_v1 USDC-eB48/USDT-1ec7 None</td>\n      <td>USDC-eB48/USDT-1ec7</td>\n      <td>carbon_v1</td>\n      <td>0.0</td>\n      <td>0.0</td>\n      <td>NaN</td>\n      <td>NaN</td>\n      <td>...</td>\n      <td>0xA0b86991c6218b36c1d19D4a2e9Eb0cE3606eB48</td>\n      <td>0xdAC17F958D2ee523a2206206994597C13D831ec7</td>\n      <td>USDC-eB48</td>\n      <td>USDT-1ec7</td>\n      <td>6.0</td>\n      <td>6.0</td>\n      <td>6.0</td>\n      <td>USDC</td>\n      <td>USDT</td>\n      <td>NaN</td>\n    </tr>\n    <tr>\n      <th>4</th>\n      <td>1020847100762815390390123822295304634391</td>\n      <td>2023-05-03 17:58:03.781903</td>\n      <td>17181818.0</td>\n      <td>carbon_v1 USDC-eB48/USDT-1ec7 None</td>\n      <td>USDC-eB48/USDT-1ec7</td>\n      <td>carbon_v1</td>\n      <td>0.0</td>\n      <td>0.0</td>\n      <td>NaN</td>\n      <td>NaN</td>\n      <td>...</td>\n      <td>0xA0b86991c6218b36c1d19D4a2e9Eb0cE3606eB48</td>\n      <td>0xdAC17F958D2ee523a2206206994597C13D831ec7</td>\n      <td>USDC-eB48</td>\n      <td>USDT-1ec7</td>\n      <td>6.0</td>\n      <td>6.0</td>\n      <td>6.0</td>\n      <td>USDC</td>\n      <td>USDT</td>\n      <td>NaN</td>\n    </tr>\n    <tr>\n      <th>...</th>\n      <td>...</td>\n      <td>...</td>\n      <td>...</td>\n      <td>...</td>\n      <td>...</td>\n      <td>...</td>\n      <td>...</td>\n      <td>...</td>\n      <td>...</td>\n      <td>...</td>\n      <td>...</td>\n      <td>...</td>\n      <td>...</td>\n      <td>...</td>\n      <td>...</td>\n      <td>...</td>\n      <td>...</td>\n      <td>...</td>\n      <td>...</td>\n      <td>...</td>\n      <td>...</td>\n    </tr>\n    <tr>\n      <th>844</th>\n      <td>NaN</td>\n      <td>NaN</td>\n      <td>NaN</td>\n      <td>NaN</td>\n      <td>RAIL-A33D/ETH-EEeE</td>\n      <td>carbon_v1</td>\n      <td>NaN</td>\n      <td>NaN</td>\n      <td>NaN</td>\n      <td>NaN</td>\n      <td>...</td>\n      <td>0xe76C6c83af64e4C60245D8C7dE953DF673a7A33D</td>\n      <td>0xEeeeeEeeeEeEeeEeEeEeeEEEeeeeEeeeeeeeEEeE</td>\n      <td>NaN</td>\n      <td>NaN</td>\n      <td>NaN</td>\n      <td>NaN</td>\n      <td>NaN</td>\n      <td>NaN</td>\n      <td>NaN</td>\n      <td>NaN</td>\n    </tr>\n    <tr>\n      <th>845</th>\n      <td>NaN</td>\n      <td>NaN</td>\n      <td>NaN</td>\n      <td>NaN</td>\n      <td>WBTC-C599/ETH-EEeE</td>\n      <td>carbon_v1</td>\n      <td>NaN</td>\n      <td>NaN</td>\n      <td>NaN</td>\n      <td>NaN</td>\n      <td>...</td>\n      <td>0x2260FAC5E5542a773Aa44fBCfeDf7C193bc2C599</td>\n      <td>0xEeeeeEeeeEeEeeEeEeEeeEEEeeeeEeeeeeeeEEeE</td>\n      <td>NaN</td>\n      <td>NaN</td>\n      <td>NaN</td>\n      <td>NaN</td>\n      <td>NaN</td>\n      <td>NaN</td>\n      <td>NaN</td>\n      <td>NaN</td>\n    </tr>\n    <tr>\n      <th>846</th>\n      <td>NaN</td>\n      <td>NaN</td>\n      <td>NaN</td>\n      <td>NaN</td>\n      <td>USDC-eB48/pepecoin-489A</td>\n      <td>carbon_v1</td>\n      <td>NaN</td>\n      <td>NaN</td>\n      <td>NaN</td>\n      <td>NaN</td>\n      <td>...</td>\n      <td>0xA0b86991c6218b36c1d19D4a2e9Eb0cE3606eB48</td>\n      <td>0xA9E8aCf069C58aEc8825542845Fd754e41a9489A</td>\n      <td>NaN</td>\n      <td>NaN</td>\n      <td>NaN</td>\n      <td>NaN</td>\n      <td>NaN</td>\n      <td>NaN</td>\n      <td>NaN</td>\n      <td>NaN</td>\n    </tr>\n    <tr>\n      <th>847</th>\n      <td>NaN</td>\n      <td>NaN</td>\n      <td>NaN</td>\n      <td>NaN</td>\n      <td>USDC-eB48/JAY-CA6E</td>\n      <td>carbon_v1</td>\n      <td>NaN</td>\n      <td>NaN</td>\n      <td>NaN</td>\n      <td>NaN</td>\n      <td>...</td>\n      <td>0xA0b86991c6218b36c1d19D4a2e9Eb0cE3606eB48</td>\n      <td>0xDA7C0810cE6F8329786160bb3d1734cf6661CA6E</td>\n      <td>NaN</td>\n      <td>NaN</td>\n      <td>NaN</td>\n      <td>NaN</td>\n      <td>NaN</td>\n      <td>NaN</td>\n      <td>NaN</td>\n      <td>NaN</td>\n    </tr>\n    <tr>\n      <th>848</th>\n      <td>NaN</td>\n      <td>NaN</td>\n      <td>NaN</td>\n      <td>NaN</td>\n      <td>EWTB-6054/ETH-EEeE</td>\n      <td>carbon_v1</td>\n      <td>NaN</td>\n      <td>NaN</td>\n      <td>NaN</td>\n      <td>NaN</td>\n      <td>...</td>\n      <td>0x178c820f862B14f316509ec36b13123DA19A6054</td>\n      <td>0xEeeeeEeeeEeEeeEeEeEeeEEEeeeeEeeeeeeeEEeE</td>\n      <td>NaN</td>\n      <td>NaN</td>\n      <td>NaN</td>\n      <td>NaN</td>\n      <td>NaN</td>\n      <td>NaN</td>\n      <td>NaN</td>\n      <td>NaN</td>\n    </tr>\n  </tbody>\n</table>\n<p>849 rows × 34 columns</p>\n</div>"
     },
     "execution_count": 11,
     "metadata": {},
     "output_type": "execute_result"
    }
   ],
   "source": [
    "import numpy as np\n",
    "import pandas as pd\n",
    "from fastlane_bot.bot import CarbonBot\n",
    "from fastlane_bot.config import Config\n",
    "\n",
    "pools_and_token_table = pd.read_csv('/Users/mikewcasale/Local/projects/bancor/carbonbot-main/fastlane_bot/data/combined_tables.csv', low_memory=False).drop('id', axis=1)\n",
    "\n",
    "cfg = Config.new(config=Config.CONFIG_TENDERLY)\n",
    "bot = CarbonBot(ConfigObj=cfg)\n",
    "\n",
    "db = bot.db\n",
    "\n",
    "carbon_pairs = db.get_carbon_pairs()\n",
    "for pair in carbon_pairs:\n",
    "\n",
    "    tkn0 = db.get_or_create_token(address=pair[0])\n",
    "    tkn1 = db.get_or_create_token(address=pair[1])\n",
    "    pair_name = f\"{tkn0.key}/{tkn1.key}\"\n",
    "    if pair_name not in pools_and_token_table['pair_name'].unique().tolist():\n",
    "        # bypairs.append(pair_name)\n",
    "        print(f\"Added {pair_name} to bypairs list\")\n",
    "\n",
    "        dbrow = pd.DataFrame({'pair_name': [pair_name], 'tkn0_address': [tkn0.address], 'tkn1_address': [tkn1.address], 'exchange_name': ['carbon_v1'], 'address': db.carbon_controller.address})\n",
    "        missing_cols = [col for col in pools_and_token_table.columns if col not in dbrow.columns]\n",
    "        for col in missing_cols:\n",
    "            dbrow[col] = [np.NaN]\n",
    "        pools_and_token_table = pools_and_token_table.append(dbrow, ignore_index=True)\n",
    "\n",
    "pools_and_token_table\n"
   ],
   "metadata": {
    "collapsed": false,
    "ExecuteTime": {
     "start_time": "2023-05-07T08:45:24.149459Z",
     "end_time": "2023-05-07T08:45:38.540442Z"
    }
   }
  },
  {
   "cell_type": "code",
   "execution_count": 9,
   "outputs": [
    {
     "data": {
      "text/plain": "      id                                       cid  \\\n0      1   340282366920938463463374607431768211457   \n1      2   680564733841876926926749214863536422914   \n2      3   680564733841876926926749214863536422967   \n3      4  1020847100762815390390123822295304634371   \n4      5  1020847100762815390390123822295304634391   \n..   ...                                       ...   \n835  836                                       836   \n836  837                                       837   \n837  838                                       838   \n838  839                                       839   \n839  840                                       840   \n\n                   last_updated  last_updated_block  \\\n0    2023-05-03 17:58:01.525631            17181818   \n1    2023-05-03 17:58:02.284832            17181818   \n2    2023-05-03 17:58:02.297098            17181818   \n3    2023-05-03 17:58:03.773714            17181818   \n4    2023-05-03 17:58:03.781903            17181818   \n..                          ...                 ...   \n835  2023-05-03 18:17:00.341882            17181912   \n836  2023-05-03 18:17:01.151991            17181912   \n837  2023-05-03 18:17:01.960506            17181913   \n838  2023-05-03 18:17:02.770204            17181913   \n839  2023-05-03 18:17:03.571665            17181913   \n\n                                      descr            pair_name  \\\n0          carbon_v1 ETH-EEeE/DAI-1d0F None    ETH-EEeE/DAI-1d0F   \n1        carbon_v1 ETH-EEeE/stETH-fE84 None  ETH-EEeE/stETH-fE84   \n2        carbon_v1 stETH-fE84/ETH-EEeE None  stETH-fE84/ETH-EEeE   \n3        carbon_v1 USDC-eB48/USDT-1ec7 None  USDC-eB48/USDT-1ec7   \n4        carbon_v1 USDC-eB48/USDT-1ec7 None  USDC-eB48/USDT-1ec7   \n..                                      ...                  ...   \n835   sushiswap_v2 DAI-1d0F/RAIL-A33D 0.003   DAI-1d0F/RAIL-A33D   \n836  sushiswap_v2 USDC-eB48/RAIL-A33D 0.003  USDC-eB48/RAIL-A33D   \n837  sushiswap_v2 WETH-6Cc2/RAIL-A33D 0.003  WETH-6Cc2/RAIL-A33D   \n838   sushiswap_v2 DAI-1d0F/USDC-eB48 0.003   DAI-1d0F/USDC-eB48   \n839  sushiswap_v2 WETH-6Cc2/USDT-1ec7 0.003  WETH-6Cc2/USDT-1ec7   \n\n    exchange_name    fee  fee_float             tkn0_balance  ...  \\\n0       carbon_v1  0.000      0.000                      NaN  ...   \n1       carbon_v1  0.000      0.000                      NaN  ...   \n2       carbon_v1  0.000      0.000                      NaN  ...   \n3       carbon_v1  0.000      0.000                      NaN  ...   \n4       carbon_v1  0.000      0.000                      NaN  ...   \n..            ...    ...        ...                      ...  ...   \n835  sushiswap_v2  0.003      0.003  40780567355567253940127  ...   \n836  sushiswap_v2  0.003      0.003                   115699  ...   \n837  sushiswap_v2  0.003      0.003    123492287181744769557  ...   \n838  sushiswap_v2  0.003      0.003  12842495708805333028991  ...   \n839  sushiswap_v2  0.003      0.003   5278198309689786834518  ...   \n\n                                   tkn0_address  \\\n0    0xEeeeeEeeeEeEeeEeEeEeeEEEeeeeEeeeeeeeEEeE   \n1    0xEeeeeEeeeEeEeeEeEeEeeEEEeeeeEeeeeeeeEEeE   \n2    0xae7ab96520DE3A18E5e111B5EaAb095312D7fE84   \n3    0xA0b86991c6218b36c1d19D4a2e9Eb0cE3606eB48   \n4    0xA0b86991c6218b36c1d19D4a2e9Eb0cE3606eB48   \n..                                          ...   \n835  0x6B175474E89094C44Da98b954EedeAC495271d0F   \n836  0xA0b86991c6218b36c1d19D4a2e9Eb0cE3606eB48   \n837  0xC02aaA39b223FE8D0A0e5C4F27eAD9083C756Cc2   \n838  0x6B175474E89094C44Da98b954EedeAC495271d0F   \n839  0xC02aaA39b223FE8D0A0e5C4F27eAD9083C756Cc2   \n\n                                   tkn1_address    tkn0_key    tkn1_key  \\\n0    0x6B175474E89094C44Da98b954EedeAC495271d0F    ETH-EEeE    DAI-1d0F   \n1    0xae7ab96520DE3A18E5e111B5EaAb095312D7fE84    ETH-EEeE  stETH-fE84   \n2    0xEeeeeEeeeEeEeeEeEeEeeEEEeeeeEeeeeeeeEEeE  stETH-fE84    ETH-EEeE   \n3    0xdAC17F958D2ee523a2206206994597C13D831ec7   USDC-eB48   USDT-1ec7   \n4    0xdAC17F958D2ee523a2206206994597C13D831ec7   USDC-eB48   USDT-1ec7   \n..                                          ...         ...         ...   \n835  0xe76C6c83af64e4C60245D8C7dE953DF673a7A33D    DAI-1d0F   RAIL-A33D   \n836  0xe76C6c83af64e4C60245D8C7dE953DF673a7A33D   USDC-eB48   RAIL-A33D   \n837  0xe76C6c83af64e4C60245D8C7dE953DF673a7A33D   WETH-6Cc2   RAIL-A33D   \n838  0xA0b86991c6218b36c1d19D4a2e9Eb0cE3606eB48    DAI-1d0F   USDC-eB48   \n839  0xdAC17F958D2ee523a2206206994597C13D831ec7   WETH-6Cc2   USDT-1ec7   \n\n     tkn0_decimals tkn1_decimals exchange_id  tkn0_symbol  tkn1_symbol anchor  \n0               18            18           6          ETH          DAI    NaN  \n1               18            18           6          ETH        stETH    NaN  \n2               18            18           6        stETH          ETH    NaN  \n3                6             6           6         USDC         USDT    NaN  \n4                6             6           6         USDC         USDT    NaN  \n..             ...           ...         ...          ...          ...    ...  \n835             18            18           5          DAI         RAIL    NaN  \n836              6            18           5         USDC         RAIL    NaN  \n837             18            18           5         WETH         RAIL    NaN  \n838             18             6           5          DAI         USDC    NaN  \n839             18             6           5         WETH         USDT    NaN  \n\n[840 rows x 35 columns]",
      "text/html": "<div>\n<style scoped>\n    .dataframe tbody tr th:only-of-type {\n        vertical-align: middle;\n    }\n\n    .dataframe tbody tr th {\n        vertical-align: top;\n    }\n\n    .dataframe thead th {\n        text-align: right;\n    }\n</style>\n<table border=\"1\" class=\"dataframe\">\n  <thead>\n    <tr style=\"text-align: right;\">\n      <th></th>\n      <th>id</th>\n      <th>cid</th>\n      <th>last_updated</th>\n      <th>last_updated_block</th>\n      <th>descr</th>\n      <th>pair_name</th>\n      <th>exchange_name</th>\n      <th>fee</th>\n      <th>fee_float</th>\n      <th>tkn0_balance</th>\n      <th>...</th>\n      <th>tkn0_address</th>\n      <th>tkn1_address</th>\n      <th>tkn0_key</th>\n      <th>tkn1_key</th>\n      <th>tkn0_decimals</th>\n      <th>tkn1_decimals</th>\n      <th>exchange_id</th>\n      <th>tkn0_symbol</th>\n      <th>tkn1_symbol</th>\n      <th>anchor</th>\n    </tr>\n  </thead>\n  <tbody>\n    <tr>\n      <th>0</th>\n      <td>1</td>\n      <td>340282366920938463463374607431768211457</td>\n      <td>2023-05-03 17:58:01.525631</td>\n      <td>17181818</td>\n      <td>carbon_v1 ETH-EEeE/DAI-1d0F None</td>\n      <td>ETH-EEeE/DAI-1d0F</td>\n      <td>carbon_v1</td>\n      <td>0.000</td>\n      <td>0.000</td>\n      <td>NaN</td>\n      <td>...</td>\n      <td>0xEeeeeEeeeEeEeeEeEeEeeEEEeeeeEeeeeeeeEEeE</td>\n      <td>0x6B175474E89094C44Da98b954EedeAC495271d0F</td>\n      <td>ETH-EEeE</td>\n      <td>DAI-1d0F</td>\n      <td>18</td>\n      <td>18</td>\n      <td>6</td>\n      <td>ETH</td>\n      <td>DAI</td>\n      <td>NaN</td>\n    </tr>\n    <tr>\n      <th>1</th>\n      <td>2</td>\n      <td>680564733841876926926749214863536422914</td>\n      <td>2023-05-03 17:58:02.284832</td>\n      <td>17181818</td>\n      <td>carbon_v1 ETH-EEeE/stETH-fE84 None</td>\n      <td>ETH-EEeE/stETH-fE84</td>\n      <td>carbon_v1</td>\n      <td>0.000</td>\n      <td>0.000</td>\n      <td>NaN</td>\n      <td>...</td>\n      <td>0xEeeeeEeeeEeEeeEeEeEeeEEEeeeeEeeeeeeeEEeE</td>\n      <td>0xae7ab96520DE3A18E5e111B5EaAb095312D7fE84</td>\n      <td>ETH-EEeE</td>\n      <td>stETH-fE84</td>\n      <td>18</td>\n      <td>18</td>\n      <td>6</td>\n      <td>ETH</td>\n      <td>stETH</td>\n      <td>NaN</td>\n    </tr>\n    <tr>\n      <th>2</th>\n      <td>3</td>\n      <td>680564733841876926926749214863536422967</td>\n      <td>2023-05-03 17:58:02.297098</td>\n      <td>17181818</td>\n      <td>carbon_v1 stETH-fE84/ETH-EEeE None</td>\n      <td>stETH-fE84/ETH-EEeE</td>\n      <td>carbon_v1</td>\n      <td>0.000</td>\n      <td>0.000</td>\n      <td>NaN</td>\n      <td>...</td>\n      <td>0xae7ab96520DE3A18E5e111B5EaAb095312D7fE84</td>\n      <td>0xEeeeeEeeeEeEeeEeEeEeeEEEeeeeEeeeeeeeEEeE</td>\n      <td>stETH-fE84</td>\n      <td>ETH-EEeE</td>\n      <td>18</td>\n      <td>18</td>\n      <td>6</td>\n      <td>stETH</td>\n      <td>ETH</td>\n      <td>NaN</td>\n    </tr>\n    <tr>\n      <th>3</th>\n      <td>4</td>\n      <td>1020847100762815390390123822295304634371</td>\n      <td>2023-05-03 17:58:03.773714</td>\n      <td>17181818</td>\n      <td>carbon_v1 USDC-eB48/USDT-1ec7 None</td>\n      <td>USDC-eB48/USDT-1ec7</td>\n      <td>carbon_v1</td>\n      <td>0.000</td>\n      <td>0.000</td>\n      <td>NaN</td>\n      <td>...</td>\n      <td>0xA0b86991c6218b36c1d19D4a2e9Eb0cE3606eB48</td>\n      <td>0xdAC17F958D2ee523a2206206994597C13D831ec7</td>\n      <td>USDC-eB48</td>\n      <td>USDT-1ec7</td>\n      <td>6</td>\n      <td>6</td>\n      <td>6</td>\n      <td>USDC</td>\n      <td>USDT</td>\n      <td>NaN</td>\n    </tr>\n    <tr>\n      <th>4</th>\n      <td>5</td>\n      <td>1020847100762815390390123822295304634391</td>\n      <td>2023-05-03 17:58:03.781903</td>\n      <td>17181818</td>\n      <td>carbon_v1 USDC-eB48/USDT-1ec7 None</td>\n      <td>USDC-eB48/USDT-1ec7</td>\n      <td>carbon_v1</td>\n      <td>0.000</td>\n      <td>0.000</td>\n      <td>NaN</td>\n      <td>...</td>\n      <td>0xA0b86991c6218b36c1d19D4a2e9Eb0cE3606eB48</td>\n      <td>0xdAC17F958D2ee523a2206206994597C13D831ec7</td>\n      <td>USDC-eB48</td>\n      <td>USDT-1ec7</td>\n      <td>6</td>\n      <td>6</td>\n      <td>6</td>\n      <td>USDC</td>\n      <td>USDT</td>\n      <td>NaN</td>\n    </tr>\n    <tr>\n      <th>...</th>\n      <td>...</td>\n      <td>...</td>\n      <td>...</td>\n      <td>...</td>\n      <td>...</td>\n      <td>...</td>\n      <td>...</td>\n      <td>...</td>\n      <td>...</td>\n      <td>...</td>\n      <td>...</td>\n      <td>...</td>\n      <td>...</td>\n      <td>...</td>\n      <td>...</td>\n      <td>...</td>\n      <td>...</td>\n      <td>...</td>\n      <td>...</td>\n      <td>...</td>\n      <td>...</td>\n    </tr>\n    <tr>\n      <th>835</th>\n      <td>836</td>\n      <td>836</td>\n      <td>2023-05-03 18:17:00.341882</td>\n      <td>17181912</td>\n      <td>sushiswap_v2 DAI-1d0F/RAIL-A33D 0.003</td>\n      <td>DAI-1d0F/RAIL-A33D</td>\n      <td>sushiswap_v2</td>\n      <td>0.003</td>\n      <td>0.003</td>\n      <td>40780567355567253940127</td>\n      <td>...</td>\n      <td>0x6B175474E89094C44Da98b954EedeAC495271d0F</td>\n      <td>0xe76C6c83af64e4C60245D8C7dE953DF673a7A33D</td>\n      <td>DAI-1d0F</td>\n      <td>RAIL-A33D</td>\n      <td>18</td>\n      <td>18</td>\n      <td>5</td>\n      <td>DAI</td>\n      <td>RAIL</td>\n      <td>NaN</td>\n    </tr>\n    <tr>\n      <th>836</th>\n      <td>837</td>\n      <td>837</td>\n      <td>2023-05-03 18:17:01.151991</td>\n      <td>17181912</td>\n      <td>sushiswap_v2 USDC-eB48/RAIL-A33D 0.003</td>\n      <td>USDC-eB48/RAIL-A33D</td>\n      <td>sushiswap_v2</td>\n      <td>0.003</td>\n      <td>0.003</td>\n      <td>115699</td>\n      <td>...</td>\n      <td>0xA0b86991c6218b36c1d19D4a2e9Eb0cE3606eB48</td>\n      <td>0xe76C6c83af64e4C60245D8C7dE953DF673a7A33D</td>\n      <td>USDC-eB48</td>\n      <td>RAIL-A33D</td>\n      <td>6</td>\n      <td>18</td>\n      <td>5</td>\n      <td>USDC</td>\n      <td>RAIL</td>\n      <td>NaN</td>\n    </tr>\n    <tr>\n      <th>837</th>\n      <td>838</td>\n      <td>838</td>\n      <td>2023-05-03 18:17:01.960506</td>\n      <td>17181913</td>\n      <td>sushiswap_v2 WETH-6Cc2/RAIL-A33D 0.003</td>\n      <td>WETH-6Cc2/RAIL-A33D</td>\n      <td>sushiswap_v2</td>\n      <td>0.003</td>\n      <td>0.003</td>\n      <td>123492287181744769557</td>\n      <td>...</td>\n      <td>0xC02aaA39b223FE8D0A0e5C4F27eAD9083C756Cc2</td>\n      <td>0xe76C6c83af64e4C60245D8C7dE953DF673a7A33D</td>\n      <td>WETH-6Cc2</td>\n      <td>RAIL-A33D</td>\n      <td>18</td>\n      <td>18</td>\n      <td>5</td>\n      <td>WETH</td>\n      <td>RAIL</td>\n      <td>NaN</td>\n    </tr>\n    <tr>\n      <th>838</th>\n      <td>839</td>\n      <td>839</td>\n      <td>2023-05-03 18:17:02.770204</td>\n      <td>17181913</td>\n      <td>sushiswap_v2 DAI-1d0F/USDC-eB48 0.003</td>\n      <td>DAI-1d0F/USDC-eB48</td>\n      <td>sushiswap_v2</td>\n      <td>0.003</td>\n      <td>0.003</td>\n      <td>12842495708805333028991</td>\n      <td>...</td>\n      <td>0x6B175474E89094C44Da98b954EedeAC495271d0F</td>\n      <td>0xA0b86991c6218b36c1d19D4a2e9Eb0cE3606eB48</td>\n      <td>DAI-1d0F</td>\n      <td>USDC-eB48</td>\n      <td>18</td>\n      <td>6</td>\n      <td>5</td>\n      <td>DAI</td>\n      <td>USDC</td>\n      <td>NaN</td>\n    </tr>\n    <tr>\n      <th>839</th>\n      <td>840</td>\n      <td>840</td>\n      <td>2023-05-03 18:17:03.571665</td>\n      <td>17181913</td>\n      <td>sushiswap_v2 WETH-6Cc2/USDT-1ec7 0.003</td>\n      <td>WETH-6Cc2/USDT-1ec7</td>\n      <td>sushiswap_v2</td>\n      <td>0.003</td>\n      <td>0.003</td>\n      <td>5278198309689786834518</td>\n      <td>...</td>\n      <td>0xC02aaA39b223FE8D0A0e5C4F27eAD9083C756Cc2</td>\n      <td>0xdAC17F958D2ee523a2206206994597C13D831ec7</td>\n      <td>WETH-6Cc2</td>\n      <td>USDT-1ec7</td>\n      <td>18</td>\n      <td>6</td>\n      <td>5</td>\n      <td>WETH</td>\n      <td>USDT</td>\n      <td>NaN</td>\n    </tr>\n  </tbody>\n</table>\n<p>840 rows × 35 columns</p>\n</div>"
     },
     "execution_count": 9,
     "metadata": {},
     "output_type": "execute_result"
    }
   ],
   "source": [
    "import pandas as pd\n",
    "\n",
    "df = pd.read_csv('fastlane_bot/data/combined_tables.csv')\n",
    "df"
   ],
   "metadata": {
    "collapsed": false,
    "ExecuteTime": {
     "start_time": "2023-05-07T08:27:50.710451Z",
     "end_time": "2023-05-07T08:27:50.732711Z"
    }
   }
  },
  {
   "cell_type": "code",
   "execution_count": 1,
   "metadata": {},
   "outputs": [],
   "source": [
    "import pandas as pd\n",
    "from decimal import Decimal\n",
    "from typing import List, Dict, Any\n",
    "from fastlane_bot.tools.optimizer import CPCArbOptimizer\n",
    "from dataclasses import asdict\n",
    "from fastlane_bot.helpers import TradeInstruction"
   ]
  },
  {
   "cell_type": "code",
   "execution_count": 2,
   "metadata": {},
   "outputs": [],
   "source": [
    "## mock only\n",
    "best_trade_instructions_dic = [\n",
    "{'cid': '218',\n",
    "  'tknin': '0x0-1AD5',\n",
    "  'amtin': 5309.369973833374,\n",
    "  'tknout': 'WETH-6Cc2',\n",
    "  'amtout': -0.09179346660459942},\n",
    "{'cid': '9868188640707215440437863615521278132277-1',\n",
    "  'tknin': 'WETH-6Cc2',\n",
    "  'amtin': 0.0785107723399976,\n",
    "  'tknout': '0x0-1AD5',\n",
    "  'amtout': -5363.0},\n",
    "{'cid': '9868188640707215440437863615521278132278-1',\n",
    "  'tknin': 'WETH-6Cc2',\n",
    "  'amtin': 0.0111111111111111,\n",
    "  'tknout': '0x0-1AD5',\n",
    "  'amtout': -3000.0},\n",
    "{'cid': '219',\n",
    "  'tknin': '0x0-1AD5',\n",
    "  'amtin': 5309.369973833374,\n",
    "  'tknout': 'WETH-6Cc2',\n",
    "  'amtout': -0.09179346660459942},\n",
    "{'cid': '9868188640707215440437863615521278132280-0',\n",
    "  'tknin': '0x0-1AD5',\n",
    "  'amtin': 1000.0,\n",
    "  'tknout': 'WETH-6Cc2',\n",
    "  'amtout': -0.001},\n",
    "{'cid': '9868188640707215440437863615521278132281-0',\n",
    "  'tknin': '0x0-1AD5',\n",
    "  'amtin':  2000,\n",
    "  'tknout': 'WETH-6Cc2',\n",
    "  'amtout': -0.05},\n",
    "  {'cid': '220',\n",
    "  'tknin': '0x0-1AD5',\n",
    "  'amtin': 5309.369973833374,\n",
    "  'tknout': 'WETH-6Cc2',\n",
    "  'amtout': -0.09179346660459942},\n",
    "{'cid': '9868188640707215440437863615521278132290-1',\n",
    "  'tknin': 'WETH-6Cc2',\n",
    "  'amtin': 0.016351323399976,\n",
    "  'tknout': '0x0-1AD5',\n",
    "  'amtout': -1234.0},\n",
    "{'cid': '9868188640707215440437863615521278132291-1',\n",
    "  'tknin': 'WETH-6Cc2',\n",
    "  'amtin': 0.022222222222,\n",
    "  'tknout': '0x0-1AD5',\n",
    "  'amtout': -2000.0},\n",
    "]\n",
    "best_src_token = 'WETH-6Cc2'"
   ]
  },
  {
   "cell_type": "code",
   "execution_count": 3,
   "metadata": {},
   "outputs": [],
   "source": [
    "def simple_ordering_by_src_token(best_trade_instructions_dic, best_src_token):\n",
    "    '''\n",
    "    Reorders a trade_instructions_dct so that all items where the best_src_token is the tknin are before others\n",
    "    '''\n",
    "    ordered_trade_instructions_dct = [x for x in best_trade_instructions_dic if x['tknin'] == best_src_token] + [x for x in best_trade_instructions_dic if x['tknin'] != best_src_token]\n",
    "\n",
    "    return ordered_trade_instructions_dct"
   ]
  },
  {
   "cell_type": "code",
   "execution_count": 4,
   "metadata": {},
   "outputs": [],
   "source": [
    "### TEST ###\n",
    "ordered_trade_instructions_dct = simple_ordering_by_src_token(best_trade_instructions_dic, best_src_token)\n",
    "srctoken_indexes = [i for i,c in list(enumerate(ordered_trade_instructions_dct)) if c['tknin'] == best_src_token]\n",
    "non_srctoken_indexes = [i for i,c in list(enumerate(ordered_trade_instructions_dct)) if c['tknin'] != best_src_token]\n",
    "assert max(srctoken_indexes) < min(non_srctoken_indexes)\n",
    "### TEST ###"
   ]
  },
  {
   "cell_type": "code",
   "execution_count": 5,
   "metadata": {},
   "outputs": [],
   "source": [
    "def basic_scaling_alternative_to_exact(best_trade_instructions_dic, best_src_token):\n",
    "    '''\n",
    "    For items in the trade_instruction_dic scale the amtin by 0.999 if its the src_token, else by 0.99\n",
    "\n",
    "    NOTE: Since we update the info in the DICTIONARY, this actually voids the info in the DATAFRAME\n",
    "    '''\n",
    "    scaled_best_trade_instructions_dic = []\n",
    "    for x in best_trade_instructions_dic:\n",
    "        scaled_best_trade_instructions_dic += [{k:v for k,v in x.items()}]\n",
    "\n",
    "    for i in range(len(scaled_best_trade_instructions_dic)):\n",
    "        if scaled_best_trade_instructions_dic[i][\"tknin\"] == best_src_token:\n",
    "            scaled_best_trade_instructions_dic[i][\"amtin\"] *= 0.999\n",
    "        else:\n",
    "            scaled_best_trade_instructions_dic[i][\"amtin\"] *= 0.99\n",
    "\n",
    "    return scaled_best_trade_instructions_dic"
   ]
  },
  {
   "cell_type": "code",
   "execution_count": 6,
   "metadata": {},
   "outputs": [],
   "source": [
    "### TEST ###\n",
    "scaled_best_trade_instructions_dic = basic_scaling_alternative_to_exact(best_trade_instructions_dic, best_src_token)\n",
    "assert sum([x['amtin'] for x in scaled_best_trade_instructions_dic]) < sum([x['amtin'] for x in best_trade_instructions_dic])\n",
    "### TEST ###"
   ]
  },
  {
   "cell_type": "code",
   "execution_count": 7,
   "metadata": {},
   "outputs": [
    {
     "data": {
      "text/plain": [
       "[TradeInstruction(cid='218', tknin='0x0-1AD5', amtin=5309.369973833374, tknout='WETH-6Cc2', amtout=-0.09179346660459942, pair_sorting=None, raw_txs=None, custom_data=''),\n",
       " TradeInstruction(cid='9868188640707215440437863615521278132277-1', tknin='WETH-6Cc2', amtin=0.0785107723399976, tknout='0x0-1AD5', amtout=-5363.0, pair_sorting=None, raw_txs=None, custom_data=''),\n",
       " TradeInstruction(cid='9868188640707215440437863615521278132278-1', tknin='WETH-6Cc2', amtin=0.0111111111111111, tknout='0x0-1AD5', amtout=-3000.0, pair_sorting=None, raw_txs=None, custom_data=''),\n",
       " TradeInstruction(cid='219', tknin='0x0-1AD5', amtin=5309.369973833374, tknout='WETH-6Cc2', amtout=-0.09179346660459942, pair_sorting=None, raw_txs=None, custom_data=''),\n",
       " TradeInstruction(cid='9868188640707215440437863615521278132280-0', tknin='0x0-1AD5', amtin=1000.0, tknout='WETH-6Cc2', amtout=-0.001, pair_sorting=None, raw_txs=None, custom_data=''),\n",
       " TradeInstruction(cid='9868188640707215440437863615521278132281-0', tknin='0x0-1AD5', amtin=2000, tknout='WETH-6Cc2', amtout=-0.05, pair_sorting=None, raw_txs=None, custom_data=''),\n",
       " TradeInstruction(cid='220', tknin='0x0-1AD5', amtin=5309.369973833374, tknout='WETH-6Cc2', amtout=-0.09179346660459942, pair_sorting=None, raw_txs=None, custom_data=''),\n",
       " TradeInstruction(cid='9868188640707215440437863615521278132290-1', tknin='WETH-6Cc2', amtin=0.016351323399976, tknout='0x0-1AD5', amtout=-1234.0, pair_sorting=None, raw_txs=None, custom_data=''),\n",
       " TradeInstruction(cid='9868188640707215440437863615521278132291-1', tknin='WETH-6Cc2', amtin=0.022222222222, tknout='0x0-1AD5', amtout=-2000.0, pair_sorting=None, raw_txs=None, custom_data='')]"
      ]
     },
     "execution_count": 7,
     "metadata": {},
     "output_type": "execute_result"
    }
   ],
   "source": [
    "trade_instructions_objects = [TradeInstruction(**ti) for ti in best_trade_instructions_dic]\n",
    "trade_instructions_objects"
   ]
  },
  {
   "cell_type": "code",
   "execution_count": 8,
   "metadata": {},
   "outputs": [],
   "source": [
    "def _get_trade_dicts_from_objects(trade_instructions: List[TradeInstruction]) -> List[Dict[str, Any]]:\n",
    "    return [\n",
    "        {\n",
    "            \"cid\": instr.cid + \"-\" + str(instr.cid_tkn)\n",
    "            if instr.cid_tkn\n",
    "            else instr.cid,\n",
    "            \"tknin\": instr.tknin,\n",
    "            \"amtin\": instr.amtin,\n",
    "            \"tknout\": instr.tknout,\n",
    "            \"amtout\": instr.amtout,\n",
    "        }\n",
    "        for instr in trade_instructions\n",
    "    ]"
   ]
  },
  {
   "cell_type": "code",
   "execution_count": 9,
   "metadata": {},
   "outputs": [],
   "source": [
    "def slice_dataframe(df):\n",
    "    slices = []\n",
    "    current_pair_sorting = df.pair_sorting.values[0]\n",
    "    current_slice = []\n",
    "\n",
    "    for index, row in df.iterrows():\n",
    "        if row['pair_sorting'] == current_pair_sorting:\n",
    "            current_slice.append(index)\n",
    "        else:\n",
    "            slices.append(df.loc[current_slice])\n",
    "            current_pair_sorting = row['pair_sorting']\n",
    "            current_slice = [index]\n",
    "\n",
    "    slices.append(df.loc[current_slice])\n",
    "\n",
    "    min_index = []\n",
    "    for df in slices:\n",
    "        min_index += [min(df.index.values)]\n",
    "\n",
    "    \n",
    "    return list(zip(min_index, slices))\n"
   ]
  },
  {
   "cell_type": "code",
   "execution_count": 10,
   "metadata": {},
   "outputs": [],
   "source": [
    "def aggregate_carbon_trades(trade_instructions_objects: List[TradeInstruction]) -> List[TradeInstruction]:\n",
    "    \"\"\"\n",
    "    Aggregate carbon independent IDs and create trade instructions.\n",
    "\n",
    "    This function takes a list of dictionaries containing trade instructions,\n",
    "    aggregates the instructions with carbon independent IDs, and creates\n",
    "    a list of TradeInstruction objects.\n",
    "\n",
    "    Parameters\n",
    "    ----------\n",
    "    trade_instructions : List[TradeInstruction]\n",
    "        A list of trade instructions as TradeInstruction objects.\n",
    "\n",
    "    Returns\n",
    "    -------\n",
    "    List[TradeInstruction]\n",
    "        A list of aggregated trade instructions as TradeInstruction objects.\n",
    "\n",
    "    \"\"\"\n",
    "    # Get the indices of the carbon trades\n",
    "    listti = _get_trade_dicts_from_objects(trade_instructions_objects)\n",
    "    df = pd.DataFrame(listti)\n",
    "    df[\"pair_sorting\"] = df.tknin + df.tknout\n",
    "    df['carbon'] = [True if '-' in df.cid[i] else False for i in df.index]\n",
    "\n",
    "    carbons = df[df['carbon']].copy()\n",
    "    nocarbons = df[~df['carbon']].copy()\n",
    "    nocarbons[\"raw_txs\"] = str([])\n",
    "\n",
    "    carbons.drop(['carbon'], axis=1, inplace=True)\n",
    "    nocarbons.drop(['carbon'], axis=1, inplace=True)\n",
    "\n",
    "    new_trade_instructions_nocarbons = {i: nocarbons.loc[i].to_dict() for i in nocarbons.index}\n",
    "\n",
    "    result = slice_dataframe(carbons)\n",
    "    new_trade_instructions_carbons = {min_index:\n",
    "        {\n",
    "            \"pair_sorting\": newdf.pair_sorting.values[0],\n",
    "            \"cid\": newdf.cid.values[0],\n",
    "            \"tknin\": newdf.tknin.values[0],\n",
    "            \"amtin\": newdf.amtin.sum(),\n",
    "            \"tknout\": newdf.tknout.values[0],\n",
    "            \"amtout\": newdf.amtout.sum(),\n",
    "            \"raw_txs\": str(newdf.to_dict(orient=\"records\")),\n",
    "        }\n",
    "        for min_index, newdf in slice_dataframe(carbons)}\n",
    "\n",
    "    new_trade_instructions_carbons.update(new_trade_instructions_nocarbons)\n",
    "    agg_trade_instructions = []\n",
    "    for i in sorted(list(new_trade_instructions_carbons.keys())):\n",
    "        agg_trade_instructions += [TradeInstruction(**new_trade_instructions_carbons[i])]\n",
    "    return agg_trade_instructions"
   ]
  },
  {
   "cell_type": "code",
   "execution_count": 11,
   "metadata": {},
   "outputs": [
    {
     "data": {
      "text/plain": [
       "[TradeInstruction(cid='218', tknin='0x0-1AD5', amtin=5309.369973833374, tknout='WETH-6Cc2', amtout=-0.09179346660459942, pair_sorting='0x0-1AD5WETH-6Cc2', raw_txs='[]', custom_data=''),\n",
       " TradeInstruction(cid='9868188640707215440437863615521278132277-1', tknin='WETH-6Cc2', amtin=0.0896218834511087, tknout='0x0-1AD5', amtout=-8363.0, pair_sorting='WETH-6Cc20x0-1AD5', raw_txs=\"[{'cid': '9868188640707215440437863615521278132277-1', 'tknin': 'WETH-6Cc2', 'amtin': 0.0785107723399976, 'tknout': '0x0-1AD5', 'amtout': -5363.0, 'pair_sorting': 'WETH-6Cc20x0-1AD5'}, {'cid': '9868188640707215440437863615521278132278-1', 'tknin': 'WETH-6Cc2', 'amtin': 0.0111111111111111, 'tknout': '0x0-1AD5', 'amtout': -3000.0, 'pair_sorting': 'WETH-6Cc20x0-1AD5'}]\", custom_data=''),\n",
       " TradeInstruction(cid='219', tknin='0x0-1AD5', amtin=5309.369973833374, tknout='WETH-6Cc2', amtout=-0.09179346660459942, pair_sorting='0x0-1AD5WETH-6Cc2', raw_txs='[]', custom_data=''),\n",
       " TradeInstruction(cid='9868188640707215440437863615521278132280-0', tknin='0x0-1AD5', amtin=3000.0, tknout='WETH-6Cc2', amtout=-0.051000000000000004, pair_sorting='0x0-1AD5WETH-6Cc2', raw_txs=\"[{'cid': '9868188640707215440437863615521278132280-0', 'tknin': '0x0-1AD5', 'amtin': 1000.0, 'tknout': 'WETH-6Cc2', 'amtout': -0.001, 'pair_sorting': '0x0-1AD5WETH-6Cc2'}, {'cid': '9868188640707215440437863615521278132281-0', 'tknin': '0x0-1AD5', 'amtin': 2000.0, 'tknout': 'WETH-6Cc2', 'amtout': -0.05, 'pair_sorting': '0x0-1AD5WETH-6Cc2'}]\", custom_data=''),\n",
       " TradeInstruction(cid='220', tknin='0x0-1AD5', amtin=5309.369973833374, tknout='WETH-6Cc2', amtout=-0.09179346660459942, pair_sorting='0x0-1AD5WETH-6Cc2', raw_txs='[]', custom_data=''),\n",
       " TradeInstruction(cid='9868188640707215440437863615521278132290-1', tknin='WETH-6Cc2', amtin=0.038573545621976, tknout='0x0-1AD5', amtout=-3234.0, pair_sorting='WETH-6Cc20x0-1AD5', raw_txs=\"[{'cid': '9868188640707215440437863615521278132290-1', 'tknin': 'WETH-6Cc2', 'amtin': 0.016351323399976, 'tknout': '0x0-1AD5', 'amtout': -1234.0, 'pair_sorting': 'WETH-6Cc20x0-1AD5'}, {'cid': '9868188640707215440437863615521278132291-1', 'tknin': 'WETH-6Cc2', 'amtin': 0.022222222222, 'tknout': '0x0-1AD5', 'amtout': -2000.0, 'pair_sorting': 'WETH-6Cc20x0-1AD5'}]\", custom_data='')]"
      ]
     },
     "execution_count": 11,
     "metadata": {},
     "output_type": "execute_result"
    }
   ],
   "source": [
    "# this example is different to the example usage in that the dict hasn't been sorted first, \n",
    "# I did this so I could verify that the aggregation works on adjacent same-pair only\n",
    "agg_trade_instructions = aggregate_carbon_trades(trade_instructions_objects)\n",
    "agg_trade_instructions"
   ]
  },
  {
   "cell_type": "markdown",
   "metadata": {},
   "source": [
    "# Example Usage"
   ]
  },
  {
   "cell_type": "code",
   "execution_count": 12,
   "metadata": {},
   "outputs": [
    {
     "data": {
      "text/plain": [
       "[TradeInstruction(cid='9868188640707215440437863615521278132277-1', tknin='WETH-6Cc2', amtin=0.12806723364401162, tknout='0x0-1AD5', amtout=-11597.0, pair_sorting='WETH-6Cc20x0-1AD5', raw_txs=\"[{'cid': '9868188640707215440437863615521278132277-1', 'tknin': 'WETH-6Cc2', 'amtin': 0.0784322615676576, 'tknout': '0x0-1AD5', 'amtout': -5363.0, 'pair_sorting': 'WETH-6Cc20x0-1AD5'}, {'cid': '9868188640707215440437863615521278132278-1', 'tknin': 'WETH-6Cc2', 'amtin': 0.011099999999999988, 'tknout': '0x0-1AD5', 'amtout': -3000.0, 'pair_sorting': 'WETH-6Cc20x0-1AD5'}, {'cid': '9868188640707215440437863615521278132290-1', 'tknin': 'WETH-6Cc2', 'amtin': 0.016334972076576026, 'tknout': '0x0-1AD5', 'amtout': -1234.0, 'pair_sorting': 'WETH-6Cc20x0-1AD5'}, {'cid': '9868188640707215440437863615521278132291-1', 'tknin': 'WETH-6Cc2', 'amtin': 0.022199999999778, 'tknout': '0x0-1AD5', 'amtout': -2000.0, 'pair_sorting': 'WETH-6Cc20x0-1AD5'}]\", custom_data=''),\n",
       " TradeInstruction(cid='218', tknin='0x0-1AD5', amtin=5256.27627409504, tknout='WETH-6Cc2', amtout=-0.09179346660459942, pair_sorting='0x0-1AD5WETH-6Cc2', raw_txs='[]', custom_data=''),\n",
       " TradeInstruction(cid='219', tknin='0x0-1AD5', amtin=5256.27627409504, tknout='WETH-6Cc2', amtout=-0.09179346660459942, pair_sorting='0x0-1AD5WETH-6Cc2', raw_txs='[]', custom_data=''),\n",
       " TradeInstruction(cid='9868188640707215440437863615521278132280-0', tknin='0x0-1AD5', amtin=2970.0, tknout='WETH-6Cc2', amtout=-0.051000000000000004, pair_sorting='0x0-1AD5WETH-6Cc2', raw_txs=\"[{'cid': '9868188640707215440437863615521278132280-0', 'tknin': '0x0-1AD5', 'amtin': 990.0, 'tknout': 'WETH-6Cc2', 'amtout': -0.001, 'pair_sorting': '0x0-1AD5WETH-6Cc2'}, {'cid': '9868188640707215440437863615521278132281-0', 'tknin': '0x0-1AD5', 'amtin': 1980.0, 'tknout': 'WETH-6Cc2', 'amtout': -0.05, 'pair_sorting': '0x0-1AD5WETH-6Cc2'}]\", custom_data=''),\n",
       " TradeInstruction(cid='220', tknin='0x0-1AD5', amtin=5256.27627409504, tknout='WETH-6Cc2', amtout=-0.09179346660459942, pair_sorting='0x0-1AD5WETH-6Cc2', raw_txs='[]', custom_data='')]"
      ]
     },
     "execution_count": 12,
     "metadata": {},
     "output_type": "execute_result"
    }
   ],
   "source": [
    "ordered_trade_instructions_dct = simple_ordering_by_src_token(best_trade_instructions_dic, best_src_token)\n",
    "scaled_best_trade_instructions_dic = basic_scaling_alternative_to_exact(ordered_trade_instructions_dct, best_src_token)\n",
    "\n",
    "# YOU DONT NEED THIS just a stand-in for _convert_trade_instructions\n",
    "trade_instructions_objects = [TradeInstruction(**ti) for ti in scaled_best_trade_instructions_dic]\n",
    "\n",
    "agg_trade_instructions = aggregate_carbon_trades(trade_instructions_objects)\n",
    "agg_trade_instructions"
   ]
  }
 ],
 "metadata": {
  "kernelspec": {
   "display_name": "arbbot",
   "language": "python",
   "name": "python3"
  },
  "language_info": {
   "codemirror_mode": {
    "name": "ipython",
    "version": 3
   },
   "file_extension": ".py",
   "mimetype": "text/x-python",
   "name": "python",
   "nbconvert_exporter": "python",
   "pygments_lexer": "ipython3",
   "version": "3.10.10"
  },
  "orig_nbformat": 4
 },
 "nbformat": 4,
 "nbformat_minor": 2
}

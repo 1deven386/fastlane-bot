{
 "cells": [
  {
   "cell_type": "code",
   "execution_count": 1,
   "metadata": {},
   "outputs": [],
   "source": [
    "import pandas as pd\n",
    "from decimal import Decimal\n",
    "from typing import List, Dict, Any\n",
    "from fastlane_bot.tools.optimizer import CPCArbOptimizer\n",
    "from dataclasses import asdict\n",
    "from fastlane_bot.helpers import TradeInstruction"
   ]
  },
  {
   "cell_type": "code",
   "execution_count": 2,
   "metadata": {},
   "outputs": [],
   "source": [
    "## mock only\n",
    "best_trade_instructions_dic = [\n",
    "{'cid': '218',\n",
    "  'tknin': '0x0-1AD5',\n",
    "  'amtin': 5309.369973833374,\n",
    "  'tknout': 'WETH-6Cc2',\n",
    "  'amtout': -0.09179346660459942},\n",
    "{'cid': '9868188640707215440437863615521278132277-1',\n",
    "  'tknin': 'WETH-6Cc2',\n",
    "  'amtin': 0.0785107723399976,\n",
    "  'tknout': '0x0-1AD5',\n",
    "  'amtout': -5363.0},\n",
    "{'cid': '9868188640707215440437863615521278132278-1',\n",
    "  'tknin': 'WETH-6Cc2',\n",
    "  'amtin': 0.0111111111111111,\n",
    "  'tknout': '0x0-1AD5',\n",
    "  'amtout': -3000.0},\n",
    "{'cid': '219',\n",
    "  'tknin': '0x0-1AD5',\n",
    "  'amtin': 5309.369973833374,\n",
    "  'tknout': 'WETH-6Cc2',\n",
    "  'amtout': -0.09179346660459942},\n",
    "{'cid': '9868188640707215440437863615521278132280-0',\n",
    "  'tknin': '0x0-1AD5',\n",
    "  'amtin': 1000.0,\n",
    "  'tknout': 'WETH-6Cc2',\n",
    "  'amtout': -0.001},\n",
    "{'cid': '9868188640707215440437863615521278132281-0',\n",
    "  'tknin': '0x0-1AD5',\n",
    "  'amtin':  2000,\n",
    "  'tknout': 'WETH-6Cc2',\n",
    "  'amtout': -0.05},\n",
    "  {'cid': '220',\n",
    "  'tknin': '0x0-1AD5',\n",
    "  'amtin': 5309.369973833374,\n",
    "  'tknout': 'WETH-6Cc2',\n",
    "  'amtout': -0.09179346660459942},\n",
    "{'cid': '9868188640707215440437863615521278132290-1',\n",
    "  'tknin': 'WETH-6Cc2',\n",
    "  'amtin': 0.016351323399976,\n",
    "  'tknout': '0x0-1AD5',\n",
    "  'amtout': -1234.0},\n",
    "{'cid': '9868188640707215440437863615521278132291-1',\n",
    "  'tknin': 'WETH-6Cc2',\n",
    "  'amtin': 0.022222222222,\n",
    "  'tknout': '0x0-1AD5',\n",
    "  'amtout': -2000.0},\n",
    "]\n",
    "best_src_token = 'WETH-6Cc2'"
   ]
  },
  {
   "cell_type": "code",
   "execution_count": 3,
   "metadata": {},
   "outputs": [],
   "source": [
    "def simple_ordering_by_src_token(best_trade_instructions_dic, best_src_token):\n",
    "    '''\n",
    "    Reorders a trade_instructions_dct so that all items where the best_src_token is the tknin are before others\n",
    "    '''\n",
    "    ordered_trade_instructions_dct = [x for x in best_trade_instructions_dic if x['tknin'] == best_src_token] + [x for x in best_trade_instructions_dic if x['tknin'] != best_src_token]\n",
    "\n",
    "    return ordered_trade_instructions_dct"
   ]
  },
  {
   "cell_type": "code",
   "execution_count": 4,
   "metadata": {},
   "outputs": [],
   "source": [
    "### TEST ###\n",
    "ordered_trade_instructions_dct = simple_ordering_by_src_token(best_trade_instructions_dic, best_src_token)\n",
    "srctoken_indexes = [i for i,c in list(enumerate(ordered_trade_instructions_dct)) if c['tknin'] == best_src_token]\n",
    "non_srctoken_indexes = [i for i,c in list(enumerate(ordered_trade_instructions_dct)) if c['tknin'] != best_src_token]\n",
    "assert max(srctoken_indexes) < min(non_srctoken_indexes)\n",
    "### TEST ###"
   ]
  },
  {
   "cell_type": "code",
   "execution_count": 5,
   "metadata": {},
   "outputs": [],
   "source": [
    "def basic_scaling_alternative_to_exact(best_trade_instructions_dic, best_src_token):\n",
    "    '''\n",
    "    For items in the trade_instruction_dic scale the amtin by 0.999 if its the src_token, else by 0.99\n",
    "\n",
    "    NOTE: Since we update the info in the DICTIONARY, this actually voids the info in the DATAFRAME\n",
    "    '''\n",
    "    scaled_best_trade_instructions_dic = []\n",
    "    for x in best_trade_instructions_dic:\n",
    "        scaled_best_trade_instructions_dic += [{k:v for k,v in x.items()}]\n",
    "\n",
    "    for i in range(len(scaled_best_trade_instructions_dic)):\n",
    "        if scaled_best_trade_instructions_dic[i][\"tknin\"] == best_src_token:\n",
    "            scaled_best_trade_instructions_dic[i][\"amtin\"] *= 0.999\n",
    "        else:\n",
    "            scaled_best_trade_instructions_dic[i][\"amtin\"] *= 0.99\n",
    "\n",
    "    return scaled_best_trade_instructions_dic"
   ]
  },
  {
   "cell_type": "code",
   "execution_count": 6,
   "metadata": {},
   "outputs": [],
   "source": [
    "### TEST ###\n",
    "scaled_best_trade_instructions_dic = basic_scaling_alternative_to_exact(best_trade_instructions_dic, best_src_token)\n",
    "assert sum([x['amtin'] for x in scaled_best_trade_instructions_dic]) < sum([x['amtin'] for x in best_trade_instructions_dic])\n",
    "### TEST ###"
   ]
  },
  {
   "cell_type": "code",
   "execution_count": 7,
   "metadata": {},
   "outputs": [
    {
     "data": {
      "text/plain": [
       "[TradeInstruction(cid='218', tknin='0x0-1AD5', amtin=5309.369973833374, tknout='WETH-6Cc2', amtout=-0.09179346660459942, pair_sorting=None, raw_txs=None, custom_data=''),\n",
       " TradeInstruction(cid='9868188640707215440437863615521278132277-1', tknin='WETH-6Cc2', amtin=0.0785107723399976, tknout='0x0-1AD5', amtout=-5363.0, pair_sorting=None, raw_txs=None, custom_data=''),\n",
       " TradeInstruction(cid='9868188640707215440437863615521278132278-1', tknin='WETH-6Cc2', amtin=0.0111111111111111, tknout='0x0-1AD5', amtout=-3000.0, pair_sorting=None, raw_txs=None, custom_data=''),\n",
       " TradeInstruction(cid='219', tknin='0x0-1AD5', amtin=5309.369973833374, tknout='WETH-6Cc2', amtout=-0.09179346660459942, pair_sorting=None, raw_txs=None, custom_data=''),\n",
       " TradeInstruction(cid='9868188640707215440437863615521278132280-0', tknin='0x0-1AD5', amtin=1000.0, tknout='WETH-6Cc2', amtout=-0.001, pair_sorting=None, raw_txs=None, custom_data=''),\n",
       " TradeInstruction(cid='9868188640707215440437863615521278132281-0', tknin='0x0-1AD5', amtin=2000, tknout='WETH-6Cc2', amtout=-0.05, pair_sorting=None, raw_txs=None, custom_data=''),\n",
       " TradeInstruction(cid='220', tknin='0x0-1AD5', amtin=5309.369973833374, tknout='WETH-6Cc2', amtout=-0.09179346660459942, pair_sorting=None, raw_txs=None, custom_data=''),\n",
       " TradeInstruction(cid='9868188640707215440437863615521278132290-1', tknin='WETH-6Cc2', amtin=0.016351323399976, tknout='0x0-1AD5', amtout=-1234.0, pair_sorting=None, raw_txs=None, custom_data=''),\n",
       " TradeInstruction(cid='9868188640707215440437863615521278132291-1', tknin='WETH-6Cc2', amtin=0.022222222222, tknout='0x0-1AD5', amtout=-2000.0, pair_sorting=None, raw_txs=None, custom_data='')]"
      ]
     },
     "execution_count": 7,
     "metadata": {},
     "output_type": "execute_result"
    }
   ],
   "source": [
    "trade_instructions_objects = [TradeInstruction(**ti) for ti in best_trade_instructions_dic]\n",
    "trade_instructions_objects"
   ]
  },
  {
   "cell_type": "code",
   "execution_count": 8,
   "metadata": {},
   "outputs": [],
   "source": [
    "def _get_trade_dicts_from_objects(trade_instructions: List[TradeInstruction]) -> List[Dict[str, Any]]:\n",
    "    return [\n",
    "        {\n",
    "            \"cid\": instr.cid + \"-\" + str(instr.cid_tkn)\n",
    "            if instr.cid_tkn\n",
    "            else instr.cid,\n",
    "            \"tknin\": instr.tknin,\n",
    "            \"amtin\": instr.amtin,\n",
    "            \"tknout\": instr.tknout,\n",
    "            \"amtout\": instr.amtout,\n",
    "        }\n",
    "        for instr in trade_instructions\n",
    "    ]"
   ]
  },
  {
   "cell_type": "code",
   "execution_count": 9,
   "metadata": {},
   "outputs": [],
   "source": [
    "def slice_dataframe(df):\n",
    "    slices = []\n",
    "    current_pair_sorting = df.pair_sorting.values[0]\n",
    "    current_slice = []\n",
    "\n",
    "    for index, row in df.iterrows():\n",
    "        if row['pair_sorting'] == current_pair_sorting:\n",
    "            current_slice.append(index)\n",
    "        else:\n",
    "            slices.append(df.loc[current_slice])\n",
    "            current_pair_sorting = row['pair_sorting']\n",
    "            current_slice = [index]\n",
    "\n",
    "    slices.append(df.loc[current_slice])\n",
    "\n",
    "    min_index = []\n",
    "    for df in slices:\n",
    "        min_index += [min(df.index.values)]\n",
    "\n",
    "    \n",
    "    return list(zip(min_index, slices))\n"
   ]
  },
  {
   "cell_type": "code",
   "execution_count": 10,
   "metadata": {},
   "outputs": [],
   "source": [
    "def aggregate_carbon_trades(trade_instructions_objects: List[TradeInstruction]) -> List[TradeInstruction]:\n",
    "    \"\"\"\n",
    "    Aggregate carbon independent IDs and create trade instructions.\n",
    "\n",
    "    This function takes a list of dictionaries containing trade instructions,\n",
    "    aggregates the instructions with carbon independent IDs, and creates\n",
    "    a list of TradeInstruction objects.\n",
    "\n",
    "    Parameters\n",
    "    ----------\n",
    "    trade_instructions : List[TradeInstruction]\n",
    "        A list of trade instructions as TradeInstruction objects.\n",
    "\n",
    "    Returns\n",
    "    -------\n",
    "    List[TradeInstruction]\n",
    "        A list of aggregated trade instructions as TradeInstruction objects.\n",
    "\n",
    "    \"\"\"\n",
    "    # Get the indices of the carbon trades\n",
    "    listti = _get_trade_dicts_from_objects(trade_instructions_objects)\n",
    "    df = pd.DataFrame(listti)\n",
    "    df[\"pair_sorting\"] = df.tknin + df.tknout\n",
    "    df['carbon'] = [True if '-' in df.cid[i] else False for i in df.index]\n",
    "\n",
    "    carbons = df[df['carbon']].copy()\n",
    "    nocarbons = df[~df['carbon']].copy()\n",
    "    nocarbons[\"raw_txs\"] = str([])\n",
    "\n",
    "    carbons.drop(['carbon'], axis=1, inplace=True)\n",
    "    nocarbons.drop(['carbon'], axis=1, inplace=True)\n",
    "\n",
    "    new_trade_instructions_nocarbons = {i: nocarbons.loc[i].to_dict() for i in nocarbons.index}\n",
    "\n",
    "    result = slice_dataframe(carbons)\n",
    "    new_trade_instructions_carbons = {min_index:\n",
    "        {\n",
    "            \"pair_sorting\": newdf.pair_sorting.values[0],\n",
    "            \"cid\": newdf.cid.values[0],\n",
    "            \"tknin\": newdf.tknin.values[0],\n",
    "            \"amtin\": newdf.amtin.sum(),\n",
    "            \"tknout\": newdf.tknout.values[0],\n",
    "            \"amtout\": newdf.amtout.sum(),\n",
    "            \"raw_txs\": str(newdf.to_dict(orient=\"records\")),\n",
    "        }\n",
    "        for min_index, newdf in slice_dataframe(carbons)}\n",
    "\n",
    "    new_trade_instructions_carbons.update(new_trade_instructions_nocarbons)\n",
    "    agg_trade_instructions = []\n",
    "    for i in sorted(list(new_trade_instructions_carbons.keys())):\n",
    "        agg_trade_instructions += [TradeInstruction(**new_trade_instructions_carbons[i])]\n",
    "    return agg_trade_instructions"
   ]
  },
  {
   "cell_type": "code",
   "execution_count": 11,
   "metadata": {},
   "outputs": [
    {
     "data": {
      "text/plain": [
       "[TradeInstruction(cid='218', tknin='0x0-1AD5', amtin=5309.369973833374, tknout='WETH-6Cc2', amtout=-0.09179346660459942, pair_sorting='0x0-1AD5WETH-6Cc2', raw_txs='[]', custom_data=''),\n",
       " TradeInstruction(cid='9868188640707215440437863615521278132277-1', tknin='WETH-6Cc2', amtin=0.0896218834511087, tknout='0x0-1AD5', amtout=-8363.0, pair_sorting='WETH-6Cc20x0-1AD5', raw_txs=\"[{'cid': '9868188640707215440437863615521278132277-1', 'tknin': 'WETH-6Cc2', 'amtin': 0.0785107723399976, 'tknout': '0x0-1AD5', 'amtout': -5363.0, 'pair_sorting': 'WETH-6Cc20x0-1AD5'}, {'cid': '9868188640707215440437863615521278132278-1', 'tknin': 'WETH-6Cc2', 'amtin': 0.0111111111111111, 'tknout': '0x0-1AD5', 'amtout': -3000.0, 'pair_sorting': 'WETH-6Cc20x0-1AD5'}]\", custom_data=''),\n",
       " TradeInstruction(cid='219', tknin='0x0-1AD5', amtin=5309.369973833374, tknout='WETH-6Cc2', amtout=-0.09179346660459942, pair_sorting='0x0-1AD5WETH-6Cc2', raw_txs='[]', custom_data=''),\n",
       " TradeInstruction(cid='9868188640707215440437863615521278132280-0', tknin='0x0-1AD5', amtin=3000.0, tknout='WETH-6Cc2', amtout=-0.051000000000000004, pair_sorting='0x0-1AD5WETH-6Cc2', raw_txs=\"[{'cid': '9868188640707215440437863615521278132280-0', 'tknin': '0x0-1AD5', 'amtin': 1000.0, 'tknout': 'WETH-6Cc2', 'amtout': -0.001, 'pair_sorting': '0x0-1AD5WETH-6Cc2'}, {'cid': '9868188640707215440437863615521278132281-0', 'tknin': '0x0-1AD5', 'amtin': 2000.0, 'tknout': 'WETH-6Cc2', 'amtout': -0.05, 'pair_sorting': '0x0-1AD5WETH-6Cc2'}]\", custom_data=''),\n",
       " TradeInstruction(cid='220', tknin='0x0-1AD5', amtin=5309.369973833374, tknout='WETH-6Cc2', amtout=-0.09179346660459942, pair_sorting='0x0-1AD5WETH-6Cc2', raw_txs='[]', custom_data=''),\n",
       " TradeInstruction(cid='9868188640707215440437863615521278132290-1', tknin='WETH-6Cc2', amtin=0.038573545621976, tknout='0x0-1AD5', amtout=-3234.0, pair_sorting='WETH-6Cc20x0-1AD5', raw_txs=\"[{'cid': '9868188640707215440437863615521278132290-1', 'tknin': 'WETH-6Cc2', 'amtin': 0.016351323399976, 'tknout': '0x0-1AD5', 'amtout': -1234.0, 'pair_sorting': 'WETH-6Cc20x0-1AD5'}, {'cid': '9868188640707215440437863615521278132291-1', 'tknin': 'WETH-6Cc2', 'amtin': 0.022222222222, 'tknout': '0x0-1AD5', 'amtout': -2000.0, 'pair_sorting': 'WETH-6Cc20x0-1AD5'}]\", custom_data='')]"
      ]
     },
     "execution_count": 11,
     "metadata": {},
     "output_type": "execute_result"
    }
   ],
   "source": [
    "# this example is different to the example usage in that the dict hasn't been sorted first, \n",
    "# I did this so I could verify that the aggregation works on adjacent same-pair only\n",
    "agg_trade_instructions = aggregate_carbon_trades(trade_instructions_objects)\n",
    "agg_trade_instructions"
   ]
  },
  {
   "cell_type": "markdown",
   "metadata": {},
   "source": [
    "# Example Usage"
   ]
  },
  {
   "cell_type": "code",
   "execution_count": 12,
   "metadata": {},
   "outputs": [
    {
     "data": {
      "text/plain": [
       "[TradeInstruction(cid='9868188640707215440437863615521278132277-1', tknin='WETH-6Cc2', amtin=0.12806723364401162, tknout='0x0-1AD5', amtout=-11597.0, pair_sorting='WETH-6Cc20x0-1AD5', raw_txs=\"[{'cid': '9868188640707215440437863615521278132277-1', 'tknin': 'WETH-6Cc2', 'amtin': 0.0784322615676576, 'tknout': '0x0-1AD5', 'amtout': -5363.0, 'pair_sorting': 'WETH-6Cc20x0-1AD5'}, {'cid': '9868188640707215440437863615521278132278-1', 'tknin': 'WETH-6Cc2', 'amtin': 0.011099999999999988, 'tknout': '0x0-1AD5', 'amtout': -3000.0, 'pair_sorting': 'WETH-6Cc20x0-1AD5'}, {'cid': '9868188640707215440437863615521278132290-1', 'tknin': 'WETH-6Cc2', 'amtin': 0.016334972076576026, 'tknout': '0x0-1AD5', 'amtout': -1234.0, 'pair_sorting': 'WETH-6Cc20x0-1AD5'}, {'cid': '9868188640707215440437863615521278132291-1', 'tknin': 'WETH-6Cc2', 'amtin': 0.022199999999778, 'tknout': '0x0-1AD5', 'amtout': -2000.0, 'pair_sorting': 'WETH-6Cc20x0-1AD5'}]\", custom_data=''),\n",
       " TradeInstruction(cid='218', tknin='0x0-1AD5', amtin=5256.27627409504, tknout='WETH-6Cc2', amtout=-0.09179346660459942, pair_sorting='0x0-1AD5WETH-6Cc2', raw_txs='[]', custom_data=''),\n",
       " TradeInstruction(cid='219', tknin='0x0-1AD5', amtin=5256.27627409504, tknout='WETH-6Cc2', amtout=-0.09179346660459942, pair_sorting='0x0-1AD5WETH-6Cc2', raw_txs='[]', custom_data=''),\n",
       " TradeInstruction(cid='9868188640707215440437863615521278132280-0', tknin='0x0-1AD5', amtin=2970.0, tknout='WETH-6Cc2', amtout=-0.051000000000000004, pair_sorting='0x0-1AD5WETH-6Cc2', raw_txs=\"[{'cid': '9868188640707215440437863615521278132280-0', 'tknin': '0x0-1AD5', 'amtin': 990.0, 'tknout': 'WETH-6Cc2', 'amtout': -0.001, 'pair_sorting': '0x0-1AD5WETH-6Cc2'}, {'cid': '9868188640707215440437863615521278132281-0', 'tknin': '0x0-1AD5', 'amtin': 1980.0, 'tknout': 'WETH-6Cc2', 'amtout': -0.05, 'pair_sorting': '0x0-1AD5WETH-6Cc2'}]\", custom_data=''),\n",
       " TradeInstruction(cid='220', tknin='0x0-1AD5', amtin=5256.27627409504, tknout='WETH-6Cc2', amtout=-0.09179346660459942, pair_sorting='0x0-1AD5WETH-6Cc2', raw_txs='[]', custom_data='')]"
      ]
     },
     "execution_count": 12,
     "metadata": {},
     "output_type": "execute_result"
    }
   ],
   "source": [
    "ordered_trade_instructions_dct = simple_ordering_by_src_token(best_trade_instructions_dic, best_src_token)\n",
    "scaled_best_trade_instructions_dic = basic_scaling_alternative_to_exact(ordered_trade_instructions_dct, best_src_token)\n",
    "\n",
    "# YOU DONT NEED THIS just a stand-in for _convert_trade_instructions\n",
    "trade_instructions_objects = [TradeInstruction(**ti) for ti in scaled_best_trade_instructions_dic]\n",
    "\n",
    "agg_trade_instructions = aggregate_carbon_trades(trade_instructions_objects)\n",
    "agg_trade_instructions"
   ]
  }
 ],
 "metadata": {
  "kernelspec": {
   "display_name": "arbbot",
   "language": "python",
   "name": "python3"
  },
  "language_info": {
   "codemirror_mode": {
    "name": "ipython",
    "version": 3
   },
   "file_extension": ".py",
   "mimetype": "text/x-python",
   "name": "python",
   "nbconvert_exporter": "python",
   "pygments_lexer": "ipython3",
   "version": "3.10.10"
  },
  "orig_nbformat": 4
 },
 "nbformat": 4,
 "nbformat_minor": 2
}

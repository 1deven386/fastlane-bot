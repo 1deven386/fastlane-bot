{
 "cells": [
  {
   "cell_type": "markdown",
   "source": [
    "# Unit tests for PoolManager"
   ],
   "metadata": {
    "collapsed": false
   }
  },
  {
   "cell_type": "code",
   "execution_count": 1,
   "outputs": [],
   "source": [
    "import fastlane_bot.db.models as models\n",
    "from fastlane_bot.db.model_managers import PoolManager, PairManager, TokenManager\n",
    "from fastlane_bot.db.manager import DatabaseManager"
   ],
   "metadata": {
    "collapsed": false,
    "ExecuteTime": {
     "start_time": "2023-04-26T22:41:26.360826Z",
     "end_time": "2023-04-26T22:41:32.604156Z"
    }
   }
  },
  {
   "cell_type": "code",
   "execution_count": 2,
   "id": "1fd86acd",
   "metadata": {
    "ExecuteTime": {
     "start_time": "2023-04-26T22:41:32.627082Z",
     "end_time": "2023-04-26T22:41:32.757514Z"
    }
   },
   "outputs": [
    {
     "name": "stdout",
     "output_type": "stream",
     "text": [
      "Version: 3.0.1\n",
      "Date: 04-26-2023\n"
     ]
    }
   ],
   "source": [
    "# Create a ContractHelper instance\n",
    "pool_manager = PoolManager()\n",
    "\n",
    "# Print and format version and date\n",
    "print(f\"Version: {pool_manager.__VERSION__.format('0.0.0')}\")\n",
    "print(f\"Date: {pool_manager.__DATE__}\")"
   ]
  },
  {
   "cell_type": "code",
   "execution_count": 3,
   "outputs": [
    {
     "name": "stdout",
     "output_type": "stream",
     "text": [
      "Version: 3.0.1\n",
      "Date: 04-26-2023\n"
     ]
    }
   ],
   "source": [
    "pair_manager = PairManager()\n",
    "\n",
    "# Print and format version and date\n",
    "print(f\"Version: {pair_manager.__VERSION__.format('0.0.0')}\")\n",
    "print(f\"Date: {pair_manager.__DATE__.format('0.0.0')}\")"
   ],
   "metadata": {
    "collapsed": false,
    "ExecuteTime": {
     "start_time": "2023-04-26T22:41:32.769473Z",
     "end_time": "2023-04-26T22:41:32.788409Z"
    }
   }
  },
  {
   "cell_type": "code",
   "execution_count": 4,
   "outputs": [
    {
     "name": "stdout",
     "output_type": "stream",
     "text": [
      "Version: 3.0.1\n",
      "Date: 04-26-2023\n"
     ]
    }
   ],
   "source": [
    "\n",
    "# test TokenManager\n",
    "\n",
    "token_manager = TokenManager()\n",
    "\n",
    "# Print and format version and date\n",
    "print(f\"Version: {token_manager.__VERSION__.format('0.0.0')}\")\n",
    "print(f\"Date: {token_manager.__DATE__.format('0.0.0')}\")"
   ],
   "metadata": {
    "collapsed": false,
    "ExecuteTime": {
     "start_time": "2023-04-26T22:41:32.785782Z",
     "end_time": "2023-04-26T22:41:32.804110Z"
    }
   }
  },
  {
   "cell_type": "code",
   "execution_count": 5,
   "outputs": [
    {
     "name": "stdout",
     "output_type": "stream",
     "text": [
      "Version: 3.0.1\n",
      "Date: 04-26-2023\n"
     ]
    }
   ],
   "source": [
    "\n",
    "# DatabaseManager\n",
    "\n",
    "db_manager = DatabaseManager()\n",
    "\n",
    "# Print and format version and date\n",
    "print(f\"Version: {db_manager.__VERSION__.format('0.0.0')}\")\n",
    "print(f\"Date: {db_manager.__DATE__.format('0.0.0')}\")"
   ],
   "metadata": {
    "collapsed": false,
    "ExecuteTime": {
     "start_time": "2023-04-26T22:41:32.806353Z",
     "end_time": "2023-04-26T22:41:32.840940Z"
    }
   }
  },
  {
   "cell_type": "code",
   "execution_count": 6,
   "outputs": [],
   "source": [
    "# Test add_token: Test if a token can be added to the database and if the token has the correct attributes.\n",
    "token_manager = TokenManager()\n",
    "token0 = models.Token(address=\"Test\",\n",
    "                     symbol=\"Test\",\n",
    "                     name=\"Test Token\",\n",
    "                     key=\"Test\",\n",
    "                     decimals=18)\n",
    "\n",
    "token_manager.create_token(token0)\n",
    "\n",
    "db_token = token_manager.session.query(models.Token).filter_by(\n",
    "    address=token0.address).first()\n",
    "\n",
    "assert db_token is not None\n",
    "assert db_token.symbol == \"Test\"\n",
    "assert db_token.name == \"Test Token\"\n",
    "assert db_token.decimals == 18\n",
    "\n",
    "token1 = models.Token(address=\"Pair\",\n",
    "                      symbol=\"Pair\",\n",
    "                      name=\"Test Token\",\n",
    "                      decimals=18,\n",
    "                      key=\"Pair\")\n",
    "\n",
    "token_manager.create_token(token1)\n",
    "\n",
    "db_token = token_manager.session.query(models.Token).filter_by(\n",
    "    address=token1.address).first()\n",
    "\n",
    "assert db_token is not None\n",
    "assert db_token.symbol == \"Pair\"\n",
    "assert db_token.name == \"Test Token\"\n",
    "assert db_token.decimals == 18\n"
   ],
   "metadata": {
    "collapsed": false,
    "ExecuteTime": {
     "start_time": "2023-04-26T22:41:32.827974Z",
     "end_time": "2023-04-26T22:41:32.856649Z"
    }
   }
  },
  {
   "cell_type": "code",
   "execution_count": 7,
   "outputs": [],
   "source": [
    "from sqlalchemy.orm import Session\n",
    "\n",
    "# - Test initialization: Ensure that the PoolManager is initialized properly with the given session object.\n",
    "pair_manager = PairManager()\n",
    "pool_manager = PoolManager()\n",
    "assert isinstance(pool_manager.session, Session)\n",
    "assert isinstance(pair_manager.session, Session)"
   ],
   "metadata": {
    "collapsed": false,
    "ExecuteTime": {
     "start_time": "2023-04-26T22:41:32.857434Z",
     "end_time": "2023-04-26T22:41:32.905667Z"
    }
   }
  },
  {
   "cell_type": "code",
   "execution_count": 8,
   "outputs": [],
   "source": [
    "# Test add pair\n",
    "pair_manager = PairManager()\n",
    "pair = models.Pair(name=\"Test/Pair\",\n",
    "                   tkn0_address=\"Test\",\n",
    "                   tkn1_address=\"Pair\",\n",
    "                   tkn1_key=\"Pair\",\n",
    "                   tkn0_key=\"Test\"\n",
    "                   )\n",
    "\n",
    "\n",
    "pair_manager.create_pair(pair)\n",
    "\n",
    "db_pair = pair_manager.session.query(models.Pair).filter_by(\n",
    "    name=pair.name).first()\n",
    "\n",
    "assert db_pair is not None\n",
    "assert db_pair.name == \"Test/Pair\"\n",
    "assert db_pair.tkn0_address == \"Test\"\n",
    "assert db_pair.tkn1_address == \"Pair\"\n"
   ],
   "metadata": {
    "collapsed": false,
    "ExecuteTime": {
     "start_time": "2023-04-26T22:41:32.906785Z",
     "end_time": "2023-04-26T22:41:32.931806Z"
    }
   }
  },
  {
   "cell_type": "code",
   "execution_count": 9,
   "outputs": [
    {
     "ename": "IntegrityError",
     "evalue": "(psycopg2.errors.UniqueViolation) duplicate key value violates unique constraint \"ix_blockchains_name\"\nDETAIL:  Key (name)=(TestBlockchain) already exists.\n\n[SQL: INSERT INTO blockchains (name, block_number) VALUES (%(name)s, %(block_number)s) RETURNING blockchains.id]\n[parameters: {'name': 'TestBlockchain', 'block_number': 0}]\n(Background on this error at: https://sqlalche.me/e/20/gkpj)",
     "output_type": "error",
     "traceback": [
      "\u001B[0;31m---------------------------------------------------------------------------\u001B[0m",
      "\u001B[0;31mUniqueViolation\u001B[0m                           Traceback (most recent call last)",
      "\u001B[0;32m~/miniforge3/lib/python3.9/site-packages/sqlalchemy/engine/base.py\u001B[0m in \u001B[0;36m_exec_single_context\u001B[0;34m(self, dialect, context, statement, parameters)\u001B[0m\n\u001B[1;32m   1963\u001B[0m                 \u001B[0;32mif\u001B[0m \u001B[0;32mnot\u001B[0m \u001B[0mevt_handled\u001B[0m\u001B[0;34m:\u001B[0m\u001B[0;34m\u001B[0m\u001B[0;34m\u001B[0m\u001B[0m\n\u001B[0;32m-> 1964\u001B[0;31m                     self.dialect.do_execute(\n\u001B[0m\u001B[1;32m   1965\u001B[0m                         \u001B[0mcursor\u001B[0m\u001B[0;34m,\u001B[0m \u001B[0mstr_statement\u001B[0m\u001B[0;34m,\u001B[0m \u001B[0meffective_parameters\u001B[0m\u001B[0;34m,\u001B[0m \u001B[0mcontext\u001B[0m\u001B[0;34m\u001B[0m\u001B[0;34m\u001B[0m\u001B[0m\n",
      "\u001B[0;32m~/miniforge3/lib/python3.9/site-packages/sqlalchemy/engine/default.py\u001B[0m in \u001B[0;36mdo_execute\u001B[0;34m(self, cursor, statement, parameters, context)\u001B[0m\n\u001B[1;32m    747\u001B[0m     \u001B[0;32mdef\u001B[0m \u001B[0mdo_execute\u001B[0m\u001B[0;34m(\u001B[0m\u001B[0mself\u001B[0m\u001B[0;34m,\u001B[0m \u001B[0mcursor\u001B[0m\u001B[0;34m,\u001B[0m \u001B[0mstatement\u001B[0m\u001B[0;34m,\u001B[0m \u001B[0mparameters\u001B[0m\u001B[0;34m,\u001B[0m \u001B[0mcontext\u001B[0m\u001B[0;34m=\u001B[0m\u001B[0;32mNone\u001B[0m\u001B[0;34m)\u001B[0m\u001B[0;34m:\u001B[0m\u001B[0;34m\u001B[0m\u001B[0;34m\u001B[0m\u001B[0m\n\u001B[0;32m--> 748\u001B[0;31m         \u001B[0mcursor\u001B[0m\u001B[0;34m.\u001B[0m\u001B[0mexecute\u001B[0m\u001B[0;34m(\u001B[0m\u001B[0mstatement\u001B[0m\u001B[0;34m,\u001B[0m \u001B[0mparameters\u001B[0m\u001B[0;34m)\u001B[0m\u001B[0;34m\u001B[0m\u001B[0;34m\u001B[0m\u001B[0m\n\u001B[0m\u001B[1;32m    749\u001B[0m \u001B[0;34m\u001B[0m\u001B[0m\n",
      "\u001B[0;31mUniqueViolation\u001B[0m: duplicate key value violates unique constraint \"ix_blockchains_name\"\nDETAIL:  Key (name)=(TestBlockchain) already exists.\n",
      "\nThe above exception was the direct cause of the following exception:\n",
      "\u001B[0;31mIntegrityError\u001B[0m                            Traceback (most recent call last)",
      "\u001B[0;32m/var/folders/rt/qnj8r6yd6131ccxkw_k9d9gc0000gn/T/ipykernel_62151/279167153.py\u001B[0m in \u001B[0;36m<module>\u001B[0;34m\u001B[0m\n\u001B[1;32m      4\u001B[0m \u001B[0mblockchain\u001B[0m \u001B[0;34m=\u001B[0m \u001B[0mmodels\u001B[0m\u001B[0;34m.\u001B[0m\u001B[0mBlockchain\u001B[0m\u001B[0;34m(\u001B[0m\u001B[0mname\u001B[0m\u001B[0;34m=\u001B[0m\u001B[0;34m\"TestBlockchain\"\u001B[0m\u001B[0;34m)\u001B[0m\u001B[0;34m\u001B[0m\u001B[0;34m\u001B[0m\u001B[0m\n\u001B[1;32m      5\u001B[0m \u001B[0;34m\u001B[0m\u001B[0m\n\u001B[0;32m----> 6\u001B[0;31m \u001B[0mdb_manager\u001B[0m\u001B[0;34m.\u001B[0m\u001B[0mcreate\u001B[0m\u001B[0;34m(\u001B[0m\u001B[0mblockchain\u001B[0m\u001B[0;34m)\u001B[0m\u001B[0;34m\u001B[0m\u001B[0;34m\u001B[0m\u001B[0m\n\u001B[0m\u001B[1;32m      7\u001B[0m \u001B[0;34m\u001B[0m\u001B[0m\n\u001B[1;32m      8\u001B[0m exchange = models.Exchange(name=\"TestExchange\",\n",
      "\u001B[0;32m~/Local/projects/bancor/carbonbot-main/fastlane_bot/db/manager.py\u001B[0m in \u001B[0;36mcreate\u001B[0;34m(self, obj)\u001B[0m\n\u001B[1;32m     49\u001B[0m         \"\"\"\n\u001B[1;32m     50\u001B[0m         \u001B[0mself\u001B[0m\u001B[0;34m.\u001B[0m\u001B[0msession\u001B[0m\u001B[0;34m.\u001B[0m\u001B[0madd\u001B[0m\u001B[0;34m(\u001B[0m\u001B[0mobj\u001B[0m\u001B[0;34m)\u001B[0m\u001B[0;34m\u001B[0m\u001B[0;34m\u001B[0m\u001B[0m\n\u001B[0;32m---> 51\u001B[0;31m         \u001B[0mself\u001B[0m\u001B[0;34m.\u001B[0m\u001B[0msession\u001B[0m\u001B[0;34m.\u001B[0m\u001B[0mcommit\u001B[0m\u001B[0;34m(\u001B[0m\u001B[0;34m)\u001B[0m\u001B[0;34m\u001B[0m\u001B[0;34m\u001B[0m\u001B[0m\n\u001B[0m\u001B[1;32m     52\u001B[0m \u001B[0;34m\u001B[0m\u001B[0m\n\u001B[1;32m     53\u001B[0m     \u001B[0;32mdef\u001B[0m \u001B[0mcreate_tables\u001B[0m\u001B[0;34m(\u001B[0m\u001B[0mself\u001B[0m\u001B[0;34m)\u001B[0m\u001B[0;34m:\u001B[0m\u001B[0;34m\u001B[0m\u001B[0;34m\u001B[0m\u001B[0m\n",
      "\u001B[0;32m~/miniforge3/lib/python3.9/site-packages/sqlalchemy/orm/session.py\u001B[0m in \u001B[0;36mcommit\u001B[0;34m(self)\u001B[0m\n\u001B[1;32m   1901\u001B[0m             \u001B[0mtrans\u001B[0m \u001B[0;34m=\u001B[0m \u001B[0mself\u001B[0m\u001B[0;34m.\u001B[0m\u001B[0m_autobegin_t\u001B[0m\u001B[0;34m(\u001B[0m\u001B[0;34m)\u001B[0m\u001B[0;34m\u001B[0m\u001B[0;34m\u001B[0m\u001B[0m\n\u001B[1;32m   1902\u001B[0m \u001B[0;34m\u001B[0m\u001B[0m\n\u001B[0;32m-> 1903\u001B[0;31m         \u001B[0mtrans\u001B[0m\u001B[0;34m.\u001B[0m\u001B[0mcommit\u001B[0m\u001B[0;34m(\u001B[0m\u001B[0m_to_root\u001B[0m\u001B[0;34m=\u001B[0m\u001B[0;32mTrue\u001B[0m\u001B[0;34m)\u001B[0m\u001B[0;34m\u001B[0m\u001B[0;34m\u001B[0m\u001B[0m\n\u001B[0m\u001B[1;32m   1904\u001B[0m \u001B[0;34m\u001B[0m\u001B[0m\n\u001B[1;32m   1905\u001B[0m     \u001B[0;32mdef\u001B[0m \u001B[0mprepare\u001B[0m\u001B[0;34m(\u001B[0m\u001B[0mself\u001B[0m\u001B[0;34m)\u001B[0m \u001B[0;34m->\u001B[0m \u001B[0;32mNone\u001B[0m\u001B[0;34m:\u001B[0m\u001B[0;34m\u001B[0m\u001B[0;34m\u001B[0m\u001B[0m\n",
      "\u001B[0;32m<string>\u001B[0m in \u001B[0;36mcommit\u001B[0;34m(self, _to_root)\u001B[0m\n",
      "\u001B[0;32m~/miniforge3/lib/python3.9/site-packages/sqlalchemy/orm/state_changes.py\u001B[0m in \u001B[0;36m_go\u001B[0;34m(fn, self, *arg, **kw)\u001B[0m\n\u001B[1;32m    135\u001B[0m             \u001B[0mself\u001B[0m\u001B[0;34m.\u001B[0m\u001B[0m_next_state\u001B[0m \u001B[0;34m=\u001B[0m \u001B[0m_StateChangeStates\u001B[0m\u001B[0;34m.\u001B[0m\u001B[0mCHANGE_IN_PROGRESS\u001B[0m\u001B[0;34m\u001B[0m\u001B[0;34m\u001B[0m\u001B[0m\n\u001B[1;32m    136\u001B[0m             \u001B[0;32mtry\u001B[0m\u001B[0;34m:\u001B[0m\u001B[0;34m\u001B[0m\u001B[0;34m\u001B[0m\u001B[0m\n\u001B[0;32m--> 137\u001B[0;31m                 \u001B[0mret_value\u001B[0m \u001B[0;34m=\u001B[0m \u001B[0mfn\u001B[0m\u001B[0;34m(\u001B[0m\u001B[0mself\u001B[0m\u001B[0;34m,\u001B[0m \u001B[0;34m*\u001B[0m\u001B[0marg\u001B[0m\u001B[0;34m,\u001B[0m \u001B[0;34m**\u001B[0m\u001B[0mkw\u001B[0m\u001B[0;34m)\u001B[0m\u001B[0;34m\u001B[0m\u001B[0;34m\u001B[0m\u001B[0m\n\u001B[0m\u001B[1;32m    138\u001B[0m             \u001B[0;32mexcept\u001B[0m\u001B[0;34m:\u001B[0m\u001B[0;34m\u001B[0m\u001B[0;34m\u001B[0m\u001B[0m\n\u001B[1;32m    139\u001B[0m                 \u001B[0;32mraise\u001B[0m\u001B[0;34m\u001B[0m\u001B[0;34m\u001B[0m\u001B[0m\n",
      "\u001B[0;32m~/miniforge3/lib/python3.9/site-packages/sqlalchemy/orm/session.py\u001B[0m in \u001B[0;36mcommit\u001B[0;34m(self, _to_root)\u001B[0m\n\u001B[1;32m   1216\u001B[0m         \u001B[0;32mif\u001B[0m \u001B[0mself\u001B[0m\u001B[0;34m.\u001B[0m\u001B[0m_state\u001B[0m \u001B[0;32mis\u001B[0m \u001B[0;32mnot\u001B[0m \u001B[0mSessionTransactionState\u001B[0m\u001B[0;34m.\u001B[0m\u001B[0mPREPARED\u001B[0m\u001B[0;34m:\u001B[0m\u001B[0;34m\u001B[0m\u001B[0;34m\u001B[0m\u001B[0m\n\u001B[1;32m   1217\u001B[0m             \u001B[0;32mwith\u001B[0m \u001B[0mself\u001B[0m\u001B[0;34m.\u001B[0m\u001B[0m_expect_state\u001B[0m\u001B[0;34m(\u001B[0m\u001B[0mSessionTransactionState\u001B[0m\u001B[0;34m.\u001B[0m\u001B[0mPREPARED\u001B[0m\u001B[0;34m)\u001B[0m\u001B[0;34m:\u001B[0m\u001B[0;34m\u001B[0m\u001B[0;34m\u001B[0m\u001B[0m\n\u001B[0;32m-> 1218\u001B[0;31m                 \u001B[0mself\u001B[0m\u001B[0;34m.\u001B[0m\u001B[0m_prepare_impl\u001B[0m\u001B[0;34m(\u001B[0m\u001B[0;34m)\u001B[0m\u001B[0;34m\u001B[0m\u001B[0;34m\u001B[0m\u001B[0m\n\u001B[0m\u001B[1;32m   1219\u001B[0m \u001B[0;34m\u001B[0m\u001B[0m\n\u001B[1;32m   1220\u001B[0m         \u001B[0;32mif\u001B[0m \u001B[0mself\u001B[0m\u001B[0;34m.\u001B[0m\u001B[0m_parent\u001B[0m \u001B[0;32mis\u001B[0m \u001B[0;32mNone\u001B[0m \u001B[0;32mor\u001B[0m \u001B[0mself\u001B[0m\u001B[0;34m.\u001B[0m\u001B[0mnested\u001B[0m\u001B[0;34m:\u001B[0m\u001B[0;34m\u001B[0m\u001B[0;34m\u001B[0m\u001B[0m\n",
      "\u001B[0;32m<string>\u001B[0m in \u001B[0;36m_prepare_impl\u001B[0;34m(self)\u001B[0m\n",
      "\u001B[0;32m~/miniforge3/lib/python3.9/site-packages/sqlalchemy/orm/state_changes.py\u001B[0m in \u001B[0;36m_go\u001B[0;34m(fn, self, *arg, **kw)\u001B[0m\n\u001B[1;32m    135\u001B[0m             \u001B[0mself\u001B[0m\u001B[0;34m.\u001B[0m\u001B[0m_next_state\u001B[0m \u001B[0;34m=\u001B[0m \u001B[0m_StateChangeStates\u001B[0m\u001B[0;34m.\u001B[0m\u001B[0mCHANGE_IN_PROGRESS\u001B[0m\u001B[0;34m\u001B[0m\u001B[0;34m\u001B[0m\u001B[0m\n\u001B[1;32m    136\u001B[0m             \u001B[0;32mtry\u001B[0m\u001B[0;34m:\u001B[0m\u001B[0;34m\u001B[0m\u001B[0;34m\u001B[0m\u001B[0m\n\u001B[0;32m--> 137\u001B[0;31m                 \u001B[0mret_value\u001B[0m \u001B[0;34m=\u001B[0m \u001B[0mfn\u001B[0m\u001B[0;34m(\u001B[0m\u001B[0mself\u001B[0m\u001B[0;34m,\u001B[0m \u001B[0;34m*\u001B[0m\u001B[0marg\u001B[0m\u001B[0;34m,\u001B[0m \u001B[0;34m**\u001B[0m\u001B[0mkw\u001B[0m\u001B[0;34m)\u001B[0m\u001B[0;34m\u001B[0m\u001B[0;34m\u001B[0m\u001B[0m\n\u001B[0m\u001B[1;32m    138\u001B[0m             \u001B[0;32mexcept\u001B[0m\u001B[0;34m:\u001B[0m\u001B[0;34m\u001B[0m\u001B[0;34m\u001B[0m\u001B[0m\n\u001B[1;32m    139\u001B[0m                 \u001B[0;32mraise\u001B[0m\u001B[0;34m\u001B[0m\u001B[0;34m\u001B[0m\u001B[0m\n",
      "\u001B[0;32m~/miniforge3/lib/python3.9/site-packages/sqlalchemy/orm/session.py\u001B[0m in \u001B[0;36m_prepare_impl\u001B[0;34m(self)\u001B[0m\n\u001B[1;32m   1191\u001B[0m                 \u001B[0;32mif\u001B[0m \u001B[0mself\u001B[0m\u001B[0;34m.\u001B[0m\u001B[0msession\u001B[0m\u001B[0;34m.\u001B[0m\u001B[0m_is_clean\u001B[0m\u001B[0;34m(\u001B[0m\u001B[0;34m)\u001B[0m\u001B[0;34m:\u001B[0m\u001B[0;34m\u001B[0m\u001B[0;34m\u001B[0m\u001B[0m\n\u001B[1;32m   1192\u001B[0m                     \u001B[0;32mbreak\u001B[0m\u001B[0;34m\u001B[0m\u001B[0;34m\u001B[0m\u001B[0m\n\u001B[0;32m-> 1193\u001B[0;31m                 \u001B[0mself\u001B[0m\u001B[0;34m.\u001B[0m\u001B[0msession\u001B[0m\u001B[0;34m.\u001B[0m\u001B[0mflush\u001B[0m\u001B[0;34m(\u001B[0m\u001B[0;34m)\u001B[0m\u001B[0;34m\u001B[0m\u001B[0;34m\u001B[0m\u001B[0m\n\u001B[0m\u001B[1;32m   1194\u001B[0m             \u001B[0;32melse\u001B[0m\u001B[0;34m:\u001B[0m\u001B[0;34m\u001B[0m\u001B[0;34m\u001B[0m\u001B[0m\n\u001B[1;32m   1195\u001B[0m                 raise exc.FlushError(\n",
      "\u001B[0;32m~/miniforge3/lib/python3.9/site-packages/sqlalchemy/orm/session.py\u001B[0m in \u001B[0;36mflush\u001B[0;34m(self, objects)\u001B[0m\n\u001B[1;32m   4153\u001B[0m         \u001B[0;32mtry\u001B[0m\u001B[0;34m:\u001B[0m\u001B[0;34m\u001B[0m\u001B[0;34m\u001B[0m\u001B[0m\n\u001B[1;32m   4154\u001B[0m             \u001B[0mself\u001B[0m\u001B[0;34m.\u001B[0m\u001B[0m_flushing\u001B[0m \u001B[0;34m=\u001B[0m \u001B[0;32mTrue\u001B[0m\u001B[0;34m\u001B[0m\u001B[0;34m\u001B[0m\u001B[0m\n\u001B[0;32m-> 4155\u001B[0;31m             \u001B[0mself\u001B[0m\u001B[0;34m.\u001B[0m\u001B[0m_flush\u001B[0m\u001B[0;34m(\u001B[0m\u001B[0mobjects\u001B[0m\u001B[0;34m)\u001B[0m\u001B[0;34m\u001B[0m\u001B[0;34m\u001B[0m\u001B[0m\n\u001B[0m\u001B[1;32m   4156\u001B[0m         \u001B[0;32mfinally\u001B[0m\u001B[0;34m:\u001B[0m\u001B[0;34m\u001B[0m\u001B[0;34m\u001B[0m\u001B[0m\n\u001B[1;32m   4157\u001B[0m             \u001B[0mself\u001B[0m\u001B[0;34m.\u001B[0m\u001B[0m_flushing\u001B[0m \u001B[0;34m=\u001B[0m \u001B[0;32mFalse\u001B[0m\u001B[0;34m\u001B[0m\u001B[0;34m\u001B[0m\u001B[0m\n",
      "\u001B[0;32m~/miniforge3/lib/python3.9/site-packages/sqlalchemy/orm/session.py\u001B[0m in \u001B[0;36m_flush\u001B[0;34m(self, objects)\u001B[0m\n\u001B[1;32m   4290\u001B[0m         \u001B[0;32mexcept\u001B[0m\u001B[0;34m:\u001B[0m\u001B[0;34m\u001B[0m\u001B[0;34m\u001B[0m\u001B[0m\n\u001B[1;32m   4291\u001B[0m             \u001B[0;32mwith\u001B[0m \u001B[0mutil\u001B[0m\u001B[0;34m.\u001B[0m\u001B[0msafe_reraise\u001B[0m\u001B[0;34m(\u001B[0m\u001B[0;34m)\u001B[0m\u001B[0;34m:\u001B[0m\u001B[0;34m\u001B[0m\u001B[0;34m\u001B[0m\u001B[0m\n\u001B[0;32m-> 4292\u001B[0;31m                 \u001B[0mtransaction\u001B[0m\u001B[0;34m.\u001B[0m\u001B[0mrollback\u001B[0m\u001B[0;34m(\u001B[0m\u001B[0m_capture_exception\u001B[0m\u001B[0;34m=\u001B[0m\u001B[0;32mTrue\u001B[0m\u001B[0;34m)\u001B[0m\u001B[0;34m\u001B[0m\u001B[0;34m\u001B[0m\u001B[0m\n\u001B[0m\u001B[1;32m   4293\u001B[0m \u001B[0;34m\u001B[0m\u001B[0m\n\u001B[1;32m   4294\u001B[0m     def bulk_save_objects(\n",
      "\u001B[0;32m~/miniforge3/lib/python3.9/site-packages/sqlalchemy/util/langhelpers.py\u001B[0m in \u001B[0;36m__exit__\u001B[0;34m(self, type_, value, traceback)\u001B[0m\n\u001B[1;32m    145\u001B[0m             \u001B[0;32massert\u001B[0m \u001B[0mexc_value\u001B[0m \u001B[0;32mis\u001B[0m \u001B[0;32mnot\u001B[0m \u001B[0;32mNone\u001B[0m\u001B[0;34m\u001B[0m\u001B[0;34m\u001B[0m\u001B[0m\n\u001B[1;32m    146\u001B[0m             \u001B[0mself\u001B[0m\u001B[0;34m.\u001B[0m\u001B[0m_exc_info\u001B[0m \u001B[0;34m=\u001B[0m \u001B[0;32mNone\u001B[0m  \u001B[0;31m# remove potential circular references\u001B[0m\u001B[0;34m\u001B[0m\u001B[0;34m\u001B[0m\u001B[0m\n\u001B[0;32m--> 147\u001B[0;31m             \u001B[0;32mraise\u001B[0m \u001B[0mexc_value\u001B[0m\u001B[0;34m.\u001B[0m\u001B[0mwith_traceback\u001B[0m\u001B[0;34m(\u001B[0m\u001B[0mexc_tb\u001B[0m\u001B[0;34m)\u001B[0m\u001B[0;34m\u001B[0m\u001B[0;34m\u001B[0m\u001B[0m\n\u001B[0m\u001B[1;32m    148\u001B[0m         \u001B[0;32melse\u001B[0m\u001B[0;34m:\u001B[0m\u001B[0;34m\u001B[0m\u001B[0;34m\u001B[0m\u001B[0m\n\u001B[1;32m    149\u001B[0m             \u001B[0mself\u001B[0m\u001B[0;34m.\u001B[0m\u001B[0m_exc_info\u001B[0m \u001B[0;34m=\u001B[0m \u001B[0;32mNone\u001B[0m  \u001B[0;31m# remove potential circular references\u001B[0m\u001B[0;34m\u001B[0m\u001B[0;34m\u001B[0m\u001B[0m\n",
      "\u001B[0;32m~/miniforge3/lib/python3.9/site-packages/sqlalchemy/orm/session.py\u001B[0m in \u001B[0;36m_flush\u001B[0;34m(self, objects)\u001B[0m\n\u001B[1;32m   4250\u001B[0m             \u001B[0mself\u001B[0m\u001B[0;34m.\u001B[0m\u001B[0m_warn_on_events\u001B[0m \u001B[0;34m=\u001B[0m \u001B[0;32mTrue\u001B[0m\u001B[0;34m\u001B[0m\u001B[0;34m\u001B[0m\u001B[0m\n\u001B[1;32m   4251\u001B[0m             \u001B[0;32mtry\u001B[0m\u001B[0;34m:\u001B[0m\u001B[0;34m\u001B[0m\u001B[0;34m\u001B[0m\u001B[0m\n\u001B[0;32m-> 4252\u001B[0;31m                 \u001B[0mflush_context\u001B[0m\u001B[0;34m.\u001B[0m\u001B[0mexecute\u001B[0m\u001B[0;34m(\u001B[0m\u001B[0;34m)\u001B[0m\u001B[0;34m\u001B[0m\u001B[0;34m\u001B[0m\u001B[0m\n\u001B[0m\u001B[1;32m   4253\u001B[0m             \u001B[0;32mfinally\u001B[0m\u001B[0;34m:\u001B[0m\u001B[0;34m\u001B[0m\u001B[0;34m\u001B[0m\u001B[0m\n\u001B[1;32m   4254\u001B[0m                 \u001B[0mself\u001B[0m\u001B[0;34m.\u001B[0m\u001B[0m_warn_on_events\u001B[0m \u001B[0;34m=\u001B[0m \u001B[0;32mFalse\u001B[0m\u001B[0;34m\u001B[0m\u001B[0;34m\u001B[0m\u001B[0m\n",
      "\u001B[0;32m~/miniforge3/lib/python3.9/site-packages/sqlalchemy/orm/unitofwork.py\u001B[0m in \u001B[0;36mexecute\u001B[0;34m(self)\u001B[0m\n\u001B[1;32m    465\u001B[0m         \u001B[0;32melse\u001B[0m\u001B[0;34m:\u001B[0m\u001B[0;34m\u001B[0m\u001B[0;34m\u001B[0m\u001B[0m\n\u001B[1;32m    466\u001B[0m             \u001B[0;32mfor\u001B[0m \u001B[0mrec\u001B[0m \u001B[0;32min\u001B[0m \u001B[0mtopological\u001B[0m\u001B[0;34m.\u001B[0m\u001B[0msort\u001B[0m\u001B[0;34m(\u001B[0m\u001B[0mself\u001B[0m\u001B[0;34m.\u001B[0m\u001B[0mdependencies\u001B[0m\u001B[0;34m,\u001B[0m \u001B[0mpostsort_actions\u001B[0m\u001B[0;34m)\u001B[0m\u001B[0;34m:\u001B[0m\u001B[0;34m\u001B[0m\u001B[0;34m\u001B[0m\u001B[0m\n\u001B[0;32m--> 467\u001B[0;31m                 \u001B[0mrec\u001B[0m\u001B[0;34m.\u001B[0m\u001B[0mexecute\u001B[0m\u001B[0;34m(\u001B[0m\u001B[0mself\u001B[0m\u001B[0;34m)\u001B[0m\u001B[0;34m\u001B[0m\u001B[0;34m\u001B[0m\u001B[0m\n\u001B[0m\u001B[1;32m    468\u001B[0m \u001B[0;34m\u001B[0m\u001B[0m\n\u001B[1;32m    469\u001B[0m     \u001B[0;32mdef\u001B[0m \u001B[0mfinalize_flush_changes\u001B[0m\u001B[0;34m(\u001B[0m\u001B[0mself\u001B[0m\u001B[0;34m)\u001B[0m \u001B[0;34m->\u001B[0m \u001B[0;32mNone\u001B[0m\u001B[0;34m:\u001B[0m\u001B[0;34m\u001B[0m\u001B[0;34m\u001B[0m\u001B[0m\n",
      "\u001B[0;32m~/miniforge3/lib/python3.9/site-packages/sqlalchemy/orm/unitofwork.py\u001B[0m in \u001B[0;36mexecute\u001B[0;34m(self, uow)\u001B[0m\n\u001B[1;32m    642\u001B[0m     \u001B[0;34m@\u001B[0m\u001B[0mutil\u001B[0m\u001B[0;34m.\u001B[0m\u001B[0mpreload_module\u001B[0m\u001B[0;34m(\u001B[0m\u001B[0;34m\"sqlalchemy.orm.persistence\"\u001B[0m\u001B[0;34m)\u001B[0m\u001B[0;34m\u001B[0m\u001B[0;34m\u001B[0m\u001B[0m\n\u001B[1;32m    643\u001B[0m     \u001B[0;32mdef\u001B[0m \u001B[0mexecute\u001B[0m\u001B[0;34m(\u001B[0m\u001B[0mself\u001B[0m\u001B[0;34m,\u001B[0m \u001B[0muow\u001B[0m\u001B[0;34m)\u001B[0m\u001B[0;34m:\u001B[0m\u001B[0;34m\u001B[0m\u001B[0;34m\u001B[0m\u001B[0m\n\u001B[0;32m--> 644\u001B[0;31m         util.preloaded.orm_persistence.save_obj(\n\u001B[0m\u001B[1;32m    645\u001B[0m             \u001B[0mself\u001B[0m\u001B[0;34m.\u001B[0m\u001B[0mmapper\u001B[0m\u001B[0;34m,\u001B[0m\u001B[0;34m\u001B[0m\u001B[0;34m\u001B[0m\u001B[0m\n\u001B[1;32m    646\u001B[0m             \u001B[0muow\u001B[0m\u001B[0;34m.\u001B[0m\u001B[0mstates_for_mapper_hierarchy\u001B[0m\u001B[0;34m(\u001B[0m\u001B[0mself\u001B[0m\u001B[0;34m.\u001B[0m\u001B[0mmapper\u001B[0m\u001B[0;34m,\u001B[0m \u001B[0;32mFalse\u001B[0m\u001B[0;34m,\u001B[0m \u001B[0;32mFalse\u001B[0m\u001B[0;34m)\u001B[0m\u001B[0;34m,\u001B[0m\u001B[0;34m\u001B[0m\u001B[0;34m\u001B[0m\u001B[0m\n",
      "\u001B[0;32m~/miniforge3/lib/python3.9/site-packages/sqlalchemy/orm/persistence.py\u001B[0m in \u001B[0;36msave_obj\u001B[0;34m(base_mapper, states, uowtransaction, single)\u001B[0m\n\u001B[1;32m     91\u001B[0m         )\n\u001B[1;32m     92\u001B[0m \u001B[0;34m\u001B[0m\u001B[0m\n\u001B[0;32m---> 93\u001B[0;31m         _emit_insert_statements(\n\u001B[0m\u001B[1;32m     94\u001B[0m             \u001B[0mbase_mapper\u001B[0m\u001B[0;34m,\u001B[0m\u001B[0;34m\u001B[0m\u001B[0;34m\u001B[0m\u001B[0m\n\u001B[1;32m     95\u001B[0m             \u001B[0muowtransaction\u001B[0m\u001B[0;34m,\u001B[0m\u001B[0;34m\u001B[0m\u001B[0;34m\u001B[0m\u001B[0m\n",
      "\u001B[0;32m~/miniforge3/lib/python3.9/site-packages/sqlalchemy/orm/persistence.py\u001B[0m in \u001B[0;36m_emit_insert_statements\u001B[0;34m(base_mapper, uowtransaction, mapper, table, insert, bookkeeping, use_orm_insert_stmt, execution_options)\u001B[0m\n\u001B[1;32m   1182\u001B[0m                         )\n\u001B[1;32m   1183\u001B[0m                     \u001B[0;32melse\u001B[0m\u001B[0;34m:\u001B[0m\u001B[0;34m\u001B[0m\u001B[0;34m\u001B[0m\u001B[0m\n\u001B[0;32m-> 1184\u001B[0;31m                         result = connection.execute(\n\u001B[0m\u001B[1;32m   1185\u001B[0m                             \u001B[0mstatement\u001B[0m\u001B[0;34m,\u001B[0m\u001B[0;34m\u001B[0m\u001B[0;34m\u001B[0m\u001B[0m\n\u001B[1;32m   1186\u001B[0m                             \u001B[0mparams\u001B[0m\u001B[0;34m,\u001B[0m\u001B[0;34m\u001B[0m\u001B[0;34m\u001B[0m\u001B[0m\n",
      "\u001B[0;32m~/miniforge3/lib/python3.9/site-packages/sqlalchemy/engine/base.py\u001B[0m in \u001B[0;36mexecute\u001B[0;34m(self, statement, parameters, execution_options)\u001B[0m\n\u001B[1;32m   1412\u001B[0m             \u001B[0;32mraise\u001B[0m \u001B[0mexc\u001B[0m\u001B[0;34m.\u001B[0m\u001B[0mObjectNotExecutableError\u001B[0m\u001B[0;34m(\u001B[0m\u001B[0mstatement\u001B[0m\u001B[0;34m)\u001B[0m \u001B[0;32mfrom\u001B[0m \u001B[0merr\u001B[0m\u001B[0;34m\u001B[0m\u001B[0;34m\u001B[0m\u001B[0m\n\u001B[1;32m   1413\u001B[0m         \u001B[0;32melse\u001B[0m\u001B[0;34m:\u001B[0m\u001B[0;34m\u001B[0m\u001B[0;34m\u001B[0m\u001B[0m\n\u001B[0;32m-> 1414\u001B[0;31m             return meth(\n\u001B[0m\u001B[1;32m   1415\u001B[0m                 \u001B[0mself\u001B[0m\u001B[0;34m,\u001B[0m\u001B[0;34m\u001B[0m\u001B[0;34m\u001B[0m\u001B[0m\n\u001B[1;32m   1416\u001B[0m                 \u001B[0mdistilled_parameters\u001B[0m\u001B[0;34m,\u001B[0m\u001B[0;34m\u001B[0m\u001B[0;34m\u001B[0m\u001B[0m\n",
      "\u001B[0;32m~/miniforge3/lib/python3.9/site-packages/sqlalchemy/sql/elements.py\u001B[0m in \u001B[0;36m_execute_on_connection\u001B[0;34m(self, connection, distilled_params, execution_options)\u001B[0m\n\u001B[1;32m    484\u001B[0m             \u001B[0;32mif\u001B[0m \u001B[0mTYPE_CHECKING\u001B[0m\u001B[0;34m:\u001B[0m\u001B[0;34m\u001B[0m\u001B[0;34m\u001B[0m\u001B[0m\n\u001B[1;32m    485\u001B[0m                 \u001B[0;32massert\u001B[0m \u001B[0misinstance\u001B[0m\u001B[0;34m(\u001B[0m\u001B[0mself\u001B[0m\u001B[0;34m,\u001B[0m \u001B[0mExecutable\u001B[0m\u001B[0;34m)\u001B[0m\u001B[0;34m\u001B[0m\u001B[0;34m\u001B[0m\u001B[0m\n\u001B[0;32m--> 486\u001B[0;31m             return connection._execute_clauseelement(\n\u001B[0m\u001B[1;32m    487\u001B[0m                 \u001B[0mself\u001B[0m\u001B[0;34m,\u001B[0m \u001B[0mdistilled_params\u001B[0m\u001B[0;34m,\u001B[0m \u001B[0mexecution_options\u001B[0m\u001B[0;34m\u001B[0m\u001B[0;34m\u001B[0m\u001B[0m\n\u001B[1;32m    488\u001B[0m             )\n",
      "\u001B[0;32m~/miniforge3/lib/python3.9/site-packages/sqlalchemy/engine/base.py\u001B[0m in \u001B[0;36m_execute_clauseelement\u001B[0;34m(self, elem, distilled_parameters, execution_options)\u001B[0m\n\u001B[1;32m   1636\u001B[0m             \u001B[0mlinting\u001B[0m\u001B[0;34m=\u001B[0m\u001B[0mself\u001B[0m\u001B[0;34m.\u001B[0m\u001B[0mdialect\u001B[0m\u001B[0;34m.\u001B[0m\u001B[0mcompiler_linting\u001B[0m \u001B[0;34m|\u001B[0m \u001B[0mcompiler\u001B[0m\u001B[0;34m.\u001B[0m\u001B[0mWARN_LINTING\u001B[0m\u001B[0;34m,\u001B[0m\u001B[0;34m\u001B[0m\u001B[0;34m\u001B[0m\u001B[0m\n\u001B[1;32m   1637\u001B[0m         )\n\u001B[0;32m-> 1638\u001B[0;31m         ret = self._execute_context(\n\u001B[0m\u001B[1;32m   1639\u001B[0m             \u001B[0mdialect\u001B[0m\u001B[0;34m,\u001B[0m\u001B[0;34m\u001B[0m\u001B[0;34m\u001B[0m\u001B[0m\n\u001B[1;32m   1640\u001B[0m             \u001B[0mdialect\u001B[0m\u001B[0;34m.\u001B[0m\u001B[0mexecution_ctx_cls\u001B[0m\u001B[0;34m.\u001B[0m\u001B[0m_init_compiled\u001B[0m\u001B[0;34m,\u001B[0m\u001B[0;34m\u001B[0m\u001B[0;34m\u001B[0m\u001B[0m\n",
      "\u001B[0;32m~/miniforge3/lib/python3.9/site-packages/sqlalchemy/engine/base.py\u001B[0m in \u001B[0;36m_execute_context\u001B[0;34m(self, dialect, constructor, statement, parameters, execution_options, *args, **kw)\u001B[0m\n\u001B[1;32m   1840\u001B[0m             )\n\u001B[1;32m   1841\u001B[0m         \u001B[0;32melse\u001B[0m\u001B[0;34m:\u001B[0m\u001B[0;34m\u001B[0m\u001B[0;34m\u001B[0m\u001B[0m\n\u001B[0;32m-> 1842\u001B[0;31m             return self._exec_single_context(\n\u001B[0m\u001B[1;32m   1843\u001B[0m                 \u001B[0mdialect\u001B[0m\u001B[0;34m,\u001B[0m \u001B[0mcontext\u001B[0m\u001B[0;34m,\u001B[0m \u001B[0mstatement\u001B[0m\u001B[0;34m,\u001B[0m \u001B[0mparameters\u001B[0m\u001B[0;34m\u001B[0m\u001B[0;34m\u001B[0m\u001B[0m\n\u001B[1;32m   1844\u001B[0m             )\n",
      "\u001B[0;32m~/miniforge3/lib/python3.9/site-packages/sqlalchemy/engine/base.py\u001B[0m in \u001B[0;36m_exec_single_context\u001B[0;34m(self, dialect, context, statement, parameters)\u001B[0m\n\u001B[1;32m   1981\u001B[0m \u001B[0;34m\u001B[0m\u001B[0m\n\u001B[1;32m   1982\u001B[0m         \u001B[0;32mexcept\u001B[0m \u001B[0mBaseException\u001B[0m \u001B[0;32mas\u001B[0m \u001B[0me\u001B[0m\u001B[0;34m:\u001B[0m\u001B[0;34m\u001B[0m\u001B[0;34m\u001B[0m\u001B[0m\n\u001B[0;32m-> 1983\u001B[0;31m             self._handle_dbapi_exception(\n\u001B[0m\u001B[1;32m   1984\u001B[0m                 \u001B[0me\u001B[0m\u001B[0;34m,\u001B[0m \u001B[0mstr_statement\u001B[0m\u001B[0;34m,\u001B[0m \u001B[0meffective_parameters\u001B[0m\u001B[0;34m,\u001B[0m \u001B[0mcursor\u001B[0m\u001B[0;34m,\u001B[0m \u001B[0mcontext\u001B[0m\u001B[0;34m\u001B[0m\u001B[0;34m\u001B[0m\u001B[0m\n\u001B[1;32m   1985\u001B[0m             )\n",
      "\u001B[0;32m~/miniforge3/lib/python3.9/site-packages/sqlalchemy/engine/base.py\u001B[0m in \u001B[0;36m_handle_dbapi_exception\u001B[0;34m(self, e, statement, parameters, cursor, context, is_sub_exec)\u001B[0m\n\u001B[1;32m   2324\u001B[0m             \u001B[0;32melif\u001B[0m \u001B[0mshould_wrap\u001B[0m\u001B[0;34m:\u001B[0m\u001B[0;34m\u001B[0m\u001B[0;34m\u001B[0m\u001B[0m\n\u001B[1;32m   2325\u001B[0m                 \u001B[0;32massert\u001B[0m \u001B[0msqlalchemy_exception\u001B[0m \u001B[0;32mis\u001B[0m \u001B[0;32mnot\u001B[0m \u001B[0;32mNone\u001B[0m\u001B[0;34m\u001B[0m\u001B[0;34m\u001B[0m\u001B[0m\n\u001B[0;32m-> 2326\u001B[0;31m                 \u001B[0;32mraise\u001B[0m \u001B[0msqlalchemy_exception\u001B[0m\u001B[0;34m.\u001B[0m\u001B[0mwith_traceback\u001B[0m\u001B[0;34m(\u001B[0m\u001B[0mexc_info\u001B[0m\u001B[0;34m[\u001B[0m\u001B[0;36m2\u001B[0m\u001B[0;34m]\u001B[0m\u001B[0;34m)\u001B[0m \u001B[0;32mfrom\u001B[0m \u001B[0me\u001B[0m\u001B[0;34m\u001B[0m\u001B[0;34m\u001B[0m\u001B[0m\n\u001B[0m\u001B[1;32m   2327\u001B[0m             \u001B[0;32melse\u001B[0m\u001B[0;34m:\u001B[0m\u001B[0;34m\u001B[0m\u001B[0;34m\u001B[0m\u001B[0m\n\u001B[1;32m   2328\u001B[0m                 \u001B[0;32massert\u001B[0m \u001B[0mexc_info\u001B[0m\u001B[0;34m[\u001B[0m\u001B[0;36m1\u001B[0m\u001B[0;34m]\u001B[0m \u001B[0;32mis\u001B[0m \u001B[0;32mnot\u001B[0m \u001B[0;32mNone\u001B[0m\u001B[0;34m\u001B[0m\u001B[0;34m\u001B[0m\u001B[0m\n",
      "\u001B[0;32m~/miniforge3/lib/python3.9/site-packages/sqlalchemy/engine/base.py\u001B[0m in \u001B[0;36m_exec_single_context\u001B[0;34m(self, dialect, context, statement, parameters)\u001B[0m\n\u001B[1;32m   1962\u001B[0m                             \u001B[0;32mbreak\u001B[0m\u001B[0;34m\u001B[0m\u001B[0;34m\u001B[0m\u001B[0m\n\u001B[1;32m   1963\u001B[0m                 \u001B[0;32mif\u001B[0m \u001B[0;32mnot\u001B[0m \u001B[0mevt_handled\u001B[0m\u001B[0;34m:\u001B[0m\u001B[0;34m\u001B[0m\u001B[0;34m\u001B[0m\u001B[0m\n\u001B[0;32m-> 1964\u001B[0;31m                     self.dialect.do_execute(\n\u001B[0m\u001B[1;32m   1965\u001B[0m                         \u001B[0mcursor\u001B[0m\u001B[0;34m,\u001B[0m \u001B[0mstr_statement\u001B[0m\u001B[0;34m,\u001B[0m \u001B[0meffective_parameters\u001B[0m\u001B[0;34m,\u001B[0m \u001B[0mcontext\u001B[0m\u001B[0;34m\u001B[0m\u001B[0;34m\u001B[0m\u001B[0m\n\u001B[1;32m   1966\u001B[0m                     )\n",
      "\u001B[0;32m~/miniforge3/lib/python3.9/site-packages/sqlalchemy/engine/default.py\u001B[0m in \u001B[0;36mdo_execute\u001B[0;34m(self, cursor, statement, parameters, context)\u001B[0m\n\u001B[1;32m    746\u001B[0m \u001B[0;34m\u001B[0m\u001B[0m\n\u001B[1;32m    747\u001B[0m     \u001B[0;32mdef\u001B[0m \u001B[0mdo_execute\u001B[0m\u001B[0;34m(\u001B[0m\u001B[0mself\u001B[0m\u001B[0;34m,\u001B[0m \u001B[0mcursor\u001B[0m\u001B[0;34m,\u001B[0m \u001B[0mstatement\u001B[0m\u001B[0;34m,\u001B[0m \u001B[0mparameters\u001B[0m\u001B[0;34m,\u001B[0m \u001B[0mcontext\u001B[0m\u001B[0;34m=\u001B[0m\u001B[0;32mNone\u001B[0m\u001B[0;34m)\u001B[0m\u001B[0;34m:\u001B[0m\u001B[0;34m\u001B[0m\u001B[0;34m\u001B[0m\u001B[0m\n\u001B[0;32m--> 748\u001B[0;31m         \u001B[0mcursor\u001B[0m\u001B[0;34m.\u001B[0m\u001B[0mexecute\u001B[0m\u001B[0;34m(\u001B[0m\u001B[0mstatement\u001B[0m\u001B[0;34m,\u001B[0m \u001B[0mparameters\u001B[0m\u001B[0;34m)\u001B[0m\u001B[0;34m\u001B[0m\u001B[0;34m\u001B[0m\u001B[0m\n\u001B[0m\u001B[1;32m    749\u001B[0m \u001B[0;34m\u001B[0m\u001B[0m\n\u001B[1;32m    750\u001B[0m     \u001B[0;32mdef\u001B[0m \u001B[0mdo_execute_no_params\u001B[0m\u001B[0;34m(\u001B[0m\u001B[0mself\u001B[0m\u001B[0;34m,\u001B[0m \u001B[0mcursor\u001B[0m\u001B[0;34m,\u001B[0m \u001B[0mstatement\u001B[0m\u001B[0;34m,\u001B[0m \u001B[0mcontext\u001B[0m\u001B[0;34m=\u001B[0m\u001B[0;32mNone\u001B[0m\u001B[0;34m)\u001B[0m\u001B[0;34m:\u001B[0m\u001B[0;34m\u001B[0m\u001B[0;34m\u001B[0m\u001B[0m\n",
      "\u001B[0;31mIntegrityError\u001B[0m: (psycopg2.errors.UniqueViolation) duplicate key value violates unique constraint \"ix_blockchains_name\"\nDETAIL:  Key (name)=(TestBlockchain) already exists.\n\n[SQL: INSERT INTO blockchains (name, block_number) VALUES (%(name)s, %(block_number)s) RETURNING blockchains.id]\n[parameters: {'name': 'TestBlockchain', 'block_number': 0}]\n(Background on this error at: https://sqlalche.me/e/20/gkpj)"
     ]
    }
   ],
   "source": [
    "db_manager = DatabaseManager()\n",
    "\n",
    "\n",
    "blockchain = models.Blockchain(name=\"TestBlockchain\")\n",
    "\n",
    "db_manager.create(blockchain)\n",
    "\n",
    "exchange = models.Exchange(name=\"TestExchange\",\n",
    "                           blockchain_name=\"TestBlockchain\")\n",
    "\n",
    "db_manager.create(exchange)\n"
   ],
   "metadata": {
    "collapsed": false,
    "ExecuteTime": {
     "start_time": "2023-04-26T22:34:43.528683Z",
     "end_time": "2023-04-26T22:34:43.553908Z"
    }
   }
  },
  {
   "cell_type": "code",
   "execution_count": null,
   "outputs": [],
   "source": [
    "# Test add_pool: Test if a pool can be added to the database and if the pool has the correct attributes.\n",
    "pool_manager = PoolManager()\n",
    "pool = models.Pool(id=10000000000,\n",
    "                   cid='1x',\n",
    "                   pair_name=\"Test/Pair\",\n",
    "                   exchange_name=\"TestExchange\",\n",
    "                   last_updated_block=10000000000,\n",
    "                   address=\"0x1234567890abcdef1234567890abcdef12345678\",\n",
    "                   fee=str(0.003))\n",
    "pool_manager.create_pool(pool)\n",
    "\n",
    "db_pool = pool_manager.session.query(models.Pool).filter_by(\n",
    "    exchange_name=pool.exchange_name,\n",
    "    pair_name=pool.pair_name).first()\n",
    "assert db_pool is not None\n",
    "assert db_pool.pair_name == \"Test/Pair\"\n",
    "assert db_pool.exchange_name == \"TestExchange\""
   ],
   "metadata": {
    "collapsed": false,
    "ExecuteTime": {
     "start_time": "2023-04-26T22:34:43.555533Z",
     "end_time": "2023-04-26T22:34:43.582550Z"
    }
   }
  },
  {
   "cell_type": "code",
   "execution_count": null,
   "outputs": [],
   "source": [
    "# Test get_token\n",
    "token = pool_manager.get_pool(address=\"0x1234567890abcdef1234567890abcdef12345678\")\n",
    "assert pool is not None\n",
    "assert pool.pair_name == \"Test/Pair\"\n",
    "assert pool.exchange_name == \"TestExchange\""
   ],
   "metadata": {
    "collapsed": false,
    "ExecuteTime": {
     "start_time": "2023-04-26T22:35:39.522613Z",
     "end_time": "2023-04-26T22:35:39.528243Z"
    }
   }
  },
  {
   "cell_type": "code",
   "execution_count": null,
   "outputs": [],
   "source": [
    "# Test update_pool\n",
    "pool = pool_manager.get_pool(address=\"0x1234567890abcdef1234567890abcdef12345678\")\n",
    "pool_manager.update_pool({\"id\":pool.id, \"address\":\"Updated Test pool\"})\n",
    "\n",
    "updated_pool = pool_manager.get_pool(id=pool.id)\n",
    "assert updated_pool is not None\n",
    "assert updated_pool.address == \"Updated Test pool\""
   ],
   "metadata": {
    "collapsed": false,
    "ExecuteTime": {
     "start_time": "2023-04-26T22:00:36.652434Z",
     "end_time": "2023-04-26T22:00:36.658020Z"
    }
   }
  },
  {
   "cell_type": "code",
   "execution_count": null,
   "outputs": [],
   "source": [
    "# Test delete_pool\n",
    "pool = pool_manager.get_pool(address=\"0x1234567890abcdef1234567890abcdef12345678\")\n",
    "pool_manager.delete_pool(pool)\n",
    "\n",
    "deleted_pool = pool_manager.get_pool(address=\"0x1234567890abcdef1234567890abcdef12345678\")\n",
    "assert deleted_pool is None"
   ],
   "metadata": {
    "collapsed": false,
    "ExecuteTime": {
     "start_time": "2023-04-26T22:00:36.658871Z",
     "end_time": "2023-04-26T22:00:36.675884Z"
    }
   }
  }
 ],
 "metadata": {
  "jupytext": {
   "formats": "ipynb,py:light"
  },
  "kernelspec": {
   "name": "backend-sqlite-39",
   "language": "python",
   "display_name": "Python 3.9 (backend-sqlite-39)"
  },
  "language_info": {
   "codemirror_mode": {
    "name": "ipython",
    "version": 3
   },
   "file_extension": ".py",
   "mimetype": "text/x-python",
   "name": "python",
   "nbconvert_exporter": "python",
   "pygments_lexer": "ipython3",
   "version": "3.9.16"
  }
 },
 "nbformat": 4,
 "nbformat_minor": 5
}

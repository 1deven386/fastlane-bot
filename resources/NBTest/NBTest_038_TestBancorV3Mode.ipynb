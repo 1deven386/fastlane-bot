{
 "cells": [
  {
   "cell_type": "code",
   "execution_count": 1,
   "id": "84fa264b",
   "metadata": {
    "ExecuteTime": {
     "end_time": "2023-07-09T13:54:12.577531Z",
     "start_time": "2023-07-09T13:54:12.514167Z"
    }
   },
   "outputs": [
    {
     "name": "stdout",
     "output_type": "stream",
     "text": [
      "ConstantProductCurve v2.10.1 (07/May/2023)\n",
      "CarbonBot v3-b2.2 (20/June/2023)\n",
      "UniswapV2 v0.0.1 (2023-07-03)\n",
      "UniswapV3 v0.0.1 (2023-07-03)\n",
      "SushiswapV2 v0.0.1 (2023-07-03)\n",
      "CarbonV1 v0.0.1 (2023-07-03)\n",
      "BancorV3 v0.0.1 (2023-07-03)\n",
      "imported m, np, pd, plt, os, sys, decimal; defined iseq, raises, require\n"
     ]
    },
    {
     "name": "stderr",
     "output_type": "stream",
     "text": [
      "C:\\Users\\Kveen\\AppData\\Local\\Temp\\ipykernel_33356\\3226121854.py:27: MatplotlibDeprecationWarning: The seaborn styles shipped by Matplotlib are deprecated since 3.6, as they no longer correspond to the styles shipped by seaborn. However, they will remain available as 'seaborn-v0_8-<style>'. Alternatively, directly use the seaborn API instead.\n",
      "  plt.style.use('seaborn-dark')\n"
     ]
    },
    {
     "name": "stdout",
     "output_type": "stream",
     "text": [
      "Version = 3-b2.2 [requirements >= 3.0 is met]\n"
     ]
    }
   ],
   "source": [
    "# coding=utf-8\n",
    "\"\"\"\n",
    "This module contains the tests for the exchanges classes\n",
    "\"\"\"\n",
    "from fastlane_bot import Bot, Config\n",
    "from fastlane_bot.bot import CarbonBot\n",
    "from fastlane_bot.tools.cpc import ConstantProductCurve\n",
    "from fastlane_bot.tools.cpc import ConstantProductCurve as CPC\n",
    "from fastlane_bot.events.exchanges import UniswapV2, UniswapV3, SushiswapV2, CarbonV1, BancorV3\n",
    "from fastlane_bot.events.interface import QueryInterface\n",
    "from fastlane_bot.helpers.poolandtokens import PoolAndTokens\n",
    "from fastlane_bot.helpers import TradeInstruction, TxReceiptHandler, TxRouteHandler, TxSubmitHandler, TxHelpers, TxHelper\n",
    "from fastlane_bot.events.managers.manager import Manager\n",
    "from fastlane_bot.events.interface import QueryInterface\n",
    "import pytest\n",
    "import math\n",
    "import json\n",
    "print(\"{0.__name__} v{0.__VERSION__} ({0.__DATE__})\".format(CPC))\n",
    "print(\"{0.__name__} v{0.__VERSION__} ({0.__DATE__})\".format(Bot))\n",
    "print(\"{0.__name__} v{0.__VERSION__} ({0.__DATE__})\".format(UniswapV2))\n",
    "print(\"{0.__name__} v{0.__VERSION__} ({0.__DATE__})\".format(UniswapV3))\n",
    "print(\"{0.__name__} v{0.__VERSION__} ({0.__DATE__})\".format(SushiswapV2))\n",
    "print(\"{0.__name__} v{0.__VERSION__} ({0.__DATE__})\".format(CarbonV1))\n",
    "print(\"{0.__name__} v{0.__VERSION__} ({0.__DATE__})\".format(BancorV3))\n",
    "from fastlane_bot.testing import *\n",
    "from fastlane_bot.modes import triangle_single_bancor3\n",
    "plt.style.use('seaborn-dark')\n",
    "plt.rcParams['figure.figsize'] = [12,6]\n",
    "from fastlane_bot import __VERSION__\n",
    "require(\"3.0\", __VERSION__)"
   ]
  },
  {
   "cell_type": "code",
   "execution_count": 2,
   "id": "a51e5ec2",
   "metadata": {
    "ExecuteTime": {
     "end_time": "2023-07-09T13:54:13.771032Z",
     "start_time": "2023-07-09T13:54:12.517536Z"
    }
   },
   "outputs": [],
   "source": [
    "C = cfg = Config.new(config=Config.CONFIG_MAINNET)\n",
    "assert (C.NETWORK == C.NETWORK_MAINNET)\n",
    "assert (C.PROVIDER == C.PROVIDER_ALCHEMY)\n",
    "setup_bot = CarbonBot(ConfigObj=C)"
   ]
  },
  {
   "cell_type": "code",
   "execution_count": 3,
   "id": "a8986ce6",
   "metadata": {
    "ExecuteTime": {
     "end_time": "2023-07-09T13:54:13.815668Z",
     "start_time": "2023-07-09T13:54:13.771735Z"
    }
   },
   "outputs": [],
   "source": [
    "\n",
    "\n",
    "pools = None\n",
    "with open('latest_pool_data_bancor_v3_testing.json') as f:\n",
    "    pools = json.load(f)\n",
    "pools = [pool for pool in pools]"
   ]
  },
  {
   "cell_type": "code",
   "execution_count": 4,
   "id": "b37b1c86",
   "metadata": {
    "ExecuteTime": {
     "end_time": "2023-07-09T13:54:13.818688Z",
     "start_time": "2023-07-09T13:54:13.815923Z"
    }
   },
   "outputs": [],
   "source": [
    "pools[0]\n",
    "static_pools = pools"
   ]
  },
  {
   "cell_type": "code",
   "execution_count": 5,
   "id": "3d52e87d",
   "metadata": {
    "ExecuteTime": {
     "end_time": "2023-07-09T13:54:13.839769Z",
     "start_time": "2023-07-09T13:54:13.823320Z"
    }
   },
   "outputs": [],
   "source": [
    "state = pools\n",
    "exchanges = list({ex['exchange_name'] for ex in state})\n",
    "db = QueryInterface(state=state, ConfigObj=C, exchanges=exchanges)\n",
    "setup_bot.db = db"
   ]
  },
  {
   "cell_type": "code",
   "execution_count": 6,
   "id": "6cc5b472",
   "metadata": {
    "ExecuteTime": {
     "end_time": "2023-07-09T13:54:13.915008Z",
     "start_time": "2023-07-09T13:54:13.849521Z"
    }
   },
   "outputs": [],
   "source": [
    "static_pool_data_filename = \"static_pool_data\"\n",
    "\n",
    "static_pool_data = pd.read_csv(f\"fastlane_bot/data/{static_pool_data_filename}.csv\", low_memory=False)\n",
    "    \n",
    "uniswap_v2_event_mappings = pd.read_csv(\"fastlane_bot/data/uniswap_v2_event_mappings.csv\", low_memory=False)\n",
    "        \n",
    "tokens = pd.read_csv(\"fastlane_bot/data/tokens.csv\", low_memory=False)\n",
    "        \n",
    "exchanges = \"carbon_v1,bancor_v3,uniswap_v3,uniswap_v2,sushiswap_v2\"\n",
    "\n",
    "exchanges = exchanges.split(\",\")\n",
    "arb_mode = \"bancor_v3\"\n",
    "\n",
    "alchemy_max_block_fetch = 20"
   ]
  },
  {
   "cell_type": "code",
   "execution_count": 7,
   "id": "7695b95f",
   "metadata": {
    "ExecuteTime": {
     "end_time": "2023-07-09T13:54:14.061176Z",
     "start_time": "2023-07-09T13:54:13.913015Z"
    }
   },
   "outputs": [],
   "source": [
    "static_pool_data[\"cid\"] = [\n",
    "        cfg.w3.keccak(text=f\"{row['descr']}\").hex()\n",
    "        for index, row in static_pool_data.iterrows()\n",
    "    ]\n"
   ]
  },
  {
   "cell_type": "code",
   "execution_count": 8,
   "id": "4a78f85d",
   "metadata": {
    "ExecuteTime": {
     "end_time": "2023-07-09T13:54:14.320271Z",
     "start_time": "2023-07-09T13:54:14.062220Z"
    },
    "collapsed": false
   },
   "outputs": [],
   "source": [
    "# Filter out pools that are not in the supported exchanges\n",
    "static_pool_data = [\n",
    "    row for index, row in static_pool_data.iterrows()\n",
    "    if row[\"exchange_name\"] in exchanges\n",
    "]\n",
    "\n",
    "static_pool_data = pd.DataFrame(static_pool_data)"
   ]
  },
  {
   "cell_type": "code",
   "execution_count": 9,
   "id": "81cad9f1",
   "metadata": {
    "ExecuteTime": {
     "end_time": "2023-07-09T13:54:14.327195Z",
     "start_time": "2023-07-09T13:54:14.322677Z"
    },
    "collapsed": false
   },
   "outputs": [
    {
     "data": {
      "text/plain": [
       "array(['uniswap_v3', 'bancor_v3', 'uniswap_v2', 'sushiswap_v2'],\n",
       "      dtype=object)"
      ]
     },
     "execution_count": 9,
     "metadata": {},
     "output_type": "execute_result"
    }
   ],
   "source": [
    "static_pool_data['exchange_name'].unique()"
   ]
  },
  {
   "cell_type": "code",
   "execution_count": 10,
   "id": "da422583",
   "metadata": {
    "ExecuteTime": {
     "end_time": "2023-07-09T13:54:14.649580Z",
     "start_time": "2023-07-09T13:54:14.352440Z"
    }
   },
   "outputs": [
    {
     "name": "stderr",
     "output_type": "stream",
     "text": [
      "2023-07-13 15:44:24,862 [fastlane:INFO] - Time taken to add initial pools: 0.09552431106567383\n"
     ]
    }
   ],
   "source": [
    "from joblib import Parallel, delayed\n",
    "\n",
    "# Initialize data fetch manager\n",
    "mgr = Manager(\n",
    "    web3=cfg.w3,\n",
    "    cfg=cfg,\n",
    "    pool_data=static_pool_data.to_dict(orient=\"records\"),\n",
    "    SUPPORTED_EXCHANGES=exchanges,\n",
    "    alchemy_max_block_fetch=alchemy_max_block_fetch,\n",
    "    uniswap_v2_event_mappings=uniswap_v2_event_mappings,\n",
    "    tokens=tokens.to_dict(orient=\"records\"),\n",
    ")\n",
    "\n",
    "# Add initial pools for each row in the static_pool_data\n",
    "start_time = time.time()\n",
    "Parallel(n_jobs=-1, backend=\"threading\")(\n",
    "    delayed(mgr.add_pool_to_exchange)(row) for row in mgr.pool_data\n",
    ")\n",
    "cfg.logger.info(f\"Time taken to add initial pools: {time.time() - start_time}\")\n",
    "\n",
    "# check if any duplicate cid's exist in the pool data\n",
    "mgr.deduplicate_pool_data()\n",
    "cids = [pool[\"cid\"] for pool in mgr.pool_data]\n",
    "assert len(cids) == len(set(cids)), \"duplicate cid's exist in the pool data\""
   ]
  },
  {
   "cell_type": "code",
   "execution_count": 11,
   "id": "c7b0d9e1",
   "metadata": {
    "ExecuteTime": {
     "end_time": "2023-07-09T13:54:14.657376Z",
     "start_time": "2023-07-09T13:54:14.655798Z"
    }
   },
   "outputs": [],
   "source": [
    "def init_bot(mgr: Manager) -> CarbonBot:\n",
    "    \"\"\"\n",
    "    Initializes the bot.\n",
    "\n",
    "    Parameters\n",
    "    ----------\n",
    "    mgr : Manager\n",
    "        The manager object.\n",
    "\n",
    "    Returns\n",
    "    -------\n",
    "    CarbonBot\n",
    "        The bot object.\n",
    "    \"\"\"\n",
    "    mgr.cfg.logger.info(\"Initializing the bot...\")\n",
    "    bot = CarbonBot(ConfigObj=mgr.cfg)\n",
    "    bot.db = db\n",
    "    bot.db.mgr = mgr\n",
    "    assert isinstance(\n",
    "        bot.db, QueryInterface\n",
    "    ), \"QueryInterface not initialized correctly\"\n",
    "    return bot"
   ]
  },
  {
   "cell_type": "code",
   "execution_count": 12,
   "id": "30affd76",
   "metadata": {
    "ExecuteTime": {
     "end_time": "2023-07-09T13:54:14.788568Z",
     "start_time": "2023-07-09T13:54:14.658075Z"
    }
   },
   "outputs": [
    {
     "name": "stderr",
     "output_type": "stream",
     "text": [
      "2023-07-13 15:44:24,902 [fastlane:INFO] - Initializing the bot...\n"
     ]
    }
   ],
   "source": [
    "bot = init_bot(mgr)"
   ]
  },
  {
   "cell_type": "code",
   "execution_count": 13,
   "id": "d838f999",
   "metadata": {
    "ExecuteTime": {
     "end_time": "2023-07-09T13:54:15.109721Z",
     "start_time": "2023-07-09T13:54:14.794835Z"
    },
    "collapsed": false
   },
   "outputs": [
    {
     "name": "stderr",
     "output_type": "stream",
     "text": [
      "2023-07-13 15:44:25,079 [fastlane:INFO] - Removed 3242 unmapped uniswap_v2/sushi pools. 1897 uniswap_v2/sushi pools remaining\n",
      "2023-07-13 15:44:25,080 [fastlane:INFO] - Unmapped uniswap_v2/sushi pools:\n",
      "2023-07-13 15:44:25,248 [fastlane:INFO] - uniswap_v3: 0\n",
      "2023-07-13 15:44:25,249 [fastlane:INFO] - uniswap_v2: 3242\n",
      "2023-07-13 15:44:25,250 [fastlane:INFO] - sushiswap_v2: 0\n",
      "2023-07-13 15:44:25,252 [fastlane:INFO] - uniswap_v3: 636\n",
      "2023-07-13 15:44:25,254 [fastlane:INFO] - sushiswap_v2: 78\n",
      "2023-07-13 15:44:25,255 [fastlane:INFO] - uniswap_v2: 0\n",
      "2023-07-13 15:44:25,256 [fastlane:INFO] - bancor_v2: 0\n",
      "2023-07-13 15:44:25,257 [fastlane:INFO] - bancor_v3: 34\n",
      "2023-07-13 15:44:25,257 [fastlane:INFO] - carbon_v1: 220\n",
      "2023-07-13 15:44:25,280 [fastlane:INFO] - uniswap_v3_zero_liquidity_pools: 858\n",
      "2023-07-13 15:44:25,281 [fastlane:INFO] - sushiswap_v2_zero_liquidity_pools: 34\n",
      "2023-07-13 15:44:25,281 [fastlane:INFO] - uniswap_v2_zero_liquidity_pools: 0\n",
      "2023-07-13 15:44:25,283 [fastlane:INFO] - bancor_v2_zero_liquidity_pools: 0\n",
      "2023-07-13 15:44:25,285 [fastlane:INFO] - bancor_v3_zero_liquidity_pools: 37\n",
      "2023-07-13 15:44:25,285 [fastlane:INFO] - carbon_v1_zero_liquidity_pools: 0\n",
      "2023-07-13 15:44:25,286 [fastlane:INFO] - Removed 0 unsupported exchanges. 968 pools remaining\n",
      "2023-07-13 15:44:25,287 [fastlane:INFO] - Pools remaining per exchange:\n",
      "2023-07-13 15:44:25,287 [fastlane:INFO] - sushiswap_v2: 78\n",
      "2023-07-13 15:44:25,288 [fastlane:INFO] - uniswap_v2: 0\n",
      "2023-07-13 15:44:25,289 [fastlane:INFO] - uniswap_v3: 636\n",
      "2023-07-13 15:44:25,289 [fastlane:INFO] - carbon_v1: 220\n",
      "2023-07-13 15:44:25,290 [fastlane:INFO] - bancor_v3: 34\n"
     ]
    }
   ],
   "source": [
    "# add data cleanup steps from main.py\n",
    "bot.db.handle_token_key_cleanup()\n",
    "bot.db.remove_unmapped_uniswap_v2_pools()\n",
    "bot.db.remove_zero_liquidity_pools()\n",
    "bot.db.remove_unsupported_exchanges()"
   ]
  },
  {
   "cell_type": "code",
   "execution_count": 14,
   "id": "1f5979f7",
   "metadata": {},
   "outputs": [],
   "source": [
    "tokens = bot.db.get_tokens()"
   ]
  },
  {
   "cell_type": "code",
   "execution_count": 15,
   "id": "54ae3201",
   "metadata": {
    "ExecuteTime": {
     "end_time": "2023-07-09T13:54:15.119648Z",
     "start_time": "2023-07-09T13:54:15.112719Z"
    }
   },
   "outputs": [],
   "source": [
    "ADDRDEC = {t.key: (t.address, int(t.decimals)) for t in tokens if not math.isnan(t.decimals)}"
   ]
  },
  {
   "cell_type": "code",
   "execution_count": 16,
   "id": "56b84131",
   "metadata": {
    "ExecuteTime": {
     "end_time": "2023-07-09T13:54:15.158900Z",
     "start_time": "2023-07-09T13:54:15.123724Z"
    }
   },
   "outputs": [],
   "source": [
    "flashloan_tokens = bot.setup_flashloan_tokens([\"BNT-FF1C\"])\n",
    "CCm = bot.setup_CCm(None)"
   ]
  },
  {
   "cell_type": "code",
   "execution_count": 17,
   "id": "79967a49",
   "metadata": {
    "ExecuteTime": {
     "end_time": "2023-07-09T13:54:15.164754Z",
     "start_time": "2023-07-09T13:54:15.137291Z"
    }
   },
   "outputs": [],
   "source": [
    "pools = db.get_pool_data_with_tokens()"
   ]
  },
  {
   "cell_type": "code",
   "execution_count": 18,
   "id": "f729b8dd",
   "metadata": {
    "ExecuteTime": {
     "end_time": "2023-07-09T13:54:15.356070Z",
     "start_time": "2023-07-09T13:54:15.145394Z"
    }
   },
   "outputs": [
    {
     "name": "stderr",
     "output_type": "stream",
     "text": [
      "2023-07-13 15:44:25,416 [fastlane:WARNING] - base_exchange must be bancor_v3 for single_triangle_bancor3, setting it to bancor_v3\n",
      "2023-07-13 15:44:25,417 [fastlane:INFO] - flashloan_tokens for arb_mode=single_triangle_bancor3 will be overwritten. \n",
      "c:\\Users\\Kveen\\PycharmProjects\\carbonbot\\resources\\NBTest\\fastlane_bot\\tools\\optimizer.py:1310: RuntimeWarning: divide by zero encountered in scalar divide\n",
      "  price = get(p, tokens_ix.get(tknb)) / get(p, tokens_ix.get(tknq))\n",
      "c:\\Users\\Kveen\\PycharmProjects\\carbonbot\\resources\\NBTest\\fastlane_bot\\tools\\optimizer.py:1157: RuntimeWarning: invalid value encountered in subtract\n",
      "  jac[:, j] = (func(x_plus) - y) / Dxj\n",
      "c:\\Users\\Kveen\\PycharmProjects\\carbonbot\\resources\\NBTest\\fastlane_bot\\tools\\optimizer.py:1310: RuntimeWarning: divide by zero encountered in scalar divide\n",
      "  price = get(p, tokens_ix.get(tknb)) / get(p, tokens_ix.get(tknq))\n",
      "c:\\Users\\Kveen\\PycharmProjects\\carbonbot\\resources\\NBTest\\fastlane_bot\\tools\\optimizer.py:1157: RuntimeWarning: invalid value encountered in subtract\n",
      "  jac[:, j] = (func(x_plus) - y) / Dxj\n",
      "c:\\Users\\Kveen\\PycharmProjects\\carbonbot\\resources\\NBTest\\fastlane_bot\\tools\\optimizer.py:1310: RuntimeWarning: divide by zero encountered in scalar divide\n",
      "  price = get(p, tokens_ix.get(tknb)) / get(p, tokens_ix.get(tknq))\n",
      "c:\\Users\\Kveen\\PycharmProjects\\carbonbot\\resources\\NBTest\\fastlane_bot\\tools\\optimizer.py:1157: RuntimeWarning: invalid value encountered in subtract\n",
      "  jac[:, j] = (func(x_plus) - y) / Dxj\n",
      "c:\\Users\\Kveen\\PycharmProjects\\carbonbot\\resources\\NBTest\\fastlane_bot\\tools\\optimizer.py:1310: RuntimeWarning: divide by zero encountered in scalar divide\n",
      "  price = get(p, tokens_ix.get(tknb)) / get(p, tokens_ix.get(tknq))\n",
      "c:\\Users\\Kveen\\PycharmProjects\\carbonbot\\resources\\NBTest\\fastlane_bot\\tools\\optimizer.py:1157: RuntimeWarning: invalid value encountered in subtract\n",
      "  jac[:, j] = (func(x_plus) - y) / Dxj\n",
      "2023-07-13 15:44:26,034 [fastlane:INFO] - No eligible arb opportunities.\n"
     ]
    }
   ],
   "source": [
    "single = bot._run(flashloan_tokens=flashloan_tokens, CCm=CCm, arb_mode=arb_mode, data_validator=False, result=\"calc_trade_instr\")"
   ]
  },
  {
   "cell_type": "code",
   "execution_count": 19,
   "id": "aaaf7423",
   "metadata": {
    "ExecuteTime": {
     "end_time": "2023-07-09T13:54:15.356301Z",
     "start_time": "2023-07-09T13:54:15.352256Z"
    }
   },
   "outputs": [],
   "source": [
    "arb_finder = bot._get_arb_finder(\"bancor_v3\")"
   ]
  },
  {
   "cell_type": "code",
   "execution_count": 20,
   "id": "48e2f5a1",
   "metadata": {},
   "outputs": [],
   "source": [
    "finder = arb_finder(\n",
    "            flashloan_tokens=flashloan_tokens,\n",
    "            CCm=CCm,\n",
    "            mode=\"bothin\",\n",
    "            result=False,\n",
    "            ConfigObj=bot.ConfigObj,\n",
    "        )"
   ]
  },
  {
   "cell_type": "code",
   "execution_count": 21,
   "id": "63ea14a3",
   "metadata": {},
   "outputs": [
    {
     "name": "stderr",
     "output_type": "stream",
     "text": [
      "2023-07-13 15:44:26,071 [fastlane:WARNING] - base_exchange must be bancor_v3 for single_triangle_bancor3, setting it to bancor_v3\n",
      "2023-07-13 15:44:26,071 [fastlane:INFO] - flashloan_tokens for arb_mode=single_triangle_bancor3 will be overwritten. \n",
      "c:\\Users\\Kveen\\PycharmProjects\\carbonbot\\resources\\NBTest\\fastlane_bot\\tools\\optimizer.py:1310: RuntimeWarning: divide by zero encountered in scalar divide\n",
      "  price = get(p, tokens_ix.get(tknb)) / get(p, tokens_ix.get(tknq))\n",
      "c:\\Users\\Kveen\\PycharmProjects\\carbonbot\\resources\\NBTest\\fastlane_bot\\tools\\optimizer.py:1157: RuntimeWarning: invalid value encountered in subtract\n",
      "  jac[:, j] = (func(x_plus) - y) / Dxj\n",
      "c:\\Users\\Kveen\\PycharmProjects\\carbonbot\\resources\\NBTest\\fastlane_bot\\tools\\optimizer.py:1310: RuntimeWarning: divide by zero encountered in scalar divide\n",
      "  price = get(p, tokens_ix.get(tknb)) / get(p, tokens_ix.get(tknq))\n",
      "c:\\Users\\Kveen\\PycharmProjects\\carbonbot\\resources\\NBTest\\fastlane_bot\\tools\\optimizer.py:1157: RuntimeWarning: invalid value encountered in subtract\n",
      "  jac[:, j] = (func(x_plus) - y) / Dxj\n",
      "c:\\Users\\Kveen\\PycharmProjects\\carbonbot\\resources\\NBTest\\fastlane_bot\\tools\\optimizer.py:1310: RuntimeWarning: divide by zero encountered in scalar divide\n",
      "  price = get(p, tokens_ix.get(tknb)) / get(p, tokens_ix.get(tknq))\n",
      "c:\\Users\\Kveen\\PycharmProjects\\carbonbot\\resources\\NBTest\\fastlane_bot\\tools\\optimizer.py:1157: RuntimeWarning: invalid value encountered in subtract\n",
      "  jac[:, j] = (func(x_plus) - y) / Dxj\n",
      "c:\\Users\\Kveen\\PycharmProjects\\carbonbot\\resources\\NBTest\\fastlane_bot\\tools\\optimizer.py:1310: RuntimeWarning: divide by zero encountered in scalar divide\n",
      "  price = get(p, tokens_ix.get(tknb)) / get(p, tokens_ix.get(tknq))\n",
      "c:\\Users\\Kveen\\PycharmProjects\\carbonbot\\resources\\NBTest\\fastlane_bot\\tools\\optimizer.py:1157: RuntimeWarning: invalid value encountered in subtract\n",
      "  jac[:, j] = (func(x_plus) - y) / Dxj\n"
     ]
    }
   ],
   "source": [
    "r = finder.find_arbitrage()"
   ]
  },
  {
   "cell_type": "code",
   "execution_count": 22,
   "id": "f2bbcc6b",
   "metadata": {},
   "outputs": [
    {
     "name": "stdout",
     "output_type": "stream",
     "text": [
      "5\n"
     ]
    }
   ],
   "source": [
    "print(len(r))"
   ]
  },
  {
   "cell_type": "code",
   "execution_count": 23,
   "id": "8c045cc7",
   "metadata": {},
   "outputs": [],
   "source": [
    "(\n",
    "            best_profit,\n",
    "            best_trade_instructions_df,\n",
    "            best_trade_instructions_dic,\n",
    "            best_src_token,\n",
    "            best_trade_instructions,\n",
    "        ) = r"
   ]
  },
  {
   "cell_type": "code",
   "execution_count": 25,
   "id": "b74fe36f",
   "metadata": {},
   "outputs": [],
   "source": [
    "(\n",
    "ordered_trade_instructions_dct,\n",
    "tx_in_count,\n",
    ") = bot._simple_ordering_by_src_token(\n",
    "best_trade_instructions_dic, best_src_token\n",
    ")"
   ]
  },
  {
   "cell_type": "code",
   "execution_count": 26,
   "id": "d99f5934",
   "metadata": {},
   "outputs": [],
   "source": [
    "pool_cids = [curve['cid'] for curve in ordered_trade_instructions_dct]"
   ]
  },
  {
   "cell_type": "code",
   "execution_count": 27,
   "id": "b50881ba",
   "metadata": {},
   "outputs": [],
   "source": [
    "first_check_pools = finder.get_exact_pools(pool_cids)"
   ]
  },
  {
   "cell_type": "code",
   "execution_count": 28,
   "id": "de4720f9",
   "metadata": {},
   "outputs": [
    {
     "data": {
      "text/plain": [
       "[ConstantProductCurve(k=14219223533092.309, x=14945274.66925332, x_act=14945274.66925332, y_act=951419.351451954, pair='BNT-FF1C/LINK-86CA', cid='0x221a61aaf35ba8ca83dc227742b7e1ab7ea9ca75a4db843b27da6c367d694311', fee=0.0, descr='bancor_v3 BNT-FF1C/LINK-86CA 0.000', constr='uv2', params={'exchange': 'bancor_v3', 'tknx_dec': 18, 'tkny_dec': 18, 'tknx_addr': '0x1F573D6Fb3F13d689FF844B4cE37794d79a7FF1C', 'tkny_addr': '0x514910771AF9Ca656af840dff83E8264EcF986CA', 'blocklud': 17674416}),\n",
       " ConstantProductCurve(k=679511874103.592, x=330089.83031239477, x_act=315.2013455032138, y_act=4204.436000232352, pair='LINK-86CA/USDC-eB48', cid='0x2f7a9821444c1a975631ac55a1aee5360da436100cc9af2e5010397eb78a6b7c', fee=0.003, descr='uniswap_v3 LINK-86CA/USDC-eB48 3000', constr='pkpp', params={'exchange': 'uniswap_v3', 'tknx_dec': 18, 'tkny_dec': 6, 'tknx_addr': '0x514910771AF9Ca656af840dff83E8264EcF986CA', 'tkny_addr': '0xA0b86991c6218b36c1d19D4a2e9Eb0cE3606eB48', 'blocklud': 17675270, 'L': 824325.1021918427}),\n",
       " ConstantProductCurve(k=2921753567467.803, x=2725450.9504520404, x_act=2725450.9504520404, y_act=1072025.73834, pair='BNT-FF1C/USDC-eB48', cid='0xc4771395e1389e2e3a12ec22efbb7aff5b1c04e5ce9c7596a82e9dc8fdec725b', fee=0.0, descr='bancor_v3 BNT-FF1C/USDC-eB48 0.000', constr='uv2', params={'exchange': 'bancor_v3', 'tknx_dec': 18, 'tkny_dec': 6, 'tknx_addr': '0x1F573D6Fb3F13d689FF844B4cE37794d79a7FF1C', 'tkny_addr': '0xA0b86991c6218b36c1d19D4a2e9Eb0cE3606eB48', 'blocklud': 17674416})]"
      ]
     },
     "execution_count": 28,
     "metadata": {},
     "output_type": "execute_result"
    }
   ],
   "source": [
    "first_check_pools"
   ]
  },
  {
   "cell_type": "code",
   "execution_count": 29,
   "id": "0fd2781b",
   "metadata": {},
   "outputs": [],
   "source": [
    "assert(len(first_check_pools) == 3), f\"[test_bancor_v3] Validation expected 3 pools, got {len(first_check_pools)}\"\n",
    "for pool in first_check_pools:\n",
    "    assert type(pool) == ConstantProductCurve, f\"[test_bancor_v3] Validation pool type mismatch, got {type(pool)} expected ConstantProductCurve\"\n",
    "    assert pool.cid in pool_cids, f\"[test_bancor_v3] Validation missing pool.cid {pool.cid} in {pool_cids}\"\n"
   ]
  },
  {
   "cell_type": "code",
   "execution_count": 30,
   "id": "b4e7871a",
   "metadata": {},
   "outputs": [
    {
     "name": "stdout",
     "output_type": "stream",
     "text": [
      "5003.2368760578265\n"
     ]
    }
   ],
   "source": [
    "optimal_arb = finder.get_optimal_arb_trade_amts(pool_cids, flashloan_tokens[0])\n",
    "assert type(optimal_arb) == float, f\"[test_bancor_v3] Optimal arb calculation type is {type(optimal_arb)} not float\"\n",
    "assert iseq(optimal_arb, 5003.2368760578265), f\"[test_bancor_v3] Optimal arb calculation type is {optimal_arb}, expected 5003.2368760578265\"\n"
   ]
  },
  {
   "cell_type": "code",
   "execution_count": 31,
   "id": "00237dad",
   "metadata": {},
   "outputs": [],
   "source": [
    "flt='BNT-FF1C'\n",
    "\n",
    "tkn0 = finder.get_tkn(pool=first_check_pools[0], tkn_num=0)\n",
    "tkn1 = finder.get_tkn(pool=first_check_pools[0], tkn_num=1)\n",
    "tkn2 = finder.get_tkn(pool=first_check_pools[1], tkn_num=0)\n",
    "tkn5 = finder.get_tkn(pool=first_check_pools[2], tkn_num=0)\n",
    "p0t0 = first_check_pools[0].x_act if tkn0 == flt else first_check_pools[0].y_act\n",
    "p0t1 = first_check_pools[0].y_act if tkn0 == flt else first_check_pools[0].x_act\n",
    "p2t1 = first_check_pools[2].x_act if tkn5 == flt else first_check_pools[2].y_act\n",
    "p2t0 = first_check_pools[2].y_act if tkn5 == flt else first_check_pools[2].x_act\n",
    "p1t0 = first_check_pools[1].x if tkn1 == tkn2 else first_check_pools[1].y\n",
    "p1t1 = first_check_pools[1].y if tkn1 == tkn2 else first_check_pools[1].x\n",
    "fee1 = finder.get_fee_safe(first_check_pools[1].fee)"
   ]
  },
  {
   "cell_type": "code",
   "execution_count": 32,
   "id": "6ee7b05e",
   "metadata": {},
   "outputs": [],
   "source": [
    "optimal_arb_low_level_check = finder.max_arb_trade_in_constant_product(p0t0=p0t0, p0t1=p0t1, p1t0=p1t0, p1t1=p1t1, p2t0=p2t0, p2t1=p2t1,fee0=0, fee1=fee1, fee2=0)\n",
    "assert iseq(optimal_arb, optimal_arb_low_level_check), f\"[test_bancor_v3] Arb calculation result mismatch, pools likely ordered incorrectly\""
   ]
  },
  {
   "cell_type": "code",
   "execution_count": 33,
   "id": "f34d63cc",
   "metadata": {},
   "outputs": [],
   "source": [
    "ext_fee = finder.get_fee_safe(first_check_pools[1].fee)\n",
    "assert type(ext_fee) == float, f\"[test_bancor_v3] Testing external pool, fee type is {type(ext_fee)} not float\"\n",
    "assert iseq(ext_fee, 0.003), f\"[test_bancor_v3] Testing external pool, fee amt is {ext_fee} not 0.003\""
   ]
  },
  {
   "cell_type": "code",
   "execution_count": 34,
   "id": "2bf7877c",
   "metadata": {},
   "outputs": [],
   "source": [
    "flt = {'MKR-79A2', 'TRAC-0A6F', 'MONA-412A', 'WBTC-C599', 'WOO-5D4B', 'MATIC-eBB0', 'BAT-87EF', 'UOS-5C8c', 'LRC-EafD', 'NMR-6671', 'DIP-cD83', 'TEMP-1aB9', 'ICHI-A881', 'USDC-eB48', 'ENS-9D72', 'vBNT-7f94', 'ANKR-EDD4', 'UNI-F984', 'REQ-938a', 'WETH-6Cc2', 'AAVE-DaE9', 'ENJ-3B9c', 'MANA-C942', 'wNXM-2bDE', 'QNT-4675', 'RLC-7375', 'CROWN-E0fa', 'CHZ-b4AF', 'USDT-1ec7', 'DAI-1d0F', 'RPL-A51f', 'HOT-26E2', 'LINK-86CA', 'wstETH-2Ca0'}"
   ]
  },
  {
   "cell_type": "code",
   "execution_count": 35,
   "id": "ff6b288d",
   "metadata": {},
   "outputs": [],
   "source": [
    "combos = finder.get_combos(flashloan_tokens=flt, CCm=CCm, arb_mode=\"bancor_v3\")"
   ]
  },
  {
   "cell_type": "code",
   "execution_count": 36,
   "id": "cf8fc76d",
   "metadata": {},
   "outputs": [],
   "source": [
    "assert len(combos) == 1122, \"[test_bancor_v3] Different data used for tests, expected 1122 combos\""
   ]
  },
  {
   "cell_type": "code",
   "execution_count": 37,
   "id": "cfec84c5",
   "metadata": {},
   "outputs": [],
   "source": [
    "all_miniverses = finder.get_miniverse_combos(combos)"
   ]
  },
  {
   "cell_type": "code",
   "execution_count": 38,
   "id": "5322f4fa",
   "metadata": {},
   "outputs": [],
   "source": [
    "assert len(all_miniverses) == 146, \"[test_bancor_v3] Different data used for tests, expected 146 miniverses\""
   ]
  },
  {
   "cell_type": "code",
   "execution_count": 39,
   "id": "5bee8956",
   "metadata": {},
   "outputs": [],
   "source": [
    "bancor_v3_curve_0 = (\n",
    "                finder.CCm.bypairs(f\"BNT-FF1C/WETH-6Cc2\")\n",
    "                .byparams(exchange=\"bancor_v3\")\n",
    "                .curves\n",
    "            )\n",
    "bancor_v3_curve_1 = (\n",
    "                finder.CCm.bypairs(f\"BNT-FF1C/USDC-eB48\")\n",
    "                .byparams(exchange=\"bancor_v3\")\n",
    "                .curves\n",
    "            )"
   ]
  },
  {
   "cell_type": "code",
   "execution_count": 40,
   "id": "5bd608d7",
   "metadata": {},
   "outputs": [],
   "source": [
    "carbon_curves = finder.CCm.bypairs(f\"USDC-eB48/WETH-6Cc2\")\n",
    "carbon_curves = list(set(carbon_curves))\n",
    "carbon_curves = [\n",
    "    curve\n",
    "    for curve in carbon_curves\n",
    "    if curve.params.get(\"exchange\") == \"carbon_v1\"\n",
    "]"
   ]
  },
  {
   "cell_type": "code",
   "execution_count": 41,
   "id": "f1b91fd2",
   "metadata": {},
   "outputs": [],
   "source": [
    "miniverse = [bancor_v3_curve_0 + bancor_v3_curve_1 + carbon_curves]"
   ]
  },
  {
   "cell_type": "code",
   "execution_count": 42,
   "id": "952003bf",
   "metadata": {},
   "outputs": [],
   "source": [
    "max_arb_carbon = finder.run_main_flow(miniverse=miniverse[0], src_token=\"BNT-FF1C\")"
   ]
  },
  {
   "cell_type": "code",
   "execution_count": 43,
   "id": "4c65e617",
   "metadata": {},
   "outputs": [],
   "source": [
    "(\n",
    "profit_src_0,\n",
    "trade_instructions_0,\n",
    "trade_instructions_df_0,\n",
    "trade_instructions_dic_0,\n",
    ") = max_arb_carbon"
   ]
  },
  {
   "cell_type": "code",
   "execution_count": 44,
   "id": "8de2d725",
   "metadata": {},
   "outputs": [],
   "source": [
    "mono_carbon = finder.get_mono_direction_carbon_curves(miniverse[0], trade_instructions_df=trade_instructions_df_0, token_in=None)"
   ]
  },
  {
   "cell_type": "code",
   "execution_count": 45,
   "id": "28aac402",
   "metadata": {},
   "outputs": [],
   "source": [
    "test_mono_carbon = finder.get_mono_direction_carbon_curves(miniverse[0], trade_instructions_df=trade_instructions_df_0, token_in='WETH-6Cc2')"
   ]
  },
  {
   "cell_type": "code",
   "execution_count": 46,
   "id": "b2fd4913",
   "metadata": {},
   "outputs": [],
   "source": [
    "# Test that get_mono_direction_carbon_curves removed two curves\n",
    "assert len(test_mono_carbon) != len(mono_carbon), f\"[test_bancor_v3] Issue with get_mono_direction_carbon_curves, should have removed one or more pools\""
   ]
  },
  {
   "cell_type": "code",
   "execution_count": null,
   "id": "7a1be85d",
   "metadata": {},
   "outputs": [],
   "source": []
  }
 ],
 "metadata": {
  "kernelspec": {
   "display_name": "Python 3 (ipykernel)",
   "language": "python",
   "name": "python3"
  },
  "language_info": {
   "codemirror_mode": {
    "name": "ipython",
    "version": 3
   },
   "file_extension": ".py",
   "mimetype": "text/x-python",
   "name": "python",
   "nbconvert_exporter": "python",
   "pygments_lexer": "ipython3",
   "version": "3.10.1"
  }
 },
 "nbformat": 4,
 "nbformat_minor": 5
}

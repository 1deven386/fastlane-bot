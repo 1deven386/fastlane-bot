{
 "cells": [
  {
   "cell_type": "code",
   "execution_count": 1,
   "id": "initial_id",
   "metadata": {
    "ExecuteTime": {
     "end_time": "2023-12-06T14:35:56.839432Z",
     "start_time": "2023-12-06T14:35:55.592653Z"
    }
   },
   "outputs": [
    {
     "name": "stderr",
     "output_type": "stream",
     "text": [
      "Python-dotenv could not parse statement starting at line 3\n",
      "Python-dotenv could not parse statement starting at line 4\n",
      "Python-dotenv could not parse statement starting at line 5\n",
      "Python-dotenv could not parse statement starting at line 6\n",
      "Python-dotenv could not parse statement starting at line 3\n",
      "Python-dotenv could not parse statement starting at line 4\n",
      "Python-dotenv could not parse statement starting at line 5\n",
      "Python-dotenv could not parse statement starting at line 6\n",
      "Python-dotenv could not parse statement starting at line 3\n",
      "Python-dotenv could not parse statement starting at line 4\n",
      "Python-dotenv could not parse statement starting at line 5\n",
      "Python-dotenv could not parse statement starting at line 6\n",
      "Python-dotenv could not parse statement starting at line 3\n",
      "Python-dotenv could not parse statement starting at line 4\n",
      "Python-dotenv could not parse statement starting at line 5\n",
      "Python-dotenv could not parse statement starting at line 6\n",
      "Python-dotenv could not parse statement starting at line 3\n",
      "Python-dotenv could not parse statement starting at line 4\n",
      "Python-dotenv could not parse statement starting at line 5\n",
      "Python-dotenv could not parse statement starting at line 6\n",
      "Python-dotenv could not parse statement starting at line 3\n",
      "Python-dotenv could not parse statement starting at line 4\n",
      "Python-dotenv could not parse statement starting at line 5\n",
      "Python-dotenv could not parse statement starting at line 6\n"
     ]
    },
    {
     "name": "stdout",
     "output_type": "stream",
     "text": [
      "ConstantProductCurve v3.3.1 (05/Oct/2023)\n",
      "CarbonBot v3-b2.2 (20/June/2023)\n",
      "UniswapV2 v0.0.2 (2023-08-27)\n",
      "UniswapV3 v0.0.2 (2023-08-27)\n",
      "SushiswapV2 v0.0.2 (2023-08-27)\n",
      "CarbonV1 v0.0.2 (2023-08-27)\n",
      "BancorV3 v0.0.2 (2023-08-27)\n",
      "imported m, np, pd, plt, os, sys, decimal; defined iseq, raises, require\n",
      "Version = 3-b2.2 [requirements >= 3.0 is met]\n"
     ]
    }
   ],
   "source": [
    "# coding=utf-8\n",
    "\"\"\"\n",
    "This module contains the tests which ensure the target_tokens parameter is respected.\n",
    "\"\"\"\n",
    "from fastlane_bot import Bot\n",
    "from fastlane_bot.tools.cpc import ConstantProductCurve as CPC\n",
    "from fastlane_bot.events.exchanges import UniswapV2, UniswapV3, SushiswapV2, CarbonV1, BancorV3\n",
    "import subprocess, os, sys\n",
    "import pytest\n",
    "print(\"{0.__name__} v{0.__VERSION__} ({0.__DATE__})\".format(CPC))\n",
    "print(\"{0.__name__} v{0.__VERSION__} ({0.__DATE__})\".format(Bot))\n",
    "print(\"{0.__name__} v{0.__VERSION__} ({0.__DATE__})\".format(UniswapV2))\n",
    "print(\"{0.__name__} v{0.__VERSION__} ({0.__DATE__})\".format(UniswapV3))\n",
    "print(\"{0.__name__} v{0.__VERSION__} ({0.__DATE__})\".format(SushiswapV2))\n",
    "print(\"{0.__name__} v{0.__VERSION__} ({0.__DATE__})\".format(CarbonV1))\n",
    "print(\"{0.__name__} v{0.__VERSION__} ({0.__DATE__})\".format(BancorV3))\n",
    "from fastlane_bot.testing import *\n",
    "plt.rcParams['figure.figsize'] = [12,6]\n",
    "from fastlane_bot import __VERSION__\n",
    "require(\"3.0\", __VERSION__)"
   ]
  },
  {
   "cell_type": "markdown",
   "id": "dfafc69730cbead3",
   "metadata": {},
   "source": [
    "# Setup"
   ]
  },
  {
   "cell_type": "code",
   "execution_count": 2,
   "id": "1640a40ee6ae871c",
   "metadata": {
    "ExecuteTime": {
     "end_time": "2023-12-06T14:35:56.843644Z",
     "start_time": "2023-12-06T14:35:56.842645Z"
    }
   },
   "outputs": [],
   "source": [
    "from fastlane_bot.tools.cpc import T\n",
    "\n",
    "\n",
    "def find_main_py():\n",
    "    # Start at the directory of the current script\n",
    "    cwd = os.path.abspath(os.path.join(os.getcwd()))\n",
    "    \n",
    "    with open(\"log.txt\", \"w\") as f:\n",
    "        f.write(f\"Searching for main.py in {cwd}\")\n",
    "                \n",
    "    print(f\"Searching for main.py in {cwd}\")\n",
    "    while True:\n",
    "        # Check if main.py exists in the current directory\n",
    "        if \"main.py\" in os.listdir(cwd):\n",
    "            return cwd  # Found the directory containing main.py\n",
    "        else:\n",
    "            # If not, go up one directory\n",
    "            new_cwd = os.path.dirname(cwd)\n",
    "\n",
    "            # If we're already at the root directory, stop searching\n",
    "            if new_cwd == cwd:\n",
    "                raise FileNotFoundError(\"Could not find main.py in any parent directory\")\n",
    "\n",
    "            cwd = new_cwd\n",
    "       \n",
    "       \n",
    "def run_command(mode):\n",
    "    \n",
    "    # Find the correct path to main.py\n",
    "    main_script_path = find_main_py()\n",
    "    print(f\"Found main.py in {main_script_path}\")\n",
    "    main_script_path = main_script_path + \"/main.py\"\n",
    "\n",
    "    # Run the command\n",
    "    cmd = [\n",
    "        \"python\",\n",
    "        main_script_path,\n",
    "        f\"--arb_mode={mode}\",\n",
    "        # \"--use_cached_events=True\",\n",
    "        \"--alchemy_max_block_fetch=5\",\n",
    "        \"--logging_path=fastlane_bot/data/\",\n",
    "        \"--timeout=80\",\n",
    "        f\"--target_tokens={T.WETH},{T.DAI}\",\n",
    "        \"--blockchain=ethereum\"\n",
    "    ]\n",
    "    subprocess.Popen(cmd)\n",
    "        \n",
    "    # Wait for the expected log line to appear\n",
    "    expected_log_line = \"Limiting pools by target_tokens. Removed \"\n",
    "    found = False\n",
    "    result = subprocess.run(cmd, text=True, capture_output=True, check=True, timeout=120)\n",
    "\n",
    "    # Check if the expected log line is in the output\n",
    "    if expected_log_line in result.stderr:\n",
    "        found = True\n",
    "\n",
    "    if not found:\n",
    "        pytest.fail(\"Expected log line was not found within 1 minute\")  # If we reach this point, the test has failed"
   ]
  },
  {
   "cell_type": "markdown",
   "id": "614f482aec4be2f8",
   "metadata": {},
   "source": [
    "## Test Flashloan Tokens b3_two_hop"
   ]
  },
  {
   "cell_type": "code",
   "execution_count": null,
   "id": "c6e198d0eeba3183",
   "metadata": {
    "ExecuteTime": {
     "start_time": "2023-12-06T14:35:56.844246Z"
    },
    "is_executing": true
   },
   "outputs": [
    {
     "name": "stdout",
     "output_type": "stream",
     "text": [
      "Searching for main.py in /Users/mikewcasale/Documents/GitHub/bancor/fastlane-bot/resources/NBTest\n",
      "Found main.py in /Users/mikewcasale/Documents/GitHub/bancor/fastlane-bot\n"
     ]
    },
    {
     "name": "stderr",
     "output_type": "stream",
     "text": [
      "Python-dotenv could not parse statement starting at line 3\n",
      "Python-dotenv could not parse statement starting at line 4\n",
      "Python-dotenv could not parse statement starting at line 5\n",
      "Python-dotenv could not parse statement starting at line 6\n",
      "Python-dotenv could not parse statement starting at line 3\n",
      "Python-dotenv could not parse statement starting at line 4\n",
      "Python-dotenv could not parse statement starting at line 5\n",
      "Python-dotenv could not parse statement starting at line 6\n",
      "Python-dotenv could not parse statement starting at line 3\n",
      "Python-dotenv could not parse statement starting at line 4\n",
      "Python-dotenv could not parse statement starting at line 5\n",
      "Python-dotenv could not parse statement starting at line 6\n",
      "Python-dotenv could not parse statement starting at line 3\n",
      "Python-dotenv could not parse statement starting at line 4\n",
      "Python-dotenv could not parse statement starting at line 5\n",
      "Python-dotenv could not parse statement starting at line 6\n",
      "Python-dotenv could not parse statement starting at line 3\n",
      "Python-dotenv could not parse statement starting at line 4\n",
      "Python-dotenv could not parse statement starting at line 5\n",
      "Python-dotenv could not parse statement starting at line 6\n",
      "Python-dotenv could not parse statement starting at line 3\n",
      "Python-dotenv could not parse statement starting at line 4\n",
      "Python-dotenv could not parse statement starting at line 5\n",
      "Python-dotenv could not parse statement starting at line 6\n",
      "Python-dotenv could not parse statement starting at line 3\n",
      "Python-dotenv could not parse statement starting at line 4\n",
      "Python-dotenv could not parse statement starting at line 5\n",
      "Python-dotenv could not parse statement starting at line 6\n",
      "Python-dotenv could not parse statement starting at line 3\n",
      "Python-dotenv could not parse statement starting at line 4\n",
      "Python-dotenv could not parse statement starting at line 5\n",
      "Python-dotenv could not parse statement starting at line 6\n",
      "2023-12-06 06:35:58,090 [fastlane:INFO] - \n",
      "2023-12-06 06:35:58,090 [fastlane:INFO] - **********************************************\n",
      "2023-12-06 06:35:58,090 [fastlane:INFO] - The logging path is set to: fastlane_bot/data//logs/20231206-063558/bot.log\n",
      "2023-12-06 06:35:58,090 [fastlane:INFO] - **********************************************\n",
      "2023-12-06 06:35:58,090 [fastlane:INFO] - \n",
      "2023-12-06 06:35:59,120 [fastlane:INFO] - Using mainnet config\n",
      "2023-12-06 06:35:59,142 [fastlane:INFO] - tokens: 22233, USDC-eB48\n",
      "2023-12-06 06:35:59,143 [fastlane:INFO] - unique_tokens: 22233\n",
      "2023-12-06 06:35:59,150 [fastlane:INFO] - Flashloan tokens are set as: ['BNT-FF1C', 'WETH-6Cc2', 'USDC-eB48', 'USDT-1ec7', 'LINK-86CA'], <class 'list'>\n",
      "2023-12-06 06:35:59,150 [fastlane:WARNING] - Flashloan token BNT-FF1C not in target tokens. Adding it to target tokens.\n",
      "2023-12-06 06:35:59,150 [fastlane:WARNING] - Flashloan token USDC-eB48 not in target tokens. Adding it to target tokens.\n",
      "2023-12-06 06:35:59,150 [fastlane:WARNING] - Flashloan token USDT-1ec7 not in target tokens. Adding it to target tokens.\n",
      "2023-12-06 06:35:59,150 [fastlane:WARNING] - Flashloan token LINK-86CA not in target tokens. Adding it to target tokens.\n",
      "2023-12-06 06:35:59,150 [fastlane:INFO] - Target tokens are set as: ['WETH-6Cc2', 'DAI-1d0F', 'BNT-FF1C', 'USDC-eB48', 'USDT-1ec7', 'LINK-86CA'], <class 'list'>\n",
      "2023-12-06 06:35:59,150 [fastlane:INFO] - Running data fetching for exchanges: ['carbon_v1', 'bancor_v3', 'bancor_v2', 'bancor_pol', 'uniswap_v3', 'uniswap_v2', 'sushiswap_v2', 'balancer', 'pancakeswap_v2', 'pancakeswap_v3']\n",
      "2023-12-06 06:35:59,150 [fastlane:INFO] - \n",
      "        +++++++++++++++++++++++++++++++++++++++++++++++++++++++++++++++++++++++++++++++++++++++++++++++\n",
      "        +++++++++++++++++++++++++++++++++++++++++++++++++++++++++++++++++++++++++++++++++++++++++++++++\n",
      "        \n",
      "        Starting fastlane bot with the following configuration:\n",
      "        \n",
      "        logging_path: fastlane_bot/data/logs/20231206-063558\n",
      "        arb_mode: single\n",
      "        blockchain: ethereum\n",
      "        default_min_profit_gas_token: 0.01\n",
      "        exchanges: ['carbon_v1', 'bancor_v3', 'bancor_v2', 'bancor_pol', 'uniswap_v3', 'uniswap_v2', 'sushiswap_v2', 'balancer', 'pancakeswap_v2', 'pancakeswap_v3']\n",
      "        flashloan_tokens: ['BNT-FF1C', 'WETH-6Cc2', 'USDC-eB48', 'USDT-1ec7', 'LINK-86CA']\n",
      "        target_tokens: ['WETH-6Cc2', 'DAI-1d0F', 'BNT-FF1C', 'USDC-eB48', 'USDT-1ec7', 'LINK-86CA']\n",
      "        use_specific_exchange_for_target_tokens: None\n",
      "        loglevel: info\n",
      "        backdate_pools: False\n",
      "        alchemy_max_block_fetch: 5\n",
      "        static_pool_data_filename: static_pool_data\n",
      "        cache_latest_only: True\n",
      "        n_jobs: -1\n",
      "        polling_interval: 12\n",
      "        reorg_delay: 2\n",
      "        static_pool_data_sample_sz: max\n",
      "        use_cached_events: False\n",
      "        run_data_validator: False\n",
      "        randomizer: 3\n",
      "        limit_bancor3_flashloan_tokens: True\n",
      "        timeout: 80\n",
      "        replay_from_block: None\n",
      "        tenderly_fork_id: None\n",
      "        tenderly_event_exchanges: []\n",
      "        increment_time: 1\n",
      "        increment_blocks: 1\n",
      "        pool_data_update_frequency: -1\n",
      "        prefix_path: \n",
      "        version_check_frequency: 1\n",
      "        \n",
      "        +++++++++++++++++++++++++++++++++++++++++++++++++++++++++++++++++++++++++++++++++++++++++++++++\n",
      "        +++++++++++++++++++++++++++++++++++++++++++++++++++++++++++++++++++++++++++++++++++++++++++++++\n",
      "        \n",
      "2023-12-06 06:35:59,857 [fastlane:INFO] - Retrieved 214 carbon pairs from contract\n",
      "2023-12-06 06:36:02,063 [fastlane:INFO] - Time taken to add initial pools: 0.026159048080444336\n",
      "2023-12-06 06:36:02,394 [fastlane:INFO] - Adding 286307 uniswap_v2 pools to static pools\n",
      "2023-12-06 06:36:02,400 [fastlane:INFO] - Adding 3861 sushiswap_v2 pools to static pools\n",
      "2023-12-06 06:36:02,409 [fastlane:INFO] - Adding 472 pancakeswap_v2 pools to static pools\n",
      "2023-12-06 06:36:02,419 [fastlane:INFO] - Adding 286307 uniswap_v2 pools to static pools\n",
      "2023-12-06 06:36:02,426 [fastlane:INFO] - Adding 17983 uniswap_v3 pools to static pools\n",
      "2023-12-06 06:36:02,432 [fastlane:INFO] - Adding 158 pancakeswap_v3 pools to static pools\n",
      "2023-12-06 06:36:02,684 [fastlane:INFO] - Fetching events from 18727913 to 18727918... 0\n",
      "2023-12-06 06:36:05,669 [fastlane:INFO] - Found 154 new events, 82 carbon_pol_events\n",
      "2023-12-06 06:36:05,670 [fastlane:INFO] - Saved events to fastlane_bot/data/logs/20231206-063558/latest_event_data.json\n",
      "2023-12-06 06:36:11,840 [fastlane:INFO] - Adding new token ANONBOT-102b to fastlane_bot/data/blockchain_data/ethereum/tokens.csv\n",
      "2023-12-06 06:36:13,531 [fastlane:INFO] - Adding new token FARM-A1E5 to fastlane_bot/data/blockchain_data/ethereum/tokens.csv\n"
     ]
    }
   ],
   "source": [
    "run_command(\"single\")"
   ]
  }
 ],
 "metadata": {
  "jupytext": {
   "formats": "ipynb,auto:light"
  },
  "kernelspec": {
   "display_name": "Python 3 (ipykernel)",
   "language": "python",
   "name": "python3"
  },
  "language_info": {
   "codemirror_mode": {
    "name": "ipython",
    "version": 3
   },
   "file_extension": ".py",
   "mimetype": "text/x-python",
   "name": "python",
   "nbconvert_exporter": "python",
   "pygments_lexer": "ipython3",
   "version": "3.8.17"
  }
 },
 "nbformat": 4,
 "nbformat_minor": 5
}

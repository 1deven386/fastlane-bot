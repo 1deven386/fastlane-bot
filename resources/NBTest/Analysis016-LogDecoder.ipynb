{
 "cells": [
  {
   "cell_type": "code",
   "execution_count": 1,
   "id": "20a7c5d3-b47d-4dc3-aace-a9980c72c335",
   "metadata": {},
   "outputs": [],
   "source": [
    "import re\n",
    "import json\n",
    "from dataclasses import dataclass\n",
    "from datetime import datetime\n",
    "import os"
   ]
  },
  {
   "cell_type": "markdown",
   "id": "98cddb64-a8d3-4358-ad63-898f05c440ba",
   "metadata": {},
   "source": [
    "# Log Decoder [Analysis016]"
   ]
  },
  {
   "cell_type": "markdown",
   "id": "7aadfef1-a05f-4389-87f9-82113545ff41",
   "metadata": {},
   "source": [
    "## Read the logfile"
   ]
  },
  {
   "cell_type": "markdown",
   "id": "cc54eae6-5481-4faf-b3d7-9366b68e9270",
   "metadata": {},
   "source": [
    "### Static data for testing"
   ]
  },
  {
   "cell_type": "code",
   "execution_count": 2,
   "id": "3272086d-307b-49f4-804c-95e19133635f",
   "metadata": {},
   "outputs": [],
   "source": [
    "testdata = \"\"\"\n",
    "/root/flbtest\n",
    "Using default database url, if you want to use a different database, set the backend_url found at the bottom of manager_base.py\n",
    "Starting bot...\n",
    "2023-05-24 19:48:44,936 [fastlane:INFO] - [2023-05-24T19:48:44::1684957724] |calculated_arb| == {'type': 'single', 'profit_bnt': 29.4095, 'profit_usd': 11.8129, 'flashloan': [{'token': 'ETH-EEeE', 'amount': 0.4555, 'profit': 0.0066}], 'trades': [{'trade_index': 0, 'exchange': 'carbon_v1', 'tkn_in': 'WETH-6Cc2', 'amount_in': 0.4555, 'tkn_out': 'USDC-eB48', 'amt_out': 829.9234, 'cid0': '8841057382'}, {'trade_index': 1, 'exchange': 'uniswap_v3', 'tkn_in': 'USDC-eB48', 'amount_in': 829.9234, 'tkn_out': 'WETH-6Cc2', 'amt_out': 0.462, 'cid0': 'b61bc3f2c4'}]}\n",
    "2023-05-24 19:48:44,937 [fastlane:INFO] - Opportunity with profit: 29.4095 does not meet minimum profit: 1000, discarding.\n",
    "\"\"\""
   ]
  },
  {
   "cell_type": "markdown",
   "id": "7ca68b4a-fb66-4765-ae18-dcbb18198978",
   "metadata": {},
   "source": [
    "### Read the logfile"
   ]
  },
  {
   "cell_type": "code",
   "execution_count": 3,
   "id": "e1504d5a-6bbc-413d-a321-66007b3e863b",
   "metadata": {},
   "outputs": [],
   "source": [
    "# FNAME = \"arbbot.log\"\n",
    "# FNAME = \"mylog.log\"\n",
    "# FPATH = \"../..\"\n",
    "# FFNAME = os.path.join(FPATH, FNAME)\n",
    "FFNAME = \"Analysis016_example.log\""
   ]
  },
  {
   "cell_type": "code",
   "execution_count": 4,
   "id": "597c9531-21f9-46ec-8aa7-c3da48897145",
   "metadata": {},
   "outputs": [],
   "source": [
    "# with open(FFNAME, \"r\") as f:\n",
    "#     data = f.read()\n",
    "# data.splitlines()[-1:]"
   ]
  },
  {
   "cell_type": "markdown",
   "id": "bd3a0d71-17f6-4de3-b1b3-0fdbebd18d38",
   "metadata": {},
   "source": [
    "## Analysing data logs"
   ]
  },
  {
   "cell_type": "markdown",
   "id": "c8c72ca9-d5a9-41c0-99b3-ef95c6e8c276",
   "metadata": {},
   "source": [
    "### Analysis code"
   ]
  },
  {
   "cell_type": "code",
   "execution_count": 5,
   "id": "dea71877-e6d7-4bff-8096-36436baff994",
   "metadata": {},
   "outputs": [],
   "source": [
    "@dataclass\n",
    "class DataLogEntry():\n",
    "    time_s: str\n",
    "    time_ts: int\n",
    "    tag: str\n",
    "    data: any\n",
    "        \n",
    "    REGEX = r\".*? - \\[(.*?)::(.*?)].*?\\|(.*?)\\|.*?==.*?({.*})\"\n",
    "        # 2023-05-24 19:48:44,936 [fastlane:INFO] - [2023-05-24T19:48:44::1684957724] |calculated_arb| == {'type': 'single'} \n",
    "        # see https://regex101.com/\n",
    "\n",
    "    @classmethod\n",
    "    def new(cls, line):\n",
    "        \"\"\"\n",
    "        reads a single line and instantiates a new object\n",
    "        \"\"\"\n",
    "        m = re.match(cls.REGEX, line)\n",
    "        if m is None:\n",
    "            return None\n",
    "        return cls(\n",
    "            time_s = m.group(1)+\"Z\",\n",
    "            time_ts = int(m.group(2)),\n",
    "            tag = m.group(3),\n",
    "            data = json.loads(m.group(4).replace(\"'\", '\"'))\n",
    "        )\n",
    "    \n",
    "    @classmethod\n",
    "    def parseall(cls, *, logdata=None, logfn=None):\n",
    "        \"\"\"\n",
    "        parses the entire text of the logfile\n",
    "        \n",
    "        :logfn:     log file name\n",
    "        :logdata:   entire logfile text (alternative to logfn)\n",
    "        :returns:   list of DataLogLine objects\n",
    "        \"\"\"\n",
    "        if not logdata is None and not logfn is None:\n",
    "            raise ValueError(\"Either logdata or logfn must be None\")\n",
    "        if logdata is None and logfn is None:\n",
    "            raise ValueError(\"Logdata and logfn must not both be None\")\n",
    "        if not logdata is None:\n",
    "            lines = (l for l in logdata.splitlines() if l.strip())\n",
    "            ll = (cls.new(l) for l in lines)\n",
    "            ll = (l for l in ll if not l is None)\n",
    "        else:\n",
    "            with open(logfn, \"r\") as f:\n",
    "                lines = (l for l in f)\n",
    "                ll = (cls.new(l) for l in lines)\n",
    "                ll = list(l for l in ll if not l is None)\n",
    "        return list(ll)\n",
    "    \n",
    "    @property\n",
    "    def time(self):\n",
    "        \"\"\"datetime object corresponding to time\"\"\"\n",
    "        return datetime.fromtimestamp(self.time_ts)"
   ]
  },
  {
   "cell_type": "markdown",
   "id": "4dfdff30-e97d-4c86-923b-e3bd96f9cef7",
   "metadata": {},
   "source": [
    "### Parsing test data"
   ]
  },
  {
   "cell_type": "code",
   "execution_count": 6,
   "id": "feeff244-d9fc-4ccc-9bf9-a37b5b430fab",
   "metadata": {},
   "outputs": [],
   "source": [
    "ll = DataLogEntry.parseall(logdata=testdata)"
   ]
  },
  {
   "cell_type": "code",
   "execution_count": 7,
   "id": "4f1a3609-02fc-40ab-ac16-b493cb37d45d",
   "metadata": {},
   "outputs": [
    {
     "data": {
      "text/plain": [
       "['calculated_arb']"
      ]
     },
     "execution_count": 7,
     "metadata": {},
     "output_type": "execute_result"
    }
   ],
   "source": [
    "[l.tag for l in ll]"
   ]
  },
  {
   "cell_type": "code",
   "execution_count": 8,
   "id": "c8687d11-9c5d-4555-a888-771b150b1d03",
   "metadata": {},
   "outputs": [],
   "source": [
    "# ll[0].data"
   ]
  },
  {
   "cell_type": "code",
   "execution_count": 9,
   "id": "0bc47d04-5824-4fd8-a859-c82c69e596a4",
   "metadata": {},
   "outputs": [],
   "source": [
    "# ll[-1].data"
   ]
  },
  {
   "cell_type": "markdown",
   "id": "d6d4ca5d-5394-4724-85f8-f0734607cd76",
   "metadata": {},
   "source": [
    "### Parsing file data"
   ]
  },
  {
   "cell_type": "code",
   "execution_count": 10,
   "id": "31c94407-b3a9-40bb-8203-86d9c75a4e75",
   "metadata": {},
   "outputs": [],
   "source": [
    "ll = DataLogEntry.parseall(logfn=FFNAME)"
   ]
  },
  {
   "cell_type": "code",
   "execution_count": 11,
   "id": "5e6b6396-599e-495f-8e72-c3f9e9e329c2",
   "metadata": {},
   "outputs": [
    {
     "data": {
      "text/plain": [
       "53"
      ]
     },
     "execution_count": 11,
     "metadata": {},
     "output_type": "execute_result"
    }
   ],
   "source": [
    "len(ll)"
   ]
  },
  {
   "cell_type": "code",
   "execution_count": 12,
   "id": "de84716e-ab19-4717-ad9d-6ad125ef4cd1",
   "metadata": {},
   "outputs": [
    {
     "data": {
      "text/plain": [
       "{'calculated_arb'}"
      ]
     },
     "execution_count": 12,
     "metadata": {},
     "output_type": "execute_result"
    }
   ],
   "source": [
    "set([l.tag for l in ll])"
   ]
  },
  {
   "cell_type": "code",
   "execution_count": 13,
   "id": "ae7afda5-ec90-4c3d-ad3f-64958486b760",
   "metadata": {},
   "outputs": [
    {
     "data": {
      "text/plain": [
       "{'type': 'single',\n",
       " 'profit_bnt': 31.0823,\n",
       " 'profit_usd': 12.4848,\n",
       " 'flashloan': [{'token': 'ETH-EEeE', 'amount': 0.4555, 'profit': 0.007}],\n",
       " 'trades': [{'trade_index': 0,\n",
       "   'exchange': 'carbon_v1',\n",
       "   'tkn_in': 'WETH-6Cc2',\n",
       "   'amount_in': 0.4555,\n",
       "   'tkn_out': 'USDC-eB48',\n",
       "   'amt_out': 829.9234,\n",
       "   'cid0': '8841057382'},\n",
       "  {'trade_index': 1,\n",
       "   'exchange': 'uniswap_v3',\n",
       "   'tkn_in': 'USDC-eB48',\n",
       "   'amount_in': 829.9234,\n",
       "   'tkn_out': 'WETH-6Cc2',\n",
       "   'amt_out': 0.4624,\n",
       "   'cid0': 'b61bc3f2c4'}]}"
      ]
     },
     "execution_count": 13,
     "metadata": {},
     "output_type": "execute_result"
    }
   ],
   "source": [
    "ll[-1].data"
   ]
  },
  {
   "cell_type": "markdown",
   "id": "fb01c15e-10e2-4b0a-a72b-a554799de4b4",
   "metadata": {},
   "source": [
    "## Analysing full logs"
   ]
  },
  {
   "cell_type": "markdown",
   "id": "c3ed6d88-8d3c-47dc-bc40-07626b6b2611",
   "metadata": {},
   "source": [
    "### Analysis code"
   ]
  },
  {
   "cell_type": "code",
   "execution_count": 14,
   "id": "699b46bc-9dc0-4f77-bc7f-5bb7ca415a0f",
   "metadata": {},
   "outputs": [],
   "source": [
    "@dataclass\n",
    "class LogEntry():\n",
    "    time_s: str\n",
    "    logentity: str\n",
    "    loglevel: str\n",
    "    loglevel_i: int\n",
    "    msg: str\n",
    "        \n",
    "    REGEX = r\"(.*?)\\[(.*?):(.*?)](.*)\"\n",
    "        # 2023-05-24 19:48:44,936 [fastlane:INFO] - this is the log text\n",
    "        # see https://regex101.com/\n",
    "    \n",
    "    LOGLEVEL = dict(\n",
    "        DEBUG = 0,\n",
    "        INFO = 1,\n",
    "        WARNING = 2,\n",
    "        ERROR = 3,\n",
    "    )\n",
    "    @classmethod\n",
    "    def new(cls, line):\n",
    "        \"\"\"\n",
    "        reads a single line and instantiates a new object\n",
    "        \"\"\"\n",
    "        m = re.match(cls.REGEX, line)\n",
    "        if m is None:\n",
    "            return None\n",
    "        msg = m.group(4).strip()\n",
    "        loglevel = m.group(3).upper()\n",
    "        loglevel_i = cls.LOGLEVEL.get(loglevel, 9)\n",
    "        if msg[0] == \"-\":\n",
    "            msg = msg[1:].strip()\n",
    "        return cls(\n",
    "            time_s = m.group(1),\n",
    "            logentity = m.group(2),\n",
    "            loglevel = loglevel,\n",
    "            loglevel_i = loglevel_i,\n",
    "            msg = msg,\n",
    "        )\n",
    "    \n",
    "    @classmethod\n",
    "    def parseall(cls, loglevel=None, *, logfn=None):\n",
    "        \"\"\"\n",
    "        parses the entire text of the logfile\n",
    "        \n",
    "        :loglevel:  minimum loglevel to parse ()\n",
    "        :logfn:     log file name\n",
    "        :returns:   list of DataLogLine objects\n",
    "        \"\"\"\n",
    "#         if not logdata is None and not logfn is None:\n",
    "#             raise ValueError(\"Either logdata or logfn must be None\")\n",
    "#         if logdata is None and logfn is None:\n",
    "#             raise ValueError(\"Logdata and logfn must not both be None\")\n",
    "#         if not logdata is None:\n",
    "#             lines = (l for l in logdata.splitlines() if l.strip())\n",
    "#             ll = (cls.new(l) for l in lines)\n",
    "#             ll = (l for l in ll if not l is None)\n",
    "#         else:\n",
    "        if loglevel is None:\n",
    "            loglevel = \"INFO\"\n",
    "        loglevel = loglevel.upper()\n",
    "        if not loglevel in cls.LOGLEVEL.keys():\n",
    "            raise ValueError(f\"Loglevel must be one of {list(cls.LOGLEVEL.keys())}; it is '{loglevel}'\")\n",
    "        lli = cls.LOGLEVEL[loglevel]\n",
    "        with open(logfn, \"r\") as f:\n",
    "            lines = (l for l in f)\n",
    "            ll = (cls.new(l) for l in lines)\n",
    "            ll = (l for l in ll if not l is None)\n",
    "            ll = (l for l in ll if l.loglevel_i >= lli)\n",
    "            ll = list(ll)\n",
    "        return ll\n",
    "        "
   ]
  },
  {
   "cell_type": "markdown",
   "id": "1212446d-eaa0-45e0-9552-48d05ada8a07",
   "metadata": {},
   "source": [
    "### Parsing file data"
   ]
  },
  {
   "cell_type": "markdown",
   "id": "6b7542c9-1df6-47cb-b9e3-c118a0e971dd",
   "metadata": {},
   "source": [
    "#### ERROR only"
   ]
  },
  {
   "cell_type": "code",
   "execution_count": 15,
   "id": "da4e1c22-111b-4bec-9fcb-9cf0f4a6c2c9",
   "metadata": {},
   "outputs": [
    {
     "name": "stdout",
     "output_type": "stream",
     "text": [
      "ERROR entries: 86\n"
     ]
    }
   ],
   "source": [
    "ll = LogEntry.parseall(\"ERROR\", logfn=FFNAME)\n",
    "print(f\"ERROR entries: {len(ll)}\")"
   ]
  },
  {
   "cell_type": "code",
   "execution_count": 16,
   "id": "51cd1745-2ab0-4736-b342-5dbe60918fd1",
   "metadata": {},
   "outputs": [
    {
     "data": {
      "text/plain": [
       "LogEntry(time_s='2023-05-24 20:09:23,364 ', logentity='fastlane', loglevel='ERROR', loglevel_i=3, msg='[Failed to update profit in BNT for price of token: DAI-1d0F] error:list index out of range')"
      ]
     },
     "execution_count": 16,
     "metadata": {},
     "output_type": "execute_result"
    }
   ],
   "source": [
    "ll[0]"
   ]
  },
  {
   "cell_type": "markdown",
   "id": "6e6fae52-e1fb-486f-ad8e-c90ac031539a",
   "metadata": {},
   "source": [
    "#### ERROR and WARNING"
   ]
  },
  {
   "cell_type": "code",
   "execution_count": 17,
   "id": "cbce1b19-7905-4c72-be73-21a60a6f49e5",
   "metadata": {},
   "outputs": [
    {
     "name": "stdout",
     "output_type": "stream",
     "text": [
      "ERROR and WARNING entries: 86\n"
     ]
    }
   ],
   "source": [
    "ll = LogEntry.parseall(\"WARNING\", logfn=FFNAME)\n",
    "print(f\"ERROR and WARNING entries: {len(ll)}\")"
   ]
  },
  {
   "cell_type": "markdown",
   "id": "1cc60b26-8c7b-4264-af60-2ad82263eb45",
   "metadata": {},
   "source": [
    "#### ERROR, WARNING and INFO"
   ]
  },
  {
   "cell_type": "code",
   "execution_count": 18,
   "id": "5ba68a82-ebfd-4416-af64-54448aa750c9",
   "metadata": {},
   "outputs": [
    {
     "name": "stdout",
     "output_type": "stream",
     "text": [
      "ERROR, WARNING and INFO entries: 192\n"
     ]
    }
   ],
   "source": [
    "ll = LogEntry.parseall(\"INFO\", logfn=FFNAME)\n",
    "print(f\"ERROR, WARNING and INFO entries: {len(ll)}\")"
   ]
  },
  {
   "cell_type": "markdown",
   "id": "9abf736e-1b6a-474d-9f27-63ab9f9a6eac",
   "metadata": {},
   "source": [
    "#### ERROR, WARNING, INFO and DEBUG"
   ]
  },
  {
   "cell_type": "code",
   "execution_count": 19,
   "id": "ca51b3b8-88d8-4e24-95ca-f7b7ff1e0289",
   "metadata": {},
   "outputs": [
    {
     "name": "stdout",
     "output_type": "stream",
     "text": [
      "ERROR, WARNING, INFO and DEBUG entries: 192\n"
     ]
    }
   ],
   "source": [
    "ll = LogEntry.parseall(\"DEBUG\", logfn=FFNAME)\n",
    "print(f\"ERROR, WARNING, INFO and DEBUG entries: {len(ll)}\")"
   ]
  },
  {
   "cell_type": "code",
   "execution_count": null,
   "id": "75ab9330-251a-44a4-9a4a-00bc2cf21aa0",
   "metadata": {},
   "outputs": [],
   "source": []
  }
 ],
 "metadata": {
  "jupytext": {
   "formats": "ipynb,py:light"
  },
  "kernelspec": {
   "display_name": "Python 3",
   "language": "python",
   "name": "python3"
  },
  "language_info": {
   "codemirror_mode": {
    "name": "ipython",
    "version": 3
   },
   "file_extension": ".py",
   "mimetype": "text/x-python",
   "name": "python",
   "nbconvert_exporter": "python",
   "pygments_lexer": "ipython3",
   "version": "3.8.8"
  }
 },
 "nbformat": 4,
 "nbformat_minor": 5
}

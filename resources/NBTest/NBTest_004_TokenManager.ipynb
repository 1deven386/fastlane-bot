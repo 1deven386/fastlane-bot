{
 "cells": [
  {
   "cell_type": "markdown",
   "id": "aace1a78",
   "metadata": {},
   "source": [
    "# Unit tests for TokenManager"
   ]
  },
  {
   "cell_type": "code",
   "execution_count": 48,
   "id": "6478cb36",
   "metadata": {
    "ExecuteTime": {
     "end_time": "2023-04-26T22:00:36.515020Z",
     "start_time": "2023-04-26T22:00:36.507176Z"
    },
    "collapsed": false,
    "jupyter": {
     "outputs_hidden": false
    }
   },
   "outputs": [],
   "source": [
    "import fastlane_bot.db.models as models\n",
    "from fastlane_bot.db.model_managers import TokenManager"
   ]
  },
  {
   "cell_type": "code",
   "execution_count": 49,
   "id": "1fd86acd",
   "metadata": {
    "ExecuteTime": {
     "end_time": "2023-04-26T22:00:36.581903Z",
     "start_time": "2023-04-26T22:00:36.513255Z"
    }
   },
   "outputs": [
    {
     "name": "stdout",
     "output_type": "stream",
     "text": [
      "Version: 3.0.1\n",
      "Date: 04-26-2023\n"
     ]
    }
   ],
   "source": [
    "# Create a ContractHelper instance\n",
    "token_manager = TokenManager()\n",
    "\n",
    "# Print and format version and date\n",
    "print(f\"Version: {token_manager.__VERSION__.format('0.0.0')}\")\n",
    "print(f\"Date: {token_manager.__DATE__}\")"
   ]
  },
  {
   "cell_type": "code",
   "execution_count": 50,
   "id": "bb949387",
   "metadata": {
    "ExecuteTime": {
     "end_time": "2023-04-26T22:00:36.617808Z",
     "start_time": "2023-04-26T22:00:36.583978Z"
    },
    "collapsed": false,
    "jupyter": {
     "outputs_hidden": false
    }
   },
   "outputs": [],
   "source": [
    "from sqlalchemy.orm import Session\n",
    "\n",
    "# Test initialization\n",
    "token_manager = TokenManager()\n",
    "assert isinstance(token_manager.session, Session)"
   ]
  },
  {
   "cell_type": "code",
   "execution_count": 51,
   "id": "666f283b",
   "metadata": {
    "ExecuteTime": {
     "end_time": "2023-04-26T22:00:36.647994Z",
     "start_time": "2023-04-26T22:00:36.617111Z"
    },
    "collapsed": false,
    "jupyter": {
     "outputs_hidden": false
    }
   },
   "outputs": [],
   "source": [
    "# Test add_token\n",
    "token_manager = TokenManager()\n",
    "token = models.Token(symbol=\"TEST\", name=\"Test Token\", address=\"0x1234567890abcdef1234567890abcdef12345678\", decimals=18, key=\"TEST-5678\")\n",
    "token_manager.create_token(token)\n",
    "\n",
    "db_token = token_manager.session.query(models.Token).filter_by(address=token.address).first()\n",
    "assert db_token is not None\n",
    "assert db_token.symbol == \"TEST\"\n",
    "assert db_token.name == \"Test Token\"\n",
    "assert db_token.address == \"0x1234567890abcdef1234567890abcdef12345678\"\n",
    "assert db_token.decimals == 18\n",
    "assert db_token.key == \"TEST-5678\""
   ]
  },
  {
   "cell_type": "code",
   "execution_count": 52,
   "id": "1e472597",
   "metadata": {
    "ExecuteTime": {
     "end_time": "2023-04-26T22:00:36.651063Z",
     "start_time": "2023-04-26T22:00:36.649352Z"
    },
    "collapsed": false,
    "jupyter": {
     "outputs_hidden": false
    }
   },
   "outputs": [],
   "source": [
    "# Test get_token\n",
    "token = token_manager.get_token(address=\"0x1234567890abcdef1234567890abcdef12345678\")\n",
    "assert token is not None\n",
    "assert token.symbol == \"TEST\""
   ]
  },
  {
   "cell_type": "code",
   "execution_count": 53,
   "id": "852d1339",
   "metadata": {
    "ExecuteTime": {
     "end_time": "2023-04-26T22:00:36.658020Z",
     "start_time": "2023-04-26T22:00:36.652434Z"
    },
    "collapsed": false,
    "jupyter": {
     "outputs_hidden": false
    }
   },
   "outputs": [],
   "source": [
    "# Test update_token\n",
    "token = token_manager.get_token(address=\"0x1234567890abcdef1234567890abcdef12345678\")\n",
    "token_manager.update_token(token, new_data={\"name\":\"Updated Test Token\"})\n",
    "\n",
    "updated_token = token_manager.get_token(address=\"0x1234567890abcdef1234567890abcdef12345678\")\n",
    "assert updated_token is not None\n",
    "assert updated_token.name == \"Updated Test Token\""
   ]
  },
  {
   "cell_type": "code",
   "execution_count": 54,
   "id": "377bb416",
   "metadata": {
    "ExecuteTime": {
     "end_time": "2023-04-26T22:00:36.675884Z",
     "start_time": "2023-04-26T22:00:36.658871Z"
    },
    "collapsed": false,
    "jupyter": {
     "outputs_hidden": false
    }
   },
   "outputs": [],
   "source": [
    "# Test delete_token\n",
    "token = token_manager.get_token(address=\"0x1234567890abcdef1234567890abcdef12345678\")\n",
    "token_manager.delete_token(token)\n",
    "\n",
    "deleted_token = token_manager.get_token(address=\"0x1234567890abcdef1234567890abcdef12345678\")\n",
    "assert deleted_token is None"
   ]
  }
 ],
 "metadata": {
  "jupytext": {
   "formats": "ipynb,py:light"
  },
  "kernelspec": {
   "display_name": "Python 3",
   "language": "python",
   "name": "python3"
  },
  "language_info": {
   "codemirror_mode": {
    "name": "ipython",
    "version": 3
   },
   "file_extension": ".py",
   "mimetype": "text/x-python",
   "name": "python",
   "nbconvert_exporter": "python",
   "pygments_lexer": "ipython3",
   "version": "3.8.8"
  }
 },
 "nbformat": 4,
 "nbformat_minor": 5
}

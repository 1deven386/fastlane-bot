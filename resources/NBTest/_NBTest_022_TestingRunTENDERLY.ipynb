{
 "cells": [
  {
   "cell_type": "code",
   "execution_count": 1,
   "id": "8f04c50a-67fe-4f09-822d-6ed6e3ac43e4",
   "metadata": {
    "ExecuteTime": {
     "end_time": "2023-05-10T07:29:14.990377Z",
     "start_time": "2023-05-10T07:29:09.513075700Z"
    }
   },
   "outputs": [
    {
     "name": "stdout",
     "output_type": "stream",
     "text": [
      "Using default database url, if you want to use a different database, set the backend_url found at the bottom of manager_base.py\n",
      "Error adding Ethereum blockchain to database Ethereum, (psycopg2.errors.UniqueViolation) duplicate key value violates unique constraint \"ix_blockchains_name\"\n",
      "DETAIL:  Key (name)=(Ethereum) already exists.\n",
      "\n",
      "[SQL: INSERT INTO blockchains (name, block_number) VALUES (%(name)s, %(block_number)s) RETURNING blockchains.id]\n",
      "[parameters: {'name': 'Ethereum', 'block_number': 0}]\n",
      "(Background on this error at: https://sqlalche.me/e/20/gkpj) skipping...\n",
      "Error adding exchange carbon_v1 to database, (psycopg2.errors.UniqueViolation) duplicate key value violates unique constraint \"exchanges_pkey\"\n",
      "DETAIL:  Key (id)=(6) already exists.\n",
      "\n",
      "[SQL: INSERT INTO exchanges (id, name, blockchain_name) VALUES (%(id)s, %(name)s, %(blockchain_name)s)]\n",
      "[parameters: {'id': 6, 'name': 'carbon_v1', 'blockchain_name': 'Ethereum'}]\n",
      "(Background on this error at: https://sqlalche.me/e/20/gkpj) skipping...\n",
      "Error adding exchange bancor_v2 to database, (psycopg2.errors.UniqueViolation) duplicate key value violates unique constraint \"exchanges_pkey\"\n",
      "DETAIL:  Key (id)=(1) already exists.\n",
      "\n",
      "[SQL: INSERT INTO exchanges (id, name, blockchain_name) VALUES (%(id)s, %(name)s, %(blockchain_name)s)]\n",
      "[parameters: {'id': 1, 'name': 'bancor_v2', 'blockchain_name': 'Ethereum'}]\n",
      "(Background on this error at: https://sqlalche.me/e/20/gkpj) skipping...\n",
      "Error adding exchange bancor_v3 to database, (psycopg2.errors.UniqueViolation) duplicate key value violates unique constraint \"exchanges_pkey\"\n",
      "DETAIL:  Key (id)=(2) already exists.\n",
      "\n",
      "[SQL: INSERT INTO exchanges (id, name, blockchain_name) VALUES (%(id)s, %(name)s, %(blockchain_name)s)]\n",
      "[parameters: {'id': 2, 'name': 'bancor_v3', 'blockchain_name': 'Ethereum'}]\n",
      "(Background on this error at: https://sqlalche.me/e/20/gkpj) skipping...\n",
      "Error adding exchange uniswap_v2 to database, (psycopg2.errors.UniqueViolation) duplicate key value violates unique constraint \"exchanges_pkey\"\n",
      "DETAIL:  Key (id)=(3) already exists.\n",
      "\n",
      "[SQL: INSERT INTO exchanges (id, name, blockchain_name) VALUES (%(id)s, %(name)s, %(blockchain_name)s)]\n",
      "[parameters: {'id': 3, 'name': 'uniswap_v2', 'blockchain_name': 'Ethereum'}]\n",
      "(Background on this error at: https://sqlalche.me/e/20/gkpj) skipping...\n",
      "Error adding exchange uniswap_v3 to database, (psycopg2.errors.UniqueViolation) duplicate key value violates unique constraint \"exchanges_pkey\"\n",
      "DETAIL:  Key (id)=(4) already exists.\n",
      "\n",
      "[SQL: INSERT INTO exchanges (id, name, blockchain_name) VALUES (%(id)s, %(name)s, %(blockchain_name)s)]\n",
      "[parameters: {'id': 4, 'name': 'uniswap_v3', 'blockchain_name': 'Ethereum'}]\n",
      "(Background on this error at: https://sqlalche.me/e/20/gkpj) skipping...\n",
      "Error adding exchange sushiswap_v2 to database, (psycopg2.errors.UniqueViolation) duplicate key value violates unique constraint \"exchanges_pkey\"\n",
      "DETAIL:  Key (id)=(5) already exists.\n",
      "\n",
      "[SQL: INSERT INTO exchanges (id, name, blockchain_name) VALUES (%(id)s, %(name)s, %(blockchain_name)s)]\n",
      "[parameters: {'id': 5, 'name': 'sushiswap_v2', 'blockchain_name': 'Ethereum'}]\n",
      "(Background on this error at: https://sqlalche.me/e/20/gkpj) skipping...\n",
      "ConstantProductCurve v2.10.1 (07/May/2023)\n",
      "CarbonBot v3-b2.1 (03/May/2023)\n",
      "imported m, np, pd, plt, os, sys, decimal; defined iseq, raises, require\n"
     ]
    },
    {
     "name": "stderr",
     "output_type": "stream",
     "text": [
      "C:\\Users\\Kveen\\AppData\\Local\\Temp\\ipykernel_36652\\1582963263.py:8: MatplotlibDeprecationWarning: The seaborn styles shipped by Matplotlib are deprecated since 3.6, as they no longer correspond to the styles shipped by seaborn. However, they will remain available as 'seaborn-v0_8-<style>'. Alternatively, directly use the seaborn API instead.\n",
      "  plt.style.use('seaborn-dark')\n"
     ]
    },
    {
     "name": "stdout",
     "output_type": "stream",
     "text": [
      "Version = 3-b2.1 [requirements >= 2.0 is met]\n"
     ]
    }
   ],
   "source": [
    "from fastlane_bot import Config, ConfigDB, ConfigNetwork, ConfigProvider\n",
    "from fastlane_bot.bot import CarbonBot\n",
    "from fastlane_bot.tools.cpc import ConstantProductCurve as CPC, CPCContainer, T\n",
    "from fastlane_bot.helpers import TxHelper\n",
    "print(\"{0.__name__} v{0.__VERSION__} ({0.__DATE__})\".format(CPC))\n",
    "print(\"{0.__name__} v{0.__VERSION__} ({0.__DATE__})\".format(CarbonBot))\n",
    "from fastlane_bot.testing import *\n",
    "plt.style.use('seaborn-dark')\n",
    "plt.rcParams['figure.figsize'] = [12,6]\n",
    "from fastlane_bot import __VERSION__\n",
    "require(\"2.0\", __VERSION__)"
   ]
  },
  {
   "attachments": {},
   "cell_type": "markdown",
   "id": "b3f59f14-b91b-4dba-94b0-3d513aaf41c7",
   "metadata": {},
   "source": [
    "# Testing the _run functions on TENDERLY [NBTest022]"
   ]
  },
  {
   "attachments": {},
   "cell_type": "markdown",
   "id": "cf03072d-6304-41f8-b132-9470ae81ac7c",
   "metadata": {},
   "source": [
    "## MAINNET Configuration"
   ]
  },
  {
   "attachments": {},
   "cell_type": "markdown",
   "id": "0990888a-698c-487c-9142-80e62a8393ac",
   "metadata": {},
   "source": [
    "### Set up the bot and curves"
   ]
  },
  {
   "cell_type": "code",
   "execution_count": 3,
   "id": "da9ff008-cb12-44f7-93a8-84f7386da886",
   "metadata": {
    "ExecuteTime": {
     "end_time": "2023-05-10T07:29:29.462724300Z",
     "start_time": "2023-05-10T07:29:28.443552Z"
    }
   },
   "outputs": [],
   "source": [
    "C = Config.new(config=Config.CONFIG_TENDERLY)\n",
    "assert C.DATABASE == C.DATABASE_POSTGRES\n",
    "# assert C.POSTGRES_DB == \"defaultdb\"\n",
    "assert C.NETWORK == C.NETWORK_TENDERLY\n",
    "assert C.PROVIDER == C.PROVIDER_TENDERLY\n",
    "bot = CarbonBot(ConfigObj=C)\n",
    "assert str(type(bot.db)) == \"<class 'fastlane_bot.db.manager.DatabaseManager'>\"\n",
    "\n"
   ]
  },
  {
   "cell_type": "code",
   "execution_count": 3,
   "id": "4c184a25",
   "metadata": {
    "ExecuteTime": {
     "end_time": "2023-05-10T07:08:41.810999400Z",
     "start_time": "2023-05-10T07:08:40.832961300Z"
    }
   },
   "outputs": [
    {
     "name": "stdout",
     "output_type": "stream",
     "text": [
      "Number of curves: 3528\n",
      "Number of tokens: 2230\n",
      "Exchanges: {'sushiswap_v2', 'uniswap_v2', 'carbon_v1', 'bancor_v2', 'bancor_v3', 'uniswap_v3'}\n"
     ]
    }
   ],
   "source": [
    "CCm = bot.get_curves()\n",
    "exch = {c.P(\"exchange\") for c in CCm}\n",
    "print(\"Number of curves:\", len(CCm))\n",
    "print(\"Number of tokens:\", len(CCm.tokens()))\n",
    "print(\"Exchanges:\", exch)"
   ]
  },
  {
   "cell_type": "code",
   "execution_count": 4,
   "id": "d7ee607c",
   "metadata": {
    "ExecuteTime": {
     "end_time": "2023-05-10T07:08:41.841765200Z",
     "start_time": "2023-05-10T07:08:41.823765100Z"
    }
   },
   "outputs": [
    {
     "data": {
      "text/plain": "3423"
     },
     "execution_count": 4,
     "metadata": {},
     "output_type": "execute_result"
    }
   ],
   "source": [
    "used_curves = [\n",
    "    '340282366920938463463374607431768211527-0', #actually deleted from carbon\n",
    "    '340282366920938463463374607431768211527-1', #actually deleted from carbon\n",
    "    '2722258935367507707706996859454145691730-1',\n",
    "    '1701411834604692317316873037158841057360-1',\n",
    "    '1701411834604692317316873037158841057360-0',\n",
    "    '9187623906865338513511114400657741709390-0',\n",
    "    '12590447576074723148144860474975423823947-0',\n",
    "    '13951577043758477001998358904702496669779-1'\n",
    "]\n",
    "subcurves = [x for x in CCm if x.cid not in used_curves]\n",
    "no_0x0 = [x for x in subcurves if '0x0-1AD5' not in x.pair]\n",
    "CCm2 = CPCContainer([x for x in no_0x0 if x.params.exchange not in ['bancor_v2']])\n",
    "len(CCm2)"
   ]
  },
  {
   "cell_type": "code",
   "execution_count": 5,
   "id": "b397bc36",
   "metadata": {
    "ExecuteTime": {
     "end_time": "2023-05-10T07:08:41.849765400Z",
     "start_time": "2023-05-10T07:08:41.826765600Z"
    }
   },
   "outputs": [
    {
     "data": {
      "text/plain": "27"
     },
     "execution_count": 5,
     "metadata": {},
     "output_type": "execute_result"
    }
   ],
   "source": [
    "pairs = [x.pair.split('/') for x in CCm if x.params.exchange == 'carbon_v1']\n",
    "len(set([x for itm in pairs for x in itm]))"
   ]
  },
  {
   "cell_type": "code",
   "execution_count": 6,
   "id": "79ed1618",
   "metadata": {
    "ExecuteTime": {
     "end_time": "2023-05-10T07:08:41.857765600Z",
     "start_time": "2023-05-10T07:08:41.843765800Z"
    }
   },
   "outputs": [
    {
     "data": {
      "text/plain": "58"
     },
     "execution_count": 6,
     "metadata": {},
     "output_type": "execute_result"
    }
   ],
   "source": [
    "pairs = [x.pair for x in CCm if x.params.exchange == 'carbon_v1']\n",
    "len(set(pairs))"
   ]
  },
  {
   "cell_type": "code",
   "execution_count": 7,
   "id": "6445f9db",
   "metadata": {
    "ExecuteTime": {
     "end_time": "2023-05-10T07:08:41.890767200Z",
     "start_time": "2023-05-10T07:08:41.858776400Z"
    }
   },
   "outputs": [
    {
     "data": {
      "text/plain": "28760.523861948794"
     },
     "execution_count": 7,
     "metadata": {},
     "output_type": "execute_result"
    }
   ],
   "source": [
    "CCm.bycid(\"f1112f0481b940058d16a49759a9bb3a\").p"
   ]
  },
  {
   "cell_type": "code",
   "execution_count": 8,
   "id": "9a8100d3",
   "metadata": {
    "ExecuteTime": {
     "end_time": "2023-05-10T07:08:41.896767Z",
     "start_time": "2023-05-10T07:08:41.874766300Z"
    }
   },
   "outputs": [
    {
     "data": {
      "text/plain": "28579.95448534522"
     },
     "execution_count": 8,
     "metadata": {},
     "output_type": "execute_result"
    }
   ],
   "source": [
    "CCm.bycid(\"5d5cebf33c0049258c40db6bc90b1558\").p"
   ]
  },
  {
   "cell_type": "code",
   "execution_count": 9,
   "id": "21a0e86c",
   "metadata": {
    "ExecuteTime": {
     "end_time": "2023-05-10T07:08:41.904998Z",
     "start_time": "2023-05-10T07:08:41.890767200Z"
    }
   },
   "outputs": [],
   "source": [
    "# CCm.bycid(\"9a52c5bdef1c402497d1c4f5d7501f61\").p"
   ]
  },
  {
   "cell_type": "code",
   "execution_count": 10,
   "id": "7cae2ba6",
   "metadata": {
    "ExecuteTime": {
     "end_time": "2023-05-10T07:08:41.932997900Z",
     "start_time": "2023-05-10T07:08:41.904998Z"
    }
   },
   "outputs": [
    {
     "data": {
      "text/plain": "30899.999999999673"
     },
     "execution_count": 10,
     "metadata": {},
     "output_type": "execute_result"
    }
   ],
   "source": [
    "CCm.bycid(\"12590447576074723148144860474975423823947-0\").p"
   ]
  },
  {
   "cell_type": "code",
   "execution_count": 11,
   "id": "11a64563",
   "metadata": {
    "ExecuteTime": {
     "end_time": "2023-05-10T07:08:41.939997900Z",
     "start_time": "2023-05-10T07:08:41.920998Z"
    }
   },
   "outputs": [
    {
     "data": {
      "text/plain": "31000.001577363997"
     },
     "execution_count": 11,
     "metadata": {},
     "output_type": "execute_result"
    }
   ],
   "source": [
    "1/CCm.bycid(\"12590447576074723148144860474975423823947-1\").p"
   ]
  },
  {
   "attachments": {},
   "cell_type": "markdown",
   "id": "5a26c4b4",
   "metadata": {},
   "source": [
    "## Actual run"
   ]
  },
  {
   "cell_type": "code",
   "execution_count": 12,
   "id": "cab33dc6",
   "metadata": {
    "ExecuteTime": {
     "end_time": "2023-05-10T07:08:41.951997900Z",
     "start_time": "2023-05-10T07:08:41.934998400Z"
    }
   },
   "outputs": [],
   "source": [
    "flt = [T.USDC, T.USDT, T.ETH, T.LINK, T.BNT, T.WBTC, T.DAI]\n",
    "# bot._run(flashloan_tokens=flt, CCm=CCm2)"
   ]
  },
  {
   "attachments": {},
   "cell_type": "markdown",
   "id": "5f2f01c5",
   "metadata": {},
   "source": [
    "## Analytics"
   ]
  },
  {
   "cell_type": "code",
   "execution_count": 13,
   "id": "1419695c",
   "metadata": {
    "ExecuteTime": {
     "end_time": "2023-05-10T07:08:44.678899700Z",
     "start_time": "2023-05-10T07:08:41.951997900Z"
    }
   },
   "outputs": [
    {
     "name": "stderr",
     "output_type": "stream",
     "text": [
      "C:\\Users\\Kveen\\PycharmProjects\\carbonbot\\resources\\NBTest\\fastlane_bot\\tools\\optimizer.py:1310: RuntimeWarning: divide by zero encountered in scalar divide\n",
      "  price = get(p, tokens_ix.get(tknb)) / get(p, tokens_ix.get(tknq))\n",
      "C:\\Users\\Kveen\\PycharmProjects\\carbonbot\\resources\\NBTest\\fastlane_bot\\tools\\optimizer.py:1310: RuntimeWarning: divide by zero encountered in scalar divide\n",
      "  price = get(p, tokens_ix.get(tknb)) / get(p, tokens_ix.get(tknq))\n",
      "C:\\Users\\Kveen\\PycharmProjects\\carbonbot\\resources\\NBTest\\fastlane_bot\\tools\\optimizer.py:1157: RuntimeWarning: invalid value encountered in subtract\n",
      "  jac[:, j] = (func(x_plus) - y) / Dxj\n",
      "C:\\Users\\Kveen\\PycharmProjects\\carbonbot\\resources\\NBTest\\fastlane_bot\\tools\\optimizer.py:1310: RuntimeWarning: divide by zero encountered in scalar divide\n",
      "  price = get(p, tokens_ix.get(tknb)) / get(p, tokens_ix.get(tknq))\n",
      "C:\\Users\\Kveen\\PycharmProjects\\carbonbot\\resources\\NBTest\\fastlane_bot\\tools\\optimizer.py:1157: RuntimeWarning: invalid value encountered in subtract\n",
      "  jac[:, j] = (func(x_plus) - y) / Dxj\n",
      "C:\\Users\\Kveen\\PycharmProjects\\carbonbot\\resources\\NBTest\\fastlane_bot\\tools\\optimizer.py:1310: RuntimeWarning: divide by zero encountered in scalar divide\n",
      "  price = get(p, tokens_ix.get(tknb)) / get(p, tokens_ix.get(tknq))\n",
      "C:\\Users\\Kveen\\PycharmProjects\\carbonbot\\resources\\NBTest\\fastlane_bot\\tools\\optimizer.py:1157: RuntimeWarning: invalid value encountered in subtract\n",
      "  jac[:, j] = (func(x_plus) - y) / Dxj\n",
      "C:\\Users\\Kveen\\PycharmProjects\\carbonbot\\resources\\NBTest\\fastlane_bot\\tools\\optimizer.py:1310: RuntimeWarning: divide by zero encountered in scalar divide\n",
      "  price = get(p, tokens_ix.get(tknb)) / get(p, tokens_ix.get(tknq))\n",
      "C:\\Users\\Kveen\\PycharmProjects\\carbonbot\\resources\\NBTest\\fastlane_bot\\tools\\optimizer.py:1157: RuntimeWarning: invalid value encountered in subtract\n",
      "  jac[:, j] = (func(x_plus) - y) / Dxj\n",
      "C:\\Users\\Kveen\\PycharmProjects\\carbonbot\\resources\\NBTest\\fastlane_bot\\tools\\optimizer.py:1310: RuntimeWarning: divide by zero encountered in scalar divide\n",
      "  price = get(p, tokens_ix.get(tknb)) / get(p, tokens_ix.get(tknq))\n",
      "C:\\Users\\Kveen\\PycharmProjects\\carbonbot\\resources\\NBTest\\fastlane_bot\\tools\\optimizer.py:1157: RuntimeWarning: invalid value encountered in subtract\n",
      "  jac[:, j] = (func(x_plus) - y) / Dxj\n"
     ]
    }
   ],
   "source": [
    "ops = bot._find_arbitrage_opportunities_carbon_single_pairwise(flashloan_tokens=flt, CCm=CCm2, result=bot.XS_ARBOPPS)"
   ]
  },
  {
   "cell_type": "code",
   "execution_count": 14,
   "id": "95b2c699",
   "metadata": {
    "ExecuteTime": {
     "end_time": "2023-05-10T07:08:44.694369Z",
     "start_time": "2023-05-10T07:08:44.681291100Z"
    }
   },
   "outputs": [
    {
     "data": {
      "text/plain": "(Decimal('3102.80044689130423009628185870460153082455931339289634252054383978247642517090'),\n                                              WETH-6Cc2     UNI-F984\n e7dfee0364fb40f2b959ec0020f9a7ea              9.133758 -3311.347195\n 13951577043758477001998358904702496669779-0  -9.934041  3311.347183\n AMMIn                                         9.133758  3311.347183\n AMMOut                                       -9.934041 -3311.347195\n TOTAL NET                                    -0.800283    -0.000012,\n [{'cid': 'e7dfee0364fb40f2b959ec0020f9a7ea',\n   'tknin': 'WETH-6Cc2',\n   'amtin': 9.133758152220253,\n   'tknout': 'UNI-F984',\n   'amtout': -3311.347195478156,\n   'error': None},\n  {'cid': '13951577043758477001998358904702496669779-0',\n   'tknin': 'UNI-F984',\n   'amtin': 3311.347183227539,\n   'tknout': 'WETH-6Cc2',\n   'amtout': -9.934041053056717,\n   'error': None}],\n 'WETH-6Cc2',\n (CPCArbOptimizer.TradeInstruction(cid='e7dfee0364fb40f2b959ec0020f9a7ea', tknin='WETH-6Cc2', amtin=9.133758152220253, tknout='UNI-F984', amtout=-3311.347195478156, error=None),\n  CPCArbOptimizer.TradeInstruction(cid='13951577043758477001998358904702496669779-0', tknin='UNI-F984', amtin=3311.347183227539, tknout='WETH-6Cc2', amtout=-9.934041053056717, error=None)))"
     },
     "execution_count": 14,
     "metadata": {},
     "output_type": "execute_result"
    }
   ],
   "source": [
    "ops"
   ]
  },
  {
   "cell_type": "code",
   "execution_count": 15,
   "id": "60b235ca",
   "metadata": {
    "ExecuteTime": {
     "end_time": "2023-05-10T07:08:44.712873600Z",
     "start_time": "2023-05-10T07:08:44.695375500Z"
    }
   },
   "outputs": [],
   "source": [
    "# ord = bot._run(flashloan_tokens=flt, CCm=CCm2, result=bot.XS_ORDSCAL)\n",
    "# ord"
   ]
  },
  {
   "cell_type": "code",
   "execution_count": 16,
   "id": "fcb66e42",
   "metadata": {
    "ExecuteTime": {
     "end_time": "2023-05-10T07:08:44.725873200Z",
     "start_time": "2023-05-10T07:08:44.710873600Z"
    }
   },
   "outputs": [],
   "source": [
    "# ti = bot._run(flashloan_tokens=flt, CCm=CCm2, result=bot.XS_TI)\n",
    "# ti"
   ]
  },
  {
   "cell_type": "code",
   "execution_count": 17,
   "id": "f4d25fb2",
   "metadata": {
    "ExecuteTime": {
     "end_time": "2023-05-10T07:08:44.742873500Z",
     "start_time": "2023-05-10T07:08:44.726890500Z"
    }
   },
   "outputs": [],
   "source": [
    "# ti"
   ]
  },
  {
   "cell_type": "code",
   "execution_count": 18,
   "id": "b9217711",
   "metadata": {
    "ExecuteTime": {
     "end_time": "2023-05-10T07:08:44.757873300Z",
     "start_time": "2023-05-10T07:08:44.742873500Z"
    }
   },
   "outputs": [],
   "source": [
    "# ops = bot._find_arbitrage_opportunities(flashloan_tokens=flt, CCm=CCm, result=bot.AO_CANDIDATES)\n",
    "# ops"
   ]
  },
  {
   "cell_type": "code",
   "execution_count": 19,
   "id": "93eff72b",
   "metadata": {
    "ExecuteTime": {
     "end_time": "2023-05-10T07:08:44.772873500Z",
     "start_time": "2023-05-10T07:08:44.757873300Z"
    }
   },
   "outputs": [],
   "source": [
    "# candf = pd.DataFrame(ops).sort_values(by=0, ascending=False)\n",
    "# candf.reset_index(inplace=True, drop=True)\n",
    "# candf.iloc[5][1]"
   ]
  },
  {
   "cell_type": "code",
   "execution_count": 20,
   "id": "b933a3e3",
   "metadata": {
    "ExecuteTime": {
     "end_time": "2023-05-10T07:08:44.787874600Z",
     "start_time": "2023-05-10T07:08:44.773873300Z"
    }
   },
   "outputs": [],
   "source": [
    "# candf.iloc[0][0]"
   ]
  },
  {
   "cell_type": "code",
   "execution_count": 21,
   "id": "5382d20f",
   "metadata": {
    "ExecuteTime": {
     "end_time": "2023-05-10T07:08:48.265754700Z",
     "start_time": "2023-05-10T07:08:44.787874600Z"
    }
   },
   "outputs": [
    {
     "name": "stderr",
     "output_type": "stream",
     "text": [
      "C:\\Users\\Kveen\\PycharmProjects\\carbonbot\\resources\\NBTest\\fastlane_bot\\tools\\optimizer.py:1310: RuntimeWarning: divide by zero encountered in scalar divide\n",
      "  price = get(p, tokens_ix.get(tknb)) / get(p, tokens_ix.get(tknq))\n",
      "C:\\Users\\Kveen\\PycharmProjects\\carbonbot\\resources\\NBTest\\fastlane_bot\\tools\\optimizer.py:1310: RuntimeWarning: divide by zero encountered in scalar divide\n",
      "  price = get(p, tokens_ix.get(tknb)) / get(p, tokens_ix.get(tknq))\n",
      "C:\\Users\\Kveen\\PycharmProjects\\carbonbot\\resources\\NBTest\\fastlane_bot\\tools\\optimizer.py:1157: RuntimeWarning: invalid value encountered in subtract\n",
      "  jac[:, j] = (func(x_plus) - y) / Dxj\n",
      "C:\\Users\\Kveen\\PycharmProjects\\carbonbot\\resources\\NBTest\\fastlane_bot\\tools\\optimizer.py:1310: RuntimeWarning: divide by zero encountered in scalar divide\n",
      "  price = get(p, tokens_ix.get(tknb)) / get(p, tokens_ix.get(tknq))\n",
      "C:\\Users\\Kveen\\PycharmProjects\\carbonbot\\resources\\NBTest\\fastlane_bot\\tools\\optimizer.py:1157: RuntimeWarning: invalid value encountered in subtract\n",
      "  jac[:, j] = (func(x_plus) - y) / Dxj\n",
      "C:\\Users\\Kveen\\PycharmProjects\\carbonbot\\resources\\NBTest\\fastlane_bot\\tools\\optimizer.py:1310: RuntimeWarning: divide by zero encountered in scalar divide\n",
      "  price = get(p, tokens_ix.get(tknb)) / get(p, tokens_ix.get(tknq))\n",
      "C:\\Users\\Kveen\\PycharmProjects\\carbonbot\\resources\\NBTest\\fastlane_bot\\tools\\optimizer.py:1157: RuntimeWarning: invalid value encountered in subtract\n",
      "  jac[:, j] = (func(x_plus) - y) / Dxj\n",
      "C:\\Users\\Kveen\\PycharmProjects\\carbonbot\\resources\\NBTest\\fastlane_bot\\tools\\optimizer.py:1310: RuntimeWarning: divide by zero encountered in scalar divide\n",
      "  price = get(p, tokens_ix.get(tknb)) / get(p, tokens_ix.get(tknq))\n",
      "C:\\Users\\Kveen\\PycharmProjects\\carbonbot\\resources\\NBTest\\fastlane_bot\\tools\\optimizer.py:1157: RuntimeWarning: invalid value encountered in subtract\n",
      "  jac[:, j] = (func(x_plus) - y) / Dxj\n",
      "C:\\Users\\Kveen\\PycharmProjects\\carbonbot\\resources\\NBTest\\fastlane_bot\\tools\\optimizer.py:1310: RuntimeWarning: divide by zero encountered in scalar divide\n",
      "  price = get(p, tokens_ix.get(tknb)) / get(p, tokens_ix.get(tknq))\n",
      "C:\\Users\\Kveen\\PycharmProjects\\carbonbot\\resources\\NBTest\\fastlane_bot\\tools\\optimizer.py:1157: RuntimeWarning: invalid value encountered in subtract\n",
      "  jac[:, j] = (func(x_plus) - y) / Dxj\n"
     ]
    },
    {
     "name": "stdout",
     "output_type": "stream",
     "text": [
      "[_calc_carbon_output] before decode:  9934041052273934470 20890099991068244000 0 15417019411766\n",
      "[_calc_carbon_output] after decode:  9.93404105227393447 20.890099991068244 0.0 0.05477225575051392\n"
     ]
    },
    {
     "data": {
      "text/plain": "[TradeInstruction(ConfigObj=Config(network=_ConfigNetworkTenderly(), db=_ConfigDBPostgres(), logger=_ConfigLoggerDefault(), provider=_ConfigProviderTenderly()), cid='e7dfee0364fb40f2b959ec0020f9a7ea', tknin='WETH-6Cc2', amtin=Decimal('9.124624394068032'), tknout='UNI-F984', amtout=Decimal('3298.118781339736503394'), pair_sorting='', raw_txs='[]', custom_data='', db=DatabaseManager(ConfigObj=Config(network=_ConfigNetworkTenderly(), db=_ConfigDBPostgres(), logger=_ConfigLoggerDefault(), provider=_ConfigProviderTenderly()), contracts={}, filters=[], data=                                       cid                last_updated  \\\n 0     00125d26-4f9d-4936-9a46-7e7708cee9b5  2023-05-06 19:04:10.202420   \n 1219  5bbd01d2-ba90-49e8-8235-0f5183a44204  2023-05-06 19:11:11.844129   \n 1231  5c976f61-5847-4219-a2ee-0b1eb96b2775  2023-05-06 19:18:59.176213   \n 1230  5c87da80-15a0-4c59-baac-e8e9661ee920  2023-05-06 19:00:47.931782   \n 2635  c21eb1b9-cf04-4ec5-bad1-77fb1b29b38b  2023-05-06 19:13:37.076908   \n ...                                    ...                         ...   \n 1725  7ec3e511-0223-44ad-b5bf-e5a9a44158ff  2023-05-06 19:49:57.489499   \n 2302  a943c6e9-686b-4879-8118-b3c3affac2d8  2023-05-06 19:50:26.949196   \n 2771  ccc50a59-3e99-4dc5-9e28-a3fdc32cc832  2023-05-06 19:50:06.921640   \n 2769  ccb53832-8d07-4e16-8225-83b9de4767c4  2023-05-06 19:50:07.452203   \n 2054  97926fa0-7343-4677-8309-900947f76d6b  2023-05-06 19:49:49.198008   \n \n       last_updated_block                                     address  \\\n 0               17203475  0x7BeA39867e4169DBe237d55C8242a8f2fcDcc387   \n 1219            17203475  0x75099758a9D1f43198043825c8Fbcf8A12Be7a74   \n 1231            17203475  0x1c774B48Cd31dcF9FcB4bBb8FF52A8c4B4094C3d   \n 1230            17203475  0x19c10E1F20df3a8c2AC93a62d7FBA719fa777026   \n 2635            17203475  0xdb6897039084A2f8fb2b719716bA7A734f84aa66   \n ...                  ...                                         ...   \n 1725            17203475  0x931D1bF09f81B426fBe4CFDFab0b825b308c8db1   \n 2302            17203475  0xB521525b2E6Ad8Ef4c03E747B4541F366E5b8035   \n 2771            17203475  0x0A3DF697e872aB920f305dB00450c0A372E6C970   \n 2769            17203475  0x3870Ce6642959E3D844837Fd472E717736E06AAe   \n 2054            17203475  0x5bA42FaCDBc4aEAe6bEFcc567fd62e9242Fc69Ad   \n \n      exchange_name  exchange_id        fee  fee_float              pair_name  \\\n 0       uniswap_v3            4  10000.000      0.010    USDC-eB48/WETH-6Cc2   \n 1219    uniswap_v3            4  10000.000      0.010    sifu-C313/USDT-1ec7   \n 1231    uniswap_v3            4  10000.000      0.010     NYM-90e1/WETH-6Cc2   \n 1230    uniswap_v3            4  10000.000      0.010    DINO-c68F/WETH-6Cc2   \n 2635    uniswap_v3            4  10000.000      0.010    MEGA-B10E/WETH-6Cc2   \n ...            ...          ...        ...        ...                    ...   \n 1725     bancor_v2            0      0.003      0.003      BNT-FF1C/DIP-cD83   \n 2302     bancor_v2            0      0.003      0.003  BNT-FF1C/SHEESHA-E768   \n 2771     bancor_v2            0      0.003      0.003    BNT-FF1C/INDEX-4cab   \n 2769     bancor_v2            0      0.003      0.003     BNT-FF1C/EDEN-1559   \n 2054     bancor_v2            0      0.003      0.003     AAVE-DaE9/BNT-FF1C   \n \n                                     tkn0_address  ...     liquidity z_0 y_0  \\\n 0     0xA0b86991c6218b36c1d19D4a2e9Eb0cE3606eB48  ...  9.531908e+16 NaN NaN   \n 1219  0x29127fE04ffa4c32AcAC0fFe17280ABD74eAC313  ...  1.316793e+18 NaN NaN   \n 1231  0x525A8F6F3Ba4752868cde25164382BfbaE3990e1  ...  1.037216e+15 NaN NaN   \n 1230  0x49642110B712C1FD7261Bc074105E9E44676c68F  ...  2.504773e+22 NaN NaN   \n 2635  0x1892F6ff5FBE11c31158F8c6f6F6e33106c5B10E  ...  1.657896e+21 NaN NaN   \n ...                                          ...  ...           ...  ..  ..   \n 1725  0x1F573D6Fb3F13d689FF844B4cE37794d79a7FF1C  ...           NaN NaN NaN   \n 2302  0x1F573D6Fb3F13d689FF844B4cE37794d79a7FF1C  ...           NaN NaN NaN   \n 2771  0x1F573D6Fb3F13d689FF844B4cE37794d79a7FF1C  ...           NaN NaN NaN   \n 2769  0x1F573D6Fb3F13d689FF844B4cE37794d79a7FF1C  ...           NaN NaN NaN   \n 2054  0x7Fc66500c84A76Ad7e9c93437bFc5Ac33E2DDaE9  ...           NaN NaN NaN   \n \n      A_0 B_0  z_1  y_1  A_1  B_1                                  descr  \n 0    NaN NaN  NaN  NaN  NaN  NaN   uniswap_v3 USDC-eB48/WETH-6Cc2 10000  \n 1219 NaN NaN  NaN  NaN  NaN  NaN   uniswap_v3 sifu-C313/USDT-1ec7 10000  \n 1231 NaN NaN  NaN  NaN  NaN  NaN    uniswap_v3 NYM-90e1/WETH-6Cc2 10000  \n 1230 NaN NaN  NaN  NaN  NaN  NaN   uniswap_v3 DINO-c68F/WETH-6Cc2 10000  \n 2635 NaN NaN  NaN  NaN  NaN  NaN   uniswap_v3 MEGA-B10E/WETH-6Cc2 10000  \n ...   ..  ..  ...  ...  ...  ...                                    ...  \n 1725 NaN NaN  NaN  NaN  NaN  NaN      bancor_v2 BNT-FF1C/DIP-cD83 0.003  \n 2302 NaN NaN  NaN  NaN  NaN  NaN  bancor_v2 BNT-FF1C/SHEESHA-E768 0.003  \n 2771 NaN NaN  NaN  NaN  NaN  NaN    bancor_v2 BNT-FF1C/INDEX-4cab 0.003  \n 2769 NaN NaN  NaN  NaN  NaN  NaN     bancor_v2 BNT-FF1C/EDEN-1559 0.003  \n 2054 NaN NaN  NaN  NaN  NaN  NaN     bancor_v2 AAVE-DaE9/BNT-FF1C 0.003  \n \n [3550 rows x 32 columns]), tknin_dec_override=None, tknout_dec_override=None, tknin_addr_override=None, tknout_addr_override=None, exchange_override=None, _amtin_wei=9124624394068032000, _amtout_wei=3298118781339736503394),\n TradeInstruction(ConfigObj=Config(network=_ConfigNetworkTenderly(), db=_ConfigDBPostgres(), logger=_ConfigLoggerDefault(), provider=_ConfigProviderTenderly()), cid='13951577043758477001998358904702496669779', tknin='UNI-F984', amtin=Decimal('3298.118781339736503394'), tknout='WETH-6Cc2', amtout=Decimal('9.874567631330200677'), pair_sorting='', raw_txs='[]', custom_data='', db=DatabaseManager(ConfigObj=Config(network=_ConfigNetworkTenderly(), db=_ConfigDBPostgres(), logger=_ConfigLoggerDefault(), provider=_ConfigProviderTenderly()), contracts={}, filters=[], data=                                       cid                last_updated  \\\n 0     00125d26-4f9d-4936-9a46-7e7708cee9b5  2023-05-06 19:04:10.202420   \n 1219  5bbd01d2-ba90-49e8-8235-0f5183a44204  2023-05-06 19:11:11.844129   \n 1231  5c976f61-5847-4219-a2ee-0b1eb96b2775  2023-05-06 19:18:59.176213   \n 1230  5c87da80-15a0-4c59-baac-e8e9661ee920  2023-05-06 19:00:47.931782   \n 2635  c21eb1b9-cf04-4ec5-bad1-77fb1b29b38b  2023-05-06 19:13:37.076908   \n ...                                    ...                         ...   \n 1725  7ec3e511-0223-44ad-b5bf-e5a9a44158ff  2023-05-06 19:49:57.489499   \n 2302  a943c6e9-686b-4879-8118-b3c3affac2d8  2023-05-06 19:50:26.949196   \n 2771  ccc50a59-3e99-4dc5-9e28-a3fdc32cc832  2023-05-06 19:50:06.921640   \n 2769  ccb53832-8d07-4e16-8225-83b9de4767c4  2023-05-06 19:50:07.452203   \n 2054  97926fa0-7343-4677-8309-900947f76d6b  2023-05-06 19:49:49.198008   \n \n       last_updated_block                                     address  \\\n 0               17203475  0x7BeA39867e4169DBe237d55C8242a8f2fcDcc387   \n 1219            17203475  0x75099758a9D1f43198043825c8Fbcf8A12Be7a74   \n 1231            17203475  0x1c774B48Cd31dcF9FcB4bBb8FF52A8c4B4094C3d   \n 1230            17203475  0x19c10E1F20df3a8c2AC93a62d7FBA719fa777026   \n 2635            17203475  0xdb6897039084A2f8fb2b719716bA7A734f84aa66   \n ...                  ...                                         ...   \n 1725            17203475  0x931D1bF09f81B426fBe4CFDFab0b825b308c8db1   \n 2302            17203475  0xB521525b2E6Ad8Ef4c03E747B4541F366E5b8035   \n 2771            17203475  0x0A3DF697e872aB920f305dB00450c0A372E6C970   \n 2769            17203475  0x3870Ce6642959E3D844837Fd472E717736E06AAe   \n 2054            17203475  0x5bA42FaCDBc4aEAe6bEFcc567fd62e9242Fc69Ad   \n \n      exchange_name  exchange_id        fee  fee_float              pair_name  \\\n 0       uniswap_v3            4  10000.000      0.010    USDC-eB48/WETH-6Cc2   \n 1219    uniswap_v3            4  10000.000      0.010    sifu-C313/USDT-1ec7   \n 1231    uniswap_v3            4  10000.000      0.010     NYM-90e1/WETH-6Cc2   \n 1230    uniswap_v3            4  10000.000      0.010    DINO-c68F/WETH-6Cc2   \n 2635    uniswap_v3            4  10000.000      0.010    MEGA-B10E/WETH-6Cc2   \n ...            ...          ...        ...        ...                    ...   \n 1725     bancor_v2            0      0.003      0.003      BNT-FF1C/DIP-cD83   \n 2302     bancor_v2            0      0.003      0.003  BNT-FF1C/SHEESHA-E768   \n 2771     bancor_v2            0      0.003      0.003    BNT-FF1C/INDEX-4cab   \n 2769     bancor_v2            0      0.003      0.003     BNT-FF1C/EDEN-1559   \n 2054     bancor_v2            0      0.003      0.003     AAVE-DaE9/BNT-FF1C   \n \n                                     tkn0_address  ...     liquidity z_0 y_0  \\\n 0     0xA0b86991c6218b36c1d19D4a2e9Eb0cE3606eB48  ...  9.531908e+16 NaN NaN   \n 1219  0x29127fE04ffa4c32AcAC0fFe17280ABD74eAC313  ...  1.316793e+18 NaN NaN   \n 1231  0x525A8F6F3Ba4752868cde25164382BfbaE3990e1  ...  1.037216e+15 NaN NaN   \n 1230  0x49642110B712C1FD7261Bc074105E9E44676c68F  ...  2.504773e+22 NaN NaN   \n 2635  0x1892F6ff5FBE11c31158F8c6f6F6e33106c5B10E  ...  1.657896e+21 NaN NaN   \n ...                                          ...  ...           ...  ..  ..   \n 1725  0x1F573D6Fb3F13d689FF844B4cE37794d79a7FF1C  ...           NaN NaN NaN   \n 2302  0x1F573D6Fb3F13d689FF844B4cE37794d79a7FF1C  ...           NaN NaN NaN   \n 2771  0x1F573D6Fb3F13d689FF844B4cE37794d79a7FF1C  ...           NaN NaN NaN   \n 2769  0x1F573D6Fb3F13d689FF844B4cE37794d79a7FF1C  ...           NaN NaN NaN   \n 2054  0x7Fc66500c84A76Ad7e9c93437bFc5Ac33E2DDaE9  ...           NaN NaN NaN   \n \n      A_0 B_0  z_1  y_1  A_1  B_1                                  descr  \n 0    NaN NaN  NaN  NaN  NaN  NaN   uniswap_v3 USDC-eB48/WETH-6Cc2 10000  \n 1219 NaN NaN  NaN  NaN  NaN  NaN   uniswap_v3 sifu-C313/USDT-1ec7 10000  \n 1231 NaN NaN  NaN  NaN  NaN  NaN    uniswap_v3 NYM-90e1/WETH-6Cc2 10000  \n 1230 NaN NaN  NaN  NaN  NaN  NaN   uniswap_v3 DINO-c68F/WETH-6Cc2 10000  \n 2635 NaN NaN  NaN  NaN  NaN  NaN   uniswap_v3 MEGA-B10E/WETH-6Cc2 10000  \n ...   ..  ..  ...  ...  ...  ...                                    ...  \n 1725 NaN NaN  NaN  NaN  NaN  NaN      bancor_v2 BNT-FF1C/DIP-cD83 0.003  \n 2302 NaN NaN  NaN  NaN  NaN  NaN  bancor_v2 BNT-FF1C/SHEESHA-E768 0.003  \n 2771 NaN NaN  NaN  NaN  NaN  NaN    bancor_v2 BNT-FF1C/INDEX-4cab 0.003  \n 2769 NaN NaN  NaN  NaN  NaN  NaN     bancor_v2 BNT-FF1C/EDEN-1559 0.003  \n 2054 NaN NaN  NaN  NaN  NaN  NaN     bancor_v2 AAVE-DaE9/BNT-FF1C 0.003  \n \n [3550 rows x 32 columns]), tknin_dec_override=None, tknout_dec_override=None, tknin_addr_override=None, tknout_addr_override=None, exchange_override=None, _amtin_wei=3298118781339736503394, _amtout_wei=9874567631330200677)]"
     },
     "execution_count": 21,
     "metadata": {},
     "output_type": "execute_result"
    }
   ],
   "source": [
    "exact = bot._run(flashloan_tokens=flt, CCm=CCm2, result=bot.XS_EXACT)\n",
    "exact"
   ]
  },
  {
   "cell_type": "code",
   "execution_count": 22,
   "id": "9cb66ee5",
   "metadata": {
    "ExecuteTime": {
     "end_time": "2023-05-10T07:08:48.272754900Z",
     "start_time": "2023-05-10T07:08:48.247756Z"
    }
   },
   "outputs": [],
   "source": [
    "# agg = bot._run(flashloan_tokens=flt, CCm=CCm, result=bot.XS_AGGTI)\n",
    "# agg"
   ]
  },
  {
   "cell_type": "code",
   "execution_count": 23,
   "id": "a0cd2ff1",
   "metadata": {
    "ExecuteTime": {
     "end_time": "2023-05-10T07:08:48.277754900Z",
     "start_time": "2023-05-10T07:08:48.265754700Z"
    }
   },
   "outputs": [],
   "source": [
    "# agg[0].raw_txs"
   ]
  },
  {
   "cell_type": "code",
   "execution_count": 24,
   "id": "f7f21e07",
   "metadata": {
    "ExecuteTime": {
     "end_time": "2023-05-10T07:08:48.296756500Z",
     "start_time": "2023-05-10T07:08:48.277754900Z"
    }
   },
   "outputs": [],
   "source": [
    "# agg[1].raw_txs"
   ]
  },
  {
   "cell_type": "code",
   "execution_count": 25,
   "id": "8b0746ac",
   "metadata": {
    "ExecuteTime": {
     "end_time": "2023-05-10T07:08:48.308828300Z",
     "start_time": "2023-05-10T07:08:48.293757200Z"
    }
   },
   "outputs": [
    {
     "data": {
      "text/plain": "(9124624394068032000, 3298118781339736503394)"
     },
     "execution_count": 25,
     "metadata": {},
     "output_type": "execute_result"
    }
   ],
   "source": [
    "exact[0].amtin_wei, exact[0].amtout_wei"
   ]
  },
  {
   "cell_type": "code",
   "execution_count": 26,
   "id": "fc64082d",
   "metadata": {
    "ExecuteTime": {
     "end_time": "2023-05-10T07:08:48.336872600Z",
     "start_time": "2023-05-10T07:08:48.309827700Z"
    }
   },
   "outputs": [
    {
     "data": {
      "text/plain": "(3298118781339736503394, 9874567631330200677)"
     },
     "execution_count": 26,
     "metadata": {},
     "output_type": "execute_result"
    }
   ],
   "source": [
    "exact[1].amtin_wei, exact[1].amtout_wei"
   ]
  },
  {
   "cell_type": "code",
   "execution_count": 27,
   "id": "1905eb9d",
   "metadata": {
    "ExecuteTime": {
     "end_time": "2023-05-10T07:08:52.549551700Z",
     "start_time": "2023-05-10T07:08:48.325872600Z"
    }
   },
   "outputs": [
    {
     "name": "stderr",
     "output_type": "stream",
     "text": [
      "C:\\Users\\Kveen\\PycharmProjects\\carbonbot\\resources\\NBTest\\fastlane_bot\\tools\\optimizer.py:1310: RuntimeWarning: divide by zero encountered in scalar divide\n",
      "  price = get(p, tokens_ix.get(tknb)) / get(p, tokens_ix.get(tknq))\n",
      "C:\\Users\\Kveen\\PycharmProjects\\carbonbot\\resources\\NBTest\\fastlane_bot\\tools\\optimizer.py:1310: RuntimeWarning: divide by zero encountered in scalar divide\n",
      "  price = get(p, tokens_ix.get(tknb)) / get(p, tokens_ix.get(tknq))\n",
      "C:\\Users\\Kveen\\PycharmProjects\\carbonbot\\resources\\NBTest\\fastlane_bot\\tools\\optimizer.py:1157: RuntimeWarning: invalid value encountered in subtract\n",
      "  jac[:, j] = (func(x_plus) - y) / Dxj\n",
      "C:\\Users\\Kveen\\PycharmProjects\\carbonbot\\resources\\NBTest\\fastlane_bot\\tools\\optimizer.py:1310: RuntimeWarning: divide by zero encountered in scalar divide\n",
      "  price = get(p, tokens_ix.get(tknb)) / get(p, tokens_ix.get(tknq))\n",
      "C:\\Users\\Kveen\\PycharmProjects\\carbonbot\\resources\\NBTest\\fastlane_bot\\tools\\optimizer.py:1157: RuntimeWarning: invalid value encountered in subtract\n",
      "  jac[:, j] = (func(x_plus) - y) / Dxj\n",
      "C:\\Users\\Kveen\\PycharmProjects\\carbonbot\\resources\\NBTest\\fastlane_bot\\tools\\optimizer.py:1310: RuntimeWarning: divide by zero encountered in scalar divide\n",
      "  price = get(p, tokens_ix.get(tknb)) / get(p, tokens_ix.get(tknq))\n",
      "C:\\Users\\Kveen\\PycharmProjects\\carbonbot\\resources\\NBTest\\fastlane_bot\\tools\\optimizer.py:1157: RuntimeWarning: invalid value encountered in subtract\n",
      "  jac[:, j] = (func(x_plus) - y) / Dxj\n",
      "C:\\Users\\Kveen\\PycharmProjects\\carbonbot\\resources\\NBTest\\fastlane_bot\\tools\\optimizer.py:1310: RuntimeWarning: divide by zero encountered in scalar divide\n",
      "  price = get(p, tokens_ix.get(tknb)) / get(p, tokens_ix.get(tknq))\n",
      "C:\\Users\\Kveen\\PycharmProjects\\carbonbot\\resources\\NBTest\\fastlane_bot\\tools\\optimizer.py:1157: RuntimeWarning: invalid value encountered in subtract\n",
      "  jac[:, j] = (func(x_plus) - y) / Dxj\n",
      "C:\\Users\\Kveen\\PycharmProjects\\carbonbot\\resources\\NBTest\\fastlane_bot\\tools\\optimizer.py:1310: RuntimeWarning: divide by zero encountered in scalar divide\n",
      "  price = get(p, tokens_ix.get(tknb)) / get(p, tokens_ix.get(tknq))\n",
      "C:\\Users\\Kveen\\PycharmProjects\\carbonbot\\resources\\NBTest\\fastlane_bot\\tools\\optimizer.py:1157: RuntimeWarning: invalid value encountered in subtract\n",
      "  jac[:, j] = (func(x_plus) - y) / Dxj\n"
     ]
    },
    {
     "name": "stdout",
     "output_type": "stream",
     "text": [
      "[_calc_carbon_output] before decode:  9934041052273934470 20890099991068244000 0 15417019411766\n",
      "[_calc_carbon_output] after decode:  9.93404105227393447 20.890099991068244 0.0 0.05477225575051392\n",
      "WETH-6Cc2 [] True\n",
      "trade_instruction.cid: e7dfee0364fb40f2b959ec0020f9a7ea\n",
      "trade_instruction.cid: 13951577043758477001998358904702496669779\n"
     ]
    }
   ],
   "source": [
    "route_struct, flashloan_amount, flashloan_token_address = bot._run(flashloan_tokens=flt, CCm=CCm2, result=bot.XS_ROUTE)"
   ]
  },
  {
   "cell_type": "code",
   "execution_count": 28,
   "id": "24db122b",
   "metadata": {
    "ExecuteTime": {
     "end_time": "2023-05-10T07:08:52.590554400Z",
     "start_time": "2023-05-10T07:08:52.550551700Z"
    }
   },
   "outputs": [
    {
     "data": {
      "text/plain": "([{'exchangeId': 4,\n   'targetToken': '0x1f9840a85d5aF5bf1D1762F925BDADdC4201F984',\n   'minTargetAmount': 1,\n   'deadline': 1683708949,\n   'customAddress': '0x1f9840a85d5aF5bf1D1762F925BDADdC4201F984',\n   'customInt': 3000,\n   'customData': '0x'},\n  {'exchangeId': 6,\n   'targetToken': '0xEeeeeEeeeEeEeeEeEeEeeEEEeeeeEeeeeeeeEEeE',\n   'minTargetAmount': 1,\n   'deadline': 1683708949,\n   'customAddress': '0xC02aaA39b223FE8D0A0e5C4F27eAD9083C756Cc2',\n   'customInt': 2000,\n   'customData': '0x0000000000000000000000000000000000000000000000000000000000000020000000000000000000000000000000000000000000000000000000000000000100000000000000000000000000000029000000000000000000000000000000530000000000000000000000000000000000000000000000b2ca97b5723f387462'}],\n 9124624394068032000,\n '0xEeeeeEeeeEeEeeEeEeEeeEEEeeeeEeeeeeeeEEeE')"
     },
     "execution_count": 28,
     "metadata": {},
     "output_type": "execute_result"
    }
   ],
   "source": [
    "route_struct, flashloan_amount, flashloan_token_address"
   ]
  },
  {
   "attachments": {},
   "cell_type": "markdown",
   "id": "628bca30",
   "metadata": {},
   "source": [
    "# Tenderly Tx Submission"
   ]
  },
  {
   "cell_type": "code",
   "execution_count": 29,
   "id": "76a8ec45",
   "metadata": {
    "ExecuteTime": {
     "end_time": "2023-05-10T07:08:52.597555500Z",
     "start_time": "2023-05-10T07:08:52.572551800Z"
    }
   },
   "outputs": [],
   "source": [
    "# C.w3.provider.endpoint_uri"
   ]
  },
  {
   "cell_type": "code",
   "execution_count": 30,
   "id": "477ac528",
   "metadata": {
    "ExecuteTime": {
     "end_time": "2023-05-10T07:08:52.597555500Z",
     "start_time": "2023-05-10T07:08:52.590554400Z"
    }
   },
   "outputs": [],
   "source": [
    "# C.w3.eth.getBlock(C.w3.eth.block_number).timestamp"
   ]
  },
  {
   "cell_type": "code",
   "execution_count": 31,
   "id": "c1956941",
   "metadata": {
    "ExecuteTime": {
     "end_time": "2023-05-10T07:08:52.617061200Z",
     "start_time": "2023-05-10T07:08:52.597555500Z"
    }
   },
   "outputs": [],
   "source": [
    "# C.provider.CARBON_CONTROLLER_CONTRACT.strategy(13951577043758477001998358904702496669788)"
   ]
  },
  {
   "cell_type": "code",
   "execution_count": 32,
   "id": "6599f4a9",
   "metadata": {
    "ExecuteTime": {
     "end_time": "2023-05-10T07:08:54.644868500Z",
     "start_time": "2023-05-10T07:08:52.613076300Z"
    }
   },
   "outputs": [
    {
     "name": "stdout",
     "output_type": "stream",
     "text": [
      "{'exchangeId': 4, 'targetToken': '0x1f9840a85d5aF5bf1D1762F925BDADdC4201F984', 'minTargetAmount': 1, 'deadline': 1683708949, 'customAddress': '0x1f9840a85d5aF5bf1D1762F925BDADdC4201F984', 'customInt': 3000, 'customData': '0x'}\n",
      "\n",
      "\n",
      "{'exchangeId': 6, 'targetToken': '0xEeeeeEeeeEeEeeEeEeEeeEEEeeeeEeeeeeeeEEeE', 'minTargetAmount': 1, 'deadline': 1683708949, 'customAddress': '0xC02aaA39b223FE8D0A0e5C4F27eAD9083C756Cc2', 'customInt': 2000, 'customData': '0x0000000000000000000000000000000000000000000000000000000000000020000000000000000000000000000000000000000000000000000000000000000100000000000000000000000000000029000000000000000000000000000000530000000000000000000000000000000000000000000000b2ca97b5723f387462'}\n",
      "\n",
      "\n",
      "Submitting transaction to Tenderly...src_amount=9124624394068032000 src_address=0xEeeeeEeeeEeEeeEeEeEeeEEEeeeeEeeeeeeeEEeE\n"
     ]
    },
    {
     "data": {
      "text/plain": "AttributeDict({'transactionHash': HexBytes('0x7ea78b3432b86821019ee7fb133ebc46a09df0059d6678e29d7fcb7a8847103e'),\n 'transactionIndex': 0,\n 'blockHash': HexBytes('0x94bd54fa5b5da842e9eb36ef1c89268205accb2e6cfe5354b43183884a85d71c'),\n 'blockNumber': 17213282,\n 'from': '0x28C6c06298d514Db089934071355E5743bf21d60',\n 'to': '0x41Eeba3355d7D6FF628B7982F3F9D055c39488cB',\n 'cumulativeGasUsed': 314078,\n 'gasUsed': 314078,\n 'effectiveGasPrice': 0,\n 'contractAddress': None,\n 'logs': [],\n 'logsBloom': HexBytes('0x00000000000000000000000000000000000000000000000000000000000000000000000000000000000000000000000000000000000000000000000000000000000000000000000000000000000000000000000000000000000000000000000000000000000000000000000000000000000000000000000000000000000000000000000000000000000000000000000000000000000000000000000000000000000000000000000000000000000000000000000000000000000000000000000000000000000000000000000000000000000000000000000000000000000000000000000000000000000000000000000000000000000000000000000000000000'),\n 'status': 0,\n 'type': '0x0'})"
     },
     "execution_count": 32,
     "metadata": {},
     "output_type": "execute_result"
    }
   ],
   "source": [
    "### This to manually submit\n",
    "bot._validate_and_submit_transaction_tenderly(\n",
    "        ConfigObj = C,\n",
    "        route_struct = route_struct,\n",
    "        src_amount = flashloan_amount,\n",
    "        src_address = flashloan_token_address,\n",
    "            )"
   ]
  },
  {
   "attachments": {},
   "cell_type": "markdown",
   "id": "993e6614",
   "metadata": {},
   "source": [
    "# MAINNNET Preferred Tx Submission Method"
   ]
  },
  {
   "cell_type": "code",
   "execution_count": 33,
   "id": "67273141",
   "metadata": {
    "ExecuteTime": {
     "end_time": "2023-05-10T07:08:54.660370100Z",
     "start_time": "2023-05-10T07:08:54.645868500Z"
    }
   },
   "outputs": [],
   "source": [
    "# from fastlane_bot.helpers import TxHelpers"
   ]
  },
  {
   "cell_type": "code",
   "execution_count": 34,
   "id": "75ae6224",
   "metadata": {
    "ExecuteTime": {
     "end_time": "2023-05-10T07:08:54.679371700Z",
     "start_time": "2023-05-10T07:08:54.661370100Z"
    }
   },
   "outputs": [],
   "source": [
    "# pool = (\n",
    "#     bot.db.get_pool(exchange_name=bot.ConfigObj.BANCOR_V3_NAME, pair_name='BNT-FF1C/ETH-EEeE')\n",
    "# )\n",
    "# bnt_eth = (int(pool.tkn0_balance), int(pool.tkn1_balance))\n",
    "\n",
    "# # Init TxHelpers\n",
    "# tx_helpers = TxHelpers(ConfigObj=bot.ConfigObj)\n",
    "# # Submit tx\n",
    "\n"
   ]
  },
  {
   "cell_type": "code",
   "execution_count": 35,
   "id": "17ab9e38",
   "metadata": {
    "ExecuteTime": {
     "end_time": "2023-05-10T07:08:54.702882400Z",
     "start_time": "2023-05-10T07:08:54.678370600Z"
    }
   },
   "outputs": [],
   "source": [
    "# tx_helpers.validate_and_submit_transaction(route_struct=route_struct, src_amt=flashloan_amount,\n",
    "#                                                     src_address=flashloan_token_address, bnt_eth=bnt_eth,\n",
    "#                                                     expected_profit=Decimal('1000'), safety_override=True)"
   ]
  },
  {
   "attachments": {},
   "cell_type": "markdown",
   "id": "0eb9760c",
   "metadata": {},
   "source": [
    "# MAINNET Forced Tx Submission Method"
   ]
  },
  {
   "cell_type": "code",
   "execution_count": 36,
   "id": "931af988",
   "metadata": {
    "ExecuteTime": {
     "end_time": "2023-05-10T07:08:54.707882400Z",
     "start_time": "2023-05-10T07:08:54.692373800Z"
    }
   },
   "outputs": [],
   "source": [
    "# # Initialize tx helper\n",
    "# tx_helper = TxHelper(\n",
    "#     usd_gas_limit=55,\n",
    "#     ConfigObj=bot.ConfigObj,\n",
    "#     gas_price_multiplier = 1\n",
    "# )\n",
    "# # # Submit the transaction\n",
    "# # tx_helper.submit_flashloan_arb_tx(\n",
    "# #     arb_data=route_struct,\n",
    "# #     flashloan_token_address=flashloan_token_address,\n",
    "# #     flashloan_amount=flashloan_amount,\n",
    "# #     verbose=True,\n",
    "# # )"
   ]
  },
  {
   "cell_type": "code",
   "execution_count": 37,
   "id": "5894289c",
   "metadata": {
    "ExecuteTime": {
     "end_time": "2023-05-10T07:08:54.722881500Z",
     "start_time": "2023-05-10T07:08:54.707882400Z"
    }
   },
   "outputs": [],
   "source": [
    "# tx_helper.gas_limit"
   ]
  }
 ],
 "metadata": {
  "jupytext": {
   "encoding": "# -*- coding: utf-8 -*-",
   "formats": "ipynb,py:light"
  },
  "kernelspec": {
   "display_name": "Python 3 (ipykernel)",
   "language": "python",
   "name": "python3"
  },
  "language_info": {
   "codemirror_mode": {
    "name": "ipython",
    "version": 3
   },
   "file_extension": ".py",
   "mimetype": "text/x-python",
   "name": "python",
   "nbconvert_exporter": "python",
   "pygments_lexer": "ipython3",
   "version": "3.10.10"
  }
 },
 "nbformat": 4,
 "nbformat_minor": 5
}

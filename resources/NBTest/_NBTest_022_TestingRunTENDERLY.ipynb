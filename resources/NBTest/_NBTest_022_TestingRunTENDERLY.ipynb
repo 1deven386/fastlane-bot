{
 "cells": [
  {
   "cell_type": "code",
   "execution_count": 1,
   "id": "8f04c50a-67fe-4f09-822d-6ed6e3ac43e4",
   "metadata": {
    "ExecuteTime": {
     "end_time": "2023-05-08T06:14:31.204327500Z",
     "start_time": "2023-05-08T06:14:26.959036300Z"
    }
   },
   "outputs": [
    {
     "name": "stdout",
     "output_type": "stream",
     "text": [
      "Using default database url, if you want to use a different database, set the backend_url found at the bottom of manager_base.py\n",
      "Error adding Ethereum blockchain to database Ethereum, (psycopg2.errors.UniqueViolation) duplicate key value violates unique constraint \"ix_blockchains_name\"\n",
      "DETAIL:  Key (name)=(Ethereum) already exists.\n",
      "\n",
      "[SQL: INSERT INTO blockchains (name, block_number) VALUES (%(name)s, %(block_number)s) RETURNING blockchains.id]\n",
      "[parameters: {'name': 'Ethereum', 'block_number': 0}]\n",
      "(Background on this error at: https://sqlalche.me/e/20/gkpj) skipping...\n",
      "Error adding exchange carbon_v1 to database, (psycopg2.errors.UniqueViolation) duplicate key value violates unique constraint \"exchanges_pkey\"\n",
      "DETAIL:  Key (id)=(6) already exists.\n",
      "\n",
      "[SQL: INSERT INTO exchanges (id, name, blockchain_name) VALUES (%(id)s, %(name)s, %(blockchain_name)s)]\n",
      "[parameters: {'id': 6, 'name': 'carbon_v1', 'blockchain_name': 'Ethereum'}]\n",
      "(Background on this error at: https://sqlalche.me/e/20/gkpj) skipping...\n",
      "Error adding exchange bancor_v2 to database, (psycopg2.errors.UniqueViolation) duplicate key value violates unique constraint \"exchanges_pkey\"\n",
      "DETAIL:  Key (id)=(1) already exists.\n",
      "\n",
      "[SQL: INSERT INTO exchanges (id, name, blockchain_name) VALUES (%(id)s, %(name)s, %(blockchain_name)s)]\n",
      "[parameters: {'id': 1, 'name': 'bancor_v2', 'blockchain_name': 'Ethereum'}]\n",
      "(Background on this error at: https://sqlalche.me/e/20/gkpj) skipping...\n",
      "Error adding exchange bancor_v3 to database, (psycopg2.errors.UniqueViolation) duplicate key value violates unique constraint \"exchanges_pkey\"\n",
      "DETAIL:  Key (id)=(2) already exists.\n",
      "\n",
      "[SQL: INSERT INTO exchanges (id, name, blockchain_name) VALUES (%(id)s, %(name)s, %(blockchain_name)s)]\n",
      "[parameters: {'id': 2, 'name': 'bancor_v3', 'blockchain_name': 'Ethereum'}]\n",
      "(Background on this error at: https://sqlalche.me/e/20/gkpj) skipping...\n",
      "Error adding exchange uniswap_v2 to database, (psycopg2.errors.UniqueViolation) duplicate key value violates unique constraint \"exchanges_pkey\"\n",
      "DETAIL:  Key (id)=(3) already exists.\n",
      "\n",
      "[SQL: INSERT INTO exchanges (id, name, blockchain_name) VALUES (%(id)s, %(name)s, %(blockchain_name)s)]\n",
      "[parameters: {'id': 3, 'name': 'uniswap_v2', 'blockchain_name': 'Ethereum'}]\n",
      "(Background on this error at: https://sqlalche.me/e/20/gkpj) skipping...\n",
      "Error adding exchange uniswap_v3 to database, (psycopg2.errors.UniqueViolation) duplicate key value violates unique constraint \"exchanges_pkey\"\n",
      "DETAIL:  Key (id)=(4) already exists.\n",
      "\n",
      "[SQL: INSERT INTO exchanges (id, name, blockchain_name) VALUES (%(id)s, %(name)s, %(blockchain_name)s)]\n",
      "[parameters: {'id': 4, 'name': 'uniswap_v3', 'blockchain_name': 'Ethereum'}]\n",
      "(Background on this error at: https://sqlalche.me/e/20/gkpj) skipping...\n",
      "Error adding exchange sushiswap_v2 to database, (psycopg2.errors.UniqueViolation) duplicate key value violates unique constraint \"exchanges_pkey\"\n",
      "DETAIL:  Key (id)=(5) already exists.\n",
      "\n",
      "[SQL: INSERT INTO exchanges (id, name, blockchain_name) VALUES (%(id)s, %(name)s, %(blockchain_name)s)]\n",
      "[parameters: {'id': 5, 'name': 'sushiswap_v2', 'blockchain_name': 'Ethereum'}]\n",
      "(Background on this error at: https://sqlalche.me/e/20/gkpj) skipping...\n",
      "ConstantProductCurve v2.10.1 (07/May/2023)\n",
      "CarbonBot v3-b2.1 (03/May/2023)\n",
      "imported m, np, pd, plt, os, sys, decimal; defined iseq, raises, require\n"
     ]
    },
    {
     "name": "stderr",
     "output_type": "stream",
     "text": [
      "C:\\Users\\nicho\\AppData\\Local\\Temp\\ipykernel_58120\\1801012949.py:8: MatplotlibDeprecationWarning: The seaborn styles shipped by Matplotlib are deprecated since 3.6, as they no longer correspond to the styles shipped by seaborn. However, they will remain available as 'seaborn-v0_8-<style>'. Alternatively, directly use the seaborn API instead.\n",
      "  plt.style.use('seaborn-dark')\n"
     ]
    },
    {
     "name": "stdout",
     "output_type": "stream",
     "text": [
      "Version = 3-b2.1 [requirements >= 2.0 is met]\n"
     ]
    }
   ],
   "source": [
    "from fastlane_bot import Config, ConfigDB, ConfigNetwork, ConfigProvider\n",
    "from fastlane_bot.bot import CarbonBot\n",
    "from fastlane_bot.tools.cpc import ConstantProductCurve as CPC, CPCContainer, T\n",
    "from fastlane_bot.helpers import TxHelper\n",
    "print(\"{0.__name__} v{0.__VERSION__} ({0.__DATE__})\".format(CPC))\n",
    "print(\"{0.__name__} v{0.__VERSION__} ({0.__DATE__})\".format(CarbonBot))\n",
    "from fastlane_bot.testing import *\n",
    "plt.style.use('seaborn-dark')\n",
    "plt.rcParams['figure.figsize'] = [12,6]\n",
    "from fastlane_bot import __VERSION__\n",
    "require(\"2.0\", __VERSION__)"
   ]
  },
  {
   "attachments": {},
   "cell_type": "markdown",
   "id": "b3f59f14-b91b-4dba-94b0-3d513aaf41c7",
   "metadata": {},
   "source": [
    "# Testing the _run functions on TENDERLY [NBTest022]"
   ]
  },
  {
   "attachments": {},
   "cell_type": "markdown",
   "id": "cf03072d-6304-41f8-b132-9470ae81ac7c",
   "metadata": {},
   "source": [
    "## MAINNET Configuration"
   ]
  },
  {
   "attachments": {},
   "cell_type": "markdown",
   "id": "0990888a-698c-487c-9142-80e62a8393ac",
   "metadata": {},
   "source": [
    "### Set up the bot and curves"
   ]
  },
  {
   "cell_type": "code",
   "execution_count": 2,
   "id": "da9ff008-cb12-44f7-93a8-84f7386da886",
   "metadata": {
    "ExecuteTime": {
     "end_time": "2023-05-08T06:14:36.959100600Z",
     "start_time": "2023-05-08T06:14:31.205330100Z"
    }
   },
   "outputs": [],
   "source": [
    "C = Config.new(config=Config.CONFIG_TENDERLY)\n",
    "assert C.DATABASE == C.DATABASE_POSTGRES\n",
    "# assert C.POSTGRES_DB == \"defaultdb\"\n",
    "assert C.NETWORK == C.NETWORK_TENDERLY\n",
    "assert C.PROVIDER == C.PROVIDER_TENDERLY\n",
    "bot = CarbonBot(ConfigObj=C)\n",
    "assert str(type(bot.db)) == \"<class 'fastlane_bot.db.manager.DatabaseManager'>\""
   ]
  },
  {
   "cell_type": "code",
   "execution_count": 3,
   "id": "4c184a25",
   "metadata": {
    "ExecuteTime": {
     "end_time": "2023-05-08T06:14:37.504944700Z",
     "start_time": "2023-05-08T06:14:36.960100600Z"
    }
   },
   "outputs": [
    {
     "name": "stdout",
     "output_type": "stream",
     "text": [
      "Number of curves: 3515\n",
      "Number of tokens: 2230\n",
      "Exchanges: {'sushiswap_v2', 'uniswap_v3', 'uniswap_v2', 'carbon_v1', 'bancor_v3', 'bancor_v2'}\n"
     ]
    }
   ],
   "source": [
    "CCm = bot.get_curves()\n",
    "exch = {c.P(\"exchange\") for c in CCm}\n",
    "print(\"Number of curves:\", len(CCm))\n",
    "print(\"Number of tokens:\", len(CCm.tokens()))\n",
    "print(\"Exchanges:\", exch)"
   ]
  },
  {
   "cell_type": "code",
   "execution_count": 4,
   "id": "d7ee607c",
   "metadata": {
    "ExecuteTime": {
     "end_time": "2023-05-08T06:21:48.511997700Z",
     "start_time": "2023-05-08T06:21:48.494989400Z"
    }
   },
   "outputs": [
    {
     "data": {
      "text/plain": [
       "3412"
      ]
     },
     "execution_count": 4,
     "metadata": {},
     "output_type": "execute_result"
    }
   ],
   "source": [
    "used_curves = [\n",
    "    '340282366920938463463374607431768211527-0', #actually deleted from carbon\n",
    "    '340282366920938463463374607431768211527-1', #actually deleted from carbon\n",
    "    '2722258935367507707706996859454145691730-1',\n",
    "    '1701411834604692317316873037158841057360-1',\n",
    "    '1701411834604692317316873037158841057360-0',\n",
    "    '9187623906865338513511114400657741709390-0'\n",
    "]\n",
    "subcurves = [x for x in CCm if x.cid not in used_curves]\n",
    "no_0x0 = [x for x in subcurves if '0x0-1AD5' not in x.pair]\n",
    "CCm2 = CPCContainer([x for x in no_0x0 if x.params.exchange not in ['bancor_v2']])\n",
    "len(CCm2)"
   ]
  },
  {
   "cell_type": "code",
   "execution_count": 5,
   "id": "b397bc36",
   "metadata": {},
   "outputs": [
    {
     "data": {
      "text/plain": [
       "23"
      ]
     },
     "execution_count": 5,
     "metadata": {},
     "output_type": "execute_result"
    }
   ],
   "source": [
    "pairs = [x.pair.split('/') for x in CCm if x.params.exchange == 'carbon_v1']\n",
    "len(set([x for itm in pairs for x in itm]))"
   ]
  },
  {
   "cell_type": "code",
   "execution_count": 6,
   "id": "79ed1618",
   "metadata": {},
   "outputs": [
    {
     "data": {
      "text/plain": [
       "50"
      ]
     },
     "execution_count": 6,
     "metadata": {},
     "output_type": "execute_result"
    }
   ],
   "source": [
    "pairs = [x.pair for x in CCm if x.params.exchange == 'carbon_v1']\n",
    "len(set(pairs))"
   ]
  },
  {
   "cell_type": "code",
   "execution_count": 7,
   "id": "6445f9db",
   "metadata": {},
   "outputs": [
    {
     "data": {
      "text/plain": [
       "28760.523861948794"
      ]
     },
     "execution_count": 7,
     "metadata": {},
     "output_type": "execute_result"
    }
   ],
   "source": [
    "CCm.bycid(\"f1112f0481b940058d16a49759a9bb3a\").p"
   ]
  },
  {
   "cell_type": "code",
   "execution_count": 8,
   "id": "9a8100d3",
   "metadata": {},
   "outputs": [
    {
     "data": {
      "text/plain": [
       "28409.839918723148"
      ]
     },
     "execution_count": 8,
     "metadata": {},
     "output_type": "execute_result"
    }
   ],
   "source": [
    "CCm.bycid(\"5d5cebf33c0049258c40db6bc90b1558\").p"
   ]
  },
  {
   "cell_type": "code",
   "execution_count": 9,
   "id": "21a0e86c",
   "metadata": {},
   "outputs": [],
   "source": [
    "# CCm.bycid(\"9a52c5bdef1c402497d1c4f5d7501f61\").p"
   ]
  },
  {
   "cell_type": "code",
   "execution_count": 10,
   "id": "7cae2ba6",
   "metadata": {},
   "outputs": [
    {
     "data": {
      "text/plain": [
       "30899.999999999673"
      ]
     },
     "execution_count": 10,
     "metadata": {},
     "output_type": "execute_result"
    }
   ],
   "source": [
    "CCm.bycid(\"12590447576074723148144860474975423823947-0\").p"
   ]
  },
  {
   "cell_type": "code",
   "execution_count": 11,
   "id": "11a64563",
   "metadata": {},
   "outputs": [
    {
     "data": {
      "text/plain": [
       "31000.001577363997"
      ]
     },
     "execution_count": 11,
     "metadata": {},
     "output_type": "execute_result"
    }
   ],
   "source": [
    "1/CCm.bycid(\"12590447576074723148144860474975423823947-1\").p"
   ]
  },
  {
   "attachments": {},
   "cell_type": "markdown",
   "id": "5a26c4b4",
   "metadata": {},
   "source": [
    "## Actual run"
   ]
  },
  {
   "cell_type": "code",
   "execution_count": 13,
   "id": "cab33dc6",
   "metadata": {
    "ExecuteTime": {
     "end_time": "2023-05-08T06:14:37.538237700Z",
     "start_time": "2023-05-08T06:14:37.520180600Z"
    }
   },
   "outputs": [],
   "source": [
    "flt = [T.USDC, T.USDT, T.ETH, T.LINK, T.BNT, T.WBTC, T.DAI]\n",
    "# bot._run(flashloan_tokens=flt, CCm=CCm2)"
   ]
  },
  {
   "attachments": {},
   "cell_type": "markdown",
   "id": "5f2f01c5",
   "metadata": {},
   "source": [
    "## Analytics"
   ]
  },
  {
   "cell_type": "code",
   "execution_count": 14,
   "id": "1419695c",
   "metadata": {
    "ExecuteTime": {
     "end_time": "2023-05-08T06:22:13.748438800Z",
     "start_time": "2023-05-08T06:22:13.234535700Z"
    }
   },
   "outputs": [
    {
     "name": "stderr",
     "output_type": "stream",
     "text": [
      "c:\\Users\\nicho\\Dropbox\\Bancor_Protocol\\Github\\carbonbot\\resources\\NBTest\\fastlane_bot\\tools\\optimizer.py:1310: RuntimeWarning: divide by zero encountered in scalar divide\n",
      "  price = get(p, tokens_ix.get(tknb)) / get(p, tokens_ix.get(tknq))\n",
      "c:\\Users\\nicho\\Dropbox\\Bancor_Protocol\\Github\\carbonbot\\resources\\NBTest\\fastlane_bot\\tools\\optimizer.py:1157: RuntimeWarning: invalid value encountered in subtract\n",
      "  jac[:, j] = (func(x_plus) - y) / Dxj\n",
      "c:\\Users\\nicho\\Dropbox\\Bancor_Protocol\\Github\\carbonbot\\resources\\NBTest\\fastlane_bot\\tools\\optimizer.py:1310: RuntimeWarning: divide by zero encountered in scalar divide\n",
      "  price = get(p, tokens_ix.get(tknb)) / get(p, tokens_ix.get(tknq))\n",
      "c:\\Users\\nicho\\Dropbox\\Bancor_Protocol\\Github\\carbonbot\\resources\\NBTest\\fastlane_bot\\tools\\optimizer.py:1157: RuntimeWarning: invalid value encountered in subtract\n",
      "  jac[:, j] = (func(x_plus) - y) / Dxj\n",
      "c:\\Users\\nicho\\Dropbox\\Bancor_Protocol\\Github\\carbonbot\\resources\\NBTest\\fastlane_bot\\tools\\optimizer.py:1310: RuntimeWarning: divide by zero encountered in scalar divide\n",
      "  price = get(p, tokens_ix.get(tknb)) / get(p, tokens_ix.get(tknq))\n",
      "c:\\Users\\nicho\\Dropbox\\Bancor_Protocol\\Github\\carbonbot\\resources\\NBTest\\fastlane_bot\\tools\\optimizer.py:1157: RuntimeWarning: invalid value encountered in subtract\n",
      "  jac[:, j] = (func(x_plus) - y) / Dxj\n",
      "c:\\Users\\nicho\\Dropbox\\Bancor_Protocol\\Github\\carbonbot\\resources\\NBTest\\fastlane_bot\\tools\\optimizer.py:1310: RuntimeWarning: divide by zero encountered in scalar divide\n",
      "  price = get(p, tokens_ix.get(tknb)) / get(p, tokens_ix.get(tknq))\n",
      "c:\\Users\\nicho\\Dropbox\\Bancor_Protocol\\Github\\carbonbot\\resources\\NBTest\\fastlane_bot\\tools\\optimizer.py:1157: RuntimeWarning: invalid value encountered in subtract\n",
      "  jac[:, j] = (func(x_plus) - y) / Dxj\n",
      "c:\\Users\\nicho\\Dropbox\\Bancor_Protocol\\Github\\carbonbot\\resources\\NBTest\\fastlane_bot\\tools\\optimizer.py:1310: RuntimeWarning: divide by zero encountered in scalar divide\n",
      "  price = get(p, tokens_ix.get(tknb)) / get(p, tokens_ix.get(tknq))\n",
      "c:\\Users\\nicho\\Dropbox\\Bancor_Protocol\\Github\\carbonbot\\resources\\NBTest\\fastlane_bot\\tools\\optimizer.py:1157: RuntimeWarning: invalid value encountered in subtract\n",
      "  jac[:, j] = (func(x_plus) - y) / Dxj\n",
      "c:\\Users\\nicho\\Dropbox\\Bancor_Protocol\\Github\\carbonbot\\resources\\NBTest\\fastlane_bot\\tools\\optimizer.py:1310: RuntimeWarning: divide by zero encountered in scalar divide\n",
      "  price = get(p, tokens_ix.get(tknb)) / get(p, tokens_ix.get(tknq))\n"
     ]
    }
   ],
   "source": [
    "ops = bot._find_arbitrage_opportunities_carbon_single_pairwise(flashloan_tokens=flt, CCm=CCm2, result=bot.XS_ARBOPPS)"
   ]
  },
  {
   "cell_type": "code",
   "execution_count": 15,
   "id": "95b2c699",
   "metadata": {},
   "outputs": [
    {
     "data": {
      "text/plain": [
       "(Decimal('164.497847898955631508793288787357030662879470769149881093085241445805877447128'),\n",
       "                                                 DAI-1d0F     WBTC-C599\n",
       " 5d5cebf33c0049258c40db6bc90b1558              945.974947 -3.319780e-02\n",
       " 12590447576074723148144860474975423823947-0 -1023.181683  3.319780e-02\n",
       " AMMIn                                         945.974947  3.319780e-02\n",
       " AMMOut                                      -1023.181683 -3.319780e-02\n",
       " TOTAL NET                                     -77.206736 -2.108536e-12,\n",
       " [{'cid': '5d5cebf33c0049258c40db6bc90b1558',\n",
       "   'tknin': 'DAI-1d0F',\n",
       "   'amtin': 945.9749471584801,\n",
       "   'tknout': 'WBTC-C599',\n",
       "   'amtout': -0.03319779819131696,\n",
       "   'error': None},\n",
       "  {'cid': '12590447576074723148144860474975423823947-0',\n",
       "   'tknin': 'WBTC-C599',\n",
       "   'amtin': 0.03319779818920843,\n",
       "   'tknout': 'DAI-1d0F',\n",
       "   'amtout': -1023.1816830741591,\n",
       "   'error': None}],\n",
       " 'DAI-1d0F',\n",
       " (CPCArbOptimizer.TradeInstruction(cid='5d5cebf33c0049258c40db6bc90b1558', tknin='DAI-1d0F', amtin=945.9749471584801, tknout='WBTC-C599', amtout=-0.03319779819131696, error=None),\n",
       "  CPCArbOptimizer.TradeInstruction(cid='12590447576074723148144860474975423823947-0', tknin='WBTC-C599', amtin=0.03319779818920843, tknout='DAI-1d0F', amtout=-1023.1816830741591, error=None)))"
      ]
     },
     "execution_count": 15,
     "metadata": {},
     "output_type": "execute_result"
    }
   ],
   "source": [
    "ops"
   ]
  },
  {
   "cell_type": "code",
   "execution_count": 16,
   "id": "60b235ca",
   "metadata": {},
   "outputs": [],
   "source": [
    "# ord = bot._run(flashloan_tokens=flt, CCm=CCm2, result=bot.XS_ORDSCAL)\n",
    "# ord"
   ]
  },
  {
   "cell_type": "code",
   "execution_count": 17,
   "id": "fcb66e42",
   "metadata": {},
   "outputs": [],
   "source": [
    "# ti = bot._run(flashloan_tokens=flt, CCm=CCm2, result=bot.XS_TI)\n",
    "# ti"
   ]
  },
  {
   "cell_type": "code",
   "execution_count": 18,
   "id": "f4d25fb2",
   "metadata": {},
   "outputs": [],
   "source": [
    "# ti"
   ]
  },
  {
   "cell_type": "code",
   "execution_count": 19,
   "id": "b9217711",
   "metadata": {
    "ExecuteTime": {
     "end_time": "2023-05-08T06:14:38.217402300Z",
     "start_time": "2023-05-08T06:14:38.199889Z"
    }
   },
   "outputs": [],
   "source": [
    "# ops = bot._find_arbitrage_opportunities(flashloan_tokens=flt, CCm=CCm, result=bot.AO_CANDIDATES)\n",
    "# ops"
   ]
  },
  {
   "cell_type": "code",
   "execution_count": 20,
   "id": "93eff72b",
   "metadata": {
    "ExecuteTime": {
     "end_time": "2023-05-08T06:26:06.408866Z",
     "start_time": "2023-05-08T06:26:06.397362Z"
    }
   },
   "outputs": [],
   "source": [
    "# candf = pd.DataFrame(ops).sort_values(by=0, ascending=False)\n",
    "# candf.reset_index(inplace=True, drop=True)\n",
    "# candf.iloc[5][1]"
   ]
  },
  {
   "cell_type": "code",
   "execution_count": 21,
   "id": "b933a3e3",
   "metadata": {
    "ExecuteTime": {
     "end_time": "2023-05-08T06:27:05.150980900Z",
     "start_time": "2023-05-08T06:27:05.139453Z"
    }
   },
   "outputs": [],
   "source": [
    "# candf.iloc[0][0]"
   ]
  },
  {
   "cell_type": "code",
   "execution_count": 22,
   "id": "5382d20f",
   "metadata": {
    "ExecuteTime": {
     "end_time": "2023-05-08T06:27:07.400357100Z",
     "start_time": "2023-05-08T06:27:05.861575900Z"
    }
   },
   "outputs": [
    {
     "name": "stderr",
     "output_type": "stream",
     "text": [
      "c:\\Users\\nicho\\Dropbox\\Bancor_Protocol\\Github\\carbonbot\\resources\\NBTest\\fastlane_bot\\tools\\optimizer.py:1310: RuntimeWarning: divide by zero encountered in scalar divide\n",
      "  price = get(p, tokens_ix.get(tknb)) / get(p, tokens_ix.get(tknq))\n",
      "c:\\Users\\nicho\\Dropbox\\Bancor_Protocol\\Github\\carbonbot\\resources\\NBTest\\fastlane_bot\\tools\\optimizer.py:1157: RuntimeWarning: invalid value encountered in subtract\n",
      "  jac[:, j] = (func(x_plus) - y) / Dxj\n",
      "c:\\Users\\nicho\\Dropbox\\Bancor_Protocol\\Github\\carbonbot\\resources\\NBTest\\fastlane_bot\\tools\\optimizer.py:1310: RuntimeWarning: divide by zero encountered in scalar divide\n",
      "  price = get(p, tokens_ix.get(tknb)) / get(p, tokens_ix.get(tknq))\n",
      "c:\\Users\\nicho\\Dropbox\\Bancor_Protocol\\Github\\carbonbot\\resources\\NBTest\\fastlane_bot\\tools\\optimizer.py:1157: RuntimeWarning: invalid value encountered in subtract\n",
      "  jac[:, j] = (func(x_plus) - y) / Dxj\n",
      "c:\\Users\\nicho\\Dropbox\\Bancor_Protocol\\Github\\carbonbot\\resources\\NBTest\\fastlane_bot\\tools\\optimizer.py:1310: RuntimeWarning: divide by zero encountered in scalar divide\n",
      "  price = get(p, tokens_ix.get(tknb)) / get(p, tokens_ix.get(tknq))\n",
      "c:\\Users\\nicho\\Dropbox\\Bancor_Protocol\\Github\\carbonbot\\resources\\NBTest\\fastlane_bot\\tools\\optimizer.py:1157: RuntimeWarning: invalid value encountered in subtract\n",
      "  jac[:, j] = (func(x_plus) - y) / Dxj\n",
      "c:\\Users\\nicho\\Dropbox\\Bancor_Protocol\\Github\\carbonbot\\resources\\NBTest\\fastlane_bot\\tools\\optimizer.py:1310: RuntimeWarning: divide by zero encountered in scalar divide\n",
      "  price = get(p, tokens_ix.get(tknb)) / get(p, tokens_ix.get(tknq))\n",
      "c:\\Users\\nicho\\Dropbox\\Bancor_Protocol\\Github\\carbonbot\\resources\\NBTest\\fastlane_bot\\tools\\optimizer.py:1157: RuntimeWarning: invalid value encountered in subtract\n",
      "  jac[:, j] = (func(x_plus) - y) / Dxj\n",
      "c:\\Users\\nicho\\Dropbox\\Bancor_Protocol\\Github\\carbonbot\\resources\\NBTest\\fastlane_bot\\tools\\optimizer.py:1310: RuntimeWarning: divide by zero encountered in scalar divide\n",
      "  price = get(p, tokens_ix.get(tknb)) / get(p, tokens_ix.get(tknq))\n",
      "c:\\Users\\nicho\\Dropbox\\Bancor_Protocol\\Github\\carbonbot\\resources\\NBTest\\fastlane_bot\\tools\\optimizer.py:1157: RuntimeWarning: invalid value encountered in subtract\n",
      "  jac[:, j] = (func(x_plus) - y) / Dxj\n",
      "c:\\Users\\nicho\\Dropbox\\Bancor_Protocol\\Github\\carbonbot\\resources\\NBTest\\fastlane_bot\\tools\\optimizer.py:1310: RuntimeWarning: divide by zero encountered in scalar divide\n",
      "  price = get(p, tokens_ix.get(tknb)) / get(p, tokens_ix.get(tknq))\n"
     ]
    },
    {
     "name": "stdout",
     "output_type": "stream",
     "text": [
      "[_calc_carbon_output] before decode:  19186519855587102209396 19186519855587102209396 5856379920129440 7036135960730302\n",
      "[_calc_carbon_output] after decode:  19186.519855587102209396 19186.519855587102209396 8.45195300565362 167.3320053068149\n"
     ]
    },
    {
     "data": {
      "text/plain": [
       "[TradeInstruction(ConfigObj=Config(network=_ConfigNetworkTenderly(), db=_ConfigDBPostgres(), logger=_ConfigLoggerDefault(), provider=_ConfigProviderTenderly()), cid='5d5cebf33c0049258c40db6bc90b1558', tknin='DAI-1d0F', amtin=Decimal('945.0289722113216'), tknout='WBTC-C599', amtout=Decimal('0.03306550'), pair_sorting='', raw_txs='[]', custom_data='', db=DatabaseManager(ConfigObj=Config(network=_ConfigNetworkTenderly(), db=_ConfigDBPostgres(), logger=_ConfigLoggerDefault(), provider=_ConfigProviderTenderly()), contracts={}, filters=[], data=                                       cid                last_updated  \\\n",
       " 0     00125d26-4f9d-4936-9a46-7e7708cee9b5  2023-05-06 19:04:10.202420   \n",
       " 1219  5bbd01d2-ba90-49e8-8235-0f5183a44204  2023-05-06 19:11:11.844129   \n",
       " 1231  5c976f61-5847-4219-a2ee-0b1eb96b2775  2023-05-06 19:18:59.176213   \n",
       " 1230  5c87da80-15a0-4c59-baac-e8e9661ee920  2023-05-06 19:00:47.931782   \n",
       " 2635  c21eb1b9-cf04-4ec5-bad1-77fb1b29b38b  2023-05-06 19:13:37.076908   \n",
       " ...                                    ...                         ...   \n",
       " 1725  7ec3e511-0223-44ad-b5bf-e5a9a44158ff  2023-05-06 19:49:57.489499   \n",
       " 2302  a943c6e9-686b-4879-8118-b3c3affac2d8  2023-05-06 19:50:26.949196   \n",
       " 2771  ccc50a59-3e99-4dc5-9e28-a3fdc32cc832  2023-05-06 19:50:06.921640   \n",
       " 2769  ccb53832-8d07-4e16-8225-83b9de4767c4  2023-05-06 19:50:07.452203   \n",
       " 2054  97926fa0-7343-4677-8309-900947f76d6b  2023-05-06 19:49:49.198008   \n",
       " \n",
       "       last_updated_block                                     address  \\\n",
       " 0               17203475  0x7BeA39867e4169DBe237d55C8242a8f2fcDcc387   \n",
       " 1219            17203475  0x75099758a9D1f43198043825c8Fbcf8A12Be7a74   \n",
       " 1231            17203475  0x1c774B48Cd31dcF9FcB4bBb8FF52A8c4B4094C3d   \n",
       " 1230            17203475  0x19c10E1F20df3a8c2AC93a62d7FBA719fa777026   \n",
       " 2635            17203475  0xdb6897039084A2f8fb2b719716bA7A734f84aa66   \n",
       " ...                  ...                                         ...   \n",
       " 1725            17203475  0x931D1bF09f81B426fBe4CFDFab0b825b308c8db1   \n",
       " 2302            17203475  0xB521525b2E6Ad8Ef4c03E747B4541F366E5b8035   \n",
       " 2771            17203475  0x0A3DF697e872aB920f305dB00450c0A372E6C970   \n",
       " 2769            17203475  0x3870Ce6642959E3D844837Fd472E717736E06AAe   \n",
       " 2054            17203475  0x5bA42FaCDBc4aEAe6bEFcc567fd62e9242Fc69Ad   \n",
       " \n",
       "      exchange_name  exchange_id        fee  fee_float              pair_name  \\\n",
       " 0       uniswap_v3            4  10000.000      0.010    USDC-eB48/WETH-6Cc2   \n",
       " 1219    uniswap_v3            4  10000.000      0.010    sifu-C313/USDT-1ec7   \n",
       " 1231    uniswap_v3            4  10000.000      0.010     NYM-90e1/WETH-6Cc2   \n",
       " 1230    uniswap_v3            4  10000.000      0.010    DINO-c68F/WETH-6Cc2   \n",
       " 2635    uniswap_v3            4  10000.000      0.010    MEGA-B10E/WETH-6Cc2   \n",
       " ...            ...          ...        ...        ...                    ...   \n",
       " 1725     bancor_v2            0      0.003      0.003      BNT-FF1C/DIP-cD83   \n",
       " 2302     bancor_v2            0      0.003      0.003  BNT-FF1C/SHEESHA-E768   \n",
       " 2771     bancor_v2            0      0.003      0.003    BNT-FF1C/INDEX-4cab   \n",
       " 2769     bancor_v2            0      0.003      0.003     BNT-FF1C/EDEN-1559   \n",
       " 2054     bancor_v2            0      0.003      0.003     AAVE-DaE9/BNT-FF1C   \n",
       " \n",
       "                                     tkn0_address  ...     liquidity z_0 y_0  \\\n",
       " 0     0xA0b86991c6218b36c1d19D4a2e9Eb0cE3606eB48  ...  9.531908e+16 NaN NaN   \n",
       " 1219  0x29127fE04ffa4c32AcAC0fFe17280ABD74eAC313  ...  1.316793e+18 NaN NaN   \n",
       " 1231  0x525A8F6F3Ba4752868cde25164382BfbaE3990e1  ...  1.037216e+15 NaN NaN   \n",
       " 1230  0x49642110B712C1FD7261Bc074105E9E44676c68F  ...  2.504773e+22 NaN NaN   \n",
       " 2635  0x1892F6ff5FBE11c31158F8c6f6F6e33106c5B10E  ...  1.657896e+21 NaN NaN   \n",
       " ...                                          ...  ...           ...  ..  ..   \n",
       " 1725  0x1F573D6Fb3F13d689FF844B4cE37794d79a7FF1C  ...           NaN NaN NaN   \n",
       " 2302  0x1F573D6Fb3F13d689FF844B4cE37794d79a7FF1C  ...           NaN NaN NaN   \n",
       " 2771  0x1F573D6Fb3F13d689FF844B4cE37794d79a7FF1C  ...           NaN NaN NaN   \n",
       " 2769  0x1F573D6Fb3F13d689FF844B4cE37794d79a7FF1C  ...           NaN NaN NaN   \n",
       " 2054  0x7Fc66500c84A76Ad7e9c93437bFc5Ac33E2DDaE9  ...           NaN NaN NaN   \n",
       " \n",
       "      A_0 B_0  z_1  y_1  A_1  B_1                                  descr  \n",
       " 0    NaN NaN  NaN  NaN  NaN  NaN   uniswap_v3 USDC-eB48/WETH-6Cc2 10000  \n",
       " 1219 NaN NaN  NaN  NaN  NaN  NaN   uniswap_v3 sifu-C313/USDT-1ec7 10000  \n",
       " 1231 NaN NaN  NaN  NaN  NaN  NaN    uniswap_v3 NYM-90e1/WETH-6Cc2 10000  \n",
       " 1230 NaN NaN  NaN  NaN  NaN  NaN   uniswap_v3 DINO-c68F/WETH-6Cc2 10000  \n",
       " 2635 NaN NaN  NaN  NaN  NaN  NaN   uniswap_v3 MEGA-B10E/WETH-6Cc2 10000  \n",
       " ...   ..  ..  ...  ...  ...  ...                                    ...  \n",
       " 1725 NaN NaN  NaN  NaN  NaN  NaN      bancor_v2 BNT-FF1C/DIP-cD83 0.003  \n",
       " 2302 NaN NaN  NaN  NaN  NaN  NaN  bancor_v2 BNT-FF1C/SHEESHA-E768 0.003  \n",
       " 2771 NaN NaN  NaN  NaN  NaN  NaN    bancor_v2 BNT-FF1C/INDEX-4cab 0.003  \n",
       " 2769 NaN NaN  NaN  NaN  NaN  NaN     bancor_v2 BNT-FF1C/EDEN-1559 0.003  \n",
       " 2054 NaN NaN  NaN  NaN  NaN  NaN     bancor_v2 AAVE-DaE9/BNT-FF1C 0.003  \n",
       " \n",
       " [3550 rows x 32 columns]), tknin_dec_override=None, tknout_dec_override=None, tknin_addr_override=None, tknout_addr_override=None, exchange_override=None, _amtin_wei=945028972211321600000, _amtout_wei=3306550),\n",
       " TradeInstruction(ConfigObj=Config(network=_ConfigNetworkTenderly(), db=_ConfigDBPostgres(), logger=_ConfigLoggerDefault(), provider=_ConfigProviderTenderly()), cid='12590447576074723148144860474975423823947', tknin='WBTC-C599', amtin=Decimal('0.03306550'), tknout='DAI-1d0F', amtout=Decimal('1017.076335587934700161'), pair_sorting='', raw_txs='[]', custom_data='', db=DatabaseManager(ConfigObj=Config(network=_ConfigNetworkTenderly(), db=_ConfigDBPostgres(), logger=_ConfigLoggerDefault(), provider=_ConfigProviderTenderly()), contracts={}, filters=[], data=                                       cid                last_updated  \\\n",
       " 0     00125d26-4f9d-4936-9a46-7e7708cee9b5  2023-05-06 19:04:10.202420   \n",
       " 1219  5bbd01d2-ba90-49e8-8235-0f5183a44204  2023-05-06 19:11:11.844129   \n",
       " 1231  5c976f61-5847-4219-a2ee-0b1eb96b2775  2023-05-06 19:18:59.176213   \n",
       " 1230  5c87da80-15a0-4c59-baac-e8e9661ee920  2023-05-06 19:00:47.931782   \n",
       " 2635  c21eb1b9-cf04-4ec5-bad1-77fb1b29b38b  2023-05-06 19:13:37.076908   \n",
       " ...                                    ...                         ...   \n",
       " 1725  7ec3e511-0223-44ad-b5bf-e5a9a44158ff  2023-05-06 19:49:57.489499   \n",
       " 2302  a943c6e9-686b-4879-8118-b3c3affac2d8  2023-05-06 19:50:26.949196   \n",
       " 2771  ccc50a59-3e99-4dc5-9e28-a3fdc32cc832  2023-05-06 19:50:06.921640   \n",
       " 2769  ccb53832-8d07-4e16-8225-83b9de4767c4  2023-05-06 19:50:07.452203   \n",
       " 2054  97926fa0-7343-4677-8309-900947f76d6b  2023-05-06 19:49:49.198008   \n",
       " \n",
       "       last_updated_block                                     address  \\\n",
       " 0               17203475  0x7BeA39867e4169DBe237d55C8242a8f2fcDcc387   \n",
       " 1219            17203475  0x75099758a9D1f43198043825c8Fbcf8A12Be7a74   \n",
       " 1231            17203475  0x1c774B48Cd31dcF9FcB4bBb8FF52A8c4B4094C3d   \n",
       " 1230            17203475  0x19c10E1F20df3a8c2AC93a62d7FBA719fa777026   \n",
       " 2635            17203475  0xdb6897039084A2f8fb2b719716bA7A734f84aa66   \n",
       " ...                  ...                                         ...   \n",
       " 1725            17203475  0x931D1bF09f81B426fBe4CFDFab0b825b308c8db1   \n",
       " 2302            17203475  0xB521525b2E6Ad8Ef4c03E747B4541F366E5b8035   \n",
       " 2771            17203475  0x0A3DF697e872aB920f305dB00450c0A372E6C970   \n",
       " 2769            17203475  0x3870Ce6642959E3D844837Fd472E717736E06AAe   \n",
       " 2054            17203475  0x5bA42FaCDBc4aEAe6bEFcc567fd62e9242Fc69Ad   \n",
       " \n",
       "      exchange_name  exchange_id        fee  fee_float              pair_name  \\\n",
       " 0       uniswap_v3            4  10000.000      0.010    USDC-eB48/WETH-6Cc2   \n",
       " 1219    uniswap_v3            4  10000.000      0.010    sifu-C313/USDT-1ec7   \n",
       " 1231    uniswap_v3            4  10000.000      0.010     NYM-90e1/WETH-6Cc2   \n",
       " 1230    uniswap_v3            4  10000.000      0.010    DINO-c68F/WETH-6Cc2   \n",
       " 2635    uniswap_v3            4  10000.000      0.010    MEGA-B10E/WETH-6Cc2   \n",
       " ...            ...          ...        ...        ...                    ...   \n",
       " 1725     bancor_v2            0      0.003      0.003      BNT-FF1C/DIP-cD83   \n",
       " 2302     bancor_v2            0      0.003      0.003  BNT-FF1C/SHEESHA-E768   \n",
       " 2771     bancor_v2            0      0.003      0.003    BNT-FF1C/INDEX-4cab   \n",
       " 2769     bancor_v2            0      0.003      0.003     BNT-FF1C/EDEN-1559   \n",
       " 2054     bancor_v2            0      0.003      0.003     AAVE-DaE9/BNT-FF1C   \n",
       " \n",
       "                                     tkn0_address  ...     liquidity z_0 y_0  \\\n",
       " 0     0xA0b86991c6218b36c1d19D4a2e9Eb0cE3606eB48  ...  9.531908e+16 NaN NaN   \n",
       " 1219  0x29127fE04ffa4c32AcAC0fFe17280ABD74eAC313  ...  1.316793e+18 NaN NaN   \n",
       " 1231  0x525A8F6F3Ba4752868cde25164382BfbaE3990e1  ...  1.037216e+15 NaN NaN   \n",
       " 1230  0x49642110B712C1FD7261Bc074105E9E44676c68F  ...  2.504773e+22 NaN NaN   \n",
       " 2635  0x1892F6ff5FBE11c31158F8c6f6F6e33106c5B10E  ...  1.657896e+21 NaN NaN   \n",
       " ...                                          ...  ...           ...  ..  ..   \n",
       " 1725  0x1F573D6Fb3F13d689FF844B4cE37794d79a7FF1C  ...           NaN NaN NaN   \n",
       " 2302  0x1F573D6Fb3F13d689FF844B4cE37794d79a7FF1C  ...           NaN NaN NaN   \n",
       " 2771  0x1F573D6Fb3F13d689FF844B4cE37794d79a7FF1C  ...           NaN NaN NaN   \n",
       " 2769  0x1F573D6Fb3F13d689FF844B4cE37794d79a7FF1C  ...           NaN NaN NaN   \n",
       " 2054  0x7Fc66500c84A76Ad7e9c93437bFc5Ac33E2DDaE9  ...           NaN NaN NaN   \n",
       " \n",
       "      A_0 B_0  z_1  y_1  A_1  B_1                                  descr  \n",
       " 0    NaN NaN  NaN  NaN  NaN  NaN   uniswap_v3 USDC-eB48/WETH-6Cc2 10000  \n",
       " 1219 NaN NaN  NaN  NaN  NaN  NaN   uniswap_v3 sifu-C313/USDT-1ec7 10000  \n",
       " 1231 NaN NaN  NaN  NaN  NaN  NaN    uniswap_v3 NYM-90e1/WETH-6Cc2 10000  \n",
       " 1230 NaN NaN  NaN  NaN  NaN  NaN   uniswap_v3 DINO-c68F/WETH-6Cc2 10000  \n",
       " 2635 NaN NaN  NaN  NaN  NaN  NaN   uniswap_v3 MEGA-B10E/WETH-6Cc2 10000  \n",
       " ...   ..  ..  ...  ...  ...  ...                                    ...  \n",
       " 1725 NaN NaN  NaN  NaN  NaN  NaN      bancor_v2 BNT-FF1C/DIP-cD83 0.003  \n",
       " 2302 NaN NaN  NaN  NaN  NaN  NaN  bancor_v2 BNT-FF1C/SHEESHA-E768 0.003  \n",
       " 2771 NaN NaN  NaN  NaN  NaN  NaN    bancor_v2 BNT-FF1C/INDEX-4cab 0.003  \n",
       " 2769 NaN NaN  NaN  NaN  NaN  NaN     bancor_v2 BNT-FF1C/EDEN-1559 0.003  \n",
       " 2054 NaN NaN  NaN  NaN  NaN  NaN     bancor_v2 AAVE-DaE9/BNT-FF1C 0.003  \n",
       " \n",
       " [3550 rows x 32 columns]), tknin_dec_override=None, tknout_dec_override=None, tknin_addr_override=None, tknout_addr_override=None, exchange_override=None, _amtin_wei=3306550, _amtout_wei=1017076335587934700161)]"
      ]
     },
     "execution_count": 22,
     "metadata": {},
     "output_type": "execute_result"
    }
   ],
   "source": [
    "exact = bot._run(flashloan_tokens=flt, CCm=CCm2, result=bot.XS_EXACT)\n",
    "exact"
   ]
  },
  {
   "cell_type": "code",
   "execution_count": 23,
   "id": "9cb66ee5",
   "metadata": {},
   "outputs": [],
   "source": [
    "# agg = bot._run(flashloan_tokens=flt, CCm=CCm, result=bot.XS_AGGTI)\n",
    "# agg"
   ]
  },
  {
   "cell_type": "code",
   "execution_count": 24,
   "id": "a0cd2ff1",
   "metadata": {},
   "outputs": [],
   "source": [
    "# agg[0].raw_txs"
   ]
  },
  {
   "cell_type": "code",
   "execution_count": 25,
   "id": "f7f21e07",
   "metadata": {},
   "outputs": [],
   "source": [
    "# agg[1].raw_txs"
   ]
  },
  {
   "cell_type": "code",
   "execution_count": 26,
   "id": "8b0746ac",
   "metadata": {},
   "outputs": [
    {
     "data": {
      "text/plain": [
       "(945028972211321600000, 3306550)"
      ]
     },
     "execution_count": 26,
     "metadata": {},
     "output_type": "execute_result"
    }
   ],
   "source": [
    "exact[0].amtin_wei, exact[0].amtout_wei"
   ]
  },
  {
   "cell_type": "code",
   "execution_count": 27,
   "id": "fc64082d",
   "metadata": {},
   "outputs": [
    {
     "data": {
      "text/plain": [
       "(3306550, 1017076335587934700161)"
      ]
     },
     "execution_count": 27,
     "metadata": {},
     "output_type": "execute_result"
    }
   ],
   "source": [
    "exact[1].amtin_wei, exact[1].amtout_wei"
   ]
  },
  {
   "cell_type": "code",
   "execution_count": 39,
   "id": "3a11b7e5",
   "metadata": {},
   "outputs": [
    {
     "data": {
      "text/plain": [
       "0.9940566451437298"
      ]
     },
     "execution_count": 39,
     "metadata": {},
     "output_type": "execute_result"
    }
   ],
   "source": [
    "3286898/3306550"
   ]
  },
  {
   "cell_type": "code",
   "execution_count": 28,
   "id": "1905eb9d",
   "metadata": {},
   "outputs": [
    {
     "name": "stderr",
     "output_type": "stream",
     "text": [
      "c:\\Users\\nicho\\Dropbox\\Bancor_Protocol\\Github\\carbonbot\\resources\\NBTest\\fastlane_bot\\tools\\optimizer.py:1310: RuntimeWarning: divide by zero encountered in scalar divide\n",
      "  price = get(p, tokens_ix.get(tknb)) / get(p, tokens_ix.get(tknq))\n",
      "c:\\Users\\nicho\\Dropbox\\Bancor_Protocol\\Github\\carbonbot\\resources\\NBTest\\fastlane_bot\\tools\\optimizer.py:1157: RuntimeWarning: invalid value encountered in subtract\n",
      "  jac[:, j] = (func(x_plus) - y) / Dxj\n",
      "c:\\Users\\nicho\\Dropbox\\Bancor_Protocol\\Github\\carbonbot\\resources\\NBTest\\fastlane_bot\\tools\\optimizer.py:1310: RuntimeWarning: divide by zero encountered in scalar divide\n",
      "  price = get(p, tokens_ix.get(tknb)) / get(p, tokens_ix.get(tknq))\n",
      "c:\\Users\\nicho\\Dropbox\\Bancor_Protocol\\Github\\carbonbot\\resources\\NBTest\\fastlane_bot\\tools\\optimizer.py:1157: RuntimeWarning: invalid value encountered in subtract\n",
      "  jac[:, j] = (func(x_plus) - y) / Dxj\n",
      "c:\\Users\\nicho\\Dropbox\\Bancor_Protocol\\Github\\carbonbot\\resources\\NBTest\\fastlane_bot\\tools\\optimizer.py:1310: RuntimeWarning: divide by zero encountered in scalar divide\n",
      "  price = get(p, tokens_ix.get(tknb)) / get(p, tokens_ix.get(tknq))\n",
      "c:\\Users\\nicho\\Dropbox\\Bancor_Protocol\\Github\\carbonbot\\resources\\NBTest\\fastlane_bot\\tools\\optimizer.py:1157: RuntimeWarning: invalid value encountered in subtract\n",
      "  jac[:, j] = (func(x_plus) - y) / Dxj\n",
      "c:\\Users\\nicho\\Dropbox\\Bancor_Protocol\\Github\\carbonbot\\resources\\NBTest\\fastlane_bot\\tools\\optimizer.py:1310: RuntimeWarning: divide by zero encountered in scalar divide\n",
      "  price = get(p, tokens_ix.get(tknb)) / get(p, tokens_ix.get(tknq))\n",
      "c:\\Users\\nicho\\Dropbox\\Bancor_Protocol\\Github\\carbonbot\\resources\\NBTest\\fastlane_bot\\tools\\optimizer.py:1157: RuntimeWarning: invalid value encountered in subtract\n",
      "  jac[:, j] = (func(x_plus) - y) / Dxj\n",
      "c:\\Users\\nicho\\Dropbox\\Bancor_Protocol\\Github\\carbonbot\\resources\\NBTest\\fastlane_bot\\tools\\optimizer.py:1310: RuntimeWarning: divide by zero encountered in scalar divide\n",
      "  price = get(p, tokens_ix.get(tknb)) / get(p, tokens_ix.get(tknq))\n",
      "c:\\Users\\nicho\\Dropbox\\Bancor_Protocol\\Github\\carbonbot\\resources\\NBTest\\fastlane_bot\\tools\\optimizer.py:1157: RuntimeWarning: invalid value encountered in subtract\n",
      "  jac[:, j] = (func(x_plus) - y) / Dxj\n",
      "c:\\Users\\nicho\\Dropbox\\Bancor_Protocol\\Github\\carbonbot\\resources\\NBTest\\fastlane_bot\\tools\\optimizer.py:1310: RuntimeWarning: divide by zero encountered in scalar divide\n",
      "  price = get(p, tokens_ix.get(tknb)) / get(p, tokens_ix.get(tknq))\n"
     ]
    },
    {
     "name": "stdout",
     "output_type": "stream",
     "text": [
      "[_calc_carbon_output] before decode:  19186519855587102209396 19186519855587102209396 5856379920129440 7036135960730302\n",
      "[_calc_carbon_output] after decode:  19186.519855587102209396 19186.519855587102209396 8.45195300565362 167.3320053068149\n",
      "DAI-1d0F [] True\n",
      "trade_instruction.cid: 5d5cebf33c0049258c40db6bc90b1558\n",
      "trade_instruction.cid: 12590447576074723148144860474975423823947\n"
     ]
    }
   ],
   "source": [
    "route_struct, flashloan_amount, flashloan_token_address = bot._run(flashloan_tokens=flt, CCm=CCm2, result=bot.XS_ROUTE)"
   ]
  },
  {
   "cell_type": "code",
   "execution_count": 29,
   "id": "24db122b",
   "metadata": {
    "ExecuteTime": {
     "end_time": "2023-05-08T06:27:08.874350300Z",
     "start_time": "2023-05-08T06:27:08.859710400Z"
    }
   },
   "outputs": [
    {
     "data": {
      "text/plain": [
       "([{'exchangeId': 4,\n",
       "   'targetToken': '0x2260FAC5E5542a773Aa44fBCfeDf7C193bc2C599',\n",
       "   'minTargetAmount': 1,\n",
       "   'deadline': 1683693361,\n",
       "   'customAddress': '0x2260FAC5E5542a773Aa44fBCfeDf7C193bc2C599',\n",
       "   'customInt': 3000,\n",
       "   'customData': '0x'},\n",
       "  {'exchangeId': 6,\n",
       "   'targetToken': '0x6B175474E89094C44Da98b954EedeAC495271d0F',\n",
       "   'minTargetAmount': 1,\n",
       "   'deadline': 1683693361,\n",
       "   'customAddress': '0x6B175474E89094C44Da98b954EedeAC495271d0F',\n",
       "   'customInt': 2000,\n",
       "   'customData': '0x00000000000000000000000000000000000000000000000000000000000000200000000000000000000000000000000000000000000000000000000000000001000000000000000000000000000000250000000000000000000000000000004b0000000000000000000000000000000000000000000000000000000000327436'}],\n",
       " 945028972211321600000,\n",
       " '0x6B175474E89094C44Da98b954EedeAC495271d0F')"
      ]
     },
     "execution_count": 29,
     "metadata": {},
     "output_type": "execute_result"
    }
   ],
   "source": [
    "route_struct, flashloan_amount, flashloan_token_address"
   ]
  },
  {
   "attachments": {},
   "cell_type": "markdown",
   "id": "628bca30",
   "metadata": {},
   "source": [
    "# Tenderly Tx Submission"
   ]
  },
  {
   "cell_type": "code",
   "execution_count": 30,
   "id": "76a8ec45",
   "metadata": {},
   "outputs": [],
   "source": [
    "# C.w3.provider.endpoint_uri"
   ]
  },
  {
   "cell_type": "code",
   "execution_count": 31,
   "id": "477ac528",
   "metadata": {},
   "outputs": [],
   "source": [
    "# C.w3.eth.getBlock(C.w3.eth.block_number).timestamp"
   ]
  },
  {
   "cell_type": "code",
   "execution_count": 32,
   "id": "c1956941",
   "metadata": {},
   "outputs": [],
   "source": [
    "# C.provider.CARBON_CONTROLLER_CONTRACT.strategy(13951577043758477001998358904702496669788)"
   ]
  },
  {
   "cell_type": "code",
   "execution_count": 33,
   "id": "6599f4a9",
   "metadata": {
    "ExecuteTime": {
     "end_time": "2023-05-08T06:14:40.017035100Z",
     "start_time": "2023-05-08T06:14:39.998970700Z"
    }
   },
   "outputs": [
    {
     "name": "stdout",
     "output_type": "stream",
     "text": [
      "{'exchangeId': 4, 'targetToken': '0x2260FAC5E5542a773Aa44fBCfeDf7C193bc2C599', 'minTargetAmount': 1, 'deadline': 1683693361, 'customAddress': '0x2260FAC5E5542a773Aa44fBCfeDf7C193bc2C599', 'customInt': 3000, 'customData': '0x'}\n",
      "\n",
      "\n",
      "{'exchangeId': 6, 'targetToken': '0x6B175474E89094C44Da98b954EedeAC495271d0F', 'minTargetAmount': 1, 'deadline': 1683693361, 'customAddress': '0x6B175474E89094C44Da98b954EedeAC495271d0F', 'customInt': 2000, 'customData': '0x00000000000000000000000000000000000000000000000000000000000000200000000000000000000000000000000000000000000000000000000000000001000000000000000000000000000000250000000000000000000000000000004b0000000000000000000000000000000000000000000000000000000000327436'}\n",
      "\n",
      "\n",
      "Submitting transaction to Tenderly...src_amount=945028972211321600000 src_address=0x6B175474E89094C44Da98b954EedeAC495271d0F\n"
     ]
    },
    {
     "data": {
      "text/plain": [
       "AttributeDict({'transactionHash': HexBytes('0xca65c0306495c0f8a5037040d67b25bcb404cb50aa2f24246b6fe9430fbd1fd0'),\n",
       " 'transactionIndex': 0,\n",
       " 'blockHash': HexBytes('0x5c4608fddfd0f73edac9ebbe9244f8cc54f3e7e2ebe74be191e63dd0aeb15bec'),\n",
       " 'blockNumber': 17213260,\n",
       " 'from': '0x28C6c06298d514Db089934071355E5743bf21d60',\n",
       " 'to': '0x41Eeba3355d7D6FF628B7982F3F9D055c39488cB',\n",
       " 'cumulativeGasUsed': 301755,\n",
       " 'gasUsed': 301755,\n",
       " 'effectiveGasPrice': 0,\n",
       " 'contractAddress': None,\n",
       " 'logs': [],\n",
       " 'logsBloom': HexBytes('0x00000000000000000000000000000000000000000000000000000000000000000000000000000000000000000000000000000000000000000000000000000000000000000000000000000000000000000000000000000000000000000000000000000000000000000000000000000000000000000000000000000000000000000000000000000000000000000000000000000000000000000000000000000000000000000000000000000000000000000000000000000000000000000000000000000000000000000000000000000000000000000000000000000000000000000000000000000000000000000000000000000000000000000000000000000000'),\n",
       " 'status': 0,\n",
       " 'type': '0x0'})"
      ]
     },
     "execution_count": 33,
     "metadata": {},
     "output_type": "execute_result"
    }
   ],
   "source": [
    "### This to manually submit\n",
    "bot._validate_and_submit_transaction_tenderly(\n",
    "        ConfigObj = C,\n",
    "        route_struct = route_struct,\n",
    "        src_amount = flashloan_amount,\n",
    "        src_address = flashloan_token_address,\n",
    "            )"
   ]
  },
  {
   "attachments": {},
   "cell_type": "markdown",
   "id": "993e6614",
   "metadata": {},
   "source": [
    "# MAINNNET Preferred Tx Submission Method"
   ]
  },
  {
   "cell_type": "code",
   "execution_count": 34,
   "id": "67273141",
   "metadata": {},
   "outputs": [],
   "source": [
    "# from fastlane_bot.helpers import TxHelpers"
   ]
  },
  {
   "cell_type": "code",
   "execution_count": 35,
   "id": "75ae6224",
   "metadata": {},
   "outputs": [],
   "source": [
    "# pool = (\n",
    "#     bot.db.get_pool(exchange_name=bot.ConfigObj.BANCOR_V3_NAME, pair_name='BNT-FF1C/ETH-EEeE')\n",
    "# )\n",
    "# bnt_eth = (int(pool.tkn0_balance), int(pool.tkn1_balance))\n",
    "\n",
    "# # Init TxHelpers\n",
    "# tx_helpers = TxHelpers(ConfigObj=bot.ConfigObj)\n",
    "# # Submit tx\n",
    "\n"
   ]
  },
  {
   "cell_type": "code",
   "execution_count": 36,
   "id": "17ab9e38",
   "metadata": {},
   "outputs": [],
   "source": [
    "# tx_helpers.validate_and_submit_transaction(route_struct=route_struct, src_amt=flashloan_amount,\n",
    "#                                                     src_address=flashloan_token_address, bnt_eth=bnt_eth,\n",
    "#                                                     expected_profit=Decimal('1000'), safety_override=True)"
   ]
  },
  {
   "attachments": {},
   "cell_type": "markdown",
   "id": "0eb9760c",
   "metadata": {},
   "source": [
    "# MAINNET Forced Tx Submission Method"
   ]
  },
  {
   "cell_type": "code",
   "execution_count": 37,
   "id": "931af988",
   "metadata": {},
   "outputs": [],
   "source": [
    "# # Initialize tx helper\n",
    "# tx_helper = TxHelper(\n",
    "#     usd_gas_limit=55,\n",
    "#     ConfigObj=bot.ConfigObj,\n",
    "#     gas_price_multiplier = 1\n",
    "# )\n",
    "# # # Submit the transaction\n",
    "# # tx_helper.submit_flashloan_arb_tx(\n",
    "# #     arb_data=route_struct,\n",
    "# #     flashloan_token_address=flashloan_token_address,\n",
    "# #     flashloan_amount=flashloan_amount,\n",
    "# #     verbose=True,\n",
    "# # )"
   ]
  },
  {
   "cell_type": "code",
   "execution_count": 38,
   "id": "5894289c",
   "metadata": {},
   "outputs": [],
   "source": [
    "# tx_helper.gas_limit"
   ]
  }
 ],
 "metadata": {
  "jupytext": {
   "encoding": "# -*- coding: utf-8 -*-",
   "formats": "ipynb,py:light"
  },
  "kernelspec": {
   "display_name": "Python 3 (ipykernel)",
   "language": "python",
   "name": "python3"
  },
  "language_info": {
   "codemirror_mode": {
    "name": "ipython",
    "version": 3
   },
   "file_extension": ".py",
   "mimetype": "text/x-python",
   "name": "python",
   "nbconvert_exporter": "python",
   "pygments_lexer": "ipython3",
   "version": "3.10.10"
  }
 },
 "nbformat": 4,
 "nbformat_minor": 5
}

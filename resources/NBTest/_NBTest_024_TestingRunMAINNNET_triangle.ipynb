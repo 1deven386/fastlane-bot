{
 "cells": [
  {
   "cell_type": "code",
   "execution_count": 1,
   "id": "8f04c50a-67fe-4f09-822d-6ed6e3ac43e4",
   "metadata": {
    "ExecuteTime": {
     "end_time": "2023-05-08T06:14:31.204327500Z",
     "start_time": "2023-05-08T06:14:26.959036300Z"
    }
   },
   "outputs": [
    {
     "name": "stdout",
     "output_type": "stream",
     "text": [
      "Using default database url, if you want to use a different database, set the backend_url found at the bottom of manager_base.py\n",
      "Error adding Ethereum blockchain to database Ethereum, (psycopg2.errors.UniqueViolation) duplicate key value violates unique constraint \"ix_blockchains_name\"\n",
      "DETAIL:  Key (name)=(Ethereum) already exists.\n",
      "\n",
      "[SQL: INSERT INTO blockchains (name, block_number) VALUES (%(name)s, %(block_number)s) RETURNING blockchains.id]\n",
      "[parameters: {'name': 'Ethereum', 'block_number': 0}]\n",
      "(Background on this error at: https://sqlalche.me/e/20/gkpj) skipping...\n",
      "Error adding exchange carbon_v1 to database, (psycopg2.errors.UniqueViolation) duplicate key value violates unique constraint \"exchanges_pkey\"\n",
      "DETAIL:  Key (id)=(6) already exists.\n",
      "\n",
      "[SQL: INSERT INTO exchanges (id, name, blockchain_name) VALUES (%(id)s, %(name)s, %(blockchain_name)s)]\n",
      "[parameters: {'id': 6, 'name': 'carbon_v1', 'blockchain_name': 'Ethereum'}]\n",
      "(Background on this error at: https://sqlalche.me/e/20/gkpj) skipping...\n",
      "Error adding exchange bancor_v2 to database, (psycopg2.errors.UniqueViolation) duplicate key value violates unique constraint \"exchanges_pkey\"\n",
      "DETAIL:  Key (id)=(1) already exists.\n",
      "\n",
      "[SQL: INSERT INTO exchanges (id, name, blockchain_name) VALUES (%(id)s, %(name)s, %(blockchain_name)s)]\n",
      "[parameters: {'id': 1, 'name': 'bancor_v2', 'blockchain_name': 'Ethereum'}]\n",
      "(Background on this error at: https://sqlalche.me/e/20/gkpj) skipping...\n",
      "Error adding exchange bancor_v3 to database, (psycopg2.errors.UniqueViolation) duplicate key value violates unique constraint \"exchanges_pkey\"\n",
      "DETAIL:  Key (id)=(2) already exists.\n",
      "\n",
      "[SQL: INSERT INTO exchanges (id, name, blockchain_name) VALUES (%(id)s, %(name)s, %(blockchain_name)s)]\n",
      "[parameters: {'id': 2, 'name': 'bancor_v3', 'blockchain_name': 'Ethereum'}]\n",
      "(Background on this error at: https://sqlalche.me/e/20/gkpj) skipping...\n",
      "Error adding exchange uniswap_v2 to database, (psycopg2.errors.UniqueViolation) duplicate key value violates unique constraint \"exchanges_pkey\"\n",
      "DETAIL:  Key (id)=(3) already exists.\n",
      "\n",
      "[SQL: INSERT INTO exchanges (id, name, blockchain_name) VALUES (%(id)s, %(name)s, %(blockchain_name)s)]\n",
      "[parameters: {'id': 3, 'name': 'uniswap_v2', 'blockchain_name': 'Ethereum'}]\n",
      "(Background on this error at: https://sqlalche.me/e/20/gkpj) skipping...\n",
      "Error adding exchange uniswap_v3 to database, (psycopg2.errors.UniqueViolation) duplicate key value violates unique constraint \"exchanges_pkey\"\n",
      "DETAIL:  Key (id)=(4) already exists.\n",
      "\n",
      "[SQL: INSERT INTO exchanges (id, name, blockchain_name) VALUES (%(id)s, %(name)s, %(blockchain_name)s)]\n",
      "[parameters: {'id': 4, 'name': 'uniswap_v3', 'blockchain_name': 'Ethereum'}]\n",
      "(Background on this error at: https://sqlalche.me/e/20/gkpj) skipping...\n",
      "Error adding exchange sushiswap_v2 to database, (psycopg2.errors.UniqueViolation) duplicate key value violates unique constraint \"exchanges_pkey\"\n",
      "DETAIL:  Key (id)=(5) already exists.\n",
      "\n",
      "[SQL: INSERT INTO exchanges (id, name, blockchain_name) VALUES (%(id)s, %(name)s, %(blockchain_name)s)]\n",
      "[parameters: {'id': 5, 'name': 'sushiswap_v2', 'blockchain_name': 'Ethereum'}]\n",
      "(Background on this error at: https://sqlalche.me/e/20/gkpj) skipping...\n",
      "ConstantProductCurve v2.10.1 (07/May/2023)\n",
      "CarbonBot v3-b2.1 (03/May/2023)\n",
      "imported m, np, pd, plt, os, sys, decimal; defined iseq, raises, require\n"
     ]
    },
    {
     "name": "stderr",
     "output_type": "stream",
     "text": [
      "C:\\Users\\nicho\\AppData\\Local\\Temp\\ipykernel_4548\\326712455.py:9: MatplotlibDeprecationWarning: The seaborn styles shipped by Matplotlib are deprecated since 3.6, as they no longer correspond to the styles shipped by seaborn. However, they will remain available as 'seaborn-v0_8-<style>'. Alternatively, directly use the seaborn API instead.\n",
      "  plt.style.use('seaborn-dark')\n"
     ]
    },
    {
     "name": "stdout",
     "output_type": "stream",
     "text": [
      "Version = 3-b2.1 [requirements >= 2.0 is met]\n"
     ]
    }
   ],
   "source": [
    "from fastlane_bot import Config, ConfigDB, ConfigNetwork, ConfigProvider\n",
    "from fastlane_bot.bot import CarbonBot\n",
    "from fastlane_bot.tools.cpc import ConstantProductCurve as CPC, CPCContainer, T\n",
    "from fastlane_bot.helpers import TxHelper\n",
    "from fastlane_bot.helpers import TxHelpers\n",
    "print(\"{0.__name__} v{0.__VERSION__} ({0.__DATE__})\".format(CPC))\n",
    "print(\"{0.__name__} v{0.__VERSION__} ({0.__DATE__})\".format(CarbonBot))\n",
    "from fastlane_bot.testing import *\n",
    "plt.style.use('seaborn-dark')\n",
    "plt.rcParams['figure.figsize'] = [12,6]\n",
    "from fastlane_bot import __VERSION__\n",
    "require(\"2.0\", __VERSION__)"
   ]
  },
  {
   "attachments": {},
   "cell_type": "markdown",
   "id": "b3f59f14-b91b-4dba-94b0-3d513aaf41c7",
   "metadata": {},
   "source": [
    "# Testing the TRIANGLE functions on MAINNET [NBTest024]"
   ]
  },
  {
   "attachments": {},
   "cell_type": "markdown",
   "id": "cf03072d-6304-41f8-b132-9470ae81ac7c",
   "metadata": {},
   "source": [
    "## MAINNET Configuration"
   ]
  },
  {
   "attachments": {},
   "cell_type": "markdown",
   "id": "0990888a-698c-487c-9142-80e62a8393ac",
   "metadata": {},
   "source": [
    "### Set up the bot and curves"
   ]
  },
  {
   "cell_type": "code",
   "execution_count": 2,
   "id": "da9ff008-cb12-44f7-93a8-84f7386da886",
   "metadata": {
    "ExecuteTime": {
     "end_time": "2023-05-08T06:14:36.959100600Z",
     "start_time": "2023-05-08T06:14:31.205330100Z"
    }
   },
   "outputs": [],
   "source": [
    "C = Config.new(config=Config.CONFIG_MAINNET)\n",
    "assert C.DATABASE == C.DATABASE_POSTGRES\n",
    "assert C.POSTGRES_DB == \"defaultdb\"\n",
    "assert C.NETWORK == C.NETWORK_MAINNET\n",
    "assert C.PROVIDER == C.PROVIDER_ALCHEMY\n",
    "bot = CarbonBot(ConfigObj=C)\n",
    "assert str(type(bot.db)) == \"<class 'fastlane_bot.db.manager.DatabaseManager'>\""
   ]
  },
  {
   "cell_type": "code",
   "execution_count": 3,
   "id": "7d900ccb",
   "metadata": {},
   "outputs": [
    {
     "data": {
      "text/plain": [
       "'https://eth-mainnet.alchemyapi.io/v2/iL373neyzfNEIoAPJDMJC-Xnhb_5WvF9'"
      ]
     },
     "execution_count": 3,
     "metadata": {},
     "output_type": "execute_result"
    }
   ],
   "source": [
    "C.w3.provider.endpoint_uri"
   ]
  },
  {
   "cell_type": "code",
   "execution_count": 4,
   "id": "4c184a25",
   "metadata": {
    "ExecuteTime": {
     "end_time": "2023-05-08T06:14:37.504944700Z",
     "start_time": "2023-05-08T06:14:36.960100600Z"
    }
   },
   "outputs": [
    {
     "name": "stdout",
     "output_type": "stream",
     "text": [
      "Number of curves: 92\n",
      "Number of tokens: 23\n",
      "Exchanges: {'bancor_v3', 'carbon_v1', 'uniswap_v3', 'uniswap_v2'}\n"
     ]
    }
   ],
   "source": [
    "CCm = bot.get_curves()\n",
    "exch = {c.P(\"exchange\") for c in CCm}\n",
    "print(\"Number of curves:\", len(CCm))\n",
    "print(\"Number of tokens:\", len(CCm.tokens()))\n",
    "print(\"Exchanges:\", exch)"
   ]
  },
  {
   "cell_type": "code",
   "execution_count": 5,
   "id": "d7ee607c",
   "metadata": {
    "ExecuteTime": {
     "end_time": "2023-05-08T06:21:48.511997700Z",
     "start_time": "2023-05-08T06:21:48.494989400Z"
    }
   },
   "outputs": [],
   "source": [
    "# skip_curves = []\n",
    "# bad_curves = ['780', '769', '770', '772', '773', '774', '775', '776', '777', '778', '779', '782', '783', '771', '781', '793', '795', '789', '792', '794', '796', '797', '798', '799', '800', '784', '785', '790', '791', '787', '788', '786', '807', '801', '802', '803', '804', '805', '806', '808', '809', '810', '811', '812', '813', '814', '815', '816', '817', '818', '819', '820', '821', '822', '823', '825', '826', '827', '828', '829', '830', '831', '832', '824', '838', '840', '839', '833', '836', '834', '835', '837', '74', '72', '69', '66', '73', '64', '65', '67', '68', '70', '71', '86', '77', '87', '82', '80', '88', '76', '79', '81', '83', '85', '89', '75', '78', '84', '90', '106', '101', '92', '100', '103', '95', '91', '94', '96', '98', '99', '104', '93', '102', '105', '97', '116', '109', '120', '123', '115', '119', '112', '113', '114', '107', '117', '111', '122', '110', '118', '121', '108', '124', '127', '128', '129', '130', '131', '133', '136', '137', '138', '132', '135', '126', '125', '134', '142', '146', '149', '153', '156', '139', '143', '148', '151', '157', '145', '140', '141', '147', '150', '152', '144', '154', '155', '169', '159', '160', '162', '164', '166', '167', '168', '158', '165', '170', '163', '161', '171', '175', '173', '187', '188', '174', '178', '179', '181', '183', '185', '180', '176', '184', '172', '186', '182', '189', '177', '192', '197', '196', '203', '193', '195', '201', '199', '191', '198', '200', '202', '204', '194', '205', '190', '213', '211', '214', '209', '220', '210', '215', '217', '216', '206', '208', '212', '221', '222', '207', '218', '219', '231', '224', '230', '225', '228', '229', '233', '234', '226', '227', '235', '223', '232', '236', '244', '237', '249', '251', '252', '256', '248', '240', '254', '238', '246', '247', '250', '253', '255', '239', '241', '242', '243', '245', '259', '262', '266', '269', '258', '257', '261', '265', '267', '268', '263', '260', '264', '271', '276', '270', '272', '280', '284', '286', '285', '278', '274', '282', '273', '275', '279', '281', '283', '277', '287', '289', '290', '294', '295', '296', '297', '301', '302', '288', '299', '300', '291', '292', '293', '298', '317', '303', '304', '307', '308', '316', '318', '315', '320', '311', '305', '306', '310', '312', '314', '319', '313', '309', '326', '330', '328', '323', '327', '333', '334', '332', '324', '321', '325', '322', '329', '331', '338', '347', '335', '336', '337', '339', '340', '341', '344', '345', '348', '349', '342', '343', '346', '352', '357', '362', '354', '361', '355', '360', '353', '358', '363', '350', '351', '359', '356', '372', '377', '366', '367', '371', '381', '383', '364', '365', '369', '370', '374', '380', '382', '379', '373', '375', '378', '376', '368', '386', '385', '392', '393', '396', '397', '398', '389', '394', '395', '384', '390', '388', '387', '391', '399', '400', '401', '402', '404', '405', '403', '406', '407', '414', '410', '412', '413', '418', '419', '415', '417', '409', '411', '416', '408', '421', '425', '426', '427', '428', '424', '432', '422', '420', '429', '430', '431', '423', '444', '434', '433', '435', '440', '441', '442', '436', '439', '437', '438', '443', '445', '446', '449', '447', '448', '450', '452', '451', '453', '454', '460', '465', '459', '458', '461', '463', '467', '455', '462', '464', '456', '457', '466', '476', '477', '475', '469', '468', '470', '471', '472', '473', '474', '479', '478', '484', '480', '482', '481', '485', '486', '487', '483', '488', '502', '500', '501', '489', '493', '490', '491', '494', '496', '498', '499', '497', '492', '495', '505', '504', '514', '503', '510', '511', '512', '506', '507', '508', '509', '513', '515', '516', '517', '518', '519', '520', '523', '524', '521', '522', '535', '527', '526', '525', '529', '531', '532', '533', '534', '530', '536', '528', '538', '540', '539', '544', '545', '546', '547', '548', '542', '537', '543', '541', '550', '551', '552', '554', '555', '556', '557', '558', '559', '553', '549', '564', '565', '567', '569', '566', '568', '560', '561', '562', '563', '570', '571', '583', '579', '577', '572', '573', '574', '575', '576', '578', '580', '581', '582', '586', '594', '587', '584', '585', '588', '589', '590', '591', '592', '593', '598', '606', '599', '607', '597', '595', '596', '601', '602', '608', '600', '605', '603', '604', '624', '614', '616', '609', '610', '611', '615', '618', '619', '620', '626', '617', '623', '612', '613', '622', '625', '621', '631', '635', '638', '630', '627', '628', '632', '633', '634', '636', '637', '639', '640', '629', '645', '651', '656', '650', '647', '646', '642', '641', '643', '653', '644', '648', '649', '652', '654', '655', '657', '662', '665', '664', '663', '658', '659', '660', '661', '666', '667', '668', '669', '670', '671', '672', '673', '684', '685', '678', '674', '675', '676', '677', '679', '680', '681', '682', '683', '686', '687', '688', '689', '690', '692', '694', '693', '691', '695', '696', '697']\n",
    "# bad_tokens = ['0x0-1AD5'] #'WBTC-C599', 'USDC-eB48', 'USDT-1ec7'\n",
    "\n",
    "# subcurves = [x for x in CCm if x.cid not in skip_curves]\n",
    "# subcurves = [x for x in subcurves if x.cid not in bad_curves]\n",
    "# subcurves = [x for x in subcurves if not any(bad_token in x.pair for bad_token in bad_tokens)]\n",
    "\n",
    "# CCm2 = CPCContainer([x for x in subcurves if x.params.exchange not in ['bancor_v2']])\n",
    "# len(CCm2)"
   ]
  },
  {
   "cell_type": "code",
   "execution_count": 12,
   "id": "3aac7cb6",
   "metadata": {},
   "outputs": [],
   "source": [
    "CCm2 = CCm"
   ]
  },
  {
   "cell_type": "code",
   "execution_count": 7,
   "id": "b397bc36",
   "metadata": {},
   "outputs": [
    {
     "data": {
      "text/plain": [
       "21"
      ]
     },
     "execution_count": 7,
     "metadata": {},
     "output_type": "execute_result"
    }
   ],
   "source": [
    "tokens = [x.pair.split('/') for x in CCm if x.params.exchange == 'carbon_v1']\n",
    "len(set([x for itm in tokens for x in itm]))"
   ]
  },
  {
   "cell_type": "code",
   "execution_count": 8,
   "id": "79ed1618",
   "metadata": {},
   "outputs": [
    {
     "data": {
      "text/plain": [
       "38"
      ]
     },
     "execution_count": 8,
     "metadata": {},
     "output_type": "execute_result"
    }
   ],
   "source": [
    "pairs = [x.pair for x in CCm if x.params.exchange == 'carbon_v1']\n",
    "len(set(pairs))"
   ]
  },
  {
   "cell_type": "code",
   "execution_count": 9,
   "id": "f3452505",
   "metadata": {},
   "outputs": [],
   "source": [
    "# import itertools\n",
    "# from fastlane_bot.tools.optimizer import CPCArbOptimizer\n"
   ]
  },
  {
   "attachments": {},
   "cell_type": "markdown",
   "id": "5a26c4b4",
   "metadata": {},
   "source": [
    "## Actual run"
   ]
  },
  {
   "cell_type": "code",
   "execution_count": 13,
   "id": "cab33dc6",
   "metadata": {
    "ExecuteTime": {
     "end_time": "2023-05-08T06:14:37.538237700Z",
     "start_time": "2023-05-08T06:14:37.520180600Z"
    }
   },
   "outputs": [],
   "source": [
    "flt = [T.WETH, T.USDC , T.DAI, T.USDT, T.WBTC, T.BNT, T.LINK]"
   ]
  },
  {
   "attachments": {},
   "cell_type": "markdown",
   "id": "5f2f01c5",
   "metadata": {},
   "source": [
    "## Analytics"
   ]
  },
  {
   "cell_type": "code",
   "execution_count": 14,
   "id": "1419695c",
   "metadata": {
    "ExecuteTime": {
     "end_time": "2023-05-08T06:22:13.748438800Z",
     "start_time": "2023-05-08T06:22:13.234535700Z"
    }
   },
   "outputs": [],
   "source": [
    "ops = bot._find_arbitrage_opportunities_carbon_single_triangle(flashloan_tokens=flt, CCm=CCm2, result=bot.XS_ARBOPPS)"
   ]
  },
  {
   "cell_type": "code",
   "execution_count": 15,
   "id": "95b2c699",
   "metadata": {},
   "outputs": [
    {
     "data": {
      "text/plain": [
       "(Decimal('10.4289312987700179911551906703805203679991109311231411993503570556640625'),\n",
       "                                             WETH-6Cc2     WBTC-C599  \\\n",
       " 0a1e0af654974dd6848b52233d1aaf34             0.259958 -1.728328e-02   \n",
       " 4083388403051261561560495289181218537493-0        NaN  1.728328e-02   \n",
       " 7ed16708962e459abe5431a176b13aa0            -0.262648           NaN   \n",
       " AMMIn                                        0.259958  1.728328e-02   \n",
       " AMMOut                                      -0.262648 -1.728328e-02   \n",
       " TOTAL NET                                   -0.002690  1.315081e-11   \n",
       " \n",
       "                                                USDC-eB48  \n",
       " 0a1e0af654974dd6848b52233d1aaf34                     NaN  \n",
       " 4083388403051261561560495289181218537493-0 -4.789766e+02  \n",
       " 7ed16708962e459abe5431a176b13aa0            4.789766e+02  \n",
       " AMMIn                                       4.789766e+02  \n",
       " AMMOut                                     -4.789766e+02  \n",
       " TOTAL NET                                  -2.806337e-07  ,\n",
       " [{'cid': '0a1e0af654974dd6848b52233d1aaf34',\n",
       "   'tknin': 'WETH-6Cc2',\n",
       "   'amtin': 0.2599584973650053,\n",
       "   'tknout': 'WBTC-C599',\n",
       "   'amtout': -0.0172832769312663,\n",
       "   'error': None},\n",
       "  {'cid': '4083388403051261561560495289181218537493-0',\n",
       "   'tknin': 'WBTC-C599',\n",
       "   'amtin': 0.017283276944417114,\n",
       "   'tknout': 'USDC-eB48',\n",
       "   'amtout': -478.9765522902162,\n",
       "   'error': None},\n",
       "  {'cid': '7ed16708962e459abe5431a176b13aa0',\n",
       "   'tknin': 'USDC-eB48',\n",
       "   'amtin': 478.9765520095825,\n",
       "   'tknout': 'WETH-6Cc2',\n",
       "   'amtout': -0.2626483562635258,\n",
       "   'error': None}],\n",
       " 'WETH-6Cc2',\n",
       " (CPCArbOptimizer.TradeInstruction(cid='0a1e0af654974dd6848b52233d1aaf34', tknin='WETH-6Cc2', amtin=0.2599584973650053, tknout='WBTC-C599', amtout=-0.0172832769312663, error=None),\n",
       "  CPCArbOptimizer.TradeInstruction(cid='4083388403051261561560495289181218537493-0', tknin='WBTC-C599', amtin=0.017283276944417114, tknout='USDC-eB48', amtout=-478.9765522902162, error=None),\n",
       "  CPCArbOptimizer.TradeInstruction(cid='7ed16708962e459abe5431a176b13aa0', tknin='USDC-eB48', amtin=478.9765520095825, tknout='WETH-6Cc2', amtout=-0.2626483562635258, error=None)))"
      ]
     },
     "execution_count": 15,
     "metadata": {},
     "output_type": "execute_result"
    }
   ],
   "source": [
    "ops"
   ]
  },
  {
   "cell_type": "code",
   "execution_count": null,
   "id": "d87ffc32",
   "metadata": {},
   "outputs": [],
   "source": [
    "break"
   ]
  },
  {
   "cell_type": "code",
   "execution_count": null,
   "id": "60b235ca",
   "metadata": {},
   "outputs": [],
   "source": [
    "# ord = bot._run(flashloan_tokens=flt, CCm=CCm2, result=bot.XS_ORDSCAL)\n",
    "# ord"
   ]
  },
  {
   "cell_type": "code",
   "execution_count": null,
   "id": "fcb66e42",
   "metadata": {},
   "outputs": [],
   "source": [
    "# ti = bot._run(flashloan_tokens=flt, CCm=CCm2, result=bot.XS_TI)\n",
    "# ti"
   ]
  },
  {
   "cell_type": "code",
   "execution_count": null,
   "id": "f4d25fb2",
   "metadata": {},
   "outputs": [],
   "source": [
    "# ti"
   ]
  },
  {
   "cell_type": "code",
   "execution_count": null,
   "id": "b9217711",
   "metadata": {
    "ExecuteTime": {
     "end_time": "2023-05-08T06:14:38.217402300Z",
     "start_time": "2023-05-08T06:14:38.199889Z"
    }
   },
   "outputs": [],
   "source": [
    "# ops = bot._find_arbitrage_opportunities(flashloan_tokens=flt, CCm=CCm, result=bot.AO_CANDIDATES)\n",
    "# ops"
   ]
  },
  {
   "cell_type": "code",
   "execution_count": null,
   "id": "93eff72b",
   "metadata": {
    "ExecuteTime": {
     "end_time": "2023-05-08T06:26:06.408866Z",
     "start_time": "2023-05-08T06:26:06.397362Z"
    }
   },
   "outputs": [],
   "source": [
    "# candf = pd.DataFrame(ops).sort_values(by=0, ascending=False)\n",
    "# candf.reset_index(inplace=True, drop=True)\n",
    "# candf.iloc[5][1]"
   ]
  },
  {
   "cell_type": "code",
   "execution_count": null,
   "id": "b933a3e3",
   "metadata": {
    "ExecuteTime": {
     "end_time": "2023-05-08T06:27:05.150980900Z",
     "start_time": "2023-05-08T06:27:05.139453Z"
    }
   },
   "outputs": [],
   "source": [
    "# candf.iloc[0][0]"
   ]
  },
  {
   "cell_type": "code",
   "execution_count": null,
   "id": "5382d20f",
   "metadata": {
    "ExecuteTime": {
     "end_time": "2023-05-08T06:27:07.400357100Z",
     "start_time": "2023-05-08T06:27:05.861575900Z"
    }
   },
   "outputs": [],
   "source": [
    "# exact = bot._run(flashloan_tokens=flt, CCm=CCm2, result=bot.XS_EXACT)\n",
    "# exact"
   ]
  },
  {
   "cell_type": "code",
   "execution_count": null,
   "id": "9cb66ee5",
   "metadata": {},
   "outputs": [],
   "source": [
    "# agg = bot._run(flashloan_tokens=flt, CCm=CCm, result=bot.XS_AGGTI)\n",
    "# agg"
   ]
  },
  {
   "cell_type": "code",
   "execution_count": null,
   "id": "a0cd2ff1",
   "metadata": {},
   "outputs": [],
   "source": [
    "# agg[0].raw_txs"
   ]
  },
  {
   "cell_type": "code",
   "execution_count": null,
   "id": "f7f21e07",
   "metadata": {},
   "outputs": [],
   "source": [
    "# agg[1].raw_txs"
   ]
  },
  {
   "cell_type": "code",
   "execution_count": null,
   "id": "8b0746ac",
   "metadata": {},
   "outputs": [],
   "source": [
    "# exact[0].amtin_wei, exact[0].amtout_wei"
   ]
  },
  {
   "cell_type": "code",
   "execution_count": null,
   "id": "fc64082d",
   "metadata": {},
   "outputs": [],
   "source": [
    "# exact[1].amtin_wei, exact[1].amtout_wei"
   ]
  },
  {
   "cell_type": "code",
   "execution_count": null,
   "id": "1905eb9d",
   "metadata": {},
   "outputs": [],
   "source": [
    "route_struct, flashloan_amount, flashloan_token_address = bot._run(flashloan_tokens=flt, CCm=CCm2, result=bot.XS_ROUTE)"
   ]
  },
  {
   "cell_type": "code",
   "execution_count": null,
   "id": "24db122b",
   "metadata": {
    "ExecuteTime": {
     "end_time": "2023-05-08T06:27:08.874350300Z",
     "start_time": "2023-05-08T06:27:08.859710400Z"
    }
   },
   "outputs": [],
   "source": [
    "route_struct, flashloan_amount, flashloan_token_address"
   ]
  },
  {
   "attachments": {},
   "cell_type": "markdown",
   "id": "993e6614",
   "metadata": {},
   "source": [
    "# MAINNNET Preferred Tx Submission Method"
   ]
  },
  {
   "cell_type": "code",
   "execution_count": null,
   "id": "75ae6224",
   "metadata": {},
   "outputs": [],
   "source": [
    "pool = (bot.db.get_pool(exchange_name=bot.ConfigObj.BANCOR_V3_NAME, pair_name='BNT-FF1C/ETH-EEeE'))\n",
    "bnt_eth = (int(pool.tkn0_balance), int(pool.tkn1_balance))\n",
    "\n",
    "# Init TxHelpers\n",
    "tx_helpers = TxHelpers(ConfigObj=bot.ConfigObj)"
   ]
  },
  {
   "cell_type": "code",
   "execution_count": null,
   "id": "17ab9e38",
   "metadata": {},
   "outputs": [],
   "source": [
    "# Submit tx\n",
    "tx_helpers.validate_and_submit_transaction(route_struct=route_struct, src_amt=flashloan_amount,\n",
    "                                                    src_address=flashloan_token_address, bnt_eth=bnt_eth,\n",
    "                                                    expected_profit=Decimal('100'), safety_override=True)"
   ]
  },
  {
   "attachments": {},
   "cell_type": "markdown",
   "id": "0eb9760c",
   "metadata": {},
   "source": [
    "# MAINNET Forced Tx Submission Method"
   ]
  },
  {
   "cell_type": "code",
   "execution_count": null,
   "id": "931af988",
   "metadata": {},
   "outputs": [],
   "source": [
    "# # Initialize tx helper\n",
    "# tx_helper = TxHelper(\n",
    "#     usd_gas_limit=75,\n",
    "#     ConfigObj=bot.ConfigObj,\n",
    "#     gas_price_multiplier = 1\n",
    "# )\n",
    "# # # Submit the transaction\n",
    "# # tx_helper.submit_flashloan_arb_tx(\n",
    "# #     arb_data=route_struct,\n",
    "# #     flashloan_token_address=flashloan_token_address,\n",
    "# #     flashloan_amount=flashloan_amount,\n",
    "# #     verbose=True,\n",
    "# # )"
   ]
  },
  {
   "cell_type": "code",
   "execution_count": null,
   "id": "5894289c",
   "metadata": {},
   "outputs": [],
   "source": [
    "# tx_helper.gas_limit"
   ]
  }
 ],
 "metadata": {
  "jupytext": {
   "encoding": "# -*- coding: utf-8 -*-",
   "formats": "ipynb,py:light"
  },
  "kernelspec": {
   "display_name": "Python 3 (ipykernel)",
   "language": "python",
   "name": "python3"
  },
  "language_info": {
   "codemirror_mode": {
    "name": "ipython",
    "version": 3
   },
   "file_extension": ".py",
   "mimetype": "text/x-python",
   "name": "python",
   "nbconvert_exporter": "python",
   "pygments_lexer": "ipython3",
   "version": "3.10.10"
  }
 },
 "nbformat": 4,
 "nbformat_minor": 5
}

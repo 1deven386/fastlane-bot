{
 "cells": [
  {
   "cell_type": "code",
   "execution_count": 1,
   "id": "8f04c50a-67fe-4f09-822d-6ed6e3ac43e4",
   "metadata": {
    "ExecuteTime": {
     "end_time": "2023-05-08T06:14:31.204327500Z",
     "start_time": "2023-05-08T06:14:26.959036300Z"
    }
   },
   "outputs": [
    {
     "name": "stdout",
     "output_type": "stream",
     "text": [
      "Using default database url, if you want to use a different database, set the backend_url found at the bottom of manager_base.py\n",
      "Error adding Ethereum blockchain to database Ethereum, (psycopg2.errors.UniqueViolation) duplicate key value violates unique constraint \"ix_blockchains_name\"\n",
      "DETAIL:  Key (name)=(Ethereum) already exists.\n",
      "\n",
      "[SQL: INSERT INTO blockchains (name, block_number) VALUES (%(name)s, %(block_number)s) RETURNING blockchains.id]\n",
      "[parameters: {'name': 'Ethereum', 'block_number': 0}]\n",
      "(Background on this error at: https://sqlalche.me/e/20/gkpj) skipping...\n",
      "Error adding exchange carbon_v1 to database, (psycopg2.errors.UniqueViolation) duplicate key value violates unique constraint \"exchanges_pkey\"\n",
      "DETAIL:  Key (id)=(6) already exists.\n",
      "\n",
      "[SQL: INSERT INTO exchanges (id, name, blockchain_name) VALUES (%(id)s, %(name)s, %(blockchain_name)s)]\n",
      "[parameters: {'id': 6, 'name': 'carbon_v1', 'blockchain_name': 'Ethereum'}]\n",
      "(Background on this error at: https://sqlalche.me/e/20/gkpj) skipping...\n",
      "Error adding exchange bancor_v2 to database, (psycopg2.errors.UniqueViolation) duplicate key value violates unique constraint \"exchanges_pkey\"\n",
      "DETAIL:  Key (id)=(1) already exists.\n",
      "\n",
      "[SQL: INSERT INTO exchanges (id, name, blockchain_name) VALUES (%(id)s, %(name)s, %(blockchain_name)s)]\n",
      "[parameters: {'id': 1, 'name': 'bancor_v2', 'blockchain_name': 'Ethereum'}]\n",
      "(Background on this error at: https://sqlalche.me/e/20/gkpj) skipping...\n",
      "Error adding exchange bancor_v3 to database, (psycopg2.errors.UniqueViolation) duplicate key value violates unique constraint \"exchanges_pkey\"\n",
      "DETAIL:  Key (id)=(2) already exists.\n",
      "\n",
      "[SQL: INSERT INTO exchanges (id, name, blockchain_name) VALUES (%(id)s, %(name)s, %(blockchain_name)s)]\n",
      "[parameters: {'id': 2, 'name': 'bancor_v3', 'blockchain_name': 'Ethereum'}]\n",
      "(Background on this error at: https://sqlalche.me/e/20/gkpj) skipping...\n",
      "Error adding exchange uniswap_v2 to database, (psycopg2.errors.UniqueViolation) duplicate key value violates unique constraint \"exchanges_pkey\"\n",
      "DETAIL:  Key (id)=(3) already exists.\n",
      "\n",
      "[SQL: INSERT INTO exchanges (id, name, blockchain_name) VALUES (%(id)s, %(name)s, %(blockchain_name)s)]\n",
      "[parameters: {'id': 3, 'name': 'uniswap_v2', 'blockchain_name': 'Ethereum'}]\n",
      "(Background on this error at: https://sqlalche.me/e/20/gkpj) skipping...\n",
      "Error adding exchange uniswap_v3 to database, (psycopg2.errors.UniqueViolation) duplicate key value violates unique constraint \"exchanges_pkey\"\n",
      "DETAIL:  Key (id)=(4) already exists.\n",
      "\n",
      "[SQL: INSERT INTO exchanges (id, name, blockchain_name) VALUES (%(id)s, %(name)s, %(blockchain_name)s)]\n",
      "[parameters: {'id': 4, 'name': 'uniswap_v3', 'blockchain_name': 'Ethereum'}]\n",
      "(Background on this error at: https://sqlalche.me/e/20/gkpj) skipping...\n",
      "Error adding exchange sushiswap_v2 to database, (psycopg2.errors.UniqueViolation) duplicate key value violates unique constraint \"exchanges_pkey\"\n",
      "DETAIL:  Key (id)=(5) already exists.\n",
      "\n",
      "[SQL: INSERT INTO exchanges (id, name, blockchain_name) VALUES (%(id)s, %(name)s, %(blockchain_name)s)]\n",
      "[parameters: {'id': 5, 'name': 'sushiswap_v2', 'blockchain_name': 'Ethereum'}]\n",
      "(Background on this error at: https://sqlalche.me/e/20/gkpj) skipping...\n",
      "ConstantProductCurve v2.10.1 (07/May/2023)\n",
      "CarbonBot v3-b2.1 (03/May/2023)\n",
      "imported m, np, pd, plt, os, sys, decimal; defined iseq, raises, require\n"
     ]
    },
    {
     "name": "stderr",
     "output_type": "stream",
     "text": [
      "C:\\Users\\nicho\\AppData\\Local\\Temp\\ipykernel_16848\\326712455.py:9: MatplotlibDeprecationWarning: The seaborn styles shipped by Matplotlib are deprecated since 3.6, as they no longer correspond to the styles shipped by seaborn. However, they will remain available as 'seaborn-v0_8-<style>'. Alternatively, directly use the seaborn API instead.\n",
      "  plt.style.use('seaborn-dark')\n"
     ]
    },
    {
     "name": "stdout",
     "output_type": "stream",
     "text": [
      "Version = 3-b2.1 [requirements >= 2.0 is met]\n"
     ]
    }
   ],
   "source": [
    "from fastlane_bot import Config, ConfigDB, ConfigNetwork, ConfigProvider\n",
    "from fastlane_bot.bot import CarbonBot\n",
    "from fastlane_bot.tools.cpc import ConstantProductCurve as CPC, CPCContainer, T\n",
    "from fastlane_bot.helpers import TxHelper\n",
    "from fastlane_bot.helpers import TxHelpers\n",
    "print(\"{0.__name__} v{0.__VERSION__} ({0.__DATE__})\".format(CPC))\n",
    "print(\"{0.__name__} v{0.__VERSION__} ({0.__DATE__})\".format(CarbonBot))\n",
    "from fastlane_bot.testing import *\n",
    "plt.style.use('seaborn-dark')\n",
    "plt.rcParams['figure.figsize'] = [12,6]\n",
    "from fastlane_bot import __VERSION__\n",
    "require(\"2.0\", __VERSION__)"
   ]
  },
  {
   "attachments": {},
   "cell_type": "markdown",
   "id": "b3f59f14-b91b-4dba-94b0-3d513aaf41c7",
   "metadata": {},
   "source": [
    "# Testing the TRIANGLE functions on MAINNET [NBTest024]"
   ]
  },
  {
   "attachments": {},
   "cell_type": "markdown",
   "id": "cf03072d-6304-41f8-b132-9470ae81ac7c",
   "metadata": {},
   "source": [
    "## MAINNET Configuration"
   ]
  },
  {
   "attachments": {},
   "cell_type": "markdown",
   "id": "0990888a-698c-487c-9142-80e62a8393ac",
   "metadata": {},
   "source": [
    "### Set up the bot and curves"
   ]
  },
  {
   "cell_type": "code",
   "execution_count": 2,
   "id": "da9ff008-cb12-44f7-93a8-84f7386da886",
   "metadata": {
    "ExecuteTime": {
     "end_time": "2023-05-08T06:14:36.959100600Z",
     "start_time": "2023-05-08T06:14:31.205330100Z"
    }
   },
   "outputs": [],
   "source": [
    "C = Config.new(config=Config.CONFIG_MAINNET)\n",
    "assert C.DATABASE == C.DATABASE_POSTGRES\n",
    "assert C.POSTGRES_DB == \"defaultdb\"\n",
    "assert C.NETWORK == C.NETWORK_MAINNET\n",
    "assert C.PROVIDER == C.PROVIDER_ALCHEMY\n",
    "bot = CarbonBot(ConfigObj=C)\n",
    "assert str(type(bot.db)) == \"<class 'fastlane_bot.db.manager.DatabaseManager'>\""
   ]
  },
  {
   "cell_type": "code",
   "execution_count": 3,
   "id": "7d900ccb",
   "metadata": {},
   "outputs": [
    {
     "data": {
      "text/plain": [
       "'https://eth-mainnet.alchemyapi.io/v2/iL373neyzfNEIoAPJDMJC-Xnhb_5WvF9'"
      ]
     },
     "execution_count": 3,
     "metadata": {},
     "output_type": "execute_result"
    }
   ],
   "source": [
    "C.w3.provider.endpoint_uri"
   ]
  },
  {
   "cell_type": "code",
   "execution_count": 4,
   "id": "4c184a25",
   "metadata": {
    "ExecuteTime": {
     "end_time": "2023-05-08T06:14:37.504944700Z",
     "start_time": "2023-05-08T06:14:36.960100600Z"
    }
   },
   "outputs": [
    {
     "name": "stdout",
     "output_type": "stream",
     "text": [
      "Number of curves: 92\n",
      "Number of tokens: 23\n",
      "Exchanges: {'uniswap_v3', 'uniswap_v2', 'carbon_v1', 'bancor_v3'}\n"
     ]
    }
   ],
   "source": [
    "CCm = bot.get_curves()\n",
    "exch = {c.P(\"exchange\") for c in CCm}\n",
    "print(\"Number of curves:\", len(CCm))\n",
    "print(\"Number of tokens:\", len(CCm.tokens()))\n",
    "print(\"Exchanges:\", exch)"
   ]
  },
  {
   "cell_type": "code",
   "execution_count": 5,
   "id": "d7ee607c",
   "metadata": {
    "ExecuteTime": {
     "end_time": "2023-05-08T06:21:48.511997700Z",
     "start_time": "2023-05-08T06:21:48.494989400Z"
    }
   },
   "outputs": [],
   "source": [
    "# skip_curves = []\n",
    "# bad_curves = ['780', '769', '770', '772', '773', '774', '775', '776', '777', '778', '779', '782', '783', '771', '781', '793', '795', '789', '792', '794', '796', '797', '798', '799', '800', '784', '785', '790', '791', '787', '788', '786', '807', '801', '802', '803', '804', '805', '806', '808', '809', '810', '811', '812', '813', '814', '815', '816', '817', '818', '819', '820', '821', '822', '823', '825', '826', '827', '828', '829', '830', '831', '832', '824', '838', '840', '839', '833', '836', '834', '835', '837', '74', '72', '69', '66', '73', '64', '65', '67', '68', '70', '71', '86', '77', '87', '82', '80', '88', '76', '79', '81', '83', '85', '89', '75', '78', '84', '90', '106', '101', '92', '100', '103', '95', '91', '94', '96', '98', '99', '104', '93', '102', '105', '97', '116', '109', '120', '123', '115', '119', '112', '113', '114', '107', '117', '111', '122', '110', '118', '121', '108', '124', '127', '128', '129', '130', '131', '133', '136', '137', '138', '132', '135', '126', '125', '134', '142', '146', '149', '153', '156', '139', '143', '148', '151', '157', '145', '140', '141', '147', '150', '152', '144', '154', '155', '169', '159', '160', '162', '164', '166', '167', '168', '158', '165', '170', '163', '161', '171', '175', '173', '187', '188', '174', '178', '179', '181', '183', '185', '180', '176', '184', '172', '186', '182', '189', '177', '192', '197', '196', '203', '193', '195', '201', '199', '191', '198', '200', '202', '204', '194', '205', '190', '213', '211', '214', '209', '220', '210', '215', '217', '216', '206', '208', '212', '221', '222', '207', '218', '219', '231', '224', '230', '225', '228', '229', '233', '234', '226', '227', '235', '223', '232', '236', '244', '237', '249', '251', '252', '256', '248', '240', '254', '238', '246', '247', '250', '253', '255', '239', '241', '242', '243', '245', '259', '262', '266', '269', '258', '257', '261', '265', '267', '268', '263', '260', '264', '271', '276', '270', '272', '280', '284', '286', '285', '278', '274', '282', '273', '275', '279', '281', '283', '277', '287', '289', '290', '294', '295', '296', '297', '301', '302', '288', '299', '300', '291', '292', '293', '298', '317', '303', '304', '307', '308', '316', '318', '315', '320', '311', '305', '306', '310', '312', '314', '319', '313', '309', '326', '330', '328', '323', '327', '333', '334', '332', '324', '321', '325', '322', '329', '331', '338', '347', '335', '336', '337', '339', '340', '341', '344', '345', '348', '349', '342', '343', '346', '352', '357', '362', '354', '361', '355', '360', '353', '358', '363', '350', '351', '359', '356', '372', '377', '366', '367', '371', '381', '383', '364', '365', '369', '370', '374', '380', '382', '379', '373', '375', '378', '376', '368', '386', '385', '392', '393', '396', '397', '398', '389', '394', '395', '384', '390', '388', '387', '391', '399', '400', '401', '402', '404', '405', '403', '406', '407', '414', '410', '412', '413', '418', '419', '415', '417', '409', '411', '416', '408', '421', '425', '426', '427', '428', '424', '432', '422', '420', '429', '430', '431', '423', '444', '434', '433', '435', '440', '441', '442', '436', '439', '437', '438', '443', '445', '446', '449', '447', '448', '450', '452', '451', '453', '454', '460', '465', '459', '458', '461', '463', '467', '455', '462', '464', '456', '457', '466', '476', '477', '475', '469', '468', '470', '471', '472', '473', '474', '479', '478', '484', '480', '482', '481', '485', '486', '487', '483', '488', '502', '500', '501', '489', '493', '490', '491', '494', '496', '498', '499', '497', '492', '495', '505', '504', '514', '503', '510', '511', '512', '506', '507', '508', '509', '513', '515', '516', '517', '518', '519', '520', '523', '524', '521', '522', '535', '527', '526', '525', '529', '531', '532', '533', '534', '530', '536', '528', '538', '540', '539', '544', '545', '546', '547', '548', '542', '537', '543', '541', '550', '551', '552', '554', '555', '556', '557', '558', '559', '553', '549', '564', '565', '567', '569', '566', '568', '560', '561', '562', '563', '570', '571', '583', '579', '577', '572', '573', '574', '575', '576', '578', '580', '581', '582', '586', '594', '587', '584', '585', '588', '589', '590', '591', '592', '593', '598', '606', '599', '607', '597', '595', '596', '601', '602', '608', '600', '605', '603', '604', '624', '614', '616', '609', '610', '611', '615', '618', '619', '620', '626', '617', '623', '612', '613', '622', '625', '621', '631', '635', '638', '630', '627', '628', '632', '633', '634', '636', '637', '639', '640', '629', '645', '651', '656', '650', '647', '646', '642', '641', '643', '653', '644', '648', '649', '652', '654', '655', '657', '662', '665', '664', '663', '658', '659', '660', '661', '666', '667', '668', '669', '670', '671', '672', '673', '684', '685', '678', '674', '675', '676', '677', '679', '680', '681', '682', '683', '686', '687', '688', '689', '690', '692', '694', '693', '691', '695', '696', '697']\n",
    "# bad_tokens = ['0x0-1AD5'] #'WBTC-C599', 'USDC-eB48', 'USDT-1ec7'\n",
    "\n",
    "# subcurves = [x for x in CCm if x.cid not in skip_curves]\n",
    "# subcurves = [x for x in subcurves if x.cid not in bad_curves]\n",
    "# subcurves = [x for x in subcurves if not any(bad_token in x.pair for bad_token in bad_tokens)]\n",
    "\n",
    "# CCm2 = CPCContainer([x for x in subcurves if x.params.exchange not in ['bancor_v2']])\n",
    "# len(CCm2)"
   ]
  },
  {
   "cell_type": "code",
   "execution_count": 6,
   "id": "3aac7cb6",
   "metadata": {},
   "outputs": [],
   "source": [
    "# CCm2 = CCm"
   ]
  },
  {
   "cell_type": "code",
   "execution_count": 19,
   "id": "b397bc36",
   "metadata": {},
   "outputs": [
    {
     "data": {
      "text/plain": [
       "21"
      ]
     },
     "execution_count": 19,
     "metadata": {},
     "output_type": "execute_result"
    }
   ],
   "source": [
    "tokens = [x.pair.split('/') for x in CCm if x.params.exchange == 'carbon_v1']\n",
    "len(set([x for itm in tokens for x in itm]))"
   ]
  },
  {
   "cell_type": "code",
   "execution_count": 11,
   "id": "79ed1618",
   "metadata": {},
   "outputs": [
    {
     "data": {
      "text/plain": [
       "38"
      ]
     },
     "execution_count": 11,
     "metadata": {},
     "output_type": "execute_result"
    }
   ],
   "source": [
    "pairs = [x.pair for x in CCm if x.params.exchange == 'carbon_v1']\n",
    "len(set(pairs))"
   ]
  },
  {
   "cell_type": "code",
   "execution_count": 15,
   "id": "f3452505",
   "metadata": {},
   "outputs": [],
   "source": [
    "import itertools\n",
    "from fastlane_bot.tools.optimizer import CPCArbOptimizer\n"
   ]
  },
  {
   "attachments": {},
   "cell_type": "markdown",
   "id": "5a26c4b4",
   "metadata": {},
   "source": [
    "## Actual run"
   ]
  },
  {
   "cell_type": "code",
   "execution_count": 36,
   "id": "cab33dc6",
   "metadata": {
    "ExecuteTime": {
     "end_time": "2023-05-08T06:14:37.538237700Z",
     "start_time": "2023-05-08T06:14:37.520180600Z"
    }
   },
   "outputs": [],
   "source": [
    "flashloan_tokens = [T.WETH]#, T.DAI, T.USDC, T.USDT, T.WBTC, T.BNT]"
   ]
  },
  {
   "attachments": {},
   "cell_type": "markdown",
   "id": "5f2f01c5",
   "metadata": {},
   "source": [
    "## Analytics"
   ]
  },
  {
   "cell_type": "code",
   "execution_count": 20,
   "id": "35b375a6",
   "metadata": {},
   "outputs": [],
   "source": [
    "    # def _find_arbitrage_opportunities_carbon_single_triangle(\n",
    "    #         self, flashloan_tokens: List[str], CCm: CPCContainer, *, mode: str = \"bothin\", result=None,\n",
    "    # ):  # -> Union[tuple[Any, list[tuple[Any, Any]]], list[Any], tuple[\n",
    "    #     # Union[int, Decimal, Decimal], Optional[Any], Optional[Any], Optional[Any], Optional[Any]]]:\n",
    "    #     \"\"\"\n",
    "    #     Finds the triangle arbitrage opportunities for individual carbon orders.\n",
    "\n",
    "    #     Parameters\n",
    "    #     ----------\n",
    "    #     flashloan_tokens: List[str]\n",
    "    #         The flashloan tokens.\n",
    "    #     CCm: CPCContainer\n",
    "    #         The CPCContainer object.\n",
    "    #     result: AO_XXX or None\n",
    "    #         What (intermediate) result to return.\n",
    "    #         mode: str\n",
    "    #         The mode.\n",
    "\n",
    "    #     Returns\n",
    "    #     -------\n",
    "    #     Tuple[Decimal, List[Dict[str, Any]]]\n",
    "    #         The best profit and the trade instructions.\n",
    "    #     \"\"\"\n",
    "    #     assert mode == \"bothin\", \"parameter not used\"\n",
    "        # c.logger.debug(\"[_find_arbitrage_opportunities] Number of curves:\", len(CCm))\n"
   ]
  },
  {
   "cell_type": "code",
   "execution_count": 33,
   "id": "15bf2161",
   "metadata": {},
   "outputs": [],
   "source": [
    "best_profit = 0\n",
    "best_src_token = None\n",
    "best_trade_instructions = None\n",
    "best_trade_instructions_df = None\n",
    "best_trade_instructions_dic = None\n",
    "ops = (\n",
    "    best_profit,\n",
    "    best_trade_instructions_df,\n",
    "    best_trade_instructions_dic,\n",
    "    best_src_token,\n",
    "    best_trade_instructions\n",
    ")\n",
    "\n",
    "all_tokens = CCm.tokens()\n",
    "flashloan_tokens_intersect = all_tokens.intersection(set(flashloan_tokens))\n",
    "combos = [\n",
    "    (tkn0, tkn1)\n",
    "    for tkn0, tkn1 in itertools.product(all_tokens, flashloan_tokens_intersect)\n",
    "    # tkn1 is always the token being flash loaned\n",
    "    # note that the pair is tkn0/tkn1, ie tkn1 is the quote token\n",
    "    if tkn0 != tkn1\n",
    "]\n",
    "# if result == self.AO_TOKENS:\n",
    "#     return all_tokens, combos\n",
    "\n",
    "combos = [('WETH-6Cc2', 'USDC-eB48')]\n",
    "\n",
    "candidates = []\n",
    "for tkn0, tkn1 in combos:\n",
    "    r = None\n",
    "    # self.C.logger.debug(f\"Checking flashloan token = {tkn1}, other token = {tkn0}\")\n",
    "    carbon_curves = CCm.byparams(exchange='carbon_v1')\n",
    "    fl_curves = CCm.bytkny(tkn1)\n",
    "    other_curves = CCm.bytkny(tkn0)\n",
    "    fl_curves_not_carbon = [x for x in fl_curves if x.params.exchange!='carbon_v1']\n",
    "    other_curves_not_carbon = [x for x in other_curves if x.params.exchange!='carbon_v1']\n",
    "    miniverse = list(itertools.product(fl_curves_not_carbon, other_curves_not_carbon, carbon_curves))\n",
    "    if len(CC) < 2:\n",
    "        continue\n",
    "    carbon_curves = [x for x in CC.curves if x.params.exchange=='carbon_v1']\n",
    "    not_carbon_curves = [x for x in CC.curves if x.params.exchange!='carbon_v1']\n",
    "#     curve_combos = list(itertools.product(not_carbon_curves, carbon_curves)) #combos 1 carbon curve w non_carbon\n",
    "#     for curve_combo in curve_combos:\n",
    "#         CC_cc = CPCContainer(curve_combo)\n",
    "#         O = CPCArbOptimizer(CC_cc)\n",
    "#         src_token = tkn1\n",
    "#         try:\n",
    "#             pstart = ({tkn0: CC_cc.bypairs(f\"{tkn0}/{tkn1}\")[0].p}) #this intentially selects the non_carbon curve\n",
    "#             r = O.margp_optimizer(src_token, params=dict(pstart=pstart))\n",
    "#             profit_src = -r.result\n",
    "#             trade_instructions_df = r.trade_instructions(O.TIF_DFAGGR)\n",
    "#             trade_instructions_dic = r.trade_instructions(O.TIF_DICTS)\n",
    "#             trade_instructions = r.trade_instructions()\n",
    "#         except:\n",
    "#             continue\n",
    "\n",
    "#         cids = [ti['cid'] for ti in trade_instructions_dic]\n",
    "#         quote_token = \"ETH-EEeE\" if src_token == \"WETH-6Cc2\" else src_token\n",
    "\n",
    "#         try:\n",
    "#             profit = bot.db.get_bnt_price_from_tokens(profit_src, src_token)\n",
    "#         except Exception as e:\n",
    "#             # self.ConfigObj.logger.error(f\"[TODO CLEAN UP]{e}\")\n",
    "#             profit = profit_src\n",
    "\n",
    "#         # self.ConfigObj.logger.debug(f\"Profit in bnt: {profit} {cids}\")\n",
    "#         try:\n",
    "#             netchange = trade_instructions_df.iloc[-1]\n",
    "#         except Exception as e:\n",
    "#             netchange = [500] #an arbitrary large number\n",
    "\n",
    "#         # bnt_gas_limit = self.db.get_bnt_price_from_tokens(self.usd_gas_limit, 'USDC')\n",
    "#         # self.ConfigObj.logger.debug(f\"bnt_gas_limit: {bnt_gas_limit}\")\n",
    "#         # condition_profit = False\n",
    "#         # if profit > (self.min_profit + bnt_gas_limit):\n",
    "#         #     condition_profit = True\n",
    "\n",
    "#         if len(trade_instructions_df) > 0:\n",
    "#             condition_better_profit = (profit > best_profit)\n",
    "#             # self.ConfigObj.logger.debug(f\"profit > best_profit: {condition_better_profit}\")\n",
    "#             condition_zeros_one_token = max(netchange) < 1e-4\n",
    "#             # self.ConfigObj.logger.debug(f\"max(netchange)<1e-4: {condition_zeros_one_token}\")\n",
    "\n",
    "#             if condition_zeros_one_token: #candidate regardless if profitable\n",
    "#                 candidates += [\n",
    "#                     (profit, trade_instructions_df, trade_instructions_dic, src_token, trade_instructions)]\n",
    "\n",
    "#             if condition_better_profit and condition_zeros_one_token:\n",
    "#                 # self.ConfigObj.logger.debug(\"*************\")\n",
    "#                 # self.ConfigObj.logger.debug(f\"New best profit: {profit}\")\n",
    "\n",
    "#                 best_profit = profit\n",
    "#                 best_src_token = src_token\n",
    "#                 best_trade_instructions_df = trade_instructions_df\n",
    "#                 best_trade_instructions_dic = trade_instructions_dic\n",
    "#                 best_trade_instructions = trade_instructions\n",
    "\n",
    "#                 # self.ConfigObj.logger.debug(f\"best_trade_instructions_df: {best_trade_instructions_df}\")\n",
    "\n",
    "#                 ops = (\n",
    "#                     best_profit,\n",
    "#                     best_trade_instructions_df,\n",
    "#                     best_trade_instructions_dic,\n",
    "#                     best_src_token,\n",
    "#                     best_trade_instructions\n",
    "#                 )\n",
    "#                 # self.ConfigObj.logger.debug(\"*************\")\n",
    "#         # except Exception as e:\n",
    "#         #     self.ConfigObj.logger.debug(f\"Error in opt: {e}\")\n",
    "#         #     continue\n",
    "\n",
    "# # return candidates if result == self.AO_CANDIDATES else ops\n",
    "# print(ops[1])"
   ]
  },
  {
   "cell_type": "code",
   "execution_count": 34,
   "id": "b5075f4c",
   "metadata": {},
   "outputs": [
    {
     "data": {
      "text/plain": [
       "[ConstantProductCurve(k=24040.755175964954, x=3.6015416409239513, x_act=0, y_act=6.141325, pair='WETH-6Cc2/USDC-eB48', cid='1701411834604692317316873037158841057292-0', fee=0.002, descr='NaN', constr='carb', params={'exchange': 'carbon_v1', 'tknx_dec': 18, 'tkny_dec': 6, 'tknx_addr': '0xEeeeeEeeeEeEeeEeEeEeeEEEeeeeEeeeeeeeEEeE', 'tkny_addr': '0xA0b86991c6218b36c1d19D4a2e9Eb0cE3606eB48', 'blocklud': 17230759, 'y': 6.141325, 'yint': 18.0, 'A': 0.11609097327891504, 'B': 43.01162633169042, 'pa': 1859.9999999373515, 'pb': 1849.9999996969648}),\n",
       " ConstantProductCurve(k=3567.0485551235574, x=2670.9730643058033, x_act=0, y_act=0.016386958418561175, pair='USDC-eB48/WETH-6Cc2', cid='1701411834604692317316873037158841057292-1', fee=0.002, descr='NaN', constr='carb', params={'exchange': 'carbon_v1', 'tknx_dec': 18, 'tkny_dec': 6, 'tknx_addr': '0xEeeeeEeeeEeEeeEeEeEeeEEEeeeeEeeeeeeeEEeE', 'tkny_addr': '0xA0b86991c6218b36c1d19D4a2e9Eb0cE3606eB48', 'blocklud': 17230759, 'y': 0.016386958418561175, 'yint': 0.016386958418561175, 'A': 0.0002743745600286597, 'B': 0.02208630521496921, 'pa': 0.0004999999999999988, 'pb': 0.00048780487804877604}),\n",
       " ConstantProductCurve(k=2.112211557843642e+19, x=104614064.2088535, x_act=0, y_act=1.99455, pair='WETH-6Cc2/USDC-eB48', cid='1701411834604692317316873037158841057296-0', fee=0.002, descr='NaN', constr='carb', params={'exchange': 'carbon_v1', 'tknx_dec': 18, 'tkny_dec': 6, 'tknx_addr': '0xEeeeeEeeeEeEeeEeEeEeeEEEeeeeEeeeeeeeEEeE', 'tkny_addr': '0xA0b86991c6218b36c1d19D4a2e9Eb0cE3606eB48', 'blocklud': 17230759, 'y': 1.99455, 'yint': 20190.512359, 'A': 0, 'B': 43.93176307614303, 'pa': 1929.9999999783445, 'pb': 1929.9999999783445}),\n",
       " ConstantProductCurve(k=2.1336857484449866e+19, x=203977616257.2518, x_act=0, y_act=10.460390588782033, pair='USDC-eB48/WETH-6Cc2', cid='1701411834604692317316873037158841057296-1', fee=0.002, descr='NaN', constr='carb', params={'exchange': 'carbon_v1', 'tknx_dec': 18, 'tkny_dec': 6, 'tknx_addr': '0xEeeeeEeeeEeEeeEeEeEeeEEEeeeeEeeeeeeeEEeE', 'tkny_addr': '0xA0b86991c6218b36c1d19D4a2e9Eb0cE3606eB48', 'blocklud': 17230759, 'y': 10.460390588782033, 'yint': 10.460390588782033, 'A': 0, 'B': 0.0226455395506149, 'pa': 0.0005128205128205099, 'pb': 0.0005128205128205099}),\n",
       " ConstantProductCurve(k=5792.745601656116, x=3352.3016670957554, x_act=0, y_act=0.02611722902099498, pair='USDC-eB48/WETH-6Cc2', cid='1701411834604692317316873037158841057299-1', fee=0.002, descr='NaN', constr='carb', params={'exchange': 'carbon_v1', 'tknx_dec': 18, 'tkny_dec': 6, 'tknx_addr': '0xEeeeeEeeeEeEeeEeEeEeeEEEeeeeEeeeeeeeEEeE', 'tkny_addr': '0xA0b86991c6218b36c1d19D4a2e9Eb0cE3606eB48', 'blocklud': 17230759, 'y': 0.02611722902099498, 'yint': 0.02611722902099498, 'A': 0.0003431506843270052, 'B': 0.02236067977499787, 'pa': 0.000515463917525768, 'pb': 0.0004999999999999988}),\n",
       " ConstantProductCurve(k=7661013836506.864, x=126838982.36682537, x_act=0, y_act=0.006039951546952498, pair='USDC-eB48/WETH-6Cc2', cid='1701411834604692317316873037158841057285-1', fee=0.002, descr='NaN', constr='carb', params={'exchange': 'carbon_v1', 'tknx_dec': 18, 'tkny_dec': 6, 'tknx_addr': '0xEeeeeEeeeEeEeeEeEeEeeEEEeeeeEeeeeeeeEEeE', 'tkny_addr': '0xA0b86991c6218b36c1d19D4a2e9Eb0cE3606eB48', 'blocklud': 17230759, 'y': 0.006039951546952498, 'yint': 0.006039951546952498, 'A': 0, 'B': 0.021821787932509752, 'pa': 0.0004761904761904711, 'pb': 0.0004761904761904711}),\n",
       " ConstantProductCurve(k=1.7793596107479857e+18, x=35587188.63442069, x_act=0, y_act=5000.0, pair='WETH-6Cc2/USDC-eB48', cid='1701411834604692317316873037158841057306-0', fee=0.002, descr='NaN', constr='carb', params={'exchange': 'carbon_v1', 'tknx_dec': 18, 'tkny_dec': 6, 'tknx_addr': '0xEeeeeEeeeEeEeeEeEeEeeEEEeeeeEeeeeeeeEEeE', 'tkny_addr': '0xA0b86991c6218b36c1d19D4a2e9Eb0cE3606eB48', 'blocklud': 17230759, 'y': 5000.0, 'yint': 5000.0, 'A': 0, 'B': 37.483327753552494, 'pa': 1404.9999999802244, 'pb': 1404.9999999802244}),\n",
       " ConstantProductCurve(k=1235288.740192844, x=53302.57125546164, x_act=0, y_act=0.48795003691276445, pair='USDC-eB48/WETH-6Cc2', cid='1701411834604692317316873037158841057315-1', fee=0.002, descr='NaN', constr='carb', params={'exchange': 'carbon_v1', 'tknx_dec': 18, 'tkny_dec': 6, 'tknx_addr': '0xEeeeeEeeeEeEeeEeEeEeeEEEeeeeEeeeeeeeEEeE', 'tkny_addr': '0xA0b86991c6218b36c1d19D4a2e9Eb0cE3606eB48', 'blocklud': 17230759, 'y': 0.48795003691276445, 'yint': 0.48795003691276445, 'A': 0.00043902688251424085, 'B': 0.02041241452319315, 'pa': 0.0004347826086956485, 'pb': 0.00041666666666666653}),\n",
       " ConstantProductCurve(k=69985711.586548, x=197.18253190339883, x_act=0, y_act=10000.0, pair='WETH-6Cc2/USDC-eB48', cid='1701411834604692317316873037158841057331-0', fee=0.002, descr='NaN', constr='carb', params={'exchange': 'carbon_v1', 'tknx_dec': 18, 'tkny_dec': 6, 'tknx_addr': '0xEeeeeEeeeEeEeeEeEeEeeEEEeeeeEeeeeeeeEEeE', 'tkny_addr': '0xA0b86991c6218b36c1d19D4a2e9Eb0cE3606eB48', 'blocklud': 17230759, 'y': 10000.0, 'yint': 10000.0, 'A': 1.1953506131590075, 'B': 41.231056254531495, 'pa': 1799.999999702816, 'pb': 1699.9999998643407}),\n",
       " ConstantProductCurve(k=147058838214704.78, x=294117.6470499694, x_act=0, y_act=50.0, pair='WETH-6Cc2/USDC-eB48', cid='1701411834604692317316873037158841057334-0', fee=0.002, descr='NaN', constr='carb', params={'exchange': 'carbon_v1', 'tknx_dec': 18, 'tkny_dec': 6, 'tknx_addr': '0xEeeeeEeeeEeEeeEeEeEeeEEEeeeeEeeeeeeeEEeE', 'tkny_addr': '0xA0b86991c6218b36c1d19D4a2e9Eb0cE3606eB48', 'blocklud': 17230747, 'y': 50.0, 'yint': 50.0, 'A': 0, 'B': 41.23105419297884, 'pa': 1699.9999998643407, 'pb': 1699.9999998643407}),\n",
       " ConstantProductCurve(k=320000031037202.06, x=799999998.7965037, x_act=0, y_act=0.04, pair='USDC-eB48/WETH-6Cc2', cid='1701411834604692317316873037158841057334-1', fee=0.002, descr='NaN', constr='carb', params={'exchange': 'carbon_v1', 'tknx_dec': 18, 'tkny_dec': 6, 'tknx_addr': '0xEeeeeEeeeEeEeeEeEeEeeEEEeeeeEeeeeeeeEEeE', 'tkny_addr': '0xA0b86991c6218b36c1d19D4a2e9Eb0cE3606eB48', 'blocklud': 17230747, 'y': 0.04, 'yint': 0.04, 'A': 0, 'B': 0.022360678656963964, 'pa': 0.0004999999999999988, 'pb': 0.0004999999999999988}),\n",
       " ConstantProductCurve(k=441019.52742450824, x=15.439848891165553, x_act=0, y_act=2000.0, pair='WETH-6Cc2/USDC-eB48', cid='1701411834604692317316873037158841057337-0', fee=0.002, descr='NaN', constr='carb', params={'exchange': 'carbon_v1', 'tknx_dec': 18, 'tkny_dec': 6, 'tknx_addr': '0xEeeeeEeeeEeEeeEeEeEeeEEEeeeeEeeeeeeeEEeE', 'tkny_addr': '0xA0b86991c6218b36c1d19D4a2e9Eb0cE3606eB48', 'blocklud': 17230747, 'y': 2000.0, 'yint': 2000.0, 'A': 3.011626333204731, 'B': 39.99999999848569, 'pa': 1849.9999996969648, 'pb': 1599.9999998788553}),\n",
       " ConstantProductCurve(k=0.69985711586548, x=0.019718253190339884, x_act=0, y_act=1.0, pair='WETH-6Cc2/USDC-eB48', cid='1701411834604692317316873037158841057339-0', fee=0.002, descr='NaN', constr='carb', params={'exchange': 'carbon_v1', 'tknx_dec': 18, 'tkny_dec': 6, 'tknx_addr': '0xEeeeeEeeeEeEeeEeEeEeeEEEeeeeEeeeeeeeEEeE', 'tkny_addr': '0xA0b86991c6218b36c1d19D4a2e9Eb0cE3606eB48', 'blocklud': 17230747, 'y': 1.0, 'yint': 1.0, 'A': 1.1953506131590075, 'B': 41.231056254531495, 'pa': 1799.999999702816, 'pb': 1699.9999998643407}),\n",
       " ConstantProductCurve(k=1.990000200445574e+17, x=19900000007.227936, x_act=0, y_act=1.0, pair='USDC-eB48/WETH-6Cc2', cid='1701411834604692317316873037158841057343-1', fee=0.002, descr='NaN', constr='carb', params={'exchange': 'carbon_v1', 'tknx_dec': 18, 'tkny_dec': 6, 'tknx_addr': '0xEeeeeEeeeEeEeeEeEeEeeEEEeeeeEeeeeeeeEEeE', 'tkny_addr': '0xA0b86991c6218b36c1d19D4a2e9Eb0cE3606eB48', 'blocklud': 17230747, 'y': 1.0, 'yint': 1.0, 'A': 0, 'B': 0.02241679086227143, 'pa': 0.0005025125628140671, 'pb': 0.0005025125628140671}),\n",
       " ConstantProductCurve(k=3.3247198115867776e+18, x=42346999.03875029, x_act=0, y_act=7851.133629, pair='WETH-6Cc2/USDC-eB48', cid='1701411834604692317316873037158841057353-0', fee=0.002, descr='NaN', constr='carb', params={'exchange': 'carbon_v1', 'tknx_dec': 18, 'tkny_dec': 6, 'tknx_addr': '0xEeeeeEeeeEeEeeEeEeEeeEEEeeeeEeeeeeeeEEeE', 'tkny_addr': '0xA0b86991c6218b36c1d19D4a2e9Eb0cE3606eB48', 'blocklud': 17230747, 'y': 7851.133629, 'yint': 7851.133629, 'A': 0, 'B': 43.05809812880723, 'pa': 1853.9999998699745, 'pb': 1853.9999998699745}),\n",
       " ConstantProductCurve(k=3.2768003215814784e+18, x=81919999923.76854, x_act=0, y_act=4.0, pair='USDC-eB48/WETH-6Cc2', cid='1701411834604692317316873037158841057353-1', fee=0.002, descr='NaN', constr='carb', params={'exchange': 'carbon_v1', 'tknx_dec': 18, 'tkny_dec': 6, 'tknx_addr': '0xEeeeeEeeeEeEeeEeEeEeeEEEeeeeEeeeeeeeEEeE', 'tkny_addr': '0xA0b86991c6218b36c1d19D4a2e9Eb0cE3606eB48', 'blocklud': 17230747, 'y': 4.0, 'yint': 4.0, 'A': 0, 'B': 0.022097085807225334, 'pa': 0.00048828124999999946, 'pb': 0.00048828124999999946})]"
      ]
     },
     "execution_count": 34,
     "metadata": {},
     "output_type": "execute_result"
    }
   ],
   "source": [
    "carbon_curves"
   ]
  },
  {
   "cell_type": "code",
   "execution_count": 35,
   "id": "de0163d4",
   "metadata": {},
   "outputs": [
    {
     "data": {
      "text/plain": [
       "1"
      ]
     },
     "execution_count": 35,
     "metadata": {},
     "output_type": "execute_result"
    }
   ],
   "source": [
    "len(not_carbon_curves)"
   ]
  },
  {
   "cell_type": "code",
   "execution_count": 54,
   "id": "acf509e2",
   "metadata": {},
   "outputs": [
    {
     "data": {
      "text/plain": [
       "640"
      ]
     },
     "execution_count": 54,
     "metadata": {},
     "output_type": "execute_result"
    }
   ],
   "source": [
    "fl_curves = CCm.bytkny(tkn1)\n",
    "other_curves = CCm.bytkny(tkn0)\n",
    "fl_curves_not_carbon = [x for x in fl_curves if x.params.exchange!='carbon_v1']\n",
    "other_curves_not_carbon = [x for x in other_curves if x.params.exchange!='carbon_v1']\n",
    "miniverse = list(itertools.product(fl_curves_not_carbon, other_curves_not_carbon, carbon_curves))\n",
    "len(miniverse)"
   ]
  },
  {
   "cell_type": "code",
   "execution_count": 58,
   "id": "2e0adebe",
   "metadata": {},
   "outputs": [
    {
     "data": {
      "text/plain": [
       "[ConstantProductCurve(k=24040.755175964954, x=3.6015416409239513, x_act=0, y_act=6.141325, pair='WETH-6Cc2/USDC-eB48', cid='1701411834604692317316873037158841057292-0', fee=0.002, descr='NaN', constr='carb', params={'exchange': 'carbon_v1', 'tknx_dec': 18, 'tkny_dec': 6, 'tknx_addr': '0xEeeeeEeeeEeEeeEeEeEeeEEEeeeeEeeeeeeeEEeE', 'tkny_addr': '0xA0b86991c6218b36c1d19D4a2e9Eb0cE3606eB48', 'blocklud': 17230759, 'y': 6.141325, 'yint': 18.0, 'A': 0.11609097327891504, 'B': 43.01162633169042, 'pa': 1859.9999999373515, 'pb': 1849.9999996969648}),\n",
       " ConstantProductCurve(k=3567.0485551235574, x=2670.9730643058033, x_act=0, y_act=0.016386958418561175, pair='USDC-eB48/WETH-6Cc2', cid='1701411834604692317316873037158841057292-1', fee=0.002, descr='NaN', constr='carb', params={'exchange': 'carbon_v1', 'tknx_dec': 18, 'tkny_dec': 6, 'tknx_addr': '0xEeeeeEeeeEeEeeEeEeEeeEEEeeeeEeeeeeeeEEeE', 'tkny_addr': '0xA0b86991c6218b36c1d19D4a2e9Eb0cE3606eB48', 'blocklud': 17230759, 'y': 0.016386958418561175, 'yint': 0.016386958418561175, 'A': 0.0002743745600286597, 'B': 0.02208630521496921, 'pa': 0.0004999999999999988, 'pb': 0.00048780487804877604}),\n",
       " ConstantProductCurve(k=2.112211557843642e+19, x=104614064.2088535, x_act=0, y_act=1.99455, pair='WETH-6Cc2/USDC-eB48', cid='1701411834604692317316873037158841057296-0', fee=0.002, descr='NaN', constr='carb', params={'exchange': 'carbon_v1', 'tknx_dec': 18, 'tkny_dec': 6, 'tknx_addr': '0xEeeeeEeeeEeEeeEeEeEeeEEEeeeeEeeeeeeeEEeE', 'tkny_addr': '0xA0b86991c6218b36c1d19D4a2e9Eb0cE3606eB48', 'blocklud': 17230759, 'y': 1.99455, 'yint': 20190.512359, 'A': 0, 'B': 43.93176307614303, 'pa': 1929.9999999783445, 'pb': 1929.9999999783445}),\n",
       " ConstantProductCurve(k=2.1336857484449866e+19, x=203977616257.2518, x_act=0, y_act=10.460390588782033, pair='USDC-eB48/WETH-6Cc2', cid='1701411834604692317316873037158841057296-1', fee=0.002, descr='NaN', constr='carb', params={'exchange': 'carbon_v1', 'tknx_dec': 18, 'tkny_dec': 6, 'tknx_addr': '0xEeeeeEeeeEeEeeEeEeEeeEEEeeeeEeeeeeeeEEeE', 'tkny_addr': '0xA0b86991c6218b36c1d19D4a2e9Eb0cE3606eB48', 'blocklud': 17230759, 'y': 10.460390588782033, 'yint': 10.460390588782033, 'A': 0, 'B': 0.0226455395506149, 'pa': 0.0005128205128205099, 'pb': 0.0005128205128205099}),\n",
       " ConstantProductCurve(k=5792.745601656116, x=3352.3016670957554, x_act=0, y_act=0.02611722902099498, pair='USDC-eB48/WETH-6Cc2', cid='1701411834604692317316873037158841057299-1', fee=0.002, descr='NaN', constr='carb', params={'exchange': 'carbon_v1', 'tknx_dec': 18, 'tkny_dec': 6, 'tknx_addr': '0xEeeeeEeeeEeEeeEeEeEeeEEEeeeeEeeeeeeeEEeE', 'tkny_addr': '0xA0b86991c6218b36c1d19D4a2e9Eb0cE3606eB48', 'blocklud': 17230759, 'y': 0.02611722902099498, 'yint': 0.02611722902099498, 'A': 0.0003431506843270052, 'B': 0.02236067977499787, 'pa': 0.000515463917525768, 'pb': 0.0004999999999999988}),\n",
       " ConstantProductCurve(k=7661013836506.864, x=126838982.36682537, x_act=0, y_act=0.006039951546952498, pair='USDC-eB48/WETH-6Cc2', cid='1701411834604692317316873037158841057285-1', fee=0.002, descr='NaN', constr='carb', params={'exchange': 'carbon_v1', 'tknx_dec': 18, 'tkny_dec': 6, 'tknx_addr': '0xEeeeeEeeeEeEeeEeEeEeeEEEeeeeEeeeeeeeEEeE', 'tkny_addr': '0xA0b86991c6218b36c1d19D4a2e9Eb0cE3606eB48', 'blocklud': 17230759, 'y': 0.006039951546952498, 'yint': 0.006039951546952498, 'A': 0, 'B': 0.021821787932509752, 'pa': 0.0004761904761904711, 'pb': 0.0004761904761904711}),\n",
       " ConstantProductCurve(k=1.7793596107479857e+18, x=35587188.63442069, x_act=0, y_act=5000.0, pair='WETH-6Cc2/USDC-eB48', cid='1701411834604692317316873037158841057306-0', fee=0.002, descr='NaN', constr='carb', params={'exchange': 'carbon_v1', 'tknx_dec': 18, 'tkny_dec': 6, 'tknx_addr': '0xEeeeeEeeeEeEeeEeEeEeeEEEeeeeEeeeeeeeEEeE', 'tkny_addr': '0xA0b86991c6218b36c1d19D4a2e9Eb0cE3606eB48', 'blocklud': 17230759, 'y': 5000.0, 'yint': 5000.0, 'A': 0, 'B': 37.483327753552494, 'pa': 1404.9999999802244, 'pb': 1404.9999999802244}),\n",
       " ConstantProductCurve(k=1235288.740192844, x=53302.57125546164, x_act=0, y_act=0.48795003691276445, pair='USDC-eB48/WETH-6Cc2', cid='1701411834604692317316873037158841057315-1', fee=0.002, descr='NaN', constr='carb', params={'exchange': 'carbon_v1', 'tknx_dec': 18, 'tkny_dec': 6, 'tknx_addr': '0xEeeeeEeeeEeEeeEeEeEeeEEEeeeeEeeeeeeeEEeE', 'tkny_addr': '0xA0b86991c6218b36c1d19D4a2e9Eb0cE3606eB48', 'blocklud': 17230759, 'y': 0.48795003691276445, 'yint': 0.48795003691276445, 'A': 0.00043902688251424085, 'B': 0.02041241452319315, 'pa': 0.0004347826086956485, 'pb': 0.00041666666666666653}),\n",
       " ConstantProductCurve(k=69985711.586548, x=197.18253190339883, x_act=0, y_act=10000.0, pair='WETH-6Cc2/USDC-eB48', cid='1701411834604692317316873037158841057331-0', fee=0.002, descr='NaN', constr='carb', params={'exchange': 'carbon_v1', 'tknx_dec': 18, 'tkny_dec': 6, 'tknx_addr': '0xEeeeeEeeeEeEeeEeEeEeeEEEeeeeEeeeeeeeEEeE', 'tkny_addr': '0xA0b86991c6218b36c1d19D4a2e9Eb0cE3606eB48', 'blocklud': 17230759, 'y': 10000.0, 'yint': 10000.0, 'A': 1.1953506131590075, 'B': 41.231056254531495, 'pa': 1799.999999702816, 'pb': 1699.9999998643407}),\n",
       " ConstantProductCurve(k=147058838214704.78, x=294117.6470499694, x_act=0, y_act=50.0, pair='WETH-6Cc2/USDC-eB48', cid='1701411834604692317316873037158841057334-0', fee=0.002, descr='NaN', constr='carb', params={'exchange': 'carbon_v1', 'tknx_dec': 18, 'tkny_dec': 6, 'tknx_addr': '0xEeeeeEeeeEeEeeEeEeEeeEEEeeeeEeeeeeeeEEeE', 'tkny_addr': '0xA0b86991c6218b36c1d19D4a2e9Eb0cE3606eB48', 'blocklud': 17230747, 'y': 50.0, 'yint': 50.0, 'A': 0, 'B': 41.23105419297884, 'pa': 1699.9999998643407, 'pb': 1699.9999998643407}),\n",
       " ConstantProductCurve(k=320000031037202.06, x=799999998.7965037, x_act=0, y_act=0.04, pair='USDC-eB48/WETH-6Cc2', cid='1701411834604692317316873037158841057334-1', fee=0.002, descr='NaN', constr='carb', params={'exchange': 'carbon_v1', 'tknx_dec': 18, 'tkny_dec': 6, 'tknx_addr': '0xEeeeeEeeeEeEeeEeEeEeeEEEeeeeEeeeeeeeEEeE', 'tkny_addr': '0xA0b86991c6218b36c1d19D4a2e9Eb0cE3606eB48', 'blocklud': 17230747, 'y': 0.04, 'yint': 0.04, 'A': 0, 'B': 0.022360678656963964, 'pa': 0.0004999999999999988, 'pb': 0.0004999999999999988}),\n",
       " ConstantProductCurve(k=441019.52742450824, x=15.439848891165553, x_act=0, y_act=2000.0, pair='WETH-6Cc2/USDC-eB48', cid='1701411834604692317316873037158841057337-0', fee=0.002, descr='NaN', constr='carb', params={'exchange': 'carbon_v1', 'tknx_dec': 18, 'tkny_dec': 6, 'tknx_addr': '0xEeeeeEeeeEeEeeEeEeEeeEEEeeeeEeeeeeeeEEeE', 'tkny_addr': '0xA0b86991c6218b36c1d19D4a2e9Eb0cE3606eB48', 'blocklud': 17230747, 'y': 2000.0, 'yint': 2000.0, 'A': 3.011626333204731, 'B': 39.99999999848569, 'pa': 1849.9999996969648, 'pb': 1599.9999998788553}),\n",
       " ConstantProductCurve(k=0.69985711586548, x=0.019718253190339884, x_act=0, y_act=1.0, pair='WETH-6Cc2/USDC-eB48', cid='1701411834604692317316873037158841057339-0', fee=0.002, descr='NaN', constr='carb', params={'exchange': 'carbon_v1', 'tknx_dec': 18, 'tkny_dec': 6, 'tknx_addr': '0xEeeeeEeeeEeEeeEeEeEeeEEEeeeeEeeeeeeeEEeE', 'tkny_addr': '0xA0b86991c6218b36c1d19D4a2e9Eb0cE3606eB48', 'blocklud': 17230747, 'y': 1.0, 'yint': 1.0, 'A': 1.1953506131590075, 'B': 41.231056254531495, 'pa': 1799.999999702816, 'pb': 1699.9999998643407}),\n",
       " ConstantProductCurve(k=1.990000200445574e+17, x=19900000007.227936, x_act=0, y_act=1.0, pair='USDC-eB48/WETH-6Cc2', cid='1701411834604692317316873037158841057343-1', fee=0.002, descr='NaN', constr='carb', params={'exchange': 'carbon_v1', 'tknx_dec': 18, 'tkny_dec': 6, 'tknx_addr': '0xEeeeeEeeeEeEeeEeEeEeeEEEeeeeEeeeeeeeEEeE', 'tkny_addr': '0xA0b86991c6218b36c1d19D4a2e9Eb0cE3606eB48', 'blocklud': 17230747, 'y': 1.0, 'yint': 1.0, 'A': 0, 'B': 0.02241679086227143, 'pa': 0.0005025125628140671, 'pb': 0.0005025125628140671}),\n",
       " ConstantProductCurve(k=3.3247198115867776e+18, x=42346999.03875029, x_act=0, y_act=7851.133629, pair='WETH-6Cc2/USDC-eB48', cid='1701411834604692317316873037158841057353-0', fee=0.002, descr='NaN', constr='carb', params={'exchange': 'carbon_v1', 'tknx_dec': 18, 'tkny_dec': 6, 'tknx_addr': '0xEeeeeEeeeEeEeeEeEeEeeEEEeeeeEeeeeeeeEEeE', 'tkny_addr': '0xA0b86991c6218b36c1d19D4a2e9Eb0cE3606eB48', 'blocklud': 17230747, 'y': 7851.133629, 'yint': 7851.133629, 'A': 0, 'B': 43.05809812880723, 'pa': 1853.9999998699745, 'pb': 1853.9999998699745}),\n",
       " ConstantProductCurve(k=3.2768003215814784e+18, x=81919999923.76854, x_act=0, y_act=4.0, pair='USDC-eB48/WETH-6Cc2', cid='1701411834604692317316873037158841057353-1', fee=0.002, descr='NaN', constr='carb', params={'exchange': 'carbon_v1', 'tknx_dec': 18, 'tkny_dec': 6, 'tknx_addr': '0xEeeeeEeeeEeEeeEeEeEeeEEEeeeeEeeeeeeeEEeE', 'tkny_addr': '0xA0b86991c6218b36c1d19D4a2e9Eb0cE3606eB48', 'blocklud': 17230747, 'y': 4.0, 'yint': 4.0, 'A': 0, 'B': 0.022097085807225334, 'pa': 0.00048828124999999946, 'pb': 0.00048828124999999946})]"
      ]
     },
     "execution_count": 58,
     "metadata": {},
     "output_type": "execute_result"
    }
   ],
   "source": [
    "CCm.bypairs(f\"{tkn0}/{tkn1}\").byparams(exchange='carbon_v1').curves"
   ]
  },
  {
   "cell_type": "code",
   "execution_count": 9,
   "id": "1419695c",
   "metadata": {
    "ExecuteTime": {
     "end_time": "2023-05-08T06:22:13.748438800Z",
     "start_time": "2023-05-08T06:22:13.234535700Z"
    }
   },
   "outputs": [],
   "source": [
    "# ops = bot._find_arbitrage_opportunities_carbon_single_pairwise(flashloan_tokens=flt, CCm=CCm2, result=bot.XS_ARBOPPS)"
   ]
  },
  {
   "cell_type": "code",
   "execution_count": 10,
   "id": "95b2c699",
   "metadata": {},
   "outputs": [],
   "source": [
    "# ops"
   ]
  },
  {
   "cell_type": "code",
   "execution_count": 11,
   "id": "60b235ca",
   "metadata": {},
   "outputs": [],
   "source": [
    "# ord = bot._run(flashloan_tokens=flt, CCm=CCm2, result=bot.XS_ORDSCAL)\n",
    "# ord"
   ]
  },
  {
   "cell_type": "code",
   "execution_count": 12,
   "id": "fcb66e42",
   "metadata": {},
   "outputs": [],
   "source": [
    "# ti = bot._run(flashloan_tokens=flt, CCm=CCm2, result=bot.XS_TI)\n",
    "# ti"
   ]
  },
  {
   "cell_type": "code",
   "execution_count": 13,
   "id": "f4d25fb2",
   "metadata": {},
   "outputs": [],
   "source": [
    "# ti"
   ]
  },
  {
   "cell_type": "code",
   "execution_count": 14,
   "id": "b9217711",
   "metadata": {
    "ExecuteTime": {
     "end_time": "2023-05-08T06:14:38.217402300Z",
     "start_time": "2023-05-08T06:14:38.199889Z"
    }
   },
   "outputs": [],
   "source": [
    "# ops = bot._find_arbitrage_opportunities(flashloan_tokens=flt, CCm=CCm, result=bot.AO_CANDIDATES)\n",
    "# ops"
   ]
  },
  {
   "cell_type": "code",
   "execution_count": 15,
   "id": "93eff72b",
   "metadata": {
    "ExecuteTime": {
     "end_time": "2023-05-08T06:26:06.408866Z",
     "start_time": "2023-05-08T06:26:06.397362Z"
    }
   },
   "outputs": [],
   "source": [
    "# candf = pd.DataFrame(ops).sort_values(by=0, ascending=False)\n",
    "# candf.reset_index(inplace=True, drop=True)\n",
    "# candf.iloc[5][1]"
   ]
  },
  {
   "cell_type": "code",
   "execution_count": 16,
   "id": "b933a3e3",
   "metadata": {
    "ExecuteTime": {
     "end_time": "2023-05-08T06:27:05.150980900Z",
     "start_time": "2023-05-08T06:27:05.139453Z"
    }
   },
   "outputs": [],
   "source": [
    "# candf.iloc[0][0]"
   ]
  },
  {
   "cell_type": "code",
   "execution_count": 17,
   "id": "5382d20f",
   "metadata": {
    "ExecuteTime": {
     "end_time": "2023-05-08T06:27:07.400357100Z",
     "start_time": "2023-05-08T06:27:05.861575900Z"
    }
   },
   "outputs": [],
   "source": [
    "# exact = bot._run(flashloan_tokens=flt, CCm=CCm2, result=bot.XS_EXACT)\n",
    "# exact"
   ]
  },
  {
   "cell_type": "code",
   "execution_count": 18,
   "id": "9cb66ee5",
   "metadata": {},
   "outputs": [],
   "source": [
    "# agg = bot._run(flashloan_tokens=flt, CCm=CCm, result=bot.XS_AGGTI)\n",
    "# agg"
   ]
  },
  {
   "cell_type": "code",
   "execution_count": 19,
   "id": "a0cd2ff1",
   "metadata": {},
   "outputs": [],
   "source": [
    "# agg[0].raw_txs"
   ]
  },
  {
   "cell_type": "code",
   "execution_count": 20,
   "id": "f7f21e07",
   "metadata": {},
   "outputs": [],
   "source": [
    "# agg[1].raw_txs"
   ]
  },
  {
   "cell_type": "code",
   "execution_count": 21,
   "id": "8b0746ac",
   "metadata": {},
   "outputs": [],
   "source": [
    "# exact[0].amtin_wei, exact[0].amtout_wei"
   ]
  },
  {
   "cell_type": "code",
   "execution_count": 22,
   "id": "fc64082d",
   "metadata": {},
   "outputs": [],
   "source": [
    "# exact[1].amtin_wei, exact[1].amtout_wei"
   ]
  },
  {
   "cell_type": "code",
   "execution_count": 23,
   "id": "1905eb9d",
   "metadata": {},
   "outputs": [],
   "source": [
    "route_struct, flashloan_amount, flashloan_token_address = bot._run(flashloan_tokens=flt, CCm=CCm2, result=bot.XS_ROUTE)"
   ]
  },
  {
   "cell_type": "code",
   "execution_count": 24,
   "id": "24db122b",
   "metadata": {
    "ExecuteTime": {
     "end_time": "2023-05-08T06:27:08.874350300Z",
     "start_time": "2023-05-08T06:27:08.859710400Z"
    }
   },
   "outputs": [
    {
     "data": {
      "text/plain": [
       "([{'exchangeId': 4,\n",
       "   'targetToken': '0xA0b86991c6218b36c1d19D4a2e9Eb0cE3606eB48',\n",
       "   'minTargetAmount': 1,\n",
       "   'deadline': 1683737791,\n",
       "   'customAddress': '0xA0b86991c6218b36c1d19D4a2e9Eb0cE3606eB48',\n",
       "   'customInt': 3000,\n",
       "   'customData': '0x'},\n",
       "  {'exchangeId': 6,\n",
       "   'targetToken': '0xdAC17F958D2ee523a2206206994597C13D831ec7',\n",
       "   'minTargetAmount': 1,\n",
       "   'deadline': 1683737791,\n",
       "   'customAddress': '0xdAC17F958D2ee523a2206206994597C13D831ec7',\n",
       "   'customInt': 2000,\n",
       "   'customData': '0x000000000000000000000000000000000000000000000000000000000000002000000000000000000000000000000000000000000000000000000000000000010000000000000000000000000000000300000000000000000000000000000017000000000000000000000000000000000000000000000000000000001c1dad10'}],\n",
       " 472110495,\n",
       " '0xdAC17F958D2ee523a2206206994597C13D831ec7')"
      ]
     },
     "execution_count": 24,
     "metadata": {},
     "output_type": "execute_result"
    }
   ],
   "source": [
    "route_struct, flashloan_amount, flashloan_token_address"
   ]
  },
  {
   "attachments": {},
   "cell_type": "markdown",
   "id": "993e6614",
   "metadata": {},
   "source": [
    "# MAINNNET Preferred Tx Submission Method"
   ]
  },
  {
   "cell_type": "code",
   "execution_count": 25,
   "id": "75ae6224",
   "metadata": {},
   "outputs": [],
   "source": [
    "pool = (bot.db.get_pool(exchange_name=bot.ConfigObj.BANCOR_V3_NAME, pair_name='BNT-FF1C/ETH-EEeE'))\n",
    "bnt_eth = (int(pool.tkn0_balance), int(pool.tkn1_balance))\n",
    "\n",
    "# Init TxHelpers\n",
    "tx_helpers = TxHelpers(ConfigObj=bot.ConfigObj)"
   ]
  },
  {
   "cell_type": "code",
   "execution_count": 26,
   "id": "17ab9e38",
   "metadata": {},
   "outputs": [
    {
     "name": "stderr",
     "output_type": "stream",
     "text": [
      "2023-05-11 01:08:26,407 [fastlane:ERROR] - ContractLogicError Error when building transaction: execution reverted: SafeERC20: low-level call failed\n",
      "2023-05-11 01:08:26,408 [fastlane:ERROR] - Contract Logic error. This occurs when the transaction would fail & is likely due to stale pool data.\n"
     ]
    }
   ],
   "source": [
    "# Submit tx\n",
    "tx_helpers.validate_and_submit_transaction(route_struct=route_struct, src_amt=flashloan_amount,\n",
    "                                                    src_address=flashloan_token_address, bnt_eth=bnt_eth,\n",
    "                                                    expected_profit=Decimal('100'), safety_override=True)"
   ]
  },
  {
   "attachments": {},
   "cell_type": "markdown",
   "id": "0eb9760c",
   "metadata": {},
   "source": [
    "# MAINNET Forced Tx Submission Method"
   ]
  },
  {
   "cell_type": "code",
   "execution_count": 27,
   "id": "931af988",
   "metadata": {},
   "outputs": [],
   "source": [
    "# # Initialize tx helper\n",
    "# tx_helper = TxHelper(\n",
    "#     usd_gas_limit=75,\n",
    "#     ConfigObj=bot.ConfigObj,\n",
    "#     gas_price_multiplier = 1\n",
    "# )\n",
    "# # # Submit the transaction\n",
    "# # tx_helper.submit_flashloan_arb_tx(\n",
    "# #     arb_data=route_struct,\n",
    "# #     flashloan_token_address=flashloan_token_address,\n",
    "# #     flashloan_amount=flashloan_amount,\n",
    "# #     verbose=True,\n",
    "# # )"
   ]
  },
  {
   "cell_type": "code",
   "execution_count": 28,
   "id": "5894289c",
   "metadata": {},
   "outputs": [],
   "source": [
    "# tx_helper.gas_limit"
   ]
  }
 ],
 "metadata": {
  "jupytext": {
   "encoding": "# -*- coding: utf-8 -*-",
   "formats": "ipynb,py:light"
  },
  "kernelspec": {
   "display_name": "Python 3 (ipykernel)",
   "language": "python",
   "name": "python3"
  },
  "language_info": {
   "codemirror_mode": {
    "name": "ipython",
    "version": 3
   },
   "file_extension": ".py",
   "mimetype": "text/x-python",
   "name": "python",
   "nbconvert_exporter": "python",
   "pygments_lexer": "ipython3",
   "version": "3.10.10"
  }
 },
 "nbformat": 4,
 "nbformat_minor": 5
}

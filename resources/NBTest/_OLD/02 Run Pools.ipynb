{
 "cells": [
  {
   "cell_type": "code",
   "execution_count": 1,
   "id": "17fa84a1-e08f-4066-85ed-72a3aad21952",
   "metadata": {
    "lines_to_next_cell": 2
   },
   "outputs": [],
   "source": [
    "from fastlane_bot.tools.cpc import T, CPCContainer, ConstantProductCurve as CPC\n",
    "from fastlane_bot.bot import CarbonBot, CarbonBotBase\n",
    "flashloan_tokens = [T.WETH, T.DAI, T.USDC, T.USDT, T.WBTC, T.BNT]\n",
    "import matplotlib.pyplot as plt\n",
    "plt.style.use(\"seaborn-dark\")\n",
    "plt.rcParams[\"figure.figsize\"] = [12, 6]"
   ]
  },
  {
   "cell_type": "code",
   "execution_count": 2,
   "id": "ed089a5b-062a-4211-96c3-5a0c194197a8",
   "metadata": {},
   "outputs": [],
   "source": [
    "from fastlane_bot.tools.univ3calc import Univ3Calculator as U3\n"
   ]
  },
  {
   "cell_type": "markdown",
   "id": "9d85f168-8f94-4959-8ab0-32d1053cfc26",
   "metadata": {},
   "source": [
    "# Carbon curves on mainnet"
   ]
  },
  {
   "cell_type": "code",
   "execution_count": 3,
   "id": "cd6c4399-4aa4-4be8-9e6b-df240c85f71b",
   "metadata": {},
   "outputs": [],
   "source": [
    "# brownie networks set_provider alchemy"
   ]
  },
  {
   "cell_type": "markdown",
   "id": "d24be673-187f-41ab-aa53-825704f9c474",
   "metadata": {},
   "source": [
    "## Load the curves"
   ]
  },
  {
   "cell_type": "code",
   "execution_count": 4,
   "id": "bfb59079-ec9c-4bab-9fe5-49a6e80113b2",
   "metadata": {},
   "outputs": [],
   "source": [
    "bot = CarbonBot()"
   ]
  },
  {
   "cell_type": "code",
   "execution_count": 5,
   "id": "65d037e4-77f1-413c-b557-d0e6e467ea2b",
   "metadata": {},
   "outputs": [
    {
     "ename": "TypeError",
     "evalue": "'NoneType' object is not iterable",
     "output_type": "error",
     "traceback": [
      "\u001b[0;31m---------------------------------------------------------------------------\u001b[0m",
      "\u001b[0;31mTypeError\u001b[0m                                 Traceback (most recent call last)",
      "\u001b[0;32m<ipython-input-5-b64a05c2e795>\u001b[0m in \u001b[0;36m<module>\u001b[0;34m\u001b[0m\n\u001b[0;32m----> 1\u001b[0;31m \u001b[0mCC0\u001b[0m \u001b[0;34m=\u001b[0m \u001b[0mbot\u001b[0m\u001b[0;34m.\u001b[0m\u001b[0mget_curves\u001b[0m\u001b[0;34m(\u001b[0m\u001b[0;34m)\u001b[0m\u001b[0;34m\u001b[0m\u001b[0;34m\u001b[0m\u001b[0m\n\u001b[0m\u001b[1;32m      2\u001b[0m \u001b[0mprint\u001b[0m\u001b[0;34m(\u001b[0m\u001b[0mlen\u001b[0m\u001b[0;34m(\u001b[0m\u001b[0mCC0\u001b[0m\u001b[0;34m)\u001b[0m\u001b[0;34m)\u001b[0m\u001b[0;34m\u001b[0m\u001b[0;34m\u001b[0m\u001b[0m\n",
      "\u001b[0;32m~/REPOES/Bancor/ArbBot/fastlane_bot/bot.py\u001b[0m in \u001b[0;36mget_curves\u001b[0;34m(self)\u001b[0m\n\u001b[1;32m    161\u001b[0m         \u001b[0mpools\u001b[0m \u001b[0;34m=\u001b[0m \u001b[0mself\u001b[0m\u001b[0;34m.\u001b[0m\u001b[0mdb\u001b[0m\u001b[0;34m.\u001b[0m\u001b[0mget_nonzero_liquidity_pools\u001b[0m\u001b[0;34m(\u001b[0m\u001b[0;34m)\u001b[0m\u001b[0;34m\u001b[0m\u001b[0;34m\u001b[0m\u001b[0m\n\u001b[1;32m    162\u001b[0m         \u001b[0mcurves\u001b[0m \u001b[0;34m=\u001b[0m \u001b[0;34m[\u001b[0m\u001b[0;34m]\u001b[0m\u001b[0;34m\u001b[0m\u001b[0;34m\u001b[0m\u001b[0m\n\u001b[0;32m--> 163\u001b[0;31m         \u001b[0;32mfor\u001b[0m \u001b[0mp\u001b[0m \u001b[0;32min\u001b[0m \u001b[0mpools\u001b[0m\u001b[0;34m:\u001b[0m\u001b[0;34m\u001b[0m\u001b[0;34m\u001b[0m\u001b[0m\n\u001b[0m\u001b[1;32m    164\u001b[0m             \u001b[0;32mtry\u001b[0m\u001b[0;34m:\u001b[0m\u001b[0;34m\u001b[0m\u001b[0;34m\u001b[0m\u001b[0m\n\u001b[1;32m    165\u001b[0m                 \u001b[0mcurves\u001b[0m \u001b[0;34m+=\u001b[0m \u001b[0mp\u001b[0m\u001b[0;34m.\u001b[0m\u001b[0mto_cpc\u001b[0m\u001b[0;34m(\u001b[0m\u001b[0;34m\"float\"\u001b[0m\u001b[0;34m)\u001b[0m\u001b[0;34m\u001b[0m\u001b[0;34m\u001b[0m\u001b[0m\n",
      "\u001b[0;31mTypeError\u001b[0m: 'NoneType' object is not iterable"
     ]
    }
   ],
   "source": [
    "CC0 = bot.get_curves()\n",
    "print(len(CC0))"
   ]
  },
  {
   "cell_type": "code",
   "execution_count": null,
   "id": "616e1c32-6511-4630-abac-050537ae6896",
   "metadata": {},
   "outputs": [],
   "source": [
    "from fastlane_bot.db import models"
   ]
  },
  {
   "cell_type": "code",
   "execution_count": null,
   "id": "7f934409-7743-404d-ab7f-9eaba6b85f9e",
   "metadata": {},
   "outputs": [],
   "source": [
    "#db.session.query(models.Pool).all()"
   ]
  },
  {
   "cell_type": "code",
   "execution_count": null,
   "id": "955e6eff-fc6e-4233-9735-dc29264d10a8",
   "metadata": {},
   "outputs": [],
   "source": []
  },
  {
   "cell_type": "code",
   "execution_count": null,
   "id": "6674ec61-3d01-4dc0-be87-7330623c9815",
   "metadata": {},
   "outputs": [],
   "source": [
    "pools = db.get_nonzero_liquidity_pools()"
   ]
  },
  {
   "cell_type": "code",
   "execution_count": null,
   "id": "496e97ae-3fae-4b09-b670-ede642d19368",
   "metadata": {},
   "outputs": [],
   "source": [
    "#pools"
   ]
  },
  {
   "cell_type": "code",
   "execution_count": null,
   "id": "d326190d-edf1-453a-9f7b-37fe83b108cb",
   "metadata": {},
   "outputs": [],
   "source": [
    "c0 = pools[0]\n",
    "c0.pair_name"
   ]
  },
  {
   "cell_type": "code",
   "execution_count": null,
   "id": "00e8cff0-fbde-450a-abd5-b18f2b59c783",
   "metadata": {},
   "outputs": [],
   "source": [
    "help(c0)"
   ]
  },
  {
   "cell_type": "code",
   "execution_count": null,
   "id": "9e9bc420-848a-43ed-9efc-1a1c1a780127",
   "metadata": {},
   "outputs": [],
   "source": [
    "#[p.id for p in pools]"
   ]
  },
  {
   "cell_type": "code",
   "execution_count": null,
   "id": "afc532b7-7d8b-42d1-8689-061e579ea0b1",
   "metadata": {},
   "outputs": [],
   "source": [
    "pools[0].to_cpc(\"float\")"
   ]
  },
  {
   "cell_type": "code",
   "execution_count": null,
   "id": "699aa1df-813e-495e-b45d-ccde1364155c",
   "metadata": {},
   "outputs": [],
   "source": [
    "curves = []\n",
    "for p in pools:\n",
    "    try:\n",
    "        curves += p.to_cpc(\"float\")\n",
    "        time.sleep(0.00000001)  # to avoid unstable results\n",
    "    except Exception as e:\n",
    "        print(f\"f'ing ({e}\")\n",
    "CPCContainer(curves)"
   ]
  },
  {
   "cell_type": "code",
   "execution_count": null,
   "id": "f829d867-8c29-40e4-b418-0781338d7d9b",
   "metadata": {},
   "outputs": [],
   "source": [
    "db = bot.db\n",
    "db.get_nonzero_liquidity_pools()"
   ]
  },
  {
   "cell_type": "code",
   "execution_count": null,
   "id": "646226c3-fd55-4c76-b814-74886f05d958",
   "metadata": {},
   "outputs": [],
   "source": [
    "{c.P(\"exchange\") for c in CC0}"
   ]
  },
  {
   "cell_type": "markdown",
   "id": "23d570dd-e5e3-4983-b126-7f94b677965b",
   "metadata": {},
   "source": [
    "## Carbon curves"
   ]
  },
  {
   "cell_type": "code",
   "execution_count": null,
   "id": "dbecca99-a612-41ef-bb15-9a469f9f7b67",
   "metadata": {},
   "outputs": [],
   "source": [
    "curves = [c for c in CC0 if c.P(\"exchange\")=='carbon_v1']\n",
    "print(f\"Num curves: {len(curves)}\")\n",
    "CC = CPCContainer(curves)\n",
    "CC.plot()"
   ]
  },
  {
   "cell_type": "markdown",
   "id": "75d4ecc2-a0e0-4064-afa7-b119aa85ff51",
   "metadata": {},
   "source": [
    "## Uniswap v2"
   ]
  },
  {
   "cell_type": "code",
   "execution_count": null,
   "id": "a23144d8-038a-4be9-9e2d-c32c2cd2f13a",
   "metadata": {},
   "outputs": [],
   "source": [
    "curves = [c for c in CC0 if c.P(\"exchange\")=='uniswap_v2']\n",
    "print(f\"Num curves: {len(curves)}\")\n",
    "CC = CPCContainer(curves)\n",
    "CC.plot()"
   ]
  },
  {
   "cell_type": "markdown",
   "id": "b43aa2d3-8bd1-46ba-80b1-cbcae94898e0",
   "metadata": {},
   "source": [
    "## Bancor v3"
   ]
  },
  {
   "cell_type": "code",
   "execution_count": null,
   "id": "f861b283-9a71-40ee-a357-0d2ad9223bf1",
   "metadata": {},
   "outputs": [],
   "source": [
    "curves = [c for c in CC0 if c.P(\"exchange\")=='bancor_v3']\n",
    "print(f\"Num curves: {len(curves)}\")\n",
    "CC = CPCContainer(curves)\n",
    "CC.plot()"
   ]
  },
  {
   "cell_type": "markdown",
   "id": "a3a60464-f981-4dd4-8716-d6bd1b8fc58f",
   "metadata": {},
   "source": [
    "## Uniswap v3"
   ]
  },
  {
   "cell_type": "code",
   "execution_count": null,
   "id": "5f35bcbb-8355-4c15-b4bf-e4e53e38f533",
   "metadata": {},
   "outputs": [],
   "source": [
    "curves = [c for c in CC0 if c.P(\"exchange\")=='uniswap_v3']\n",
    "print(f\"Num curves: {len(curves)}\")\n",
    "CC = CPCContainer(curves)\n",
    "CC.plot()"
   ]
  },
  {
   "cell_type": "markdown",
   "id": "8e7aecba-dea8-466b-b3c0-5b3be981898b",
   "metadata": {},
   "source": [
    "## Sushiswap"
   ]
  },
  {
   "cell_type": "code",
   "execution_count": null,
   "id": "092c092a-0971-459b-a56a-3de7b4d61c62",
   "metadata": {},
   "outputs": [],
   "source": [
    "curves = [c for c in CC0 if c.P(\"exchange\")=='sushiswap_v2']\n",
    "print(f\"Num curves: {len(curves)}\")\n",
    "CC = CPCContainer(curves)\n",
    "CC.plot()"
   ]
  },
  {
   "cell_type": "code",
   "execution_count": null,
   "id": "8569d9da-f149-4d48-92e6-aeb9b580128d",
   "metadata": {},
   "outputs": [],
   "source": [
    "import sqlalchemy"
   ]
  },
  {
   "cell_type": "code",
   "execution_count": null,
   "id": "c3a3321e-55f3-4324-99fe-47aa220efc26",
   "metadata": {},
   "outputs": [],
   "source": []
  }
 ],
 "metadata": {
  "jupytext": {
   "encoding": "# -*- coding: utf-8 -*-",
   "formats": "ipynb,py:light"
  },
  "kernelspec": {
   "display_name": "Python 3",
   "language": "python",
   "name": "python3"
  },
  "language_info": {
   "codemirror_mode": {
    "name": "ipython",
    "version": 3
   },
   "file_extension": ".py",
   "mimetype": "text/x-python",
   "name": "python",
   "nbconvert_exporter": "python",
   "pygments_lexer": "ipython3",
   "version": "3.8.8"
  }
 },
 "nbformat": 4,
 "nbformat_minor": 5
}

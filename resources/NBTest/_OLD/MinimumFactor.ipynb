{
 "cells": [
  {
   "cell_type": "markdown",
   "id": "66aba0cd-a961-4f9f-9a1a-324329143476",
   "metadata": {},
   "source": [
    "# Minimum Factor"
   ]
  },
  {
   "cell_type": "code",
   "execution_count": 10,
   "id": "bd93451e-fb2b-4a2f-aefd-943fc921f620",
   "metadata": {},
   "outputs": [],
   "source": [
    "def hl(x,y):\n",
    "    xy = x*y\n",
    "    return xy // 2**256, xy % 2**256\n",
    "assert hl(10,10) == (0,100)\n",
    "assert hl(2**256,10) == (10,0)\n",
    "def mf(x,y):\n",
    "    pass"
   ]
  },
  {
   "cell_type": "code",
   "execution_count": 4,
   "id": "0cc38f96-9c79-446a-b594-6cca87ca8dd0",
   "metadata": {},
   "outputs": [
    {
     "data": {
      "text/plain": [
       "(10, 0)"
      ]
     },
     "execution_count": 4,
     "metadata": {},
     "output_type": "execute_result"
    }
   ],
   "source": []
  },
  {
   "cell_type": "code",
   "execution_count": null,
   "id": "426ab861-92d7-4115-9b35-289c9a83241f",
   "metadata": {},
   "outputs": [],
   "source": []
  }
 ],
 "metadata": {
  "kernelspec": {
   "display_name": "Python 3",
   "language": "python",
   "name": "python3"
  },
  "language_info": {
   "codemirror_mode": {
    "name": "ipython",
    "version": 3
   },
   "file_extension": ".py",
   "mimetype": "text/x-python",
   "name": "python",
   "nbconvert_exporter": "python",
   "pygments_lexer": "ipython3",
   "version": "3.8.8"
  }
 },
 "nbformat": 4,
 "nbformat_minor": 5
}

{
 "cells": [
  {
   "cell_type": "code",
   "execution_count": 1,
   "id": "84fa264b",
   "metadata": {
    "ExecuteTime": {
     "end_time": "2023-07-09T13:54:12.577531Z",
     "start_time": "2023-07-09T13:54:12.514167Z"
    }
   },
   "outputs": [
    {
     "name": "stdout",
     "output_type": "stream",
     "text": [
      "ConstantProductCurve v2.10.1 (07/May/2023)\n",
      "CarbonBot v3-b2.2 (20/June/2023)\n",
      "UniswapV2 v0.0.1 (2023-07-03)\n",
      "UniswapV3 v0.0.1 (2023-07-03)\n",
      "SushiswapV2 v0.0.1 (2023-07-03)\n",
      "CarbonV1 v0.0.1 (2023-07-03)\n",
      "BancorV3 v0.0.1 (2023-07-03)\n",
      "imported m, np, pd, plt, os, sys, decimal; defined iseq, raises, require\n"
     ]
    },
    {
     "name": "stderr",
     "output_type": "stream",
     "text": [
      "C:\\Users\\Kveen\\AppData\\Local\\Temp\\ipykernel_28704\\3226121854.py:27: MatplotlibDeprecationWarning: The seaborn styles shipped by Matplotlib are deprecated since 3.6, as they no longer correspond to the styles shipped by seaborn. However, they will remain available as 'seaborn-v0_8-<style>'. Alternatively, directly use the seaborn API instead.\n",
      "  plt.style.use('seaborn-dark')\n"
     ]
    },
    {
     "name": "stdout",
     "output_type": "stream",
     "text": [
      "Version = 3-b2.2 [requirements >= 3.0 is met]\n"
     ]
    }
   ],
   "source": [
    "# coding=utf-8\n",
    "\"\"\"\n",
    "This module contains the tests for the exchanges classes\n",
    "\"\"\"\n",
    "from fastlane_bot import Bot, Config\n",
    "from fastlane_bot.bot import CarbonBot\n",
    "from fastlane_bot.tools.cpc import ConstantProductCurve\n",
    "from fastlane_bot.tools.cpc import ConstantProductCurve as CPC\n",
    "from fastlane_bot.events.exchanges import UniswapV2, UniswapV3, SushiswapV2, CarbonV1, BancorV3\n",
    "from fastlane_bot.events.interface import QueryInterface\n",
    "from fastlane_bot.helpers.poolandtokens import PoolAndTokens\n",
    "from fastlane_bot.helpers import TradeInstruction, TxReceiptHandler, TxRouteHandler, TxSubmitHandler, TxHelpers, TxHelper\n",
    "from fastlane_bot.events.managers.manager import Manager\n",
    "from fastlane_bot.events.interface import QueryInterface\n",
    "import pytest\n",
    "import math\n",
    "import json\n",
    "print(\"{0.__name__} v{0.__VERSION__} ({0.__DATE__})\".format(CPC))\n",
    "print(\"{0.__name__} v{0.__VERSION__} ({0.__DATE__})\".format(Bot))\n",
    "print(\"{0.__name__} v{0.__VERSION__} ({0.__DATE__})\".format(UniswapV2))\n",
    "print(\"{0.__name__} v{0.__VERSION__} ({0.__DATE__})\".format(UniswapV3))\n",
    "print(\"{0.__name__} v{0.__VERSION__} ({0.__DATE__})\".format(SushiswapV2))\n",
    "print(\"{0.__name__} v{0.__VERSION__} ({0.__DATE__})\".format(CarbonV1))\n",
    "print(\"{0.__name__} v{0.__VERSION__} ({0.__DATE__})\".format(BancorV3))\n",
    "from fastlane_bot.testing import *\n",
    "from fastlane_bot.modes import triangle_single_bancor3\n",
    "plt.style.use('seaborn-dark')\n",
    "plt.rcParams['figure.figsize'] = [12,6]\n",
    "from fastlane_bot import __VERSION__\n",
    "require(\"3.0\", __VERSION__)"
   ]
  },
  {
   "cell_type": "markdown",
   "id": "bfd5bb3b",
   "metadata": {},
   "source": [
    "# Test Bancor V3 Two-hop mode [NB042]"
   ]
  },
  {
   "cell_type": "markdown",
   "id": "6596bd6b",
   "metadata": {},
   "source": [
    "### Setup"
   ]
  },
  {
   "cell_type": "code",
   "execution_count": 2,
   "id": "a51e5ec2",
   "metadata": {
    "ExecuteTime": {
     "end_time": "2023-07-09T13:54:13.771032Z",
     "start_time": "2023-07-09T13:54:12.517536Z"
    }
   },
   "outputs": [],
   "source": [
    "C = cfg = Config.new(config=Config.CONFIG_MAINNET)\n",
    "C.DEFAULT_MIN_PROFIT_BNT = 50\n",
    "C.DEFAULT_MIN_PROFIT = 50\n",
    "cfg.DEFAULT_MIN_PROFIT_BNT = 50\n",
    "cfg.DEFAULT_MIN_PROFIT = 50\n",
    "assert (C.NETWORK == C.NETWORK_MAINNET)\n",
    "assert (C.PROVIDER == C.PROVIDER_ALCHEMY)\n",
    "setup_bot = CarbonBot(ConfigObj=C)"
   ]
  },
  {
   "cell_type": "code",
   "execution_count": 3,
   "id": "91de7c93",
   "metadata": {},
   "outputs": [],
   "source": [
    "assert C.DEFAULT_MIN_PROFIT_BNT == 50, f\"[test_bancor_v3_two_hop] wrong DEFAULT_MIN_PROFIT_BNT for test, expected 50, got {C.DEFAULT_MIN_PROFIT_BNT}\""
   ]
  },
  {
   "cell_type": "code",
   "execution_count": 4,
   "id": "a8986ce6",
   "metadata": {
    "ExecuteTime": {
     "end_time": "2023-07-09T13:54:13.815668Z",
     "start_time": "2023-07-09T13:54:13.771735Z"
    }
   },
   "outputs": [],
   "source": [
    "pools = None\n",
    "with open('fastlane_bot/data/tests/latest_pool_data_testing.json') as f:\n",
    "    pools = json.load(f)\n",
    "pools = [pool for pool in pools]"
   ]
  },
  {
   "cell_type": "code",
   "execution_count": 5,
   "id": "b37b1c86",
   "metadata": {
    "ExecuteTime": {
     "end_time": "2023-07-09T13:54:13.818688Z",
     "start_time": "2023-07-09T13:54:13.815923Z"
    }
   },
   "outputs": [],
   "source": [
    "pools[0]\n",
    "static_pools = pools"
   ]
  },
  {
   "cell_type": "code",
   "execution_count": 6,
   "id": "3d52e87d",
   "metadata": {
    "ExecuteTime": {
     "end_time": "2023-07-09T13:54:13.839769Z",
     "start_time": "2023-07-09T13:54:13.823320Z"
    }
   },
   "outputs": [],
   "source": [
    "state = pools\n",
    "exchanges = list({ex['exchange_name'] for ex in state})\n",
    "db = QueryInterface(state=state, ConfigObj=C, exchanges=exchanges)\n",
    "setup_bot.db = db"
   ]
  },
  {
   "cell_type": "code",
   "execution_count": 7,
   "id": "6cc5b472",
   "metadata": {
    "ExecuteTime": {
     "end_time": "2023-07-09T13:54:13.915008Z",
     "start_time": "2023-07-09T13:54:13.849521Z"
    }
   },
   "outputs": [],
   "source": [
    "static_pool_data_filename = \"static_pool_data\"\n",
    "\n",
    "static_pool_data = pd.read_csv(f\"fastlane_bot/data/{static_pool_data_filename}.csv\", low_memory=False)\n",
    "    \n",
    "uniswap_v2_event_mappings = pd.read_csv(\"fastlane_bot/data/uniswap_v2_event_mappings.csv\", low_memory=False)\n",
    "        \n",
    "tokens = pd.read_csv(\"fastlane_bot/data/tokens.csv\", low_memory=False)\n",
    "        \n",
    "exchanges = \"carbon_v1,bancor_v3,uniswap_v3,uniswap_v2,sushiswap_v2\"\n",
    "\n",
    "exchanges = exchanges.split(\",\")\n",
    "arb_mode = \"b3_two_hop\"\n",
    "\n",
    "alchemy_max_block_fetch = 20"
   ]
  },
  {
   "cell_type": "code",
   "execution_count": 8,
   "id": "7695b95f",
   "metadata": {
    "ExecuteTime": {
     "end_time": "2023-07-09T13:54:14.061176Z",
     "start_time": "2023-07-09T13:54:13.913015Z"
    }
   },
   "outputs": [],
   "source": [
    "static_pool_data[\"cid\"] = [\n",
    "        cfg.w3.keccak(text=f\"{row['descr']}\").hex()\n",
    "        for index, row in static_pool_data.iterrows()\n",
    "    ]\n"
   ]
  },
  {
   "cell_type": "code",
   "execution_count": 9,
   "id": "4a78f85d",
   "metadata": {
    "ExecuteTime": {
     "end_time": "2023-07-09T13:54:14.320271Z",
     "start_time": "2023-07-09T13:54:14.062220Z"
    },
    "collapsed": false
   },
   "outputs": [],
   "source": [
    "# Filter out pools that are not in the supported exchanges\n",
    "static_pool_data = [\n",
    "    row for index, row in static_pool_data.iterrows()\n",
    "    if row[\"exchange_name\"] in exchanges\n",
    "]\n",
    "\n",
    "static_pool_data = pd.DataFrame(static_pool_data)"
   ]
  },
  {
   "cell_type": "code",
   "execution_count": 10,
   "id": "81cad9f1",
   "metadata": {
    "ExecuteTime": {
     "end_time": "2023-07-09T13:54:14.327195Z",
     "start_time": "2023-07-09T13:54:14.322677Z"
    },
    "collapsed": false
   },
   "outputs": [
    {
     "data": {
      "text/plain": [
       "array(['uniswap_v3', 'bancor_v3', 'uniswap_v2', 'sushiswap_v2'],\n",
       "      dtype=object)"
      ]
     },
     "execution_count": 10,
     "metadata": {},
     "output_type": "execute_result"
    }
   ],
   "source": [
    "static_pool_data['exchange_name'].unique()"
   ]
  },
  {
   "cell_type": "code",
   "execution_count": 11,
   "id": "da422583",
   "metadata": {
    "ExecuteTime": {
     "end_time": "2023-07-09T13:54:14.649580Z",
     "start_time": "2023-07-09T13:54:14.352440Z"
    }
   },
   "outputs": [
    {
     "name": "stderr",
     "output_type": "stream",
     "text": [
      "2023-07-18 18:20:37,656 [fastlane:INFO] - Time taken to add initial pools: 0.09398627281188965\n"
     ]
    }
   ],
   "source": [
    "from joblib import Parallel, delayed\n",
    "\n",
    "# Initialize data fetch manager\n",
    "mgr = Manager(\n",
    "    web3=cfg.w3,\n",
    "    cfg=cfg,\n",
    "    pool_data=static_pool_data.to_dict(orient=\"records\"),\n",
    "    SUPPORTED_EXCHANGES=exchanges,\n",
    "    alchemy_max_block_fetch=alchemy_max_block_fetch,\n",
    "    uniswap_v2_event_mappings=uniswap_v2_event_mappings,\n",
    "    tokens=tokens.to_dict(orient=\"records\"),\n",
    ")\n",
    "\n",
    "# Add initial pools for each row in the static_pool_data\n",
    "start_time = time.time()\n",
    "Parallel(n_jobs=-1, backend=\"threading\")(\n",
    "    delayed(mgr.add_pool_to_exchange)(row) for row in mgr.pool_data\n",
    ")\n",
    "cfg.logger.info(f\"Time taken to add initial pools: {time.time() - start_time}\")\n",
    "\n",
    "# check if any duplicate cid's exist in the pool data\n",
    "mgr.deduplicate_pool_data()\n",
    "cids = [pool[\"cid\"] for pool in mgr.pool_data]\n",
    "assert len(cids) == len(set(cids)), \"duplicate cid's exist in the pool data\""
   ]
  },
  {
   "cell_type": "code",
   "execution_count": 12,
   "id": "c7b0d9e1",
   "metadata": {
    "ExecuteTime": {
     "end_time": "2023-07-09T13:54:14.657376Z",
     "start_time": "2023-07-09T13:54:14.655798Z"
    }
   },
   "outputs": [],
   "source": [
    "def init_bot(mgr: Manager) -> CarbonBot:\n",
    "    \"\"\"\n",
    "    Initializes the bot.\n",
    "\n",
    "    Parameters\n",
    "    ----------\n",
    "    mgr : Manager\n",
    "        The manager object.\n",
    "\n",
    "    Returns\n",
    "    -------\n",
    "    CarbonBot\n",
    "        The bot object.\n",
    "    \"\"\"\n",
    "    mgr.cfg.logger.info(\"Initializing the bot...\")\n",
    "    bot = CarbonBot(ConfigObj=mgr.cfg)\n",
    "    bot.db = db\n",
    "    bot.db.mgr = mgr\n",
    "    assert isinstance(\n",
    "        bot.db, QueryInterface\n",
    "    ), \"QueryInterface not initialized correctly\"\n",
    "    return bot"
   ]
  },
  {
   "cell_type": "code",
   "execution_count": 13,
   "id": "30affd76",
   "metadata": {
    "ExecuteTime": {
     "end_time": "2023-07-09T13:54:14.788568Z",
     "start_time": "2023-07-09T13:54:14.658075Z"
    }
   },
   "outputs": [
    {
     "name": "stderr",
     "output_type": "stream",
     "text": [
      "2023-07-18 18:20:37,688 [fastlane:INFO] - Initializing the bot...\n"
     ]
    }
   ],
   "source": [
    "bot = init_bot(mgr)"
   ]
  },
  {
   "cell_type": "code",
   "execution_count": 14,
   "id": "d838f999",
   "metadata": {
    "ExecuteTime": {
     "end_time": "2023-07-09T13:54:15.109721Z",
     "start_time": "2023-07-09T13:54:14.794835Z"
    },
    "collapsed": false
   },
   "outputs": [
    {
     "name": "stderr",
     "output_type": "stream",
     "text": [
      "2023-07-18 18:20:37,864 [fastlane:INFO] - Removed 3242 unmapped uniswap_v2/sushi pools. 1897 uniswap_v2/sushi pools remaining\n",
      "2023-07-18 18:20:37,865 [fastlane:INFO] - Unmapped uniswap_v2/sushi pools:\n",
      "2023-07-18 18:20:38,078 [fastlane:INFO] - uniswap_v3: 0\n",
      "2023-07-18 18:20:38,080 [fastlane:INFO] - uniswap_v2: 3242\n",
      "2023-07-18 18:20:38,081 [fastlane:INFO] - sushiswap_v2: 0\n",
      "2023-07-18 18:20:38,083 [fastlane:INFO] - uniswap_v3: 636\n",
      "2023-07-18 18:20:38,084 [fastlane:INFO] - sushiswap_v2: 78\n",
      "2023-07-18 18:20:38,084 [fastlane:INFO] - uniswap_v2: 0\n",
      "2023-07-18 18:20:38,085 [fastlane:INFO] - bancor_v2: 0\n",
      "2023-07-18 18:20:38,086 [fastlane:INFO] - bancor_v3: 34\n",
      "2023-07-18 18:20:38,086 [fastlane:INFO] - carbon_v1: 220\n",
      "2023-07-18 18:20:38,110 [fastlane:INFO] - uniswap_v3_zero_liquidity_pools: 858\n",
      "2023-07-18 18:20:38,111 [fastlane:INFO] - sushiswap_v2_zero_liquidity_pools: 34\n",
      "2023-07-18 18:20:38,111 [fastlane:INFO] - uniswap_v2_zero_liquidity_pools: 0\n",
      "2023-07-18 18:20:38,112 [fastlane:INFO] - bancor_v2_zero_liquidity_pools: 0\n",
      "2023-07-18 18:20:38,112 [fastlane:INFO] - bancor_v3_zero_liquidity_pools: 37\n",
      "2023-07-18 18:20:38,113 [fastlane:INFO] - carbon_v1_zero_liquidity_pools: 0\n",
      "2023-07-18 18:20:38,113 [fastlane:INFO] - Removed 0 unsupported exchanges. 968 pools remaining\n",
      "2023-07-18 18:20:38,114 [fastlane:INFO] - Pools remaining per exchange:\n",
      "2023-07-18 18:20:38,115 [fastlane:INFO] - bancor_v3: 34\n",
      "2023-07-18 18:20:38,115 [fastlane:INFO] - uniswap_v2: 0\n",
      "2023-07-18 18:20:38,116 [fastlane:INFO] - carbon_v1: 220\n",
      "2023-07-18 18:20:38,117 [fastlane:INFO] - sushiswap_v2: 78\n",
      "2023-07-18 18:20:38,117 [fastlane:INFO] - uniswap_v3: 636\n"
     ]
    }
   ],
   "source": [
    "# add data cleanup steps from main.py\n",
    "bot.db.handle_token_key_cleanup()\n",
    "bot.db.remove_unmapped_uniswap_v2_pools()\n",
    "bot.db.remove_zero_liquidity_pools()\n",
    "bot.db.remove_unsupported_exchanges()"
   ]
  },
  {
   "cell_type": "code",
   "execution_count": 15,
   "id": "1f5979f7",
   "metadata": {},
   "outputs": [],
   "source": [
    "tokens = bot.db.get_tokens()"
   ]
  },
  {
   "cell_type": "code",
   "execution_count": 16,
   "id": "54ae3201",
   "metadata": {
    "ExecuteTime": {
     "end_time": "2023-07-09T13:54:15.119648Z",
     "start_time": "2023-07-09T13:54:15.112719Z"
    }
   },
   "outputs": [],
   "source": [
    "ADDRDEC = {t.key: (t.address, int(t.decimals)) for t in tokens if not math.isnan(t.decimals)}"
   ]
  },
  {
   "cell_type": "code",
   "execution_count": 17,
   "id": "56b84131",
   "metadata": {
    "ExecuteTime": {
     "end_time": "2023-07-09T13:54:15.158900Z",
     "start_time": "2023-07-09T13:54:15.123724Z"
    }
   },
   "outputs": [],
   "source": [
    "flashloan_tokens = bot.setup_flashloan_tokens(None)\n",
    "CCm = bot.setup_CCm(None)"
   ]
  },
  {
   "cell_type": "code",
   "execution_count": 18,
   "id": "79967a49",
   "metadata": {
    "ExecuteTime": {
     "end_time": "2023-07-09T13:54:15.164754Z",
     "start_time": "2023-07-09T13:54:15.137291Z"
    }
   },
   "outputs": [],
   "source": [
    "pools = db.get_pool_data_with_tokens()"
   ]
  },
  {
   "cell_type": "markdown",
   "id": "1d066409",
   "metadata": {},
   "source": [
    "### Instantiate Arb Finder"
   ]
  },
  {
   "cell_type": "code",
   "execution_count": 19,
   "id": "aaaf7423",
   "metadata": {
    "ExecuteTime": {
     "end_time": "2023-07-09T13:54:15.356301Z",
     "start_time": "2023-07-09T13:54:15.352256Z"
    }
   },
   "outputs": [],
   "source": [
    "arb_finder = bot._get_arb_finder(\"b3_two_hop\")"
   ]
  },
  {
   "cell_type": "code",
   "execution_count": 20,
   "id": "245c109d",
   "metadata": {},
   "outputs": [],
   "source": [
    "assert arb_finder.__name__ == \"ArbitrageFinderTriangleBancor3TwoHop\", f\"[test_bancor_v3_two_hop] Wrong Arb Finder class, expected ArbitrageFinderTriangleBancor3TwoHop, got {arb_finder.__name__}\""
   ]
  },
  {
   "cell_type": "code",
   "execution_count": 21,
   "id": "fbccb45f",
   "metadata": {},
   "outputs": [
    {
     "name": "stderr",
     "output_type": "stream",
     "text": [
      "2023-07-18 18:20:38,291 [fastlane:WARNING] - base_exchange must be bancor_v3 for b3_two_hop, setting it to bancor_v3\n",
      "2023-07-18 18:20:38,292 [fastlane:INFO] - flashloan_tokens for arb_mode=b3_two_hop will be overwritten. \n"
     ]
    }
   ],
   "source": [
    "finder = arb_finder(\n",
    "            flashloan_tokens=flashloan_tokens,\n",
    "            CCm=CCm,\n",
    "            mode=\"bothin\",\n",
    "            result=False,\n",
    "            ConfigObj=bot.ConfigObj,\n",
    "        )\n",
    "r = finder.find_arbitrage()\n",
    "(\n",
    "            best_profit,\n",
    "            best_trade_instructions_df,\n",
    "            best_trade_instructions_dic,\n",
    "            best_src_token,\n",
    "            best_trade_instructions,\n",
    "        ) = r\n",
    "(\n",
    "ordered_trade_instructions_dct,\n",
    "tx_in_count,\n",
    ") = bot._simple_ordering_by_src_token(\n",
    "best_trade_instructions_dic, best_src_token\n",
    ")\n",
    "ordered_scaled_dcts = bot._basic_scaling(\n",
    "            ordered_trade_instructions_dct, best_src_token\n",
    "        )\n",
    "# Convert the trade instructions\n",
    "ordered_trade_instructions_objects = bot._convert_trade_instructions(\n",
    "    ordered_scaled_dcts)\n",
    "tx_route_handler = bot.TxRouteHandlerClass(\n",
    "            trade_instructions=ordered_trade_instructions_objects\n",
    "        )\n",
    "agg_trade_instructions = (\n",
    "            tx_route_handler.aggregate_carbon_trades(ordered_trade_instructions_objects)\n",
    "            if bot._carbon_in_trade_route(ordered_trade_instructions_objects)\n",
    "            else ordered_trade_instructions_objects\n",
    "        )"
   ]
  },
  {
   "cell_type": "code",
   "execution_count": 22,
   "id": "25340a7c",
   "metadata": {},
   "outputs": [],
   "source": [
    "# Calculate the trade instructions\n",
    "calculated_trade_instructions = tx_route_handler.calculate_trade_outputs(\n",
    "    agg_trade_instructions\n",
    ")"
   ]
  },
  {
   "cell_type": "markdown",
   "id": "ab6e3add",
   "metadata": {},
   "source": [
    "### Test Bancor V3 Trade Merge"
   ]
  },
  {
   "cell_type": "code",
   "execution_count": 23,
   "id": "f779cdf4",
   "metadata": {},
   "outputs": [],
   "source": [
    "assert len(calculated_trade_instructions) == 3"
   ]
  },
  {
   "cell_type": "code",
   "execution_count": 24,
   "id": "f2c7dd92",
   "metadata": {},
   "outputs": [],
   "source": [
    "# Aggregate multiple Bancor V3 trades into a single trade\n",
    "calculated_trade_instructions = TxRouteHandler.aggregate_bancor_v3_trades(\n",
    "    calculated_trade_instructions\n",
    ")"
   ]
  },
  {
   "cell_type": "code",
   "execution_count": 25,
   "id": "92d63679",
   "metadata": {},
   "outputs": [],
   "source": [
    "assert len(calculated_trade_instructions) == 2\n",
    "assert calculated_trade_instructions[0].tknin != \"BNT-FF1C\"\n",
    "assert calculated_trade_instructions[0].tknout != \"BNT-FF1C\""
   ]
  },
  {
   "cell_type": "code",
   "execution_count": 26,
   "id": "b2588e90",
   "metadata": {},
   "outputs": [
    {
     "name": "stderr",
     "output_type": "stream",
     "text": [
      "2023-07-18 18:20:38,821 [fastlane:INFO] - flashloan_tokens for arb_mode=b3_two_hop will be overwritten. \n"
     ]
    }
   ],
   "source": [
    "r = finder.find_arbitrage()\n",
    "(\n",
    "ordered_trade_instructions_dct,\n",
    "tx_in_count,\n",
    ") = bot._simple_ordering_by_src_token(\n",
    "best_trade_instructions_dic, best_src_token\n",
    ")\n",
    "(\n",
    "            best_profit,\n",
    "            best_trade_instructions_df,\n",
    "            best_trade_instructions_dic,\n",
    "            best_src_token,\n",
    "            best_trade_instructions,\n",
    "        ) = r"
   ]
  },
  {
   "cell_type": "code",
   "execution_count": 27,
   "id": "1ca4e899",
   "metadata": {},
   "outputs": [],
   "source": [
    "pool_cids = [curve['cid'] for curve in ordered_trade_instructions_dct]"
   ]
  },
  {
   "cell_type": "code",
   "execution_count": 28,
   "id": "139ff2c3",
   "metadata": {},
   "outputs": [],
   "source": [
    "first_check_pools = finder.get_exact_pools(pool_cids)"
   ]
  },
  {
   "cell_type": "markdown",
   "id": "a42b1cdb",
   "metadata": {},
   "source": [
    "### Bancor V3 Math Validation"
   ]
  },
  {
   "cell_type": "code",
   "execution_count": 29,
   "id": "abbc618b",
   "metadata": {},
   "outputs": [
    {
     "data": {
      "text/plain": [
       "['0x7be3da0f8d0f70d8f7a84a08dd267beea4318ed1c9fb3d602b0f3a3c7bd1cf4a',\n",
       " '0x748ab2bef0d97e5a044268626e6c9c104bab818605d44f650fdeaa03a3c742d2',\n",
       " '0xb1d8cd62f75016872495dae3e19d96e364767e7d674488392029d15cdbcd7b34']"
      ]
     },
     "execution_count": 29,
     "metadata": {},
     "output_type": "execute_result"
    }
   ],
   "source": [
    "pool_cids"
   ]
  },
  {
   "cell_type": "code",
   "execution_count": 30,
   "id": "48d79b92",
   "metadata": {},
   "outputs": [
    {
     "data": {
      "text/plain": [
       "[ConstantProductCurve(k=7458672780897.036, x=4357338.999127756, x_act=4357338.999127756, y_act=1711749.483432457, pair='BNT-FF1C/DAI-1d0F', cid='0x7be3da0f8d0f70d8f7a84a08dd267beea4318ed1c9fb3d602b0f3a3c7bd1cf4a', fee=0.0, descr='bancor_v3 BNT-FF1C/DAI-1d0F 0.000', constr='uv2', params={'exchange': 'bancor_v3', 'tknx_dec': 18, 'tkny_dec': 18, 'tknx_addr': '0x1F573D6Fb3F13d689FF844B4cE37794d79a7FF1C', 'tkny_addr': '0x6B175474E89094C44Da98b954EedeAC495271d0F', 'blocklud': 17674416}),\n",
       " ConstantProductCurve(k=59918781404.42242, x=16895601.47740128, x_act=16895601.47740128, y_act=3546.4130403742547, pair='BNT-FF1C/WETH-6Cc2', cid='0x748ab2bef0d97e5a044268626e6c9c104bab818605d44f650fdeaa03a3c742d2', fee=0.0, descr='bancor_v3 BNT-FF1C/ETH-EEeE 0.000', constr='uv2', params={'exchange': 'bancor_v3', 'tknx_dec': 18, 'tkny_dec': 18, 'tknx_addr': '0x1F573D6Fb3F13d689FF844B4cE37794d79a7FF1C', 'tkny_addr': '0xEeeeeEeeeEeEeeEeEeEeeEEEeeeeEeeeeeeeEEeE', 'blocklud': 17675738}),\n",
       " ConstantProductCurve(k=2960553375463.695, x=74799776.99624678, x_act=23587.385892659426, y_act=7.3051442089054035, pair='DAI-1d0F/WETH-6Cc2', cid='0xb1d8cd62f75016872495dae3e19d96e364767e7d674488392029d15cdbcd7b34', fee=0.0005, descr='uniswap_v3 DAI-1d0F/WETH-6Cc2 500', constr='pkpp', params={'exchange': 'uniswap_v3', 'tknx_dec': 18, 'tkny_dec': 18, 'tknx_addr': '0x6B175474E89094C44Da98b954EedeAC495271d0F', 'tkny_addr': '0xC02aaA39b223FE8D0A0e5C4F27eAD9083C756Cc2', 'blocklud': 17675936, 'L': 1720625.8673702702})]"
      ]
     },
     "execution_count": 30,
     "metadata": {},
     "output_type": "execute_result"
    }
   ],
   "source": [
    "first_check_pools"
   ]
  },
  {
   "cell_type": "code",
   "execution_count": 31,
   "id": "0fd2781b",
   "metadata": {},
   "outputs": [],
   "source": [
    "assert first_check_pools[0].cid == '0x7be3da0f8d0f70d8f7a84a08dd267beea4318ed1c9fb3d602b0f3a3c7bd1cf4a', f\"[test_bancor_v3_two_hop] Validation, wrong first pool, expected CID: 0x7be3da0f8d0f70d8f7a84a08dd267beea4318ed1c9fb3d602b0f3a3c7bd1cf4a, got CID: {first_check_pools[0].cid}\"\n",
    "assert first_check_pools[1].cid == '0x748ab2bef0d97e5a044268626e6c9c104bab818605d44f650fdeaa03a3c742d2', f\"[test_bancor_v3_two_hop] Validation, wrong second pool, expected CID: 0x748ab2bef0d97e5a044268626e6c9c104bab818605d44f650fdeaa03a3c742d2, got CID: {first_check_pools[1].cid}\"\n",
    "assert first_check_pools[2].cid == '0xb1d8cd62f75016872495dae3e19d96e364767e7d674488392029d15cdbcd7b34', f\"[test_bancor_v3_two_hop] Validation, wrong third pool, expected CID: 0xb1d8cd62f75016872495dae3e19d96e364767e7d674488392029d15cdbcd7b34, got CID: {first_check_pools[2].cid}\"\n",
    "assert(len(first_check_pools) == 3), f\"[test_bancor_v3_two_hop] Validation expected 3 pools, got {len(first_check_pools)}\"\n",
    "for pool in first_check_pools:\n",
    "    assert type(pool) == ConstantProductCurve, f\"[test_bancor_v3_two_hop] Validation pool type mismatch, got {type(pool)} expected ConstantProductCurve\"\n",
    "    assert pool.cid in pool_cids, f\"[test_bancor_v3_two_hop] Validation missing pool.cid {pool.cid} in {pool_cids}\"\n"
   ]
  },
  {
   "cell_type": "code",
   "execution_count": 32,
   "id": "b4e7871a",
   "metadata": {},
   "outputs": [],
   "source": [
    "optimal_arb = finder.get_optimal_arb_trade_amts(pool_cids, 'DAI-1d0F')\n",
    "assert type(optimal_arb) == float, f\"[test_bancor_v3_two_hop] Optimal arb calculation type is {type(optimal_arb)} not float\"\n",
    "assert iseq(optimal_arb, 6179.168331968203), f\"[test_bancor_v3_two_hop] Optimal arb calculation type is {optimal_arb}, expected 6179.168331968203\"\n"
   ]
  },
  {
   "cell_type": "code",
   "execution_count": 33,
   "id": "00237dad",
   "metadata": {},
   "outputs": [],
   "source": [
    "flt='DAI-1d0F'\n",
    "tkn0 = flt\n",
    "tkn1 = finder.get_tkn(pool=first_check_pools[0], tkn_num=1) if finder.get_tkn(pool=first_check_pools[0], tkn_num=1) != flt else finder.get_tkn(pool=first_check_pools[0], tkn_num=0)\n",
    "tkn2 = finder.get_tkn(pool=first_check_pools[1], tkn_num=0) if finder.get_tkn(pool=first_check_pools[1], tkn_num=0) == tkn1 else finder.get_tkn(pool=first_check_pools[1], tkn_num=1)\n",
    "tkn3 = finder.get_tkn(pool=first_check_pools[1], tkn_num=0) if finder.get_tkn(pool=first_check_pools[1], tkn_num=0) != tkn1 else finder.get_tkn(pool=first_check_pools[1], tkn_num=1)\n",
    "tkn5 = finder.get_tkn(pool=first_check_pools[2], tkn_num=1) if finder.get_tkn(pool=first_check_pools[2], tkn_num=1) == flt else finder.get_tkn(pool=first_check_pools[2], tkn_num=0)\n",
    "p0t0 = first_check_pools[0].x if finder.get_tkn(pool=first_check_pools[0], tkn_num=0) == flt else first_check_pools[0].y\n",
    "p0t1 = first_check_pools[0].y if finder.get_tkn(pool=first_check_pools[0], tkn_num=0) == flt else first_check_pools[0].x\n",
    "p1t0 = first_check_pools[1].x if tkn1 == finder.get_tkn(pool=first_check_pools[1], tkn_num=0) else first_check_pools[1].y\n",
    "p1t1 = first_check_pools[1].y if tkn1 == finder.get_tkn(pool=first_check_pools[1], tkn_num=0) else first_check_pools[1].x\n",
    "p2t0 = first_check_pools[2].x if finder.get_tkn(pool=first_check_pools[2], tkn_num=0) != flt else first_check_pools[2].y\n",
    "p2t1 = first_check_pools[2].y if finder.get_tkn(pool=first_check_pools[2], tkn_num=0) != flt else first_check_pools[2].x\n",
    "fee0 = finder.get_fee_safe(first_check_pools[0].fee)\n",
    "fee1 = finder.get_fee_safe(first_check_pools[1].fee)\n",
    "fee2 = finder.get_fee_safe(first_check_pools[2].fee)\n",
    "\n",
    "\n",
    "# max_arb_in = finder.max_arb_trade_in_constant_product(p0t0, p0t1, p1t0, p1t1, p2t0, p2t1, fee0=fee0, fee1=fee1, fee2=fee2)\n",
    "# finder.ConfigObj.logger.info(f\"\\n\\nfirst_check_pools: {first_check_pools}\\n\\nValidating trade, max_arb_in= {max_arb_in} {tkn0} -> {tkn1} -> {tkn3} -> {tkn5}, token amts: {p0t0, p0t1, p1t0, p1t1, p2t0, p2t1}, fees: {fee0, fee1, fee2}\")"
   ]
  },
  {
   "cell_type": "code",
   "execution_count": 34,
   "id": "6ee7b05e",
   "metadata": {},
   "outputs": [],
   "source": [
    "optimal_arb_low_level_check = finder.max_arb_trade_in_constant_product(p0t0=p0t0, p0t1=p0t1, p1t0=p1t0, p1t1=p1t1, p2t0=p2t0, p2t1=p2t1,fee0=fee0, fee1=fee1, fee2=fee2)\n",
    "assert iseq(optimal_arb, optimal_arb_low_level_check), f\"[test_bancor_v3_two_hop] Arb calculation result mismatch, pools likely ordered incorrectly, previous calc: {optimal_arb}, this calc: {optimal_arb_low_level_check}\""
   ]
  },
  {
   "cell_type": "code",
   "execution_count": 35,
   "id": "f34d63cc",
   "metadata": {},
   "outputs": [],
   "source": [
    "ext_fee = finder.get_fee_safe(first_check_pools[2].fee)\n",
    "assert type(ext_fee) == float, f\"[test_bancor_v3_two_hop] Testing external pool, fee type is {type(ext_fee)} not float\"\n",
    "assert iseq(ext_fee, 0.0005), f\"[test_bancor_v3_two_hop] Testing external pool, fee amt is {ext_fee} not 0.0005\""
   ]
  },
  {
   "cell_type": "code",
   "execution_count": 36,
   "id": "49fd5432",
   "metadata": {},
   "outputs": [],
   "source": [
    "test_2_pools = [ConstantProductCurve(k=2921921249910.464, x=2760126.9934445512, x_act=2760126.9934445512, y_act=1058618.410258, pair='BNT-FF1C/USDC-eB48', cid='0xc4771395e1389e2e3a12ec22efbb7aff5b1c04e5ce9c7596a82e9dc8fdec725b', fee=0.0, descr='bancor_v3 BNT-FF1C/USDC-eB48 0.000', constr='uv2', params={'exchange': 'bancor_v3', 'tknx_dec': 18, 'tkny_dec': 6, 'tknx_addr': '0x1F573D6Fb3F13d689FF844B4cE37794d79a7FF1C', 'tkny_addr': '0xA0b86991c6218b36c1d19D4a2e9Eb0cE3606eB48', 'blocklud': 17713739}), ConstantProductCurve(k=518129588.60853314, x=6351922.348885405, x_act=6351922.348885405, y_act=81.57051679, pair='BNT-FF1C/WBTC-C599', cid='0x3885d978c125e66686e3f678ab64d5b09e61f89bf6e87c9ff66e740fd06aeefa', fee=0.0, descr='bancor_v3 BNT-FF1C/WBTC-C599 0.000', constr='uv2', params={'exchange': 'bancor_v3', 'tknx_dec': 18, 'tkny_dec': 8, 'tknx_addr': '0x1F573D6Fb3F13d689FF844B4cE37794d79a7FF1C', 'tkny_addr': '0x2260FAC5E5542a773Aa44fBCfeDf7C193bc2C599', 'blocklud': 17713739}), ConstantProductCurve(k=787603837541.6204, x=5107.692365701484, x_act=4.159867948255851, y_act=336571.44633978605, pair='WBTC-C599/USDC-eB48', cid='0x49ed97db2c080b7eac91dfaa7d51d5e8ac34c4dcfbcd3e8f2ed326a2a527b959', fee=0.003, descr='uniswap_v3 WBTC-C599/USDC-eB48 3000', constr='pkpp', params={'exchange': 'uniswap_v3', 'tknx_dec': 8, 'tkny_dec': 6, 'tknx_addr': '0x2260FAC5E5542a773Aa44fBCfeDf7C193bc2C599', 'tkny_addr': '0xA0b86991c6218b36c1d19D4a2e9Eb0cE3606eB48', 'blocklud': 17713395, 'L': 887470.4713632})]\n"
   ]
  },
  {
   "cell_type": "code",
   "execution_count": 37,
   "id": "2bf7877c",
   "metadata": {},
   "outputs": [],
   "source": [
    "flt = {'MKR-79A2', 'TRAC-0A6F', 'MONA-412A', 'WBTC-C599', 'WOO-5D4B', 'MATIC-eBB0', 'BAT-87EF', 'UOS-5C8c', 'LRC-EafD', 'NMR-6671', 'DIP-cD83', 'TEMP-1aB9', 'ICHI-A881', 'USDC-eB48', 'ENS-9D72', 'vBNT-7f94', 'ANKR-EDD4', 'UNI-F984', 'REQ-938a', 'WETH-6Cc2', 'AAVE-DaE9', 'ENJ-3B9c', 'MANA-C942', 'wNXM-2bDE', 'QNT-4675', 'RLC-7375', 'CROWN-E0fa', 'CHZ-b4AF', 'USDT-1ec7', 'DAI-1d0F', 'RPL-A51f', 'HOT-26E2', 'LINK-86CA', 'wstETH-2Ca0'}"
   ]
  },
  {
   "cell_type": "code",
   "execution_count": 38,
   "id": "ff6b288d",
   "metadata": {},
   "outputs": [],
   "source": [
    "combos = finder.get_combos(flashloan_tokens=flt, CCm=CCm, arb_mode=\"bancor_v3\")"
   ]
  },
  {
   "cell_type": "code",
   "execution_count": 39,
   "id": "cf8fc76d",
   "metadata": {},
   "outputs": [],
   "source": [
    "assert len(combos) == 1122, \"[test_bancor_v3_two_hop] Different data used for tests, expected 1122 combos\""
   ]
  },
  {
   "cell_type": "code",
   "execution_count": 40,
   "id": "cfec84c5",
   "metadata": {},
   "outputs": [],
   "source": [
    "all_miniverses = finder.get_miniverse_combos(combos)"
   ]
  },
  {
   "cell_type": "code",
   "execution_count": 41,
   "id": "5322f4fa",
   "metadata": {},
   "outputs": [],
   "source": [
    "assert len(all_miniverses) == 146, \"[test_bancor_v3_two_hop] Different data used for tests, expected 146 miniverses\""
   ]
  },
  {
   "cell_type": "code",
   "execution_count": 42,
   "id": "5bee8956",
   "metadata": {},
   "outputs": [],
   "source": [
    "bancor_v3_curve_0 = (\n",
    "                finder.CCm.bypairs(f\"BNT-FF1C/WETH-6Cc2\")\n",
    "                .byparams(exchange=\"bancor_v3\")\n",
    "                .curves\n",
    "            )\n",
    "bancor_v3_curve_1 = (\n",
    "                finder.CCm.bypairs(f\"BNT-FF1C/USDC-eB48\")\n",
    "                .byparams(exchange=\"bancor_v3\")\n",
    "                .curves\n",
    "            )"
   ]
  },
  {
   "cell_type": "code",
   "execution_count": 43,
   "id": "5bd608d7",
   "metadata": {},
   "outputs": [],
   "source": [
    "carbon_curves = finder.CCm.bypairs(f\"USDC-eB48/WETH-6Cc2\")\n",
    "carbon_curves = list(set(carbon_curves))\n",
    "carbon_curves = [\n",
    "    curve\n",
    "    for curve in carbon_curves\n",
    "    if curve.params.get(\"exchange\") == \"carbon_v1\"\n",
    "]"
   ]
  },
  {
   "cell_type": "code",
   "execution_count": 44,
   "id": "f1b91fd2",
   "metadata": {},
   "outputs": [],
   "source": [
    "miniverse = [bancor_v3_curve_0 + bancor_v3_curve_1 + carbon_curves]"
   ]
  },
  {
   "cell_type": "code",
   "execution_count": 45,
   "id": "952003bf",
   "metadata": {},
   "outputs": [],
   "source": [
    "max_arb_carbon = finder.run_main_flow(miniverse=miniverse[0], src_token=\"BNT-FF1C\")"
   ]
  },
  {
   "cell_type": "code",
   "execution_count": 46,
   "id": "4c65e617",
   "metadata": {},
   "outputs": [],
   "source": [
    "(\n",
    "profit_src_0,\n",
    "trade_instructions_0,\n",
    "trade_instructions_df_0,\n",
    "trade_instructions_dic_0,\n",
    ") = max_arb_carbon"
   ]
  },
  {
   "cell_type": "code",
   "execution_count": 47,
   "id": "8de2d725",
   "metadata": {},
   "outputs": [],
   "source": [
    "mono_carbon = finder.get_mono_direction_carbon_curves(miniverse[0], trade_instructions_df=trade_instructions_df_0, token_in=None)"
   ]
  },
  {
   "cell_type": "code",
   "execution_count": 48,
   "id": "28aac402",
   "metadata": {},
   "outputs": [],
   "source": [
    "test_mono_carbon = finder.get_mono_direction_carbon_curves(miniverse[0], trade_instructions_df=trade_instructions_df_0, token_in='WETH-6Cc2')"
   ]
  },
  {
   "cell_type": "markdown",
   "id": "67e1041d",
   "metadata": {},
   "source": [
    "### Test that only one direction of Carbon pools included"
   ]
  },
  {
   "cell_type": "code",
   "execution_count": 49,
   "id": "b2fd4913",
   "metadata": {},
   "outputs": [],
   "source": [
    "# Test that get_mono_direction_carbon_curves removed two curves\n",
    "assert len(test_mono_carbon) != len(mono_carbon), f\"[test_bancor_v3_two_hop] Issue with get_mono_direction_carbon_curves, should have removed one or more pools\""
   ]
  }
 ],
 "metadata": {
  "kernelspec": {
   "display_name": "Python 3 (ipykernel)",
   "language": "python",
   "name": "python3"
  },
  "language_info": {
   "codemirror_mode": {
    "name": "ipython",
    "version": 3
   },
   "file_extension": ".py",
   "mimetype": "text/x-python",
   "name": "python",
   "nbconvert_exporter": "python",
   "pygments_lexer": "ipython3",
   "version": "3.10.1"
  }
 },
 "nbformat": 4,
 "nbformat_minor": 5
}

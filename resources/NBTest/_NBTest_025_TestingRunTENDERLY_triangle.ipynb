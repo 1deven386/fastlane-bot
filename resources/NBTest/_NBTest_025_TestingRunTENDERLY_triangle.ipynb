{
 "cells": [
  {
   "cell_type": "code",
   "execution_count": 1,
   "id": "8f04c50a-67fe-4f09-822d-6ed6e3ac43e4",
   "metadata": {
    "ExecuteTime": {
     "end_time": "2023-05-08T06:14:31.204327500Z",
     "start_time": "2023-05-08T06:14:26.959036300Z"
    }
   },
   "outputs": [
    {
     "name": "stdout",
     "output_type": "stream",
     "text": [
      "Using default database url, if you want to use a different database, set the backend_url found at the bottom of manager_base.py\n",
      "Error adding Ethereum blockchain to database Ethereum, (psycopg2.errors.UniqueViolation) duplicate key value violates unique constraint \"ix_blockchains_name\"\n",
      "DETAIL:  Key (name)=(Ethereum) already exists.\n",
      "\n",
      "[SQL: INSERT INTO blockchains (name, block_number) VALUES (%(name)s, %(block_number)s) RETURNING blockchains.id]\n",
      "[parameters: {'name': 'Ethereum', 'block_number': 0}]\n",
      "(Background on this error at: https://sqlalche.me/e/20/gkpj) skipping...\n",
      "Error adding exchange carbon_v1 to database, (psycopg2.errors.UniqueViolation) duplicate key value violates unique constraint \"exchanges_pkey\"\n",
      "DETAIL:  Key (id)=(6) already exists.\n",
      "\n",
      "[SQL: INSERT INTO exchanges (id, name, blockchain_name) VALUES (%(id)s, %(name)s, %(blockchain_name)s)]\n",
      "[parameters: {'id': 6, 'name': 'carbon_v1', 'blockchain_name': 'Ethereum'}]\n",
      "(Background on this error at: https://sqlalche.me/e/20/gkpj) skipping...\n",
      "Error adding exchange bancor_v2 to database, (psycopg2.errors.UniqueViolation) duplicate key value violates unique constraint \"exchanges_pkey\"\n",
      "DETAIL:  Key (id)=(1) already exists.\n",
      "\n",
      "[SQL: INSERT INTO exchanges (id, name, blockchain_name) VALUES (%(id)s, %(name)s, %(blockchain_name)s)]\n",
      "[parameters: {'id': 1, 'name': 'bancor_v2', 'blockchain_name': 'Ethereum'}]\n",
      "(Background on this error at: https://sqlalche.me/e/20/gkpj) skipping...\n",
      "Error adding exchange bancor_v3 to database, (psycopg2.errors.UniqueViolation) duplicate key value violates unique constraint \"exchanges_pkey\"\n",
      "DETAIL:  Key (id)=(2) already exists.\n",
      "\n",
      "[SQL: INSERT INTO exchanges (id, name, blockchain_name) VALUES (%(id)s, %(name)s, %(blockchain_name)s)]\n",
      "[parameters: {'id': 2, 'name': 'bancor_v3', 'blockchain_name': 'Ethereum'}]\n",
      "(Background on this error at: https://sqlalche.me/e/20/gkpj) skipping...\n",
      "Error adding exchange uniswap_v2 to database, (psycopg2.errors.UniqueViolation) duplicate key value violates unique constraint \"exchanges_pkey\"\n",
      "DETAIL:  Key (id)=(3) already exists.\n",
      "\n",
      "[SQL: INSERT INTO exchanges (id, name, blockchain_name) VALUES (%(id)s, %(name)s, %(blockchain_name)s)]\n",
      "[parameters: {'id': 3, 'name': 'uniswap_v2', 'blockchain_name': 'Ethereum'}]\n",
      "(Background on this error at: https://sqlalche.me/e/20/gkpj) skipping...\n",
      "Error adding exchange uniswap_v3 to database, (psycopg2.errors.UniqueViolation) duplicate key value violates unique constraint \"exchanges_pkey\"\n",
      "DETAIL:  Key (id)=(4) already exists.\n",
      "\n",
      "[SQL: INSERT INTO exchanges (id, name, blockchain_name) VALUES (%(id)s, %(name)s, %(blockchain_name)s)]\n",
      "[parameters: {'id': 4, 'name': 'uniswap_v3', 'blockchain_name': 'Ethereum'}]\n",
      "(Background on this error at: https://sqlalche.me/e/20/gkpj) skipping...\n",
      "Error adding exchange sushiswap_v2 to database, (psycopg2.errors.UniqueViolation) duplicate key value violates unique constraint \"exchanges_pkey\"\n",
      "DETAIL:  Key (id)=(5) already exists.\n",
      "\n",
      "[SQL: INSERT INTO exchanges (id, name, blockchain_name) VALUES (%(id)s, %(name)s, %(blockchain_name)s)]\n",
      "[parameters: {'id': 5, 'name': 'sushiswap_v2', 'blockchain_name': 'Ethereum'}]\n",
      "(Background on this error at: https://sqlalche.me/e/20/gkpj) skipping...\n",
      "ConstantProductCurve v2.10.1 (07/May/2023)\n",
      "CarbonBot v3-b2.1 (03/May/2023)\n",
      "imported m, np, pd, plt, os, sys, decimal; defined iseq, raises, require\n"
     ]
    },
    {
     "name": "stderr",
     "output_type": "stream",
     "text": [
      "C:\\Users\\nicho\\AppData\\Local\\Temp\\ipykernel_23100\\326712455.py:9: MatplotlibDeprecationWarning: The seaborn styles shipped by Matplotlib are deprecated since 3.6, as they no longer correspond to the styles shipped by seaborn. However, they will remain available as 'seaborn-v0_8-<style>'. Alternatively, directly use the seaborn API instead.\n",
      "  plt.style.use('seaborn-dark')\n"
     ]
    },
    {
     "name": "stdout",
     "output_type": "stream",
     "text": [
      "Version = 3-b2.1 [requirements >= 2.0 is met]\n"
     ]
    }
   ],
   "source": [
    "from fastlane_bot import Config, ConfigDB, ConfigNetwork, ConfigProvider\n",
    "from fastlane_bot.bot import CarbonBot\n",
    "from fastlane_bot.tools.cpc import ConstantProductCurve as CPC, CPCContainer, T\n",
    "from fastlane_bot.helpers import TxHelper\n",
    "from fastlane_bot.helpers import TxHelpers\n",
    "print(\"{0.__name__} v{0.__VERSION__} ({0.__DATE__})\".format(CPC))\n",
    "print(\"{0.__name__} v{0.__VERSION__} ({0.__DATE__})\".format(CarbonBot))\n",
    "from fastlane_bot.testing import *\n",
    "plt.style.use('seaborn-dark')\n",
    "plt.rcParams['figure.figsize'] = [12,6]\n",
    "from fastlane_bot import __VERSION__\n",
    "require(\"2.0\", __VERSION__)"
   ]
  },
  {
   "attachments": {},
   "cell_type": "markdown",
   "id": "b3f59f14-b91b-4dba-94b0-3d513aaf41c7",
   "metadata": {},
   "source": [
    "# Testing the TRIANGLE functions on TENDERLY [NBTest025]"
   ]
  },
  {
   "attachments": {},
   "cell_type": "markdown",
   "id": "cf03072d-6304-41f8-b132-9470ae81ac7c",
   "metadata": {},
   "source": [
    "## TENDERLY Configuration"
   ]
  },
  {
   "attachments": {},
   "cell_type": "markdown",
   "id": "0990888a-698c-487c-9142-80e62a8393ac",
   "metadata": {},
   "source": [
    "### Set up the bot and curves"
   ]
  },
  {
   "cell_type": "code",
   "execution_count": 2,
   "id": "da9ff008-cb12-44f7-93a8-84f7386da886",
   "metadata": {
    "ExecuteTime": {
     "end_time": "2023-05-08T06:14:36.959100600Z",
     "start_time": "2023-05-08T06:14:31.205330100Z"
    }
   },
   "outputs": [],
   "source": [
    "C = Config.new(config=Config.CONFIG_TENDERLY)\n",
    "assert C.DATABASE == C.DATABASE_POSTGRES\n",
    "# assert C.POSTGRES_DB == \"defaultdb\"\n",
    "assert C.NETWORK == C.NETWORK_TENDERLY\n",
    "assert C.PROVIDER == C.PROVIDER_TENDERLY\n",
    "bot = CarbonBot(ConfigObj=C)\n",
    "assert str(type(bot.db)) == \"<class 'fastlane_bot.db.manager.DatabaseManager'>\""
   ]
  },
  {
   "cell_type": "code",
   "execution_count": 3,
   "id": "7d900ccb",
   "metadata": {},
   "outputs": [
    {
     "data": {
      "text/plain": [
       "'https://rpc.tenderly.co/fork/293439f0-a76e-4cbf-a6cf-2a366132500b'"
      ]
     },
     "execution_count": 3,
     "metadata": {},
     "output_type": "execute_result"
    }
   ],
   "source": [
    "C.w3.provider.endpoint_uri"
   ]
  },
  {
   "cell_type": "code",
   "execution_count": 4,
   "id": "4c184a25",
   "metadata": {
    "ExecuteTime": {
     "end_time": "2023-05-08T06:14:37.504944700Z",
     "start_time": "2023-05-08T06:14:36.960100600Z"
    }
   },
   "outputs": [
    {
     "name": "stdout",
     "output_type": "stream",
     "text": [
      "Number of curves: 3530\n",
      "Number of tokens: 2230\n",
      "Exchanges: {'carbon_v1', 'bancor_v3', 'uniswap_v3', 'uniswap_v2', 'sushiswap_v2', 'bancor_v2'}\n"
     ]
    }
   ],
   "source": [
    "CCm = bot.get_curves()\n",
    "exch = {c.P(\"exchange\") for c in CCm}\n",
    "print(\"Number of curves:\", len(CCm))\n",
    "print(\"Number of tokens:\", len(CCm.tokens()))\n",
    "print(\"Exchanges:\", exch)"
   ]
  },
  {
   "cell_type": "code",
   "execution_count": 5,
   "id": "d7ee607c",
   "metadata": {
    "ExecuteTime": {
     "end_time": "2023-05-08T06:21:48.511997700Z",
     "start_time": "2023-05-08T06:21:48.494989400Z"
    }
   },
   "outputs": [
    {
     "data": {
      "text/plain": [
       "3430"
      ]
     },
     "execution_count": 5,
     "metadata": {},
     "output_type": "execute_result"
    }
   ],
   "source": [
    "skip_curves = ['14291859410679415465461733512134264881236-1',\n",
    "               '14632141777600353928925108119566033092693-0',\n",
    "               '732',\n",
    "               '716',\n",
    "               'd2e3786f805c4845875cdb5639f4662d',\n",
    "               'a838c700fdba49e59bc0376b406a386b',\n",
    "    ]\n",
    "# bad_curves = ['780', '769', '770', '772', '773', '774', '775', '776', '777', '778', '779', '782', '783', '771', '781', '793', '795', '789', '792', '794', '796', '797', '798', '799', '800', '784', '785', '790', '791', '787', '788', '786', '807', '801', '802', '803', '804', '805', '806', '808', '809', '810', '811', '812', '813', '814', '815', '816', '817', '818', '819', '820', '821', '822', '823', '825', '826', '827', '828', '829', '830', '831', '832', '824', '838', '840', '839', '833', '836', '834', '835', '837', '74', '72', '69', '66', '73', '64', '65', '67', '68', '70', '71', '86', '77', '87', '82', '80', '88', '76', '79', '81', '83', '85', '89', '75', '78', '84', '90', '106', '101', '92', '100', '103', '95', '91', '94', '96', '98', '99', '104', '93', '102', '105', '97', '116', '109', '120', '123', '115', '119', '112', '113', '114', '107', '117', '111', '122', '110', '118', '121', '108', '124', '127', '128', '129', '130', '131', '133', '136', '137', '138', '132', '135', '126', '125', '134', '142', '146', '149', '153', '156', '139', '143', '148', '151', '157', '145', '140', '141', '147', '150', '152', '144', '154', '155', '169', '159', '160', '162', '164', '166', '167', '168', '158', '165', '170', '163', '161', '171', '175', '173', '187', '188', '174', '178', '179', '181', '183', '185', '180', '176', '184', '172', '186', '182', '189', '177', '192', '197', '196', '203', '193', '195', '201', '199', '191', '198', '200', '202', '204', '194', '205', '190', '213', '211', '214', '209', '220', '210', '215', '217', '216', '206', '208', '212', '221', '222', '207', '218', '219', '231', '224', '230', '225', '228', '229', '233', '234', '226', '227', '235', '223', '232', '236', '244', '237', '249', '251', '252', '256', '248', '240', '254', '238', '246', '247', '250', '253', '255', '239', '241', '242', '243', '245', '259', '262', '266', '269', '258', '257', '261', '265', '267', '268', '263', '260', '264', '271', '276', '270', '272', '280', '284', '286', '285', '278', '274', '282', '273', '275', '279', '281', '283', '277', '287', '289', '290', '294', '295', '296', '297', '301', '302', '288', '299', '300', '291', '292', '293', '298', '317', '303', '304', '307', '308', '316', '318', '315', '320', '311', '305', '306', '310', '312', '314', '319', '313', '309', '326', '330', '328', '323', '327', '333', '334', '332', '324', '321', '325', '322', '329', '331', '338', '347', '335', '336', '337', '339', '340', '341', '344', '345', '348', '349', '342', '343', '346', '352', '357', '362', '354', '361', '355', '360', '353', '358', '363', '350', '351', '359', '356', '372', '377', '366', '367', '371', '381', '383', '364', '365', '369', '370', '374', '380', '382', '379', '373', '375', '378', '376', '368', '386', '385', '392', '393', '396', '397', '398', '389', '394', '395', '384', '390', '388', '387', '391', '399', '400', '401', '402', '404', '405', '403', '406', '407', '414', '410', '412', '413', '418', '419', '415', '417', '409', '411', '416', '408', '421', '425', '426', '427', '428', '424', '432', '422', '420', '429', '430', '431', '423', '444', '434', '433', '435', '440', '441', '442', '436', '439', '437', '438', '443', '445', '446', '449', '447', '448', '450', '452', '451', '453', '454', '460', '465', '459', '458', '461', '463', '467', '455', '462', '464', '456', '457', '466', '476', '477', '475', '469', '468', '470', '471', '472', '473', '474', '479', '478', '484', '480', '482', '481', '485', '486', '487', '483', '488', '502', '500', '501', '489', '493', '490', '491', '494', '496', '498', '499', '497', '492', '495', '505', '504', '514', '503', '510', '511', '512', '506', '507', '508', '509', '513', '515', '516', '517', '518', '519', '520', '523', '524', '521', '522', '535', '527', '526', '525', '529', '531', '532', '533', '534', '530', '536', '528', '538', '540', '539', '544', '545', '546', '547', '548', '542', '537', '543', '541', '550', '551', '552', '554', '555', '556', '557', '558', '559', '553', '549', '564', '565', '567', '569', '566', '568', '560', '561', '562', '563', '570', '571', '583', '579', '577', '572', '573', '574', '575', '576', '578', '580', '581', '582', '586', '594', '587', '584', '585', '588', '589', '590', '591', '592', '593', '598', '606', '599', '607', '597', '595', '596', '601', '602', '608', '600', '605', '603', '604', '624', '614', '616', '609', '610', '611', '615', '618', '619', '620', '626', '617', '623', '612', '613', '622', '625', '621', '631', '635', '638', '630', '627', '628', '632', '633', '634', '636', '637', '639', '640', '629', '645', '651', '656', '650', '647', '646', '642', '641', '643', '653', '644', '648', '649', '652', '654', '655', '657', '662', '665', '664', '663', '658', '659', '660', '661', '666', '667', '668', '669', '670', '671', '672', '673', '684', '685', '678', '674', '675', '676', '677', '679', '680', '681', '682', '683', '686', '687', '688', '689', '690', '692', '694', '693', '691', '695', '696', '697']\n",
    "# bad_tokens = ['0x0-1AD5'] #'WBTC-C599', 'USDC-eB48', 'USDT-1ec7'\n",
    "\n",
    "subcurves = [x for x in CCm if x.cid not in skip_curves]\n",
    "# subcurves = [x for x in subcurves if x.cid not in bad_curves]\n",
    "# subcurves = [x for x in subcurves if not any(bad_token in x.pair for bad_token in bad_tokens)]\n",
    "\n",
    "CCm2 = CPCContainer([x for x in subcurves if x.params.exchange not in ['bancor_v2']])\n",
    "len(CCm2)"
   ]
  },
  {
   "cell_type": "code",
   "execution_count": 6,
   "id": "3aac7cb6",
   "metadata": {},
   "outputs": [],
   "source": [
    "# CCm2 = CCm"
   ]
  },
  {
   "cell_type": "code",
   "execution_count": 7,
   "id": "b397bc36",
   "metadata": {},
   "outputs": [
    {
     "data": {
      "text/plain": [
       "27"
      ]
     },
     "execution_count": 7,
     "metadata": {},
     "output_type": "execute_result"
    }
   ],
   "source": [
    "tokens = [x.pair.split('/') for x in CCm if x.params.exchange == 'carbon_v1']\n",
    "len(set([x for itm in tokens for x in itm]))"
   ]
  },
  {
   "cell_type": "code",
   "execution_count": 8,
   "id": "79ed1618",
   "metadata": {},
   "outputs": [
    {
     "data": {
      "text/plain": [
       "60"
      ]
     },
     "execution_count": 8,
     "metadata": {},
     "output_type": "execute_result"
    }
   ],
   "source": [
    "pairs = [x.pair for x in CCm if x.params.exchange == 'carbon_v1']\n",
    "len(set(pairs))"
   ]
  },
  {
   "attachments": {},
   "cell_type": "markdown",
   "id": "5a26c4b4",
   "metadata": {},
   "source": [
    "## Actual run"
   ]
  },
  {
   "cell_type": "code",
   "execution_count": 9,
   "id": "cab33dc6",
   "metadata": {
    "ExecuteTime": {
     "end_time": "2023-05-08T06:14:37.538237700Z",
     "start_time": "2023-05-08T06:14:37.520180600Z"
    }
   },
   "outputs": [],
   "source": [
    "flt = [T.WETH, T.USDC , T.DAI, T.USDT, T.WBTC, T.BNT, T.LINK]"
   ]
  },
  {
   "attachments": {},
   "cell_type": "markdown",
   "id": "5f2f01c5",
   "metadata": {},
   "source": [
    "## Analytics"
   ]
  },
  {
   "cell_type": "code",
   "execution_count": 10,
   "id": "1419695c",
   "metadata": {
    "ExecuteTime": {
     "end_time": "2023-05-08T06:22:13.748438800Z",
     "start_time": "2023-05-08T06:22:13.234535700Z"
    }
   },
   "outputs": [],
   "source": [
    "# ops = bot._find_arbitrage_opportunities_carbon_single_triangle(flashloan_tokens=flt, CCm=CCm2, result=bot.XS_ARBOPPS)"
   ]
  },
  {
   "cell_type": "code",
   "execution_count": 11,
   "id": "747db283",
   "metadata": {},
   "outputs": [],
   "source": [
    "ops = bot._run(flashloan_tokens=flt, CCm=CCm2, arb_mode=bot.AM_TRIANGLE, result=bot.XS_ARBOPPS)"
   ]
  },
  {
   "cell_type": "code",
   "execution_count": 12,
   "id": "95b2c699",
   "metadata": {},
   "outputs": [
    {
     "data": {
      "text/plain": [
       "(Decimal('8919.56353630085762858669049853369803393019453474632740608285530470311641693115'),\n",
       "                                              WETH-6Cc2      DAI-1d0F  \\\n",
       " 2b3bf6093e55415785a319a6f48bfe9f              8.645692 -1.595000e+04   \n",
       " 15652988878363169319315231941861337727064-1        NaN  1.595000e+04   \n",
       " 30ee9562b5f84a56a244bf31c5116c26            -10.946250           NaN   \n",
       " AMMIn                                         8.645692  1.595000e+04   \n",
       " AMMOut                                      -10.946250 -1.595000e+04   \n",
       " TOTAL NET                                    -2.300559  7.450581e-09   \n",
       " \n",
       "                                                 ALCX-c8DF  \n",
       " 2b3bf6093e55415785a319a6f48bfe9f                      NaN  \n",
       " 15652988878363169319315231941861337727064-1 -1.100000e+03  \n",
       " 30ee9562b5f84a56a244bf31c5116c26             1.100000e+03  \n",
       " AMMIn                                        1.100000e+03  \n",
       " AMMOut                                      -1.100000e+03  \n",
       " TOTAL NET                                   -1.164153e-10  ,\n",
       " [{'cid': '2b3bf6093e55415785a319a6f48bfe9f',\n",
       "   'tknin': 'WETH-6Cc2',\n",
       "   'amtin': 8.645691733349395,\n",
       "   'tknout': 'DAI-1d0F',\n",
       "   'amtout': -15949.99999999255,\n",
       "   'error': None},\n",
       "  {'cid': '15652988878363169319315231941861337727064-1',\n",
       "   'tknin': 'DAI-1d0F',\n",
       "   'amtin': 15950.0,\n",
       "   'tknout': 'ALCX-c8DF',\n",
       "   'amtout': -1100.0,\n",
       "   'error': None},\n",
       "  {'cid': '30ee9562b5f84a56a244bf31c5116c26',\n",
       "   'tknin': 'ALCX-c8DF',\n",
       "   'amtin': 1099.9999999998836,\n",
       "   'tknout': 'WETH-6Cc2',\n",
       "   'amtout': -10.946250310417327,\n",
       "   'error': None}],\n",
       " 'WETH-6Cc2',\n",
       " (CPCArbOptimizer.TradeInstruction(cid='2b3bf6093e55415785a319a6f48bfe9f', tknin='WETH-6Cc2', amtin=8.645691733349395, tknout='DAI-1d0F', amtout=-15949.99999999255, error=None),\n",
       "  CPCArbOptimizer.TradeInstruction(cid='15652988878363169319315231941861337727064-1', tknin='DAI-1d0F', amtin=15950.0, tknout='ALCX-c8DF', amtout=-1100.0, error=None),\n",
       "  CPCArbOptimizer.TradeInstruction(cid='30ee9562b5f84a56a244bf31c5116c26', tknin='ALCX-c8DF', amtin=1099.9999999998836, tknout='WETH-6Cc2', amtout=-10.946250310417327, error=None)))"
      ]
     },
     "execution_count": 12,
     "metadata": {},
     "output_type": "execute_result"
    }
   ],
   "source": [
    "ops"
   ]
  },
  {
   "cell_type": "code",
   "execution_count": 13,
   "id": "60b235ca",
   "metadata": {},
   "outputs": [],
   "source": [
    "# ord = bot._run(flashloan_tokens=flt, CCm=CCm2, arb_mode=bot.AM_TRIANGLE, result=bot.XS_ORDSCAL)\n",
    "# ord"
   ]
  },
  {
   "cell_type": "code",
   "execution_count": 14,
   "id": "fcb66e42",
   "metadata": {},
   "outputs": [],
   "source": [
    "# ti = bot._run(flashloan_tokens=flt, CCm=CCm2, arb_mode=bot.AM_TRIANGLE, result=bot.XS_TI)\n",
    "# ti"
   ]
  },
  {
   "cell_type": "code",
   "execution_count": 15,
   "id": "f4d25fb2",
   "metadata": {},
   "outputs": [],
   "source": [
    "# ti"
   ]
  },
  {
   "cell_type": "code",
   "execution_count": 16,
   "id": "5382d20f",
   "metadata": {
    "ExecuteTime": {
     "end_time": "2023-05-08T06:27:07.400357100Z",
     "start_time": "2023-05-08T06:27:05.861575900Z"
    }
   },
   "outputs": [],
   "source": [
    "# exact = bot._run(flashloan_tokens=flt, CCm=CCm2, arb_mode=bot.AM_TRIANGLE, result=bot.XS_EXACT)\n",
    "# exact"
   ]
  },
  {
   "cell_type": "code",
   "execution_count": 17,
   "id": "9cb66ee5",
   "metadata": {},
   "outputs": [],
   "source": [
    "# agg = bot._run(flashloan_tokens=flt, CCm=CCm, arb_mode=bot.AM_TRIANGLE, result=bot.XS_AGGTI)\n",
    "# agg"
   ]
  },
  {
   "cell_type": "code",
   "execution_count": 18,
   "id": "a0cd2ff1",
   "metadata": {},
   "outputs": [],
   "source": [
    "# agg[0].raw_txs"
   ]
  },
  {
   "cell_type": "code",
   "execution_count": 19,
   "id": "f7f21e07",
   "metadata": {},
   "outputs": [],
   "source": [
    "# agg[1].raw_txs"
   ]
  },
  {
   "cell_type": "code",
   "execution_count": 20,
   "id": "1a0ebacd",
   "metadata": {},
   "outputs": [],
   "source": [
    "# agg[2].raw_txs"
   ]
  },
  {
   "cell_type": "code",
   "execution_count": 21,
   "id": "8b0746ac",
   "metadata": {},
   "outputs": [],
   "source": [
    "# exact[0].amtin_wei, exact[0].amtout_wei"
   ]
  },
  {
   "cell_type": "code",
   "execution_count": 22,
   "id": "fc64082d",
   "metadata": {},
   "outputs": [],
   "source": [
    "# exact[1].amtin_wei, exact[1].amtout_wei"
   ]
  },
  {
   "cell_type": "code",
   "execution_count": 23,
   "id": "918df32c",
   "metadata": {},
   "outputs": [],
   "source": [
    "# exact[2].amtin_wei, exact[2].amtout_wei"
   ]
  },
  {
   "cell_type": "code",
   "execution_count": 24,
   "id": "1905eb9d",
   "metadata": {},
   "outputs": [],
   "source": [
    "route_struct, flashloan_amount, flashloan_token_address = bot._run(flashloan_tokens=flt, CCm=CCm2, arb_mode=bot.AM_TRIANGLE, result=bot.XS_ROUTE)"
   ]
  },
  {
   "cell_type": "code",
   "execution_count": 25,
   "id": "24db122b",
   "metadata": {
    "ExecuteTime": {
     "end_time": "2023-05-08T06:27:08.874350300Z",
     "start_time": "2023-05-08T06:27:08.859710400Z"
    }
   },
   "outputs": [
    {
     "data": {
      "text/plain": [
       "([{'exchangeId': 5,\n",
       "   'targetToken': '0x6B175474E89094C44Da98b954EedeAC495271d0F',\n",
       "   'minTargetAmount': 1,\n",
       "   'deadline': 1683833128,\n",
       "   'customAddress': '0x6B175474E89094C44Da98b954EedeAC495271d0F',\n",
       "   'customInt': 3000,\n",
       "   'customData': '0x'},\n",
       "  {'exchangeId': 6,\n",
       "   'targetToken': '0xdBdb4d16EdA451D0503b854CF79D55697F90c8DF',\n",
       "   'minTargetAmount': 1,\n",
       "   'deadline': 1683833128,\n",
       "   'customAddress': '0xdBdb4d16EdA451D0503b854CF79D55697F90c8DF',\n",
       "   'customInt': 2000,\n",
       "   'customData': '0x000000000000000000000000000000000000000000000000000000000000002000000000000000000000000000000000000000000000000000000000000000010000000000000000000000000000002e0000000000000000000000000000005800000000000000000000000000000000000000000000035d1cd209ef5465d417'},\n",
       "  {'exchangeId': 5,\n",
       "   'targetToken': '0xEeeeeEeeeEeEeeEeEeEeeEEEeeeeEeeeeeeeEEeE',\n",
       "   'minTargetAmount': 1,\n",
       "   'deadline': 1683833128,\n",
       "   'customAddress': '0xC02aaA39b223FE8D0A0e5C4F27eAD9083C756Cc2',\n",
       "   'customInt': 3000,\n",
       "   'customData': '0x'}],\n",
       " 8637046041616045000,\n",
       " '0xEeeeeEeeeEeEeeEeEeEeeEEEeeeeEeeeeeeeEEeE')"
      ]
     },
     "execution_count": 25,
     "metadata": {},
     "output_type": "execute_result"
    }
   ],
   "source": [
    "route_struct, flashloan_amount, flashloan_token_address"
   ]
  },
  {
   "attachments": {},
   "cell_type": "markdown",
   "id": "20cbb4d2",
   "metadata": {},
   "source": [
    "# Tenderly Tx Submission"
   ]
  },
  {
   "cell_type": "code",
   "execution_count": 26,
   "id": "ec6e2e45",
   "metadata": {},
   "outputs": [
    {
     "data": {
      "text/plain": [
       "AttributeDict({'transactionHash': HexBytes('0xf482dc7a255192691c1df671204932748d97935b276c475f4fb7144830724ea9'),\n",
       " 'transactionIndex': 0,\n",
       " 'blockHash': HexBytes('0x0c9bad251ba9789a64364e44814fe1ebb6a55e76798735425f1571bade533a98'),\n",
       " 'blockNumber': 17213350,\n",
       " 'from': '0x28C6c06298d514Db089934071355E5743bf21d60',\n",
       " 'to': '0x41Eeba3355d7D6FF628B7982F3F9D055c39488cB',\n",
       " 'cumulativeGasUsed': 591156,\n",
       " 'gasUsed': 591156,\n",
       " 'effectiveGasPrice': 0,\n",
       " 'contractAddress': None,\n",
       " 'logs': [AttributeDict({'logIndex': 0,\n",
       "   'address': '0x649765821D9f64198c905eC0B2B037a4a52Bc373',\n",
       "   'topics': [HexBytes('0xc322efa58c9cb2c39cfffdac61d35c8643f5cbf13c6a7d0034de2cf18923aff3'),\n",
       "    HexBytes('0x000000000000000000000000eeeeeeeeeeeeeeeeeeeeeeeeeeeeeeeeeeeeeeee'),\n",
       "    HexBytes('0x000000000000000000000000eef417e1d5cc832e619ae18d2f140de2999dd4fb'),\n",
       "    HexBytes('0x00000000000000000000000041eeba3355d7d6ff628b7982f3f9d055c39488cb')],\n",
       "   'data': '0x00000000000000000000000000000000000000000000000077dcf39d2337d3c8',\n",
       "   'blockHash': HexBytes('0x0c9bad251ba9789a64364e44814fe1ebb6a55e76798735425f1571bade533a98'),\n",
       "   'blockNumber': 17213350,\n",
       "   'removed': False,\n",
       "   'transactionHash': HexBytes('0xf482dc7a255192691c1df671204932748d97935b276c475f4fb7144830724ea9'),\n",
       "   'transactionIndex': 0}),\n",
       "  AttributeDict({'logIndex': 1,\n",
       "   'address': '0xC02aaA39b223FE8D0A0e5C4F27eAD9083C756Cc2',\n",
       "   'topics': [HexBytes('0xe1fffcc4923d04b559f4d29a8bfc6cda04eb5b0d3c460751c2402c5c5cc9109c'),\n",
       "    HexBytes('0x000000000000000000000000d9e1ce17f2641f24ae83637ab66a2cca9c378b9f')],\n",
       "   'data': '0x00000000000000000000000000000000000000000000000077dcf39d2337d3c8',\n",
       "   'blockHash': HexBytes('0x0c9bad251ba9789a64364e44814fe1ebb6a55e76798735425f1571bade533a98'),\n",
       "   'blockNumber': 17213350,\n",
       "   'removed': False,\n",
       "   'transactionHash': HexBytes('0xf482dc7a255192691c1df671204932748d97935b276c475f4fb7144830724ea9'),\n",
       "   'transactionIndex': 0}),\n",
       "  AttributeDict({'logIndex': 2,\n",
       "   'address': '0xC02aaA39b223FE8D0A0e5C4F27eAD9083C756Cc2',\n",
       "   'topics': [HexBytes('0xddf252ad1be2c89b69c2b068fc378daa952ba7f163c4a11628f55a4df523b3ef'),\n",
       "    HexBytes('0x000000000000000000000000d9e1ce17f2641f24ae83637ab66a2cca9c378b9f'),\n",
       "    HexBytes('0x000000000000000000000000c3d03e4f041fd4cd388c549ee2a29a9e5075882f')],\n",
       "   'data': '0x00000000000000000000000000000000000000000000000077dcf39d2337d3c8',\n",
       "   'blockHash': HexBytes('0x0c9bad251ba9789a64364e44814fe1ebb6a55e76798735425f1571bade533a98'),\n",
       "   'blockNumber': 17213350,\n",
       "   'removed': False,\n",
       "   'transactionHash': HexBytes('0xf482dc7a255192691c1df671204932748d97935b276c475f4fb7144830724ea9'),\n",
       "   'transactionIndex': 0}),\n",
       "  AttributeDict({'logIndex': 3,\n",
       "   'address': '0x6B175474E89094C44Da98b954EedeAC495271d0F',\n",
       "   'topics': [HexBytes('0xddf252ad1be2c89b69c2b068fc378daa952ba7f163c4a11628f55a4df523b3ef'),\n",
       "    HexBytes('0x000000000000000000000000c3d03e4f041fd4cd388c549ee2a29a9e5075882f'),\n",
       "    HexBytes('0x00000000000000000000000041eeba3355d7d6ff628b7982f3f9d055c39488cb')],\n",
       "   'data': '0x00000000000000000000000000000000000000000000035d35892a48543a9c91',\n",
       "   'blockHash': HexBytes('0x0c9bad251ba9789a64364e44814fe1ebb6a55e76798735425f1571bade533a98'),\n",
       "   'blockNumber': 17213350,\n",
       "   'removed': False,\n",
       "   'transactionHash': HexBytes('0xf482dc7a255192691c1df671204932748d97935b276c475f4fb7144830724ea9'),\n",
       "   'transactionIndex': 0}),\n",
       "  AttributeDict({'logIndex': 4,\n",
       "   'address': '0xC3D03e4F041Fd4cD388c549Ee2A29a9E5075882f',\n",
       "   'topics': [HexBytes('0x1c411e9a96e071241c2f21f7726b17ae89e3cab4c78be50e062b03a9fffbbad1')],\n",
       "   'data': '0x0000000000000000000000000000000000000000000340e7d5e40b07e35981f40000000000000000000000000000000000000000000000740b541f6360defc5c',\n",
       "   'blockHash': HexBytes('0x0c9bad251ba9789a64364e44814fe1ebb6a55e76798735425f1571bade533a98'),\n",
       "   'blockNumber': 17213350,\n",
       "   'removed': False,\n",
       "   'transactionHash': HexBytes('0xf482dc7a255192691c1df671204932748d97935b276c475f4fb7144830724ea9'),\n",
       "   'transactionIndex': 0}),\n",
       "  AttributeDict({'logIndex': 5,\n",
       "   'address': '0xC3D03e4F041Fd4cD388c549Ee2A29a9E5075882f',\n",
       "   'topics': [HexBytes('0xd78ad95fa46c994b6551d0da85fc275fe613ce37657fb8d5e3d130840159d822'),\n",
       "    HexBytes('0x000000000000000000000000d9e1ce17f2641f24ae83637ab66a2cca9c378b9f'),\n",
       "    HexBytes('0x00000000000000000000000041eeba3355d7d6ff628b7982f3f9d055c39488cb')],\n",
       "   'data': '0x000000000000000000000000000000000000000000000000000000000000000000000000000000000000000000000000000000000000000077dcf39d2337d3c800000000000000000000000000000000000000000000035d35892a48543a9c910000000000000000000000000000000000000000000000000000000000000000',\n",
       "   'blockHash': HexBytes('0x0c9bad251ba9789a64364e44814fe1ebb6a55e76798735425f1571bade533a98'),\n",
       "   'blockNumber': 17213350,\n",
       "   'removed': False,\n",
       "   'transactionHash': HexBytes('0xf482dc7a255192691c1df671204932748d97935b276c475f4fb7144830724ea9'),\n",
       "   'transactionIndex': 0}),\n",
       "  AttributeDict({'logIndex': 6,\n",
       "   'address': '0xC537e898CD774e2dCBa3B14Ea6f34C93d5eA45e1',\n",
       "   'topics': [HexBytes('0x720da23a5c920b1d8827ec83c4d3c4d90d9419eadb0036b88cb4c2ffa91aef7d'),\n",
       "    HexBytes('0x0000000000000000000000000000002e00000000000000000000000000000058'),\n",
       "    HexBytes('0x000000000000000000000000dbdb4d16eda451d0503b854cf79d55697f90c8df'),\n",
       "    HexBytes('0x0000000000000000000000006b175474e89094c44da98b954eedeac495271d0f')],\n",
       "   'data': '0x0000000000000000000000000000000000000000000000003e79bbd119579f6c00000000000000000000000000000000000000000000003ba1910bf341b0000000000000000000000000000000000000000000000000000000000000000000000000000000000000000000000000000000000000000000000000433a98c5c61b00000000000000000000000000000000000000000000035d1cd209ef5465d41700000000000000000000000000000000000000000000035d1cd209ef5465d41700000000000000000000000000000000000000000000000000000000000000000000000000000000000000000000000000000000000000000003a000000000000000000000000000000000000000000000000000000000000000000000000001',\n",
       "   'blockHash': HexBytes('0x0c9bad251ba9789a64364e44814fe1ebb6a55e76798735425f1571bade533a98'),\n",
       "   'blockNumber': 17213350,\n",
       "   'removed': False,\n",
       "   'transactionHash': HexBytes('0xf482dc7a255192691c1df671204932748d97935b276c475f4fb7144830724ea9'),\n",
       "   'transactionIndex': 0}),\n",
       "  AttributeDict({'logIndex': 7,\n",
       "   'address': '0x6B175474E89094C44Da98b954EedeAC495271d0F',\n",
       "   'topics': [HexBytes('0xddf252ad1be2c89b69c2b068fc378daa952ba7f163c4a11628f55a4df523b3ef'),\n",
       "    HexBytes('0x00000000000000000000000041eeba3355d7d6ff628b7982f3f9d055c39488cb'),\n",
       "    HexBytes('0x000000000000000000000000c537e898cd774e2dcba3b14ea6f34c93d5ea45e1')],\n",
       "   'data': '0x00000000000000000000000000000000000000000000035d1cd209ef5465d417',\n",
       "   'blockHash': HexBytes('0x0c9bad251ba9789a64364e44814fe1ebb6a55e76798735425f1571bade533a98'),\n",
       "   'blockNumber': 17213350,\n",
       "   'removed': False,\n",
       "   'transactionHash': HexBytes('0xf482dc7a255192691c1df671204932748d97935b276c475f4fb7144830724ea9'),\n",
       "   'transactionIndex': 0}),\n",
       "  AttributeDict({'logIndex': 8,\n",
       "   'address': '0xdBdb4d16EdA451D0503b854CF79D55697F90c8DF',\n",
       "   'topics': [HexBytes('0xddf252ad1be2c89b69c2b068fc378daa952ba7f163c4a11628f55a4df523b3ef'),\n",
       "    HexBytes('0x000000000000000000000000c537e898cd774e2dcba3b14ea6f34c93d5ea45e1'),\n",
       "    HexBytes('0x00000000000000000000000041eeba3355d7d6ff628b7982f3f9d055c39488cb')],\n",
       "   'data': '0x00000000000000000000000000000000000000000000003b44af5494c6fc0a5e',\n",
       "   'blockHash': HexBytes('0x0c9bad251ba9789a64364e44814fe1ebb6a55e76798735425f1571bade533a98'),\n",
       "   'blockNumber': 17213350,\n",
       "   'removed': False,\n",
       "   'transactionHash': HexBytes('0xf482dc7a255192691c1df671204932748d97935b276c475f4fb7144830724ea9'),\n",
       "   'transactionIndex': 0}),\n",
       "  AttributeDict({'logIndex': 9,\n",
       "   'address': '0xC537e898CD774e2dCBa3B14Ea6f34C93d5eA45e1',\n",
       "   'topics': [HexBytes('0x95f3b01351225fea0e69a46f68b164c9dea10284f12cd4a907ce66510ab7af6a'),\n",
       "    HexBytes('0x00000000000000000000000041eeba3355d7d6ff628b7982f3f9d055c39488cb'),\n",
       "    HexBytes('0x0000000000000000000000006b175474e89094c44da98b954eedeac495271d0f'),\n",
       "    HexBytes('0x000000000000000000000000dbdb4d16eda451d0503b854cf79d55697f90c8df')],\n",
       "   'data': '0x00000000000000000000000000000000000000000000035d1cd209ef5465d41700000000000000000000000000000000000000000000003b44af5494c6fc0a5e0000000000000000000000000000000000000000000000001e67fb8d615c56360000000000000000000000000000000000000000000000000000000000000000',\n",
       "   'blockHash': HexBytes('0x0c9bad251ba9789a64364e44814fe1ebb6a55e76798735425f1571bade533a98'),\n",
       "   'blockNumber': 17213350,\n",
       "   'removed': False,\n",
       "   'transactionHash': HexBytes('0xf482dc7a255192691c1df671204932748d97935b276c475f4fb7144830724ea9'),\n",
       "   'transactionIndex': 0}),\n",
       "  AttributeDict({'logIndex': 10,\n",
       "   'address': '0x6B175474E89094C44Da98b954EedeAC495271d0F',\n",
       "   'topics': [HexBytes('0xddf252ad1be2c89b69c2b068fc378daa952ba7f163c4a11628f55a4df523b3ef'),\n",
       "    HexBytes('0x00000000000000000000000041eeba3355d7d6ff628b7982f3f9d055c39488cb'),\n",
       "    HexBytes('0x000000000000000000000000ebcc959479634eec5a4d7162e36f8b8cc763f491')],\n",
       "   'data': '0x00000000000000000000000000000000000000000000000018b72058ffd4c87a',\n",
       "   'blockHash': HexBytes('0x0c9bad251ba9789a64364e44814fe1ebb6a55e76798735425f1571bade533a98'),\n",
       "   'blockNumber': 17213350,\n",
       "   'removed': False,\n",
       "   'transactionHash': HexBytes('0xf482dc7a255192691c1df671204932748d97935b276c475f4fb7144830724ea9'),\n",
       "   'transactionIndex': 0}),\n",
       "  AttributeDict({'logIndex': 11,\n",
       "   'address': '0xdBdb4d16EdA451D0503b854CF79D55697F90c8DF',\n",
       "   'topics': [HexBytes('0x8c5be1e5ebec7d5bd14f71427d1e84f3dd0314c0f7b2291e5b200ac8c7c3b925'),\n",
       "    HexBytes('0x00000000000000000000000041eeba3355d7d6ff628b7982f3f9d055c39488cb'),\n",
       "    HexBytes('0x000000000000000000000000d9e1ce17f2641f24ae83637ab66a2cca9c378b9f')],\n",
       "   'data': '0xffffffffffffffffffffffffffffffffffffffffffffffffffffffffffffffff',\n",
       "   'blockHash': HexBytes('0x0c9bad251ba9789a64364e44814fe1ebb6a55e76798735425f1571bade533a98'),\n",
       "   'blockNumber': 17213350,\n",
       "   'removed': False,\n",
       "   'transactionHash': HexBytes('0xf482dc7a255192691c1df671204932748d97935b276c475f4fb7144830724ea9'),\n",
       "   'transactionIndex': 0}),\n",
       "  AttributeDict({'logIndex': 12,\n",
       "   'address': '0xdBdb4d16EdA451D0503b854CF79D55697F90c8DF',\n",
       "   'topics': [HexBytes('0xddf252ad1be2c89b69c2b068fc378daa952ba7f163c4a11628f55a4df523b3ef'),\n",
       "    HexBytes('0x00000000000000000000000041eeba3355d7d6ff628b7982f3f9d055c39488cb'),\n",
       "    HexBytes('0x000000000000000000000000c3f279090a47e80990fe3a9c30d24cb117ef91a8')],\n",
       "   'data': '0x00000000000000000000000000000000000000000000003b44af5494c6fc0a5e',\n",
       "   'blockHash': HexBytes('0x0c9bad251ba9789a64364e44814fe1ebb6a55e76798735425f1571bade533a98'),\n",
       "   'blockNumber': 17213350,\n",
       "   'removed': False,\n",
       "   'transactionHash': HexBytes('0xf482dc7a255192691c1df671204932748d97935b276c475f4fb7144830724ea9'),\n",
       "   'transactionIndex': 0}),\n",
       "  AttributeDict({'logIndex': 13,\n",
       "   'address': '0xdBdb4d16EdA451D0503b854CF79D55697F90c8DF',\n",
       "   'topics': [HexBytes('0x8c5be1e5ebec7d5bd14f71427d1e84f3dd0314c0f7b2291e5b200ac8c7c3b925'),\n",
       "    HexBytes('0x00000000000000000000000041eeba3355d7d6ff628b7982f3f9d055c39488cb'),\n",
       "    HexBytes('0x000000000000000000000000d9e1ce17f2641f24ae83637ab66a2cca9c378b9f')],\n",
       "   'data': '0xffffffffffffffffffffffffffffffffffffffffffffffc4bb50ab6b3903f5a1',\n",
       "   'blockHash': HexBytes('0x0c9bad251ba9789a64364e44814fe1ebb6a55e76798735425f1571bade533a98'),\n",
       "   'blockNumber': 17213350,\n",
       "   'removed': False,\n",
       "   'transactionHash': HexBytes('0xf482dc7a255192691c1df671204932748d97935b276c475f4fb7144830724ea9'),\n",
       "   'transactionIndex': 0}),\n",
       "  AttributeDict({'logIndex': 14,\n",
       "   'address': '0xC02aaA39b223FE8D0A0e5C4F27eAD9083C756Cc2',\n",
       "   'topics': [HexBytes('0xddf252ad1be2c89b69c2b068fc378daa952ba7f163c4a11628f55a4df523b3ef'),\n",
       "    HexBytes('0x000000000000000000000000c3f279090a47e80990fe3a9c30d24cb117ef91a8'),\n",
       "    HexBytes('0x000000000000000000000000d9e1ce17f2641f24ae83637ab66a2cca9c378b9f')],\n",
       "   'data': '0x000000000000000000000000000000000000000000000000968add96ca90d097',\n",
       "   'blockHash': HexBytes('0x0c9bad251ba9789a64364e44814fe1ebb6a55e76798735425f1571bade533a98'),\n",
       "   'blockNumber': 17213350,\n",
       "   'removed': False,\n",
       "   'transactionHash': HexBytes('0xf482dc7a255192691c1df671204932748d97935b276c475f4fb7144830724ea9'),\n",
       "   'transactionIndex': 0}),\n",
       "  AttributeDict({'logIndex': 15,\n",
       "   'address': '0xC3f279090a47e80990Fe3a9c30d24Cb117EF91a8',\n",
       "   'topics': [HexBytes('0x1c411e9a96e071241c2f21f7726b17ae89e3cab4c78be50e062b03a9fffbbad1')],\n",
       "   'data': '0x000000000000000000000000000000000000000000000050e4e6d0d293a4e90a000000000000000000000000000000000000000000001ffbde32be8b4309b859',\n",
       "   'blockHash': HexBytes('0x0c9bad251ba9789a64364e44814fe1ebb6a55e76798735425f1571bade533a98'),\n",
       "   'blockNumber': 17213350,\n",
       "   'removed': False,\n",
       "   'transactionHash': HexBytes('0xf482dc7a255192691c1df671204932748d97935b276c475f4fb7144830724ea9'),\n",
       "   'transactionIndex': 0}),\n",
       "  AttributeDict({'logIndex': 16,\n",
       "   'address': '0xC3f279090a47e80990Fe3a9c30d24Cb117EF91a8',\n",
       "   'topics': [HexBytes('0xd78ad95fa46c994b6551d0da85fc275fe613ce37657fb8d5e3d130840159d822'),\n",
       "    HexBytes('0x000000000000000000000000d9e1ce17f2641f24ae83637ab66a2cca9c378b9f'),\n",
       "    HexBytes('0x000000000000000000000000d9e1ce17f2641f24ae83637ab66a2cca9c378b9f')],\n",
       "   'data': '0x000000000000000000000000000000000000000000000000000000000000000000000000000000000000000000000000000000000000003b44af5494c6fc0a5e000000000000000000000000000000000000000000000000968add96ca90d0970000000000000000000000000000000000000000000000000000000000000000',\n",
       "   'blockHash': HexBytes('0x0c9bad251ba9789a64364e44814fe1ebb6a55e76798735425f1571bade533a98'),\n",
       "   'blockNumber': 17213350,\n",
       "   'removed': False,\n",
       "   'transactionHash': HexBytes('0xf482dc7a255192691c1df671204932748d97935b276c475f4fb7144830724ea9'),\n",
       "   'transactionIndex': 0}),\n",
       "  AttributeDict({'logIndex': 17,\n",
       "   'address': '0xC02aaA39b223FE8D0A0e5C4F27eAD9083C756Cc2',\n",
       "   'topics': [HexBytes('0x7fcf532c15f0a6db0bd6d0e038bea71d30d808c7d98cb3bf7268a95bf5081b65'),\n",
       "    HexBytes('0x000000000000000000000000d9e1ce17f2641f24ae83637ab66a2cca9c378b9f')],\n",
       "   'data': '0x000000000000000000000000000000000000000000000000968add96ca90d097',\n",
       "   'blockHash': HexBytes('0x0c9bad251ba9789a64364e44814fe1ebb6a55e76798735425f1571bade533a98'),\n",
       "   'blockNumber': 17213350,\n",
       "   'removed': False,\n",
       "   'transactionHash': HexBytes('0xf482dc7a255192691c1df671204932748d97935b276c475f4fb7144830724ea9'),\n",
       "   'transactionIndex': 0}),\n",
       "  AttributeDict({'logIndex': 18,\n",
       "   'address': '0xeEF417e1D5CC832e619ae18D2F140De2999dD4fB',\n",
       "   'topics': [HexBytes('0x0da3485ef1bb570df7bb888887eae5aa01d81b83cd8ccc80c0ea0922a677ecef'),\n",
       "    HexBytes('0x000000000000000000000000eeeeeeeeeeeeeeeeeeeeeeeeeeeeeeeeeeeeeeee'),\n",
       "    HexBytes('0x00000000000000000000000041eeba3355d7d6ff628b7982f3f9d055c39488cb')],\n",
       "   'data': '0x00000000000000000000000000000000000000000000000077dcf39d2337d3c80000000000000000000000000000000000000000000000000000000000000000',\n",
       "   'blockHash': HexBytes('0x0c9bad251ba9789a64364e44814fe1ebb6a55e76798735425f1571bade533a98'),\n",
       "   'blockNumber': 17213350,\n",
       "   'removed': False,\n",
       "   'transactionHash': HexBytes('0xf482dc7a255192691c1df671204932748d97935b276c475f4fb7144830724ea9'),\n",
       "   'transactionIndex': 0}),\n",
       "  AttributeDict({'logIndex': 19,\n",
       "   'address': '0xB67d563287D12B1F41579cB687b04988Ad564C6C',\n",
       "   'topics': [HexBytes('0x6e96dc5343d067ec486a9920e0304c3610ed05c65e45cc029d9b9fe7ecfa7620'),\n",
       "    HexBytes('0x1ca424edf451aec0c835547ecb1b55838378eeb07f63b1ad73bca06f7eb76bbe'),\n",
       "    HexBytes('0x000000000000000000000000eeeeeeeeeeeeeeeeeeeeeeeeeeeeeeeeeeeeeeee'),\n",
       "    HexBytes('0x0000000000000000000000001f573d6fb3f13d689ff844b4ce37794d79a7ff1c')],\n",
       "   'data': '0x0000000000000000000000000000000000000000000c0e3cd05ef7d7dd1262a00000000000000000000000000000000000000000000c0c94c972e0d51ad8dc14',\n",
       "   'blockHash': HexBytes('0x0c9bad251ba9789a64364e44814fe1ebb6a55e76798735425f1571bade533a98'),\n",
       "   'blockNumber': 17213350,\n",
       "   'removed': False,\n",
       "   'transactionHash': HexBytes('0xf482dc7a255192691c1df671204932748d97935b276c475f4fb7144830724ea9'),\n",
       "   'transactionIndex': 0}),\n",
       "  AttributeDict({'logIndex': 20,\n",
       "   'address': '0xB67d563287D12B1F41579cB687b04988Ad564C6C',\n",
       "   'topics': [HexBytes('0x6e96dc5343d067ec486a9920e0304c3610ed05c65e45cc029d9b9fe7ecfa7620'),\n",
       "    HexBytes('0x1ca424edf451aec0c835547ecb1b55838378eeb07f63b1ad73bca06f7eb76bbe'),\n",
       "    HexBytes('0x000000000000000000000000eeeeeeeeeeeeeeeeeeeeeeeeeeeeeeeeeeeeeeee'),\n",
       "    HexBytes('0x000000000000000000000000eeeeeeeeeeeeeeeeeeeeeeeeeeeeeeeeeeeeeeee')],\n",
       "   'data': '0x0000000000000000000000000000000000000000000000df2d3b751e70e6b2640000000000000000000000000000000000000000000000df4be95f18183faf33',\n",
       "   'blockHash': HexBytes('0x0c9bad251ba9789a64364e44814fe1ebb6a55e76798735425f1571bade533a98'),\n",
       "   'blockNumber': 17213350,\n",
       "   'removed': False,\n",
       "   'transactionHash': HexBytes('0xf482dc7a255192691c1df671204932748d97935b276c475f4fb7144830724ea9'),\n",
       "   'transactionIndex': 0}),\n",
       "  AttributeDict({'logIndex': 21,\n",
       "   'address': '0xeEF417e1D5CC832e619ae18D2F140De2999dD4fB',\n",
       "   'topics': [HexBytes('0x5c02c2bb2d1d082317eb23916ca27b3e7c294398b60061a2ad54f1c3c018c318'),\n",
       "    HexBytes('0x1ca424edf451aec0c835547ecb1b55838378eeb07f63b1ad73bca06f7eb76bbe'),\n",
       "    HexBytes('0x000000000000000000000000eeeeeeeeeeeeeeeeeeeeeeeeeeeeeeeeeeeeeeee'),\n",
       "    HexBytes('0x0000000000000000000000001f573d6fb3f13d689ff844b4ce37794d79a7ff1c')],\n",
       "   'data': '0x0000000000000000000000000000000000000000000000001eade9f9a758fccf0000000000000000000000000000000000000000000001a806ec1702c239868c0000000000000000000000000000000000000000000001a806ec1702c239868c0000000000000000000000000000000000000000000000000000000000000000000000000000000000000000000000000000000000000000000000000000000000000000000000000000000041eeba3355d7d6ff628b7982f3f9d055c39488cb',\n",
       "   'blockHash': HexBytes('0x0c9bad251ba9789a64364e44814fe1ebb6a55e76798735425f1571bade533a98'),\n",
       "   'blockNumber': 17213350,\n",
       "   'removed': False,\n",
       "   'transactionHash': HexBytes('0xf482dc7a255192691c1df671204932748d97935b276c475f4fb7144830724ea9'),\n",
       "   'transactionIndex': 0}),\n",
       "  AttributeDict({'logIndex': 22,\n",
       "   'address': '0x1F573D6Fb3F13d689FF844B4cE37794d79a7FF1C',\n",
       "   'topics': [HexBytes('0xddf252ad1be2c89b69c2b068fc378daa952ba7f163c4a11628f55a4df523b3ef'),\n",
       "    HexBytes('0x000000000000000000000000649765821d9f64198c905ec0b2b037a4a52bc373'),\n",
       "    HexBytes('0x00000000000000000000000041eeba3355d7d6ff628b7982f3f9d055c39488cb')],\n",
       "   'data': '0x0000000000000000000000000000000000000000000001a806ec1702c239868c',\n",
       "   'blockHash': HexBytes('0x0c9bad251ba9789a64364e44814fe1ebb6a55e76798735425f1571bade533a98'),\n",
       "   'blockNumber': 17213350,\n",
       "   'removed': False,\n",
       "   'transactionHash': HexBytes('0xf482dc7a255192691c1df671204932748d97935b276c475f4fb7144830724ea9'),\n",
       "   'transactionIndex': 0}),\n",
       "  AttributeDict({'logIndex': 23,\n",
       "   'address': '0x649765821D9f64198c905eC0B2B037a4a52Bc373',\n",
       "   'topics': [HexBytes('0xc322efa58c9cb2c39cfffdac61d35c8643f5cbf13c6a7d0034de2cf18923aff3'),\n",
       "    HexBytes('0x0000000000000000000000001f573d6fb3f13d689ff844b4ce37794d79a7ff1c'),\n",
       "    HexBytes('0x000000000000000000000000eef417e1d5cc832e619ae18d2f140de2999dd4fb'),\n",
       "    HexBytes('0x00000000000000000000000041eeba3355d7d6ff628b7982f3f9d055c39488cb')],\n",
       "   'data': '0x0000000000000000000000000000000000000000000001a806ec1702c239868c',\n",
       "   'blockHash': HexBytes('0x0c9bad251ba9789a64364e44814fe1ebb6a55e76798735425f1571bade533a98'),\n",
       "   'blockNumber': 17213350,\n",
       "   'removed': False,\n",
       "   'transactionHash': HexBytes('0xf482dc7a255192691c1df671204932748d97935b276c475f4fb7144830724ea9'),\n",
       "   'transactionIndex': 0}),\n",
       "  AttributeDict({'logIndex': 24,\n",
       "   'address': '0x1F573D6Fb3F13d689FF844B4cE37794d79a7FF1C',\n",
       "   'topics': [HexBytes('0xddf252ad1be2c89b69c2b068fc378daa952ba7f163c4a11628f55a4df523b3ef'),\n",
       "    HexBytes('0x00000000000000000000000041eeba3355d7d6ff628b7982f3f9d055c39488cb'),\n",
       "    HexBytes('0x0000000000000000000000001f573d6fb3f13d689ff844b4ce37794d79a7ff1c')],\n",
       "   'data': '0x0000000000000000000000000000000000000000000001a29b24b8d55f29868c',\n",
       "   'blockHash': HexBytes('0x0c9bad251ba9789a64364e44814fe1ebb6a55e76798735425f1571bade533a98'),\n",
       "   'blockNumber': 17213350,\n",
       "   'removed': False,\n",
       "   'transactionHash': HexBytes('0xf482dc7a255192691c1df671204932748d97935b276c475f4fb7144830724ea9'),\n",
       "   'transactionIndex': 0}),\n",
       "  AttributeDict({'logIndex': 25,\n",
       "   'address': '0x1F573D6Fb3F13d689FF844B4cE37794d79a7FF1C',\n",
       "   'topics': [HexBytes('0x9a1b418bc061a5d80270261562e6986a35d995f8051145f277be16103abd3453')],\n",
       "   'data': '0x0000000000000000000000000000000000000000000001a29b24b8d55f29868c',\n",
       "   'blockHash': HexBytes('0x0c9bad251ba9789a64364e44814fe1ebb6a55e76798735425f1571bade533a98'),\n",
       "   'blockNumber': 17213350,\n",
       "   'removed': False,\n",
       "   'transactionHash': HexBytes('0xf482dc7a255192691c1df671204932748d97935b276c475f4fb7144830724ea9'),\n",
       "   'transactionIndex': 0}),\n",
       "  AttributeDict({'logIndex': 26,\n",
       "   'address': '0x1F573D6Fb3F13d689FF844B4cE37794d79a7FF1C',\n",
       "   'topics': [HexBytes('0xddf252ad1be2c89b69c2b068fc378daa952ba7f163c4a11628f55a4df523b3ef'),\n",
       "    HexBytes('0x00000000000000000000000041eeba3355d7d6ff628b7982f3f9d055c39488cb'),\n",
       "    HexBytes('0x00000000000000000000000028c6c06298d514db089934071355e5743bf21d60')],\n",
       "   'data': '0x0000000000000000000000000000000000000000000000056bc75e2d63100000',\n",
       "   'blockHash': HexBytes('0x0c9bad251ba9789a64364e44814fe1ebb6a55e76798735425f1571bade533a98'),\n",
       "   'blockNumber': 17213350,\n",
       "   'removed': False,\n",
       "   'transactionHash': HexBytes('0xf482dc7a255192691c1df671204932748d97935b276c475f4fb7144830724ea9'),\n",
       "   'transactionIndex': 0}),\n",
       "  AttributeDict({'logIndex': 27,\n",
       "   'address': '0x41Eeba3355d7D6FF628B7982F3F9D055c39488cB',\n",
       "   'topics': [HexBytes('0xff8eb78730569e0ec598efa1a9e2263591cdaa6ad3d6c980a57a60aeee316918'),\n",
       "    HexBytes('0x00000000000000000000000028c6c06298d514db089934071355e5743bf21d60')],\n",
       "   'data': '0x00000000000000000000000000000000000000000000000000000000000000a0000000000000000000000000000000000000000000000000000000000000012000000000000000000000000000000000000000000000000077dcf39d2337d3c80000000000000000000000000000000000000000000001a29b24b8d55f29868c0000000000000000000000000000000000000000000000056bc75e2d6310000000000000000000000000000000000000000000000000000000000000000000030000000000000000000000000000000000000000000000000000000000000005000000000000000000000000000000000000000000000000000000000000000600000000000000000000000000000000000000000000000000000000000000050000000000000000000000000000000000000000000000000000000000000004000000000000000000000000eeeeeeeeeeeeeeeeeeeeeeeeeeeeeeeeeeeeeeee0000000000000000000000006b175474e89094c44da98b954eedeac495271d0f000000000000000000000000dbdb4d16eda451d0503b854cf79d55697f90c8df000000000000000000000000eeeeeeeeeeeeeeeeeeeeeeeeeeeeeeeeeeeeeeee',\n",
       "   'blockHash': HexBytes('0x0c9bad251ba9789a64364e44814fe1ebb6a55e76798735425f1571bade533a98'),\n",
       "   'blockNumber': 17213350,\n",
       "   'removed': False,\n",
       "   'transactionHash': HexBytes('0xf482dc7a255192691c1df671204932748d97935b276c475f4fb7144830724ea9'),\n",
       "   'transactionIndex': 0})],\n",
       " 'logsBloom': HexBytes('0x00200008182000000880100080000080080000400000040000024000200000000004000000000000000001020000000002000000480000000810100000200000080000000000000000000148000000200000000080402000000000808a00800010008010010200000020400000080000002000000400040002048010000080200000000000000022040000000000000000000001800080080100004420000000220000000000200140210000010400000000000000000000000100a600080000404c0042110500080000000040100000080802000500001402a00102000000000010200000000000000000140000000000080000000800500080200000000000'),\n",
       " 'status': 1,\n",
       " 'type': '0x0'})"
      ]
     },
     "execution_count": 26,
     "metadata": {},
     "output_type": "execute_result"
    }
   ],
   "source": [
    "### This to manually submit\n",
    "bot._validate_and_submit_transaction_tenderly(\n",
    "        ConfigObj = C,\n",
    "        route_struct = route_struct,\n",
    "        src_amount = flashloan_amount,\n",
    "        src_address = flashloan_token_address,\n",
    "            )"
   ]
  }
 ],
 "metadata": {
  "jupytext": {
   "encoding": "# -*- coding: utf-8 -*-",
   "formats": "ipynb,py:light"
  },
  "kernelspec": {
   "display_name": "Python 3 (ipykernel)",
   "language": "python",
   "name": "python3"
  },
  "language_info": {
   "codemirror_mode": {
    "name": "ipython",
    "version": 3
   },
   "file_extension": ".py",
   "mimetype": "text/x-python",
   "name": "python",
   "nbconvert_exporter": "python",
   "pygments_lexer": "ipython3",
   "version": "3.10.10"
  }
 },
 "nbformat": 4,
 "nbformat_minor": 5
}

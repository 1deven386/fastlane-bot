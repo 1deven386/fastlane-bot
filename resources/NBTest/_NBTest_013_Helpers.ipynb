{
 "cells": [
  {
   "cell_type": "code",
   "execution_count": 1,
   "id": "8f04c50a-67fe-4f09-822d-6ed6e3ac43e4",
   "metadata": {
    "ExecuteTime": {
     "end_time": "2023-05-10T11:13:55.560655200Z",
     "start_time": "2023-05-10T11:13:49.641791500Z"
    }
   },
   "outputs": [
    {
     "name": "stdout",
     "output_type": "stream",
     "text": [
      "Using default database url, if you want to use a different database, set the backend_url found at the bottom of manager_base.py\n",
      "Error adding Ethereum blockchain to database Ethereum, (psycopg2.errors.UniqueViolation) duplicate key value violates unique constraint \"ix_blockchains_name\"\n",
      "DETAIL:  Key (name)=(Ethereum) already exists.\n",
      "\n",
      "[SQL: INSERT INTO blockchains (name, block_number) VALUES (%(name)s, %(block_number)s) RETURNING blockchains.id]\n",
      "[parameters: {'name': 'Ethereum', 'block_number': 0}]\n",
      "(Background on this error at: https://sqlalche.me/e/20/gkpj) skipping...\n",
      "Error adding exchange carbon_v1 to database, (psycopg2.errors.UniqueViolation) duplicate key value violates unique constraint \"exchanges_pkey\"\n",
      "DETAIL:  Key (id)=(6) already exists.\n",
      "\n",
      "[SQL: INSERT INTO exchanges (id, name, blockchain_name) VALUES (%(id)s, %(name)s, %(blockchain_name)s)]\n",
      "[parameters: {'id': 6, 'name': 'carbon_v1', 'blockchain_name': 'Ethereum'}]\n",
      "(Background on this error at: https://sqlalche.me/e/20/gkpj) skipping...\n",
      "Error adding exchange bancor_v2 to database, (psycopg2.errors.UniqueViolation) duplicate key value violates unique constraint \"exchanges_pkey\"\n",
      "DETAIL:  Key (id)=(1) already exists.\n",
      "\n",
      "[SQL: INSERT INTO exchanges (id, name, blockchain_name) VALUES (%(id)s, %(name)s, %(blockchain_name)s)]\n",
      "[parameters: {'id': 1, 'name': 'bancor_v2', 'blockchain_name': 'Ethereum'}]\n",
      "(Background on this error at: https://sqlalche.me/e/20/gkpj) skipping...\n",
      "Error adding exchange bancor_v3 to database, (psycopg2.errors.UniqueViolation) duplicate key value violates unique constraint \"exchanges_pkey\"\n",
      "DETAIL:  Key (id)=(2) already exists.\n",
      "\n",
      "[SQL: INSERT INTO exchanges (id, name, blockchain_name) VALUES (%(id)s, %(name)s, %(blockchain_name)s)]\n",
      "[parameters: {'id': 2, 'name': 'bancor_v3', 'blockchain_name': 'Ethereum'}]\n",
      "(Background on this error at: https://sqlalche.me/e/20/gkpj) skipping...\n",
      "Error adding exchange uniswap_v2 to database, (psycopg2.errors.UniqueViolation) duplicate key value violates unique constraint \"exchanges_pkey\"\n",
      "DETAIL:  Key (id)=(3) already exists.\n",
      "\n",
      "[SQL: INSERT INTO exchanges (id, name, blockchain_name) VALUES (%(id)s, %(name)s, %(blockchain_name)s)]\n",
      "[parameters: {'id': 3, 'name': 'uniswap_v2', 'blockchain_name': 'Ethereum'}]\n",
      "(Background on this error at: https://sqlalche.me/e/20/gkpj) skipping...\n",
      "Error adding exchange uniswap_v3 to database, (psycopg2.errors.UniqueViolation) duplicate key value violates unique constraint \"exchanges_pkey\"\n",
      "DETAIL:  Key (id)=(4) already exists.\n",
      "\n",
      "[SQL: INSERT INTO exchanges (id, name, blockchain_name) VALUES (%(id)s, %(name)s, %(blockchain_name)s)]\n",
      "[parameters: {'id': 4, 'name': 'uniswap_v3', 'blockchain_name': 'Ethereum'}]\n",
      "(Background on this error at: https://sqlalche.me/e/20/gkpj) skipping...\n",
      "Error adding exchange sushiswap_v2 to database, (psycopg2.errors.UniqueViolation) duplicate key value violates unique constraint \"exchanges_pkey\"\n",
      "DETAIL:  Key (id)=(5) already exists.\n",
      "\n",
      "[SQL: INSERT INTO exchanges (id, name, blockchain_name) VALUES (%(id)s, %(name)s, %(blockchain_name)s)]\n",
      "[parameters: {'id': 5, 'name': 'sushiswap_v2', 'blockchain_name': 'Ethereum'}]\n",
      "(Background on this error at: https://sqlalche.me/e/20/gkpj) skipping...\n",
      "Config v1.0 (03/May 2023)\n",
      "TradeInstruction v1.2 (02/May/2023)\n",
      "TxReceiptHandler v0.0 (01/May/2023)\n",
      "TxRouteHandler v1.1.1 (02/May/2023)\n",
      "TxSubmitHandler v1.0 (01/May/2023)\n",
      "TxHelpers v1.0 (01/May/2023)\n",
      "TxHelper v1.0 (01/May/2023)\n",
      "imported m, np, pd, plt, os, sys, decimal; defined iseq, raises, require\n"
     ]
    },
    {
     "name": "stderr",
     "output_type": "stream",
     "text": [
      "C:\\Users\\Kveen\\AppData\\Local\\Temp\\ipykernel_27756\\2221254946.py:12: MatplotlibDeprecationWarning: The seaborn styles shipped by Matplotlib are deprecated since 3.6, as they no longer correspond to the styles shipped by seaborn. However, they will remain available as 'seaborn-v0_8-<style>'. Alternatively, directly use the seaborn API instead.\n",
      "  plt.style.use('seaborn-dark')\n"
     ]
    },
    {
     "name": "stdout",
     "output_type": "stream",
     "text": [
      "Version = 3-b2.1 [requirements >= 2.0 is met]\n"
     ]
    }
   ],
   "source": [
    "from fastlane_bot import Config, Bot\n",
    "#from fastlane_bot.tools.cpc import ConstantProductCurve as CPC, CPCContainer\n",
    "from fastlane_bot.helpers import TradeInstruction, TxReceiptHandler, TxRouteHandler, TxSubmitHandler, TxHelpers, TxHelper\n",
    "print(\"{0.__name__} v{0.__VERSION__} ({0.__DATE__})\".format(Config))\n",
    "print(\"{0.__name__} v{0.__VERSION__} ({0.__DATE__})\".format(TradeInstruction))\n",
    "print(\"{0.__name__} v{0.__VERSION__} ({0.__DATE__})\".format(TxReceiptHandler))\n",
    "print(\"{0.__name__} v{0.__VERSION__} ({0.__DATE__})\".format(TxRouteHandler))\n",
    "print(\"{0.__name__} v{0.__VERSION__} ({0.__DATE__})\".format(TxSubmitHandler))\n",
    "print(\"{0.__name__} v{0.__VERSION__} ({0.__DATE__})\".format(TxHelpers))\n",
    "print(\"{0.__name__} v{0.__VERSION__} ({0.__DATE__})\".format(TxHelper))\n",
    "from fastlane_bot.testing import *\n",
    "plt.style.use('seaborn-dark')\n",
    "plt.rcParams['figure.figsize'] = [12,6]\n",
    "from fastlane_bot import __VERSION__\n",
    "require(\"2.0\", __VERSION__)"
   ]
  },
  {
   "cell_type": "markdown",
   "id": "b3f59f14-b91b-4dba-94b0-3d513aaf41c7",
   "metadata": {},
   "source": [
    "# Helpers [NBTest013]"
   ]
  },
  {
   "cell_type": "code",
   "execution_count": 2,
   "id": "638f2c75-7d3d-4cc1-a24b-cf891539da4f",
   "metadata": {
    "ExecuteTime": {
     "end_time": "2023-05-10T11:13:56.638600Z",
     "start_time": "2023-05-10T11:13:55.563489800Z"
    }
   },
   "outputs": [],
   "source": [
    "# C = Config()\n",
    "C = Config.new(config=Config.CONFIG_UNITTEST)\n",
    "bot = Bot(ConfigObj=C)\n",
    "\n",
    "arb_data_struct = [{'exchangeId': 6,\n",
    "  'targetToken': '0xEeeeeEeeeEeEeeEeEeEeeEEEeeeeEeeeeeeeEEeE',\n",
    "  'minTargetAmount': 1,\n",
    "  'deadline': 1683013903,\n",
    "  'customAddress': '0xC02aaA39b223FE8D0A0e5C4F27eAD9083C756Cc2',\n",
    "  'customInt': 0,\n",
    "  'customData': '0x00000000000000000000000000000000000000000000000000000000000000200000000000000000000000000000000000000000000000000000000000000001000000000000000000000000000000050000000000000000000000000000000500000000000000000000000000000000000000000000000000000004a9dfd4e6'},\n",
    " {'exchangeId': 4,\n",
    "  'targetToken': '0xA0b86991c6218b36c1d19D4a2e9Eb0cE3606eB48',\n",
    "  'minTargetAmount': 1,\n",
    "  'deadline': 1683013903,\n",
    "  'customAddress': '0xA0b86991c6218b36c1d19D4a2e9Eb0cE3606eB48',\n",
    "  'customInt': 100,\n",
    "  'customData': '0x'}]\n",
    "flash_tkn = '0xA0b86991c6218b36c1d19D4a2e9Eb0cE3606eB48'\n",
    "flash_amt = 20029887718\n",
    "profit = 19348 # totally made up!\n",
    "\n",
    "arb_data_struct_weth_test = [{'exchangeId': 4,\n",
    "  'targetToken': '0xA0b86991c6218b36c1d19D4a2e9Eb0cE3606eB48',\n",
    "  'minTargetAmount': 1,\n",
    "  'deadline': 1683013903,\n",
    "  'customAddress': '0xA0b86991c6218b36c1d19D4a2e9Eb0cE3606eB48',\n",
    "  'customInt': 100,\n",
    "  'customData': '0x'}, {'exchangeId': 6,\n",
    "  'targetToken': '0xEeeeeEeeeEeEeeEeEeEeeEEEeeeeEeeeeeeeEEeE',\n",
    "  'minTargetAmount': 1,\n",
    "  'deadline': 1683013903,\n",
    "  'customAddress': '0xC02aaA39b223FE8D0A0e5C4F27eAD9083C756Cc2',\n",
    "  'customInt': 0,\n",
    "  'customData': '0x00000000000000000000000000000000000000000000000000000000000000200000000000000000000000000000000000000000000000000000000000000001000000000000000000000000000000050000000000000000000000000000000500000000000000000000000000000000000000000000000000000004a9dfd4e6'}]\n",
    "flash_tkn_weth_test = '0xC02aaA39b223FE8D0A0e5C4F27eAD9083C756Cc2'\n",
    "flash_amt_weth_test = 20029887718"
   ]
  },
  {
   "cell_type": "markdown",
   "id": "7fbae44a",
   "metadata": {},
   "source": [
    "## TradeInstruction"
   ]
  },
  {
   "cell_type": "markdown",
   "id": "bc125a87",
   "metadata": {},
   "source": [
    "## TxReceiptHandler\n",
    "\n",
    "Note: `TxReceiptHandler` is currently a dummy class. No tests to do."
   ]
  },
  {
   "cell_type": "code",
   "execution_count": 3,
   "id": "6bedc229-917b-4ec1-bb01-ce32d2fb229a",
   "metadata": {
    "ExecuteTime": {
     "end_time": "2023-05-10T11:13:56.654600100Z",
     "start_time": "2023-05-10T11:13:56.639600200Z"
    }
   },
   "outputs": [],
   "source": [
    "h = TxReceiptHandler()\n",
    "assert type(h).__name__ == \"TxReceiptHandler\"\n",
    "assert type(h).__bases__[0].__name__ == \"TxReceiptHandlerBase\""
   ]
  },
  {
   "cell_type": "code",
   "execution_count": 4,
   "id": "b72eccf8-4069-423a-acb2-f615f59d00c5",
   "metadata": {
    "ExecuteTime": {
     "end_time": "2023-05-10T11:13:56.679006300Z",
     "start_time": "2023-05-10T11:13:56.654600100Z"
    }
   },
   "outputs": [],
   "source": [
    "#help(h)"
   ]
  },
  {
   "cell_type": "code",
   "execution_count": 5,
   "id": "ffb67274-e418-4682-8c65-b22b09288e6c",
   "metadata": {
    "ExecuteTime": {
     "end_time": "2023-05-10T11:13:56.685006400Z",
     "start_time": "2023-05-10T11:13:56.670601300Z"
    }
   },
   "outputs": [],
   "source": [
    "#help(h)"
   ]
  },
  {
   "cell_type": "markdown",
   "id": "c8bab5e2",
   "metadata": {},
   "source": [
    "## TxSubmitHandler"
   ]
  },
  {
   "cell_type": "code",
   "execution_count": 6,
   "id": "3c79121e-538c-476a-855c-73ad02fb3714",
   "metadata": {
    "ExecuteTime": {
     "end_time": "2023-05-10T11:13:56.716006400Z",
     "start_time": "2023-05-10T11:13:56.686006Z"
    }
   },
   "outputs": [],
   "source": [
    "h = TxSubmitHandler(ConfigObj=C)\n",
    "assert type(h).__name__ == \"TxSubmitHandler\"\n",
    "assert type(h).__bases__[0].__name__ == \"TxSubmitHandlerBase\""
   ]
  },
  {
   "cell_type": "code",
   "execution_count": 7,
   "id": "e4cd0caa-4c05-4061-ac7a-fa22bf86e49f",
   "metadata": {
    "ExecuteTime": {
     "end_time": "2023-05-10T11:13:56.716006400Z",
     "start_time": "2023-05-10T11:13:56.702006300Z"
    }
   },
   "outputs": [
    {
     "name": "stdout",
     "output_type": "stream",
     "text": [
      "Help on TxSubmitHandler in module fastlane_bot.helpers.submithandler object:\n",
      "\n",
      "class TxSubmitHandler(TxSubmitHandlerBase)\n",
      " |  TxSubmitHandler(ConfigObj: fastlane_bot.config.config.Config, route_struct: List[fastlane_bot.helpers.routehandler.RouteStruct] = None, src_address: str = None, src_amount: int = None) -> None\n",
      " |  \n",
      " |  A class that handles the submission of transactions to the blockchain.\n",
      " |  \n",
      " |  Attributes\n",
      " |  ----------\n",
      " |  route_struct: List[str]\n",
      " |      The route structure for a transaction. As required by the `BancorArbitrage` contract.\n",
      " |  src_amount: int\n",
      " |      The source amount for a transaction. (in wei)\n",
      " |  src_address: str\n",
      " |      The source address for a transaction. (checksummed)\n",
      " |  \n",
      " |  Methods\n",
      " |  -------\n",
      " |  _get_deadline(self) -> int:\n",
      " |      Gets the deadline for a transaction.\n",
      " |  _get_transaction(self, tx_details: TxParams) -> TxParams:\n",
      " |      Gets the transaction details for a given transaction.\n",
      " |  _get_transaction_receipt(self, tx_hash: str, timeout: int = DEFAULT_TIMEOUT) -> TransactionReceipt:\n",
      " |      Gets the transaction receipt for a given transaction.\n",
      " |  _get_transaction_receipt_with_timeout(self, tx_hash: str, timeout: int = DEFAULT_TIMEOUT) -> TransactionReceipt:\n",
      " |      Gets the transaction receipt for a given transaction with a timeout.\n",
      " |  \n",
      " |  Method resolution order:\n",
      " |      TxSubmitHandler\n",
      " |      TxSubmitHandlerBase\n",
      " |      builtins.object\n",
      " |  \n",
      " |  Methods defined here:\n",
      " |  \n",
      " |  __eq__(self, other)\n",
      " |      Return self==value.\n",
      " |  \n",
      " |  __init__(self, ConfigObj: fastlane_bot.config.config.Config, route_struct: List[fastlane_bot.helpers.routehandler.RouteStruct] = None, src_address: str = None, src_amount: int = None) -> None\n",
      " |      Initialize self.  See help(type(self)) for accurate signature.\n",
      " |  \n",
      " |  __post_init__(self)\n",
      " |  \n",
      " |  __repr__(self)\n",
      " |      Return repr(self).\n",
      " |  \n",
      " |  ----------------------------------------------------------------------\n",
      " |  Readonly properties defined here:\n",
      " |  \n",
      " |  headers\n",
      " |  \n",
      " |  ----------------------------------------------------------------------\n",
      " |  Data and other attributes defined here:\n",
      " |  \n",
      " |  __DATE__ = '01/May/2023'\n",
      " |  \n",
      " |  __VERSION__ = '1.0'\n",
      " |  \n",
      " |  __annotations__ = {'ConfigObj': <class 'fastlane_bot.config.config.Con...\n",
      " |  \n",
      " |  __dataclass_fields__ = {'ConfigObj': Field(name='ConfigObj',type=<clas...\n",
      " |  \n",
      " |  __dataclass_params__ = _DataclassParams(init=True,repr=True,eq=True,or...\n",
      " |  \n",
      " |  __hash__ = None\n",
      " |  \n",
      " |  __match_args__ = ('ConfigObj', 'route_struct', 'src_address', 'src_amo...\n",
      " |  \n",
      " |  route_struct = None\n",
      " |  \n",
      " |  src_address = None\n",
      " |  \n",
      " |  src_amount = None\n",
      " |  \n",
      " |  ----------------------------------------------------------------------\n",
      " |  Data descriptors inherited from TxSubmitHandlerBase:\n",
      " |  \n",
      " |  __dict__\n",
      " |      dictionary for instance variables (if defined)\n",
      " |  \n",
      " |  __weakref__\n",
      " |      list of weak references to the object (if defined)\n",
      "\n"
     ]
    }
   ],
   "source": [
    "help(h)"
   ]
  },
  {
   "cell_type": "markdown",
   "id": "a8bc5416",
   "metadata": {},
   "source": [
    "## TradeInstruction"
   ]
  },
  {
   "cell_type": "code",
   "execution_count": 8,
   "id": "cbf43706-de84-4219-9799-eb657579a08c",
   "metadata": {
    "ExecuteTime": {
     "end_time": "2023-05-10T11:13:56.733006600Z",
     "start_time": "2023-05-10T11:13:56.719006Z"
    }
   },
   "outputs": [],
   "source": [
    "ti0 = TradeInstruction(ConfigObj=C, cid='1701411834604692317316873037158841057285-1', tknin=\"USDC-eB48\", amtin=20029.887718107937, tknout='WETH-6Cc2', amtout=-10.0, db=bot.db)\n",
    "ti1 = TradeInstruction(ConfigObj=C, cid='10548753374549092367364612830384814555378', tknin=\"WETH-6Cc2\", amtin=9.899999894800894, tknout='USDC-eB48', amtout=-20977.111871615052, db=bot.db, exchange_override=\"uniswap_v2\")\n",
    "assert type(ti0).__name__ == \"TradeInstruction\"\n",
    "assert type(ti1).__name__ == \"TradeInstruction\"\n",
    "assert ti0.tknin_key == \"USDC-eB48\"\n",
    "assert ti0.tknout_key == 'WETH-6Cc2'\n",
    "assert ti0.is_carbon == True, \"The first order is a Carbon order\"\n",
    "assert ti1.is_carbon == False, \"The second order is not a Carbon order\"\n",
    "assert type(ti0._amtin_wei) == int, f\"_amtin_wei is of type: {type(ti0._amtin_wei)}, expected int\"\n",
    "assert type(ti0._amtout_wei) == int, f\"_amtout_wei is of type: {type(ti0._amtout_wei)}, expected int\"\n",
    "assert type(ti0._amtin_quantized) == Decimal, f\"_amtin_quantized returning wrong type: {type(ti0._amtin_quantized)}, expected Decimal\"\n",
    "assert ti0._amtin_quantized > 0, f\"_amtin_quantized = {ti0._amtout_quantized}, expected a positive number in\"\n",
    "assert type(ti0._amtout_quantized) == Decimal, f\"_amtin_quantized returning wrong type: {type(ti1._amtin_quantized)}, expected Decimal\"\n",
    "assert ti0._amtout_quantized < 0, f\"_amtin_quantized = {ti0._amtout_quantized}, expected a negative number out\"\n",
    "assert ti0.exchange_id == 6, f\"wrong exchange id for ti0: {ti0.exchange_id}, expected 6\"\n",
    "assert ti1.exchange_id == 3, f\"wrong exchange id for ti1: {ti1.exchange_id}, expected 3\"\n",
    "assert ti0.exchange_name == C.CARBON_V1_NAME, f\"wrong exchange name for ti0: {ti0.exchange_name}, expected {C.CARBON_V1_NAME}\"\n",
    "assert ti1.exchange_name == C.UNISWAP_V2_NAME, f\"wrong exchange name for ti1: {ti1.exchange_name}, expected {C.UNISWAP_V2_NAME}\"\n",
    "assert str(ti0._tknin_address) == \"0xA0b86991c6218b36c1d19D4a2e9Eb0cE3606eB48\", f\"wrong token in address for ti0: {ti0._tknin_address}, expected: 0xA0b86991c6218b36c1d19D4a2e9Eb0cE3606eB48\"\n",
    "assert str(ti0._tknout_address) == \"0xC02aaA39b223FE8D0A0e5C4F27eAD9083C756Cc2\", f\"wrong token in address for ti0: {ti1._tknin_address}, expected: 0xC02aaA39b223FE8D0A0e5C4F27eAD9083C756Cc2\"\n",
    "assert ti0._tknin_decimals == 6, f\"wrong decimals for ti0 in: {ti0._tknin_decimals}, expected 6\"\n",
    "assert ti0._tknout_decimals == 18, f\"wrong decimals for ti0 out: {ti0._tknout_decimals}, expected 18\"\n",
    "assert ti0._tknin_address != ti1._tknin_address, f\"ti0 tknin address == ti1 tkin address, order mismatch!\"\n",
    "assert ti0._tknout_address != ti1._tknout_address, f\"ti0 tknout address == ti1 tkout address, order mismatch!\"\n",
    "assert ti0.raw_txs == \"[]\", \"ti0 raw tx should not be populated yet\"\n",
    "assert ti1.raw_txs == \"[]\", \"ti1 raw tx should not be populated yet\"\n"
   ]
  },
  {
   "cell_type": "code",
   "execution_count": 9,
   "id": "46c93a96-5419-41f6-af70-f88a7deb8808",
   "metadata": {
    "ExecuteTime": {
     "end_time": "2023-05-10T11:13:56.773007900Z",
     "start_time": "2023-05-10T11:13:56.734006500Z"
    }
   },
   "outputs": [],
   "source": [
    "#help(h)"
   ]
  },
  {
   "cell_type": "markdown",
   "id": "742a7d18",
   "metadata": {},
   "source": [
    "## TxRouteHandler"
   ]
  },
  {
   "cell_type": "markdown",
   "source": [
    "### initialization"
   ],
   "metadata": {
    "collapsed": false
   }
  },
  {
   "cell_type": "code",
   "execution_count": 10,
   "id": "fc3b6c43",
   "metadata": {
    "collapsed": false,
    "jupyter": {
     "outputs_hidden": false
    },
    "ExecuteTime": {
     "end_time": "2023-05-10T11:13:56.781511800Z",
     "start_time": "2023-05-10T11:13:56.749006600Z"
    }
   },
   "outputs": [
    {
     "name": "stdout",
     "output_type": "stream",
     "text": [
      "Pool(id='170', cid='9868188640707215440437863615521278132401', last_updated='2023-04-26 14:15:33.986717', last_updated_block='17127594', descr='uniswap_v2 USDC-eB48/WETH-6Cc2 0.003', pair_name='USDC-eB48/WETH-6Cc2', exchange_name='uniswap_v2', fee='0.003', tkn0_balance='36261493395747', tkn1_balance='18592465452538740235568', z_0='nan', y_0='nan', A_0='nan', B_0='nan', z_1='nan', y_1='nan', A_1='nan', B_1='nan', sqrt_price_q96='0', tick='nan', tick_spacing='nan', liquidity='nan', address='0xb4e16d0168e52d35cacd2c6185b44281ec28c9dc', anchor='nan', fee_float='0.003')\n",
      "Pool(id='270', cid='10548753374549092367364612830384814555378', last_updated='2023-04-26 14:16:30.692924', last_updated_block='17127583', descr='uniswap_v3 USDC-eB48/WETH-6Cc2 100', pair_name='USDC-eB48/WETH-6Cc2', exchange_name='uniswap_v3', fee='100.0', tkn0_balance='nan', tkn1_balance='nan', z_0='nan', y_0='nan', A_0='nan', B_0='nan', z_1='nan', y_1='nan', A_1='nan', B_1='nan', sqrt_price_q96='1811587141327609493695613156814269', tick='200757', tick_spacing='nan', liquidity='9506444465270431', address='0xE0554a476A092703abdB3Ef35c80e0D76d32939F', anchor='nan', fee_float='0.0001')\n",
      "Pool(id='4', cid='1361129467683753853853498429727072845828', last_updated='2023-04-26 14:17:53.926406', last_updated_block='17130945', descr='carbon_v1 USDC-eB48/DAI-1d0F None', pair_name='USDC-eB48/DAI-1d0F', exchange_name='carbon_v1', fee='0', tkn0_balance='nan', tkn1_balance='nan', z_0='20000000', y_0='20000000', A_0='0', B_0='281334344', z_1='30000000000000000000', y_1='30000000000000000000', A_1='0', B_1='5897800738913900', sqrt_price_q96='0', tick='nan', tick_spacing='nan', liquidity='nan', address='0xC537e898CD774e2dCBa3B14Ea6f34C93d5eA45e1', anchor='nan', fee_float='0.0')\n"
     ]
    }
   ],
   "source": [
    "eth = \"ETH-EEeE\"\n",
    "weth = 'WETH-6Cc2'\n",
    "usdc = 'USDC-eB48'\n",
    "dai = 'DAI-1d0F'\n",
    "link = \"LINK-86CA\"\n",
    "bnt = \"BNT-FF1C\"\n",
    "wbtc =\" WBTC-C599\"\n",
    "\n",
    "tx_route_h = TxRouteHandler(trade_instructions=[ti0, ti1])\n",
    "assert type(tx_route_h).__name__ == \"TxRouteHandler\"\n",
    "assert type(tx_route_h).__bases__[0].__name__ == \"TxRouteHandlerBase\"\n",
    "assert tx_route_h.contains_carbon, \"No orders in route that contain a Carbon order\"\n",
    "assert 6 in tx_route_h.exchange_ids and 3 in tx_route_h.exchange_ids, \"Exchange ids missing from txRouteHandler\"\n",
    "assert tx_route_h.is_weth(tx_route_h.trade_instructions[0].tknout_address), f\"TxRouteHandler is_weth returned: {tx_route_h.is_weth(h.trade_instructions[0].tknout_address)}, expected True\"\n",
    "assert not tx_route_h.is_weth(tx_route_h.trade_instructions[0].tknin_address), f\"TxRouteHandler is_weth returned: {tx_route_h.is_weth(h.trade_instructions[0].tknin_address)}, expected False\"\n",
    "\n",
    "\n",
    "uni_v2_pool = bot.db.get_pool(exchange_name=\"uniswap_v2\", pair_name=f\"{usdc}/{weth}\")\n",
    "uni_v3_pool = bot.db.get_pool(exchange_name=\"uniswap_v3\", pair_name=f\"{usdc}/{weth}\")\n",
    "carbon_pool = bot.db.get_pool(id=\"4\")\n",
    "print(uni_v2_pool)\n",
    "print(uni_v3_pool)\n",
    "print(carbon_pool)\n"
   ]
  },
  {
   "cell_type": "markdown",
   "source": [
    "### custom_data_encoder"
   ],
   "metadata": {
    "collapsed": false
   }
  },
  {
   "cell_type": "code",
   "execution_count": 10,
   "outputs": [],
   "source": [],
   "metadata": {
    "collapsed": false,
    "ExecuteTime": {
     "end_time": "2023-05-10T11:13:56.781511800Z",
     "start_time": "2023-05-10T11:13:56.773007900Z"
    }
   }
  },
  {
   "cell_type": "markdown",
   "source": [
    "### _abi_encode_data"
   ],
   "metadata": {
    "collapsed": false
   }
  },
  {
   "cell_type": "code",
   "execution_count": 10,
   "outputs": [],
   "source": [],
   "metadata": {
    "collapsed": false,
    "ExecuteTime": {
     "end_time": "2023-05-10T11:13:56.812511400Z",
     "start_time": "2023-05-10T11:13:56.778511800Z"
    }
   }
  },
  {
   "cell_type": "markdown",
   "source": [
    "### to_route_struct"
   ],
   "metadata": {
    "collapsed": false
   }
  },
  {
   "cell_type": "code",
   "execution_count": 10,
   "outputs": [],
   "source": [],
   "metadata": {
    "collapsed": false,
    "ExecuteTime": {
     "end_time": "2023-05-10T11:13:56.812511400Z",
     "start_time": "2023-05-10T11:13:56.794511500Z"
    }
   }
  },
  {
   "cell_type": "markdown",
   "source": [
    "### get_route_structs"
   ],
   "metadata": {
    "collapsed": false
   }
  },
  {
   "cell_type": "code",
   "execution_count": 10,
   "outputs": [],
   "source": [],
   "metadata": {
    "collapsed": false,
    "ExecuteTime": {
     "end_time": "2023-05-10T11:13:56.829511400Z",
     "start_time": "2023-05-10T11:13:56.811511100Z"
    }
   }
  },
  {
   "cell_type": "markdown",
   "source": [
    "### get_arb_contract_args"
   ],
   "metadata": {
    "collapsed": false
   }
  },
  {
   "cell_type": "code",
   "execution_count": 10,
   "outputs": [],
   "source": [],
   "metadata": {
    "collapsed": false,
    "ExecuteTime": {
     "end_time": "2023-05-10T11:13:56.860511100Z",
     "start_time": "2023-05-10T11:13:56.826511400Z"
    }
   }
  },
  {
   "cell_type": "markdown",
   "source": [
    "### _get_trade_dicts_from_objects"
   ],
   "metadata": {
    "collapsed": false
   }
  },
  {
   "cell_type": "code",
   "execution_count": 10,
   "outputs": [],
   "source": [],
   "metadata": {
    "collapsed": false,
    "ExecuteTime": {
     "end_time": "2023-05-10T11:13:56.860511100Z",
     "start_time": "2023-05-10T11:13:56.841511300Z"
    }
   }
  },
  {
   "cell_type": "markdown",
   "source": [
    "### _slice_dataframe"
   ],
   "metadata": {
    "collapsed": false
   }
  },
  {
   "cell_type": "code",
   "execution_count": 10,
   "outputs": [],
   "source": [],
   "metadata": {
    "collapsed": false,
    "ExecuteTime": {
     "end_time": "2023-05-10T11:13:56.873512700Z",
     "start_time": "2023-05-10T11:13:56.856511200Z"
    }
   }
  },
  {
   "cell_type": "markdown",
   "source": [
    "### _aggregate_carbon_trades"
   ],
   "metadata": {
    "collapsed": false
   }
  },
  {
   "cell_type": "code",
   "execution_count": 10,
   "outputs": [],
   "source": [],
   "metadata": {
    "collapsed": false,
    "ExecuteTime": {
     "end_time": "2023-05-10T11:13:56.903556Z",
     "start_time": "2023-05-10T11:13:56.873512700Z"
    }
   }
  },
  {
   "cell_type": "markdown",
   "source": [
    "### _find_tradematches"
   ],
   "metadata": {
    "collapsed": false
   }
  },
  {
   "cell_type": "code",
   "execution_count": 10,
   "outputs": [],
   "source": [],
   "metadata": {
    "collapsed": false,
    "ExecuteTime": {
     "end_time": "2023-05-10T11:13:56.903556Z",
     "start_time": "2023-05-10T11:13:56.888555800Z"
    }
   }
  },
  {
   "cell_type": "markdown",
   "source": [
    "### _determine_trade_route"
   ],
   "metadata": {
    "collapsed": false
   }
  },
  {
   "cell_type": "code",
   "execution_count": 10,
   "outputs": [],
   "source": [],
   "metadata": {
    "collapsed": false,
    "ExecuteTime": {
     "end_time": "2023-05-10T11:13:56.919555700Z",
     "start_time": "2023-05-10T11:13:56.904555800Z"
    }
   }
  },
  {
   "cell_type": "markdown",
   "source": [
    "### _extract_route_index"
   ],
   "metadata": {
    "collapsed": false
   }
  },
  {
   "cell_type": "code",
   "execution_count": 10,
   "outputs": [],
   "source": [],
   "metadata": {
    "collapsed": false,
    "ExecuteTime": {
     "end_time": "2023-05-10T11:13:56.946555600Z",
     "start_time": "2023-05-10T11:13:56.919555700Z"
    }
   }
  },
  {
   "cell_type": "markdown",
   "source": [
    "### _find_match_for_tkn"
   ],
   "metadata": {
    "collapsed": false
   }
  },
  {
   "cell_type": "code",
   "execution_count": 10,
   "outputs": [],
   "source": [],
   "metadata": {
    "collapsed": false,
    "ExecuteTime": {
     "end_time": "2023-05-10T11:13:56.950555700Z",
     "start_time": "2023-05-10T11:13:56.935555900Z"
    }
   }
  },
  {
   "cell_type": "markdown",
   "source": [
    "### _find_match_for_amount"
   ],
   "metadata": {
    "collapsed": false
   }
  },
  {
   "cell_type": "code",
   "execution_count": 10,
   "outputs": [],
   "source": [],
   "metadata": {
    "collapsed": false,
    "ExecuteTime": {
     "end_time": "2023-05-10T11:13:56.966885500Z",
     "start_time": "2023-05-10T11:13:56.951555400Z"
    }
   }
  },
  {
   "cell_type": "markdown",
   "source": [
    "### _match_trade"
   ],
   "metadata": {
    "collapsed": false
   }
  },
  {
   "cell_type": "code",
   "execution_count": 10,
   "outputs": [],
   "source": [],
   "metadata": {
    "collapsed": false,
    "ExecuteTime": {
     "end_time": "2023-05-10T11:13:56.984388200Z",
     "start_time": "2023-05-10T11:13:56.966885500Z"
    }
   }
  },
  {
   "cell_type": "markdown",
   "source": [
    "### _reorder_trade_instructions"
   ],
   "metadata": {
    "collapsed": false
   }
  },
  {
   "cell_type": "code",
   "execution_count": 10,
   "outputs": [],
   "source": [],
   "metadata": {
    "collapsed": false,
    "ExecuteTime": {
     "end_time": "2023-05-10T11:13:56.997388400Z",
     "start_time": "2023-05-10T11:13:56.982388200Z"
    }
   }
  },
  {
   "cell_type": "markdown",
   "source": [
    "### _calc_amount0"
   ],
   "metadata": {
    "collapsed": false
   }
  },
  {
   "cell_type": "code",
   "execution_count": 11,
   "outputs": [
    {
     "name": "stdout",
     "output_type": "stream",
     "text": [
      "25457.8000140560945177368565105328349751587320838356105107012448535216043183774\n"
     ]
    }
   ],
   "source": [
    "output_0 = tx_route_h._calc_amount0(liquidity=Decimal(\"1348363493634704558400408\"), sqrt_price_times_q96_upper_bound=Decimal(\"0.06843534083\"), sqrt_price_times_q96_lower_bound=Decimal(\"0.068347030\"))\n",
    "\n",
    "output_0 = output_0 / 10 ** 18\n",
    "\n",
    "assert output_0 == Decimal(\"25457.8000140560945177368565105328349751587320838356105107012448535216043183774\")\n",
    "\n",
    "print(output_0)\n"
   ],
   "metadata": {
    "collapsed": false,
    "ExecuteTime": {
     "end_time": "2023-05-10T11:13:57.030694700Z",
     "start_time": "2023-05-10T11:13:56.997388400Z"
    }
   }
  },
  {
   "cell_type": "markdown",
   "source": [
    "### _calc_amount1"
   ],
   "metadata": {
    "collapsed": false
   }
  },
  {
   "cell_type": "code",
   "execution_count": 12,
   "outputs": [
    {
     "name": "stdout",
     "output_type": "stream",
     "text": [
      "157.3234118558645141718519243384\n",
      "157.3234118558645141718519243384\n"
     ]
    }
   ],
   "source": [
    "output_1 = tx_route_h._calc_amount1(liquidity=Decimal(\"1348363493634704558400408\"), sqrt_price_times_q96_upper_bound=Decimal(\"0.068347030\"), sqrt_price_times_q96_lower_bound=Decimal(\"0.0682303527\"))\n",
    "\n",
    "output_1 = output_1 / 10 ** 18\n",
    "print(output_1)\n",
    "assert output_1 == Decimal(\"157.3234118558645141718519243384\")\n",
    "\n",
    "print(output_1)"
   ],
   "metadata": {
    "collapsed": false,
    "ExecuteTime": {
     "end_time": "2023-05-10T11:13:57.038694700Z",
     "start_time": "2023-05-10T11:13:57.012695Z"
    }
   }
  },
  {
   "cell_type": "markdown",
   "source": [
    "### _swap_token0_in"
   ],
   "metadata": {
    "collapsed": false
   }
  },
  {
   "cell_type": "code",
   "execution_count": 13,
   "outputs": [
    {
     "name": "stdout",
     "output_type": "stream",
     "text": [
      "14.377260218509227592693757452854351158482804004155063037436483467927553041299\n"
     ]
    }
   ],
   "source": [
    "# output = tx_route_h._swap_token0_in(amount_in=1500, fee=Decimal(str(0.0005)), liquidity=21682801670406912856, sqrt_price=1815243913692434944598821307798457, decimal_tkn0_modifier=(10 ** 6), decimal_tkn1_modifier=(10 ** 18))\n",
    "#\n",
    "# assert output == Decimal(\"0.787017121656631605721470122203660429636124661030254977892411102004277246503205\")\n",
    "\n",
    "output = tx_route_h._swap_token0_in(amount_in=Decimal(\"3078.25501\"), fee=Decimal(str(0.003)), liquidity=Decimal(\"1348363493634704558400408\"), sqrt_price=Decimal(\"5415009619043028224542625661\"), decimal_tkn0_modifier=(10 ** 18), decimal_tkn1_modifier=(10 ** 18))\n",
    "\n",
    "print(output)"
   ],
   "metadata": {
    "collapsed": false,
    "ExecuteTime": {
     "end_time": "2023-05-10T11:13:57.046694500Z",
     "start_time": "2023-05-10T11:13:57.030694700Z"
    }
   }
  },
  {
   "cell_type": "markdown",
   "source": [
    "### _swap_token1_in"
   ],
   "metadata": {
    "collapsed": false
   }
  },
  {
   "cell_type": "code",
   "execution_count": 14,
   "outputs": [
    {
     "name": "stdout",
     "output_type": "stream",
     "text": [
      "p_next: 2275400311920317912748219146143704.51437667645366027192586334394618340944309765\n",
      "Equation result = 345195.287008965741371642766077757305211629197487491171137377192722989123651785, calc0 result=5.48279464040681180368126491767056865869299560304693951628808382365486432115838E-53\n",
      "5.48279464040681180368126491767056865869299560304693951628808382365486432115838E-53\n"
     ]
    }
   ],
   "source": [
    "#output = tx_route_h._swap_token1_in(amount_in=150000000, fee=Decimal(str(0.0001)), liquidity=9506444465270431, sqrt_price=1811587141327609493695613156814269, decimal_tkn0_modifier=6, decimal_tkn1_modifier=18)\n",
    "\n",
    "#output = tx_route_h._swap_token0_in(amount_in=15, fee=Decimal(str(0.0001)), liquidity=21682801670406912856, sqrt_price=1815243913692434944598821307798457, decimal_tkn0_modifier=6, decimal_tkn1_modifier=18)\n",
    "\n",
    "output = tx_route_h._swap_token1_in(amount_in=1, fee=Decimal(str(0.0005)), liquidity=21682801670406912856, sqrt_price=1815243913692434944598821307798457, decimal_tkn0_modifier=(10 ** 6), decimal_tkn1_modifier=(10 ** 18))\n",
    "\n",
    "# output = tx_route_h._swap_token1_in(amount_in=Decimal(\"285.332482\"), fee=Decimal(str(0.003)), liquidity=11409346775911475479, sqrt_price=2273430792197267286219846226089276, decimal_tkn0_modifier=(10 ** 6), decimal_tkn1_modifier=(10 ** 18))\n",
    "\n",
    "print(output)\n",
    "\n",
    "# assert output == Decimal(\"1904.01827985910114028399855566943278575800445980081095218118483737888236192664\")\n",
    "\n"
   ],
   "metadata": {
    "collapsed": false,
    "ExecuteTime": {
     "end_time": "2023-05-10T11:13:57.084407Z",
     "start_time": "2023-05-10T11:13:57.045694800Z"
    }
   }
  },
  {
   "cell_type": "markdown",
   "source": [
    "### _calc_uniswap_v3_output"
   ],
   "metadata": {
    "collapsed": false
   }
  },
  {
   "cell_type": "code",
   "execution_count": 15,
   "outputs": [
    {
     "name": "stdout",
     "output_type": "stream",
     "text": [
      "p_next: 1815287717415973207453006056179913.96102253099520922017603783643798073910118279\n",
      "Equation result = 22847.7137123334524360187378293360792737638243166135969554407870432470793481851, calc0 result=3.63803090881932697466580501837579220560018371591576725105370940928974504829913E-54\n"
     ]
    },
    {
     "ename": "AssertionError",
     "evalue": "",
     "output_type": "error",
     "traceback": [
      "\u001B[1;31m---------------------------------------------------------------------------\u001B[0m",
      "\u001B[1;31mAssertionError\u001B[0m                            Traceback (most recent call last)",
      "Cell \u001B[1;32mIn [15], line 8\u001B[0m\n\u001B[0;32m      3\u001B[0m output2 \u001B[38;5;241m=\u001B[39m tx_route_h\u001B[38;5;241m.\u001B[39m_calc_uniswap_v3_output(amount_in\u001B[38;5;241m=\u001B[39mDecimal(\u001B[38;5;124m\"\u001B[39m\u001B[38;5;124m175588.2\u001B[39m\u001B[38;5;124m\"\u001B[39m), fee\u001B[38;5;241m=\u001B[39mDecimal(\u001B[38;5;28mstr\u001B[39m(\u001B[38;5;241m0.0005\u001B[39m)), liquidity\u001B[38;5;241m=\u001B[39m\u001B[38;5;241m21682801670406912856\u001B[39m, sqrt_price\u001B[38;5;241m=\u001B[39m\u001B[38;5;241m1815243913692434944598821307798457\u001B[39m, decimal_tkn0_modifier\u001B[38;5;241m=\u001B[39m(\u001B[38;5;241m10\u001B[39m \u001B[38;5;241m*\u001B[39m\u001B[38;5;241m*\u001B[39m \u001B[38;5;241m6\u001B[39m), decimal_tkn1_modifier\u001B[38;5;241m=\u001B[39m(\u001B[38;5;241m10\u001B[39m \u001B[38;5;241m*\u001B[39m\u001B[38;5;241m*\u001B[39m \u001B[38;5;241m18\u001B[39m), tkn_in\u001B[38;5;241m=\u001B[39musdc, tkn_out\u001B[38;5;241m=\u001B[39mweth, tkn_0_key\u001B[38;5;241m=\u001B[39musdc, tkn_1_key\u001B[38;5;241m=\u001B[39mweth)\n\u001B[0;32m      6\u001B[0m \u001B[38;5;66;03m# assert raises(tx_route_h._calc_uniswap_v3_output(amount_in=Decimal(\"175588.2\"), fee=Decimal(str(0.0005)), liquidity=21682801670406912856, sqrt_price=1815243913692434944598821307798457, decimal_tkn0_modifier=(10 ** 6), decimal_tkn1_modifier=(10 ** 18), tkn_in=usdc, tkn_out=weth, tkn_0_key=usdc, tkn_1_key=wbtc))\u001B[39;00m\n\u001B[1;32m----> 8\u001B[0m \u001B[38;5;28;01massert\u001B[39;00m output1 \u001B[38;5;241m==\u001B[39m Decimal(\u001B[38;5;124m\"\u001B[39m\u001B[38;5;124m22847.7137123334524360187378293360792737638243166135969554407870432470793481851\u001B[39m\u001B[38;5;124m\"\u001B[39m)\n\u001B[0;32m      9\u001B[0m \u001B[38;5;28;01massert\u001B[39;00m output2 \u001B[38;5;241m==\u001B[39m Decimal(\u001B[38;5;124m\"\u001B[39m\u001B[38;5;124m92.1103442689912166293997441597617274701766287855869148507794986726079508489193\u001B[39m\u001B[38;5;124m\"\u001B[39m)\n",
      "\u001B[1;31mAssertionError\u001B[0m: "
     ]
    }
   ],
   "source": [
    "\n",
    "\n",
    "output1 = tx_route_h._calc_uniswap_v3_output(amount_in=12, fee=Decimal(str(0.0005)), liquidity=21682801670406912856, sqrt_price=1815243913692434944598821307798457, decimal_tkn0_modifier=(10 ** 6), decimal_tkn1_modifier=(10 ** 18), tkn_in=weth, tkn_out=usdc, tkn_0_key=usdc, tkn_1_key=weth)\n",
    "\n",
    "output2 = tx_route_h._calc_uniswap_v3_output(amount_in=Decimal(\"175588.2\"), fee=Decimal(str(0.0005)), liquidity=21682801670406912856, sqrt_price=1815243913692434944598821307798457, decimal_tkn0_modifier=(10 ** 6), decimal_tkn1_modifier=(10 ** 18), tkn_in=usdc, tkn_out=weth, tkn_0_key=usdc, tkn_1_key=weth)\n",
    "\n",
    "\n",
    "# assert raises(tx_route_h._calc_uniswap_v3_output(amount_in=Decimal(\"175588.2\"), fee=Decimal(str(0.0005)), liquidity=21682801670406912856, sqrt_price=1815243913692434944598821307798457, decimal_tkn0_modifier=(10 ** 6), decimal_tkn1_modifier=(10 ** 18), tkn_in=usdc, tkn_out=weth, tkn_0_key=usdc, tkn_1_key=wbtc))\n",
    "\n",
    "assert output1 == Decimal(\"22847.7137123334524360187378293360792737638243166135969554407870432470793481851\")\n",
    "assert output2 == Decimal(\"92.1103442689912166293997441597617274701766287855869148507794986726079508489193\")\n",
    "\n"
   ],
   "metadata": {
    "collapsed": false,
    "ExecuteTime": {
     "end_time": "2023-05-10T11:13:57.137407500Z",
     "start_time": "2023-05-10T11:13:57.059900100Z"
    }
   }
  },
  {
   "cell_type": "markdown",
   "source": [
    "### _decodeFloat and decode"
   ],
   "metadata": {
    "collapsed": false
   }
  },
  {
   "cell_type": "code",
   "execution_count": null,
   "outputs": [],
   "source": [
    "# Skipping for now as code is working\n",
    "\n",
    "\n",
    "#A0, B0 =  tx_route_h.decode_decimal_adjustment(Decimal(str(tx_route_h.decode(carbon_pool.A_0))), 18, 6), tx_route_h.decode_decimal_adjustment(Decimal(str(tx_route_h.decode(carbon_pool.B_0))), 18, 6)\n",
    "A0, B0 =  tx_route_h.decode(carbon_pool.A_0), tx_route_h.decode(carbon_pool.B_0) #tx_route_h.decode_decimal_adjustment(Decimal(str(tx_route_h.decode(carbon_pool.B_0))), 18, 6)\n",
    "\n",
    "# Adjusting to Decimal for the test. This is handled by trade functions.\n",
    "B0 = Decimal(str(B0))\n",
    "\n",
    "assert A0 == Decimal(\"0\")\n",
    "assert B0 == Decimal(\"9.995003722451656E-7\")\n",
    "\n",
    "\n"
   ],
   "metadata": {
    "collapsed": false,
    "ExecuteTime": {
     "start_time": "2023-05-10T11:13:57.123407200Z"
    }
   }
  },
  {
   "cell_type": "markdown",
   "source": [
    "### _get_input_trade_by_target_carbon"
   ],
   "metadata": {
    "collapsed": false
   }
  },
  {
   "cell_type": "code",
   "execution_count": null,
   "outputs": [],
   "source": [
    "print(carbon_pool)\n",
    "\n",
    "# Skipping for now as this is used below in get_output_trade_by_source_carbon\n",
    "\n"
   ],
   "metadata": {
    "collapsed": false,
    "ExecuteTime": {
     "start_time": "2023-05-10T11:13:57.129406900Z"
    }
   }
  },
  {
   "cell_type": "markdown",
   "source": [
    "### _get_output_trade_by_source_carbon"
   ],
   "metadata": {
    "collapsed": false
   }
  },
  {
   "cell_type": "code",
   "execution_count": null,
   "outputs": [],
   "source": [
    "tkn0_key = carbon_pool.pair_name.split(\"/\")[0]\n",
    "tkn1_key = carbon_pool.pair_name.split(\"/\")[1]\n",
    "\n",
    "y0, z0 = Decimal(carbon_pool.y_0) / Decimal(\"10\") ** Decimal(str(6)), Decimal(carbon_pool.z_0) / Decimal(\"10\") ** Decimal(str(6)),\n",
    "A0, B0 =  tx_route_h.decode_decimal_adjustment(Decimal(str(tx_route_h.decode(carbon_pool.A_0))), 18, 6), tx_route_h.decode_decimal_adjustment(Decimal(str(tx_route_h.decode(carbon_pool.B_0))), 18, 6)\n",
    "\n",
    "y1, z1 = Decimal(carbon_pool.y_1) / Decimal(\"10\") ** Decimal(str(18)), Decimal(carbon_pool.z_1) / Decimal(\"10\") ** Decimal(str(18)),\n",
    "A1, B1 =  tx_route_h.decode_decimal_adjustment(Decimal(str(tx_route_h.decode(carbon_pool.A_1))), 6, 18), tx_route_h.decode_decimal_adjustment(Decimal(str(tx_route_h.decode(carbon_pool.B_1))), 6, 18)\n",
    "\n",
    "assert y0 == Decimal(\"20\"), f\"y0 calculation error. Expected 20, got: {y0} for curve {carbon_pool}. Probably a token decimal issue.\"\n",
    "assert z0 == Decimal(\"20\"), f\"z0 calculation error. Expected 20, got: {z0} for curve {carbon_pool}. Probably a token decimal issue.\"\n",
    "assert A0 == Decimal(\"0\"), f\"A0 calculation error. Expected 0, got: {A0} for curve {carbon_pool}. Probably a token decimal issue.\"\n",
    "assert B0 == Decimal(\"0.9995003722451656000000\"), f\"B0 calculation error. Expected 0.9995003722451656000000, got: {B0} for curve {carbon_pool}. Probably a token decimal issue.\"\n",
    "assert y1 == Decimal(\"30\"), f\"y0 calculation error. Expected 20, got: {y1} for curve {carbon_pool}. Probably a token decimal issue.\"\n",
    "assert z1 == Decimal(\"30\"), f\"z0 calculation error. Expected 20, got: {z1} for curve {carbon_pool}. Probably a token decimal issue.\"\n",
    "assert A1 == Decimal(\"0\"), f\"A0 calculation error. Expected 0, got: {A1} for curve {carbon_pool}. Probably a token decimal issue.\"\n",
    "assert B1 == Decimal(\"0.9994998749374598\"), f\"B0 calculation error. Expected 0.9995003722451656000000, got: {B1} for curve {carbon_pool}. Probably a token decimal issue.\"\n",
    "\n",
    "\n",
    "# Test putting in a normal trade into curve\n",
    "tkns_in1, tkns_out1 = tx_route_h._get_output_trade_by_source_carbon(y=y0, z=z0, A=A0, B=B0, fee=0.002, tkns_in=12)\n",
    "\n",
    "assert tkns_in1 == Decimal(\"12\"), f\"Tokens in unexpected result, expected 12 got: {tkns_in1}\"\n",
    "assert tkns_out1 == Decimal(\"11.96403590555985781993903135536615936\"), f\"Tokens out unexpected result, expected 11.96403590555985781993903135536615936 got: {tkns_out1}\"\n",
    "\n",
    "# Test putting in more than maximum possible tokens\n",
    "tkns_in2, tkns_out2 = tx_route_h._get_output_trade_by_source_carbon(y=y0, z=z0, A=A0, B=B0, fee=0.002, tkns_in=35)\n",
    "assert tkns_in2 == Decimal(\"20.0200000978508971124688381089495090130576819926368108623102590650634788487027\"), f\"Tokens in unexpected result, expected 20.0200000978508971124688381089495090130576819926368108623102590650634788487027 got: {tkns_in2}\"\n",
    "assert tkns_out2 == Decimal(\"19.960\"), f\"Tokens out unexpected result, expected 19.960 got: {tkns_out2}\"\n",
    "\n",
    "# Test putting in a normal trade into second curve\n",
    "tkns_in3, tkns_out3 = tx_route_h._get_output_trade_by_source_carbon(y=y1, z=z1, A=A1, B=B1, fee=0.002, tkns_in=12)\n",
    "assert tkns_in3 == Decimal(\"12\"), f\"Tokens in unexpected result, expected 12 got: {tkns_in3}\"\n",
    "assert tkns_out3 == Decimal(\"11.96402399999997342332740024875369504\"), f\"Tokens out unexpected result, expected 11.96402399999997342332740024875369504 got: {tkns_out3}\"\n",
    "\n",
    "# Test putting in more than maximum possible tokens into second curve\n",
    "tkns_in4, tkns_out4 = tx_route_h._get_output_trade_by_source_carbon(y=y1, z=z1, A=A1, B=B1, fee=0.002, tkns_in=35)\n",
    "\n",
    "assert tkns_in4 == Decimal(\"30.0300300300300967382108451811838747252089617651151212896828272680233632092172\"), f\"Tokens in unexpected result, expected 30.0300300300300967382108451811838747252089617651151212896828272680233632092172 got: {tkns_in4}\"\n",
    "assert tkns_out4 == Decimal(\"29.940\"), f\"Tokens out unexpected result, expected 29.940 got: {tkns_out4}\"\n",
    "\n"
   ],
   "metadata": {
    "collapsed": false,
    "ExecuteTime": {
     "start_time": "2023-05-10T11:13:57.129406900Z"
    }
   }
  },
  {
   "cell_type": "markdown",
   "source": [
    "### _calc_carbon_output"
   ],
   "metadata": {
    "collapsed": false
   }
  },
  {
   "cell_type": "code",
   "execution_count": null,
   "outputs": [],
   "source": [
    "# print(carbon_pool)\n",
    "#\n",
    "# tkn0_key = carbon_pool.pair_name.split(\"/\")[0]\n",
    "# tkn1_key = carbon_pool.pair_name.split(\"/\")[1]\n",
    "\n",
    "\n",
    "\n",
    "# Test input below max threshold\n",
    "tkns_in1, tkns_out1 = tx_route_h._calc_carbon_output(curve=carbon_pool, tkn_in=usdc, tkn_in_decimals=6 ,tkn_out_decimals=18, amount_in=14.4)\n",
    "\n",
    "assert tkns_in1 == Decimal(str(\"14.4\")), f\"Tkns_in result incorrect - likely a token decimal / decoding error. Expected 14.4, actual: {tkns_in1}\"\n",
    "assert tkns_out1 == Decimal(str(\"14.385599999999968044081042383270976\")), f\"Tkns_out result incorrect - likely a token decimal / decoding error. Expected 14.385599999999968044081042383270976, actual: {tkns_out1}\"\n",
    "\n",
    "# Test input above max threshold\n",
    "tkns_in2, tkns_out2 = tx_route_h._calc_carbon_output(curve=carbon_pool, tkn_in=usdc, tkn_in_decimals=6 ,tkn_out_decimals=18, amount_in=44.3)\n",
    "assert tkns_in2 == Decimal(str(\"30.0300300300300967382108451811838747252089617651151212896828272680233632092172\")), f\"Tkns_in result incorrect - likely a token decimal / decoding error. Expected 30.0300300300300967382108451811838747252089617651151212896828272680233632092172, actual: {tkns_in2}\"\n",
    "assert tkns_out2 == Decimal(str(\"30\")), f\"Tkns_out result incorrect - likely a token decimal / decoding error. Expected 30, actual: {tkns_out2}\"\n",
    "\n",
    "\n"
   ],
   "metadata": {
    "collapsed": false,
    "ExecuteTime": {
     "start_time": "2023-05-10T11:13:57.129406900Z"
    }
   }
  },
  {
   "cell_type": "markdown",
   "source": [
    "### single_trade_result_constant_product"
   ],
   "metadata": {
    "collapsed": false
   }
  },
  {
   "cell_type": "code",
   "execution_count": null,
   "outputs": [],
   "source": [
    "tkn0_amt = tx_route_h._from_wei_to_decimals(tkn0_amt=Decimal(uni_v2_pool.tkn0_balance), tkn0_decimals=6)\n",
    "tkn1_amt = tx_route_h._from_wei_to_decimals(tkn0_amt=Decimal(uni_v2_pool.tkn1_balance), tkn0_decimals=18)\n",
    "fee = uni_v2_pool.fee\n",
    "\n",
    "assert tkn0_amt == Decimal(\"36261493.395747\"), f\"Balance of Uniswap V2 pool id=170 tkn0 changed, expected 36261493.395747, received: {tkn0_amt}\"\n",
    "assert tkn1_amt == Decimal(\"18592.465452538740235568\"), f\"Balance of Uniswap V2 pool id=170 tkn1 changed, expected 18592.465452538740235568, received: {tkn1_amt}\"\n",
    "assert fee == \"0.003\", f\"Fee for Uniswap V2 pool id=170 tkn0 changed, expected 0.003, received: {fee}\"\n",
    "output = tx_route_h.single_trade_result_constant_product(tokens_in=1500, token0_amt=tkn0_amt, token1_amt=tkn1_amt, fee=fee)\n",
    "\n",
    "assert output == Decimal(\"0.766760531344682608637070737092913621544992522112938784489488080993164585482453\")\n",
    "\n",
    "\n"
   ],
   "metadata": {
    "collapsed": false,
    "ExecuteTime": {
     "start_time": "2023-05-10T11:13:57.129406900Z"
    }
   }
  },
  {
   "cell_type": "markdown",
   "source": [
    "### _solve_trade_output"
   ],
   "metadata": {
    "collapsed": false
   }
  },
  {
   "cell_type": "code",
   "execution_count": null,
   "outputs": [],
   "source": [],
   "metadata": {
    "collapsed": false,
    "ExecuteTime": {
     "start_time": "2023-05-10T11:13:57.129406900Z"
    }
   }
  },
  {
   "cell_type": "markdown",
   "source": [
    "### _calculate_trade_outputs"
   ],
   "metadata": {
    "collapsed": false
   }
  },
  {
   "cell_type": "code",
   "execution_count": null,
   "outputs": [],
   "source": [],
   "metadata": {
    "collapsed": false,
    "ExecuteTime": {
     "start_time": "2023-05-10T11:13:57.129406900Z"
    }
   }
  },
  {
   "cell_type": "markdown",
   "source": [
    "### _from_wei_to_decimals"
   ],
   "metadata": {
    "collapsed": false
   }
  },
  {
   "cell_type": "code",
   "execution_count": null,
   "outputs": [],
   "source": [
    "assert tx_route_h._from_wei_to_decimals(tkn0_amt=1000000000000000000, tkn0_decimals=18) == 1, f\"_from_wei_to_decimals error, input: tkn0_amt=1000000000000000000, tkn0_decimals=18, output={tx_route_h._from_wei_to_decimals(tkn0_amt=1000000000000000000, tkn0_decimals=18)}, expected: 1\"\n",
    "assert not tx_route_h._from_wei_to_decimals(tkn0_amt=1000000000000000000, tkn0_decimals=18) == 0.1\n",
    "assert tx_route_h._from_wei_to_decimals(tkn0_amt=500, tkn0_decimals=0) == 500, f\"_from_wei_to_decimals error, input: tkn0_amt=500, tkn0_decimals=0, output={tx_route_h._from_wei_to_decimals(tkn0_amt=1000000000000000000, tkn0_decimals=18)}, expected: 500\"\n",
    "assert not tx_route_h._from_wei_to_decimals(tkn0_amt=500, tkn0_decimals=0) == 50"
   ],
   "metadata": {
    "collapsed": false,
    "ExecuteTime": {
     "start_time": "2023-05-10T11:13:57.129406900Z"
    }
   }
  },
  {
   "cell_type": "markdown",
   "source": [
    "### _cid_to_pool"
   ],
   "metadata": {
    "collapsed": false
   }
  },
  {
   "cell_type": "code",
   "execution_count": null,
   "outputs": [],
   "source": [
    "assert tx_route_h._cid_to_pool(cid=9868188640707215440437863615521278132498, db=bot.db) is not None, \"DB updated? Expected pool at cid 9868188640707215440437863615521278132498\"\n",
    "assert tx_route_h._cid_to_pool(cid=777, db=bot.db) == None, \"DB updated? Expected no pool at cid 777\"\n"
   ],
   "metadata": {
    "collapsed": false,
    "ExecuteTime": {
     "start_time": "2023-05-10T11:13:57.130407100Z"
    }
   }
  },
  {
   "cell_type": "markdown",
   "id": "bb76a75c",
   "metadata": {},
   "source": [
    "## TxHelpers"
   ]
  },
  {
   "cell_type": "code",
   "execution_count": null,
   "id": "808f2ed3-8475-489a-8405-e6eb5c05e996",
   "metadata": {
    "ExecuteTime": {
     "start_time": "2023-05-10T11:13:57.131407Z"
    }
   },
   "outputs": [],
   "source": [
    "h = TxHelpers(ConfigObj=C)\n",
    "assert type(h).__name__ == \"TxHelpers\"\n",
    "assert h.web3.__class__.__name__ == \"Web3\"\n",
    "assert h.web3.isConnected()\n",
    "\n",
    "\n",
    "# This indicates the arb contract is correctly instantiated. These values can change, but the default is 50% rewards for the caller, and 100 BNT max profit.\n",
    "assert h.arb_contract.caller.rewards() == (500000,100000000000000000000)\n",
    "assert len(h.wallet_address) > 2, \"Address not loading. Check that .env file has field ETH_PRIVATE_KEY_BE_CAREFUL\"\n",
    "assert h.get_nonce() >= 0 and type(h.get_nonce()) == int\n",
    "\n",
    "\n",
    "\n",
    "# Tests the database function to get BNT/ETH liquidity for gas calculations. This is now in the _run function that has direct access to the database.\n",
    "pool = (\n",
    "            bot.db.get_pool(exchange_name=bot.ConfigObj.BANCOR_V3_NAME, pair_name='BNT-FF1C/ETH-EEeE')\n",
    "        )\n",
    "bnt_eth = (int(pool.tkn0_balance), int(pool.tkn1_balance))\n",
    "bnt, eth = bnt_eth\n",
    "\n",
    "assert bnt > 100\n",
    "assert eth > 1000\n",
    "\n"
   ]
  },
  {
   "cell_type": "markdown",
   "source": [
    "### Function & API Unit Tests"
   ],
   "metadata": {
    "collapsed": false
   }
  },
  {
   "cell_type": "code",
   "execution_count": null,
   "outputs": [],
   "source": [
    "assert h._get_headers == {\"accept\": \"application/json\", \"content-type\": \"application/json\"}\n",
    "assert h._get_payload(method=\"eth_estimateGas\") ==  {\"id\": 1, \"jsonrpc\": \"2.0\", \"method\": \"eth_estimateGas\", \"params\": None}\n",
    "assert h._get_payload(method=\"eth_sendPrivateTransaction\", params=\"BigArbHunting\") ==  {\"id\": 1, \"jsonrpc\": \"2.0\", \"method\": \"eth_sendPrivateTransaction\", \"params\": \"BigArbHunting\"}\n",
    "assert h._get_payload(method=\"other\") ==  {\"id\": 1, \"jsonrpc\": \"2.0\", \"method\": \"other\"}\n",
    "assert h.get_max_priority_fee_per_gas_alchemy() > 100\n",
    "assert h.get_eth_gas_price_alchemy() > 100\n",
    "\n",
    "assert \"https://eth-mainnet.alchemyapi.io/v2/\" in h._get_alchemy_url\n",
    "\n",
    "tx_boilerplate = h.build_tx(nonce=8, gas_price=1995, max_priority_fee=100)\n",
    "assert tx_boilerplate[\"type\"] == \"0x2\" and tx_boilerplate[\"maxFeePerGas\"] == 1995 and tx_boilerplate[\"maxPriorityFeePerGas\"] == 100 and tx_boilerplate[\"nonce\"] == 8\n",
    "\n",
    "\n",
    "bnt, eth = 15437763684982513550130685,3886561157532864487485\n",
    "gas_price, gas_estimate = 98188186533, 515000\n",
    "\n",
    "assert h.estimate_gas_in_bnt(gas_price=gas_price, gas_estimate=gas_estimate, bnt=bnt, eth=eth) == Decimal(\"200.856250253259717372280939534167761272845814437633248811441035398506141985836\")\n",
    "\n",
    "# Cf = Config()\n",
    "# h = TxHelpers(ConfigObj=Cf)\n",
    "# print(h.get_bnt_tkn_liquidity())\n",
    "\n",
    "\n",
    "bnt, eth = int(bnt_eth[0]), int(bnt_eth[1])\n",
    "\n"
   ],
   "metadata": {
    "collapsed": false,
    "ExecuteTime": {
     "start_time": "2023-05-10T11:13:57.132407Z"
    }
   }
  },
  {
   "cell_type": "markdown",
   "source": [
    "### submit_private_transaction"
   ],
   "metadata": {
    "collapsed": false
   }
  },
  {
   "cell_type": "code",
   "execution_count": null,
   "outputs": [],
   "source": [],
   "metadata": {
    "collapsed": false,
    "ExecuteTime": {
     "start_time": "2023-05-10T11:13:57.132407Z"
    }
   }
  },
  {
   "cell_type": "markdown",
   "source": [
    "### validate_and_submit_transaction"
   ],
   "metadata": {
    "collapsed": false
   }
  },
  {
   "cell_type": "code",
   "execution_count": null,
   "outputs": [],
   "source": [
    "route_struct = [\n",
    "  {'exchangeId': 6,\n",
    "  'targetToken': C.w3.toChecksumAddress('0x2260FAC5E5542a773Aa44fBCfeDf7C193bc2C599'),\n",
    "  'minTargetAmount': 1,\n",
    "  'deadline': 171820341414141144,\n",
    "  'customAddress': C.w3.toChecksumAddress('0x2260FAC5E5542a773Aa44fBCfeDf7C193bc2C599'),\n",
    "  'customInt': 0,\n",
    "  'customData': '0x000000000000000000000000000000000000000000000000000000000000002000000000000000000000000000000000000000000000000000000000000000010000000000000000000000000000000c00000000000000000000000000000048000000000000000000000000000000000000000000000000000000012a05f200'},\n",
    " {'exchangeId': 2,\n",
    "  'targetToken': C.w3.toChecksumAddress('0xA0b86991c6218b36c1d19D4a2e9Eb0cE3606eB48'),\n",
    "  'minTargetAmount': 1,\n",
    "  'deadline': 171820341414141144,\n",
    "  'customAddress': C.w3.toChecksumAddress('0xA0b86991c6218b36c1d19D4a2e9Eb0cE3606eB48'),\n",
    "  'customInt': 0,\n",
    "  'customData': '0x'}\n",
    "]\n",
    "flashloan_token_address =C.w3.toChecksumAddress('0xA0b86991c6218b36c1d19D4a2e9Eb0cE3606eB48')\n",
    "flashloan_amount = 5000000000"
   ],
   "metadata": {
    "collapsed": false,
    "ExecuteTime": {
     "start_time": "2023-05-10T11:13:57.133406900Z"
    }
   }
  },
  {
   "cell_type": "code",
   "execution_count": null,
   "outputs": [],
   "source": [
    "pool = (\n",
    "            bot.db.get_pool(exchange_name=bot.ConfigObj.BANCOR_V3_NAME, pair_name='BNT-FF1C/ETH-EEeE')\n",
    "        )\n",
    "bnt_eth = (int(pool.tkn0_balance), int(pool.tkn1_balance))\n",
    "\n",
    "gas_price, current_max_priority_gas, current_block, nonce = h.validate_and_submit_transaction(route_struct=route_struct, src_amt=flashloan_amount, src_address=flashloan_token_address, expected_profit=profit,bnt_eth=bnt_eth, result=h.XS_API_CALLS)\n",
    "\n",
    "print(f\"Result of API calls: current_gas_price={gas_price}, current_max_priority_gas={current_max_priority_gas}, block_number={current_block}, nonce={nonce}\")\n",
    "assert gas_price > 1000\n",
    "assert current_max_priority_gas > 100\n",
    "assert current_block > 17182034, \"current block is less than the timestamped block\"\n",
    "assert nonce >= 0, \"nonce not found, private key in .env file may need to be configured or added\"\n",
    "\n",
    "\"\"\"\n",
    "Beyond this point it is not possible to test without real data. build_transaction_with_gas fails without a transaction that is expected to succeed.\n",
    "\"\"\"\n",
    "\n",
    "# transaction_built = h.validate_and_submit_transaction(route_struct=arb_data_struct, src_amt=flash_amt, src_address=flash_tkn, expected_profit=profit, result=h.XS_TRANSACTION)\n",
    "#\n",
    "# print(f\"transaction built = {transaction_built}\")\n",
    "#\n",
    "# adj_profit, gas_cost_bnt = h.validate_and_submit_transaction(route_struct=arb_data_struct, src_amt=flash_amt, src_address=flash_tkn, expected_profit=profit, result=h.XS_MIN_PROFIT_CHECK)\n",
    "#\n",
    "# print(f\"adjusted profit = {adj_profit}, gas cost in bnt = {gas_cost_bnt}, transaction will submit? {adj_profit > gas_cost_bnt}\")\n"
   ],
   "metadata": {
    "collapsed": false,
    "ExecuteTime": {
     "start_time": "2023-05-10T11:13:57.134406800Z"
    }
   }
  },
  {
   "cell_type": "code",
   "execution_count": null,
   "id": "eae45283-4584-489b-89b9-10ad2f710eb2",
   "metadata": {
    "ExecuteTime": {
     "start_time": "2023-05-10T11:13:57.134406800Z"
    }
   },
   "outputs": [],
   "source": [
    "help(h)"
   ]
  },
  {
   "cell_type": "markdown",
   "id": "5365d3dc",
   "metadata": {},
   "source": [
    "## TxHelper"
   ]
  },
  {
   "cell_type": "code",
   "execution_count": null,
   "id": "17def562-7482-4ca6-8508-541076a3661e",
   "metadata": {
    "ExecuteTime": {
     "start_time": "2023-05-10T11:13:57.135406800Z"
    }
   },
   "outputs": [],
   "source": [
    "h = TxHelper(ConfigObj=C)\n",
    "assert type(h).__name__ == \"TxHelper\"\n",
    "assert h.w3.__class__.__name__ == \"Web3\"\n",
    "assert h.w3.isConnected()\n",
    "assert h.PRIVATE_KEY\n",
    "assert type(h.COINGECKO_URL) == str\n",
    "# This indicates the arb contract is correctly instantiated. These values can change, but the default is 50% rewards for the caller, and 100 BNT max profit.\n",
    "assert h.arb_contract.caller.rewards() == (500000,100000000000000000000)\n",
    "assert len(h.wallet_address) > 2, \"Address not loading. Check that .env file has field ETH_PRIVATE_KEY_BE_CAREFUL\"\n",
    "assert h.wallet_balance[0] >= 0, \"Wallet balance not loading\"\n",
    "assert h.wei_balance >= 0 and type(h.wei_balance) == int\n",
    "# print(h.ether_balance, type(h.ether_balance))\n",
    "# assert type(h.ether_balance) == float #TODO currently returns Decimal, expected float\n",
    "\n",
    "assert type(h.base_gas_price) == int\n",
    "\n",
    "assert h.ether_price_usd >0\n",
    "assert h.gas_price_gwei >= 0\n",
    "assert h.gas_price_gwei * 1000000000 == h.base_gas_price\n",
    "assert h.nonce >= 0 and type(h.nonce) == int\n",
    "assert h.gas_limit >= 0 # this also tests the function get_gas_limit_from_usd\n",
    "assert h.base_gas_price >=0 # this includes 0 to account for the 0 gas price on Tenderly\n",
    "\n",
    "assert h.deadline > h.w3.eth.getBlock('latest')['timestamp'] + C.DEFAULT_BLOCKTIME_DEVIATION - 1\n",
    "\n",
    "flash_tkn_normal = h.submit_flashloan_arb_tx(arb_data=arb_data_struct, flashloan_token_address=flash_tkn, flashloan_amount=flash_amt, verbose=False, result=h.XS_WETH)\n",
    "flash_tkn_weth = h.submit_flashloan_arb_tx(arb_data=arb_data_struct_weth_test, flashloan_token_address=flash_tkn_weth_test, flashloan_amount=flash_amt_weth_test, verbose=False, result=h.XS_WETH)\n",
    "\n",
    "assert flash_tkn_normal == flash_tkn\n",
    "assert flash_tkn_weth == C.ETH_ADDRESS\n",
    "\n",
    "transaction = h.submit_flashloan_arb_tx(arb_data=arb_data_struct, flashloan_token_address=flash_tkn, flashloan_amount=flash_amt, verbose=False, result=h.XS_TRANSACTION)\n",
    "\n",
    "# TODO these values should change for EIP 1559 style transactions\n",
    "assert transaction['value'] == 0\n",
    "assert transaction['chainId'] >= 0\n",
    "assert transaction['gas'] > 0\n",
    "assert transaction['nonce'] >= 0\n",
    "assert transaction['to'] == C.FASTLANE_CONTRACT_ADDRESS\n",
    "assert transaction['data'] is not None\n",
    "\n",
    "signed_transaction = h.submit_flashloan_arb_tx(arb_data=arb_data_struct, flashloan_token_address=flash_tkn, flashloan_amount=flash_amt, verbose=False, result=h.XS_SIGNED)\n",
    "assert signed_transaction\n",
    "\n"
   ]
  },
  {
   "cell_type": "code",
   "execution_count": null,
   "id": "99184a0b-1573-4f87-b3b7-8ba29144c324",
   "metadata": {
    "ExecuteTime": {
     "start_time": "2023-05-10T11:13:57.135406800Z"
    }
   },
   "outputs": [],
   "source": [
    "help(h)"
   ]
  },
  {
   "cell_type": "code",
   "execution_count": null,
   "id": "02e468a2-3664-40dd-b89b-34263a4cfa62",
   "metadata": {
    "ExecuteTime": {
     "start_time": "2023-05-10T11:13:57.136407Z"
    }
   },
   "outputs": [],
   "source": []
  }
 ],
 "metadata": {
  "jupytext": {
   "encoding": "# -*- coding: utf-8 -*-",
   "formats": "ipynb,py:light"
  },
  "kernelspec": {
   "display_name": "Python 3",
   "language": "python",
   "name": "python3"
  },
  "language_info": {
   "codemirror_mode": {
    "name": "ipython",
    "version": 3
   },
   "file_extension": ".py",
   "mimetype": "text/x-python",
   "name": "python",
   "nbconvert_exporter": "python",
   "pygments_lexer": "ipython3",
   "version": "3.8.8"
  }
 },
 "nbformat": 4,
 "nbformat_minor": 5
}

{
 "cells": [
  {
   "cell_type": "code",
   "execution_count": 41,
   "id": "8f04c50a-67fe-4f09-822d-6ed6e3ac43e4",
   "metadata": {},
   "outputs": [
    {
     "name": "stdout",
     "output_type": "stream",
     "text": [
      "Config v1.0-BETA7 (30/Apr 2023)\n",
      "TradeInstruction v1.0 (01/May/2023)\n",
      "TxReceiptHandler v0.0 (01/May/2023)\n",
      "TxRouteHandler v1.0 (01/May/2023)\n",
      "TxSubmitHandler v1.0 (01/May/2023)\n",
      "TxHelpers v1.0 (01/May/2023)\n",
      "TxHelper v1.0 (01/May/2023)\n",
      "Version = 2.0-BETA4 [requirements >= 2.0 is met]\n"
     ]
    }
   ],
   "source": [
    "from fastlane_bot import Config\n",
    "#from fastlane_bot.tools.cpc import ConstantProductCurve as CPC, CPCContainer\n",
    "from fastlane_bot.helpers import TradeInstruction, TxReceiptHandler, TxRouteHandler, TxSubmitHandler, TxHelpers, TxHelper\n",
    "print(\"{0.__name__} v{0.__VERSION__} ({0.__DATE__})\".format(Config))\n",
    "print(\"{0.__name__} v{0.__VERSION__} ({0.__DATE__})\".format(TradeInstruction))\n",
    "print(\"{0.__name__} v{0.__VERSION__} ({0.__DATE__})\".format(TxReceiptHandler))\n",
    "print(\"{0.__name__} v{0.__VERSION__} ({0.__DATE__})\".format(TxRouteHandler))\n",
    "print(\"{0.__name__} v{0.__VERSION__} ({0.__DATE__})\".format(TxSubmitHandler))\n",
    "print(\"{0.__name__} v{0.__VERSION__} ({0.__DATE__})\".format(TxHelpers))\n",
    "print(\"{0.__name__} v{0.__VERSION__} ({0.__DATE__})\".format(TxHelper))\n",
    "from fastlane_bot.testing import *\n",
    "plt.style.use('seaborn-dark')\n",
    "plt.rcParams['figure.figsize'] = [12,6]\n",
    "from fastlane_bot import __VERSION__\n",
    "require(\"2.0\", __VERSION__)"
   ]
  },
  {
   "cell_type": "markdown",
   "id": "b3f59f14-b91b-4dba-94b0-3d513aaf41c7",
   "metadata": {},
   "source": [
    "# Helpers [NBTest013]"
   ]
  },
  {
   "cell_type": "code",
   "execution_count": 42,
   "id": "638f2c75-7d3d-4cc1-a24b-cf891539da4f",
   "metadata": {},
   "outputs": [],
   "source": [
    "C = Config()"
   ]
  },
  {
   "cell_type": "markdown",
   "id": "7fbae44a",
   "metadata": {},
   "source": [
    "## TradeInstruction"
   ]
  },
  {
   "cell_type": "markdown",
   "id": "bc125a87",
   "metadata": {},
   "source": [
    "## TxReceiptHandler\n",
    "\n",
    "Note: `TxReceiptHandler` is currently a dummy class. No tests to do."
   ]
  },
  {
   "cell_type": "code",
   "execution_count": 43,
   "id": "6bedc229-917b-4ec1-bb01-ce32d2fb229a",
   "metadata": {},
   "outputs": [],
   "source": [
    "h = TxReceiptHandler()\n",
    "assert type(h).__name__ == \"TxReceiptHandler\"\n",
    "assert type(h).__bases__[0].__name__ == \"TxReceiptHandlerBase\""
   ]
  },
  {
   "cell_type": "code",
   "execution_count": 46,
   "id": "b72eccf8-4069-423a-acb2-f615f59d00c5",
   "metadata": {},
   "outputs": [],
   "source": [
    "#help(h)"
   ]
  },
  {
   "cell_type": "markdown",
   "id": "392c4e64",
   "metadata": {},
   "source": [
    "## TxRouteHandler"
   ]
  },
  {
   "cell_type": "code",
   "execution_count": 47,
   "id": "fd28cddd-1b18-4f5f-a639-ec401e246a29",
   "metadata": {},
   "outputs": [
    {
     "ename": "TypeError",
     "evalue": "__init__() missing 3 required positional arguments: 'trade_instructions_dic', 'trade_instructions_df', and 'trade_instructions'",
     "output_type": "error",
     "traceback": [
      "\u001b[0;31m---------------------------------------------------------------------------\u001b[0m",
      "\u001b[0;31mTypeError\u001b[0m                                 Traceback (most recent call last)",
      "\u001b[0;32m<ipython-input-47-bfd8162c1465>\u001b[0m in \u001b[0;36m<module>\u001b[0;34m\u001b[0m\n\u001b[0;32m----> 1\u001b[0;31m \u001b[0mh\u001b[0m \u001b[0;34m=\u001b[0m \u001b[0mTxRouteHandler\u001b[0m\u001b[0;34m(\u001b[0m\u001b[0mConfigObj\u001b[0m\u001b[0;34m=\u001b[0m\u001b[0mC\u001b[0m\u001b[0;34m)\u001b[0m\u001b[0;34m\u001b[0m\u001b[0;34m\u001b[0m\u001b[0m\n\u001b[0m\u001b[1;32m      2\u001b[0m \u001b[0;32massert\u001b[0m \u001b[0mtype\u001b[0m\u001b[0;34m(\u001b[0m\u001b[0mh\u001b[0m\u001b[0;34m)\u001b[0m\u001b[0;34m.\u001b[0m\u001b[0m__name__\u001b[0m \u001b[0;34m==\u001b[0m \u001b[0;34m\"TxRouteHandler\"\u001b[0m\u001b[0;34m\u001b[0m\u001b[0;34m\u001b[0m\u001b[0m\n\u001b[1;32m      3\u001b[0m \u001b[0;32massert\u001b[0m \u001b[0mtype\u001b[0m\u001b[0;34m(\u001b[0m\u001b[0mh\u001b[0m\u001b[0;34m)\u001b[0m\u001b[0;34m.\u001b[0m\u001b[0m__bases__\u001b[0m\u001b[0;34m[\u001b[0m\u001b[0;36m0\u001b[0m\u001b[0;34m]\u001b[0m\u001b[0;34m.\u001b[0m\u001b[0m__name__\u001b[0m \u001b[0;34m==\u001b[0m \u001b[0;34m\"TxRouteHandlerBase\"\u001b[0m\u001b[0;34m\u001b[0m\u001b[0;34m\u001b[0m\u001b[0m\n",
      "\u001b[0;31mTypeError\u001b[0m: __init__() missing 3 required positional arguments: 'trade_instructions_dic', 'trade_instructions_df', and 'trade_instructions'"
     ]
    }
   ],
   "source": [
    "h = TxRouteHandler(ConfigObj=C)\n",
    "assert type(h).__name__ == \"TxRouteHandler\"\n",
    "assert type(h).__bases__[0].__name__ == \"TxRouteHandlerBase\""
   ]
  },
  {
   "cell_type": "code",
   "execution_count": 48,
   "id": "ffb67274-e418-4682-8c65-b22b09288e6c",
   "metadata": {},
   "outputs": [],
   "source": [
    "#help(h)"
   ]
  },
  {
   "cell_type": "markdown",
   "id": "c8bab5e2",
   "metadata": {},
   "source": [
    "## TxSubmitHandler"
   ]
  },
  {
   "cell_type": "code",
   "execution_count": 49,
   "id": "3c79121e-538c-476a-855c-73ad02fb3714",
   "metadata": {},
   "outputs": [],
   "source": [
    "h = TxSubmitHandler(ConfigObj=C)\n",
    "assert type(h).__name__ == \"TxSubmitHandler\"\n",
    "assert type(h).__bases__[0].__name__ == \"TxSubmitHandlerBase\""
   ]
  },
  {
   "cell_type": "code",
   "execution_count": 50,
   "id": "e4cd0caa-4c05-4061-ac7a-fa22bf86e49f",
   "metadata": {},
   "outputs": [
    {
     "name": "stdout",
     "output_type": "stream",
     "text": [
      "Help on TxSubmitHandler in module fastlane_bot.helpers.submithandler object:\n",
      "\n",
      "class TxSubmitHandler(TxSubmitHandlerBase)\n",
      " |  TxSubmitHandler(ConfigObj: fastlane_bot.config.config.Config, route_struct: List[fastlane_bot.helpers.routehandler.RouteStruct] = None, src_amount: int = None, src_address: str = None) -> None\n",
      " |  \n",
      " |  A class that handles the submission of transactions to the blockchain.\n",
      " |  \n",
      " |  Attributes\n",
      " |  ----------\n",
      " |  route_struct: List[str]\n",
      " |      The route structure for a transaction. As required by the `BancorArbitrage` contract.\n",
      " |  src_amount: int\n",
      " |      The source amount for a transaction. (in wei)\n",
      " |  src_address: str\n",
      " |      The source address for a transaction. (checksummed)\n",
      " |  \n",
      " |  Methods\n",
      " |  -------\n",
      " |  _get_deadline(self) -> int:\n",
      " |      Gets the deadline for a transaction.\n",
      " |  _get_transaction(self, tx_details: TxParams) -> TxParams:\n",
      " |      Gets the transaction details for a given transaction.\n",
      " |  _get_transaction_receipt(self, tx_hash: str, timeout: int = DEFAULT_TIMEOUT) -> TransactionReceipt:\n",
      " |      Gets the transaction receipt for a given transaction.\n",
      " |  _get_transaction_receipt_with_timeout(self, tx_hash: str, timeout: int = DEFAULT_TIMEOUT) -> TransactionReceipt:\n",
      " |      Gets the transaction receipt for a given transaction with a timeout.\n",
      " |  \n",
      " |  Method resolution order:\n",
      " |      TxSubmitHandler\n",
      " |      TxSubmitHandlerBase\n",
      " |      builtins.object\n",
      " |  \n",
      " |  Methods defined here:\n",
      " |  \n",
      " |  __eq__(self, other)\n",
      " |  \n",
      " |  __init__(self, ConfigObj: fastlane_bot.config.config.Config, route_struct: List[fastlane_bot.helpers.routehandler.RouteStruct] = None, src_amount: int = None, src_address: str = None) -> None\n",
      " |  \n",
      " |  __post_init__(self)\n",
      " |  \n",
      " |  __repr__(self)\n",
      " |  \n",
      " |  ----------------------------------------------------------------------\n",
      " |  Readonly properties defined here:\n",
      " |  \n",
      " |  headers\n",
      " |  \n",
      " |  ----------------------------------------------------------------------\n",
      " |  Data and other attributes defined here:\n",
      " |  \n",
      " |  __DATE__ = '01/May/2023'\n",
      " |  \n",
      " |  __VERSION__ = '1.0'\n",
      " |  \n",
      " |  __annotations__ = {'ConfigObj': <class 'fastlane_bot.config.config.Con...\n",
      " |  \n",
      " |  __dataclass_fields__ = {'ConfigObj': Field(name='ConfigObj',type=<clas...\n",
      " |  \n",
      " |  __dataclass_params__ = _DataclassParams(init=True,repr=True,eq=True,or...\n",
      " |  \n",
      " |  __hash__ = None\n",
      " |  \n",
      " |  route_struct = None\n",
      " |  \n",
      " |  src_address = None\n",
      " |  \n",
      " |  src_amount = None\n",
      " |  \n",
      " |  ----------------------------------------------------------------------\n",
      " |  Data descriptors inherited from TxSubmitHandlerBase:\n",
      " |  \n",
      " |  __dict__\n",
      " |      dictionary for instance variables (if defined)\n",
      " |  \n",
      " |  __weakref__\n",
      " |      list of weak references to the object (if defined)\n",
      "\n"
     ]
    }
   ],
   "source": [
    "help(h)"
   ]
  },
  {
   "cell_type": "markdown",
   "id": "a8bc5416",
   "metadata": {},
   "source": [
    "## TradeInstruction"
   ]
  },
  {
   "cell_type": "code",
   "execution_count": 51,
   "id": "cbf43706-de84-4219-9799-eb657579a08c",
   "metadata": {},
   "outputs": [
    {
     "ename": "TypeError",
     "evalue": "__init__() missing 5 required positional arguments: 'cid', 'tknin', 'amtin', 'tknout', and 'amtout'",
     "output_type": "error",
     "traceback": [
      "\u001b[0;31m---------------------------------------------------------------------------\u001b[0m",
      "\u001b[0;31mTypeError\u001b[0m                                 Traceback (most recent call last)",
      "\u001b[0;32m<ipython-input-51-1d78b8d70c11>\u001b[0m in \u001b[0;36m<module>\u001b[0;34m\u001b[0m\n\u001b[0;32m----> 1\u001b[0;31m \u001b[0mh\u001b[0m \u001b[0;34m=\u001b[0m \u001b[0mTradeInstruction\u001b[0m\u001b[0;34m(\u001b[0m\u001b[0mConfigObj\u001b[0m\u001b[0;34m=\u001b[0m\u001b[0mC\u001b[0m\u001b[0;34m)\u001b[0m\u001b[0;34m\u001b[0m\u001b[0;34m\u001b[0m\u001b[0m\n\u001b[0m\u001b[1;32m      2\u001b[0m \u001b[0;32massert\u001b[0m \u001b[0mtype\u001b[0m\u001b[0;34m(\u001b[0m\u001b[0mh\u001b[0m\u001b[0;34m)\u001b[0m\u001b[0;34m.\u001b[0m\u001b[0m__name__\u001b[0m \u001b[0;34m==\u001b[0m \u001b[0;34m\"TradeInstruction\"\u001b[0m\u001b[0;34m\u001b[0m\u001b[0;34m\u001b[0m\u001b[0m\n",
      "\u001b[0;31mTypeError\u001b[0m: __init__() missing 5 required positional arguments: 'cid', 'tknin', 'amtin', 'tknout', and 'amtout'"
     ]
    }
   ],
   "source": [
    "h = TradeInstruction(ConfigObj=C)\n",
    "assert type(h).__name__ == \"TradeInstruction\""
   ]
  },
  {
   "cell_type": "code",
   "execution_count": 53,
   "id": "46c93a96-5419-41f6-af70-f88a7deb8808",
   "metadata": {},
   "outputs": [],
   "source": [
    "#help(h)"
   ]
  },
  {
   "cell_type": "markdown",
   "id": "bb76a75c",
   "metadata": {},
   "source": [
    "## TxHelpers"
   ]
  },
  {
   "cell_type": "code",
   "execution_count": 54,
   "id": "808f2ed3-8475-489a-8405-e6eb5c05e996",
   "metadata": {},
   "outputs": [],
   "source": [
    "h = TxHelpers(ConfigObj=C)\n",
    "assert type(h).__name__ == \"TxHelpers\""
   ]
  },
  {
   "cell_type": "code",
   "execution_count": 55,
   "id": "eae45283-4584-489b-89b9-10ad2f710eb2",
   "metadata": {},
   "outputs": [
    {
     "name": "stdout",
     "output_type": "stream",
     "text": [
      "Help on TxHelpers in module fastlane_bot.helpers.txhelpers object:\n",
      "\n",
      "class TxHelpers(builtins.object)\n",
      " |  TxHelpers(ConfigObj: fastlane_bot.config.config.Config) -> None\n",
      " |  \n",
      " |  This class is used to organize web3/brownie transaction tools.\n",
      " |  \n",
      " |  Methods defined here:\n",
      " |  \n",
      " |  __eq__(self, other)\n",
      " |  \n",
      " |  __init__(self, ConfigObj: fastlane_bot.config.config.Config) -> None\n",
      " |  \n",
      " |  __post_init__(self)\n",
      " |  \n",
      " |  __repr__(self)\n",
      " |  \n",
      " |  build_transaction_tenderly(self, routes: List[Dict[str, Any]], src_amt: int, nonce: int)\n",
      " |  \n",
      " |  build_transaction_with_gas(self, routes: List[Dict[str, Any]], src_amt: int, src_address: str, gas_price: int, max_priority: int, nonce: int)\n",
      " |      Builds the transaction to be submitted to the blockchain.\n",
      " |      \n",
      " |      routes: the routes to be used in the transaction\n",
      " |      src_amt: the amount of the source token to be sent to the transaction\n",
      " |      gas_price: the gas price to be used in the transaction\n",
      " |      \n",
      " |      returns: the transaction to be submitted to the blockchain\n",
      " |  \n",
      " |  build_tx(self, nonce: int, gas_price: int = 0, max_priority_fee: int = None) -> Dict[str, Any]\n",
      " |      Builds the transaction to be submitted to the blockchain.\n",
      " |      \n",
      " |      maxFeePerGas: the maximum gas price to be paid for the transaction\n",
      " |      maxPriorityFeePerGas: the maximum miner tip to be given for the transaction\n",
      " |      \n",
      " |      returns: the transaction to be submitted to the blockchain\n",
      " |  \n",
      " |  get_bnt_tkn_liquidity(self) -> Tuple[int, int]\n",
      " |      Return the current liquidity of the Bancor V3 BNT + ETH pool\n",
      " |  \n",
      " |  get_eth_gas_price_alchemy(self)\n",
      " |      Returns an estimated gas price for the upcoming block\n",
      " |  \n",
      " |  get_gas_estimate(self, transaction: web3.types.TxReceipt) -> int\n",
      " |      Returns the estimated gas cost of the transaction\n",
      " |      \n",
      " |      transaction: the transaction to be submitted to the blockchain\n",
      " |      \n",
      " |      returns: the estimated gas cost of the transaction\n",
      " |  \n",
      " |  get_gas_estimate_alchemy(self, params: [])\n",
      " |      :param params: The already-built TX, with the estimated gas price included\n",
      " |  \n",
      " |  get_gas_price(self) -> int\n",
      " |      Returns the current gas price\n",
      " |  \n",
      " |  get_max_priority_fee_per_gas_alchemy(self)\n",
      " |      Queries the Alchemy API to get an estimated max priority fee per gas\n",
      " |  \n",
      " |  get_nonce(self)\n",
      " |      Returns the nonce of the wallet address.\n",
      " |  \n",
      " |  sign_transaction(self, transaction: Dict[str, Any]) -> Dict[str, Any]\n",
      " |      Signs the transaction.\n",
      " |      \n",
      " |      transaction: the transaction to be signed\n",
      " |      \n",
      " |      returns: the signed transaction\n",
      " |  \n",
      " |  submit_private_transaction(self, arb_tx, block_number: int) -> Any\n",
      " |      Submits the transaction privately through Alchemy -> Flashbots RPC to mitigate frontrunning.\n",
      " |      \n",
      " |      :param arb_tx: the transaction to be submitted to the blockchain\n",
      " |      :param block_number: the current block number\n",
      " |      \n",
      " |      returns: The transaction receipt, or None if the transaction failed\n",
      " |  \n",
      " |  submit_transaction(self, arb_tx: str) -> Any\n",
      " |      Submits the transaction to the blockchain.\n",
      " |      \n",
      " |      arb_tx: the transaction to be submitted to the blockchain\n",
      " |      \n",
      " |      returns: the transaction hash of the submitted transaction\n",
      " |  \n",
      " |  validate_and_submit_transaction(self, routes: List[Dict[str, Any]], src_amt: int, src_address: str, expected_profit: decimal.Decimal) -> Union[Dict[str, Any], NoneType]\n",
      " |      Validates and submits a transaction to the arb contract.\n",
      " |      \n",
      " |      Parameters\n",
      " |      ----------\n",
      " |  \n",
      " |  ----------------------------------------------------------------------\n",
      " |  Static methods defined here:\n",
      " |  \n",
      " |  estimate_gas_in_bnt(gas_price: int, gas_estimate: int, bnt: int, eth: int) -> decimal.Decimal\n",
      " |      Converts the expected cost of the transaction into BNT.\n",
      " |      This is for comparing to the minimum profit required for the transaction to ensure that the gas cost isn't\n",
      " |      greater than the profit.\n",
      " |      \n",
      " |      gas_price: the gas price of the transaction\n",
      " |      gas_estimate: the estimated gas cost of the transaction\n",
      " |      bnt: the current BNT liquidity in the Bancor V3 BNT + ETH pool\n",
      " |      eth: the current ETH liquidity in the Bancor V3 BNT + ETH pool\n",
      " |      \n",
      " |      returns: the expected cost of the transaction in BNT\n",
      " |  \n",
      " |  estimate_gas_in_src(gas_price: int, gas_estimate: int, src: int, eth: int) -> decimal.Decimal\n",
      " |  \n",
      " |  get_break_even_gas_price(bnt_profit: int, gas_estimate: int, bnt: int, eth)\n",
      " |      get the maximum gas price which can be used without causing a fiscal loss\n",
      " |      \n",
      " |      bnt_profit: the minimum profit required for the transaction to be profitable\n",
      " |      gas_estimate: the estimated gas cost of the transaction\n",
      " |      bnt: the current BNT liquidity in the Bancor V3 BNT + ETH pool\n",
      " |      eth: the current ETH liquidity in the Bancor V3 BNT + ETH pool\n",
      " |      \n",
      " |      returns: the maximum gas price which can be used without causing a fiscal loss\n",
      " |  \n",
      " |  ----------------------------------------------------------------------\n",
      " |  Data descriptors defined here:\n",
      " |  \n",
      " |  __dict__\n",
      " |      dictionary for instance variables (if defined)\n",
      " |  \n",
      " |  __weakref__\n",
      " |      list of weak references to the object (if defined)\n",
      " |  \n",
      " |  ----------------------------------------------------------------------\n",
      " |  Data and other attributes defined here:\n",
      " |  \n",
      " |  __DATE__ = '01/May/2023'\n",
      " |  \n",
      " |  __VERSION__ = '1.0'\n",
      " |  \n",
      " |  __annotations__ = {'ConfigObj': <class 'fastlane_bot.config.config.Con...\n",
      " |  \n",
      " |  __dataclass_fields__ = {'ConfigObj': Field(name='ConfigObj',type=<clas...\n",
      " |  \n",
      " |  __dataclass_params__ = _DataclassParams(init=True,repr=True,eq=True,or...\n",
      " |  \n",
      " |  __hash__ = None\n",
      " |  \n",
      " |  network = <Network.ETH_MAINNET: 'eth-mainnet'>\n",
      " |  \n",
      " |  transactions_submitted = []\n",
      "\n"
     ]
    }
   ],
   "source": [
    "help(h)"
   ]
  },
  {
   "cell_type": "markdown",
   "id": "5365d3dc",
   "metadata": {},
   "source": [
    "## TxHelper"
   ]
  },
  {
   "cell_type": "code",
   "execution_count": 56,
   "id": "17def562-7482-4ca6-8508-541076a3661e",
   "metadata": {},
   "outputs": [],
   "source": [
    "h = TxHelper(ConfigObj=C)\n",
    "assert type(h).__name__ == \"TxHelper\""
   ]
  },
  {
   "cell_type": "code",
   "execution_count": 57,
   "id": "99184a0b-1573-4f87-b3b7-8ba29144c324",
   "metadata": {},
   "outputs": [
    {
     "name": "stdout",
     "output_type": "stream",
     "text": [
      "Help on TxHelper in module fastlane_bot.helpers.txhelpers object:\n",
      "\n",
      "class TxHelper(builtins.object)\n",
      " |  TxHelper(ConfigObj: fastlane_bot.config.config.Config, usd_gas_limit: float = 20, gas_price_multiplier: float = 1.2) -> None\n",
      " |  \n",
      " |  A class to represent a flashloan arbitrage.\n",
      " |  \n",
      " |  Attributes\n",
      " |  ----------\n",
      " |  usd_gas_limit : float\n",
      " |      The USD gas limit.\n",
      " |  gas_price_multiplier : float\n",
      " |      The gas price multiplier.\n",
      " |  \n",
      " |  Methods defined here:\n",
      " |  \n",
      " |  __eq__(self, other)\n",
      " |  \n",
      " |  __init__(self, ConfigObj: fastlane_bot.config.config.Config, usd_gas_limit: float = 20, gas_price_multiplier: float = 1.2) -> None\n",
      " |  \n",
      " |  __post_init__(self)\n",
      " |  \n",
      " |  __repr__(self)\n",
      " |  \n",
      " |  get_gas_limit_from_usd(self, gas_cost_usd: float) -> int\n",
      " |      Calculate the gas limit based on the desired gas cost in USD.\n",
      " |      \n",
      " |      Args:\n",
      " |          gas_cost_usd (float): The desired gas cost in USD.\n",
      " |      \n",
      " |      Returns:\n",
      " |          int: The calculated gas limit.\n",
      " |  \n",
      " |  submit_flashloan_arb_tx(self, arb_data: List[Dict[str, Any]], flashloan_token_address: str, flashloan_amount: int, verbose: bool = True) -> str\n",
      " |      Submit a flashloan arbitrage transaction.\n",
      " |      \n",
      " |      Parameters\n",
      " |      ----------\n",
      " |      arb_data : List[Dict[str, Any]]\n",
      " |          The arbitrage data.\n",
      " |      flashloan_token_address : str\n",
      " |          The flashloan token address.\n",
      " |      flashloan_amount : int or float\n",
      " |          The flashloan amount.\n",
      " |      verbose : bool, optional\n",
      " |          Whether to print the transaction details, by default True\n",
      " |      \n",
      " |      Returns\n",
      " |      -------\n",
      " |      str\n",
      " |          The transaction hash.\n",
      " |  \n",
      " |  ----------------------------------------------------------------------\n",
      " |  Readonly properties defined here:\n",
      " |  \n",
      " |  base_gas_price\n",
      " |      Get the base gas price from the Web3 instance.\n",
      " |  \n",
      " |  deadline\n",
      " |  \n",
      " |  ether_balance\n",
      " |      Get the wallet balance in Ether.\n",
      " |      \n",
      " |      Returns:\n",
      " |          float: The wallet balance in Ether.\n",
      " |  \n",
      " |  ether_price_usd\n",
      " |      Get the ether price in USD.\n",
      " |  \n",
      " |  gas_limit\n",
      " |  \n",
      " |  gas_price_gwei\n",
      " |      Get the gas price from the Web3 instance (gwei).\n",
      " |  \n",
      " |  nonce\n",
      " |  \n",
      " |  wallet_address\n",
      " |      Get the wallet address.\n",
      " |      \n",
      " |      Returns:\n",
      " |          str: The wallet address.\n",
      " |  \n",
      " |  wallet_balance\n",
      " |      Get the wallet balance in Ether.\n",
      " |      \n",
      " |      Returns:\n",
      " |          float: The wallet balance in Ether.\n",
      " |  \n",
      " |  wei_balance\n",
      " |      Get the wallet balance in Wei.\n",
      " |      \n",
      " |      Returns:\n",
      " |          int: The wallet balance in Wei.\n",
      " |  \n",
      " |  ----------------------------------------------------------------------\n",
      " |  Data descriptors defined here:\n",
      " |  \n",
      " |  __dict__\n",
      " |      dictionary for instance variables (if defined)\n",
      " |  \n",
      " |  __weakref__\n",
      " |      list of weak references to the object (if defined)\n",
      " |  \n",
      " |  ----------------------------------------------------------------------\n",
      " |  Data and other attributes defined here:\n",
      " |  \n",
      " |  __DATE__ = '01/May/2023'\n",
      " |  \n",
      " |  __VERSION__ = '1.0'\n",
      " |  \n",
      " |  __annotations__ = {'ConfigObj': <class 'fastlane_bot.config.config.Con...\n",
      " |  \n",
      " |  __dataclass_fields__ = {'ConfigObj': Field(name='ConfigObj',type=<clas...\n",
      " |  \n",
      " |  __dataclass_params__ = _DataclassParams(init=True,repr=True,eq=True,or...\n",
      " |  \n",
      " |  __hash__ = None\n",
      " |  \n",
      " |  gas_price_multiplier = 1.2\n",
      " |  \n",
      " |  usd_gas_limit = 20\n",
      "\n"
     ]
    }
   ],
   "source": [
    "help(h)"
   ]
  },
  {
   "cell_type": "code",
   "execution_count": null,
   "id": "02e468a2-3664-40dd-b89b-34263a4cfa62",
   "metadata": {},
   "outputs": [],
   "source": []
  }
 ],
 "metadata": {
  "jupytext": {
   "encoding": "# -*- coding: utf-8 -*-",
   "formats": "ipynb,py:light"
  },
  "kernelspec": {
   "display_name": "Python 3",
   "language": "python",
   "name": "python3"
  },
  "language_info": {
   "codemirror_mode": {
    "name": "ipython",
    "version": 3
   },
   "file_extension": ".py",
   "mimetype": "text/x-python",
   "name": "python",
   "nbconvert_exporter": "python",
   "pygments_lexer": "ipython3",
   "version": "3.8.8"
  }
 },
 "nbformat": 4,
 "nbformat_minor": 5
}

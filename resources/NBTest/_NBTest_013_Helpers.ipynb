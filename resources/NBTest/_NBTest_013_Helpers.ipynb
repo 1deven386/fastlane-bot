{
 "cells": [
  {
   "cell_type": "code",
   "execution_count": 0,
   "metadata": {
    "ExecuteTime": {
     "end_time": "2023-05-04T12:23:42.234071300Z",
     "start_time": "2023-05-04T12:23:40.516870400Z"
    },
    "application/vnd.databricks.v1+cell": {
     "cellMetadata": {},
     "inputWidgets": {},
     "nuid": "20e1b3f9-f8b0-4958-830c-b55f0e43605f",
     "showTitle": false,
     "title": ""
    }
   },
   "outputs": [],
   "source": [
    "from fastlane_bot import Config, Bot\n",
    "#from fastlane_bot.tools.cpc import ConstantProductCurve as CPC, CPCContainer\n",
    "from fastlane_bot.helpers import TradeInstruction, TxReceiptHandler, TxRouteHandler, TxSubmitHandler, TxHelpers, TxHelper\n",
    "print(\"{0.__name__} v{0.__VERSION__} ({0.__DATE__})\".format(Config))\n",
    "print(\"{0.__name__} v{0.__VERSION__} ({0.__DATE__})\".format(TradeInstruction))\n",
    "print(\"{0.__name__} v{0.__VERSION__} ({0.__DATE__})\".format(TxReceiptHandler))\n",
    "print(\"{0.__name__} v{0.__VERSION__} ({0.__DATE__})\".format(TxRouteHandler))\n",
    "print(\"{0.__name__} v{0.__VERSION__} ({0.__DATE__})\".format(TxSubmitHandler))\n",
    "print(\"{0.__name__} v{0.__VERSION__} ({0.__DATE__})\".format(TxHelpers))\n",
    "print(\"{0.__name__} v{0.__VERSION__} ({0.__DATE__})\".format(TxHelper))\n",
    "from fastlane_bot.testing import *\n",
    "plt.style.use('seaborn-dark')\n",
    "plt.rcParams['figure.figsize'] = [12,6]\n",
    "from fastlane_bot import __VERSION__\n",
    "require(\"2.0\", __VERSION__)"
   ]
  },
  {
   "cell_type": "markdown",
   "metadata": {
    "application/vnd.databricks.v1+cell": {
     "cellMetadata": {},
     "inputWidgets": {},
     "nuid": "219bab93-6afe-42af-b81a-85fd39fbdd02",
     "showTitle": false,
     "title": ""
    }
   },
   "source": [
    "# Helpers [NBTest013]"
   ]
  },
  {
   "cell_type": "code",
   "execution_count": 0,
   "metadata": {
    "ExecuteTime": {
     "end_time": "2023-05-04T12:23:45.903886500Z",
     "start_time": "2023-05-04T12:23:42.237071400Z"
    },
    "application/vnd.databricks.v1+cell": {
     "cellMetadata": {},
     "inputWidgets": {},
     "nuid": "f3f75304-0936-4a1b-a713-a878e8bfa85f",
     "showTitle": false,
     "title": ""
    }
   },
   "outputs": [],
   "source": [
    "# C = Config()\n",
    "C = Config.new(config=Config.CONFIG_UNITTEST)\n",
    "bot = Bot(ConfigObj=C)\n",
    "\n",
    "arb_data_struct = [{'exchangeId': 6,\n",
    "  'targetToken': '0xEeeeeEeeeEeEeeEeEeEeeEEEeeeeEeeeeeeeEEeE',\n",
    "  'minTargetAmount': 1,\n",
    "  'deadline': 1683013903,\n",
    "  'customAddress': '0xC02aaA39b223FE8D0A0e5C4F27eAD9083C756Cc2',\n",
    "  'customInt': 0,\n",
    "  'customData': '0x00000000000000000000000000000000000000000000000000000000000000200000000000000000000000000000000000000000000000000000000000000001000000000000000000000000000000050000000000000000000000000000000500000000000000000000000000000000000000000000000000000004a9dfd4e6'},\n",
    " {'exchangeId': 4,\n",
    "  'targetToken': '0xA0b86991c6218b36c1d19D4a2e9Eb0cE3606eB48',\n",
    "  'minTargetAmount': 1,\n",
    "  'deadline': 1683013903,\n",
    "  'customAddress': '0xA0b86991c6218b36c1d19D4a2e9Eb0cE3606eB48',\n",
    "  'customInt': 100,\n",
    "  'customData': '0x'}]\n",
    "flash_tkn = '0xA0b86991c6218b36c1d19D4a2e9Eb0cE3606eB48'\n",
    "flash_amt = 20029887718\n",
    "profit = 19348 # totally made up!\n",
    "\n",
    "arb_data_struct_weth_test = [{'exchangeId': 4,\n",
    "  'targetToken': '0xA0b86991c6218b36c1d19D4a2e9Eb0cE3606eB48',\n",
    "  'minTargetAmount': 1,\n",
    "  'deadline': 1683013903,\n",
    "  'customAddress': '0xA0b86991c6218b36c1d19D4a2e9Eb0cE3606eB48',\n",
    "  'customInt': 100,\n",
    "  'customData': '0x'}, {'exchangeId': 6,\n",
    "  'targetToken': '0xEeeeeEeeeEeEeeEeEeEeeEEEeeeeEeeeeeeeEEeE',\n",
    "  'minTargetAmount': 1,\n",
    "  'deadline': 1683013903,\n",
    "  'customAddress': '0xC02aaA39b223FE8D0A0e5C4F27eAD9083C756Cc2',\n",
    "  'customInt': 0,\n",
    "  'customData': '0x00000000000000000000000000000000000000000000000000000000000000200000000000000000000000000000000000000000000000000000000000000001000000000000000000000000000000050000000000000000000000000000000500000000000000000000000000000000000000000000000000000004a9dfd4e6'}]\n",
    "flash_tkn_weth_test = '0xC02aaA39b223FE8D0A0e5C4F27eAD9083C756Cc2'\n",
    "flash_amt_weth_test = 20029887718"
   ]
  },
  {
   "cell_type": "markdown",
   "metadata": {
    "application/vnd.databricks.v1+cell": {
     "cellMetadata": {},
     "inputWidgets": {},
     "nuid": "bf7c4ff3-05df-4f3f-bdb4-71fafc2bb75f",
     "showTitle": false,
     "title": ""
    }
   },
   "source": [
    "## TradeInstruction"
   ]
  },
  {
   "cell_type": "markdown",
   "metadata": {
    "application/vnd.databricks.v1+cell": {
     "cellMetadata": {},
     "inputWidgets": {},
     "nuid": "7210b213-1f53-4a50-888a-dc1145cfc594",
     "showTitle": false,
     "title": ""
    }
   },
   "source": [
    "## TxReceiptHandler\n",
    "\n",
    "Note: `TxReceiptHandler` is currently a dummy class. No tests to do."
   ]
  },
  {
   "cell_type": "code",
   "execution_count": 0,
   "metadata": {
    "ExecuteTime": {
     "end_time": "2023-05-04T12:23:45.917886500Z",
     "start_time": "2023-05-04T12:23:45.902886600Z"
    },
    "application/vnd.databricks.v1+cell": {
     "cellMetadata": {},
     "inputWidgets": {},
     "nuid": "f96c3090-18f6-4657-b55f-719b308fd184",
     "showTitle": false,
     "title": ""
    }
   },
   "outputs": [],
   "source": [
    "h = TxReceiptHandler()\n",
    "assert type(h).__name__ == \"TxReceiptHandler\"\n",
    "assert type(h).__bases__[0].__name__ == \"TxReceiptHandlerBase\""
   ]
  },
  {
   "cell_type": "code",
   "execution_count": 0,
   "metadata": {
    "ExecuteTime": {
     "end_time": "2023-05-04T12:23:45.934886700Z",
     "start_time": "2023-05-04T12:23:45.917886500Z"
    },
    "application/vnd.databricks.v1+cell": {
     "cellMetadata": {},
     "inputWidgets": {},
     "nuid": "ee4719cc-3d32-4ed6-9358-a35e5f3cab40",
     "showTitle": false,
     "title": ""
    }
   },
   "outputs": [],
   "source": [
    "#help(h)"
   ]
  },
  {
   "cell_type": "code",
   "execution_count": 0,
   "metadata": {
    "ExecuteTime": {
     "end_time": "2023-05-04T12:23:45.952888300Z",
     "start_time": "2023-05-04T12:23:45.934886700Z"
    },
    "application/vnd.databricks.v1+cell": {
     "cellMetadata": {},
     "inputWidgets": {},
     "nuid": "3a447d62-52b7-49e4-8b3e-b6460ec90f29",
     "showTitle": false,
     "title": ""
    }
   },
   "outputs": [],
   "source": [
    "#help(h)"
   ]
  },
  {
   "cell_type": "markdown",
   "metadata": {
    "application/vnd.databricks.v1+cell": {
     "cellMetadata": {},
     "inputWidgets": {},
     "nuid": "3a6f2ca7-a872-4a7d-a85c-4476c79e1703",
     "showTitle": false,
     "title": ""
    }
   },
   "source": [
    "## TxSubmitHandler"
   ]
  },
  {
   "cell_type": "code",
   "execution_count": 0,
   "metadata": {
    "ExecuteTime": {
     "end_time": "2023-05-04T12:23:45.973392Z",
     "start_time": "2023-05-04T12:23:45.948888400Z"
    },
    "application/vnd.databricks.v1+cell": {
     "cellMetadata": {},
     "inputWidgets": {},
     "nuid": "0b981fdc-5a55-4f6f-982e-8bcec94ca8c1",
     "showTitle": false,
     "title": ""
    }
   },
   "outputs": [],
   "source": [
    "h = TxSubmitHandler(ConfigObj=C)\n",
    "assert type(h).__name__ == \"TxSubmitHandler\"\n",
    "assert type(h).__bases__[0].__name__ == \"TxSubmitHandlerBase\""
   ]
  },
  {
   "cell_type": "code",
   "execution_count": 0,
   "metadata": {
    "ExecuteTime": {
     "end_time": "2023-05-04T12:23:45.983392300Z",
     "start_time": "2023-05-04T12:23:45.964392100Z"
    },
    "application/vnd.databricks.v1+cell": {
     "cellMetadata": {},
     "inputWidgets": {},
     "nuid": "1f31ded4-85a3-4204-b99d-9813ba92234b",
     "showTitle": false,
     "title": ""
    }
   },
   "outputs": [],
   "source": [
    "help(h)"
   ]
  },
  {
   "cell_type": "markdown",
   "metadata": {
    "application/vnd.databricks.v1+cell": {
     "cellMetadata": {},
     "inputWidgets": {},
     "nuid": "765a9b08-9c72-4f67-93a6-7ace81d55c89",
     "showTitle": false,
     "title": ""
    }
   },
   "source": [
    "## TradeInstruction"
   ]
  },
  {
   "cell_type": "code",
   "execution_count": 0,
   "metadata": {
    "ExecuteTime": {
     "end_time": "2023-05-04T12:23:46.023391700Z",
     "start_time": "2023-05-04T12:23:45.980392200Z"
    },
    "application/vnd.databricks.v1+cell": {
     "cellMetadata": {},
     "inputWidgets": {},
     "nuid": "b497f994-f72a-41f9-8133-6116c6696ef6",
     "showTitle": false,
     "title": ""
    }
   },
   "outputs": [],
   "source": [
    "ti0 = TradeInstruction(ConfigObj=C, cid='1701411834604692317316873037158841057285-1', tknin=\"USDC-eB48\", amtin=20029.887718107937, tknout='WETH-6Cc2', amtout=-10.0, db=bot.db)\n",
    "ti1 = TradeInstruction(ConfigObj=C, cid='10548753374549092367364612830384814555378', tknin=\"WETH-6Cc2\", amtin=9.899999894800894, tknout='USDC-eB48', amtout=-20977.111871615052, db=bot.db, exchange_override=\"uniswap_v2\")\n",
    "assert type(ti0).__name__ == \"TradeInstruction\"\n",
    "assert type(ti1).__name__ == \"TradeInstruction\"\n",
    "assert ti0.tknin_key == \"USDC-eB48\"\n",
    "assert ti0.tknout_key == 'WETH-6Cc2'\n",
    "assert ti0.is_carbon == True, \"The first order is a Carbon order\"\n",
    "assert ti1.is_carbon == False, \"The second order is not a Carbon order\"\n",
    "assert type(ti0._amtin_wei) == int, f\"_amtin_wei is of type: {type(ti0._amtin_wei)}, expected int\"\n",
    "assert type(ti0._amtout_wei) == int, f\"_amtout_wei is of type: {type(ti0._amtout_wei)}, expected int\"\n",
    "assert type(ti0._amtin_quantized) == Decimal, f\"_amtin_quantized returning wrong type: {type(ti0._amtin_quantized)}, expected Decimal\"\n",
    "assert ti0._amtin_quantized > 0, f\"_amtin_quantized = {ti0._amtout_quantized}, expected a positive number in\"\n",
    "assert type(ti0._amtout_quantized) == Decimal, f\"_amtin_quantized returning wrong type: {type(ti1._amtin_quantized)}, expected Decimal\"\n",
    "assert ti0._amtout_quantized < 0, f\"_amtin_quantized = {ti0._amtout_quantized}, expected a negative number out\"\n",
    "assert ti0.exchange_id == 6, f\"wrong exchange id for ti0: {ti0.exchange_id}, expected 6\"\n",
    "assert ti1.exchange_id == 3, f\"wrong exchange id for ti1: {ti1.exchange_id}, expected 3\"\n",
    "assert ti0.exchange_name == C.CARBON_V1_NAME, f\"wrong exchange name for ti0: {ti0.exchange_name}, expected {C.CARBON_V1_NAME}\"\n",
    "assert ti1.exchange_name == C.UNISWAP_V2_NAME, f\"wrong exchange name for ti1: {ti1.exchange_name}, expected {C.UNISWAP_V2_NAME}\"\n",
    "assert str(ti0._tknin_address) == \"0xA0b86991c6218b36c1d19D4a2e9Eb0cE3606eB48\", f\"wrong token in address for ti0: {ti0._tknin_address}, expected: 0xA0b86991c6218b36c1d19D4a2e9Eb0cE3606eB48\"\n",
    "assert str(ti0._tknout_address) == \"0xC02aaA39b223FE8D0A0e5C4F27eAD9083C756Cc2\", f\"wrong token in address for ti0: {ti1._tknin_address}, expected: 0xC02aaA39b223FE8D0A0e5C4F27eAD9083C756Cc2\"\n",
    "assert ti0._tknin_decimals == 6, f\"wrong decimals for ti0 in: {ti0._tknin_decimals}, expected 6\"\n",
    "assert ti0._tknout_decimals == 18, f\"wrong decimals for ti0 out: {ti0._tknout_decimals}, expected 18\"\n",
    "assert ti0._tknin_address != ti1._tknin_address, f\"ti0 tknin address == ti1 tkin address, order mismatch!\"\n",
    "assert ti0._tknout_address != ti1._tknout_address, f\"ti0 tknout address == ti1 tkout address, order mismatch!\"\n",
    "assert ti0.raw_txs == \"[]\", \"ti0 raw tx should not be populated yet\"\n",
    "assert ti1.raw_txs == \"[]\", \"ti1 raw tx should not be populated yet\"\n"
   ]
  },
  {
   "cell_type": "code",
   "execution_count": 0,
   "metadata": {
    "ExecuteTime": {
     "end_time": "2023-05-04T12:23:46.033391600Z",
     "start_time": "2023-05-04T12:23:45.995391900Z"
    },
    "application/vnd.databricks.v1+cell": {
     "cellMetadata": {},
     "inputWidgets": {},
     "nuid": "1453a303-5e87-481a-9cb2-23cc6226e562",
     "showTitle": false,
     "title": ""
    }
   },
   "outputs": [],
   "source": [
    "#help(h)"
   ]
  },
  {
   "cell_type": "markdown",
   "metadata": {
    "application/vnd.databricks.v1+cell": {
     "cellMetadata": {},
     "inputWidgets": {},
     "nuid": "a488da62-4223-4c6e-a1f9-246461a21ea5",
     "showTitle": false,
     "title": ""
    }
   },
   "source": [
    "## TxRouteHandler"
   ]
  },
  {
   "cell_type": "markdown",
   "metadata": {
    "application/vnd.databricks.v1+cell": {
     "cellMetadata": {},
     "inputWidgets": {},
     "nuid": "aaa1aca8-7a8a-4139-8446-9f44f8e4c705",
     "showTitle": false,
     "title": ""
    },
    "collapsed": false
   },
   "source": [
    "### initialization"
   ]
  },
  {
   "cell_type": "code",
   "execution_count": 0,
   "metadata": {
    "ExecuteTime": {
     "end_time": "2023-05-04T12:23:46.033391600Z",
     "start_time": "2023-05-04T12:23:46.023391700Z"
    },
    "application/vnd.databricks.v1+cell": {
     "cellMetadata": {},
     "inputWidgets": {},
     "nuid": "52573437-3861-4369-98b6-4539e40e290c",
     "showTitle": false,
     "title": ""
    },
    "collapsed": false,
    "jupyter": {
     "outputs_hidden": false
    }
   },
   "outputs": [],
   "source": [
    "eth = \"ETH-EEeE\"\n",
    "weth = 'WETH-6Cc2'\n",
    "usdc = 'USDC-eB48'\n",
    "dai = 'DAI-1d0F'\n",
    "link = \"LINK-86CA\"\n",
    "bnt = \"BNT-FF1C\"\n",
    "wbtc =\" WBTC-C599\"\n",
    "\n",
    "tx_route_h = TxRouteHandler(trade_instructions=[ti0, ti1])\n",
    "assert type(tx_route_h).__name__ == \"TxRouteHandler\"\n",
    "assert type(tx_route_h).__bases__[0].__name__ == \"TxRouteHandlerBase\"\n",
    "assert tx_route_h.contains_carbon, \"No orders in route that contain a Carbon order\"\n",
    "assert 6 in tx_route_h.exchange_ids and 3 in tx_route_h.exchange_ids, \"Exchange ids missing from txRouteHandler\"\n",
    "assert tx_route_h.is_weth(tx_route_h.trade_instructions[0].tknout_address), f\"TxRouteHandler is_weth returned: {tx_route_h.is_weth(h.trade_instructions[0].tknout_address)}, expected True\"\n",
    "assert not tx_route_h.is_weth(tx_route_h.trade_instructions[0].tknin_address), f\"TxRouteHandler is_weth returned: {tx_route_h.is_weth(h.trade_instructions[0].tknin_address)}, expected False\"\n",
    "\n",
    "\n",
    "uni_v2_pool = bot.db.get_pool(exchange_name=\"uniswap_v2\", pair_name=f\"{usdc}/{weth}\")\n",
    "uni_v3_pool = bot.db.get_pool(exchange_name=\"uniswap_v3\", pair_name=f\"{usdc}/{weth}\")\n",
    "carbon_pool = bot.db.get_pool(id=\"4\")\n",
    "print(uni_v2_pool)\n",
    "print(uni_v3_pool)\n",
    "print(carbon_pool)\n"
   ]
  },
  {
   "cell_type": "markdown",
   "metadata": {
    "application/vnd.databricks.v1+cell": {
     "cellMetadata": {},
     "inputWidgets": {},
     "nuid": "440f57af-adca-421f-9fad-542c51fea9ca",
     "showTitle": false,
     "title": ""
    },
    "collapsed": false
   },
   "source": [
    "### custom_data_encoder"
   ]
  },
  {
   "cell_type": "code",
   "execution_count": 0,
   "metadata": {
    "ExecuteTime": {
     "end_time": "2023-05-04T12:23:46.042393Z",
     "start_time": "2023-05-04T12:23:46.027391800Z"
    },
    "application/vnd.databricks.v1+cell": {
     "cellMetadata": {},
     "inputWidgets": {},
     "nuid": "9f9c8127-2e78-4b72-92e1-a255ee1a913b",
     "showTitle": false,
     "title": ""
    },
    "collapsed": false
   },
   "outputs": [],
   "source": []
  },
  {
   "cell_type": "markdown",
   "metadata": {
    "application/vnd.databricks.v1+cell": {
     "cellMetadata": {},
     "inputWidgets": {},
     "nuid": "78076eb4-d85f-4d86-ab2f-a6d665649127",
     "showTitle": false,
     "title": ""
    },
    "collapsed": false
   },
   "source": [
    "### _abi_encode_data"
   ]
  },
  {
   "cell_type": "code",
   "execution_count": 0,
   "metadata": {
    "ExecuteTime": {
     "end_time": "2023-05-04T12:23:46.077896900Z",
     "start_time": "2023-05-04T12:23:46.043393100Z"
    },
    "application/vnd.databricks.v1+cell": {
     "cellMetadata": {},
     "inputWidgets": {},
     "nuid": "dcdae431-cdf8-485f-a00c-6a5ed8b7832f",
     "showTitle": false,
     "title": ""
    },
    "collapsed": false
   },
   "outputs": [],
   "source": []
  },
  {
   "cell_type": "markdown",
   "metadata": {
    "application/vnd.databricks.v1+cell": {
     "cellMetadata": {},
     "inputWidgets": {},
     "nuid": "a80633f1-a84a-4f7d-9236-3b580cc4a7a5",
     "showTitle": false,
     "title": ""
    },
    "collapsed": false
   },
   "source": [
    "### to_route_struct"
   ]
  },
  {
   "cell_type": "code",
   "execution_count": 0,
   "metadata": {
    "ExecuteTime": {
     "end_time": "2023-05-04T12:23:46.077896900Z",
     "start_time": "2023-05-04T12:23:46.063897600Z"
    },
    "application/vnd.databricks.v1+cell": {
     "cellMetadata": {},
     "inputWidgets": {},
     "nuid": "5c1457b5-8d7a-47cb-87ab-0dab83b670fa",
     "showTitle": false,
     "title": ""
    },
    "collapsed": false
   },
   "outputs": [],
   "source": []
  },
  {
   "cell_type": "markdown",
   "metadata": {
    "application/vnd.databricks.v1+cell": {
     "cellMetadata": {},
     "inputWidgets": {},
     "nuid": "3eefd246-05af-4587-a110-46c4e12d57ee",
     "showTitle": false,
     "title": ""
    },
    "collapsed": false
   },
   "source": [
    "### get_route_structs"
   ]
  },
  {
   "cell_type": "code",
   "execution_count": 0,
   "metadata": {
    "ExecuteTime": {
     "end_time": "2023-05-04T12:23:46.107896900Z",
     "start_time": "2023-05-04T12:23:46.075897300Z"
    },
    "application/vnd.databricks.v1+cell": {
     "cellMetadata": {},
     "inputWidgets": {},
     "nuid": "fb801636-ab31-453e-931b-314a46e5e917",
     "showTitle": false,
     "title": ""
    },
    "collapsed": false
   },
   "outputs": [],
   "source": []
  },
  {
   "cell_type": "markdown",
   "metadata": {
    "application/vnd.databricks.v1+cell": {
     "cellMetadata": {},
     "inputWidgets": {},
     "nuid": "65c5db72-aa23-418c-ac57-265857e4fb24",
     "showTitle": false,
     "title": ""
    },
    "collapsed": false
   },
   "source": [
    "### get_arb_contract_args"
   ]
  },
  {
   "cell_type": "code",
   "execution_count": 0,
   "metadata": {
    "ExecuteTime": {
     "end_time": "2023-05-04T12:23:46.143900100Z",
     "start_time": "2023-05-04T12:23:46.089898200Z"
    },
    "application/vnd.databricks.v1+cell": {
     "cellMetadata": {},
     "inputWidgets": {},
     "nuid": "ffa0c804-0d8e-426e-93c6-a3b4e28b59eb",
     "showTitle": false,
     "title": ""
    },
    "collapsed": false
   },
   "outputs": [],
   "source": []
  },
  {
   "cell_type": "markdown",
   "metadata": {
    "application/vnd.databricks.v1+cell": {
     "cellMetadata": {},
     "inputWidgets": {},
     "nuid": "65f69d03-cdd4-4549-a513-7f28f230bb74",
     "showTitle": false,
     "title": ""
    },
    "collapsed": false
   },
   "source": [
    "### _get_trade_dicts_from_objects"
   ]
  },
  {
   "cell_type": "code",
   "execution_count": 0,
   "metadata": {
    "ExecuteTime": {
     "end_time": "2023-05-04T12:23:46.143900100Z",
     "start_time": "2023-05-04T12:23:46.107896900Z"
    },
    "application/vnd.databricks.v1+cell": {
     "cellMetadata": {},
     "inputWidgets": {},
     "nuid": "f1e6dbe0-0127-4f20-8d7b-2fd0cb157a11",
     "showTitle": false,
     "title": ""
    },
    "collapsed": false
   },
   "outputs": [],
   "source": []
  },
  {
   "cell_type": "markdown",
   "metadata": {
    "application/vnd.databricks.v1+cell": {
     "cellMetadata": {},
     "inputWidgets": {},
     "nuid": "ba8399f9-d630-4c4a-af6b-a8f3b227c77f",
     "showTitle": false,
     "title": ""
    },
    "collapsed": false
   },
   "source": [
    "### _slice_dataframe"
   ]
  },
  {
   "cell_type": "code",
   "execution_count": 0,
   "metadata": {
    "ExecuteTime": {
     "end_time": "2023-05-04T12:23:46.143900100Z",
     "start_time": "2023-05-04T12:23:46.121897200Z"
    },
    "application/vnd.databricks.v1+cell": {
     "cellMetadata": {},
     "inputWidgets": {},
     "nuid": "6f5e035d-8737-41df-9631-c3c1f3221eab",
     "showTitle": false,
     "title": ""
    },
    "collapsed": false
   },
   "outputs": [],
   "source": []
  },
  {
   "cell_type": "markdown",
   "metadata": {
    "application/vnd.databricks.v1+cell": {
     "cellMetadata": {},
     "inputWidgets": {},
     "nuid": "1e7f31b3-7366-4eb5-abf7-59b980c8110f",
     "showTitle": false,
     "title": ""
    },
    "collapsed": false
   },
   "source": [
    "### _aggregate_carbon_trades"
   ]
  },
  {
   "cell_type": "code",
   "execution_count": 0,
   "metadata": {
    "ExecuteTime": {
     "end_time": "2023-05-04T12:23:46.151900400Z",
     "start_time": "2023-05-04T12:23:46.137897600Z"
    },
    "application/vnd.databricks.v1+cell": {
     "cellMetadata": {},
     "inputWidgets": {},
     "nuid": "0a566bc2-a67c-433f-bf42-f4e2dd45c25f",
     "showTitle": false,
     "title": ""
    },
    "collapsed": false
   },
   "outputs": [],
   "source": []
  },
  {
   "cell_type": "markdown",
   "metadata": {
    "application/vnd.databricks.v1+cell": {
     "cellMetadata": {},
     "inputWidgets": {},
     "nuid": "697d5e3d-cea3-47f3-be0e-e643c271c7f5",
     "showTitle": false,
     "title": ""
    },
    "collapsed": false
   },
   "source": [
    "### _find_tradematches"
   ]
  },
  {
   "cell_type": "code",
   "execution_count": 0,
   "metadata": {
    "ExecuteTime": {
     "end_time": "2023-05-04T12:23:46.192950800Z",
     "start_time": "2023-05-04T12:23:46.151900400Z"
    },
    "application/vnd.databricks.v1+cell": {
     "cellMetadata": {},
     "inputWidgets": {},
     "nuid": "fdc60554-cfe6-4b72-9bec-6674a9fcb4bc",
     "showTitle": false,
     "title": ""
    },
    "collapsed": false
   },
   "outputs": [],
   "source": []
  },
  {
   "cell_type": "markdown",
   "metadata": {
    "application/vnd.databricks.v1+cell": {
     "cellMetadata": {},
     "inputWidgets": {},
     "nuid": "9272a12a-e203-487f-99a2-c1919e726b46",
     "showTitle": false,
     "title": ""
    },
    "collapsed": false
   },
   "source": [
    "### _determine_trade_route"
   ]
  },
  {
   "cell_type": "code",
   "execution_count": 0,
   "metadata": {
    "ExecuteTime": {
     "end_time": "2023-05-04T12:23:46.192950800Z",
     "start_time": "2023-05-04T12:23:46.167951Z"
    },
    "application/vnd.databricks.v1+cell": {
     "cellMetadata": {},
     "inputWidgets": {},
     "nuid": "ad54187b-0df0-4c4b-a113-b2656acf0174",
     "showTitle": false,
     "title": ""
    },
    "collapsed": false
   },
   "outputs": [],
   "source": []
  },
  {
   "cell_type": "markdown",
   "metadata": {
    "application/vnd.databricks.v1+cell": {
     "cellMetadata": {},
     "inputWidgets": {},
     "nuid": "8ef43239-249c-48de-87ca-a8ee8b1b2f90",
     "showTitle": false,
     "title": ""
    },
    "collapsed": false
   },
   "source": [
    "### _extract_route_index"
   ]
  },
  {
   "cell_type": "code",
   "execution_count": 0,
   "metadata": {
    "ExecuteTime": {
     "end_time": "2023-05-04T12:23:46.202950900Z",
     "start_time": "2023-05-04T12:23:46.183950900Z"
    },
    "application/vnd.databricks.v1+cell": {
     "cellMetadata": {},
     "inputWidgets": {},
     "nuid": "edd2ea06-bce6-4261-b42f-6b3e01069ef1",
     "showTitle": false,
     "title": ""
    },
    "collapsed": false
   },
   "outputs": [],
   "source": []
  },
  {
   "cell_type": "markdown",
   "metadata": {
    "application/vnd.databricks.v1+cell": {
     "cellMetadata": {},
     "inputWidgets": {},
     "nuid": "d0b2e3f5-8cc8-4bd8-926f-e80f340e9f6f",
     "showTitle": false,
     "title": ""
    },
    "collapsed": false
   },
   "source": [
    "### _find_match_for_tkn"
   ]
  },
  {
   "cell_type": "code",
   "execution_count": 0,
   "metadata": {
    "ExecuteTime": {
     "end_time": "2023-05-04T12:23:46.236950900Z",
     "start_time": "2023-05-04T12:23:46.200951200Z"
    },
    "application/vnd.databricks.v1+cell": {
     "cellMetadata": {},
     "inputWidgets": {},
     "nuid": "f062b1aa-7166-4cc0-a920-ec2ad05b6aa8",
     "showTitle": false,
     "title": ""
    },
    "collapsed": false
   },
   "outputs": [],
   "source": []
  },
  {
   "cell_type": "markdown",
   "metadata": {
    "application/vnd.databricks.v1+cell": {
     "cellMetadata": {},
     "inputWidgets": {},
     "nuid": "f72a31cd-5251-45b4-bed3-eef7b4ef57c6",
     "showTitle": false,
     "title": ""
    },
    "collapsed": false
   },
   "source": [
    "### _find_match_for_amount"
   ]
  },
  {
   "cell_type": "code",
   "execution_count": 0,
   "metadata": {
    "ExecuteTime": {
     "end_time": "2023-05-04T12:23:46.236950900Z",
     "start_time": "2023-05-04T12:23:46.214951100Z"
    },
    "application/vnd.databricks.v1+cell": {
     "cellMetadata": {},
     "inputWidgets": {},
     "nuid": "e19b4943-73d0-463a-8928-4b7129a03f73",
     "showTitle": false,
     "title": ""
    },
    "collapsed": false
   },
   "outputs": [],
   "source": []
  },
  {
   "cell_type": "markdown",
   "metadata": {
    "application/vnd.databricks.v1+cell": {
     "cellMetadata": {},
     "inputWidgets": {},
     "nuid": "1c9a9f0a-678c-4e3d-a2a3-ae68c32d925d",
     "showTitle": false,
     "title": ""
    },
    "collapsed": false
   },
   "source": [
    "### _match_trade"
   ]
  },
  {
   "cell_type": "code",
   "execution_count": 0,
   "metadata": {
    "ExecuteTime": {
     "end_time": "2023-05-04T12:23:46.245952700Z",
     "start_time": "2023-05-04T12:23:46.230951200Z"
    },
    "application/vnd.databricks.v1+cell": {
     "cellMetadata": {},
     "inputWidgets": {},
     "nuid": "ae78de4a-58a9-4360-afe5-cb0f355f29ea",
     "showTitle": false,
     "title": ""
    },
    "collapsed": false
   },
   "outputs": [],
   "source": []
  },
  {
   "cell_type": "markdown",
   "metadata": {
    "application/vnd.databricks.v1+cell": {
     "cellMetadata": {},
     "inputWidgets": {},
     "nuid": "9422e273-b9e3-4cfa-ad1c-7f3a41063d51",
     "showTitle": false,
     "title": ""
    },
    "collapsed": false
   },
   "source": [
    "### _reorder_trade_instructions"
   ]
  },
  {
   "cell_type": "code",
   "execution_count": 0,
   "metadata": {
    "ExecuteTime": {
     "end_time": "2023-05-04T12:23:46.279978Z",
     "start_time": "2023-05-04T12:23:46.246953Z"
    },
    "application/vnd.databricks.v1+cell": {
     "cellMetadata": {},
     "inputWidgets": {},
     "nuid": "f93055cd-177f-4bb4-84dc-803c798b324f",
     "showTitle": false,
     "title": ""
    },
    "collapsed": false
   },
   "outputs": [],
   "source": []
  },
  {
   "cell_type": "markdown",
   "metadata": {
    "application/vnd.databricks.v1+cell": {
     "cellMetadata": {},
     "inputWidgets": {},
     "nuid": "02f2268c-d4f2-4c75-a673-51a7ca9b7212",
     "showTitle": false,
     "title": ""
    },
    "collapsed": false
   },
   "source": [
    "### _calc_amount0"
   ]
  },
  {
   "cell_type": "code",
   "execution_count": 0,
   "metadata": {
    "ExecuteTime": {
     "end_time": "2023-05-04T12:23:46.279978Z",
     "start_time": "2023-05-04T12:23:46.261977800Z"
    },
    "application/vnd.databricks.v1+cell": {
     "cellMetadata": {},
     "inputWidgets": {},
     "nuid": "6bf280c4-754a-48bc-8e51-f0728b32715b",
     "showTitle": false,
     "title": ""
    },
    "collapsed": false
   },
   "outputs": [],
   "source": []
  },
  {
   "cell_type": "markdown",
   "metadata": {
    "application/vnd.databricks.v1+cell": {
     "cellMetadata": {},
     "inputWidgets": {},
     "nuid": "4c10b282-b02a-4f88-b4ba-c117f879ae7a",
     "showTitle": false,
     "title": ""
    },
    "collapsed": false
   },
   "source": [
    "### _calc_amount1"
   ]
  },
  {
   "cell_type": "code",
   "execution_count": 0,
   "metadata": {
    "ExecuteTime": {
     "end_time": "2023-05-04T12:23:46.292978Z",
     "start_time": "2023-05-04T12:23:46.277978200Z"
    },
    "application/vnd.databricks.v1+cell": {
     "cellMetadata": {},
     "inputWidgets": {},
     "nuid": "d39ccd29-a821-46fd-bd83-a0a9386a6c7c",
     "showTitle": false,
     "title": ""
    },
    "collapsed": false
   },
   "outputs": [],
   "source": []
  },
  {
   "cell_type": "markdown",
   "metadata": {
    "application/vnd.databricks.v1+cell": {
     "cellMetadata": {},
     "inputWidgets": {},
     "nuid": "44095b42-99e5-451c-835d-9f992059916b",
     "showTitle": false,
     "title": ""
    },
    "collapsed": false
   },
   "source": [
    "### _swap_token0_in"
   ]
  },
  {
   "cell_type": "code",
   "execution_count": 0,
   "metadata": {
    "ExecuteTime": {
     "end_time": "2023-05-04T12:23:46.325757300Z",
     "start_time": "2023-05-04T12:23:46.293978200Z"
    },
    "application/vnd.databricks.v1+cell": {
     "cellMetadata": {},
     "inputWidgets": {},
     "nuid": "0d2d5bc4-41b3-4cdb-bd73-8230b7e6a3b4",
     "showTitle": false,
     "title": ""
    },
    "collapsed": false
   },
   "outputs": [],
   "source": []
  },
  {
   "cell_type": "markdown",
   "metadata": {
    "application/vnd.databricks.v1+cell": {
     "cellMetadata": {},
     "inputWidgets": {},
     "nuid": "39650f74-bd36-49a8-b387-15626140b749",
     "showTitle": false,
     "title": ""
    },
    "collapsed": false
   },
   "source": [
    "### _swap_token1_in"
   ]
  },
  {
   "cell_type": "code",
   "execution_count": 0,
   "metadata": {
    "ExecuteTime": {
     "end_time": "2023-05-04T12:24:04.250143900Z",
     "start_time": "2023-05-04T12:24:04.235142900Z"
    },
    "application/vnd.databricks.v1+cell": {
     "cellMetadata": {},
     "inputWidgets": {},
     "nuid": "60eaef78-69d1-4137-8e96-6bffe1692615",
     "showTitle": false,
     "title": ""
    },
    "collapsed": false
   },
   "outputs": [],
   "source": [
    "#output = tx_route_h._swap_token1_in(amount_in=150000000, fee=Decimal(str(0.0001)), liquidity=9506444465270431, sqrt_price=1811587141327609493695613156814269, decimal_tkn0_modifier=6, decimal_tkn1_modifier=18)\n",
    "\n",
    "#output = tx_route_h._swap_token0_in(amount_in=15, fee=Decimal(str(0.0001)), liquidity=21682801670406912856, sqrt_price=1815243913692434944598821307798457, decimal_tkn0_modifier=6, decimal_tkn1_modifier=18)\n",
    "\n",
    "output = tx_route_h._swap_token1_in(amount_in=1, fee=Decimal(str(0.0005)), liquidity=21682801670406912856, sqrt_price=1815243913692434944598821307798457, decimal_tkn0_modifier=6, decimal_tkn1_modifier=18)\n",
    "\n",
    "\n",
    "print(output)"
   ]
  },
  {
   "cell_type": "markdown",
   "metadata": {
    "application/vnd.databricks.v1+cell": {
     "cellMetadata": {},
     "inputWidgets": {},
     "nuid": "787b7d37-3f08-420d-a838-bbe2d661b139",
     "showTitle": false,
     "title": ""
    },
    "collapsed": false
   },
   "source": [
    "### _calc_uniswap_v3_output"
   ]
  },
  {
   "cell_type": "code",
   "execution_count": 0,
   "metadata": {
    "ExecuteTime": {
     "end_time": "2023-05-04T12:23:46.339724400Z",
     "start_time": "2023-05-04T12:23:46.323757600Z"
    },
    "application/vnd.databricks.v1+cell": {
     "cellMetadata": {},
     "inputWidgets": {},
     "nuid": "04a6d4e2-2aae-4bc2-b758-fbc828e0178c",
     "showTitle": false,
     "title": ""
    },
    "collapsed": false
   },
   "outputs": [],
   "source": [
    "print(uni_v3_pool)\n",
    "\n",
    "\n",
    "\n"
   ]
  },
  {
   "cell_type": "markdown",
   "metadata": {
    "application/vnd.databricks.v1+cell": {
     "cellMetadata": {},
     "inputWidgets": {},
     "nuid": "598ad5b7-6684-4518-a5c6-5fd1debc47bb",
     "showTitle": false,
     "title": ""
    },
    "collapsed": false
   },
   "source": [
    "### _decodeFloat and decode"
   ]
  },
  {
   "cell_type": "code",
   "execution_count": 0,
   "metadata": {
    "ExecuteTime": {
     "end_time": "2023-05-04T12:23:46.376230Z",
     "start_time": "2023-05-04T12:23:46.339724400Z"
    },
    "application/vnd.databricks.v1+cell": {
     "cellMetadata": {},
     "inputWidgets": {},
     "nuid": "3f68f45a-59a2-47c4-ad43-7ca105c03f3c",
     "showTitle": false,
     "title": ""
    },
    "collapsed": false
   },
   "outputs": [],
   "source": [
    "# Skipping for now as code is working\n",
    "\n",
    "\n",
    "#A0, B0 =  tx_route_h.decode_decimal_adjustment(Decimal(str(tx_route_h.decode(carbon_pool.A_0))), 18, 6), tx_route_h.decode_decimal_adjustment(Decimal(str(tx_route_h.decode(carbon_pool.B_0))), 18, 6)\n",
    "A0, B0 =  tx_route_h.decode(carbon_pool.A_0), tx_route_h.decode(carbon_pool.B_0) #tx_route_h.decode_decimal_adjustment(Decimal(str(tx_route_h.decode(carbon_pool.B_0))), 18, 6)\n",
    "\n",
    "# Adjusting to Decimal for the test. This is handled by trade functions.\n",
    "B0 = Decimal(str(B0))\n",
    "\n",
    "assert A0 == Decimal(\"0\")\n",
    "assert B0 == Decimal(\"9.995003722451656E-7\")\n",
    "\n",
    "\n"
   ]
  },
  {
   "cell_type": "markdown",
   "metadata": {
    "application/vnd.databricks.v1+cell": {
     "cellMetadata": {},
     "inputWidgets": {},
     "nuid": "4fe2b5b6-561f-4b4c-ae2f-d2399e49d8c9",
     "showTitle": false,
     "title": ""
    },
    "collapsed": false
   },
   "source": [
    "### _get_input_trade_by_target_carbon"
   ]
  },
  {
   "cell_type": "code",
   "execution_count": 0,
   "metadata": {
    "ExecuteTime": {
     "end_time": "2023-05-04T12:23:46.385230600Z",
     "start_time": "2023-05-04T12:23:46.354726500Z"
    },
    "application/vnd.databricks.v1+cell": {
     "cellMetadata": {},
     "inputWidgets": {},
     "nuid": "204eae9e-9b3e-4056-b9bb-0027ce17b31d",
     "showTitle": false,
     "title": ""
    },
    "collapsed": false
   },
   "outputs": [],
   "source": [
    "print(carbon_pool)\n",
    "\n",
    "# Skipping for now as this is used below in get_output_trade_by_source_carbon\n",
    "\n"
   ]
  },
  {
   "cell_type": "markdown",
   "metadata": {
    "application/vnd.databricks.v1+cell": {
     "cellMetadata": {},
     "inputWidgets": {},
     "nuid": "b44bbb20-9e0b-47b3-b7f1-2a03e9ee395c",
     "showTitle": false,
     "title": ""
    },
    "collapsed": false
   },
   "source": [
    "### _get_output_trade_by_source_carbon"
   ]
  },
  {
   "cell_type": "code",
   "execution_count": 0,
   "metadata": {
    "ExecuteTime": {
     "end_time": "2023-05-04T12:23:46.395229900Z",
     "start_time": "2023-05-04T12:23:46.376230Z"
    },
    "application/vnd.databricks.v1+cell": {
     "cellMetadata": {},
     "inputWidgets": {},
     "nuid": "51fec136-334b-4805-a862-20fb41b572c5",
     "showTitle": false,
     "title": ""
    },
    "collapsed": false
   },
   "outputs": [],
   "source": [
    "tkn0_key = carbon_pool.pair_name.split(\"/\")[0]\n",
    "tkn1_key = carbon_pool.pair_name.split(\"/\")[1]\n",
    "\n",
    "y0, z0 = Decimal(carbon_pool.y_0) / Decimal(\"10\") ** Decimal(str(6)), Decimal(carbon_pool.z_0) / Decimal(\"10\") ** Decimal(str(6)),\n",
    "A0, B0 =  tx_route_h.decode_decimal_adjustment(Decimal(str(tx_route_h.decode(carbon_pool.A_0))), 18, 6), tx_route_h.decode_decimal_adjustment(Decimal(str(tx_route_h.decode(carbon_pool.B_0))), 18, 6)\n",
    "\n",
    "y1, z1 = Decimal(carbon_pool.y_1) / Decimal(\"10\") ** Decimal(str(18)), Decimal(carbon_pool.z_1) / Decimal(\"10\") ** Decimal(str(18)),\n",
    "A1, B1 =  tx_route_h.decode_decimal_adjustment(Decimal(str(tx_route_h.decode(carbon_pool.A_1))), 6, 18), tx_route_h.decode_decimal_adjustment(Decimal(str(tx_route_h.decode(carbon_pool.B_1))), 6, 18)\n",
    "\n",
    "assert y0 == Decimal(\"20\"), f\"y0 calculation error. Expected 20, got: {y0} for curve {carbon_pool}. Probably a token decimal issue.\"\n",
    "assert z0 == Decimal(\"20\"), f\"z0 calculation error. Expected 20, got: {z0} for curve {carbon_pool}. Probably a token decimal issue.\"\n",
    "assert A0 == Decimal(\"0\"), f\"A0 calculation error. Expected 0, got: {A0} for curve {carbon_pool}. Probably a token decimal issue.\"\n",
    "assert B0 == Decimal(\"0.9995003722451656000000\"), f\"B0 calculation error. Expected 0.9995003722451656000000, got: {B0} for curve {carbon_pool}. Probably a token decimal issue.\"\n",
    "assert y1 == Decimal(\"30\"), f\"y0 calculation error. Expected 20, got: {y1} for curve {carbon_pool}. Probably a token decimal issue.\"\n",
    "assert z1 == Decimal(\"30\"), f\"z0 calculation error. Expected 20, got: {z1} for curve {carbon_pool}. Probably a token decimal issue.\"\n",
    "assert A1 == Decimal(\"0\"), f\"A0 calculation error. Expected 0, got: {A1} for curve {carbon_pool}. Probably a token decimal issue.\"\n",
    "assert B1 == Decimal(\"0.9994998749374598\"), f\"B0 calculation error. Expected 0.9995003722451656000000, got: {B1} for curve {carbon_pool}. Probably a token decimal issue.\"\n",
    "\n",
    "\n",
    "# Test putting in a normal trade into curve\n",
    "tkns_in1, tkns_out1 = tx_route_h._get_output_trade_by_source_carbon(y=y0, z=z0, A=A0, B=B0, fee=0.002, tkns_in=12)\n",
    "\n",
    "assert tkns_in1 == Decimal(\"12\"), f\"Tokens in unexpected result, expected 12 got: {tkns_in1}\"\n",
    "assert tkns_out1 == Decimal(\"11.96403590555985781993903135536615936\"), f\"Tokens out unexpected result, expected 11.96403590555985781993903135536615936 got: {tkns_out1}\"\n",
    "\n",
    "# Test putting in more than maximum possible tokens\n",
    "tkns_in2, tkns_out2 = tx_route_h._get_output_trade_by_source_carbon(y=y0, z=z0, A=A0, B=B0, fee=0.002, tkns_in=35)\n",
    "assert tkns_in2 == Decimal(\"20.0200000978508971124688381089495090130576819926368108623102590650634788487027\"), f\"Tokens in unexpected result, expected 20.0200000978508971124688381089495090130576819926368108623102590650634788487027 got: {tkns_in2}\"\n",
    "assert tkns_out2 == Decimal(\"19.960\"), f\"Tokens out unexpected result, expected 19.960 got: {tkns_out2}\"\n",
    "\n",
    "# Test putting in a normal trade into second curve\n",
    "tkns_in3, tkns_out3 = tx_route_h._get_output_trade_by_source_carbon(y=y1, z=z1, A=A1, B=B1, fee=0.002, tkns_in=12)\n",
    "assert tkns_in3 == Decimal(\"12\"), f\"Tokens in unexpected result, expected 12 got: {tkns_in3}\"\n",
    "assert tkns_out3 == Decimal(\"11.96402399999997342332740024875369504\"), f\"Tokens out unexpected result, expected 11.96402399999997342332740024875369504 got: {tkns_out3}\"\n",
    "\n",
    "# Test putting in more than maximum possible tokens into second curve\n",
    "tkns_in4, tkns_out4 = tx_route_h._get_output_trade_by_source_carbon(y=y1, z=z1, A=A1, B=B1, fee=0.002, tkns_in=35)\n",
    "\n",
    "assert tkns_in4 == Decimal(\"30.0300300300300967382108451811838747252089617651151212896828272680233632092172\"), f\"Tokens in unexpected result, expected 30.0300300300300967382108451811838747252089617651151212896828272680233632092172 got: {tkns_in4}\"\n",
    "assert tkns_out4 == Decimal(\"29.940\"), f\"Tokens out unexpected result, expected 29.940 got: {tkns_out4}\"\n",
    "\n"
   ]
  },
  {
   "cell_type": "markdown",
   "metadata": {
    "application/vnd.databricks.v1+cell": {
     "cellMetadata": {},
     "inputWidgets": {},
     "nuid": "78468c05-0757-42a8-8c1d-5a9b577b9f46",
     "showTitle": false,
     "title": ""
    },
    "collapsed": false
   },
   "source": [
    "### _calc_carbon_output"
   ]
  },
  {
   "cell_type": "code",
   "execution_count": 0,
   "metadata": {
    "ExecuteTime": {
     "end_time": "2023-05-04T12:23:46.433230100Z",
     "start_time": "2023-05-04T12:23:46.388230200Z"
    },
    "application/vnd.databricks.v1+cell": {
     "cellMetadata": {},
     "inputWidgets": {},
     "nuid": "dbdf7c98-a01a-4b5a-ae1c-7a229ae7f271",
     "showTitle": false,
     "title": ""
    },
    "collapsed": false
   },
   "outputs": [],
   "source": [
    "# print(carbon_pool)\n",
    "#\n",
    "# tkn0_key = carbon_pool.pair_name.split(\"/\")[0]\n",
    "# tkn1_key = carbon_pool.pair_name.split(\"/\")[1]\n",
    "\n",
    "\n",
    "\n",
    "# Test input below max threshold\n",
    "tkns_in1, tkns_out1 = tx_route_h._calc_carbon_output(curve=carbon_pool, tkn_in=usdc, tkn_in_decimals=6 ,tkn_out_decimals=18, amount_in=14.4)\n",
    "\n",
    "assert tkns_in1 == Decimal(str(\"14.4\")), f\"Tkns_in result incorrect - likely a token decimal / decoding error. Expected 14.4, actual: {tkns_in1}\"\n",
    "assert tkns_out1 == Decimal(str(\"14.385599999999968044081042383270976\")), f\"Tkns_out result incorrect - likely a token decimal / decoding error. Expected 14.385599999999968044081042383270976, actual: {tkns_out1}\"\n",
    "\n",
    "# Test input above max threshold\n",
    "tkns_in2, tkns_out2 = tx_route_h._calc_carbon_output(curve=carbon_pool, tkn_in=usdc, tkn_in_decimals=6 ,tkn_out_decimals=18, amount_in=44.3)\n",
    "assert tkns_in2 == Decimal(str(\"30.0300300300300967382108451811838747252089617651151212896828272680233632092172\")), f\"Tkns_in result incorrect - likely a token decimal / decoding error. Expected 30.0300300300300967382108451811838747252089617651151212896828272680233632092172, actual: {tkns_in2}\"\n",
    "assert tkns_out2 == Decimal(str(\"30\")), f\"Tkns_out result incorrect - likely a token decimal / decoding error. Expected 30, actual: {tkns_out2}\"\n",
    "\n",
    "\n"
   ]
  },
  {
   "cell_type": "markdown",
   "metadata": {
    "application/vnd.databricks.v1+cell": {
     "cellMetadata": {},
     "inputWidgets": {},
     "nuid": "b80a9f53-e37f-49b4-9799-371fd6316839",
     "showTitle": false,
     "title": ""
    },
    "collapsed": false
   },
   "source": [
    "### single_trade_result_constant_product"
   ]
  },
  {
   "cell_type": "code",
   "execution_count": 0,
   "metadata": {
    "ExecuteTime": {
     "end_time": "2023-05-04T12:23:46.442233Z",
     "start_time": "2023-05-04T12:23:46.404230200Z"
    },
    "application/vnd.databricks.v1+cell": {
     "cellMetadata": {},
     "inputWidgets": {},
     "nuid": "5db769bf-8db4-4d66-8b0f-55c414542e49",
     "showTitle": false,
     "title": ""
    },
    "collapsed": false
   },
   "outputs": [],
   "source": [
    "tkn0_amt = tx_route_h._from_wei_to_decimals(tkn0_amt=Decimal(uni_v2_pool.tkn0_balance), tkn0_decimals=6)\n",
    "tkn1_amt = tx_route_h._from_wei_to_decimals(tkn0_amt=Decimal(uni_v2_pool.tkn1_balance), tkn0_decimals=18)\n",
    "fee = uni_v2_pool.fee\n",
    "\n",
    "assert tkn0_amt == Decimal(\"36261493.395747\"), f\"Balance of Uniswap V2 pool id=170 tkn0 changed, expected 36261493.395747, received: {tkn0_amt}\"\n",
    "assert tkn1_amt == Decimal(\"18592.465452538740235568\"), f\"Balance of Uniswap V2 pool id=170 tkn1 changed, expected 18592.465452538740235568, received: {tkn1_amt}\"\n",
    "assert fee == \"0.003\", f\"Fee for Uniswap V2 pool id=170 tkn0 changed, expected 0.003, received: {fee}\"\n",
    "output = tx_route_h.single_trade_result_constant_product(tokens_in=1500, token0_amt=tkn0_amt, token1_amt=tkn1_amt, fee=fee)\n",
    "\n",
    "assert output == Decimal(\"0.766760531344682608637070737092913621544992522112938784489488080993164585482453\")\n",
    "\n",
    "\n"
   ]
  },
  {
   "cell_type": "markdown",
   "metadata": {
    "application/vnd.databricks.v1+cell": {
     "cellMetadata": {},
     "inputWidgets": {},
     "nuid": "133dc524-4ed8-4077-bf21-0676e74a90cc",
     "showTitle": false,
     "title": ""
    },
    "collapsed": false
   },
   "source": [
    "### _solve_trade_output"
   ]
  },
  {
   "cell_type": "code",
   "execution_count": 0,
   "metadata": {
    "ExecuteTime": {
     "end_time": "2023-05-04T12:23:46.442233Z",
     "start_time": "2023-05-04T12:23:46.418230200Z"
    },
    "application/vnd.databricks.v1+cell": {
     "cellMetadata": {},
     "inputWidgets": {},
     "nuid": "d7d38a24-6fb3-41b8-812e-94b3ef48b969",
     "showTitle": false,
     "title": ""
    },
    "collapsed": false
   },
   "outputs": [],
   "source": []
  },
  {
   "cell_type": "markdown",
   "metadata": {
    "application/vnd.databricks.v1+cell": {
     "cellMetadata": {},
     "inputWidgets": {},
     "nuid": "257532f4-ed73-43ac-8f63-dc087c29d073",
     "showTitle": false,
     "title": ""
    },
    "collapsed": false
   },
   "source": [
    "### _calculate_trade_outputs"
   ]
  },
  {
   "cell_type": "code",
   "execution_count": 0,
   "metadata": {
    "ExecuteTime": {
     "end_time": "2023-05-04T12:23:46.450232700Z",
     "start_time": "2023-05-04T12:23:46.433230100Z"
    },
    "application/vnd.databricks.v1+cell": {
     "cellMetadata": {},
     "inputWidgets": {},
     "nuid": "6cf3065f-7c81-4074-853c-119a09a0fcb7",
     "showTitle": false,
     "title": ""
    },
    "collapsed": false
   },
   "outputs": [],
   "source": []
  },
  {
   "cell_type": "markdown",
   "metadata": {
    "application/vnd.databricks.v1+cell": {
     "cellMetadata": {},
     "inputWidgets": {},
     "nuid": "948bd440-78f4-40df-b353-c200055bd6ea",
     "showTitle": false,
     "title": ""
    },
    "collapsed": false
   },
   "source": [
    "### _from_wei_to_decimals"
   ]
  },
  {
   "cell_type": "code",
   "execution_count": 0,
   "metadata": {
    "ExecuteTime": {
     "end_time": "2023-05-04T12:23:46.483312700Z",
     "start_time": "2023-05-04T12:23:46.450232700Z"
    },
    "application/vnd.databricks.v1+cell": {
     "cellMetadata": {},
     "inputWidgets": {},
     "nuid": "af8f1b86-61e7-4061-8dda-c429015f9e32",
     "showTitle": false,
     "title": ""
    },
    "collapsed": false
   },
   "outputs": [],
   "source": [
    "assert tx_route_h._from_wei_to_decimals(tkn0_amt=1000000000000000000, tkn0_decimals=18) == 1, f\"_from_wei_to_decimals error, input: tkn0_amt=1000000000000000000, tkn0_decimals=18, output={tx_route_h._from_wei_to_decimals(tkn0_amt=1000000000000000000, tkn0_decimals=18)}, expected: 1\"\n",
    "assert not tx_route_h._from_wei_to_decimals(tkn0_amt=1000000000000000000, tkn0_decimals=18) == 0.1\n",
    "assert tx_route_h._from_wei_to_decimals(tkn0_amt=500, tkn0_decimals=0) == 500, f\"_from_wei_to_decimals error, input: tkn0_amt=500, tkn0_decimals=0, output={tx_route_h._from_wei_to_decimals(tkn0_amt=1000000000000000000, tkn0_decimals=18)}, expected: 500\"\n",
    "assert not tx_route_h._from_wei_to_decimals(tkn0_amt=500, tkn0_decimals=0) == 50"
   ]
  },
  {
   "cell_type": "markdown",
   "metadata": {
    "application/vnd.databricks.v1+cell": {
     "cellMetadata": {},
     "inputWidgets": {},
     "nuid": "973945d9-b62c-4e9b-9b38-8509f119d6a5",
     "showTitle": false,
     "title": ""
    },
    "collapsed": false
   },
   "source": [
    "### _cid_to_pool"
   ]
  },
  {
   "cell_type": "code",
   "execution_count": 0,
   "metadata": {
    "ExecuteTime": {
     "end_time": "2023-05-04T12:23:46.483312700Z",
     "start_time": "2023-05-04T12:23:46.464312300Z"
    },
    "application/vnd.databricks.v1+cell": {
     "cellMetadata": {},
     "inputWidgets": {},
     "nuid": "d6dd8692-d704-447c-a4e4-5d3eebb02e30",
     "showTitle": false,
     "title": ""
    },
    "collapsed": false
   },
   "outputs": [],
   "source": [
    "assert tx_route_h._cid_to_pool(cid=9868188640707215440437863615521278132498, db=bot.db) is not None, \"DB updated? Expected pool at cid 9868188640707215440437863615521278132498\"\n",
    "assert tx_route_h._cid_to_pool(cid=777, db=bot.db) == None, \"DB updated? Expected no pool at cid 777\"\n"
   ]
  },
  {
   "cell_type": "markdown",
   "metadata": {
    "application/vnd.databricks.v1+cell": {
     "cellMetadata": {},
     "inputWidgets": {},
     "nuid": "4f913b30-b5f6-4b60-94a6-31a2e8cad0c6",
     "showTitle": false,
     "title": ""
    }
   },
   "source": [
    "## TxHelpers"
   ]
  },
  {
   "cell_type": "code",
   "execution_count": 0,
   "metadata": {
    "ExecuteTime": {
     "end_time": "2023-05-04T12:23:47.461874300Z",
     "start_time": "2023-05-04T12:23:46.481312400Z"
    },
    "application/vnd.databricks.v1+cell": {
     "cellMetadata": {},
     "inputWidgets": {},
     "nuid": "8a4ae3e3-9919-4229-ae97-55cd593435d4",
     "showTitle": false,
     "title": ""
    }
   },
   "outputs": [],
   "source": [
    "h = TxHelpers(ConfigObj=C)\n",
    "assert type(h).__name__ == \"TxHelpers\"\n",
    "assert h.web3.__class__.__name__ == \"Web3\"\n",
    "assert h.web3.isConnected()\n",
    "\n",
    "\n",
    "# This indicates the arb contract is correctly instantiated. These values can change, but the default is 50% rewards for the caller, and 100 BNT max profit.\n",
    "assert h.arb_contract.caller.rewards() == (500000,100000000000000000000)\n",
    "assert len(h.wallet_address) > 2, \"Address not loading. Check that .env file has field ETH_PRIVATE_KEY_BE_CAREFUL\"\n",
    "assert h.get_nonce() >= 0 and type(h.get_nonce()) == int\n",
    "\n",
    "\n",
    "\n",
    "# Tests the database function to get BNT/ETH liquidity for gas calculations. This is now in the _run function that has direct access to the database.\n",
    "pool = (\n",
    "            bot.db.get_pool(exchange_name=bot.ConfigObj.BANCOR_V3_NAME, pair_name='BNT-FF1C/ETH-EEeE')\n",
    "        )\n",
    "bnt_eth = (int(pool.tkn0_balance), int(pool.tkn1_balance))\n",
    "bnt, eth = bnt_eth\n",
    "\n",
    "assert bnt > 100\n",
    "assert eth > 1000\n",
    "\n"
   ]
  },
  {
   "cell_type": "markdown",
   "metadata": {
    "application/vnd.databricks.v1+cell": {
     "cellMetadata": {},
     "inputWidgets": {},
     "nuid": "3ee5d391-341b-44da-8ed9-543e1c64cf89",
     "showTitle": false,
     "title": ""
    },
    "collapsed": false
   },
   "source": [
    "### Function & API Unit Tests"
   ]
  },
  {
   "cell_type": "code",
   "execution_count": 0,
   "metadata": {
    "ExecuteTime": {
     "end_time": "2023-05-04T12:23:48.628671Z",
     "start_time": "2023-05-04T12:23:47.465873200Z"
    },
    "application/vnd.databricks.v1+cell": {
     "cellMetadata": {},
     "inputWidgets": {},
     "nuid": "ca694ce2-1110-44ab-960d-4d1f8981e301",
     "showTitle": false,
     "title": ""
    },
    "collapsed": false
   },
   "outputs": [],
   "source": [
    "assert h._get_headers == {\"accept\": \"application/json\", \"content-type\": \"application/json\"}\n",
    "assert h._get_payload(method=\"eth_estimateGas\") ==  {\"id\": 1, \"jsonrpc\": \"2.0\", \"method\": \"eth_estimateGas\", \"params\": None}\n",
    "assert h._get_payload(method=\"eth_sendPrivateTransaction\", params=\"BigArbHunting\") ==  {\"id\": 1, \"jsonrpc\": \"2.0\", \"method\": \"eth_sendPrivateTransaction\", \"params\": \"BigArbHunting\"}\n",
    "assert h._get_payload(method=\"other\") ==  {\"id\": 1, \"jsonrpc\": \"2.0\", \"method\": \"other\"}\n",
    "assert h.get_max_priority_fee_per_gas_alchemy() > 100\n",
    "assert h.get_eth_gas_price_alchemy() > 100\n",
    "\n",
    "assert \"https://eth-mainnet.alchemyapi.io/v2/\" in h._get_alchemy_url\n",
    "\n",
    "tx_boilerplate = h.build_tx(nonce=8, gas_price=1995, max_priority_fee=100)\n",
    "assert tx_boilerplate[\"type\"] == \"0x2\" and tx_boilerplate[\"maxFeePerGas\"] == 1995 and tx_boilerplate[\"maxPriorityFeePerGas\"] == 100 and tx_boilerplate[\"nonce\"] == 8\n",
    "\n",
    "\n",
    "bnt, eth = 15437763684982513550130685,3886561157532864487485\n",
    "gas_price, gas_estimate = 98188186533, 515000\n",
    "\n",
    "assert h.estimate_gas_in_bnt(gas_price=gas_price, gas_estimate=gas_estimate, bnt=bnt, eth=eth) == Decimal(\"200.856250253259717372280939534167761272845814437633248811441035398506141985836\")\n",
    "\n",
    "# Cf = Config()\n",
    "# h = TxHelpers(ConfigObj=Cf)\n",
    "# print(h.get_bnt_tkn_liquidity())\n",
    "\n",
    "\n",
    "bnt, eth = int(bnt_eth[0]), int(bnt_eth[1])\n",
    "\n"
   ]
  },
  {
   "cell_type": "markdown",
   "metadata": {
    "application/vnd.databricks.v1+cell": {
     "cellMetadata": {},
     "inputWidgets": {},
     "nuid": "5dd13479-750c-4004-b49a-5c445b59761d",
     "showTitle": false,
     "title": ""
    },
    "collapsed": false
   },
   "source": [
    "### submit_private_transaction"
   ]
  },
  {
   "cell_type": "code",
   "execution_count": 0,
   "metadata": {
    "ExecuteTime": {
     "end_time": "2023-05-04T12:23:48.643672100Z",
     "start_time": "2023-05-04T12:23:48.629671400Z"
    },
    "application/vnd.databricks.v1+cell": {
     "cellMetadata": {},
     "inputWidgets": {},
     "nuid": "2ac9e2b1-6d08-4147-aa16-9941bb49d736",
     "showTitle": false,
     "title": ""
    },
    "collapsed": false
   },
   "outputs": [],
   "source": []
  },
  {
   "cell_type": "markdown",
   "metadata": {
    "application/vnd.databricks.v1+cell": {
     "cellMetadata": {},
     "inputWidgets": {},
     "nuid": "0e9bbe07-fad6-4a52-91a5-e374c9c96e62",
     "showTitle": false,
     "title": ""
    },
    "collapsed": false
   },
   "source": [
    "### validate_and_submit_transaction"
   ]
  },
  {
   "cell_type": "code",
   "execution_count": 0,
   "metadata": {
    "ExecuteTime": {
     "end_time": "2023-05-04T12:23:48.668175200Z",
     "start_time": "2023-05-04T12:23:48.645672600Z"
    },
    "application/vnd.databricks.v1+cell": {
     "cellMetadata": {},
     "inputWidgets": {},
     "nuid": "05b22015-7aa7-481c-aecd-4d04a6c33476",
     "showTitle": false,
     "title": ""
    },
    "collapsed": false
   },
   "outputs": [],
   "source": [
    "route_struct = [\n",
    "  {'exchangeId': 6,\n",
    "  'targetToken': C.w3.toChecksumAddress('0x2260FAC5E5542a773Aa44fBCfeDf7C193bc2C599'),\n",
    "  'minTargetAmount': 1,\n",
    "  'deadline': 171820341414141144,\n",
    "  'customAddress': C.w3.toChecksumAddress('0x2260FAC5E5542a773Aa44fBCfeDf7C193bc2C599'),\n",
    "  'customInt': 0,\n",
    "  'customData': '0x000000000000000000000000000000000000000000000000000000000000002000000000000000000000000000000000000000000000000000000000000000010000000000000000000000000000000c00000000000000000000000000000048000000000000000000000000000000000000000000000000000000012a05f200'},\n",
    " {'exchangeId': 2,\n",
    "  'targetToken': C.w3.toChecksumAddress('0xA0b86991c6218b36c1d19D4a2e9Eb0cE3606eB48'),\n",
    "  'minTargetAmount': 1,\n",
    "  'deadline': 171820341414141144,\n",
    "  'customAddress': C.w3.toChecksumAddress('0xA0b86991c6218b36c1d19D4a2e9Eb0cE3606eB48'),\n",
    "  'customInt': 0,\n",
    "  'customData': '0x'}\n",
    "]\n",
    "flashloan_token_address =C.w3.toChecksumAddress('0xA0b86991c6218b36c1d19D4a2e9Eb0cE3606eB48')\n",
    "flashloan_amount = 5000000000"
   ]
  },
  {
   "cell_type": "code",
   "execution_count": 0,
   "metadata": {
    "ExecuteTime": {
     "end_time": "2023-05-04T12:23:48.720174900Z",
     "start_time": "2023-05-04T12:23:48.661175600Z"
    },
    "application/vnd.databricks.v1+cell": {
     "cellMetadata": {},
     "inputWidgets": {},
     "nuid": "bce9f7e0-37fd-4e6f-b57b-b16c20935af6",
     "showTitle": false,
     "title": ""
    },
    "collapsed": false
   },
   "outputs": [],
   "source": [
    "gas_price, current_max_priority_gas, current_block, nonce = h.validate_and_submit_transaction(route_struct=route_struct, src_amt=flashloan_amount, src_address=flashloan_token_address, expected_profit=profit, result=h.XS_API_CALLS)\n",
    "\n",
    "print(f\"Result of API calls: current_gas_price={gas_price}, current_max_priority_gas={current_max_priority_gas}, block_number={current_block}, nonce={nonce}\")\n",
    "assert gas_price > 1000\n",
    "assert current_max_priority_gas > 100\n",
    "assert current_block > 17182034, \"current block is less than the timestamped block\"\n",
    "assert nonce >= 0, \"nonce not found, private key in .env file may need to be configured or added\"\n",
    "\n",
    "\"\"\"\n",
    "Beyond this point it is not possible to test without real data. build_transaction_with_gas fails without a transaction that is expected to succeed.\n",
    "\"\"\"\n",
    "\n",
    "# transaction_built = h.validate_and_submit_transaction(route_struct=arb_data_struct, src_amt=flash_amt, src_address=flash_tkn, expected_profit=profit, result=h.XS_TRANSACTION)\n",
    "#\n",
    "# print(f\"transaction built = {transaction_built}\")\n",
    "#\n",
    "# adj_profit, gas_cost_bnt = h.validate_and_submit_transaction(route_struct=arb_data_struct, src_amt=flash_amt, src_address=flash_tkn, expected_profit=profit, result=h.XS_MIN_PROFIT_CHECK)\n",
    "#\n",
    "# print(f\"adjusted profit = {adj_profit}, gas cost in bnt = {gas_cost_bnt}, transaction will submit? {adj_profit > gas_cost_bnt}\")\n"
   ]
  },
  {
   "cell_type": "code",
   "execution_count": 0,
   "metadata": {
    "application/vnd.databricks.v1+cell": {
     "cellMetadata": {},
     "inputWidgets": {},
     "nuid": "45188506-1d07-4aff-95bf-c9b556fb188d",
     "showTitle": false,
     "title": ""
    }
   },
   "outputs": [],
   "source": [
    "help(h)"
   ]
  },
  {
   "cell_type": "markdown",
   "metadata": {
    "application/vnd.databricks.v1+cell": {
     "cellMetadata": {},
     "inputWidgets": {},
     "nuid": "b8961aac-c5dd-43c0-b185-db7b3183465a",
     "showTitle": false,
     "title": ""
    }
   },
   "source": [
    "## TxHelper"
   ]
  },
  {
   "cell_type": "code",
   "execution_count": 0,
   "metadata": {
    "application/vnd.databricks.v1+cell": {
     "cellMetadata": {},
     "inputWidgets": {},
     "nuid": "4fe69255-77c1-4636-bc82-d53b02b8f9ad",
     "showTitle": false,
     "title": ""
    }
   },
   "outputs": [],
   "source": [
    "h = TxHelper(ConfigObj=C)\n",
    "assert type(h).__name__ == \"TxHelper\"\n",
    "assert h.w3.__class__.__name__ == \"Web3\"\n",
    "assert h.w3.isConnected()\n",
    "assert h.PRIVATE_KEY\n",
    "assert type(h.COINGECKO_URL) == str\n",
    "# This indicates the arb contract is correctly instantiated. These values can change, but the default is 50% rewards for the caller, and 100 BNT max profit.\n",
    "assert h.arb_contract.caller.rewards() == (500000,100000000000000000000)\n",
    "assert len(h.wallet_address) > 2, \"Address not loading. Check that .env file has field ETH_PRIVATE_KEY_BE_CAREFUL\"\n",
    "assert h.wallet_balance[0] >= 0, \"Wallet balance not loading\"\n",
    "assert h.wei_balance >= 0 and type(h.wei_balance) == int\n",
    "# print(h.ether_balance, type(h.ether_balance))\n",
    "# assert type(h.ether_balance) == float #TODO currently returns Decimal, expected float\n",
    "\n",
    "assert type(h.base_gas_price) == int\n",
    "\n",
    "assert h.ether_price_usd >0\n",
    "assert h.gas_price_gwei >= 0\n",
    "assert h.gas_price_gwei * 1000000000 == h.base_gas_price\n",
    "assert h.nonce >= 0 and type(h.nonce) == int\n",
    "assert h.gas_limit >= 0 # this also tests the function get_gas_limit_from_usd\n",
    "assert h.base_gas_price >=0 # this includes 0 to account for the 0 gas price on Tenderly\n",
    "\n",
    "assert h.deadline > h.w3.eth.getBlock('latest')['timestamp'] + C.DEFAULT_BLOCKTIME_DEVIATION - 1\n",
    "\n",
    "flash_tkn_normal = h.submit_flashloan_arb_tx(arb_data=arb_data_struct, flashloan_token_address=flash_tkn, flashloan_amount=flash_amt, verbose=False, result=h.XS_WETH)\n",
    "flash_tkn_weth = h.submit_flashloan_arb_tx(arb_data=arb_data_struct_weth_test, flashloan_token_address=flash_tkn_weth_test, flashloan_amount=flash_amt_weth_test, verbose=False, result=h.XS_WETH)\n",
    "\n",
    "assert flash_tkn_normal == flash_tkn\n",
    "assert flash_tkn_weth == C.ETH_ADDRESS\n",
    "\n",
    "transaction = h.submit_flashloan_arb_tx(arb_data=arb_data_struct, flashloan_token_address=flash_tkn, flashloan_amount=flash_amt, verbose=False, result=h.XS_TRANSACTION)\n",
    "\n",
    "# TODO these values should change for EIP 1559 style transactions\n",
    "assert transaction['value'] == 0\n",
    "assert transaction['chainId'] >= 0\n",
    "assert transaction['gas'] > 0\n",
    "assert transaction['nonce'] >= 0\n",
    "assert transaction['to'] == C.FASTLANE_CONTRACT_ADDRESS\n",
    "assert transaction['data'] is not None\n",
    "\n",
    "signed_transaction = h.submit_flashloan_arb_tx(arb_data=arb_data_struct, flashloan_token_address=flash_tkn, flashloan_amount=flash_amt, verbose=False, result=h.XS_SIGNED)\n",
    "assert signed_transaction\n",
    "\n"
   ]
  },
  {
   "cell_type": "code",
   "execution_count": 0,
   "metadata": {
    "application/vnd.databricks.v1+cell": {
     "cellMetadata": {},
     "inputWidgets": {},
     "nuid": "7be9b140-73d5-4f79-b7d9-0ec7ebcd2c65",
     "showTitle": false,
     "title": ""
    }
   },
   "outputs": [],
   "source": [
    "help(h)"
   ]
  },
  {
   "cell_type": "code",
   "execution_count": 0,
   "metadata": {
    "application/vnd.databricks.v1+cell": {
     "cellMetadata": {},
     "inputWidgets": {},
     "nuid": "d62a2a7c-833d-431f-b278-a9239140d880",
     "showTitle": false,
     "title": ""
    }
   },
   "outputs": [],
   "source": []
  }
 ],
 "metadata": {
  "application/vnd.databricks.v1+notebook": {
   "dashboards": [],
   "language": "python",
   "notebookMetadata": {},
   "notebookName": "_NBTest_013_Helpers",
   "notebookOrigID": 2658258189182324,
   "widgets": {}
  },
  "jupytext": {
   "encoding": "# -*- coding: utf-8 -*-",
   "formats": "ipynb,py:light"
  },
  "kernelspec": {
   "display_name": "Python 3",
   "language": "python",
   "name": "python3"
  },
  "language_info": {
   "codemirror_mode": {
    "name": "ipython",
    "version": 3
   },
   "file_extension": ".py",
   "mimetype": "text/x-python",
   "name": "python",
   "nbconvert_exporter": "python",
   "pygments_lexer": "ipython3",
   "version": "3.8.8"
  }
 },
 "nbformat": 4,
 "nbformat_minor": 0
}

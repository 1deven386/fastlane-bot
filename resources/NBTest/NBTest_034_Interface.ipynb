{
 "cells": [
  {
   "cell_type": "code",
   "execution_count": null,
   "id": "9f3487b3",
   "metadata": {},
   "outputs": [],
   "source": [
    "# coding=utf-8\n",
    "\"\"\"\n",
    "This module contains the tests for the exchanges classes\n",
    "\"\"\"\n",
    "from dataclasses import asdict\n",
    "from unittest.mock import MagicMock\n",
    "from unittest.mock import Mock\n",
    "\n",
    "import pytest\n",
    "\n",
    "from fastlane_bot import Bot\n",
    "from fastlane_bot.events.exchanges import UniswapV2, UniswapV3, SushiswapV2, CarbonV1, BancorV3\n",
    "from fastlane_bot.events.interface import QueryInterface, Token\n",
    "from fastlane_bot.tools.cpc import ConstantProductCurve as CPC\n",
    "\n",
    "print(\"{0.__name__} v{0.__VERSION__} ({0.__DATE__})\".format(CPC))\n",
    "print(\"{0.__name__} v{0.__VERSION__} ({0.__DATE__})\".format(Bot))\n",
    "print(\"{0.__name__} v{0.__VERSION__} ({0.__DATE__})\".format(UniswapV2))\n",
    "print(\"{0.__name__} v{0.__VERSION__} ({0.__DATE__})\".format(UniswapV3))\n",
    "print(\"{0.__name__} v{0.__VERSION__} ({0.__DATE__})\".format(SushiswapV2))\n",
    "print(\"{0.__name__} v{0.__VERSION__} ({0.__DATE__})\".format(CarbonV1))\n",
    "print(\"{0.__name__} v{0.__VERSION__} ({0.__DATE__})\".format(BancorV3))\n",
    "print(\"{0.__name__} v{0.__VERSION__} ({0.__DATE__})\".format(QueryInterface))\n",
    "print(\"{0.__name__} v{0.__VERSION__} ({0.__DATE__})\".format(Token))\n",
    "\n",
    "from fastlane_bot.testing import *\n",
    "\n",
    "plt.style.use('seaborn-dark')\n",
    "plt.rcParams['figure.figsize'] = [12,6]\n",
    "from fastlane_bot import __VERSION__\n",
    "require(\"3.0\", __VERSION__)"
   ]
  },
  {
   "cell_type": "code",
   "execution_count": null,
   "id": "de893aa9",
   "metadata": {},
   "outputs": [],
   "source": [
    "cfg_mock = Mock()\n",
    "cfg_mock.logger = MagicMock()\n",
    "qi = QueryInterface(mgr=None, ConfigObj=cfg_mock)\n",
    "qi.state = [{'exchange_name': 'uniswap_v2', 'address': '0x123', 'tkn0_key': 'TKN-0x123', 'tkn1_key': 'TKN-0x456', 'pair_name': 'Pair-0x789', 'liquidity': 10}, {'exchange_name': 'sushiswap_v2', 'address': '0xabc', 'tkn0_key': 'TKN-0xabc', 'tkn1_key': 'TKN-0xdef', 'pair_name': 'Pair-0xghi', 'liquidity': 0}]"
   ]
  },
  {
   "cell_type": "code",
   "execution_count": null,
   "id": "f2d533bc",
   "metadata": {},
   "outputs": [],
   "source": [
    "qi.exchanges = ['uniswap_v2']\n",
    "qi.remove_unsupported_exchanges()\n",
    "assert (len(qi.state) == 1)"
   ]
  },
  {
   "cell_type": "code",
   "execution_count": null,
   "id": "799e5ab5",
   "metadata": {},
   "outputs": [],
   "source": [
    "assert (qi.has_balance(qi.state[0], 'liquidity') == True)"
   ]
  },
  {
   "cell_type": "code",
   "execution_count": null,
   "id": "1666cdff",
   "metadata": {},
   "outputs": [],
   "source": [
    "assert (len(qi.filter_pools('uniswap_v2')) == 1)"
   ]
  },
  {
   "cell_type": "code",
   "execution_count": null,
   "id": "4c30dcdd",
   "metadata": {},
   "outputs": [],
   "source": [
    "assert (qi.cleanup_token_key('TKN-Hello-0x123') == 'TKN_Hello-0x123')"
   ]
  },
  {
   "cell_type": "code",
   "execution_count": null,
   "id": "51455804",
   "metadata": {},
   "outputs": [],
   "source": [
    "new_state = [{'exchange_name': 'bancor_v2', 'address': '0xabc', 'tkn0_key': 'TKN-0xabc', 'tkn1_key': 'TKN-0xdef', 'pair_name': 'Pair-0xghi', 'liquidity': 10}]\n",
    "qi.update_state(new_state)"
   ]
  },
  {
   "cell_type": "code",
   "execution_count": null,
   "id": "d2df5597",
   "metadata": {},
   "outputs": [],
   "source": [
    "new_state = [{'exchange_name': 'bancor_v2', 'address': '0xabc', 'tkn0_key': 'TKN-0x123', 'tkn1_key': 'TKN-0xdef', 'pair_name': 'Pair-0xghi', 'liquidity': 10}]\n",
    "qi.update_state(new_state)\n",
    "token = qi.get_token('TKN-0x123')\n",
    "assert isinstance(token, Token)"
   ]
  },
  {
   "cell_type": "code",
   "execution_count": null,
   "id": "d2696dba",
   "metadata": {},
   "outputs": [],
   "source": [
    "new_state = [{'last_updated_block': 17614344, 'address': '0xC537e898CD774e2dCBa3B14Ea6f34C93d5eA45e1', 'exchange_name': 'carbon_v1', 'tkn0_address': '0xEeeeeEeeeEeEeeEeEeEeeEEEeeeeEeeeeeeeEEeE', 'tkn1_address': '0xA0b86991c6218b36c1d19D4a2e9Eb0cE3606eB48', 'tkn0_symbol': 'ETH', 'tkn1_symbol': 'USDC', 'tkn0_decimals': 18, 'tkn1_decimals': 6, 'cid': 1701411834604692317316873037158841057365, 'tkn0_key': 'ETH-EEeE', 'tkn1_key': 'USDC-eB48', 'pair_name': 'ETH-EEeE/USDC-eB48', 'fee_float': 0.002, 'fee': '0.002', 'descr': 'carbon_v1 ETH-EEeE/USDC-eB48 0.002', 'y_0': 9882507039899549, 'y_1': 0, 'z_0': 9882507039899549, 'z_1': 17936137, 'A_0': 0, 'A_1': 99105201, 'B_0': 0, 'B_1': 11941971885}]\n",
    "qi.update_state(new_state)\n",
    "pool = qi.get_pool(cid=1701411834604692317316873037158841057365)"
   ]
  }
 ],
 "metadata": {
  "kernelspec": {
   "name": "python3",
   "language": "python",
   "display_name": "Python 3 (ipykernel)"
  }
 },
 "nbformat": 4,
 "nbformat_minor": 5
}

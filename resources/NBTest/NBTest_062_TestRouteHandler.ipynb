{
 "cells": [
  {
   "cell_type": "code",
   "execution_count": 1,
   "id": "8f04c50a-67fe-4f09-822d-6ed6e3ac43e4",
   "metadata": {},
   "outputs": [
    {
     "name": "stdout",
     "output_type": "stream",
     "text": [
      "imported m, np, pd, plt, os, sys, decimal; defined iseq, raises, require\n",
      "ConstantProductCurve v3.3.1 (05/Oct/2023)\n",
      "CarbonBot v3-b2.2 (20/June/2023)\n",
      "UniswapV2 v0.0.2 (2023-08-27)\n",
      "UniswapV3 v0.0.2 (2023-08-27)\n",
      "CarbonV1 v0.0.2 (2023-08-27)\n",
      "BancorV3 v0.0.2 (2023-08-27)\n",
      "Version = 3-b2.2 [requirements >= 3.0 is met]\n"
     ]
    },
    {
     "name": "stderr",
     "output_type": "stream",
     "text": [
      "c:\\Users\\Kveen\\PycharmProjects\\fastlane-bot\\venv_11\\Lib\\site-packages\\tqdm\\auto.py:21: TqdmWarning: IProgress not found. Please update jupyter and ipywidgets. See https://ipywidgets.readthedocs.io/en/stable/user_install.html\n",
      "  from .autonotebook import tqdm as notebook_tqdm\n"
     ]
    }
   ],
   "source": [
    "# coding=utf-8\n",
    "\"\"\"\n",
    "This module contains the tests for the exchanges classes\n",
    "\"\"\"\n",
    "import unittest\n",
    "from unittest.mock import Mock, call, MagicMock\n",
    "\n",
    "from fastlane_bot import Bot, Config\n",
    "from fastlane_bot.bot import CarbonBot\n",
    "from fastlane_bot.tools.cpc import ConstantProductCurve\n",
    "from fastlane_bot.tools.cpc import ConstantProductCurve as CPC\n",
    "from fastlane_bot.events.exchanges import UniswapV2, UniswapV3,  CarbonV1, BancorV3\n",
    "from fastlane_bot.events.interface import QueryInterface\n",
    "from fastlane_bot.helpers.poolandtokens import PoolAndTokens\n",
    "from fastlane_bot.helpers import TradeInstruction, TxReceiptHandler, TxRouteHandler, TxSubmitHandler, TxHelpers, TxHelper\n",
    "from fastlane_bot.helpers.routehandler import ExchangeNotSupportedError\n",
    "from fastlane_bot.events.managers.manager import Manager\n",
    "from fastlane_bot.events.interface import QueryInterface\n",
    "from joblib import Parallel, delayed\n",
    "from dataclasses import dataclass, asdict, field\n",
    "from fastlane_bot.testing import *\n",
    "from fastlane_bot.config.network import *\n",
    "import math\n",
    "import json\n",
    "from typing import Dict\n",
    "print(\"{0.__name__} v{0.__VERSION__} ({0.__DATE__})\".format(CPC))\n",
    "print(\"{0.__name__} v{0.__VERSION__} ({0.__DATE__})\".format(Bot))\n",
    "print(\"{0.__name__} v{0.__VERSION__} ({0.__DATE__})\".format(UniswapV2))\n",
    "print(\"{0.__name__} v{0.__VERSION__} ({0.__DATE__})\".format(UniswapV3))\n",
    "print(\"{0.__name__} v{0.__VERSION__} ({0.__DATE__})\".format(CarbonV1))\n",
    "print(\"{0.__name__} v{0.__VERSION__} ({0.__DATE__})\".format(BancorV3))\n",
    "from fastlane_bot.testing import *\n",
    "\n",
    "#plt.style.use('seaborn-dark')\n",
    "plt.rcParams['figure.figsize'] = [12,6]\n",
    "from fastlane_bot import __VERSION__\n",
    "require(\"3.0\", __VERSION__)"
   ]
  },
  {
   "cell_type": "markdown",
   "id": "6af4ede2",
   "metadata": {},
   "source": []
  },
  {
   "cell_type": "code",
   "execution_count": 2,
   "id": "ecc8cac0",
   "metadata": {},
   "outputs": [
    {
     "name": "stderr",
     "output_type": "stream",
     "text": [
      "2024-01-07 19:38:36,906 [fastlane:INFO] - \n",
      "2024-01-07 19:38:36,907 [fastlane:INFO] - **********************************************\n",
      "2024-01-07 19:38:36,907 [fastlane:INFO] - The logging path is set to: logs/20240107-193836\\bot.log\n",
      "2024-01-07 19:38:36,908 [fastlane:INFO] - **********************************************\n",
      "2024-01-07 19:38:36,908 [fastlane:INFO] - \n"
     ]
    }
   ],
   "source": [
    "cfg = Config.new(config=Config.CONFIG_MAINNET, blockchain=\"ethereum\")\n",
    "\n",
    "setup_bot = CarbonBot(ConfigObj=cfg)\n",
    "pools = None\n",
    "with open('fastlane_bot/data/tests/latest_pool_data_testing.json') as f:\n",
    "    pools = json.load(f)\n",
    "pools = [pool for pool in pools]\n",
    "pools[0]\n",
    "static_pools = pools\n",
    "state = pools\n",
    "exchanges = list({ex['exchange_name'] for ex in state})\n",
    "db = QueryInterface(state=state, ConfigObj=cfg, exchanges=exchanges)\n"
   ]
  },
  {
   "cell_type": "markdown",
   "id": "75e2383e",
   "metadata": {},
   "source": [
    "# Test_Route_Handler_Solve_Trade_Output [NBTest062]"
   ]
  },
  {
   "cell_type": "markdown",
   "id": "7deda241",
   "metadata": {},
   "source": [
    "## Test Solve Trade Output"
   ]
  },
  {
   "cell_type": "code",
   "execution_count": 3,
   "id": "2ae09788",
   "metadata": {},
   "outputs": [
    {
     "name": "stderr",
     "output_type": "stream",
     "text": [
      "2024-01-07 19:38:38,485 [fastlane:ERROR] - [interface.py get_pool] pool with cid: 4083388403051261561560495289181218537544 not in data\n",
      "2024-01-07 19:38:38,486 [fastlane:ERROR] - [interface.py get_pool] pool with cid: 4083388403051261561560495289181218537544 not in data\n"
     ]
    }
   ],
   "source": [
    "cfg.network.SOLIDLY_V2_FORKS = [\"solidly_v2\"]\n",
    "\n",
    "trade_instruction_0 = TradeInstruction(\n",
    "    cid='4083388403051261561560495289181218537544',\n",
    "    tknin='0xC02aaA39b223FE8D0A0e5C4F27eAD9083C756Cc2',\n",
    "    amtin=5000,\n",
    "    tknout='0x514910771AF9Ca656af840dff83E8264EcF986CA',\n",
    "    amtout=1,\n",
    "    ConfigObj=cfg,\n",
    "    db = db,\n",
    "    tknin_dec_override =  18,\n",
    "    tknout_dec_override = 18,\n",
    "    tknin_addr_override = '0xC02aaA39b223FE8D0A0e5C4F27eAD9083C756Cc2',\n",
    "    tknout_addr_override = '0x514910771AF9Ca656af840dff83E8264EcF986CA',\n",
    "    exchange_override = 'solidly_v2'\n",
    ")\n",
    "trade_instruction_1 = TradeInstruction(\n",
    "    cid='4083388403051261561560495289181218537544',\n",
    "    tknin='0xC02aaA39b223FE8D0A0e5C4F27eAD9083C756Cc2',\n",
    "    amtin=5000,\n",
    "    tknout='0x514910771AF9Ca656af840dff83E8264EcF986CA',\n",
    "    amtout=1,\n",
    "    ConfigObj=cfg,\n",
    "    db = db,\n",
    "    tknin_dec_override =  18,\n",
    "    tknout_dec_override = 18,\n",
    "    tknin_addr_override = '0xC02aaA39b223FE8D0A0e5C4F27eAD9083C756Cc2',\n",
    "    tknout_addr_override = '0x514910771AF9Ca656af840dff83E8264EcF986CA',\n",
    "    exchange_override = 'uniswap_v2'\n",
    ")\n",
    "\n",
    "mock_trade_instruction_0 = Mock(TradeInstruction) #TradeInstruction(mocker, ConfigObj=cfg)\n",
    "mock_trade_instruction_0.ConfigObj = cfg\n",
    "mock_trade_instruction_0.db = db\n",
    "mock_trade_instruction_0.tknin_address = \"0xC02aaA39b223FE8D0A0e5C4F27eAD9083C756Cc2\"\n",
    "mock_trade_instruction_0.tknout_address = \"0x514910771AF9Ca656af840dff83E8264EcF986CA\"\n",
    "mock_trade_instruction_0._is_carbon = False\n",
    "mock_trade_instruction_0.amt_out=Decimal('4.98450E-13')\n",
    "\n",
    "# mock_trade_instruction_1 = Mock(TradeInstruction) #TradeInstruction(mocker, ConfigObj=cfg)\n",
    "# mock_trade_instruction_1.ConfigObj = cfg\n",
    "# mock_trade_instruction_1.db = db\n",
    "# mock_trade_instruction_1.tknout_address = \"0xC02aaA39b223FE8D0A0e5C4F27eAD9083C756Cc2\"\n",
    "# mock_trade_instruction_1.tknin_address = \"0x514910771AF9Ca656af840dff83E8264EcF986CA\"\n",
    "# mock_trade_instruction_1._is_carbon = False\n",
    "\n",
    "mock_curve_0 = Mock()\n",
    "mock_curve_0.exchange_name = \"uniswap_v2\"\n",
    "mock_curve_0.pair_name = \"0xC02aaA39b223FE8D0A0e5C4F27eAD9083C756Cc2/0x514910771AF9Ca656af840dff83E8264EcF986CA\"\n",
    "mock_curve_0.tkn0_balance = Decimal(\"1000\")\n",
    "mock_curve_0.tkn1_balance = Decimal(\"500000\")\n",
    "mock_curve_0.fee = Decimal(\"0.003\")\n",
    "mock_curve_0.fee_float = Decimal(\"0.003\")\n",
    "\n",
    "mock_curve_1 = Mock()\n",
    "mock_curve_1.exchange_name = \"solidly_v2\"\n",
    "mock_curve_1.pair_name = \"0xC02aaA39b223FE8D0A0e5C4F27eAD9083C756Cc2/0x514910771AF9Ca656af840dff83E8264EcF986CA\"\n",
    "mock_curve_1.tkn0_balance = Decimal(\"1000\")\n",
    "mock_curve_1.tkn1_balance = Decimal(\"500000\")\n",
    "mock_curve_1.fee = Decimal(\"0.003\")\n",
    "mock_curve_1.fee_float = Decimal(\"0.003\")\n",
    "mock_curve_1.pool_type = \"volatile\"\n",
    "\n",
    "mock_curve_2 = Mock()\n",
    "mock_curve_2.exchange_name = \"bobs_burger_exchange\"\n",
    "mock_curve_2.pair_name = \"0xC02aaA39b223FE8D0A0e5C4F27eAD9083C756Cc2/0x514910771AF9Ca656af840dff83E8264EcF986CA\"\n",
    "mock_curve_2.tkn0_balance = Decimal(\"1000\")\n",
    "mock_curve_2.tkn1_balance = Decimal(\"500000\")\n",
    "mock_curve_2.fee = Decimal(\"0.003\")\n",
    "mock_curve_2.fee_float = Decimal(\"0.003\")\n",
    "\n",
    "\n",
    "mock_curve_3 = Mock()\n",
    "mock_curve_3.exchange_name = \"solidly_v2\"\n",
    "mock_curve_3.pair_name = \"0xC02aaA39b223FE8D0A0e5C4F27eAD9083C756Cc2/0x514910771AF9Ca656af840dff83E8264EcF986CA\"\n",
    "mock_curve_3.tkn0_balance = Decimal(\"1000\")\n",
    "mock_curve_3.tkn1_balance = Decimal(\"500000\")\n",
    "mock_curve_3.fee = Decimal(\"0.003\")\n",
    "mock_curve_3.fee_float = Decimal(\"0.003\")\n",
    "mock_curve_3.pool_type = \"stable\"\n",
    "\n",
    "txroutehandler = TxRouteHandler(trade_instructions=[trade_instruction_0, trade_instruction_1])"
   ]
  },
  {
   "cell_type": "code",
   "execution_count": null,
   "id": "04320b94",
   "metadata": {},
   "outputs": [],
   "source": []
  },
  {
   "cell_type": "code",
   "execution_count": 4,
   "id": "d02bcfd7",
   "metadata": {},
   "outputs": [],
   "source": [
    "# Test that a Solidly V2 Stable pool throws an error since it isn't supported yet\n",
    "assert raises(txroutehandler._solve_trade_output, mock_curve_3, mock_trade_instruction_0, Decimal(\"0.05\")).startswith(\"[routerhandler.py _solve_trade_output] Solidly V2 stable pools are not yet supported\"), f\"[NBTest 062 TestRouteHandler] Expected _solve_trade_output to raise an error for a Solidly V2 Stable pool\"\n",
    "\n",
    "# Test that Solidly V2 Volatile pool returns the same format as a Uni V2 pool\n",
    "solidly_output = txroutehandler._solve_trade_output(curve=mock_curve_0, trade=trade_instruction_0, amount_in=Decimal(\"0.05\"))[0]\n",
    "uni_v2_output = txroutehandler._solve_trade_output(curve=mock_curve_0, trade=trade_instruction_1, amount_in=Decimal(\"0.05\"))[0]\n",
    "assert type(solidly_output) == Decimal, f\"[NBTest 062 TestRouteHandler] Expected type of output for Solidly V2 Volatile pool to be of type Decimal, found {type(solidly_output)}\"\n",
    "assert solidly_output == uni_v2_output, f\"[NBTest 062 TestRouteHandler] Expected output for Solidly V2 Volatile pool to the same as Uni V2 pool, found {solidly_output} vs {uni_v2_output}\""
   ]
  },
  {
   "cell_type": "code",
   "execution_count": null,
   "id": "a912ad59",
   "metadata": {},
   "outputs": [],
   "source": []
  },
  {
   "cell_type": "markdown",
   "id": "c5a64430",
   "metadata": {},
   "source": [
    "## "
   ]
  },
  {
   "cell_type": "code",
   "execution_count": null,
   "id": "cc01e37b",
   "metadata": {},
   "outputs": [],
   "source": []
  },
  {
   "cell_type": "markdown",
   "id": "a99b3597",
   "metadata": {},
   "source": [
    "## "
   ]
  },
  {
   "cell_type": "code",
   "execution_count": null,
   "id": "37bb2ea4",
   "metadata": {},
   "outputs": [],
   "source": []
  },
  {
   "cell_type": "code",
   "execution_count": null,
   "id": "3901e286",
   "metadata": {},
   "outputs": [],
   "source": []
  }
 ],
 "metadata": {
  "jupytext": {
   "encoding": "# -*- coding: utf-8 -*-",
   "formats": "ipynb,py:light"
  },
  "kernelspec": {
   "display_name": "Python 3",
   "language": "python",
   "name": "python3"
  },
  "language_info": {
   "codemirror_mode": {
    "name": "ipython",
    "version": 3
   },
   "file_extension": ".py",
   "mimetype": "text/x-python",
   "name": "python",
   "nbconvert_exporter": "python",
   "pygments_lexer": "ipython3",
   "version": "3.11.5"
  }
 },
 "nbformat": 4,
 "nbformat_minor": 5
}

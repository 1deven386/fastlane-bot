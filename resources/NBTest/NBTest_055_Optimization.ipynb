{
 "cells": [
  {
   "cell_type": "code",
   "execution_count": 64,
   "id": "a448e212",
   "metadata": {},
   "outputs": [
    {
     "name": "stdout",
     "output_type": "stream",
     "text": [
      "CPCContainer v3.2 (15/Sep/2023)\n",
      "ConstantProductCurve v3.2 (15/Sep/2023)\n",
      "MargPOptimizer v5.2 (15/Sep/2023)\n",
      "PairOptimizer v6.0 (15/Sep/2023)\n"
     ]
    }
   ],
   "source": [
    "from fastlane_bot.tools.cpc import CPCContainer, ConstantProductCurve as CPC, CurveBase\n",
    "from fastlane_bot.tools.optimizer import MargPOptimizer, PairOptimizer\n",
    "from fastlane_bot.testing import *\n",
    "# from flbtools.cpc import CPCContainer, ConstantProductCurve as CPC, CurveBase\n",
    "# from flbtools.optimizer import MargPOptimizer, PairOptimizer\n",
    "# from flbtesting import *\n",
    "\n",
    "from math import sqrt\n",
    "from copy import deepcopy\n",
    "print(\"{0.__name__} v{0.__VERSION__} ({0.__DATE__})\".format(CPCContainer))\n",
    "print(\"{0.__name__} v{0.__VERSION__} ({0.__DATE__})\".format(CPC))\n",
    "print(\"{0.__name__} v{0.__VERSION__} ({0.__DATE__})\".format(MargPOptimizer))\n",
    "print(\"{0.__name__} v{0.__VERSION__} ({0.__DATE__})\".format(PairOptimizer))\n",
    "\n",
    "plt.style.use('seaborn-v0_8-dark')\n",
    "plt.rcParams['figure.figsize'] = [12,6]\n",
    "# from fastlane_bot import __VERSION__\n",
    "# require(\"3.0\", __VERSION__)"
   ]
  },
  {
   "cell_type": "markdown",
   "id": "d9917997",
   "metadata": {},
   "source": [
    "# Optimization Methods [NBTest053]"
   ]
  },
  {
   "cell_type": "markdown",
   "id": "382ba9f9",
   "metadata": {},
   "source": [
    "Note: using an existing CPCContainer object `CC`, the curves can be extracted as dict using the command below\n",
    "\n",
    "    CURVES = [c.asdict() for c in CC]\n",
    "    "
   ]
  },
  {
   "cell_type": "markdown",
   "id": "71b7924c-6f92-4272-bbe4-3e0b0af3c3d7",
   "metadata": {},
   "source": [
    "The below three curves are one POL curve (extremely levered; it is originally fixed price) and two Uniswap v3 curves. On those curves the high dimensional gradient descent algo fails because it ends up on a plateau."
   ]
  },
  {
   "cell_type": "code",
   "execution_count": 65,
   "id": "0cb2c0bf",
   "metadata": {
    "lines_to_next_cell": 0
   },
   "outputs": [],
   "source": [
    "CURVES = [\n",
    "\n",
    "# POL Curve\n",
    "{\n",
    "  'k': 6.157332844764952e+20,\n",
    "  'x': 615733222.5892723,\n",
    "  'x_act': 0,\n",
    "  'y_act': 100000.0,\n",
    "  'alpha': 0.5,\n",
    "  'pair': 'WETH/DAI', # WETH-6Cc2/DAI-1d0F\n",
    "  'cid': '0x33ed',\n",
    "    #     0x33ed451d5c7b7a76266b8cdfab030f6de8143fcfbdcd08dabeed0de8d684b4de\n",
    "  'fee': 0.0,\n",
    "  'descr': 'bancor_pol DAI-1d0F/ETH-EEeE 0.000',\n",
    "  'constr': 'carb',\n",
    "  'params': {'exchange': 'bancor_pol',\n",
    "   'tknx_dec': 18,\n",
    "   'tkny_dec': 18,\n",
    "   'tknx_addr': '0x6B175474E89094C44Da98b954EedeAC495271d0F',\n",
    "   'tkny_addr': '0xEeeeeEeeeEeEeeEeEeEeeEEEeeeeEeeeeeeeEEeE',\n",
    "   'blocklud': 18121620,\n",
    "   'y': 100000.0,\n",
    "   'yint': 100000.0,\n",
    "   'A': 0,\n",
    "   'B': 40.29987368093254,\n",
    "   'pa': 1624.0799811071013,\n",
    "   'pb': 1624.0799811071013}},\n",
    " \n",
    "# Uniswap v3 Curve 1\n",
    " {\n",
    "  'k': 1147678924959.0112,\n",
    "  'x': 42728400.31211105,\n",
    "  'x_act': 7575.552803896368,\n",
    "  'y_act': 8.665306719478394,\n",
    "  'alpha': 0.5,\n",
    "  'pair': 'DAI/WETH', # DAi-1d0F/WETH-6Cc2\n",
    "  'cid': '0xb1d8',\n",
    "    #     0xb1d8cd62f75016872495dae3e19d96e364767e7d674488392029d15cdbcd7b34',\n",
    "  'fee': 0.0005,\n",
    "  'descr': 'uniswap_v3 DAI-1d0F/WETH-6Cc2 500',\n",
    "  'constr': 'pkpp',\n",
    "  'params': {'exchange': 'uniswap_v3',\n",
    "   'tknx_dec': 18,\n",
    "   'tkny_dec': 18,\n",
    "   'tknx_addr': '0x6B175474E89094C44Da98b954EedeAC495271d0F',\n",
    "   'tkny_addr': '0xC02aaA39b223FE8D0A0e5C4F27eAD9083C756Cc2',\n",
    "   'blocklud': 18121789,\n",
    "   'L': 1071297.7760450225}},\n",
    "    \n",
    "\n",
    "# Uniswap v3 Curve 2\n",
    "{\n",
    "  'k': 1541847511355.546,\n",
    "  'x': 49517090.33542573,\n",
    "  'x_act': 99496.94394361228,\n",
    "  'y_act': 30.763865271412214,\n",
    "  'alpha': 0.5,\n",
    "  'pair': 'DAI/WETH', # DAi-1d0F/WETH-6Cc2\n",
    "  'cid': '0xae2b',\n",
    "      #  '0xae2b487dff467a33b88e5a4e6874f91ee212886979f673dd18d3e0396862112f',\n",
    "  'fee': 0.003,\n",
    "  'descr': 'uniswap_v3 DAI-1d0F/WETH-6Cc2 3000',\n",
    "  'constr': 'pkpp',\n",
    "  'params': {'exchange': 'uniswap_v3',\n",
    "   'tknx_dec': 18,\n",
    "   'tkny_dec': 18,\n",
    "   'tknx_addr': '0x6B175474E89094C44Da98b954EedeAC495271d0F',\n",
    "   'tkny_addr': '0xC02aaA39b223FE8D0A0e5C4F27eAD9083C756Cc2',\n",
    "   'blocklud': 18121689,\n",
    "   'L': 1241711.5250151888}}\n",
    "]\n",
    "CC = CPCContainer.from_dicts(CURVES)"
   ]
  },
  {
   "cell_type": "markdown",
   "id": "ed8e1919-52fe-4000-9f60-2d9b1909213f",
   "metadata": {},
   "source": [
    "Those are starting prices consistent with those curves."
   ]
  },
  {
   "cell_type": "code",
   "execution_count": 66,
   "id": "4d0fea57",
   "metadata": {},
   "outputs": [
    {
     "data": {
      "text/plain": [
       "1590.7292608895832"
      ]
     },
     "execution_count": 66,
     "metadata": {},
     "output_type": "execute_result"
    }
   ],
   "source": [
    "PRICES = {\n",
    "    'DAI':  0.0006286424878113893, \n",
    "    'WETH': 1,\n",
    "}\n",
    "PRICE0 = PRICES[\"WETH\"]/PRICES[\"DAI\"]\n",
    "PRICE0"
   ]
  },
  {
   "cell_type": "markdown",
   "id": "11bc6705-ce06-4a3d-af17-d39002750299",
   "metadata": {},
   "source": [
    "`CC0` is meant to be a variation of `CC` / `CURVES` that converges, but it does not seem to work. Not super high priority to find one."
   ]
  },
  {
   "cell_type": "code",
   "execution_count": 67,
   "id": "5c5853d5",
   "metadata": {},
   "outputs": [],
   "source": [
    "c0 = CC[0]"
   ]
  },
  {
   "cell_type": "code",
   "execution_count": 68,
   "id": "39fdc6fd",
   "metadata": {},
   "outputs": [
    {
     "data": {
      "text/plain": [
       "(621906052.7847118, 990074436033.2614, 1592, 'WETH', 'DAI', 'WETH/DAI')"
      ]
     },
     "execution_count": 68,
     "metadata": {},
     "output_type": "execute_result"
    }
   ],
   "source": [
    "xyp = c0.xyfromp_f(1592, withunits=True, ignorebounds=True)\n",
    "CURVES0 = deepcopy(CURVES)\n",
    "CURVES0[0][\"x\"] = xyp[0]\n",
    "CC0 = CPCContainer.from_dicts(CURVES0)\n",
    "xyp"
   ]
  },
  {
   "cell_type": "code",
   "execution_count": 69,
   "id": "3a317a9f",
   "metadata": {},
   "outputs": [
    {
     "data": {
      "text/plain": [
       "(1624.0801435150993, 1592.0)"
      ]
     },
     "execution_count": 69,
     "metadata": {},
     "output_type": "execute_result"
    }
   ],
   "source": [
    "CC[0].p, CC0[0].p"
   ]
  },
  {
   "cell_type": "markdown",
   "id": "53d02241-248c-42df-9dd4-b3ba58d7c067",
   "metadata": {},
   "source": [
    "This is a very simple set of unlevered curver where convergence should never be a problem."
   ]
  },
  {
   "cell_type": "code",
   "execution_count": 70,
   "id": "41d1f06b",
   "metadata": {},
   "outputs": [],
   "source": [
    "CCul = CPCContainer([\n",
    "    CPC.from_pk(p=1500, k=1500*100, pair=\"WETH/DAI\", cid=\"c1500\"),\n",
    "    CPC.from_pk(p=1600, k=1600*100, pair=\"WETH/DAI\", cid=\"c1600\")\n",
    "])"
   ]
  },
  {
   "cell_type": "code",
   "execution_count": 71,
   "id": "9be50113",
   "metadata": {},
   "outputs": [],
   "source": [
    "cnorm = CPC.from_pk(p=PRICE0, k=PRICE0*c0.x, pair=\"WETH/DAI\", cid=\"normalizer\")\n",
    "CCn = CPCContainer([c for c in CC]+[cnorm])"
   ]
  },
  {
   "cell_type": "code",
   "execution_count": 72,
   "id": "6483f58c",
   "metadata": {},
   "outputs": [
    {
     "data": {
      "text/plain": [
       "(615733222.5892723, 'WETH')"
      ]
     },
     "execution_count": 72,
     "metadata": {},
     "output_type": "execute_result"
    }
   ],
   "source": [
    "c0.x, c0.tknx"
   ]
  },
  {
   "cell_type": "code",
   "execution_count": 73,
   "id": "d191df15",
   "metadata": {
    "lines_to_next_cell": 2
   },
   "outputs": [],
   "source": [
    "#help(CPC)"
   ]
  },
  {
   "cell_type": "markdown",
   "id": "9a6b457a-3573-4387-8047-9ae88c5c607e",
   "metadata": {},
   "source": [
    "## MargPOptimizer current\n",
    "### Setup"
   ]
  },
  {
   "cell_type": "code",
   "execution_count": 74,
   "id": "69c90858",
   "metadata": {
    "lines_to_next_cell": 2
   },
   "outputs": [],
   "source": [
    "#help(MargPOptimizer)"
   ]
  },
  {
   "cell_type": "markdown",
   "id": "a28696d0",
   "metadata": {},
   "source": [
    "### Unlevered curves `CCul`"
   ]
  },
  {
   "cell_type": "code",
   "execution_count": 75,
   "id": "19aecdff-2706-420a-bbb4-b0d776e235fd",
   "metadata": {},
   "outputs": [],
   "source": [
    "Oul = MargPOptimizer(curves=CCul)\n",
    "assert len(Oul.curves) == len(CCul)"
   ]
  },
  {
   "cell_type": "code",
   "execution_count": 76,
   "id": "d00b746e",
   "metadata": {},
   "outputs": [
    {
     "data": {
      "text/plain": [
       "CPCArbOptimizer.MargpOptimizerResult(result=-0.005204267821271813, time=0.0005309581756591797, method='margp', targettkn='WETH', p_optimal_t=(0.0006449934107164284,), dtokens_t=(-4.737194103654474e-08,), tokens_t=('DAI',), errormsg=None)"
      ]
     },
     "execution_count": 76,
     "metadata": {},
     "output_type": "execute_result"
    }
   ],
   "source": [
    "r = Oul.optimize(\"WETH\")\n",
    "assert r.error is None\n",
    "assert r.method == \"margp\"\n",
    "assert r.targettkn == \"WETH\"\n",
    "assert r.tokens_t == ('DAI',)\n",
    "assert r.dtokens[\"WETH\"] < 0\n",
    "assert iseq(r.result, -0.005204267821271813)\n",
    "assert iseq(r.p_optimal_t[0], 0.0006449934107164284)\n",
    "assert iseq(r.dtokens_t[0], -4.737194103654474e-08)\n",
    "r"
   ]
  },
  {
   "cell_type": "markdown",
   "id": "e49e25d9",
   "metadata": {},
   "source": [
    "the original curves are 1500 and 1600, so ~1550 is right in the middle"
   ]
  },
  {
   "cell_type": "code",
   "execution_count": 77,
   "id": "c5af61c4",
   "metadata": {},
   "outputs": [
    {
     "data": {
      "text/plain": [
       "1550.4034357331604"
      ]
     },
     "execution_count": 77,
     "metadata": {},
     "output_type": "execute_result"
    }
   ],
   "source": [
    "assert iseq(1/r.p_optimal_t[0], 1550.4034357331604)\n",
    "1/r.p_optimal_t[0]"
   ]
  },
  {
   "cell_type": "markdown",
   "id": "92fec7d9",
   "metadata": {},
   "source": [
    "this process converged -- the aggregate change in DAI amount < 1e-5"
   ]
  },
  {
   "cell_type": "code",
   "execution_count": 78,
   "id": "48ec6757",
   "metadata": {},
   "outputs": [
    {
     "data": {
      "text/plain": [
       "{'DAI': -4.737194103654474e-08, 'WETH': -0.005204267821271813}"
      ]
     },
     "execution_count": 78,
     "metadata": {},
     "output_type": "execute_result"
    }
   ],
   "source": [
    "assert abs(r.dtokens[\"DAI\"] < 1e-5)\n",
    "assert r.dtokens[\"WETH\"] < 0\n",
    "assert iseq(r.dtokens[\"WETH\"], -0.005204267821271813)\n",
    "r.dtokens"
   ]
  },
  {
   "cell_type": "markdown",
   "id": "9127bf65",
   "metadata": {},
   "source": [
    "there is some trading going on"
   ]
  },
  {
   "cell_type": "code",
   "execution_count": 79,
   "id": "79288ac3",
   "metadata": {},
   "outputs": [
    {
     "data": {
      "text/plain": [
       "{'c1500': {'WETH': -0.16389245649152784, 'DAI': 249.9349296963901},\n",
       " 'c1600': {'WETH': 0.15868818867025603, 'DAI': -249.93492974376204}}"
      ]
     },
     "execution_count": 79,
     "metadata": {},
     "output_type": "execute_result"
    }
   ],
   "source": [
    "v = r.dxvecvalues(asdict=True)\n",
    "assert iseq(v[\"c1500\"][\"DAI\"], 249.9349296963901)\n",
    "assert iseq(v[\"c1600\"][\"WETH\"], 0.15868818867025603)\n",
    "v"
   ]
  },
  {
   "cell_type": "markdown",
   "id": "4af7aa67",
   "metadata": {},
   "source": [
    "### Normalized curves `CCn`"
   ]
  },
  {
   "cell_type": "code",
   "execution_count": 80,
   "id": "24227582-7c75-425d-9b24-72cd5e7d6d2d",
   "metadata": {},
   "outputs": [],
   "source": [
    "On  = MargPOptimizer(curves=CCn)\n",
    "assert len(On.curves) == len(CC)+1"
   ]
  },
  {
   "cell_type": "code",
   "execution_count": 81,
   "id": "84535b0e",
   "metadata": {},
   "outputs": [
    {
     "data": {
      "text/plain": [
       "CPCArbOptimizer.MargpOptimizerResult(result=-1.244345098228223, time=0.0010178089141845703, method='margp', targettkn='WETH', p_optimal_t=(0.00062745798800732,), dtokens_t=(-1.9371509552001953e-06,), tokens_t=('DAI',), errormsg=None)"
      ]
     },
     "execution_count": 81,
     "metadata": {},
     "output_type": "execute_result"
    }
   ],
   "source": [
    "r = On.optimize(\"WETH\")\n",
    "assert r.error is None\n",
    "assert r.method == \"margp\"\n",
    "assert r.targettkn == \"WETH\"\n",
    "assert r.tokens_t == ('DAI',)\n",
    "assert r.dtokens[\"WETH\"] < 0\n",
    "assert iseq(r.result, -1.244345098228223)\n",
    "assert iseq(r.p_optimal_t[0], 0.00062745798800732)\n",
    "assert iseq(r.dtokens_t[0], -1.9371509552001953e-06)\n",
    "r"
   ]
  },
  {
   "cell_type": "markdown",
   "id": "2f1f0ea0",
   "metadata": {},
   "source": [
    "the original curves are 1500 and 1600, so ~1550 is right in the middle"
   ]
  },
  {
   "cell_type": "code",
   "execution_count": 82,
   "id": "e30ed6d5",
   "metadata": {},
   "outputs": [
    {
     "data": {
      "text/plain": [
       "1593.7322005825413"
      ]
     },
     "execution_count": 82,
     "metadata": {},
     "output_type": "execute_result"
    }
   ],
   "source": [
    "assert iseq(1/r.p_optimal_t[0], 1593.7322005825413)\n",
    "1/r.p_optimal_t[0]"
   ]
  },
  {
   "cell_type": "markdown",
   "id": "4777a332",
   "metadata": {},
   "source": [
    "this process converged -- the aggregate change in DAI amount < 1e-5"
   ]
  },
  {
   "cell_type": "code",
   "execution_count": 83,
   "id": "3a62bcab",
   "metadata": {},
   "outputs": [
    {
     "data": {
      "text/plain": [
       "{'DAI': -1.9371509552001953e-06, 'WETH': -1.244345098228223}"
      ]
     },
     "execution_count": 83,
     "metadata": {},
     "output_type": "execute_result"
    }
   ],
   "source": [
    "assert abs(r.dtokens[\"DAI\"] < 1e-5)\n",
    "assert r.dtokens[\"WETH\"] < 0\n",
    "assert iseq(r.dtokens[\"WETH\"], -1.244345098228223)\n",
    "r.dtokens"
   ]
  },
  {
   "cell_type": "markdown",
   "id": "2569bc8e",
   "metadata": {},
   "source": [
    "there is some trading going on"
   ]
  },
  {
   "cell_type": "code",
   "execution_count": 84,
   "id": "e0344572",
   "metadata": {},
   "outputs": [
    {
     "data": {
      "text/plain": [
       "{'0x33ed': {'WETH': 61.57332217693329, 'DAI': -100000.0},\n",
       " '0xb1d8': {'DAI': 13789.132085457444, 'WETH': -8.665306719478394},\n",
       " '0xae2b': {'DAI': 48971.003532998264, 'WETH': -30.763865271412214},\n",
       " 'normalizer': {'WETH': -23.388495284270903, 'DAI': 37239.86437960714}}"
      ]
     },
     "execution_count": 84,
     "metadata": {},
     "output_type": "execute_result"
    }
   ],
   "source": [
    "v = r.dxvecvalues(asdict=True)\n",
    "v"
   ]
  },
  {
   "cell_type": "markdown",
   "id": "fc34f19a",
   "metadata": {},
   "source": [
    "### Succeeding optimization process `CC0` [TODO]\n",
    "\n",
    "note: the parameters still don't allow for convergence!"
   ]
  },
  {
   "cell_type": "code",
   "execution_count": 85,
   "id": "a4bf55b5-2750-4bdd-853a-3c5fb5487b59",
   "metadata": {},
   "outputs": [],
   "source": [
    "O0  = MargPOptimizer(curves=CC0)\n",
    "assert len(O0.curves) == len(CC)"
   ]
  },
  {
   "cell_type": "code",
   "execution_count": 86,
   "id": "cd466248",
   "metadata": {},
   "outputs": [
    {
     "data": {
      "text/plain": [
       "CPCArbOptimizer.MargpOptimizerResult(result=-39.42917199089061, time=0.0007841587066650391, method='margp', targettkn='WETH', p_optimal_t=(0.0006273686958774544,), dtokens_t=(62760.13561845571,), tokens_t=('DAI',), errormsg=None)"
      ]
     },
     "execution_count": 86,
     "metadata": {},
     "output_type": "execute_result"
    }
   ],
   "source": [
    "r = O0.optimize(\"WETH\")\n",
    "assert r.error is None\n",
    "assert r.method == \"margp\"\n",
    "assert r.targettkn == \"WETH\"\n",
    "assert r.tokens_t == ('DAI',)\n",
    "assert iseq(r.result, -39.42917199089061)\n",
    "assert iseq(r.p_optimal_t[0], 0.0006273686958774544)\n",
    "assert iseq(r.dtokens_t[0], 62760.13561845571)\n",
    "r"
   ]
  },
  {
   "cell_type": "code",
   "execution_count": 87,
   "id": "8c72d916",
   "metadata": {},
   "outputs": [
    {
     "data": {
      "text/plain": [
       "{'DAI': 62760.13561845571, 'WETH': -39.42917199089061}"
      ]
     },
     "execution_count": 87,
     "metadata": {},
     "output_type": "execute_result"
    }
   ],
   "source": [
    "r.dtokens"
   ]
  },
  {
   "cell_type": "code",
   "execution_count": 88,
   "id": "1966a2b2",
   "metadata": {},
   "outputs": [
    {
     "data": {
      "text/plain": [
       "{'0x33ed': {'WETH': 0.0, 'DAI': 0.0},\n",
       " '0xb1d8': {'DAI': 13789.132085457444, 'WETH': -8.665306719478394},\n",
       " '0xae2b': {'DAI': 48971.003532998264, 'WETH': -30.763865271412214}}"
      ]
     },
     "execution_count": 88,
     "metadata": {},
     "output_type": "execute_result"
    }
   ],
   "source": [
    "r.dxvecvalues(asdict=True)"
   ]
  },
  {
   "cell_type": "markdown",
   "id": "6cd3e66a",
   "metadata": {},
   "source": [
    "### Failing optimization process `CC`"
   ]
  },
  {
   "cell_type": "code",
   "execution_count": 89,
   "id": "1f69d97b",
   "metadata": {},
   "outputs": [],
   "source": [
    "O   = MargPOptimizer(curves=CC)\n",
    "assert len(O.curves) == len(CC)"
   ]
  },
  {
   "cell_type": "code",
   "execution_count": 90,
   "id": "670e8185",
   "metadata": {},
   "outputs": [
    {
     "data": {
      "text/plain": [
       "CPCArbOptimizer.MargpOptimizerResult(result=22.14415018604268, time=0.0009331703186035156, method='margp', targettkn='WETH', p_optimal_t=(0.0006273686958774544,), dtokens_t=(-37239.86438154429,), tokens_t=('DAI',), errormsg=None)"
      ]
     },
     "execution_count": 90,
     "metadata": {},
     "output_type": "execute_result"
    }
   ],
   "source": [
    "r = O.optimize(\"WETH\")\n",
    "assert r.error is None\n",
    "assert r.method == \"margp\"\n",
    "assert r.targettkn == \"WETH\"\n",
    "assert r.tokens_t == ('DAI',)\n",
    "assert iseq(r.result, 22.14415018604268)\n",
    "assert iseq(r.p_optimal_t[0], 0.0006273686958774544)\n",
    "assert iseq(r.dtokens_t[0], -37239.86438154429)\n",
    "r"
   ]
  },
  {
   "cell_type": "markdown",
   "id": "40871d0d",
   "metadata": {},
   "source": [
    "Here we show that the final price is not the same as the initial one, but also not totally crazy (this calculation has not converged but is stuck on a plateau)"
   ]
  },
  {
   "cell_type": "code",
   "execution_count": 91,
   "id": "fd0376b7",
   "metadata": {},
   "outputs": [
    {
     "data": {
      "text/plain": [
       "({'DAI': 0.0006286424878113893, 'WETH': 1},\n",
       " {'DAI': 0.0006273686958774544, 'WETH': 1.0})"
      ]
     },
     "execution_count": 91,
     "metadata": {},
     "output_type": "execute_result"
    }
   ],
   "source": [
    "PRICES, r.p_optimal"
   ]
  },
  {
   "cell_type": "code",
   "execution_count": 92,
   "id": "7d7d54a8",
   "metadata": {},
   "outputs": [
    {
     "data": {
      "text/plain": [
       "(1593.959033294407, 1590.7292608895832)"
      ]
     },
     "execution_count": 92,
     "metadata": {},
     "output_type": "execute_result"
    }
   ],
   "source": [
    "1/r.p_optimal_t[0], PRICES[\"WETH\"]/PRICES[\"DAI\"]"
   ]
  },
  {
   "cell_type": "markdown",
   "id": "f6130abc",
   "metadata": {},
   "source": [
    "The `result` is the amount of target token extracted. Note that this assumes that the algo has converged which it has not in this case. The `dtokens` property shows the _aggregate_ change in tokens, and it _should_ be zero for everything but the target token WETH which is not the case here."
   ]
  },
  {
   "cell_type": "code",
   "execution_count": 93,
   "id": "9f1c1fa6",
   "metadata": {},
   "outputs": [
    {
     "data": {
      "text/plain": [
       "22.14415018604268"
      ]
     },
     "execution_count": 93,
     "metadata": {},
     "output_type": "execute_result"
    }
   ],
   "source": [
    "assert r.result == r.dtokens[\"WETH\"]\n",
    "r.result"
   ]
  },
  {
   "cell_type": "code",
   "execution_count": 94,
   "id": "27a53e7e",
   "metadata": {},
   "outputs": [
    {
     "data": {
      "text/plain": [
       "{'DAI': -37239.86438154429, 'WETH': 22.14415018604268}"
      ]
     },
     "execution_count": 94,
     "metadata": {},
     "output_type": "execute_result"
    }
   ],
   "source": [
    "r.dtokens"
   ]
  },
  {
   "cell_type": "markdown",
   "id": "15cffd46",
   "metadata": {},
   "source": [
    "`dxdyvalues` and `dxvecvalues` show the changes of the respective curves. For standard two-asset curves they are equivalent, just in a different format; for three+ asset curves only dxvecvalues is defined"
   ]
  },
  {
   "cell_type": "code",
   "execution_count": 95,
   "id": "c4461246",
   "metadata": {},
   "outputs": [
    {
     "data": {
      "text/plain": [
       "{'0x33ed': (61.57332217693329, -100000.0),\n",
       " '0xb1d8': (13789.132085457444, -8.665306719478394),\n",
       " '0xae2b': (48971.003532998264, -30.763865271412214)}"
      ]
     },
     "execution_count": 95,
     "metadata": {},
     "output_type": "execute_result"
    }
   ],
   "source": [
    "r.dxdyvalues(asdict=True)"
   ]
  },
  {
   "cell_type": "code",
   "execution_count": 96,
   "id": "bb314923",
   "metadata": {},
   "outputs": [
    {
     "data": {
      "text/plain": [
       "{'0x33ed': {'WETH': 61.57332217693329, 'DAI': -100000.0},\n",
       " '0xb1d8': {'DAI': 13789.132085457444, 'WETH': -8.665306719478394},\n",
       " '0xae2b': {'DAI': 48971.003532998264, 'WETH': -30.763865271412214}}"
      ]
     },
     "execution_count": 96,
     "metadata": {},
     "output_type": "execute_result"
    }
   ],
   "source": [
    "r.dxvecvalues(asdict=True)"
   ]
  },
  {
   "cell_type": "markdown",
   "id": "14af2241",
   "metadata": {},
   "source": [
    "This shows that the algorithm **has not converged** -- this number (the net flow of DAI; note that the target token here is WETH) should be zero!"
   ]
  },
  {
   "cell_type": "code",
   "execution_count": 97,
   "id": "7410fc4a",
   "metadata": {},
   "outputs": [
    {
     "data": {
      "text/plain": [
       "-37239.86438154429"
      ]
     },
     "execution_count": 97,
     "metadata": {},
     "output_type": "execute_result"
    }
   ],
   "source": [
    "s_DAI = sum(x[\"DAI\"] for x in r.dxvecvalues(asdict=True).values())\n",
    "assert iseq(s_DAI, r.dtokens[\"DAI\"])\n",
    "s_DAI"
   ]
  },
  {
   "cell_type": "markdown",
   "id": "9094b4e1",
   "metadata": {},
   "source": [
    "This number is not expected to be zero as the profit is being extracted in WETH"
   ]
  },
  {
   "cell_type": "code",
   "execution_count": 98,
   "id": "e5c2ee6a",
   "metadata": {
    "lines_to_next_cell": 2
   },
   "outputs": [
    {
     "data": {
      "text/plain": [
       "22.14415018604268"
      ]
     },
     "execution_count": 98,
     "metadata": {},
     "output_type": "execute_result"
    }
   ],
   "source": [
    "s_WETH = sum(x[\"WETH\"] for x in r.dxvecvalues(asdict=True).values())\n",
    "assert iseq(s_WETH, r.dtokens[\"WETH\"])\n",
    "s_WETH"
   ]
  },
  {
   "cell_type": "markdown",
   "id": "fc9ca8c9",
   "metadata": {},
   "source": [
    "## PairOptimizer vs MarpP\n",
    "### Setup"
   ]
  },
  {
   "cell_type": "markdown",
   "id": "3af82ecb-2f2d-48d6-beae-3be4769bef1d",
   "metadata": {},
   "source": [
    "### Unlevered curves `CCul`"
   ]
  },
  {
   "cell_type": "code",
   "execution_count": 99,
   "id": "60d1d4f0-6f2d-4808-8f58-5dac878f6838",
   "metadata": {},
   "outputs": [],
   "source": [
    "Oul = PairOptimizer(curves=CCul)\n",
    "Oul_mp = MargPOptimizer(curves=CCul)\n",
    "assert len(Oul.curves) == len(CCul)"
   ]
  },
  {
   "cell_type": "markdown",
   "id": "94d61bad-3788-4089-81a6-c8a220236dc8",
   "metadata": {},
   "source": [
    "Unlevered curves converged nicely in the margp (gradient descent) optimizer, and they are converging nicely here; the results are very close together (better than 1e-5)"
   ]
  },
  {
   "cell_type": "code",
   "execution_count": 100,
   "id": "1ab07f48-e00f-46ea-ab8f-3cc63bb23bbd",
   "metadata": {},
   "outputs": [
    {
     "name": "stdout",
     "output_type": "stream",
     "text": [
      "[PairOptimizer.optimize] curves_t WETH/DAI\n",
      "[PairOptimizer.optimize] p_optimal OptimizerBase.SimpleResult(result=1550.4034357378998, method='bisection', errormsg=None, context_dct=None) full_result [-5.20426785e-03  9.09494702e-12]\n"
     ]
    },
    {
     "data": {
      "text/plain": [
       "(CPCArbOptimizer.MargpOptimizerResult(result=-0.005204267851834032, time=0.002946138381958008, method='margp-pair', targettkn='WETH', p_optimal_t=(0.0006449934107144566,), dtokens_t=(-0.005204267851834032,), tokens_t=('DAI',), errormsg=None),\n",
       " CPCArbOptimizer.MargpOptimizerResult(result=-0.005204267821271813, time=0.0006201267242431641, method='margp', targettkn='WETH', p_optimal_t=(0.0006449934107164284,), dtokens_t=(-4.737194103654474e-08,), tokens_t=('DAI',), errormsg=None),\n",
       " 5.872530017825284e-09)"
      ]
     },
     "execution_count": 100,
     "metadata": {},
     "output_type": "execute_result"
    }
   ],
   "source": [
    "r   = Oul.optimize(\"WETH\")\n",
    "rmp = Oul_mp.optimize(\"WETH\")\n",
    "assert r.error is None\n",
    "assert rmp.error is None\n",
    "assert r.method   == \"margp-pair\"\n",
    "assert rmp.method == \"margp\"\n",
    "assert r.targettkn == \"WETH\" \n",
    "assert rmp.targettkn == \"WETH\"\n",
    "assert r.tokens_t == ('DAI',)\n",
    "assert rmp.tokens_t == ('DAI',)\n",
    "assert r.dtokens[\"WETH\"] < 0\n",
    "assert rmp.dtokens[\"WETH\"] < 0\n",
    "assert iseq(r.p_optimal_t[0], 0.0006449934107144566)\n",
    "assert iseq(rmp.p_optimal_t[0], 0.0006449934107164284)\n",
    "assert r.result/rmp.result-1 < 1e-5\n",
    "r, rmp, r.result/rmp.result-1"
   ]
  },
  {
   "cell_type": "markdown",
   "id": "5fa27642-f637-41df-97d3-4bd1eae00088",
   "metadata": {},
   "source": [
    "It is notable that the bisection algorithm is **six times slower** than the gradient descent"
   ]
  },
  {
   "cell_type": "code",
   "execution_count": 101,
   "id": "6b9292d4-df1f-4be3-bedc-798c83980c4d",
   "metadata": {},
   "outputs": [
    {
     "data": {
      "text/plain": [
       "4.750865051903114"
      ]
     },
     "execution_count": 101,
     "metadata": {},
     "output_type": "execute_result"
    }
   ],
   "source": [
    "r.time/rmp.time"
   ]
  },
  {
   "cell_type": "markdown",
   "id": "98bb193e-64b3-4531-a3c3-ce3d5ec40d34",
   "metadata": {},
   "source": [
    "the optimal price here is very very close: 1e-12"
   ]
  },
  {
   "cell_type": "code",
   "execution_count": 102,
   "id": "5826dfb8-0a6c-4da0-84e8-1ee6a4961919",
   "metadata": {},
   "outputs": [
    {
     "data": {
      "text/plain": [
       "-3.0569990983053685e-12"
      ]
     },
     "execution_count": 102,
     "metadata": {},
     "output_type": "execute_result"
    }
   ],
   "source": [
    "assert r.p_optimal_t[0]/rmp.p_optimal_t[0]-1 < 1e-8\n",
    "r.p_optimal_t[0]/rmp.p_optimal_t[0]-1"
   ]
  },
  {
   "cell_type": "markdown",
   "id": "0cca1787-0fc2-4e33-a157-c4888fe4b2bb",
   "metadata": {},
   "source": [
    "Here we show that (a) the DAI transfer is de-minimis and close enough to zero, and more importantly, that (b) both our methods give essentially the same result as to how much ETH can be obtained from the arb"
   ]
  },
  {
   "cell_type": "code",
   "execution_count": 103,
   "id": "bb4eab27-ad3d-42e9-985f-feaabdd100c0",
   "metadata": {},
   "outputs": [
    {
     "data": {
      "text/plain": [
       "({'WETH': -0.005204267851834032, 'DAI': 9.094947017729282e-12},\n",
       " {'DAI': -4.737194103654474e-08, 'WETH': -0.005204267821271813},\n",
       " 5.872530017825284e-09)"
      ]
     },
     "execution_count": 103,
     "metadata": {},
     "output_type": "execute_result"
    }
   ],
   "source": [
    "assert r.dtokens[\"DAI\"] < 1e-5\n",
    "assert rmp.dtokens[\"DAI\"] < 1e-5\n",
    "assert r.dtokens[\"WETH\"]/rmp.dtokens[\"WETH\"]-1 < 1e-5\n",
    "r.dtokens, rmp.dtokens, r.dtokens[\"WETH\"]/rmp.dtokens[\"WETH\"]-1"
   ]
  },
  {
   "cell_type": "markdown",
   "id": "be7cde96",
   "metadata": {},
   "source": [
    "### Normalized curves `CCn`"
   ]
  },
  {
   "cell_type": "code",
   "execution_count": 104,
   "id": "0be48669-2a24-4e81-9d50-f1d8972e1f95",
   "metadata": {},
   "outputs": [],
   "source": [
    "On = PairOptimizer(curves=CCn)\n",
    "On_mp = MargPOptimizer(curves=CCn)\n",
    "assert len(On.curves) == len(CC)+1"
   ]
  },
  {
   "cell_type": "code",
   "execution_count": 105,
   "id": "c3a76a52-bb69-4c1f-b0bc-42e6c79fefbe",
   "metadata": {},
   "outputs": [
    {
     "name": "stdout",
     "output_type": "stream",
     "text": [
      "[PairOptimizer.optimize] curves_t WETH/DAI\n",
      "[PairOptimizer.optimize] p_optimal OptimizerBase.SimpleResult(result=1593.7322005827082, method='bisection', errormsg=None, context_dct=None) full_result [-1.24434510e+00  1.41561031e-07]\n"
     ]
    },
    {
     "data": {
      "text/plain": [
       "(CPCArbOptimizer.MargpOptimizerResult(result=-1.2443450995306193, time=0.004670143127441406, method='margp-pair', targettkn='WETH', p_optimal_t=(0.0006274579880072543,), dtokens_t=(-1.2443450995306193,), tokens_t=('DAI',), errormsg=None),\n",
       " CPCArbOptimizer.MargpOptimizerResult(result=-1.244345098228223, time=0.0018630027770996094, method='margp', targettkn='WETH', p_optimal_t=(0.00062745798800732,), dtokens_t=(-1.9371509552001953e-06,), tokens_t=('DAI',), errormsg=None),\n",
       " 1.04665209832433e-09)"
      ]
     },
     "execution_count": 105,
     "metadata": {},
     "output_type": "execute_result"
    }
   ],
   "source": [
    "r = On.optimize(\"WETH\")\n",
    "rmp = On_mp.optimize(\"WETH\")\n",
    "assert r.error is None\n",
    "assert rmp.error is None\n",
    "assert r.method   == \"margp-pair\"\n",
    "assert rmp.method == \"margp\"\n",
    "assert r.targettkn == \"WETH\" \n",
    "assert rmp.targettkn == \"WETH\"\n",
    "assert r.tokens_t == ('DAI',)\n",
    "assert rmp.tokens_t == ('DAI',)\n",
    "assert r.dtokens[\"WETH\"] < 0\n",
    "assert rmp.dtokens[\"WETH\"] < 0\n",
    "assert iseq(r.p_optimal_t[0], 0.0006274579880072543)\n",
    "assert iseq(rmp.p_optimal_t[0], 0.00062745798800732)\n",
    "assert r.result/rmp.result-1 < 1e-5\n",
    "r, rmp, r.result/rmp.result-1"
   ]
  },
  {
   "cell_type": "markdown",
   "id": "5672f8c7",
   "metadata": {},
   "source": [
    "### Succeeding optimization process `CC0` [TODO]"
   ]
  },
  {
   "cell_type": "code",
   "execution_count": 106,
   "id": "ff77c822-30cd-4fe4-85dd-c1bb6d0703da",
   "metadata": {},
   "outputs": [],
   "source": [
    "O0  = PairOptimizer(curves=CC0)\n",
    "O0_mp  = MargPOptimizer(curves=CC0)\n",
    "assert len(O0.curves) == len(CC) # sic"
   ]
  },
  {
   "cell_type": "code",
   "execution_count": 107,
   "id": "805746ce-110e-49cd-8305-2575be5c1883",
   "metadata": {},
   "outputs": [
    {
     "name": "stdout",
     "output_type": "stream",
     "text": [
      "[PairOptimizer.optimize] curves_t WETH/DAI\n",
      "[PairOptimizer.optimize] p_optimal OptimizerBase.SimpleResult(result=1591.9998686908102, method='bisection', errormsg=None, context_dct=None) full_result [-0.01307293  0.0076346 ]\n"
     ]
    },
    {
     "data": {
      "text/plain": [
       "CPCArbOptimizer.MargpOptimizerResult(result=-0.013072933863440994, time=0.005869865417480469, method='margp-pair', targettkn='WETH', p_optimal_t=(0.0006281407553270438,), dtokens_t=(-0.013072933863440994,), tokens_t=('DAI',), errormsg=None)"
      ]
     },
     "execution_count": 107,
     "metadata": {},
     "output_type": "execute_result"
    }
   ],
   "source": [
    "r = O0.optimize(\"WETH\")\n",
    "r"
   ]
  },
  {
   "cell_type": "markdown",
   "id": "cdc13d65",
   "metadata": {},
   "source": [
    "### Optimization process `CC` (fails in full margp)"
   ]
  },
  {
   "cell_type": "code",
   "execution_count": 108,
   "id": "e9c02aa7",
   "metadata": {
    "lines_to_next_cell": 2
   },
   "outputs": [],
   "source": [
    "O = PairOptimizer(curves=CC)\n",
    "O_mp   = MargPOptimizer(curves=CC)\n",
    "assert len(O.curves) == len(CC)"
   ]
  },
  {
   "cell_type": "code",
   "execution_count": 109,
   "id": "58c01b3c-9f94-4206-ab9f-81369c07bdc9",
   "metadata": {},
   "outputs": [
    {
     "name": "stdout",
     "output_type": "stream",
     "text": [
      "[PairOptimizer.optimize] curves_t WETH/DAI\n",
      "[PairOptimizer.optimize] p_optimal OptimizerBase.SimpleResult(result=1624.0799396601315, method='bisection', errormsg=None, context_dct=None) full_result [-0.78567011 -0.00451826]\n"
     ]
    },
    {
     "data": {
      "text/plain": [
       "(CPCArbOptimizer.MargpOptimizerResult(result=-0.7856701131058799, time=0.004789829254150391, method='margp-pair', targettkn='WETH', p_optimal_t=(0.0006157332379890538,), dtokens_t=(-0.7856701131058799,), tokens_t=('DAI',), errormsg=None),\n",
       " CPCArbOptimizer.MargpOptimizerResult(result=22.14415018604268, time=0.0007498264312744141, method='margp', targettkn='WETH', p_optimal_t=(0.0006273686958774544,), dtokens_t=(-37239.86438154429,), tokens_t=('DAI',), errormsg=None),\n",
       " -1.0354798042148885)"
      ]
     },
     "execution_count": 109,
     "metadata": {},
     "output_type": "execute_result"
    }
   ],
   "source": [
    "r = O.optimize(\"WETH\")\n",
    "rmp = O_mp.optimize(\"WETH\")\n",
    "assert r.error is None\n",
    "assert rmp.error is None\n",
    "assert r.method   == \"margp-pair\"\n",
    "assert rmp.method == \"margp\"\n",
    "assert r.targettkn == \"WETH\" \n",
    "assert rmp.targettkn == \"WETH\"\n",
    "assert r.tokens_t == ('DAI',)\n",
    "assert rmp.tokens_t == ('DAI',)\n",
    "assert r.dtokens[\"WETH\"] < 0\n",
    "assert not rmp.dtokens[\"WETH\"] < 0 # FAILS!\n",
    "assert iseq(r.p_optimal_t[0], 0.0006157332379890538)\n",
    "assert iseq(rmp.p_optimal_t[0], 0.0006273686958774544)\n",
    "assert r.result/rmp.result-1 < 1e-5\n",
    "r, rmp, r.result/rmp.result-1"
   ]
  },
  {
   "cell_type": "markdown",
   "id": "3e7b1b4f-3b28-4c47-b534-0de80781eb5b",
   "metadata": {},
   "source": [
    "This now converges fine (note as we see below we need an eps parameter of about 1e-10, and also not that we can't go much higher because in this case it gets stuck, probably because of float precision."
   ]
  },
  {
   "cell_type": "code",
   "execution_count": 110,
   "id": "7110ebe7-35b7-44e8-9936-402a26fd3ffb",
   "metadata": {},
   "outputs": [
    {
     "data": {
      "text/plain": [
       "({'WETH': -0.7856701131058799, 'DAI': -0.004518263041973114},\n",
       " -1249.7884383239516)"
      ]
     },
     "execution_count": 110,
     "metadata": {},
     "output_type": "execute_result"
    }
   ],
   "source": [
    "r.dtokens, r.dtokens[\"WETH\"]*PRICE0"
   ]
  },
  {
   "cell_type": "markdown",
   "id": "09365401-ec73-41ff-867f-eca7c62d023e",
   "metadata": {},
   "source": [
    "We see that accuracy at eps=1e-6 is not that great, but at 1e-10 it is very good; also it seems that by and large the runtime does not really depend on the precision parameter here, so we go for 1e-10 throughout [not you can't go for higher precision as it then never returns, probably because of float accuracy issues]"
   ]
  },
  {
   "cell_type": "code",
   "execution_count": 111,
   "id": "c7a6f962-5331-4329-bb83-04711ca66e23",
   "metadata": {},
   "outputs": [
    {
     "name": "stdout",
     "output_type": "stream",
     "text": [
      "[PairOptimizer.optimize] curves_t WETH/DAI\n",
      "[PairOptimizer.optimize] p_optimal OptimizerBase.SimpleResult(result=1624.0799396559619, method='bisection', errormsg=None, context_dct=None) full_result [-0.78487976 -1.28796553]\n",
      "[PairOptimizer.optimize] curves_t WETH/DAI\n",
      "[PairOptimizer.optimize] p_optimal OptimizerBase.SimpleResult(result=1624.0799396598013, method='bisection', errormsg=None, context_dct=None) full_result [-0.78560753 -0.10595869]\n",
      "[PairOptimizer.optimize] curves_t WETH/DAI\n",
      "[PairOptimizer.optimize] p_optimal OptimizerBase.SimpleResult(result=1624.0799396601315, method='bisection', errormsg=None, context_dct=None) full_result [-0.78567011 -0.00451826]\n"
     ]
    },
    {
     "data": {
      "text/plain": [
       "({'WETH': -0.7848797555161582, 'DAI': -1.2879655286669731},\n",
       " {'WETH': -0.7856075282288657, 'DAI': -0.10595869272947311},\n",
       " {'WETH': -0.7856701131058799, 'DAI': -0.004518263041973114})"
      ]
     },
     "execution_count": 111,
     "metadata": {},
     "output_type": "execute_result"
    }
   ],
   "source": [
    "r06 = O.optimize(\"WETH\", params={\"eps\":1e-6})\n",
    "r08 = O.optimize(\"WETH\", params={\"eps\":1e-8})\n",
    "r10 = O.optimize(\"WETH\", params={\"eps\":1e-10})\n",
    "r06.dtokens, r08.dtokens, r10.dtokens"
   ]
  },
  {
   "cell_type": "code",
   "execution_count": 112,
   "id": "f9e10526-8547-4520-9ff4-5050f739501a",
   "metadata": {},
   "outputs": [
    {
     "data": {
      "text/plain": [
       "[1.4435310080612977, 2.0919466836938305]"
      ]
     },
     "execution_count": 112,
     "metadata": {},
     "output_type": "execute_result"
    }
   ],
   "source": [
    "[r10.time/r06.time, r08.time/r06.time]"
   ]
  },
  {
   "cell_type": "markdown",
   "id": "3d63863e",
   "metadata": {},
   "source": [
    "## MargPOptimizer new TODO\n",
    "\n",
    "this is still on the todo lost, but does not have high priority; the new margp optimizer will have a different convergence criterium [p ~ 0 rather than d log p ~ 0]. This will not help in terms of convergence on a plateau -- a gradient algorithm can not recover from f'(x) = 0 -- but it will allow identifying instances of non convergence.\n",
    "\n",
    "### Setup"
   ]
  },
  {
   "cell_type": "code",
   "execution_count": 113,
   "id": "e130dbe9-65a4-4313-babf-e968664664ea",
   "metadata": {},
   "outputs": [],
   "source": [
    "pass"
   ]
  },
  {
   "cell_type": "code",
   "execution_count": 114,
   "id": "b24a97bb",
   "metadata": {
    "lines_to_next_cell": 2
   },
   "outputs": [],
   "source": [
    "# Oul = PairOptimizer(curves=CCul)\n",
    "# On  = PairOptimizer(curves=CCn)\n",
    "# O0  = PairOptimizer(curves=CC0)\n",
    "# O   = PairOptimizer(curves=CC)\n",
    "# assert len(On.curves) == len(CC)+1\n",
    "# assert len(O0.curves) == len(CC)\n",
    "# assert len(O.curves) == len(CC)"
   ]
  },
  {
   "cell_type": "markdown",
   "id": "25709ff0",
   "metadata": {},
   "source": [
    "### Unlevered curves `CCul`"
   ]
  },
  {
   "cell_type": "markdown",
   "id": "c5f85525-a594-4ba4-8f66-0b50e01c2d4b",
   "metadata": {},
   "source": [
    "### Normalized curves `CCn`"
   ]
  },
  {
   "cell_type": "markdown",
   "id": "4148f775-4432-45b5-a0c3-94911c21e71d",
   "metadata": {},
   "source": [
    "### Succeeding optimization process `CC0` [TODO]"
   ]
  },
  {
   "cell_type": "markdown",
   "id": "7dc90de9-eb44-4daf-9d1f-457abf989290",
   "metadata": {
    "lines_to_next_cell": 2
   },
   "source": [
    "### Failing optimization process `CC`"
   ]
  },
  {
   "cell_type": "markdown",
   "id": "2039a37d",
   "metadata": {},
   "source": [
    "## Charts [NOTEST]"
   ]
  },
  {
   "cell_type": "code",
   "execution_count": 115,
   "id": "7aa98c10",
   "metadata": {},
   "outputs": [
    {
     "name": "stdout",
     "output_type": "stream",
     "text": [
      "pair = WETH/DAI\n"
     ]
    },
    {
     "data": {
      "image/png": "[encoded data removed]",
      "text/plain": [
       "<Figure size 864x432 with 1 Axes>"
      ]
     },
     "metadata": {},
     "output_type": "display_data"
    },
    {
     "name": "stdout",
     "output_type": "stream",
     "text": [
      "pair = DAI/WETH\n"
     ]
    },
    {
     "data": {
      "image/png": "[encoded data removed]",
      "text/plain": [
       "<Figure size 864x432 with 1 Axes>"
      ]
     },
     "metadata": {},
     "output_type": "display_data"
    }
   ],
   "source": [
    "CC.plot()"
   ]
  },
  {
   "cell_type": "code",
   "execution_count": 116,
   "id": "5c3fd4d7",
   "metadata": {},
   "outputs": [
    {
     "name": "stdout",
     "output_type": "stream",
     "text": [
      "pair = WETH/DAI\n"
     ]
    },
    {
     "data": {
      "image/png": "[encoded data removed]",
      "text/plain": [
       "<Figure size 864x432 with 1 Axes>"
      ]
     },
     "metadata": {},
     "output_type": "display_data"
    }
   ],
   "source": [
    "CCul.plot()"
   ]
  },
  {
   "cell_type": "code",
   "execution_count": 117,
   "id": "ddd1a9bc-0ade-4c46-93bb-a9b1ff5c926b",
   "metadata": {},
   "outputs": [
    {
     "name": "stdout",
     "output_type": "stream",
     "text": [
      "pair = WETH/DAI\n"
     ]
    },
    {
     "data": {
      "image/png": "[encoded data removed]",
      "text/plain": [
       "<Figure size 864x432 with 1 Axes>"
      ]
     },
     "metadata": {},
     "output_type": "display_data"
    },
    {
     "name": "stdout",
     "output_type": "stream",
     "text": [
      "pair = DAI/WETH\n"
     ]
    },
    {
     "data": {
      "image/png": "[encoded data removed]",
      "text/plain": [
       "<Figure size 864x432 with 1 Axes>"
      ]
     },
     "metadata": {},
     "output_type": "display_data"
    }
   ],
   "source": [
    "CC0.plot()"
   ]
  },
  {
   "cell_type": "code",
   "execution_count": 118,
   "id": "4331dd96-51ba-4d10-833b-2634b92486e9",
   "metadata": {},
   "outputs": [
    {
     "name": "stdout",
     "output_type": "stream",
     "text": [
      "pair = WETH/DAI\n"
     ]
    },
    {
     "data": {
      "image/png": "[encoded data removed]",
      "text/plain": [
       "<Figure size 864x432 with 1 Axes>"
      ]
     },
     "metadata": {},
     "output_type": "display_data"
    },
    {
     "name": "stdout",
     "output_type": "stream",
     "text": [
      "pair = DAI/WETH\n"
     ]
    },
    {
     "data": {
      "image/png": "[encoded data removed]",
      "text/plain": [
       "<Figure size 864x432 with 1 Axes>"
      ]
     },
     "metadata": {},
     "output_type": "display_data"
    }
   ],
   "source": [
    "CCn.plot()"
   ]
  },
  {
   "cell_type": "code",
   "execution_count": null,
   "id": "fe61e08d-527f-4a63-93d5-c5c5fbc8490b",
   "metadata": {},
   "outputs": [],
   "source": []
  }
 ],
 "metadata": {
  "jupytext": {
   "encoding": "# -*- coding: utf-8 -*-",
   "formats": "ipynb,py:light"
  },
  "kernelspec": {
   "display_name": "Python 3",
   "language": "python",
   "name": "python3"
  },
  "language_info": {
   "codemirror_mode": {
    "name": "ipython",
    "version": 3
   },
   "file_extension": ".py",
   "mimetype": "text/x-python",
   "name": "python",
   "nbconvert_exporter": "python",
   "pygments_lexer": "ipython3",
   "version": "3.8.8"
  }
 },
 "nbformat": 4,
 "nbformat_minor": 5
}

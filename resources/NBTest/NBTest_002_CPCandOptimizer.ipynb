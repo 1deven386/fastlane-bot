{
 "cells": [
  {
   "cell_type": "code",
   "execution_count": 1,
   "id": "a448e212",
   "metadata": {},
   "outputs": [
    {
     "name": "stdout",
     "output_type": "stream",
     "text": [
      "SimplePair v2.1 (18/May/2023)\n",
      "ConstantProductCurve v2.14 (23/May/2023)\n",
      "CPCArbOptimizer v5.0 (26/Jul/2023)\n",
      "imported m, np, pd, plt, os, sys, decimal; defined iseq, raises, require\n",
      "Version = 3-b2.2 [requirements >= 3.0 is met]\n"
     ]
    }
   ],
   "source": [
    "from fastlane_bot.tools.cpc import ConstantProductCurve as CPC, CPCContainer, T, CPCInverter, Pair\n",
    "from fastlane_bot.tools.optimizer import CPCArbOptimizer, F, MargPOptimizer, SimpleOptimizer\n",
    "from fastlane_bot.tools.analyzer import CPCAnalyzer\n",
    "print(\"{0.__name__} v{0.__VERSION__} ({0.__DATE__})\".format(Pair))\n",
    "print(\"{0.__name__} v{0.__VERSION__} ({0.__DATE__})\".format(CPC))\n",
    "print(\"{0.__name__} v{0.__VERSION__} ({0.__DATE__})\".format(CPCArbOptimizer))\n",
    "print(\"{0.__name__} v{0.__VERSION__} ({0.__DATE__})\".format(MargPOptimizer))\n",
    "print(\"{0.__name__} v{0.__VERSION__} ({0.__DATE__})\".format(SimpleOptimizer))\n",
    "\n",
    "from fastlane_bot.testing import *\n",
    "#plt.style.use('seaborn-dark')\n",
    "plt.rcParams['figure.figsize'] = [12,6]\n",
    "from fastlane_bot import __VERSION__\n",
    "require(\"3.0\", __VERSION__)"
   ]
  },
  {
   "cell_type": "markdown",
   "id": "d9917997",
   "metadata": {},
   "source": [
    "# CPC and Optimizer in Fastlane [NBTest002]"
   ]
  },
  {
   "cell_type": "code",
   "execution_count": 2,
   "id": "d6c6ac8d",
   "metadata": {},
   "outputs": [],
   "source": [
    "try:\n",
    "    market_df = pd.read_csv(\"_data/NBTEST_002_Curves.csv.gz\")\n",
    "except:\n",
    "    market_df = pd.read_csv(\"fastlane_bot/tests/nbtest/_data/NBTEST_002_Curves.csv.gz\")\n",
    "CCmarket = CPCContainer.from_df(market_df)"
   ]
  },
  {
   "cell_type": "markdown",
   "id": "420a98f2",
   "metadata": {},
   "source": [
    "## description"
   ]
  },
  {
   "cell_type": "code",
   "execution_count": 3,
   "id": "2e23803a",
   "metadata": {},
   "outputs": [
    {
     "name": "stdout",
     "output_type": "stream",
     "text": [
      "cid      = 167 [167]\n",
      "primary  = WETH/DAI [WETH/DAI]\n",
      "pp       = 1,826.764318 DAI per WETH\n",
      "pair     = DAI/WETH [DAI/WETH]\n",
      "tknx     =     3,967,283.591895 DAI        [virtual:        3,967,283.592]\n",
      "tkny     =         2,171.754481 WETH       [virtual:            2,171.754]\n",
      "p        = 0.0005474159913752679 [min=None, max=None] WETH per DAI\n",
      "fee      = 0.003\n",
      "descr    = sushiswap_v2 DAI/WETH 0.003\n"
     ]
    }
   ],
   "source": [
    "d = CCmarket.bycid(\"167\").description().splitlines()\n",
    "d0 = \"\"\"\n",
    "cid      = 167 [167]\n",
    "primary  = WETH/DAI [WETH/DAI]\n",
    "pp       = 1,826.764318 DAI per WETH\n",
    "pair     = DAI/WETH [DAI/WETH]\n",
    "tknx     =     3,967,283.591895 DAI        [virtual:        3,967,283.592]\n",
    "tkny     =         2,171.754481 WETH       [virtual:            2,171.754]\n",
    "p        = 0.0005474159913752679 [min=None, max=None] WETH per DAI\n",
    "fee      = 0.003\n",
    "descr    = sushiswap_v2 DAI/WETH 0.003\n",
    "\"\"\".strip().splitlines()\n",
    "d0 = [l.strip() for l in d0]\n",
    "assert d == d0\n",
    "for l in d0:\n",
    "    print(l)"
   ]
  },
  {
   "cell_type": "markdown",
   "id": "6ca9820a",
   "metadata": {},
   "source": [
    "## bycids"
   ]
  },
  {
   "cell_type": "code",
   "execution_count": 4,
   "id": "db8ec358",
   "metadata": {},
   "outputs": [],
   "source": [
    "CC = CCmarket"
   ]
  },
  {
   "cell_type": "code",
   "execution_count": 5,
   "id": "84f2f485",
   "metadata": {},
   "outputs": [],
   "source": [
    "assert len(CC.bycids()) == len(CC)\n",
    "assert type(CC.bycids()) == type(CC)\n",
    "assert type(CC.bycids(ascc=False)) == tuple\n",
    "for c in CC:\n",
    "    assert isinstance(c.cid, str), f\"{c.cid} is not of type str\"\n",
    "cids = [c.cid for c in CC]\n",
    "assert raises(CC.bycids, include=\"foo\", endswith=\"bar\") == 'include and endswith cannot be used together'\n",
    "assert raises(CC.bycids,\"167, 168, 169\")\n",
    "CC1 = CC.bycids([\"167\", \"168\", \"169\"])\n",
    "assert len(CC1) == 3\n",
    "assert [c.cid for c in CC1] == ['167', '168', '169']\n",
    "CC2 = CC.bycids(endswith=\"11\")\n",
    "assert len(CC2) == 5\n",
    "assert [c.cid for c in CC2] == ['211', '311', '411', '511', '611']\n",
    "CC3 = CC.bycids(endswith=\"11\", exclude=['311', '411'])\n",
    "assert [c.cid for c in CC3] == ['211', '511', '611']"
   ]
  },
  {
   "cell_type": "markdown",
   "id": "ec3eb0ea",
   "metadata": {},
   "source": [
    "## pairo and primary"
   ]
  },
  {
   "cell_type": "code",
   "execution_count": 6,
   "id": "996e686a",
   "metadata": {},
   "outputs": [],
   "source": [
    "assert Pair.n(\"WETH-eeee\") == \"WETH\"\n",
    "assert Pair.n(\"WETH\") == \"WETH\"\n",
    "assert Pair.n(\"USDC-uuuu/WETH-eeee\") == \"USDC/WETH\""
   ]
  },
  {
   "cell_type": "code",
   "execution_count": 7,
   "id": "cad32d68",
   "metadata": {},
   "outputs": [],
   "source": [
    "pairo = Pair(\"USDC-uuuu/WETH-eeee\")\n",
    "assert pairo.isprimary == False\n",
    "assert raises (Pair, tknb='USDC-uuuu', tknq='WETH-eeee')\n",
    "assert pairo.tknb == 'USDC-uuuu'\n",
    "assert pairo.tknq == 'WETH-eeee'\n",
    "assert pairo.tknb_n == 'USDC'\n",
    "assert pairo.tknq_n == 'WETH'\n",
    "assert pairo.tknx == 'USDC-uuuu'\n",
    "assert pairo.tkny == 'WETH-eeee'\n",
    "assert pairo.tknx_n == 'USDC'\n",
    "assert pairo.tkny_n == 'WETH'\n",
    "assert pairo.pair == 'USDC-uuuu/WETH-eeee'\n",
    "assert pairo.pair_n == 'USDC/WETH'\n",
    "assert pairo.primary == 'WETH-eeee/USDC-uuuu'\n",
    "assert pairo.primary_n == 'WETH/USDC'\n",
    "assert pairo.secondary == pairo.pair\n",
    "assert pairo.secondary_n == pairo.pair_n\n",
    "assert pairo.primary_tknb == \"WETH\"\n",
    "assert pairo.primary_tknq == \"USDC\""
   ]
  },
  {
   "cell_type": "code",
   "execution_count": 8,
   "id": "fdf29cb5",
   "metadata": {},
   "outputs": [],
   "source": [
    "pairo = Pair(\"WETH-eeee/USDC-uuuu\")\n",
    "assert pairo.isprimary == True\n",
    "assert pairo.tknq == 'USDC-uuuu'\n",
    "assert pairo.tknb == 'WETH-eeee'\n",
    "assert pairo.tknq_n == 'USDC'\n",
    "assert pairo.tknb_n == 'WETH'\n",
    "assert pairo.tkny == 'USDC-uuuu'\n",
    "assert pairo.tknx == 'WETH-eeee'\n",
    "assert pairo.tkny_n == 'USDC'\n",
    "assert pairo.tknx_n == 'WETH'\n",
    "assert pairo.pair == 'WETH-eeee/USDC-uuuu'\n",
    "assert pairo.pair_n == 'WETH/USDC'\n",
    "assert pairo.primary == pairo.pair\n",
    "assert pairo.primary_n == pairo.pair_n\n",
    "assert pairo.secondary == 'USDC-uuuu/WETH-eeee'\n",
    "assert pairo.secondary_n == 'USDC/WETH'\n",
    "assert pairo.primary_tknb == \"WETH\"\n",
    "assert pairo.primary_tknq == \"USDC\""
   ]
  },
  {
   "cell_type": "code",
   "execution_count": 9,
   "id": "c6d7394d",
   "metadata": {},
   "outputs": [],
   "source": [
    "c1 = CPC.from_pk(pair=\"USDC-uuuu/WETH-eeee\", p=1, k=100)\n",
    "c2 = CPC.from_pk(pair=\"WETH-eeee/USDC-uuuu\", p=1, k=100)\n",
    "CC = CPCContainer([c1,c2])\n",
    "assert c1.pairo.primary == 'WETH-eeee/USDC-uuuu'\n",
    "assert c2.pairo.primary == 'WETH-eeee/USDC-uuuu'\n",
    "assert c1.primary == c1.pairo.primary\n",
    "assert CC.pairs() == {'WETH-eeee/USDC-uuuu'}\n",
    "assert CC.pairs(standardize=True) == CC.pairs()\n",
    "assert CC.pairs(standardize=False) == {'USDC-uuuu/WETH-eeee', 'WETH-eeee/USDC-uuuu'}"
   ]
  },
  {
   "cell_type": "code",
   "execution_count": 10,
   "id": "dcdb3221",
   "metadata": {},
   "outputs": [],
   "source": [
    "assert Pair(\"WETH/USDC\").isprimary == True\n",
    "assert Pair(\"USDC/WETH\").isprimary == False"
   ]
  },
  {
   "cell_type": "markdown",
   "id": "bb0fd6af",
   "metadata": {},
   "source": [
    "## buysell"
   ]
  },
  {
   "cell_type": "code",
   "execution_count": 11,
   "id": "05230c3c",
   "metadata": {},
   "outputs": [],
   "source": [
    "# selling ETH at 2000-2001 USDC per ETH\n",
    "c1 = CPC.from_carbon(pair=\"WETH/USDC\", tkny=\"WETH\", yint=10, y=10, pa=1/2000, pb=1/2001, isdydx=True)\n",
    "assert c1.pair == \"USDC/WETH\"\n",
    "assert c1.primary == \"WETH/USDC\"\n",
    "assert c1.pairo.isprimary == False\n",
    "assert c1.buysell(verbose=True, withprice=True) == 'sell-WETH @ 2000.00 USDC per WETH'\n",
    "assert c1.buysell(verbose=False) == \"s\"\n",
    "assert c1.buysell() == \"s\""
   ]
  },
  {
   "cell_type": "code",
   "execution_count": 12,
   "id": "0b5e281e",
   "metadata": {},
   "outputs": [],
   "source": [
    "# selling ETH at 2000-2001 USDC per ETH\n",
    "c1 = CPC.from_carbon(pair=\"WETH/USDC\", tkny=\"WETH\", yint=10, y=10, pa=2000, pb=2001, isdydx=False)\n",
    "assert c1.pair == \"USDC/WETH\"\n",
    "assert c1.primary == \"WETH/USDC\"\n",
    "assert c1.pairo.isprimary == False\n",
    "assert c1.buysell(verbose=True, withprice=True) == 'sell-WETH @ 2000.00 USDC per WETH'\n",
    "assert c1.buysell(verbose=False) == \"s\"\n",
    "assert c1.buysell(verbose=False, withprice=True) == ('s', 2000.0000000000005)\n",
    "assert c1.buysell() == \"s\""
   ]
  },
  {
   "cell_type": "code",
   "execution_count": 13,
   "id": "9ce99e2d",
   "metadata": {},
   "outputs": [],
   "source": [
    "# buying ETH at 1500-1499 USDC per ETH\n",
    "c2 = CPC.from_carbon(pair=\"WETH/USDC\", tkny=\"USDC\", yint=10, y=10, pa=1500, pb=1499, isdydx=True)\n",
    "assert c2.pair == \"WETH/USDC\"\n",
    "assert c2.primary == \"WETH/USDC\"\n",
    "assert c2.pairo.isprimary == True\n",
    "assert c2.buysell(verbose=True, withprice=True) == 'buy-WETH @ 1500.00 USDC per WETH'\n",
    "assert c2.buysell(verbose=False) == \"b\"\n",
    "assert c2.buysell(verbose=False, withprice=True) == ('b', 1500.0000000000002)\n",
    "assert c2.buysell() == \"b\""
   ]
  },
  {
   "cell_type": "code",
   "execution_count": 14,
   "id": "a0c4f67b",
   "metadata": {},
   "outputs": [],
   "source": [
    "# buying ETH at 1500-1499 USDC per ETH\n",
    "c2 = CPC.from_carbon(pair=\"WETH/USDC\", tkny=\"USDC\", yint=10, y=10, pa=1500, pb=1499, isdydx=False)\n",
    "assert c2.pair == \"WETH/USDC\"\n",
    "assert c2.primary == \"WETH/USDC\"\n",
    "assert c2.pairo.isprimary == True\n",
    "assert c2.buysell(verbose=True, withprice=True) == 'buy-WETH @ 1500.00 USDC per WETH'\n",
    "assert c2.buysell(verbose=False) == \"b\"\n",
    "assert c2.buysell(verbose=False, withprice=True) == ('b', 1500.0000000000002)\n",
    "assert c2.buysell() == \"b\""
   ]
  },
  {
   "cell_type": "code",
   "execution_count": 15,
   "id": "bb8ab2a2",
   "metadata": {},
   "outputs": [],
   "source": [
    "# univ3 1899-1901 @ 1900 USDC per WETH\n",
    "c3 = CPC.from_univ3(pair=\"WETH/USDC\", Pmarg=1900, uniPa=1899, uniPb=1901, uniL=1000, cid=\"\", fee=0, descr=\"\")\n",
    "assert c3.pair == \"WETH/USDC\"\n",
    "assert c3.primary == \"WETH/USDC\"\n",
    "assert c3.pairo.isprimary == True\n",
    "assert c3.buysell(verbose=True, withprice=True) == 'buy-sell-WETH @ 1900.00 USDC per WETH'\n",
    "assert c3.buysell(verbose=False) == \"bs\"\n",
    "assert c3.buysell(verbose=False, withprice=True) == ('bs', 1900.0000000000007)\n",
    "assert c3.buysell() == \"bs\""
   ]
  },
  {
   "cell_type": "code",
   "execution_count": 16,
   "id": "439a2b12",
   "metadata": {},
   "outputs": [],
   "source": [
    "# univ3 1899-1901 @ 1900 USDC per WETH\n",
    "c3 = CPC.from_univ3(pair=\"USDC/WETH\", Pmarg=1/1900, uniPb=1/1899, uniPa=1/1901, uniL=1000, cid=\"\", fee=0, descr=\"\")\n",
    "assert c3.pair == \"USDC/WETH\"\n",
    "assert c3.primary == \"WETH/USDC\"\n",
    "assert c3.pairo.isprimary == False\n",
    "assert c3.buysell(verbose=True, withprice=True) == 'buy-sell-WETH @ 1900.00 USDC per WETH'\n",
    "assert c3.buysell(verbose=False) == \"bs\"\n",
    "assert c3.buysell(verbose=False, withprice=True) == ('bs', 1900.)\n",
    "assert c3.buysell() == \"bs\""
   ]
  },
  {
   "cell_type": "code",
   "execution_count": 17,
   "id": "49be8a53",
   "metadata": {},
   "outputs": [],
   "source": [
    "# univ3 1899-1901 @ 1899 USDC per WETH (WETH low, therefore 100% in WETH, therefore sell WETH)\n",
    "c4 = CPC.from_univ3(pair=\"WETH/USDC\", Pmarg=1899, uniPa=1899, uniPb=1901, uniL=1000, cid=\"\", fee=0, descr=\"\")\n",
    "assert c4.pair == \"WETH/USDC\"\n",
    "assert c4.primary == \"WETH/USDC\"\n",
    "assert c4.pairo.isprimary == True\n",
    "assert c4.buysell(verbose=True, withprice=True) == 'sell-WETH @ 1899.00 USDC per WETH'\n",
    "assert c4.buysell(verbose=False) == \"s\"\n",
    "assert c4.buysell(verbose=False, withprice=True) == ('s', 1899.0000000000002)\n",
    "assert c4.buysell() == \"s\""
   ]
  },
  {
   "cell_type": "code",
   "execution_count": 18,
   "id": "e30ec983",
   "metadata": {},
   "outputs": [],
   "source": [
    "# univ3 1899-1901 @ 1901 USDC per WETH (WETH high, therefore 100% in USDC, therefore buy WETH)\n",
    "c5 = CPC.from_univ3(pair=\"WETH/USDC\", Pmarg=1901, uniPa=1899, uniPb=1901, uniL=1000, cid=\"\", fee=0, descr=\"\")\n",
    "assert c5.pair == \"WETH/USDC\"\n",
    "assert c5.primary == \"WETH/USDC\"\n",
    "assert c5.pairo.isprimary == True\n",
    "assert c5.buysell(verbose=True, withprice=True) == 'buy-WETH @ 1901.00 USDC per WETH'\n",
    "assert c5.buysell(verbose=False) == \"b\"\n",
    "assert c5.buysell(verbose=False, withprice=True) == ('b', 1900.9999999999998)\n",
    "assert c5.buysell() == \"b\""
   ]
  },
  {
   "cell_type": "code",
   "execution_count": 19,
   "id": "332fe629",
   "metadata": {},
   "outputs": [],
   "source": [
    "# univ2 (tknb=2000 USDC, tknq=1 ETH)\n",
    "c6 = CPC.from_univ2(pair=\"USDC/WETH\", x_tknb=2000, y_tknq=1, cid=\"\", fee=0, descr=\"\")\n",
    "assert c6.pair == \"USDC/WETH\"\n",
    "assert c6.primary == \"WETH/USDC\"\n",
    "assert c6.pairo.isprimary == False\n",
    "assert c6.buysell(verbose=True, withprice=True) == 'buy-sell-WETH @ 2000.00 USDC per WETH'\n",
    "assert c6.buysell(verbose=False) == \"bs\"\n",
    "assert c6.buysell(verbose=False, withprice=True) == ('bs', 2000.)\n",
    "assert c6.buysell() == \"bs\""
   ]
  },
  {
   "cell_type": "code",
   "execution_count": 20,
   "id": "d4d8da1b",
   "metadata": {},
   "outputs": [],
   "source": [
    "# univ2 (tknq=2000 USDC, tknb=1 ETH)\n",
    "c7 = CPC.from_univ2(pair=\"WETH/USDC\", x_tknb=1, y_tknq=2000, cid=\"\", fee=0, descr=\"\")\n",
    "assert c7.pair == \"WETH/USDC\"\n",
    "assert c7.primary == \"WETH/USDC\"\n",
    "assert c7.pairo.isprimary == True\n",
    "assert c7.buysell(verbose=True, withprice=True) == 'buy-sell-WETH @ 2000.00 USDC per WETH'\n",
    "assert c7.buysell(verbose=False) == \"bs\"\n",
    "assert c7.buysell(verbose=False, withprice=True) == ('bs', 2000.)\n",
    "assert c7.buysell() == \"bs\""
   ]
  },
  {
   "cell_type": "markdown",
   "id": "f479ca7f",
   "metadata": {},
   "source": [
    "## P"
   ]
  },
  {
   "cell_type": "code",
   "execution_count": 21,
   "id": "47e558cd",
   "metadata": {},
   "outputs": [],
   "source": [
    "c = CPC.from_pk(pair=\"USDC/WETH\", p=1, k=100, params=dict(exchange=\"univ3\", a=dict(b=1, c=2)))\n",
    "assert c.P(\"exchange\") == \"univ3\"\n",
    "assert c.P(\"a\") == {'b': 1, 'c': 2}\n",
    "assert c.P(\"a:b\") == 1\n",
    "assert c.P(\"a:c\") == 2\n",
    "assert c.P(\"a:d\") is None\n",
    "assert c.P(\"b\") is None\n",
    "assert c.P(\"b\", \"meh\") == \"meh\""
   ]
  },
  {
   "cell_type": "markdown",
   "id": "614f5c31",
   "metadata": {},
   "source": [
    "## byparams"
   ]
  },
  {
   "cell_type": "code",
   "execution_count": 22,
   "id": "d4f0340c",
   "metadata": {
    "lines_to_next_cell": 2
   },
   "outputs": [],
   "source": [
    "pair = \"USDC/WETH\"\n",
    "c  = [CPC.from_pk(pair=pair, p=1, k=100, params=dict(exchange=\"univ3\", foo=1)) for _ in range(5)]\n",
    "c += [CPC.from_pk(pair=pair, p=1, k=100, params=dict(exchange=\"carbv1\", foo=2)) for _ in range(15)]\n",
    "CC = CPCContainer(c)\n",
    "assert len(CC)==20"
   ]
  },
  {
   "cell_type": "code",
   "execution_count": 23,
   "id": "91000e9e",
   "metadata": {},
   "outputs": [],
   "source": [
    "assert type(CC.byparams(exchange=\"meh\")) == CPCContainer\n",
    "assert type(CC.byparams(exchange=\"meh\", _ascc=True)) == CPCContainer\n",
    "assert type(CC.byparams(exchange=\"meh\", _ascc=False)) == tuple\n",
    "assert type(CC.byparams(exchange=\"meh\", _asgenerator=True)).__name__ == \"generator\"\n",
    "assert type(CC.byparams(exchange=\"meh\", _ascc=True,  _asgenerator=True)).__name__ == \"generator\"\n",
    "assert type(CC.byparams(exchange=\"meh\", _ascc=False, _asgenerator=True)).__name__ == \"generator\"\n",
    "assert len(CC.byparams(exchange=\"univ3\")) == 5\n",
    "assert len(CC.byparams(exchange=\"carbv1\")) == 15\n",
    "assert len(CC.byparams(exchange=\"meh\")) == 0\n",
    "assert len(CC.byparams(foo=1)) == 5\n",
    "assert len(CC.byparams(foo=2)) == 15\n",
    "assert len(CC.byparams(foo=3)) == 0\n",
    "assert raises (CC.byparams, foo=1, bar=2) == \"currently only one param allowed {'foo': 1, 'bar': 2}\""
   ]
  },
  {
   "cell_type": "markdown",
   "id": "acd82232",
   "metadata": {},
   "source": [
    "## itm"
   ]
  },
  {
   "cell_type": "code",
   "execution_count": 24,
   "id": "39159fa9",
   "metadata": {
    "lines_to_next_cell": 2
   },
   "outputs": [],
   "source": [
    "itm0 = CPC.itm0\n",
    "assert CPC.ITM_THRESHOLDPC == 0.01\n",
    "\n",
    "assert itm0( (\"bs\", 1000), (\"bs\", 1000) ) == False\n",
    "assert itm0( (\"bs\", 1000), (\"bs\", 1009) ) == False\n",
    "assert itm0( (\"bs\", 1009), (\"bs\", 1000) ) == False\n",
    "assert itm0( (\"bs\", 1000), (\"bs\", 1011) ) == True\n",
    "assert itm0( (\"bs\", 1011), (\"bs\", 1000) ) == True\n",
    "assert itm0( (\"bs\", 1000), (\"bs\", 1011), thresholdpc=0.02 ) == False\n",
    "assert itm0( (\"bs\", 1011), (\"bs\", 1000), thresholdpc=0.02 ) == False\n",
    "assert itm0( (\"bs\", 1000), (\"bs\", 1021), thresholdpc=0.02 ) == True\n",
    "assert itm0( (\"bs\", 1021), (\"bs\", 1000), thresholdpc=0.02 ) == True\n",
    "\n",
    "assert itm0( (\"b\", 1000), (\"s\", 1100) ) == False\n",
    "assert itm0( (\"b\", 1000), (\"b\", 1100) ) == False\n",
    "assert itm0( (\"b\", 1000), (\"bs\", 1100) ) == False\n",
    "assert itm0( (\"s\", 1000), (\"s\", 1100) ) == False\n",
    "assert itm0( (\"s\", 1000), (\"b\", 1100) ) == True\n",
    "assert itm0( (\"s\", 1000), (\"bs\", 1100) ) == True\n",
    "assert itm0( (\"bs\", 1000), (\"s\", 1100) ) == False\n",
    "assert itm0( (\"bs\", 1000), (\"b\", 1100) ) == True\n",
    "assert itm0( (\"bs\", 1000), (\"bs\", 1100) ) == True\n",
    "\n",
    "assert itm0( (\"s\", 1000), (\"b\", 900) ) == False\n",
    "assert itm0( (\"s\", 1000), (\"s\", 900) ) == False\n",
    "assert itm0( (\"s\", 1000), (\"bs\", 900) ) == False\n",
    "assert itm0( (\"b\", 1000), (\"b\", 900) ) == False\n",
    "assert itm0( (\"b\", 1000), (\"s\", 900) ) == True\n",
    "assert itm0( (\"b\", 1000), (\"bs\", 900) ) == True\n",
    "assert itm0( (\"bs\", 1000), (\"b\", 900) ) == False\n",
    "assert itm0( (\"bs\", 1000), (\"s\", 900) ) == True\n",
    "assert itm0( (\"bs\", 1000), (\"bs\", 900) ) == True"
   ]
  },
  {
   "cell_type": "code",
   "execution_count": 25,
   "id": "5acbf06f",
   "metadata": {},
   "outputs": [],
   "source": [
    "# c1: sell ETH @ 2000, c2: buy ETH @ 1500 --> no arb\n",
    "c1 = CPC.from_carbon(pair=\"WETH/USDC\", tkny=\"WETH\", yint=10, y=10, pa=2000, pb=2001, isdydx=False)\n",
    "c2 = CPC.from_carbon(pair=\"WETH/USDC\", tkny=\"USDC\", yint=10, y=10, pa=1500, pb=1499, isdydx=False)\n",
    "bs1 = c1.buysell(verbose=False, withprice=True)\n",
    "bs2 = c2.buysell(verbose=False, withprice=True)\n",
    "assert (bs1, bs2) == (('s', 2000.0000000000005), ('b', 1500.0000000000002))\n",
    "assert itm0(bs1, bs2) == False\n",
    "assert c1.itm(c2) == c2.itm(c1)\n",
    "assert c1.itm(c2) == itm0(bs1, bs2)\n",
    "assert c1.itm([c2,c2], aggr=False) == (itm0(bs1, bs2), itm0(bs1, bs2))"
   ]
  },
  {
   "cell_type": "code",
   "execution_count": 26,
   "id": "341f9933",
   "metadata": {},
   "outputs": [],
   "source": [
    "# c1: buy ETH @ 2000, c2: sell ETH @ 1500 --> arb\n",
    "c1 = CPC.from_carbon(pair=\"WETH/USDC\", tkny=\"USDC\", yint=10, y=10, pb=2000, pa=2001, isdydx=False)\n",
    "c2 = CPC.from_carbon(pair=\"WETH/USDC\", tkny=\"WETH\", yint=10, y=10, pb=1500, pa=1499, isdydx=False)\n",
    "bs1 = c1.buysell(verbose=False, withprice=True)\n",
    "bs2 = c2.buysell(verbose=False, withprice=True)\n",
    "assert (bs1, bs2) == (('b', 2000.9999999999998), ('s', 1499.0000000000002))\n",
    "assert itm0(bs1, bs2) == True\n",
    "assert c1.itm(c2) == c2.itm(c1)\n",
    "assert c1.itm(c2) == itm0(bs1, bs2)\n",
    "assert c1.itm([c2,c2], aggr=False) == (itm0(bs1, bs2), itm0(bs1, bs2))"
   ]
  },
  {
   "cell_type": "code",
   "execution_count": 27,
   "id": "a8fd73db",
   "metadata": {},
   "outputs": [],
   "source": [
    "# c1: buy ETH @ 2000, c2: sell ETH @ 1500, c2b: sell ETH @ 2500 --> arb, noarb\n",
    "c1  = CPC.from_carbon(pair=\"WETH/USDC\", tkny=\"USDC\", yint=10, y=10, pb=2000, pa=2001, isdydx=False)\n",
    "c2  = CPC.from_carbon(pair=\"WETH/USDC\", tkny=\"WETH\", yint=10, y=10, pb=1500, pa=1499, isdydx=False)\n",
    "c2b = CPC.from_carbon(pair=\"WETH/USDC\", tkny=\"WETH\", yint=10, y=10, pb=2500, pa=2499, isdydx=False)\n",
    "CC = CPCContainer([c1,c2,c2b])\n",
    "assert c1.itm(c2) == True\n",
    "assert c1.itm(c2b) == False\n",
    "assert c1.itm([c2,c2b], aggr=False) == (True, False)\n",
    "assert c1.itm([c2b,c2], aggr=False) == (False, True)\n",
    "assert c1.itm([c2b,c2], aggr=True) == True\n",
    "assert c1.itm([c2,c2b], aggr=True) == True\n",
    "assert c1.itm([c2b,c2]) == True\n",
    "assert c1.itm([c2,c2b]) == True\n",
    "assert c1.itm(CC, aggr=True) == True\n",
    "assert c1.itm(CC, aggr=False) == (False, True, False)"
   ]
  },
  {
   "cell_type": "code",
   "execution_count": 28,
   "id": "83f7196d",
   "metadata": {},
   "outputs": [],
   "source": [
    "# c3: buy/sell @ 1900, c4: buy/sell @ 1899 --> arb depending on threshold\n",
    "c3 = CPC.from_univ3(pair=\"WETH/USDC\", Pmarg=1900, uniPa=1898, uniPb=1902, uniL=1000, cid=\"\", fee=0, descr=\"\")\n",
    "c4 = CPC.from_univ3(pair=\"WETH/USDC\", Pmarg=1899, uniPa=1898, uniPb=1902, uniL=1000, cid=\"\", fee=0, descr=\"\")\n",
    "bs3 = c3.buysell(verbose=False, withprice=True)\n",
    "bs4 = c4.buysell(verbose=False, withprice=True)\n",
    "assert (bs3, bs4) == (('bs', 1900.0000000000007), ('bs', 1899.0000000000002))\n",
    "assert itm0(bs3, bs4, thresholdpc=0.0001) == True\n",
    "assert itm0(bs3, bs4, thresholdpc=0.001) == False\n",
    "assert c3.itm(c4) == c4.itm(c3)\n",
    "assert c3.itm(c4) == itm0(bs3, bs4)\n",
    "assert c3.itm([c4,c4], aggr=False) == (itm0(bs3, bs4), itm0(bs3, bs4))"
   ]
  },
  {
   "cell_type": "code",
   "execution_count": 29,
   "id": "dc727e68",
   "metadata": {},
   "outputs": [],
   "source": [
    "# c3: buy/sell @ 1900, c4: buy/sell @ 1899 --> arb depending on threshold\n",
    "c3 = CPC.from_univ3(pair=\"WETH/USDC\", Pmarg=1900, uniPa=1898, uniPb=1902, uniL=1000, cid=\"\", fee=0, descr=\"\")\n",
    "c4 = CPC.from_univ3(pair=\"USDC/WETH\", Pmarg=1/1899, uniPb=1/1898, uniPa=1/1902, uniL=1000, cid=\"\", fee=0, descr=\"\")\n",
    "bs3 = c3.buysell(verbose=False, withprice=True)\n",
    "bs4 = c4.buysell(verbose=False, withprice=True)\n",
    "assert (bs3, bs4) == (('bs', 1900.0000000000007), ('bs', 1899.0000000000002))\n",
    "assert itm0(bs3, bs4, thresholdpc=0.0001) == True\n",
    "assert itm0(bs3, bs4, thresholdpc=0.001) == False\n",
    "assert c3.itm(c4) == c4.itm(c3)\n",
    "assert c3.itm(c4) == itm0(bs3, bs4)\n",
    "assert c3.itm([c4,c4], aggr=False) == (itm0(bs3, bs4), itm0(bs3, bs4))"
   ]
  },
  {
   "cell_type": "markdown",
   "id": "5d89e4a4",
   "metadata": {},
   "source": [
    "## TVL"
   ]
  },
  {
   "cell_type": "code",
   "execution_count": 30,
   "id": "303811aa",
   "metadata": {},
   "outputs": [],
   "source": [
    "c = CPC.from_pk(pair=\"WETH/USDC\", p=2000, k=1*2000)\n",
    "assert c.tvl(incltkn=True) == (4000.0, 'USDC', 1)\n",
    "assert c.tvl(\"USDC\", incltkn=True) == (4000.0, 'USDC', 1)\n",
    "assert c.tvl(\"WETH\", incltkn=True) == (2.0, 'WETH', 1)\n",
    "assert c.tvl(\"USDC\", incltkn=True, mult=2) == (8000.0, 'USDC', 2)\n",
    "assert c.tvl(\"WETH\", incltkn=True, mult=2) == (4.0, 'WETH', 2)\n",
    "assert c.tvl(\"WETH\", incltkn=False) == 2.0\n",
    "assert c.tvl(\"WETH\") == 2.0\n",
    "assert c.tvl() == 4000\n",
    "assert c.tvl(\"WETH\", mult=2000) == 4000"
   ]
  },
  {
   "cell_type": "markdown",
   "id": "3028de8e",
   "metadata": {},
   "source": [
    "## estimate prices"
   ]
  },
  {
   "cell_type": "code",
   "execution_count": 31,
   "id": "c998d76f",
   "metadata": {},
   "outputs": [],
   "source": [
    "CC = CPCContainer()\n",
    "CC += [CPC.from_univ3(pair=\"WETH/USDC\", cid=\"uv3\", fee=0, descr=\"\",\n",
    "                     uniPa=2000, uniPb=2010, Pmarg=2005, uniL=10*m.sqrt(2000))]\n",
    "CC += [CPC.from_pk(pair=\"WETH/USDC\", cid=\"uv2\", fee=0, descr=\"\",\n",
    "                     p=1950, k=5**2*2000)]\n",
    "CC += [CPC.from_pk(pair=\"USDC/WETH\", cid=\"uv2r\", fee=0, descr=\"\",\n",
    "                     p=1/1975, k=5**2*2000)]\n",
    "CC += [CPC.from_carbon(pair=\"WETH/USDC\", cid=\"carb\", fee=0, descr=\"\",\n",
    "                     tkny=\"USDC\", yint=1000, y=1000, pa=1850, pb=1750)]\n",
    "CC += [CPC.from_carbon(pair=\"WETH/USDC\", cid=\"carb\", fee=0, descr=\"\",\n",
    "                     tkny=\"WETH\", yint=1, y=0, pb=1/1850, pa=1/1750)]\n",
    "CC += [CPC.from_carbon(pair=\"WETH/USDC\", cid=\"carb\", fee=0, descr=\"\",\n",
    "                     tkny=\"USDC\", yint=1000, y=500, pa=1870, pb=1710)]\n",
    "#CC.plot()"
   ]
  },
  {
   "cell_type": "code",
   "execution_count": 32,
   "id": "986793db",
   "metadata": {},
   "outputs": [],
   "source": [
    "assert CC.price_estimate(tknq=T.WETH, tknb=T.USDC, result=CC.PE_PAIR) == f\"{T.USDC}/{T.WETH}\"\n",
    "assert CC.price_estimate(pair=f\"{T.USDC}/{T.WETH}\", result=CC.PE_PAIR) == f\"{T.USDC}/{T.WETH}\"\n",
    "assert raises(CC.price_estimate, tknq=\"a\", result=CC.PE_PAIR)\n",
    "assert raises(CC.price_estimate, tknb=\"a\", result=CC.PE_PAIR)\n",
    "assert raises(CC.price_estimate, tknq=\"a\", tknb=\"b\", pair=\"a/b\", result=CC.PE_PAIR)\n",
    "assert raises(CC.price_estimate, pair=\"ab\", result=CC.PE_PAIR)\n",
    "assert CC.price_estimates(tknqs=[T.WETH], tknbs=[T.USDC], pairs=True, \n",
    "                          unwrapsingle=False)[0][0] == f\"{T.USDC}/{T.WETH}\"\n",
    "assert CC.price_estimates(tknqs=[T.WETH], tknbs=[T.USDC], pairs=True, \n",
    "                          unwrapsingle=True)[0] == f\"{T.USDC}/{T.WETH}\"\n",
    "assert CC.price_estimates(tknqs=[T.WETH], tknbs=[T.USDC], pairs=True)[0] == f\"{T.USDC}/{T.WETH}\"\n",
    "r = CC.price_estimates(tknqs=list(\"ABC\"), tknbs=list(\"DEFG\"), pairs=True)\n",
    "assert r.ndim == 2\n",
    "assert r.shape == (3,4)\n",
    "r = CC.price_estimates(tknqs=list(\"A\"), tknbs=list(\"DEFG\"), pairs=True)\n",
    "assert r.ndim == 1\n",
    "assert r.shape == (4,)"
   ]
  },
  {
   "cell_type": "code",
   "execution_count": 33,
   "id": "77c42b32",
   "metadata": {},
   "outputs": [],
   "source": [
    "assert CC[0].at_boundary == False\n",
    "assert CC[1].at_boundary == False\n",
    "assert CC[2].at_boundary == False\n",
    "assert CC[3].at_boundary == True\n",
    "assert CC[3].at_xmin == True\n",
    "assert CC[3].at_ymin == False\n",
    "assert CC[3].at_xmax == False\n",
    "assert CC[3].at_ymax == True\n",
    "assert CC[4].at_boundary == True\n",
    "assert CC[4].at_ymin == True\n",
    "assert CC[4].at_xmin == True\n",
    "assert CC[4].at_ymax == True\n",
    "assert CC[4].at_xmax == True\n",
    "assert CC[5].at_boundary == True"
   ]
  },
  {
   "cell_type": "code",
   "execution_count": 34,
   "id": "11e56ebf",
   "metadata": {},
   "outputs": [],
   "source": [
    "r = CC.price_estimate(tknq=\"USDC\", tknb=\"WETH\", result=CC.PE_CURVES)\n",
    "assert len(r)==3"
   ]
  },
  {
   "cell_type": "code",
   "execution_count": 35,
   "id": "f87ff262",
   "metadata": {},
   "outputs": [],
   "source": [
    "p,w = CC.price_estimate(tknq=\"USDC\", tknb=\"WETH\", result=CC.PE_DATA)\n",
    "assert len(p) == len(r)\n",
    "assert len(w) == len(r)\n",
    "assert iseq(sum(p), 5930)\n",
    "assert iseq(sum(w), 894.4271909999159)\n",
    "pe = CC.price_estimate(tknq=\"USDC\", tknb=\"WETH\")\n",
    "assert pe == np.average(p, weights=w)"
   ]
  },
  {
   "cell_type": "code",
   "execution_count": 38,
   "id": "f921bdae",
   "metadata": {},
   "outputs": [],
   "source": [
    "O = SimpleOptimizer(CC)\n",
    "Om = SimpleOptimizer(CCmarket)\n",
    "assert O.price_estimates(tknq=\"USDC\", tknbs=[\"WETH\"]) == CC.price_estimates(tknqs=[\"USDC\"], tknbs=[\"WETH\"])\n",
    "CCmarket.fp(onein=\"USDC\")\n",
    "r = Om.price_estimates(tknq=\"USDC\", tknbs=[\"WETH\", \"WBTC\"])\n",
    "assert iseq(r[0],  1820.89875275)\n",
    "assert iseq(r[1],  28351.08150121)"
   ]
  },
  {
   "cell_type": "markdown",
   "id": "a200dc1b",
   "metadata": {},
   "source": [
    "## triangle estimates"
   ]
  },
  {
   "cell_type": "code",
   "execution_count": null,
   "id": "d6a18b66",
   "metadata": {},
   "outputs": [],
   "source": [
    "CC = CPCContainer()\n",
    "CC += [CPC.from_univ3(pair=f\"{T.WETH}/{T.USDC}\", cid=\"uv3-1\", fee=0, descr=\"\",\n",
    "                     uniPa=2000, uniPb=2002, Pmarg=2001, uniL=10*m.sqrt(2000))]\n",
    "CC += [CPC.from_univ3(pair=f\"{T.WBTC}/{T.USDC}\", cid=\"uv3-2\", fee=0, descr=\"\",\n",
    "                     uniPa=20000, uniPb=20020, Pmarg=20010, uniL=1*m.sqrt(20000))]\n",
    "#CC.plot()"
   ]
  },
  {
   "cell_type": "code",
   "execution_count": null,
   "id": "97b4279a",
   "metadata": {},
   "outputs": [],
   "source": [
    "help(CC.price_estimate)"
   ]
  },
  {
   "cell_type": "code",
   "execution_count": null,
   "id": "ad46bf0d",
   "metadata": {},
   "outputs": [],
   "source": [
    "assert iseq(CC.price_estimate(pair=f\"{T.WETH}/{T.USDC}\"), 2001)\n",
    "assert iseq(CC.price_estimate(pair=f\"{T.WBTC}/{T.USDC}\"), 20010)\n",
    "assert iseq(CC.price_estimate(pair=f\"{T.USDC}/{T.WETH}\"), 1/2001)\n",
    "assert iseq(CC.price_estimate(pair=f\"{T.USDC}/{T.WBTC}\"), 1/20010)"
   ]
  },
  {
   "cell_type": "code",
   "execution_count": null,
   "id": "c449870e",
   "metadata": {},
   "outputs": [],
   "source": [
    "assert CC.price_estimate(tknb=T.WETH, tknq=T.USDC, result=CC.PE_PAIR) == f\"{T.WETH}/{T.USDC}\"\n",
    "r = CC.price_estimate(tknb=T.WETH, tknq=T.USDC, result=CC.PE_CURVES)\n",
    "assert len(r) == 1\n",
    "assert r[0][0].cid==\"uv3-1\"\n",
    "assert iseq(r[0][1], 2001)\n",
    "assert iseq(r[0][2], 200000.0)\n",
    "r = CC.price_estimate(tknb=T.WETH, tknq=T.USDC, result=CC.PE_DATA)\n",
    "assert len(r) == 2\n",
    "assert r[0].shape == (1,)\n",
    "assert r[1].shape == (1,)\n",
    "assert iseq(r[0][0], 2001)"
   ]
  },
  {
   "cell_type": "code",
   "execution_count": null,
   "id": "9e8110c8",
   "metadata": {},
   "outputs": [],
   "source": [
    "help(CC.price_estimates)"
   ]
  },
  {
   "cell_type": "code",
   "execution_count": null,
   "id": "f14adee5",
   "metadata": {},
   "outputs": [],
   "source": [
    "r = CC.price_estimates(tknqs=[T.WETH], tknbs=[T.WBTC], unwrapsingle=True, pairs=True)\n",
    "assert r.shape == (1,)\n",
    "assert r[0] == f\"{T.WBTC}/{T.WETH}\"\n",
    "assert CC.price_estimates(tknqs=[T.WETH], tknbs=[T.WBTC], pairs=True) == r\n",
    "r"
   ]
  },
  {
   "cell_type": "code",
   "execution_count": null,
   "id": "89736ccf",
   "metadata": {},
   "outputs": [],
   "source": [
    "r = CC.price_estimates(tknqs=[T.WETH], tknbs=[T.WBTC], unwrapsingle=False, pairs=True)\n",
    "assert r.shape == (1,1)\n",
    "assert r[0][0] == f\"{T.WBTC}/{T.WETH}\"\n",
    "r"
   ]
  },
  {
   "cell_type": "code",
   "execution_count": null,
   "id": "4b27b221",
   "metadata": {},
   "outputs": [],
   "source": [
    "assert raises(CC.price_estimates, tknqs=[T.WETH], tknbs=[T.WBTC], \n",
    "             triangulate=False).startswith(\"('no price found\")\n",
    "r = CC.price_estimates(tknqs=[T.WETH], tknbs=[T.WBTC], raiseonerror=False, triangulate=False)\n",
    "assert r == CC.price_estimates(tknqs=[T.WETH], tknbs=[T.WBTC], raiseonerror=False, triangulate=False)\n",
    "assert r.shape == (1,)\n",
    "assert r[0] is None"
   ]
  },
  {
   "cell_type": "code",
   "execution_count": null,
   "id": "12364fc2",
   "metadata": {},
   "outputs": [],
   "source": [
    "r = CC.price_estimates(tknqs=[T.WETH], tknbs=[T.WBTC], triangulate=[T.USDC])\n",
    "assert r == CC.price_estimates(tknqs=[T.WETH], tknbs=[T.WBTC], triangulate=True)\n",
    "assert r == CC.price_estimates(tknqs=[T.WETH], tknbs=[T.WBTC])\n",
    "assert iseq(r[0], 10)"
   ]
  },
  {
   "cell_type": "markdown",
   "id": "ba4d349f",
   "metadata": {},
   "source": [
    "## price estimates in optimizer"
   ]
  },
  {
   "cell_type": "code",
   "execution_count": null,
   "id": "7ac71710",
   "metadata": {},
   "outputs": [],
   "source": [
    "prices = {\"USDC\":1, \"LINK\": 5, \"AAVE\": 100, \"MKR\": 500, \"WETH\": 2000, \"WBTC\": 20000}\n",
    "CCfm, ctr = CPCContainer(), 0\n",
    "for tknb, pb in prices.items():\n",
    "    for tknq, pq in prices.items():\n",
    "        if pb>pq:\n",
    "            pair = f\"{tknb}/{tknq}\"\n",
    "            pp = pb/pq\n",
    "            k = (100000)**2/(pb*pq)\n",
    "            CCfm  += CPC.from_pk(p=pp, k=k, pair=pair, cid = f\"mkt-{ctr}\")\n",
    "            ctr += 1"
   ]
  },
  {
   "cell_type": "code",
   "execution_count": null,
   "id": "c1f4c0b1",
   "metadata": {},
   "outputs": [],
   "source": [
    "O = MargPOptimizer(CCfm)\n",
    "assert O.MO_PSTART == O.MO_P\n",
    "tknq = \"WETH\"\n",
    "df = O.margp_optimizer(tknq, result=O.MO_PSTART)\n",
    "rd = df[tknq].to_dict()\n",
    "assert len(df) == len(prices)-1\n",
    "assert df.columns[0] == tknq\n",
    "assert df.index.name == \"tknb\"\n",
    "assert rd == {k:v/prices[tknq] for k,v in prices.items() if k!=tknq}\n",
    "df2 = O.margp_optimizer(tknq, result=O.MO_PSTART, params=dict(pstart=df))\n",
    "assert np.all(df == df2)\n",
    "df2 = O.margp_optimizer(tknq, result=O.MO_PSTART, params=dict(pstart=rd))\n",
    "assert np.all(df == df2)\n",
    "df"
   ]
  },
  {
   "cell_type": "markdown",
   "id": "e7b4d357",
   "metadata": {},
   "source": [
    "## Assertions and testing"
   ]
  },
  {
   "cell_type": "code",
   "execution_count": null,
   "id": "50f23286",
   "metadata": {},
   "outputs": [],
   "source": [
    "c = CPC.from_px(p=2000,x=10, pair=\"ETH/USDC\")\n",
    "assert c.pair == \"ETH/USDC\"\n",
    "assert c.tknb == c.pair.split(\"/\")[0]\n",
    "assert c.tknx == c.tknb\n",
    "assert c.tknq == c.pair.split(\"/\")[1]\n",
    "assert c.tkny == c.tknq\n",
    "assert f\"{c.tknb}/{c.tknq}\" == c.pair\n",
    "print (c.descr)"
   ]
  },
  {
   "cell_type": "code",
   "execution_count": null,
   "id": "e5055bae",
   "metadata": {},
   "outputs": [],
   "source": [
    "c = CPC.from_xy(10,20)\n",
    "assert c == CPC.from_kx(c.k, c.x)\n",
    "assert c == CPC.from_ky(c.k, c.y)\n",
    "assert c == CPC.from_xy(c.x, c.y)\n",
    "assert c == CPC.from_pk(c.p, c.k)\n",
    "assert c == CPC.from_px(c.p, c.x)\n",
    "assert c == CPC.from_py(c.p, c.y)"
   ]
  },
  {
   "cell_type": "code",
   "execution_count": null,
   "id": "44d0d4fc",
   "metadata": {},
   "outputs": [],
   "source": [
    "c"
   ]
  },
  {
   "cell_type": "code",
   "execution_count": null,
   "id": "70ff3f6d",
   "metadata": {},
   "outputs": [],
   "source": [
    "c = CPC.from_px(p=2, x=100, x_act=10, y_act=20)\n",
    "assert c.y_max*c.x_min == c.k\n",
    "assert c.x_max*c.y_min == c.k\n",
    "assert c.p_min == c.y_min / c.x_max\n",
    "assert c.p_max == c.y_max / c.x_min\n",
    "assert c.p_max >= c.p_min"
   ]
  },
  {
   "cell_type": "code",
   "execution_count": null,
   "id": "0d80accd",
   "metadata": {},
   "outputs": [],
   "source": [
    "c = CPC.from_px(p=2, x=100, x_act=10, y_act=20)\n",
    "e = 1e-5\n",
    "assert 95*c.yfromx_f(x=95) == c.k\n",
    "assert 105*c.yfromx_f(x=105) == c.k\n",
    "assert 190*c.xfromy_f(y=190) == c.k\n",
    "assert 210*c.xfromy_f(y=210) == c.k\n",
    "assert not c.yfromx_f(x=90) is None\n",
    "assert c.yfromx_f(x=90-e) is None\n",
    "assert not c.xfromy_f(y=180) is None\n",
    "assert c.xfromy_f(y=180-e) is None\n",
    "assert c.dyfromdx_f(dx=-5)\n",
    "assert (c.y+c.dyfromdx_f(dx=-5))*(c.x-5) == c.k\n",
    "assert (c.y+c.dyfromdx_f(dx=+5))*(c.x+5) == c.k\n",
    "assert (c.x+c.dxfromdy_f(dy=-5))*(c.y-5) == c.k\n",
    "assert (c.x+c.dxfromdy_f(dy=+5))*(c.y+5) == c.k"
   ]
  },
  {
   "cell_type": "code",
   "execution_count": null,
   "id": "fc2a5765",
   "metadata": {},
   "outputs": [],
   "source": [
    "c = CPC.from_pkpp(p=100, k=100)\n",
    "assert c.p_min == 100\n",
    "assert c.p_max == 100\n",
    "assert c.p == 100\n",
    "assert c.k == 100"
   ]
  },
  {
   "cell_type": "code",
   "execution_count": null,
   "id": "fe5854de",
   "metadata": {},
   "outputs": [],
   "source": [
    "c = CPC.from_pkpp(p=100, k=100, p_min=80, p_max=120)\n",
    "assert c.p_min == 80\n",
    "assert iseq(c.p_max, 120)\n",
    "assert c.p == 100\n",
    "assert c.k == 100"
   ]
  },
  {
   "cell_type": "markdown",
   "id": "4c315ebe",
   "metadata": {},
   "source": [
    "## iseq"
   ]
  },
  {
   "cell_type": "code",
   "execution_count": null,
   "id": "cb146f71",
   "metadata": {},
   "outputs": [],
   "source": [
    "assert iseq(\"a\", \"a\", \"ab\") == False\n",
    "assert iseq(\"a\", \"a\", \"a\")\n",
    "assert iseq(1.0, 1, 1.0)\n",
    "assert iseq(0,0)\n",
    "assert iseq(0,1e-10)\n",
    "assert iseq(0,1e-5) == False\n",
    "assert iseq(1, 1.00001) == False\n",
    "assert iseq(1, 1.000001)\n",
    "assert iseq(1, 1.000001, eps=1e-7) == False\n",
    "assert iseq(\"1\", 1) == False"
   ]
  },
  {
   "cell_type": "markdown",
   "id": "019abafe",
   "metadata": {},
   "source": [
    "## New CPC features in v2"
   ]
  },
  {
   "cell_type": "code",
   "execution_count": null,
   "id": "6611a642",
   "metadata": {},
   "outputs": [],
   "source": [
    "p = CPCContainer.Pair(\"ETH/USDC\")\n",
    "assert str(p) == \"ETH/USDC\"\n",
    "assert p.pair == str(p)\n",
    "assert p.tknx == \"ETH\"\n",
    "assert p.tkny == \"USDC\"\n",
    "assert p.tknb == \"ETH\"\n",
    "assert p.tknq == \"USDC\"\n",
    "\n",
    "pp = CPCContainer.Pair.wrap([\"ETH/USDC\", \"WBTC/ETH\"])\n",
    "assert len(pp) == 2\n",
    "assert pp[0].pair == \"ETH/USDC\"\n",
    "assert pp[1].pair == \"WBTC/ETH\"\n",
    "assert pp[0].unwrap(pp) == ('ETH/USDC', 'WBTC/ETH')"
   ]
  },
  {
   "cell_type": "code",
   "execution_count": null,
   "id": "3ea36c28",
   "metadata": {},
   "outputs": [],
   "source": [
    "pairs = [\"A\", \"B\", \"C\"]\n",
    "assert CPCContainer.pairset(\", \".join(pairs)) == set(pairs)\n",
    "assert CPCContainer.pairset(pairs) == set(pairs)\n",
    "assert CPCContainer.pairset(tuple(pairs)) == set(pairs)\n",
    "assert CPCContainer.pairset(p for p in pairs) == set(pairs)"
   ]
  },
  {
   "cell_type": "code",
   "execution_count": null,
   "id": "e73018ea",
   "metadata": {},
   "outputs": [],
   "source": [
    "pairs = [f\"{a}/{b}\" for a in [\"ETH\", \"USDC\", \"DAI\"] for b in [\"DAI\", \"WBTC\", \"LINK\", \"ETH\"] if a!=b]\n",
    "CC = CPCContainer()\n",
    "fp = lambda **cond: CC.filter_pairs(pairs=pairs, **cond)\n",
    "assert fp(bothin=\"ETH, USDC, DAI\") == {'DAI/ETH', 'ETH/DAI', 'USDC/DAI', 'USDC/ETH'}\n",
    "assert fp(onein=\"WBTC\") == {'DAI/WBTC', 'ETH/WBTC', 'USDC/WBTC'}\n",
    "assert fp(onein=\"ETH\") == fp(contains=\"ETH\")\n",
    "assert fp(notin=\"WBTC, ETH, DAI\") == {'USDC/LINK'}\n",
    "assert fp(tknbin=\"WBTC\") == set()\n",
    "assert fp(tknqin=\"WBTC\") == {'DAI/WBTC', 'ETH/WBTC', 'USDC/WBTC'}\n",
    "assert fp(tknbnotin=\"WBTC\") == set(pairs)\n",
    "assert fp(tknbnotin=\"WBTC, ETH, DAI\") == {'USDC/DAI', 'USDC/ETH', 'USDC/LINK', 'USDC/WBTC'}\n",
    "assert fp(notin_0=\"WBTC\", notin_1=\"DAI\") == fp(notin=\"WBTC, DAI\")\n",
    "assert fp(onein = \"ETH\") == fp(anyall=CC.FP_ANY, tknbin=\"ETH\", tknqin=\"ETH\")"
   ]
  },
  {
   "cell_type": "code",
   "execution_count": null,
   "id": "abde4984",
   "metadata": {},
   "outputs": [],
   "source": [
    "P = CPCContainer.Pair\n",
    "ETHUSDC = P(\"ETH/USDC\")\n",
    "USDCETH = P(ETHUSDC.pairr)\n",
    "assert ETHUSDC.pair == \"ETH/USDC\"\n",
    "assert ETHUSDC.pairr == \"USDC/ETH\"\n",
    "assert USDCETH.pairr == \"ETH/USDC\"\n",
    "assert USDCETH.pair == \"USDC/ETH\"\n",
    "assert ETHUSDC.isprimary\n",
    "assert not USDCETH.isprimary\n",
    "assert ETHUSDC.primary == ETHUSDC.pair\n",
    "assert ETHUSDC.secondary == ETHUSDC.pairr\n",
    "assert USDCETH.primary == USDCETH.pairr\n",
    "assert USDCETH.secondary == USDCETH.pair\n",
    "assert ETHUSDC.primary == USDCETH.primary\n",
    "assert ETHUSDC.secondary == USDCETH.secondary"
   ]
  },
  {
   "cell_type": "code",
   "execution_count": null,
   "id": "d24627fa",
   "metadata": {},
   "outputs": [],
   "source": [
    "assert P(\"BTC/ETH\").isprimary\n",
    "assert P(\"WBTC/ETH\").isprimary\n",
    "assert P(\"BTC/WETH\").isprimary\n",
    "assert P(\"WBTC/ETH\").isprimary\n",
    "assert P(\"BTC/USDC\").isprimary\n",
    "assert P(\"XYZ/USDC\").isprimary\n",
    "assert P(\"XYZ/USDT\").isprimary"
   ]
  },
  {
   "cell_type": "markdown",
   "id": "da2d6916",
   "metadata": {},
   "source": [
    "## Real data and retrieval of curves"
   ]
  },
  {
   "cell_type": "code",
   "execution_count": null,
   "id": "6b46e9c5",
   "metadata": {},
   "outputs": [],
   "source": [
    "# try:\n",
    "#     df = pd.read_csv(\"../nbtest_data/NBTEST_002_Curves.csv.gz\")\n",
    "# except:\n",
    "#     df = pd.read_csv(\"fastlane_bot/tests/nbtest_data/NBTEST_002_Curves.csv.gz\")\n",
    "CC = CPCContainer.from_df(market_df)\n",
    "assert len(CC) == 459\n",
    "assert len(CC) == len(market_df)\n",
    "assert len(CC.pairs()) == 326\n",
    "assert len(CC.tokens()) == 141\n",
    "assert CC.tokens_s\n",
    "assert CC.tokens_s()[:60] == '1INCH,1ONE,AAVE,ALCX,ALEPH,ALPHA,AMP,ANKR,ANT,APW,ARCONA,ARM'\n",
    "print(\"Num curves:\", len(CC))\n",
    "print(\"Num pairs:\", len(CC.pairs()))\n",
    "print(\"Num tokens:\", len(CC.tokens()))\n",
    "#print(CC.tokens_s())"
   ]
  },
  {
   "cell_type": "code",
   "execution_count": null,
   "id": "45cac036",
   "metadata": {},
   "outputs": [],
   "source": [
    "assert CC.bypairs(CC.fp(onein=\"WETH, WBTC\")) == CC.bypairs(CC.fp(onein=\"WETH, WBTC\"), asgenerator=False)\n",
    "assert len(CC.bypairs(CC.fp(onein=\"WETH, WBTC\"))) == 254\n",
    "assert len(CC.bypairs(CC.fp(onein=\"WETH, WBTC\"), ascc=True)) == 254\n",
    "CC1 = CC.bypairs(CC.fp(onein=\"WBTC\"), ascc=True)\n",
    "assert len(CC1) == 29\n",
    "cids = [c.cid for c in CC.bypairs(CC.fp(onein=\"WBTC\"))]\n",
    "assert len(cids) == len(CC1)\n",
    "assert CC.bycid(\"bla\") is None\n",
    "assert not CC.bycid(\"191\") is None\n",
    "assert raises(CC.bycids, [\"bla\"])\n",
    "assert len(CC.bycids(cids)) == len(cids)\n",
    "assert len(CC.bytknx(\"WETH\")) == 46\n",
    "assert len(CC.bytkny(\"WETH\")) == 181\n",
    "assert len(CC.bytknys(\"WETH\")) == len(CC.bytkny(\"WETH\"))\n",
    "assert len(CC.bytknxs(\"USDC, USDT\")) == 41\n",
    "assert len(CC.bytknxs([\"USDC\", \"USDT\"])) == len(CC.bytknxs(\"USDC, USDT\"))\n",
    "assert len(CC.bytknys([\"USDC\", \"USDT\"])) == len(CC.bytknys({\"USDC\", \"USDT\"}))\n",
    "cs = CC.bytknx(\"WETH\", asgenerator=True)\n",
    "assert raises(len, cs)\n",
    "assert len(tuple(cs)) == 46\n",
    "assert len(tuple(cs)) == 0  # generator empty"
   ]
  },
  {
   "cell_type": "code",
   "execution_count": null,
   "id": "d2619e0a",
   "metadata": {},
   "outputs": [],
   "source": [
    "CC2 = CC.bypairs(CC.fp(bothin=\"USDC, DAI, BNT, SHIB, ETH, AAVE, LINK\"), ascc=True)\n",
    "tt = CC2.tokentable()\n",
    "assert tt[\"ETH\"].x == []\n",
    "assert tt[\"ETH\"].y == [0]\n",
    "assert tt[\"DAI\"].x == [1,4,8]\n",
    "assert tt[\"DAI\"].y == [3,6]\n",
    "tt"
   ]
  },
  {
   "cell_type": "code",
   "execution_count": null,
   "id": "c12f7530",
   "metadata": {},
   "outputs": [],
   "source": [
    "assert CC2.tknxs() == {'AAVE', 'BNT', 'DAI', 'LINK'}\n",
    "assert CC2.tknxl() == ['BNT', 'DAI', 'LINK', 'LINK', 'DAI', 'LINK', 'LINK', 'AAVE', 'DAI']\n",
    "assert set(CC2.tknxl()) == CC2.tknxs() \n",
    "assert set(CC2.tknyl()) == CC2.tknys() \n",
    "assert len(CC2.tknxl()) == len(CC2.tknyl())\n",
    "assert len(CC2.tknxl()) == len(CC2)"
   ]
  },
  {
   "cell_type": "markdown",
   "id": "a16f8524",
   "metadata": {},
   "source": [
    "## TokenScale tests [NOTEST]"
   ]
  },
  {
   "cell_type": "code",
   "execution_count": null,
   "id": "b093eb92",
   "metadata": {},
   "outputs": [],
   "source": [
    "pass"
   ]
  },
  {
   "cell_type": "code",
   "execution_count": null,
   "id": "ad56665e",
   "metadata": {},
   "outputs": [],
   "source": [
    "# TSB = ts.TokenScaleBase()\n",
    "# assert raises (TSB.scale,\"ETH\")\n",
    "# assert TSB.DEFAULT_SCALE == 1e-2"
   ]
  },
  {
   "cell_type": "code",
   "execution_count": null,
   "id": "15788980",
   "metadata": {},
   "outputs": [],
   "source": [
    "# TS = ts.TokenScale.from_tokenscales(USDC=1e0, ETH=1e3, BTC=1e4)\n",
    "# TS"
   ]
  },
  {
   "cell_type": "code",
   "execution_count": null,
   "id": "31f10328",
   "metadata": {},
   "outputs": [],
   "source": [
    "# assert TS(\"USDC\") == 1\n",
    "# assert TS(\"ETH\") == 1000\n",
    "# assert TS(\"BTC\") == 10000\n",
    "# assert TS(\"MEH\") == TS.DEFAULT_SCALE"
   ]
  },
  {
   "cell_type": "code",
   "execution_count": null,
   "id": "9c1d3e0c",
   "metadata": {},
   "outputs": [],
   "source": [
    "# TSD = ts.TokenScaleData"
   ]
  },
  {
   "cell_type": "code",
   "execution_count": null,
   "id": "7d12770e",
   "metadata": {},
   "outputs": [],
   "source": [
    "# tknset = {'AAVE', 'BNT', 'BTC', 'ETH', 'LINK', 'USDC', 'USDT', 'WBTC', 'WETH'}\n",
    "# assert tknset - set(TSD.scale_dct.keys()) == set()"
   ]
  },
  {
   "cell_type": "code",
   "execution_count": null,
   "id": "04cbcfd1",
   "metadata": {},
   "outputs": [],
   "source": [
    "# cc1 = CPC.from_xy(x=10, y=20000, pair=\"ETH/USDC\")\n",
    "# assert cc1.tokenscale is cc1.TOKENSCALE\n",
    "# assert cc1.tknx == \"ETH\"\n",
    "# assert cc1.tkny == \"USDC\"\n",
    "# assert cc1.scalex == 1\n",
    "# assert cc1.scaley == 1\n",
    "# cc2 = CPC.from_xy(x=10, y=20000, pair=\"BTC/MEH\")\n",
    "# assert cc2.tknx == \"BTC\"\n",
    "# assert cc2.tkny == \"MEH\"\n",
    "# assert cc2.scalex == 1\n",
    "# assert cc2.scaley == 1\n",
    "# assert cc2.scaley == cc2.tokenscale.DEFAULT_SCALE"
   ]
  },
  {
   "cell_type": "code",
   "execution_count": null,
   "id": "be4e0214",
   "metadata": {},
   "outputs": [],
   "source": [
    "# cc1 = CPC.from_xy(x=10, y=20000, pair=\"ETH/USDC\")\n",
    "# cc1.set_tokenscale(TSD)\n",
    "# assert cc1.tokenscale != cc1.TOKENSCALE\n",
    "# assert cc1.tknx == \"ETH\"\n",
    "# assert cc1.tkny == \"USDC\"\n",
    "# assert cc1.scalex == 1e3\n",
    "# assert cc1.scaley == 1e0\n",
    "# cc2 = CPC.from_xy(x=10, y=20000, pair=\"BTC/MEH\")\n",
    "# cc2.set_tokenscale(TSD)\n",
    "# assert cc2.tknx == \"BTC\"\n",
    "# assert cc2.tkny == \"MEH\"\n",
    "# assert cc2.scalex == 1e4\n",
    "# assert cc2.scaley == 1e-2\n",
    "# assert cc2.scaley == cc2.tokenscale.DEFAULT_SCALE"
   ]
  },
  {
   "cell_type": "markdown",
   "id": "24dc60c2",
   "metadata": {},
   "source": [
    "## dx_min and dx_max etc"
   ]
  },
  {
   "cell_type": "code",
   "execution_count": null,
   "id": "7f67f2da",
   "metadata": {},
   "outputs": [],
   "source": [
    "cc = CPC.from_pkpp(p=100, k=100*10000, p_min=90, p_max=110)\n",
    "assert iseq(cc.x_act, 4.653741075440777)\n",
    "assert iseq(cc.y_act, 513.167019494862)\n",
    "assert cc.dx_min == -cc.x_act\n",
    "assert cc.dy_min == -cc.y_act\n",
    "assert iseq( (cc.x + cc.dx_max)*(cc.y + cc.dy_min), cc.k)\n",
    "assert iseq( (cc.y + cc.dy_max)*(cc.x + cc.dx_min), cc.k)"
   ]
  },
  {
   "cell_type": "markdown",
   "id": "2bf8c628",
   "metadata": {},
   "source": [
    "## xyfromp_f and dxdyfromp_f"
   ]
  },
  {
   "cell_type": "code",
   "execution_count": null,
   "id": "03080821",
   "metadata": {},
   "outputs": [],
   "source": [
    "c = CPC.from_pkpp(p=100, k=100*10000, p_min=90, p_max=110, pair=f\"{T.ETH}/{T.USDC}\")\n",
    "\n",
    "assert c.pair == 'WETH-6Cc2/USDC-eB48'\n",
    "assert c.pairp == 'WETH/USDC'\n",
    "assert c.p == 100\n",
    "assert iseq(c.x_act, 4.653741075440777)\n",
    "assert iseq(c.y_act, 513.167019494862)\n",
    "assert c.tknx == T.ETH\n",
    "assert c.tkny == T.USDC\n",
    "assert c.tknxp == \"WETH\"\n",
    "assert c.tknyp == \"USDC\"\n",
    "assert c.xyfromp_f() == (c.x, c.y, c.p)\n",
    "assert c.xyfromp_f(withunits=True) == (100.0, 10000.0, 100.0, 'WETH', 'USDC', 'WETH/USDC')\n",
    "\n",
    "x,y,p = c.xyfromp_f(p=85, ignorebounds=True)\n",
    "assert p == 85\n",
    "assert iseq(x*y, c.k)\n",
    "assert iseq(y/x,85)\n",
    "\n",
    "x,y,p = c.xyfromp_f(p=115, ignorebounds=True)\n",
    "assert p == 115\n",
    "assert iseq(x*y, c.k)\n",
    "assert iseq(y/x,115)\n",
    "\n",
    "x,y,p = c.xyfromp_f(p=95)\n",
    "assert p == 95\n",
    "assert iseq(x*y, c.k)\n",
    "assert iseq(y/x,p)\n",
    "\n",
    "x,y,p = c.xyfromp_f(p=105)\n",
    "assert p == 105\n",
    "assert iseq(x*y, c.k)\n",
    "assert iseq(y/x,p)\n",
    "\n",
    "x,y,p = c.xyfromp_f(p=85)\n",
    "assert p == 85\n",
    "assert iseq(x*y, c.k)\n",
    "assert iseq(y/x,90)\n",
    "\n",
    "x,y,p = c.xyfromp_f(p=115)\n",
    "assert p == 115\n",
    "assert iseq(x*y, c.k)\n",
    "assert iseq(y/x,110)"
   ]
  },
  {
   "cell_type": "code",
   "execution_count": null,
   "id": "6f488b21",
   "metadata": {},
   "outputs": [],
   "source": [
    "assert c.dxdyfromp_f(withunits=True) == (0.0, 0.0, 100.0, 'WETH', 'USDC', 'WETH/USDC')\n",
    "\n",
    "dx,dy,p = c.dxdyfromp_f(p=85, ignorebounds=True)\n",
    "assert p == 85\n",
    "assert iseq((c.x+dx)*(c.y+dy), c.k)\n",
    "assert iseq((c.y+dy)/(c.x+dx),p)\n",
    "\n",
    "dx,dy,p = c.dxdyfromp_f(p=115, ignorebounds=True)\n",
    "assert p == 115\n",
    "assert iseq((c.x+dx)*(c.y+dy), c.k)\n",
    "assert iseq((c.y+dy)/(c.x+dx),p)\n",
    "\n",
    "dx,dy,p = c.dxdyfromp_f(p=95)\n",
    "assert p == 95\n",
    "assert iseq((c.x+dx)*(c.y+dy), c.k)\n",
    "assert iseq((c.y+dy)/(c.x+dx),p)\n",
    "\n",
    "dx,dy,p = c.dxdyfromp_f(p=105)\n",
    "assert p == 105\n",
    "assert iseq((c.x+dx)*(c.y+dy), c.k)\n",
    "assert iseq((c.y+dy)/(c.x+dx),p)\n",
    "\n",
    "dx,dy,p = c.dxdyfromp_f(p=85)\n",
    "assert p == 85\n",
    "assert iseq((c.x+dx)*(c.y+dy), c.k)\n",
    "assert iseq((c.y+dy)/(c.x+dx), 90)\n",
    "assert iseq(dy, -c.y_act)\n",
    "\n",
    "dx,dy,p = c.dxdyfromp_f(p=115)\n",
    "assert p == 115\n",
    "assert iseq((c.x+dx)*(c.y+dy), c.k)\n",
    "assert iseq((c.y+dy)/(c.x+dx), 110)\n",
    "assert iseq(dx, -c.x_act)\n",
    "\n",
    "assert iseq(c.x_min*c.y_max, c.k)\n",
    "assert iseq(c.x_max*c.y_min, c.k)\n",
    "assert iseq(c.y_max/c.x_min, c.p_max)\n",
    "assert iseq(c.y_min/c.x_max, c.p_min)"
   ]
  },
  {
   "cell_type": "markdown",
   "id": "1b50a1a4",
   "metadata": {},
   "source": [
    "## CPCInverter"
   ]
  },
  {
   "cell_type": "code",
   "execution_count": null,
   "id": "3ef6d6d7",
   "metadata": {},
   "outputs": [],
   "source": [
    "c   = CPC.from_pkpp(p=2000,   k=10*20000, p_min=1800,   p_max=2200,   pair=f\"{T.ETH}/{T.USDC}\")\n",
    "c2  = CPC.from_pkpp(p=1/2000, k=10*20000, p_max=1/1800, p_min=1/2200, pair=f\"{T.USDC}/{T.ETH}\")\n",
    "ci  = CPCInverter(c)\n",
    "c2i = CPCInverter(c2)\n",
    "curves = CPCInverter.wrap([c,c2])\n",
    "assert c.pairo == c2i.pairo\n",
    "assert ci.pairo == c2.pairo"
   ]
  },
  {
   "cell_type": "code",
   "execution_count": null,
   "id": "f92dc34e",
   "metadata": {},
   "outputs": [],
   "source": [
    "#print(\"x_act\", c.x_act, c2i.x_act)\n",
    "assert iseq(c.x_act, c2i.x_act)\n",
    "xact = c.x_act\n",
    "dx = -0.1*xact\n",
    "c_ex = c.execute(dx=dx)\n",
    "assert isinstance(c_ex, CPC)\n",
    "assert iseq(c_ex.x_act, xact+dx)\n",
    "assert iseq(c_ex.x, c.x+dx)\n",
    "c2i_ex = c2i.execute(dx=dx)\n",
    "assert iseq(c2i_ex.x_act, xact+dx)\n",
    "assert iseq(c2i_ex.x, c.x+dx)\n",
    "assert isinstance(c2i_ex, CPCInverter)"
   ]
  },
  {
   "cell_type": "code",
   "execution_count": null,
   "id": "ca485113",
   "metadata": {},
   "outputs": [],
   "source": [
    "assert len(curves) == 2\n",
    "assert set(c.pair for c in curves) == {'WETH-6Cc2/USDC-eB48'}\n",
    "assert len(set(c.pair for c in curves)) == 1\n",
    "assert len(set(c.tknx for c in curves)) == 1\n",
    "assert len(set(c.tkny for c in curves)) == 1"
   ]
  },
  {
   "cell_type": "code",
   "execution_count": null,
   "id": "68861100",
   "metadata": {
    "lines_to_next_cell": 2
   },
   "outputs": [],
   "source": [
    "assert c.tknx == ci.tkny\n",
    "assert c.tkny == ci.tknx\n",
    "assert c.tknxp == ci.tknyp\n",
    "assert c.tknyp == ci.tknxp\n",
    "assert c.tknb == ci.tknq\n",
    "assert c.tknq == ci.tknb\n",
    "assert c.tknbp == ci.tknqp\n",
    "assert c.tknqp == ci.tknbp\n",
    "assert f\"{c.tknq}/{c.tknb}\" == ci.pair\n",
    "assert f\"{c.tknqp}/{c.tknbp}\" == ci.pairp\n",
    "assert c.x == ci.y\n",
    "assert c.y == ci.x\n",
    "assert c.x_act == ci.y_act\n",
    "assert c.y_act == ci.x_act\n",
    "assert c.x_min == ci.y_min\n",
    "assert c.x_max == ci.y_max\n",
    "assert c.y_min == ci.x_min\n",
    "assert c.y_max == ci.x_max\n",
    "assert c.k == ci.k\n",
    "assert iseq(c.p, 1/ci.p)\n",
    "assert iseq(c.p_min, 1/ci.p_max)\n",
    "assert iseq(c.p_max, 1/ci.p_min)"
   ]
  },
  {
   "cell_type": "code",
   "execution_count": null,
   "id": "65156f9c",
   "metadata": {},
   "outputs": [],
   "source": [
    "assert c.pair == c2i.pair\n",
    "assert c.tknx == c2i.tknx\n",
    "assert c.tkny == c2i.tkny\n",
    "assert c.tknxp == c2i.tknxp\n",
    "assert c.tknyp == c2i.tknyp\n",
    "assert c.tknb == c2i.tknb\n",
    "assert c.tknq == c2i.tknq\n",
    "assert c.tknbp == c2i.tknbp\n",
    "assert c.tknqp == c2i.tknqp\n",
    "assert iseq(c.p, c2i.p)\n",
    "assert iseq(c.p_min, c2i.p_min)\n",
    "assert iseq(c.p_max, c2i.p_max)\n",
    "assert c.x == c2i.x\n",
    "assert c.y == c2i.y\n",
    "assert c.x_act == c2i.x_act\n",
    "assert c.y_act == c2i.y_act\n",
    "assert c.x_min == c2i.x_min\n",
    "assert c.x_max == c2i.x_max\n",
    "assert c.y_min == c2i.y_min\n",
    "assert c.y_max == c2i.y_max\n",
    "assert c.k == c2i.k"
   ]
  },
  {
   "cell_type": "code",
   "execution_count": null,
   "id": "b530bfd2",
   "metadata": {},
   "outputs": [],
   "source": [
    "assert iseq(c.xfromy_f(c.y), c2i.xfromy_f(c2i.y))\n",
    "assert iseq(c.yfromx_f(c.x), c2i.yfromx_f(c2i.x))\n",
    "assert iseq(c.xfromy_f(c.y*1.05), c2i.xfromy_f(c2i.y*1.05))\n",
    "assert iseq(c.yfromx_f(c.x*1.05), c2i.yfromx_f(c2i.x*1.05))\n",
    "assert iseq(c.dxfromdy_f(1), c2i.dxfromdy_f(1))\n",
    "assert iseq(c.dyfromdx_f(1), c2i.dyfromdx_f(1))"
   ]
  },
  {
   "cell_type": "code",
   "execution_count": null,
   "id": "0b7050fc",
   "metadata": {
    "lines_to_next_cell": 2
   },
   "outputs": [],
   "source": [
    "assert c.xyfromp_f() == c2i.xyfromp_f()\n",
    "assert c.dxdyfromp_f() == c2i.dxdyfromp_f()\n",
    "assert c.xyfromp_f(withunits=True) == c2i.xyfromp_f(withunits=True)\n",
    "assert c.dxdyfromp_f(withunits=True) == c2i.dxdyfromp_f(withunits=True)\n",
    "assert iseq(c.p, c2i.p)\n",
    "x,y,p    = c.xyfromp_f(c.p*1.05)\n",
    "x2,y2,p2 = c2i.xyfromp_f(c2i.p*1.05)\n",
    "assert iseq(x,x2)\n",
    "assert iseq(y,y2)\n",
    "assert iseq(p,p2)\n",
    "dx,dy,p    = c.dxdyfromp_f(c.p*1.05)\n",
    "dx2,dy2,p2 = c2i.dxdyfromp_f(c2i.p*1.05)\n",
    "assert iseq(dx,dx2)\n",
    "assert iseq(dy,dy2)\n",
    "assert iseq(p,p2)"
   ]
  },
  {
   "cell_type": "markdown",
   "id": "bcf11bc1",
   "metadata": {},
   "source": [
    "## simple_optimizer"
   ]
  },
  {
   "cell_type": "code",
   "execution_count": null,
   "id": "bb2ae437",
   "metadata": {},
   "outputs": [],
   "source": [
    "CC = CPCContainer(CPC.from_pk(p=2000+i*10, k=10*20000, pair=f\"{T.ETH}/{T.USDC}\") for i in range(11))\n",
    "c0 = CC.curves[0]\n",
    "c1 = CC.curves[-1]\n",
    "CC0 = CPCContainer([c0])\n",
    "assert len(CC) == 11\n",
    "assert iseq([c.p for c in CC][-1], 2100)\n",
    "assert len(CC0) == 1\n",
    "assert iseq([c.p for c in CC0][-1], 2000)"
   ]
  },
  {
   "cell_type": "code",
   "execution_count": null,
   "id": "af0421b3",
   "metadata": {},
   "outputs": [],
   "source": [
    "O = SimpleOptimizer(CC)\n",
    "O0 = SimpleOptimizer(CC0)\n",
    "func = O.simple_optimizer(result=O.SO_DXDYVECFUNC)\n",
    "func0 = O0.simple_optimizer(result=O.SO_DXDYVECFUNC)\n",
    "funcs = O.simple_optimizer(result=O.SO_DXDYSUMFUNC)\n",
    "funcvx = O.simple_optimizer(result=O.SO_DXDYVALXFUNC)\n",
    "funcvy = O.simple_optimizer(result=O.SO_DXDYVALYFUNC)\n",
    "x,y = func0(2100)[0]\n",
    "xb, yb, _ = c0.dxdyfromp_f(2100)\n",
    "assert x == xb\n",
    "assert y == yb\n",
    "x,y = func(2100)[-1]\n",
    "xb, yb, _ = c1.dxdyfromp_f(2100)\n",
    "assert x == xb\n",
    "assert y == yb\n",
    "assert np.all(sum(func(2100)) == funcs(2100))\n",
    "\n",
    "p = 2100\n",
    "dx, dy = funcs(p)\n",
    "assert iseq(dy + p*dx, funcvy(p))\n",
    "assert iseq(dy/p + dx, funcvx(p))\n",
    "\n",
    "p = 1500\n",
    "dx, dy = funcs(p)\n",
    "assert iseq(dy + p*dx, funcvy(p))\n",
    "assert iseq(dy/p + dx, funcvx(p))\n",
    "\n",
    "assert iseq(float(O0.simple_optimizer(result=O.SO_PMAX)), c0.p)\n",
    "assert iseq(float(O.simple_optimizer(result=O.SO_PMAX)), 2049.6451720862074, eps=1e-3)"
   ]
  },
  {
   "cell_type": "code",
   "execution_count": null,
   "id": "c708e8f8",
   "metadata": {},
   "outputs": [],
   "source": [
    "O.simple_optimizer(result=O.SO_PMAX)"
   ]
  },
  {
   "cell_type": "markdown",
   "id": "8166cd85",
   "metadata": {},
   "source": [
    "### global max"
   ]
  },
  {
   "cell_type": "code",
   "execution_count": null,
   "id": "e07a7189",
   "metadata": {},
   "outputs": [],
   "source": [
    "r = O.simple_optimizer()\n",
    "r_ = O.simple_optimizer(result=O.SO_GLOBALMAX)\n",
    "assert raises(O.simple_optimizer, targettkn=T.WETH, result=O.SO_GLOBALMAX)\n",
    "assert iseq(float(r), float(r_))\n",
    "assert len(r.curves) == len(CC)\n",
    "assert np.all(r.dxdy_sum == sum(r.dxdy_vec))\n",
    "dx, dy = r.dxdy_vecs\n",
    "assert tuple(tuple(_) for _ in r.dxdy_vec) == tuple(zip(dx,dy))\n",
    "assert r.result == r.dxdy_valx\n",
    "for dp in np.linspace(-500,500,100):\n",
    "    assert r.dxdyfromp_valx_f(p) < r.dxdy_valx\n",
    "    assert r.dxdyfromp_valy_f(p) < r.dxdy_valy"
   ]
  },
  {
   "cell_type": "code",
   "execution_count": null,
   "id": "8f2a15f7",
   "metadata": {},
   "outputs": [],
   "source": [
    "CC_ex = CPCContainer(c.execute(dx=dx) for c, dx in zip(r.curves, r.dxvalues))\n",
    "# CC.plot()\n",
    "# CC_ex.plot()\n",
    "prices = [c.p for c in CC]\n",
    "prices_ex = [c.p for c in CC_ex]\n",
    "assert iseq(np.std(prices), 31.622776601683707)\n",
    "assert iseq(np.std(prices_ex), 4.547473508864641e-13)\n",
    "#prices, prices_ex"
   ]
  },
  {
   "cell_type": "markdown",
   "id": "ff7dba0f",
   "metadata": {},
   "source": [
    "### target token"
   ]
  },
  {
   "cell_type": "code",
   "execution_count": null,
   "id": "12962eef",
   "metadata": {},
   "outputs": [],
   "source": [
    "r = O.simple_optimizer(targettkn=T.WETH)\n",
    "r_ = O.simple_optimizer(targettkn=T.WETH, result=O.SO_TARGETTKN)\n",
    "assert raises(O.simple_optimizer,targettkn=T.DAI)\n",
    "assert raises(O.simple_optimizer, result=O.SO_TARGETTKN)\n",
    "assert iseq(float(r), float(r_))\n",
    "assert abs(sum(r.dyvalues) < 1e-6)\n",
    "assert sum(r.dxvalues) < 0\n",
    "assert iseq(float(r),sum(r.dxvalues))"
   ]
  },
  {
   "cell_type": "code",
   "execution_count": null,
   "id": "e65d8ea6",
   "metadata": {},
   "outputs": [],
   "source": [
    "r = O.simple_optimizer(targettkn=T.USDC)\n",
    "assert abs(sum(r.dxvalues) < 1e-6)\n",
    "assert sum(r.dyvalues) < 0\n",
    "assert iseq(float(r),sum(r.dyvalues))"
   ]
  },
  {
   "cell_type": "markdown",
   "id": "ee1c932b",
   "metadata": {},
   "source": [
    "## optimizer plus inverted curves"
   ]
  },
  {
   "cell_type": "code",
   "execution_count": null,
   "id": "4ecd90f9",
   "metadata": {},
   "outputs": [],
   "source": [
    "CCr = CPCContainer(CPC.from_pk(p=2000+i*100, k=10*(20000+10000*i), pair=f\"{T.ETH}/{T.USDC}\") for i in range(11))\n",
    "CCi = CPCContainer(CPC.from_pk(p=1/(2050+i*100), k=10*(20000+10000*i), pair=f\"{T.USDC}/{T.ETH}\") for i in range(11))\n",
    "CC  = CCr.bycids()\n",
    "assert len(CC) == len(CCr)\n",
    "CC += CCi\n",
    "assert len(CC) == len(CCr) + len(CCi)"
   ]
  },
  {
   "cell_type": "code",
   "execution_count": null,
   "id": "c601265a",
   "metadata": {},
   "outputs": [],
   "source": [
    "# CC.plot()"
   ]
  },
  {
   "cell_type": "code",
   "execution_count": null,
   "id": "36a68baa",
   "metadata": {},
   "outputs": [],
   "source": [
    "O = SimpleOptimizer(CC)\n",
    "r = O.simple_optimizer()\n",
    "print(f\"Arbitrage gains: {-r.valx:.4f} {r.tknxp} [time={r.time:.4f}s]\")\n",
    "assert iseq(r.result, -1.3194573866437527)"
   ]
  },
  {
   "cell_type": "code",
   "execution_count": null,
   "id": "d1e3c887",
   "metadata": {},
   "outputs": [],
   "source": [
    "CC_ex = CPCContainer(c.execute(dx=dx) for c, dx in zip(r.curves, r.dxvalues))\n",
    "# CC.plot()\n",
    "# CC_ex.plot()"
   ]
  },
  {
   "cell_type": "code",
   "execution_count": null,
   "id": "d4c16352",
   "metadata": {},
   "outputs": [],
   "source": [
    "prices_ex = [c.pairo.primary_price(c.p) for c in CC_ex]\n",
    "assert iseq(np.std(prices_ex), 5.130242014436283e-13)"
   ]
  },
  {
   "cell_type": "markdown",
   "id": "9caa5204",
   "metadata": {},
   "source": [
    "## posx and negx"
   ]
  },
  {
   "cell_type": "code",
   "execution_count": null,
   "id": "34ede208",
   "metadata": {},
   "outputs": [],
   "source": [
    "O = CPCArbOptimizer\n",
    "a = O.a"
   ]
  },
  {
   "cell_type": "code",
   "execution_count": null,
   "id": "8fe3f69a",
   "metadata": {},
   "outputs": [],
   "source": [
    "assert O.posx([0,-1,2]) == (0, 0, 2)\n",
    "assert O.posx((-1,-2, 3)) == (0, 0, 3)\n",
    "assert O.negx([0,-1,2]) == (0, -1, 0)\n",
    "assert O.negx((-1,-2, 3)) == (-1, -2, 0)\n",
    "assert np.all(O.posx(a([0,-1,2])) == a((0, 0, 2)))\n",
    "assert O.t(a((-1,-2))) == (-1,-2)"
   ]
  },
  {
   "cell_type": "code",
   "execution_count": null,
   "id": "3d1f06a7",
   "metadata": {},
   "outputs": [],
   "source": [
    "for v in ((1,2,3), (1,-1,5-10,0), (-10.5,8,2.34,-17)):\n",
    "    assert np.all(O.posx(a(v))+O.negx(a(v)) == v)"
   ]
  },
  {
   "cell_type": "markdown",
   "id": "90cb3696",
   "metadata": {},
   "source": [
    "## TradeInstructions"
   ]
  },
  {
   "cell_type": "code",
   "execution_count": null,
   "id": "375eec3d",
   "metadata": {},
   "outputs": [],
   "source": [
    "TI = CPCArbOptimizer.TradeInstruction"
   ]
  },
  {
   "cell_type": "code",
   "execution_count": null,
   "id": "eff49534",
   "metadata": {},
   "outputs": [],
   "source": [
    "ti = TI.new(curve_or_cid=\"1\", tkn1=\"ETH\", amt1=1, tkn2=\"USDC\", amt2=-2000)\n",
    "print(f\"cid={ti.cid}, out={ti.amtout} {ti.tknout}, , out={ti.amtin} {ti.tknin}\")\n",
    "assert ti.tknin == \"ETH\"\n",
    "assert ti.amtin > 0\n",
    "assert ti.tknout == \"USDC\"\n",
    "assert ti.amtout < 0\n",
    "assert ti.price_outperin == 2000\n",
    "assert ti.price_inperout == 1/2000\n",
    "assert ti.prices == (2000, 1/2000)\n",
    "assert ti.price_outperin == ti.p\n",
    "assert ti.price_inperout == ti.pr\n",
    "assert ti.prices == ti.pp"
   ]
  },
  {
   "cell_type": "code",
   "execution_count": null,
   "id": "bf6632e7",
   "metadata": {},
   "outputs": [],
   "source": [
    "assert not raises(TI, cid=\"1\", tknin=\"USDC\", amtin=2000, tknout=\"ETH\", amtout=-1, raiseonerror=True)\n",
    "assert raises(TI, cid=\"1\", tknin=\"USDC\", amtin=2000, tknout=\"ETH\", amtout=1, raiseonerror=True)\n",
    "assert raises(TI, cid=\"1\", tknin=\"USDC\", amtin=-2000, tknout=\"ETH\", amtout=-1, raiseonerror=True)\n",
    "assert raises(TI, cid=\"1\", tknin=\"USDC\", amtin=-2000, tknout=\"ETH\", amtout=1, raiseonerror=True)\n",
    "assert raises(TI, cid=\"1\", tknin=\"USDC\", amtin=2000, tknout=\"ETH\", amtout=0, raiseonerror=True)\n",
    "assert raises(TI, cid=\"1\", tknin=\"USDC\", amtin=0, tknout=\"ETH\", amtout=-1, raiseonerror=True)\n",
    "assert not raises(TI.new, curve_or_cid=\"1\", tkn1=\"USDC\", amt1=2000, tkn2=\"ETH\", amt2=-1, raiseonerror=True)\n",
    "assert not raises(TI.new, curve_or_cid=\"1\", tkn1=\"USDC\", amt1=-2000, tkn2=\"ETH\", amt2=1, raiseonerror=True)\n",
    "assert raises(TI.new, curve_or_cid=\"1\", tkn1=\"USDC\", amt1=2000, tkn2=\"ETH\", amt2=1, raiseonerror=True)\n",
    "assert raises(TI.new, curve_or_cid=\"1\", tkn1=\"USDC\", amt1=-2000, tkn2=\"ETH\", amt2=-1, raiseonerror=True)\n",
    "assert raises(TI.new, curve_or_cid=\"1\", tkn1=\"USDC\", amt1=0, tkn2=\"ETH\", amt2=1, raiseonerror=True)\n",
    "assert raises(TI.new, curve_or_cid=\"1\", tkn1=\"USDC\", amt1=-2000, tkn2=\"ETH\", amt2=0, raiseonerror=True)"
   ]
  },
  {
   "cell_type": "code",
   "execution_count": null,
   "id": "8294a2a9",
   "metadata": {
    "lines_to_next_cell": 2
   },
   "outputs": [],
   "source": [
    "assert not TI(cid=\"1\", tknin=\"USDC\", amtin=2000, tknout=\"ETH\", amtout=-1, raiseonerror=False).error\n",
    "assert     TI(cid=\"1\", tknin=\"USDC\", amtin=2000, tknout=\"ETH\", amtout=1, raiseonerror=False).error\n",
    "assert     TI(cid=\"1\", tknin=\"USDC\", amtin=-2000, tknout=\"ETH\", amtout=-1, raiseonerror=False).error\n",
    "assert     TI(cid=\"1\", tknin=\"USDC\", amtin=-2000, tknout=\"ETH\", amtout=1, raiseonerror=False).error\n",
    "assert     TI(cid=\"1\", tknin=\"USDC\", amtin=2000, tknout=\"ETH\", amtout=0, raiseonerror=False).error\n",
    "assert     TI(cid=\"1\", tknin=\"USDC\", amtin=0, tknout=\"ETH\", amtout=-1, raiseonerror=False).error\n",
    "assert not TI.new(curve_or_cid=\"1\", tkn1=\"USDC\", amt1=2000, tkn2=\"ETH\", amt2=-1, raiseonerror=False).error\n",
    "assert not TI.new(curve_or_cid=\"1\", tkn1=\"USDC\", amt1=-2000, tkn2=\"ETH\", amt2=1, raiseonerror=False).error\n",
    "assert     TI.new(curve_or_cid=\"1\", tkn1=\"USDC\", amt1=2000, tkn2=\"ETH\", amt2=1, raiseonerror=False).error\n",
    "assert     TI.new(curve_or_cid=\"1\", tkn1=\"USDC\", amt1=-2000, tkn2=\"ETH\", amt2=-1, raiseonerror=False).error\n",
    "assert     TI.new(curve_or_cid=\"1\", tkn1=\"USDC\", amt1=0, tkn2=\"ETH\", amt2=1, raiseonerror=False).error\n",
    "assert     TI.new(curve_or_cid=\"1\", tkn1=\"USDC\", amt1=-2000, tkn2=\"ETH\", amt2=0, raiseonerror=False).error"
   ]
  },
  {
   "cell_type": "code",
   "execution_count": null,
   "id": "d6c001fd",
   "metadata": {},
   "outputs": [],
   "source": [
    "til = [\n",
    "    TI.new(curve_or_cid=f\"{i+1}\", tkn1=\"ETH\", amt1=1*(1+i/100), tkn2=\"USDC\", amt2=-2000*(1+i/100)) \n",
    "    for i in range(10)\n",
    "]\n",
    "tild = TI.to_dicts(til)\n",
    "tildf = TI.to_df(til, robj=None)\n",
    "assert len(tild) == 10\n",
    "assert len(tildf) == 10\n",
    "assert tild[0] == {\n",
    "    'cid': '1', \n",
    "    'tknin': 'ETH', \n",
    "    'amtin': 1.0, \n",
    "    'tknout': 'USDC', \n",
    "    'amtout': -2000.0,\n",
    "    'error': None,}\n",
    "assert dict(tildf.iloc[0]) == {\n",
    "    'pair': '',\n",
    "    'pairp': '',\n",
    "    'tknin': 'ETH',\n",
    "    'tknout': 'USDC',\n",
    "    'ETH': 1.0,\n",
    "    'USDC': -2000.0\n",
    "}"
   ]
  },
  {
   "cell_type": "code",
   "execution_count": null,
   "id": "0419e520",
   "metadata": {},
   "outputs": [],
   "source": [
    "tild[0]"
   ]
  },
  {
   "cell_type": "code",
   "execution_count": null,
   "id": "2eec3c2c",
   "metadata": {},
   "outputs": [],
   "source": [
    "tildf"
   ]
  },
  {
   "cell_type": "markdown",
   "id": "232342ea",
   "metadata": {},
   "source": [
    "## margp_optimizer"
   ]
  },
  {
   "cell_type": "markdown",
   "id": "5a2ee1e0",
   "metadata": {},
   "source": [
    "### no arbitrage possible"
   ]
  },
  {
   "cell_type": "code",
   "execution_count": null,
   "id": "9a2f0b78",
   "metadata": {},
   "outputs": [],
   "source": [
    "CCa = CPCContainer()\n",
    "CCa += CPC.from_pk(pair=\"WETH/USDC\", p=2000, k=10*20000, cid=\"c0\")\n",
    "CCa += CPC.from_pk(pair=\"WETH/USDT\", p=2000, k=10*20000, cid=\"c1\")\n",
    "CCa += CPC.from_pk(pair=\"USDC/USDT\", p=1.0, k=200000*200000, cid=\"c2\")\n",
    "O = MargPOptimizer(CCa)"
   ]
  },
  {
   "cell_type": "code",
   "execution_count": null,
   "id": "0220671a",
   "metadata": {},
   "outputs": [],
   "source": [
    "r = O.margp_optimizer(\"WETH\", result=O.MO_DEBUG)\n",
    "assert isinstance(r, dict)\n",
    "prices0 = r[\"price_estimates_t\"]\n",
    "assert not prices0 is None, f\"prices0 must not be None [{prices0}]\"\n",
    "r1 = O.arb(\"WETH\")\n",
    "r2 = O.SelfFinancingConstraints.arb(\"WETH\")\n",
    "assert isinstance(r1, CPCArbOptimizer.SelfFinancingConstraints)\n",
    "assert r1 == r2\n",
    "assert r[\"sfc\"] == r1\n",
    "assert r1.is_arbsfc()\n",
    "assert r1.optimizationvar == \"WETH\""
   ]
  },
  {
   "cell_type": "code",
   "execution_count": null,
   "id": "3a8e543a",
   "metadata": {},
   "outputs": [],
   "source": [
    "r"
   ]
  },
  {
   "cell_type": "code",
   "execution_count": null,
   "id": "f6c8c50f",
   "metadata": {},
   "outputs": [],
   "source": [
    "prices0"
   ]
  },
  {
   "cell_type": "code",
   "execution_count": null,
   "id": "7c3e3839",
   "metadata": {},
   "outputs": [],
   "source": [
    "f = O.margp_optimizer(\"WETH\", result=O.MO_DTKNFROMPF, params=dict(verbose=True, debug=False))\n",
    "r3 = f(prices0, islog10=False)\n",
    "assert np.all(r3 == (0,0))\n",
    "r4, r3b = f(prices0, asdct=True, islog10=False)\n",
    "assert np.all(r3==r3b)\n",
    "assert len(r4) == len(r3)+1\n",
    "assert tuple(r4.values()) == (0,0,0)\n",
    "assert set(r4) == {'USDC', 'USDT', 'WETH'}"
   ]
  },
  {
   "cell_type": "code",
   "execution_count": null,
   "id": "c45ebfaa",
   "metadata": {},
   "outputs": [],
   "source": [
    "r = O.margp_optimizer(\"WETH\", result=O.MO_MINIMAL, params=dict(verbose=True))\n",
    "rd = r.asdict\n",
    "assert abs(float(r)) < 1e-10\n",
    "assert r.result == float(r)\n",
    "assert r.method == \"margp\"\n",
    "assert r.curves is None\n",
    "assert r.targettkn == \"WETH\"\n",
    "assert r.dtokens is None\n",
    "assert sum(abs(x) for x in r.dtokens_t) < 1e-10\n",
    "assert not r.p_optimal is None\n",
    "assert iseq(0.0005, r.p_optimal_t[0], r.p_optimal_t[1])\n",
    "assert set(r.tokens_t) == {'USDC', 'USDT'}\n",
    "assert r.errormsg is None\n",
    "assert r.is_error == False\n",
    "assert r.time > 0\n",
    "assert r.time < 0.1"
   ]
  },
  {
   "cell_type": "code",
   "execution_count": null,
   "id": "551b9b36",
   "metadata": {},
   "outputs": [],
   "source": [
    "r = O.margp_optimizer(\"WETH\", result=O.MO_FULL)\n",
    "rd = r.asdict()\n",
    "r2 = O.margp_optimizer(\"WETH\")\n",
    "r2d = r2.asdict()\n",
    "for k in rd:\n",
    "    #print(k)\n",
    "    if not k in [\"time\", \"curves\"]:\n",
    "        assert rd[k] == r2d[k]\n",
    "assert r2.curves == r.curves # the TokenScale object fails in the dict\n",
    "\n",
    "assert abs(float(r)) < 1e-10\n",
    "assert r.result == float(r)\n",
    "assert r.method == \"margp\"\n",
    "assert len(r.curves) == 3\n",
    "assert r.targettkn == \"WETH\"\n",
    "assert set(r.dtokens.keys()) == set(['USDT', 'WETH', 'USDC'])\n",
    "assert sum(abs(x) for x in r.dtokens.values()) < 1e-10\n",
    "assert sum(abs(x) for x in r.dtokens_t) < 1e-10\n",
    "assert iseq(0.0005, r.p_optimal[\"USDC\"], r.p_optimal[\"USDT\"])\n",
    "assert iseq(0.0005, r.p_optimal_t[0], r.p_optimal_t[1])\n",
    "assert tuple(r.p_optimal.values())[:-1] == r.p_optimal_t\n",
    "assert set(r.tokens_t) == set(('USDC', 'USDT'))\n",
    "assert r.errormsg is None\n",
    "assert r.is_error == False\n",
    "assert r.time > 0\n",
    "assert r.time < 0.1"
   ]
  },
  {
   "cell_type": "markdown",
   "id": "7d3e07f5",
   "metadata": {},
   "source": [
    "### arbitrage"
   ]
  },
  {
   "cell_type": "code",
   "execution_count": null,
   "id": "16390e26",
   "metadata": {},
   "outputs": [],
   "source": [
    "CCa = CPCContainer()\n",
    "CCa += CPC.from_pk(pair=\"WETH/USDC\", p=2000, k=10*20000, cid=\"c0\")\n",
    "CCa += CPC.from_pk(pair=\"WETH/USDT\", p=2000, k=10*20000, cid=\"c1\")\n",
    "CCa += CPC.from_pk(pair=\"USDC/USDT\", p=1.2, k=200000*200000, cid=\"c2\")\n",
    "O = MargPOptimizer(CCa)"
   ]
  },
  {
   "cell_type": "code",
   "execution_count": null,
   "id": "34b5d2b2",
   "metadata": {},
   "outputs": [],
   "source": [
    "r = O.margp_optimizer(\"WETH\", result=O.MO_DEBUG)\n",
    "assert isinstance(r, dict)\n",
    "prices0 = r[\"price_estimates_t\"]\n",
    "r1 = O.arb(\"WETH\")\n",
    "r2 = O.SelfFinancingConstraints.arb(\"WETH\")\n",
    "assert isinstance(r1, CPCArbOptimizer.SelfFinancingConstraints)\n",
    "assert r1 == r2\n",
    "assert r[\"sfc\"] == r1\n",
    "assert r1.is_arbsfc()\n",
    "assert r1.optimizationvar == \"WETH\""
   ]
  },
  {
   "cell_type": "code",
   "execution_count": null,
   "id": "d9d551b6",
   "metadata": {},
   "outputs": [],
   "source": [
    "f = O.margp_optimizer(\"WETH\", result=O.MO_DTKNFROMPF)\n",
    "r3 = f(prices0, islog10=False)\n",
    "assert set(r3.astype(int)) == set((17425,-19089))\n",
    "r4, r3b = f(prices0, asdct=True, islog10=False)\n",
    "assert np.all(r3==r3b)\n",
    "assert len(r4) == len(r3)+1\n",
    "assert set(r4) == {'USDC', 'USDT', 'WETH'}"
   ]
  },
  {
   "cell_type": "code",
   "execution_count": null,
   "id": "88888e71",
   "metadata": {},
   "outputs": [],
   "source": [
    "r = O.margp_optimizer(\"WETH\", result=O.MO_FULL)\n",
    "assert iseq(float(r), -0.03944401129301944)\n",
    "assert r.result == float(r)\n",
    "assert r.method == \"margp\"\n",
    "assert len(r.curves) == 3\n",
    "assert r.targettkn == \"WETH\"\n",
    "assert abs(r.dtokens_t[0]) < 1e-6\n",
    "assert abs(r.dtokens_t[1]) < 1e-6\n",
    "assert r.dtokens[\"WETH\"] == float(r)\n",
    "assert tuple(r.p_optimal.values())[:-1] == r.p_optimal_t\n",
    "assert tuple(r.p_optimal)[:-1] == r.tokens_t\n",
    "assert iseq(r.p_optimal_t[0], 0.0005421803152482512) or iseq(r.p_optimal_t[0], 0.00045575394031021585)\n",
    "assert iseq(r.p_optimal_t[1], 0.0005421803152482512) or iseq(r.p_optimal_t[1], 0.00045575394031021585)\n",
    "assert tuple(r.p_optimal.values())[:-1] == r.p_optimal_t\n",
    "assert set(r.tokens_t) == set(('USDC', 'USDT'))\n",
    "assert r.errormsg is None\n",
    "assert r.is_error == False\n",
    "assert r.time > 0\n",
    "assert r.time < 0.1"
   ]
  },
  {
   "cell_type": "code",
   "execution_count": null,
   "id": "7c7fed1c",
   "metadata": {},
   "outputs": [],
   "source": [
    "abs(r.dtokens_t[0])"
   ]
  },
  {
   "cell_type": "code",
   "execution_count": null,
   "id": "e007be1d",
   "metadata": {},
   "outputs": [],
   "source": [
    "ti = r.trade_instructions()\n",
    "assert len(ti) == 3\n",
    "dfa = r.trade_instructions(ti_format=O.TIF_DFAGGR)\n",
    "assert len(dfa)==7\n",
    "assert list(dfa.index) == ['c0', 'c1', 'c2', 'PRICE', 'AMMIn', 'AMMOut', 'TOTAL NET']\n",
    "assert list(dfa.columns) == ['WETH', 'USDC', 'USDT']\n",
    "assert dfa.loc[\"PRICE\"][0] == 1\n",
    "assert iseq(dfa.loc[\"PRICE\"][1], 0.0005421803152)\n",
    "assert iseq(dfa.loc[\"PRICE\"][2], 0.0004557539403)\n",
    "dfa"
   ]
  },
  {
   "cell_type": "code",
   "execution_count": null,
   "id": "ccc9d286",
   "metadata": {},
   "outputs": [],
   "source": [
    "df = r.trade_instructions(ti_format=O.TIF_DF)\n",
    "assert len(df) == 3\n",
    "assert list(df.columns) == ['pair', 'pairp', 'tknin', 'tknout', 'WETH', 'USDC', 'USDT']\n",
    "df"
   ]
  },
  {
   "cell_type": "code",
   "execution_count": null,
   "id": "7c7f2301",
   "metadata": {},
   "outputs": [],
   "source": [
    "df = r.trade_instructions(ti_format=O.TIF_DF).fillna(\"\")\n",
    "assert len(df) == 3\n",
    "assert list(df.columns) == ['pair', 'pairp', 'tknin', 'tknout', 'WETH', 'USDC', 'USDT']\n",
    "assert df[\"USDT\"].loc[\"c0\"] == \"\"\n",
    "df"
   ]
  },
  {
   "cell_type": "code",
   "execution_count": null,
   "id": "c5cb20e7",
   "metadata": {},
   "outputs": [],
   "source": [
    "dcts = r.trade_instructions(ti_format=O.TIF_DICTS)\n",
    "assert len(dcts) == 3\n",
    "assert list(dcts[0].keys()) == ['cid', 'tknin', 'amtin', 'tknout', 'amtout', 'error']\n",
    "d0 = dcts[0]\n",
    "assert d0[\"cid\"] == \"c0\"\n",
    "assert iseq(d0[\"amtin\"], 0.41326380379418914)\n",
    "dcts"
   ]
  },
  {
   "cell_type": "code",
   "execution_count": null,
   "id": "4b3ee562",
   "metadata": {},
   "outputs": [],
   "source": [
    "objs = r.trade_instructions(ti_format=O.TIF_OBJECTS)\n",
    "assert len(objs) == 3\n",
    "assert type(objs[0]).__name__ == 'TradeInstruction'\n",
    "objs"
   ]
  },
  {
   "cell_type": "code",
   "execution_count": null,
   "id": "39fdcea2",
   "metadata": {},
   "outputs": [],
   "source": [
    "help(r.trade_instructions)"
   ]
  },
  {
   "cell_type": "markdown",
   "id": "dea66c52",
   "metadata": {},
   "source": [
    "## simple_optimizer demo [NOTEST]"
   ]
  },
  {
   "cell_type": "code",
   "execution_count": null,
   "id": "528abf9c",
   "metadata": {},
   "outputs": [],
   "source": [
    "CC = CPCContainer(CPC.from_pk(p=2000+i*100, k=10*(20000+i*10000), pair=f\"{T.ETH}/{T.USDC}\") for i in range(11))\n",
    "O = CPCArbOptimizer(CC)\n",
    "c0 = CC.curves[0]\n",
    "CC0 = CPCContainer([c0])\n",
    "O = SimpleOptimizer(CC)\n",
    "O0 = SimpleOptimizer(CC0)\n",
    "funcvx = O.simple_optimizer(result=O.SO_DXDYVALXFUNC)\n",
    "funcvy = O.simple_optimizer(result=O.SO_DXDYVALYFUNC)\n",
    "funcvx0 = O0.simple_optimizer(result=O.SO_DXDYVALXFUNC)\n",
    "funcvy0 = O0.simple_optimizer(result=O.SO_DXDYVALYFUNC)\n",
    "#CC.plot()"
   ]
  },
  {
   "cell_type": "code",
   "execution_count": null,
   "id": "57cc1ad4",
   "metadata": {},
   "outputs": [],
   "source": [
    "xr = np.linspace(1500, 3000, 50)\n",
    "plt.plot(xr, [funcvx(x)/len(CC) for x in xr], label=\"all curves [scaled]\")\n",
    "plt.plot(xr, [funcvx0(x) for x in xr], label=\"curve 0 only\")\n",
    "plt.xlabel(f\"price [{c0.pairp}]\")\n",
    "plt.ylabel(f\"value [{c0.tknxp}]\")\n",
    "plt.grid()\n",
    "plt.show()\n",
    "plt.plot(xr, [funcvy(x)/len(CC) for x in xr], label=\"all curves [scaled]\")\n",
    "plt.plot(xr, [funcvy0(x) for x in xr], label=\"curve 0 only\")\n",
    "plt.xlabel(f\"price [{c0.pairp}]\")\n",
    "plt.ylabel(f\"value [{c0.tknyp}]\")\n",
    "plt.grid()\n",
    "plt.show()"
   ]
  },
  {
   "cell_type": "code",
   "execution_count": null,
   "id": "0d151350",
   "metadata": {},
   "outputs": [],
   "source": [
    "r = O.simple_optimizer()\n",
    "print(f\"Arbitrage gains: {-r.valx:.4f} {r.tknxp} [time={r.time:.4f}s]\")"
   ]
  },
  {
   "cell_type": "code",
   "execution_count": null,
   "id": "1f5aed55",
   "metadata": {},
   "outputs": [],
   "source": [
    "CC_ex = CPCContainer(c.execute(dx=dx) for c, dx in zip(r.curves, r.dxvalues))\n",
    "CC.plot()\n",
    "CC_ex.plot()"
   ]
  },
  {
   "cell_type": "markdown",
   "id": "2b212697",
   "metadata": {},
   "source": [
    "## MargP Optimizer Demo [NOTEST]"
   ]
  },
  {
   "cell_type": "code",
   "execution_count": null,
   "id": "a02af582",
   "metadata": {},
   "outputs": [],
   "source": [
    "CCa = CPCContainer()\n",
    "CCa += CPC.from_pk(pair=\"WETH/USDC\", p=2000, k=10*20000, cid=\"c0\")\n",
    "CCa += CPC.from_pk(pair=\"WETH/USDT\", p=2000, k=10*20000, cid=\"c1\")\n",
    "CCa += CPC.from_pk(pair=\"USDC/USDT\", p=1.2, k=20000*20000, cid=\"c2\")\n",
    "O = MargPOptimizer(CCa)"
   ]
  },
  {
   "cell_type": "code",
   "execution_count": null,
   "id": "05532dcc",
   "metadata": {},
   "outputs": [],
   "source": [
    "CCa.plot()"
   ]
  },
  {
   "cell_type": "code",
   "execution_count": null,
   "id": "985e718d",
   "metadata": {},
   "outputs": [],
   "source": [
    "r = O.margp_optimizer(\"WETH\", params=dict(verbose=True))\n",
    "rd = r.asdict\n",
    "r"
   ]
  },
  {
   "cell_type": "code",
   "execution_count": null,
   "id": "44d3cbb8",
   "metadata": {},
   "outputs": [],
   "source": [
    "rd"
   ]
  },
  {
   "cell_type": "code",
   "execution_count": null,
   "id": "c344acd4",
   "metadata": {},
   "outputs": [],
   "source": [
    "CCa1 = O.adjust_curves(r.dxvalues)\n",
    "CCa1.plot()"
   ]
  },
  {
   "cell_type": "markdown",
   "id": "ef07cc0a",
   "metadata": {},
   "source": [
    "## Optimizer plus inverted curves [NOTEST]"
   ]
  },
  {
   "cell_type": "code",
   "execution_count": null,
   "id": "2ce7d40d",
   "metadata": {},
   "outputs": [],
   "source": [
    "CCr = CPCContainer(CPC.from_pk(p=2000+i*100, k=10*(20000+10000*i), pair=f\"{T.ETH}/{T.USDC}\") for i in range(11))\n",
    "CCi = CPCContainer(CPC.from_pk(p=1/(2050+i*100), k=10*(20000+10000*i), pair=f\"{T.USDC}/{T.ETH}\") for i in range(11))\n",
    "CC  = CCr.bycids()\n",
    "assert len(CC) == len(CCr)\n",
    "CC += CCi\n",
    "assert len(CC) == len(CCr) + len(CCi)\n",
    "CC.plot()"
   ]
  },
  {
   "cell_type": "code",
   "execution_count": null,
   "id": "93cb9736",
   "metadata": {},
   "outputs": [],
   "source": [
    "O = SimpleOptimizer(CC)\n",
    "r = O.simple_optimizer()\n",
    "print(f\"Arbitrage gains: {-r.valx:.4f} {r.tknxp} [time={r.time:.4f}s]\")\n",
    "CC_ex = CPCContainer(c.execute(dx=dx) for c, dx in zip(r.curves, r.dxvalues))\n",
    "prices_ex = [c.pairo.primary_price(c.p) for c in CC_ex]\n",
    "print(\"prices post arb:\", prices_ex)\n",
    "print(\"stdev\", np.std(prices_ex))\n",
    "#CC.plot()\n",
    "CC_ex.plot()"
   ]
  },
  {
   "cell_type": "markdown",
   "id": "735887f2",
   "metadata": {},
   "source": [
    "## Operating on leverage ranges [NOTEST]"
   ]
  },
  {
   "cell_type": "code",
   "execution_count": null,
   "id": "d30d7723",
   "metadata": {},
   "outputs": [],
   "source": [
    "N = 10"
   ]
  },
  {
   "cell_type": "code",
   "execution_count": null,
   "id": "e4150be1",
   "metadata": {},
   "outputs": [],
   "source": [
    "CCc, CCm, ctr = CPCContainer(), CPCContainer(), 0\n",
    "U, U1 = CPCContainer.u, CPCContainer.u1\n",
    "tknb, tknq = T.ETH, T.USDC\n",
    "pb, pq = 2000, 1\n",
    "pair = f\"{tknb}/{tknq}\"\n",
    "pp = pb/pq\n",
    "k = 100000**2/(pb*pq)\n",
    "CCm += CPC.from_pk(p=pp, k=k, pair=pair, cid = f\"mkt-{pair}\", params=dict(xc=\"market\"))\n",
    "#print(\"\\n***PAIR:\", tknb, pb, tknq, pq, pair, pp)\n",
    "for i in range(N):\n",
    "    p = pp * (1+0.2*U(-0.5, 0.5))\n",
    "    p_min, p_max = (p, U(1.001, 1.5)*p) if U1()>0.5 else (U(0.8, 0.999)*p, p)\n",
    "    amtusdc = U(10000, 200000)\n",
    "    k = amtusdc**2/(pb*pq)\n",
    "    #print(\"*curve\", int(amtusdc), p, p_min, p_max, int(k))\n",
    "    CCc += CPC.from_pkpp(p=p, k=k, p_min=p_min, p_max=p_max, \n",
    "                         pair=pair, cid = f\"carb-{ctr}\", params=dict(xc=\"carbon\"))\n",
    "    ctr += 1\n",
    "    \n",
    "CC = CCc.bycids().add(CCm)\n",
    "CC.plot()"
   ]
  },
  {
   "cell_type": "code",
   "execution_count": null,
   "id": "ba5e64d0",
   "metadata": {},
   "outputs": [],
   "source": [
    "# O = CPCArbOptimizer(CC)\n",
    "# r = O.simple_optimizer()\n",
    "# print(f\"Arbitrage gains: {-r.valx:.4f} {r.tknxp} [time={r.time:.4f}s]\")\n",
    "# CC_ex = CPCContainer(c.execute(dx=dx) for c, dx in zip(r.curves, r.dxvalues))\n",
    "# prices_ex = [c.pairo.primary_price(c.p) for c in CC_ex]\n",
    "# print(\"prices post arb:\", prices_ex)\n",
    "# print(\"stdev\", np.std(prices_ex))\n",
    "# #CC.plot()\n",
    "# CC_ex.plot()"
   ]
  },
  {
   "cell_type": "code",
   "execution_count": null,
   "id": "95dfc775",
   "metadata": {},
   "outputs": [],
   "source": [
    "r.dxvalues"
   ]
  },
  {
   "cell_type": "markdown",
   "id": "119bdb1e",
   "metadata": {},
   "source": [
    "## Arbitrage testing [NOTEST]"
   ]
  },
  {
   "cell_type": "code",
   "execution_count": null,
   "id": "709b1f20",
   "metadata": {},
   "outputs": [],
   "source": [
    "c1 = CPC.from_pkpp(p=95, k=100*10000, p_min=90, p_max=110, pair=f\"{T.ETH}/{T.USDC}\")\n",
    "c2 = CPC.from_pkpp(p=105, k=90*10000, p_min=90, p_max=110, pair=f\"{T.ETH}/{T.USDC}\")\n",
    "CC = CPCContainer([c1,c2])\n",
    "CC.plot()"
   ]
  },
  {
   "cell_type": "code",
   "execution_count": null,
   "id": "e222be8a",
   "metadata": {},
   "outputs": [],
   "source": [
    "a = lambda x: np.array(x)\n",
    "pr = np.linspace(70,130,200)\n",
    "dx1, dy1, p = zip(*(c1.dxdyfromp_f(p) for p in pr))\n",
    "assert np.all(p == pr)\n",
    "dx2, dy2, p = zip(*(c2.dxdyfromp_f(p) for p in pr))\n",
    "assert np.all(p == pr)\n",
    "v1 = a(dy1)+a(p)*a(dx1)\n",
    "v2 = a(dy2)+a(p)*a(dx2)\n",
    "plt.plot(p, v1, label=\"Value curve c1\")\n",
    "plt.plot(p, v2, label=\"Value curve c2\")\n",
    "plt.plot(p, v1+v2, label=\"Value combined curves\")\n",
    "plt.legend()\n",
    "plt.grid()"
   ]
  },
  {
   "cell_type": "code",
   "execution_count": null,
   "id": "f5371aee",
   "metadata": {},
   "outputs": [],
   "source": [
    "def vfunc(p):\n",
    "    \n",
    "    dx1, dy1, _ = c1.dxdyfromp_f(p)\n",
    "    dx2, dy2, _ = c2.dxdyfromp_f(p)\n",
    "    v1 = dy1 + p*dx1\n",
    "    v2 = dy2 + p*dx2\n",
    "    v = v1+v2\n",
    "    #print(f\"[v] v({p}) = {v}\")\n",
    "    return -v"
   ]
  },
  {
   "cell_type": "code",
   "execution_count": null,
   "id": "cfcead3e",
   "metadata": {},
   "outputs": [],
   "source": [
    "O = CPCArbOptimizer\n",
    "O.findmin(vfunc, 100, N=100)"
   ]
  },
  {
   "cell_type": "code",
   "execution_count": null,
   "id": "fcbaa19f",
   "metadata": {},
   "outputs": [],
   "source": [
    "func1 = lambda x: (x-2)**2\n",
    "O.findmin(func1, 1)"
   ]
  },
  {
   "cell_type": "code",
   "execution_count": null,
   "id": "4eaa9eb7",
   "metadata": {},
   "outputs": [],
   "source": [
    "func2 = lambda x: 1-(x-3)**2\n",
    "O.findmax(func2, 2.5)"
   ]
  },
  {
   "cell_type": "code",
   "execution_count": null,
   "id": "b18defa5",
   "metadata": {},
   "outputs": [],
   "source": [
    "val = tuple(float(O.findmin(func1, 100, N=n)) for n in range(100))\n",
    "val = tuple(abs(v-val[-1]) for v in val)\n",
    "val = tuple(v for v in val if v > 0)\n",
    "plt.plot(val)\n",
    "plt.yscale('log')\n",
    "plt.grid()"
   ]
  },
  {
   "cell_type": "code",
   "execution_count": null,
   "id": "62597f85",
   "metadata": {},
   "outputs": [],
   "source": [
    "val = tuple(float(O.findmin(func2, 100, N=n)) for n in range(100))\n",
    "val = tuple(abs(v-val[-1]) for v in val)\n",
    "val = tuple(v for v in val if v > 0)\n",
    "plt.plot(val)\n",
    "plt.yscale('log')\n",
    "plt.grid()"
   ]
  },
  {
   "cell_type": "code",
   "execution_count": null,
   "id": "a0a21eee",
   "metadata": {},
   "outputs": [],
   "source": [
    "val0 = tuple(float(O.findmin(vfunc, 99, N=n)) for n in range(100))\n",
    "val = tuple(abs(v-val0[-1]) for v in val0)\n",
    "val = tuple(v for v in val if v > 0)\n",
    "print(val0[-1])\n",
    "plt.plot(val)\n",
    "plt.yscale('log')\n",
    "plt.grid()"
   ]
  },
  {
   "cell_type": "code",
   "execution_count": null,
   "id": "aba84a6b",
   "metadata": {},
   "outputs": [],
   "source": [
    "val0 = tuple(float(O.findmin_gd(vfunc, 99, N=n)) for n in range(100))\n",
    "val = tuple(abs(v-val0[-1]) for v in val0)\n",
    "val = tuple(v for v in val if v > 0)\n",
    "print(val0[-1])\n",
    "plt.plot(val)\n",
    "plt.yscale('log')\n",
    "plt.grid()"
   ]
  },
  {
   "cell_type": "code",
   "execution_count": null,
   "id": "bcb1ef33",
   "metadata": {},
   "outputs": [],
   "source": [
    "O.findmin(vfunc, 99, N=700)"
   ]
  },
  {
   "cell_type": "markdown",
   "id": "be220d57",
   "metadata": {},
   "source": [
    "## Charts [NOTEST]"
   ]
  },
  {
   "cell_type": "markdown",
   "id": "18b249ff",
   "metadata": {},
   "source": [
    "### Chars (x,y)"
   ]
  },
  {
   "cell_type": "code",
   "execution_count": null,
   "id": "93bb294d",
   "metadata": {},
   "outputs": [],
   "source": [
    "xr = np.linspace(1,300,200)"
   ]
  },
  {
   "cell_type": "code",
   "execution_count": null,
   "id": "31c9aa2f",
   "metadata": {},
   "outputs": [],
   "source": [
    "defaults = dict(p=2)\n",
    "curves = [\n",
    "    CPC.from_px(x=100, **defaults),\n",
    "    CPC.from_px(x=50, **defaults),\n",
    "    CPC.from_px(x=150, **defaults),\n",
    "]\n",
    "for c in curves:\n",
    "    plt.plot(xr, [c.yfromx_f(x) for x in xr])\n",
    "\n",
    "plt.ylim((0,1000))\n",
    "plt.xlim((0,300))\n",
    "plt.grid()"
   ]
  },
  {
   "cell_type": "code",
   "execution_count": null,
   "id": "7ebdd94b",
   "metadata": {},
   "outputs": [],
   "source": [
    "defaults = dict(p=2, x_act=10)\n",
    "curves = [\n",
    "    CPC.from_px(x=100, **defaults),\n",
    "    CPC.from_px(x=50, **defaults),\n",
    "    CPC.from_px(x=150, **defaults),\n",
    "]\n",
    "for c in curves:\n",
    "    plt.plot(xr, [c.yfromx_f(x) for x in xr])\n",
    "\n",
    "plt.ylim((0,1000))\n",
    "plt.xlim((0,300))\n",
    "plt.grid()"
   ]
  },
  {
   "cell_type": "code",
   "execution_count": null,
   "id": "5a46f120",
   "metadata": {},
   "outputs": [],
   "source": [
    "defaults = dict(p=2, y_act=20)\n",
    "curves = [\n",
    "    CPC.from_px(x=100, **defaults),\n",
    "    CPC.from_px(x=50, **defaults),\n",
    "    CPC.from_px(x=150, **defaults),\n",
    "]\n",
    "for c in curves:\n",
    "    plt.plot(xr, [c.yfromx_f(x) for x in xr])\n",
    "\n",
    "plt.ylim((0,1000))\n",
    "plt.xlim((0,300))\n",
    "plt.grid()"
   ]
  },
  {
   "cell_type": "code",
   "execution_count": null,
   "id": "8576042a",
   "metadata": {
    "lines_to_next_cell": 0
   },
   "outputs": [],
   "source": [
    "defaults = dict(p=2, x_act=10, y_act=20)\n",
    "curves = [\n",
    "    CPC.from_px(x=100, **defaults),\n",
    "    CPC.from_px(x=50, **defaults),\n",
    "    CPC.from_px(x=150, **defaults),\n",
    "]\n",
    "for c in curves:\n",
    "    plt.plot(xr, [c.yfromx_f(x) for x in xr])\n",
    "\n",
    "plt.ylim((0,1000))\n",
    "plt.xlim((0,300))\n",
    "plt.grid()"
   ]
  },
  {
   "cell_type": "markdown",
   "id": "8c55ead8",
   "metadata": {
    "lines_to_next_cell": 2
   },
   "source": [
    "### Charts (dx, dy)"
   ]
  },
  {
   "cell_type": "code",
   "execution_count": null,
   "id": "14363ce5",
   "metadata": {},
   "outputs": [],
   "source": [
    "e=1e-5\n",
    "dxr = np.linspace(-50+e,50-e,100)"
   ]
  },
  {
   "cell_type": "code",
   "execution_count": null,
   "id": "d6e4c237",
   "metadata": {},
   "outputs": [],
   "source": [
    "defaults = dict(p=2)\n",
    "curves = [\n",
    "    CPC.from_px(x=100, **defaults),\n",
    "    CPC.from_px(x=50, **defaults),\n",
    "    CPC.from_px(x=150, **defaults),\n",
    "]\n",
    "for c in curves:\n",
    "    plt.plot(dxr, [c.dyfromdx_f(dx) for dx in dxr])\n",
    "\n",
    "plt.ylim((-100,200))\n",
    "plt.xlim((-50,50))\n",
    "plt.grid()"
   ]
  },
  {
   "cell_type": "code",
   "execution_count": null,
   "id": "9b358bf2",
   "metadata": {},
   "outputs": [],
   "source": [
    "defaults = dict(p=2, x_act=10)\n",
    "curves = [\n",
    "    CPC.from_px(x=100, **defaults),\n",
    "    CPC.from_px(x=50, **defaults),\n",
    "    CPC.from_px(x=150, **defaults),\n",
    "]\n",
    "for c in curves:\n",
    "    plt.plot(dxr, [c.dyfromdx_f(dx) for dx in dxr])\n",
    "\n",
    "plt.ylim((-100,200))\n",
    "plt.xlim((-50,50))\n",
    "plt.grid()"
   ]
  },
  {
   "cell_type": "code",
   "execution_count": null,
   "id": "02407300",
   "metadata": {},
   "outputs": [],
   "source": [
    "defaults = dict(p=2, y_act=20)\n",
    "curves = [\n",
    "    CPC.from_px(x=100, **defaults),\n",
    "    CPC.from_px(x=50, **defaults),\n",
    "    CPC.from_px(x=150, **defaults),\n",
    "]\n",
    "for c in curves:\n",
    "    plt.plot(dxr, [c.dyfromdx_f(dx) for dx in dxr])\n",
    "\n",
    "plt.ylim((-100,200))\n",
    "plt.xlim((-50,50))\n",
    "plt.grid()"
   ]
  },
  {
   "cell_type": "code",
   "execution_count": null,
   "id": "6a424616",
   "metadata": {},
   "outputs": [],
   "source": [
    "defaults = dict(p=2, x_act=10, y_act=20)\n",
    "curves = [\n",
    "    CPC.from_px(x=100, **defaults),\n",
    "    CPC.from_px(x=50, **defaults),\n",
    "    CPC.from_px(x=150, **defaults),\n",
    "]\n",
    "for c in curves:\n",
    "    plt.plot(dxr, [c.dyfromdx_f(dx) for dx in dxr])\n",
    "\n",
    "plt.ylim((-100,200))\n",
    "plt.xlim((-50,50))\n",
    "plt.grid()"
   ]
  },
  {
   "cell_type": "code",
   "execution_count": null,
   "id": "5fb5f4db",
   "metadata": {
    "lines_to_next_cell": 0
   },
   "outputs": [],
   "source": [
    "defaults = dict(p=2, x_act=10, y_act=20)\n",
    "curves = [\n",
    "    CPC.from_px(x=100, **defaults),\n",
    "    CPC.from_px(x=50, **defaults),\n",
    "    CPC.from_px(x=150, **defaults),\n",
    "]\n",
    "for c in curves:\n",
    "    plt.plot(dxr, [c.dyfromdx_f(dx) for dx in dxr])\n",
    "\n",
    "# plt.ylim((-100,200))\n",
    "# plt.xlim((-50,50))\n",
    "plt.grid()"
   ]
  },
  {
   "cell_type": "code",
   "execution_count": null,
   "id": "9548029b",
   "metadata": {},
   "outputs": [],
   "source": []
  },
  {
   "cell_type": "code",
   "execution_count": null,
   "id": "74a35d7d",
   "metadata": {},
   "outputs": [],
   "source": []
  },
  {
   "cell_type": "code",
   "execution_count": null,
   "id": "1ed207ed",
   "metadata": {},
   "outputs": [],
   "source": []
  }
 ],
 "metadata": {
  "jupytext": {
   "encoding": "# -*- coding: utf-8 -*-",
   "formats": "ipynb,py:light"
  },
  "kernelspec": {
   "display_name": "Python 3",
   "language": "python",
   "name": "python3"
  },
  "language_info": {
   "codemirror_mode": {
    "name": "ipython",
    "version": 3
   },
   "file_extension": ".py",
   "mimetype": "text/x-python",
   "name": "python",
   "nbconvert_exporter": "python",
   "pygments_lexer": "ipython3",
   "version": "3.8.8"
  }
 },
 "nbformat": 4,
 "nbformat_minor": 5
}

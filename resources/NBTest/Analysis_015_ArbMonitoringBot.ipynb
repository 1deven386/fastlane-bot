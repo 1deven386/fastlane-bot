{
 "cells": [
  {
   "cell_type": "code",
   "execution_count": 1,
   "id": "8f04c50a-67fe-4f09-822d-6ed6e3ac43e4",
   "metadata": {},
   "outputs": [
    {
     "name": "stdout",
     "output_type": "stream",
     "text": [
      "Using default database url, if you want to use a different database, set the backend_url found at the bottom of manager_base.py\n",
      "CarbonBot v3-b2.1 (03/May/2023)\n",
      "ConstantProductCurve v2.13 (15/May/2023)\n",
      "CPCAnalyzer v1.4 (13/May/2023)\n"
     ]
    }
   ],
   "source": [
    "from fastlane_bot.bot import CarbonBot as Bot\n",
    "from fastlane_bot.tools.cpc import ConstantProductCurve as CPC, CPCContainer, T, Pair\n",
    "from fastlane_bot.tools.analyzer import CPCAnalyzer\n",
    "from fastlane_bot.tools.cryptocompare import CryptoCompare\n",
    "import requests\n",
    "print(\"{0.__name__} v{0.__VERSION__} ({0.__DATE__})\".format(Bot))\n",
    "print(\"{0.__name__} v{0.__VERSION__} ({0.__DATE__})\".format(CPC))\n",
    "print(\"{0.__name__} v{0.__VERSION__} ({0.__DATE__})\".format(CPCAnalyzer))\n",
    "import pandas as pd\n",
    "import datetime\n",
    "import time\n",
    "import json\n",
    "from hashlib import md5\n",
    "from fastlane_bot import __VERSION__"
   ]
  },
  {
   "cell_type": "markdown",
   "id": "b3f59f14-b91b-4dba-94b0-3d513aaf41c7",
   "metadata": {},
   "source": [
    "# Mainnet Arbitrage Monitoring Bot [A015]"
   ]
  },
  {
   "cell_type": "code",
   "execution_count": 2,
   "id": "bafbd22f-ba89-4f82-b2b0-0ed6cba53064",
   "metadata": {},
   "outputs": [
    {
     "data": {
      "text/plain": [
       "'ead90114986e463b0157c49422d8d465'"
      ]
     },
     "execution_count": 2,
     "metadata": {},
     "output_type": "execute_result"
    }
   ],
   "source": [
    "cid = lambda pair: md5(pair.encode()).hexdigest()\n",
    "cid(\"WETH-6Cc2/USDC-eB48\")"
   ]
  },
  {
   "cell_type": "code",
   "execution_count": 3,
   "id": "882a9917-298c-48a7-9c67-d78bc7e5cafa",
   "metadata": {
    "lines_to_next_cell": 2
   },
   "outputs": [
    {
     "name": "stdout",
     "output_type": "stream",
     "text": [
      "Saving as ../data/A014-1684269508.csv.gz\n"
     ]
    }
   ],
   "source": [
    "bot     = Bot()\n",
    "CCm     = bot.get_curves()\n",
    "fn = f\"../data/A014-{int(time.time())}.csv.gz\"\n",
    "print (f\"Saving as {fn}\")\n",
    "CCm.asdf().to_csv(fn, compression = \"gzip\")"
   ]
  },
  {
   "cell_type": "code",
   "execution_count": 4,
   "id": "e0f8793b-456c-4b88-ba01-ff31b46e8023",
   "metadata": {},
   "outputs": [
    {
     "data": {
      "text/plain": [
       "'0xC02aaA39b223FE8D0A0e5C4F27eAD9083C756Cc2'"
      ]
     },
     "execution_count": 4,
     "metadata": {},
     "output_type": "execute_result"
    }
   ],
   "source": [
    "class TokenAddress():\n",
    "    def __init__(self, db):\n",
    "        self._db = db\n",
    "        \n",
    "    def addr_from_ticker(self, ticker):\n",
    "        return self._db.get_token(key=ticker).address\n",
    "    a = addr_from_ticker\n",
    "    \n",
    "    def ticker_from_addr(self, addr):\n",
    "        raise NotImplemented()\n",
    "TA = TokenAddress(bot.db)      \n",
    "TA.a(\"WETH-6Cc2\")"
   ]
  },
  {
   "cell_type": "markdown",
   "id": "bae1c0be-ff42-4cb5-9045-f65c6ad98b24",
   "metadata": {},
   "source": [
    "## Header and metadata"
   ]
  },
  {
   "cell_type": "code",
   "execution_count": 5,
   "id": "736ea88d-676c-4aca-a0d6-442d071588c0",
   "metadata": {},
   "outputs": [
    {
     "name": "stdout",
     "output_type": "stream",
     "text": [
      "****************************************************************************************************\n",
      "ARBITRAGE ANALYSIS RUN @ 2023-05-16T21:38:28Z [1684269508]\n",
      "****************************************************************************************************\n"
     ]
    }
   ],
   "source": [
    "now = datetime.datetime.now()\n",
    "print(\"*\"*100)\n",
    "print(f\"ARBITRAGE ANALYSIS RUN @ {now.isoformat().split('.')[0]}Z [{int(now.timestamp())}]\")\n",
    "print(\"*\"*100)"
   ]
  },
  {
   "cell_type": "markdown",
   "id": "1e107912-43f1-4700-b88a-d3026af07000",
   "metadata": {},
   "source": [
    "## Read curves"
   ]
  },
  {
   "cell_type": "markdown",
   "id": "0f3b8b84-0ee3-4e6a-95fe-ad249d4a9b8d",
   "metadata": {},
   "source": [
    "### Read Carbon curves"
   ]
  },
  {
   "cell_type": "code",
   "execution_count": 6,
   "id": "1cf6de0d-a389-4a12-af78-9d33dd0258a3",
   "metadata": {
    "lines_to_next_cell": 2
   },
   "outputs": [],
   "source": [
    "#CCm     = CPCContainer.from_df(pd.read_csv(\"../data/A014-1684148163.csv.gz\"))\n",
    "# CCu3    = CCm.byparams(exchange=\"uniswap_v3\")\n",
    "# CCu2    = CCm.byparams(exchange=\"uniswap_v2\")\n",
    "# CCs2    = CCm.byparams(exchange=\"sushiswap_v2\")\n",
    "CCc1    = CCm.byparams(exchange=\"carbon_v1\")\n",
    "# tc_u3   = CCu3.token_count(asdict=True)\n",
    "# tc_u2   = CCu2.token_count(asdict=True)\n",
    "# tc_s2   = CCs2.token_count(asdict=True)\n",
    "# tc_c1   = CCc1.token_count(asdict=True)\n",
    "# CAm     = CPCAnalyzer(CCm)\n",
    "CAc1 = CPCAnalyzer(CCc1)\n",
    "pairs  = CAc1.pairsc()"
   ]
  },
  {
   "cell_type": "markdown",
   "id": "485ebdf6-8515-47f3-92e8-e8df9e5d0635",
   "metadata": {},
   "source": [
    "now = datetime.datetime.now()\n",
    "int(now.timestamp()), now.isoformat()## Print heading"
   ]
  },
  {
   "cell_type": "markdown",
   "id": "f4cd5b56-e5a5-4a35-95d4-1671e6be5d46",
   "metadata": {},
   "source": [
    "### Read prices and create proxy curves"
   ]
  },
  {
   "cell_type": "code",
   "execution_count": 7,
   "id": "dec9f209-6ffb-423f-ba0f-92ed84d4e80c",
   "metadata": {},
   "outputs": [
    {
     "data": {
      "text/plain": [
       "{'0x0-1AD5',\n",
       " 'ARB-4ad1',\n",
       " 'BNT-FF1C',\n",
       " 'CRV-cd52',\n",
       " 'DAI-1d0F',\n",
       " 'ETH2x_FLI-65BD',\n",
       " 'LBR-aCcA',\n",
       " 'LINK-86CA',\n",
       " 'LYXe-be6D',\n",
       " 'MATIC-eBB0',\n",
       " 'PEPE-1933',\n",
       " 'RPL-A51f',\n",
       " 'SMT-7173',\n",
       " 'TSUKA-69eD',\n",
       " 'USDC-eB48',\n",
       " 'USDT-1ec7',\n",
       " 'WBTC-C599',\n",
       " 'WETH-6Cc2',\n",
       " 'XCHF-fc08',\n",
       " 'eRSDL-D3A6',\n",
       " 'stETH-fE84',\n",
       " 'vBNT-7f94'}"
      ]
     },
     "execution_count": 7,
     "metadata": {},
     "output_type": "execute_result"
    }
   ],
   "source": [
    "tokens0 = CAc1.tokens()\n",
    "tokens0"
   ]
  },
  {
   "cell_type": "code",
   "execution_count": 8,
   "id": "0337543f-733c-4197-a30b-d165fe73b9b6",
   "metadata": {},
   "outputs": [
    {
     "name": "stdout",
     "output_type": "stream",
     "text": [
      "\n",
      "\n",
      "====================================================================================================\n",
      "REMOVED TOKENS\n",
      "====================================================================================================\n"
     ]
    }
   ],
   "source": [
    "print(\"\\n\\n\"+\"=\"*100)\n",
    "print(\"REMOVED TOKENS\")\n",
    "print(\"=\"*100)"
   ]
  },
  {
   "cell_type": "code",
   "execution_count": 9,
   "id": "a2a9cfc5-f1ff-4d47-a81d-0f4fdc69c88d",
   "metadata": {},
   "outputs": [
    {
     "name": "stdout",
     "output_type": "stream",
     "text": [
      "{'0x0-1AD5', 'LBR-aCcA'}\n"
     ]
    }
   ],
   "source": [
    "REMOVED_TOKENS = {\"0x0-1AD5\", \"LBR-aCcA\"}\n",
    "print(REMOVED_TOKENS)"
   ]
  },
  {
   "cell_type": "code",
   "execution_count": 10,
   "id": "d7e8efc8-eb5a-45fd-ac73-9f3f1cc1c44b",
   "metadata": {},
   "outputs": [
    {
     "name": "stdout",
     "output_type": "stream",
     "text": [
      "\n",
      "\n",
      "====================================================================================================\n",
      "TOKEN ADDRESSES\n",
      "====================================================================================================\n",
      "WETH-6Cc2            0xC02aaA39b223FE8D0A0e5C4F27eAD9083C756Cc2\n",
      "BNT-FF1C             0x1F573D6Fb3F13d689FF844B4cE37794d79a7FF1C\n",
      "PEPE-1933            0x6982508145454Ce325dDbE47a25d4ec3d2311933\n",
      "eRSDL-D3A6           0x5218E472cFCFE0b64A064F055B43b4cdC9EfD3A6\n",
      "USDC-eB48            0xA0b86991c6218b36c1d19D4a2e9Eb0cE3606eB48\n",
      "LINK-86CA            0x514910771AF9Ca656af840dff83E8264EcF986CA\n",
      "CRV-cd52             0xD533a949740bb3306d119CC777fa900bA034cd52\n",
      "LYXe-be6D            0xA8b919680258d369114910511cc87595aec0be6D\n",
      "SMT-7173             0xB17548c7B510427baAc4e267BEa62e800b247173\n",
      "stETH-fE84           0xae7ab96520DE3A18E5e111B5EaAb095312D7fE84\n",
      "WBTC-C599            0x2260FAC5E5542a773Aa44fBCfeDf7C193bc2C599\n",
      "RPL-A51f             0xD33526068D116cE69F19A9ee46F0bd304F21A51f\n",
      "MATIC-eBB0           0x7D1AfA7B718fb893dB30A3aBc0Cfc608AaCfeBB0\n",
      "XCHF-fc08            0xB4272071eCAdd69d933AdcD19cA99fe80664fc08\n",
      "USDT-1ec7            0xdAC17F958D2ee523a2206206994597C13D831ec7\n",
      "ARB-4ad1             0xB50721BCf8d664c30412Cfbc6cf7a15145234ad1\n",
      "ETH2x_FLI-65BD       0xAa6E8127831c9DE45ae56bB1b0d4D4Da6e5665BD\n",
      "TSUKA-69eD           0xc5fB36dd2fb59d3B98dEfF88425a3F425Ee469eD\n",
      "vBNT-7f94            0x48Fb253446873234F2fEBbF9BdeAA72d9d387f94\n",
      "DAI-1d0F             0x6B175474E89094C44Da98b954EedeAC495271d0F\n"
     ]
    },
    {
     "data": {
      "text/plain": [
       "({'WETH-6Cc2': '0xC02aaA39b223FE8D0A0e5C4F27eAD9083C756Cc2',\n",
       "  'BNT-FF1C': '0x1F573D6Fb3F13d689FF844B4cE37794d79a7FF1C',\n",
       "  'PEPE-1933': '0x6982508145454Ce325dDbE47a25d4ec3d2311933',\n",
       "  'eRSDL-D3A6': '0x5218E472cFCFE0b64A064F055B43b4cdC9EfD3A6',\n",
       "  'USDC-eB48': '0xA0b86991c6218b36c1d19D4a2e9Eb0cE3606eB48',\n",
       "  'LINK-86CA': '0x514910771AF9Ca656af840dff83E8264EcF986CA',\n",
       "  'CRV-cd52': '0xD533a949740bb3306d119CC777fa900bA034cd52',\n",
       "  'LYXe-be6D': '0xA8b919680258d369114910511cc87595aec0be6D',\n",
       "  'SMT-7173': '0xB17548c7B510427baAc4e267BEa62e800b247173',\n",
       "  'stETH-fE84': '0xae7ab96520DE3A18E5e111B5EaAb095312D7fE84',\n",
       "  'WBTC-C599': '0x2260FAC5E5542a773Aa44fBCfeDf7C193bc2C599',\n",
       "  'RPL-A51f': '0xD33526068D116cE69F19A9ee46F0bd304F21A51f',\n",
       "  'MATIC-eBB0': '0x7D1AfA7B718fb893dB30A3aBc0Cfc608AaCfeBB0',\n",
       "  'XCHF-fc08': '0xB4272071eCAdd69d933AdcD19cA99fe80664fc08',\n",
       "  'USDT-1ec7': '0xdAC17F958D2ee523a2206206994597C13D831ec7',\n",
       "  'ARB-4ad1': '0xB50721BCf8d664c30412Cfbc6cf7a15145234ad1',\n",
       "  'ETH2x_FLI-65BD': '0xAa6E8127831c9DE45ae56bB1b0d4D4Da6e5665BD',\n",
       "  'TSUKA-69eD': '0xc5fB36dd2fb59d3B98dEfF88425a3F425Ee469eD',\n",
       "  'vBNT-7f94': '0x48Fb253446873234F2fEBbF9BdeAA72d9d387f94',\n",
       "  'DAI-1d0F': '0x6B175474E89094C44Da98b954EedeAC495271d0F'},\n",
       " {'0xc02aaa39b223fe8d0a0e5c4f27ead9083c756cc2': 'WETH-6Cc2',\n",
       "  '0x1f573d6fb3f13d689ff844b4ce37794d79a7ff1c': 'BNT-FF1C',\n",
       "  '0x6982508145454ce325ddbe47a25d4ec3d2311933': 'PEPE-1933',\n",
       "  '0x5218e472cfcfe0b64a064f055b43b4cdc9efd3a6': 'eRSDL-D3A6',\n",
       "  '0xa0b86991c6218b36c1d19d4a2e9eb0ce3606eb48': 'USDC-eB48',\n",
       "  '0x514910771af9ca656af840dff83e8264ecf986ca': 'LINK-86CA',\n",
       "  '0xd533a949740bb3306d119cc777fa900ba034cd52': 'CRV-cd52',\n",
       "  '0xa8b919680258d369114910511cc87595aec0be6d': 'LYXe-be6D',\n",
       "  '0xb17548c7b510427baac4e267bea62e800b247173': 'SMT-7173',\n",
       "  '0xae7ab96520de3a18e5e111b5eaab095312d7fe84': 'stETH-fE84',\n",
       "  '0x2260fac5e5542a773aa44fbcfedf7c193bc2c599': 'WBTC-C599',\n",
       "  '0xd33526068d116ce69f19a9ee46f0bd304f21a51f': 'RPL-A51f',\n",
       "  '0x7d1afa7b718fb893db30a3abc0cfc608aacfebb0': 'MATIC-eBB0',\n",
       "  '0xb4272071ecadd69d933adcd19ca99fe80664fc08': 'XCHF-fc08',\n",
       "  '0xdac17f958d2ee523a2206206994597c13d831ec7': 'USDT-1ec7',\n",
       "  '0xb50721bcf8d664c30412cfbc6cf7a15145234ad1': 'ARB-4ad1',\n",
       "  '0xaa6e8127831c9de45ae56bb1b0d4d4da6e5665bd': 'ETH2x_FLI-65BD',\n",
       "  '0xc5fb36dd2fb59d3b98deff88425a3f425ee469ed': 'TSUKA-69eD',\n",
       "  '0x48fb253446873234f2febbf9bdeaa72d9d387f94': 'vBNT-7f94',\n",
       "  '0x6b175474e89094c44da98b954eedeac495271d0f': 'DAI-1d0F'})"
      ]
     },
     "execution_count": 10,
     "metadata": {},
     "output_type": "execute_result"
    }
   ],
   "source": [
    "tokens = tokens0 - REMOVED_TOKENS\n",
    "pairs  = CAc1.CC.filter_pairs(bothin=tokens)\n",
    "tokens_addr = {tkn: TA.a(tkn) for tkn in tokens}\n",
    "tokens_addrr = {v.lower():k for k,v in tokens_addr.items()}\n",
    "print(\"\\n\\n\"+\"=\"*100)\n",
    "print(\"TOKEN ADDRESSES\")\n",
    "print(\"=\"*100)\n",
    "for k,v in tokens_addr.items():\n",
    "    print(f\"{k:20} {v}\")\n",
    "tokens_addr, tokens_addrr"
   ]
  },
  {
   "cell_type": "code",
   "execution_count": 11,
   "id": "30b2fba7-7a58-483f-8dec-c0723e673452",
   "metadata": {},
   "outputs": [
    {
     "data": {
      "text/plain": [
       "{'eRSDL-D3A6': 0.00246784,\n",
       " 'LYXe-be6D': 13.35,\n",
       " 'CRV-cd52': 0.826124,\n",
       " 'RPL-A51f': 49.63,\n",
       " 'USDT-1ec7': 1.0,\n",
       " 'PEPE-1933': 1.68e-06,\n",
       " 'BNT-FF1C': 0.417567,\n",
       " 'WETH-6Cc2': 1819.77,\n",
       " 'USDC-eB48': 1.0,\n",
       " 'stETH-fE84': 1816.58,\n",
       " 'ARB-4ad1': 1.17,\n",
       " 'TSUKA-69eD': 0.03481537,\n",
       " 'SMT-7173': 0.065828,\n",
       " 'XCHF-fc08': 1.11,\n",
       " 'LINK-86CA': 6.64,\n",
       " 'MATIC-eBB0': 0.841915,\n",
       " 'vBNT-7f94': 0.371528,\n",
       " 'ETH2x_FLI-65BD': 11.91,\n",
       " 'DAI-1d0F': 1.001,\n",
       " 'WBTC-C599': 27005}"
      ]
     },
     "execution_count": 11,
     "metadata": {},
     "output_type": "execute_result"
    }
   ],
   "source": [
    "addr_s = \",\".join(x for x in tokens_addr.values())\n",
    "url = \"https://api.coingecko.com/api/v3/simple/token_price/ethereum\"\n",
    "params = dict(contract_addresses=addr_s, vs_currencies=\"usd\")\n",
    "r = requests.get(url, params=params)\n",
    "token_prices_usd_cg_raw = {tokens_addrr[k]: v[\"usd\"] for k,v in r.json().items()}\n",
    "token_prices_usd_cg = {Pair.n(tokens_addrr[k]).upper(): v[\"usd\"] for k,v in r.json().items()}\n",
    "token_prices_usd_cg_raw"
   ]
  },
  {
   "cell_type": "code",
   "execution_count": 12,
   "id": "d3acbe34-77f5-48ad-a13c-bf77237987b9",
   "metadata": {},
   "outputs": [
    {
     "data": {
      "text/plain": [
       "set()"
      ]
     },
     "execution_count": 12,
     "metadata": {},
     "output_type": "execute_result"
    }
   ],
   "source": [
    "missing_cg = set(tokens_addr) - set(token_prices_usd_cg_raw)\n",
    "missing_cg"
   ]
  },
  {
   "cell_type": "code",
   "execution_count": 13,
   "id": "debec7f5-3f77-440e-b381-30e49664492c",
   "metadata": {},
   "outputs": [
    {
     "data": {
      "text/plain": [
       "['WETH',\n",
       " 'BNT',\n",
       " 'PEPE',\n",
       " 'eRSDL',\n",
       " 'USDC',\n",
       " 'LINK',\n",
       " 'CRV',\n",
       " 'LYXe',\n",
       " 'SMT',\n",
       " 'stETH',\n",
       " 'WBTC',\n",
       " 'RPL',\n",
       " 'MATIC',\n",
       " 'XCHF',\n",
       " 'USDT',\n",
       " 'ARB',\n",
       " 'ETH2x_FLI',\n",
       " 'TSUKA',\n",
       " 'vBNT',\n",
       " 'DAI']"
      ]
     },
     "execution_count": 13,
     "metadata": {},
     "output_type": "execute_result"
    }
   ],
   "source": [
    "tokens_cc = [Pair.n(x) for x in tokens]\n",
    "tokens_cc"
   ]
  },
  {
   "cell_type": "code",
   "execution_count": 14,
   "id": "c7cdc322-bbf8-4d9f-94bd-12738671ee68",
   "metadata": {},
   "outputs": [],
   "source": [
    "# token_prices_usd_cc = CryptoCompare(apikey=True).query_tokens(tokens_cc)\n",
    "# token_prices_usd_cc"
   ]
  },
  {
   "cell_type": "code",
   "execution_count": 15,
   "id": "9b756bb8-0d0b-4ef7-bd76-a206f839b53b",
   "metadata": {},
   "outputs": [],
   "source": [
    "# missing_cc = set(tokens_cc) - set(token_prices_usd_cc)\n",
    "# missing_cc"
   ]
  },
  {
   "cell_type": "code",
   "execution_count": 16,
   "id": "0843ebc8-0b24-46f7-a45e-ef31e62444b6",
   "metadata": {},
   "outputs": [],
   "source": [
    "token_prices_usd = token_prices_usd_cg"
   ]
  },
  {
   "cell_type": "code",
   "execution_count": 17,
   "id": "c71b7a0c-e9d9-4130-bc9a-f1d0239b8f17",
   "metadata": {},
   "outputs": [
    {
     "data": {
      "text/plain": [
       "14.83978744566621"
      ]
     },
     "execution_count": 17,
     "metadata": {},
     "output_type": "execute_result"
    }
   ],
   "source": [
    "P0 = lambda tknb,tknq: token_prices_usd[tknb.upper()]/token_prices_usd[tknq.upper()]\n",
    "def P(pair):\n",
    "    try: \n",
    "        return P0(*Pair.n(pair).split(\"/\"))\n",
    "    except KeyError:\n",
    "        return None\n",
    "P(\"WBTC-xxx/WETH-xxx\")"
   ]
  },
  {
   "cell_type": "code",
   "execution_count": 18,
   "id": "b9d754a9-1d90-4ca9-a642-82649c1d2ce9",
   "metadata": {},
   "outputs": [
    {
     "name": "stdout",
     "output_type": "stream",
     "text": [
      "\n",
      "\n",
      "====================================================================================================\n",
      "PRICES BY PAIR\n",
      "====================================================================================================\n",
      "SMT/WETH                         0.000036\n",
      "PEPE/WETH                        0.000000\n",
      "WETH/USDT                    1,819.770000\n",
      "BNT/WETH                         0.000229\n",
      "eRSDL/WETH                       0.000001\n",
      "WBTC/USDT                   27,005.000000\n",
      "ARB/MATIC                        1.389689\n",
      "LYXe/USDC                       13.350000\n",
      "WBTC/USDC                   27,005.000000\n",
      "WBTC/WETH                       14.839787\n",
      "vBNT/USDC                        0.371528\n",
      "CRV/USDC                         0.826124\n",
      "BNT/vBNT                         1.123918\n",
      "USDT/USDC                        1.000000\n",
      "LINK/USDT                        6.640000\n",
      "RPL/XCHF                        44.711712\n",
      "stETH/WETH                       0.998247\n",
      "BNT/USDC                         0.417567\n",
      "WETH/DAI                     1,817.952048\n",
      "LINK/USDC                        6.640000\n",
      "TSUKA/USDC                       0.034815\n",
      "ETH2x_FLI/WETH                   0.006545\n",
      "DAI/USDT                         1.001000\n",
      "WETH/USDC                    1,819.770000\n",
      "DAI/USDC                         1.001000\n"
     ]
    }
   ],
   "source": [
    "prices_by_pair = {pair: P(pair) for pair in pairs}\n",
    "prices_n_by_pair = {Pair.n(pair): p for pair, p in prices_by_pair.items()}\n",
    "print(\"\\n\\n\"+\"=\"*100)\n",
    "print(\"PRICES BY PAIR\")\n",
    "print(\"=\"*100)\n",
    "for k,v in prices_n_by_pair.items():\n",
    "    if not v is None:\n",
    "        print(f\"{k:20} {v:20,.6f}\")\n",
    "    else:\n",
    "        print(f\"{k:20}                  ---\")"
   ]
  },
  {
   "cell_type": "code",
   "execution_count": 19,
   "id": "7e45ffbf-0453-476f-b73e-2062c0d77d58",
   "metadata": {},
   "outputs": [],
   "source": [
    "proxy_curves = [\n",
    "    CPC.from_pk(p=price, pair=pair, k=1000, cid=cid(pair), params=dict(exchange=\"coingecko\")) \n",
    "    for pair, price in prices_by_pair.items() if not price is None\n",
    "]\n",
    "#proxy_curves"
   ]
  },
  {
   "cell_type": "code",
   "execution_count": 20,
   "id": "b534465c-ee0e-42b4-a324-92c998db7761",
   "metadata": {},
   "outputs": [],
   "source": [
    "# CCother = CCu3.bypairs(CCc1.pairs())\n",
    "CCother = CPCContainer(proxy_curves)\n",
    "CCfull = CCc1.copy().add(CCother)\n",
    "CAother = CPCAnalyzer(CCother)\n",
    "CAfull = CPCAnalyzer(CCfull)"
   ]
  },
  {
   "cell_type": "markdown",
   "id": "ec472e27-e066-41fe-b9e2-4db641fa2de9",
   "metadata": {},
   "source": [
    "## High level reference data"
   ]
  },
  {
   "cell_type": "code",
   "execution_count": 21,
   "id": "4f28ff25-8a6f-4466-b8a9-6bf926b0fac3",
   "metadata": {},
   "outputs": [
    {
     "name": "stdout",
     "output_type": "stream",
     "text": [
      "\n",
      "\n",
      "                    CARBON    REFERENCE\n",
      "Pairs:                  25    [     25]\n",
      "Tokens:                 22    [     20]\n",
      "Curves:                 78    [     25]\n"
     ]
    }
   ],
   "source": [
    "print(\"\\n\\n                    CARBON    REFERENCE\")\n",
    "print(f\"Pairs:                {len(pairs):4}    [{len(CCother.pairs()):7}]\")\n",
    "print(f\"Tokens:               {len(CAc1.tokens()):4}    [{len(CAother.tokens()):7}]\")\n",
    "print(f\"Curves:               {len(CAc1.CC):4}    [{len(CAother.CC):7}]\")"
   ]
  },
  {
   "cell_type": "markdown",
   "id": "3b6dbb80-b154-43d9-8068-239a275804b6",
   "metadata": {},
   "source": [
    "## By pair data for Carbon"
   ]
  },
  {
   "cell_type": "markdown",
   "id": "9769fe97-be8b-469a-bbea-cc13af1ac848",
   "metadata": {},
   "source": [
    "### Count by pairs"
   ]
  },
  {
   "cell_type": "code",
   "execution_count": 22,
   "id": "8e902de8-cd75-477b-8577-2cc4b10346e1",
   "metadata": {},
   "outputs": [
    {
     "name": "stdout",
     "output_type": "stream",
     "text": [
      "\n",
      "\n",
      "====================================================================================================\n",
      "PAIRS\n",
      "====================================================================================================\n",
      "                          count\n",
      "pair                           \n",
      "WETH-6Cc2/USDC-eB48          17\n",
      "BNT-FF1C/WETH-6Cc2            9\n",
      "BNT-FF1C/vBNT-7f94            9\n",
      "USDT-1ec7/USDC-eB48           5\n",
      "stETH-fE84/WETH-6Cc2          4\n",
      "WBTC-C599/WETH-6Cc2           3\n",
      "DAI-1d0F/USDC-eB48            3\n",
      "WBTC-C599/USDC-eB48           2\n",
      "DAI-1d0F/USDT-1ec7            2\n",
      "PEPE-1933/WETH-6Cc2           2\n",
      "ARB-4ad1/MATIC-eBB0           2\n",
      "LINK-86CA/USDT-1ec7           2\n",
      "CRV-cd52/USDC-eB48            2\n",
      "WETH-6Cc2/USDT-1ec7           2\n",
      "0x0-1AD5/WETH-6Cc2            2\n",
      "BNT-FF1C/USDC-eB48            1\n",
      "LINK-86CA/USDC-eB48           1\n",
      "WBTC-C599/USDT-1ec7           1\n",
      "LBR-aCcA/WETH-6Cc2            1\n",
      "RPL-A51f/XCHF-fc08            1\n",
      "TSUKA-69eD/USDC-eB48          1\n",
      "LYXe-be6D/USDC-eB48           1\n",
      "SMT-7173/WETH-6Cc2            1\n",
      "eRSDL-D3A6/WETH-6Cc2          1\n",
      "ETH2x_FLI-65BD/WETH-6Cc2      1\n",
      "WETH-6Cc2/DAI-1d0F            1\n",
      "vBNT-7f94/USDC-eB48           1\n"
     ]
    }
   ],
   "source": [
    "df = CAc1.count_by_pairs()\n",
    "print(\"\\n\\n\"+\"=\"*100)\n",
    "print(\"PAIRS\")\n",
    "print(\"=\"*100)\n",
    "print(df)\n",
    "#df"
   ]
  },
  {
   "cell_type": "markdown",
   "id": "a07ee661-1610-4f50-9e84-7a2a27b3018f",
   "metadata": {},
   "source": [
    "### Calculate by-pair statistics"
   ]
  },
  {
   "cell_type": "code",
   "execution_count": 23,
   "id": "5b8b206a-460e-4d9d-87f8-794cb23c2912",
   "metadata": {},
   "outputs": [],
   "source": [
    "pasdf = CAfull.pool_arbitrage_statistics()"
   ]
  },
  {
   "cell_type": "markdown",
   "id": "bd982bda-5ab7-4e3c-a6f4-7a647cc3218d",
   "metadata": {},
   "source": [
    "### Print by-pair statistics"
   ]
  },
  {
   "cell_type": "code",
   "execution_count": 36,
   "id": "edf3f14b-3115-47af-83a5-7eb3a7854c55",
   "metadata": {},
   "outputs": [
    {
     "name": "stdout",
     "output_type": "stream",
     "text": [
      "\n",
      "\n",
      "====================================================================================================\n",
      "Pair = SMT-7173/WETH-6Cc2\n",
      "====================================================================================================\n",
      "\n",
      "--- ALL POSITIONS ---\n",
      "                       price             vl itm  b  s                               bsv\n",
      "exchange  cid0                                                                         \n",
      "coingecko 26a0228a  0.000036   10515.572355      b  s  buy-sell-SMT @ 0.00 WETH per SMT\n",
      "carbon_v1 343738-1  0.000080  200000.000000         s      sell-SMT @ 0.00 WETH per SMT\n",
      "\n",
      "--- IN-THE-MONEY POSITIONS ---\n",
      "-None-\n",
      "\n",
      "\n",
      "====================================================================================================\n",
      "Pair = PEPE-1933/WETH-6Cc2\n",
      "====================================================================================================\n",
      "\n",
      "--- ALL POSITIONS ---\n",
      "                           price            vl itm  b  s                                 bsv\n",
      "exchange  cid0                                                                              \n",
      "coingecko 394dbcea  9.231936e-10  2.081534e+06      b  s  buy-sell-PEPE @ 0.00 WETH per PEPE\n",
      "carbon_v1 440620-1  4.000000e-07  7.144675e+06         s      sell-PEPE @ 0.00 WETH per PEPE\n",
      "          440621-1  4.500000e-07  1.315789e+06         s      sell-PEPE @ 0.00 WETH per PEPE\n",
      "\n",
      "--- IN-THE-MONEY POSITIONS ---\n",
      "-None-\n",
      "\n",
      "\n",
      "====================================================================================================\n",
      "Pair = WETH-6Cc2/USDT-1ec7\n",
      "====================================================================================================\n",
      "\n",
      "--- ALL POSITIONS ---\n",
      "                          price        vl itm  b  s                                    bsv\n",
      "exchange  cid0                                                                            \n",
      "carbon_v1 691723-0  1600.000160  0.003125      b          buy-WETH @ 1600.00 USDT per WETH\n",
      "coingecko c2c9fa69  1819.770000  1.482592   x  b  s  buy-sell-WETH @ 1819.77 USDT per WETH\n",
      "carbon_v1 691656-0  1891.000189  0.002644   x  b          buy-WETH @ 1891.00 USDT per WETH\n",
      "\n",
      "--- IN-THE-MONEY POSITIONS ---\n",
      "                          price        vl itm  b  s                                    bsv\n",
      "exchange  cid0                                                                            \n",
      "coingecko c2c9fa69  1819.770000  1.482592   x  b  s  buy-sell-WETH @ 1819.77 USDT per WETH\n",
      "carbon_v1 691656-0  1891.000189  0.002644   x  b          buy-WETH @ 1891.00 USDT per WETH\n",
      "\n",
      "\n",
      "====================================================================================================\n",
      "Pair = BNT-FF1C/WETH-6Cc2\n",
      "====================================================================================================\n",
      "\n",
      "--- ALL POSITIONS ---\n",
      "                       price           vl itm  b  s                               bsv\n",
      "exchange  cid0                                                                       \n",
      "carbon_v1 326031-0  0.000200   749.999925      b          buy-BNT @ 0.00 WETH per BNT\n",
      "          326034-0  0.000200   349.999965      b          buy-BNT @ 0.00 WETH per BNT\n",
      "          326030-1  0.000200   249.999975      b          buy-BNT @ 0.00 WETH per BNT\n",
      "coingecko 332eb96a  0.000229  4175.179597   x  b  s  buy-sell-BNT @ 0.00 WETH per BNT\n",
      "carbon_v1 326076-0  0.000240    12.002105   x  b          buy-BNT @ 0.00 WETH per BNT\n",
      "          326030-0  0.000253   500.000000         s      sell-BNT @ 0.00 WETH per BNT\n",
      "          326076-1  0.000257   799.634528         s      sell-BNT @ 0.00 WETH per BNT\n",
      "          326077-1  0.000258  7936.757901         s      sell-BNT @ 0.00 WETH per BNT\n",
      "          326031-1  0.002000   500.000000         s      sell-BNT @ 0.00 WETH per BNT\n",
      "          326034-1  0.002100   200.000000         s      sell-BNT @ 0.00 WETH per BNT\n",
      "\n",
      "--- IN-THE-MONEY POSITIONS ---\n",
      "                       price           vl itm  b  s                               bsv\n",
      "exchange  cid0                                                                       \n",
      "coingecko 332eb96a  0.000229  4175.179597   x  b  s  buy-sell-BNT @ 0.00 WETH per BNT\n",
      "carbon_v1 326076-0  0.000240    12.002105   x  b          buy-BNT @ 0.00 WETH per BNT\n",
      "\n",
      "\n",
      "====================================================================================================\n",
      "Pair = eRSDL-D3A6/WETH-6Cc2\n",
      "====================================================================================================\n",
      "\n",
      "--- ALL POSITIONS ---\n",
      "                           price            vl itm  b  s                                   bsv\n",
      "exchange  cid0                                                                                \n",
      "carbon_v1 458324-0  1.350000e-07  1.538597e+06      b          buy-eRSDL @ 0.00 WETH per eRSDL\n",
      "coingecko 80a1e75e  1.356127e-06  5.430999e+04      b  s  buy-sell-eRSDL @ 0.00 WETH per eRSDL\n",
      "\n",
      "--- IN-THE-MONEY POSITIONS ---\n",
      "-None-\n",
      "\n",
      "\n",
      "====================================================================================================\n",
      "Pair = WBTC-C599/USDT-1ec7\n",
      "====================================================================================================\n",
      "\n",
      "--- ALL POSITIONS ---\n",
      "                      price        vl itm  b  s                                     bsv\n",
      "exchange  cid0                                                                         \n",
      "coingecko afe999e3  27005.0  0.384865      b  s  buy-sell-WBTC @ 27005.00 USDT per WBTC\n",
      "carbon_v1 920820-1  29500.0  0.000065         s      sell-WBTC @ 29500.00 USDT per WBTC\n",
      "\n",
      "--- IN-THE-MONEY POSITIONS ---\n",
      "-None-\n",
      "\n",
      "\n",
      "====================================================================================================\n",
      "Pair = ARB-4ad1/MATIC-eBB0\n",
      "====================================================================================================\n",
      "\n",
      "--- ALL POSITIONS ---\n",
      "                       price          vl itm  b  s                                bsv\n",
      "exchange  cid0                                                                       \n",
      "coingecko da13dce7  1.389689   53.650181   x  b  s  buy-sell-ARB @ 1.39 MATIC per ARB\n",
      "carbon_v1 806240-1  1.428571  141.806023   x  b          buy-ARB @ 1.43 MATIC per ARB\n",
      "          806240-0  1.507045   12.760538         s      sell-ARB @ 1.51 MATIC per ARB\n",
      "\n",
      "--- IN-THE-MONEY POSITIONS ---\n",
      "                       price          vl itm  b  s                                bsv\n",
      "exchange  cid0                                                                       \n",
      "coingecko da13dce7  1.389689   53.650181   x  b  s  buy-sell-ARB @ 1.39 MATIC per ARB\n",
      "carbon_v1 806240-1  1.428571  141.806023   x  b          buy-ARB @ 1.43 MATIC per ARB\n",
      "\n",
      "\n",
      "====================================================================================================\n",
      "Pair = LYXe-be6D/USDC-eB48\n",
      "====================================================================================================\n",
      "\n",
      "--- ALL POSITIONS ---\n",
      "                        price           vl itm  b  s                                  bsv\n",
      "exchange  cid0                                                                           \n",
      "coingecko 5a7b0614  13.350000    17.309693      b  s  buy-sell-LYXe @ 13.35 USDC per LYXe\n",
      "carbon_v1 652071-1  15.999998  7503.700799         s      sell-LYXe @ 16.00 USDC per LYXe\n",
      "\n",
      "--- IN-THE-MONEY POSITIONS ---\n",
      "-None-\n",
      "\n",
      "\n",
      "====================================================================================================\n",
      "Pair = WBTC-C599/USDC-eB48\n",
      "====================================================================================================\n",
      "\n",
      "--- ALL POSITIONS ---\n",
      "                           price        vl itm  b  s                                     bsv\n",
      "exchange  cid0                                                                              \n",
      "coingecko 5a34f82e  27005.000000  0.384865      b  s  buy-sell-WBTC @ 27005.00 USDC per WBTC\n",
      "carbon_v1 537493-0  27075.760726  0.018160      b          buy-WBTC @ 27075.76 USDC per WBTC\n",
      "          537493-1  28840.000000  0.028274         s      sell-WBTC @ 28840.00 USDC per WBTC\n",
      "\n",
      "--- IN-THE-MONEY POSITIONS ---\n",
      "-None-\n",
      "\n",
      "\n",
      "====================================================================================================\n",
      "Pair = WBTC-C599/WETH-6Cc2\n",
      "====================================================================================================\n",
      "\n",
      "--- ALL POSITIONS ---\n",
      "                        price         vl itm  b  s                                  bsv\n",
      "exchange  cid0                                                                         \n",
      "carbon_v1 709362-1  14.285714   0.417087      b          buy-WBTC @ 14.29 WETH per WBTC\n",
      "          709391-0  14.800000   0.040541      b          buy-WBTC @ 14.80 WETH per WBTC\n",
      "coingecko 8386a71a  14.839787  16.417845      b  s  buy-sell-WBTC @ 14.84 WETH per WBTC\n",
      "carbon_v1 709362-0  15.399750   0.133758         s      sell-WBTC @ 15.40 WETH per WBTC\n",
      "\n",
      "--- IN-THE-MONEY POSITIONS ---\n",
      "-None-\n",
      "\n",
      "\n",
      "====================================================================================================\n",
      "Pair = vBNT-7f94/USDC-eB48\n",
      "====================================================================================================\n",
      "\n",
      "--- ALL POSITIONS ---\n",
      "                       price           vl itm  b  s                                 bsv\n",
      "exchange  cid0                                                                         \n",
      "coingecko cd806e56  0.371528   103.761017      b  s  buy-sell-vBNT @ 0.37 USDC per vBNT\n",
      "carbon_v1 171896-1  0.390000  5000.000000         s      sell-vBNT @ 0.39 USDC per vBNT\n",
      "\n",
      "--- IN-THE-MONEY POSITIONS ---\n",
      "-None-\n",
      "\n",
      "\n",
      "====================================================================================================\n",
      "Pair = CRV-cd52/USDC-eB48\n",
      "====================================================================================================\n",
      "\n",
      "--- ALL POSITIONS ---\n",
      "                       price           vl itm  b  s                               bsv\n",
      "exchange  cid0                                                                       \n",
      "coingecko cb7552b2  0.826124    69.583677   x  b  s  buy-sell-CRV @ 0.83 USDC per CRV\n",
      "carbon_v1 612490-0  0.900000     1.785699   x  b          buy-CRV @ 0.90 USDC per CRV\n",
      "          612490-1  0.900000  9998.214320         s      sell-CRV @ 0.90 USDC per CRV\n",
      "\n",
      "--- IN-THE-MONEY POSITIONS ---\n",
      "                       price         vl itm  b  s                               bsv\n",
      "exchange  cid0                                                                     \n",
      "coingecko cb7552b2  0.826124  69.583677   x  b  s  buy-sell-CRV @ 0.83 USDC per CRV\n",
      "carbon_v1 612490-0  0.900000   1.785699   x  b          buy-CRV @ 0.90 USDC per CRV\n",
      "\n",
      "\n",
      "====================================================================================================\n",
      "Pair = BNT-FF1C/vBNT-7f94\n",
      "====================================================================================================\n",
      "\n",
      "--- ALL POSITIONS ---\n",
      "                       price            vl itm  b  s                               bsv\n",
      "exchange  cid0                                                                        \n",
      "carbon_v1 748965-1  0.909091   1129.750904      b          buy-BNT @ 0.91 vBNT per BNT\n",
      "          748950-0  0.940000  14138.792045      b          buy-BNT @ 0.94 vBNT per BNT\n",
      "          748990-1  0.952381   1178.720697      b          buy-BNT @ 0.95 vBNT per BNT\n",
      "          748966-1  1.000000   1089.255651      b          buy-BNT @ 1.00 vBNT per BNT\n",
      "          748990-0  1.111052      0.291945   x     s      sell-BNT @ 1.11 vBNT per BNT\n",
      "          748976-1  1.111111    729.373892      b          buy-BNT @ 1.11 vBNT per BNT\n",
      "coingecko b5f832ee  1.123918     59.657175   x  b  s  buy-sell-BNT @ 1.12 vBNT per BNT\n",
      "carbon_v1 748977-1  1.250000    400.000000   x  b          buy-BNT @ 1.25 vBNT per BNT\n",
      "          748976-0  1.331480    259.385928         s      sell-BNT @ 1.33 vBNT per BNT\n",
      "          748977-0  1.428571    500.000000         s      sell-BNT @ 1.43 vBNT per BNT\n",
      "\n",
      "--- IN-THE-MONEY POSITIONS ---\n",
      "                       price          vl itm  b  s                               bsv\n",
      "exchange  cid0                                                                      \n",
      "carbon_v1 748990-0  1.111052    0.291945   x     s      sell-BNT @ 1.11 vBNT per BNT\n",
      "coingecko b5f832ee  1.123918   59.657175   x  b  s  buy-sell-BNT @ 1.12 vBNT per BNT\n",
      "carbon_v1 748977-1  1.250000  400.000000   x  b          buy-BNT @ 1.25 vBNT per BNT\n",
      "\n",
      "\n",
      "====================================================================================================\n",
      "Pair = USDT-1ec7/USDC-eB48\n",
      "====================================================================================================\n",
      "\n",
      "--- ALL POSITIONS ---\n",
      "                       price            vl itm  b  s                                 bsv\n",
      "exchange  cid0                                                                          \n",
      "carbon_v1 634444-0  0.996000  50200.798193      b          buy-USDT @ 1.00 USDC per USDT\n",
      "          634371-1  0.999900     50.154515      b          buy-USDT @ 1.00 USDC per USDT\n",
      "coingecko 15fe76b4  1.000000     63.245553      b  s  buy-sell-USDT @ 1.00 USDC per USDT\n",
      "carbon_v1 634371-0  1.000100     50.100001         s      sell-USDT @ 1.00 USDC per USDT\n",
      "          634391-1  1.000690    494.654975      b          buy-USDT @ 1.00 USDC per USDT\n",
      "          634391-0  1.001001    505.000000         s      sell-USDT @ 1.00 USDC per USDT\n",
      "\n",
      "--- IN-THE-MONEY POSITIONS ---\n",
      "-None-\n",
      "\n",
      "\n",
      "====================================================================================================\n",
      "Pair = LINK-86CA/USDT-1ec7\n",
      "====================================================================================================\n",
      "\n",
      "--- ALL POSITIONS ---\n",
      "                       price         vl itm  b  s                                 bsv\n",
      "exchange  cid0                                                                       \n",
      "coingecko a047d87b  6.640000  24.544035   x  b  s  buy-sell-LINK @ 6.64 USDT per LINK\n",
      "carbon_v1 960408-0  6.900402   0.055841   x  b          buy-LINK @ 6.90 USDT per LINK\n",
      "          960408-1  7.700000  37.987504         s      sell-LINK @ 7.70 USDT per LINK\n",
      "\n",
      "--- IN-THE-MONEY POSITIONS ---\n",
      "                       price         vl itm  b  s                                 bsv\n",
      "exchange  cid0                                                                       \n",
      "coingecko a047d87b  6.640000  24.544035   x  b  s  buy-sell-LINK @ 6.64 USDT per LINK\n",
      "carbon_v1 960408-0  6.900402   0.055841   x  b          buy-LINK @ 6.90 USDT per LINK\n",
      "\n",
      "\n",
      "====================================================================================================\n",
      "Pair = RPL-A51f/XCHF-fc08\n",
      "====================================================================================================\n",
      "\n",
      "--- ALL POSITIONS ---\n",
      "                        price         vl itm  b  s                                bsv\n",
      "exchange  cid0                                                                       \n",
      "carbon_v1 594782-0  40.476781  30.732095      b          buy-RPL @ 40.48 XCHF per RPL\n",
      "coingecko 6605fc9c  44.711712   9.458436      b  s  buy-sell-RPL @ 44.71 XCHF per RPL\n",
      "\n",
      "--- IN-THE-MONEY POSITIONS ---\n",
      "-None-\n",
      "\n",
      "\n",
      "====================================================================================================\n",
      "Pair = stETH-fE84/WETH-6Cc2\n",
      "====================================================================================================\n",
      "\n",
      "--- ALL POSITIONS ---\n",
      "                       price         vl itm  b  s                                   bsv\n",
      "exchange  cid0                                                                         \n",
      "carbon_v1 035408-0  0.980000   1.020408      b          buy-stETH @ 0.98 WETH per stETH\n",
      "          422914-1  0.990099   0.080114      b          buy-stETH @ 0.99 WETH per stETH\n",
      "          422993-0  0.998000   1.002004      b          buy-stETH @ 1.00 WETH per stETH\n",
      "coingecko 69592316  0.998247  63.301060      b  s  buy-sell-stETH @ 1.00 WETH per stETH\n",
      "carbon_v1 422914-0  1.010101   0.002032         s      sell-stETH @ 1.01 WETH per stETH\n",
      "\n",
      "--- IN-THE-MONEY POSITIONS ---\n",
      "-None-\n",
      "\n",
      "\n",
      "====================================================================================================\n",
      "Pair = BNT-FF1C/USDC-eB48\n",
      "====================================================================================================\n",
      "\n",
      "--- ALL POSITIONS ---\n",
      "                       price         vl itm  b  s                               bsv\n",
      "exchange  cid0                                                                     \n",
      "coingecko ab067b88  0.417567  97.873904      b  s  buy-sell-BNT @ 0.42 USDC per BNT\n",
      "carbon_v1 480199-0  2.000000  29.100000         s      sell-BNT @ 2.00 USDC per BNT\n",
      "\n",
      "--- IN-THE-MONEY POSITIONS ---\n",
      "-None-\n",
      "\n",
      "\n",
      "====================================================================================================\n",
      "Pair = WETH-6Cc2/DAI-1d0F\n",
      "====================================================================================================\n",
      "\n",
      "--- ALL POSITIONS ---\n",
      "                          price        vl itm  b  s                                   bsv\n",
      "exchange  cid0                                                                           \n",
      "coingecko bf82cb51  1817.952048  1.483333      b  s  buy-sell-WETH @ 1817.95 DAI per WETH\n",
      "carbon_v1 211457-1  1944.999806  0.001000         s      sell-WETH @ 1945.00 DAI per WETH\n",
      "\n",
      "--- IN-THE-MONEY POSITIONS ---\n",
      "-None-\n",
      "\n",
      "\n",
      "====================================================================================================\n",
      "Pair = LINK-86CA/USDC-eB48\n",
      "====================================================================================================\n",
      "\n",
      "--- ALL POSITIONS ---\n",
      "                    price          vl itm  b  s                                 bsv\n",
      "exchange  cid0                                                                     \n",
      "coingecko 87d4130f   6.64   24.544035      b  s  buy-sell-LINK @ 6.64 USDC per LINK\n",
      "carbon_v1 497903-1   7.75  342.883761         s      sell-LINK @ 7.75 USDC per LINK\n",
      "\n",
      "--- IN-THE-MONEY POSITIONS ---\n",
      "-None-\n",
      "\n",
      "\n",
      "====================================================================================================\n",
      "Pair = TSUKA-69eD/USDC-eB48\n",
      "====================================================================================================\n",
      "\n",
      "--- ALL POSITIONS ---\n",
      "                       price            vl itm  b  s                                   bsv\n",
      "exchange  cid0                                                                            \n",
      "coingecko 814f7038  0.034815    338.956907      b  s  buy-sell-TSUKA @ 0.03 USDC per TSUKA\n",
      "carbon_v1 017697-1  0.120000  90007.566908         s      sell-TSUKA @ 0.12 USDC per TSUKA\n",
      "\n",
      "--- IN-THE-MONEY POSITIONS ---\n",
      "-None-\n",
      "\n",
      "\n",
      "====================================================================================================\n",
      "Pair = ETH2x_FLI-65BD/WETH-6Cc2\n",
      "====================================================================================================\n",
      "\n",
      "--- ALL POSITIONS ---\n",
      "                       price          vl itm  b  s                                           bsv\n",
      "exchange  cid0                                                                                  \n",
      "carbon_v1 246866-0  0.006300   63.492063      b          buy-ETH2x_FLI @ 0.01 WETH per ETH2x_FLI\n",
      "coingecko af75153c  0.006545  781.776057      b  s  buy-sell-ETH2x_FLI @ 0.01 WETH per ETH2x_FLI\n",
      "\n",
      "--- IN-THE-MONEY POSITIONS ---\n",
      "-None-\n",
      "\n",
      "\n",
      "====================================================================================================\n",
      "Pair = DAI-1d0F/USDT-1ec7\n",
      "====================================================================================================\n",
      "\n",
      "--- ALL POSITIONS ---\n",
      "                    price         vl itm  b  s                               bsv\n",
      "exchange  cid0                                                                  \n",
      "carbon_v1 268742-0  0.995  20.100501      b          buy-DAI @ 1.00 USDT per DAI\n",
      "coingecko 0da7a22b  1.001  63.213954      b  s  buy-sell-DAI @ 1.00 USDT per DAI\n",
      "carbon_v1 268742-1  1.005  20.000000         s      sell-DAI @ 1.00 USDT per DAI\n",
      "\n",
      "--- IN-THE-MONEY POSITIONS ---\n",
      "-None-\n",
      "\n",
      "\n",
      "====================================================================================================\n",
      "Pair = WETH-6Cc2/USDC-eB48\n",
      "====================================================================================================\n",
      "\n",
      "--- ALL POSITIONS ---\n",
      "                          price         vl itm  b  s                                    bsv\n",
      "exchange  cid0                                                                             \n",
      "carbon_v1 057306-0  1405.000140   3.558719      b          buy-WETH @ 1405.00 USDC per WETH\n",
      "          057334-0  1700.000170   0.029412      b          buy-WETH @ 1700.00 USDC per WETH\n",
      "          057331-0  1747.325134   2.728833      b          buy-WETH @ 1747.33 USDC per WETH\n",
      "          057358-0  1750.000000   0.059166      b          buy-WETH @ 1750.00 USDC per WETH\n",
      "          057337-0  1796.061322   0.879991      b          buy-WETH @ 1796.06 USDC per WETH\n",
      "          057339-0  1800.000000   0.000556      b          buy-WETH @ 1800.00 USDC per WETH\n",
      "coingecko 22d8d465  1819.770000   1.482592      b  s  buy-sell-WETH @ 1819.77 USDC per WETH\n",
      "carbon_v1 057365-0  1830.000000   0.009801      b          buy-WETH @ 1830.00 USDC per WETH\n",
      "          057299-1  1940.000000   0.026117         s      sell-WETH @ 1940.00 USDC per WETH\n",
      "          057296-1  1949.999805  10.461424         s      sell-WETH @ 1950.00 USDC per WETH\n",
      "          057337-1  1975.000000   0.230127         s      sell-WETH @ 1975.00 USDC per WETH\n",
      "          057343-1  1989.999801   1.000000         s      sell-WETH @ 1990.00 USDC per WETH\n",
      "          057334-1  1999.999800   0.040000         s      sell-WETH @ 2000.00 USDC per WETH\n",
      "          057292-1  2000.000000   0.019704         s      sell-WETH @ 2000.00 USDC per WETH\n",
      "          057331-1  2000.000000   2.950064         s      sell-WETH @ 2000.00 USDC per WETH\n",
      "          057353-1  2047.999795   8.234700         s      sell-WETH @ 2048.00 USDC per WETH\n",
      "          057285-1  2099.999790   0.006040         s      sell-WETH @ 2100.00 USDC per WETH\n",
      "          057315-1  2300.000000   0.487950         s      sell-WETH @ 2300.00 USDC per WETH\n",
      "\n",
      "--- IN-THE-MONEY POSITIONS ---\n",
      "-None-\n",
      "\n",
      "\n",
      "====================================================================================================\n",
      "Pair = DAI-1d0F/USDC-eB48\n",
      "====================================================================================================\n",
      "\n",
      "--- ALL POSITIONS ---\n",
      "                       price            vl itm  b  s                               bsv\n",
      "exchange  cid0                                                                        \n",
      "carbon_v1 845828-1  0.999001     20.019998      b          buy-DAI @ 1.00 USDC per DAI\n",
      "          845907-0  1.000500  13915.242877         s      sell-DAI @ 1.00 USDC per DAI\n",
      "coingecko 6d59d5e9  1.001000     63.213954      b  s  buy-sell-DAI @ 1.00 USDC per DAI\n",
      "carbon_v1 845828-0  1.001001     30.000000         s      sell-DAI @ 1.00 USDC per DAI\n",
      "\n",
      "--- IN-THE-MONEY POSITIONS ---\n",
      "-None-\n"
     ]
    }
   ],
   "source": [
    "for pair in list(pairs):\n",
    "    print(\"\\n\\n\"+\"=\"*100)\n",
    "    print(f\"Pair = {pair}\")\n",
    "    print(\"=\"*100)\n",
    "    df = pasdf.loc[Pair.n(pair)]\n",
    "    hasproxydata = len(df.reset_index()[df.reset_index()[\"exchange\"]==\"coingecko\"])>0\n",
    "    if hasproxydata:\n",
    "        print(\"\\n--- ALL POSITIONS ---\")\n",
    "        print(df.to_string())\n",
    "        print(\"\\n--- IN-THE-MONEY POSITIONS ---\")\n",
    "        dfitm = df[df[\"itm\"]==\"x\"]\n",
    "        if len(dfitm) > 0:\n",
    "            print(dfitm.to_string())\n",
    "        else:\n",
    "            print(\"-None-\")\n",
    "    else:\n",
    "        print(\"\\n--- NO PRICE DATA AVAILABLE ---\")"
   ]
  },
  {
   "cell_type": "markdown",
   "id": "2b405d02-ca60-49d4-9c49-e3ef937e30e2",
   "metadata": {},
   "source": [
    "## Summary data"
   ]
  },
  {
   "cell_type": "markdown",
   "id": "5f91da5b-b126-4816-b41c-7be245a7ea69",
   "metadata": {},
   "source": [
    "### Create summary data"
   ]
  },
  {
   "cell_type": "code",
   "execution_count": 25,
   "id": "0aac094f-e560-4fc7-b7d8-e4e434649368",
   "metadata": {},
   "outputs": [],
   "source": [
    "itmcarbdf = pasdf.query(\"exchange == 'carbon_v1'\").query(\"itm == 'x'\")"
   ]
  },
  {
   "cell_type": "code",
   "execution_count": 26,
   "id": "c72599d7-0ce2-4af8-b805-a9f6a2b462e0",
   "metadata": {},
   "outputs": [
    {
     "data": {
      "text/plain": [
       "['ARB/MATIC', 'BNT/WETH', 'BNT/vBNT', 'CRV/USDC', 'LINK/USDT', 'WETH/USDT']"
      ]
     },
     "execution_count": 26,
     "metadata": {},
     "output_type": "execute_result"
    }
   ],
   "source": [
    "itmcarb_pairs = sorted({x[0] for x in tuple(itmcarbdf.index)})\n",
    "itmcarb_pairs"
   ]
  },
  {
   "cell_type": "code",
   "execution_count": 27,
   "id": "f0af3450-f3e0-448c-a4f4-770bae46a86d",
   "metadata": {},
   "outputs": [
    {
     "data": {
      "text/plain": [
       "[{'pair': 'ARB/MATIC',\n",
       "  'exchange': 'carbon_v1',\n",
       "  'cid0': '806240-1',\n",
       "  'price': 1.4285714285714268,\n",
       "  'vl': 141.80602335295742,\n",
       "  'itm': 'x',\n",
       "  'b': 'b',\n",
       "  's': '',\n",
       "  'bsv': 'buy-ARB @ 1.43 MATIC per ARB'},\n",
       " {'pair': 'BNT/WETH',\n",
       "  'exchange': 'carbon_v1',\n",
       "  'cid0': '326076-0',\n",
       "  'price': 0.0002401849418126649,\n",
       "  'vl': 12.002104931254514,\n",
       "  'itm': 'x',\n",
       "  'b': 'b',\n",
       "  's': '',\n",
       "  'bsv': 'buy-BNT @ 0.00 WETH per BNT'}]"
      ]
     },
     "execution_count": 27,
     "metadata": {},
     "output_type": "execute_result"
    }
   ],
   "source": [
    "itmcarb_pos = itmcarbdf.reset_index().to_dict(orient=\"records\")\n",
    "itmcarb_pos[:2]"
   ]
  },
  {
   "cell_type": "code",
   "execution_count": 28,
   "id": "a4fa6564-4827-4152-84e5-90bfcb3e45f3",
   "metadata": {},
   "outputs": [],
   "source": [
    "itmcarb_pos_bypair = {\n",
    "    pair: [x for x in itmcarb_pos if x[\"pair\"] == pair]\n",
    "    for pair in itmcarb_pairs\n",
    "}\n",
    "#itmcarb_pos_bypair"
   ]
  },
  {
   "cell_type": "code",
   "execution_count": 29,
   "id": "e2cf30c4-82f8-4260-8b08-f27079142f54",
   "metadata": {},
   "outputs": [
    {
     "data": {
      "text/plain": [
       "[]"
      ]
     },
     "execution_count": 29,
     "metadata": {},
     "output_type": "execute_result"
    }
   ],
   "source": [
    "missing_pairs = [pair for pair, price in prices_by_pair.items() if price is None]\n",
    "missing_pairs"
   ]
  },
  {
   "cell_type": "markdown",
   "id": "9725e9ce-3a93-4155-ba6b-090a4c31ff4e",
   "metadata": {},
   "source": [
    "### Convert summary data to Telegram"
   ]
  },
  {
   "cell_type": "code",
   "execution_count": 30,
   "id": "ac593f24-c444-42e3-b893-6c8c6830adc8",
   "metadata": {},
   "outputs": [],
   "source": [
    "telegram_data = dict(\n",
    "    time_ts = int(now.timestamp()),              # timestamp (epoch)\n",
    "    time_iso = now.isoformat().split('.')[0],    # timestap (iso format)\n",
    "    prices_usd = token_prices_usd,               # token prices (usd)\n",
    "    pairs = list(pairs),                         # all pairs\n",
    "    pairs_n = len(pairs),                        # ...number\n",
    "    itm_pairs = itmcarb_pairs,                   # pairs that have curves in the money (list)\n",
    "    itm_pairs_n = len(itmcarb_pairs),            # ...number\n",
    "    itm_pos = itmcarb_pos,                       # carbon positions that are in the money (list)\n",
    "    itm_pos_n = len(itmcarb_pos),                # ...number\n",
    "    itm_pos_bypair = itmcarb_pos_bypair,         # ditto, but dict[pair] -> list\n",
    "    missing_pairs = missing_pairs,               # missing pairs\n",
    "    missing_pairs_n = len(missing_pairs),        # ...number\n",
    "    removed_tokens = list(REMOVED_TOKENS),       # removed tokens\n",
    "    removed_tokens_n = len(REMOVED_TOKENS),      # ...number\n",
    ")"
   ]
  },
  {
   "cell_type": "code",
   "execution_count": 31,
   "id": "9d901efd-502f-4100-ba21-64e321c52af6",
   "metadata": {},
   "outputs": [
    {
     "name": "stdout",
     "output_type": "stream",
     "text": [
      "\n",
      "===============================================\n",
      "ARBITRAGE RUN @ 2023-05-16T21:38:28Z\n",
      "===============================================\n",
      "Removed tokens:            2\n",
      "Total pairs:              25\n",
      "Missing pairs:             0\n",
      "In-the-money pairs:        6\n",
      "In-the-money curves:       7\n",
      "-----------------------------------------------\n",
      "PAIR         CID          VLOCK    ARBPC    VAL\n",
      "-----------------------------------------------\n",
      "ARB/MATIC    806240-1       166     2.7%      5\n",
      "BNT/WETH     326076-0         5     4.5%      0\n",
      "BNT/vBNT     748990-0         0     1.2%      0\n",
      "BNT/vBNT     748977-1       167    10.1%     17\n",
      "CRV/USDC     612490-0         1     8.2%      0\n",
      "LINK/USDT    960408-0         0     3.8%      0\n",
      "WETH/USDT    691656-0         5     3.8%      0\n",
      "-----------------------------------------------\n",
      "TOTAL                       345     6.4%     22\n",
      "===============================================\n",
      "\n",
      "\n",
      "\n"
     ]
    }
   ],
   "source": [
    "td = telegram_data\n",
    "s = \"\"\n",
    "s += f\"=\"*47\n",
    "s += f\"\\nARBITRAGE RUN @ {td['time_iso']}Z\\n\"\n",
    "s += f\"=\"*47+\"\\n\"\n",
    "s += f\"Removed tokens:          {td['removed_tokens_n']:3}\\n\"\n",
    "s += f\"Total pairs:             {td['pairs_n']:3}\\n\"\n",
    "s += f\"Missing pairs:           {td['missing_pairs_n']:3}\\n\"\n",
    "s += f\"In-the-money pairs:      {td['itm_pairs_n']:3}\\n\"\n",
    "s += f\"In-the-money curves:     {td['itm_pos_n']:3}\\n\"\n",
    "total_vl_usd = 0\n",
    "total_arbval = 0\n",
    "s += \"-----------------------------------------------\\n\"\n",
    "s += \"PAIR         CID          VLOCK    ARBPC    VAL\\n\"\n",
    "s += \"-----------------------------------------------\\n\"\n",
    "for p in td['itm_pos']:\n",
    "    price_pair = prices_n_by_pair[p['pair']] or 0\n",
    "    price_pc = f\"{abs(price_pair/p['price']-1)*100:8.1f}%\"\n",
    "    vl_token = p['pair'].split('/')[0].split(\"-\")[0]\n",
    "    vl_token_price = token_prices_usd.get(vl_token.upper())\n",
    "    vl_usd = p['vl']*vl_token_price\n",
    "    total_vl_usd += vl_usd\n",
    "    arbval = vl_usd * abs(price_pair/p['price']-1)\n",
    "    if price_pc.endswith(\"100.0%\"): \n",
    "        price_pc = \"         \"\n",
    "        arbval = 0\n",
    "    total_arbval += arbval\n",
    "    s += f\"{p['pair']:12} \"\n",
    "    s += f\"{p['cid0'][-8:]:8} \"\n",
    "    s += f\"{vl_usd:9,.0f}\"\n",
    "    s += f\"{price_pc} \"\n",
    "    s += f\"{arbval:6,.0f}\"\n",
    "    #s += f\"[{p['bsv']}; p={price_pair:,.2f}]\"\n",
    "    #s += f\"\\n{p}\"\n",
    "    s += \"\\n\"\n",
    "s += \"-----------------------------------------------\\n\"\n",
    "s += f\"TOTAL {total_vl_usd:25,.0f}   {100*total_arbval/total_vl_usd:5.1f}% {total_arbval:6,.0F}\\n\"\n",
    "s += \"===============================================\\n\"\n",
    "s += \"\\n\\n\"\n",
    "telegram_data[\"text\"] = s\n",
    "print()\n",
    "print(s)"
   ]
  },
  {
   "cell_type": "code",
   "execution_count": 32,
   "id": "da6d3cc7-558b-4125-a2e4-75b0c12e5d05",
   "metadata": {},
   "outputs": [],
   "source": [
    "with open(\"Analysis_015.latest.out\", \"w\") as f:\n",
    "    f.write(s)"
   ]
  },
  {
   "cell_type": "code",
   "execution_count": 33,
   "id": "6ec2547a-7c94-4373-a2e1-dba23542dc20",
   "metadata": {},
   "outputs": [],
   "source": [
    "with open(\"Analysis_015.latest.json\", \"w\") as f:\n",
    "    f.write(json.dumps(telegram_data))"
   ]
  },
  {
   "cell_type": "code",
   "execution_count": 34,
   "id": "22e959f1-e1c8-4238-adf9-61c72d7130af",
   "metadata": {},
   "outputs": [
    {
     "data": {
      "text/plain": [
       "0"
      ]
     },
     "execution_count": 34,
     "metadata": {},
     "output_type": "execute_result"
    }
   ],
   "source": [
    "None or 0"
   ]
  },
  {
   "cell_type": "markdown",
   "id": "cf5a440e-d6b5-469e-a418-65809baa9931",
   "metadata": {},
   "source": [
    "## Review"
   ]
  },
  {
   "cell_type": "code",
   "execution_count": 35,
   "id": "7582c0cc-8f9e-448d-b6ab-6f120b722dec",
   "metadata": {},
   "outputs": [],
   "source": [
    "#print(CCfull.bycids(endswith=\"612490-0\")[0].description())"
   ]
  },
  {
   "cell_type": "code",
   "execution_count": null,
   "id": "ba6bf181-2ecb-4780-9e91-d200a3db22b9",
   "metadata": {},
   "outputs": [],
   "source": []
  },
  {
   "cell_type": "code",
   "execution_count": null,
   "id": "20e1855c-1a5c-448e-afd5-596e00caaa23",
   "metadata": {},
   "outputs": [],
   "source": []
  },
  {
   "cell_type": "code",
   "execution_count": null,
   "id": "aedcf6a1-e35e-4307-add7-a049c9183d85",
   "metadata": {},
   "outputs": [],
   "source": []
  }
 ],
 "metadata": {
  "jupytext": {
   "encoding": "# -*- coding: utf-8 -*-",
   "formats": "ipynb,py:light"
  },
  "kernelspec": {
   "display_name": "Python 3",
   "language": "python",
   "name": "python3"
  },
  "language_info": {
   "codemirror_mode": {
    "name": "ipython",
    "version": 3
   },
   "file_extension": ".py",
   "mimetype": "text/x-python",
   "name": "python",
   "nbconvert_exporter": "python",
   "pygments_lexer": "ipython3",
   "version": "3.8.8"
  }
 },
 "nbformat": 4,
 "nbformat_minor": 5
}

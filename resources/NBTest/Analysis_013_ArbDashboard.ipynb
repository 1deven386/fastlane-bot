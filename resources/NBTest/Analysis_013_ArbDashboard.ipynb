{
 "cells": [
  {
   "cell_type": "code",
   "execution_count": 1,
   "id": "8f04c50a-67fe-4f09-822d-6ed6e3ac43e4",
   "metadata": {},
   "outputs": [
    {
     "name": "stdout",
     "output_type": "stream",
     "text": [
      "Using default database url, if you want to use a different database, set the backend_url found at the bottom of manager_base.py\n",
      "Error adding Ethereum blockchain to database Ethereum, (psycopg2.errors.UniqueViolation) duplicate key value violates unique constraint \"ix_blockchains_name\"\n",
      "DETAIL:  Key (name)=(Ethereum) already exists.\n",
      "\n",
      "[SQL: INSERT INTO blockchains (name, block_number) VALUES (%(name)s, %(block_number)s) RETURNING blockchains.id]\n",
      "[parameters: {'name': 'Ethereum', 'block_number': 0}]\n",
      "(Background on this error at: http://sqlalche.me/e/14/gkpj) skipping...\n",
      "Error adding exchange carbon_v1 to database, (psycopg2.errors.UniqueViolation) duplicate key value violates unique constraint \"exchanges_pkey\"\n",
      "DETAIL:  Key (id)=(6) already exists.\n",
      "\n",
      "[SQL: INSERT INTO exchanges (id, name, blockchain_name) VALUES (%(id)s, %(name)s, %(blockchain_name)s)]\n",
      "[parameters: {'id': 6, 'name': 'carbon_v1', 'blockchain_name': 'Ethereum'}]\n",
      "(Background on this error at: http://sqlalche.me/e/14/gkpj) skipping...\n",
      "Error adding exchange bancor_v2 to database, (psycopg2.errors.UniqueViolation) duplicate key value violates unique constraint \"exchanges_pkey\"\n",
      "DETAIL:  Key (id)=(1) already exists.\n",
      "\n",
      "[SQL: INSERT INTO exchanges (id, name, blockchain_name) VALUES (%(id)s, %(name)s, %(blockchain_name)s)]\n",
      "[parameters: {'id': 1, 'name': 'bancor_v2', 'blockchain_name': 'Ethereum'}]\n",
      "(Background on this error at: http://sqlalche.me/e/14/gkpj) skipping...\n",
      "Error adding exchange bancor_v3 to database, (psycopg2.errors.UniqueViolation) duplicate key value violates unique constraint \"exchanges_pkey\"\n",
      "DETAIL:  Key (id)=(2) already exists.\n",
      "\n",
      "[SQL: INSERT INTO exchanges (id, name, blockchain_name) VALUES (%(id)s, %(name)s, %(blockchain_name)s)]\n",
      "[parameters: {'id': 2, 'name': 'bancor_v3', 'blockchain_name': 'Ethereum'}]\n",
      "(Background on this error at: http://sqlalche.me/e/14/gkpj) skipping...\n",
      "Error adding exchange uniswap_v2 to database, (psycopg2.errors.UniqueViolation) duplicate key value violates unique constraint \"exchanges_pkey\"\n",
      "DETAIL:  Key (id)=(3) already exists.\n",
      "\n",
      "[SQL: INSERT INTO exchanges (id, name, blockchain_name) VALUES (%(id)s, %(name)s, %(blockchain_name)s)]\n",
      "[parameters: {'id': 3, 'name': 'uniswap_v2', 'blockchain_name': 'Ethereum'}]\n",
      "(Background on this error at: http://sqlalche.me/e/14/gkpj) skipping...\n",
      "Error adding exchange uniswap_v3 to database, (psycopg2.errors.UniqueViolation) duplicate key value violates unique constraint \"exchanges_pkey\"\n",
      "DETAIL:  Key (id)=(4) already exists.\n",
      "\n",
      "[SQL: INSERT INTO exchanges (id, name, blockchain_name) VALUES (%(id)s, %(name)s, %(blockchain_name)s)]\n",
      "[parameters: {'id': 4, 'name': 'uniswap_v3', 'blockchain_name': 'Ethereum'}]\n",
      "(Background on this error at: http://sqlalche.me/e/14/gkpj) skipping...\n",
      "Error adding exchange sushiswap_v2 to database, (psycopg2.errors.UniqueViolation) duplicate key value violates unique constraint \"exchanges_pkey\"\n",
      "DETAIL:  Key (id)=(5) already exists.\n",
      "\n",
      "[SQL: INSERT INTO exchanges (id, name, blockchain_name) VALUES (%(id)s, %(name)s, %(blockchain_name)s)]\n",
      "[parameters: {'id': 5, 'name': 'sushiswap_v2', 'blockchain_name': 'Ethereum'}]\n",
      "(Background on this error at: http://sqlalche.me/e/14/gkpj) skipping...\n",
      "ConstantProductCurve v2.10.3 (07/May/2023)\n",
      "CPCAnalyzer v1.1 (08/May/2023)\n",
      "CPCArbOptimizer v3.7 (07/May/2023)\n",
      "CarbonBot v3-b2.1 (03/May/2023)\n",
      "imported m, np, pd, plt, os, sys, decimal; defined iseq, raises, require\n",
      "Version = 3-b2.1 [requirements >= 3.0 is met]\n",
      "elapsed time: 4.86s\n",
      "BRANCH: devskl\n"
     ]
    }
   ],
   "source": [
    "import time\n",
    "start_time = time.time()\n",
    "from fastlane_bot import Bot, Config, ConfigDB, ConfigNetwork, ConfigProvider\n",
    "from fastlane_bot.tools.cpc import ConstantProductCurve as CPC, CPCContainer, T, Pair\n",
    "from fastlane_bot.tools.analyzer import CPCAnalyzer, AttrDict\n",
    "from fastlane_bot.tools.optimizer import CPCArbOptimizer\n",
    "from fastlane_bot.branch import BRANCH\n",
    "print(\"{0.__name__} v{0.__VERSION__} ({0.__DATE__})\".format(CPC))\n",
    "print(\"{0.__name__} v{0.__VERSION__} ({0.__DATE__})\".format(CPCAnalyzer))\n",
    "print(\"{0.__name__} v{0.__VERSION__} ({0.__DATE__})\".format(CPCArbOptimizer))\n",
    "print(\"{0.__name__} v{0.__VERSION__} ({0.__DATE__})\".format(Bot))\n",
    "from fastlane_bot.testing import *\n",
    "import itertools as it\n",
    "import collections as cl\n",
    "plt.style.use('seaborn-dark')\n",
    "plt.rcParams['figure.figsize'] = [12,6]\n",
    "from fastlane_bot import __VERSION__\n",
    "require(\"3.0\", __VERSION__)\n",
    "print(f\"elapsed time: {time.time()-start_time:.2f}s\")\n",
    "print(\"BRANCH:\", BRANCH)"
   ]
  },
  {
   "cell_type": "markdown",
   "id": "b3f59f14-b91b-4dba-94b0-3d513aaf41c7",
   "metadata": {},
   "source": [
    "# Arbitrage Dashboard [A013]"
   ]
  },
  {
   "cell_type": "code",
   "execution_count": 2,
   "id": "736e4c79-fbd4-4898-ba89-82d779b57f20",
   "metadata": {},
   "outputs": [
    {
     "name": "stdout",
     "output_type": "stream",
     "text": [
      "elapsed time: 6.16s\n"
     ]
    }
   ],
   "source": [
    "bot     = Bot()\n",
    "CCm     = bot.get_curves()\n",
    "CA      = CPCAnalyzer(CCm)\n",
    "pairsc  = CA.pairsc()\n",
    "print(f\"elapsed time: {time.time()-start_time:.2f}s\")"
   ]
  },
  {
   "cell_type": "markdown",
   "id": "39435ad2-1711-4a9d-a048-d14dbe8d0892",
   "metadata": {},
   "source": [
    "## All (Carbon) pairs"
   ]
  },
  {
   "cell_type": "code",
   "execution_count": 3,
   "id": "3cd99d43-cd6f-441f-86d0-dcc73ba8bc19",
   "metadata": {},
   "outputs": [
    {
     "name": "stdout",
     "output_type": "stream",
     "text": [
      "Tokens:  2233\n",
      "Pairs:   2834 [carbon:   26]\n",
      "Curves:  4156 [carbon:   70]\n"
     ]
    }
   ],
   "source": [
    "print(f\"Tokens:  {len(CA.tokens()):4}\")\n",
    "print(f\"Pairs:   {len(CA.pairs()) :4} [carbon: {len(CA.pairsc()) :4}]\")\n",
    "print(f\"Curves:  {len(CA.curves()):4} [carbon: {len(CA.curvesc()):4}]\") "
   ]
  },
  {
   "cell_type": "code",
   "execution_count": 4,
   "id": "e3dd6dc2-8373-4d08-9bb2-091213cd934d",
   "metadata": {},
   "outputs": [
    {
     "name": "stdout",
     "output_type": "stream",
     "text": [
      "--------------------------------------------------------------------------------\n",
      "Pair:               WBTC-C599/USDT-1ec7\n",
      "--------------------------------------------------------------------------------\n",
      "Price:              27,558.799057\n",
      "Number of curves:   7 [carbon: 1]\n",
      "Value locked:       7.71 USDT [carbon: 1.91, other: 5.80]\n",
      "Simple arb value:   0.00 WBTC / 1.77 USDT\n",
      "\n",
      "[SMT-7173/WETH-6Cc2: float division by zero ]\n",
      "\n",
      "[TSUKA-69eD/USDC-eB48: float division by zero ]\n",
      "\n"
     ]
    },
    {
     "name": "stderr",
     "output_type": "stream",
     "text": [
      "/Users/skl/REPOES/Bancor/ArbBot/resources/NBTest/fastlane_bot/tools/optimizer.py:1419: RuntimeWarning: overflow encountered in exp\n",
      "  p = np.exp(plog10 * np.log(10))\n",
      "/Users/skl/REPOES/Bancor/ArbBot/resources/NBTest/fastlane_bot/tools/optimizer.py:1299: RuntimeWarning: overflow encountered in exp\n",
      "  p = np.exp(p * np.log(10))\n",
      "/Users/skl/REPOES/Bancor/ArbBot/resources/NBTest/fastlane_bot/tools/optimizer.py:1310: RuntimeWarning: invalid value encountered in double_scalars\n",
      "  price = get(p, tokens_ix.get(tknb)) / get(p, tokens_ix.get(tknq))\n"
     ]
    },
    {
     "name": "stdout",
     "output_type": "stream",
     "text": [
      "--------------------------------------------------------------------------------\n",
      "Pair:               WETH-6Cc2/USDC-eB48\n",
      "--------------------------------------------------------------------------------\n",
      "Price:              1,846.959308\n",
      "Number of curves:   24 [carbon: 16]\n",
      "Value locked:       200,646,390.69 USDC [carbon: 31,892.63, other: 200,614,498.05]\n",
      "Simple arb value:   0.40 WETH / 741.17 USDC\n",
      "\n",
      "--------------------------------------------------------------------------------\n",
      "Pair:               LYXe-be6D/USDC-eB48\n",
      "--------------------------------------------------------------------------------\n",
      "Price:              14.391360\n",
      "Number of curves:   3 [carbon: 1]\n",
      "Value locked:       120,090.44 USDC [carbon: 120,059.20, other: 31.24]\n",
      "Simple arb value:   -0.00 LYXe / -0.00 USDC\n",
      "\n",
      "--------------------------------------------------------------------------------\n",
      "Pair:               DAI-1d0F/USDC-eB48\n",
      "--------------------------------------------------------------------------------\n",
      "Price:              1.000111\n",
      "Number of curves:   7 [carbon: 2]\n",
      "Value locked:       57,995,957.50 USDC [carbon: 50.05, other: 57,995,907.45]\n",
      "Simple arb value:   1,310.95 DAI / 1,311.18 USDC\n",
      "\n",
      "[BNT-FF1C/USDC-eB48: float division by zero ]\n",
      "\n",
      "--------------------------------------------------------------------------------\n",
      "Pair:               WETH-6Cc2/DAI-1d0F\n",
      "--------------------------------------------------------------------------------\n",
      "Price:              1,845.141638\n",
      "Number of curves:   7 [carbon: 1]\n",
      "Value locked:       16,014,280.63 DAI [carbon: 1.94, other: 16,014,278.68]\n",
      "Simple arb value:   0.01 WETH / 27.62 DAI\n",
      "\n",
      "[BNT-FF1C/WETH-6Cc2: float division by zero ]\n",
      "\n",
      "[vBNT-7f94/USDC-eB48: no curves found for USDC-eB48/vBNT-7f94 ]\n",
      "\n",
      "--------------------------------------------------------------------------------\n",
      "Pair:               WETH-6Cc2/USDT-1ec7\n",
      "--------------------------------------------------------------------------------\n",
      "Price:              1,844.550496\n",
      "Number of curves:   8 [carbon: 1]\n",
      "Value locked:       88,011.94 USDT [carbon: 0.00, other: 88,011.94]\n",
      "Simple arb value:   0.14 WETH / 256.70 USDT\n",
      "\n",
      "[BNT-FF1C/vBNT-7f94: float division by zero ]\n",
      "\n",
      "[LBR-aCcA/WETH-6Cc2: no curves found for WETH-6Cc2/LBR-aCcA ]\n",
      "\n",
      "[LINK-86CA/USDC-eB48: float division by zero ]\n",
      "\n"
     ]
    },
    {
     "name": "stderr",
     "output_type": "stream",
     "text": [
      "/Users/skl/REPOES/Bancor/ArbBot/resources/NBTest/fastlane_bot/tools/optimizer.py:1310: RuntimeWarning: invalid value encountered in double_scalars\n",
      "  price = get(p, tokens_ix.get(tknb)) / get(p, tokens_ix.get(tknq))\n",
      "/Users/skl/REPOES/Bancor/ArbBot/resources/NBTest/fastlane_bot/tools/optimizer.py:1310: RuntimeWarning: divide by zero encountered in double_scalars\n",
      "  price = get(p, tokens_ix.get(tknb)) / get(p, tokens_ix.get(tknq))\n"
     ]
    },
    {
     "name": "stdout",
     "output_type": "stream",
     "text": [
      "--------------------------------------------------------------------------------\n",
      "Pair:               CRV-cd52/USDC-eB48\n",
      "--------------------------------------------------------------------------------\n",
      "Price:              0.847351\n",
      "Number of curves:   4 [carbon: 2]\n",
      "Value locked:       9,897.56 USDC [carbon: 9,000.18, other: 897.38]\n",
      "Simple arb value:   -58.06 CRV / 54.09 USDC\n",
      "\n",
      "[PEPE-1933/WETH-6Cc2: no curves found for WETH-6Cc2/PEPE-1933 ]\n",
      "\n",
      "--------------------------------------------------------------------------------\n",
      "Pair:               WBTC-C599/USDC-eB48\n",
      "--------------------------------------------------------------------------------\n",
      "Price:              27,549.626394\n",
      "Number of curves:   6 [carbon: 1]\n",
      "Value locked:       34.59 USDC [carbon: 0.05, other: 34.54]\n",
      "Simple arb value:   0.00 WBTC / 8.04 USDC\n",
      "\n",
      "--------------------------------------------------------------------------------\n",
      "Pair:               USDT-1ec7/USDC-eB48\n",
      "--------------------------------------------------------------------------------\n",
      "Price:              1.000675\n",
      "Number of curves:   13 [carbon: 4]\n",
      "Value locked:       62,105,165.29 USDC [carbon: 1,100.91, other: 62,104,064.38]\n",
      "Simple arb value:   72.62 USDT / 72.67 USDC\n",
      "\n",
      "--------------------------------------------------------------------------------\n",
      "Pair:               WBTC-C599/WETH-6Cc2\n",
      "--------------------------------------------------------------------------------\n",
      "Price:              14.977633\n",
      "Number of curves:   10 [carbon: 2]\n",
      "Value locked:       1,788.32 WETH [carbon: 2.48, other: 1,785.84]\n",
      "Simple arb value:   0.03 WBTC / 0.44 WETH\n",
      "\n",
      "[rETH-6393/WETH-6Cc2: float division by zero ]\n",
      "\n",
      "[RPL-A51f/XCHF-fc08: no curves found for XCHF-fc08/RPL-A51f ]\n",
      "\n",
      "[LINK-86CA/USDT-1ec7: float division by zero ]\n",
      "\n"
     ]
    },
    {
     "name": "stderr",
     "output_type": "stream",
     "text": [
      "/Users/skl/REPOES/Bancor/ArbBot/resources/NBTest/fastlane_bot/tools/optimizer.py:1419: RuntimeWarning: overflow encountered in exp\n",
      "  p = np.exp(plog10 * np.log(10))\n",
      "/Users/skl/REPOES/Bancor/ArbBot/resources/NBTest/fastlane_bot/tools/optimizer.py:1299: RuntimeWarning: overflow encountered in exp\n",
      "  p = np.exp(p * np.log(10))\n",
      "/Users/skl/REPOES/Bancor/ArbBot/resources/NBTest/fastlane_bot/tools/optimizer.py:1310: RuntimeWarning: invalid value encountered in double_scalars\n",
      "  price = get(p, tokens_ix.get(tknb)) / get(p, tokens_ix.get(tknq))\n",
      "/Users/skl/REPOES/Bancor/ArbBot/resources/NBTest/fastlane_bot/tools/optimizer.py:1310: RuntimeWarning: invalid value encountered in double_scalars\n",
      "  price = get(p, tokens_ix.get(tknb)) / get(p, tokens_ix.get(tknq))\n",
      "/Users/skl/REPOES/Bancor/ArbBot/resources/NBTest/fastlane_bot/tools/optimizer.py:1310: RuntimeWarning: divide by zero encountered in double_scalars\n",
      "  price = get(p, tokens_ix.get(tknb)) / get(p, tokens_ix.get(tknq))\n"
     ]
    },
    {
     "name": "stdout",
     "output_type": "stream",
     "text": [
      "--------------------------------------------------------------------------------\n",
      "Pair:               0x0-1AD5/WETH-6Cc2\n",
      "--------------------------------------------------------------------------------\n",
      "Price:              0.000027\n",
      "Number of curves:   3 [carbon: 2]\n",
      "Value locked:       28,547,495.40 WETH [carbon: 13,420.84, other: 28,534,074.56]\n",
      "Simple arb value:   157.88 0x0 / 0.00 WETH\n",
      "\n",
      "[ARB-4ad1/MATIC-eBB0: no curves found for MATIC-eBB0/ARB-4ad1 ]\n",
      "\n",
      "--------------------------------------------------------------------------------\n",
      "Pair:               DAI-1d0F/USDT-1ec7\n",
      "--------------------------------------------------------------------------------\n",
      "Price:              0.999429\n",
      "Number of curves:   6 [carbon: 2]\n",
      "Value locked:       66,550.09 USDT [carbon: 40.20, other: 66,509.89]\n",
      "Simple arb value:   0.53 DAI / 0.53 USDT\n",
      "\n",
      "[stETH-fE84/WETH-6Cc2: float division by zero ]\n",
      "\n"
     ]
    },
    {
     "name": "stderr",
     "output_type": "stream",
     "text": [
      "/Users/skl/REPOES/Bancor/ArbBot/resources/NBTest/fastlane_bot/tools/optimizer.py:1310: RuntimeWarning: invalid value encountered in double_scalars\n",
      "  price = get(p, tokens_ix.get(tknb)) / get(p, tokens_ix.get(tknq))\n",
      "/Users/skl/REPOES/Bancor/ArbBot/resources/NBTest/fastlane_bot/tools/optimizer.py:1310: RuntimeWarning: divide by zero encountered in double_scalars\n",
      "  price = get(p, tokens_ix.get(tknb)) / get(p, tokens_ix.get(tknq))\n"
     ]
    }
   ],
   "source": [
    "nocav = True\n",
    "for pair in CA.pairsc():\n",
    "    try:\n",
    "        d = CA.pair_analysis(pair, novac=nocav)\n",
    "        print(CA.pair_analysis_pp(d, nocav=nocav))\n",
    "        #print(f\"elapsed time: {time.time()-start_time:.2f}s\")\n",
    "    except Exception as e:\n",
    "        pass\n",
    "        print(f\"[{pair}: {e} ]\\n\")"
   ]
  },
  {
   "cell_type": "markdown",
   "id": "17d9e39f-9404-4aff-bae1-c2432a502f5d",
   "metadata": {},
   "source": [
    "## Individual pairs"
   ]
  },
  {
   "cell_type": "markdown",
   "id": "808582b3-3c0c-46f3-9c98-01b60215f823",
   "metadata": {},
   "source": [
    "#### WETH/USDC"
   ]
  },
  {
   "cell_type": "code",
   "execution_count": 5,
   "id": "260f565c-05d8-43cf-b5d8-e46f5a757ca0",
   "metadata": {},
   "outputs": [],
   "source": [
    "pair    = \"WETH-6Cc2/USDC-eB48\"\n",
    "d       = CA.pair_analysis(pair)\n",
    "CC_crb  = CA.curvesc(ascc=True).bypairs(pair)"
   ]
  },
  {
   "cell_type": "code",
   "execution_count": 6,
   "id": "dd9313a3-78c6-4e0b-a412-3d3329ff6e95",
   "metadata": {},
   "outputs": [
    {
     "name": "stdout",
     "output_type": "stream",
     "text": [
      "--------------------------------------------------------------------------------\n",
      "Pair:               WETH-6Cc2/USDC-eB48\n",
      "--------------------------------------------------------------------------------\n",
      "Price:              1,846.959308\n",
      "Number of curves:   24 [carbon: 16]\n",
      "Value locked:       200,646,390.69 USDC [carbon: 31,892.63, other: 200,614,498.05]\n",
      "Simple arb value:   0.40 WETH / 741.17 USDC\n",
      "Complex arb value:  error [USDC]\n",
      "                    error [WETH]\n",
      "\n"
     ]
    }
   ],
   "source": [
    "print(CA.pair_analysis_pp(d))"
   ]
  },
  {
   "cell_type": "code",
   "execution_count": 7,
   "id": "8cf6ebfc-fc93-4e73-b21a-3c5e96be2eea",
   "metadata": {},
   "outputs": [
    {
     "data": {
      "text/plain": [
       "{'BNT-FF1C/DAI-1d0F',\n",
       " 'BNT-FF1C/USDC-eB48',\n",
       " 'BNT-FF1C/USDT-1ec7',\n",
       " 'BNT-FF1C/WBTC-C599',\n",
       " 'BNT-FF1C/WETH-6Cc2',\n",
       " 'DAI-1d0F/USDC-eB48',\n",
       " 'DAI-1d0F/USDT-1ec7',\n",
       " 'USDT-1ec7/USDC-eB48',\n",
       " 'WBTC-C599/DAI-1d0F',\n",
       " 'WBTC-C599/USDC-eB48',\n",
       " 'WBTC-C599/USDT-1ec7',\n",
       " 'WBTC-C599/WETH-6Cc2',\n",
       " 'WETH-6Cc2/DAI-1d0F',\n",
       " 'WETH-6Cc2/USDC-eB48',\n",
       " 'WETH-6Cc2/USDT-1ec7'}"
      ]
     },
     "execution_count": 7,
     "metadata": {},
     "output_type": "execute_result"
    }
   ],
   "source": [
    "d.xpairs"
   ]
  },
  {
   "cell_type": "code",
   "execution_count": 8,
   "id": "6fd6924d-147a-4b0a-8330-263c3d0abeb5",
   "metadata": {},
   "outputs": [],
   "source": [
    "d.tib_xnoc"
   ]
  },
  {
   "cell_type": "code",
   "execution_count": 9,
   "id": "4ab3432c-29be-4059-8883-9c7ccf6c1a7b",
   "metadata": {},
   "outputs": [],
   "source": [
    "d.tiq_xnoc"
   ]
  },
  {
   "cell_type": "code",
   "execution_count": 10,
   "id": "9719d1c7-a033-4a57-92fc-e17e401a4d17",
   "metadata": {},
   "outputs": [
    {
     "data": {
      "text/plain": [
       "{'err': \"'NoneType' object has no attribute 'loc'\"}"
      ]
     },
     "execution_count": 10,
     "metadata": {},
     "output_type": "execute_result"
    }
   ],
   "source": [
    "d.xarbvalq"
   ]
  },
  {
   "cell_type": "code",
   "execution_count": 11,
   "id": "b065b06d-685e-400b-af64-e9f7a8a64d64",
   "metadata": {},
   "outputs": [
    {
     "data": {
      "text/plain": [
       "{'err': \"'NoneType' object has no attribute 'loc'\"}"
      ]
     },
     "execution_count": 11,
     "metadata": {},
     "output_type": "execute_result"
    }
   ],
   "source": [
    "d.xarbvalb"
   ]
  },
  {
   "cell_type": "code",
   "execution_count": 12,
   "id": "0c9db813-a109-48bc-a0b4-16e80336d6b5",
   "metadata": {},
   "outputs": [],
   "source": [
    "d.tib_xf"
   ]
  },
  {
   "cell_type": "code",
   "execution_count": 13,
   "id": "d3d48cc5-fe6b-4a70-b8c6-87b19c87b4ab",
   "metadata": {},
   "outputs": [],
   "source": [
    "d.tiq_xf"
   ]
  },
  {
   "cell_type": "code",
   "execution_count": 14,
   "id": "8373b959-65ef-4071-a55f-756ae403b59e",
   "metadata": {},
   "outputs": [
    {
     "data": {
      "text/html": [
       "<div>\n",
       "<style scoped>\n",
       "    .dataframe tbody tr th:only-of-type {\n",
       "        vertical-align: middle;\n",
       "    }\n",
       "\n",
       "    .dataframe tbody tr th {\n",
       "        vertical-align: top;\n",
       "    }\n",
       "\n",
       "    .dataframe thead th {\n",
       "        text-align: right;\n",
       "    }\n",
       "</style>\n",
       "<table border=\"1\" class=\"dataframe\">\n",
       "  <thead>\n",
       "    <tr style=\"text-align: right;\">\n",
       "      <th></th>\n",
       "      <th>USDC-eB48</th>\n",
       "      <th>WETH-6Cc2</th>\n",
       "    </tr>\n",
       "  </thead>\n",
       "  <tbody>\n",
       "    <tr>\n",
       "      <th>593</th>\n",
       "      <td>42882.230186</td>\n",
       "      <td>-23.310666</td>\n",
       "    </tr>\n",
       "    <tr>\n",
       "      <th>255</th>\n",
       "      <td>60834.668735</td>\n",
       "      <td>-32.992846</td>\n",
       "    </tr>\n",
       "    <tr>\n",
       "      <th>803</th>\n",
       "      <td>36119.480117</td>\n",
       "      <td>-19.599706</td>\n",
       "    </tr>\n",
       "    <tr>\n",
       "      <th>1701411834604692317316873037158841057296-0</th>\n",
       "      <td>-1.994537</td>\n",
       "      <td>0.001033</td>\n",
       "    </tr>\n",
       "    <tr>\n",
       "      <th>346</th>\n",
       "      <td>-283469.114741</td>\n",
       "      <td>153.426765</td>\n",
       "    </tr>\n",
       "    <tr>\n",
       "      <th>1701411834604692317316873037158841057353-0</th>\n",
       "      <td>-7851.133636</td>\n",
       "      <td>4.234700</td>\n",
       "    </tr>\n",
       "    <tr>\n",
       "      <th>6c988ffdc9e74acd97ccfb16dd65c110</th>\n",
       "      <td>19186.643152</td>\n",
       "      <td>-10.399878</td>\n",
       "    </tr>\n",
       "    <tr>\n",
       "      <th>7ed16708962e459abe5431a176b13aa0</th>\n",
       "      <td>31063.062077</td>\n",
       "      <td>-16.819975</td>\n",
       "    </tr>\n",
       "    <tr>\n",
       "      <th>00125d264f9d49369a467e7708cee9b5</th>\n",
       "      <td>96026.079603</td>\n",
       "      <td>-52.119339</td>\n",
       "    </tr>\n",
       "    <tr>\n",
       "      <th>50ac5ace09c1483987af46c60c551073</th>\n",
       "      <td>5239.541793</td>\n",
       "      <td>-2.837308</td>\n",
       "    </tr>\n",
       "    <tr>\n",
       "      <th>1701411834604692317316873037158841057292-0</th>\n",
       "      <td>-6.141325</td>\n",
       "      <td>0.003317</td>\n",
       "    </tr>\n",
       "    <tr>\n",
       "      <th>1701411834604692317316873037158841057337-0</th>\n",
       "      <td>-23.321428</td>\n",
       "      <td>0.012616</td>\n",
       "    </tr>\n",
       "    <tr>\n",
       "      <th>PRICE</th>\n",
       "      <td>0.000541</td>\n",
       "      <td>1.000000</td>\n",
       "    </tr>\n",
       "    <tr>\n",
       "      <th>AMMIn</th>\n",
       "      <td>291351.705663</td>\n",
       "      <td>157.678431</td>\n",
       "    </tr>\n",
       "    <tr>\n",
       "      <th>AMMOut</th>\n",
       "      <td>-291351.705667</td>\n",
       "      <td>-158.079718</td>\n",
       "    </tr>\n",
       "    <tr>\n",
       "      <th>TOTAL NET</th>\n",
       "      <td>-0.000004</td>\n",
       "      <td>-0.401286</td>\n",
       "    </tr>\n",
       "  </tbody>\n",
       "</table>\n",
       "</div>"
      ],
      "text/plain": [
       "                                                USDC-eB48   WETH-6Cc2\n",
       "593                                          42882.230186  -23.310666\n",
       "255                                          60834.668735  -32.992846\n",
       "803                                          36119.480117  -19.599706\n",
       "1701411834604692317316873037158841057296-0      -1.994537    0.001033\n",
       "346                                        -283469.114741  153.426765\n",
       "1701411834604692317316873037158841057353-0   -7851.133636    4.234700\n",
       "6c988ffdc9e74acd97ccfb16dd65c110             19186.643152  -10.399878\n",
       "7ed16708962e459abe5431a176b13aa0             31063.062077  -16.819975\n",
       "00125d264f9d49369a467e7708cee9b5             96026.079603  -52.119339\n",
       "50ac5ace09c1483987af46c60c551073              5239.541793   -2.837308\n",
       "1701411834604692317316873037158841057292-0      -6.141325    0.003317\n",
       "1701411834604692317316873037158841057337-0     -23.321428    0.012616\n",
       "PRICE                                            0.000541    1.000000\n",
       "AMMIn                                       291351.705663  157.678431\n",
       "AMMOut                                     -291351.705667 -158.079718\n",
       "TOTAL NET                                       -0.000004   -0.401286"
      ]
     },
     "execution_count": 14,
     "metadata": {},
     "output_type": "execute_result"
    }
   ],
   "source": [
    "d.tib"
   ]
  },
  {
   "cell_type": "code",
   "execution_count": 15,
   "id": "38a780fd-8a4a-4b18-b0d8-9759eb3f20c0",
   "metadata": {},
   "outputs": [
    {
     "data": {
      "text/html": [
       "<div>\n",
       "<style scoped>\n",
       "    .dataframe tbody tr th:only-of-type {\n",
       "        vertical-align: middle;\n",
       "    }\n",
       "\n",
       "    .dataframe tbody tr th {\n",
       "        vertical-align: top;\n",
       "    }\n",
       "\n",
       "    .dataframe thead th {\n",
       "        text-align: right;\n",
       "    }\n",
       "</style>\n",
       "<table border=\"1\" class=\"dataframe\">\n",
       "  <thead>\n",
       "    <tr style=\"text-align: right;\">\n",
       "      <th></th>\n",
       "      <th>USDC-eB48</th>\n",
       "      <th>WETH-6Cc2</th>\n",
       "    </tr>\n",
       "  </thead>\n",
       "  <tbody>\n",
       "    <tr>\n",
       "      <th>593</th>\n",
       "      <td>42876.230348</td>\n",
       "      <td>-2.330742e+01</td>\n",
       "    </tr>\n",
       "    <tr>\n",
       "      <th>255</th>\n",
       "      <td>60814.434147</td>\n",
       "      <td>-3.298189e+01</td>\n",
       "    </tr>\n",
       "    <tr>\n",
       "      <th>803</th>\n",
       "      <td>36110.428047</td>\n",
       "      <td>-1.959480e+01</td>\n",
       "    </tr>\n",
       "    <tr>\n",
       "      <th>1701411834604692317316873037158841057296-0</th>\n",
       "      <td>-1.994537</td>\n",
       "      <td>1.033440e-03</td>\n",
       "    </tr>\n",
       "    <tr>\n",
       "      <th>346</th>\n",
       "      <td>-283952.717931</td>\n",
       "      <td>1.536886e+02</td>\n",
       "    </tr>\n",
       "    <tr>\n",
       "      <th>1701411834604692317316873037158841057353-0</th>\n",
       "      <td>-7851.133636</td>\n",
       "      <td>4.234700e+00</td>\n",
       "    </tr>\n",
       "    <tr>\n",
       "      <th>6c988ffdc9e74acd97ccfb16dd65c110</th>\n",
       "      <td>19177.155978</td>\n",
       "      <td>-1.039474e+01</td>\n",
       "    </tr>\n",
       "    <tr>\n",
       "      <th>7ed16708962e459abe5431a176b13aa0</th>\n",
       "      <td>30888.950301</td>\n",
       "      <td>-1.672571e+01</td>\n",
       "    </tr>\n",
       "    <tr>\n",
       "      <th>00125d264f9d49369a467e7708cee9b5</th>\n",
       "      <td>96004.293509</td>\n",
       "      <td>-5.210754e+01</td>\n",
       "    </tr>\n",
       "    <tr>\n",
       "      <th>50ac5ace09c1483987af46c60c551073</th>\n",
       "      <td>5222.664938</td>\n",
       "      <td>-2.828170e+00</td>\n",
       "    </tr>\n",
       "    <tr>\n",
       "      <th>1701411834604692317316873037158841057292-0</th>\n",
       "      <td>-6.141325</td>\n",
       "      <td>3.316581e-03</td>\n",
       "    </tr>\n",
       "    <tr>\n",
       "      <th>1701411834604692317316873037158841057337-0</th>\n",
       "      <td>-23.337391</td>\n",
       "      <td>1.262512e-02</td>\n",
       "    </tr>\n",
       "    <tr>\n",
       "      <th>PRICE</th>\n",
       "      <td>1.000000</td>\n",
       "      <td>1.846978e+03</td>\n",
       "    </tr>\n",
       "    <tr>\n",
       "      <th>AMMIn</th>\n",
       "      <td>291094.157267</td>\n",
       "      <td>1.579403e+02</td>\n",
       "    </tr>\n",
       "    <tr>\n",
       "      <th>AMMOut</th>\n",
       "      <td>-291835.324821</td>\n",
       "      <td>-1.579403e+02</td>\n",
       "    </tr>\n",
       "    <tr>\n",
       "      <th>TOTAL NET</th>\n",
       "      <td>-741.167554</td>\n",
       "      <td>1.244785e-09</td>\n",
       "    </tr>\n",
       "  </tbody>\n",
       "</table>\n",
       "</div>"
      ],
      "text/plain": [
       "                                                USDC-eB48     WETH-6Cc2\n",
       "593                                          42876.230348 -2.330742e+01\n",
       "255                                          60814.434147 -3.298189e+01\n",
       "803                                          36110.428047 -1.959480e+01\n",
       "1701411834604692317316873037158841057296-0      -1.994537  1.033440e-03\n",
       "346                                        -283952.717931  1.536886e+02\n",
       "1701411834604692317316873037158841057353-0   -7851.133636  4.234700e+00\n",
       "6c988ffdc9e74acd97ccfb16dd65c110             19177.155978 -1.039474e+01\n",
       "7ed16708962e459abe5431a176b13aa0             30888.950301 -1.672571e+01\n",
       "00125d264f9d49369a467e7708cee9b5             96004.293509 -5.210754e+01\n",
       "50ac5ace09c1483987af46c60c551073              5222.664938 -2.828170e+00\n",
       "1701411834604692317316873037158841057292-0      -6.141325  3.316581e-03\n",
       "1701411834604692317316873037158841057337-0     -23.337391  1.262512e-02\n",
       "PRICE                                            1.000000  1.846978e+03\n",
       "AMMIn                                       291094.157267  1.579403e+02\n",
       "AMMOut                                     -291835.324821 -1.579403e+02\n",
       "TOTAL NET                                     -741.167554  1.244785e-09"
      ]
     },
     "execution_count": 15,
     "metadata": {},
     "output_type": "execute_result"
    }
   ],
   "source": [
    "d.tiq"
   ]
  },
  {
   "cell_type": "code",
   "execution_count": 16,
   "id": "2cdc18c8-2025-4257-82a1-8a1da59bd147",
   "metadata": {},
   "outputs": [
    {
     "data": {
      "text/html": [
       "<div>\n",
       "<style scoped>\n",
       "    .dataframe tbody tr th:only-of-type {\n",
       "        vertical-align: middle;\n",
       "    }\n",
       "\n",
       "    .dataframe tbody tr th {\n",
       "        vertical-align: top;\n",
       "    }\n",
       "\n",
       "    .dataframe thead th {\n",
       "        text-align: right;\n",
       "    }\n",
       "</style>\n",
       "<table border=\"1\" class=\"dataframe\">\n",
       "  <thead>\n",
       "    <tr style=\"text-align: right;\">\n",
       "      <th></th>\n",
       "      <th>USDC-eB48</th>\n",
       "      <th>WETH-6Cc2</th>\n",
       "    </tr>\n",
       "  </thead>\n",
       "  <tbody>\n",
       "    <tr>\n",
       "      <th>TOTAL NET</th>\n",
       "      <td>-0.000004</td>\n",
       "      <td>-4.012863e-01</td>\n",
       "    </tr>\n",
       "    <tr>\n",
       "      <th>TOTAL NET</th>\n",
       "      <td>-741.167554</td>\n",
       "      <td>1.244785e-09</td>\n",
       "    </tr>\n",
       "  </tbody>\n",
       "</table>\n",
       "</div>"
      ],
      "text/plain": [
       "            USDC-eB48     WETH-6Cc2\n",
       "TOTAL NET   -0.000004 -4.012863e-01\n",
       "TOTAL NET -741.167554  1.244785e-09"
      ]
     },
     "execution_count": 16,
     "metadata": {},
     "output_type": "execute_result"
    }
   ],
   "source": [
    "d.tibq"
   ]
  },
  {
   "cell_type": "code",
   "execution_count": 17,
   "id": "ddfb507a-322e-4b80-bb38-44dd2097b680",
   "metadata": {},
   "outputs": [
    {
     "data": {
      "text/plain": [
       "(0.40128633988557905, 'WETH-6Cc2')"
      ]
     },
     "execution_count": 17,
     "metadata": {},
     "output_type": "execute_result"
    }
   ],
   "source": [
    "d.arbvalb, d.tknb"
   ]
  },
  {
   "cell_type": "code",
   "execution_count": 18,
   "id": "595cbad1-82ae-4c9d-a999-d8bf1a1d3c88",
   "metadata": {},
   "outputs": [
    {
     "data": {
      "text/plain": [
       "(741.167553620834, 'USDC-eB48')"
      ]
     },
     "execution_count": 18,
     "metadata": {},
     "output_type": "execute_result"
    }
   ],
   "source": [
    "d.arbvalq, d.tknq"
   ]
  },
  {
   "cell_type": "code",
   "execution_count": null,
   "id": "2745d31b-5169-4299-ac69-07ad9b67cf8f",
   "metadata": {},
   "outputs": [],
   "source": []
  }
 ],
 "metadata": {
  "jupytext": {
   "encoding": "# -*- coding: utf-8 -*-",
   "formats": "ipynb,py:light"
  },
  "kernelspec": {
   "display_name": "Python 3",
   "language": "python",
   "name": "python3"
  },
  "language_info": {
   "codemirror_mode": {
    "name": "ipython",
    "version": 3
   },
   "file_extension": ".py",
   "mimetype": "text/x-python",
   "name": "python",
   "nbconvert_exporter": "python",
   "pygments_lexer": "ipython3",
   "version": "3.8.8"
  }
 },
 "nbformat": 4,
 "nbformat_minor": 5
}

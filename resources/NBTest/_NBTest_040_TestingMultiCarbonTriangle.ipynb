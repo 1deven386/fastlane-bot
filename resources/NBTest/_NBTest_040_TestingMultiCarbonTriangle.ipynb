{
 "cells": [
  {
   "cell_type": "code",
   "execution_count": 1,
   "id": "8f04c50a-67fe-4f09-822d-6ed6e3ac43e4",
   "metadata": {
    "ExecuteTime": {
     "end_time": "2023-05-15T14:46:18.355293300Z",
     "start_time": "2023-05-15T14:46:12.804001600Z"
    }
   },
   "outputs": [
    {
     "name": "stdout",
     "output_type": "stream",
     "text": [
      "Using default database url, if you want to use a different database, set the backend_url found at the bottom of manager_base.py\n",
      "ConstantProductCurve v2.10.1 (07/May/2023)\n",
      "CarbonBot v3-b2.1 (03/May/2023)\n",
      "imported m, np, pd, plt, os, sys, decimal; defined iseq, raises, require\n"
     ]
    },
    {
     "name": "stderr",
     "output_type": "stream",
     "text": [
      "C:\\Users\\nicho\\AppData\\Local\\Temp\\ipykernel_41300\\1801012949.py:8: MatplotlibDeprecationWarning: The seaborn styles shipped by Matplotlib are deprecated since 3.6, as they no longer correspond to the styles shipped by seaborn. However, they will remain available as 'seaborn-v0_8-<style>'. Alternatively, directly use the seaborn API instead.\n",
      "  plt.style.use('seaborn-dark')\n"
     ]
    },
    {
     "name": "stdout",
     "output_type": "stream",
     "text": [
      "Version = 3-b2.1 [requirements >= 2.0 is met]\n"
     ]
    }
   ],
   "source": [
    "from fastlane_bot import Config, ConfigDB, ConfigNetwork, ConfigProvider\n",
    "from fastlane_bot.bot import CarbonBot\n",
    "from fastlane_bot.tools.cpc import ConstantProductCurve as CPC, CPCContainer, T\n",
    "from fastlane_bot.helpers import TxHelper\n",
    "print(\"{0.__name__} v{0.__VERSION__} ({0.__DATE__})\".format(CPC))\n",
    "print(\"{0.__name__} v{0.__VERSION__} ({0.__DATE__})\".format(CarbonBot))\n",
    "from fastlane_bot.testing import *\n",
    "plt.style.use('seaborn-dark')\n",
    "plt.rcParams['figure.figsize'] = [12,6]\n",
    "from fastlane_bot import __VERSION__\n",
    "require(\"2.0\", __VERSION__)"
   ]
  },
  {
   "attachments": {},
   "cell_type": "markdown",
   "id": "b3f59f14-b91b-4dba-94b0-3d513aaf41c7",
   "metadata": {},
   "source": [
    "# Testing the _run functions on TENDERLY [NBTest022]"
   ]
  },
  {
   "attachments": {},
   "cell_type": "markdown",
   "id": "cf03072d-6304-41f8-b132-9470ae81ac7c",
   "metadata": {},
   "source": [
    "## Tenderly Configuration"
   ]
  },
  {
   "attachments": {},
   "cell_type": "markdown",
   "id": "0990888a-698c-487c-9142-80e62a8393ac",
   "metadata": {},
   "source": [
    "### Set up the bot and curves"
   ]
  },
  {
   "cell_type": "code",
   "execution_count": 2,
   "id": "da9ff008-cb12-44f7-93a8-84f7386da886",
   "metadata": {
    "ExecuteTime": {
     "end_time": "2023-05-15T14:46:19.458326300Z",
     "start_time": "2023-05-15T14:46:18.356289900Z"
    }
   },
   "outputs": [],
   "source": [
    "C = Config.new(config=Config.CONFIG_TENDERLY)\n",
    "assert C.DATABASE == C.DATABASE_POSTGRES\n",
    "# assert C.POSTGRES_DB == \"defaultdb\"\n",
    "assert C.NETWORK == C.NETWORK_TENDERLY\n",
    "assert C.PROVIDER == C.PROVIDER_TENDERLY\n",
    "bot = CarbonBot(ConfigObj=C)\n",
    "assert str(type(bot.db)) == \"<class 'fastlane_bot.db.manager.DatabaseManager'>\""
   ]
  },
  {
   "cell_type": "code",
   "execution_count": 3,
   "id": "63cdbd3c",
   "metadata": {},
   "outputs": [
    {
     "data": {
      "text/plain": [
       "'https://rpc.tenderly.co/fork/293439f0-a76e-4cbf-a6cf-2a366132500b'"
      ]
     },
     "execution_count": 3,
     "metadata": {},
     "output_type": "execute_result"
    }
   ],
   "source": [
    "C.w3.provider.endpoint_uri"
   ]
  },
  {
   "cell_type": "code",
   "execution_count": 4,
   "id": "4c184a25",
   "metadata": {
    "ExecuteTime": {
     "end_time": "2023-05-15T14:46:20.497877800Z",
     "start_time": "2023-05-15T14:46:19.479661500Z"
    }
   },
   "outputs": [
    {
     "name": "stdout",
     "output_type": "stream",
     "text": [
      "Number of curves: 3543\n",
      "Number of tokens: 2230\n",
      "Exchanges: {'uniswap_v2', 'uniswap_v3', 'carbon_v1', 'bancor_v3', 'sushiswap_v2', 'bancor_v2'}\n"
     ]
    }
   ],
   "source": [
    "CCm = bot.get_curves()\n",
    "exch = {c.P(\"exchange\") for c in CCm}\n",
    "print(\"Number of curves:\", len(CCm))\n",
    "print(\"Number of tokens:\", len(CCm.tokens()))\n",
    "print(\"Exchanges:\", exch)"
   ]
  },
  {
   "cell_type": "code",
   "execution_count": 5,
   "id": "d7ee607c",
   "metadata": {
    "ExecuteTime": {
     "end_time": "2023-05-15T14:46:20.514881300Z",
     "start_time": "2023-05-15T14:46:20.498874200Z"
    }
   },
   "outputs": [
    {
     "data": {
      "text/plain": [
       "3445"
      ]
     },
     "execution_count": 5,
     "metadata": {},
     "output_type": "execute_result"
    }
   ],
   "source": [
    "used_curves = [\n",
    "    # '7145929705339707732730866756067132440667-0',\n",
    "    # '12590447576074723148144860474975423823947-0',\n",
    "    # '13951577043758477001998358904702496669779-1'\n",
    "]\n",
    "subcurves = [x for x in CCm if x.cid not in used_curves]\n",
    "no_0x0 = [x for x in subcurves if '0x0-1AD5' not in x.pair]\n",
    "CCm2 = CPCContainer([x for x in no_0x0 if x.params.exchange not in ['bancor_v2']])\n",
    "len(CCm2)\n",
    "#print(CCm2)"
   ]
  },
  {
   "cell_type": "code",
   "execution_count": 6,
   "id": "b397bc36",
   "metadata": {
    "ExecuteTime": {
     "end_time": "2023-05-15T14:46:20.543922200Z",
     "start_time": "2023-05-15T14:46:20.515878100Z"
    }
   },
   "outputs": [
    {
     "data": {
      "text/plain": [
       "27"
      ]
     },
     "execution_count": 6,
     "metadata": {},
     "output_type": "execute_result"
    }
   ],
   "source": [
    "pairs = [x.pair.split('/') for x in CCm if x.params.exchange == 'carbon_v1']\n",
    "len(set([x for itm in pairs for x in itm]))"
   ]
  },
  {
   "cell_type": "code",
   "execution_count": 7,
   "id": "79ed1618",
   "metadata": {
    "ExecuteTime": {
     "end_time": "2023-05-15T14:46:20.553411300Z",
     "start_time": "2023-05-15T14:46:20.530771200Z"
    }
   },
   "outputs": [
    {
     "data": {
      "text/plain": [
       "61"
      ]
     },
     "execution_count": 7,
     "metadata": {},
     "output_type": "execute_result"
    }
   ],
   "source": [
    "pairs = [x.pair for x in CCm if x.params.exchange == 'carbon_v1']\n",
    "len(set(pairs))"
   ]
  },
  {
   "cell_type": "code",
   "execution_count": 8,
   "id": "6445f9db",
   "metadata": {
    "ExecuteTime": {
     "end_time": "2023-05-15T14:46:20.560387500Z",
     "start_time": "2023-05-15T14:46:20.545917Z"
    }
   },
   "outputs": [],
   "source": [
    "# CCm.bycid(\"5784800237655953878877368326340059594782\").p"
   ]
  },
  {
   "cell_type": "code",
   "execution_count": 9,
   "id": "9a8100d3",
   "metadata": {
    "ExecuteTime": {
     "end_time": "2023-05-15T14:46:20.590786Z",
     "start_time": "2023-05-15T14:46:20.561384300Z"
    }
   },
   "outputs": [],
   "source": [
    "# CCm.bycid(\"5d5cebf33c0049258c40db6bc90b1558\").p"
   ]
  },
  {
   "cell_type": "code",
   "execution_count": 10,
   "id": "21a0e86c",
   "metadata": {
    "ExecuteTime": {
     "end_time": "2023-05-15T14:46:20.601477700Z",
     "start_time": "2023-05-15T14:46:20.577324700Z"
    }
   },
   "outputs": [],
   "source": [
    "# CCm.bycid(\"9a52c5bdef1c402497d1c4f5d7501f61\").p"
   ]
  },
  {
   "cell_type": "code",
   "execution_count": 11,
   "id": "7cae2ba6",
   "metadata": {
    "ExecuteTime": {
     "end_time": "2023-05-15T14:46:20.610599700Z",
     "start_time": "2023-05-15T14:46:20.592287600Z"
    }
   },
   "outputs": [],
   "source": [
    "# CCm.bycid(\"12590447576074723148144860474975423823947-0\").p"
   ]
  },
  {
   "cell_type": "code",
   "execution_count": 12,
   "id": "11a64563",
   "metadata": {
    "ExecuteTime": {
     "end_time": "2023-05-15T14:46:20.626522300Z",
     "start_time": "2023-05-15T14:46:20.608606500Z"
    }
   },
   "outputs": [],
   "source": [
    "# 1/CCm.bycid(\"12590447576074723148144860474975423823947-1\").p"
   ]
  },
  {
   "attachments": {},
   "cell_type": "markdown",
   "id": "5a26c4b4",
   "metadata": {},
   "source": [
    "## Actual run"
   ]
  },
  {
   "cell_type": "code",
   "execution_count": 13,
   "id": "cab33dc6",
   "metadata": {
    "ExecuteTime": {
     "end_time": "2023-05-15T14:46:20.637843700Z",
     "start_time": "2023-05-15T14:46:20.623532600Z"
    }
   },
   "outputs": [],
   "source": [
    "flt = [T.USDC, T.USDT, T.ETH, T.LINK, T.BNT, T.WBTC, T.DAI]\n",
    "# flashloan_tokens = flt\n",
    "# bot._run(flashloan_tokens=flt, CCm=CCm2)"
   ]
  },
  {
   "attachments": {},
   "cell_type": "markdown",
   "id": "5f2f01c5",
   "metadata": {},
   "source": [
    "## Analytics"
   ]
  },
  {
   "cell_type": "code",
   "execution_count": 14,
   "id": "1419695c",
   "metadata": {
    "ExecuteTime": {
     "end_time": "2023-05-15T14:46:22.978326100Z",
     "start_time": "2023-05-15T14:46:20.668459500Z"
    }
   },
   "outputs": [],
   "source": [
    "# ops = bot._find_arbitrage_opportunities_carbon_multi_triangle(flashloan_tokens=flt, CCm=CCm2, result=bot.XS_ARBOPPS)"
   ]
  },
  {
   "cell_type": "code",
   "execution_count": 15,
   "id": "95b2c699",
   "metadata": {
    "ExecuteTime": {
     "end_time": "2023-05-15T14:46:22.993842300Z",
     "start_time": "2023-05-15T14:46:22.979323100Z"
    }
   },
   "outputs": [],
   "source": [
    "# ops"
   ]
  },
  {
   "cell_type": "code",
   "execution_count": 16,
   "id": "60b235ca",
   "metadata": {
    "ExecuteTime": {
     "end_time": "2023-05-15T14:46:23.038810900Z",
     "start_time": "2023-05-15T14:46:22.994840800Z"
    }
   },
   "outputs": [],
   "source": [
    "# ord = bot._run(flashloan_tokens=flt, CCm=CCm2, result=bot.XS_ORDSCAL, arb_mode=bot.AM_MULTI_TRIANGLE)\n",
    "# ord"
   ]
  },
  {
   "cell_type": "code",
   "execution_count": 17,
   "id": "90c8527b",
   "metadata": {},
   "outputs": [],
   "source": [
    "# ord"
   ]
  },
  {
   "cell_type": "code",
   "execution_count": 18,
   "id": "fcb66e42",
   "metadata": {
    "ExecuteTime": {
     "end_time": "2023-05-15T14:46:23.046305800Z",
     "start_time": "2023-05-15T14:46:23.010308700Z"
    }
   },
   "outputs": [],
   "source": [
    "# ti = bot._run(flashloan_tokens=flt, CCm=CCm2, result=bot.XS_TI, arb_mode=bot.AM_MULTI_TRIANGLE)\n",
    "# ti"
   ]
  },
  {
   "cell_type": "code",
   "execution_count": 19,
   "id": "f4d25fb2",
   "metadata": {
    "ExecuteTime": {
     "end_time": "2023-05-15T14:46:23.047302600Z",
     "start_time": "2023-05-15T14:46:23.038810900Z"
    }
   },
   "outputs": [],
   "source": [
    "# ti"
   ]
  },
  {
   "cell_type": "code",
   "execution_count": 20,
   "id": "b9217711",
   "metadata": {
    "ExecuteTime": {
     "end_time": "2023-05-15T14:46:23.055831700Z",
     "start_time": "2023-05-15T14:46:23.040804800Z"
    }
   },
   "outputs": [],
   "source": [
    "# ops = bot._find_arbitrage_opportunities_carbon_multi_triangle(flashloan_tokens=flt, CCm=CCm, result=bot.AO_CANDIDATES)\n",
    "# ops"
   ]
  },
  {
   "cell_type": "code",
   "execution_count": 21,
   "id": "93eff72b",
   "metadata": {
    "ExecuteTime": {
     "end_time": "2023-05-15T14:46:23.075506500Z",
     "start_time": "2023-05-15T14:46:23.056828100Z"
    }
   },
   "outputs": [],
   "source": [
    "# candf = pd.DataFrame(ops).sort_values(by=0, ascending=False)\n",
    "# candf.reset_index(inplace=True, drop=True)\n",
    "# candf.iloc[2][1]"
   ]
  },
  {
   "cell_type": "code",
   "execution_count": 22,
   "id": "b933a3e3",
   "metadata": {
    "ExecuteTime": {
     "end_time": "2023-05-15T14:46:23.086746400Z",
     "start_time": "2023-05-15T14:46:23.072329Z"
    }
   },
   "outputs": [],
   "source": [
    "# candf.iloc[0][0]"
   ]
  },
  {
   "cell_type": "code",
   "execution_count": 23,
   "id": "83ec9e1d",
   "metadata": {},
   "outputs": [],
   "source": [
    "# exact = bot._run(flashloan_tokens=flt, CCm=CCm2, arb_mode=bot.AM_MULTI_TRIANGLE, result=bot.XS_EXACT)\n",
    "# exact"
   ]
  },
  {
   "cell_type": "code",
   "execution_count": 24,
   "id": "c712055d",
   "metadata": {},
   "outputs": [],
   "source": [
    "# for i in range(len(exact)):\n",
    "#     print(exact[i].amtin_wei, exact[i].amtout_wei)"
   ]
  },
  {
   "cell_type": "code",
   "execution_count": 25,
   "id": "1905eb9d",
   "metadata": {
    "ExecuteTime": {
     "end_time": "2023-05-15T14:46:40.918256500Z",
     "start_time": "2023-05-15T14:46:34.157797700Z"
    }
   },
   "outputs": [
    {
     "name": "stderr",
     "output_type": "stream",
     "text": [
      "c:\\Users\\nicho\\Dropbox\\Bancor_Protocol\\Github\\carbonbot\\resources\\NBTest\\fastlane_bot\\tools\\optimizer.py:1419: RuntimeWarning: overflow encountered in exp\n",
      "  p = np.exp(plog10 * np.log(10))\n",
      "c:\\Users\\nicho\\Dropbox\\Bancor_Protocol\\Github\\carbonbot\\resources\\NBTest\\fastlane_bot\\tools\\optimizer.py:1299: RuntimeWarning: overflow encountered in exp\n",
      "  p = np.exp(p * np.log(10))\n",
      "c:\\Users\\nicho\\Dropbox\\Bancor_Protocol\\Github\\carbonbot\\resources\\NBTest\\fastlane_bot\\tools\\optimizer.py:1310: RuntimeWarning: divide by zero encountered in scalar divide\n",
      "  price = get(p, tokens_ix.get(tknb)) / get(p, tokens_ix.get(tknq))\n",
      "c:\\Users\\nicho\\Dropbox\\Bancor_Protocol\\Github\\carbonbot\\resources\\NBTest\\fastlane_bot\\tools\\optimizer.py:1419: RuntimeWarning: overflow encountered in exp\n",
      "  p = np.exp(plog10 * np.log(10))\n",
      "c:\\Users\\nicho\\Dropbox\\Bancor_Protocol\\Github\\carbonbot\\resources\\NBTest\\fastlane_bot\\tools\\optimizer.py:1299: RuntimeWarning: overflow encountered in exp\n",
      "  p = np.exp(p * np.log(10))\n",
      "c:\\Users\\nicho\\Dropbox\\Bancor_Protocol\\Github\\carbonbot\\resources\\NBTest\\fastlane_bot\\tools\\optimizer.py:1310: RuntimeWarning: divide by zero encountered in scalar divide\n",
      "  price = get(p, tokens_ix.get(tknb)) / get(p, tokens_ix.get(tknq))\n",
      "c:\\Users\\nicho\\Dropbox\\Bancor_Protocol\\Github\\carbonbot\\resources\\NBTest\\fastlane_bot\\tools\\optimizer.py:1419: RuntimeWarning: overflow encountered in exp\n",
      "  p = np.exp(plog10 * np.log(10))\n",
      "c:\\Users\\nicho\\Dropbox\\Bancor_Protocol\\Github\\carbonbot\\resources\\NBTest\\fastlane_bot\\tools\\optimizer.py:1299: RuntimeWarning: overflow encountered in exp\n",
      "  p = np.exp(p * np.log(10))\n",
      "c:\\Users\\nicho\\Dropbox\\Bancor_Protocol\\Github\\carbonbot\\resources\\NBTest\\fastlane_bot\\tools\\optimizer.py:1310: RuntimeWarning: divide by zero encountered in scalar divide\n",
      "  price = get(p, tokens_ix.get(tknb)) / get(p, tokens_ix.get(tknq))\n",
      "c:\\Users\\nicho\\Dropbox\\Bancor_Protocol\\Github\\carbonbot\\resources\\NBTest\\fastlane_bot\\tools\\optimizer.py:1419: RuntimeWarning: overflow encountered in exp\n",
      "  p = np.exp(plog10 * np.log(10))\n",
      "c:\\Users\\nicho\\Dropbox\\Bancor_Protocol\\Github\\carbonbot\\resources\\NBTest\\fastlane_bot\\tools\\optimizer.py:1299: RuntimeWarning: overflow encountered in exp\n",
      "  p = np.exp(p * np.log(10))\n",
      "c:\\Users\\nicho\\Dropbox\\Bancor_Protocol\\Github\\carbonbot\\resources\\NBTest\\fastlane_bot\\tools\\optimizer.py:1310: RuntimeWarning: divide by zero encountered in scalar divide\n",
      "  price = get(p, tokens_ix.get(tknb)) / get(p, tokens_ix.get(tknq))\n",
      "c:\\Users\\nicho\\Dropbox\\Bancor_Protocol\\Github\\carbonbot\\resources\\NBTest\\fastlane_bot\\tools\\optimizer.py:1419: RuntimeWarning: overflow encountered in exp\n",
      "  p = np.exp(plog10 * np.log(10))\n",
      "c:\\Users\\nicho\\Dropbox\\Bancor_Protocol\\Github\\carbonbot\\resources\\NBTest\\fastlane_bot\\tools\\optimizer.py:1299: RuntimeWarning: overflow encountered in exp\n",
      "  p = np.exp(p * np.log(10))\n",
      "c:\\Users\\nicho\\Dropbox\\Bancor_Protocol\\Github\\carbonbot\\resources\\NBTest\\fastlane_bot\\tools\\optimizer.py:1310: RuntimeWarning: divide by zero encountered in scalar divide\n",
      "  price = get(p, tokens_ix.get(tknb)) / get(p, tokens_ix.get(tknq))\n",
      "c:\\Users\\nicho\\Dropbox\\Bancor_Protocol\\Github\\carbonbot\\resources\\NBTest\\fastlane_bot\\tools\\optimizer.py:1419: RuntimeWarning: overflow encountered in exp\n",
      "  p = np.exp(plog10 * np.log(10))\n",
      "c:\\Users\\nicho\\Dropbox\\Bancor_Protocol\\Github\\carbonbot\\resources\\NBTest\\fastlane_bot\\tools\\optimizer.py:1299: RuntimeWarning: overflow encountered in exp\n",
      "  p = np.exp(p * np.log(10))\n",
      "c:\\Users\\nicho\\Dropbox\\Bancor_Protocol\\Github\\carbonbot\\resources\\NBTest\\fastlane_bot\\tools\\optimizer.py:1310: RuntimeWarning: divide by zero encountered in scalar divide\n",
      "  price = get(p, tokens_ix.get(tknb)) / get(p, tokens_ix.get(tknq))\n",
      "c:\\Users\\nicho\\Dropbox\\Bancor_Protocol\\Github\\carbonbot\\resources\\NBTest\\fastlane_bot\\tools\\optimizer.py:1419: RuntimeWarning: overflow encountered in exp\n",
      "  p = np.exp(plog10 * np.log(10))\n",
      "c:\\Users\\nicho\\Dropbox\\Bancor_Protocol\\Github\\carbonbot\\resources\\NBTest\\fastlane_bot\\tools\\optimizer.py:1299: RuntimeWarning: overflow encountered in exp\n",
      "  p = np.exp(p * np.log(10))\n",
      "c:\\Users\\nicho\\Dropbox\\Bancor_Protocol\\Github\\carbonbot\\resources\\NBTest\\fastlane_bot\\tools\\optimizer.py:1310: RuntimeWarning: invalid value encountered in scalar divide\n",
      "  price = get(p, tokens_ix.get(tknb)) / get(p, tokens_ix.get(tknq))\n",
      "c:\\Users\\nicho\\Dropbox\\Bancor_Protocol\\Github\\carbonbot\\resources\\NBTest\\fastlane_bot\\tools\\optimizer.py:1310: RuntimeWarning: divide by zero encountered in scalar divide\n",
      "  price = get(p, tokens_ix.get(tknb)) / get(p, tokens_ix.get(tknq))\n",
      "c:\\Users\\nicho\\Dropbox\\Bancor_Protocol\\Github\\carbonbot\\resources\\NBTest\\fastlane_bot\\tools\\optimizer.py:1157: RuntimeWarning: invalid value encountered in subtract\n",
      "  jac[:, j] = (func(x_plus) - y) / Dxj\n",
      "c:\\Users\\nicho\\Dropbox\\Bancor_Protocol\\Github\\carbonbot\\resources\\NBTest\\fastlane_bot\\tools\\optimizer.py:1419: RuntimeWarning: overflow encountered in exp\n",
      "  p = np.exp(plog10 * np.log(10))\n",
      "c:\\Users\\nicho\\Dropbox\\Bancor_Protocol\\Github\\carbonbot\\resources\\NBTest\\fastlane_bot\\tools\\optimizer.py:1299: RuntimeWarning: overflow encountered in exp\n",
      "  p = np.exp(p * np.log(10))\n",
      "c:\\Users\\nicho\\Dropbox\\Bancor_Protocol\\Github\\carbonbot\\resources\\NBTest\\fastlane_bot\\tools\\optimizer.py:1419: RuntimeWarning: overflow encountered in exp\n",
      "  p = np.exp(plog10 * np.log(10))\n",
      "c:\\Users\\nicho\\Dropbox\\Bancor_Protocol\\Github\\carbonbot\\resources\\NBTest\\fastlane_bot\\tools\\optimizer.py:1299: RuntimeWarning: overflow encountered in exp\n",
      "  p = np.exp(p * np.log(10))\n",
      "c:\\Users\\nicho\\Dropbox\\Bancor_Protocol\\Github\\carbonbot\\resources\\NBTest\\fastlane_bot\\tools\\optimizer.py:1419: RuntimeWarning: overflow encountered in exp\n",
      "  p = np.exp(plog10 * np.log(10))\n",
      "c:\\Users\\nicho\\Dropbox\\Bancor_Protocol\\Github\\carbonbot\\resources\\NBTest\\fastlane_bot\\tools\\optimizer.py:1299: RuntimeWarning: overflow encountered in exp\n",
      "  p = np.exp(p * np.log(10))\n",
      "c:\\Users\\nicho\\Dropbox\\Bancor_Protocol\\Github\\carbonbot\\resources\\NBTest\\fastlane_bot\\tools\\optimizer.py:1419: RuntimeWarning: overflow encountered in exp\n",
      "  p = np.exp(plog10 * np.log(10))\n",
      "c:\\Users\\nicho\\Dropbox\\Bancor_Protocol\\Github\\carbonbot\\resources\\NBTest\\fastlane_bot\\tools\\optimizer.py:1299: RuntimeWarning: overflow encountered in exp\n",
      "  p = np.exp(p * np.log(10))\n",
      "c:\\Users\\nicho\\Dropbox\\Bancor_Protocol\\Github\\carbonbot\\resources\\NBTest\\fastlane_bot\\tools\\optimizer.py:1419: RuntimeWarning: overflow encountered in exp\n",
      "  p = np.exp(plog10 * np.log(10))\n",
      "c:\\Users\\nicho\\Dropbox\\Bancor_Protocol\\Github\\carbonbot\\resources\\NBTest\\fastlane_bot\\tools\\optimizer.py:1299: RuntimeWarning: overflow encountered in exp\n",
      "  p = np.exp(p * np.log(10))\n",
      "c:\\Users\\nicho\\Dropbox\\Bancor_Protocol\\Github\\carbonbot\\resources\\NBTest\\fastlane_bot\\tools\\optimizer.py:1419: RuntimeWarning: overflow encountered in exp\n",
      "  p = np.exp(plog10 * np.log(10))\n",
      "c:\\Users\\nicho\\Dropbox\\Bancor_Protocol\\Github\\carbonbot\\resources\\NBTest\\fastlane_bot\\tools\\optimizer.py:1299: RuntimeWarning: overflow encountered in exp\n",
      "  p = np.exp(p * np.log(10))\n",
      "c:\\Users\\nicho\\Dropbox\\Bancor_Protocol\\Github\\carbonbot\\resources\\NBTest\\fastlane_bot\\tools\\optimizer.py:1310: RuntimeWarning: divide by zero encountered in scalar divide\n",
      "  price = get(p, tokens_ix.get(tknb)) / get(p, tokens_ix.get(tknq))\n",
      "c:\\Users\\nicho\\Dropbox\\Bancor_Protocol\\Github\\carbonbot\\resources\\NBTest\\fastlane_bot\\tools\\optimizer.py:1310: RuntimeWarning: invalid value encountered in scalar divide\n",
      "  price = get(p, tokens_ix.get(tknb)) / get(p, tokens_ix.get(tknq))\n",
      "c:\\Users\\nicho\\Dropbox\\Bancor_Protocol\\Github\\carbonbot\\resources\\NBTest\\fastlane_bot\\tools\\optimizer.py:1310: RuntimeWarning: invalid value encountered in scalar divide\n",
      "  price = get(p, tokens_ix.get(tknb)) / get(p, tokens_ix.get(tknq))\n",
      "c:\\Users\\nicho\\Dropbox\\Bancor_Protocol\\Github\\carbonbot\\resources\\NBTest\\fastlane_bot\\tools\\optimizer.py:1310: RuntimeWarning: divide by zero encountered in scalar divide\n",
      "  price = get(p, tokens_ix.get(tknb)) / get(p, tokens_ix.get(tknq))\n",
      "c:\\Users\\nicho\\Dropbox\\Bancor_Protocol\\Github\\carbonbot\\resources\\NBTest\\fastlane_bot\\tools\\optimizer.py:1310: RuntimeWarning: invalid value encountered in scalar divide\n",
      "  price = get(p, tokens_ix.get(tknb)) / get(p, tokens_ix.get(tknq))\n",
      "c:\\Users\\nicho\\Dropbox\\Bancor_Protocol\\Github\\carbonbot\\resources\\NBTest\\fastlane_bot\\tools\\optimizer.py:1310: RuntimeWarning: invalid value encountered in scalar divide\n",
      "  price = get(p, tokens_ix.get(tknb)) / get(p, tokens_ix.get(tknq))\n",
      "c:\\Users\\nicho\\Dropbox\\Bancor_Protocol\\Github\\carbonbot\\resources\\NBTest\\fastlane_bot\\tools\\optimizer.py:1310: RuntimeWarning: divide by zero encountered in scalar divide\n",
      "  price = get(p, tokens_ix.get(tknb)) / get(p, tokens_ix.get(tknq))\n",
      "c:\\Users\\nicho\\Dropbox\\Bancor_Protocol\\Github\\carbonbot\\resources\\NBTest\\fastlane_bot\\tools\\optimizer.py:1310: RuntimeWarning: invalid value encountered in scalar divide\n",
      "  price = get(p, tokens_ix.get(tknb)) / get(p, tokens_ix.get(tknq))\n",
      "c:\\Users\\nicho\\Dropbox\\Bancor_Protocol\\Github\\carbonbot\\resources\\NBTest\\fastlane_bot\\tools\\optimizer.py:1310: RuntimeWarning: invalid value encountered in scalar divide\n",
      "  price = get(p, tokens_ix.get(tknb)) / get(p, tokens_ix.get(tknq))\n",
      "c:\\Users\\nicho\\Dropbox\\Bancor_Protocol\\Github\\carbonbot\\resources\\NBTest\\fastlane_bot\\tools\\optimizer.py:1310: RuntimeWarning: divide by zero encountered in scalar divide\n",
      "  price = get(p, tokens_ix.get(tknb)) / get(p, tokens_ix.get(tknq))\n",
      "c:\\Users\\nicho\\Dropbox\\Bancor_Protocol\\Github\\carbonbot\\resources\\NBTest\\fastlane_bot\\tools\\optimizer.py:1310: RuntimeWarning: invalid value encountered in scalar divide\n",
      "  price = get(p, tokens_ix.get(tknb)) / get(p, tokens_ix.get(tknq))\n",
      "c:\\Users\\nicho\\Dropbox\\Bancor_Protocol\\Github\\carbonbot\\resources\\NBTest\\fastlane_bot\\tools\\optimizer.py:1310: RuntimeWarning: invalid value encountered in scalar divide\n",
      "  price = get(p, tokens_ix.get(tknb)) / get(p, tokens_ix.get(tknq))\n",
      "c:\\Users\\nicho\\Dropbox\\Bancor_Protocol\\Github\\carbonbot\\resources\\NBTest\\fastlane_bot\\tools\\optimizer.py:1310: RuntimeWarning: divide by zero encountered in scalar divide\n",
      "  price = get(p, tokens_ix.get(tknb)) / get(p, tokens_ix.get(tknq))\n",
      "c:\\Users\\nicho\\Dropbox\\Bancor_Protocol\\Github\\carbonbot\\resources\\NBTest\\fastlane_bot\\tools\\optimizer.py:1310: RuntimeWarning: invalid value encountered in scalar divide\n",
      "  price = get(p, tokens_ix.get(tknb)) / get(p, tokens_ix.get(tknq))\n",
      "c:\\Users\\nicho\\Dropbox\\Bancor_Protocol\\Github\\carbonbot\\resources\\NBTest\\fastlane_bot\\tools\\optimizer.py:1310: RuntimeWarning: invalid value encountered in scalar divide\n",
      "  price = get(p, tokens_ix.get(tknb)) / get(p, tokens_ix.get(tknq))\n",
      "c:\\Users\\nicho\\Dropbox\\Bancor_Protocol\\Github\\carbonbot\\resources\\NBTest\\fastlane_bot\\tools\\optimizer.py:1419: RuntimeWarning: overflow encountered in exp\n",
      "  p = np.exp(plog10 * np.log(10))\n",
      "c:\\Users\\nicho\\Dropbox\\Bancor_Protocol\\Github\\carbonbot\\resources\\NBTest\\fastlane_bot\\tools\\optimizer.py:1299: RuntimeWarning: overflow encountered in exp\n",
      "  p = np.exp(p * np.log(10))\n",
      "c:\\Users\\nicho\\Dropbox\\Bancor_Protocol\\Github\\carbonbot\\resources\\NBTest\\fastlane_bot\\tools\\optimizer.py:1310: RuntimeWarning: invalid value encountered in scalar divide\n",
      "  price = get(p, tokens_ix.get(tknb)) / get(p, tokens_ix.get(tknq))\n",
      "c:\\Users\\nicho\\Dropbox\\Bancor_Protocol\\Github\\carbonbot\\resources\\NBTest\\fastlane_bot\\tools\\optimizer.py:1419: RuntimeWarning: overflow encountered in exp\n",
      "  p = np.exp(plog10 * np.log(10))\n",
      "c:\\Users\\nicho\\Dropbox\\Bancor_Protocol\\Github\\carbonbot\\resources\\NBTest\\fastlane_bot\\tools\\optimizer.py:1299: RuntimeWarning: overflow encountered in exp\n",
      "  p = np.exp(p * np.log(10))\n",
      "c:\\Users\\nicho\\Dropbox\\Bancor_Protocol\\Github\\carbonbot\\resources\\NBTest\\fastlane_bot\\tools\\optimizer.py:1310: RuntimeWarning: invalid value encountered in scalar divide\n",
      "  price = get(p, tokens_ix.get(tknb)) / get(p, tokens_ix.get(tknq))\n",
      "c:\\Users\\nicho\\Dropbox\\Bancor_Protocol\\Github\\carbonbot\\resources\\NBTest\\fastlane_bot\\tools\\optimizer.py:1310: RuntimeWarning: divide by zero encountered in scalar divide\n",
      "  price = get(p, tokens_ix.get(tknb)) / get(p, tokens_ix.get(tknq))\n",
      "c:\\Users\\nicho\\Dropbox\\Bancor_Protocol\\Github\\carbonbot\\resources\\NBTest\\fastlane_bot\\tools\\optimizer.py:1310: RuntimeWarning: invalid value encountered in scalar divide\n",
      "  price = get(p, tokens_ix.get(tknb)) / get(p, tokens_ix.get(tknq))\n",
      "c:\\Users\\nicho\\Dropbox\\Bancor_Protocol\\Github\\carbonbot\\resources\\NBTest\\fastlane_bot\\tools\\optimizer.py:1310: RuntimeWarning: invalid value encountered in scalar divide\n",
      "  price = get(p, tokens_ix.get(tknb)) / get(p, tokens_ix.get(tknq))\n",
      "c:\\Users\\nicho\\Dropbox\\Bancor_Protocol\\Github\\carbonbot\\resources\\NBTest\\fastlane_bot\\tools\\optimizer.py:1310: RuntimeWarning: divide by zero encountered in scalar divide\n",
      "  price = get(p, tokens_ix.get(tknb)) / get(p, tokens_ix.get(tknq))\n",
      "c:\\Users\\nicho\\Dropbox\\Bancor_Protocol\\Github\\carbonbot\\resources\\NBTest\\fastlane_bot\\tools\\optimizer.py:1310: RuntimeWarning: invalid value encountered in scalar divide\n",
      "  price = get(p, tokens_ix.get(tknb)) / get(p, tokens_ix.get(tknq))\n",
      "c:\\Users\\nicho\\Dropbox\\Bancor_Protocol\\Github\\carbonbot\\resources\\NBTest\\fastlane_bot\\tools\\optimizer.py:1310: RuntimeWarning: invalid value encountered in scalar divide\n",
      "  price = get(p, tokens_ix.get(tknb)) / get(p, tokens_ix.get(tknq))\n",
      "c:\\Users\\nicho\\Dropbox\\Bancor_Protocol\\Github\\carbonbot\\resources\\NBTest\\fastlane_bot\\tools\\optimizer.py:1310: RuntimeWarning: divide by zero encountered in scalar divide\n",
      "  price = get(p, tokens_ix.get(tknb)) / get(p, tokens_ix.get(tknq))\n",
      "c:\\Users\\nicho\\Dropbox\\Bancor_Protocol\\Github\\carbonbot\\resources\\NBTest\\fastlane_bot\\tools\\optimizer.py:1310: RuntimeWarning: invalid value encountered in scalar divide\n",
      "  price = get(p, tokens_ix.get(tknb)) / get(p, tokens_ix.get(tknq))\n",
      "c:\\Users\\nicho\\Dropbox\\Bancor_Protocol\\Github\\carbonbot\\resources\\NBTest\\fastlane_bot\\tools\\optimizer.py:1310: RuntimeWarning: invalid value encountered in scalar divide\n",
      "  price = get(p, tokens_ix.get(tknb)) / get(p, tokens_ix.get(tknq))\n",
      "c:\\Users\\nicho\\Dropbox\\Bancor_Protocol\\Github\\carbonbot\\resources\\NBTest\\fastlane_bot\\tools\\optimizer.py:1310: RuntimeWarning: divide by zero encountered in scalar divide\n",
      "  price = get(p, tokens_ix.get(tknb)) / get(p, tokens_ix.get(tknq))\n",
      "c:\\Users\\nicho\\Dropbox\\Bancor_Protocol\\Github\\carbonbot\\resources\\NBTest\\fastlane_bot\\tools\\optimizer.py:1310: RuntimeWarning: invalid value encountered in scalar divide\n",
      "  price = get(p, tokens_ix.get(tknb)) / get(p, tokens_ix.get(tknq))\n",
      "c:\\Users\\nicho\\Dropbox\\Bancor_Protocol\\Github\\carbonbot\\resources\\NBTest\\fastlane_bot\\tools\\optimizer.py:1310: RuntimeWarning: invalid value encountered in scalar divide\n",
      "  price = get(p, tokens_ix.get(tknb)) / get(p, tokens_ix.get(tknq))\n",
      "c:\\Users\\nicho\\Dropbox\\Bancor_Protocol\\Github\\carbonbot\\resources\\NBTest\\fastlane_bot\\tools\\optimizer.py:1310: RuntimeWarning: divide by zero encountered in scalar divide\n",
      "  price = get(p, tokens_ix.get(tknb)) / get(p, tokens_ix.get(tknq))\n",
      "c:\\Users\\nicho\\Dropbox\\Bancor_Protocol\\Github\\carbonbot\\resources\\NBTest\\fastlane_bot\\tools\\optimizer.py:1310: RuntimeWarning: invalid value encountered in scalar divide\n",
      "  price = get(p, tokens_ix.get(tknb)) / get(p, tokens_ix.get(tknq))\n",
      "c:\\Users\\nicho\\Dropbox\\Bancor_Protocol\\Github\\carbonbot\\resources\\NBTest\\fastlane_bot\\tools\\optimizer.py:1310: RuntimeWarning: invalid value encountered in scalar divide\n",
      "  price = get(p, tokens_ix.get(tknb)) / get(p, tokens_ix.get(tknq))\n",
      "c:\\Users\\nicho\\Dropbox\\Bancor_Protocol\\Github\\carbonbot\\resources\\NBTest\\fastlane_bot\\tools\\optimizer.py:1310: RuntimeWarning: divide by zero encountered in scalar divide\n",
      "  price = get(p, tokens_ix.get(tknb)) / get(p, tokens_ix.get(tknq))\n",
      "c:\\Users\\nicho\\Dropbox\\Bancor_Protocol\\Github\\carbonbot\\resources\\NBTest\\fastlane_bot\\tools\\optimizer.py:1310: RuntimeWarning: invalid value encountered in scalar divide\n",
      "  price = get(p, tokens_ix.get(tknb)) / get(p, tokens_ix.get(tknq))\n",
      "c:\\Users\\nicho\\Dropbox\\Bancor_Protocol\\Github\\carbonbot\\resources\\NBTest\\fastlane_bot\\tools\\optimizer.py:1310: RuntimeWarning: invalid value encountered in scalar divide\n",
      "  price = get(p, tokens_ix.get(tknb)) / get(p, tokens_ix.get(tknq))\n",
      "c:\\Users\\nicho\\Dropbox\\Bancor_Protocol\\Github\\carbonbot\\resources\\NBTest\\fastlane_bot\\tools\\optimizer.py:1310: RuntimeWarning: divide by zero encountered in scalar divide\n",
      "  price = get(p, tokens_ix.get(tknb)) / get(p, tokens_ix.get(tknq))\n",
      "c:\\Users\\nicho\\Dropbox\\Bancor_Protocol\\Github\\carbonbot\\resources\\NBTest\\fastlane_bot\\tools\\optimizer.py:1310: RuntimeWarning: invalid value encountered in scalar divide\n",
      "  price = get(p, tokens_ix.get(tknb)) / get(p, tokens_ix.get(tknq))\n",
      "c:\\Users\\nicho\\Dropbox\\Bancor_Protocol\\Github\\carbonbot\\resources\\NBTest\\fastlane_bot\\tools\\optimizer.py:1310: RuntimeWarning: invalid value encountered in scalar divide\n",
      "  price = get(p, tokens_ix.get(tknb)) / get(p, tokens_ix.get(tknq))\n",
      "c:\\Users\\nicho\\Dropbox\\Bancor_Protocol\\Github\\carbonbot\\resources\\NBTest\\fastlane_bot\\tools\\optimizer.py:1310: RuntimeWarning: divide by zero encountered in scalar divide\n",
      "  price = get(p, tokens_ix.get(tknb)) / get(p, tokens_ix.get(tknq))\n",
      "c:\\Users\\nicho\\Dropbox\\Bancor_Protocol\\Github\\carbonbot\\resources\\NBTest\\fastlane_bot\\tools\\optimizer.py:1310: RuntimeWarning: invalid value encountered in scalar divide\n",
      "  price = get(p, tokens_ix.get(tknb)) / get(p, tokens_ix.get(tknq))\n",
      "c:\\Users\\nicho\\Dropbox\\Bancor_Protocol\\Github\\carbonbot\\resources\\NBTest\\fastlane_bot\\tools\\optimizer.py:1310: RuntimeWarning: invalid value encountered in scalar divide\n",
      "  price = get(p, tokens_ix.get(tknb)) / get(p, tokens_ix.get(tknq))\n",
      "c:\\Users\\nicho\\Dropbox\\Bancor_Protocol\\Github\\carbonbot\\resources\\NBTest\\fastlane_bot\\tools\\optimizer.py:1310: RuntimeWarning: divide by zero encountered in scalar divide\n",
      "  price = get(p, tokens_ix.get(tknb)) / get(p, tokens_ix.get(tknq))\n",
      "c:\\Users\\nicho\\Dropbox\\Bancor_Protocol\\Github\\carbonbot\\resources\\NBTest\\fastlane_bot\\tools\\optimizer.py:1310: RuntimeWarning: invalid value encountered in scalar divide\n",
      "  price = get(p, tokens_ix.get(tknb)) / get(p, tokens_ix.get(tknq))\n",
      "c:\\Users\\nicho\\Dropbox\\Bancor_Protocol\\Github\\carbonbot\\resources\\NBTest\\fastlane_bot\\tools\\optimizer.py:1310: RuntimeWarning: invalid value encountered in scalar divide\n",
      "  price = get(p, tokens_ix.get(tknb)) / get(p, tokens_ix.get(tknq))\n",
      "c:\\Users\\nicho\\Dropbox\\Bancor_Protocol\\Github\\carbonbot\\resources\\NBTest\\fastlane_bot\\tools\\optimizer.py:1310: RuntimeWarning: divide by zero encountered in scalar divide\n",
      "  price = get(p, tokens_ix.get(tknb)) / get(p, tokens_ix.get(tknq))\n",
      "c:\\Users\\nicho\\Dropbox\\Bancor_Protocol\\Github\\carbonbot\\resources\\NBTest\\fastlane_bot\\tools\\optimizer.py:1310: RuntimeWarning: invalid value encountered in scalar divide\n",
      "  price = get(p, tokens_ix.get(tknb)) / get(p, tokens_ix.get(tknq))\n",
      "c:\\Users\\nicho\\Dropbox\\Bancor_Protocol\\Github\\carbonbot\\resources\\NBTest\\fastlane_bot\\tools\\optimizer.py:1310: RuntimeWarning: invalid value encountered in scalar divide\n",
      "  price = get(p, tokens_ix.get(tknb)) / get(p, tokens_ix.get(tknq))\n",
      "c:\\Users\\nicho\\Dropbox\\Bancor_Protocol\\Github\\carbonbot\\resources\\NBTest\\fastlane_bot\\tools\\optimizer.py:1419: RuntimeWarning: overflow encountered in exp\n",
      "  p = np.exp(plog10 * np.log(10))\n",
      "c:\\Users\\nicho\\Dropbox\\Bancor_Protocol\\Github\\carbonbot\\resources\\NBTest\\fastlane_bot\\tools\\optimizer.py:1299: RuntimeWarning: overflow encountered in exp\n",
      "  p = np.exp(p * np.log(10))\n",
      "c:\\Users\\nicho\\Dropbox\\Bancor_Protocol\\Github\\carbonbot\\resources\\NBTest\\fastlane_bot\\tools\\optimizer.py:1419: RuntimeWarning: overflow encountered in exp\n",
      "  p = np.exp(plog10 * np.log(10))\n",
      "c:\\Users\\nicho\\Dropbox\\Bancor_Protocol\\Github\\carbonbot\\resources\\NBTest\\fastlane_bot\\tools\\optimizer.py:1299: RuntimeWarning: overflow encountered in exp\n",
      "  p = np.exp(p * np.log(10))\n",
      "c:\\Users\\nicho\\Dropbox\\Bancor_Protocol\\Github\\carbonbot\\resources\\NBTest\\fastlane_bot\\tools\\optimizer.py:1419: RuntimeWarning: overflow encountered in exp\n",
      "  p = np.exp(plog10 * np.log(10))\n",
      "c:\\Users\\nicho\\Dropbox\\Bancor_Protocol\\Github\\carbonbot\\resources\\NBTest\\fastlane_bot\\tools\\optimizer.py:1299: RuntimeWarning: overflow encountered in exp\n",
      "  p = np.exp(p * np.log(10))\n",
      "c:\\Users\\nicho\\Dropbox\\Bancor_Protocol\\Github\\carbonbot\\resources\\NBTest\\fastlane_bot\\tools\\optimizer.py:1419: RuntimeWarning: overflow encountered in exp\n",
      "  p = np.exp(plog10 * np.log(10))\n",
      "c:\\Users\\nicho\\Dropbox\\Bancor_Protocol\\Github\\carbonbot\\resources\\NBTest\\fastlane_bot\\tools\\optimizer.py:1299: RuntimeWarning: overflow encountered in exp\n",
      "  p = np.exp(p * np.log(10))\n",
      "c:\\Users\\nicho\\Dropbox\\Bancor_Protocol\\Github\\carbonbot\\resources\\NBTest\\fastlane_bot\\tools\\optimizer.py:1419: RuntimeWarning: overflow encountered in exp\n",
      "  p = np.exp(plog10 * np.log(10))\n",
      "c:\\Users\\nicho\\Dropbox\\Bancor_Protocol\\Github\\carbonbot\\resources\\NBTest\\fastlane_bot\\tools\\optimizer.py:1299: RuntimeWarning: overflow encountered in exp\n",
      "  p = np.exp(p * np.log(10))\n",
      "c:\\Users\\nicho\\Dropbox\\Bancor_Protocol\\Github\\carbonbot\\resources\\NBTest\\fastlane_bot\\tools\\optimizer.py:1419: RuntimeWarning: overflow encountered in exp\n",
      "  p = np.exp(plog10 * np.log(10))\n",
      "c:\\Users\\nicho\\Dropbox\\Bancor_Protocol\\Github\\carbonbot\\resources\\NBTest\\fastlane_bot\\tools\\optimizer.py:1299: RuntimeWarning: overflow encountered in exp\n",
      "  p = np.exp(p * np.log(10))\n",
      "c:\\Users\\nicho\\Dropbox\\Bancor_Protocol\\Github\\carbonbot\\resources\\NBTest\\fastlane_bot\\tools\\optimizer.py:1419: RuntimeWarning: overflow encountered in exp\n",
      "  p = np.exp(plog10 * np.log(10))\n",
      "c:\\Users\\nicho\\Dropbox\\Bancor_Protocol\\Github\\carbonbot\\resources\\NBTest\\fastlane_bot\\tools\\optimizer.py:1299: RuntimeWarning: overflow encountered in exp\n",
      "  p = np.exp(p * np.log(10))\n",
      "c:\\Users\\nicho\\Dropbox\\Bancor_Protocol\\Github\\carbonbot\\resources\\NBTest\\fastlane_bot\\tools\\optimizer.py:1310: RuntimeWarning: divide by zero encountered in scalar divide\n",
      "  price = get(p, tokens_ix.get(tknb)) / get(p, tokens_ix.get(tknq))\n",
      "c:\\Users\\nicho\\Dropbox\\Bancor_Protocol\\Github\\carbonbot\\resources\\NBTest\\fastlane_bot\\tools\\optimizer.py:1310: RuntimeWarning: invalid value encountered in scalar divide\n",
      "  price = get(p, tokens_ix.get(tknb)) / get(p, tokens_ix.get(tknq))\n",
      "c:\\Users\\nicho\\Dropbox\\Bancor_Protocol\\Github\\carbonbot\\resources\\NBTest\\fastlane_bot\\tools\\optimizer.py:1310: RuntimeWarning: invalid value encountered in scalar divide\n",
      "  price = get(p, tokens_ix.get(tknb)) / get(p, tokens_ix.get(tknq))\n",
      "c:\\Users\\nicho\\Dropbox\\Bancor_Protocol\\Github\\carbonbot\\resources\\NBTest\\fastlane_bot\\tools\\optimizer.py:1419: RuntimeWarning: overflow encountered in exp\n",
      "  p = np.exp(plog10 * np.log(10))\n",
      "c:\\Users\\nicho\\Dropbox\\Bancor_Protocol\\Github\\carbonbot\\resources\\NBTest\\fastlane_bot\\tools\\optimizer.py:1299: RuntimeWarning: overflow encountered in exp\n",
      "  p = np.exp(p * np.log(10))\n",
      "c:\\Users\\nicho\\Dropbox\\Bancor_Protocol\\Github\\carbonbot\\resources\\NBTest\\fastlane_bot\\tools\\optimizer.py:1310: RuntimeWarning: invalid value encountered in scalar divide\n",
      "  price = get(p, tokens_ix.get(tknb)) / get(p, tokens_ix.get(tknq))\n",
      "c:\\Users\\nicho\\Dropbox\\Bancor_Protocol\\Github\\carbonbot\\resources\\NBTest\\fastlane_bot\\tools\\optimizer.py:1419: RuntimeWarning: overflow encountered in exp\n",
      "  p = np.exp(plog10 * np.log(10))\n",
      "c:\\Users\\nicho\\Dropbox\\Bancor_Protocol\\Github\\carbonbot\\resources\\NBTest\\fastlane_bot\\tools\\optimizer.py:1299: RuntimeWarning: overflow encountered in exp\n",
      "  p = np.exp(p * np.log(10))\n",
      "c:\\Users\\nicho\\Dropbox\\Bancor_Protocol\\Github\\carbonbot\\resources\\NBTest\\fastlane_bot\\tools\\optimizer.py:1310: RuntimeWarning: invalid value encountered in scalar divide\n",
      "  price = get(p, tokens_ix.get(tknb)) / get(p, tokens_ix.get(tknq))\n",
      "c:\\Users\\nicho\\Dropbox\\Bancor_Protocol\\Github\\carbonbot\\resources\\NBTest\\fastlane_bot\\tools\\optimizer.py:1310: RuntimeWarning: divide by zero encountered in scalar divide\n",
      "  price = get(p, tokens_ix.get(tknb)) / get(p, tokens_ix.get(tknq))\n",
      "c:\\Users\\nicho\\Dropbox\\Bancor_Protocol\\Github\\carbonbot\\resources\\NBTest\\fastlane_bot\\tools\\optimizer.py:1310: RuntimeWarning: invalid value encountered in scalar divide\n",
      "  price = get(p, tokens_ix.get(tknb)) / get(p, tokens_ix.get(tknq))\n",
      "c:\\Users\\nicho\\Dropbox\\Bancor_Protocol\\Github\\carbonbot\\resources\\NBTest\\fastlane_bot\\tools\\optimizer.py:1310: RuntimeWarning: invalid value encountered in scalar divide\n",
      "  price = get(p, tokens_ix.get(tknb)) / get(p, tokens_ix.get(tknq))\n",
      "c:\\Users\\nicho\\Dropbox\\Bancor_Protocol\\Github\\carbonbot\\resources\\NBTest\\fastlane_bot\\tools\\optimizer.py:1310: RuntimeWarning: divide by zero encountered in scalar divide\n",
      "  price = get(p, tokens_ix.get(tknb)) / get(p, tokens_ix.get(tknq))\n",
      "c:\\Users\\nicho\\Dropbox\\Bancor_Protocol\\Github\\carbonbot\\resources\\NBTest\\fastlane_bot\\tools\\optimizer.py:1310: RuntimeWarning: invalid value encountered in scalar divide\n",
      "  price = get(p, tokens_ix.get(tknb)) / get(p, tokens_ix.get(tknq))\n",
      "c:\\Users\\nicho\\Dropbox\\Bancor_Protocol\\Github\\carbonbot\\resources\\NBTest\\fastlane_bot\\tools\\optimizer.py:1310: RuntimeWarning: invalid value encountered in scalar divide\n",
      "  price = get(p, tokens_ix.get(tknb)) / get(p, tokens_ix.get(tknq))\n",
      "c:\\Users\\nicho\\Dropbox\\Bancor_Protocol\\Github\\carbonbot\\resources\\NBTest\\fastlane_bot\\tools\\optimizer.py:1419: RuntimeWarning: overflow encountered in exp\n",
      "  p = np.exp(plog10 * np.log(10))\n",
      "c:\\Users\\nicho\\Dropbox\\Bancor_Protocol\\Github\\carbonbot\\resources\\NBTest\\fastlane_bot\\tools\\optimizer.py:1299: RuntimeWarning: overflow encountered in exp\n",
      "  p = np.exp(p * np.log(10))\n",
      "c:\\Users\\nicho\\Dropbox\\Bancor_Protocol\\Github\\carbonbot\\resources\\NBTest\\fastlane_bot\\tools\\optimizer.py:1310: RuntimeWarning: invalid value encountered in scalar divide\n",
      "  price = get(p, tokens_ix.get(tknb)) / get(p, tokens_ix.get(tknq))\n",
      "c:\\Users\\nicho\\Dropbox\\Bancor_Protocol\\Github\\carbonbot\\resources\\NBTest\\fastlane_bot\\tools\\optimizer.py:1419: RuntimeWarning: overflow encountered in exp\n",
      "  p = np.exp(plog10 * np.log(10))\n",
      "c:\\Users\\nicho\\Dropbox\\Bancor_Protocol\\Github\\carbonbot\\resources\\NBTest\\fastlane_bot\\tools\\optimizer.py:1299: RuntimeWarning: overflow encountered in exp\n",
      "  p = np.exp(p * np.log(10))\n",
      "c:\\Users\\nicho\\Dropbox\\Bancor_Protocol\\Github\\carbonbot\\resources\\NBTest\\fastlane_bot\\tools\\optimizer.py:1310: RuntimeWarning: invalid value encountered in scalar divide\n",
      "  price = get(p, tokens_ix.get(tknb)) / get(p, tokens_ix.get(tknq))\n",
      "c:\\Users\\nicho\\Dropbox\\Bancor_Protocol\\Github\\carbonbot\\resources\\NBTest\\fastlane_bot\\tools\\optimizer.py:1310: RuntimeWarning: divide by zero encountered in scalar divide\n",
      "  price = get(p, tokens_ix.get(tknb)) / get(p, tokens_ix.get(tknq))\n",
      "c:\\Users\\nicho\\Dropbox\\Bancor_Protocol\\Github\\carbonbot\\resources\\NBTest\\fastlane_bot\\tools\\optimizer.py:1310: RuntimeWarning: invalid value encountered in scalar divide\n",
      "  price = get(p, tokens_ix.get(tknb)) / get(p, tokens_ix.get(tknq))\n",
      "c:\\Users\\nicho\\Dropbox\\Bancor_Protocol\\Github\\carbonbot\\resources\\NBTest\\fastlane_bot\\tools\\optimizer.py:1310: RuntimeWarning: invalid value encountered in scalar divide\n",
      "  price = get(p, tokens_ix.get(tknb)) / get(p, tokens_ix.get(tknq))\n",
      "c:\\Users\\nicho\\Dropbox\\Bancor_Protocol\\Github\\carbonbot\\resources\\NBTest\\fastlane_bot\\tools\\optimizer.py:1310: RuntimeWarning: divide by zero encountered in scalar divide\n",
      "  price = get(p, tokens_ix.get(tknb)) / get(p, tokens_ix.get(tknq))\n",
      "c:\\Users\\nicho\\Dropbox\\Bancor_Protocol\\Github\\carbonbot\\resources\\NBTest\\fastlane_bot\\tools\\optimizer.py:1310: RuntimeWarning: invalid value encountered in scalar divide\n",
      "  price = get(p, tokens_ix.get(tknb)) / get(p, tokens_ix.get(tknq))\n",
      "c:\\Users\\nicho\\Dropbox\\Bancor_Protocol\\Github\\carbonbot\\resources\\NBTest\\fastlane_bot\\tools\\optimizer.py:1310: RuntimeWarning: invalid value encountered in scalar divide\n",
      "  price = get(p, tokens_ix.get(tknb)) / get(p, tokens_ix.get(tknq))\n",
      "c:\\Users\\nicho\\Dropbox\\Bancor_Protocol\\Github\\carbonbot\\resources\\NBTest\\fastlane_bot\\tools\\optimizer.py:1310: RuntimeWarning: divide by zero encountered in scalar divide\n",
      "  price = get(p, tokens_ix.get(tknb)) / get(p, tokens_ix.get(tknq))\n",
      "c:\\Users\\nicho\\Dropbox\\Bancor_Protocol\\Github\\carbonbot\\resources\\NBTest\\fastlane_bot\\tools\\optimizer.py:1310: RuntimeWarning: invalid value encountered in scalar divide\n",
      "  price = get(p, tokens_ix.get(tknb)) / get(p, tokens_ix.get(tknq))\n",
      "c:\\Users\\nicho\\Dropbox\\Bancor_Protocol\\Github\\carbonbot\\resources\\NBTest\\fastlane_bot\\tools\\optimizer.py:1310: RuntimeWarning: invalid value encountered in scalar divide\n",
      "  price = get(p, tokens_ix.get(tknb)) / get(p, tokens_ix.get(tknq))\n",
      "c:\\Users\\nicho\\Dropbox\\Bancor_Protocol\\Github\\carbonbot\\resources\\NBTest\\fastlane_bot\\tools\\optimizer.py:1310: RuntimeWarning: divide by zero encountered in scalar divide\n",
      "  price = get(p, tokens_ix.get(tknb)) / get(p, tokens_ix.get(tknq))\n",
      "c:\\Users\\nicho\\Dropbox\\Bancor_Protocol\\Github\\carbonbot\\resources\\NBTest\\fastlane_bot\\tools\\optimizer.py:1310: RuntimeWarning: invalid value encountered in scalar divide\n",
      "  price = get(p, tokens_ix.get(tknb)) / get(p, tokens_ix.get(tknq))\n",
      "c:\\Users\\nicho\\Dropbox\\Bancor_Protocol\\Github\\carbonbot\\resources\\NBTest\\fastlane_bot\\tools\\optimizer.py:1310: RuntimeWarning: invalid value encountered in scalar divide\n",
      "  price = get(p, tokens_ix.get(tknb)) / get(p, tokens_ix.get(tknq))\n",
      "c:\\Users\\nicho\\Dropbox\\Bancor_Protocol\\Github\\carbonbot\\resources\\NBTest\\fastlane_bot\\tools\\optimizer.py:1310: RuntimeWarning: divide by zero encountered in scalar divide\n",
      "  price = get(p, tokens_ix.get(tknb)) / get(p, tokens_ix.get(tknq))\n",
      "c:\\Users\\nicho\\Dropbox\\Bancor_Protocol\\Github\\carbonbot\\resources\\NBTest\\fastlane_bot\\tools\\optimizer.py:1310: RuntimeWarning: invalid value encountered in scalar divide\n",
      "  price = get(p, tokens_ix.get(tknb)) / get(p, tokens_ix.get(tknq))\n",
      "c:\\Users\\nicho\\Dropbox\\Bancor_Protocol\\Github\\carbonbot\\resources\\NBTest\\fastlane_bot\\tools\\optimizer.py:1310: RuntimeWarning: invalid value encountered in scalar divide\n",
      "  price = get(p, tokens_ix.get(tknb)) / get(p, tokens_ix.get(tknq))\n",
      "c:\\Users\\nicho\\Dropbox\\Bancor_Protocol\\Github\\carbonbot\\resources\\NBTest\\fastlane_bot\\tools\\optimizer.py:1419: RuntimeWarning: overflow encountered in exp\n",
      "  p = np.exp(plog10 * np.log(10))\n",
      "c:\\Users\\nicho\\Dropbox\\Bancor_Protocol\\Github\\carbonbot\\resources\\NBTest\\fastlane_bot\\tools\\optimizer.py:1299: RuntimeWarning: overflow encountered in exp\n",
      "  p = np.exp(p * np.log(10))\n",
      "c:\\Users\\nicho\\Dropbox\\Bancor_Protocol\\Github\\carbonbot\\resources\\NBTest\\fastlane_bot\\tools\\optimizer.py:1310: RuntimeWarning: invalid value encountered in scalar divide\n",
      "  price = get(p, tokens_ix.get(tknb)) / get(p, tokens_ix.get(tknq))\n",
      "c:\\Users\\nicho\\Dropbox\\Bancor_Protocol\\Github\\carbonbot\\resources\\NBTest\\fastlane_bot\\tools\\optimizer.py:1419: RuntimeWarning: overflow encountered in exp\n",
      "  p = np.exp(plog10 * np.log(10))\n",
      "c:\\Users\\nicho\\Dropbox\\Bancor_Protocol\\Github\\carbonbot\\resources\\NBTest\\fastlane_bot\\tools\\optimizer.py:1299: RuntimeWarning: overflow encountered in exp\n",
      "  p = np.exp(p * np.log(10))\n",
      "c:\\Users\\nicho\\Dropbox\\Bancor_Protocol\\Github\\carbonbot\\resources\\NBTest\\fastlane_bot\\tools\\optimizer.py:1310: RuntimeWarning: invalid value encountered in scalar divide\n",
      "  price = get(p, tokens_ix.get(tknb)) / get(p, tokens_ix.get(tknq))\n",
      "c:\\Users\\nicho\\Dropbox\\Bancor_Protocol\\Github\\carbonbot\\resources\\NBTest\\fastlane_bot\\tools\\optimizer.py:1310: RuntimeWarning: divide by zero encountered in scalar divide\n",
      "  price = get(p, tokens_ix.get(tknb)) / get(p, tokens_ix.get(tknq))\n",
      "c:\\Users\\nicho\\Dropbox\\Bancor_Protocol\\Github\\carbonbot\\resources\\NBTest\\fastlane_bot\\tools\\optimizer.py:1310: RuntimeWarning: invalid value encountered in scalar divide\n",
      "  price = get(p, tokens_ix.get(tknb)) / get(p, tokens_ix.get(tknq))\n",
      "c:\\Users\\nicho\\Dropbox\\Bancor_Protocol\\Github\\carbonbot\\resources\\NBTest\\fastlane_bot\\tools\\optimizer.py:1310: RuntimeWarning: invalid value encountered in scalar divide\n",
      "  price = get(p, tokens_ix.get(tknb)) / get(p, tokens_ix.get(tknq))\n",
      "c:\\Users\\nicho\\Dropbox\\Bancor_Protocol\\Github\\carbonbot\\resources\\NBTest\\fastlane_bot\\tools\\optimizer.py:1419: RuntimeWarning: overflow encountered in exp\n",
      "  p = np.exp(plog10 * np.log(10))\n",
      "c:\\Users\\nicho\\Dropbox\\Bancor_Protocol\\Github\\carbonbot\\resources\\NBTest\\fastlane_bot\\tools\\optimizer.py:1299: RuntimeWarning: overflow encountered in exp\n",
      "  p = np.exp(p * np.log(10))\n",
      "c:\\Users\\nicho\\Dropbox\\Bancor_Protocol\\Github\\carbonbot\\resources\\NBTest\\fastlane_bot\\tools\\optimizer.py:1310: RuntimeWarning: invalid value encountered in scalar divide\n",
      "  price = get(p, tokens_ix.get(tknb)) / get(p, tokens_ix.get(tknq))\n",
      "c:\\Users\\nicho\\Dropbox\\Bancor_Protocol\\Github\\carbonbot\\resources\\NBTest\\fastlane_bot\\tools\\optimizer.py:1419: RuntimeWarning: overflow encountered in exp\n",
      "  p = np.exp(plog10 * np.log(10))\n",
      "c:\\Users\\nicho\\Dropbox\\Bancor_Protocol\\Github\\carbonbot\\resources\\NBTest\\fastlane_bot\\tools\\optimizer.py:1299: RuntimeWarning: overflow encountered in exp\n",
      "  p = np.exp(p * np.log(10))\n",
      "c:\\Users\\nicho\\Dropbox\\Bancor_Protocol\\Github\\carbonbot\\resources\\NBTest\\fastlane_bot\\tools\\optimizer.py:1310: RuntimeWarning: invalid value encountered in scalar divide\n",
      "  price = get(p, tokens_ix.get(tknb)) / get(p, tokens_ix.get(tknq))\n",
      "c:\\Users\\nicho\\Dropbox\\Bancor_Protocol\\Github\\carbonbot\\resources\\NBTest\\fastlane_bot\\tools\\optimizer.py:1310: RuntimeWarning: divide by zero encountered in scalar divide\n",
      "  price = get(p, tokens_ix.get(tknb)) / get(p, tokens_ix.get(tknq))\n",
      "c:\\Users\\nicho\\Dropbox\\Bancor_Protocol\\Github\\carbonbot\\resources\\NBTest\\fastlane_bot\\tools\\optimizer.py:1310: RuntimeWarning: invalid value encountered in scalar divide\n",
      "  price = get(p, tokens_ix.get(tknb)) / get(p, tokens_ix.get(tknq))\n",
      "c:\\Users\\nicho\\Dropbox\\Bancor_Protocol\\Github\\carbonbot\\resources\\NBTest\\fastlane_bot\\tools\\optimizer.py:1310: RuntimeWarning: invalid value encountered in scalar divide\n",
      "  price = get(p, tokens_ix.get(tknb)) / get(p, tokens_ix.get(tknq))\n",
      "c:\\Users\\nicho\\Dropbox\\Bancor_Protocol\\Github\\carbonbot\\resources\\NBTest\\fastlane_bot\\tools\\optimizer.py:1310: RuntimeWarning: divide by zero encountered in scalar divide\n",
      "  price = get(p, tokens_ix.get(tknb)) / get(p, tokens_ix.get(tknq))\n",
      "c:\\Users\\nicho\\Dropbox\\Bancor_Protocol\\Github\\carbonbot\\resources\\NBTest\\fastlane_bot\\tools\\optimizer.py:1310: RuntimeWarning: invalid value encountered in scalar divide\n",
      "  price = get(p, tokens_ix.get(tknb)) / get(p, tokens_ix.get(tknq))\n",
      "c:\\Users\\nicho\\Dropbox\\Bancor_Protocol\\Github\\carbonbot\\resources\\NBTest\\fastlane_bot\\tools\\optimizer.py:1310: RuntimeWarning: invalid value encountered in scalar divide\n",
      "  price = get(p, tokens_ix.get(tknb)) / get(p, tokens_ix.get(tknq))\n",
      "c:\\Users\\nicho\\Dropbox\\Bancor_Protocol\\Github\\carbonbot\\resources\\NBTest\\fastlane_bot\\tools\\optimizer.py:1310: RuntimeWarning: divide by zero encountered in scalar divide\n",
      "  price = get(p, tokens_ix.get(tknb)) / get(p, tokens_ix.get(tknq))\n",
      "c:\\Users\\nicho\\Dropbox\\Bancor_Protocol\\Github\\carbonbot\\resources\\NBTest\\fastlane_bot\\tools\\optimizer.py:1310: RuntimeWarning: invalid value encountered in scalar divide\n",
      "  price = get(p, tokens_ix.get(tknb)) / get(p, tokens_ix.get(tknq))\n",
      "c:\\Users\\nicho\\Dropbox\\Bancor_Protocol\\Github\\carbonbot\\resources\\NBTest\\fastlane_bot\\tools\\optimizer.py:1310: RuntimeWarning: invalid value encountered in scalar divide\n",
      "  price = get(p, tokens_ix.get(tknb)) / get(p, tokens_ix.get(tknq))\n",
      "c:\\Users\\nicho\\Dropbox\\Bancor_Protocol\\Github\\carbonbot\\resources\\NBTest\\fastlane_bot\\tools\\optimizer.py:1310: RuntimeWarning: divide by zero encountered in scalar divide\n",
      "  price = get(p, tokens_ix.get(tknb)) / get(p, tokens_ix.get(tknq))\n",
      "c:\\Users\\nicho\\Dropbox\\Bancor_Protocol\\Github\\carbonbot\\resources\\NBTest\\fastlane_bot\\tools\\optimizer.py:1310: RuntimeWarning: invalid value encountered in scalar divide\n",
      "  price = get(p, tokens_ix.get(tknb)) / get(p, tokens_ix.get(tknq))\n",
      "c:\\Users\\nicho\\Dropbox\\Bancor_Protocol\\Github\\carbonbot\\resources\\NBTest\\fastlane_bot\\tools\\optimizer.py:1310: RuntimeWarning: invalid value encountered in scalar divide\n",
      "  price = get(p, tokens_ix.get(tknb)) / get(p, tokens_ix.get(tknq))\n",
      "c:\\Users\\nicho\\Dropbox\\Bancor_Protocol\\Github\\carbonbot\\resources\\NBTest\\fastlane_bot\\tools\\optimizer.py:1419: RuntimeWarning: overflow encountered in exp\n",
      "  p = np.exp(plog10 * np.log(10))\n",
      "c:\\Users\\nicho\\Dropbox\\Bancor_Protocol\\Github\\carbonbot\\resources\\NBTest\\fastlane_bot\\tools\\optimizer.py:1299: RuntimeWarning: overflow encountered in exp\n",
      "  p = np.exp(p * np.log(10))\n",
      "c:\\Users\\nicho\\Dropbox\\Bancor_Protocol\\Github\\carbonbot\\resources\\NBTest\\fastlane_bot\\tools\\optimizer.py:1419: RuntimeWarning: overflow encountered in exp\n",
      "  p = np.exp(plog10 * np.log(10))\n",
      "c:\\Users\\nicho\\Dropbox\\Bancor_Protocol\\Github\\carbonbot\\resources\\NBTest\\fastlane_bot\\tools\\optimizer.py:1299: RuntimeWarning: overflow encountered in exp\n",
      "  p = np.exp(p * np.log(10))\n",
      "c:\\Users\\nicho\\Dropbox\\Bancor_Protocol\\Github\\carbonbot\\resources\\NBTest\\fastlane_bot\\tools\\optimizer.py:1419: RuntimeWarning: overflow encountered in exp\n",
      "  p = np.exp(plog10 * np.log(10))\n",
      "c:\\Users\\nicho\\Dropbox\\Bancor_Protocol\\Github\\carbonbot\\resources\\NBTest\\fastlane_bot\\tools\\optimizer.py:1299: RuntimeWarning: overflow encountered in exp\n",
      "  p = np.exp(p * np.log(10))\n",
      "c:\\Users\\nicho\\Dropbox\\Bancor_Protocol\\Github\\carbonbot\\resources\\NBTest\\fastlane_bot\\tools\\optimizer.py:1419: RuntimeWarning: overflow encountered in exp\n",
      "  p = np.exp(plog10 * np.log(10))\n",
      "c:\\Users\\nicho\\Dropbox\\Bancor_Protocol\\Github\\carbonbot\\resources\\NBTest\\fastlane_bot\\tools\\optimizer.py:1299: RuntimeWarning: overflow encountered in exp\n",
      "  p = np.exp(p * np.log(10))\n",
      "c:\\Users\\nicho\\Dropbox\\Bancor_Protocol\\Github\\carbonbot\\resources\\NBTest\\fastlane_bot\\tools\\optimizer.py:1419: RuntimeWarning: overflow encountered in exp\n",
      "  p = np.exp(plog10 * np.log(10))\n",
      "c:\\Users\\nicho\\Dropbox\\Bancor_Protocol\\Github\\carbonbot\\resources\\NBTest\\fastlane_bot\\tools\\optimizer.py:1299: RuntimeWarning: overflow encountered in exp\n",
      "  p = np.exp(p * np.log(10))\n",
      "c:\\Users\\nicho\\Dropbox\\Bancor_Protocol\\Github\\carbonbot\\resources\\NBTest\\fastlane_bot\\tools\\optimizer.py:1419: RuntimeWarning: overflow encountered in exp\n",
      "  p = np.exp(plog10 * np.log(10))\n",
      "c:\\Users\\nicho\\Dropbox\\Bancor_Protocol\\Github\\carbonbot\\resources\\NBTest\\fastlane_bot\\tools\\optimizer.py:1299: RuntimeWarning: overflow encountered in exp\n",
      "  p = np.exp(p * np.log(10))\n",
      "c:\\Users\\nicho\\Dropbox\\Bancor_Protocol\\Github\\carbonbot\\resources\\NBTest\\fastlane_bot\\tools\\optimizer.py:1419: RuntimeWarning: overflow encountered in exp\n",
      "  p = np.exp(plog10 * np.log(10))\n",
      "c:\\Users\\nicho\\Dropbox\\Bancor_Protocol\\Github\\carbonbot\\resources\\NBTest\\fastlane_bot\\tools\\optimizer.py:1299: RuntimeWarning: overflow encountered in exp\n",
      "  p = np.exp(p * np.log(10))\n",
      "c:\\Users\\nicho\\Dropbox\\Bancor_Protocol\\Github\\carbonbot\\resources\\NBTest\\fastlane_bot\\tools\\optimizer.py:1419: RuntimeWarning: overflow encountered in exp\n",
      "  p = np.exp(plog10 * np.log(10))\n",
      "c:\\Users\\nicho\\Dropbox\\Bancor_Protocol\\Github\\carbonbot\\resources\\NBTest\\fastlane_bot\\tools\\optimizer.py:1299: RuntimeWarning: overflow encountered in exp\n",
      "  p = np.exp(p * np.log(10))\n",
      "c:\\Users\\nicho\\Dropbox\\Bancor_Protocol\\Github\\carbonbot\\resources\\NBTest\\fastlane_bot\\tools\\optimizer.py:1419: RuntimeWarning: overflow encountered in exp\n",
      "  p = np.exp(plog10 * np.log(10))\n",
      "c:\\Users\\nicho\\Dropbox\\Bancor_Protocol\\Github\\carbonbot\\resources\\NBTest\\fastlane_bot\\tools\\optimizer.py:1299: RuntimeWarning: overflow encountered in exp\n",
      "  p = np.exp(p * np.log(10))\n",
      "c:\\Users\\nicho\\Dropbox\\Bancor_Protocol\\Github\\carbonbot\\resources\\NBTest\\fastlane_bot\\tools\\optimizer.py:1419: RuntimeWarning: overflow encountered in exp\n",
      "  p = np.exp(plog10 * np.log(10))\n",
      "c:\\Users\\nicho\\Dropbox\\Bancor_Protocol\\Github\\carbonbot\\resources\\NBTest\\fastlane_bot\\tools\\optimizer.py:1299: RuntimeWarning: overflow encountered in exp\n",
      "  p = np.exp(p * np.log(10))\n",
      "c:\\Users\\nicho\\Dropbox\\Bancor_Protocol\\Github\\carbonbot\\resources\\NBTest\\fastlane_bot\\tools\\optimizer.py:1419: RuntimeWarning: overflow encountered in exp\n",
      "  p = np.exp(plog10 * np.log(10))\n",
      "c:\\Users\\nicho\\Dropbox\\Bancor_Protocol\\Github\\carbonbot\\resources\\NBTest\\fastlane_bot\\tools\\optimizer.py:1299: RuntimeWarning: overflow encountered in exp\n",
      "  p = np.exp(p * np.log(10))\n",
      "c:\\Users\\nicho\\Dropbox\\Bancor_Protocol\\Github\\carbonbot\\resources\\NBTest\\fastlane_bot\\tools\\optimizer.py:1419: RuntimeWarning: overflow encountered in exp\n",
      "  p = np.exp(plog10 * np.log(10))\n",
      "c:\\Users\\nicho\\Dropbox\\Bancor_Protocol\\Github\\carbonbot\\resources\\NBTest\\fastlane_bot\\tools\\optimizer.py:1299: RuntimeWarning: overflow encountered in exp\n",
      "  p = np.exp(p * np.log(10))\n",
      "c:\\Users\\nicho\\Dropbox\\Bancor_Protocol\\Github\\carbonbot\\resources\\NBTest\\fastlane_bot\\tools\\optimizer.py:1419: RuntimeWarning: overflow encountered in exp\n",
      "  p = np.exp(plog10 * np.log(10))\n",
      "c:\\Users\\nicho\\Dropbox\\Bancor_Protocol\\Github\\carbonbot\\resources\\NBTest\\fastlane_bot\\tools\\optimizer.py:1299: RuntimeWarning: overflow encountered in exp\n",
      "  p = np.exp(p * np.log(10))\n",
      "c:\\Users\\nicho\\Dropbox\\Bancor_Protocol\\Github\\carbonbot\\resources\\NBTest\\fastlane_bot\\tools\\optimizer.py:1419: RuntimeWarning: overflow encountered in exp\n",
      "  p = np.exp(plog10 * np.log(10))\n",
      "c:\\Users\\nicho\\Dropbox\\Bancor_Protocol\\Github\\carbonbot\\resources\\NBTest\\fastlane_bot\\tools\\optimizer.py:1299: RuntimeWarning: overflow encountered in exp\n",
      "  p = np.exp(p * np.log(10))\n",
      "c:\\Users\\nicho\\Dropbox\\Bancor_Protocol\\Github\\carbonbot\\resources\\NBTest\\fastlane_bot\\tools\\optimizer.py:1419: RuntimeWarning: overflow encountered in exp\n",
      "  p = np.exp(plog10 * np.log(10))\n",
      "c:\\Users\\nicho\\Dropbox\\Bancor_Protocol\\Github\\carbonbot\\resources\\NBTest\\fastlane_bot\\tools\\optimizer.py:1299: RuntimeWarning: overflow encountered in exp\n",
      "  p = np.exp(p * np.log(10))\n",
      "c:\\Users\\nicho\\Dropbox\\Bancor_Protocol\\Github\\carbonbot\\resources\\NBTest\\fastlane_bot\\tools\\optimizer.py:1419: RuntimeWarning: overflow encountered in exp\n",
      "  p = np.exp(plog10 * np.log(10))\n",
      "c:\\Users\\nicho\\Dropbox\\Bancor_Protocol\\Github\\carbonbot\\resources\\NBTest\\fastlane_bot\\tools\\optimizer.py:1299: RuntimeWarning: overflow encountered in exp\n",
      "  p = np.exp(p * np.log(10))\n",
      "c:\\Users\\nicho\\Dropbox\\Bancor_Protocol\\Github\\carbonbot\\resources\\NBTest\\fastlane_bot\\tools\\optimizer.py:1419: RuntimeWarning: overflow encountered in exp\n",
      "  p = np.exp(plog10 * np.log(10))\n",
      "c:\\Users\\nicho\\Dropbox\\Bancor_Protocol\\Github\\carbonbot\\resources\\NBTest\\fastlane_bot\\tools\\optimizer.py:1299: RuntimeWarning: overflow encountered in exp\n",
      "  p = np.exp(p * np.log(10))\n",
      "c:\\Users\\nicho\\Dropbox\\Bancor_Protocol\\Github\\carbonbot\\resources\\NBTest\\fastlane_bot\\tools\\optimizer.py:1419: RuntimeWarning: overflow encountered in exp\n",
      "  p = np.exp(plog10 * np.log(10))\n",
      "c:\\Users\\nicho\\Dropbox\\Bancor_Protocol\\Github\\carbonbot\\resources\\NBTest\\fastlane_bot\\tools\\optimizer.py:1299: RuntimeWarning: overflow encountered in exp\n",
      "  p = np.exp(p * np.log(10))\n",
      "c:\\Users\\nicho\\Dropbox\\Bancor_Protocol\\Github\\carbonbot\\resources\\NBTest\\fastlane_bot\\tools\\optimizer.py:1419: RuntimeWarning: overflow encountered in exp\n",
      "  p = np.exp(plog10 * np.log(10))\n",
      "c:\\Users\\nicho\\Dropbox\\Bancor_Protocol\\Github\\carbonbot\\resources\\NBTest\\fastlane_bot\\tools\\optimizer.py:1299: RuntimeWarning: overflow encountered in exp\n",
      "  p = np.exp(p * np.log(10))\n",
      "c:\\Users\\nicho\\Dropbox\\Bancor_Protocol\\Github\\carbonbot\\resources\\NBTest\\fastlane_bot\\tools\\optimizer.py:1419: RuntimeWarning: overflow encountered in exp\n",
      "  p = np.exp(plog10 * np.log(10))\n",
      "c:\\Users\\nicho\\Dropbox\\Bancor_Protocol\\Github\\carbonbot\\resources\\NBTest\\fastlane_bot\\tools\\optimizer.py:1299: RuntimeWarning: overflow encountered in exp\n",
      "  p = np.exp(p * np.log(10))\n",
      "c:\\Users\\nicho\\Dropbox\\Bancor_Protocol\\Github\\carbonbot\\resources\\NBTest\\fastlane_bot\\tools\\optimizer.py:1419: RuntimeWarning: overflow encountered in exp\n",
      "  p = np.exp(plog10 * np.log(10))\n",
      "c:\\Users\\nicho\\Dropbox\\Bancor_Protocol\\Github\\carbonbot\\resources\\NBTest\\fastlane_bot\\tools\\optimizer.py:1299: RuntimeWarning: overflow encountered in exp\n",
      "  p = np.exp(p * np.log(10))\n",
      "c:\\Users\\nicho\\Dropbox\\Bancor_Protocol\\Github\\carbonbot\\resources\\NBTest\\fastlane_bot\\tools\\optimizer.py:1419: RuntimeWarning: overflow encountered in exp\n",
      "  p = np.exp(plog10 * np.log(10))\n",
      "c:\\Users\\nicho\\Dropbox\\Bancor_Protocol\\Github\\carbonbot\\resources\\NBTest\\fastlane_bot\\tools\\optimizer.py:1299: RuntimeWarning: overflow encountered in exp\n",
      "  p = np.exp(p * np.log(10))\n",
      "c:\\Users\\nicho\\Dropbox\\Bancor_Protocol\\Github\\carbonbot\\resources\\NBTest\\fastlane_bot\\tools\\optimizer.py:1419: RuntimeWarning: overflow encountered in exp\n",
      "  p = np.exp(plog10 * np.log(10))\n",
      "c:\\Users\\nicho\\Dropbox\\Bancor_Protocol\\Github\\carbonbot\\resources\\NBTest\\fastlane_bot\\tools\\optimizer.py:1299: RuntimeWarning: overflow encountered in exp\n",
      "  p = np.exp(p * np.log(10))\n",
      "c:\\Users\\nicho\\Dropbox\\Bancor_Protocol\\Github\\carbonbot\\resources\\NBTest\\fastlane_bot\\tools\\optimizer.py:1419: RuntimeWarning: overflow encountered in exp\n",
      "  p = np.exp(plog10 * np.log(10))\n",
      "c:\\Users\\nicho\\Dropbox\\Bancor_Protocol\\Github\\carbonbot\\resources\\NBTest\\fastlane_bot\\tools\\optimizer.py:1299: RuntimeWarning: overflow encountered in exp\n",
      "  p = np.exp(p * np.log(10))\n",
      "c:\\Users\\nicho\\Dropbox\\Bancor_Protocol\\Github\\carbonbot\\resources\\NBTest\\fastlane_bot\\tools\\optimizer.py:1419: RuntimeWarning: overflow encountered in exp\n",
      "  p = np.exp(plog10 * np.log(10))\n",
      "c:\\Users\\nicho\\Dropbox\\Bancor_Protocol\\Github\\carbonbot\\resources\\NBTest\\fastlane_bot\\tools\\optimizer.py:1299: RuntimeWarning: overflow encountered in exp\n",
      "  p = np.exp(p * np.log(10))\n",
      "c:\\Users\\nicho\\Dropbox\\Bancor_Protocol\\Github\\carbonbot\\resources\\NBTest\\fastlane_bot\\tools\\optimizer.py:1419: RuntimeWarning: overflow encountered in exp\n",
      "  p = np.exp(plog10 * np.log(10))\n",
      "c:\\Users\\nicho\\Dropbox\\Bancor_Protocol\\Github\\carbonbot\\resources\\NBTest\\fastlane_bot\\tools\\optimizer.py:1299: RuntimeWarning: overflow encountered in exp\n",
      "  p = np.exp(p * np.log(10))\n",
      "c:\\Users\\nicho\\Dropbox\\Bancor_Protocol\\Github\\carbonbot\\resources\\NBTest\\fastlane_bot\\tools\\optimizer.py:1419: RuntimeWarning: overflow encountered in exp\n",
      "  p = np.exp(plog10 * np.log(10))\n",
      "c:\\Users\\nicho\\Dropbox\\Bancor_Protocol\\Github\\carbonbot\\resources\\NBTest\\fastlane_bot\\tools\\optimizer.py:1299: RuntimeWarning: overflow encountered in exp\n",
      "  p = np.exp(p * np.log(10))\n",
      "c:\\Users\\nicho\\Dropbox\\Bancor_Protocol\\Github\\carbonbot\\resources\\NBTest\\fastlane_bot\\tools\\optimizer.py:1419: RuntimeWarning: overflow encountered in exp\n",
      "  p = np.exp(plog10 * np.log(10))\n",
      "c:\\Users\\nicho\\Dropbox\\Bancor_Protocol\\Github\\carbonbot\\resources\\NBTest\\fastlane_bot\\tools\\optimizer.py:1299: RuntimeWarning: overflow encountered in exp\n",
      "  p = np.exp(p * np.log(10))\n",
      "c:\\Users\\nicho\\Dropbox\\Bancor_Protocol\\Github\\carbonbot\\resources\\NBTest\\fastlane_bot\\tools\\optimizer.py:1419: RuntimeWarning: overflow encountered in exp\n",
      "  p = np.exp(plog10 * np.log(10))\n",
      "c:\\Users\\nicho\\Dropbox\\Bancor_Protocol\\Github\\carbonbot\\resources\\NBTest\\fastlane_bot\\tools\\optimizer.py:1299: RuntimeWarning: overflow encountered in exp\n",
      "  p = np.exp(p * np.log(10))\n",
      "c:\\Users\\nicho\\Dropbox\\Bancor_Protocol\\Github\\carbonbot\\resources\\NBTest\\fastlane_bot\\tools\\optimizer.py:1419: RuntimeWarning: overflow encountered in exp\n",
      "  p = np.exp(plog10 * np.log(10))\n",
      "c:\\Users\\nicho\\Dropbox\\Bancor_Protocol\\Github\\carbonbot\\resources\\NBTest\\fastlane_bot\\tools\\optimizer.py:1299: RuntimeWarning: overflow encountered in exp\n",
      "  p = np.exp(p * np.log(10))\n",
      "c:\\Users\\nicho\\Dropbox\\Bancor_Protocol\\Github\\carbonbot\\resources\\NBTest\\fastlane_bot\\tools\\optimizer.py:1419: RuntimeWarning: overflow encountered in exp\n",
      "  p = np.exp(plog10 * np.log(10))\n",
      "c:\\Users\\nicho\\Dropbox\\Bancor_Protocol\\Github\\carbonbot\\resources\\NBTest\\fastlane_bot\\tools\\optimizer.py:1299: RuntimeWarning: overflow encountered in exp\n",
      "  p = np.exp(p * np.log(10))\n",
      "c:\\Users\\nicho\\Dropbox\\Bancor_Protocol\\Github\\carbonbot\\resources\\NBTest\\fastlane_bot\\tools\\optimizer.py:1419: RuntimeWarning: overflow encountered in exp\n",
      "  p = np.exp(plog10 * np.log(10))\n",
      "c:\\Users\\nicho\\Dropbox\\Bancor_Protocol\\Github\\carbonbot\\resources\\NBTest\\fastlane_bot\\tools\\optimizer.py:1299: RuntimeWarning: overflow encountered in exp\n",
      "  p = np.exp(p * np.log(10))\n",
      "c:\\Users\\nicho\\Dropbox\\Bancor_Protocol\\Github\\carbonbot\\resources\\NBTest\\fastlane_bot\\tools\\optimizer.py:1419: RuntimeWarning: overflow encountered in exp\n",
      "  p = np.exp(plog10 * np.log(10))\n",
      "c:\\Users\\nicho\\Dropbox\\Bancor_Protocol\\Github\\carbonbot\\resources\\NBTest\\fastlane_bot\\tools\\optimizer.py:1299: RuntimeWarning: overflow encountered in exp\n",
      "  p = np.exp(p * np.log(10))\n",
      "c:\\Users\\nicho\\Dropbox\\Bancor_Protocol\\Github\\carbonbot\\resources\\NBTest\\fastlane_bot\\tools\\optimizer.py:1419: RuntimeWarning: overflow encountered in exp\n",
      "  p = np.exp(plog10 * np.log(10))\n",
      "c:\\Users\\nicho\\Dropbox\\Bancor_Protocol\\Github\\carbonbot\\resources\\NBTest\\fastlane_bot\\tools\\optimizer.py:1299: RuntimeWarning: overflow encountered in exp\n",
      "  p = np.exp(p * np.log(10))\n",
      "c:\\Users\\nicho\\Dropbox\\Bancor_Protocol\\Github\\carbonbot\\resources\\NBTest\\fastlane_bot\\tools\\optimizer.py:1419: RuntimeWarning: overflow encountered in exp\n",
      "  p = np.exp(plog10 * np.log(10))\n",
      "c:\\Users\\nicho\\Dropbox\\Bancor_Protocol\\Github\\carbonbot\\resources\\NBTest\\fastlane_bot\\tools\\optimizer.py:1299: RuntimeWarning: overflow encountered in exp\n",
      "  p = np.exp(p * np.log(10))\n",
      "c:\\Users\\nicho\\Dropbox\\Bancor_Protocol\\Github\\carbonbot\\resources\\NBTest\\fastlane_bot\\tools\\optimizer.py:1419: RuntimeWarning: overflow encountered in exp\n",
      "  p = np.exp(plog10 * np.log(10))\n",
      "c:\\Users\\nicho\\Dropbox\\Bancor_Protocol\\Github\\carbonbot\\resources\\NBTest\\fastlane_bot\\tools\\optimizer.py:1299: RuntimeWarning: overflow encountered in exp\n",
      "  p = np.exp(p * np.log(10))\n",
      "c:\\Users\\nicho\\Dropbox\\Bancor_Protocol\\Github\\carbonbot\\resources\\NBTest\\fastlane_bot\\tools\\optimizer.py:1419: RuntimeWarning: overflow encountered in exp\n",
      "  p = np.exp(plog10 * np.log(10))\n",
      "c:\\Users\\nicho\\Dropbox\\Bancor_Protocol\\Github\\carbonbot\\resources\\NBTest\\fastlane_bot\\tools\\optimizer.py:1299: RuntimeWarning: overflow encountered in exp\n",
      "  p = np.exp(p * np.log(10))\n",
      "c:\\Users\\nicho\\Dropbox\\Bancor_Protocol\\Github\\carbonbot\\resources\\NBTest\\fastlane_bot\\tools\\optimizer.py:1419: RuntimeWarning: overflow encountered in exp\n",
      "  p = np.exp(plog10 * np.log(10))\n",
      "c:\\Users\\nicho\\Dropbox\\Bancor_Protocol\\Github\\carbonbot\\resources\\NBTest\\fastlane_bot\\tools\\optimizer.py:1299: RuntimeWarning: overflow encountered in exp\n",
      "  p = np.exp(p * np.log(10))\n",
      "c:\\Users\\nicho\\Dropbox\\Bancor_Protocol\\Github\\carbonbot\\resources\\NBTest\\fastlane_bot\\tools\\optimizer.py:1419: RuntimeWarning: overflow encountered in exp\n",
      "  p = np.exp(plog10 * np.log(10))\n",
      "c:\\Users\\nicho\\Dropbox\\Bancor_Protocol\\Github\\carbonbot\\resources\\NBTest\\fastlane_bot\\tools\\optimizer.py:1299: RuntimeWarning: overflow encountered in exp\n",
      "  p = np.exp(p * np.log(10))\n",
      "c:\\Users\\nicho\\Dropbox\\Bancor_Protocol\\Github\\carbonbot\\resources\\NBTest\\fastlane_bot\\tools\\optimizer.py:1419: RuntimeWarning: overflow encountered in exp\n",
      "  p = np.exp(plog10 * np.log(10))\n",
      "c:\\Users\\nicho\\Dropbox\\Bancor_Protocol\\Github\\carbonbot\\resources\\NBTest\\fastlane_bot\\tools\\optimizer.py:1299: RuntimeWarning: overflow encountered in exp\n",
      "  p = np.exp(p * np.log(10))\n",
      "c:\\Users\\nicho\\Dropbox\\Bancor_Protocol\\Github\\carbonbot\\resources\\NBTest\\fastlane_bot\\tools\\optimizer.py:1419: RuntimeWarning: overflow encountered in exp\n",
      "  p = np.exp(plog10 * np.log(10))\n",
      "c:\\Users\\nicho\\Dropbox\\Bancor_Protocol\\Github\\carbonbot\\resources\\NBTest\\fastlane_bot\\tools\\optimizer.py:1299: RuntimeWarning: overflow encountered in exp\n",
      "  p = np.exp(p * np.log(10))\n",
      "c:\\Users\\nicho\\Dropbox\\Bancor_Protocol\\Github\\carbonbot\\resources\\NBTest\\fastlane_bot\\tools\\optimizer.py:1419: RuntimeWarning: overflow encountered in exp\n",
      "  p = np.exp(plog10 * np.log(10))\n",
      "c:\\Users\\nicho\\Dropbox\\Bancor_Protocol\\Github\\carbonbot\\resources\\NBTest\\fastlane_bot\\tools\\optimizer.py:1299: RuntimeWarning: overflow encountered in exp\n",
      "  p = np.exp(p * np.log(10))\n",
      "c:\\Users\\nicho\\Dropbox\\Bancor_Protocol\\Github\\carbonbot\\resources\\NBTest\\fastlane_bot\\tools\\optimizer.py:1419: RuntimeWarning: overflow encountered in exp\n",
      "  p = np.exp(plog10 * np.log(10))\n",
      "c:\\Users\\nicho\\Dropbox\\Bancor_Protocol\\Github\\carbonbot\\resources\\NBTest\\fastlane_bot\\tools\\optimizer.py:1299: RuntimeWarning: overflow encountered in exp\n",
      "  p = np.exp(p * np.log(10))\n",
      "c:\\Users\\nicho\\Dropbox\\Bancor_Protocol\\Github\\carbonbot\\resources\\NBTest\\fastlane_bot\\tools\\optimizer.py:1419: RuntimeWarning: overflow encountered in exp\n",
      "  p = np.exp(plog10 * np.log(10))\n",
      "c:\\Users\\nicho\\Dropbox\\Bancor_Protocol\\Github\\carbonbot\\resources\\NBTest\\fastlane_bot\\tools\\optimizer.py:1299: RuntimeWarning: overflow encountered in exp\n",
      "  p = np.exp(p * np.log(10))\n",
      "c:\\Users\\nicho\\Dropbox\\Bancor_Protocol\\Github\\carbonbot\\resources\\NBTest\\fastlane_bot\\tools\\optimizer.py:1419: RuntimeWarning: overflow encountered in exp\n",
      "  p = np.exp(plog10 * np.log(10))\n",
      "c:\\Users\\nicho\\Dropbox\\Bancor_Protocol\\Github\\carbonbot\\resources\\NBTest\\fastlane_bot\\tools\\optimizer.py:1299: RuntimeWarning: overflow encountered in exp\n",
      "  p = np.exp(p * np.log(10))\n",
      "c:\\Users\\nicho\\Dropbox\\Bancor_Protocol\\Github\\carbonbot\\resources\\NBTest\\fastlane_bot\\tools\\optimizer.py:1419: RuntimeWarning: overflow encountered in exp\n",
      "  p = np.exp(plog10 * np.log(10))\n",
      "c:\\Users\\nicho\\Dropbox\\Bancor_Protocol\\Github\\carbonbot\\resources\\NBTest\\fastlane_bot\\tools\\optimizer.py:1299: RuntimeWarning: overflow encountered in exp\n",
      "  p = np.exp(p * np.log(10))\n",
      "c:\\Users\\nicho\\Dropbox\\Bancor_Protocol\\Github\\carbonbot\\resources\\NBTest\\fastlane_bot\\tools\\optimizer.py:1419: RuntimeWarning: overflow encountered in exp\n",
      "  p = np.exp(plog10 * np.log(10))\n",
      "c:\\Users\\nicho\\Dropbox\\Bancor_Protocol\\Github\\carbonbot\\resources\\NBTest\\fastlane_bot\\tools\\optimizer.py:1299: RuntimeWarning: overflow encountered in exp\n",
      "  p = np.exp(p * np.log(10))\n",
      "c:\\Users\\nicho\\Dropbox\\Bancor_Protocol\\Github\\carbonbot\\resources\\NBTest\\fastlane_bot\\tools\\optimizer.py:1419: RuntimeWarning: overflow encountered in exp\n",
      "  p = np.exp(plog10 * np.log(10))\n",
      "c:\\Users\\nicho\\Dropbox\\Bancor_Protocol\\Github\\carbonbot\\resources\\NBTest\\fastlane_bot\\tools\\optimizer.py:1299: RuntimeWarning: overflow encountered in exp\n",
      "  p = np.exp(p * np.log(10))\n",
      "c:\\Users\\nicho\\Dropbox\\Bancor_Protocol\\Github\\carbonbot\\resources\\NBTest\\fastlane_bot\\tools\\optimizer.py:1419: RuntimeWarning: overflow encountered in exp\n",
      "  p = np.exp(plog10 * np.log(10))\n",
      "c:\\Users\\nicho\\Dropbox\\Bancor_Protocol\\Github\\carbonbot\\resources\\NBTest\\fastlane_bot\\tools\\optimizer.py:1299: RuntimeWarning: overflow encountered in exp\n",
      "  p = np.exp(p * np.log(10))\n",
      "c:\\Users\\nicho\\Dropbox\\Bancor_Protocol\\Github\\carbonbot\\resources\\NBTest\\fastlane_bot\\tools\\optimizer.py:1419: RuntimeWarning: overflow encountered in exp\n",
      "  p = np.exp(plog10 * np.log(10))\n",
      "c:\\Users\\nicho\\Dropbox\\Bancor_Protocol\\Github\\carbonbot\\resources\\NBTest\\fastlane_bot\\tools\\optimizer.py:1299: RuntimeWarning: overflow encountered in exp\n",
      "  p = np.exp(p * np.log(10))\n",
      "c:\\Users\\nicho\\Dropbox\\Bancor_Protocol\\Github\\carbonbot\\resources\\NBTest\\fastlane_bot\\tools\\optimizer.py:1419: RuntimeWarning: overflow encountered in exp\n",
      "  p = np.exp(plog10 * np.log(10))\n",
      "c:\\Users\\nicho\\Dropbox\\Bancor_Protocol\\Github\\carbonbot\\resources\\NBTest\\fastlane_bot\\tools\\optimizer.py:1299: RuntimeWarning: overflow encountered in exp\n",
      "  p = np.exp(p * np.log(10))\n",
      "c:\\Users\\nicho\\Dropbox\\Bancor_Protocol\\Github\\carbonbot\\resources\\NBTest\\fastlane_bot\\tools\\optimizer.py:1419: RuntimeWarning: overflow encountered in exp\n",
      "  p = np.exp(plog10 * np.log(10))\n",
      "c:\\Users\\nicho\\Dropbox\\Bancor_Protocol\\Github\\carbonbot\\resources\\NBTest\\fastlane_bot\\tools\\optimizer.py:1299: RuntimeWarning: overflow encountered in exp\n",
      "  p = np.exp(p * np.log(10))\n",
      "c:\\Users\\nicho\\Dropbox\\Bancor_Protocol\\Github\\carbonbot\\resources\\NBTest\\fastlane_bot\\tools\\optimizer.py:1419: RuntimeWarning: overflow encountered in exp\n",
      "  p = np.exp(plog10 * np.log(10))\n",
      "c:\\Users\\nicho\\Dropbox\\Bancor_Protocol\\Github\\carbonbot\\resources\\NBTest\\fastlane_bot\\tools\\optimizer.py:1299: RuntimeWarning: overflow encountered in exp\n",
      "  p = np.exp(p * np.log(10))\n",
      "c:\\Users\\nicho\\Dropbox\\Bancor_Protocol\\Github\\carbonbot\\resources\\NBTest\\fastlane_bot\\tools\\optimizer.py:1419: RuntimeWarning: overflow encountered in exp\n",
      "  p = np.exp(plog10 * np.log(10))\n",
      "c:\\Users\\nicho\\Dropbox\\Bancor_Protocol\\Github\\carbonbot\\resources\\NBTest\\fastlane_bot\\tools\\optimizer.py:1299: RuntimeWarning: overflow encountered in exp\n",
      "  p = np.exp(p * np.log(10))\n",
      "c:\\Users\\nicho\\Dropbox\\Bancor_Protocol\\Github\\carbonbot\\resources\\NBTest\\fastlane_bot\\tools\\optimizer.py:1419: RuntimeWarning: overflow encountered in exp\n",
      "  p = np.exp(plog10 * np.log(10))\n",
      "c:\\Users\\nicho\\Dropbox\\Bancor_Protocol\\Github\\carbonbot\\resources\\NBTest\\fastlane_bot\\tools\\optimizer.py:1299: RuntimeWarning: overflow encountered in exp\n",
      "  p = np.exp(p * np.log(10))\n",
      "c:\\Users\\nicho\\Dropbox\\Bancor_Protocol\\Github\\carbonbot\\resources\\NBTest\\fastlane_bot\\tools\\optimizer.py:1419: RuntimeWarning: overflow encountered in exp\n",
      "  p = np.exp(plog10 * np.log(10))\n",
      "c:\\Users\\nicho\\Dropbox\\Bancor_Protocol\\Github\\carbonbot\\resources\\NBTest\\fastlane_bot\\tools\\optimizer.py:1299: RuntimeWarning: overflow encountered in exp\n",
      "  p = np.exp(p * np.log(10))\n",
      "c:\\Users\\nicho\\Dropbox\\Bancor_Protocol\\Github\\carbonbot\\resources\\NBTest\\fastlane_bot\\tools\\optimizer.py:1419: RuntimeWarning: overflow encountered in exp\n",
      "  p = np.exp(plog10 * np.log(10))\n",
      "c:\\Users\\nicho\\Dropbox\\Bancor_Protocol\\Github\\carbonbot\\resources\\NBTest\\fastlane_bot\\tools\\optimizer.py:1299: RuntimeWarning: overflow encountered in exp\n",
      "  p = np.exp(p * np.log(10))\n",
      "c:\\Users\\nicho\\Dropbox\\Bancor_Protocol\\Github\\carbonbot\\resources\\NBTest\\fastlane_bot\\tools\\optimizer.py:1419: RuntimeWarning: overflow encountered in exp\n",
      "  p = np.exp(plog10 * np.log(10))\n",
      "c:\\Users\\nicho\\Dropbox\\Bancor_Protocol\\Github\\carbonbot\\resources\\NBTest\\fastlane_bot\\tools\\optimizer.py:1299: RuntimeWarning: overflow encountered in exp\n",
      "  p = np.exp(p * np.log(10))\n",
      "c:\\Users\\nicho\\Dropbox\\Bancor_Protocol\\Github\\carbonbot\\resources\\NBTest\\fastlane_bot\\tools\\optimizer.py:1419: RuntimeWarning: overflow encountered in exp\n",
      "  p = np.exp(plog10 * np.log(10))\n",
      "c:\\Users\\nicho\\Dropbox\\Bancor_Protocol\\Github\\carbonbot\\resources\\NBTest\\fastlane_bot\\tools\\optimizer.py:1299: RuntimeWarning: overflow encountered in exp\n",
      "  p = np.exp(p * np.log(10))\n",
      "c:\\Users\\nicho\\Dropbox\\Bancor_Protocol\\Github\\carbonbot\\resources\\NBTest\\fastlane_bot\\tools\\optimizer.py:1419: RuntimeWarning: overflow encountered in exp\n",
      "  p = np.exp(plog10 * np.log(10))\n",
      "c:\\Users\\nicho\\Dropbox\\Bancor_Protocol\\Github\\carbonbot\\resources\\NBTest\\fastlane_bot\\tools\\optimizer.py:1299: RuntimeWarning: overflow encountered in exp\n",
      "  p = np.exp(p * np.log(10))\n",
      "c:\\Users\\nicho\\Dropbox\\Bancor_Protocol\\Github\\carbonbot\\resources\\NBTest\\fastlane_bot\\tools\\optimizer.py:1419: RuntimeWarning: overflow encountered in exp\n",
      "  p = np.exp(plog10 * np.log(10))\n",
      "c:\\Users\\nicho\\Dropbox\\Bancor_Protocol\\Github\\carbonbot\\resources\\NBTest\\fastlane_bot\\tools\\optimizer.py:1299: RuntimeWarning: overflow encountered in exp\n",
      "  p = np.exp(p * np.log(10))\n",
      "c:\\Users\\nicho\\Dropbox\\Bancor_Protocol\\Github\\carbonbot\\resources\\NBTest\\fastlane_bot\\tools\\optimizer.py:1419: RuntimeWarning: overflow encountered in exp\n",
      "  p = np.exp(plog10 * np.log(10))\n",
      "c:\\Users\\nicho\\Dropbox\\Bancor_Protocol\\Github\\carbonbot\\resources\\NBTest\\fastlane_bot\\tools\\optimizer.py:1299: RuntimeWarning: overflow encountered in exp\n",
      "  p = np.exp(p * np.log(10))\n",
      "c:\\Users\\nicho\\Dropbox\\Bancor_Protocol\\Github\\carbonbot\\resources\\NBTest\\fastlane_bot\\tools\\optimizer.py:1419: RuntimeWarning: overflow encountered in exp\n",
      "  p = np.exp(plog10 * np.log(10))\n",
      "c:\\Users\\nicho\\Dropbox\\Bancor_Protocol\\Github\\carbonbot\\resources\\NBTest\\fastlane_bot\\tools\\optimizer.py:1299: RuntimeWarning: overflow encountered in exp\n",
      "  p = np.exp(p * np.log(10))\n",
      "c:\\Users\\nicho\\Dropbox\\Bancor_Protocol\\Github\\carbonbot\\resources\\NBTest\\fastlane_bot\\tools\\optimizer.py:1419: RuntimeWarning: overflow encountered in exp\n",
      "  p = np.exp(plog10 * np.log(10))\n",
      "c:\\Users\\nicho\\Dropbox\\Bancor_Protocol\\Github\\carbonbot\\resources\\NBTest\\fastlane_bot\\tools\\optimizer.py:1299: RuntimeWarning: overflow encountered in exp\n",
      "  p = np.exp(p * np.log(10))\n",
      "c:\\Users\\nicho\\Dropbox\\Bancor_Protocol\\Github\\carbonbot\\resources\\NBTest\\fastlane_bot\\tools\\optimizer.py:1419: RuntimeWarning: overflow encountered in exp\n",
      "  p = np.exp(plog10 * np.log(10))\n",
      "c:\\Users\\nicho\\Dropbox\\Bancor_Protocol\\Github\\carbonbot\\resources\\NBTest\\fastlane_bot\\tools\\optimizer.py:1299: RuntimeWarning: overflow encountered in exp\n",
      "  p = np.exp(p * np.log(10))\n",
      "c:\\Users\\nicho\\Dropbox\\Bancor_Protocol\\Github\\carbonbot\\resources\\NBTest\\fastlane_bot\\tools\\optimizer.py:1419: RuntimeWarning: overflow encountered in exp\n",
      "  p = np.exp(plog10 * np.log(10))\n",
      "c:\\Users\\nicho\\Dropbox\\Bancor_Protocol\\Github\\carbonbot\\resources\\NBTest\\fastlane_bot\\tools\\optimizer.py:1299: RuntimeWarning: overflow encountered in exp\n",
      "  p = np.exp(p * np.log(10))\n",
      "c:\\Users\\nicho\\Dropbox\\Bancor_Protocol\\Github\\carbonbot\\resources\\NBTest\\fastlane_bot\\tools\\optimizer.py:1419: RuntimeWarning: overflow encountered in exp\n",
      "  p = np.exp(plog10 * np.log(10))\n",
      "c:\\Users\\nicho\\Dropbox\\Bancor_Protocol\\Github\\carbonbot\\resources\\NBTest\\fastlane_bot\\tools\\optimizer.py:1299: RuntimeWarning: overflow encountered in exp\n",
      "  p = np.exp(p * np.log(10))\n",
      "c:\\Users\\nicho\\Dropbox\\Bancor_Protocol\\Github\\carbonbot\\resources\\NBTest\\fastlane_bot\\tools\\optimizer.py:1419: RuntimeWarning: overflow encountered in exp\n",
      "  p = np.exp(plog10 * np.log(10))\n",
      "c:\\Users\\nicho\\Dropbox\\Bancor_Protocol\\Github\\carbonbot\\resources\\NBTest\\fastlane_bot\\tools\\optimizer.py:1299: RuntimeWarning: overflow encountered in exp\n",
      "  p = np.exp(p * np.log(10))\n",
      "c:\\Users\\nicho\\Dropbox\\Bancor_Protocol\\Github\\carbonbot\\resources\\NBTest\\fastlane_bot\\tools\\optimizer.py:1419: RuntimeWarning: overflow encountered in exp\n",
      "  p = np.exp(plog10 * np.log(10))\n",
      "c:\\Users\\nicho\\Dropbox\\Bancor_Protocol\\Github\\carbonbot\\resources\\NBTest\\fastlane_bot\\tools\\optimizer.py:1299: RuntimeWarning: overflow encountered in exp\n",
      "  p = np.exp(p * np.log(10))\n",
      "c:\\Users\\nicho\\Dropbox\\Bancor_Protocol\\Github\\carbonbot\\resources\\NBTest\\fastlane_bot\\tools\\optimizer.py:1419: RuntimeWarning: overflow encountered in exp\n",
      "  p = np.exp(plog10 * np.log(10))\n",
      "c:\\Users\\nicho\\Dropbox\\Bancor_Protocol\\Github\\carbonbot\\resources\\NBTest\\fastlane_bot\\tools\\optimizer.py:1299: RuntimeWarning: overflow encountered in exp\n",
      "  p = np.exp(p * np.log(10))\n",
      "c:\\Users\\nicho\\Dropbox\\Bancor_Protocol\\Github\\carbonbot\\resources\\NBTest\\fastlane_bot\\tools\\optimizer.py:1310: RuntimeWarning: divide by zero encountered in scalar divide\n",
      "  price = get(p, tokens_ix.get(tknb)) / get(p, tokens_ix.get(tknq))\n",
      "c:\\Users\\nicho\\Dropbox\\Bancor_Protocol\\Github\\carbonbot\\resources\\NBTest\\fastlane_bot\\tools\\optimizer.py:1310: RuntimeWarning: divide by zero encountered in scalar divide\n",
      "  price = get(p, tokens_ix.get(tknb)) / get(p, tokens_ix.get(tknq))\n",
      "c:\\Users\\nicho\\Dropbox\\Bancor_Protocol\\Github\\carbonbot\\resources\\NBTest\\fastlane_bot\\tools\\optimizer.py:1310: RuntimeWarning: divide by zero encountered in scalar divide\n",
      "  price = get(p, tokens_ix.get(tknb)) / get(p, tokens_ix.get(tknq))\n",
      "c:\\Users\\nicho\\Dropbox\\Bancor_Protocol\\Github\\carbonbot\\resources\\NBTest\\fastlane_bot\\tools\\optimizer.py:1310: RuntimeWarning: divide by zero encountered in scalar divide\n",
      "  price = get(p, tokens_ix.get(tknb)) / get(p, tokens_ix.get(tknq))\n",
      "c:\\Users\\nicho\\Dropbox\\Bancor_Protocol\\Github\\carbonbot\\resources\\NBTest\\fastlane_bot\\tools\\optimizer.py:1419: RuntimeWarning: overflow encountered in exp\n",
      "  p = np.exp(plog10 * np.log(10))\n",
      "c:\\Users\\nicho\\Dropbox\\Bancor_Protocol\\Github\\carbonbot\\resources\\NBTest\\fastlane_bot\\tools\\optimizer.py:1299: RuntimeWarning: overflow encountered in exp\n",
      "  p = np.exp(p * np.log(10))\n",
      "c:\\Users\\nicho\\Dropbox\\Bancor_Protocol\\Github\\carbonbot\\resources\\NBTest\\fastlane_bot\\tools\\optimizer.py:1310: RuntimeWarning: divide by zero encountered in scalar divide\n",
      "  price = get(p, tokens_ix.get(tknb)) / get(p, tokens_ix.get(tknq))\n",
      "c:\\Users\\nicho\\Dropbox\\Bancor_Protocol\\Github\\carbonbot\\resources\\NBTest\\fastlane_bot\\tools\\optimizer.py:1310: RuntimeWarning: divide by zero encountered in scalar divide\n",
      "  price = get(p, tokens_ix.get(tknb)) / get(p, tokens_ix.get(tknq))\n",
      "c:\\Users\\nicho\\Dropbox\\Bancor_Protocol\\Github\\carbonbot\\resources\\NBTest\\fastlane_bot\\tools\\optimizer.py:1419: RuntimeWarning: overflow encountered in exp\n",
      "  p = np.exp(plog10 * np.log(10))\n",
      "c:\\Users\\nicho\\Dropbox\\Bancor_Protocol\\Github\\carbonbot\\resources\\NBTest\\fastlane_bot\\tools\\optimizer.py:1299: RuntimeWarning: overflow encountered in exp\n",
      "  p = np.exp(p * np.log(10))\n"
     ]
    }
   ],
   "source": [
    "route_struct, flashloan_amount, flashloan_token_address = bot._run(flashloan_tokens=flt, CCm=CCm2, result=bot.XS_ROUTE, arb_mode=bot.AM_MULTI_TRIANGLE)"
   ]
  },
  {
   "cell_type": "code",
   "execution_count": 26,
   "id": "24db122b",
   "metadata": {
    "ExecuteTime": {
     "end_time": "2023-05-15T14:46:40.934186600Z",
     "start_time": "2023-05-15T14:46:40.919852200Z"
    }
   },
   "outputs": [
    {
     "data": {
      "text/plain": [
       "([{'exchangeId': 4,\n",
       "   'targetToken': '0xA0b86991c6218b36c1d19D4a2e9Eb0cE3606eB48',\n",
       "   'minTargetAmount': 1,\n",
       "   'deadline': 1684213821,\n",
       "   'customAddress': '0xA0b86991c6218b36c1d19D4a2e9Eb0cE3606eB48',\n",
       "   'customInt': 100,\n",
       "   'customData': '0x'},\n",
       "  {'exchangeId': 6,\n",
       "   'targetToken': '0xEeeeeEeeeEeEeeEeEeEeeEEEeeeeEeeeeeeeEEeE',\n",
       "   'minTargetAmount': 1,\n",
       "   'deadline': 1684213821,\n",
       "   'customAddress': '0xC02aaA39b223FE8D0A0e5C4F27eAD9083C756Cc2',\n",
       "   'customInt': 2000,\n",
       "   'customData': '0x000000000000000000000000000000000000000000000000000000000000002000000000000000000000000000000000000000000000000000000000000000050000000000000000000000000000000500000000000000000000000000000062000000000000000000000000000000000000000000000000000000010ba195fd0000000000000000000000000000000500000000000000000000000000000061000000000000000000000000000000000000000000000000000000019e658d530000000000000000000000000000000500000000000000000000000000000060000000000000000000000000000000000000000000000000000000035e5dffa7000000000000000000000000000000050000000000000000000000000000005f0000000000000000000000000000000000000000000000000000000426074f1b000000000000000000000000000000050000000000000000000000000000005000000000000000000000000000000000000000000000000000000001d058c816'},\n",
       "  {'exchangeId': 4,\n",
       "   'targetToken': '0xdAC17F958D2ee523a2206206994597C13D831ec7',\n",
       "   'minTargetAmount': 1,\n",
       "   'deadline': 1684213821,\n",
       "   'customAddress': '0xdAC17F958D2ee523a2206206994597C13D831ec7',\n",
       "   'customInt': 10000,\n",
       "   'customData': '0x'}],\n",
       " 51456026904,\n",
       " '0xdAC17F958D2ee523a2206206994597C13D831ec7')"
      ]
     },
     "execution_count": 26,
     "metadata": {},
     "output_type": "execute_result"
    }
   ],
   "source": [
    "route_struct, flashloan_amount, flashloan_token_address"
   ]
  },
  {
   "attachments": {},
   "cell_type": "markdown",
   "id": "628bca30",
   "metadata": {},
   "source": [
    "# Tenderly Tx Submission"
   ]
  },
  {
   "cell_type": "code",
   "execution_count": 29,
   "id": "76a8ec45",
   "metadata": {
    "ExecuteTime": {
     "end_time": "2023-05-15T14:46:40.979361400Z",
     "start_time": "2023-05-15T14:46:40.935185400Z"
    }
   },
   "outputs": [],
   "source": [
    "# C.w3.provider.endpoint_uri"
   ]
  },
  {
   "cell_type": "code",
   "execution_count": 30,
   "id": "477ac528",
   "metadata": {
    "ExecuteTime": {
     "end_time": "2023-05-15T14:46:40.987830900Z",
     "start_time": "2023-05-15T14:46:40.950376700Z"
    }
   },
   "outputs": [],
   "source": [
    "# C.w3.eth.getBlock(C.w3.eth.block_number).timestamp"
   ]
  },
  {
   "cell_type": "code",
   "execution_count": 31,
   "id": "c1956941",
   "metadata": {
    "ExecuteTime": {
     "end_time": "2023-05-15T14:46:40.987830900Z",
     "start_time": "2023-05-15T14:46:40.979361400Z"
    }
   },
   "outputs": [],
   "source": [
    "# C.provider.CARBON_CONTROLLER_CONTRACT.strategy(13951577043758477001998358904702496669788)"
   ]
  },
  {
   "cell_type": "code",
   "execution_count": 32,
   "id": "6599f4a9",
   "metadata": {
    "ExecuteTime": {
     "end_time": "2023-05-15T14:46:42.181355200Z",
     "start_time": "2023-05-15T14:46:40.981354900Z"
    }
   },
   "outputs": [
    {
     "data": {
      "text/plain": [
       "AttributeDict({'transactionHash': HexBytes('0x37523f3757f65dac730992f173d8a9ce762fe5addaf63968c23686cbc8a4499d'),\n",
       " 'transactionIndex': 0,\n",
       " 'blockHash': HexBytes('0x34c55ed009d6dc0b9a40bed04eef9dc1f656352db5166724eefe36706d3e93e2'),\n",
       " 'blockNumber': 17213368,\n",
       " 'from': '0x28C6c06298d514Db089934071355E5743bf21d60',\n",
       " 'to': '0x41Eeba3355d7D6FF628B7982F3F9D055c39488cB',\n",
       " 'cumulativeGasUsed': 664678,\n",
       " 'gasUsed': 664678,\n",
       " 'effectiveGasPrice': 0,\n",
       " 'contractAddress': None,\n",
       " 'logs': [AttributeDict({'logIndex': 0,\n",
       "   'address': '0xdAC17F958D2ee523a2206206994597C13D831ec7',\n",
       "   'topics': [HexBytes('0xddf252ad1be2c89b69c2b068fc378daa952ba7f163c4a11628f55a4df523b3ef'),\n",
       "    HexBytes('0x000000000000000000000000649765821d9f64198c905ec0b2b037a4a52bc373'),\n",
       "    HexBytes('0x00000000000000000000000041eeba3355d7d6ff628b7982f3f9d055c39488cb')],\n",
       "   'data': '0x0000000000000000000000000000000000000000000000000000000bfb04a918',\n",
       "   'blockHash': HexBytes('0x34c55ed009d6dc0b9a40bed04eef9dc1f656352db5166724eefe36706d3e93e2'),\n",
       "   'blockNumber': 17213368,\n",
       "   'removed': False,\n",
       "   'transactionHash': HexBytes('0x37523f3757f65dac730992f173d8a9ce762fe5addaf63968c23686cbc8a4499d'),\n",
       "   'transactionIndex': 0}),\n",
       "  AttributeDict({'logIndex': 1,\n",
       "   'address': '0x649765821D9f64198c905eC0B2B037a4a52Bc373',\n",
       "   'topics': [HexBytes('0xc322efa58c9cb2c39cfffdac61d35c8643f5cbf13c6a7d0034de2cf18923aff3'),\n",
       "    HexBytes('0x000000000000000000000000dac17f958d2ee523a2206206994597c13d831ec7'),\n",
       "    HexBytes('0x000000000000000000000000eef417e1d5cc832e619ae18d2f140de2999dd4fb'),\n",
       "    HexBytes('0x00000000000000000000000041eeba3355d7d6ff628b7982f3f9d055c39488cb')],\n",
       "   'data': '0x0000000000000000000000000000000000000000000000000000000bfb04a918',\n",
       "   'blockHash': HexBytes('0x34c55ed009d6dc0b9a40bed04eef9dc1f656352db5166724eefe36706d3e93e2'),\n",
       "   'blockNumber': 17213368,\n",
       "   'removed': False,\n",
       "   'transactionHash': HexBytes('0x37523f3757f65dac730992f173d8a9ce762fe5addaf63968c23686cbc8a4499d'),\n",
       "   'transactionIndex': 0}),\n",
       "  AttributeDict({'logIndex': 2,\n",
       "   'address': '0xA0b86991c6218b36c1d19D4a2e9Eb0cE3606eB48',\n",
       "   'topics': [HexBytes('0xddf252ad1be2c89b69c2b068fc378daa952ba7f163c4a11628f55a4df523b3ef'),\n",
       "    HexBytes('0x0000000000000000000000003416cf6c708da44db2624d63ea0aaef7113527c6'),\n",
       "    HexBytes('0x00000000000000000000000041eeba3355d7d6ff628b7982f3f9d055c39488cb')],\n",
       "   'data': '0x0000000000000000000000000000000000000000000000000000000bff13d8c7',\n",
       "   'blockHash': HexBytes('0x34c55ed009d6dc0b9a40bed04eef9dc1f656352db5166724eefe36706d3e93e2'),\n",
       "   'blockNumber': 17213368,\n",
       "   'removed': False,\n",
       "   'transactionHash': HexBytes('0x37523f3757f65dac730992f173d8a9ce762fe5addaf63968c23686cbc8a4499d'),\n",
       "   'transactionIndex': 0}),\n",
       "  AttributeDict({'logIndex': 3,\n",
       "   'address': '0xdAC17F958D2ee523a2206206994597C13D831ec7',\n",
       "   'topics': [HexBytes('0xddf252ad1be2c89b69c2b068fc378daa952ba7f163c4a11628f55a4df523b3ef'),\n",
       "    HexBytes('0x00000000000000000000000041eeba3355d7d6ff628b7982f3f9d055c39488cb'),\n",
       "    HexBytes('0x0000000000000000000000003416cf6c708da44db2624d63ea0aaef7113527c6')],\n",
       "   'data': '0x0000000000000000000000000000000000000000000000000000000bfb04a918',\n",
       "   'blockHash': HexBytes('0x34c55ed009d6dc0b9a40bed04eef9dc1f656352db5166724eefe36706d3e93e2'),\n",
       "   'blockNumber': 17213368,\n",
       "   'removed': False,\n",
       "   'transactionHash': HexBytes('0x37523f3757f65dac730992f173d8a9ce762fe5addaf63968c23686cbc8a4499d'),\n",
       "   'transactionIndex': 0}),\n",
       "  AttributeDict({'logIndex': 4,\n",
       "   'address': '0x3416cF6C708Da44DB2624D63ea0AAef7113527C6',\n",
       "   'topics': [HexBytes('0xc42079f94a6350d7e6235f29174924f928cc2ac818eb64fed8004e115fbcca67'),\n",
       "    HexBytes('0x000000000000000000000000e592427a0aece92de3edee1f18e0157c05861564'),\n",
       "    HexBytes('0x00000000000000000000000041eeba3355d7d6ff628b7982f3f9d055c39488cb')],\n",
       "   'data': '0xfffffffffffffffffffffffffffffffffffffffffffffffffffffff400ec27390000000000000000000000000000000000000000000000000000000bfb04a9180000000000000000000000000000000000000000ffd17e662a8fcbeb675de1fc000000000000000000000000000000000000000000000000003ee7a01237b0c6fffffffffffffffffffffffffffffffffffffffffffffffffffffffffffffff1',\n",
       "   'blockHash': HexBytes('0x34c55ed009d6dc0b9a40bed04eef9dc1f656352db5166724eefe36706d3e93e2'),\n",
       "   'blockNumber': 17213368,\n",
       "   'removed': False,\n",
       "   'transactionHash': HexBytes('0x37523f3757f65dac730992f173d8a9ce762fe5addaf63968c23686cbc8a4499d'),\n",
       "   'transactionIndex': 0}),\n",
       "  AttributeDict({'logIndex': 5,\n",
       "   'address': '0xC537e898CD774e2dCBa3B14Ea6f34C93d5eA45e1',\n",
       "   'topics': [HexBytes('0x720da23a5c920b1d8827ec83c4d3c4d90d9419eadb0036b88cb4c2ffa91aef7d'),\n",
       "    HexBytes('0x0000000000000000000000000000000500000000000000000000000000000062'),\n",
       "    HexBytes('0x000000000000000000000000eeeeeeeeeeeeeeeeeeeeeeeeeeeeeeeeeeeeeeee'),\n",
       "    HexBytes('0x000000000000000000000000a0b86991c6218b36c1d19d4a2e9eb0ce3606eb48')],\n",
       "   'data': '0x000000000000000000000000000000000000000000000000000ff7e6ec85596400000000000000000000000000000000000000000000000033fd5a86c9cea0000000000000000000000000000000000000000000000000000000000000000000000000000000000000000000000000000000000000000000000fe18706e4293f000000000000000000000000000000000000000000000000000000010c8677bf000000000000000000000000000000000000000000000000000000037e11d600000000000000000000000000000000000000000000000000000000000000000000000000000000000000000000000000000000000000000000000004251595260000000000000000000000000000000000000000000000000000000000000001',\n",
       "   'blockHash': HexBytes('0x34c55ed009d6dc0b9a40bed04eef9dc1f656352db5166724eefe36706d3e93e2'),\n",
       "   'blockNumber': 17213368,\n",
       "   'removed': False,\n",
       "   'transactionHash': HexBytes('0x37523f3757f65dac730992f173d8a9ce762fe5addaf63968c23686cbc8a4499d'),\n",
       "   'transactionIndex': 0}),\n",
       "  AttributeDict({'logIndex': 6,\n",
       "   'address': '0xC537e898CD774e2dCBa3B14Ea6f34C93d5eA45e1',\n",
       "   'topics': [HexBytes('0x720da23a5c920b1d8827ec83c4d3c4d90d9419eadb0036b88cb4c2ffa91aef7d'),\n",
       "    HexBytes('0x0000000000000000000000000000000500000000000000000000000000000061'),\n",
       "    HexBytes('0x000000000000000000000000eeeeeeeeeeeeeeeeeeeeeeeeeeeeeeeeeeeeeeee'),\n",
       "    HexBytes('0x000000000000000000000000a0b86991c6218b36c1d19d4a2e9eb0ce3606eb48')],\n",
       "   'data': '0x0000000000000000000000000000000000000000000000000018b9ab0e962b6e0000000000000000000000000000000000000000000000005080080a1e9ec4000000000000000000000000000000000000000000000000000000000000000000000000000000000000000000000000000000000000000000000fe18706e4293f000000000000000000000000000000000000000000000000000000019f7835da0000000000000000000000000000000000000000000000000000000430e23400000000000000000000000000000000000000000000000000000000000000000000000000000000000000000000000000000000000000000000000003a61da8930000000000000000000000000000000000000000000000000000000000000001',\n",
       "   'blockHash': HexBytes('0x34c55ed009d6dc0b9a40bed04eef9dc1f656352db5166724eefe36706d3e93e2'),\n",
       "   'blockNumber': 17213368,\n",
       "   'removed': False,\n",
       "   'transactionHash': HexBytes('0x37523f3757f65dac730992f173d8a9ce762fe5addaf63968c23686cbc8a4499d'),\n",
       "   'transactionIndex': 0}),\n",
       "  AttributeDict({'logIndex': 7,\n",
       "   'address': '0xC537e898CD774e2dCBa3B14Ea6f34C93d5eA45e1',\n",
       "   'topics': [HexBytes('0x720da23a5c920b1d8827ec83c4d3c4d90d9419eadb0036b88cb4c2ffa91aef7d'),\n",
       "    HexBytes('0x0000000000000000000000000000000500000000000000000000000000000060'),\n",
       "    HexBytes('0x000000000000000000000000eeeeeeeeeeeeeeeeeeeeeeeeeeeeeeeeeeeeeeee'),\n",
       "    HexBytes('0x000000000000000000000000a0b86991c6218b36c1d19d4a2e9eb0ce3606eb48')],\n",
       "   'data': '0x000000000000000000000000000000000000000000000000002c1a67a7f951970000000000000000000000000000000000000000000000008f972ac81ed1b0000000000000000000000000000000000000000000000000000000000000000000000000000000000000000000000000000000000000000000000fd0cc3f95fe9900000000000000000000000000000000000000000000000000000003601880fa00000000000000000000000000000000000000000000000000000006c088e20000000000000000000000000000000000000000000000000000000000000000000000000000000000000000000000000000000000000000000000000377c44e9d0000000000000000000000000000000000000000000000000000000000000001',\n",
       "   'blockHash': HexBytes('0x34c55ed009d6dc0b9a40bed04eef9dc1f656352db5166724eefe36706d3e93e2'),\n",
       "   'blockNumber': 17213368,\n",
       "   'removed': False,\n",
       "   'transactionHash': HexBytes('0x37523f3757f65dac730992f173d8a9ce762fe5addaf63968c23686cbc8a4499d'),\n",
       "   'transactionIndex': 0}),\n",
       "  AttributeDict({'logIndex': 8,\n",
       "   'address': '0xC537e898CD774e2dCBa3B14Ea6f34C93d5eA45e1',\n",
       "   'topics': [HexBytes('0x720da23a5c920b1d8827ec83c4d3c4d90d9419eadb0036b88cb4c2ffa91aef7d'),\n",
       "    HexBytes('0x000000000000000000000000000000050000000000000000000000000000005f'),\n",
       "    HexBytes('0x000000000000000000000000eeeeeeeeeeeeeeeeeeeeeeeeeeeeeeeeeeeeeeee'),\n",
       "    HexBytes('0x000000000000000000000000a0b86991c6218b36c1d19d4a2e9eb0ce3606eb48')],\n",
       "   'data': '0x0000000000000000000000000000000000000000000000000032b179b9608895000000000000000000000000000000000000000000000000a50bea90c67b80000000000000000000000000000000000000000000000000000000000000000000000000000000000000000000000000000000000000000000000fc9b7c727b1a9000000000000000000000000000000000000000000000000000000042784c75000000000000000000000000000000000000000000000000000000005d21dba0000000000000000000000000000000000000000000000000000000000000000000000000000000000000000000000000000000000000000000000000300d4209e0000000000000000000000000000000000000000000000000000000000000001',\n",
       "   'blockHash': HexBytes('0x34c55ed009d6dc0b9a40bed04eef9dc1f656352db5166724eefe36706d3e93e2'),\n",
       "   'blockNumber': 17213368,\n",
       "   'removed': False,\n",
       "   'transactionHash': HexBytes('0x37523f3757f65dac730992f173d8a9ce762fe5addaf63968c23686cbc8a4499d'),\n",
       "   'transactionIndex': 0}),\n",
       "  AttributeDict({'logIndex': 9,\n",
       "   'address': '0xC537e898CD774e2dCBa3B14Ea6f34C93d5eA45e1',\n",
       "   'topics': [HexBytes('0x720da23a5c920b1d8827ec83c4d3c4d90d9419eadb0036b88cb4c2ffa91aef7d'),\n",
       "    HexBytes('0x0000000000000000000000000000000500000000000000000000000000000050'),\n",
       "    HexBytes('0x000000000000000000000000eeeeeeeeeeeeeeeeeeeeeeeeeeeeeeeeeeeeeeee'),\n",
       "    HexBytes('0x000000000000000000000000a0b86991c6218b36c1d19d4a2e9eb0ce3606eb48')],\n",
       "   'data': '0x000000000000000000000000000000000000000000000000001572ccdb6bc7130000000000000000000000000000000000000000000000009f456df5961e69f00000000000000000000000000000000000000000000000000000000000000000000000000000000000000000000000000000000000000000000fc6700d013bd900000000000000000000000000000000000000000000000000000001d058f57100000000000000000000000000000000000000000000000000000004a817c8000000000000000000000000000000000000000000000000000000000000000000000000000000000000000000000000000000000000000000000000032d4e43b50000000000000000000000000000000000000000000000000000000000000001',\n",
       "   'blockHash': HexBytes('0x34c55ed009d6dc0b9a40bed04eef9dc1f656352db5166724eefe36706d3e93e2'),\n",
       "   'blockNumber': 17213368,\n",
       "   'removed': False,\n",
       "   'transactionHash': HexBytes('0x37523f3757f65dac730992f173d8a9ce762fe5addaf63968c23686cbc8a4499d'),\n",
       "   'transactionIndex': 0}),\n",
       "  AttributeDict({'logIndex': 10,\n",
       "   'address': '0xA0b86991c6218b36c1d19D4a2e9Eb0cE3606eB48',\n",
       "   'topics': [HexBytes('0xddf252ad1be2c89b69c2b068fc378daa952ba7f163c4a11628f55a4df523b3ef'),\n",
       "    HexBytes('0x00000000000000000000000041eeba3355d7d6ff628b7982f3f9d055c39488cb'),\n",
       "    HexBytes('0x000000000000000000000000c537e898cd774e2dcba3b14ea6f34c93d5ea45e1')],\n",
       "   'data': '0x0000000000000000000000000000000000000000000000000000000bfec53a28',\n",
       "   'blockHash': HexBytes('0x34c55ed009d6dc0b9a40bed04eef9dc1f656352db5166724eefe36706d3e93e2'),\n",
       "   'blockNumber': 17213368,\n",
       "   'removed': False,\n",
       "   'transactionHash': HexBytes('0x37523f3757f65dac730992f173d8a9ce762fe5addaf63968c23686cbc8a4499d'),\n",
       "   'transactionIndex': 0}),\n",
       "  AttributeDict({'logIndex': 11,\n",
       "   'address': '0xC537e898CD774e2dCBa3B14Ea6f34C93d5eA45e1',\n",
       "   'topics': [HexBytes('0x95f3b01351225fea0e69a46f68b164c9dea10284f12cd4a907ce66510ab7af6a'),\n",
       "    HexBytes('0x00000000000000000000000041eeba3355d7d6ff628b7982f3f9d055c39488cb'),\n",
       "    HexBytes('0x000000000000000000000000a0b86991c6218b36c1d19d4a2e9eb0ce3606eb48'),\n",
       "    HexBytes('0x000000000000000000000000eeeeeeeeeeeeeeeeeeeeeeeeeeeeeeeeeeeeeeee')],\n",
       "   'data': '0x0000000000000000000000000000000000000000000000000000000bfec53a28000000000000000000000000000000000000000000000001fd53f471e27752a700000000000000000000000000000000000000000000000001054c6af009793e0000000000000000000000000000000000000000000000000000000000000000',\n",
       "   'blockHash': HexBytes('0x34c55ed009d6dc0b9a40bed04eef9dc1f656352db5166724eefe36706d3e93e2'),\n",
       "   'blockNumber': 17213368,\n",
       "   'removed': False,\n",
       "   'transactionHash': HexBytes('0x37523f3757f65dac730992f173d8a9ce762fe5addaf63968c23686cbc8a4499d'),\n",
       "   'transactionIndex': 0}),\n",
       "  AttributeDict({'logIndex': 12,\n",
       "   'address': '0xA0b86991c6218b36c1d19D4a2e9Eb0cE3606eB48',\n",
       "   'topics': [HexBytes('0xddf252ad1be2c89b69c2b068fc378daa952ba7f163c4a11628f55a4df523b3ef'),\n",
       "    HexBytes('0x00000000000000000000000041eeba3355d7d6ff628b7982f3f9d055c39488cb'),\n",
       "    HexBytes('0x000000000000000000000000ebcc959479634eec5a4d7162e36f8b8cc763f491')],\n",
       "   'data': '0x00000000000000000000000000000000000000000000000000000000004e9e9f',\n",
       "   'blockHash': HexBytes('0x34c55ed009d6dc0b9a40bed04eef9dc1f656352db5166724eefe36706d3e93e2'),\n",
       "   'blockNumber': 17213368,\n",
       "   'removed': False,\n",
       "   'transactionHash': HexBytes('0x37523f3757f65dac730992f173d8a9ce762fe5addaf63968c23686cbc8a4499d'),\n",
       "   'transactionIndex': 0}),\n",
       "  AttributeDict({'logIndex': 13,\n",
       "   'address': '0xC02aaA39b223FE8D0A0e5C4F27eAD9083C756Cc2',\n",
       "   'topics': [HexBytes('0xe1fffcc4923d04b559f4d29a8bfc6cda04eb5b0d3c460751c2402c5c5cc9109c'),\n",
       "    HexBytes('0x00000000000000000000000041eeba3355d7d6ff628b7982f3f9d055c39488cb')],\n",
       "   'data': '0x000000000000000000000000000000000000000000000001fd53f471e27752a7',\n",
       "   'blockHash': HexBytes('0x34c55ed009d6dc0b9a40bed04eef9dc1f656352db5166724eefe36706d3e93e2'),\n",
       "   'blockNumber': 17213368,\n",
       "   'removed': False,\n",
       "   'transactionHash': HexBytes('0x37523f3757f65dac730992f173d8a9ce762fe5addaf63968c23686cbc8a4499d'),\n",
       "   'transactionIndex': 0}),\n",
       "  AttributeDict({'logIndex': 14,\n",
       "   'address': '0xdAC17F958D2ee523a2206206994597C13D831ec7',\n",
       "   'topics': [HexBytes('0xddf252ad1be2c89b69c2b068fc378daa952ba7f163c4a11628f55a4df523b3ef'),\n",
       "    HexBytes('0x000000000000000000000000c5af84701f98fa483ece78af83f11b6c38aca71d'),\n",
       "    HexBytes('0x00000000000000000000000041eeba3355d7d6ff628b7982f3f9d055c39488cb')],\n",
       "   'data': '0x0000000000000000000000000000000000000000000000000000000fb4641ede',\n",
       "   'blockHash': HexBytes('0x34c55ed009d6dc0b9a40bed04eef9dc1f656352db5166724eefe36706d3e93e2'),\n",
       "   'blockNumber': 17213368,\n",
       "   'removed': False,\n",
       "   'transactionHash': HexBytes('0x37523f3757f65dac730992f173d8a9ce762fe5addaf63968c23686cbc8a4499d'),\n",
       "   'transactionIndex': 0}),\n",
       "  AttributeDict({'logIndex': 15,\n",
       "   'address': '0xC02aaA39b223FE8D0A0e5C4F27eAD9083C756Cc2',\n",
       "   'topics': [HexBytes('0xddf252ad1be2c89b69c2b068fc378daa952ba7f163c4a11628f55a4df523b3ef'),\n",
       "    HexBytes('0x00000000000000000000000041eeba3355d7d6ff628b7982f3f9d055c39488cb'),\n",
       "    HexBytes('0x000000000000000000000000c5af84701f98fa483ece78af83f11b6c38aca71d')],\n",
       "   'data': '0x000000000000000000000000000000000000000000000001fd53f471e27752a7',\n",
       "   'blockHash': HexBytes('0x34c55ed009d6dc0b9a40bed04eef9dc1f656352db5166724eefe36706d3e93e2'),\n",
       "   'blockNumber': 17213368,\n",
       "   'removed': False,\n",
       "   'transactionHash': HexBytes('0x37523f3757f65dac730992f173d8a9ce762fe5addaf63968c23686cbc8a4499d'),\n",
       "   'transactionIndex': 0}),\n",
       "  AttributeDict({'logIndex': 16,\n",
       "   'address': '0xC5aF84701f98Fa483eCe78aF83F11b6C38ACA71D',\n",
       "   'topics': [HexBytes('0xc42079f94a6350d7e6235f29174924f928cc2ac818eb64fed8004e115fbcca67'),\n",
       "    HexBytes('0x000000000000000000000000e592427a0aece92de3edee1f18e0157c05861564'),\n",
       "    HexBytes('0x00000000000000000000000041eeba3355d7d6ff628b7982f3f9d055c39488cb')],\n",
       "   'data': '0x000000000000000000000000000000000000000000000001fd53f471e27752a7fffffffffffffffffffffffffffffffffffffffffffffffffffffff04b9be12200000000000000000000000000000000000000000002d2349c96519ceebda52f0000000000000000000000000000000000000000000000000be25f93f9784663fffffffffffffffffffffffffffffffffffffffffffffffffffffffffffcee8d',\n",
       "   'blockHash': HexBytes('0x34c55ed009d6dc0b9a40bed04eef9dc1f656352db5166724eefe36706d3e93e2'),\n",
       "   'blockNumber': 17213368,\n",
       "   'removed': False,\n",
       "   'transactionHash': HexBytes('0x37523f3757f65dac730992f173d8a9ce762fe5addaf63968c23686cbc8a4499d'),\n",
       "   'transactionIndex': 0}),\n",
       "  AttributeDict({'logIndex': 17,\n",
       "   'address': '0xdAC17F958D2ee523a2206206994597C13D831ec7',\n",
       "   'topics': [HexBytes('0xddf252ad1be2c89b69c2b068fc378daa952ba7f163c4a11628f55a4df523b3ef'),\n",
       "    HexBytes('0x00000000000000000000000041eeba3355d7d6ff628b7982f3f9d055c39488cb'),\n",
       "    HexBytes('0x000000000000000000000000eef417e1d5cc832e619ae18d2f140de2999dd4fb')],\n",
       "   'data': '0x0000000000000000000000000000000000000000000000000000000bfb04a918',\n",
       "   'blockHash': HexBytes('0x34c55ed009d6dc0b9a40bed04eef9dc1f656352db5166724eefe36706d3e93e2'),\n",
       "   'blockNumber': 17213368,\n",
       "   'removed': False,\n",
       "   'transactionHash': HexBytes('0x37523f3757f65dac730992f173d8a9ce762fe5addaf63968c23686cbc8a4499d'),\n",
       "   'transactionIndex': 0}),\n",
       "  AttributeDict({'logIndex': 18,\n",
       "   'address': '0xdAC17F958D2ee523a2206206994597C13D831ec7',\n",
       "   'topics': [HexBytes('0xddf252ad1be2c89b69c2b068fc378daa952ba7f163c4a11628f55a4df523b3ef'),\n",
       "    HexBytes('0x000000000000000000000000eef417e1d5cc832e619ae18d2f140de2999dd4fb'),\n",
       "    HexBytes('0x000000000000000000000000649765821d9f64198c905ec0b2b037a4a52bc373')],\n",
       "   'data': '0x0000000000000000000000000000000000000000000000000000000bfb04a918',\n",
       "   'blockHash': HexBytes('0x34c55ed009d6dc0b9a40bed04eef9dc1f656352db5166724eefe36706d3e93e2'),\n",
       "   'blockNumber': 17213368,\n",
       "   'removed': False,\n",
       "   'transactionHash': HexBytes('0x37523f3757f65dac730992f173d8a9ce762fe5addaf63968c23686cbc8a4499d'),\n",
       "   'transactionIndex': 0}),\n",
       "  AttributeDict({'logIndex': 19,\n",
       "   'address': '0xeEF417e1D5CC832e619ae18D2F140De2999dD4fB',\n",
       "   'topics': [HexBytes('0x0da3485ef1bb570df7bb888887eae5aa01d81b83cd8ccc80c0ea0922a677ecef'),\n",
       "    HexBytes('0x000000000000000000000000dac17f958d2ee523a2206206994597c13d831ec7'),\n",
       "    HexBytes('0x00000000000000000000000041eeba3355d7d6ff628b7982f3f9d055c39488cb')],\n",
       "   'data': '0x0000000000000000000000000000000000000000000000000000000bfb04a9180000000000000000000000000000000000000000000000000000000000000000',\n",
       "   'blockHash': HexBytes('0x34c55ed009d6dc0b9a40bed04eef9dc1f656352db5166724eefe36706d3e93e2'),\n",
       "   'blockNumber': 17213368,\n",
       "   'removed': False,\n",
       "   'transactionHash': HexBytes('0x37523f3757f65dac730992f173d8a9ce762fe5addaf63968c23686cbc8a4499d'),\n",
       "   'transactionIndex': 0}),\n",
       "  AttributeDict({'logIndex': 20,\n",
       "   'address': '0xB67d563287D12B1F41579cB687b04988Ad564C6C',\n",
       "   'topics': [HexBytes('0x6e96dc5343d067ec486a9920e0304c3610ed05c65e45cc029d9b9fe7ecfa7620'),\n",
       "    HexBytes('0x07b1bde762586add2afe4436e1c0ef8202a849550a824cfc3fc50bccaebc5ce3'),\n",
       "    HexBytes('0x000000000000000000000000dac17f958d2ee523a2206206994597c13d831ec7'),\n",
       "    HexBytes('0x0000000000000000000000001f573d6fb3f13d689ff844b4ce37794d79a7ff1c')],\n",
       "   'data': '0x00000000000000000000000000000000000000000002f1dd0b7cccbe8b79e18300000000000000000000000000000000000000000002eb652f143dd72117a228',\n",
       "   'blockHash': HexBytes('0x34c55ed009d6dc0b9a40bed04eef9dc1f656352db5166724eefe36706d3e93e2'),\n",
       "   'blockNumber': 17213368,\n",
       "   'removed': False,\n",
       "   'transactionHash': HexBytes('0x37523f3757f65dac730992f173d8a9ce762fe5addaf63968c23686cbc8a4499d'),\n",
       "   'transactionIndex': 0}),\n",
       "  AttributeDict({'logIndex': 21,\n",
       "   'address': '0xB67d563287D12B1F41579cB687b04988Ad564C6C',\n",
       "   'topics': [HexBytes('0x6e96dc5343d067ec486a9920e0304c3610ed05c65e45cc029d9b9fe7ecfa7620'),\n",
       "    HexBytes('0x07b1bde762586add2afe4436e1c0ef8202a849550a824cfc3fc50bccaebc5ce3'),\n",
       "    HexBytes('0x000000000000000000000000dac17f958d2ee523a2206206994597c13d831ec7'),\n",
       "    HexBytes('0x000000000000000000000000dac17f958d2ee523a2206206994597c13d831ec7')],\n",
       "   'data': '0x000000000000000000000000000000000000000000000000000001ae51582add000000000000000000000000000000000000000000000000000001b20ab7a0a3',\n",
       "   'blockHash': HexBytes('0x34c55ed009d6dc0b9a40bed04eef9dc1f656352db5166724eefe36706d3e93e2'),\n",
       "   'blockNumber': 17213368,\n",
       "   'removed': False,\n",
       "   'transactionHash': HexBytes('0x37523f3757f65dac730992f173d8a9ce762fe5addaf63968c23686cbc8a4499d'),\n",
       "   'transactionIndex': 0}),\n",
       "  AttributeDict({'logIndex': 22,\n",
       "   'address': '0xeEF417e1D5CC832e619ae18D2F140De2999dD4fB',\n",
       "   'topics': [HexBytes('0x5c02c2bb2d1d082317eb23916ca27b3e7c294398b60061a2ad54f1c3c018c318'),\n",
       "    HexBytes('0x07b1bde762586add2afe4436e1c0ef8202a849550a824cfc3fc50bccaebc5ce3'),\n",
       "    HexBytes('0x000000000000000000000000dac17f958d2ee523a2206206994597c13d831ec7'),\n",
       "    HexBytes('0x0000000000000000000000001f573d6fb3f13d689ff844b4ce37794d79a7ff1c')],\n",
       "   'data': '0x00000000000000000000000000000000000000000000000000000003b95f75c6000000000000000000000000000000000000000000000677dc688ee76a623f5b000000000000000000000000000000000000000000000677dc688ee76a623f5b0000000000000000000000000000000000000000000000000000000000000000000000000000000000000000000000000000000000000000000000000000000000000000000000000000000041eeba3355d7d6ff628b7982f3f9d055c39488cb',\n",
       "   'blockHash': HexBytes('0x34c55ed009d6dc0b9a40bed04eef9dc1f656352db5166724eefe36706d3e93e2'),\n",
       "   'blockNumber': 17213368,\n",
       "   'removed': False,\n",
       "   'transactionHash': HexBytes('0x37523f3757f65dac730992f173d8a9ce762fe5addaf63968c23686cbc8a4499d'),\n",
       "   'transactionIndex': 0}),\n",
       "  AttributeDict({'logIndex': 23,\n",
       "   'address': '0xdAC17F958D2ee523a2206206994597C13D831ec7',\n",
       "   'topics': [HexBytes('0xddf252ad1be2c89b69c2b068fc378daa952ba7f163c4a11628f55a4df523b3ef'),\n",
       "    HexBytes('0x00000000000000000000000041eeba3355d7d6ff628b7982f3f9d055c39488cb'),\n",
       "    HexBytes('0x000000000000000000000000649765821d9f64198c905ec0b2b037a4a52bc373')],\n",
       "   'data': '0x00000000000000000000000000000000000000000000000000000003b95f75c6',\n",
       "   'blockHash': HexBytes('0x34c55ed009d6dc0b9a40bed04eef9dc1f656352db5166724eefe36706d3e93e2'),\n",
       "   'blockNumber': 17213368,\n",
       "   'removed': False,\n",
       "   'transactionHash': HexBytes('0x37523f3757f65dac730992f173d8a9ce762fe5addaf63968c23686cbc8a4499d'),\n",
       "   'transactionIndex': 0}),\n",
       "  AttributeDict({'logIndex': 24,\n",
       "   'address': '0x1F573D6Fb3F13d689FF844B4cE37794d79a7FF1C',\n",
       "   'topics': [HexBytes('0xddf252ad1be2c89b69c2b068fc378daa952ba7f163c4a11628f55a4df523b3ef'),\n",
       "    HexBytes('0x000000000000000000000000649765821d9f64198c905ec0b2b037a4a52bc373'),\n",
       "    HexBytes('0x00000000000000000000000041eeba3355d7d6ff628b7982f3f9d055c39488cb')],\n",
       "   'data': '0x000000000000000000000000000000000000000000000677dc688ee76a623f5b',\n",
       "   'blockHash': HexBytes('0x34c55ed009d6dc0b9a40bed04eef9dc1f656352db5166724eefe36706d3e93e2'),\n",
       "   'blockNumber': 17213368,\n",
       "   'removed': False,\n",
       "   'transactionHash': HexBytes('0x37523f3757f65dac730992f173d8a9ce762fe5addaf63968c23686cbc8a4499d'),\n",
       "   'transactionIndex': 0}),\n",
       "  AttributeDict({'logIndex': 25,\n",
       "   'address': '0x649765821D9f64198c905eC0B2B037a4a52Bc373',\n",
       "   'topics': [HexBytes('0xc322efa58c9cb2c39cfffdac61d35c8643f5cbf13c6a7d0034de2cf18923aff3'),\n",
       "    HexBytes('0x0000000000000000000000001f573d6fb3f13d689ff844b4ce37794d79a7ff1c'),\n",
       "    HexBytes('0x000000000000000000000000eef417e1d5cc832e619ae18d2f140de2999dd4fb'),\n",
       "    HexBytes('0x00000000000000000000000041eeba3355d7d6ff628b7982f3f9d055c39488cb')],\n",
       "   'data': '0x000000000000000000000000000000000000000000000677dc688ee76a623f5b',\n",
       "   'blockHash': HexBytes('0x34c55ed009d6dc0b9a40bed04eef9dc1f656352db5166724eefe36706d3e93e2'),\n",
       "   'blockNumber': 17213368,\n",
       "   'removed': False,\n",
       "   'transactionHash': HexBytes('0x37523f3757f65dac730992f173d8a9ce762fe5addaf63968c23686cbc8a4499d'),\n",
       "   'transactionIndex': 0}),\n",
       "  AttributeDict({'logIndex': 26,\n",
       "   'address': '0x1F573D6Fb3F13d689FF844B4cE37794d79a7FF1C',\n",
       "   'topics': [HexBytes('0xddf252ad1be2c89b69c2b068fc378daa952ba7f163c4a11628f55a4df523b3ef'),\n",
       "    HexBytes('0x00000000000000000000000041eeba3355d7d6ff628b7982f3f9d055c39488cb'),\n",
       "    HexBytes('0x0000000000000000000000001f573d6fb3f13d689ff844b4ce37794d79a7ff1c')],\n",
       "   'data': '0x00000000000000000000000000000000000000000000067270a130ba07523f5b',\n",
       "   'blockHash': HexBytes('0x34c55ed009d6dc0b9a40bed04eef9dc1f656352db5166724eefe36706d3e93e2'),\n",
       "   'blockNumber': 17213368,\n",
       "   'removed': False,\n",
       "   'transactionHash': HexBytes('0x37523f3757f65dac730992f173d8a9ce762fe5addaf63968c23686cbc8a4499d'),\n",
       "   'transactionIndex': 0}),\n",
       "  AttributeDict({'logIndex': 27,\n",
       "   'address': '0x1F573D6Fb3F13d689FF844B4cE37794d79a7FF1C',\n",
       "   'topics': [HexBytes('0x9a1b418bc061a5d80270261562e6986a35d995f8051145f277be16103abd3453')],\n",
       "   'data': '0x00000000000000000000000000000000000000000000067270a130ba07523f5b',\n",
       "   'blockHash': HexBytes('0x34c55ed009d6dc0b9a40bed04eef9dc1f656352db5166724eefe36706d3e93e2'),\n",
       "   'blockNumber': 17213368,\n",
       "   'removed': False,\n",
       "   'transactionHash': HexBytes('0x37523f3757f65dac730992f173d8a9ce762fe5addaf63968c23686cbc8a4499d'),\n",
       "   'transactionIndex': 0}),\n",
       "  AttributeDict({'logIndex': 28,\n",
       "   'address': '0x1F573D6Fb3F13d689FF844B4cE37794d79a7FF1C',\n",
       "   'topics': [HexBytes('0xddf252ad1be2c89b69c2b068fc378daa952ba7f163c4a11628f55a4df523b3ef'),\n",
       "    HexBytes('0x00000000000000000000000041eeba3355d7d6ff628b7982f3f9d055c39488cb'),\n",
       "    HexBytes('0x00000000000000000000000028c6c06298d514db089934071355e5743bf21d60')],\n",
       "   'data': '0x0000000000000000000000000000000000000000000000056bc75e2d63100000',\n",
       "   'blockHash': HexBytes('0x34c55ed009d6dc0b9a40bed04eef9dc1f656352db5166724eefe36706d3e93e2'),\n",
       "   'blockNumber': 17213368,\n",
       "   'removed': False,\n",
       "   'transactionHash': HexBytes('0x37523f3757f65dac730992f173d8a9ce762fe5addaf63968c23686cbc8a4499d'),\n",
       "   'transactionIndex': 0}),\n",
       "  AttributeDict({'logIndex': 29,\n",
       "   'address': '0x41Eeba3355d7D6FF628B7982F3F9D055c39488cB',\n",
       "   'topics': [HexBytes('0xff8eb78730569e0ec598efa1a9e2263591cdaa6ad3d6c980a57a60aeee316918'),\n",
       "    HexBytes('0x00000000000000000000000028c6c06298d514db089934071355e5743bf21d60')],\n",
       "   'data': '0x00000000000000000000000000000000000000000000000000000000000000a000000000000000000000000000000000000000000000000000000000000001200000000000000000000000000000000000000000000000000000000bfb04a91800000000000000000000000000000000000000000000067270a130ba07523f5b0000000000000000000000000000000000000000000000056bc75e2d6310000000000000000000000000000000000000000000000000000000000000000000030000000000000000000000000000000000000000000000000000000000000004000000000000000000000000000000000000000000000000000000000000000600000000000000000000000000000000000000000000000000000000000000040000000000000000000000000000000000000000000000000000000000000004000000000000000000000000dac17f958d2ee523a2206206994597c13d831ec7000000000000000000000000a0b86991c6218b36c1d19d4a2e9eb0ce3606eb48000000000000000000000000eeeeeeeeeeeeeeeeeeeeeeeeeeeeeeeeeeeeeeee000000000000000000000000dac17f958d2ee523a2206206994597c13d831ec7',\n",
       "   'blockHash': HexBytes('0x34c55ed009d6dc0b9a40bed04eef9dc1f656352db5166724eefe36706d3e93e2'),\n",
       "   'blockNumber': 17213368,\n",
       "   'removed': False,\n",
       "   'transactionHash': HexBytes('0x37523f3757f65dac730992f173d8a9ce762fe5addaf63968c23686cbc8a4499d'),\n",
       "   'transactionIndex': 0})],\n",
       " 'logsBloom': HexBytes('0x0000000a182001000800100000000080000000400000000000020000200000000000000000000000000003000100010002000000480020000810120000000000080002000000000808000148040000000000040080002000000000808a00800100008000010200000000500000100000002000200400000002008011000880000000000000200000041100000000000200000001810000000100808020100000000000400000200040010080810400000000100802000000008100a600000040000c00021100000800000000401000100808000201000004022401000000000000102000002000000000081000000000040800000100004000a0200000001000'),\n",
       " 'status': 1,\n",
       " 'type': '0x0'})"
      ]
     },
     "execution_count": 32,
     "metadata": {},
     "output_type": "execute_result"
    }
   ],
   "source": [
    "### This to manually submit\n",
    "bot._validate_and_submit_transaction_tenderly(\n",
    "        ConfigObj = C,\n",
    "        route_struct = route_struct,\n",
    "        src_amount = flashloan_amount,\n",
    "        src_address = flashloan_token_address,\n",
    "            )"
   ]
  },
  {
   "attachments": {},
   "cell_type": "markdown",
   "id": "993e6614",
   "metadata": {},
   "source": [
    "# MAINNNET Preferred Tx Submission Method"
   ]
  },
  {
   "cell_type": "code",
   "execution_count": 33,
   "id": "67273141",
   "metadata": {
    "ExecuteTime": {
     "end_time": "2023-05-15T14:46:42.224953400Z",
     "start_time": "2023-05-15T14:46:42.182352300Z"
    }
   },
   "outputs": [],
   "source": [
    "# from fastlane_bot.helpers import TxHelpers"
   ]
  },
  {
   "cell_type": "code",
   "execution_count": 34,
   "id": "75ae6224",
   "metadata": {
    "ExecuteTime": {
     "end_time": "2023-05-15T14:46:42.228940100Z",
     "start_time": "2023-05-15T14:46:42.199827900Z"
    }
   },
   "outputs": [],
   "source": [
    "# pool = (\n",
    "#     bot.db.get_pool(exchange_name=bot.ConfigObj.BANCOR_V3_NAME, pair_name='BNT-FF1C/ETH-EEeE')\n",
    "# )\n",
    "# bnt_eth = (int(pool.tkn0_balance), int(pool.tkn1_balance))\n",
    "\n",
    "# # Init TxHelpers\n",
    "# tx_helpers = TxHelpers(ConfigObj=bot.ConfigObj)\n",
    "# # Submit tx\n",
    "\n"
   ]
  },
  {
   "cell_type": "code",
   "execution_count": 35,
   "id": "17ab9e38",
   "metadata": {
    "ExecuteTime": {
     "end_time": "2023-05-15T14:46:42.228940100Z",
     "start_time": "2023-05-15T14:46:42.224953400Z"
    }
   },
   "outputs": [],
   "source": [
    "# tx_helpers.validate_and_submit_transaction(route_struct=route_struct, src_amt=flashloan_amount,\n",
    "#                                                     src_address=flashloan_token_address, bnt_eth=bnt_eth,\n",
    "#                                                     expected_profit=Decimal('1000'), safety_override=True)"
   ]
  },
  {
   "attachments": {},
   "cell_type": "markdown",
   "id": "0eb9760c",
   "metadata": {},
   "source": [
    "# MAINNET Forced Tx Submission Method"
   ]
  },
  {
   "cell_type": "code",
   "execution_count": 36,
   "id": "931af988",
   "metadata": {
    "ExecuteTime": {
     "end_time": "2023-05-15T14:46:42.240748400Z",
     "start_time": "2023-05-15T14:46:42.226946300Z"
    }
   },
   "outputs": [],
   "source": [
    "# # Initialize tx helper\n",
    "# tx_helper = TxHelper(\n",
    "#     usd_gas_limit=55,\n",
    "#     ConfigObj=bot.ConfigObj,\n",
    "#     gas_price_multiplier = 1\n",
    "# )\n",
    "# # # Submit the transaction\n",
    "# # tx_helper.submit_flashloan_arb_tx(\n",
    "# #     arb_data=route_struct,\n",
    "# #     flashloan_token_address=flashloan_token_address,\n",
    "# #     flashloan_amount=flashloan_amount,\n",
    "# #     verbose=True,\n",
    "# # )"
   ]
  },
  {
   "cell_type": "code",
   "execution_count": 37,
   "id": "5894289c",
   "metadata": {
    "ExecuteTime": {
     "end_time": "2023-05-15T14:46:42.268664200Z",
     "start_time": "2023-05-15T14:46:42.240748400Z"
    }
   },
   "outputs": [],
   "source": [
    "# tx_helper.gas_limit"
   ]
  }
 ],
 "metadata": {
  "jupytext": {
   "encoding": "# -*- coding: utf-8 -*-",
   "formats": "ipynb,py:light"
  },
  "kernelspec": {
   "display_name": "Python 3 (ipykernel)",
   "language": "python",
   "name": "python3"
  },
  "language_info": {
   "codemirror_mode": {
    "name": "ipython",
    "version": 3
   },
   "file_extension": ".py",
   "mimetype": "text/x-python",
   "name": "python",
   "nbconvert_exporter": "python",
   "pygments_lexer": "ipython3",
   "version": "3.10.10"
  }
 },
 "nbformat": 4,
 "nbformat_minor": 5
}

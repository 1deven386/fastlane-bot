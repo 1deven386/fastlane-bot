{
 "cells": [
  {
   "cell_type": "code",
   "execution_count": 1,
   "id": "8f04c50a-67fe-4f09-822d-6ed6e3ac43e4",
   "metadata": {},
   "outputs": [
    {
     "ename": "FileNotFoundError",
     "evalue": "[Errno 2] No such file or directory: '/Users/mikewcasale/Local/projects/bancor/carbonbot-main/resources/NBTest/fastlane_bot/data/tokens.csv'",
     "output_type": "error",
     "traceback": [
      "\u001B[0;31m---------------------------------------------------------------------------\u001B[0m",
      "\u001B[0;31mFileNotFoundError\u001B[0m                         Traceback (most recent call last)",
      "Cell \u001B[0;32mIn[1], line 1\u001B[0m\n\u001B[0;32m----> 1\u001B[0m \u001B[38;5;28;01mfrom\u001B[39;00m \u001B[38;5;21;01mfastlane_bot\u001B[39;00m \u001B[38;5;28;01mimport\u001B[39;00m Config, ConfigDB, ConfigNetwork, ConfigProvider\n\u001B[1;32m      2\u001B[0m \u001B[38;5;28;01mfrom\u001B[39;00m \u001B[38;5;21;01mfastlane_bot\u001B[39;00m\u001B[38;5;21;01m.\u001B[39;00m\u001B[38;5;21;01mbot\u001B[39;00m \u001B[38;5;28;01mimport\u001B[39;00m CarbonBot\n\u001B[1;32m      3\u001B[0m \u001B[38;5;28;01mfrom\u001B[39;00m \u001B[38;5;21;01mfastlane_bot\u001B[39;00m\u001B[38;5;21;01m.\u001B[39;00m\u001B[38;5;21;01mtools\u001B[39;00m\u001B[38;5;21;01m.\u001B[39;00m\u001B[38;5;21;01mcpc\u001B[39;00m \u001B[38;5;28;01mimport\u001B[39;00m ConstantProductCurve \u001B[38;5;28;01mas\u001B[39;00m CPC, CPCContainer, T\n",
      "File \u001B[0;32m~/Local/projects/bancor/carbonbot-main/fastlane_bot/__init__.py:4\u001B[0m\n\u001B[1;32m      1\u001B[0m __VERSION__ \u001B[38;5;241m=\u001B[39m \u001B[38;5;124m\"\u001B[39m\u001B[38;5;124m2.0-BETA5\u001B[39m\u001B[38;5;124m\"\u001B[39m\n\u001B[1;32m      2\u001B[0m __DATE__ \u001B[38;5;241m=\u001B[39m \u001B[38;5;124m\"\u001B[39m\u001B[38;5;124m02/May/2023\u001B[39m\u001B[38;5;124m\"\u001B[39m\n\u001B[0;32m----> 4\u001B[0m \u001B[38;5;28;01mfrom\u001B[39;00m \u001B[38;5;21;01m.\u001B[39;00m\u001B[38;5;21;01mbot\u001B[39;00m \u001B[38;5;28;01mimport\u001B[39;00m CarbonBot \u001B[38;5;28;01mas\u001B[39;00m Bot\n\u001B[1;32m      5\u001B[0m \u001B[38;5;28;01mfrom\u001B[39;00m \u001B[38;5;21;01m.\u001B[39;00m\u001B[38;5;21;01mconfig\u001B[39;00m \u001B[38;5;28;01mimport\u001B[39;00m Config, ConfigNetwork, ConfigDB, ConfigLogger, ConfigProvider\n",
      "File \u001B[0;32m~/Local/projects/bancor/carbonbot-main/fastlane_bot/bot.py:65\u001B[0m\n\u001B[1;32m     63\u001B[0m \u001B[38;5;28;01mfrom\u001B[39;00m \u001B[38;5;21;01mfastlane_bot\u001B[39;00m\u001B[38;5;21;01m.\u001B[39;00m\u001B[38;5;21;01mconfig\u001B[39;00m \u001B[38;5;28;01mimport\u001B[39;00m Config\n\u001B[1;32m     64\u001B[0m \u001B[38;5;28;01mfrom\u001B[39;00m \u001B[38;5;21;01m.\u001B[39;00m \u001B[38;5;28;01mimport\u001B[39;00m __VERSION__, __DATE__\n\u001B[0;32m---> 65\u001B[0m \u001B[38;5;28;01mfrom\u001B[39;00m \u001B[38;5;21;01m.\u001B[39;00m\u001B[38;5;21;01mdb\u001B[39;00m\u001B[38;5;21;01m.\u001B[39;00m\u001B[38;5;21;01mmock_model_managers\u001B[39;00m \u001B[38;5;28;01mimport\u001B[39;00m MockDatabaseManager\n\u001B[1;32m     66\u001B[0m \u001B[38;5;28;01mfrom\u001B[39;00m \u001B[38;5;21;01m.\u001B[39;00m\u001B[38;5;21;01mhelpers\u001B[39;00m\u001B[38;5;21;01m.\u001B[39;00m\u001B[38;5;21;01mtxhelpers\u001B[39;00m \u001B[38;5;28;01mimport\u001B[39;00m TxHelper\n\u001B[1;32m     69\u001B[0m \u001B[38;5;66;03m# errorlogger = self.ConfigObj.logger.error\u001B[39;00m\n\u001B[1;32m     70\u001B[0m \u001B[38;5;66;03m# errorlogger = self.ConfigObj.logger.debug # TODO: REMOVE THIS\u001B[39;00m\n",
      "File \u001B[0;32m~/Local/projects/bancor/carbonbot-main/fastlane_bot/db/mock_model_managers.py:45\u001B[0m\n\u001B[1;32m     40\u001B[0m             data\u001B[38;5;241m.\u001B[39mappend(row)\n\u001B[1;32m     42\u001B[0m     \u001B[38;5;28;01mreturn\u001B[39;00m data\n\u001B[0;32m---> 45\u001B[0m \u001B[38;5;28;01mclass\u001B[39;00m \u001B[38;5;21;01mMockTokenManager\u001B[39;00m(TokenManager):\n\u001B[1;32m     46\u001B[0m \u001B[38;5;250m    \u001B[39m\u001B[38;5;124;03m\"\"\"\u001B[39;00m\n\u001B[1;32m     47\u001B[0m \u001B[38;5;124;03m    A mock TokenManager class.\u001B[39;00m\n\u001B[1;32m     48\u001B[0m \u001B[38;5;124;03m    \"\"\"\u001B[39;00m\n\u001B[1;32m     49\u001B[0m     tokens \u001B[38;5;241m=\u001B[39m load_csv_data(\u001B[38;5;124m\"\u001B[39m\u001B[38;5;124mtokens.csv\u001B[39m\u001B[38;5;124m\"\u001B[39m)\n",
      "File \u001B[0;32m~/Local/projects/bancor/carbonbot-main/fastlane_bot/db/mock_model_managers.py:49\u001B[0m, in \u001B[0;36mMockTokenManager\u001B[0;34m()\u001B[0m\n\u001B[1;32m     45\u001B[0m \u001B[38;5;28;01mclass\u001B[39;00m \u001B[38;5;21;01mMockTokenManager\u001B[39;00m(TokenManager):\n\u001B[1;32m     46\u001B[0m \u001B[38;5;250m    \u001B[39m\u001B[38;5;124;03m\"\"\"\u001B[39;00m\n\u001B[1;32m     47\u001B[0m \u001B[38;5;124;03m    A mock TokenManager class.\u001B[39;00m\n\u001B[1;32m     48\u001B[0m \u001B[38;5;124;03m    \"\"\"\u001B[39;00m\n\u001B[0;32m---> 49\u001B[0m     tokens \u001B[38;5;241m=\u001B[39m \u001B[43mload_csv_data\u001B[49m\u001B[43m(\u001B[49m\u001B[38;5;124;43m\"\u001B[39;49m\u001B[38;5;124;43mtokens.csv\u001B[39;49m\u001B[38;5;124;43m\"\u001B[39;49m\u001B[43m)\u001B[49m\n\u001B[1;32m     51\u001B[0m     \u001B[38;5;28;01mdef\u001B[39;00m \u001B[38;5;21mget_token\u001B[39m(\u001B[38;5;28mself\u001B[39m, \u001B[38;5;241m*\u001B[39m\u001B[38;5;241m*\u001B[39mkwargs) \u001B[38;5;241m-\u001B[39m\u001B[38;5;241m>\u001B[39m Optional[namedtuple]:\n\u001B[1;32m     52\u001B[0m         \u001B[38;5;28;01mfor\u001B[39;00m token \u001B[38;5;129;01min\u001B[39;00m \u001B[38;5;28mself\u001B[39m\u001B[38;5;241m.\u001B[39mtokens:\n",
      "File \u001B[0;32m~/Local/projects/bancor/carbonbot-main/fastlane_bot/db/mock_model_managers.py:37\u001B[0m, in \u001B[0;36mload_csv_data\u001B[0;34m(filename)\u001B[0m\n\u001B[1;32m     34\u001B[0m file_path \u001B[38;5;241m=\u001B[39m os\u001B[38;5;241m.\u001B[39mpath\u001B[38;5;241m.\u001B[39mnormpath(\u001B[38;5;124mf\u001B[39m\u001B[38;5;124m\"\u001B[39m\u001B[38;5;132;01m{\u001B[39;00mPROJECT_PATH\u001B[38;5;132;01m}\u001B[39;00m\u001B[38;5;124m/fastlane_bot/data/\u001B[39m\u001B[38;5;132;01m{\u001B[39;00mfilename\u001B[38;5;132;01m}\u001B[39;00m\u001B[38;5;124m\"\u001B[39m)\n\u001B[1;32m     35\u001B[0m data \u001B[38;5;241m=\u001B[39m []\n\u001B[0;32m---> 37\u001B[0m \u001B[38;5;28;01mwith\u001B[39;00m \u001B[38;5;28;43mopen\u001B[39;49m\u001B[43m(\u001B[49m\u001B[43mfile_path\u001B[49m\u001B[43m,\u001B[49m\u001B[43m \u001B[49m\u001B[43mmode\u001B[49m\u001B[38;5;241;43m=\u001B[39;49m\u001B[38;5;124;43m\"\u001B[39;49m\u001B[38;5;124;43mr\u001B[39;49m\u001B[38;5;124;43m\"\u001B[39;49m\u001B[43m)\u001B[49m \u001B[38;5;28;01mas\u001B[39;00m csvfile:\n\u001B[1;32m     38\u001B[0m     reader \u001B[38;5;241m=\u001B[39m csv\u001B[38;5;241m.\u001B[39mDictReader(csvfile)\n\u001B[1;32m     39\u001B[0m     \u001B[38;5;28;01mfor\u001B[39;00m row \u001B[38;5;129;01min\u001B[39;00m reader:\n",
      "\u001B[0;31mFileNotFoundError\u001B[0m: [Errno 2] No such file or directory: '/Users/mikewcasale/Local/projects/bancor/carbonbot-main/resources/NBTest/fastlane_bot/data/tokens.csv'"
     ]
    }
   ],
   "source": [
    "from fastlane_bot import Config, ConfigDB, ConfigNetwork, ConfigProvider\n",
    "from fastlane_bot.bot import CarbonBot\n",
    "from fastlane_bot.tools.cpc import ConstantProductCurve as CPC, CPCContainer, T\n",
    "print(\"{0.__name__} v{0.__VERSION__} ({0.__DATE__})\".format(CPC))\n",
    "print(\"{0.__name__} v{0.__VERSION__} ({0.__DATE__})\".format(CarbonBot))\n",
    "from fastlane_bot.testing import *\n",
    "plt.style.use('seaborn-dark')\n",
    "plt.rcParams['figure.figsize'] = [12,6]\n",
    "from fastlane_bot import __VERSION__\n",
    "require(\"2.0\", __VERSION__)"
   ]
  },
  {
   "cell_type": "markdown",
   "id": "b3f59f14-b91b-4dba-94b0-3d513aaf41c7",
   "metadata": {},
   "source": [
    "# Testing the _run functions on TENDERLY [NBTest011b]"
   ]
  },
  {
   "cell_type": "markdown",
   "id": "cf03072d-6304-41f8-b132-9470ae81ac7c",
   "metadata": {},
   "source": [
    "## TENDERLY Configuration"
   ]
  },
  {
   "cell_type": "code",
   "execution_count": null,
   "outputs": [],
   "source": [
    "ADDRDEC = dict(\n",
    "    USDC=(\"0xA0b86991c6218b36c1d19D4a2e9Eb0cE3606eB48\", 6),\n",
    "    WETH=(\"0xC02aaA39b223FE8D0A0e5C4F27eAD9083C756Cc2\", 18),\n",
    ")"
   ],
   "metadata": {
    "collapsed": false
   }
  },
  {
   "cell_type": "code",
   "execution_count": null,
   "id": "263b8a65-3b9e-40e3-8b3b-f6b95922e8cb",
   "metadata": {},
   "outputs": [],
   "source": [
    "C_nw = ConfigNetwork.new(network=ConfigNetwork.NETWORK_TENDERLY)\n",
    "c1, c2 = C_nw.shellcommand().splitlines()\n",
    "print(c1)\n",
    "print(c2)\n",
    "# !{c1}\n",
    "# !{c2}"
   ]
  },
  {
   "cell_type": "markdown",
   "id": "0990888a-698c-487c-9142-80e62a8393ac",
   "metadata": {},
   "source": [
    "### Set up the bot and curves"
   ]
  },
  {
   "cell_type": "code",
   "execution_count": null,
   "id": "da9ff008-cb12-44f7-93a8-84f7386da886",
   "metadata": {},
   "outputs": [],
   "source": [
    "C = Config.new(config=Config.CONFIG_TENDERLY)\n",
    "bot = CarbonBot(ConfigObj=C)\n",
    "assert C.DATABASE == C.DATABASE_POSTGRES\n",
    "assert C.POSTGRES_DB == \"tenderly\"\n",
    "assert C.NETWORK == C.NETWORK_TENDERLY\n",
    "assert C.PROVIDER == C.PROVIDER_TENDERLY\n",
    "assert C.w3.provider.endpoint_uri.startswith(\"https://rpc.tenderly.co/fork/\")\n",
    "assert len(bot.db.get_carbon_pairs()) > 10\n",
    "assert bot.db.carbon_controller.address == '0xC537e898CD774e2dCBa3B14Ea6f34C93d5eA45e1'\n",
    "assert str(type(bot.db)) == \"<class 'fastlane_bot.db.manager.DatabaseManager'>\""
   ]
  },
  {
   "cell_type": "code",
   "execution_count": null,
   "id": "062be6b9-0d72-4a48-a7ac-8aefd50408b1",
   "metadata": {},
   "outputs": [],
   "source": [
    "#provided here for convenience; must be commented out for tests\n",
    "#bot.update(drop_tables=False, only_carbon=False, top_n=10)"
   ]
  },
  {
   "cell_type": "code",
   "execution_count": null,
   "id": "63616260-f33a-4844-93b8-7acfedb4326f",
   "metadata": {},
   "outputs": [],
   "source": [
    "CCm = bot.get_curves()\n",
    "CCc1 = CCm.byparams(exchange=\"carbon_v1\")\n",
    "CCb3 = CCm.byparams(exchange=\"bancor_v3\")\n",
    "CCu2 = CCm.byparams(exchange=\"uniswap_v2\")\n",
    "CCu3 = CCm.byparams(exchange=\"uniswap_v3\")\n",
    "exch = {c.P(\"exchange\") for c in CCm}\n",
    "b3_prices_l = [(c.pairo.tknq, c.p, c.p_convention()) for c in CCb3]\n",
    "b3_prices_l[:5]\n",
    "b3_prices = {r[0]:r[1] for r in b3_prices_l}\n",
    "u2_prices_l = [(c.pairo.pair, c.p, c.p_convention()) for c in CCu2]\n",
    "price = lambda tknq, tknb: b3_prices[tknb]/b3_prices[tknq]\n",
    "print(\"Number of curves:\", len(CCm), len(CCb3), len(CCu2), len(CCc1), len(CCu3))\n",
    "print(\"Number of tokens:\", len(CCm.tokens()))\n",
    "# for pair in [(T.WBTC, T.USDC), (T.DAI, T.USDC)]:\n",
    "#     print(f\"Price {pair}:\", price(*pair))\n",
    "print(\"Exchanges:\", exch)"
   ]
  },
  {
   "cell_type": "code",
   "execution_count": null,
   "id": "d9ca51ca-03c2-4a63-87e4-a699948bb348",
   "metadata": {},
   "outputs": [],
   "source": [
    "assert {T.ETH, T.USDC, T.WBTC, T.DAI, T.BNT} - CCm.tokens() == set(), \"Key tokens missing\"\n",
    "assert len(CCm) > 100, f\"Not enough curves {len(CCm)}\"\n",
    "assert len(b3_prices_l) == len(CCb3)\n",
    "assert price(T.WBTC, T.WBTC) == 1\n",
    "assert price(T.USDC, T.USDC) == 1\n",
    "assert price(T.WBTC, T.USDC) > 10000\n",
    "assert price(T.USDC, T.WBTC) < 1/10000\n",
    "assert np.all(r[1]>0 for r in b3_prices_l)\n",
    "assert 'uniswap_v3' in exch, f\"uni v3 not in exchanges {exch}\"\n",
    "assert 'carbon_v1' in exch, f\"carbon not in exchanges {exch}\"\n",
    "assert len(exch) == 6, f\"exchanges missing {exch}\""
   ]
  },
  {
   "cell_type": "code",
   "execution_count": null,
   "id": "e04d0f2d-d636-469d-9da4-ae9e85252bca",
   "metadata": {},
   "outputs": [],
   "source": [
    "CCm = bot.get_curves()\n",
    "len(CCm)"
   ]
  },
  {
   "cell_type": "code",
   "execution_count": null,
   "id": "3e935d7b-2b10-495f-9379-b3e883575fad",
   "metadata": {},
   "outputs": [],
   "source": [
    "raise"
   ]
  },
  {
   "cell_type": "code",
   "execution_count": null,
   "id": "1ee60bc7-d4b6-4612-a2ea-93a36d8d2b53",
   "metadata": {},
   "outputs": [],
   "source": [
    "#CCm.plot()"
   ]
  },
  {
   "cell_type": "markdown",
   "id": "10b62d9a-25b8-42f4-9c73-24b059551b99",
   "metadata": {},
   "source": [
    "### Run `_find_arbitrage_opportunities}`"
   ]
  },
  {
   "cell_type": "markdown",
   "id": "c05fda51-9e6b-4792-a15d-7437e3dffc0d",
   "metadata": {},
   "source": [
    "#### AO_TOKENS"
   ]
  },
  {
   "cell_type": "code",
   "execution_count": null,
   "id": "09c2cf84-217b-40d3-a878-5ae63f773c06",
   "metadata": {},
   "outputs": [],
   "source": [
    "flt = [T.ETH]\n",
    "r=bot._find_arbitrage_opportunities(flashloan_tokens=flt, CCm=CCm, result=bot.AO_TOKENS)\n",
    "#r\n",
    "len(r[0]), len(r[1]), list(r[0])[0], list(r[1])[0]"
   ]
  },
  {
   "cell_type": "code",
   "execution_count": null,
   "id": "6318966a-3b06-4584-a311-fd960e17cb25",
   "metadata": {},
   "outputs": [],
   "source": [
    "assert len(r[0]) > 100\n",
    "assert len(r[1]) > 100\n",
    "# assert r[1] == [('WETH-6Cc2', 'USDC-eB48')]"
   ]
  },
  {
   "cell_type": "markdown",
   "id": "3d528aab-9816-4f5a-a037-ae87494eb481",
   "metadata": {},
   "source": [
    "#### AO_CANDIDATES [USDC]"
   ]
  },
  {
   "cell_type": "code",
   "execution_count": null,
   "id": "70d50ff6-0fc8-410f-9402-43e10e2a3362",
   "metadata": {},
   "outputs": [],
   "source": [
    "flt = [T.USDC]\n",
    "r = bot._find_arbitrage_opportunities(flashloan_tokens=flt, CCm=CCm, result=bot.AO_CANDIDATES)\n",
    "len(r)"
   ]
  },
  {
   "cell_type": "markdown",
   "id": "132ffbe6-3888-482f-9699-c278551e62d6",
   "metadata": {},
   "source": [
    "#### AO_CANDIDATES [WETH]"
   ]
  },
  {
   "cell_type": "code",
   "execution_count": null,
   "id": "b85540d3-fe68-4c80-b63c-43606c009886",
   "metadata": {},
   "outputs": [],
   "source": [
    "flt = [T.WETH]\n",
    "r = bot._find_arbitrage_opportunities(flashloan_tokens=flt, CCm=CCm, result=bot.AO_CANDIDATES)\n",
    "print(\"---\\nlen(r)\", len(r))\n",
    "assert len(r) >= 1, \"The candidates should be populated in this direction\"\n",
    "r0, r1, r2, r3, r4 = r[1]\n",
    "# assert r0 > 0, \"The profit should be positive\"\n",
    "r"
   ]
  },
  {
   "cell_type": "code",
   "execution_count": null,
   "id": "908fe640-0769-4ff9-88ca-d20b25ae55c0",
   "metadata": {},
   "outputs": [],
   "source": [
    "tn = r1.loc[\"TOTAL NET\"].to_dict()\n",
    "tntkn = list(set(tn.keys()) - {flt[0]})\n",
    "print(\"TOTAL NET\", tn)\n",
    "print(\"TOKENS\", tntkn, flt[0])\n",
    "r1"
   ]
  },
  {
   "cell_type": "code",
   "execution_count": null,
   "id": "a10137ec-dab4-4b00-ba9f-dba278c4ef8c",
   "metadata": {},
   "outputs": [],
   "source": [
    "assert r1.loc[\"TOTAL NET\"][\"WETH-6Cc2\"] < 1e-5, \"Net change for WETH should be approximately zero\"\n",
    "assert abs(tn[tntkn[0]]) < 1e-5, f\"{tntkn[0]} should be net zero {tn[tntkn[0]]}\"\n",
    "assert tn[flt[0]] < -0.00001, f\"Arb value for {flt[0]} should be positive {-tn[flt[0]]}\"\n",
    "r1"
   ]
  },
  {
   "cell_type": "code",
   "execution_count": null,
   "id": "dcf827c3-8440-4bcf-98d0-357a825afa07",
   "metadata": {},
   "outputs": [],
   "source": [
    "assert len(r2) == 2, \"There should be two items in the best_trade_instructions_dict\"\n",
    "r2"
   ]
  },
  {
   "cell_type": "code",
   "execution_count": null,
   "id": "909a7544-99a1-4873-88e1-80d635ee4765",
   "metadata": {},
   "outputs": [],
   "source": [
    "assert r3 == flt[0], \"The best_src_token should be the flashloan token\"\n",
    "r3"
   ]
  },
  {
   "cell_type": "code",
   "execution_count": null,
   "id": "3b9f9e12-74a8-4bcf-b791-005103c8d254",
   "metadata": {},
   "outputs": [],
   "source": [
    "assert len(r4) == 2, \"There should be two items in the trade instructions\"\n",
    "r4"
   ]
  },
  {
   "cell_type": "markdown",
   "id": "0ffa39ba-b573-447c-be3d-c0cba04acc8c",
   "metadata": {},
   "source": [
    "#### Full"
   ]
  },
  {
   "cell_type": "code",
   "execution_count": null,
   "id": "6c692263-684d-4393-938b-7e89700b701c",
   "metadata": {},
   "outputs": [],
   "source": [
    "r = bot._find_arbitrage_opportunities(flashloan_tokens=flt, CCm=CCm)"
   ]
  },
  {
   "cell_type": "code",
   "execution_count": null,
   "id": "d48c28bd",
   "metadata": {},
   "outputs": [],
   "source": [
    "assert r[0] != 0, f\"This setup should find an arb {r}\"\n",
    "r"
   ]
  },
  {
   "cell_type": "markdown",
   "id": "2ed9fc19-2c1f-4f77-bba3-1dcbd3195c88",
   "metadata": {},
   "source": [
    "### Run `_run`"
   ]
  },
  {
   "cell_type": "markdown",
   "id": "f3754951-034f-4a0e-880a-3d2bf8f8d1f1",
   "metadata": {},
   "source": [
    "#### XS_ARBOPPS"
   ]
  },
  {
   "cell_type": "code",
   "execution_count": null,
   "id": "1af3bc41-7d2c-40c9-9d37-0ade3b0c427b",
   "metadata": {},
   "outputs": [],
   "source": [
    "ops = bot._run(flashloan_tokens=flt, CCm=CCm, result=bot.XS_ARBOPPS)\n",
    "ops"
   ]
  },
  {
   "cell_type": "code",
   "execution_count": null,
   "id": "372679cf",
   "metadata": {},
   "outputs": [],
   "source": [
    "# assert len(ops) == 5, \"The best opportunity should populate correctly\"\n",
    "# assert ops[0] > 0, \"There should be a profit\"\n",
    "# assert str(type(ops[1])) == \"<class 'pandas.core.frame.DataFrame'>\", \"The df should be a df\"\n",
    "# assert type(ops[2]) == list, \"The list of dicts should be a list\"\n",
    "# assert len(ops[2]) == 2, \"In this example the list of dicts should have two items\"\n",
    "# assert type(ops[2][0]) == dict, \"The the first item in the list of dicts should be a dict\"\n",
    "# assert len(ops[3].split('-')) == 2, \"The best_src_token should be a token key\"\n",
    "# assert str(type(ops[4][0])) == \"<class 'fastlane_bot.tools.optimizer.CPCArbOptimizer.TradeInstruction'>\", \"There should be trade instructions\""
   ]
  },
  {
   "cell_type": "markdown",
   "id": "251000a3",
   "metadata": {},
   "source": [
    "#### XS_ORDSCAL"
   ]
  },
  {
   "cell_type": "code",
   "execution_count": null,
   "id": "60d6ab06",
   "metadata": {},
   "outputs": [],
   "source": [
    "ordscal = bot._run(flashloan_tokens=flt, CCm=CCm, result=bot.XS_ORDSCAL)\n",
    "ordscal"
   ]
  },
  {
   "cell_type": "code",
   "execution_count": null,
   "id": "d9002d4d",
   "metadata": {},
   "outputs": [],
   "source": [
    "# assert ops[2] != ordscal, 'After reordering AND scaling the two dicts should not be alike'\n",
    "# assert set([x['cid'] for x in ops[2]]) == set([x['cid'] for x in ordscal]), 'The cids in should be those out'\n",
    "# assert sum([x['amtin'] for x in ordscal]) < sum([x['amtin'] for x in ops[2]]), \"After scaling the total amtin should be decreased\""
   ]
  },
  {
   "cell_type": "markdown",
   "id": "7ae9aaba",
   "metadata": {},
   "source": [
    "#### XS_TI"
   ]
  },
  {
   "cell_type": "code",
   "execution_count": null,
   "id": "faaba6f7",
   "metadata": {},
   "outputs": [],
   "source": [
    "xsti = bot._run(flashloan_tokens=flt, CCm=CCm, result=bot.XS_TI)\n",
    "xsti"
   ]
  },
  {
   "cell_type": "code",
   "execution_count": null,
   "id": "b99eb4be",
   "metadata": {},
   "outputs": [],
   "source": [
    "# assert str(type(xsti[0])) == \"<class 'fastlane_bot.helpers.tradeinstruction.TradeInstruction'>\", \"After processing to TI the item should have trade instructions\"\n",
    "# assert sum([1 if xsti[i]._is_carbon else 0 for i in range(len(xsti))]) == 1, \"In this example there should be a carbon order present identifiable from the TI object\"\n",
    "# assert xsti[0].db is not None, \"A db should be present\"\n",
    "# assert xsti[0].ConfigObj is not None, \"A configobj should be present\""
   ]
  },
  {
   "cell_type": "markdown",
   "id": "cf292762",
   "metadata": {},
   "source": [
    "#### XS_AGGTI"
   ]
  },
  {
   "cell_type": "code",
   "execution_count": null,
   "id": "65f15f4a",
   "metadata": {},
   "outputs": [],
   "source": [
    "agg = bot._run(flashloan_tokens=flt, CCm=CCm, result=bot.XS_AGGTI)\n",
    "agg"
   ]
  },
  {
   "cell_type": "code",
   "execution_count": null,
   "id": "c04ef577",
   "metadata": {},
   "outputs": [],
   "source": [
    "# assert agg[0].raw_txs != \"[]\", \"In this case, the carbon order is first, when agg correctly the raw_txs should not be empty\"\n",
    "# assert agg[1].raw_txs == \"[]\", \"In this case, the univ3 order is second, when agg correctly the raw_txs should be empty\""
   ]
  },
  {
   "cell_type": "markdown",
   "id": "d442cfa2",
   "metadata": {},
   "source": [
    "#### XS_ORDINFO"
   ]
  },
  {
   "cell_type": "code",
   "execution_count": null,
   "id": "83cfc135",
   "metadata": {},
   "outputs": [],
   "source": [
    "ordinfo = bot._run(flashloan_tokens=flt, CCm=CCm, result=bot.XS_ORDINFO)\n",
    "ordinfo"
   ]
  },
  {
   "cell_type": "code",
   "execution_count": null,
   "id": "e692c979",
   "metadata": {},
   "outputs": [],
   "source": [
    "# assert ordinfo[0] == agg, \"The trade instructions should not have changed\"\n",
    "# assert ordinfo[1] > 0, \"The flashloan amount should be greater than zero\"\n",
    "# assert ordinfo[2][:2] == '0x', \"The flashloan address should start with 0x\""
   ]
  },
  {
   "cell_type": "markdown",
   "id": "0c921b6d",
   "metadata": {},
   "source": [
    "#### XS_ENCTI"
   ]
  },
  {
   "cell_type": "code",
   "execution_count": null,
   "id": "fa3f3445",
   "metadata": {},
   "outputs": [],
   "source": [
    "enc = bot._run(flashloan_tokens=flt, CCm=CCm, result=bot.XS_ENCTI)\n",
    "enc"
   ]
  },
  {
   "cell_type": "code",
   "execution_count": null,
   "id": "48aaee9a",
   "metadata": {},
   "outputs": [],
   "source": [
    "# assert len(enc[0].custom_data) >= 258, \"In this example, the carbon order is first so the custom data should have been populated with at least one set of instructions\"\n",
    "# assert enc[1].custom_data == '0x', \"In this case, the univ3 order is second so the custom data should be only 0x\""
   ]
  },
  {
   "cell_type": "markdown",
   "id": "27f837fc",
   "metadata": {},
   "source": [
    "#### XS_ROUTE"
   ]
  },
  {
   "cell_type": "code",
   "execution_count": null,
   "id": "ff18506a-83fd-44a0-b128-49bcf452c457",
   "metadata": {
    "lines_to_next_cell": 2
   },
   "outputs": [],
   "source": [
    "route = bot._run(flashloan_tokens=flt, CCm=CCm, result=bot.XS_ROUTE)\n",
    "route"
   ]
  },
  {
   "cell_type": "code",
   "execution_count": null,
   "id": "3e48514a",
   "metadata": {},
   "outputs": [],
   "source": [
    "# assert len(route) ==2, 'In this example, there should be two parts to the route'\n",
    "# assert type(route) == list, \"The Route should be a list\"\n",
    "# assert type(route[0]) == dict, \"Each instruction in the Route should be a dict\"\n",
    "# assert list(route[0].keys()) == ['exchangeId', 'targetToken', 'minTargetAmount', 'deadline', 'customAddress', 'customInt', 'customData'], \"All keys should be present\"\n",
    "# assert list(route[1].keys()) == ['exchangeId', 'targetToken', 'minTargetAmount', 'deadline', 'customAddress', 'customInt', 'customData'], \"All keys should be present\""
   ]
  },
  {
   "cell_type": "code",
   "execution_count": null,
   "id": "0ed625aa",
   "metadata": {
    "lines_to_next_cell": 0
   },
   "outputs": [],
   "source": [
    "# assert type(route[0]['exchangeId']) == int, \"Exchange ids should be ints\"\n",
    "# assert type(route[0]['targetToken']) == str, \"targetToken should be str\"\n",
    "# assert type(route[0]['minTargetAmount']) == int, \"minTargetAmount should be ints\"\n",
    "# assert type(route[0]['deadline']) == int, \"deadline should be ints\"\n",
    "# assert type(route[0]['customAddress']) == str, \"customAddress should be str\"\n",
    "# assert type(route[0]['customInt']) == int, \"customInt should be ints\"\n",
    "# assert type(route[0]['customData']) == str, \"customData should be str\""
   ]
  },
  {
   "cell_type": "code",
   "execution_count": null,
   "id": "1a99c554-470d-46ce-9d49-c036c14fc970",
   "metadata": {},
   "outputs": [],
   "source": []
  },
  {
   "cell_type": "code",
   "execution_count": null,
   "id": "ce313452-9a1c-4aca-a086-2a5d94b5ff46",
   "metadata": {},
   "outputs": [],
   "source": []
  },
  {
   "cell_type": "code",
   "execution_count": null,
   "id": "25bc65d5-8039-4274-8c3b-6263afb368e1",
   "metadata": {
    "lines_to_next_cell": 2
   },
   "outputs": [],
   "source": []
  }
 ],
 "metadata": {
  "jupytext": {
   "encoding": "# -*- coding: utf-8 -*-",
   "formats": "ipynb,py:light"
  },
  "kernelspec": {
   "display_name": "Python 3",
   "language": "python",
   "name": "python3"
  },
  "language_info": {
   "codemirror_mode": {
    "name": "ipython",
    "version": 3
   },
   "file_extension": ".py",
   "mimetype": "text/x-python",
   "name": "python",
   "nbconvert_exporter": "python",
   "pygments_lexer": "ipython3",
   "version": "3.8.8"
  }
 },
 "nbformat": 4,
 "nbformat_minor": 5
}

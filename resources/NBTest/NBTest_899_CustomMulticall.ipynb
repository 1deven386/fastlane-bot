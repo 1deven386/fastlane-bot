{
 "cells": [
  {
   "cell_type": "code",
   "execution_count": null,
   "id": "c539b26e",
   "metadata": {
    "ExecuteTime": {
     "start_time": "2023-09-24T11:06:21.220838Z"
    },
    "is_executing": true
   },
   "outputs": [],
   "source": [
    "import json\n",
    "\n",
    "from fastlane_bot.config.multiprovider import MultiProviderContractWrapper\n",
    "from fastlane_bot.data.abi import CARBON_CONTROLLER_ABI\n",
    "import os\n",
    "from unittest.mock import Mock, patch\n",
    "\n",
    "from dotenv import load_dotenv\n",
    "load_dotenv()\n",
    "import time\n",
    "from fastlane_bot.config.multicaller import MultiCaller\n",
    "from fastlane_bot.config.multicaller import ContractMethodWrapper\n",
    "\n",
    "\n",
    "import pytest\n",
    "\n",
    "print(\"{0.__name__} v{0.__VERSION__} ({0.__DATE__})\".format(MultiCaller))\n",
    "print(\"{0.__name__} v{0.__VERSION__} ({0.__DATE__})\".format(ContractMethodWrapper))\n",
    "\n",
    "\n",
    "from fastlane_bot.testing import *\n",
    "\n",
    "#plt.style.use('seaborn-dark')\n",
    "plt.rcParams['figure.figsize'] = [12,6]\n",
    "from fastlane_bot import __VERSION__\n",
    "require(\"3.0\", __VERSION__)"
   ]
  },
  {
   "cell_type": "code",
   "execution_count": null,
   "id": "9c8a3b4d",
   "metadata": {
    "is_executing": true
   },
   "outputs": [],
   "source": [
    "WEB3_ALCHEMY_PROJECT_ID = os.environ.get(\"WEB3_ALCHEMY_PROJECT_ID\")\n",
    "\n",
    "# Define ABI and address\n",
    "CONTRACT_ABI = CARBON_CONTROLLER_ABI\n",
    "CARBON_CONTROLLER_ADDRESS = \"0xC537e898CD774e2dCBa3B14Ea6f34C93d5eA45e1\"\n",
    "CONTRACT_ADDRESS = CARBON_CONTROLLER_ADDRESS\n",
    "\n",
    "# Define providers\n",
    "providers = {\n",
    "    \"mainnet\": f\"https://eth-mainnet.alchemyapi.io/v2/{WEB3_ALCHEMY_PROJECT_ID}\",\n",
    "    \"tenderly\": \"https://rpc.tenderly.co/fork/5f70ee18-8d2f-40d7-8131-58d0c8ff4736\",\n",
    "}\n",
    "\n",
    "# Mock the Web3 and Contract classes\n",
    "class MockWeb3:\n",
    "    class HTTPProvider:\n",
    "        pass\n",
    "\n",
    "    class eth:\n",
    "        @staticmethod\n",
    "        def contract(address, abi):\n",
    "            return Mock()\n",
    "\n",
    "class MockContract:\n",
    "    pass"
   ]
  },
  {
   "cell_type": "markdown",
   "id": "79e31bf936dd50a2",
   "metadata": {},
   "source": [
    "## test_multicaller_init"
   ]
  },
  {
   "cell_type": "code",
   "execution_count": null,
   "id": "49a9b1b66d4195d",
   "metadata": {
    "is_executing": true
   },
   "outputs": [],
   "source": [
    "\n",
    "original_method = Mock()\n",
    "multicaller = Mock()\n",
    "\n",
    "wrapper = ContractMethodWrapper(original_method, multicaller)\n",
    "\n",
    "assert wrapper.original_method == original_method\n",
    "assert wrapper.multicaller == multicaller"
   ]
  },
  {
   "cell_type": "markdown",
   "id": "385b334689e5ef0a",
   "metadata": {},
   "source": [
    "## test_contract_method_wrapper_call"
   ]
  },
  {
   "cell_type": "code",
   "execution_count": null,
   "id": "a4016f70a05413bf",
   "metadata": {
    "is_executing": true
   },
   "outputs": [],
   "source": [
    "original_method = Mock()\n",
    "multicaller = Mock()\n",
    "\n",
    "wrapper = ContractMethodWrapper(original_method, multicaller)\n",
    "\n",
    "result = wrapper('arg1', kwarg1='kwarg1')\n",
    "\n",
    "original_method.assert_called_with('arg1', kwarg1='kwarg1')\n",
    "multicaller.add_call.assert_called_with(result)"
   ]
  },
  {
   "cell_type": "markdown",
   "id": "6f3d60160db54fbc",
   "metadata": {},
   "source": [
    "## test_multi_caller_init"
   ]
  },
  {
   "cell_type": "code",
   "execution_count": null,
   "id": "34fb2250211b133d",
   "metadata": {
    "is_executing": true
   },
   "outputs": [],
   "source": [
    "contract = Mock()\n",
    "\n",
    "multicaller = MultiCaller(contract)\n",
    "\n",
    "assert multicaller.contract == contract\n",
    "assert multicaller.block_identifier == 'latest'\n",
    "assert multicaller._contract_calls == []"
   ]
  },
  {
   "cell_type": "markdown",
   "id": "fdaae7b9c45b4e66",
   "metadata": {},
   "source": [
    "## test_multi_caller_add_call"
   ]
  },
  {
   "cell_type": "code",
   "execution_count": null,
   "id": "e7521dea3c4a1df2",
   "metadata": {
    "is_executing": true
   },
   "outputs": [],
   "source": [
    "contract = Mock()\n",
    "multicaller = MultiCaller(contract)\n",
    "fn = Mock()\n",
    "\n",
    "multicaller.add_call(fn, 'arg1', kwarg1='kwarg1')\n",
    "\n",
    "assert len(multicaller._contract_calls) == 1"
   ]
  },
  {
   "cell_type": "markdown",
   "id": "6928f414356dfa6a",
   "metadata": {},
   "source": [
    "## test_multi_caller_multicall"
   ]
  },
  {
   "cell_type": "code",
   "execution_count": null,
   "id": "acda89d43cf443d8",
   "metadata": {
    "is_executing": true
   },
   "outputs": [],
   "source": [
    "contract = Mock()\n",
    "contract.address = \"some_address\"\n",
    "fn = Mock()\n",
    "fn()._encode_transaction_data.return_value = 'some_data'\n",
    "\n",
    "with patch('fastlane_bot.data.abi.MULTICALL_ABI', 'MULTICALL_ABI'):  # Replace 'your_module' with the actual module name\n",
    "    multicaller = MultiCaller(contract)\n",
    "    multicaller._contract_calls = [fn]\n",
    "\n",
    "    with patch.object(multicaller.contract, 'web3') as mock_web3:\n",
    "        mock_contract = Mock()\n",
    "        mock_web3.eth.contract.return_value = mock_contract\n",
    "\n",
    "        multicaller.multicall()\n",
    "\n",
    "        mock_contract.functions.aggregate.assert_called()"
   ]
  },
  {
   "cell_type": "markdown",
   "id": "c1103373ed034b13",
   "metadata": {},
   "source": [
    "## test_multi_caller_context_manager"
   ]
  },
  {
   "cell_type": "code",
   "execution_count": null,
   "id": "64050694894fae74",
   "metadata": {
    "is_executing": true
   },
   "outputs": [],
   "source": [
    "contract = Mock()\n",
    "multicaller = MultiCaller(contract)\n",
    "\n",
    "with patch.object(multicaller, 'multicall') as mock_multicall:\n",
    "    with multicaller:\n",
    "        pass\n",
    "\n",
    "    mock_multicall.assert_called_once()"
   ]
  },
  {
   "cell_type": "markdown",
   "id": "b6a2c96aabdafde8",
   "metadata": {},
   "source": [
    "## test_multiprovider"
   ]
  },
  {
   "cell_type": "code",
   "execution_count": null,
   "id": "cbe1ab01",
   "metadata": {
    "is_executing": true
   },
   "outputs": [],
   "source": [
    "# Initialize the Contract wrapper\n",
    "contract = MultiProviderContractWrapper(CONTRACT_ABI, CONTRACT_ADDRESS, providers)\n",
    "\n",
    "# Execute contract calls\n",
    "mainnet_pairs = contract.mainnet.functions.pairs().call()\n",
    "tenderly_pairs = contract.tenderly.functions.pairs().call()\n",
    "\n",
    "assert len(mainnet_pairs) > 0\n",
    "assert len(tenderly_pairs) > 0"
   ]
  },
  {
   "cell_type": "markdown",
   "id": "0d05e8f8",
   "metadata": {},
   "source": [
    "## test_multicaller"
   ]
  },
  {
   "cell_type": "code",
   "execution_count": null,
   "id": "e2347c4c",
   "metadata": {
    "is_executing": true
   },
   "outputs": [],
   "source": [
    "multicaller = MultiCaller(contract=contract.mainnet)\n",
    "\n",
    "# Time how long it takes to get all fees using multicall\n",
    "start_time = time.time()\n",
    "\n",
    "with multicaller as mc:\n",
    "    for pair in mainnet_pairs:\n",
    "        mc.add_call(contract.mainnet.functions.pairTradingFeePPM, pair[0], pair[1])\n",
    "\n",
    "pair_fees_with_multicall = multicaller.multicall()\n",
    "\n",
    "time_with_multicall = time.time() - start_time\n",
    "\n",
    "# Time how long it takes to get all fees without using multicall\n",
    "start_time = time.time()\n",
    "\n",
    "pair_fees_without_multicall = [contract.mainnet.functions.pairTradingFeePPM(pair[0], pair[1]).call() for pair in mainnet_pairs]\n",
    "\n",
    "time_without_multicall = time.time() - start_time\n",
    "\n",
    "assert len(pair_fees_with_multicall) == len(mainnet_pairs)\n",
    "assert len(pair_fees_with_multicall) == len(mainnet_pairs)\n",
    "assert time_with_multicall < (time_without_multicall / 10)"
   ]
  }
 ],
 "metadata": {
  "jupytext": {
   "formats": "ipynb,py:light"
  },
  "kernelspec": {
   "display_name": "Python 3 (ipykernel)",
   "language": "python",
   "name": "python3"
  },
  "language_info": {
   "codemirror_mode": {
    "name": "ipython",
    "version": 3
   },
   "file_extension": ".py",
   "mimetype": "text/x-python",
   "name": "python",
   "nbconvert_exporter": "python",
   "pygments_lexer": "ipython3",
   "version": "3.8.17"
  }
 },
 "nbformat": 4,
 "nbformat_minor": 5
}

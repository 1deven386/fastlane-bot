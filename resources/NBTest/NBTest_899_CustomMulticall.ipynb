{
 "cells": [
  {
   "cell_type": "code",
   "execution_count": 1,
   "id": "c539b26e",
   "metadata": {
    "ExecuteTime": {
     "end_time": "2023-09-26T08:45:56.139762Z",
     "start_time": "2023-09-26T08:45:51.788287Z"
    }
   },
   "outputs": [
    {
     "name": "stdout",
     "output_type": "stream",
     "text": [
      "MultiCaller v0.0.1 (2022-09-24)\n",
      "ContractMethodWrapper v0.0.1 (2022-09-24)\n",
      "imported m, np, pd, plt, os, sys, decimal; defined iseq, raises, require\n",
      "Version = 3-b2.2 [requirements >= 3.0 is met]\n"
     ]
    }
   ],
   "source": [
    "import json\n",
    "\n",
    "from fastlane_bot.config.multiprovider import MultiProviderContractWrapper\n",
    "from fastlane_bot.data.abi import CARBON_CONTROLLER_ABI\n",
    "import os\n",
    "from unittest.mock import Mock, patch\n",
    "\n",
    "from dotenv import load_dotenv\n",
    "load_dotenv()\n",
    "import time\n",
    "from fastlane_bot.config.multicaller import MultiCaller\n",
    "from fastlane_bot.config.multicaller import ContractMethodWrapper\n",
    "\n",
    "\n",
    "import pytest\n",
    "\n",
    "print(\"{0.__name__} v{0.__VERSION__} ({0.__DATE__})\".format(MultiCaller))\n",
    "print(\"{0.__name__} v{0.__VERSION__} ({0.__DATE__})\".format(ContractMethodWrapper))\n",
    "\n",
    "\n",
    "from fastlane_bot.testing import *\n",
    "\n",
    "#plt.style.use('seaborn-dark')\n",
    "plt.rcParams['figure.figsize'] = [12,6]\n",
    "from fastlane_bot import __VERSION__\n",
    "require(\"3.0\", __VERSION__)"
   ]
  },
  {
   "cell_type": "code",
   "execution_count": 2,
   "id": "9c8a3b4d",
   "metadata": {
    "ExecuteTime": {
     "end_time": "2023-09-26T08:45:56.143185Z",
     "start_time": "2023-09-26T08:45:56.141168Z"
    }
   },
   "outputs": [],
   "source": [
    "WEB3_ALCHEMY_PROJECT_ID = os.environ.get(\"WEB3_ALCHEMY_PROJECT_ID\")\n",
    "\n",
    "# Define ABI and address\n",
    "CONTRACT_ABI = CARBON_CONTROLLER_ABI\n",
    "CARBON_CONTROLLER_ADDRESS = \"0xC537e898CD774e2dCBa3B14Ea6f34C93d5eA45e1\"\n",
    "CONTRACT_ADDRESS = CARBON_CONTROLLER_ADDRESS\n",
    "\n",
    "# Define providers\n",
    "providers = {\n",
    "    \"mainnet\": f\"https://eth-mainnet.alchemyapi.io/v2/{WEB3_ALCHEMY_PROJECT_ID}\",\n",
    "    \"tenderly\": \"https://rpc.tenderly.co/fork/5f70ee18-8d2f-40d7-8131-58d0c8ff4736\",\n",
    "}\n",
    "\n",
    "# Mock the Web3 and Contract classes\n",
    "class MockWeb3:\n",
    "    class HTTPProvider:\n",
    "        pass\n",
    "\n",
    "    class eth:\n",
    "        @staticmethod\n",
    "        def contract(address, abi):\n",
    "            return Mock()\n",
    "\n",
    "class MockContract:\n",
    "    pass"
   ]
  },
  {
   "cell_type": "markdown",
   "id": "79e31bf936dd50a2",
   "metadata": {},
   "source": [
    "## test_multicaller_init"
   ]
  },
  {
   "cell_type": "code",
   "execution_count": 3,
   "id": "49a9b1b66d4195d",
   "metadata": {
    "ExecuteTime": {
     "end_time": "2023-09-26T08:45:56.148748Z",
     "start_time": "2023-09-26T08:45:56.145177Z"
    }
   },
   "outputs": [],
   "source": [
    "\n",
    "original_method = Mock()\n",
    "multicaller = Mock()\n",
    "\n",
    "wrapper = ContractMethodWrapper(original_method, multicaller)\n",
    "\n",
    "assert wrapper.original_method == original_method\n",
    "assert wrapper.multicaller == multicaller"
   ]
  },
  {
   "cell_type": "markdown",
   "id": "385b334689e5ef0a",
   "metadata": {},
   "source": [
    "## test_contract_method_wrapper_call"
   ]
  },
  {
   "cell_type": "code",
   "execution_count": 4,
   "id": "a4016f70a05413bf",
   "metadata": {
    "ExecuteTime": {
     "end_time": "2023-09-26T08:45:56.152098Z",
     "start_time": "2023-09-26T08:45:56.149619Z"
    }
   },
   "outputs": [],
   "source": [
    "original_method = Mock()\n",
    "multicaller = Mock()\n",
    "\n",
    "wrapper = ContractMethodWrapper(original_method, multicaller)\n",
    "\n",
    "result = wrapper('arg1', kwarg1='kwarg1')\n",
    "\n",
    "original_method.assert_called_with('arg1', kwarg1='kwarg1')\n",
    "multicaller.add_call.assert_called_with(result)"
   ]
  },
  {
   "cell_type": "markdown",
   "id": "6f3d60160db54fbc",
   "metadata": {},
   "source": [
    "## test_multi_caller_init"
   ]
  },
  {
   "cell_type": "code",
   "execution_count": 5,
   "id": "34fb2250211b133d",
   "metadata": {
    "ExecuteTime": {
     "end_time": "2023-09-26T08:45:56.173903Z",
     "start_time": "2023-09-26T08:45:56.155408Z"
    }
   },
   "outputs": [],
   "source": [
    "contract = Mock()\n",
    "\n",
    "multicaller = MultiCaller(contract)\n",
    "\n",
    "assert multicaller.contract == contract\n",
    "assert multicaller.block_identifier == 'latest'\n",
    "assert multicaller._contract_calls == []"
   ]
  },
  {
   "cell_type": "markdown",
   "id": "fdaae7b9c45b4e66",
   "metadata": {},
   "source": [
    "## test_multi_caller_add_call"
   ]
  },
  {
   "cell_type": "code",
   "execution_count": 6,
   "id": "e7521dea3c4a1df2",
   "metadata": {
    "ExecuteTime": {
     "end_time": "2023-09-26T08:45:56.178040Z",
     "start_time": "2023-09-26T08:45:56.158160Z"
    }
   },
   "outputs": [],
   "source": [
    "contract = Mock()\n",
    "multicaller = MultiCaller(contract)\n",
    "fn = Mock()\n",
    "\n",
    "multicaller.add_call(fn, 'arg1', kwarg1='kwarg1')\n",
    "\n",
    "assert len(multicaller._contract_calls) == 1"
   ]
  },
  {
   "cell_type": "markdown",
   "id": "c1103373ed034b13",
   "metadata": {},
   "source": [
    "## test_multi_caller_context_manager"
   ]
  },
  {
   "cell_type": "code",
   "execution_count": 7,
   "id": "64050694894fae74",
   "metadata": {
    "ExecuteTime": {
     "end_time": "2023-09-26T08:45:56.178275Z",
     "start_time": "2023-09-26T08:45:56.161067Z"
    }
   },
   "outputs": [],
   "source": [
    "contract = Mock()\n",
    "multicaller = MultiCaller(contract)\n",
    "\n",
    "with patch.object(multicaller, 'multicall') as mock_multicall:\n",
    "    with multicaller:\n",
    "        pass\n",
    "\n",
    "    mock_multicall.assert_called_once()"
   ]
  },
  {
   "cell_type": "markdown",
   "id": "b6a2c96aabdafde8",
   "metadata": {},
   "source": [
    "## test_multiprovider"
   ]
  },
  {
   "cell_type": "code",
   "execution_count": 8,
   "id": "cbe1ab01",
   "metadata": {
    "ExecuteTime": {
     "end_time": "2023-09-26T08:45:58.383144Z",
     "start_time": "2023-09-26T08:45:56.168096Z"
    }
   },
   "outputs": [],
   "source": [
    "# Initialize the Contract wrapper\n",
    "contract = MultiProviderContractWrapper(CONTRACT_ABI, CONTRACT_ADDRESS, providers)\n",
    "\n",
    "# Execute contract calls\n",
    "mainnet_pairs = contract.mainnet.functions.pairs().call()\n",
    "tenderly_pairs = contract.tenderly.functions.pairs().call()\n",
    "\n",
    "# Take a sample of 20 pairs to speed up testing\n",
    "if len(mainnet_pairs) > 10:\n",
    "    mainnet_pairs = mainnet_pairs[:10]\n",
    "\n",
    "assert len(mainnet_pairs) > 0\n",
    "assert len(tenderly_pairs) > 0"
   ]
  },
  {
   "cell_type": "code",
   "execution_count": 9,
   "id": "e8aa643430d27fe5",
   "metadata": {
    "ExecuteTime": {
     "end_time": "2023-09-26T08:46:05.092600Z",
     "start_time": "2023-09-26T08:45:58.384924Z"
    }
   },
   "outputs": [],
   "source": [
    "# Time how long it takes to get all fees without using multicall\n",
    "start_time = time.time()\n",
    "\n",
    "pair_fees_without_multicall = [contract.mainnet.functions.pairTradingFeePPM(pair[0], pair[1]).call() for pair in mainnet_pairs]\n",
    "\n",
    "pair_fees_time_without_multicall = time.time() - start_time\n",
    "\n",
    "start_time = time.time()\n",
    "\n",
    "strats_by_pair_without_multicall = [contract.mainnet.functions.strategiesByPair(pair[0], pair[1], 0, 5000).call() for pair in mainnet_pairs]\n",
    "\n",
    "strats_by_pair_time_without_multicall = time.time() - start_time\n"
   ]
  },
  {
   "cell_type": "markdown",
   "id": "0d05e8f8",
   "metadata": {},
   "source": [
    "## test_multicaller_pairTradingFeePPM"
   ]
  },
  {
   "cell_type": "code",
   "execution_count": 10,
   "id": "e2347c4c",
   "metadata": {
    "ExecuteTime": {
     "end_time": "2023-09-26T08:46:05.875344Z",
     "start_time": "2023-09-26T08:46:05.093497Z"
    }
   },
   "outputs": [],
   "source": [
    "multicaller = MultiCaller(contract=contract.mainnet)\n",
    "\n",
    "# Time how long it takes to get all fees using multicall\n",
    "start_time = time.time()\n",
    "\n",
    "with multicaller as mc:\n",
    "    for pair in mainnet_pairs:\n",
    "        mc.add_call(contract.mainnet.functions.pairTradingFeePPM, pair[0], pair[1])\n",
    "\n",
    "pair_fees_with_multicall = multicaller.multicall()\n",
    "\n",
    "pair_fees_time_with_multicall = time.time() - start_time\n",
    "\n",
    "assert pair_fees_with_multicall == pair_fees_without_multicall\n",
    "assert pair_fees_time_with_multicall < pair_fees_time_without_multicall\n"
   ]
  },
  {
   "cell_type": "markdown",
   "id": "8081173d9636c70f",
   "metadata": {},
   "source": [
    "## test_multicaller_strategiesByPair"
   ]
  },
  {
   "cell_type": "code",
   "execution_count": 11,
   "id": "3bae18bc82ad3ccc",
   "metadata": {
    "ExecuteTime": {
     "end_time": "2023-09-26T08:46:06.521100Z",
     "start_time": "2023-09-26T08:46:05.877803Z"
    }
   },
   "outputs": [],
   "source": [
    "multicaller = MultiCaller(contract=contract.mainnet)\n",
    "\n",
    "# Time how long it takes to get all fees using multicall\n",
    "start_time = time.time()\n",
    "\n",
    "with multicaller as mc:\n",
    "    for pair in mainnet_pairs:\n",
    "        mc.add_call(contract.mainnet.functions.strategiesByPair, pair[0], pair[1], 0, 5000)\n",
    "\n",
    "strats_by_pair_with_multicall = multicaller.multicall()\n",
    "\n",
    "strats_by_pair_time_with_multicall = time.time() - start_time\n",
    "\n",
    "assert len(strats_by_pair_with_multicall) == len(strats_by_pair_without_multicall)\n",
    "assert strats_by_pair_time_with_multicall < strats_by_pair_time_without_multicall\n"
   ]
  }
 ],
 "metadata": {
  "jupytext": {
   "formats": "ipynb,py:light"
  },
  "kernelspec": {
   "display_name": "Python 3 (ipykernel)",
   "language": "python",
   "name": "python3"
  },
  "language_info": {
   "codemirror_mode": {
    "name": "ipython",
    "version": 3
   },
   "file_extension": ".py",
   "mimetype": "text/x-python",
   "name": "python",
   "nbconvert_exporter": "python",
   "pygments_lexer": "ipython3",
   "version": "3.8.17"
  }
 },
 "nbformat": 4,
 "nbformat_minor": 5
}

{
 "cells": [
  {
   "cell_type": "code",
   "execution_count": 1,
   "id": "8f04c50a-67fe-4f09-822d-6ed6e3ac43e4",
   "metadata": {},
   "outputs": [
    {
     "name": "stdout",
     "output_type": "stream",
     "text": [
      "imported m, np, pd, plt, os, sys, decimal; defined iseq, raises, require\n",
      "ConstantProductCurve v3.3.1 (05/Oct/2023)\n",
      "CarbonBot v3-b2.2 (20/June/2023)\n",
      "UniswapV2 v0.0.2 (2023-08-27)\n",
      "UniswapV3 v0.0.2 (2023-08-27)\n",
      "SushiswapV2 v0.0.2 (2023-08-27)\n",
      "CarbonV1 v0.0.2 (2023-08-27)\n",
      "BancorV3 v0.0.2 (2023-08-27)\n",
      "Version = 3-b2.2 [requirements >= 3.0 is met]\n"
     ]
    },
    {
     "name": "stderr",
     "output_type": "stream",
     "text": [
      "C:\\Users\\Kveen\\AppData\\Local\\Temp\\ipykernel_44396\\3054886438.py:31: MatplotlibDeprecationWarning: The seaborn styles shipped by Matplotlib are deprecated since 3.6, as they no longer correspond to the styles shipped by seaborn. However, they will remain available as 'seaborn-v0_8-<style>'. Alternatively, directly use the seaborn API instead.\n",
      "  plt.style.use('seaborn-dark')\n"
     ]
    }
   ],
   "source": [
    "# coding=utf-8\n",
    "\"\"\"\n",
    "This module contains the tests for the exchanges classes\n",
    "\"\"\"\n",
    "from fastlane_bot import Bot, Config\n",
    "from fastlane_bot.bot import CarbonBot\n",
    "from fastlane_bot.tools.cpc import ConstantProductCurve\n",
    "from fastlane_bot.tools.cpc import ConstantProductCurve as CPC\n",
    "from fastlane_bot.events.exchanges import UniswapV2, UniswapV3, SushiswapV2, CarbonV1, BancorV3\n",
    "from fastlane_bot.events.interface import QueryInterface\n",
    "from fastlane_bot.helpers.poolandtokens import PoolAndTokens\n",
    "from fastlane_bot.helpers import TradeInstruction, TxReceiptHandler, TxRouteHandler, TxSubmitHandler, TxHelpers, TxHelper\n",
    "from fastlane_bot.events.managers.manager import Manager\n",
    "from fastlane_bot.events.interface import QueryInterface\n",
    "from joblib import Parallel, delayed\n",
    "from dataclasses import dataclass, asdict, field\n",
    "from fastlane_bot.testing import *\n",
    "from fastlane_bot.config.network import *\n",
    "import math\n",
    "import json\n",
    "from typing import Dict\n",
    "print(\"{0.__name__} v{0.__VERSION__} ({0.__DATE__})\".format(CPC))\n",
    "print(\"{0.__name__} v{0.__VERSION__} ({0.__DATE__})\".format(Bot))\n",
    "print(\"{0.__name__} v{0.__VERSION__} ({0.__DATE__})\".format(UniswapV2))\n",
    "print(\"{0.__name__} v{0.__VERSION__} ({0.__DATE__})\".format(UniswapV3))\n",
    "print(\"{0.__name__} v{0.__VERSION__} ({0.__DATE__})\".format(SushiswapV2))\n",
    "print(\"{0.__name__} v{0.__VERSION__} ({0.__DATE__})\".format(CarbonV1))\n",
    "print(\"{0.__name__} v{0.__VERSION__} ({0.__DATE__})\".format(BancorV3))\n",
    "from fastlane_bot.testing import *\n",
    "from fastlane_bot.modes import triangle_single_bancor3\n",
    "plt.style.use('seaborn-dark')\n",
    "plt.rcParams['figure.figsize'] = [12,6]\n",
    "from fastlane_bot import __VERSION__\n",
    "require(\"3.0\", __VERSION__)"
   ]
  },
  {
   "cell_type": "markdown",
   "id": "6af4ede2",
   "metadata": {},
   "source": [
    "# Multichain Network Configuration Test [NBTest059]"
   ]
  },
  {
   "cell_type": "code",
   "execution_count": 2,
   "id": "ecc8cac0",
   "metadata": {},
   "outputs": [
    {
     "name": "stderr",
     "output_type": "stream",
     "text": [
      "2023-10-31 15:10:07,854 [fastlane:INFO] - \n",
      "2023-10-31 15:10:07,854 [fastlane:INFO] - **********************************************\n",
      "2023-10-31 15:10:07,854 [fastlane:INFO] - The logging path is set to: logs/20231031-151007\\bot.log\n",
      "2023-10-31 15:10:07,855 [fastlane:INFO] - **********************************************\n",
      "2023-10-31 15:10:07,855 [fastlane:INFO] - \n"
     ]
    }
   ],
   "source": [
    "cfg = Config.new(config=Config.CONFIG_MAINNET, blockchain=\"coinbase_base\")"
   ]
  },
  {
   "cell_type": "markdown",
   "id": "d23a786b",
   "metadata": {},
   "source": [
    "## Config_Test_Multichain"
   ]
  },
  {
   "cell_type": "code",
   "execution_count": 3,
   "id": "a912ad59",
   "metadata": {},
   "outputs": [],
   "source": [
    "assert cfg.RPC_ENDPOINT in \"https://base-mainnet.g.alchemy.com/v2/\", f\"[TestGenerateNetworkInfo] Wrong RPC endpoint for coinbase_base. Expected: https://base-mainnet.g.alchemy.com/v2/, found {cfg.RPC_ENDPOINT}\"\n",
    "assert cfg.NATIVE_GAS_TOKEN_KEY in \"ETH-EEeE\", f\"[TestGenerateNetworkInfo] NATIVE_GAS_TOKEN_KEY for coinbase_base. Expected: ETH-EEeE, found {cfg.NATIVE_GAS_TOKEN_KEY}\"\n",
    "assert cfg.WRAPPED_GAS_TOKEN_KEY in \"WETH-0006\", f\"[TestGenerateNetworkInfo] WRAPPED_GAS_TOKEN_KEY for coinbase_base. Expected: WETH-0006, found {cfg.WRAPPED_GAS_TOKEN_KEY}\"\n",
    "assert cfg.STABLECOIN_KEY in \"USDC-2913\", f\"[TestGenerateNetworkInfo] STABLECOIN_KEY for coinbase_base. Expected: USDC-2913, found {cfg.STABLECOIN_KEY}\""
   ]
  },
  {
   "cell_type": "markdown",
   "id": "c5a64430",
   "metadata": {},
   "source": [
    "## Multichain_Tests"
   ]
  },
  {
   "cell_type": "code",
   "execution_count": 4,
   "id": "cc01e37b",
   "metadata": {},
   "outputs": [],
   "source": [
    "exchange_df = get_multichain_addresses('coinbase_base')\n",
    "\n",
    "fork_map = get_fork_map(df=exchange_df, fork_name=\"uniswap_v3\")\n",
    "\n",
    "\n",
    "assert 'uniswap_v3' in fork_map, f\"[TestGenerateNetworkInfo] Could not find uniswap_v3 in fork_map.\"\n",
    "assert 'sushiswap_v3' in fork_map, f\"[TestGenerateNetworkInfo] Could not find sushiswap_v3 in fork_map.\"\n",
    "assert 'pancakeswap_v3' in fork_map, f\"[TestGenerateNetworkInfo] Could not find pancakeswap_v3 in fork_map.\"\n",
    "assert 'baseswap_v3' in fork_map, f\"[TestGenerateNetworkInfo] Could not find baseswap_v3 in fork_map.\"\n",
    "assert type(fork_map['uniswap_v3']) == str\n",
    "\n",
    "addr_row = get_row_from_address(address=\"0xBA12222222228d8Ba445958a75a0704d566BF2C8\", df=exchange_df)\n",
    "assert type(addr_row) == pd.DataFrame\n",
    "assert type(addr_row['address'].values[0]) == str\n",
    "\n",
    "exchange = get_exchange_from_address(address=\"0xBA12222222228d8Ba445958a75a0704d566BF2C8\", df=exchange_df)\n",
    "assert type(exchange) == str\n",
    "\n",
    "items_to_get = [\"address\", \"exchange_name\"]\n",
    "get_items_test_1 = (get_items_from_exchange(item_names=items_to_get, exchange_name=\"aerodrome_v2\", fork=\"solidly_v2\", contract_name=\"ROUTER_ADDRESS\", df=exchange_df))\n",
    "assert len(items_to_get) == len(get_items_test_1)\n",
    "\n",
    "items_to_get_2 = [\"address\"]\n",
    "get_items_test_2 = (get_items_from_exchange(item_names=[\"address\"], exchange_name=\"aerodrome_v2\", fork=\"solidly_v2\", contract_name=\"ROUTER_ADDRESS\", df=exchange_df))\n",
    "assert len(items_to_get_2) == len(get_items_test_2)\n",
    "assert type(get_items_test_2[0]) == str\n",
    "\n",
    "get_router_for_ex_test = get_router_address_for_exchange(exchange_name=\"aerodrome_v2\", fork=\"solidly_v2\", df=exchange_df)\n",
    "assert type(get_router_for_ex_test) == str"
   ]
  }
 ],
 "metadata": {
  "jupytext": {
   "encoding": "# -*- coding: utf-8 -*-",
   "formats": "ipynb,py:light"
  },
  "kernelspec": {
   "display_name": "Python 3",
   "language": "python",
   "name": "python3"
  },
  "language_info": {
   "codemirror_mode": {
    "name": "ipython",
    "version": 3
   },
   "file_extension": ".py",
   "mimetype": "text/x-python",
   "name": "python",
   "nbconvert_exporter": "python",
   "pygments_lexer": "ipython3",
   "version": "3.10.1"
  }
 },
 "nbformat": 4,
 "nbformat_minor": 5
}

{
 "cells": [
  {
   "cell_type": "code",
   "execution_count": 1,
   "id": "84fa264b",
   "metadata": {
    "ExecuteTime": {
     "end_time": "2023-07-09T13:54:12.577531Z",
     "start_time": "2023-07-09T13:54:12.514167Z"
    }
   },
   "outputs": [
    {
     "name": "stdout",
     "output_type": "stream",
     "text": [
      "ConstantProductCurve v2.10.1 (07/May/2023)\n",
      "CarbonBot v3-b2.2 (20/June/2023)\n",
      "UniswapV2 v0.0.1 (2023-07-03)\n",
      "UniswapV3 v0.0.1 (2023-07-03)\n",
      "SushiswapV2 v0.0.1 (2023-07-03)\n",
      "CarbonV1 v0.0.1 (2023-07-03)\n",
      "BancorV3 v0.0.1 (2023-07-03)\n",
      "imported m, np, pd, plt, os, sys, decimal; defined iseq, raises, require\n"
     ]
    },
    {
     "name": "stderr",
     "output_type": "stream",
     "text": [
      "C:\\Users\\Kveen\\AppData\\Local\\Temp\\ipykernel_36012\\3226121854.py:27: MatplotlibDeprecationWarning: The seaborn styles shipped by Matplotlib are deprecated since 3.6, as they no longer correspond to the styles shipped by seaborn. However, they will remain available as 'seaborn-v0_8-<style>'. Alternatively, directly use the seaborn API instead.\n",
      "  plt.style.use('seaborn-dark')\n"
     ]
    },
    {
     "name": "stdout",
     "output_type": "stream",
     "text": [
      "Version = 3-b2.2 [requirements >= 3.0 is met]\n"
     ]
    }
   ],
   "source": [
    "# coding=utf-8\n",
    "\"\"\"\n",
    "This module contains the tests for the exchanges classes\n",
    "\"\"\"\n",
    "from fastlane_bot import Bot, Config\n",
    "from fastlane_bot.bot import CarbonBot\n",
    "from fastlane_bot.tools.cpc import ConstantProductCurve\n",
    "from fastlane_bot.tools.cpc import ConstantProductCurve as CPC\n",
    "from fastlane_bot.events.exchanges import UniswapV2, UniswapV3, SushiswapV2, CarbonV1, BancorV3\n",
    "from fastlane_bot.events.interface import QueryInterface\n",
    "from fastlane_bot.helpers.poolandtokens import PoolAndTokens\n",
    "from fastlane_bot.helpers import TradeInstruction, TxReceiptHandler, TxRouteHandler, TxSubmitHandler, TxHelpers, TxHelper\n",
    "from fastlane_bot.events.managers.manager import Manager\n",
    "from fastlane_bot.events.interface import QueryInterface\n",
    "import pytest\n",
    "import math\n",
    "import json\n",
    "print(\"{0.__name__} v{0.__VERSION__} ({0.__DATE__})\".format(CPC))\n",
    "print(\"{0.__name__} v{0.__VERSION__} ({0.__DATE__})\".format(Bot))\n",
    "print(\"{0.__name__} v{0.__VERSION__} ({0.__DATE__})\".format(UniswapV2))\n",
    "print(\"{0.__name__} v{0.__VERSION__} ({0.__DATE__})\".format(UniswapV3))\n",
    "print(\"{0.__name__} v{0.__VERSION__} ({0.__DATE__})\".format(SushiswapV2))\n",
    "print(\"{0.__name__} v{0.__VERSION__} ({0.__DATE__})\".format(CarbonV1))\n",
    "print(\"{0.__name__} v{0.__VERSION__} ({0.__DATE__})\".format(BancorV3))\n",
    "from fastlane_bot.testing import *\n",
    "from fastlane_bot.modes import triangle_single_bancor3\n",
    "plt.style.use('seaborn-dark')\n",
    "plt.rcParams['figure.figsize'] = [12,6]\n",
    "from fastlane_bot import __VERSION__\n",
    "require(\"3.0\", __VERSION__)"
   ]
  },
  {
   "cell_type": "code",
   "execution_count": null,
   "id": "79a8fe0a",
   "metadata": {},
   "outputs": [],
   "source": []
  },
  {
   "cell_type": "code",
   "execution_count": 2,
   "id": "a51e5ec2",
   "metadata": {
    "ExecuteTime": {
     "end_time": "2023-07-09T13:54:13.771032Z",
     "start_time": "2023-07-09T13:54:12.517536Z"
    }
   },
   "outputs": [],
   "source": [
    "C = cfg = Config.new(config=Config.CONFIG_MAINNET)\n",
    "assert (C.NETWORK == C.NETWORK_MAINNET)\n",
    "assert (C.PROVIDER == C.PROVIDER_ALCHEMY)\n",
    "setup_bot = CarbonBot(ConfigObj=C)"
   ]
  },
  {
   "cell_type": "code",
   "execution_count": 3,
   "id": "a8986ce6",
   "metadata": {
    "ExecuteTime": {
     "end_time": "2023-07-09T13:54:13.815668Z",
     "start_time": "2023-07-09T13:54:13.771735Z"
    }
   },
   "outputs": [],
   "source": [
    "\n",
    "\n",
    "pools = None\n",
    "with open('fastlane_bot/data/tests/latest_pool_data_testing.json') as f:\n",
    "    pools = json.load(f)\n",
    "pools = [pool for pool in pools]"
   ]
  },
  {
   "cell_type": "code",
   "execution_count": 4,
   "id": "b37b1c86",
   "metadata": {
    "ExecuteTime": {
     "end_time": "2023-07-09T13:54:13.818688Z",
     "start_time": "2023-07-09T13:54:13.815923Z"
    }
   },
   "outputs": [],
   "source": [
    "pools[0]\n",
    "static_pools = pools"
   ]
  },
  {
   "cell_type": "code",
   "execution_count": 5,
   "id": "3d52e87d",
   "metadata": {
    "ExecuteTime": {
     "end_time": "2023-07-09T13:54:13.839769Z",
     "start_time": "2023-07-09T13:54:13.823320Z"
    }
   },
   "outputs": [],
   "source": [
    "state = pools\n",
    "exchanges = list({ex['exchange_name'] for ex in state})\n",
    "db = QueryInterface(state=state, ConfigObj=C, exchanges=exchanges)\n",
    "setup_bot.db = db"
   ]
  },
  {
   "cell_type": "code",
   "execution_count": 6,
   "id": "6cc5b472",
   "metadata": {
    "ExecuteTime": {
     "end_time": "2023-07-09T13:54:13.915008Z",
     "start_time": "2023-07-09T13:54:13.849521Z"
    }
   },
   "outputs": [],
   "source": [
    "static_pool_data_filename = \"static_pool_data\"\n",
    "\n",
    "static_pool_data = pd.read_csv(f\"fastlane_bot/data/{static_pool_data_filename}.csv\", low_memory=False)\n",
    "    \n",
    "uniswap_v2_event_mappings = pd.read_csv(\"fastlane_bot/data/uniswap_v2_event_mappings.csv\", low_memory=False)\n",
    "        \n",
    "tokens = pd.read_csv(\"fastlane_bot/data/tokens.csv\", low_memory=False)\n",
    "        \n",
    "exchanges = \"carbon_v1,bancor_v3,uniswap_v3,uniswap_v2,sushiswap_v2\"\n",
    "\n",
    "exchanges = exchanges.split(\",\")\n",
    "arb_mode = \"multi\"\n",
    "\n",
    "alchemy_max_block_fetch = 20"
   ]
  },
  {
   "cell_type": "code",
   "execution_count": 7,
   "id": "7695b95f",
   "metadata": {
    "ExecuteTime": {
     "end_time": "2023-07-09T13:54:14.061176Z",
     "start_time": "2023-07-09T13:54:13.913015Z"
    }
   },
   "outputs": [],
   "source": [
    "static_pool_data[\"cid\"] = [\n",
    "        cfg.w3.keccak(text=f\"{row['descr']}\").hex()\n",
    "        for index, row in static_pool_data.iterrows()\n",
    "    ]\n"
   ]
  },
  {
   "cell_type": "code",
   "execution_count": 8,
   "id": "4a78f85d",
   "metadata": {
    "ExecuteTime": {
     "end_time": "2023-07-09T13:54:14.320271Z",
     "start_time": "2023-07-09T13:54:14.062220Z"
    },
    "collapsed": false
   },
   "outputs": [],
   "source": [
    "# Filter out pools that are not in the supported exchanges\n",
    "static_pool_data = [\n",
    "    row for index, row in static_pool_data.iterrows()\n",
    "    if row[\"exchange_name\"] in exchanges\n",
    "]\n",
    "\n",
    "static_pool_data = pd.DataFrame(static_pool_data)"
   ]
  },
  {
   "cell_type": "code",
   "execution_count": 9,
   "id": "81cad9f1",
   "metadata": {
    "ExecuteTime": {
     "end_time": "2023-07-09T13:54:14.327195Z",
     "start_time": "2023-07-09T13:54:14.322677Z"
    },
    "collapsed": false
   },
   "outputs": [
    {
     "data": {
      "text/plain": [
       "array(['uniswap_v3', 'bancor_v3', 'uniswap_v2', 'sushiswap_v2'],\n",
       "      dtype=object)"
      ]
     },
     "execution_count": 9,
     "metadata": {},
     "output_type": "execute_result"
    }
   ],
   "source": [
    "static_pool_data['exchange_name'].unique()"
   ]
  },
  {
   "cell_type": "code",
   "execution_count": 10,
   "id": "da422583",
   "metadata": {
    "ExecuteTime": {
     "end_time": "2023-07-09T13:54:14.649580Z",
     "start_time": "2023-07-09T13:54:14.352440Z"
    }
   },
   "outputs": [
    {
     "name": "stderr",
     "output_type": "stream",
     "text": [
      "2023-07-17 16:16:33,911 [fastlane:INFO] - Time taken to add initial pools: 0.09121036529541016\n"
     ]
    }
   ],
   "source": [
    "from joblib import Parallel, delayed\n",
    "\n",
    "# Initialize data fetch manager\n",
    "mgr = Manager(\n",
    "    web3=cfg.w3,\n",
    "    cfg=cfg,\n",
    "    pool_data=static_pool_data.to_dict(orient=\"records\"),\n",
    "    SUPPORTED_EXCHANGES=exchanges,\n",
    "    alchemy_max_block_fetch=alchemy_max_block_fetch,\n",
    "    uniswap_v2_event_mappings=uniswap_v2_event_mappings,\n",
    "    tokens=tokens.to_dict(orient=\"records\"),\n",
    ")\n",
    "\n",
    "# Add initial pools for each row in the static_pool_data\n",
    "start_time = time.time()\n",
    "Parallel(n_jobs=-1, backend=\"threading\")(\n",
    "    delayed(mgr.add_pool_to_exchange)(row) for row in mgr.pool_data\n",
    ")\n",
    "cfg.logger.info(f\"Time taken to add initial pools: {time.time() - start_time}\")\n",
    "\n",
    "# check if any duplicate cid's exist in the pool data\n",
    "mgr.deduplicate_pool_data()\n",
    "cids = [pool[\"cid\"] for pool in mgr.pool_data]\n",
    "assert len(cids) == len(set(cids)), \"duplicate cid's exist in the pool data\""
   ]
  },
  {
   "cell_type": "code",
   "execution_count": 11,
   "id": "c7b0d9e1",
   "metadata": {
    "ExecuteTime": {
     "end_time": "2023-07-09T13:54:14.657376Z",
     "start_time": "2023-07-09T13:54:14.655798Z"
    }
   },
   "outputs": [],
   "source": [
    "def init_bot(mgr: Manager) -> CarbonBot:\n",
    "    \"\"\"\n",
    "    Initializes the bot.\n",
    "\n",
    "    Parameters\n",
    "    ----------\n",
    "    mgr : Manager\n",
    "        The manager object.\n",
    "\n",
    "    Returns\n",
    "    -------\n",
    "    CarbonBot\n",
    "        The bot object.\n",
    "    \"\"\"\n",
    "    mgr.cfg.logger.info(\"Initializing the bot...\")\n",
    "    bot = CarbonBot(ConfigObj=mgr.cfg)\n",
    "    bot.db = db\n",
    "    bot.db.mgr = mgr\n",
    "    assert isinstance(\n",
    "        bot.db, QueryInterface\n",
    "    ), \"QueryInterface not initialized correctly\"\n",
    "    return bot"
   ]
  },
  {
   "cell_type": "code",
   "execution_count": 12,
   "id": "30affd76",
   "metadata": {
    "ExecuteTime": {
     "end_time": "2023-07-09T13:54:14.788568Z",
     "start_time": "2023-07-09T13:54:14.658075Z"
    }
   },
   "outputs": [
    {
     "name": "stderr",
     "output_type": "stream",
     "text": [
      "2023-07-17 16:16:33,948 [fastlane:INFO] - Initializing the bot...\n"
     ]
    }
   ],
   "source": [
    "bot = init_bot(mgr)"
   ]
  },
  {
   "cell_type": "code",
   "execution_count": 13,
   "id": "d838f999",
   "metadata": {
    "ExecuteTime": {
     "end_time": "2023-07-09T13:54:15.109721Z",
     "start_time": "2023-07-09T13:54:14.794835Z"
    },
    "collapsed": false
   },
   "outputs": [
    {
     "name": "stderr",
     "output_type": "stream",
     "text": [
      "2023-07-17 16:16:34,138 [fastlane:INFO] - Removed 3242 unmapped uniswap_v2/sushi pools. 1897 uniswap_v2/sushi pools remaining\n",
      "2023-07-17 16:16:34,138 [fastlane:INFO] - Unmapped uniswap_v2/sushi pools:\n",
      "2023-07-17 16:16:34,299 [fastlane:INFO] - uniswap_v3: 0\n",
      "2023-07-17 16:16:34,300 [fastlane:INFO] - uniswap_v2: 3242\n",
      "2023-07-17 16:16:34,301 [fastlane:INFO] - sushiswap_v2: 0\n",
      "2023-07-17 16:16:34,302 [fastlane:INFO] - uniswap_v3: 636\n",
      "2023-07-17 16:16:34,303 [fastlane:INFO] - sushiswap_v2: 78\n",
      "2023-07-17 16:16:34,304 [fastlane:INFO] - uniswap_v2: 0\n",
      "2023-07-17 16:16:34,304 [fastlane:INFO] - bancor_v2: 0\n",
      "2023-07-17 16:16:34,305 [fastlane:INFO] - bancor_v3: 34\n",
      "2023-07-17 16:16:34,305 [fastlane:INFO] - carbon_v1: 220\n",
      "2023-07-17 16:16:34,328 [fastlane:INFO] - uniswap_v3_zero_liquidity_pools: 858\n",
      "2023-07-17 16:16:34,329 [fastlane:INFO] - sushiswap_v2_zero_liquidity_pools: 34\n",
      "2023-07-17 16:16:34,330 [fastlane:INFO] - uniswap_v2_zero_liquidity_pools: 0\n",
      "2023-07-17 16:16:34,330 [fastlane:INFO] - bancor_v2_zero_liquidity_pools: 0\n",
      "2023-07-17 16:16:34,331 [fastlane:INFO] - bancor_v3_zero_liquidity_pools: 37\n",
      "2023-07-17 16:16:34,332 [fastlane:INFO] - carbon_v1_zero_liquidity_pools: 0\n",
      "2023-07-17 16:16:34,332 [fastlane:INFO] - Removed 0 unsupported exchanges. 968 pools remaining\n",
      "2023-07-17 16:16:34,333 [fastlane:INFO] - Pools remaining per exchange:\n",
      "2023-07-17 16:16:34,333 [fastlane:INFO] - uniswap_v2: 0\n",
      "2023-07-17 16:16:34,334 [fastlane:INFO] - bancor_v3: 34\n",
      "2023-07-17 16:16:34,335 [fastlane:INFO] - carbon_v1: 220\n",
      "2023-07-17 16:16:34,335 [fastlane:INFO] - sushiswap_v2: 78\n",
      "2023-07-17 16:16:34,336 [fastlane:INFO] - uniswap_v3: 636\n"
     ]
    }
   ],
   "source": [
    "# add data cleanup steps from main.py\n",
    "bot.db.handle_token_key_cleanup()\n",
    "bot.db.remove_unmapped_uniswap_v2_pools()\n",
    "bot.db.remove_zero_liquidity_pools()\n",
    "bot.db.remove_unsupported_exchanges()"
   ]
  },
  {
   "cell_type": "code",
   "execution_count": 14,
   "id": "1f5979f7",
   "metadata": {},
   "outputs": [],
   "source": [
    "tokens = bot.db.get_tokens()"
   ]
  },
  {
   "cell_type": "code",
   "execution_count": 15,
   "id": "54ae3201",
   "metadata": {
    "ExecuteTime": {
     "end_time": "2023-07-09T13:54:15.119648Z",
     "start_time": "2023-07-09T13:54:15.112719Z"
    }
   },
   "outputs": [],
   "source": [
    "ADDRDEC = {t.key: (t.address, int(t.decimals)) for t in tokens if not math.isnan(t.decimals)}"
   ]
  },
  {
   "cell_type": "code",
   "execution_count": 16,
   "id": "56b84131",
   "metadata": {
    "ExecuteTime": {
     "end_time": "2023-07-09T13:54:15.158900Z",
     "start_time": "2023-07-09T13:54:15.123724Z"
    }
   },
   "outputs": [],
   "source": [
    "flashloan_tokens = bot.setup_flashloan_tokens(None)\n",
    "CCm = bot.setup_CCm(None)\n",
    "pools = db.get_pool_data_with_tokens()"
   ]
  },
  {
   "cell_type": "code",
   "execution_count": 18,
   "id": "db461f15",
   "metadata": {},
   "outputs": [],
   "source": [
    "arb_finder = bot._get_arb_finder(\"multi\")\n",
    "finder = arb_finder(\n",
    "            flashloan_tokens=flashloan_tokens,\n",
    "            CCm=CCm,\n",
    "            mode=\"bothin\",\n",
    "            result=False,\n",
    "            ConfigObj=bot.ConfigObj,\n",
    "        )\n",
    "r = finder.find_arbitrage()\n",
    "(\n",
    "            best_profit,\n",
    "            best_trade_instructions_df,\n",
    "            best_trade_instructions_dic,\n",
    "            best_src_token,\n",
    "            best_trade_instructions,\n",
    "        ) = r"
   ]
  },
  {
   "cell_type": "code",
   "execution_count": 20,
   "id": "db333eb6",
   "metadata": {},
   "outputs": [
    {
     "data": {
      "text/plain": [
       "[{'cid': '0xcb487fc19b1e23857870b0743650419594c1883e4cee744984589f0093c6366a',\n",
       "  'tknin': 'agEUR-Bce8',\n",
       "  'amtin': 3290.0749664902687,\n",
       "  'tknout': 'USDC-eB48',\n",
       "  'amtout': -3623.1383405923843,\n",
       "  'error': None},\n",
       " {'cid': '21778071482940061661655974875633165533369-1',\n",
       "  'tknin': 'USDC-eB48',\n",
       "  'amtin': 3611.2638695905916,\n",
       "  'tknout': 'agEUR-Bce8',\n",
       "  'amtout': -3290.074966498185,\n",
       "  'error': None}]"
      ]
     },
     "execution_count": 20,
     "metadata": {},
     "output_type": "execute_result"
    }
   ],
   "source": [
    "best_trade_instructions_dic"
   ]
  },
  {
   "cell_type": "code",
   "execution_count": 21,
   "id": "d2251878",
   "metadata": {},
   "outputs": [],
   "source": [
    "(\n",
    "ordered_trade_instructions_dct,\n",
    "tx_in_count,\n",
    ") = bot._simple_ordering_by_src_token(\n",
    "best_trade_instructions_dic, best_src_token\n",
    ")"
   ]
  },
  {
   "cell_type": "code",
   "execution_count": 22,
   "id": "09fc71f6",
   "metadata": {},
   "outputs": [],
   "source": [
    "ordered_scaled_dcts = bot._basic_scaling(\n",
    "            ordered_trade_instructions_dct, best_src_token\n",
    "        )"
   ]
  },
  {
   "cell_type": "code",
   "execution_count": 24,
   "id": "04f4e8b2",
   "metadata": {},
   "outputs": [
    {
     "data": {
      "text/plain": [
       "[{'cid': '21778071482940061661655974875633165533369-1',\n",
       "  'tknin': 'USDC-eB48',\n",
       "  'amtin': 3607.6526057210012,\n",
       "  'tknout': 'agEUR-Bce8',\n",
       "  'amtout': -3290.074966498185,\n",
       "  'error': None},\n",
       " {'cid': '0xcb487fc19b1e23857870b0743650419594c1883e4cee744984589f0093c6366a',\n",
       "  'tknin': 'agEUR-Bce8',\n",
       "  'amtin': 3290.0749664902687,\n",
       "  'tknout': 'USDC-eB48',\n",
       "  'amtout': -3623.1383405923843,\n",
       "  'error': None}]"
      ]
     },
     "execution_count": 24,
     "metadata": {},
     "output_type": "execute_result"
    }
   ],
   "source": [
    "ordered_scaled_dcts"
   ]
  },
  {
   "cell_type": "code",
   "execution_count": 28,
   "id": "0139e0cc",
   "metadata": {},
   "outputs": [
    {
     "name": "stdout",
     "output_type": "stream",
     "text": [
      "{True}\n"
     ]
    }
   ],
   "source": [
    "print({bot.db is not None})"
   ]
  },
  {
   "cell_type": "code",
   "execution_count": 26,
   "id": "5cda7325",
   "metadata": {},
   "outputs": [
    {
     "ename": "AttributeError",
     "evalue": "'NoneType' object has no attribute 'exchange_name'",
     "output_type": "error",
     "traceback": [
      "\u001b[1;31m---------------------------------------------------------------------------\u001b[0m",
      "\u001b[1;31mAttributeError\u001b[0m                            Traceback (most recent call last)",
      "\u001b[1;32mc:\\Users\\Kveen\\PycharmProjects\\carbonbot\\resources\\NBTest\\NBTest_043_TestEmptyCarbonOrders.ipynb Cell 23\u001b[0m in \u001b[0;36m2\n\u001b[0;32m      <a href='vscode-notebook-cell:/c%3A/Users/Kveen/PycharmProjects/carbonbot/resources/NBTest/NBTest_043_TestEmptyCarbonOrders.ipynb#Y122sZmlsZQ%3D%3D?line=0'>1</a>\u001b[0m \u001b[39m# Convert the trade instructions\u001b[39;00m\n\u001b[1;32m----> <a href='vscode-notebook-cell:/c%3A/Users/Kveen/PycharmProjects/carbonbot/resources/NBTest/NBTest_043_TestEmptyCarbonOrders.ipynb#Y122sZmlsZQ%3D%3D?line=1'>2</a>\u001b[0m ordered_trade_instructions_objects \u001b[39m=\u001b[39m bot\u001b[39m.\u001b[39;49m_convert_trade_instructions(ordered_scaled_dcts)\n",
      "File \u001b[1;32mc:\\Users\\Kveen\\PycharmProjects\\carbonbot\\resources\\NBTest\\fastlane_bot\\bot.py:351\u001b[0m, in \u001b[0;36mCarbonBot._convert_trade_instructions\u001b[1;34m(self, trade_instructions_dic)\u001b[0m\n\u001b[0;32m    339\u001b[0m errorless_trade_instructions_dic \u001b[39m=\u001b[39m \u001b[39mself\u001b[39m\u001b[39m.\u001b[39m_drop_error(trade_instructions_dic)\n\u001b[0;32m    340\u001b[0m result \u001b[39m=\u001b[39m (\n\u001b[0;32m    341\u001b[0m     {\n\u001b[0;32m    342\u001b[0m         \u001b[39m*\u001b[39m\u001b[39m*\u001b[39mti,\n\u001b[1;32m   (...)\u001b[0m\n\u001b[0;32m    349\u001b[0m     \u001b[39mif\u001b[39;00m ti \u001b[39mis\u001b[39;00m \u001b[39mnot\u001b[39;00m \u001b[39mNone\u001b[39;00m\n\u001b[0;32m    350\u001b[0m )\n\u001b[1;32m--> 351\u001b[0m result \u001b[39m=\u001b[39m [TradeInstruction(\u001b[39m*\u001b[39m\u001b[39m*\u001b[39mti) \u001b[39mfor\u001b[39;00m ti \u001b[39min\u001b[39;00m result]\n\u001b[0;32m    352\u001b[0m \u001b[39mreturn\u001b[39;00m result\n",
      "File \u001b[1;32mc:\\Users\\Kveen\\PycharmProjects\\carbonbot\\resources\\NBTest\\fastlane_bot\\bot.py:351\u001b[0m, in \u001b[0;36m<listcomp>\u001b[1;34m(.0)\u001b[0m\n\u001b[0;32m    339\u001b[0m errorless_trade_instructions_dic \u001b[39m=\u001b[39m \u001b[39mself\u001b[39m\u001b[39m.\u001b[39m_drop_error(trade_instructions_dic)\n\u001b[0;32m    340\u001b[0m result \u001b[39m=\u001b[39m (\n\u001b[0;32m    341\u001b[0m     {\n\u001b[0;32m    342\u001b[0m         \u001b[39m*\u001b[39m\u001b[39m*\u001b[39mti,\n\u001b[1;32m   (...)\u001b[0m\n\u001b[0;32m    349\u001b[0m     \u001b[39mif\u001b[39;00m ti \u001b[39mis\u001b[39;00m \u001b[39mnot\u001b[39;00m \u001b[39mNone\u001b[39;00m\n\u001b[0;32m    350\u001b[0m )\n\u001b[1;32m--> 351\u001b[0m result \u001b[39m=\u001b[39m [TradeInstruction(\u001b[39m*\u001b[39m\u001b[39m*\u001b[39mti) \u001b[39mfor\u001b[39;00m ti \u001b[39min\u001b[39;00m result]\n\u001b[0;32m    352\u001b[0m \u001b[39mreturn\u001b[39;00m result\n",
      "File \u001b[1;32m<string>:20\u001b[0m, in \u001b[0;36m__init__\u001b[1;34m(self, ConfigObj, cid, tknin, amtin, tknout, amtout, pair_sorting, raw_txs, custom_data, db, tknin_dec_override, tknout_dec_override, tknin_addr_override, tknout_addr_override, exchange_override, _amtin_wei, _amtout_wei)\u001b[0m\n",
      "File \u001b[1;32mc:\\Users\\Kveen\\PycharmProjects\\carbonbot\\resources\\NBTest\\fastlane_bot\\helpers\\tradeinstruction.py:145\u001b[0m, in \u001b[0;36mTradeInstruction.__post_init__\u001b[1;34m(self)\u001b[0m\n\u001b[0;32m    143\u001b[0m     \u001b[39mself\u001b[39m\u001b[39m.\u001b[39mpair_sorting \u001b[39m=\u001b[39m \u001b[39m\"\u001b[39m\u001b[39m\"\u001b[39m\n\u001b[0;32m    144\u001b[0m \u001b[39mif\u001b[39;00m \u001b[39mself\u001b[39m\u001b[39m.\u001b[39mexchange_override \u001b[39mis\u001b[39;00m \u001b[39mNone\u001b[39;00m:\n\u001b[1;32m--> 145\u001b[0m     \u001b[39mself\u001b[39m\u001b[39m.\u001b[39m_exchange_name \u001b[39m=\u001b[39m \u001b[39mself\u001b[39;49m\u001b[39m.\u001b[39;49mdb\u001b[39m.\u001b[39;49mget_pool(cid\u001b[39m=\u001b[39;49m\u001b[39mself\u001b[39;49m\u001b[39m.\u001b[39;49mcid\u001b[39m.\u001b[39;49msplit(\u001b[39m'\u001b[39;49m\u001b[39m-\u001b[39;49m\u001b[39m'\u001b[39;49m)[\u001b[39m0\u001b[39;49m])\u001b[39m.\u001b[39;49mexchange_name\n\u001b[0;32m    146\u001b[0m \u001b[39melse\u001b[39;00m:\n\u001b[0;32m    147\u001b[0m     \u001b[39mself\u001b[39m\u001b[39m.\u001b[39m_exchange_name \u001b[39m=\u001b[39m \u001b[39mself\u001b[39m\u001b[39m.\u001b[39mexchange_override\n",
      "\u001b[1;31mAttributeError\u001b[0m: 'NoneType' object has no attribute 'exchange_name'"
     ]
    }
   ],
   "source": [
    "# Convert the trade instructions\n",
    "ordered_trade_instructions_objects = bot._convert_trade_instructions(ordered_scaled_dcts)"
   ]
  },
  {
   "cell_type": "code",
   "execution_count": null,
   "id": "8a8b038e",
   "metadata": {},
   "outputs": [],
   "source": [
    "\n",
    "tx_route_handler = bot.TxRouteHandlerClass(\n",
    "            trade_instructions=ordered_trade_instructions_objects\n",
    "        )"
   ]
  },
  {
   "cell_type": "code",
   "execution_count": null,
   "id": "5e65840c",
   "metadata": {},
   "outputs": [],
   "source": [
    "agg_trade_instructions = (\n",
    "            tx_route_handler.aggregate_carbon_trades(ordered_trade_instructions_objects)\n",
    "            if bot._carbon_in_trade_route(ordered_trade_instructions_objects)\n",
    "            else ordered_trade_instructions_objects\n",
    "        )"
   ]
  },
  {
   "cell_type": "code",
   "execution_count": 19,
   "id": "cf2dccce",
   "metadata": {},
   "outputs": [
    {
     "ename": "AttributeError",
     "evalue": "'NoneType' object has no attribute 'exchange_name'",
     "output_type": "error",
     "traceback": [
      "\u001b[1;31m---------------------------------------------------------------------------\u001b[0m",
      "\u001b[1;31mAttributeError\u001b[0m                            Traceback (most recent call last)",
      "\u001b[1;32mc:\\Users\\Kveen\\PycharmProjects\\carbonbot\\resources\\NBTest\\NBTest_043_TestEmptyCarbonOrders.ipynb Cell 19\u001b[0m in \u001b[0;36m1\n\u001b[0;32m      <a href='vscode-notebook-cell:/c%3A/Users/Kveen/PycharmProjects/carbonbot/resources/NBTest/NBTest_043_TestEmptyCarbonOrders.ipynb#Y115sZmlsZQ%3D%3D?line=6'>7</a>\u001b[0m ordered_scaled_dcts \u001b[39m=\u001b[39m bot\u001b[39m.\u001b[39m_basic_scaling(\n\u001b[0;32m      <a href='vscode-notebook-cell:/c%3A/Users/Kveen/PycharmProjects/carbonbot/resources/NBTest/NBTest_043_TestEmptyCarbonOrders.ipynb#Y115sZmlsZQ%3D%3D?line=7'>8</a>\u001b[0m             ordered_trade_instructions_dct, best_src_token\n\u001b[0;32m      <a href='vscode-notebook-cell:/c%3A/Users/Kveen/PycharmProjects/carbonbot/resources/NBTest/NBTest_043_TestEmptyCarbonOrders.ipynb#Y115sZmlsZQ%3D%3D?line=8'>9</a>\u001b[0m         )\n\u001b[0;32m     <a href='vscode-notebook-cell:/c%3A/Users/Kveen/PycharmProjects/carbonbot/resources/NBTest/NBTest_043_TestEmptyCarbonOrders.ipynb#Y115sZmlsZQ%3D%3D?line=9'>10</a>\u001b[0m \u001b[39m# Convert the trade instructions\u001b[39;00m\n\u001b[1;32m---> <a href='vscode-notebook-cell:/c%3A/Users/Kveen/PycharmProjects/carbonbot/resources/NBTest/NBTest_043_TestEmptyCarbonOrders.ipynb#Y115sZmlsZQ%3D%3D?line=10'>11</a>\u001b[0m ordered_trade_instructions_objects \u001b[39m=\u001b[39m bot\u001b[39m.\u001b[39;49m_convert_trade_instructions(\n\u001b[0;32m     <a href='vscode-notebook-cell:/c%3A/Users/Kveen/PycharmProjects/carbonbot/resources/NBTest/NBTest_043_TestEmptyCarbonOrders.ipynb#Y115sZmlsZQ%3D%3D?line=11'>12</a>\u001b[0m     ordered_scaled_dcts)\n\u001b[0;32m     <a href='vscode-notebook-cell:/c%3A/Users/Kveen/PycharmProjects/carbonbot/resources/NBTest/NBTest_043_TestEmptyCarbonOrders.ipynb#Y115sZmlsZQ%3D%3D?line=12'>13</a>\u001b[0m tx_route_handler \u001b[39m=\u001b[39m bot\u001b[39m.\u001b[39mTxRouteHandlerClass(\n\u001b[0;32m     <a href='vscode-notebook-cell:/c%3A/Users/Kveen/PycharmProjects/carbonbot/resources/NBTest/NBTest_043_TestEmptyCarbonOrders.ipynb#Y115sZmlsZQ%3D%3D?line=13'>14</a>\u001b[0m             trade_instructions\u001b[39m=\u001b[39mordered_trade_instructions_objects\n\u001b[0;32m     <a href='vscode-notebook-cell:/c%3A/Users/Kveen/PycharmProjects/carbonbot/resources/NBTest/NBTest_043_TestEmptyCarbonOrders.ipynb#Y115sZmlsZQ%3D%3D?line=14'>15</a>\u001b[0m         )\n\u001b[0;32m     <a href='vscode-notebook-cell:/c%3A/Users/Kveen/PycharmProjects/carbonbot/resources/NBTest/NBTest_043_TestEmptyCarbonOrders.ipynb#Y115sZmlsZQ%3D%3D?line=15'>16</a>\u001b[0m agg_trade_instructions \u001b[39m=\u001b[39m (\n\u001b[0;32m     <a href='vscode-notebook-cell:/c%3A/Users/Kveen/PycharmProjects/carbonbot/resources/NBTest/NBTest_043_TestEmptyCarbonOrders.ipynb#Y115sZmlsZQ%3D%3D?line=16'>17</a>\u001b[0m             tx_route_handler\u001b[39m.\u001b[39maggregate_carbon_trades(ordered_trade_instructions_objects)\n\u001b[0;32m     <a href='vscode-notebook-cell:/c%3A/Users/Kveen/PycharmProjects/carbonbot/resources/NBTest/NBTest_043_TestEmptyCarbonOrders.ipynb#Y115sZmlsZQ%3D%3D?line=17'>18</a>\u001b[0m             \u001b[39mif\u001b[39;00m bot\u001b[39m.\u001b[39m_carbon_in_trade_route(ordered_trade_instructions_objects)\n\u001b[0;32m     <a href='vscode-notebook-cell:/c%3A/Users/Kveen/PycharmProjects/carbonbot/resources/NBTest/NBTest_043_TestEmptyCarbonOrders.ipynb#Y115sZmlsZQ%3D%3D?line=18'>19</a>\u001b[0m             \u001b[39melse\u001b[39;00m ordered_trade_instructions_objects\n\u001b[0;32m     <a href='vscode-notebook-cell:/c%3A/Users/Kveen/PycharmProjects/carbonbot/resources/NBTest/NBTest_043_TestEmptyCarbonOrders.ipynb#Y115sZmlsZQ%3D%3D?line=19'>20</a>\u001b[0m         )\n",
      "File \u001b[1;32mc:\\Users\\Kveen\\PycharmProjects\\carbonbot\\resources\\NBTest\\fastlane_bot\\bot.py:351\u001b[0m, in \u001b[0;36mCarbonBot._convert_trade_instructions\u001b[1;34m(self, trade_instructions_dic)\u001b[0m\n\u001b[0;32m    339\u001b[0m errorless_trade_instructions_dic \u001b[39m=\u001b[39m \u001b[39mself\u001b[39m\u001b[39m.\u001b[39m_drop_error(trade_instructions_dic)\n\u001b[0;32m    340\u001b[0m result \u001b[39m=\u001b[39m (\n\u001b[0;32m    341\u001b[0m     {\n\u001b[0;32m    342\u001b[0m         \u001b[39m*\u001b[39m\u001b[39m*\u001b[39mti,\n\u001b[1;32m   (...)\u001b[0m\n\u001b[0;32m    349\u001b[0m     \u001b[39mif\u001b[39;00m ti \u001b[39mis\u001b[39;00m \u001b[39mnot\u001b[39;00m \u001b[39mNone\u001b[39;00m\n\u001b[0;32m    350\u001b[0m )\n\u001b[1;32m--> 351\u001b[0m result \u001b[39m=\u001b[39m [TradeInstruction(\u001b[39m*\u001b[39m\u001b[39m*\u001b[39mti) \u001b[39mfor\u001b[39;00m ti \u001b[39min\u001b[39;00m result]\n\u001b[0;32m    352\u001b[0m \u001b[39mreturn\u001b[39;00m result\n",
      "File \u001b[1;32mc:\\Users\\Kveen\\PycharmProjects\\carbonbot\\resources\\NBTest\\fastlane_bot\\bot.py:351\u001b[0m, in \u001b[0;36m<listcomp>\u001b[1;34m(.0)\u001b[0m\n\u001b[0;32m    339\u001b[0m errorless_trade_instructions_dic \u001b[39m=\u001b[39m \u001b[39mself\u001b[39m\u001b[39m.\u001b[39m_drop_error(trade_instructions_dic)\n\u001b[0;32m    340\u001b[0m result \u001b[39m=\u001b[39m (\n\u001b[0;32m    341\u001b[0m     {\n\u001b[0;32m    342\u001b[0m         \u001b[39m*\u001b[39m\u001b[39m*\u001b[39mti,\n\u001b[1;32m   (...)\u001b[0m\n\u001b[0;32m    349\u001b[0m     \u001b[39mif\u001b[39;00m ti \u001b[39mis\u001b[39;00m \u001b[39mnot\u001b[39;00m \u001b[39mNone\u001b[39;00m\n\u001b[0;32m    350\u001b[0m )\n\u001b[1;32m--> 351\u001b[0m result \u001b[39m=\u001b[39m [TradeInstruction(\u001b[39m*\u001b[39m\u001b[39m*\u001b[39mti) \u001b[39mfor\u001b[39;00m ti \u001b[39min\u001b[39;00m result]\n\u001b[0;32m    352\u001b[0m \u001b[39mreturn\u001b[39;00m result\n",
      "File \u001b[1;32m<string>:20\u001b[0m, in \u001b[0;36m__init__\u001b[1;34m(self, ConfigObj, cid, tknin, amtin, tknout, amtout, pair_sorting, raw_txs, custom_data, db, tknin_dec_override, tknout_dec_override, tknin_addr_override, tknout_addr_override, exchange_override, _amtin_wei, _amtout_wei)\u001b[0m\n",
      "File \u001b[1;32mc:\\Users\\Kveen\\PycharmProjects\\carbonbot\\resources\\NBTest\\fastlane_bot\\helpers\\tradeinstruction.py:145\u001b[0m, in \u001b[0;36mTradeInstruction.__post_init__\u001b[1;34m(self)\u001b[0m\n\u001b[0;32m    143\u001b[0m     \u001b[39mself\u001b[39m\u001b[39m.\u001b[39mpair_sorting \u001b[39m=\u001b[39m \u001b[39m\"\u001b[39m\u001b[39m\"\u001b[39m\n\u001b[0;32m    144\u001b[0m \u001b[39mif\u001b[39;00m \u001b[39mself\u001b[39m\u001b[39m.\u001b[39mexchange_override \u001b[39mis\u001b[39;00m \u001b[39mNone\u001b[39;00m:\n\u001b[1;32m--> 145\u001b[0m     \u001b[39mself\u001b[39m\u001b[39m.\u001b[39m_exchange_name \u001b[39m=\u001b[39m \u001b[39mself\u001b[39;49m\u001b[39m.\u001b[39;49mdb\u001b[39m.\u001b[39;49mget_pool(cid\u001b[39m=\u001b[39;49m\u001b[39mself\u001b[39;49m\u001b[39m.\u001b[39;49mcid\u001b[39m.\u001b[39;49msplit(\u001b[39m'\u001b[39;49m\u001b[39m-\u001b[39;49m\u001b[39m'\u001b[39;49m)[\u001b[39m0\u001b[39;49m])\u001b[39m.\u001b[39;49mexchange_name\n\u001b[0;32m    146\u001b[0m \u001b[39melse\u001b[39;00m:\n\u001b[0;32m    147\u001b[0m     \u001b[39mself\u001b[39m\u001b[39m.\u001b[39m_exchange_name \u001b[39m=\u001b[39m \u001b[39mself\u001b[39m\u001b[39m.\u001b[39mexchange_override\n",
      "\u001b[1;31mAttributeError\u001b[0m: 'NoneType' object has no attribute 'exchange_name'"
     ]
    }
   ],
   "source": [
    "\n",
    "\n",
    "\n",
    "\n",
    "# Calculate the trade instructions\n",
    "calculated_trade_instructions = tx_route_handler.calculate_trade_outputs(\n",
    "    agg_trade_instructions\n",
    ")"
   ]
  },
  {
   "cell_type": "code",
   "execution_count": null,
   "id": "74e9c913",
   "metadata": {},
   "outputs": [],
   "source": [
    "ordered_scaled_dcts = bot._basic_scaling(\n",
    "            ordered_trade_instructions_dct, best_src_token\n",
    "        )\n",
    "# Convert the trade instructions\n",
    "ordered_trade_instructions_objects = bot._convert_trade_instructions(\n",
    "    ordered_scaled_dcts)\n",
    "tx_route_handler = bot.TxRouteHandlerClass(\n",
    "            trade_instructions=ordered_trade_instructions_objects\n",
    "        )\n",
    "agg_trade_instructions = (\n",
    "            tx_route_handler.aggregate_carbon_trades(ordered_trade_instructions_objects)\n",
    "            if bot._carbon_in_trade_route(ordered_trade_instructions_objects)\n",
    "            else ordered_trade_instructions_objects\n",
    "        )\n",
    "# Calculate the trade instructions\n",
    "calculated_trade_instructions = tx_route_handler.calculate_trade_outputs(\n",
    "    agg_trade_instructions\n",
    ")"
   ]
  },
  {
   "cell_type": "code",
   "execution_count": null,
   "id": "89bfa151",
   "metadata": {},
   "outputs": [],
   "source": [
    "trade_instructions = [{'cid': '0x38a4847880387ca4a93a5d202263135d162f37adf6e46b505f1f2117f4909a83', 'tknin': 'WETH-6Cc2', 'amtin': 4.013580159749836, 'tknout': 'USDC-eB48', 'amtout': -7999.4359412789345, 'error': None}, {'cid': '1701411834604692317316873037158841057299-1', 'tknin': 'USDC-eB48', 'amtin': 45.506197613396125, 'tknout': 'WETH-6Cc2', 'amtout': -0.023142650372126816, 'error': None}, {'cid': '1701411834604692317316873037158841057337-1', 'tknin': 'USDC-eB48', 'amtin': 121.86471483280911, 'tknout': 'WETH-6Cc2', 'amtout': -0.061423963598862485, 'error': None}, {'cid': '1701411834604692317316873037158841057343-1', 'tknin': 'USDC-eB48', 'amtin': 1990.0, 'tknout': 'WETH-6Cc2', 'amtout': -1.0, 'error': None}, {'cid': '1701411834604692317316873037158841057358-1', 'tknin': 'USDC-eB48', 'amtin': 3.112472768407315e-08, 'tknout': 'WETH-6Cc2', 'amtout': -1.596145438043095e-11, 'error': None}, {'cid': '1701411834604692317316873037158841057382-1', 'tknin': 'USDC-eB48', 'amtin': 37.481971740722656, 'tknout': 'WETH-6Cc2', 'amtout': -0.019727351143956184, 'error': None}, {'cid': '1701411834604692317316873037158841057386-1', 'tknin': 'USDC-eB48', 'amtin': 3.6403071135282516e-07, 'tknout': 'WETH-6Cc2', 'amtout': -1.9160495412506862e-10, 'error': None}, {'cid': '1701411834604692317316873037158841057405-1', 'tknin': 'USDC-eB48', 'amtin': 3.525674401316792e-07, 'tknout': 'WETH-6Cc2', 'amtout': -1.836291119161615e-10, 'error': None}, {'cid': '1701411834604692317316873037158841057409-1', 'tknin': 'USDC-eB48', 'amtin': 0.8508408926427364, 'tknout': 'WETH-6Cc2', 'amtout': -0.00047268935850297567, 'error': None}, {'cid': '1701411834604692317316873037158841057569-1', 'tknin': 'USDC-eB48', 'amtin': 50.3521728515625, 'tknout': 'WETH-6Cc2', 'amtout': -0.026515096426010132, 'error': None}, {'cid': '1701411834604692317316873037158841057432-1', 'tknin': 'USDC-eB48', 'amtin': 823.4780578613281, 'tknout': 'WETH-6Cc2', 'amtout': -0.4148503690958023, 'error': None}, {'cid': '1701411834604692317316873037158841057434-1', 'tknin': 'USDC-eB48', 'amtin': 0.30484674870967865, 'tknout': 'WETH-6Cc2', 'amtout': -0.0001604456572295021, 'error': None}, {'cid': '1701411834604692317316873037158841057441-1', 'tknin': 'USDC-eB48', 'amtin': 929.7200231026363, 'tknout': 'WETH-6Cc2', 'amtout': -0.4728686694506905, 'error': None}, {'cid': '1701411834604692317316873037158841057444-1', 'tknin': 'USDC-eB48', 'amtin': 8.926726877689362e-07, 'tknout': 'WETH-6Cc2', 'amtout': -4.69867700303439e-10, 'error': None}, {'cid': '1701411834604692317316873037158841057458-1', 'tknin': 'USDC-eB48', 'amtin': 7.694998203078285e-07, 'tknout': 'WETH-6Cc2', 'amtout': -4.228022376651097e-10, 'error': None}, {'cid': '1701411834604692317316873037158841057482-1', 'tknin': 'USDC-eB48', 'amtin': 1.3181804613006764e-13, 'tknout': 'WETH-6Cc2', 'amtout': -6.773942102560546e-17, 'error': None}, {'cid': '1701411834604692317316873037158841057484-1', 'tknin': 'USDC-eB48', 'amtin': 1073.2558631896973, 'tknout': 'WETH-6Cc2', 'amtout': -0.5420484151691198, 'error': None}, {'cid': '1701411834604692317316873037158841057499-1', 'tknin': 'USDC-eB48', 'amtin': 30.675735473632812, 'tknout': 'WETH-6Cc2', 'amtout': -0.016018658876419067, 'error': None}, {'cid': '1701411834604692317316873037158841057513-1', 'tknin': 'USDC-eB48', 'amtin': 951.2761421203613, 'tknout': 'WETH-6Cc2', 'amtout': -0.4804424960166216, 'error': None}, {'cid': '1701411834604692317316873037158841057528-1', 'tknin': 'USDC-eB48', 'amtin': 1329.2054503213294, 'tknout': 'WETH-6Cc2', 'amtout': -0.6738792466624943, 'error': None}, {'cid': '1701411834604692317316873037158841057545-1', 'tknin': 'USDC-eB48', 'amtin': 615.4639225006104, 'tknout': 'WETH-6Cc2', 'amtout': -0.3092783526517451, 'error': None}]"
   ]
  },
  {
   "cell_type": "code",
   "execution_count": null,
   "id": "85ccf3e5",
   "metadata": {},
   "outputs": [],
   "source": [
    "tx_route_handler = bot.TxRouteHandlerClass(\n",
    "            trade_instructions=ordered_trade_instructions_objects\n",
    "        )"
   ]
  },
  {
   "cell_type": "code",
   "execution_count": null,
   "id": "62b79fb5",
   "metadata": {},
   "outputs": [],
   "source": [
    "encoded_trade_instructions = tx_route_handler.custom_data_encoder(\n",
    "            agg_trade_instructions\n",
    "        )"
   ]
  },
  {
   "cell_type": "code",
   "execution_count": null,
   "id": "3fbd9236",
   "metadata": {},
   "outputs": [],
   "source": []
  },
  {
   "cell_type": "code",
   "execution_count": null,
   "id": "0471ff4e",
   "metadata": {},
   "outputs": [],
   "source": []
  }
 ],
 "metadata": {
  "kernelspec": {
   "display_name": "Python 3 (ipykernel)",
   "language": "python",
   "name": "python3"
  },
  "language_info": {
   "codemirror_mode": {
    "name": "ipython",
    "version": 3
   },
   "file_extension": ".py",
   "mimetype": "text/x-python",
   "name": "python",
   "nbconvert_exporter": "python",
   "pygments_lexer": "ipython3",
   "version": "3.10.1"
  }
 },
 "nbformat": 4,
 "nbformat_minor": 5
}

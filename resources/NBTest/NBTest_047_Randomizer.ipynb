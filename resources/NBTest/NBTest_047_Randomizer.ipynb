{
 "cells": [
  {
   "cell_type": "code",
   "execution_count": 1,
   "id": "84fa264b",
   "metadata": {
    "ExecuteTime": {
     "end_time": "2023-09-18T18:21:35.122179Z",
     "start_time": "2023-09-18T18:21:35.102964Z"
    }
   },
   "outputs": [
    {
     "name": "stdout",
     "output_type": "stream",
     "text": [
      "ConstantProductCurve v3.2 (15/Sep/2023)\n",
      "CarbonBot v3-b2.2 (20/June/2023)\n",
      "UniswapV2 v0.0.2 (2023-08-27)\n",
      "UniswapV3 v0.0.2 (2023-08-27)\n",
      "SushiswapV2 v0.0.2 (2023-08-27)\n",
      "CarbonV1 v0.0.2 (2023-08-27)\n",
      "BancorV3 v0.0.2 (2023-08-27)\n",
      "imported m, np, pd, plt, os, sys, decimal; defined iseq, raises, require\n",
      "Version = 3-b2.2 [requirements >= 3.0 is met]\n"
     ]
    }
   ],
   "source": [
    "# coding=utf-8\n",
    "\"\"\"\n",
    "This module contains the tests for the exchanges classes\n",
    "\"\"\"\n",
    "from fastlane_bot import Bot, Config\n",
    "from fastlane_bot.bot import CarbonBot\n",
    "from fastlane_bot.tools.cpc import ConstantProductCurve\n",
    "from fastlane_bot.tools.cpc import ConstantProductCurve as CPC\n",
    "from fastlane_bot.events.exchanges import UniswapV2, UniswapV3, SushiswapV2, CarbonV1, BancorV3\n",
    "from fastlane_bot.events.interface import QueryInterface\n",
    "from fastlane_bot.helpers.poolandtokens import PoolAndTokens\n",
    "from fastlane_bot.helpers import TradeInstruction, TxReceiptHandler, TxRouteHandler, TxSubmitHandler, TxHelpers, TxHelper\n",
    "from fastlane_bot.events.managers.manager import Manager\n",
    "from fastlane_bot.events.interface import QueryInterface\n",
    "from joblib import Parallel, delayed\n",
    "import pytest\n",
    "import math\n",
    "import json\n",
    "print(\"{0.__name__} v{0.__VERSION__} ({0.__DATE__})\".format(CPC))\n",
    "print(\"{0.__name__} v{0.__VERSION__} ({0.__DATE__})\".format(Bot))\n",
    "print(\"{0.__name__} v{0.__VERSION__} ({0.__DATE__})\".format(UniswapV2))\n",
    "print(\"{0.__name__} v{0.__VERSION__} ({0.__DATE__})\".format(UniswapV3))\n",
    "print(\"{0.__name__} v{0.__VERSION__} ({0.__DATE__})\".format(SushiswapV2))\n",
    "print(\"{0.__name__} v{0.__VERSION__} ({0.__DATE__})\".format(CarbonV1))\n",
    "print(\"{0.__name__} v{0.__VERSION__} ({0.__DATE__})\".format(BancorV3))\n",
    "from fastlane_bot.testing import *\n",
    "from fastlane_bot.modes import triangle_single_bancor3\n",
    "#plt.style.use('seaborn-dark')\n",
    "plt.rcParams['figure.figsize'] = [12,6]\n",
    "from fastlane_bot import __VERSION__\n",
    "require(\"3.0\", __VERSION__)"
   ]
  },
  {
   "cell_type": "markdown",
   "id": "4c4e2283",
   "metadata": {},
   "source": [
    "# Randomizer [NB047]"
   ]
  },
  {
   "cell_type": "code",
   "execution_count": 2,
   "id": "a51e5ec2",
   "metadata": {
    "ExecuteTime": {
     "end_time": "2023-09-18T18:21:37.618746Z",
     "start_time": "2023-09-18T18:21:35.113070Z"
    }
   },
   "outputs": [
    {
     "name": "stderr",
     "output_type": "stream",
     "text": [
      "2023-09-20 18:22:24,232 [fastlane:INFO] - \n",
      "2023-09-20 18:22:24,234 [fastlane:INFO] - **********************************************\n",
      "2023-09-20 18:22:24,235 [fastlane:INFO] - The logging path is set to: logs/20230920-182224/bot.log\n",
      "2023-09-20 18:22:24,236 [fastlane:INFO] - **********************************************\n",
      "2023-09-20 18:22:24,237 [fastlane:INFO] - \n",
      "2023-09-20 18:22:26,169 [fastlane:INFO] - Retrieved 169 carbon pairs from contract\n",
      "2023-09-20 18:22:27,401 [fastlane:INFO] - Time taken to add initial pools: 0.1475057601928711\n",
      "2023-09-20 18:22:27,406 [fastlane:INFO] - Initializing the bot...\n",
      "2023-09-20 18:22:27,603 [fastlane:INFO] - Removed 3242 unmapped uniswap_v2/sushi pools. 1897 uniswap_v2/sushi pools remaining\n",
      "2023-09-20 18:22:27,604 [fastlane:INFO] - Unmapped uniswap_v2/sushi pools:\n",
      "2023-09-20 18:22:27,889 [fastlane:INFO] - uniswap_v3: 0\n",
      "2023-09-20 18:22:27,890 [fastlane:INFO] - uniswap_v2: 3242\n",
      "2023-09-20 18:22:27,890 [fastlane:INFO] - sushiswap_v2: 0\n",
      "2023-09-20 18:22:27,892 [fastlane:INFO] - uniswap_v3: 636\n",
      "2023-09-20 18:22:27,892 [fastlane:INFO] - sushiswap_v2: 78\n",
      "2023-09-20 18:22:27,893 [fastlane:INFO] - uniswap_v2: 0\n",
      "2023-09-20 18:22:27,893 [fastlane:INFO] - bancor_v2: 0\n",
      "2023-09-20 18:22:27,894 [fastlane:INFO] - bancor_v3: 34\n",
      "2023-09-20 18:22:27,894 [fastlane:INFO] - carbon_v1: 220\n",
      "2023-09-20 18:22:27,938 [fastlane:INFO] - uniswap_v3_zero_liquidity_pools: 858\n",
      "2023-09-20 18:22:27,939 [fastlane:INFO] - sushiswap_v2_zero_liquidity_pools: 34\n",
      "2023-09-20 18:22:27,939 [fastlane:INFO] - uniswap_v2_zero_liquidity_pools: 0\n",
      "2023-09-20 18:22:27,939 [fastlane:INFO] - bancor_v2_zero_liquidity_pools: 0\n",
      "2023-09-20 18:22:27,940 [fastlane:INFO] - bancor_v3_zero_liquidity_pools: 37\n",
      "2023-09-20 18:22:27,940 [fastlane:INFO] - carbon_v1_zero_liquidity_pools: 0\n",
      "2023-09-20 18:22:27,941 [fastlane:INFO] - Removed 0 unsupported exchanges. 968 pools remaining\n",
      "2023-09-20 18:22:27,941 [fastlane:INFO] - Pools remaining per exchange:\n",
      "2023-09-20 18:22:27,942 [fastlane:INFO] - uniswap_v3: 636\n",
      "2023-09-20 18:22:27,942 [fastlane:INFO] - bancor_v3: 34\n",
      "2023-09-20 18:22:27,943 [fastlane:INFO] - sushiswap_v2: 78\n",
      "2023-09-20 18:22:27,943 [fastlane:INFO] - carbon_v1: 220\n",
      "2023-09-20 18:22:27,943 [fastlane:INFO] - uniswap_v2: 0\n"
     ]
    }
   ],
   "source": [
    "C = cfg = Config.new(config=Config.CONFIG_MAINNET)\n",
    "C.DEFAULT_MIN_PROFIT_BNT = 0.02\n",
    "C.DEFAULT_MIN_PROFIT = 0.02\n",
    "cfg.DEFAULT_MIN_PROFIT_BNT = 0.02\n",
    "cfg.DEFAULT_MIN_PROFIT = 0.02\n",
    "assert (C.NETWORK == C.NETWORK_MAINNET)\n",
    "assert (C.PROVIDER == C.PROVIDER_ALCHEMY)\n",
    "setup_bot = CarbonBot(ConfigObj=C)\n",
    "pools = None\n",
    "with open('fastlane_bot/data/tests/latest_pool_data_testing.json') as f:\n",
    "    pools = json.load(f)\n",
    "pools = [pool for pool in pools]\n",
    "pools[0]\n",
    "static_pools = pools\n",
    "state = pools\n",
    "exchanges = list({ex['exchange_name'] for ex in state})\n",
    "db = QueryInterface(state=state, ConfigObj=C, exchanges=exchanges)\n",
    "setup_bot.db = db\n",
    "\n",
    "static_pool_data_filename = \"static_pool_data\"\n",
    "\n",
    "static_pool_data = pd.read_csv(f\"fastlane_bot/data/{static_pool_data_filename}.csv\", low_memory=False)\n",
    "    \n",
    "uniswap_v2_event_mappings = pd.read_csv(\"fastlane_bot/data/uniswap_v2_event_mappings.csv\", low_memory=False)\n",
    "        \n",
    "tokens = pd.read_csv(\"fastlane_bot/data/tokens.csv\", low_memory=False)\n",
    "        \n",
    "exchanges = \"carbon_v1,bancor_v3,uniswap_v3,uniswap_v2,sushiswap_v2\"\n",
    "\n",
    "exchanges = exchanges.split(\",\")\n",
    "\n",
    "\n",
    "alchemy_max_block_fetch = 20\n",
    "static_pool_data[\"cid\"] = [\n",
    "        cfg.w3.keccak(text=f\"{row['descr']}\").hex()\n",
    "        for index, row in static_pool_data.iterrows()\n",
    "    ]\n",
    "# Filter out pools that are not in the supported exchanges\n",
    "static_pool_data = [\n",
    "    row for index, row in static_pool_data.iterrows()\n",
    "    if row[\"exchange_name\"] in exchanges\n",
    "]\n",
    "\n",
    "static_pool_data = pd.DataFrame(static_pool_data)\n",
    "static_pool_data['exchange_name'].unique()\n",
    "# Initialize data fetch manager\n",
    "mgr = Manager(\n",
    "    web3=cfg.w3,\n",
    "    cfg=cfg,\n",
    "    pool_data=static_pool_data.to_dict(orient=\"records\"),\n",
    "    SUPPORTED_EXCHANGES=exchanges,\n",
    "    alchemy_max_block_fetch=alchemy_max_block_fetch,\n",
    "    uniswap_v2_event_mappings=uniswap_v2_event_mappings,\n",
    "    tokens=tokens.to_dict(orient=\"records\"),\n",
    ")\n",
    "\n",
    "# Add initial pools for each row in the static_pool_data\n",
    "start_time = time.time()\n",
    "Parallel(n_jobs=-1, backend=\"threading\")(\n",
    "    delayed(mgr.add_pool_to_exchange)(row) for row in mgr.pool_data\n",
    ")\n",
    "cfg.logger.info(f\"Time taken to add initial pools: {time.time() - start_time}\")\n",
    "\n",
    "# check if any duplicate cid's exist in the pool data\n",
    "mgr.deduplicate_pool_data()\n",
    "cids = [pool[\"cid\"] for pool in mgr.pool_data]\n",
    "assert len(cids) == len(set(cids)), \"duplicate cid's exist in the pool data\"\n",
    "def init_bot(mgr: Manager) -> CarbonBot:\n",
    "    \"\"\"\n",
    "    Initializes the bot.\n",
    "\n",
    "    Parameters\n",
    "    ----------\n",
    "    mgr : Manager\n",
    "        The manager object.\n",
    "\n",
    "    Returns\n",
    "    -------\n",
    "    CarbonBot\n",
    "        The bot object.\n",
    "    \"\"\"\n",
    "    mgr.cfg.logger.info(\"Initializing the bot...\")\n",
    "    bot = CarbonBot(ConfigObj=mgr.cfg)\n",
    "    bot.db = db\n",
    "    bot.db.mgr = mgr\n",
    "    assert isinstance(\n",
    "        bot.db, QueryInterface\n",
    "    ), \"QueryInterface not initialized correctly\"\n",
    "    return bot\n",
    "bot = init_bot(mgr)\n",
    "# add data cleanup steps from main.py\n",
    "bot.db.handle_token_key_cleanup()\n",
    "bot.db.remove_unmapped_uniswap_v2_pools()\n",
    "bot.db.remove_zero_liquidity_pools()\n",
    "bot.db.remove_unsupported_exchanges()\n",
    "tokens = bot.db.get_tokens()\n",
    "ADDRDEC = {t.key: (t.address, int(t.decimals)) for t in tokens if not math.isnan(t.decimals)}\n",
    "flashloan_tokens = bot.setup_flashloan_tokens(None)\n",
    "CCm = bot.setup_CCm(None)\n",
    "pools = db.get_pool_data_with_tokens()\n",
    "\n",
    "arb_mode = \"multi\""
   ]
  },
  {
   "cell_type": "markdown",
   "id": "96ef3bf0",
   "metadata": {},
   "source": [
    "## Test_randomizer"
   ]
  },
  {
   "cell_type": "code",
   "execution_count": 3,
   "id": "1bd9247d-9900-42ac-9e6e-54254b9a0921",
   "metadata": {
    "ExecuteTime": {
     "end_time": "2023-09-18T18:21:38.173678Z",
     "start_time": "2023-09-18T18:21:37.631096Z"
    }
   },
   "outputs": [
    {
     "name": "stdout",
     "output_type": "stream",
     "text": [
      "[PairOptimizer.optimize] curves_t HEX-eb39/WETH-6Cc2\n",
      "[PairOptimizer.optimize] p_optimal OptimizerBase.SimpleResult(result=4.639072734871654e-06, method='bisection', errormsg=None, context_dct=None) full_result [ 6.18013860e-06 -1.40883161e-03]\n",
      "[PairOptimizer.optimize] curves_t HEX-eb39/WETH-6Cc2\n",
      "[PairOptimizer.optimize] p_optimal OptimizerBase.SimpleResult(result=4.617372379227854e-06, method='bisection', errormsg=None, context_dct=None) full_result [-3.09833574e-05 -1.42138817e-03]\n",
      "[PairOptimizer.optimize] curves_t agEUR-Bce8/USDC-eB48\n",
      "[PairOptimizer.optimize] p_optimal OptimizerBase.SimpleResult(result=1.1012068414303633, method='bisection', errormsg=None, context_dct=None) full_result [-5.64055517e-06 -1.18744648e+01]\n",
      "[PairOptimizer.optimize] curves_t agEUR-Bce8/USDC-eB48\n",
      "[PairOptimizer.optimize] p_optimal OptimizerBase.SimpleResult(result=1.0954248748364481, method='bisection', errormsg=None, context_dct=None) full_result [-6.18165359e-08 -2.33145539e-01]\n",
      "[PairOptimizer.optimize] curves_t WETH-6Cc2/USDT-1ec7\n",
      "[PairOptimizer.optimize] p_optimal OptimizerBase.SimpleResult(result=1890.390270285589, method='bisection', errormsg=None, context_dct=None) full_result [-1.49248899e-05  3.31950869e-05]\n",
      "[PairOptimizer.optimize] curves_t WETH-6Cc2/USDT-1ec7\n",
      "[PairOptimizer.optimize] p_optimal OptimizerBase.SimpleResult(result=1889.1459250739695, method='bisection', errormsg=None, context_dct=None) full_result [-1.54602258e-05  5.44912473e-06]\n",
      "[PairOptimizer.optimize] curves_t WETH-6Cc2/USDT-1ec7\n",
      "[PairOptimizer.optimize] p_optimal OptimizerBase.SimpleResult(result=1881.7107446961318, method='bisection', errormsg=None, context_dct=None) full_result [-1.87622373e-05  6.14202872e-06]\n",
      "[PairOptimizer.optimize] curves_t USDT-1ec7/USDC-eB48\n",
      "[PairOptimizer.optimize] p_optimal OptimizerBase.SimpleResult(result=1.0000207916531387, method='bisection', errormsg=None, context_dct=None) full_result [-0.02264398 -0.08936157]\n",
      "[PairOptimizer.optimize] curves_t USDT-1ec7/USDC-eB48\n",
      "[PairOptimizer.optimize] p_optimal OptimizerBase.SimpleResult(result=0.9999814029408832, method='bisection', errormsg=None, context_dct=None) full_result [ 0.00014833 -0.12575295]\n",
      "[PairOptimizer.optimize] curves_t WBTC-C599/USDT-1ec7\n",
      "[PairOptimizer.optimize] p_optimal OptimizerBase.SimpleResult(result=30694.613949047027, method='bisection', errormsg=None, context_dct=None) full_result [-6.27641507e-07 -9.29663398e-06]\n",
      "[PairOptimizer.optimize] curves_t DAI-1d0F/USDT-1ec7\n",
      "[PairOptimizer.optimize] p_optimal OptimizerBase.SimpleResult(result=0.9998810288344318, method='bisection', errormsg=None, context_dct=None) full_result [ 0.00066614 -0.00066662]\n",
      "[PairOptimizer.optimize] curves_t DAI-1d0F/USDT-1ec7\n",
      "[PairOptimizer.optimize] p_optimal OptimizerBase.SimpleResult(result=1.0000277727928748, method='bisection', errormsg=None, context_dct=None) full_result [ 4.78029251e-05 -4.77433205e-05]\n",
      "[PairOptimizer.optimize] curves_t LINK-86CA/USDT-1ec7\n",
      "[PairOptimizer.optimize] p_optimal OptimizerBase.SimpleResult(result=6.198117111417265, method='bisection', errormsg=None, context_dct=None) full_result [-3.56203511e-10 -8.85218990e-03]\n",
      "[PairOptimizer.optimize] curves_t LINK-86CA/WETH-6Cc2\n",
      "[PairOptimizer.optimize] p_optimal OptimizerBase.SimpleResult(result=0.0033127999417085006, method='bisection', errormsg=None, context_dct=None) full_result [ 5.54695725e-06 -2.81397952e-05]\n",
      "[PairOptimizer.optimize] curves_t ETH2x_FLI-65BD/WETH-6Cc2\n",
      "[PairOptimizer.optimize] p_optimal OptimizerBase.SimpleResult(result=0.006679129489639701, method='bisection', errormsg=None, context_dct=None) full_result [ 1.02445483e-08 -6.84394763e-11]\n",
      "[PairOptimizer.optimize] curves_t WBTC-C599/USDT-1ec7\n",
      "[PairOptimizer.optimize] p_optimal OptimizerBase.SimpleResult(result=30694.613926066977, method='bisection', errormsg=None, context_dct=None) full_result [-7.29679297e-11 -1.92722695e-02]\n",
      "[PairOptimizer.optimize] curves_t WBTC-C599/WETH-6Cc2\n",
      "[PairOptimizer.optimize] p_optimal OptimizerBase.SimpleResult(result=16.251275646974555, method='bisection', errormsg=None, context_dct=None) full_result [ 3.64942743e-10 -5.68078256e-07]\n",
      "[PairOptimizer.optimize] curves_t WBTC-C599/WETH-6Cc2\n",
      "[PairOptimizer.optimize] p_optimal OptimizerBase.SimpleResult(result=16.26249310391536, method='bisection', errormsg=None, context_dct=None) full_result [-3.98329458e-09 -5.35144714e-05]\n",
      "[PairOptimizer.optimize] curves_t WBTC-C599/USDC-eB48\n",
      "[PairOptimizer.optimize] p_optimal OptimizerBase.SimpleResult(result=30708.386280900024, method='bisection', errormsg=None, context_dct=None) full_result [ 1.84764426e-11 -8.92270744e-01]\n",
      "[PairOptimizer.optimize] curves_t WBTC-C599/USDC-eB48\n",
      "[PairOptimizer.optimize] p_optimal OptimizerBase.SimpleResult(result=30681.14901463337, method='bisection', errormsg=None, context_dct=None) full_result [ 1.01516817e-09 -7.98454532e-01]\n",
      "[PairOptimizer.optimize] curves_t PEPE-1933/WETH-6Cc2\n",
      "[PairOptimizer.optimize] p_optimal OptimizerBase.SimpleResult(result=8.149138379327994e-10, method='bisection', errormsg=None, context_dct=None) full_result [ 3.55078125e+00 -2.89583113e-09]\n",
      "[PairOptimizer.optimize] curves_t PEPE-1933/WETH-6Cc2\n",
      "[PairOptimizer.optimize] p_optimal OptimizerBase.SimpleResult(result=8.107804985574788e-10, method='bisection', errormsg=None, context_dct=None) full_result [-1.50756836e-02  1.22213351e-11]\n",
      "[PairOptimizer.optimize] curves_t PEPE-1933/USDC-eB48\n",
      "[PairOptimizer.optimize] p_optimal OptimizerBase.SimpleResult(result=1.5362878225148394e-06, method='bisection', errormsg=None, context_dct=None) full_result [ 0.00168514 -0.00666745]\n",
      "[PairOptimizer.optimize] curves_t SMT-7173/WETH-6Cc2\n",
      "[PairOptimizer.optimize] p_optimal OptimizerBase.SimpleResult(result=3.412385811295565e-05, method='bisection', errormsg=None, context_dct=None) full_result [ 2.57859938e-08 -8.81072992e-13]\n",
      "[PairOptimizer.optimize] curves_t WETH-6Cc2/BNT-FF1C\n",
      "[PairOptimizer.optimize] p_optimal OptimizerBase.SimpleResult(result=4764.128744552056, method='bisection', errormsg=None, context_dct=None) full_result [-5.01324020e-04  1.56673559e-06]\n",
      "[PairOptimizer.optimize] curves_t BNT-FF1C/USDC-eB48\n",
      "[PairOptimizer.optimize] p_optimal OptimizerBase.SimpleResult(result=0.3933379879916709, method='bisection', errormsg=None, context_dct=None) full_result [ 1.53668225e-07 -9.95209836e-03]\n",
      "[PairOptimizer.optimize] curves_t DAI-1d0F/USDT-1ec7\n",
      "[PairOptimizer.optimize] p_optimal OptimizerBase.SimpleResult(result=0.9998810288344318, method='bisection', errormsg=None, context_dct=None) full_result [ 0.00066614 -0.00066662]\n",
      "[PairOptimizer.optimize] curves_t DAI-1d0F/USDT-1ec7\n",
      "[PairOptimizer.optimize] p_optimal OptimizerBase.SimpleResult(result=1.0000277727928748, method='bisection', errormsg=None, context_dct=None) full_result [ 4.78029251e-05 -4.77433205e-05]\n",
      "[PairOptimizer.optimize] curves_t WETH-6Cc2/DAI-1d0F\n",
      "[PairOptimizer.optimize] p_optimal OptimizerBase.SimpleResult(result=1889.851635528448, method='bisection', errormsg=None, context_dct=None) full_result [-3.82715371e-09  7.22706318e-06]\n",
      "[PairOptimizer.optimize] curves_t WETH-6Cc2/DAI-1d0F\n",
      "[PairOptimizer.optimize] p_optimal OptimizerBase.SimpleResult(result=1889.851635528448, method='bisection', errormsg=None, context_dct=None) full_result [-3.82715371e-09  7.22706318e-06]\n",
      "[PairOptimizer.optimize] curves_t WETH-6Cc2/DAI-1d0F\n",
      "[PairOptimizer.optimize] p_optimal OptimizerBase.SimpleResult(result=1889.2342508783106, method='bisection', errormsg=None, context_dct=None) full_result [-4.54383553e-09  8.59051943e-06]\n",
      "[PairOptimizer.optimize] curves_t WETH-6Cc2/DAI-1d0F\n",
      "[PairOptimizer.optimize] p_optimal OptimizerBase.SimpleResult(result=1889.2342508783106, method='bisection', errormsg=None, context_dct=None) full_result [-4.54383553e-09  8.59051943e-06]\n",
      "[PairOptimizer.optimize] curves_t DAI-1d0F/USDC-eB48\n",
      "[PairOptimizer.optimize] p_optimal OptimizerBase.SimpleResult(result=1.0003813756304956, method='bisection', errormsg=None, context_dct=None) full_result [-0.00645447  0.00645447]\n",
      "[PairOptimizer.optimize] curves_t DAI-1d0F/USDC-eB48\n",
      "[PairOptimizer.optimize] p_optimal OptimizerBase.SimpleResult(result=0.9999799635739282, method='bisection', errormsg=None, context_dct=None) full_result [ 0.01074219 -0.01074219]\n",
      "[PairOptimizer.optimize] curves_t SNX-2a6F/WETH-6Cc2\n",
      "[PairOptimizer.optimize] p_optimal OptimizerBase.SimpleResult(result=0.001093002771664147, method='bisection', errormsg=None, context_dct=None) full_result [-8.53324309e-08  9.31095201e-11]\n",
      "[PairOptimizer.optimize] curves_t SNX-2a6F/WETH-6Cc2\n",
      "[PairOptimizer.optimize] p_optimal OptimizerBase.SimpleResult(result=0.0010827174870949574, method='bisection', errormsg=None, context_dct=None) full_result [-1.32786226e-10  1.44773082e-13]\n",
      "[PairOptimizer.optimize] curves_t SNX-2a6F/WETH-6Cc2\n",
      "[PairOptimizer.optimize] p_optimal OptimizerBase.SimpleResult(result=0.001094033969612283, method='bisection', errormsg=None, context_dct=None) full_result [ 1.64000085e-08 -1.79483095e-11]\n",
      "[PairOptimizer.optimize] curves_t WETH-6Cc2/USDT-1ec7\n",
      "[PairOptimizer.optimize] p_optimal OptimizerBase.SimpleResult(result=1890.3902700999065, method='bisection', errormsg=None, context_dct=None) full_result [-2.36705304e-08 -2.81359600e-02]\n",
      "[PairOptimizer.optimize] curves_t WETH-6Cc2/USDT-1ec7\n",
      "[PairOptimizer.optimize] p_optimal OptimizerBase.SimpleResult(result=1889.1459244043526, method='bisection', errormsg=None, context_dct=None) full_result [-3.00681080e-09 -2.91954922e-02]\n",
      "[PairOptimizer.optimize] curves_t WETH-6Cc2/USDT-1ec7\n",
      "[PairOptimizer.optimize] p_optimal OptimizerBase.SimpleResult(result=1881.710741642818, method='bisection', errormsg=None, context_dct=None) full_result [ 1.77349335e-09 -3.53023010e-02]\n",
      "[PairOptimizer.optimize] curves_t WETH-6Cc2/USDC-eB48\n",
      "[PairOptimizer.optimize] p_optimal OptimizerBase.SimpleResult(result=1888.9922045507242, method='bisection', errormsg=None, context_dct=None) full_result [-1.30447697e-08 -4.20409830e-02]\n",
      "[PairOptimizer.optimize] curves_t WBTC-C599/WETH-6Cc2\n",
      "[PairOptimizer.optimize] p_optimal OptimizerBase.SimpleResult(result=16.251275647047066, method='bisection', errormsg=None, context_dct=None) full_result [-3.68067594e-08  3.59947663e-08]\n",
      "[PairOptimizer.optimize] curves_t WBTC-C599/WETH-6Cc2\n",
      "[PairOptimizer.optimize] p_optimal OptimizerBase.SimpleResult(result=16.262493106688865, method='bisection', errormsg=None, context_dct=None) full_result [-3.29298059e-06 -2.72616134e-08]\n",
      "[PairOptimizer.optimize] curves_t WETH-6Cc2/BNT-FF1C\n",
      "[PairOptimizer.optimize] p_optimal OptimizerBase.SimpleResult(result=4764.127397631455, method='bisection', errormsg=None, context_dct=None) full_result [-1.96262562e-10 -2.38836934e+00]\n",
      "[PairOptimizer.optimize] curves_t WETH-6Cc2/DAI-1d0F\n",
      "[PairOptimizer.optimize] p_optimal OptimizerBase.SimpleResult(result=1889.851635528448, method='bisection', errormsg=None, context_dct=None) full_result [-3.82715371e-09  7.22706318e-06]\n",
      "[PairOptimizer.optimize] curves_t WETH-6Cc2/DAI-1d0F\n",
      "[PairOptimizer.optimize] p_optimal OptimizerBase.SimpleResult(result=1889.851635528448, method='bisection', errormsg=None, context_dct=None) full_result [-3.82715371e-09  7.22706318e-06]\n",
      "[PairOptimizer.optimize] curves_t WETH-6Cc2/DAI-1d0F\n",
      "[PairOptimizer.optimize] p_optimal OptimizerBase.SimpleResult(result=1889.2342508783106, method='bisection', errormsg=None, context_dct=None) full_result [-4.54383553e-09  8.59051943e-06]\n",
      "[PairOptimizer.optimize] curves_t WETH-6Cc2/DAI-1d0F\n",
      "[PairOptimizer.optimize] p_optimal OptimizerBase.SimpleResult(result=1889.2342508783106, method='bisection', errormsg=None, context_dct=None) full_result [-4.54383553e-09  8.59051943e-06]\n",
      "[PairOptimizer.optimize] curves_t icETH-6A84/WETH-6Cc2\n",
      "[PairOptimizer.optimize] p_optimal OptimizerBase.SimpleResult(result=1.0625676226961724, method='bisection', errormsg=None, context_dct=None) full_result [-4.33828973e-10  4.60659066e-10]\n",
      "[PairOptimizer.optimize] curves_t wstETH-2Ca0/USDC-eB48\n",
      "[PairOptimizer.optimize] p_optimal OptimizerBase.SimpleResult(result=2132.8228517303587, method='bisection', errormsg=None, context_dct=None) full_result [0. 0.]\n",
      "[PairOptimizer.optimize] curves_t SGT-EcDD/WETH-6Cc2\n",
      "[PairOptimizer.optimize] p_optimal OptimizerBase.SimpleResult(result=0.00022209613284442402, method='bisection', errormsg=None, context_dct=None) full_result [ 4.06289473e-08 -9.00968189e-12]\n",
      "[PairOptimizer.optimize] curves_t SGT-EcDD/WETH-6Cc2\n",
      "[PairOptimizer.optimize] p_optimal OptimizerBase.SimpleResult(result=0.00021922396426222578, method='bisection', errormsg=None, context_dct=None) full_result [ 1.04773790e-09 -2.30926389e-13]\n",
      "[PairOptimizer.optimize] curves_t rETH-6393/WETH-6Cc2\n",
      "[PairOptimizer.optimize] p_optimal OptimizerBase.SimpleResult(result=1.0767083445038272, method='bisection', errormsg=None, context_dct=None) full_result [ 1.32199929e-07 -1.09322496e-03]\n",
      "[PairOptimizer.optimize] curves_t rETH-6393/WETH-6Cc2\n",
      "[PairOptimizer.optimize] p_optimal OptimizerBase.SimpleResult(result=1.0767083445038272, method='bisection', errormsg=None, context_dct=None) full_result [ 1.32199929e-07 -1.09322496e-03]\n",
      "[PairOptimizer.optimize] curves_t MATIC-eBB0/USDC-eB48\n",
      "[PairOptimizer.optimize] p_optimal OptimizerBase.SimpleResult(result=0.7402602510973211, method='bisection', errormsg=None, context_dct=None) full_result [-9.26957000e-09  6.86122803e-09]\n",
      "[PairOptimizer.optimize] curves_t vBNT-7f94/BNT-FF1C\n",
      "[PairOptimizer.optimize] p_optimal OptimizerBase.SimpleResult(result=0.49772183467070186, method='bisection', errormsg=None, context_dct=None) full_result [ 5.84441295e-08 -2.42115358e+01]\n",
      "[PairOptimizer.optimize] curves_t USDT-1ec7/USDC-eB48\n",
      "[PairOptimizer.optimize] p_optimal OptimizerBase.SimpleResult(result=1.0000207916537327, method='bisection', errormsg=None, context_dct=None) full_result [-0.17834496  0.06633941]\n",
      "[PairOptimizer.optimize] curves_t USDT-1ec7/USDC-eB48\n",
      "[PairOptimizer.optimize] p_optimal OptimizerBase.SimpleResult(result=0.9999814030038343, method='bisection', errormsg=None, context_dct=None) full_result [-0.12582536  0.00021837]\n",
      "[PairOptimizer.optimize] curves_t WETH-6Cc2/USDC-eB48\n",
      "[PairOptimizer.optimize] p_optimal OptimizerBase.SimpleResult(result=1888.9922050247924, method='bisection', errormsg=None, context_dct=None) full_result [-2.22447915e-05 -4.53980228e-05]\n",
      "[PairOptimizer.optimize] curves_t WBTC-C599/USDC-eB48\n",
      "[PairOptimizer.optimize] p_optimal OptimizerBase.SimpleResult(result=30708.392805069285, method='bisection', errormsg=None, context_dct=None) full_result [-2.90561732e-05 -1.89095408e-06]\n",
      "[PairOptimizer.optimize] curves_t WBTC-C599/USDC-eB48\n",
      "[PairOptimizer.optimize] p_optimal OptimizerBase.SimpleResult(result=30681.149356581707, method='bisection', errormsg=None, context_dct=None) full_result [-2.60237851e-05  1.62025080e-05]\n",
      "[PairOptimizer.optimize] curves_t BNT-FF1C/USDC-eB48\n",
      "[PairOptimizer.optimize] p_optimal OptimizerBase.SimpleResult(result=0.3933379952947135, method='bisection', errormsg=None, context_dct=None) full_result [-2.53013764e-02 -4.51691449e-08]\n",
      "[PairOptimizer.optimize] curves_t DAI-1d0F/USDC-eB48\n",
      "[PairOptimizer.optimize] p_optimal OptimizerBase.SimpleResult(result=1.0003813756304956, method='bisection', errormsg=None, context_dct=None) full_result [-0.00645447  0.00645447]\n",
      "[PairOptimizer.optimize] curves_t DAI-1d0F/USDC-eB48\n",
      "[PairOptimizer.optimize] p_optimal OptimizerBase.SimpleResult(result=0.9999799635739282, method='bisection', errormsg=None, context_dct=None) full_result [ 0.01074219 -0.01074219]\n",
      "[PairOptimizer.optimize] curves_t CRV-cd52/USDC-eB48\n",
      "[PairOptimizer.optimize] p_optimal OptimizerBase.SimpleResult(result=0.7931937487430326, method='bisection', errormsg=None, context_dct=None) full_result [-7.75326043e-08 -1.90724472e-01]\n",
      "[PairOptimizer.optimize] curves_t TSUKA-69eD/USDC-eB48\n",
      "[PairOptimizer.optimize] p_optimal OptimizerBase.SimpleResult(result=0.031129990028112127, method='bisection', errormsg=None, context_dct=None) full_result [ 1.87428668e-08 -5.82986104e-10]\n",
      "[PairOptimizer.optimize] curves_t LYXe-be6D/WETH-6Cc2\n",
      "[PairOptimizer.optimize] p_optimal OptimizerBase.SimpleResult(result=0.004425455338543597, method='bisection', errormsg=None, context_dct=None) full_result [-6.97036739e-09  3.08659764e-11]\n",
      "[PairOptimizer.optimize] curves_t LYXe-be6D/WETH-6Cc2\n",
      "[PairOptimizer.optimize] p_optimal OptimizerBase.SimpleResult(result=0.004418792395805483, method='bisection', errormsg=None, context_dct=None) full_result [ 1.22963684e-09 -5.43565193e-12]\n"
     ]
    },
    {
     "ename": "AssertionError",
     "evalue": "[NB047 Randomizer], expected 25 arbs, found 30",
     "output_type": "error",
     "traceback": [
      "\u001b[0;31m---------------------------------------------------------------------------\u001b[0m",
      "\u001b[0;31mAssertionError\u001b[0m                            Traceback (most recent call last)",
      "\u001b[0;32m<ipython-input-3-1b79b718474d>\u001b[0m in \u001b[0;36m<module>\u001b[0;34m\u001b[0m\n\u001b[1;32m     12\u001b[0m \u001b[0;34m\u001b[0m\u001b[0m\n\u001b[1;32m     13\u001b[0m \u001b[0;34m\u001b[0m\u001b[0m\n\u001b[0;32m---> 14\u001b[0;31m \u001b[0;32massert\u001b[0m \u001b[0mlen\u001b[0m\u001b[0;34m(\u001b[0m\u001b[0mr\u001b[0m\u001b[0;34m)\u001b[0m \u001b[0;34m==\u001b[0m \u001b[0;36m25\u001b[0m\u001b[0;34m,\u001b[0m \u001b[0;34mf\"[NB047 Randomizer], expected 25 arbs, found {len(r)}\"\u001b[0m\u001b[0;34m\u001b[0m\u001b[0;34m\u001b[0m\u001b[0m\n\u001b[0m\u001b[1;32m     15\u001b[0m \u001b[0;34m\u001b[0m\u001b[0m\n\u001b[1;32m     16\u001b[0m \u001b[0;34m\u001b[0m\u001b[0m\n",
      "\u001b[0;31mAssertionError\u001b[0m: [NB047 Randomizer], expected 25 arbs, found 30"
     ]
    }
   ],
   "source": [
    "arb_finder = bot._get_arb_finder(\"multi\")\n",
    "finder = arb_finder(\n",
    "            flashloan_tokens=flashloan_tokens,\n",
    "            CCm=CCm,\n",
    "            mode=\"bothin\",\n",
    "            result=bot.AO_CANDIDATES,\n",
    "            ConfigObj=bot.ConfigObj,\n",
    "        )\n",
    "r = finder.find_arbitrage()\n",
    "\n",
    "#arb_opp = r[0]\n",
    "\n",
    "\n",
    "assert len(r) == 25, f\"[NB047 Randomizer], expected 25 arbs, found {len(r)}\"\n",
    "\n",
    "\n",
    "arb_opp_0 = bot.randomize(arb_opps=r, randomizer=0)\n",
    "arb_opp_1 = bot.randomize(arb_opps=r, randomizer=1)\n",
    "arb_opp_2 = bot.randomize(arb_opps=r, randomizer=1)\n",
    "arb_opp_3 = bot.randomize(arb_opps=r, randomizer=1)\n",
    "arb_opp_25 = bot.randomize(arb_opps=r, randomizer=1)\n",
    "arb_opp_None = bot.randomize(arb_opps=None, randomizer=5)\n",
    "\n",
    "assert len(arb_opp_0) == 5, f\"[NB047 Randomizer], expected 1 arb back from randomizer with length of 5, found length of {len(arb_opp_0)}\"\n",
    "assert len(arb_opp_1) == 5, f\"[NB047 Randomizer], expected 1 arb back from randomizer with length of 5, found length of {len(arb_opp_1)}\"\n",
    "assert len(arb_opp_2) == 5, f\"[NB047 Randomizer], expected 1 arb back from randomizer with length of 5, found length of {len(arb_opp_2)}\"\n",
    "assert len(arb_opp_3) == 5, f\"[NB047 Randomizer], expected 1 arb back from randomizer with length of 5, found length of {len(arb_opp_3)}\"\n",
    "assert len(arb_opp_25) == 5, f\"[NB047 Randomizer], expected 1 arb back from randomizer with length of 5, found length of {len(arb_opp_25)}\"\n",
    "assert isinstance(np.float64(arb_opp_0[0]), np.floating), f\"[NB047 Randomizer], expected first value back from randomizer to be of type np.float64, found type {type(arb_opp_0[0])}\"\n",
    "assert isinstance(np.float64(arb_opp_1[0]), np.floating), f\"[NB047 Randomizer], expected first value back from randomizer to be of type np.float64, found type {type(arb_opp_1[0])}\"\n",
    "assert isinstance(np.float64(arb_opp_2[0]), np.floating), f\"[NB047 Randomizer], expected first value back from randomizer to be of type np.float64, found type {type(arb_opp_2[0])}\""
   ]
  },
  {
   "cell_type": "code",
   "execution_count": 4,
   "id": "567160d1-0405-4903-8800-2304b38fb7b5",
   "metadata": {
    "ExecuteTime": {
     "end_time": "2023-09-18T18:21:38.177545Z",
     "start_time": "2023-09-18T18:21:38.172495Z"
    }
   },
   "outputs": [
    {
     "ename": "NameError",
     "evalue": "name 'arb_opp_3' is not defined",
     "output_type": "error",
     "traceback": [
      "\u001b[0;31m---------------------------------------------------------------------------\u001b[0m",
      "\u001b[0;31mNameError\u001b[0m                                 Traceback (most recent call last)",
      "\u001b[0;32m<ipython-input-4-b1730be406fc>\u001b[0m in \u001b[0;36m<module>\u001b[0;34m\u001b[0m\n\u001b[0;32m----> 1\u001b[0;31m \u001b[0;32massert\u001b[0m \u001b[0misinstance\u001b[0m\u001b[0;34m(\u001b[0m\u001b[0mnp\u001b[0m\u001b[0;34m.\u001b[0m\u001b[0mfloat64\u001b[0m\u001b[0;34m(\u001b[0m\u001b[0marb_opp_3\u001b[0m\u001b[0;34m[\u001b[0m\u001b[0;36m0\u001b[0m\u001b[0;34m]\u001b[0m\u001b[0;34m)\u001b[0m\u001b[0;34m,\u001b[0m \u001b[0mnp\u001b[0m\u001b[0;34m.\u001b[0m\u001b[0mfloating\u001b[0m\u001b[0;34m)\u001b[0m\u001b[0;34m,\u001b[0m \u001b[0;34mf\"[NB047 Randomizer], expected first value back from randomizer to be of type np.float64, found type {type(arb_opp_3[0])}\"\u001b[0m\u001b[0;34m\u001b[0m\u001b[0;34m\u001b[0m\u001b[0m\n\u001b[0m\u001b[1;32m      2\u001b[0m \u001b[0;32massert\u001b[0m \u001b[0misinstance\u001b[0m\u001b[0;34m(\u001b[0m\u001b[0mnp\u001b[0m\u001b[0;34m.\u001b[0m\u001b[0mfloat64\u001b[0m\u001b[0;34m(\u001b[0m\u001b[0marb_opp_25\u001b[0m\u001b[0;34m[\u001b[0m\u001b[0;36m0\u001b[0m\u001b[0;34m]\u001b[0m\u001b[0;34m)\u001b[0m\u001b[0;34m,\u001b[0m \u001b[0mnp\u001b[0m\u001b[0;34m.\u001b[0m\u001b[0mfloating\u001b[0m\u001b[0;34m)\u001b[0m\u001b[0;34m,\u001b[0m \u001b[0;34mf\"[NB047 Randomizer], expected first value back from randomizer to be of type np.float64, found type {type(arb_opp_25[0])}\"\u001b[0m\u001b[0;34m\u001b[0m\u001b[0;34m\u001b[0m\u001b[0m\n",
      "\u001b[0;31mNameError\u001b[0m: name 'arb_opp_3' is not defined"
     ]
    }
   ],
   "source": [
    "assert isinstance(np.float64(arb_opp_3[0]), np.floating), f\"[NB047 Randomizer], expected first value back from randomizer to be of type np.float64, found type {type(arb_opp_3[0])}\"\n",
    "assert isinstance(np.float64(arb_opp_25[0]), np.floating), f\"[NB047 Randomizer], expected first value back from randomizer to be of type np.float64, found type {type(arb_opp_25[0])}\""
   ]
  },
  {
   "cell_type": "code",
   "execution_count": null,
   "id": "740698cc-44c9-4f50-8272-dbda56ef2c82",
   "metadata": {
    "ExecuteTime": {
     "end_time": "2023-09-18T18:21:38.181278Z",
     "start_time": "2023-09-18T18:21:38.175552Z"
    }
   },
   "outputs": [],
   "source": [
    "arb_opp_0[2]"
   ]
  },
  {
   "cell_type": "code",
   "execution_count": null,
   "id": "02fda49d-c3e8-45b3-bbb5-230fc479f2f7",
   "metadata": {
    "ExecuteTime": {
     "end_time": "2023-09-18T18:21:38.185544Z",
     "start_time": "2023-09-18T18:21:38.181744Z"
    }
   },
   "outputs": [],
   "source": [
    "assert type(arb_opp_0[2])  == tuple, f\"[NB047 Randomizer], expected third value back from randomizer to be of type list, found type {type(arb_opp_0[2])}\"\n",
    "assert type(arb_opp_1[2])  == tuple, f\"[NB047 Randomizer], expected third value back from randomizer to be of type list, found type {type(arb_opp_1[2])}\"\n",
    "assert type(arb_opp_2[2])  == tuple, f\"[NB047 Randomizer], expected third value back from randomizer to be of type list, found type {type(arb_opp_2[2])}\"\n",
    "assert type(arb_opp_3[2])  == tuple, f\"[NB047 Randomizer], expected third value back from randomizer to be of type list, found type {type(arb_opp_3[2])}\"\n",
    "assert type(arb_opp_25[2]) == tuple, f\"[NB047 Randomizer], expected third value back from randomizer to be of type list, found type {type(arb_opp_25[2])}\""
   ]
  },
  {
   "cell_type": "code",
   "execution_count": null,
   "id": "e02806ee-10e9-4ae0-acab-e1e48ce69b90",
   "metadata": {
    "ExecuteTime": {
     "end_time": "2023-09-18T18:21:38.189109Z",
     "start_time": "2023-09-18T18:21:38.184749Z"
    }
   },
   "outputs": [],
   "source": [
    "assert arb_opp_None == None, f\"[NB047 Randomizer], expected randomizer to return None when it receives None, but it returned {type(arb_opp_None)}\""
   ]
  },
  {
   "cell_type": "markdown",
   "id": "f145cc39",
   "metadata": {},
   "source": [
    "## Test_sorted_by_profit"
   ]
  },
  {
   "cell_type": "code",
   "execution_count": 5,
   "id": "b4442276",
   "metadata": {
    "ExecuteTime": {
     "end_time": "2023-09-18T18:21:38.211658Z",
     "start_time": "2023-09-18T18:21:38.193789Z"
    },
    "lines_to_next_cell": 0
   },
   "outputs": [],
   "source": [
    "arb_opps = [(2.6927646232907136, [{'cid': '0xe37abfaee752c24a764955cbb2d10c3c9f88472263cbd2c00ca57facb0f128fe', 'tknin': 'WETH-6Cc2', 'amtin': 0.003982724863828224, 'tknout': 'BNT-FF1C', 'amtout': -19.27862435251882, 'error': None}, {'cid': '3743106036130323098097120681749450326076-0', 'tknin': 'BNT-FF1C', 'amtin': 16.585859729228105, 'tknout': 'WETH-6Cc2', 'amtout': -0.003982724874543209, 'error': None}]\n",
    "), (2.5352758371554955, [{'cid': '0x748ab2bef0d97e5a044268626e6c9c104bab818605d44f650fdeaa03a3c742d2', 'tknin': 'WETH-6Cc2', 'amtin': 0.003982718826136988, 'tknout': 'BNT-FF1C', 'amtout': -19.1211355663836, 'error': None}, {'cid': '3743106036130323098097120681749450326076-0', 'tknin': 'BNT-FF1C', 'amtin': 16.585859729228105, 'tknout': 'WETH-6Cc2', 'amtout': -0.003982724874543209, 'error': None}]\n",
    "), (1.9702345513100596, [{'cid': '0xc4771395e1389e2e3a12ec22efbb7aff5b1c04e5ce9c7596a82e9dc8fdec725b', 'tknin': 'BNT-FF1C', 'amtin': 750.6057364856824, 'tknout': 'USDC-eB48', 'amtout': -293.5068652469199, 'error': None}, {'cid': '2381976568446569244243622252022377480332-1', 'tknin': 'USDC-eB48', 'amtin': 292.73623752593994, 'tknout': 'BNT-FF1C', 'amtout': -750.6057367324829, 'error': None}]\n",
    "), (2.67115241495777, [{'cid': '0xe37abfaee752c24a764955cbb2d10c3c9f88472263cbd2c00ca57facb0f128fe', 'tknin': 'WETH-6Cc2', 'amtin': 0.0034263543081607395, 'tknout': 'BNT-FF1C', 'amtout': -16.58585974665766, 'error': None}, {'cid': '3743106036130323098097120681749450326076-0', 'tknin': 'BNT-FF1C', 'amtin': 16.585859729228105, 'tknout': 'WETH-6Cc2', 'amtout': -0.003982724874543209, 'error': None}]\n",
    "), (2.535310217715329, [{'cid': '0x748ab2bef0d97e5a044268626e6c9c104bab818605d44f650fdeaa03a3c742d2', 'tknin': 'WETH-6Cc2', 'amtin': 0.003454648687693407, 'tknout': 'BNT-FF1C', 'amtout': -16.58585971966386, 'error': None}, {'cid': '3743106036130323098097120681749450326076-0', 'tknin': 'BNT-FF1C', 'amtin': 16.585859729228105, 'tknout': 'WETH-6Cc2', 'amtout': -0.003982724874543209, 'error': None}]\n",
    "), (5.438084583685771, [{'cid': '0x8f9771f2886aa12c1659c275b8e305f58c7c41ba82df03bb21c0bcac98ffde4b', 'tknin': 'WETH-6Cc2', 'amtin': 0.002847350733645726, 'tknout': 'HEX-eb39', 'amtout': -556.3312638401985, 'error': None}, {'cid': '14291859410679415465461733512134264881242-0', 'tknin': 'HEX-eb39', 'amtin': 556.3312644516602, 'tknout': 'WETH-6Cc2', 'amtout': -0.003980041696137606, 'error': None}]\n",
    "), (5.400385044154462, [{'cid': '0x3a98798837e610ac07762e2d58f29f0cf96297a2528f86e0fe9b903b1e45a204', 'tknin': 'WETH-6Cc2', 'amtin': 0.0028413006787388895, 'tknout': 'HEX-eb39', 'amtout': -553.6187023743987, 'error': None}, {'cid': '14291859410679415465461733512134264881242-0', 'tknin': 'HEX-eb39', 'amtin': 553.6187027173414, 'tknout': 'WETH-6Cc2', 'amtout': -0.003966139257351835, 'error': None}]\n",
    "), (1.9713220433332026, [{'cid': '0xc4771395e1389e2e3a12ec22efbb7aff5b1c04e5ce9c7596a82e9dc8fdec725b', 'tknin': 'BNT-FF1C', 'amtin': 748.6344146891497, 'tknout': 'USDC-eB48', 'amtout': -292.73623879346997, 'error': None}, {'cid': '2381976568446569244243622252022377480332-1', 'tknin': 'USDC-eB48', 'amtin': 292.73623752593994, 'tknout': 'BNT-FF1C', 'amtout': -750.6057367324829, 'error': None}]\n",
    "), (8.465616944048316, [{'cid': '0x5b5f170977fe879c965a9fec9aeba4dfe29659f503cd5fe6e67349bdc3089295', 'tknin': '0x0-1AD5', 'amtin': 359.7323400862515, 'tknout': 'WETH-6Cc2', 'amtout': -0.0070300615800533706, 'error': None}, {'cid': '9868188640707215440437863615521278132277-1', 'tknin': 'WETH-6Cc2', 'amtin': 0.00526677017535393, 'tknout': '0x0-1AD5', 'amtout': -359.73234041399974, 'error': None}]\n",
    "), (6.717558869249757, [{'cid': '0x1eda42a2cced5e9cfffe1b15d7c39253514267401c5bd2e9ca28287f8a996fde', 'tknin': 'rETH-6393', 'amtin': 0.2496827895520255, 'tknout': 'WETH-6Cc2', 'amtout': -0.26914170442614704, 'error': None}, {'cid': '3062541302288446171170371466885913903202-0', 'tknin': 'WETH-6Cc2', 'amtin': 0.267742513570596, 'tknout': 'rETH-6393', 'amtout': -0.2496827897163172, 'error': None}]\n",
    ")]\n",
    "\n",
    "ops = bot.randomize(arb_opps=arb_opps, randomizer=3)\n",
    "\n",
    "assert iseq(ops[0], 8.465616944048316) or iseq(ops[0], 6.717558869249757) or iseq(ops[0], 5.438084583685771), f\"[NB047 Randomizer], expected randomizer to return top 3 most profitable arbs, but it did not!\""
   ]
  },
  {
   "cell_type": "code",
   "execution_count": null,
   "id": "a3fc926e-bc3e-438d-be10-fdce60b8619c",
   "metadata": {
    "ExecuteTime": {
     "end_time": "2023-09-18T18:21:38.216117Z",
     "start_time": "2023-09-18T18:21:38.195758Z"
    },
    "lines_to_next_cell": 2
   },
   "outputs": [],
   "source": []
  }
 ],
 "metadata": {
  "jupytext": {
   "formats": "ipynb,py:light"
  },
  "kernelspec": {
   "display_name": "Python 3",
   "language": "python",
   "name": "python3"
  },
  "language_info": {
   "codemirror_mode": {
    "name": "ipython",
    "version": 3
   },
   "file_extension": ".py",
   "mimetype": "text/x-python",
   "name": "python",
   "nbconvert_exporter": "python",
   "pygments_lexer": "ipython3",
   "version": "3.8.8"
  }
 },
 "nbformat": 4,
 "nbformat_minor": 5
}

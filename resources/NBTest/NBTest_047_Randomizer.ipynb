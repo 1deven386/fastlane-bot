{
 "cells": [
  {
   "cell_type": "code",
   "execution_count": 6,
   "id": "84fa264b",
   "metadata": {
    "ExecuteTime": {
     "end_time": "2023-09-18T18:21:35.122179Z",
     "start_time": "2023-09-18T18:21:35.102964Z"
    }
   },
   "outputs": [
    {
     "name": "stdout",
     "output_type": "stream",
     "text": [
      "ConstantProductCurve v3.2 (15/Sep/2023)\n",
      "CarbonBot v3-b2.2 (20/June/2023)\n",
      "UniswapV2 v0.0.2 (2023-08-27)\n",
      "UniswapV3 v0.0.2 (2023-08-27)\n",
      "SushiswapV2 v0.0.2 (2023-08-27)\n",
      "CarbonV1 v0.0.2 (2023-08-27)\n",
      "BancorV3 v0.0.2 (2023-08-27)\n",
      "Version = 3-b2.2 [requirements >= 3.0 is met]\n"
     ]
    }
   ],
   "source": [
    "# coding=utf-8\n",
    "\"\"\"\n",
    "This module contains the tests for the exchanges classes\n",
    "\"\"\"\n",
    "from fastlane_bot import Bot, Config\n",
    "from fastlane_bot.bot import CarbonBot\n",
    "from fastlane_bot.tools.cpc import ConstantProductCurve\n",
    "from fastlane_bot.tools.cpc import ConstantProductCurve as CPC\n",
    "from fastlane_bot.events.exchanges import UniswapV2, UniswapV3, SushiswapV2, CarbonV1, BancorV3\n",
    "from fastlane_bot.events.interface import QueryInterface\n",
    "from fastlane_bot.helpers.poolandtokens import PoolAndTokens\n",
    "from fastlane_bot.helpers import TradeInstruction, TxReceiptHandler, TxRouteHandler, TxSubmitHandler, TxHelpers, TxHelper\n",
    "from fastlane_bot.events.managers.manager import Manager\n",
    "from fastlane_bot.events.interface import QueryInterface\n",
    "from joblib import Parallel, delayed\n",
    "import pytest\n",
    "import math\n",
    "import json\n",
    "print(\"{0.__name__} v{0.__VERSION__} ({0.__DATE__})\".format(CPC))\n",
    "print(\"{0.__name__} v{0.__VERSION__} ({0.__DATE__})\".format(Bot))\n",
    "print(\"{0.__name__} v{0.__VERSION__} ({0.__DATE__})\".format(UniswapV2))\n",
    "print(\"{0.__name__} v{0.__VERSION__} ({0.__DATE__})\".format(UniswapV3))\n",
    "print(\"{0.__name__} v{0.__VERSION__} ({0.__DATE__})\".format(SushiswapV2))\n",
    "print(\"{0.__name__} v{0.__VERSION__} ({0.__DATE__})\".format(CarbonV1))\n",
    "print(\"{0.__name__} v{0.__VERSION__} ({0.__DATE__})\".format(BancorV3))\n",
    "from fastlane_bot.testing import *\n",
    "from fastlane_bot.modes import triangle_single_bancor3\n",
    "#plt.style.use('seaborn-dark')\n",
    "plt.rcParams['figure.figsize'] = [12,6]\n",
    "from fastlane_bot import __VERSION__\n",
    "require(\"3.0\", __VERSION__)"
   ]
  },
  {
   "cell_type": "markdown",
   "id": "4c4e2283",
   "metadata": {},
   "source": [
    "# Randomizer [NB047]"
   ]
  },
  {
   "cell_type": "code",
   "execution_count": 7,
   "id": "a51e5ec2",
   "metadata": {
    "ExecuteTime": {
     "end_time": "2023-09-18T18:21:37.618746Z",
     "start_time": "2023-09-18T18:21:35.113070Z"
    }
   },
   "outputs": [
    {
     "name": "stderr",
     "output_type": "stream",
     "text": [
      "2023-09-18 11:21:35,112 [fastlane:INFO] - \n",
      "2023-09-18 11:21:35,112 [fastlane:INFO] - \n",
      "2023-09-18 11:21:35,113 [fastlane:INFO] - **********************************************\n",
      "2023-09-18 11:21:35,113 [fastlane:INFO] - **********************************************\n",
      "2023-09-18 11:21:35,114 [fastlane:INFO] - The logging path is set to: logs/20230918-112135/bot.log\n",
      "2023-09-18 11:21:35,114 [fastlane:INFO] - The logging path is set to: logs/20230918-112135/bot.log\n",
      "2023-09-18 11:21:35,114 [fastlane:INFO] - **********************************************\n",
      "2023-09-18 11:21:35,114 [fastlane:INFO] - **********************************************\n",
      "2023-09-18 11:21:35,115 [fastlane:INFO] - \n",
      "2023-09-18 11:21:35,115 [fastlane:INFO] - \n",
      "2023-09-18 11:21:36,374 [fastlane:INFO] - Retrieved 168 carbon pairs from contract\n",
      "2023-09-18 11:21:36,374 [fastlane:INFO] - Retrieved 168 carbon pairs from contract\n",
      "2023-09-18 11:21:37,168 [fastlane:INFO] - Time taken to add initial pools: 0.07443499565124512\n",
      "2023-09-18 11:21:37,168 [fastlane:INFO] - Time taken to add initial pools: 0.07443499565124512\n",
      "2023-09-18 11:21:37,171 [fastlane:INFO] - Initializing the bot...\n",
      "2023-09-18 11:21:37,171 [fastlane:INFO] - Initializing the bot...\n",
      "2023-09-18 11:21:37,299 [fastlane:INFO] - Removed 3242 unmapped uniswap_v2/sushi pools. 1897 uniswap_v2/sushi pools remaining\n",
      "2023-09-18 11:21:37,299 [fastlane:INFO] - Removed 3242 unmapped uniswap_v2/sushi pools. 1897 uniswap_v2/sushi pools remaining\n",
      "2023-09-18 11:21:37,299 [fastlane:INFO] - Unmapped uniswap_v2/sushi pools:\n",
      "2023-09-18 11:21:37,299 [fastlane:INFO] - Unmapped uniswap_v2/sushi pools:\n",
      "2023-09-18 11:21:37,495 [fastlane:INFO] - uniswap_v3: 0\n",
      "2023-09-18 11:21:37,495 [fastlane:INFO] - uniswap_v3: 0\n",
      "2023-09-18 11:21:37,496 [fastlane:INFO] - uniswap_v2: 3242\n",
      "2023-09-18 11:21:37,496 [fastlane:INFO] - uniswap_v2: 3242\n",
      "2023-09-18 11:21:37,497 [fastlane:INFO] - sushiswap_v2: 0\n",
      "2023-09-18 11:21:37,497 [fastlane:INFO] - sushiswap_v2: 0\n",
      "2023-09-18 11:21:37,499 [fastlane:INFO] - uniswap_v3: 636\n",
      "2023-09-18 11:21:37,499 [fastlane:INFO] - uniswap_v3: 636\n",
      "2023-09-18 11:21:37,500 [fastlane:INFO] - sushiswap_v2: 78\n",
      "2023-09-18 11:21:37,500 [fastlane:INFO] - sushiswap_v2: 78\n",
      "2023-09-18 11:21:37,501 [fastlane:INFO] - uniswap_v2: 0\n",
      "2023-09-18 11:21:37,501 [fastlane:INFO] - uniswap_v2: 0\n",
      "2023-09-18 11:21:37,502 [fastlane:INFO] - bancor_v2: 0\n",
      "2023-09-18 11:21:37,502 [fastlane:INFO] - bancor_v2: 0\n",
      "2023-09-18 11:21:37,503 [fastlane:INFO] - bancor_v3: 34\n",
      "2023-09-18 11:21:37,503 [fastlane:INFO] - bancor_v3: 34\n",
      "2023-09-18 11:21:37,504 [fastlane:INFO] - carbon_v1: 220\n",
      "2023-09-18 11:21:37,504 [fastlane:INFO] - carbon_v1: 220\n",
      "2023-09-18 11:21:37,536 [fastlane:INFO] - uniswap_v3_zero_liquidity_pools: 858\n",
      "2023-09-18 11:21:37,536 [fastlane:INFO] - uniswap_v3_zero_liquidity_pools: 858\n",
      "2023-09-18 11:21:37,536 [fastlane:INFO] - sushiswap_v2_zero_liquidity_pools: 34\n",
      "2023-09-18 11:21:37,536 [fastlane:INFO] - sushiswap_v2_zero_liquidity_pools: 34\n",
      "2023-09-18 11:21:37,537 [fastlane:INFO] - uniswap_v2_zero_liquidity_pools: 0\n",
      "2023-09-18 11:21:37,537 [fastlane:INFO] - uniswap_v2_zero_liquidity_pools: 0\n",
      "2023-09-18 11:21:37,537 [fastlane:INFO] - bancor_v2_zero_liquidity_pools: 0\n",
      "2023-09-18 11:21:37,537 [fastlane:INFO] - bancor_v2_zero_liquidity_pools: 0\n",
      "2023-09-18 11:21:37,538 [fastlane:INFO] - bancor_v3_zero_liquidity_pools: 37\n",
      "2023-09-18 11:21:37,538 [fastlane:INFO] - bancor_v3_zero_liquidity_pools: 37\n",
      "2023-09-18 11:21:37,538 [fastlane:INFO] - carbon_v1_zero_liquidity_pools: 0\n",
      "2023-09-18 11:21:37,538 [fastlane:INFO] - carbon_v1_zero_liquidity_pools: 0\n",
      "2023-09-18 11:21:37,539 [fastlane:INFO] - Removed 0 unsupported exchanges. 968 pools remaining\n",
      "2023-09-18 11:21:37,539 [fastlane:INFO] - Removed 0 unsupported exchanges. 968 pools remaining\n",
      "2023-09-18 11:21:37,540 [fastlane:INFO] - Pools remaining per exchange:\n",
      "2023-09-18 11:21:37,540 [fastlane:INFO] - Pools remaining per exchange:\n",
      "2023-09-18 11:21:37,540 [fastlane:INFO] - uniswap_v3: 636\n",
      "2023-09-18 11:21:37,540 [fastlane:INFO] - uniswap_v3: 636\n",
      "2023-09-18 11:21:37,541 [fastlane:INFO] - sushiswap_v2: 78\n",
      "2023-09-18 11:21:37,541 [fastlane:INFO] - sushiswap_v2: 78\n",
      "2023-09-18 11:21:37,542 [fastlane:INFO] - carbon_v1: 220\n",
      "2023-09-18 11:21:37,542 [fastlane:INFO] - carbon_v1: 220\n",
      "2023-09-18 11:21:37,542 [fastlane:INFO] - bancor_v3: 34\n",
      "2023-09-18 11:21:37,542 [fastlane:INFO] - bancor_v3: 34\n",
      "2023-09-18 11:21:37,543 [fastlane:INFO] - uniswap_v2: 0\n",
      "2023-09-18 11:21:37,543 [fastlane:INFO] - uniswap_v2: 0\n"
     ]
    }
   ],
   "source": [
    "C = cfg = Config.new(config=Config.CONFIG_MAINNET)\n",
    "C.DEFAULT_MIN_PROFIT_BNT = 0.02\n",
    "C.DEFAULT_MIN_PROFIT = 0.02\n",
    "cfg.DEFAULT_MIN_PROFIT_BNT = 0.02\n",
    "cfg.DEFAULT_MIN_PROFIT = 0.02\n",
    "assert (C.NETWORK == C.NETWORK_MAINNET)\n",
    "assert (C.PROVIDER == C.PROVIDER_ALCHEMY)\n",
    "setup_bot = CarbonBot(ConfigObj=C)\n",
    "pools = None\n",
    "with open('fastlane_bot/data/tests/latest_pool_data_testing.json') as f:\n",
    "    pools = json.load(f)\n",
    "pools = [pool for pool in pools]\n",
    "pools[0]\n",
    "static_pools = pools\n",
    "state = pools\n",
    "exchanges = list({ex['exchange_name'] for ex in state})\n",
    "db = QueryInterface(state=state, ConfigObj=C, exchanges=exchanges)\n",
    "setup_bot.db = db\n",
    "\n",
    "static_pool_data_filename = \"static_pool_data\"\n",
    "\n",
    "static_pool_data = pd.read_csv(f\"fastlane_bot/data/{static_pool_data_filename}.csv\", low_memory=False)\n",
    "    \n",
    "uniswap_v2_event_mappings = pd.read_csv(\"fastlane_bot/data/uniswap_v2_event_mappings.csv\", low_memory=False)\n",
    "        \n",
    "tokens = pd.read_csv(\"fastlane_bot/data/tokens.csv\", low_memory=False)\n",
    "        \n",
    "exchanges = \"carbon_v1,bancor_v3,uniswap_v3,uniswap_v2,sushiswap_v2\"\n",
    "\n",
    "exchanges = exchanges.split(\",\")\n",
    "\n",
    "\n",
    "alchemy_max_block_fetch = 20\n",
    "static_pool_data[\"cid\"] = [\n",
    "        cfg.w3.keccak(text=f\"{row['descr']}\").hex()\n",
    "        for index, row in static_pool_data.iterrows()\n",
    "    ]\n",
    "# Filter out pools that are not in the supported exchanges\n",
    "static_pool_data = [\n",
    "    row for index, row in static_pool_data.iterrows()\n",
    "    if row[\"exchange_name\"] in exchanges\n",
    "]\n",
    "\n",
    "static_pool_data = pd.DataFrame(static_pool_data)\n",
    "static_pool_data['exchange_name'].unique()\n",
    "# Initialize data fetch manager\n",
    "mgr = Manager(\n",
    "    web3=cfg.w3,\n",
    "    cfg=cfg,\n",
    "    pool_data=static_pool_data.to_dict(orient=\"records\"),\n",
    "    SUPPORTED_EXCHANGES=exchanges,\n",
    "    alchemy_max_block_fetch=alchemy_max_block_fetch,\n",
    "    uniswap_v2_event_mappings=uniswap_v2_event_mappings,\n",
    "    tokens=tokens.to_dict(orient=\"records\"),\n",
    ")\n",
    "\n",
    "# Add initial pools for each row in the static_pool_data\n",
    "start_time = time.time()\n",
    "Parallel(n_jobs=-1, backend=\"threading\")(\n",
    "    delayed(mgr.add_pool_to_exchange)(row) for row in mgr.pool_data\n",
    ")\n",
    "cfg.logger.info(f\"Time taken to add initial pools: {time.time() - start_time}\")\n",
    "\n",
    "# check if any duplicate cid's exist in the pool data\n",
    "mgr.deduplicate_pool_data()\n",
    "cids = [pool[\"cid\"] for pool in mgr.pool_data]\n",
    "assert len(cids) == len(set(cids)), \"duplicate cid's exist in the pool data\"\n",
    "def init_bot(mgr: Manager) -> CarbonBot:\n",
    "    \"\"\"\n",
    "    Initializes the bot.\n",
    "\n",
    "    Parameters\n",
    "    ----------\n",
    "    mgr : Manager\n",
    "        The manager object.\n",
    "\n",
    "    Returns\n",
    "    -------\n",
    "    CarbonBot\n",
    "        The bot object.\n",
    "    \"\"\"\n",
    "    mgr.cfg.logger.info(\"Initializing the bot...\")\n",
    "    bot = CarbonBot(ConfigObj=mgr.cfg)\n",
    "    bot.db = db\n",
    "    bot.db.mgr = mgr\n",
    "    assert isinstance(\n",
    "        bot.db, QueryInterface\n",
    "    ), \"QueryInterface not initialized correctly\"\n",
    "    return bot\n",
    "bot = init_bot(mgr)\n",
    "# add data cleanup steps from main.py\n",
    "bot.db.handle_token_key_cleanup()\n",
    "bot.db.remove_unmapped_uniswap_v2_pools()\n",
    "bot.db.remove_zero_liquidity_pools()\n",
    "bot.db.remove_unsupported_exchanges()\n",
    "tokens = bot.db.get_tokens()\n",
    "ADDRDEC = {t.key: (t.address, int(t.decimals)) for t in tokens if not math.isnan(t.decimals)}\n",
    "flashloan_tokens = bot.setup_flashloan_tokens(None)\n",
    "CCm = bot.setup_CCm(None)\n",
    "pools = db.get_pool_data_with_tokens()\n",
    "\n",
    "arb_mode = \"multi\""
   ]
  },
  {
   "cell_type": "markdown",
   "id": "96ef3bf0",
   "metadata": {},
   "source": [
    "## Test_randomizer"
   ]
  },
  {
   "cell_type": "code",
   "execution_count": 8,
   "id": "1bd9247d-9900-42ac-9e6e-54254b9a0921",
   "metadata": {
    "ExecuteTime": {
     "end_time": "2023-09-18T18:21:38.173678Z",
     "start_time": "2023-09-18T18:21:37.631096Z"
    }
   },
   "outputs": [
    {
     "name": "stdout",
     "output_type": "stream",
     "text": [
      "[PairOptimizer.optimize] curves_t LINK-86CA/WETH-6Cc2\n",
      "[PairOptimizer.optimize] p_optimal OptimizerBase.SimpleResult(result=0.0033127999682770635, method='bisection', errormsg=None, context_dct=None) full_result [-0.12094048  0.00037253]\n",
      "[PairOptimizer.optimize] curves_t LINK-86CA/USDT-1ec7\n",
      "[PairOptimizer.optimize] p_optimal OptimizerBase.SimpleResult(result=6.198117111424015, method='bisection', errormsg=None, context_dct=None) full_result [-2.12107798e-09 -8.85217896e-03]\n",
      "[PairOptimizer.optimize] curves_t TSUKA-69eD/USDC-eB48\n",
      "[PairOptimizer.optimize] p_optimal OptimizerBase.SimpleResult(result=0.0311299900733118, method='bisection', errormsg=None, context_dct=None) full_result [-1.19291304e-04  3.71353781e-06]\n",
      "[PairOptimizer.optimize] curves_t PEPE-1933/WETH-6Cc2\n",
      "[PairOptimizer.optimize] p_optimal OptimizerBase.SimpleResult(result=8.344559342857861e-10, method='bisection', errormsg=None, context_dct=None) full_result [-1.21937536e+10  9.94175394e+00]\n",
      "[PairOptimizer.optimize] curves_t PEPE-1933/WETH-6Cc2\n",
      "[PairOptimizer.optimize] p_optimal OptimizerBase.SimpleResult(result=8.303641780601484e-10, method='bisection', errormsg=None, context_dct=None) full_result [-2.67154608e+09  2.18132892e+00]\n",
      "[PairOptimizer.optimize] curves_t PEPE-1933/USDC-eB48\n",
      "[PairOptimizer.optimize] p_optimal OptimizerBase.SimpleResult(result=1.5363095411984533e-06, method='bisection', errormsg=None, context_dct=None) full_result [-6.31083975e+05  9.62866033e-01]\n",
      "[PairOptimizer.optimize] curves_t SGT-EcDD/WETH-6Cc2\n",
      "[PairOptimizer.optimize] p_optimal OptimizerBase.SimpleResult(result=0.00022209611167832275, method='bisection', errormsg=None, context_dct=None) full_result [ 4.02343472e-02 -8.93589251e-06]\n",
      "[PairOptimizer.optimize] curves_t SGT-EcDD/WETH-6Cc2\n",
      "[PairOptimizer.optimize] p_optimal OptimizerBase.SimpleResult(result=0.00021922395369175377, method='bisection', errormsg=None, context_dct=None) full_result [ 1.96211165e-03 -4.30141885e-07]\n",
      "[PairOptimizer.optimize] curves_t SNX-2a6F/WETH-6Cc2\n",
      "[PairOptimizer.optimize] p_optimal OptimizerBase.SimpleResult(result=0.0010930027672079847, method='bisection', errormsg=None, context_dct=None) full_result [ 1.75240694e-03 -1.91538572e-06]\n",
      "[PairOptimizer.optimize] curves_t SNX-2a6F/WETH-6Cc2\n",
      "[PairOptimizer.optimize] p_optimal OptimizerBase.SimpleResult(result=0.0010827174810827903, method='bisection', errormsg=None, context_dct=None) full_result [ 1.62105816e-05 -1.75514794e-08]\n",
      "[PairOptimizer.optimize] curves_t SNX-2a6F/WETH-6Cc2\n",
      "[PairOptimizer.optimize] p_optimal OptimizerBase.SimpleResult(result=0.0010940339879853276, method='bisection', errormsg=None, context_dct=None) full_result [-8.21335736e-04  8.98569184e-07]\n",
      "[PairOptimizer.optimize] curves_t vBNT-7f94/BNT-FF1C\n",
      "[PairOptimizer.optimize] p_optimal OptimizerBase.SimpleResult(result=0.4977218346899408, method='bisection', errormsg=None, context_dct=None) full_result [-3.78083914e-05 -2.42115169e+01]\n",
      "[PairOptimizer.optimize] curves_t MATIC-eBB0/USDC-eB48\n",
      "[PairOptimizer.optimize] p_optimal OptimizerBase.SimpleResult(result=0.7402602510964393, method='bisection', errormsg=None, context_dct=None) full_result [ 1.93977030e-08 -1.43554644e-08]\n",
      "[PairOptimizer.optimize] curves_t HEX-eb39/WETH-6Cc2\n",
      "[PairOptimizer.optimize] p_optimal OptimizerBase.SimpleResult(result=4.63904289749294e-06, method='bisection', errormsg=None, context_dct=None) full_result [ 2.47876970e+02 -2.55874718e-03]\n",
      "[PairOptimizer.optimize] curves_t HEX-eb39/WETH-6Cc2\n",
      "[PairOptimizer.optimize] p_optimal OptimizerBase.SimpleResult(result=4.6173659450547375e-06, method='bisection', errormsg=None, context_dct=None) full_result [ 1.71379994e+02 -2.21271301e-03]\n",
      "[PairOptimizer.optimize] curves_t LYXe-be6D/WETH-6Cc2\n",
      "[PairOptimizer.optimize] p_optimal OptimizerBase.SimpleResult(result=0.00442545533353754, method='bisection', errormsg=None, context_dct=None) full_result [ 4.28492494e-05 -1.89627372e-07]\n",
      "[PairOptimizer.optimize] curves_t LYXe-be6D/WETH-6Cc2\n",
      "[PairOptimizer.optimize] p_optimal OptimizerBase.SimpleResult(result=0.004418792370941116, method='bisection', errormsg=None, context_dct=None) full_result [ 2.68626009e-05 -1.18700250e-07]\n",
      "[PairOptimizer.optimize] curves_t wstETH-2Ca0/USDC-eB48\n",
      "[PairOptimizer.optimize] p_optimal 2132.8228517303587 full_result [0. 0.]\n",
      "[PairOptimizer.optimize] curves_t WBTC-C599/WETH-6Cc2\n",
      "[PairOptimizer.optimize] p_optimal OptimizerBase.SimpleResult(result=16.251275647051596, method='bisection', errormsg=None, context_dct=None) full_result [-3.91272570e-08  7.37055998e-08]\n",
      "[PairOptimizer.optimize] curves_t WBTC-C599/WETH-6Cc2\n",
      "[PairOptimizer.optimize] p_optimal OptimizerBase.SimpleResult(result=16.262493106657143, method='bisection', errormsg=None, context_dct=None) full_result [-3.25536397e-06 -6.39028563e-07]\n",
      "[PairOptimizer.optimize] curves_t WETH-6Cc2/USDC-eB48\n",
      "[PairOptimizer.optimize] p_optimal OptimizerBase.SimpleResult(result=1888.9922045504377, method='bisection', errormsg=None, context_dct=None) full_result [ 4.01199962e-10 -4.20664342e-02]\n",
      "[PairOptimizer.optimize] curves_t WETH-6Cc2/USDT-1ec7\n",
      "[PairOptimizer.optimize] p_optimal OptimizerBase.SimpleResult(result=1890.39027009958, method='bisection', errormsg=None, context_dct=None) full_result [ 2.52291699e-09 -2.81854319e-02]\n",
      "[PairOptimizer.optimize] curves_t WETH-6Cc2/USDT-1ec7\n",
      "[PairOptimizer.optimize] p_optimal OptimizerBase.SimpleResult(result=1889.145924404244, method='bisection', errormsg=None, context_dct=None) full_result [-4.89329466e-10 -2.92002308e-02]\n",
      "[PairOptimizer.optimize] curves_t WETH-6Cc2/USDT-1ec7\n",
      "[PairOptimizer.optimize] p_optimal OptimizerBase.SimpleResult(result=1881.7107416430717, method='bisection', errormsg=None, context_dct=None) full_result [ 2.12800444e-10 -3.52993655e-02]\n",
      "[PairOptimizer.optimize] curves_t WETH-6Cc2/DAI-1d0F\n",
      "[PairOptimizer.optimize] p_optimal OptimizerBase.SimpleResult(result=1889.8516355280822, method='bisection', errormsg=None, context_dct=None) full_result [ 7.27595661e-12 -1.49011612e-08]\n",
      "[PairOptimizer.optimize] curves_t WETH-6Cc2/DAI-1d0F\n",
      "[PairOptimizer.optimize] p_optimal OptimizerBase.SimpleResult(result=1889.2342508777756, method='bisection', errormsg=None, context_dct=None) full_result [ 8.00355328e-11 -1.49011612e-07]\n",
      "[PairOptimizer.optimize] curves_t WETH-6Cc2/BNT-FF1C\n",
      "[PairOptimizer.optimize] p_optimal OptimizerBase.SimpleResult(result=4764.1273976309385, method='bisection', errormsg=None, context_dct=None) full_result [-3.90443233e-12 -2.38837025e+00]\n",
      "[PairOptimizer.optimize] curves_t agEUR-Bce8/USDC-eB48\n",
      "[PairOptimizer.optimize] p_optimal OptimizerBase.SimpleResult(result=1.1012068414223664, method='bisection', errormsg=None, context_dct=None) full_result [ 5.01892995e-04 -1.18750237e+01]\n",
      "[PairOptimizer.optimize] curves_t agEUR-Bce8/USDC-eB48\n",
      "[PairOptimizer.optimize] p_optimal OptimizerBase.SimpleResult(result=1.0954248748552364, method='bisection', errormsg=None, context_dct=None) full_result [-1.31208217e-05 -2.33131234e-01]\n",
      "[PairOptimizer.optimize] curves_t WETH-6Cc2/USDC-eB48\n",
      "[PairOptimizer.optimize] p_optimal OptimizerBase.SimpleResult(result=1888.9922050253244, method='bisection', errormsg=None, context_dct=None) full_result [-2.22697335e-05  1.68964652e-06]\n",
      "[PairOptimizer.optimize] curves_t WBTC-C599/USDC-eB48\n",
      "[PairOptimizer.optimize] p_optimal OptimizerBase.SimpleResult(result=30708.392805083116, method='bisection', errormsg=None, context_dct=None) full_result [-2.90562348e-05  1.58070179e-09]\n",
      "[PairOptimizer.optimize] curves_t WBTC-C599/USDC-eB48\n",
      "[PairOptimizer.optimize] p_optimal OptimizerBase.SimpleResult(result=30681.149356574744, method='bisection', errormsg=None, context_dct=None) full_result [-2.60232548e-05 -4.12073859e-08]\n",
      "[PairOptimizer.optimize] curves_t USDT-1ec7/USDC-eB48\n",
      "[PairOptimizer.optimize] p_optimal OptimizerBase.SimpleResult(result=1.0000207916896624, method='bisection', errormsg=None, context_dct=None) full_result [-9.59614856  9.48432612]\n",
      "[PairOptimizer.optimize] curves_t USDT-1ec7/USDC-eB48\n",
      "[PairOptimizer.optimize] p_optimal OptimizerBase.SimpleResult(result=0.999981403015415, method='bisection', errormsg=None, context_dct=None) full_result [-0.14899972  0.02339224]\n",
      "[PairOptimizer.optimize] curves_t DAI-1d0F/USDC-eB48\n",
      "[PairOptimizer.optimize] p_optimal OptimizerBase.SimpleResult(result=1.00038137566347, method='bisection', errormsg=None, context_dct=None) full_result [-1.02796173  1.02835083]\n",
      "[PairOptimizer.optimize] curves_t DAI-1d0F/USDC-eB48\n",
      "[PairOptimizer.optimize] p_optimal OptimizerBase.SimpleResult(result=0.9999799635742482, method='bisection', errormsg=None, context_dct=None) full_result [-0.07470703  0.07470703]\n",
      "[PairOptimizer.optimize] curves_t BNT-FF1C/USDC-eB48\n",
      "[PairOptimizer.optimize] p_optimal OptimizerBase.SimpleResult(result=0.39333799528998525, method='bisection', errormsg=None, context_dct=None) full_result [-2.52849953e-02 -6.48852438e-06]\n",
      "[PairOptimizer.optimize] curves_t ETH2x_FLI-65BD/WETH-6Cc2\n",
      "[PairOptimizer.optimize] p_optimal OptimizerBase.SimpleResult(result=0.006679129484446496, method='bisection', errormsg=None, context_dct=None) full_result [ 8.48095224e-05 -5.66453764e-07]\n",
      "[PairOptimizer.optimize] curves_t rETH-6393/WETH-6Cc2\n",
      "[PairOptimizer.optimize] p_optimal OptimizerBase.SimpleResult(result=1.076708344528944, method='bisection', errormsg=None, context_dct=None) full_result [-1.47077268e-05 -1.07724649e-03]\n",
      "[PairOptimizer.optimize] curves_t rETH-6393/WETH-6Cc2\n",
      "[PairOptimizer.optimize] p_optimal OptimizerBase.SimpleResult(result=1.076708344528944, method='bisection', errormsg=None, context_dct=None) full_result [-1.47077268e-05 -1.07724649e-03]\n",
      "[PairOptimizer.optimize] curves_t WETH-6Cc2/BNT-FF1C\n",
      "[PairOptimizer.optimize] p_optimal OptimizerBase.SimpleResult(result=4764.128744551195, method='bisection', errormsg=None, context_dct=None) full_result [-5.01323700e-04  3.93665687e-08]\n",
      "[PairOptimizer.optimize] curves_t BNT-FF1C/USDC-eB48\n",
      "[PairOptimizer.optimize] p_optimal OptimizerBase.SimpleResult(result=0.3933379880274164, method='bisection', errormsg=None, context_dct=None) full_result [-0.00012369 -0.00990339]\n",
      "[PairOptimizer.optimize] curves_t SMT-7173/WETH-6Cc2\n",
      "[PairOptimizer.optimize] p_optimal OptimizerBase.SimpleResult(result=3.412389120192642e-05, method='bisection', errormsg=None, context_dct=None) full_result [-2.28550270e-01  7.79902077e-06]\n",
      "[PairOptimizer.optimize] curves_t WETH-6Cc2/USDT-1ec7\n",
      "[PairOptimizer.optimize] p_optimal OptimizerBase.SimpleResult(result=1890.3902702853352, method='bisection', errormsg=None, context_dct=None) full_result [-1.49045173e-05 -5.30951365e-06]\n",
      "[PairOptimizer.optimize] curves_t WETH-6Cc2/USDT-1ec7\n",
      "[PairOptimizer.optimize] p_optimal OptimizerBase.SimpleResult(result=1889.1459250738608, method='bisection', errormsg=None, context_dct=None) full_result [-1.54577229e-05  7.40357791e-07]\n",
      "[PairOptimizer.optimize] curves_t WETH-6Cc2/USDT-1ec7\n",
      "[PairOptimizer.optimize] p_optimal OptimizerBase.SimpleResult(result=1881.710744695588, method='bisection', errormsg=None, context_dct=None) full_result [-1.87588976e-05 -1.46261300e-07]\n",
      "[PairOptimizer.optimize] curves_t WBTC-C599/USDT-1ec7\n",
      "[PairOptimizer.optimize] p_optimal OptimizerBase.SimpleResult(result=30694.61394905813, method='bisection', errormsg=None, context_dct=None) full_result [-6.27944824e-07  9.15003540e-09]\n",
      "[PairOptimizer.optimize] curves_t USDT-1ec7/USDC-eB48\n",
      "[PairOptimizer.optimize] p_optimal OptimizerBase.SimpleResult(result=1.0000207916896624, method='bisection', errormsg=None, context_dct=None) full_result [-9.59614856  9.48432612]\n",
      "[PairOptimizer.optimize] curves_t USDT-1ec7/USDC-eB48\n",
      "[PairOptimizer.optimize] p_optimal OptimizerBase.SimpleResult(result=0.9999814029393985, method='bisection', errormsg=None, context_dct=None) full_result [ 0.00311882 -0.12872343]\n",
      "[PairOptimizer.optimize] curves_t DAI-1d0F/USDT-1ec7\n",
      "[PairOptimizer.optimize] p_optimal OptimizerBase.SimpleResult(result=0.9998810288235178, method='bisection', errormsg=None, context_dct=None) full_result [ 0.02126074 -0.02125835]\n",
      "[PairOptimizer.optimize] curves_t DAI-1d0F/USDT-1ec7\n",
      "[PairOptimizer.optimize] p_optimal OptimizerBase.SimpleResult(result=1.0000277728011695, method='bisection', errormsg=None, context_dct=None) full_result [-0.00128025  0.00128031]\n",
      "[PairOptimizer.optimize] curves_t WETH-6Cc2/DAI-1d0F\n",
      "[PairOptimizer.optimize] p_optimal OptimizerBase.SimpleResult(result=1889.8516355280822, method='bisection', errormsg=None, context_dct=None) full_result [ 7.27595661e-12 -1.49011612e-08]\n",
      "[PairOptimizer.optimize] curves_t WETH-6Cc2/DAI-1d0F\n",
      "[PairOptimizer.optimize] p_optimal OptimizerBase.SimpleResult(result=1889.2342508777756, method='bisection', errormsg=None, context_dct=None) full_result [ 8.00355328e-11 -1.49011612e-07]\n",
      "[PairOptimizer.optimize] curves_t DAI-1d0F/USDC-eB48\n",
      "[PairOptimizer.optimize] p_optimal OptimizerBase.SimpleResult(result=1.00038137566347, method='bisection', errormsg=None, context_dct=None) full_result [-1.02796173  1.02835083]\n",
      "[PairOptimizer.optimize] curves_t DAI-1d0F/USDC-eB48\n",
      "[PairOptimizer.optimize] p_optimal OptimizerBase.SimpleResult(result=0.9999799635742482, method='bisection', errormsg=None, context_dct=None) full_result [-0.07470703  0.07470703]\n",
      "[PairOptimizer.optimize] curves_t DAI-1d0F/USDT-1ec7\n",
      "[PairOptimizer.optimize] p_optimal OptimizerBase.SimpleResult(result=0.9998810288235178, method='bisection', errormsg=None, context_dct=None) full_result [ 0.02126074 -0.02125835]\n",
      "[PairOptimizer.optimize] curves_t DAI-1d0F/USDT-1ec7\n",
      "[PairOptimizer.optimize] p_optimal OptimizerBase.SimpleResult(result=1.0000277728011695, method='bisection', errormsg=None, context_dct=None) full_result [-0.00128025  0.00128031]\n",
      "[PairOptimizer.optimize] curves_t WBTC-C599/WETH-6Cc2\n",
      "[PairOptimizer.optimize] p_optimal OptimizerBase.SimpleResult(result=16.251275646979085, method='bisection', errormsg=None, context_dct=None) full_result [-1.95919636e-09 -5.30309158e-07]\n",
      "[PairOptimizer.optimize] curves_t WBTC-C599/WETH-6Cc2\n",
      "[PairOptimizer.optimize] p_optimal OptimizerBase.SimpleResult(result=16.262493103901765, method='bisection', errormsg=None, context_dct=None) full_result [ 1.21422739e-08 -5.37766739e-05]\n",
      "[PairOptimizer.optimize] curves_t WBTC-C599/USDC-eB48\n",
      "[PairOptimizer.optimize] p_optimal OptimizerBase.SimpleResult(result=30708.386280904175, method='bisection', errormsg=None, context_dct=None) full_result [-2.57571742e-14 -8.92270175e-01]\n",
      "[PairOptimizer.optimize] curves_t WBTC-C599/USDC-eB48\n",
      "[PairOptimizer.optimize] p_optimal OptimizerBase.SimpleResult(result=30681.14901464671, method='bisection', errormsg=None, context_dct=None) full_result [-8.27948821e-13 -7.98423385e-01]\n",
      "[PairOptimizer.optimize] curves_t WBTC-C599/USDT-1ec7\n",
      "[PairOptimizer.optimize] p_optimal OptimizerBase.SimpleResult(result=30694.613926064292, method='bisection', errormsg=None, context_dct=None) full_result [ 4.73837115e-13 -1.92745271e-02]\n",
      "[PairOptimizer.optimize] curves_t CRV-cd52/USDC-eB48\n",
      "[PairOptimizer.optimize] p_optimal OptimizerBase.SimpleResult(result=0.793193748720299, method='bisection', errormsg=None, context_dct=None) full_result [ 1.17382733e-05 -1.90733844e-01]\n",
      "[PairOptimizer.optimize] curves_t icETH-6A84/WETH-6Cc2\n",
      "[PairOptimizer.optimize] p_optimal OptimizerBase.SimpleResult(result=1.0625676227365368, method='bisection', errormsg=None, context_dct=None) full_result [-7.29091880e-08  7.74703039e-08]\n"
     ]
    }
   ],
   "source": [
    "arb_finder = bot._get_arb_finder(\"multi\")\n",
    "finder = arb_finder(\n",
    "            flashloan_tokens=flashloan_tokens,\n",
    "            CCm=CCm,\n",
    "            mode=\"bothin\",\n",
    "            result=bot.AO_CANDIDATES,\n",
    "            ConfigObj=bot.ConfigObj,\n",
    "        )\n",
    "r = finder.find_arbitrage()\n",
    "\n",
    "#arb_opp = r[0]\n",
    "\n",
    "\n",
    "assert len(r) == 25, f\"[NB047 Randomizer], expected 25 arbs, found {len(r)}\"\n",
    "\n",
    "\n",
    "arb_opp_0 = bot.randomize(arb_opps=r, randomizer=0)\n",
    "arb_opp_1 = bot.randomize(arb_opps=r, randomizer=1)\n",
    "arb_opp_2 = bot.randomize(arb_opps=r, randomizer=1)\n",
    "arb_opp_3 = bot.randomize(arb_opps=r, randomizer=1)\n",
    "arb_opp_25 = bot.randomize(arb_opps=r, randomizer=1)\n",
    "arb_opp_None = bot.randomize(arb_opps=None, randomizer=5)\n",
    "\n",
    "assert len(arb_opp_0) == 5, f\"[NB047 Randomizer], expected 1 arb back from randomizer with length of 5, found length of {len(arb_opp_0)}\"\n",
    "assert len(arb_opp_1) == 5, f\"[NB047 Randomizer], expected 1 arb back from randomizer with length of 5, found length of {len(arb_opp_1)}\"\n",
    "assert len(arb_opp_2) == 5, f\"[NB047 Randomizer], expected 1 arb back from randomizer with length of 5, found length of {len(arb_opp_2)}\"\n",
    "assert len(arb_opp_3) == 5, f\"[NB047 Randomizer], expected 1 arb back from randomizer with length of 5, found length of {len(arb_opp_3)}\"\n",
    "assert len(arb_opp_25) == 5, f\"[NB047 Randomizer], expected 1 arb back from randomizer with length of 5, found length of {len(arb_opp_25)}\"\n",
    "assert isinstance(np.float64(arb_opp_0[0]), np.floating), f\"[NB047 Randomizer], expected first value back from randomizer to be of type np.float64, found type {type(arb_opp_0[0])}\"\n",
    "assert isinstance(np.float64(arb_opp_1[0]), np.floating), f\"[NB047 Randomizer], expected first value back from randomizer to be of type np.float64, found type {type(arb_opp_1[0])}\"\n",
    "assert isinstance(np.float64(arb_opp_2[0]), np.floating), f\"[NB047 Randomizer], expected first value back from randomizer to be of type np.float64, found type {type(arb_opp_2[0])}\""
   ]
  },
  {
   "cell_type": "code",
   "execution_count": 9,
   "id": "567160d1-0405-4903-8800-2304b38fb7b5",
   "metadata": {
    "ExecuteTime": {
     "end_time": "2023-09-18T18:21:38.177545Z",
     "start_time": "2023-09-18T18:21:38.172495Z"
    }
   },
   "outputs": [],
   "source": [
    "assert isinstance(np.float64(arb_opp_3[0]), np.floating), f\"[NB047 Randomizer], expected first value back from randomizer to be of type np.float64, found type {type(arb_opp_3[0])}\"\n",
    "assert isinstance(np.float64(arb_opp_25[0]), np.floating), f\"[NB047 Randomizer], expected first value back from randomizer to be of type np.float64, found type {type(arb_opp_25[0])}\""
   ]
  },
  {
   "cell_type": "code",
   "execution_count": 10,
   "id": "740698cc-44c9-4f50-8272-dbda56ef2c82",
   "metadata": {
    "ExecuteTime": {
     "end_time": "2023-09-18T18:21:38.181278Z",
     "start_time": "2023-09-18T18:21:38.175552Z"
    }
   },
   "outputs": [
    {
     "data": {
      "text/plain": "({'cid': '0xc4be7ee1e92f6eaebe2b6c46db7eb95e883dc9baa76915812d9b50b83af82b26',\n  'tknin': 'vBNT-7f94',\n  'amtin': 489.8387320698239,\n  'tknout': 'BNT-FF1C',\n  'amtout': -243.8645401103422,\n  'error': None},\n {'cid': '4423670769972200025023869896612986749191-1',\n  'tknin': 'BNT-FF1C',\n  'amtin': 219.65302317694886,\n  'tknout': 'vBNT-7f94',\n  'amtout': -489.8387698782153,\n  'error': None})"
     },
     "execution_count": 10,
     "metadata": {},
     "output_type": "execute_result"
    }
   ],
   "source": [
    "arb_opp_0[2]"
   ]
  },
  {
   "cell_type": "code",
   "execution_count": 11,
   "id": "02fda49d-c3e8-45b3-bbb5-230fc479f2f7",
   "metadata": {
    "ExecuteTime": {
     "end_time": "2023-09-18T18:21:38.185544Z",
     "start_time": "2023-09-18T18:21:38.181744Z"
    }
   },
   "outputs": [],
   "source": [
    "assert type(arb_opp_0[2])  == tuple, f\"[NB047 Randomizer], expected third value back from randomizer to be of type list, found type {type(arb_opp_0[2])}\"\n",
    "assert type(arb_opp_1[2])  == tuple, f\"[NB047 Randomizer], expected third value back from randomizer to be of type list, found type {type(arb_opp_1[2])}\"\n",
    "assert type(arb_opp_2[2])  == tuple, f\"[NB047 Randomizer], expected third value back from randomizer to be of type list, found type {type(arb_opp_2[2])}\"\n",
    "assert type(arb_opp_3[2])  == tuple, f\"[NB047 Randomizer], expected third value back from randomizer to be of type list, found type {type(arb_opp_3[2])}\"\n",
    "assert type(arb_opp_25[2]) == tuple, f\"[NB047 Randomizer], expected third value back from randomizer to be of type list, found type {type(arb_opp_25[2])}\""
   ]
  },
  {
   "cell_type": "code",
   "execution_count": 12,
   "id": "e02806ee-10e9-4ae0-acab-e1e48ce69b90",
   "metadata": {
    "ExecuteTime": {
     "end_time": "2023-09-18T18:21:38.189109Z",
     "start_time": "2023-09-18T18:21:38.184749Z"
    }
   },
   "outputs": [],
   "source": [
    "assert arb_opp_None == None, f\"[NB047 Randomizer], expected randomizer to return None when it receives None, but it returned {type(arb_opp_None)}\""
   ]
  },
  {
   "cell_type": "markdown",
   "id": "f145cc39",
   "metadata": {},
   "source": [
    "## Test_sorted_by_profit"
   ]
  },
  {
   "cell_type": "code",
   "execution_count": 13,
   "id": "b4442276",
   "metadata": {
    "ExecuteTime": {
     "end_time": "2023-09-18T18:21:38.211658Z",
     "start_time": "2023-09-18T18:21:38.193789Z"
    }
   },
   "outputs": [],
   "source": [
    "arb_opps = [(2.6927646232907136, [{'cid': '0xe37abfaee752c24a764955cbb2d10c3c9f88472263cbd2c00ca57facb0f128fe', 'tknin': 'WETH-6Cc2', 'amtin': 0.003982724863828224, 'tknout': 'BNT-FF1C', 'amtout': -19.27862435251882, 'error': None}, {'cid': '3743106036130323098097120681749450326076-0', 'tknin': 'BNT-FF1C', 'amtin': 16.585859729228105, 'tknout': 'WETH-6Cc2', 'amtout': -0.003982724874543209, 'error': None}]\n",
    "), (2.5352758371554955, [{'cid': '0x748ab2bef0d97e5a044268626e6c9c104bab818605d44f650fdeaa03a3c742d2', 'tknin': 'WETH-6Cc2', 'amtin': 0.003982718826136988, 'tknout': 'BNT-FF1C', 'amtout': -19.1211355663836, 'error': None}, {'cid': '3743106036130323098097120681749450326076-0', 'tknin': 'BNT-FF1C', 'amtin': 16.585859729228105, 'tknout': 'WETH-6Cc2', 'amtout': -0.003982724874543209, 'error': None}]\n",
    "), (1.9702345513100596, [{'cid': '0xc4771395e1389e2e3a12ec22efbb7aff5b1c04e5ce9c7596a82e9dc8fdec725b', 'tknin': 'BNT-FF1C', 'amtin': 750.6057364856824, 'tknout': 'USDC-eB48', 'amtout': -293.5068652469199, 'error': None}, {'cid': '2381976568446569244243622252022377480332-1', 'tknin': 'USDC-eB48', 'amtin': 292.73623752593994, 'tknout': 'BNT-FF1C', 'amtout': -750.6057367324829, 'error': None}]\n",
    "), (2.67115241495777, [{'cid': '0xe37abfaee752c24a764955cbb2d10c3c9f88472263cbd2c00ca57facb0f128fe', 'tknin': 'WETH-6Cc2', 'amtin': 0.0034263543081607395, 'tknout': 'BNT-FF1C', 'amtout': -16.58585974665766, 'error': None}, {'cid': '3743106036130323098097120681749450326076-0', 'tknin': 'BNT-FF1C', 'amtin': 16.585859729228105, 'tknout': 'WETH-6Cc2', 'amtout': -0.003982724874543209, 'error': None}]\n",
    "), (2.535310217715329, [{'cid': '0x748ab2bef0d97e5a044268626e6c9c104bab818605d44f650fdeaa03a3c742d2', 'tknin': 'WETH-6Cc2', 'amtin': 0.003454648687693407, 'tknout': 'BNT-FF1C', 'amtout': -16.58585971966386, 'error': None}, {'cid': '3743106036130323098097120681749450326076-0', 'tknin': 'BNT-FF1C', 'amtin': 16.585859729228105, 'tknout': 'WETH-6Cc2', 'amtout': -0.003982724874543209, 'error': None}]\n",
    "), (5.438084583685771, [{'cid': '0x8f9771f2886aa12c1659c275b8e305f58c7c41ba82df03bb21c0bcac98ffde4b', 'tknin': 'WETH-6Cc2', 'amtin': 0.002847350733645726, 'tknout': 'HEX-eb39', 'amtout': -556.3312638401985, 'error': None}, {'cid': '14291859410679415465461733512134264881242-0', 'tknin': 'HEX-eb39', 'amtin': 556.3312644516602, 'tknout': 'WETH-6Cc2', 'amtout': -0.003980041696137606, 'error': None}]\n",
    "), (5.400385044154462, [{'cid': '0x3a98798837e610ac07762e2d58f29f0cf96297a2528f86e0fe9b903b1e45a204', 'tknin': 'WETH-6Cc2', 'amtin': 0.0028413006787388895, 'tknout': 'HEX-eb39', 'amtout': -553.6187023743987, 'error': None}, {'cid': '14291859410679415465461733512134264881242-0', 'tknin': 'HEX-eb39', 'amtin': 553.6187027173414, 'tknout': 'WETH-6Cc2', 'amtout': -0.003966139257351835, 'error': None}]\n",
    "), (1.9713220433332026, [{'cid': '0xc4771395e1389e2e3a12ec22efbb7aff5b1c04e5ce9c7596a82e9dc8fdec725b', 'tknin': 'BNT-FF1C', 'amtin': 748.6344146891497, 'tknout': 'USDC-eB48', 'amtout': -292.73623879346997, 'error': None}, {'cid': '2381976568446569244243622252022377480332-1', 'tknin': 'USDC-eB48', 'amtin': 292.73623752593994, 'tknout': 'BNT-FF1C', 'amtout': -750.6057367324829, 'error': None}]\n",
    "), (8.465616944048316, [{'cid': '0x5b5f170977fe879c965a9fec9aeba4dfe29659f503cd5fe6e67349bdc3089295', 'tknin': '0x0-1AD5', 'amtin': 359.7323400862515, 'tknout': 'WETH-6Cc2', 'amtout': -0.0070300615800533706, 'error': None}, {'cid': '9868188640707215440437863615521278132277-1', 'tknin': 'WETH-6Cc2', 'amtin': 0.00526677017535393, 'tknout': '0x0-1AD5', 'amtout': -359.73234041399974, 'error': None}]\n",
    "), (6.717558869249757, [{'cid': '0x1eda42a2cced5e9cfffe1b15d7c39253514267401c5bd2e9ca28287f8a996fde', 'tknin': 'rETH-6393', 'amtin': 0.2496827895520255, 'tknout': 'WETH-6Cc2', 'amtout': -0.26914170442614704, 'error': None}, {'cid': '3062541302288446171170371466885913903202-0', 'tknin': 'WETH-6Cc2', 'amtin': 0.267742513570596, 'tknout': 'rETH-6393', 'amtout': -0.2496827897163172, 'error': None}]\n",
    ")]\n",
    "\n",
    "ops = bot.randomize(arb_opps=arb_opps, randomizer=3)\n",
    "\n",
    "assert iseq(ops[0], 8.465616944048316) or iseq(ops[0], 6.717558869249757) or iseq(ops[0], 5.438084583685771), f\"[NB047 Randomizer], expected randomizer to return top 3 most profitable arbs, but it did not!\""
   ]
  },
  {
   "cell_type": "code",
   "execution_count": 13,
   "id": "a3fc926e-bc3e-438d-be10-fdce60b8619c",
   "metadata": {
    "ExecuteTime": {
     "end_time": "2023-09-18T18:21:38.216117Z",
     "start_time": "2023-09-18T18:21:38.195758Z"
    }
   },
   "outputs": [],
   "source": []
  }
 ],
 "metadata": {
  "jupytext": {
   "formats": "ipynb,py:light"
  },
  "kernelspec": {
   "display_name": "Python 3",
   "language": "python",
   "name": "python3"
  },
  "language_info": {
   "codemirror_mode": {
    "name": "ipython",
    "version": 3
   },
   "file_extension": ".py",
   "mimetype": "text/x-python",
   "name": "python",
   "nbconvert_exporter": "python",
   "pygments_lexer": "ipython3",
   "version": "3.8.8"
  }
 },
 "nbformat": 4,
 "nbformat_minor": 5
}

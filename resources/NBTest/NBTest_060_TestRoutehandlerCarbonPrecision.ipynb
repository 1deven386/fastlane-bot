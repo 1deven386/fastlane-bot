{
 "cells": [
  {
   "cell_type": "code",
   "execution_count": 1,
   "id": "84fa264b",
   "metadata": {
    "ExecuteTime": {
     "end_time": "2023-07-09T13:54:12.577531Z",
     "start_time": "2023-07-09T13:54:12.514167Z"
    }
   },
   "outputs": [
    {
     "name": "stdout",
     "output_type": "stream",
     "text": [
      "ConstantProductCurve v3.3.1 (05/Oct/2023)\n",
      "CarbonBot v3-b2.2 (20/June/2023)\n",
      "UniswapV2 v0.0.2 (2023-08-27)\n",
      "UniswapV3 v0.0.2 (2023-08-27)\n",
      "SushiswapV2 v0.0.2 (2023-08-27)\n",
      "CarbonV1 v0.0.2 (2023-08-27)\n",
      "BancorV3 v0.0.2 (2023-08-27)\n",
      "imported m, np, pd, plt, os, sys, decimal; defined iseq, raises, require\n",
      "Version = 3-b2.2 [requirements >= 3.0 is met]\n"
     ]
    }
   ],
   "source": [
    "# coding=utf-8\n",
    "\"\"\"\n",
    "This module contains the tests for the exchanges classes\n",
    "\"\"\"\n",
    "from fastlane_bot import Bot, Config\n",
    "from fastlane_bot.bot import CarbonBot\n",
    "from fastlane_bot.tools.cpc import ConstantProductCurve\n",
    "from fastlane_bot.tools.cpc import ConstantProductCurve as CPC\n",
    "from fastlane_bot.events.exchanges import UniswapV2, UniswapV3, SushiswapV2, CarbonV1, BancorV3\n",
    "from fastlane_bot.events.interface import QueryInterface\n",
    "from fastlane_bot.helpers.poolandtokens import PoolAndTokens\n",
    "from fastlane_bot.helpers import TradeInstruction, TxReceiptHandler, TxRouteHandler, TxSubmitHandler, TxHelpers, TxHelper\n",
    "from fastlane_bot.events.managers.manager import Manager\n",
    "from fastlane_bot.events.interface import QueryInterface\n",
    "from joblib import Parallel, delayed\n",
    "import pytest\n",
    "import math\n",
    "import json\n",
    "print(\"{0.__name__} v{0.__VERSION__} ({0.__DATE__})\".format(CPC))\n",
    "print(\"{0.__name__} v{0.__VERSION__} ({0.__DATE__})\".format(Bot))\n",
    "print(\"{0.__name__} v{0.__VERSION__} ({0.__DATE__})\".format(UniswapV2))\n",
    "print(\"{0.__name__} v{0.__VERSION__} ({0.__DATE__})\".format(UniswapV3))\n",
    "print(\"{0.__name__} v{0.__VERSION__} ({0.__DATE__})\".format(SushiswapV2))\n",
    "print(\"{0.__name__} v{0.__VERSION__} ({0.__DATE__})\".format(CarbonV1))\n",
    "print(\"{0.__name__} v{0.__VERSION__} ({0.__DATE__})\".format(BancorV3))\n",
    "from fastlane_bot.testing import *\n",
    "from fastlane_bot.modes import triangle_single_bancor3\n",
    "#plt.style.use('seaborn-dark')\n",
    "plt.rcParams['figure.figsize'] = [12,6]\n",
    "from fastlane_bot import __VERSION__\n",
    "require(\"3.0\", __VERSION__)"
   ]
  },
  {
   "cell_type": "code",
   "execution_count": 2,
   "id": "d8e0b7b0",
   "metadata": {},
   "outputs": [
    {
     "name": "stderr",
     "output_type": "stream",
     "text": [
      "2023-11-19 10:47:35,938 [fastlane:INFO] - \n",
      "2023-11-19 10:47:35,939 [fastlane:INFO] - **********************************************\n",
      "2023-11-19 10:47:35,939 [fastlane:INFO] - The logging path is set to: logs/20231119-104735\\bot.log\n",
      "2023-11-19 10:47:35,940 [fastlane:INFO] - **********************************************\n",
      "2023-11-19 10:47:35,940 [fastlane:INFO] - \n"
     ]
    },
    {
     "name": "stdout",
     "output_type": "stream",
     "text": [
      "path=fastlane_bot\\data\\tests\\latest_pool_data_testing_balancer.json\n"
     ]
    },
    {
     "name": "stderr",
     "output_type": "stream",
     "text": [
      "2023-11-19 10:47:38,225 [fastlane:INFO] - Retrieved 208 carbon pairs from contract\n",
      "2023-11-19 10:47:40,259 [fastlane:INFO] - Time taken to add initial pools: 0.09514498710632324\n",
      "2023-11-19 10:47:40,262 [fastlane:INFO] - Initializing the bot...\n",
      "2023-11-19 10:47:40,462 [fastlane:INFO] - uniswap_v3: 470\n",
      "2023-11-19 10:47:40,463 [fastlane:INFO] - sushiswap_v2: 63\n",
      "2023-11-19 10:47:40,463 [fastlane:INFO] - uniswap_v2: 708\n",
      "2023-11-19 10:47:40,464 [fastlane:INFO] - bancor_v2: 0\n",
      "2023-11-19 10:47:40,464 [fastlane:INFO] - bancor_v3: 27\n",
      "2023-11-19 10:47:40,465 [fastlane:INFO] - bancor_pol: 51\n",
      "2023-11-19 10:47:40,465 [fastlane:INFO] - carbon_v1: 185\n",
      "2023-11-19 10:47:40,466 [fastlane:INFO] - pancakeswap_v2: 0\n",
      "2023-11-19 10:47:40,467 [fastlane:INFO] - pancakeswap_v3: 0\n",
      "2023-11-19 10:47:40,467 [fastlane:INFO] - balancer: 63\n",
      "2023-11-19 10:47:40,599 [fastlane:INFO] - uniswap_v3_zero_liquidity_pools: 1024\n",
      "2023-11-19 10:47:40,601 [fastlane:INFO] - sushiswap_v2_zero_liquidity_pools: 39\n",
      "2023-11-19 10:47:40,601 [fastlane:INFO] - uniswap_v2_zero_liquidity_pools: 2544\n",
      "2023-11-19 10:47:40,602 [fastlane:INFO] - bancor_v2_zero_liquidity_pools: 99\n",
      "2023-11-19 10:47:40,603 [fastlane:INFO] - bancor_v3_zero_liquidity_pools: 44\n",
      "2023-11-19 10:47:40,603 [fastlane:INFO] - bancor_pol_zero_liquidity_pools: 5\n",
      "2023-11-19 10:47:40,604 [fastlane:INFO] - carbon_v1_zero_liquidity_pools: 176\n",
      "2023-11-19 10:47:40,604 [fastlane:INFO] - pancakeswap_v2_zero_liquidity_pools: 0\n",
      "2023-11-19 10:47:40,605 [fastlane:INFO] - pancakeswap_v3_zero_liquidity_pools: 0\n",
      "2023-11-19 10:47:40,606 [fastlane:INFO] - balancer_zero_liquidity_pools: 0\n",
      "2023-11-19 10:47:40,607 [fastlane:INFO] - Removed 0 unsupported exchanges. 1567 pools remaining\n",
      "2023-11-19 10:47:40,607 [fastlane:INFO] - Pools remaining per exchange:\n",
      "2023-11-19 10:47:40,608 [fastlane:INFO] - bancor_v3: 27\n",
      "2023-11-19 10:47:40,608 [fastlane:INFO] - balancer: 63\n",
      "2023-11-19 10:47:40,609 [fastlane:INFO] - bancor_v2: 0\n",
      "2023-11-19 10:47:40,609 [fastlane:INFO] - bancor_pol: 51\n",
      "2023-11-19 10:47:40,610 [fastlane:INFO] - sushiswap_v2: 63\n",
      "2023-11-19 10:47:40,610 [fastlane:INFO] - carbon_v1: 185\n",
      "2023-11-19 10:47:40,611 [fastlane:INFO] - uniswap_v2: 708\n",
      "2023-11-19 10:47:40,611 [fastlane:INFO] - uniswap_v3: 470\n"
     ]
    }
   ],
   "source": [
    "C = cfg = Config.new(config=Config.CONFIG_MAINNET,) #blockchain=\"coinbase_base\")\n",
    "C.DEFAULT_MIN_PROFIT_GAS_TOKEN = 0.005\n",
    "\n",
    "setup_bot = CarbonBot(ConfigObj=C)\n",
    "pools = None\n",
    "\n",
    "### \n",
    "\"\"\"\n",
    "Put path to log file here >>>\n",
    "\"\"\"\n",
    "###\n",
    "\n",
    "path = os.path.normpath(\"fastlane_bot/data/tests/latest_pool_data_testing_balancer.json\")\n",
    "print(f\"path={path}\")\n",
    "with open(path) as f:\n",
    "    pools = json.load(f)\n",
    "\n",
    "\n",
    "\n",
    "# with open(\"fastlane_bot/data/tests/latest_pool_data_testing_balancer.json\") as f:\n",
    "#     pools = json.load(f)\n",
    "\n",
    "flashloan_tokens = [\"BNT-FF1C\",\"WETH-6Cc2\",\"USDC-eB48\",\"LINK-86CA\"]\n",
    "#flashloan_tokens = [\"WETH-0006,USDC-2913\"]\n",
    "\n",
    "pools = [pool for pool in pools]\n",
    "pools[0]\n",
    "static_pools = pools\n",
    "state = pools\n",
    "exchanges = list({ex['exchange_name'] for ex in state})\n",
    "db = QueryInterface(state=state, ConfigObj=C, exchanges=exchanges)\n",
    "setup_bot.db = db\n",
    "\n",
    "static_pool_data_filename = \"static_pool_data\"\n",
    "\n",
    "static_pool_data = pd.read_csv(f\"fastlane_bot/data/{static_pool_data_filename}.csv\", low_memory=False)\n",
    "    \n",
    "uniswap_v2_event_mappings = pd.read_csv(\"fastlane_bot/data/uniswap_v2_event_mappings.csv\", low_memory=False)\n",
    "uniswap_v3_event_mappings = pd.read_csv(\"fastlane_bot/data/uniswap_v3_event_mappings.csv\", low_memory=False)\n",
    "\n",
    "tokens = pd.read_csv(\"fastlane_bot/data/tokens.csv\", low_memory=False)\n",
    "        \n",
    "exchanges = \"carbon_v1,pancakeswap_v2,pancakeswap_v3,uniswap_v2,uniswap_v3\"\n",
    "\n",
    "exchanges = exchanges.split(\",\")\n",
    "\n",
    "\n",
    "alchemy_max_block_fetch = 20\n",
    "static_pool_data[\"cid\"] = [\n",
    "        cfg.w3.keccak(text=f\"{row['descr']}\").hex()\n",
    "        for index, row in static_pool_data.iterrows()\n",
    "    ]\n",
    "# Filter out pools that are not in the supported exchanges\n",
    "static_pool_data = [\n",
    "    row for index, row in static_pool_data.iterrows()\n",
    "    if row[\"exchange_name\"] in exchanges\n",
    "]\n",
    "\n",
    "static_pool_data = pd.DataFrame(static_pool_data)\n",
    "static_pool_data['exchange_name'].unique()\n",
    "# Initialize data fetch manager\n",
    "mgr = Manager(\n",
    "    web3=cfg.w3,\n",
    "    cfg=cfg,\n",
    "    pool_data=static_pool_data.to_dict(orient=\"records\"),\n",
    "    SUPPORTED_EXCHANGES=exchanges,\n",
    "    alchemy_max_block_fetch=alchemy_max_block_fetch,\n",
    "    uniswap_v2_event_mappings=uniswap_v2_event_mappings,\n",
    "    #uniswap_v3_event_mappings=uniswap_v3_event_mappings,\n",
    "    tokens=tokens.to_dict(orient=\"records\"),\n",
    ")\n",
    "\n",
    "# Add initial pools for each row in the static_pool_data\n",
    "start_time = time.time()\n",
    "Parallel(n_jobs=-1, backend=\"threading\")(\n",
    "    delayed(mgr.add_pool_to_exchange)(row) for row in mgr.pool_data\n",
    ")\n",
    "cfg.logger.info(f\"Time taken to add initial pools: {time.time() - start_time}\")\n",
    "\n",
    "# check if any duplicate cid's exist in the pool data\n",
    "mgr.deduplicate_pool_data()\n",
    "cids = [pool[\"cid\"] for pool in mgr.pool_data]\n",
    "assert len(cids) == len(set(cids)), \"duplicate cid's exist in the pool data\"\n",
    "def init_bot(mgr: Manager) -> CarbonBot:\n",
    "    \"\"\"\n",
    "    Initializes the bot.\n",
    "\n",
    "    Parameters\n",
    "    ----------\n",
    "    mgr : Manager\n",
    "        The manager object.\n",
    "\n",
    "    Returns\n",
    "    -------\n",
    "    CarbonBot\n",
    "        The bot object.\n",
    "    \"\"\"\n",
    "    mgr.cfg.logger.info(\"Initializing the bot...\")\n",
    "    bot = CarbonBot(ConfigObj=mgr.cfg)\n",
    "    bot.db = db\n",
    "    bot.db.mgr = mgr\n",
    "    assert isinstance(\n",
    "        bot.db, QueryInterface\n",
    "    ), \"QueryInterface not initialized correctly\"\n",
    "    return bot\n",
    "bot = init_bot(mgr)\n",
    "# add data cleanup steps from main.py\n",
    "bot.db.handle_token_key_cleanup()\n",
    "#bot.db.remove_unmapped_uniswap_v2_pools()\n",
    "bot.db.remove_zero_liquidity_pools()\n",
    "bot.db.remove_unsupported_exchanges()\n",
    "tokens = bot.db.get_tokens()\n",
    "ADDRDEC = {t.key: (t.address, int(t.decimals)) for t in tokens if not math.isnan(t.decimals)}\n",
    "#flashloan_tokens = bot.setup_flashloan_tokens(None)\n",
    "#flashloan_tokens = ['WBTC-2c599', 'USDC-eB48', 'LINK-86CA', 'USDT-1ec7']\n",
    "\n",
    "\n",
    "CCm = bot.setup_CCm(None)\n",
    "pools = db.get_pool_data_with_tokens()\n"
   ]
  },
  {
   "cell_type": "markdown",
   "id": "4c4e2283",
   "metadata": {},
   "source": [
    "# Balancer [NB056]"
   ]
  },
  {
   "cell_type": "markdown",
   "id": "eddfdea7",
   "metadata": {},
   "source": [
    "## Test_get_arb_finder"
   ]
  },
  {
   "cell_type": "markdown",
   "id": "e703ba6b",
   "metadata": {},
   "source": [
    "## Test_Expected_Output"
   ]
  },
  {
   "cell_type": "code",
   "execution_count": 3,
   "id": "48e2f5a1",
   "metadata": {},
   "outputs": [],
   "source": [
    "# [\"single\", \"multi\", \"triangle\", \"multi_triangle\", \"bancor_v3\", \"b3_two_hop\"]\n",
    "# multi_pairwise_bal\n",
    "# multi_pairwise_pol\n",
    "# multi_triangle_pol\n",
    "arb_mode = \"multi\"\n",
    "\n",
    "arb_finder = bot._get_arb_finder(arb_mode)\n",
    "finder = arb_finder(\n",
    "            flashloan_tokens=flashloan_tokens,\n",
    "            CCm=CCm,\n",
    "            mode=\"bothin\",\n",
    "            result=bot.AO_CANDIDATES,\n",
    "            ConfigObj=bot.ConfigObj,\n",
    "        )\n",
    "r = finder.find_arbitrage()\n"
   ]
  },
  {
   "cell_type": "markdown",
   "id": "76ef76dc",
   "metadata": {},
   "source": [
    "## Test_Single_Direction_Carbon_Curves"
   ]
  },
  {
   "cell_type": "code",
   "execution_count": 4,
   "id": "4121fdc0",
   "metadata": {},
   "outputs": [
    {
     "name": "stdout",
     "output_type": "stream",
     "text": [
      "3\n"
     ]
    }
   ],
   "source": [
    "print(len(r))"
   ]
  },
  {
   "cell_type": "code",
   "execution_count": 5,
   "id": "c7388b41",
   "metadata": {},
   "outputs": [],
   "source": [
    "r = [arb for arb in r if len(arb[2]) >= 2]"
   ]
  },
  {
   "cell_type": "code",
   "execution_count": 6,
   "id": "dcca4637",
   "metadata": {},
   "outputs": [
    {
     "name": "stdout",
     "output_type": "stream",
     "text": [
      "3\n"
     ]
    }
   ],
   "source": [
    "print(len(r))"
   ]
  },
  {
   "cell_type": "code",
   "execution_count": 7,
   "id": "7763123a",
   "metadata": {},
   "outputs": [],
   "source": [
    "r.sort(key=lambda x: x[0], reverse=True)"
   ]
  },
  {
   "cell_type": "code",
   "execution_count": 8,
   "id": "22ad3d4c",
   "metadata": {},
   "outputs": [
    {
     "name": "stderr",
     "output_type": "stream",
     "text": [
      "2023-11-19 10:47:42,364 [fastlane:INFO] - \n",
      "\n",
      "\n",
      "2023-11-19 10:47:42,364 [fastlane:INFO] - [calculate_trade_outputs REMOVE] starting Carbon trade calculations, 4 trades, remaining_tkn_in = 1.6040228239306238\n",
      "2023-11-19 10:47:42,397 [fastlane:INFO] - [calculate_trade_outputs REMOVE] calculated trade, 1.089554130737549800 WETH-6Cc2 into trade, remaining=0.514468693193074000\n",
      "2023-11-19 10:47:42,430 [fastlane:INFO] - [calculate_trade_outputs REMOVE] calculated trade, 0.321695218445733200 WETH-6Cc2 into trade, remaining=0.192773474747340800\n",
      "2023-11-19 10:47:42,464 [fastlane:INFO] - [calculate_trade_outputs REMOVE] calculated trade, 0.105540831068996340 WETH-6Cc2 into trade, remaining=0.087232643678344460\n",
      "2023-11-19 10:47:42,551 [fastlane:INFO] - [calculate_trade_outputs REMOVE] calculated trade, 0.087232643678344460 WETH-6Cc2 into trade, remaining=0E-18\n",
      "2023-11-19 10:47:42,809 [fastlane:INFO] - \n",
      "\n",
      "\n",
      "2023-11-19 10:47:42,809 [fastlane:INFO] - [calculate_trade_outputs REMOVE] starting Carbon trade calculations, 4 trades, remaining_tkn_in = 1.599050631768161897\n",
      "2023-11-19 10:47:42,843 [fastlane:INFO] - [calculate_trade_outputs REMOVE] calculated trade, 1.086176702169447485 WETH-6Cc2 into trade, remaining=0.512873929598714412\n",
      "2023-11-19 10:47:42,879 [fastlane:INFO] - [calculate_trade_outputs REMOVE] calculated trade, 0.320698019141587525 WETH-6Cc2 into trade, remaining=0.192175910457126887\n",
      "2023-11-19 10:47:42,912 [fastlane:INFO] - [calculate_trade_outputs REMOVE] calculated trade, 0.105213672823345534 WETH-6Cc2 into trade, remaining=0.086962237633781353\n",
      "2023-11-19 10:47:43,000 [fastlane:INFO] - [calculate_trade_outputs REMOVE] calculated trade, 0.086962237633781353 WETH-6Cc2 into trade, remaining=0E-18\n",
      "2023-11-19 10:47:43,186 [fastlane:INFO] - \n",
      "\n",
      "\n",
      "2023-11-19 10:47:43,187 [fastlane:INFO] - [calculate_trade_outputs REMOVE] starting Carbon trade calculations, 4 trades, remaining_tkn_in = 45029.17079359509\n",
      "2023-11-19 10:47:43,220 [fastlane:INFO] - [calculate_trade_outputs REMOVE] calculated trade, 100.166283 USDC-eB48 into trade, remaining=44929.00451059509\n",
      "2023-11-19 10:47:43,252 [fastlane:INFO] - [calculate_trade_outputs REMOVE] calculated trade, 1972.309113 USDC-eB48 into trade, remaining=42956.695397\n",
      "2023-11-19 10:47:43,286 [fastlane:INFO] - [calculate_trade_outputs REMOVE] calculated trade, 0.437635 USDC-eB48 into trade, remaining=42956.257762\n",
      "2023-11-19 10:47:43,320 [fastlane:INFO] - [calculate_trade_outputs REMOVE] calculated trade, 42956.257762 USDC-eB48 into trade, remaining=0.000000\n"
     ]
    }
   ],
   "source": [
    "import random\n",
    "import time\n",
    "from _decimal import Decimal\n",
    "from dataclasses import dataclass, asdict, field\n",
    "from datetime import datetime\n",
    "from typing import List, Dict, Tuple, Any, Callable\n",
    "from typing import Optional\n",
    "\n",
    "from fastlane_bot.config import Config\n",
    "from fastlane_bot.helpers import (\n",
    "    TxSubmitHandler,\n",
    "    TxSubmitHandlerBase,\n",
    "    TxReceiptHandler,\n",
    "    TxReceiptHandlerBase,\n",
    "    TxRouteHandler,\n",
    "    TxRouteHandlerBase,\n",
    "    TxHelpers,\n",
    "    TxHelpersBase,\n",
    "    TradeInstruction,\n",
    "    Univ3Calculator,\n",
    "    RouteStruct,\n",
    ")\n",
    "from fastlane_bot.helpers.routehandler import maximize_last_trade_per_tkn #,BalancerInputTooLargeError\n",
    "from fastlane_bot.tools.cpc import ConstantProductCurve as CPC, CPCContainer, T\n",
    "from fastlane_bot.tools.optimizer import CPCArbOptimizer\n",
    "from fastlane_bot.events.interface import QueryInterface\n",
    "from fastlane_bot.modes.pairwise_multi import FindArbitrageMultiPairwise\n",
    "from fastlane_bot.modes.pairwise_single import FindArbitrageSinglePairwise\n",
    "from fastlane_bot.modes.triangle_multi import ArbitrageFinderTriangleMulti\n",
    "from fastlane_bot.modes.triangle_single import ArbitrageFinderTriangleSingle\n",
    "from fastlane_bot.modes.triangle_single_bancor3 import ArbitrageFinderTriangleSingleBancor3\n",
    "from fastlane_bot.modes.triangle_bancor_v3_two_hop import ArbitrageFinderTriangleBancor3TwoHop\n",
    "from fastlane_bot.utils import num_format, log_format, num_format_float\n",
    "\n",
    "\n",
    "exchange_specific_arbs = []\n",
    "\n",
    "for arb in r:\n",
    "\n",
    "    (\n",
    "        best_profit,\n",
    "        best_trade_instructions_df,\n",
    "        best_trade_instructions_dic,\n",
    "        best_src_token,\n",
    "        best_trade_instructions,\n",
    "    ) = arb\n",
    "\n",
    "    # Order the trade instructions\n",
    "    (\n",
    "        ordered_trade_instructions_dct,\n",
    "        tx_in_count,\n",
    "    ) = bot._simple_ordering_by_src_token(\n",
    "        best_trade_instructions_dic, best_src_token\n",
    "    )\n",
    "\n",
    "    # Scale the trade instructions\n",
    "    ordered_scaled_dcts = bot._basic_scaling(\n",
    "        ordered_trade_instructions_dct, best_src_token\n",
    "    )\n",
    "\n",
    "    # Convert the trade instructions\n",
    "    ordered_trade_instructions_objects = bot._convert_trade_instructions(\n",
    "        ordered_scaled_dcts\n",
    "    )\n",
    "\n",
    "    # Create the tx route handler\n",
    "    tx_route_handler = bot.TxRouteHandlerClass(\n",
    "        trade_instructions=ordered_trade_instructions_objects\n",
    "    )\n",
    "\n",
    "    # Aggregate the carbon trades\n",
    "    agg_trade_instructions = (\n",
    "        tx_route_handler.aggregate_carbon_trades(ordered_trade_instructions_objects)\n",
    "        if bot._carbon_in_trade_route(ordered_trade_instructions_objects)\n",
    "        else ordered_trade_instructions_objects\n",
    "    )\n",
    "\n",
    "    # Calculate the trade instructions\n",
    "    #try:\n",
    "    calculated_trade_instructions = tx_route_handler.calculate_trade_outputs(agg_trade_instructions)\n",
    "    #    )\n",
    "    #except Exception:\n",
    "    #except BalancerInputTooLargeError:\n",
    "        #continue\n",
    "\n",
    "    #exchange_specific_arbs.append(calculated_trade_instructions)\n",
    "    # for trade in calculated_trade_instructions:\n",
    "    #     if \"balancer\" not in trade.exchange_name:\n",
    "    #         exchange_specific_arbs.append(calculated_trade_instructions)\n",
    "    exchange_specific_arbs.append(calculated_trade_instructions)\n"
   ]
  },
  {
   "cell_type": "code",
   "execution_count": 9,
   "id": "0c82d20f",
   "metadata": {},
   "outputs": [],
   "source": [
    "#exchange_specific_arbs.sort(key=lambda x: (x[-1].amtout - x[0].amtin), reverse=True)"
   ]
  },
  {
   "cell_type": "code",
   "execution_count": 10,
   "id": "fc63e689",
   "metadata": {},
   "outputs": [
    {
     "name": "stdout",
     "output_type": "stream",
     "text": [
      "Number of arbs:  3\n",
      "trade 1.604022823930623800 WETH-6Cc2 for 2538.734701 USDC-eB48 on carbon_v1\n",
      "trade 2538.734701 USDC-eB48 for 151.821496643532223607 WETH-6Cc2 on uniswap_v2\n",
      "profit = 150.217473819601599807 WETH-6Cc2\n",
      "\n",
      "\n",
      "trade 26.736689 USDC-eB48 for 1.599050631768161897 WETH-6Cc2 on uniswap_v2\n",
      "trade 1.599050631768161897 WETH-6Cc2 for 2530.971707 USDC-eB48 on carbon_v1\n",
      "profit = 2504.235018 USDC-eB48\n",
      "\n",
      "\n",
      "trade 45029.170793 USDC-eB48 for 45021.261344 USDT-1ec7 on carbon_v1\n",
      "trade 45021.261344 USDT-1ec7 for 45017.413216 USDC-eB48 on uniswap_v3\n",
      "profit = -11.757577 USDC-eB48\n",
      "\n",
      "\n"
     ]
    }
   ],
   "source": [
    "print(\"Number of arbs: \",len(exchange_specific_arbs))\n",
    "for arb in exchange_specific_arbs:\n",
    "\n",
    "    for trade in arb:\n",
    "        print(f\"trade {trade.amtin} {trade.tknin} for {trade.amtout} {trade.tknout} on {trade.exchange_name}\")\n",
    "    profit = arb[-1].amtout - arb[0].amtin\n",
    "    print(f\"profit = {profit} {arb[-1].tknout}\\n\\n\")"
   ]
  },
  {
   "cell_type": "code",
   "execution_count": null,
   "id": "b01f2efe",
   "metadata": {},
   "outputs": [],
   "source": []
  },
  {
   "cell_type": "code",
   "execution_count": null,
   "id": "6f460b2e",
   "metadata": {},
   "outputs": [],
   "source": []
  }
 ],
 "metadata": {
  "jupytext": {
   "formats": "ipynb,py:light"
  },
  "kernelspec": {
   "display_name": "Python 3",
   "language": "python",
   "name": "python3"
  },
  "language_info": {
   "codemirror_mode": {
    "name": "ipython",
    "version": 3
   },
   "file_extension": ".py",
   "mimetype": "text/x-python",
   "name": "python",
   "nbconvert_exporter": "python",
   "pygments_lexer": "ipython3",
   "version": "3.10.1"
  }
 },
 "nbformat": 4,
 "nbformat_minor": 5
}

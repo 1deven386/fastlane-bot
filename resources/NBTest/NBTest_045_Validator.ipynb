{
 "cells": [
  {
   "cell_type": "code",
   "execution_count": 1,
   "id": "84fa264b",
   "metadata": {
    "ExecuteTime": {
     "end_time": "2023-07-09T13:54:12.577531Z",
     "start_time": "2023-07-09T13:54:12.514167Z"
    }
   },
   "outputs": [
    {
     "name": "stdout",
     "output_type": "stream",
     "text": [
      "ConstantProductCurve v3.0 (22/Aug/2023)\n",
      "CarbonBot v3-b2.2 (20/June/2023)\n",
      "UniswapV2 v0.0.1 (2023-07-03)\n",
      "UniswapV3 v0.0.1 (2023-07-03)\n",
      "SushiswapV2 v0.0.1 (2023-07-03)\n",
      "CarbonV1 v0.0.1 (2023-07-03)\n",
      "BancorV3 v0.0.1 (2023-07-03)\n",
      "imported m, np, pd, plt, os, sys, decimal; defined iseq, raises, require\n"
     ]
    },
    {
     "name": "stderr",
     "output_type": "stream",
     "text": [
      "C:\\Users\\Kveen\\AppData\\Local\\Temp\\ipykernel_17988\\1475092902.py:28: MatplotlibDeprecationWarning: The seaborn styles shipped by Matplotlib are deprecated since 3.6, as they no longer correspond to the styles shipped by seaborn. However, they will remain available as 'seaborn-v0_8-<style>'. Alternatively, directly use the seaborn API instead.\n",
      "  plt.style.use('seaborn-dark')\n"
     ]
    },
    {
     "name": "stdout",
     "output_type": "stream",
     "text": [
      "Version = 3-b2.2 [requirements >= 3.0 is met]\n"
     ]
    }
   ],
   "source": [
    "# coding=utf-8\n",
    "\"\"\"\n",
    "This module contains the tests for the exchanges classes\n",
    "\"\"\"\n",
    "from fastlane_bot import Bot, Config\n",
    "from fastlane_bot.bot import CarbonBot\n",
    "from fastlane_bot.tools.cpc import ConstantProductCurve\n",
    "from fastlane_bot.tools.cpc import ConstantProductCurve as CPC\n",
    "from fastlane_bot.events.exchanges import UniswapV2, UniswapV3, SushiswapV2, CarbonV1, BancorV3\n",
    "from fastlane_bot.events.interface import QueryInterface\n",
    "from fastlane_bot.helpers.poolandtokens import PoolAndTokens\n",
    "from fastlane_bot.helpers import TradeInstruction, TxReceiptHandler, TxRouteHandler, TxSubmitHandler, TxHelpers, TxHelper\n",
    "from fastlane_bot.events.managers.manager import Manager\n",
    "from fastlane_bot.events.interface import QueryInterface\n",
    "from joblib import Parallel, delayed\n",
    "import pytest\n",
    "import math\n",
    "import json\n",
    "print(\"{0.__name__} v{0.__VERSION__} ({0.__DATE__})\".format(CPC))\n",
    "print(\"{0.__name__} v{0.__VERSION__} ({0.__DATE__})\".format(Bot))\n",
    "print(\"{0.__name__} v{0.__VERSION__} ({0.__DATE__})\".format(UniswapV2))\n",
    "print(\"{0.__name__} v{0.__VERSION__} ({0.__DATE__})\".format(UniswapV3))\n",
    "print(\"{0.__name__} v{0.__VERSION__} ({0.__DATE__})\".format(SushiswapV2))\n",
    "print(\"{0.__name__} v{0.__VERSION__} ({0.__DATE__})\".format(CarbonV1))\n",
    "print(\"{0.__name__} v{0.__VERSION__} ({0.__DATE__})\".format(BancorV3))\n",
    "from fastlane_bot.testing import *\n",
    "from fastlane_bot.modes import triangle_single_bancor3\n",
    "plt.style.use('seaborn-dark')\n",
    "plt.rcParams['figure.figsize'] = [12,6]\n",
    "from fastlane_bot import __VERSION__\n",
    "require(\"3.0\", __VERSION__)"
   ]
  },
  {
   "cell_type": "markdown",
   "id": "4c4e2283",
   "metadata": {},
   "source": [
    "# Multi Mode [NB039]"
   ]
  },
  {
   "cell_type": "code",
   "execution_count": 2,
   "id": "a51e5ec2",
   "metadata": {
    "ExecuteTime": {
     "end_time": "2023-07-09T13:54:13.771032Z",
     "start_time": "2023-07-09T13:54:12.517536Z"
    }
   },
   "outputs": [
    {
     "name": "stderr",
     "output_type": "stream",
     "text": [
      "2023-08-27 16:16:24,270 [fastlane:INFO] - Time taken to add initial pools: 0.09841632843017578\n",
      "2023-08-27 16:16:24,274 [fastlane:INFO] - Initializing the bot...\n",
      "2023-08-27 16:16:24,438 [fastlane:INFO] - Removed 3242 unmapped uniswap_v2/sushi pools. 1897 uniswap_v2/sushi pools remaining\n",
      "2023-08-27 16:16:24,438 [fastlane:INFO] - Unmapped uniswap_v2/sushi pools:\n",
      "2023-08-27 16:16:24,594 [fastlane:INFO] - uniswap_v3: 0\n",
      "2023-08-27 16:16:24,595 [fastlane:INFO] - uniswap_v2: 3242\n",
      "2023-08-27 16:16:24,596 [fastlane:INFO] - sushiswap_v2: 0\n",
      "2023-08-27 16:16:24,599 [fastlane:INFO] - uniswap_v3: 636\n",
      "2023-08-27 16:16:24,599 [fastlane:INFO] - sushiswap_v2: 78\n",
      "2023-08-27 16:16:24,600 [fastlane:INFO] - uniswap_v2: 0\n",
      "2023-08-27 16:16:24,600 [fastlane:INFO] - bancor_v2: 0\n",
      "2023-08-27 16:16:24,601 [fastlane:INFO] - bancor_v3: 34\n",
      "2023-08-27 16:16:24,601 [fastlane:INFO] - carbon_v1: 220\n",
      "2023-08-27 16:16:24,625 [fastlane:INFO] - uniswap_v3_zero_liquidity_pools: 858\n",
      "2023-08-27 16:16:24,625 [fastlane:INFO] - sushiswap_v2_zero_liquidity_pools: 34\n",
      "2023-08-27 16:16:24,626 [fastlane:INFO] - uniswap_v2_zero_liquidity_pools: 0\n",
      "2023-08-27 16:16:24,627 [fastlane:INFO] - bancor_v2_zero_liquidity_pools: 0\n",
      "2023-08-27 16:16:24,627 [fastlane:INFO] - bancor_v3_zero_liquidity_pools: 37\n",
      "2023-08-27 16:16:24,627 [fastlane:INFO] - carbon_v1_zero_liquidity_pools: 0\n",
      "2023-08-27 16:16:24,628 [fastlane:INFO] - Removed 0 unsupported exchanges. 968 pools remaining\n",
      "2023-08-27 16:16:24,629 [fastlane:INFO] - Pools remaining per exchange:\n",
      "2023-08-27 16:16:24,630 [fastlane:INFO] - bancor_v3: 34\n",
      "2023-08-27 16:16:24,631 [fastlane:INFO] - sushiswap_v2: 78\n",
      "2023-08-27 16:16:24,631 [fastlane:INFO] - uniswap_v2: 0\n",
      "2023-08-27 16:16:24,632 [fastlane:INFO] - carbon_v1: 220\n",
      "2023-08-27 16:16:24,632 [fastlane:INFO] - uniswap_v3: 636\n"
     ]
    }
   ],
   "source": [
    "C = cfg = Config.new(config=Config.CONFIG_MAINNET)\n",
    "C.DEFAULT_MIN_PROFIT_BNT = 0.02\n",
    "C.DEFAULT_MIN_PROFIT = 0.02\n",
    "cfg.DEFAULT_MIN_PROFIT_BNT = 0.02\n",
    "cfg.DEFAULT_MIN_PROFIT = 0.02\n",
    "assert (C.NETWORK == C.NETWORK_MAINNET)\n",
    "assert (C.PROVIDER == C.PROVIDER_ALCHEMY)\n",
    "setup_bot = CarbonBot(ConfigObj=C)\n",
    "pools = None\n",
    "with open('fastlane_bot/data/tests/latest_pool_data_testing.json') as f:\n",
    "    pools = json.load(f)\n",
    "pools = [pool for pool in pools]\n",
    "pools[0]\n",
    "static_pools = pools\n",
    "state = pools\n",
    "exchanges = list({ex['exchange_name'] for ex in state})\n",
    "db = QueryInterface(state=state, ConfigObj=C, exchanges=exchanges)\n",
    "setup_bot.db = db\n",
    "\n",
    "static_pool_data_filename = \"static_pool_data\"\n",
    "\n",
    "static_pool_data = pd.read_csv(f\"fastlane_bot/data/{static_pool_data_filename}.csv\", low_memory=False)\n",
    "    \n",
    "uniswap_v2_event_mappings = pd.read_csv(\"fastlane_bot/data/uniswap_v2_event_mappings.csv\", low_memory=False)\n",
    "        \n",
    "tokens = pd.read_csv(\"fastlane_bot/data/tokens.csv\", low_memory=False)\n",
    "        \n",
    "exchanges = \"carbon_v1,bancor_v3,uniswap_v3,uniswap_v2,sushiswap_v2\"\n",
    "\n",
    "exchanges = exchanges.split(\",\")\n",
    "\n",
    "\n",
    "alchemy_max_block_fetch = 20\n",
    "static_pool_data[\"cid\"] = [\n",
    "        cfg.w3.keccak(text=f\"{row['descr']}\").hex()\n",
    "        for index, row in static_pool_data.iterrows()\n",
    "    ]\n",
    "# Filter out pools that are not in the supported exchanges\n",
    "static_pool_data = [\n",
    "    row for index, row in static_pool_data.iterrows()\n",
    "    if row[\"exchange_name\"] in exchanges\n",
    "]\n",
    "\n",
    "static_pool_data = pd.DataFrame(static_pool_data)\n",
    "static_pool_data['exchange_name'].unique()\n",
    "# Initialize data fetch manager\n",
    "mgr = Manager(\n",
    "    web3=cfg.w3,\n",
    "    cfg=cfg,\n",
    "    pool_data=static_pool_data.to_dict(orient=\"records\"),\n",
    "    SUPPORTED_EXCHANGES=exchanges,\n",
    "    alchemy_max_block_fetch=alchemy_max_block_fetch,\n",
    "    uniswap_v2_event_mappings=uniswap_v2_event_mappings,\n",
    "    tokens=tokens.to_dict(orient=\"records\"),\n",
    ")\n",
    "\n",
    "# Add initial pools for each row in the static_pool_data\n",
    "start_time = time.time()\n",
    "Parallel(n_jobs=-1, backend=\"threading\")(\n",
    "    delayed(mgr.add_pool_to_exchange)(row) for row in mgr.pool_data\n",
    ")\n",
    "cfg.logger.info(f\"Time taken to add initial pools: {time.time() - start_time}\")\n",
    "\n",
    "# check if any duplicate cid's exist in the pool data\n",
    "mgr.deduplicate_pool_data()\n",
    "cids = [pool[\"cid\"] for pool in mgr.pool_data]\n",
    "assert len(cids) == len(set(cids)), \"duplicate cid's exist in the pool data\"\n",
    "def init_bot(mgr: Manager) -> CarbonBot:\n",
    "    \"\"\"\n",
    "    Initializes the bot.\n",
    "\n",
    "    Parameters\n",
    "    ----------\n",
    "    mgr : Manager\n",
    "        The manager object.\n",
    "\n",
    "    Returns\n",
    "    -------\n",
    "    CarbonBot\n",
    "        The bot object.\n",
    "    \"\"\"\n",
    "    mgr.cfg.logger.info(\"Initializing the bot...\")\n",
    "    bot = CarbonBot(ConfigObj=mgr.cfg)\n",
    "    bot.db = db\n",
    "    bot.db.mgr = mgr\n",
    "    assert isinstance(\n",
    "        bot.db, QueryInterface\n",
    "    ), \"QueryInterface not initialized correctly\"\n",
    "    return bot\n",
    "bot = init_bot(mgr)\n",
    "# add data cleanup steps from main.py\n",
    "bot.db.handle_token_key_cleanup()\n",
    "bot.db.remove_unmapped_uniswap_v2_pools()\n",
    "bot.db.remove_zero_liquidity_pools()\n",
    "bot.db.remove_unsupported_exchanges()\n",
    "tokens = bot.db.get_tokens()\n",
    "ADDRDEC = {t.key: (t.address, int(t.decimals)) for t in tokens if not math.isnan(t.decimals)}\n",
    "flashloan_tokens = bot.setup_flashloan_tokens(None)\n",
    "CCm = bot.setup_CCm(None)\n",
    "pools = db.get_pool_data_with_tokens()\n",
    "\n",
    "arb_mode = \"multi\""
   ]
  },
  {
   "cell_type": "markdown",
   "id": "a70cf16f",
   "metadata": {},
   "source": [
    "## Test_MIN_PROFIT"
   ]
  },
  {
   "cell_type": "code",
   "execution_count": 3,
   "id": "c8f41237",
   "metadata": {},
   "outputs": [],
   "source": [
    "assert(cfg.DEFAULT_MIN_PROFIT_BNT <= 0.02), f\"[TestMultiMode], DEFAULT_MIN_PROFIT_BNT must be <= 0.02 for this Notebook to run, currently set to {cfg.DEFAULT_MIN_PROFIT_BNT}\"\n",
    "assert(C.DEFAULT_MIN_PROFIT_BNT <= 0.02), f\"[TestMultiMode], DEFAULT_MIN_PROFIT_BNT must be <= 0.02 for this Notebook to run, currently set to {cfg.DEFAULT_MIN_PROFIT_BNT}\""
   ]
  },
  {
   "cell_type": "markdown",
   "id": "eddfdea7",
   "metadata": {},
   "source": [
    "## Test_validator_in_out"
   ]
  },
  {
   "cell_type": "code",
   "execution_count": 4,
   "id": "aaaf7423",
   "metadata": {
    "ExecuteTime": {
     "end_time": "2023-07-09T13:54:15.356301Z",
     "start_time": "2023-07-09T13:54:15.352256Z"
    }
   },
   "outputs": [],
   "source": [
    "arb_finder = bot._get_arb_finder(\"multi\")\n",
    "assert arb_finder.__name__ == \"FindArbitrageMultiPairwise\", f\"[TestMultiMode] Expected arb_finder class name name = FindArbitrageMultiPairwise, found {arb_finder.__name__}\""
   ]
  },
  {
   "cell_type": "markdown",
   "id": "96ef3bf0",
   "metadata": {},
   "source": [
    "## Test_validator_multi"
   ]
  },
  {
   "cell_type": "code",
   "execution_count": 5,
   "id": "db7ec9ec",
   "metadata": {},
   "outputs": [],
   "source": [
    "arb_finder = bot._get_arb_finder(\"multi\")\n",
    "finder = arb_finder(\n",
    "            flashloan_tokens=flashloan_tokens,\n",
    "            CCm=CCm,\n",
    "            mode=\"bothin\",\n",
    "            result=bot.AO_CANDIDATES,\n",
    "            ConfigObj=bot.ConfigObj,\n",
    "        )\n",
    "r = finder.find_arbitrage()\n",
    "\n",
    "arb_opp = r[0]\n",
    "\n",
    "validated = bot.validate_optimizer_trades(arb_opp=arb_opp, arb_mode=\"multi\", arb_finder=finder)\n",
    "\n",
    "\n",
    "\n",
    "assert arb_opp == validated\n"
   ]
  },
  {
   "cell_type": "markdown",
   "id": "5b195f52",
   "metadata": {},
   "source": [
    "## Test_validator_single"
   ]
  },
  {
   "cell_type": "code",
   "execution_count": 8,
   "id": "78d0dbc1",
   "metadata": {},
   "outputs": [],
   "source": [
    "arb_mode=\"single\"\n",
    "arb_finder = bot._get_arb_finder(arb_mode)\n",
    "finder = arb_finder(\n",
    "            flashloan_tokens=flashloan_tokens,\n",
    "            CCm=CCm,\n",
    "            mode=\"bothin\",\n",
    "            result=bot.AO_CANDIDATES,\n",
    "            ConfigObj=bot.ConfigObj,\n",
    "        )\n",
    "\n",
    "arb_opp = 111\n",
    "\n",
    "validated = bot.validate_optimizer_trades(arb_opp=arb_opp, arb_mode=arb_mode, arb_finder=finder)\n",
    "\n",
    "\n",
    "assert arb_opp == validated"
   ]
  },
  {
   "cell_type": "markdown",
   "id": "a1e72f0a",
   "metadata": {},
   "source": [
    "## Test_validator_bancor_v3"
   ]
  },
  {
   "cell_type": "code",
   "execution_count": 10,
   "id": "11cdbbd9",
   "metadata": {},
   "outputs": [
    {
     "name": "stderr",
     "output_type": "stream",
     "text": [
      "2023-08-27 16:20:52,322 [fastlane:WARNING] - base_exchange must be bancor_v3 for single_triangle_bancor3, setting it to bancor_v3\n",
      "2023-08-27 16:20:52,323 [fastlane:INFO] - flashloan_tokens for arb_mode=single_triangle_bancor3 will be overwritten. \n",
      "2023-08-27 16:20:52,323 [fastlane:INFO] - limiting flashloan_tokens to ['DAI-1d0F', 'USDC-eB48', 'USDT-1ec7', 'WETH-6Cc2', 'WBTC-C599']\n",
      "c:\\Users\\Kveen\\PycharmProjects\\fastlane-bot\\resources\\NBTest\\fastlane_bot\\tools\\optimizer\\cpcarboptimizer.py:543: RuntimeWarning: divide by zero encountered in scalar divide\n",
      "  return self.p_optimal.get(tknb, 1) / self.p_optimal.get(tknq, 1)\n",
      "c:\\Users\\Kveen\\PycharmProjects\\fastlane-bot\\resources\\NBTest\\fastlane_bot\\tools\\optimizer\\cpcarboptimizer.py:543: RuntimeWarning: divide by zero encountered in scalar divide\n",
      "  return self.p_optimal.get(tknb, 1) / self.p_optimal.get(tknq, 1)\n",
      "c:\\Users\\Kveen\\PycharmProjects\\fastlane-bot\\resources\\NBTest\\fastlane_bot\\tools\\optimizer\\cpcarboptimizer.py:543: RuntimeWarning: divide by zero encountered in scalar divide\n",
      "  return self.p_optimal.get(tknb, 1) / self.p_optimal.get(tknq, 1)\n",
      "c:\\Users\\Kveen\\PycharmProjects\\fastlane-bot\\resources\\NBTest\\fastlane_bot\\tools\\optimizer\\cpcarboptimizer.py:543: RuntimeWarning: divide by zero encountered in scalar divide\n",
      "  return self.p_optimal.get(tknb, 1) / self.p_optimal.get(tknq, 1)\n",
      "c:\\Users\\Kveen\\PycharmProjects\\fastlane-bot\\resources\\NBTest\\fastlane_bot\\tools\\optimizer\\cpcarboptimizer.py:543: RuntimeWarning: divide by zero encountered in scalar divide\n",
      "  return self.p_optimal.get(tknb, 1) / self.p_optimal.get(tknq, 1)\n",
      "c:\\Users\\Kveen\\PycharmProjects\\fastlane-bot\\resources\\NBTest\\fastlane_bot\\tools\\optimizer\\cpcarboptimizer.py:543: RuntimeWarning: divide by zero encountered in scalar divide\n",
      "  return self.p_optimal.get(tknb, 1) / self.p_optimal.get(tknq, 1)\n",
      "c:\\Users\\Kveen\\PycharmProjects\\fastlane-bot\\resources\\NBTest\\fastlane_bot\\tools\\optimizer\\cpcarboptimizer.py:543: RuntimeWarning: divide by zero encountered in scalar divide\n",
      "  return self.p_optimal.get(tknb, 1) / self.p_optimal.get(tknq, 1)\n",
      "c:\\Users\\Kveen\\PycharmProjects\\fastlane-bot\\resources\\NBTest\\fastlane_bot\\tools\\optimizer\\cpcarboptimizer.py:543: RuntimeWarning: divide by zero encountered in scalar divide\n",
      "  return self.p_optimal.get(tknb, 1) / self.p_optimal.get(tknq, 1)\n"
     ]
    }
   ],
   "source": [
    "arb_mode=\"bancor_v3\"\n",
    "\n",
    "arb_finder = bot._get_arb_finder(arb_mode)\n",
    "finder = arb_finder(\n",
    "            flashloan_tokens=flashloan_tokens,\n",
    "            CCm=CCm,\n",
    "            mode=\"bothin\",\n",
    "            result=bot.AO_CANDIDATES,\n",
    "            ConfigObj=bot.ConfigObj,\n",
    "        )\n",
    "r = finder.find_arbitrage()\n",
    "\n",
    "arb_opp = None\n",
    "\n",
    "for arb in r:\n",
    "    has_carbon = False\n",
    "    for trade in arb[2]:\n",
    "        if '-' in trade['cid']:\n",
    "            has_carbon = True\n",
    "    \n",
    "    if not has_carbon:\n",
    "        arb_opp = arb\n",
    "        break\n",
    "\n",
    "validated = bot.validate_optimizer_trades(arb_opp=arb_opp, arb_mode=arb_mode, arb_finder=finder)\n",
    "\n",
    "assert arb_opp != validated"
   ]
  },
  {
   "cell_type": "markdown",
   "id": "7b3dca20",
   "metadata": {},
   "source": [
    "## Test_validator_multi_triangle"
   ]
  },
  {
   "cell_type": "code",
   "execution_count": null,
   "id": "e8ae63d9",
   "metadata": {},
   "outputs": [],
   "source": [
    "arb_mode=\"multi_triangle\"\n",
    "arb_finder = bot._get_arb_finder(arb_mode)\n",
    "finder = arb_finder(\n",
    "            flashloan_tokens=flashloan_tokens,\n",
    "            CCm=CCm,\n",
    "            mode=\"bothin\",\n",
    "            result=bot.AO_CANDIDATES,\n",
    "            ConfigObj=bot.ConfigObj,\n",
    "        )\n",
    "\n",
    "arb_opp = 1191\n",
    "\n",
    "validated = bot.validate_optimizer_trades(arb_opp=arb_opp, arb_mode=arb_mode, arb_finder=finder)\n",
    "\n",
    "\n",
    "\n",
    "assert arb_opp == validated"
   ]
  }
 ],
 "metadata": {
  "kernelspec": {
   "display_name": "Python 3 (ipykernel)",
   "language": "python",
   "name": "python3"
  },
  "language_info": {
   "codemirror_mode": {
    "name": "ipython",
    "version": 3
   },
   "file_extension": ".py",
   "mimetype": "text/x-python",
   "name": "python",
   "nbconvert_exporter": "python",
   "pygments_lexer": "ipython3",
   "version": "3.10.1"
  }
 },
 "nbformat": 4,
 "nbformat_minor": 5
}

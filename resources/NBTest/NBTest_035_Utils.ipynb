{
 "cells": [
  {
   "cell_type": "code",
   "execution_count": 11,
   "id": "5275df16",
   "metadata": {
    "ExecuteTime": {
     "end_time": "2023-07-03T21:17:13.780443Z",
     "start_time": "2023-07-03T21:17:13.774471Z"
    }
   },
   "outputs": [
    {
     "name": "stdout",
     "output_type": "stream",
     "text": [
      "ConstantProductCurve v2.10.1 (07/May/2023)\n",
      "CarbonBot v3-b2.2 (20/June/2023)\n",
      "UniswapV2Pool v0.0.1 (2023-07-03)\n",
      "UniswapV3Pool v0.0.1 (2023-07-03)\n",
      "SushiswapV2Pool v0.0.1 (2023-07-03)\n",
      "CarbonV1Pool v0.0.1 (2023-07-03)\n",
      "BancorV3Pool v0.0.1 (2023-07-03)\n",
      "Version = 3-b2.2 [requirements >= 3.0 is met]\n"
     ]
    },
    {
     "name": "stderr",
     "output_type": "stream",
     "text": [
      "/var/folders/rt/qnj8r6yd6131ccxkw_k9d9gc0000gn/T/ipykernel_75114/2385991179.py:25: MatplotlibDeprecationWarning: The seaborn styles shipped by Matplotlib are deprecated since 3.6, as they no longer correspond to the styles shipped by seaborn. However, they will remain available as 'seaborn-v0_8-<style>'. Alternatively, directly use the seaborn API instead.\n",
      "  plt.style.use('seaborn-dark')\n"
     ]
    }
   ],
   "source": [
    "# coding=utf-8\n",
    "\"\"\"\n",
    "This module contains the tests for the exchanges classes\n",
    "\"\"\"\n",
    "\n",
    "from fastlane_bot import Bot\n",
    "from fastlane_bot.events.pools import SushiswapV2Pool, UniswapV2Pool, UniswapV3Pool, BancorV3Pool, CarbonV1Pool\n",
    "from fastlane_bot.tools.cpc import ConstantProductCurve as CPC\n",
    "from typing import List\n",
    "from web3.datastructures import AttributeDict\n",
    "from web3.types import HexBytes\n",
    "import pytest\n",
    "\n",
    "from fastlane_bot.events.utils import filter_latest_events, complex_handler\n",
    "\n",
    "print(\"{0.__name__} v{0.__VERSION__} ({0.__DATE__})\".format(CPC))\n",
    "print(\"{0.__name__} v{0.__VERSION__} ({0.__DATE__})\".format(Bot))\n",
    "print(\"{0.__name__} v{0.__VERSION__} ({0.__DATE__})\".format(UniswapV2Pool))\n",
    "print(\"{0.__name__} v{0.__VERSION__} ({0.__DATE__})\".format(UniswapV3Pool))\n",
    "print(\"{0.__name__} v{0.__VERSION__} ({0.__DATE__})\".format(SushiswapV2Pool))\n",
    "print(\"{0.__name__} v{0.__VERSION__} ({0.__DATE__})\".format(CarbonV1Pool))\n",
    "print(\"{0.__name__} v{0.__VERSION__} ({0.__DATE__})\".format(BancorV3Pool))\n",
    "from fastlane_bot.testing import *\n",
    "\n",
    "plt.style.use('seaborn-dark')\n",
    "plt.rcParams['figure.figsize'] = [12,6]\n",
    "from fastlane_bot import __VERSION__\n",
    "require(\"3.0\", __VERSION__)"
   ]
  },
  {
   "cell_type": "code",
   "execution_count": 12,
   "id": "0f9e7cbf",
   "metadata": {
    "ExecuteTime": {
     "end_time": "2023-07-03T21:17:13.782117Z",
     "start_time": "2023-07-03T21:17:13.780734Z"
    }
   },
   "outputs": [],
   "source": [
    "\n",
    "class MockManager():\n",
    "\n",
    "    def pool_type_from_exchange_name(self, exchange_name):\n",
    "\n",
    "        class MockPoolType():\n",
    "\n",
    "            def unique_key(self):\n",
    "                return 'address'\n",
    "        return MockPoolType()\n",
    "\n",
    "    def exchange_name_from_event(self, event):\n",
    "        return 'uniswap_v2'\n",
    "mocked_mgr = MockManager()"
   ]
  },
  {
   "cell_type": "code",
   "execution_count": 13,
   "id": "2201b3a4",
   "metadata": {
    "ExecuteTime": {
     "end_time": "2023-07-03T21:17:13.804950Z",
     "start_time": "2023-07-03T21:17:13.783743Z"
    }
   },
   "outputs": [],
   "source": [
    "event1 = AttributeDict({'args': {'reserve0': 100, 'reserve1': 100}, 'event': 'Sync', 'address': '0xabc', 'blockNumber': 5, 'transactionIndex': 0, 'logIndex': 0})\n",
    "event2 = AttributeDict({'args': {'reserve0': 200, 'reserve1': 200}, 'event': 'Sync', 'address': '0xabc', 'blockNumber': 10, 'transactionIndex': 1, 'logIndex': 1})\n",
    "event3 = AttributeDict({'args': {'reserve0': 300, 'reserve1': 300}, 'event': 'Sync', 'address': '0xdef', 'blockNumber': 7, 'transactionIndex': 1, 'logIndex': 1})\n",
    "mock_events = [[event1, event2, event3]]"
   ]
  },
  {
   "cell_type": "markdown",
   "source": [
    "## test_filter_latest_events"
   ],
   "metadata": {
    "collapsed": false
   }
  },
  {
   "cell_type": "code",
   "execution_count": 14,
   "id": "0f76726b",
   "metadata": {
    "ExecuteTime": {
     "end_time": "2023-07-03T21:17:13.809333Z",
     "start_time": "2023-07-03T21:17:13.787241Z"
    }
   },
   "outputs": [],
   "source": [
    "result = filter_latest_events(mocked_mgr, mock_events)\n",
    "assert (len(result) == len({event['address'] for event in result}))\n",
    "pool_address = result[0]['address']\n",
    "pool_events = [event for event in mock_events[0] if (event['address'] == pool_address)]"
   ]
  },
  {
   "cell_type": "markdown",
   "source": [
    "## test_complex_handler"
   ],
   "metadata": {
    "collapsed": false
   }
  },
  {
   "cell_type": "code",
   "execution_count": 15,
   "id": "d5ea99ea",
   "metadata": {
    "ExecuteTime": {
     "end_time": "2023-07-03T21:17:13.809821Z",
     "start_time": "2023-07-03T21:17:13.792239Z"
    }
   },
   "outputs": [],
   "source": [
    "attribute_dict = AttributeDict({'a': 1, 'b': 2})\n",
    "assert (complex_handler(attribute_dict) == {'a': 1, 'b': 2})\n",
    "hex_bytes = HexBytes(b'hello')\n",
    "assert (complex_handler(hex_bytes) == '0x68656c6c6f')\n",
    "dictionary = {'a': 1, 'b': HexBytes(b'hello'), 'c': AttributeDict({'d': 4})}\n",
    "assert (complex_handler(dictionary) == {'a': 1, 'b': '0x68656c6c6f', 'c': {'d': 4}})\n",
    "list_ = [1, HexBytes(b'hello'), AttributeDict({'d': 4})]\n",
    "assert (complex_handler(list_) == [1, '0x68656c6c6f', {'d': 4}])\n",
    "set_ = {1, 2, 3}\n",
    "assert (complex_handler(set_) == [1, 2, 3])\n",
    "assert (complex_handler(123) == 123)"
   ]
  }
 ],
 "metadata": {
  "jupytext": {
   "formats": "ipynb,auto:light"
  }
 },
 "nbformat": 4,
 "nbformat_minor": 5
}

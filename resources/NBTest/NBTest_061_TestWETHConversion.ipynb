{
 "cells": [
  {
   "cell_type": "code",
   "execution_count": 1,
   "id": "84fa264b",
   "metadata": {
    "ExecuteTime": {
     "end_time": "2023-07-09T13:54:12.577531Z",
     "start_time": "2023-07-09T13:54:12.514167Z"
    }
   },
   "outputs": [
    {
     "name": "stdout",
     "output_type": "stream",
     "text": [
      "ConstantProductCurve v3.3.1 (05/Oct/2023)\n",
      "CarbonBot v3-b2.2 (20/June/2023)\n",
      "UniswapV2 v0.0.2 (2023-08-27)\n",
      "UniswapV3 v0.0.2 (2023-08-27)\n",
      "SushiswapV2 v0.0.2 (2023-08-27)\n",
      "CarbonV1 v0.0.2 (2023-08-27)\n",
      "BancorV3 v0.0.2 (2023-08-27)\n",
      "imported m, np, pd, plt, os, sys, decimal; defined iseq, raises, require\n",
      "Version = 3-b2.2 [requirements >= 3.0 is met]\n"
     ]
    }
   ],
   "source": [
    "# coding=utf-8\n",
    "\"\"\"\n",
    "This module contains the tests for the exchanges classes\n",
    "\"\"\"\n",
    "from fastlane_bot import Bot, Config\n",
    "from fastlane_bot.bot import CarbonBot\n",
    "from fastlane_bot.tools.cpc import ConstantProductCurve\n",
    "from fastlane_bot.tools.cpc import ConstantProductCurve as CPC\n",
    "from fastlane_bot.events.exchanges import UniswapV2, UniswapV3, SushiswapV2, CarbonV1, BancorV3\n",
    "from fastlane_bot.events.interface import QueryInterface\n",
    "from fastlane_bot.helpers.poolandtokens import PoolAndTokens\n",
    "from fastlane_bot.helpers import TradeInstruction, TxReceiptHandler, TxRouteHandler, TxSubmitHandler, TxHelpers, TxHelper\n",
    "from fastlane_bot.events.managers.manager import Manager\n",
    "from fastlane_bot.events.interface import QueryInterface\n",
    "import decimal\n",
    "import random\n",
    "import time\n",
    "from _decimal import Decimal\n",
    "from dataclasses import dataclass, asdict, field\n",
    "from datetime import datetime\n",
    "from typing import List, Dict, Tuple, Any, Callable\n",
    "from typing import Optional\n",
    "\n",
    "from fastlane_bot.config import Config\n",
    "from fastlane_bot.helpers import (\n",
    "    TxSubmitHandler,\n",
    "    TxSubmitHandlerBase,\n",
    "    TxReceiptHandler,\n",
    "    TxReceiptHandlerBase,\n",
    "    TxRouteHandler,\n",
    "    TxRouteHandlerBase,\n",
    "    TxHelpers,\n",
    "    TxHelpersBase,\n",
    "    TradeInstruction,\n",
    "    Univ3Calculator,\n",
    "    RouteStruct,\n",
    ")\n",
    "from fastlane_bot.helpers.routehandler import maximize_last_trade_per_tkn #,BalancerInputTooLargeError\n",
    "from fastlane_bot.tools.cpc import ConstantProductCurve as CPC, CPCContainer, T\n",
    "from fastlane_bot.tools.optimizer import CPCArbOptimizer\n",
    "from fastlane_bot.events.interface import QueryInterface\n",
    "from fastlane_bot.modes.pairwise_multi import FindArbitrageMultiPairwise\n",
    "from fastlane_bot.modes.pairwise_single import FindArbitrageSinglePairwise\n",
    "from fastlane_bot.modes.triangle_multi import ArbitrageFinderTriangleMulti\n",
    "from fastlane_bot.modes.triangle_single import ArbitrageFinderTriangleSingle\n",
    "from fastlane_bot.modes.triangle_single_bancor3 import ArbitrageFinderTriangleSingleBancor3\n",
    "from fastlane_bot.modes.triangle_bancor_v3_two_hop import ArbitrageFinderTriangleBancor3TwoHop\n",
    "from fastlane_bot.utils import num_format, log_format, num_format_float\n",
    "from joblib import Parallel, delayed\n",
    "from typing import List, Dict\n",
    "import pytest\n",
    "import math\n",
    "import json\n",
    "print(\"{0.__name__} v{0.__VERSION__} ({0.__DATE__})\".format(CPC))\n",
    "print(\"{0.__name__} v{0.__VERSION__} ({0.__DATE__})\".format(Bot))\n",
    "print(\"{0.__name__} v{0.__VERSION__} ({0.__DATE__})\".format(UniswapV2))\n",
    "print(\"{0.__name__} v{0.__VERSION__} ({0.__DATE__})\".format(UniswapV3))\n",
    "print(\"{0.__name__} v{0.__VERSION__} ({0.__DATE__})\".format(SushiswapV2))\n",
    "print(\"{0.__name__} v{0.__VERSION__} ({0.__DATE__})\".format(CarbonV1))\n",
    "print(\"{0.__name__} v{0.__VERSION__} ({0.__DATE__})\".format(BancorV3))\n",
    "from fastlane_bot.testing import *\n",
    "from fastlane_bot.modes import triangle_single_bancor3\n",
    "#plt.style.use('seaborn-dark')\n",
    "plt.rcParams['figure.figsize'] = [12,6]\n",
    "from fastlane_bot import __VERSION__\n",
    "require(\"3.0\", __VERSION__)"
   ]
  },
  {
   "cell_type": "code",
   "execution_count": 2,
   "id": "d8e0b7b0",
   "metadata": {},
   "outputs": [
    {
     "name": "stderr",
     "output_type": "stream",
     "text": [
      "2023-11-21 11:24:46,954 [fastlane:INFO] - \n",
      "2023-11-21 11:24:46,955 [fastlane:INFO] - **********************************************\n",
      "2023-11-21 11:24:46,955 [fastlane:INFO] - The logging path is set to: logs/20231121-112446\\bot.log\n",
      "2023-11-21 11:24:46,955 [fastlane:INFO] - **********************************************\n",
      "2023-11-21 11:24:46,956 [fastlane:INFO] - \n"
     ]
    },
    {
     "name": "stdout",
     "output_type": "stream",
     "text": [
      "path=fastlane_bot\\data\\tests\\latest_pool_data_testing_balancer.json\n"
     ]
    },
    {
     "name": "stderr",
     "output_type": "stream",
     "text": [
      "2023-11-21 11:24:49,713 [fastlane:INFO] - Retrieved 208 carbon pairs from contract\n",
      "2023-11-21 11:24:51,281 [fastlane:INFO] - Time taken to add initial pools: 0.10045790672302246\n",
      "2023-11-21 11:24:51,286 [fastlane:INFO] - Initializing the bot...\n",
      "2023-11-21 11:24:51,492 [fastlane:INFO] - uniswap_v3: 470\n",
      "2023-11-21 11:24:51,493 [fastlane:INFO] - sushiswap_v2: 63\n",
      "2023-11-21 11:24:51,494 [fastlane:INFO] - uniswap_v2: 708\n",
      "2023-11-21 11:24:51,494 [fastlane:INFO] - bancor_v2: 0\n",
      "2023-11-21 11:24:51,495 [fastlane:INFO] - bancor_v3: 27\n",
      "2023-11-21 11:24:51,495 [fastlane:INFO] - bancor_pol: 51\n",
      "2023-11-21 11:24:51,497 [fastlane:INFO] - carbon_v1: 185\n",
      "2023-11-21 11:24:51,497 [fastlane:INFO] - pancakeswap_v2: 0\n",
      "2023-11-21 11:24:51,497 [fastlane:INFO] - pancakeswap_v3: 0\n",
      "2023-11-21 11:24:51,497 [fastlane:INFO] - balancer: 63\n",
      "2023-11-21 11:24:51,628 [fastlane:INFO] - uniswap_v3_zero_liquidity_pools: 1024\n",
      "2023-11-21 11:24:51,629 [fastlane:INFO] - sushiswap_v2_zero_liquidity_pools: 39\n",
      "2023-11-21 11:24:51,630 [fastlane:INFO] - uniswap_v2_zero_liquidity_pools: 2544\n",
      "2023-11-21 11:24:51,631 [fastlane:INFO] - bancor_v2_zero_liquidity_pools: 99\n",
      "2023-11-21 11:24:51,632 [fastlane:INFO] - bancor_v3_zero_liquidity_pools: 44\n",
      "2023-11-21 11:24:51,632 [fastlane:INFO] - bancor_pol_zero_liquidity_pools: 5\n",
      "2023-11-21 11:24:51,633 [fastlane:INFO] - carbon_v1_zero_liquidity_pools: 176\n",
      "2023-11-21 11:24:51,635 [fastlane:INFO] - pancakeswap_v2_zero_liquidity_pools: 0\n",
      "2023-11-21 11:24:51,636 [fastlane:INFO] - pancakeswap_v3_zero_liquidity_pools: 0\n",
      "2023-11-21 11:24:51,637 [fastlane:INFO] - balancer_zero_liquidity_pools: 0\n",
      "2023-11-21 11:24:51,638 [fastlane:INFO] - Removed 0 unsupported exchanges. 1567 pools remaining\n",
      "2023-11-21 11:24:51,638 [fastlane:INFO] - Pools remaining per exchange:\n",
      "2023-11-21 11:24:51,639 [fastlane:INFO] - balancer: 63\n",
      "2023-11-21 11:24:51,639 [fastlane:INFO] - bancor_pol: 51\n",
      "2023-11-21 11:24:51,640 [fastlane:INFO] - bancor_v2: 0\n",
      "2023-11-21 11:24:51,640 [fastlane:INFO] - carbon_v1: 185\n",
      "2023-11-21 11:24:51,641 [fastlane:INFO] - uniswap_v3: 470\n",
      "2023-11-21 11:24:51,641 [fastlane:INFO] - bancor_v3: 27\n",
      "2023-11-21 11:24:51,642 [fastlane:INFO] - uniswap_v2: 708\n",
      "2023-11-21 11:24:51,642 [fastlane:INFO] - sushiswap_v2: 63\n"
     ]
    }
   ],
   "source": [
    "C = cfg = Config.new(config=Config.CONFIG_MAINNET,) #blockchain=\"coinbase_base\")\n",
    "C.DEFAULT_MIN_PROFIT_GAS_TOKEN = 0.0001\n",
    "\n",
    "setup_bot = CarbonBot(ConfigObj=C)\n",
    "pools = None\n",
    "\n",
    "### \n",
    "\"\"\"\n",
    "Put path to log file here >>>\n",
    "\"\"\"\n",
    "###\n",
    "\n",
    "path = os.path.normpath(\"fastlane_bot/data/tests/latest_pool_data_testing_balancer.json\")\n",
    "print(f\"path={path}\")\n",
    "with open(path) as f:\n",
    "    pools = json.load(f)\n",
    "\n",
    "\n",
    "\n",
    "# with open(\"fastlane_bot/data/tests/latest_pool_data_testing_balancer.json\") as f:\n",
    "#     pools = json.load(f)\n",
    "\n",
    "flashloan_tokens = [\"BNT-FF1C\",\"WETH-6Cc2\",\"USDC-eB48\",\"LINK-86CA\"]\n",
    "#flashloan_tokens = [\"WETH-0006,USDC-2913\"]\n",
    "\n",
    "pools = [pool for pool in pools]\n",
    "pools[0]\n",
    "static_pools = pools\n",
    "state = pools\n",
    "exchanges = list({ex['exchange_name'] for ex in state})\n",
    "db = QueryInterface(state=state, ConfigObj=C, exchanges=exchanges)\n",
    "setup_bot.db = db\n",
    "\n",
    "static_pool_data_filename = \"static_pool_data\"\n",
    "\n",
    "static_pool_data = pd.read_csv(f\"fastlane_bot/data/{static_pool_data_filename}.csv\", low_memory=False)\n",
    "    \n",
    "uniswap_v2_event_mappings = pd.read_csv(\"fastlane_bot/data/uniswap_v2_event_mappings.csv\", low_memory=False)\n",
    "uniswap_v3_event_mappings = pd.read_csv(\"fastlane_bot/data/uniswap_v3_event_mappings.csv\", low_memory=False)\n",
    "\n",
    "tokens = pd.read_csv(\"fastlane_bot/data/tokens.csv\", low_memory=False)\n",
    "        \n",
    "exchanges = \"carbon_v1,pancakeswap_v2,pancakeswap_v3,uniswap_v2,uniswap_v3\"\n",
    "\n",
    "exchanges = exchanges.split(\",\")\n",
    "\n",
    "\n",
    "alchemy_max_block_fetch = 20\n",
    "static_pool_data[\"cid\"] = [\n",
    "        cfg.w3.keccak(text=f\"{row['descr']}\").hex()\n",
    "        for index, row in static_pool_data.iterrows()\n",
    "    ]\n",
    "# Filter out pools that are not in the supported exchanges\n",
    "static_pool_data = [\n",
    "    row for index, row in static_pool_data.iterrows()\n",
    "    if row[\"exchange_name\"] in exchanges\n",
    "]\n",
    "\n",
    "static_pool_data = pd.DataFrame(static_pool_data)\n",
    "static_pool_data['exchange_name'].unique()\n",
    "# Initialize data fetch manager\n",
    "mgr = Manager(\n",
    "    web3=cfg.w3,\n",
    "    cfg=cfg,\n",
    "    pool_data=static_pool_data.to_dict(orient=\"records\"),\n",
    "    SUPPORTED_EXCHANGES=exchanges,\n",
    "    alchemy_max_block_fetch=alchemy_max_block_fetch,\n",
    "    uniswap_v2_event_mappings=uniswap_v2_event_mappings,\n",
    "    #uniswap_v3_event_mappings=uniswap_v3_event_mappings,\n",
    "    tokens=tokens.to_dict(orient=\"records\"),\n",
    ")\n",
    "\n",
    "# Add initial pools for each row in the static_pool_data\n",
    "start_time = time.time()\n",
    "Parallel(n_jobs=-1, backend=\"threading\")(\n",
    "    delayed(mgr.add_pool_to_exchange)(row) for row in mgr.pool_data\n",
    ")\n",
    "cfg.logger.info(f\"Time taken to add initial pools: {time.time() - start_time}\")\n",
    "\n",
    "# check if any duplicate cid's exist in the pool data\n",
    "mgr.deduplicate_pool_data()\n",
    "cids = [pool[\"cid\"] for pool in mgr.pool_data]\n",
    "assert len(cids) == len(set(cids)), \"duplicate cid's exist in the pool data\"\n",
    "def init_bot(mgr: Manager) -> CarbonBot:\n",
    "    \"\"\"\n",
    "    Initializes the bot.\n",
    "\n",
    "    Parameters\n",
    "    ----------\n",
    "    mgr : Manager\n",
    "        The manager object.\n",
    "\n",
    "    Returns\n",
    "    -------\n",
    "    CarbonBot\n",
    "        The bot object.\n",
    "    \"\"\"\n",
    "    mgr.cfg.logger.info(\"Initializing the bot...\")\n",
    "    bot = CarbonBot(ConfigObj=mgr.cfg)\n",
    "    bot.db = db\n",
    "    bot.db.mgr = mgr\n",
    "    assert isinstance(\n",
    "        bot.db, QueryInterface\n",
    "    ), \"QueryInterface not initialized correctly\"\n",
    "    return bot\n",
    "bot = init_bot(mgr)\n",
    "# add data cleanup steps from main.py\n",
    "bot.db.handle_token_key_cleanup()\n",
    "#bot.db.remove_unmapped_uniswap_v2_pools()\n",
    "bot.db.remove_zero_liquidity_pools()\n",
    "bot.db.remove_unsupported_exchanges()\n",
    "tokens = bot.db.get_tokens()\n",
    "ADDRDEC = {t.key: (t.address, int(t.decimals)) for t in tokens if not math.isnan(t.decimals)}\n",
    "#flashloan_tokens = bot.setup_flashloan_tokens(None)\n",
    "#flashloan_tokens = ['WBTC-2c599', 'USDC-eB48', 'LINK-86CA', 'USDT-1ec7']\n",
    "\n",
    "\n",
    "CCm = bot.setup_CCm(None)\n",
    "pools = db.get_pool_data_with_tokens()\n"
   ]
  },
  {
   "cell_type": "markdown",
   "id": "4c4e2283",
   "metadata": {},
   "source": [
    "# Test Native Gas Token Wrap Unwrap [NB061]"
   ]
  },
  {
   "cell_type": "markdown",
   "id": "e703ba6b",
   "metadata": {},
   "source": [
    "## Test_Wrap_Unwrap_Gas_Token_In_Route_Struct"
   ]
  },
  {
   "cell_type": "code",
   "execution_count": 3,
   "id": "48e2f5a1",
   "metadata": {},
   "outputs": [
    {
     "name": "stdout",
     "output_type": "stream",
     "text": [
      "number of arbs found = 18\n"
     ]
    }
   ],
   "source": [
    "arb_mode = \"multi\"\n",
    "\n",
    "arb_finder = bot._get_arb_finder(arb_mode)\n",
    "finder = arb_finder(\n",
    "            flashloan_tokens=flashloan_tokens,\n",
    "            CCm=CCm,\n",
    "            mode=\"bothin\",\n",
    "            result=bot.AO_CANDIDATES,\n",
    "            ConfigObj=bot.ConfigObj,\n",
    "        )\n",
    "r = finder.find_arbitrage()\n",
    "\n",
    "r = [arb for arb in r if len(arb[2]) >= 2]\n",
    "r.sort(key=lambda x: x[0], reverse=True)\n",
    "\n"
   ]
  },
  {
   "cell_type": "code",
   "execution_count": 11,
   "id": "22ad3d4c",
   "metadata": {},
   "outputs": [
    {
     "name": "stderr",
     "output_type": "stream",
     "text": [
      "2023-11-21 12:03:48,546 [fastlane:INFO] - [2023-11-21T12:03:48::1700561028] |calculated_arb| == {'type': 'multi', 'profit_gas_token': -11.7576, 'profit_usd': -11.646, 'flashloan': [{'token': 'USDC-eB48', 'amount': 45029.1708, 'profit': -11.7576}], 'trades': [{'trade_index': 0, 'exchange': 'carbon_v1', 'tkn_in': 'USDC-eB48', 'amount_in': 45029.1708, 'tkn_out': 'USDT-1ec7', 'amt_out': 45021.2613, 'cid0': '5304634371'}, {'trade_index': 1, 'exchange': 'uniswap_v3', 'tkn_in': 'USDT-1ec7', 'amount_in': 45021.2613, 'tkn_out': 'USDC-eB48', 'amt_out': 45017.4132, 'cid0': 'ddf5be231a'}]}\n",
      "2023-11-21 12:03:49,643 [fastlane:INFO] - [2023-11-21T12:03:49::1700561029] |calculated_arb| == {'type': 'multi', 'profit_gas_token': 0.002, 'profit_usd': 3.2568, 'flashloan': [{'token': 'WETH-6Cc2', 'amount': 0.1258, 'profit': 0.002}], 'trades': [{'trade_index': 0, 'exchange': 'uniswap_v2', 'tkn_in': 'WETH-6Cc2', 'amount_in': 0.1258, 'tkn_out': 'BNT-FF1C', 'amt_out': 518.1364, 'cid0': 'acb0f128fe'}, {'trade_index': 1, 'exchange': 'carbon_v1', 'tkn_in': 'BNT-FF1C', 'amount_in': 518.1364, 'tkn_out': 'WETH-6Cc2', 'amt_out': 0.1277, 'cid0': '9450326076'}]}\n"
     ]
    },
    {
     "name": "stdout",
     "output_type": "stream",
     "text": [
      "\n",
      "NEW ROUTE STRUCT:\n",
      "flashloan_struct=[{'platformId': 7, 'sourceTokens': ['0xA0b86991c6218b36c1d19D4a2e9Eb0cE3606eB48'], 'sourceAmounts': [45029170793]}]\n",
      "route_struct=[{'platformId': 6, 'sourceToken': '0xA0b86991c6218b36c1d19D4a2e9Eb0cE3606eB48', 'targetToken': '0xdAC17F958D2ee523a2206206994597C13D831ec7', 'sourceAmount': 0, 'minTargetAmount': 45021261344, 'deadline': 1701211027, 'customAddress': '0xC537e898CD774e2dCBa3B14Ea6f34C93d5eA45e1', 'customInt': 10, 'customData': '0x0000000000000000000000000000000000000000000000000000000000000020000000000000000000000000000000000000000000000000000000000000000400000000000000000000000000000003000000000000000000000000000000030000000000000000000000000000000000000000000000000000000005f86a8b00000000000000000000000000000003000000000000000000000000000000b500000000000000000000000000000000000000000000000000000000758f0c7900000000000000000000000000000003000000000000000000000000000001c7000000000000000000000000000000000000000000000000000000000006ad8300000000000000000000000000000003000000000000000000000000000001cc0000000000000000000000000000000000000000000000000000000a006479e2'}, {'platformId': 4, 'sourceToken': '0xdAC17F958D2ee523a2206206994597C13D831ec7', 'targetToken': '0xA0b86991c6218b36c1d19D4a2e9Eb0cE3606eB48', 'sourceAmount': 0, 'minTargetAmount': 45017413216, 'deadline': 1701211027, 'customAddress': '0xE592427A0AEce92De3Edee1F18E0157C05861564', 'customInt': 500, 'customData': '0x'}]\n",
      "\n",
      "\n"
     ]
    },
    {
     "name": "stderr",
     "output_type": "stream",
     "text": [
      "2023-11-21 12:03:50,217 [fastlane:INFO] - [2023-11-21T12:03:50::1700561030] |calculated_arb| == {'type': 'multi', 'profit_gas_token': 8.098, 'profit_usd': 3.2177, 'flashloan': [{'token': 'BNT-FF1C', 'amount': 517.2487, 'profit': 8.098}], 'trades': [{'trade_index': 0, 'exchange': 'carbon_v1', 'tkn_in': 'BNT-FF1C', 'amount_in': 517.2487, 'tkn_out': 'WETH-6Cc2', 'amt_out': 0.1275, 'cid0': '9450326076'}, {'trade_index': 1, 'exchange': 'uniswap_v2', 'tkn_in': 'WETH-6Cc2', 'amount_in': 0.1275, 'tkn_out': 'BNT-FF1C', 'amt_out': 525.3467, 'cid0': 'acb0f128fe'}]}\n"
     ]
    },
    {
     "name": "stdout",
     "output_type": "stream",
     "text": [
      "\n",
      "NEW ROUTE STRUCT:\n",
      "flashloan_struct=[{'platformId': 7, 'sourceTokens': ['0xC02aaA39b223FE8D0A0e5C4F27eAD9083C756Cc2'], 'sourceAmounts': [125758000000000000]}]\n",
      "route_struct=[{'platformId': 3, 'sourceToken': '0xC02aaA39b223FE8D0A0e5C4F27eAD9083C756Cc2', 'targetToken': '0x1F573D6Fb3F13d689FF844B4cE37794d79a7FF1C', 'sourceAmount': 0, 'minTargetAmount': 518136407003744449948, 'deadline': 1701211027, 'customAddress': '0x7a250d5630B4cF539739dF2C5dAcb4c659F2488D', 'customInt': 3000, 'customData': '0x'}, {'platformId': 6, 'sourceToken': '0x1F573D6Fb3F13d689FF844B4cE37794d79a7FF1C', 'targetToken': '0xEeeeeEeeeEeEeeEeEeEeeEEEeeeeEeeeeeeeEEeE', 'sourceAmount': 0, 'minTargetAmount': 127731826500234221, 'deadline': 1701211027, 'customAddress': '0xC537e898CD774e2dCBa3B14Ea6f34C93d5eA45e1', 'customInt': 2000, 'customData': '0x000000000000000000000000000000000000000000000000000000000000002000000000000000000000000000000000000000000000000000000000000000010000000000000000000000000000000b0000000000000000000000000000003c00000000000000000000000000000000000000000000001c16964cf72f68359c'}, {'platformId': 10, 'sourceToken': '0xEeeeeEeeeEeEeeEeEeEeeEEEeeeeEeeeeeeeEEeE', 'targetToken': '0xC02aaA39b223FE8D0A0e5C4F27eAD9083C756Cc2', 'sourceAmount': 0, 'minTargetAmount': 0, 'deadline': 1701211027, 'customAddress': '', 'customInt': 0, 'customData': '0x'}]\n",
      "\n",
      "\n"
     ]
    },
    {
     "name": "stderr",
     "output_type": "stream",
     "text": [
      "2023-11-21 12:03:50,849 [fastlane:INFO] - [2023-11-21T12:03:50::1700561030] |calculated_arb| == {'type': 'multi', 'profit_gas_token': 0.0018, 'profit_usd': 2.9356, 'flashloan': [{'token': 'WETH-6Cc2', 'amount': 0.127, 'profit': 0.0018}], 'trades': [{'trade_index': 0, 'exchange': 'bancor_v3', 'tkn_in': 'WETH-6Cc2', 'amount_in': 0.127, 'tkn_out': 'BNT-FF1C', 'amt_out': 522.5566, 'cid0': '03a3c742d2'}, {'trade_index': 1, 'exchange': 'carbon_v1', 'tkn_in': 'BNT-FF1C', 'amount_in': 522.5566, 'tkn_out': 'WETH-6Cc2', 'amt_out': 0.1288, 'cid0': '9450326076'}]}\n"
     ]
    },
    {
     "name": "stdout",
     "output_type": "stream",
     "text": [
      "\n",
      "NEW ROUTE STRUCT:\n",
      "flashloan_struct=[{'platformId': 2, 'sourceTokens': ['0x1F573D6Fb3F13d689FF844B4cE37794d79a7FF1C'], 'sourceAmounts': [517248701448906100000]}]\n",
      "route_struct=[{'platformId': 6, 'sourceToken': '0x1F573D6Fb3F13d689FF844B4cE37794d79a7FF1C', 'targetToken': '0xEeeeeEeeeEeEeeEeEeEeeEEEeeeeEeeeeeeeEEeE', 'sourceAmount': 0, 'minTargetAmount': 127516435840475010, 'deadline': 1701211027, 'customAddress': '0xC537e898CD774e2dCBa3B14Ea6f34C93d5eA45e1', 'customInt': 2000, 'customData': '0x000000000000000000000000000000000000000000000000000000000000002000000000000000000000000000000000000000000000000000000000000000010000000000000000000000000000000b0000000000000000000000000000003c00000000000000000000000000000000000000000000001c0a4489777a204d20'}, {'platformId': 10, 'sourceToken': '0xEeeeeEeeeEeEeeEeEeEeeEEEeeeeEeeeeeeeEEeE', 'targetToken': '0xC02aaA39b223FE8D0A0e5C4F27eAD9083C756Cc2', 'sourceAmount': 0, 'minTargetAmount': 0, 'deadline': 1701211027, 'customAddress': '', 'customInt': 0, 'customData': '0x'}, {'platformId': 3, 'sourceToken': '0xC02aaA39b223FE8D0A0e5C4F27eAD9083C756Cc2', 'targetToken': '0x1F573D6Fb3F13d689FF844B4cE37794d79a7FF1C', 'sourceAmount': 0, 'minTargetAmount': 525346666853663159922, 'deadline': 1701211027, 'customAddress': '0x7a250d5630B4cF539739dF2C5dAcb4c659F2488D', 'customInt': 3000, 'customData': '0x'}]\n",
      "\n",
      "\n",
      "\n",
      "NEW ROUTE STRUCT:\n",
      "flashloan_struct=[{'platformId': 2, 'sourceTokens': ['0xEeeeeEeeeEeEeeEeEeEeeEEEeeeeEeeeeeeeEEeE'], 'sourceAmounts': [127025000000000000]}]\n",
      "route_struct=[{'platformId': 2, 'sourceToken': '0xEeeeeEeeeEeEeeEeEeEeeEEEeeeeEeeeeeeeEEeE', 'targetToken': '0x1F573D6Fb3F13d689FF844B4cE37794d79a7FF1C', 'sourceAmount': 0, 'minTargetAmount': 522556585084845977280, 'deadline': 1701211027, 'customAddress': '0x1F573D6Fb3F13d689FF844B4cE37794d79a7FF1C', 'customInt': 0, 'customData': '0x'}, {'platformId': 6, 'sourceToken': '0x1F573D6Fb3F13d689FF844B4cE37794d79a7FF1C', 'targetToken': '0xEeeeeEeeeEeEeeEeEeEeeEEEeeeeEeeeeeeeEEeE', 'sourceAmount': 0, 'minTargetAmount': 128804154100214638, 'deadline': 1701211027, 'customAddress': '0xC537e898CD774e2dCBa3B14Ea6f34C93d5eA45e1', 'customInt': 2000, 'customData': '0x000000000000000000000000000000000000000000000000000000000000002000000000000000000000000000000000000000000000000000000000000000010000000000000000000000000000000b0000000000000000000000000000003c00000000000000000000000000000000000000000000001c53eded82df6e6ec0'}]\n",
      "\n",
      "\n"
     ]
    },
    {
     "name": "stderr",
     "output_type": "stream",
     "text": [
      "2023-11-21 12:03:51,496 [fastlane:INFO] - [2023-11-21T12:03:51::1700561031] |calculated_arb| == {'type': 'multi', 'profit_gas_token': 7.3188, 'profit_usd': 2.9081, 'flashloan': [{'token': 'BNT-FF1C', 'amount': 522.5912, 'profit': 7.3188}], 'trades': [{'trade_index': 0, 'exchange': 'carbon_v1', 'tkn_in': 'BNT-FF1C', 'amount_in': 522.5912, 'tkn_out': 'WETH-6Cc2', 'amt_out': 0.1288, 'cid0': '9450326076'}, {'trade_index': 1, 'exchange': 'bancor_v3', 'tkn_in': 'WETH-6Cc2', 'amount_in': 0.1288, 'tkn_out': 'BNT-FF1C', 'amt_out': 529.91, 'cid0': '03a3c742d2'}]}\n"
     ]
    },
    {
     "name": "stdout",
     "output_type": "stream",
     "text": [
      "\n",
      "NEW ROUTE STRUCT:\n",
      "flashloan_struct=[{'platformId': 2, 'sourceTokens': ['0x1F573D6Fb3F13d689FF844B4cE37794d79a7FF1C'], 'sourceAmounts': [522591182398580400000]}]\n",
      "route_struct=[{'platformId': 6, 'sourceToken': '0x1F573D6Fb3F13d689FF844B4cE37794d79a7FF1C', 'targetToken': '0xEeeeeEeeeEeEeeEeEeEeeEEEeeeeEeeeeeeeEEeE', 'sourceAmount': 0, 'minTargetAmount': 128812546210284838, 'deadline': 1701211027, 'customAddress': '0xC537e898CD774e2dCBa3B14Ea6f34C93d5eA45e1', 'customInt': 2000, 'customData': '0x000000000000000000000000000000000000000000000000000000000000002000000000000000000000000000000000000000000000000000000000000000010000000000000000000000000000000b0000000000000000000000000000003c00000000000000000000000000000000000000000000001c5468d795b2c11f80'}, {'platformId': 2, 'sourceToken': '0xEeeeeEeeeEeEeeEeEeEeeEEEeeeeEeeeeeeeEEeE', 'targetToken': '0x1F573D6Fb3F13d689FF844B4cE37794d79a7FF1C', 'sourceAmount': 0, 'minTargetAmount': 529909960751094944562, 'deadline': 1701211027, 'customAddress': '0x1F573D6Fb3F13d689FF844B4cE37794d79a7FF1C', 'customInt': 0, 'customData': '0x'}]\n",
      "\n",
      "\n"
     ]
    },
    {
     "name": "stderr",
     "output_type": "stream",
     "text": [
      "2023-11-21 12:03:52,307 [fastlane:INFO] - [2023-11-21T12:03:52::1700561032] |calculated_arb| == {'type': 'multi', 'profit_gas_token': -11.8131, 'profit_usd': -11.701, 'flashloan': [{'token': 'USDC-eB48', 'amount': 45028.9251, 'profit': -11.8131}], 'trades': [{'trade_index': 0, 'exchange': 'carbon_v1', 'tkn_in': 'USDC-eB48', 'amount_in': 45028.9251, 'tkn_out': 'USDT-1ec7', 'amt_out': 45021.0157, 'cid0': '5304634371'}, {'trade_index': 1, 'exchange': 'uniswap_v3', 'tkn_in': 'USDT-1ec7', 'amount_in': 45021.0157, 'tkn_out': 'USDC-eB48', 'amt_out': 45017.112, 'cid0': '6d4a56bd20'}]}\n",
      "2023-11-21 12:03:52,913 [fastlane:INFO] - [2023-11-21T12:03:52::1700561032] |calculated_arb| == {'type': 'multi', 'profit_gas_token': 0.001, 'profit_usd': 1.6477, 'flashloan': [{'token': 'WETH-6Cc2', 'amount': 0.0021, 'profit': 0.001}], 'trades': [{'trade_index': 0, 'exchange': 'bancor_pol', 'tkn_in': 'WETH-6Cc2', 'amount_in': 0.0021, 'tkn_out': 'ARCONA-52B3', 'amt_out': 91.8173, 'cid0': '5f494fd84c'}, {'trade_index': 1, 'exchange': 'carbon_v1', 'tkn_in': 'ARCONA-52B3', 'amount_in': 88.6609, 'tkn_out': 'WETH-6Cc2', 'amt_out': 0.0031, 'cid0': '7920493800'}]}\n"
     ]
    },
    {
     "name": "stdout",
     "output_type": "stream",
     "text": [
      "\n",
      "NEW ROUTE STRUCT:\n",
      "flashloan_struct=[{'platformId': 7, 'sourceTokens': ['0xA0b86991c6218b36c1d19D4a2e9Eb0cE3606eB48'], 'sourceAmounts': [45028925083]}]\n",
      "route_struct=[{'platformId': 6, 'sourceToken': '0xA0b86991c6218b36c1d19D4a2e9Eb0cE3606eB48', 'targetToken': '0xdAC17F958D2ee523a2206206994597C13D831ec7', 'sourceAmount': 0, 'minTargetAmount': 45021015738, 'deadline': 1701211027, 'customAddress': '0xC537e898CD774e2dCBa3B14Ea6f34C93d5eA45e1', 'customInt': 10, 'customData': '0x0000000000000000000000000000000000000000000000000000000000000020000000000000000000000000000000000000000000000000000000000000000400000000000000000000000000000003000000000000000000000000000000030000000000000000000000000000000000000000000000000000000005f86a8b00000000000000000000000000000003000000000000000000000000000000b500000000000000000000000000000000000000000000000000000000758f0c7900000000000000000000000000000003000000000000000000000000000001c7000000000000000000000000000000000000000000000000000000000002edb500000000000000000000000000000003000000000000000000000000000001cc0000000000000000000000000000000000000000000000000000000a006479e2'}, {'platformId': 4, 'sourceToken': '0xdAC17F958D2ee523a2206206994597C13D831ec7', 'targetToken': '0xA0b86991c6218b36c1d19D4a2e9Eb0cE3606eB48', 'sourceAmount': 0, 'minTargetAmount': 45017111962, 'deadline': 1701211027, 'customAddress': '0xE592427A0AEce92De3Edee1F18E0157C05861564', 'customInt': 100, 'customData': '0x'}]\n",
      "\n",
      "\n",
      "\n",
      "NEW ROUTE STRUCT:\n",
      "flashloan_struct=[{'platformId': 2, 'sourceTokens': ['0xEeeeeEeeeEeEeeEeEeEeeEEEeeeeEeeeeeeeEEeE'], 'sourceAmounts': [2098000000000000]}]\n",
      "route_struct=[{'platformId': 8, 'sourceToken': '0xEeeeeEeeeEeEeeEeEeEeeEEEeeeeEeeeeeeeEEeE', 'targetToken': '0x0f71B8De197A1C84d31de0F1fA7926c365F052B3', 'sourceAmount': 0, 'minTargetAmount': 91817335346448472038, 'deadline': 1701211027, 'customAddress': '0x0f71B8De197A1C84d31de0F1fA7926c365F052B3', 'customInt': 0, 'customData': '0x'}, {'platformId': 6, 'sourceToken': '0x0f71B8De197A1C84d31de0F1fA7926c365F052B3', 'targetToken': '0xEeeeeEeeeEeEeeEeEeEeeEEEeeeeEeeeeeeeEEeE', 'sourceAmount': 0, 'minTargetAmount': 3096614755609996, 'deadline': 1701211027, 'customAddress': '0xC537e898CD774e2dCBa3B14Ea6f34C93d5eA45e1', 'customInt': 2000, 'customData': '0x000000000000000000000000000000000000000000000000000000000000002000000000000000000000000000000000000000000000000000000000000000010000000000000000000000000000004e000000000000000000000000000000e8000000000000000000000000000000000000000000000004ce6ab6431e73d0f6'}]\n",
      "\n",
      "\n"
     ]
    },
    {
     "name": "stderr",
     "output_type": "stream",
     "text": [
      "2023-11-21 12:03:53,553 [fastlane:INFO] - [2023-11-21T12:03:53::1700561033] |calculated_arb| == {'type': 'multi', 'profit_gas_token': 0.0009, 'profit_usd': 1.5351, 'flashloan': [{'token': 'WETH-6Cc2', 'amount': 0.0022, 'profit': 0.0009}], 'trades': [{'trade_index': 0, 'exchange': 'uniswap_v2', 'tkn_in': 'WETH-6Cc2', 'amount_in': 0.0022, 'tkn_out': 'ARCONA-52B3', 'amt_out': 88.3106, 'cid0': 'f7df925439'}, {'trade_index': 1, 'exchange': 'carbon_v1', 'tkn_in': 'ARCONA-52B3', 'amount_in': 88.3106, 'tkn_out': 'WETH-6Cc2', 'amt_out': 0.0031, 'cid0': '7920493800'}]}\n"
     ]
    },
    {
     "name": "stdout",
     "output_type": "stream",
     "text": [
      "\n",
      "NEW ROUTE STRUCT:\n",
      "flashloan_struct=[{'platformId': 7, 'sourceTokens': ['0xC02aaA39b223FE8D0A0e5C4F27eAD9083C756Cc2'], 'sourceAmounts': [2154000000000000]}]\n",
      "route_struct=[{'platformId': 3, 'sourceToken': '0xC02aaA39b223FE8D0A0e5C4F27eAD9083C756Cc2', 'targetToken': '0x0f71B8De197A1C84d31de0F1fA7926c365F052B3', 'sourceAmount': 0, 'minTargetAmount': 88310597869538364914, 'deadline': 1701211027, 'customAddress': '0x7a250d5630B4cF539739dF2C5dAcb4c659F2488D', 'customInt': 3000, 'customData': '0x'}, {'platformId': 6, 'sourceToken': '0x0f71B8De197A1C84d31de0F1fA7926c365F052B3', 'targetToken': '0xEeeeeEeeeEeEeeEeEeEeeEEEeeeeEeeeeeeeEEeE', 'sourceAmount': 0, 'minTargetAmount': 3084380714663330, 'deadline': 1701211027, 'customAddress': '0xC537e898CD774e2dCBa3B14Ea6f34C93d5eA45e1', 'customInt': 2000, 'customData': '0x000000000000000000000000000000000000000000000000000000000000002000000000000000000000000000000000000000000000000000000000000000010000000000000000000000000000004e000000000000000000000000000000e8000000000000000000000000000000000000000000000004c98e44df6c33cdf2'}, {'platformId': 10, 'sourceToken': '0xEeeeeEeeeEeEeeEeEeEeeEEEeeeeEeeeeeeeEEeE', 'targetToken': '0xC02aaA39b223FE8D0A0e5C4F27eAD9083C756Cc2', 'sourceAmount': 0, 'minTargetAmount': 0, 'deadline': 1701211027, 'customAddress': '', 'customInt': 0, 'customData': '0x'}]\n",
      "\n",
      "\n"
     ]
    },
    {
     "name": "stderr",
     "output_type": "stream",
     "text": [
      "2023-11-21 12:03:54,185 [fastlane:INFO] - [2023-11-21T12:03:54::1700561034] |calculated_arb| == {'type': 'multi', 'profit_gas_token': 0.9871, 'profit_usd': 0.9777, 'flashloan': [{'token': 'USDC-eB48', 'amount': 18.889, 'profit': 0.9871}], 'trades': [{'trade_index': 0, 'exchange': 'uniswap_v2', 'tkn_in': 'USDC-eB48', 'amount_in': 18.889, 'tkn_out': 'WBTC-C599', 'amt_out': 0.0007, 'cid0': '09cdc0a2b9'}, {'trade_index': 1, 'exchange': 'carbon_v1', 'tkn_in': 'WBTC-C599', 'amount_in': 0.0007, 'tkn_out': 'USDC-eB48', 'amt_out': 19.8761, 'cid0': '1218537493'}]}\n"
     ]
    },
    {
     "name": "stdout",
     "output_type": "stream",
     "text": [
      "\n",
      "NEW ROUTE STRUCT:\n",
      "flashloan_struct=[{'platformId': 7, 'sourceTokens': ['0xA0b86991c6218b36c1d19D4a2e9Eb0cE3606eB48'], 'sourceAmounts': [18888973]}]\n",
      "route_struct=[{'platformId': 3, 'sourceToken': '0xA0b86991c6218b36c1d19D4a2e9Eb0cE3606eB48', 'targetToken': '0x2260FAC5E5542a773Aa44fBCfeDf7C193bc2C599', 'sourceAmount': 0, 'minTargetAmount': 68330, 'deadline': 1701211027, 'customAddress': '0x7a250d5630B4cF539739dF2C5dAcb4c659F2488D', 'customInt': 3000, 'customData': '0x'}, {'platformId': 6, 'sourceToken': '0x2260FAC5E5542a773Aa44fBCfeDf7C193bc2C599', 'targetToken': '0xA0b86991c6218b36c1d19D4a2e9Eb0cE3606eB48', 'sourceAmount': 0, 'minTargetAmount': 19876079, 'deadline': 1701211027, 'customAddress': '0xC537e898CD774e2dCBa3B14Ea6f34C93d5eA45e1', 'customInt': 2000, 'customData': '0x000000000000000000000000000000000000000000000000000000000000002000000000000000000000000000000000000000000000000000000000000000010000000000000000000000000000000c000000000000000000000000000000150000000000000000000000000000000000000000000000000000000000010ae9'}]\n",
      "\n",
      "\n"
     ]
    },
    {
     "name": "stderr",
     "output_type": "stream",
     "text": [
      "2023-11-21 12:03:54,857 [fastlane:INFO] - [2023-11-21T12:03:54::1700561034] |calculated_arb| == {'type': 'multi', 'profit_gas_token': 0.9701, 'profit_usd': 0.9609, 'flashloan': [{'token': 'USDC-eB48', 'amount': 18.906, 'profit': 0.9701}], 'trades': [{'trade_index': 0, 'exchange': 'uniswap_v3', 'tkn_in': 'USDC-eB48', 'amount_in': 18.906, 'tkn_out': 'WBTC-C599', 'amt_out': 0.0007, 'cid0': 'a2a527b959'}, {'trade_index': 1, 'exchange': 'carbon_v1', 'tkn_in': 'WBTC-C599', 'amount_in': 0.0007, 'tkn_out': 'USDC-eB48', 'amt_out': 19.8761, 'cid0': '1218537493'}]}\n"
     ]
    },
    {
     "name": "stdout",
     "output_type": "stream",
     "text": [
      "\n",
      "NEW ROUTE STRUCT:\n",
      "flashloan_struct=[{'platformId': 7, 'sourceTokens': ['0xA0b86991c6218b36c1d19D4a2e9Eb0cE3606eB48'], 'sourceAmounts': [18905971]}]\n",
      "route_struct=[{'platformId': 4, 'sourceToken': '0xA0b86991c6218b36c1d19D4a2e9Eb0cE3606eB48', 'targetToken': '0x2260FAC5E5542a773Aa44fBCfeDf7C193bc2C599', 'sourceAmount': 0, 'minTargetAmount': 68330, 'deadline': 1701211027, 'customAddress': '0xE592427A0AEce92De3Edee1F18E0157C05861564', 'customInt': 3000, 'customData': '0x'}, {'platformId': 6, 'sourceToken': '0x2260FAC5E5542a773Aa44fBCfeDf7C193bc2C599', 'targetToken': '0xA0b86991c6218b36c1d19D4a2e9Eb0cE3606eB48', 'sourceAmount': 0, 'minTargetAmount': 19876079, 'deadline': 1701211027, 'customAddress': '0xC537e898CD774e2dCBa3B14Ea6f34C93d5eA45e1', 'customInt': 2000, 'customData': '0x000000000000000000000000000000000000000000000000000000000000002000000000000000000000000000000000000000000000000000000000000000010000000000000000000000000000000c000000000000000000000000000000150000000000000000000000000000000000000000000000000000000000010ae9'}]\n",
      "\n",
      "\n"
     ]
    },
    {
     "name": "stderr",
     "output_type": "stream",
     "text": [
      "2023-11-21 12:03:55,544 [fastlane:INFO] - [2023-11-21T12:03:55::1700561035] |calculated_arb| == {'type': 'multi', 'profit_gas_token': 1.0061, 'profit_usd': 0.9966, 'flashloan': [{'token': 'USDC-eB48', 'amount': 18.9197, 'profit': 1.0061}], 'trades': [{'trade_index': 0, 'exchange': 'uniswap_v3', 'tkn_in': 'USDC-eB48', 'amount_in': 18.9197, 'tkn_out': 'WBTC-C599', 'amt_out': 0.0007, 'cid0': 'dea0348d0c'}, {'trade_index': 1, 'exchange': 'carbon_v1', 'tkn_in': 'WBTC-C599', 'amount_in': 0.0007, 'tkn_out': 'USDC-eB48', 'amt_out': 19.9258, 'cid0': '1218537493'}]}\n",
      "2023-11-21 12:03:56,571 [fastlane:INFO] - [2023-11-21T12:03:56::1700561036] |calculated_arb| == {'type': 'multi', 'profit_gas_token': 0.7274, 'profit_usd': 0.7205, 'flashloan': [{'token': 'USDC-eB48', 'amount': 0.8586, 'profit': 0.7274}], 'trades': [{'trade_index': 0, 'exchange': 'uniswap_v3', 'tkn_in': 'USDC-eB48', 'amount_in': 0.8586, 'tkn_out': 'CRV-cd52', 'amt_out': 1.7659, 'cid0': '2653ec92a7'}, {'trade_index': 1, 'exchange': 'carbon_v1', 'tkn_in': 'CRV-cd52', 'amount_in': 1.7659, 'tkn_out': 'USDC-eB48', 'amt_out': 1.586, 'cid0': '3655612490'}]}\n"
     ]
    },
    {
     "name": "stdout",
     "output_type": "stream",
     "text": [
      "\n",
      "NEW ROUTE STRUCT:\n",
      "flashloan_struct=[{'platformId': 7, 'sourceTokens': ['0xA0b86991c6218b36c1d19D4a2e9Eb0cE3606eB48'], 'sourceAmounts': [18919678]}]\n",
      "route_struct=[{'platformId': 4, 'sourceToken': '0xA0b86991c6218b36c1d19D4a2e9Eb0cE3606eB48', 'targetToken': '0x2260FAC5E5542a773Aa44fBCfeDf7C193bc2C599', 'sourceAmount': 0, 'minTargetAmount': 68501, 'deadline': 1701211027, 'customAddress': '0xE592427A0AEce92De3Edee1F18E0157C05861564', 'customInt': 500, 'customData': '0x'}, {'platformId': 6, 'sourceToken': '0x2260FAC5E5542a773Aa44fBCfeDf7C193bc2C599', 'targetToken': '0xA0b86991c6218b36c1d19D4a2e9Eb0cE3606eB48', 'sourceAmount': 0, 'minTargetAmount': 19925821, 'deadline': 1701211027, 'customAddress': '0xC537e898CD774e2dCBa3B14Ea6f34C93d5eA45e1', 'customInt': 2000, 'customData': '0x000000000000000000000000000000000000000000000000000000000000002000000000000000000000000000000000000000000000000000000000000000010000000000000000000000000000000c000000000000000000000000000000150000000000000000000000000000000000000000000000000000000000010b94'}]\n",
      "\n",
      "\n",
      "\n",
      "NEW ROUTE STRUCT:\n",
      "flashloan_struct=[{'platformId': 7, 'sourceTokens': ['0xA0b86991c6218b36c1d19D4a2e9Eb0cE3606eB48'], 'sourceAmounts': [858574]}]\n",
      "route_struct=[{'platformId': 4, 'sourceToken': '0xA0b86991c6218b36c1d19D4a2e9Eb0cE3606eB48', 'targetToken': '0xD533a949740bb3306d119CC777fa900bA034cd52', 'sourceAmount': 0, 'minTargetAmount': 1765947931020209719, 'deadline': 1701211027, 'customAddress': '0xE592427A0AEce92De3Edee1F18E0157C05861564', 'customInt': 10000, 'customData': '0x'}, {'platformId': 6, 'sourceToken': '0xD533a949740bb3306d119CC777fa900bA034cd52', 'targetToken': '0xA0b86991c6218b36c1d19D4a2e9Eb0cE3606eB48', 'sourceAmount': 0, 'minTargetAmount': 1586015, 'deadline': 1701211027, 'customAddress': '0xC537e898CD774e2dCBa3B14Ea6f34C93d5eA45e1', 'customInt': 2000, 'customData': '0x00000000000000000000000000000000000000000000000000000000000000200000000000000000000000000000000000000000000000000000000000000001000000000000000000000000000000240000000000000000000000000000004a0000000000000000000000000000000000000000000000001881e849704bae37'}]\n",
      "\n",
      "\n"
     ]
    },
    {
     "name": "stderr",
     "output_type": "stream",
     "text": [
      "2023-11-21 12:03:57,202 [fastlane:INFO] - [2023-11-21T12:03:57::1700561037] |calculated_arb| == {'type': 'multi', 'profit_gas_token': 0.0004, 'profit_usd': 0.591, 'flashloan': [{'token': 'WETH-6Cc2', 'amount': 0.0028, 'profit': 0.0004}], 'trades': [{'trade_index': 0, 'exchange': 'bancor_pol', 'tkn_in': 'WETH-6Cc2', 'amount_in': 0.0028, 'tkn_out': 'SNX-2a6F', 'amt_out': 2.4191, 'cid0': '9cf18bf9ee'}, {'trade_index': 1, 'exchange': 'carbon_v1', 'tkn_in': 'SNX-2a6F', 'amount_in': 2.4191, 'tkn_out': 'WETH-6Cc2', 'amt_out': 0.0031, 'cid0': '8529762546'}]}\n",
      "2023-11-21 12:03:57,858 [fastlane:INFO] - [2023-11-21T12:03:57::1700561037] |calculated_arb| == {'type': 'multi', 'profit_gas_token': 0.0003, 'profit_usd': 0.4569, 'flashloan': [{'token': 'WETH-6Cc2', 'amount': 0.0002, 'profit': 0.0003}], 'trades': [{'trade_index': 0, 'exchange': 'uniswap_v2', 'tkn_in': 'WETH-6Cc2', 'amount_in': 0.0002, 'tkn_out': 'HEX-eb39', 'amt_out': 86.3777, 'cid0': '3b1e45a204'}, {'trade_index': 1, 'exchange': 'carbon_v1', 'tkn_in': 'HEX-eb39', 'amount_in': 86.3777, 'tkn_out': 'WETH-6Cc2', 'amt_out': 0.0005, 'cid0': '4264881242'}]}\n"
     ]
    },
    {
     "name": "stdout",
     "output_type": "stream",
     "text": [
      "\n",
      "NEW ROUTE STRUCT:\n",
      "flashloan_struct=[{'platformId': 2, 'sourceTokens': ['0xEeeeeEeeeEeEeeEeEeEeeEEEeeeeEeeeeeeeEEeE'], 'sourceAmounts': [2780000000000000]}]\n",
      "route_struct=[{'platformId': 8, 'sourceToken': '0xEeeeeEeeeEeEeeEeEeEeeEEEeeeeEeeeeeeeEEeE', 'targetToken': '0xC011a73ee8576Fb46F5E1c5751cA3B9Fe0af2a6F', 'sourceAmount': 0, 'minTargetAmount': 2419052029762967945, 'deadline': 1701211027, 'customAddress': '0xC011a73ee8576Fb46F5E1c5751cA3B9Fe0af2a6F', 'customInt': 0, 'customData': '0x'}, {'platformId': 6, 'sourceToken': '0xC011a73ee8576Fb46F5E1c5751cA3B9Fe0af2a6F', 'targetToken': '0xEeeeeEeeeEeEeeEeEeEeeEEEeeeeEeeeeeeeEEeE', 'sourceAmount': 0, 'minTargetAmount': 3138164255604118, 'deadline': 1701211027, 'customAddress': '0xC537e898CD774e2dCBa3B14Ea6f34C93d5eA45e1', 'customInt': 2000, 'customData': '0x0000000000000000000000000000000000000000000000000000000000000020000000000000000000000000000000000000000000000000000000000000000100000000000000000000000000000054000000000000000000000000000000f2000000000000000000000000000000000000000000000000219233011f359989'}]\n",
      "\n",
      "\n"
     ]
    },
    {
     "name": "stderr",
     "output_type": "stream",
     "text": [
      "2023-11-21 12:03:58,501 [fastlane:INFO] - [2023-11-21T12:03:58::1700561038] |calculated_arb| == {'type': 'multi', 'profit_gas_token': 0.0003, 'profit_usd': 0.4568, 'flashloan': [{'token': 'WETH-6Cc2', 'amount': 0.0002, 'profit': 0.0003}], 'trades': [{'trade_index': 0, 'exchange': 'uniswap_v3', 'tkn_in': 'WETH-6Cc2', 'amount_in': 0.0002, 'tkn_out': 'HEX-eb39', 'amt_out': 86.3666, 'cid0': 'ac98ffde4b'}, {'trade_index': 1, 'exchange': 'carbon_v1', 'tkn_in': 'HEX-eb39', 'amount_in': 86.3666, 'tkn_out': 'WETH-6Cc2', 'amt_out': 0.0005, 'cid0': '4264881242'}]}\n"
     ]
    },
    {
     "name": "stdout",
     "output_type": "stream",
     "text": [
      "\n",
      "NEW ROUTE STRUCT:\n",
      "flashloan_struct=[{'platformId': 7, 'sourceTokens': ['0xC02aaA39b223FE8D0A0e5C4F27eAD9083C756Cc2'], 'sourceAmounts': [174000000000000]}]\n",
      "route_struct=[{'platformId': 3, 'sourceToken': '0xC02aaA39b223FE8D0A0e5C4F27eAD9083C756Cc2', 'targetToken': '0x2b591e99afE9f32eAA6214f7B7629768c40Eeb39', 'sourceAmount': 0, 'minTargetAmount': 8637771351, 'deadline': 1701211027, 'customAddress': '0x7a250d5630B4cF539739dF2C5dAcb4c659F2488D', 'customInt': 3000, 'customData': '0x'}, {'platformId': 6, 'sourceToken': '0x2b591e99afE9f32eAA6214f7B7629768c40Eeb39', 'targetToken': '0xEeeeeEeeeEeEeeEeEeEeeEEEeeeeEeeeeeeeEEeE', 'sourceAmount': 0, 'minTargetAmount': 450911275010526, 'deadline': 1701211027, 'customAddress': '0xC537e898CD774e2dCBa3B14Ea6f34C93d5eA45e1', 'customInt': 2000, 'customData': '0x000000000000000000000000000000000000000000000000000000000000002000000000000000000000000000000000000000000000000000000000000000010000000000000000000000000000002a0000000000000000000000000000005a0000000000000000000000000000000000000000000000000000000202d9ee57'}, {'platformId': 10, 'sourceToken': '0xEeeeeEeeeEeEeeEeEeEeeEEEeeeeEeeeeeeeEEeE', 'targetToken': '0xC02aaA39b223FE8D0A0e5C4F27eAD9083C756Cc2', 'sourceAmount': 0, 'minTargetAmount': 0, 'deadline': 1701211027, 'customAddress': '', 'customInt': 0, 'customData': '0x'}]\n",
      "\n",
      "\n",
      "\n",
      "NEW ROUTE STRUCT:\n",
      "flashloan_struct=[{'platformId': 7, 'sourceTokens': ['0xC02aaA39b223FE8D0A0e5C4F27eAD9083C756Cc2'], 'sourceAmounts': [174000000000000]}]\n",
      "route_struct=[{'platformId': 4, 'sourceToken': '0xC02aaA39b223FE8D0A0e5C4F27eAD9083C756Cc2', 'targetToken': '0x2b591e99afE9f32eAA6214f7B7629768c40Eeb39', 'sourceAmount': 0, 'minTargetAmount': 8636659476, 'deadline': 1701211027, 'customAddress': '0xE592427A0AEce92De3Edee1F18E0157C05861564', 'customInt': 3000, 'customData': '0x'}, {'platformId': 6, 'sourceToken': '0x2b591e99afE9f32eAA6214f7B7629768c40Eeb39', 'targetToken': '0xEeeeeEeeeEeEeeEeEeEeeEEEeeeeEeeeeeeeEEeE', 'sourceAmount': 0, 'minTargetAmount': 450855767910650, 'deadline': 1701211027, 'customAddress': '0xC537e898CD774e2dCBa3B14Ea6f34C93d5eA45e1', 'customInt': 2000, 'customData': '0x000000000000000000000000000000000000000000000000000000000000002000000000000000000000000000000000000000000000000000000000000000010000000000000000000000000000002a0000000000000000000000000000005a0000000000000000000000000000000000000000000000000000000202c8f714'}, {'platformId': 10, 'sourceToken': '0xEeeeeEeeeEeEeeEeEeEeeEEEeeeeEeeeeeeeEEeE', 'targetToken': '0xC02aaA39b223FE8D0A0e5C4F27eAD9083C756Cc2', 'sourceAmount': 0, 'minTargetAmount': 0, 'deadline': 1701211027, 'customAddress': '', 'customInt': 0, 'customData': '0x'}]\n",
      "\n",
      "\n"
     ]
    },
    {
     "name": "stderr",
     "output_type": "stream",
     "text": [
      "2023-11-21 12:03:59,181 [fastlane:INFO] - [2023-11-21T12:03:59::1700561039] |calculated_arb| == {'type': 'multi', 'profit_gas_token': 0.0001, 'profit_usd': 0.1889, 'flashloan': [{'token': 'WETH-6Cc2', 'amount': 0.003, 'profit': 0.0001}], 'trades': [{'trade_index': 0, 'exchange': 'uniswap_v2', 'tkn_in': 'WETH-6Cc2', 'amount_in': 0.003, 'tkn_out': 'SNX-2a6F', 'amt_out': 2.4124, 'cid0': '8394abb00a'}, {'trade_index': 1, 'exchange': 'carbon_v1', 'tkn_in': 'SNX-2a6F', 'amount_in': 2.4124, 'tkn_out': 'WETH-6Cc2', 'amt_out': 0.0031, 'cid0': '8529762546'}]}\n",
      "2023-11-21 12:03:59,761 [fastlane:INFO] - [2023-11-21T12:03:59::1700561039] |calculated_arb| == {'type': 'multi', 'profit_gas_token': 0.0001, 'profit_usd': 0.1783, 'flashloan': [{'token': 'WETH-6Cc2', 'amount': 0.003, 'profit': 0.0001}], 'trades': [{'trade_index': 0, 'exchange': 'uniswap_v3', 'tkn_in': 'WETH-6Cc2', 'amount_in': 0.003, 'tkn_out': 'SNX-2a6F', 'amt_out': 2.4121, 'cid0': 'bcf6189d22'}, {'trade_index': 1, 'exchange': 'carbon_v1', 'tkn_in': 'SNX-2a6F', 'amount_in': 2.4121, 'tkn_out': 'WETH-6Cc2', 'amt_out': 0.0031, 'cid0': '8529762546'}]}\n"
     ]
    },
    {
     "name": "stdout",
     "output_type": "stream",
     "text": [
      "\n",
      "NEW ROUTE STRUCT:\n",
      "flashloan_struct=[{'platformId': 7, 'sourceTokens': ['0xC02aaA39b223FE8D0A0e5C4F27eAD9083C756Cc2'], 'sourceAmounts': [3015000000000000]}]\n",
      "route_struct=[{'platformId': 3, 'sourceToken': '0xC02aaA39b223FE8D0A0e5C4F27eAD9083C756Cc2', 'targetToken': '0xC011a73ee8576Fb46F5E1c5751cA3B9Fe0af2a6F', 'sourceAmount': 0, 'minTargetAmount': 2412354235507889649, 'deadline': 1701211027, 'customAddress': '0x7a250d5630B4cF539739dF2C5dAcb4c659F2488D', 'customInt': 3000, 'customData': '0x'}, {'platformId': 6, 'sourceToken': '0xC011a73ee8576Fb46F5E1c5751cA3B9Fe0af2a6F', 'targetToken': '0xEeeeeEeeeEeEeeEeEeEeeEEEeeeeEeeeeeeeEEeE', 'sourceAmount': 0, 'minTargetAmount': 3129475406309406, 'deadline': 1701211027, 'customAddress': '0xC537e898CD774e2dCBa3B14Ea6f34C93d5eA45e1', 'customInt': 2000, 'customData': '0x0000000000000000000000000000000000000000000000000000000000000020000000000000000000000000000000000000000000000000000000000000000100000000000000000000000000000054000000000000000000000000000000f2000000000000000000000000000000000000000000000000217a67655fdb55f1'}, {'platformId': 10, 'sourceToken': '0xEeeeeEeeeEeEeeEeEeEeeEEEeeeeEeeeeeeeEEeE', 'targetToken': '0xC02aaA39b223FE8D0A0e5C4F27eAD9083C756Cc2', 'sourceAmount': 0, 'minTargetAmount': 0, 'deadline': 1701211027, 'customAddress': '', 'customInt': 0, 'customData': '0x'}]\n",
      "\n",
      "\n",
      "\n",
      "NEW ROUTE STRUCT:\n",
      "flashloan_struct=[{'platformId': 7, 'sourceTokens': ['0xC02aaA39b223FE8D0A0e5C4F27eAD9083C756Cc2'], 'sourceAmounts': [3021000000000000]}]\n",
      "route_struct=[{'platformId': 4, 'sourceToken': '0xC02aaA39b223FE8D0A0e5C4F27eAD9083C756Cc2', 'targetToken': '0xC011a73ee8576Fb46F5E1c5751cA3B9Fe0af2a6F', 'sourceAmount': 0, 'minTargetAmount': 2412053454070798595, 'deadline': 1701211027, 'customAddress': '0xE592427A0AEce92De3Edee1F18E0157C05861564', 'customInt': 3000, 'customData': '0x'}, {'platformId': 6, 'sourceToken': '0xC011a73ee8576Fb46F5E1c5751cA3B9Fe0af2a6F', 'targetToken': '0xEeeeeEeeeEeEeeEeEeEeeEEEeeeeEeeeeeeeEEeE', 'sourceAmount': 0, 'minTargetAmount': 3129085211496308, 'deadline': 1701211027, 'customAddress': '0xC537e898CD774e2dCBa3B14Ea6f34C93d5eA45e1', 'customInt': 2000, 'customData': '0x0000000000000000000000000000000000000000000000000000000000000020000000000000000000000000000000000000000000000000000000000000000100000000000000000000000000000054000000000000000000000000000000f2000000000000000000000000000000000000000000000000217955d63d24d903'}, {'platformId': 10, 'sourceToken': '0xEeeeeEeeeEeEeeEeEeEeeEEEeeeeEeeeeeeeEEeE', 'targetToken': '0xC02aaA39b223FE8D0A0e5C4F27eAD9083C756Cc2', 'sourceAmount': 0, 'minTargetAmount': 0, 'deadline': 1701211027, 'customAddress': '', 'customInt': 0, 'customData': '0x'}]\n",
      "\n",
      "\n"
     ]
    },
    {
     "name": "stderr",
     "output_type": "stream",
     "text": [
      "2023-11-21 12:04:00,544 [fastlane:INFO] - [2023-11-21T12:04:00::1700561040] |calculated_arb| == {'type': 'multi', 'profit_gas_token': 0.0001, 'profit_usd': 0.1151, 'flashloan': [{'token': 'WETH-6Cc2', 'amount': 0.003, 'profit': 0.0001}], 'trades': [{'trade_index': 0, 'exchange': 'balancer', 'tkn_in': 'WETH-6Cc2', 'amount_in': 0.003, 'tkn_out': 'SNX-2a6F', 'amt_out': 2.3948, 'cid0': '95f77b67a8'}, {'trade_index': 1, 'exchange': 'carbon_v1', 'tkn_in': 'SNX-2a6F', 'amount_in': 2.3948, 'tkn_out': 'WETH-6Cc2', 'amt_out': 0.0031, 'cid0': '8529762546'}]}\n"
     ]
    },
    {
     "name": "stdout",
     "output_type": "stream",
     "text": [
      "\n",
      "NEW ROUTE STRUCT:\n",
      "flashloan_struct=[{'platformId': 7, 'sourceTokens': ['0xC02aaA39b223FE8D0A0e5C4F27eAD9083C756Cc2'], 'sourceAmounts': [3037000000000000]}]\n",
      "route_struct=[{'platformId': 7, 'sourceToken': '0xC02aaA39b223FE8D0A0e5C4F27eAD9083C756Cc2', 'targetToken': '0xC011a73ee8576Fb46F5E1c5751cA3B9Fe0af2a6F', 'sourceAmount': 0, 'minTargetAmount': 2394837388571587690, 'deadline': 1701211027, 'customAddress': '0xC011a73ee8576Fb46F5E1c5751cA3B9Fe0af2a6F', 'customInt': 3249374757253751268355276259122675239274040171040535564758290851987386794023, 'customData': '0x'}, {'platformId': 6, 'sourceToken': '0xC011a73ee8576Fb46F5E1c5751cA3B9Fe0af2a6F', 'targetToken': '0xEeeeeEeeeEeEeeEeEeEeeEEEeeeeEeeeeeeeEEeE', 'sourceAmount': 0, 'minTargetAmount': 3106751321729970, 'deadline': 1701211027, 'customAddress': '0xC537e898CD774e2dCBa3B14Ea6f34C93d5eA45e1', 'customInt': 2000, 'customData': '0x0000000000000000000000000000000000000000000000000000000000000020000000000000000000000000000000000000000000000000000000000000000100000000000000000000000000000054000000000000000000000000000000f2000000000000000000000000000000000000000000000000213c2beaa0a2346a'}, {'platformId': 10, 'sourceToken': '0xEeeeeEeeeEeEeeEeEeEeeEEEeeeeEeeeeeeeEEeE', 'targetToken': '0xC02aaA39b223FE8D0A0e5C4F27eAD9083C756Cc2', 'sourceAmount': 0, 'minTargetAmount': 0, 'deadline': 1701211027, 'customAddress': '', 'customInt': 0, 'customData': '0x'}]\n",
      "\n",
      "\n"
     ]
    }
   ],
   "source": [
    "for arb in r:\n",
    "\n",
    "    (\n",
    "        best_profit,\n",
    "        best_trade_instructions_df,\n",
    "        best_trade_instructions_dic,\n",
    "        best_src_token,\n",
    "        best_trade_instructions,\n",
    "    ) = arb\n",
    "\n",
    "    # Order the trade instructions\n",
    "    (\n",
    "        ordered_trade_instructions_dct,\n",
    "        tx_in_count,\n",
    "    ) = bot._simple_ordering_by_src_token(\n",
    "        best_trade_instructions_dic, best_src_token\n",
    "    )\n",
    "\n",
    "    # Scale the trade instructions\n",
    "    ordered_scaled_dcts = bot._basic_scaling(\n",
    "        ordered_trade_instructions_dct, best_src_token\n",
    "    )\n",
    "\n",
    "    # Convert the trade instructions\n",
    "    ordered_trade_instructions_objects = bot._convert_trade_instructions(\n",
    "        ordered_scaled_dcts\n",
    "    )\n",
    "\n",
    "    # Create the tx route handler\n",
    "    tx_route_handler = bot.TxRouteHandlerClass(\n",
    "        trade_instructions=ordered_trade_instructions_objects\n",
    "    )\n",
    "\n",
    "    # Aggregate the carbon trades\n",
    "    agg_trade_instructions = (\n",
    "        tx_route_handler.aggregate_carbon_trades(ordered_trade_instructions_objects)\n",
    "        if bot._carbon_in_trade_route(ordered_trade_instructions_objects)\n",
    "        else ordered_trade_instructions_objects\n",
    "    )\n",
    "\n",
    "    # Calculate the trade instructions\n",
    "    #try:\n",
    "    calculated_trade_instructions = tx_route_handler.calculate_trade_outputs(trade_instructions=agg_trade_instructions)\n",
    "\n",
    "    # Aggregate multiple Bancor V3 trades into a single trade\n",
    "    calculated_trade_instructions = tx_route_handler.aggregate_bancor_v3_trades(\n",
    "        calculated_trade_instructions\n",
    "    )\n",
    "    flashloan_struct = tx_route_handler.generate_flashloan_struct(\n",
    "        trade_instructions_objects=calculated_trade_instructions)\n",
    "\n",
    "    # Get the flashloan token\n",
    "    fl_token = calculated_trade_instructions[0].tknin_key\n",
    "\n",
    "\n",
    "    best_profit = flashloan_tkn_profit = tx_route_handler.calculate_trade_profit(\n",
    "        calculated_trade_instructions\n",
    "    )\n",
    "\n",
    "\n",
    "    # Use helper function to calculate profit\n",
    "    best_profit, flt_per_bnt, profit_usd = bot.calculate_profit(\n",
    "        CCm, best_profit, fl_token\n",
    "    )\n",
    "\n",
    "    # Log the best trade instructions\n",
    "    bot.handle_logging_for_trade_instructions(\n",
    "        1, best_profit=best_profit  # The log id\n",
    "    )\n",
    "\n",
    "    # Use helper function to update the log dict\n",
    "    log_dict = bot.update_log_dict(\n",
    "        arb_mode,\n",
    "        best_profit,\n",
    "        profit_usd,\n",
    "        flashloan_tkn_profit,\n",
    "        calculated_trade_instructions,\n",
    "        fl_token,\n",
    "    )\n",
    "\n",
    "    # Log the log dict\n",
    "    bot.handle_logging_for_trade_instructions(2, log_dict=log_dict)  # The log id\n",
    "\n",
    "    # Check if the best profit is greater than the minimum profit\n",
    "    # if best_profit < bot.ConfigObj.DEFAULT_MIN_PROFIT:\n",
    "    #     bot.ConfigObj.logger.info(\n",
    "    #         f\"Opportunity with profit: {num_format(best_profit)} does not meet minimum profit: {bot.ConfigObj.DEFAULT_MIN_PROFIT}, discarding.\"\n",
    "    #     )\n",
    "\n",
    "\n",
    "    # Get the flashloan amount and token address\n",
    "    flashloan_amount = int(calculated_trade_instructions[0].amtin_wei)\n",
    "    flashloan_token_address = bot.ConfigObj.w3.toChecksumAddress(\n",
    "        bot.db.get_token(key=fl_token).address\n",
    "    )\n",
    "\n",
    "    # Log the flashloan amount and token address\n",
    "    bot.handle_logging_for_trade_instructions(\n",
    "        3,  # The log id\n",
    "        flashloan_amount=flashloan_amount,\n",
    "    )\n",
    "\n",
    "    # Encode the trade instructions\n",
    "    encoded_trade_instructions = tx_route_handler.custom_data_encoder(\n",
    "        calculated_trade_instructions\n",
    "    )\n",
    "\n",
    "    # Get the deadline\n",
    "    deadline = bot._get_deadline(None)\n",
    "\n",
    "    # Get the route struct\n",
    "    route_struct = [\n",
    "        asdict(rs)\n",
    "        for rs in tx_route_handler.get_route_structs(\n",
    "            encoded_trade_instructions, deadline\n",
    "        )\n",
    "    ]\n",
    "    route_struct = maximize_last_trade_per_tkn(route_struct=route_struct)\n",
    "    # Check if the result is None\n",
    "\n",
    "    route_struct = tx_route_handler.add_wrap_or_unwrap_trades_to_route(trade_instructions=calculated_trade_instructions, route_struct=route_struct, flashloan_struct=flashloan_struct)\n",
    "    \n",
    "    #print(f\"\\nNEW ROUTE STRUCT:\\nflashloan_struct={flashloan_struct}\\nroute_struct={route_struct}\\n\\n\")\n",
    "    assert flashloan_struct[0][\"sourceTokens\"][0] in route_struct[0][\"sourceToken\"]\n",
    "    assert flashloan_struct[0][\"sourceTokens\"][0] in route_struct[-1][\"targetToken\"]\n",
    "\n",
    "    for idx, route in enumerate(route_struct):\n",
    "        if idx == 0:\n",
    "            continue\n",
    "        assert route[\"sourceToken\"] == route_struct[idx - 1][\"targetToken\"]\n",
    "\n",
    "\n",
    "    # Get the cids\n",
    "    cids = list({ti[\"cid\"].split(\"-\")[0] for ti in best_trade_instructions_dic})\n",
    "\n",
    "\n",
    "    # Log the route_struct\n",
    "    bot.handle_logging_for_trade_instructions(\n",
    "        4,  # The log id\n",
    "        flashloan_amount=flashloan_amount,\n",
    "        flashloan_token_address=flashloan_token_address,\n",
    "        route_struct=route_struct,\n",
    "        best_trade_instructions_dic=best_trade_instructions_dic,\n",
    "    )\n"
   ]
  },
  {
   "cell_type": "code",
   "execution_count": null,
   "id": "b01f2efe",
   "metadata": {},
   "outputs": [],
   "source": []
  },
  {
   "cell_type": "code",
   "execution_count": null,
   "id": "6f460b2e",
   "metadata": {},
   "outputs": [],
   "source": []
  }
 ],
 "metadata": {
  "jupytext": {
   "formats": "ipynb,py:light"
  },
  "kernelspec": {
   "display_name": "Python 3",
   "language": "python",
   "name": "python3"
  },
  "language_info": {
   "codemirror_mode": {
    "name": "ipython",
    "version": 3
   },
   "file_extension": ".py",
   "mimetype": "text/x-python",
   "name": "python",
   "nbconvert_exporter": "python",
   "pygments_lexer": "ipython3",
   "version": "3.10.1"
  }
 },
 "nbformat": 4,
 "nbformat_minor": 5
}

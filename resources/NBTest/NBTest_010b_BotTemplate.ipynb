{
 "cells": [
  {
   "cell_type": "code",
   "execution_count": 1,
   "id": "00f4598d",
   "metadata": {
    "lines_to_next_cell": 0
   },
   "outputs": [
    {
     "name": "stdout",
     "output_type": "stream",
     "text": [
      "Config v1.0-BETA8 (01/May 2023)\n",
      "CarbonBot v2.0-BETA4 (30/Apr/2023)\n",
      "imported m, np, pd, plt, os, sys, decimal; defined iseq, raises, require\n",
      "Version = 2.0-BETA4 [requirements >= 2.0 is met]\n"
     ]
    }
   ],
   "source": [
    "from fastlane_bot import Config, ConfigDB, ConfigNetwork, ConfigProvider, Bot\n",
    "from web3 import Web3\n",
    "from fastlane_bot.data.abi import CARBON_CONTROLLER_ABI\n",
    "\n",
    "print(\"{0.__name__} v{0.__VERSION__} ({0.__DATE__})\".format(Config))\n",
    "print(\"{0.__name__} v{0.__VERSION__} ({0.__DATE__})\".format(Bot))\n",
    "from fastlane_bot.testing import *\n",
    "\n",
    "from fastlane_bot import __VERSION__\n",
    "require(\"2.0\", __VERSION__)"
   ]
  },
  {
   "cell_type": "markdown",
   "id": "5764bc3f",
   "metadata": {},
   "source": [
    "# BOT TEMPLATE Tenderly [NBTest010b]"
   ]
  },
  {
   "cell_type": "markdown",
   "id": "9235fc75-70aa-4c48-9e79-ae200e85cacd",
   "metadata": {},
   "source": [
    "## Tenderly shell commands [NOTEST]\n",
    "\n",
    "note: the ! commands must be commented out when tests are created"
   ]
  },
  {
   "cell_type": "code",
   "execution_count": 2,
   "id": "b866941b-55fa-4a3a-8eaa-c0c2f32e0db3",
   "metadata": {},
   "outputs": [],
   "source": [
    "C_nw = ConfigNetwork.new(network=ConfigNetwork.NETWORK_TENDERLY)\n",
    "c1, c2 = C_nw.shellcommand().splitlines()"
   ]
  },
  {
   "cell_type": "code",
   "execution_count": 3,
   "id": "90ad28d2-9a1e-4a3b-9349-637d084e58a5",
   "metadata": {},
   "outputs": [
    {
     "name": "stdout",
     "output_type": "stream",
     "text": [
      "brownie networks delete tenderly\n"
     ]
    }
   ],
   "source": [
    "print(c1)\n",
    "#!{c1}"
   ]
  },
  {
   "cell_type": "code",
   "execution_count": 4,
   "id": "8120e42f-d571-4e48-9d9a-2986f313bb9b",
   "metadata": {},
   "outputs": [
    {
     "name": "stdout",
     "output_type": "stream",
     "text": [
      "brownie networks add \"Ethereum\" \"tenderly\" host=https://rpc.tenderly.co/fork/c0d1f990-c095-476f-80a9-72ac65092aae chainid=1\n"
     ]
    }
   ],
   "source": [
    "print(c2)\n",
    "#!{c2}"
   ]
  },
  {
   "cell_type": "markdown",
   "id": "4efa1891",
   "metadata": {},
   "source": [
    "## Tenderly Configuration"
   ]
  },
  {
   "cell_type": "markdown",
   "id": "149f50db-3f23-4398-8b4a-32319d8ddda2",
   "metadata": {},
   "source": [
    "### Shell commands\n",
    "\n",
    "Those shell commands need to be run before being able to connect to tenderly"
   ]
  },
  {
   "cell_type": "code",
   "execution_count": 5,
   "id": "3f50d93b-e9c6-48f4-aff2-9bc4ed7a4a18",
   "metadata": {},
   "outputs": [],
   "source": [
    "C_nw = ConfigNetwork.new(network=ConfigNetwork.NETWORK_TENDERLY)\n",
    "c1, c2 = C_nw.shellcommand().splitlines()\n",
    "assert c2 == 'brownie networks add \"Ethereum\" \"tenderly\" host=https://rpc.tenderly.co/fork/c0d1f990-c095-476f-80a9-72ac65092aae chainid=1'\n",
    "assert c1 == 'brownie networks delete tenderly'"
   ]
  },
  {
   "cell_type": "markdown",
   "id": "24006dce-bd82-4175-8e03-a6cc5b2e759a",
   "metadata": {},
   "source": [
    "### Connection proper"
   ]
  },
  {
   "cell_type": "code",
   "execution_count": 6,
   "id": "09c84781-afa9-4ba8-a2a0-fecc9faf7e95",
   "metadata": {},
   "outputs": [],
   "source": [
    "C = Config.new(config=Config.CONFIG_TENDERLY)\n",
    "assert C.DATABASE == C.DATABASE_POSTGRES\n",
    "assert C.POSTGRES_DB == \"tenderly\"\n",
    "assert C.NETWORK == C.NETWORK_TENDERLY\n",
    "assert C.PROVIDER == C.PROVIDER_TENDERLY\n",
    "assert C.w3.__class__.__name__ == \"Web3\"\n",
    "assert C.w3.isConnected()\n",
    "#assert C.w3.provider.endpoint_uri.startswith(\"https://rpc.tenderly.co/fork/\")"
   ]
  },
  {
   "cell_type": "markdown",
   "id": "09f5f9a3-2064-47e3-b7e1-d18ffcd5d785",
   "metadata": {},
   "source": [
    "## Tests that can fail [NOTEST]\n",
    "\n",
    "for some reason they work in a notebook but fail as tests"
   ]
  },
  {
   "cell_type": "code",
   "execution_count": 7,
   "id": "9d9bdab8-53d0-4cc4-bae4-422b5dcf540c",
   "metadata": {},
   "outputs": [],
   "source": [
    "C = Config.new(config=Config.CONFIG_TENDERLY)\n",
    "assert C.DATABASE == C.DATABASE_POSTGRES\n",
    "assert C.POSTGRES_DB == \"tenderly\"\n",
    "assert C.NETWORK == C.NETWORK_TENDERLY\n",
    "assert C.PROVIDER == C.PROVIDER_TENDERLY\n",
    "assert C.w3.__class__.__name__ == \"Web3\"\n",
    "assert C.w3.isConnected()\n",
    "assert C.w3.provider.endpoint_uri.startswith(\"https://rpc.tenderly.co/fork/\")"
   ]
  },
  {
   "cell_type": "code",
   "execution_count": 8,
   "id": "8b2fa517-deb8-44d9-97ad-93d8f6ab54cb",
   "metadata": {},
   "outputs": [
    {
     "name": "stdout",
     "output_type": "stream",
     "text": [
      "Mainnet block = 17167500, Tenderly block = 17067512\n"
     ]
    }
   ],
   "source": [
    "mainnet_w3 = Web3(Web3.HTTPProvider(f\"https://eth-mainnet.alchemyapi.io/v2/{os.environ.get('WEB3_ALCHEMY_PROJECT_ID')}\"))\n",
    "assert mainnet_w3.eth.blockNumber != C.w3.eth.block_number\n",
    "print(f\"Mainnet block = {mainnet_w3.eth.block_number}, Tenderly block = {C.w3.eth.block_number}\")\n",
    "CARBON_CONTROLLER = C.w3.eth.contract(address=\"0xC537e898CD774e2dCBa3B14Ea6f34C93d5eA45e1\", abi=CARBON_CONTROLLER_ABI)\n",
    "fee = CARBON_CONTROLLER.caller.tradingFeePPM()\n",
    "assert type(fee) == int"
   ]
  },
  {
   "cell_type": "code",
   "execution_count": 9,
   "id": "220801ab",
   "metadata": {},
   "outputs": [
    {
     "data": {
      "text/plain": [
       "Config(network=_ConfigNetworkTenderly(), db=_ConfigDBPostgres(), logger=_ConfigLoggerDefault(), provider=_ConfigProviderTenderly())"
      ]
     },
     "execution_count": 9,
     "metadata": {},
     "output_type": "execute_result"
    }
   ],
   "source": [
    "C_nw = ConfigNetwork.new(network=ConfigNetwork.NETWORK_TENDERLY)\n",
    "C_db = ConfigDB.new(db=ConfigDB.DATABASE_POSTGRES)\n",
    "C_pr = ConfigProvider.new(network=C_nw)\n",
    "C = Config(db = C_db, network = C_nw, provider = C_pr)\n",
    "C"
   ]
  },
  {
   "cell_type": "code",
   "execution_count": 10,
   "id": "fced0953",
   "metadata": {},
   "outputs": [],
   "source": [
    "bot = Bot(ConfigObj=C)"
   ]
  },
  {
   "cell_type": "code",
   "execution_count": null,
   "id": "08ad9abf",
   "metadata": {},
   "outputs": [],
   "source": []
  }
 ],
 "metadata": {
  "jupytext": {
   "encoding": "# -*- coding: utf-8 -*-",
   "formats": "ipynb,py:light"
  },
  "kernelspec": {
   "display_name": "Python 3",
   "language": "python",
   "name": "python3"
  },
  "language_info": {
   "codemirror_mode": {
    "name": "ipython",
    "version": 3
   },
   "file_extension": ".py",
   "mimetype": "text/x-python",
   "name": "python",
   "nbconvert_exporter": "python",
   "pygments_lexer": "ipython3",
   "version": "3.8.8"
  }
 },
 "nbformat": 4,
 "nbformat_minor": 5
}

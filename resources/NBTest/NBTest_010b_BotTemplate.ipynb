{
 "cells": [
  {
   "cell_type": "code",
   "execution_count": 1,
   "id": "00f4598d",
   "metadata": {
    "lines_to_next_cell": 0
   },
   "outputs": [
    {
     "name": "stdout",
     "output_type": "stream",
     "text": [
      "Config v1.0-BETA8 (01/May 2023)\n",
      "CarbonBot v2.0-BETA4 (30/Apr/2023)\n",
      "imported m, np, pd, plt, os, sys, decimal; defined iseq, raises, require\n",
      "Version = 2.0-BETA4 [requirements >= 2.0 is met]\n"
     ]
    }
   ],
   "source": [
    "from fastlane_bot import Config, ConfigDB, ConfigNetwork, ConfigProvider, Bot\n",
    "from web3 import Web3\n",
    "from fastlane_bot.data.abi import CARBON_CONTROLLER_ABI\n",
    "\n",
    "print(\"{0.__name__} v{0.__VERSION__} ({0.__DATE__})\".format(Config))\n",
    "print(\"{0.__name__} v{0.__VERSION__} ({0.__DATE__})\".format(Bot))\n",
    "from fastlane_bot.testing import *\n",
    "\n",
    "from fastlane_bot import __VERSION__\n",
    "require(\"2.0\", __VERSION__)"
   ]
  },
  {
   "cell_type": "markdown",
   "id": "5764bc3f",
   "metadata": {},
   "source": [
    "# BOT TEMPLATE Tenderly [NBTest010b]"
   ]
  },
  {
   "cell_type": "markdown",
   "id": "4efa1891",
   "metadata": {},
   "source": [
    "## Tenderly Configuration"
   ]
  },
  {
   "cell_type": "code",
   "execution_count": 12,
   "id": "3f50d93b-e9c6-48f4-aff2-9bc4ed7a4a18",
   "metadata": {},
   "outputs": [],
   "source": [
    "C_nw = ConfigNetwork.new(network=ConfigNetwork.NETWORK_TENDERLY)\n",
    "c1, c2 = C_nw.shellcommand().splitlines()\n",
    "assert c2 == 'brownie networks add \"Ethereum\" \"tenderly\" host=https://rpc.tenderly.co/fork/c0d1f990-c095-476f-80a9-72ac65092aae chainid=1'\n",
    "assert c1 == 'brownie networks delete tenderly'"
   ]
  },
  {
   "cell_type": "code",
   "execution_count": 14,
   "id": "3dec70bb",
   "metadata": {},
   "outputs": [
    {
     "name": "stdout",
     "output_type": "stream",
     "text": [
      "Mainnet block = 17167385, Tenderly block = 17067512\n"
     ]
    }
   ],
   "source": [
    "C = Config.new(config=Config.CONFIG_TENDERLY)\n",
    "assert C.DATABASE == C.DATABASE_POSTGRES\n",
    "assert C.POSTGRES_DB == \"tenderly\"\n",
    "assert C.NETWORK == C.NETWORK_TENDERLY\n",
    "assert C.PROVIDER == C.PROVIDER_TENDERLY\n",
    "assert C.w3.__class__.__name__ == \"Web3\"\n",
    "assert C.w3.isConnected()\n",
    "assert C.w3.provider.endpoint_uri.startswith(\"https://rpc.tenderly.co/fork/\")\n",
    "\n",
    "mainnet_w3 = Web3(Web3.HTTPProvider(f\"https://eth-mainnet.alchemyapi.io/v2/{os.environ.get('WEB3_ALCHEMY_PROJECT_ID')}\"))\n",
    "assert mainnet_w3.eth.blockNumber != C.w3.eth.block_number\n",
    "print(f\"Mainnet block = {mainnet_w3.eth.block_number}, Tenderly block = {C.w3.eth.block_number}\")\n",
    "CARBON_CONTROLLER = C.w3.eth.contract(address=\"0xC537e898CD774e2dCBa3B14Ea6f34C93d5eA45e1\", abi=CARBON_CONTROLLER_ABI)\n",
    "fee = CARBON_CONTROLLER.caller.tradingFeePPM()\n",
    "assert type(fee) == int"
   ]
  },
  {
   "cell_type": "code",
   "execution_count": 15,
   "id": "220801ab",
   "metadata": {},
   "outputs": [
    {
     "data": {
      "text/plain": [
       "Config(network=_ConfigNetworkTenderly(), db=_ConfigDBPostgres(), logger=_ConfigLoggerDefault(), provider=_ConfigProviderTenderly())"
      ]
     },
     "execution_count": 15,
     "metadata": {},
     "output_type": "execute_result"
    }
   ],
   "source": [
    "C_nw = ConfigNetwork.new(network=ConfigNetwork.NETWORK_TENDERLY)\n",
    "C_db = ConfigDB.new(db=ConfigDB.DATABASE_POSTGRES)\n",
    "C_pr = ConfigProvider.new(network=C_nw)\n",
    "C = Config(db = C_db, network = C_nw, provider = C_pr)\n",
    "C"
   ]
  },
  {
   "cell_type": "code",
   "execution_count": 16,
   "id": "fced0953",
   "metadata": {},
   "outputs": [],
   "source": [
    "bot = Bot(ConfigObj=C)"
   ]
  },
  {
   "cell_type": "code",
   "execution_count": null,
   "id": "08ad9abf",
   "metadata": {},
   "outputs": [],
   "source": []
  }
 ],
 "metadata": {
  "jupytext": {
   "encoding": "# -*- coding: utf-8 -*-",
   "formats": "ipynb,py:light"
  },
  "kernelspec": {
   "display_name": "Python 3",
   "language": "python",
   "name": "python3"
  },
  "language_info": {
   "codemirror_mode": {
    "name": "ipython",
    "version": 3
   },
   "file_extension": ".py",
   "mimetype": "text/x-python",
   "name": "python",
   "nbconvert_exporter": "python",
   "pygments_lexer": "ipython3",
   "version": "3.8.8"
  }
 },
 "nbformat": 4,
 "nbformat_minor": 5
}

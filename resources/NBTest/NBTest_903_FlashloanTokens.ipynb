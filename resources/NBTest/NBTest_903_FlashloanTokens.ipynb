{
 "cells": [
  {
   "cell_type": "code",
   "execution_count": 1,
   "id": "initial_id",
   "metadata": {
    "ExecuteTime": {
     "end_time": "2023-09-20T16:12:49.731036Z",
     "start_time": "2023-09-20T16:12:46.609956Z"
    }
   },
   "outputs": [
    {
     "name": "stdout",
     "output_type": "stream",
     "text": [
      "ConstantProductCurve v3.2 (15/Sep/2023)\n",
      "CarbonBot v3-b2.2 (20/June/2023)\n",
      "UniswapV2 v0.0.2 (2023-08-27)\n",
      "UniswapV3 v0.0.2 (2023-08-27)\n",
      "SushiswapV2 v0.0.2 (2023-08-27)\n",
      "CarbonV1 v0.0.2 (2023-08-27)\n",
      "BancorV3 v0.0.2 (2023-08-27)\n",
      "imported m, np, pd, plt, os, sys, decimal; defined iseq, raises, require\n",
      "Version = 3-b2.2 [requirements >= 3.0 is met]\n"
     ]
    }
   ],
   "source": [
    "# coding=utf-8\n",
    "\"\"\"\n",
    "This module contains the tests which ensure the the flashloan_tokens parameter is respected when using the b3_two_hop and bancor_v3 arb modes.\n",
    "\"\"\"\n",
    "from fastlane_bot import Bot\n",
    "from fastlane_bot.tools.cpc import ConstantProductCurve as CPC\n",
    "from fastlane_bot.events.exchanges import UniswapV2, UniswapV3, SushiswapV2, CarbonV1, BancorV3\n",
    "import subprocess, os, sys\n",
    "import pytest\n",
    "print(\"{0.__name__} v{0.__VERSION__} ({0.__DATE__})\".format(CPC))\n",
    "print(\"{0.__name__} v{0.__VERSION__} ({0.__DATE__})\".format(Bot))\n",
    "print(\"{0.__name__} v{0.__VERSION__} ({0.__DATE__})\".format(UniswapV2))\n",
    "print(\"{0.__name__} v{0.__VERSION__} ({0.__DATE__})\".format(UniswapV3))\n",
    "print(\"{0.__name__} v{0.__VERSION__} ({0.__DATE__})\".format(SushiswapV2))\n",
    "print(\"{0.__name__} v{0.__VERSION__} ({0.__DATE__})\".format(CarbonV1))\n",
    "print(\"{0.__name__} v{0.__VERSION__} ({0.__DATE__})\".format(BancorV3))\n",
    "from fastlane_bot.testing import *\n",
    "plt.rcParams['figure.figsize'] = [12,6]\n",
    "from fastlane_bot import __VERSION__\n",
    "require(\"3.0\", __VERSION__)"
   ]
  },
  {
   "cell_type": "markdown",
   "id": "dfafc69730cbead3",
   "metadata": {},
   "source": [
    "# Setup"
   ]
  },
  {
   "cell_type": "code",
   "execution_count": 2,
   "id": "1640a40ee6ae871c",
   "metadata": {
    "ExecuteTime": {
     "end_time": "2023-09-20T16:12:49.734856Z",
     "start_time": "2023-09-20T16:12:49.733179Z"
    }
   },
   "outputs": [],
   "source": [
    "def find_main_py():\n",
    "    # Start at the directory of the current script\n",
    "    cwd = os.path.abspath(os.path.join(os.getcwd()))\n",
    "    \n",
    "    with open(\"log.txt\", \"w\") as f:\n",
    "        f.write(f\"Searching for main.py in {cwd}\")\n",
    "                \n",
    "    print(f\"Searching for main.py in {cwd}\")\n",
    "    while True:\n",
    "        # Check if main.py exists in the current directory\n",
    "        if \"main.py\" in os.listdir(cwd):\n",
    "            return cwd  # Found the directory containing main.py\n",
    "        else:\n",
    "            # If not, go up one directory\n",
    "            new_cwd = os.path.dirname(cwd)\n",
    "\n",
    "            # If we're already at the root directory, stop searching\n",
    "            if new_cwd == cwd:\n",
    "                raise FileNotFoundError(\"Could not find main.py in any parent directory\")\n",
    "\n",
    "            cwd = new_cwd\n",
    "       \n",
    "       \n",
    "def run_command(mode):\n",
    "    \n",
    "    # Find the correct path to main.py\n",
    "    main_script_path = find_main_py()\n",
    "    print(f\"Found main.py in {main_script_path}\")\n",
    "    main_script_path = main_script_path + \"/main.py\"\n",
    "\n",
    "    # Run the command\n",
    "    cmd = [\n",
    "        \"python\",\n",
    "        main_script_path,\n",
    "        f\"--arb_mode={mode}\",\n",
    "        \"--default_min_profit_bnt=60\",\n",
    "        \"--limit_bancor3_flashloan_tokens=True\",\n",
    "        \"--use_cached_events=True\",\n",
    "        \"--logging_path=fastlane_bot/data/\",\n",
    "        \"--timeout=60\"\n",
    "    ]\n",
    "    subprocess.Popen(cmd)\n",
    "        \n",
    "    # Wait for the expected log line to appear\n",
    "    expected_log_line = \"limiting flashloan_tokens to [\"\n",
    "    found = False\n",
    "    result = subprocess.run(cmd, text=True, capture_output=True, check=True, timeout=120)\n",
    "\n",
    "    # Check if the expected log line is in the output\n",
    "    if expected_log_line in result.stderr:\n",
    "        found = True\n",
    "\n",
    "    if not found:\n",
    "        pytest.fail(\"Expected log line was not found within 1 minute\")  # If we reach this point, the test has failed"
   ]
  },
  {
   "cell_type": "markdown",
   "id": "614f482aec4be2f8",
   "metadata": {},
   "source": [
    "## Test Flashloan Tokens b3_two_hop"
   ]
  },
  {
   "cell_type": "code",
   "execution_count": 3,
   "id": "c6e198d0eeba3183",
   "metadata": {
    "ExecuteTime": {
     "end_time": "2023-09-20T16:14:07.336894Z",
     "start_time": "2023-09-20T16:12:49.736462Z"
    }
   },
   "outputs": [
    {
     "name": "stdout",
     "output_type": "stream",
     "text": [
      "Searching for main.py in /Users/mikewcasale/Documents/GitHub/bancorprotocol/fastlane-bot/resources/NBTest\n",
      "Found main.py in /Users/mikewcasale/Documents/GitHub/bancorprotocol/fastlane-bot\n"
     ]
    },
    {
     "name": "stderr",
     "output_type": "stream",
     "text": [
      "2023-09-20 09:12:52,614 [fastlane:INFO] - \n",
      "2023-09-20 09:12:52,615 [fastlane:INFO] - **********************************************\n",
      "2023-09-20 09:12:52,615 [fastlane:INFO] - The logging path is set to: fastlane_bot/data//logs/20230920-091252/bot.log\n",
      "2023-09-20 09:12:52,615 [fastlane:INFO] - **********************************************\n",
      "2023-09-20 09:12:52,615 [fastlane:INFO] - \n",
      "2023-09-20 09:12:53,155 [fastlane:INFO] - Using mainnet config\n",
      "2023-09-20 09:12:53,155 [fastlane:INFO] - Flashloan tokens are set as: ['WBTC-C599', 'BNT-FF1C', 'ETH-EEeE', 'USDC-eB48', 'USDT-1ec7', 'WETH-6Cc2', 'LINK-86CA'], <class 'list'>\n",
      "2023-09-20 09:12:53,156 [fastlane:INFO] - Running data fetching for exchanges: ['carbon_v1', 'bancor_v3', 'uniswap_v3', 'uniswap_v2', 'sushiswap_v2', 'bancor_v2']\n",
      "2023-09-20 09:12:53,156 [fastlane:INFO] - \n",
      "        +++++++++++++++++++++++++++++++++++++++++++++++++++++++++++++++++++++++++++++++++++++++++++++++\n",
      "        +++++++++++++++++++++++++++++++++++++++++++++++++++++++++++++++++++++++++++++++++++++++++++++++\n",
      "        \n",
      "        Starting fastlane bot with the following configuration:\n",
      "        \n",
      "        cache_latest_only: True\n",
      "        backdate_pools: False\n",
      "        arb_mode: b3_two_hop\n",
      "        flashloan_tokens: ['WBTC-C599', 'BNT-FF1C', 'ETH-EEeE', 'USDC-eB48', 'USDT-1ec7', 'WETH-6Cc2', 'LINK-86CA']\n",
      "        config: None\n",
      "        n_jobs: -1\n",
      "        exchanges: ['carbon_v1', 'bancor_v3', 'uniswap_v3', 'uniswap_v2', 'sushiswap_v2', 'bancor_v2']\n",
      "        polling_interval: 12\n",
      "        alchemy_max_block_fetch: 2000\n",
      "        static_pool_data_filename: static_pool_data\n",
      "        reorg_delay: 2\n",
      "        logging_path: fastlane_bot/data/logs/20230920-091252\n",
      "        loglevel: info\n",
      "        static_pool_data_sample_sz: max\n",
      "        use_cached_events: True\n",
      "        run_data_validator: False\n",
      "        randomizer: 3\n",
      "        limit_bancor3_flashloan_tokens: True\n",
      "        default_min_profit_bnt: 60\n",
      "        timeout: 60\n",
      "        target_tokens: None\n",
      "        \n",
      "        +++++++++++++++++++++++++++++++++++++++++++++++++++++++++++++++++++++++++++++++++++++++++++++++\n",
      "        +++++++++++++++++++++++++++++++++++++++++++++++++++++++++++++++++++++++++++++++++++++++++++++++\n",
      "        \n",
      "2023-09-20 09:12:53,731 [fastlane:INFO] - Retrieved 169 carbon pairs from contract\n",
      "2023-09-20 09:12:54,727 [fastlane:INFO] - Time taken to add initial pools: 0.10176801681518555\n",
      "2023-09-20 09:12:55,218 [fastlane:INFO] - Fetching events from 18176215 to 18178215... 0\n",
      "2023-09-20 09:12:55,218 [fastlane:INFO] - Using cached events\n",
      "2023-09-20 09:12:55,218 [fastlane:INFO] - Found 25 new events\n",
      "2023-09-20 09:12:57,477 [fastlane:INFO] - Updating carbon pools w/ multicall...\n",
      "2023-09-20 09:12:57,491 [fastlane:INFO] - Retrieved 169 carbon pairs from contract\n",
      "2023-09-20 09:12:57,521 [fastlane:INFO] - Retrieving carbon strategies from contract\n",
      "2023-09-20 09:12:58,216 [fastlane:INFO] - Carbon is initialized True\n",
      "2023-09-20 09:12:58,216 [fastlane:INFO] - Setting carbon fee pairs...\n",
      "2023-09-20 09:12:58,275 [fastlane:INFO] - Fetched 342 carbon strategies in 0.7977859973907471 seconds\n",
      "2023-09-20 09:13:16,574 [fastlane:INFO] - Updated 342 carbon strategies info in 18.298972129821777 seconds\n",
      "2023-09-20 09:13:38,276 [fastlane:INFO] - Initializing the bot...\n",
      "2023-09-20 09:13:38,405 [fastlane:INFO] - State has changed...\n",
      "2023-09-20 09:13:50,410 [fastlane:INFO] - \n",
      "                    +++++++++++++++++++++++++++++++++++++++++++++++++++++++++++++++++++++++++++++++++++++++++++++++\n",
      "                    +++++++++++++++++++++++++++++++++++++++++++++++++++++++++++++++++++++++++++++++++++++++++++++++\n",
      "                    \n",
      "                    Finished first iteration of data sync. Now starting main loop arbitrage search.\n",
      "                    \n",
      "                    +++++++++++++++++++++++++++++++++++++++++++++++++++++++++++++++++++++++++++++++++++++++++++++++\n",
      "                    +++++++++++++++++++++++++++++++++++++++++++++++++++++++++++++++++++++++++++++++++++++++++++++++\n",
      "                    \n",
      "2023-09-20 09:13:50,573 [fastlane:INFO] - Fetching events from 18178213 to 18178220... 18178215\n",
      "2023-09-20 09:13:50,573 [fastlane:INFO] - Using cached events\n",
      "2023-09-20 09:13:50,574 [fastlane:INFO] - Found 25 new events\n",
      "2023-09-20 09:13:52,991 [fastlane:INFO] - Initializing the bot...\n",
      "2023-09-20 09:13:53,131 [fastlane:INFO] - Removed 122 unmapped uniswap_v2/sushi pools. 5238 uniswap_v2/sushi pools remaining\n",
      "2023-09-20 09:13:53,131 [fastlane:INFO] - Unmapped uniswap_v2/sushi pools:\n",
      "2023-09-20 09:13:53,431 [fastlane:INFO] - uniswap_v3: 0\n",
      "2023-09-20 09:13:53,431 [fastlane:INFO] - uniswap_v2: 122\n",
      "2023-09-20 09:13:53,431 [fastlane:INFO] - sushiswap_v2: 0\n",
      "2023-09-20 09:13:53,433 [fastlane:INFO] - uniswap_v3: 10\n",
      "2023-09-20 09:13:53,433 [fastlane:INFO] - sushiswap_v2: 2\n",
      "2023-09-20 09:13:53,433 [fastlane:INFO] - uniswap_v2: 13\n",
      "2023-09-20 09:13:53,433 [fastlane:INFO] - bancor_v2: 0\n",
      "2023-09-20 09:13:53,433 [fastlane:INFO] - bancor_v3: 26\n",
      "2023-09-20 09:13:53,433 [fastlane:INFO] - carbon_v1: 342\n",
      "2023-09-20 09:13:53,451 [fastlane:INFO] - uniswap_v3_zero_liquidity_pools: 1484\n",
      "2023-09-20 09:13:53,451 [fastlane:INFO] - sushiswap_v2_zero_liquidity_pools: 87\n",
      "2023-09-20 09:13:53,451 [fastlane:INFO] - uniswap_v2_zero_liquidity_pools: 3130\n",
      "2023-09-20 09:13:53,451 [fastlane:INFO] - bancor_v2_zero_liquidity_pools: 99\n",
      "2023-09-20 09:13:53,452 [fastlane:INFO] - bancor_v3_zero_liquidity_pools: 45\n",
      "2023-09-20 09:13:53,452 [fastlane:INFO] - carbon_v1_zero_liquidity_pools: 0\n",
      "2023-09-20 09:13:53,452 [fastlane:INFO] - Removed 0 unsupported exchanges. 393 pools remaining\n",
      "2023-09-20 09:13:53,452 [fastlane:INFO] - Pools remaining per exchange:\n",
      "2023-09-20 09:13:53,452 [fastlane:INFO] - carbon_v1: 342\n",
      "2023-09-20 09:13:53,452 [fastlane:INFO] - bancor_v3: 26\n",
      "2023-09-20 09:13:53,452 [fastlane:INFO] - uniswap_v3: 10\n",
      "2023-09-20 09:13:53,452 [fastlane:INFO] - uniswap_v2: 13\n",
      "2023-09-20 09:13:53,452 [fastlane:INFO] - sushiswap_v2: 2\n",
      "2023-09-20 09:13:53,452 [fastlane:INFO] - bancor_v2: 0\n",
      "2023-09-20 09:13:53,467 [fastlane:INFO] - Transactions will be required to pass data validation for b3_two_hop\n",
      "2023-09-20 09:13:53,467 [fastlane:WARNING] - base_exchange must be bancor_v3 for b3_two_hop, setting it to bancor_v3\n",
      "2023-09-20 09:13:53,467 [fastlane:INFO] - flashloan_tokens for arb_mode=b3_two_hop will be overwritten. \n",
      "2023-09-20 09:13:53,467 [fastlane:INFO] - limiting flashloan_tokens to ['WBTC-C599', 'WETH-6Cc2', 'LINK-86CA', 'USDC-eB48', 'USDT-1ec7']\n",
      "2023-09-20 09:13:53,592 [fastlane:INFO] - Found 6 eligible arb opportunities.\n",
      "2023-09-20 09:13:53,592 [fastlane:INFO] - Validating pool data.\n",
      "2023-09-20 09:13:54,624 [fastlane:INFO] - Data validation failed. Updating pools and restarting.\n",
      "2023-09-20 09:14:06,629 [fastlane:INFO] - Timeout hit... stopping bot\n"
     ]
    }
   ],
   "source": [
    "run_command(\"b3_two_hop\")"
   ]
  }
 ],
 "metadata": {
  "kernelspec": {
   "display_name": "Python 3 (ipykernel)",
   "language": "python",
   "name": "python3"
  },
  "language_info": {
   "codemirror_mode": {
    "name": "ipython",
    "version": 3
   },
   "file_extension": ".py",
   "mimetype": "text/x-python",
   "name": "python",
   "nbconvert_exporter": "python",
   "pygments_lexer": "ipython3",
   "version": "3.9.17"
  }
 },
 "nbformat": 4,
 "nbformat_minor": 5
}

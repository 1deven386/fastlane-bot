{
 "cells": [
  {
   "cell_type": "code",
   "execution_count": 1,
   "id": "8f04c50a-67fe-4f09-822d-6ed6e3ac43e4",
   "metadata": {},
   "outputs": [
    {
     "name": "stdout",
     "output_type": "stream",
     "text": [
      "ConstantProductCurve v2.6.4.3 (01/May/2023)\n",
      "CarbonBot v2.0-BETA4 (30/Apr/2023)\n",
      "imported m, np, pd, plt, os, sys, decimal; defined iseq, raises, require\n"
     ]
    },
    {
     "name": "stderr",
     "output_type": "stream",
     "text": [
      "C:\\Users\\nicho\\AppData\\Local\\Temp\\ipykernel_39408\\207292069.py:7: MatplotlibDeprecationWarning: The seaborn styles shipped by Matplotlib are deprecated since 3.6, as they no longer correspond to the styles shipped by seaborn. However, they will remain available as 'seaborn-v0_8-<style>'. Alternatively, directly use the seaborn API instead.\n",
      "  plt.style.use('seaborn-dark')\n"
     ]
    },
    {
     "name": "stdout",
     "output_type": "stream",
     "text": [
      "Version = 2.0-BETA4 [requirements >= 2.0 is met]\n"
     ]
    }
   ],
   "source": [
    "from fastlane_bot import Config, ConfigDB, ConfigNetwork, ConfigProvider\n",
    "from fastlane_bot.bot import CarbonBot\n",
    "from fastlane_bot.tools.cpc import ConstantProductCurve as CPC, CPCContainer\n",
    "print(\"{0.__name__} v{0.__VERSION__} ({0.__DATE__})\".format(CPC))\n",
    "print(\"{0.__name__} v{0.__VERSION__} ({0.__DATE__})\".format(CarbonBot))\n",
    "from fastlane_bot.testing import *\n",
    "plt.style.use('seaborn-dark')\n",
    "plt.rcParams['figure.figsize'] = [12,6]\n",
    "from fastlane_bot import __VERSION__\n",
    "require(\"2.0\", __VERSION__)"
   ]
  },
  {
   "cell_type": "markdown",
   "id": "b3f59f14-b91b-4dba-94b0-3d513aaf41c7",
   "metadata": {},
   "source": [
    "# Testing the _run functions [NBTest011]"
   ]
  },
  {
   "cell_type": "markdown",
   "id": "cf03072d-6304-41f8-b132-9470ae81ac7c",
   "metadata": {},
   "source": [
    "## Mainnet Alchemy Configuration"
   ]
  },
  {
   "cell_type": "markdown",
   "id": "0990888a-698c-487c-9142-80e62a8393ac",
   "metadata": {},
   "source": [
    "### Set up the bot"
   ]
  },
  {
   "cell_type": "code",
   "execution_count": 2,
   "id": "da9ff008-cb12-44f7-93a8-84f7386da886",
   "metadata": {},
   "outputs": [],
   "source": [
    "C = Config.new(config=Config.CONFIG_UNITTEST)\n",
    "# assert C.DATABASE == C.DATABASE_POSTGRES\n",
    "# assert C.POSTGRES_DB == \"mainnet\"\n",
    "# assert C.NETWORK == C.NETWORK_MAINNET\n",
    "# assert C.PROVIDER == C.PROVIDER_ALCHEMY\n",
    "bot = CarbonBot(ConfigObj=C)\n",
    "# assert str(type(bot.db)) == \"<class 'fastlane_bot.db.manager.DatabaseManager'>\""
   ]
  },
  {
   "cell_type": "code",
   "execution_count": 3,
   "id": "6dd12563",
   "metadata": {},
   "outputs": [
    {
     "data": {
      "text/plain": [
       "\"<class 'fastlane_bot.db.mock_model_managers.MockDatabaseManager'>\""
      ]
     },
     "execution_count": 3,
     "metadata": {},
     "output_type": "execute_result"
    }
   ],
   "source": [
    "str(type(bot.db))"
   ]
  },
  {
   "cell_type": "markdown",
   "id": "08f2c872-c689-40b4-9ee3-cabcb43c3837",
   "metadata": {},
   "source": [
    "### Set up the curves"
   ]
  },
  {
   "cell_type": "code",
   "execution_count": 4,
   "id": "6bceb4ac",
   "metadata": {},
   "outputs": [
    {
     "data": {
      "text/plain": [
       "'carbon_v1'"
      ]
     },
     "execution_count": 4,
     "metadata": {},
     "output_type": "execute_result"
    }
   ],
   "source": [
    "cid = '1701411834604692317316873037158841057285-1'\n",
    "bot.db.get_pool(cid=cid.split('-')[0]).exchange_name"
   ]
  },
  {
   "cell_type": "code",
   "execution_count": 5,
   "id": "a0e247b8-9696-4935-9d49-aa17252e27de",
   "metadata": {},
   "outputs": [
    {
     "data": {
      "text/plain": [
       "ConstantProductCurve(k=32240349875.23444, x=8029987.531152765, x_act=0, y_act=10, pair='USDC-eB48/ETH-EEeE', cid='1701411834604692317316873037158841057285-1', fee=None, descr=None, constr='carb', params={'y': 10, 'yint': 10, 'A': 5.569293772436992e-05, 'B': 0.022304986837273527, 'pa': 0.0005, 'pb': 0.0004975124378109452})"
      ]
     },
     "execution_count": 5,
     "metadata": {},
     "output_type": "execute_result"
    }
   ],
   "source": [
    "cc1 = CPC.from_carbon(pair=\"ETH-EEeE/USDC-eB48\", tkny=\"ETH-EEeE\", yint=10, y=10, pa=1/2000, pb=1/2010, cid=\"1701411834604692317316873037158841057285-1\")\n",
    "assert iseq(1/2000, cc1.p, cc1.p_max)\n",
    "assert iseq(1/2010, cc1.p_min)\n",
    "assert cc1.p_convention() == 'ETH per USDC'\n",
    "assert cc1.p_min < cc1.p_max\n",
    "cc1"
   ]
  },
  {
   "cell_type": "code",
   "execution_count": 6,
   "id": "7f0267ca",
   "metadata": {},
   "outputs": [
    {
     "data": {
      "text/plain": [
       "Pool(id='170', cid='9868188640707215440437863615521278132401', last_updated='2023-04-26 14:15:33.986717', last_updated_block='17127594', descr='uniswap_v2 USDC-eB48/WETH-6Cc2 0.003', pair_name='USDC-eB48/WETH-6Cc2', exchange_name='uniswap_v2', fee='0.003', tkn0_balance='36261493395747', tkn1_balance='18592465452538740235568', z_0='', y_0='', A_0='', B_0='', z_1='', y_1='', A_1='', B_1='', sqrt_price_q96='0', tick='', tick_spacing='', liquidity='', address='0xb4e16d0168e52d35cacd2c6185b44281ec28c9dc', anchor='')"
      ]
     },
     "execution_count": 6,
     "metadata": {},
     "output_type": "execute_result"
    }
   ],
   "source": [
    "cid = '9868188640707215440437863615521278132401'\n",
    "bot.db.get_pool(cid=cid.split('-')[0])"
   ]
  },
  {
   "cell_type": "code",
   "execution_count": 7,
   "id": "e9e7a767-1d42-46ea-9a38-1ebbe68f7361",
   "metadata": {},
   "outputs": [
    {
     "data": {
      "text/plain": [
       "ConstantProductCurve(k=176400000000.0, x=9165.15138991168, x_act=210.72130297604053, y_act=463846.9078162946, pair='ETH-EEeE/USDC-eB48', cid='9868188640707215440437863615521278132401', fee=0, descr='', constr='pkpp', params={'L': 420000.0})"
      ]
     },
     "execution_count": 7,
     "metadata": {},
     "output_type": "execute_result"
    }
   ],
   "source": [
    "cu1 = CPC.from_univ3(pair=\"ETH-EEeE/USDC-eB48\", Pmarg=2100, uniPa=2000, uniPb=2200, \n",
    "                     uniL=200*m.sqrt(2100*2100), fee=0, cid=\"9868188640707215440437863615521278132401\", descr=\"\")\n",
    "assert iseq(cu1.p, 2100)\n",
    "assert iseq(cu1.p_min, 2000)\n",
    "assert iseq(cu1.p_max, 2200)\n",
    "assert cu1.p_convention() == 'USDC per ETH'\n",
    "assert cu1.p_min < cu1.p_max\n",
    "cu1"
   ]
  },
  {
   "cell_type": "code",
   "execution_count": 8,
   "id": "b60bf8c8",
   "metadata": {},
   "outputs": [
    {
     "data": {
      "text/plain": [
       "(2100.0, 0.0005)"
      ]
     },
     "execution_count": 8,
     "metadata": {},
     "output_type": "execute_result"
    }
   ],
   "source": [
    "cu1.p, cc1.p"
   ]
  },
  {
   "cell_type": "code",
   "execution_count": 9,
   "id": "c1a859da-906e-422a-92b8-e08363796d23",
   "metadata": {},
   "outputs": [],
   "source": [
    "CCm = CPCContainer([cu1, cc1])\n",
    "#CCm.plot()"
   ]
  },
  {
   "cell_type": "markdown",
   "id": "10b62d9a-25b8-42f4-9c73-24b059551b99",
   "metadata": {},
   "source": [
    "### Run `_find_arbitrage_opportunities}`"
   ]
  },
  {
   "cell_type": "markdown",
   "id": "c05fda51-9e6b-4792-a15d-7437e3dffc0d",
   "metadata": {},
   "source": [
    "#### AO_TOKENS"
   ]
  },
  {
   "cell_type": "code",
   "execution_count": 10,
   "id": "09c2cf84-217b-40d3-a878-5ae63f773c06",
   "metadata": {},
   "outputs": [
    {
     "data": {
      "text/plain": [
       "({'ETH-EEeE', 'USDC-eB48'}, [('ETH-EEeE', 'USDC-eB48')])"
      ]
     },
     "execution_count": 10,
     "metadata": {},
     "output_type": "execute_result"
    }
   ],
   "source": [
    "flt = ['USDC-eB48']\n",
    "r=bot._find_arbitrage_opportunities(flashloan_tokens=flt, CCm=CCm, result=bot.AO_TOKENS)\n",
    "r"
   ]
  },
  {
   "cell_type": "code",
   "execution_count": 11,
   "id": "6318966a-3b06-4584-a311-fd960e17cb25",
   "metadata": {},
   "outputs": [],
   "source": [
    "assert r[0] == {'ETH-EEeE', 'USDC-eB48'}\n",
    "assert r[1] == [('ETH-EEeE', 'USDC-eB48')]"
   ]
  },
  {
   "cell_type": "markdown",
   "id": "3d528aab-9816-4f5a-a037-ae87494eb481",
   "metadata": {},
   "source": [
    "#### AO_CANDIDATES [ETH]"
   ]
  },
  {
   "cell_type": "code",
   "execution_count": 12,
   "id": "70d50ff6-0fc8-410f-9402-43e10e2a3362",
   "metadata": {},
   "outputs": [
    {
     "name": "stdout",
     "output_type": "stream",
     "text": [
      "[margp_optimizer] singular Jacobian, using lstsq instead\n",
      "Profit in bnt: -877526.677450470825537742149690473068650558435832564896372787188738584518432617 ['9868188640707215440437863615521278132401']\n",
      "bnt_gas_limit: 319.9133248165296983245298179099336266517639160156250\n",
      "profit > best_profit: False\n",
      "profit > best_profit: False\n",
      "contains_carbon: False\n",
      "max(netchange)<1e-4: False\n"
     ]
    }
   ],
   "source": [
    "flt = ['ETH-EEeE']\n",
    "r = bot._find_arbitrage_opportunities(flashloan_tokens=flt, CCm=CCm, result=bot.AO_CANDIDATES)\n",
    "#assert len(r) == 1\n",
    "#r0, r1, r2, r3, r4 = r[0]"
   ]
  },
  {
   "cell_type": "markdown",
   "id": "132ffbe6-3888-482f-9699-c278551e62d6",
   "metadata": {},
   "source": [
    "#### AO_CANDIDATES [USDC]"
   ]
  },
  {
   "cell_type": "code",
   "execution_count": 13,
   "id": "b85540d3-fe68-4c80-b63c-43606c009886",
   "metadata": {},
   "outputs": [
    {
     "name": "stdout",
     "output_type": "stream",
     "text": [
      "Profit in bnt: 1977.43590718109779343899662351065063200811905419485015045211184769868850708008 ['9868188640707215440437863615521278132401', '1701411834604692317316873037158841057285-1']\n",
      "bnt_gas_limit: 319.9133248165296983245298179099336266517639160156250\n",
      "profit > best_profit: True\n",
      "profit > best_profit: True\n",
      "contains_carbon: True\n",
      "max(netchange)<1e-4: True\n",
      "*************\n",
      "New best profit: 1977.43590718109779343899662351065063200811905419485015045211184769868850708008\n",
      "best_trade_instructions_df:                                                 ETH-EEeE     USDC-eB48\n",
      "9868188640707215440437863615521278132401    1.000000e+01 -20977.111872\n",
      "1701411834604692317316873037158841057285-1 -1.000000e+01  20049.937656\n",
      "AMMIn                                       1.000000e+01  20049.937656\n",
      "AMMOut                                     -1.000000e+01 -20977.111872\n",
      "TOTAL NET                                  -1.062617e-07   -927.174216\n",
      "*************\n"
     ]
    }
   ],
   "source": [
    "flt = ['USDC-eB48']\n",
    "r = bot._find_arbitrage_opportunities(flashloan_tokens=flt, CCm=CCm, result=bot.AO_CANDIDATES)\n",
    "assert len(r) == 1\n",
    "r0, r1, r2, r3, r4 = r[0]"
   ]
  },
  {
   "cell_type": "code",
   "execution_count": 14,
   "id": "0b698902-3757-4826-8e02-bf34aba8cc7d",
   "metadata": {},
   "outputs": [
    {
     "data": {
      "text/plain": [
       "Decimal('1977.43590718109779343899662351065063200811905419485015045211184769868850708008')"
      ]
     },
     "execution_count": 14,
     "metadata": {},
     "output_type": "execute_result"
    }
   ],
   "source": [
    "assert r0 > 100\n",
    "r0"
   ]
  },
  {
   "cell_type": "code",
   "execution_count": 15,
   "id": "a1110660-906a-4666-aca7-cf0f30823a9d",
   "metadata": {},
   "outputs": [
    {
     "data": {
      "text/html": [
       "<div>\n",
       "<style scoped>\n",
       "    .dataframe tbody tr th:only-of-type {\n",
       "        vertical-align: middle;\n",
       "    }\n",
       "\n",
       "    .dataframe tbody tr th {\n",
       "        vertical-align: top;\n",
       "    }\n",
       "\n",
       "    .dataframe thead th {\n",
       "        text-align: right;\n",
       "    }\n",
       "</style>\n",
       "<table border=\"1\" class=\"dataframe\">\n",
       "  <thead>\n",
       "    <tr style=\"text-align: right;\">\n",
       "      <th></th>\n",
       "      <th>ETH-EEeE</th>\n",
       "      <th>USDC-eB48</th>\n",
       "    </tr>\n",
       "  </thead>\n",
       "  <tbody>\n",
       "    <tr>\n",
       "      <th>9868188640707215440437863615521278132401</th>\n",
       "      <td>1.000000e+01</td>\n",
       "      <td>-20977.111872</td>\n",
       "    </tr>\n",
       "    <tr>\n",
       "      <th>1701411834604692317316873037158841057285-1</th>\n",
       "      <td>-1.000000e+01</td>\n",
       "      <td>20049.937656</td>\n",
       "    </tr>\n",
       "    <tr>\n",
       "      <th>AMMIn</th>\n",
       "      <td>1.000000e+01</td>\n",
       "      <td>20049.937656</td>\n",
       "    </tr>\n",
       "    <tr>\n",
       "      <th>AMMOut</th>\n",
       "      <td>-1.000000e+01</td>\n",
       "      <td>-20977.111872</td>\n",
       "    </tr>\n",
       "    <tr>\n",
       "      <th>TOTAL NET</th>\n",
       "      <td>-1.062617e-07</td>\n",
       "      <td>-927.174216</td>\n",
       "    </tr>\n",
       "  </tbody>\n",
       "</table>\n",
       "</div>"
      ],
      "text/plain": [
       "                                                ETH-EEeE     USDC-eB48\n",
       "9868188640707215440437863615521278132401    1.000000e+01 -20977.111872\n",
       "1701411834604692317316873037158841057285-1 -1.000000e+01  20049.937656\n",
       "AMMIn                                       1.000000e+01  20049.937656\n",
       "AMMOut                                     -1.000000e+01 -20977.111872\n",
       "TOTAL NET                                  -1.062617e-07   -927.174216"
      ]
     },
     "execution_count": 15,
     "metadata": {},
     "output_type": "execute_result"
    }
   ],
   "source": [
    "assert r1.loc[\"TOTAL NET\"][\"ETH-EEeE\"] < 1e-5\n",
    "assert r1.loc[\"TOTAL NET\"][\"USDC-eB48\"] < -100\n",
    "r1"
   ]
  },
  {
   "cell_type": "code",
   "execution_count": 16,
   "id": "dcf827c3-8440-4bcf-98d0-357a825afa07",
   "metadata": {},
   "outputs": [
    {
     "data": {
      "text/plain": [
       "[{'cid': '9868188640707215440437863615521278132401',\n",
       "  'tknin': 'ETH-EEeE',\n",
       "  'amtin': 9.999999893738277,\n",
       "  'tknout': 'USDC-eB48',\n",
       "  'amtout': -20977.111871615052,\n",
       "  'error': None},\n",
       " {'cid': '1701411834604692317316873037158841057285-1',\n",
       "  'tknin': 'USDC-eB48',\n",
       "  'amtin': 20049.9376557637,\n",
       "  'tknout': 'ETH-EEeE',\n",
       "  'amtout': -10.0,\n",
       "  'error': None}]"
      ]
     },
     "execution_count": 16,
     "metadata": {},
     "output_type": "execute_result"
    }
   ],
   "source": [
    "r2"
   ]
  },
  {
   "cell_type": "code",
   "execution_count": 17,
   "id": "909a7544-99a1-4873-88e1-80d635ee4765",
   "metadata": {},
   "outputs": [
    {
     "data": {
      "text/plain": [
       "'USDC-eB48'"
      ]
     },
     "execution_count": 17,
     "metadata": {},
     "output_type": "execute_result"
    }
   ],
   "source": [
    "assert r3 == flt[0]\n",
    "r3"
   ]
  },
  {
   "cell_type": "code",
   "execution_count": 18,
   "id": "3b9f9e12-74a8-4bcf-b791-005103c8d254",
   "metadata": {},
   "outputs": [
    {
     "data": {
      "text/plain": [
       "(CPCArbOptimizer.TradeInstruction(cid='9868188640707215440437863615521278132401', tknin='ETH-EEeE', amtin=9.999999893738277, tknout='USDC-eB48', amtout=-20977.111871615052, error=None),\n",
       " CPCArbOptimizer.TradeInstruction(cid='1701411834604692317316873037158841057285-1', tknin='USDC-eB48', amtin=20049.9376557637, tknout='ETH-EEeE', amtout=-10.0, error=None))"
      ]
     },
     "execution_count": 18,
     "metadata": {},
     "output_type": "execute_result"
    }
   ],
   "source": [
    "r4"
   ]
  },
  {
   "cell_type": "markdown",
   "id": "0ffa39ba-b573-447c-be3d-c0cba04acc8c",
   "metadata": {},
   "source": [
    "#### Full"
   ]
  },
  {
   "cell_type": "code",
   "execution_count": 19,
   "id": "6c692263-684d-4393-938b-7e89700b701c",
   "metadata": {},
   "outputs": [
    {
     "name": "stdout",
     "output_type": "stream",
     "text": [
      "Profit in bnt: 1977.43590718109779343899662351065063200811905419485015045211184769868850708008 ['9868188640707215440437863615521278132401', '1701411834604692317316873037158841057285-1']\n",
      "bnt_gas_limit: 319.9133248165296983245298179099336266517639160156250\n",
      "profit > best_profit: True\n",
      "profit > best_profit: True\n",
      "contains_carbon: True\n",
      "max(netchange)<1e-4: True\n",
      "*************\n",
      "New best profit: 1977.43590718109779343899662351065063200811905419485015045211184769868850708008\n",
      "best_trade_instructions_df:                                                 ETH-EEeE     USDC-eB48\n",
      "9868188640707215440437863615521278132401    1.000000e+01 -20977.111872\n",
      "1701411834604692317316873037158841057285-1 -1.000000e+01  20049.937656\n",
      "AMMIn                                       1.000000e+01  20049.937656\n",
      "AMMOut                                     -1.000000e+01 -20977.111872\n",
      "TOTAL NET                                  -1.062617e-07   -927.174216\n",
      "*************\n"
     ]
    }
   ],
   "source": [
    "r = bot._find_arbitrage_opportunities(flashloan_tokens=flt, CCm=CCm)"
   ]
  },
  {
   "cell_type": "code",
   "execution_count": 20,
   "id": "d48c28bd",
   "metadata": {},
   "outputs": [
    {
     "data": {
      "text/plain": [
       "(CPCArbOptimizer.TradeInstruction(cid='9868188640707215440437863615521278132401', tknin='ETH-EEeE', amtin=9.999999893738277, tknout='USDC-eB48', amtout=-20977.111871615052, error=None),\n",
       " CPCArbOptimizer.TradeInstruction(cid='1701411834604692317316873037158841057285-1', tknin='USDC-eB48', amtin=20049.9376557637, tknout='ETH-EEeE', amtout=-10.0, error=None))"
      ]
     },
     "execution_count": 20,
     "metadata": {},
     "output_type": "execute_result"
    }
   ],
   "source": [
    "r[4]"
   ]
  },
  {
   "cell_type": "markdown",
   "id": "2ed9fc19-2c1f-4f77-bba3-1dcbd3195c88",
   "metadata": {},
   "source": [
    "### Run `_run`"
   ]
  },
  {
   "cell_type": "markdown",
   "id": "f3754951-034f-4a0e-880a-3d2bf8f8d1f1",
   "metadata": {},
   "source": [
    "#### XS_ARBOPPS"
   ]
  },
  {
   "cell_type": "code",
   "execution_count": 21,
   "id": "1af3bc41-7d2c-40c9-9d37-0ade3b0c427b",
   "metadata": {},
   "outputs": [
    {
     "name": "stdout",
     "output_type": "stream",
     "text": [
      "Profit in bnt: 1977.43590718109779343899662351065063200811905419485015045211184769868850708008 ['9868188640707215440437863615521278132401', '1701411834604692317316873037158841057285-1']\n",
      "bnt_gas_limit: 319.9133248165296983245298179099336266517639160156250\n",
      "profit > best_profit: True\n",
      "profit > best_profit: True\n",
      "contains_carbon: True\n",
      "max(netchange)<1e-4: True\n",
      "*************\n",
      "New best profit: 1977.43590718109779343899662351065063200811905419485015045211184769868850708008\n",
      "best_trade_instructions_df:                                                 ETH-EEeE     USDC-eB48\n",
      "9868188640707215440437863615521278132401    1.000000e+01 -20977.111872\n",
      "1701411834604692317316873037158841057285-1 -1.000000e+01  20049.937656\n",
      "AMMIn                                       1.000000e+01  20049.937656\n",
      "AMMOut                                     -1.000000e+01 -20977.111872\n",
      "TOTAL NET                                  -1.062617e-07   -927.174216\n",
      "*************\n"
     ]
    },
    {
     "data": {
      "text/plain": [
       "(Decimal('1977.43590718109779343899662351065063200811905419485015045211184769868850708008'),\n",
       "                                                 ETH-EEeE     USDC-eB48\n",
       " 9868188640707215440437863615521278132401    1.000000e+01 -20977.111872\n",
       " 1701411834604692317316873037158841057285-1 -1.000000e+01  20049.937656\n",
       " AMMIn                                       1.000000e+01  20049.937656\n",
       " AMMOut                                     -1.000000e+01 -20977.111872\n",
       " TOTAL NET                                  -1.062617e-07   -927.174216,\n",
       " [{'cid': '9868188640707215440437863615521278132401',\n",
       "   'tknin': 'ETH-EEeE',\n",
       "   'amtin': 9.999999893738277,\n",
       "   'tknout': 'USDC-eB48',\n",
       "   'amtout': -20977.111871615052,\n",
       "   'error': None},\n",
       "  {'cid': '1701411834604692317316873037158841057285-1',\n",
       "   'tknin': 'USDC-eB48',\n",
       "   'amtin': 20049.9376557637,\n",
       "   'tknout': 'ETH-EEeE',\n",
       "   'amtout': -10.0,\n",
       "   'error': None}],\n",
       " 'USDC-eB48',\n",
       " (CPCArbOptimizer.TradeInstruction(cid='9868188640707215440437863615521278132401', tknin='ETH-EEeE', amtin=9.999999893738277, tknout='USDC-eB48', amtout=-20977.111871615052, error=None),\n",
       "  CPCArbOptimizer.TradeInstruction(cid='1701411834604692317316873037158841057285-1', tknin='USDC-eB48', amtin=20049.9376557637, tknout='ETH-EEeE', amtout=-10.0, error=None)))"
      ]
     },
     "execution_count": 21,
     "metadata": {},
     "output_type": "execute_result"
    }
   ],
   "source": [
    "bot._run(flashloan_tokens=flt, CCm=CCm, result=bot.XS_ARBOPPS)"
   ]
  },
  {
   "cell_type": "markdown",
   "id": "7ae9aaba",
   "metadata": {},
   "source": [
    "#### XS_TI"
   ]
  },
  {
   "cell_type": "code",
   "execution_count": 22,
   "id": "faaba6f7",
   "metadata": {},
   "outputs": [
    {
     "name": "stdout",
     "output_type": "stream",
     "text": [
      "Profit in bnt: 1977.43590718109779343899662351065063200811905419485015045211184769868850708008 ['9868188640707215440437863615521278132401', '1701411834604692317316873037158841057285-1']\n",
      "bnt_gas_limit: 319.9133248165296983245298179099336266517639160156250\n",
      "profit > best_profit: True\n",
      "profit > best_profit: True\n",
      "contains_carbon: True\n",
      "max(netchange)<1e-4: True\n",
      "*************\n",
      "New best profit: 1977.43590718109779343899662351065063200811905419485015045211184769868850708008\n",
      "best_trade_instructions_df:                                                 ETH-EEeE     USDC-eB48\n",
      "9868188640707215440437863615521278132401    1.000000e+01 -20977.111872\n",
      "1701411834604692317316873037158841057285-1 -1.000000e+01  20049.937656\n",
      "AMMIn                                       1.000000e+01  20049.937656\n",
      "AMMOut                                     -1.000000e+01 -20977.111872\n",
      "TOTAL NET                                  -1.062617e-07   -927.174216\n",
      "*************\n",
      "[bot, convert trade instrucitons] [{'cid': '1701411834604692317316873037158841057285-1', 'tknin': 'USDC-eB48', 'amtin': 20029.887718107937, 'tknout': 'ETH-EEeE', 'amtout': -10.0, 'error': None}, {'cid': '9868188640707215440437863615521278132401', 'tknin': 'ETH-EEeE', 'amtin': 9.899999894800894, 'tknout': 'USDC-eB48', 'amtout': -20977.111871615052, 'error': None}]\n"
     ]
    },
    {
     "ename": "AttributeError",
     "evalue": "'MockDatabaseManager' object has no attribute 'session'",
     "output_type": "error",
     "traceback": [
      "\u001b[1;31m---------------------------------------------------------------------------\u001b[0m",
      "\u001b[1;31mAttributeError\u001b[0m                            Traceback (most recent call last)",
      "File \u001b[1;32m~\\AppData\\Roaming\\Python\\Python310\\site-packages\\IPython\\core\\formatters.py:706\u001b[0m, in \u001b[0;36mPlainTextFormatter.__call__\u001b[1;34m(self, obj)\u001b[0m\n\u001b[0;32m    699\u001b[0m stream \u001b[39m=\u001b[39m StringIO()\n\u001b[0;32m    700\u001b[0m printer \u001b[39m=\u001b[39m pretty\u001b[39m.\u001b[39mRepresentationPrinter(stream, \u001b[39mself\u001b[39m\u001b[39m.\u001b[39mverbose,\n\u001b[0;32m    701\u001b[0m     \u001b[39mself\u001b[39m\u001b[39m.\u001b[39mmax_width, \u001b[39mself\u001b[39m\u001b[39m.\u001b[39mnewline,\n\u001b[0;32m    702\u001b[0m     max_seq_length\u001b[39m=\u001b[39m\u001b[39mself\u001b[39m\u001b[39m.\u001b[39mmax_seq_length,\n\u001b[0;32m    703\u001b[0m     singleton_pprinters\u001b[39m=\u001b[39m\u001b[39mself\u001b[39m\u001b[39m.\u001b[39msingleton_printers,\n\u001b[0;32m    704\u001b[0m     type_pprinters\u001b[39m=\u001b[39m\u001b[39mself\u001b[39m\u001b[39m.\u001b[39mtype_printers,\n\u001b[0;32m    705\u001b[0m     deferred_pprinters\u001b[39m=\u001b[39m\u001b[39mself\u001b[39m\u001b[39m.\u001b[39mdeferred_printers)\n\u001b[1;32m--> 706\u001b[0m printer\u001b[39m.\u001b[39;49mpretty(obj)\n\u001b[0;32m    707\u001b[0m printer\u001b[39m.\u001b[39mflush()\n\u001b[0;32m    708\u001b[0m \u001b[39mreturn\u001b[39;00m stream\u001b[39m.\u001b[39mgetvalue()\n",
      "File \u001b[1;32m~\\AppData\\Roaming\\Python\\Python310\\site-packages\\IPython\\lib\\pretty.py:393\u001b[0m, in \u001b[0;36mRepresentationPrinter.pretty\u001b[1;34m(self, obj)\u001b[0m\n\u001b[0;32m    390\u001b[0m \u001b[39mfor\u001b[39;00m \u001b[39mcls\u001b[39m \u001b[39min\u001b[39;00m _get_mro(obj_class):\n\u001b[0;32m    391\u001b[0m     \u001b[39mif\u001b[39;00m \u001b[39mcls\u001b[39m \u001b[39min\u001b[39;00m \u001b[39mself\u001b[39m\u001b[39m.\u001b[39mtype_pprinters:\n\u001b[0;32m    392\u001b[0m         \u001b[39m# printer registered in self.type_pprinters\u001b[39;00m\n\u001b[1;32m--> 393\u001b[0m         \u001b[39mreturn\u001b[39;00m \u001b[39mself\u001b[39;49m\u001b[39m.\u001b[39;49mtype_pprinters[\u001b[39mcls\u001b[39;49m](obj, \u001b[39mself\u001b[39;49m, cycle)\n\u001b[0;32m    394\u001b[0m     \u001b[39melse\u001b[39;00m:\n\u001b[0;32m    395\u001b[0m         \u001b[39m# deferred printer\u001b[39;00m\n\u001b[0;32m    396\u001b[0m         printer \u001b[39m=\u001b[39m \u001b[39mself\u001b[39m\u001b[39m.\u001b[39m_in_deferred_types(\u001b[39mcls\u001b[39m)\n",
      "File \u001b[1;32m~\\AppData\\Roaming\\Python\\Python310\\site-packages\\IPython\\lib\\pretty.py:640\u001b[0m, in \u001b[0;36m_seq_pprinter_factory.<locals>.inner\u001b[1;34m(obj, p, cycle)\u001b[0m\n\u001b[0;32m    638\u001b[0m         p\u001b[39m.\u001b[39mtext(\u001b[39m'\u001b[39m\u001b[39m,\u001b[39m\u001b[39m'\u001b[39m)\n\u001b[0;32m    639\u001b[0m         p\u001b[39m.\u001b[39mbreakable()\n\u001b[1;32m--> 640\u001b[0m     p\u001b[39m.\u001b[39;49mpretty(x)\n\u001b[0;32m    641\u001b[0m \u001b[39mif\u001b[39;00m \u001b[39mlen\u001b[39m(obj) \u001b[39m==\u001b[39m \u001b[39m1\u001b[39m \u001b[39mand\u001b[39;00m \u001b[39misinstance\u001b[39m(obj, \u001b[39mtuple\u001b[39m):\n\u001b[0;32m    642\u001b[0m     \u001b[39m# Special case for 1-item tuples.\u001b[39;00m\n\u001b[0;32m    643\u001b[0m     p\u001b[39m.\u001b[39mtext(\u001b[39m'\u001b[39m\u001b[39m,\u001b[39m\u001b[39m'\u001b[39m)\n",
      "File \u001b[1;32m~\\AppData\\Roaming\\Python\\Python310\\site-packages\\IPython\\lib\\pretty.py:410\u001b[0m, in \u001b[0;36mRepresentationPrinter.pretty\u001b[1;34m(self, obj)\u001b[0m\n\u001b[0;32m    407\u001b[0m                         \u001b[39mreturn\u001b[39;00m meth(obj, \u001b[39mself\u001b[39m, cycle)\n\u001b[0;32m    408\u001b[0m                 \u001b[39mif\u001b[39;00m \u001b[39mcls\u001b[39m \u001b[39mis\u001b[39;00m \u001b[39mnot\u001b[39;00m \u001b[39mobject\u001b[39m \\\n\u001b[0;32m    409\u001b[0m                         \u001b[39mand\u001b[39;00m callable(\u001b[39mcls\u001b[39m\u001b[39m.\u001b[39m\u001b[39m__dict__\u001b[39m\u001b[39m.\u001b[39mget(\u001b[39m'\u001b[39m\u001b[39m__repr__\u001b[39m\u001b[39m'\u001b[39m)):\n\u001b[1;32m--> 410\u001b[0m                     \u001b[39mreturn\u001b[39;00m _repr_pprint(obj, \u001b[39mself\u001b[39;49m, cycle)\n\u001b[0;32m    412\u001b[0m     \u001b[39mreturn\u001b[39;00m _default_pprint(obj, \u001b[39mself\u001b[39m, cycle)\n\u001b[0;32m    413\u001b[0m \u001b[39mfinally\u001b[39;00m:\n",
      "File \u001b[1;32m~\\AppData\\Roaming\\Python\\Python310\\site-packages\\IPython\\lib\\pretty.py:778\u001b[0m, in \u001b[0;36m_repr_pprint\u001b[1;34m(obj, p, cycle)\u001b[0m\n\u001b[0;32m    776\u001b[0m \u001b[39m\"\"\"A pprint that just redirects to the normal repr function.\"\"\"\u001b[39;00m\n\u001b[0;32m    777\u001b[0m \u001b[39m# Find newlines and replace them with p.break_()\u001b[39;00m\n\u001b[1;32m--> 778\u001b[0m output \u001b[39m=\u001b[39m \u001b[39mrepr\u001b[39;49m(obj)\n\u001b[0;32m    779\u001b[0m lines \u001b[39m=\u001b[39m output\u001b[39m.\u001b[39msplitlines()\n\u001b[0;32m    780\u001b[0m \u001b[39mwith\u001b[39;00m p\u001b[39m.\u001b[39mgroup():\n",
      "File \u001b[1;32mc:\\Users\\nicho\\anaconda3\\envs\\arbbot\\lib\\dataclasses.py:239\u001b[0m, in \u001b[0;36m_recursive_repr.<locals>.wrapper\u001b[1;34m(self)\u001b[0m\n\u001b[0;32m    237\u001b[0m repr_running\u001b[39m.\u001b[39madd(key)\n\u001b[0;32m    238\u001b[0m \u001b[39mtry\u001b[39;00m:\n\u001b[1;32m--> 239\u001b[0m     result \u001b[39m=\u001b[39m user_function(\u001b[39mself\u001b[39;49m)\n\u001b[0;32m    240\u001b[0m \u001b[39mfinally\u001b[39;00m:\n\u001b[0;32m    241\u001b[0m     repr_running\u001b[39m.\u001b[39mdiscard(key)\n",
      "File \u001b[1;32m<string>:3\u001b[0m, in \u001b[0;36m__repr__\u001b[1;34m(self)\u001b[0m\n",
      "File \u001b[1;32mc:\\Users\\nicho\\anaconda3\\envs\\arbbot\\lib\\dataclasses.py:239\u001b[0m, in \u001b[0;36m_recursive_repr.<locals>.wrapper\u001b[1;34m(self)\u001b[0m\n\u001b[0;32m    237\u001b[0m repr_running\u001b[39m.\u001b[39madd(key)\n\u001b[0;32m    238\u001b[0m \u001b[39mtry\u001b[39;00m:\n\u001b[1;32m--> 239\u001b[0m     result \u001b[39m=\u001b[39m user_function(\u001b[39mself\u001b[39;49m)\n\u001b[0;32m    240\u001b[0m \u001b[39mfinally\u001b[39;00m:\n\u001b[0;32m    241\u001b[0m     repr_running\u001b[39m.\u001b[39mdiscard(key)\n",
      "File \u001b[1;32m<string>:3\u001b[0m, in \u001b[0;36m__repr__\u001b[1;34m(self)\u001b[0m\n",
      "\u001b[1;31mAttributeError\u001b[0m: 'MockDatabaseManager' object has no attribute 'session'"
     ]
    }
   ],
   "source": [
    "bot._run(flashloan_tokens=flt, CCm=CCm, result=bot.XS_TI)"
   ]
  },
  {
   "cell_type": "markdown",
   "id": "69bee6ae",
   "metadata": {},
   "source": [
    "#### XS_ORDSCAL"
   ]
  },
  {
   "cell_type": "code",
   "execution_count": null,
   "id": "cb6dd39e",
   "metadata": {},
   "outputs": [],
   "source": [
    "bot._run(flashloan_tokens=flt, CCm=CCm, result=bot.XS_ORDSCAL)"
   ]
  },
  {
   "cell_type": "markdown",
   "id": "cf292762",
   "metadata": {},
   "source": [
    "#### XS_AGGTI"
   ]
  },
  {
   "cell_type": "code",
   "execution_count": null,
   "id": "65f15f4a",
   "metadata": {},
   "outputs": [],
   "source": [
    "bot._run(flashloan_tokens=flt, CCm=CCm, result=bot.XS_AGGTI)"
   ]
  },
  {
   "cell_type": "markdown",
   "id": "d442cfa2",
   "metadata": {},
   "source": [
    "#### XS_ORDTI"
   ]
  },
  {
   "cell_type": "code",
   "execution_count": null,
   "id": "83cfc135",
   "metadata": {},
   "outputs": [],
   "source": [
    "bot._run(flashloan_tokens=flt, CCm=CCm, result=bot.XS_ORDTI)"
   ]
  },
  {
   "cell_type": "markdown",
   "id": "0c921b6d",
   "metadata": {},
   "source": [
    "#### XS_ENCTI"
   ]
  },
  {
   "cell_type": "code",
   "execution_count": null,
   "id": "fa3f3445",
   "metadata": {},
   "outputs": [],
   "source": [
    "bot._run(flashloan_tokens=flt, CCm=CCm, result=bot.XS_ENCTI)"
   ]
  },
  {
   "cell_type": "markdown",
   "id": "594e9070",
   "metadata": {},
   "source": [
    "#### XS_ROUTE"
   ]
  },
  {
   "cell_type": "code",
   "execution_count": null,
   "id": "ff18506a-83fd-44a0-b128-49bcf452c457",
   "metadata": {
    "lines_to_next_cell": 2
   },
   "outputs": [],
   "source": [
    "bot._run(flashloan_tokens=flt, CCm=CCm, result=bot.XS_ROUTE)"
   ]
  }
 ],
 "metadata": {
  "jupytext": {
   "encoding": "# -*- coding: utf-8 -*-",
   "formats": "ipynb,py:light"
  },
  "kernelspec": {
   "display_name": "Python 3",
   "language": "python",
   "name": "python3"
  },
  "language_info": {
   "codemirror_mode": {
    "name": "ipython",
    "version": 3
   },
   "file_extension": ".py",
   "mimetype": "text/x-python",
   "name": "python",
   "nbconvert_exporter": "python",
   "pygments_lexer": "ipython3",
   "version": "3.10.10"
  }
 },
 "nbformat": 4,
 "nbformat_minor": 5
}

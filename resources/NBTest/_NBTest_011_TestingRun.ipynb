{
 "cells": [
  {
   "cell_type": "code",
   "execution_count": 1,
   "id": "8f04c50a-67fe-4f09-822d-6ed6e3ac43e4",
   "metadata": {},
   "outputs": [
    {
     "name": "stdout",
     "output_type": "stream",
     "text": [
      "ConstantProductCurve v2.6.4.2 (30/Apr/2023)\n",
      "CarbonBot v2.0-BETA4 (30/Apr/2023)\n",
      "imported m, np, pd, plt, os, sys, decimal; defined iseq, raises, require\n"
     ]
    },
    {
     "name": "stderr",
     "output_type": "stream",
     "text": [
      "C:\\Users\\nicho\\AppData\\Local\\Temp\\ipykernel_34428\\1877708567.py:6: MatplotlibDeprecationWarning: The seaborn styles shipped by Matplotlib are deprecated since 3.6, as they no longer correspond to the styles shipped by seaborn. However, they will remain available as 'seaborn-v0_8-<style>'. Alternatively, directly use the seaborn API instead.\n",
      "  plt.style.use('seaborn-dark')\n"
     ]
    },
    {
     "name": "stdout",
     "output_type": "stream",
     "text": [
      "Version = 2.0-BETA4 [requirements >= 2.0 is met]\n"
     ]
    }
   ],
   "source": [
    "from fastlane_bot import Config, ConfigDB, ConfigNetwork, ConfigProvider, Bot\n",
    "from fastlane_bot.tools.cpc import ConstantProductCurve as CPC, CPCContainer\n",
    "print(\"{0.__name__} v{0.__VERSION__} ({0.__DATE__})\".format(CPC))\n",
    "print(\"{0.__name__} v{0.__VERSION__} ({0.__DATE__})\".format(Bot))\n",
    "from fastlane_bot.testing import *\n",
    "plt.style.use('seaborn-dark')\n",
    "plt.rcParams['figure.figsize'] = [12,6]\n",
    "from fastlane_bot import __VERSION__\n",
    "require(\"2.0\", __VERSION__)"
   ]
  },
  {
   "cell_type": "markdown",
   "id": "b3f59f14-b91b-4dba-94b0-3d513aaf41c7",
   "metadata": {},
   "source": [
    "# Testing the _run functions [NBTest011]"
   ]
  },
  {
   "cell_type": "markdown",
   "id": "cf03072d-6304-41f8-b132-9470ae81ac7c",
   "metadata": {},
   "source": [
    "## Mainnet Alchemy Configuration"
   ]
  },
  {
   "cell_type": "markdown",
   "id": "0990888a-698c-487c-9142-80e62a8393ac",
   "metadata": {},
   "source": [
    "### Set up the bot"
   ]
  },
  {
   "cell_type": "code",
   "execution_count": 2,
   "id": "da9ff008-cb12-44f7-93a8-84f7386da886",
   "metadata": {},
   "outputs": [],
   "source": [
    "C = Config.new(config=Config.CONFIG_MAINNET)\n",
    "assert C.DATABASE == C.DATABASE_POSTGRES\n",
    "assert C.POSTGRES_DB == \"mainnet\"\n",
    "assert C.NETWORK == C.NETWORK_MAINNET\n",
    "assert C.PROVIDER == C.PROVIDER_ALCHEMY\n",
    "bot = Bot(ConfigObj=C)"
   ]
  },
  {
   "cell_type": "markdown",
   "id": "08f2c872-c689-40b4-9ee3-cabcb43c3837",
   "metadata": {},
   "source": [
    "### Set up the curves"
   ]
  },
  {
   "cell_type": "code",
   "execution_count": 3,
   "id": "a0e247b8-9696-4935-9d49-aa17252e27de",
   "metadata": {},
   "outputs": [
    {
     "data": {
      "text/plain": [
       "ConstantProductCurve(k=32240349875.23444, x=8029987.531152765, x_act=0, y_act=10, pair='USDC-eB48/ETH-EEeE', cid='c-1', fee=None, descr=None, constr='carb', params={'y': 10, 'yint': 10, 'A': 5.569293772436992e-05, 'B': 0.022304986837273527, 'pa': 0.0005, 'pb': 0.0004975124378109452})"
      ]
     },
     "execution_count": 3,
     "metadata": {},
     "output_type": "execute_result"
    }
   ],
   "source": [
    "cc1 = CPC.from_carbon(pair=\"ETH-EEeE/USDC-eB48\", tkny=\"ETH-EEeE\", yint=10, y=10, pa=1/2000, pb=1/2010, cid=\"c-1\")\n",
    "assert iseq(1/2000, cc1.p, cc1.p_max)\n",
    "assert iseq(1/2010, cc1.p_min)\n",
    "assert cc1.p_convention() == 'ETH per USDC'\n",
    "assert cc1.p_min < cc1.p_max\n",
    "cc1"
   ]
  },
  {
   "cell_type": "code",
   "execution_count": 4,
   "id": "e9e7a767-1d42-46ea-9a38-1ebbe68f7361",
   "metadata": {},
   "outputs": [
    {
     "data": {
      "text/plain": [
       "ConstantProductCurve(k=176400000000.0, x=9165.15138991168, x_act=210.72130297604053, y_act=463846.9078162946, pair='ETH-EEeE/USDC-eB48', cid='uni1', fee=0, descr='', constr='pkpp', params={'L': 420000.0})"
      ]
     },
     "execution_count": 4,
     "metadata": {},
     "output_type": "execute_result"
    }
   ],
   "source": [
    "cu1 = CPC.from_univ3(pair=\"ETH-EEeE/USDC-eB48\", Pmarg=2100, uniPa=2000, uniPb=2200, \n",
    "                     uniL=200*m.sqrt(2100*2100), fee=0, cid=\"uni1\", descr=\"\")\n",
    "assert iseq(cu1.p, 2100)\n",
    "assert iseq(cu1.p_min, 2000)\n",
    "assert iseq(cu1.p_max, 2200)\n",
    "assert cu1.p_convention() == 'USDC per ETH'\n",
    "assert cu1.p_min < cu1.p_max\n",
    "cu1"
   ]
  },
  {
   "cell_type": "code",
   "execution_count": 5,
   "id": "b60bf8c8",
   "metadata": {},
   "outputs": [
    {
     "data": {
      "text/plain": [
       "(2100.0, 0.0005)"
      ]
     },
     "execution_count": 5,
     "metadata": {},
     "output_type": "execute_result"
    }
   ],
   "source": [
    "cu1.p, cc1.p"
   ]
  },
  {
   "cell_type": "code",
   "execution_count": 6,
   "id": "c1a859da-906e-422a-92b8-e08363796d23",
   "metadata": {},
   "outputs": [],
   "source": [
    "CCm = CPCContainer([cu1, cc1])\n",
    "#CCm.plot()"
   ]
  },
  {
   "cell_type": "markdown",
   "id": "10b62d9a-25b8-42f4-9c73-24b059551b99",
   "metadata": {},
   "source": [
    "### Run `_find_arbitrage_opportunities}`"
   ]
  },
  {
   "cell_type": "markdown",
   "id": "c05fda51-9e6b-4792-a15d-7437e3dffc0d",
   "metadata": {},
   "source": [
    "#### AO_TOKENS"
   ]
  },
  {
   "cell_type": "code",
   "execution_count": 7,
   "id": "09c2cf84-217b-40d3-a878-5ae63f773c06",
   "metadata": {},
   "outputs": [
    {
     "data": {
      "text/plain": [
       "({'ETH-EEeE', 'USDC-eB48'}, [('ETH-EEeE', 'USDC-eB48')])"
      ]
     },
     "execution_count": 7,
     "metadata": {},
     "output_type": "execute_result"
    }
   ],
   "source": [
    "flt = ['USDC-eB48']\n",
    "r=bot._find_arbitrage_opportunities(flashloan_tokens=flt, CCm=CCm, result=bot.AO_TOKENS)\n",
    "r"
   ]
  },
  {
   "cell_type": "code",
   "execution_count": 8,
   "id": "6318966a-3b06-4584-a311-fd960e17cb25",
   "metadata": {},
   "outputs": [],
   "source": [
    "assert r[0] == {'ETH-EEeE', 'USDC-eB48'}\n",
    "assert r[1] == [('ETH-EEeE', 'USDC-eB48')]"
   ]
  },
  {
   "cell_type": "markdown",
   "id": "3d528aab-9816-4f5a-a037-ae87494eb481",
   "metadata": {},
   "source": [
    "#### AO_CANDIDATES [ETH]"
   ]
  },
  {
   "cell_type": "code",
   "execution_count": 9,
   "id": "70d50ff6-0fc8-410f-9402-43e10e2a3362",
   "metadata": {},
   "outputs": [
    {
     "name": "stdout",
     "output_type": "stream",
     "text": [
      "[margp_optimizer] singular Jacobian, using lstsq instead\n",
      "Profit in bnt: -877526.677450470825537742149690473068650558435832564896372787188738584518432617 ['uni1']\n",
      "bnt_gas_limit: 319.9133248165296983245298179099336266517639160156250\n",
      "profit > best_profit: False\n",
      "profit > best_profit: False\n",
      "contains_carbon: False\n",
      "max(netchange)<1e-4: False\n"
     ]
    }
   ],
   "source": [
    "flt = ['ETH-EEeE']\n",
    "r = bot._find_arbitrage_opportunities(flashloan_tokens=flt, CCm=CCm, result=bot.AO_CANDIDATES)\n",
    "#assert len(r) == 1\n",
    "#r0, r1, r2, r3, r4 = r[0]"
   ]
  },
  {
   "cell_type": "markdown",
   "id": "132ffbe6-3888-482f-9699-c278551e62d6",
   "metadata": {},
   "source": [
    "#### AO_CANDIDATES [USDC]"
   ]
  },
  {
   "cell_type": "code",
   "execution_count": 10,
   "id": "b85540d3-fe68-4c80-b63c-43606c009886",
   "metadata": {},
   "outputs": [
    {
     "name": "stdout",
     "output_type": "stream",
     "text": [
      "Profit in bnt: 1977.43590718109779343899662351065063200811905419485015045211184769868850708008 ['uni1', 'c-1']\n",
      "bnt_gas_limit: 319.9133248165296983245298179099336266517639160156250\n",
      "profit > best_profit: True\n",
      "profit > best_profit: True\n",
      "contains_carbon: True\n",
      "max(netchange)<1e-4: True\n",
      "*************\n",
      "New best profit: 1977.43590718109779343899662351065063200811905419485015045211184769868850708008\n",
      "best_trade_instructions_df:                ETH-EEeE     USDC-eB48\n",
      "uni1       1.000000e+01 -20977.111872\n",
      "c-1       -1.000000e+01  20049.937656\n",
      "AMMIn      1.000000e+01  20049.937656\n",
      "AMMOut    -1.000000e+01 -20977.111872\n",
      "TOTAL NET -1.062617e-07   -927.174216\n",
      "*************\n"
     ]
    }
   ],
   "source": [
    "flt = ['USDC-eB48']\n",
    "r = bot._find_arbitrage_opportunities(flashloan_tokens=flt, CCm=CCm, result=bot.AO_CANDIDATES)\n",
    "assert len(r) == 1\n",
    "r0, r1, r2, r3, r4 = r[0]"
   ]
  },
  {
   "cell_type": "code",
   "execution_count": 11,
   "id": "0b698902-3757-4826-8e02-bf34aba8cc7d",
   "metadata": {},
   "outputs": [
    {
     "data": {
      "text/plain": [
       "Decimal('1977.43590718109779343899662351065063200811905419485015045211184769868850708008')"
      ]
     },
     "execution_count": 11,
     "metadata": {},
     "output_type": "execute_result"
    }
   ],
   "source": [
    "assert r0 > 100\n",
    "r0"
   ]
  },
  {
   "cell_type": "code",
   "execution_count": 12,
   "id": "a1110660-906a-4666-aca7-cf0f30823a9d",
   "metadata": {},
   "outputs": [
    {
     "data": {
      "text/html": [
       "<div>\n",
       "<style scoped>\n",
       "    .dataframe tbody tr th:only-of-type {\n",
       "        vertical-align: middle;\n",
       "    }\n",
       "\n",
       "    .dataframe tbody tr th {\n",
       "        vertical-align: top;\n",
       "    }\n",
       "\n",
       "    .dataframe thead th {\n",
       "        text-align: right;\n",
       "    }\n",
       "</style>\n",
       "<table border=\"1\" class=\"dataframe\">\n",
       "  <thead>\n",
       "    <tr style=\"text-align: right;\">\n",
       "      <th></th>\n",
       "      <th>ETH-EEeE</th>\n",
       "      <th>USDC-eB48</th>\n",
       "    </tr>\n",
       "  </thead>\n",
       "  <tbody>\n",
       "    <tr>\n",
       "      <th>uni1</th>\n",
       "      <td>1.000000e+01</td>\n",
       "      <td>-20977.111872</td>\n",
       "    </tr>\n",
       "    <tr>\n",
       "      <th>c-1</th>\n",
       "      <td>-1.000000e+01</td>\n",
       "      <td>20049.937656</td>\n",
       "    </tr>\n",
       "    <tr>\n",
       "      <th>AMMIn</th>\n",
       "      <td>1.000000e+01</td>\n",
       "      <td>20049.937656</td>\n",
       "    </tr>\n",
       "    <tr>\n",
       "      <th>AMMOut</th>\n",
       "      <td>-1.000000e+01</td>\n",
       "      <td>-20977.111872</td>\n",
       "    </tr>\n",
       "    <tr>\n",
       "      <th>TOTAL NET</th>\n",
       "      <td>-1.062617e-07</td>\n",
       "      <td>-927.174216</td>\n",
       "    </tr>\n",
       "  </tbody>\n",
       "</table>\n",
       "</div>"
      ],
      "text/plain": [
       "               ETH-EEeE     USDC-eB48\n",
       "uni1       1.000000e+01 -20977.111872\n",
       "c-1       -1.000000e+01  20049.937656\n",
       "AMMIn      1.000000e+01  20049.937656\n",
       "AMMOut    -1.000000e+01 -20977.111872\n",
       "TOTAL NET -1.062617e-07   -927.174216"
      ]
     },
     "execution_count": 12,
     "metadata": {},
     "output_type": "execute_result"
    }
   ],
   "source": [
    "assert r1.loc[\"TOTAL NET\"][\"ETH-EEeE\"] < 1e-5\n",
    "assert r1.loc[\"TOTAL NET\"][\"USDC-eB48\"] < -100\n",
    "r1"
   ]
  },
  {
   "cell_type": "code",
   "execution_count": 13,
   "id": "dcf827c3-8440-4bcf-98d0-357a825afa07",
   "metadata": {},
   "outputs": [
    {
     "data": {
      "text/plain": [
       "[{'cid': 'uni1',\n",
       "  'tknin': 'ETH-EEeE',\n",
       "  'amtin': 9.999999893738277,\n",
       "  'tknout': 'USDC-eB48',\n",
       "  'amtout': -20977.111871615052,\n",
       "  'error': None},\n",
       " {'cid': 'c-1',\n",
       "  'tknin': 'USDC-eB48',\n",
       "  'amtin': 20049.9376557637,\n",
       "  'tknout': 'ETH-EEeE',\n",
       "  'amtout': -10.0,\n",
       "  'error': None}]"
      ]
     },
     "execution_count": 13,
     "metadata": {},
     "output_type": "execute_result"
    }
   ],
   "source": [
    "r2"
   ]
  },
  {
   "cell_type": "code",
   "execution_count": 14,
   "id": "909a7544-99a1-4873-88e1-80d635ee4765",
   "metadata": {},
   "outputs": [
    {
     "data": {
      "text/plain": [
       "'USDC-eB48'"
      ]
     },
     "execution_count": 14,
     "metadata": {},
     "output_type": "execute_result"
    }
   ],
   "source": [
    "assert r3 == flt[0]\n",
    "r3"
   ]
  },
  {
   "cell_type": "code",
   "execution_count": 15,
   "id": "3b9f9e12-74a8-4bcf-b791-005103c8d254",
   "metadata": {},
   "outputs": [
    {
     "data": {
      "text/plain": [
       "(CPCArbOptimizer.TradeInstruction(cid='uni1', tknin='ETH-EEeE', amtin=9.999999893738277, tknout='USDC-eB48', amtout=-20977.111871615052, error=None),\n",
       " CPCArbOptimizer.TradeInstruction(cid='c-1', tknin='USDC-eB48', amtin=20049.9376557637, tknout='ETH-EEeE', amtout=-10.0, error=None))"
      ]
     },
     "execution_count": 15,
     "metadata": {},
     "output_type": "execute_result"
    }
   ],
   "source": [
    "r4"
   ]
  },
  {
   "cell_type": "markdown",
   "id": "0ffa39ba-b573-447c-be3d-c0cba04acc8c",
   "metadata": {},
   "source": [
    "#### Full"
   ]
  },
  {
   "cell_type": "code",
   "execution_count": 16,
   "id": "6c692263-684d-4393-938b-7e89700b701c",
   "metadata": {},
   "outputs": [
    {
     "name": "stdout",
     "output_type": "stream",
     "text": [
      "Profit in bnt: 1977.43590718109779343899662351065063200811905419485015045211184769868850708008 ['uni1', 'c-1']\n",
      "bnt_gas_limit: 319.9133248165296983245298179099336266517639160156250\n",
      "profit > best_profit: True\n",
      "profit > best_profit: True\n",
      "contains_carbon: True\n",
      "max(netchange)<1e-4: True\n",
      "*************\n",
      "New best profit: 1977.43590718109779343899662351065063200811905419485015045211184769868850708008\n",
      "best_trade_instructions_df:                ETH-EEeE     USDC-eB48\n",
      "uni1       1.000000e+01 -20977.111872\n",
      "c-1       -1.000000e+01  20049.937656\n",
      "AMMIn      1.000000e+01  20049.937656\n",
      "AMMOut    -1.000000e+01 -20977.111872\n",
      "TOTAL NET -1.062617e-07   -927.174216\n",
      "*************\n"
     ]
    }
   ],
   "source": [
    "r = bot._find_arbitrage_opportunities(flashloan_tokens=flt, CCm=CCm)"
   ]
  },
  {
   "cell_type": "code",
   "execution_count": 17,
   "id": "d48c28bd",
   "metadata": {},
   "outputs": [
    {
     "data": {
      "text/plain": [
       "(CPCArbOptimizer.TradeInstruction(cid='uni1', tknin='ETH-EEeE', amtin=9.999999893738277, tknout='USDC-eB48', amtout=-20977.111871615052, error=None),\n",
       " CPCArbOptimizer.TradeInstruction(cid='c-1', tknin='USDC-eB48', amtin=20049.9376557637, tknout='ETH-EEeE', amtout=-10.0, error=None))"
      ]
     },
     "execution_count": 17,
     "metadata": {},
     "output_type": "execute_result"
    }
   ],
   "source": [
    "r[4]"
   ]
  },
  {
   "cell_type": "markdown",
   "id": "2ed9fc19-2c1f-4f77-bba3-1dcbd3195c88",
   "metadata": {},
   "source": [
    "### Run `_run`"
   ]
  },
  {
   "cell_type": "markdown",
   "id": "f3754951-034f-4a0e-880a-3d2bf8f8d1f1",
   "metadata": {},
   "source": [
    "#### XS_ARBOPPS"
   ]
  },
  {
   "cell_type": "code",
   "execution_count": 18,
   "id": "1af3bc41-7d2c-40c9-9d37-0ade3b0c427b",
   "metadata": {},
   "outputs": [
    {
     "name": "stdout",
     "output_type": "stream",
     "text": [
      "Profit in bnt: 1977.43590718109779343899662351065063200811905419485015045211184769868850708008 ['uni1', 'c-1']\n",
      "bnt_gas_limit: 319.9133248165296983245298179099336266517639160156250\n",
      "profit > best_profit: True\n",
      "profit > best_profit: True\n",
      "contains_carbon: True\n",
      "max(netchange)<1e-4: True\n",
      "*************\n",
      "New best profit: 1977.43590718109779343899662351065063200811905419485015045211184769868850708008\n",
      "best_trade_instructions_df:                ETH-EEeE     USDC-eB48\n",
      "uni1       1.000000e+01 -20977.111872\n",
      "c-1       -1.000000e+01  20049.937656\n",
      "AMMIn      1.000000e+01  20049.937656\n",
      "AMMOut    -1.000000e+01 -20977.111872\n",
      "TOTAL NET -1.062617e-07   -927.174216\n",
      "*************\n"
     ]
    },
    {
     "data": {
      "text/plain": [
       "(Decimal('1977.43590718109779343899662351065063200811905419485015045211184769868850708008'),\n",
       "                ETH-EEeE     USDC-eB48\n",
       " uni1       1.000000e+01 -20977.111872\n",
       " c-1       -1.000000e+01  20049.937656\n",
       " AMMIn      1.000000e+01  20049.937656\n",
       " AMMOut    -1.000000e+01 -20977.111872\n",
       " TOTAL NET -1.062617e-07   -927.174216,\n",
       " [{'cid': 'uni1',\n",
       "   'tknin': 'ETH-EEeE',\n",
       "   'amtin': 9.999999893738277,\n",
       "   'tknout': 'USDC-eB48',\n",
       "   'amtout': -20977.111871615052,\n",
       "   'error': None},\n",
       "  {'cid': 'c-1',\n",
       "   'tknin': 'USDC-eB48',\n",
       "   'amtin': 20049.9376557637,\n",
       "   'tknout': 'ETH-EEeE',\n",
       "   'amtout': -10.0,\n",
       "   'error': None}],\n",
       " 'USDC-eB48',\n",
       " (CPCArbOptimizer.TradeInstruction(cid='uni1', tknin='ETH-EEeE', amtin=9.999999893738277, tknout='USDC-eB48', amtout=-20977.111871615052, error=None),\n",
       "  CPCArbOptimizer.TradeInstruction(cid='c-1', tknin='USDC-eB48', amtin=20049.9376557637, tknout='ETH-EEeE', amtout=-10.0, error=None)))"
      ]
     },
     "execution_count": 18,
     "metadata": {},
     "output_type": "execute_result"
    }
   ],
   "source": [
    "bot._run(flashloan_tokens=flt, CCm=CCm, result=bot.XS_ARBOPPS)"
   ]
  },
  {
   "cell_type": "markdown",
   "id": "7ae9aaba",
   "metadata": {},
   "source": [
    "#### XS_TI"
   ]
  },
  {
   "cell_type": "code",
   "execution_count": 19,
   "id": "faaba6f7",
   "metadata": {},
   "outputs": [
    {
     "name": "stdout",
     "output_type": "stream",
     "text": [
      "Profit in bnt: 1977.43590718109779343899662351065063200811905419485015045211184769868850708008 ['uni1', 'c-1']\n",
      "bnt_gas_limit: 319.9133248165296983245298179099336266517639160156250\n",
      "profit > best_profit: True\n",
      "profit > best_profit: True\n",
      "contains_carbon: True\n",
      "max(netchange)<1e-4: True\n",
      "*************\n",
      "New best profit: 1977.43590718109779343899662351065063200811905419485015045211184769868850708008\n",
      "best_trade_instructions_df:                ETH-EEeE     USDC-eB48\n",
      "uni1       1.000000e+01 -20977.111872\n",
      "c-1       -1.000000e+01  20049.937656\n",
      "AMMIn      1.000000e+01  20049.937656\n",
      "AMMOut    -1.000000e+01 -20977.111872\n",
      "TOTAL NET -1.062617e-07   -927.174216\n",
      "*************\n",
      "[bot, convert trade instrucitons] [{'cid': 'c-1', 'tknin': 'USDC-eB48', 'amtin': 20029.887718107937, 'tknout': 'ETH-EEeE', 'amtout': -10.0, 'error': None}, {'cid': 'uni1', 'tknin': 'ETH-EEeE', 'amtin': 9.899999894800894, 'tknout': 'USDC-eB48', 'amtout': -20977.111871615052, 'error': None}]\n",
      "tradeinstr, post_init, self.tknin USDC-eB48\n"
     ]
    },
    {
     "ename": "InvalidRequestError",
     "evalue": "Entity namespace for \"tokens\" has no property \"kwargs\"",
     "output_type": "error",
     "traceback": [
      "\u001b[1;31m---------------------------------------------------------------------------\u001b[0m",
      "\u001b[1;31mAttributeError\u001b[0m                            Traceback (most recent call last)",
      "File \u001b[1;32m~\\AppData\\Roaming\\Python\\Python310\\site-packages\\sqlalchemy\\sql\\base.py:2120\u001b[0m, in \u001b[0;36m_entity_namespace_key\u001b[1;34m(entity, key, default)\u001b[0m\n\u001b[0;32m   2119\u001b[0m     \u001b[39melse\u001b[39;00m:\n\u001b[1;32m-> 2120\u001b[0m         \u001b[39mreturn\u001b[39;00m \u001b[39mgetattr\u001b[39;49m(ns, key)  \u001b[39m# type: ignore\u001b[39;00m\n\u001b[0;32m   2121\u001b[0m \u001b[39mexcept\u001b[39;00m \u001b[39mAttributeError\u001b[39;00m \u001b[39mas\u001b[39;00m err:\n",
      "\u001b[1;31mAttributeError\u001b[0m: type object 'Token' has no attribute 'kwargs'",
      "\nThe above exception was the direct cause of the following exception:\n",
      "\u001b[1;31mInvalidRequestError\u001b[0m                       Traceback (most recent call last)",
      "Cell \u001b[1;32mIn[19], line 1\u001b[0m\n\u001b[1;32m----> 1\u001b[0m bot\u001b[39m.\u001b[39;49m_run(flashloan_tokens\u001b[39m=\u001b[39;49mflt, CCm\u001b[39m=\u001b[39;49mCCm, result\u001b[39m=\u001b[39;49mbot\u001b[39m.\u001b[39;49mXS_TI)\n",
      "File \u001b[1;32mc:\\Users\\nicho\\Dropbox\\Bancor_Protocol\\Github\\carbonbot\\fastlane_bot\\bot.py:570\u001b[0m, in \u001b[0;36mCarbonBot._run\u001b[1;34m(self, flashloan_tokens, CCm, result, network)\u001b[0m\n\u001b[0;32m    567\u001b[0m     \u001b[39mreturn\u001b[39;00m ordered_scaled_dcts\n\u001b[0;32m    569\u001b[0m \u001b[39m## Convert opportunities to trade instructions\u001b[39;00m\n\u001b[1;32m--> 570\u001b[0m ordered_trade_instructions_objects \u001b[39m=\u001b[39m \u001b[39mself\u001b[39;49m\u001b[39m.\u001b[39;49m_convert_trade_instructions(ordered_scaled_dcts)\n\u001b[0;32m    571\u001b[0m \u001b[39mif\u001b[39;00m result \u001b[39m==\u001b[39m \u001b[39mself\u001b[39m\u001b[39m.\u001b[39mXS_TI:\n\u001b[0;32m    572\u001b[0m     \u001b[39mreturn\u001b[39;00m ordered_trade_instructions_objects\n",
      "File \u001b[1;32mc:\\Users\\nicho\\Dropbox\\Bancor_Protocol\\Github\\carbonbot\\fastlane_bot\\bot.py:295\u001b[0m, in \u001b[0;36mCarbonBot._convert_trade_instructions\u001b[1;34m(self, trade_instructions_dic)\u001b[0m\n\u001b[0;32m    293\u001b[0m errorless_trade_instructions_dic \u001b[39m=\u001b[39m \u001b[39mself\u001b[39m\u001b[39m.\u001b[39m_drop_error(trade_instructions_dic)\n\u001b[0;32m    294\u001b[0m result \u001b[39m=\u001b[39m ({\u001b[39m*\u001b[39m\u001b[39m*\u001b[39mti, \u001b[39m\"\u001b[39m\u001b[39mraw_txs\u001b[39m\u001b[39m\"\u001b[39m: \u001b[39m\"\u001b[39m\u001b[39m[]\u001b[39m\u001b[39m\"\u001b[39m, \u001b[39m\"\u001b[39m\u001b[39mpair_sorting\u001b[39m\u001b[39m\"\u001b[39m: \u001b[39m\"\u001b[39m\u001b[39m\"\u001b[39m, \u001b[39m\"\u001b[39m\u001b[39mConfigObj\u001b[39m\u001b[39m\"\u001b[39m : \u001b[39mself\u001b[39m\u001b[39m.\u001b[39mConfigObj, \u001b[39m\"\u001b[39m\u001b[39mdb\u001b[39m\u001b[39m\"\u001b[39m:\u001b[39mself\u001b[39m\u001b[39m.\u001b[39mdb} \u001b[39mfor\u001b[39;00m ti \u001b[39min\u001b[39;00m errorless_trade_instructions_dic \u001b[39mif\u001b[39;00m ti \u001b[39mis\u001b[39;00m \u001b[39mnot\u001b[39;00m \u001b[39mNone\u001b[39;00m)\n\u001b[1;32m--> 295\u001b[0m result \u001b[39m=\u001b[39m [TradeInstruction(\u001b[39m*\u001b[39m\u001b[39m*\u001b[39mti) \u001b[39mfor\u001b[39;00m ti \u001b[39min\u001b[39;00m result]\n\u001b[0;32m    296\u001b[0m \u001b[39mreturn\u001b[39;00m result\n",
      "File \u001b[1;32mc:\\Users\\nicho\\Dropbox\\Bancor_Protocol\\Github\\carbonbot\\fastlane_bot\\bot.py:295\u001b[0m, in \u001b[0;36m<listcomp>\u001b[1;34m(.0)\u001b[0m\n\u001b[0;32m    293\u001b[0m errorless_trade_instructions_dic \u001b[39m=\u001b[39m \u001b[39mself\u001b[39m\u001b[39m.\u001b[39m_drop_error(trade_instructions_dic)\n\u001b[0;32m    294\u001b[0m result \u001b[39m=\u001b[39m ({\u001b[39m*\u001b[39m\u001b[39m*\u001b[39mti, \u001b[39m\"\u001b[39m\u001b[39mraw_txs\u001b[39m\u001b[39m\"\u001b[39m: \u001b[39m\"\u001b[39m\u001b[39m[]\u001b[39m\u001b[39m\"\u001b[39m, \u001b[39m\"\u001b[39m\u001b[39mpair_sorting\u001b[39m\u001b[39m\"\u001b[39m: \u001b[39m\"\u001b[39m\u001b[39m\"\u001b[39m, \u001b[39m\"\u001b[39m\u001b[39mConfigObj\u001b[39m\u001b[39m\"\u001b[39m : \u001b[39mself\u001b[39m\u001b[39m.\u001b[39mConfigObj, \u001b[39m\"\u001b[39m\u001b[39mdb\u001b[39m\u001b[39m\"\u001b[39m:\u001b[39mself\u001b[39m\u001b[39m.\u001b[39mdb} \u001b[39mfor\u001b[39;00m ti \u001b[39min\u001b[39;00m errorless_trade_instructions_dic \u001b[39mif\u001b[39;00m ti \u001b[39mis\u001b[39;00m \u001b[39mnot\u001b[39;00m \u001b[39mNone\u001b[39;00m)\n\u001b[1;32m--> 295\u001b[0m result \u001b[39m=\u001b[39m [TradeInstruction(\u001b[39m*\u001b[39m\u001b[39m*\u001b[39mti) \u001b[39mfor\u001b[39;00m ti \u001b[39min\u001b[39;00m result]\n\u001b[0;32m    296\u001b[0m \u001b[39mreturn\u001b[39;00m result\n",
      "File \u001b[1;32m<string>:13\u001b[0m, in \u001b[0;36m__init__\u001b[1;34m(self, ConfigObj, cid, tknin, amtin, tknout, amtout, pair_sorting, raw_txs, custom_data, db)\u001b[0m\n",
      "File \u001b[1;32mc:\\Users\\nicho\\Dropbox\\Bancor_Protocol\\Github\\carbonbot\\fastlane_bot\\helpers\\tradeinstruction.py:103\u001b[0m, in \u001b[0;36mTradeInstruction.__post_init__\u001b[1;34m(self)\u001b[0m\n\u001b[0;32m    101\u001b[0m \u001b[39mself\u001b[39m\u001b[39m.\u001b[39m_is_carbon \u001b[39m=\u001b[39m \u001b[39mself\u001b[39m\u001b[39m.\u001b[39m_check_if_carbon()\n\u001b[0;32m    102\u001b[0m \u001b[39mprint\u001b[39m(\u001b[39m\"\u001b[39m\u001b[39mtradeinstr, post_init, self.tknin\u001b[39m\u001b[39m\"\u001b[39m, \u001b[39mself\u001b[39m\u001b[39m.\u001b[39mtknin)\n\u001b[1;32m--> 103\u001b[0m TokenIn \u001b[39m=\u001b[39m \u001b[39mself\u001b[39;49m\u001b[39m.\u001b[39;49mdb\u001b[39m.\u001b[39;49mget_token(kwargs \u001b[39m=\u001b[39;49m {\u001b[39m\"\u001b[39;49m\u001b[39mkey\u001b[39;49m\u001b[39m\"\u001b[39;49m:\u001b[39mself\u001b[39;49m\u001b[39m.\u001b[39;49mtknin})\n\u001b[0;32m    104\u001b[0m \u001b[39mprint\u001b[39m(\u001b[39m\"\u001b[39m\u001b[39mtradeinstr, post_init, TokenIn\u001b[39m\u001b[39m\"\u001b[39m, TokenIn)\n\u001b[0;32m    105\u001b[0m \u001b[39mself\u001b[39m\u001b[39m.\u001b[39m_tknin_address \u001b[39m=\u001b[39m TokenIn\u001b[39m.\u001b[39maddress\n",
      "File \u001b[1;32mc:\\Users\\nicho\\Dropbox\\Bancor_Protocol\\Github\\carbonbot\\fastlane_bot\\db\\model_managers.py:38\u001b[0m, in \u001b[0;36mTokenManager.get_token\u001b[1;34m(self, **kwargs)\u001b[0m\n\u001b[0;32m     36\u001b[0m \u001b[39mdef\u001b[39;00m \u001b[39mget_token\u001b[39m(\u001b[39mself\u001b[39m, \u001b[39m*\u001b[39m\u001b[39m*\u001b[39mkwargs) \u001b[39m-\u001b[39m\u001b[39m>\u001b[39m Optional[models\u001b[39m.\u001b[39mToken]:\n\u001b[1;32m---> 38\u001b[0m     \u001b[39mreturn\u001b[39;00m \u001b[39mself\u001b[39m\u001b[39m.\u001b[39msession\u001b[39m.\u001b[39mquery(models\u001b[39m.\u001b[39mToken)\u001b[39m.\u001b[39mfilter_by(\u001b[39m*\u001b[39m\u001b[39m*\u001b[39mkwargs)\u001b[39m.\u001b[39mfirst()\n",
      "File \u001b[1;32m~\\AppData\\Roaming\\Python\\Python310\\site-packages\\sqlalchemy\\orm\\query.py:1998\u001b[0m, in \u001b[0;36mQuery.filter_by\u001b[1;34m(self, **kwargs)\u001b[0m\n\u001b[0;32m   1971\u001b[0m \u001b[39mr\u001b[39m\u001b[39m\"\"\"Apply the given filtering criterion to a copy\u001b[39;00m\n\u001b[0;32m   1972\u001b[0m \u001b[39mof this :class:`_query.Query`, using keyword expressions.\u001b[39;00m\n\u001b[0;32m   1973\u001b[0m \n\u001b[1;32m   (...)\u001b[0m\n\u001b[0;32m   1994\u001b[0m \n\u001b[0;32m   1995\u001b[0m \u001b[39m\"\"\"\u001b[39;00m\n\u001b[0;32m   1996\u001b[0m from_entity \u001b[39m=\u001b[39m \u001b[39mself\u001b[39m\u001b[39m.\u001b[39m_filter_by_zero()\n\u001b[1;32m-> 1998\u001b[0m clauses \u001b[39m=\u001b[39m [\n\u001b[0;32m   1999\u001b[0m     _entity_namespace_key(from_entity, key) \u001b[39m==\u001b[39m value\n\u001b[0;32m   2000\u001b[0m     \u001b[39mfor\u001b[39;00m key, value \u001b[39min\u001b[39;00m kwargs\u001b[39m.\u001b[39mitems()\n\u001b[0;32m   2001\u001b[0m ]\n\u001b[0;32m   2002\u001b[0m \u001b[39mreturn\u001b[39;00m \u001b[39mself\u001b[39m\u001b[39m.\u001b[39mfilter(\u001b[39m*\u001b[39mclauses)\n",
      "File \u001b[1;32m~\\AppData\\Roaming\\Python\\Python310\\site-packages\\sqlalchemy\\orm\\query.py:1999\u001b[0m, in \u001b[0;36m<listcomp>\u001b[1;34m(.0)\u001b[0m\n\u001b[0;32m   1971\u001b[0m \u001b[39mr\u001b[39m\u001b[39m\"\"\"Apply the given filtering criterion to a copy\u001b[39;00m\n\u001b[0;32m   1972\u001b[0m \u001b[39mof this :class:`_query.Query`, using keyword expressions.\u001b[39;00m\n\u001b[0;32m   1973\u001b[0m \n\u001b[1;32m   (...)\u001b[0m\n\u001b[0;32m   1994\u001b[0m \n\u001b[0;32m   1995\u001b[0m \u001b[39m\"\"\"\u001b[39;00m\n\u001b[0;32m   1996\u001b[0m from_entity \u001b[39m=\u001b[39m \u001b[39mself\u001b[39m\u001b[39m.\u001b[39m_filter_by_zero()\n\u001b[0;32m   1998\u001b[0m clauses \u001b[39m=\u001b[39m [\n\u001b[1;32m-> 1999\u001b[0m     _entity_namespace_key(from_entity, key) \u001b[39m==\u001b[39m value\n\u001b[0;32m   2000\u001b[0m     \u001b[39mfor\u001b[39;00m key, value \u001b[39min\u001b[39;00m kwargs\u001b[39m.\u001b[39mitems()\n\u001b[0;32m   2001\u001b[0m ]\n\u001b[0;32m   2002\u001b[0m \u001b[39mreturn\u001b[39;00m \u001b[39mself\u001b[39m\u001b[39m.\u001b[39mfilter(\u001b[39m*\u001b[39mclauses)\n",
      "File \u001b[1;32m~\\AppData\\Roaming\\Python\\Python310\\site-packages\\sqlalchemy\\sql\\base.py:2122\u001b[0m, in \u001b[0;36m_entity_namespace_key\u001b[1;34m(entity, key, default)\u001b[0m\n\u001b[0;32m   2120\u001b[0m         \u001b[39mreturn\u001b[39;00m \u001b[39mgetattr\u001b[39m(ns, key)  \u001b[39m# type: ignore\u001b[39;00m\n\u001b[0;32m   2121\u001b[0m \u001b[39mexcept\u001b[39;00m \u001b[39mAttributeError\u001b[39;00m \u001b[39mas\u001b[39;00m err:\n\u001b[1;32m-> 2122\u001b[0m     \u001b[39mraise\u001b[39;00m exc\u001b[39m.\u001b[39mInvalidRequestError(\n\u001b[0;32m   2123\u001b[0m         \u001b[39m'\u001b[39m\u001b[39mEntity namespace for \u001b[39m\u001b[39m\"\u001b[39m\u001b[39m%s\u001b[39;00m\u001b[39m\"\u001b[39m\u001b[39m has no property \u001b[39m\u001b[39m\"\u001b[39m\u001b[39m%s\u001b[39;00m\u001b[39m\"\u001b[39m\u001b[39m'\u001b[39m \u001b[39m%\u001b[39m (entity, key)\n\u001b[0;32m   2124\u001b[0m     ) \u001b[39mfrom\u001b[39;00m \u001b[39merr\u001b[39;00m\n",
      "\u001b[1;31mInvalidRequestError\u001b[0m: Entity namespace for \"tokens\" has no property \"kwargs\""
     ]
    }
   ],
   "source": [
    "bot._run(flashloan_tokens=flt, CCm=CCm, result=bot.XS_TI)"
   ]
  },
  {
   "cell_type": "markdown",
   "id": "69bee6ae",
   "metadata": {},
   "source": [
    "#### XS_ORDSCAL"
   ]
  },
  {
   "cell_type": "code",
   "execution_count": null,
   "id": "cb6dd39e",
   "metadata": {},
   "outputs": [],
   "source": [
    "bot._run(flashloan_tokens=flt, CCm=CCm, result=bot.XS_ORDSCAL)"
   ]
  },
  {
   "cell_type": "markdown",
   "id": "cf292762",
   "metadata": {},
   "source": [
    "#### XS_AGGTI"
   ]
  },
  {
   "cell_type": "code",
   "execution_count": null,
   "id": "65f15f4a",
   "metadata": {},
   "outputs": [],
   "source": [
    "bot._run(flashloan_tokens=flt, CCm=CCm, result=bot.XS_AGGTI)"
   ]
  },
  {
   "cell_type": "markdown",
   "id": "d442cfa2",
   "metadata": {},
   "source": [
    "#### XS_ORDTI"
   ]
  },
  {
   "cell_type": "code",
   "execution_count": null,
   "id": "83cfc135",
   "metadata": {},
   "outputs": [],
   "source": [
    "bot._run(flashloan_tokens=flt, CCm=CCm, result=bot.XS_ORDTI)"
   ]
  },
  {
   "cell_type": "markdown",
   "id": "0c921b6d",
   "metadata": {},
   "source": [
    "#### XS_ENCTI"
   ]
  },
  {
   "cell_type": "code",
   "execution_count": null,
   "id": "fa3f3445",
   "metadata": {},
   "outputs": [],
   "source": [
    "bot._run(flashloan_tokens=flt, CCm=CCm, result=bot.XS_ENCTI)"
   ]
  },
  {
   "cell_type": "markdown",
   "id": "594e9070",
   "metadata": {},
   "source": [
    "#### XS_ROUTE"
   ]
  },
  {
   "cell_type": "code",
   "execution_count": null,
   "id": "ff18506a-83fd-44a0-b128-49bcf452c457",
   "metadata": {
    "lines_to_next_cell": 2
   },
   "outputs": [],
   "source": [
    "bot._run(flashloan_tokens=flt, CCm=CCm, result=bot.XS_ROUTE)"
   ]
  }
 ],
 "metadata": {
  "jupytext": {
   "encoding": "# -*- coding: utf-8 -*-",
   "formats": "ipynb,py:light"
  },
  "kernelspec": {
   "display_name": "Python 3",
   "language": "python",
   "name": "python3"
  },
  "language_info": {
   "codemirror_mode": {
    "name": "ipython",
    "version": 3
   },
   "file_extension": ".py",
   "mimetype": "text/x-python",
   "name": "python",
   "nbconvert_exporter": "python",
   "pygments_lexer": "ipython3",
   "version": "3.10.10"
  }
 },
 "nbformat": 4,
 "nbformat_minor": 5
}

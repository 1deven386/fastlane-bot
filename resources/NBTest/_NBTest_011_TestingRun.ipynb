{
 "cells": [
  {
   "cell_type": "code",
   "execution_count": 1,
   "id": "8f04c50a-67fe-4f09-822d-6ed6e3ac43e4",
   "metadata": {},
   "outputs": [
    {
     "name": "stdout",
     "output_type": "stream",
     "text": [
      "ConstantProductCurve v2.6.4.2 (30/Apr/2023)\n",
      "CarbonBot v2.0-BETA4 (30/Apr/2023)\n",
      "imported m, np, pd, plt, os, sys, decimal; defined iseq, raises, require\n",
      "Version = 2.0-BETA4 [requirements >= 2.0 is met]\n"
     ]
    }
   ],
   "source": [
    "from fastlane_bot import Config, ConfigDB, ConfigNetwork, ConfigProvider, Bot\n",
    "from fastlane_bot.tools.cpc import ConstantProductCurve as CPC, CPCContainer\n",
    "print(\"{0.__name__} v{0.__VERSION__} ({0.__DATE__})\".format(CPC))\n",
    "print(\"{0.__name__} v{0.__VERSION__} ({0.__DATE__})\".format(Bot))\n",
    "from fastlane_bot.testing import *\n",
    "plt.style.use('seaborn-dark')\n",
    "plt.rcParams['figure.figsize'] = [12,6]\n",
    "from fastlane_bot import __VERSION__\n",
    "require(\"2.0\", __VERSION__)"
   ]
  },
  {
   "cell_type": "markdown",
   "id": "b3f59f14-b91b-4dba-94b0-3d513aaf41c7",
   "metadata": {},
   "source": [
    "# Testing the _run functions [NBTest011]"
   ]
  },
  {
   "cell_type": "markdown",
   "id": "cf03072d-6304-41f8-b132-9470ae81ac7c",
   "metadata": {},
   "source": [
    "## Mainnet Alchemy Configuration"
   ]
  },
  {
   "cell_type": "markdown",
   "id": "0990888a-698c-487c-9142-80e62a8393ac",
   "metadata": {},
   "source": [
    "### Set up the bot"
   ]
  },
  {
   "cell_type": "code",
   "execution_count": 2,
   "id": "da9ff008-cb12-44f7-93a8-84f7386da886",
   "metadata": {},
   "outputs": [],
   "source": [
    "C = Config.new(config=Config.CONFIG_MAINNET)\n",
    "assert C.DATABASE == C.DATABASE_POSTGRES\n",
    "assert C.POSTGRES_DB == \"mainnet\"\n",
    "assert C.NETWORK == C.NETWORK_MAINNET\n",
    "assert C.PROVIDER == C.PROVIDER_ALCHEMY\n",
    "bot = Bot(ConfigObj=C)"
   ]
  },
  {
   "cell_type": "markdown",
   "id": "08f2c872-c689-40b4-9ee3-cabcb43c3837",
   "metadata": {},
   "source": [
    "### Set up the curves"
   ]
  },
  {
   "cell_type": "code",
   "execution_count": 4,
   "id": "a0e247b8-9696-4935-9d49-aa17252e27de",
   "metadata": {},
   "outputs": [
    {
     "data": {
      "text/plain": [
       "ConstantProductCurve(k=32240349875.23444, x=8029987.531152765, x_act=0, y_act=10, pair='USDC/ETH', cid='c-1', fee=None, descr=None, constr='carb', params={'y': 10, 'yint': 10, 'A': 5.569293772436992e-05, 'B': 0.022304986837273527, 'pa': 0.0005, 'pb': 0.0004975124378109452})"
      ]
     },
     "execution_count": 4,
     "metadata": {},
     "output_type": "execute_result"
    }
   ],
   "source": [
    "cc1 = CPC.from_carbon(pair=\"ETH/USDC\", tkny=\"ETH\", yint=10, y=10, pa=1/2000, pb=1/2010, cid=\"c-1\")\n",
    "assert iseq(1/2000, cc1.p, cc1.p_max)\n",
    "assert iseq(1/2010, cc1.p_min)\n",
    "assert cc1.p_convention() == 'ETH per USDC'\n",
    "assert cc1.p_min < cc1.p_max\n",
    "cc1"
   ]
  },
  {
   "cell_type": "code",
   "execution_count": 5,
   "id": "e9e7a767-1d42-46ea-9a38-1ebbe68f7361",
   "metadata": {},
   "outputs": [
    {
     "data": {
      "text/plain": [
       "ConstantProductCurve(k=176400000000.0, x=9165.15138991168, x_act=210.72130297604053, y_act=463846.9078162946, pair='ETH/USDC', cid='uni1', fee=0, descr='', constr='pkpp', params={'L': 420000.0})"
      ]
     },
     "execution_count": 5,
     "metadata": {},
     "output_type": "execute_result"
    }
   ],
   "source": [
    "cu1 = CPC.from_univ3(pair=\"ETH/USDC\", Pmarg=2100, uniPa=2000, uniPb=2200, \n",
    "                     uniL=200*m.sqrt(2100*2100), fee=0, cid=\"uni1\", descr=\"\")\n",
    "assert iseq(cu1.p, 2100)\n",
    "assert iseq(cu1.p_min, 2000)\n",
    "assert iseq(cu1.p_max, 2200)\n",
    "assert cu1.p_convention() == 'USDC per ETH'\n",
    "assert cu1.p_min < cu1.p_max\n",
    "cu1"
   ]
  },
  {
   "cell_type": "code",
   "execution_count": 6,
   "id": "b60bf8c8",
   "metadata": {},
   "outputs": [
    {
     "data": {
      "text/plain": [
       "(2100.0, 0.0005)"
      ]
     },
     "execution_count": 6,
     "metadata": {},
     "output_type": "execute_result"
    }
   ],
   "source": [
    "cu1.p, cc1.p"
   ]
  },
  {
   "cell_type": "code",
   "execution_count": 37,
   "id": "c1a859da-906e-422a-92b8-e08363796d23",
   "metadata": {},
   "outputs": [],
   "source": [
    "CCm = CPCContainer([cu1, cc1])\n",
    "#CCm.plot()"
   ]
  },
  {
   "cell_type": "markdown",
   "id": "10b62d9a-25b8-42f4-9c73-24b059551b99",
   "metadata": {},
   "source": [
    "### Run `_find_arbitrage_opportunities}`"
   ]
  },
  {
   "cell_type": "markdown",
   "id": "c05fda51-9e6b-4792-a15d-7437e3dffc0d",
   "metadata": {},
   "source": [
    "#### AO_TOKENS"
   ]
  },
  {
   "cell_type": "code",
   "execution_count": 8,
   "id": "09c2cf84-217b-40d3-a878-5ae63f773c06",
   "metadata": {},
   "outputs": [
    {
     "data": {
      "text/plain": [
       "({'ETH', 'USDC'}, [('ETH', 'USDC')])"
      ]
     },
     "execution_count": 8,
     "metadata": {},
     "output_type": "execute_result"
    }
   ],
   "source": [
    "r=bot._find_arbitrage_opportunities(flashloan_tokens=flt, CCm=CCm, result=bot.AO_TOKENS)\n",
    "r"
   ]
  },
  {
   "cell_type": "code",
   "execution_count": 9,
   "id": "6318966a-3b06-4584-a311-fd960e17cb25",
   "metadata": {},
   "outputs": [],
   "source": [
    "assert r[0] == {'ETH', 'USDC'}\n",
    "assert r[1] == [('ETH', 'USDC')]"
   ]
  },
  {
   "cell_type": "markdown",
   "id": "3d528aab-9816-4f5a-a037-ae87494eb481",
   "metadata": {},
   "source": [
    "#### AO_CANDIDATES [ETH]"
   ]
  },
  {
   "cell_type": "code",
   "execution_count": 41,
   "id": "70d50ff6-0fc8-410f-9402-43e10e2a3362",
   "metadata": {},
   "outputs": [
    {
     "name": "stdout",
     "output_type": "stream",
     "text": [
      "[margp_optimizer] singular Jacobian, using lstsq instead\n",
      "Profit in bnt: -877526.6774504708255377421497 ['uni1']\n",
      "bnt_gas_limit: 319.9133248165296983245298179\n",
      "profit > best_profit: False\n",
      "profit > best_profit: False\n",
      "contains_carbon: False\n",
      "max(netchange)<1e-4: False\n"
     ]
    }
   ],
   "source": [
    "flt=[\"ETH\"]\n",
    "r = bot._find_arbitrage_opportunities(flashloan_tokens=flt, CCm=CCm, result=bot.AO_CANDIDATES)\n",
    "#assert len(r) == 1\n",
    "#r0, r1, r2, r3, r4 = r[0]"
   ]
  },
  {
   "cell_type": "markdown",
   "id": "132ffbe6-3888-482f-9699-c278551e62d6",
   "metadata": {},
   "source": [
    "#### AO_CANDIDATES [USDC]"
   ]
  },
  {
   "cell_type": "code",
   "execution_count": 38,
   "id": "b85540d3-fe68-4c80-b63c-43606c009886",
   "metadata": {},
   "outputs": [
    {
     "name": "stdout",
     "output_type": "stream",
     "text": [
      "Profit in bnt: 1977.435907181097793438996624 ['uni1', 'c-1']\n",
      "bnt_gas_limit: 319.9133248165296983245298179\n",
      "profit > best_profit: True\n",
      "profit > best_profit: True\n",
      "contains_carbon: True\n",
      "max(netchange)<1e-4: True\n",
      "*************\n",
      "New best profit: 1977.435907181097793438996624\n",
      "best_trade_instructions_df:                     ETH          USDC\n",
      "uni1       1.000000e+01 -20977.111872\n",
      "c-1       -1.000000e+01  20049.937656\n",
      "AMMIn      1.000000e+01  20049.937656\n",
      "AMMOut    -1.000000e+01 -20977.111872\n",
      "TOTAL NET -1.062617e-07   -927.174216\n",
      "*************\n"
     ]
    }
   ],
   "source": [
    "flt=[\"USDC\"]\n",
    "r = bot._find_arbitrage_opportunities(flashloan_tokens=flt, CCm=CCm, result=bot.AO_CANDIDATES)\n",
    "assert len(r) == 1\n",
    "r0, r1, r2, r3, r4 = r[0]"
   ]
  },
  {
   "cell_type": "code",
   "execution_count": 36,
   "id": "0b698902-3757-4826-8e02-bf34aba8cc7d",
   "metadata": {},
   "outputs": [
    {
     "data": {
      "text/plain": [
       "Decimal('1977.435907181097793438996624')"
      ]
     },
     "execution_count": 36,
     "metadata": {},
     "output_type": "execute_result"
    }
   ],
   "source": [
    "assert r0 > 100\n",
    "r0"
   ]
  },
  {
   "cell_type": "code",
   "execution_count": 34,
   "id": "a1110660-906a-4666-aca7-cf0f30823a9d",
   "metadata": {},
   "outputs": [
    {
     "data": {
      "text/html": [
       "<div>\n",
       "<style scoped>\n",
       "    .dataframe tbody tr th:only-of-type {\n",
       "        vertical-align: middle;\n",
       "    }\n",
       "\n",
       "    .dataframe tbody tr th {\n",
       "        vertical-align: top;\n",
       "    }\n",
       "\n",
       "    .dataframe thead th {\n",
       "        text-align: right;\n",
       "    }\n",
       "</style>\n",
       "<table border=\"1\" class=\"dataframe\">\n",
       "  <thead>\n",
       "    <tr style=\"text-align: right;\">\n",
       "      <th></th>\n",
       "      <th>ETH</th>\n",
       "      <th>USDC</th>\n",
       "    </tr>\n",
       "  </thead>\n",
       "  <tbody>\n",
       "    <tr>\n",
       "      <th>uni1</th>\n",
       "      <td>1.000000e+01</td>\n",
       "      <td>-20977.111872</td>\n",
       "    </tr>\n",
       "    <tr>\n",
       "      <th>c-1</th>\n",
       "      <td>-1.000000e+01</td>\n",
       "      <td>20049.937656</td>\n",
       "    </tr>\n",
       "    <tr>\n",
       "      <th>AMMIn</th>\n",
       "      <td>1.000000e+01</td>\n",
       "      <td>20049.937656</td>\n",
       "    </tr>\n",
       "    <tr>\n",
       "      <th>AMMOut</th>\n",
       "      <td>-1.000000e+01</td>\n",
       "      <td>-20977.111872</td>\n",
       "    </tr>\n",
       "    <tr>\n",
       "      <th>TOTAL NET</th>\n",
       "      <td>-1.062617e-07</td>\n",
       "      <td>-927.174216</td>\n",
       "    </tr>\n",
       "  </tbody>\n",
       "</table>\n",
       "</div>"
      ],
      "text/plain": [
       "                    ETH          USDC\n",
       "uni1       1.000000e+01 -20977.111872\n",
       "c-1       -1.000000e+01  20049.937656\n",
       "AMMIn      1.000000e+01  20049.937656\n",
       "AMMOut    -1.000000e+01 -20977.111872\n",
       "TOTAL NET -1.062617e-07   -927.174216"
      ]
     },
     "execution_count": 34,
     "metadata": {},
     "output_type": "execute_result"
    }
   ],
   "source": [
    "assert r1.loc[\"TOTAL NET\"][\"ETH\"] < 1e-5\n",
    "assert r1.loc[\"TOTAL NET\"][\"USDC\"] < -100\n",
    "r1"
   ]
  },
  {
   "cell_type": "code",
   "execution_count": 26,
   "id": "dcf827c3-8440-4bcf-98d0-357a825afa07",
   "metadata": {},
   "outputs": [
    {
     "data": {
      "text/plain": [
       "[{'cid': 'uni1',\n",
       "  'tknin': 'ETH',\n",
       "  'amtin': 9.999999893738277,\n",
       "  'tknout': 'USDC',\n",
       "  'amtout': -20977.111871615052,\n",
       "  'error': None},\n",
       " {'cid': 'c-1',\n",
       "  'tknin': 'USDC',\n",
       "  'amtin': 20049.9376557637,\n",
       "  'tknout': 'ETH',\n",
       "  'amtout': -10.0,\n",
       "  'error': None}]"
      ]
     },
     "execution_count": 26,
     "metadata": {},
     "output_type": "execute_result"
    }
   ],
   "source": [
    "r2"
   ]
  },
  {
   "cell_type": "code",
   "execution_count": 35,
   "id": "909a7544-99a1-4873-88e1-80d635ee4765",
   "metadata": {},
   "outputs": [
    {
     "data": {
      "text/plain": [
       "'USDC'"
      ]
     },
     "execution_count": 35,
     "metadata": {},
     "output_type": "execute_result"
    }
   ],
   "source": [
    "assert r3 == flt[0]\n",
    "r3"
   ]
  },
  {
   "cell_type": "code",
   "execution_count": 28,
   "id": "3b9f9e12-74a8-4bcf-b791-005103c8d254",
   "metadata": {},
   "outputs": [
    {
     "data": {
      "text/plain": [
       "(CPCArbOptimizer.TradeInstruction(cid='uni1', tknin='ETH', amtin=9.999999893738277, tknout='USDC', amtout=-20977.111871615052, error=None),\n",
       " CPCArbOptimizer.TradeInstruction(cid='c-1', tknin='USDC', amtin=20049.9376557637, tknout='ETH', amtout=-10.0, error=None))"
      ]
     },
     "execution_count": 28,
     "metadata": {},
     "output_type": "execute_result"
    }
   ],
   "source": [
    "r4"
   ]
  },
  {
   "cell_type": "markdown",
   "id": "0ffa39ba-b573-447c-be3d-c0cba04acc8c",
   "metadata": {},
   "source": [
    "#### Full"
   ]
  },
  {
   "cell_type": "code",
   "execution_count": 11,
   "id": "6c692263-684d-4393-938b-7e89700b701c",
   "metadata": {},
   "outputs": [
    {
     "name": "stdout",
     "output_type": "stream",
     "text": [
      "Profit in bnt: 1977.435907181097793438996624 ['uni1', 'c-1']\n",
      "bnt_gas_limit: 319.9133248165296983245298179\n",
      "profit > best_profit: True\n",
      "profit > best_profit: True\n",
      "contains_carbon: True\n",
      "max(netchange)<1e-4: True\n",
      "*************\n",
      "New best profit: 1977.435907181097793438996624\n",
      "best_trade_instructions_df:                     ETH          USDC\n",
      "uni1       1.000000e+01 -20977.111872\n",
      "c-1       -1.000000e+01  20049.937656\n",
      "AMMIn      1.000000e+01  20049.937656\n",
      "AMMOut    -1.000000e+01 -20977.111872\n",
      "TOTAL NET -1.062617e-07   -927.174216\n",
      "*************\n"
     ]
    }
   ],
   "source": [
    "r = bot._find_arbitrage_opportunities(flashloan_tokens=flt, CCm=CCm)"
   ]
  },
  {
   "cell_type": "code",
   "execution_count": 12,
   "id": "d48c28bd",
   "metadata": {},
   "outputs": [
    {
     "data": {
      "text/plain": [
       "(CPCArbOptimizer.TradeInstruction(cid='uni1', tknin='ETH', amtin=9.999999893738277, tknout='USDC', amtout=-20977.111871615052, error=None),\n",
       " CPCArbOptimizer.TradeInstruction(cid='c-1', tknin='USDC', amtin=20049.9376557637, tknout='ETH', amtout=-10.0, error=None))"
      ]
     },
     "execution_count": 12,
     "metadata": {},
     "output_type": "execute_result"
    }
   ],
   "source": [
    "r[4]"
   ]
  },
  {
   "cell_type": "markdown",
   "id": "2ed9fc19-2c1f-4f77-bba3-1dcbd3195c88",
   "metadata": {},
   "source": [
    "### Run `_run`"
   ]
  },
  {
   "cell_type": "markdown",
   "id": "f3754951-034f-4a0e-880a-3d2bf8f8d1f1",
   "metadata": {},
   "source": [
    "#### XS_ARBOPPS"
   ]
  },
  {
   "cell_type": "code",
   "execution_count": 13,
   "id": "1af3bc41-7d2c-40c9-9d37-0ade3b0c427b",
   "metadata": {},
   "outputs": [
    {
     "name": "stdout",
     "output_type": "stream",
     "text": [
      "Profit in bnt: 1977.435907181097793438996624 ['uni1', 'c-1']\n",
      "bnt_gas_limit: 319.9133248165296983245298179\n",
      "profit > best_profit: True\n",
      "profit > best_profit: True\n",
      "contains_carbon: True\n",
      "max(netchange)<1e-4: True\n",
      "*************\n",
      "New best profit: 1977.435907181097793438996624\n",
      "best_trade_instructions_df:                     ETH          USDC\n",
      "uni1       1.000000e+01 -20977.111872\n",
      "c-1       -1.000000e+01  20049.937656\n",
      "AMMIn      1.000000e+01  20049.937656\n",
      "AMMOut    -1.000000e+01 -20977.111872\n",
      "TOTAL NET -1.062617e-07   -927.174216\n",
      "*************\n"
     ]
    },
    {
     "data": {
      "text/plain": [
       "(Decimal('1977.435907181097793438996624'),\n",
       "                     ETH          USDC\n",
       " uni1       1.000000e+01 -20977.111872\n",
       " c-1       -1.000000e+01  20049.937656\n",
       " AMMIn      1.000000e+01  20049.937656\n",
       " AMMOut    -1.000000e+01 -20977.111872\n",
       " TOTAL NET -1.062617e-07   -927.174216,\n",
       " [{'cid': 'uni1',\n",
       "   'tknin': 'ETH',\n",
       "   'amtin': 9.999999893738277,\n",
       "   'tknout': 'USDC',\n",
       "   'amtout': -20977.111871615052,\n",
       "   'error': None},\n",
       "  {'cid': 'c-1',\n",
       "   'tknin': 'USDC',\n",
       "   'amtin': 20049.9376557637,\n",
       "   'tknout': 'ETH',\n",
       "   'amtout': -10.0,\n",
       "   'error': None}],\n",
       " 'USDC',\n",
       " (CPCArbOptimizer.TradeInstruction(cid='uni1', tknin='ETH', amtin=9.999999893738277, tknout='USDC', amtout=-20977.111871615052, error=None),\n",
       "  CPCArbOptimizer.TradeInstruction(cid='c-1', tknin='USDC', amtin=20049.9376557637, tknout='ETH', amtout=-10.0, error=None)))"
      ]
     },
     "execution_count": 13,
     "metadata": {},
     "output_type": "execute_result"
    }
   ],
   "source": [
    "bot._run(flashloan_tokens=flt, CCm=CCm, result=bot.XS_ARBOPPS)"
   ]
  },
  {
   "cell_type": "markdown",
   "id": "7ae9aaba",
   "metadata": {},
   "source": [
    "#### XS_TI"
   ]
  },
  {
   "cell_type": "code",
   "execution_count": 14,
   "id": "faaba6f7",
   "metadata": {},
   "outputs": [
    {
     "name": "stdout",
     "output_type": "stream",
     "text": [
      "Profit in bnt: 1977.435907181097793438996624 ['uni1', 'c-1']\n",
      "bnt_gas_limit: 319.9133248165296983245298179\n",
      "profit > best_profit: True\n",
      "profit > best_profit: True\n",
      "contains_carbon: True\n",
      "max(netchange)<1e-4: True\n",
      "*************\n",
      "New best profit: 1977.435907181097793438996624\n",
      "best_trade_instructions_df:                     ETH          USDC\n",
      "uni1       1.000000e+01 -20977.111872\n",
      "c-1       -1.000000e+01  20049.937656\n",
      "AMMIn      1.000000e+01  20049.937656\n",
      "AMMOut    -1.000000e+01 -20977.111872\n",
      "TOTAL NET -1.062617e-07   -927.174216\n",
      "*************\n"
     ]
    },
    {
     "ename": "AttributeError",
     "evalue": "'TradeInstruction' object has no attribute 'db'",
     "output_type": "error",
     "traceback": [
      "\u001b[0;31m---------------------------------------------------------------------------\u001b[0m",
      "\u001b[0;31mAttributeError\u001b[0m                            Traceback (most recent call last)",
      "\u001b[0;32m<ipython-input-14-ad904b90c471>\u001b[0m in \u001b[0;36m<module>\u001b[0;34m\u001b[0m\n\u001b[0;32m----> 1\u001b[0;31m \u001b[0mbot\u001b[0m\u001b[0;34m.\u001b[0m\u001b[0m_run\u001b[0m\u001b[0;34m(\u001b[0m\u001b[0mflashloan_tokens\u001b[0m\u001b[0;34m=\u001b[0m\u001b[0;34m[\u001b[0m\u001b[0;34m\"USDC\"\u001b[0m\u001b[0;34m]\u001b[0m\u001b[0;34m,\u001b[0m \u001b[0mCCm\u001b[0m\u001b[0;34m=\u001b[0m\u001b[0mCCm\u001b[0m\u001b[0;34m,\u001b[0m \u001b[0mresult\u001b[0m\u001b[0;34m=\u001b[0m\u001b[0mbot\u001b[0m\u001b[0;34m.\u001b[0m\u001b[0mXS_TI\u001b[0m\u001b[0;34m)\u001b[0m\u001b[0;34m\u001b[0m\u001b[0;34m\u001b[0m\u001b[0m\n\u001b[0m",
      "\u001b[0;32m~/REPOES/Bancor/ArbBot/resources/NBTest/fastlane_bot/bot.py\u001b[0m in \u001b[0;36m_run\u001b[0;34m(self, flashloan_tokens, CCm, result, network)\u001b[0m\n\u001b[1;32m    567\u001b[0m \u001b[0;34m\u001b[0m\u001b[0m\n\u001b[1;32m    568\u001b[0m         \u001b[0;31m## Convert opportunities to trade instructions\u001b[0m\u001b[0;34m\u001b[0m\u001b[0;34m\u001b[0m\u001b[0;34m\u001b[0m\u001b[0m\n\u001b[0;32m--> 569\u001b[0;31m         \u001b[0mordered_trade_instructions_objects\u001b[0m \u001b[0;34m=\u001b[0m \u001b[0mself\u001b[0m\u001b[0;34m.\u001b[0m\u001b[0m_convert_trade_instructions\u001b[0m\u001b[0;34m(\u001b[0m\u001b[0mordered_scaled_dcts\u001b[0m\u001b[0;34m)\u001b[0m\u001b[0;34m\u001b[0m\u001b[0;34m\u001b[0m\u001b[0m\n\u001b[0m\u001b[1;32m    570\u001b[0m         \u001b[0;32mif\u001b[0m \u001b[0mresult\u001b[0m \u001b[0;34m==\u001b[0m \u001b[0mself\u001b[0m\u001b[0;34m.\u001b[0m\u001b[0mXS_TI\u001b[0m\u001b[0;34m:\u001b[0m\u001b[0;34m\u001b[0m\u001b[0;34m\u001b[0m\u001b[0m\n\u001b[1;32m    571\u001b[0m             \u001b[0;32mreturn\u001b[0m \u001b[0mordered_trade_instructions_objects\u001b[0m\u001b[0;34m\u001b[0m\u001b[0;34m\u001b[0m\u001b[0m\n",
      "\u001b[0;32m~/REPOES/Bancor/ArbBot/resources/NBTest/fastlane_bot/bot.py\u001b[0m in \u001b[0;36m_convert_trade_instructions\u001b[0;34m(self, trade_instructions_dic)\u001b[0m\n\u001b[1;32m    292\u001b[0m         \u001b[0merrorless_trade_instructions_dic\u001b[0m \u001b[0;34m=\u001b[0m \u001b[0mself\u001b[0m\u001b[0;34m.\u001b[0m\u001b[0m_drop_error\u001b[0m\u001b[0;34m(\u001b[0m\u001b[0mtrade_instructions_dic\u001b[0m\u001b[0;34m)\u001b[0m\u001b[0;34m\u001b[0m\u001b[0;34m\u001b[0m\u001b[0m\n\u001b[1;32m    293\u001b[0m         \u001b[0mresult\u001b[0m \u001b[0;34m=\u001b[0m \u001b[0;34m(\u001b[0m\u001b[0;34m{\u001b[0m\u001b[0;34m**\u001b[0m\u001b[0mti\u001b[0m\u001b[0;34m,\u001b[0m \u001b[0;34m\"raw_txs\"\u001b[0m\u001b[0;34m:\u001b[0m \u001b[0;34m\"[]\"\u001b[0m\u001b[0;34m,\u001b[0m \u001b[0;34m\"pair_sorting\"\u001b[0m\u001b[0;34m:\u001b[0m \u001b[0;34m\"\"\u001b[0m\u001b[0;34m,\u001b[0m \u001b[0;34m\"ConfigObj\"\u001b[0m \u001b[0;34m:\u001b[0m \u001b[0mConfig\u001b[0m\u001b[0;34m}\u001b[0m \u001b[0;32mfor\u001b[0m \u001b[0mti\u001b[0m \u001b[0;32min\u001b[0m \u001b[0merrorless_trade_instructions_dic\u001b[0m \u001b[0;32mif\u001b[0m \u001b[0mti\u001b[0m \u001b[0;32mis\u001b[0m \u001b[0;32mnot\u001b[0m \u001b[0;32mNone\u001b[0m\u001b[0;34m)\u001b[0m\u001b[0;34m\u001b[0m\u001b[0;34m\u001b[0m\u001b[0m\n\u001b[0;32m--> 294\u001b[0;31m         \u001b[0mresult\u001b[0m \u001b[0;34m=\u001b[0m \u001b[0;34m[\u001b[0m\u001b[0mTradeInstruction\u001b[0m\u001b[0;34m(\u001b[0m\u001b[0;34m**\u001b[0m\u001b[0mti\u001b[0m\u001b[0;34m)\u001b[0m \u001b[0;32mfor\u001b[0m \u001b[0mti\u001b[0m \u001b[0;32min\u001b[0m \u001b[0mresult\u001b[0m\u001b[0;34m]\u001b[0m\u001b[0;34m\u001b[0m\u001b[0;34m\u001b[0m\u001b[0m\n\u001b[0m\u001b[1;32m    295\u001b[0m         \u001b[0;32mreturn\u001b[0m \u001b[0mresult\u001b[0m\u001b[0;34m\u001b[0m\u001b[0;34m\u001b[0m\u001b[0m\n\u001b[1;32m    296\u001b[0m \u001b[0;34m\u001b[0m\u001b[0m\n",
      "\u001b[0;32m~/REPOES/Bancor/ArbBot/resources/NBTest/fastlane_bot/bot.py\u001b[0m in \u001b[0;36m<listcomp>\u001b[0;34m(.0)\u001b[0m\n\u001b[1;32m    292\u001b[0m         \u001b[0merrorless_trade_instructions_dic\u001b[0m \u001b[0;34m=\u001b[0m \u001b[0mself\u001b[0m\u001b[0;34m.\u001b[0m\u001b[0m_drop_error\u001b[0m\u001b[0;34m(\u001b[0m\u001b[0mtrade_instructions_dic\u001b[0m\u001b[0;34m)\u001b[0m\u001b[0;34m\u001b[0m\u001b[0;34m\u001b[0m\u001b[0m\n\u001b[1;32m    293\u001b[0m         \u001b[0mresult\u001b[0m \u001b[0;34m=\u001b[0m \u001b[0;34m(\u001b[0m\u001b[0;34m{\u001b[0m\u001b[0;34m**\u001b[0m\u001b[0mti\u001b[0m\u001b[0;34m,\u001b[0m \u001b[0;34m\"raw_txs\"\u001b[0m\u001b[0;34m:\u001b[0m \u001b[0;34m\"[]\"\u001b[0m\u001b[0;34m,\u001b[0m \u001b[0;34m\"pair_sorting\"\u001b[0m\u001b[0;34m:\u001b[0m \u001b[0;34m\"\"\u001b[0m\u001b[0;34m,\u001b[0m \u001b[0;34m\"ConfigObj\"\u001b[0m \u001b[0;34m:\u001b[0m \u001b[0mConfig\u001b[0m\u001b[0;34m}\u001b[0m \u001b[0;32mfor\u001b[0m \u001b[0mti\u001b[0m \u001b[0;32min\u001b[0m \u001b[0merrorless_trade_instructions_dic\u001b[0m \u001b[0;32mif\u001b[0m \u001b[0mti\u001b[0m \u001b[0;32mis\u001b[0m \u001b[0;32mnot\u001b[0m \u001b[0;32mNone\u001b[0m\u001b[0;34m)\u001b[0m\u001b[0;34m\u001b[0m\u001b[0;34m\u001b[0m\u001b[0m\n\u001b[0;32m--> 294\u001b[0;31m         \u001b[0mresult\u001b[0m \u001b[0;34m=\u001b[0m \u001b[0;34m[\u001b[0m\u001b[0mTradeInstruction\u001b[0m\u001b[0;34m(\u001b[0m\u001b[0;34m**\u001b[0m\u001b[0mti\u001b[0m\u001b[0;34m)\u001b[0m \u001b[0;32mfor\u001b[0m \u001b[0mti\u001b[0m \u001b[0;32min\u001b[0m \u001b[0mresult\u001b[0m\u001b[0;34m]\u001b[0m\u001b[0;34m\u001b[0m\u001b[0;34m\u001b[0m\u001b[0m\n\u001b[0m\u001b[1;32m    295\u001b[0m         \u001b[0;32mreturn\u001b[0m \u001b[0mresult\u001b[0m\u001b[0;34m\u001b[0m\u001b[0;34m\u001b[0m\u001b[0m\n\u001b[1;32m    296\u001b[0m \u001b[0;34m\u001b[0m\u001b[0m\n",
      "\u001b[0;32m~/REPOES/Bancor/ArbBot/resources/NBTest/fastlane_bot/helpers/tradeinstruction.py\u001b[0m in \u001b[0;36m__init__\u001b[0;34m(self, ConfigObj, cid, tknin, amtin, tknout, amtout, pair_sorting, raw_txs, custom_data)\u001b[0m\n",
      "\u001b[0;32m~/REPOES/Bancor/ArbBot/resources/NBTest/fastlane_bot/helpers/tradeinstruction.py\u001b[0m in \u001b[0;36m__post_init__\u001b[0;34m(self)\u001b[0m\n\u001b[1;32m     92\u001b[0m         \u001b[0mself\u001b[0m\u001b[0;34m.\u001b[0m\u001b[0m_cid_tkn\u001b[0m\u001b[0;34m:\u001b[0m \u001b[0mstr\u001b[0m \u001b[0;34m=\u001b[0m \u001b[0;32mNone\u001b[0m\u001b[0;34m\u001b[0m\u001b[0;34m\u001b[0m\u001b[0m\n\u001b[1;32m     93\u001b[0m         \u001b[0mself\u001b[0m\u001b[0;34m.\u001b[0m\u001b[0m_is_carbon\u001b[0m \u001b[0;34m=\u001b[0m \u001b[0mself\u001b[0m\u001b[0;34m.\u001b[0m\u001b[0m_check_if_carbon\u001b[0m\u001b[0;34m(\u001b[0m\u001b[0;34m)\u001b[0m\u001b[0;34m\u001b[0m\u001b[0;34m\u001b[0m\u001b[0m\n\u001b[0;32m---> 94\u001b[0;31m         \u001b[0mself\u001b[0m\u001b[0;34m.\u001b[0m\u001b[0m_tknin_address\u001b[0m \u001b[0;34m=\u001b[0m \u001b[0mself\u001b[0m\u001b[0;34m.\u001b[0m\u001b[0m_get_token_address\u001b[0m\u001b[0;34m(\u001b[0m\u001b[0mself\u001b[0m\u001b[0;34m.\u001b[0m\u001b[0mtknin\u001b[0m\u001b[0;34m)\u001b[0m\u001b[0;34m\u001b[0m\u001b[0;34m\u001b[0m\u001b[0m\n\u001b[0m\u001b[1;32m     95\u001b[0m         \u001b[0mself\u001b[0m\u001b[0;34m.\u001b[0m\u001b[0m_tknin_decimals\u001b[0m \u001b[0;34m=\u001b[0m \u001b[0mself\u001b[0m\u001b[0;34m.\u001b[0m\u001b[0m_get_token_decimals\u001b[0m\u001b[0;34m(\u001b[0m\u001b[0mself\u001b[0m\u001b[0;34m.\u001b[0m\u001b[0mtknin\u001b[0m\u001b[0;34m)\u001b[0m\u001b[0;34m\u001b[0m\u001b[0;34m\u001b[0m\u001b[0m\n\u001b[1;32m     96\u001b[0m         \u001b[0mself\u001b[0m\u001b[0;34m.\u001b[0m\u001b[0m_amtin_wei\u001b[0m \u001b[0;34m=\u001b[0m \u001b[0mself\u001b[0m\u001b[0;34m.\u001b[0m\u001b[0m_convert_to_wei\u001b[0m\u001b[0;34m(\u001b[0m\u001b[0mself\u001b[0m\u001b[0;34m.\u001b[0m\u001b[0mamtin\u001b[0m\u001b[0;34m,\u001b[0m \u001b[0mself\u001b[0m\u001b[0;34m.\u001b[0m\u001b[0m_tknin_decimals\u001b[0m\u001b[0;34m)\u001b[0m\u001b[0;34m\u001b[0m\u001b[0;34m\u001b[0m\u001b[0m\n",
      "\u001b[0;32m~/REPOES/Bancor/ArbBot/resources/NBTest/fastlane_bot/helpers/tradeinstruction.py\u001b[0m in \u001b[0;36m_get_token_address\u001b[0;34m(self, token_key)\u001b[0m\n\u001b[1;32m    173\u001b[0m             \u001b[0mThe\u001b[0m \u001b[0mtoken\u001b[0m \u001b[0maddress\u001b[0m\u001b[0;34m.\u001b[0m\u001b[0;34m\u001b[0m\u001b[0;34m\u001b[0m\u001b[0m\n\u001b[1;32m    174\u001b[0m         \"\"\"\n\u001b[0;32m--> 175\u001b[0;31m         \u001b[0;32mreturn\u001b[0m \u001b[0mself\u001b[0m\u001b[0;34m.\u001b[0m\u001b[0m_get_token\u001b[0m\u001b[0;34m(\u001b[0m\u001b[0mtoken_key\u001b[0m\u001b[0;34m)\u001b[0m\u001b[0;34m.\u001b[0m\u001b[0maddress\u001b[0m\u001b[0;34m\u001b[0m\u001b[0;34m\u001b[0m\u001b[0m\n\u001b[0m\u001b[1;32m    176\u001b[0m \u001b[0;34m\u001b[0m\u001b[0m\n\u001b[1;32m    177\u001b[0m     \u001b[0;32mdef\u001b[0m \u001b[0m_get_token_decimals\u001b[0m\u001b[0;34m(\u001b[0m\u001b[0mself\u001b[0m\u001b[0;34m,\u001b[0m \u001b[0mtoken_key\u001b[0m\u001b[0;34m:\u001b[0m \u001b[0mstr\u001b[0m\u001b[0;34m)\u001b[0m \u001b[0;34m->\u001b[0m \u001b[0mint\u001b[0m\u001b[0;34m:\u001b[0m\u001b[0;34m\u001b[0m\u001b[0;34m\u001b[0m\u001b[0m\n",
      "\u001b[0;32m~/REPOES/Bancor/ArbBot/resources/NBTest/fastlane_bot/helpers/tradeinstruction.py\u001b[0m in \u001b[0;36m_get_token\u001b[0;34m(self, token_key)\u001b[0m\n\u001b[1;32m    205\u001b[0m             \u001b[0mThe\u001b[0m \u001b[0mtoken\u001b[0m \u001b[0mobject\u001b[0m\u001b[0;34m.\u001b[0m\u001b[0;34m\u001b[0m\u001b[0;34m\u001b[0m\u001b[0m\n\u001b[1;32m    206\u001b[0m         \"\"\"\n\u001b[0;32m--> 207\u001b[0;31m         \u001b[0;32mreturn\u001b[0m \u001b[0mself\u001b[0m\u001b[0;34m.\u001b[0m\u001b[0mdb\u001b[0m\u001b[0;34m.\u001b[0m\u001b[0msession\u001b[0m\u001b[0;34m.\u001b[0m\u001b[0mquery\u001b[0m\u001b[0;34m(\u001b[0m\u001b[0mToken\u001b[0m\u001b[0;34m)\u001b[0m\u001b[0;34m.\u001b[0m\u001b[0mfilter\u001b[0m\u001b[0;34m(\u001b[0m\u001b[0mToken\u001b[0m\u001b[0;34m.\u001b[0m\u001b[0mkey\u001b[0m \u001b[0;34m==\u001b[0m \u001b[0mtoken_key\u001b[0m\u001b[0;34m)\u001b[0m\u001b[0;34m.\u001b[0m\u001b[0mfirst\u001b[0m\u001b[0;34m(\u001b[0m\u001b[0;34m)\u001b[0m\u001b[0;34m\u001b[0m\u001b[0;34m\u001b[0m\u001b[0m\n\u001b[0m\u001b[1;32m    208\u001b[0m \u001b[0;34m\u001b[0m\u001b[0m\n\u001b[1;32m    209\u001b[0m     \u001b[0;32mdef\u001b[0m \u001b[0m_get_pool\u001b[0m\u001b[0;34m(\u001b[0m\u001b[0mself\u001b[0m\u001b[0;34m)\u001b[0m \u001b[0;34m->\u001b[0m \u001b[0mPool\u001b[0m\u001b[0;34m:\u001b[0m\u001b[0;34m\u001b[0m\u001b[0;34m\u001b[0m\u001b[0m\n",
      "\u001b[0;31mAttributeError\u001b[0m: 'TradeInstruction' object has no attribute 'db'"
     ]
    }
   ],
   "source": [
    "bot._run(flashloan_tokens=flt, CCm=CCm, result=bot.XS_TI)"
   ]
  },
  {
   "cell_type": "markdown",
   "id": "69bee6ae",
   "metadata": {},
   "source": [
    "#### XS_ORDSCAL"
   ]
  },
  {
   "cell_type": "code",
   "execution_count": null,
   "id": "cb6dd39e",
   "metadata": {},
   "outputs": [],
   "source": [
    "bot._run(flashloan_tokens=flt, CCm=CCm, result=bot.XS_ORDSCAL)"
   ]
  },
  {
   "cell_type": "markdown",
   "id": "cf292762",
   "metadata": {},
   "source": [
    "#### XS_AGGTI"
   ]
  },
  {
   "cell_type": "code",
   "execution_count": null,
   "id": "65f15f4a",
   "metadata": {},
   "outputs": [],
   "source": [
    "bot._run(flashloan_tokens=flt, CCm=CCm, result=bot.XS_AGGTI)"
   ]
  },
  {
   "cell_type": "markdown",
   "id": "d442cfa2",
   "metadata": {},
   "source": [
    "#### XS_ORDTI"
   ]
  },
  {
   "cell_type": "code",
   "execution_count": null,
   "id": "83cfc135",
   "metadata": {},
   "outputs": [],
   "source": [
    "bot._run(flashloan_tokens=flt, CCm=CCm, result=bot.XS_ORDTI)"
   ]
  },
  {
   "cell_type": "markdown",
   "id": "0c921b6d",
   "metadata": {},
   "source": [
    "#### XS_ENCTI"
   ]
  },
  {
   "cell_type": "code",
   "execution_count": null,
   "id": "fa3f3445",
   "metadata": {},
   "outputs": [],
   "source": [
    "bot._run(flashloan_tokens=flt, CCm=CCm, result=bot.XS_ENCTI)"
   ]
  },
  {
   "cell_type": "markdown",
   "id": "594e9070",
   "metadata": {},
   "source": [
    "#### XS_ROUTE"
   ]
  },
  {
   "cell_type": "code",
   "execution_count": null,
   "id": "ff18506a-83fd-44a0-b128-49bcf452c457",
   "metadata": {
    "lines_to_next_cell": 2
   },
   "outputs": [],
   "source": [
    "bot._run(flashloan_tokens=flt, CCm=CCm, result=bot.XS_ROUTE)"
   ]
  }
 ],
 "metadata": {
  "jupytext": {
   "encoding": "# -*- coding: utf-8 -*-",
   "formats": "ipynb,py:light"
  },
  "kernelspec": {
   "display_name": "Python 3",
   "language": "python",
   "name": "python3"
  },
  "language_info": {
   "codemirror_mode": {
    "name": "ipython",
    "version": 3
   },
   "file_extension": ".py",
   "mimetype": "text/x-python",
   "name": "python",
   "nbconvert_exporter": "python",
   "pygments_lexer": "ipython3",
   "version": "3.8.8"
  }
 },
 "nbformat": 4,
 "nbformat_minor": 5
}

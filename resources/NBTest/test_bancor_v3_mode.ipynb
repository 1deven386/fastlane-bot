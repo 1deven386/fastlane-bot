{
 "cells": [
  {
   "cell_type": "code",
   "execution_count": 4,
   "id": "84fa264b",
   "metadata": {
    "ExecuteTime": {
     "end_time": "2023-07-09T13:54:12.577531Z",
     "start_time": "2023-07-09T13:54:12.514167Z"
    }
   },
   "outputs": [
    {
     "name": "stdout",
     "output_type": "stream",
     "text": [
      "ConstantProductCurve v2.10.1 (07/May/2023)\n",
      "CarbonBot v3-b2.2 (20/June/2023)\n",
      "UniswapV2 v0.0.1 (2023-07-03)\n",
      "UniswapV3 v0.0.1 (2023-07-03)\n",
      "SushiswapV2 v0.0.1 (2023-07-03)\n",
      "CarbonV1 v0.0.1 (2023-07-03)\n",
      "BancorV3 v0.0.1 (2023-07-03)\n"
     ]
    },
    {
     "name": "stderr",
     "output_type": "stream",
     "text": [
      "C:\\Users\\Kveen\\AppData\\Local\\Temp\\ipykernel_28180\\3427253003.py:25: MatplotlibDeprecationWarning: The seaborn styles shipped by Matplotlib are deprecated since 3.6, as they no longer correspond to the styles shipped by seaborn. However, they will remain available as 'seaborn-v0_8-<style>'. Alternatively, directly use the seaborn API instead.\n",
      "  plt.style.use('seaborn-dark')\n"
     ]
    },
    {
     "name": "stdout",
     "output_type": "stream",
     "text": [
      "Version = 3-b2.2 [requirements >= 3.0 is met]\n"
     ]
    }
   ],
   "source": [
    "# coding=utf-8\n",
    "\"\"\"\n",
    "This module contains the tests for the exchanges classes\n",
    "\"\"\"\n",
    "from fastlane_bot import Bot, Config\n",
    "from fastlane_bot.bot import CarbonBot\n",
    "from fastlane_bot.tools.cpc import ConstantProductCurve as CPC\n",
    "from fastlane_bot.events.exchanges import UniswapV2, UniswapV3, SushiswapV2, CarbonV1, BancorV3\n",
    "from fastlane_bot.events.interface import QueryInterface\n",
    "from fastlane_bot.helpers.poolandtokens import PoolAndTokens\n",
    "from fastlane_bot.helpers import TradeInstruction, TxReceiptHandler, TxRouteHandler, TxSubmitHandler, TxHelpers, TxHelper\n",
    "from fastlane_bot.events.managers import manager\n",
    "from fastlane_bot.events.interface import QueryInterface\n",
    "import pytest\n",
    "import math\n",
    "print(\"{0.__name__} v{0.__VERSION__} ({0.__DATE__})\".format(CPC))\n",
    "print(\"{0.__name__} v{0.__VERSION__} ({0.__DATE__})\".format(Bot))\n",
    "print(\"{0.__name__} v{0.__VERSION__} ({0.__DATE__})\".format(UniswapV2))\n",
    "print(\"{0.__name__} v{0.__VERSION__} ({0.__DATE__})\".format(UniswapV3))\n",
    "print(\"{0.__name__} v{0.__VERSION__} ({0.__DATE__})\".format(SushiswapV2))\n",
    "print(\"{0.__name__} v{0.__VERSION__} ({0.__DATE__})\".format(CarbonV1))\n",
    "print(\"{0.__name__} v{0.__VERSION__} ({0.__DATE__})\".format(BancorV3))\n",
    "from fastlane_bot.testing import *\n",
    "\n",
    "plt.style.use('seaborn-dark')\n",
    "plt.rcParams['figure.figsize'] = [12,6]\n",
    "from fastlane_bot import __VERSION__\n",
    "require(\"3.0\", __VERSION__)"
   ]
  },
  {
   "cell_type": "code",
   "execution_count": 5,
   "id": "a51e5ec2",
   "metadata": {
    "ExecuteTime": {
     "end_time": "2023-07-09T13:54:13.771032Z",
     "start_time": "2023-07-09T13:54:12.517536Z"
    }
   },
   "outputs": [],
   "source": [
    "C = cfg = Config.new(config=Config.CONFIG_MAINNET)\n",
    "assert (C.NETWORK == C.NETWORK_MAINNET)\n",
    "assert (C.PROVIDER == C.PROVIDER_ALCHEMY)\n",
    "setup_bot = CarbonBot(ConfigObj=C)"
   ]
  },
  {
   "cell_type": "code",
   "execution_count": 6,
   "id": "a8986ce6",
   "metadata": {
    "ExecuteTime": {
     "end_time": "2023-07-09T13:54:13.815668Z",
     "start_time": "2023-07-09T13:54:13.771735Z"
    }
   },
   "outputs": [],
   "source": [
    "import json\n",
    "\n",
    "pools = None\n",
    "with open('latest_pool_data.json') as f:\n",
    "    pools = json.load(f)\n",
    "pools = [pool for pool in pools]"
   ]
  },
  {
   "cell_type": "code",
   "execution_count": 7,
   "id": "b37b1c86",
   "metadata": {
    "ExecuteTime": {
     "end_time": "2023-07-09T13:54:13.818688Z",
     "start_time": "2023-07-09T13:54:13.815923Z"
    }
   },
   "outputs": [],
   "source": [
    "pools[0]\n",
    "static_pools = pools"
   ]
  },
  {
   "cell_type": "code",
   "execution_count": 8,
   "id": "f71ef9b3",
   "metadata": {
    "ExecuteTime": {
     "end_time": "2023-07-09T13:54:13.824345Z",
     "start_time": "2023-07-09T13:54:13.821038Z"
    }
   },
   "outputs": [
    {
     "name": "stdout",
     "output_type": "stream",
     "text": [
      "{'cid': '0xddf6fc281404ba860af9a19ffeff6f69395378d793f873065cf19f19fa9b1c65', 'last_updated': nan, 'last_updated_block': 17656207, 'descr': 'uniswap_v2 BOBO-5295/WETH-6Cc2 0.003', 'pair_name': 'BOBO-5295/WETH-6Cc2', 'exchange_name': 'uniswap_v2', 'fee': 3000, 'fee_float': 0.003, 'address': '0xe945683B3462D2603a18BDfBB19261C6a4f03aD1', 'anchor': nan, 'tkn0_address': '0xB90B2A35C65dBC466b04240097Ca756ad2005295', 'tkn1_address': '0xC02aaA39b223FE8D0A0e5C4F27eAD9083C756Cc2', 'tkn0_key': 'BOBO-5295', 'tkn1_key': 'WETH-6Cc2', 'tkn0_decimals': 18.0, 'tkn1_decimals': 18.0, 'exchange_id': nan, 'tkn0_symbol': 'BOBO', 'tkn1_symbol': 'WETH', 'timestamp': '15:40:32', 'tkn0_balance': 1434030247235265560210480530773, 'tkn1_balance': 148902824268025040023, 'liquidity': nan, 'sqrt_price_q96': nan, 'tick': nan, 'tick_spacing': 60, 'exchange': 'uniswap_v2'}\n",
      "{'cid': '0xddf6fc281404ba860af9a19ffeff6f69395378d793f873065cf19f19fa9b1c65', 'last_updated': nan, 'last_updated_block': 17656207, 'descr': 'uniswap_v2 BOBO-5295/WETH-6Cc2 0.003', 'pair_name': 'BOBO-5295/WETH-6Cc2', 'exchange_name': 'uniswap_v2', 'fee': 3000, 'fee_float': 0.003, 'address': '0xe945683B3462D2603a18BDfBB19261C6a4f03aD1', 'anchor': nan, 'tkn0_address': '0xB90B2A35C65dBC466b04240097Ca756ad2005295', 'tkn1_address': '0xC02aaA39b223FE8D0A0e5C4F27eAD9083C756Cc2', 'tkn0_key': 'BOBO-5295', 'tkn1_key': 'WETH-6Cc2', 'tkn0_decimals': 18.0, 'tkn1_decimals': 18.0, 'exchange_id': nan, 'tkn0_symbol': 'BOBO', 'tkn1_symbol': 'WETH', 'timestamp': '15:40:32', 'tkn0_balance': 1434030247235265560210480530773, 'tkn1_balance': 148902824268025040023, 'liquidity': nan, 'sqrt_price_q96': nan, 'tick': nan, 'tick_spacing': 60, 'exchange': 'uniswap_v2'}\n"
     ]
    }
   ],
   "source": [
    "print(pools[0])\n",
    "print(static_pools[0])"
   ]
  },
  {
   "cell_type": "code",
   "execution_count": 9,
   "id": "3d52e87d",
   "metadata": {
    "ExecuteTime": {
     "end_time": "2023-07-09T13:54:13.839769Z",
     "start_time": "2023-07-09T13:54:13.823320Z"
    }
   },
   "outputs": [],
   "source": [
    "state = pools\n",
    "exchanges = list({ex['exchange_name'] for ex in state})\n",
    "db = QueryInterface(state=state, ConfigObj=C, exchanges=exchanges)\n",
    "setup_bot.db = db"
   ]
  },
  {
   "cell_type": "code",
   "execution_count": 10,
   "id": "58c9d44f",
   "metadata": {
    "ExecuteTime": {
     "end_time": "2023-07-09T13:54:13.864554Z",
     "start_time": "2023-07-09T13:54:13.840826Z"
    },
    "collapsed": false
   },
   "outputs": [
    {
     "name": "stdout",
     "output_type": "stream",
     "text": [
      "{'cid': '0xddf6fc281404ba860af9a19ffeff6f69395378d793f873065cf19f19fa9b1c65', 'last_updated': nan, 'last_updated_block': 17656207, 'descr': 'uniswap_v2 BOBO-5295/WETH-6Cc2 0.003', 'pair_name': 'BOBO-5295/WETH-6Cc2', 'exchange_name': 'uniswap_v2', 'fee': 3000, 'fee_float': 0.003, 'address': '0xe945683B3462D2603a18BDfBB19261C6a4f03aD1', 'anchor': nan, 'tkn0_address': '0xB90B2A35C65dBC466b04240097Ca756ad2005295', 'tkn1_address': '0xC02aaA39b223FE8D0A0e5C4F27eAD9083C756Cc2', 'tkn0_key': 'BOBO-5295', 'tkn1_key': 'WETH-6Cc2', 'tkn0_decimals': 18.0, 'tkn1_decimals': 18.0, 'exchange_id': nan, 'tkn0_symbol': 'BOBO', 'tkn1_symbol': 'WETH', 'timestamp': '15:40:32', 'tkn0_balance': 1434030247235265560210480530773, 'tkn1_balance': 148902824268025040023, 'liquidity': nan, 'sqrt_price_q96': nan, 'tick': nan, 'tick_spacing': 60, 'exchange': 'uniswap_v2'}\n"
     ]
    }
   ],
   "source": [
    "print(state[0])"
   ]
  },
  {
   "cell_type": "code",
   "execution_count": 11,
   "id": "79724ded",
   "metadata": {
    "ExecuteTime": {
     "end_time": "2023-07-09T13:54:13.864827Z",
     "start_time": "2023-07-09T13:54:13.843671Z"
    }
   },
   "outputs": [
    {
     "name": "stdout",
     "output_type": "stream",
     "text": [
      "{'cid': '0xddf6fc281404ba860af9a19ffeff6f69395378d793f873065cf19f19fa9b1c65', 'last_updated': nan, 'last_updated_block': 17656207, 'descr': 'uniswap_v2 BOBO-5295/WETH-6Cc2 0.003', 'pair_name': 'BOBO-5295/WETH-6Cc2', 'exchange_name': 'uniswap_v2', 'fee': 3000, 'fee_float': 0.003, 'address': '0xe945683B3462D2603a18BDfBB19261C6a4f03aD1', 'anchor': nan, 'tkn0_address': '0xB90B2A35C65dBC466b04240097Ca756ad2005295', 'tkn1_address': '0xC02aaA39b223FE8D0A0e5C4F27eAD9083C756Cc2', 'tkn0_key': 'BOBO-5295', 'tkn1_key': 'WETH-6Cc2', 'tkn0_decimals': 18.0, 'tkn1_decimals': 18.0, 'exchange_id': nan, 'tkn0_symbol': 'BOBO', 'tkn1_symbol': 'WETH', 'timestamp': '15:40:32', 'tkn0_balance': 1434030247235265560210480530773, 'tkn1_balance': 148902824268025040023, 'liquidity': nan, 'sqrt_price_q96': nan, 'tick': nan, 'tick_spacing': 60, 'exchange': 'uniswap_v2'}\n"
     ]
    }
   ],
   "source": [
    "print(pools[0])"
   ]
  },
  {
   "cell_type": "code",
   "execution_count": 12,
   "id": "6cc5b472",
   "metadata": {
    "ExecuteTime": {
     "end_time": "2023-07-09T13:54:13.915008Z",
     "start_time": "2023-07-09T13:54:13.849521Z"
    }
   },
   "outputs": [],
   "source": [
    "static_pool_data_filename = \"static_pool_data\"\n",
    "\n",
    "static_pool_data = pd.read_csv(f\"fastlane_bot/data/{static_pool_data_filename}.csv\", low_memory=False)\n",
    "    \n",
    "uniswap_v2_event_mappings = pd.read_csv(\"fastlane_bot/data/uniswap_v2_event_mappings.csv\", low_memory=False)\n",
    "        \n",
    "tokens = pd.read_csv(\"fastlane_bot/data/tokens.csv\", low_memory=False)\n",
    "        \n",
    "exchanges = \"carbon_v1,bancor_v3,uniswap_v3,uniswap_v2,sushiswap_v2\"\n",
    "\n",
    "exchanges = exchanges.split(\",\")\n",
    "arb_mode = \"bancor_v3\"\n",
    "\n",
    "alchemy_max_block_fetch = 20"
   ]
  },
  {
   "cell_type": "code",
   "execution_count": 13,
   "id": "7695b95f",
   "metadata": {
    "ExecuteTime": {
     "end_time": "2023-07-09T13:54:14.061176Z",
     "start_time": "2023-07-09T13:54:13.913015Z"
    }
   },
   "outputs": [],
   "source": [
    "static_pool_data[\"cid\"] = [\n",
    "        cfg.w3.keccak(text=f\"{row['descr']}\").hex()\n",
    "        for index, row in static_pool_data.iterrows()\n",
    "    ]\n"
   ]
  },
  {
   "cell_type": "code",
   "execution_count": 14,
   "id": "4a78f85d",
   "metadata": {
    "ExecuteTime": {
     "end_time": "2023-07-09T13:54:14.320271Z",
     "start_time": "2023-07-09T13:54:14.062220Z"
    },
    "collapsed": false
   },
   "outputs": [],
   "source": [
    "# Filter out pools that are not in the supported exchanges\n",
    "static_pool_data = [\n",
    "    row for index, row in static_pool_data.iterrows()\n",
    "    if row[\"exchange_name\"] in exchanges\n",
    "]\n",
    "\n",
    "static_pool_data = pd.DataFrame(static_pool_data)"
   ]
  },
  {
   "cell_type": "code",
   "execution_count": 15,
   "id": "81cad9f1",
   "metadata": {
    "ExecuteTime": {
     "end_time": "2023-07-09T13:54:14.327195Z",
     "start_time": "2023-07-09T13:54:14.322677Z"
    },
    "collapsed": false
   },
   "outputs": [
    {
     "data": {
      "text/plain": [
       "array(['uniswap_v3', 'bancor_v3', 'uniswap_v2', 'sushiswap_v2'],\n",
       "      dtype=object)"
      ]
     },
     "execution_count": 15,
     "metadata": {},
     "output_type": "execute_result"
    }
   ],
   "source": [
    "static_pool_data['exchange_name'].unique()"
   ]
  },
  {
   "cell_type": "code",
   "execution_count": 17,
   "id": "da422583",
   "metadata": {
    "ExecuteTime": {
     "end_time": "2023-07-09T13:54:14.649580Z",
     "start_time": "2023-07-09T13:54:14.352440Z"
    }
   },
   "outputs": [
    {
     "ename": "TypeError",
     "evalue": "'module' object is not callable",
     "output_type": "error",
     "traceback": [
      "\u001b[1;31m---------------------------------------------------------------------------\u001b[0m",
      "\u001b[1;31mTypeError\u001b[0m                                 Traceback (most recent call last)",
      "\u001b[1;32mc:\\Users\\Kveen\\PycharmProjects\\carbonbot\\test_bancor_v3.ipynb Cell 13\u001b[0m in \u001b[0;36m4\n\u001b[0;32m      <a href='vscode-notebook-cell:/c%3A/Users/Kveen/PycharmProjects/carbonbot/test_bancor_v3.ipynb#Y133sZmlsZQ%3D%3D?line=0'>1</a>\u001b[0m \u001b[39mfrom\u001b[39;00m \u001b[39mjoblib\u001b[39;00m \u001b[39mimport\u001b[39;00m Parallel, delayed\n\u001b[0;32m      <a href='vscode-notebook-cell:/c%3A/Users/Kveen/PycharmProjects/carbonbot/test_bancor_v3.ipynb#Y133sZmlsZQ%3D%3D?line=2'>3</a>\u001b[0m \u001b[39m# Initialize data fetch manager\u001b[39;00m\n\u001b[1;32m----> <a href='vscode-notebook-cell:/c%3A/Users/Kveen/PycharmProjects/carbonbot/test_bancor_v3.ipynb#Y133sZmlsZQ%3D%3D?line=3'>4</a>\u001b[0m mgr \u001b[39m=\u001b[39m manager(\n\u001b[0;32m      <a href='vscode-notebook-cell:/c%3A/Users/Kveen/PycharmProjects/carbonbot/test_bancor_v3.ipynb#Y133sZmlsZQ%3D%3D?line=4'>5</a>\u001b[0m     web3\u001b[39m=\u001b[39;49mcfg\u001b[39m.\u001b[39;49mw3,\n\u001b[0;32m      <a href='vscode-notebook-cell:/c%3A/Users/Kveen/PycharmProjects/carbonbot/test_bancor_v3.ipynb#Y133sZmlsZQ%3D%3D?line=5'>6</a>\u001b[0m     cfg\u001b[39m=\u001b[39;49mcfg,\n\u001b[0;32m      <a href='vscode-notebook-cell:/c%3A/Users/Kveen/PycharmProjects/carbonbot/test_bancor_v3.ipynb#Y133sZmlsZQ%3D%3D?line=6'>7</a>\u001b[0m     pool_data\u001b[39m=\u001b[39;49mstatic_pool_data\u001b[39m.\u001b[39;49mto_dict(orient\u001b[39m=\u001b[39;49m\u001b[39m\"\u001b[39;49m\u001b[39mrecords\u001b[39;49m\u001b[39m\"\u001b[39;49m),\n\u001b[0;32m      <a href='vscode-notebook-cell:/c%3A/Users/Kveen/PycharmProjects/carbonbot/test_bancor_v3.ipynb#Y133sZmlsZQ%3D%3D?line=7'>8</a>\u001b[0m     SUPPORTED_EXCHANGES\u001b[39m=\u001b[39;49mexchanges,\n\u001b[0;32m      <a href='vscode-notebook-cell:/c%3A/Users/Kveen/PycharmProjects/carbonbot/test_bancor_v3.ipynb#Y133sZmlsZQ%3D%3D?line=8'>9</a>\u001b[0m     alchemy_max_block_fetch\u001b[39m=\u001b[39;49malchemy_max_block_fetch,\n\u001b[0;32m     <a href='vscode-notebook-cell:/c%3A/Users/Kveen/PycharmProjects/carbonbot/test_bancor_v3.ipynb#Y133sZmlsZQ%3D%3D?line=9'>10</a>\u001b[0m     uniswap_v2_event_mappings\u001b[39m=\u001b[39;49muniswap_v2_event_mappings,\n\u001b[0;32m     <a href='vscode-notebook-cell:/c%3A/Users/Kveen/PycharmProjects/carbonbot/test_bancor_v3.ipynb#Y133sZmlsZQ%3D%3D?line=10'>11</a>\u001b[0m     tokens\u001b[39m=\u001b[39;49mtokens\u001b[39m.\u001b[39;49mto_dict(orient\u001b[39m=\u001b[39;49m\u001b[39m\"\u001b[39;49m\u001b[39mrecords\u001b[39;49m\u001b[39m\"\u001b[39;49m),\n\u001b[0;32m     <a href='vscode-notebook-cell:/c%3A/Users/Kveen/PycharmProjects/carbonbot/test_bancor_v3.ipynb#Y133sZmlsZQ%3D%3D?line=11'>12</a>\u001b[0m )\n\u001b[0;32m     <a href='vscode-notebook-cell:/c%3A/Users/Kveen/PycharmProjects/carbonbot/test_bancor_v3.ipynb#Y133sZmlsZQ%3D%3D?line=13'>14</a>\u001b[0m \u001b[39m# Add initial pools for each row in the static_pool_data\u001b[39;00m\n\u001b[0;32m     <a href='vscode-notebook-cell:/c%3A/Users/Kveen/PycharmProjects/carbonbot/test_bancor_v3.ipynb#Y133sZmlsZQ%3D%3D?line=14'>15</a>\u001b[0m start_time \u001b[39m=\u001b[39m time\u001b[39m.\u001b[39mtime()\n",
      "\u001b[1;31mTypeError\u001b[0m: 'module' object is not callable"
     ]
    }
   ],
   "source": [
    "from joblib import Parallel, delayed\n",
    "\n",
    "# Initialize data fetch manager\n",
    "mgr = manager(\n",
    "    web3=cfg.w3,\n",
    "    cfg=cfg,\n",
    "    pool_data=static_pool_data.to_dict(orient=\"records\"),\n",
    "    SUPPORTED_EXCHANGES=exchanges,\n",
    "    alchemy_max_block_fetch=alchemy_max_block_fetch,\n",
    "    uniswap_v2_event_mappings=uniswap_v2_event_mappings,\n",
    "    tokens=tokens.to_dict(orient=\"records\"),\n",
    ")\n",
    "\n",
    "# Add initial pools for each row in the static_pool_data\n",
    "start_time = time.time()\n",
    "Parallel(n_jobs=-1, backend=\"threading\")(\n",
    "    delayed(mgr.add_pool_to_exchange)(row) for row in mgr.pool_data\n",
    ")\n",
    "cfg.logger.info(f\"Time taken to add initial pools: {time.time() - start_time}\")\n",
    "\n",
    "# check if any duplicate cid's exist in the pool data\n",
    "mgr.deduplicate_pool_data()\n",
    "cids = [pool[\"cid\"] for pool in mgr.pool_data]\n",
    "assert len(cids) == len(set(cids)), \"duplicate cid's exist in the pool data\""
   ]
  },
  {
   "cell_type": "code",
   "execution_count": null,
   "id": "c7b0d9e1",
   "metadata": {
    "ExecuteTime": {
     "end_time": "2023-07-09T13:54:14.657376Z",
     "start_time": "2023-07-09T13:54:14.655798Z"
    }
   },
   "outputs": [],
   "source": [
    "def init_bot(mgr: Manager) -> CarbonBot:\n",
    "    \"\"\"\n",
    "    Initializes the bot.\n",
    "\n",
    "    Parameters\n",
    "    ----------\n",
    "    mgr : Manager\n",
    "        The manager object.\n",
    "\n",
    "    Returns\n",
    "    -------\n",
    "    CarbonBot\n",
    "        The bot object.\n",
    "    \"\"\"\n",
    "    mgr.cfg.logger.info(\"Initializing the bot...\")\n",
    "    bot = CarbonBot(ConfigObj=mgr.cfg)\n",
    "    bot.db = db\n",
    "    bot.db.mgr = mgr\n",
    "    assert isinstance(\n",
    "        bot.db, QueryInterface\n",
    "    ), \"QueryInterface not initialized correctly\"\n",
    "    return bot"
   ]
  },
  {
   "cell_type": "code",
   "execution_count": null,
   "id": "30affd76",
   "metadata": {
    "ExecuteTime": {
     "end_time": "2023-07-09T13:54:14.788568Z",
     "start_time": "2023-07-09T13:54:14.658075Z"
    }
   },
   "outputs": [],
   "source": [
    "bot = init_bot(mgr)"
   ]
  },
  {
   "cell_type": "code",
   "execution_count": null,
   "id": "d838f999",
   "metadata": {
    "ExecuteTime": {
     "end_time": "2023-07-09T13:54:15.109721Z",
     "start_time": "2023-07-09T13:54:14.794835Z"
    },
    "collapsed": false
   },
   "outputs": [],
   "source": [
    "# add data cleanup steps from main.py\n",
    "bot.db.handle_token_key_cleanup()\n",
    "bot.db.remove_unmapped_uniswap_v2_pools()\n",
    "bot.db.remove_zero_liquidity_pools()\n",
    "bot.db.remove_unsupported_exchanges()"
   ]
  },
  {
   "cell_type": "code",
   "execution_count": null,
   "id": "1f5979f7",
   "metadata": {},
   "outputs": [],
   "source": [
    "tokens = bot.db.get_tokens()"
   ]
  },
  {
   "cell_type": "code",
   "execution_count": null,
   "id": "54ae3201",
   "metadata": {
    "ExecuteTime": {
     "end_time": "2023-07-09T13:54:15.119648Z",
     "start_time": "2023-07-09T13:54:15.112719Z"
    }
   },
   "outputs": [],
   "source": [
    "ADDRDEC = {t.key: (t.address, int(t.decimals)) for t in tokens if not math.isnan(t.decimals)}\n",
    "# ADDRDEC = {t.key: (t.address, int(t.decimals)) for t in tokens}"
   ]
  },
  {
   "cell_type": "code",
   "execution_count": null,
   "id": "7d549746",
   "metadata": {
    "ExecuteTime": {
     "end_time": "2023-07-09T13:54:15.119780Z",
     "start_time": "2023-07-09T13:54:15.115001Z"
    }
   },
   "outputs": [],
   "source": [
    "\n",
    "print(len(ADDRDEC))"
   ]
  },
  {
   "cell_type": "code",
   "execution_count": null,
   "id": "56b84131",
   "metadata": {
    "ExecuteTime": {
     "end_time": "2023-07-09T13:54:15.158900Z",
     "start_time": "2023-07-09T13:54:15.123724Z"
    }
   },
   "outputs": [],
   "source": [
    "flashloan_tokens = bot.setup_flashloan_tokens([\"BNT-FF1C\"])\n",
    "CCm = bot.setup_CCm(None)"
   ]
  },
  {
   "cell_type": "code",
   "execution_count": null,
   "id": "79967a49",
   "metadata": {
    "ExecuteTime": {
     "end_time": "2023-07-09T13:54:15.164754Z",
     "start_time": "2023-07-09T13:54:15.137291Z"
    }
   },
   "outputs": [],
   "source": [
    "pools = db.get_pool_data_with_tokens()"
   ]
  },
  {
   "cell_type": "code",
   "execution_count": null,
   "id": "a945fe92",
   "metadata": {
    "ExecuteTime": {
     "end_time": "2023-07-09T13:54:15.165035Z",
     "start_time": "2023-07-09T13:54:15.141233Z"
    }
   },
   "outputs": [],
   "source": [
    "print(len(pools))"
   ]
  },
  {
   "cell_type": "code",
   "execution_count": null,
   "id": "3ccf596b",
   "metadata": {},
   "outputs": [],
   "source": [
    "#print(bot.db.mgr)"
   ]
  },
  {
   "cell_type": "code",
   "execution_count": null,
   "id": "f729b8dd",
   "metadata": {
    "ExecuteTime": {
     "end_time": "2023-07-09T13:54:15.356070Z",
     "start_time": "2023-07-09T13:54:15.145394Z"
    }
   },
   "outputs": [],
   "source": [
    "# single = bot.run_single_mode(flashloan_tokens, CCm, arb_mode, run_data_validator=True)\n",
    "\n",
    "single = bot._run(flashloan_tokens=flashloan_tokens, CCm=CCm, arb_mode=arb_mode, data_validator=True, result=\"calc_trade_instr\")\n"
   ]
  },
  {
   "cell_type": "code",
   "execution_count": null,
   "id": "1c74f819",
   "metadata": {
    "ExecuteTime": {
     "end_time": "2023-07-09T13:54:15.356172Z",
     "start_time": "2023-07-09T13:54:15.346528Z"
    }
   },
   "outputs": [],
   "source": [
    "# bot.run(\n",
    "#                 polling_interval=12,\n",
    "#                 flashloan_tokens=[\"BNT\"],\n",
    "#                 mode=\"single\",\n",
    "#                 arb_mode=\"bancor_v3\",\n",
    "#                 run_data_validator=True\n",
    "#             )"
   ]
  },
  {
   "cell_type": "code",
   "execution_count": null,
   "id": "3f4e8613",
   "metadata": {
    "ExecuteTime": {
     "end_time": "2023-07-09T13:54:15.356270Z",
     "start_time": "2023-07-09T13:54:15.349112Z"
    }
   },
   "outputs": [],
   "source": []
  },
  {
   "cell_type": "code",
   "execution_count": null,
   "id": "aaaf7423",
   "metadata": {
    "ExecuteTime": {
     "end_time": "2023-07-09T13:54:15.356301Z",
     "start_time": "2023-07-09T13:54:15.352256Z"
    }
   },
   "outputs": [],
   "source": []
  },
  {
   "cell_type": "code",
   "execution_count": null,
   "id": "ad72fcd4",
   "metadata": {
    "ExecuteTime": {
     "end_time": "2023-07-09T13:54:15.358274Z",
     "start_time": "2023-07-09T13:54:15.355484Z"
    }
   },
   "outputs": [],
   "source": []
  },
  {
   "cell_type": "code",
   "execution_count": null,
   "id": "73e4486c",
   "metadata": {
    "ExecuteTime": {
     "end_time": "2023-07-09T13:54:15.360503Z",
     "start_time": "2023-07-09T13:54:15.357352Z"
    }
   },
   "outputs": [],
   "source": []
  },
  {
   "cell_type": "code",
   "execution_count": null,
   "id": "d5b3bc28",
   "metadata": {
    "ExecuteTime": {
     "end_time": "2023-07-09T13:54:15.362519Z",
     "start_time": "2023-07-09T13:54:15.360059Z"
    }
   },
   "outputs": [],
   "source": []
  },
  {
   "cell_type": "code",
   "execution_count": null,
   "id": "a72a1e43",
   "metadata": {
    "ExecuteTime": {
     "end_time": "2023-07-09T13:54:15.364393Z",
     "start_time": "2023-07-09T13:54:15.362139Z"
    }
   },
   "outputs": [],
   "source": []
  },
  {
   "cell_type": "code",
   "execution_count": null,
   "id": "20153b19",
   "metadata": {
    "ExecuteTime": {
     "end_time": "2023-07-09T13:54:15.366331Z",
     "start_time": "2023-07-09T13:54:15.364297Z"
    }
   },
   "outputs": [],
   "source": []
  }
 ],
 "metadata": {
  "kernelspec": {
   "display_name": "Python 3 (ipykernel)",
   "language": "python",
   "name": "python3"
  },
  "language_info": {
   "codemirror_mode": {
    "name": "ipython",
    "version": 3
   },
   "file_extension": ".py",
   "mimetype": "text/x-python",
   "name": "python",
   "nbconvert_exporter": "python",
   "pygments_lexer": "ipython3",
   "version": "3.10.1"
  }
 },
 "nbformat": 4,
 "nbformat_minor": 5
}

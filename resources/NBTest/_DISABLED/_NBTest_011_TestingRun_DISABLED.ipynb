{
 "cells": [
  {
   "cell_type": "code",
   "execution_count": 1,
   "id": "8f04c50a-67fe-4f09-822d-6ed6e3ac43e4",
   "metadata": {},
   "outputs": [
    {
     "name": "stdout",
     "output_type": "stream",
     "text": [
      "ConstantProductCurve v2.10.1 (07/May/2023)\n",
      "CarbonBot v3-b2.2 (20/June/2023)\n",
      "imported m, np, pd, plt, os, sys, decimal; defined iseq, raises, require\n",
      "Version = 3-b2.2 [requirements >= 2.0 is met]\n"
     ]
    },
    {
     "name": "stderr",
     "output_type": "stream",
     "text": [
      "/usr/local/lib/python3.10/dist-packages/tqdm/auto.py:22: TqdmWarning: IProgress not found. Please update jupyter and ipywidgets. See https://ipywidgets.readthedocs.io/en/stable/user_install.html\n",
      "  from .autonotebook import tqdm as notebook_tqdm\n",
      "/tmp/ipykernel_2731/207292069.py:7: MatplotlibDeprecationWarning: The seaborn styles shipped by Matplotlib are deprecated since 3.6, as they no longer correspond to the styles shipped by seaborn. However, they will remain available as 'seaborn-v0_8-<style>'. Alternatively, directly use the seaborn API instead.\n",
      "  plt.style.use('seaborn-dark')\n"
     ]
    }
   ],
   "source": [
    "from fastlane_bot import Config, ConfigDB, ConfigNetwork, ConfigProvider\n",
    "from fastlane_bot.bot import CarbonBot\n",
    "from fastlane_bot.tools.cpc import ConstantProductCurve as CPC, CPCContainer\n",
    "print(\"{0.__name__} v{0.__VERSION__} ({0.__DATE__})\".format(CPC))\n",
    "print(\"{0.__name__} v{0.__VERSION__} ({0.__DATE__})\".format(CarbonBot))\n",
    "from fastlane_bot.testing import *\n",
    "plt.style.use('seaborn-dark')\n",
    "plt.rcParams['figure.figsize'] = [12,6]\n",
    "from fastlane_bot import __VERSION__\n",
    "require(\"2.0\", __VERSION__)"
   ]
  },
  {
   "cell_type": "markdown",
   "id": "b3f59f14-b91b-4dba-94b0-3d513aaf41c7",
   "metadata": {},
   "source": [
    "# Testing the _run functions on MOCK [NBTest011]"
   ]
  },
  {
   "cell_type": "markdown",
   "id": "cf03072d-6304-41f8-b132-9470ae81ac7c",
   "metadata": {},
   "source": [
    "## Unittest Alchemy Configuration"
   ]
  },
  {
   "cell_type": "markdown",
   "id": "0990888a-698c-487c-9142-80e62a8393ac",
   "metadata": {},
   "source": [
    "### Set up the bot"
   ]
  },
  {
   "cell_type": "code",
   "execution_count": 2,
   "id": "da9ff008-cb12-44f7-93a8-84f7386da886",
   "metadata": {},
   "outputs": [
    {
     "ename": "AssertionError",
     "evalue": "",
     "output_type": "error",
     "traceback": [
      "\u001b[0;31m---------------------------------------------------------------------------\u001b[0m",
      "\u001b[0;31mAssertionError\u001b[0m                            Traceback (most recent call last)",
      "Cell \u001b[0;32mIn[2], line 7\u001b[0m\n\u001b[1;32m      5\u001b[0m \u001b[38;5;28;01massert\u001b[39;00m C\u001b[38;5;241m.\u001b[39mPROVIDER \u001b[38;5;241m==\u001b[39m C\u001b[38;5;241m.\u001b[39mPROVIDER_ALCHEMY\n\u001b[1;32m      6\u001b[0m bot \u001b[38;5;241m=\u001b[39m CarbonBot(ConfigObj\u001b[38;5;241m=\u001b[39mC)\n\u001b[0;32m----> 7\u001b[0m \u001b[38;5;28;01massert\u001b[39;00m \u001b[38;5;28mstr\u001b[39m(\u001b[38;5;28mtype\u001b[39m(bot\u001b[38;5;241m.\u001b[39mdb)) \u001b[38;5;241m==\u001b[39m \u001b[38;5;124m\"\u001b[39m\u001b[38;5;124m<class \u001b[39m\u001b[38;5;124m'\u001b[39m\u001b[38;5;124mfastlane_bot.db.mock_model_managers.MockDatabaseManager\u001b[39m\u001b[38;5;124m'\u001b[39m\u001b[38;5;124m>\u001b[39m\u001b[38;5;124m\"\u001b[39m\n\u001b[1;32m      8\u001b[0m \u001b[38;5;28;01massert\u001b[39;00m bot\u001b[38;5;241m.\u001b[39mdb\u001b[38;5;241m.\u001b[39mget_pools()[\u001b[38;5;241m0\u001b[39m]\u001b[38;5;241m.\u001b[39mfee_float \u001b[38;5;129;01mis\u001b[39;00m \u001b[38;5;129;01mnot\u001b[39;00m \u001b[38;5;28;01mNone\u001b[39;00m, \u001b[38;5;124m\"\u001b[39m\u001b[38;5;124mIncorrect pools.csv file see MockPoolManager data\u001b[39m\u001b[38;5;124m\"\u001b[39m\n",
      "\u001b[0;31mAssertionError\u001b[0m: "
     ]
    }
   ],
   "source": [
    "C = Config.new(config=Config.CONFIG_UNITTEST)\n",
    "assert C.DATABASE == C.DATABASE_UNITTEST\n",
    "assert C.POSTGRES_DB == \"unittest\"\n",
    "assert C.NETWORK == C.NETWORK_MAINNET\n",
    "assert C.PROVIDER == C.PROVIDER_ALCHEMY\n",
    "bot = CarbonBot(ConfigObj=C)\n",
    "assert str(type(bot.db)) == \"<class 'fastlane_bot.db.mock_model_managers.MockDatabaseManager'>\"\n",
    "assert bot.db.get_pools()[0].fee_float is not None, \"Incorrect pools.csv file see MockPoolManager data\""
   ]
  },
  {
   "cell_type": "markdown",
   "id": "08f2c872-c689-40b4-9ee3-cabcb43c3837",
   "metadata": {},
   "source": [
    "### Set up the curves"
   ]
  },
  {
   "cell_type": "code",
   "execution_count": null,
   "id": "a0e247b8-9696-4935-9d49-aa17252e27de",
   "metadata": {},
   "outputs": [],
   "source": [
    "cc1 = CPC.from_carbon(pair=\"WETH-6Cc2/USDC-eB48\", tkny=\"WETH-6Cc2\", yint=10, y=10, pa=1/2000, pb=1/2010, cid=\"1701411834604692317316873037158841057285-1\")\n",
    "assert iseq(1/2000, cc1.p, cc1.p_max)\n",
    "assert iseq(1/2010, cc1.p_min)\n",
    "assert cc1.p_convention() == 'WETH per USDC'\n",
    "assert cc1.p_min < cc1.p_max\n",
    "cc1"
   ]
  },
  {
   "cell_type": "code",
   "execution_count": null,
   "id": "fd51b539",
   "metadata": {},
   "outputs": [],
   "source": [
    "cid = cc1.cid\n",
    "assert bot.db.get_pool(cid=cid.split('-')[0]).exchange_name == 'carbon_v1', \"The cids are chosen as they are the correct pools in the test data pools.csv\""
   ]
  },
  {
   "cell_type": "code",
   "execution_count": null,
   "id": "e9e7a767-1d42-46ea-9a38-1ebbe68f7361",
   "metadata": {},
   "outputs": [],
   "source": [
    "cu1 = CPC.from_univ3(pair=\"WETH-6Cc2/USDC-eB48\", Pmarg=2100, uniPa=2000, uniPb=2200, \n",
    "                     uniL=200*m.sqrt(2100*2100), fee=0, cid=\"10548753374549092367364612830384814555378\", descr=\"\")\n",
    "assert iseq(cu1.p, 2100)\n",
    "assert iseq(cu1.p_min, 2000)\n",
    "assert iseq(cu1.p_max, 2200)\n",
    "assert cu1.p_convention() == 'USDC per WETH'\n",
    "assert cu1.p_min < cu1.p_max\n",
    "cu1"
   ]
  },
  {
   "cell_type": "code",
   "execution_count": null,
   "id": "97ac2f28",
   "metadata": {},
   "outputs": [],
   "source": [
    "cid = cu1.cid\n",
    "assert bot.db.get_pool(cid=cid.split('-')[0]).exchange_name == 'uniswap_v3', \"The cids are chosen as they are the correct pools in the test data pools.csv\""
   ]
  },
  {
   "cell_type": "code",
   "execution_count": null,
   "id": "b60bf8c8",
   "metadata": {},
   "outputs": [],
   "source": [
    "cu1.p, cc1.p"
   ]
  },
  {
   "cell_type": "code",
   "execution_count": null,
   "id": "c1a859da-906e-422a-92b8-e08363796d23",
   "metadata": {},
   "outputs": [],
   "source": [
    "CCm = CPCContainer([cu1, cc1])\n",
    "#CCm.plot()"
   ]
  },
  {
   "cell_type": "markdown",
   "id": "10b62d9a-25b8-42f4-9c73-24b059551b99",
   "metadata": {},
   "source": [
    "### Run `_find_arbitrage_opportunities}`"
   ]
  },
  {
   "cell_type": "markdown",
   "id": "c05fda51-9e6b-4792-a15d-7437e3dffc0d",
   "metadata": {},
   "source": [
    "#### AO_TOKENS"
   ]
  },
  {
   "cell_type": "code",
   "execution_count": null,
   "id": "09c2cf84-217b-40d3-a878-5ae63f773c06",
   "metadata": {},
   "outputs": [],
   "source": [
    "flt = ['USDC-eB48']\n",
    "r=bot._find_arbitrage_opportunities(flashloan_tokens=flt, CCm=CCm, result=bot.AO_TOKENS)\n",
    "r"
   ]
  },
  {
   "cell_type": "code",
   "execution_count": null,
   "id": "6318966a-3b06-4584-a311-fd960e17cb25",
   "metadata": {},
   "outputs": [],
   "source": [
    "assert r[0] == {'WETH-6Cc2', 'USDC-eB48'}\n",
    "assert r[1] == [('WETH-6Cc2', 'USDC-eB48')]"
   ]
  },
  {
   "cell_type": "markdown",
   "id": "3d528aab-9816-4f5a-a037-ae87494eb481",
   "metadata": {},
   "source": [
    "#### AO_CANDIDATES [WETH]"
   ]
  },
  {
   "cell_type": "code",
   "execution_count": null,
   "id": "70d50ff6-0fc8-410f-9402-43e10e2a3362",
   "metadata": {},
   "outputs": [],
   "source": [
    "flt = ['WETH-6Cc2']\n",
    "r = bot._find_arbitrage_opportunities(flashloan_tokens=flt, CCm=CCm, result=bot.AO_CANDIDATES)\n",
    "assert r == [], \"The candidates in this direction should be empty\""
   ]
  },
  {
   "cell_type": "markdown",
   "id": "132ffbe6-3888-482f-9699-c278551e62d6",
   "metadata": {},
   "source": [
    "#### AO_CANDIDATES [USDC]"
   ]
  },
  {
   "cell_type": "code",
   "execution_count": null,
   "id": "b85540d3-fe68-4c80-b63c-43606c009886",
   "metadata": {},
   "outputs": [],
   "source": [
    "flt = ['USDC-eB48']\n",
    "r = bot._find_arbitrage_opportunities(flashloan_tokens=flt, CCm=CCm, result=bot.AO_CANDIDATES)\n",
    "assert len(r) >= 1, \"The candidates should be populated in this direction\"\n",
    "r0, r1, r2, r3, r4 = r[0]\n",
    "assert r0 > 0, \"The profit should be positive\""
   ]
  },
  {
   "cell_type": "code",
   "execution_count": null,
   "id": "a1110660-906a-4666-aca7-cf0f30823a9d",
   "metadata": {},
   "outputs": [],
   "source": [
    "assert r1.loc[\"TOTAL NET\"][\"WETH-6Cc2\"] < 1e-5, \"Net change for WETH should be approximately zero\"\n",
    "assert r1.loc[\"TOTAL NET\"][\"USDC-eB48\"] < -100, \"Arb value for USDC should be positive\"\n",
    "r1"
   ]
  },
  {
   "cell_type": "code",
   "execution_count": null,
   "id": "dcf827c3-8440-4bcf-98d0-357a825afa07",
   "metadata": {},
   "outputs": [],
   "source": [
    "assert len(r2) == 2, \"There should be two items in the best_trade_instructions_dict\"\n",
    "r2"
   ]
  },
  {
   "cell_type": "code",
   "execution_count": null,
   "id": "909a7544-99a1-4873-88e1-80d635ee4765",
   "metadata": {},
   "outputs": [],
   "source": [
    "assert r3 == flt[0], \"The best_src_token should be the flashloan token\"\n",
    "r3"
   ]
  },
  {
   "cell_type": "code",
   "execution_count": null,
   "id": "3b9f9e12-74a8-4bcf-b791-005103c8d254",
   "metadata": {},
   "outputs": [],
   "source": [
    "assert len(r4) == 2, \"There should be two items in the trade instructions\"\n",
    "r4"
   ]
  },
  {
   "cell_type": "markdown",
   "id": "0ffa39ba-b573-447c-be3d-c0cba04acc8c",
   "metadata": {},
   "source": [
    "#### Full"
   ]
  },
  {
   "cell_type": "code",
   "execution_count": null,
   "id": "6c692263-684d-4393-938b-7e89700b701c",
   "metadata": {},
   "outputs": [],
   "source": [
    "r = bot._find_arbitrage_opportunities(flashloan_tokens=flt, CCm=CCm)"
   ]
  },
  {
   "cell_type": "code",
   "execution_count": null,
   "id": "d48c28bd",
   "metadata": {},
   "outputs": [],
   "source": [
    "assert r is not None, \"This setup should find an arb\"\n",
    "r"
   ]
  },
  {
   "cell_type": "markdown",
   "id": "2ed9fc19-2c1f-4f77-bba3-1dcbd3195c88",
   "metadata": {},
   "source": [
    "### Run `_run`"
   ]
  },
  {
   "cell_type": "markdown",
   "id": "f3754951-034f-4a0e-880a-3d2bf8f8d1f1",
   "metadata": {},
   "source": [
    "#### XS_ARBOPPS"
   ]
  },
  {
   "cell_type": "code",
   "execution_count": null,
   "id": "1af3bc41-7d2c-40c9-9d37-0ade3b0c427b",
   "metadata": {},
   "outputs": [],
   "source": [
    "ops = bot._run(flashloan_tokens=flt, CCm=CCm, result=bot.XS_ARBOPPS)\n",
    "ops"
   ]
  },
  {
   "cell_type": "code",
   "execution_count": null,
   "id": "372679cf",
   "metadata": {},
   "outputs": [],
   "source": [
    "assert len(ops) == 5, \"The best opportunity should populate correctly\"\n",
    "assert ops[0] > 0, \"There should be a profit\"\n",
    "assert str(type(ops[1])) == \"<class 'pandas.core.frame.DataFrame'>\", \"The df should be a df\"\n",
    "assert type(ops[2]) == list, \"The list of dicts should be a list\"\n",
    "assert len(ops[2]) == 2, \"In this example the list of dicts should have two items\"\n",
    "assert type(ops[2][0]) == dict, \"The the first item in the list of dicts should be a dict\"\n",
    "assert len(ops[3].split('-')) == 2, \"The best_src_token should be a token key\"\n",
    "assert str(type(ops[4][0])) == \"<class 'fastlane_bot.tools.optimizer.CPCArbOptimizer.TradeInstruction'>\", \"There should be trade instructions\""
   ]
  },
  {
   "cell_type": "markdown",
   "id": "251000a3",
   "metadata": {},
   "source": [
    "#### XS_ORDSCAL"
   ]
  },
  {
   "cell_type": "code",
   "execution_count": null,
   "id": "60d6ab06",
   "metadata": {},
   "outputs": [],
   "source": [
    "ordscal = bot._run(flashloan_tokens=flt, CCm=CCm, result=bot.XS_ORDSCAL)\n",
    "ordscal"
   ]
  },
  {
   "cell_type": "code",
   "execution_count": null,
   "id": "d9002d4d",
   "metadata": {},
   "outputs": [],
   "source": [
    "assert ops[2] != ordscal, 'After reordering AND scaling the two dicts should not be alike'\n",
    "assert set([x['cid'] for x in ops[2]]) == set([x['cid'] for x in ordscal]), 'The cids in should be those out'\n",
    "assert sum([x['amtin'] for x in ordscal]) < sum([x['amtin'] for x in ops[2]]), \"After scaling the total amtin should be decreased\""
   ]
  },
  {
   "cell_type": "markdown",
   "id": "7ae9aaba",
   "metadata": {},
   "source": [
    "#### XS_TI"
   ]
  },
  {
   "cell_type": "code",
   "execution_count": null,
   "id": "faaba6f7",
   "metadata": {},
   "outputs": [],
   "source": [
    "xsti = bot._run(flashloan_tokens=flt, CCm=CCm, result=bot.XS_TI)\n",
    "xsti"
   ]
  },
  {
   "cell_type": "code",
   "execution_count": null,
   "id": "b99eb4be",
   "metadata": {},
   "outputs": [],
   "source": [
    "assert str(type(xsti[0])) == \"<class 'fastlane_bot.helpers.tradeinstruction.TradeInstruction'>\", \"After processing to TI the item should have trade instructions\"\n",
    "assert sum([1 if xsti[i]._is_carbon else 0 for i in range(len(xsti))]) == 1, \"In this example there should be a carbon order present identifiable from the TI object\"\n",
    "assert xsti[0].db is not None, \"A db should be present\"\n",
    "assert xsti[0].ConfigObj is not None, \"A configobj should be present\""
   ]
  },
  {
   "cell_type": "markdown",
   "id": "cf292762",
   "metadata": {},
   "source": [
    "#### XS_AGGTI"
   ]
  },
  {
   "cell_type": "code",
   "execution_count": null,
   "id": "65f15f4a",
   "metadata": {},
   "outputs": [],
   "source": [
    "agg = bot._run(flashloan_tokens=flt, CCm=CCm, result=bot.XS_AGGTI)\n",
    "agg"
   ]
  },
  {
   "cell_type": "code",
   "execution_count": null,
   "id": "c04ef577",
   "metadata": {},
   "outputs": [],
   "source": [
    "assert agg[0].raw_txs != \"[]\", \"In this case, the carbon order is first, when agg correctly the raw_txs should not be empty\"\n",
    "assert agg[1].raw_txs == \"[]\", \"In this case, the univ3 order is second, when agg correctly the raw_txs should be empty\""
   ]
  },
  {
   "cell_type": "markdown",
   "id": "d442cfa2",
   "metadata": {},
   "source": [
    "#### XS_ORDINFO"
   ]
  },
  {
   "cell_type": "code",
   "execution_count": null,
   "id": "83cfc135",
   "metadata": {},
   "outputs": [],
   "source": [
    "ordinfo = bot._run(flashloan_tokens=flt, CCm=CCm, result=bot.XS_ORDINFO)\n",
    "ordinfo"
   ]
  },
  {
   "cell_type": "code",
   "execution_count": null,
   "id": "e692c979",
   "metadata": {},
   "outputs": [],
   "source": [
    "assert ordinfo[0] == agg, \"The trade instructions should not have changed\"\n",
    "assert ordinfo[1] > 0, \"The flashloan amount should be greater than zero\"\n",
    "assert ordinfo[2][:2] == '0x', \"The flashloan address should start with 0x\""
   ]
  },
  {
   "cell_type": "markdown",
   "id": "0c921b6d",
   "metadata": {},
   "source": [
    "#### XS_ENCTI"
   ]
  },
  {
   "cell_type": "code",
   "execution_count": null,
   "id": "fa3f3445",
   "metadata": {},
   "outputs": [],
   "source": [
    "enc = bot._run(flashloan_tokens=flt, CCm=CCm, result=bot.XS_ENCTI)\n",
    "enc"
   ]
  },
  {
   "cell_type": "code",
   "execution_count": null,
   "id": "48aaee9a",
   "metadata": {},
   "outputs": [],
   "source": [
    "assert len(enc[0].custom_data) >= 258, \"In this example, the carbon order is first so the custom data should have been populated with at least one set of instructions\"\n",
    "assert enc[1].custom_data == '0x', \"In this case, the univ3 order is second so the custom data should be only 0x\""
   ]
  },
  {
   "cell_type": "markdown",
   "id": "27f837fc",
   "metadata": {},
   "source": [
    "#### XS_ROUTE"
   ]
  },
  {
   "cell_type": "code",
   "execution_count": null,
   "id": "ff18506a-83fd-44a0-b128-49bcf452c457",
   "metadata": {
    "lines_to_next_cell": 2
   },
   "outputs": [],
   "source": [
    "route = bot._run(flashloan_tokens=flt, CCm=CCm, result=bot.XS_ROUTE)\n",
    "route"
   ]
  },
  {
   "cell_type": "code",
   "execution_count": null,
   "id": "3e48514a",
   "metadata": {},
   "outputs": [],
   "source": [
    "assert len(route) ==2, 'In this example, there should be two parts to the route'\n",
    "assert type(route) == list, \"The Route should be a list\"\n",
    "assert type(route[0]) == dict, \"Each instruction in the Route should be a dict\"\n",
    "assert list(route[0].keys()) == ['exchangeId', 'targetToken', 'minTargetAmount', 'deadline', 'customAddress', 'customInt', 'customData'], \"All keys should be present\"\n",
    "assert list(route[1].keys()) == ['exchangeId', 'targetToken', 'minTargetAmount', 'deadline', 'customAddress', 'customInt', 'customData'], \"All keys should be present\""
   ]
  },
  {
   "cell_type": "code",
   "execution_count": null,
   "id": "0ed625aa",
   "metadata": {},
   "outputs": [],
   "source": [
    "assert type(route[0]['exchangeId']) == int, \"Exchange ids should be ints\"\n",
    "assert type(route[0]['targetToken']) == str, \"targetToken should be str\"\n",
    "assert type(route[0]['minTargetAmount']) == int, \"minTargetAmount should be ints\"\n",
    "assert type(route[0]['deadline']) == int, \"deadline should be ints\"\n",
    "assert type(route[0]['customAddress']) == str, \"customAddress should be str\"\n",
    "assert type(route[0]['customInt']) == int, \"customInt should be ints\"\n",
    "assert type(route[0]['customData']) == str, \"customData should be str\""
   ]
  }
 ],
 "metadata": {
  "jupytext": {
   "encoding": "# -*- coding: utf-8 -*-",
   "formats": "ipynb,py:light"
  },
  "kernelspec": {
   "display_name": "Python 3 (ipykernel)",
   "language": "python",
   "name": "python3"
  },
  "language_info": {
   "codemirror_mode": {
    "name": "ipython",
    "version": 3
   },
   "file_extension": ".py",
   "mimetype": "text/x-python",
   "name": "python",
   "nbconvert_exporter": "python",
   "pygments_lexer": "ipython3",
   "version": "3.10.7"
  }
 },
 "nbformat": 4,
 "nbformat_minor": 5
}

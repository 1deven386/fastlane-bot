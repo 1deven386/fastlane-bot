{
 "cells": [
  {
   "cell_type": "code",
   "execution_count": 1,
   "id": "8f04c50a-67fe-4f09-822d-6ed6e3ac43e4",
   "metadata": {
    "ExecuteTime": {
     "end_time": "2023-05-11T08:10:58.303337Z",
     "start_time": "2023-05-11T08:10:51.617297400Z"
    }
   },
   "outputs": [
    {
     "name": "stdout",
     "output_type": "stream",
     "text": [
      "Using default database url, if you want to use a different database, set the backend_url found at the bottom of manager_base.py\n",
      "Error adding Ethereum blockchain to database Ethereum, (psycopg2.errors.UniqueViolation) duplicate key value violates unique constraint \"ix_blockchains_name\"\n",
      "DETAIL:  Key (name)=(Ethereum) already exists.\n",
      "\n",
      "[SQL: INSERT INTO blockchains (name, block_number) VALUES (%(name)s, %(block_number)s) RETURNING blockchains.id]\n",
      "[parameters: {'name': 'Ethereum', 'block_number': 0}]\n",
      "(Background on this error at: https://sqlalche.me/e/20/gkpj) skipping...\n",
      "Error adding exchange carbon_v1 to database, (psycopg2.errors.UniqueViolation) duplicate key value violates unique constraint \"exchanges_pkey\"\n",
      "DETAIL:  Key (id)=(6) already exists.\n",
      "\n",
      "[SQL: INSERT INTO exchanges (id, name, blockchain_name) VALUES (%(id)s, %(name)s, %(blockchain_name)s)]\n",
      "[parameters: {'id': 6, 'name': 'carbon_v1', 'blockchain_name': 'Ethereum'}]\n",
      "(Background on this error at: https://sqlalche.me/e/20/gkpj) skipping...\n",
      "Error adding exchange bancor_v2 to database, (psycopg2.errors.UniqueViolation) duplicate key value violates unique constraint \"exchanges_pkey\"\n",
      "DETAIL:  Key (id)=(1) already exists.\n",
      "\n",
      "[SQL: INSERT INTO exchanges (id, name, blockchain_name) VALUES (%(id)s, %(name)s, %(blockchain_name)s)]\n",
      "[parameters: {'id': 1, 'name': 'bancor_v2', 'blockchain_name': 'Ethereum'}]\n",
      "(Background on this error at: https://sqlalche.me/e/20/gkpj) skipping...\n",
      "Error adding exchange bancor_v3 to database, (psycopg2.errors.UniqueViolation) duplicate key value violates unique constraint \"exchanges_pkey\"\n",
      "DETAIL:  Key (id)=(2) already exists.\n",
      "\n",
      "[SQL: INSERT INTO exchanges (id, name, blockchain_name) VALUES (%(id)s, %(name)s, %(blockchain_name)s)]\n",
      "[parameters: {'id': 2, 'name': 'bancor_v3', 'blockchain_name': 'Ethereum'}]\n",
      "(Background on this error at: https://sqlalche.me/e/20/gkpj) skipping...\n",
      "Error adding exchange uniswap_v2 to database, (psycopg2.errors.UniqueViolation) duplicate key value violates unique constraint \"exchanges_pkey\"\n",
      "DETAIL:  Key (id)=(3) already exists.\n",
      "\n",
      "[SQL: INSERT INTO exchanges (id, name, blockchain_name) VALUES (%(id)s, %(name)s, %(blockchain_name)s)]\n",
      "[parameters: {'id': 3, 'name': 'uniswap_v2', 'blockchain_name': 'Ethereum'}]\n",
      "(Background on this error at: https://sqlalche.me/e/20/gkpj) skipping...\n",
      "Error adding exchange uniswap_v3 to database, (psycopg2.errors.UniqueViolation) duplicate key value violates unique constraint \"exchanges_pkey\"\n",
      "DETAIL:  Key (id)=(4) already exists.\n",
      "\n",
      "[SQL: INSERT INTO exchanges (id, name, blockchain_name) VALUES (%(id)s, %(name)s, %(blockchain_name)s)]\n",
      "[parameters: {'id': 4, 'name': 'uniswap_v3', 'blockchain_name': 'Ethereum'}]\n",
      "(Background on this error at: https://sqlalche.me/e/20/gkpj) skipping...\n",
      "Error adding exchange sushiswap_v2 to database, (psycopg2.errors.UniqueViolation) duplicate key value violates unique constraint \"exchanges_pkey\"\n",
      "DETAIL:  Key (id)=(5) already exists.\n",
      "\n",
      "[SQL: INSERT INTO exchanges (id, name, blockchain_name) VALUES (%(id)s, %(name)s, %(blockchain_name)s)]\n",
      "[parameters: {'id': 5, 'name': 'sushiswap_v2', 'blockchain_name': 'Ethereum'}]\n",
      "(Background on this error at: https://sqlalche.me/e/20/gkpj) skipping...\n",
      "ConstantProductCurve v2.10.1 (07/May/2023)\n",
      "CarbonBot v3-b2.1 (03/May/2023)\n",
      "imported m, np, pd, plt, os, sys, decimal; defined iseq, raises, require\n"
     ]
    },
    {
     "name": "stderr",
     "output_type": "stream",
     "text": [
      "C:\\Users\\Kveen\\AppData\\Local\\Temp\\ipykernel_28604\\1582963263.py:8: MatplotlibDeprecationWarning: The seaborn styles shipped by Matplotlib are deprecated since 3.6, as they no longer correspond to the styles shipped by seaborn. However, they will remain available as 'seaborn-v0_8-<style>'. Alternatively, directly use the seaborn API instead.\n",
      "  plt.style.use('seaborn-dark')\n"
     ]
    },
    {
     "name": "stdout",
     "output_type": "stream",
     "text": [
      "Version = 3-b2.1 [requirements >= 2.0 is met]\n"
     ]
    }
   ],
   "source": [
    "from fastlane_bot import Config, ConfigDB, ConfigNetwork, ConfigProvider\n",
    "from fastlane_bot.bot import CarbonBot\n",
    "from fastlane_bot.tools.cpc import ConstantProductCurve as CPC, CPCContainer, T\n",
    "from fastlane_bot.helpers import TxHelper\n",
    "print(\"{0.__name__} v{0.__VERSION__} ({0.__DATE__})\".format(CPC))\n",
    "print(\"{0.__name__} v{0.__VERSION__} ({0.__DATE__})\".format(CarbonBot))\n",
    "from fastlane_bot.testing import *\n",
    "plt.style.use('seaborn-dark')\n",
    "plt.rcParams['figure.figsize'] = [12,6]\n",
    "from fastlane_bot import __VERSION__\n",
    "require(\"2.0\", __VERSION__)"
   ]
  },
  {
   "attachments": {},
   "cell_type": "markdown",
   "id": "b3f59f14-b91b-4dba-94b0-3d513aaf41c7",
   "metadata": {},
   "source": [
    "# Testing the _run functions on MAINNET [NBTest021]"
   ]
  },
  {
   "attachments": {},
   "cell_type": "markdown",
   "id": "cf03072d-6304-41f8-b132-9470ae81ac7c",
   "metadata": {},
   "source": [
    "## MAINNET Configuration"
   ]
  },
  {
   "attachments": {},
   "cell_type": "markdown",
   "id": "0990888a-698c-487c-9142-80e62a8393ac",
   "metadata": {},
   "source": [
    "### Set up the bot and curves"
   ]
  },
  {
   "cell_type": "code",
   "execution_count": 2,
   "id": "da9ff008-cb12-44f7-93a8-84f7386da886",
   "metadata": {
    "ExecuteTime": {
     "end_time": "2023-05-11T08:10:59.204618Z",
     "start_time": "2023-05-11T08:10:58.305330700Z"
    }
   },
   "outputs": [],
   "source": [
    "C = Config.new(config=Config.CONFIG_MAINNET)\n",
    "\n",
    "# add_tenderly = f'brownie networks add \"Ethereum\" \"{C.NETWORK_ID}\" host=\"{C.provider_url}\" name=\"{C.network_name}\" chainid={C.CHAIN_ID}'\n",
    "# mod_tenderly = f'brownie networks modify \"{C.network_id}\" host=\"{C.provider_url}\" name=\"{C.network_name}\" chainid={C.CHAIN_ID}'\n",
    "# set_tenderly = f'brownie networks set_provider \"{C.network_id}\" host=\"{C.provider_url}\" name=\"{C.network_name}\" chainid={C.CHAIN_ID}'\n",
    "#\n",
    "# print(add_tenderly, mod_tenderly, set_tenderly)\n",
    "\n",
    "assert C.DATABASE == C.DATABASE_POSTGRES\n",
    "assert C.POSTGRES_DB == \"defaultdb\"\n",
    "assert C.NETWORK == C.NETWORK_MAINNET\n",
    "assert C.PROVIDER == C.PROVIDER_ALCHEMY\n",
    "bot = CarbonBot(ConfigObj=C)\n",
    "assert str(type(bot.db)) == \"<class 'fastlane_bot.db.manager.DatabaseManager'>\""
   ]
  },
  {
   "cell_type": "code",
   "execution_count": 3,
   "id": "4c184a25",
   "metadata": {
    "ExecuteTime": {
     "end_time": "2023-05-11T08:10:59.622450300Z",
     "start_time": "2023-05-11T08:10:59.204618Z"
    }
   },
   "outputs": [
    {
     "name": "stdout",
     "output_type": "stream",
     "text": [
      "Number of curves: 92\n",
      "Number of tokens: 23\n",
      "Exchanges: {'uniswap_v3', 'bancor_v3', 'carbon_v1', 'uniswap_v2'}\n"
     ]
    }
   ],
   "source": [
    "CCm = bot.get_curves()\n",
    "exch = {c.P(\"exchange\") for c in CCm}\n",
    "print(\"Number of curves:\", len(CCm))\n",
    "print(\"Number of tokens:\", len(CCm.tokens()))\n",
    "print(\"Exchanges:\", exch)"
   ]
  },
  {
   "cell_type": "code",
   "execution_count": 4,
   "id": "d7ee607c",
   "metadata": {
    "ExecuteTime": {
     "end_time": "2023-05-11T08:10:59.668780600Z",
     "start_time": "2023-05-11T08:10:59.623446100Z"
    }
   },
   "outputs": [
    {
     "data": {
      "text/plain": "91"
     },
     "execution_count": 4,
     "metadata": {},
     "output_type": "execute_result"
    }
   ],
   "source": [
    "bad_curves = ['340282366920938463463374607431768211527-0',\n",
    "              '340282366920938463463374607431768211527-1',\n",
    "              '12930729942995661611608235082407192035404-0',\n",
    "              '9868188640707215440437863615521278132277-1',\n",
    "                # '2381976568446569244243622252022377480199-0',\n",
    "#               '3743106036130323098097120681749450326030-0',\n",
    "#               '4423670769972200025023869896612986748950-0'\n",
    "]\n",
    "subcurves = [x for x in CCm if x.cid not in bad_curves]\n",
    "CCm2 = CPCContainer([x for x in subcurves if x.params.exchange not in ['bancor_v2']])\n",
    "len(CCm2)"
   ]
  },
  {
   "attachments": {},
   "cell_type": "markdown",
   "id": "5a26c4b4",
   "metadata": {},
   "source": [
    "## Actual run"
   ]
  },
  {
   "cell_type": "code",
   "execution_count": 5,
   "id": "cab33dc6",
   "metadata": {
    "ExecuteTime": {
     "end_time": "2023-05-11T08:10:59.677275300Z",
     "start_time": "2023-05-11T08:10:59.640336100Z"
    }
   },
   "outputs": [],
   "source": [
    "flt = [T.USDC, T.USDT, T.ETH, T.LINK, T.BNT, T.WBTC, T.DAI]\n",
    "# bot._run(flashloan_tokens=flt, CCm=CCm2)"
   ]
  },
  {
   "attachments": {},
   "cell_type": "markdown",
   "id": "5f2f01c5",
   "metadata": {},
   "source": [
    "## Analytics"
   ]
  },
  {
   "cell_type": "code",
   "execution_count": 6,
   "id": "1419695c",
   "metadata": {
    "ExecuteTime": {
     "end_time": "2023-05-11T08:10:59.905376200Z",
     "start_time": "2023-05-11T08:10:59.668780600Z"
    }
   },
   "outputs": [
    {
     "data": {
      "text/plain": "[(Decimal('0.416954878170092166787079010988634024392762711386239971034228801727294921875'),\n                                              USDT-1ec7     WETH-6Cc2\n  1f595b1af09543b6959e9f1cb23b929d             4.804612 -2.644104e-03\n  2722258935367507707706996859454145691656-0  -5.000000  2.644104e-03\n  AMMIn                                        4.804612  2.644104e-03\n  AMMOut                                      -5.000000 -2.644104e-03\n  TOTAL NET                                   -0.195388  1.818989e-11,\n  [{'cid': '1f595b1af09543b6959e9f1cb23b929d',\n    'tknin': 'USDT-1ec7',\n    'amtin': 4.80461186170578,\n    'tknout': 'WETH-6Cc2',\n    'amtout': -0.002644103631610051,\n    'error': None},\n   {'cid': '2722258935367507707706996859454145691656-0',\n    'tknin': 'WETH-6Cc2',\n    'amtin': 0.002644103649799945,\n    'tknout': 'USDT-1ec7',\n    'amtout': -5.0,\n    'error': None}],\n  'USDT-1ec7',\n  (CPCArbOptimizer.TradeInstruction(cid='1f595b1af09543b6959e9f1cb23b929d', tknin='USDT-1ec7', amtin=4.80461186170578, tknout='WETH-6Cc2', amtout=-0.002644103631610051, error=None),\n   CPCArbOptimizer.TradeInstruction(cid='2722258935367507707706996859454145691656-0', tknin='WETH-6Cc2', amtin=0.002644103649799945, tknout='USDT-1ec7', amtout=-5.0, error=None))),\n (Decimal('-0.000006504356861114501953125'),\n             BNT-FF1C     WETH-6Cc2\n  704        0.000007 -1.511125e-09\n  AMMIn      0.000007  0.000000e+00\n  AMMOut     0.000000 -1.511125e-09\n  TOTAL NET  0.000007 -1.511125e-09,\n  [{'cid': '704',\n    'tknin': 'BNT-FF1C',\n    'amtin': 6.504356861114502e-06,\n    'tknout': 'WETH-6Cc2',\n    'amtout': -1.5111254469957203e-09,\n    'error': None}],\n  'BNT-FF1C',\n  (CPCArbOptimizer.TradeInstruction(cid='704', tknin='BNT-FF1C', amtin=6.504356861114502e-06, tknout='WETH-6Cc2', amtout=-1.5111254469957203e-09, error=None),)),\n (Decimal('-0.000006504356861114501953125'),\n             BNT-FF1C     WETH-6Cc2\n  704        0.000007 -1.511125e-09\n  AMMIn      0.000007  0.000000e+00\n  AMMOut     0.000000 -1.511125e-09\n  TOTAL NET  0.000007 -1.511125e-09,\n  [{'cid': '704',\n    'tknin': 'BNT-FF1C',\n    'amtin': 6.504356861114502e-06,\n    'tknout': 'WETH-6Cc2',\n    'amtout': -1.5111254469957203e-09,\n    'error': None}],\n  'BNT-FF1C',\n  (CPCArbOptimizer.TradeInstruction(cid='704', tknin='BNT-FF1C', amtin=6.504356861114502e-06, tknout='WETH-6Cc2', amtout=-1.5111254469957203e-09, error=None),)),\n (Decimal('-0.000006504356861114501953125'),\n             BNT-FF1C     WETH-6Cc2\n  704        0.000007 -1.511125e-09\n  AMMIn      0.000007  0.000000e+00\n  AMMOut     0.000000 -1.511125e-09\n  TOTAL NET  0.000007 -1.511125e-09,\n  [{'cid': '704',\n    'tknin': 'BNT-FF1C',\n    'amtin': 6.504356861114502e-06,\n    'tknout': 'WETH-6Cc2',\n    'amtout': -1.5111254469957203e-09,\n    'error': None}],\n  'BNT-FF1C',\n  (CPCArbOptimizer.TradeInstruction(cid='704', tknin='BNT-FF1C', amtin=6.504356861114502e-06, tknout='WETH-6Cc2', amtout=-1.5111254469957203e-09, error=None),)),\n (Decimal('-0.00000651739537715911865234375'),\n             BNT-FF1C     WETH-6Cc2\n  704        0.000007 -1.514309e-09\n  AMMIn      0.000007  0.000000e+00\n  AMMOut     0.000000 -1.514309e-09\n  TOTAL NET  0.000007 -1.514309e-09,\n  [{'cid': '704',\n    'tknin': 'BNT-FF1C',\n    'amtin': 6.517395377159119e-06,\n    'tknout': 'WETH-6Cc2',\n    'amtout': -1.5143086784519255e-09,\n    'error': None}],\n  'BNT-FF1C',\n  (CPCArbOptimizer.TradeInstruction(cid='704', tknin='BNT-FF1C', amtin=6.517395377159119e-06, tknout='WETH-6Cc2', amtout=-1.5143086784519255e-09, error=None),)),\n (Decimal('0.40262187333792098797857761383056640625'),\n                                                 WETH-6Cc2   BNT-FF1C\n  704                                         2.882723e-03 -12.409350\n  3743106036130323098097120681749450326076-0 -2.882725e-03  12.006728\n  AMMIn                                       2.882723e-03  12.006728\n  AMMOut                                     -2.882725e-03 -12.409350\n  TOTAL NET                                  -1.502248e-09  -0.402622,\n  [{'cid': '704',\n    'tknin': 'WETH-6Cc2',\n    'amtin': 0.002882723372295004,\n    'tknout': 'BNT-FF1C',\n    'amtout': -12.409350270405412,\n    'error': None},\n   {'cid': '3743106036130323098097120681749450326076-0',\n    'tknin': 'BNT-FF1C',\n    'amtin': 12.00672839706749,\n    'tknout': 'WETH-6Cc2',\n    'amtout': -0.0028827248745431078,\n    'error': None}],\n  'BNT-FF1C',\n  (CPCArbOptimizer.TradeInstruction(cid='704', tknin='WETH-6Cc2', amtin=0.002882723372295004, tknout='BNT-FF1C', amtout=-12.409350270405412, error=None),\n   CPCArbOptimizer.TradeInstruction(cid='3743106036130323098097120681749450326076-0', tknin='BNT-FF1C', amtin=12.00672839706749, tknout='WETH-6Cc2', amtout=-0.0028827248745431078, error=None))),\n (Decimal('-0.0000064484775066375732421875'),\n             BNT-FF1C     WETH-6Cc2\n  704        0.000006 -1.497938e-09\n  AMMIn      0.000006  0.000000e+00\n  AMMOut     0.000000 -1.497938e-09\n  TOTAL NET  0.000006 -1.497938e-09,\n  [{'cid': '704',\n    'tknin': 'BNT-FF1C',\n    'amtin': 6.448477506637573e-06,\n    'tknout': 'WETH-6Cc2',\n    'amtout': -1.4979377738200128e-09,\n    'error': None}],\n  'BNT-FF1C',\n  (CPCArbOptimizer.TradeInstruction(cid='704', tknin='BNT-FF1C', amtin=6.448477506637573e-06, tknout='WETH-6Cc2', amtout=-1.4979377738200128e-09, error=None),)),\n (Decimal('-0.000005833804607391357421875'),\n             BNT-FF1C     WETH-6Cc2\n  704        0.000006 -1.355147e-09\n  AMMIn      0.000006  0.000000e+00\n  AMMOut     0.000000 -1.355147e-09\n  TOTAL NET  0.000006 -1.355147e-09,\n  [{'cid': '704',\n    'tknin': 'BNT-FF1C',\n    'amtin': 5.833804607391357e-06,\n    'tknout': 'WETH-6Cc2',\n    'amtout': -1.355147105641663e-09,\n    'error': None}],\n  'BNT-FF1C',\n  (CPCArbOptimizer.TradeInstruction(cid='704', tknin='BNT-FF1C', amtin=5.833804607391357e-06, tknout='WETH-6Cc2', amtout=-1.355147105641663e-09, error=None),)),\n (Decimal('-0.00000646151602268218994140625'),\n             BNT-FF1C     WETH-6Cc2\n  704        0.000006 -1.501121e-09\n  AMMIn      0.000006  0.000000e+00\n  AMMOut     0.000000 -1.501121e-09\n  TOTAL NET  0.000006 -1.501121e-09,\n  [{'cid': '704',\n    'tknin': 'BNT-FF1C',\n    'amtin': 6.46151602268219e-06,\n    'tknout': 'WETH-6Cc2',\n    'amtout': -1.501121005276218e-09,\n    'error': None}],\n  'BNT-FF1C',\n  (CPCArbOptimizer.TradeInstruction(cid='704', tknin='BNT-FF1C', amtin=6.46151602268219e-06, tknout='WETH-6Cc2', amtout=-1.501121005276218e-09, error=None),)),\n (Decimal('-0.000006504356861114501953125'),\n             BNT-FF1C     WETH-6Cc2\n  704        0.000007 -1.511125e-09\n  AMMIn      0.000007  0.000000e+00\n  AMMOut     0.000000 -1.511125e-09\n  TOTAL NET  0.000007 -1.511125e-09,\n  [{'cid': '704',\n    'tknin': 'BNT-FF1C',\n    'amtin': 6.504356861114502e-06,\n    'tknout': 'WETH-6Cc2',\n    'amtout': -1.5111254469957203e-09,\n    'error': None}],\n  'BNT-FF1C',\n  (CPCArbOptimizer.TradeInstruction(cid='704', tknin='BNT-FF1C', amtin=6.504356861114502e-06, tknout='WETH-6Cc2', amtout=-1.5111254469957203e-09, error=None),)),\n (Decimal('-1.7159618437290191650390625E-7'),\n                 BNT-FF1C     vBNT-7f94\n  742        1.715962e-07 -2.169982e-07\n  AMMIn      1.715962e-07  0.000000e+00\n  AMMOut     0.000000e+00 -2.169982e-07\n  TOTAL NET  1.715962e-07 -2.169982e-07,\n  [{'cid': '742',\n    'tknin': 'BNT-FF1C',\n    'amtin': 1.7159618437290192e-07,\n    'tknout': 'vBNT-7f94',\n    'amtout': -2.169981598854065e-07,\n    'error': None}],\n  'BNT-FF1C',\n  (CPCArbOptimizer.TradeInstruction(cid='742', tknin='BNT-FF1C', amtin=1.7159618437290192e-07, tknout='vBNT-7f94', amtout=-2.169981598854065e-07, error=None),)),\n (Decimal('-7.101334631443023681640625E-8'),\n                 BNT-FF1C     vBNT-7f94\n  742        7.101335e-08 -8.940697e-08\n  AMMIn      7.101335e-08  0.000000e+00\n  AMMOut     0.000000e+00 -8.940697e-08\n  TOTAL NET  7.101335e-08 -8.940697e-08,\n  [{'cid': '742',\n    'tknin': 'BNT-FF1C',\n    'amtin': 7.101334631443024e-08,\n    'tknout': 'vBNT-7f94',\n    'amtout': -8.940696716308594e-08,\n    'error': None}],\n  'BNT-FF1C',\n  (CPCArbOptimizer.TradeInstruction(cid='742', tknin='BNT-FF1C', amtin=7.101334631443024e-08, tknout='vBNT-7f94', amtout=-8.940696716308594e-08, error=None),)),\n (Decimal('-7.12461769580841064453125E-8'),\n                 BNT-FF1C     vBNT-7f94\n  742        7.124618e-08 -8.987263e-08\n  AMMIn      7.124618e-08  0.000000e+00\n  AMMOut     0.000000e+00 -8.987263e-08\n  TOTAL NET  7.124618e-08 -8.987263e-08,\n  [{'cid': '742',\n    'tknin': 'BNT-FF1C',\n    'amtin': 7.12461769580841e-08,\n    'tknout': 'vBNT-7f94',\n    'amtout': -8.987262845039368e-08,\n    'error': None}],\n  'BNT-FF1C',\n  (CPCArbOptimizer.TradeInstruction(cid='742', tknin='BNT-FF1C', amtin=7.12461769580841e-08, tknout='vBNT-7f94', amtout=-8.987262845039368e-08, error=None),)),\n (Decimal('-1.0919757187366485595703125E-7'),\n                 BNT-FF1C     vBNT-7f94\n  742        1.091976e-07 -1.378357e-07\n  AMMIn      1.091976e-07  0.000000e+00\n  AMMOut     0.000000e+00 -1.378357e-07\n  TOTAL NET  1.091976e-07 -1.378357e-07,\n  [{'cid': '742',\n    'tknin': 'BNT-FF1C',\n    'amtin': 1.0919757187366486e-07,\n    'tknout': 'vBNT-7f94',\n    'amtout': -1.3783574104309082e-07,\n    'error': None}],\n  'BNT-FF1C',\n  (CPCArbOptimizer.TradeInstruction(cid='742', tknin='BNT-FF1C', amtin=1.0919757187366486e-07, tknout='vBNT-7f94', amtout=-1.3783574104309082e-07, error=None),)),\n (Decimal('-6.93835318088531494140625E-8'),\n                 BNT-FF1C     vBNT-7f94\n  742        6.938353e-08 -8.754432e-08\n  AMMIn      6.938353e-08  0.000000e+00\n  AMMOut     0.000000e+00 -8.754432e-08\n  TOTAL NET  6.938353e-08 -8.754432e-08,\n  [{'cid': '742',\n    'tknin': 'BNT-FF1C',\n    'amtin': 6.938353180885315e-08,\n    'tknout': 'vBNT-7f94',\n    'amtout': -8.754432201385498e-08,\n    'error': None}],\n  'BNT-FF1C',\n  (CPCArbOptimizer.TradeInstruction(cid='742', tknin='BNT-FF1C', amtin=6.938353180885315e-08, tknout='vBNT-7f94', amtout=-8.754432201385498e-08, error=None),)),\n (Decimal('-6.402842700481414794921875E-8'),\n                 BNT-FF1C     vBNT-7f94\n  742        6.402843e-08 -8.079223e-08\n  AMMIn      6.402843e-08  0.000000e+00\n  AMMOut     0.000000e+00 -8.079223e-08\n  TOTAL NET  6.402843e-08 -8.079223e-08,\n  [{'cid': '742',\n    'tknin': 'BNT-FF1C',\n    'amtin': 6.402842700481415e-08,\n    'tknout': 'vBNT-7f94',\n    'amtout': -8.079223334789276e-08,\n    'error': None}],\n  'BNT-FF1C',\n  (CPCArbOptimizer.TradeInstruction(cid='742', tknin='BNT-FF1C', amtin=6.402842700481415e-08, tknout='vBNT-7f94', amtout=-8.079223334789276e-08, error=None),)),\n (Decimal('-6.728805601596832275390625E-8'),\n                 BNT-FF1C     vBNT-7f94\n  742        6.728806e-08 -8.475035e-08\n  AMMIn      6.728806e-08  0.000000e+00\n  AMMOut     0.000000e+00 -8.475035e-08\n  TOTAL NET  6.728806e-08 -8.475035e-08,\n  [{'cid': '742',\n    'tknin': 'BNT-FF1C',\n    'amtin': 6.728805601596832e-08,\n    'tknout': 'vBNT-7f94',\n    'amtout': -8.475035429000854e-08,\n    'error': None}],\n  'BNT-FF1C',\n  (CPCArbOptimizer.TradeInstruction(cid='742', tknin='BNT-FF1C', amtin=6.728805601596832e-08, tknout='vBNT-7f94', amtout=-8.475035429000854e-08, error=None),)),\n (Decimal('0.035434129660643520765006542205810546875'),\n                                              BNT-FF1C     vBNT-7f94\n  742                                         0.256511 -3.243748e-01\n  4423670769972200025023869896612986748990-0 -0.291945  3.243747e-01\n  AMMIn                                       0.256511  3.243747e-01\n  AMMOut                                     -0.291945 -3.243748e-01\n  TOTAL NET                                  -0.035434 -8.095412e-08,\n  [{'cid': '742',\n    'tknin': 'BNT-FF1C',\n    'amtin': 0.25651088450104,\n    'tknout': 'vBNT-7f94',\n    'amtout': -0.3243747800588608,\n    'error': None},\n   {'cid': '4423670769972200025023869896612986748990-0',\n    'tknin': 'vBNT-7f94',\n    'amtin': 0.3243746991047374,\n    'tknout': 'BNT-FF1C',\n    'amtout': -0.2919450141616835,\n    'error': None}],\n  'BNT-FF1C',\n  (CPCArbOptimizer.TradeInstruction(cid='742', tknin='BNT-FF1C', amtin=0.25651088450104, tknout='vBNT-7f94', amtout=-0.3243747800588608, error=None),\n   CPCArbOptimizer.TradeInstruction(cid='4423670769972200025023869896612986748990-0', tknin='vBNT-7f94', amtin=0.3243746991047374, tknout='BNT-FF1C', amtout=-0.2919450141616835, error=None))),\n (Decimal('-7.147900760173797607421875E-8'),\n                 BNT-FF1C     vBNT-7f94\n  742        7.147901e-08 -9.010546e-08\n  AMMIn      7.147901e-08  0.000000e+00\n  AMMOut     0.000000e+00 -9.010546e-08\n  TOTAL NET  7.147901e-08 -9.010546e-08,\n  [{'cid': '742',\n    'tknin': 'BNT-FF1C',\n    'amtin': 7.147900760173798e-08,\n    'tknout': 'vBNT-7f94',\n    'amtout': -9.010545909404755e-08,\n    'error': None}],\n  'BNT-FF1C',\n  (CPCArbOptimizer.TradeInstruction(cid='742', tknin='BNT-FF1C', amtin=7.147900760173798e-08, tknout='vBNT-7f94', amtout=-9.010545909404755e-08, error=None),)),\n (Decimal('0.0453785889278668207818043244449875495663790131613268830079732651938684284687042'),\n                                              USDT-1ec7     LINK-86CA\n  539a301956344755aef66083984a84b8             0.364062 -5.584286e-02\n  4763953136893138488487244504044754960408-0  -0.385327  5.584286e-02\n  AMMIn                                        0.364062  5.584286e-02\n  AMMOut                                      -0.385327 -5.584286e-02\n  TOTAL NET                                   -0.021265 -9.094947e-13,\n  [{'cid': '539a301956344755aef66083984a84b8',\n    'tknin': 'USDT-1ec7',\n    'amtin': 0.36406225776227075,\n    'tknout': 'LINK-86CA',\n    'amtout': -0.05584286467774291,\n    'error': None},\n   {'cid': '4763953136893138488487244504044754960408-0',\n    'tknin': 'LINK-86CA',\n    'amtin': 0.055842864676833415,\n    'tknout': 'USDT-1ec7',\n    'amtout': -0.3853269999999611,\n    'error': None}],\n  'USDT-1ec7',\n  (CPCArbOptimizer.TradeInstruction(cid='539a301956344755aef66083984a84b8', tknin='USDT-1ec7', amtin=0.36406225776227075, tknout='LINK-86CA', amtout=-0.05584286467774291, error=None),\n   CPCArbOptimizer.TradeInstruction(cid='4763953136893138488487244504044754960408-0', tknin='LINK-86CA', amtin=0.055842864676833415, tknout='USDT-1ec7', amtout=-0.3853269999999611, error=None))),\n (Decimal('4.65325427911322466196706985511914821703262897867933028939191331119218375533819'),\n                                                 USDC-eB48  WETH-6Cc2\n  7ed16708962e459abe5431a176b13aa0            2.496216e+02   -0.13732\n  1701411834604692317316873037158841057337-0 -2.496216e+02    0.13612\n  AMMIn                                       2.496216e+02    0.13612\n  AMMOut                                     -2.496216e+02   -0.13732\n  TOTAL NET                                  -1.975059e-08   -0.00120,\n  [{'cid': '7ed16708962e459abe5431a176b13aa0',\n    'tknin': 'USDC-eB48',\n    'amtin': 249.62159991264343,\n    'tknout': 'WETH-6Cc2',\n    'amtout': -0.13732034442364238,\n    'error': None},\n   {'cid': '1701411834604692317316873037158841057337-0',\n    'tknin': 'WETH-6Cc2',\n    'amtin': 0.13612016416823813,\n    'tknout': 'USDC-eB48',\n    'amtout': -249.62159993239402,\n    'error': None}],\n  'WETH-6Cc2',\n  (CPCArbOptimizer.TradeInstruction(cid='7ed16708962e459abe5431a176b13aa0', tknin='USDC-eB48', amtin=249.62159991264343, tknout='WETH-6Cc2', amtout=-0.13732034442364238, error=None),\n   CPCArbOptimizer.TradeInstruction(cid='1701411834604692317316873037158841057337-0', tknin='WETH-6Cc2', amtin=0.13612016416823813, tknout='USDC-eB48', amtout=-249.62159993239402, error=None))),\n (Decimal('0.239804275967285222202347627768081242055166764739256718419468938918726053088903'),\n                                                 USDC-eB48  WETH-6Cc2\n  7ed16708962e459abe5431a176b13aa0            6.141325e+00  -0.003378\n  1701411834604692317316873037158841057292-0 -6.141325e+00   0.003317\n  AMMIn                                       6.141325e+00   0.003317\n  AMMOut                                     -6.141325e+00  -0.003378\n  TOTAL NET                                  -1.222606e-07  -0.000062,\n  [{'cid': '7ed16708962e459abe5431a176b13aa0',\n    'tknin': 'USDC-eB48',\n    'amtin': 6.141324877738953,\n    'tknout': 'WETH-6Cc2',\n    'amtout': -0.003378431953024119,\n    'error': None},\n   {'cid': '1701411834604692317316873037158841057292-0',\n    'tknin': 'WETH-6Cc2',\n    'amtin': 0.0033165809687636383,\n    'tknout': 'USDC-eB48',\n    'amtout': -6.141324999999597,\n    'error': None}],\n  'WETH-6Cc2',\n  (CPCArbOptimizer.TradeInstruction(cid='7ed16708962e459abe5431a176b13aa0', tknin='USDC-eB48', amtin=6.141324877738953, tknout='WETH-6Cc2', amtout=-0.003378431953024119, error=None),\n   CPCArbOptimizer.TradeInstruction(cid='1701411834604692317316873037158841057292-0', tknin='WETH-6Cc2', amtin=0.0033165809687636383, tknout='USDC-eB48', amtout=-6.141324999999597, error=None))),\n (Decimal('0.2472977504754450032666358283146672281116451586058246903121471405029296875'),\n                                                 USDC-eB48  WETH-6Cc2\n  7ed16708962e459abe5431a176b13aa0            1.994537e+00  -0.001097\n  1701411834604692317316873037158841057296-0 -1.994537e+00   0.001033\n  AMMIn                                       1.994537e+00   0.001033\n  AMMOut                                     -1.994537e+00  -0.001097\n  TOTAL NET                                  -5.960464e-08  -0.000064,\n  [{'cid': '7ed16708962e459abe5431a176b13aa0',\n    'tknin': 'USDC-eB48',\n    'amtin': 1.9945372939109802,\n    'tknout': 'WETH-6Cc2',\n    'amtout': -0.0010972239542752504,\n    'error': None},\n   {'cid': '1701411834604692317316873037158841057296-0',\n    'tknin': 'WETH-6Cc2',\n    'amtin': 0.0010334402322769165,\n    'tknout': 'USDC-eB48',\n    'amtout': -1.994537353515625,\n    'error': None}],\n  'WETH-6Cc2',\n  (CPCArbOptimizer.TradeInstruction(cid='7ed16708962e459abe5431a176b13aa0', tknin='USDC-eB48', amtin=1.9945372939109802, tknout='WETH-6Cc2', amtout=-0.0010972239542752504, error=None),\n   CPCArbOptimizer.TradeInstruction(cid='1701411834604692317316873037158841057296-0', tknin='WETH-6Cc2', amtin=0.0010334402322769165, tknout='USDC-eB48', amtout=-1.994537353515625, error=None))),\n (Decimal('0.326924170537209908365368061266870332304268487177978386171162128448486328125'),\n                                                 USDC-eB48  WETH-6Cc2\n  7ed16708962e459abe5431a176b13aa0            7.851120e+00  -0.004319\n  1701411834604692317316873037158841057353-0 -7.851120e+00   0.004235\n  AMMIn                                       7.851120e+00   0.004235\n  AMMOut                                     -7.851120e+00  -0.004319\n  TOTAL NET                                   1.788139e-07  -0.000084,\n  [{'cid': '7ed16708962e459abe5431a176b13aa0',\n    'tknin': 'USDC-eB48',\n    'amtin': 7.851120173931122,\n    'tknout': 'WETH-6Cc2',\n    'amtout': -0.004319015133660287,\n    'error': None},\n   {'cid': '1701411834604692317316873037158841057353-0',\n    'tknin': 'WETH-6Cc2',\n    'amtin': 0.004234693944454193,\n    'tknout': 'USDC-eB48',\n    'amtout': -7.8511199951171875,\n    'error': None}],\n  'WETH-6Cc2',\n  (CPCArbOptimizer.TradeInstruction(cid='7ed16708962e459abe5431a176b13aa0', tknin='USDC-eB48', amtin=7.851120173931122, tknout='WETH-6Cc2', amtout=-0.004319015133660287, error=None),\n   CPCArbOptimizer.TradeInstruction(cid='1701411834604692317316873037158841057353-0', tknin='WETH-6Cc2', amtin=0.004234693944454193, tknout='USDC-eB48', amtout=-7.8511199951171875, error=None))),\n (Decimal('0.832431540090086031729456335214997892004784932340477610068774083629250526428223'),\n                                               USDT-1ec7   USDC-eB48\n  15c7994e2d2c468fbad5fb782616d525            472.583079 -473.646477\n  1020847100762815390390123822295304634391-0 -472.973162  473.646477\n  AMMIn                                       472.583079  473.646477\n  AMMOut                                     -472.973162 -473.646477\n  TOTAL NET                                    -0.390084    0.000000,\n  [{'cid': '15c7994e2d2c468fbad5fb782616d525',\n    'tknin': 'USDT-1ec7',\n    'amtin': 472.583078723168,\n    'tknout': 'USDC-eB48',\n    'amtout': -473.64647738356143,\n    'error': None},\n   {'cid': '1020847100762815390390123822295304634391-0',\n    'tknin': 'USDC-eB48',\n    'amtin': 473.64647738356143,\n    'tknout': 'USDT-1ec7',\n    'amtout': -472.9731622966938,\n    'error': None}],\n  'USDT-1ec7',\n  (CPCArbOptimizer.TradeInstruction(cid='15c7994e2d2c468fbad5fb782616d525', tknin='USDT-1ec7', amtin=472.583078723168, tknout='USDC-eB48', amtout=-473.64647738356143, error=None),\n   CPCArbOptimizer.TradeInstruction(cid='1020847100762815390390123822295304634391-0', tknin='USDC-eB48', amtin=473.64647738356143, tknout='USDT-1ec7', amtout=-472.9731622966938, error=None))),\n (Decimal('-9.131617844104766845703125E-7'),\n                 BNT-FF1C     USDC-eB48\n  720        9.131618e-07 -3.923196e-07\n  AMMIn      9.131618e-07  0.000000e+00\n  AMMOut     0.000000e+00 -3.923196e-07\n  TOTAL NET  9.131618e-07 -3.923196e-07,\n  [{'cid': '720',\n    'tknin': 'BNT-FF1C',\n    'amtin': 9.131617844104767e-07,\n    'tknout': 'USDC-eB48',\n    'amtout': -3.923196345567703e-07,\n    'error': None}],\n  'BNT-FF1C',\n  (CPCArbOptimizer.TradeInstruction(cid='720', tknin='BNT-FF1C', amtin=9.131617844104767e-07, tknout='USDC-eB48', amtout=-3.923196345567703e-07, error=None),)),\n (Decimal('-0.0000016451813280582427978515625'),\n             BNT-FF1C     USDC-eB48\n  720        0.000002 -7.071067e-07\n  AMMIn      0.000002  0.000000e+00\n  AMMOut     0.000000 -7.071067e-07\n  TOTAL NET  0.000002 -7.071067e-07,\n  [{'cid': '720',\n    'tknin': 'BNT-FF1C',\n    'amtin': 1.6451813280582428e-06,\n    'tknout': 'USDC-eB48',\n    'amtout': -7.071066647768021e-07,\n    'error': None}],\n  'BNT-FF1C',\n  (CPCArbOptimizer.TradeInstruction(cid='720', tknin='BNT-FF1C', amtin=1.6451813280582428e-06, tknout='USDC-eB48', amtout=-7.071066647768021e-07, error=None),)),\n (Decimal('-8.8155718563921299585898853833575671001820950323235592804849147796630859375E-10'),\n                                       WETH-6Cc2      DAI-1d0F\n  644ebe18973a4af2aea93d9401933a67  2.273737e-13 -2.328306e-10\n  AMMIn                             2.273737e-13  0.000000e+00\n  AMMOut                            0.000000e+00 -2.328306e-10\n  TOTAL NET                         2.273737e-13 -2.328306e-10,\n  [{'cid': '644ebe18973a4af2aea93d9401933a67',\n    'tknin': 'WETH-6Cc2',\n    'amtin': 2.2737367544323206e-13,\n    'tknout': 'DAI-1d0F',\n    'amtout': -2.3283064365386963e-10,\n    'error': None}],\n  'WETH-6Cc2',\n  (CPCArbOptimizer.TradeInstruction(cid='644ebe18973a4af2aea93d9401933a67', tknin='WETH-6Cc2', amtin=2.2737367544323206e-13, tknout='DAI-1d0F', amtout=-2.3283064365386963e-10, error=None),)),\n (Decimal('-0E-49'),\n                                    DAI-1d0F  USDC-eB48\n  873a7e371be64eb485a3cfee35fe6796       0.0        0.0\n  AMMIn                                  0.0        0.0\n  AMMOut                                 0.0        0.0\n  TOTAL NET                              0.0        0.0,\n  [{'cid': '873a7e371be64eb485a3cfee35fe6796',\n    'tknin': 'DAI-1d0F',\n    'amtin': 0,\n    'tknout': 'USDC-eB48',\n    'amtout': 0,\n    'error': None}],\n  'USDC-eB48',\n  (CPCArbOptimizer.TradeInstruction(cid='873a7e371be64eb485a3cfee35fe6796', tknin='DAI-1d0F', amtin=0, tknout='USDC-eB48', amtout=0, error=None),)),\n (Decimal('10.232047222541840027506078521454834819037760240689749480225145816802978515625'),\n                                              WETH-6Cc2     rETH-6393\n  287994fd2a0e4bf4887ed0f282c4849c             1.997361 -1.865672e+00\n  3062541302288446171170371466885913903115-0  -2.000000  1.865672e+00\n  AMMIn                                        1.997361  1.865672e+00\n  AMMOut                                      -2.000000 -1.865672e+00\n  TOTAL NET                                   -0.002639 -5.820766e-11,\n  [{'cid': '287994fd2a0e4bf4887ed0f282c4849c',\n    'tknin': 'WETH-6Cc2',\n    'amtin': 1.9973609219887294,\n    'tknout': 'rETH-6393',\n    'amtout': -1.8656716421828605,\n    'error': None},\n   {'cid': '3062541302288446171170371466885913903115-0',\n    'tknin': 'rETH-6393',\n    'amtin': 1.8656716421246529,\n    'tknout': 'WETH-6Cc2',\n    'amtout': -2.0,\n    'error': None}],\n  'WETH-6Cc2',\n  (CPCArbOptimizer.TradeInstruction(cid='287994fd2a0e4bf4887ed0f282c4849c', tknin='WETH-6Cc2', amtin=1.9973609219887294, tknout='rETH-6393', amtout=-1.8656716421828605, error=None),\n   CPCArbOptimizer.TradeInstruction(cid='3062541302288446171170371466885913903115-0', tknin='rETH-6393', amtin=1.8656716421246529, tknout='WETH-6Cc2', amtout=-2.0, error=None))),\n (Decimal('-4.5135727904727705387980213162790743552932326565496623516082763671875E-7'),\n                                    WETH-6Cc2  WBTC-C599\n  0a1e0af654974dd6848b52233d1aaf34        0.0        0.0\n  AMMIn                                   0.0        0.0\n  AMMOut                                  0.0        0.0\n  TOTAL NET                               0.0        0.0,\n  [{'cid': '0a1e0af654974dd6848b52233d1aaf34',\n    'tknin': 'WETH-6Cc2',\n    'amtin': 0,\n    'tknout': 'WBTC-C599',\n    'amtout': 0,\n    'error': None}],\n  'WETH-6Cc2',\n  (CPCArbOptimizer.TradeInstruction(cid='0a1e0af654974dd6848b52233d1aaf34', tknin='WETH-6Cc2', amtin=0, tknout='WBTC-C599', amtout=0, error=None),)),\n (Decimal('-4.5135727904727705387980213162790743552932326565496623516082763671875E-7'),\n                                    WETH-6Cc2  WBTC-C599\n  0a1e0af654974dd6848b52233d1aaf34        0.0        0.0\n  AMMIn                                   0.0        0.0\n  AMMOut                                  0.0        0.0\n  TOTAL NET                               0.0        0.0,\n  [{'cid': '0a1e0af654974dd6848b52233d1aaf34',\n    'tknin': 'WETH-6Cc2',\n    'amtin': 0,\n    'tknout': 'WBTC-C599',\n    'amtout': 0,\n    'error': None}],\n  'WETH-6Cc2',\n  (CPCArbOptimizer.TradeInstruction(cid='0a1e0af654974dd6848b52233d1aaf34', tknin='WETH-6Cc2', amtin=0, tknout='WBTC-C599', amtout=0, error=None),)),\n (Decimal('-1.192455675229720321210098301170123014092183666434721089899539947509765625E-8'),\n                                       USDT-1ec7     WBTC-C599\n  8b84d53e2a1f47d7aa2e021b472c5f6c  5.587935e-09 -2.273737e-13\n  AMMIn                             5.587935e-09  0.000000e+00\n  AMMOut                            0.000000e+00 -2.273737e-13\n  TOTAL NET                         5.587935e-09 -2.273737e-13,\n  [{'cid': '8b84d53e2a1f47d7aa2e021b472c5f6c',\n    'tknin': 'USDT-1ec7',\n    'amtin': 5.587935447692871e-09,\n    'tknout': 'WBTC-C599',\n    'amtout': -2.2737367544323206e-13,\n    'error': None}],\n  'USDT-1ec7',\n  (CPCArbOptimizer.TradeInstruction(cid='8b84d53e2a1f47d7aa2e021b472c5f6c', tknin='USDT-1ec7', amtin=5.587935447692871e-09, tknout='WBTC-C599', amtout=-2.2737367544323206e-13, error=None),)),\n (Decimal('11.3842947900548393942068657880771156162244854212484135302929644240066409111023'),\n                                               USDC-eB48     WBTC-C599\n  8748e770adfe49f78064fd9bcf72417e            494.267299 -1.803567e-02\n  4083388403051261561560495289181218537493-0 -499.605133  1.803567e-02\n  AMMIn                                       494.267299  1.803567e-02\n  AMMOut                                     -499.605133 -1.803567e-02\n  TOTAL NET                                    -5.337834  8.564482e-12,\n  [{'cid': '8748e770adfe49f78064fd9bcf72417e',\n    'tknin': 'USDC-eB48',\n    'amtin': 494.26729866862297,\n    'tknout': 'WBTC-C599',\n    'amtout': -0.018035669663731824,\n    'error': None},\n   {'cid': '4083388403051261561560495289181218537493-0',\n    'tknin': 'WBTC-C599',\n    'amtin': 0.018035669672296306,\n    'tknout': 'USDC-eB48',\n    'amtout': -499.6051326568995,\n    'error': None}],\n  'USDC-eB48',\n  (CPCArbOptimizer.TradeInstruction(cid='8748e770adfe49f78064fd9bcf72417e', tknin='USDC-eB48', amtin=494.26729866862297, tknout='WBTC-C599', amtout=-0.018035669663731824, error=None),\n   CPCArbOptimizer.TradeInstruction(cid='4083388403051261561560495289181218537493-0', tknin='WBTC-C599', amtin=0.018035669672296306, tknout='USDC-eB48', amtout=-499.6051326568995, error=None))),\n (Decimal('8.8155718563921299585898853833575671001820950323235592804849147796630859375E-9'),\n                 BNT-FF1C     WETH-6Cc2\n  704        9.313226e-09 -2.273737e-12\n  AMMIn      9.313226e-09  0.000000e+00\n  AMMOut     0.000000e+00 -2.273737e-12\n  TOTAL NET  9.313226e-09 -2.273737e-12,\n  [{'cid': '704',\n    'tknin': 'BNT-FF1C',\n    'amtin': 9.313225746154785e-09,\n    'tknout': 'WETH-6Cc2',\n    'amtout': -2.2737367544323206e-12,\n    'error': None}],\n  'WETH-6Cc2',\n  (CPCArbOptimizer.TradeInstruction(cid='704', tknin='BNT-FF1C', amtin=9.313225746154785e-09, tknout='WETH-6Cc2', amtout=-2.2737367544323206e-12, error=None),)),\n (Decimal('8.8155718563921299585898853833575671001820950323235592804849147796630859375E-9'),\n                 BNT-FF1C     WETH-6Cc2\n  704        9.313226e-09 -2.273737e-12\n  AMMIn      9.313226e-09  0.000000e+00\n  AMMOut     0.000000e+00 -2.273737e-12\n  TOTAL NET  9.313226e-09 -2.273737e-12,\n  [{'cid': '704',\n    'tknin': 'BNT-FF1C',\n    'amtin': 9.313225746154785e-09,\n    'tknout': 'WETH-6Cc2',\n    'amtout': -2.2737367544323206e-12,\n    'error': None}],\n  'WETH-6Cc2',\n  (CPCArbOptimizer.TradeInstruction(cid='704', tknin='BNT-FF1C', amtin=9.313225746154785e-09, tknout='WETH-6Cc2', amtout=-2.2737367544323206e-12, error=None),)),\n (Decimal('8.8155718563921299585898853833575671001820950323235592804849147796630859375E-9'),\n                 BNT-FF1C     WETH-6Cc2\n  704        9.313226e-09 -2.273737e-12\n  AMMIn      9.313226e-09  0.000000e+00\n  AMMOut     0.000000e+00 -2.273737e-12\n  TOTAL NET  9.313226e-09 -2.273737e-12,\n  [{'cid': '704',\n    'tknin': 'BNT-FF1C',\n    'amtin': 9.313225746154785e-09,\n    'tknout': 'WETH-6Cc2',\n    'amtout': -2.2737367544323206e-12,\n    'error': None}],\n  'WETH-6Cc2',\n  (CPCArbOptimizer.TradeInstruction(cid='704', tknin='BNT-FF1C', amtin=9.313225746154785e-09, tknout='WETH-6Cc2', amtout=-2.2737367544323206e-12, error=None),)),\n (Decimal('8.8155718563921299585898853833575671001820950323235592804849147796630859375E-9'),\n                 BNT-FF1C     WETH-6Cc2\n  704        9.313226e-09 -2.273737e-12\n  AMMIn      9.313226e-09  0.000000e+00\n  AMMOut     0.000000e+00 -2.273737e-12\n  TOTAL NET  9.313226e-09 -2.273737e-12,\n  [{'cid': '704',\n    'tknin': 'BNT-FF1C',\n    'amtin': 9.313225746154785e-09,\n    'tknout': 'WETH-6Cc2',\n    'amtout': -2.2737367544323206e-12,\n    'error': None}],\n  'WETH-6Cc2',\n  (CPCArbOptimizer.TradeInstruction(cid='704', tknin='BNT-FF1C', amtin=9.313225746154785e-09, tknout='WETH-6Cc2', amtout=-2.2737367544323206e-12, error=None),)),\n (Decimal('0.362634330408391463124199840934420553137636942457166372433263745733711402863264'),\n                                              WETH-6Cc2      BNT-FF1C\n  704                                          0.002789 -1.200673e+01\n  3743106036130323098097120681749450326076-0  -0.002883  1.200673e+01\n  AMMIn                                        0.002789  1.200673e+01\n  AMMOut                                      -0.002883 -1.200673e+01\n  TOTAL NET                                   -0.000094  1.614899e-08,\n  [{'cid': '704',\n    'tknin': 'WETH-6Cc2',\n    'amtin': 0.002789193221815367,\n    'tknout': 'BNT-FF1C',\n    'amtout': -12.006728380918503,\n    'error': None},\n   {'cid': '3743106036130323098097120681749450326076-0',\n    'tknin': 'BNT-FF1C',\n    'amtin': 12.00672839706749,\n    'tknout': 'WETH-6Cc2',\n    'amtout': -0.0028827248745431078,\n    'error': None}],\n  'WETH-6Cc2',\n  (CPCArbOptimizer.TradeInstruction(cid='704', tknin='WETH-6Cc2', amtin=0.002789193221815367, tknout='BNT-FF1C', amtout=-12.006728380918503, error=None),\n   CPCArbOptimizer.TradeInstruction(cid='3743106036130323098097120681749450326076-0', tknin='BNT-FF1C', amtin=12.00672839706749, tknout='WETH-6Cc2', amtout=-0.0028827248745431078, error=None))),\n (Decimal('8.8155718563921299585898853833575671001820950323235592804849147796630859375E-9'),\n                 BNT-FF1C     WETH-6Cc2\n  704        9.313226e-09 -2.273737e-12\n  AMMIn      9.313226e-09  0.000000e+00\n  AMMOut     0.000000e+00 -2.273737e-12\n  TOTAL NET  9.313226e-09 -2.273737e-12,\n  [{'cid': '704',\n    'tknin': 'BNT-FF1C',\n    'amtin': 9.313225746154785e-09,\n    'tknout': 'WETH-6Cc2',\n    'amtout': -2.2737367544323206e-12,\n    'error': None}],\n  'WETH-6Cc2',\n  (CPCArbOptimizer.TradeInstruction(cid='704', tknin='BNT-FF1C', amtin=9.313225746154785e-09, tknout='WETH-6Cc2', amtout=-2.2737367544323206e-12, error=None),)),\n (Decimal('8.8155718563921299585898853833575671001820950323235592804849147796630859375E-9'),\n                 BNT-FF1C     WETH-6Cc2\n  704        9.313226e-09 -2.273737e-12\n  AMMIn      9.313226e-09  0.000000e+00\n  AMMOut     0.000000e+00 -2.273737e-12\n  TOTAL NET  9.313226e-09 -2.273737e-12,\n  [{'cid': '704',\n    'tknin': 'BNT-FF1C',\n    'amtin': 9.313225746154785e-09,\n    'tknout': 'WETH-6Cc2',\n    'amtout': -2.2737367544323206e-12,\n    'error': None}],\n  'WETH-6Cc2',\n  (CPCArbOptimizer.TradeInstruction(cid='704', tknin='BNT-FF1C', amtin=9.313225746154785e-09, tknout='WETH-6Cc2', amtout=-2.2737367544323206e-12, error=None),)),\n (Decimal('8.8155718563921299585898853833575671001820950323235592804849147796630859375E-9'),\n                 BNT-FF1C     WETH-6Cc2\n  704        9.313226e-09 -2.273737e-12\n  AMMIn      9.313226e-09  0.000000e+00\n  AMMOut     0.000000e+00 -2.273737e-12\n  TOTAL NET  9.313226e-09 -2.273737e-12,\n  [{'cid': '704',\n    'tknin': 'BNT-FF1C',\n    'amtin': 9.313225746154785e-09,\n    'tknout': 'WETH-6Cc2',\n    'amtout': -2.2737367544323206e-12,\n    'error': None}],\n  'WETH-6Cc2',\n  (CPCArbOptimizer.TradeInstruction(cid='704', tknin='BNT-FF1C', amtin=9.313225746154785e-09, tknout='WETH-6Cc2', amtout=-2.2737367544323206e-12, error=None),)),\n (Decimal('8.8155718563921299585898853833575671001820950323235592804849147796630859375E-9'),\n                 BNT-FF1C     WETH-6Cc2\n  704        9.313226e-09 -2.273737e-12\n  AMMIn      9.313226e-09  0.000000e+00\n  AMMOut     0.000000e+00 -2.273737e-12\n  TOTAL NET  9.313226e-09 -2.273737e-12,\n  [{'cid': '704',\n    'tknin': 'BNT-FF1C',\n    'amtin': 9.313225746154785e-09,\n    'tknout': 'WETH-6Cc2',\n    'amtout': -2.2737367544323206e-12,\n    'error': None}],\n  'WETH-6Cc2',\n  (CPCArbOptimizer.TradeInstruction(cid='704', tknin='BNT-FF1C', amtin=9.313225746154785e-09, tknout='WETH-6Cc2', amtout=-2.2737367544323206e-12, error=None),))]"
     },
     "execution_count": 6,
     "metadata": {},
     "output_type": "execute_result"
    }
   ],
   "source": [
    "ops = bot._find_arbitrage_opportunities_carbon_single_pairwise(flashloan_tokens=flt, CCm=CCm2, result=bot.AO_CANDIDATES)\n",
    "ops"
   ]
  },
  {
   "cell_type": "code",
   "execution_count": 7,
   "id": "60b235ca",
   "metadata": {
    "ExecuteTime": {
     "end_time": "2023-05-11T08:10:59.920738200Z",
     "start_time": "2023-05-11T08:10:59.906374600Z"
    }
   },
   "outputs": [],
   "source": [
    "# ord = bot._run(flashloan_tokens=flt, CCm=CCm2, result=bot.XS_ORDSCAL)\n",
    "# ord"
   ]
  },
  {
   "cell_type": "code",
   "execution_count": 8,
   "id": "fcb66e42",
   "metadata": {
    "ExecuteTime": {
     "end_time": "2023-05-11T08:10:59.951702600Z",
     "start_time": "2023-05-11T08:10:59.920738200Z"
    }
   },
   "outputs": [],
   "source": [
    "# ti = bot._run(flashloan_tokens=flt, CCm=CCm2, result=bot.XS_TI)\n",
    "# ti"
   ]
  },
  {
   "cell_type": "code",
   "execution_count": 9,
   "id": "f4d25fb2",
   "metadata": {
    "ExecuteTime": {
     "end_time": "2023-05-11T08:10:59.959197500Z",
     "start_time": "2023-05-11T08:10:59.937241700Z"
    }
   },
   "outputs": [],
   "source": [
    "# ti"
   ]
  },
  {
   "cell_type": "code",
   "execution_count": 10,
   "id": "b9217711",
   "metadata": {
    "ExecuteTime": {
     "end_time": "2023-05-11T08:10:59.968197800Z",
     "start_time": "2023-05-11T08:10:59.953696800Z"
    }
   },
   "outputs": [],
   "source": [
    "# ops = bot._find_arbitrage_opportunities(flashloan_tokens=flt, CCm=CCm, result=bot.AO_CANDIDATES)\n",
    "# ops"
   ]
  },
  {
   "cell_type": "code",
   "execution_count": 11,
   "id": "93eff72b",
   "metadata": {
    "ExecuteTime": {
     "end_time": "2023-05-11T08:10:59.998404900Z",
     "start_time": "2023-05-11T08:10:59.969198300Z"
    }
   },
   "outputs": [
    {
     "data": {
      "text/plain": "[{'cid': '8748e770adfe49f78064fd9bcf72417e',\n  'tknin': 'USDC-eB48',\n  'amtin': 494.26729866862297,\n  'tknout': 'WBTC-C599',\n  'amtout': -0.018035669663731824,\n  'error': None},\n {'cid': '4083388403051261561560495289181218537493-0',\n  'tknin': 'WBTC-C599',\n  'amtin': 0.018035669672296306,\n  'tknout': 'USDC-eB48',\n  'amtout': -499.6051326568995,\n  'error': None}]"
     },
     "execution_count": 11,
     "metadata": {},
     "output_type": "execute_result"
    }
   ],
   "source": [
    "candf = pd.DataFrame(ops).sort_values(by=0, ascending=False)\n",
    "candf.reset_index(inplace=True, drop=True)\n",
    "candf.iloc[0][2]"
   ]
  },
  {
   "cell_type": "code",
   "execution_count": 12,
   "id": "1394d3a1",
   "metadata": {
    "ExecuteTime": {
     "end_time": "2023-05-11T08:11:00.007456700Z",
     "start_time": "2023-05-11T08:10:59.983662100Z"
    }
   },
   "outputs": [],
   "source": [
    "# print(CCm.bycid('340282366920938463463374607431768211527-1').description)"
   ]
  },
  {
   "cell_type": "code",
   "execution_count": 13,
   "id": "b933a3e3",
   "metadata": {
    "ExecuteTime": {
     "end_time": "2023-05-11T08:11:00.017928800Z",
     "start_time": "2023-05-11T08:11:00.001395600Z"
    }
   },
   "outputs": [
    {
     "data": {
      "text/plain": "Decimal('11.3842947900548393942068657880771156162244854212484135302929644240066409111023')"
     },
     "execution_count": 13,
     "metadata": {},
     "output_type": "execute_result"
    }
   ],
   "source": [
    "candf.iloc[0][0]"
   ]
  },
  {
   "cell_type": "code",
   "execution_count": 14,
   "id": "5382d20f",
   "metadata": {
    "ExecuteTime": {
     "end_time": "2023-05-11T08:11:01.260549900Z",
     "start_time": "2023-05-11T08:11:00.027774300Z"
    }
   },
   "outputs": [
    {
     "data": {
      "text/plain": "[TradeInstruction(ConfigObj=Config(network=_ConfigNetworkMainnet(), db=_ConfigDBPostgres(), logger=_ConfigLoggerDefault(), provider=_ConfigProviderAlchemy()), cid='8748e770adfe49f78064fd9bcf72417e', tknin='USDC-eB48', amtin=Decimal('493.773031'), tknout='WBTC-C599', amtout=Decimal('0.01796178'), pair_sorting='', raw_txs='[]', custom_data='', db=DatabaseManager(ConfigObj=Config(network=_ConfigNetworkMainnet(), db=_ConfigDBPostgres(), logger=_ConfigLoggerDefault(), provider=_ConfigProviderAlchemy()), contracts={}, filters=[], data=                                       cid                last_updated  \\\n 0     00125d26-4f9d-4936-9a46-7e7708cee9b5  2023-05-06 19:04:10.202420   \n 1219  5bbd01d2-ba90-49e8-8235-0f5183a44204  2023-05-06 19:11:11.844129   \n 1231  5c976f61-5847-4219-a2ee-0b1eb96b2775  2023-05-06 19:18:59.176213   \n 1230  5c87da80-15a0-4c59-baac-e8e9661ee920  2023-05-06 19:00:47.931782   \n 2635  c21eb1b9-cf04-4ec5-bad1-77fb1b29b38b  2023-05-06 19:13:37.076908   \n ...                                    ...                         ...   \n 1725  7ec3e511-0223-44ad-b5bf-e5a9a44158ff  2023-05-06 19:49:57.489499   \n 2302  a943c6e9-686b-4879-8118-b3c3affac2d8  2023-05-06 19:50:26.949196   \n 2771  ccc50a59-3e99-4dc5-9e28-a3fdc32cc832  2023-05-06 19:50:06.921640   \n 2769  ccb53832-8d07-4e16-8225-83b9de4767c4  2023-05-06 19:50:07.452203   \n 2054  97926fa0-7343-4677-8309-900947f76d6b  2023-05-06 19:49:49.198008   \n \n       last_updated_block                                     address  \\\n 0               17203475  0x7BeA39867e4169DBe237d55C8242a8f2fcDcc387   \n 1219            17203475  0x75099758a9D1f43198043825c8Fbcf8A12Be7a74   \n 1231            17203475  0x1c774B48Cd31dcF9FcB4bBb8FF52A8c4B4094C3d   \n 1230            17203475  0x19c10E1F20df3a8c2AC93a62d7FBA719fa777026   \n 2635            17203475  0xdb6897039084A2f8fb2b719716bA7A734f84aa66   \n ...                  ...                                         ...   \n 1725            17203475  0x931D1bF09f81B426fBe4CFDFab0b825b308c8db1   \n 2302            17203475  0xB521525b2E6Ad8Ef4c03E747B4541F366E5b8035   \n 2771            17203475  0x0A3DF697e872aB920f305dB00450c0A372E6C970   \n 2769            17203475  0x3870Ce6642959E3D844837Fd472E717736E06AAe   \n 2054            17203475  0x5bA42FaCDBc4aEAe6bEFcc567fd62e9242Fc69Ad   \n \n      exchange_name  exchange_id        fee  fee_float              pair_name  \\\n 0       uniswap_v3            4  10000.000      0.010    USDC-eB48/WETH-6Cc2   \n 1219    uniswap_v3            4  10000.000      0.010    sifu-C313/USDT-1ec7   \n 1231    uniswap_v3            4  10000.000      0.010     NYM-90e1/WETH-6Cc2   \n 1230    uniswap_v3            4  10000.000      0.010    DINO-c68F/WETH-6Cc2   \n 2635    uniswap_v3            4  10000.000      0.010    MEGA-B10E/WETH-6Cc2   \n ...            ...          ...        ...        ...                    ...   \n 1725     bancor_v2            0      0.003      0.003      BNT-FF1C/DIP-cD83   \n 2302     bancor_v2            0      0.003      0.003  BNT-FF1C/SHEESHA-E768   \n 2771     bancor_v2            0      0.003      0.003    BNT-FF1C/INDEX-4cab   \n 2769     bancor_v2            0      0.003      0.003     BNT-FF1C/EDEN-1559   \n 2054     bancor_v2            0      0.003      0.003     AAVE-DaE9/BNT-FF1C   \n \n                                     tkn0_address  ...     liquidity z_0 y_0  \\\n 0     0xA0b86991c6218b36c1d19D4a2e9Eb0cE3606eB48  ...  9.531908e+16 NaN NaN   \n 1219  0x29127fE04ffa4c32AcAC0fFe17280ABD74eAC313  ...  1.316793e+18 NaN NaN   \n 1231  0x525A8F6F3Ba4752868cde25164382BfbaE3990e1  ...  1.037216e+15 NaN NaN   \n 1230  0x49642110B712C1FD7261Bc074105E9E44676c68F  ...  2.504773e+22 NaN NaN   \n 2635  0x1892F6ff5FBE11c31158F8c6f6F6e33106c5B10E  ...  1.657896e+21 NaN NaN   \n ...                                          ...  ...           ...  ..  ..   \n 1725  0x1F573D6Fb3F13d689FF844B4cE37794d79a7FF1C  ...           NaN NaN NaN   \n 2302  0x1F573D6Fb3F13d689FF844B4cE37794d79a7FF1C  ...           NaN NaN NaN   \n 2771  0x1F573D6Fb3F13d689FF844B4cE37794d79a7FF1C  ...           NaN NaN NaN   \n 2769  0x1F573D6Fb3F13d689FF844B4cE37794d79a7FF1C  ...           NaN NaN NaN   \n 2054  0x7Fc66500c84A76Ad7e9c93437bFc5Ac33E2DDaE9  ...           NaN NaN NaN   \n \n      A_0 B_0  z_1  y_1  A_1  B_1                                  descr  \n 0    NaN NaN  NaN  NaN  NaN  NaN   uniswap_v3 USDC-eB48/WETH-6Cc2 10000  \n 1219 NaN NaN  NaN  NaN  NaN  NaN   uniswap_v3 sifu-C313/USDT-1ec7 10000  \n 1231 NaN NaN  NaN  NaN  NaN  NaN    uniswap_v3 NYM-90e1/WETH-6Cc2 10000  \n 1230 NaN NaN  NaN  NaN  NaN  NaN   uniswap_v3 DINO-c68F/WETH-6Cc2 10000  \n 2635 NaN NaN  NaN  NaN  NaN  NaN   uniswap_v3 MEGA-B10E/WETH-6Cc2 10000  \n ...   ..  ..  ...  ...  ...  ...                                    ...  \n 1725 NaN NaN  NaN  NaN  NaN  NaN      bancor_v2 BNT-FF1C/DIP-cD83 0.003  \n 2302 NaN NaN  NaN  NaN  NaN  NaN  bancor_v2 BNT-FF1C/SHEESHA-E768 0.003  \n 2771 NaN NaN  NaN  NaN  NaN  NaN    bancor_v2 BNT-FF1C/INDEX-4cab 0.003  \n 2769 NaN NaN  NaN  NaN  NaN  NaN     bancor_v2 BNT-FF1C/EDEN-1559 0.003  \n 2054 NaN NaN  NaN  NaN  NaN  NaN     bancor_v2 AAVE-DaE9/BNT-FF1C 0.003  \n \n [3550 rows x 32 columns]), tknin_dec_override=None, tknout_dec_override=None, tknin_addr_override=None, tknout_addr_override=None, exchange_override=None, _amtin_wei=493773031, _amtout_wei=1796178),\n TradeInstruction(ConfigObj=Config(network=_ConfigNetworkMainnet(), db=_ConfigDBPostgres(), logger=_ConfigLoggerDefault(), provider=_ConfigProviderAlchemy()), cid='4083388403051261561560495289181218537493', tknin='WBTC-C599', amtin=Decimal('0.01796178'), tknout='USDC-eB48', amtout=Decimal('496.535272'), pair_sorting='', raw_txs='[]', custom_data='', db=DatabaseManager(ConfigObj=Config(network=_ConfigNetworkMainnet(), db=_ConfigDBPostgres(), logger=_ConfigLoggerDefault(), provider=_ConfigProviderAlchemy()), contracts={}, filters=[], data=                                       cid                last_updated  \\\n 0     00125d26-4f9d-4936-9a46-7e7708cee9b5  2023-05-06 19:04:10.202420   \n 1219  5bbd01d2-ba90-49e8-8235-0f5183a44204  2023-05-06 19:11:11.844129   \n 1231  5c976f61-5847-4219-a2ee-0b1eb96b2775  2023-05-06 19:18:59.176213   \n 1230  5c87da80-15a0-4c59-baac-e8e9661ee920  2023-05-06 19:00:47.931782   \n 2635  c21eb1b9-cf04-4ec5-bad1-77fb1b29b38b  2023-05-06 19:13:37.076908   \n ...                                    ...                         ...   \n 1725  7ec3e511-0223-44ad-b5bf-e5a9a44158ff  2023-05-06 19:49:57.489499   \n 2302  a943c6e9-686b-4879-8118-b3c3affac2d8  2023-05-06 19:50:26.949196   \n 2771  ccc50a59-3e99-4dc5-9e28-a3fdc32cc832  2023-05-06 19:50:06.921640   \n 2769  ccb53832-8d07-4e16-8225-83b9de4767c4  2023-05-06 19:50:07.452203   \n 2054  97926fa0-7343-4677-8309-900947f76d6b  2023-05-06 19:49:49.198008   \n \n       last_updated_block                                     address  \\\n 0               17203475  0x7BeA39867e4169DBe237d55C8242a8f2fcDcc387   \n 1219            17203475  0x75099758a9D1f43198043825c8Fbcf8A12Be7a74   \n 1231            17203475  0x1c774B48Cd31dcF9FcB4bBb8FF52A8c4B4094C3d   \n 1230            17203475  0x19c10E1F20df3a8c2AC93a62d7FBA719fa777026   \n 2635            17203475  0xdb6897039084A2f8fb2b719716bA7A734f84aa66   \n ...                  ...                                         ...   \n 1725            17203475  0x931D1bF09f81B426fBe4CFDFab0b825b308c8db1   \n 2302            17203475  0xB521525b2E6Ad8Ef4c03E747B4541F366E5b8035   \n 2771            17203475  0x0A3DF697e872aB920f305dB00450c0A372E6C970   \n 2769            17203475  0x3870Ce6642959E3D844837Fd472E717736E06AAe   \n 2054            17203475  0x5bA42FaCDBc4aEAe6bEFcc567fd62e9242Fc69Ad   \n \n      exchange_name  exchange_id        fee  fee_float              pair_name  \\\n 0       uniswap_v3            4  10000.000      0.010    USDC-eB48/WETH-6Cc2   \n 1219    uniswap_v3            4  10000.000      0.010    sifu-C313/USDT-1ec7   \n 1231    uniswap_v3            4  10000.000      0.010     NYM-90e1/WETH-6Cc2   \n 1230    uniswap_v3            4  10000.000      0.010    DINO-c68F/WETH-6Cc2   \n 2635    uniswap_v3            4  10000.000      0.010    MEGA-B10E/WETH-6Cc2   \n ...            ...          ...        ...        ...                    ...   \n 1725     bancor_v2            0      0.003      0.003      BNT-FF1C/DIP-cD83   \n 2302     bancor_v2            0      0.003      0.003  BNT-FF1C/SHEESHA-E768   \n 2771     bancor_v2            0      0.003      0.003    BNT-FF1C/INDEX-4cab   \n 2769     bancor_v2            0      0.003      0.003     BNT-FF1C/EDEN-1559   \n 2054     bancor_v2            0      0.003      0.003     AAVE-DaE9/BNT-FF1C   \n \n                                     tkn0_address  ...     liquidity z_0 y_0  \\\n 0     0xA0b86991c6218b36c1d19D4a2e9Eb0cE3606eB48  ...  9.531908e+16 NaN NaN   \n 1219  0x29127fE04ffa4c32AcAC0fFe17280ABD74eAC313  ...  1.316793e+18 NaN NaN   \n 1231  0x525A8F6F3Ba4752868cde25164382BfbaE3990e1  ...  1.037216e+15 NaN NaN   \n 1230  0x49642110B712C1FD7261Bc074105E9E44676c68F  ...  2.504773e+22 NaN NaN   \n 2635  0x1892F6ff5FBE11c31158F8c6f6F6e33106c5B10E  ...  1.657896e+21 NaN NaN   \n ...                                          ...  ...           ...  ..  ..   \n 1725  0x1F573D6Fb3F13d689FF844B4cE37794d79a7FF1C  ...           NaN NaN NaN   \n 2302  0x1F573D6Fb3F13d689FF844B4cE37794d79a7FF1C  ...           NaN NaN NaN   \n 2771  0x1F573D6Fb3F13d689FF844B4cE37794d79a7FF1C  ...           NaN NaN NaN   \n 2769  0x1F573D6Fb3F13d689FF844B4cE37794d79a7FF1C  ...           NaN NaN NaN   \n 2054  0x7Fc66500c84A76Ad7e9c93437bFc5Ac33E2DDaE9  ...           NaN NaN NaN   \n \n      A_0 B_0  z_1  y_1  A_1  B_1                                  descr  \n 0    NaN NaN  NaN  NaN  NaN  NaN   uniswap_v3 USDC-eB48/WETH-6Cc2 10000  \n 1219 NaN NaN  NaN  NaN  NaN  NaN   uniswap_v3 sifu-C313/USDT-1ec7 10000  \n 1231 NaN NaN  NaN  NaN  NaN  NaN    uniswap_v3 NYM-90e1/WETH-6Cc2 10000  \n 1230 NaN NaN  NaN  NaN  NaN  NaN   uniswap_v3 DINO-c68F/WETH-6Cc2 10000  \n 2635 NaN NaN  NaN  NaN  NaN  NaN   uniswap_v3 MEGA-B10E/WETH-6Cc2 10000  \n ...   ..  ..  ...  ...  ...  ...                                    ...  \n 1725 NaN NaN  NaN  NaN  NaN  NaN      bancor_v2 BNT-FF1C/DIP-cD83 0.003  \n 2302 NaN NaN  NaN  NaN  NaN  NaN  bancor_v2 BNT-FF1C/SHEESHA-E768 0.003  \n 2771 NaN NaN  NaN  NaN  NaN  NaN    bancor_v2 BNT-FF1C/INDEX-4cab 0.003  \n 2769 NaN NaN  NaN  NaN  NaN  NaN     bancor_v2 BNT-FF1C/EDEN-1559 0.003  \n 2054 NaN NaN  NaN  NaN  NaN  NaN     bancor_v2 AAVE-DaE9/BNT-FF1C 0.003  \n \n [3550 rows x 32 columns]), tknin_dec_override=None, tknout_dec_override=None, tknin_addr_override=None, tknout_addr_override=None, exchange_override=None, _amtin_wei=1796178, _amtout_wei=496535272)]"
     },
     "execution_count": 14,
     "metadata": {},
     "output_type": "execute_result"
    }
   ],
   "source": [
    "exact = bot._run(flashloan_tokens=flt, CCm=CCm2, result=bot.XS_EXACT)\n",
    "exact"
   ]
  },
  {
   "cell_type": "code",
   "execution_count": 15,
   "id": "8b0746ac",
   "metadata": {
    "ExecuteTime": {
     "end_time": "2023-05-11T08:11:01.305138800Z",
     "start_time": "2023-05-11T08:11:01.260549900Z"
    }
   },
   "outputs": [
    {
     "data": {
      "text/plain": "(493773031, 1796178)"
     },
     "execution_count": 15,
     "metadata": {},
     "output_type": "execute_result"
    }
   ],
   "source": [
    "exact[0].amtin_wei, exact[0].amtout_wei"
   ]
  },
  {
   "cell_type": "code",
   "execution_count": 16,
   "id": "fc64082d",
   "metadata": {
    "ExecuteTime": {
     "end_time": "2023-05-11T08:11:01.312520300Z",
     "start_time": "2023-05-11T08:11:01.276185800Z"
    }
   },
   "outputs": [
    {
     "data": {
      "text/plain": "(1796178, 496535272)"
     },
     "execution_count": 16,
     "metadata": {},
     "output_type": "execute_result"
    }
   ],
   "source": [
    "exact[1].amtin_wei, exact[1].amtout_wei"
   ]
  },
  {
   "cell_type": "code",
   "execution_count": 16,
   "outputs": [],
   "source": [],
   "metadata": {
    "collapsed": false,
    "ExecuteTime": {
     "end_time": "2023-05-11T08:11:01.312520300Z",
     "start_time": "2023-05-11T08:11:01.291626400Z"
    }
   }
  },
  {
   "cell_type": "code",
   "execution_count": 17,
   "outputs": [
    {
     "name": "stdout",
     "output_type": "stream",
     "text": [
      "2.762241\n"
     ]
    }
   ],
   "source": [
    "best_profit = exact[-1].amtout - exact[0].amtin\n",
    "print(best_profit)"
   ],
   "metadata": {
    "collapsed": false,
    "ExecuteTime": {
     "end_time": "2023-05-11T08:11:01.321794300Z",
     "start_time": "2023-05-11T08:11:01.306136400Z"
    }
   }
  },
  {
   "cell_type": "code",
   "execution_count": 18,
   "id": "1905eb9d",
   "metadata": {
    "ExecuteTime": {
     "end_time": "2023-05-11T08:11:02.346066900Z",
     "start_time": "2023-05-11T08:11:01.322790300Z"
    }
   },
   "outputs": [
    {
     "name": "stderr",
     "output_type": "stream",
     "text": [
      "2023-05-11 11:11:02,282 [fastlane:INFO] - Opportunity with profit: 5.8911846816969054028643171250223531387746334075927734375 does not meet minimum profit: 60, discarding.\n"
     ]
    },
    {
     "ename": "ValueError",
     "evalue": "not enough values to unpack (expected 3, got 2)",
     "output_type": "error",
     "traceback": [
      "\u001B[1;31m---------------------------------------------------------------------------\u001B[0m",
      "\u001B[1;31mValueError\u001B[0m                                Traceback (most recent call last)",
      "Cell \u001B[1;32mIn [18], line 1\u001B[0m\n\u001B[1;32m----> 1\u001B[0m route_struct, flashloan_amount, flashloan_token_address \u001B[38;5;241m=\u001B[39m bot\u001B[38;5;241m.\u001B[39m_run(flashloan_tokens\u001B[38;5;241m=\u001B[39mflt, CCm\u001B[38;5;241m=\u001B[39mCCm2, result\u001B[38;5;241m=\u001B[39mbot\u001B[38;5;241m.\u001B[39mXS_ROUTE)\n",
      "\u001B[1;31mValueError\u001B[0m: not enough values to unpack (expected 3, got 2)"
     ]
    }
   ],
   "source": [
    "route_struct, flashloan_amount, flashloan_token_address = bot._run(flashloan_tokens=flt, CCm=CCm2, result=bot.XS_ROUTE)"
   ]
  },
  {
   "cell_type": "code",
   "execution_count": null,
   "id": "24db122b",
   "metadata": {},
   "outputs": [],
   "source": [
    "route_struct, flashloan_amount, flashloan_token_address"
   ]
  },
  {
   "attachments": {},
   "cell_type": "markdown",
   "id": "628bca30",
   "metadata": {},
   "source": [
    "# Tenderly Tx Submission"
   ]
  },
  {
   "cell_type": "code",
   "execution_count": null,
   "id": "76a8ec45",
   "metadata": {},
   "outputs": [],
   "source": [
    "# C.w3.provider.endpoint_uri"
   ]
  },
  {
   "cell_type": "code",
   "execution_count": null,
   "id": "477ac528",
   "metadata": {},
   "outputs": [],
   "source": [
    "# C.w3.eth.getBlock(C.w3.eth.block_number).timestamp"
   ]
  },
  {
   "cell_type": "code",
   "execution_count": null,
   "id": "c1956941",
   "metadata": {},
   "outputs": [],
   "source": [
    "# C.provider.CARBON_CONTROLLER_CONTRACT.strategy(340282366920938463463374607431768211527)"
   ]
  },
  {
   "cell_type": "code",
   "execution_count": null,
   "id": "6599f4a9",
   "metadata": {},
   "outputs": [],
   "source": [
    "### This to manually submit\n",
    "# bot._validate_and_submit_transaction_tenderly(\n",
    "#         ConfigObj = C,\n",
    "#         route_struct = route_struct,\n",
    "#         src_amount = flashloan_amount,\n",
    "#         src_address = flashloan_token_address,\n",
    "#             )"
   ]
  },
  {
   "attachments": {},
   "cell_type": "markdown",
   "id": "993e6614",
   "metadata": {},
   "source": [
    "# MAINNNET Preferred Tx Submission Method"
   ]
  },
  {
   "cell_type": "code",
   "execution_count": null,
   "id": "67273141",
   "metadata": {},
   "outputs": [],
   "source": [
    "from fastlane_bot.helpers import TxHelpers"
   ]
  },
  {
   "cell_type": "code",
   "execution_count": null,
   "id": "75ae6224",
   "metadata": {},
   "outputs": [],
   "source": [
    "\n",
    "\n",
    "\n",
    "pool = (\n",
    "    bot.db.get_pool(exchange_name=bot.ConfigObj.BANCOR_V3_NAME, pair_name='BNT-FF1C/ETH-EEeE')\n",
    ")\n",
    "bnt_eth = (int(pool.tkn0_balance), int(pool.tkn1_balance))\n",
    "\n",
    "# Init TxHelpers\n",
    "tx_helpers = TxHelpers(ConfigObj=bot.ConfigObj)\n",
    "# Submit tx\n",
    "\n",
    "current_gas_price, current_max_priority_gas, block_number, nonce = tx_helpers.validate_and_submit_transaction(route_struct=route_struct, src_amt=flashloan_amount,\n",
    "                                                    src_address=flashloan_token_address, bnt_eth=bnt_eth,\n",
    "                                                    expected_profit=Decimal('1000'), safety_override=True, result=tx_helpers.XS_API_CALLS)\n",
    "\n",
    "# print(current_gas_price, current_max_priority_gas, block_number, nonce)\n",
    "\n",
    "#print()\n",
    "\n",
    "tx = tx_helpers.validate_and_submit_transaction(route_struct=route_struct, src_amt=flashloan_amount,\n",
    "                                                    src_address=flashloan_token_address, bnt_eth=bnt_eth,\n",
    "                                                    expected_profit=Decimal('1000'), safety_override=False, result=tx_helpers.XS_TRANSACTION)\n",
    "\n",
    "print(tx)"
   ]
  },
  {
   "cell_type": "code",
   "execution_count": null,
   "id": "17ab9e38",
   "metadata": {},
   "outputs": [],
   "source": [
    "# tx_helpers.validate_and_submit_transaction(route_struct=route_struct, src_amt=flashloan_amount,\n",
    "#                                                     src_address=flashloan_token_address, bnt_eth=bnt_eth,\n",
    "#                                                     expected_profit=Decimal('1000'), safety_override=True)"
   ]
  },
  {
   "attachments": {},
   "cell_type": "markdown",
   "id": "0eb9760c",
   "metadata": {},
   "source": [
    "# MAINNET Forced Tx Submission Method"
   ]
  },
  {
   "cell_type": "code",
   "execution_count": null,
   "id": "931af988",
   "metadata": {},
   "outputs": [],
   "source": [
    "# # Initialize tx helper\n",
    "# tx_helper = TxHelper(\n",
    "#     usd_gas_limit=55,\n",
    "#     ConfigObj=bot.ConfigObj,\n",
    "#     gas_price_multiplier = 1\n",
    "# )\n",
    "# # # Submit the transaction\n",
    "# # tx_helper.submit_flashloan_arb_tx(\n",
    "# #     arb_data=route_struct,\n",
    "# #     flashloan_token_address=flashloan_token_address,\n",
    "# #     flashloan_amount=flashloan_amount,\n",
    "# #     verbose=True,\n",
    "# # )"
   ]
  },
  {
   "cell_type": "code",
   "execution_count": null,
   "id": "5894289c",
   "metadata": {},
   "outputs": [],
   "source": [
    "# tx_helper.gas_limit"
   ]
  }
 ],
 "metadata": {
  "jupytext": {
   "encoding": "# -*- coding: utf-8 -*-",
   "formats": "ipynb,py:light"
  },
  "kernelspec": {
   "display_name": "Python 3 (ipykernel)",
   "language": "python",
   "name": "python3"
  },
  "language_info": {
   "codemirror_mode": {
    "name": "ipython",
    "version": 3
   },
   "file_extension": ".py",
   "mimetype": "text/x-python",
   "name": "python",
   "nbconvert_exporter": "python",
   "pygments_lexer": "ipython3",
   "version": "3.10.10"
  }
 },
 "nbformat": 4,
 "nbformat_minor": 5
}

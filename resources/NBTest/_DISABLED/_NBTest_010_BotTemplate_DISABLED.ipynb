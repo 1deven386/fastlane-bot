{
 "cells": [
  {
   "cell_type": "code",
   "execution_count": 1,
   "id": "8f04c50a-67fe-4f09-822d-6ed6e3ac43e4",
   "metadata": {
    "ExecuteTime": {
     "end_time": "2023-05-01T17:06:30.167835Z",
     "start_time": "2023-05-01T17:06:30.152835Z"
    },
    "lines_to_next_cell": 0
   },
   "outputs": [
    {
     "name": "stdout",
     "output_type": "stream",
     "text": [
      "Config v1.0 (03/May 2023)\n",
      "CarbonBot v3-b2.2 (20/June/2023)\n",
      "imported m, np, pd, plt, os, sys, decimal; defined iseq, raises, require\n",
      "Version = 3-b2.2 [requirements >= 2.0 is met]\n"
     ]
    },
    {
     "name": "stderr",
     "output_type": "stream",
     "text": [
      "/usr/local/lib/python3.10/dist-packages/tqdm/auto.py:22: TqdmWarning: IProgress not found. Please update jupyter and ipywidgets. See https://ipywidgets.readthedocs.io/en/stable/user_install.html\n",
      "  from .autonotebook import tqdm as notebook_tqdm\n"
     ]
    }
   ],
   "source": [
    "from fastlane_bot import Config, ConfigDB, ConfigNetwork, ConfigProvider, Bot\n",
    "from web3 import Web3\n",
    "from fastlane_bot.data.abi import CARBON_CONTROLLER_ABI\n",
    "\n",
    "print(\"{0.__name__} v{0.__VERSION__} ({0.__DATE__})\".format(Config))\n",
    "print(\"{0.__name__} v{0.__VERSION__} ({0.__DATE__})\".format(Bot))\n",
    "from fastlane_bot.testing import *\n",
    "\n",
    "from fastlane_bot import __VERSION__\n",
    "require(\"2.0\", __VERSION__)"
   ]
  },
  {
   "cell_type": "code",
   "execution_count": 2,
   "id": "ef8fa4c7-95c4-439c-9ce8-f89d0260e72e",
   "metadata": {},
   "outputs": [],
   "source": [
    "# raise"
   ]
  },
  {
   "cell_type": "markdown",
   "id": "b3f59f14-b91b-4dba-94b0-3d513aaf41c7",
   "metadata": {},
   "source": [
    "# BOT TEMPLATE [NBTest010]"
   ]
  },
  {
   "cell_type": "markdown",
   "id": "96c7676d-a3c5-428c-a9d0-75e36b246072",
   "metadata": {},
   "source": [
    "## Mainnet Alchemy [NOTEST]"
   ]
  },
  {
   "cell_type": "code",
   "execution_count": 3,
   "id": "64f87aed-3618-4fb2-a911-9420a12dc5b8",
   "metadata": {},
   "outputs": [
    {
     "ename": "AssertionError",
     "evalue": "",
     "output_type": "error",
     "traceback": [
      "\u001b[0;31m---------------------------------------------------------------------------\u001b[0m",
      "\u001b[0;31mAssertionError\u001b[0m                            Traceback (most recent call last)",
      "Cell \u001b[0;32mIn[3], line 3\u001b[0m\n\u001b[1;32m      1\u001b[0m C \u001b[38;5;241m=\u001b[39m Config\u001b[38;5;241m.\u001b[39mnew(config\u001b[38;5;241m=\u001b[39mConfig\u001b[38;5;241m.\u001b[39mCONFIG_MAINNET)\n\u001b[1;32m      2\u001b[0m \u001b[38;5;28;01massert\u001b[39;00m C\u001b[38;5;241m.\u001b[39mDATABASE \u001b[38;5;241m==\u001b[39m C\u001b[38;5;241m.\u001b[39mDATABASE_POSTGRES\n\u001b[0;32m----> 3\u001b[0m \u001b[38;5;28;01massert\u001b[39;00m C\u001b[38;5;241m.\u001b[39mPOSTGRES_DB \u001b[38;5;241m==\u001b[39m \u001b[38;5;124m\"\u001b[39m\u001b[38;5;124mmainnet\u001b[39m\u001b[38;5;124m\"\u001b[39m\n\u001b[1;32m      4\u001b[0m \u001b[38;5;28;01massert\u001b[39;00m C\u001b[38;5;241m.\u001b[39mNETWORK \u001b[38;5;241m==\u001b[39m C\u001b[38;5;241m.\u001b[39mNETWORK_MAINNET\n\u001b[1;32m      5\u001b[0m \u001b[38;5;28;01massert\u001b[39;00m C\u001b[38;5;241m.\u001b[39mPROVIDER \u001b[38;5;241m==\u001b[39m C\u001b[38;5;241m.\u001b[39mPROVIDER_ALCHEMY\n",
      "\u001b[0;31mAssertionError\u001b[0m: "
     ]
    }
   ],
   "source": [
    "C = Config.new(config=Config.CONFIG_MAINNET)\n",
    "assert C.DATABASE == C.DATABASE_POSTGRES\n",
    "assert C.POSTGRES_DB == \"mainnet\"\n",
    "assert C.NETWORK == C.NETWORK_MAINNET\n",
    "assert C.PROVIDER == C.PROVIDER_ALCHEMY\n",
    "print(\"Web3 API:\", C.w3.api)"
   ]
  },
  {
   "cell_type": "markdown",
   "id": "17a46202-a9c7-4cbb-8700-d6bf1e930cfa",
   "metadata": {},
   "source": [
    "## Tenderly [NOTEST]"
   ]
  },
  {
   "cell_type": "code",
   "execution_count": null,
   "id": "140dbc32-b5a2-4d3c-bedd-a8b4bda4ac33",
   "metadata": {
    "lines_to_next_cell": 2
   },
   "outputs": [],
   "source": [
    "pass"
   ]
  },
  {
   "cell_type": "markdown",
   "id": "cf03072d-6304-41f8-b132-9470ae81ac7c",
   "metadata": {},
   "source": [
    "## Mainnet Alchemy Configuration"
   ]
  },
  {
   "cell_type": "code",
   "execution_count": null,
   "id": "da9ff008-cb12-44f7-93a8-84f7386da886",
   "metadata": {},
   "outputs": [],
   "source": [
    "C = Config.new(config=Config.CONFIG_MAINNET)\n",
    "assert C.DATABASE == C.DATABASE_POSTGRES\n",
    "assert C.POSTGRES_DB == \"mainnet\"\n",
    "assert C.NETWORK == C.NETWORK_MAINNET\n",
    "assert C.PROVIDER == C.PROVIDER_ALCHEMY\n",
    "assert C.w3.__class__.__name__ == \"Web3\"\n",
    "assert C.w3.isConnected()\n",
    "assert C.w3.provider.endpoint_uri.startswith(\"https://eth-mainnet.alchemyapi.io/v2\")"
   ]
  },
  {
   "cell_type": "code",
   "execution_count": null,
   "id": "e52de072-fd88-4c70-a052-a800fea29e20",
   "metadata": {},
   "outputs": [],
   "source": [
    "bot = Bot(ConfigObj=C)"
   ]
  },
  {
   "cell_type": "code",
   "execution_count": null,
   "id": "63b58e61-4b44-42d6-93e0-f80613611bd8",
   "metadata": {},
   "outputs": [],
   "source": [
    "# bot.update_pools()"
   ]
  },
  {
   "cell_type": "code",
   "execution_count": null,
   "id": "0df5aefe-b3b1-4643-b434-f17164cd019c",
   "metadata": {
    "lines_to_next_cell": 2
   },
   "outputs": [],
   "source": [
    "# bot.drop_tables()"
   ]
  },
  {
   "cell_type": "markdown",
   "id": "26959795-1e81-4378-8bd7-52f84e616d98",
   "metadata": {},
   "source": [
    "## Unittest Configuration"
   ]
  },
  {
   "cell_type": "code",
   "execution_count": null,
   "id": "019a3025-8e65-4f2b-a746-6c73a4721362",
   "metadata": {
    "lines_to_next_cell": 2
   },
   "outputs": [],
   "source": [
    "C = Config.new(config=Config.CONFIG_UNITTEST)\n",
    "assert C.DATABASE == C.DATABASE_UNITTEST\n",
    "assert C.NETWORK == C.NETWORK_MAINNET\n",
    "#assert C.PROVIDER == C.PROVIDER_UNITTEST\n",
    "assert C.PROVIDER == C.PROVIDER_ALCHEMY"
   ]
  },
  {
   "cell_type": "code",
   "execution_count": null,
   "id": "00962a7d-f7af-4589-90f5-4b2532034f75",
   "metadata": {},
   "outputs": [],
   "source": [
    "bot = Bot(ConfigObj=C)"
   ]
  },
  {
   "cell_type": "markdown",
   "id": "cadaf6bc-3d1a-4189-95ed-27844d189e4b",
   "metadata": {},
   "source": [
    "## Mainnet Alchemy change DB"
   ]
  },
  {
   "cell_type": "code",
   "execution_count": null,
   "id": "945df668-afd4-466a-ba2e-1a496eed7e46",
   "metadata": {},
   "outputs": [],
   "source": [
    "C_nw = ConfigNetwork.new(network=ConfigNetwork.NETWORK_MAINNET)\n",
    "C_db = ConfigDB.new(db=ConfigDB.DATABASE_POSTGRES, POSTGRES_DB=\"postgres\")\n",
    "C_pr = ConfigProvider.new(network=C_nw)\n",
    "C = Config(db = C_db, network = C_nw, provider = C_pr)\n",
    "assert C_db.POSTGRES_URL.endswith(\"/postgres\")\n",
    "assert C.DATABASE == C.DATABASE_POSTGRES\n",
    "assert C.POSTGRES_DB == \"postgres\"\n",
    "assert C.NETWORK == C.NETWORK_MAINNET\n",
    "assert C.PROVIDER == C.PROVIDER_ALCHEMY\n",
    "assert C.w3.__class__.__name__ == \"Web3\"\n",
    "C"
   ]
  },
  {
   "cell_type": "code",
   "execution_count": null,
   "id": "a0e247b8-9696-4935-9d49-aa17252e27de",
   "metadata": {},
   "outputs": [],
   "source": [
    "bot = Bot(ConfigObj=C)"
   ]
  },
  {
   "cell_type": "markdown",
   "id": "65cc4c20-74d7-421d-996c-a36e51d20485",
   "metadata": {},
   "source": [
    "## Bot update on the mainnet [NOTEST]"
   ]
  },
  {
   "cell_type": "code",
   "execution_count": null,
   "id": "1441b8f6",
   "metadata": {
    "lines_to_next_cell": 2
   },
   "outputs": [],
   "source": [
    "C = Config.new(config=Config.CONFIG_MAINNET)\n",
    "assert C.DATABASE == C.DATABASE_POSTGRES\n",
    "assert C.POSTGRES_DB == \"mainnet\"\n",
    "assert C.NETWORK == C.NETWORK_MAINNET\n",
    "assert C.PROVIDER == C.PROVIDER_ALCHEMY\n",
    "assert C.w3.__class__.__name__ == \"Web3\"\n",
    "assert C.w3.isConnected()\n",
    "assert C.w3.provider.endpoint_uri.startswith(\"https://eth-mainnet.alchemyapi.io/v2\")\n",
    "bot = Bot(ConfigObj=C)"
   ]
  },
  {
   "cell_type": "code",
   "execution_count": null,
   "id": "ddf75e5f-f56a-4aaf-b5fc-4e57f0a57ee6",
   "metadata": {},
   "outputs": [],
   "source": [
    "bot.update(drop_tables=False)"
   ]
  }
 ],
 "metadata": {
  "jupytext": {
   "encoding": "# -*- coding: utf-8 -*-",
   "formats": "ipynb,py:light"
  },
  "kernelspec": {
   "display_name": "Python 3 (ipykernel)",
   "language": "python",
   "name": "python3"
  },
  "language_info": {
   "codemirror_mode": {
    "name": "ipython",
    "version": 3
   },
   "file_extension": ".py",
   "mimetype": "text/x-python",
   "name": "python",
   "nbconvert_exporter": "python",
   "pygments_lexer": "ipython3",
   "version": "3.10.7"
  }
 },
 "nbformat": 4,
 "nbformat_minor": 5
}

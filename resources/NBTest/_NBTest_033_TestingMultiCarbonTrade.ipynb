{
 "cells": [
  {
   "cell_type": "code",
   "execution_count": 1,
   "id": "8f04c50a-67fe-4f09-822d-6ed6e3ac43e4",
   "metadata": {
    "ExecuteTime": {
     "end_time": "2023-05-14T11:32:42.265140400Z",
     "start_time": "2023-05-14T11:32:35.630871100Z"
    }
   },
   "outputs": [
    {
     "name": "stdout",
     "output_type": "stream",
     "text": [
      "Using default database url, if you want to use a different database, set the backend_url found at the bottom of manager_base.py\n",
      "Error adding Ethereum blockchain to database Ethereum, (psycopg2.errors.UniqueViolation) duplicate key value violates unique constraint \"ix_blockchains_name\"\n",
      "DETAIL:  Key (name)=(Ethereum) already exists.\n",
      "\n",
      "[SQL: INSERT INTO blockchains (name, block_number) VALUES (%(name)s, %(block_number)s) RETURNING blockchains.id]\n",
      "[parameters: {'name': 'Ethereum', 'block_number': 0}]\n",
      "(Background on this error at: https://sqlalche.me/e/20/gkpj) skipping...\n",
      "Error adding exchange carbon_v1 to database, (psycopg2.errors.UniqueViolation) duplicate key value violates unique constraint \"exchanges_pkey\"\n",
      "DETAIL:  Key (id)=(6) already exists.\n",
      "\n",
      "[SQL: INSERT INTO exchanges (id, name, blockchain_name) VALUES (%(id)s, %(name)s, %(blockchain_name)s)]\n",
      "[parameters: {'id': 6, 'name': 'carbon_v1', 'blockchain_name': 'Ethereum'}]\n",
      "(Background on this error at: https://sqlalche.me/e/20/gkpj) skipping...\n",
      "Error adding exchange bancor_v2 to database, (psycopg2.errors.UniqueViolation) duplicate key value violates unique constraint \"exchanges_pkey\"\n",
      "DETAIL:  Key (id)=(1) already exists.\n",
      "\n",
      "[SQL: INSERT INTO exchanges (id, name, blockchain_name) VALUES (%(id)s, %(name)s, %(blockchain_name)s)]\n",
      "[parameters: {'id': 1, 'name': 'bancor_v2', 'blockchain_name': 'Ethereum'}]\n",
      "(Background on this error at: https://sqlalche.me/e/20/gkpj) skipping...\n",
      "Error adding exchange bancor_v3 to database, (psycopg2.errors.UniqueViolation) duplicate key value violates unique constraint \"exchanges_pkey\"\n",
      "DETAIL:  Key (id)=(2) already exists.\n",
      "\n",
      "[SQL: INSERT INTO exchanges (id, name, blockchain_name) VALUES (%(id)s, %(name)s, %(blockchain_name)s)]\n",
      "[parameters: {'id': 2, 'name': 'bancor_v3', 'blockchain_name': 'Ethereum'}]\n",
      "(Background on this error at: https://sqlalche.me/e/20/gkpj) skipping...\n",
      "Error adding exchange uniswap_v2 to database, (psycopg2.errors.UniqueViolation) duplicate key value violates unique constraint \"exchanges_pkey\"\n",
      "DETAIL:  Key (id)=(3) already exists.\n",
      "\n",
      "[SQL: INSERT INTO exchanges (id, name, blockchain_name) VALUES (%(id)s, %(name)s, %(blockchain_name)s)]\n",
      "[parameters: {'id': 3, 'name': 'uniswap_v2', 'blockchain_name': 'Ethereum'}]\n",
      "(Background on this error at: https://sqlalche.me/e/20/gkpj) skipping...\n",
      "Error adding exchange uniswap_v3 to database, (psycopg2.errors.UniqueViolation) duplicate key value violates unique constraint \"exchanges_pkey\"\n",
      "DETAIL:  Key (id)=(4) already exists.\n",
      "\n",
      "[SQL: INSERT INTO exchanges (id, name, blockchain_name) VALUES (%(id)s, %(name)s, %(blockchain_name)s)]\n",
      "[parameters: {'id': 4, 'name': 'uniswap_v3', 'blockchain_name': 'Ethereum'}]\n",
      "(Background on this error at: https://sqlalche.me/e/20/gkpj) skipping...\n",
      "Error adding exchange sushiswap_v2 to database, (psycopg2.errors.UniqueViolation) duplicate key value violates unique constraint \"exchanges_pkey\"\n",
      "DETAIL:  Key (id)=(5) already exists.\n",
      "\n",
      "[SQL: INSERT INTO exchanges (id, name, blockchain_name) VALUES (%(id)s, %(name)s, %(blockchain_name)s)]\n",
      "[parameters: {'id': 5, 'name': 'sushiswap_v2', 'blockchain_name': 'Ethereum'}]\n",
      "(Background on this error at: https://sqlalche.me/e/20/gkpj) skipping...\n",
      "ConstantProductCurve v2.10.1 (07/May/2023)\n",
      "CarbonBot v3-b2.1 (03/May/2023)\n",
      "imported m, np, pd, plt, os, sys, decimal; defined iseq, raises, require\n"
     ]
    },
    {
     "name": "stderr",
     "output_type": "stream",
     "text": [
      "C:\\Users\\Kveen\\AppData\\Local\\Temp\\ipykernel_25448\\1582963263.py:8: MatplotlibDeprecationWarning: The seaborn styles shipped by Matplotlib are deprecated since 3.6, as they no longer correspond to the styles shipped by seaborn. However, they will remain available as 'seaborn-v0_8-<style>'. Alternatively, directly use the seaborn API instead.\n",
      "  plt.style.use('seaborn-dark')\n"
     ]
    },
    {
     "name": "stdout",
     "output_type": "stream",
     "text": [
      "Version = 3-b2.1 [requirements >= 2.0 is met]\n"
     ]
    }
   ],
   "source": [
    "from fastlane_bot import Config, ConfigDB, ConfigNetwork, ConfigProvider\n",
    "from fastlane_bot.bot import CarbonBot\n",
    "from fastlane_bot.tools.cpc import ConstantProductCurve as CPC, CPCContainer, T\n",
    "from fastlane_bot.helpers import TxHelper\n",
    "print(\"{0.__name__} v{0.__VERSION__} ({0.__DATE__})\".format(CPC))\n",
    "print(\"{0.__name__} v{0.__VERSION__} ({0.__DATE__})\".format(CarbonBot))\n",
    "from fastlane_bot.testing import *\n",
    "plt.style.use('seaborn-dark')\n",
    "plt.rcParams['figure.figsize'] = [12,6]\n",
    "from fastlane_bot import __VERSION__\n",
    "require(\"2.0\", __VERSION__)"
   ]
  },
  {
   "attachments": {},
   "cell_type": "markdown",
   "id": "b3f59f14-b91b-4dba-94b0-3d513aaf41c7",
   "metadata": {},
   "source": [
    "# Testing the _run functions on TENDERLY [NBTest022]"
   ]
  },
  {
   "attachments": {},
   "cell_type": "markdown",
   "id": "cf03072d-6304-41f8-b132-9470ae81ac7c",
   "metadata": {},
   "source": [
    "## MAINNET Configuration"
   ]
  },
  {
   "attachments": {},
   "cell_type": "markdown",
   "id": "0990888a-698c-487c-9142-80e62a8393ac",
   "metadata": {},
   "source": [
    "### Set up the bot and curves"
   ]
  },
  {
   "cell_type": "code",
   "execution_count": 2,
   "id": "da9ff008-cb12-44f7-93a8-84f7386da886",
   "metadata": {
    "ExecuteTime": {
     "end_time": "2023-05-14T11:32:50.619766400Z",
     "start_time": "2023-05-14T11:32:49.223624700Z"
    }
   },
   "outputs": [],
   "source": [
    "C = Config.new(config=Config.CONFIG_TENDERLY)\n",
    "assert C.DATABASE == C.DATABASE_POSTGRES\n",
    "# assert C.POSTGRES_DB == \"defaultdb\"\n",
    "assert C.NETWORK == C.NETWORK_TENDERLY\n",
    "assert C.PROVIDER == C.PROVIDER_TENDERLY\n",
    "bot = CarbonBot(ConfigObj=C)\n",
    "assert str(type(bot.db)) == \"<class 'fastlane_bot.db.manager.DatabaseManager'>\"\n",
    "\n"
   ]
  },
  {
   "cell_type": "code",
   "execution_count": 8,
   "id": "4c184a25",
   "metadata": {
    "ExecuteTime": {
     "end_time": "2023-05-14T11:33:35.349551700Z",
     "start_time": "2023-05-14T11:33:34.937254100Z"
    }
   },
   "outputs": [
    {
     "name": "stdout",
     "output_type": "stream",
     "text": [
      "Number of curves: 97\n",
      "Number of tokens: 23\n",
      "Exchanges: {'uniswap_v3', 'uniswap_v2', 'bancor_v3', 'carbon_v1'}\n"
     ]
    }
   ],
   "source": [
    "CCm = bot.get_curves()\n",
    "exch = {c.P(\"exchange\") for c in CCm}\n",
    "print(\"Number of curves:\", len(CCm))\n",
    "print(\"Number of tokens:\", len(CCm.tokens()))\n",
    "print(\"Exchanges:\", exch)"
   ]
  },
  {
   "cell_type": "code",
   "execution_count": 11,
   "id": "d7ee607c",
   "metadata": {
    "ExecuteTime": {
     "end_time": "2023-05-14T11:34:05.708905800Z",
     "start_time": "2023-05-14T11:34:05.699936300Z"
    }
   },
   "outputs": [
    {
     "name": "stdout",
     "output_type": "stream",
     "text": [
      "CPCContainer(curves=[ConstantProductCurve(k=2.510040409555477e+23, x=502008031919.40436, x_act=0, y_act=50000.0, pair='USDT-1ec7/USDC-eB48', cid='1020847100762815390390123822295304634444-0', fee=0.002, descr='NaN', constr='carb', params={'exchange': 'carbon_v1', 'tknx_dec': 6, 'tkny_dec': 6, 'tknx_addr': '0xdAC17F958D2ee523a2206206994597C13D831ec7', 'tkny_addr': '0xA0b86991c6218b36c1d19D4a2e9Eb0cE3606eB48', 'blocklud': 17257830, 'y': 50000.0, 'yint': 50000.0, 'A': 0, 'B': 0.9979979460900733, 'pa': 0.995999999999995, 'pb': 0.995999999999995}), ConstantProductCurve(k=170551.53539094416, x=1566.6743498352716, x_act=11.206866921754226, y_act=0.30661399635769726, pair='USDC-eB48/LYXe-be6D', cid='527756afcc054eb4961eb0ddb787691f', fee=0.01, descr='uniswap_v3 USDC-eB48/LYXe-be6D 10000', constr='pkpp', params={'exchange': 'uniswap_v3', 'tknx_dec': 6, 'tkny_dec': 18, 'tknx_addr': '0xA0b86991c6218b36c1d19D4a2e9Eb0cE3606eB48', 'tkny_addr': '0xA8b919680258d369114910511cc87595aec0be6D', 'blocklud': 17257830, 'L': 412.978855864249}), ConstantProductCurve(k=182754208137.9432, x=82900.99031130393, x_act=460.1190381246997, y_act=9752.657258078456, pair='USDC-eB48/TSUKA-69eD', cid='3aa86ba4746c48f6bea2b713f0641f2c', fee=0.01, descr='uniswap_v3 USDC-eB48/TSUKA-69eD 10000', constr='pkpp', params={'exchange': 'uniswap_v3', 'tknx_dec': 6, 'tkny_dec': 9, 'tknx_addr': '0xA0b86991c6218b36c1d19D4a2e9Eb0cE3606eB48', 'tkny_addr': '0xc5fB36dd2fb59d3B98dEfF88425a3F425Ee469eD', 'blocklud': 17257830, 'L': 427497.61185057304}), ConstantProductCurve(k=1378089546688.438, x=1175477.461225076, x_act=1556.8733280762099, y_act=1961.4975397703238, pair='USDC-eB48/USDT-1ec7', cid='15c7994e2d2c468fbad5fb782616d525', fee=0.003, descr='uniswap_v3 USDC-eB48/USDT-1ec7 3000', constr='pkpp', params={'exchange': 'uniswap_v3', 'tknx_dec': 6, 'tkny_dec': 6, 'tknx_addr': '0xA0b86991c6218b36c1d19D4a2e9Eb0cE3606eB48', 'tkny_addr': '0xdAC17F958D2ee523a2206206994597C13D831ec7', 'blocklud': 17257830, 'L': 1173920.587897}), ConstantProductCurve(k=79893594617483.9, x=379780961.21330094, x_act=467944.647836864, y_act=371.3800847007951, pair='USDC-eB48/WETH-6Cc2', cid='7ed16708962e459abe5431a176b13aa0', fee=0.003, descr='uniswap_v3 USDC-eB48/WETH-6Cc2 3000', constr='pkpp', params={'exchange': 'uniswap_v3', 'tknx_dec': 6, 'tkny_dec': 18, 'tknx_addr': '0xA0b86991c6218b36c1d19D4a2e9Eb0cE3606eB48', 'tkny_addr': '0xC02aaA39b223FE8D0A0e5C4F27eAD9083C756Cc2', 'blocklud': 17257831, 'L': 8938321.689080333}), ConstantProductCurve(k=191284074621.72092, x=2669.403230710114, x_act=6.7787065893630825, y_act=32755.350751057267, pair='WBTC-C599/USDC-eB48', cid='8748e770adfe49f78064fd9bcf72417e', fee=0.003, descr='uniswap_v3 WBTC-C599/USDC-eB48 3000', constr='pkpp', params={'exchange': 'uniswap_v3', 'tknx_dec': 8, 'tkny_dec': 6, 'tknx_addr': '0x2260FAC5E5542a773Aa44fBCfeDf7C193bc2C599', 'tkny_addr': '0xA0b86991c6218b36c1d19D4a2e9Eb0cE3606eB48', 'blocklud': 17257831, 'L': 437360.3487077}), ConstantProductCurve(k=72845808942.53534, x=69991.53676420153, x_act=52.863480917934794, y_act=2333.183922853903, pair='WBTC-C599/WETH-6Cc2', cid='0a1e0af654974dd6848b52233d1aaf34', fee=0.003, descr='uniswap_v3 WBTC-C599/WETH-6Cc2 3000', constr='pkpp', params={'exchange': 'uniswap_v3', 'tknx_dec': 8, 'tkny_dec': 18, 'tknx_addr': '0x2260FAC5E5542a773Aa44fBCfeDf7C193bc2C599', 'tkny_addr': '0xC02aaA39b223FE8D0A0e5C4F27eAD9083C756Cc2', 'blocklud': 17257831, 'L': 269899.62753315415}), ConstantProductCurve(k=14308699504774.99, x=89030.10990956065, x_act=160.04490571962378, y_act=192838.9697639048, pair='WETH-6Cc2/USDT-1ec7', cid='1f595b1af09543b6959e9f1cb23b929d', fee=0.003, descr='uniswap_v3 WETH-6Cc2/USDT-1ec7 3000', constr='pkpp', params={'exchange': 'uniswap_v3', 'tknx_dec': 18, 'tkny_dec': 6, 'tknx_addr': '0xC02aaA39b223FE8D0A0e5C4F27eAD9083C756Cc2', 'tkny_addr': '0xdAC17F958D2ee523a2206206994597C13D831ec7', 'blocklud': 17257831, 'L': 3782684.166669878}), ConstantProductCurve(k=1904810620297.59, x=1178678.2437836542, x_act=1178678.2437836542, y_act=1616056.4855960954, pair='BNT-FF1C/vBNT-7f94', cid='742', fee=0.0, descr='bancor_v3 BNT-FF1C/vBNT-7f94 0.000', constr='uv2', params={'exchange': 'bancor_v3', 'tknx_dec': 18, 'tkny_dec': 18, 'tknx_addr': '0x1F573D6Fb3F13d689FF844B4cE37794d79a7FF1C', 'tkny_addr': '0x48Fb253446873234F2fEBbF9BdeAA72d9d387f94', 'blocklud': 17257832}), ConstantProductCurve(k=84575939886.60188, x=4251025385.7066236, x_act=4251025385.7066236, y_act=19.89542103676318, pair='PEPE-E35F/WETH-6Cc2', cid='e070215dcabe470c820457291d9904fe', fee=0.003, descr='uniswap_v2 PEPE-E35F/WETH-6Cc2 0.003', constr='uv2', params={'exchange': 'uniswap_v2', 'tknx_dec': 18, 'tkny_dec': 18, 'tknx_addr': '0x4A27e9aAb8F8bA9de06766C8476eD1D16494E35F', 'tkny_addr': '0xC02aaA39b223FE8D0A0e5C4F27eAD9083C756Cc2', 'blocklud': 17257833}), ConstantProductCurve(k=1524695.1528123918, x=1237.3308147407354, x_act=1237.3308147407354, y_act=1232.2453580305194, pair='stETH-fE84/WETH-6Cc2', cid='0bf53c6c2e514f259b356377ff7abe20', fee=0.003, descr='uniswap_v2 stETH-fE84/WETH-6Cc2 0.003', constr='uv2', params={'exchange': 'uniswap_v2', 'tknx_dec': 18, 'tkny_dec': 18, 'tknx_addr': '0xae7ab96520DE3A18E5e111B5EaAb095312D7fE84', 'tkny_addr': '0xC02aaA39b223FE8D0A0e5C4F27eAD9083C756Cc2', 'blocklud': 17257833}), ConstantProductCurve(k=1863755043.8278813, x=43123.91398797632, x_act=4.513452828337904, y_act=124.94475208524818, pair='DAI-1d0F/USDC-eB48', cid='873a7e371be64eb485a3cfee35fe6796', fee=0.003, descr='uniswap_v3 DAI-1d0F/USDC-eB48 3000', constr='pkpp', params={'exchange': 'uniswap_v3', 'tknx_dec': 18, 'tkny_dec': 6, 'tknx_addr': '0x6B175474E89094C44Da98b954EedeAC495271d0F', 'tkny_addr': '0xA0b86991c6218b36c1d19D4a2e9Eb0cE3606eB48', 'blocklud': 17257833, 'L': 43171.2293527516}), ConstantProductCurve(k=1.008985866507799e+18, x=1004709224.9779441, x_act=26761.33765745163, y_act=23460.407571077347, pair='DAI-1d0F/USDT-1ec7', cid='de1e0609fbe84008b5bed757a21da88e', fee=0.0001, descr='uniswap_v3 DAI-1d0F/USDT-1ec7 100', constr='pkpp', params={'exchange': 'uniswap_v3', 'tknx_dec': 18, 'tkny_dec': 6, 'tknx_addr': '0x6B175474E89094C44Da98b954EedeAC495271d0F', 'tkny_addr': '0xdAC17F958D2ee523a2206206994597C13D831ec7', 'blocklud': 17257834, 'L': 1004482885.1243804}), ConstantProductCurve(k=1330003628.9870868, x=1547182.8371966633, x_act=12189.242230337346, y_act=1.7947108564468408, pair='DAI-1d0F/WETH-6Cc2', cid='644ebe18973a4af2aea93d9401933a67', fee=0.01, descr='uniswap_v3 DAI-1d0F/WETH-6Cc2 10000', constr='pkpp', params={'exchange': 'uniswap_v3', 'tknx_dec': 18, 'tkny_dec': 18, 'tknx_addr': '0x6B175474E89094C44Da98b954EedeAC495271d0F', 'tkny_addr': '0xC02aaA39b223FE8D0A0e5C4F27eAD9083C756Cc2', 'blocklud': 17257834, 'L': 36469.21481177086}), ConstantProductCurve(k=80304184930.26881, x=111105.16809246404, x_act=93.64113927067956, y_act=1557.1170370572945, pair='LINK-86CA/USDC-eB48', cid='f0e05bc5af5546cda90e559151505935', fee=0.003, descr='uniswap_v3 LINK-86CA/USDC-eB48 3000', constr='pkpp', params={'exchange': 'uniswap_v3', 'tknx_dec': 18, 'tkny_dec': 6, 'tknx_addr': '0x514910771AF9Ca656af840dff83E8264EcF986CA', 'tkny_addr': '0xA0b86991c6218b36c1d19D4a2e9Eb0cE3606eB48', 'blocklud': 17257834, 'L': 283379.9303589949}), ConstantProductCurve(k=66063310.16274569, x=3176.4184471015665, x_act=1.9111175208781788, y_act=49.814200768414594, pair='LINK-86CA/USDT-1ec7', cid='539a301956344755aef66083984a84b8', fee=0.003, descr='uniswap_v3 LINK-86CA/USDT-1ec7 3000', constr='pkpp', params={'exchange': 'uniswap_v3', 'tknx_dec': 18, 'tkny_dec': 6, 'tknx_addr': '0x514910771AF9Ca656af840dff83E8264EcF986CA', 'tkny_addr': '0xdAC17F958D2ee523a2206206994597C13D831ec7', 'blocklud': 17257834, 'L': 8127.933941829602}), ConstantProductCurve(k=638887026832.3123, x=772178.0019526706, x_act=364.2937099979026, y_act=23.240381020354107, pair='rETH-6393/WETH-6Cc2', cid='287994fd2a0e4bf4887ed0f282c4849c', fee=0.0005, descr='uniswap_v3 rETH-6393/WETH-6Cc2 500', constr='pkpp', params={'exchange': 'uniswap_v3', 'tknx_dec': 18, 'tkny_dec': 18, 'tknx_addr': '0xae78736Cd615f374D3085123A210448E74Fc6393', 'tkny_addr': '0xC02aaA39b223FE8D0A0e5C4F27eAD9083C756Cc2', 'blocklud': 17257834, 'L': 799304.0890876965}), ConstantProductCurve(k=1433876315.707507, x=126009.61543146819, x_act=1072.8946769824397, y_act=16.47249563668447, pair='Silo-B1f8/USDC-eB48', cid='d7457f1055314de19366a59865f44d8e', fee=0.01, descr='uniswap_v3 Silo-B1f8/USDC-eB48 10000', constr='pkpp', params={'exchange': 'uniswap_v3', 'tknx_dec': 18, 'tkny_dec': 6, 'tknx_addr': '0x6f80310CA7F2C654691D1383149Fa1A57d8AB1f8', 'tkny_addr': '0xA0b86991c6218b36c1d19D4a2e9Eb0cE3606eB48', 'blocklud': 17257834, 'L': 37866.559332840196}), ConstantProductCurve(k=13826071.721963227, x=629378.9602376032, x_act=1076.5788635181962, y_act=0.02827288706317077, pair='SMT-7173/WETH-6Cc2', cid='765d4e97eaee408083866a21936045fa', fee=0.003, descr='uniswap_v3 SMT-7173/WETH-6Cc2 3000', constr='pkpp', params={'exchange': 'uniswap_v3', 'tknx_dec': 18, 'tkny_dec': 18, 'tknx_addr': '0xB17548c7B510427baAc4e267BEa62e800b247173', 'tkny_addr': '0xC02aaA39b223FE8D0A0e5C4F27eAD9083C756Cc2', 'blocklud': 17257834, 'L': 3718.342604166973}), ConstantProductCurve(k=2266746832.464802, x=42953.910536450596, x_act=37.38355211252201, y_act=479.5494226183364, pair='USDC-eB48/CRV-cd52', cid='4fbc38a1a4b74e13a878c7efbe002462', fee=0.01, descr='uniswap_v3 USDC-eB48/CRV-cd52 10000', constr='pkpp', params={'exchange': 'uniswap_v3', 'tknx_dec': 6, 'tkny_dec': 18, 'tknx_addr': '0xA0b86991c6218b36c1d19D4a2e9Eb0cE3606eB48', 'tkny_addr': '0xD533a949740bb3306d119CC777fa900bA034cd52', 'blocklud': 17257834, 'L': 47610.364758787575}), ConstantProductCurve(k=1562500152218.8706, x=31249.999960871766, x_act=0, y_act=5.0, pair='WETH-6Cc2/USDT-1ec7', cid='2722258935367507707706996859454145691723-0', fee=0.002, descr='NaN', constr='carb', params={'exchange': 'carbon_v1', 'tknx_dec': 18, 'tkny_dec': 6, 'tknx_addr': '0xEeeeeEeeeEeEeeEeEeEeeEEEeeeeEeeeeeeeEEeE', 'tkny_addr': '0xdAC17F958D2ee523a2206206994597C13D831ec7', 'blocklud': 17247375, 'y': 5.0, 'yint': 5.0, 'A': 0, 'B': 39.99999799848584, 'pa': 1599.9999998788553, 'pb': 1599.9999998788553}), ConstantProductCurve(k=2.112211557843642e+19, x=104614064.2088535, x_act=0, y_act=1.99455, pair='WETH-6Cc2/USDC-eB48', cid='1701411834604692317316873037158841057296-0', fee=0.002, descr='NaN', constr='carb', params={'exchange': 'carbon_v1', 'tknx_dec': 18, 'tkny_dec': 6, 'tknx_addr': '0xEeeeeEeeeEeEeeEeEeEeeEEEeeeeEeeeeeeeEEeE', 'tkny_addr': '0xA0b86991c6218b36c1d19D4a2e9Eb0cE3606eB48', 'blocklud': 17247376, 'y': 1.99455, 'yint': 20190.512359, 'A': 0, 'B': 43.93176307614303, 'pa': 1929.9999999783445, 'pb': 1929.9999999783445}), ConstantProductCurve(k=2.1336857484449866e+19, x=203977616257.2518, x_act=0, y_act=10.460390588782033, pair='USDC-eB48/WETH-6Cc2', cid='1701411834604692317316873037158841057296-1', fee=0.002, descr='NaN', constr='carb', params={'exchange': 'carbon_v1', 'tknx_dec': 18, 'tkny_dec': 6, 'tknx_addr': '0xEeeeeEeeeEeEeeEeEeEeeEEEeeeeEeeeeeeeEEeE', 'tkny_addr': '0xA0b86991c6218b36c1d19D4a2e9Eb0cE3606eB48', 'blocklud': 17247376, 'y': 10.460390588782033, 'yint': 10.460390588782033, 'A': 0, 'B': 0.0226455395506149, 'pa': 0.0005128205128205099, 'pb': 0.0005128205128205099}), ConstantProductCurve(k=5792.745601656116, x=3352.3016670957554, x_act=0, y_act=0.02611722902099498, pair='USDC-eB48/WETH-6Cc2', cid='1701411834604692317316873037158841057299-1', fee=0.002, descr='NaN', constr='carb', params={'exchange': 'carbon_v1', 'tknx_dec': 18, 'tkny_dec': 6, 'tknx_addr': '0xEeeeeEeeeEeEeeEeEeEeeEEEeeeeEeeeeeeeEEeE', 'tkny_addr': '0xA0b86991c6218b36c1d19D4a2e9Eb0cE3606eB48', 'blocklud': 17247376, 'y': 0.02611722902099498, 'yint': 0.02611722902099498, 'A': 0.0003431506843270052, 'B': 0.02236067977499787, 'pa': 0.000515463917525768, 'pb': 0.0004999999999999988}), ConstantProductCurve(k=1.7793596107479857e+18, x=35587188.63442069, x_act=0, y_act=5000.0, pair='WETH-6Cc2/USDC-eB48', cid='1701411834604692317316873037158841057306-0', fee=0.002, descr='NaN', constr='carb', params={'exchange': 'carbon_v1', 'tknx_dec': 18, 'tkny_dec': 6, 'tknx_addr': '0xEeeeeEeeeEeEeeEeEeEeeEEEeeeeEeeeeeeeEEeE', 'tkny_addr': '0xA0b86991c6218b36c1d19D4a2e9Eb0cE3606eB48', 'blocklud': 17247376, 'y': 5000.0, 'yint': 5000.0, 'A': 0, 'B': 37.483327753552494, 'pa': 1404.9999999802244, 'pb': 1404.9999999802244}), ConstantProductCurve(k=1235288.740192844, x=53302.57125546164, x_act=0, y_act=0.48795003691276445, pair='USDC-eB48/WETH-6Cc2', cid='1701411834604692317316873037158841057315-1', fee=0.002, descr='NaN', constr='carb', params={'exchange': 'carbon_v1', 'tknx_dec': 18, 'tkny_dec': 6, 'tknx_addr': '0xEeeeeEeeeEeEeeEeEeEeeEEEeeeeEeeeeeeeEEeE', 'tkny_addr': '0xA0b86991c6218b36c1d19D4a2e9Eb0cE3606eB48', 'blocklud': 17247376, 'y': 0.48795003691276445, 'yint': 0.48795003691276445, 'A': 0.00043902688251424085, 'B': 0.02041241452319315, 'pa': 0.0004347826086956485, 'pb': 0.00041666666666666653}), ConstantProductCurve(k=69985711.586548, x=200.1325962755328, x_act=0, y_act=4768.158155, pair='WETH-6Cc2/USDC-eB48', cid='1701411834604692317316873037158841057331-0', fee=0.002, descr='NaN', constr='carb', params={'exchange': 'carbon_v1', 'tknx_dec': 18, 'tkny_dec': 6, 'tknx_addr': '0xEeeeeEeeeEeEeeEeEeEeeEEEeeeeEeeeeeeeEEeE', 'tkny_addr': '0xA0b86991c6218b36c1d19D4a2e9Eb0cE3606eB48', 'blocklud': 17247376, 'y': 4768.158155, 'yint': 10000.0, 'A': 1.1953506131590075, 'B': 41.231056254531495, 'pa': 1799.999999702816, 'pb': 1699.9999998643407}), ConstantProductCurve(k=8036899.698417092, x=126782.48852595624, x_act=0, y_act=2.9500643724993934, pair='USDC-eB48/WETH-6Cc2', cid='1701411834604692317316873037158841057331-1', fee=0.002, descr='NaN', constr='carb', params={'exchange': 'carbon_v1', 'tknx_dec': 18, 'tkny_dec': 6, 'tknx_addr': '0xEeeeeEeeeEeEeeEeEeEeeEEEeeeeEeeeeeeeEEeE', 'tkny_addr': '0xA0b86991c6218b36c1d19D4a2e9Eb0cE3606eB48', 'blocklud': 17247376, 'y': 2.9500643724993934, 'yint': 2.9500643724993934, 'A': 0.0010406081394369222, 'B': 0.021320071635560947, 'pa': 0.0004999999999999988, 'pb': 0.0004545454545454504}), ConstantProductCurve(k=147058838214704.78, x=294117.6470499694, x_act=0, y_act=50.0, pair='WETH-6Cc2/USDC-eB48', cid='1701411834604692317316873037158841057334-0', fee=0.002, descr='NaN', constr='carb', params={'exchange': 'carbon_v1', 'tknx_dec': 18, 'tkny_dec': 6, 'tknx_addr': '0xEeeeeEeeeEeEeeEeEeEeeEEEeeeeEeeeeeeeEEeE', 'tkny_addr': '0xA0b86991c6218b36c1d19D4a2e9Eb0cE3606eB48', 'blocklud': 17247376, 'y': 50.0, 'yint': 50.0, 'A': 0, 'B': 41.23105419297884, 'pa': 1699.9999998643407, 'pb': 1699.9999998643407}), ConstantProductCurve(k=320000031037202.06, x=799999998.7965037, x_act=0, y_act=0.04, pair='USDC-eB48/WETH-6Cc2', cid='1701411834604692317316873037158841057334-1', fee=0.002, descr='NaN', constr='carb', params={'exchange': 'carbon_v1', 'tknx_dec': 18, 'tkny_dec': 6, 'tknx_addr': '0xEeeeeEeeeEeEeeEeEeEeeEEEeeeeEeeeeeeeEEeE', 'tkny_addr': '0xA0b86991c6218b36c1d19D4a2e9Eb0cE3606eB48', 'blocklud': 17247376, 'y': 0.04, 'yint': 0.04, 'A': 0, 'B': 0.022360678656963964, 'pa': 0.0004999999999999988, 'pb': 0.0004999999999999988}), ConstantProductCurve(k=441019.52742450824, x=15.658560658749572, x_act=0, y_act=1601.034736, pair='WETH-6Cc2/USDC-eB48', cid='1701411834604692317316873037158841057337-0', fee=0.002, descr='NaN', constr='carb', params={'exchange': 'carbon_v1', 'tknx_dec': 18, 'tkny_dec': 6, 'tknx_addr': '0xEeeeeEeeeEeEeeEeEeEeeEEEeeeeEeeeeeeeEEeE', 'tkny_addr': '0xA0b86991c6218b36c1d19D4a2e9Eb0cE3606eB48', 'blocklud': 17247376, 'y': 1601.034736, 'yint': 2000.0, 'A': 3.011626333204731, 'B': 39.99999999848569, 'pa': 1849.9999996969648, 'pb': 1599.9999998788553}), ConstantProductCurve(k=17563.447202652376, x=5889.635661502212, x_act=0, y_act=0.21871176797522734, pair='USDC-eB48/WETH-6Cc2', cid='1701411834604692317316873037158841057337-1', fee=0.002, descr='NaN', constr='carb', params={'exchange': 'carbon_v1', 'tknx_dec': 18, 'tkny_dec': 6, 'tknx_addr': '0xEeeeeEeeeEeEeeEeEeEeeEEEeeeeEeeeeeeeEEeE', 'tkny_addr': '0xA0b86991c6218b36c1d19D4a2e9Eb0cE3606eB48', 'blocklud': 17247376, 'y': 0.21871176797522734, 'yint': 0.21871176797522734, 'A': 0.0016503166128130388, 'B': 0.02085144140570739, 'pa': 0.0005063291139240484, 'pb': 0.0004347826086956485}), ConstantProductCurve(k=0.69985711586548, x=0.019718253190339884, x_act=0, y_act=1.0, pair='WETH-6Cc2/USDC-eB48', cid='1701411834604692317316873037158841057339-0', fee=0.002, descr='NaN', constr='carb', params={'exchange': 'carbon_v1', 'tknx_dec': 18, 'tkny_dec': 6, 'tknx_addr': '0xEeeeeEeeeEeEeeEeEeEeeEEEeeeeEeeeeeeeEEeE', 'tkny_addr': '0xA0b86991c6218b36c1d19D4a2e9Eb0cE3606eB48', 'blocklud': 17247376, 'y': 1.0, 'yint': 1.0, 'A': 1.1953506131590075, 'B': 41.231056254531495, 'pa': 1799.999999702816, 'pb': 1699.9999998643407}), ConstantProductCurve(k=64660622247.77095, x=1553.3234468985197, x_act=0.6029759843372631, y_act=108571.54997130483, pair='WBTC-C599/USDT-1ec7', cid='8b84d53e2a1f47d7aa2e021b472c5f6c', fee=0.003, descr='uniswap_v3 WBTC-C599/USDT-1ec7 3000', constr='pkpp', params={'exchange': 'uniswap_v3', 'tknx_dec': 8, 'tkny_dec': 6, 'tknx_addr': '0x2260FAC5E5542a773Aa44fBCfeDf7C193bc2C599', 'tkny_addr': '0xdAC17F958D2ee523a2206206994597C13D831ec7', 'blocklud': 17257831, 'L': 254284.5300992}), ConstantProductCurve(k=60007934786.30089, x=16111708.340821095, x_act=16111708.340821095, y_act=3724.492370201553, pair='BNT-FF1C/WETH-6Cc2', cid='704', fee=0.0, descr='bancor_v3 BNT-FF1C/ETH-EEeE 0.000', constr='uv2', params={'exchange': 'bancor_v3', 'tknx_dec': 18, 'tkny_dec': 18, 'tknx_addr': '0x1F573D6Fb3F13d689FF844B4cE37794d79a7FF1C', 'tkny_addr': '0xEeeeeEeeeEeEeeEeEeEeeEEEeeeeEeeeeeeeEEeE', 'blocklud': 17257832}), ConstantProductCurve(k=13979544710.596127, x=143841.2372465957, x_act=0, y_act=42474.63177247813, pair='USDC-eB48/BNT-FF1C', cid='2381976568446569244243622252022377480202-1', fee=0.002, descr='NaN', constr='carb', params={'exchange': 'carbon_v1', 'tknx_dec': 18, 'tkny_dec': 6, 'tknx_addr': '0x1F573D6Fb3F13d689FF844B4cE37794d79a7FF1C', 'tkny_addr': '0xA0b86991c6218b36c1d19D4a2e9Eb0cE3606eB48', 'blocklud': 17254754, 'y': 42474.63177247813, 'yint': 42475.98310504, 'A': 0.35925012314403615, 'B': 0.46274481338274664, 'pa': 0.6756756756756697, 'pb': 0.21413276231263303}), ConstantProductCurve(k=3003728869058.7593, x=2686596.364759599, x_act=2686596.364759599, y_act=1118042.482473, pair='BNT-FF1C/USDC-eB48', cid='720', fee=0.0, descr='bancor_v3 BNT-FF1C/USDC-eB48 0.000', constr='uv2', params={'exchange': 'bancor_v3', 'tknx_dec': 18, 'tkny_dec': 6, 'tknx_addr': '0x1F573D6Fb3F13d689FF844B4cE37794d79a7FF1C', 'tkny_addr': '0xA0b86991c6218b36c1d19D4a2e9Eb0cE3606eB48', 'blocklud': 17257832}), ConstantProductCurve(k=4.020100912831081e+16, x=201005025.65811583, x_act=0, y_act=20.0, pair='DAI-1d0F/USDT-1ec7', cid='2041694201525630780780247644590609268742-0', fee=0.002, descr='NaN', constr='carb', params={'exchange': 'carbon_v1', 'tknx_dec': 18, 'tkny_dec': 6, 'tknx_addr': '0x6B175474E89094C44Da98b954EedeAC495271d0F', 'tkny_addr': '0xdAC17F958D2ee523a2206206994597C13D831ec7', 'blocklud': 17257832, 'y': 20.0, 'yint': 20.0, 'A': 0, 'B': 0.9974968156764443, 'pa': 0.9949999967846361, 'pb': 0.9949999967846361}), ConstantProductCurve(k=4.020000392646706e+16, x=200999999.76616818, x_act=0, y_act=20.0, pair='USDT-1ec7/DAI-1d0F', cid='2041694201525630780780247644590609268742-1', fee=0.002, descr='NaN', constr='carb', params={'exchange': 'carbon_v1', 'tknx_dec': 18, 'tkny_dec': 6, 'tknx_addr': '0x6B175474E89094C44Da98b954EedeAC495271d0F', 'tkny_addr': '0xdAC17F958D2ee523a2206206994597C13D831ec7', 'blocklud': 17257832, 'y': 20.0, 'yint': 20.0, 'A': 0, 'B': 0.9975092862321672, 'pa': 0.9950248756218854, 'pb': 0.9950248756218854}), ConstantProductCurve(k=1.693620168617758e+17, x=581999999.8721237, x_act=0, y_act=29.100000020685478, pair='USDC-eB48/BNT-FF1C', cid='2381976568446569244243622252022377480199-0', fee=0.002, descr='NaN', constr='carb', params={'exchange': 'carbon_v1', 'tknx_dec': 6, 'tkny_dec': 18, 'tknx_addr': '0xA0b86991c6218b36c1d19D4a2e9Eb0cE3606eB48', 'tkny_addr': '0x1F573D6Fb3F13d689FF844B4cE37794d79a7FF1C', 'blocklud': 17257832, 'y': 29.100000020685478, 'yint': 29.100000020685478, 'A': 0, 'B': 0.7071067458312107, 'pa': 0.49999999999999944, 'pb': 0.49999999999999944}), ConstantProductCurve(k=1.125000110627033e+16, x=7499999993.757924, x_act=0, y_act=0.15, pair='BNT-FF1C/WETH-6Cc2', cid='3743106036130323098097120681749450326031-0', fee=0.002, descr='NaN', constr='carb', params={'exchange': 'carbon_v1', 'tknx_dec': 18, 'tkny_dec': 18, 'tknx_addr': '0x1F573D6Fb3F13d689FF844B4cE37794d79a7FF1C', 'tkny_addr': '0xEeeeeEeeeEeEeeEeEeEeeEEEeeeeEeeeeeeeEEeE', 'blocklud': 17257833, 'y': 0.15, 'yint': 0.15, 'A': 0, 'B': 0.014142134916622062, 'pa': 0.00019999999999993891, 'pb': 0.00019999999999993891}), ConstantProductCurve(k=5.0000004907902376e+16, x=9999999.990790267, x_act=0, y_act=500.0, pair='WETH-6Cc2/BNT-FF1C', cid='3743106036130323098097120681749450326031-1', fee=0.002, descr='NaN', constr='carb', params={'exchange': 'carbon_v1', 'tknx_dec': 18, 'tkny_dec': 18, 'tknx_addr': '0x1F573D6Fb3F13d689FF844B4cE37794d79a7FF1C', 'tkny_addr': '0xEeeeeEeeeEeEeeEeEeEeeEEEeeeeEeeeeeeeEEeE', 'blocklud': 17257833, 'y': 500.0, 'yint': 500.0, 'A': 0, 'B': 22.36067865696393, 'pa': 499.9999999999972, 'pb': 499.9999999999972}), ConstantProductCurve(k=2450000240921094.5, x=3499999997.0870314, x_act=0, y_act=0.07, pair='BNT-FF1C/WETH-6Cc2', cid='3743106036130323098097120681749450326034-0', fee=0.002, descr='NaN', constr='carb', params={'exchange': 'carbon_v1', 'tknx_dec': 18, 'tkny_dec': 18, 'tknx_addr': '0x1F573D6Fb3F13d689FF844B4cE37794d79a7FF1C', 'tkny_addr': '0xEeeeeEeeeEeEeeEeEeEeeEEEeeeeEeeeeeeeEEeE', 'blocklud': 17257833, 'y': 0.07, 'yint': 0.07, 'A': 0, 'B': 0.014142134916622062, 'pa': 0.00019999999999993891, 'pb': 0.00019999999999993891}), ConstantProductCurve(k=8400000840240937.0, x=4200000.0000602435, x_act=0, y_act=200.0, pair='WETH-6Cc2/BNT-FF1C', cid='3743106036130323098097120681749450326034-1', fee=0.002, descr='NaN', constr='carb', params={'exchange': 'carbon_v1', 'tknx_dec': 18, 'tkny_dec': 18, 'tknx_addr': '0x1F573D6Fb3F13d689FF844B4cE37794d79a7FF1C', 'tkny_addr': '0xEeeeeEeeeEeEeeEeEeEeeEEEeeeeEeeeeeeeEEeE', 'blocklud': 17257833, 'y': 200.0, 'yint': 200.0, 'A': 0, 'B': 21.821787932509825, 'pa': 476.19047619047427, 'pb': 476.19047619047427}), ConstantProductCurve(k=233332.20605737518, x=31168.396175341906, x_act=0, y_act=0.002882724874542864, pair='BNT-FF1C/WETH-6Cc2', cid='3743106036130323098097120681749450326076-0', fee=0.002, descr='NaN', constr='carb', params={'exchange': 'carbon_v1', 'tknx_dec': 18, 'tkny_dec': 18, 'tknx_addr': '0x1F573D6Fb3F13d689FF844B4cE37794d79a7FF1C', 'tkny_addr': '0xEeeeeEeeeEeEeeEeEeEeeEEEeeeeEeeeeeeeEEeE', 'blocklud': 17257833, 'y': 0.002882724874542864, 'yint': 0.2, 'A': 0.00041404033575886956, 'B': 0.01549193338482624, 'pa': 0.0002529999999999441, 'pb': 0.00023999999999989378}), ConstantProductCurve(k=564432.9345547712, x=12.044055138555988, x_act=0, y_act=799.6345275326603, pair='WETH-6Cc2/BNT-FF1C', cid='3743106036130323098097120681749450326076-1', fee=0.002, descr='NaN', constr='carb', params={'exchange': 'carbon_v1', 'tknx_dec': 18, 'tkny_dec': 18, 'tknx_addr': '0x1F573D6Fb3F13d689FF844B4cE37794d79a7FF1C', 'tkny_addr': '0xEeeeeEeeeEeEeeEeEeEeeEEEeeeeEeeeeeeeEEeE', 'blocklud': 17257833, 'y': 799.6345275326603, 'yint': 799.6345275326603, 'A': 1.0643522066839068, 'B': 61.31393394849647, 'pa': 3891.0505836575676, 'pb': 3759.398496240588}), ConstantProductCurve(k=1094403480.3604727, x=531.3719017157404, x_act=0, y_act=7936.757901326575, pair='WETH-6Cc2/BNT-FF1C', cid='3743106036130323098097120681749450326077-1', fee=0.002, descr='NaN', constr='carb', params={'exchange': 'carbon_v1', 'tknx_dec': 18, 'tkny_dec': 18, 'tknx_addr': '0x1F573D6Fb3F13d689FF844B4cE37794d79a7FF1C', 'tkny_addr': '0xEeeeeEeeeEeEeeEeEeEeeEEEeeeeEeeeeeeeEEeE', 'blocklud': 17257833, 'y': 7936.757901326575, 'yint': 7936.757901326575, 'A': 0.23991334186484892, 'B': 62.01736729460413, 'pa': 3875.968992248055, 'pb': 3846.153846153834}), ConstantProductCurve(k=373134365131005.56, x=18656716.40439458, x_act=0, y_act=2.0, pair='rETH-6393/WETH-6Cc2', cid='3062541302288446171170371466885913903115-0', fee=0.002, descr='NaN', constr='carb', params={'exchange': 'carbon_v1', 'tknx_dec': 18, 'tkny_dec': 18, 'tknx_addr': '0xae78736Cd615f374D3085123A210448E74Fc6393', 'tkny_addr': '0xEeeeeEeeeEeEeeEeEeEeeEEEeeeeEeeeeeeeEEeE', 'blocklud': 17247374, 'y': 2.0, 'yint': 2.0, 'A': 0, 'B': 1.0353742766748681, 'pa': 1.0719999999999958, 'pb': 1.0719999999999958}), ConstantProductCurve(k=1322051953634.38, x=26441.036460999374, x_act=0, y_act=5.0, pair='WETH-6Cc2/USDT-1ec7', cid='2722258935367507707706996859454145691656-0', fee=0.002, descr='NaN', constr='carb', params={'exchange': 'carbon_v1', 'tknx_dec': 18, 'tkny_dec': 6, 'tknx_addr': '0xEeeeeEeeeEeEeeEeEeEeeEEEeeeeEeeeeeeeEEeE', 'tkny_addr': '0xdAC17F958D2ee523a2206206994597C13D831ec7', 'blocklud': 17247375, 'y': 5.0, 'yint': 5.0, 'A': 0, 'B': 43.48562763210216, 'pa': 1890.9999996578279, 'pb': 1890.9999996578279}), ConstantProductCurve(k=7661013836506.864, x=126838982.36682537, x_act=0, y_act=0.006039951546952498, pair='USDC-eB48/WETH-6Cc2', cid='1701411834604692317316873037158841057285-1', fee=0.002, descr='NaN', constr='carb', params={'exchange': 'carbon_v1', 'tknx_dec': 18, 'tkny_dec': 6, 'tknx_addr': '0xEeeeeEeeeEeEeeEeEeEeeEEEeeeeEeeeeeeeEEeE', 'tkny_addr': '0xA0b86991c6218b36c1d19D4a2e9Eb0cE3606eB48', 'blocklud': 17247376, 'y': 0.006039951546952498, 'yint': 0.006039951546952498, 'A': 0, 'B': 0.021821787932509752, 'pa': 0.0004761904761904711, 'pb': 0.0004761904761904711}), ConstantProductCurve(k=24040.755175964954, x=3.6015416409239513, x_act=0, y_act=6.141325, pair='WETH-6Cc2/USDC-eB48', cid='1701411834604692317316873037158841057292-0', fee=0.002, descr='NaN', constr='carb', params={'exchange': 'carbon_v1', 'tknx_dec': 18, 'tkny_dec': 6, 'tknx_addr': '0xEeeeeEeeeEeEeeEeEeEeeEEEeeeeEeeeeeeeEEeE', 'tkny_addr': '0xA0b86991c6218b36c1d19D4a2e9Eb0cE3606eB48', 'blocklud': 17247376, 'y': 6.141325, 'yint': 18.0, 'A': 0.11609097327891504, 'B': 43.01162633169042, 'pa': 1859.9999999373515, 'pb': 1849.9999996969648}), ConstantProductCurve(k=3567.0485551235574, x=2670.9730643058033, x_act=0, y_act=0.016386958418561175, pair='USDC-eB48/WETH-6Cc2', cid='1701411834604692317316873037158841057292-1', fee=0.002, descr='NaN', constr='carb', params={'exchange': 'carbon_v1', 'tknx_dec': 18, 'tkny_dec': 6, 'tknx_addr': '0xEeeeeEeeeEeEeeEeEeEeeEEEeeeeEeeeeeeeEEeE', 'tkny_addr': '0xA0b86991c6218b36c1d19D4a2e9Eb0cE3606eB48', 'blocklud': 17247376, 'y': 0.016386958418561175, 'yint': 0.016386958418561175, 'A': 0.0002743745600286597, 'B': 0.02208630521496921, 'pa': 0.0004999999999999988, 'pb': 0.00048780487804877604}), ConstantProductCurve(k=3.3247198115867776e+18, x=42347003.2692155, x_act=0, y_act=7.851126, pair='WETH-6Cc2/USDC-eB48', cid='1701411834604692317316873037158841057353-0', fee=0.002, descr='NaN', constr='carb', params={'exchange': 'carbon_v1', 'tknx_dec': 18, 'tkny_dec': 6, 'tknx_addr': '0xEeeeeEeeeEeEeeEeEeEeeEEEeeeeEeeeeeeeEEeE', 'tkny_addr': '0xA0b86991c6218b36c1d19D4a2e9Eb0cE3606eB48', 'blocklud': 17247376, 'y': 7.851126, 'yint': 7851.133629, 'A': 0, 'B': 43.05809812880723, 'pa': 1853.9999998699745, 'pb': 1853.9999998699745}), ConstantProductCurve(k=1.3873267560743993e+19, x=168559927394.2618, x_act=0, y_act=8.230465212456881, pair='USDC-eB48/WETH-6Cc2', cid='1701411834604692317316873037158841057353-1', fee=0.002, descr='NaN', constr='carb', params={'exchange': 'carbon_v1', 'tknx_dec': 18, 'tkny_dec': 6, 'tknx_addr': '0xEeeeeEeeeEeEeeEeEeEeeEEEeeeeEeeeeeeeEEeE', 'tkny_addr': '0xA0b86991c6218b36c1d19D4a2e9Eb0cE3606eB48', 'blocklud': 17247376, 'y': 8.230465212456881, 'yint': 8.230465212456881, 'A': 0, 'B': 0.022097085807225334, 'pa': 0.00048828124999999946, 'pb': 0.00048828124999999946}), ConstantProductCurve(k=1.990000200445574e+17, x=19900000007.227936, x_act=0, y_act=1.0, pair='USDC-eB48/WETH-6Cc2', cid='1701411834604692317316873037158841057343-1', fee=0.002, descr='NaN', constr='carb', params={'exchange': 'carbon_v1', 'tknx_dec': 18, 'tkny_dec': 6, 'tknx_addr': '0xEeeeeEeeeEeEeeEeEeEeeEEEeeeeEeeeeeeeEEeE', 'tkny_addr': '0xA0b86991c6218b36c1d19D4a2e9Eb0cE3606eB48', 'blocklud': 17247376, 'y': 1.0, 'yint': 1.0, 'A': 0, 'B': 0.02241679086227143, 'pa': 0.0005025125628140671, 'pb': 0.0005025125628140671}), ConstantProductCurve(k=194500019347.0461, x=19449999.994852982, x_act=0, y_act=0.001, pair='DAI-1d0F/WETH-6Cc2', cid='340282366920938463463374607431768211457-1', fee=0.002, descr='NaN', constr='carb', params={'exchange': 'carbon_v1', 'tknx_dec': 18, 'tkny_dec': 18, 'tknx_addr': '0xEeeeeEeeeEeEeeEeEeEeeEEEeeeeEeeeeeeeEEeE', 'tkny_addr': '0x6B175474E89094C44Da98b954EedeAC495271d0F', 'blocklud': 17247378, 'y': 0.001, 'yint': 0.001, 'A': 0, 'B': 0.022674628245393735, 'pa': 0.0005141388174806841, 'pb': 0.0005141388174806841}), ConstantProductCurve(k=78147.65726537534, x=1.6988993407480515, x_act=0, y_act=491.707823, pair='WBTC-C599/USDC-eB48', cid='4083388403051261561560495289181218537493-0', fee=0.002, descr='NaN', constr='carb', params={'exchange': 'carbon_v1', 'tknx_dec': 8, 'tkny_dec': 6, 'tknx_addr': '0x2260FAC5E5542a773Aa44fBCfeDf7C193bc2C599', 'tkny_addr': '0xA0b86991c6218b36c1d19D4a2e9Eb0cE3606eB48', 'blocklud': 17257830, 'y': 491.707823, 'yint': 1270.214676, 'A': 4.543799345817661, 'B': 162.7882059609965, 'pa': 27999.99999999968, 'pb': 26499.99999999981}), ConstantProductCurve(k=27070.17746177211, x=27941.07939929178, x_act=0, y_act=0.02827438, pair='USDC-eB48/WBTC-C599', cid='4083388403051261561560495289181218537493-1', fee=0.002, descr='NaN', constr='carb', params={'exchange': 'carbon_v1', 'tknx_dec': 8, 'tkny_dec': 6, 'tknx_addr': '0x2260FAC5E5542a773Aa44fBCfeDf7C193bc2C599', 'tkny_addr': '0xA0b86991c6218b36c1d19D4a2e9Eb0cE3606eB48', 'blocklud': 17257830, 'y': 0.02827438, 'yint': 0.02827438, 'A': 0.00017184920963373394, 'B': 0.005716619504750042, 'pa': 3.4674063800276525e-05, 'pb': 3.267973856208862e-05}), ConstantProductCurve(k=9.009009906939267e+16, x=300300300.25078994, x_act=0, y_act=30.0, pair='USDC-eB48/DAI-1d0F', cid='1361129467683753853853498429727072845828-0', fee=0.002, descr='NaN', constr='carb', params={'exchange': 'carbon_v1', 'tknx_dec': 6, 'tkny_dec': 18, 'tknx_addr': '0xA0b86991c6218b36c1d19D4a2e9Eb0cE3606eB48', 'tkny_addr': '0x6B175474E89094C44Da98b954EedeAC495271d0F', 'blocklud': 17257832, 'y': 30.0, 'yint': 30.0, 'A': 0, 'B': 0.9994998249624698, 'pa': 0.9989999999999978, 'pb': 0.9989999999999978}), ConstantProductCurve(k=4.004000418071149e+16, x=200200000.93103316, x_act=0, y_act=20.0, pair='DAI-1d0F/USDC-eB48', cid='1361129467683753853853498429727072845828-1', fee=0.002, descr='NaN', constr='carb', params={'exchange': 'carbon_v1', 'tknx_dec': 6, 'tkny_dec': 18, 'tknx_addr': '0xA0b86991c6218b36c1d19D4a2e9Eb0cE3606eB48', 'tkny_addr': '0x6B175474E89094C44Da98b954EedeAC495271d0F', 'blocklud': 17257832, 'y': 20.0, 'yint': 20.0, 'A': 0, 'B': 0.9995003222701507, 'pa': 0.9990009941182246, 'pb': 0.9990009941182246}), ConstantProductCurve(k=9.00000089565402e+21, x=100000010058.16396, x_act=0, y_act=1.607129, pair='CRV-cd52/USDC-eB48', cid='12250165209153784684681485867543655612490-0', fee=0.002, descr='NaN', constr='carb', params={'exchange': 'carbon_v1', 'tknx_dec': 18, 'tkny_dec': 6, 'tknx_addr': '0xD533a949740bb3306d119CC777fa900bA034cd52', 'tkny_addr': '0xA0b86991c6218b36c1d19D4a2e9Eb0cE3606eB48', 'blocklud': 17257834, 'y': 1.607129, 'yint': 9000.0, 'A': 0, 'B': 0.9486832498185668, 'pa': 0.8999999984863082, 'pb': 0.8999999984863082}), ConstantProductCurve(k=34164094868.074596, x=175350.1793020685, x_act=0, y_act=9998.21432003545, pair='USDC-eB48/CRV-cd52', cid='12250165209153784684681485867543655612490-1', fee=0.002, descr='NaN', constr='carb', params={'exchange': 'carbon_v1', 'tknx_dec': 18, 'tkny_dec': 6, 'tknx_addr': '0xD533a949740bb3306d119CC777fa900bA034cd52', 'tkny_addr': '0xA0b86991c6218b36c1d19D4a2e9Eb0cE3606eB48', 'blocklud': 17257834, 'y': 9998.21432003545, 'yint': 9998.21432003545, 'A': 0.05409255338945229, 'B': 1.0, 'pa': 1.1111111111110954, 'pb': 1.0}), ConstantProductCurve(k=2.5102613735378698e+17, x=501050114.63217264, x_act=0, y_act=50.100001, pair='USDC-eB48/USDT-1ec7', cid='1020847100762815390390123822295304634371-0', fee=0.002, descr='NaN', constr='carb', params={'exchange': 'carbon_v1', 'tknx_dec': 6, 'tkny_dec': 6, 'tknx_addr': '0xA0b86991c6218b36c1d19D4a2e9Eb0cE3606eB48', 'tkny_addr': '0xdAC17F958D2ee523a2206206994597C13D831ec7', 'blocklud': 17257834, 'y': 50.100001, 'yint': 50.100001, 'A': 0, 'B': 0.9999499487524407, 'pa': 0.9998999999999989, 'pb': 0.9998999999999989}), ConstantProductCurve(k=2.51522459397049e+17, x=501545198.8487491, x_act=0, y_act=50.149505, pair='USDT-1ec7/USDC-eB48', cid='1020847100762815390390123822295304634371-1', fee=0.002, descr='NaN', constr='carb', params={'exchange': 'carbon_v1', 'tknx_dec': 6, 'tkny_dec': 6, 'tknx_addr': '0xA0b86991c6218b36c1d19D4a2e9Eb0cE3606eB48', 'tkny_addr': '0xdAC17F958D2ee523a2206206994597C13D831ec7', 'blocklud': 17257834, 'y': 50.149505, 'yint': 50.149505, 'A': 0, 'B': 0.9999499537521886, 'pa': 0.9999000099989953, 'pb': 0.9999000099989953}), ConstantProductCurve(k=1257556547263.1218, x=1121969.4125178952, x_act=0, y_act=505.0, pair='USDC-eB48/USDT-1ec7', cid='1020847100762815390390123822295304634391-0', fee=0.002, descr='NaN', constr='carb', params={'exchange': 'carbon_v1', 'tknx_dec': 6, 'tkny_dec': 6, 'tknx_addr': '0xA0b86991c6218b36c1d19D4a2e9Eb0cE3606eB48', 'tkny_addr': '0xdAC17F958D2ee523a2206206994597C13D831ec7', 'blocklud': 17257834, 'y': 505.0, 'yint': 505.0, 'A': 0.00045032661665800333, 'B': 0.9990495483208015, 'pa': 0.9989999999999972, 'pb': 0.9980999999999975}), ConstantProductCurve(k=999399807558.0139, x=999354.9025325883, x_act=0, y_act=494.996523, pair='USDT-1ec7/USDC-eB48', cid='1020847100762815390390123822295304634391-1', fee=0.002, descr='NaN', constr='carb', params={'exchange': 'carbon_v1', 'tknx_dec': 6, 'tkny_dec': 6, 'tknx_addr': '0xA0b86991c6218b36c1d19D4a2e9Eb0cE3606eB48', 'tkny_addr': '0xdAC17F958D2ee523a2206206994597C13D831ec7', 'blocklud': 17257834, 'y': 494.996523, 'yint': 500.0, 'A': 0.0005001501156876031, 'B': 0.9998500337415628, 'pa': 1.0007004903432346, 'pb': 0.9997000899730042}), ConstantProductCurve(k=15987501171.994297, x=78962.81059510107, x_act=0, y_act=5000.0, pair='USDC-eB48/vBNT-7f94', cid='5104235503814076951950619111476523171896-1', fee=0.002, descr='NaN', constr='carb', params={'exchange': 'carbon_v1', 'tknx_dec': 18, 'tkny_dec': 6, 'tknx_addr': '0x48Fb253446873234F2fEBbF9BdeAA72d9d387f94', 'tkny_addr': '0xA0b86991c6218b36c1d19D4a2e9Eb0cE3606eB48', 'blocklud': 17247381, 'y': 5000.0, 'yint': 5000.0, 'A': 0.039543919164814145, 'B': 1.5617376188860534, 'pa': 2.5641025641025523, 'pb': 2.43902439024388}), ConstantProductCurve(k=68883073.8824735, x=74.23372488699384, x_act=0, y_act=200000.0, pair='WETH-6Cc2/SMT-7173', cid='10208471007628153903901238222953046343738-1', fee=0.002, descr='NaN', constr='carb', params={'exchange': 'carbon_v1', 'tknx_dec': 18, 'tkny_dec': 18, 'tknx_addr': '0xB17548c7B510427baAc4e267BEa62e800b247173', 'tkny_addr': '0xEeeeeEeeeEeEeeEeEeEeeEEEeeeeEeeeeeeeEEeE', 'blocklud': 17247382, 'y': 200000.0, 'yint': 200000.0, 'A': 24.09759694428658, 'B': 87.70580193070282, 'pa': 12499.99999999998, 'pb': 7692.307692307674}), ConstantProductCurve(k=183.40825304964775, x=53.14547303324533, x_act=0, y_act=0.1337583, pair='WETH-6Cc2/WBTC-C599', cid='9187623906865338513511114400657741709362-0', fee=0.002, descr='NaN', constr='carb', params={'exchange': 'carbon_v1', 'tknx_dec': 18, 'tkny_dec': 8, 'tknx_addr': '0xEeeeeEeeeEeEeeEeEeEeeEEEeeeeEeeeeeeeEEeE', 'tkny_addr': '0x2260FAC5E5542a773Aa44fBCfeDf7C193bc2C599', 'blocklud': 17247382, 'y': 0.1337583, 'yint': 0.26579371, 'A': 0.0196261566998146, 'B': 0.24494897417071115, 'pa': 0.06999999987515583, 'pb': 0.059999999947283715}), ConstantProductCurve(k=595.7762662181402, x=6.457889642543444, x_act=0, y_act=5.958386022071996, pair='WBTC-C599/WETH-6Cc2', cid='9187623906865338513511114400657741709362-1', fee=0.002, descr='NaN', constr='carb', params={'exchange': 'carbon_v1', 'tknx_dec': 18, 'tkny_dec': 8, 'tknx_addr': '0xEeeeeEeeeEeEeeEeEeEeeEEEeeeeEeeeeeeeEEeE', 'tkny_addr': '0x2260FAC5E5542a773Aa44fBCfeDf7C193bc2C599', 'blocklud': 17247382, 'y': 5.958386022071996, 'yint': 5.958386022071996, 'A': 0.2441108241595331, 'B': 3.5355339059327355, 'pa': 14.285714285714258, 'pb': 12.499999999999986}), ConstantProductCurve(k=0.07797718909390479, x=47.96172513859807, x_act=0, y_act=6.48e-05, pair='USDT-1ec7/WBTC-C599', cid='9527906273786276976974489008089509920820-1', fee=0.002, descr='NaN', constr='carb', params={'exchange': 'carbon_v1', 'tknx_dec': 8, 'tkny_dec': 6, 'tknx_addr': '0x2260FAC5E5542a773Aa44fBCfeDf7C193bc2C599', 'tkny_addr': '0xdAC17F958D2ee523a2206206994597C13D831ec7', 'blocklud': 17257830, 'y': 6.48e-05, 'yint': 6.48e-05, 'A': 0.00023205515364637178, 'B': 0.0055901699437491455, 'pa': 3.389830508474224e-05, 'pb': 3.124999999999633e-05}), ConstantProductCurve(k=130445868547.89401, x=372521.4095630833, x_act=0, y_act=13290.464521842658, pair='BNT-FF1C/vBNT-7f94', cid='4423670769972200025023869896612986748950-0', fee=0.002, descr='NaN', constr='carb', params={'exchange': 'carbon_v1', 'tknx_dec': 18, 'tkny_dec': 18, 'tknx_addr': '0x1F573D6Fb3F13d689FF844B4cE37794d79a7FF1C', 'tkny_addr': '0x48Fb253446873234F2fEBbF9BdeAA72d9d387f94', 'blocklud': 17257833, 'y': 13290.464521842658, 'yint': 13290.464521842658, 'A': 0.0367980661743843, 'B': 0.9327379053088798, 'pa': 0.9399999999999967, 'pb': 0.8699999999999968}), ConstantProductCurve(k=161849229554.35507, x=404331.6521692567, x_act=0, y_act=0.002031521002415079, pair='WETH-6Cc2/stETH-fE84', cid='680564733841876926926749214863536422914-0', fee=0.002, descr='NaN', constr='carb', params={'exchange': 'carbon_v1', 'tknx_dec': 18, 'tkny_dec': 18, 'tknx_addr': '0xEeeeeEeeeEeEeeEeEeEeeEEEeeeeEeeeeeeeEEeE', 'tkny_addr': '0xae7ab96520DE3A18E5e111B5EaAb095312D7fE84', 'blocklud': 17247380, 'y': 0.002031521002415079, 'yint': 0.040028829792356266, 'A': 0, 'B': 0.9949873873572512, 'pa': 0.9899999999999989, 'pb': 0.9899999999999989}), ConstantProductCurve(k=667140263678.268, x=820860.2817596782, x_act=0, y_act=0.07932129412695653, pair='stETH-fE84/WETH-6Cc2', cid='680564733841876926926749214863536422914-1', fee=0.002, descr='NaN', constr='carb', params={'exchange': 'carbon_v1', 'tknx_dec': 18, 'tkny_dec': 18, 'tknx_addr': '0xEeeeeEeeeEeEeeEeEeEeeEEEeeeeEeeeeeeeEEeE', 'tkny_addr': '0xae7ab96520DE3A18E5e111B5EaAb095312D7fE84', 'blocklud': 17247380, 'y': 0.07932129412695653, 'yint': 0.08127329511944668, 'A': 0, 'B': 0.9950371404581323, 'pa': 0.9900990099009881, 'pb': 0.9900990099009881}), ConstantProductCurve(k=640186334.0510521, x=26536.86054257666, x_act=0, y_act=1027.0462766947312, pair='BNT-FF1C/vBNT-7f94', cid='4423670769972200025023869896612986748965-1', fee=0.002, descr='NaN', constr='carb', params={'exchange': 'carbon_v1', 'tknx_dec': 18, 'tkny_dec': 18, 'tknx_addr': '0x48Fb253446873234F2fEBbF9BdeAA72d9d387f94', 'tkny_addr': '0x1F573D6Fb3F13d689FF844B4cE37794d79a7FF1C', 'blocklud': 17257833, 'y': 1027.0462766947312, 'yint': 1027.0462766947312, 'A': 0.04059166007031578, 'B': 0.9128709291752735, 'pa': 0.9090909090909032, 'pb': 0.8333333333333272}), ConstantProductCurve(k=547841856.8596735, x=23406.021807639023, x_act=0, y_act=1089.255650988793, pair='BNT-FF1C/vBNT-7f94', cid='4423670769972200025023869896612986748966-1', fee=0.002, descr='NaN', constr='carb', params={'exchange': 'carbon_v1', 'tknx_dec': 18, 'tkny_dec': 18, 'tknx_addr': '0x48Fb253446873234F2fEBbF9BdeAA72d9d387f94', 'tkny_addr': '0x1F573D6Fb3F13d689FF844B4cE37794d79a7FF1C', 'blocklud': 17257833, 'y': 1089.255650988793, 'yint': 1089.255650988793, 'A': 0.04653741075441076, 'B': 0.9534625892455892, 'pa': 1.0, 'pb': 0.9090909090909032}), ConstantProductCurve(k=74916573.8677398, x=9987.487169388674, x_act=0, y_act=259.38592844119347, pair='vBNT-7f94/BNT-FF1C', cid='4423670769972200025023869896612986748976-0', fee=0.002, descr='NaN', constr='carb', params={'exchange': 'carbon_v1', 'tknx_dec': 18, 'tkny_dec': 18, 'tknx_addr': '0x48Fb253446873234F2fEBbF9BdeAA72d9d387f94', 'tkny_addr': '0x1F573D6Fb3F13d689FF844B4cE37794d79a7FF1C', 'blocklud': 17257833, 'y': 259.38592844119347, 'yint': 500.0, 'A': 0.05776716446584018, 'B': 0.8366600265340729, 'pa': 0.799999999999995, 'pb': 0.6999999999999955}), ConstantProductCurve(k=224460767.72805953, x=14213.187220157683, x_act=0, y_act=810.415435921192, pair='BNT-FF1C/vBNT-7f94', cid='4423670769972200025023869896612986748976-1', fee=0.002, descr='NaN', constr='carb', params={'exchange': 'carbon_v1', 'tknx_dec': 18, 'tkny_dec': 18, 'tknx_addr': '0x48Fb253446873234F2fEBbF9BdeAA72d9d387f94', 'tkny_addr': '0x1F573D6Fb3F13d689FF844B4cE37794d79a7FF1C', 'blocklud': 17257833, 'y': 810.415435921192, 'yint': 810.415435921192, 'A': 0.0540925533894594, 'B': 1.0, 'pa': 1.1111111111111103, 'pb': 1.0}), ConstantProductCurve(k=64903703.49204305, x=9629.100498863067, x_act=0, y_act=500.0, pair='vBNT-7f94/BNT-FF1C', cid='4423670769972200025023869896612986748977-0', fee=0.002, descr='NaN', constr='carb', params={'exchange': 'carbon_v1', 'tknx_dec': 18, 'tkny_dec': 18, 'tknx_addr': '0x48Fb253446873234F2fEBbF9BdeAA72d9d387f94', 'tkny_addr': '0x1F573D6Fb3F13d689FF844B4cE37794d79a7FF1C', 'blocklud': 17257833, 'y': 500.0, 'yint': 500.0, 'A': 0.06206335729259038, 'B': 0.7745966692414825, 'pa': 0.6999999999999955, 'pb': 0.5999999999999986}), ConstantProductCurve(k=61147012.947261415, x=6994.1125496955865, x_act=0, y_act=500.0, pair='BNT-FF1C/vBNT-7f94', cid='4423670769972200025023869896612986748977-1', fee=0.002, descr='NaN', constr='carb', params={'exchange': 'carbon_v1', 'tknx_dec': 18, 'tkny_dec': 18, 'tknx_addr': '0x48Fb253446873234F2fEBbF9BdeAA72d9d387f94', 'tkny_addr': '0x1F573D6Fb3F13d689FF844B4cE37794d79a7FF1C', 'blocklud': 17257833, 'y': 500.0, 'yint': 500.0, 'A': 0.06394143536043373, 'B': 1.0540925533894594, 'pa': 1.2499999999999962, 'pb': 1.1111111111111103}), ConstantProductCurve(k=133175671.23206407, x=12164.089628269861, x_act=0, y_act=0.29194501416216057, pair='vBNT-7f94/BNT-FF1C', cid='4423670769972200025023869896612986748990-0', fee=0.002, descr='NaN', constr='carb', params={'exchange': 'carbon_v1', 'tknx_dec': 18, 'tkny_dec': 18, 'tknx_addr': '0x48Fb253446873234F2fEBbF9BdeAA72d9d387f94', 'tkny_addr': '0x1F573D6Fb3F13d689FF844B4cE37794d79a7FF1C', 'blocklud': 17257833, 'y': 0.29194501416216057, 'yint': 300.0, 'A': 0.025996136430382677, 'B': 0.9486832980505113, 'pa': 0.9499999999999953, 'pb': 0.8999999999999954}), ConstantProductCurve(k=2503196366.233679, x=51267.49637485119, x_act=0, y_act=1122.5911402079187, pair='BNT-FF1C/vBNT-7f94', cid='4423670769972200025023869896612986748990-1', fee=0.002, descr='NaN', constr='carb', params={'exchange': 'carbon_v1', 'tknx_dec': 18, 'tkny_dec': 18, 'tknx_addr': '0x48Fb253446873234F2fEBbF9BdeAA72d9d387f94', 'tkny_addr': '0x1F573D6Fb3F13d689FF844B4cE37794d79a7FF1C', 'blocklud': 17257833, 'y': 1122.5911402079187, 'yint': 1122.5911402079187, 'A': 0.022437483702940852, 'B': 0.9534625892455892, 'pa': 0.9523809523809463, 'pb': 0.9090909090909032}), ConstantProductCurve(k=25311768.73533249, x=1915.2436870942106, x_act=0, y_act=0.385327, pair='LINK-86CA/USDT-1ec7', cid='4763953136893138488487244504044754960408-0', fee=0.002, descr='NaN', constr='carb', params={'exchange': 'carbon_v1', 'tknx_dec': 18, 'tkny_dec': 6, 'tknx_addr': '0x514910771AF9Ca656af840dff83E8264EcF986CA', 'tkny_addr': '0xdAC17F958D2ee523a2206206994597C13D831ec7', 'blocklud': 17257833, 'y': 0.385327, 'yint': 190.16182, 'A': 0.03779741319931418, 'B': 2.626785104098417, 'pa': 7.099999991488714, 'pb': 6.8999999831133305}), ConstantProductCurve(k=68466180.14721192, x=22960.609467815382, x_act=0, y_act=37.98750437334261, pair='USDT-1ec7/LINK-86CA', cid='4763953136893138488487244504044754960408-1', fee=0.002, descr='NaN', constr='carb', params={'exchange': 'carbon_v1', 'tknx_dec': 18, 'tkny_dec': 6, 'tknx_addr': '0x514910771AF9Ca656af840dff83E8264EcF986CA', 'tkny_addr': '0xdAC17F958D2ee523a2206206994597C13D831ec7', 'blocklud': 17257833, 'y': 37.98750437334261, 'yint': 37.98750437334261, 'A': 0.004590951595813075, 'B': 0.35578403348241, 'pa': 0.1298701298701295, 'pb': 0.12658227848101264}), ConstantProductCurve(k=5686102751.16487, x=209922.11965757274, x_act=0, y_act=342.8837613658497, pair='USDC-eB48/LINK-86CA', cid='8847341539944400050047739793225973497903-1', fee=0.002, descr='NaN', constr='carb', params={'exchange': 'carbon_v1', 'tknx_dec': 18, 'tkny_dec': 6, 'tknx_addr': '0x514910771AF9Ca656af840dff83E8264EcF986CA', 'tkny_addr': '0xA0b86991c6218b36c1d19D4a2e9Eb0cE3606eB48', 'blocklud': 17257834, 'y': 342.8837613658497, 'yint': 342.8837613658497, 'A': 0.004547152987593783, 'B': 0.3546634510659538, 'pa': 0.12903225806451454, 'pb': 0.12578616352201222}), ConstantProductCurve(k=6329114550001111.0, x=1265822.7841140397, x_act=0, y_act=500.0, pair='WETH-6Cc2/BNT-FF1C', cid='3743106036130323098097120681749450326030-0', fee=0.002, descr='NaN', constr='carb', params={'exchange': 'carbon_v1', 'tknx_dec': 18, 'tkny_dec': 18, 'tknx_addr': '0xEeeeeEeeeEeEeeEeEeEeeEEEeeeeEeeeeeeeEEeE', 'tkny_addr': '0x1F573D6Fb3F13d689FF844B4cE37794d79a7FF1C', 'blocklud': 17257833, 'y': 500.0, 'yint': 500.0, 'A': 0, 'B': 62.849022307431404, 'pa': 3949.9999999999714, 'pb': 3949.9999999999714}), ConstantProductCurve(k=1250000122918925.8, x=2499999997.9193077, x_act=0, y_act=0.05, pair='BNT-FF1C/WETH-6Cc2', cid='3743106036130323098097120681749450326030-1', fee=0.002, descr='NaN', constr='carb', params={'exchange': 'carbon_v1', 'tknx_dec': 18, 'tkny_dec': 18, 'tknx_addr': '0xEeeeeEeeeEeEeeEeEeEeeEEEeeeeEeeeeeeeEEeE', 'tkny_addr': '0x1F573D6Fb3F13d689FF844B4cE37794d79a7FF1C', 'blocklud': 17257833, 'y': 0.05, 'yint': 0.05, 'A': 0, 'B': 0.014142134916622062, 'pa': 0.00019999999999993891, 'pb': 0.00019999999999993891}), ConstantProductCurve(k=23347479059.924717, x=52931.06353731222, x_act=0, y_act=46567.342174966, pair='USDC-eB48/TSUKA-69eD', cid='6465364971497830805804117541203596017697-1', fee=0.002, descr='NaN', constr='carb', params={'exchange': 'carbon_v1', 'tknx_dec': 9, 'tkny_dec': 6, 'tknx_addr': '0xc5fB36dd2fb59d3B98dEfF88425a3F425Ee469eD', 'tkny_addr': '0xA0b86991c6218b36c1d19D4a2e9Eb0cE3606eB48', 'blocklud': 17257830, 'y': 46567.342174966, 'yint': 46567.342174966, 'A': 0.30476244847651524, 'B': 2.581988897471604, 'pa': 8.333333333333279, 'pb': 6.666666666666629}), ConstantProductCurve(k=2.0418553360895377e+21, x=28578699.283935465, x_act=0, y_act=7144674.823524944, pair='WETH-6Cc2/PEPE-1933', cid='7145929705339707732730866756067132440620-1', fee=0.002, descr='NaN', constr='carb', params={'exchange': 'carbon_v1', 'tknx_dec': 18, 'tkny_dec': 18, 'tknx_addr': '0x6982508145454Ce325dDbE47a25d4ec3d2311933', 'tkny_addr': '0xEeeeeEeeeEeEeeEeEeEeeEEEeeeeEeeeeeeeEEeE', 'blocklud': 17247383, 'y': 7144674.823524944, 'yint': 7144674.823524944, 'A': 0, 'B': 1581.1387510272507, 'pa': 2499999.9999999893, 'pb': 2499999.9999999893}), ConstantProductCurve(k=9.008884997412096e+22, x=1200592127012.2463, x_act=0, y_act=7503.700798507554, pair='USDC-eB48/LYXe-be6D', cid='7486212072260646196194241363498900652071-1', fee=0.002, descr='NaN', constr='carb', params={'exchange': 'carbon_v1', 'tknx_dec': 18, 'tkny_dec': 6, 'tknx_addr': '0xA8b919680258d369114910511cc87595aec0be6D', 'tkny_addr': '0xA0b86991c6218b36c1d19D4a2e9Eb0cE3606eB48', 'blocklud': 17257830, 'y': 7503.700798507554, 'yint': 7503.700798507554, 'A': 0, 'B': 0.24999998750000094, 'pa': 0.0625, 'pb': 0.0625}), ConstantProductCurve(k=7.790859497438693e+19, x=5921052.62876356, x_act=0, y_act=1315789.473685021, pair='WETH-6Cc2/PEPE-1933', cid='7145929705339707732730866756067132440621-1', fee=0.002, descr='NaN', constr='carb', params={'exchange': 'carbon_v1', 'tknx_dec': 18, 'tkny_dec': 18, 'tknx_addr': '0x6982508145454Ce325dDbE47a25d4ec3d2311933', 'tkny_addr': '0xEeeeeEeeeEeEeeEeEeEeeEEEeeeeEeeeeeeeEEeE', 'blocklud': 17247383, 'y': 1315789.473685021, 'yint': 1315789.473685021, 'A': 0, 'B': 1490.7119104642625, 'pa': 2222222.2222222113, 'pb': 2222222.2222222113}), ConstantProductCurve(k=29142.135623749055, x=17071.067811874174, x_act=0, y_act=0.5, pair='LBR-aCcA/WETH-6Cc2', cid='6805647338418769269267492148635364229154-0', fee=0.002, descr='NaN', constr='carb', params={'exchange': 'carbon_v1', 'tknx_dec': 18, 'tkny_dec': 18, 'tknx_addr': '0xC98835e792553e505AE46e73a6fD27a23985aCcA', 'tkny_addr': '0xEeeeeEeeeEeEeeEeEeEeeEEEeeeeEeeeeeeeEEeE', 'blocklud': 17247384, 'y': 0.5, 'yint': 0.5, 'A': 0.002928932188133615, 'B': 0.0070710678118643955, 'pa': 9.999999999996021e-05, 'pb': 4.999999999998473e-05}), ConstantProductCurve(k=144567.18795797415, x=466.7646673972736, x_act=0, y_act=12.760538178735828, pair='MATIC-eBB0/ARB-4ad1', cid='6125082604576892342340742933771827806240-0', fee=0.002, descr='NaN', constr='carb', params={'exchange': 'carbon_v1', 'tknx_dec': 18, 'tkny_dec': 18, 'tknx_addr': '0x7D1AfA7B718fb893dB30A3aBc0Cfc608AaCfeBB0', 'tkny_addr': '0xB50721BCf8d664c30412Cfbc6cf7a15145234ad1', 'blocklud': 17247384, 'y': 12.760538178735828, 'yint': 100.0, 'A': 0.2630056833003884, 'B': 0.781024967590664, 'pa': 1.0899999999999945, 'pb': 0.6099999999999978}), ConstantProductCurve(k=1076728.8636317535, x=868.1648487137845, x_act=0, y_act=202.5800333613675, pair='ARB-4ad1/MATIC-eBB0', cid='6125082604576892342340742933771827806240-1', fee=0.002, descr='NaN', constr='carb', params={'exchange': 'carbon_v1', 'tknx_dec': 18, 'tkny_dec': 18, 'tknx_addr': '0x7D1AfA7B718fb893dB30A3aBc0Cfc608AaCfeBB0', 'tkny_addr': '0xB50721BCf8d664c30412Cfbc6cf7a15145234ad1', 'blocklud': 17247384, 'y': 202.5800333613675, 'yint': 202.5800333613675, 'A': 0.1952286093343929, 'B': 1.0, 'pa': 1.4285714285714268, 'pb': 1.0}), ConstantProductCurve(k=7777069.99908134, x=438.33385802982866, x_act=0, y_act=1243.9362809319896, pair='RPL-A51f/XCHF-fc08', cid='5784800237655953878877368326340059594782-0', fee=0.002, descr='NaN', constr='carb', params={'exchange': 'carbon_v1', 'tknx_dec': 18, 'tkny_dec': 18, 'tknx_addr': '0xD33526068D116cE69F19A9ee46F0bd304F21A51f', 'tkny_addr': '0xB4272071eCAdd69d933AdcD19cA99fe80664fc08', 'blocklud': 17247384, 'y': 1243.9362809319896, 'yint': 2000.0, 'A': 0.7171697976111773, 'B': 5.916079783099605, 'pa': 43.999999999999766, 'pb': 34.999999999999865})])\n"
     ]
    }
   ],
   "source": [
    "used_curves = [\n",
    "    # '340282366920938463463374607431768211527-0', #actually deleted from carbon\n",
    "    # '340282366920938463463374607431768211527-1', #actually deleted from carbon\n",
    "    # '2722258935367507707706996859454145691730-1',\n",
    "    # '1701411834604692317316873037158841057360-1',\n",
    "    # '1701411834604692317316873037158841057360-0',\n",
    "    # '9187623906865338513511114400657741709390-0',\n",
    "    # '12590447576074723148144860474975423823947-0',\n",
    "    # '13951577043758477001998358904702496669779-1'\n",
    "]\n",
    "subcurves = [x for x in CCm if x.cid not in used_curves]\n",
    "no_0x0 = [x for x in subcurves if '0x0-1AD5' not in x.pair]\n",
    "CCm2 = CPCContainer([x for x in no_0x0 if x.params.exchange not in ['bancor_v2']])\n",
    "len(CCm2)\n",
    "print(CCm2)"
   ]
  },
  {
   "cell_type": "code",
   "execution_count": 5,
   "id": "b397bc36",
   "metadata": {
    "ExecuteTime": {
     "end_time": "2023-05-14T11:33:19.981911800Z",
     "start_time": "2023-05-14T11:33:19.971944500Z"
    }
   },
   "outputs": [
    {
     "data": {
      "text/plain": "21"
     },
     "execution_count": 5,
     "metadata": {},
     "output_type": "execute_result"
    }
   ],
   "source": [
    "pairs = [x.pair.split('/') for x in CCm if x.params.exchange == 'carbon_v1']\n",
    "len(set([x for itm in pairs for x in itm]))"
   ]
  },
  {
   "cell_type": "code",
   "execution_count": 6,
   "id": "79ed1618",
   "metadata": {
    "ExecuteTime": {
     "end_time": "2023-05-14T11:33:21.494833500Z",
     "start_time": "2023-05-14T11:33:21.484865100Z"
    }
   },
   "outputs": [
    {
     "data": {
      "text/plain": "39"
     },
     "execution_count": 6,
     "metadata": {},
     "output_type": "execute_result"
    }
   ],
   "source": [
    "pairs = [x.pair for x in CCm if x.params.exchange == 'carbon_v1']\n",
    "len(set(pairs))"
   ]
  },
  {
   "cell_type": "code",
   "execution_count": 14,
   "id": "6445f9db",
   "metadata": {
    "ExecuteTime": {
     "end_time": "2023-05-14T11:35:23.697644800Z",
     "start_time": "2023-05-14T11:35:23.670714400Z"
    }
   },
   "outputs": [
    {
     "ename": "AttributeError",
     "evalue": "'NoneType' object has no attribute 'p'",
     "output_type": "error",
     "traceback": [
      "\u001B[1;31m---------------------------------------------------------------------------\u001B[0m",
      "\u001B[1;31mAttributeError\u001B[0m                            Traceback (most recent call last)",
      "Cell \u001B[1;32mIn [14], line 1\u001B[0m\n\u001B[1;32m----> 1\u001B[0m \u001B[43mCCm\u001B[49m\u001B[38;5;241;43m.\u001B[39;49m\u001B[43mbycid\u001B[49m\u001B[43m(\u001B[49m\u001B[38;5;124;43m\"\u001B[39;49m\u001B[38;5;124;43m5784800237655953878877368326340059594782\u001B[39;49m\u001B[38;5;124;43m\"\u001B[39;49m\u001B[43m)\u001B[49m\u001B[38;5;241;43m.\u001B[39;49m\u001B[43mp\u001B[49m\n",
      "\u001B[1;31mAttributeError\u001B[0m: 'NoneType' object has no attribute 'p'"
     ]
    }
   ],
   "source": [
    "CCm.bycid(\"5784800237655953878877368326340059594782\").p"
   ]
  },
  {
   "cell_type": "code",
   "execution_count": 10,
   "id": "9a8100d3",
   "metadata": {
    "ExecuteTime": {
     "end_time": "2023-05-14T11:33:48.087997700Z",
     "start_time": "2023-05-14T11:33:48.058098100Z"
    }
   },
   "outputs": [
    {
     "ename": "AttributeError",
     "evalue": "'NoneType' object has no attribute 'p'",
     "output_type": "error",
     "traceback": [
      "\u001B[1;31m---------------------------------------------------------------------------\u001B[0m",
      "\u001B[1;31mAttributeError\u001B[0m                            Traceback (most recent call last)",
      "Cell \u001B[1;32mIn [10], line 1\u001B[0m\n\u001B[1;32m----> 1\u001B[0m \u001B[43mCCm\u001B[49m\u001B[38;5;241;43m.\u001B[39;49m\u001B[43mbycid\u001B[49m\u001B[43m(\u001B[49m\u001B[38;5;124;43m\"\u001B[39;49m\u001B[38;5;124;43m5d5cebf33c0049258c40db6bc90b1558\u001B[39;49m\u001B[38;5;124;43m\"\u001B[39;49m\u001B[43m)\u001B[49m\u001B[38;5;241;43m.\u001B[39;49m\u001B[43mp\u001B[49m\n",
      "\u001B[1;31mAttributeError\u001B[0m: 'NoneType' object has no attribute 'p'"
     ]
    }
   ],
   "source": [
    "CCm.bycid(\"5d5cebf33c0049258c40db6bc90b1558\").p"
   ]
  },
  {
   "cell_type": "code",
   "execution_count": 9,
   "id": "21a0e86c",
   "metadata": {
    "ExecuteTime": {
     "end_time": "2023-05-10T07:08:41.904998Z",
     "start_time": "2023-05-10T07:08:41.890767200Z"
    }
   },
   "outputs": [],
   "source": [
    "# CCm.bycid(\"9a52c5bdef1c402497d1c4f5d7501f61\").p"
   ]
  },
  {
   "cell_type": "code",
   "execution_count": 10,
   "id": "7cae2ba6",
   "metadata": {
    "ExecuteTime": {
     "end_time": "2023-05-10T07:08:41.932997900Z",
     "start_time": "2023-05-10T07:08:41.904998Z"
    }
   },
   "outputs": [
    {
     "data": {
      "text/plain": "30899.999999999673"
     },
     "execution_count": 10,
     "metadata": {},
     "output_type": "execute_result"
    }
   ],
   "source": [
    "CCm.bycid(\"12590447576074723148144860474975423823947-0\").p"
   ]
  },
  {
   "cell_type": "code",
   "execution_count": 16,
   "id": "11a64563",
   "metadata": {
    "ExecuteTime": {
     "end_time": "2023-05-14T11:35:48.391962900Z",
     "start_time": "2023-05-14T11:35:48.379997400Z"
    }
   },
   "outputs": [
    {
     "ename": "AttributeError",
     "evalue": "'NoneType' object has no attribute 'p'",
     "output_type": "error",
     "traceback": [
      "\u001B[1;31m---------------------------------------------------------------------------\u001B[0m",
      "\u001B[1;31mAttributeError\u001B[0m                            Traceback (most recent call last)",
      "Cell \u001B[1;32mIn [16], line 1\u001B[0m\n\u001B[1;32m----> 1\u001B[0m \u001B[38;5;241m1\u001B[39m\u001B[38;5;241m/\u001B[39m\u001B[43mCCm\u001B[49m\u001B[38;5;241;43m.\u001B[39;49m\u001B[43mbycid\u001B[49m\u001B[43m(\u001B[49m\u001B[38;5;124;43m\"\u001B[39;49m\u001B[38;5;124;43m12590447576074723148144860474975423823947-1\u001B[39;49m\u001B[38;5;124;43m\"\u001B[39;49m\u001B[43m)\u001B[49m\u001B[38;5;241;43m.\u001B[39;49m\u001B[43mp\u001B[49m\n",
      "\u001B[1;31mAttributeError\u001B[0m: 'NoneType' object has no attribute 'p'"
     ]
    }
   ],
   "source": [
    "1/CCm.bycid(\"12590447576074723148144860474975423823947-1\").p"
   ]
  },
  {
   "attachments": {},
   "cell_type": "markdown",
   "id": "5a26c4b4",
   "metadata": {},
   "source": [
    "## Actual run"
   ]
  },
  {
   "cell_type": "code",
   "execution_count": 17,
   "id": "cab33dc6",
   "metadata": {
    "ExecuteTime": {
     "end_time": "2023-05-14T11:35:51.141885800Z",
     "start_time": "2023-05-14T11:35:51.125938800Z"
    }
   },
   "outputs": [],
   "source": [
    "flt = [T.USDC, T.USDT, T.ETH, T.LINK, T.BNT, T.WBTC, T.DAI]\n",
    "# bot._run(flashloan_tokens=flt, CCm=CCm2)"
   ]
  },
  {
   "attachments": {},
   "cell_type": "markdown",
   "id": "5f2f01c5",
   "metadata": {},
   "source": [
    "## Analytics"
   ]
  },
  {
   "cell_type": "code",
   "execution_count": 13,
   "id": "1419695c",
   "metadata": {
    "ExecuteTime": {
     "end_time": "2023-05-10T07:08:44.678899700Z",
     "start_time": "2023-05-10T07:08:41.951997900Z"
    }
   },
   "outputs": [
    {
     "name": "stderr",
     "output_type": "stream",
     "text": [
      "C:\\Users\\Kveen\\PycharmProjects\\carbonbot\\resources\\NBTest\\fastlane_bot\\tools\\optimizer.py:1310: RuntimeWarning: divide by zero encountered in scalar divide\n",
      "  price = get(p, tokens_ix.get(tknb)) / get(p, tokens_ix.get(tknq))\n",
      "C:\\Users\\Kveen\\PycharmProjects\\carbonbot\\resources\\NBTest\\fastlane_bot\\tools\\optimizer.py:1310: RuntimeWarning: divide by zero encountered in scalar divide\n",
      "  price = get(p, tokens_ix.get(tknb)) / get(p, tokens_ix.get(tknq))\n",
      "C:\\Users\\Kveen\\PycharmProjects\\carbonbot\\resources\\NBTest\\fastlane_bot\\tools\\optimizer.py:1157: RuntimeWarning: invalid value encountered in subtract\n",
      "  jac[:, j] = (func(x_plus) - y) / Dxj\n",
      "C:\\Users\\Kveen\\PycharmProjects\\carbonbot\\resources\\NBTest\\fastlane_bot\\tools\\optimizer.py:1310: RuntimeWarning: divide by zero encountered in scalar divide\n",
      "  price = get(p, tokens_ix.get(tknb)) / get(p, tokens_ix.get(tknq))\n",
      "C:\\Users\\Kveen\\PycharmProjects\\carbonbot\\resources\\NBTest\\fastlane_bot\\tools\\optimizer.py:1157: RuntimeWarning: invalid value encountered in subtract\n",
      "  jac[:, j] = (func(x_plus) - y) / Dxj\n",
      "C:\\Users\\Kveen\\PycharmProjects\\carbonbot\\resources\\NBTest\\fastlane_bot\\tools\\optimizer.py:1310: RuntimeWarning: divide by zero encountered in scalar divide\n",
      "  price = get(p, tokens_ix.get(tknb)) / get(p, tokens_ix.get(tknq))\n",
      "C:\\Users\\Kveen\\PycharmProjects\\carbonbot\\resources\\NBTest\\fastlane_bot\\tools\\optimizer.py:1157: RuntimeWarning: invalid value encountered in subtract\n",
      "  jac[:, j] = (func(x_plus) - y) / Dxj\n",
      "C:\\Users\\Kveen\\PycharmProjects\\carbonbot\\resources\\NBTest\\fastlane_bot\\tools\\optimizer.py:1310: RuntimeWarning: divide by zero encountered in scalar divide\n",
      "  price = get(p, tokens_ix.get(tknb)) / get(p, tokens_ix.get(tknq))\n",
      "C:\\Users\\Kveen\\PycharmProjects\\carbonbot\\resources\\NBTest\\fastlane_bot\\tools\\optimizer.py:1157: RuntimeWarning: invalid value encountered in subtract\n",
      "  jac[:, j] = (func(x_plus) - y) / Dxj\n",
      "C:\\Users\\Kveen\\PycharmProjects\\carbonbot\\resources\\NBTest\\fastlane_bot\\tools\\optimizer.py:1310: RuntimeWarning: divide by zero encountered in scalar divide\n",
      "  price = get(p, tokens_ix.get(tknb)) / get(p, tokens_ix.get(tknq))\n",
      "C:\\Users\\Kveen\\PycharmProjects\\carbonbot\\resources\\NBTest\\fastlane_bot\\tools\\optimizer.py:1157: RuntimeWarning: invalid value encountered in subtract\n",
      "  jac[:, j] = (func(x_plus) - y) / Dxj\n"
     ]
    }
   ],
   "source": [
    "ops = bot._find_arbitrage_opportunities_carbon_multi(flashloan_tokens=flt, CCm=CCm2, result=bot.XS_ARBOPPS)"
   ]
  },
  {
   "cell_type": "code",
   "execution_count": 14,
   "id": "95b2c699",
   "metadata": {
    "ExecuteTime": {
     "end_time": "2023-05-10T07:08:44.694369Z",
     "start_time": "2023-05-10T07:08:44.681291100Z"
    }
   },
   "outputs": [
    {
     "data": {
      "text/plain": "(Decimal('3102.80044689130423009628185870460153082455931339289634252054383978247642517090'),\n                                              WETH-6Cc2     UNI-F984\n e7dfee0364fb40f2b959ec0020f9a7ea              9.133758 -3311.347195\n 13951577043758477001998358904702496669779-0  -9.934041  3311.347183\n AMMIn                                         9.133758  3311.347183\n AMMOut                                       -9.934041 -3311.347195\n TOTAL NET                                    -0.800283    -0.000012,\n [{'cid': 'e7dfee0364fb40f2b959ec0020f9a7ea',\n   'tknin': 'WETH-6Cc2',\n   'amtin': 9.133758152220253,\n   'tknout': 'UNI-F984',\n   'amtout': -3311.347195478156,\n   'error': None},\n  {'cid': '13951577043758477001998358904702496669779-0',\n   'tknin': 'UNI-F984',\n   'amtin': 3311.347183227539,\n   'tknout': 'WETH-6Cc2',\n   'amtout': -9.934041053056717,\n   'error': None}],\n 'WETH-6Cc2',\n (CPCArbOptimizer.TradeInstruction(cid='e7dfee0364fb40f2b959ec0020f9a7ea', tknin='WETH-6Cc2', amtin=9.133758152220253, tknout='UNI-F984', amtout=-3311.347195478156, error=None),\n  CPCArbOptimizer.TradeInstruction(cid='13951577043758477001998358904702496669779-0', tknin='UNI-F984', amtin=3311.347183227539, tknout='WETH-6Cc2', amtout=-9.934041053056717, error=None)))"
     },
     "execution_count": 14,
     "metadata": {},
     "output_type": "execute_result"
    }
   ],
   "source": [
    "ops"
   ]
  },
  {
   "cell_type": "code",
   "execution_count": 15,
   "id": "60b235ca",
   "metadata": {
    "ExecuteTime": {
     "end_time": "2023-05-10T07:08:44.712873600Z",
     "start_time": "2023-05-10T07:08:44.695375500Z"
    }
   },
   "outputs": [],
   "source": [
    "# ord = bot._run(flashloan_tokens=flt, CCm=CCm2, result=bot.XS_ORDSCAL)\n",
    "# ord"
   ]
  },
  {
   "cell_type": "code",
   "execution_count": 16,
   "id": "fcb66e42",
   "metadata": {
    "ExecuteTime": {
     "end_time": "2023-05-10T07:08:44.725873200Z",
     "start_time": "2023-05-10T07:08:44.710873600Z"
    }
   },
   "outputs": [],
   "source": [
    "# ti = bot._run(flashloan_tokens=flt, CCm=CCm2, result=bot.XS_TI)\n",
    "# ti"
   ]
  },
  {
   "cell_type": "code",
   "execution_count": 17,
   "id": "f4d25fb2",
   "metadata": {
    "ExecuteTime": {
     "end_time": "2023-05-10T07:08:44.742873500Z",
     "start_time": "2023-05-10T07:08:44.726890500Z"
    }
   },
   "outputs": [],
   "source": [
    "# ti"
   ]
  },
  {
   "cell_type": "code",
   "execution_count": 18,
   "id": "b9217711",
   "metadata": {
    "ExecuteTime": {
     "end_time": "2023-05-10T07:08:44.757873300Z",
     "start_time": "2023-05-10T07:08:44.742873500Z"
    }
   },
   "outputs": [],
   "source": [
    "# ops = bot._find_arbitrage_opportunities(flashloan_tokens=flt, CCm=CCm, result=bot.AO_CANDIDATES)\n",
    "# ops"
   ]
  },
  {
   "cell_type": "code",
   "execution_count": 19,
   "id": "93eff72b",
   "metadata": {
    "ExecuteTime": {
     "end_time": "2023-05-10T07:08:44.772873500Z",
     "start_time": "2023-05-10T07:08:44.757873300Z"
    }
   },
   "outputs": [],
   "source": [
    "# candf = pd.DataFrame(ops).sort_values(by=0, ascending=False)\n",
    "# candf.reset_index(inplace=True, drop=True)\n",
    "# candf.iloc[5][1]"
   ]
  },
  {
   "cell_type": "code",
   "execution_count": 20,
   "id": "b933a3e3",
   "metadata": {
    "ExecuteTime": {
     "end_time": "2023-05-10T07:08:44.787874600Z",
     "start_time": "2023-05-10T07:08:44.773873300Z"
    }
   },
   "outputs": [],
   "source": [
    "# candf.iloc[0][0]"
   ]
  },
  {
   "cell_type": "code",
   "execution_count": 21,
   "id": "5382d20f",
   "metadata": {
    "ExecuteTime": {
     "end_time": "2023-05-10T07:08:48.265754700Z",
     "start_time": "2023-05-10T07:08:44.787874600Z"
    }
   },
   "outputs": [
    {
     "name": "stderr",
     "output_type": "stream",
     "text": [
      "C:\\Users\\Kveen\\PycharmProjects\\carbonbot\\resources\\NBTest\\fastlane_bot\\tools\\optimizer.py:1310: RuntimeWarning: divide by zero encountered in scalar divide\n",
      "  price = get(p, tokens_ix.get(tknb)) / get(p, tokens_ix.get(tknq))\n",
      "C:\\Users\\Kveen\\PycharmProjects\\carbonbot\\resources\\NBTest\\fastlane_bot\\tools\\optimizer.py:1310: RuntimeWarning: divide by zero encountered in scalar divide\n",
      "  price = get(p, tokens_ix.get(tknb)) / get(p, tokens_ix.get(tknq))\n",
      "C:\\Users\\Kveen\\PycharmProjects\\carbonbot\\resources\\NBTest\\fastlane_bot\\tools\\optimizer.py:1157: RuntimeWarning: invalid value encountered in subtract\n",
      "  jac[:, j] = (func(x_plus) - y) / Dxj\n",
      "C:\\Users\\Kveen\\PycharmProjects\\carbonbot\\resources\\NBTest\\fastlane_bot\\tools\\optimizer.py:1310: RuntimeWarning: divide by zero encountered in scalar divide\n",
      "  price = get(p, tokens_ix.get(tknb)) / get(p, tokens_ix.get(tknq))\n",
      "C:\\Users\\Kveen\\PycharmProjects\\carbonbot\\resources\\NBTest\\fastlane_bot\\tools\\optimizer.py:1157: RuntimeWarning: invalid value encountered in subtract\n",
      "  jac[:, j] = (func(x_plus) - y) / Dxj\n",
      "C:\\Users\\Kveen\\PycharmProjects\\carbonbot\\resources\\NBTest\\fastlane_bot\\tools\\optimizer.py:1310: RuntimeWarning: divide by zero encountered in scalar divide\n",
      "  price = get(p, tokens_ix.get(tknb)) / get(p, tokens_ix.get(tknq))\n",
      "C:\\Users\\Kveen\\PycharmProjects\\carbonbot\\resources\\NBTest\\fastlane_bot\\tools\\optimizer.py:1157: RuntimeWarning: invalid value encountered in subtract\n",
      "  jac[:, j] = (func(x_plus) - y) / Dxj\n",
      "C:\\Users\\Kveen\\PycharmProjects\\carbonbot\\resources\\NBTest\\fastlane_bot\\tools\\optimizer.py:1310: RuntimeWarning: divide by zero encountered in scalar divide\n",
      "  price = get(p, tokens_ix.get(tknb)) / get(p, tokens_ix.get(tknq))\n",
      "C:\\Users\\Kveen\\PycharmProjects\\carbonbot\\resources\\NBTest\\fastlane_bot\\tools\\optimizer.py:1157: RuntimeWarning: invalid value encountered in subtract\n",
      "  jac[:, j] = (func(x_plus) - y) / Dxj\n",
      "C:\\Users\\Kveen\\PycharmProjects\\carbonbot\\resources\\NBTest\\fastlane_bot\\tools\\optimizer.py:1310: RuntimeWarning: divide by zero encountered in scalar divide\n",
      "  price = get(p, tokens_ix.get(tknb)) / get(p, tokens_ix.get(tknq))\n",
      "C:\\Users\\Kveen\\PycharmProjects\\carbonbot\\resources\\NBTest\\fastlane_bot\\tools\\optimizer.py:1157: RuntimeWarning: invalid value encountered in subtract\n",
      "  jac[:, j] = (func(x_plus) - y) / Dxj\n"
     ]
    },
    {
     "name": "stdout",
     "output_type": "stream",
     "text": [
      "[_calc_carbon_output] before decode:  9934041052273934470 20890099991068244000 0 15417019411766\n",
      "[_calc_carbon_output] after decode:  9.93404105227393447 20.890099991068244 0.0 0.05477225575051392\n"
     ]
    },
    {
     "data": {
      "text/plain": "[TradeInstruction(ConfigObj=Config(network=_ConfigNetworkTenderly(), db=_ConfigDBPostgres(), logger=_ConfigLoggerDefault(), provider=_ConfigProviderTenderly()), cid='e7dfee0364fb40f2b959ec0020f9a7ea', tknin='WETH-6Cc2', amtin=Decimal('9.124624394068032'), tknout='UNI-F984', amtout=Decimal('3298.118781339736503394'), pair_sorting='', raw_txs='[]', custom_data='', db=DatabaseManager(ConfigObj=Config(network=_ConfigNetworkTenderly(), db=_ConfigDBPostgres(), logger=_ConfigLoggerDefault(), provider=_ConfigProviderTenderly()), contracts={}, filters=[], data=                                       cid                last_updated  \\\n 0     00125d26-4f9d-4936-9a46-7e7708cee9b5  2023-05-06 19:04:10.202420   \n 1219  5bbd01d2-ba90-49e8-8235-0f5183a44204  2023-05-06 19:11:11.844129   \n 1231  5c976f61-5847-4219-a2ee-0b1eb96b2775  2023-05-06 19:18:59.176213   \n 1230  5c87da80-15a0-4c59-baac-e8e9661ee920  2023-05-06 19:00:47.931782   \n 2635  c21eb1b9-cf04-4ec5-bad1-77fb1b29b38b  2023-05-06 19:13:37.076908   \n ...                                    ...                         ...   \n 1725  7ec3e511-0223-44ad-b5bf-e5a9a44158ff  2023-05-06 19:49:57.489499   \n 2302  a943c6e9-686b-4879-8118-b3c3affac2d8  2023-05-06 19:50:26.949196   \n 2771  ccc50a59-3e99-4dc5-9e28-a3fdc32cc832  2023-05-06 19:50:06.921640   \n 2769  ccb53832-8d07-4e16-8225-83b9de4767c4  2023-05-06 19:50:07.452203   \n 2054  97926fa0-7343-4677-8309-900947f76d6b  2023-05-06 19:49:49.198008   \n \n       last_updated_block                                     address  \\\n 0               17203475  0x7BeA39867e4169DBe237d55C8242a8f2fcDcc387   \n 1219            17203475  0x75099758a9D1f43198043825c8Fbcf8A12Be7a74   \n 1231            17203475  0x1c774B48Cd31dcF9FcB4bBb8FF52A8c4B4094C3d   \n 1230            17203475  0x19c10E1F20df3a8c2AC93a62d7FBA719fa777026   \n 2635            17203475  0xdb6897039084A2f8fb2b719716bA7A734f84aa66   \n ...                  ...                                         ...   \n 1725            17203475  0x931D1bF09f81B426fBe4CFDFab0b825b308c8db1   \n 2302            17203475  0xB521525b2E6Ad8Ef4c03E747B4541F366E5b8035   \n 2771            17203475  0x0A3DF697e872aB920f305dB00450c0A372E6C970   \n 2769            17203475  0x3870Ce6642959E3D844837Fd472E717736E06AAe   \n 2054            17203475  0x5bA42FaCDBc4aEAe6bEFcc567fd62e9242Fc69Ad   \n \n      exchange_name  exchange_id        fee  fee_float              pair_name  \\\n 0       uniswap_v3            4  10000.000      0.010    USDC-eB48/WETH-6Cc2   \n 1219    uniswap_v3            4  10000.000      0.010    sifu-C313/USDT-1ec7   \n 1231    uniswap_v3            4  10000.000      0.010     NYM-90e1/WETH-6Cc2   \n 1230    uniswap_v3            4  10000.000      0.010    DINO-c68F/WETH-6Cc2   \n 2635    uniswap_v3            4  10000.000      0.010    MEGA-B10E/WETH-6Cc2   \n ...            ...          ...        ...        ...                    ...   \n 1725     bancor_v2            0      0.003      0.003      BNT-FF1C/DIP-cD83   \n 2302     bancor_v2            0      0.003      0.003  BNT-FF1C/SHEESHA-E768   \n 2771     bancor_v2            0      0.003      0.003    BNT-FF1C/INDEX-4cab   \n 2769     bancor_v2            0      0.003      0.003     BNT-FF1C/EDEN-1559   \n 2054     bancor_v2            0      0.003      0.003     AAVE-DaE9/BNT-FF1C   \n \n                                     tkn0_address  ...     liquidity z_0 y_0  \\\n 0     0xA0b86991c6218b36c1d19D4a2e9Eb0cE3606eB48  ...  9.531908e+16 NaN NaN   \n 1219  0x29127fE04ffa4c32AcAC0fFe17280ABD74eAC313  ...  1.316793e+18 NaN NaN   \n 1231  0x525A8F6F3Ba4752868cde25164382BfbaE3990e1  ...  1.037216e+15 NaN NaN   \n 1230  0x49642110B712C1FD7261Bc074105E9E44676c68F  ...  2.504773e+22 NaN NaN   \n 2635  0x1892F6ff5FBE11c31158F8c6f6F6e33106c5B10E  ...  1.657896e+21 NaN NaN   \n ...                                          ...  ...           ...  ..  ..   \n 1725  0x1F573D6Fb3F13d689FF844B4cE37794d79a7FF1C  ...           NaN NaN NaN   \n 2302  0x1F573D6Fb3F13d689FF844B4cE37794d79a7FF1C  ...           NaN NaN NaN   \n 2771  0x1F573D6Fb3F13d689FF844B4cE37794d79a7FF1C  ...           NaN NaN NaN   \n 2769  0x1F573D6Fb3F13d689FF844B4cE37794d79a7FF1C  ...           NaN NaN NaN   \n 2054  0x7Fc66500c84A76Ad7e9c93437bFc5Ac33E2DDaE9  ...           NaN NaN NaN   \n \n      A_0 B_0  z_1  y_1  A_1  B_1                                  descr  \n 0    NaN NaN  NaN  NaN  NaN  NaN   uniswap_v3 USDC-eB48/WETH-6Cc2 10000  \n 1219 NaN NaN  NaN  NaN  NaN  NaN   uniswap_v3 sifu-C313/USDT-1ec7 10000  \n 1231 NaN NaN  NaN  NaN  NaN  NaN    uniswap_v3 NYM-90e1/WETH-6Cc2 10000  \n 1230 NaN NaN  NaN  NaN  NaN  NaN   uniswap_v3 DINO-c68F/WETH-6Cc2 10000  \n 2635 NaN NaN  NaN  NaN  NaN  NaN   uniswap_v3 MEGA-B10E/WETH-6Cc2 10000  \n ...   ..  ..  ...  ...  ...  ...                                    ...  \n 1725 NaN NaN  NaN  NaN  NaN  NaN      bancor_v2 BNT-FF1C/DIP-cD83 0.003  \n 2302 NaN NaN  NaN  NaN  NaN  NaN  bancor_v2 BNT-FF1C/SHEESHA-E768 0.003  \n 2771 NaN NaN  NaN  NaN  NaN  NaN    bancor_v2 BNT-FF1C/INDEX-4cab 0.003  \n 2769 NaN NaN  NaN  NaN  NaN  NaN     bancor_v2 BNT-FF1C/EDEN-1559 0.003  \n 2054 NaN NaN  NaN  NaN  NaN  NaN     bancor_v2 AAVE-DaE9/BNT-FF1C 0.003  \n \n [3550 rows x 32 columns]), tknin_dec_override=None, tknout_dec_override=None, tknin_addr_override=None, tknout_addr_override=None, exchange_override=None, _amtin_wei=9124624394068032000, _amtout_wei=3298118781339736503394),\n TradeInstruction(ConfigObj=Config(network=_ConfigNetworkTenderly(), db=_ConfigDBPostgres(), logger=_ConfigLoggerDefault(), provider=_ConfigProviderTenderly()), cid='13951577043758477001998358904702496669779', tknin='UNI-F984', amtin=Decimal('3298.118781339736503394'), tknout='WETH-6Cc2', amtout=Decimal('9.874567631330200677'), pair_sorting='', raw_txs='[]', custom_data='', db=DatabaseManager(ConfigObj=Config(network=_ConfigNetworkTenderly(), db=_ConfigDBPostgres(), logger=_ConfigLoggerDefault(), provider=_ConfigProviderTenderly()), contracts={}, filters=[], data=                                       cid                last_updated  \\\n 0     00125d26-4f9d-4936-9a46-7e7708cee9b5  2023-05-06 19:04:10.202420   \n 1219  5bbd01d2-ba90-49e8-8235-0f5183a44204  2023-05-06 19:11:11.844129   \n 1231  5c976f61-5847-4219-a2ee-0b1eb96b2775  2023-05-06 19:18:59.176213   \n 1230  5c87da80-15a0-4c59-baac-e8e9661ee920  2023-05-06 19:00:47.931782   \n 2635  c21eb1b9-cf04-4ec5-bad1-77fb1b29b38b  2023-05-06 19:13:37.076908   \n ...                                    ...                         ...   \n 1725  7ec3e511-0223-44ad-b5bf-e5a9a44158ff  2023-05-06 19:49:57.489499   \n 2302  a943c6e9-686b-4879-8118-b3c3affac2d8  2023-05-06 19:50:26.949196   \n 2771  ccc50a59-3e99-4dc5-9e28-a3fdc32cc832  2023-05-06 19:50:06.921640   \n 2769  ccb53832-8d07-4e16-8225-83b9de4767c4  2023-05-06 19:50:07.452203   \n 2054  97926fa0-7343-4677-8309-900947f76d6b  2023-05-06 19:49:49.198008   \n \n       last_updated_block                                     address  \\\n 0               17203475  0x7BeA39867e4169DBe237d55C8242a8f2fcDcc387   \n 1219            17203475  0x75099758a9D1f43198043825c8Fbcf8A12Be7a74   \n 1231            17203475  0x1c774B48Cd31dcF9FcB4bBb8FF52A8c4B4094C3d   \n 1230            17203475  0x19c10E1F20df3a8c2AC93a62d7FBA719fa777026   \n 2635            17203475  0xdb6897039084A2f8fb2b719716bA7A734f84aa66   \n ...                  ...                                         ...   \n 1725            17203475  0x931D1bF09f81B426fBe4CFDFab0b825b308c8db1   \n 2302            17203475  0xB521525b2E6Ad8Ef4c03E747B4541F366E5b8035   \n 2771            17203475  0x0A3DF697e872aB920f305dB00450c0A372E6C970   \n 2769            17203475  0x3870Ce6642959E3D844837Fd472E717736E06AAe   \n 2054            17203475  0x5bA42FaCDBc4aEAe6bEFcc567fd62e9242Fc69Ad   \n \n      exchange_name  exchange_id        fee  fee_float              pair_name  \\\n 0       uniswap_v3            4  10000.000      0.010    USDC-eB48/WETH-6Cc2   \n 1219    uniswap_v3            4  10000.000      0.010    sifu-C313/USDT-1ec7   \n 1231    uniswap_v3            4  10000.000      0.010     NYM-90e1/WETH-6Cc2   \n 1230    uniswap_v3            4  10000.000      0.010    DINO-c68F/WETH-6Cc2   \n 2635    uniswap_v3            4  10000.000      0.010    MEGA-B10E/WETH-6Cc2   \n ...            ...          ...        ...        ...                    ...   \n 1725     bancor_v2            0      0.003      0.003      BNT-FF1C/DIP-cD83   \n 2302     bancor_v2            0      0.003      0.003  BNT-FF1C/SHEESHA-E768   \n 2771     bancor_v2            0      0.003      0.003    BNT-FF1C/INDEX-4cab   \n 2769     bancor_v2            0      0.003      0.003     BNT-FF1C/EDEN-1559   \n 2054     bancor_v2            0      0.003      0.003     AAVE-DaE9/BNT-FF1C   \n \n                                     tkn0_address  ...     liquidity z_0 y_0  \\\n 0     0xA0b86991c6218b36c1d19D4a2e9Eb0cE3606eB48  ...  9.531908e+16 NaN NaN   \n 1219  0x29127fE04ffa4c32AcAC0fFe17280ABD74eAC313  ...  1.316793e+18 NaN NaN   \n 1231  0x525A8F6F3Ba4752868cde25164382BfbaE3990e1  ...  1.037216e+15 NaN NaN   \n 1230  0x49642110B712C1FD7261Bc074105E9E44676c68F  ...  2.504773e+22 NaN NaN   \n 2635  0x1892F6ff5FBE11c31158F8c6f6F6e33106c5B10E  ...  1.657896e+21 NaN NaN   \n ...                                          ...  ...           ...  ..  ..   \n 1725  0x1F573D6Fb3F13d689FF844B4cE37794d79a7FF1C  ...           NaN NaN NaN   \n 2302  0x1F573D6Fb3F13d689FF844B4cE37794d79a7FF1C  ...           NaN NaN NaN   \n 2771  0x1F573D6Fb3F13d689FF844B4cE37794d79a7FF1C  ...           NaN NaN NaN   \n 2769  0x1F573D6Fb3F13d689FF844B4cE37794d79a7FF1C  ...           NaN NaN NaN   \n 2054  0x7Fc66500c84A76Ad7e9c93437bFc5Ac33E2DDaE9  ...           NaN NaN NaN   \n \n      A_0 B_0  z_1  y_1  A_1  B_1                                  descr  \n 0    NaN NaN  NaN  NaN  NaN  NaN   uniswap_v3 USDC-eB48/WETH-6Cc2 10000  \n 1219 NaN NaN  NaN  NaN  NaN  NaN   uniswap_v3 sifu-C313/USDT-1ec7 10000  \n 1231 NaN NaN  NaN  NaN  NaN  NaN    uniswap_v3 NYM-90e1/WETH-6Cc2 10000  \n 1230 NaN NaN  NaN  NaN  NaN  NaN   uniswap_v3 DINO-c68F/WETH-6Cc2 10000  \n 2635 NaN NaN  NaN  NaN  NaN  NaN   uniswap_v3 MEGA-B10E/WETH-6Cc2 10000  \n ...   ..  ..  ...  ...  ...  ...                                    ...  \n 1725 NaN NaN  NaN  NaN  NaN  NaN      bancor_v2 BNT-FF1C/DIP-cD83 0.003  \n 2302 NaN NaN  NaN  NaN  NaN  NaN  bancor_v2 BNT-FF1C/SHEESHA-E768 0.003  \n 2771 NaN NaN  NaN  NaN  NaN  NaN    bancor_v2 BNT-FF1C/INDEX-4cab 0.003  \n 2769 NaN NaN  NaN  NaN  NaN  NaN     bancor_v2 BNT-FF1C/EDEN-1559 0.003  \n 2054 NaN NaN  NaN  NaN  NaN  NaN     bancor_v2 AAVE-DaE9/BNT-FF1C 0.003  \n \n [3550 rows x 32 columns]), tknin_dec_override=None, tknout_dec_override=None, tknin_addr_override=None, tknout_addr_override=None, exchange_override=None, _amtin_wei=3298118781339736503394, _amtout_wei=9874567631330200677)]"
     },
     "execution_count": 21,
     "metadata": {},
     "output_type": "execute_result"
    }
   ],
   "source": [
    "exact = bot._run(flashloan_tokens=flt, CCm=CCm2, result=bot.XS_EXACT)\n",
    "exact"
   ]
  },
  {
   "cell_type": "code",
   "execution_count": 22,
   "id": "9cb66ee5",
   "metadata": {
    "ExecuteTime": {
     "end_time": "2023-05-10T07:08:48.272754900Z",
     "start_time": "2023-05-10T07:08:48.247756Z"
    }
   },
   "outputs": [],
   "source": [
    "# agg = bot._run(flashloan_tokens=flt, CCm=CCm, result=bot.XS_AGGTI)\n",
    "# agg"
   ]
  },
  {
   "cell_type": "code",
   "execution_count": 23,
   "id": "a0cd2ff1",
   "metadata": {
    "ExecuteTime": {
     "end_time": "2023-05-10T07:08:48.277754900Z",
     "start_time": "2023-05-10T07:08:48.265754700Z"
    }
   },
   "outputs": [],
   "source": [
    "# agg[0].raw_txs"
   ]
  },
  {
   "cell_type": "code",
   "execution_count": 24,
   "id": "f7f21e07",
   "metadata": {
    "ExecuteTime": {
     "end_time": "2023-05-10T07:08:48.296756500Z",
     "start_time": "2023-05-10T07:08:48.277754900Z"
    }
   },
   "outputs": [],
   "source": [
    "# agg[1].raw_txs"
   ]
  },
  {
   "cell_type": "code",
   "execution_count": 25,
   "id": "8b0746ac",
   "metadata": {
    "ExecuteTime": {
     "end_time": "2023-05-10T07:08:48.308828300Z",
     "start_time": "2023-05-10T07:08:48.293757200Z"
    }
   },
   "outputs": [
    {
     "data": {
      "text/plain": "(9124624394068032000, 3298118781339736503394)"
     },
     "execution_count": 25,
     "metadata": {},
     "output_type": "execute_result"
    }
   ],
   "source": [
    "exact[0].amtin_wei, exact[0].amtout_wei"
   ]
  },
  {
   "cell_type": "code",
   "execution_count": 26,
   "id": "fc64082d",
   "metadata": {
    "ExecuteTime": {
     "end_time": "2023-05-10T07:08:48.336872600Z",
     "start_time": "2023-05-10T07:08:48.309827700Z"
    }
   },
   "outputs": [
    {
     "data": {
      "text/plain": "(3298118781339736503394, 9874567631330200677)"
     },
     "execution_count": 26,
     "metadata": {},
     "output_type": "execute_result"
    }
   ],
   "source": [
    "exact[1].amtin_wei, exact[1].amtout_wei"
   ]
  },
  {
   "cell_type": "code",
   "execution_count": 27,
   "id": "1905eb9d",
   "metadata": {
    "ExecuteTime": {
     "end_time": "2023-05-10T07:08:52.549551700Z",
     "start_time": "2023-05-10T07:08:48.325872600Z"
    }
   },
   "outputs": [
    {
     "name": "stderr",
     "output_type": "stream",
     "text": [
      "C:\\Users\\Kveen\\PycharmProjects\\carbonbot\\resources\\NBTest\\fastlane_bot\\tools\\optimizer.py:1310: RuntimeWarning: divide by zero encountered in scalar divide\n",
      "  price = get(p, tokens_ix.get(tknb)) / get(p, tokens_ix.get(tknq))\n",
      "C:\\Users\\Kveen\\PycharmProjects\\carbonbot\\resources\\NBTest\\fastlane_bot\\tools\\optimizer.py:1310: RuntimeWarning: divide by zero encountered in scalar divide\n",
      "  price = get(p, tokens_ix.get(tknb)) / get(p, tokens_ix.get(tknq))\n",
      "C:\\Users\\Kveen\\PycharmProjects\\carbonbot\\resources\\NBTest\\fastlane_bot\\tools\\optimizer.py:1157: RuntimeWarning: invalid value encountered in subtract\n",
      "  jac[:, j] = (func(x_plus) - y) / Dxj\n",
      "C:\\Users\\Kveen\\PycharmProjects\\carbonbot\\resources\\NBTest\\fastlane_bot\\tools\\optimizer.py:1310: RuntimeWarning: divide by zero encountered in scalar divide\n",
      "  price = get(p, tokens_ix.get(tknb)) / get(p, tokens_ix.get(tknq))\n",
      "C:\\Users\\Kveen\\PycharmProjects\\carbonbot\\resources\\NBTest\\fastlane_bot\\tools\\optimizer.py:1157: RuntimeWarning: invalid value encountered in subtract\n",
      "  jac[:, j] = (func(x_plus) - y) / Dxj\n",
      "C:\\Users\\Kveen\\PycharmProjects\\carbonbot\\resources\\NBTest\\fastlane_bot\\tools\\optimizer.py:1310: RuntimeWarning: divide by zero encountered in scalar divide\n",
      "  price = get(p, tokens_ix.get(tknb)) / get(p, tokens_ix.get(tknq))\n",
      "C:\\Users\\Kveen\\PycharmProjects\\carbonbot\\resources\\NBTest\\fastlane_bot\\tools\\optimizer.py:1157: RuntimeWarning: invalid value encountered in subtract\n",
      "  jac[:, j] = (func(x_plus) - y) / Dxj\n",
      "C:\\Users\\Kveen\\PycharmProjects\\carbonbot\\resources\\NBTest\\fastlane_bot\\tools\\optimizer.py:1310: RuntimeWarning: divide by zero encountered in scalar divide\n",
      "  price = get(p, tokens_ix.get(tknb)) / get(p, tokens_ix.get(tknq))\n",
      "C:\\Users\\Kveen\\PycharmProjects\\carbonbot\\resources\\NBTest\\fastlane_bot\\tools\\optimizer.py:1157: RuntimeWarning: invalid value encountered in subtract\n",
      "  jac[:, j] = (func(x_plus) - y) / Dxj\n",
      "C:\\Users\\Kveen\\PycharmProjects\\carbonbot\\resources\\NBTest\\fastlane_bot\\tools\\optimizer.py:1310: RuntimeWarning: divide by zero encountered in scalar divide\n",
      "  price = get(p, tokens_ix.get(tknb)) / get(p, tokens_ix.get(tknq))\n",
      "C:\\Users\\Kveen\\PycharmProjects\\carbonbot\\resources\\NBTest\\fastlane_bot\\tools\\optimizer.py:1157: RuntimeWarning: invalid value encountered in subtract\n",
      "  jac[:, j] = (func(x_plus) - y) / Dxj\n"
     ]
    },
    {
     "name": "stdout",
     "output_type": "stream",
     "text": [
      "[_calc_carbon_output] before decode:  9934041052273934470 20890099991068244000 0 15417019411766\n",
      "[_calc_carbon_output] after decode:  9.93404105227393447 20.890099991068244 0.0 0.05477225575051392\n",
      "WETH-6Cc2 [] True\n",
      "trade_instruction.cid: e7dfee0364fb40f2b959ec0020f9a7ea\n",
      "trade_instruction.cid: 13951577043758477001998358904702496669779\n"
     ]
    }
   ],
   "source": [
    "route_struct, flashloan_amount, flashloan_token_address = bot._run(flashloan_tokens=flt, CCm=CCm2, result=bot.XS_ROUTE)"
   ]
  },
  {
   "cell_type": "code",
   "execution_count": 28,
   "id": "24db122b",
   "metadata": {
    "ExecuteTime": {
     "end_time": "2023-05-10T07:08:52.590554400Z",
     "start_time": "2023-05-10T07:08:52.550551700Z"
    }
   },
   "outputs": [
    {
     "data": {
      "text/plain": "([{'exchangeId': 4,\n   'targetToken': '0x1f9840a85d5aF5bf1D1762F925BDADdC4201F984',\n   'minTargetAmount': 1,\n   'deadline': 1683708949,\n   'customAddress': '0x1f9840a85d5aF5bf1D1762F925BDADdC4201F984',\n   'customInt': 3000,\n   'customData': '0x'},\n  {'exchangeId': 6,\n   'targetToken': '0xEeeeeEeeeEeEeeEeEeEeeEEEeeeeEeeeeeeeEEeE',\n   'minTargetAmount': 1,\n   'deadline': 1683708949,\n   'customAddress': '0xC02aaA39b223FE8D0A0e5C4F27eAD9083C756Cc2',\n   'customInt': 2000,\n   'customData': '0x0000000000000000000000000000000000000000000000000000000000000020000000000000000000000000000000000000000000000000000000000000000100000000000000000000000000000029000000000000000000000000000000530000000000000000000000000000000000000000000000b2ca97b5723f387462'}],\n 9124624394068032000,\n '0xEeeeeEeeeEeEeeEeEeEeeEEEeeeeEeeeeeeeEEeE')"
     },
     "execution_count": 28,
     "metadata": {},
     "output_type": "execute_result"
    }
   ],
   "source": [
    "route_struct, flashloan_amount, flashloan_token_address"
   ]
  },
  {
   "attachments": {},
   "cell_type": "markdown",
   "id": "628bca30",
   "metadata": {},
   "source": [
    "# Tenderly Tx Submission"
   ]
  },
  {
   "cell_type": "code",
   "execution_count": 29,
   "id": "76a8ec45",
   "metadata": {
    "ExecuteTime": {
     "end_time": "2023-05-10T07:08:52.597555500Z",
     "start_time": "2023-05-10T07:08:52.572551800Z"
    }
   },
   "outputs": [],
   "source": [
    "# C.w3.provider.endpoint_uri"
   ]
  },
  {
   "cell_type": "code",
   "execution_count": 30,
   "id": "477ac528",
   "metadata": {
    "ExecuteTime": {
     "end_time": "2023-05-10T07:08:52.597555500Z",
     "start_time": "2023-05-10T07:08:52.590554400Z"
    }
   },
   "outputs": [],
   "source": [
    "# C.w3.eth.getBlock(C.w3.eth.block_number).timestamp"
   ]
  },
  {
   "cell_type": "code",
   "execution_count": 31,
   "id": "c1956941",
   "metadata": {
    "ExecuteTime": {
     "end_time": "2023-05-10T07:08:52.617061200Z",
     "start_time": "2023-05-10T07:08:52.597555500Z"
    }
   },
   "outputs": [],
   "source": [
    "# C.provider.CARBON_CONTROLLER_CONTRACT.strategy(13951577043758477001998358904702496669788)"
   ]
  },
  {
   "cell_type": "code",
   "execution_count": 32,
   "id": "6599f4a9",
   "metadata": {
    "ExecuteTime": {
     "end_time": "2023-05-10T07:08:54.644868500Z",
     "start_time": "2023-05-10T07:08:52.613076300Z"
    }
   },
   "outputs": [
    {
     "name": "stdout",
     "output_type": "stream",
     "text": [
      "{'exchangeId': 4, 'targetToken': '0x1f9840a85d5aF5bf1D1762F925BDADdC4201F984', 'minTargetAmount': 1, 'deadline': 1683708949, 'customAddress': '0x1f9840a85d5aF5bf1D1762F925BDADdC4201F984', 'customInt': 3000, 'customData': '0x'}\n",
      "\n",
      "\n",
      "{'exchangeId': 6, 'targetToken': '0xEeeeeEeeeEeEeeEeEeEeeEEEeeeeEeeeeeeeEEeE', 'minTargetAmount': 1, 'deadline': 1683708949, 'customAddress': '0xC02aaA39b223FE8D0A0e5C4F27eAD9083C756Cc2', 'customInt': 2000, 'customData': '0x0000000000000000000000000000000000000000000000000000000000000020000000000000000000000000000000000000000000000000000000000000000100000000000000000000000000000029000000000000000000000000000000530000000000000000000000000000000000000000000000b2ca97b5723f387462'}\n",
      "\n",
      "\n",
      "Submitting transaction to Tenderly...src_amount=9124624394068032000 src_address=0xEeeeeEeeeEeEeeEeEeEeeEEEeeeeEeeeeeeeEEeE\n"
     ]
    },
    {
     "data": {
      "text/plain": "AttributeDict({'transactionHash': HexBytes('0x7ea78b3432b86821019ee7fb133ebc46a09df0059d6678e29d7fcb7a8847103e'),\n 'transactionIndex': 0,\n 'blockHash': HexBytes('0x94bd54fa5b5da842e9eb36ef1c89268205accb2e6cfe5354b43183884a85d71c'),\n 'blockNumber': 17213282,\n 'from': '0x28C6c06298d514Db089934071355E5743bf21d60',\n 'to': '0x41Eeba3355d7D6FF628B7982F3F9D055c39488cB',\n 'cumulativeGasUsed': 314078,\n 'gasUsed': 314078,\n 'effectiveGasPrice': 0,\n 'contractAddress': None,\n 'logs': [],\n 'logsBloom': HexBytes('0x00000000000000000000000000000000000000000000000000000000000000000000000000000000000000000000000000000000000000000000000000000000000000000000000000000000000000000000000000000000000000000000000000000000000000000000000000000000000000000000000000000000000000000000000000000000000000000000000000000000000000000000000000000000000000000000000000000000000000000000000000000000000000000000000000000000000000000000000000000000000000000000000000000000000000000000000000000000000000000000000000000000000000000000000000000000'),\n 'status': 0,\n 'type': '0x0'})"
     },
     "execution_count": 32,
     "metadata": {},
     "output_type": "execute_result"
    }
   ],
   "source": [
    "### This to manually submit\n",
    "bot._validate_and_submit_transaction_tenderly(\n",
    "        ConfigObj = C,\n",
    "        route_struct = route_struct,\n",
    "        src_amount = flashloan_amount,\n",
    "        src_address = flashloan_token_address,\n",
    "            )"
   ]
  },
  {
   "attachments": {},
   "cell_type": "markdown",
   "id": "993e6614",
   "metadata": {},
   "source": [
    "# MAINNNET Preferred Tx Submission Method"
   ]
  },
  {
   "cell_type": "code",
   "execution_count": 33,
   "id": "67273141",
   "metadata": {
    "ExecuteTime": {
     "end_time": "2023-05-10T07:08:54.660370100Z",
     "start_time": "2023-05-10T07:08:54.645868500Z"
    }
   },
   "outputs": [],
   "source": [
    "# from fastlane_bot.helpers import TxHelpers"
   ]
  },
  {
   "cell_type": "code",
   "execution_count": 34,
   "id": "75ae6224",
   "metadata": {
    "ExecuteTime": {
     "end_time": "2023-05-10T07:08:54.679371700Z",
     "start_time": "2023-05-10T07:08:54.661370100Z"
    }
   },
   "outputs": [],
   "source": [
    "# pool = (\n",
    "#     bot.db.get_pool(exchange_name=bot.ConfigObj.BANCOR_V3_NAME, pair_name='BNT-FF1C/ETH-EEeE')\n",
    "# )\n",
    "# bnt_eth = (int(pool.tkn0_balance), int(pool.tkn1_balance))\n",
    "\n",
    "# # Init TxHelpers\n",
    "# tx_helpers = TxHelpers(ConfigObj=bot.ConfigObj)\n",
    "# # Submit tx\n",
    "\n"
   ]
  },
  {
   "cell_type": "code",
   "execution_count": 35,
   "id": "17ab9e38",
   "metadata": {
    "ExecuteTime": {
     "end_time": "2023-05-10T07:08:54.702882400Z",
     "start_time": "2023-05-10T07:08:54.678370600Z"
    }
   },
   "outputs": [],
   "source": [
    "# tx_helpers.validate_and_submit_transaction(route_struct=route_struct, src_amt=flashloan_amount,\n",
    "#                                                     src_address=flashloan_token_address, bnt_eth=bnt_eth,\n",
    "#                                                     expected_profit=Decimal('1000'), safety_override=True)"
   ]
  },
  {
   "attachments": {},
   "cell_type": "markdown",
   "id": "0eb9760c",
   "metadata": {},
   "source": [
    "# MAINNET Forced Tx Submission Method"
   ]
  },
  {
   "cell_type": "code",
   "execution_count": 36,
   "id": "931af988",
   "metadata": {
    "ExecuteTime": {
     "end_time": "2023-05-10T07:08:54.707882400Z",
     "start_time": "2023-05-10T07:08:54.692373800Z"
    }
   },
   "outputs": [],
   "source": [
    "# # Initialize tx helper\n",
    "# tx_helper = TxHelper(\n",
    "#     usd_gas_limit=55,\n",
    "#     ConfigObj=bot.ConfigObj,\n",
    "#     gas_price_multiplier = 1\n",
    "# )\n",
    "# # # Submit the transaction\n",
    "# # tx_helper.submit_flashloan_arb_tx(\n",
    "# #     arb_data=route_struct,\n",
    "# #     flashloan_token_address=flashloan_token_address,\n",
    "# #     flashloan_amount=flashloan_amount,\n",
    "# #     verbose=True,\n",
    "# # )"
   ]
  },
  {
   "cell_type": "code",
   "execution_count": 37,
   "id": "5894289c",
   "metadata": {
    "ExecuteTime": {
     "end_time": "2023-05-10T07:08:54.722881500Z",
     "start_time": "2023-05-10T07:08:54.707882400Z"
    }
   },
   "outputs": [],
   "source": [
    "# tx_helper.gas_limit"
   ]
  }
 ],
 "metadata": {
  "jupytext": {
   "encoding": "# -*- coding: utf-8 -*-",
   "formats": "ipynb,py:light"
  },
  "kernelspec": {
   "display_name": "Python 3 (ipykernel)",
   "language": "python",
   "name": "python3"
  },
  "language_info": {
   "codemirror_mode": {
    "name": "ipython",
    "version": 3
   },
   "file_extension": ".py",
   "mimetype": "text/x-python",
   "name": "python",
   "nbconvert_exporter": "python",
   "pygments_lexer": "ipython3",
   "version": "3.10.10"
  }
 },
 "nbformat": 4,
 "nbformat_minor": 5
}

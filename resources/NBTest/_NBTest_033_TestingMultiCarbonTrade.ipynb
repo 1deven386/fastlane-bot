{
 "cells": [
  {
   "cell_type": "code",
   "execution_count": 1,
   "id": "8f04c50a-67fe-4f09-822d-6ed6e3ac43e4",
   "metadata": {
    "ExecuteTime": {
     "end_time": "2023-05-15T14:10:36.645652200Z",
     "start_time": "2023-05-15T14:10:30.698349900Z"
    }
   },
   "outputs": [
    {
     "name": "stdout",
     "output_type": "stream",
     "text": [
      "Using default database url, if you want to use a different database, set the backend_url found at the bottom of manager_base.py\n",
      "Error adding Ethereum blockchain to database Ethereum, (psycopg2.errors.UniqueViolation) duplicate key value violates unique constraint \"ix_blockchains_name\"\n",
      "DETAIL:  Key (name)=(Ethereum) already exists.\n",
      "\n",
      "[SQL: INSERT INTO blockchains (name, block_number) VALUES (%(name)s, %(block_number)s) RETURNING blockchains.id]\n",
      "[parameters: {'name': 'Ethereum', 'block_number': 0}]\n",
      "(Background on this error at: https://sqlalche.me/e/20/gkpj) skipping...\n",
      "Error adding exchange carbon_v1 to database, (psycopg2.errors.UniqueViolation) duplicate key value violates unique constraint \"exchanges_pkey\"\n",
      "DETAIL:  Key (id)=(6) already exists.\n",
      "\n",
      "[SQL: INSERT INTO exchanges (id, name, blockchain_name) VALUES (%(id)s, %(name)s, %(blockchain_name)s)]\n",
      "[parameters: {'id': 6, 'name': 'carbon_v1', 'blockchain_name': 'Ethereum'}]\n",
      "(Background on this error at: https://sqlalche.me/e/20/gkpj) skipping...\n",
      "Error adding exchange bancor_v2 to database, (psycopg2.errors.UniqueViolation) duplicate key value violates unique constraint \"exchanges_pkey\"\n",
      "DETAIL:  Key (id)=(1) already exists.\n",
      "\n",
      "[SQL: INSERT INTO exchanges (id, name, blockchain_name) VALUES (%(id)s, %(name)s, %(blockchain_name)s)]\n",
      "[parameters: {'id': 1, 'name': 'bancor_v2', 'blockchain_name': 'Ethereum'}]\n",
      "(Background on this error at: https://sqlalche.me/e/20/gkpj) skipping...\n",
      "Error adding exchange bancor_v3 to database, (psycopg2.errors.UniqueViolation) duplicate key value violates unique constraint \"exchanges_pkey\"\n",
      "DETAIL:  Key (id)=(2) already exists.\n",
      "\n",
      "[SQL: INSERT INTO exchanges (id, name, blockchain_name) VALUES (%(id)s, %(name)s, %(blockchain_name)s)]\n",
      "[parameters: {'id': 2, 'name': 'bancor_v3', 'blockchain_name': 'Ethereum'}]\n",
      "(Background on this error at: https://sqlalche.me/e/20/gkpj) skipping...\n",
      "Error adding exchange uniswap_v2 to database, (psycopg2.errors.UniqueViolation) duplicate key value violates unique constraint \"exchanges_pkey\"\n",
      "DETAIL:  Key (id)=(3) already exists.\n",
      "\n",
      "[SQL: INSERT INTO exchanges (id, name, blockchain_name) VALUES (%(id)s, %(name)s, %(blockchain_name)s)]\n",
      "[parameters: {'id': 3, 'name': 'uniswap_v2', 'blockchain_name': 'Ethereum'}]\n",
      "(Background on this error at: https://sqlalche.me/e/20/gkpj) skipping...\n",
      "Error adding exchange uniswap_v3 to database, (psycopg2.errors.UniqueViolation) duplicate key value violates unique constraint \"exchanges_pkey\"\n",
      "DETAIL:  Key (id)=(4) already exists.\n",
      "\n",
      "[SQL: INSERT INTO exchanges (id, name, blockchain_name) VALUES (%(id)s, %(name)s, %(blockchain_name)s)]\n",
      "[parameters: {'id': 4, 'name': 'uniswap_v3', 'blockchain_name': 'Ethereum'}]\n",
      "(Background on this error at: https://sqlalche.me/e/20/gkpj) skipping...\n",
      "Error adding exchange sushiswap_v2 to database, (psycopg2.errors.UniqueViolation) duplicate key value violates unique constraint \"exchanges_pkey\"\n",
      "DETAIL:  Key (id)=(5) already exists.\n",
      "\n",
      "[SQL: INSERT INTO exchanges (id, name, blockchain_name) VALUES (%(id)s, %(name)s, %(blockchain_name)s)]\n",
      "[parameters: {'id': 5, 'name': 'sushiswap_v2', 'blockchain_name': 'Ethereum'}]\n",
      "(Background on this error at: https://sqlalche.me/e/20/gkpj) skipping...\n",
      "ConstantProductCurve v2.10.1 (07/May/2023)\n",
      "CarbonBot v3-b2.1 (03/May/2023)\n",
      "imported m, np, pd, plt, os, sys, decimal; defined iseq, raises, require\n"
     ]
    },
    {
     "name": "stderr",
     "output_type": "stream",
     "text": [
      "C:\\Users\\Kveen\\AppData\\Local\\Temp\\ipykernel_26072\\1582963263.py:8: MatplotlibDeprecationWarning: The seaborn styles shipped by Matplotlib are deprecated since 3.6, as they no longer correspond to the styles shipped by seaborn. However, they will remain available as 'seaborn-v0_8-<style>'. Alternatively, directly use the seaborn API instead.\n",
      "  plt.style.use('seaborn-dark')\n"
     ]
    },
    {
     "name": "stdout",
     "output_type": "stream",
     "text": [
      "Version = 3-b2.1 [requirements >= 2.0 is met]\n"
     ]
    }
   ],
   "source": [
    "from fastlane_bot import Config, ConfigDB, ConfigNetwork, ConfigProvider\n",
    "from fastlane_bot.bot import CarbonBot\n",
    "from fastlane_bot.tools.cpc import ConstantProductCurve as CPC, CPCContainer, T\n",
    "from fastlane_bot.helpers import TxHelper\n",
    "print(\"{0.__name__} v{0.__VERSION__} ({0.__DATE__})\".format(CPC))\n",
    "print(\"{0.__name__} v{0.__VERSION__} ({0.__DATE__})\".format(CarbonBot))\n",
    "from fastlane_bot.testing import *\n",
    "plt.style.use('seaborn-dark')\n",
    "plt.rcParams['figure.figsize'] = [12,6]\n",
    "from fastlane_bot import __VERSION__\n",
    "require(\"2.0\", __VERSION__)"
   ]
  },
  {
   "attachments": {},
   "cell_type": "markdown",
   "id": "b3f59f14-b91b-4dba-94b0-3d513aaf41c7",
   "metadata": {},
   "source": [
    "# Testing the _run functions on TENDERLY [NBTest022]"
   ]
  },
  {
   "attachments": {},
   "cell_type": "markdown",
   "id": "cf03072d-6304-41f8-b132-9470ae81ac7c",
   "metadata": {},
   "source": [
    "## Tenderly Configuration"
   ]
  },
  {
   "attachments": {},
   "cell_type": "markdown",
   "id": "0990888a-698c-487c-9142-80e62a8393ac",
   "metadata": {},
   "source": [
    "### Set up the bot and curves"
   ]
  },
  {
   "cell_type": "code",
   "execution_count": 2,
   "id": "da9ff008-cb12-44f7-93a8-84f7386da886",
   "metadata": {
    "ExecuteTime": {
     "end_time": "2023-05-15T14:10:37.658774400Z",
     "start_time": "2023-05-15T14:10:36.646648700Z"
    }
   },
   "outputs": [],
   "source": [
    "C = Config.new(config=Config.CONFIG_TENDERLY)\n",
    "assert C.DATABASE == C.DATABASE_POSTGRES\n",
    "# assert C.POSTGRES_DB == \"defaultdb\"\n",
    "assert C.NETWORK == C.NETWORK_TENDERLY\n",
    "assert C.PROVIDER == C.PROVIDER_TENDERLY\n",
    "bot = CarbonBot(ConfigObj=C)\n",
    "assert str(type(bot.db)) == \"<class 'fastlane_bot.db.manager.DatabaseManager'>\"\n",
    "\n",
    "\n"
   ]
  },
  {
   "cell_type": "code",
   "execution_count": 2,
   "outputs": [],
   "source": [],
   "metadata": {
    "collapsed": false,
    "ExecuteTime": {
     "end_time": "2023-05-15T14:10:37.674173400Z",
     "start_time": "2023-05-15T14:10:37.659771200Z"
    }
   }
  },
  {
   "cell_type": "code",
   "execution_count": 3,
   "id": "4c184a25",
   "metadata": {
    "ExecuteTime": {
     "end_time": "2023-05-15T14:10:39.320360600Z",
     "start_time": "2023-05-15T14:10:37.675170100Z"
    }
   },
   "outputs": [
    {
     "name": "stdout",
     "output_type": "stream",
     "text": [
      "Number of curves: 3539\n",
      "Number of tokens: 2230\n",
      "Exchanges: {'sushiswap_v2', 'uniswap_v3', 'bancor_v3', 'bancor_v2', 'carbon_v1', 'uniswap_v2'}\n"
     ]
    }
   ],
   "source": [
    "CCm = bot.get_curves()\n",
    "exch = {c.P(\"exchange\") for c in CCm}\n",
    "print(\"Number of curves:\", len(CCm))\n",
    "print(\"Number of tokens:\", len(CCm.tokens()))\n",
    "print(\"Exchanges:\", exch)\n"
   ]
  },
  {
   "cell_type": "code",
   "execution_count": 4,
   "id": "d7ee607c",
   "metadata": {
    "ExecuteTime": {
     "end_time": "2023-05-15T14:10:39.359090600Z",
     "start_time": "2023-05-15T14:10:39.322864800Z"
    }
   },
   "outputs": [
    {
     "data": {
      "text/plain": "3442"
     },
     "execution_count": 4,
     "metadata": {},
     "output_type": "execute_result"
    }
   ],
   "source": [
    "used_curves = [\n",
    "    # '340282366920938463463374607431768211527-0', #actually deleted from carbon\n",
    "    # '340282366920938463463374607431768211527-1', #actually deleted from carbon\n",
    "    # '2722258935367507707706996859454145691730-1',\n",
    "    # '1701411834604692317316873037158841057360-1',\n",
    "    # '1701411834604692317316873037158841057360-0',\n",
    "    # '9187623906865338513511114400657741709390-0',\n",
    "    # '12590447576074723148144860474975423823947-0',\n",
    "    # '13951577043758477001998358904702496669779-1'\n",
    "]\n",
    "subcurves = [x for x in CCm if x.cid not in used_curves]\n",
    "no_0x0 = [x for x in subcurves if '0x0-1AD5' not in x.pair]\n",
    "CCm2 = CPCContainer([x for x in no_0x0 if x.params.exchange not in ['bancor_v2']])\n",
    "len(CCm2)\n",
    "#print(CCm2)"
   ]
  },
  {
   "cell_type": "code",
   "execution_count": 5,
   "id": "b397bc36",
   "metadata": {
    "ExecuteTime": {
     "end_time": "2023-05-15T14:10:39.366572500Z",
     "start_time": "2023-05-15T14:10:39.351643700Z"
    }
   },
   "outputs": [
    {
     "data": {
      "text/plain": "27"
     },
     "execution_count": 5,
     "metadata": {},
     "output_type": "execute_result"
    }
   ],
   "source": [
    "pairs = [x.pair.split('/') for x in CCm if x.params.exchange == 'carbon_v1']\n",
    "len(set([x for itm in pairs for x in itm]))"
   ]
  },
  {
   "cell_type": "code",
   "execution_count": 6,
   "id": "79ed1618",
   "metadata": {
    "ExecuteTime": {
     "end_time": "2023-05-15T14:10:39.396671500Z",
     "start_time": "2023-05-15T14:10:39.367580Z"
    }
   },
   "outputs": [
    {
     "data": {
      "text/plain": "61"
     },
     "execution_count": 6,
     "metadata": {},
     "output_type": "execute_result"
    }
   ],
   "source": [
    "pairs = [x.pair for x in CCm if x.params.exchange == 'carbon_v1']\n",
    "len(set(pairs))"
   ]
  },
  {
   "cell_type": "code",
   "execution_count": 7,
   "id": "6445f9db",
   "metadata": {
    "ExecuteTime": {
     "end_time": "2023-05-15T14:10:39.406867800Z",
     "start_time": "2023-05-15T14:10:39.383183300Z"
    }
   },
   "outputs": [],
   "source": [
    "# CCm.bycid(\"5784800237655953878877368326340059594782\").p"
   ]
  },
  {
   "cell_type": "code",
   "execution_count": 8,
   "id": "9a8100d3",
   "metadata": {
    "ExecuteTime": {
     "end_time": "2023-05-15T14:10:39.412505500Z",
     "start_time": "2023-05-15T14:10:39.398895100Z"
    }
   },
   "outputs": [],
   "source": [
    "# CCm.bycid(\"5d5cebf33c0049258c40db6bc90b1558\").p"
   ]
  },
  {
   "cell_type": "code",
   "execution_count": 9,
   "id": "21a0e86c",
   "metadata": {
    "ExecuteTime": {
     "end_time": "2023-05-15T14:10:39.432005800Z",
     "start_time": "2023-05-15T14:10:39.413502200Z"
    }
   },
   "outputs": [],
   "source": [
    "# CCm.bycid(\"9a52c5bdef1c402497d1c4f5d7501f61\").p"
   ]
  },
  {
   "cell_type": "code",
   "execution_count": 10,
   "id": "7cae2ba6",
   "metadata": {
    "ExecuteTime": {
     "end_time": "2023-05-15T14:10:39.451341700Z",
     "start_time": "2023-05-15T14:10:39.428019100Z"
    }
   },
   "outputs": [],
   "source": [
    "# CCm.bycid(\"12590447576074723148144860474975423823947-0\").p"
   ]
  },
  {
   "cell_type": "code",
   "execution_count": 11,
   "id": "11a64563",
   "metadata": {
    "ExecuteTime": {
     "end_time": "2023-05-15T14:10:39.489871800Z",
     "start_time": "2023-05-15T14:10:39.444857100Z"
    }
   },
   "outputs": [],
   "source": [
    "# 1/CCm.bycid(\"12590447576074723148144860474975423823947-1\").p"
   ]
  },
  {
   "attachments": {},
   "cell_type": "markdown",
   "id": "5a26c4b4",
   "metadata": {},
   "source": [
    "## Actual run"
   ]
  },
  {
   "cell_type": "code",
   "execution_count": 12,
   "id": "cab33dc6",
   "metadata": {
    "ExecuteTime": {
     "end_time": "2023-05-15T14:10:39.503036Z",
     "start_time": "2023-05-15T14:10:39.462821100Z"
    }
   },
   "outputs": [],
   "source": [
    "flt = [T.USDC, T.USDT, T.ETH, T.LINK, T.BNT, T.WBTC, T.DAI]\n",
    "# bot._run(flashloan_tokens=flt, CCm=CCm2)"
   ]
  },
  {
   "attachments": {},
   "cell_type": "markdown",
   "id": "5f2f01c5",
   "metadata": {},
   "source": [
    "## Analytics"
   ]
  },
  {
   "cell_type": "code",
   "execution_count": 13,
   "id": "1419695c",
   "metadata": {
    "ExecuteTime": {
     "end_time": "2023-05-15T14:10:41.792162400Z",
     "start_time": "2023-05-15T14:10:39.489871800Z"
    }
   },
   "outputs": [
    {
     "name": "stderr",
     "output_type": "stream",
     "text": [
      "C:\\Users\\Kveen\\PycharmProjects\\carbonbot\\resources\\NBTest\\fastlane_bot\\tools\\optimizer.py:1310: RuntimeWarning: divide by zero encountered in scalar divide\n",
      "  price = get(p, tokens_ix.get(tknb)) / get(p, tokens_ix.get(tknq))\n",
      "C:\\Users\\Kveen\\PycharmProjects\\carbonbot\\resources\\NBTest\\fastlane_bot\\tools\\optimizer.py:1157: RuntimeWarning: invalid value encountered in subtract\n",
      "  jac[:, j] = (func(x_plus) - y) / Dxj\n",
      "C:\\Users\\Kveen\\PycharmProjects\\carbonbot\\resources\\NBTest\\fastlane_bot\\tools\\optimizer.py:1310: RuntimeWarning: divide by zero encountered in scalar divide\n",
      "  price = get(p, tokens_ix.get(tknb)) / get(p, tokens_ix.get(tknq))\n",
      "C:\\Users\\Kveen\\PycharmProjects\\carbonbot\\resources\\NBTest\\fastlane_bot\\tools\\optimizer.py:1157: RuntimeWarning: invalid value encountered in subtract\n",
      "  jac[:, j] = (func(x_plus) - y) / Dxj\n",
      "C:\\Users\\Kveen\\PycharmProjects\\carbonbot\\resources\\NBTest\\fastlane_bot\\tools\\optimizer.py:1310: RuntimeWarning: divide by zero encountered in scalar divide\n",
      "  price = get(p, tokens_ix.get(tknb)) / get(p, tokens_ix.get(tknq))\n",
      "C:\\Users\\Kveen\\PycharmProjects\\carbonbot\\resources\\NBTest\\fastlane_bot\\tools\\optimizer.py:1157: RuntimeWarning: invalid value encountered in subtract\n",
      "  jac[:, j] = (func(x_plus) - y) / Dxj\n",
      "C:\\Users\\Kveen\\PycharmProjects\\carbonbot\\resources\\NBTest\\fastlane_bot\\tools\\optimizer.py:1310: RuntimeWarning: divide by zero encountered in scalar divide\n",
      "  price = get(p, tokens_ix.get(tknb)) / get(p, tokens_ix.get(tknq))\n",
      "C:\\Users\\Kveen\\PycharmProjects\\carbonbot\\resources\\NBTest\\fastlane_bot\\tools\\optimizer.py:1310: RuntimeWarning: divide by zero encountered in scalar divide\n",
      "  price = get(p, tokens_ix.get(tknb)) / get(p, tokens_ix.get(tknq))\n",
      "C:\\Users\\Kveen\\PycharmProjects\\carbonbot\\resources\\NBTest\\fastlane_bot\\tools\\optimizer.py:1310: RuntimeWarning: divide by zero encountered in scalar divide\n",
      "  price = get(p, tokens_ix.get(tknb)) / get(p, tokens_ix.get(tknq))\n"
     ]
    }
   ],
   "source": [
    "ops = bot._find_arbitrage_opportunities_carbon_multi_pairwise(flashloan_tokens=flt, CCm=CCm2, result=bot.XS_ARBOPPS)"
   ]
  },
  {
   "cell_type": "code",
   "execution_count": 14,
   "id": "95b2c699",
   "metadata": {
    "ExecuteTime": {
     "end_time": "2023-05-15T14:10:41.807526700Z",
     "start_time": "2023-05-15T14:10:41.793158900Z"
    }
   },
   "outputs": [
    {
     "data": {
      "text/plain": "(Decimal('68990.9453488580655589602057020594968088019626915527449106946278334362432360649'),\n                                                USDC-eB48  WETH-6Cc2\n 50ac5ace09c1483987af46c60c551073            8.702803e+04 -49.626459\n 1701411834604692317316873037158841057353-0 -7.851120e+00   0.004235\n 1701411834604692317316873037158841057376-0 -2.900000e+04  10.357143\n 1701411834604692317316873037158841057378-0 -1.500000e+04   3.750000\n 1701411834604692317316873037158841057377-0 -1.800000e+04   5.806452\n 1701411834604692317316873037158841057375-0 -2.500000e+04  11.904762\n 1701411834604692317316873037158841057292-0 -6.141325e+00   0.003317\n 1701411834604692317316873037158841057339-0 -4.165539e-01   0.000234\n 1701411834604692317316873037158841057296-0 -1.994537e+00   0.001033\n 1701411834604692317316873037158841057360-0 -1.162787e+01   0.004948\n AMMIn                                       8.702803e+04  31.832123\n AMMOut                                     -8.702803e+04 -49.626459\n TOTAL NET                                   4.591129e-08 -17.794336,\n [{'cid': '50ac5ace09c1483987af46c60c551073',\n   'tknin': 'USDC-eB48',\n   'amtin': 87028.03140489757,\n   'tknout': 'WETH-6Cc2',\n   'amtout': -49.626459348251956,\n   'error': None},\n  {'cid': '1701411834604692317316873037158841057353-0',\n   'tknin': 'WETH-6Cc2',\n   'amtin': 0.004234693944454193,\n   'tknout': 'USDC-eB48',\n   'amtout': -7.8511199951171875,\n   'error': None},\n  {'cid': '1701411834604692317316873037158841057376-0',\n   'tknin': 'WETH-6Cc2',\n   'amtin': 10.357142850756645,\n   'tknout': 'USDC-eB48',\n   'amtout': -29000.0,\n   'error': None},\n  {'cid': '1701411834604692317316873037158841057378-0',\n   'tknin': 'WETH-6Cc2',\n   'amtin': 3.75,\n   'tknout': 'USDC-eB48',\n   'amtout': -15000.0,\n   'error': None},\n  {'cid': '1701411834604692317316873037158841057377-0',\n   'tknin': 'WETH-6Cc2',\n   'amtin': 5.806451611220837,\n   'tknout': 'USDC-eB48',\n   'amtout': -18000.0,\n   'error': None},\n  {'cid': '1701411834604692317316873037158841057375-0',\n   'tknin': 'WETH-6Cc2',\n   'amtin': 11.904761910438538,\n   'tknout': 'USDC-eB48',\n   'amtout': -25000.0,\n   'error': None},\n  {'cid': '1701411834604692317316873037158841057292-0',\n   'tknin': 'WETH-6Cc2',\n   'amtin': 0.0033165809687636383,\n   'tknout': 'USDC-eB48',\n   'amtout': -6.141324999999597,\n   'error': None},\n  {'cid': '1701411834604692317316873037158841057339-0',\n   'tknin': 'WETH-6Cc2',\n   'amtin': 0.00023416705449442327,\n   'tknout': 'USDC-eB48',\n   'amtout': -0.41655385068497,\n   'error': None},\n  {'cid': '1701411834604692317316873037158841057296-0',\n   'tknin': 'WETH-6Cc2',\n   'amtin': 0.0010334402322769165,\n   'tknout': 'USDC-eB48',\n   'amtout': -1.994537353515625,\n   'error': None},\n  {'cid': '1701411834604692317316873037158841057360-0',\n   'tknin': 'WETH-6Cc2',\n   'amtin': 0.004948034882545471,\n   'tknout': 'USDC-eB48',\n   'amtout': -11.62786865234375,\n   'error': None}],\n 'WETH-6Cc2',\n (CPCArbOptimizer.TradeInstruction(cid='50ac5ace09c1483987af46c60c551073', tknin='USDC-eB48', amtin=87028.03140489757, tknout='WETH-6Cc2', amtout=-49.626459348251956, error=None),\n  CPCArbOptimizer.TradeInstruction(cid='1701411834604692317316873037158841057353-0', tknin='WETH-6Cc2', amtin=0.004234693944454193, tknout='USDC-eB48', amtout=-7.8511199951171875, error=None),\n  CPCArbOptimizer.TradeInstruction(cid='1701411834604692317316873037158841057376-0', tknin='WETH-6Cc2', amtin=10.357142850756645, tknout='USDC-eB48', amtout=-29000.0, error=None),\n  CPCArbOptimizer.TradeInstruction(cid='1701411834604692317316873037158841057378-0', tknin='WETH-6Cc2', amtin=3.75, tknout='USDC-eB48', amtout=-15000.0, error=None),\n  CPCArbOptimizer.TradeInstruction(cid='1701411834604692317316873037158841057377-0', tknin='WETH-6Cc2', amtin=5.806451611220837, tknout='USDC-eB48', amtout=-18000.0, error=None),\n  CPCArbOptimizer.TradeInstruction(cid='1701411834604692317316873037158841057375-0', tknin='WETH-6Cc2', amtin=11.904761910438538, tknout='USDC-eB48', amtout=-25000.0, error=None),\n  CPCArbOptimizer.TradeInstruction(cid='1701411834604692317316873037158841057292-0', tknin='WETH-6Cc2', amtin=0.0033165809687636383, tknout='USDC-eB48', amtout=-6.141324999999597, error=None),\n  CPCArbOptimizer.TradeInstruction(cid='1701411834604692317316873037158841057339-0', tknin='WETH-6Cc2', amtin=0.00023416705449442327, tknout='USDC-eB48', amtout=-0.41655385068497, error=None),\n  CPCArbOptimizer.TradeInstruction(cid='1701411834604692317316873037158841057296-0', tknin='WETH-6Cc2', amtin=0.0010334402322769165, tknout='USDC-eB48', amtout=-1.994537353515625, error=None),\n  CPCArbOptimizer.TradeInstruction(cid='1701411834604692317316873037158841057360-0', tknin='WETH-6Cc2', amtin=0.004948034882545471, tknout='USDC-eB48', amtout=-11.62786865234375, error=None)))"
     },
     "execution_count": 14,
     "metadata": {},
     "output_type": "execute_result"
    }
   ],
   "source": [
    "ops"
   ]
  },
  {
   "cell_type": "code",
   "execution_count": 15,
   "id": "60b235ca",
   "metadata": {
    "ExecuteTime": {
     "end_time": "2023-05-15T14:10:41.836778400Z",
     "start_time": "2023-05-15T14:10:41.808712600Z"
    }
   },
   "outputs": [],
   "source": [
    "# ord = bot._run(flashloan_tokens=flt, CCm=CCm2, result=bot.XS_ORDSCAL)\n",
    "# ord"
   ]
  },
  {
   "cell_type": "code",
   "execution_count": 16,
   "id": "fcb66e42",
   "metadata": {
    "ExecuteTime": {
     "end_time": "2023-05-15T14:10:41.845135500Z",
     "start_time": "2023-05-15T14:10:41.822797500Z"
    }
   },
   "outputs": [],
   "source": [
    "# ti = bot._run(flashloan_tokens=flt, CCm=CCm2, result=bot.XS_TI)\n",
    "# ti"
   ]
  },
  {
   "cell_type": "code",
   "execution_count": 17,
   "id": "f4d25fb2",
   "metadata": {
    "ExecuteTime": {
     "end_time": "2023-05-15T14:10:41.853086200Z",
     "start_time": "2023-05-15T14:10:41.838157100Z"
    }
   },
   "outputs": [],
   "source": [
    "# ti"
   ]
  },
  {
   "cell_type": "code",
   "execution_count": 18,
   "id": "b9217711",
   "metadata": {
    "ExecuteTime": {
     "end_time": "2023-05-15T14:10:41.872571100Z",
     "start_time": "2023-05-15T14:10:41.854082600Z"
    }
   },
   "outputs": [],
   "source": [
    "# ops = bot._find_arbitrage_opportunities(flashloan_tokens=flt, CCm=CCm, result=bot.AO_CANDIDATES)\n",
    "# ops"
   ]
  },
  {
   "cell_type": "code",
   "execution_count": 19,
   "id": "93eff72b",
   "metadata": {
    "ExecuteTime": {
     "end_time": "2023-05-15T14:10:41.884041Z",
     "start_time": "2023-05-15T14:10:41.869580800Z"
    }
   },
   "outputs": [],
   "source": [
    "# candf = pd.DataFrame(ops).sort_values(by=0, ascending=False)\n",
    "# candf.reset_index(inplace=True, drop=True)\n",
    "# candf.iloc[5][1]"
   ]
  },
  {
   "cell_type": "code",
   "execution_count": 20,
   "id": "b933a3e3",
   "metadata": {
    "ExecuteTime": {
     "end_time": "2023-05-15T14:10:41.902650Z",
     "start_time": "2023-05-15T14:10:41.885037300Z"
    }
   },
   "outputs": [],
   "source": [
    "# candf.iloc[0][0]"
   ]
  },
  {
   "cell_type": "code",
   "execution_count": 21,
   "id": "5382d20f",
   "metadata": {
    "ExecuteTime": {
     "end_time": "2023-05-15T14:10:48.356587400Z",
     "start_time": "2023-05-15T14:10:41.900656200Z"
    }
   },
   "outputs": [
    {
     "name": "stderr",
     "output_type": "stream",
     "text": [
      "C:\\Users\\Kveen\\PycharmProjects\\carbonbot\\resources\\NBTest\\fastlane_bot\\tools\\optimizer.py:1310: RuntimeWarning: divide by zero encountered in scalar divide\n",
      "  price = get(p, tokens_ix.get(tknb)) / get(p, tokens_ix.get(tknq))\n",
      "C:\\Users\\Kveen\\PycharmProjects\\carbonbot\\resources\\NBTest\\fastlane_bot\\tools\\optimizer.py:1157: RuntimeWarning: invalid value encountered in subtract\n",
      "  jac[:, j] = (func(x_plus) - y) / Dxj\n",
      "C:\\Users\\Kveen\\PycharmProjects\\carbonbot\\resources\\NBTest\\fastlane_bot\\tools\\optimizer.py:1310: RuntimeWarning: divide by zero encountered in scalar divide\n",
      "  price = get(p, tokens_ix.get(tknb)) / get(p, tokens_ix.get(tknq))\n",
      "C:\\Users\\Kveen\\PycharmProjects\\carbonbot\\resources\\NBTest\\fastlane_bot\\tools\\optimizer.py:1157: RuntimeWarning: invalid value encountered in subtract\n",
      "  jac[:, j] = (func(x_plus) - y) / Dxj\n",
      "C:\\Users\\Kveen\\PycharmProjects\\carbonbot\\resources\\NBTest\\fastlane_bot\\tools\\optimizer.py:1310: RuntimeWarning: divide by zero encountered in scalar divide\n",
      "  price = get(p, tokens_ix.get(tknb)) / get(p, tokens_ix.get(tknq))\n",
      "C:\\Users\\Kveen\\PycharmProjects\\carbonbot\\resources\\NBTest\\fastlane_bot\\tools\\optimizer.py:1157: RuntimeWarning: invalid value encountered in subtract\n",
      "  jac[:, j] = (func(x_plus) - y) / Dxj\n",
      "C:\\Users\\Kveen\\PycharmProjects\\carbonbot\\resources\\NBTest\\fastlane_bot\\tools\\optimizer.py:1310: RuntimeWarning: divide by zero encountered in scalar divide\n",
      "  price = get(p, tokens_ix.get(tknb)) / get(p, tokens_ix.get(tknq))\n",
      "C:\\Users\\Kveen\\PycharmProjects\\carbonbot\\resources\\NBTest\\fastlane_bot\\tools\\optimizer.py:1310: RuntimeWarning: divide by zero encountered in scalar divide\n",
      "  price = get(p, tokens_ix.get(tknb)) / get(p, tokens_ix.get(tknq))\n",
      "C:\\Users\\Kveen\\PycharmProjects\\carbonbot\\resources\\NBTest\\fastlane_bot\\tools\\optimizer.py:1310: RuntimeWarning: divide by zero encountered in scalar divide\n",
      "  price = get(p, tokens_ix.get(tknb)) / get(p, tokens_ix.get(tknq))\n"
     ]
    },
    {
     "name": "stdout",
     "output_type": "stream",
     "text": [
      "Going into calculate trade outputs:\n",
      "amtin:31.800291166209057 tknWETH-6Cc2, amtout:-87028.03140485166 tknUSDC-eB48\n",
      "amtin:87028.03140489757 tknUSDC-eB48, amtout:-49.626459348251956 tknWETH-6Cc2\n",
      "raw txs: [{'cid': '1701411834604692317316873037158841057353-0', 'tknin': 'WETH-6Cc2', 'amtin': 0.004230459250509739, '_amtin_wei': 4230459250509738, 'tknout': 'USDC-eB48', 'amtout': -7.8511199951171875, '_amtout_wei': -7851119, 'pair_sorting': 'WETH-6Cc2USDC-eB48'}, {'cid': '1701411834604692317316873037158841057376-0', 'tknin': 'WETH-6Cc2', 'amtin': 10.34678570790589, '_amtin_wei': 10346785707905888256, 'tknout': 'USDC-eB48', 'amtout': -29000.0, '_amtout_wei': -29000000000, 'pair_sorting': 'WETH-6Cc2USDC-eB48'}, {'cid': '1701411834604692317316873037158841057378-0', 'tknin': 'WETH-6Cc2', 'amtin': 3.74625, '_amtin_wei': 3746250000000000000, 'tknout': 'USDC-eB48', 'amtout': -15000.0, '_amtout_wei': -15000000000, 'pair_sorting': 'WETH-6Cc2USDC-eB48'}, {'cid': '1701411834604692317316873037158841057377-0', 'tknin': 'WETH-6Cc2', 'amtin': 5.800645159609616, '_amtin_wei': 5800645159609615360, 'tknout': 'USDC-eB48', 'amtout': -18000.0, '_amtout_wei': -18000000000, 'pair_sorting': 'WETH-6Cc2USDC-eB48'}, {'cid': '1701411834604692317316873037158841057375-0', 'tknin': 'WETH-6Cc2', 'amtin': 11.8928571485281, '_amtin_wei': 11892857148528099328, 'tknout': 'USDC-eB48', 'amtout': -25000.0, '_amtout_wei': -25000000000, 'pair_sorting': 'WETH-6Cc2USDC-eB48'}, {'cid': '1701411834604692317316873037158841057292-0', 'tknin': 'WETH-6Cc2', 'amtin': 0.0033132643877948746, '_amtin_wei': 3313264387794874, 'tknout': 'USDC-eB48', 'amtout': -6.141324999999597, '_amtout_wei': -6141324, 'pair_sorting': 'WETH-6Cc2USDC-eB48'}, {'cid': '1701411834604692317316873037158841057339-0', 'tknin': 'WETH-6Cc2', 'amtin': 0.00023393288743992884, '_amtin_wei': 233932887439928, 'tknout': 'USDC-eB48', 'amtout': -0.41655385068497, '_amtout_wei': -416553, 'pair_sorting': 'WETH-6Cc2USDC-eB48'}, {'cid': '1701411834604692317316873037158841057296-0', 'tknin': 'WETH-6Cc2', 'amtin': 0.0010324067920446395, '_amtin_wei': 1032406792044639, 'tknout': 'USDC-eB48', 'amtout': -1.994537353515625, '_amtout_wei': -1994537, 'pair_sorting': 'WETH-6Cc2USDC-eB48'}, {'cid': '1701411834604692317316873037158841057360-0', 'tknin': 'WETH-6Cc2', 'amtin': 0.004943086847662926, '_amtin_wei': 4943086847662926, 'tknout': 'USDC-eB48', 'amtout': -11.62786865234375, '_amtout_wei': -11627868, 'pair_sorting': 'WETH-6Cc2USDC-eB48'}]\n",
      "Length of data: 9\n",
      "raw txs: []\n"
     ]
    },
    {
     "data": {
      "text/plain": "[TradeInstruction(ConfigObj=Config(network=_ConfigNetworkTenderly(), db=_ConfigDBPostgres(), logger=_ConfigLoggerDefault(), provider=_ConfigProviderTenderly()), cid='1701411834604692317316873037158841057353', tknin='WETH-6Cc2', amtin=31.800291166209057, tknout='USDC-eB48', amtout=-87028.03140485166, pair_sorting='WETH-6Cc2USDC-eB48', raw_txs=\"[{'cid': '1701411834604692317316873037158841057353-0', 'tknin': 'WETH-6Cc2', 'amtin': 0.004230459250509739, '_amtin_wei': 4230459250509738, 'tknout': 'USDC-eB48', 'amtout': -7.8511199951171875, '_amtout_wei': -7851119, 'pair_sorting': 'WETH-6Cc2USDC-eB48'}, {'cid': '1701411834604692317316873037158841057376-0', 'tknin': 'WETH-6Cc2', 'amtin': 10.34678570790589, '_amtin_wei': 10346785707905888256, 'tknout': 'USDC-eB48', 'amtout': -29000.0, '_amtout_wei': -29000000000, 'pair_sorting': 'WETH-6Cc2USDC-eB48'}, {'cid': '1701411834604692317316873037158841057378-0', 'tknin': 'WETH-6Cc2', 'amtin': 3.74625, '_amtin_wei': 3746250000000000000, 'tknout': 'USDC-eB48', 'amtout': -15000.0, '_amtout_wei': -15000000000, 'pair_sorting': 'WETH-6Cc2USDC-eB48'}, {'cid': '1701411834604692317316873037158841057377-0', 'tknin': 'WETH-6Cc2', 'amtin': 5.800645159609616, '_amtin_wei': 5800645159609615360, 'tknout': 'USDC-eB48', 'amtout': -18000.0, '_amtout_wei': -18000000000, 'pair_sorting': 'WETH-6Cc2USDC-eB48'}, {'cid': '1701411834604692317316873037158841057375-0', 'tknin': 'WETH-6Cc2', 'amtin': 11.8928571485281, '_amtin_wei': 11892857148528099328, 'tknout': 'USDC-eB48', 'amtout': -25000.0, '_amtout_wei': -25000000000, 'pair_sorting': 'WETH-6Cc2USDC-eB48'}, {'cid': '1701411834604692317316873037158841057292-0', 'tknin': 'WETH-6Cc2', 'amtin': 0.0033132643877948746, '_amtin_wei': 3313264387794874, 'tknout': 'USDC-eB48', 'amtout': -6.141324999999597, '_amtout_wei': -6141324, 'pair_sorting': 'WETH-6Cc2USDC-eB48'}, {'cid': '1701411834604692317316873037158841057339-0', 'tknin': 'WETH-6Cc2', 'amtin': 0.00023393288743992884, '_amtin_wei': 233932887439928, 'tknout': 'USDC-eB48', 'amtout': -0.41655385068497, '_amtout_wei': -416553, 'pair_sorting': 'WETH-6Cc2USDC-eB48'}, {'cid': '1701411834604692317316873037158841057296-0', 'tknin': 'WETH-6Cc2', 'amtin': 0.0010324067920446395, '_amtin_wei': 1032406792044639, 'tknout': 'USDC-eB48', 'amtout': -1.994537353515625, '_amtout_wei': -1994537, 'pair_sorting': 'WETH-6Cc2USDC-eB48'}, {'cid': '1701411834604692317316873037158841057360-0', 'tknin': 'WETH-6Cc2', 'amtin': 0.004943086847662926, '_amtin_wei': 4943086847662926, 'tknout': 'USDC-eB48', 'amtout': -11.62786865234375, '_amtout_wei': -11627868, 'pair_sorting': 'WETH-6Cc2USDC-eB48'}]\", custom_data='', db=DatabaseManager(ConfigObj=Config(network=_ConfigNetworkTenderly(), db=_ConfigDBPostgres(), logger=_ConfigLoggerDefault(), provider=_ConfigProviderTenderly()), contracts={}, filters=[], data=                                       cid                last_updated  \\\n 0     00125d26-4f9d-4936-9a46-7e7708cee9b5  2023-05-06 19:04:10.202420   \n 1219  5bbd01d2-ba90-49e8-8235-0f5183a44204  2023-05-06 19:11:11.844129   \n 1231  5c976f61-5847-4219-a2ee-0b1eb96b2775  2023-05-06 19:18:59.176213   \n 1230  5c87da80-15a0-4c59-baac-e8e9661ee920  2023-05-06 19:00:47.931782   \n 2635  c21eb1b9-cf04-4ec5-bad1-77fb1b29b38b  2023-05-06 19:13:37.076908   \n ...                                    ...                         ...   \n 1725  7ec3e511-0223-44ad-b5bf-e5a9a44158ff  2023-05-06 19:49:57.489499   \n 2302  a943c6e9-686b-4879-8118-b3c3affac2d8  2023-05-06 19:50:26.949196   \n 2771  ccc50a59-3e99-4dc5-9e28-a3fdc32cc832  2023-05-06 19:50:06.921640   \n 2769  ccb53832-8d07-4e16-8225-83b9de4767c4  2023-05-06 19:50:07.452203   \n 2054  97926fa0-7343-4677-8309-900947f76d6b  2023-05-06 19:49:49.198008   \n \n       last_updated_block                                     address  \\\n 0               17203475  0x7BeA39867e4169DBe237d55C8242a8f2fcDcc387   \n 1219            17203475  0x75099758a9D1f43198043825c8Fbcf8A12Be7a74   \n 1231            17203475  0x1c774B48Cd31dcF9FcB4bBb8FF52A8c4B4094C3d   \n 1230            17203475  0x19c10E1F20df3a8c2AC93a62d7FBA719fa777026   \n 2635            17203475  0xdb6897039084A2f8fb2b719716bA7A734f84aa66   \n ...                  ...                                         ...   \n 1725            17203475  0x931D1bF09f81B426fBe4CFDFab0b825b308c8db1   \n 2302            17203475  0xB521525b2E6Ad8Ef4c03E747B4541F366E5b8035   \n 2771            17203475  0x0A3DF697e872aB920f305dB00450c0A372E6C970   \n 2769            17203475  0x3870Ce6642959E3D844837Fd472E717736E06AAe   \n 2054            17203475  0x5bA42FaCDBc4aEAe6bEFcc567fd62e9242Fc69Ad   \n \n      exchange_name  exchange_id        fee  fee_float              pair_name  \\\n 0       uniswap_v3            4  10000.000      0.010    USDC-eB48/WETH-6Cc2   \n 1219    uniswap_v3            4  10000.000      0.010    sifu-C313/USDT-1ec7   \n 1231    uniswap_v3            4  10000.000      0.010     NYM-90e1/WETH-6Cc2   \n 1230    uniswap_v3            4  10000.000      0.010    DINO-c68F/WETH-6Cc2   \n 2635    uniswap_v3            4  10000.000      0.010    MEGA-B10E/WETH-6Cc2   \n ...            ...          ...        ...        ...                    ...   \n 1725     bancor_v2            0      0.003      0.003      BNT-FF1C/DIP-cD83   \n 2302     bancor_v2            0      0.003      0.003  BNT-FF1C/SHEESHA-E768   \n 2771     bancor_v2            0      0.003      0.003    BNT-FF1C/INDEX-4cab   \n 2769     bancor_v2            0      0.003      0.003     BNT-FF1C/EDEN-1559   \n 2054     bancor_v2            0      0.003      0.003     AAVE-DaE9/BNT-FF1C   \n \n                                     tkn0_address  ...     liquidity z_0 y_0  \\\n 0     0xA0b86991c6218b36c1d19D4a2e9Eb0cE3606eB48  ...  9.531908e+16 NaN NaN   \n 1219  0x29127fE04ffa4c32AcAC0fFe17280ABD74eAC313  ...  1.316793e+18 NaN NaN   \n 1231  0x525A8F6F3Ba4752868cde25164382BfbaE3990e1  ...  1.037216e+15 NaN NaN   \n 1230  0x49642110B712C1FD7261Bc074105E9E44676c68F  ...  2.504773e+22 NaN NaN   \n 2635  0x1892F6ff5FBE11c31158F8c6f6F6e33106c5B10E  ...  1.657896e+21 NaN NaN   \n ...                                          ...  ...           ...  ..  ..   \n 1725  0x1F573D6Fb3F13d689FF844B4cE37794d79a7FF1C  ...           NaN NaN NaN   \n 2302  0x1F573D6Fb3F13d689FF844B4cE37794d79a7FF1C  ...           NaN NaN NaN   \n 2771  0x1F573D6Fb3F13d689FF844B4cE37794d79a7FF1C  ...           NaN NaN NaN   \n 2769  0x1F573D6Fb3F13d689FF844B4cE37794d79a7FF1C  ...           NaN NaN NaN   \n 2054  0x7Fc66500c84A76Ad7e9c93437bFc5Ac33E2DDaE9  ...           NaN NaN NaN   \n \n      A_0 B_0  z_1  y_1  A_1  B_1                                  descr  \n 0    NaN NaN  NaN  NaN  NaN  NaN   uniswap_v3 USDC-eB48/WETH-6Cc2 10000  \n 1219 NaN NaN  NaN  NaN  NaN  NaN   uniswap_v3 sifu-C313/USDT-1ec7 10000  \n 1231 NaN NaN  NaN  NaN  NaN  NaN    uniswap_v3 NYM-90e1/WETH-6Cc2 10000  \n 1230 NaN NaN  NaN  NaN  NaN  NaN   uniswap_v3 DINO-c68F/WETH-6Cc2 10000  \n 2635 NaN NaN  NaN  NaN  NaN  NaN   uniswap_v3 MEGA-B10E/WETH-6Cc2 10000  \n ...   ..  ..  ...  ...  ...  ...                                    ...  \n 1725 NaN NaN  NaN  NaN  NaN  NaN      bancor_v2 BNT-FF1C/DIP-cD83 0.003  \n 2302 NaN NaN  NaN  NaN  NaN  NaN  bancor_v2 BNT-FF1C/SHEESHA-E768 0.003  \n 2771 NaN NaN  NaN  NaN  NaN  NaN    bancor_v2 BNT-FF1C/INDEX-4cab 0.003  \n 2769 NaN NaN  NaN  NaN  NaN  NaN     bancor_v2 BNT-FF1C/EDEN-1559 0.003  \n 2054 NaN NaN  NaN  NaN  NaN  NaN     bancor_v2 AAVE-DaE9/BNT-FF1C 0.003  \n \n [3550 rows x 32 columns]), tknin_dec_override=None, tknout_dec_override=None, tknin_addr_override=None, tknout_addr_override=None, exchange_override=None, _amtin_wei=-5093196981210048183, _amtout_wei=-87028031401),\n TradeInstruction(ConfigObj=Config(network=_ConfigNetworkTenderly(), db=_ConfigDBPostgres(), logger=_ConfigLoggerDefault(), provider=_ConfigProviderTenderly()), cid='50ac5ace09c1483987af46c60c551073', tknin='USDC-eB48', amtin=Decimal('86758.444664'), tknout='WETH-6Cc2', amtout=Decimal('49.319757603950395836'), pair_sorting='USDC-eB48WETH-6Cc2', raw_txs='[]', custom_data='', db=DatabaseManager(ConfigObj=Config(network=_ConfigNetworkTenderly(), db=_ConfigDBPostgres(), logger=_ConfigLoggerDefault(), provider=_ConfigProviderTenderly()), contracts={}, filters=[], data=                                       cid                last_updated  \\\n 0     00125d26-4f9d-4936-9a46-7e7708cee9b5  2023-05-06 19:04:10.202420   \n 1219  5bbd01d2-ba90-49e8-8235-0f5183a44204  2023-05-06 19:11:11.844129   \n 1231  5c976f61-5847-4219-a2ee-0b1eb96b2775  2023-05-06 19:18:59.176213   \n 1230  5c87da80-15a0-4c59-baac-e8e9661ee920  2023-05-06 19:00:47.931782   \n 2635  c21eb1b9-cf04-4ec5-bad1-77fb1b29b38b  2023-05-06 19:13:37.076908   \n ...                                    ...                         ...   \n 1725  7ec3e511-0223-44ad-b5bf-e5a9a44158ff  2023-05-06 19:49:57.489499   \n 2302  a943c6e9-686b-4879-8118-b3c3affac2d8  2023-05-06 19:50:26.949196   \n 2771  ccc50a59-3e99-4dc5-9e28-a3fdc32cc832  2023-05-06 19:50:06.921640   \n 2769  ccb53832-8d07-4e16-8225-83b9de4767c4  2023-05-06 19:50:07.452203   \n 2054  97926fa0-7343-4677-8309-900947f76d6b  2023-05-06 19:49:49.198008   \n \n       last_updated_block                                     address  \\\n 0               17203475  0x7BeA39867e4169DBe237d55C8242a8f2fcDcc387   \n 1219            17203475  0x75099758a9D1f43198043825c8Fbcf8A12Be7a74   \n 1231            17203475  0x1c774B48Cd31dcF9FcB4bBb8FF52A8c4B4094C3d   \n 1230            17203475  0x19c10E1F20df3a8c2AC93a62d7FBA719fa777026   \n 2635            17203475  0xdb6897039084A2f8fb2b719716bA7A734f84aa66   \n ...                  ...                                         ...   \n 1725            17203475  0x931D1bF09f81B426fBe4CFDFab0b825b308c8db1   \n 2302            17203475  0xB521525b2E6Ad8Ef4c03E747B4541F366E5b8035   \n 2771            17203475  0x0A3DF697e872aB920f305dB00450c0A372E6C970   \n 2769            17203475  0x3870Ce6642959E3D844837Fd472E717736E06AAe   \n 2054            17203475  0x5bA42FaCDBc4aEAe6bEFcc567fd62e9242Fc69Ad   \n \n      exchange_name  exchange_id        fee  fee_float              pair_name  \\\n 0       uniswap_v3            4  10000.000      0.010    USDC-eB48/WETH-6Cc2   \n 1219    uniswap_v3            4  10000.000      0.010    sifu-C313/USDT-1ec7   \n 1231    uniswap_v3            4  10000.000      0.010     NYM-90e1/WETH-6Cc2   \n 1230    uniswap_v3            4  10000.000      0.010    DINO-c68F/WETH-6Cc2   \n 2635    uniswap_v3            4  10000.000      0.010    MEGA-B10E/WETH-6Cc2   \n ...            ...          ...        ...        ...                    ...   \n 1725     bancor_v2            0      0.003      0.003      BNT-FF1C/DIP-cD83   \n 2302     bancor_v2            0      0.003      0.003  BNT-FF1C/SHEESHA-E768   \n 2771     bancor_v2            0      0.003      0.003    BNT-FF1C/INDEX-4cab   \n 2769     bancor_v2            0      0.003      0.003     BNT-FF1C/EDEN-1559   \n 2054     bancor_v2            0      0.003      0.003     AAVE-DaE9/BNT-FF1C   \n \n                                     tkn0_address  ...     liquidity z_0 y_0  \\\n 0     0xA0b86991c6218b36c1d19D4a2e9Eb0cE3606eB48  ...  9.531908e+16 NaN NaN   \n 1219  0x29127fE04ffa4c32AcAC0fFe17280ABD74eAC313  ...  1.316793e+18 NaN NaN   \n 1231  0x525A8F6F3Ba4752868cde25164382BfbaE3990e1  ...  1.037216e+15 NaN NaN   \n 1230  0x49642110B712C1FD7261Bc074105E9E44676c68F  ...  2.504773e+22 NaN NaN   \n 2635  0x1892F6ff5FBE11c31158F8c6f6F6e33106c5B10E  ...  1.657896e+21 NaN NaN   \n ...                                          ...  ...           ...  ..  ..   \n 1725  0x1F573D6Fb3F13d689FF844B4cE37794d79a7FF1C  ...           NaN NaN NaN   \n 2302  0x1F573D6Fb3F13d689FF844B4cE37794d79a7FF1C  ...           NaN NaN NaN   \n 2771  0x1F573D6Fb3F13d689FF844B4cE37794d79a7FF1C  ...           NaN NaN NaN   \n 2769  0x1F573D6Fb3F13d689FF844B4cE37794d79a7FF1C  ...           NaN NaN NaN   \n 2054  0x7Fc66500c84A76Ad7e9c93437bFc5Ac33E2DDaE9  ...           NaN NaN NaN   \n \n      A_0 B_0  z_1  y_1  A_1  B_1                                  descr  \n 0    NaN NaN  NaN  NaN  NaN  NaN   uniswap_v3 USDC-eB48/WETH-6Cc2 10000  \n 1219 NaN NaN  NaN  NaN  NaN  NaN   uniswap_v3 sifu-C313/USDT-1ec7 10000  \n 1231 NaN NaN  NaN  NaN  NaN  NaN    uniswap_v3 NYM-90e1/WETH-6Cc2 10000  \n 1230 NaN NaN  NaN  NaN  NaN  NaN   uniswap_v3 DINO-c68F/WETH-6Cc2 10000  \n 2635 NaN NaN  NaN  NaN  NaN  NaN   uniswap_v3 MEGA-B10E/WETH-6Cc2 10000  \n ...   ..  ..  ...  ...  ...  ...                                    ...  \n 1725 NaN NaN  NaN  NaN  NaN  NaN      bancor_v2 BNT-FF1C/DIP-cD83 0.003  \n 2302 NaN NaN  NaN  NaN  NaN  NaN  bancor_v2 BNT-FF1C/SHEESHA-E768 0.003  \n 2771 NaN NaN  NaN  NaN  NaN  NaN    bancor_v2 BNT-FF1C/INDEX-4cab 0.003  \n 2769 NaN NaN  NaN  NaN  NaN  NaN     bancor_v2 BNT-FF1C/EDEN-1559 0.003  \n 2054 NaN NaN  NaN  NaN  NaN  NaN     bancor_v2 AAVE-DaE9/BNT-FF1C 0.003  \n \n [3550 rows x 32 columns]), tknin_dec_override=None, tknout_dec_override=None, tknin_addr_override=None, tknout_addr_override=None, exchange_override=None, _amtin_wei=86758444664, _amtout_wei=49319757603950395836)]"
     },
     "execution_count": 21,
     "metadata": {},
     "output_type": "execute_result"
    }
   ],
   "source": [
    "exact = bot._run(flashloan_tokens=flt, CCm=CCm2, result=bot.XS_EXACT)\n",
    "exact"
   ]
  },
  {
   "cell_type": "code",
   "execution_count": 22,
   "outputs": [
    {
     "name": "stdout",
     "output_type": "stream",
     "text": [
      "31.800291166209057 WETH-6Cc2 -87028.03140485166 USDC-eB48\n",
      "86758.444664 USDC-eB48 49.319757603950395836 WETH-6Cc2\n"
     ]
    }
   ],
   "source": [
    "for trade in exact:\n",
    "    print(trade.amtin, trade.tknin, trade.amtout, trade.tknout)"
   ],
   "metadata": {
    "collapsed": false,
    "ExecuteTime": {
     "end_time": "2023-05-15T14:10:48.382172800Z",
     "start_time": "2023-05-15T14:10:48.352078700Z"
    }
   }
  },
  {
   "cell_type": "code",
   "execution_count": 24,
   "outputs": [],
   "source": [
    "# assert False"
   ],
   "metadata": {
    "collapsed": false,
    "ExecuteTime": {
     "end_time": "2023-05-15T14:16:17.865210800Z",
     "start_time": "2023-05-15T14:16:17.850734800Z"
    }
   }
  },
  {
   "cell_type": "code",
   "execution_count": 24,
   "outputs": [],
   "source": [],
   "metadata": {
    "collapsed": false,
    "ExecuteTime": {
     "end_time": "2023-05-15T14:16:18.005024200Z",
     "start_time": "2023-05-15T14:16:17.990038900Z"
    }
   }
  },
  {
   "cell_type": "code",
   "execution_count": 25,
   "outputs": [],
   "source": [
    "# agg = bot._run(flashloan_tokens=flt, CCm=CCm, result=bot.XS_AGGTI)\n",
    "# agg"
   ],
   "metadata": {
    "collapsed": false,
    "ExecuteTime": {
     "end_time": "2023-05-15T14:16:18.158060100Z",
     "start_time": "2023-05-15T14:16:18.141529600Z"
    }
   }
  },
  {
   "cell_type": "code",
   "execution_count": 26,
   "outputs": [],
   "source": [
    "# agg[0].raw_txs"
   ],
   "metadata": {
    "collapsed": false,
    "ExecuteTime": {
     "end_time": "2023-05-15T14:16:18.340986400Z",
     "start_time": "2023-05-15T14:16:18.318440100Z"
    }
   }
  },
  {
   "cell_type": "code",
   "execution_count": 27,
   "outputs": [],
   "source": [
    "# agg[1].raw_txs"
   ],
   "metadata": {
    "collapsed": false,
    "ExecuteTime": {
     "end_time": "2023-05-15T14:16:18.504142900Z",
     "start_time": "2023-05-15T14:16:18.486019Z"
    }
   }
  },
  {
   "cell_type": "code",
   "execution_count": 28,
   "outputs": [
    {
     "data": {
      "text/plain": "(-5093196981210048183, -87028031401)"
     },
     "execution_count": 28,
     "metadata": {},
     "output_type": "execute_result"
    }
   ],
   "source": [
    "exact[0].amtin_wei, exact[0].amtout_wei"
   ],
   "metadata": {
    "collapsed": false,
    "ExecuteTime": {
     "end_time": "2023-05-15T14:16:18.720042600Z",
     "start_time": "2023-05-15T14:16:18.711382100Z"
    }
   }
  },
  {
   "cell_type": "code",
   "execution_count": 29,
   "outputs": [
    {
     "data": {
      "text/plain": "(86758444664, 49319757603950395836)"
     },
     "execution_count": 29,
     "metadata": {},
     "output_type": "execute_result"
    }
   ],
   "source": [
    "exact[1].amtin_wei, exact[1].amtout_wei"
   ],
   "metadata": {
    "collapsed": false,
    "ExecuteTime": {
     "end_time": "2023-05-15T14:16:19.169808900Z",
     "start_time": "2023-05-15T14:16:19.160086100Z"
    }
   }
  },
  {
   "cell_type": "code",
   "execution_count": 30,
   "id": "1905eb9d",
   "metadata": {
    "ExecuteTime": {
     "end_time": "2023-05-15T14:16:27.910565300Z",
     "start_time": "2023-05-15T14:16:21.410586400Z"
    }
   },
   "outputs": [
    {
     "name": "stderr",
     "output_type": "stream",
     "text": [
      "C:\\Users\\Kveen\\PycharmProjects\\carbonbot\\resources\\NBTest\\fastlane_bot\\tools\\optimizer.py:1310: RuntimeWarning: divide by zero encountered in scalar divide\n",
      "  price = get(p, tokens_ix.get(tknb)) / get(p, tokens_ix.get(tknq))\n",
      "C:\\Users\\Kveen\\PycharmProjects\\carbonbot\\resources\\NBTest\\fastlane_bot\\tools\\optimizer.py:1157: RuntimeWarning: invalid value encountered in subtract\n",
      "  jac[:, j] = (func(x_plus) - y) / Dxj\n",
      "C:\\Users\\Kveen\\PycharmProjects\\carbonbot\\resources\\NBTest\\fastlane_bot\\tools\\optimizer.py:1310: RuntimeWarning: divide by zero encountered in scalar divide\n",
      "  price = get(p, tokens_ix.get(tknb)) / get(p, tokens_ix.get(tknq))\n",
      "C:\\Users\\Kveen\\PycharmProjects\\carbonbot\\resources\\NBTest\\fastlane_bot\\tools\\optimizer.py:1157: RuntimeWarning: invalid value encountered in subtract\n",
      "  jac[:, j] = (func(x_plus) - y) / Dxj\n",
      "C:\\Users\\Kveen\\PycharmProjects\\carbonbot\\resources\\NBTest\\fastlane_bot\\tools\\optimizer.py:1310: RuntimeWarning: divide by zero encountered in scalar divide\n",
      "  price = get(p, tokens_ix.get(tknb)) / get(p, tokens_ix.get(tknq))\n",
      "C:\\Users\\Kveen\\PycharmProjects\\carbonbot\\resources\\NBTest\\fastlane_bot\\tools\\optimizer.py:1157: RuntimeWarning: invalid value encountered in subtract\n",
      "  jac[:, j] = (func(x_plus) - y) / Dxj\n",
      "C:\\Users\\Kveen\\PycharmProjects\\carbonbot\\resources\\NBTest\\fastlane_bot\\tools\\optimizer.py:1310: RuntimeWarning: divide by zero encountered in scalar divide\n",
      "  price = get(p, tokens_ix.get(tknb)) / get(p, tokens_ix.get(tknq))\n",
      "C:\\Users\\Kveen\\PycharmProjects\\carbonbot\\resources\\NBTest\\fastlane_bot\\tools\\optimizer.py:1310: RuntimeWarning: divide by zero encountered in scalar divide\n",
      "  price = get(p, tokens_ix.get(tknb)) / get(p, tokens_ix.get(tknq))\n",
      "C:\\Users\\Kveen\\PycharmProjects\\carbonbot\\resources\\NBTest\\fastlane_bot\\tools\\optimizer.py:1310: RuntimeWarning: divide by zero encountered in scalar divide\n",
      "  price = get(p, tokens_ix.get(tknb)) / get(p, tokens_ix.get(tknq))\n"
     ]
    },
    {
     "name": "stdout",
     "output_type": "stream",
     "text": [
      "Going into calculate trade outputs:\n",
      "amtin:31.800291166209057 tknWETH-6Cc2, amtout:-87028.03140485166 tknUSDC-eB48\n",
      "amtin:87028.03140489757 tknUSDC-eB48, amtout:-49.626459348251956 tknWETH-6Cc2\n",
      "raw txs: [{'cid': '1701411834604692317316873037158841057353-0', 'tknin': 'WETH-6Cc2', 'amtin': 0.004230459250509739, '_amtin_wei': 4230459250509738, 'tknout': 'USDC-eB48', 'amtout': -7.8511199951171875, '_amtout_wei': -7851119, 'pair_sorting': 'WETH-6Cc2USDC-eB48'}, {'cid': '1701411834604692317316873037158841057376-0', 'tknin': 'WETH-6Cc2', 'amtin': 10.34678570790589, '_amtin_wei': 10346785707905888256, 'tknout': 'USDC-eB48', 'amtout': -29000.0, '_amtout_wei': -29000000000, 'pair_sorting': 'WETH-6Cc2USDC-eB48'}, {'cid': '1701411834604692317316873037158841057378-0', 'tknin': 'WETH-6Cc2', 'amtin': 3.74625, '_amtin_wei': 3746250000000000000, 'tknout': 'USDC-eB48', 'amtout': -15000.0, '_amtout_wei': -15000000000, 'pair_sorting': 'WETH-6Cc2USDC-eB48'}, {'cid': '1701411834604692317316873037158841057377-0', 'tknin': 'WETH-6Cc2', 'amtin': 5.800645159609616, '_amtin_wei': 5800645159609615360, 'tknout': 'USDC-eB48', 'amtout': -18000.0, '_amtout_wei': -18000000000, 'pair_sorting': 'WETH-6Cc2USDC-eB48'}, {'cid': '1701411834604692317316873037158841057375-0', 'tknin': 'WETH-6Cc2', 'amtin': 11.8928571485281, '_amtin_wei': 11892857148528099328, 'tknout': 'USDC-eB48', 'amtout': -25000.0, '_amtout_wei': -25000000000, 'pair_sorting': 'WETH-6Cc2USDC-eB48'}, {'cid': '1701411834604692317316873037158841057292-0', 'tknin': 'WETH-6Cc2', 'amtin': 0.0033132643877948746, '_amtin_wei': 3313264387794874, 'tknout': 'USDC-eB48', 'amtout': -6.141324999999597, '_amtout_wei': -6141324, 'pair_sorting': 'WETH-6Cc2USDC-eB48'}, {'cid': '1701411834604692317316873037158841057339-0', 'tknin': 'WETH-6Cc2', 'amtin': 0.00023393288743992884, '_amtin_wei': 233932887439928, 'tknout': 'USDC-eB48', 'amtout': -0.41655385068497, '_amtout_wei': -416553, 'pair_sorting': 'WETH-6Cc2USDC-eB48'}, {'cid': '1701411834604692317316873037158841057296-0', 'tknin': 'WETH-6Cc2', 'amtin': 0.0010324067920446395, '_amtin_wei': 1032406792044639, 'tknout': 'USDC-eB48', 'amtout': -1.994537353515625, '_amtout_wei': -1994537, 'pair_sorting': 'WETH-6Cc2USDC-eB48'}, {'cid': '1701411834604692317316873037158841057360-0', 'tknin': 'WETH-6Cc2', 'amtin': 0.004943086847662926, '_amtin_wei': 4943086847662926, 'tknout': 'USDC-eB48', 'amtout': -11.62786865234375, '_amtout_wei': -11627868, 'pair_sorting': 'WETH-6Cc2USDC-eB48'}]\n",
      "Length of data: 9\n",
      "raw txs: []\n"
     ]
    },
    {
     "name": "stderr",
     "output_type": "stream",
     "text": [
      "2023-05-15 17:16:27,839 [fastlane:ERROR] - [Failed to update profit in BNT for price of token: ETH-EEeE] error:unsupported operand type(s) for -: 'decimal.Decimal' and 'float'\n"
     ]
    },
    {
     "ename": "IndexError",
     "evalue": "list index out of range",
     "output_type": "error",
     "traceback": [
      "\u001B[1;31m---------------------------------------------------------------------------\u001B[0m",
      "\u001B[1;31mIndexError\u001B[0m                                Traceback (most recent call last)",
      "Cell \u001B[1;32mIn [30], line 1\u001B[0m\n\u001B[1;32m----> 1\u001B[0m route_struct, flashloan_amount, flashloan_token_address \u001B[38;5;241m=\u001B[39m \u001B[43mbot\u001B[49m\u001B[38;5;241;43m.\u001B[39;49m\u001B[43m_run\u001B[49m\u001B[43m(\u001B[49m\u001B[43mflashloan_tokens\u001B[49m\u001B[38;5;241;43m=\u001B[39;49m\u001B[43mflt\u001B[49m\u001B[43m,\u001B[49m\u001B[43m \u001B[49m\u001B[43mCCm\u001B[49m\u001B[38;5;241;43m=\u001B[39;49m\u001B[43mCCm2\u001B[49m\u001B[43m,\u001B[49m\u001B[43m \u001B[49m\u001B[43mresult\u001B[49m\u001B[38;5;241;43m=\u001B[39;49m\u001B[43mbot\u001B[49m\u001B[38;5;241;43m.\u001B[39;49m\u001B[43mXS_ROUTE\u001B[49m\u001B[43m)\u001B[49m\n",
      "File \u001B[1;32m~\\PycharmProjects\\carbonbot\\resources\\NBTest\\fastlane_bot\\bot.py:955\u001B[0m, in \u001B[0;36mCarbonBot._run\u001B[1;34m(self, flashloan_tokens, CCm, result, arb_mode)\u001B[0m\n\u001B[0;32m    944\u001B[0m     \u001B[38;5;28;01mreturn\u001B[39;00m (\u001B[38;5;28;01mNone\u001B[39;00m, \u001B[38;5;28;01mNone\u001B[39;00m)\n\u001B[0;32m    946\u001B[0m \u001B[38;5;66;03m# Saved previous agg trade instructions location\u001B[39;00m\n\u001B[0;32m    947\u001B[0m \u001B[38;5;66;03m# agg_trade_instructions = tx_route_handler._aggregate_carbon_trades(\u001B[39;00m\n\u001B[0;32m    948\u001B[0m \u001B[38;5;66;03m#     trade_instructions_objects=calculated_trade_instructions\u001B[39;00m\n\u001B[1;32m   (...)\u001B[0m\n\u001B[0;32m    953\u001B[0m \n\u001B[0;32m    954\u001B[0m \u001B[38;5;66;03m# Get the flashloan amount\u001B[39;00m\n\u001B[1;32m--> 955\u001B[0m flashloan_amount \u001B[38;5;241m=\u001B[39m \u001B[38;5;28mint\u001B[39m(\u001B[38;5;28;43msum\u001B[39;49m\u001B[43m(\u001B[49m\u001B[43magg_trade_instructions\u001B[49m\u001B[43m[\u001B[49m\u001B[43mi\u001B[49m\u001B[43m]\u001B[49m\u001B[38;5;241;43m.\u001B[39;49m\u001B[43mamtin_wei\u001B[49m\u001B[43m \u001B[49m\u001B[38;5;28;43;01mfor\u001B[39;49;00m\u001B[43m \u001B[49m\u001B[43mi\u001B[49m\u001B[43m \u001B[49m\u001B[38;5;129;43;01min\u001B[39;49;00m\u001B[43m \u001B[49m\u001B[38;5;28;43mrange\u001B[39;49m\u001B[43m(\u001B[49m\u001B[43mtx_in_count\u001B[49m\u001B[43m)\u001B[49m\u001B[43m)\u001B[49m)\n\u001B[0;32m    957\u001B[0m \u001B[38;5;66;03m# Get the flashloan token and verify\u001B[39;00m\n\u001B[0;32m    958\u001B[0m \u001B[38;5;66;03m# fl_token = agg_trade_instructions[0].tknin_key\u001B[39;00m\n\u001B[0;32m    959\u001B[0m is_carbon \u001B[38;5;241m=\u001B[39m \u001B[38;5;28;01mTrue\u001B[39;00m \u001B[38;5;28;01mif\u001B[39;00m agg_trade_instructions[\u001B[38;5;241m0\u001B[39m]\u001B[38;5;241m.\u001B[39mraw_txs \u001B[38;5;241m!=\u001B[39m [] \u001B[38;5;28;01melse\u001B[39;00m \u001B[38;5;28;01mFalse\u001B[39;00m\n",
      "File \u001B[1;32m~\\PycharmProjects\\carbonbot\\resources\\NBTest\\fastlane_bot\\bot.py:955\u001B[0m, in \u001B[0;36m<genexpr>\u001B[1;34m(.0)\u001B[0m\n\u001B[0;32m    944\u001B[0m     \u001B[38;5;28;01mreturn\u001B[39;00m (\u001B[38;5;28;01mNone\u001B[39;00m, \u001B[38;5;28;01mNone\u001B[39;00m)\n\u001B[0;32m    946\u001B[0m \u001B[38;5;66;03m# Saved previous agg trade instructions location\u001B[39;00m\n\u001B[0;32m    947\u001B[0m \u001B[38;5;66;03m# agg_trade_instructions = tx_route_handler._aggregate_carbon_trades(\u001B[39;00m\n\u001B[0;32m    948\u001B[0m \u001B[38;5;66;03m#     trade_instructions_objects=calculated_trade_instructions\u001B[39;00m\n\u001B[1;32m   (...)\u001B[0m\n\u001B[0;32m    953\u001B[0m \n\u001B[0;32m    954\u001B[0m \u001B[38;5;66;03m# Get the flashloan amount\u001B[39;00m\n\u001B[1;32m--> 955\u001B[0m flashloan_amount \u001B[38;5;241m=\u001B[39m \u001B[38;5;28mint\u001B[39m(\u001B[38;5;28msum\u001B[39m(\u001B[43magg_trade_instructions\u001B[49m\u001B[43m[\u001B[49m\u001B[43mi\u001B[49m\u001B[43m]\u001B[49m\u001B[38;5;241m.\u001B[39mamtin_wei \u001B[38;5;28;01mfor\u001B[39;00m i \u001B[38;5;129;01min\u001B[39;00m \u001B[38;5;28mrange\u001B[39m(tx_in_count)))\n\u001B[0;32m    957\u001B[0m \u001B[38;5;66;03m# Get the flashloan token and verify\u001B[39;00m\n\u001B[0;32m    958\u001B[0m \u001B[38;5;66;03m# fl_token = agg_trade_instructions[0].tknin_key\u001B[39;00m\n\u001B[0;32m    959\u001B[0m is_carbon \u001B[38;5;241m=\u001B[39m \u001B[38;5;28;01mTrue\u001B[39;00m \u001B[38;5;28;01mif\u001B[39;00m agg_trade_instructions[\u001B[38;5;241m0\u001B[39m]\u001B[38;5;241m.\u001B[39mraw_txs \u001B[38;5;241m!=\u001B[39m [] \u001B[38;5;28;01melse\u001B[39;00m \u001B[38;5;28;01mFalse\u001B[39;00m\n",
      "\u001B[1;31mIndexError\u001B[0m: list index out of range"
     ]
    }
   ],
   "source": [
    "route_struct, flashloan_amount, flashloan_token_address = bot._run(flashloan_tokens=flt, CCm=CCm2, result=bot.XS_ROUTE)"
   ]
  },
  {
   "cell_type": "code",
   "execution_count": null,
   "id": "24db122b",
   "metadata": {},
   "outputs": [],
   "source": [
    "route_struct, flashloan_amount, flashloan_token_address"
   ]
  },
  {
   "attachments": {},
   "cell_type": "markdown",
   "id": "628bca30",
   "metadata": {},
   "source": [
    "# Tenderly Tx Submission"
   ]
  },
  {
   "cell_type": "code",
   "execution_count": null,
   "id": "76a8ec45",
   "metadata": {},
   "outputs": [],
   "source": [
    "# C.w3.provider.endpoint_uri"
   ]
  },
  {
   "cell_type": "code",
   "execution_count": null,
   "id": "477ac528",
   "metadata": {},
   "outputs": [],
   "source": [
    "# C.w3.eth.getBlock(C.w3.eth.block_number).timestamp"
   ]
  },
  {
   "cell_type": "code",
   "execution_count": null,
   "id": "c1956941",
   "metadata": {},
   "outputs": [],
   "source": [
    "# C.provider.CARBON_CONTROLLER_CONTRACT.strategy(13951577043758477001998358904702496669788)"
   ]
  },
  {
   "cell_type": "code",
   "execution_count": null,
   "id": "6599f4a9",
   "metadata": {},
   "outputs": [],
   "source": [
    "### This to manually submit\n",
    "bot._validate_and_submit_transaction_tenderly(\n",
    "        ConfigObj = C,\n",
    "        route_struct = route_struct,\n",
    "        src_amount = flashloan_amount,\n",
    "        src_address = flashloan_token_address,\n",
    "            )"
   ]
  },
  {
   "attachments": {},
   "cell_type": "markdown",
   "id": "993e6614",
   "metadata": {},
   "source": [
    "# MAINNNET Preferred Tx Submission Method"
   ]
  },
  {
   "cell_type": "code",
   "execution_count": null,
   "id": "67273141",
   "metadata": {},
   "outputs": [],
   "source": [
    "# from fastlane_bot.helpers import TxHelpers"
   ]
  },
  {
   "cell_type": "code",
   "execution_count": null,
   "id": "75ae6224",
   "metadata": {},
   "outputs": [],
   "source": [
    "# pool = (\n",
    "#     bot.db.get_pool(exchange_name=bot.ConfigObj.BANCOR_V3_NAME, pair_name='BNT-FF1C/ETH-EEeE')\n",
    "# )\n",
    "# bnt_eth = (int(pool.tkn0_balance), int(pool.tkn1_balance))\n",
    "\n",
    "# # Init TxHelpers\n",
    "# tx_helpers = TxHelpers(ConfigObj=bot.ConfigObj)\n",
    "# # Submit tx\n",
    "\n"
   ]
  },
  {
   "cell_type": "code",
   "execution_count": null,
   "id": "17ab9e38",
   "metadata": {},
   "outputs": [],
   "source": [
    "# tx_helpers.validate_and_submit_transaction(route_struct=route_struct, src_amt=flashloan_amount,\n",
    "#                                                     src_address=flashloan_token_address, bnt_eth=bnt_eth,\n",
    "#                                                     expected_profit=Decimal('1000'), safety_override=True)"
   ]
  },
  {
   "attachments": {},
   "cell_type": "markdown",
   "id": "0eb9760c",
   "metadata": {},
   "source": [
    "# MAINNET Forced Tx Submission Method"
   ]
  },
  {
   "cell_type": "code",
   "execution_count": null,
   "id": "931af988",
   "metadata": {},
   "outputs": [],
   "source": [
    "# # Initialize tx helper\n",
    "# tx_helper = TxHelper(\n",
    "#     usd_gas_limit=55,\n",
    "#     ConfigObj=bot.ConfigObj,\n",
    "#     gas_price_multiplier = 1\n",
    "# )\n",
    "# # # Submit the transaction\n",
    "# # tx_helper.submit_flashloan_arb_tx(\n",
    "# #     arb_data=route_struct,\n",
    "# #     flashloan_token_address=flashloan_token_address,\n",
    "# #     flashloan_amount=flashloan_amount,\n",
    "# #     verbose=True,\n",
    "# # )"
   ]
  },
  {
   "cell_type": "code",
   "execution_count": null,
   "id": "5894289c",
   "metadata": {},
   "outputs": [],
   "source": [
    "# tx_helper.gas_limit"
   ]
  }
 ],
 "metadata": {
  "jupytext": {
   "encoding": "# -*- coding: utf-8 -*-",
   "formats": "ipynb,py:light"
  },
  "kernelspec": {
   "display_name": "Python 3 (ipykernel)",
   "language": "python",
   "name": "python3"
  },
  "language_info": {
   "codemirror_mode": {
    "name": "ipython",
    "version": 3
   },
   "file_extension": ".py",
   "mimetype": "text/x-python",
   "name": "python",
   "nbconvert_exporter": "python",
   "pygments_lexer": "ipython3",
   "version": "3.10.10"
  }
 },
 "nbformat": 4,
 "nbformat_minor": 5
}

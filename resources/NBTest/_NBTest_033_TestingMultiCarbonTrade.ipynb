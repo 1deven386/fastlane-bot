{
 "cells": [
  {
   "cell_type": "code",
   "execution_count": 1,
   "id": "8f04c50a-67fe-4f09-822d-6ed6e3ac43e4",
   "metadata": {
    "ExecuteTime": {
     "end_time": "2023-05-15T14:46:18.355293300Z",
     "start_time": "2023-05-15T14:46:12.804001600Z"
    }
   },
   "outputs": [
    {
     "name": "stdout",
     "output_type": "stream",
     "text": [
      "Using default database url, if you want to use a different database, set the backend_url found at the bottom of manager_base.py\n",
      "ConstantProductCurve v2.10.1 (07/May/2023)\n",
      "CarbonBot v3-b2.1 (03/May/2023)\n",
      "imported m, np, pd, plt, os, sys, decimal; defined iseq, raises, require\n"
     ]
    },
    {
     "name": "stderr",
     "output_type": "stream",
     "text": [
      "C:\\Users\\nicho\\AppData\\Local\\Temp\\ipykernel_41212\\1801012949.py:8: MatplotlibDeprecationWarning: The seaborn styles shipped by Matplotlib are deprecated since 3.6, as they no longer correspond to the styles shipped by seaborn. However, they will remain available as 'seaborn-v0_8-<style>'. Alternatively, directly use the seaborn API instead.\n",
      "  plt.style.use('seaborn-dark')\n"
     ]
    },
    {
     "name": "stdout",
     "output_type": "stream",
     "text": [
      "Version = 3-b2.1 [requirements >= 2.0 is met]\n"
     ]
    }
   ],
   "source": [
    "from fastlane_bot import Config, ConfigDB, ConfigNetwork, ConfigProvider\n",
    "from fastlane_bot.bot import CarbonBot\n",
    "from fastlane_bot.tools.cpc import ConstantProductCurve as CPC, CPCContainer, T\n",
    "from fastlane_bot.helpers import TxHelper\n",
    "print(\"{0.__name__} v{0.__VERSION__} ({0.__DATE__})\".format(CPC))\n",
    "print(\"{0.__name__} v{0.__VERSION__} ({0.__DATE__})\".format(CarbonBot))\n",
    "from fastlane_bot.testing import *\n",
    "plt.style.use('seaborn-dark')\n",
    "plt.rcParams['figure.figsize'] = [12,6]\n",
    "from fastlane_bot import __VERSION__\n",
    "require(\"2.0\", __VERSION__)"
   ]
  },
  {
   "attachments": {},
   "cell_type": "markdown",
   "id": "b3f59f14-b91b-4dba-94b0-3d513aaf41c7",
   "metadata": {},
   "source": [
    "# Testing the _run functions on TENDERLY [NBTest022]"
   ]
  },
  {
   "attachments": {},
   "cell_type": "markdown",
   "id": "cf03072d-6304-41f8-b132-9470ae81ac7c",
   "metadata": {},
   "source": [
    "## Tenderly Configuration"
   ]
  },
  {
   "attachments": {},
   "cell_type": "markdown",
   "id": "0990888a-698c-487c-9142-80e62a8393ac",
   "metadata": {},
   "source": [
    "### Set up the bot and curves"
   ]
  },
  {
   "cell_type": "code",
   "execution_count": 2,
   "id": "da9ff008-cb12-44f7-93a8-84f7386da886",
   "metadata": {
    "ExecuteTime": {
     "end_time": "2023-05-15T14:46:19.458326300Z",
     "start_time": "2023-05-15T14:46:18.356289900Z"
    }
   },
   "outputs": [],
   "source": [
    "C = Config.new(config=Config.CONFIG_TENDERLY)\n",
    "assert C.DATABASE == C.DATABASE_POSTGRES\n",
    "# assert C.POSTGRES_DB == \"defaultdb\"\n",
    "assert C.NETWORK == C.NETWORK_TENDERLY\n",
    "assert C.PROVIDER == C.PROVIDER_TENDERLY\n",
    "bot = CarbonBot(ConfigObj=C)\n",
    "assert str(type(bot.db)) == \"<class 'fastlane_bot.db.manager.DatabaseManager'>\""
   ]
  },
  {
   "cell_type": "code",
   "execution_count": 8,
   "id": "63cdbd3c",
   "metadata": {},
   "outputs": [
    {
     "data": {
      "text/plain": [
       "'https://rpc.tenderly.co/fork/293439f0-a76e-4cbf-a6cf-2a366132500b'"
      ]
     },
     "execution_count": 8,
     "metadata": {},
     "output_type": "execute_result"
    }
   ],
   "source": [
    "C.w3.provider.endpoint_uri"
   ]
  },
  {
   "cell_type": "code",
   "execution_count": 3,
   "id": "4c184a25",
   "metadata": {
    "ExecuteTime": {
     "end_time": "2023-05-15T14:46:20.497877800Z",
     "start_time": "2023-05-15T14:46:19.479661500Z"
    }
   },
   "outputs": [
    {
     "name": "stdout",
     "output_type": "stream",
     "text": [
      "Number of curves: 3543\n",
      "Number of tokens: 2230\n",
      "Exchanges: {'uniswap_v2', 'bancor_v2', 'bancor_v3', 'uniswap_v3', 'sushiswap_v2', 'carbon_v1'}\n"
     ]
    }
   ],
   "source": [
    "CCm = bot.get_curves()\n",
    "exch = {c.P(\"exchange\") for c in CCm}\n",
    "print(\"Number of curves:\", len(CCm))\n",
    "print(\"Number of tokens:\", len(CCm.tokens()))\n",
    "print(\"Exchanges:\", exch)"
   ]
  },
  {
   "cell_type": "code",
   "execution_count": 4,
   "id": "d7ee607c",
   "metadata": {
    "ExecuteTime": {
     "end_time": "2023-05-15T14:46:20.514881300Z",
     "start_time": "2023-05-15T14:46:20.498874200Z"
    }
   },
   "outputs": [
    {
     "data": {
      "text/plain": [
       "3446"
      ]
     },
     "execution_count": 4,
     "metadata": {},
     "output_type": "execute_result"
    }
   ],
   "source": [
    "used_curves = [\n",
    "    # '340282366920938463463374607431768211527-0', #actually deleted from carbon\n",
    "    # '340282366920938463463374607431768211527-1', #actually deleted from carbon\n",
    "    # '2722258935367507707706996859454145691730-1',\n",
    "    # '1701411834604692317316873037158841057360-1',\n",
    "    # '1701411834604692317316873037158841057360-0',\n",
    "    # '9187623906865338513511114400657741709390-0',\n",
    "    # '12590447576074723148144860474975423823947-0',\n",
    "    # '13951577043758477001998358904702496669779-1'\n",
    "]\n",
    "subcurves = [x for x in CCm if x.cid not in used_curves]\n",
    "no_0x0 = [x for x in subcurves if '0x0-1AD5' not in x.pair]\n",
    "CCm2 = CPCContainer([x for x in no_0x0 if x.params.exchange not in ['bancor_v2']])\n",
    "len(CCm2)\n",
    "#print(CCm2)"
   ]
  },
  {
   "cell_type": "code",
   "execution_count": 5,
   "id": "b397bc36",
   "metadata": {
    "ExecuteTime": {
     "end_time": "2023-05-15T14:46:20.543922200Z",
     "start_time": "2023-05-15T14:46:20.515878100Z"
    }
   },
   "outputs": [
    {
     "data": {
      "text/plain": [
       "27"
      ]
     },
     "execution_count": 5,
     "metadata": {},
     "output_type": "execute_result"
    }
   ],
   "source": [
    "pairs = [x.pair.split('/') for x in CCm if x.params.exchange == 'carbon_v1']\n",
    "len(set([x for itm in pairs for x in itm]))"
   ]
  },
  {
   "cell_type": "code",
   "execution_count": 6,
   "id": "79ed1618",
   "metadata": {
    "ExecuteTime": {
     "end_time": "2023-05-15T14:46:20.553411300Z",
     "start_time": "2023-05-15T14:46:20.530771200Z"
    }
   },
   "outputs": [
    {
     "data": {
      "text/plain": [
       "61"
      ]
     },
     "execution_count": 6,
     "metadata": {},
     "output_type": "execute_result"
    }
   ],
   "source": [
    "pairs = [x.pair for x in CCm if x.params.exchange == 'carbon_v1']\n",
    "len(set(pairs))"
   ]
  },
  {
   "cell_type": "code",
   "execution_count": null,
   "id": "6445f9db",
   "metadata": {
    "ExecuteTime": {
     "end_time": "2023-05-15T14:46:20.560387500Z",
     "start_time": "2023-05-15T14:46:20.545917Z"
    }
   },
   "outputs": [],
   "source": [
    "# CCm.bycid(\"5784800237655953878877368326340059594782\").p"
   ]
  },
  {
   "cell_type": "code",
   "execution_count": null,
   "id": "9a8100d3",
   "metadata": {
    "ExecuteTime": {
     "end_time": "2023-05-15T14:46:20.590786Z",
     "start_time": "2023-05-15T14:46:20.561384300Z"
    }
   },
   "outputs": [],
   "source": [
    "# CCm.bycid(\"5d5cebf33c0049258c40db6bc90b1558\").p"
   ]
  },
  {
   "cell_type": "code",
   "execution_count": null,
   "id": "21a0e86c",
   "metadata": {
    "ExecuteTime": {
     "end_time": "2023-05-15T14:46:20.601477700Z",
     "start_time": "2023-05-15T14:46:20.577324700Z"
    }
   },
   "outputs": [],
   "source": [
    "# CCm.bycid(\"9a52c5bdef1c402497d1c4f5d7501f61\").p"
   ]
  },
  {
   "cell_type": "code",
   "execution_count": null,
   "id": "7cae2ba6",
   "metadata": {
    "ExecuteTime": {
     "end_time": "2023-05-15T14:46:20.610599700Z",
     "start_time": "2023-05-15T14:46:20.592287600Z"
    }
   },
   "outputs": [],
   "source": [
    "# CCm.bycid(\"12590447576074723148144860474975423823947-0\").p"
   ]
  },
  {
   "cell_type": "code",
   "execution_count": null,
   "id": "11a64563",
   "metadata": {
    "ExecuteTime": {
     "end_time": "2023-05-15T14:46:20.626522300Z",
     "start_time": "2023-05-15T14:46:20.608606500Z"
    }
   },
   "outputs": [],
   "source": [
    "# 1/CCm.bycid(\"12590447576074723148144860474975423823947-1\").p"
   ]
  },
  {
   "attachments": {},
   "cell_type": "markdown",
   "id": "5a26c4b4",
   "metadata": {},
   "source": [
    "## Actual run"
   ]
  },
  {
   "cell_type": "code",
   "execution_count": 7,
   "id": "cab33dc6",
   "metadata": {
    "ExecuteTime": {
     "end_time": "2023-05-15T14:46:20.637843700Z",
     "start_time": "2023-05-15T14:46:20.623532600Z"
    }
   },
   "outputs": [],
   "source": [
    "flt = [T.USDC, T.USDT, T.ETH, T.LINK, T.BNT, T.WBTC, T.DAI]\n",
    "# bot._run(flashloan_tokens=flt, CCm=CCm2)"
   ]
  },
  {
   "attachments": {},
   "cell_type": "markdown",
   "id": "5f2f01c5",
   "metadata": {},
   "source": [
    "## Analytics"
   ]
  },
  {
   "cell_type": "code",
   "execution_count": 9,
   "id": "1419695c",
   "metadata": {
    "ExecuteTime": {
     "end_time": "2023-05-15T14:46:22.978326100Z",
     "start_time": "2023-05-15T14:46:20.668459500Z"
    }
   },
   "outputs": [
    {
     "name": "stderr",
     "output_type": "stream",
     "text": [
      "c:\\Users\\nicho\\Dropbox\\Bancor_Protocol\\Github\\carbonbot\\resources\\NBTest\\fastlane_bot\\tools\\optimizer.py:1310: RuntimeWarning: divide by zero encountered in scalar divide\n",
      "  price = get(p, tokens_ix.get(tknb)) / get(p, tokens_ix.get(tknq))\n",
      "c:\\Users\\nicho\\Dropbox\\Bancor_Protocol\\Github\\carbonbot\\resources\\NBTest\\fastlane_bot\\tools\\optimizer.py:1157: RuntimeWarning: invalid value encountered in subtract\n",
      "  jac[:, j] = (func(x_plus) - y) / Dxj\n",
      "c:\\Users\\nicho\\Dropbox\\Bancor_Protocol\\Github\\carbonbot\\resources\\NBTest\\fastlane_bot\\tools\\optimizer.py:1310: RuntimeWarning: divide by zero encountered in scalar divide\n",
      "  price = get(p, tokens_ix.get(tknb)) / get(p, tokens_ix.get(tknq))\n",
      "c:\\Users\\nicho\\Dropbox\\Bancor_Protocol\\Github\\carbonbot\\resources\\NBTest\\fastlane_bot\\tools\\optimizer.py:1157: RuntimeWarning: invalid value encountered in subtract\n",
      "  jac[:, j] = (func(x_plus) - y) / Dxj\n",
      "c:\\Users\\nicho\\Dropbox\\Bancor_Protocol\\Github\\carbonbot\\resources\\NBTest\\fastlane_bot\\tools\\optimizer.py:1310: RuntimeWarning: divide by zero encountered in scalar divide\n",
      "  price = get(p, tokens_ix.get(tknb)) / get(p, tokens_ix.get(tknq))\n",
      "c:\\Users\\nicho\\Dropbox\\Bancor_Protocol\\Github\\carbonbot\\resources\\NBTest\\fastlane_bot\\tools\\optimizer.py:1157: RuntimeWarning: invalid value encountered in subtract\n",
      "  jac[:, j] = (func(x_plus) - y) / Dxj\n"
     ]
    }
   ],
   "source": [
    "ops = bot._find_arbitrage_opportunities_carbon_multi_pairwise(flashloan_tokens=flt, CCm=CCm2, result=bot.XS_ARBOPPS)"
   ]
  },
  {
   "cell_type": "code",
   "execution_count": 10,
   "id": "95b2c699",
   "metadata": {
    "ExecuteTime": {
     "end_time": "2023-05-15T14:46:22.993842300Z",
     "start_time": "2023-05-15T14:46:22.979323100Z"
    }
   },
   "outputs": [
    {
     "data": {
      "text/plain": [
       "(Decimal('35182.55345428887442789530260570693247224038913145705009810626506805419921875'),\n",
       "                                             WETH-6Cc2     USDC-eB48\n",
       " 969                                         27.744288 -51580.864657\n",
       " 1701411834604692317316873037158841057376-1 -10.346786  14485.500000\n",
       " 1701411834604692317316873037158841057378-1  -3.746250   4495.500008\n",
       " 1701411834604692317316873037158841057375-1 -11.892857  17839.285736\n",
       " 1701411834604692317316873037158841057377-1  -5.800645   6960.774185\n",
       " 1701411834604692317316873037158841057360-1  -5.032132   7799.804718\n",
       " AMMIn                                       27.744288  51580.864647\n",
       " AMMOut                                     -36.818670 -51580.864657\n",
       " TOTAL NET                                   -9.074382     -0.000010,\n",
       " [{'cid': '969',\n",
       "   'tknin': 'WETH-6Cc2',\n",
       "   'amtin': 27.744288000278175,\n",
       "   'tknout': 'USDC-eB48',\n",
       "   'amtout': -51580.86465716362,\n",
       "   'error': None},\n",
       "  {'cid': '1701411834604692317316873037158841057376-1',\n",
       "   'tknin': 'USDC-eB48',\n",
       "   'amtin': 14485.5,\n",
       "   'tknout': 'WETH-6Cc2',\n",
       "   'amtout': -10.346785709261894,\n",
       "   'error': None},\n",
       "  {'cid': '1701411834604692317316873037158841057378-1',\n",
       "   'tknin': 'USDC-eB48',\n",
       "   'amtin': 4495.5000076293945,\n",
       "   'tknout': 'WETH-6Cc2',\n",
       "   'amtout': -3.7462500035762787,\n",
       "   'error': None},\n",
       "  {'cid': '1701411834604692317316873037158841057375-1',\n",
       "   'tknin': 'USDC-eB48',\n",
       "   'amtin': 17839.285736083984,\n",
       "   'tknout': 'WETH-6Cc2',\n",
       "   'amtout': -11.892857149243355,\n",
       "   'error': None},\n",
       "  {'cid': '1701411834604692317316873037158841057377-1',\n",
       "   'tknin': 'USDC-eB48',\n",
       "   'amtin': 6960.774185180664,\n",
       "   'tknout': 'WETH-6Cc2',\n",
       "   'amtout': -5.800645157694817,\n",
       "   'error': None},\n",
       "  {'cid': '1701411834604692317316873037158841057360-1',\n",
       "   'tknin': 'USDC-eB48',\n",
       "   'amtin': 7799.804718017578,\n",
       "   'tknout': 'WETH-6Cc2',\n",
       "   'amtout': -5.032131791114807,\n",
       "   'error': None}],\n",
       " 'WETH-6Cc2',\n",
       " (CPCArbOptimizer.TradeInstruction(cid='969', tknin='WETH-6Cc2', amtin=27.744288000278175, tknout='USDC-eB48', amtout=-51580.86465716362, error=None),\n",
       "  CPCArbOptimizer.TradeInstruction(cid='1701411834604692317316873037158841057376-1', tknin='USDC-eB48', amtin=14485.5, tknout='WETH-6Cc2', amtout=-10.346785709261894, error=None),\n",
       "  CPCArbOptimizer.TradeInstruction(cid='1701411834604692317316873037158841057378-1', tknin='USDC-eB48', amtin=4495.5000076293945, tknout='WETH-6Cc2', amtout=-3.7462500035762787, error=None),\n",
       "  CPCArbOptimizer.TradeInstruction(cid='1701411834604692317316873037158841057375-1', tknin='USDC-eB48', amtin=17839.285736083984, tknout='WETH-6Cc2', amtout=-11.892857149243355, error=None),\n",
       "  CPCArbOptimizer.TradeInstruction(cid='1701411834604692317316873037158841057377-1', tknin='USDC-eB48', amtin=6960.774185180664, tknout='WETH-6Cc2', amtout=-5.800645157694817, error=None),\n",
       "  CPCArbOptimizer.TradeInstruction(cid='1701411834604692317316873037158841057360-1', tknin='USDC-eB48', amtin=7799.804718017578, tknout='WETH-6Cc2', amtout=-5.032131791114807, error=None)))"
      ]
     },
     "execution_count": 10,
     "metadata": {},
     "output_type": "execute_result"
    }
   ],
   "source": [
    "ops"
   ]
  },
  {
   "cell_type": "code",
   "execution_count": null,
   "id": "60b235ca",
   "metadata": {
    "ExecuteTime": {
     "end_time": "2023-05-15T14:46:23.038810900Z",
     "start_time": "2023-05-15T14:46:22.994840800Z"
    }
   },
   "outputs": [],
   "source": [
    "# ord = bot._run(flashloan_tokens=flt, CCm=CCm2, result=bot.XS_ORDSCAL)\n",
    "# ord"
   ]
  },
  {
   "cell_type": "code",
   "execution_count": null,
   "id": "fcb66e42",
   "metadata": {
    "ExecuteTime": {
     "end_time": "2023-05-15T14:46:23.046305800Z",
     "start_time": "2023-05-15T14:46:23.010308700Z"
    }
   },
   "outputs": [],
   "source": [
    "# ti = bot._run(flashloan_tokens=flt, CCm=CCm2, result=bot.XS_TI)\n",
    "# ti"
   ]
  },
  {
   "cell_type": "code",
   "execution_count": null,
   "id": "f4d25fb2",
   "metadata": {
    "ExecuteTime": {
     "end_time": "2023-05-15T14:46:23.047302600Z",
     "start_time": "2023-05-15T14:46:23.038810900Z"
    }
   },
   "outputs": [],
   "source": [
    "# ti"
   ]
  },
  {
   "cell_type": "code",
   "execution_count": null,
   "id": "b9217711",
   "metadata": {
    "ExecuteTime": {
     "end_time": "2023-05-15T14:46:23.055831700Z",
     "start_time": "2023-05-15T14:46:23.040804800Z"
    }
   },
   "outputs": [],
   "source": [
    "# ops = bot._find_arbitrage_opportunities(flashloan_tokens=flt, CCm=CCm, result=bot.AO_CANDIDATES)\n",
    "# ops"
   ]
  },
  {
   "cell_type": "code",
   "execution_count": null,
   "id": "93eff72b",
   "metadata": {
    "ExecuteTime": {
     "end_time": "2023-05-15T14:46:23.075506500Z",
     "start_time": "2023-05-15T14:46:23.056828100Z"
    }
   },
   "outputs": [],
   "source": [
    "# candf = pd.DataFrame(ops).sort_values(by=0, ascending=False)\n",
    "# candf.reset_index(inplace=True, drop=True)\n",
    "# candf.iloc[5][1]"
   ]
  },
  {
   "cell_type": "code",
   "execution_count": null,
   "id": "b933a3e3",
   "metadata": {
    "ExecuteTime": {
     "end_time": "2023-05-15T14:46:23.086746400Z",
     "start_time": "2023-05-15T14:46:23.072329Z"
    }
   },
   "outputs": [],
   "source": [
    "# candf.iloc[0][0]"
   ]
  },
  {
   "cell_type": "code",
   "execution_count": null,
   "metadata": {
    "ExecuteTime": {
     "end_time": "2023-05-15T14:46:27.620763500Z",
     "start_time": "2023-05-15T14:46:23.087742800Z"
    },
    "collapsed": false
   },
   "outputs": [],
   "source": [
    "aggregated = bot._run(flashloan_tokens=flt, CCm=CCm2, result=bot.XS_AGGTI)\n",
    "#aggregated\n",
    "\n",
    "for trade in aggregated:\n",
    "    print(trade.amtin, trade.tknin, trade.amtout, trade.tknout)\n"
   ]
  },
  {
   "cell_type": "code",
   "execution_count": null,
   "id": "5382d20f",
   "metadata": {
    "ExecuteTime": {
     "end_time": "2023-05-15T14:46:34.003190500Z",
     "start_time": "2023-05-15T14:46:27.620763500Z"
    }
   },
   "outputs": [],
   "source": [
    "exact = bot._run(flashloan_tokens=flt, CCm=CCm2, result=bot.XS_EXACT)\n",
    "# exact"
   ]
  },
  {
   "cell_type": "code",
   "execution_count": null,
   "metadata": {
    "ExecuteTime": {
     "end_time": "2023-05-15T14:46:34.017273900Z",
     "start_time": "2023-05-15T14:46:34.005277Z"
    },
    "collapsed": false
   },
   "outputs": [],
   "source": []
  },
  {
   "cell_type": "code",
   "execution_count": null,
   "metadata": {
    "ExecuteTime": {
     "end_time": "2023-05-15T14:46:34.047519600Z",
     "start_time": "2023-05-15T14:46:34.019267600Z"
    },
    "collapsed": false
   },
   "outputs": [],
   "source": [
    "for trade in exact:\n",
    "    print(trade.amtin, trade.tknin, trade.amtout, trade.tknout)"
   ]
  },
  {
   "cell_type": "code",
   "execution_count": null,
   "metadata": {
    "ExecuteTime": {
     "end_time": "2023-05-15T14:46:34.050509700Z",
     "start_time": "2023-05-15T14:46:34.033606300Z"
    },
    "collapsed": false
   },
   "outputs": [],
   "source": [
    "# assert False"
   ]
  },
  {
   "cell_type": "code",
   "execution_count": null,
   "metadata": {
    "ExecuteTime": {
     "end_time": "2023-05-15T14:46:34.065784500Z",
     "start_time": "2023-05-15T14:46:34.049513Z"
    },
    "collapsed": false
   },
   "outputs": [],
   "source": []
  },
  {
   "cell_type": "code",
   "execution_count": null,
   "metadata": {
    "ExecuteTime": {
     "end_time": "2023-05-15T14:46:34.083214200Z",
     "start_time": "2023-05-15T14:46:34.066781Z"
    },
    "collapsed": false
   },
   "outputs": [],
   "source": [
    "# agg = bot._run(flashloan_tokens=flt, CCm=CCm, result=bot.XS_AGGTI)\n",
    "# agg"
   ]
  },
  {
   "cell_type": "code",
   "execution_count": null,
   "metadata": {
    "ExecuteTime": {
     "end_time": "2023-05-15T14:46:34.095298Z",
     "start_time": "2023-05-15T14:46:34.080702500Z"
    },
    "collapsed": false
   },
   "outputs": [],
   "source": [
    "# agg[0].raw_txs"
   ]
  },
  {
   "cell_type": "code",
   "execution_count": null,
   "metadata": {
    "ExecuteTime": {
     "end_time": "2023-05-15T14:46:34.114259300Z",
     "start_time": "2023-05-15T14:46:34.096295200Z"
    },
    "collapsed": false
   },
   "outputs": [],
   "source": [
    "# agg[1].raw_txs"
   ]
  },
  {
   "cell_type": "code",
   "execution_count": null,
   "metadata": {
    "ExecuteTime": {
     "end_time": "2023-05-15T14:46:34.125731Z",
     "start_time": "2023-05-15T14:46:34.110753600Z"
    },
    "collapsed": false
   },
   "outputs": [],
   "source": [
    "exact[0].amtin_wei, exact[0].amtout_wei"
   ]
  },
  {
   "cell_type": "code",
   "execution_count": null,
   "metadata": {
    "ExecuteTime": {
     "end_time": "2023-05-15T14:46:34.155803800Z",
     "start_time": "2023-05-15T14:46:34.126728200Z"
    },
    "collapsed": false
   },
   "outputs": [],
   "source": [
    "exact[1].amtin_wei, exact[1].amtout_wei"
   ]
  },
  {
   "cell_type": "code",
   "execution_count": null,
   "metadata": {
    "ExecuteTime": {
     "end_time": "2023-05-15T14:46:34.165295800Z",
     "start_time": "2023-05-15T14:46:34.140721Z"
    },
    "collapsed": false
   },
   "outputs": [],
   "source": []
  },
  {
   "cell_type": "code",
   "execution_count": null,
   "id": "1905eb9d",
   "metadata": {
    "ExecuteTime": {
     "end_time": "2023-05-15T14:46:40.918256500Z",
     "start_time": "2023-05-15T14:46:34.157797700Z"
    }
   },
   "outputs": [],
   "source": [
    "route_struct, flashloan_amount, flashloan_token_address = bot._run(flashloan_tokens=flt, CCm=CCm2, result=bot.XS_ROUTE)"
   ]
  },
  {
   "cell_type": "code",
   "execution_count": null,
   "id": "24db122b",
   "metadata": {
    "ExecuteTime": {
     "end_time": "2023-05-15T14:46:40.934186600Z",
     "start_time": "2023-05-15T14:46:40.919852200Z"
    }
   },
   "outputs": [],
   "source": [
    "route_struct, flashloan_amount, flashloan_token_address"
   ]
  },
  {
   "attachments": {},
   "cell_type": "markdown",
   "id": "628bca30",
   "metadata": {},
   "source": [
    "# Tenderly Tx Submission"
   ]
  },
  {
   "cell_type": "code",
   "execution_count": null,
   "id": "76a8ec45",
   "metadata": {
    "ExecuteTime": {
     "end_time": "2023-05-15T14:46:40.979361400Z",
     "start_time": "2023-05-15T14:46:40.935185400Z"
    }
   },
   "outputs": [],
   "source": [
    "# C.w3.provider.endpoint_uri"
   ]
  },
  {
   "cell_type": "code",
   "execution_count": null,
   "id": "477ac528",
   "metadata": {
    "ExecuteTime": {
     "end_time": "2023-05-15T14:46:40.987830900Z",
     "start_time": "2023-05-15T14:46:40.950376700Z"
    }
   },
   "outputs": [],
   "source": [
    "# C.w3.eth.getBlock(C.w3.eth.block_number).timestamp"
   ]
  },
  {
   "cell_type": "code",
   "execution_count": null,
   "id": "c1956941",
   "metadata": {
    "ExecuteTime": {
     "end_time": "2023-05-15T14:46:40.987830900Z",
     "start_time": "2023-05-15T14:46:40.979361400Z"
    }
   },
   "outputs": [],
   "source": [
    "# C.provider.CARBON_CONTROLLER_CONTRACT.strategy(13951577043758477001998358904702496669788)"
   ]
  },
  {
   "cell_type": "code",
   "execution_count": null,
   "id": "6599f4a9",
   "metadata": {
    "ExecuteTime": {
     "end_time": "2023-05-15T14:46:42.181355200Z",
     "start_time": "2023-05-15T14:46:40.981354900Z"
    }
   },
   "outputs": [],
   "source": [
    "### This to manually submit\n",
    "bot._validate_and_submit_transaction_tenderly(\n",
    "        ConfigObj = C,\n",
    "        route_struct = route_struct,\n",
    "        src_amount = flashloan_amount,\n",
    "        src_address = flashloan_token_address,\n",
    "            )"
   ]
  },
  {
   "attachments": {},
   "cell_type": "markdown",
   "id": "993e6614",
   "metadata": {},
   "source": [
    "# MAINNNET Preferred Tx Submission Method"
   ]
  },
  {
   "cell_type": "code",
   "execution_count": null,
   "id": "67273141",
   "metadata": {
    "ExecuteTime": {
     "end_time": "2023-05-15T14:46:42.224953400Z",
     "start_time": "2023-05-15T14:46:42.182352300Z"
    }
   },
   "outputs": [],
   "source": [
    "# from fastlane_bot.helpers import TxHelpers"
   ]
  },
  {
   "cell_type": "code",
   "execution_count": null,
   "id": "75ae6224",
   "metadata": {
    "ExecuteTime": {
     "end_time": "2023-05-15T14:46:42.228940100Z",
     "start_time": "2023-05-15T14:46:42.199827900Z"
    }
   },
   "outputs": [],
   "source": [
    "# pool = (\n",
    "#     bot.db.get_pool(exchange_name=bot.ConfigObj.BANCOR_V3_NAME, pair_name='BNT-FF1C/ETH-EEeE')\n",
    "# )\n",
    "# bnt_eth = (int(pool.tkn0_balance), int(pool.tkn1_balance))\n",
    "\n",
    "# # Init TxHelpers\n",
    "# tx_helpers = TxHelpers(ConfigObj=bot.ConfigObj)\n",
    "# # Submit tx\n",
    "\n"
   ]
  },
  {
   "cell_type": "code",
   "execution_count": null,
   "id": "17ab9e38",
   "metadata": {
    "ExecuteTime": {
     "end_time": "2023-05-15T14:46:42.228940100Z",
     "start_time": "2023-05-15T14:46:42.224953400Z"
    }
   },
   "outputs": [],
   "source": [
    "# tx_helpers.validate_and_submit_transaction(route_struct=route_struct, src_amt=flashloan_amount,\n",
    "#                                                     src_address=flashloan_token_address, bnt_eth=bnt_eth,\n",
    "#                                                     expected_profit=Decimal('1000'), safety_override=True)"
   ]
  },
  {
   "attachments": {},
   "cell_type": "markdown",
   "id": "0eb9760c",
   "metadata": {},
   "source": [
    "# MAINNET Forced Tx Submission Method"
   ]
  },
  {
   "cell_type": "code",
   "execution_count": null,
   "id": "931af988",
   "metadata": {
    "ExecuteTime": {
     "end_time": "2023-05-15T14:46:42.240748400Z",
     "start_time": "2023-05-15T14:46:42.226946300Z"
    }
   },
   "outputs": [],
   "source": [
    "# # Initialize tx helper\n",
    "# tx_helper = TxHelper(\n",
    "#     usd_gas_limit=55,\n",
    "#     ConfigObj=bot.ConfigObj,\n",
    "#     gas_price_multiplier = 1\n",
    "# )\n",
    "# # # Submit the transaction\n",
    "# # tx_helper.submit_flashloan_arb_tx(\n",
    "# #     arb_data=route_struct,\n",
    "# #     flashloan_token_address=flashloan_token_address,\n",
    "# #     flashloan_amount=flashloan_amount,\n",
    "# #     verbose=True,\n",
    "# # )"
   ]
  },
  {
   "cell_type": "code",
   "execution_count": null,
   "id": "5894289c",
   "metadata": {
    "ExecuteTime": {
     "end_time": "2023-05-15T14:46:42.268664200Z",
     "start_time": "2023-05-15T14:46:42.240748400Z"
    }
   },
   "outputs": [],
   "source": [
    "# tx_helper.gas_limit"
   ]
  }
 ],
 "metadata": {
  "jupytext": {
   "encoding": "# -*- coding: utf-8 -*-",
   "formats": "ipynb,py:light"
  },
  "kernelspec": {
   "display_name": "Python 3 (ipykernel)",
   "language": "python",
   "name": "python3"
  },
  "language_info": {
   "codemirror_mode": {
    "name": "ipython",
    "version": 3
   },
   "file_extension": ".py",
   "mimetype": "text/x-python",
   "name": "python",
   "nbconvert_exporter": "python",
   "pygments_lexer": "ipython3",
   "version": "3.10.10"
  }
 },
 "nbformat": 4,
 "nbformat_minor": 5
}

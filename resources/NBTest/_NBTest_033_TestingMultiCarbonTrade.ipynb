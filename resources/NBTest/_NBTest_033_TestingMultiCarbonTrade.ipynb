{
 "cells": [
  {
   "cell_type": "code",
   "execution_count": 1,
   "id": "8f04c50a-67fe-4f09-822d-6ed6e3ac43e4",
   "metadata": {
    "ExecuteTime": {
     "end_time": "2023-05-15T14:46:18.355293300Z",
     "start_time": "2023-05-15T14:46:12.804001600Z"
    }
   },
   "outputs": [
    {
     "name": "stdout",
     "output_type": "stream",
     "text": [
      "Using default database url, if you want to use a different database, set the backend_url found at the bottom of manager_base.py\n",
      "Error adding Ethereum blockchain to database Ethereum, (psycopg2.errors.UniqueViolation) duplicate key value violates unique constraint \"ix_blockchains_name\"\n",
      "DETAIL:  Key (name)=(Ethereum) already exists.\n",
      "\n",
      "[SQL: INSERT INTO blockchains (name, block_number) VALUES (%(name)s, %(block_number)s) RETURNING blockchains.id]\n",
      "[parameters: {'name': 'Ethereum', 'block_number': 0}]\n",
      "(Background on this error at: https://sqlalche.me/e/20/gkpj) skipping...\n",
      "Error adding exchange carbon_v1 to database, (psycopg2.errors.UniqueViolation) duplicate key value violates unique constraint \"exchanges_pkey\"\n",
      "DETAIL:  Key (id)=(6) already exists.\n",
      "\n",
      "[SQL: INSERT INTO exchanges (id, name, blockchain_name) VALUES (%(id)s, %(name)s, %(blockchain_name)s)]\n",
      "[parameters: {'id': 6, 'name': 'carbon_v1', 'blockchain_name': 'Ethereum'}]\n",
      "(Background on this error at: https://sqlalche.me/e/20/gkpj) skipping...\n",
      "Error adding exchange bancor_v2 to database, (psycopg2.errors.UniqueViolation) duplicate key value violates unique constraint \"exchanges_pkey\"\n",
      "DETAIL:  Key (id)=(1) already exists.\n",
      "\n",
      "[SQL: INSERT INTO exchanges (id, name, blockchain_name) VALUES (%(id)s, %(name)s, %(blockchain_name)s)]\n",
      "[parameters: {'id': 1, 'name': 'bancor_v2', 'blockchain_name': 'Ethereum'}]\n",
      "(Background on this error at: https://sqlalche.me/e/20/gkpj) skipping...\n",
      "Error adding exchange bancor_v3 to database, (psycopg2.errors.UniqueViolation) duplicate key value violates unique constraint \"exchanges_pkey\"\n",
      "DETAIL:  Key (id)=(2) already exists.\n",
      "\n",
      "[SQL: INSERT INTO exchanges (id, name, blockchain_name) VALUES (%(id)s, %(name)s, %(blockchain_name)s)]\n",
      "[parameters: {'id': 2, 'name': 'bancor_v3', 'blockchain_name': 'Ethereum'}]\n",
      "(Background on this error at: https://sqlalche.me/e/20/gkpj) skipping...\n",
      "Error adding exchange uniswap_v2 to database, (psycopg2.errors.UniqueViolation) duplicate key value violates unique constraint \"exchanges_pkey\"\n",
      "DETAIL:  Key (id)=(3) already exists.\n",
      "\n",
      "[SQL: INSERT INTO exchanges (id, name, blockchain_name) VALUES (%(id)s, %(name)s, %(blockchain_name)s)]\n",
      "[parameters: {'id': 3, 'name': 'uniswap_v2', 'blockchain_name': 'Ethereum'}]\n",
      "(Background on this error at: https://sqlalche.me/e/20/gkpj) skipping...\n",
      "Error adding exchange uniswap_v3 to database, (psycopg2.errors.UniqueViolation) duplicate key value violates unique constraint \"exchanges_pkey\"\n",
      "DETAIL:  Key (id)=(4) already exists.\n",
      "\n",
      "[SQL: INSERT INTO exchanges (id, name, blockchain_name) VALUES (%(id)s, %(name)s, %(blockchain_name)s)]\n",
      "[parameters: {'id': 4, 'name': 'uniswap_v3', 'blockchain_name': 'Ethereum'}]\n",
      "(Background on this error at: https://sqlalche.me/e/20/gkpj) skipping...\n",
      "Error adding exchange sushiswap_v2 to database, (psycopg2.errors.UniqueViolation) duplicate key value violates unique constraint \"exchanges_pkey\"\n",
      "DETAIL:  Key (id)=(5) already exists.\n",
      "\n",
      "[SQL: INSERT INTO exchanges (id, name, blockchain_name) VALUES (%(id)s, %(name)s, %(blockchain_name)s)]\n",
      "[parameters: {'id': 5, 'name': 'sushiswap_v2', 'blockchain_name': 'Ethereum'}]\n",
      "(Background on this error at: https://sqlalche.me/e/20/gkpj) skipping...\n",
      "ConstantProductCurve v2.10.1 (07/May/2023)\n",
      "CarbonBot v3-b2.1 (03/May/2023)\n",
      "imported m, np, pd, plt, os, sys, decimal; defined iseq, raises, require\n"
     ]
    },
    {
     "name": "stderr",
     "output_type": "stream",
     "text": [
      "C:\\Users\\Kveen\\AppData\\Local\\Temp\\ipykernel_5148\\1582963263.py:8: MatplotlibDeprecationWarning: The seaborn styles shipped by Matplotlib are deprecated since 3.6, as they no longer correspond to the styles shipped by seaborn. However, they will remain available as 'seaborn-v0_8-<style>'. Alternatively, directly use the seaborn API instead.\n",
      "  plt.style.use('seaborn-dark')\n"
     ]
    },
    {
     "name": "stdout",
     "output_type": "stream",
     "text": [
      "Version = 3-b2.1 [requirements >= 2.0 is met]\n"
     ]
    }
   ],
   "source": [
    "from fastlane_bot import Config, ConfigDB, ConfigNetwork, ConfigProvider\n",
    "from fastlane_bot.bot import CarbonBot\n",
    "from fastlane_bot.tools.cpc import ConstantProductCurve as CPC, CPCContainer, T\n",
    "from fastlane_bot.helpers import TxHelper\n",
    "print(\"{0.__name__} v{0.__VERSION__} ({0.__DATE__})\".format(CPC))\n",
    "print(\"{0.__name__} v{0.__VERSION__} ({0.__DATE__})\".format(CarbonBot))\n",
    "from fastlane_bot.testing import *\n",
    "plt.style.use('seaborn-dark')\n",
    "plt.rcParams['figure.figsize'] = [12,6]\n",
    "from fastlane_bot import __VERSION__\n",
    "require(\"2.0\", __VERSION__)"
   ]
  },
  {
   "attachments": {},
   "cell_type": "markdown",
   "id": "b3f59f14-b91b-4dba-94b0-3d513aaf41c7",
   "metadata": {},
   "source": [
    "# Testing the _run functions on TENDERLY [NBTest022]"
   ]
  },
  {
   "attachments": {},
   "cell_type": "markdown",
   "id": "cf03072d-6304-41f8-b132-9470ae81ac7c",
   "metadata": {},
   "source": [
    "## Tenderly Configuration"
   ]
  },
  {
   "attachments": {},
   "cell_type": "markdown",
   "id": "0990888a-698c-487c-9142-80e62a8393ac",
   "metadata": {},
   "source": [
    "### Set up the bot and curves"
   ]
  },
  {
   "cell_type": "code",
   "execution_count": 2,
   "id": "da9ff008-cb12-44f7-93a8-84f7386da886",
   "metadata": {
    "ExecuteTime": {
     "end_time": "2023-05-15T14:46:19.458326300Z",
     "start_time": "2023-05-15T14:46:18.356289900Z"
    }
   },
   "outputs": [],
   "source": [
    "C = Config.new(config=Config.CONFIG_TENDERLY)\n",
    "assert C.DATABASE == C.DATABASE_POSTGRES\n",
    "# assert C.POSTGRES_DB == \"defaultdb\"\n",
    "assert C.NETWORK == C.NETWORK_TENDERLY\n",
    "assert C.PROVIDER == C.PROVIDER_TENDERLY\n",
    "bot = CarbonBot(ConfigObj=C)\n",
    "assert str(type(bot.db)) == \"<class 'fastlane_bot.db.manager.DatabaseManager'>\"\n",
    "\n",
    "\n"
   ]
  },
  {
   "cell_type": "code",
   "execution_count": 2,
   "outputs": [],
   "source": [],
   "metadata": {
    "collapsed": false,
    "ExecuteTime": {
     "end_time": "2023-05-15T14:46:19.473583900Z",
     "start_time": "2023-05-15T14:46:19.459317300Z"
    }
   }
  },
  {
   "cell_type": "code",
   "execution_count": 3,
   "id": "4c184a25",
   "metadata": {
    "ExecuteTime": {
     "end_time": "2023-05-15T14:46:20.497877800Z",
     "start_time": "2023-05-15T14:46:19.479661500Z"
    }
   },
   "outputs": [
    {
     "name": "stdout",
     "output_type": "stream",
     "text": [
      "Number of curves: 3539\n",
      "Number of tokens: 2230\n",
      "Exchanges: {'uniswap_v3', 'bancor_v3', 'uniswap_v2', 'carbon_v1', 'bancor_v2', 'sushiswap_v2'}\n"
     ]
    }
   ],
   "source": [
    "CCm = bot.get_curves()\n",
    "exch = {c.P(\"exchange\") for c in CCm}\n",
    "print(\"Number of curves:\", len(CCm))\n",
    "print(\"Number of tokens:\", len(CCm.tokens()))\n",
    "print(\"Exchanges:\", exch)\n"
   ]
  },
  {
   "cell_type": "code",
   "execution_count": 4,
   "id": "d7ee607c",
   "metadata": {
    "ExecuteTime": {
     "end_time": "2023-05-15T14:46:20.514881300Z",
     "start_time": "2023-05-15T14:46:20.498874200Z"
    }
   },
   "outputs": [
    {
     "data": {
      "text/plain": "3442"
     },
     "execution_count": 4,
     "metadata": {},
     "output_type": "execute_result"
    }
   ],
   "source": [
    "used_curves = [\n",
    "    # '340282366920938463463374607431768211527-0', #actually deleted from carbon\n",
    "    # '340282366920938463463374607431768211527-1', #actually deleted from carbon\n",
    "    # '2722258935367507707706996859454145691730-1',\n",
    "    # '1701411834604692317316873037158841057360-1',\n",
    "    # '1701411834604692317316873037158841057360-0',\n",
    "    # '9187623906865338513511114400657741709390-0',\n",
    "    # '12590447576074723148144860474975423823947-0',\n",
    "    # '13951577043758477001998358904702496669779-1'\n",
    "]\n",
    "subcurves = [x for x in CCm if x.cid not in used_curves]\n",
    "no_0x0 = [x for x in subcurves if '0x0-1AD5' not in x.pair]\n",
    "CCm2 = CPCContainer([x for x in no_0x0 if x.params.exchange not in ['bancor_v2']])\n",
    "len(CCm2)\n",
    "#print(CCm2)"
   ]
  },
  {
   "cell_type": "code",
   "execution_count": 5,
   "id": "b397bc36",
   "metadata": {
    "ExecuteTime": {
     "end_time": "2023-05-15T14:46:20.543922200Z",
     "start_time": "2023-05-15T14:46:20.515878100Z"
    }
   },
   "outputs": [
    {
     "data": {
      "text/plain": "27"
     },
     "execution_count": 5,
     "metadata": {},
     "output_type": "execute_result"
    }
   ],
   "source": [
    "pairs = [x.pair.split('/') for x in CCm if x.params.exchange == 'carbon_v1']\n",
    "len(set([x for itm in pairs for x in itm]))"
   ]
  },
  {
   "cell_type": "code",
   "execution_count": 6,
   "id": "79ed1618",
   "metadata": {
    "ExecuteTime": {
     "end_time": "2023-05-15T14:46:20.553411300Z",
     "start_time": "2023-05-15T14:46:20.530771200Z"
    }
   },
   "outputs": [
    {
     "data": {
      "text/plain": "61"
     },
     "execution_count": 6,
     "metadata": {},
     "output_type": "execute_result"
    }
   ],
   "source": [
    "pairs = [x.pair for x in CCm if x.params.exchange == 'carbon_v1']\n",
    "len(set(pairs))"
   ]
  },
  {
   "cell_type": "code",
   "execution_count": 7,
   "id": "6445f9db",
   "metadata": {
    "ExecuteTime": {
     "end_time": "2023-05-15T14:46:20.560387500Z",
     "start_time": "2023-05-15T14:46:20.545917Z"
    }
   },
   "outputs": [],
   "source": [
    "# CCm.bycid(\"5784800237655953878877368326340059594782\").p"
   ]
  },
  {
   "cell_type": "code",
   "execution_count": 8,
   "id": "9a8100d3",
   "metadata": {
    "ExecuteTime": {
     "end_time": "2023-05-15T14:46:20.590786Z",
     "start_time": "2023-05-15T14:46:20.561384300Z"
    }
   },
   "outputs": [],
   "source": [
    "# CCm.bycid(\"5d5cebf33c0049258c40db6bc90b1558\").p"
   ]
  },
  {
   "cell_type": "code",
   "execution_count": 9,
   "id": "21a0e86c",
   "metadata": {
    "ExecuteTime": {
     "end_time": "2023-05-15T14:46:20.601477700Z",
     "start_time": "2023-05-15T14:46:20.577324700Z"
    }
   },
   "outputs": [],
   "source": [
    "# CCm.bycid(\"9a52c5bdef1c402497d1c4f5d7501f61\").p"
   ]
  },
  {
   "cell_type": "code",
   "execution_count": 10,
   "id": "7cae2ba6",
   "metadata": {
    "ExecuteTime": {
     "end_time": "2023-05-15T14:46:20.610599700Z",
     "start_time": "2023-05-15T14:46:20.592287600Z"
    }
   },
   "outputs": [],
   "source": [
    "# CCm.bycid(\"12590447576074723148144860474975423823947-0\").p"
   ]
  },
  {
   "cell_type": "code",
   "execution_count": 11,
   "id": "11a64563",
   "metadata": {
    "ExecuteTime": {
     "end_time": "2023-05-15T14:46:20.626522300Z",
     "start_time": "2023-05-15T14:46:20.608606500Z"
    }
   },
   "outputs": [],
   "source": [
    "# 1/CCm.bycid(\"12590447576074723148144860474975423823947-1\").p"
   ]
  },
  {
   "attachments": {},
   "cell_type": "markdown",
   "id": "5a26c4b4",
   "metadata": {},
   "source": [
    "## Actual run"
   ]
  },
  {
   "cell_type": "code",
   "execution_count": 12,
   "id": "cab33dc6",
   "metadata": {
    "ExecuteTime": {
     "end_time": "2023-05-15T14:46:20.637843700Z",
     "start_time": "2023-05-15T14:46:20.623532600Z"
    }
   },
   "outputs": [],
   "source": [
    "flt = [T.USDC, T.USDT, T.ETH, T.LINK, T.BNT, T.WBTC, T.DAI]\n",
    "# bot._run(flashloan_tokens=flt, CCm=CCm2)"
   ]
  },
  {
   "attachments": {},
   "cell_type": "markdown",
   "id": "5f2f01c5",
   "metadata": {},
   "source": [
    "## Analytics"
   ]
  },
  {
   "cell_type": "code",
   "execution_count": 13,
   "id": "1419695c",
   "metadata": {
    "ExecuteTime": {
     "end_time": "2023-05-15T14:46:22.978326100Z",
     "start_time": "2023-05-15T14:46:20.668459500Z"
    }
   },
   "outputs": [
    {
     "name": "stderr",
     "output_type": "stream",
     "text": [
      "C:\\Users\\Kveen\\PycharmProjects\\carbonbot\\resources\\NBTest\\fastlane_bot\\tools\\optimizer.py:1310: RuntimeWarning: divide by zero encountered in scalar divide\n",
      "  price = get(p, tokens_ix.get(tknb)) / get(p, tokens_ix.get(tknq))\n",
      "C:\\Users\\Kveen\\PycharmProjects\\carbonbot\\resources\\NBTest\\fastlane_bot\\tools\\optimizer.py:1310: RuntimeWarning: divide by zero encountered in scalar divide\n",
      "  price = get(p, tokens_ix.get(tknb)) / get(p, tokens_ix.get(tknq))\n",
      "C:\\Users\\Kveen\\PycharmProjects\\carbonbot\\resources\\NBTest\\fastlane_bot\\tools\\optimizer.py:1310: RuntimeWarning: divide by zero encountered in scalar divide\n",
      "  price = get(p, tokens_ix.get(tknb)) / get(p, tokens_ix.get(tknq))\n",
      "C:\\Users\\Kveen\\PycharmProjects\\carbonbot\\resources\\NBTest\\fastlane_bot\\tools\\optimizer.py:1310: RuntimeWarning: divide by zero encountered in scalar divide\n",
      "  price = get(p, tokens_ix.get(tknb)) / get(p, tokens_ix.get(tknq))\n",
      "C:\\Users\\Kveen\\PycharmProjects\\carbonbot\\resources\\NBTest\\fastlane_bot\\tools\\optimizer.py:1310: RuntimeWarning: divide by zero encountered in scalar divide\n",
      "  price = get(p, tokens_ix.get(tknb)) / get(p, tokens_ix.get(tknq))\n",
      "C:\\Users\\Kveen\\PycharmProjects\\carbonbot\\resources\\NBTest\\fastlane_bot\\tools\\optimizer.py:1310: RuntimeWarning: divide by zero encountered in scalar divide\n",
      "  price = get(p, tokens_ix.get(tknb)) / get(p, tokens_ix.get(tknq))\n",
      "C:\\Users\\Kveen\\PycharmProjects\\carbonbot\\resources\\NBTest\\fastlane_bot\\tools\\optimizer.py:1310: RuntimeWarning: divide by zero encountered in scalar divide\n",
      "  price = get(p, tokens_ix.get(tknb)) / get(p, tokens_ix.get(tknq))\n",
      "C:\\Users\\Kveen\\PycharmProjects\\carbonbot\\resources\\NBTest\\fastlane_bot\\tools\\optimizer.py:1310: RuntimeWarning: divide by zero encountered in scalar divide\n",
      "  price = get(p, tokens_ix.get(tknb)) / get(p, tokens_ix.get(tknq))\n",
      "C:\\Users\\Kveen\\PycharmProjects\\carbonbot\\resources\\NBTest\\fastlane_bot\\tools\\optimizer.py:1157: RuntimeWarning: invalid value encountered in subtract\n",
      "  jac[:, j] = (func(x_plus) - y) / Dxj\n",
      "C:\\Users\\Kveen\\PycharmProjects\\carbonbot\\resources\\NBTest\\fastlane_bot\\tools\\optimizer.py:1310: RuntimeWarning: divide by zero encountered in scalar divide\n",
      "  price = get(p, tokens_ix.get(tknb)) / get(p, tokens_ix.get(tknq))\n",
      "C:\\Users\\Kveen\\PycharmProjects\\carbonbot\\resources\\NBTest\\fastlane_bot\\tools\\optimizer.py:1157: RuntimeWarning: invalid value encountered in subtract\n",
      "  jac[:, j] = (func(x_plus) - y) / Dxj\n",
      "C:\\Users\\Kveen\\PycharmProjects\\carbonbot\\resources\\NBTest\\fastlane_bot\\tools\\optimizer.py:1310: RuntimeWarning: divide by zero encountered in scalar divide\n",
      "  price = get(p, tokens_ix.get(tknb)) / get(p, tokens_ix.get(tknq))\n",
      "C:\\Users\\Kveen\\PycharmProjects\\carbonbot\\resources\\NBTest\\fastlane_bot\\tools\\optimizer.py:1157: RuntimeWarning: invalid value encountered in subtract\n",
      "  jac[:, j] = (func(x_plus) - y) / Dxj\n"
     ]
    }
   ],
   "source": [
    "ops = bot._find_arbitrage_opportunities_carbon_multi_pairwise(flashloan_tokens=flt, CCm=CCm2, result=bot.XS_ARBOPPS)"
   ]
  },
  {
   "cell_type": "code",
   "execution_count": 14,
   "id": "95b2c699",
   "metadata": {
    "ExecuteTime": {
     "end_time": "2023-05-15T14:46:22.993842300Z",
     "start_time": "2023-05-15T14:46:22.979323100Z"
    }
   },
   "outputs": [
    {
     "data": {
      "text/plain": "(Decimal('68990.9453488580655589602057020594968088019626915527449106946278334362432360649'),\n                                                USDC-eB48  WETH-6Cc2\n 50ac5ace09c1483987af46c60c551073            8.702803e+04 -49.626459\n 1701411834604692317316873037158841057353-0 -7.851120e+00   0.004235\n 1701411834604692317316873037158841057376-0 -2.900000e+04  10.357143\n 1701411834604692317316873037158841057378-0 -1.500000e+04   3.750000\n 1701411834604692317316873037158841057377-0 -1.800000e+04   5.806452\n 1701411834604692317316873037158841057375-0 -2.500000e+04  11.904762\n 1701411834604692317316873037158841057292-0 -6.141325e+00   0.003317\n 1701411834604692317316873037158841057339-0 -4.165539e-01   0.000234\n 1701411834604692317316873037158841057296-0 -1.994537e+00   0.001033\n 1701411834604692317316873037158841057360-0 -1.162787e+01   0.004948\n AMMIn                                       8.702803e+04  31.832123\n AMMOut                                     -8.702803e+04 -49.626459\n TOTAL NET                                   4.591129e-08 -17.794336,\n [{'cid': '50ac5ace09c1483987af46c60c551073',\n   'tknin': 'USDC-eB48',\n   'amtin': 87028.03140489757,\n   'tknout': 'WETH-6Cc2',\n   'amtout': -49.626459348251956,\n   'error': None},\n  {'cid': '1701411834604692317316873037158841057353-0',\n   'tknin': 'WETH-6Cc2',\n   'amtin': 0.004234693944454193,\n   'tknout': 'USDC-eB48',\n   'amtout': -7.8511199951171875,\n   'error': None},\n  {'cid': '1701411834604692317316873037158841057376-0',\n   'tknin': 'WETH-6Cc2',\n   'amtin': 10.357142850756645,\n   'tknout': 'USDC-eB48',\n   'amtout': -29000.0,\n   'error': None},\n  {'cid': '1701411834604692317316873037158841057378-0',\n   'tknin': 'WETH-6Cc2',\n   'amtin': 3.75,\n   'tknout': 'USDC-eB48',\n   'amtout': -15000.0,\n   'error': None},\n  {'cid': '1701411834604692317316873037158841057377-0',\n   'tknin': 'WETH-6Cc2',\n   'amtin': 5.806451611220837,\n   'tknout': 'USDC-eB48',\n   'amtout': -18000.0,\n   'error': None},\n  {'cid': '1701411834604692317316873037158841057375-0',\n   'tknin': 'WETH-6Cc2',\n   'amtin': 11.904761910438538,\n   'tknout': 'USDC-eB48',\n   'amtout': -25000.0,\n   'error': None},\n  {'cid': '1701411834604692317316873037158841057292-0',\n   'tknin': 'WETH-6Cc2',\n   'amtin': 0.0033165809687636383,\n   'tknout': 'USDC-eB48',\n   'amtout': -6.141324999999597,\n   'error': None},\n  {'cid': '1701411834604692317316873037158841057339-0',\n   'tknin': 'WETH-6Cc2',\n   'amtin': 0.00023416705449442327,\n   'tknout': 'USDC-eB48',\n   'amtout': -0.41655385068497,\n   'error': None},\n  {'cid': '1701411834604692317316873037158841057296-0',\n   'tknin': 'WETH-6Cc2',\n   'amtin': 0.0010334402322769165,\n   'tknout': 'USDC-eB48',\n   'amtout': -1.994537353515625,\n   'error': None},\n  {'cid': '1701411834604692317316873037158841057360-0',\n   'tknin': 'WETH-6Cc2',\n   'amtin': 0.004948034882545471,\n   'tknout': 'USDC-eB48',\n   'amtout': -11.62786865234375,\n   'error': None}],\n 'WETH-6Cc2',\n (CPCArbOptimizer.TradeInstruction(cid='50ac5ace09c1483987af46c60c551073', tknin='USDC-eB48', amtin=87028.03140489757, tknout='WETH-6Cc2', amtout=-49.626459348251956, error=None),\n  CPCArbOptimizer.TradeInstruction(cid='1701411834604692317316873037158841057353-0', tknin='WETH-6Cc2', amtin=0.004234693944454193, tknout='USDC-eB48', amtout=-7.8511199951171875, error=None),\n  CPCArbOptimizer.TradeInstruction(cid='1701411834604692317316873037158841057376-0', tknin='WETH-6Cc2', amtin=10.357142850756645, tknout='USDC-eB48', amtout=-29000.0, error=None),\n  CPCArbOptimizer.TradeInstruction(cid='1701411834604692317316873037158841057378-0', tknin='WETH-6Cc2', amtin=3.75, tknout='USDC-eB48', amtout=-15000.0, error=None),\n  CPCArbOptimizer.TradeInstruction(cid='1701411834604692317316873037158841057377-0', tknin='WETH-6Cc2', amtin=5.806451611220837, tknout='USDC-eB48', amtout=-18000.0, error=None),\n  CPCArbOptimizer.TradeInstruction(cid='1701411834604692317316873037158841057375-0', tknin='WETH-6Cc2', amtin=11.904761910438538, tknout='USDC-eB48', amtout=-25000.0, error=None),\n  CPCArbOptimizer.TradeInstruction(cid='1701411834604692317316873037158841057292-0', tknin='WETH-6Cc2', amtin=0.0033165809687636383, tknout='USDC-eB48', amtout=-6.141324999999597, error=None),\n  CPCArbOptimizer.TradeInstruction(cid='1701411834604692317316873037158841057339-0', tknin='WETH-6Cc2', amtin=0.00023416705449442327, tknout='USDC-eB48', amtout=-0.41655385068497, error=None),\n  CPCArbOptimizer.TradeInstruction(cid='1701411834604692317316873037158841057296-0', tknin='WETH-6Cc2', amtin=0.0010334402322769165, tknout='USDC-eB48', amtout=-1.994537353515625, error=None),\n  CPCArbOptimizer.TradeInstruction(cid='1701411834604692317316873037158841057360-0', tknin='WETH-6Cc2', amtin=0.004948034882545471, tknout='USDC-eB48', amtout=-11.62786865234375, error=None)))"
     },
     "execution_count": 14,
     "metadata": {},
     "output_type": "execute_result"
    }
   ],
   "source": [
    "ops"
   ]
  },
  {
   "cell_type": "code",
   "execution_count": 15,
   "id": "60b235ca",
   "metadata": {
    "ExecuteTime": {
     "end_time": "2023-05-15T14:46:23.038810900Z",
     "start_time": "2023-05-15T14:46:22.994840800Z"
    }
   },
   "outputs": [],
   "source": [
    "# ord = bot._run(flashloan_tokens=flt, CCm=CCm2, result=bot.XS_ORDSCAL)\n",
    "# ord"
   ]
  },
  {
   "cell_type": "code",
   "execution_count": 16,
   "id": "fcb66e42",
   "metadata": {
    "ExecuteTime": {
     "end_time": "2023-05-15T14:46:23.046305800Z",
     "start_time": "2023-05-15T14:46:23.010308700Z"
    }
   },
   "outputs": [],
   "source": [
    "# ti = bot._run(flashloan_tokens=flt, CCm=CCm2, result=bot.XS_TI)\n",
    "# ti"
   ]
  },
  {
   "cell_type": "code",
   "execution_count": 17,
   "id": "f4d25fb2",
   "metadata": {
    "ExecuteTime": {
     "end_time": "2023-05-15T14:46:23.047302600Z",
     "start_time": "2023-05-15T14:46:23.038810900Z"
    }
   },
   "outputs": [],
   "source": [
    "# ti"
   ]
  },
  {
   "cell_type": "code",
   "execution_count": 18,
   "id": "b9217711",
   "metadata": {
    "ExecuteTime": {
     "end_time": "2023-05-15T14:46:23.055831700Z",
     "start_time": "2023-05-15T14:46:23.040804800Z"
    }
   },
   "outputs": [],
   "source": [
    "# ops = bot._find_arbitrage_opportunities(flashloan_tokens=flt, CCm=CCm, result=bot.AO_CANDIDATES)\n",
    "# ops"
   ]
  },
  {
   "cell_type": "code",
   "execution_count": 19,
   "id": "93eff72b",
   "metadata": {
    "ExecuteTime": {
     "end_time": "2023-05-15T14:46:23.075506500Z",
     "start_time": "2023-05-15T14:46:23.056828100Z"
    }
   },
   "outputs": [],
   "source": [
    "# candf = pd.DataFrame(ops).sort_values(by=0, ascending=False)\n",
    "# candf.reset_index(inplace=True, drop=True)\n",
    "# candf.iloc[5][1]"
   ]
  },
  {
   "cell_type": "code",
   "execution_count": 20,
   "id": "b933a3e3",
   "metadata": {
    "ExecuteTime": {
     "end_time": "2023-05-15T14:46:23.086746400Z",
     "start_time": "2023-05-15T14:46:23.072329Z"
    }
   },
   "outputs": [],
   "source": [
    "# candf.iloc[0][0]"
   ]
  },
  {
   "cell_type": "code",
   "execution_count": 21,
   "outputs": [
    {
     "name": "stderr",
     "output_type": "stream",
     "text": [
      "C:\\Users\\Kveen\\PycharmProjects\\carbonbot\\resources\\NBTest\\fastlane_bot\\tools\\optimizer.py:1310: RuntimeWarning: divide by zero encountered in scalar divide\n",
      "  price = get(p, tokens_ix.get(tknb)) / get(p, tokens_ix.get(tknq))\n",
      "C:\\Users\\Kveen\\PycharmProjects\\carbonbot\\resources\\NBTest\\fastlane_bot\\tools\\optimizer.py:1310: RuntimeWarning: divide by zero encountered in scalar divide\n",
      "  price = get(p, tokens_ix.get(tknb)) / get(p, tokens_ix.get(tknq))\n",
      "C:\\Users\\Kveen\\PycharmProjects\\carbonbot\\resources\\NBTest\\fastlane_bot\\tools\\optimizer.py:1310: RuntimeWarning: divide by zero encountered in scalar divide\n",
      "  price = get(p, tokens_ix.get(tknb)) / get(p, tokens_ix.get(tknq))\n",
      "C:\\Users\\Kveen\\PycharmProjects\\carbonbot\\resources\\NBTest\\fastlane_bot\\tools\\optimizer.py:1310: RuntimeWarning: divide by zero encountered in scalar divide\n",
      "  price = get(p, tokens_ix.get(tknb)) / get(p, tokens_ix.get(tknq))\n",
      "C:\\Users\\Kveen\\PycharmProjects\\carbonbot\\resources\\NBTest\\fastlane_bot\\tools\\optimizer.py:1310: RuntimeWarning: divide by zero encountered in scalar divide\n",
      "  price = get(p, tokens_ix.get(tknb)) / get(p, tokens_ix.get(tknq))\n",
      "C:\\Users\\Kveen\\PycharmProjects\\carbonbot\\resources\\NBTest\\fastlane_bot\\tools\\optimizer.py:1310: RuntimeWarning: divide by zero encountered in scalar divide\n",
      "  price = get(p, tokens_ix.get(tknb)) / get(p, tokens_ix.get(tknq))\n",
      "C:\\Users\\Kveen\\PycharmProjects\\carbonbot\\resources\\NBTest\\fastlane_bot\\tools\\optimizer.py:1310: RuntimeWarning: divide by zero encountered in scalar divide\n",
      "  price = get(p, tokens_ix.get(tknb)) / get(p, tokens_ix.get(tknq))\n",
      "C:\\Users\\Kveen\\PycharmProjects\\carbonbot\\resources\\NBTest\\fastlane_bot\\tools\\optimizer.py:1310: RuntimeWarning: divide by zero encountered in scalar divide\n",
      "  price = get(p, tokens_ix.get(tknb)) / get(p, tokens_ix.get(tknq))\n",
      "C:\\Users\\Kveen\\PycharmProjects\\carbonbot\\resources\\NBTest\\fastlane_bot\\tools\\optimizer.py:1157: RuntimeWarning: invalid value encountered in subtract\n",
      "  jac[:, j] = (func(x_plus) - y) / Dxj\n",
      "C:\\Users\\Kveen\\PycharmProjects\\carbonbot\\resources\\NBTest\\fastlane_bot\\tools\\optimizer.py:1310: RuntimeWarning: divide by zero encountered in scalar divide\n",
      "  price = get(p, tokens_ix.get(tknb)) / get(p, tokens_ix.get(tknq))\n",
      "C:\\Users\\Kveen\\PycharmProjects\\carbonbot\\resources\\NBTest\\fastlane_bot\\tools\\optimizer.py:1157: RuntimeWarning: invalid value encountered in subtract\n",
      "  jac[:, j] = (func(x_plus) - y) / Dxj\n",
      "C:\\Users\\Kveen\\PycharmProjects\\carbonbot\\resources\\NBTest\\fastlane_bot\\tools\\optimizer.py:1310: RuntimeWarning: divide by zero encountered in scalar divide\n",
      "  price = get(p, tokens_ix.get(tknb)) / get(p, tokens_ix.get(tknq))\n",
      "C:\\Users\\Kveen\\PycharmProjects\\carbonbot\\resources\\NBTest\\fastlane_bot\\tools\\optimizer.py:1157: RuntimeWarning: invalid value encountered in subtract\n",
      "  jac[:, j] = (func(x_plus) - y) / Dxj\n"
     ]
    },
    {
     "name": "stdout",
     "output_type": "stream",
     "text": [
      "31.800291166209057 WETH-6Cc2 -87028.03140485166 USDC-eB48\n",
      "87028.03140489757 USDC-eB48 -49.626459348251956 WETH-6Cc2\n"
     ]
    }
   ],
   "source": [
    "aggregated = bot._run(flashloan_tokens=flt, CCm=CCm2, result=bot.XS_AGGTI)\n",
    "#aggregated\n",
    "\n",
    "for trade in aggregated:\n",
    "    print(trade.amtin, trade.tknin, trade.amtout, trade.tknout)\n"
   ],
   "metadata": {
    "collapsed": false,
    "ExecuteTime": {
     "end_time": "2023-05-15T14:46:27.620763500Z",
     "start_time": "2023-05-15T14:46:23.087742800Z"
    }
   }
  },
  {
   "cell_type": "code",
   "execution_count": 22,
   "id": "5382d20f",
   "metadata": {
    "ExecuteTime": {
     "end_time": "2023-05-15T14:46:34.003190500Z",
     "start_time": "2023-05-15T14:46:27.620763500Z"
    }
   },
   "outputs": [
    {
     "name": "stderr",
     "output_type": "stream",
     "text": [
      "C:\\Users\\Kveen\\PycharmProjects\\carbonbot\\resources\\NBTest\\fastlane_bot\\tools\\optimizer.py:1310: RuntimeWarning: divide by zero encountered in scalar divide\n",
      "  price = get(p, tokens_ix.get(tknb)) / get(p, tokens_ix.get(tknq))\n",
      "C:\\Users\\Kveen\\PycharmProjects\\carbonbot\\resources\\NBTest\\fastlane_bot\\tools\\optimizer.py:1310: RuntimeWarning: divide by zero encountered in scalar divide\n",
      "  price = get(p, tokens_ix.get(tknb)) / get(p, tokens_ix.get(tknq))\n",
      "C:\\Users\\Kveen\\PycharmProjects\\carbonbot\\resources\\NBTest\\fastlane_bot\\tools\\optimizer.py:1310: RuntimeWarning: divide by zero encountered in scalar divide\n",
      "  price = get(p, tokens_ix.get(tknb)) / get(p, tokens_ix.get(tknq))\n",
      "C:\\Users\\Kveen\\PycharmProjects\\carbonbot\\resources\\NBTest\\fastlane_bot\\tools\\optimizer.py:1310: RuntimeWarning: divide by zero encountered in scalar divide\n",
      "  price = get(p, tokens_ix.get(tknb)) / get(p, tokens_ix.get(tknq))\n",
      "C:\\Users\\Kveen\\PycharmProjects\\carbonbot\\resources\\NBTest\\fastlane_bot\\tools\\optimizer.py:1310: RuntimeWarning: divide by zero encountered in scalar divide\n",
      "  price = get(p, tokens_ix.get(tknb)) / get(p, tokens_ix.get(tknq))\n",
      "C:\\Users\\Kveen\\PycharmProjects\\carbonbot\\resources\\NBTest\\fastlane_bot\\tools\\optimizer.py:1310: RuntimeWarning: divide by zero encountered in scalar divide\n",
      "  price = get(p, tokens_ix.get(tknb)) / get(p, tokens_ix.get(tknq))\n",
      "C:\\Users\\Kveen\\PycharmProjects\\carbonbot\\resources\\NBTest\\fastlane_bot\\tools\\optimizer.py:1310: RuntimeWarning: divide by zero encountered in scalar divide\n",
      "  price = get(p, tokens_ix.get(tknb)) / get(p, tokens_ix.get(tknq))\n",
      "C:\\Users\\Kveen\\PycharmProjects\\carbonbot\\resources\\NBTest\\fastlane_bot\\tools\\optimizer.py:1310: RuntimeWarning: divide by zero encountered in scalar divide\n",
      "  price = get(p, tokens_ix.get(tknb)) / get(p, tokens_ix.get(tknq))\n",
      "C:\\Users\\Kveen\\PycharmProjects\\carbonbot\\resources\\NBTest\\fastlane_bot\\tools\\optimizer.py:1157: RuntimeWarning: invalid value encountered in subtract\n",
      "  jac[:, j] = (func(x_plus) - y) / Dxj\n",
      "C:\\Users\\Kveen\\PycharmProjects\\carbonbot\\resources\\NBTest\\fastlane_bot\\tools\\optimizer.py:1310: RuntimeWarning: divide by zero encountered in scalar divide\n",
      "  price = get(p, tokens_ix.get(tknb)) / get(p, tokens_ix.get(tknq))\n",
      "C:\\Users\\Kveen\\PycharmProjects\\carbonbot\\resources\\NBTest\\fastlane_bot\\tools\\optimizer.py:1157: RuntimeWarning: invalid value encountered in subtract\n",
      "  jac[:, j] = (func(x_plus) - y) / Dxj\n",
      "C:\\Users\\Kveen\\PycharmProjects\\carbonbot\\resources\\NBTest\\fastlane_bot\\tools\\optimizer.py:1310: RuntimeWarning: divide by zero encountered in scalar divide\n",
      "  price = get(p, tokens_ix.get(tknb)) / get(p, tokens_ix.get(tknq))\n",
      "C:\\Users\\Kveen\\PycharmProjects\\carbonbot\\resources\\NBTest\\fastlane_bot\\tools\\optimizer.py:1157: RuntimeWarning: invalid value encountered in subtract\n",
      "  jac[:, j] = (func(x_plus) - y) / Dxj\n"
     ]
    }
   ],
   "source": [
    "exact = bot._run(flashloan_tokens=flt, CCm=CCm2, result=bot.XS_EXACT)\n",
    "# exact"
   ]
  },
  {
   "cell_type": "code",
   "execution_count": 22,
   "outputs": [],
   "source": [],
   "metadata": {
    "collapsed": false,
    "ExecuteTime": {
     "end_time": "2023-05-15T14:46:34.017273900Z",
     "start_time": "2023-05-15T14:46:34.005277Z"
    }
   }
  },
  {
   "cell_type": "code",
   "execution_count": 23,
   "outputs": [
    {
     "name": "stdout",
     "output_type": "stream",
     "text": [
      "31.800291166209058106 WETH-6Cc2 86758.444664 USDC-eB48\n",
      "86758.444664 USDC-eB48 49.319757603950395836 WETH-6Cc2\n"
     ]
    }
   ],
   "source": [
    "for trade in exact:\n",
    "    print(trade.amtin, trade.tknin, trade.amtout, trade.tknout)"
   ],
   "metadata": {
    "collapsed": false,
    "ExecuteTime": {
     "end_time": "2023-05-15T14:46:34.047519600Z",
     "start_time": "2023-05-15T14:46:34.019267600Z"
    }
   }
  },
  {
   "cell_type": "code",
   "execution_count": 24,
   "outputs": [],
   "source": [
    "# assert False"
   ],
   "metadata": {
    "collapsed": false,
    "ExecuteTime": {
     "end_time": "2023-05-15T14:46:34.050509700Z",
     "start_time": "2023-05-15T14:46:34.033606300Z"
    }
   }
  },
  {
   "cell_type": "code",
   "execution_count": 24,
   "outputs": [],
   "source": [],
   "metadata": {
    "collapsed": false,
    "ExecuteTime": {
     "end_time": "2023-05-15T14:46:34.065784500Z",
     "start_time": "2023-05-15T14:46:34.049513Z"
    }
   }
  },
  {
   "cell_type": "code",
   "execution_count": 25,
   "outputs": [],
   "source": [
    "# agg = bot._run(flashloan_tokens=flt, CCm=CCm, result=bot.XS_AGGTI)\n",
    "# agg"
   ],
   "metadata": {
    "collapsed": false,
    "ExecuteTime": {
     "end_time": "2023-05-15T14:46:34.083214200Z",
     "start_time": "2023-05-15T14:46:34.066781Z"
    }
   }
  },
  {
   "cell_type": "code",
   "execution_count": 26,
   "outputs": [],
   "source": [
    "# agg[0].raw_txs"
   ],
   "metadata": {
    "collapsed": false,
    "ExecuteTime": {
     "end_time": "2023-05-15T14:46:34.095298Z",
     "start_time": "2023-05-15T14:46:34.080702500Z"
    }
   }
  },
  {
   "cell_type": "code",
   "execution_count": 27,
   "outputs": [],
   "source": [
    "# agg[1].raw_txs"
   ],
   "metadata": {
    "collapsed": false,
    "ExecuteTime": {
     "end_time": "2023-05-15T14:46:34.114259300Z",
     "start_time": "2023-05-15T14:46:34.096295200Z"
    }
   }
  },
  {
   "cell_type": "code",
   "execution_count": 28,
   "outputs": [
    {
     "data": {
      "text/plain": "(31800291166209058106, 86758444664)"
     },
     "execution_count": 28,
     "metadata": {},
     "output_type": "execute_result"
    }
   ],
   "source": [
    "exact[0].amtin_wei, exact[0].amtout_wei"
   ],
   "metadata": {
    "collapsed": false,
    "ExecuteTime": {
     "end_time": "2023-05-15T14:46:34.125731Z",
     "start_time": "2023-05-15T14:46:34.110753600Z"
    }
   }
  },
  {
   "cell_type": "code",
   "execution_count": 29,
   "outputs": [
    {
     "data": {
      "text/plain": "(86758444664, 49319757603950395836)"
     },
     "execution_count": 29,
     "metadata": {},
     "output_type": "execute_result"
    }
   ],
   "source": [
    "exact[1].amtin_wei, exact[1].amtout_wei"
   ],
   "metadata": {
    "collapsed": false,
    "ExecuteTime": {
     "end_time": "2023-05-15T14:46:34.155803800Z",
     "start_time": "2023-05-15T14:46:34.126728200Z"
    }
   }
  },
  {
   "cell_type": "code",
   "execution_count": 29,
   "outputs": [],
   "source": [],
   "metadata": {
    "collapsed": false,
    "ExecuteTime": {
     "end_time": "2023-05-15T14:46:34.165295800Z",
     "start_time": "2023-05-15T14:46:34.140721Z"
    }
   }
  },
  {
   "cell_type": "code",
   "execution_count": 30,
   "id": "1905eb9d",
   "metadata": {
    "ExecuteTime": {
     "end_time": "2023-05-15T14:46:40.918256500Z",
     "start_time": "2023-05-15T14:46:34.157797700Z"
    }
   },
   "outputs": [
    {
     "name": "stderr",
     "output_type": "stream",
     "text": [
      "C:\\Users\\Kveen\\PycharmProjects\\carbonbot\\resources\\NBTest\\fastlane_bot\\tools\\optimizer.py:1310: RuntimeWarning: divide by zero encountered in scalar divide\n",
      "  price = get(p, tokens_ix.get(tknb)) / get(p, tokens_ix.get(tknq))\n",
      "C:\\Users\\Kveen\\PycharmProjects\\carbonbot\\resources\\NBTest\\fastlane_bot\\tools\\optimizer.py:1310: RuntimeWarning: divide by zero encountered in scalar divide\n",
      "  price = get(p, tokens_ix.get(tknb)) / get(p, tokens_ix.get(tknq))\n",
      "C:\\Users\\Kveen\\PycharmProjects\\carbonbot\\resources\\NBTest\\fastlane_bot\\tools\\optimizer.py:1310: RuntimeWarning: divide by zero encountered in scalar divide\n",
      "  price = get(p, tokens_ix.get(tknb)) / get(p, tokens_ix.get(tknq))\n",
      "C:\\Users\\Kveen\\PycharmProjects\\carbonbot\\resources\\NBTest\\fastlane_bot\\tools\\optimizer.py:1310: RuntimeWarning: divide by zero encountered in scalar divide\n",
      "  price = get(p, tokens_ix.get(tknb)) / get(p, tokens_ix.get(tknq))\n",
      "C:\\Users\\Kveen\\PycharmProjects\\carbonbot\\resources\\NBTest\\fastlane_bot\\tools\\optimizer.py:1310: RuntimeWarning: divide by zero encountered in scalar divide\n",
      "  price = get(p, tokens_ix.get(tknb)) / get(p, tokens_ix.get(tknq))\n",
      "C:\\Users\\Kveen\\PycharmProjects\\carbonbot\\resources\\NBTest\\fastlane_bot\\tools\\optimizer.py:1310: RuntimeWarning: divide by zero encountered in scalar divide\n",
      "  price = get(p, tokens_ix.get(tknb)) / get(p, tokens_ix.get(tknq))\n",
      "C:\\Users\\Kveen\\PycharmProjects\\carbonbot\\resources\\NBTest\\fastlane_bot\\tools\\optimizer.py:1310: RuntimeWarning: divide by zero encountered in scalar divide\n",
      "  price = get(p, tokens_ix.get(tknb)) / get(p, tokens_ix.get(tknq))\n",
      "C:\\Users\\Kveen\\PycharmProjects\\carbonbot\\resources\\NBTest\\fastlane_bot\\tools\\optimizer.py:1310: RuntimeWarning: divide by zero encountered in scalar divide\n",
      "  price = get(p, tokens_ix.get(tknb)) / get(p, tokens_ix.get(tknq))\n",
      "C:\\Users\\Kveen\\PycharmProjects\\carbonbot\\resources\\NBTest\\fastlane_bot\\tools\\optimizer.py:1157: RuntimeWarning: invalid value encountered in subtract\n",
      "  jac[:, j] = (func(x_plus) - y) / Dxj\n",
      "C:\\Users\\Kveen\\PycharmProjects\\carbonbot\\resources\\NBTest\\fastlane_bot\\tools\\optimizer.py:1310: RuntimeWarning: divide by zero encountered in scalar divide\n",
      "  price = get(p, tokens_ix.get(tknb)) / get(p, tokens_ix.get(tknq))\n",
      "C:\\Users\\Kveen\\PycharmProjects\\carbonbot\\resources\\NBTest\\fastlane_bot\\tools\\optimizer.py:1157: RuntimeWarning: invalid value encountered in subtract\n",
      "  jac[:, j] = (func(x_plus) - y) / Dxj\n",
      "C:\\Users\\Kveen\\PycharmProjects\\carbonbot\\resources\\NBTest\\fastlane_bot\\tools\\optimizer.py:1310: RuntimeWarning: divide by zero encountered in scalar divide\n",
      "  price = get(p, tokens_ix.get(tknb)) / get(p, tokens_ix.get(tknq))\n",
      "C:\\Users\\Kveen\\PycharmProjects\\carbonbot\\resources\\NBTest\\fastlane_bot\\tools\\optimizer.py:1157: RuntimeWarning: invalid value encountered in subtract\n",
      "  jac[:, j] = (func(x_plus) - y) / Dxj\n"
     ]
    }
   ],
   "source": [
    "route_struct, flashloan_amount, flashloan_token_address = bot._run(flashloan_tokens=flt, CCm=CCm2, result=bot.XS_ROUTE)"
   ]
  },
  {
   "cell_type": "code",
   "execution_count": 31,
   "id": "24db122b",
   "metadata": {
    "ExecuteTime": {
     "end_time": "2023-05-15T14:46:40.934186600Z",
     "start_time": "2023-05-15T14:46:40.919852200Z"
    }
   },
   "outputs": [
    {
     "data": {
      "text/plain": "([{'exchangeId': 6,\n   'targetToken': '0xA0b86991c6218b36c1d19D4a2e9Eb0cE3606eB48',\n   'minTargetAmount': 1,\n   'deadline': 1784168320,\n   'customAddress': '0xA0b86991c6218b36c1d19D4a2e9Eb0cE3606eB48',\n   'customInt': 2000,\n   'customData': '0x000000000000000000000000000000000000000000000000000000000000002000000000000000000000000000000000000000000000000000000000000000090000000000000000000000000000000500000000000000000000000000000049000000000000000000000000000000000000000000000000000f07948cdd07aa00000000000000000000000000000005000000000000000000000000000000600000000000000000000000000000000000000000000000008f972ac81ed1b000000000000000000000000000000000050000000000000000000000000000006200000000000000000000000000000000000000000000000033fd5a86c9cea00000000000000000000000000000000005000000000000000000000000000000610000000000000000000000000000000000000000000000005080080a1e9ec400000000000000000000000000000000050000000000000000000000000000005f000000000000000000000000000000000000000000000000a50bea90c67b8000000000000000000000000000000000050000000000000000000000000000000c000000000000000000000000000000000000000000000000000bc5657ae1a7ba000000000000000000000000000000050000000000000000000000000000003b0000000000000000000000000000000000000000000000000000d4c2bea83a3800000000000000000000000000000005000000000000000000000000000000100000000000000000000000000000000000000000000000000003aaf7f01a805f000000000000000000000000000000050000000000000000000000000000005000000000000000000000000000000000000000000000000000118fb617a61b4e'},\n  {'exchangeId': 3,\n   'targetToken': '0xEeeeeEeeeEeEeeEeEeEeeEEEeeeeEeeeeeeeEEeE',\n   'minTargetAmount': 1,\n   'deadline': 1784168320,\n   'customAddress': '0xC02aaA39b223FE8D0A0e5C4F27eAD9083C756Cc2',\n   'customInt': 3000,\n   'customData': '0x'}],\n 31800291166209058106,\n '0xEeeeeEeeeEeEeeEeEeEeeEEEeeeeEeeeeeeeEEeE')"
     },
     "execution_count": 31,
     "metadata": {},
     "output_type": "execute_result"
    }
   ],
   "source": [
    "route_struct, flashloan_amount, flashloan_token_address"
   ]
  },
  {
   "attachments": {},
   "cell_type": "markdown",
   "id": "628bca30",
   "metadata": {},
   "source": [
    "# Tenderly Tx Submission"
   ]
  },
  {
   "cell_type": "code",
   "execution_count": 32,
   "id": "76a8ec45",
   "metadata": {
    "ExecuteTime": {
     "end_time": "2023-05-15T14:46:40.979361400Z",
     "start_time": "2023-05-15T14:46:40.935185400Z"
    }
   },
   "outputs": [],
   "source": [
    "# C.w3.provider.endpoint_uri"
   ]
  },
  {
   "cell_type": "code",
   "execution_count": 33,
   "id": "477ac528",
   "metadata": {
    "ExecuteTime": {
     "end_time": "2023-05-15T14:46:40.987830900Z",
     "start_time": "2023-05-15T14:46:40.950376700Z"
    }
   },
   "outputs": [],
   "source": [
    "# C.w3.eth.getBlock(C.w3.eth.block_number).timestamp"
   ]
  },
  {
   "cell_type": "code",
   "execution_count": 34,
   "id": "c1956941",
   "metadata": {
    "ExecuteTime": {
     "end_time": "2023-05-15T14:46:40.987830900Z",
     "start_time": "2023-05-15T14:46:40.979361400Z"
    }
   },
   "outputs": [],
   "source": [
    "# C.provider.CARBON_CONTROLLER_CONTRACT.strategy(13951577043758477001998358904702496669788)"
   ]
  },
  {
   "cell_type": "code",
   "execution_count": 35,
   "id": "6599f4a9",
   "metadata": {
    "ExecuteTime": {
     "end_time": "2023-05-15T14:46:42.181355200Z",
     "start_time": "2023-05-15T14:46:40.981354900Z"
    }
   },
   "outputs": [
    {
     "data": {
      "text/plain": "AttributeDict({'transactionHash': HexBytes('0x57977fd43552a4483e3b0ef88635cc6d268791a2b2329ec5560f2a25988ff78d'),\n 'transactionIndex': 0,\n 'blockHash': HexBytes('0x09eb6d237da0eb2a5fbdbd18067d51d32b60ce2cf330a4c723339406f8f6eaa4'),\n 'blockNumber': 17213358,\n 'from': '0x28C6c06298d514Db089934071355E5743bf21d60',\n 'to': '0x41Eeba3355d7D6FF628B7982F3F9D055c39488cB',\n 'cumulativeGasUsed': 690267,\n 'gasUsed': 690267,\n 'effectiveGasPrice': 0,\n 'contractAddress': None,\n 'logs': [AttributeDict({'logIndex': 0,\n   'address': '0x649765821D9f64198c905eC0B2B037a4a52Bc373',\n   'topics': [HexBytes('0xc322efa58c9cb2c39cfffdac61d35c8643f5cbf13c6a7d0034de2cf18923aff3'),\n    HexBytes('0x000000000000000000000000eeeeeeeeeeeeeeeeeeeeeeeeeeeeeeeeeeeeeeee'),\n    HexBytes('0x000000000000000000000000eef417e1d5cc832e619ae18d2f140de2999dd4fb'),\n    HexBytes('0x00000000000000000000000041eeba3355d7d6ff628b7982f3f9d055c39488cb')],\n   'data': '0x000000000000000000000000000000000000000000000001b95154549be2253a',\n   'blockHash': HexBytes('0x09eb6d237da0eb2a5fbdbd18067d51d32b60ce2cf330a4c723339406f8f6eaa4'),\n   'blockNumber': 17213358,\n   'removed': False,\n   'transactionHash': HexBytes('0x57977fd43552a4483e3b0ef88635cc6d268791a2b2329ec5560f2a25988ff78d'),\n   'transactionIndex': 0}),\n  AttributeDict({'logIndex': 1,\n   'address': '0xC537e898CD774e2dCBa3B14Ea6f34C93d5eA45e1',\n   'topics': [HexBytes('0x720da23a5c920b1d8827ec83c4d3c4d90d9419eadb0036b88cb4c2ffa91aef7d'),\n    HexBytes('0x0000000000000000000000000000000500000000000000000000000000000049'),\n    HexBytes('0x000000000000000000000000eeeeeeeeeeeeeeeeeeeeeeeeeeeeeeeeeeeeeeee'),\n    HexBytes('0x000000000000000000000000a0b86991c6218b36c1d19d4a2e9eb0ce3606eb48')],\n   'data': '0x000000000000000000000000000000000000000000000000724784158990d6fa000000000000000000000000000000000000000000000000724784158990d6fa0000000000000000000000000000000000000000000000000000000000000000000000000000000000000000000000000000000000000000000faca22c7fbd770000000000000000000000000000000000000000000000000000000000001eaf00000000000000000000000000000000000000000000000000000001d3f6cabd000000000000000000000000000000000000000000000000000000000000000000000000000000000000000000000000000000000000000000000002d26521ee0000000000000000000000000000000000000000000000000000000000000001',\n   'blockHash': HexBytes('0x09eb6d237da0eb2a5fbdbd18067d51d32b60ce2cf330a4c723339406f8f6eaa4'),\n   'blockNumber': 17213358,\n   'removed': False,\n   'transactionHash': HexBytes('0x57977fd43552a4483e3b0ef88635cc6d268791a2b2329ec5560f2a25988ff78d'),\n   'transactionIndex': 0}),\n  AttributeDict({'logIndex': 2,\n   'address': '0xC537e898CD774e2dCBa3B14Ea6f34C93d5eA45e1',\n   'topics': [HexBytes('0x720da23a5c920b1d8827ec83c4d3c4d90d9419eadb0036b88cb4c2ffa91aef7d'),\n    HexBytes('0x0000000000000000000000000000000500000000000000000000000000000060'),\n    HexBytes('0x000000000000000000000000eeeeeeeeeeeeeeeeeeeeeeeeeeeeeeeeeeeeeeee'),\n    HexBytes('0x000000000000000000000000a0b86991c6218b36c1d19d4a2e9eb0ce3606eb48')],\n   'data': '0x0000000000000000000000000000000000000000000000008f972ac81ed1b0000000000000000000000000000000000000000000000000008f972ac81ed1b0000000000000000000000000000000000000000000000000000000000000000000000000000000000000000000000000000000000000000000000fd0cc3f95fe990000000000000000000000000000000000000000000000000000000001ba815300000000000000000000000000000000000000000000000000000006c088e20000000000000000000000000000000000000000000000000000000000000000000000000000000000000000000000000000000000000000000000000377c44e9d0000000000000000000000000000000000000000000000000000000000000001',\n   'blockHash': HexBytes('0x09eb6d237da0eb2a5fbdbd18067d51d32b60ce2cf330a4c723339406f8f6eaa4'),\n   'blockNumber': 17213358,\n   'removed': False,\n   'transactionHash': HexBytes('0x57977fd43552a4483e3b0ef88635cc6d268791a2b2329ec5560f2a25988ff78d'),\n   'transactionIndex': 0}),\n  AttributeDict({'logIndex': 3,\n   'address': '0xC537e898CD774e2dCBa3B14Ea6f34C93d5eA45e1',\n   'topics': [HexBytes('0x720da23a5c920b1d8827ec83c4d3c4d90d9419eadb0036b88cb4c2ffa91aef7d'),\n    HexBytes('0x0000000000000000000000000000000500000000000000000000000000000062'),\n    HexBytes('0x000000000000000000000000eeeeeeeeeeeeeeeeeeeeeeeeeeeeeeeeeeeeeeee'),\n    HexBytes('0x000000000000000000000000a0b86991c6218b36c1d19d4a2e9eb0ce3606eb48')],\n   'data': '0x00000000000000000000000000000000000000000000000033fd5a86c9cea00000000000000000000000000000000000000000000000000033fd5a86c9cea0000000000000000000000000000000000000000000000000000000000000000000000000000000000000000000000000000000000000000000000fe18706e4293f0000000000000000000000000000000000000000000000000000000000e4e1c2000000000000000000000000000000000000000000000000000000037e11d600000000000000000000000000000000000000000000000000000000000000000000000000000000000000000000000000000000000000000000000004251595260000000000000000000000000000000000000000000000000000000000000001',\n   'blockHash': HexBytes('0x09eb6d237da0eb2a5fbdbd18067d51d32b60ce2cf330a4c723339406f8f6eaa4'),\n   'blockNumber': 17213358,\n   'removed': False,\n   'transactionHash': HexBytes('0x57977fd43552a4483e3b0ef88635cc6d268791a2b2329ec5560f2a25988ff78d'),\n   'transactionIndex': 0}),\n  AttributeDict({'logIndex': 4,\n   'address': '0xC537e898CD774e2dCBa3B14Ea6f34C93d5eA45e1',\n   'topics': [HexBytes('0x720da23a5c920b1d8827ec83c4d3c4d90d9419eadb0036b88cb4c2ffa91aef7d'),\n    HexBytes('0x0000000000000000000000000000000500000000000000000000000000000061'),\n    HexBytes('0x000000000000000000000000eeeeeeeeeeeeeeeeeeeeeeeeeeeeeeeeeeeeeeee'),\n    HexBytes('0x000000000000000000000000a0b86991c6218b36c1d19d4a2e9eb0ce3606eb48')],\n   'data': '0x0000000000000000000000000000000000000000000000005080080a1e9ec4000000000000000000000000000000000000000000000000005080080a1e9ec4000000000000000000000000000000000000000000000000000000000000000000000000000000000000000000000000000000000000000000000fe18706e4293f000000000000000000000000000000000000000000000000000000000112a8870000000000000000000000000000000000000000000000000000000430e23400000000000000000000000000000000000000000000000000000000000000000000000000000000000000000000000000000000000000000000000003a61da8930000000000000000000000000000000000000000000000000000000000000001',\n   'blockHash': HexBytes('0x09eb6d237da0eb2a5fbdbd18067d51d32b60ce2cf330a4c723339406f8f6eaa4'),\n   'blockNumber': 17213358,\n   'removed': False,\n   'transactionHash': HexBytes('0x57977fd43552a4483e3b0ef88635cc6d268791a2b2329ec5560f2a25988ff78d'),\n   'transactionIndex': 0}),\n  AttributeDict({'logIndex': 5,\n   'address': '0xC537e898CD774e2dCBa3B14Ea6f34C93d5eA45e1',\n   'topics': [HexBytes('0x720da23a5c920b1d8827ec83c4d3c4d90d9419eadb0036b88cb4c2ffa91aef7d'),\n    HexBytes('0x000000000000000000000000000000050000000000000000000000000000005f'),\n    HexBytes('0x000000000000000000000000eeeeeeeeeeeeeeeeeeeeeeeeeeeeeeeeeeeeeeee'),\n    HexBytes('0x000000000000000000000000a0b86991c6218b36c1d19d4a2e9eb0ce3606eb48')],\n   'data': '0x000000000000000000000000000000000000000000000000a50bea90c67b8000000000000000000000000000000000000000000000000000a50bea90c67b80000000000000000000000000000000000000000000000000000000000000000000000000000000000000000000000000000000000000000000000fc9b7c727b1a900000000000000000000000000000000000000000000000000000000017d783500000000000000000000000000000000000000000000000000000005d21dba0000000000000000000000000000000000000000000000000000000000000000000000000000000000000000000000000000000000000000000000000300d4209e0000000000000000000000000000000000000000000000000000000000000001',\n   'blockHash': HexBytes('0x09eb6d237da0eb2a5fbdbd18067d51d32b60ce2cf330a4c723339406f8f6eaa4'),\n   'blockNumber': 17213358,\n   'removed': False,\n   'transactionHash': HexBytes('0x57977fd43552a4483e3b0ef88635cc6d268791a2b2329ec5560f2a25988ff78d'),\n   'transactionIndex': 0}),\n  AttributeDict({'logIndex': 6,\n   'address': '0xC537e898CD774e2dCBa3B14Ea6f34C93d5eA45e1',\n   'topics': [HexBytes('0x720da23a5c920b1d8827ec83c4d3c4d90d9419eadb0036b88cb4c2ffa91aef7d'),\n    HexBytes('0x000000000000000000000000000000050000000000000000000000000000000c'),\n    HexBytes('0x000000000000000000000000eeeeeeeeeeeeeeeeeeeeeeeeeeeeeeeeeeeeeeee'),\n    HexBytes('0x000000000000000000000000a0b86991c6218b36c1d19d4a2e9eb0ce3606eb48')],\n   'data': '0x0000000000000000000000000000000000000000000000000045fd3f8e5e70530000000000000000000000000000000000000000000000000045fd3f8e5e70530000000000000000000000000000000000000000000000000009892ff19540c0000000000000000000000000000000000000000000000000000fac8c9c4522ee00000000000000000000000000000000000000000000000000000000000017f8000000000000000000000000000000000000000000000000000000000112a8800000000000000000000000000000000000000000000000000000000001f29b6000000000000000000000000000000000000000000000000000000002d19d87480000000000000000000000000000000000000000000000000000000000000001',\n   'blockHash': HexBytes('0x09eb6d237da0eb2a5fbdbd18067d51d32b60ce2cf330a4c723339406f8f6eaa4'),\n   'blockNumber': 17213358,\n   'removed': False,\n   'transactionHash': HexBytes('0x57977fd43552a4483e3b0ef88635cc6d268791a2b2329ec5560f2a25988ff78d'),\n   'transactionIndex': 0}),\n  AttributeDict({'logIndex': 7,\n   'address': '0xC537e898CD774e2dCBa3B14Ea6f34C93d5eA45e1',\n   'topics': [HexBytes('0x720da23a5c920b1d8827ec83c4d3c4d90d9419eadb0036b88cb4c2ffa91aef7d'),\n    HexBytes('0x000000000000000000000000000000050000000000000000000000000000003b'),\n    HexBytes('0x000000000000000000000000eeeeeeeeeeeeeeeeeeeeeeeeeeeeeeeeeeeeeeee'),\n    HexBytes('0x000000000000000000000000a0b86991c6218b36c1d19d4a2e9eb0ce3606eb48')],\n   'data': '0x0000000000000000000000000000000000000000000000000000d4c2bea83a380000000000000000000000000000000000000000000000000000d4c2bea83a3800000000000000000000000000000000000000000000000000000000000000000000000000000000000000000000000000000000000000000000000000000000000000000000000000000000000000000000000000000000000000000008e8b200000000000000000000000000000000000000000000000000000000000f424000000000000000000000000000000000000000000000000000000000140dfde600000000000000000000000000000000000000000000000000000002b3be09c70000000000000000000000000000000000000000000000000000000000000001',\n   'blockHash': HexBytes('0x09eb6d237da0eb2a5fbdbd18067d51d32b60ce2cf330a4c723339406f8f6eaa4'),\n   'blockNumber': 17213358,\n   'removed': False,\n   'transactionHash': HexBytes('0x57977fd43552a4483e3b0ef88635cc6d268791a2b2329ec5560f2a25988ff78d'),\n   'transactionIndex': 0}),\n  AttributeDict({'logIndex': 8,\n   'address': '0xC537e898CD774e2dCBa3B14Ea6f34C93d5eA45e1',\n   'topics': [HexBytes('0x720da23a5c920b1d8827ec83c4d3c4d90d9419eadb0036b88cb4c2ffa91aef7d'),\n    HexBytes('0x0000000000000000000000000000000500000000000000000000000000000010'),\n    HexBytes('0x000000000000000000000000eeeeeeeeeeeeeeeeeeeeeeeeeeeeeeeeeeeeeeee'),\n    HexBytes('0x000000000000000000000000a0b86991c6218b36c1d19d4a2e9eb0ce3606eb48')],\n   'data': '0x000000000000000000000000000000000000000000000000912e70c9984bba13000000000000000000000000000000000000000000000000912e70c9984bba130000000000000000000000000000000000000000000000000000000000000000000000000000000000000000000000000000000000000000000fb0eb14d4635400000000000000000000000000000000000000000000000000000000000007d500000000000000000000000000000000000000000000000000000004b372c4e7000000000000000000000000000000000000000000000000000000000000000000000000000000000000000000000000000000000000000000000002e10d7ebf0000000000000000000000000000000000000000000000000000000000000001',\n   'blockHash': HexBytes('0x09eb6d237da0eb2a5fbdbd18067d51d32b60ce2cf330a4c723339406f8f6eaa4'),\n   'blockNumber': 17213358,\n   'removed': False,\n   'transactionHash': HexBytes('0x57977fd43552a4483e3b0ef88635cc6d268791a2b2329ec5560f2a25988ff78d'),\n   'transactionIndex': 0}),\n  AttributeDict({'logIndex': 9,\n   'address': '0xC537e898CD774e2dCBa3B14Ea6f34C93d5eA45e1',\n   'topics': [HexBytes('0x720da23a5c920b1d8827ec83c4d3c4d90d9419eadb0036b88cb4c2ffa91aef7d'),\n    HexBytes('0x0000000000000000000000000000000500000000000000000000000000000050'),\n    HexBytes('0x000000000000000000000000eeeeeeeeeeeeeeeeeeeeeeeeeeeeeeeeeeeeeeee'),\n    HexBytes('0x000000000000000000000000a0b86991c6218b36c1d19d4a2e9eb0ce3606eb48')],\n   'data': '0x00000000000000000000000000000000000000000000000045d5b9333ca75df60000000000000000000000000000000000000000000000009f456df5961e69f00000000000000000000000000000000000000000000000000000000000000000000000000000000000000000000000000000000000000000000fc6700d013bd90000000000000000000000000000000000000000000000000000000000002d5b00000000000000000000000000000000000000000000000000000004a817c8000000000000000000000000000000000000000000000000000000000000000000000000000000000000000000000000000000000000000000000000032d4e43b50000000000000000000000000000000000000000000000000000000000000001',\n   'blockHash': HexBytes('0x09eb6d237da0eb2a5fbdbd18067d51d32b60ce2cf330a4c723339406f8f6eaa4'),\n   'blockNumber': 17213358,\n   'removed': False,\n   'transactionHash': HexBytes('0x57977fd43552a4483e3b0ef88635cc6d268791a2b2329ec5560f2a25988ff78d'),\n   'transactionIndex': 0}),\n  AttributeDict({'logIndex': 10,\n   'address': '0xA0b86991c6218b36c1d19D4a2e9Eb0cE3606eB48',\n   'topics': [HexBytes('0xddf252ad1be2c89b69c2b068fc378daa952ba7f163c4a11628f55a4df523b3ef'),\n    HexBytes('0x000000000000000000000000c537e898cd774e2dcba3b14ea6f34c93d5ea45e1'),\n    HexBytes('0x00000000000000000000000041eeba3355d7d6ff628b7982f3f9d055c39488cb')],\n   'data': '0x0000000000000000000000000000000000000000000000000000001433b933e1',\n   'blockHash': HexBytes('0x09eb6d237da0eb2a5fbdbd18067d51d32b60ce2cf330a4c723339406f8f6eaa4'),\n   'blockNumber': 17213358,\n   'removed': False,\n   'transactionHash': HexBytes('0x57977fd43552a4483e3b0ef88635cc6d268791a2b2329ec5560f2a25988ff78d'),\n   'transactionIndex': 0}),\n  AttributeDict({'logIndex': 11,\n   'address': '0xC537e898CD774e2dCBa3B14Ea6f34C93d5eA45e1',\n   'topics': [HexBytes('0x95f3b01351225fea0e69a46f68b164c9dea10284f12cd4a907ce66510ab7af6a'),\n    HexBytes('0x00000000000000000000000041eeba3355d7d6ff628b7982f3f9d055c39488cb'),\n    HexBytes('0x000000000000000000000000eeeeeeeeeeeeeeeeeeeeeeeeeeeeeeeeeeeeeeee'),\n    HexBytes('0x000000000000000000000000a0b86991c6218b36c1d19d4a2e9eb0ce3606eb48')],\n   'data': '0x000000000000000000000000000000000000000000000001b95154549be219490000000000000000000000000000000000000000000000000000001433b933e1000000000000000000000000000000000000000000000000000000000a5d3a970000000000000000000000000000000000000000000000000000000000000000',\n   'blockHash': HexBytes('0x09eb6d237da0eb2a5fbdbd18067d51d32b60ce2cf330a4c723339406f8f6eaa4'),\n   'blockNumber': 17213358,\n   'removed': False,\n   'transactionHash': HexBytes('0x57977fd43552a4483e3b0ef88635cc6d268791a2b2329ec5560f2a25988ff78d'),\n   'transactionIndex': 0}),\n  AttributeDict({'logIndex': 12,\n   'address': '0xA0b86991c6218b36c1d19D4a2e9Eb0cE3606eB48',\n   'topics': [HexBytes('0xddf252ad1be2c89b69c2b068fc378daa952ba7f163c4a11628f55a4df523b3ef'),\n    HexBytes('0x00000000000000000000000041eeba3355d7d6ff628b7982f3f9d055c39488cb'),\n    HexBytes('0x000000000000000000000000b4e16d0168e52d35cacd2c6185b44281ec28c9dc')],\n   'data': '0x0000000000000000000000000000000000000000000000000000001433b933e1',\n   'blockHash': HexBytes('0x09eb6d237da0eb2a5fbdbd18067d51d32b60ce2cf330a4c723339406f8f6eaa4'),\n   'blockNumber': 17213358,\n   'removed': False,\n   'transactionHash': HexBytes('0x57977fd43552a4483e3b0ef88635cc6d268791a2b2329ec5560f2a25988ff78d'),\n   'transactionIndex': 0}),\n  AttributeDict({'logIndex': 13,\n   'address': '0xC02aaA39b223FE8D0A0e5C4F27eAD9083C756Cc2',\n   'topics': [HexBytes('0xddf252ad1be2c89b69c2b068fc378daa952ba7f163c4a11628f55a4df523b3ef'),\n    HexBytes('0x000000000000000000000000b4e16d0168e52d35cacd2c6185b44281ec28c9dc'),\n    HexBytes('0x0000000000000000000000007a250d5630b4cf539739df2c5dacb4c659f2488d')],\n   'data': '0x000000000000000000000000000000000000000000000002ac9746b2bdeb5c47',\n   'blockHash': HexBytes('0x09eb6d237da0eb2a5fbdbd18067d51d32b60ce2cf330a4c723339406f8f6eaa4'),\n   'blockNumber': 17213358,\n   'removed': False,\n   'transactionHash': HexBytes('0x57977fd43552a4483e3b0ef88635cc6d268791a2b2329ec5560f2a25988ff78d'),\n   'transactionIndex': 0}),\n  AttributeDict({'logIndex': 14,\n   'address': '0xB4e16d0168e52d35CaCD2c6185b44281Ec28C9Dc',\n   'topics': [HexBytes('0x1c411e9a96e071241c2f21f7726b17ae89e3cab4c78be50e062b03a9fffbbad1')],\n   'data': '0x000000000000000000000000000000000000000000000000000020186426f44f00000000000000000000000000000000000000000000044035b9a50411db5b6f',\n   'blockHash': HexBytes('0x09eb6d237da0eb2a5fbdbd18067d51d32b60ce2cf330a4c723339406f8f6eaa4'),\n   'blockNumber': 17213358,\n   'removed': False,\n   'transactionHash': HexBytes('0x57977fd43552a4483e3b0ef88635cc6d268791a2b2329ec5560f2a25988ff78d'),\n   'transactionIndex': 0}),\n  AttributeDict({'logIndex': 15,\n   'address': '0xB4e16d0168e52d35CaCD2c6185b44281Ec28C9Dc',\n   'topics': [HexBytes('0xd78ad95fa46c994b6551d0da85fc275fe613ce37657fb8d5e3d130840159d822'),\n    HexBytes('0x0000000000000000000000007a250d5630b4cf539739df2c5dacb4c659f2488d'),\n    HexBytes('0x0000000000000000000000007a250d5630b4cf539739df2c5dacb4c659f2488d')],\n   'data': '0x0000000000000000000000000000000000000000000000000000001433b933e100000000000000000000000000000000000000000000000000000000000000000000000000000000000000000000000000000000000000000000000000000000000000000000000000000000000000000000000000000002ac9746b2bdeb5c47',\n   'blockHash': HexBytes('0x09eb6d237da0eb2a5fbdbd18067d51d32b60ce2cf330a4c723339406f8f6eaa4'),\n   'blockNumber': 17213358,\n   'removed': False,\n   'transactionHash': HexBytes('0x57977fd43552a4483e3b0ef88635cc6d268791a2b2329ec5560f2a25988ff78d'),\n   'transactionIndex': 0}),\n  AttributeDict({'logIndex': 16,\n   'address': '0xC02aaA39b223FE8D0A0e5C4F27eAD9083C756Cc2',\n   'topics': [HexBytes('0x7fcf532c15f0a6db0bd6d0e038bea71d30d808c7d98cb3bf7268a95bf5081b65'),\n    HexBytes('0x0000000000000000000000007a250d5630b4cf539739df2c5dacb4c659f2488d')],\n   'data': '0x000000000000000000000000000000000000000000000002ac9746b2bdeb5c47',\n   'blockHash': HexBytes('0x09eb6d237da0eb2a5fbdbd18067d51d32b60ce2cf330a4c723339406f8f6eaa4'),\n   'blockNumber': 17213358,\n   'removed': False,\n   'transactionHash': HexBytes('0x57977fd43552a4483e3b0ef88635cc6d268791a2b2329ec5560f2a25988ff78d'),\n   'transactionIndex': 0}),\n  AttributeDict({'logIndex': 17,\n   'address': '0xeEF417e1D5CC832e619ae18D2F140De2999dD4fB',\n   'topics': [HexBytes('0x0da3485ef1bb570df7bb888887eae5aa01d81b83cd8ccc80c0ea0922a677ecef'),\n    HexBytes('0x000000000000000000000000eeeeeeeeeeeeeeeeeeeeeeeeeeeeeeeeeeeeeeee'),\n    HexBytes('0x00000000000000000000000041eeba3355d7d6ff628b7982f3f9d055c39488cb')],\n   'data': '0x000000000000000000000000000000000000000000000001b95154549be2253a0000000000000000000000000000000000000000000000000000000000000000',\n   'blockHash': HexBytes('0x09eb6d237da0eb2a5fbdbd18067d51d32b60ce2cf330a4c723339406f8f6eaa4'),\n   'blockNumber': 17213358,\n   'removed': False,\n   'transactionHash': HexBytes('0x57977fd43552a4483e3b0ef88635cc6d268791a2b2329ec5560f2a25988ff78d'),\n   'transactionIndex': 0}),\n  AttributeDict({'logIndex': 18,\n   'address': '0xB67d563287D12B1F41579cB687b04988Ad564C6C',\n   'topics': [HexBytes('0x6e96dc5343d067ec486a9920e0304c3610ed05c65e45cc029d9b9fe7ecfa7620'),\n    HexBytes('0x9e598791a1101c3b6668bd5088c1bdda051b32b4e2aaa0a5a33adb4a2904ca5b'),\n    HexBytes('0x000000000000000000000000eeeeeeeeeeeeeeeeeeeeeeeeeeeeeeeeeeeeeeee'),\n    HexBytes('0x0000000000000000000000001f573d6fb3f13d689ff844b4ce37794d79a7ff1c')],\n   'data': '0x0000000000000000000000000000000000000000000c0afa40de7bb5b0260ab30000000000000000000000000000000000000000000bfdeb6ded6960f375fcfa',\n   'blockHash': HexBytes('0x09eb6d237da0eb2a5fbdbd18067d51d32b60ce2cf330a4c723339406f8f6eaa4'),\n   'blockNumber': 17213358,\n   'removed': False,\n   'transactionHash': HexBytes('0x57977fd43552a4483e3b0ef88635cc6d268791a2b2329ec5560f2a25988ff78d'),\n   'transactionIndex': 0}),\n  AttributeDict({'logIndex': 19,\n   'address': '0xB67d563287D12B1F41579cB687b04988Ad564C6C',\n   'topics': [HexBytes('0x6e96dc5343d067ec486a9920e0304c3610ed05c65e45cc029d9b9fe7ecfa7620'),\n    HexBytes('0x9e598791a1101c3b6668bd5088c1bdda051b32b4e2aaa0a5a33adb4a2904ca5b'),\n    HexBytes('0x000000000000000000000000eeeeeeeeeeeeeeeeeeeeeeeeeeeeeeeeeeeeeeee'),\n    HexBytes('0x000000000000000000000000eeeeeeeeeeeeeeeeeeeeeeeeeeeeeeeeeeeeeeee')],\n   'data': '0x0000000000000000000000000000000000000000000000df69a5657015e0700f0000000000000000000000000000000000000000000000e05ceb57ce37e9a71c',\n   'blockHash': HexBytes('0x09eb6d237da0eb2a5fbdbd18067d51d32b60ce2cf330a4c723339406f8f6eaa4'),\n   'blockNumber': 17213358,\n   'removed': False,\n   'transactionHash': HexBytes('0x57977fd43552a4483e3b0ef88635cc6d268791a2b2329ec5560f2a25988ff78d'),\n   'transactionIndex': 0}),\n  AttributeDict({'logIndex': 20,\n   'address': '0xeEF417e1D5CC832e619ae18D2F140De2999dD4fB',\n   'topics': [HexBytes('0x5c02c2bb2d1d082317eb23916ca27b3e7c294398b60061a2ad54f1c3c018c318'),\n    HexBytes('0x9e598791a1101c3b6668bd5088c1bdda051b32b4e2aaa0a5a33adb4a2904ca5b'),\n    HexBytes('0x000000000000000000000000eeeeeeeeeeeeeeeeeeeeeeeeeeeeeeeeeeeeeeee'),\n    HexBytes('0x0000000000000000000000001f573d6fb3f13d689ff844b4ce37794d79a7ff1c')],\n   'data': '0x000000000000000000000000000000000000000000000000f345f25e2209370d000000000000000000000000000000000000000000000d0ed2f11254bcb00db9000000000000000000000000000000000000000000000d0ed2f11254bcb00db90000000000000000000000000000000000000000000000000000000000000000000000000000000000000000000000000000000000000000000000000000000000000000000000000000000041eeba3355d7d6ff628b7982f3f9d055c39488cb',\n   'blockHash': HexBytes('0x09eb6d237da0eb2a5fbdbd18067d51d32b60ce2cf330a4c723339406f8f6eaa4'),\n   'blockNumber': 17213358,\n   'removed': False,\n   'transactionHash': HexBytes('0x57977fd43552a4483e3b0ef88635cc6d268791a2b2329ec5560f2a25988ff78d'),\n   'transactionIndex': 0}),\n  AttributeDict({'logIndex': 21,\n   'address': '0x1F573D6Fb3F13d689FF844B4cE37794d79a7FF1C',\n   'topics': [HexBytes('0xddf252ad1be2c89b69c2b068fc378daa952ba7f163c4a11628f55a4df523b3ef'),\n    HexBytes('0x000000000000000000000000649765821d9f64198c905ec0b2b037a4a52bc373'),\n    HexBytes('0x00000000000000000000000041eeba3355d7d6ff628b7982f3f9d055c39488cb')],\n   'data': '0x000000000000000000000000000000000000000000000d0ed2f11254bcb00db9',\n   'blockHash': HexBytes('0x09eb6d237da0eb2a5fbdbd18067d51d32b60ce2cf330a4c723339406f8f6eaa4'),\n   'blockNumber': 17213358,\n   'removed': False,\n   'transactionHash': HexBytes('0x57977fd43552a4483e3b0ef88635cc6d268791a2b2329ec5560f2a25988ff78d'),\n   'transactionIndex': 0}),\n  AttributeDict({'logIndex': 22,\n   'address': '0x649765821D9f64198c905eC0B2B037a4a52Bc373',\n   'topics': [HexBytes('0xc322efa58c9cb2c39cfffdac61d35c8643f5cbf13c6a7d0034de2cf18923aff3'),\n    HexBytes('0x0000000000000000000000001f573d6fb3f13d689ff844b4ce37794d79a7ff1c'),\n    HexBytes('0x000000000000000000000000eef417e1d5cc832e619ae18d2f140de2999dd4fb'),\n    HexBytes('0x00000000000000000000000041eeba3355d7d6ff628b7982f3f9d055c39488cb')],\n   'data': '0x000000000000000000000000000000000000000000000d0ed2f11254bcb00db9',\n   'blockHash': HexBytes('0x09eb6d237da0eb2a5fbdbd18067d51d32b60ce2cf330a4c723339406f8f6eaa4'),\n   'blockNumber': 17213358,\n   'removed': False,\n   'transactionHash': HexBytes('0x57977fd43552a4483e3b0ef88635cc6d268791a2b2329ec5560f2a25988ff78d'),\n   'transactionIndex': 0}),\n  AttributeDict({'logIndex': 23,\n   'address': '0x1F573D6Fb3F13d689FF844B4cE37794d79a7FF1C',\n   'topics': [HexBytes('0xddf252ad1be2c89b69c2b068fc378daa952ba7f163c4a11628f55a4df523b3ef'),\n    HexBytes('0x00000000000000000000000041eeba3355d7d6ff628b7982f3f9d055c39488cb'),\n    HexBytes('0x0000000000000000000000001f573d6fb3f13d689ff844b4ce37794d79a7ff1c')],\n   'data': '0x000000000000000000000000000000000000000000000d096729b42759a00db9',\n   'blockHash': HexBytes('0x09eb6d237da0eb2a5fbdbd18067d51d32b60ce2cf330a4c723339406f8f6eaa4'),\n   'blockNumber': 17213358,\n   'removed': False,\n   'transactionHash': HexBytes('0x57977fd43552a4483e3b0ef88635cc6d268791a2b2329ec5560f2a25988ff78d'),\n   'transactionIndex': 0}),\n  AttributeDict({'logIndex': 24,\n   'address': '0x1F573D6Fb3F13d689FF844B4cE37794d79a7FF1C',\n   'topics': [HexBytes('0x9a1b418bc061a5d80270261562e6986a35d995f8051145f277be16103abd3453')],\n   'data': '0x000000000000000000000000000000000000000000000d096729b42759a00db9',\n   'blockHash': HexBytes('0x09eb6d237da0eb2a5fbdbd18067d51d32b60ce2cf330a4c723339406f8f6eaa4'),\n   'blockNumber': 17213358,\n   'removed': False,\n   'transactionHash': HexBytes('0x57977fd43552a4483e3b0ef88635cc6d268791a2b2329ec5560f2a25988ff78d'),\n   'transactionIndex': 0}),\n  AttributeDict({'logIndex': 25,\n   'address': '0x1F573D6Fb3F13d689FF844B4cE37794d79a7FF1C',\n   'topics': [HexBytes('0xddf252ad1be2c89b69c2b068fc378daa952ba7f163c4a11628f55a4df523b3ef'),\n    HexBytes('0x00000000000000000000000041eeba3355d7d6ff628b7982f3f9d055c39488cb'),\n    HexBytes('0x00000000000000000000000028c6c06298d514db089934071355e5743bf21d60')],\n   'data': '0x0000000000000000000000000000000000000000000000056bc75e2d63100000',\n   'blockHash': HexBytes('0x09eb6d237da0eb2a5fbdbd18067d51d32b60ce2cf330a4c723339406f8f6eaa4'),\n   'blockNumber': 17213358,\n   'removed': False,\n   'transactionHash': HexBytes('0x57977fd43552a4483e3b0ef88635cc6d268791a2b2329ec5560f2a25988ff78d'),\n   'transactionIndex': 0}),\n  AttributeDict({'logIndex': 26,\n   'address': '0x41Eeba3355d7D6FF628B7982F3F9D055c39488cB',\n   'topics': [HexBytes('0xff8eb78730569e0ec598efa1a9e2263591cdaa6ad3d6c980a57a60aeee316918'),\n    HexBytes('0x00000000000000000000000028c6c06298d514db089934071355e5743bf21d60')],\n   'data': '0x00000000000000000000000000000000000000000000000000000000000000a00000000000000000000000000000000000000000000000000000000000000100000000000000000000000000000000000000000000000001b95154549be2253a000000000000000000000000000000000000000000000d096729b42759a00db90000000000000000000000000000000000000000000000056bc75e2d631000000000000000000000000000000000000000000000000000000000000000000002000000000000000000000000000000000000000000000000000000000000000600000000000000000000000000000000000000000000000000000000000000030000000000000000000000000000000000000000000000000000000000000003000000000000000000000000eeeeeeeeeeeeeeeeeeeeeeeeeeeeeeeeeeeeeeee000000000000000000000000a0b86991c6218b36c1d19d4a2e9eb0ce3606eb48000000000000000000000000eeeeeeeeeeeeeeeeeeeeeeeeeeeeeeeeeeeeeeee',\n   'blockHash': HexBytes('0x09eb6d237da0eb2a5fbdbd18067d51d32b60ce2cf330a4c723339406f8f6eaa4'),\n   'blockNumber': 17213358,\n   'removed': False,\n   'transactionHash': HexBytes('0x57977fd43552a4483e3b0ef88635cc6d268791a2b2329ec5560f2a25988ff78d'),\n   'transactionIndex': 0})],\n 'logsBloom': HexBytes('0x10204008182000000800120080000080000000400000000000030000000000000000000000000000000003200000000002000000080000000810100000000800080082000000000008000148040000608000042080422000000000800a008001000080000102000000004000001000000020000004000400020080110000800000000000000004000450000040000002000000008100000c0100804020800000000000400000200240010000010400000000100802000000008100a600000000000c0002110000080000000040100400082800000100001402200102000020000018200000200000000408000000000004480000000000000080200000000000'),\n 'status': 1,\n 'type': '0x0'})"
     },
     "execution_count": 35,
     "metadata": {},
     "output_type": "execute_result"
    }
   ],
   "source": [
    "### This to manually submit\n",
    "bot._validate_and_submit_transaction_tenderly(\n",
    "        ConfigObj = C,\n",
    "        route_struct = route_struct,\n",
    "        src_amount = flashloan_amount,\n",
    "        src_address = flashloan_token_address,\n",
    "            )"
   ]
  },
  {
   "attachments": {},
   "cell_type": "markdown",
   "id": "993e6614",
   "metadata": {},
   "source": [
    "# MAINNNET Preferred Tx Submission Method"
   ]
  },
  {
   "cell_type": "code",
   "execution_count": 36,
   "id": "67273141",
   "metadata": {
    "ExecuteTime": {
     "end_time": "2023-05-15T14:46:42.224953400Z",
     "start_time": "2023-05-15T14:46:42.182352300Z"
    }
   },
   "outputs": [],
   "source": [
    "# from fastlane_bot.helpers import TxHelpers"
   ]
  },
  {
   "cell_type": "code",
   "execution_count": 37,
   "id": "75ae6224",
   "metadata": {
    "ExecuteTime": {
     "end_time": "2023-05-15T14:46:42.228940100Z",
     "start_time": "2023-05-15T14:46:42.199827900Z"
    }
   },
   "outputs": [],
   "source": [
    "# pool = (\n",
    "#     bot.db.get_pool(exchange_name=bot.ConfigObj.BANCOR_V3_NAME, pair_name='BNT-FF1C/ETH-EEeE')\n",
    "# )\n",
    "# bnt_eth = (int(pool.tkn0_balance), int(pool.tkn1_balance))\n",
    "\n",
    "# # Init TxHelpers\n",
    "# tx_helpers = TxHelpers(ConfigObj=bot.ConfigObj)\n",
    "# # Submit tx\n",
    "\n"
   ]
  },
  {
   "cell_type": "code",
   "execution_count": 38,
   "id": "17ab9e38",
   "metadata": {
    "ExecuteTime": {
     "end_time": "2023-05-15T14:46:42.228940100Z",
     "start_time": "2023-05-15T14:46:42.224953400Z"
    }
   },
   "outputs": [],
   "source": [
    "# tx_helpers.validate_and_submit_transaction(route_struct=route_struct, src_amt=flashloan_amount,\n",
    "#                                                     src_address=flashloan_token_address, bnt_eth=bnt_eth,\n",
    "#                                                     expected_profit=Decimal('1000'), safety_override=True)"
   ]
  },
  {
   "attachments": {},
   "cell_type": "markdown",
   "id": "0eb9760c",
   "metadata": {},
   "source": [
    "# MAINNET Forced Tx Submission Method"
   ]
  },
  {
   "cell_type": "code",
   "execution_count": 39,
   "id": "931af988",
   "metadata": {
    "ExecuteTime": {
     "end_time": "2023-05-15T14:46:42.240748400Z",
     "start_time": "2023-05-15T14:46:42.226946300Z"
    }
   },
   "outputs": [],
   "source": [
    "# # Initialize tx helper\n",
    "# tx_helper = TxHelper(\n",
    "#     usd_gas_limit=55,\n",
    "#     ConfigObj=bot.ConfigObj,\n",
    "#     gas_price_multiplier = 1\n",
    "# )\n",
    "# # # Submit the transaction\n",
    "# # tx_helper.submit_flashloan_arb_tx(\n",
    "# #     arb_data=route_struct,\n",
    "# #     flashloan_token_address=flashloan_token_address,\n",
    "# #     flashloan_amount=flashloan_amount,\n",
    "# #     verbose=True,\n",
    "# # )"
   ]
  },
  {
   "cell_type": "code",
   "execution_count": 40,
   "id": "5894289c",
   "metadata": {
    "ExecuteTime": {
     "end_time": "2023-05-15T14:46:42.268664200Z",
     "start_time": "2023-05-15T14:46:42.240748400Z"
    }
   },
   "outputs": [],
   "source": [
    "# tx_helper.gas_limit"
   ]
  }
 ],
 "metadata": {
  "jupytext": {
   "encoding": "# -*- coding: utf-8 -*-",
   "formats": "ipynb,py:light"
  },
  "kernelspec": {
   "display_name": "Python 3 (ipykernel)",
   "language": "python",
   "name": "python3"
  },
  "language_info": {
   "codemirror_mode": {
    "name": "ipython",
    "version": 3
   },
   "file_extension": ".py",
   "mimetype": "text/x-python",
   "name": "python",
   "nbconvert_exporter": "python",
   "pygments_lexer": "ipython3",
   "version": "3.10.10"
  }
 },
 "nbformat": 4,
 "nbformat_minor": 5
}

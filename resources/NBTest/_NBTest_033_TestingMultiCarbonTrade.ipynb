{
 "cells": [
  {
   "cell_type": "code",
   "execution_count": 1,
   "id": "8f04c50a-67fe-4f09-822d-6ed6e3ac43e4",
   "metadata": {
    "ExecuteTime": {
     "end_time": "2023-05-15T11:56:08.137457800Z",
     "start_time": "2023-05-15T11:56:02.513556900Z"
    }
   },
   "outputs": [
    {
     "name": "stdout",
     "output_type": "stream",
     "text": [
      "Using default database url, if you want to use a different database, set the backend_url found at the bottom of manager_base.py\n",
      "Error adding Ethereum blockchain to database Ethereum, (psycopg2.errors.UniqueViolation) duplicate key value violates unique constraint \"ix_blockchains_name\"\n",
      "DETAIL:  Key (name)=(Ethereum) already exists.\n",
      "\n",
      "[SQL: INSERT INTO blockchains (name, block_number) VALUES (%(name)s, %(block_number)s) RETURNING blockchains.id]\n",
      "[parameters: {'name': 'Ethereum', 'block_number': 0}]\n",
      "(Background on this error at: https://sqlalche.me/e/20/gkpj) skipping...\n",
      "Error adding exchange carbon_v1 to database, (psycopg2.errors.UniqueViolation) duplicate key value violates unique constraint \"exchanges_pkey\"\n",
      "DETAIL:  Key (id)=(6) already exists.\n",
      "\n",
      "[SQL: INSERT INTO exchanges (id, name, blockchain_name) VALUES (%(id)s, %(name)s, %(blockchain_name)s)]\n",
      "[parameters: {'id': 6, 'name': 'carbon_v1', 'blockchain_name': 'Ethereum'}]\n",
      "(Background on this error at: https://sqlalche.me/e/20/gkpj) skipping...\n",
      "Error adding exchange bancor_v2 to database, (psycopg2.errors.UniqueViolation) duplicate key value violates unique constraint \"exchanges_pkey\"\n",
      "DETAIL:  Key (id)=(1) already exists.\n",
      "\n",
      "[SQL: INSERT INTO exchanges (id, name, blockchain_name) VALUES (%(id)s, %(name)s, %(blockchain_name)s)]\n",
      "[parameters: {'id': 1, 'name': 'bancor_v2', 'blockchain_name': 'Ethereum'}]\n",
      "(Background on this error at: https://sqlalche.me/e/20/gkpj) skipping...\n",
      "Error adding exchange bancor_v3 to database, (psycopg2.errors.UniqueViolation) duplicate key value violates unique constraint \"exchanges_pkey\"\n",
      "DETAIL:  Key (id)=(2) already exists.\n",
      "\n",
      "[SQL: INSERT INTO exchanges (id, name, blockchain_name) VALUES (%(id)s, %(name)s, %(blockchain_name)s)]\n",
      "[parameters: {'id': 2, 'name': 'bancor_v3', 'blockchain_name': 'Ethereum'}]\n",
      "(Background on this error at: https://sqlalche.me/e/20/gkpj) skipping...\n",
      "Error adding exchange uniswap_v2 to database, (psycopg2.errors.UniqueViolation) duplicate key value violates unique constraint \"exchanges_pkey\"\n",
      "DETAIL:  Key (id)=(3) already exists.\n",
      "\n",
      "[SQL: INSERT INTO exchanges (id, name, blockchain_name) VALUES (%(id)s, %(name)s, %(blockchain_name)s)]\n",
      "[parameters: {'id': 3, 'name': 'uniswap_v2', 'blockchain_name': 'Ethereum'}]\n",
      "(Background on this error at: https://sqlalche.me/e/20/gkpj) skipping...\n",
      "Error adding exchange uniswap_v3 to database, (psycopg2.errors.UniqueViolation) duplicate key value violates unique constraint \"exchanges_pkey\"\n",
      "DETAIL:  Key (id)=(4) already exists.\n",
      "\n",
      "[SQL: INSERT INTO exchanges (id, name, blockchain_name) VALUES (%(id)s, %(name)s, %(blockchain_name)s)]\n",
      "[parameters: {'id': 4, 'name': 'uniswap_v3', 'blockchain_name': 'Ethereum'}]\n",
      "(Background on this error at: https://sqlalche.me/e/20/gkpj) skipping...\n",
      "Error adding exchange sushiswap_v2 to database, (psycopg2.errors.UniqueViolation) duplicate key value violates unique constraint \"exchanges_pkey\"\n",
      "DETAIL:  Key (id)=(5) already exists.\n",
      "\n",
      "[SQL: INSERT INTO exchanges (id, name, blockchain_name) VALUES (%(id)s, %(name)s, %(blockchain_name)s)]\n",
      "[parameters: {'id': 5, 'name': 'sushiswap_v2', 'blockchain_name': 'Ethereum'}]\n",
      "(Background on this error at: https://sqlalche.me/e/20/gkpj) skipping...\n",
      "ConstantProductCurve v2.10.1 (07/May/2023)\n",
      "CarbonBot v3-b2.1 (03/May/2023)\n",
      "imported m, np, pd, plt, os, sys, decimal; defined iseq, raises, require\n"
     ]
    },
    {
     "name": "stderr",
     "output_type": "stream",
     "text": [
      "C:\\Users\\Kveen\\AppData\\Local\\Temp\\ipykernel_4284\\1582963263.py:8: MatplotlibDeprecationWarning: The seaborn styles shipped by Matplotlib are deprecated since 3.6, as they no longer correspond to the styles shipped by seaborn. However, they will remain available as 'seaborn-v0_8-<style>'. Alternatively, directly use the seaborn API instead.\n",
      "  plt.style.use('seaborn-dark')\n"
     ]
    },
    {
     "name": "stdout",
     "output_type": "stream",
     "text": [
      "Version = 3-b2.1 [requirements >= 2.0 is met]\n"
     ]
    }
   ],
   "source": [
    "from fastlane_bot import Config, ConfigDB, ConfigNetwork, ConfigProvider\n",
    "from fastlane_bot.bot import CarbonBot\n",
    "from fastlane_bot.tools.cpc import ConstantProductCurve as CPC, CPCContainer, T\n",
    "from fastlane_bot.helpers import TxHelper\n",
    "print(\"{0.__name__} v{0.__VERSION__} ({0.__DATE__})\".format(CPC))\n",
    "print(\"{0.__name__} v{0.__VERSION__} ({0.__DATE__})\".format(CarbonBot))\n",
    "from fastlane_bot.testing import *\n",
    "plt.style.use('seaborn-dark')\n",
    "plt.rcParams['figure.figsize'] = [12,6]\n",
    "from fastlane_bot import __VERSION__\n",
    "require(\"2.0\", __VERSION__)"
   ]
  },
  {
   "attachments": {},
   "cell_type": "markdown",
   "id": "b3f59f14-b91b-4dba-94b0-3d513aaf41c7",
   "metadata": {},
   "source": [
    "# Testing the _run functions on TENDERLY [NBTest022]"
   ]
  },
  {
   "attachments": {},
   "cell_type": "markdown",
   "id": "cf03072d-6304-41f8-b132-9470ae81ac7c",
   "metadata": {},
   "source": [
    "## Tenderly Configuration"
   ]
  },
  {
   "attachments": {},
   "cell_type": "markdown",
   "id": "0990888a-698c-487c-9142-80e62a8393ac",
   "metadata": {},
   "source": [
    "### Set up the bot and curves"
   ]
  },
  {
   "cell_type": "code",
   "execution_count": 2,
   "id": "da9ff008-cb12-44f7-93a8-84f7386da886",
   "metadata": {
    "ExecuteTime": {
     "end_time": "2023-05-15T11:56:09.260028600Z",
     "start_time": "2023-05-15T11:56:08.139560100Z"
    }
   },
   "outputs": [],
   "source": [
    "C = Config.new(config=Config.CONFIG_TENDERLY)\n",
    "assert C.DATABASE == C.DATABASE_POSTGRES\n",
    "# assert C.POSTGRES_DB == \"defaultdb\"\n",
    "assert C.NETWORK == C.NETWORK_TENDERLY\n",
    "assert C.PROVIDER == C.PROVIDER_TENDERLY\n",
    "bot = CarbonBot(ConfigObj=C)\n",
    "assert str(type(bot.db)) == \"<class 'fastlane_bot.db.manager.DatabaseManager'>\"\n",
    "\n",
    "\n"
   ]
  },
  {
   "cell_type": "code",
   "execution_count": 2,
   "outputs": [],
   "source": [],
   "metadata": {
    "collapsed": false,
    "ExecuteTime": {
     "end_time": "2023-05-15T11:56:09.276027300Z",
     "start_time": "2023-05-15T11:56:09.260028600Z"
    }
   }
  },
  {
   "cell_type": "code",
   "execution_count": 3,
   "id": "4c184a25",
   "metadata": {
    "ExecuteTime": {
     "end_time": "2023-05-15T11:56:10.325252500Z",
     "start_time": "2023-05-15T11:56:09.282439Z"
    }
   },
   "outputs": [
    {
     "name": "stdout",
     "output_type": "stream",
     "text": [
      "Number of curves: 3539\n",
      "Number of tokens: 2230\n",
      "Exchanges: {'sushiswap_v2', 'bancor_v3', 'carbon_v1', 'uniswap_v2', 'bancor_v2', 'uniswap_v3'}\n"
     ]
    }
   ],
   "source": [
    "CCm = bot.get_curves()\n",
    "exch = {c.P(\"exchange\") for c in CCm}\n",
    "print(\"Number of curves:\", len(CCm))\n",
    "print(\"Number of tokens:\", len(CCm.tokens()))\n",
    "print(\"Exchanges:\", exch)\n"
   ]
  },
  {
   "cell_type": "code",
   "execution_count": 4,
   "id": "d7ee607c",
   "metadata": {
    "ExecuteTime": {
     "end_time": "2023-05-15T11:56:10.363242100Z",
     "start_time": "2023-05-15T11:56:10.327817Z"
    }
   },
   "outputs": [
    {
     "data": {
      "text/plain": "3442"
     },
     "execution_count": 4,
     "metadata": {},
     "output_type": "execute_result"
    }
   ],
   "source": [
    "used_curves = [\n",
    "    # '340282366920938463463374607431768211527-0', #actually deleted from carbon\n",
    "    # '340282366920938463463374607431768211527-1', #actually deleted from carbon\n",
    "    # '2722258935367507707706996859454145691730-1',\n",
    "    # '1701411834604692317316873037158841057360-1',\n",
    "    # '1701411834604692317316873037158841057360-0',\n",
    "    # '9187623906865338513511114400657741709390-0',\n",
    "    # '12590447576074723148144860474975423823947-0',\n",
    "    # '13951577043758477001998358904702496669779-1'\n",
    "]\n",
    "subcurves = [x for x in CCm if x.cid not in used_curves]\n",
    "no_0x0 = [x for x in subcurves if '0x0-1AD5' not in x.pair]\n",
    "CCm2 = CPCContainer([x for x in no_0x0 if x.params.exchange not in ['bancor_v2']])\n",
    "len(CCm2)\n",
    "#print(CCm2)"
   ]
  },
  {
   "cell_type": "code",
   "execution_count": 5,
   "id": "b397bc36",
   "metadata": {
    "ExecuteTime": {
     "end_time": "2023-05-15T11:56:10.372212600Z",
     "start_time": "2023-05-15T11:56:10.357262400Z"
    }
   },
   "outputs": [
    {
     "data": {
      "text/plain": "27"
     },
     "execution_count": 5,
     "metadata": {},
     "output_type": "execute_result"
    }
   ],
   "source": [
    "pairs = [x.pair.split('/') for x in CCm if x.params.exchange == 'carbon_v1']\n",
    "len(set([x for itm in pairs for x in itm]))"
   ]
  },
  {
   "cell_type": "code",
   "execution_count": 6,
   "id": "79ed1618",
   "metadata": {
    "ExecuteTime": {
     "end_time": "2023-05-15T11:56:10.418564100Z",
     "start_time": "2023-05-15T11:56:10.373209300Z"
    }
   },
   "outputs": [
    {
     "data": {
      "text/plain": "61"
     },
     "execution_count": 6,
     "metadata": {},
     "output_type": "execute_result"
    }
   ],
   "source": [
    "pairs = [x.pair for x in CCm if x.params.exchange == 'carbon_v1']\n",
    "len(set(pairs))"
   ]
  },
  {
   "cell_type": "code",
   "execution_count": 7,
   "id": "6445f9db",
   "metadata": {
    "ExecuteTime": {
     "end_time": "2023-05-15T11:56:10.425540300Z",
     "start_time": "2023-05-15T11:56:10.389157700Z"
    }
   },
   "outputs": [],
   "source": [
    "# CCm.bycid(\"5784800237655953878877368326340059594782\").p"
   ]
  },
  {
   "cell_type": "code",
   "execution_count": 8,
   "id": "9a8100d3",
   "metadata": {
    "ExecuteTime": {
     "end_time": "2023-05-15T11:56:10.425540300Z",
     "start_time": "2023-05-15T11:56:10.404610900Z"
    }
   },
   "outputs": [],
   "source": [
    "# CCm.bycid(\"5d5cebf33c0049258c40db6bc90b1558\").p"
   ]
  },
  {
   "cell_type": "code",
   "execution_count": 9,
   "id": "21a0e86c",
   "metadata": {
    "ExecuteTime": {
     "end_time": "2023-05-15T11:56:10.435547800Z",
     "start_time": "2023-05-15T11:56:10.419560500Z"
    }
   },
   "outputs": [],
   "source": [
    "# CCm.bycid(\"9a52c5bdef1c402497d1c4f5d7501f61\").p"
   ]
  },
  {
   "cell_type": "code",
   "execution_count": 10,
   "id": "7cae2ba6",
   "metadata": {
    "ExecuteTime": {
     "end_time": "2023-05-15T11:56:10.455517200Z",
     "start_time": "2023-05-15T11:56:10.436543900Z"
    }
   },
   "outputs": [],
   "source": [
    "# CCm.bycid(\"12590447576074723148144860474975423823947-0\").p"
   ]
  },
  {
   "cell_type": "code",
   "execution_count": 11,
   "id": "11a64563",
   "metadata": {
    "ExecuteTime": {
     "end_time": "2023-05-15T11:56:10.466502300Z",
     "start_time": "2023-05-15T11:56:10.452527500Z"
    }
   },
   "outputs": [],
   "source": [
    "# 1/CCm.bycid(\"12590447576074723148144860474975423823947-1\").p"
   ]
  },
  {
   "attachments": {},
   "cell_type": "markdown",
   "id": "5a26c4b4",
   "metadata": {},
   "source": [
    "## Actual run"
   ]
  },
  {
   "cell_type": "code",
   "execution_count": 12,
   "id": "cab33dc6",
   "metadata": {
    "ExecuteTime": {
     "end_time": "2023-05-15T11:56:10.484482500Z",
     "start_time": "2023-05-15T11:56:10.467512100Z"
    }
   },
   "outputs": [],
   "source": [
    "flt = [T.USDC, T.USDT, T.ETH, T.LINK, T.BNT, T.WBTC, T.DAI]\n",
    "# bot._run(flashloan_tokens=flt, CCm=CCm2)"
   ]
  },
  {
   "attachments": {},
   "cell_type": "markdown",
   "id": "5f2f01c5",
   "metadata": {},
   "source": [
    "## Analytics"
   ]
  },
  {
   "cell_type": "code",
   "execution_count": 13,
   "id": "1419695c",
   "metadata": {
    "ExecuteTime": {
     "end_time": "2023-05-15T11:56:12.714091500Z",
     "start_time": "2023-05-15T11:56:10.528846600Z"
    }
   },
   "outputs": [
    {
     "name": "stderr",
     "output_type": "stream",
     "text": [
      "C:\\Users\\Kveen\\PycharmProjects\\carbonbot\\resources\\NBTest\\fastlane_bot\\tools\\optimizer.py:1310: RuntimeWarning: divide by zero encountered in scalar divide\n",
      "  price = get(p, tokens_ix.get(tknb)) / get(p, tokens_ix.get(tknq))\n",
      "C:\\Users\\Kveen\\PycharmProjects\\carbonbot\\resources\\NBTest\\fastlane_bot\\tools\\optimizer.py:1157: RuntimeWarning: invalid value encountered in subtract\n",
      "  jac[:, j] = (func(x_plus) - y) / Dxj\n",
      "C:\\Users\\Kveen\\PycharmProjects\\carbonbot\\resources\\NBTest\\fastlane_bot\\tools\\optimizer.py:1310: RuntimeWarning: divide by zero encountered in scalar divide\n",
      "  price = get(p, tokens_ix.get(tknb)) / get(p, tokens_ix.get(tknq))\n",
      "C:\\Users\\Kveen\\PycharmProjects\\carbonbot\\resources\\NBTest\\fastlane_bot\\tools\\optimizer.py:1157: RuntimeWarning: invalid value encountered in subtract\n",
      "  jac[:, j] = (func(x_plus) - y) / Dxj\n",
      "C:\\Users\\Kveen\\PycharmProjects\\carbonbot\\resources\\NBTest\\fastlane_bot\\tools\\optimizer.py:1310: RuntimeWarning: divide by zero encountered in scalar divide\n",
      "  price = get(p, tokens_ix.get(tknb)) / get(p, tokens_ix.get(tknq))\n",
      "C:\\Users\\Kveen\\PycharmProjects\\carbonbot\\resources\\NBTest\\fastlane_bot\\tools\\optimizer.py:1157: RuntimeWarning: invalid value encountered in subtract\n",
      "  jac[:, j] = (func(x_plus) - y) / Dxj\n",
      "C:\\Users\\Kveen\\PycharmProjects\\carbonbot\\resources\\NBTest\\fastlane_bot\\tools\\optimizer.py:1310: RuntimeWarning: divide by zero encountered in scalar divide\n",
      "  price = get(p, tokens_ix.get(tknb)) / get(p, tokens_ix.get(tknq))\n",
      "C:\\Users\\Kveen\\PycharmProjects\\carbonbot\\resources\\NBTest\\fastlane_bot\\tools\\optimizer.py:1310: RuntimeWarning: divide by zero encountered in scalar divide\n",
      "  price = get(p, tokens_ix.get(tknb)) / get(p, tokens_ix.get(tknq))\n"
     ]
    }
   ],
   "source": [
    "ops = bot._find_arbitrage_opportunities_carbon_multi_pairwise(flashloan_tokens=flt, CCm=CCm2, result=bot.XS_ARBOPPS)"
   ]
  },
  {
   "cell_type": "code",
   "execution_count": 14,
   "id": "95b2c699",
   "metadata": {
    "ExecuteTime": {
     "end_time": "2023-05-15T11:56:12.726068700Z",
     "start_time": "2023-05-15T11:56:12.711102200Z"
    }
   },
   "outputs": [
    {
     "data": {
      "text/plain": "(Decimal('68990.9453488580655589602057020594968088019626915527449106946278334362432360649'),\n                                                USDC-eB48  WETH-6Cc2\n 50ac5ace09c1483987af46c60c551073            8.702803e+04 -49.626459\n 1701411834604692317316873037158841057378-0 -1.500000e+04   3.750000\n 1701411834604692317316873037158841057376-0 -2.900000e+04  10.357143\n 1701411834604692317316873037158841057292-0 -6.141325e+00   0.003317\n 1701411834604692317316873037158841057375-0 -2.500000e+04  11.904762\n 1701411834604692317316873037158841057377-0 -1.800000e+04   5.806452\n 1701411834604692317316873037158841057353-0 -7.851120e+00   0.004235\n 1701411834604692317316873037158841057339-0 -4.165539e-01   0.000234\n 1701411834604692317316873037158841057296-0 -1.994537e+00   0.001033\n 1701411834604692317316873037158841057360-0 -1.162787e+01   0.004948\n AMMIn                                       8.702803e+04  31.832123\n AMMOut                                     -8.702803e+04 -49.626459\n TOTAL NET                                   4.590402e-08 -17.794336,\n [{'cid': '50ac5ace09c1483987af46c60c551073',\n   'tknin': 'USDC-eB48',\n   'amtin': 87028.03140489757,\n   'tknout': 'WETH-6Cc2',\n   'amtout': -49.626459348251956,\n   'error': None},\n  {'cid': '1701411834604692317316873037158841057378-0',\n   'tknin': 'WETH-6Cc2',\n   'amtin': 3.75,\n   'tknout': 'USDC-eB48',\n   'amtout': -15000.0,\n   'error': None},\n  {'cid': '1701411834604692317316873037158841057376-0',\n   'tknin': 'WETH-6Cc2',\n   'amtin': 10.357142850756645,\n   'tknout': 'USDC-eB48',\n   'amtout': -29000.0,\n   'error': None},\n  {'cid': '1701411834604692317316873037158841057292-0',\n   'tknin': 'WETH-6Cc2',\n   'amtin': 0.0033165809687636383,\n   'tknout': 'USDC-eB48',\n   'amtout': -6.141324999999597,\n   'error': None},\n  {'cid': '1701411834604692317316873037158841057375-0',\n   'tknin': 'WETH-6Cc2',\n   'amtin': 11.904761910438538,\n   'tknout': 'USDC-eB48',\n   'amtout': -25000.0,\n   'error': None},\n  {'cid': '1701411834604692317316873037158841057377-0',\n   'tknin': 'WETH-6Cc2',\n   'amtin': 5.806451611220837,\n   'tknout': 'USDC-eB48',\n   'amtout': -18000.0,\n   'error': None},\n  {'cid': '1701411834604692317316873037158841057353-0',\n   'tknin': 'WETH-6Cc2',\n   'amtin': 0.004234693944454193,\n   'tknout': 'USDC-eB48',\n   'amtout': -7.8511199951171875,\n   'error': None},\n  {'cid': '1701411834604692317316873037158841057339-0',\n   'tknin': 'WETH-6Cc2',\n   'amtin': 0.00023416705449442327,\n   'tknout': 'USDC-eB48',\n   'amtout': -0.41655385068497,\n   'error': None},\n  {'cid': '1701411834604692317316873037158841057296-0',\n   'tknin': 'WETH-6Cc2',\n   'amtin': 0.0010334402322769165,\n   'tknout': 'USDC-eB48',\n   'amtout': -1.994537353515625,\n   'error': None},\n  {'cid': '1701411834604692317316873037158841057360-0',\n   'tknin': 'WETH-6Cc2',\n   'amtin': 0.004948034882545471,\n   'tknout': 'USDC-eB48',\n   'amtout': -11.62786865234375,\n   'error': None}],\n 'WETH-6Cc2',\n (CPCArbOptimizer.TradeInstruction(cid='50ac5ace09c1483987af46c60c551073', tknin='USDC-eB48', amtin=87028.03140489757, tknout='WETH-6Cc2', amtout=-49.626459348251956, error=None),\n  CPCArbOptimizer.TradeInstruction(cid='1701411834604692317316873037158841057378-0', tknin='WETH-6Cc2', amtin=3.75, tknout='USDC-eB48', amtout=-15000.0, error=None),\n  CPCArbOptimizer.TradeInstruction(cid='1701411834604692317316873037158841057376-0', tknin='WETH-6Cc2', amtin=10.357142850756645, tknout='USDC-eB48', amtout=-29000.0, error=None),\n  CPCArbOptimizer.TradeInstruction(cid='1701411834604692317316873037158841057292-0', tknin='WETH-6Cc2', amtin=0.0033165809687636383, tknout='USDC-eB48', amtout=-6.141324999999597, error=None),\n  CPCArbOptimizer.TradeInstruction(cid='1701411834604692317316873037158841057375-0', tknin='WETH-6Cc2', amtin=11.904761910438538, tknout='USDC-eB48', amtout=-25000.0, error=None),\n  CPCArbOptimizer.TradeInstruction(cid='1701411834604692317316873037158841057377-0', tknin='WETH-6Cc2', amtin=5.806451611220837, tknout='USDC-eB48', amtout=-18000.0, error=None),\n  CPCArbOptimizer.TradeInstruction(cid='1701411834604692317316873037158841057353-0', tknin='WETH-6Cc2', amtin=0.004234693944454193, tknout='USDC-eB48', amtout=-7.8511199951171875, error=None),\n  CPCArbOptimizer.TradeInstruction(cid='1701411834604692317316873037158841057339-0', tknin='WETH-6Cc2', amtin=0.00023416705449442327, tknout='USDC-eB48', amtout=-0.41655385068497, error=None),\n  CPCArbOptimizer.TradeInstruction(cid='1701411834604692317316873037158841057296-0', tknin='WETH-6Cc2', amtin=0.0010334402322769165, tknout='USDC-eB48', amtout=-1.994537353515625, error=None),\n  CPCArbOptimizer.TradeInstruction(cid='1701411834604692317316873037158841057360-0', tknin='WETH-6Cc2', amtin=0.004948034882545471, tknout='USDC-eB48', amtout=-11.62786865234375, error=None)))"
     },
     "execution_count": 14,
     "metadata": {},
     "output_type": "execute_result"
    }
   ],
   "source": [
    "ops"
   ]
  },
  {
   "cell_type": "code",
   "execution_count": 15,
   "id": "60b235ca",
   "metadata": {
    "ExecuteTime": {
     "end_time": "2023-05-15T11:56:12.756004600Z",
     "start_time": "2023-05-15T11:56:12.727065400Z"
    }
   },
   "outputs": [],
   "source": [
    "# ord = bot._run(flashloan_tokens=flt, CCm=CCm2, result=bot.XS_ORDSCAL)\n",
    "# ord"
   ]
  },
  {
   "cell_type": "code",
   "execution_count": 16,
   "id": "fcb66e42",
   "metadata": {
    "ExecuteTime": {
     "end_time": "2023-05-15T11:56:12.761984600Z",
     "start_time": "2023-05-15T11:56:12.742051200Z"
    }
   },
   "outputs": [],
   "source": [
    "# ti = bot._run(flashloan_tokens=flt, CCm=CCm2, result=bot.XS_TI)\n",
    "# ti"
   ]
  },
  {
   "cell_type": "code",
   "execution_count": 17,
   "id": "f4d25fb2",
   "metadata": {
    "ExecuteTime": {
     "end_time": "2023-05-15T11:56:12.771991400Z",
     "start_time": "2023-05-15T11:56:12.757998700Z"
    }
   },
   "outputs": [],
   "source": [
    "# ti"
   ]
  },
  {
   "cell_type": "code",
   "execution_count": 18,
   "id": "b9217711",
   "metadata": {
    "ExecuteTime": {
     "end_time": "2023-05-15T11:56:12.790963600Z",
     "start_time": "2023-05-15T11:56:12.772999800Z"
    }
   },
   "outputs": [],
   "source": [
    "# ops = bot._find_arbitrage_opportunities(flashloan_tokens=flt, CCm=CCm, result=bot.AO_CANDIDATES)\n",
    "# ops"
   ]
  },
  {
   "cell_type": "code",
   "execution_count": 19,
   "id": "93eff72b",
   "metadata": {
    "ExecuteTime": {
     "end_time": "2023-05-15T11:56:12.803440800Z",
     "start_time": "2023-05-15T11:56:12.787971300Z"
    }
   },
   "outputs": [],
   "source": [
    "# candf = pd.DataFrame(ops).sort_values(by=0, ascending=False)\n",
    "# candf.reset_index(inplace=True, drop=True)\n",
    "# candf.iloc[5][1]"
   ]
  },
  {
   "cell_type": "code",
   "execution_count": 20,
   "id": "b933a3e3",
   "metadata": {
    "ExecuteTime": {
     "end_time": "2023-05-15T11:56:12.822539600Z",
     "start_time": "2023-05-15T11:56:12.804439400Z"
    }
   },
   "outputs": [],
   "source": [
    "# candf.iloc[0][0]"
   ]
  },
  {
   "cell_type": "code",
   "execution_count": 22,
   "id": "5382d20f",
   "metadata": {
    "ExecuteTime": {
     "end_time": "2023-05-15T11:56:30.537016200Z",
     "start_time": "2023-05-15T11:56:24.431338900Z"
    }
   },
   "outputs": [
    {
     "name": "stderr",
     "output_type": "stream",
     "text": [
      "C:\\Users\\Kveen\\PycharmProjects\\carbonbot\\resources\\NBTest\\fastlane_bot\\tools\\optimizer.py:1310: RuntimeWarning: divide by zero encountered in scalar divide\n",
      "  price = get(p, tokens_ix.get(tknb)) / get(p, tokens_ix.get(tknq))\n",
      "C:\\Users\\Kveen\\PycharmProjects\\carbonbot\\resources\\NBTest\\fastlane_bot\\tools\\optimizer.py:1157: RuntimeWarning: invalid value encountered in subtract\n",
      "  jac[:, j] = (func(x_plus) - y) / Dxj\n",
      "C:\\Users\\Kveen\\PycharmProjects\\carbonbot\\resources\\NBTest\\fastlane_bot\\tools\\optimizer.py:1310: RuntimeWarning: divide by zero encountered in scalar divide\n",
      "  price = get(p, tokens_ix.get(tknb)) / get(p, tokens_ix.get(tknq))\n",
      "C:\\Users\\Kveen\\PycharmProjects\\carbonbot\\resources\\NBTest\\fastlane_bot\\tools\\optimizer.py:1157: RuntimeWarning: invalid value encountered in subtract\n",
      "  jac[:, j] = (func(x_plus) - y) / Dxj\n",
      "C:\\Users\\Kveen\\PycharmProjects\\carbonbot\\resources\\NBTest\\fastlane_bot\\tools\\optimizer.py:1310: RuntimeWarning: divide by zero encountered in scalar divide\n",
      "  price = get(p, tokens_ix.get(tknb)) / get(p, tokens_ix.get(tknq))\n",
      "C:\\Users\\Kveen\\PycharmProjects\\carbonbot\\resources\\NBTest\\fastlane_bot\\tools\\optimizer.py:1157: RuntimeWarning: invalid value encountered in subtract\n",
      "  jac[:, j] = (func(x_plus) - y) / Dxj\n",
      "C:\\Users\\Kveen\\PycharmProjects\\carbonbot\\resources\\NBTest\\fastlane_bot\\tools\\optimizer.py:1310: RuntimeWarning: divide by zero encountered in scalar divide\n",
      "  price = get(p, tokens_ix.get(tknb)) / get(p, tokens_ix.get(tknq))\n",
      "C:\\Users\\Kveen\\PycharmProjects\\carbonbot\\resources\\NBTest\\fastlane_bot\\tools\\optimizer.py:1310: RuntimeWarning: divide by zero encountered in scalar divide\n",
      "  price = get(p, tokens_ix.get(tknb)) / get(p, tokens_ix.get(tknq))\n"
     ]
    },
    {
     "data": {
      "text/plain": "[TradeInstruction(ConfigObj=Config(network=_ConfigNetworkTenderly(), db=_ConfigDBPostgres(), logger=_ConfigLoggerDefault(), provider=_ConfigProviderTenderly()), cid='1701411834604692317316873037158841057378', tknin='WETH-6Cc2', amtin=Decimal('3.74625'), tknout='USDC-eB48', amtout=Decimal('14953.534495'), pair_sorting='', raw_txs='[]', custom_data='', db=DatabaseManager(ConfigObj=Config(network=_ConfigNetworkTenderly(), db=_ConfigDBPostgres(), logger=_ConfigLoggerDefault(), provider=_ConfigProviderTenderly()), contracts={}, filters=[], data=                                       cid                last_updated  \\\n 0     00125d26-4f9d-4936-9a46-7e7708cee9b5  2023-05-06 19:04:10.202420   \n 1219  5bbd01d2-ba90-49e8-8235-0f5183a44204  2023-05-06 19:11:11.844129   \n 1231  5c976f61-5847-4219-a2ee-0b1eb96b2775  2023-05-06 19:18:59.176213   \n 1230  5c87da80-15a0-4c59-baac-e8e9661ee920  2023-05-06 19:00:47.931782   \n 2635  c21eb1b9-cf04-4ec5-bad1-77fb1b29b38b  2023-05-06 19:13:37.076908   \n ...                                    ...                         ...   \n 1725  7ec3e511-0223-44ad-b5bf-e5a9a44158ff  2023-05-06 19:49:57.489499   \n 2302  a943c6e9-686b-4879-8118-b3c3affac2d8  2023-05-06 19:50:26.949196   \n 2771  ccc50a59-3e99-4dc5-9e28-a3fdc32cc832  2023-05-06 19:50:06.921640   \n 2769  ccb53832-8d07-4e16-8225-83b9de4767c4  2023-05-06 19:50:07.452203   \n 2054  97926fa0-7343-4677-8309-900947f76d6b  2023-05-06 19:49:49.198008   \n \n       last_updated_block                                     address  \\\n 0               17203475  0x7BeA39867e4169DBe237d55C8242a8f2fcDcc387   \n 1219            17203475  0x75099758a9D1f43198043825c8Fbcf8A12Be7a74   \n 1231            17203475  0x1c774B48Cd31dcF9FcB4bBb8FF52A8c4B4094C3d   \n 1230            17203475  0x19c10E1F20df3a8c2AC93a62d7FBA719fa777026   \n 2635            17203475  0xdb6897039084A2f8fb2b719716bA7A734f84aa66   \n ...                  ...                                         ...   \n 1725            17203475  0x931D1bF09f81B426fBe4CFDFab0b825b308c8db1   \n 2302            17203475  0xB521525b2E6Ad8Ef4c03E747B4541F366E5b8035   \n 2771            17203475  0x0A3DF697e872aB920f305dB00450c0A372E6C970   \n 2769            17203475  0x3870Ce6642959E3D844837Fd472E717736E06AAe   \n 2054            17203475  0x5bA42FaCDBc4aEAe6bEFcc567fd62e9242Fc69Ad   \n \n      exchange_name  exchange_id        fee  fee_float              pair_name  \\\n 0       uniswap_v3            4  10000.000      0.010    USDC-eB48/WETH-6Cc2   \n 1219    uniswap_v3            4  10000.000      0.010    sifu-C313/USDT-1ec7   \n 1231    uniswap_v3            4  10000.000      0.010     NYM-90e1/WETH-6Cc2   \n 1230    uniswap_v3            4  10000.000      0.010    DINO-c68F/WETH-6Cc2   \n 2635    uniswap_v3            4  10000.000      0.010    MEGA-B10E/WETH-6Cc2   \n ...            ...          ...        ...        ...                    ...   \n 1725     bancor_v2            0      0.003      0.003      BNT-FF1C/DIP-cD83   \n 2302     bancor_v2            0      0.003      0.003  BNT-FF1C/SHEESHA-E768   \n 2771     bancor_v2            0      0.003      0.003    BNT-FF1C/INDEX-4cab   \n 2769     bancor_v2            0      0.003      0.003     BNT-FF1C/EDEN-1559   \n 2054     bancor_v2            0      0.003      0.003     AAVE-DaE9/BNT-FF1C   \n \n                                     tkn0_address  ...     liquidity z_0 y_0  \\\n 0     0xA0b86991c6218b36c1d19D4a2e9Eb0cE3606eB48  ...  9.531908e+16 NaN NaN   \n 1219  0x29127fE04ffa4c32AcAC0fFe17280ABD74eAC313  ...  1.316793e+18 NaN NaN   \n 1231  0x525A8F6F3Ba4752868cde25164382BfbaE3990e1  ...  1.037216e+15 NaN NaN   \n 1230  0x49642110B712C1FD7261Bc074105E9E44676c68F  ...  2.504773e+22 NaN NaN   \n 2635  0x1892F6ff5FBE11c31158F8c6f6F6e33106c5B10E  ...  1.657896e+21 NaN NaN   \n ...                                          ...  ...           ...  ..  ..   \n 1725  0x1F573D6Fb3F13d689FF844B4cE37794d79a7FF1C  ...           NaN NaN NaN   \n 2302  0x1F573D6Fb3F13d689FF844B4cE37794d79a7FF1C  ...           NaN NaN NaN   \n 2771  0x1F573D6Fb3F13d689FF844B4cE37794d79a7FF1C  ...           NaN NaN NaN   \n 2769  0x1F573D6Fb3F13d689FF844B4cE37794d79a7FF1C  ...           NaN NaN NaN   \n 2054  0x7Fc66500c84A76Ad7e9c93437bFc5Ac33E2DDaE9  ...           NaN NaN NaN   \n \n      A_0 B_0  z_1  y_1  A_1  B_1                                  descr  \n 0    NaN NaN  NaN  NaN  NaN  NaN   uniswap_v3 USDC-eB48/WETH-6Cc2 10000  \n 1219 NaN NaN  NaN  NaN  NaN  NaN   uniswap_v3 sifu-C313/USDT-1ec7 10000  \n 1231 NaN NaN  NaN  NaN  NaN  NaN    uniswap_v3 NYM-90e1/WETH-6Cc2 10000  \n 1230 NaN NaN  NaN  NaN  NaN  NaN   uniswap_v3 DINO-c68F/WETH-6Cc2 10000  \n 2635 NaN NaN  NaN  NaN  NaN  NaN   uniswap_v3 MEGA-B10E/WETH-6Cc2 10000  \n ...   ..  ..  ...  ...  ...  ...                                    ...  \n 1725 NaN NaN  NaN  NaN  NaN  NaN      bancor_v2 BNT-FF1C/DIP-cD83 0.003  \n 2302 NaN NaN  NaN  NaN  NaN  NaN  bancor_v2 BNT-FF1C/SHEESHA-E768 0.003  \n 2771 NaN NaN  NaN  NaN  NaN  NaN    bancor_v2 BNT-FF1C/INDEX-4cab 0.003  \n 2769 NaN NaN  NaN  NaN  NaN  NaN     bancor_v2 BNT-FF1C/EDEN-1559 0.003  \n 2054 NaN NaN  NaN  NaN  NaN  NaN     bancor_v2 AAVE-DaE9/BNT-FF1C 0.003  \n \n [3550 rows x 32 columns]), tknin_dec_override=None, tknout_dec_override=None, tknin_addr_override=None, tknout_addr_override=None, exchange_override=None, _amtin_wei=3746250000000000000, _amtout_wei=14953534495),\n TradeInstruction(ConfigObj=Config(network=_ConfigNetworkTenderly(), db=_ConfigDBPostgres(), logger=_ConfigLoggerDefault(), provider=_ConfigProviderTenderly()), cid='1701411834604692317316873037158841057376', tknin='WETH-6Cc2', amtin=Decimal('10.3571428575348612748392280438084028543549869127098680184634414331783816613304'), tknout='USDC-eB48', amtout=Decimal('28939.105800'), pair_sorting='', raw_txs='[]', custom_data='', db=DatabaseManager(ConfigObj=Config(network=_ConfigNetworkTenderly(), db=_ConfigDBPostgres(), logger=_ConfigLoggerDefault(), provider=_ConfigProviderTenderly()), contracts={}, filters=[], data=                                       cid                last_updated  \\\n 0     00125d26-4f9d-4936-9a46-7e7708cee9b5  2023-05-06 19:04:10.202420   \n 1219  5bbd01d2-ba90-49e8-8235-0f5183a44204  2023-05-06 19:11:11.844129   \n 1231  5c976f61-5847-4219-a2ee-0b1eb96b2775  2023-05-06 19:18:59.176213   \n 1230  5c87da80-15a0-4c59-baac-e8e9661ee920  2023-05-06 19:00:47.931782   \n 2635  c21eb1b9-cf04-4ec5-bad1-77fb1b29b38b  2023-05-06 19:13:37.076908   \n ...                                    ...                         ...   \n 1725  7ec3e511-0223-44ad-b5bf-e5a9a44158ff  2023-05-06 19:49:57.489499   \n 2302  a943c6e9-686b-4879-8118-b3c3affac2d8  2023-05-06 19:50:26.949196   \n 2771  ccc50a59-3e99-4dc5-9e28-a3fdc32cc832  2023-05-06 19:50:06.921640   \n 2769  ccb53832-8d07-4e16-8225-83b9de4767c4  2023-05-06 19:50:07.452203   \n 2054  97926fa0-7343-4677-8309-900947f76d6b  2023-05-06 19:49:49.198008   \n \n       last_updated_block                                     address  \\\n 0               17203475  0x7BeA39867e4169DBe237d55C8242a8f2fcDcc387   \n 1219            17203475  0x75099758a9D1f43198043825c8Fbcf8A12Be7a74   \n 1231            17203475  0x1c774B48Cd31dcF9FcB4bBb8FF52A8c4B4094C3d   \n 1230            17203475  0x19c10E1F20df3a8c2AC93a62d7FBA719fa777026   \n 2635            17203475  0xdb6897039084A2f8fb2b719716bA7A734f84aa66   \n ...                  ...                                         ...   \n 1725            17203475  0x931D1bF09f81B426fBe4CFDFab0b825b308c8db1   \n 2302            17203475  0xB521525b2E6Ad8Ef4c03E747B4541F366E5b8035   \n 2771            17203475  0x0A3DF697e872aB920f305dB00450c0A372E6C970   \n 2769            17203475  0x3870Ce6642959E3D844837Fd472E717736E06AAe   \n 2054            17203475  0x5bA42FaCDBc4aEAe6bEFcc567fd62e9242Fc69Ad   \n \n      exchange_name  exchange_id        fee  fee_float              pair_name  \\\n 0       uniswap_v3            4  10000.000      0.010    USDC-eB48/WETH-6Cc2   \n 1219    uniswap_v3            4  10000.000      0.010    sifu-C313/USDT-1ec7   \n 1231    uniswap_v3            4  10000.000      0.010     NYM-90e1/WETH-6Cc2   \n 1230    uniswap_v3            4  10000.000      0.010    DINO-c68F/WETH-6Cc2   \n 2635    uniswap_v3            4  10000.000      0.010    MEGA-B10E/WETH-6Cc2   \n ...            ...          ...        ...        ...                    ...   \n 1725     bancor_v2            0      0.003      0.003      BNT-FF1C/DIP-cD83   \n 2302     bancor_v2            0      0.003      0.003  BNT-FF1C/SHEESHA-E768   \n 2771     bancor_v2            0      0.003      0.003    BNT-FF1C/INDEX-4cab   \n 2769     bancor_v2            0      0.003      0.003     BNT-FF1C/EDEN-1559   \n 2054     bancor_v2            0      0.003      0.003     AAVE-DaE9/BNT-FF1C   \n \n                                     tkn0_address  ...     liquidity z_0 y_0  \\\n 0     0xA0b86991c6218b36c1d19D4a2e9Eb0cE3606eB48  ...  9.531908e+16 NaN NaN   \n 1219  0x29127fE04ffa4c32AcAC0fFe17280ABD74eAC313  ...  1.316793e+18 NaN NaN   \n 1231  0x525A8F6F3Ba4752868cde25164382BfbaE3990e1  ...  1.037216e+15 NaN NaN   \n 1230  0x49642110B712C1FD7261Bc074105E9E44676c68F  ...  2.504773e+22 NaN NaN   \n 2635  0x1892F6ff5FBE11c31158F8c6f6F6e33106c5B10E  ...  1.657896e+21 NaN NaN   \n ...                                          ...  ...           ...  ..  ..   \n 1725  0x1F573D6Fb3F13d689FF844B4cE37794d79a7FF1C  ...           NaN NaN NaN   \n 2302  0x1F573D6Fb3F13d689FF844B4cE37794d79a7FF1C  ...           NaN NaN NaN   \n 2771  0x1F573D6Fb3F13d689FF844B4cE37794d79a7FF1C  ...           NaN NaN NaN   \n 2769  0x1F573D6Fb3F13d689FF844B4cE37794d79a7FF1C  ...           NaN NaN NaN   \n 2054  0x7Fc66500c84A76Ad7e9c93437bFc5Ac33E2DDaE9  ...           NaN NaN NaN   \n \n      A_0 B_0  z_1  y_1  A_1  B_1                                  descr  \n 0    NaN NaN  NaN  NaN  NaN  NaN   uniswap_v3 USDC-eB48/WETH-6Cc2 10000  \n 1219 NaN NaN  NaN  NaN  NaN  NaN   uniswap_v3 sifu-C313/USDT-1ec7 10000  \n 1231 NaN NaN  NaN  NaN  NaN  NaN    uniswap_v3 NYM-90e1/WETH-6Cc2 10000  \n 1230 NaN NaN  NaN  NaN  NaN  NaN   uniswap_v3 DINO-c68F/WETH-6Cc2 10000  \n 2635 NaN NaN  NaN  NaN  NaN  NaN   uniswap_v3 MEGA-B10E/WETH-6Cc2 10000  \n ...   ..  ..  ...  ...  ...  ...                                    ...  \n 1725 NaN NaN  NaN  NaN  NaN  NaN      bancor_v2 BNT-FF1C/DIP-cD83 0.003  \n 2302 NaN NaN  NaN  NaN  NaN  NaN  bancor_v2 BNT-FF1C/SHEESHA-E768 0.003  \n 2771 NaN NaN  NaN  NaN  NaN  NaN    bancor_v2 BNT-FF1C/INDEX-4cab 0.003  \n 2769 NaN NaN  NaN  NaN  NaN  NaN     bancor_v2 BNT-FF1C/EDEN-1559 0.003  \n 2054 NaN NaN  NaN  NaN  NaN  NaN     bancor_v2 AAVE-DaE9/BNT-FF1C 0.003  \n \n [3550 rows x 32 columns]), tknin_dec_override=None, tknout_dec_override=None, tknin_addr_override=None, tknout_addr_override=None, exchange_override=None, _amtin_wei=10357142857534861274, _amtout_wei=28939105800),\n TradeInstruction(ConfigObj=Config(network=_ConfigNetworkTenderly(), db=_ConfigDBPostgres(), logger=_ConfigLoggerDefault(), provider=_ConfigProviderTenderly()), cid='1701411834604692317316873037158841057292', tknin='WETH-6Cc2', amtin=Decimal('0.00331658096876399452265196354384719555782374122524477537128095260425303564344689'), tknout='USDC-eB48', amtout=Decimal('6.128429'), pair_sorting='', raw_txs='[]', custom_data='', db=DatabaseManager(ConfigObj=Config(network=_ConfigNetworkTenderly(), db=_ConfigDBPostgres(), logger=_ConfigLoggerDefault(), provider=_ConfigProviderTenderly()), contracts={}, filters=[], data=                                       cid                last_updated  \\\n 0     00125d26-4f9d-4936-9a46-7e7708cee9b5  2023-05-06 19:04:10.202420   \n 1219  5bbd01d2-ba90-49e8-8235-0f5183a44204  2023-05-06 19:11:11.844129   \n 1231  5c976f61-5847-4219-a2ee-0b1eb96b2775  2023-05-06 19:18:59.176213   \n 1230  5c87da80-15a0-4c59-baac-e8e9661ee920  2023-05-06 19:00:47.931782   \n 2635  c21eb1b9-cf04-4ec5-bad1-77fb1b29b38b  2023-05-06 19:13:37.076908   \n ...                                    ...                         ...   \n 1725  7ec3e511-0223-44ad-b5bf-e5a9a44158ff  2023-05-06 19:49:57.489499   \n 2302  a943c6e9-686b-4879-8118-b3c3affac2d8  2023-05-06 19:50:26.949196   \n 2771  ccc50a59-3e99-4dc5-9e28-a3fdc32cc832  2023-05-06 19:50:06.921640   \n 2769  ccb53832-8d07-4e16-8225-83b9de4767c4  2023-05-06 19:50:07.452203   \n 2054  97926fa0-7343-4677-8309-900947f76d6b  2023-05-06 19:49:49.198008   \n \n       last_updated_block                                     address  \\\n 0               17203475  0x7BeA39867e4169DBe237d55C8242a8f2fcDcc387   \n 1219            17203475  0x75099758a9D1f43198043825c8Fbcf8A12Be7a74   \n 1231            17203475  0x1c774B48Cd31dcF9FcB4bBb8FF52A8c4B4094C3d   \n 1230            17203475  0x19c10E1F20df3a8c2AC93a62d7FBA719fa777026   \n 2635            17203475  0xdb6897039084A2f8fb2b719716bA7A734f84aa66   \n ...                  ...                                         ...   \n 1725            17203475  0x931D1bF09f81B426fBe4CFDFab0b825b308c8db1   \n 2302            17203475  0xB521525b2E6Ad8Ef4c03E747B4541F366E5b8035   \n 2771            17203475  0x0A3DF697e872aB920f305dB00450c0A372E6C970   \n 2769            17203475  0x3870Ce6642959E3D844837Fd472E717736E06AAe   \n 2054            17203475  0x5bA42FaCDBc4aEAe6bEFcc567fd62e9242Fc69Ad   \n \n      exchange_name  exchange_id        fee  fee_float              pair_name  \\\n 0       uniswap_v3            4  10000.000      0.010    USDC-eB48/WETH-6Cc2   \n 1219    uniswap_v3            4  10000.000      0.010    sifu-C313/USDT-1ec7   \n 1231    uniswap_v3            4  10000.000      0.010     NYM-90e1/WETH-6Cc2   \n 1230    uniswap_v3            4  10000.000      0.010    DINO-c68F/WETH-6Cc2   \n 2635    uniswap_v3            4  10000.000      0.010    MEGA-B10E/WETH-6Cc2   \n ...            ...          ...        ...        ...                    ...   \n 1725     bancor_v2            0      0.003      0.003      BNT-FF1C/DIP-cD83   \n 2302     bancor_v2            0      0.003      0.003  BNT-FF1C/SHEESHA-E768   \n 2771     bancor_v2            0      0.003      0.003    BNT-FF1C/INDEX-4cab   \n 2769     bancor_v2            0      0.003      0.003     BNT-FF1C/EDEN-1559   \n 2054     bancor_v2            0      0.003      0.003     AAVE-DaE9/BNT-FF1C   \n \n                                     tkn0_address  ...     liquidity z_0 y_0  \\\n 0     0xA0b86991c6218b36c1d19D4a2e9Eb0cE3606eB48  ...  9.531908e+16 NaN NaN   \n 1219  0x29127fE04ffa4c32AcAC0fFe17280ABD74eAC313  ...  1.316793e+18 NaN NaN   \n 1231  0x525A8F6F3Ba4752868cde25164382BfbaE3990e1  ...  1.037216e+15 NaN NaN   \n 1230  0x49642110B712C1FD7261Bc074105E9E44676c68F  ...  2.504773e+22 NaN NaN   \n 2635  0x1892F6ff5FBE11c31158F8c6f6F6e33106c5B10E  ...  1.657896e+21 NaN NaN   \n ...                                          ...  ...           ...  ..  ..   \n 1725  0x1F573D6Fb3F13d689FF844B4cE37794d79a7FF1C  ...           NaN NaN NaN   \n 2302  0x1F573D6Fb3F13d689FF844B4cE37794d79a7FF1C  ...           NaN NaN NaN   \n 2771  0x1F573D6Fb3F13d689FF844B4cE37794d79a7FF1C  ...           NaN NaN NaN   \n 2769  0x1F573D6Fb3F13d689FF844B4cE37794d79a7FF1C  ...           NaN NaN NaN   \n 2054  0x7Fc66500c84A76Ad7e9c93437bFc5Ac33E2DDaE9  ...           NaN NaN NaN   \n \n      A_0 B_0  z_1  y_1  A_1  B_1                                  descr  \n 0    NaN NaN  NaN  NaN  NaN  NaN   uniswap_v3 USDC-eB48/WETH-6Cc2 10000  \n 1219 NaN NaN  NaN  NaN  NaN  NaN   uniswap_v3 sifu-C313/USDT-1ec7 10000  \n 1231 NaN NaN  NaN  NaN  NaN  NaN    uniswap_v3 NYM-90e1/WETH-6Cc2 10000  \n 1230 NaN NaN  NaN  NaN  NaN  NaN   uniswap_v3 DINO-c68F/WETH-6Cc2 10000  \n 2635 NaN NaN  NaN  NaN  NaN  NaN   uniswap_v3 MEGA-B10E/WETH-6Cc2 10000  \n ...   ..  ..  ...  ...  ...  ...                                    ...  \n 1725 NaN NaN  NaN  NaN  NaN  NaN      bancor_v2 BNT-FF1C/DIP-cD83 0.003  \n 2302 NaN NaN  NaN  NaN  NaN  NaN  bancor_v2 BNT-FF1C/SHEESHA-E768 0.003  \n 2771 NaN NaN  NaN  NaN  NaN  NaN    bancor_v2 BNT-FF1C/INDEX-4cab 0.003  \n 2769 NaN NaN  NaN  NaN  NaN  NaN     bancor_v2 BNT-FF1C/EDEN-1559 0.003  \n 2054 NaN NaN  NaN  NaN  NaN  NaN     bancor_v2 AAVE-DaE9/BNT-FF1C 0.003  \n \n [3550 rows x 32 columns]), tknin_dec_override=None, tknout_dec_override=None, tknin_addr_override=None, tknout_addr_override=None, exchange_override=None, _amtin_wei=3316580968763994, _amtout_wei=6128429),\n TradeInstruction(ConfigObj=Config(network=_ConfigNetworkTenderly(), db=_ConfigDBPostgres(), logger=_ConfigLoggerDefault(), provider=_ConfigProviderTenderly()), cid='1701411834604692317316873037158841057375', tknin='WETH-6Cc2', amtin=Decimal('6.128429'), tknout='USDC-eB48', amtout=Decimal('12842.677101'), pair_sorting='', raw_txs='[]', custom_data='', db=DatabaseManager(ConfigObj=Config(network=_ConfigNetworkTenderly(), db=_ConfigDBPostgres(), logger=_ConfigLoggerDefault(), provider=_ConfigProviderTenderly()), contracts={}, filters=[], data=                                       cid                last_updated  \\\n 0     00125d26-4f9d-4936-9a46-7e7708cee9b5  2023-05-06 19:04:10.202420   \n 1219  5bbd01d2-ba90-49e8-8235-0f5183a44204  2023-05-06 19:11:11.844129   \n 1231  5c976f61-5847-4219-a2ee-0b1eb96b2775  2023-05-06 19:18:59.176213   \n 1230  5c87da80-15a0-4c59-baac-e8e9661ee920  2023-05-06 19:00:47.931782   \n 2635  c21eb1b9-cf04-4ec5-bad1-77fb1b29b38b  2023-05-06 19:13:37.076908   \n ...                                    ...                         ...   \n 1725  7ec3e511-0223-44ad-b5bf-e5a9a44158ff  2023-05-06 19:49:57.489499   \n 2302  a943c6e9-686b-4879-8118-b3c3affac2d8  2023-05-06 19:50:26.949196   \n 2771  ccc50a59-3e99-4dc5-9e28-a3fdc32cc832  2023-05-06 19:50:06.921640   \n 2769  ccb53832-8d07-4e16-8225-83b9de4767c4  2023-05-06 19:50:07.452203   \n 2054  97926fa0-7343-4677-8309-900947f76d6b  2023-05-06 19:49:49.198008   \n \n       last_updated_block                                     address  \\\n 0               17203475  0x7BeA39867e4169DBe237d55C8242a8f2fcDcc387   \n 1219            17203475  0x75099758a9D1f43198043825c8Fbcf8A12Be7a74   \n 1231            17203475  0x1c774B48Cd31dcF9FcB4bBb8FF52A8c4B4094C3d   \n 1230            17203475  0x19c10E1F20df3a8c2AC93a62d7FBA719fa777026   \n 2635            17203475  0xdb6897039084A2f8fb2b719716bA7A734f84aa66   \n ...                  ...                                         ...   \n 1725            17203475  0x931D1bF09f81B426fBe4CFDFab0b825b308c8db1   \n 2302            17203475  0xB521525b2E6Ad8Ef4c03E747B4541F366E5b8035   \n 2771            17203475  0x0A3DF697e872aB920f305dB00450c0A372E6C970   \n 2769            17203475  0x3870Ce6642959E3D844837Fd472E717736E06AAe   \n 2054            17203475  0x5bA42FaCDBc4aEAe6bEFcc567fd62e9242Fc69Ad   \n \n      exchange_name  exchange_id        fee  fee_float              pair_name  \\\n 0       uniswap_v3            4  10000.000      0.010    USDC-eB48/WETH-6Cc2   \n 1219    uniswap_v3            4  10000.000      0.010    sifu-C313/USDT-1ec7   \n 1231    uniswap_v3            4  10000.000      0.010     NYM-90e1/WETH-6Cc2   \n 1230    uniswap_v3            4  10000.000      0.010    DINO-c68F/WETH-6Cc2   \n 2635    uniswap_v3            4  10000.000      0.010    MEGA-B10E/WETH-6Cc2   \n ...            ...          ...        ...        ...                    ...   \n 1725     bancor_v2            0      0.003      0.003      BNT-FF1C/DIP-cD83   \n 2302     bancor_v2            0      0.003      0.003  BNT-FF1C/SHEESHA-E768   \n 2771     bancor_v2            0      0.003      0.003    BNT-FF1C/INDEX-4cab   \n 2769     bancor_v2            0      0.003      0.003     BNT-FF1C/EDEN-1559   \n 2054     bancor_v2            0      0.003      0.003     AAVE-DaE9/BNT-FF1C   \n \n                                     tkn0_address  ...     liquidity z_0 y_0  \\\n 0     0xA0b86991c6218b36c1d19D4a2e9Eb0cE3606eB48  ...  9.531908e+16 NaN NaN   \n 1219  0x29127fE04ffa4c32AcAC0fFe17280ABD74eAC313  ...  1.316793e+18 NaN NaN   \n 1231  0x525A8F6F3Ba4752868cde25164382BfbaE3990e1  ...  1.037216e+15 NaN NaN   \n 1230  0x49642110B712C1FD7261Bc074105E9E44676c68F  ...  2.504773e+22 NaN NaN   \n 2635  0x1892F6ff5FBE11c31158F8c6f6F6e33106c5B10E  ...  1.657896e+21 NaN NaN   \n ...                                          ...  ...           ...  ..  ..   \n 1725  0x1F573D6Fb3F13d689FF844B4cE37794d79a7FF1C  ...           NaN NaN NaN   \n 2302  0x1F573D6Fb3F13d689FF844B4cE37794d79a7FF1C  ...           NaN NaN NaN   \n 2771  0x1F573D6Fb3F13d689FF844B4cE37794d79a7FF1C  ...           NaN NaN NaN   \n 2769  0x1F573D6Fb3F13d689FF844B4cE37794d79a7FF1C  ...           NaN NaN NaN   \n 2054  0x7Fc66500c84A76Ad7e9c93437bFc5Ac33E2DDaE9  ...           NaN NaN NaN   \n \n      A_0 B_0  z_1  y_1  A_1  B_1                                  descr  \n 0    NaN NaN  NaN  NaN  NaN  NaN   uniswap_v3 USDC-eB48/WETH-6Cc2 10000  \n 1219 NaN NaN  NaN  NaN  NaN  NaN   uniswap_v3 sifu-C313/USDT-1ec7 10000  \n 1231 NaN NaN  NaN  NaN  NaN  NaN    uniswap_v3 NYM-90e1/WETH-6Cc2 10000  \n 1230 NaN NaN  NaN  NaN  NaN  NaN   uniswap_v3 DINO-c68F/WETH-6Cc2 10000  \n 2635 NaN NaN  NaN  NaN  NaN  NaN   uniswap_v3 MEGA-B10E/WETH-6Cc2 10000  \n ...   ..  ..  ...  ...  ...  ...                                    ...  \n 1725 NaN NaN  NaN  NaN  NaN  NaN      bancor_v2 BNT-FF1C/DIP-cD83 0.003  \n 2302 NaN NaN  NaN  NaN  NaN  NaN  bancor_v2 BNT-FF1C/SHEESHA-E768 0.003  \n 2771 NaN NaN  NaN  NaN  NaN  NaN    bancor_v2 BNT-FF1C/INDEX-4cab 0.003  \n 2769 NaN NaN  NaN  NaN  NaN  NaN     bancor_v2 BNT-FF1C/EDEN-1559 0.003  \n 2054 NaN NaN  NaN  NaN  NaN  NaN     bancor_v2 AAVE-DaE9/BNT-FF1C 0.003  \n \n [3550 rows x 32 columns]), tknin_dec_override=None, tknout_dec_override=None, tknin_addr_override=None, tknout_addr_override=None, exchange_override=None, _amtin_wei=6128429000000000000, _amtout_wei=12842677101),\n TradeInstruction(ConfigObj=Config(network=_ConfigNetworkTenderly(), db=_ConfigDBPostgres(), logger=_ConfigLoggerDefault(), provider=_ConfigProviderTenderly()), cid='1701411834604692317316873037158841057377', tknin='WETH-6Cc2', amtin=Decimal('5.80645161333301406344939660210244103186430449098366065177017248207755978017982'), tknout='USDC-eB48', amtout=Decimal('17962.203600'), pair_sorting='', raw_txs='[]', custom_data='', db=DatabaseManager(ConfigObj=Config(network=_ConfigNetworkTenderly(), db=_ConfigDBPostgres(), logger=_ConfigLoggerDefault(), provider=_ConfigProviderTenderly()), contracts={}, filters=[], data=                                       cid                last_updated  \\\n 0     00125d26-4f9d-4936-9a46-7e7708cee9b5  2023-05-06 19:04:10.202420   \n 1219  5bbd01d2-ba90-49e8-8235-0f5183a44204  2023-05-06 19:11:11.844129   \n 1231  5c976f61-5847-4219-a2ee-0b1eb96b2775  2023-05-06 19:18:59.176213   \n 1230  5c87da80-15a0-4c59-baac-e8e9661ee920  2023-05-06 19:00:47.931782   \n 2635  c21eb1b9-cf04-4ec5-bad1-77fb1b29b38b  2023-05-06 19:13:37.076908   \n ...                                    ...                         ...   \n 1725  7ec3e511-0223-44ad-b5bf-e5a9a44158ff  2023-05-06 19:49:57.489499   \n 2302  a943c6e9-686b-4879-8118-b3c3affac2d8  2023-05-06 19:50:26.949196   \n 2771  ccc50a59-3e99-4dc5-9e28-a3fdc32cc832  2023-05-06 19:50:06.921640   \n 2769  ccb53832-8d07-4e16-8225-83b9de4767c4  2023-05-06 19:50:07.452203   \n 2054  97926fa0-7343-4677-8309-900947f76d6b  2023-05-06 19:49:49.198008   \n \n       last_updated_block                                     address  \\\n 0               17203475  0x7BeA39867e4169DBe237d55C8242a8f2fcDcc387   \n 1219            17203475  0x75099758a9D1f43198043825c8Fbcf8A12Be7a74   \n 1231            17203475  0x1c774B48Cd31dcF9FcB4bBb8FF52A8c4B4094C3d   \n 1230            17203475  0x19c10E1F20df3a8c2AC93a62d7FBA719fa777026   \n 2635            17203475  0xdb6897039084A2f8fb2b719716bA7A734f84aa66   \n ...                  ...                                         ...   \n 1725            17203475  0x931D1bF09f81B426fBe4CFDFab0b825b308c8db1   \n 2302            17203475  0xB521525b2E6Ad8Ef4c03E747B4541F366E5b8035   \n 2771            17203475  0x0A3DF697e872aB920f305dB00450c0A372E6C970   \n 2769            17203475  0x3870Ce6642959E3D844837Fd472E717736E06AAe   \n 2054            17203475  0x5bA42FaCDBc4aEAe6bEFcc567fd62e9242Fc69Ad   \n \n      exchange_name  exchange_id        fee  fee_float              pair_name  \\\n 0       uniswap_v3            4  10000.000      0.010    USDC-eB48/WETH-6Cc2   \n 1219    uniswap_v3            4  10000.000      0.010    sifu-C313/USDT-1ec7   \n 1231    uniswap_v3            4  10000.000      0.010     NYM-90e1/WETH-6Cc2   \n 1230    uniswap_v3            4  10000.000      0.010    DINO-c68F/WETH-6Cc2   \n 2635    uniswap_v3            4  10000.000      0.010    MEGA-B10E/WETH-6Cc2   \n ...            ...          ...        ...        ...                    ...   \n 1725     bancor_v2            0      0.003      0.003      BNT-FF1C/DIP-cD83   \n 2302     bancor_v2            0      0.003      0.003  BNT-FF1C/SHEESHA-E768   \n 2771     bancor_v2            0      0.003      0.003    BNT-FF1C/INDEX-4cab   \n 2769     bancor_v2            0      0.003      0.003     BNT-FF1C/EDEN-1559   \n 2054     bancor_v2            0      0.003      0.003     AAVE-DaE9/BNT-FF1C   \n \n                                     tkn0_address  ...     liquidity z_0 y_0  \\\n 0     0xA0b86991c6218b36c1d19D4a2e9Eb0cE3606eB48  ...  9.531908e+16 NaN NaN   \n 1219  0x29127fE04ffa4c32AcAC0fFe17280ABD74eAC313  ...  1.316793e+18 NaN NaN   \n 1231  0x525A8F6F3Ba4752868cde25164382BfbaE3990e1  ...  1.037216e+15 NaN NaN   \n 1230  0x49642110B712C1FD7261Bc074105E9E44676c68F  ...  2.504773e+22 NaN NaN   \n 2635  0x1892F6ff5FBE11c31158F8c6f6F6e33106c5B10E  ...  1.657896e+21 NaN NaN   \n ...                                          ...  ...           ...  ..  ..   \n 1725  0x1F573D6Fb3F13d689FF844B4cE37794d79a7FF1C  ...           NaN NaN NaN   \n 2302  0x1F573D6Fb3F13d689FF844B4cE37794d79a7FF1C  ...           NaN NaN NaN   \n 2771  0x1F573D6Fb3F13d689FF844B4cE37794d79a7FF1C  ...           NaN NaN NaN   \n 2769  0x1F573D6Fb3F13d689FF844B4cE37794d79a7FF1C  ...           NaN NaN NaN   \n 2054  0x7Fc66500c84A76Ad7e9c93437bFc5Ac33E2DDaE9  ...           NaN NaN NaN   \n \n      A_0 B_0  z_1  y_1  A_1  B_1                                  descr  \n 0    NaN NaN  NaN  NaN  NaN  NaN   uniswap_v3 USDC-eB48/WETH-6Cc2 10000  \n 1219 NaN NaN  NaN  NaN  NaN  NaN   uniswap_v3 sifu-C313/USDT-1ec7 10000  \n 1231 NaN NaN  NaN  NaN  NaN  NaN    uniswap_v3 NYM-90e1/WETH-6Cc2 10000  \n 1230 NaN NaN  NaN  NaN  NaN  NaN   uniswap_v3 DINO-c68F/WETH-6Cc2 10000  \n 2635 NaN NaN  NaN  NaN  NaN  NaN   uniswap_v3 MEGA-B10E/WETH-6Cc2 10000  \n ...   ..  ..  ...  ...  ...  ...                                    ...  \n 1725 NaN NaN  NaN  NaN  NaN  NaN      bancor_v2 BNT-FF1C/DIP-cD83 0.003  \n 2302 NaN NaN  NaN  NaN  NaN  NaN  bancor_v2 BNT-FF1C/SHEESHA-E768 0.003  \n 2771 NaN NaN  NaN  NaN  NaN  NaN    bancor_v2 BNT-FF1C/INDEX-4cab 0.003  \n 2769 NaN NaN  NaN  NaN  NaN  NaN     bancor_v2 BNT-FF1C/EDEN-1559 0.003  \n 2054 NaN NaN  NaN  NaN  NaN  NaN     bancor_v2 AAVE-DaE9/BNT-FF1C 0.003  \n \n [3550 rows x 32 columns]), tknin_dec_override=None, tknout_dec_override=None, tknin_addr_override=None, tknout_addr_override=None, exchange_override=None, _amtin_wei=5806451613333014063, _amtout_wei=17962203600),\n TradeInstruction(ConfigObj=Config(network=_ConfigNetworkTenderly(), db=_ConfigDBPostgres(), logger=_ConfigLoggerDefault(), provider=_ConfigProviderTenderly()), cid='1701411834604692317316873037158841057353', tknin='WETH-6Cc2', amtin=Decimal('0.00423469579317724853164474556058772861119579584237702326111357152784910232962991'), tknout='USDC-eB48', amtout=Decimal('7.834640'), pair_sorting='', raw_txs='[]', custom_data='', db=DatabaseManager(ConfigObj=Config(network=_ConfigNetworkTenderly(), db=_ConfigDBPostgres(), logger=_ConfigLoggerDefault(), provider=_ConfigProviderTenderly()), contracts={}, filters=[], data=                                       cid                last_updated  \\\n 0     00125d26-4f9d-4936-9a46-7e7708cee9b5  2023-05-06 19:04:10.202420   \n 1219  5bbd01d2-ba90-49e8-8235-0f5183a44204  2023-05-06 19:11:11.844129   \n 1231  5c976f61-5847-4219-a2ee-0b1eb96b2775  2023-05-06 19:18:59.176213   \n 1230  5c87da80-15a0-4c59-baac-e8e9661ee920  2023-05-06 19:00:47.931782   \n 2635  c21eb1b9-cf04-4ec5-bad1-77fb1b29b38b  2023-05-06 19:13:37.076908   \n ...                                    ...                         ...   \n 1725  7ec3e511-0223-44ad-b5bf-e5a9a44158ff  2023-05-06 19:49:57.489499   \n 2302  a943c6e9-686b-4879-8118-b3c3affac2d8  2023-05-06 19:50:26.949196   \n 2771  ccc50a59-3e99-4dc5-9e28-a3fdc32cc832  2023-05-06 19:50:06.921640   \n 2769  ccb53832-8d07-4e16-8225-83b9de4767c4  2023-05-06 19:50:07.452203   \n 2054  97926fa0-7343-4677-8309-900947f76d6b  2023-05-06 19:49:49.198008   \n \n       last_updated_block                                     address  \\\n 0               17203475  0x7BeA39867e4169DBe237d55C8242a8f2fcDcc387   \n 1219            17203475  0x75099758a9D1f43198043825c8Fbcf8A12Be7a74   \n 1231            17203475  0x1c774B48Cd31dcF9FcB4bBb8FF52A8c4B4094C3d   \n 1230            17203475  0x19c10E1F20df3a8c2AC93a62d7FBA719fa777026   \n 2635            17203475  0xdb6897039084A2f8fb2b719716bA7A734f84aa66   \n ...                  ...                                         ...   \n 1725            17203475  0x931D1bF09f81B426fBe4CFDFab0b825b308c8db1   \n 2302            17203475  0xB521525b2E6Ad8Ef4c03E747B4541F366E5b8035   \n 2771            17203475  0x0A3DF697e872aB920f305dB00450c0A372E6C970   \n 2769            17203475  0x3870Ce6642959E3D844837Fd472E717736E06AAe   \n 2054            17203475  0x5bA42FaCDBc4aEAe6bEFcc567fd62e9242Fc69Ad   \n \n      exchange_name  exchange_id        fee  fee_float              pair_name  \\\n 0       uniswap_v3            4  10000.000      0.010    USDC-eB48/WETH-6Cc2   \n 1219    uniswap_v3            4  10000.000      0.010    sifu-C313/USDT-1ec7   \n 1231    uniswap_v3            4  10000.000      0.010     NYM-90e1/WETH-6Cc2   \n 1230    uniswap_v3            4  10000.000      0.010    DINO-c68F/WETH-6Cc2   \n 2635    uniswap_v3            4  10000.000      0.010    MEGA-B10E/WETH-6Cc2   \n ...            ...          ...        ...        ...                    ...   \n 1725     bancor_v2            0      0.003      0.003      BNT-FF1C/DIP-cD83   \n 2302     bancor_v2            0      0.003      0.003  BNT-FF1C/SHEESHA-E768   \n 2771     bancor_v2            0      0.003      0.003    BNT-FF1C/INDEX-4cab   \n 2769     bancor_v2            0      0.003      0.003     BNT-FF1C/EDEN-1559   \n 2054     bancor_v2            0      0.003      0.003     AAVE-DaE9/BNT-FF1C   \n \n                                     tkn0_address  ...     liquidity z_0 y_0  \\\n 0     0xA0b86991c6218b36c1d19D4a2e9Eb0cE3606eB48  ...  9.531908e+16 NaN NaN   \n 1219  0x29127fE04ffa4c32AcAC0fFe17280ABD74eAC313  ...  1.316793e+18 NaN NaN   \n 1231  0x525A8F6F3Ba4752868cde25164382BfbaE3990e1  ...  1.037216e+15 NaN NaN   \n 1230  0x49642110B712C1FD7261Bc074105E9E44676c68F  ...  2.504773e+22 NaN NaN   \n 2635  0x1892F6ff5FBE11c31158F8c6f6F6e33106c5B10E  ...  1.657896e+21 NaN NaN   \n ...                                          ...  ...           ...  ..  ..   \n 1725  0x1F573D6Fb3F13d689FF844B4cE37794d79a7FF1C  ...           NaN NaN NaN   \n 2302  0x1F573D6Fb3F13d689FF844B4cE37794d79a7FF1C  ...           NaN NaN NaN   \n 2771  0x1F573D6Fb3F13d689FF844B4cE37794d79a7FF1C  ...           NaN NaN NaN   \n 2769  0x1F573D6Fb3F13d689FF844B4cE37794d79a7FF1C  ...           NaN NaN NaN   \n 2054  0x7Fc66500c84A76Ad7e9c93437bFc5Ac33E2DDaE9  ...           NaN NaN NaN   \n \n      A_0 B_0  z_1  y_1  A_1  B_1                                  descr  \n 0    NaN NaN  NaN  NaN  NaN  NaN   uniswap_v3 USDC-eB48/WETH-6Cc2 10000  \n 1219 NaN NaN  NaN  NaN  NaN  NaN   uniswap_v3 sifu-C313/USDT-1ec7 10000  \n 1231 NaN NaN  NaN  NaN  NaN  NaN    uniswap_v3 NYM-90e1/WETH-6Cc2 10000  \n 1230 NaN NaN  NaN  NaN  NaN  NaN   uniswap_v3 DINO-c68F/WETH-6Cc2 10000  \n 2635 NaN NaN  NaN  NaN  NaN  NaN   uniswap_v3 MEGA-B10E/WETH-6Cc2 10000  \n ...   ..  ..  ...  ...  ...  ...                                    ...  \n 1725 NaN NaN  NaN  NaN  NaN  NaN      bancor_v2 BNT-FF1C/DIP-cD83 0.003  \n 2302 NaN NaN  NaN  NaN  NaN  NaN  bancor_v2 BNT-FF1C/SHEESHA-E768 0.003  \n 2771 NaN NaN  NaN  NaN  NaN  NaN    bancor_v2 BNT-FF1C/INDEX-4cab 0.003  \n 2769 NaN NaN  NaN  NaN  NaN  NaN     bancor_v2 BNT-FF1C/EDEN-1559 0.003  \n 2054 NaN NaN  NaN  NaN  NaN  NaN     bancor_v2 AAVE-DaE9/BNT-FF1C 0.003  \n \n [3550 rows x 32 columns]), tknin_dec_override=None, tknout_dec_override=None, tknin_addr_override=None, tknout_addr_override=None, exchange_override=None, _amtin_wei=4234695793177248, _amtout_wei=7834640),\n TradeInstruction(ConfigObj=Config(network=_ConfigNetworkTenderly(), db=_ConfigDBPostgres(), logger=_ConfigLoggerDefault(), provider=_ConfigProviderTenderly()), cid='1701411834604692317316873037158841057339', tknin='WETH-6Cc2', amtin=Decimal('0.000571661950545030005161290890786136890131006434657593773685540132381647880160481'), tknout='USDC-eB48', amtout=Decimal('0.997900'), pair_sorting='', raw_txs='[]', custom_data='', db=DatabaseManager(ConfigObj=Config(network=_ConfigNetworkTenderly(), db=_ConfigDBPostgres(), logger=_ConfigLoggerDefault(), provider=_ConfigProviderTenderly()), contracts={}, filters=[], data=                                       cid                last_updated  \\\n 0     00125d26-4f9d-4936-9a46-7e7708cee9b5  2023-05-06 19:04:10.202420   \n 1219  5bbd01d2-ba90-49e8-8235-0f5183a44204  2023-05-06 19:11:11.844129   \n 1231  5c976f61-5847-4219-a2ee-0b1eb96b2775  2023-05-06 19:18:59.176213   \n 1230  5c87da80-15a0-4c59-baac-e8e9661ee920  2023-05-06 19:00:47.931782   \n 2635  c21eb1b9-cf04-4ec5-bad1-77fb1b29b38b  2023-05-06 19:13:37.076908   \n ...                                    ...                         ...   \n 1725  7ec3e511-0223-44ad-b5bf-e5a9a44158ff  2023-05-06 19:49:57.489499   \n 2302  a943c6e9-686b-4879-8118-b3c3affac2d8  2023-05-06 19:50:26.949196   \n 2771  ccc50a59-3e99-4dc5-9e28-a3fdc32cc832  2023-05-06 19:50:06.921640   \n 2769  ccb53832-8d07-4e16-8225-83b9de4767c4  2023-05-06 19:50:07.452203   \n 2054  97926fa0-7343-4677-8309-900947f76d6b  2023-05-06 19:49:49.198008   \n \n       last_updated_block                                     address  \\\n 0               17203475  0x7BeA39867e4169DBe237d55C8242a8f2fcDcc387   \n 1219            17203475  0x75099758a9D1f43198043825c8Fbcf8A12Be7a74   \n 1231            17203475  0x1c774B48Cd31dcF9FcB4bBb8FF52A8c4B4094C3d   \n 1230            17203475  0x19c10E1F20df3a8c2AC93a62d7FBA719fa777026   \n 2635            17203475  0xdb6897039084A2f8fb2b719716bA7A734f84aa66   \n ...                  ...                                         ...   \n 1725            17203475  0x931D1bF09f81B426fBe4CFDFab0b825b308c8db1   \n 2302            17203475  0xB521525b2E6Ad8Ef4c03E747B4541F366E5b8035   \n 2771            17203475  0x0A3DF697e872aB920f305dB00450c0A372E6C970   \n 2769            17203475  0x3870Ce6642959E3D844837Fd472E717736E06AAe   \n 2054            17203475  0x5bA42FaCDBc4aEAe6bEFcc567fd62e9242Fc69Ad   \n \n      exchange_name  exchange_id        fee  fee_float              pair_name  \\\n 0       uniswap_v3            4  10000.000      0.010    USDC-eB48/WETH-6Cc2   \n 1219    uniswap_v3            4  10000.000      0.010    sifu-C313/USDT-1ec7   \n 1231    uniswap_v3            4  10000.000      0.010     NYM-90e1/WETH-6Cc2   \n 1230    uniswap_v3            4  10000.000      0.010    DINO-c68F/WETH-6Cc2   \n 2635    uniswap_v3            4  10000.000      0.010    MEGA-B10E/WETH-6Cc2   \n ...            ...          ...        ...        ...                    ...   \n 1725     bancor_v2            0      0.003      0.003      BNT-FF1C/DIP-cD83   \n 2302     bancor_v2            0      0.003      0.003  BNT-FF1C/SHEESHA-E768   \n 2771     bancor_v2            0      0.003      0.003    BNT-FF1C/INDEX-4cab   \n 2769     bancor_v2            0      0.003      0.003     BNT-FF1C/EDEN-1559   \n 2054     bancor_v2            0      0.003      0.003     AAVE-DaE9/BNT-FF1C   \n \n                                     tkn0_address  ...     liquidity z_0 y_0  \\\n 0     0xA0b86991c6218b36c1d19D4a2e9Eb0cE3606eB48  ...  9.531908e+16 NaN NaN   \n 1219  0x29127fE04ffa4c32AcAC0fFe17280ABD74eAC313  ...  1.316793e+18 NaN NaN   \n 1231  0x525A8F6F3Ba4752868cde25164382BfbaE3990e1  ...  1.037216e+15 NaN NaN   \n 1230  0x49642110B712C1FD7261Bc074105E9E44676c68F  ...  2.504773e+22 NaN NaN   \n 2635  0x1892F6ff5FBE11c31158F8c6f6F6e33106c5B10E  ...  1.657896e+21 NaN NaN   \n ...                                          ...  ...           ...  ..  ..   \n 1725  0x1F573D6Fb3F13d689FF844B4cE37794d79a7FF1C  ...           NaN NaN NaN   \n 2302  0x1F573D6Fb3F13d689FF844B4cE37794d79a7FF1C  ...           NaN NaN NaN   \n 2771  0x1F573D6Fb3F13d689FF844B4cE37794d79a7FF1C  ...           NaN NaN NaN   \n 2769  0x1F573D6Fb3F13d689FF844B4cE37794d79a7FF1C  ...           NaN NaN NaN   \n 2054  0x7Fc66500c84A76Ad7e9c93437bFc5Ac33E2DDaE9  ...           NaN NaN NaN   \n \n      A_0 B_0  z_1  y_1  A_1  B_1                                  descr  \n 0    NaN NaN  NaN  NaN  NaN  NaN   uniswap_v3 USDC-eB48/WETH-6Cc2 10000  \n 1219 NaN NaN  NaN  NaN  NaN  NaN   uniswap_v3 sifu-C313/USDT-1ec7 10000  \n 1231 NaN NaN  NaN  NaN  NaN  NaN    uniswap_v3 NYM-90e1/WETH-6Cc2 10000  \n 1230 NaN NaN  NaN  NaN  NaN  NaN   uniswap_v3 DINO-c68F/WETH-6Cc2 10000  \n 2635 NaN NaN  NaN  NaN  NaN  NaN   uniswap_v3 MEGA-B10E/WETH-6Cc2 10000  \n ...   ..  ..  ...  ...  ...  ...                                    ...  \n 1725 NaN NaN  NaN  NaN  NaN  NaN      bancor_v2 BNT-FF1C/DIP-cD83 0.003  \n 2302 NaN NaN  NaN  NaN  NaN  NaN  bancor_v2 BNT-FF1C/SHEESHA-E768 0.003  \n 2771 NaN NaN  NaN  NaN  NaN  NaN    bancor_v2 BNT-FF1C/INDEX-4cab 0.003  \n 2769 NaN NaN  NaN  NaN  NaN  NaN     bancor_v2 BNT-FF1C/EDEN-1559 0.003  \n 2054 NaN NaN  NaN  NaN  NaN  NaN     bancor_v2 AAVE-DaE9/BNT-FF1C 0.003  \n \n [3550 rows x 32 columns]), tknin_dec_override=None, tknout_dec_override=None, tknin_addr_override=None, tknout_addr_override=None, exchange_override=None, _amtin_wei=571661950545030, _amtout_wei=997900),\n TradeInstruction(ConfigObj=Config(network=_ConfigNetworkTenderly(), db=_ConfigDBPostgres(), logger=_ConfigLoggerDefault(), provider=_ConfigProviderTenderly()), cid='1701411834604692317316873037158841057296', tknin='WETH-6Cc2', amtin=Decimal('0.00103344559586651780867867163090301465077516529148492578311642547431950620116556'), tknout='USDC-eB48', amtout=Decimal('1.990361'), pair_sorting='', raw_txs='[]', custom_data='', db=DatabaseManager(ConfigObj=Config(network=_ConfigNetworkTenderly(), db=_ConfigDBPostgres(), logger=_ConfigLoggerDefault(), provider=_ConfigProviderTenderly()), contracts={}, filters=[], data=                                       cid                last_updated  \\\n 0     00125d26-4f9d-4936-9a46-7e7708cee9b5  2023-05-06 19:04:10.202420   \n 1219  5bbd01d2-ba90-49e8-8235-0f5183a44204  2023-05-06 19:11:11.844129   \n 1231  5c976f61-5847-4219-a2ee-0b1eb96b2775  2023-05-06 19:18:59.176213   \n 1230  5c87da80-15a0-4c59-baac-e8e9661ee920  2023-05-06 19:00:47.931782   \n 2635  c21eb1b9-cf04-4ec5-bad1-77fb1b29b38b  2023-05-06 19:13:37.076908   \n ...                                    ...                         ...   \n 1725  7ec3e511-0223-44ad-b5bf-e5a9a44158ff  2023-05-06 19:49:57.489499   \n 2302  a943c6e9-686b-4879-8118-b3c3affac2d8  2023-05-06 19:50:26.949196   \n 2771  ccc50a59-3e99-4dc5-9e28-a3fdc32cc832  2023-05-06 19:50:06.921640   \n 2769  ccb53832-8d07-4e16-8225-83b9de4767c4  2023-05-06 19:50:07.452203   \n 2054  97926fa0-7343-4677-8309-900947f76d6b  2023-05-06 19:49:49.198008   \n \n       last_updated_block                                     address  \\\n 0               17203475  0x7BeA39867e4169DBe237d55C8242a8f2fcDcc387   \n 1219            17203475  0x75099758a9D1f43198043825c8Fbcf8A12Be7a74   \n 1231            17203475  0x1c774B48Cd31dcF9FcB4bBb8FF52A8c4B4094C3d   \n 1230            17203475  0x19c10E1F20df3a8c2AC93a62d7FBA719fa777026   \n 2635            17203475  0xdb6897039084A2f8fb2b719716bA7A734f84aa66   \n ...                  ...                                         ...   \n 1725            17203475  0x931D1bF09f81B426fBe4CFDFab0b825b308c8db1   \n 2302            17203475  0xB521525b2E6Ad8Ef4c03E747B4541F366E5b8035   \n 2771            17203475  0x0A3DF697e872aB920f305dB00450c0A372E6C970   \n 2769            17203475  0x3870Ce6642959E3D844837Fd472E717736E06AAe   \n 2054            17203475  0x5bA42FaCDBc4aEAe6bEFcc567fd62e9242Fc69Ad   \n \n      exchange_name  exchange_id        fee  fee_float              pair_name  \\\n 0       uniswap_v3            4  10000.000      0.010    USDC-eB48/WETH-6Cc2   \n 1219    uniswap_v3            4  10000.000      0.010    sifu-C313/USDT-1ec7   \n 1231    uniswap_v3            4  10000.000      0.010     NYM-90e1/WETH-6Cc2   \n 1230    uniswap_v3            4  10000.000      0.010    DINO-c68F/WETH-6Cc2   \n 2635    uniswap_v3            4  10000.000      0.010    MEGA-B10E/WETH-6Cc2   \n ...            ...          ...        ...        ...                    ...   \n 1725     bancor_v2            0      0.003      0.003      BNT-FF1C/DIP-cD83   \n 2302     bancor_v2            0      0.003      0.003  BNT-FF1C/SHEESHA-E768   \n 2771     bancor_v2            0      0.003      0.003    BNT-FF1C/INDEX-4cab   \n 2769     bancor_v2            0      0.003      0.003     BNT-FF1C/EDEN-1559   \n 2054     bancor_v2            0      0.003      0.003     AAVE-DaE9/BNT-FF1C   \n \n                                     tkn0_address  ...     liquidity z_0 y_0  \\\n 0     0xA0b86991c6218b36c1d19D4a2e9Eb0cE3606eB48  ...  9.531908e+16 NaN NaN   \n 1219  0x29127fE04ffa4c32AcAC0fFe17280ABD74eAC313  ...  1.316793e+18 NaN NaN   \n 1231  0x525A8F6F3Ba4752868cde25164382BfbaE3990e1  ...  1.037216e+15 NaN NaN   \n 1230  0x49642110B712C1FD7261Bc074105E9E44676c68F  ...  2.504773e+22 NaN NaN   \n 2635  0x1892F6ff5FBE11c31158F8c6f6F6e33106c5B10E  ...  1.657896e+21 NaN NaN   \n ...                                          ...  ...           ...  ..  ..   \n 1725  0x1F573D6Fb3F13d689FF844B4cE37794d79a7FF1C  ...           NaN NaN NaN   \n 2302  0x1F573D6Fb3F13d689FF844B4cE37794d79a7FF1C  ...           NaN NaN NaN   \n 2771  0x1F573D6Fb3F13d689FF844B4cE37794d79a7FF1C  ...           NaN NaN NaN   \n 2769  0x1F573D6Fb3F13d689FF844B4cE37794d79a7FF1C  ...           NaN NaN NaN   \n 2054  0x7Fc66500c84A76Ad7e9c93437bFc5Ac33E2DDaE9  ...           NaN NaN NaN   \n \n      A_0 B_0  z_1  y_1  A_1  B_1                                  descr  \n 0    NaN NaN  NaN  NaN  NaN  NaN   uniswap_v3 USDC-eB48/WETH-6Cc2 10000  \n 1219 NaN NaN  NaN  NaN  NaN  NaN   uniswap_v3 sifu-C313/USDT-1ec7 10000  \n 1231 NaN NaN  NaN  NaN  NaN  NaN    uniswap_v3 NYM-90e1/WETH-6Cc2 10000  \n 1230 NaN NaN  NaN  NaN  NaN  NaN   uniswap_v3 DINO-c68F/WETH-6Cc2 10000  \n 2635 NaN NaN  NaN  NaN  NaN  NaN   uniswap_v3 MEGA-B10E/WETH-6Cc2 10000  \n ...   ..  ..  ...  ...  ...  ...                                    ...  \n 1725 NaN NaN  NaN  NaN  NaN  NaN      bancor_v2 BNT-FF1C/DIP-cD83 0.003  \n 2302 NaN NaN  NaN  NaN  NaN  NaN  bancor_v2 BNT-FF1C/SHEESHA-E768 0.003  \n 2771 NaN NaN  NaN  NaN  NaN  NaN    bancor_v2 BNT-FF1C/INDEX-4cab 0.003  \n 2769 NaN NaN  NaN  NaN  NaN  NaN     bancor_v2 BNT-FF1C/EDEN-1559 0.003  \n 2054 NaN NaN  NaN  NaN  NaN  NaN     bancor_v2 AAVE-DaE9/BNT-FF1C 0.003  \n \n [3550 rows x 32 columns]), tknin_dec_override=None, tknout_dec_override=None, tknin_addr_override=None, tknout_addr_override=None, exchange_override=None, _amtin_wei=1033445595866517, _amtout_wei=1990361),\n TradeInstruction(ConfigObj=Config(network=_ConfigNetworkTenderly(), db=_ConfigDBPostgres(), logger=_ConfigLoggerDefault(), provider=_ConfigProviderTenderly()), cid='1701411834604692317316873037158841057360', tknin='WETH-6Cc2', amtin=Decimal('0.00494802766006022238736847972950640936653828767087683248362518786029869906316318'), tknout='USDC-eB48', amtout=Decimal('11.603448'), pair_sorting='', raw_txs='[]', custom_data='', db=DatabaseManager(ConfigObj=Config(network=_ConfigNetworkTenderly(), db=_ConfigDBPostgres(), logger=_ConfigLoggerDefault(), provider=_ConfigProviderTenderly()), contracts={}, filters=[], data=                                       cid                last_updated  \\\n 0     00125d26-4f9d-4936-9a46-7e7708cee9b5  2023-05-06 19:04:10.202420   \n 1219  5bbd01d2-ba90-49e8-8235-0f5183a44204  2023-05-06 19:11:11.844129   \n 1231  5c976f61-5847-4219-a2ee-0b1eb96b2775  2023-05-06 19:18:59.176213   \n 1230  5c87da80-15a0-4c59-baac-e8e9661ee920  2023-05-06 19:00:47.931782   \n 2635  c21eb1b9-cf04-4ec5-bad1-77fb1b29b38b  2023-05-06 19:13:37.076908   \n ...                                    ...                         ...   \n 1725  7ec3e511-0223-44ad-b5bf-e5a9a44158ff  2023-05-06 19:49:57.489499   \n 2302  a943c6e9-686b-4879-8118-b3c3affac2d8  2023-05-06 19:50:26.949196   \n 2771  ccc50a59-3e99-4dc5-9e28-a3fdc32cc832  2023-05-06 19:50:06.921640   \n 2769  ccb53832-8d07-4e16-8225-83b9de4767c4  2023-05-06 19:50:07.452203   \n 2054  97926fa0-7343-4677-8309-900947f76d6b  2023-05-06 19:49:49.198008   \n \n       last_updated_block                                     address  \\\n 0               17203475  0x7BeA39867e4169DBe237d55C8242a8f2fcDcc387   \n 1219            17203475  0x75099758a9D1f43198043825c8Fbcf8A12Be7a74   \n 1231            17203475  0x1c774B48Cd31dcF9FcB4bBb8FF52A8c4B4094C3d   \n 1230            17203475  0x19c10E1F20df3a8c2AC93a62d7FBA719fa777026   \n 2635            17203475  0xdb6897039084A2f8fb2b719716bA7A734f84aa66   \n ...                  ...                                         ...   \n 1725            17203475  0x931D1bF09f81B426fBe4CFDFab0b825b308c8db1   \n 2302            17203475  0xB521525b2E6Ad8Ef4c03E747B4541F366E5b8035   \n 2771            17203475  0x0A3DF697e872aB920f305dB00450c0A372E6C970   \n 2769            17203475  0x3870Ce6642959E3D844837Fd472E717736E06AAe   \n 2054            17203475  0x5bA42FaCDBc4aEAe6bEFcc567fd62e9242Fc69Ad   \n \n      exchange_name  exchange_id        fee  fee_float              pair_name  \\\n 0       uniswap_v3            4  10000.000      0.010    USDC-eB48/WETH-6Cc2   \n 1219    uniswap_v3            4  10000.000      0.010    sifu-C313/USDT-1ec7   \n 1231    uniswap_v3            4  10000.000      0.010     NYM-90e1/WETH-6Cc2   \n 1230    uniswap_v3            4  10000.000      0.010    DINO-c68F/WETH-6Cc2   \n 2635    uniswap_v3            4  10000.000      0.010    MEGA-B10E/WETH-6Cc2   \n ...            ...          ...        ...        ...                    ...   \n 1725     bancor_v2            0      0.003      0.003      BNT-FF1C/DIP-cD83   \n 2302     bancor_v2            0      0.003      0.003  BNT-FF1C/SHEESHA-E768   \n 2771     bancor_v2            0      0.003      0.003    BNT-FF1C/INDEX-4cab   \n 2769     bancor_v2            0      0.003      0.003     BNT-FF1C/EDEN-1559   \n 2054     bancor_v2            0      0.003      0.003     AAVE-DaE9/BNT-FF1C   \n \n                                     tkn0_address  ...     liquidity z_0 y_0  \\\n 0     0xA0b86991c6218b36c1d19D4a2e9Eb0cE3606eB48  ...  9.531908e+16 NaN NaN   \n 1219  0x29127fE04ffa4c32AcAC0fFe17280ABD74eAC313  ...  1.316793e+18 NaN NaN   \n 1231  0x525A8F6F3Ba4752868cde25164382BfbaE3990e1  ...  1.037216e+15 NaN NaN   \n 1230  0x49642110B712C1FD7261Bc074105E9E44676c68F  ...  2.504773e+22 NaN NaN   \n 2635  0x1892F6ff5FBE11c31158F8c6f6F6e33106c5B10E  ...  1.657896e+21 NaN NaN   \n ...                                          ...  ...           ...  ..  ..   \n 1725  0x1F573D6Fb3F13d689FF844B4cE37794d79a7FF1C  ...           NaN NaN NaN   \n 2302  0x1F573D6Fb3F13d689FF844B4cE37794d79a7FF1C  ...           NaN NaN NaN   \n 2771  0x1F573D6Fb3F13d689FF844B4cE37794d79a7FF1C  ...           NaN NaN NaN   \n 2769  0x1F573D6Fb3F13d689FF844B4cE37794d79a7FF1C  ...           NaN NaN NaN   \n 2054  0x7Fc66500c84A76Ad7e9c93437bFc5Ac33E2DDaE9  ...           NaN NaN NaN   \n \n      A_0 B_0  z_1  y_1  A_1  B_1                                  descr  \n 0    NaN NaN  NaN  NaN  NaN  NaN   uniswap_v3 USDC-eB48/WETH-6Cc2 10000  \n 1219 NaN NaN  NaN  NaN  NaN  NaN   uniswap_v3 sifu-C313/USDT-1ec7 10000  \n 1231 NaN NaN  NaN  NaN  NaN  NaN    uniswap_v3 NYM-90e1/WETH-6Cc2 10000  \n 1230 NaN NaN  NaN  NaN  NaN  NaN   uniswap_v3 DINO-c68F/WETH-6Cc2 10000  \n 2635 NaN NaN  NaN  NaN  NaN  NaN   uniswap_v3 MEGA-B10E/WETH-6Cc2 10000  \n ...   ..  ..  ...  ...  ...  ...                                    ...  \n 1725 NaN NaN  NaN  NaN  NaN  NaN      bancor_v2 BNT-FF1C/DIP-cD83 0.003  \n 2302 NaN NaN  NaN  NaN  NaN  NaN  bancor_v2 BNT-FF1C/SHEESHA-E768 0.003  \n 2771 NaN NaN  NaN  NaN  NaN  NaN    bancor_v2 BNT-FF1C/INDEX-4cab 0.003  \n 2769 NaN NaN  NaN  NaN  NaN  NaN     bancor_v2 BNT-FF1C/EDEN-1559 0.003  \n 2054 NaN NaN  NaN  NaN  NaN  NaN     bancor_v2 AAVE-DaE9/BNT-FF1C 0.003  \n \n [3550 rows x 32 columns]), tknin_dec_override=None, tknout_dec_override=None, tknin_addr_override=None, tknout_addr_override=None, exchange_override=None, _amtin_wei=4948027660060222, _amtout_wei=11603448),\n TradeInstruction(ConfigObj=Config(network=_ConfigNetworkTenderly(), db=_ConfigDBPostgres(), logger=_ConfigLoggerDefault(), provider=_ConfigProviderTenderly()), cid='50ac5ace09c1483987af46c60c551073', tknin='USDC-eB48', amtin=Decimal('11.603448'), tknout='WETH-6Cc2', amtout=Decimal('0.006612491430594274'), pair_sorting='', raw_txs='[]', custom_data='', db=DatabaseManager(ConfigObj=Config(network=_ConfigNetworkTenderly(), db=_ConfigDBPostgres(), logger=_ConfigLoggerDefault(), provider=_ConfigProviderTenderly()), contracts={}, filters=[], data=                                       cid                last_updated  \\\n 0     00125d26-4f9d-4936-9a46-7e7708cee9b5  2023-05-06 19:04:10.202420   \n 1219  5bbd01d2-ba90-49e8-8235-0f5183a44204  2023-05-06 19:11:11.844129   \n 1231  5c976f61-5847-4219-a2ee-0b1eb96b2775  2023-05-06 19:18:59.176213   \n 1230  5c87da80-15a0-4c59-baac-e8e9661ee920  2023-05-06 19:00:47.931782   \n 2635  c21eb1b9-cf04-4ec5-bad1-77fb1b29b38b  2023-05-06 19:13:37.076908   \n ...                                    ...                         ...   \n 1725  7ec3e511-0223-44ad-b5bf-e5a9a44158ff  2023-05-06 19:49:57.489499   \n 2302  a943c6e9-686b-4879-8118-b3c3affac2d8  2023-05-06 19:50:26.949196   \n 2771  ccc50a59-3e99-4dc5-9e28-a3fdc32cc832  2023-05-06 19:50:06.921640   \n 2769  ccb53832-8d07-4e16-8225-83b9de4767c4  2023-05-06 19:50:07.452203   \n 2054  97926fa0-7343-4677-8309-900947f76d6b  2023-05-06 19:49:49.198008   \n \n       last_updated_block                                     address  \\\n 0               17203475  0x7BeA39867e4169DBe237d55C8242a8f2fcDcc387   \n 1219            17203475  0x75099758a9D1f43198043825c8Fbcf8A12Be7a74   \n 1231            17203475  0x1c774B48Cd31dcF9FcB4bBb8FF52A8c4B4094C3d   \n 1230            17203475  0x19c10E1F20df3a8c2AC93a62d7FBA719fa777026   \n 2635            17203475  0xdb6897039084A2f8fb2b719716bA7A734f84aa66   \n ...                  ...                                         ...   \n 1725            17203475  0x931D1bF09f81B426fBe4CFDFab0b825b308c8db1   \n 2302            17203475  0xB521525b2E6Ad8Ef4c03E747B4541F366E5b8035   \n 2771            17203475  0x0A3DF697e872aB920f305dB00450c0A372E6C970   \n 2769            17203475  0x3870Ce6642959E3D844837Fd472E717736E06AAe   \n 2054            17203475  0x5bA42FaCDBc4aEAe6bEFcc567fd62e9242Fc69Ad   \n \n      exchange_name  exchange_id        fee  fee_float              pair_name  \\\n 0       uniswap_v3            4  10000.000      0.010    USDC-eB48/WETH-6Cc2   \n 1219    uniswap_v3            4  10000.000      0.010    sifu-C313/USDT-1ec7   \n 1231    uniswap_v3            4  10000.000      0.010     NYM-90e1/WETH-6Cc2   \n 1230    uniswap_v3            4  10000.000      0.010    DINO-c68F/WETH-6Cc2   \n 2635    uniswap_v3            4  10000.000      0.010    MEGA-B10E/WETH-6Cc2   \n ...            ...          ...        ...        ...                    ...   \n 1725     bancor_v2            0      0.003      0.003      BNT-FF1C/DIP-cD83   \n 2302     bancor_v2            0      0.003      0.003  BNT-FF1C/SHEESHA-E768   \n 2771     bancor_v2            0      0.003      0.003    BNT-FF1C/INDEX-4cab   \n 2769     bancor_v2            0      0.003      0.003     BNT-FF1C/EDEN-1559   \n 2054     bancor_v2            0      0.003      0.003     AAVE-DaE9/BNT-FF1C   \n \n                                     tkn0_address  ...     liquidity z_0 y_0  \\\n 0     0xA0b86991c6218b36c1d19D4a2e9Eb0cE3606eB48  ...  9.531908e+16 NaN NaN   \n 1219  0x29127fE04ffa4c32AcAC0fFe17280ABD74eAC313  ...  1.316793e+18 NaN NaN   \n 1231  0x525A8F6F3Ba4752868cde25164382BfbaE3990e1  ...  1.037216e+15 NaN NaN   \n 1230  0x49642110B712C1FD7261Bc074105E9E44676c68F  ...  2.504773e+22 NaN NaN   \n 2635  0x1892F6ff5FBE11c31158F8c6f6F6e33106c5B10E  ...  1.657896e+21 NaN NaN   \n ...                                          ...  ...           ...  ..  ..   \n 1725  0x1F573D6Fb3F13d689FF844B4cE37794d79a7FF1C  ...           NaN NaN NaN   \n 2302  0x1F573D6Fb3F13d689FF844B4cE37794d79a7FF1C  ...           NaN NaN NaN   \n 2771  0x1F573D6Fb3F13d689FF844B4cE37794d79a7FF1C  ...           NaN NaN NaN   \n 2769  0x1F573D6Fb3F13d689FF844B4cE37794d79a7FF1C  ...           NaN NaN NaN   \n 2054  0x7Fc66500c84A76Ad7e9c93437bFc5Ac33E2DDaE9  ...           NaN NaN NaN   \n \n      A_0 B_0  z_1  y_1  A_1  B_1                                  descr  \n 0    NaN NaN  NaN  NaN  NaN  NaN   uniswap_v3 USDC-eB48/WETH-6Cc2 10000  \n 1219 NaN NaN  NaN  NaN  NaN  NaN   uniswap_v3 sifu-C313/USDT-1ec7 10000  \n 1231 NaN NaN  NaN  NaN  NaN  NaN    uniswap_v3 NYM-90e1/WETH-6Cc2 10000  \n 1230 NaN NaN  NaN  NaN  NaN  NaN   uniswap_v3 DINO-c68F/WETH-6Cc2 10000  \n 2635 NaN NaN  NaN  NaN  NaN  NaN   uniswap_v3 MEGA-B10E/WETH-6Cc2 10000  \n ...   ..  ..  ...  ...  ...  ...                                    ...  \n 1725 NaN NaN  NaN  NaN  NaN  NaN      bancor_v2 BNT-FF1C/DIP-cD83 0.003  \n 2302 NaN NaN  NaN  NaN  NaN  NaN  bancor_v2 BNT-FF1C/SHEESHA-E768 0.003  \n 2771 NaN NaN  NaN  NaN  NaN  NaN    bancor_v2 BNT-FF1C/INDEX-4cab 0.003  \n 2769 NaN NaN  NaN  NaN  NaN  NaN     bancor_v2 BNT-FF1C/EDEN-1559 0.003  \n 2054 NaN NaN  NaN  NaN  NaN  NaN     bancor_v2 AAVE-DaE9/BNT-FF1C 0.003  \n \n [3550 rows x 32 columns]), tknin_dec_override=None, tknout_dec_override=None, tknin_addr_override=None, tknout_addr_override=None, exchange_override=None, _amtin_wei=11603448, _amtout_wei=6612491430594274)]"
     },
     "execution_count": 22,
     "metadata": {},
     "output_type": "execute_result"
    }
   ],
   "source": [
    "exact = bot._run(flashloan_tokens=flt, CCm=CCm2, result=bot.XS_EXACT)\n",
    "exact"
   ]
  },
  {
   "cell_type": "code",
   "execution_count": null,
   "id": "9cb66ee5",
   "metadata": {},
   "outputs": [],
   "source": [
    "# agg = bot._run(flashloan_tokens=flt, CCm=CCm, result=bot.XS_AGGTI)\n",
    "# agg"
   ]
  },
  {
   "cell_type": "code",
   "execution_count": null,
   "id": "a0cd2ff1",
   "metadata": {},
   "outputs": [],
   "source": [
    "# agg[0].raw_txs"
   ]
  },
  {
   "cell_type": "code",
   "execution_count": null,
   "id": "f7f21e07",
   "metadata": {},
   "outputs": [],
   "source": [
    "# agg[1].raw_txs"
   ]
  },
  {
   "cell_type": "code",
   "execution_count": null,
   "id": "8b0746ac",
   "metadata": {},
   "outputs": [],
   "source": [
    "exact[0].amtin_wei, exact[0].amtout_wei"
   ]
  },
  {
   "cell_type": "code",
   "execution_count": null,
   "id": "fc64082d",
   "metadata": {},
   "outputs": [],
   "source": [
    "exact[1].amtin_wei, exact[1].amtout_wei"
   ]
  },
  {
   "cell_type": "code",
   "execution_count": null,
   "outputs": [],
   "source": [
    "for trade in exact:\n",
    "    print(trade.amtin, trade.amtout)"
   ],
   "metadata": {
    "collapsed": false
   }
  },
  {
   "cell_type": "code",
   "execution_count": null,
   "id": "1905eb9d",
   "metadata": {},
   "outputs": [],
   "source": [
    "route_struct, flashloan_amount, flashloan_token_address = bot._run(flashloan_tokens=flt, CCm=CCm2, result=bot.XS_ROUTE)"
   ]
  },
  {
   "cell_type": "code",
   "execution_count": null,
   "id": "24db122b",
   "metadata": {},
   "outputs": [],
   "source": [
    "route_struct, flashloan_amount, flashloan_token_address"
   ]
  },
  {
   "attachments": {},
   "cell_type": "markdown",
   "id": "628bca30",
   "metadata": {},
   "source": [
    "# Tenderly Tx Submission"
   ]
  },
  {
   "cell_type": "code",
   "execution_count": null,
   "id": "76a8ec45",
   "metadata": {},
   "outputs": [],
   "source": [
    "# C.w3.provider.endpoint_uri"
   ]
  },
  {
   "cell_type": "code",
   "execution_count": null,
   "id": "477ac528",
   "metadata": {},
   "outputs": [],
   "source": [
    "# C.w3.eth.getBlock(C.w3.eth.block_number).timestamp"
   ]
  },
  {
   "cell_type": "code",
   "execution_count": null,
   "id": "c1956941",
   "metadata": {},
   "outputs": [],
   "source": [
    "# C.provider.CARBON_CONTROLLER_CONTRACT.strategy(13951577043758477001998358904702496669788)"
   ]
  },
  {
   "cell_type": "code",
   "execution_count": null,
   "id": "6599f4a9",
   "metadata": {},
   "outputs": [],
   "source": [
    "### This to manually submit\n",
    "bot._validate_and_submit_transaction_tenderly(\n",
    "        ConfigObj = C,\n",
    "        route_struct = route_struct,\n",
    "        src_amount = flashloan_amount,\n",
    "        src_address = flashloan_token_address,\n",
    "            )"
   ]
  },
  {
   "attachments": {},
   "cell_type": "markdown",
   "id": "993e6614",
   "metadata": {},
   "source": [
    "# MAINNNET Preferred Tx Submission Method"
   ]
  },
  {
   "cell_type": "code",
   "execution_count": null,
   "id": "67273141",
   "metadata": {},
   "outputs": [],
   "source": [
    "# from fastlane_bot.helpers import TxHelpers"
   ]
  },
  {
   "cell_type": "code",
   "execution_count": null,
   "id": "75ae6224",
   "metadata": {},
   "outputs": [],
   "source": [
    "# pool = (\n",
    "#     bot.db.get_pool(exchange_name=bot.ConfigObj.BANCOR_V3_NAME, pair_name='BNT-FF1C/ETH-EEeE')\n",
    "# )\n",
    "# bnt_eth = (int(pool.tkn0_balance), int(pool.tkn1_balance))\n",
    "\n",
    "# # Init TxHelpers\n",
    "# tx_helpers = TxHelpers(ConfigObj=bot.ConfigObj)\n",
    "# # Submit tx\n",
    "\n"
   ]
  },
  {
   "cell_type": "code",
   "execution_count": null,
   "id": "17ab9e38",
   "metadata": {},
   "outputs": [],
   "source": [
    "# tx_helpers.validate_and_submit_transaction(route_struct=route_struct, src_amt=flashloan_amount,\n",
    "#                                                     src_address=flashloan_token_address, bnt_eth=bnt_eth,\n",
    "#                                                     expected_profit=Decimal('1000'), safety_override=True)"
   ]
  },
  {
   "attachments": {},
   "cell_type": "markdown",
   "id": "0eb9760c",
   "metadata": {},
   "source": [
    "# MAINNET Forced Tx Submission Method"
   ]
  },
  {
   "cell_type": "code",
   "execution_count": null,
   "id": "931af988",
   "metadata": {},
   "outputs": [],
   "source": [
    "# # Initialize tx helper\n",
    "# tx_helper = TxHelper(\n",
    "#     usd_gas_limit=55,\n",
    "#     ConfigObj=bot.ConfigObj,\n",
    "#     gas_price_multiplier = 1\n",
    "# )\n",
    "# # # Submit the transaction\n",
    "# # tx_helper.submit_flashloan_arb_tx(\n",
    "# #     arb_data=route_struct,\n",
    "# #     flashloan_token_address=flashloan_token_address,\n",
    "# #     flashloan_amount=flashloan_amount,\n",
    "# #     verbose=True,\n",
    "# # )"
   ]
  },
  {
   "cell_type": "code",
   "execution_count": null,
   "id": "5894289c",
   "metadata": {},
   "outputs": [],
   "source": [
    "# tx_helper.gas_limit"
   ]
  }
 ],
 "metadata": {
  "jupytext": {
   "encoding": "# -*- coding: utf-8 -*-",
   "formats": "ipynb,py:light"
  },
  "kernelspec": {
   "display_name": "Python 3 (ipykernel)",
   "language": "python",
   "name": "python3"
  },
  "language_info": {
   "codemirror_mode": {
    "name": "ipython",
    "version": 3
   },
   "file_extension": ".py",
   "mimetype": "text/x-python",
   "name": "python",
   "nbconvert_exporter": "python",
   "pygments_lexer": "ipython3",
   "version": "3.10.10"
  }
 },
 "nbformat": 4,
 "nbformat_minor": 5
}

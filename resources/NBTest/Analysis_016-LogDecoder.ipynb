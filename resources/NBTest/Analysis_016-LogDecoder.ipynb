{
 "cells": [
  {
   "cell_type": "code",
   "execution_count": 44,
   "id": "20a7c5d3-b47d-4dc3-aace-a9980c72c335",
   "metadata": {},
   "outputs": [],
   "source": [
    "import re\n",
    "import json\n",
    "from dataclasses import dataclass\n",
    "from datetime import datetime"
   ]
  },
  {
   "cell_type": "markdown",
   "id": "98cddb64-a8d3-4358-ad63-898f05c440ba",
   "metadata": {},
   "source": [
    "# Log Decoder [Analysis016]"
   ]
  },
  {
   "cell_type": "code",
   "execution_count": 57,
   "id": "3272086d-307b-49f4-804c-95e19133635f",
   "metadata": {},
   "outputs": [],
   "source": [
    "data = \"\"\"\n",
    "2023-05-24 15:40:06,165 [fastlane:INFO] - [2023-05-24T15:40:06::1684932006] |calculated_arb| == {'FLT': 'ETH-EEeE', 'flash_amount': '0.4555', 'profit_native': '0.0013', 'profit_bnt': '4.8882', 'trades': [{'trade': 0, 'tkn_in': 'WETH-6Cc2', 'amount_in': '0.4555', 'tkn_out': 'USDC-eB48', 'amt_out': '829.9234', 'cid': '8841057382'}, {'trade': 1, 'tkn_in': 'USDC-eB48', 'amount_in': '829.9234', 'tkn_out': 'WETH-6Cc2', 'amt_out': '0.4567', 'cid': 'b61bc3f2c4'}]}\n",
    "\n",
    "2023-05-24 15:40:06,165 [fastlane:INFO] - [2023-05-24T15:40:06::1684932006] |meh| == {'FLT': 'ETH-EEeE', 'flash_amount': '0.4555', 'profit_native': '0.0013', 'profit_bnt': '4.8882', 'trades': [{'trade': 0, 'tkn_in': 'WETH-6Cc2', 'amount_in': '0.4555', 'tkn_out': 'USDC-eB48', 'amt_out': '829.9234', 'cid': '8841057382'}, {'trade': 1, 'tkn_in': 'USDC-eB48', 'amount_in': '829.9234', 'tkn_out': 'WETH-6Cc2', 'amt_out': '0.4567', 'cid': 'b61bc3f2c4'}]}\n",
    "\n",
    "2023-05-24 15:40:09,656 [fastlane:INFO] - [2023-05-24T15:40:09::1684932009] |arb_with_gas| == {'FLT': 'ETH-EEeE', 'flash_amount': '0.4555', 'profit_native': '0.0013', 'profit_bnt': '4.8882', 'trades': [{'trade': 0, 'tkn_in': 'WETH-6Cc2', 'amount_in': '0.4555', 'tkn_out': 'USDC-eB48', 'amt_out': '829.9234', 'cid': '8841057382'}, {'trade': 1, 'tkn_in': 'USDC-eB48', 'amount_in': '829.9234', 'tkn_out': 'WETH-6Cc2', 'amt_out': '0.4567', 'cid': 'b61bc3f2c4'}], 'block_number': 17329101, 'gas': 587111, 'base_fee': 40189088639, 'priority_fee': 109000000, 'max_gas_fee': 40298088639, 'gas_cost_bnt': '84.6551', 'gas_cost_eth': '0.0189', 'gas_cost_millieth': '18927.5609', 'gas_cost_usd': '$34.3880', 'uni_v3_trade_cost_eth': '0.0063', 'uni_v3_trade_cost_usd': '$11.5014'}\n",
    "\n",
    "\n",
    "2023-05-24 16:39:31,176 [fastlane:INFO] - [2023-05-24T16:39:31::1684935571] |arb_with_gas| == {'flashloan': [{'token': 'ETH-EEeE', 'amount': 0.4555, 'profit': 0.0018}], 'profit_bnt': 6.798, 'trades': [{'trade_index': 0, 'tkn_in': 'WETH-6Cc2', 'amount_in': 0.4555, 'tkn_out': 'USDC-eB48', 'amt_out': 829.9234, 'cid0': '8841057382'}, {'trade_index': 1, 'tkn_in': 'USDC-eB48', 'amount_in': 829.9234, 'tkn_out': 'WETH-6Cc2', 'amt_out': 0.4572, 'cid0': 'b61bc3f2c4'}], 'block_number': 17329396, 'gas': 586996, 'base_fee_wei': 64373808618, 'priority_fee_wei': 109000000, 'max_gas_fee_wei': 64482808618, 'gas_cost_bnt': 135.4339, 'gas_cost_eth': 0.0303, 'gas_cost_usd': 55.0093, 'uni_v3_trade_cost_eth': 0.0101, 'uni_v3_trade_cost_usd': 18.3904}\n",
    "\"\"\""
   ]
  },
  {
   "cell_type": "code",
   "execution_count": 63,
   "id": "dea71877-e6d7-4bff-8096-36436baff994",
   "metadata": {},
   "outputs": [],
   "source": [
    "@dataclass\n",
    "class LogLine():\n",
    "    time_s: str\n",
    "    time_ts: int\n",
    "    tag: str\n",
    "    data: any\n",
    "        \n",
    "    REGEX = r\".*? - \\[(.*?)::(.*?)].*?\\|(.*?)\\|.*?==.*?({.*})\"\n",
    "      \n",
    "    @classmethod\n",
    "    def new(cls, line):\n",
    "        \"\"\"\n",
    "        reads a single line and instantiates a new object\n",
    "        \"\"\"\n",
    "        m = re.match(cls.REGEX, line)\n",
    "        return cls(\n",
    "            time_s = m.group(1)+\"Z\",\n",
    "            time_ts = int(m.group(2)),\n",
    "            tag = m.group(3),\n",
    "            data = json.loads(m.group(4).replace(\"'\", '\"'))\n",
    "        )\n",
    "    \n",
    "    @classmethod\n",
    "    def parse(cls, logfiletext):\n",
    "        \"\"\"\n",
    "        parses the entire text of the logfile\n",
    "        \"\"\"\n",
    "        lines = (l for l in data.splitlines() if l.strip())\n",
    "        ll = list(LogLine.new(l) for l in lines)\n",
    "        return ll\n",
    "        \n",
    "    \n",
    "    @property\n",
    "    def time(self):\n",
    "        \"\"\"datetime object corresponding to time\"\"\"\n",
    "        return datetime.fromtimestamp(self.time_ts)"
   ]
  },
  {
   "cell_type": "code",
   "execution_count": 64,
   "id": "feeff244-d9fc-4ccc-9bf9-a37b5b430fab",
   "metadata": {},
   "outputs": [],
   "source": [
    "ll = LogLine.parse(data)"
   ]
  },
  {
   "cell_type": "code",
   "execution_count": 65,
   "id": "4f1a3609-02fc-40ab-ac16-b493cb37d45d",
   "metadata": {},
   "outputs": [
    {
     "data": {
      "text/plain": [
       "['calculated_arb', 'meh', 'arb_with_gas', 'arb_with_gas']"
      ]
     },
     "execution_count": 65,
     "metadata": {},
     "output_type": "execute_result"
    }
   ],
   "source": [
    "[l.tag for l in ll]"
   ]
  },
  {
   "cell_type": "code",
   "execution_count": 66,
   "id": "c8687d11-9c5d-4555-a888-771b150b1d03",
   "metadata": {},
   "outputs": [
    {
     "data": {
      "text/plain": [
       "{'FLT': 'ETH-EEeE',\n",
       " 'flash_amount': '0.4555',\n",
       " 'profit_native': '0.0013',\n",
       " 'profit_bnt': '4.8882',\n",
       " 'trades': [{'trade': 0,\n",
       "   'tkn_in': 'WETH-6Cc2',\n",
       "   'amount_in': '0.4555',\n",
       "   'tkn_out': 'USDC-eB48',\n",
       "   'amt_out': '829.9234',\n",
       "   'cid': '8841057382'},\n",
       "  {'trade': 1,\n",
       "   'tkn_in': 'USDC-eB48',\n",
       "   'amount_in': '829.9234',\n",
       "   'tkn_out': 'WETH-6Cc2',\n",
       "   'amt_out': '0.4567',\n",
       "   'cid': 'b61bc3f2c4'}]}"
      ]
     },
     "execution_count": 66,
     "metadata": {},
     "output_type": "execute_result"
    }
   ],
   "source": [
    "ll[0].data"
   ]
  },
  {
   "cell_type": "code",
   "execution_count": 67,
   "id": "0bc47d04-5824-4fd8-a859-c82c69e596a4",
   "metadata": {},
   "outputs": [
    {
     "data": {
      "text/plain": [
       "{'flashloan': [{'token': 'ETH-EEeE', 'amount': 0.4555, 'profit': 0.0018}],\n",
       " 'profit_bnt': 6.798,\n",
       " 'trades': [{'trade_index': 0,\n",
       "   'tkn_in': 'WETH-6Cc2',\n",
       "   'amount_in': 0.4555,\n",
       "   'tkn_out': 'USDC-eB48',\n",
       "   'amt_out': 829.9234,\n",
       "   'cid0': '8841057382'},\n",
       "  {'trade_index': 1,\n",
       "   'tkn_in': 'USDC-eB48',\n",
       "   'amount_in': 829.9234,\n",
       "   'tkn_out': 'WETH-6Cc2',\n",
       "   'amt_out': 0.4572,\n",
       "   'cid0': 'b61bc3f2c4'}],\n",
       " 'block_number': 17329396,\n",
       " 'gas': 586996,\n",
       " 'base_fee_wei': 64373808618,\n",
       " 'priority_fee_wei': 109000000,\n",
       " 'max_gas_fee_wei': 64482808618,\n",
       " 'gas_cost_bnt': 135.4339,\n",
       " 'gas_cost_eth': 0.0303,\n",
       " 'gas_cost_usd': 55.0093,\n",
       " 'uni_v3_trade_cost_eth': 0.0101,\n",
       " 'uni_v3_trade_cost_usd': 18.3904}"
      ]
     },
     "execution_count": 67,
     "metadata": {},
     "output_type": "execute_result"
    }
   ],
   "source": [
    "ll[-1].data"
   ]
  },
  {
   "cell_type": "code",
   "execution_count": null,
   "id": "2ba252bd-3ddb-45c7-8310-2d15bac0be5f",
   "metadata": {},
   "outputs": [],
   "source": []
  },
  {
   "cell_type": "code",
   "execution_count": null,
   "id": "31c94407-b3a9-40bb-8203-86d9c75a4e75",
   "metadata": {},
   "outputs": [],
   "source": []
  }
 ],
 "metadata": {
  "jupytext": {
   "formats": "ipynb,py:light"
  },
  "kernelspec": {
   "display_name": "Python 3",
   "language": "python",
   "name": "python3"
  },
  "language_info": {
   "codemirror_mode": {
    "name": "ipython",
    "version": 3
   },
   "file_extension": ".py",
   "mimetype": "text/x-python",
   "name": "python",
   "nbconvert_exporter": "python",
   "pygments_lexer": "ipython3",
   "version": "3.8.8"
  }
 },
 "nbformat": 4,
 "nbformat_minor": 5
}

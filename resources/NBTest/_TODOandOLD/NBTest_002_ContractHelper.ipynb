{
 "cells": [
  {
   "cell_type": "markdown",
   "id": "b388580a",
   "metadata": {},
   "source": [
    "# Unit tests for ContractHelper"
   ]
  },
  {
   "cell_type": "code",
   "execution_count": 1,
   "id": "44ddb2d6",
   "metadata": {
    "ExecuteTime": {
     "end_time": "2023-04-26T11:53:21.937605Z",
     "start_time": "2023-04-26T11:53:15.644431Z"
    },
    "collapsed": false,
    "jupyter": {
     "outputs_hidden": false
    }
   },
   "outputs": [],
   "source": [
    "from fastlane_bot.db.updaters.helpers import ContractHelper\n",
    "import fastlane_bot.config as c\n",
    "import unittest\n",
    "from web3.exceptions import InvalidAddress"
   ]
  },
  {
   "cell_type": "code",
   "execution_count": 2,
   "id": "1fd86acd",
   "metadata": {
    "ExecuteTime": {
     "end_time": "2023-04-26T11:53:21.981414Z",
     "start_time": "2023-04-26T11:53:21.960983Z"
    }
   },
   "outputs": [
    {
     "name": "stdout",
     "output_type": "stream",
     "text": [
      "Version: 3.0.1\n",
      "Date: 04-26-2023\n"
     ]
    }
   ],
   "source": [
    "# Create a ContractHelper instance\n",
    "contract_helper = ContractHelper(w3=c.w3)\n",
    "\n",
    "# Print and format version and date\n",
    "print(f\"Version: {contract_helper.__VERSION__.format('0.0.0')}\")\n",
    "print(f\"Date: {contract_helper.__DATE__}\")"
   ]
  },
  {
   "cell_type": "code",
   "execution_count": 3,
   "id": "8944b551",
   "metadata": {
    "ExecuteTime": {
     "end_time": "2023-04-26T11:53:21.991444Z",
     "start_time": "2023-04-26T11:53:21.986665Z"
    },
    "collapsed": false,
    "jupyter": {
     "outputs_hidden": false
    }
   },
   "outputs": [],
   "source": [
    "# 1. Test initialization of ContractHelper\n",
    "#    - Test if ContractHelper instance is properly created with the given parameters.\n",
    "\n",
    "assert isinstance(contract_helper, ContractHelper)\n",
    "assert contract_helper.w3 == c.w3\n",
    "assert isinstance(contract_helper.contracts, dict)"
   ]
  },
  {
   "cell_type": "code",
   "execution_count": 4,
   "id": "8b27d586",
   "metadata": {
    "ExecuteTime": {
     "end_time": "2023-04-26T11:53:22.020387Z",
     "start_time": "2023-04-26T11:53:21.995523Z"
    },
    "collapsed": false,
    "jupyter": {
     "outputs_hidden": false
    }
   },
   "outputs": [],
   "source": [
    "# 2. Test carbon_controller property\n",
    "#   - Test if the CarbonController contract is returned correctly.\n",
    "assert contract_helper.carbon_controller.address == c.CARBON_CONTROLLER_ADDRESS"
   ]
  },
  {
   "cell_type": "code",
   "execution_count": 5,
   "id": "e0d8f61c",
   "metadata": {
    "ExecuteTime": {
     "end_time": "2023-04-26T11:53:22.049750Z",
     "start_time": "2023-04-26T11:53:22.017374Z"
    },
    "collapsed": false,
    "jupyter": {
     "outputs_hidden": false
    }
   },
   "outputs": [],
   "source": [
    "\n",
    "# 3. Test initialize_contract_with_abi function\n",
    "#    - Test if the function returns a Contract object when given valid parameters.\n",
    "contract = contract_helper.initialize_contract_with_abi(\n",
    "    address=c.CARBON_CONTROLLER_ADDRESS, abi=c.CARBON_CONTROLLER_ABI, w3=c.w3\n",
    ")\n",
    "\n",
    "assert contract.address == c.CARBON_CONTROLLER_ADDRESS\n",
    "\n",
    "# Create a TestCase instance\n",
    "test_case = unittest.TestCase()\n",
    "\n",
    "# Create an invalid address\n",
    "invalid_address = \"invalid_ethereum_address\"\n",
    "\n",
    "# - Test if the function raises an exception when given invalid parameters.\n",
    "test_case.assertRaises(InvalidAddress, contract_helper.initialize_contract_with_abi, invalid_address, c.CARBON_CONTROLLER_ABI, c.w3)"
   ]
  },
  {
   "cell_type": "code",
   "execution_count": 6,
   "id": "7abb24b2",
   "metadata": {
    "ExecuteTime": {
     "end_time": "2023-04-26T11:53:22.959552Z",
     "start_time": "2023-04-26T11:53:22.053770Z"
    },
    "collapsed": false,
    "jupyter": {
     "outputs_hidden": false
    }
   },
   "outputs": [],
   "source": [
    "# 4. Test initialize_contract_without_abi function\n",
    "#    - Test if the function returns a Contract object when given valid parameters.\n",
    "contract = contract_helper.initialize_contract_without_abi(\n",
    "    address=c.CARBON_CONTROLLER_ADDRESS, w3=c.w3\n",
    ")\n",
    "\n",
    "assert contract.address == c.CARBON_CONTROLLER_ADDRESS\n",
    "\n",
    "# Test if the function raises an exception when given invalid parameters.\n",
    "test_case.assertRaises(ValueError, contract_helper.initialize_contract_without_abi, invalid_address, c.w3)"
   ]
  },
  {
   "cell_type": "code",
   "execution_count": 7,
   "id": "c3e553d3",
   "metadata": {
    "ExecuteTime": {
     "end_time": "2023-04-26T11:53:23.407310Z",
     "start_time": "2023-04-26T11:53:22.962172Z"
    },
    "collapsed": false,
    "jupyter": {
     "outputs_hidden": false
    }
   },
   "outputs": [],
   "source": [
    "# 5. Test initialize_contract function\n",
    "#    - Test if the function returns a Contract object when given valid parameters with and without ABI.\n",
    "contract_with_abi = contract_helper.initialize_contract(\n",
    "    address=c.CARBON_CONTROLLER_ADDRESS, _abi=c.CARBON_CONTROLLER_ABI, w3=c.w3\n",
    ")\n",
    "\n",
    "contract_without_abi = contract_helper.initialize_contract(\n",
    "    address=c.CARBON_CONTROLLER_ADDRESS, w3=c.w3\n",
    ")\n",
    "\n",
    "assert contract_with_abi.address == c.CARBON_CONTROLLER_ADDRESS\n",
    "assert contract_without_abi.address == c.CARBON_CONTROLLER_ADDRESS\n",
    "\n",
    "#   - Test if the function raises an exception when given invalid parameters.\n",
    "test_case.assertRaises(InvalidAddress, contract_helper.initialize_contract, c.w3, invalid_address, c.CARBON_CONTROLLER_ABI)"
   ]
  },
  {
   "cell_type": "code",
   "execution_count": 8,
   "id": "d71f6afe",
   "metadata": {
    "ExecuteTime": {
     "end_time": "2023-04-26T11:53:23.417921Z",
     "start_time": "2023-04-26T11:53:23.408986Z"
    },
    "collapsed": false,
    "jupyter": {
     "outputs_hidden": false
    }
   },
   "outputs": [],
   "source": [
    "# 6. Test contract_from_address function\n",
    "#    - Test if the function returns the correct contract for valid exchange_name and pool_address.\n",
    "\n",
    "# Create a contract\n",
    "contract = contract_helper.contract_from_address(\n",
    "    exchange_name=c.UNISWAP_V2_NAME, pool_address='0x3fd4Cf9303c4BC9E13772618828712C8EaC7Dd2F'\n",
    ")\n",
    "\n",
    "assert contract.address == '0x3fd4Cf9303c4BC9E13772618828712C8EaC7Dd2F'\n",
    "\n",
    "#   - Test if the function raises a NotImplementedError when given an unsupported exchange_name.\n",
    "unsupported_exchange_name = \"unsupported_exchange_name\"\n",
    "\n",
    "test_case.assertRaises(NotImplementedError, contract_helper.contract_from_address, unsupported_exchange_name, c.CARBON_CONTROLLER_ADDRESS)"
   ]
  },
  {
   "cell_type": "code",
   "execution_count": 9,
   "id": "71c8c49c",
   "metadata": {
    "ExecuteTime": {
     "end_time": "2023-04-26T11:53:23.430132Z",
     "start_time": "2023-04-26T11:53:23.419977Z"
    },
    "collapsed": false,
    "jupyter": {
     "outputs_hidden": false
    }
   },
   "outputs": [],
   "source": [
    "\n",
    "# 7. Test get_or_init_contract function\n",
    "#    - Test if the function returns the correct contract for valid exchange_name and pool_address.\n",
    "contract = contract_helper.get_or_init_contract(\n",
    "    exchange_name=c.UNISWAP_V2_NAME, pool_address='0x3fd4Cf9303c4BC9E13772618828712C8EaC7Dd2F'\n",
    ")\n",
    "\n",
    "assert contract.address == '0x3fd4Cf9303c4BC9E13772618828712C8EaC7Dd2F'\n",
    "assert contract_helper.contracts[c.UNISWAP_V2_NAME]['0x3fd4Cf9303c4BC9E13772618828712C8EaC7Dd2F'] == contract\n",
    "assert len(contract_helper.contracts[c.UNISWAP_V2_NAME]) == 1\n"
   ]
  }
 ],
 "metadata": {
  "jupytext": {
   "formats": "ipynb,py:light"
  },
  "kernelspec": {
   "display_name": "Python 3",
   "language": "python",
   "name": "python3"
  },
  "language_info": {
   "codemirror_mode": {
    "name": "ipython",
    "version": 3
   },
   "file_extension": ".py",
   "mimetype": "text/x-python",
   "name": "python",
   "nbconvert_exporter": "python",
   "pygments_lexer": "ipython3",
   "version": "3.8.8"
  }
 },
 "nbformat": 4,
 "nbformat_minor": 5
}

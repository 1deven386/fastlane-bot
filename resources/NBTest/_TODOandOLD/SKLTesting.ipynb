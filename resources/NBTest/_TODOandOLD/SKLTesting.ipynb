{
 "cells": [
  {
   "cell_type": "code",
   "execution_count": 2,
   "id": "2e32945f-69ca-4ed7-b401-f01b75504d44",
   "metadata": {},
   "outputs": [
    {
     "ename": "NameError",
     "evalue": "name 'Decimal' is not defined",
     "output_type": "error",
     "traceback": [
      "\u001b[0;31m---------------------------------------------------------------------------\u001b[0m",
      "\u001b[0;31mNameError\u001b[0m                                 Traceback (most recent call last)",
      "\u001b[0;32m<ipython-input-2-9892cd786ca9>\u001b[0m in \u001b[0;36m<module>\u001b[0;34m\u001b[0m\n\u001b[0;32m----> 1\u001b[0;31m \u001b[0;32mimport\u001b[0m \u001b[0mfastlane_bot\u001b[0m \u001b[0;32mas\u001b[0m \u001b[0mflb\u001b[0m\u001b[0;34m\u001b[0m\u001b[0;34m\u001b[0m\u001b[0m\n\u001b[0m\u001b[1;32m      2\u001b[0m \u001b[0;32mfrom\u001b[0m \u001b[0mfastlane_bot\u001b[0m\u001b[0;34m.\u001b[0m\u001b[0mbot\u001b[0m \u001b[0;32mimport\u001b[0m \u001b[0mCarbonBot\u001b[0m\u001b[0;34m\u001b[0m\u001b[0;34m\u001b[0m\u001b[0m\n\u001b[1;32m      3\u001b[0m \u001b[0mprint\u001b[0m\u001b[0;34m(\u001b[0m\u001b[0;34m\"{0.__name__} v{0.__VERSION__} ({0.__DATE__})\"\u001b[0m\u001b[0;34m.\u001b[0m\u001b[0mformat\u001b[0m\u001b[0;34m(\u001b[0m\u001b[0mConfig\u001b[0m\u001b[0;34m)\u001b[0m\u001b[0;34m)\u001b[0m\u001b[0;34m\u001b[0m\u001b[0;34m\u001b[0m\u001b[0m\n\u001b[1;32m      4\u001b[0m \u001b[0mprint\u001b[0m\u001b[0;34m(\u001b[0m\u001b[0;34m\"{0.__name__} v{0.__VERSION__} ({0.__DATE__})\"\u001b[0m\u001b[0;34m.\u001b[0m\u001b[0mformat\u001b[0m\u001b[0;34m(\u001b[0m\u001b[0mcfg\u001b[0m\u001b[0;34m.\u001b[0m\u001b[0mConfigDB\u001b[0m\u001b[0;34m)\u001b[0m\u001b[0;34m)\u001b[0m\u001b[0;34m\u001b[0m\u001b[0;34m\u001b[0m\u001b[0m\n\u001b[1;32m      5\u001b[0m \u001b[0mprint\u001b[0m\u001b[0;34m(\u001b[0m\u001b[0;34m\"{0.__name__} v{0.__VERSION__} ({0.__DATE__})\"\u001b[0m\u001b[0;34m.\u001b[0m\u001b[0mformat\u001b[0m\u001b[0;34m(\u001b[0m\u001b[0mcfg\u001b[0m\u001b[0;34m.\u001b[0m\u001b[0mConfigNetwork\u001b[0m\u001b[0;34m)\u001b[0m\u001b[0;34m)\u001b[0m\u001b[0;34m\u001b[0m\u001b[0;34m\u001b[0m\u001b[0m\n",
      "\u001b[0;32m~/REPOES/Bancor/ArbBot/resources/NBTest/fastlane_bot/__init__.py\u001b[0m in \u001b[0;36m<module>\u001b[0;34m\u001b[0m\n\u001b[1;32m      2\u001b[0m \u001b[0m__DATE__\u001b[0m \u001b[0;34m=\u001b[0m \u001b[0;34m\"23/Apr/2023\"\u001b[0m\u001b[0;34m\u001b[0m\u001b[0;34m\u001b[0m\u001b[0m\n\u001b[1;32m      3\u001b[0m \u001b[0;34m\u001b[0m\u001b[0m\n\u001b[0;32m----> 4\u001b[0;31m \u001b[0;32mfrom\u001b[0m \u001b[0;34m.\u001b[0m\u001b[0mbot\u001b[0m \u001b[0;32mimport\u001b[0m \u001b[0mCarbonBot\u001b[0m \u001b[0;32mas\u001b[0m \u001b[0mBot\u001b[0m\u001b[0;34m\u001b[0m\u001b[0;34m\u001b[0m\u001b[0m\n\u001b[0m",
      "\u001b[0;32m~/REPOES/Bancor/ArbBot/resources/NBTest/fastlane_bot/bot.py\u001b[0m in \u001b[0;36m<module>\u001b[0;34m\u001b[0m\n\u001b[1;32m     51\u001b[0m \u001b[0;34m\u001b[0m\u001b[0m\n\u001b[1;32m     52\u001b[0m \u001b[0;32mfrom\u001b[0m \u001b[0mfastlane_bot\u001b[0m \u001b[0;32mimport\u001b[0m \u001b[0mconfig\u001b[0m \u001b[0;32mas\u001b[0m \u001b[0mcfg\u001b[0m\u001b[0;34m\u001b[0m\u001b[0;34m\u001b[0m\u001b[0m\n\u001b[0;32m---> 53\u001b[0;31m \u001b[0;32mfrom\u001b[0m \u001b[0mfastlane_bot\u001b[0m\u001b[0;34m.\u001b[0m\u001b[0mdb\u001b[0m\u001b[0;34m.\u001b[0m\u001b[0mmanager\u001b[0m \u001b[0;32mimport\u001b[0m \u001b[0mDatabaseManager\u001b[0m\u001b[0;34m\u001b[0m\u001b[0;34m\u001b[0m\u001b[0m\n\u001b[0m\u001b[1;32m     54\u001b[0m \u001b[0;32mfrom\u001b[0m \u001b[0mfastlane_bot\u001b[0m\u001b[0;34m.\u001b[0m\u001b[0mdb\u001b[0m\u001b[0;34m.\u001b[0m\u001b[0mmodels\u001b[0m \u001b[0;32mimport\u001b[0m \u001b[0mPool\u001b[0m\u001b[0;34m,\u001b[0m \u001b[0mToken\u001b[0m\u001b[0;34m\u001b[0m\u001b[0;34m\u001b[0m\u001b[0m\n\u001b[1;32m     55\u001b[0m from fastlane_bot.helpers import (\n",
      "\u001b[0;32m~/REPOES/Bancor/ArbBot/resources/NBTest/fastlane_bot/db/manager.py\u001b[0m in \u001b[0;36m<module>\u001b[0;34m\u001b[0m\n\u001b[1;32m     12\u001b[0m \u001b[0;32mfrom\u001b[0m \u001b[0mbrownie\u001b[0m \u001b[0;32mimport\u001b[0m \u001b[0mContract\u001b[0m\u001b[0;34m\u001b[0m\u001b[0;34m\u001b[0m\u001b[0m\n\u001b[1;32m     13\u001b[0m \u001b[0;34m\u001b[0m\u001b[0m\n\u001b[0;32m---> 14\u001b[0;31m \u001b[0;32mfrom\u001b[0m \u001b[0mfastlane_bot\u001b[0m\u001b[0;34m.\u001b[0m\u001b[0mdb\u001b[0m\u001b[0;34m.\u001b[0m\u001b[0mmodel_managers\u001b[0m \u001b[0;32mimport\u001b[0m \u001b[0mPoolManager\u001b[0m\u001b[0;34m,\u001b[0m \u001b[0mTokenManager\u001b[0m\u001b[0;34m,\u001b[0m \u001b[0mPairManager\u001b[0m\u001b[0;34m\u001b[0m\u001b[0;34m\u001b[0m\u001b[0m\n\u001b[0m\u001b[1;32m     15\u001b[0m \u001b[0;32mimport\u001b[0m \u001b[0mfastlane_bot\u001b[0m\u001b[0;34m.\u001b[0m\u001b[0mdb\u001b[0m\u001b[0;34m.\u001b[0m\u001b[0mmodels\u001b[0m \u001b[0;32mas\u001b[0m \u001b[0mmodels\u001b[0m\u001b[0;34m\u001b[0m\u001b[0;34m\u001b[0m\u001b[0m\n\u001b[1;32m     16\u001b[0m \u001b[0;34m\u001b[0m\u001b[0m\n",
      "\u001b[0;32m~/REPOES/Bancor/ArbBot/resources/NBTest/fastlane_bot/db/model_managers.py\u001b[0m in \u001b[0;36m<module>\u001b[0;34m\u001b[0m\n\u001b[1;32m     13\u001b[0m \u001b[0;32mfrom\u001b[0m \u001b[0msqlalchemy\u001b[0m\u001b[0;34m.\u001b[0m\u001b[0morm\u001b[0m \u001b[0;32mimport\u001b[0m \u001b[0maliased\u001b[0m\u001b[0;34m\u001b[0m\u001b[0;34m\u001b[0m\u001b[0m\n\u001b[1;32m     14\u001b[0m \u001b[0;34m\u001b[0m\u001b[0m\n\u001b[0;32m---> 15\u001b[0;31m \u001b[0;32mimport\u001b[0m \u001b[0mfastlane_bot\u001b[0m\u001b[0;34m.\u001b[0m\u001b[0mdb\u001b[0m\u001b[0;34m.\u001b[0m\u001b[0mmodels\u001b[0m \u001b[0;32mas\u001b[0m \u001b[0mmodels\u001b[0m\u001b[0;34m\u001b[0m\u001b[0;34m\u001b[0m\u001b[0m\n\u001b[0m\u001b[1;32m     16\u001b[0m \u001b[0;32mfrom\u001b[0m \u001b[0mfastlane_bot\u001b[0m\u001b[0;34m.\u001b[0m\u001b[0mdb\u001b[0m\u001b[0;34m.\u001b[0m\u001b[0mmanager_base\u001b[0m \u001b[0;32mimport\u001b[0m \u001b[0mDatabaseManagerBase\u001b[0m\u001b[0;34m\u001b[0m\u001b[0;34m\u001b[0m\u001b[0m\n\u001b[1;32m     17\u001b[0m \u001b[0;32mfrom\u001b[0m \u001b[0mfastlane_bot\u001b[0m\u001b[0;34m.\u001b[0m\u001b[0mdb\u001b[0m\u001b[0;34m.\u001b[0m\u001b[0mmodels\u001b[0m \u001b[0;32mimport\u001b[0m \u001b[0mPool\u001b[0m\u001b[0;34m,\u001b[0m \u001b[0mPair\u001b[0m\u001b[0;34m\u001b[0m\u001b[0;34m\u001b[0m\u001b[0m\n",
      "\u001b[0;32m~/REPOES/Bancor/ArbBot/resources/NBTest/fastlane_bot/db/models.py\u001b[0m in \u001b[0;36m<module>\u001b[0;34m\u001b[0m\n\u001b[1;32m    214\u001b[0m \u001b[0;34m@\u001b[0m\u001b[0mmapper_registry\u001b[0m\u001b[0;34m.\u001b[0m\u001b[0mmapped\u001b[0m\u001b[0;34m\u001b[0m\u001b[0;34m\u001b[0m\u001b[0m\n\u001b[1;32m    215\u001b[0m \u001b[0;34m@\u001b[0m\u001b[0mdataclass\u001b[0m\u001b[0;34m\u001b[0m\u001b[0;34m\u001b[0m\u001b[0m\n\u001b[0;32m--> 216\u001b[0;31m \u001b[0;32mclass\u001b[0m \u001b[0mPool\u001b[0m\u001b[0;34m:\u001b[0m\u001b[0;34m\u001b[0m\u001b[0;34m\u001b[0m\u001b[0m\n\u001b[0m\u001b[1;32m    217\u001b[0m     \"\"\"\n\u001b[1;32m    218\u001b[0m     \u001b[0mRepresents\u001b[0m \u001b[0ma\u001b[0m \u001b[0mliquidity\u001b[0m \u001b[0mpool\u001b[0m \u001b[0mon\u001b[0m \u001b[0man\u001b[0m \u001b[0mexchange\u001b[0m\u001b[0;34m.\u001b[0m\u001b[0;34m\u001b[0m\u001b[0;34m\u001b[0m\u001b[0m\n",
      "\u001b[0;32m~/REPOES/Bancor/ArbBot/resources/NBTest/fastlane_bot/db/models.py\u001b[0m in \u001b[0;36mPool\u001b[0;34m()\u001b[0m\n\u001b[1;32m    312\u001b[0m         \u001b[0mColumn\u001b[0m\u001b[0;34m(\u001b[0m\u001b[0;34m\"B_1\"\u001b[0m\u001b[0;34m,\u001b[0m \u001b[0mNumeric\u001b[0m\u001b[0;34m(\u001b[0m\u001b[0mprecision\u001b[0m\u001b[0;34m=\u001b[0m\u001b[0;36m64\u001b[0m\u001b[0;34m)\u001b[0m\u001b[0;34m,\u001b[0m \u001b[0mnullable\u001b[0m\u001b[0;34m=\u001b[0m\u001b[0;32mTrue\u001b[0m\u001b[0;34m)\u001b[0m\u001b[0;34m,\u001b[0m\u001b[0;34m\u001b[0m\u001b[0;34m\u001b[0m\u001b[0m\n\u001b[1;32m    313\u001b[0m         Column(\n\u001b[0;32m--> 314\u001b[0;31m             \u001b[0;34m\"sqrt_price_q96\"\u001b[0m\u001b[0;34m,\u001b[0m \u001b[0mNumeric\u001b[0m\u001b[0;34m(\u001b[0m\u001b[0mprecision\u001b[0m\u001b[0;34m=\u001b[0m\u001b[0;36m64\u001b[0m\u001b[0;34m)\u001b[0m\u001b[0;34m,\u001b[0m \u001b[0mnullable\u001b[0m\u001b[0;34m=\u001b[0m\u001b[0;32mTrue\u001b[0m\u001b[0;34m,\u001b[0m \u001b[0mdefault\u001b[0m\u001b[0;34m=\u001b[0m\u001b[0mDecimal\u001b[0m\u001b[0;34m(\u001b[0m\u001b[0;34m\"0\"\u001b[0m\u001b[0;34m)\u001b[0m\u001b[0;34m\u001b[0m\u001b[0;34m\u001b[0m\u001b[0m\n\u001b[0m\u001b[1;32m    315\u001b[0m         ),\n\u001b[1;32m    316\u001b[0m         \u001b[0mColumn\u001b[0m\u001b[0;34m(\u001b[0m\u001b[0;34m\"tick\"\u001b[0m\u001b[0;34m,\u001b[0m \u001b[0mBigInteger\u001b[0m\u001b[0;34m,\u001b[0m \u001b[0mnullable\u001b[0m\u001b[0;34m=\u001b[0m\u001b[0;32mTrue\u001b[0m\u001b[0;34m)\u001b[0m\u001b[0;34m,\u001b[0m\u001b[0;34m\u001b[0m\u001b[0;34m\u001b[0m\u001b[0m\n",
      "\u001b[0;31mNameError\u001b[0m: name 'Decimal' is not defined"
     ]
    }
   ],
   "source": [
    "import fastlane_bot as flb\n",
    "from fastlane_bot.bot import CarbonBot\n",
    "print(\"{0.__name__} v{0.__VERSION__} ({0.__DATE__})\".format(Config))\n",
    "print(\"{0.__name__} v{0.__VERSION__} ({0.__DATE__})\".format(cfg.ConfigDB))\n",
    "print(\"{0.__name__} v{0.__VERSION__} ({0.__DATE__})\".format(cfg.ConfigNetwork))\n",
    "print(\"{0.__name__} v{0.__VERSION__} ({0.__DATE__})\".format(cfg.ConfigProvider))\n",
    "print(\"{0.__name__} v{0.__VERSION__} ({0.__DATE__})\".format(cfg.ConfigLogger))"
   ]
  },
  {
   "cell_type": "markdown",
   "id": "374e535c-a876-4e57-b6c8-ba212882c139",
   "metadata": {},
   "source": [
    "# SKL Testing"
   ]
  },
  {
   "cell_type": "code",
   "execution_count": null,
   "id": "7bde75d4-680f-4267-bbfa-91dd8564c2d0",
   "metadata": {},
   "outputs": [],
   "source": [
    "#bot = flb.Bot()\n",
    "bot = CarbonBot()"
   ]
  },
  {
   "cell_type": "code",
   "execution_count": null,
   "id": "5df00109-edbe-4cc6-88ff-22d73b8595cd",
   "metadata": {},
   "outputs": [],
   "source": [
    "#bot.run()"
   ]
  },
  {
   "cell_type": "code",
   "execution_count": null,
   "id": "5f80339f-96dd-4c2b-8469-55a586739f31",
   "metadata": {},
   "outputs": [],
   "source": [
    "CCm = bot.get_curves()\n",
    "len(CCm)"
   ]
  },
  {
   "cell_type": "code",
   "execution_count": null,
   "id": "caf98dcd-9936-4ba6-944d-8e547a67a5e4",
   "metadata": {},
   "outputs": [],
   "source": [
    "len(CCm)"
   ]
  },
  {
   "cell_type": "code",
   "execution_count": null,
   "id": "ec54ec50-7d29-4a3f-9fa0-852840cd7a04",
   "metadata": {},
   "outputs": [],
   "source": [
    "help(bot._find_arbitrage_opportunities)"
   ]
  },
  {
   "cell_type": "code",
   "execution_count": null,
   "id": "91131ebe-5610-46a4-a9ff-ea4520391bfb",
   "metadata": {},
   "outputs": [],
   "source": [
    "bot._find_arbitrage_opportunities()"
   ]
  },
  {
   "cell_type": "code",
   "execution_count": null,
   "id": "06eb6995-ab3c-4828-9a4b-3601f75b79d3",
   "metadata": {},
   "outputs": [],
   "source": []
  }
 ],
 "metadata": {
  "jupytext": {
   "formats": "ipynb,py:light"
  },
  "kernelspec": {
   "display_name": "Python 3",
   "language": "python",
   "name": "python3"
  },
  "language_info": {
   "codemirror_mode": {
    "name": "ipython",
    "version": 3
   },
   "file_extension": ".py",
   "mimetype": "text/x-python",
   "name": "python",
   "nbconvert_exporter": "python",
   "pygments_lexer": "ipython3",
   "version": "3.8.8"
  }
 },
 "nbformat": 4,
 "nbformat_minor": 5
}

{
 "cells": [
  {
   "cell_type": "code",
   "execution_count": 1,
   "id": "6e592dd0-4905-45bd-8ba2-e2072437e13c",
   "metadata": {},
   "outputs": [],
   "source": [
    "__SCRIPT_VERSION__ = \"3.5\"\n",
    "__SCRIPT_DATE__ = \"26/May/2023\""
   ]
  },
  {
   "cell_type": "code",
   "execution_count": 2,
   "id": "8f04c50a-67fe-4f09-822d-6ed6e3ac43e4",
   "metadata": {},
   "outputs": [
    {
     "name": "stdout",
     "output_type": "stream",
     "text": [
      "Using default database url, if you want to use a different database, set the backend_url found at the bottom of manager_base.py\n",
      "CarbonBot v3-b2.1 (03/May/2023)\n",
      "ConstantProductCurve v2.14 (23/May/2023)\n",
      "CPCAnalyzer v1.5 (18/May/2023)\n"
     ]
    }
   ],
   "source": [
    "from fastlane_bot.bot import CarbonBot as Bot\n",
    "from fastlane_bot.tools.cpc import ConstantProductCurve as CPC, CPCContainer, T, Pair\n",
    "from fastlane_bot.tools.analyzer import CPCAnalyzer\n",
    "from fastlane_bot.tools.cryptocompare import CryptoCompare\n",
    "import requests\n",
    "print(\"{0.__name__} v{0.__VERSION__} ({0.__DATE__})\".format(Bot))\n",
    "print(\"{0.__name__} v{0.__VERSION__} ({0.__DATE__})\".format(CPC))\n",
    "print(\"{0.__name__} v{0.__VERSION__} ({0.__DATE__})\".format(CPCAnalyzer))\n",
    "import pandas as pd\n",
    "import datetime\n",
    "import time\n",
    "import json\n",
    "from hashlib import md5\n",
    "from fastlane_bot import __VERSION__"
   ]
  },
  {
   "cell_type": "markdown",
   "id": "b3f59f14-b91b-4dba-94b0-3d513aaf41c7",
   "metadata": {},
   "source": [
    "# Mainnet Arbitrage Monitoring Bot [A015 - v3.5SKL]\n",
    "_v3.5 SKL; contains changes on notifications and excluded curves_"
   ]
  },
  {
   "cell_type": "code",
   "execution_count": 3,
   "id": "bafbd22f-ba89-4f82-b2b0-0ed6cba53064",
   "metadata": {},
   "outputs": [
    {
     "data": {
      "text/plain": [
       "'ead90114986e463b0157c49422d8d465'"
      ]
     },
     "execution_count": 3,
     "metadata": {},
     "output_type": "execute_result"
    }
   ],
   "source": [
    "cid = lambda pair: md5(pair.encode()).hexdigest()\n",
    "cid(\"WETH-6Cc2/USDC-eB48\")"
   ]
  },
  {
   "cell_type": "code",
   "execution_count": 4,
   "id": "882a9917-298c-48a7-9c67-d78bc7e5cafa",
   "metadata": {},
   "outputs": [
    {
     "name": "stdout",
     "output_type": "stream",
     "text": [
      "Saving curve data as ../data/A014-1685089861.csv.gz\n"
     ]
    }
   ],
   "source": [
    "bot     = Bot()\n",
    "CCm     = bot.get_curves()\n",
    "fn = f\"../data/A014-{int(time.time())}.csv.gz\"\n",
    "print (f\"Saving curve data as {fn}\")\n",
    "CCm.asdf().to_csv(fn, compression = \"gzip\")"
   ]
  },
  {
   "cell_type": "code",
   "execution_count": 5,
   "id": "e0f8793b-456c-4b88-ba01-ff31b46e8023",
   "metadata": {},
   "outputs": [
    {
     "data": {
      "text/plain": [
       "'0xC02aaA39b223FE8D0A0e5C4F27eAD9083C756Cc2'"
      ]
     },
     "execution_count": 5,
     "metadata": {},
     "output_type": "execute_result"
    }
   ],
   "source": [
    "class TokenAddress():\n",
    "    def __init__(self, db):\n",
    "        self._db = db\n",
    "        \n",
    "    def addr_from_ticker(self, ticker):\n",
    "        return self._db.get_token(key=ticker).address\n",
    "    a = addr_from_ticker\n",
    "    \n",
    "    def ticker_from_addr(self, addr):\n",
    "        raise NotImplemented()\n",
    "TA = TokenAddress(bot.db)      \n",
    "TA.a(\"WETH-6Cc2\")"
   ]
  },
  {
   "cell_type": "markdown",
   "id": "826d8b06-0b8e-4420-aa64-e4e1d5a9efb5",
   "metadata": {},
   "source": [
    "#### Examining specific curves"
   ]
  },
  {
   "cell_type": "code",
   "execution_count": 6,
   "id": "81c7e7a6-f39d-485f-8113-c497ff83b2da",
   "metadata": {},
   "outputs": [
    {
     "data": {
      "text/plain": [
       "ConstantProductCurve(k=3.845403938030023e+16, x=8434451122.601829, x_act=0, y_act=0.4559162766718673, pair='USDC-eB48/WETH-6Cc2', cid='1701411834604692317316873037158841057382-1', fee=0.002, descr='NaN', constr='carb', params={'exchange': 'carbon_v1', 'tknx_dec': 18, 'tkny_dec': 6, 'tknx_addr': '0xEeeeeEeeeEeEeeEeEeEeeEEEeeeeEeeeeeeeEEeE', 'tkny_addr': '0xA0b86991c6218b36c1d19D4a2e9Eb0cE3606eB48', 'blocklud': 17342093, 'y': 0.4559162766718673, 'yint': 0.4559162766718673, 'A': 0, 'B': 0.023249526586287494, 'pa': 0.0005405405405405376, 'pb': 0.0005405405405405376})"
      ]
     },
     "execution_count": 6,
     "metadata": {},
     "output_type": "execute_result"
    }
   ],
   "source": [
    "c = CCm.bycid0(\"7382-1\")[0]\n",
    "c"
   ]
  },
  {
   "cell_type": "code",
   "execution_count": 7,
   "id": "d478797d-f5d8-456f-b4fe-034ec84faea7",
   "metadata": {},
   "outputs": [
    {
     "data": {
      "text/plain": [
       "(0.000540540486486489,\n",
       " 0.0005405405945945916,\n",
       " 0.0005405405945945916,\n",
       " 1850.00018500001,\n",
       " 1849.9998150000288,\n",
       " 1849.9998150000288)"
      ]
     },
     "execution_count": 7,
     "metadata": {},
     "output_type": "execute_result"
    }
   ],
   "source": [
    "c.p_min, c.p_max, c.p, 1/c.p_min, 1/c.p_max, 1/c.p"
   ]
  },
  {
   "cell_type": "code",
   "execution_count": 8,
   "id": "66270f4e-6118-4fc7-b14d-ed39f535f3b3",
   "metadata": {},
   "outputs": [
    {
     "data": {
      "text/plain": [
       "(0.0005405405405405376,\n",
       " 0.0005405405405405376,\n",
       " 1850.00000000001,\n",
       " 1850.00000000001)"
      ]
     },
     "execution_count": 8,
     "metadata": {},
     "output_type": "execute_result"
    }
   ],
   "source": [
    "cp = c.params\n",
    "cp.pa, cp.pb, 1/cp.pa, 1/cp.pb"
   ]
  },
  {
   "cell_type": "code",
   "execution_count": 9,
   "id": "58895ad4-5985-4ca9-8564-28c92b02519a",
   "metadata": {},
   "outputs": [
    {
     "name": "stdout",
     "output_type": "stream",
     "text": [
      "cid      = 057382-1 [1701411834604692317316873037158841057382-1]\n",
      "primary  = WETH/USDC [WETH-6Cc2/USDC-eB48]\n",
      "pp       = 1,849.999815 USDC per WETH\n",
      "pair     = USDC/WETH [USDC-eB48/WETH-6Cc2]\n",
      "tknx     =             0.000000 USDC-eB48  [virtual:    8,434,451,122.602]\n",
      "tkny     =             0.455916 WETH-6Cc2  [virtual:        4,559,163.225]\n",
      "p        = 0.0005405405945945916 [min=0.000540540486486489, max=0.0005405405945945916] WETH-6Cc2 per USDC-eB48\n",
      "fee      = 0.002\n",
      "descr    = NaN\n",
      "\n"
     ]
    }
   ],
   "source": [
    "print(c.description())"
   ]
  },
  {
   "cell_type": "markdown",
   "id": "bae1c0be-ff42-4cb5-9045-f65c6ad98b24",
   "metadata": {},
   "source": [
    "## Header and metadata"
   ]
  },
  {
   "cell_type": "code",
   "execution_count": 10,
   "id": "736ea88d-676c-4aca-a0d6-442d071588c0",
   "metadata": {},
   "outputs": [
    {
     "name": "stdout",
     "output_type": "stream",
     "text": [
      "\n",
      "\n",
      "\n",
      "****************************************************************************************************\n",
      "****************************************************************************************************\n",
      "ARBITRAGE ANALYSIS RUN @ 2023-05-26T09:31:01Z [1685089861]\n",
      "****************************************************************************************************\n",
      "****************************************************************************************************\n"
     ]
    }
   ],
   "source": [
    "now = datetime.datetime.now()\n",
    "print(\"\\n\\n\")\n",
    "print(\"*\"*100)\n",
    "print(\"*\"*100)\n",
    "print(f\"ARBITRAGE ANALYSIS RUN @ {now.isoformat().split('.')[0]}Z [{int(now.timestamp())}]\")\n",
    "print(\"*\"*100)\n",
    "print(\"*\"*100)"
   ]
  },
  {
   "cell_type": "markdown",
   "id": "1e107912-43f1-4700-b88a-d3026af07000",
   "metadata": {},
   "source": [
    "## Read curves"
   ]
  },
  {
   "cell_type": "markdown",
   "id": "0f3b8b84-0ee3-4e6a-95fe-ad249d4a9b8d",
   "metadata": {},
   "source": [
    "### Read Carbon curves"
   ]
  },
  {
   "cell_type": "code",
   "execution_count": 11,
   "id": "1cf6de0d-a389-4a12-af78-9d33dd0258a3",
   "metadata": {
    "lines_to_next_cell": 2
   },
   "outputs": [],
   "source": [
    "#CCm     = CPCContainer.from_df(pd.read_csv(\"../data/A014-1684148163.csv.gz\"))\n",
    "CCc1_noexcl  = CCm.byparams(exchange=\"carbon_v1\")              # all Carbon positions\n",
    "CCnc1        = CCm.byparams(exchange=\"carbon_v1\", _inv=True)   # all non-Carbon positions"
   ]
  },
  {
   "cell_type": "markdown",
   "id": "48c5a634-769a-42bb-b7dc-4e0b5051b602",
   "metadata": {},
   "source": [
    "#### Remove curves"
   ]
  },
  {
   "cell_type": "code",
   "execution_count": 12,
   "id": "3e203360-42a2-4177-8392-07cad6b24860",
   "metadata": {},
   "outputs": [
    {
     "data": {
      "text/plain": [
       "ConstantProductCurve(k=1343185108526.0225, x=1090256.5698385532, x_act=0, y_act=50079.3888655038, pair='BNT-FF1C/vBNT-7f94', cid='4423670769972200025023869896612986749015-0', fee=0.002, descr='NaN', constr='carb', params={'exchange': 'carbon_v1', 'tknx_dec': 18, 'tkny_dec': 18, 'tknx_addr': '0x1F573D6Fb3F13d689FF844B4cE37794d79a7FF1C', 'tkny_addr': '0x48Fb253446873234F2fEBbF9BdeAA72d9d387f94', 'blocklud': 17342097, 'y': 50079.3888655038, 'yint': 50079.3888655038, 'A': 0.043210678554913784, 'B': 1.0198039027185501, 'pa': 1.129999999999998, 'pb': 1.039999999999986})"
      ]
     },
     "execution_count": 12,
     "metadata": {},
     "output_type": "execute_result"
    }
   ],
   "source": [
    "c = CCc1_noexcl.bycid0(\"749015-0\")[0]\n",
    "1/c.p_min, 1/c.p_max\n",
    "c"
   ]
  },
  {
   "cell_type": "code",
   "execution_count": 13,
   "id": "4a1ca0eb-482e-48f3-bcc2-7e063aa5a887",
   "metadata": {},
   "outputs": [
    {
     "data": {
      "text/plain": [
       "'4423670769972200025023869896612986749015-0'"
      ]
     },
     "execution_count": 13,
     "metadata": {},
     "output_type": "execute_result"
    }
   ],
   "source": [
    "c.cid"
   ]
  },
  {
   "cell_type": "code",
   "execution_count": 14,
   "id": "3c825d25-5dd4-4da0-9719-e2ac6bbe43ac",
   "metadata": {},
   "outputs": [
    {
     "data": {
      "text/plain": [
       "1685694661"
      ]
     },
     "execution_count": 14,
     "metadata": {},
     "output_type": "execute_result"
    }
   ],
   "source": [
    "seven_days_from_now = int(now.timestamp())+60*60*24*7\n",
    "seven_days_from_now"
   ]
  },
  {
   "cell_type": "code",
   "execution_count": 15,
   "id": "e5554ba0-33f6-4efe-ab7d-d83cf81de7d8",
   "metadata": {},
   "outputs": [],
   "source": [
    "exclusions0 = {\n",
    "    '1701411834604692317316873037158841057386-1': 1685428434, # very wide USDC-ETH curve; 23/May\n",
    "    '4423670769972200025023869896612986749015-0': 1685082834, # vBNT\n",
    "}"
   ]
  },
  {
   "cell_type": "code",
   "execution_count": 16,
   "id": "da8da763-e01b-478f-bf94-596f39cb4fb1",
   "metadata": {},
   "outputs": [],
   "source": [
    "exclusions = {cid for cid, ts in exclusions0.items() if now.timestamp() < ts}"
   ]
  },
  {
   "cell_type": "code",
   "execution_count": 17,
   "id": "544a1a44-2431-4ab9-9707-3be3249ca930",
   "metadata": {},
   "outputs": [
    {
     "data": {
      "text/plain": [
       "(100, 99)"
      ]
     },
     "execution_count": 17,
     "metadata": {},
     "output_type": "execute_result"
    }
   ],
   "source": [
    "CCc1 = CCc1_noexcl.bycids(exclude=exclusions)\n",
    "len(CCc1_noexcl), len(CCc1)"
   ]
  },
  {
   "cell_type": "code",
   "execution_count": 18,
   "id": "75a56dc7-6402-4886-84d5-194061105492",
   "metadata": {},
   "outputs": [
    {
     "name": "stdout",
     "output_type": "stream",
     "text": [
      "\n",
      "\n",
      "====================================================================================================\n",
      "REMOVED CURVES\n",
      "====================================================================================================\n",
      "1701411834604692317316873037158841057386-1 [for 3.9 days more]\n"
     ]
    }
   ],
   "source": [
    "print(\"\\n\\n\"+\"=\"*100)\n",
    "print(\"REMOVED CURVES\")\n",
    "print(\"=\"*100)\n",
    "for cid_ in exclusions:\n",
    "    print(f\"{cid_} [for {(exclusions0[cid_]-now.timestamp())/(60*60*24):3.1f} days more]\")"
   ]
  },
  {
   "cell_type": "markdown",
   "id": "fe5d92b1-cb4e-4ba7-a03e-5169cc3f705f",
   "metadata": {},
   "source": [
    "#### Create analyzer and pairs"
   ]
  },
  {
   "cell_type": "code",
   "execution_count": 19,
   "id": "d00567b2-b434-430c-8f2a-8e09703c8ee7",
   "metadata": {},
   "outputs": [],
   "source": [
    "CAc1 = CPCAnalyzer(CCc1)\n",
    "pairs  = CAc1.pairsc()"
   ]
  },
  {
   "cell_type": "markdown",
   "id": "f4cd5b56-e5a5-4a35-95d4-1671e6be5d46",
   "metadata": {},
   "source": [
    "### Read prices and create proxy curves"
   ]
  },
  {
   "cell_type": "markdown",
   "id": "53dbc356-48a9-4d6a-b10a-3683331a38a4",
   "metadata": {},
   "source": [
    "#### Preparations"
   ]
  },
  {
   "cell_type": "code",
   "execution_count": 20,
   "id": "dec9f209-6ffb-423f-ba0f-92ed84d4e80c",
   "metadata": {},
   "outputs": [
    {
     "data": {
      "text/plain": [
       "{'0x0-1AD5',\n",
       " 'ARB-4ad1',\n",
       " 'BNT-FF1C',\n",
       " 'CRETH2-dB64',\n",
       " 'CRV-cd52',\n",
       " 'CVX-9D2B',\n",
       " 'DAI-1d0F',\n",
       " 'DEXT-C75a',\n",
       " 'ETH2x_FLI-65BD',\n",
       " 'HEX-eb39',\n",
       " 'LBR-aCcA',\n",
       " 'LHINU-038d',\n",
       " 'LINK-86CA',\n",
       " 'LYXe-be6D',\n",
       " 'MATIC-eBB0',\n",
       " 'PAXG-Af78',\n",
       " 'PEPE-1933',\n",
       " 'RPL-A51f',\n",
       " 'SMT-7173',\n",
       " 'TSUKA-69eD',\n",
       " 'USDC-eB48',\n",
       " 'USDT-1ec7',\n",
       " 'WBTC-C599',\n",
       " 'WETH-6Cc2',\n",
       " 'XCHF-fc08',\n",
       " 'rETH-6393',\n",
       " 'stETH-fE84',\n",
       " 'vBNT-7f94'}"
      ]
     },
     "execution_count": 20,
     "metadata": {},
     "output_type": "execute_result"
    }
   ],
   "source": [
    "tokens0 = CAc1.tokens()\n",
    "tokens0"
   ]
  },
  {
   "cell_type": "code",
   "execution_count": 21,
   "id": "0337543f-733c-4197-a30b-d165fe73b9b6",
   "metadata": {},
   "outputs": [
    {
     "name": "stdout",
     "output_type": "stream",
     "text": [
      "\n",
      "\n",
      "====================================================================================================\n",
      "REMOVED TOKENS\n",
      "====================================================================================================\n"
     ]
    }
   ],
   "source": [
    "print(\"\\n\\n\"+\"=\"*100)\n",
    "print(\"REMOVED TOKENS\")\n",
    "print(\"=\"*100)"
   ]
  },
  {
   "cell_type": "code",
   "execution_count": 22,
   "id": "a2a9cfc5-f1ff-4d47-a81d-0f4fdc69c88d",
   "metadata": {},
   "outputs": [
    {
     "name": "stdout",
     "output_type": "stream",
     "text": [
      "{'0x0-1AD5', 'LBR-aCcA'}\n"
     ]
    }
   ],
   "source": [
    "REMOVED_TOKENS = {\"0x0-1AD5\", \"LBR-aCcA\"}\n",
    "print(REMOVED_TOKENS)"
   ]
  },
  {
   "cell_type": "code",
   "execution_count": 23,
   "id": "d7e8efc8-eb5a-45fd-ac73-9f3f1cc1c44b",
   "metadata": {
    "lines_to_next_cell": 2
   },
   "outputs": [
    {
     "name": "stdout",
     "output_type": "stream",
     "text": [
      "\n",
      "\n",
      "====================================================================================================\n",
      "TOKEN ADDRESSES\n",
      "====================================================================================================\n",
      "DAI-1d0F             0x6B175474E89094C44Da98b954EedeAC495271d0F\n",
      "CRETH2-dB64          0x49D72e3973900A195A155a46441F0C08179FdB64\n",
      "WBTC-C599            0x2260FAC5E5542a773Aa44fBCfeDf7C193bc2C599\n",
      "SMT-7173             0xB17548c7B510427baAc4e267BEa62e800b247173\n",
      "HEX-eb39             0x2b591e99afE9f32eAA6214f7B7629768c40Eeb39\n",
      "LHINU-038d           0xCeDefE438860D2789dA6419b3a19cEcE2A41038d\n",
      "XCHF-fc08            0xB4272071eCAdd69d933AdcD19cA99fe80664fc08\n",
      "LINK-86CA            0x514910771AF9Ca656af840dff83E8264EcF986CA\n",
      "TSUKA-69eD           0xc5fB36dd2fb59d3B98dEfF88425a3F425Ee469eD\n",
      "PEPE-1933            0x6982508145454Ce325dDbE47a25d4ec3d2311933\n",
      "RPL-A51f             0xD33526068D116cE69F19A9ee46F0bd304F21A51f\n",
      "BNT-FF1C             0x1F573D6Fb3F13d689FF844B4cE37794d79a7FF1C\n",
      "MATIC-eBB0           0x7D1AfA7B718fb893dB30A3aBc0Cfc608AaCfeBB0\n",
      "ARB-4ad1             0xB50721BCf8d664c30412Cfbc6cf7a15145234ad1\n",
      "CRV-cd52             0xD533a949740bb3306d119CC777fa900bA034cd52\n",
      "CVX-9D2B             0x4e3FBD56CD56c3e72c1403e103b45Db9da5B9D2B\n",
      "WETH-6Cc2            0xC02aaA39b223FE8D0A0e5C4F27eAD9083C756Cc2\n",
      "USDC-eB48            0xA0b86991c6218b36c1d19D4a2e9Eb0cE3606eB48\n",
      "stETH-fE84           0xae7ab96520DE3A18E5e111B5EaAb095312D7fE84\n",
      "USDT-1ec7            0xdAC17F958D2ee523a2206206994597C13D831ec7\n",
      "ETH2x_FLI-65BD       0xAa6E8127831c9DE45ae56bB1b0d4D4Da6e5665BD\n",
      "DEXT-C75a            0xfB7B4564402E5500dB5bB6d63Ae671302777C75a\n",
      "rETH-6393            0xae78736Cd615f374D3085123A210448E74Fc6393\n",
      "vBNT-7f94            0x48Fb253446873234F2fEBbF9BdeAA72d9d387f94\n",
      "LYXe-be6D            0xA8b919680258d369114910511cc87595aec0be6D\n",
      "PAXG-Af78            0x45804880De22913dAFE09f4980848ECE6EcbAf78\n"
     ]
    },
    {
     "data": {
      "text/plain": [
       "({'DAI-1d0F': '0x6B175474E89094C44Da98b954EedeAC495271d0F',\n",
       "  'CRETH2-dB64': '0x49D72e3973900A195A155a46441F0C08179FdB64',\n",
       "  'WBTC-C599': '0x2260FAC5E5542a773Aa44fBCfeDf7C193bc2C599',\n",
       "  'SMT-7173': '0xB17548c7B510427baAc4e267BEa62e800b247173',\n",
       "  'HEX-eb39': '0x2b591e99afE9f32eAA6214f7B7629768c40Eeb39',\n",
       "  'LHINU-038d': '0xCeDefE438860D2789dA6419b3a19cEcE2A41038d',\n",
       "  'XCHF-fc08': '0xB4272071eCAdd69d933AdcD19cA99fe80664fc08',\n",
       "  'LINK-86CA': '0x514910771AF9Ca656af840dff83E8264EcF986CA',\n",
       "  'TSUKA-69eD': '0xc5fB36dd2fb59d3B98dEfF88425a3F425Ee469eD',\n",
       "  'PEPE-1933': '0x6982508145454Ce325dDbE47a25d4ec3d2311933',\n",
       "  'RPL-A51f': '0xD33526068D116cE69F19A9ee46F0bd304F21A51f',\n",
       "  'BNT-FF1C': '0x1F573D6Fb3F13d689FF844B4cE37794d79a7FF1C',\n",
       "  'MATIC-eBB0': '0x7D1AfA7B718fb893dB30A3aBc0Cfc608AaCfeBB0',\n",
       "  'ARB-4ad1': '0xB50721BCf8d664c30412Cfbc6cf7a15145234ad1',\n",
       "  'CRV-cd52': '0xD533a949740bb3306d119CC777fa900bA034cd52',\n",
       "  'CVX-9D2B': '0x4e3FBD56CD56c3e72c1403e103b45Db9da5B9D2B',\n",
       "  'WETH-6Cc2': '0xC02aaA39b223FE8D0A0e5C4F27eAD9083C756Cc2',\n",
       "  'USDC-eB48': '0xA0b86991c6218b36c1d19D4a2e9Eb0cE3606eB48',\n",
       "  'stETH-fE84': '0xae7ab96520DE3A18E5e111B5EaAb095312D7fE84',\n",
       "  'USDT-1ec7': '0xdAC17F958D2ee523a2206206994597C13D831ec7',\n",
       "  'ETH2x_FLI-65BD': '0xAa6E8127831c9DE45ae56bB1b0d4D4Da6e5665BD',\n",
       "  'DEXT-C75a': '0xfB7B4564402E5500dB5bB6d63Ae671302777C75a',\n",
       "  'rETH-6393': '0xae78736Cd615f374D3085123A210448E74Fc6393',\n",
       "  'vBNT-7f94': '0x48Fb253446873234F2fEBbF9BdeAA72d9d387f94',\n",
       "  'LYXe-be6D': '0xA8b919680258d369114910511cc87595aec0be6D',\n",
       "  'PAXG-Af78': '0x45804880De22913dAFE09f4980848ECE6EcbAf78'},\n",
       " {'0x6b175474e89094c44da98b954eedeac495271d0f': 'DAI-1d0F',\n",
       "  '0x49d72e3973900a195a155a46441f0c08179fdb64': 'CRETH2-dB64',\n",
       "  '0x2260fac5e5542a773aa44fbcfedf7c193bc2c599': 'WBTC-C599',\n",
       "  '0xb17548c7b510427baac4e267bea62e800b247173': 'SMT-7173',\n",
       "  '0x2b591e99afe9f32eaa6214f7b7629768c40eeb39': 'HEX-eb39',\n",
       "  '0xcedefe438860d2789da6419b3a19cece2a41038d': 'LHINU-038d',\n",
       "  '0xb4272071ecadd69d933adcd19ca99fe80664fc08': 'XCHF-fc08',\n",
       "  '0x514910771af9ca656af840dff83e8264ecf986ca': 'LINK-86CA',\n",
       "  '0xc5fb36dd2fb59d3b98deff88425a3f425ee469ed': 'TSUKA-69eD',\n",
       "  '0x6982508145454ce325ddbe47a25d4ec3d2311933': 'PEPE-1933',\n",
       "  '0xd33526068d116ce69f19a9ee46f0bd304f21a51f': 'RPL-A51f',\n",
       "  '0x1f573d6fb3f13d689ff844b4ce37794d79a7ff1c': 'BNT-FF1C',\n",
       "  '0x7d1afa7b718fb893db30a3abc0cfc608aacfebb0': 'MATIC-eBB0',\n",
       "  '0xb50721bcf8d664c30412cfbc6cf7a15145234ad1': 'ARB-4ad1',\n",
       "  '0xd533a949740bb3306d119cc777fa900ba034cd52': 'CRV-cd52',\n",
       "  '0x4e3fbd56cd56c3e72c1403e103b45db9da5b9d2b': 'CVX-9D2B',\n",
       "  '0xc02aaa39b223fe8d0a0e5c4f27ead9083c756cc2': 'WETH-6Cc2',\n",
       "  '0xa0b86991c6218b36c1d19d4a2e9eb0ce3606eb48': 'USDC-eB48',\n",
       "  '0xae7ab96520de3a18e5e111b5eaab095312d7fe84': 'stETH-fE84',\n",
       "  '0xdac17f958d2ee523a2206206994597c13d831ec7': 'USDT-1ec7',\n",
       "  '0xaa6e8127831c9de45ae56bb1b0d4d4da6e5665bd': 'ETH2x_FLI-65BD',\n",
       "  '0xfb7b4564402e5500db5bb6d63ae671302777c75a': 'DEXT-C75a',\n",
       "  '0xae78736cd615f374d3085123a210448e74fc6393': 'rETH-6393',\n",
       "  '0x48fb253446873234f2febbf9bdeaa72d9d387f94': 'vBNT-7f94',\n",
       "  '0xa8b919680258d369114910511cc87595aec0be6d': 'LYXe-be6D',\n",
       "  '0x45804880de22913dafe09f4980848ece6ecbaf78': 'PAXG-Af78'})"
      ]
     },
     "execution_count": 23,
     "metadata": {},
     "output_type": "execute_result"
    }
   ],
   "source": [
    "tokens = tokens0 - REMOVED_TOKENS\n",
    "pairs  = CAc1.CC.filter_pairs(bothin=tokens)\n",
    "tokens_addr = {tkn: TA.a(tkn) for tkn in tokens}\n",
    "tokens_addrr = {v.lower():k for k,v in tokens_addr.items()}\n",
    "print(\"\\n\\n\"+\"=\"*100)\n",
    "print(\"TOKEN ADDRESSES\")\n",
    "print(\"=\"*100)\n",
    "for k,v in tokens_addr.items():\n",
    "    print(f\"{k:20} {v}\")\n",
    "tokens_addr, tokens_addrr"
   ]
  },
  {
   "cell_type": "markdown",
   "id": "47e691ba-8a93-4dbe-825f-9caca9999b13",
   "metadata": {},
   "source": [
    "#### CryptoCompare"
   ]
  },
  {
   "cell_type": "code",
   "execution_count": 24,
   "id": "debec7f5-3f77-440e-b381-30e49664492c",
   "metadata": {},
   "outputs": [
    {
     "data": {
      "text/plain": [
       "['DAI',\n",
       " 'CRETH2',\n",
       " 'WBTC',\n",
       " 'SMT',\n",
       " 'HEX',\n",
       " 'LHINU',\n",
       " 'XCHF',\n",
       " 'LINK',\n",
       " 'TSUKA',\n",
       " 'PEPE',\n",
       " 'RPL',\n",
       " 'BNT',\n",
       " 'MATIC',\n",
       " 'ARB',\n",
       " 'CRV',\n",
       " 'CVX',\n",
       " 'WETH',\n",
       " 'USDC',\n",
       " 'stETH',\n",
       " 'USDT',\n",
       " 'ETH2x_FLI',\n",
       " 'DEXT',\n",
       " 'rETH',\n",
       " 'vBNT',\n",
       " 'LYXe',\n",
       " 'PAXG']"
      ]
     },
     "execution_count": 24,
     "metadata": {},
     "output_type": "execute_result"
    }
   ],
   "source": [
    "tokens_cc = [Pair.n(x) for x in tokens]\n",
    "tokens_cc"
   ]
  },
  {
   "cell_type": "code",
   "execution_count": 25,
   "id": "c7cdc322-bbf8-4d9f-94bd-12738671ee68",
   "metadata": {},
   "outputs": [
    {
     "data": {
      "text/plain": [
       "{'DAI': 0.9999,\n",
       " 'WBTC': 26573.41,\n",
       " 'SMT': 0.0009693,\n",
       " 'HEX': 0.01632,\n",
       " 'XCHF': 1.005,\n",
       " 'LINK': 6.307,\n",
       " 'TSUKA': 0.0495,\n",
       " 'PEPE': 1.45e-06,\n",
       " 'RPL': 46.97,\n",
       " 'BNT': 0.4093,\n",
       " 'MATIC': 0.8986,\n",
       " 'ARB': 1.145,\n",
       " 'CRV': 0.8389,\n",
       " 'CVX': 4.454,\n",
       " 'WETH': 1811.54,\n",
       " 'USDC': 0.9999,\n",
       " 'STETH': 1816.54,\n",
       " 'USDT': 1.0,\n",
       " 'DEXT': 0.5233,\n",
       " 'RETH': 9e-06,\n",
       " 'LYXE': 10.73,\n",
       " 'PAXG': 1961.47}"
      ]
     },
     "execution_count": 25,
     "metadata": {},
     "output_type": "execute_result"
    }
   ],
   "source": [
    "token_prices_usd_cc = CryptoCompare(apikey=True, verbose=False).query_tokens(tokens_cc)\n",
    "token_prices_usd_cc"
   ]
  },
  {
   "cell_type": "code",
   "execution_count": 26,
   "id": "9b756bb8-0d0b-4ef7-bd76-a206f839b53b",
   "metadata": {},
   "outputs": [
    {
     "data": {
      "text/plain": [
       "{'CRETH2', 'ETH2x_FLI', 'LHINU', 'LYXe', 'rETH', 'stETH', 'vBNT'}"
      ]
     },
     "execution_count": 26,
     "metadata": {},
     "output_type": "execute_result"
    }
   ],
   "source": [
    "missing_cc = set(tokens_cc) - set(token_prices_usd_cc)\n",
    "missing_cc"
   ]
  },
  {
   "cell_type": "code",
   "execution_count": 27,
   "id": "1203d254-e659-4f6f-b847-f4eaee94b3a8",
   "metadata": {},
   "outputs": [
    {
     "name": "stdout",
     "output_type": "stream",
     "text": [
      "\n",
      "\n",
      "====================================================================================================\n",
      "PRICES BY PAIR (CRYPTOCOMPARE)\n",
      "====================================================================================================\n",
      "DAI/USDT                         0.999900\n",
      "PEPE/WETH                        0.000000\n",
      "CRETH2/WETH                           ---\n",
      "DEXT/USDC                        0.523352\n",
      "WBTC/USDC                   26,576.067607\n",
      "SMT/WETH                         0.000001\n",
      "PAXG/USDC                    1,961.666167\n",
      "CRV/CVX                          0.188348\n",
      "LINK/USDC                        6.307631\n",
      "ARB/MATIC                        1.274204\n",
      "HEX/WETH                         0.000009\n",
      "WBTC/USDT                   26,573.410000\n",
      "DAI/USDC                         1.000000\n",
      "WBTC/WETH                       14.668961\n",
      "RPL/XCHF                        46.736318\n",
      "CRV/USDC                         0.838984\n",
      "WETH/USDT                    1,811.540000\n",
      "USDT/USDC                        1.000100\n",
      "WETH/DAI                     1,811.721172\n",
      "rETH/WETH                        0.000000\n",
      "ETH2x_FLI/WETH                        ---\n",
      "vBNT/BNT                              ---\n",
      "vBNT/USDC                             ---\n",
      "WETH/USDC                    1,811.721172\n",
      "TSUKA/USDC                       0.049505\n",
      "LINK/USDT                        6.307000\n",
      "rETH/WBTC                        0.000000\n",
      "stETH/WETH                       1.002760\n",
      "LHINU/USDT                            ---\n",
      "BNT/USDC                         0.409341\n",
      "LYXe/USDC                       10.731073\n",
      "WETH/BNT                     4,425.946738\n"
     ]
    }
   ],
   "source": [
    "token_prices_usd = token_prices_usd_cc\n",
    "P0 = lambda tknb,tknq: token_prices_usd[tknb.upper()]/token_prices_usd[tknq.upper()]\n",
    "def P(pair):\n",
    "    try: \n",
    "        return P0(*Pair.n(pair).split(\"/\"))\n",
    "    except KeyError:\n",
    "        return None\n",
    "\n",
    "prices_by_pair = {pair: P(pair) for pair in pairs}\n",
    "prices_n_by_pair = {Pair.n(pair): p for pair, p in prices_by_pair.items()}\n",
    "print(\"\\n\\n\"+\"=\"*100)\n",
    "print(\"PRICES BY PAIR (CRYPTOCOMPARE)\")\n",
    "print(\"=\"*100)\n",
    "for k,v in prices_n_by_pair.items():\n",
    "    if not v is None:\n",
    "        print(f\"{k:20} {v:20,.6f}\")\n",
    "    else:\n",
    "        print(f\"{k:20}                  ---\")"
   ]
  },
  {
   "cell_type": "code",
   "execution_count": 28,
   "id": "260716b4-1ffc-4031-881f-3b7ee9d8583a",
   "metadata": {
    "lines_to_next_cell": 2
   },
   "outputs": [],
   "source": [
    "proxy_curves_cc = [\n",
    "    CPC.from_pk(p=price, pair=pair, k=1000, cid=cid(pair+\"CG\"), params=dict(exchange=\"ccomp\")) \n",
    "    for pair, price in prices_by_pair.items() if not price is None\n",
    "]\n",
    "#proxy_curves_cc"
   ]
  },
  {
   "cell_type": "code",
   "execution_count": 29,
   "id": "a25bdb92-8513-4db9-a3ef-80d2079224eb",
   "metadata": {},
   "outputs": [
    {
     "data": {
      "text/plain": [
       "<function __main__.<lambda>(pair)>"
      ]
     },
     "execution_count": 29,
     "metadata": {},
     "output_type": "execute_result"
    }
   ],
   "source": [
    "cid"
   ]
  },
  {
   "cell_type": "markdown",
   "id": "b28aeb40-2355-43cc-b58f-55c5b75f9762",
   "metadata": {},
   "source": [
    "#### CoinGecko"
   ]
  },
  {
   "cell_type": "code",
   "execution_count": 30,
   "id": "30b2fba7-7a58-483f-8dec-c0723e673452",
   "metadata": {},
   "outputs": [
    {
     "data": {
      "text/plain": [
       "{'PEPE-1933': 1.46e-06,\n",
       " 'RPL-A51f': 46.9,\n",
       " 'DEXT-C75a': 0.524366,\n",
       " 'HEX-eb39': 0.0163139,\n",
       " 'USDC-eB48': 0.999862,\n",
       " 'rETH-6393': 1946.85,\n",
       " 'USDT-1ec7': 1.0,\n",
       " 'MATIC-eBB0': 0.899172,\n",
       " 'BNT-FF1C': 0.410397,\n",
       " 'ARB-4ad1': 1.14,\n",
       " 'WBTC-C599': 26552,\n",
       " 'CRETH2-dB64': 0.324747,\n",
       " 'LYXe-be6D': 10.91,\n",
       " 'LHINU-038d': 0.00011033,\n",
       " 'SMT-7173': 0.059253,\n",
       " 'XCHF-fc08': 1.11,\n",
       " 'LINK-86CA': 6.31,\n",
       " 'CRV-cd52': 0.83842,\n",
       " 'DAI-1d0F': 0.999884,\n",
       " 'stETH-fE84': 1813.76,\n",
       " 'WETH-6Cc2': 1814.75,\n",
       " 'vBNT-7f94': 0.304342,\n",
       " 'ETH2x_FLI-65BD': 11.68,\n",
       " 'PAXG-Af78': 1971.63,\n",
       " 'CVX-9D2B': 4.45,\n",
       " 'TSUKA-69eD': 0.04953971}"
      ]
     },
     "execution_count": 30,
     "metadata": {},
     "output_type": "execute_result"
    }
   ],
   "source": [
    "addr_s = \",\".join(x for x in tokens_addr.values())\n",
    "url = \"https://api.coingecko.com/api/v3/simple/token_price/ethereum\"\n",
    "params = dict(contract_addresses=addr_s, vs_currencies=\"usd\")\n",
    "r = requests.get(url, params=params)\n",
    "token_prices_usd_cg_raw = {tokens_addrr[k]: v[\"usd\"] for k,v in r.json().items()}\n",
    "token_prices_usd_cg = {Pair.n(tokens_addrr[k]).upper(): v[\"usd\"] for k,v in r.json().items()}\n",
    "token_prices_usd_cg_raw"
   ]
  },
  {
   "cell_type": "code",
   "execution_count": 31,
   "id": "d3acbe34-77f5-48ad-a13c-bf77237987b9",
   "metadata": {},
   "outputs": [
    {
     "data": {
      "text/plain": [
       "set()"
      ]
     },
     "execution_count": 31,
     "metadata": {},
     "output_type": "execute_result"
    }
   ],
   "source": [
    "missing_cg = set(tokens_addr) - set(token_prices_usd_cg_raw)\n",
    "missing_cg"
   ]
  },
  {
   "cell_type": "code",
   "execution_count": 32,
   "id": "b9d754a9-1d90-4ca9-a642-82649c1d2ce9",
   "metadata": {},
   "outputs": [
    {
     "name": "stdout",
     "output_type": "stream",
     "text": [
      "\n",
      "\n",
      "====================================================================================================\n",
      "PRICES BY PAIR (COINGECKO)\n",
      "====================================================================================================\n",
      "DAI/USDT                         0.999884\n",
      "PEPE/WETH                        0.000000\n",
      "CRETH2/WETH                      0.000179\n",
      "DEXT/USDC                        0.524438\n",
      "WBTC/USDC                   26,555.664682\n",
      "SMT/WETH                         0.000033\n",
      "PAXG/USDC                    1,971.902122\n",
      "CRV/CVX                          0.188409\n",
      "LINK/USDC                        6.310871\n",
      "ARB/MATIC                        1.267833\n",
      "HEX/WETH                         0.000009\n",
      "WBTC/USDT                   26,552.000000\n",
      "DAI/USDC                         1.000022\n",
      "WBTC/WETH                       14.631216\n",
      "RPL/XCHF                        42.252252\n",
      "CRV/USDC                         0.838536\n",
      "WETH/USDT                    1,814.750000\n",
      "USDT/USDC                        1.000138\n",
      "WETH/DAI                     1,814.960535\n",
      "rETH/WETH                        1.072792\n",
      "ETH2x_FLI/WETH                   0.006436\n",
      "vBNT/BNT                         0.741579\n",
      "vBNT/USDC                        0.304384\n",
      "WETH/USDC                    1,815.000470\n",
      "TSUKA/USDC                       0.049547\n",
      "LINK/USDT                        6.310000\n",
      "rETH/WBTC                        0.073322\n",
      "stETH/WETH                       0.999454\n",
      "LHINU/USDT                       0.000110\n",
      "BNT/USDC                         0.410454\n",
      "LYXe/USDC                       10.911506\n",
      "WETH/BNT                     4,421.937782\n"
     ]
    }
   ],
   "source": [
    "token_prices_usd = token_prices_usd_cg\n",
    "P0 = lambda tknb,tknq: token_prices_usd[tknb.upper()]/token_prices_usd[tknq.upper()]\n",
    "def P(pair):\n",
    "    try: \n",
    "        return P0(*Pair.n(pair).split(\"/\"))\n",
    "    except KeyError:\n",
    "        return None\n",
    "\n",
    "prices_by_pair = {pair: P(pair) for pair in pairs}\n",
    "prices_n_by_pair = {Pair.n(pair): p for pair, p in prices_by_pair.items()}\n",
    "print(\"\\n\\n\"+\"=\"*100)\n",
    "print(\"PRICES BY PAIR (COINGECKO)\")\n",
    "print(\"=\"*100)\n",
    "for k,v in prices_n_by_pair.items():\n",
    "    if not v is None:\n",
    "        print(f\"{k:20} {v:20,.6f}\")\n",
    "    else:\n",
    "        print(f\"{k:20}                  ---\")"
   ]
  },
  {
   "cell_type": "code",
   "execution_count": 33,
   "id": "7e45ffbf-0453-476f-b73e-2062c0d77d58",
   "metadata": {
    "lines_to_next_cell": 2
   },
   "outputs": [],
   "source": [
    "proxy_curves_cg = [\n",
    "    CPC.from_pk(p=price, pair=pair, k=1000, cid=cid(pair+\"CG\"), params=dict(exchange=\"cgecko\")) \n",
    "    for pair, price in prices_by_pair.items() if not price is None\n",
    "]\n",
    "#proxy_curves_cg"
   ]
  },
  {
   "cell_type": "markdown",
   "id": "b4afc6b7",
   "metadata": {},
   "source": [
    "#### Assembly"
   ]
  },
  {
   "cell_type": "code",
   "execution_count": 34,
   "id": "b534465c-ee0e-42b4-a324-92c998db7761",
   "metadata": {},
   "outputs": [
    {
     "name": "stdout",
     "output_type": "stream",
     "text": [
      "CAfull:  158 entries\n",
      "CAnc1:    42 entries\n"
     ]
    }
   ],
   "source": [
    "# CCother = CCu3.bypairs(CCc1.pairs())\n",
    "CCcg = CPCContainer(proxy_curves_cg)\n",
    "CCcc = CPCContainer(proxy_curves_cc)\n",
    "CCfull = CCc1.copy().add(CCcg).add(CCcc)\n",
    "#CAother = CPCAnalyzer(CCother)\n",
    "CAfull = CPCAnalyzer(CCfull)\n",
    "CAnc1  = CPCAnalyzer(CCnc1)\n",
    "print(f\"CAfull: {len(CAfull.CC):4} entries\")\n",
    "print(f\"CAnc1:  {len(CAnc1.CC):4} entries\")"
   ]
  },
  {
   "cell_type": "markdown",
   "id": "3b6dbb80-b154-43d9-8068-239a275804b6",
   "metadata": {},
   "source": [
    "## By-pair data for Carbon"
   ]
  },
  {
   "cell_type": "markdown",
   "id": "9769fe97-be8b-469a-bbea-cc13af1ac848",
   "metadata": {},
   "source": [
    "### Count by pairs"
   ]
  },
  {
   "cell_type": "code",
   "execution_count": 35,
   "id": "8e902de8-cd75-477b-8577-2cc4b10346e1",
   "metadata": {},
   "outputs": [
    {
     "name": "stdout",
     "output_type": "stream",
     "text": [
      "\n",
      "\n",
      "====================================================================================================\n",
      "AVAILABLE PAIRS (CARBON AND OTHER)\n",
      "====================================================================================================\n",
      "                         carbon other\n",
      "pair                                 \n",
      "0x0-1AD5/WETH-6Cc2            2      \n",
      "ARB-4ad1/MATIC-eBB0           2      \n",
      "ARB-4ad1/WETH-6Cc2                  1\n",
      "BNT-FF1C/USDC-eB48            3     1\n",
      "CRETH2-dB64/WETH-6Cc2         2     1\n",
      "CRV-cd52/CVX-9D2B             2      \n",
      "CRV-cd52/USDC-eB48            2     1\n",
      "CRV-cd52/WETH-6Cc2                  1\n",
      "CVX-9D2B/USDC-eB48                  1\n",
      "CVX-9D2B/WETH-6Cc2                  1\n",
      "DAI-1d0F/USDC-eB48            3     2\n",
      "DAI-1d0F/USDT-1ec7            2     2\n",
      "DEXT-C75a/USDC-eB48           2      \n",
      "DEXT-C75a/WETH-6Cc2                 1\n",
      "ETH2x_FLI-65BD/WETH-6Cc2      1     1\n",
      "HEX-eb39/USDC-eB48                  1\n",
      "HEX-eb39/WETH-6Cc2            2      \n",
      "LBR-aCcA/WETH-6Cc2            1      \n",
      "LHINU-038d/USDT-1ec7          1      \n",
      "LHINU-038d/WETH-6Cc2                1\n",
      "LINK-86CA/USDC-eB48           1     1\n",
      "LINK-86CA/USDT-1ec7           2     1\n",
      "LYXe-be6D/USDC-eB48           1     1\n",
      "MATIC-eBB0/WETH-6Cc2                1\n",
      "PAXG-Af78/USDC-eB48           1     1\n",
      "PEPE-1933/USDC-eB48                 1\n",
      "PEPE-1933/WETH-6Cc2           2     1\n",
      "RPL-A51f/WETH-6Cc2                  1\n",
      "RPL-A51f/XCHF-fc08            1      \n",
      "SMT-7173/WETH-6Cc2            1     1\n",
      "Silo-B1f8/USDC-eB48                 1\n",
      "TSUKA-69eD/USDC-eB48          1     1\n",
      "USDT-1ec7/USDC-eB48           5     2\n",
      "WBTC-C599/USDC-eB48           4     1\n",
      "WBTC-C599/USDT-1ec7           1     1\n",
      "WBTC-C599/WETH-6Cc2           4     1\n",
      "WETH-6Cc2/BNT-FF1C            8     1\n",
      "WETH-6Cc2/DAI-1d0F            1     1\n",
      "WETH-6Cc2/USDC-eB48          21     2\n",
      "WETH-6Cc2/USDT-1ec7           2     1\n",
      "XCHF-fc08/WETH-6Cc2                 1\n",
      "eRSDL-D3A6/WETH-6Cc2                1\n",
      "rETH-6393/WBTC-C599           1      \n",
      "rETH-6393/WETH-6Cc2           5     2\n",
      "stETH-fE84/WETH-6Cc2          2     1\n",
      "vBNT-7f94/BNT-FF1C            9     1\n",
      "vBNT-7f94/USDC-eB48           1      \n"
     ]
    }
   ],
   "source": [
    "dfc1 = CAc1.count_by_pairs().rename(columns=dict(count=\"carbon\")).astype(str)\n",
    "dfnc1 = CAnc1.count_by_pairs().rename(columns=dict(count=\"other\")).astype(str)\n",
    "print(\"\\n\\n\"+\"=\"*100)\n",
    "print(\"AVAILABLE PAIRS (CARBON AND OTHER)\")\n",
    "print(\"=\"*100)\n",
    "df = pd.concat([dfc1, dfnc1], axis=1).fillna(\"\").sort_index()\n",
    "print(df)\n",
    "pairs_df = df\n",
    "#df"
   ]
  },
  {
   "cell_type": "code",
   "execution_count": 36,
   "id": "e5aec7f2-f24a-43f0-87d2-9d13d558d73a",
   "metadata": {},
   "outputs": [
    {
     "name": "stdout",
     "output_type": "stream",
     "text": [
      "\n",
      "\n",
      "====================================================================================================\n",
      "CARBON PAIRS NOT MATCHED\n",
      "====================================================================================================\n",
      "                     carbon other\n",
      "pair                             \n",
      "0x0-1AD5/WETH-6Cc2        2      \n",
      "ARB-4ad1/MATIC-eBB0       2      \n",
      "CRV-cd52/CVX-9D2B         2      \n",
      "DEXT-C75a/USDC-eB48       2      \n",
      "HEX-eb39/WETH-6Cc2        2      \n",
      "LBR-aCcA/WETH-6Cc2        1      \n",
      "LHINU-038d/USDT-1ec7      1      \n",
      "RPL-A51f/XCHF-fc08        1      \n",
      "rETH-6393/WBTC-C599       1      \n",
      "vBNT-7f94/USDC-eB48       1      \n"
     ]
    }
   ],
   "source": [
    "dfc1 = CAc1.count_by_pairs().rename(columns=dict(count=\"carbon\")).astype(str)\n",
    "dfnc1 = CAnc1.count_by_pairs().rename(columns=dict(count=\"other\")).astype(str)\n",
    "print(\"\\n\\n\"+\"=\"*100)\n",
    "print(\"CARBON PAIRS NOT MATCHED\")\n",
    "print(\"=\"*100)\n",
    "print(df[df[\"other\"]==\"\"])"
   ]
  },
  {
   "cell_type": "code",
   "execution_count": 37,
   "id": "a80b5cbb-6278-4d5d-8813-018e246bb59f",
   "metadata": {},
   "outputs": [
    {
     "name": "stdout",
     "output_type": "stream",
     "text": [
      "\n",
      "\n",
      "====================================================================================================\n",
      "OTHER PAIRS WITH NO CARBON\n",
      "====================================================================================================\n",
      "                     carbon other\n",
      "pair                             \n",
      "ARB-4ad1/WETH-6Cc2              1\n",
      "CRV-cd52/WETH-6Cc2              1\n",
      "CVX-9D2B/USDC-eB48              1\n",
      "CVX-9D2B/WETH-6Cc2              1\n",
      "DEXT-C75a/WETH-6Cc2             1\n",
      "HEX-eb39/USDC-eB48              1\n",
      "LHINU-038d/WETH-6Cc2            1\n",
      "MATIC-eBB0/WETH-6Cc2            1\n",
      "PEPE-1933/USDC-eB48             1\n",
      "RPL-A51f/WETH-6Cc2              1\n",
      "Silo-B1f8/USDC-eB48             1\n",
      "XCHF-fc08/WETH-6Cc2             1\n",
      "eRSDL-D3A6/WETH-6Cc2            1\n"
     ]
    }
   ],
   "source": [
    "dfc1 = CAc1.count_by_pairs().rename(columns=dict(count=\"carbon\")).astype(str)\n",
    "dfnc1 = CAnc1.count_by_pairs().rename(columns=dict(count=\"other\")).astype(str)\n",
    "print(\"\\n\\n\"+\"=\"*100)\n",
    "print(\"OTHER PAIRS WITH NO CARBON\")\n",
    "print(\"=\"*100)\n",
    "print(df[df[\"carbon\"]==\"\"])"
   ]
  },
  {
   "cell_type": "code",
   "execution_count": 38,
   "id": "a5d5d7b9-8f2c-4db8-a16e-879d5b0ee9b0",
   "metadata": {},
   "outputs": [
    {
     "name": "stdout",
     "output_type": "stream",
     "text": [
      "\n",
      "\n",
      "                    CARBON     CGECKO   CCOMP\n",
      "Pairs:                  32         32      27\n",
      "Tokens:                 26         26      22\n",
      "Curves:                 99         32      27\n"
     ]
    }
   ],
   "source": [
    "print(\"\\n\\n                    CARBON     CGECKO   CCOMP\")\n",
    "print(f\"Pairs:                {len(pairs):4}    {len(CCcg.pairs()):7} {len(CCcc.pairs()):7}\")\n",
    "print(f\"Tokens:               {len(tokens):4}    {len(CCcg.tokens()):7} {len(CCcc.tokens()):7}\")\n",
    "print(f\"Curves:               {len(CAc1.CC):4}    {len(CCcg):7} {len(CCcc):7}\")"
   ]
  },
  {
   "cell_type": "markdown",
   "id": "a07ee661-1610-4f50-9e84-7a2a27b3018f",
   "metadata": {},
   "source": [
    "### Calculate by-pair statistics"
   ]
  },
  {
   "cell_type": "code",
   "execution_count": 39,
   "id": "ebdd5b8c-9f93-4319-8ebb-1af3a91b442d",
   "metadata": {},
   "outputs": [
    {
     "name": "stdout",
     "output_type": "stream",
     "text": [
      "\n",
      "\n",
      "\n",
      "****************************************************************************************************\n",
      "BY-PAIR DATA\n",
      "****************************************************************************************************\n"
     ]
    }
   ],
   "source": [
    "print(\"\\n\\n\")\n",
    "print(\"*\"*100)\n",
    "print(f\"BY-PAIR DATA\")\n",
    "print(\"*\"*100)"
   ]
  },
  {
   "cell_type": "code",
   "execution_count": 40,
   "id": "5b8b206a-460e-4d9d-87f8-794cb23c2912",
   "metadata": {},
   "outputs": [],
   "source": [
    "pasdf    = CAfull.pool_arbitrage_statistics()\n",
    "pasnc1df = CAnc1.pool_arbitrage_statistics(only_pairs_with_carbon=False)"
   ]
  },
  {
   "cell_type": "markdown",
   "id": "bd982bda-5ab7-4e3c-a6f4-7a647cc3218d",
   "metadata": {},
   "source": [
    "### Print by-pair statistics"
   ]
  },
  {
   "cell_type": "code",
   "execution_count": 41,
   "id": "edf3f14b-3115-47af-83a5-7eb3a7854c55",
   "metadata": {},
   "outputs": [
    {
     "name": "stdout",
     "output_type": "stream",
     "text": [
      "\n",
      "\n",
      "====================================================================================================\n",
      "Pair = DAI-1d0F/USDT-1ec7\n",
      "====================================================================================================\n",
      "\n",
      "--- ALL CARBON AND REFERENCE POSITIONS ---\n",
      "                       price         vl itm  b  s                               bsv\n",
      "exchange  cid0                                                                     \n",
      "carbon_v1 268742-0  0.995000  20.100501      b          buy-DAI @ 1.00 USDT per DAI\n",
      "cgecko    e50e04c1  0.999884  63.249222      b  s  buy-sell-DAI @ 1.00 USDT per DAI\n",
      "ccomp     e50e04c1  0.999900  63.248716      b  s  buy-sell-DAI @ 1.00 USDT per DAI\n",
      "carbon_v1 268742-1  1.005000  20.000000         s      sell-DAI @ 1.00 USDT per DAI\n",
      "\n",
      "--- IN-THE-MONEY POSITIONS ---\n",
      "-None-\n",
      "\n",
      "--- ALL NON-CARBON POSITIONS ---\n",
      "                        price             vl itm  b  s                               bsv\n",
      "exchange   cid0                                                                         \n",
      "uniswap_v3 d32c192e  0.999891  160200.932541      b  s  buy-sell-DAI @ 1.00 USDT per DAI\n",
      "           6e83e219  0.999978   64932.025074      b  s  buy-sell-DAI @ 1.00 USDT per DAI\n",
      "\n",
      "\n",
      "\n",
      "====================================================================================================\n",
      "Pair = PEPE-1933/WETH-6Cc2\n",
      "====================================================================================================\n",
      "\n",
      "--- ALL CARBON AND REFERENCE POSITIONS ---\n",
      "                           price            vl itm  b  s                                 bsv\n",
      "exchange  cid0                                                                              \n",
      "ccomp     3d326862  8.004239e-10  2.235476e+06      b  s  buy-sell-PEPE @ 0.00 WETH per PEPE\n",
      "cgecko    3d326862  8.045185e-10  2.229780e+06      b  s  buy-sell-PEPE @ 0.00 WETH per PEPE\n",
      "carbon_v1 440620-1  4.000000e-07  7.144675e+06         s      sell-PEPE @ 0.00 WETH per PEPE\n",
      "          440621-1  4.500000e-07  1.315789e+06         s      sell-PEPE @ 0.00 WETH per PEPE\n",
      "\n",
      "--- IN-THE-MONEY POSITIONS ---\n",
      "-None-\n",
      "\n",
      "--- ALL NON-CARBON POSITIONS ---\n",
      "                            price            vl itm  b  s                                 bsv\n",
      "exchange   cid0                                                                              \n",
      "uniswap_v3 7d733cc6  8.001462e-10  6.277682e+10      b  s  buy-sell-PEPE @ 0.00 WETH per PEPE\n",
      "\n",
      "\n",
      "\n",
      "====================================================================================================\n",
      "Pair = CRETH2-dB64/WETH-6Cc2\n",
      "====================================================================================================\n",
      "\n",
      "--- ALL CARBON AND REFERENCE POSITIONS ---\n",
      "                       price           vl itm  b  s                                     bsv\n",
      "exchange  cid0                                                                             \n",
      "cgecko    07ab43a5  0.000179  4727.873243   x  b  s  buy-sell-CRETH2 @ 0.00 WETH per CRETH2\n",
      "carbon_v1 092712-1  0.990099     6.029913   x  b          buy-CRETH2 @ 0.99 WETH per CRETH2\n",
      "          092712-0  1.000000     0.004975         s      sell-CRETH2 @ 1.00 WETH per CRETH2\n",
      "\n",
      "--- IN-THE-MONEY POSITIONS ---\n",
      "                       price           vl itm  b  s                                     bsv\n",
      "exchange  cid0                                                                             \n",
      "cgecko    07ab43a5  0.000179  4727.873243   x  b  s  buy-sell-CRETH2 @ 0.00 WETH per CRETH2\n",
      "carbon_v1 092712-1  0.990099     6.029913   x  b          buy-CRETH2 @ 0.99 WETH per CRETH2\n",
      "\n",
      "--- ALL NON-CARBON POSITIONS ---\n",
      "                        price         vl itm  b  s                                     bsv\n",
      "exchange   cid0                                                                           \n",
      "uniswap_v3 37e9ff2c  1.014114  74.856176      b  s  buy-sell-CRETH2 @ 1.01 WETH per CRETH2\n",
      "\n",
      "\n",
      "\n",
      "====================================================================================================\n",
      "Pair = DEXT-C75a/USDC-eB48\n",
      "====================================================================================================\n",
      "\n",
      "--- ALL CARBON AND REFERENCE POSITIONS ---\n",
      "                       price          vl itm  b  s                                 bsv\n",
      "exchange  cid0                                                                        \n",
      "ccomp     67f38bb6  0.523352   87.424451   x  b  s  buy-sell-DEXT @ 0.52 USDC per DEXT\n",
      "cgecko    67f38bb6  0.524438   87.333882   x  b  s  buy-sell-DEXT @ 0.52 USDC per DEXT\n",
      "carbon_v1 669784-0  0.600000    2.500000   x  b          buy-DEXT @ 0.60 USDC per DEXT\n",
      "          669784-1  0.635000  414.166668         s      sell-DEXT @ 0.63 USDC per DEXT\n",
      "\n",
      "--- IN-THE-MONEY POSITIONS ---\n",
      "                       price         vl itm  b  s                                 bsv\n",
      "exchange  cid0                                                                       \n",
      "ccomp     67f38bb6  0.523352  87.424451   x  b  s  buy-sell-DEXT @ 0.52 USDC per DEXT\n",
      "cgecko    67f38bb6  0.524438  87.333882   x  b  s  buy-sell-DEXT @ 0.52 USDC per DEXT\n",
      "carbon_v1 669784-0  0.600000   2.500000   x  b          buy-DEXT @ 0.60 USDC per DEXT\n",
      "\n",
      "--- ALL NON-CARBON POSITIONS ---\n",
      "-None-\n",
      "\n",
      "\n",
      "\n",
      "====================================================================================================\n",
      "Pair = WBTC-C599/USDC-eB48\n",
      "====================================================================================================\n",
      "\n",
      "--- ALL CARBON AND REFERENCE POSITIONS ---\n",
      "                           price        vl itm  b  s                                     bsv\n",
      "exchange  cid0                                                                              \n",
      "carbon_v1 537571-0  26000.000000  0.167978      b          buy-WBTC @ 26000.00 USDC per WBTC\n",
      "cgecko    2e4fabcb  26555.664682  0.388107   x  b  s  buy-sell-WBTC @ 26555.66 USDC per WBTC\n",
      "ccomp     2e4fabcb  26576.067607  0.387958   x  b  s  buy-sell-WBTC @ 26576.07 USDC per WBTC\n",
      "carbon_v1 537493-0  27075.760726  0.018160   x  b          buy-WBTC @ 27075.76 USDC per WBTC\n",
      "          537579-1  27933.000000  0.060000         s      sell-WBTC @ 27933.00 USDC per WBTC\n",
      "          537493-1  28840.000000  0.028274         s      sell-WBTC @ 28840.00 USDC per WBTC\n",
      "\n",
      "--- IN-THE-MONEY POSITIONS ---\n",
      "                           price        vl itm  b  s                                     bsv\n",
      "exchange  cid0                                                                              \n",
      "cgecko    2e4fabcb  26555.664682  0.388107   x  b  s  buy-sell-WBTC @ 26555.66 USDC per WBTC\n",
      "ccomp     2e4fabcb  26576.067607  0.387958   x  b  s  buy-sell-WBTC @ 26576.07 USDC per WBTC\n",
      "carbon_v1 537493-0  27075.760726  0.018160   x  b          buy-WBTC @ 27075.76 USDC per WBTC\n",
      "\n",
      "--- ALL NON-CARBON POSITIONS ---\n",
      "                            price          vl itm  b  s                                     bsv\n",
      "exchange   cid0                                                                                \n",
      "uniswap_v3 a527b959  26498.216838  220.958497      b  s  buy-sell-WBTC @ 26498.22 USDC per WBTC\n",
      "\n",
      "\n",
      "\n",
      "====================================================================================================\n",
      "Pair = SMT-7173/WETH-6Cc2\n",
      "====================================================================================================\n",
      "\n",
      "--- ALL CARBON AND REFERENCE POSITIONS ---\n",
      "                           price             vl itm  b  s                               bsv\n",
      "exchange  cid0                                                                             \n",
      "ccomp     aba3bb9b  5.350696e-07   86461.915601   x  b  s  buy-sell-SMT @ 0.00 WETH per SMT\n",
      "cgecko    aba3bb9b  3.265078e-05   11068.358730   x  b  s  buy-sell-SMT @ 0.00 WETH per SMT\n",
      "carbon_v1 343738-1  8.000000e-05  200000.000000         s      sell-SMT @ 0.00 WETH per SMT\n",
      "\n",
      "--- IN-THE-MONEY POSITIONS ---\n",
      "                          price            vl itm  b  s                               bsv\n",
      "exchange cid0                                                                            \n",
      "ccomp    aba3bb9b  5.350696e-07  86461.915601   x  b  s  buy-sell-SMT @ 0.00 WETH per SMT\n",
      "cgecko   aba3bb9b  3.265078e-05  11068.358730   x  b  s  buy-sell-SMT @ 0.00 WETH per SMT\n",
      "\n",
      "--- ALL NON-CARBON POSITIONS ---\n",
      "                        price           vl itm  b  s                               bsv\n",
      "exchange   cid0                                                                       \n",
      "uniswap_v3 3a9dd559  0.000033  4692.651533      b  s  buy-sell-SMT @ 0.00 WETH per SMT\n",
      "\n",
      "\n",
      "\n",
      "====================================================================================================\n",
      "Pair = PAXG-Af78/USDC-eB48\n",
      "====================================================================================================\n",
      "\n",
      "--- ALL CARBON AND REFERENCE POSITIONS ---\n",
      "                          price        vl itm  b  s                                    bsv\n",
      "exchange  cid0                                                                            \n",
      "ccomp     9baacb31  1961.666167  1.427965      b  s  buy-sell-PAXG @ 1961.67 USDC per PAXG\n",
      "cgecko    9baacb31  1971.902122  1.424254      b  s  buy-sell-PAXG @ 1971.90 USDC per PAXG\n",
      "carbon_v1 515620-1  2000.000000  0.999796         s      sell-PAXG @ 2000.00 USDC per PAXG\n",
      "\n",
      "--- IN-THE-MONEY POSITIONS ---\n",
      "-None-\n",
      "\n",
      "--- ALL NON-CARBON POSITIONS ---\n",
      "                           price           vl itm  b  s                                    bsv\n",
      "exchange   cid0                                                                               \n",
      "uniswap_v2 7cace0d4  1985.062769  2075.076569      b  s  buy-sell-PAXG @ 1985.06 USDC per PAXG\n",
      "\n",
      "\n",
      "\n",
      "====================================================================================================\n",
      "Pair = CRV-cd52/CVX-9D2B\n",
      "====================================================================================================\n",
      "\n",
      "--- ALL CARBON AND REFERENCE POSITIONS ---\n",
      "                       price            vl itm  b  s                              bsv\n",
      "exchange  cid0                                                                       \n",
      "carbon_v1 361457-1  0.153846  28763.636005      b          buy-CRV @ 0.15 CVX per CRV\n",
      "ccomp     4d3fd295  0.188348    145.730349      b  s  buy-sell-CRV @ 0.19 CVX per CRV\n",
      "cgecko    4d3fd295  0.188409    145.706587      b  s  buy-sell-CRV @ 0.19 CVX per CRV\n",
      "carbon_v1 361457-0  0.250000    963.643903         s      sell-CRV @ 0.25 CVX per CRV\n",
      "\n",
      "--- IN-THE-MONEY POSITIONS ---\n",
      "-None-\n",
      "\n",
      "--- ALL NON-CARBON POSITIONS ---\n",
      "-None-\n",
      "\n",
      "\n",
      "\n",
      "====================================================================================================\n",
      "Pair = LINK-86CA/USDC-eB48\n",
      "====================================================================================================\n",
      "\n",
      "--- ALL CARBON AND REFERENCE POSITIONS ---\n",
      "                       price          vl itm  b  s                                 bsv\n",
      "exchange  cid0                                                                        \n",
      "ccomp     95d4f2fc  6.307631   25.182385      b  s  buy-sell-LINK @ 6.31 USDC per LINK\n",
      "cgecko    95d4f2fc  6.310871   25.175920      b  s  buy-sell-LINK @ 6.31 USDC per LINK\n",
      "carbon_v1 497903-1  7.750000  342.883761         s      sell-LINK @ 7.75 USDC per LINK\n",
      "\n",
      "--- IN-THE-MONEY POSITIONS ---\n",
      "-None-\n",
      "\n",
      "--- ALL NON-CARBON POSITIONS ---\n",
      "                        price          vl itm  b  s                                 bsv\n",
      "exchange   cid0                                                                        \n",
      "uniswap_v3 b78a6b7c  6.269596  336.890849      b  s  buy-sell-LINK @ 6.27 USDC per LINK\n",
      "\n",
      "\n",
      "\n",
      "====================================================================================================\n",
      "Pair = ARB-4ad1/MATIC-eBB0\n",
      "====================================================================================================\n",
      "\n",
      "--- ALL CARBON AND REFERENCE POSITIONS ---\n",
      "                       price          vl itm  b  s                                bsv\n",
      "exchange  cid0                                                                       \n",
      "cgecko    91a9fe92  1.267833   56.169293   x  b  s  buy-sell-ARB @ 1.27 MATIC per ARB\n",
      "ccomp     91a9fe92  1.274204   56.028689   x  b  s  buy-sell-ARB @ 1.27 MATIC per ARB\n",
      "carbon_v1 806240-1  1.428571  141.806023   x  b          buy-ARB @ 1.43 MATIC per ARB\n",
      "          806240-0  1.507045   12.760538         s      sell-ARB @ 1.51 MATIC per ARB\n",
      "\n",
      "--- IN-THE-MONEY POSITIONS ---\n",
      "                       price          vl itm  b  s                                bsv\n",
      "exchange  cid0                                                                       \n",
      "cgecko    91a9fe92  1.267833   56.169293   x  b  s  buy-sell-ARB @ 1.27 MATIC per ARB\n",
      "ccomp     91a9fe92  1.274204   56.028689   x  b  s  buy-sell-ARB @ 1.27 MATIC per ARB\n",
      "carbon_v1 806240-1  1.428571  141.806023   x  b          buy-ARB @ 1.43 MATIC per ARB\n",
      "\n",
      "--- ALL NON-CARBON POSITIONS ---\n",
      "-None-\n",
      "\n",
      "\n",
      "\n",
      "====================================================================================================\n",
      "Pair = HEX-eb39/WETH-6Cc2\n",
      "====================================================================================================\n",
      "\n",
      "--- ALL CARBON AND REFERENCE POSITIONS ---\n",
      "                       price            vl itm  b  s                               bsv\n",
      "exchange  cid0                                                                        \n",
      "cgecko    c1110748  0.000009  21094.027131   x  b  s  buy-sell-HEX @ 0.00 WETH per HEX\n",
      "ccomp     c1110748  0.000009  21071.423824   x  b  s  buy-sell-HEX @ 0.00 WETH per HEX\n",
      "carbon_v1 881242-0  0.000025    163.845756   x  b          buy-HEX @ 0.00 WETH per HEX\n",
      "          881242-1  0.000032  49836.154260         s      sell-HEX @ 0.00 WETH per HEX\n",
      "\n",
      "--- IN-THE-MONEY POSITIONS ---\n",
      "                       price            vl itm  b  s                               bsv\n",
      "exchange  cid0                                                                        \n",
      "cgecko    c1110748  0.000009  21094.027131   x  b  s  buy-sell-HEX @ 0.00 WETH per HEX\n",
      "ccomp     c1110748  0.000009  21071.423824   x  b  s  buy-sell-HEX @ 0.00 WETH per HEX\n",
      "carbon_v1 881242-0  0.000025    163.845756   x  b          buy-HEX @ 0.00 WETH per HEX\n",
      "\n",
      "--- ALL NON-CARBON POSITIONS ---\n",
      "-None-\n",
      "\n",
      "\n",
      "\n",
      "====================================================================================================\n",
      "Pair = WBTC-C599/USDT-1ec7\n",
      "====================================================================================================\n",
      "\n",
      "--- ALL CARBON AND REFERENCE POSITIONS ---\n",
      "                       price        vl itm  b  s                                     bsv\n",
      "exchange  cid0                                                                          \n",
      "cgecko    9c49df60  26552.00  0.388134      b  s  buy-sell-WBTC @ 26552.00 USDT per WBTC\n",
      "ccomp     9c49df60  26573.41  0.387977      b  s  buy-sell-WBTC @ 26573.41 USDT per WBTC\n",
      "carbon_v1 920820-1  29500.00  0.000065         s      sell-WBTC @ 29500.00 USDT per WBTC\n",
      "\n",
      "--- IN-THE-MONEY POSITIONS ---\n",
      "-None-\n",
      "\n",
      "--- ALL NON-CARBON POSITIONS ---\n",
      "                            price        vl itm  b  s                                     bsv\n",
      "exchange   cid0                                                                              \n",
      "uniswap_v3 d3b9424f  26500.848081  6.816773      b  s  buy-sell-WBTC @ 26500.85 USDT per WBTC\n",
      "\n",
      "\n",
      "\n",
      "====================================================================================================\n",
      "Pair = DAI-1d0F/USDC-eB48\n",
      "====================================================================================================\n",
      "\n",
      "--- ALL CARBON AND REFERENCE POSITIONS ---\n",
      "                       price            vl itm  b  s                               bsv\n",
      "exchange  cid0                                                                        \n",
      "carbon_v1 845828-1  0.999001     20.019998      b          buy-DAI @ 1.00 USDC per DAI\n",
      "ccomp     cd733cac  1.000000     63.245553      b  s  buy-sell-DAI @ 1.00 USDC per DAI\n",
      "cgecko    cd733cac  1.000022     63.244857      b  s  buy-sell-DAI @ 1.00 USDC per DAI\n",
      "carbon_v1 845907-0  1.000500  13915.242877         s      sell-DAI @ 1.00 USDC per DAI\n",
      "          845828-0  1.001001     30.000000         s      sell-DAI @ 1.00 USDC per DAI\n",
      "\n",
      "--- IN-THE-MONEY POSITIONS ---\n",
      "-None-\n",
      "\n",
      "--- ALL NON-CARBON POSITIONS ---\n",
      "                        price            vl itm  b  s                               bsv\n",
      "exchange   cid0                                                                        \n",
      "uniswap_v3 45fd83ef  0.999997  2.686111e+07      b  s  buy-sell-DAI @ 1.00 USDC per DAI\n",
      "           06e022d7  1.003076  7.798356e+01      b  s  buy-sell-DAI @ 1.00 USDC per DAI\n",
      "\n",
      "\n",
      "\n",
      "====================================================================================================\n",
      "Pair = WBTC-C599/WETH-6Cc2\n",
      "====================================================================================================\n",
      "\n",
      "--- ALL CARBON AND REFERENCE POSITIONS ---\n",
      "                        price         vl itm  b  s                                  bsv\n",
      "exchange  cid0                                                                         \n",
      "carbon_v1 709362-1  14.285714   0.431087      b          buy-WBTC @ 14.29 WETH per WBTC\n",
      "cgecko    c59d6071  14.631216  16.534451   x  b  s  buy-sell-WBTC @ 14.63 WETH per WBTC\n",
      "ccomp     c59d6071  14.668961  16.513165      b  s  buy-sell-WBTC @ 14.67 WETH per WBTC\n",
      "carbon_v1 709391-0  14.800000   0.040541   x  b          buy-WBTC @ 14.80 WETH per WBTC\n",
      "          709420-1  14.920000   0.060575         s      sell-WBTC @ 14.92 WETH per WBTC\n",
      "          709362-0  15.515875   0.120820         s      sell-WBTC @ 15.52 WETH per WBTC\n",
      "\n",
      "--- IN-THE-MONEY POSITIONS ---\n",
      "                        price         vl itm  b  s                                  bsv\n",
      "exchange  cid0                                                                         \n",
      "cgecko    c59d6071  14.631216  16.534451   x  b  s  buy-sell-WBTC @ 14.63 WETH per WBTC\n",
      "carbon_v1 709391-0  14.800000   0.040541   x  b          buy-WBTC @ 14.80 WETH per WBTC\n",
      "\n",
      "--- ALL NON-CARBON POSITIONS ---\n",
      "                         price          vl itm  b  s                                  bsv\n",
      "exchange   cid0                                                                          \n",
      "uniswap_v3 75da4eaa  14.672502  188.895889      b  s  buy-sell-WBTC @ 14.67 WETH per WBTC\n",
      "\n",
      "\n",
      "\n",
      "====================================================================================================\n",
      "Pair = RPL-A51f/XCHF-fc08\n",
      "====================================================================================================\n",
      "\n",
      "--- ALL CARBON AND REFERENCE POSITIONS ---\n",
      "                        price         vl itm  b  s                                bsv\n",
      "exchange  cid0                                                                       \n",
      "carbon_v1 594782-0  40.476781  30.732095      b          buy-RPL @ 40.48 XCHF per RPL\n",
      "cgecko    3678e599  42.252252   9.729826   x  b  s  buy-sell-RPL @ 42.25 XCHF per RPL\n",
      "ccomp     3678e599  46.736318   9.251300   x  b  s  buy-sell-RPL @ 46.74 XCHF per RPL\n",
      "\n",
      "--- IN-THE-MONEY POSITIONS ---\n",
      "                       price        vl itm  b  s                                bsv\n",
      "exchange cid0                                                                      \n",
      "cgecko   3678e599  42.252252  9.729826   x  b  s  buy-sell-RPL @ 42.25 XCHF per RPL\n",
      "ccomp    3678e599  46.736318  9.251300   x  b  s  buy-sell-RPL @ 46.74 XCHF per RPL\n",
      "\n",
      "--- ALL NON-CARBON POSITIONS ---\n",
      "-None-\n",
      "\n",
      "\n",
      "\n",
      "====================================================================================================\n",
      "Pair = CRV-cd52/USDC-eB48\n",
      "====================================================================================================\n",
      "\n",
      "--- ALL CARBON AND REFERENCE POSITIONS ---\n",
      "                       price           vl itm  b  s                               bsv\n",
      "exchange  cid0                                                                       \n",
      "cgecko    a61cdf65  0.838536    69.066781   x  b  s  buy-sell-CRV @ 0.84 USDC per CRV\n",
      "ccomp     a61cdf65  0.838984    69.048331   x  b  s  buy-sell-CRV @ 0.84 USDC per CRV\n",
      "carbon_v1 612490-0  0.900000     1.785699   x  b          buy-CRV @ 0.90 USDC per CRV\n",
      "          612490-1  0.900000  9998.214320         s      sell-CRV @ 0.90 USDC per CRV\n",
      "\n",
      "--- IN-THE-MONEY POSITIONS ---\n",
      "                       price         vl itm  b  s                               bsv\n",
      "exchange  cid0                                                                     \n",
      "cgecko    a61cdf65  0.838536  69.066781   x  b  s  buy-sell-CRV @ 0.84 USDC per CRV\n",
      "ccomp     a61cdf65  0.838984  69.048331   x  b  s  buy-sell-CRV @ 0.84 USDC per CRV\n",
      "carbon_v1 612490-0  0.900000   1.785699   x  b          buy-CRV @ 0.90 USDC per CRV\n",
      "\n",
      "--- ALL NON-CARBON POSITIONS ---\n",
      "                       price           vl itm  b  s                               bsv\n",
      "exchange   cid0                                                                      \n",
      "uniswap_v3 53ec92a7  0.81888  1286.385985      b  s  buy-sell-CRV @ 0.82 USDC per CRV\n",
      "\n",
      "\n",
      "\n",
      "====================================================================================================\n",
      "Pair = WETH-6Cc2/USDT-1ec7\n",
      "====================================================================================================\n",
      "\n",
      "--- ALL CARBON AND REFERENCE POSITIONS ---\n",
      "                          price        vl itm  b  s                                    bsv\n",
      "exchange  cid0                                                                            \n",
      "carbon_v1 691723-0  1600.000160  0.003125      b          buy-WETH @ 1600.00 USDT per WETH\n",
      "ccomp     e60f9a1d  1811.540000  1.485956   x  b  s  buy-sell-WETH @ 1811.54 USDT per WETH\n",
      "cgecko    e60f9a1d  1814.750000  1.484641   x  b  s  buy-sell-WETH @ 1814.75 USDT per WETH\n",
      "carbon_v1 691656-0  1891.000189  0.002644   x  b          buy-WETH @ 1891.00 USDT per WETH\n",
      "\n",
      "--- IN-THE-MONEY POSITIONS ---\n",
      "                          price        vl itm  b  s                                    bsv\n",
      "exchange  cid0                                                                            \n",
      "ccomp     e60f9a1d  1811.540000  1.485956   x  b  s  buy-sell-WETH @ 1811.54 USDT per WETH\n",
      "cgecko    e60f9a1d  1814.750000  1.484641   x  b  s  buy-sell-WETH @ 1814.75 USDT per WETH\n",
      "carbon_v1 691656-0  1891.000189  0.002644   x  b          buy-WETH @ 1891.00 USDT per WETH\n",
      "\n",
      "--- ALL NON-CARBON POSITIONS ---\n",
      "                           price          vl itm  b  s                                    bsv\n",
      "exchange   cid0                                                                              \n",
      "uniswap_v3 3bd24802  1811.681944  266.770374      b  s  buy-sell-WETH @ 1811.68 USDT per WETH\n",
      "\n",
      "\n",
      "\n",
      "====================================================================================================\n",
      "Pair = USDT-1ec7/USDC-eB48\n",
      "====================================================================================================\n",
      "\n",
      "--- ALL CARBON AND REFERENCE POSITIONS ---\n",
      "                       price            vl itm  b  s                                 bsv\n",
      "exchange  cid0                                                                          \n",
      "carbon_v1 634444-0  0.996000  50200.798193      b          buy-USDT @ 1.00 USDC per USDT\n",
      "          634371-1  0.999900     50.154515      b          buy-USDT @ 1.00 USDC per USDT\n",
      "          634371-0  1.000100     50.100001         s      sell-USDT @ 1.00 USDC per USDT\n",
      "ccomp     7a925ef9  1.000100     63.242391      b  s  buy-sell-USDT @ 1.00 USDC per USDT\n",
      "cgecko    7a925ef9  1.000138     63.241189      b  s  buy-sell-USDT @ 1.00 USDC per USDT\n",
      "carbon_v1 634391-1  1.000690    494.654975      b          buy-USDT @ 1.00 USDC per USDT\n",
      "          634391-0  1.001001    505.000000         s      sell-USDT @ 1.00 USDC per USDT\n",
      "\n",
      "--- IN-THE-MONEY POSITIONS ---\n",
      "-None-\n",
      "\n",
      "--- ALL NON-CARBON POSITIONS ---\n",
      "                        price            vl itm  b  s                                 bsv\n",
      "exchange   cid0                                                                          \n",
      "uniswap_v2 a4d0dbb7  0.999362  2.292794e+07      b  s  buy-sell-USDT @ 1.00 USDC per USDT\n",
      "uniswap_v3 4a56bd20  1.000047  2.743461e+07      b  s  buy-sell-USDT @ 1.00 USDC per USDT\n",
      "\n",
      "\n",
      "\n",
      "====================================================================================================\n",
      "Pair = WETH-6Cc2/DAI-1d0F\n",
      "====================================================================================================\n",
      "\n",
      "--- ALL CARBON AND REFERENCE POSITIONS ---\n",
      "                          price        vl itm  b  s                                   bsv\n",
      "exchange  cid0                                                                           \n",
      "ccomp     37a018d8  1811.721172  1.485882      b  s  buy-sell-WETH @ 1811.72 DAI per WETH\n",
      "cgecko    37a018d8  1814.960535  1.484555      b  s  buy-sell-WETH @ 1814.96 DAI per WETH\n",
      "carbon_v1 211457-1  1944.999806  0.001000         s      sell-WETH @ 1945.00 DAI per WETH\n",
      "\n",
      "--- IN-THE-MONEY POSITIONS ---\n",
      "-None-\n",
      "\n",
      "--- ALL NON-CARBON POSITIONS ---\n",
      "                          price         vl itm  b  s                                   bsv\n",
      "exchange   cid0                                                                           \n",
      "uniswap_v3 6862112f  1811.66306  116.80187      b  s  buy-sell-WETH @ 1811.66 DAI per WETH\n",
      "\n",
      "\n",
      "\n",
      "====================================================================================================\n",
      "Pair = rETH-6393/WETH-6Cc2\n",
      "====================================================================================================\n",
      "\n",
      "--- ALL CARBON AND REFERENCE POSITIONS ---\n",
      "                           price            vl itm  b  s                                 bsv\n",
      "exchange  cid0                                                                              \n",
      "ccomp     4f14f678  4.968149e-09  8.972897e+05   x  b  s  buy-sell-rETH @ 0.00 WETH per rETH\n",
      "carbon_v1 903202-1  1.064552e+00  2.620752e-01   x  b          buy-rETH @ 1.06 WETH per rETH\n",
      "          903202-0  1.070205e+00  2.496828e-01   x     s      sell-rETH @ 1.07 WETH per rETH\n",
      "cgecko    4f14f678  1.072792e+00  6.106216e+01   x  b  s  buy-sell-rETH @ 1.07 WETH per rETH\n",
      "carbon_v1 903200-1  1.076000e+00  9.322307e-01   x     s      sell-rETH @ 1.08 WETH per rETH\n",
      "          903213-0  1.107152e+00  9.032184e-19   x  b          buy-rETH @ 1.11 WETH per rETH\n",
      "          903213-1  1.112370e+00  1.350317e+00         s      sell-rETH @ 1.11 WETH per rETH\n",
      "\n",
      "--- IN-THE-MONEY POSITIONS ---\n",
      "                           price            vl itm  b  s                                 bsv\n",
      "exchange  cid0                                                                              \n",
      "ccomp     4f14f678  4.968149e-09  8.972897e+05   x  b  s  buy-sell-rETH @ 0.00 WETH per rETH\n",
      "carbon_v1 903202-1  1.064552e+00  2.620752e-01   x  b          buy-rETH @ 1.06 WETH per rETH\n",
      "          903202-0  1.070205e+00  2.496828e-01   x     s      sell-rETH @ 1.07 WETH per rETH\n",
      "cgecko    4f14f678  1.072792e+00  6.106216e+01   x  b  s  buy-sell-rETH @ 1.07 WETH per rETH\n",
      "carbon_v1 903200-1  1.076000e+00  9.322307e-01   x     s      sell-rETH @ 1.08 WETH per rETH\n",
      "          903213-0  1.107152e+00  9.032184e-19   x  b          buy-rETH @ 1.11 WETH per rETH\n",
      "\n",
      "--- ALL NON-CARBON POSITIONS ---\n",
      "                        price          vl itm  b  s                                 bsv\n",
      "exchange   cid0                                                                        \n",
      "uniswap_v3 8a996fde  1.072379  936.183111      b  s  buy-sell-rETH @ 1.07 WETH per rETH\n",
      "           72443951  1.073236    0.032729      b  s  buy-sell-rETH @ 1.07 WETH per rETH\n",
      "\n",
      "\n",
      "\n",
      "====================================================================================================\n",
      "Pair = ETH2x_FLI-65BD/WETH-6Cc2\n",
      "====================================================================================================\n",
      "\n",
      "--- ALL CARBON AND REFERENCE POSITIONS ---\n",
      "                       price          vl itm  b  s                                           bsv\n",
      "exchange  cid0                                                                                  \n",
      "carbon_v1 246866-0  0.006300   63.492063      b          buy-ETH2x_FLI @ 0.01 WETH per ETH2x_FLI\n",
      "cgecko    fd18788f  0.006436  788.346197      b  s  buy-sell-ETH2x_FLI @ 0.01 WETH per ETH2x_FLI\n",
      "\n",
      "--- IN-THE-MONEY POSITIONS ---\n",
      "-None-\n",
      "\n",
      "--- ALL NON-CARBON POSITIONS ---\n",
      "                        price         vl itm  b  s                                           bsv\n",
      "exchange   cid0                                                                                 \n",
      "uniswap_v3 9530f8aa  0.006477  594.43988      b  s  buy-sell-ETH2x_FLI @ 0.01 WETH per ETH2x_FLI\n",
      "\n",
      "\n",
      "\n",
      "====================================================================================================\n",
      "Pair = vBNT-7f94/BNT-FF1C\n",
      "====================================================================================================\n",
      "\n",
      "--- ALL CARBON AND REFERENCE POSITIONS ---\n",
      "                       price            vl itm  b  s                                bsv\n",
      "exchange  cid0                                                                         \n",
      "carbon_v1 748977-0  0.700000    911.317173      b          buy-vBNT @ 0.70 BNT per vBNT\n",
      "cgecko    d4c2e539  0.741579     73.443124   x  b  s  buy-sell-vBNT @ 0.74 BNT per vBNT\n",
      "carbon_v1 748976-0  0.751044    345.367107   x  b          buy-vBNT @ 0.75 BNT per vBNT\n",
      "          748977-1  0.831863    330.931460   x     s      sell-vBNT @ 0.83 BNT per vBNT\n",
      "          749015-0  0.884956  50079.388866   x     s      sell-vBNT @ 0.88 BNT per vBNT\n",
      "          748976-1  0.900000    810.415436         s      sell-vBNT @ 0.90 BNT per vBNT\n",
      "          748990-0  0.900048      0.324366   x  b          buy-vBNT @ 0.90 BNT per vBNT\n",
      "          748966-1  1.000000   1089.255651         s      sell-vBNT @ 1.00 BNT per vBNT\n",
      "          748990-1  1.050000   1122.591140         s      sell-vBNT @ 1.05 BNT per vBNT\n",
      "          748965-1  1.100000   1027.046277         s      sell-vBNT @ 1.10 BNT per vBNT\n",
      "\n",
      "--- IN-THE-MONEY POSITIONS ---\n",
      "                       price            vl itm  b  s                                bsv\n",
      "exchange  cid0                                                                         \n",
      "cgecko    d4c2e539  0.741579     73.443124   x  b  s  buy-sell-vBNT @ 0.74 BNT per vBNT\n",
      "carbon_v1 748976-0  0.751044    345.367107   x  b          buy-vBNT @ 0.75 BNT per vBNT\n",
      "          748977-1  0.831863    330.931460   x     s      sell-vBNT @ 0.83 BNT per vBNT\n",
      "          749015-0  0.884956  50079.388866   x     s      sell-vBNT @ 0.88 BNT per vBNT\n",
      "          748990-0  0.900048      0.324366   x  b          buy-vBNT @ 0.90 BNT per vBNT\n",
      "\n",
      "--- ALL NON-CARBON POSITIONS ---\n",
      "                       price            vl itm  b  s                                bsv\n",
      "exchange  cid0                                                                         \n",
      "bancor_v3 3af82b26  0.746193  3.196123e+06      b  s  buy-sell-vBNT @ 0.75 BNT per vBNT\n",
      "\n",
      "\n",
      "\n",
      "====================================================================================================\n",
      "Pair = vBNT-7f94/USDC-eB48\n",
      "====================================================================================================\n",
      "\n",
      "--- ALL CARBON AND REFERENCE POSITIONS ---\n",
      "                       price           vl itm  b  s                                 bsv\n",
      "exchange  cid0                                                                         \n",
      "cgecko    0d1e2d63  0.304384   114.635487      b  s  buy-sell-vBNT @ 0.30 USDC per vBNT\n",
      "carbon_v1 171896-1  0.390000  5000.000000         s      sell-vBNT @ 0.39 USDC per vBNT\n",
      "\n",
      "--- IN-THE-MONEY POSITIONS ---\n",
      "-None-\n",
      "\n",
      "--- ALL NON-CARBON POSITIONS ---\n",
      "-None-\n",
      "\n",
      "\n",
      "\n",
      "====================================================================================================\n",
      "Pair = WETH-6Cc2/USDC-eB48\n",
      "====================================================================================================\n",
      "\n",
      "--- ALL CARBON AND REFERENCE POSITIONS ---\n",
      "                          price         vl itm  b  s                                    bsv\n",
      "exchange  cid0                                                                             \n",
      "carbon_v1 057306-0  1405.000140   3.558719      b          buy-WETH @ 1405.00 USDC per WETH\n",
      "          057369-0  1500.000150   0.297340      b          buy-WETH @ 1500.00 USDC per WETH\n",
      "          057385-0  1600.000000  10.000034      b          buy-WETH @ 1600.00 USDC per WETH\n",
      "          057334-0  1700.000170   0.029412      b          buy-WETH @ 1700.00 USDC per WETH\n",
      "          057386-0  1713.000000   0.218788      b          buy-WETH @ 1713.00 USDC per WETH\n",
      "          057331-0  1747.325134   2.728833      b          buy-WETH @ 1747.33 USDC per WETH\n",
      "          057358-0  1750.000000   0.059166      b          buy-WETH @ 1750.00 USDC per WETH\n",
      "          057371-0  1774.031424   3.332464      b          buy-WETH @ 1774.03 USDC per WETH\n",
      "          057337-0  1796.061322   0.879991      b          buy-WETH @ 1796.06 USDC per WETH\n",
      "          057339-0  1800.000000   0.000556      b          buy-WETH @ 1800.00 USDC per WETH\n",
      "ccomp     9da15412  1811.721172   1.485882      b  s  buy-sell-WETH @ 1811.72 USDC per WETH\n",
      "cgecko    9da15412  1815.000470   1.484539      b  s  buy-sell-WETH @ 1815.00 USDC per WETH\n",
      "carbon_v1 057382-1  1849.999815   0.455916         s      sell-WETH @ 1850.00 USDC per WETH\n",
      "          057371-1  1862.711905   2.578999         s      sell-WETH @ 1862.71 USDC per WETH\n",
      "          057299-1  1940.000000   0.026117         s      sell-WETH @ 1940.00 USDC per WETH\n",
      "          057337-1  1975.000000   0.230127         s      sell-WETH @ 1975.00 USDC per WETH\n",
      "          057343-1  1989.999801   1.000000         s      sell-WETH @ 1990.00 USDC per WETH\n",
      "          057369-1  1999.999800   0.250000         s      sell-WETH @ 2000.00 USDC per WETH\n",
      "          057334-1  1999.999800   0.040000         s      sell-WETH @ 2000.00 USDC per WETH\n",
      "          057292-1  2000.000000   0.019704         s      sell-WETH @ 2000.00 USDC per WETH\n",
      "          057331-1  2000.000000   2.950064         s      sell-WETH @ 2000.00 USDC per WETH\n",
      "          057353-1  2047.999795   8.234700         s      sell-WETH @ 2048.00 USDC per WETH\n",
      "          057285-1  2099.999790   0.006040         s      sell-WETH @ 2100.00 USDC per WETH\n",
      "\n",
      "--- IN-THE-MONEY POSITIONS ---\n",
      "-None-\n",
      "\n",
      "--- ALL NON-CARBON POSITIONS ---\n",
      "                           price           vl itm  b  s                                    bsv\n",
      "exchange   cid0                                                                               \n",
      "uniswap_v3 f4909a83  1811.637692  1256.357459      b  s  buy-sell-WETH @ 1811.64 USDC per WETH\n",
      "           1bc3f2c4  1815.204362   257.475812      b  s  buy-sell-WETH @ 1815.20 USDC per WETH\n",
      "\n",
      "\n",
      "\n",
      "====================================================================================================\n",
      "Pair = TSUKA-69eD/USDC-eB48\n",
      "====================================================================================================\n",
      "\n",
      "--- ALL CARBON AND REFERENCE POSITIONS ---\n",
      "                       price            vl itm  b  s                                   bsv\n",
      "exchange  cid0                                                                            \n",
      "ccomp     6bfe0f65  0.049505    284.253408      b  s  buy-sell-TSUKA @ 0.05 USDC per TSUKA\n",
      "cgecko    6bfe0f65  0.049547    284.134060      b  s  buy-sell-TSUKA @ 0.05 USDC per TSUKA\n",
      "carbon_v1 017697-1  0.120000  90007.566908         s      sell-TSUKA @ 0.12 USDC per TSUKA\n",
      "\n",
      "--- IN-THE-MONEY POSITIONS ---\n",
      "-None-\n",
      "\n",
      "--- ALL NON-CARBON POSITIONS ---\n",
      "                        price           vl itm  b  s                                   bsv\n",
      "exchange   cid0                                                                           \n",
      "uniswap_v3 3912a86a  0.050859  1348.308741      b  s  buy-sell-TSUKA @ 0.05 USDC per TSUKA\n",
      "\n",
      "\n",
      "\n",
      "====================================================================================================\n",
      "Pair = LINK-86CA/USDT-1ec7\n",
      "====================================================================================================\n",
      "\n",
      "--- ALL CARBON AND REFERENCE POSITIONS ---\n",
      "                       price         vl itm  b  s                                 bsv\n",
      "exchange  cid0                                                                       \n",
      "ccomp     f46d143c  6.307000  25.183645   x  b  s  buy-sell-LINK @ 6.31 USDT per LINK\n",
      "cgecko    f46d143c  6.310000  25.177657   x  b  s  buy-sell-LINK @ 6.31 USDT per LINK\n",
      "carbon_v1 960408-0  6.900402   0.055841   x  b          buy-LINK @ 6.90 USDT per LINK\n",
      "          960408-1  7.700000  37.987504         s      sell-LINK @ 7.70 USDT per LINK\n",
      "\n",
      "--- IN-THE-MONEY POSITIONS ---\n",
      "                       price         vl itm  b  s                                 bsv\n",
      "exchange  cid0                                                                       \n",
      "ccomp     f46d143c  6.307000  25.183645   x  b  s  buy-sell-LINK @ 6.31 USDT per LINK\n",
      "cgecko    f46d143c  6.310000  25.177657   x  b  s  buy-sell-LINK @ 6.31 USDT per LINK\n",
      "carbon_v1 960408-0  6.900402   0.055841   x  b          buy-LINK @ 6.90 USDT per LINK\n",
      "\n",
      "--- ALL NON-CARBON POSITIONS ---\n",
      "                        price         vl itm  b  s                                 bsv\n",
      "exchange   cid0                                                                       \n",
      "uniswap_v3 e3c32971  6.334336  10.097425      b  s  buy-sell-LINK @ 6.33 USDT per LINK\n",
      "\n",
      "\n",
      "\n",
      "====================================================================================================\n",
      "Pair = rETH-6393/WBTC-C599\n",
      "====================================================================================================\n",
      "\n",
      "--- ALL CARBON AND REFERENCE POSITIONS ---\n",
      "                           price            vl itm  b  s                                 bsv\n",
      "exchange  cid0                                                                              \n",
      "ccomp     da2f8b7d  3.386844e-10  3.436627e+06   x  b  s  buy-sell-rETH @ 0.00 WBTC per rETH\n",
      "carbon_v1 727077-0  7.142234e-02  9.911474e-04   x     s      sell-rETH @ 0.07 WBTC per rETH\n",
      "cgecko    da2f8b7d  7.332216e-02  2.335675e+02   x  b  s  buy-sell-rETH @ 0.07 WBTC per rETH\n",
      "\n",
      "--- IN-THE-MONEY POSITIONS ---\n",
      "                           price            vl itm  b  s                                 bsv\n",
      "exchange  cid0                                                                              \n",
      "ccomp     da2f8b7d  3.386844e-10  3.436627e+06   x  b  s  buy-sell-rETH @ 0.00 WBTC per rETH\n",
      "carbon_v1 727077-0  7.142234e-02  9.911474e-04   x     s      sell-rETH @ 0.07 WBTC per rETH\n",
      "cgecko    da2f8b7d  7.332216e-02  2.335675e+02   x  b  s  buy-sell-rETH @ 0.07 WBTC per rETH\n",
      "\n",
      "--- ALL NON-CARBON POSITIONS ---\n",
      "-None-\n",
      "\n",
      "\n",
      "\n",
      "====================================================================================================\n",
      "Pair = stETH-fE84/WETH-6Cc2\n",
      "====================================================================================================\n",
      "\n",
      "--- ALL CARBON AND REFERENCE POSITIONS ---\n",
      "                       price         vl itm  b  s                                   bsv\n",
      "exchange  cid0                                                                         \n",
      "carbon_v1 035408-0  0.980000   1.020408      b          buy-stETH @ 0.98 WETH per stETH\n",
      "          423024-0  0.994000   5.331992      b          buy-stETH @ 0.99 WETH per stETH\n",
      "cgecko    7cbb82c5  0.999454  63.262811      b  s  buy-sell-stETH @ 1.00 WETH per stETH\n",
      "ccomp     7cbb82c5  1.002760  63.158452      b  s  buy-sell-stETH @ 1.00 WETH per stETH\n",
      "\n",
      "--- IN-THE-MONEY POSITIONS ---\n",
      "-None-\n",
      "\n",
      "--- ALL NON-CARBON POSITIONS ---\n",
      "                        price           vl itm  b  s                                   bsv\n",
      "exchange   cid0                                                                           \n",
      "uniswap_v2 b8894be0  0.996828  2133.824441      b  s  buy-sell-stETH @ 1.00 WETH per stETH\n",
      "\n",
      "\n",
      "\n",
      "====================================================================================================\n",
      "Pair = LHINU-038d/USDT-1ec7\n",
      "====================================================================================================\n",
      "\n",
      "--- ALL CARBON AND REFERENCE POSITIONS ---\n",
      "                           price            vl itm  b  s                                   bsv\n",
      "exchange  cid0                                                                                \n",
      "carbon_v1 938535-0  8.999960e-07  5.555580e+09      b          buy-LHINU @ 0.00 USDT per LHINU\n",
      "cgecko    f7b043cb  1.103300e-04  6.021202e+03      b  s  buy-sell-LHINU @ 0.00 USDT per LHINU\n",
      "\n",
      "--- IN-THE-MONEY POSITIONS ---\n",
      "-None-\n",
      "\n",
      "--- ALL NON-CARBON POSITIONS ---\n",
      "-None-\n",
      "\n",
      "\n",
      "\n",
      "====================================================================================================\n",
      "Pair = BNT-FF1C/USDC-eB48\n",
      "====================================================================================================\n",
      "\n",
      "--- ALL CARBON AND REFERENCE POSITIONS ---\n",
      "                       price           vl itm  b  s                               bsv\n",
      "exchange  cid0                                                                       \n",
      "carbon_v1 480284-0  0.400000  2500.000004      b          buy-BNT @ 0.40 USDC per BNT\n",
      "ccomp     ecb95b37  0.409341    98.852443      b  s  buy-sell-BNT @ 0.41 USDC per BNT\n",
      "cgecko    ecb95b37  0.410454    98.718362      b  s  buy-sell-BNT @ 0.41 USDC per BNT\n",
      "carbon_v1 480284-1  0.500000  2500.000000         s      sell-BNT @ 0.50 USDC per BNT\n",
      "          480199-0  2.000000    29.100000         s      sell-BNT @ 2.00 USDC per BNT\n",
      "\n",
      "--- IN-THE-MONEY POSITIONS ---\n",
      "-None-\n",
      "\n",
      "--- ALL NON-CARBON POSITIONS ---\n",
      "                      price            vl itm  b  s                               bsv\n",
      "exchange  cid0                                                                       \n",
      "bancor_v3 fdec725b  0.40167  5.469466e+06      b  s  buy-sell-BNT @ 0.40 USDC per BNT\n",
      "\n",
      "\n",
      "\n",
      "====================================================================================================\n",
      "Pair = LYXe-be6D/USDC-eB48\n",
      "====================================================================================================\n",
      "\n",
      "--- ALL CARBON AND REFERENCE POSITIONS ---\n",
      "                        price           vl itm  b  s                                  bsv\n",
      "exchange  cid0                                                                           \n",
      "ccomp     0794c954  10.731073    19.306716   x  b  s  buy-sell-LYXe @ 10.73 USDC per LYXe\n",
      "cgecko    0794c954  10.911506    19.146423   x  b  s  buy-sell-LYXe @ 10.91 USDC per LYXe\n",
      "carbon_v1 652071-1  15.999998  7503.700799         s      sell-LYXe @ 16.00 USDC per LYXe\n",
      "\n",
      "--- IN-THE-MONEY POSITIONS ---\n",
      "                       price         vl itm  b  s                                  bsv\n",
      "exchange cid0                                                                         \n",
      "ccomp    0794c954  10.731073  19.306716   x  b  s  buy-sell-LYXe @ 10.73 USDC per LYXe\n",
      "cgecko   0794c954  10.911506  19.146423   x  b  s  buy-sell-LYXe @ 10.91 USDC per LYXe\n",
      "\n",
      "--- ALL NON-CARBON POSITIONS ---\n",
      "                         price        vl itm  b  s                                  bsv\n",
      "exchange   cid0                                                                        \n",
      "uniswap_v3 c45e2006  10.993491  3.608771      b  s  buy-sell-LYXe @ 10.99 USDC per LYXe\n",
      "\n",
      "\n",
      "\n",
      "====================================================================================================\n",
      "Pair = WETH-6Cc2/BNT-FF1C\n",
      "====================================================================================================\n",
      "\n",
      "--- ALL CARBON AND REFERENCE POSITIONS ---\n",
      "                          price        vl itm  b  s                                   bsv\n",
      "exchange  cid0                                                                           \n",
      "carbon_v1 326034-1   476.190524  0.420000      b           buy-WETH @ 476.19 BNT per WETH\n",
      "          326031-1   500.000050  1.000000      b           buy-WETH @ 500.00 BNT per WETH\n",
      "          326076-1  3891.050584  0.205506      b          buy-WETH @ 3891.05 BNT per WETH\n",
      "          326030-0  3950.000395  0.126582      b          buy-WETH @ 3950.00 BNT per WETH\n",
      "          326076-0  4163.458344  0.002883   x     s      sell-WETH @ 4163.46 BNT per WETH\n",
      "cgecko    8468746f  4421.937782  0.951095   x  b  s  buy-sell-WETH @ 4421.94 BNT per WETH\n",
      "ccomp     8468746f  4425.946738  0.950664   x  b  s  buy-sell-WETH @ 4425.95 BNT per WETH\n",
      "carbon_v1 326030-1  4999.999500  0.050000         s      sell-WETH @ 5000.00 BNT per WETH\n",
      "          326031-0  4999.999500  0.150000         s      sell-WETH @ 5000.00 BNT per WETH\n",
      "          326034-0  4999.999500  0.070000         s      sell-WETH @ 5000.00 BNT per WETH\n",
      "\n",
      "--- IN-THE-MONEY POSITIONS ---\n",
      "                          price        vl itm  b  s                                   bsv\n",
      "exchange  cid0                                                                           \n",
      "carbon_v1 326076-0  4163.458344  0.002883   x     s      sell-WETH @ 4163.46 BNT per WETH\n",
      "cgecko    8468746f  4421.937782  0.951095   x  b  s  buy-sell-WETH @ 4421.94 BNT per WETH\n",
      "ccomp     8468746f  4425.946738  0.950664   x  b  s  buy-sell-WETH @ 4425.95 BNT per WETH\n",
      "\n",
      "--- ALL NON-CARBON POSITIONS ---\n",
      "                          price           vl itm  b  s                                   bsv\n",
      "exchange  cid0                                                                              \n",
      "bancor_v3 a3c742d2  4471.361383  7327.044475      b  s  buy-sell-WETH @ 4471.36 BNT per WETH\n",
      "\n"
     ]
    }
   ],
   "source": [
    "def prints(*x):\n",
    "    global s\n",
    "    s += \" \".join([str(x_) for x_ in x])\n",
    "    s += \"\\n\"\n",
    "out_by_pair = dict()\n",
    "carbon_by_pair = dict()\n",
    "other_by_pair = dict()\n",
    "\n",
    "for pair in list(pairs):\n",
    "    s = \"\"\n",
    "    prints(\"\\n\\n\"+\"=\"*100)\n",
    "    prints(f\"Pair = {pair}\")\n",
    "    prints(\"=\"*100)\n",
    "    df = pasdf.loc[Pair.n(pair)]\n",
    "    try:\n",
    "        nc1df = pasnc1df.loc[Pair.n(pair)]\n",
    "    except:\n",
    "        nc1df = pd.DataFrame()\n",
    "    hasproxydata = len(df.reset_index()[df.reset_index()[\"exchange\"]==\"cgecko\"])>0\n",
    "    if hasproxydata:\n",
    "        prints(\"\\n--- ALL CARBON AND REFERENCE POSITIONS ---\")\n",
    "        prints(df.to_string())\n",
    "        carbon_by_pair[pair] = [[k,v] for k,v in df.to_dict(orient=\"index\").items()]\n",
    "        prints(\"\\n--- IN-THE-MONEY POSITIONS ---\")\n",
    "        dfitm = df[df[\"itm\"]==\"x\"]\n",
    "        if len(dfitm) > 0:\n",
    "            prints(dfitm.to_string())\n",
    "        else:\n",
    "            prints(\"-None-\")\n",
    "        prints(\"\\n--- ALL NON-CARBON POSITIONS ---\")\n",
    "        if len(nc1df) > 0:\n",
    "            prints(nc1df.to_string())\n",
    "        else:\n",
    "            prints(\"-None-\")\n",
    "        other_by_pair[pair] = [[k,v] for k,v in nc1df.to_dict(orient=\"index\").items()]\n",
    "        \n",
    "    else:\n",
    "        prints(\"\\n--- NO PRICE DATA AVAILABLE ---\")\n",
    "    \n",
    "    out_by_pair[pair] = s\n",
    "    print(s)\n"
   ]
  },
  {
   "cell_type": "markdown",
   "id": "2b405d02-ca60-49d4-9c49-e3ef937e30e2",
   "metadata": {},
   "source": [
    "## Summary data"
   ]
  },
  {
   "cell_type": "code",
   "execution_count": 42,
   "id": "6ca24037-6c2d-47c9-b22f-3c594844f74c",
   "metadata": {},
   "outputs": [
    {
     "name": "stdout",
     "output_type": "stream",
     "text": [
      "\n",
      "\n",
      "\n",
      "****************************************************************************************************\n",
      "SUMMARY DATA\n",
      "****************************************************************************************************\n"
     ]
    }
   ],
   "source": [
    "print(\"\\n\\n\")\n",
    "print(\"*\"*100)\n",
    "print(f\"SUMMARY DATA\")\n",
    "print(\"*\"*100)"
   ]
  },
  {
   "cell_type": "markdown",
   "id": "5f91da5b-b126-4816-b41c-7be245a7ea69",
   "metadata": {},
   "source": [
    "### Create summary data"
   ]
  },
  {
   "cell_type": "code",
   "execution_count": 43,
   "id": "0aac094f-e560-4fc7-b7d8-e4e434649368",
   "metadata": {},
   "outputs": [],
   "source": [
    "itmcarbdf = pasdf.query(\"exchange == 'carbon_v1'\").query(\"itm == 'x'\")"
   ]
  },
  {
   "cell_type": "code",
   "execution_count": 44,
   "id": "c72599d7-0ce2-4af8-b805-a9f6a2b462e0",
   "metadata": {},
   "outputs": [
    {
     "data": {
      "text/plain": [
       "['ARB/MATIC',\n",
       " 'CRETH2/WETH',\n",
       " 'CRV/USDC',\n",
       " 'DEXT/USDC',\n",
       " 'HEX/WETH',\n",
       " 'LINK/USDT',\n",
       " 'WBTC/USDC',\n",
       " 'WBTC/WETH',\n",
       " 'WETH/BNT',\n",
       " 'WETH/USDT',\n",
       " 'rETH/WBTC',\n",
       " 'rETH/WETH',\n",
       " 'vBNT/BNT']"
      ]
     },
     "execution_count": 44,
     "metadata": {},
     "output_type": "execute_result"
    }
   ],
   "source": [
    "itmcarb_pairs = sorted({x[0] for x in tuple(itmcarbdf.index)})\n",
    "itmcarb_pairs"
   ]
  },
  {
   "cell_type": "code",
   "execution_count": 45,
   "id": "f0af3450-f3e0-448c-a4f4-770bae46a86d",
   "metadata": {},
   "outputs": [
    {
     "data": {
      "text/plain": [
       "[{'pair': 'ARB/MATIC',\n",
       "  'exchange': 'carbon_v1',\n",
       "  'cid0': '806240-1',\n",
       "  'price': 1.4285714285714268,\n",
       "  'vl': 141.80602335295742,\n",
       "  'itm': 'x',\n",
       "  'b': 'b',\n",
       "  's': '',\n",
       "  'bsv': 'buy-ARB @ 1.43 MATIC per ARB'},\n",
       " {'pair': 'CRETH2/WETH',\n",
       "  'exchange': 'carbon_v1',\n",
       "  'cid0': '092712-1',\n",
       "  'price': 0.990099009900981,\n",
       "  'vl': 6.029912872749975,\n",
       "  'itm': 'x',\n",
       "  'b': 'b',\n",
       "  's': '',\n",
       "  'bsv': 'buy-CRETH2 @ 0.99 WETH per CRETH2'}]"
      ]
     },
     "execution_count": 45,
     "metadata": {},
     "output_type": "execute_result"
    }
   ],
   "source": [
    "itmcarb_pos = itmcarbdf.reset_index().to_dict(orient=\"records\")\n",
    "itmcarb_pos[:2]"
   ]
  },
  {
   "cell_type": "code",
   "execution_count": 46,
   "id": "a4fa6564-4827-4152-84e5-90bfcb3e45f3",
   "metadata": {},
   "outputs": [],
   "source": [
    "itmcarb_pos_bypair = {\n",
    "    pair: [x for x in itmcarb_pos if x[\"pair\"] == pair]\n",
    "    for pair in itmcarb_pairs\n",
    "}\n",
    "#itmcarb_pos_bypair"
   ]
  },
  {
   "cell_type": "code",
   "execution_count": 47,
   "id": "e2cf30c4-82f8-4260-8b08-f27079142f54",
   "metadata": {},
   "outputs": [
    {
     "data": {
      "text/plain": [
       "[]"
      ]
     },
     "execution_count": 47,
     "metadata": {},
     "output_type": "execute_result"
    }
   ],
   "source": [
    "missing_pairs = [pair for pair, price in prices_by_pair.items() if price is None]\n",
    "missing_pairs"
   ]
  },
  {
   "cell_type": "markdown",
   "id": "9725e9ce-3a93-4155-ba6b-090a4c31ff4e",
   "metadata": {},
   "source": [
    "### Convert summary data to Telegram"
   ]
  },
  {
   "cell_type": "code",
   "execution_count": 48,
   "id": "ac593f24-c444-42e3-b893-6c8c6830adc8",
   "metadata": {},
   "outputs": [],
   "source": [
    "telegram_data = dict(\n",
    "    script_version = __SCRIPT_VERSION__,         # version number of the script producing this record\n",
    "    script_version_dt = __SCRIPT_DATE__,         # ditto date\n",
    "    time_ts = int(now.timestamp()),              # timestamp (epoch)\n",
    "    time_iso = now.isoformat().split('.')[0],    # timestap (iso format)\n",
    "    prices_usd = token_prices_usd,               # token prices (usd)\n",
    "    pairs0 = pairs_df.to_dict(orient=\"index\"),   # carbon pairs and other pairs count       \n",
    "    pairs = list(pairs),                         # all carbon pairs\n",
    "    pairs_n = len(pairs),                        # ...number\n",
    "    curves_n = len(CCc1),                        # number of Carbon curves\n",
    "    itm_pairs = itmcarb_pairs,                   # pairs that have curves in the money (list)\n",
    "    itm_pairs_n = len(itmcarb_pairs),            # ...number\n",
    "    itm_pos = itmcarb_pos,                       # carbon and reference positions that are in the money (list)\n",
    "    itm_pos_n = len(itmcarb_pos),                # ...number\n",
    "    all_pos_bp = carbon_by_pair,                 # all carbon and reference positions by pair (dict->list)\n",
    "    all_pos_bp_n = len(carbon_by_pair),          # ...number\n",
    "    other_pos_bp = other_by_pair,                # all other positions (dict->list)\n",
    "    other_pos_bp_n = len(other_by_pair),         # ...number\n",
    "    itm_pos_bypair = itmcarb_pos_bypair,         # ditto, but dict[pair] -> list\n",
    "    missing_pairs = missing_pairs,               # missing pairs\n",
    "    missing_pairs_n = len(missing_pairs),        # ...number\n",
    "    removed_curves = list(exclusions),           # curves that have been explicitly removed\n",
    "    removed_curves_n = len(exclusions),          # ...number\n",
    "    removed_tokens = list(REMOVED_TOKENS),       # removed tokens\n",
    "    removed_tokens_n = len(REMOVED_TOKENS),      # ...number\n",
    "    out_by_pair = out_by_pair                    # output by pair\n",
    ")"
   ]
  },
  {
   "cell_type": "code",
   "execution_count": 49,
   "id": "9d901efd-502f-4100-ba21-64e321c52af6",
   "metadata": {},
   "outputs": [
    {
     "name": "stdout",
     "output_type": "stream",
     "text": [
      "\n",
      "===============================================\n",
      "ARBITRAGE RUN @ 2023-05-26T09:31:01Z\n",
      "===============================================\n",
      "Removed tokens:            2\n",
      "Total pairs:              32\n",
      "Missing pairs:             0\n",
      "Removed curves:            1\n",
      "In-the-money pairs:       13\n",
      "Total curves:             99\n",
      "In-the-money curves:      19\n",
      "-----------------------------------------------\n",
      "PAIR         CID          VLOCK    ARBPC    VAL\n",
      "-----------------------------------------------\n",
      "ARB/MATIC    806240-1       162    11.3%     18\n",
      "CRETH2/WETH  092712-1         2               0\n",
      "CRV/USDC     612490-0         1     6.8%      0\n",
      "DEXT/USDC    669784-0         1    12.6%      0\n",
      "HEX/WETH     881242-0         3    64.0%      2\n",
      "LINK/USDT    960408-0         0     8.6%      0\n",
      "WBTC/USDC    537493-0       482     1.9%      9\n",
      "WBTC/WETH    709391-0     1,076     1.1%     12\n",
      "WETH/BNT     326076-0         5     6.2%      0\n",
      "WETH/USDT    691656-0         5     4.0%      0\n",
      "rETH/WBTC    727077-0         2     2.7%      0\n",
      "rETH/WETH    903202-1       510     0.8%      4\n",
      "rETH/WETH    903202-0       486     0.2%      1\n",
      "rETH/WETH    903200-1     1,815     0.3%      5\n",
      "rETH/WETH    903213-0         0     3.1%      0\n",
      "vBNT/BNT     748976-0       105     1.3%      1\n",
      "vBNT/BNT     748977-1       101    10.9%     11\n",
      "vBNT/BNT     749015-0    15,241    16.2%  2,469\n",
      "vBNT/BNT     748990-0         0    17.6%      0\n",
      "-----------------------------------------------\n",
      "TOTAL                    19,998    12.7%  2,534\n",
      "===============================================\n",
      "All numbers in USDC. Figures above are upper\n",
      "bounds, not estimates. False positives are to\n",
      "be expected, but not false negatives.\n",
      "\n",
      "\n"
     ]
    }
   ],
   "source": [
    "td = telegram_data\n",
    "summary_data = dict()\n",
    "s = \"\"\n",
    "s += f\"=\"*47\n",
    "s += f\"\\nARBITRAGE RUN @ {td['time_iso']}Z\\n\"\n",
    "s += f\"=\"*47+\"\\n\"\n",
    "s += f\"Removed tokens:          {td['removed_tokens_n']:3}\\n\"\n",
    "s += f\"Total pairs:             {td['pairs_n']:3}\\n\"\n",
    "s += f\"Missing pairs:           {td['missing_pairs_n']:3}\\n\"\n",
    "s += f\"Removed curves:          {td['removed_curves_n']:3}\\n\"\n",
    "s += f\"In-the-money pairs:      {td['itm_pairs_n']:3}\\n\"\n",
    "s += f\"Total curves:            {td['curves_n']:3}\\n\"\n",
    "s += f\"In-the-money curves:     {td['itm_pos_n']:3}\\n\"\n",
    "total_vl_usd = 0\n",
    "total_arbval = 0\n",
    "s += \"-----------------------------------------------\\n\"\n",
    "s += \"PAIR         CID          VLOCK    ARBPC    VAL\\n\"\n",
    "s += \"-----------------------------------------------\\n\"\n",
    "for p in td['itm_pos']:\n",
    "    price_pair = prices_n_by_pair[p['pair']] or 0\n",
    "    price_pc0 = abs(price_pair/p['price']-1)\n",
    "    price_pc = f\"{price_pc0*100:8.1f}%\"\n",
    "    vl_token = p['pair'].split('/')[0].split(\"-\")[0]\n",
    "    vl_token_price = token_prices_usd.get(vl_token.upper())\n",
    "    vl_usd = p['vl']*vl_token_price\n",
    "    total_vl_usd += vl_usd\n",
    "    arbval = vl_usd * abs(price_pair/p['price']-1)\n",
    "    if price_pc.endswith(\"100.0%\"): \n",
    "        price_pc = \"         \"\n",
    "        arbval = 0\n",
    "    total_arbval += arbval\n",
    "    d = dict(\n",
    "        pair = p['pair'],\n",
    "        cid0 = p[\"cid0\"],\n",
    "        vl_usd = vl_usd,\n",
    "        price_pc = price_pc0,\n",
    "        arbval = arbval,\n",
    "        price = price_pair,\n",
    "    )\n",
    "    summary_data[p[\"cid0\"]] = d\n",
    "    #print(d)\n",
    "    s += f\"{p['pair']:12} \"\n",
    "    s += f\"{p['cid0'][-8:]:8} \"\n",
    "    s += f\"{vl_usd:9,.0f}\"\n",
    "    s += f\"{price_pc} \"\n",
    "    s += f\"{arbval:6,.0f}\"\n",
    "    #s += f\"[{p['bsv']}; p={price_pair:,.2f}]\"\n",
    "    #s += f\"\\n{p}\"\n",
    "    s += \"\\n\"\n",
    "s += \"-----------------------------------------------\\n\"\n",
    "s += f\"TOTAL {total_vl_usd:25,.0f}   {100*total_arbval/total_vl_usd:5.1f}% {total_arbval:6,.0F}\\n\"\n",
    "s += \"===============================================\\n\"\n",
    "s += \"\"\"\n",
    "All numbers in USDC. Figures above are upper\n",
    "bounds, not estimates. False positives are to\n",
    "be expected, but not false negatives.\\n\n",
    "\"\"\"[1:]\n",
    "\n",
    "telegram_data[\"summary_text\"] = s\n",
    "telegram_data[\"summary_data\"] = summary_data\n",
    "print()\n",
    "print(s)"
   ]
  },
  {
   "cell_type": "markdown",
   "id": "45b23486-5d0f-41b4-a11a-c9c73833b429",
   "metadata": {},
   "source": [
    "## Notifications"
   ]
  },
  {
   "cell_type": "code",
   "execution_count": null,
   "id": "c541d512-0c58-4f00-8327-3a33d3295b0c",
   "metadata": {},
   "outputs": [],
   "source": []
  },
  {
   "cell_type": "code",
   "execution_count": 50,
   "id": "a17e710e-0567-485c-a70c-11c35714eee8",
   "metadata": {},
   "outputs": [],
   "source": [
    "# data frame with arbitrage opportunities...\n",
    "arbdf = pd.DataFrame.from_dict(summary_data.values())[[\"cid0\", \"arbval\"]].set_index(\"cid0\")\n",
    "#arbdf"
   ]
  },
  {
   "cell_type": "code",
   "execution_count": 51,
   "id": "3e4802bc-2a97-4aa3-9d8c-cd4cadb59d68",
   "metadata": {},
   "outputs": [],
   "source": [
    "# ...and data frame of all tracked positions, arb or not...\n",
    "ciddf = pd.DataFrame([[c.cid0 for c in CCc1],[0]*len(CCc1)], index=\"cid0,arbval\".split(\",\")).T.set_index(\"cid0\")\n",
    "#ciddf"
   ]
  },
  {
   "cell_type": "code",
   "execution_count": 52,
   "id": "08d54d9a-51e1-45f1-ac32-73253845a8c5",
   "metadata": {},
   "outputs": [],
   "source": [
    "# ...combined into one dataframe (arb first)\n",
    "notifdf = arbdf.combine_first(ciddf)\n",
    "#notifdf"
   ]
  },
  {
   "cell_type": "code",
   "execution_count": 53,
   "id": "2e710b32-668a-4fd1-a15e-59c4bda2b0a9",
   "metadata": {},
   "outputs": [],
   "source": [
    "# read the dataframe of previous arb notification levels...\n",
    "try:\n",
    "    notifcdf0 = pd.read_csv(\"Analysis_015.notifdf.csv\").set_index(\"cid0\")\n",
    "except:\n",
    "    print(\"Creating new nofifdf\")\n",
    "    notifcdf0 = ciddf\n",
    "notifcdf = notifcdf0.copy()"
   ]
  },
  {
   "cell_type": "code",
   "execution_count": 54,
   "id": "b5f4f2ac-a1cb-46ba-8d60-e7f58fc01524",
   "metadata": {},
   "outputs": [
    {
     "data": {
      "text/plain": [
       "arbval     2457.018289\n",
       "arbval1    2457.018289\n",
       "Name: 749015-0, dtype: float64"
      ]
     },
     "execution_count": 54,
     "metadata": {},
     "output_type": "execute_result"
    }
   ],
   "source": [
    "notifcdf0.loc[\"749015-0\"]"
   ]
  },
  {
   "cell_type": "code",
   "execution_count": 55,
   "id": "8e4be254-c974-4f2e-93b7-a683bf022646",
   "metadata": {},
   "outputs": [
    {
     "data": {
      "text/plain": [
       "arbval     2457.018289\n",
       "arbval1    2469.315562\n",
       "Name: 749015-0, dtype: object"
      ]
     },
     "execution_count": 55,
     "metadata": {},
     "output_type": "execute_result"
    }
   ],
   "source": [
    "# ...and augment it with current arb levels\n",
    "notifcdf[\"arbval1\"] = notifdf[\"arbval\"]\n",
    "notifcdf.loc[\"749015-0\"]"
   ]
  },
  {
   "cell_type": "code",
   "execution_count": 56,
   "id": "2d88655f-d39d-42db-bcd3-71599d1955d3",
   "metadata": {},
   "outputs": [
    {
     "data": {
      "text/html": [
       "<div>\n",
       "<style scoped>\n",
       "    .dataframe tbody tr th:only-of-type {\n",
       "        vertical-align: middle;\n",
       "    }\n",
       "\n",
       "    .dataframe tbody tr th {\n",
       "        vertical-align: top;\n",
       "    }\n",
       "\n",
       "    .dataframe thead th {\n",
       "        text-align: right;\n",
       "    }\n",
       "</style>\n",
       "<table border=\"1\" class=\"dataframe\">\n",
       "  <thead>\n",
       "    <tr style=\"text-align: right;\">\n",
       "      <th></th>\n",
       "      <th>arbval</th>\n",
       "    </tr>\n",
       "    <tr>\n",
       "      <th>cid0</th>\n",
       "      <th></th>\n",
       "    </tr>\n",
       "  </thead>\n",
       "  <tbody>\n",
       "  </tbody>\n",
       "</table>\n",
       "</div>"
      ],
      "text/plain": [
       "Empty DataFrame\n",
       "Columns: [arbval]\n",
       "Index: []"
      ]
     },
     "execution_count": 56,
     "metadata": {},
     "output_type": "execute_result"
    }
   ],
   "source": [
    "# notification is due where level goes from < 50 to > 50\n",
    "notifbreachdf = notifcdf.query(\"arbval1>=50 and arbval<50\")\n",
    "notifbreachdf = notifbreachdf.drop(\"arbval\", axis=1).rename(columns={\"arbval1\": \"arbval\"})\n",
    "notifbreachdf"
   ]
  },
  {
   "cell_type": "code",
   "execution_count": 57,
   "id": "cfd85c06-00f4-44f6-8f53-529e60ea0338",
   "metadata": {},
   "outputs": [],
   "source": [
    "# update the previous notifications df with the current notifications\n",
    "notifndf = notifbreachdf.combine_first(notifcdf0)\n",
    "notifndf.to_csv(\"Analysis_015.notifdf.csv\")"
   ]
  },
  {
   "cell_type": "code",
   "execution_count": 58,
   "id": "381486cc-2d51-49a3-862f-8a9e211c285d",
   "metadata": {},
   "outputs": [
    {
     "data": {
      "text/plain": [
       "arbval     2457.018289\n",
       "arbval1    2457.018289\n",
       "Name: 749015-0, dtype: float64"
      ]
     },
     "execution_count": 58,
     "metadata": {},
     "output_type": "execute_result"
    }
   ],
   "source": [
    "notifndf.loc[\"749015-0\"]"
   ]
  },
  {
   "cell_type": "code",
   "execution_count": 59,
   "id": "2dd5dcc9-0c6a-4d33-b7d9-95fa838b7fd9",
   "metadata": {},
   "outputs": [
    {
     "data": {
      "text/plain": [
       "''"
      ]
     },
     "execution_count": 59,
     "metadata": {},
     "output_type": "execute_result"
    }
   ],
   "source": [
    "# create all new notifications\n",
    "notif_str = \"\".join([\n",
    "    \"[{td[time_iso]}::{td[time_ts]}] |new| == {d}\\n\".format(\n",
    "        cid0=cid0, \n",
    "        td=td, \n",
    "        d = json.dumps(dict(\n",
    "            pair = summary_data[cid0][\"pair\"],\n",
    "            cid0=cid0,\n",
    "            arbval = x[\"arbval\"],\n",
    "            vl_usd = summary_data[cid0][\"vl_usd\"],\n",
    "            price = summary_data[cid0][\"price\"],\n",
    "            #sd = summary_data[cid0],\n",
    "        ))\n",
    "    )\n",
    "    for cid0, x in notifbreachdf.to_dict(orient=\"index\").items()\n",
    "])\n",
    "notif_str"
   ]
  },
  {
   "cell_type": "code",
   "execution_count": 60,
   "id": "6bb7a289-b36f-4dbf-9c67-2d44c8c0979e",
   "metadata": {},
   "outputs": [],
   "source": [
    "# print notifications (if any)\n",
    "if notif_str:\n",
    "    s0 = f\"=\"*47\n",
    "    s0 += f\"\\nNOTICATIONS\\n\"\n",
    "    s0 += f\"=\"*47\n",
    "    print(s0)\n",
    "    print(notif_str)"
   ]
  },
  {
   "cell_type": "markdown",
   "id": "bdd2c60a-2f20-4bbb-b100-a7371898d5dc",
   "metadata": {},
   "source": [
    "## Save some files"
   ]
  },
  {
   "cell_type": "code",
   "execution_count": 61,
   "id": "a5cc6b43-5ba2-4749-9670-e65f0730462c",
   "metadata": {},
   "outputs": [],
   "source": [
    "with open(\"Analysis_015.notifications\", \"a\") as f:\n",
    "    f.write(notif_str)"
   ]
  },
  {
   "cell_type": "code",
   "execution_count": 62,
   "id": "da6d3cc7-558b-4125-a2e4-75b0c12e5d05",
   "metadata": {},
   "outputs": [],
   "source": [
    "with open(\"Analysis_015.latest.out\", \"w\") as f:\n",
    "    f.write(telegram_data[\"summary_text\"])"
   ]
  },
  {
   "cell_type": "code",
   "execution_count": 63,
   "id": "6ec2547a-7c94-4373-a2e1-dba23542dc20",
   "metadata": {},
   "outputs": [],
   "source": [
    "with open(\"Analysis_015.latest.json\", \"w\") as f:\n",
    "    f.write(json.dumps(telegram_data))"
   ]
  },
  {
   "cell_type": "markdown",
   "id": "cf5a440e-d6b5-469e-a418-65809baa9931",
   "metadata": {},
   "source": [
    "## Review"
   ]
  },
  {
   "cell_type": "code",
   "execution_count": 64,
   "id": "7582c0cc-8f9e-448d-b6ab-6f120b722dec",
   "metadata": {
    "lines_to_next_cell": 0
   },
   "outputs": [],
   "source": [
    "#print(CCfull.bycids(endswith=\"612490-0\")[0].description())"
   ]
  },
  {
   "cell_type": "code",
   "execution_count": null,
   "id": "ba6bf181-2ecb-4780-9e91-d200a3db22b9",
   "metadata": {},
   "outputs": [],
   "source": []
  },
  {
   "cell_type": "code",
   "execution_count": null,
   "id": "20e1855c-1a5c-448e-afd5-596e00caaa23",
   "metadata": {},
   "outputs": [],
   "source": []
  },
  {
   "cell_type": "code",
   "execution_count": null,
   "id": "aedcf6a1-e35e-4307-add7-a049c9183d85",
   "metadata": {
    "lines_to_next_cell": 2
   },
   "outputs": [],
   "source": []
  }
 ],
 "metadata": {
  "jupytext": {
   "encoding": "# -*- coding: utf-8 -*-",
   "formats": "ipynb,py:light"
  },
  "kernelspec": {
   "display_name": "Python 3",
   "language": "python",
   "name": "python3"
  },
  "language_info": {
   "codemirror_mode": {
    "name": "ipython",
    "version": 3
   },
   "file_extension": ".py",
   "mimetype": "text/x-python",
   "name": "python",
   "nbconvert_exporter": "python",
   "pygments_lexer": "ipython3",
   "version": "3.8.8"
  }
 },
 "nbformat": 4,
 "nbformat_minor": 5
}

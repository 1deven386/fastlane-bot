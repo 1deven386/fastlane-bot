{
 "cells": [
  {
   "cell_type": "code",
   "execution_count": null,
   "id": "84fa264b",
   "metadata": {
    "ExecuteTime": {
     "end_time": "2023-07-09T13:54:12.577531Z",
     "start_time": "2023-07-09T13:54:12.514167Z"
    }
   },
   "outputs": [],
   "source": [
    "# coding=utf-8\n",
    "\"\"\"\n",
    "This module contains the tests for the exchanges classes\n",
    "\"\"\"\n",
    "from fastlane_bot import Bot, Config\n",
    "from fastlane_bot.bot import CarbonBot\n",
    "from fastlane_bot.tools.cpc import ConstantProductCurve\n",
    "from fastlane_bot.tools.cpc import ConstantProductCurve as CPC\n",
    "from fastlane_bot.events.exchanges import UniswapV2, UniswapV3, SushiswapV2, CarbonV1, BancorV3\n",
    "from fastlane_bot.events.interface import QueryInterface\n",
    "from fastlane_bot.helpers.poolandtokens import PoolAndTokens\n",
    "from fastlane_bot.helpers import TradeInstruction, TxReceiptHandler, TxRouteHandler, TxSubmitHandler, TxHelpers, TxHelper\n",
    "from fastlane_bot.events.managers.manager import Manager\n",
    "from fastlane_bot.events.interface import QueryInterface\n",
    "from joblib import Parallel, delayed\n",
    "import pytest\n",
    "import math\n",
    "import json\n",
    "print(\"{0.__name__} v{0.__VERSION__} ({0.__DATE__})\".format(CPC))\n",
    "print(\"{0.__name__} v{0.__VERSION__} ({0.__DATE__})\".format(Bot))\n",
    "print(\"{0.__name__} v{0.__VERSION__} ({0.__DATE__})\".format(UniswapV2))\n",
    "print(\"{0.__name__} v{0.__VERSION__} ({0.__DATE__})\".format(UniswapV3))\n",
    "print(\"{0.__name__} v{0.__VERSION__} ({0.__DATE__})\".format(SushiswapV2))\n",
    "print(\"{0.__name__} v{0.__VERSION__} ({0.__DATE__})\".format(CarbonV1))\n",
    "print(\"{0.__name__} v{0.__VERSION__} ({0.__DATE__})\".format(BancorV3))\n",
    "from fastlane_bot.testing import *\n",
    "from fastlane_bot.modes import triangle_single_bancor3\n",
    "plt.style.use('seaborn-dark')\n",
    "plt.rcParams['figure.figsize'] = [12,6]\n",
    "from fastlane_bot import __VERSION__\n",
    "require(\"3.0\", __VERSION__)"
   ]
  },
  {
   "cell_type": "markdown",
   "id": "4c4e2283",
   "metadata": {},
   "source": [
    "# Multi Mode [NB038]"
   ]
  },
  {
   "cell_type": "code",
   "execution_count": null,
   "id": "a51e5ec2",
   "metadata": {
    "ExecuteTime": {
     "end_time": "2023-07-09T13:54:13.771032Z",
     "start_time": "2023-07-09T13:54:12.517536Z"
    }
   },
   "outputs": [],
   "source": [
    "C = cfg = Config.new(config=Config.CONFIG_MAINNET)\n",
    "C.DEFAULT_MIN_PROFIT_BNT = 0.02\n",
    "cfg.DEFAULT_MIN_PROFIT_BNT = 0.02\n",
    "assert (C.NETWORK == C.NETWORK_MAINNET)\n",
    "assert (C.PROVIDER == C.PROVIDER_ALCHEMY)\n",
    "setup_bot = CarbonBot(ConfigObj=C)"
   ]
  },
  {
   "cell_type": "code",
   "execution_count": null,
   "id": "c8f41237",
   "metadata": {},
   "outputs": [],
   "source": [
    "assert(cfg.DEFAULT_MIN_PROFIT_BNT <= 0.02), f\"[TestMultiMode], DEFAULT_MIN_PROFIT_BNT must be <= 0.02 for this Notebook to run, currently set to {cfg.DEFAULT_MIN_PROFIT_BNT}\"\n",
    "assert(C.DEFAULT_MIN_PROFIT_BNT <= 0.02), f\"[TestMultiMode], DEFAULT_MIN_PROFIT_BNT must be <= 0.02 for this Notebook to run, currently set to {cfg.DEFAULT_MIN_PROFIT_BNT}\"\n"
   ]
  },
  {
   "cell_type": "code",
   "execution_count": null,
   "id": "a8986ce6",
   "metadata": {
    "ExecuteTime": {
     "end_time": "2023-07-09T13:54:13.815668Z",
     "start_time": "2023-07-09T13:54:13.771735Z"
    }
   },
   "outputs": [],
   "source": [
    "\n",
    "\n",
    "pools = None\n",
    "with open('fastlane_bot/data/tests/latest_pool_data_testing.json') as f:\n",
    "    pools = json.load(f)\n",
    "pools = [pool for pool in pools]"
   ]
  },
  {
   "cell_type": "code",
   "execution_count": null,
   "id": "b37b1c86",
   "metadata": {
    "ExecuteTime": {
     "end_time": "2023-07-09T13:54:13.818688Z",
     "start_time": "2023-07-09T13:54:13.815923Z"
    }
   },
   "outputs": [],
   "source": [
    "pools[0]\n",
    "static_pools = pools"
   ]
  },
  {
   "cell_type": "code",
   "execution_count": null,
   "id": "3d52e87d",
   "metadata": {
    "ExecuteTime": {
     "end_time": "2023-07-09T13:54:13.839769Z",
     "start_time": "2023-07-09T13:54:13.823320Z"
    }
   },
   "outputs": [],
   "source": [
    "state = pools\n",
    "exchanges = list({ex['exchange_name'] for ex in state})\n",
    "db = QueryInterface(state=state, ConfigObj=C, exchanges=exchanges)\n",
    "setup_bot.db = db"
   ]
  },
  {
   "cell_type": "code",
   "execution_count": null,
   "id": "6cc5b472",
   "metadata": {
    "ExecuteTime": {
     "end_time": "2023-07-09T13:54:13.915008Z",
     "start_time": "2023-07-09T13:54:13.849521Z"
    }
   },
   "outputs": [],
   "source": [
    "static_pool_data_filename = \"static_pool_data\"\n",
    "\n",
    "static_pool_data = pd.read_csv(f\"fastlane_bot/data/{static_pool_data_filename}.csv\", low_memory=False)\n",
    "    \n",
    "uniswap_v2_event_mappings = pd.read_csv(\"fastlane_bot/data/uniswap_v2_event_mappings.csv\", low_memory=False)\n",
    "        \n",
    "tokens = pd.read_csv(\"fastlane_bot/data/tokens.csv\", low_memory=False)\n",
    "        \n",
    "exchanges = \"carbon_v1,bancor_v3,uniswap_v3,uniswap_v2,sushiswap_v2\"\n",
    "\n",
    "exchanges = exchanges.split(\",\")\n",
    "arb_mode = \"multi_triangle\"\n",
    "\n",
    "alchemy_max_block_fetch = 20"
   ]
  },
  {
   "cell_type": "code",
   "execution_count": null,
   "id": "7695b95f",
   "metadata": {
    "ExecuteTime": {
     "end_time": "2023-07-09T13:54:14.061176Z",
     "start_time": "2023-07-09T13:54:13.913015Z"
    }
   },
   "outputs": [],
   "source": [
    "static_pool_data[\"cid\"] = [\n",
    "        cfg.w3.keccak(text=f\"{row['descr']}\").hex()\n",
    "        for index, row in static_pool_data.iterrows()\n",
    "    ]\n"
   ]
  },
  {
   "cell_type": "code",
   "execution_count": null,
   "id": "4a78f85d",
   "metadata": {
    "ExecuteTime": {
     "end_time": "2023-07-09T13:54:14.320271Z",
     "start_time": "2023-07-09T13:54:14.062220Z"
    },
    "collapsed": false
   },
   "outputs": [],
   "source": [
    "# Filter out pools that are not in the supported exchanges\n",
    "static_pool_data = [\n",
    "    row for index, row in static_pool_data.iterrows()\n",
    "    if row[\"exchange_name\"] in exchanges\n",
    "]\n",
    "\n",
    "static_pool_data = pd.DataFrame(static_pool_data)"
   ]
  },
  {
   "cell_type": "code",
   "execution_count": null,
   "id": "81cad9f1",
   "metadata": {
    "ExecuteTime": {
     "end_time": "2023-07-09T13:54:14.327195Z",
     "start_time": "2023-07-09T13:54:14.322677Z"
    },
    "collapsed": false
   },
   "outputs": [],
   "source": [
    "static_pool_data['exchange_name'].unique()"
   ]
  },
  {
   "cell_type": "code",
   "execution_count": null,
   "id": "da422583",
   "metadata": {
    "ExecuteTime": {
     "end_time": "2023-07-09T13:54:14.649580Z",
     "start_time": "2023-07-09T13:54:14.352440Z"
    }
   },
   "outputs": [],
   "source": [
    "# Initialize data fetch manager\n",
    "mgr = Manager(\n",
    "    web3=cfg.w3,\n",
    "    cfg=cfg,\n",
    "    pool_data=static_pool_data.to_dict(orient=\"records\"),\n",
    "    SUPPORTED_EXCHANGES=exchanges,\n",
    "    alchemy_max_block_fetch=alchemy_max_block_fetch,\n",
    "    uniswap_v2_event_mappings=uniswap_v2_event_mappings,\n",
    "    tokens=tokens.to_dict(orient=\"records\"),\n",
    ")\n",
    "\n",
    "# Add initial pools for each row in the static_pool_data\n",
    "start_time = time.time()\n",
    "Parallel(n_jobs=-1, backend=\"threading\")(\n",
    "    delayed(mgr.add_pool_to_exchange)(row) for row in mgr.pool_data\n",
    ")\n",
    "cfg.logger.info(f\"Time taken to add initial pools: {time.time() - start_time}\")\n",
    "\n",
    "# check if any duplicate cid's exist in the pool data\n",
    "mgr.deduplicate_pool_data()\n",
    "cids = [pool[\"cid\"] for pool in mgr.pool_data]\n",
    "assert len(cids) == len(set(cids)), \"duplicate cid's exist in the pool data\""
   ]
  },
  {
   "cell_type": "code",
   "execution_count": null,
   "id": "c7b0d9e1",
   "metadata": {
    "ExecuteTime": {
     "end_time": "2023-07-09T13:54:14.657376Z",
     "start_time": "2023-07-09T13:54:14.655798Z"
    }
   },
   "outputs": [],
   "source": [
    "def init_bot(mgr: Manager) -> CarbonBot:\n",
    "    \"\"\"\n",
    "    Initializes the bot.\n",
    "\n",
    "    Parameters\n",
    "    ----------\n",
    "    mgr : Manager\n",
    "        The manager object.\n",
    "\n",
    "    Returns\n",
    "    -------\n",
    "    CarbonBot\n",
    "        The bot object.\n",
    "    \"\"\"\n",
    "    mgr.cfg.logger.info(\"Initializing the bot...\")\n",
    "    bot = CarbonBot(ConfigObj=mgr.cfg)\n",
    "    bot.db = db\n",
    "    bot.db.mgr = mgr\n",
    "    assert isinstance(\n",
    "        bot.db, QueryInterface\n",
    "    ), \"QueryInterface not initialized correctly\"\n",
    "    return bot"
   ]
  },
  {
   "cell_type": "code",
   "execution_count": null,
   "id": "30affd76",
   "metadata": {
    "ExecuteTime": {
     "end_time": "2023-07-09T13:54:14.788568Z",
     "start_time": "2023-07-09T13:54:14.658075Z"
    }
   },
   "outputs": [],
   "source": [
    "bot = init_bot(mgr)"
   ]
  },
  {
   "cell_type": "code",
   "execution_count": null,
   "id": "942a956f",
   "metadata": {},
   "outputs": [],
   "source": [
    "mgr.cfg.DEFAULT_MIN_PROFIT_BNT = 0.02\n",
    "bot.ConfigObj.DEFAULT_MIN_PROFIT_BNT = 0.02"
   ]
  },
  {
   "cell_type": "code",
   "execution_count": null,
   "id": "a406e627",
   "metadata": {},
   "outputs": [],
   "source": [
    "print(bot.ConfigObj.DEFAULT_MIN_PROFIT_BNT)"
   ]
  },
  {
   "cell_type": "code",
   "execution_count": null,
   "id": "d838f999",
   "metadata": {
    "ExecuteTime": {
     "end_time": "2023-07-09T13:54:15.109721Z",
     "start_time": "2023-07-09T13:54:14.794835Z"
    },
    "collapsed": false
   },
   "outputs": [],
   "source": [
    "# add data cleanup steps from main.py\n",
    "bot.db.handle_token_key_cleanup()\n",
    "bot.db.remove_unmapped_uniswap_v2_pools()\n",
    "bot.db.remove_zero_liquidity_pools()\n",
    "bot.db.remove_unsupported_exchanges()"
   ]
  },
  {
   "cell_type": "code",
   "execution_count": null,
   "id": "fcee51a8",
   "metadata": {},
   "outputs": [],
   "source": [
    "assert bot.ConfigObj.DEFAULT_MIN_PROFIT_BNT == 0.02"
   ]
  },
  {
   "cell_type": "code",
   "execution_count": null,
   "id": "1f5979f7",
   "metadata": {},
   "outputs": [],
   "source": [
    "tokens = bot.db.get_tokens()"
   ]
  },
  {
   "cell_type": "code",
   "execution_count": null,
   "id": "54ae3201",
   "metadata": {
    "ExecuteTime": {
     "end_time": "2023-07-09T13:54:15.119648Z",
     "start_time": "2023-07-09T13:54:15.112719Z"
    }
   },
   "outputs": [],
   "source": [
    "ADDRDEC = {t.key: (t.address, int(t.decimals)) for t in tokens if not math.isnan(t.decimals)}"
   ]
  },
  {
   "cell_type": "code",
   "execution_count": null,
   "id": "56b84131",
   "metadata": {
    "ExecuteTime": {
     "end_time": "2023-07-09T13:54:15.158900Z",
     "start_time": "2023-07-09T13:54:15.123724Z"
    }
   },
   "outputs": [],
   "source": [
    "flashloan_tokens = bot.setup_flashloan_tokens(None)\n",
    "CCm = bot.setup_CCm(None)"
   ]
  },
  {
   "cell_type": "code",
   "execution_count": null,
   "id": "79967a49",
   "metadata": {
    "ExecuteTime": {
     "end_time": "2023-07-09T13:54:15.164754Z",
     "start_time": "2023-07-09T13:54:15.137291Z"
    }
   },
   "outputs": [],
   "source": [
    "pools = db.get_pool_data_with_tokens()"
   ]
  },
  {
   "cell_type": "code",
   "execution_count": null,
   "id": "f729b8dd",
   "metadata": {
    "ExecuteTime": {
     "end_time": "2023-07-09T13:54:15.356070Z",
     "start_time": "2023-07-09T13:54:15.145394Z"
    }
   },
   "outputs": [],
   "source": [
    "run_full = bot._run(flashloan_tokens=flashloan_tokens, CCm=CCm, arb_mode=arb_mode, data_validator=False, result=bot.XS_ARBOPPS)"
   ]
  },
  {
   "cell_type": "code",
   "execution_count": null,
   "id": "aaaf7423",
   "metadata": {
    "ExecuteTime": {
     "end_time": "2023-07-09T13:54:15.356301Z",
     "start_time": "2023-07-09T13:54:15.352256Z"
    }
   },
   "outputs": [],
   "source": [
    "arb_finder = bot._get_arb_finder(\"multi_triangle\")"
   ]
  },
  {
   "cell_type": "markdown",
   "id": "87d950bd",
   "metadata": {},
   "source": [
    "### Test Setup & Dataset"
   ]
  },
  {
   "cell_type": "code",
   "execution_count": null,
   "id": "84cf37eb",
   "metadata": {},
   "outputs": [],
   "source": [
    "assert arb_finder.__name__ == \"ArbitrageFinderTriangleMulti\", f\"[TestMultiMode] Expected arb_finder class name name = FindArbitrageMultiPairwise, found {arb_finder.__name__}\""
   ]
  },
  {
   "cell_type": "code",
   "execution_count": null,
   "id": "b1f40498",
   "metadata": {},
   "outputs": [],
   "source": [
    "finder2 = arb_finder(\n",
    "            flashloan_tokens=flashloan_tokens,\n",
    "            CCm=CCm,\n",
    "            mode=\"bothin\",\n",
    "            result=bot.AO_TOKENS,\n",
    "            ConfigObj=bot.ConfigObj,\n",
    "        )"
   ]
  },
  {
   "cell_type": "code",
   "execution_count": null,
   "id": "c7451941",
   "metadata": {},
   "outputs": [],
   "source": []
  },
  {
   "cell_type": "code",
   "execution_count": null,
   "id": "6523d419",
   "metadata": {},
   "outputs": [],
   "source": [
    "combos = finder2.get_combos(flashloan_tokens=flashloan_tokens, CCm=CCm, arb_mode=\"multi_triangle\")"
   ]
  },
  {
   "cell_type": "markdown",
   "id": "75809275",
   "metadata": {},
   "source": [
    "### Check Combos"
   ]
  },
  {
   "cell_type": "code",
   "execution_count": null,
   "id": "4e2d77cc",
   "metadata": {},
   "outputs": [],
   "source": [
    "assert len(combos) == 1370, f\"[TestMultiMode] Using wrong dataset, expected 1370 combos, found {len(combos)}\""
   ]
  },
  {
   "cell_type": "markdown",
   "id": "e703ba6b",
   "metadata": {},
   "source": [
    "### Test Multi Arb Finder"
   ]
  },
  {
   "cell_type": "code",
   "execution_count": null,
   "id": "48e2f5a1",
   "metadata": {},
   "outputs": [],
   "source": [
    "finder = arb_finder(\n",
    "            flashloan_tokens=flashloan_tokens,\n",
    "            CCm=CCm,\n",
    "            mode=\"bothin\",\n",
    "            result=bot.AO_CANDIDATES,\n",
    "            ConfigObj=bot.ConfigObj,\n",
    "        )"
   ]
  },
  {
   "cell_type": "code",
   "execution_count": null,
   "id": "63ea14a3",
   "metadata": {},
   "outputs": [
    {
     "name": "stdout",
     "output_type": "stream",
     "text": [
      "profit: 1.3865466748084541e-07, DEFAULT_MIN_PROFIT: 100\n",
      "profit: -2.0798200122126813e-07, DEFAULT_MIN_PROFIT: 100\n",
      "profit: -2.0798200122126813e-07, DEFAULT_MIN_PROFIT: 100\n",
      "profit: -2.0798200122126813e-07, DEFAULT_MIN_PROFIT: 100\n",
      "profit: -2.0798200122126813e-07, DEFAULT_MIN_PROFIT: 100\n",
      "profit: -1.3865466748084541e-07, DEFAULT_MIN_PROFIT: 100\n",
      "profit: 1.3865466748084541e-07, DEFAULT_MIN_PROFIT: 100\n",
      "profit: -2.0798200122126813e-07, DEFAULT_MIN_PROFIT: 100\n",
      "profit: -2.0798200122126813e-07, DEFAULT_MIN_PROFIT: 100\n",
      "profit: -2.0798200122126813e-07, DEFAULT_MIN_PROFIT: 100\n",
      "profit: -2.0798200122126813e-07, DEFAULT_MIN_PROFIT: 100\n",
      "profit: -1.3865466748084541e-07, DEFAULT_MIN_PROFIT: 100\n",
      "profit: -1.3865466748084541e-07, DEFAULT_MIN_PROFIT: 100\n",
      "profit: -1.3865466748084541e-07, DEFAULT_MIN_PROFIT: 100\n",
      "profit: -1.3865466748084541e-07, DEFAULT_MIN_PROFIT: 100\n",
      "profit: -1.3865466748084541e-07, DEFAULT_MIN_PROFIT: 100\n",
      "profit: -1.3865466748084541e-07, DEFAULT_MIN_PROFIT: 100\n",
      "profit: -1.3865466748084541e-07, DEFAULT_MIN_PROFIT: 100\n",
      "profit: -1.3865466748084541e-07, DEFAULT_MIN_PROFIT: 100\n",
      "profit: -1.3865466748084541e-07, DEFAULT_MIN_PROFIT: 100\n",
      "profit: -1.3865466748084541e-07, DEFAULT_MIN_PROFIT: 100\n",
      "profit: -1.3865466748084541e-07, DEFAULT_MIN_PROFIT: 100\n",
      "profit: -1.3865466748084541e-07, DEFAULT_MIN_PROFIT: 100\n",
      "profit: -1.3865466748084541e-07, DEFAULT_MIN_PROFIT: 100\n",
      "profit: -1.3865466748084541e-07, DEFAULT_MIN_PROFIT: 100\n",
      "profit: -1.3865466748084541e-07, DEFAULT_MIN_PROFIT: 100\n",
      "profit: -1.3865466748084541e-07, DEFAULT_MIN_PROFIT: 100\n",
      "profit: -1.3865466748084541e-07, DEFAULT_MIN_PROFIT: 100\n",
      "profit: -1.3865466748084541e-07, DEFAULT_MIN_PROFIT: 100\n",
      "profit: -1.3865466748084541e-07, DEFAULT_MIN_PROFIT: 100\n",
      "profit: -1.2998875076329258e-07, DEFAULT_MIN_PROFIT: 100\n",
      "profit: -1.2998875076329258e-07, DEFAULT_MIN_PROFIT: 100\n",
      "profit: -1.2998875076329258e-07, DEFAULT_MIN_PROFIT: 100\n",
      "profit: -1.2998875076329258e-07, DEFAULT_MIN_PROFIT: 100\n",
      "profit: -1.2998875076329258e-07, DEFAULT_MIN_PROFIT: 100\n",
      "profit: -1.2998875076329258e-07, DEFAULT_MIN_PROFIT: 100\n",
      "profit: -1.2998875076329258e-07, DEFAULT_MIN_PROFIT: 100\n",
      "profit: -1.2998875076329258e-07, DEFAULT_MIN_PROFIT: 100\n",
      "profit: -1.3892547737826894e-07, DEFAULT_MIN_PROFIT: 100\n",
      "profit: -1.3892547737826894e-07, DEFAULT_MIN_PROFIT: 100\n",
      "profit: -1.3892547737826894e-07, DEFAULT_MIN_PROFIT: 100\n",
      "profit: -4.1596400244253627e-07, DEFAULT_MIN_PROFIT: 100\n",
      "profit: -1.3865466748084541e-07, DEFAULT_MIN_PROFIT: 100\n",
      "profit: -4.1596400244253627e-07, DEFAULT_MIN_PROFIT: 100\n",
      "profit: -1.3865466748084541e-07, DEFAULT_MIN_PROFIT: 100\n",
      "profit: -4.1596400244253627e-07, DEFAULT_MIN_PROFIT: 100\n",
      "profit: -1.3865466748084541e-07, DEFAULT_MIN_PROFIT: 100\n",
      "profit: -4.1596400244253627e-07, DEFAULT_MIN_PROFIT: 100\n",
      "profit: -1.3865466748084541e-07, DEFAULT_MIN_PROFIT: 100\n",
      "profit: -1.3865466748084541e-07, DEFAULT_MIN_PROFIT: 100\n",
      "profit: -1.3865466748084541e-07, DEFAULT_MIN_PROFIT: 100\n",
      "profit: -4.1596400244253627e-07, DEFAULT_MIN_PROFIT: 100\n",
      "profit: -1.3865466748084541e-07, DEFAULT_MIN_PROFIT: 100\n",
      "profit: -1.3865466748084541e-07, DEFAULT_MIN_PROFIT: 100"
     ]
    },
    {
     "name": "stdout",
     "output_type": "stream",
     "text": [
      "\n",
      "profit: -1.3865466748084541e-07, DEFAULT_MIN_PROFIT: 100\n",
      "profit: -4.1596400244253627e-07, DEFAULT_MIN_PROFIT: 100\n",
      "profit: -1.3865466748084541e-07, DEFAULT_MIN_PROFIT: 100\n",
      "profit: -1.3865466748084541e-07, DEFAULT_MIN_PROFIT: 100\n",
      "profit: -1.3865466748084541e-07, DEFAULT_MIN_PROFIT: 100\n",
      "profit: -1.3865466748084541e-07, DEFAULT_MIN_PROFIT: 100\n",
      "profit: 4.1596400244253627e-07, DEFAULT_MIN_PROFIT: 100\n",
      "profit: 6.932733374042271e-08, DEFAULT_MIN_PROFIT: 100\n",
      "profit: 1.3865466748084541e-07, DEFAULT_MIN_PROFIT: 100\n",
      "profit: 1.3865466748084541e-07, DEFAULT_MIN_PROFIT: 100\n",
      "profit: 1.3865466748084541e-07, DEFAULT_MIN_PROFIT: 100\n",
      "profit: 1.3865466748084541e-07, DEFAULT_MIN_PROFIT: 100\n",
      "profit: -0.0, DEFAULT_MIN_PROFIT: 100\n",
      "profit: -0.0, DEFAULT_MIN_PROFIT: 100\n",
      "profit: -0.0, DEFAULT_MIN_PROFIT: 100\n",
      "profit: -0.0, DEFAULT_MIN_PROFIT: 100\n",
      "profit: -0.0, DEFAULT_MIN_PROFIT: 100\n",
      "profit: -0.0, DEFAULT_MIN_PROFIT: 100\n",
      "profit: -0.0, DEFAULT_MIN_PROFIT: 100\n",
      "profit: -0.0, DEFAULT_MIN_PROFIT: 100\n",
      "profit: -0.0, DEFAULT_MIN_PROFIT: 100\n",
      "profit: -0.0, DEFAULT_MIN_PROFIT: 100\n",
      "profit: -0.0, DEFAULT_MIN_PROFIT: 100\n",
      "profit: -1.3973790707053954e-07, DEFAULT_MIN_PROFIT: 100\n",
      "profit: -1.3865466748084541e-07, DEFAULT_MIN_PROFIT: 100\n",
      "profit: -1.3865466748084541e-07, DEFAULT_MIN_PROFIT: 100\n",
      "profit: -1.3865466748084541e-07, DEFAULT_MIN_PROFIT: 100\n",
      "profit: -1.3865466748084541e-07, DEFAULT_MIN_PROFIT: 100\n",
      "profit: -1.3865466748084541e-07, DEFAULT_MIN_PROFIT: 100\n",
      "profit: 2.778509547565379e-07, DEFAULT_MIN_PROFIT: 100\n",
      "profit: -6.878571394557566e-08, DEFAULT_MIN_PROFIT: 100\n",
      "profit: 5.416197948470524e-10, DEFAULT_MIN_PROFIT: 100\n",
      "profit: 2.773101283500622e-07, DEFAULT_MIN_PROFIT: 100\n",
      "profit: -6.932654035205135e-08, DEFAULT_MIN_PROFIT: 100\n",
      "profit: 7.93388371357987e-13, DEFAULT_MIN_PROFIT: 100\n",
      "profit: 7.93388371357987e-13, DEFAULT_MIN_PROFIT: 100\n",
      "profit: 7.93388371357987e-13, DEFAULT_MIN_PROFIT: 100\n",
      "profit: 7.93388371357987e-13, DEFAULT_MIN_PROFIT: 100\n",
      "profit: 7.93388371357987e-13, DEFAULT_MIN_PROFIT: 100\n",
      "profit: 7.93388371357987e-13, DEFAULT_MIN_PROFIT: 100\n",
      "profit: 7.93388371357987e-13, DEFAULT_MIN_PROFIT: 100\n",
      "profit: -1.3865466748084541e-07, DEFAULT_MIN_PROFIT: 100\n",
      "profit: -1.3865466748084541e-07, DEFAULT_MIN_PROFIT: 100\n",
      "profit: -1.3865466748084541e-07, DEFAULT_MIN_PROFIT: 100\n",
      "profit: -1.3865466748084541e-07, DEFAULT_MIN_PROFIT: 100\n",
      "profit: -1.3865466748084541e-07, DEFAULT_MIN_PROFIT: 100\n",
      "profit: -1.3865466748084541e-07, DEFAULT_MIN_PROFIT: 100\n",
      "profit: 8.530511768841076e-09, DEFAULT_MIN_PROFIT: 100\n",
      "profit: 8.530511768841076e-09, DEFAULT_MIN_PROFIT: 100\n",
      "profit: 8.530511768841076e-09, DEFAULT_MIN_PROFIT: 100\n",
      "profit: 8.530511768841076e-09, DEFAULT_MIN_PROFIT: 100\n",
      "profit: 8.530511768841076e-09, DEFAULT_MIN_PROFIT: 100\n",
      "profit: 8.530511768841076e-09, DEFAULT_MIN_PROFIT: 100\n",
      "profit: 8.530511768841076e-09, DEFAULT_MIN_PROFIT: 100\n",
      "profit: 8.530511768841076e-09, DEFAULT_MIN_PROFIT: 100\n",
      "profit: 8.530511768841076e-09, DEFAULT_MIN_PROFIT: 100\n",
      "profit: 8.530511768841076e-09, DEFAULT_MIN_PROFIT: 100\n",
      "profit: 8.530511768841076e-09, DEFAULT_MIN_PROFIT: 100\n",
      "profit: 8.530511768841076e-09, DEFAULT_MIN_PROFIT: 100\n",
      "profit: 8.530511768841076e-09, DEFAULT_MIN_PROFIT: 100\n",
      "profit: 8.530511768841076e-09, DEFAULT_MIN_PROFIT: 100\n",
      "profit: 8.530511768841076e-09, DEFAULT_MIN_PROFIT: 100\n",
      "profit: 0.022947105717922616, DEFAULT_MIN_PROFIT: 100\n",
      "profit: 0.07188252177562741, DEFAULT_MIN_PROFIT: 100\n",
      "profit: 1.2138114635240738e-06, DEFAULT_MIN_PROFIT: 100\n",
      "profit: -1.5172643294050922e-07, DEFAULT_MIN_PROFIT: 100\n",
      "profit: 0.022947105717922616, DEFAULT_MIN_PROFIT: 100\n",
      "profit: 0.022947105717922616, DEFAULT_MIN_PROFIT: 100\n",
      "profit: 0.07188252177562741, DEFAULT_MIN_PROFIT: 100\n",
      "profit: 0.07188252177562741, DEFAULT_MIN_PROFIT: 100\n",
      "profit: 0.022947105717922616, DEFAULT_MIN_PROFIT: 100\n",
      "profit: 0.07188252177562741, DEFAULT_MIN_PROFIT: 100\n",
      "profit: 1.2138114635240738e-06, DEFAULT_MIN_PROFIT: 100\n",
      "profit: -1.5172643294050922e-07, DEFAULT_MIN_PROFIT: 100\n",
      "profit: 0.022947105717922616, DEFAULT_MIN_PROFIT: 100\n",
      "profit: 0.022947105717922616, DEFAULT_MIN_PROFIT: 100\n",
      "profit: 0.07188252177562741, DEFAULT_MIN_PROFIT: 100\n",
      "profit: 0.07188252177562741, DEFAULT_MIN_PROFIT: 100\n",
      "profit: 0.022947105717922616, DEFAULT_MIN_PROFIT: 100\n",
      "profit: 0.022947105717922616, DEFAULT_MIN_PROFIT: 100\n",
      "profit: 0.07188252177562741, DEFAULT_MIN_PROFIT: 100\n",
      "profit: 0.07188252177562741, DEFAULT_MIN_PROFIT: 100\n",
      "profit: 0.07188252177562741, DEFAULT_MIN_PROFIT: 100\n",
      "profit: 0.07188252177562741, DEFAULT_MIN_PROFIT: 100\n",
      "profit: 0.07188252177562741, DEFAULT_MIN_PROFIT: 100\n",
      "profit: 0.07188252177562741, DEFAULT_MIN_PROFIT: 100\n",
      "profit: 0.07188252177562741, DEFAULT_MIN_PROFIT: 100\n",
      "profit: 0.07188252177562741, DEFAULT_MIN_PROFIT: 100\n",
      "profit: 0.07188252177562741, DEFAULT_MIN_PROFIT: 100\n",
      "profit: 0.07188252177562741, DEFAULT_MIN_PROFIT: 100\n",
      "profit: -3.7931608235127306e-08, DEFAULT_MIN_PROFIT: 100\n",
      "profit: -3.7931608235127306e-08, DEFAULT_MIN_PROFIT: 100\n",
      "profit: 3.7931608235127306e-08, DEFAULT_MIN_PROFIT: 100\n",
      "profit: 3.7931608235127306e-08, DEFAULT_MIN_PROFIT: 100\n",
      "profit: 3.7931608235127306e-08, DEFAULT_MIN_PROFIT: 100\n",
      "profit: 3.7931608235127306e-08, DEFAULT_MIN_PROFIT: 100\n",
      "profit: 3.7931608235127306e-08, DEFAULT_MIN_PROFIT: 100\n",
      "profit: 3.7931608235127306e-08, DEFAULT_MIN_PROFIT: 100\n",
      "profit: 3.7931608235127306e-08, DEFAULT_MIN_PROFIT: 100\n",
      "profit: 3.7931608235127306e-08, DEFAULT_MIN_PROFIT: 100\n",
      "profit: 3.7931608235127306e-08, DEFAULT_MIN_PROFIT: 100\n",
      "profit: 3.7931608235127306e-08, DEFAULT_MIN_PROFIT: 100\n",
      "profit: 3.7931608235127306e-08, DEFAULT_MIN_PROFIT: 100\n",
      "profit: 3.7931608235127306e-08, DEFAULT_MIN_PROFIT: 100\n",
      "profit: 3.7931608235127306e-08, DEFAULT_MIN_PROFIT: 100\n",
      "profit: 3.7931608235127306e-08, DEFAULT_MIN_PROFIT: 100\n",
      "profit: -3.7931608235127306e-08, DEFAULT_MIN_PROFIT: 100\n",
      "profit: -3.7931608235127306e-08, DEFAULT_MIN_PROFIT: 100\n",
      "profit: 3.7931608235127306e-08, DEFAULT_MIN_PROFIT: 100\n",
      "profit: 3.7931608235127306e-08, DEFAULT_MIN_PROFIT: 100\n",
      "profit: 3.7931608235127306e-08, DEFAULT_MIN_PROFIT: 100\n",
      "profit: 3.7931608235127306e-08, DEFAULT_MIN_PROFIT: 100\n",
      "profit: 3.7931608235127306e-08, DEFAULT_MIN_PROFIT: 100\n",
      "profit: 3.7931608235127306e-08, DEFAULT_MIN_PROFIT: 100\n",
      "profit: 3.7931608235127306e-08, DEFAULT_MIN_PROFIT: 100\n",
      "profit: 3.7931608235127306e-08, DEFAULT_MIN_PROFIT: 100\n",
      "profit: 3.7931608235127306e-08, DEFAULT_MIN_PROFIT: 100\n",
      "profit: 3.7931608235127306e-08, DEFAULT_MIN_PROFIT: 100\n"
     ]
    }
   ],
   "source": [
    "r = finder.find_arbitrage()"
   ]
  },
  {
   "cell_type": "code",
   "execution_count": null,
   "id": "dbefb9ed",
   "metadata": {},
   "outputs": [],
   "source": []
  },
  {
   "cell_type": "code",
   "execution_count": null,
   "id": "c4f92d83",
   "metadata": {},
   "outputs": [],
   "source": [
    "assert len(r) == 40, f\"[TestMultiMode] Expected 40 arbs, found {len(r)}\"\n",
    "assert len(r) == len(run_full), f\"[TestMultiMode] Expected arbs from .find_arbitrage: {len(r)} - to match _run: {len(run_full)}\""
   ]
  },
  {
   "cell_type": "markdown",
   "id": "b91f50f7",
   "metadata": {},
   "source": [
    "### Test multiple Carbon Curves are being used"
   ]
  },
  {
   "cell_type": "code",
   "execution_count": null,
   "id": "4310f546",
   "metadata": {},
   "outputs": [],
   "source": [
    "multi_carbon_count = 0\n",
    "\n",
    "for arb in r:\n",
    "    (\n",
    "            best_profit,\n",
    "            best_trade_instructions_df,\n",
    "            best_trade_instructions_dic,\n",
    "            best_src_token,\n",
    "            best_trade_instructions,\n",
    "        ) = arb\n",
    "    if len(best_trade_instructions_dic) > 3:\n",
    "        multi_carbon_count += 1\n",
    "assert multi_carbon_count > 0, f\"[TestMultiMode] Not finding arbs with multiple Carbon curves.\""
   ]
  },
  {
   "cell_type": "markdown",
   "id": "7fedbb8a",
   "metadata": {},
   "source": [
    "### Test all Carbon Curves are in the same direction"
   ]
  },
  {
   "cell_type": "code",
   "execution_count": null,
   "id": "1c53873e",
   "metadata": {},
   "outputs": [],
   "source": [
    "for arb in r:\n",
    "    (\n",
    "            best_profit,\n",
    "            best_trade_instructions_df,\n",
    "            best_trade_instructions_dic,\n",
    "            best_src_token,\n",
    "            best_trade_instructions,\n",
    "        ) = arb\n",
    "    if len(best_trade_instructions_dic) > 3:\n",
    "        \n",
    "        has_zero_curves = False\n",
    "        has_one_curves = False\n",
    "        for curve in best_trade_instructions_dic:\n",
    "            if \"-0\" in curve['cid']:\n",
    "                has_zero_curves = True\n",
    "            if \"-1\" in curve['cid']:\n",
    "                has_one_curves = True\n",
    "        assert not has_zero_curves or not has_one_curves, f\"[TestMultiMode] Finding Carbon curves in opposite directions - not supported in this mode.\"\n"
   ]
  }
 ],
 "metadata": {
  "kernelspec": {
   "display_name": "Python 3 (ipykernel)",
   "language": "python",
   "name": "python3"
  },
  "language_info": {
   "codemirror_mode": {
    "name": "ipython",
    "version": 3
   },
   "file_extension": ".py",
   "mimetype": "text/x-python",
   "name": "python",
   "nbconvert_exporter": "python",
   "pygments_lexer": "ipython3",
   "version": "3.10.1"
  }
 },
 "nbformat": 4,
 "nbformat_minor": 5
}

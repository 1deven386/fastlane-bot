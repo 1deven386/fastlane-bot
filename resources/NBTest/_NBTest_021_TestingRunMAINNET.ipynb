{
 "cells": [
  {
   "cell_type": "code",
   "execution_count": 1,
   "id": "8f04c50a-67fe-4f09-822d-6ed6e3ac43e4",
   "metadata": {
    "ExecuteTime": {
     "end_time": "2023-05-08T06:14:31.204327500Z",
     "start_time": "2023-05-08T06:14:26.959036300Z"
    }
   },
   "outputs": [
    {
     "name": "stdout",
     "output_type": "stream",
     "text": [
      "Using default database url, if you want to use a different database, set the backend_url found at the bottom of manager_base.py\n",
      "ConstantProductCurve v2.10.1 (07/May/2023)\n",
      "CarbonBot v3-b2.1 (03/May/2023)\n",
      "imported m, np, pd, plt, os, sys, decimal; defined iseq, raises, require\n"
     ]
    },
    {
     "name": "stderr",
     "output_type": "stream",
     "text": [
      "C:\\Users\\Kveen\\AppData\\Local\\Temp\\ipykernel_35020\\1582963263.py:8: MatplotlibDeprecationWarning: The seaborn styles shipped by Matplotlib are deprecated since 3.6, as they no longer correspond to the styles shipped by seaborn. However, they will remain available as 'seaborn-v0_8-<style>'. Alternatively, directly use the seaborn API instead.\n",
      "  plt.style.use('seaborn-dark')\n"
     ]
    },
    {
     "name": "stdout",
     "output_type": "stream",
     "text": [
      "Version = 3-b2.1 [requirements >= 2.0 is met]\n"
     ]
    }
   ],
   "source": [
    "from fastlane_bot import Config, ConfigDB, ConfigNetwork, ConfigProvider\n",
    "from fastlane_bot.bot import CarbonBot\n",
    "from fastlane_bot.tools.cpc import ConstantProductCurve as CPC, CPCContainer, T\n",
    "from fastlane_bot.helpers import TxHelper\n",
    "print(\"{0.__name__} v{0.__VERSION__} ({0.__DATE__})\".format(CPC))\n",
    "print(\"{0.__name__} v{0.__VERSION__} ({0.__DATE__})\".format(CarbonBot))\n",
    "from fastlane_bot.testing import *\n",
    "plt.style.use('seaborn-dark')\n",
    "plt.rcParams['figure.figsize'] = [12,6]\n",
    "from fastlane_bot import __VERSION__\n",
    "require(\"2.0\", __VERSION__)"
   ]
  },
  {
   "attachments": {},
   "cell_type": "markdown",
   "id": "b3f59f14-b91b-4dba-94b0-3d513aaf41c7",
   "metadata": {},
   "source": [
    "# Testing the _run functions on MAINNET [NBTest021]"
   ]
  },
  {
   "attachments": {},
   "cell_type": "markdown",
   "id": "cf03072d-6304-41f8-b132-9470ae81ac7c",
   "metadata": {},
   "source": [
    "## MAINNET Configuration"
   ]
  },
  {
   "attachments": {},
   "cell_type": "markdown",
   "id": "0990888a-698c-487c-9142-80e62a8393ac",
   "metadata": {},
   "source": [
    "### Set up the bot and curves"
   ]
  },
  {
   "cell_type": "code",
   "execution_count": 2,
   "id": "da9ff008-cb12-44f7-93a8-84f7386da886",
   "metadata": {
    "ExecuteTime": {
     "end_time": "2023-05-08T06:14:36.959100600Z",
     "start_time": "2023-05-08T06:14:31.205330100Z"
    }
   },
   "outputs": [],
   "source": [
    "C = Config.new(config=Config.CONFIG_MAINNET)\n",
    "assert C.DATABASE == C.DATABASE_POSTGRES\n",
    "# assert C.POSTGRES_DB == \"defaultdb\"\n",
    "assert C.NETWORK == C.NETWORK_MAINNET\n",
    "assert C.PROVIDER == C.PROVIDER_ALCHEMY\n",
    "bot = CarbonBot(ConfigObj=C)\n",
    "assert str(type(bot.db)) == \"<class 'fastlane_bot.db.manager.DatabaseManager'>\""
   ]
  },
  {
   "cell_type": "code",
   "execution_count": 3,
   "id": "4c184a25",
   "metadata": {
    "ExecuteTime": {
     "end_time": "2023-05-08T06:14:37.504944700Z",
     "start_time": "2023-05-08T06:14:36.960100600Z"
    }
   },
   "outputs": [
    {
     "name": "stdout",
     "output_type": "stream",
     "text": [
      "Number of curves: 643\n",
      "Number of tokens: 370\n",
      "Exchanges: {'sushiswap_v2', 'uniswap_v2', 'carbon_v1', 'bancor_v3', 'bancor_v2'}\n"
     ]
    }
   ],
   "source": [
    "CCm = bot.get_curves()\n",
    "exch = {c.P(\"exchange\") for c in CCm}\n",
    "print(\"Number of curves:\", len(CCm))\n",
    "print(\"Number of tokens:\", len(CCm.tokens()))\n",
    "print(\"Exchanges:\", exch)"
   ]
  },
  {
   "cell_type": "code",
   "execution_count": 15,
   "id": "d7ee607c",
   "metadata": {
    "ExecuteTime": {
     "end_time": "2023-05-08T06:21:48.511997700Z",
     "start_time": "2023-05-08T06:21:48.494989400Z"
    }
   },
   "outputs": [
    {
     "data": {
      "text/plain": "549"
     },
     "execution_count": 15,
     "metadata": {},
     "output_type": "execute_result"
    }
   ],
   "source": [
    "bad_curves = ['2381976568446569244243622252022377480199-0',\n",
    "              '3743106036130323098097120681749450326030-0',\n",
    "              '4423670769972200025023869896612986748950-0']\n",
    "CCm2 = CPCContainer([x for x in CCm if x.params.exchange not in ['bancor_v2']])\n",
    "len(CCm2)"
   ]
  },
  {
   "attachments": {},
   "cell_type": "markdown",
   "id": "5a26c4b4",
   "metadata": {},
   "source": [
    "## Actual run"
   ]
  },
  {
   "cell_type": "code",
   "execution_count": 5,
   "id": "cab33dc6",
   "metadata": {
    "ExecuteTime": {
     "end_time": "2023-05-08T06:14:37.538237700Z",
     "start_time": "2023-05-08T06:14:37.520180600Z"
    }
   },
   "outputs": [],
   "source": [
    "flt = [T.USDC, T.USDT, T.ETH, T.LINK, T.BNT, T.WBTC, T.DAI]\n",
    "# bot._run(flashloan_tokens=flt, CCm=CCm2)"
   ]
  },
  {
   "attachments": {},
   "cell_type": "markdown",
   "id": "5f2f01c5",
   "metadata": {},
   "source": [
    "## Analytics"
   ]
  },
  {
   "cell_type": "code",
   "execution_count": 17,
   "id": "1419695c",
   "metadata": {
    "ExecuteTime": {
     "end_time": "2023-05-08T06:22:13.748438800Z",
     "start_time": "2023-05-08T06:22:13.234535700Z"
    }
   },
   "outputs": [
    {
     "name": "stderr",
     "output_type": "stream",
     "text": [
      "C:\\Users\\Kveen\\PycharmProjects\\carbonbot\\resources\\NBTest\\fastlane_bot\\tools\\optimizer.py:1310: RuntimeWarning: divide by zero encountered in scalar divide\n",
      "  price = get(p, tokens_ix.get(tknb)) / get(p, tokens_ix.get(tknq))\n",
      "C:\\Users\\Kveen\\PycharmProjects\\carbonbot\\resources\\NBTest\\fastlane_bot\\tools\\optimizer.py:1157: RuntimeWarning: invalid value encountered in subtract\n",
      "  jac[:, j] = (func(x_plus) - y) / Dxj\n",
      "C:\\Users\\Kveen\\PycharmProjects\\carbonbot\\resources\\NBTest\\fastlane_bot\\tools\\optimizer.py:1310: RuntimeWarning: divide by zero encountered in scalar divide\n",
      "  price = get(p, tokens_ix.get(tknb)) / get(p, tokens_ix.get(tknq))\n",
      "C:\\Users\\Kveen\\PycharmProjects\\carbonbot\\resources\\NBTest\\fastlane_bot\\tools\\optimizer.py:1157: RuntimeWarning: invalid value encountered in subtract\n",
      "  jac[:, j] = (func(x_plus) - y) / Dxj\n",
      "C:\\Users\\Kveen\\PycharmProjects\\carbonbot\\resources\\NBTest\\fastlane_bot\\tools\\optimizer.py:1310: RuntimeWarning: divide by zero encountered in scalar divide\n",
      "  price = get(p, tokens_ix.get(tknb)) / get(p, tokens_ix.get(tknq))\n",
      "C:\\Users\\Kveen\\PycharmProjects\\carbonbot\\resources\\NBTest\\fastlane_bot\\tools\\optimizer.py:1157: RuntimeWarning: invalid value encountered in subtract\n",
      "  jac[:, j] = (func(x_plus) - y) / Dxj\n"
     ]
    },
    {
     "data": {
      "text/plain": "[(Decimal('370.6943733035586774349212646484375'),\n                                                   DAI-1d0F      BNT-FF1C\n  732                                          5.580923e+03 -11871.346648\n  12930729942995661611608235082407192035404-0 -5.580923e+03  11500.652275\n  AMMIn                                        5.580923e+03  11500.652275\n  AMMOut                                      -5.580923e+03 -11871.346648\n  TOTAL NET                                   -1.683948e-07   -370.694373,\n  [{'cid': '732',\n    'tknin': 'DAI-1d0F',\n    'amtin': 5580.923325454816,\n    'tknout': 'BNT-FF1C',\n    'amtout': -11871.3466479294,\n    'error': None},\n   {'cid': '12930729942995661611608235082407192035404-0',\n    'tknin': 'BNT-FF1C',\n    'amtin': 11500.652274625842,\n    'tknout': 'DAI-1d0F',\n    'amtout': -5580.923325623211,\n    'error': None}],\n  'BNT-FF1C',\n  (CPCArbOptimizer.TradeInstruction(cid='732', tknin='DAI-1d0F', amtin=5580.923325454816, tknout='BNT-FF1C', amtout=-11871.3466479294, error=None),\n   CPCArbOptimizer.TradeInstruction(cid='12930729942995661611608235082407192035404-0', tknin='BNT-FF1C', amtin=11500.652274625842, tknout='DAI-1d0F', amtout=-5580.923325623211, error=None))),\n (Decimal('3875.03639543447682729655008152675053617050105261854220373152202228084206581116'),\n                                             WETH-6Cc2      DAI-1d0F\n  2b3bf6093e55415785a319a6f48bfe9f             0.00054 -1.000000e+00\n  340282366920938463463374607431768211527-1   -1.00000  1.000000e+00\n  AMMIn                                        0.00054  1.000000e+00\n  AMMOut                                      -1.00000 -1.000000e+00\n  TOTAL NET                                   -0.99946 -9.313226e-10,\n  [{'cid': '2b3bf6093e55415785a319a6f48bfe9f',\n    'tknin': 'WETH-6Cc2',\n    'amtin': 0.0005398605339905771,\n    'tknout': 'DAI-1d0F',\n    'amtout': -1.0000000009313226,\n    'error': None},\n   {'cid': '340282366920938463463374607431768211527-1',\n    'tknin': 'DAI-1d0F',\n    'amtin': 1.0,\n    'tknout': 'WETH-6Cc2',\n    'amtout': -1.0,\n    'error': None}],\n  'WETH-6Cc2',\n  (CPCArbOptimizer.TradeInstruction(cid='2b3bf6093e55415785a319a6f48bfe9f', tknin='WETH-6Cc2', amtin=0.0005398605339905771, tknout='DAI-1d0F', amtout=-1.0000000009313226, error=None),\n   CPCArbOptimizer.TradeInstruction(cid='340282366920938463463374607431768211527-1', tknin='DAI-1d0F', amtin=1.0, tknout='WETH-6Cc2', amtout=-1.0, error=None))),\n (Decimal('-1.05089805798436760408757750789613331558490932373089304929791865106381010264158E-16'),\n                                    WETH-6Cc2  rETH-6393\n  165d9de4a5b74ea1aa09e2c3b845b79c        0.0        0.0\n  AMMIn                                   0.0        0.0\n  AMMOut                                  0.0        0.0\n  TOTAL NET                               0.0        0.0,\n  [{'cid': '165d9de4a5b74ea1aa09e2c3b845b79c',\n    'tknin': 'WETH-6Cc2',\n    'amtin': 0,\n    'tknout': 'rETH-6393',\n    'amtout': 0,\n    'error': None}],\n  'WETH-6Cc2',\n  (CPCArbOptimizer.TradeInstruction(cid='165d9de4a5b74ea1aa09e2c3b845b79c', tknin='WETH-6Cc2', amtin=0, tknout='rETH-6393', amtout=0, error=None),)),\n (Decimal('-8.73137338242363700430166502653198681727238737726448647435972816310822963714600E-12'),\n                                       LINK-86CA     USDT-1ec7\n  d6804f9f95a64ea586c0aab32dc48f37  5.826450e-13 -4.149570e-12\n  AMMIn                             5.826450e-13  0.000000e+00\n  AMMOut                            0.000000e+00 -4.149570e-12\n  TOTAL NET                         5.826450e-13 -4.149570e-12,\n  [{'cid': 'd6804f9f95a64ea586c0aab32dc48f37',\n    'tknin': 'LINK-86CA',\n    'amtin': 5.826450433232822e-13,\n    'tknout': 'USDT-1ec7',\n    'amtout': -4.149569576838985e-12,\n    'error': None}],\n  'LINK-86CA',\n  (CPCArbOptimizer.TradeInstruction(cid='d6804f9f95a64ea586c0aab32dc48f37', tknin='LINK-86CA', amtin=5.826450433232822e-13, tknout='USDT-1ec7', amtout=-4.149569576838985e-12, error=None),)),\n (Decimal('-1.06480163200288256150020305201609595332590089966640078955606441013514995574951E-13'),\n                                       LINK-86CA     USDT-1ec7\n  d6804f9f95a64ea586c0aab32dc48f37  7.105427e-15 -5.684342e-14\n  AMMIn                             7.105427e-15  0.000000e+00\n  AMMOut                            0.000000e+00 -5.684342e-14\n  TOTAL NET                         7.105427e-15 -5.684342e-14,\n  [{'cid': 'd6804f9f95a64ea586c0aab32dc48f37',\n    'tknin': 'LINK-86CA',\n    'amtin': 7.105427357601002e-15,\n    'tknout': 'USDT-1ec7',\n    'amtout': -5.684341886080802e-14,\n    'error': None}],\n  'LINK-86CA',\n  (CPCArbOptimizer.TradeInstruction(cid='d6804f9f95a64ea586c0aab32dc48f37', tknin='LINK-86CA', amtin=7.105427357601002e-15, tknout='USDT-1ec7', amtout=-5.684341886080802e-14, error=None),)),\n (Decimal('1.09134049353027283068415629290379248350260042721426856360267265699803829193115E-9'),\n                                       USDT-1ec7     USDC-eB48\n  a3c4f16e3fd042ab93650511b22d879b  5.147740e-10 -5.117045e-10\n  AMMIn                             5.147740e-10  0.000000e+00\n  AMMOut                            0.000000e+00 -5.117045e-10\n  TOTAL NET                         5.147740e-10 -5.117045e-10,\n  [{'cid': 'a3c4f16e3fd042ab93650511b22d879b',\n    'tknin': 'USDT-1ec7',\n    'amtin': 5.147740012034774e-10,\n    'tknout': 'USDC-eB48',\n    'amtout': -5.117044565849937e-10,\n    'error': None}],\n  'USDC-eB48',\n  (CPCArbOptimizer.TradeInstruction(cid='a3c4f16e3fd042ab93650511b22d879b', tknin='USDT-1ec7', amtin=5.147740012034774e-10, tknout='USDC-eB48', amtout=-5.117044565849937e-10, error=None),)),\n (Decimal('-0E-49'),\n                                    USDT-1ec7  USDC-eB48\n  a3c4f16e3fd042ab93650511b22d879b        0.0        0.0\n  AMMIn                                   0.0        0.0\n  AMMOut                                  0.0        0.0\n  TOTAL NET                               0.0        0.0,\n  [{'cid': 'a3c4f16e3fd042ab93650511b22d879b',\n    'tknin': 'USDT-1ec7',\n    'amtin': 0,\n    'tknout': 'USDC-eB48',\n    'amtout': 0,\n    'error': None}],\n  'USDC-eB48',\n  (CPCArbOptimizer.TradeInstruction(cid='a3c4f16e3fd042ab93650511b22d879b', tknin='USDT-1ec7', amtin=0, tknout='USDC-eB48', amtout=0, error=None),)),\n (Decimal('-0.00000165402889251708984375'),\n             BNT-FF1C     WETH-6Cc2\n  704        0.000002 -4.183676e-10\n  AMMIn      0.000002  0.000000e+00\n  AMMOut     0.000000 -4.183676e-10\n  TOTAL NET  0.000002 -4.183676e-10,\n  [{'cid': '704',\n    'tknin': 'BNT-FF1C',\n    'amtin': 1.6540288925170898e-06,\n    'tknout': 'WETH-6Cc2',\n    'amtout': -4.18367562815547e-10,\n    'error': None}],\n  'BNT-FF1C',\n  (CPCArbOptimizer.TradeInstruction(cid='704', tknin='BNT-FF1C', amtin=1.6540288925170898e-06, tknout='WETH-6Cc2', amtout=-4.18367562815547e-10, error=None),)),\n (Decimal('-0.00000165402889251708984375'),\n             BNT-FF1C     WETH-6Cc2\n  704        0.000002 -4.183676e-10\n  AMMIn      0.000002  0.000000e+00\n  AMMOut     0.000000 -4.183676e-10\n  TOTAL NET  0.000002 -4.183676e-10,\n  [{'cid': '704',\n    'tknin': 'BNT-FF1C',\n    'amtin': 1.6540288925170898e-06,\n    'tknout': 'WETH-6Cc2',\n    'amtout': -4.18367562815547e-10,\n    'error': None}],\n  'BNT-FF1C',\n  (CPCArbOptimizer.TradeInstruction(cid='704', tknin='BNT-FF1C', amtin=1.6540288925170898e-06, tknout='WETH-6Cc2', amtout=-4.18367562815547e-10, error=None),)),\n (Decimal('-0.00000165402889251708984375'),\n             BNT-FF1C     WETH-6Cc2\n  704        0.000002 -4.183676e-10\n  AMMIn      0.000002  0.000000e+00\n  AMMOut     0.000000 -4.183676e-10\n  TOTAL NET  0.000002 -4.183676e-10,\n  [{'cid': '704',\n    'tknin': 'BNT-FF1C',\n    'amtin': 1.6540288925170898e-06,\n    'tknout': 'WETH-6Cc2',\n    'amtout': -4.18367562815547e-10,\n    'error': None}],\n  'BNT-FF1C',\n  (CPCArbOptimizer.TradeInstruction(cid='704', tknin='BNT-FF1C', amtin=1.6540288925170898e-06, tknout='WETH-6Cc2', amtout=-4.18367562815547e-10, error=None),)),\n (Decimal('-0.00000165402889251708984375'),\n             BNT-FF1C     WETH-6Cc2\n  704        0.000002 -4.183676e-10\n  AMMIn      0.000002  0.000000e+00\n  AMMOut     0.000000 -4.183676e-10\n  TOTAL NET  0.000002 -4.183676e-10,\n  [{'cid': '704',\n    'tknin': 'BNT-FF1C',\n    'amtin': 1.6540288925170898e-06,\n    'tknout': 'WETH-6Cc2',\n    'amtout': -4.18367562815547e-10,\n    'error': None}],\n  'BNT-FF1C',\n  (CPCArbOptimizer.TradeInstruction(cid='704', tknin='BNT-FF1C', amtin=1.6540288925170898e-06, tknout='WETH-6Cc2', amtout=-4.18367562815547e-10, error=None),)),\n (Decimal('-0.00000165402889251708984375'),\n             BNT-FF1C     WETH-6Cc2\n  704        0.000002 -4.183676e-10\n  AMMIn      0.000002  0.000000e+00\n  AMMOut     0.000000 -4.183676e-10\n  TOTAL NET  0.000002 -4.183676e-10,\n  [{'cid': '704',\n    'tknin': 'BNT-FF1C',\n    'amtin': 1.6540288925170898e-06,\n    'tknout': 'WETH-6Cc2',\n    'amtout': -4.18367562815547e-10,\n    'error': None}],\n  'BNT-FF1C',\n  (CPCArbOptimizer.TradeInstruction(cid='704', tknin='BNT-FF1C', amtin=1.6540288925170898e-06, tknout='WETH-6Cc2', amtout=-4.18367562815547e-10, error=None),)),\n (Decimal('0.2033124826848506927490234375'),\n                                                BNT-FF1C     WETH-6Cc2\n  704                                         499.796688 -1.265823e-01\n  3743106036130323098097120681749450326030-0 -500.000000  1.265823e-01\n  AMMIn                                       499.796688  1.265823e-01\n  AMMOut                                     -500.000000 -1.265823e-01\n  TOTAL NET                                    -0.203312 -4.188223e-10,\n  [{'cid': '704',\n    'tknin': 'BNT-FF1C',\n    'amtin': 499.79668751731515,\n    'tknout': 'WETH-6Cc2',\n    'amtout': -0.1265822790560378,\n    'error': None},\n   {'cid': '3743106036130323098097120681749450326030-0',\n    'tknin': 'WETH-6Cc2',\n    'amtin': 0.1265822786372155,\n    'tknout': 'BNT-FF1C',\n    'amtout': -500.0,\n    'error': None}],\n  'BNT-FF1C',\n  (CPCArbOptimizer.TradeInstruction(cid='704', tknin='BNT-FF1C', amtin=499.79668751731515, tknout='WETH-6Cc2', amtout=-0.1265822790560378, error=None),\n   CPCArbOptimizer.TradeInstruction(cid='3743106036130323098097120681749450326030-0', tknin='WETH-6Cc2', amtin=0.1265822786372155, tknout='BNT-FF1C', amtout=-500.0, error=None))),\n (Decimal('-0.00000165402889251708984375'),\n             BNT-FF1C     WETH-6Cc2\n  704        0.000002 -4.183676e-10\n  AMMIn      0.000002  0.000000e+00\n  AMMOut     0.000000 -4.183676e-10\n  TOTAL NET  0.000002 -4.183676e-10,\n  [{'cid': '704',\n    'tknin': 'BNT-FF1C',\n    'amtin': 1.6540288925170898e-06,\n    'tknout': 'WETH-6Cc2',\n    'amtout': -4.18367562815547e-10,\n    'error': None}],\n  'BNT-FF1C',\n  (CPCArbOptimizer.TradeInstruction(cid='704', tknin='BNT-FF1C', amtin=1.6540288925170898e-06, tknout='WETH-6Cc2', amtout=-4.18367562815547e-10, error=None),)),\n (Decimal('-0.00000165402889251708984375'),\n             BNT-FF1C     WETH-6Cc2\n  704        0.000002 -4.183676e-10\n  AMMIn      0.000002  0.000000e+00\n  AMMOut     0.000000 -4.183676e-10\n  TOTAL NET  0.000002 -4.183676e-10,\n  [{'cid': '704',\n    'tknin': 'BNT-FF1C',\n    'amtin': 1.6540288925170898e-06,\n    'tknout': 'WETH-6Cc2',\n    'amtout': -4.18367562815547e-10,\n    'error': None}],\n  'BNT-FF1C',\n  (CPCArbOptimizer.TradeInstruction(cid='704', tknin='BNT-FF1C', amtin=1.6540288925170898e-06, tknout='WETH-6Cc2', amtout=-4.18367562815547e-10, error=None),)),\n (Decimal('-0.00002839230000972747802734375'),\n             BNT-FF1C     WETH-6Cc2\n  704        0.000028 -7.190465e-09\n  AMMIn      0.000028  0.000000e+00\n  AMMOut     0.000000 -7.190465e-09\n  TOTAL NET  0.000028 -7.190465e-09,\n  [{'cid': '704',\n    'tknin': 'BNT-FF1C',\n    'amtin': 2.8392300009727478e-05,\n    'tknout': 'WETH-6Cc2',\n    'amtout': -7.190465112216771e-09,\n    'error': None}],\n  'BNT-FF1C',\n  (CPCArbOptimizer.TradeInstruction(cid='704', tknin='BNT-FF1C', amtin=2.8392300009727478e-05, tknout='WETH-6Cc2', amtout=-7.190465112216771e-09, error=None),)),\n (Decimal('-0.000017993816309941543812462904898693237532025790414991206489503383636474609375'),\n                                       WBTC-C599     WETH-6Cc2\n  dfefc9ca163747858dc6b79eeee68882  3.084324e-10 -4.691174e-09\n  AMMIn                             3.084324e-10  0.000000e+00\n  AMMOut                            0.000000e+00 -4.691174e-09\n  TOTAL NET                         3.084324e-10 -4.691174e-09,\n  [{'cid': 'dfefc9ca163747858dc6b79eeee68882',\n    'tknin': 'WBTC-C599',\n    'amtin': 3.084323907387443e-10,\n    'tknout': 'WETH-6Cc2',\n    'amtout': -4.691173671744764e-09,\n    'error': None}],\n  'WBTC-C599',\n  (CPCArbOptimizer.TradeInstruction(cid='dfefc9ca163747858dc6b79eeee68882', tknin='WBTC-C599', amtin=3.084323907387443e-10, tknout='WETH-6Cc2', amtout=-4.691173671744764e-09, error=None),)),\n (Decimal('-0.000017781578152212782514269461125468695106288663509985781274735927581787109375'),\n                                       WBTC-C599     WETH-6Cc2\n  dfefc9ca163747858dc6b79eeee68882  3.047944e-10 -4.635694e-09\n  AMMIn                             3.047944e-10  0.000000e+00\n  AMMOut                            0.000000e+00 -4.635694e-09\n  TOTAL NET                         3.047944e-10 -4.635694e-09,\n  [{'cid': 'dfefc9ca163747858dc6b79eeee68882',\n    'tknin': 'WBTC-C599',\n    'amtin': 3.047944119316526e-10,\n    'tknout': 'WETH-6Cc2',\n    'amtout': -4.635694494936615e-09,\n    'error': None}],\n  'WBTC-C599',\n  (CPCArbOptimizer.TradeInstruction(cid='dfefc9ca163747858dc6b79eeee68882', tknin='WBTC-C599', amtin=3.047944119316526e-10, tknout='WETH-6Cc2', amtout=-4.635694494936615e-09, error=None),)),\n (Decimal('-0.0001023174275206344687696122873585453938449774113905732519924640655517578125'),\n                                    USDC-eB48     WETH-6Cc2\n  6c988ffdc9e74acd97ccfb16dd65c110   0.000048 -2.583147e-08\n  AMMIn                              0.000048  0.000000e+00\n  AMMOut                             0.000000 -2.583147e-08\n  TOTAL NET                          0.000048 -2.583147e-08,\n  [{'cid': '6c988ffdc9e74acd97ccfb16dd65c110',\n    'tknin': 'USDC-eB48',\n    'amtin': 4.797428846359253e-05,\n    'tknout': 'WETH-6Cc2',\n    'amtout': -2.5831468519754708e-08,\n    'error': None}],\n  'USDC-eB48',\n  (CPCArbOptimizer.TradeInstruction(cid='6c988ffdc9e74acd97ccfb16dd65c110', tknin='USDC-eB48', amtin=4.797428846359253e-05, tknout='WETH-6Cc2', amtout=-2.5831468519754708e-08, error=None),)),\n (Decimal('-0.00010220619565347428220626591587050224774202433764003217220306396484375'),\n                                    USDC-eB48     WETH-6Cc2\n  6c988ffdc9e74acd97ccfb16dd65c110   0.000048 -2.580236e-08\n  AMMIn                              0.000048  0.000000e+00\n  AMMOut                             0.000000 -2.580236e-08\n  TOTAL NET                          0.000048 -2.580236e-08,\n  [{'cid': '6c988ffdc9e74acd97ccfb16dd65c110',\n    'tknin': 'USDC-eB48',\n    'amtin': 4.792213439941406e-05,\n    'tknout': 'WETH-6Cc2',\n    'amtout': -2.5802364689297974e-08,\n    'error': None}],\n  'USDC-eB48',\n  (CPCArbOptimizer.TradeInstruction(cid='6c988ffdc9e74acd97ccfb16dd65c110', tknin='USDC-eB48', amtin=4.792213439941406e-05, tknout='WETH-6Cc2', amtout=-2.5802364689297974e-08, error=None),)),\n (Decimal('-0.0001023174275206344687696122873585453938449774113905732519924640655517578125'),\n                                    USDC-eB48     WETH-6Cc2\n  6c988ffdc9e74acd97ccfb16dd65c110   0.000048 -2.583147e-08\n  AMMIn                              0.000048  0.000000e+00\n  AMMOut                             0.000000 -2.583147e-08\n  TOTAL NET                          0.000048 -2.583147e-08,\n  [{'cid': '6c988ffdc9e74acd97ccfb16dd65c110',\n    'tknin': 'USDC-eB48',\n    'amtin': 4.797428846359253e-05,\n    'tknout': 'WETH-6Cc2',\n    'amtout': -2.5831468519754708e-08,\n    'error': None}],\n  'USDC-eB48',\n  (CPCArbOptimizer.TradeInstruction(cid='6c988ffdc9e74acd97ccfb16dd65c110', tknin='USDC-eB48', amtin=4.797428846359253e-05, tknout='WETH-6Cc2', amtout=-2.5831468519754708e-08, error=None),)),\n (Decimal('0.160383385987331494026083308739039079426902389968745410442352294921875'),\n                                              USDC-eB48     WETH-6Cc2\n  6c988ffdc9e74acd97ccfb16dd65c110             1.919337 -1.033466e-03\n  1701411834604692317316873037158841057296-0  -1.994537  1.033440e-03\n  AMMIn                                        1.919337  1.033440e-03\n  AMMOut                                      -1.994537 -1.033466e-03\n  TOTAL NET                                   -0.075200 -2.583693e-08,\n  [{'cid': '6c988ffdc9e74acd97ccfb16dd65c110',\n    'tknin': 'USDC-eB48',\n    'amtin': 1.919337272644043,\n    'tknout': 'WETH-6Cc2',\n    'amtout': -0.0010334660692024045,\n    'error': None},\n   {'cid': '1701411834604692317316873037158841057296-0',\n    'tknin': 'WETH-6Cc2',\n    'amtin': 0.0010334402322769165,\n    'tknout': 'USDC-eB48',\n    'amtout': -1.994537353515625,\n    'error': None}],\n  'USDC-eB48',\n  (CPCArbOptimizer.TradeInstruction(cid='6c988ffdc9e74acd97ccfb16dd65c110', tknin='USDC-eB48', amtin=1.919337272644043, tknout='WETH-6Cc2', amtout=-0.0010334660692024045, error=None),\n   CPCArbOptimizer.TradeInstruction(cid='1701411834604692317316873037158841057296-0', tknin='WETH-6Cc2', amtin=0.0010334402322769165, tknout='USDC-eB48', amtout=-1.994537353515625, error=None))),\n (Decimal('-0.0001023174275206344687696122873585453938449774113905732519924640655517578125'),\n                                    USDC-eB48     WETH-6Cc2\n  6c988ffdc9e74acd97ccfb16dd65c110   0.000048 -2.583147e-08\n  AMMIn                              0.000048  0.000000e+00\n  AMMOut                             0.000000 -2.583147e-08\n  TOTAL NET                          0.000048 -2.583147e-08,\n  [{'cid': '6c988ffdc9e74acd97ccfb16dd65c110',\n    'tknin': 'USDC-eB48',\n    'amtin': 4.797428846359253e-05,\n    'tknout': 'WETH-6Cc2',\n    'amtout': -2.5831468519754708e-08,\n    'error': None}],\n  'USDC-eB48',\n  (CPCArbOptimizer.TradeInstruction(cid='6c988ffdc9e74acd97ccfb16dd65c110', tknin='USDC-eB48', amtin=4.797428846359253e-05, tknout='WETH-6Cc2', amtout=-2.5831468519754708e-08, error=None),)),\n (Decimal('-0.0001023174275206344687696122873585453938449774113905732519924640655517578125'),\n                                    USDC-eB48     WETH-6Cc2\n  6c988ffdc9e74acd97ccfb16dd65c110   0.000048 -2.583147e-08\n  AMMIn                              0.000048  0.000000e+00\n  AMMOut                             0.000000 -2.583147e-08\n  TOTAL NET                          0.000048 -2.583147e-08,\n  [{'cid': '6c988ffdc9e74acd97ccfb16dd65c110',\n    'tknin': 'USDC-eB48',\n    'amtin': 4.797428846359253e-05,\n    'tknout': 'WETH-6Cc2',\n    'amtout': -2.5831468519754708e-08,\n    'error': None}],\n  'USDC-eB48',\n  (CPCArbOptimizer.TradeInstruction(cid='6c988ffdc9e74acd97ccfb16dd65c110', tknin='USDC-eB48', amtin=4.797428846359253e-05, tknout='WETH-6Cc2', amtout=-2.5831468519754708e-08, error=None),)),\n (Decimal('-0.00009806678116844162509887594835118231062498495020918198861181735992431640625'),\n                                    USDC-eB48     WETH-6Cc2\n  6c988ffdc9e74acd97ccfb16dd65c110   0.000046 -2.476008e-08\n  AMMIn                              0.000046  0.000000e+00\n  AMMOut                             0.000000 -2.476008e-08\n  TOTAL NET                          0.000046 -2.476008e-08,\n  [{'cid': '6c988ffdc9e74acd97ccfb16dd65c110',\n    'tknin': 'USDC-eB48',\n    'amtin': 4.5981258153915405e-05,\n    'tknout': 'WETH-6Cc2',\n    'amtout': -2.47600837610662e-08,\n    'error': None}],\n  'USDC-eB48',\n  (CPCArbOptimizer.TradeInstruction(cid='6c988ffdc9e74acd97ccfb16dd65c110', tknin='USDC-eB48', amtin=4.5981258153915405e-05, tknout='WETH-6Cc2', amtout=-2.47600837610662e-08, error=None),)),\n (Decimal('-0.0001023174275206344687696122873585453938449774113905732519924640655517578125'),\n                                    USDC-eB48     WETH-6Cc2\n  6c988ffdc9e74acd97ccfb16dd65c110   0.000048 -2.583147e-08\n  AMMIn                              0.000048  0.000000e+00\n  AMMOut                             0.000000 -2.583147e-08\n  TOTAL NET                          0.000048 -2.583147e-08,\n  [{'cid': '6c988ffdc9e74acd97ccfb16dd65c110',\n    'tknin': 'USDC-eB48',\n    'amtin': 4.797428846359253e-05,\n    'tknout': 'WETH-6Cc2',\n    'amtout': -2.5831468519754708e-08,\n    'error': None}],\n  'USDC-eB48',\n  (CPCArbOptimizer.TradeInstruction(cid='6c988ffdc9e74acd97ccfb16dd65c110', tknin='USDC-eB48', amtin=4.797428846359253e-05, tknout='WETH-6Cc2', amtout=-2.5831468519754708e-08, error=None),)),\n (Decimal('-0.0002423106774750978434955455458814192748473459460001322440803050994873046875'),\n                                    USDC-eB48     WETH-6Cc2\n  6c988ffdc9e74acd97ccfb16dd65c110   0.000114 -6.117443e-08\n  AMMIn                              0.000114  0.000000e+00\n  AMMOut                             0.000000 -6.117443e-08\n  TOTAL NET                          0.000114 -6.117443e-08,\n  [{'cid': '6c988ffdc9e74acd97ccfb16dd65c110',\n    'tknin': 'USDC-eB48',\n    'amtin': 0.00011361390352249146,\n    'tknout': 'WETH-6Cc2',\n    'amtout': -6.11744326306507e-08,\n    'error': None}],\n  'USDC-eB48',\n  (CPCArbOptimizer.TradeInstruction(cid='6c988ffdc9e74acd97ccfb16dd65c110', tknin='USDC-eB48', amtin=0.00011361390352249146, tknout='WETH-6Cc2', amtout=-6.11744326306507e-08, error=None),)),\n (Decimal('-0.000102301537253897299260562805717396372973126972283353097736835479736328125'),\n                                    USDC-eB48     WETH-6Cc2\n  6c988ffdc9e74acd97ccfb16dd65c110   0.000048 -2.582783e-08\n  AMMIn                              0.000048  0.000000e+00\n  AMMOut                             0.000000 -2.582783e-08\n  TOTAL NET                          0.000048 -2.582783e-08,\n  [{'cid': '6c988ffdc9e74acd97ccfb16dd65c110',\n    'tknin': 'USDC-eB48',\n    'amtin': 4.7966837882995605e-05,\n    'tknout': 'WETH-6Cc2',\n    'amtout': -2.5827830540947616e-08,\n    'error': None}],\n  'USDC-eB48',\n  (CPCArbOptimizer.TradeInstruction(cid='6c988ffdc9e74acd97ccfb16dd65c110', tknin='USDC-eB48', amtin=4.7966837882995605e-05, tknout='WETH-6Cc2', amtout=-2.5827830540947616e-08, error=None),)),\n (Decimal('-0.0001023174275206344687696122873585453938449774113905732519924640655517578125'),\n                                    USDC-eB48     WETH-6Cc2\n  6c988ffdc9e74acd97ccfb16dd65c110   0.000048 -2.583147e-08\n  AMMIn                              0.000048  0.000000e+00\n  AMMOut                             0.000000 -2.583147e-08\n  TOTAL NET                          0.000048 -2.583147e-08,\n  [{'cid': '6c988ffdc9e74acd97ccfb16dd65c110',\n    'tknin': 'USDC-eB48',\n    'amtin': 4.797428846359253e-05,\n    'tknout': 'WETH-6Cc2',\n    'amtout': -2.5831468519754708e-08,\n    'error': None}],\n  'USDC-eB48',\n  (CPCArbOptimizer.TradeInstruction(cid='6c988ffdc9e74acd97ccfb16dd65c110', tknin='USDC-eB48', amtin=4.797428846359253e-05, tknout='WETH-6Cc2', amtout=-2.5831468519754708e-08, error=None),)),\n (Decimal('-0.00010207112838620834137934532192073557033129560522866086103022098541259765625'),\n                                    USDC-eB48     WETH-6Cc2\n  6c988ffdc9e74acd97ccfb16dd65c110   0.000048 -2.576962e-08\n  AMMIn                              0.000048  0.000000e+00\n  AMMOut                             0.000000 -2.576962e-08\n  TOTAL NET                          0.000048 -2.576962e-08,\n  [{'cid': '6c988ffdc9e74acd97ccfb16dd65c110',\n    'tknin': 'USDC-eB48',\n    'amtin': 4.785880446434021e-05,\n    'tknout': 'WETH-6Cc2',\n    'amtout': -2.576962288003415e-08,\n    'error': None}],\n  'USDC-eB48',\n  (CPCArbOptimizer.TradeInstruction(cid='6c988ffdc9e74acd97ccfb16dd65c110', tknin='USDC-eB48', amtin=4.785880446434021e-05, tknout='WETH-6Cc2', amtout=-2.576962288003415e-08, error=None),)),\n (Decimal('-0.00010235715318747739254223599146141794602460350915862363763153553009033203125'),\n                                    USDC-eB48     WETH-6Cc2\n  6c988ffdc9e74acd97ccfb16dd65c110   0.000048 -2.584238e-08\n  AMMIn                              0.000048  0.000000e+00\n  AMMOut                             0.000000 -2.584238e-08\n  TOTAL NET                          0.000048 -2.584238e-08,\n  [{'cid': '6c988ffdc9e74acd97ccfb16dd65c110',\n    'tknin': 'USDC-eB48',\n    'amtin': 4.799291491508484e-05,\n    'tknout': 'WETH-6Cc2',\n    'amtout': -2.5842382456175983e-08,\n    'error': None}],\n  'USDC-eB48',\n  (CPCArbOptimizer.TradeInstruction(cid='6c988ffdc9e74acd97ccfb16dd65c110', tknin='USDC-eB48', amtin=4.799291491508484e-05, tknout='WETH-6Cc2', amtout=-2.5842382456175983e-08, error=None),)),\n (Decimal('-0.0001023174275206344687696122873585453938449774113905732519924640655517578125'),\n                                    USDC-eB48     WETH-6Cc2\n  6c988ffdc9e74acd97ccfb16dd65c110   0.000048 -2.583147e-08\n  AMMIn                              0.000048  0.000000e+00\n  AMMOut                             0.000000 -2.583147e-08\n  TOTAL NET                          0.000048 -2.583147e-08,\n  [{'cid': '6c988ffdc9e74acd97ccfb16dd65c110',\n    'tknin': 'USDC-eB48',\n    'amtin': 4.797428846359253e-05,\n    'tknout': 'WETH-6Cc2',\n    'amtout': -2.5831468519754708e-08,\n    'error': None}],\n  'USDC-eB48',\n  (CPCArbOptimizer.TradeInstruction(cid='6c988ffdc9e74acd97ccfb16dd65c110', tknin='USDC-eB48', amtin=4.797428846359253e-05, tknout='WETH-6Cc2', amtout=-2.5831468519754708e-08, error=None),)),\n (Decimal('-0.00000250271701110419767529335848097078731644415938717429526150226593017578125'),\n                                    USDC-eB48     WETH-6Cc2\n  6c988ffdc9e74acd97ccfb16dd65c110   0.000001 -6.330083e-10\n  AMMIn                              0.000001  0.000000e+00\n  AMMOut                             0.000000 -6.330083e-10\n  TOTAL NET                          0.000001 -6.330083e-10,\n  [{'cid': '6c988ffdc9e74acd97ccfb16dd65c110',\n    'tknin': 'USDC-eB48',\n    'amtin': 1.173466444015503e-06,\n    'tknout': 'WETH-6Cc2',\n    'amtout': -6.330083124339581e-10,\n    'error': None}],\n  'USDC-eB48',\n  (CPCArbOptimizer.TradeInstruction(cid='6c988ffdc9e74acd97ccfb16dd65c110', tknin='USDC-eB48', amtin=1.173466444015503e-06, tknout='WETH-6Cc2', amtout=-6.330083124339581e-10, error=None),)),\n (Decimal('-0.0001023174275206344687696122873585453938449774113905732519924640655517578125'),\n                                    USDC-eB48     WETH-6Cc2\n  6c988ffdc9e74acd97ccfb16dd65c110   0.000048 -2.583147e-08\n  AMMIn                              0.000048  0.000000e+00\n  AMMOut                             0.000000 -2.583147e-08\n  TOTAL NET                          0.000048 -2.583147e-08,\n  [{'cid': '6c988ffdc9e74acd97ccfb16dd65c110',\n    'tknin': 'USDC-eB48',\n    'amtin': 4.797428846359253e-05,\n    'tknout': 'WETH-6Cc2',\n    'amtout': -2.5831468519754708e-08,\n    'error': None}],\n  'USDC-eB48',\n  (CPCArbOptimizer.TradeInstruction(cid='6c988ffdc9e74acd97ccfb16dd65c110', tknin='USDC-eB48', amtin=4.797428846359253e-05, tknout='WETH-6Cc2', amtout=-2.5831468519754708e-08, error=None),)),\n (Decimal('-0.0002169974825627868155797212915310290259895964481984265148639678955078125'),\n                                    USDC-eB48     WETH-6Cc2\n  50ac5ace09c1483987af46c60c551073   0.000102 -5.481343e-08\n  AMMIn                              0.000102  0.000000e+00\n  AMMOut                             0.000000 -5.481343e-08\n  TOTAL NET                          0.000102 -5.481343e-08,\n  [{'cid': '50ac5ace09c1483987af46c60c551073',\n    'tknin': 'USDC-eB48',\n    'amtin': 0.0001017451286315918,\n    'tknout': 'WETH-6Cc2',\n    'amtout': -5.481342668645084e-08,\n    'error': None}],\n  'USDC-eB48',\n  (CPCArbOptimizer.TradeInstruction(cid='50ac5ace09c1483987af46c60c551073', tknin='USDC-eB48', amtin=0.0001017451286315918, tknout='WETH-6Cc2', amtout=-5.481342668645084e-08, error=None),)),\n (Decimal('-0.0002168544701621522899982759567606878381429424962334451265633106231689453125'),\n                                    USDC-eB48     WETH-6Cc2\n  50ac5ace09c1483987af46c60c551073   0.000102 -5.477705e-08\n  AMMIn                              0.000102  0.000000e+00\n  AMMOut                             0.000000 -5.477705e-08\n  TOTAL NET                          0.000102 -5.477705e-08,\n  [{'cid': '50ac5ace09c1483987af46c60c551073',\n    'tknin': 'USDC-eB48',\n    'amtin': 0.00010167807340621948,\n    'tknout': 'WETH-6Cc2',\n    'amtout': -5.477704689837992e-08,\n    'error': None}],\n  'USDC-eB48',\n  (CPCArbOptimizer.TradeInstruction(cid='50ac5ace09c1483987af46c60c551073', tknin='USDC-eB48', amtin=0.00010167807340621948, tknout='WETH-6Cc2', amtout=-5.477704689837992e-08, error=None),)),\n (Decimal('-0.0002169974825627868155797212915310290259895964481984265148639678955078125'),\n                                    USDC-eB48     WETH-6Cc2\n  50ac5ace09c1483987af46c60c551073   0.000102 -5.481343e-08\n  AMMIn                              0.000102  0.000000e+00\n  AMMOut                             0.000000 -5.481343e-08\n  TOTAL NET                          0.000102 -5.481343e-08,\n  [{'cid': '50ac5ace09c1483987af46c60c551073',\n    'tknin': 'USDC-eB48',\n    'amtin': 0.0001017451286315918,\n    'tknout': 'WETH-6Cc2',\n    'amtout': -5.481342668645084e-08,\n    'error': None}],\n  'USDC-eB48',\n  (CPCArbOptimizer.TradeInstruction(cid='50ac5ace09c1483987af46c60c551073', tknin='USDC-eB48', amtin=0.0001017451286315918, tknout='WETH-6Cc2', amtout=-5.481342668645084e-08, error=None),)),\n (Decimal('0.1625227243786900993684331210502140574458707078520092181861400604248046875'),\n                                              USDC-eB48     WETH-6Cc2\n  50ac5ace09c1483987af46c60c551073             1.918334 -1.033495e-03\n  1701411834604692317316873037158841057296-0  -1.994537  1.033440e-03\n  AMMIn                                        1.918334  1.033440e-03\n  AMMOut                                      -1.994537 -1.033495e-03\n  TOTAL NET                                   -0.076203 -5.482070e-08,\n  [{'cid': '50ac5ace09c1483987af46c60c551073',\n    'tknin': 'USDC-eB48',\n    'amtin': 1.918334186077118,\n    'tknout': 'WETH-6Cc2',\n    'amtout': -0.0010334950529795606,\n    'error': None},\n   {'cid': '1701411834604692317316873037158841057296-0',\n    'tknin': 'WETH-6Cc2',\n    'amtin': 0.0010334402322769165,\n    'tknout': 'USDC-eB48',\n    'amtout': -1.994537353515625,\n    'error': None}],\n  'USDC-eB48',\n  (CPCArbOptimizer.TradeInstruction(cid='50ac5ace09c1483987af46c60c551073', tknin='USDC-eB48', amtin=1.918334186077118, tknout='WETH-6Cc2', amtout=-0.0010334950529795606, error=None),\n   CPCArbOptimizer.TradeInstruction(cid='1701411834604692317316873037158841057296-0', tknin='WETH-6Cc2', amtin=0.0010334402322769165, tknout='USDC-eB48', amtout=-1.994537353515625, error=None))),\n (Decimal('-0.0002169974825627868155797212915310290259895964481984265148639678955078125'),\n                                    USDC-eB48     WETH-6Cc2\n  50ac5ace09c1483987af46c60c551073   0.000102 -5.481343e-08\n  AMMIn                              0.000102  0.000000e+00\n  AMMOut                             0.000000 -5.481343e-08\n  TOTAL NET                          0.000102 -5.481343e-08,\n  [{'cid': '50ac5ace09c1483987af46c60c551073',\n    'tknin': 'USDC-eB48',\n    'amtin': 0.0001017451286315918,\n    'tknout': 'WETH-6Cc2',\n    'amtout': -5.481342668645084e-08,\n    'error': None}],\n  'USDC-eB48',\n  (CPCArbOptimizer.TradeInstruction(cid='50ac5ace09c1483987af46c60c551073', tknin='USDC-eB48', amtin=0.0001017451286315918, tknout='WETH-6Cc2', amtout=-5.481342668645084e-08, error=None),)),\n (Decimal('-0.0002169974825627868155797212915310290259895964481984265148639678955078125'),\n                                    USDC-eB48     WETH-6Cc2\n  50ac5ace09c1483987af46c60c551073   0.000102 -5.481343e-08\n  AMMIn                              0.000102  0.000000e+00\n  AMMOut                             0.000000 -5.481343e-08\n  TOTAL NET                          0.000102 -5.481343e-08,\n  [{'cid': '50ac5ace09c1483987af46c60c551073',\n    'tknin': 'USDC-eB48',\n    'amtin': 0.0001017451286315918,\n    'tknout': 'WETH-6Cc2',\n    'amtout': -5.481342668645084e-08,\n    'error': None}],\n  'USDC-eB48',\n  (CPCArbOptimizer.TradeInstruction(cid='50ac5ace09c1483987af46c60c551073', tknin='USDC-eB48', amtin=0.0001017451286315918, tknout='WETH-6Cc2', amtout=-5.481342668645084e-08, error=None),)),\n (Decimal('-0.000212707110543751048136361248420793390589977889248984865844249725341796875'),\n                                    USDC-eB48     WETH-6Cc2\n  50ac5ace09c1483987af46c60c551073     0.0001 -5.372931e-08\n  AMMIn                                0.0001  0.000000e+00\n  AMMOut                               0.0000 -5.372931e-08\n  TOTAL NET                            0.0001 -5.372931e-08,\n  [{'cid': '50ac5ace09c1483987af46c60c551073',\n    'tknin': 'USDC-eB48',\n    'amtin': 9.973347187042236e-05,\n    'tknout': 'WETH-6Cc2',\n    'amtout': -5.372930900193751e-08,\n    'error': None}],\n  'USDC-eB48',\n  (CPCArbOptimizer.TradeInstruction(cid='50ac5ace09c1483987af46c60c551073', tknin='USDC-eB48', amtin=9.973347187042236e-05, tknout='WETH-6Cc2', amtout=-5.372930900193751e-08, error=None),)),\n (Decimal('-0.0002169974825627868155797212915310290259895964481984265148639678955078125'),\n                                    USDC-eB48     WETH-6Cc2\n  50ac5ace09c1483987af46c60c551073   0.000102 -5.481343e-08\n  AMMIn                              0.000102  0.000000e+00\n  AMMOut                             0.000000 -5.481343e-08\n  TOTAL NET                          0.000102 -5.481343e-08,\n  [{'cid': '50ac5ace09c1483987af46c60c551073',\n    'tknin': 'USDC-eB48',\n    'amtin': 0.0001017451286315918,\n    'tknout': 'WETH-6Cc2',\n    'amtout': -5.481342668645084e-08,\n    'error': None}],\n  'USDC-eB48',\n  (CPCArbOptimizer.TradeInstruction(cid='50ac5ace09c1483987af46c60c551073', tknin='USDC-eB48', amtin=0.0001017451286315918, tknout='WETH-6Cc2', amtout=-5.481342668645084e-08, error=None),)),\n (Decimal('-0.0003400358179086903241498576389478976367275464554040809161961078643798828125'),\n                                    USDC-eB48     WETH-6Cc2\n  50ac5ace09c1483987af46c60c551073   0.000159 -8.589632e-08\n  AMMIn                              0.000159  0.000000e+00\n  AMMOut                             0.000000 -8.589632e-08\n  TOTAL NET                          0.000159 -8.589632e-08,\n  [{'cid': '50ac5ace09c1483987af46c60c551073',\n    'tknin': 'USDC-eB48',\n    'amtin': 0.000159434974193573,\n    'tknout': 'WETH-6Cc2',\n    'amtout': -8.589631761424243e-08,\n    'error': None}],\n  'USDC-eB48',\n  (CPCArbOptimizer.TradeInstruction(cid='50ac5ace09c1483987af46c60c551073', tknin='USDC-eB48', amtin=0.000159434974193573, tknout='WETH-6Cc2', amtout=-8.589631761424243e-08, error=None),)),\n (Decimal('-0.000216965702029312476561622328248730984245895569983986206352710723876953125'),\n                                    USDC-eB48     WETH-6Cc2\n  50ac5ace09c1483987af46c60c551073   0.000102 -5.480615e-08\n  AMMIn                              0.000102  0.000000e+00\n  AMMOut                             0.000000 -5.480615e-08\n  TOTAL NET                          0.000102 -5.480615e-08,\n  [{'cid': '50ac5ace09c1483987af46c60c551073',\n    'tknin': 'USDC-eB48',\n    'amtin': 0.00010173022747039795,\n    'tknout': 'WETH-6Cc2',\n    'amtout': -5.4806150728836656e-08,\n    'error': None}],\n  'USDC-eB48',\n  (CPCArbOptimizer.TradeInstruction(cid='50ac5ace09c1483987af46c60c551073', tknin='USDC-eB48', amtin=0.00010173022747039795, tknout='WETH-6Cc2', amtout=-5.4806150728836656e-08, error=None),)),\n (Decimal('-0.0002169974825627868155797212915310290259895964481984265148639678955078125'),\n                                    USDC-eB48     WETH-6Cc2\n  50ac5ace09c1483987af46c60c551073   0.000102 -5.481343e-08\n  AMMIn                              0.000102  0.000000e+00\n  AMMOut                             0.000000 -5.481343e-08\n  TOTAL NET                          0.000102 -5.481343e-08,\n  [{'cid': '50ac5ace09c1483987af46c60c551073',\n    'tknin': 'USDC-eB48',\n    'amtin': 0.0001017451286315918,\n    'tknout': 'WETH-6Cc2',\n    'amtout': -5.481342668645084e-08,\n    'error': None}],\n  'USDC-eB48',\n  (CPCArbOptimizer.TradeInstruction(cid='50ac5ace09c1483987af46c60c551073', tknin='USDC-eB48', amtin=0.0001017451286315918, tknout='WETH-6Cc2', amtout=-5.481342668645084e-08, error=None),)),\n (Decimal('-0.0002166161161610947473625337321434525250651859096251428127288818359375'),\n                                    USDC-eB48     WETH-6Cc2\n  50ac5ace09c1483987af46c60c551073   0.000102 -5.471884e-08\n  AMMIn                              0.000102  0.000000e+00\n  AMMOut                             0.000000 -5.471884e-08\n  TOTAL NET                          0.000102 -5.471884e-08,\n  [{'cid': '50ac5ace09c1483987af46c60c551073',\n    'tknin': 'USDC-eB48',\n    'amtin': 0.00010156631469726562,\n    'tknout': 'WETH-6Cc2',\n    'amtout': -5.4718839237466455e-08,\n    'error': None}],\n  'USDC-eB48',\n  (CPCArbOptimizer.TradeInstruction(cid='50ac5ace09c1483987af46c60c551073', tknin='USDC-eB48', amtin=0.00010156631469726562, tknout='WETH-6Cc2', amtout=-5.4718839237466455e-08, error=None),)),\n (Decimal('-0.0002169974825627868155797212915310290259895964481984265148639678955078125'),\n                                    USDC-eB48     WETH-6Cc2\n  50ac5ace09c1483987af46c60c551073   0.000102 -5.481343e-08\n  AMMIn                              0.000102  0.000000e+00\n  AMMOut                             0.000000 -5.481343e-08\n  TOTAL NET                          0.000102 -5.481343e-08,\n  [{'cid': '50ac5ace09c1483987af46c60c551073',\n    'tknin': 'USDC-eB48',\n    'amtin': 0.0001017451286315918,\n    'tknout': 'WETH-6Cc2',\n    'amtout': -5.481342668645084e-08,\n    'error': None}],\n  'USDC-eB48',\n  (CPCArbOptimizer.TradeInstruction(cid='50ac5ace09c1483987af46c60c551073', tknin='USDC-eB48', amtin=0.0001017451286315918, tknout='WETH-6Cc2', amtout=-5.481342668645084e-08, error=None),)),\n (Decimal('-0.0002169974825627868155797212915310290259895964481984265148639678955078125'),\n                                    USDC-eB48     WETH-6Cc2\n  50ac5ace09c1483987af46c60c551073   0.000102 -5.481343e-08\n  AMMIn                              0.000102  0.000000e+00\n  AMMOut                             0.000000 -5.481343e-08\n  TOTAL NET                          0.000102 -5.481343e-08,\n  [{'cid': '50ac5ace09c1483987af46c60c551073',\n    'tknin': 'USDC-eB48',\n    'amtin': 0.0001017451286315918,\n    'tknout': 'WETH-6Cc2',\n    'amtout': -5.481342668645084e-08,\n    'error': None}],\n  'USDC-eB48',\n  (CPCArbOptimizer.TradeInstruction(cid='50ac5ace09c1483987af46c60c551073', tknin='USDC-eB48', amtin=0.0001017451286315918, tknout='WETH-6Cc2', amtout=-5.481342668645084e-08, error=None),)),\n (Decimal('-0.000079546675286270562301705095591998484483298170744092203676700592041015625'),\n                                    USDC-eB48     WETH-6Cc2\n  50ac5ace09c1483987af46c60c551073   0.000037 -2.009619e-08\n  AMMIn                              0.000037  0.000000e+00\n  AMMOut                             0.000000 -2.009619e-08\n  TOTAL NET                          0.000037 -2.009619e-08,\n  [{'cid': '50ac5ace09c1483987af46c60c551073',\n    'tknin': 'USDC-eB48',\n    'amtin': 3.7297606468200684e-05,\n    'tknout': 'WETH-6Cc2',\n    'amtout': -2.0096194930374622e-08,\n    'error': None}],\n  'USDC-eB48',\n  (CPCArbOptimizer.TradeInstruction(cid='50ac5ace09c1483987af46c60c551073', tknin='USDC-eB48', amtin=3.7297606468200684e-05, tknout='WETH-6Cc2', amtout=-2.0096194930374622e-08, error=None),)),\n (Decimal('-0.0002169974825627868155797212915310290259895964481984265148639678955078125'),\n                                    USDC-eB48     WETH-6Cc2\n  50ac5ace09c1483987af46c60c551073   0.000102 -5.481343e-08\n  AMMIn                              0.000102  0.000000e+00\n  AMMOut                             0.000000 -5.481343e-08\n  TOTAL NET                          0.000102 -5.481343e-08,\n  [{'cid': '50ac5ace09c1483987af46c60c551073',\n    'tknin': 'USDC-eB48',\n    'amtin': 0.0001017451286315918,\n    'tknout': 'WETH-6Cc2',\n    'amtout': -5.481342668645084e-08,\n    'error': None}],\n  'USDC-eB48',\n  (CPCArbOptimizer.TradeInstruction(cid='50ac5ace09c1483987af46c60c551073', tknin='USDC-eB48', amtin=0.0001017451286315918, tknout='WETH-6Cc2', amtout=-5.481342668645084e-08, error=None),)),\n (Decimal('0.2242731839414090506564169516309369296902520574121808749623596668243408203125'),\n                                              USDT-1ec7     WETH-6Cc2\n  ac864c78bea34cb7b5e51b038f44c4dd             4.894904 -2.631579e-03\n  2722258935367507707706996859454145691656-0  -5.000000  2.631579e-03\n  AMMIn                                        4.894904  2.631579e-03\n  AMMOut                                      -5.000000 -2.631579e-03\n  TOTAL NET                                   -0.105096  1.818989e-12,\n  [{'cid': 'ac864c78bea34cb7b5e51b038f44c4dd',\n    'tknin': 'USDT-1ec7',\n    'amtin': 4.894903928041458,\n    'tknout': 'WETH-6Cc2',\n    'amtout': -0.002631578945511137,\n    'error': None},\n   {'cid': '2722258935367507707706996859454145691656-0',\n    'tknin': 'WETH-6Cc2',\n    'amtin': 0.0026315789473301265,\n    'tknout': 'USDT-1ec7',\n    'amtout': -5.0,\n    'error': None}],\n  'USDT-1ec7',\n  (CPCArbOptimizer.TradeInstruction(cid='ac864c78bea34cb7b5e51b038f44c4dd', tknin='USDT-1ec7', amtin=4.894903928041458, tknout='WETH-6Cc2', amtout=-0.002631578945511137, error=None),\n   CPCArbOptimizer.TradeInstruction(cid='2722258935367507707706996859454145691656-0', tknin='WETH-6Cc2', amtin=0.0026315789473301265, tknout='USDT-1ec7', amtout=-5.0, error=None))),\n (Decimal('-0.000023039591974100927832769952968973935746033188110004630289040505886077880859375'),\n                                    DAI-1d0F     WETH-6Cc2\n  2b3bf6093e55415785a319a6f48bfe9f  0.000011 -5.838046e-09\n  AMMIn                             0.000011  0.000000e+00\n  AMMOut                            0.000000 -5.838046e-09\n  TOTAL NET                         0.000011 -5.838046e-09,\n  [{'cid': '2b3bf6093e55415785a319a6f48bfe9f',\n    'tknin': 'DAI-1d0F',\n    'amtin': 1.0813586413860321e-05,\n    'tknout': 'WETH-6Cc2',\n    'amtout': -5.838046490680426e-09,\n    'error': None}],\n  'DAI-1d0F',\n  (CPCArbOptimizer.TradeInstruction(cid='2b3bf6093e55415785a319a6f48bfe9f', tknin='DAI-1d0F', amtin=1.0813586413860321e-05, tknout='WETH-6Cc2', amtout=-5.838046490680426e-09, error=None),)),\n (Decimal('3942.62316799607766410809893128487444987300249502060189854546479182317852973938'),\n                                                WETH-6Cc2     DAI-1d0F\n  2b3bf6093e55415785a319a6f48bfe9f           1.000000e+00 -1851.462299\n  340282366920938463463374607431768211527-1 -1.000000e+00     1.000000\n  AMMIn                                      1.000000e+00     1.000000\n  AMMOut                                    -1.000000e+00 -1851.462299\n  TOTAL NET                                 -5.807124e-09 -1850.462299,\n  [{'cid': '2b3bf6093e55415785a319a6f48bfe9f',\n    'tknin': 'WETH-6Cc2',\n    'amtin': 0.9999999941928763,\n    'tknout': 'DAI-1d0F',\n    'amtout': -1851.4622986526228,\n    'error': None},\n   {'cid': '340282366920938463463374607431768211527-1',\n    'tknin': 'DAI-1d0F',\n    'amtin': 1.0,\n    'tknout': 'WETH-6Cc2',\n    'amtout': -1.0,\n    'error': None}],\n  'DAI-1d0F',\n  (CPCArbOptimizer.TradeInstruction(cid='2b3bf6093e55415785a319a6f48bfe9f', tknin='WETH-6Cc2', amtin=0.9999999941928763, tknout='DAI-1d0F', amtout=-1851.4622986526228, error=None),\n   CPCArbOptimizer.TradeInstruction(cid='340282366920938463463374607431768211527-1', tknin='DAI-1d0F', amtin=1.0, tknout='WETH-6Cc2', amtout=-1.0, error=None))),\n (Decimal('-0.000023043560554235989572126213403556482285650108821073445142246782779693603515625'),\n                                    DAI-1d0F     WETH-6Cc2\n  2b3bf6093e55415785a319a6f48bfe9f  0.000011 -5.838956e-09\n  AMMIn                             0.000011  0.000000e+00\n  AMMOut                            0.000000 -5.838956e-09\n  TOTAL NET                         0.000011 -5.838956e-09,\n  [{'cid': '2b3bf6093e55415785a319a6f48bfe9f',\n    'tknin': 'DAI-1d0F',\n    'amtin': 1.0815449059009552e-05,\n    'tknout': 'WETH-6Cc2',\n    'amtout': -5.838955985382199e-09,\n    'error': None}],\n  'DAI-1d0F',\n  (CPCArbOptimizer.TradeInstruction(cid='2b3bf6093e55415785a319a6f48bfe9f', tknin='DAI-1d0F', amtin=1.0815449059009552e-05, tknout='WETH-6Cc2', amtout=-5.838955985382199e-09, error=None),)),\n (Decimal('-5.69038093090057373046875E-7'),\n                 BNT-FF1C     USDC-eB48\n  720        5.690381e-07 -2.610032e-07\n  AMMIn      5.690381e-07  0.000000e+00\n  AMMOut     0.000000e+00 -2.610032e-07\n  TOTAL NET  5.690381e-07 -2.610032e-07,\n  [{'cid': '720',\n    'tknin': 'BNT-FF1C',\n    'amtin': 5.690380930900574e-07,\n    'tknout': 'USDC-eB48',\n    'amtout': -2.6100315153598785e-07,\n    'error': None}],\n  'BNT-FF1C',\n  (CPCArbOptimizer.TradeInstruction(cid='720', tknin='BNT-FF1C', amtin=5.690380930900574e-07, tknout='USDC-eB48', amtout=-2.6100315153598785e-07, error=None),)),\n (Decimal('-2.817250788211822509765625E-7'),\n                 BNT-FF1C     USDC-eB48\n  720        2.817251e-07 -1.292210e-07\n  AMMIn      2.817251e-07  0.000000e+00\n  AMMOut     0.000000e+00 -1.292210e-07\n  TOTAL NET  2.817251e-07 -1.292210e-07,\n  [{'cid': '720',\n    'tknin': 'BNT-FF1C',\n    'amtin': 2.8172507882118225e-07,\n    'tknout': 'USDC-eB48',\n    'amtout': -1.2922100722789764e-07,\n    'error': None}],\n  'BNT-FF1C',\n  (CPCArbOptimizer.TradeInstruction(cid='720', tknin='BNT-FF1C', amtin=2.8172507882118225e-07, tknout='USDC-eB48', amtout=-1.2922100722789764e-07, error=None),)),\n (Decimal('-896263868721852042215665721955510724602739294208.000000000000000000000000000000'),\n                                       LINK-86CA  USDC-eB48\n  368ffa4c667d4eb48fe33873e6e5be6d  5.980774e+46 -12.288489\n  AMMIn                             5.980774e+46   0.000000\n  AMMOut                            0.000000e+00 -12.288489\n  TOTAL NET                         5.980774e+46 -12.288489,\n  [{'cid': '368ffa4c667d4eb48fe33873e6e5be6d',\n    'tknin': 'LINK-86CA',\n    'amtin': 5.98077390289755e+46,\n    'tknout': 'USDC-eB48',\n    'amtout': -12.288489,\n    'error': None}],\n  'LINK-86CA',\n  (CPCArbOptimizer.TradeInstruction(cid='368ffa4c667d4eb48fe33873e6e5be6d', tknin='LINK-86CA', amtin=5.98077390289755e+46, tknout='USDC-eB48', amtout=-12.288489, error=None),)),\n (Decimal('2.42605728196150781496195129632593386656124606615136940490629058331251144409180E-13'),\n                                    USDT-1ec7  USDC-eB48\n  a3c4f16e3fd042ab93650511b22d879b        0.0        0.0\n  AMMIn                                   0.0        0.0\n  AMMOut                                  0.0        0.0\n  TOTAL NET                               0.0        0.0,\n  [{'cid': 'a3c4f16e3fd042ab93650511b22d879b',\n    'tknin': 'USDT-1ec7',\n    'amtin': 0,\n    'tknout': 'USDC-eB48',\n    'amtout': 0,\n    'error': None}],\n  'USDT-1ec7',\n  (CPCArbOptimizer.TradeInstruction(cid='a3c4f16e3fd042ab93650511b22d879b', tknin='USDT-1ec7', amtin=0, tknout='USDC-eB48', amtout=0, error=None),)),\n (Decimal('2.42605728196150781496195129632593386656124606615136940490629058331251144409180E-13'),\n                                    USDT-1ec7  USDC-eB48\n  a3c4f16e3fd042ab93650511b22d879b        0.0        0.0\n  AMMIn                                   0.0        0.0\n  AMMOut                                  0.0        0.0\n  TOTAL NET                               0.0        0.0,\n  [{'cid': 'a3c4f16e3fd042ab93650511b22d879b',\n    'tknin': 'USDT-1ec7',\n    'amtin': 0,\n    'tknout': 'USDC-eB48',\n    'amtout': 0,\n    'error': None}],\n  'USDT-1ec7',\n  (CPCArbOptimizer.TradeInstruction(cid='a3c4f16e3fd042ab93650511b22d879b', tknin='USDT-1ec7', amtin=0, tknout='USDC-eB48', amtout=0, error=None),)),\n (Decimal('7.05245748511370396687190830668605368014567602585884742438793182373046875E-9'),\n                                       USDC-eB48     WETH-6Cc2\n  6c988ffdc9e74acd97ccfb16dd65c110  3.725290e-09 -1.818989e-12\n  AMMIn                             3.725290e-09  0.000000e+00\n  AMMOut                            0.000000e+00 -1.818989e-12\n  TOTAL NET                         3.725290e-09 -1.818989e-12,\n  [{'cid': '6c988ffdc9e74acd97ccfb16dd65c110',\n    'tknin': 'USDC-eB48',\n    'amtin': 3.725290298461914e-09,\n    'tknout': 'WETH-6Cc2',\n    'amtout': -1.8189894035458565e-12,\n    'error': None}],\n  'WETH-6Cc2',\n  (CPCArbOptimizer.TradeInstruction(cid='6c988ffdc9e74acd97ccfb16dd65c110', tknin='USDC-eB48', amtin=3.725290298461914e-09, tknout='WETH-6Cc2', amtout=-1.8189894035458565e-12, error=None),)),\n (Decimal('7.05245748511370396687190830668605368014567602585884742438793182373046875E-9'),\n                                       USDC-eB48     WETH-6Cc2\n  6c988ffdc9e74acd97ccfb16dd65c110  3.725290e-09 -1.818989e-12\n  AMMIn                             3.725290e-09  0.000000e+00\n  AMMOut                            0.000000e+00 -1.818989e-12\n  TOTAL NET                         3.725290e-09 -1.818989e-12,\n  [{'cid': '6c988ffdc9e74acd97ccfb16dd65c110',\n    'tknin': 'USDC-eB48',\n    'amtin': 3.725290298461914e-09,\n    'tknout': 'WETH-6Cc2',\n    'amtout': -1.8189894035458565e-12,\n    'error': None}],\n  'WETH-6Cc2',\n  (CPCArbOptimizer.TradeInstruction(cid='6c988ffdc9e74acd97ccfb16dd65c110', tknin='USDC-eB48', amtin=3.725290298461914e-09, tknout='WETH-6Cc2', amtout=-1.8189894035458565e-12, error=None),)),\n (Decimal('7.05245748511370396687190830668605368014567602585884742438793182373046875E-9'),\n                                       USDC-eB48     WETH-6Cc2\n  6c988ffdc9e74acd97ccfb16dd65c110  3.725290e-09 -1.818989e-12\n  AMMIn                             3.725290e-09  0.000000e+00\n  AMMOut                            0.000000e+00 -1.818989e-12\n  TOTAL NET                         3.725290e-09 -1.818989e-12,\n  [{'cid': '6c988ffdc9e74acd97ccfb16dd65c110',\n    'tknin': 'USDC-eB48',\n    'amtin': 3.725290298461914e-09,\n    'tknout': 'WETH-6Cc2',\n    'amtout': -1.8189894035458565e-12,\n    'error': None}],\n  'WETH-6Cc2',\n  (CPCArbOptimizer.TradeInstruction(cid='6c988ffdc9e74acd97ccfb16dd65c110', tknin='USDC-eB48', amtin=3.725290298461914e-09, tknout='WETH-6Cc2', amtout=-1.8189894035458565e-12, error=None),)),\n (Decimal('0.157090704760201135949004843127650704734041275933975612133508548140525817871094'),\n                                                 USDC-eB48  WETH-6Cc2\n  6c988ffdc9e74acd97ccfb16dd65c110            1.994537e+00  -0.001074\n  1701411834604692317316873037158841057296-0 -1.994537e+00   0.001033\n  AMMIn                                       1.994537e+00   0.001033\n  AMMOut                                     -1.994537e+00  -0.001074\n  TOTAL NET                                  -3.725290e-09  -0.000041,\n  [{'cid': '6c988ffdc9e74acd97ccfb16dd65c110',\n    'tknin': 'USDC-eB48',\n    'amtin': 1.9945373497903347,\n    'tknout': 'WETH-6Cc2',\n    'amtout': -0.001073957502740086,\n    'error': None},\n   {'cid': '1701411834604692317316873037158841057296-0',\n    'tknin': 'WETH-6Cc2',\n    'amtin': 0.0010334402322769165,\n    'tknout': 'USDC-eB48',\n    'amtout': -1.994537353515625,\n    'error': None}],\n  'WETH-6Cc2',\n  (CPCArbOptimizer.TradeInstruction(cid='6c988ffdc9e74acd97ccfb16dd65c110', tknin='USDC-eB48', amtin=1.9945373497903347, tknout='WETH-6Cc2', amtout=-0.001073957502740086, error=None),\n   CPCArbOptimizer.TradeInstruction(cid='1701411834604692317316873037158841057296-0', tknin='WETH-6Cc2', amtin=0.0010334402322769165, tknout='USDC-eB48', amtout=-1.994537353515625, error=None))),\n (Decimal('7.05245748511370396687190830668605368014567602585884742438793182373046875E-9'),\n                                       USDC-eB48     WETH-6Cc2\n  6c988ffdc9e74acd97ccfb16dd65c110  3.725290e-09 -1.818989e-12\n  AMMIn                             3.725290e-09  0.000000e+00\n  AMMOut                            0.000000e+00 -1.818989e-12\n  TOTAL NET                         3.725290e-09 -1.818989e-12,\n  [{'cid': '6c988ffdc9e74acd97ccfb16dd65c110',\n    'tknin': 'USDC-eB48',\n    'amtin': 3.725290298461914e-09,\n    'tknout': 'WETH-6Cc2',\n    'amtout': -1.8189894035458565e-12,\n    'error': None}],\n  'WETH-6Cc2',\n  (CPCArbOptimizer.TradeInstruction(cid='6c988ffdc9e74acd97ccfb16dd65c110', tknin='USDC-eB48', amtin=3.725290298461914e-09, tknout='WETH-6Cc2', amtout=-1.8189894035458565e-12, error=None),)),\n (Decimal('7.05245748511370396687190830668605368014567602585884742438793182373046875E-9'),\n                                       USDC-eB48     WETH-6Cc2\n  6c988ffdc9e74acd97ccfb16dd65c110  3.725290e-09 -1.818989e-12\n  AMMIn                             3.725290e-09  0.000000e+00\n  AMMOut                            0.000000e+00 -1.818989e-12\n  TOTAL NET                         3.725290e-09 -1.818989e-12,\n  [{'cid': '6c988ffdc9e74acd97ccfb16dd65c110',\n    'tknin': 'USDC-eB48',\n    'amtin': 3.725290298461914e-09,\n    'tknout': 'WETH-6Cc2',\n    'amtout': -1.8189894035458565e-12,\n    'error': None}],\n  'WETH-6Cc2',\n  (CPCArbOptimizer.TradeInstruction(cid='6c988ffdc9e74acd97ccfb16dd65c110', tknin='USDC-eB48', amtin=3.725290298461914e-09, tknout='WETH-6Cc2', amtout=-1.8189894035458565e-12, error=None),)),\n (Decimal('7.05245748511370396687190830668605368014567602585884742438793182373046875E-9'),\n                                       USDC-eB48     WETH-6Cc2\n  6c988ffdc9e74acd97ccfb16dd65c110  3.725290e-09 -1.818989e-12\n  AMMIn                             3.725290e-09  0.000000e+00\n  AMMOut                            0.000000e+00 -1.818989e-12\n  TOTAL NET                         3.725290e-09 -1.818989e-12,\n  [{'cid': '6c988ffdc9e74acd97ccfb16dd65c110',\n    'tknin': 'USDC-eB48',\n    'amtin': 3.725290298461914e-09,\n    'tknout': 'WETH-6Cc2',\n    'amtout': -1.8189894035458565e-12,\n    'error': None}],\n  'WETH-6Cc2',\n  (CPCArbOptimizer.TradeInstruction(cid='6c988ffdc9e74acd97ccfb16dd65c110', tknin='USDC-eB48', amtin=3.725290298461914e-09, tknout='WETH-6Cc2', amtout=-1.8189894035458565e-12, error=None),)),\n (Decimal('7.05245748511370396687190830668605368014567602585884742438793182373046875E-9'),\n                                       USDC-eB48     WETH-6Cc2\n  6c988ffdc9e74acd97ccfb16dd65c110  3.725290e-09 -1.818989e-12\n  AMMIn                             3.725290e-09  0.000000e+00\n  AMMOut                            0.000000e+00 -1.818989e-12\n  TOTAL NET                         3.725290e-09 -1.818989e-12,\n  [{'cid': '6c988ffdc9e74acd97ccfb16dd65c110',\n    'tknin': 'USDC-eB48',\n    'amtin': 3.725290298461914e-09,\n    'tknout': 'WETH-6Cc2',\n    'amtout': -1.8189894035458565e-12,\n    'error': None}],\n  'WETH-6Cc2',\n  (CPCArbOptimizer.TradeInstruction(cid='6c988ffdc9e74acd97ccfb16dd65c110', tknin='USDC-eB48', amtin=3.725290298461914e-09, tknout='WETH-6Cc2', amtout=-1.8189894035458565e-12, error=None),)),\n (Decimal('7.05245748511370396687190830668605368014567602585884742438793182373046875E-9'),\n                                       USDC-eB48     WETH-6Cc2\n  6c988ffdc9e74acd97ccfb16dd65c110  3.725290e-09 -1.818989e-12\n  AMMIn                             3.725290e-09  0.000000e+00\n  AMMOut                            0.000000e+00 -1.818989e-12\n  TOTAL NET                         3.725290e-09 -1.818989e-12,\n  [{'cid': '6c988ffdc9e74acd97ccfb16dd65c110',\n    'tknin': 'USDC-eB48',\n    'amtin': 3.725290298461914e-09,\n    'tknout': 'WETH-6Cc2',\n    'amtout': -1.8189894035458565e-12,\n    'error': None}],\n  'WETH-6Cc2',\n  (CPCArbOptimizer.TradeInstruction(cid='6c988ffdc9e74acd97ccfb16dd65c110', tknin='USDC-eB48', amtin=3.725290298461914e-09, tknout='WETH-6Cc2', amtout=-1.8189894035458565e-12, error=None),)),\n (Decimal('7.05245748511370396687190830668605368014567602585884742438793182373046875E-9'),\n                                       USDC-eB48     WETH-6Cc2\n  6c988ffdc9e74acd97ccfb16dd65c110  3.725290e-09 -1.818989e-12\n  AMMIn                             3.725290e-09  0.000000e+00\n  AMMOut                            0.000000e+00 -1.818989e-12\n  TOTAL NET                         3.725290e-09 -1.818989e-12,\n  [{'cid': '6c988ffdc9e74acd97ccfb16dd65c110',\n    'tknin': 'USDC-eB48',\n    'amtin': 3.725290298461914e-09,\n    'tknout': 'WETH-6Cc2',\n    'amtout': -1.8189894035458565e-12,\n    'error': None}],\n  'WETH-6Cc2',\n  (CPCArbOptimizer.TradeInstruction(cid='6c988ffdc9e74acd97ccfb16dd65c110', tknin='USDC-eB48', amtin=3.725290298461914e-09, tknout='WETH-6Cc2', amtout=-1.8189894035458565e-12, error=None),)),\n (Decimal('7.05245748511370396687190830668605368014567602585884742438793182373046875E-9'),\n                                       USDC-eB48     WETH-6Cc2\n  6c988ffdc9e74acd97ccfb16dd65c110  3.725290e-09 -1.818989e-12\n  AMMIn                             3.725290e-09  0.000000e+00\n  AMMOut                            0.000000e+00 -1.818989e-12\n  TOTAL NET                         3.725290e-09 -1.818989e-12,\n  [{'cid': '6c988ffdc9e74acd97ccfb16dd65c110',\n    'tknin': 'USDC-eB48',\n    'amtin': 3.725290298461914e-09,\n    'tknout': 'WETH-6Cc2',\n    'amtout': -1.8189894035458565e-12,\n    'error': None}],\n  'WETH-6Cc2',\n  (CPCArbOptimizer.TradeInstruction(cid='6c988ffdc9e74acd97ccfb16dd65c110', tknin='USDC-eB48', amtin=3.725290298461914e-09, tknout='WETH-6Cc2', amtout=-1.8189894035458565e-12, error=None),)),\n (Decimal('7.05245748511370396687190830668605368014567602585884742438793182373046875E-9'),\n                                       USDC-eB48     WETH-6Cc2\n  6c988ffdc9e74acd97ccfb16dd65c110  3.725290e-09 -1.818989e-12\n  AMMIn                             3.725290e-09  0.000000e+00\n  AMMOut                            0.000000e+00 -1.818989e-12\n  TOTAL NET                         3.725290e-09 -1.818989e-12,\n  [{'cid': '6c988ffdc9e74acd97ccfb16dd65c110',\n    'tknin': 'USDC-eB48',\n    'amtin': 3.725290298461914e-09,\n    'tknout': 'WETH-6Cc2',\n    'amtout': -1.8189894035458565e-12,\n    'error': None}],\n  'WETH-6Cc2',\n  (CPCArbOptimizer.TradeInstruction(cid='6c988ffdc9e74acd97ccfb16dd65c110', tknin='USDC-eB48', amtin=3.725290298461914e-09, tknout='WETH-6Cc2', amtout=-1.8189894035458565e-12, error=None),)),\n (Decimal('7.05245748511370396687190830668605368014567602585884742438793182373046875E-9'),\n                                       USDC-eB48     WETH-6Cc2\n  6c988ffdc9e74acd97ccfb16dd65c110  3.725290e-09 -1.818989e-12\n  AMMIn                             3.725290e-09  0.000000e+00\n  AMMOut                            0.000000e+00 -1.818989e-12\n  TOTAL NET                         3.725290e-09 -1.818989e-12,\n  [{'cid': '6c988ffdc9e74acd97ccfb16dd65c110',\n    'tknin': 'USDC-eB48',\n    'amtin': 3.725290298461914e-09,\n    'tknout': 'WETH-6Cc2',\n    'amtout': -1.8189894035458565e-12,\n    'error': None}],\n  'WETH-6Cc2',\n  (CPCArbOptimizer.TradeInstruction(cid='6c988ffdc9e74acd97ccfb16dd65c110', tknin='USDC-eB48', amtin=3.725290298461914e-09, tknout='WETH-6Cc2', amtout=-1.8189894035458565e-12, error=None),)),\n (Decimal('7.05245748511370396687190830668605368014567602585884742438793182373046875E-9'),\n                                       USDC-eB48     WETH-6Cc2\n  6c988ffdc9e74acd97ccfb16dd65c110  3.725290e-09 -1.818989e-12\n  AMMIn                             3.725290e-09  0.000000e+00\n  AMMOut                            0.000000e+00 -1.818989e-12\n  TOTAL NET                         3.725290e-09 -1.818989e-12,\n  [{'cid': '6c988ffdc9e74acd97ccfb16dd65c110',\n    'tknin': 'USDC-eB48',\n    'amtin': 3.725290298461914e-09,\n    'tknout': 'WETH-6Cc2',\n    'amtout': -1.8189894035458565e-12,\n    'error': None}],\n  'WETH-6Cc2',\n  (CPCArbOptimizer.TradeInstruction(cid='6c988ffdc9e74acd97ccfb16dd65c110', tknin='USDC-eB48', amtin=3.725290298461914e-09, tknout='WETH-6Cc2', amtout=-1.8189894035458565e-12, error=None),)),\n (Decimal('7.05245748511370396687190830668605368014567602585884742438793182373046875E-9'),\n                                       USDC-eB48     WETH-6Cc2\n  6c988ffdc9e74acd97ccfb16dd65c110  3.725290e-09 -1.818989e-12\n  AMMIn                             3.725290e-09  0.000000e+00\n  AMMOut                            0.000000e+00 -1.818989e-12\n  TOTAL NET                         3.725290e-09 -1.818989e-12,\n  [{'cid': '6c988ffdc9e74acd97ccfb16dd65c110',\n    'tknin': 'USDC-eB48',\n    'amtin': 3.725290298461914e-09,\n    'tknout': 'WETH-6Cc2',\n    'amtout': -1.8189894035458565e-12,\n    'error': None}],\n  'WETH-6Cc2',\n  (CPCArbOptimizer.TradeInstruction(cid='6c988ffdc9e74acd97ccfb16dd65c110', tknin='USDC-eB48', amtin=3.725290298461914e-09, tknout='WETH-6Cc2', amtout=-1.8189894035458565e-12, error=None),)),\n (Decimal('7.05245748511370396687190830668605368014567602585884742438793182373046875E-9'),\n                                       USDC-eB48     WETH-6Cc2\n  6c988ffdc9e74acd97ccfb16dd65c110  3.725290e-09 -1.818989e-12\n  AMMIn                             3.725290e-09  0.000000e+00\n  AMMOut                            0.000000e+00 -1.818989e-12\n  TOTAL NET                         3.725290e-09 -1.818989e-12,\n  [{'cid': '6c988ffdc9e74acd97ccfb16dd65c110',\n    'tknin': 'USDC-eB48',\n    'amtin': 3.725290298461914e-09,\n    'tknout': 'WETH-6Cc2',\n    'amtout': -1.8189894035458565e-12,\n    'error': None}],\n  'WETH-6Cc2',\n  (CPCArbOptimizer.TradeInstruction(cid='6c988ffdc9e74acd97ccfb16dd65c110', tknin='USDC-eB48', amtin=3.725290298461914e-09, tknout='WETH-6Cc2', amtout=-1.8189894035458565e-12, error=None),)),\n (Decimal('1.41049149702274079337438166133721073602913520517176948487758636474609375E-8'),\n                                       USDC-eB48     WETH-6Cc2\n  50ac5ace09c1483987af46c60c551073  7.450581e-09 -3.637979e-12\n  AMMIn                             7.450581e-09  0.000000e+00\n  AMMOut                            0.000000e+00 -3.637979e-12\n  TOTAL NET                         7.450581e-09 -3.637979e-12,\n  [{'cid': '50ac5ace09c1483987af46c60c551073',\n    'tknin': 'USDC-eB48',\n    'amtin': 7.450580596923828e-09,\n    'tknout': 'WETH-6Cc2',\n    'amtout': -3.637978807091713e-12,\n    'error': None}],\n  'WETH-6Cc2',\n  (CPCArbOptimizer.TradeInstruction(cid='50ac5ace09c1483987af46c60c551073', tknin='USDC-eB48', amtin=7.450580596923828e-09, tknout='WETH-6Cc2', amtout=-3.637978807091713e-12, error=None),)),\n (Decimal('1.41049149702274079337438166133721073602913520517176948487758636474609375E-8'),\n                                       USDC-eB48     WETH-6Cc2\n  50ac5ace09c1483987af46c60c551073  7.450581e-09 -3.637979e-12\n  AMMIn                             7.450581e-09  0.000000e+00\n  AMMOut                            0.000000e+00 -3.637979e-12\n  TOTAL NET                         7.450581e-09 -3.637979e-12,\n  [{'cid': '50ac5ace09c1483987af46c60c551073',\n    'tknin': 'USDC-eB48',\n    'amtin': 7.450580596923828e-09,\n    'tknout': 'WETH-6Cc2',\n    'amtout': -3.637978807091713e-12,\n    'error': None}],\n  'WETH-6Cc2',\n  (CPCArbOptimizer.TradeInstruction(cid='50ac5ace09c1483987af46c60c551073', tknin='USDC-eB48', amtin=7.450580596923828e-09, tknout='WETH-6Cc2', amtout=-3.637978807091713e-12, error=None),)),\n (Decimal('1.41049149702274079337438166133721073602913520517176948487758636474609375E-8'),\n                                       USDC-eB48     WETH-6Cc2\n  50ac5ace09c1483987af46c60c551073  7.450581e-09 -3.637979e-12\n  AMMIn                             7.450581e-09  0.000000e+00\n  AMMOut                            0.000000e+00 -3.637979e-12\n  TOTAL NET                         7.450581e-09 -3.637979e-12,\n  [{'cid': '50ac5ace09c1483987af46c60c551073',\n    'tknin': 'USDC-eB48',\n    'amtin': 7.450580596923828e-09,\n    'tknout': 'WETH-6Cc2',\n    'amtout': -3.637978807091713e-12,\n    'error': None}],\n  'WETH-6Cc2',\n  (CPCArbOptimizer.TradeInstruction(cid='50ac5ace09c1483987af46c60c551073', tknin='USDC-eB48', amtin=7.450580596923828e-09, tknout='WETH-6Cc2', amtout=-3.637978807091713e-12, error=None),)),\n (Decimal('0.15938480570799125782609257305264091782170954303410326247103512287139892578125'),\n                                                 USDC-eB48  WETH-6Cc2\n  50ac5ace09c1483987af46c60c551073            1.994537e+00  -0.001075\n  1701411834604692317316873037158841057296-0 -1.994537e+00   0.001033\n  AMMIn                                       1.994537e+00   0.001033\n  AMMOut                                     -1.994537e+00  -0.001075\n  TOTAL NET                                  -1.490116e-08  -0.000041,\n  [{'cid': '50ac5ace09c1483987af46c60c551073',\n    'tknin': 'USDC-eB48',\n    'amtin': 1.9945373386144638,\n    'tknout': 'WETH-6Cc2',\n    'amtout': -0.0010745492036221549,\n    'error': None},\n   {'cid': '1701411834604692317316873037158841057296-0',\n    'tknin': 'WETH-6Cc2',\n    'amtin': 0.0010334402322769165,\n    'tknout': 'USDC-eB48',\n    'amtout': -1.994537353515625,\n    'error': None}],\n  'WETH-6Cc2',\n  (CPCArbOptimizer.TradeInstruction(cid='50ac5ace09c1483987af46c60c551073', tknin='USDC-eB48', amtin=1.9945373386144638, tknout='WETH-6Cc2', amtout=-0.0010745492036221549, error=None),\n   CPCArbOptimizer.TradeInstruction(cid='1701411834604692317316873037158841057296-0', tknin='WETH-6Cc2', amtin=0.0010334402322769165, tknout='USDC-eB48', amtout=-1.994537353515625, error=None))),\n (Decimal('1.41049149702274079337438166133721073602913520517176948487758636474609375E-8'),\n                                       USDC-eB48     WETH-6Cc2\n  50ac5ace09c1483987af46c60c551073  7.450581e-09 -3.637979e-12\n  AMMIn                             7.450581e-09  0.000000e+00\n  AMMOut                            0.000000e+00 -3.637979e-12\n  TOTAL NET                         7.450581e-09 -3.637979e-12,\n  [{'cid': '50ac5ace09c1483987af46c60c551073',\n    'tknin': 'USDC-eB48',\n    'amtin': 7.450580596923828e-09,\n    'tknout': 'WETH-6Cc2',\n    'amtout': -3.637978807091713e-12,\n    'error': None}],\n  'WETH-6Cc2',\n  (CPCArbOptimizer.TradeInstruction(cid='50ac5ace09c1483987af46c60c551073', tknin='USDC-eB48', amtin=7.450580596923828e-09, tknout='WETH-6Cc2', amtout=-3.637978807091713e-12, error=None),)),\n (Decimal('1.41049149702274079337438166133721073602913520517176948487758636474609375E-8'),\n                                       USDC-eB48     WETH-6Cc2\n  50ac5ace09c1483987af46c60c551073  7.450581e-09 -3.637979e-12\n  AMMIn                             7.450581e-09  0.000000e+00\n  AMMOut                            0.000000e+00 -3.637979e-12\n  TOTAL NET                         7.450581e-09 -3.637979e-12,\n  [{'cid': '50ac5ace09c1483987af46c60c551073',\n    'tknin': 'USDC-eB48',\n    'amtin': 7.450580596923828e-09,\n    'tknout': 'WETH-6Cc2',\n    'amtout': -3.637978807091713e-12,\n    'error': None}],\n  'WETH-6Cc2',\n  (CPCArbOptimizer.TradeInstruction(cid='50ac5ace09c1483987af46c60c551073', tknin='USDC-eB48', amtin=7.450580596923828e-09, tknout='WETH-6Cc2', amtout=-3.637978807091713e-12, error=None),)),\n (Decimal('1.41049149702274079337438166133721073602913520517176948487758636474609375E-8'),\n                                       USDC-eB48     WETH-6Cc2\n  50ac5ace09c1483987af46c60c551073  7.450581e-09 -3.637979e-12\n  AMMIn                             7.450581e-09  0.000000e+00\n  AMMOut                            0.000000e+00 -3.637979e-12\n  TOTAL NET                         7.450581e-09 -3.637979e-12,\n  [{'cid': '50ac5ace09c1483987af46c60c551073',\n    'tknin': 'USDC-eB48',\n    'amtin': 7.450580596923828e-09,\n    'tknout': 'WETH-6Cc2',\n    'amtout': -3.637978807091713e-12,\n    'error': None}],\n  'WETH-6Cc2',\n  (CPCArbOptimizer.TradeInstruction(cid='50ac5ace09c1483987af46c60c551073', tknin='USDC-eB48', amtin=7.450580596923828e-09, tknout='WETH-6Cc2', amtout=-3.637978807091713e-12, error=None),)),\n (Decimal('1.41049149702274079337438166133721073602913520517176948487758636474609375E-8'),\n                                       USDC-eB48     WETH-6Cc2\n  50ac5ace09c1483987af46c60c551073  7.450581e-09 -3.637979e-12\n  AMMIn                             7.450581e-09  0.000000e+00\n  AMMOut                            0.000000e+00 -3.637979e-12\n  TOTAL NET                         7.450581e-09 -3.637979e-12,\n  [{'cid': '50ac5ace09c1483987af46c60c551073',\n    'tknin': 'USDC-eB48',\n    'amtin': 7.450580596923828e-09,\n    'tknout': 'WETH-6Cc2',\n    'amtout': -3.637978807091713e-12,\n    'error': None}],\n  'WETH-6Cc2',\n  (CPCArbOptimizer.TradeInstruction(cid='50ac5ace09c1483987af46c60c551073', tknin='USDC-eB48', amtin=7.450580596923828e-09, tknout='WETH-6Cc2', amtout=-3.637978807091713e-12, error=None),)),\n (Decimal('1.41049149702274079337438166133721073602913520517176948487758636474609375E-8'),\n                                       USDC-eB48     WETH-6Cc2\n  50ac5ace09c1483987af46c60c551073  7.450581e-09 -3.637979e-12\n  AMMIn                             7.450581e-09  0.000000e+00\n  AMMOut                            0.000000e+00 -3.637979e-12\n  TOTAL NET                         7.450581e-09 -3.637979e-12,\n  [{'cid': '50ac5ace09c1483987af46c60c551073',\n    'tknin': 'USDC-eB48',\n    'amtin': 7.450580596923828e-09,\n    'tknout': 'WETH-6Cc2',\n    'amtout': -3.637978807091713e-12,\n    'error': None}],\n  'WETH-6Cc2',\n  (CPCArbOptimizer.TradeInstruction(cid='50ac5ace09c1483987af46c60c551073', tknin='USDC-eB48', amtin=7.450580596923828e-09, tknout='WETH-6Cc2', amtout=-3.637978807091713e-12, error=None),)),\n (Decimal('1.41049149702274079337438166133721073602913520517176948487758636474609375E-8'),\n                                       USDC-eB48     WETH-6Cc2\n  50ac5ace09c1483987af46c60c551073  7.450581e-09 -3.637979e-12\n  AMMIn                             7.450581e-09  0.000000e+00\n  AMMOut                            0.000000e+00 -3.637979e-12\n  TOTAL NET                         7.450581e-09 -3.637979e-12,\n  [{'cid': '50ac5ace09c1483987af46c60c551073',\n    'tknin': 'USDC-eB48',\n    'amtin': 7.450580596923828e-09,\n    'tknout': 'WETH-6Cc2',\n    'amtout': -3.637978807091713e-12,\n    'error': None}],\n  'WETH-6Cc2',\n  (CPCArbOptimizer.TradeInstruction(cid='50ac5ace09c1483987af46c60c551073', tknin='USDC-eB48', amtin=7.450580596923828e-09, tknout='WETH-6Cc2', amtout=-3.637978807091713e-12, error=None),)),\n (Decimal('1.41049149702274079337438166133721073602913520517176948487758636474609375E-8'),\n                                       USDC-eB48     WETH-6Cc2\n  50ac5ace09c1483987af46c60c551073  7.450581e-09 -3.637979e-12\n  AMMIn                             7.450581e-09  0.000000e+00\n  AMMOut                            0.000000e+00 -3.637979e-12\n  TOTAL NET                         7.450581e-09 -3.637979e-12,\n  [{'cid': '50ac5ace09c1483987af46c60c551073',\n    'tknin': 'USDC-eB48',\n    'amtin': 7.450580596923828e-09,\n    'tknout': 'WETH-6Cc2',\n    'amtout': -3.637978807091713e-12,\n    'error': None}],\n  'WETH-6Cc2',\n  (CPCArbOptimizer.TradeInstruction(cid='50ac5ace09c1483987af46c60c551073', tknin='USDC-eB48', amtin=7.450580596923828e-09, tknout='WETH-6Cc2', amtout=-3.637978807091713e-12, error=None),)),\n (Decimal('1.41049149702274079337438166133721073602913520517176948487758636474609375E-8'),\n                                       USDC-eB48     WETH-6Cc2\n  50ac5ace09c1483987af46c60c551073  7.450581e-09 -3.637979e-12\n  AMMIn                             7.450581e-09  0.000000e+00\n  AMMOut                            0.000000e+00 -3.637979e-12\n  TOTAL NET                         7.450581e-09 -3.637979e-12,\n  [{'cid': '50ac5ace09c1483987af46c60c551073',\n    'tknin': 'USDC-eB48',\n    'amtin': 7.450580596923828e-09,\n    'tknout': 'WETH-6Cc2',\n    'amtout': -3.637978807091713e-12,\n    'error': None}],\n  'WETH-6Cc2',\n  (CPCArbOptimizer.TradeInstruction(cid='50ac5ace09c1483987af46c60c551073', tknin='USDC-eB48', amtin=7.450580596923828e-09, tknout='WETH-6Cc2', amtout=-3.637978807091713e-12, error=None),)),\n (Decimal('1.41049149702274079337438166133721073602913520517176948487758636474609375E-8'),\n                                       USDC-eB48     WETH-6Cc2\n  50ac5ace09c1483987af46c60c551073  7.450581e-09 -3.637979e-12\n  AMMIn                             7.450581e-09  0.000000e+00\n  AMMOut                            0.000000e+00 -3.637979e-12\n  TOTAL NET                         7.450581e-09 -3.637979e-12,\n  [{'cid': '50ac5ace09c1483987af46c60c551073',\n    'tknin': 'USDC-eB48',\n    'amtin': 7.450580596923828e-09,\n    'tknout': 'WETH-6Cc2',\n    'amtout': -3.637978807091713e-12,\n    'error': None}],\n  'WETH-6Cc2',\n  (CPCArbOptimizer.TradeInstruction(cid='50ac5ace09c1483987af46c60c551073', tknin='USDC-eB48', amtin=7.450580596923828e-09, tknout='WETH-6Cc2', amtout=-3.637978807091713e-12, error=None),)),\n (Decimal('1.41049149702274079337438166133721073602913520517176948487758636474609375E-8'),\n                                       USDC-eB48     WETH-6Cc2\n  50ac5ace09c1483987af46c60c551073  7.450581e-09 -3.637979e-12\n  AMMIn                             7.450581e-09  0.000000e+00\n  AMMOut                            0.000000e+00 -3.637979e-12\n  TOTAL NET                         7.450581e-09 -3.637979e-12,\n  [{'cid': '50ac5ace09c1483987af46c60c551073',\n    'tknin': 'USDC-eB48',\n    'amtin': 7.450580596923828e-09,\n    'tknout': 'WETH-6Cc2',\n    'amtout': -3.637978807091713e-12,\n    'error': None}],\n  'WETH-6Cc2',\n  (CPCArbOptimizer.TradeInstruction(cid='50ac5ace09c1483987af46c60c551073', tknin='USDC-eB48', amtin=7.450580596923828e-09, tknout='WETH-6Cc2', amtout=-3.637978807091713e-12, error=None),)),\n (Decimal('1.41049149702274079337438166133721073602913520517176948487758636474609375E-8'),\n                                       USDC-eB48     WETH-6Cc2\n  50ac5ace09c1483987af46c60c551073  7.450581e-09 -3.637979e-12\n  AMMIn                             7.450581e-09  0.000000e+00\n  AMMOut                            0.000000e+00 -3.637979e-12\n  TOTAL NET                         7.450581e-09 -3.637979e-12,\n  [{'cid': '50ac5ace09c1483987af46c60c551073',\n    'tknin': 'USDC-eB48',\n    'amtin': 7.450580596923828e-09,\n    'tknout': 'WETH-6Cc2',\n    'amtout': -3.637978807091713e-12,\n    'error': None}],\n  'WETH-6Cc2',\n  (CPCArbOptimizer.TradeInstruction(cid='50ac5ace09c1483987af46c60c551073', tknin='USDC-eB48', amtin=7.450580596923828e-09, tknout='WETH-6Cc2', amtout=-3.637978807091713e-12, error=None),)),\n (Decimal('1.41049149702274079337438166133721073602913520517176948487758636474609375E-8'),\n                                       USDC-eB48     WETH-6Cc2\n  50ac5ace09c1483987af46c60c551073  7.450581e-09 -3.637979e-12\n  AMMIn                             7.450581e-09  0.000000e+00\n  AMMOut                            0.000000e+00 -3.637979e-12\n  TOTAL NET                         7.450581e-09 -3.637979e-12,\n  [{'cid': '50ac5ace09c1483987af46c60c551073',\n    'tknin': 'USDC-eB48',\n    'amtin': 7.450580596923828e-09,\n    'tknout': 'WETH-6Cc2',\n    'amtout': -3.637978807091713e-12,\n    'error': None}],\n  'WETH-6Cc2',\n  (CPCArbOptimizer.TradeInstruction(cid='50ac5ace09c1483987af46c60c551073', tknin='USDC-eB48', amtin=7.450580596923828e-09, tknout='WETH-6Cc2', amtout=-3.637978807091713e-12, error=None),)),\n (Decimal('6.2071354442068394724537660738362780665777762578727561049163341522216796875E-11'),\n                                       WBTC-C599     USDC-eB48\n  4b7ef4b0433441ad854c728302248661  8.881784e-16 -2.910383e-11\n  AMMIn                             8.881784e-16  0.000000e+00\n  AMMOut                            0.000000e+00 -2.910383e-11\n  TOTAL NET                         8.881784e-16 -2.910383e-11,\n  [{'cid': '4b7ef4b0433441ad854c728302248661',\n    'tknin': 'WBTC-C599',\n    'amtin': 8.881784197001252e-16,\n    'tknout': 'USDC-eB48',\n    'amtout': -2.9103830456733704e-11,\n    'error': None}],\n  'USDC-eB48',\n  (CPCArbOptimizer.TradeInstruction(cid='4b7ef4b0433441ad854c728302248661', tknin='WBTC-C599', amtin=8.881784197001252e-16, tknout='USDC-eB48', amtout=-2.9103830456733704e-11, error=None),)),\n (Decimal('2.42605728196150781496195129632593386656124606615136940490629058331251144409180E-13'),\n                                       WBTC-C599     USDT-1ec7\n  1a63b94c4aab468aadf132f6b7ad4378  5.204170e-18 -1.136868e-13\n  AMMIn                             5.204170e-18  0.000000e+00\n  AMMOut                            0.000000e+00 -1.136868e-13\n  TOTAL NET                         5.204170e-18 -1.136868e-13,\n  [{'cid': '1a63b94c4aab468aadf132f6b7ad4378',\n    'tknin': 'WBTC-C599',\n    'amtin': 5.204170427930421e-18,\n    'tknout': 'USDT-1ec7',\n    'amtout': -1.1368683772161603e-13,\n    'error': None}],\n  'USDT-1ec7',\n  (CPCArbOptimizer.TradeInstruction(cid='1a63b94c4aab468aadf132f6b7ad4378', tknin='WBTC-C599', amtin=5.204170427930421e-18, tknout='USDT-1ec7', amtout=-1.1368683772161603e-13, error=None),)),\n (Decimal('2.42605728196150781496195129632593386656124606615136940490629058331251144409180E-13'),\n                                       WBTC-C599     USDT-1ec7\n  1a63b94c4aab468aadf132f6b7ad4378  5.204170e-18 -1.136868e-13\n  AMMIn                             5.204170e-18  0.000000e+00\n  AMMOut                            0.000000e+00 -1.136868e-13\n  TOTAL NET                         5.204170e-18 -1.136868e-13,\n  [{'cid': '1a63b94c4aab468aadf132f6b7ad4378',\n    'tknin': 'WBTC-C599',\n    'amtin': 5.204170427930421e-18,\n    'tknout': 'USDT-1ec7',\n    'amtout': -1.1368683772161603e-13,\n    'error': None}],\n  'USDT-1ec7',\n  (CPCArbOptimizer.TradeInstruction(cid='1a63b94c4aab468aadf132f6b7ad4378', tknin='WBTC-C599', amtin=5.204170427930421e-18, tknout='USDT-1ec7', amtout=-1.1368683772161603e-13, error=None),)),\n (Decimal('3.526228742556851983435954153343026840072838012929423712193965911865234375E-9'),\n                                    WETH-6Cc2  WBTC-C599\n  dfefc9ca163747858dc6b79eeee68882        0.0        0.0\n  AMMIn                                   0.0        0.0\n  AMMOut                                  0.0        0.0\n  TOTAL NET                               0.0        0.0,\n  [{'cid': 'dfefc9ca163747858dc6b79eeee68882',\n    'tknin': 'WETH-6Cc2',\n    'amtin': 0,\n    'tknout': 'WBTC-C599',\n    'amtout': 0,\n    'error': None}],\n  'WETH-6Cc2',\n  (CPCArbOptimizer.TradeInstruction(cid='dfefc9ca163747858dc6b79eeee68882', tknin='WETH-6Cc2', amtin=0, tknout='WBTC-C599', amtout=0, error=None),)),\n (Decimal('3.526228742556851983435954153343026840072838012929423712193965911865234375E-9'),\n                                    WETH-6Cc2  WBTC-C599\n  dfefc9ca163747858dc6b79eeee68882        0.0        0.0\n  AMMIn                                   0.0        0.0\n  AMMOut                                  0.0        0.0\n  TOTAL NET                               0.0        0.0,\n  [{'cid': 'dfefc9ca163747858dc6b79eeee68882',\n    'tknin': 'WETH-6Cc2',\n    'amtin': 0,\n    'tknout': 'WBTC-C599',\n    'amtout': 0,\n    'error': None}],\n  'WETH-6Cc2',\n  (CPCArbOptimizer.TradeInstruction(cid='dfefc9ca163747858dc6b79eeee68882', tknin='WETH-6Cc2', amtin=0, tknout='WBTC-C599', amtout=0, error=None),)),\n (Decimal('-5.052424967288970947265625E-8'),\n                 BNT-FF1C     vBNT-7f94\n  742        5.052425e-08 -6.309710e-08\n  AMMIn      5.052425e-08  0.000000e+00\n  AMMOut     0.000000e+00 -6.309710e-08\n  TOTAL NET  5.052425e-08 -6.309710e-08,\n  [{'cid': '742',\n    'tknin': 'BNT-FF1C',\n    'amtin': 5.052424967288971e-08,\n    'tknout': 'vBNT-7f94',\n    'amtout': -6.309710443019867e-08,\n    'error': None}],\n  'BNT-FF1C',\n  (CPCArbOptimizer.TradeInstruction(cid='742', tknin='BNT-FF1C', amtin=5.052424967288971e-08, tknout='vBNT-7f94', amtout=-6.309710443019867e-08, error=None),)),\n (Decimal('-4.493631422519683837890625E-8'),\n                 BNT-FF1C     vBNT-7f94\n  742        4.493631e-08 -5.611219e-08\n  AMMIn      4.493631e-08  0.000000e+00\n  AMMOut     0.000000e+00 -5.611219e-08\n  TOTAL NET  4.493631e-08 -5.611219e-08,\n  [{'cid': '742',\n    'tknin': 'BNT-FF1C',\n    'amtin': 4.493631422519684e-08,\n    'tknout': 'vBNT-7f94',\n    'amtout': -5.611218512058258e-08,\n    'error': None}],\n  'BNT-FF1C',\n  (CPCArbOptimizer.TradeInstruction(cid='742', tknin='BNT-FF1C', amtin=4.493631422519684e-08, tknout='vBNT-7f94', amtout=-5.611218512058258e-08, error=None),)),\n (Decimal('-4.912726581096649169921875E-8'),\n                 BNT-FF1C     vBNT-7f94\n  742        4.912727e-08 -6.123446e-08\n  AMMIn      4.912727e-08  0.000000e+00\n  AMMOut     0.000000e+00 -6.123446e-08\n  TOTAL NET  4.912727e-08 -6.123446e-08,\n  [{'cid': '742',\n    'tknin': 'BNT-FF1C',\n    'amtin': 4.912726581096649e-08,\n    'tknout': 'vBNT-7f94',\n    'amtout': -6.123445928096771e-08,\n    'error': None}],\n  'BNT-FF1C',\n  (CPCArbOptimizer.TradeInstruction(cid='742', tknin='BNT-FF1C', amtin=4.912726581096649e-08, tknout='vBNT-7f94', amtout=-6.123445928096771e-08, error=None),)),\n (Decimal('-4.493631422519683837890625E-8'),\n                 BNT-FF1C     vBNT-7f94\n  742        4.493631e-08 -5.611219e-08\n  AMMIn      4.493631e-08  0.000000e+00\n  AMMOut     0.000000e+00 -5.611219e-08\n  TOTAL NET  4.493631e-08 -5.611219e-08,\n  [{'cid': '742',\n    'tknin': 'BNT-FF1C',\n    'amtin': 4.493631422519684e-08,\n    'tknout': 'vBNT-7f94',\n    'amtout': -5.611218512058258e-08,\n    'error': None}],\n  'BNT-FF1C',\n  (CPCArbOptimizer.TradeInstruction(cid='742', tknin='BNT-FF1C', amtin=4.493631422519684e-08, tknout='vBNT-7f94', amtout=-5.611218512058258e-08, error=None),)),\n (Decimal('-4.726462066173553466796875E-8'),\n                 BNT-FF1C     vBNT-7f94\n  742        4.726462e-08 -5.913898e-08\n  AMMIn      4.726462e-08  0.000000e+00\n  AMMOut     0.000000e+00 -5.913898e-08\n  TOTAL NET  4.726462e-08 -5.913898e-08,\n  [{'cid': '742',\n    'tknin': 'BNT-FF1C',\n    'amtin': 4.7264620661735535e-08,\n    'tknout': 'vBNT-7f94',\n    'amtout': -5.9138983488082886e-08,\n    'error': None}],\n  'BNT-FF1C',\n  (CPCArbOptimizer.TradeInstruction(cid='742', tknin='BNT-FF1C', amtin=4.7264620661735535e-08, tknout='vBNT-7f94', amtout=-5.9138983488082886e-08, error=None),)),\n (Decimal('-4.866160452365875244140625E-8'),\n                 BNT-FF1C     vBNT-7f94\n  742        4.866160e-08 -6.100163e-08\n  AMMIn      4.866160e-08  0.000000e+00\n  AMMOut     0.000000e+00 -6.100163e-08\n  TOTAL NET  4.866160e-08 -6.100163e-08,\n  [{'cid': '742',\n    'tknin': 'BNT-FF1C',\n    'amtin': 4.866160452365875e-08,\n    'tknout': 'vBNT-7f94',\n    'amtout': -6.100162863731384e-08,\n    'error': None}],\n  'BNT-FF1C',\n  (CPCArbOptimizer.TradeInstruction(cid='742', tknin='BNT-FF1C', amtin=4.866160452365875e-08, tknout='vBNT-7f94', amtout=-6.100162863731384e-08, error=None),)),\n (Decimal('-1.378357410430908203125E-7'),\n                 BNT-FF1C     vBNT-7f94\n  742        1.378357e-07 -1.725275e-07\n  AMMIn      1.378357e-07  0.000000e+00\n  AMMOut     0.000000e+00 -1.725275e-07\n  TOTAL NET  1.378357e-07 -1.725275e-07,\n  [{'cid': '742',\n    'tknin': 'BNT-FF1C',\n    'amtin': 1.3783574104309082e-07,\n    'tknout': 'vBNT-7f94',\n    'amtout': -1.725275069475174e-07,\n    'error': None}],\n  'BNT-FF1C',\n  (CPCArbOptimizer.TradeInstruction(cid='742', tknin='BNT-FF1C', amtin=1.3783574104309082e-07, tknout='vBNT-7f94', amtout=-1.725275069475174e-07, error=None),)),\n (Decimal('-5.029141902923583984375E-8'),\n                 BNT-FF1C     vBNT-7f94\n  742        5.029142e-08 -6.263144e-08\n  AMMIn      5.029142e-08  0.000000e+00\n  AMMOut     0.000000e+00 -6.263144e-08\n  TOTAL NET  5.029142e-08 -6.263144e-08,\n  [{'cid': '742',\n    'tknin': 'BNT-FF1C',\n    'amtin': 5.029141902923584e-08,\n    'tknout': 'vBNT-7f94',\n    'amtout': -6.263144314289093e-08,\n    'error': None}],\n  'BNT-FF1C',\n  (CPCArbOptimizer.TradeInstruction(cid='742', tknin='BNT-FF1C', amtin=5.029141902923584e-08, tknout='vBNT-7f94', amtout=-6.263144314289093e-08, error=None),)),\n (Decimal('1.21302864098075390748097564816296693328062303307568470245314529165625572204590E-13'),\n                                    USDT-1ec7  LINK-86CA\n  d6804f9f95a64ea586c0aab32dc48f37        0.0        0.0\n  AMMIn                                   0.0        0.0\n  AMMOut                                  0.0        0.0\n  TOTAL NET                               0.0        0.0,\n  [{'cid': 'd6804f9f95a64ea586c0aab32dc48f37',\n    'tknin': 'USDT-1ec7',\n    'amtin': 0,\n    'tknout': 'LINK-86CA',\n    'amtout': 0,\n    'error': None}],\n  'USDT-1ec7',\n  (CPCArbOptimizer.TradeInstruction(cid='d6804f9f95a64ea586c0aab32dc48f37', tknin='USDT-1ec7', amtin=0, tknout='LINK-86CA', amtout=0, error=None),)),\n (Decimal('1.21302864098075390748097564816296693328062303307568470245314529165625572204590E-13'),\n                                    USDT-1ec7  LINK-86CA\n  d6804f9f95a64ea586c0aab32dc48f37        0.0        0.0\n  AMMIn                                   0.0        0.0\n  AMMOut                                  0.0        0.0\n  TOTAL NET                               0.0        0.0,\n  [{'cid': 'd6804f9f95a64ea586c0aab32dc48f37',\n    'tknin': 'USDT-1ec7',\n    'amtin': 0,\n    'tknout': 'LINK-86CA',\n    'amtout': 0,\n    'error': None}],\n  'USDT-1ec7',\n  (CPCArbOptimizer.TradeInstruction(cid='d6804f9f95a64ea586c0aab32dc48f37', tknin='USDT-1ec7', amtin=0, tknout='LINK-86CA', amtout=0, error=None),)),\n (Decimal('4.96570835536547157796301285906902245326222100629820488393306732177734375E-10'),\n             USDC-eB48  BNT-FF1C\n  720              0.0       0.0\n  AMMIn            0.0       0.0\n  AMMOut           0.0       0.0\n  TOTAL NET        0.0       0.0,\n  [{'cid': '720',\n    'tknin': 'USDC-eB48',\n    'amtin': 0,\n    'tknout': 'BNT-FF1C',\n    'amtout': 0,\n    'error': None}],\n  'USDC-eB48',\n  (CPCArbOptimizer.TradeInstruction(cid='720', tknin='USDC-eB48', amtin=0, tknout='BNT-FF1C', amtout=0, error=None),)),\n (Decimal('4.96570835536547157796301285906902245326222100629820488393306732177734375E-10'),\n             USDC-eB48  BNT-FF1C\n  720              0.0       0.0\n  AMMIn            0.0       0.0\n  AMMOut           0.0       0.0\n  TOTAL NET        0.0       0.0,\n  [{'cid': '720',\n    'tknin': 'USDC-eB48',\n    'amtin': 0,\n    'tknout': 'BNT-FF1C',\n    'amtout': 0,\n    'error': None}],\n  'USDC-eB48',\n  (CPCArbOptimizer.TradeInstruction(cid='720', tknin='USDC-eB48', amtin=0, tknout='BNT-FF1C', amtout=0, error=None),)),\n (Decimal('-1.7631143712784259917179770766715134200364190064647118560969829559326171875E-9'),\n             WETH-6Cc2  BNT-FF1C\n  704              0.0       0.0\n  AMMIn            0.0       0.0\n  AMMOut           0.0       0.0\n  TOTAL NET        0.0       0.0,\n  [{'cid': '704',\n    'tknin': 'WETH-6Cc2',\n    'amtin': 0,\n    'tknout': 'BNT-FF1C',\n    'amtout': 0,\n    'error': None}],\n  'WETH-6Cc2',\n  (CPCArbOptimizer.TradeInstruction(cid='704', tknin='WETH-6Cc2', amtin=0, tknout='BNT-FF1C', amtout=0, error=None),)),\n (Decimal('-1.7631143712784259917179770766715134200364190064647118560969829559326171875E-9'),\n             WETH-6Cc2  BNT-FF1C\n  704              0.0       0.0\n  AMMIn            0.0       0.0\n  AMMOut           0.0       0.0\n  TOTAL NET        0.0       0.0,\n  [{'cid': '704',\n    'tknin': 'WETH-6Cc2',\n    'amtin': 0,\n    'tknout': 'BNT-FF1C',\n    'amtout': 0,\n    'error': None}],\n  'WETH-6Cc2',\n  (CPCArbOptimizer.TradeInstruction(cid='704', tknin='WETH-6Cc2', amtin=0, tknout='BNT-FF1C', amtout=0, error=None),)),\n (Decimal('-1.7631143712784259917179770766715134200364190064647118560969829559326171875E-9'),\n             WETH-6Cc2  BNT-FF1C\n  704              0.0       0.0\n  AMMIn            0.0       0.0\n  AMMOut           0.0       0.0\n  TOTAL NET        0.0       0.0,\n  [{'cid': '704',\n    'tknin': 'WETH-6Cc2',\n    'amtin': 0,\n    'tknout': 'BNT-FF1C',\n    'amtout': 0,\n    'error': None}],\n  'WETH-6Cc2',\n  (CPCArbOptimizer.TradeInstruction(cid='704', tknin='WETH-6Cc2', amtin=0, tknout='BNT-FF1C', amtout=0, error=None),)),\n (Decimal('-1.7631143712784259917179770766715134200364190064647118560969829559326171875E-9'),\n             WETH-6Cc2  BNT-FF1C\n  704              0.0       0.0\n  AMMIn            0.0       0.0\n  AMMOut           0.0       0.0\n  TOTAL NET        0.0       0.0,\n  [{'cid': '704',\n    'tknin': 'WETH-6Cc2',\n    'amtin': 0,\n    'tknout': 'BNT-FF1C',\n    'amtout': 0,\n    'error': None}],\n  'WETH-6Cc2',\n  (CPCArbOptimizer.TradeInstruction(cid='704', tknin='WETH-6Cc2', amtin=0, tknout='BNT-FF1C', amtout=0, error=None),)),\n (Decimal('-1.7631143712784259917179770766715134200364190064647118560969829559326171875E-9'),\n             WETH-6Cc2  BNT-FF1C\n  704              0.0       0.0\n  AMMIn            0.0       0.0\n  AMMOut           0.0       0.0\n  TOTAL NET        0.0       0.0,\n  [{'cid': '704',\n    'tknin': 'WETH-6Cc2',\n    'amtin': 0,\n    'tknout': 'BNT-FF1C',\n    'amtout': 0,\n    'error': None}],\n  'WETH-6Cc2',\n  (CPCArbOptimizer.TradeInstruction(cid='704', tknin='WETH-6Cc2', amtin=0, tknout='BNT-FF1C', amtout=0, error=None),)),\n (Decimal('0.199637669464724441237605467728535431847468328836470163878402672708034515380859'),\n                                                  BNT-FF1C  WETH-6Cc2\n  704                                         5.000000e+02  -0.126634\n  3743106036130323098097120681749450326030-0 -5.000000e+02   0.126582\n  AMMIn                                       5.000000e+02   0.126582\n  AMMOut                                     -5.000000e+02  -0.126634\n  TOTAL NET                                  -3.855675e-07  -0.000051,\n  [{'cid': '704',\n    'tknin': 'BNT-FF1C',\n    'amtin': 499.99999961443245,\n    'tknout': 'WETH-6Cc2',\n    'amtout': -0.12663376973887353,\n    'error': None},\n   {'cid': '3743106036130323098097120681749450326030-0',\n    'tknin': 'WETH-6Cc2',\n    'amtin': 0.1265822786372155,\n    'tknout': 'BNT-FF1C',\n    'amtout': -500.0,\n    'error': None}],\n  'WETH-6Cc2',\n  (CPCArbOptimizer.TradeInstruction(cid='704', tknin='BNT-FF1C', amtin=499.99999961443245, tknout='WETH-6Cc2', amtout=-0.12663376973887353, error=None),\n   CPCArbOptimizer.TradeInstruction(cid='3743106036130323098097120681749450326030-0', tknin='WETH-6Cc2', amtin=0.1265822786372155, tknout='BNT-FF1C', amtout=-500.0, error=None))),\n (Decimal('-1.7631143712784259917179770766715134200364190064647118560969829559326171875E-9'),\n             WETH-6Cc2  BNT-FF1C\n  704              0.0       0.0\n  AMMIn            0.0       0.0\n  AMMOut           0.0       0.0\n  TOTAL NET        0.0       0.0,\n  [{'cid': '704',\n    'tknin': 'WETH-6Cc2',\n    'amtin': 0,\n    'tknout': 'BNT-FF1C',\n    'amtout': 0,\n    'error': None}],\n  'WETH-6Cc2',\n  (CPCArbOptimizer.TradeInstruction(cid='704', tknin='WETH-6Cc2', amtin=0, tknout='BNT-FF1C', amtout=0, error=None),)),\n (Decimal('-1.7631143712784259917179770766715134200364190064647118560969829559326171875E-9'),\n             WETH-6Cc2  BNT-FF1C\n  704              0.0       0.0\n  AMMIn            0.0       0.0\n  AMMOut           0.0       0.0\n  TOTAL NET        0.0       0.0,\n  [{'cid': '704',\n    'tknin': 'WETH-6Cc2',\n    'amtin': 0,\n    'tknout': 'BNT-FF1C',\n    'amtout': 0,\n    'error': None}],\n  'WETH-6Cc2',\n  (CPCArbOptimizer.TradeInstruction(cid='704', tknin='WETH-6Cc2', amtin=0, tknout='BNT-FF1C', amtout=0, error=None),)),\n (Decimal('-1.7631143712784259917179770766715134200364190064647118560969829559326171875E-9'),\n             WETH-6Cc2  BNT-FF1C\n  704              0.0       0.0\n  AMMIn            0.0       0.0\n  AMMOut           0.0       0.0\n  TOTAL NET        0.0       0.0,\n  [{'cid': '704',\n    'tknin': 'WETH-6Cc2',\n    'amtin': 0,\n    'tknout': 'BNT-FF1C',\n    'amtout': 0,\n    'error': None}],\n  'WETH-6Cc2',\n  (CPCArbOptimizer.TradeInstruction(cid='704', tknin='WETH-6Cc2', amtin=0, tknout='BNT-FF1C', amtout=0, error=None),)),\n (Decimal('371.958818169854621272887690928017108465894062551207466249536537361564114689827'),\n                                                  DAI-1d0F      BNT-FF1C\n  732                                          5416.220155 -1.152162e+04\n  12930729942995661611608235082407192035404-0 -5590.798282  1.152162e+04\n  AMMIn                                        5416.220155  1.152162e+04\n  AMMOut                                      -5590.798282 -1.152162e+04\n  TOTAL NET                                    -174.578127  1.105946e-09,\n  [{'cid': '732',\n    'tknin': 'DAI-1d0F',\n    'amtin': 5416.220154704526,\n    'tknout': 'BNT-FF1C',\n    'amtout': -11521.620484439656,\n    'error': None},\n   {'cid': '12930729942995661611608235082407192035404-0',\n    'tknin': 'BNT-FF1C',\n    'amtin': 11521.620484440762,\n    'tknout': 'DAI-1d0F',\n    'amtout': -5590.798282094911,\n    'error': None}],\n  'DAI-1d0F',\n  (CPCArbOptimizer.TradeInstruction(cid='732', tknin='DAI-1d0F', amtin=5416.220154704526, tknout='BNT-FF1C', amtout=-11521.620484439656, error=None),\n   CPCArbOptimizer.TradeInstruction(cid='12930729942995661611608235082407192035404-0', tknin='BNT-FF1C', amtin=11521.620484440762, tknout='DAI-1d0F', amtout=-5590.798282094911, error=None)))]"
     },
     "execution_count": 17,
     "metadata": {},
     "output_type": "execute_result"
    }
   ],
   "source": [
    "ops = bot._find_arbitrage_opportunities_carbon_single_pairwise(flashloan_tokens=flt, CCm=CCm2, result=bot.AO_CANDIDATES)\n",
    "ops"
   ]
  },
  {
   "cell_type": "code",
   "execution_count": 7,
   "id": "b9217711",
   "metadata": {
    "ExecuteTime": {
     "end_time": "2023-05-08T06:14:38.217402300Z",
     "start_time": "2023-05-08T06:14:38.199889Z"
    }
   },
   "outputs": [],
   "source": [
    "# ops = bot._find_arbitrage_opportunities(flashloan_tokens=flt, CCm=CCm, result=bot.AO_CANDIDATES)\n",
    "# ops"
   ]
  },
  {
   "cell_type": "code",
   "execution_count": 20,
   "id": "93eff72b",
   "metadata": {
    "ExecuteTime": {
     "end_time": "2023-05-08T06:26:06.408866Z",
     "start_time": "2023-05-08T06:26:06.397362Z"
    }
   },
   "outputs": [
    {
     "data": {
      "text/plain": "[{'cid': '2b3bf6093e55415785a319a6f48bfe9f',\n  'tknin': 'WETH-6Cc2',\n  'amtin': 0.9999999941928763,\n  'tknout': 'DAI-1d0F',\n  'amtout': -1851.4622986526228,\n  'error': None},\n {'cid': '340282366920938463463374607431768211527-1',\n  'tknin': 'DAI-1d0F',\n  'amtin': 1.0,\n  'tknout': 'WETH-6Cc2',\n  'amtout': -1.0,\n  'error': None}]"
     },
     "execution_count": 20,
     "metadata": {},
     "output_type": "execute_result"
    }
   ],
   "source": [
    "candf = pd.DataFrame(ops).sort_values(by=0, ascending=False)\n",
    "candf.reset_index(inplace=True, drop=True)\n",
    "candf.iloc[0][2]"
   ]
  },
  {
   "cell_type": "code",
   "execution_count": 21,
   "id": "1394d3a1",
   "metadata": {
    "ExecuteTime": {
     "end_time": "2023-05-08T06:26:51.685073700Z",
     "start_time": "2023-05-08T06:26:51.667523500Z"
    }
   },
   "outputs": [
    {
     "name": "stdout",
     "output_type": "stream",
     "text": [
      "tknx = 0 [virtual: 9999999.993761728] DAI-1d0F\n",
      "tkny = 1.0 [virtual: 10000000.993761724] WETH-6Cc2\n",
      "p    = 1.0000000999999996 [min=0.9999999000000096, max=1.0000000999999996] WETH-6Cc2 per DAI-1d0F\n",
      "fee  = 0.002, cid = 340282366920938463463374607431768211527-1, descr = carbon_v1 ETH-EEeE/DAI-1d0F None\n"
     ]
    }
   ],
   "source": [
    "print(CCm.bycid('340282366920938463463374607431768211527-1').description)"
   ]
  },
  {
   "cell_type": "code",
   "execution_count": 22,
   "id": "b933a3e3",
   "metadata": {
    "ExecuteTime": {
     "end_time": "2023-05-08T06:27:05.150980900Z",
     "start_time": "2023-05-08T06:27:05.139453Z"
    }
   },
   "outputs": [
    {
     "data": {
      "text/plain": "Decimal('3942.62316799607766410809893128487444987300249502060189854546479182317852973938')"
     },
     "execution_count": 22,
     "metadata": {},
     "output_type": "execute_result"
    }
   ],
   "source": [
    "candf.iloc[0][0]"
   ]
  },
  {
   "cell_type": "code",
   "execution_count": 23,
   "id": "5382d20f",
   "metadata": {
    "ExecuteTime": {
     "end_time": "2023-05-08T06:27:07.400357100Z",
     "start_time": "2023-05-08T06:27:05.861575900Z"
    }
   },
   "outputs": [
    {
     "name": "stderr",
     "output_type": "stream",
     "text": [
      "C:\\Users\\Kveen\\PycharmProjects\\carbonbot\\resources\\NBTest\\fastlane_bot\\tools\\optimizer.py:1310: RuntimeWarning: divide by zero encountered in scalar divide\n",
      "  price = get(p, tokens_ix.get(tknb)) / get(p, tokens_ix.get(tknq))\n",
      "C:\\Users\\Kveen\\PycharmProjects\\carbonbot\\resources\\NBTest\\fastlane_bot\\tools\\optimizer.py:1157: RuntimeWarning: invalid value encountered in subtract\n",
      "  jac[:, j] = (func(x_plus) - y) / Dxj\n",
      "C:\\Users\\Kveen\\PycharmProjects\\carbonbot\\resources\\NBTest\\fastlane_bot\\tools\\optimizer.py:1310: RuntimeWarning: divide by zero encountered in scalar divide\n",
      "  price = get(p, tokens_ix.get(tknb)) / get(p, tokens_ix.get(tknq))\n",
      "C:\\Users\\Kveen\\PycharmProjects\\carbonbot\\resources\\NBTest\\fastlane_bot\\tools\\optimizer.py:1157: RuntimeWarning: invalid value encountered in subtract\n",
      "  jac[:, j] = (func(x_plus) - y) / Dxj\n",
      "C:\\Users\\Kveen\\PycharmProjects\\carbonbot\\resources\\NBTest\\fastlane_bot\\tools\\optimizer.py:1310: RuntimeWarning: divide by zero encountered in scalar divide\n",
      "  price = get(p, tokens_ix.get(tknb)) / get(p, tokens_ix.get(tknq))\n",
      "C:\\Users\\Kveen\\PycharmProjects\\carbonbot\\resources\\NBTest\\fastlane_bot\\tools\\optimizer.py:1157: RuntimeWarning: invalid value encountered in subtract\n",
      "  jac[:, j] = (func(x_plus) - y) / Dxj\n"
     ]
    },
    {
     "name": "stdout",
     "output_type": "stream",
     "text": [
      "trade_instruction.cid: 340282366920938463463374607431768211527\n",
      "trade_instruction.cid: 2b3bf6093e55415785a319a6f48bfe9f\n"
     ]
    }
   ],
   "source": [
    "route_struct, flashloan_amount, flashloan_token_address = bot._run(flashloan_tokens=flt, CCm=CCm2, result=bot.XS_ROUTE)"
   ]
  },
  {
   "cell_type": "code",
   "execution_count": 24,
   "id": "24db122b",
   "metadata": {
    "ExecuteTime": {
     "end_time": "2023-05-08T06:27:08.874350300Z",
     "start_time": "2023-05-08T06:27:08.859710400Z"
    }
   },
   "outputs": [
    {
     "data": {
      "text/plain": "([{'exchangeId': 6,\n   'targetToken': '0xEeeeeEeeeEeEeeEeEeEeeEEEeeeeEeeeeeeeEEeE',\n   'minTargetAmount': 1,\n   'deadline': 1683531370,\n   'customAddress': '0xC02aaA39b223FE8D0A0e5C4F27eAD9083C756Cc2',\n   'customInt': 2000,\n   'customData': '0x0000000000000000000000000000000000000000000000000000000000000020000000000000000000000000000000000000000000000000000000000000000100000000000000000000000000000001000000000000000000000000000000470000000000000000000000000000000000000000000000000db9ab5ae14f1fff'},\n  {'exchangeId': 5,\n   'targetToken': '0x6B175474E89094C44Da98b954EedeAC495271d0F',\n   'minTargetAmount': 1,\n   'deadline': 1683531370,\n   'customAddress': '0x6B175474E89094C44Da98b954EedeAC495271d0F',\n   'customInt': 3000,\n   'customData': '0x'}],\n 999000000000000000,\n '0x6B175474E89094C44Da98b954EedeAC495271d0F')"
     },
     "execution_count": 24,
     "metadata": {},
     "output_type": "execute_result"
    }
   ],
   "source": [
    "route_struct, flashloan_amount, flashloan_token_address"
   ]
  },
  {
   "attachments": {},
   "cell_type": "markdown",
   "id": "628bca30",
   "metadata": {},
   "source": [
    "# Tenderly Tx Submission"
   ]
  },
  {
   "cell_type": "code",
   "execution_count": 13,
   "id": "6599f4a9",
   "metadata": {
    "ExecuteTime": {
     "end_time": "2023-05-08T06:14:40.017035100Z",
     "start_time": "2023-05-08T06:14:39.998970700Z"
    }
   },
   "outputs": [],
   "source": [
    "### This to manually submit\n",
    "bot._validate_and_submit_transaction_tenderly(\n",
    "        ConfigObj = C,\n",
    "        route_struct = route_struct,\n",
    "        src_amount = flashloan_amount,\n",
    "        src_address = flashloan_token_address,\n",
    "            )"
   ]
  },
  {
   "cell_type": "code",
   "execution_count": 14,
   "id": "623bed0a",
   "metadata": {
    "ExecuteTime": {
     "end_time": "2023-05-08T06:14:40.029063900Z",
     "start_time": "2023-05-08T06:14:40.016035200Z"
    }
   },
   "outputs": [
    {
     "ename": "SyntaxError",
     "evalue": "'break' outside loop (370545404.py, line 1)",
     "output_type": "error",
     "traceback": [
      "\u001B[1;36m  Cell \u001B[1;32mIn [14], line 1\u001B[1;36m\u001B[0m\n\u001B[1;33m    break\u001B[0m\n\u001B[1;37m    ^\u001B[0m\n\u001B[1;31mSyntaxError\u001B[0m\u001B[1;31m:\u001B[0m 'break' outside loop\n"
     ]
    }
   ],
   "source": [
    "break"
   ]
  },
  {
   "attachments": {},
   "cell_type": "markdown",
   "id": "993e6614",
   "metadata": {},
   "source": [
    "# MAINNNET Preferred Tx Submission Method"
   ]
  },
  {
   "cell_type": "code",
   "execution_count": null,
   "id": "67273141",
   "metadata": {},
   "outputs": [],
   "source": [
    "# from fastlane_bot.helpers import TxHelpers"
   ]
  },
  {
   "cell_type": "code",
   "execution_count": null,
   "id": "75ae6224",
   "metadata": {},
   "outputs": [],
   "source": [
    "# pool = (\n",
    "#     bot.db.get_pool(exchange_name=bot.ConfigObj.BANCOR_V3_NAME, pair_name='BNT-FF1C/ETH-EEeE')\n",
    "# )\n",
    "# bnt_eth = (int(pool.tkn0_balance), int(pool.tkn1_balance))\n",
    "\n",
    "# # Init TxHelpers\n",
    "# tx_helpers = TxHelpers(ConfigObj=bot.ConfigObj)\n",
    "# # Submit tx\n",
    "\n"
   ]
  },
  {
   "cell_type": "code",
   "execution_count": null,
   "id": "17ab9e38",
   "metadata": {},
   "outputs": [],
   "source": [
    "# tx_helpers.validate_and_submit_transaction(route_struct=route_struct, src_amt=flashloan_amount,\n",
    "#                                                     src_address=flashloan_token_address, bnt_eth=bnt_eth,\n",
    "#                                                     expected_profit=Decimal('1000'), safety_override=True)"
   ]
  },
  {
   "attachments": {},
   "cell_type": "markdown",
   "id": "0eb9760c",
   "metadata": {},
   "source": [
    "# MAINNET Forced Tx Submission Method"
   ]
  },
  {
   "cell_type": "code",
   "execution_count": null,
   "id": "931af988",
   "metadata": {},
   "outputs": [],
   "source": [
    "# Initialize tx helper\n",
    "tx_helper = TxHelper(\n",
    "    usd_gas_limit=55,\n",
    "    ConfigObj=bot.ConfigObj,\n",
    "    gas_price_multiplier = 1\n",
    ")\n",
    "# # Submit the transaction\n",
    "# tx_helper.submit_flashloan_arb_tx(\n",
    "#     arb_data=route_struct,\n",
    "#     flashloan_token_address=flashloan_token_address,\n",
    "#     flashloan_amount=flashloan_amount,\n",
    "#     verbose=True,\n",
    "# )"
   ]
  },
  {
   "cell_type": "code",
   "execution_count": null,
   "id": "5894289c",
   "metadata": {},
   "outputs": [],
   "source": [
    "tx_helper.gas_limit"
   ]
  }
 ],
 "metadata": {
  "jupytext": {
   "encoding": "# -*- coding: utf-8 -*-",
   "formats": "ipynb,py:light"
  },
  "kernelspec": {
   "display_name": "Python 3 (ipykernel)",
   "language": "python",
   "name": "python3"
  },
  "language_info": {
   "codemirror_mode": {
    "name": "ipython",
    "version": 3
   },
   "file_extension": ".py",
   "mimetype": "text/x-python",
   "name": "python",
   "nbconvert_exporter": "python",
   "pygments_lexer": "ipython3",
   "version": "3.10.10"
  }
 },
 "nbformat": 4,
 "nbformat_minor": 5
}

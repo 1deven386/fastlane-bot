{
 "cells": [
  {
   "cell_type": "code",
   "execution_count": 51,
   "id": "8f04c50a-67fe-4f09-822d-6ed6e3ac43e4",
   "metadata": {},
   "outputs": [
    {
     "name": "stdout",
     "output_type": "stream",
     "text": [
      "ConstantProductCurve v2.8.1 (05/May/2023)\n",
      "CarbonBot v3-b2.1 (03/May/2023)\n",
      "Version = 3-b2.1 [requirements >= 3.0 is met]\n"
     ]
    }
   ],
   "source": [
    "from fastlane_bot import Bot, Config, ConfigDB, ConfigNetwork, ConfigProvider\n",
    "from fastlane_bot.tools.cpc import ConstantProductCurve as CPC, CPCContainer, T, Pair\n",
    "print(\"{0.__name__} v{0.__VERSION__} ({0.__DATE__})\".format(CPC))\n",
    "print(\"{0.__name__} v{0.__VERSION__} ({0.__DATE__})\".format(Bot))\n",
    "from fastlane_bot.testing import *\n",
    "import itertools as it\n",
    "import collections as cl\n",
    "plt.style.use('seaborn-dark')\n",
    "plt.rcParams['figure.figsize'] = [12,6]\n",
    "from fastlane_bot import __VERSION__\n",
    "require(\"3.0\", __VERSION__)"
   ]
  },
  {
   "cell_type": "markdown",
   "id": "b3f59f14-b91b-4dba-94b0-3d513aaf41c7",
   "metadata": {},
   "source": [
    "# Mainnet Server [NB030]"
   ]
  },
  {
   "cell_type": "code",
   "execution_count": 36,
   "id": "736e4c79-fbd4-4898-ba89-82d779b57f20",
   "metadata": {},
   "outputs": [],
   "source": [
    "bot     = Bot()\n",
    "CCm     = bot.get_curves()"
   ]
  },
  {
   "cell_type": "code",
   "execution_count": 36,
   "id": "69819f05-1264-4fb0-87c2-b0835e9f8187",
   "metadata": {},
   "outputs": [],
   "source": [
    "pairs0  = CCm.pairs(standardize=False)\n",
    "pairs   = CCm.pairs(standardize=True)\n",
    "pairsc  = {c.pairo.primary for c in CCm if c.P(\"exchange\")==\"carbon_v1\"}"
   ]
  },
  {
   "cell_type": "markdown",
   "id": "af0c9279-da09-4b57-9906-390d6697ea6a",
   "metadata": {},
   "source": [
    "## Overall market [NOTEST]"
   ]
  },
  {
   "cell_type": "code",
   "execution_count": 37,
   "id": "4fad31af-e183-48c9-a2a3-17db79372545",
   "metadata": {},
   "outputs": [
    {
     "name": "stdout",
     "output_type": "stream",
     "text": [
      "Total pairs:     666\n",
      "Primary pairs:   637\n",
      "...carbon:        25\n",
      "Tokens:          512\n",
      "Curves:          810\n"
     ]
    }
   ],
   "source": [
    "print(f\"Total pairs:    {len(pairs0):4}\")\n",
    "print(f\"Primary pairs:  {len(pairs):4}\")\n",
    "print(f\"...carbon:      {len(pairsc):4}\")\n",
    "print(f\"Tokens:         {len(CCm.tokens()):4}\")\n",
    "print(f\"Curves:         {len(CCm):4}\")"
   ]
  },
  {
   "cell_type": "markdown",
   "id": "073680a2-1b21-4265-b43e-cfc895c4f5d3",
   "metadata": {},
   "source": [
    "## By pair [NOTEST]"
   ]
  },
  {
   "cell_type": "markdown",
   "id": "78011c05-9d1b-4187-a7e1-89b596df0263",
   "metadata": {},
   "source": [
    "### All pairs"
   ]
  },
  {
   "cell_type": "code",
   "execution_count": 43,
   "id": "7bbef403-7e91-433d-9f64-fd6e01008ab4",
   "metadata": {},
   "outputs": [],
   "source": [
    "cbp0 = {pair: [c for c in CCm.bypairs(pair)] for pair in CCm.pairs()} # curves by (primary) pair\n",
    "nbp0 = {pair: len(cc) for pair,cc in cbp0.items()}\n",
    "assert len(cbp0) == len(CCm.pairs())\n",
    "assert set(cbp0) == CCm.pairs()"
   ]
  },
  {
   "cell_type": "markdown",
   "id": "a44013bd-fc9a-4484-b7a2-0ae1feb11a73",
   "metadata": {},
   "source": [
    "### Only those with >1 curves"
   ]
  },
  {
   "cell_type": "code",
   "execution_count": 42,
   "id": "235b688b-4c30-4c94-9783-4e1bca1647b0",
   "metadata": {},
   "outputs": [
    {
     "name": "stdout",
     "output_type": "stream",
     "text": [
      "Pairs with >1 curves:  110\n",
      "Curves in those:       283\n",
      "Average curves/pair:   2.6\n"
     ]
    }
   ],
   "source": [
    "cbp = {pair: cc for pair, cc in cbp0.items() if len(cc)>1}\n",
    "nbp = {pair: len(cc) for pair,cc in cbp.items()}\n",
    "print(f\"Pairs with >1 curves:  {len(cbp)}\")\n",
    "print(f\"Curves in those:       {sum(nbp.values())}\")\n",
    "print(f\"Average curves/pair:   {sum(nbp.values())/len(cbp):.1f}\")"
   ]
  },
  {
   "cell_type": "markdown",
   "id": "dec10184-2753-42b6-a4d8-8570e9df3b42",
   "metadata": {},
   "source": [
    "### x=0 or y=0"
   ]
  },
  {
   "cell_type": "code",
   "execution_count": 41,
   "id": "a7e57f87-8475-4a8d-bcfc-4dd17b45cc0f",
   "metadata": {},
   "outputs": [],
   "source": [
    "xis0 = {c.cid: (c.x, c.y) for c in CCm if c.x==0}\n",
    "yis0 = {c.cid: (c.x, c.y) for c in CCm if c.y==0}\n",
    "assert len(xis0) == 0 # set loglevel debug to see removal of curves\n",
    "assert len(yis0) == 0"
   ]
  },
  {
   "cell_type": "markdown",
   "id": "9d7c1b09-9590-4a0f-acb4-66eb7547a42a",
   "metadata": {},
   "source": [
    "### Prices"
   ]
  },
  {
   "cell_type": "markdown",
   "id": "a25e135a-efd9-4f97-9e9e-34620baa3ffe",
   "metadata": {},
   "source": [
    "#### All"
   ]
  },
  {
   "cell_type": "code",
   "execution_count": 30,
   "id": "a4606613-c3b8-46bb-b59f-a346e49e8a8b",
   "metadata": {},
   "outputs": [],
   "source": [
    "prices_da = {pair: \n",
    "             [(Pair.n(pair), c.primaryp(), c.cid, c.cid[-8:], c.P(\"exchange\"), c.buysell(verbose=False), \n",
    "               c.buysell(verbose=True, withprice=True)) \n",
    "                    for c in cc] for pair, cc in cbp.items()}\n",
    "#prices_f"
   ]
  },
  {
   "cell_type": "markdown",
   "id": "8aa0e2cb-b44f-4cda-8fca-b06ba7f91bdd",
   "metadata": {},
   "source": [
    "#### Only for pairs that have at least on Carbon pair"
   ]
  },
  {
   "cell_type": "code",
   "execution_count": 46,
   "id": "f0a5c00e-3674-48f8-8f99-9c29c48941d7",
   "metadata": {},
   "outputs": [],
   "source": [
    "prices_d = {pair: l for pair,l in prices_da.items() if pair in pairsc}\n",
    "prices_l = list(it.chain(*prices_d.values()))"
   ]
  },
  {
   "cell_type": "code",
   "execution_count": 57,
   "id": "31291455-e524-4b75-8dff-75bafad60cf4",
   "metadata": {},
   "outputs": [
    {
     "data": {
      "text/plain": [
       "[('WETH/USDC', 18),\n",
       " ('BNT/WETH', 12),\n",
       " ('BNT/vBNT', 10),\n",
       " ('USDT/USDC', 8),\n",
       " ('WBTC/WETH', 5),\n",
       " ('LINK/USDT', 5),\n",
       " ('WBTC/USDT', 4),\n",
       " ('BNT/USDC', 4),\n",
       " ('WETH/DAI', 3),\n",
       " ('LINK/USDC', 3),\n",
       " ('DAI/USDC', 3),\n",
       " ('WETH/USDT', 3),\n",
       " ('DAI/USDT', 3),\n",
       " ('PEPE/WETH', 3),\n",
       " ('LYXe/USDC', 2),\n",
       " ('rETH/WETH', 2),\n",
       " ('0x0/WETH', 2),\n",
       " ('WBTC/USDC', 2),\n",
       " ('ARB/MATIC', 2),\n",
       " ('TSUKA/USDC', 2),\n",
       " ('stETH/WETH', 2)]"
      ]
     },
     "execution_count": 57,
     "metadata": {},
     "output_type": "execute_result"
    }
   ],
   "source": [
    "curves_by_pair = list(cl.Counter([r[0] for r in prices_l]).items())\n",
    "curves_by_pair = sorted(curves_by_pair, key=lambda x: x[1], reverse=True)\n",
    "curves_by_pair"
   ]
  },
  {
   "cell_type": "code",
   "execution_count": 62,
   "id": "9db3a2c4-8030-451b-b3c2-7f8ca23c00ca",
   "metadata": {},
   "outputs": [],
   "source": [
    "# for pair, _ in curves_by_pair:\n",
    "#     print(f\"# #### {pair}\\n\\npricedf.loc['{pair}']\\n\\n\")"
   ]
  },
  {
   "cell_type": "markdown",
   "id": "95d37b78-f3a4-4d11-95f6-158eb559eeca",
   "metadata": {},
   "source": [
    "#### Dataframe"
   ]
  },
  {
   "cell_type": "code",
   "execution_count": 63,
   "id": "cde03243-3e11-4361-bd02-fb324f4b313b",
   "metadata": {},
   "outputs": [
    {
     "data": {
      "text/html": [
       "<div>\n",
       "<style scoped>\n",
       "    .dataframe tbody tr th:only-of-type {\n",
       "        vertical-align: middle;\n",
       "    }\n",
       "\n",
       "    .dataframe tbody tr th {\n",
       "        vertical-align: top;\n",
       "    }\n",
       "\n",
       "    .dataframe thead th {\n",
       "        text-align: right;\n",
       "    }\n",
       "</style>\n",
       "<table border=\"1\" class=\"dataframe\">\n",
       "  <thead>\n",
       "    <tr style=\"text-align: right;\">\n",
       "      <th></th>\n",
       "      <th></th>\n",
       "      <th></th>\n",
       "      <th>price</th>\n",
       "      <th>bs</th>\n",
       "      <th>bsv</th>\n",
       "    </tr>\n",
       "    <tr>\n",
       "      <th>pair</th>\n",
       "      <th>exchange</th>\n",
       "      <th>cid0</th>\n",
       "      <th></th>\n",
       "      <th></th>\n",
       "      <th></th>\n",
       "    </tr>\n",
       "  </thead>\n",
       "  <tbody>\n",
       "    <tr>\n",
       "      <th rowspan=\"5\" valign=\"top\">WBTC/WETH</th>\n",
       "      <th>uniswap_v3</th>\n",
       "      <th>466</th>\n",
       "      <td>1.501514e+01</td>\n",
       "      <td>bs</td>\n",
       "      <td>buy-sell-WBTC @ 15.02 WETH per WBTC</td>\n",
       "    </tr>\n",
       "    <tr>\n",
       "      <th>sushiswap_v2</th>\n",
       "      <th>804</th>\n",
       "      <td>1.490428e+01</td>\n",
       "      <td>bs</td>\n",
       "      <td>buy-sell-WBTC @ 14.90 WETH per WBTC</td>\n",
       "    </tr>\n",
       "    <tr>\n",
       "      <th>uniswap_v3</th>\n",
       "      <th>478</th>\n",
       "      <td>1.531413e+01</td>\n",
       "      <td>bs</td>\n",
       "      <td>buy-sell-WBTC @ 15.31 WETH per WBTC</td>\n",
       "    </tr>\n",
       "    <tr>\n",
       "      <th rowspan=\"2\" valign=\"top\">carbon_v1</th>\n",
       "      <th>709362-0</th>\n",
       "      <td>1.539975e+01</td>\n",
       "      <td>s</td>\n",
       "      <td>sell-WBTC @ 15.40 WETH per WBTC</td>\n",
       "    </tr>\n",
       "    <tr>\n",
       "      <th>709362-1</th>\n",
       "      <td>1.428571e+01</td>\n",
       "      <td>b</td>\n",
       "      <td>buy-WBTC @ 14.29 WETH per WBTC</td>\n",
       "    </tr>\n",
       "    <tr>\n",
       "      <th>...</th>\n",
       "      <th>...</th>\n",
       "      <th>...</th>\n",
       "      <td>...</td>\n",
       "      <td>...</td>\n",
       "      <td>...</td>\n",
       "    </tr>\n",
       "    <tr>\n",
       "      <th rowspan=\"2\" valign=\"top\">BNT/USDC</th>\n",
       "      <th>carbon_v1</th>\n",
       "      <th>480199-0</th>\n",
       "      <td>2.000000e+00</td>\n",
       "      <td>s</td>\n",
       "      <td>sell-BNT @ 2.00 USDC per BNT</td>\n",
       "    </tr>\n",
       "    <tr>\n",
       "      <th>bancor_v3</th>\n",
       "      <th>720</th>\n",
       "      <td>4.837881e-01</td>\n",
       "      <td>bs</td>\n",
       "      <td>buy-sell-BNT @ 0.48 USDC per BNT</td>\n",
       "    </tr>\n",
       "    <tr>\n",
       "      <th rowspan=\"3\" valign=\"top\">PEPE/WETH</th>\n",
       "      <th rowspan=\"3\" valign=\"top\">carbon_v1</th>\n",
       "      <th>440620-0</th>\n",
       "      <td>3.500000e-07</td>\n",
       "      <td>b</td>\n",
       "      <td>buy-PEPE @ 0.00 WETH per PEPE</td>\n",
       "    </tr>\n",
       "    <tr>\n",
       "      <th>440620-1</th>\n",
       "      <td>4.000000e-07</td>\n",
       "      <td>s</td>\n",
       "      <td>sell-PEPE @ 0.00 WETH per PEPE</td>\n",
       "    </tr>\n",
       "    <tr>\n",
       "      <th>440621-1</th>\n",
       "      <td>4.500000e-07</td>\n",
       "      <td>s</td>\n",
       "      <td>sell-PEPE @ 0.00 WETH per PEPE</td>\n",
       "    </tr>\n",
       "  </tbody>\n",
       "</table>\n",
       "<p>98 rows × 3 columns</p>\n",
       "</div>"
      ],
      "text/plain": [
       "                                        price  bs  \\\n",
       "pair      exchange     cid0                         \n",
       "WBTC/WETH uniswap_v3   466       1.501514e+01  bs   \n",
       "          sushiswap_v2 804       1.490428e+01  bs   \n",
       "          uniswap_v3   478       1.531413e+01  bs   \n",
       "          carbon_v1    709362-0  1.539975e+01   s   \n",
       "                       709362-1  1.428571e+01   b   \n",
       "...                                       ...  ..   \n",
       "BNT/USDC  carbon_v1    480199-0  2.000000e+00   s   \n",
       "          bancor_v3    720       4.837881e-01  bs   \n",
       "PEPE/WETH carbon_v1    440620-0  3.500000e-07   b   \n",
       "                       440620-1  4.000000e-07   s   \n",
       "                       440621-1  4.500000e-07   s   \n",
       "\n",
       "                                                                 bsv  \n",
       "pair      exchange     cid0                                           \n",
       "WBTC/WETH uniswap_v3   466       buy-sell-WBTC @ 15.02 WETH per WBTC  \n",
       "          sushiswap_v2 804       buy-sell-WBTC @ 14.90 WETH per WBTC  \n",
       "          uniswap_v3   478       buy-sell-WBTC @ 15.31 WETH per WBTC  \n",
       "          carbon_v1    709362-0      sell-WBTC @ 15.40 WETH per WBTC  \n",
       "                       709362-1       buy-WBTC @ 14.29 WETH per WBTC  \n",
       "...                                                              ...  \n",
       "BNT/USDC  carbon_v1    480199-0         sell-BNT @ 2.00 USDC per BNT  \n",
       "          bancor_v3    720          buy-sell-BNT @ 0.48 USDC per BNT  \n",
       "PEPE/WETH carbon_v1    440620-0        buy-PEPE @ 0.00 WETH per PEPE  \n",
       "                       440620-1       sell-PEPE @ 0.00 WETH per PEPE  \n",
       "                       440621-1       sell-PEPE @ 0.00 WETH per PEPE  \n",
       "\n",
       "[98 rows x 3 columns]"
      ]
     },
     "execution_count": 63,
     "metadata": {},
     "output_type": "execute_result"
    }
   ],
   "source": [
    "pricedf0 = pd.DataFrame(prices_l, columns=\"pair,price,cid,cid0,exchange,bs, bsv\".split(\",\"))\n",
    "pricedf = pricedf0.drop('cid', axis=1)\n",
    "pricedf = pricedf.set_index([\"pair\", \"exchange\", \"cid0\"])\n",
    "pricedf"
   ]
  },
  {
   "cell_type": "markdown",
   "id": "0841ae55-5673-4edb-9c87-c6d21f6db9a2",
   "metadata": {},
   "source": [
    "### Individual frames"
   ]
  },
  {
   "cell_type": "markdown",
   "id": "c066c726-ee75-41e3-8b3f-3b43792c6352",
   "metadata": {},
   "source": [
    "#### WETH/USDC"
   ]
  },
  {
   "cell_type": "code",
   "execution_count": 64,
   "id": "39eb141a-90ff-4c18-95ee-97207ca815ea",
   "metadata": {
    "lines_to_next_cell": 2
   },
   "outputs": [
    {
     "data": {
      "text/html": [
       "<div>\n",
       "<style scoped>\n",
       "    .dataframe tbody tr th:only-of-type {\n",
       "        vertical-align: middle;\n",
       "    }\n",
       "\n",
       "    .dataframe tbody tr th {\n",
       "        vertical-align: top;\n",
       "    }\n",
       "\n",
       "    .dataframe thead th {\n",
       "        text-align: right;\n",
       "    }\n",
       "</style>\n",
       "<table border=\"1\" class=\"dataframe\">\n",
       "  <thead>\n",
       "    <tr style=\"text-align: right;\">\n",
       "      <th></th>\n",
       "      <th></th>\n",
       "      <th>price</th>\n",
       "      <th>bs</th>\n",
       "      <th>bsv</th>\n",
       "    </tr>\n",
       "    <tr>\n",
       "      <th>exchange</th>\n",
       "      <th>cid0</th>\n",
       "      <th></th>\n",
       "      <th></th>\n",
       "      <th></th>\n",
       "    </tr>\n",
       "  </thead>\n",
       "  <tbody>\n",
       "    <tr>\n",
       "      <th>uniswap_v2</th>\n",
       "      <th>255</th>\n",
       "      <td>1984.494958</td>\n",
       "      <td>bs</td>\n",
       "      <td>buy-sell-WETH @ 1984.49 USDC per WETH</td>\n",
       "    </tr>\n",
       "    <tr>\n",
       "      <th>uniswap_v3</th>\n",
       "      <th>593</th>\n",
       "      <td>1976.083421</td>\n",
       "      <td>bs</td>\n",
       "      <td>buy-sell-WETH @ 1976.08 USDC per WETH</td>\n",
       "    </tr>\n",
       "    <tr>\n",
       "      <th>sushiswap_v2</th>\n",
       "      <th>803</th>\n",
       "      <td>1982.349633</td>\n",
       "      <td>bs</td>\n",
       "      <td>buy-sell-WETH @ 1982.35 USDC per WETH</td>\n",
       "    </tr>\n",
       "    <tr>\n",
       "      <th>uniswap_v3</th>\n",
       "      <th>346</th>\n",
       "      <td>1988.906177</td>\n",
       "      <td>bs</td>\n",
       "      <td>buy-sell-WETH @ 1988.91 USDC per WETH</td>\n",
       "    </tr>\n",
       "    <tr>\n",
       "      <th rowspan=\"14\" valign=\"top\">carbon_v1</th>\n",
       "      <th>057285-1</th>\n",
       "      <td>2099.999790</td>\n",
       "      <td>s</td>\n",
       "      <td>sell-WETH @ 2100.00 USDC per WETH</td>\n",
       "    </tr>\n",
       "    <tr>\n",
       "      <th>057292-0</th>\n",
       "      <td>1853.408818</td>\n",
       "      <td>b</td>\n",
       "      <td>buy-WETH @ 1853.41 USDC per WETH</td>\n",
       "    </tr>\n",
       "    <tr>\n",
       "      <th>057292-1</th>\n",
       "      <td>2000.000000</td>\n",
       "      <td>s</td>\n",
       "      <td>sell-WETH @ 2000.00 USDC per WETH</td>\n",
       "    </tr>\n",
       "    <tr>\n",
       "      <th>057296-0</th>\n",
       "      <td>1930.000193</td>\n",
       "      <td>b</td>\n",
       "      <td>buy-WETH @ 1930.00 USDC per WETH</td>\n",
       "    </tr>\n",
       "    <tr>\n",
       "      <th>057296-1</th>\n",
       "      <td>1950.000195</td>\n",
       "      <td>s</td>\n",
       "      <td>sell-WETH @ 1950.00 USDC per WETH</td>\n",
       "    </tr>\n",
       "    <tr>\n",
       "      <th>057299-1</th>\n",
       "      <td>1940.000000</td>\n",
       "      <td>s</td>\n",
       "      <td>sell-WETH @ 1940.00 USDC per WETH</td>\n",
       "    </tr>\n",
       "    <tr>\n",
       "      <th>057306-0</th>\n",
       "      <td>1405.000140</td>\n",
       "      <td>b</td>\n",
       "      <td>buy-WETH @ 1405.00 USDC per WETH</td>\n",
       "    </tr>\n",
       "    <tr>\n",
       "      <th>057315-1</th>\n",
       "      <td>2300.000000</td>\n",
       "      <td>s</td>\n",
       "      <td>sell-WETH @ 2300.00 USDC per WETH</td>\n",
       "    </tr>\n",
       "    <tr>\n",
       "      <th>057331-0</th>\n",
       "      <td>1800.000000</td>\n",
       "      <td>b</td>\n",
       "      <td>buy-WETH @ 1800.00 USDC per WETH</td>\n",
       "    </tr>\n",
       "    <tr>\n",
       "      <th>057334-0</th>\n",
       "      <td>1700.000170</td>\n",
       "      <td>b</td>\n",
       "      <td>buy-WETH @ 1700.00 USDC per WETH</td>\n",
       "    </tr>\n",
       "    <tr>\n",
       "      <th>057334-1</th>\n",
       "      <td>1999.999800</td>\n",
       "      <td>s</td>\n",
       "      <td>sell-WETH @ 2000.00 USDC per WETH</td>\n",
       "    </tr>\n",
       "    <tr>\n",
       "      <th>057337-0</th>\n",
       "      <td>1850.000000</td>\n",
       "      <td>b</td>\n",
       "      <td>buy-WETH @ 1850.00 USDC per WETH</td>\n",
       "    </tr>\n",
       "    <tr>\n",
       "      <th>057339-0</th>\n",
       "      <td>1800.000000</td>\n",
       "      <td>b</td>\n",
       "      <td>buy-WETH @ 1800.00 USDC per WETH</td>\n",
       "    </tr>\n",
       "    <tr>\n",
       "      <th>057343-1</th>\n",
       "      <td>1989.999801</td>\n",
       "      <td>s</td>\n",
       "      <td>sell-WETH @ 1990.00 USDC per WETH</td>\n",
       "    </tr>\n",
       "  </tbody>\n",
       "</table>\n",
       "</div>"
      ],
      "text/plain": [
       "                             price  bs                                    bsv\n",
       "exchange     cid0                                                            \n",
       "uniswap_v2   255       1984.494958  bs  buy-sell-WETH @ 1984.49 USDC per WETH\n",
       "uniswap_v3   593       1976.083421  bs  buy-sell-WETH @ 1976.08 USDC per WETH\n",
       "sushiswap_v2 803       1982.349633  bs  buy-sell-WETH @ 1982.35 USDC per WETH\n",
       "uniswap_v3   346       1988.906177  bs  buy-sell-WETH @ 1988.91 USDC per WETH\n",
       "carbon_v1    057285-1  2099.999790   s      sell-WETH @ 2100.00 USDC per WETH\n",
       "             057292-0  1853.408818   b       buy-WETH @ 1853.41 USDC per WETH\n",
       "             057292-1  2000.000000   s      sell-WETH @ 2000.00 USDC per WETH\n",
       "             057296-0  1930.000193   b       buy-WETH @ 1930.00 USDC per WETH\n",
       "             057296-1  1950.000195   s      sell-WETH @ 1950.00 USDC per WETH\n",
       "             057299-1  1940.000000   s      sell-WETH @ 1940.00 USDC per WETH\n",
       "             057306-0  1405.000140   b       buy-WETH @ 1405.00 USDC per WETH\n",
       "             057315-1  2300.000000   s      sell-WETH @ 2300.00 USDC per WETH\n",
       "             057331-0  1800.000000   b       buy-WETH @ 1800.00 USDC per WETH\n",
       "             057334-0  1700.000170   b       buy-WETH @ 1700.00 USDC per WETH\n",
       "             057334-1  1999.999800   s      sell-WETH @ 2000.00 USDC per WETH\n",
       "             057337-0  1850.000000   b       buy-WETH @ 1850.00 USDC per WETH\n",
       "             057339-0  1800.000000   b       buy-WETH @ 1800.00 USDC per WETH\n",
       "             057343-1  1989.999801   s      sell-WETH @ 1990.00 USDC per WETH"
      ]
     },
     "execution_count": 64,
     "metadata": {},
     "output_type": "execute_result"
    }
   ],
   "source": [
    "pricedf.loc['WETH/USDC']"
   ]
  },
  {
   "cell_type": "markdown",
   "id": "0c588152",
   "metadata": {},
   "source": [
    "#### BNT/WETH"
   ]
  },
  {
   "cell_type": "code",
   "execution_count": 65,
   "id": "2e99c8f3-6f4d-4452-b143-23e293a57bd0",
   "metadata": {
    "lines_to_next_cell": 2
   },
   "outputs": [
    {
     "data": {
      "text/html": [
       "<div>\n",
       "<style scoped>\n",
       "    .dataframe tbody tr th:only-of-type {\n",
       "        vertical-align: middle;\n",
       "    }\n",
       "\n",
       "    .dataframe tbody tr th {\n",
       "        vertical-align: top;\n",
       "    }\n",
       "\n",
       "    .dataframe thead th {\n",
       "        text-align: right;\n",
       "    }\n",
       "</style>\n",
       "<table border=\"1\" class=\"dataframe\">\n",
       "  <thead>\n",
       "    <tr style=\"text-align: right;\">\n",
       "      <th></th>\n",
       "      <th></th>\n",
       "      <th>price</th>\n",
       "      <th>bs</th>\n",
       "      <th>bsv</th>\n",
       "    </tr>\n",
       "    <tr>\n",
       "      <th>exchange</th>\n",
       "      <th>cid0</th>\n",
       "      <th></th>\n",
       "      <th></th>\n",
       "      <th></th>\n",
       "    </tr>\n",
       "  </thead>\n",
       "  <tbody>\n",
       "    <tr>\n",
       "      <th rowspan=\"2\" valign=\"top\">carbon_v1</th>\n",
       "      <th>326030-0</th>\n",
       "      <td>0.000253</td>\n",
       "      <td>s</td>\n",
       "      <td>sell-BNT @ 0.00 WETH per BNT</td>\n",
       "    </tr>\n",
       "    <tr>\n",
       "      <th>326030-1</th>\n",
       "      <td>0.000200</td>\n",
       "      <td>b</td>\n",
       "      <td>buy-BNT @ 0.00 WETH per BNT</td>\n",
       "    </tr>\n",
       "    <tr>\n",
       "      <th>uniswap_v2</th>\n",
       "      <th>290</th>\n",
       "      <td>0.000248</td>\n",
       "      <td>bs</td>\n",
       "      <td>buy-sell-BNT @ 0.00 WETH per BNT</td>\n",
       "    </tr>\n",
       "    <tr>\n",
       "      <th rowspan=\"4\" valign=\"top\">carbon_v1</th>\n",
       "      <th>326034-0</th>\n",
       "      <td>0.000200</td>\n",
       "      <td>b</td>\n",
       "      <td>buy-BNT @ 0.00 WETH per BNT</td>\n",
       "    </tr>\n",
       "    <tr>\n",
       "      <th>326034-1</th>\n",
       "      <td>0.002100</td>\n",
       "      <td>s</td>\n",
       "      <td>sell-BNT @ 0.00 WETH per BNT</td>\n",
       "    </tr>\n",
       "    <tr>\n",
       "      <th>326031-0</th>\n",
       "      <td>0.000200</td>\n",
       "      <td>b</td>\n",
       "      <td>buy-BNT @ 0.00 WETH per BNT</td>\n",
       "    </tr>\n",
       "    <tr>\n",
       "      <th>326031-1</th>\n",
       "      <td>0.002000</td>\n",
       "      <td>s</td>\n",
       "      <td>sell-BNT @ 0.00 WETH per BNT</td>\n",
       "    </tr>\n",
       "    <tr>\n",
       "      <th>bancor_v2</th>\n",
       "      <th>623</th>\n",
       "      <td>0.000245</td>\n",
       "      <td>bs</td>\n",
       "      <td>buy-sell-BNT @ 0.00 WETH per BNT</td>\n",
       "    </tr>\n",
       "    <tr>\n",
       "      <th rowspan=\"3\" valign=\"top\">carbon_v1</th>\n",
       "      <th>326076-0</th>\n",
       "      <td>0.000253</td>\n",
       "      <td>b</td>\n",
       "      <td>buy-BNT @ 0.00 WETH per BNT</td>\n",
       "    </tr>\n",
       "    <tr>\n",
       "      <th>326077-0</th>\n",
       "      <td>0.000251</td>\n",
       "      <td>b</td>\n",
       "      <td>buy-BNT @ 0.00 WETH per BNT</td>\n",
       "    </tr>\n",
       "    <tr>\n",
       "      <th>326077-1</th>\n",
       "      <td>0.000258</td>\n",
       "      <td>s</td>\n",
       "      <td>sell-BNT @ 0.00 WETH per BNT</td>\n",
       "    </tr>\n",
       "    <tr>\n",
       "      <th>bancor_v3</th>\n",
       "      <th>704</th>\n",
       "      <td>0.000248</td>\n",
       "      <td>bs</td>\n",
       "      <td>buy-sell-BNT @ 0.00 WETH per BNT</td>\n",
       "    </tr>\n",
       "  </tbody>\n",
       "</table>\n",
       "</div>"
      ],
      "text/plain": [
       "                        price  bs                               bsv\n",
       "exchange   cid0                                                    \n",
       "carbon_v1  326030-0  0.000253   s      sell-BNT @ 0.00 WETH per BNT\n",
       "           326030-1  0.000200   b       buy-BNT @ 0.00 WETH per BNT\n",
       "uniswap_v2 290       0.000248  bs  buy-sell-BNT @ 0.00 WETH per BNT\n",
       "carbon_v1  326034-0  0.000200   b       buy-BNT @ 0.00 WETH per BNT\n",
       "           326034-1  0.002100   s      sell-BNT @ 0.00 WETH per BNT\n",
       "           326031-0  0.000200   b       buy-BNT @ 0.00 WETH per BNT\n",
       "           326031-1  0.002000   s      sell-BNT @ 0.00 WETH per BNT\n",
       "bancor_v2  623       0.000245  bs  buy-sell-BNT @ 0.00 WETH per BNT\n",
       "carbon_v1  326076-0  0.000253   b       buy-BNT @ 0.00 WETH per BNT\n",
       "           326077-0  0.000251   b       buy-BNT @ 0.00 WETH per BNT\n",
       "           326077-1  0.000258   s      sell-BNT @ 0.00 WETH per BNT\n",
       "bancor_v3  704       0.000248  bs  buy-sell-BNT @ 0.00 WETH per BNT"
      ]
     },
     "execution_count": 65,
     "metadata": {},
     "output_type": "execute_result"
    }
   ],
   "source": [
    "pricedf.loc['BNT/WETH']"
   ]
  },
  {
   "cell_type": "markdown",
   "id": "415be231",
   "metadata": {},
   "source": [
    "#### BNT/vBNT"
   ]
  },
  {
   "cell_type": "code",
   "execution_count": 66,
   "id": "3b269245",
   "metadata": {
    "lines_to_next_cell": 2
   },
   "outputs": [
    {
     "data": {
      "text/html": [
       "<div>\n",
       "<style scoped>\n",
       "    .dataframe tbody tr th:only-of-type {\n",
       "        vertical-align: middle;\n",
       "    }\n",
       "\n",
       "    .dataframe tbody tr th {\n",
       "        vertical-align: top;\n",
       "    }\n",
       "\n",
       "    .dataframe thead th {\n",
       "        text-align: right;\n",
       "    }\n",
       "</style>\n",
       "<table border=\"1\" class=\"dataframe\">\n",
       "  <thead>\n",
       "    <tr style=\"text-align: right;\">\n",
       "      <th></th>\n",
       "      <th></th>\n",
       "      <th>price</th>\n",
       "      <th>bs</th>\n",
       "      <th>bsv</th>\n",
       "    </tr>\n",
       "    <tr>\n",
       "      <th>exchange</th>\n",
       "      <th>cid0</th>\n",
       "      <th></th>\n",
       "      <th></th>\n",
       "      <th></th>\n",
       "    </tr>\n",
       "  </thead>\n",
       "  <tbody>\n",
       "    <tr>\n",
       "      <th>carbon_v1</th>\n",
       "      <th>748990-1</th>\n",
       "      <td>0.952381</td>\n",
       "      <td>b</td>\n",
       "      <td>buy-BNT @ 0.95 vBNT per BNT</td>\n",
       "    </tr>\n",
       "    <tr>\n",
       "      <th>bancor_v3</th>\n",
       "      <th>742</th>\n",
       "      <td>1.252518</td>\n",
       "      <td>bs</td>\n",
       "      <td>buy-sell-BNT @ 1.25 vBNT per BNT</td>\n",
       "    </tr>\n",
       "    <tr>\n",
       "      <th>bancor_v2</th>\n",
       "      <th>653</th>\n",
       "      <td>1.329008</td>\n",
       "      <td>bs</td>\n",
       "      <td>buy-sell-BNT @ 1.33 vBNT per BNT</td>\n",
       "    </tr>\n",
       "    <tr>\n",
       "      <th rowspan=\"7\" valign=\"top\">carbon_v1</th>\n",
       "      <th>748965-1</th>\n",
       "      <td>0.909091</td>\n",
       "      <td>b</td>\n",
       "      <td>buy-BNT @ 0.91 vBNT per BNT</td>\n",
       "    </tr>\n",
       "    <tr>\n",
       "      <th>748976-0</th>\n",
       "      <td>1.331480</td>\n",
       "      <td>s</td>\n",
       "      <td>sell-BNT @ 1.33 vBNT per BNT</td>\n",
       "    </tr>\n",
       "    <tr>\n",
       "      <th>748976-1</th>\n",
       "      <td>1.111111</td>\n",
       "      <td>b</td>\n",
       "      <td>buy-BNT @ 1.11 vBNT per BNT</td>\n",
       "    </tr>\n",
       "    <tr>\n",
       "      <th>748950-0</th>\n",
       "      <td>0.940000</td>\n",
       "      <td>b</td>\n",
       "      <td>buy-BNT @ 0.94 vBNT per BNT</td>\n",
       "    </tr>\n",
       "    <tr>\n",
       "      <th>748977-0</th>\n",
       "      <td>1.428571</td>\n",
       "      <td>s</td>\n",
       "      <td>sell-BNT @ 1.43 vBNT per BNT</td>\n",
       "    </tr>\n",
       "    <tr>\n",
       "      <th>748977-1</th>\n",
       "      <td>1.250000</td>\n",
       "      <td>b</td>\n",
       "      <td>buy-BNT @ 1.25 vBNT per BNT</td>\n",
       "    </tr>\n",
       "    <tr>\n",
       "      <th>748966-1</th>\n",
       "      <td>1.000000</td>\n",
       "      <td>b</td>\n",
       "      <td>buy-BNT @ 1.00 vBNT per BNT</td>\n",
       "    </tr>\n",
       "  </tbody>\n",
       "</table>\n",
       "</div>"
      ],
      "text/plain": [
       "                       price  bs                               bsv\n",
       "exchange  cid0                                                    \n",
       "carbon_v1 748990-1  0.952381   b       buy-BNT @ 0.95 vBNT per BNT\n",
       "bancor_v3 742       1.252518  bs  buy-sell-BNT @ 1.25 vBNT per BNT\n",
       "bancor_v2 653       1.329008  bs  buy-sell-BNT @ 1.33 vBNT per BNT\n",
       "carbon_v1 748965-1  0.909091   b       buy-BNT @ 0.91 vBNT per BNT\n",
       "          748976-0  1.331480   s      sell-BNT @ 1.33 vBNT per BNT\n",
       "          748976-1  1.111111   b       buy-BNT @ 1.11 vBNT per BNT\n",
       "          748950-0  0.940000   b       buy-BNT @ 0.94 vBNT per BNT\n",
       "          748977-0  1.428571   s      sell-BNT @ 1.43 vBNT per BNT\n",
       "          748977-1  1.250000   b       buy-BNT @ 1.25 vBNT per BNT\n",
       "          748966-1  1.000000   b       buy-BNT @ 1.00 vBNT per BNT"
      ]
     },
     "execution_count": 66,
     "metadata": {},
     "output_type": "execute_result"
    }
   ],
   "source": [
    "pricedf.loc['BNT/vBNT']"
   ]
  },
  {
   "cell_type": "markdown",
   "id": "29c59271",
   "metadata": {},
   "source": [
    "#### USDT/USDC"
   ]
  },
  {
   "cell_type": "code",
   "execution_count": 67,
   "id": "a571292f-6141-49e8-970e-15aebb0a7717",
   "metadata": {
    "lines_to_next_cell": 2
   },
   "outputs": [
    {
     "data": {
      "text/html": [
       "<div>\n",
       "<style scoped>\n",
       "    .dataframe tbody tr th:only-of-type {\n",
       "        vertical-align: middle;\n",
       "    }\n",
       "\n",
       "    .dataframe tbody tr th {\n",
       "        vertical-align: top;\n",
       "    }\n",
       "\n",
       "    .dataframe thead th {\n",
       "        text-align: right;\n",
       "    }\n",
       "</style>\n",
       "<table border=\"1\" class=\"dataframe\">\n",
       "  <thead>\n",
       "    <tr style=\"text-align: right;\">\n",
       "      <th></th>\n",
       "      <th></th>\n",
       "      <th>price</th>\n",
       "      <th>bs</th>\n",
       "      <th>bsv</th>\n",
       "    </tr>\n",
       "    <tr>\n",
       "      <th>exchange</th>\n",
       "      <th>cid0</th>\n",
       "      <th></th>\n",
       "      <th></th>\n",
       "      <th></th>\n",
       "    </tr>\n",
       "  </thead>\n",
       "  <tbody>\n",
       "    <tr>\n",
       "      <th>uniswap_v3</th>\n",
       "      <th>357</th>\n",
       "      <td>1.002654</td>\n",
       "      <td>bs</td>\n",
       "      <td>buy-sell-USDT @ 1.00 USDC per USDT</td>\n",
       "    </tr>\n",
       "    <tr>\n",
       "      <th>uniswap_v2</th>\n",
       "      <th>246</th>\n",
       "      <td>1.000174</td>\n",
       "      <td>bs</td>\n",
       "      <td>buy-sell-USDT @ 1.00 USDC per USDT</td>\n",
       "    </tr>\n",
       "    <tr>\n",
       "      <th>uniswap_v3</th>\n",
       "      <th>486</th>\n",
       "      <td>1.000580</td>\n",
       "      <td>bs</td>\n",
       "      <td>buy-sell-USDT @ 1.00 USDC per USDT</td>\n",
       "    </tr>\n",
       "    <tr>\n",
       "      <th>sushiswap_v2</th>\n",
       "      <th>805</th>\n",
       "      <td>0.998806</td>\n",
       "      <td>bs</td>\n",
       "      <td>buy-sell-USDT @ 1.00 USDC per USDT</td>\n",
       "    </tr>\n",
       "    <tr>\n",
       "      <th rowspan=\"4\" valign=\"top\">carbon_v1</th>\n",
       "      <th>634391-0</th>\n",
       "      <td>1.001001</td>\n",
       "      <td>s</td>\n",
       "      <td>sell-USDT @ 1.00 USDC per USDT</td>\n",
       "    </tr>\n",
       "    <tr>\n",
       "      <th>634391-1</th>\n",
       "      <td>1.000690</td>\n",
       "      <td>b</td>\n",
       "      <td>buy-USDT @ 1.00 USDC per USDT</td>\n",
       "    </tr>\n",
       "    <tr>\n",
       "      <th>634371-0</th>\n",
       "      <td>1.005025</td>\n",
       "      <td>s</td>\n",
       "      <td>sell-USDT @ 1.01 USDC per USDT</td>\n",
       "    </tr>\n",
       "    <tr>\n",
       "      <th>634371-1</th>\n",
       "      <td>0.995025</td>\n",
       "      <td>b</td>\n",
       "      <td>buy-USDT @ 1.00 USDC per USDT</td>\n",
       "    </tr>\n",
       "  </tbody>\n",
       "</table>\n",
       "</div>"
      ],
      "text/plain": [
       "                          price  bs                                 bsv\n",
       "exchange     cid0                                                      \n",
       "uniswap_v3   357       1.002654  bs  buy-sell-USDT @ 1.00 USDC per USDT\n",
       "uniswap_v2   246       1.000174  bs  buy-sell-USDT @ 1.00 USDC per USDT\n",
       "uniswap_v3   486       1.000580  bs  buy-sell-USDT @ 1.00 USDC per USDT\n",
       "sushiswap_v2 805       0.998806  bs  buy-sell-USDT @ 1.00 USDC per USDT\n",
       "carbon_v1    634391-0  1.001001   s      sell-USDT @ 1.00 USDC per USDT\n",
       "             634391-1  1.000690   b       buy-USDT @ 1.00 USDC per USDT\n",
       "             634371-0  1.005025   s      sell-USDT @ 1.01 USDC per USDT\n",
       "             634371-1  0.995025   b       buy-USDT @ 1.00 USDC per USDT"
      ]
     },
     "execution_count": 67,
     "metadata": {},
     "output_type": "execute_result"
    }
   ],
   "source": [
    "pricedf.loc['USDT/USDC']"
   ]
  },
  {
   "cell_type": "markdown",
   "id": "6b1f3b01",
   "metadata": {},
   "source": [
    "#### WBTC/WETH"
   ]
  },
  {
   "cell_type": "code",
   "execution_count": 68,
   "id": "d456faa0-5b17-4c1d-8b87-bcd58752623f",
   "metadata": {
    "lines_to_next_cell": 2
   },
   "outputs": [
    {
     "data": {
      "text/html": [
       "<div>\n",
       "<style scoped>\n",
       "    .dataframe tbody tr th:only-of-type {\n",
       "        vertical-align: middle;\n",
       "    }\n",
       "\n",
       "    .dataframe tbody tr th {\n",
       "        vertical-align: top;\n",
       "    }\n",
       "\n",
       "    .dataframe thead th {\n",
       "        text-align: right;\n",
       "    }\n",
       "</style>\n",
       "<table border=\"1\" class=\"dataframe\">\n",
       "  <thead>\n",
       "    <tr style=\"text-align: right;\">\n",
       "      <th></th>\n",
       "      <th></th>\n",
       "      <th>price</th>\n",
       "      <th>bs</th>\n",
       "      <th>bsv</th>\n",
       "    </tr>\n",
       "    <tr>\n",
       "      <th>exchange</th>\n",
       "      <th>cid0</th>\n",
       "      <th></th>\n",
       "      <th></th>\n",
       "      <th></th>\n",
       "    </tr>\n",
       "  </thead>\n",
       "  <tbody>\n",
       "    <tr>\n",
       "      <th>uniswap_v3</th>\n",
       "      <th>466</th>\n",
       "      <td>15.015145</td>\n",
       "      <td>bs</td>\n",
       "      <td>buy-sell-WBTC @ 15.02 WETH per WBTC</td>\n",
       "    </tr>\n",
       "    <tr>\n",
       "      <th>sushiswap_v2</th>\n",
       "      <th>804</th>\n",
       "      <td>14.904278</td>\n",
       "      <td>bs</td>\n",
       "      <td>buy-sell-WBTC @ 14.90 WETH per WBTC</td>\n",
       "    </tr>\n",
       "    <tr>\n",
       "      <th>uniswap_v3</th>\n",
       "      <th>478</th>\n",
       "      <td>15.314129</td>\n",
       "      <td>bs</td>\n",
       "      <td>buy-sell-WBTC @ 15.31 WETH per WBTC</td>\n",
       "    </tr>\n",
       "    <tr>\n",
       "      <th rowspan=\"2\" valign=\"top\">carbon_v1</th>\n",
       "      <th>709362-0</th>\n",
       "      <td>15.399750</td>\n",
       "      <td>s</td>\n",
       "      <td>sell-WBTC @ 15.40 WETH per WBTC</td>\n",
       "    </tr>\n",
       "    <tr>\n",
       "      <th>709362-1</th>\n",
       "      <td>14.285714</td>\n",
       "      <td>b</td>\n",
       "      <td>buy-WBTC @ 14.29 WETH per WBTC</td>\n",
       "    </tr>\n",
       "  </tbody>\n",
       "</table>\n",
       "</div>"
      ],
      "text/plain": [
       "                           price  bs                                  bsv\n",
       "exchange     cid0                                                        \n",
       "uniswap_v3   466       15.015145  bs  buy-sell-WBTC @ 15.02 WETH per WBTC\n",
       "sushiswap_v2 804       14.904278  bs  buy-sell-WBTC @ 14.90 WETH per WBTC\n",
       "uniswap_v3   478       15.314129  bs  buy-sell-WBTC @ 15.31 WETH per WBTC\n",
       "carbon_v1    709362-0  15.399750   s      sell-WBTC @ 15.40 WETH per WBTC\n",
       "             709362-1  14.285714   b       buy-WBTC @ 14.29 WETH per WBTC"
      ]
     },
     "execution_count": 68,
     "metadata": {},
     "output_type": "execute_result"
    }
   ],
   "source": [
    "pricedf.loc['WBTC/WETH']"
   ]
  },
  {
   "cell_type": "markdown",
   "id": "349cde94",
   "metadata": {},
   "source": [
    "#### LINK/USDT"
   ]
  },
  {
   "cell_type": "code",
   "execution_count": 69,
   "id": "d931fd56",
   "metadata": {
    "lines_to_next_cell": 2
   },
   "outputs": [
    {
     "data": {
      "text/html": [
       "<div>\n",
       "<style scoped>\n",
       "    .dataframe tbody tr th:only-of-type {\n",
       "        vertical-align: middle;\n",
       "    }\n",
       "\n",
       "    .dataframe tbody tr th {\n",
       "        vertical-align: top;\n",
       "    }\n",
       "\n",
       "    .dataframe thead th {\n",
       "        text-align: right;\n",
       "    }\n",
       "</style>\n",
       "<table border=\"1\" class=\"dataframe\">\n",
       "  <thead>\n",
       "    <tr style=\"text-align: right;\">\n",
       "      <th></th>\n",
       "      <th></th>\n",
       "      <th>price</th>\n",
       "      <th>bs</th>\n",
       "      <th>bsv</th>\n",
       "    </tr>\n",
       "    <tr>\n",
       "      <th>exchange</th>\n",
       "      <th>cid0</th>\n",
       "      <th></th>\n",
       "      <th></th>\n",
       "      <th></th>\n",
       "    </tr>\n",
       "  </thead>\n",
       "  <tbody>\n",
       "    <tr>\n",
       "      <th>uniswap_v2</th>\n",
       "      <th>171</th>\n",
       "      <td>7.328775</td>\n",
       "      <td>bs</td>\n",
       "      <td>buy-sell-LINK @ 7.33 USDT per LINK</td>\n",
       "    </tr>\n",
       "    <tr>\n",
       "      <th>uniswap_v3</th>\n",
       "      <th>549</th>\n",
       "      <td>7.169997</td>\n",
       "      <td>bs</td>\n",
       "      <td>buy-sell-LINK @ 7.17 USDT per LINK</td>\n",
       "    </tr>\n",
       "    <tr>\n",
       "      <th>sushiswap_v2</th>\n",
       "      <th>791</th>\n",
       "      <td>7.123545</td>\n",
       "      <td>bs</td>\n",
       "      <td>buy-sell-LINK @ 7.12 USDT per LINK</td>\n",
       "    </tr>\n",
       "    <tr>\n",
       "      <th rowspan=\"2\" valign=\"top\">carbon_v1</th>\n",
       "      <th>960408-0</th>\n",
       "      <td>7.100000</td>\n",
       "      <td>b</td>\n",
       "      <td>buy-LINK @ 7.10 USDT per LINK</td>\n",
       "    </tr>\n",
       "    <tr>\n",
       "      <th>960408-1</th>\n",
       "      <td>7.700000</td>\n",
       "      <td>s</td>\n",
       "      <td>sell-LINK @ 7.70 USDT per LINK</td>\n",
       "    </tr>\n",
       "  </tbody>\n",
       "</table>\n",
       "</div>"
      ],
      "text/plain": [
       "                          price  bs                                 bsv\n",
       "exchange     cid0                                                      \n",
       "uniswap_v2   171       7.328775  bs  buy-sell-LINK @ 7.33 USDT per LINK\n",
       "uniswap_v3   549       7.169997  bs  buy-sell-LINK @ 7.17 USDT per LINK\n",
       "sushiswap_v2 791       7.123545  bs  buy-sell-LINK @ 7.12 USDT per LINK\n",
       "carbon_v1    960408-0  7.100000   b       buy-LINK @ 7.10 USDT per LINK\n",
       "             960408-1  7.700000   s      sell-LINK @ 7.70 USDT per LINK"
      ]
     },
     "execution_count": 69,
     "metadata": {},
     "output_type": "execute_result"
    }
   ],
   "source": [
    "pricedf.loc['LINK/USDT']"
   ]
  },
  {
   "cell_type": "markdown",
   "id": "d6b2368f",
   "metadata": {},
   "source": [
    "#### WBTC/USDT"
   ]
  },
  {
   "cell_type": "code",
   "execution_count": 70,
   "id": "e2b607da",
   "metadata": {
    "lines_to_next_cell": 2
   },
   "outputs": [
    {
     "data": {
      "text/html": [
       "<div>\n",
       "<style scoped>\n",
       "    .dataframe tbody tr th:only-of-type {\n",
       "        vertical-align: middle;\n",
       "    }\n",
       "\n",
       "    .dataframe tbody tr th {\n",
       "        vertical-align: top;\n",
       "    }\n",
       "\n",
       "    .dataframe thead th {\n",
       "        text-align: right;\n",
       "    }\n",
       "</style>\n",
       "<table border=\"1\" class=\"dataframe\">\n",
       "  <thead>\n",
       "    <tr style=\"text-align: right;\">\n",
       "      <th></th>\n",
       "      <th></th>\n",
       "      <th>price</th>\n",
       "      <th>bs</th>\n",
       "      <th>bsv</th>\n",
       "    </tr>\n",
       "    <tr>\n",
       "      <th>exchange</th>\n",
       "      <th>cid0</th>\n",
       "      <th></th>\n",
       "      <th></th>\n",
       "      <th></th>\n",
       "    </tr>\n",
       "  </thead>\n",
       "  <tbody>\n",
       "    <tr>\n",
       "      <th>uniswap_v2</th>\n",
       "      <th>183</th>\n",
       "      <td>29095.896331</td>\n",
       "      <td>bs</td>\n",
       "      <td>buy-sell-WBTC @ 29095.90 USDT per WBTC</td>\n",
       "    </tr>\n",
       "    <tr>\n",
       "      <th>sushiswap_v2</th>\n",
       "      <th>814</th>\n",
       "      <td>29004.432929</td>\n",
       "      <td>bs</td>\n",
       "      <td>buy-sell-WBTC @ 29004.43 USDT per WBTC</td>\n",
       "    </tr>\n",
       "    <tr>\n",
       "      <th rowspan=\"2\" valign=\"top\">carbon_v1</th>\n",
       "      <th>920820-0</th>\n",
       "      <td>28980.881784</td>\n",
       "      <td>b</td>\n",
       "      <td>buy-WBTC @ 28980.88 USDT per WBTC</td>\n",
       "    </tr>\n",
       "    <tr>\n",
       "      <th>920820-1</th>\n",
       "      <td>29500.000000</td>\n",
       "      <td>s</td>\n",
       "      <td>sell-WBTC @ 29500.00 USDT per WBTC</td>\n",
       "    </tr>\n",
       "  </tbody>\n",
       "</table>\n",
       "</div>"
      ],
      "text/plain": [
       "                              price  bs  \\\n",
       "exchange     cid0                         \n",
       "uniswap_v2   183       29095.896331  bs   \n",
       "sushiswap_v2 814       29004.432929  bs   \n",
       "carbon_v1    920820-0  28980.881784   b   \n",
       "             920820-1  29500.000000   s   \n",
       "\n",
       "                                                          bsv  \n",
       "exchange     cid0                                              \n",
       "uniswap_v2   183       buy-sell-WBTC @ 29095.90 USDT per WBTC  \n",
       "sushiswap_v2 814       buy-sell-WBTC @ 29004.43 USDT per WBTC  \n",
       "carbon_v1    920820-0       buy-WBTC @ 28980.88 USDT per WBTC  \n",
       "             920820-1      sell-WBTC @ 29500.00 USDT per WBTC  "
      ]
     },
     "execution_count": 70,
     "metadata": {},
     "output_type": "execute_result"
    }
   ],
   "source": [
    "pricedf.loc['WBTC/USDT']"
   ]
  },
  {
   "cell_type": "markdown",
   "id": "e79b1204",
   "metadata": {},
   "source": [
    "#### BNT/USDC"
   ]
  },
  {
   "cell_type": "code",
   "execution_count": 71,
   "id": "59c40cc1",
   "metadata": {
    "lines_to_next_cell": 2
   },
   "outputs": [
    {
     "data": {
      "text/html": [
       "<div>\n",
       "<style scoped>\n",
       "    .dataframe tbody tr th:only-of-type {\n",
       "        vertical-align: middle;\n",
       "    }\n",
       "\n",
       "    .dataframe tbody tr th {\n",
       "        vertical-align: top;\n",
       "    }\n",
       "\n",
       "    .dataframe thead th {\n",
       "        text-align: right;\n",
       "    }\n",
       "</style>\n",
       "<table border=\"1\" class=\"dataframe\">\n",
       "  <thead>\n",
       "    <tr style=\"text-align: right;\">\n",
       "      <th></th>\n",
       "      <th></th>\n",
       "      <th>price</th>\n",
       "      <th>bs</th>\n",
       "      <th>bsv</th>\n",
       "    </tr>\n",
       "    <tr>\n",
       "      <th>exchange</th>\n",
       "      <th>cid0</th>\n",
       "      <th></th>\n",
       "      <th></th>\n",
       "      <th></th>\n",
       "    </tr>\n",
       "  </thead>\n",
       "  <tbody>\n",
       "    <tr>\n",
       "      <th>carbon_v1</th>\n",
       "      <th>480202-1</th>\n",
       "      <td>1.480041</td>\n",
       "      <td>s</td>\n",
       "      <td>sell-BNT @ 1.48 USDC per BNT</td>\n",
       "    </tr>\n",
       "    <tr>\n",
       "      <th>bancor_v2</th>\n",
       "      <th>652</th>\n",
       "      <td>0.473736</td>\n",
       "      <td>bs</td>\n",
       "      <td>buy-sell-BNT @ 0.47 USDC per BNT</td>\n",
       "    </tr>\n",
       "    <tr>\n",
       "      <th>carbon_v1</th>\n",
       "      <th>480199-0</th>\n",
       "      <td>2.000000</td>\n",
       "      <td>s</td>\n",
       "      <td>sell-BNT @ 2.00 USDC per BNT</td>\n",
       "    </tr>\n",
       "    <tr>\n",
       "      <th>bancor_v3</th>\n",
       "      <th>720</th>\n",
       "      <td>0.483788</td>\n",
       "      <td>bs</td>\n",
       "      <td>buy-sell-BNT @ 0.48 USDC per BNT</td>\n",
       "    </tr>\n",
       "  </tbody>\n",
       "</table>\n",
       "</div>"
      ],
      "text/plain": [
       "                       price  bs                               bsv\n",
       "exchange  cid0                                                    \n",
       "carbon_v1 480202-1  1.480041   s      sell-BNT @ 1.48 USDC per BNT\n",
       "bancor_v2 652       0.473736  bs  buy-sell-BNT @ 0.47 USDC per BNT\n",
       "carbon_v1 480199-0  2.000000   s      sell-BNT @ 2.00 USDC per BNT\n",
       "bancor_v3 720       0.483788  bs  buy-sell-BNT @ 0.48 USDC per BNT"
      ]
     },
     "execution_count": 71,
     "metadata": {},
     "output_type": "execute_result"
    }
   ],
   "source": [
    "pricedf.loc['BNT/USDC']"
   ]
  },
  {
   "cell_type": "markdown",
   "id": "45741f45",
   "metadata": {},
   "source": [
    "#### WETH/DAI"
   ]
  },
  {
   "cell_type": "code",
   "execution_count": 72,
   "id": "b2d07783",
   "metadata": {
    "lines_to_next_cell": 2
   },
   "outputs": [
    {
     "data": {
      "text/html": [
       "<div>\n",
       "<style scoped>\n",
       "    .dataframe tbody tr th:only-of-type {\n",
       "        vertical-align: middle;\n",
       "    }\n",
       "\n",
       "    .dataframe tbody tr th {\n",
       "        vertical-align: top;\n",
       "    }\n",
       "\n",
       "    .dataframe thead th {\n",
       "        text-align: right;\n",
       "    }\n",
       "</style>\n",
       "<table border=\"1\" class=\"dataframe\">\n",
       "  <thead>\n",
       "    <tr style=\"text-align: right;\">\n",
       "      <th></th>\n",
       "      <th></th>\n",
       "      <th>price</th>\n",
       "      <th>bs</th>\n",
       "      <th>bsv</th>\n",
       "    </tr>\n",
       "    <tr>\n",
       "      <th>exchange</th>\n",
       "      <th>cid0</th>\n",
       "      <th></th>\n",
       "      <th></th>\n",
       "      <th></th>\n",
       "    </tr>\n",
       "  </thead>\n",
       "  <tbody>\n",
       "    <tr>\n",
       "      <th>carbon_v1</th>\n",
       "      <th>211457-1</th>\n",
       "      <td>1944.999806</td>\n",
       "      <td>s</td>\n",
       "      <td>sell-WETH @ 1945.00 DAI per WETH</td>\n",
       "    </tr>\n",
       "    <tr>\n",
       "      <th>uniswap_v3</th>\n",
       "      <th>594</th>\n",
       "      <td>1979.616549</td>\n",
       "      <td>bs</td>\n",
       "      <td>buy-sell-WETH @ 1979.62 DAI per WETH</td>\n",
       "    </tr>\n",
       "    <tr>\n",
       "      <th>sushiswap_v2</th>\n",
       "      <th>817</th>\n",
       "      <td>1981.145633</td>\n",
       "      <td>bs</td>\n",
       "      <td>buy-sell-WETH @ 1981.15 DAI per WETH</td>\n",
       "    </tr>\n",
       "  </tbody>\n",
       "</table>\n",
       "</div>"
      ],
      "text/plain": [
       "                             price  bs                                   bsv\n",
       "exchange     cid0                                                           \n",
       "carbon_v1    211457-1  1944.999806   s      sell-WETH @ 1945.00 DAI per WETH\n",
       "uniswap_v3   594       1979.616549  bs  buy-sell-WETH @ 1979.62 DAI per WETH\n",
       "sushiswap_v2 817       1981.145633  bs  buy-sell-WETH @ 1981.15 DAI per WETH"
      ]
     },
     "execution_count": 72,
     "metadata": {},
     "output_type": "execute_result"
    }
   ],
   "source": [
    "pricedf.loc['WETH/DAI']"
   ]
  },
  {
   "cell_type": "markdown",
   "id": "90ef05fe",
   "metadata": {},
   "source": [
    "#### LINK/USDC"
   ]
  },
  {
   "cell_type": "code",
   "execution_count": 73,
   "id": "8140ba4d-b102-4a80-89af-881d5cd05cd1",
   "metadata": {
    "lines_to_next_cell": 2
   },
   "outputs": [
    {
     "data": {
      "text/html": [
       "<div>\n",
       "<style scoped>\n",
       "    .dataframe tbody tr th:only-of-type {\n",
       "        vertical-align: middle;\n",
       "    }\n",
       "\n",
       "    .dataframe tbody tr th {\n",
       "        vertical-align: top;\n",
       "    }\n",
       "\n",
       "    .dataframe thead th {\n",
       "        text-align: right;\n",
       "    }\n",
       "</style>\n",
       "<table border=\"1\" class=\"dataframe\">\n",
       "  <thead>\n",
       "    <tr style=\"text-align: right;\">\n",
       "      <th></th>\n",
       "      <th></th>\n",
       "      <th>price</th>\n",
       "      <th>bs</th>\n",
       "      <th>bsv</th>\n",
       "    </tr>\n",
       "    <tr>\n",
       "      <th>exchange</th>\n",
       "      <th>cid0</th>\n",
       "      <th></th>\n",
       "      <th></th>\n",
       "      <th></th>\n",
       "    </tr>\n",
       "  </thead>\n",
       "  <tbody>\n",
       "    <tr>\n",
       "      <th>uniswap_v2</th>\n",
       "      <th>176</th>\n",
       "      <td>6.794102</td>\n",
       "      <td>bs</td>\n",
       "      <td>buy-sell-LINK @ 6.79 USDC per LINK</td>\n",
       "    </tr>\n",
       "    <tr>\n",
       "      <th>sushiswap_v2</th>\n",
       "      <th>792</th>\n",
       "      <td>6.935941</td>\n",
       "      <td>bs</td>\n",
       "      <td>buy-sell-LINK @ 6.94 USDC per LINK</td>\n",
       "    </tr>\n",
       "    <tr>\n",
       "      <th>carbon_v1</th>\n",
       "      <th>497903-1</th>\n",
       "      <td>7.750000</td>\n",
       "      <td>s</td>\n",
       "      <td>sell-LINK @ 7.75 USDC per LINK</td>\n",
       "    </tr>\n",
       "  </tbody>\n",
       "</table>\n",
       "</div>"
      ],
      "text/plain": [
       "                          price  bs                                 bsv\n",
       "exchange     cid0                                                      \n",
       "uniswap_v2   176       6.794102  bs  buy-sell-LINK @ 6.79 USDC per LINK\n",
       "sushiswap_v2 792       6.935941  bs  buy-sell-LINK @ 6.94 USDC per LINK\n",
       "carbon_v1    497903-1  7.750000   s      sell-LINK @ 7.75 USDC per LINK"
      ]
     },
     "execution_count": 73,
     "metadata": {},
     "output_type": "execute_result"
    }
   ],
   "source": [
    "pricedf.loc['LINK/USDC']"
   ]
  },
  {
   "cell_type": "markdown",
   "id": "688cf539",
   "metadata": {},
   "source": [
    "#### DAI/USDC"
   ]
  },
  {
   "cell_type": "code",
   "execution_count": 74,
   "id": "631831d0",
   "metadata": {
    "lines_to_next_cell": 2
   },
   "outputs": [
    {
     "data": {
      "text/html": [
       "<div>\n",
       "<style scoped>\n",
       "    .dataframe tbody tr th:only-of-type {\n",
       "        vertical-align: middle;\n",
       "    }\n",
       "\n",
       "    .dataframe tbody tr th {\n",
       "        vertical-align: top;\n",
       "    }\n",
       "\n",
       "    .dataframe thead th {\n",
       "        text-align: right;\n",
       "    }\n",
       "</style>\n",
       "<table border=\"1\" class=\"dataframe\">\n",
       "  <thead>\n",
       "    <tr style=\"text-align: right;\">\n",
       "      <th></th>\n",
       "      <th></th>\n",
       "      <th>price</th>\n",
       "      <th>bs</th>\n",
       "      <th>bsv</th>\n",
       "    </tr>\n",
       "    <tr>\n",
       "      <th>exchange</th>\n",
       "      <th>cid0</th>\n",
       "      <th></th>\n",
       "      <th></th>\n",
       "      <th></th>\n",
       "    </tr>\n",
       "  </thead>\n",
       "  <tbody>\n",
       "    <tr>\n",
       "      <th rowspan=\"2\" valign=\"top\">carbon_v1</th>\n",
       "      <th>845828-0</th>\n",
       "      <td>1.001001</td>\n",
       "      <td>s</td>\n",
       "      <td>sell-DAI @ 1.00 USDC per DAI</td>\n",
       "    </tr>\n",
       "    <tr>\n",
       "      <th>845828-1</th>\n",
       "      <td>0.999001</td>\n",
       "      <td>b</td>\n",
       "      <td>buy-DAI @ 1.00 USDC per DAI</td>\n",
       "    </tr>\n",
       "    <tr>\n",
       "      <th>sushiswap_v2</th>\n",
       "      <th>839</th>\n",
       "      <td>1.003169</td>\n",
       "      <td>bs</td>\n",
       "      <td>buy-sell-DAI @ 1.00 USDC per DAI</td>\n",
       "    </tr>\n",
       "  </tbody>\n",
       "</table>\n",
       "</div>"
      ],
      "text/plain": [
       "                          price  bs                               bsv\n",
       "exchange     cid0                                                    \n",
       "carbon_v1    845828-0  1.001001   s      sell-DAI @ 1.00 USDC per DAI\n",
       "             845828-1  0.999001   b       buy-DAI @ 1.00 USDC per DAI\n",
       "sushiswap_v2 839       1.003169  bs  buy-sell-DAI @ 1.00 USDC per DAI"
      ]
     },
     "execution_count": 74,
     "metadata": {},
     "output_type": "execute_result"
    }
   ],
   "source": [
    "pricedf.loc['DAI/USDC']"
   ]
  },
  {
   "cell_type": "markdown",
   "id": "ffe9513b",
   "metadata": {},
   "source": [
    "#### WETH/USDT"
   ]
  },
  {
   "cell_type": "code",
   "execution_count": 75,
   "id": "6752547e",
   "metadata": {
    "lines_to_next_cell": 2
   },
   "outputs": [
    {
     "data": {
      "text/html": [
       "<div>\n",
       "<style scoped>\n",
       "    .dataframe tbody tr th:only-of-type {\n",
       "        vertical-align: middle;\n",
       "    }\n",
       "\n",
       "    .dataframe tbody tr th {\n",
       "        vertical-align: top;\n",
       "    }\n",
       "\n",
       "    .dataframe thead th {\n",
       "        text-align: right;\n",
       "    }\n",
       "</style>\n",
       "<table border=\"1\" class=\"dataframe\">\n",
       "  <thead>\n",
       "    <tr style=\"text-align: right;\">\n",
       "      <th></th>\n",
       "      <th></th>\n",
       "      <th>price</th>\n",
       "      <th>bs</th>\n",
       "      <th>bsv</th>\n",
       "    </tr>\n",
       "    <tr>\n",
       "      <th>exchange</th>\n",
       "      <th>cid0</th>\n",
       "      <th></th>\n",
       "      <th></th>\n",
       "      <th></th>\n",
       "    </tr>\n",
       "  </thead>\n",
       "  <tbody>\n",
       "    <tr>\n",
       "      <th>uniswap_v2</th>\n",
       "      <th>256</th>\n",
       "      <td>1989.408342</td>\n",
       "      <td>bs</td>\n",
       "      <td>buy-sell-WETH @ 1989.41 USDT per WETH</td>\n",
       "    </tr>\n",
       "    <tr>\n",
       "      <th>sushiswap_v2</th>\n",
       "      <th>840</th>\n",
       "      <td>1985.382699</td>\n",
       "      <td>bs</td>\n",
       "      <td>buy-sell-WETH @ 1985.38 USDT per WETH</td>\n",
       "    </tr>\n",
       "    <tr>\n",
       "      <th>carbon_v1</th>\n",
       "      <th>691656-0</th>\n",
       "      <td>1900.000190</td>\n",
       "      <td>b</td>\n",
       "      <td>buy-WETH @ 1900.00 USDT per WETH</td>\n",
       "    </tr>\n",
       "  </tbody>\n",
       "</table>\n",
       "</div>"
      ],
      "text/plain": [
       "                             price  bs                                    bsv\n",
       "exchange     cid0                                                            \n",
       "uniswap_v2   256       1989.408342  bs  buy-sell-WETH @ 1989.41 USDT per WETH\n",
       "sushiswap_v2 840       1985.382699  bs  buy-sell-WETH @ 1985.38 USDT per WETH\n",
       "carbon_v1    691656-0  1900.000190   b       buy-WETH @ 1900.00 USDT per WETH"
      ]
     },
     "execution_count": 75,
     "metadata": {},
     "output_type": "execute_result"
    }
   ],
   "source": [
    "pricedf.loc['WETH/USDT']"
   ]
  },
  {
   "cell_type": "markdown",
   "id": "ef5bfda1",
   "metadata": {},
   "source": [
    "#### DAI/USDT"
   ]
  },
  {
   "cell_type": "code",
   "execution_count": 76,
   "id": "0a066043",
   "metadata": {
    "lines_to_next_cell": 2
   },
   "outputs": [
    {
     "data": {
      "text/html": [
       "<div>\n",
       "<style scoped>\n",
       "    .dataframe tbody tr th:only-of-type {\n",
       "        vertical-align: middle;\n",
       "    }\n",
       "\n",
       "    .dataframe tbody tr th {\n",
       "        vertical-align: top;\n",
       "    }\n",
       "\n",
       "    .dataframe thead th {\n",
       "        text-align: right;\n",
       "    }\n",
       "</style>\n",
       "<table border=\"1\" class=\"dataframe\">\n",
       "  <thead>\n",
       "    <tr style=\"text-align: right;\">\n",
       "      <th></th>\n",
       "      <th></th>\n",
       "      <th>price</th>\n",
       "      <th>bs</th>\n",
       "      <th>bsv</th>\n",
       "    </tr>\n",
       "    <tr>\n",
       "      <th>exchange</th>\n",
       "      <th>cid0</th>\n",
       "      <th></th>\n",
       "      <th></th>\n",
       "      <th></th>\n",
       "    </tr>\n",
       "  </thead>\n",
       "  <tbody>\n",
       "    <tr>\n",
       "      <th rowspan=\"2\" valign=\"top\">carbon_v1</th>\n",
       "      <th>268742-0</th>\n",
       "      <td>0.995000</td>\n",
       "      <td>b</td>\n",
       "      <td>buy-DAI @ 1.00 USDT per DAI</td>\n",
       "    </tr>\n",
       "    <tr>\n",
       "      <th>268742-1</th>\n",
       "      <td>1.005000</td>\n",
       "      <td>s</td>\n",
       "      <td>sell-DAI @ 1.00 USDT per DAI</td>\n",
       "    </tr>\n",
       "    <tr>\n",
       "      <th>sushiswap_v2</th>\n",
       "      <th>795</th>\n",
       "      <td>0.994182</td>\n",
       "      <td>bs</td>\n",
       "      <td>buy-sell-DAI @ 0.99 USDT per DAI</td>\n",
       "    </tr>\n",
       "  </tbody>\n",
       "</table>\n",
       "</div>"
      ],
      "text/plain": [
       "                          price  bs                               bsv\n",
       "exchange     cid0                                                    \n",
       "carbon_v1    268742-0  0.995000   b       buy-DAI @ 1.00 USDT per DAI\n",
       "             268742-1  1.005000   s      sell-DAI @ 1.00 USDT per DAI\n",
       "sushiswap_v2 795       0.994182  bs  buy-sell-DAI @ 0.99 USDT per DAI"
      ]
     },
     "execution_count": 76,
     "metadata": {},
     "output_type": "execute_result"
    }
   ],
   "source": [
    "pricedf.loc['DAI/USDT']"
   ]
  },
  {
   "cell_type": "markdown",
   "id": "4df71521",
   "metadata": {},
   "source": [
    "#### PEPE/WETH"
   ]
  },
  {
   "cell_type": "code",
   "execution_count": 77,
   "id": "936d2a44",
   "metadata": {
    "lines_to_next_cell": 2
   },
   "outputs": [
    {
     "data": {
      "text/html": [
       "<div>\n",
       "<style scoped>\n",
       "    .dataframe tbody tr th:only-of-type {\n",
       "        vertical-align: middle;\n",
       "    }\n",
       "\n",
       "    .dataframe tbody tr th {\n",
       "        vertical-align: top;\n",
       "    }\n",
       "\n",
       "    .dataframe thead th {\n",
       "        text-align: right;\n",
       "    }\n",
       "</style>\n",
       "<table border=\"1\" class=\"dataframe\">\n",
       "  <thead>\n",
       "    <tr style=\"text-align: right;\">\n",
       "      <th></th>\n",
       "      <th></th>\n",
       "      <th>price</th>\n",
       "      <th>bs</th>\n",
       "      <th>bsv</th>\n",
       "    </tr>\n",
       "    <tr>\n",
       "      <th>exchange</th>\n",
       "      <th>cid0</th>\n",
       "      <th></th>\n",
       "      <th></th>\n",
       "      <th></th>\n",
       "    </tr>\n",
       "  </thead>\n",
       "  <tbody>\n",
       "    <tr>\n",
       "      <th rowspan=\"3\" valign=\"top\">carbon_v1</th>\n",
       "      <th>440620-0</th>\n",
       "      <td>3.500000e-07</td>\n",
       "      <td>b</td>\n",
       "      <td>buy-PEPE @ 0.00 WETH per PEPE</td>\n",
       "    </tr>\n",
       "    <tr>\n",
       "      <th>440620-1</th>\n",
       "      <td>4.000000e-07</td>\n",
       "      <td>s</td>\n",
       "      <td>sell-PEPE @ 0.00 WETH per PEPE</td>\n",
       "    </tr>\n",
       "    <tr>\n",
       "      <th>440621-1</th>\n",
       "      <td>4.500000e-07</td>\n",
       "      <td>s</td>\n",
       "      <td>sell-PEPE @ 0.00 WETH per PEPE</td>\n",
       "    </tr>\n",
       "  </tbody>\n",
       "</table>\n",
       "</div>"
      ],
      "text/plain": [
       "                           price bs                             bsv\n",
       "exchange  cid0                                                     \n",
       "carbon_v1 440620-0  3.500000e-07  b   buy-PEPE @ 0.00 WETH per PEPE\n",
       "          440620-1  4.000000e-07  s  sell-PEPE @ 0.00 WETH per PEPE\n",
       "          440621-1  4.500000e-07  s  sell-PEPE @ 0.00 WETH per PEPE"
      ]
     },
     "execution_count": 77,
     "metadata": {},
     "output_type": "execute_result"
    }
   ],
   "source": [
    "pricedf.loc['PEPE/WETH']"
   ]
  },
  {
   "cell_type": "markdown",
   "id": "4389f380",
   "metadata": {},
   "source": [
    "#### LYXe/USDC"
   ]
  },
  {
   "cell_type": "code",
   "execution_count": 78,
   "id": "2d65191c",
   "metadata": {
    "lines_to_next_cell": 2
   },
   "outputs": [
    {
     "data": {
      "text/html": [
       "<div>\n",
       "<style scoped>\n",
       "    .dataframe tbody tr th:only-of-type {\n",
       "        vertical-align: middle;\n",
       "    }\n",
       "\n",
       "    .dataframe tbody tr th {\n",
       "        vertical-align: top;\n",
       "    }\n",
       "\n",
       "    .dataframe thead th {\n",
       "        text-align: right;\n",
       "    }\n",
       "</style>\n",
       "<table border=\"1\" class=\"dataframe\">\n",
       "  <thead>\n",
       "    <tr style=\"text-align: right;\">\n",
       "      <th></th>\n",
       "      <th></th>\n",
       "      <th>price</th>\n",
       "      <th>bs</th>\n",
       "      <th>bsv</th>\n",
       "    </tr>\n",
       "    <tr>\n",
       "      <th>exchange</th>\n",
       "      <th>cid0</th>\n",
       "      <th></th>\n",
       "      <th></th>\n",
       "      <th></th>\n",
       "    </tr>\n",
       "  </thead>\n",
       "  <tbody>\n",
       "    <tr>\n",
       "      <th>uniswap_v3</th>\n",
       "      <th>558</th>\n",
       "      <td>14.710999</td>\n",
       "      <td>bs</td>\n",
       "      <td>buy-sell-LYXe @ 14.71 USDC per LYXe</td>\n",
       "    </tr>\n",
       "    <tr>\n",
       "      <th>carbon_v1</th>\n",
       "      <th>652071-1</th>\n",
       "      <td>15.999998</td>\n",
       "      <td>s</td>\n",
       "      <td>sell-LYXe @ 16.00 USDC per LYXe</td>\n",
       "    </tr>\n",
       "  </tbody>\n",
       "</table>\n",
       "</div>"
      ],
      "text/plain": [
       "                         price  bs                                  bsv\n",
       "exchange   cid0                                                        \n",
       "uniswap_v3 558       14.710999  bs  buy-sell-LYXe @ 14.71 USDC per LYXe\n",
       "carbon_v1  652071-1  15.999998   s      sell-LYXe @ 16.00 USDC per LYXe"
      ]
     },
     "execution_count": 78,
     "metadata": {},
     "output_type": "execute_result"
    }
   ],
   "source": [
    "pricedf.loc['LYXe/USDC']"
   ]
  },
  {
   "cell_type": "markdown",
   "id": "f2f02f8e",
   "metadata": {},
   "source": [
    "#### rETH/WETH"
   ]
  },
  {
   "cell_type": "code",
   "execution_count": 79,
   "id": "a85dd079",
   "metadata": {
    "lines_to_next_cell": 2
   },
   "outputs": [
    {
     "data": {
      "text/html": [
       "<div>\n",
       "<style scoped>\n",
       "    .dataframe tbody tr th:only-of-type {\n",
       "        vertical-align: middle;\n",
       "    }\n",
       "\n",
       "    .dataframe tbody tr th {\n",
       "        vertical-align: top;\n",
       "    }\n",
       "\n",
       "    .dataframe thead th {\n",
       "        text-align: right;\n",
       "    }\n",
       "</style>\n",
       "<table border=\"1\" class=\"dataframe\">\n",
       "  <thead>\n",
       "    <tr style=\"text-align: right;\">\n",
       "      <th></th>\n",
       "      <th></th>\n",
       "      <th>price</th>\n",
       "      <th>bs</th>\n",
       "      <th>bsv</th>\n",
       "    </tr>\n",
       "    <tr>\n",
       "      <th>exchange</th>\n",
       "      <th>cid0</th>\n",
       "      <th></th>\n",
       "      <th></th>\n",
       "      <th></th>\n",
       "    </tr>\n",
       "  </thead>\n",
       "  <tbody>\n",
       "    <tr>\n",
       "      <th>sushiswap_v2</th>\n",
       "      <th>833</th>\n",
       "      <td>1.237861</td>\n",
       "      <td>bs</td>\n",
       "      <td>buy-sell-rETH @ 1.24 WETH per rETH</td>\n",
       "    </tr>\n",
       "    <tr>\n",
       "      <th>carbon_v1</th>\n",
       "      <th>903115-0</th>\n",
       "      <td>1.069000</td>\n",
       "      <td>b</td>\n",
       "      <td>buy-rETH @ 1.07 WETH per rETH</td>\n",
       "    </tr>\n",
       "  </tbody>\n",
       "</table>\n",
       "</div>"
      ],
      "text/plain": [
       "                          price  bs                                 bsv\n",
       "exchange     cid0                                                      \n",
       "sushiswap_v2 833       1.237861  bs  buy-sell-rETH @ 1.24 WETH per rETH\n",
       "carbon_v1    903115-0  1.069000   b       buy-rETH @ 1.07 WETH per rETH"
      ]
     },
     "execution_count": 79,
     "metadata": {},
     "output_type": "execute_result"
    }
   ],
   "source": [
    "pricedf.loc['rETH/WETH']"
   ]
  },
  {
   "cell_type": "markdown",
   "id": "2dc74a71",
   "metadata": {},
   "source": [
    "#### 0x0/WETH"
   ]
  },
  {
   "cell_type": "code",
   "execution_count": 80,
   "id": "f177d760",
   "metadata": {
    "lines_to_next_cell": 2
   },
   "outputs": [
    {
     "data": {
      "text/html": [
       "<div>\n",
       "<style scoped>\n",
       "    .dataframe tbody tr th:only-of-type {\n",
       "        vertical-align: middle;\n",
       "    }\n",
       "\n",
       "    .dataframe tbody tr th {\n",
       "        vertical-align: top;\n",
       "    }\n",
       "\n",
       "    .dataframe thead th {\n",
       "        text-align: right;\n",
       "    }\n",
       "</style>\n",
       "<table border=\"1\" class=\"dataframe\">\n",
       "  <thead>\n",
       "    <tr style=\"text-align: right;\">\n",
       "      <th></th>\n",
       "      <th></th>\n",
       "      <th>price</th>\n",
       "      <th>bs</th>\n",
       "      <th>bsv</th>\n",
       "    </tr>\n",
       "    <tr>\n",
       "      <th>exchange</th>\n",
       "      <th>cid0</th>\n",
       "      <th></th>\n",
       "      <th></th>\n",
       "      <th></th>\n",
       "    </tr>\n",
       "  </thead>\n",
       "  <tbody>\n",
       "    <tr>\n",
       "      <th rowspan=\"2\" valign=\"top\">carbon_v1</th>\n",
       "      <th>132277-0</th>\n",
       "      <td>0.000013</td>\n",
       "      <td>b</td>\n",
       "      <td>buy-0x0 @ 0.00 WETH per 0x0</td>\n",
       "    </tr>\n",
       "    <tr>\n",
       "      <th>132277-1</th>\n",
       "      <td>0.000014</td>\n",
       "      <td>s</td>\n",
       "      <td>sell-0x0 @ 0.00 WETH per 0x0</td>\n",
       "    </tr>\n",
       "  </tbody>\n",
       "</table>\n",
       "</div>"
      ],
      "text/plain": [
       "                       price bs                           bsv\n",
       "exchange  cid0                                               \n",
       "carbon_v1 132277-0  0.000013  b   buy-0x0 @ 0.00 WETH per 0x0\n",
       "          132277-1  0.000014  s  sell-0x0 @ 0.00 WETH per 0x0"
      ]
     },
     "execution_count": 80,
     "metadata": {},
     "output_type": "execute_result"
    }
   ],
   "source": [
    "pricedf.loc['0x0/WETH']"
   ]
  },
  {
   "cell_type": "markdown",
   "id": "3ccc972d",
   "metadata": {},
   "source": [
    "#### WBTC/USDC"
   ]
  },
  {
   "cell_type": "code",
   "execution_count": 81,
   "id": "87af0de9",
   "metadata": {
    "lines_to_next_cell": 2
   },
   "outputs": [
    {
     "data": {
      "text/html": [
       "<div>\n",
       "<style scoped>\n",
       "    .dataframe tbody tr th:only-of-type {\n",
       "        vertical-align: middle;\n",
       "    }\n",
       "\n",
       "    .dataframe tbody tr th {\n",
       "        vertical-align: top;\n",
       "    }\n",
       "\n",
       "    .dataframe thead th {\n",
       "        text-align: right;\n",
       "    }\n",
       "</style>\n",
       "<table border=\"1\" class=\"dataframe\">\n",
       "  <thead>\n",
       "    <tr style=\"text-align: right;\">\n",
       "      <th></th>\n",
       "      <th></th>\n",
       "      <th>price</th>\n",
       "      <th>bs</th>\n",
       "      <th>bsv</th>\n",
       "    </tr>\n",
       "    <tr>\n",
       "      <th>exchange</th>\n",
       "      <th>cid0</th>\n",
       "      <th></th>\n",
       "      <th></th>\n",
       "      <th></th>\n",
       "    </tr>\n",
       "  </thead>\n",
       "  <tbody>\n",
       "    <tr>\n",
       "      <th>uniswap_v2</th>\n",
       "      <th>332</th>\n",
       "      <td>29690.51548</td>\n",
       "      <td>bs</td>\n",
       "      <td>buy-sell-WBTC @ 29690.52 USDC per WBTC</td>\n",
       "    </tr>\n",
       "    <tr>\n",
       "      <th>carbon_v1</th>\n",
       "      <th>537493-0</th>\n",
       "      <td>28000.00000</td>\n",
       "      <td>b</td>\n",
       "      <td>buy-WBTC @ 28000.00 USDC per WBTC</td>\n",
       "    </tr>\n",
       "  </tbody>\n",
       "</table>\n",
       "</div>"
      ],
      "text/plain": [
       "                           price  bs                                     bsv\n",
       "exchange   cid0                                                             \n",
       "uniswap_v2 332       29690.51548  bs  buy-sell-WBTC @ 29690.52 USDC per WBTC\n",
       "carbon_v1  537493-0  28000.00000   b       buy-WBTC @ 28000.00 USDC per WBTC"
      ]
     },
     "execution_count": 81,
     "metadata": {},
     "output_type": "execute_result"
    }
   ],
   "source": [
    "pricedf.loc['WBTC/USDC']"
   ]
  },
  {
   "cell_type": "markdown",
   "id": "48c1f6d1",
   "metadata": {},
   "source": [
    "#### ARB/MATIC"
   ]
  },
  {
   "cell_type": "code",
   "execution_count": 82,
   "id": "d662140a",
   "metadata": {
    "lines_to_next_cell": 2
   },
   "outputs": [
    {
     "data": {
      "text/html": [
       "<div>\n",
       "<style scoped>\n",
       "    .dataframe tbody tr th:only-of-type {\n",
       "        vertical-align: middle;\n",
       "    }\n",
       "\n",
       "    .dataframe tbody tr th {\n",
       "        vertical-align: top;\n",
       "    }\n",
       "\n",
       "    .dataframe thead th {\n",
       "        text-align: right;\n",
       "    }\n",
       "</style>\n",
       "<table border=\"1\" class=\"dataframe\">\n",
       "  <thead>\n",
       "    <tr style=\"text-align: right;\">\n",
       "      <th></th>\n",
       "      <th></th>\n",
       "      <th>price</th>\n",
       "      <th>bs</th>\n",
       "      <th>bsv</th>\n",
       "    </tr>\n",
       "    <tr>\n",
       "      <th>exchange</th>\n",
       "      <th>cid0</th>\n",
       "      <th></th>\n",
       "      <th></th>\n",
       "      <th></th>\n",
       "    </tr>\n",
       "  </thead>\n",
       "  <tbody>\n",
       "    <tr>\n",
       "      <th rowspan=\"2\" valign=\"top\">carbon_v1</th>\n",
       "      <th>806240-0</th>\n",
       "      <td>1.507045</td>\n",
       "      <td>s</td>\n",
       "      <td>sell-ARB @ 1.51 MATIC per ARB</td>\n",
       "    </tr>\n",
       "    <tr>\n",
       "      <th>806240-1</th>\n",
       "      <td>1.428571</td>\n",
       "      <td>b</td>\n",
       "      <td>buy-ARB @ 1.43 MATIC per ARB</td>\n",
       "    </tr>\n",
       "  </tbody>\n",
       "</table>\n",
       "</div>"
      ],
      "text/plain": [
       "                       price bs                            bsv\n",
       "exchange  cid0                                                \n",
       "carbon_v1 806240-0  1.507045  s  sell-ARB @ 1.51 MATIC per ARB\n",
       "          806240-1  1.428571  b   buy-ARB @ 1.43 MATIC per ARB"
      ]
     },
     "execution_count": 82,
     "metadata": {},
     "output_type": "execute_result"
    }
   ],
   "source": [
    "pricedf.loc['ARB/MATIC']"
   ]
  },
  {
   "cell_type": "markdown",
   "id": "6b25bbcf",
   "metadata": {},
   "source": [
    "#### TSUKA/USDC"
   ]
  },
  {
   "cell_type": "code",
   "execution_count": 83,
   "id": "b1d0ac25",
   "metadata": {
    "lines_to_next_cell": 2
   },
   "outputs": [
    {
     "data": {
      "text/html": [
       "<div>\n",
       "<style scoped>\n",
       "    .dataframe tbody tr th:only-of-type {\n",
       "        vertical-align: middle;\n",
       "    }\n",
       "\n",
       "    .dataframe tbody tr th {\n",
       "        vertical-align: top;\n",
       "    }\n",
       "\n",
       "    .dataframe thead th {\n",
       "        text-align: right;\n",
       "    }\n",
       "</style>\n",
       "<table border=\"1\" class=\"dataframe\">\n",
       "  <thead>\n",
       "    <tr style=\"text-align: right;\">\n",
       "      <th></th>\n",
       "      <th></th>\n",
       "      <th>price</th>\n",
       "      <th>bs</th>\n",
       "      <th>bsv</th>\n",
       "    </tr>\n",
       "    <tr>\n",
       "      <th>exchange</th>\n",
       "      <th>cid0</th>\n",
       "      <th></th>\n",
       "      <th></th>\n",
       "      <th></th>\n",
       "    </tr>\n",
       "  </thead>\n",
       "  <tbody>\n",
       "    <tr>\n",
       "      <th>uniswap_v2</th>\n",
       "      <th>254</th>\n",
       "      <td>0.030762</td>\n",
       "      <td>bs</td>\n",
       "      <td>buy-sell-TSUKA @ 0.03 USDC per TSUKA</td>\n",
       "    </tr>\n",
       "    <tr>\n",
       "      <th>carbon_v1</th>\n",
       "      <th>017697-1</th>\n",
       "      <td>0.120000</td>\n",
       "      <td>s</td>\n",
       "      <td>sell-TSUKA @ 0.12 USDC per TSUKA</td>\n",
       "    </tr>\n",
       "  </tbody>\n",
       "</table>\n",
       "</div>"
      ],
      "text/plain": [
       "                        price  bs                                   bsv\n",
       "exchange   cid0                                                        \n",
       "uniswap_v2 254       0.030762  bs  buy-sell-TSUKA @ 0.03 USDC per TSUKA\n",
       "carbon_v1  017697-1  0.120000   s      sell-TSUKA @ 0.12 USDC per TSUKA"
      ]
     },
     "execution_count": 83,
     "metadata": {},
     "output_type": "execute_result"
    }
   ],
   "source": [
    "pricedf.loc['TSUKA/USDC']"
   ]
  },
  {
   "cell_type": "markdown",
   "id": "a34a57e1",
   "metadata": {},
   "source": [
    "#### stETH/WETH"
   ]
  },
  {
   "cell_type": "code",
   "execution_count": 84,
   "id": "57929c47",
   "metadata": {
    "lines_to_next_cell": 2
   },
   "outputs": [
    {
     "data": {
      "text/html": [
       "<div>\n",
       "<style scoped>\n",
       "    .dataframe tbody tr th:only-of-type {\n",
       "        vertical-align: middle;\n",
       "    }\n",
       "\n",
       "    .dataframe tbody tr th {\n",
       "        vertical-align: top;\n",
       "    }\n",
       "\n",
       "    .dataframe thead th {\n",
       "        text-align: right;\n",
       "    }\n",
       "</style>\n",
       "<table border=\"1\" class=\"dataframe\">\n",
       "  <thead>\n",
       "    <tr style=\"text-align: right;\">\n",
       "      <th></th>\n",
       "      <th></th>\n",
       "      <th>price</th>\n",
       "      <th>bs</th>\n",
       "      <th>bsv</th>\n",
       "    </tr>\n",
       "    <tr>\n",
       "      <th>exchange</th>\n",
       "      <th>cid0</th>\n",
       "      <th></th>\n",
       "      <th></th>\n",
       "      <th></th>\n",
       "    </tr>\n",
       "  </thead>\n",
       "  <tbody>\n",
       "    <tr>\n",
       "      <th rowspan=\"2\" valign=\"top\">carbon_v1</th>\n",
       "      <th>422914-0</th>\n",
       "      <td>1.010101</td>\n",
       "      <td>s</td>\n",
       "      <td>sell-stETH @ 1.01 WETH per stETH</td>\n",
       "    </tr>\n",
       "    <tr>\n",
       "      <th>422914-1</th>\n",
       "      <td>0.990099</td>\n",
       "      <td>b</td>\n",
       "      <td>buy-stETH @ 0.99 WETH per stETH</td>\n",
       "    </tr>\n",
       "  </tbody>\n",
       "</table>\n",
       "</div>"
      ],
      "text/plain": [
       "                       price bs                               bsv\n",
       "exchange  cid0                                                   \n",
       "carbon_v1 422914-0  1.010101  s  sell-stETH @ 1.01 WETH per stETH\n",
       "          422914-1  0.990099  b   buy-stETH @ 0.99 WETH per stETH"
      ]
     },
     "execution_count": 84,
     "metadata": {},
     "output_type": "execute_result"
    }
   ],
   "source": [
    "pricedf.loc['stETH/WETH']"
   ]
  },
  {
   "cell_type": "code",
   "execution_count": 85,
   "id": "611467c9-ca00-441d-aec4-80ff53f7f1b7",
   "metadata": {},
   "outputs": [
    {
     "ename": "RuntimeError",
     "evalue": "No active exception to reraise",
     "output_type": "error",
     "traceback": [
      "\u001b[0;31m---------------------------------------------------------------------------\u001b[0m",
      "\u001b[0;31mRuntimeError\u001b[0m                              Traceback (most recent call last)",
      "\u001b[0;32m<ipython-input-85-9c9a2cba73bf>\u001b[0m in \u001b[0;36m<module>\u001b[0;34m\u001b[0m\n\u001b[0;32m----> 1\u001b[0;31m \u001b[0;32mraise\u001b[0m\u001b[0;34m\u001b[0m\u001b[0;34m\u001b[0m\u001b[0m\n\u001b[0m",
      "\u001b[0;31mRuntimeError\u001b[0m: No active exception to reraise"
     ]
    }
   ],
   "source": [
    "raise"
   ]
  },
  {
   "cell_type": "raw",
   "id": "06bc5b2b-adaa-47cf-9a3c-3a168e267cb5",
   "metadata": {},
   "source": []
  },
  {
   "cell_type": "markdown",
   "id": "cf03072d-6304-41f8-b132-9470ae81ac7c",
   "metadata": {},
   "source": [
    "## Execution [NOTEST]"
   ]
  },
  {
   "cell_type": "markdown",
   "id": "bedb6a61-2063-49c2-88a5-9cbef0fe16dc",
   "metadata": {},
   "source": [
    "### Configuration\n",
    "\n",
    "- `flt`: flashloanable tokens\n",
    "- `loglevel`: `LL_DEBUG` , `LL_INFO` `LL_WARN` `LL_ERR`"
   ]
  },
  {
   "cell_type": "code",
   "execution_count": 13,
   "id": "c04ce51c-8dcb-48d5-ad82-59de0ec303bb",
   "metadata": {},
   "outputs": [],
   "source": [
    "flt = [T.USDC]\n",
    "C = Config.new(config=Config.CONFIG_TENDERLY, loglevel=Config.LL_INFO)"
   ]
  },
  {
   "cell_type": "code",
   "execution_count": 14,
   "id": "b59ab3d8-8bb0-482e-9dbc-cf7df085dfad",
   "metadata": {},
   "outputs": [
    {
     "ename": "NameError",
     "evalue": "name 'CarbonBot' is not defined",
     "output_type": "error",
     "traceback": [
      "\u001b[0;31m---------------------------------------------------------------------------\u001b[0m",
      "\u001b[0;31mNameError\u001b[0m                                 Traceback (most recent call last)",
      "\u001b[0;32m<ipython-input-14-e4077728cbd3>\u001b[0m in \u001b[0;36m<module>\u001b[0;34m\u001b[0m\n\u001b[0;32m----> 1\u001b[0;31m \u001b[0mbot\u001b[0m \u001b[0;34m=\u001b[0m \u001b[0mCarbonBot\u001b[0m\u001b[0;34m(\u001b[0m\u001b[0mConfigObj\u001b[0m\u001b[0;34m=\u001b[0m\u001b[0mC\u001b[0m\u001b[0;34m)\u001b[0m\u001b[0;34m\u001b[0m\u001b[0;34m\u001b[0m\u001b[0m\n\u001b[0m",
      "\u001b[0;31mNameError\u001b[0m: name 'CarbonBot' is not defined"
     ]
    }
   ],
   "source": [
    "bot = CarbonBot(ConfigObj=C)"
   ]
  },
  {
   "cell_type": "markdown",
   "id": "645a24b0-bb83-484a-8007-ad53a6c0c886",
   "metadata": {},
   "source": [
    "### Database update [Tenderly specific]"
   ]
  },
  {
   "cell_type": "code",
   "execution_count": null,
   "id": "cf93211a",
   "metadata": {},
   "outputs": [],
   "source": [
    "# provided here for convenience; must be commented out for tests\n",
    "bot.update(drop_tables=True, top_n=10, only_carbon=False)"
   ]
  },
  {
   "cell_type": "markdown",
   "id": "a8ea7fe7-26a9-45a2-ae69-4f0895d2cd00",
   "metadata": {},
   "source": [
    "### Execution"
   ]
  },
  {
   "cell_type": "code",
   "execution_count": null,
   "id": "07998b21",
   "metadata": {},
   "outputs": [],
   "source": [
    "bot.run(flashloan_tokens=flt, mode=bot.RUN_SINGLE)"
   ]
  },
  {
   "cell_type": "markdown",
   "id": "5f2f01c5",
   "metadata": {},
   "source": [
    "## Execution analysis [NOTEST]"
   ]
  },
  {
   "cell_type": "code",
   "execution_count": null,
   "id": "030aae40-4b53-44e3-866f-fc1a556fb2ec",
   "metadata": {},
   "outputs": [],
   "source": [
    "CCm = bot.get_curves()"
   ]
  },
  {
   "cell_type": "markdown",
   "id": "65dd9b5e-7178-4347-ab44-3953c9c12918",
   "metadata": {},
   "source": [
    "### Arbitrage opportunities"
   ]
  },
  {
   "cell_type": "code",
   "execution_count": null,
   "id": "1419695c",
   "metadata": {},
   "outputs": [],
   "source": [
    "ops = bot._run(flashloan_tokens=flt, CCm=CCm, result=bot.XS_ARBOPPS)\n",
    "ops"
   ]
  },
  {
   "cell_type": "markdown",
   "id": "df6d2e51-f949-4303-b3b9-b7257bcdf0c7",
   "metadata": {},
   "source": [
    "### Route struct"
   ]
  },
  {
   "cell_type": "code",
   "execution_count": null,
   "id": "5382d20f",
   "metadata": {},
   "outputs": [],
   "source": [
    "try:\n",
    "    route_struct = bot._run(flashloan_tokens=flt, CCm=CCm, result=bot.XS_ROUTE)\n",
    "except bot.NoArbAvailable as e:\n",
    "    print(f\"[NoArbAvailable] {e}\")\n",
    "    route_struct = None\n",
    "route_struct"
   ]
  },
  {
   "cell_type": "markdown",
   "id": "fcd86262-7613-4ae2-9c05-b9d57cf09015",
   "metadata": {},
   "source": [
    "### Orderering info"
   ]
  },
  {
   "cell_type": "code",
   "execution_count": null,
   "id": "fd4fb74d",
   "metadata": {},
   "outputs": [],
   "source": [
    "try:\n",
    "    ordinfo = bot._run(flashloan_tokens=flt, CCm=CCm, result=bot.XS_ORDINFO)\n",
    "    flashloan_amount = ordinfo[1]\n",
    "    flashloan_token_address = ordinfo[2]\n",
    "    print(f\"Flashloan: {flashloan_amount} [{flashloan_token_address}]\")\n",
    "except bot.NoArbAvailable as e:\n",
    "    print(f\"[NoArbAvailable] {e}\")\n",
    "    ordinfo = None\n",
    "ordinfo"
   ]
  },
  {
   "cell_type": "markdown",
   "id": "0b7f411b-de30-4306-b459-a91ebe27463a",
   "metadata": {},
   "source": [
    "## Market analysis [NOTEST]"
   ]
  },
  {
   "cell_type": "markdown",
   "id": "194445c0-a8f4-4fdf-b581-7e0159c16fc2",
   "metadata": {},
   "source": [
    "### Overall market"
   ]
  },
  {
   "cell_type": "code",
   "execution_count": null,
   "id": "b40e49c2-e76e-4f62-ba26-ce58d74b9f9f",
   "metadata": {},
   "outputs": [],
   "source": [
    "exch0 = {c.P(\"exchange\") for c in CCm}\n",
    "print(\"Number of curves:\", len(CCm))\n",
    "print(\"Number of tokens:\", len(CCm.tokens()))\n",
    "#print(\"Exchanges:\", exch0)\n",
    "print(\"---\")\n",
    "for xc in exch0:\n",
    "    print(f\"{xc+':':16} {len(CCm.byparams(exchange=xc)):4}\")"
   ]
  },
  {
   "cell_type": "markdown",
   "id": "bbd8e23e-22ed-4a73-b8a0-01efd7c917b7",
   "metadata": {},
   "source": [
    "### Pair"
   ]
  },
  {
   "cell_type": "code",
   "execution_count": null,
   "id": "ab2555e8-d1e6-4c1f-9559-9f6da7501967",
   "metadata": {},
   "outputs": [],
   "source": [
    "pair = f\"{T.ECO}/{T.USDC}\""
   ]
  },
  {
   "cell_type": "code",
   "execution_count": null,
   "id": "034d6c2b-e4ad-49e5-9c1e-a0c2613b259e",
   "metadata": {},
   "outputs": [],
   "source": [
    "CCp = CCm.bypairs(pair)\n",
    "exch = {c.P(\"exchange\") for c in CCp}\n",
    "print(\"pair:           \", pair)\n",
    "print(\"curves:         \", len(CCp))\n",
    "print(\"exchanges:      \", exch)\n",
    "for xc in exch:\n",
    "    c = CCp.byparams(exchange=xc)[0]\n",
    "    print(f\"{xc+':':16} {c.p:.4f} {1/c.p:.4f}\")"
   ]
  },
  {
   "cell_type": "markdown",
   "id": "147bdace-0eae-4172-84c7-57d9f3e65347",
   "metadata": {},
   "source": [
    "## Technical [NOTEST]"
   ]
  },
  {
   "cell_type": "markdown",
   "id": "c8476533-feb6-485d-81c2-1d26a73b75ec",
   "metadata": {},
   "source": [
    "### Validation and assertions"
   ]
  },
  {
   "cell_type": "code",
   "execution_count": null,
   "id": "c1047fbe-f34b-4d68-89d3-2ca3f5b6b66d",
   "metadata": {},
   "outputs": [],
   "source": [
    "assert C.DATABASE == C.DATABASE_POSTGRES\n",
    "assert C.POSTGRES_DB == \"tenderly\"\n",
    "assert C.NETWORK == C.NETWORK_TENDERLY\n",
    "assert C.PROVIDER == C.PROVIDER_TENDERLY\n",
    "assert str(type(bot.db)) == \"<class 'fastlane_bot.db.manager.DatabaseManager'>\"\n",
    "assert C.w3.provider.endpoint_uri.startswith(\"https://rpc.tenderly.co/fork/\")\n",
    "assert bot.db.carbon_controller.address == '0xC537e898CD774e2dCBa3B14Ea6f34C93d5eA45e1'"
   ]
  },
  {
   "cell_type": "markdown",
   "id": "40fa0667-437e-4bf5-9bf3-307699e18e1a",
   "metadata": {},
   "source": [
    "### Tenderly shell commands\n",
    "\n",
    "Run those commands in a shell if there are Tenderly connection issues"
   ]
  },
  {
   "cell_type": "code",
   "execution_count": null,
   "id": "e0ab5a46-d0eb-44c9-86b1-766a8d19e7ee",
   "metadata": {},
   "outputs": [],
   "source": [
    "C_nw = ConfigNetwork.new(network=ConfigNetwork.NETWORK_TENDERLY)\n",
    "c1, c2 = C_nw.shellcommand().splitlines()\n",
    "print(c1)\n",
    "print(c2)\n",
    "# !{c1}\n",
    "# !{c2}"
   ]
  },
  {
   "cell_type": "code",
   "execution_count": null,
   "id": "9256b243-e9f6-4fa2-9471-004d037ea8d5",
   "metadata": {},
   "outputs": [],
   "source": []
  },
  {
   "cell_type": "code",
   "execution_count": null,
   "id": "72d60757-0caf-4a31-bb3e-df7edf75f27f",
   "metadata": {},
   "outputs": [],
   "source": []
  }
 ],
 "metadata": {
  "jupytext": {
   "encoding": "# -*- coding: utf-8 -*-",
   "formats": "ipynb,py:light"
  },
  "kernelspec": {
   "display_name": "Python 3",
   "language": "python",
   "name": "python3"
  },
  "language_info": {
   "codemirror_mode": {
    "name": "ipython",
    "version": 3
   },
   "file_extension": ".py",
   "mimetype": "text/x-python",
   "name": "python",
   "nbconvert_exporter": "python",
   "pygments_lexer": "ipython3",
   "version": "3.8.8"
  }
 },
 "nbformat": 4,
 "nbformat_minor": 5
}

{
 "cells": [
  {
   "cell_type": "code",
   "execution_count": 4,
   "id": "cc40bc23-abde-4094-abec-419f0a7fa81e",
   "metadata": {},
   "outputs": [
    {
     "name": "stdout",
     "output_type": "stream",
     "text": [
      "ConstantProductCurve v2.6.2 (19/Apr/2023)\n",
      "CPCArbOptimizer v3.5-beta1 (22/Apr/2023)\n",
      "running from fastlane_bot\n"
     ]
    }
   ],
   "source": [
    "from carbon.tools.cpc import ConstantProductCurve as CPC, CPCContainer, T, CPCInverter\n",
    "from carbon.tools.optimizer import CPCArbOptimizer, F\n",
    "import carbon.tools.tokenscale as ts\n",
    "# plt.style.use('seaborn-dark')\n",
    "# plt.rcParams['figure.figsize'] = [12,6]\n",
    "print(\"{0.__name__} v{0.__VERSION__} ({0.__DATE__})\".format(CPC))\n",
    "print(\"{0.__name__} v{0.__VERSION__} ({0.__DATE__})\".format(CPCArbOptimizer))\n",
    "try:\n",
    "    from carbon.helpers.stdimports import *\n",
    "    print_version(require=\"2.4.2\")\n",
    "except:\n",
    "    print (\"running from fastlane_bot\")"
   ]
  },
  {
   "cell_type": "markdown",
   "id": "f0809d04-b155-474a-a918-63026d12c95e",
   "metadata": {},
   "source": [
    "Note: for testing inside the fastlane bot, run `ln -s ../fastlane_bot carbon`"
   ]
  },
  {
   "cell_type": "markdown",
   "id": "b3f59f14-b91b-4dba-94b0-3d513aaf41c7",
   "metadata": {},
   "source": [
    "# CPC and Optimizer in Fastlane [NBTest063b]"
   ]
  },
  {
   "cell_type": "code",
   "execution_count": null,
   "id": "c9c9fa8b-b7be-4381-a4e1-4a2f60a08c14",
   "metadata": {},
   "outputs": [],
   "source": [
    "try:\n",
    "    df = pd.read_csv(\"NBTEST_063_Curves.csv.gz\")\n",
    "except:\n",
    "    df = pd.read_csv(\"carbon/tests/nbtest_data/NBTEST_063_Curves.csv.gz\")\n",
    "CCmarket = CPCContainer.from_df(df)"
   ]
  },
  {
   "cell_type": "markdown",
   "id": "f338198f-370f-4d51-9f0d-dec2af191c1a",
   "metadata": {},
   "source": [
    "## P"
   ]
  },
  {
   "cell_type": "code",
   "execution_count": null,
   "id": "214e8e25-2139-4755-aea7-4db9c136be77",
   "metadata": {},
   "outputs": [],
   "source": [
    "c = CPC.from_pk(pair=\"USDC/WETH\", p=1, k=100, params=dict(exchange=\"univ3\", a=dict(b=1, c=2)))\n",
    "assert c.P(\"exchange\") == \"univ3\"\n",
    "assert c.P(\"a\") == {'b': 1, 'c': 2}\n",
    "assert c.P(\"a:b\") == 1\n",
    "assert c.P(\"a:c\") == 2\n",
    "assert c.P(\"a:d\") is None\n",
    "assert c.P(\"b\") is None\n",
    "assert c.P(\"b\", \"meh\") == \"meh\""
   ]
  },
  {
   "cell_type": "markdown",
   "id": "6fab917d-113a-407f-9c2e-c5bec9fcaa5b",
   "metadata": {},
   "source": [
    "## TVL"
   ]
  },
  {
   "cell_type": "code",
   "execution_count": null,
   "id": "4055cb6e-5fda-4970-87dd-c201b706a993",
   "metadata": {},
   "outputs": [],
   "source": [
    "c = CPC.from_pk(pair=\"WETH/USDC\", p=2000, k=1*2000)\n",
    "assert c.tvl(incltkn=True) == (4000.0, 'USDC', 1)\n",
    "assert c.tvl(\"USDC\", incltkn=True) == (4000.0, 'USDC', 1)\n",
    "assert c.tvl(\"WETH\", incltkn=True) == (2.0, 'WETH', 1)\n",
    "assert c.tvl(\"USDC\", incltkn=True, mult=2) == (8000.0, 'USDC', 2)\n",
    "assert c.tvl(\"WETH\", incltkn=True, mult=2) == (4.0, 'WETH', 2)\n",
    "assert c.tvl(\"WETH\", incltkn=False) == 2.0\n",
    "assert c.tvl(\"WETH\") == 2.0\n",
    "assert c.tvl() == 4000\n",
    "assert c.tvl(\"WETH\", mult=2000) == 4000"
   ]
  },
  {
   "cell_type": "markdown",
   "id": "26d538f0-072f-4d07-b701-2b98b2e65ec4",
   "metadata": {},
   "source": [
    "## estimate prices"
   ]
  },
  {
   "cell_type": "code",
   "execution_count": null,
   "id": "726a4312-33d3-4ff3-b7f6-951877ddf8d8",
   "metadata": {},
   "outputs": [],
   "source": [
    "CC = CPCContainer()\n",
    "CC += [CPC.from_univ3(pair=\"WETH/USDC\", cid=\"uv3\", fee=0, descr=\"\",\n",
    "                     uniPa=2000, uniPb=2010, Pmarg=2005, uniL=10*sqrt(2000))]\n",
    "CC += [CPC.from_pk(pair=\"WETH/USDC\", cid=\"uv2\", fee=0, descr=\"\",\n",
    "                     p=1950, k=5**2*2000)]\n",
    "CC += [CPC.from_pk(pair=\"USDC/WETH\", cid=\"uv2r\", fee=0, descr=\"\",\n",
    "                     p=1/1975, k=5**2*2000)]\n",
    "CC += [CPC.from_carbon(pair=\"WETH/USDC\", cid=\"carb\", fee=0, descr=\"\",\n",
    "                     tkny=\"USDC\", yint=1000, y=1000, pa=1850, pb=1750)]\n",
    "CC += [CPC.from_carbon(pair=\"WETH/USDC\", cid=\"carb\", fee=0, descr=\"\",\n",
    "                     tkny=\"WETH\", yint=1, y=0, pb=1/1850, pa=1/1750)]\n",
    "CC += [CPC.from_carbon(pair=\"WETH/USDC\", cid=\"carb\", fee=0, descr=\"\",\n",
    "                     tkny=\"USDC\", yint=1000, y=500, pa=1870, pb=1710)]\n",
    "#CC.plot()"
   ]
  },
  {
   "cell_type": "code",
   "execution_count": null,
   "id": "63150090-e540-4e8b-8195-628dc2e6bb48",
   "metadata": {},
   "outputs": [],
   "source": [
    "assert CC.price_estimate(tknq=T.WETH, tknb=T.USDC, result=CC.PE_PAIR) == f\"{T.USDC}/{T.WETH}\"\n",
    "assert CC.price_estimate(pair=f\"{T.USDC}/{T.WETH}\", result=CC.PE_PAIR) == f\"{T.USDC}/{T.WETH}\"\n",
    "assert raises(CC.price_estimate, tknq=\"a\", result=CC.PE_PAIR)\n",
    "assert raises(CC.price_estimate, tknb=\"a\", result=CC.PE_PAIR)\n",
    "assert raises(CC.price_estimate, tknq=\"a\", tknb=\"b\", pair=\"a/b\", result=CC.PE_PAIR)\n",
    "assert raises(CC.price_estimate, pair=\"ab\", result=CC.PE_PAIR)\n",
    "assert CC.price_estimates(tknqs=[T.WETH], tknbs=[T.USDC], pairs=True, \n",
    "                          unwrapsingle=False)[0][0] == f\"{T.USDC}/{T.WETH}\"\n",
    "assert CC.price_estimates(tknqs=[T.WETH], tknbs=[T.USDC], pairs=True, \n",
    "                          unwrapsingle=True)[0] == f\"{T.USDC}/{T.WETH}\"\n",
    "assert CC.price_estimates(tknqs=[T.WETH], tknbs=[T.USDC], pairs=True)[0] == f\"{T.USDC}/{T.WETH}\"\n",
    "r = CC.price_estimates(tknqs=list(\"ABC\"), tknbs=list(\"DEFG\"), pairs=True)\n",
    "assert r.ndim == 2\n",
    "assert r.shape == (3,4)\n",
    "r = CC.price_estimates(tknqs=list(\"A\"), tknbs=list(\"DEFG\"), pairs=True)\n",
    "assert r.ndim == 1\n",
    "assert r.shape == (4,)"
   ]
  },
  {
   "cell_type": "code",
   "execution_count": null,
   "id": "2e133f34-3769-4bfe-9a01-cb06cf574ed0",
   "metadata": {},
   "outputs": [],
   "source": [
    "assert CC[0].at_boundary == False\n",
    "assert CC[1].at_boundary == False\n",
    "assert CC[2].at_boundary == False\n",
    "assert CC[3].at_boundary == True\n",
    "assert CC[3].at_xmin == True\n",
    "assert CC[3].at_ymin == False\n",
    "assert CC[3].at_xmax == False\n",
    "assert CC[3].at_ymax == True\n",
    "assert CC[4].at_boundary == True\n",
    "assert CC[4].at_ymin == True\n",
    "assert CC[4].at_xmin == True\n",
    "assert CC[4].at_ymax == True\n",
    "assert CC[4].at_xmax == True\n",
    "assert CC[5].at_boundary == True"
   ]
  },
  {
   "cell_type": "code",
   "execution_count": null,
   "id": "bb1d6cbc-c555-4050-bfe8-a527b4993f0d",
   "metadata": {},
   "outputs": [],
   "source": [
    "r = CC.price_estimate(tknq=\"USDC\", tknb=\"WETH\", result=CC.PE_CURVES)\n",
    "assert len(r)==3"
   ]
  },
  {
   "cell_type": "code",
   "execution_count": null,
   "id": "b791befd-634c-4f42-8ec3-63bdc3310d8c",
   "metadata": {},
   "outputs": [],
   "source": [
    "p,w = CC.price_estimate(tknq=\"USDC\", tknb=\"WETH\", result=CC.PE_DATA)\n",
    "assert len(p) == len(r)\n",
    "assert len(w) == len(r)\n",
    "assert iseq(sum(p), 5930)\n",
    "assert iseq(sum(w), 894.4271909999159)\n",
    "pe = CC.price_estimate(tknq=\"USDC\", tknb=\"WETH\")\n",
    "assert pe == np.average(p, weights=w)"
   ]
  },
  {
   "cell_type": "code",
   "execution_count": null,
   "id": "a5a39b7a-2588-432f-a01b-52a2ebed9952",
   "metadata": {},
   "outputs": [],
   "source": [
    "O = CPCArbOptimizer(CC)\n",
    "Om = CPCArbOptimizer(CCmarket)\n",
    "assert O.price_estimates(tknq=\"USDC\", tknbs=[\"WETH\"]) == CC.price_estimates(tknqs=[\"USDC\"], tknbs=[\"WETH\"])\n",
    "CCmarket.fp(onein=\"USDC\")\n",
    "r = Om.price_estimates(tknq=\"USDC\", tknbs=[\"WETH\", \"WBTC\"])\n",
    "assert iseq(r[0],  1820.89875275)\n",
    "assert iseq(r[1],  28351.08150121)"
   ]
  },
  {
   "cell_type": "markdown",
   "id": "c4ff4500-d5da-4b40-aa9d-bc4d7f9b6476",
   "metadata": {},
   "source": [
    "## price estimates in optimizer"
   ]
  },
  {
   "cell_type": "code",
   "execution_count": null,
   "id": "79f9312c-99c0-43be-91f1-c9b09faab243",
   "metadata": {},
   "outputs": [],
   "source": [
    "prices = {\"USDC\":1, \"LINK\": 5, \"AAVE\": 100, \"MKR\": 500, \"WETH\": 2000, \"WBTC\": 20000}\n",
    "CCfm, ctr = CPCContainer(), 0\n",
    "for tknb, pb in prices.items():\n",
    "    for tknq, pq in prices.items():\n",
    "        if pb>pq:\n",
    "            pair = f\"{tknb}/{tknq}\"\n",
    "            pp = pb/pq\n",
    "            k = (100000)**2/(pb*pq)\n",
    "            CCfm  += CPC.from_pk(p=pp, k=k, pair=pair, cid = f\"mkt-{ctr}\")\n",
    "            ctr += 1"
   ]
  },
  {
   "cell_type": "code",
   "execution_count": null,
   "id": "857cb1a7-fb00-442b-8380-30699c198668",
   "metadata": {},
   "outputs": [],
   "source": [
    "O = CPCArbOptimizer(CCfm)\n",
    "assert O.MO_PSTART == O.MO_P\n",
    "tknq = \"WETH\"\n",
    "df = O.margp_optimizer(tknq, result=O.MO_PSTART)\n",
    "rd = df[tknq].to_dict()\n",
    "assert len(df) == len(prices)-1\n",
    "assert df.columns[0] == tknq\n",
    "assert df.index.name == \"tknb\"\n",
    "assert rd == {k:v/prices[tknq] for k,v in prices.items() if k!=tknq}\n",
    "df2 = O.margp_optimizer(tknq, result=O.MO_PSTART, params=dict(pstart=df))\n",
    "assert np.all(df == df2)\n",
    "df2 = O.margp_optimizer(tknq, result=O.MO_PSTART, params=dict(pstart=rd))\n",
    "assert np.all(df == df2)\n",
    "df"
   ]
  },
  {
   "cell_type": "markdown",
   "id": "8a3ad132-3561-478a-8a0f-359456129157",
   "metadata": {},
   "source": [
    "## Assertions and testing"
   ]
  },
  {
   "cell_type": "code",
   "execution_count": null,
   "id": "62e862d3-c3a9-4be1-9417-4c0ba5a747a2",
   "metadata": {},
   "outputs": [],
   "source": [
    "c = CPC.from_px(p=2000,x=10, pair=\"ETH/USDC\")\n",
    "assert c.pair == \"ETH/USDC\"\n",
    "assert c.tknb == c.pair.split(\"/\")[0]\n",
    "assert c.tknx == c.tknb\n",
    "assert c.tknq == c.pair.split(\"/\")[1]\n",
    "assert c.tkny == c.tknq\n",
    "assert f\"{c.tknb}/{c.tknq}\" == c.pair\n",
    "print (c.descr)"
   ]
  },
  {
   "cell_type": "code",
   "execution_count": null,
   "id": "995f92a6-234b-4c3c-a19b-e08b81911e42",
   "metadata": {},
   "outputs": [],
   "source": [
    "c = CPC.from_xy(10,20)\n",
    "assert c == CPC.from_kx(c.k, c.x)\n",
    "assert c == CPC.from_ky(c.k, c.y)\n",
    "assert c == CPC.from_xy(c.x, c.y)\n",
    "assert c == CPC.from_pk(c.p, c.k)\n",
    "assert c == CPC.from_px(c.p, c.x)\n",
    "assert c == CPC.from_py(c.p, c.y)"
   ]
  },
  {
   "cell_type": "code",
   "execution_count": null,
   "id": "64f10130-a8db-4275-8221-5b137ad35e33",
   "metadata": {},
   "outputs": [],
   "source": [
    "c"
   ]
  },
  {
   "cell_type": "code",
   "execution_count": null,
   "id": "c43fcf25-1ece-4781-9a74-6c33e5401663",
   "metadata": {},
   "outputs": [],
   "source": [
    "c = CPC.from_px(p=2, x=100, x_act=10, y_act=20)\n",
    "assert c.y_max*c.x_min == c.k\n",
    "assert c.x_max*c.y_min == c.k\n",
    "assert c.p_min == c.y_min / c.x_max\n",
    "assert c.p_max == c.y_max / c.x_min\n",
    "assert c.p_max >= c.p_min"
   ]
  },
  {
   "cell_type": "code",
   "execution_count": null,
   "id": "98e31562-6fdc-4ab3-864e-215360b4793e",
   "metadata": {},
   "outputs": [],
   "source": [
    "c = CPC.from_px(p=2, x=100, x_act=10, y_act=20)\n",
    "e = 1e-5\n",
    "assert 95*c.yfromx_f(x=95) == c.k\n",
    "assert 105*c.yfromx_f(x=105) == c.k\n",
    "assert 190*c.xfromy_f(y=190) == c.k\n",
    "assert 210*c.xfromy_f(y=210) == c.k\n",
    "assert not c.yfromx_f(x=90) is None\n",
    "assert c.yfromx_f(x=90-e) is None\n",
    "assert not c.xfromy_f(y=180) is None\n",
    "assert c.xfromy_f(y=180-e) is None\n",
    "assert c.dyfromdx_f(dx=-5)\n",
    "assert (c.y+c.dyfromdx_f(dx=-5))*(c.x-5) == c.k\n",
    "assert (c.y+c.dyfromdx_f(dx=+5))*(c.x+5) == c.k\n",
    "assert (c.x+c.dxfromdy_f(dy=-5))*(c.y-5) == c.k\n",
    "assert (c.x+c.dxfromdy_f(dy=+5))*(c.y+5) == c.k"
   ]
  },
  {
   "cell_type": "code",
   "execution_count": null,
   "id": "203a97ff-9590-4d4c-b2fe-fa6d32a50e74",
   "metadata": {},
   "outputs": [],
   "source": [
    "c = CPC.from_pkpp(p=100, k=100)\n",
    "assert c.p_min == 100\n",
    "assert c.p_max == 100\n",
    "assert c.p == 100\n",
    "assert c.k == 100"
   ]
  },
  {
   "cell_type": "code",
   "execution_count": null,
   "id": "1aef1862",
   "metadata": {},
   "outputs": [],
   "source": [
    "c = CPC.from_pkpp(p=100, k=100, p_min=80, p_max=120)\n",
    "assert c.p_min == 80\n",
    "assert iseq(c.p_max, 120)\n",
    "assert c.p == 100\n",
    "assert c.k == 100"
   ]
  },
  {
   "cell_type": "markdown",
   "id": "144c35ee-a90c-4e84-908f-80bb40f8646b",
   "metadata": {},
   "source": [
    "## iseq"
   ]
  },
  {
   "cell_type": "code",
   "execution_count": null,
   "id": "296f2f37-f1c9-4ecf-82d7-fb86d9871c94",
   "metadata": {},
   "outputs": [],
   "source": [
    "assert iseq(\"a\", \"a\", \"ab\") == False\n",
    "assert iseq(\"a\", \"a\", \"a\")\n",
    "assert iseq(1.0, 1, 1.0)\n",
    "assert iseq(0,0)\n",
    "assert iseq(0,1e-10)\n",
    "assert iseq(0,1e-5) == False\n",
    "assert iseq(1, 1.00001) == False\n",
    "assert iseq(1, 1.000001)\n",
    "assert iseq(1, 1.000001, eps=1e-7) == False\n",
    "assert iseq(\"1\", 1) == False"
   ]
  },
  {
   "cell_type": "markdown",
   "id": "b7909e99-0634-4e44-ba98-58211e29d44a",
   "metadata": {},
   "source": [
    "## CarbonOrderUI integration"
   ]
  },
  {
   "cell_type": "code",
   "execution_count": null,
   "id": "35320166-5a3c-4acf-97ed-a1de4c5f7852",
   "metadata": {},
   "outputs": [],
   "source": [
    "o = CarbonOrderUI.from_prices(\"ETH/USDC\", \"ETH\", 2500, 3000, 10, 10)\n",
    "c = o.as_cpc\n",
    "assert o.pair.slashpair == \"ETH/USDC\"\n",
    "assert o.tkn == \"ETH\"\n",
    "assert o.p_start == 2500\n",
    "assert o.p_end == 3000\n",
    "assert o.p_marg == 2500\n",
    "assert o.y == 10\n",
    "assert o.yint == 10\n",
    "assert c.pair == o.pair.slashpair\n",
    "assert c.tknb == o.pair.tknb\n",
    "assert c.tknq == o.pair.tknq\n",
    "assert c.x_act == o.y\n",
    "assert c.y_act == 0\n",
    "assert iseq(o.p_start, c.p, c.p_min)\n",
    "assert iseq(o.p_end, c.p_max)"
   ]
  },
  {
   "cell_type": "code",
   "execution_count": null,
   "id": "38296d00-a691-486a-a44c-62e49d478f40",
   "metadata": {},
   "outputs": [],
   "source": [
    "o = CarbonOrderUI.from_prices(\"ETH/USDC\", \"USDC\", 1500, 1000, 1000, 1000)\n",
    "c = o.as_cpc\n",
    "assert o.pair.slashpair == \"ETH/USDC\"\n",
    "assert o.tkn == \"USDC\"\n",
    "assert o.p_start == 1500\n",
    "assert o.p_end == 1000\n",
    "assert o.p_marg == 1500\n",
    "assert o.y == 1000\n",
    "assert o.yint == 1000\n",
    "assert c.pair == o.pair.slashpair\n",
    "assert c.tknb == o.pair.tknb\n",
    "assert c.tknq == o.pair.tknq\n",
    "assert c.x_act == 0\n",
    "assert c.y_act == o.y\n",
    "assert iseq(o.p_start, c.p, c.p_max)\n",
    "assert iseq(o.p_end, c.p_min)"
   ]
  },
  {
   "cell_type": "code",
   "execution_count": null,
   "id": "8a507163-2d5a-4eef-8614-9482c898fa48",
   "metadata": {},
   "outputs": [],
   "source": [
    "o = CarbonOrderUI.from_prices(\"ETH/USDC\", \"ETH\", 2500, 3000, 10, 7)\n",
    "c = o.as_cpc\n",
    "assert o.y == 7\n",
    "assert iseq(c.x_act, o.y)\n",
    "assert iseq(c.y_act, 0)\n",
    "assert iseq(o.p_marg, c.p, c.p_min)\n",
    "assert iseq(o.p_end, c.p_max)"
   ]
  },
  {
   "cell_type": "code",
   "execution_count": null,
   "id": "8c7098b7-a78d-4401-b2c3-2901ee481b24",
   "metadata": {},
   "outputs": [],
   "source": [
    "o = CarbonOrderUI.from_prices(\"ETH/USDC\", \"USDC\", 1500, 1000, 1000, 700)\n",
    "c = o.as_cpc\n",
    "assert o.y == 700\n",
    "assert iseq(c.x_act, 0)\n",
    "assert iseq(c.y_act, o.y)\n",
    "assert iseq(o.p_marg, c.p, c.p_max)\n",
    "assert iseq(o.p_end, c.p_min)"
   ]
  },
  {
   "cell_type": "markdown",
   "id": "d714ef31-80b1-4822-a004-cfe10c88f391",
   "metadata": {},
   "source": [
    "## New CPC features in v2"
   ]
  },
  {
   "cell_type": "code",
   "execution_count": null,
   "id": "d740b68f-c9b1-48e4-9dd5-d5cce4cf6d29",
   "metadata": {},
   "outputs": [],
   "source": [
    "p = CPCContainer.Pair(\"ETH/USDC\")\n",
    "assert str(p) == \"ETH/USDC\"\n",
    "assert p.pair == str(p)\n",
    "assert p.tknx == \"ETH\"\n",
    "assert p.tkny == \"USDC\"\n",
    "assert p.tknb == \"ETH\"\n",
    "assert p.tknq == \"USDC\"\n",
    "\n",
    "pp = CPCContainer.Pair.wrap([\"ETH/USDC\", \"WBTC/ETH\"])\n",
    "assert len(pp) == 2\n",
    "assert pp[0].pair == \"ETH/USDC\"\n",
    "assert pp[1].pair == \"WBTC/ETH\"\n",
    "assert pp[0].unwrap(pp) == ('ETH/USDC', 'WBTC/ETH')"
   ]
  },
  {
   "cell_type": "code",
   "execution_count": null,
   "id": "e53c1601-0a25-4d27-882a-ed39324937c9",
   "metadata": {},
   "outputs": [],
   "source": [
    "pairs = [\"A\", \"B\", \"C\"]\n",
    "assert CPCContainer.pairset(\", \".join(pairs)) == set(pairs)\n",
    "assert CPCContainer.pairset(pairs) == set(pairs)\n",
    "assert CPCContainer.pairset(tuple(pairs)) == set(pairs)\n",
    "assert CPCContainer.pairset(p for p in pairs) == set(pairs)"
   ]
  },
  {
   "cell_type": "code",
   "execution_count": null,
   "id": "cc3ef889-d1fc-447c-b888-f26e2db3cdf0",
   "metadata": {},
   "outputs": [],
   "source": [
    "pairs = [f\"{a}/{b}\" for a in [\"ETH\", \"USDC\", \"DAI\"] for b in [\"DAI\", \"WBTC\", \"LINK\", \"ETH\"] if a!=b]\n",
    "CC = CPCContainer()\n",
    "fp = lambda **cond: CC.filter_pairs(pairs=pairs, **cond)\n",
    "assert fp(bothin=\"ETH, USDC, DAI\") == {'DAI/ETH', 'ETH/DAI', 'USDC/DAI', 'USDC/ETH'}\n",
    "assert fp(onein=\"WBTC\") == {'DAI/WBTC', 'ETH/WBTC', 'USDC/WBTC'}\n",
    "assert fp(onein=\"ETH\") == fp(contains=\"ETH\")\n",
    "assert fp(notin=\"WBTC, ETH, DAI\") == {'USDC/LINK'}\n",
    "assert fp(tknbin=\"WBTC\") == set()\n",
    "assert fp(tknqin=\"WBTC\") == {'DAI/WBTC', 'ETH/WBTC', 'USDC/WBTC'}\n",
    "assert fp(tknbnotin=\"WBTC\") == set(pairs)\n",
    "assert fp(tknbnotin=\"WBTC, ETH, DAI\") == {'USDC/DAI', 'USDC/ETH', 'USDC/LINK', 'USDC/WBTC'}\n",
    "assert fp(notin_0=\"WBTC\", notin_1=\"DAI\") == fp(notin=\"WBTC, DAI\")\n",
    "assert fp(onein = \"ETH\") == fp(anyall=CC.FP_ANY, tknbin=\"ETH\", tknqin=\"ETH\")"
   ]
  },
  {
   "cell_type": "code",
   "execution_count": null,
   "id": "4712130e-aa86-4de2-9549-deadfd9e48a9",
   "metadata": {},
   "outputs": [],
   "source": [
    "P = CPCContainer.Pair\n",
    "ETHUSDC = P(\"ETH/USDC\")\n",
    "USDCETH = P(ETHUSDC.pairr)\n",
    "assert ETHUSDC.pair == \"ETH/USDC\"\n",
    "assert ETHUSDC.pairr == \"USDC/ETH\"\n",
    "assert USDCETH.pairr == \"ETH/USDC\"\n",
    "assert USDCETH.pair == \"USDC/ETH\"\n",
    "assert ETHUSDC.isprimary\n",
    "assert not USDCETH.isprimary\n",
    "assert ETHUSDC.primary == ETHUSDC.pair\n",
    "assert ETHUSDC.secondary == ETHUSDC.pairr\n",
    "assert USDCETH.primary == USDCETH.pairr\n",
    "assert USDCETH.secondary == USDCETH.pair\n",
    "assert ETHUSDC.primary == USDCETH.primary\n",
    "assert ETHUSDC.secondary == USDCETH.secondary"
   ]
  },
  {
   "cell_type": "code",
   "execution_count": null,
   "id": "c7a8a1e7-3437-4c08-a9d5-fc962413ef35",
   "metadata": {},
   "outputs": [],
   "source": [
    "assert P(\"BTC/ETH\").isprimary\n",
    "assert P(\"WBTC/ETH\").isprimary\n",
    "assert P(\"BTC/WETH\").isprimary\n",
    "assert P(\"WBTC/ETH\").isprimary\n",
    "assert P(\"BTC/USDC\").isprimary\n",
    "assert P(\"XYZ/USDC\").isprimary\n",
    "assert P(\"XYZ/USDT\").isprimary"
   ]
  },
  {
   "cell_type": "markdown",
   "id": "d124a181-1a00-4b7e-927b-a43798fdda01",
   "metadata": {},
   "source": [
    "## Real data and retrieval of curves"
   ]
  },
  {
   "cell_type": "code",
   "execution_count": null,
   "id": "6c3217ab-ff79-45d4-9ea2-e314a782018a",
   "metadata": {},
   "outputs": [],
   "source": [
    "try:\n",
    "    df = pd.read_csv(\"NBTEST_063_Curves.csv.gz\")\n",
    "except:\n",
    "    df = pd.read_csv(\"carbon/tests/nbtest_data/NBTEST_063_Curves.csv.gz\")\n",
    "CC = CPCContainer.from_df(df)\n",
    "assert len(CC) == 459\n",
    "assert len(CC) == len(df)\n",
    "assert len(CC.pairs()) == 326\n",
    "assert len(CC.tokens()) == 141\n",
    "assert CC.tokens_s\n",
    "assert CC.tokens_s()[:60] == '1INCH,1ONE,AAVE,ALCX,ALEPH,ALPHA,AMP,ANKR,ANT,APW,ARCONA,ARM'\n",
    "print(\"Num curves:\", len(CC))\n",
    "print(\"Num pairs:\", len(CC.pairs()))\n",
    "print(\"Num tokens:\", len(CC.tokens()))\n",
    "#print(CC.tokens_s())"
   ]
  },
  {
   "cell_type": "code",
   "execution_count": null,
   "id": "847858b9-cd03-4c47-8cc7-6b03197361af",
   "metadata": {},
   "outputs": [],
   "source": [
    "assert CC.bypairs(CC.fp(onein=\"WETH, WBTC\")) == CC.bypairs(CC.fp(onein=\"WETH, WBTC\"), asgenerator=False)\n",
    "assert len(CC.bypairs(CC.fp(onein=\"WETH, WBTC\"))) == 254\n",
    "assert len(CC.bypairs(CC.fp(onein=\"WETH, WBTC\"), ascc=True)) == 254\n",
    "CC1 = CC.bypairs(CC.fp(onein=\"WBTC\"), ascc=True)\n",
    "assert len(CC1) == 29\n",
    "cids = [c.cid for c in CC.bypairs(CC.fp(onein=\"WBTC\"))]\n",
    "assert len(cids) == len(CC1)\n",
    "assert CC.bycid(\"bla\") is None\n",
    "assert not CC.bycid(191) is None\n",
    "assert raises(CC.bycids, [\"bla\"])\n",
    "assert len(CC.bycids(cids)) == len(cids)\n",
    "assert len(CC.bytknx(\"WETH\")) == 46\n",
    "assert len(CC.bytkny(\"WETH\")) == 181\n",
    "assert len(CC.bytknys(\"WETH\")) == len(CC.bytkny(\"WETH\"))\n",
    "assert len(CC.bytknxs(\"USDC, USDT\")) == 41\n",
    "assert len(CC.bytknxs([\"USDC\", \"USDT\"])) == len(CC.bytknxs(\"USDC, USDT\"))\n",
    "assert len(CC.bytknys([\"USDC\", \"USDT\"])) == len(CC.bytknys({\"USDC\", \"USDT\"}))\n",
    "cs = CC.bytknx(\"WETH\", asgenerator=True)\n",
    "assert raises(len, cs)\n",
    "assert len(tuple(cs)) == 46\n",
    "assert len(tuple(cs)) == 0  # generator empty"
   ]
  },
  {
   "cell_type": "code",
   "execution_count": null,
   "id": "6f7ba5cb-b622-4c95-a28d-b14a94cd80dd",
   "metadata": {},
   "outputs": [],
   "source": [
    "CC2 = CC.bypairs(CC.fp(bothin=\"USDC, DAI, BNT, SHIB, ETH, AAVE, LINK\"), ascc=True)\n",
    "tt = CC2.tokentable()\n",
    "assert tt[\"ETH\"].x == []\n",
    "assert tt[\"ETH\"].y == [0]\n",
    "assert tt[\"DAI\"].x == [1,4,8]\n",
    "assert tt[\"DAI\"].y == [3,6]\n",
    "tt"
   ]
  },
  {
   "cell_type": "code",
   "execution_count": null,
   "id": "306765a9-831f-4c9a-a744-f77dde76319a",
   "metadata": {},
   "outputs": [],
   "source": [
    "assert CC2.tknxs() == {'AAVE', 'BNT', 'DAI', 'LINK'}\n",
    "assert CC2.tknxl() == ['BNT', 'DAI', 'LINK', 'LINK', 'DAI', 'LINK', 'LINK', 'AAVE', 'DAI']\n",
    "assert set(CC2.tknxl()) == CC2.tknxs() \n",
    "assert set(CC2.tknyl()) == CC2.tknys() \n",
    "assert len(CC2.tknxl()) == len(CC2.tknyl())\n",
    "assert len(CC2.tknxl()) == len(CC2)"
   ]
  },
  {
   "cell_type": "markdown",
   "id": "0ab3291a-4cb6-4eec-9e49-9ed6f66af8fd",
   "metadata": {},
   "source": [
    "## TokenScale tests"
   ]
  },
  {
   "cell_type": "code",
   "execution_count": null,
   "id": "94cccc37-4ff3-48b8-8c93-35a1a7e54e4e",
   "metadata": {},
   "outputs": [],
   "source": [
    "TSB = ts.TokenScaleBase()\n",
    "assert raises (TSB.scale,\"ETH\")\n",
    "assert TSB.DEFAULT_SCALE == 1e-2"
   ]
  },
  {
   "cell_type": "code",
   "execution_count": null,
   "id": "4ecbab8f-d3c7-4b87-b5d7-e9fd2c1696bb",
   "metadata": {},
   "outputs": [],
   "source": [
    "TS = ts.TokenScale.from_tokenscales(USDC=1e0, ETH=1e3, BTC=1e4)\n",
    "TS"
   ]
  },
  {
   "cell_type": "code",
   "execution_count": null,
   "id": "4aca841e-1f12-4e03-a69c-4a4cd93a04b7",
   "metadata": {},
   "outputs": [],
   "source": [
    "assert TS(\"USDC\") == 1\n",
    "assert TS(\"ETH\") == 1000\n",
    "assert TS(\"BTC\") == 10000\n",
    "assert TS(\"MEH\") == TS.DEFAULT_SCALE"
   ]
  },
  {
   "cell_type": "code",
   "execution_count": null,
   "id": "2b3bb6c6-e6a2-4ee4-b7f8-e9a20b90db74",
   "metadata": {},
   "outputs": [],
   "source": [
    "TSD = ts.TokenScaleData"
   ]
  },
  {
   "cell_type": "code",
   "execution_count": null,
   "id": "f114c5b4-4368-4aab-a989-7e7622c2e21d",
   "metadata": {},
   "outputs": [],
   "source": [
    "tknset = {'AAVE', 'BNT', 'BTC', 'ETH', 'LINK', 'USDC', 'USDT', 'WBTC', 'WETH'}\n",
    "assert tknset - set(TSD.scale_dct.keys()) == set()"
   ]
  },
  {
   "cell_type": "code",
   "execution_count": null,
   "id": "a2fe0e43-627c-4234-969b-8b0df4e39e27",
   "metadata": {},
   "outputs": [],
   "source": [
    "cc1 = CPC.from_xy(x=10, y=20000, pair=\"ETH/USDC\")\n",
    "assert cc1.tokenscale is cc1.TOKENSCALE\n",
    "assert cc1.tknx == \"ETH\"\n",
    "assert cc1.tkny == \"USDC\"\n",
    "assert cc1.scalex == 1\n",
    "assert cc1.scaley == 1\n",
    "cc2 = CPC.from_xy(x=10, y=20000, pair=\"BTC/MEH\")\n",
    "assert cc2.tknx == \"BTC\"\n",
    "assert cc2.tkny == \"MEH\"\n",
    "assert cc2.scalex == 1\n",
    "assert cc2.scaley == 1\n",
    "assert cc2.scaley == cc2.tokenscale.DEFAULT_SCALE"
   ]
  },
  {
   "cell_type": "code",
   "execution_count": null,
   "id": "1af7425f-c11e-4184-b47a-ce166b871d67",
   "metadata": {},
   "outputs": [],
   "source": [
    "cc1 = CPC.from_xy(x=10, y=20000, pair=\"ETH/USDC\")\n",
    "cc1.set_tokenscale(TSD)\n",
    "assert cc1.tokenscale != cc1.TOKENSCALE\n",
    "assert cc1.tknx == \"ETH\"\n",
    "assert cc1.tkny == \"USDC\"\n",
    "assert cc1.scalex == 1e3\n",
    "assert cc1.scaley == 1e0\n",
    "cc2 = CPC.from_xy(x=10, y=20000, pair=\"BTC/MEH\")\n",
    "cc2.set_tokenscale(TSD)\n",
    "assert cc2.tknx == \"BTC\"\n",
    "assert cc2.tkny == \"MEH\"\n",
    "assert cc2.scalex == 1e4\n",
    "assert cc2.scaley == 1e-2\n",
    "assert cc2.scaley == cc2.tokenscale.DEFAULT_SCALE"
   ]
  },
  {
   "cell_type": "markdown",
   "id": "a2f22c81-69d4-4955-bf18-2c1d31f51900",
   "metadata": {},
   "source": [
    "## dx_min and dx_max etc"
   ]
  },
  {
   "cell_type": "code",
   "execution_count": null,
   "id": "68b0a1b3-1778-4c78-9c1c-af044e36389c",
   "metadata": {},
   "outputs": [],
   "source": [
    "cc = CPC.from_pkpp(p=100, k=100*10000, p_min=90, p_max=110)\n",
    "assert iseq(cc.x_act, 4.653741075440777)\n",
    "assert iseq(cc.y_act, 513.167019494862)\n",
    "assert cc.dx_min == -cc.x_act\n",
    "assert cc.dy_min == -cc.y_act\n",
    "assert iseq( (cc.x + cc.dx_max)*(cc.y + cc.dy_min), cc.k)\n",
    "assert iseq( (cc.y + cc.dy_max)*(cc.x + cc.dx_min), cc.k)"
   ]
  },
  {
   "cell_type": "markdown",
   "id": "10bae6ef-661e-481d-99b8-09b7db1d86c1",
   "metadata": {},
   "source": [
    "## xyfromp_f and dxdyfromp_f"
   ]
  },
  {
   "cell_type": "code",
   "execution_count": null,
   "id": "db6c4f98-ef82-4bb6-b826-780454d240be",
   "metadata": {},
   "outputs": [],
   "source": [
    "c = CPC.from_pkpp(p=100, k=100*10000, p_min=90, p_max=110, pair=f\"{T.ETH}/{T.USDC}\")\n",
    "\n",
    "assert c.pair == 'WETH-6Cc2/USDC-eB48'\n",
    "assert c.pairp == 'WETH/USDC'\n",
    "assert c.p == 100\n",
    "assert iseq(c.x_act, 4.653741075440777)\n",
    "assert iseq(c.y_act, 513.167019494862)\n",
    "assert c.tknx == T.ETH\n",
    "assert c.tkny == T.USDC\n",
    "assert c.tknxp == \"WETH\"\n",
    "assert c.tknyp == \"USDC\"\n",
    "assert c.xyfromp_f() == (c.x, c.y, c.p)\n",
    "assert c.xyfromp_f(withunits=True) == (100.0, 10000.0, 100.0, 'WETH', 'USDC', 'WETH/USDC')\n",
    "\n",
    "x,y,p = c.xyfromp_f(p=85, ignorebounds=True)\n",
    "assert p == 85\n",
    "assert iseq(x*y, c.k)\n",
    "assert iseq(y/x,85)\n",
    "\n",
    "x,y,p = c.xyfromp_f(p=115, ignorebounds=True)\n",
    "assert p == 115\n",
    "assert iseq(x*y, c.k)\n",
    "assert iseq(y/x,115)\n",
    "\n",
    "x,y,p = c.xyfromp_f(p=95)\n",
    "assert p == 95\n",
    "assert iseq(x*y, c.k)\n",
    "assert iseq(y/x,p)\n",
    "\n",
    "x,y,p = c.xyfromp_f(p=105)\n",
    "assert p == 105\n",
    "assert iseq(x*y, c.k)\n",
    "assert iseq(y/x,p)\n",
    "\n",
    "x,y,p = c.xyfromp_f(p=85)\n",
    "assert p == 85\n",
    "assert iseq(x*y, c.k)\n",
    "assert iseq(y/x,90)\n",
    "\n",
    "x,y,p = c.xyfromp_f(p=115)\n",
    "assert p == 115\n",
    "assert iseq(x*y, c.k)\n",
    "assert iseq(y/x,110)"
   ]
  },
  {
   "cell_type": "code",
   "execution_count": null,
   "id": "5ba5f10f-d8b2-4941-be14-befe1b758afc",
   "metadata": {},
   "outputs": [],
   "source": [
    "assert c.dxdyfromp_f(withunits=True) == (0.0, 0.0, 100.0, 'WETH', 'USDC', 'WETH/USDC')\n",
    "\n",
    "dx,dy,p = c.dxdyfromp_f(p=85, ignorebounds=True)\n",
    "assert p == 85\n",
    "assert iseq((c.x+dx)*(c.y+dy), c.k)\n",
    "assert iseq((c.y+dy)/(c.x+dx),p)\n",
    "\n",
    "dx,dy,p = c.dxdyfromp_f(p=115, ignorebounds=True)\n",
    "assert p == 115\n",
    "assert iseq((c.x+dx)*(c.y+dy), c.k)\n",
    "assert iseq((c.y+dy)/(c.x+dx),p)\n",
    "\n",
    "dx,dy,p = c.dxdyfromp_f(p=95)\n",
    "assert p == 95\n",
    "assert iseq((c.x+dx)*(c.y+dy), c.k)\n",
    "assert iseq((c.y+dy)/(c.x+dx),p)\n",
    "\n",
    "dx,dy,p = c.dxdyfromp_f(p=105)\n",
    "assert p == 105\n",
    "assert iseq((c.x+dx)*(c.y+dy), c.k)\n",
    "assert iseq((c.y+dy)/(c.x+dx),p)\n",
    "\n",
    "dx,dy,p = c.dxdyfromp_f(p=85)\n",
    "assert p == 85\n",
    "assert iseq((c.x+dx)*(c.y+dy), c.k)\n",
    "assert iseq((c.y+dy)/(c.x+dx), 90)\n",
    "assert iseq(dy, -c.y_act)\n",
    "\n",
    "dx,dy,p = c.dxdyfromp_f(p=115)\n",
    "assert p == 115\n",
    "assert iseq((c.x+dx)*(c.y+dy), c.k)\n",
    "assert iseq((c.y+dy)/(c.x+dx), 110)\n",
    "assert iseq(dx, -c.x_act)\n",
    "\n",
    "assert iseq(c.x_min*c.y_max, c.k)\n",
    "assert iseq(c.x_max*c.y_min, c.k)\n",
    "assert iseq(c.y_max/c.x_min, c.p_max)\n",
    "assert iseq(c.y_min/c.x_max, c.p_min)"
   ]
  },
  {
   "cell_type": "markdown",
   "id": "dbf81149-204c-45e8-8051-8ac8b6128773",
   "metadata": {},
   "source": [
    "## CPCInverter"
   ]
  },
  {
   "cell_type": "code",
   "execution_count": null,
   "id": "eab9ad99-c582-47a0-bc53-4d3ee60106f1",
   "metadata": {},
   "outputs": [],
   "source": [
    "c   = CPC.from_pkpp(p=2000,   k=10*20000, p_min=1800,   p_max=2200,   pair=f\"{T.ETH}/{T.USDC}\")\n",
    "c2  = CPC.from_pkpp(p=1/2000, k=10*20000, p_max=1/1800, p_min=1/2200, pair=f\"{T.USDC}/{T.ETH}\")\n",
    "ci  = CPCInverter(c)\n",
    "c2i = CPCInverter(c2)\n",
    "curves = CPCInverter.wrap([c,c2])\n",
    "assert c.pairo == c2i.pairo\n",
    "assert ci.pairo == c2.pairo"
   ]
  },
  {
   "cell_type": "code",
   "execution_count": null,
   "id": "1e8a2542-586a-4e76-b3d1-14e0d9315e3c",
   "metadata": {},
   "outputs": [],
   "source": [
    "#print(\"x_act\", c.x_act, c2i.x_act)\n",
    "assert iseq(c.x_act, c2i.x_act)\n",
    "xact = c.x_act\n",
    "dx = -0.1*xact\n",
    "c_ex = c.execute(dx=dx)\n",
    "assert isinstance(c_ex, CPC)\n",
    "assert iseq(c_ex.x_act, xact+dx)\n",
    "assert iseq(c_ex.x, c.x+dx)\n",
    "c2i_ex = c2i.execute(dx=dx)\n",
    "assert iseq(c2i_ex.x_act, xact+dx)\n",
    "assert iseq(c2i_ex.x, c.x+dx)\n",
    "assert isinstance(c2i_ex, CPCInverter)"
   ]
  },
  {
   "cell_type": "code",
   "execution_count": null,
   "id": "2ab158e0-adbc-40d0-a159-67839b1a1145",
   "metadata": {},
   "outputs": [],
   "source": [
    "assert len(curves) == 2\n",
    "assert set(c.pair for c in curves) == {'WETH-6Cc2/USDC-eB48'}\n",
    "assert len(set(c.pair for c in curves)) == 1\n",
    "assert len(set(c.tknx for c in curves)) == 1\n",
    "assert len(set(c.tkny for c in curves)) == 1"
   ]
  },
  {
   "cell_type": "code",
   "execution_count": null,
   "id": "7689c9e2-92b7-4af3-a54d-dab909758eb0",
   "metadata": {
    "lines_to_next_cell": 2
   },
   "outputs": [],
   "source": [
    "assert c.tknx == ci.tkny\n",
    "assert c.tkny == ci.tknx\n",
    "assert c.tknxp == ci.tknyp\n",
    "assert c.tknyp == ci.tknxp\n",
    "assert c.tknb == ci.tknq\n",
    "assert c.tknq == ci.tknb\n",
    "assert c.tknbp == ci.tknqp\n",
    "assert c.tknqp == ci.tknbp\n",
    "assert f\"{c.tknq}/{c.tknb}\" == ci.pair\n",
    "assert f\"{c.tknqp}/{c.tknbp}\" == ci.pairp\n",
    "assert c.x == ci.y\n",
    "assert c.y == ci.x\n",
    "assert c.x_act == ci.y_act\n",
    "assert c.y_act == ci.x_act\n",
    "assert c.x_min == ci.y_min\n",
    "assert c.x_max == ci.y_max\n",
    "assert c.y_min == ci.x_min\n",
    "assert c.y_max == ci.x_max\n",
    "assert c.k == ci.k\n",
    "assert iseq(c.p, 1/ci.p)\n",
    "assert iseq(c.p_min, 1/ci.p_max)\n",
    "assert iseq(c.p_max, 1/ci.p_min)"
   ]
  },
  {
   "cell_type": "code",
   "execution_count": null,
   "id": "0b353e51-60b0-4806-b842-1bc647aebd41",
   "metadata": {},
   "outputs": [],
   "source": [
    "assert c.pair == c2i.pair\n",
    "assert c.tknx == c2i.tknx\n",
    "assert c.tkny == c2i.tkny\n",
    "assert c.tknxp == c2i.tknxp\n",
    "assert c.tknyp == c2i.tknyp\n",
    "assert c.tknb == c2i.tknb\n",
    "assert c.tknq == c2i.tknq\n",
    "assert c.tknbp == c2i.tknbp\n",
    "assert c.tknqp == c2i.tknqp\n",
    "assert iseq(c.p, c2i.p)\n",
    "assert iseq(c.p_min, c2i.p_min)\n",
    "assert iseq(c.p_max, c2i.p_max)\n",
    "assert c.x == c2i.x\n",
    "assert c.y == c2i.y\n",
    "assert c.x_act == c2i.x_act\n",
    "assert c.y_act == c2i.y_act\n",
    "assert c.x_min == c2i.x_min\n",
    "assert c.x_max == c2i.x_max\n",
    "assert c.y_min == c2i.y_min\n",
    "assert c.y_max == c2i.y_max\n",
    "assert c.k == c2i.k"
   ]
  },
  {
   "cell_type": "code",
   "execution_count": null,
   "id": "c19d81b1",
   "metadata": {},
   "outputs": [],
   "source": [
    "assert iseq(c.xfromy_f(c.y), c2i.xfromy_f(c2i.y))\n",
    "assert iseq(c.yfromx_f(c.x), c2i.yfromx_f(c2i.x))\n",
    "assert iseq(c.xfromy_f(c.y*1.05), c2i.xfromy_f(c2i.y*1.05))\n",
    "assert iseq(c.yfromx_f(c.x*1.05), c2i.yfromx_f(c2i.x*1.05))\n",
    "assert iseq(c.dxfromdy_f(1), c2i.dxfromdy_f(1))\n",
    "assert iseq(c.dyfromdx_f(1), c2i.dyfromdx_f(1))"
   ]
  },
  {
   "cell_type": "code",
   "execution_count": null,
   "id": "61076a28-62f0-492f-9800-5abfb326c25b",
   "metadata": {
    "lines_to_next_cell": 2
   },
   "outputs": [],
   "source": [
    "assert c.xyfromp_f() == c2i.xyfromp_f()\n",
    "assert c.dxdyfromp_f() == c2i.dxdyfromp_f()\n",
    "assert c.xyfromp_f(withunits=True) == c2i.xyfromp_f(withunits=True)\n",
    "assert c.dxdyfromp_f(withunits=True) == c2i.dxdyfromp_f(withunits=True)\n",
    "assert iseq(c.p, c2i.p)\n",
    "x,y,p    = c.xyfromp_f(c.p*1.05)\n",
    "x2,y2,p2 = c2i.xyfromp_f(c2i.p*1.05)\n",
    "assert iseq(x,x2)\n",
    "assert iseq(y,y2)\n",
    "assert iseq(p,p2)\n",
    "dx,dy,p    = c.dxdyfromp_f(c.p*1.05)\n",
    "dx2,dy2,p2 = c2i.dxdyfromp_f(c2i.p*1.05)\n",
    "assert iseq(dx,dx2)\n",
    "assert iseq(dy,dy2)\n",
    "assert iseq(p,p2)"
   ]
  },
  {
   "cell_type": "markdown",
   "id": "e044a237-9723-461e-8fd6-23e27c7666fd",
   "metadata": {},
   "source": [
    "## simple_optimizer"
   ]
  },
  {
   "cell_type": "code",
   "execution_count": null,
   "id": "d94a2af2-667b-4e04-ac2c-40ad91e94f77",
   "metadata": {},
   "outputs": [],
   "source": [
    "CC = CPCContainer(CPC.from_pk(p=2000+i*10, k=10*20000, pair=f\"{T.ETH}/{T.USDC}\") for i in range(11))\n",
    "c0 = CC.curves[0]\n",
    "c1 = CC.curves[-1]\n",
    "CC0 = CPCContainer([c0])\n",
    "assert len(CC) == 11\n",
    "assert iseq([c.p for c in CC][-1], 2100)\n",
    "assert len(CC0) == 1\n",
    "assert iseq([c.p for c in CC0][-1], 2000)"
   ]
  },
  {
   "cell_type": "code",
   "execution_count": null,
   "id": "27902e19-bc90-4f42-a2a7-cdc40017e829",
   "metadata": {},
   "outputs": [],
   "source": [
    "O = CPCArbOptimizer(CC)\n",
    "O0 = CPCArbOptimizer(CC0)\n",
    "func = O.simple_optimizer(result=O.SO_DXDYVECFUNC)\n",
    "func0 = O0.simple_optimizer(result=O.SO_DXDYVECFUNC)\n",
    "funcs = O.simple_optimizer(result=O.SO_DXDYSUMFUNC)\n",
    "funcvx = O.simple_optimizer(result=O.SO_DXDYVALXFUNC)\n",
    "funcvy = O.simple_optimizer(result=O.SO_DXDYVALYFUNC)\n",
    "x,y = func0(2100)[0]\n",
    "xb, yb, _ = c0.dxdyfromp_f(2100)\n",
    "assert x == xb\n",
    "assert y == yb\n",
    "x,y = func(2100)[-1]\n",
    "xb, yb, _ = c1.dxdyfromp_f(2100)\n",
    "assert x == xb\n",
    "assert y == yb\n",
    "assert np.all(sum(func(2100)) == funcs(2100))\n",
    "\n",
    "p = 2100\n",
    "dx, dy = funcs(p)\n",
    "assert iseq(dy + p*dx, funcvy(p))\n",
    "assert iseq(dy/p + dx, funcvx(p))\n",
    "\n",
    "p = 1500\n",
    "dx, dy = funcs(p)\n",
    "assert iseq(dy + p*dx, funcvy(p))\n",
    "assert iseq(dy/p + dx, funcvx(p))\n",
    "\n",
    "assert iseq(float(O0.simple_optimizer(result=O.SO_PMAX)), c0.p)\n",
    "assert iseq(float(O.simple_optimizer(result=O.SO_PMAX)), 2049.6451720862074, eps=1e-3)"
   ]
  },
  {
   "cell_type": "code",
   "execution_count": null,
   "id": "f38807ad-9b98-44be-9c1d-dc099f44f60f",
   "metadata": {},
   "outputs": [],
   "source": [
    "O.simple_optimizer(result=O.SO_PMAX)"
   ]
  },
  {
   "cell_type": "markdown",
   "id": "f3f978ea-f4d6-4ff3-b64b-becf7cb26f3f",
   "metadata": {},
   "source": [
    "### global max"
   ]
  },
  {
   "cell_type": "code",
   "execution_count": null,
   "id": "47b2d3b3-fd18-4518-b932-6477ad2a2713",
   "metadata": {},
   "outputs": [],
   "source": [
    "r = O.simple_optimizer()\n",
    "r_ = O.simple_optimizer(result=O.SO_GLOBALMAX)\n",
    "assert raises(O.simple_optimizer, targettkn=T.WETH, result=O.SO_GLOBALMAX)\n",
    "assert iseq(float(r), float(r_))\n",
    "assert len(r.curves) == len(CC)\n",
    "assert np.all(r.dxdy_sum == sum(r.dxdy_vec))\n",
    "dx, dy = r.dxdy_vecs\n",
    "assert tuple(tuple(_) for _ in r.dxdy_vec) == tuple(zip(dx,dy))\n",
    "assert r.result == r.dxdy_valx\n",
    "for dp in np.linspace(-500,500,100):\n",
    "    assert r.dxdyfromp_valx_f(p) < r.dxdy_valx\n",
    "    assert r.dxdyfromp_valy_f(p) < r.dxdy_valy"
   ]
  },
  {
   "cell_type": "code",
   "execution_count": null,
   "id": "e7b74a3d-423b-40ba-9f03-b294b7eb0fef",
   "metadata": {},
   "outputs": [],
   "source": [
    "CC_ex = CPCContainer(c.execute(dx=dx) for c, dx in zip(r.curves, r.dxvalues))\n",
    "# CC.plot()\n",
    "# CC_ex.plot()\n",
    "prices = [c.p for c in CC]\n",
    "prices_ex = [c.p for c in CC_ex]\n",
    "assert iseq(np.std(prices), 31.622776601683707)\n",
    "assert iseq(np.std(prices_ex), 4.547473508864641e-13)\n",
    "#prices, prices_ex"
   ]
  },
  {
   "cell_type": "markdown",
   "id": "d1ae97e8-da5f-4c51-9104-b547ea519e0c",
   "metadata": {},
   "source": [
    "### target token"
   ]
  },
  {
   "cell_type": "code",
   "execution_count": null,
   "id": "1c613989-fedf-4bf6-816e-198a31f8377d",
   "metadata": {},
   "outputs": [],
   "source": [
    "r = O.simple_optimizer(targettkn=T.WETH)\n",
    "r_ = O.simple_optimizer(targettkn=T.WETH, result=O.SO_TARGETTKN)\n",
    "assert raises(O.simple_optimizer,targettkn=T.DAI)\n",
    "assert raises(O.simple_optimizer, result=O.SO_TARGETTKN)\n",
    "assert iseq(float(r), float(r_))\n",
    "assert abs(sum(r.dyvalues) < 1e-6)\n",
    "assert sum(r.dxvalues) < 0\n",
    "assert iseq(float(r),sum(r.dxvalues))"
   ]
  },
  {
   "cell_type": "code",
   "execution_count": null,
   "id": "a4a7c75e-2115-4fb5-966f-d112a5d8f844",
   "metadata": {},
   "outputs": [],
   "source": [
    "r = O.simple_optimizer(targettkn=T.USDC)\n",
    "assert abs(sum(r.dxvalues) < 1e-6)\n",
    "assert sum(r.dyvalues) < 0\n",
    "assert iseq(float(r),sum(r.dyvalues))"
   ]
  },
  {
   "cell_type": "markdown",
   "id": "cbff1f21-4071-4aea-b8b7-70246ed788f8",
   "metadata": {},
   "source": [
    "## optimizer plus inverted curves"
   ]
  },
  {
   "cell_type": "code",
   "execution_count": null,
   "id": "5ec2a0d3-88a2-4bdc-ba9e-e79baf259127",
   "metadata": {},
   "outputs": [],
   "source": [
    "CCr = CPCContainer(CPC.from_pk(p=2000+i*100, k=10*(20000+10000*i), pair=f\"{T.ETH}/{T.USDC}\") for i in range(11))\n",
    "CCi = CPCContainer(CPC.from_pk(p=1/(2050+i*100), k=10*(20000+10000*i), pair=f\"{T.USDC}/{T.ETH}\") for i in range(11))\n",
    "CC  = CCr.bycids()\n",
    "assert len(CC) == len(CCr)\n",
    "CC += CCi\n",
    "assert len(CC) == len(CCr) + len(CCi)"
   ]
  },
  {
   "cell_type": "code",
   "execution_count": null,
   "id": "a45d6b01-16be-4530-a49f-7d1e768b68a3",
   "metadata": {},
   "outputs": [],
   "source": [
    "# CC.plot()"
   ]
  },
  {
   "cell_type": "code",
   "execution_count": null,
   "id": "c1f0f1c0-df0e-4ef1-a45b-07bfd83ca257",
   "metadata": {},
   "outputs": [],
   "source": [
    "O = CPCArbOptimizer(CC)\n",
    "r = O.simple_optimizer()\n",
    "print(f\"Arbitrage gains: {-r.valx:.4f} {r.tknxp} [time={r.time:.4f}s]\")\n",
    "assert iseq(r.result, -1.3194573866437527)"
   ]
  },
  {
   "cell_type": "code",
   "execution_count": null,
   "id": "a2a49469-0646-4c07-87e5-295228f26847",
   "metadata": {},
   "outputs": [],
   "source": [
    "CC_ex = CPCContainer(c.execute(dx=dx) for c, dx in zip(r.curves, r.dxvalues))\n",
    "# CC.plot()\n",
    "# CC_ex.plot()"
   ]
  },
  {
   "cell_type": "code",
   "execution_count": null,
   "id": "9361a460-3af5-48bb-af91-f389286a8d40",
   "metadata": {},
   "outputs": [],
   "source": [
    "prices_ex = [c.pairo.primary_price(c.p) for c in CC_ex]\n",
    "assert iseq(np.std(prices_ex), 5.130242014436283e-13)"
   ]
  },
  {
   "cell_type": "markdown",
   "id": "32c5ed4c-86c6-4a92-aa66-969d67528fb5",
   "metadata": {},
   "source": [
    "## posx and negx"
   ]
  },
  {
   "cell_type": "code",
   "execution_count": null,
   "id": "c1734f7b-7657-4c2b-8c5a-b8327b38823c",
   "metadata": {},
   "outputs": [],
   "source": [
    "O = CPCArbOptimizer\n",
    "a = O.a"
   ]
  },
  {
   "cell_type": "code",
   "execution_count": null,
   "id": "c270a822-fc80-4ebc-ad80-6be0bbd695ac",
   "metadata": {},
   "outputs": [],
   "source": [
    "assert O.posx([0,-1,2]) == (0, 0, 2)\n",
    "assert O.posx((-1,-2, 3)) == (0, 0, 3)\n",
    "assert O.negx([0,-1,2]) == (0, -1, 0)\n",
    "assert O.negx((-1,-2, 3)) == (-1, -2, 0)\n",
    "assert np.all(O.posx(a([0,-1,2])) == a((0, 0, 2)))\n",
    "assert O.t(a((-1,-2))) == (-1,-2)"
   ]
  },
  {
   "cell_type": "code",
   "execution_count": null,
   "id": "0bd88148-e19b-4120-8c37-001a0140f8bc",
   "metadata": {},
   "outputs": [],
   "source": [
    "for v in ((1,2,3), (1,-1,5-10,0), (-10.5,8,2.34,-17)):\n",
    "    assert np.all(O.posx(a(v))+O.negx(a(v)) == v)"
   ]
  },
  {
   "cell_type": "markdown",
   "id": "f81766fd-f3fe-4036-9325-1b6c8713403a",
   "metadata": {},
   "source": [
    "## TradeInstructions"
   ]
  },
  {
   "cell_type": "code",
   "execution_count": null,
   "id": "9d1a955f-4c56-4880-b810-a3fc39fbd8a1",
   "metadata": {},
   "outputs": [],
   "source": [
    "TI = CPCArbOptimizer.TradeInstruction"
   ]
  },
  {
   "cell_type": "code",
   "execution_count": null,
   "id": "c47c2351-0acf-49e2-8f1c-39c12fe16f4e",
   "metadata": {},
   "outputs": [],
   "source": [
    "ti = TI.new(curve_or_cid=\"1\", tkn1=\"ETH\", amt1=1, tkn2=\"USDC\", amt2=-2000)\n",
    "print(f\"cid={ti.cid}, out={ti.amtout} {ti.tknout}, , out={ti.amtin} {ti.tknin}\")\n",
    "assert ti.tknin == \"ETH\"\n",
    "assert ti.amtin > 0\n",
    "assert ti.tknout == \"USDC\"\n",
    "assert ti.amtout < 0\n",
    "assert ti.price_outperin == 2000\n",
    "assert ti.price_inperout == 1/2000\n",
    "assert ti.prices == (2000, 1/2000)\n",
    "assert ti.price_outperin == ti.p\n",
    "assert ti.price_inperout == ti.pr\n",
    "assert ti.prices == ti.pp"
   ]
  },
  {
   "cell_type": "code",
   "execution_count": null,
   "id": "75bc1ef2-344c-4bb9-9f4e-2f69935c421e",
   "metadata": {},
   "outputs": [],
   "source": [
    "assert not raises(TI, cid=\"1\", tknin=\"USDC\", amtin=2000, tknout=\"ETH\", amtout=-1)\n",
    "assert raises(TI, cid=\"1\", tknin=\"USDC\", amtin=2000, tknout=\"ETH\", amtout=1)\n",
    "assert raises(TI, cid=\"1\", tknin=\"USDC\", amtin=-2000, tknout=\"ETH\", amtout=-1)\n",
    "assert raises(TI, cid=\"1\", tknin=\"USDC\", amtin=-2000, tknout=\"ETH\", amtout=1)\n",
    "assert raises(TI, cid=\"1\", tknin=\"USDC\", amtin=2000, tknout=\"ETH\", amtout=0)\n",
    "assert raises(TI, cid=\"1\", tknin=\"USDC\", amtin=0, tknout=\"ETH\", amtout=-1)\n",
    "assert not raises(TI.new, curve_or_cid=\"1\", tkn1=\"USDC\", amt1=2000, tkn2=\"ETH\", amt2=-1)\n",
    "assert not raises(TI.new, curve_or_cid=\"1\", tkn1=\"USDC\", amt1=-2000, tkn2=\"ETH\", amt2=1)\n",
    "assert raises(TI.new, curve_or_cid=\"1\", tkn1=\"USDC\", amt1=2000, tkn2=\"ETH\", amt2=1)\n",
    "assert raises(TI.new, curve_or_cid=\"1\", tkn1=\"USDC\", amt1=-2000, tkn2=\"ETH\", amt2=-1)\n",
    "assert raises(TI.new, curve_or_cid=\"1\", tkn1=\"USDC\", amt1=0, tkn2=\"ETH\", amt2=1)\n",
    "assert raises(TI.new, curve_or_cid=\"1\", tkn1=\"USDC\", amt1=-2000, tkn2=\"ETH\", amt2=0)"
   ]
  },
  {
   "cell_type": "code",
   "execution_count": null,
   "id": "77572054-db53-4bd6-9252-5c126582ddb6",
   "metadata": {},
   "outputs": [],
   "source": [
    "til = [\n",
    "    TI.new(curve_or_cid=f\"{i+1}\", tkn1=\"ETH\", amt1=1*(1+i/100), tkn2=\"USDC\", amt2=-2000*(1+i/100)) \n",
    "    for i in range(10)\n",
    "]\n",
    "tild = TI.to_dicts(til)\n",
    "tildf = TI.to_df(til)\n",
    "assert len(tild) == 10\n",
    "assert len(tildf) == 10\n",
    "assert tild[0] == {'cid': '1', 'tknin': 'ETH', 'amtin': 1.0, 'tknout': 'USDC', 'amtout': -2000.0}\n",
    "assert dict(tildf.iloc[0]) == {\n",
    "    'pair': '',\n",
    "    'pairp': '',\n",
    "    'tknin': 'ETH',\n",
    "    'tknout': 'USDC',\n",
    "    'ETH': 1.0,\n",
    "    'USDC': -2000.0\n",
    "}"
   ]
  },
  {
   "cell_type": "code",
   "execution_count": null,
   "id": "95de1850-624d-410a-98a5-46a9f6139040",
   "metadata": {},
   "outputs": [],
   "source": [
    "tildf"
   ]
  },
  {
   "cell_type": "markdown",
   "id": "5b9301d1-99f3-405e-a042-f3e84b8cc853",
   "metadata": {},
   "source": [
    "## margp_optimizer"
   ]
  },
  {
   "cell_type": "markdown",
   "id": "52d7c29c-cea6-4b3f-a635-cb5ec6e1ba1e",
   "metadata": {},
   "source": [
    "### no arbitrage possible"
   ]
  },
  {
   "cell_type": "code",
   "execution_count": null,
   "id": "e2d1a07c-6acf-42e3-b93d-a5fb66aa9363",
   "metadata": {},
   "outputs": [],
   "source": [
    "CCa = CPCContainer()\n",
    "CCa += CPC.from_pk(pair=\"WETH/USDC\", p=2000, k=10*20000, cid=\"c0\")\n",
    "CCa += CPC.from_pk(pair=\"WETH/USDT\", p=2000, k=10*20000, cid=\"c1\")\n",
    "CCa += CPC.from_pk(pair=\"USDC/USDT\", p=1.0, k=200000*200000, cid=\"c2\")\n",
    "O = CPCArbOptimizer(CCa)"
   ]
  },
  {
   "cell_type": "code",
   "execution_count": null,
   "id": "95d80905-b5a1-4157-9e95-f1989f35dd68",
   "metadata": {},
   "outputs": [],
   "source": [
    "r = O.margp_optimizer(\"WETH\", result=O.MO_DEBUG)\n",
    "assert isinstance(r, dict)\n",
    "prices0 = r[\"price_estimates_t\"]\n",
    "assert not prices0 is None, f\"prices0 must not be None [{prices0}]\"\n",
    "r1 = O.arb(\"WETH\")\n",
    "r2 = O.SelfFinancingConstraints.arb(\"WETH\")\n",
    "assert isinstance(r1, CPCArbOptimizer.SelfFinancingConstraints)\n",
    "assert r1 == r2\n",
    "assert r[\"sfc\"] == r1\n",
    "assert r1.is_arbsfc()\n",
    "assert r1.optimizationvar == \"WETH\""
   ]
  },
  {
   "cell_type": "code",
   "execution_count": null,
   "id": "c33d0c3b-7ed5-4776-8ffc-b921c74b1c7f",
   "metadata": {},
   "outputs": [],
   "source": [
    "r"
   ]
  },
  {
   "cell_type": "code",
   "execution_count": null,
   "id": "0903b6b4-9987-4715-827f-8986806b30bf",
   "metadata": {},
   "outputs": [],
   "source": [
    "prices0"
   ]
  },
  {
   "cell_type": "code",
   "execution_count": null,
   "id": "7a95208f-5322-4c25-b064-f58347810b51",
   "metadata": {},
   "outputs": [],
   "source": [
    "f = O.margp_optimizer(\"WETH\", result=O.MO_DTKNFROMPF, params=dict(verbose=True, debug=False))\n",
    "r3 = f(prices0, islog10=False)\n",
    "assert np.all(r3 == (0,0))\n",
    "r4, r3b = f(prices0, asdct=True, islog10=False)\n",
    "assert np.all(r3==r3b)\n",
    "assert len(r4) == len(r3)+1\n",
    "assert tuple(r4.values()) == (0,0,0)\n",
    "assert set(r4) == {'USDC', 'USDT', 'WETH'}"
   ]
  },
  {
   "cell_type": "code",
   "execution_count": null,
   "id": "43544b41-c57c-4e79-b819-4bb43cd3538c",
   "metadata": {},
   "outputs": [],
   "source": [
    "r = O.margp_optimizer(\"WETH\", result=O.MO_MINIMAL, params=dict(verbose=True))\n",
    "rd = r.asdict\n",
    "assert abs(float(r)) < 1e-10\n",
    "assert r.result == float(r)\n",
    "assert r.method == \"margp\"\n",
    "assert r.curves is None\n",
    "assert r.targettkn == \"WETH\"\n",
    "assert r.dtokens is None\n",
    "assert sum(abs(x) for x in r.dtokens_t) < 1e-10\n",
    "assert r.p_optimal is None\n",
    "assert iseq(0.0005, r.p_optimal_t[0], r.p_optimal_t[1])\n",
    "assert set(r.tokens_t) == {'USDC', 'USDT'}\n",
    "assert r.errormsg is None\n",
    "assert r.is_error == False\n",
    "assert r.time > 0\n",
    "assert r.time < 0.1"
   ]
  },
  {
   "cell_type": "code",
   "execution_count": null,
   "id": "1bb345bd-dcaa-4915-8dd0-af7a7ee5945a",
   "metadata": {},
   "outputs": [],
   "source": [
    "r = O.margp_optimizer(\"WETH\", result=O.MO_FULL)\n",
    "rd = r.asdict()\n",
    "r2 = O.margp_optimizer(\"WETH\")\n",
    "r2d = r2.asdict()\n",
    "for k in rd:\n",
    "    #print(k)\n",
    "    if not k in [\"time\", \"curves\"]:\n",
    "        assert rd[k] == r2d[k]\n",
    "assert r2.curves == r.curves # the TokenScale object fails in the dict\n",
    "\n",
    "assert abs(float(r)) < 1e-10\n",
    "assert r.result == float(r)\n",
    "assert r.method == \"margp\"\n",
    "assert len(r.curves) == 3\n",
    "assert r.targettkn == \"WETH\"\n",
    "assert set(r.dtokens.keys()) == set(['USDT', 'WETH', 'USDC'])\n",
    "assert sum(abs(x) for x in r.dtokens.values()) < 1e-10\n",
    "assert sum(abs(x) for x in r.dtokens_t) < 1e-10\n",
    "assert iseq(0.0005, r.p_optimal[\"USDC\"], r.p_optimal[\"USDT\"])\n",
    "assert iseq(0.0005, r.p_optimal_t[0], r.p_optimal_t[1])\n",
    "assert tuple(r.p_optimal.values()) == r.p_optimal_t\n",
    "assert set(r.tokens_t) == set(('USDC', 'USDT'))\n",
    "assert r.errormsg is None\n",
    "assert r.is_error == False\n",
    "assert r.time > 0\n",
    "assert r.time < 0.1"
   ]
  },
  {
   "cell_type": "markdown",
   "id": "756e8ab6-a591-498a-a871-540acddff3df",
   "metadata": {},
   "source": [
    "### arbitrage"
   ]
  },
  {
   "cell_type": "code",
   "execution_count": null,
   "id": "b8452fe7-67b3-4789-899f-d203b2f9d259",
   "metadata": {},
   "outputs": [],
   "source": [
    "CCa = CPCContainer()\n",
    "CCa += CPC.from_pk(pair=\"WETH/USDC\", p=2000, k=10*20000, cid=\"c0\")\n",
    "CCa += CPC.from_pk(pair=\"WETH/USDT\", p=2000, k=10*20000, cid=\"c1\")\n",
    "CCa += CPC.from_pk(pair=\"USDC/USDT\", p=1.2, k=200000*200000, cid=\"c2\")\n",
    "O = CPCArbOptimizer(CCa)"
   ]
  },
  {
   "cell_type": "code",
   "execution_count": null,
   "id": "28324e77-2d5d-4c42-b2b8-1b9654180af2",
   "metadata": {},
   "outputs": [],
   "source": [
    "r = O.margp_optimizer(\"WETH\", result=O.MO_DEBUG)\n",
    "assert isinstance(r, dict)\n",
    "prices0 = r[\"price_estimates_t\"]\n",
    "r1 = O.arb(\"WETH\")\n",
    "r2 = O.SelfFinancingConstraints.arb(\"WETH\")\n",
    "assert isinstance(r1, CPCArbOptimizer.SelfFinancingConstraints)\n",
    "assert r1 == r2\n",
    "assert r[\"sfc\"] == r1\n",
    "assert r1.is_arbsfc()\n",
    "assert r1.optimizationvar == \"WETH\""
   ]
  },
  {
   "cell_type": "code",
   "execution_count": null,
   "id": "377bb0f5-2bcb-4379-89f9-d918112c9e80",
   "metadata": {},
   "outputs": [],
   "source": [
    "f = O.margp_optimizer(\"WETH\", result=O.MO_DTKNFROMPF)\n",
    "r3 = f(prices0, islog10=False)\n",
    "assert set(r3.astype(int)) == set((17425,-19089))\n",
    "r4, r3b = f(prices0, asdct=True, islog10=False)\n",
    "assert np.all(r3==r3b)\n",
    "assert len(r4) == len(r3)+1\n",
    "assert set(r4) == {'USDC', 'USDT', 'WETH'}"
   ]
  },
  {
   "cell_type": "code",
   "execution_count": null,
   "id": "be30f072-d063-4aac-9e7f-b9a887bb9e4f",
   "metadata": {},
   "outputs": [],
   "source": [
    "r = O.margp_optimizer(\"WETH\", result=O.MO_FULL)\n",
    "assert iseq(float(r), -0.03944401129301944)\n",
    "assert r.result == float(r)\n",
    "assert r.method == \"margp\"\n",
    "assert len(r.curves) == 3\n",
    "assert r.targettkn == \"WETH\"\n",
    "assert abs(r.dtokens_t[0]) < 1e-6\n",
    "assert abs(r.dtokens_t[1]) < 1e-6\n",
    "assert r.dtokens[\"WETH\"] == float(r)\n",
    "assert tuple(r.p_optimal.values()) == r.p_optimal_t\n",
    "assert tuple(r.p_optimal) == r.tokens_t\n",
    "assert iseq(r.p_optimal_t[0], 0.0005421803152482512) or iseq(r.p_optimal_t[0], 0.00045575394031021585)\n",
    "assert iseq(r.p_optimal_t[1], 0.0005421803152482512) or iseq(r.p_optimal_t[1], 0.00045575394031021585)\n",
    "assert tuple(r.p_optimal.values()) == r.p_optimal_t\n",
    "assert set(r.tokens_t) == set(('USDC', 'USDT'))\n",
    "assert r.errormsg is None\n",
    "assert r.is_error == False\n",
    "assert r.time > 0\n",
    "assert r.time < 0.1"
   ]
  },
  {
   "cell_type": "code",
   "execution_count": null,
   "id": "7a85271d-312c-4b95-8d33-0d235fb4e9f4",
   "metadata": {},
   "outputs": [],
   "source": [
    "abs(r.dtokens_t[0])"
   ]
  },
  {
   "cell_type": "code",
   "execution_count": null,
   "id": "66ff781d-f171-493e-b4c2-b1517b4f3307",
   "metadata": {},
   "outputs": [],
   "source": []
  },
  {
   "cell_type": "markdown",
   "id": "b60bdb92-5c5d-4f4f-956b-2eaac140a870",
   "metadata": {},
   "source": [
    "## simple_optimizer demo [NOTEST]"
   ]
  },
  {
   "cell_type": "code",
   "execution_count": null,
   "id": "ea1c2d79-6e94-47e8-baf1-d52a0da888af",
   "metadata": {},
   "outputs": [],
   "source": [
    "CC = CPCContainer(CPC.from_pk(p=2000+i*100, k=10*(20000+i*10000), pair=f\"{T.ETH}/{T.USDC}\") for i in range(11))\n",
    "O = CPCArbOptimizer(CC)\n",
    "c0 = CC.curves[0]\n",
    "CC0 = CPCContainer([c0])\n",
    "O = CPCArbOptimizer(CC)\n",
    "O0 = CPCArbOptimizer(CC0)\n",
    "funcvx = O.simple_optimizer(result=O.SO_DXDYVALXFUNC)\n",
    "funcvy = O.simple_optimizer(result=O.SO_DXDYVALYFUNC)\n",
    "funcvx0 = O0.simple_optimizer(result=O.SO_DXDYVALXFUNC)\n",
    "funcvy0 = O0.simple_optimizer(result=O.SO_DXDYVALYFUNC)\n",
    "#CC.plot()"
   ]
  },
  {
   "cell_type": "code",
   "execution_count": null,
   "id": "f662f8d9-16bc-4742-b9b0-88b7b169f0ea",
   "metadata": {},
   "outputs": [],
   "source": [
    "xr = np.linspace(1500, 3000, 50)\n",
    "plt.plot(xr, [funcvx(x)/len(CC) for x in xr], label=\"all curves [scaled]\")\n",
    "plt.plot(xr, [funcvx0(x) for x in xr], label=\"curve 0 only\")\n",
    "plt.xlabel(f\"price [{c0.pairp}]\")\n",
    "plt.ylabel(f\"value [{c0.tknxp}]\")\n",
    "plt.grid()\n",
    "plt.show()\n",
    "plt.plot(xr, [funcvy(x)/len(CC) for x in xr], label=\"all curves [scaled]\")\n",
    "plt.plot(xr, [funcvy0(x) for x in xr], label=\"curve 0 only\")\n",
    "plt.xlabel(f\"price [{c0.pairp}]\")\n",
    "plt.ylabel(f\"value [{c0.tknyp}]\")\n",
    "plt.grid()\n",
    "plt.show()"
   ]
  },
  {
   "cell_type": "code",
   "execution_count": null,
   "id": "c94519fa-207e-45fd-80ea-1ec5f092b3ba",
   "metadata": {},
   "outputs": [],
   "source": [
    "r = O.simple_optimizer()\n",
    "print(f\"Arbitrage gains: {-r.valx:.4f} {r.tknxp} [time={r.time:.4f}s]\")"
   ]
  },
  {
   "cell_type": "code",
   "execution_count": null,
   "id": "806bfb7f-dd6c-4b7b-959a-eaedcf9a8ea4",
   "metadata": {},
   "outputs": [],
   "source": [
    "CC_ex = CPCContainer(c.execute(dx=dx) for c, dx in zip(r.curves, r.dxvalues))\n",
    "CC.plot()\n",
    "CC_ex.plot()"
   ]
  },
  {
   "cell_type": "markdown",
   "id": "001a35b1-3f99-487e-b527-80eb93d720de",
   "metadata": {},
   "source": [
    "## MargP Optimizer Demo [NOTEST]"
   ]
  },
  {
   "cell_type": "code",
   "execution_count": null,
   "id": "a045a304-f5f2-4eca-9394-2d1a86721e33",
   "metadata": {},
   "outputs": [],
   "source": [
    "CCa = CPCContainer()\n",
    "CCa += CPC.from_pk(pair=\"WETH/USDC\", p=2000, k=10*20000, cid=\"c0\")\n",
    "CCa += CPC.from_pk(pair=\"WETH/USDT\", p=2000, k=10*20000, cid=\"c1\")\n",
    "CCa += CPC.from_pk(pair=\"USDC/USDT\", p=1.2, k=20000*20000, cid=\"c2\")\n",
    "O = CPCArbOptimizer(CCa)"
   ]
  },
  {
   "cell_type": "code",
   "execution_count": null,
   "id": "ae37fa7b-356a-4de2-8b4d-ce264792f952",
   "metadata": {},
   "outputs": [],
   "source": [
    "CCa.plot()"
   ]
  },
  {
   "cell_type": "code",
   "execution_count": null,
   "id": "ecc9f29a-9bd7-4b08-aba7-cc4cd58e2eb7",
   "metadata": {},
   "outputs": [],
   "source": [
    "r = O.margp_optimizer(\"WETH\", params=dict(verbose=True))\n",
    "rd = r.asdict\n",
    "r"
   ]
  },
  {
   "cell_type": "code",
   "execution_count": null,
   "id": "2ff5b435-ac7e-4009-ba3a-cc3374999b4f",
   "metadata": {},
   "outputs": [],
   "source": [
    "rd"
   ]
  },
  {
   "cell_type": "code",
   "execution_count": null,
   "id": "7aa2450d-33fa-4ad9-960f-753b42a3a3a7",
   "metadata": {},
   "outputs": [],
   "source": [
    "CCa1 = O.adjust_curves(r.dxvalues)\n",
    "CCa1.plot()"
   ]
  },
  {
   "cell_type": "markdown",
   "id": "3f780da0-eb2c-4564-b84e-c7791fab5e66",
   "metadata": {},
   "source": [
    "## Optimizer plus inverted curves [NOTEST]"
   ]
  },
  {
   "cell_type": "code",
   "execution_count": null,
   "id": "fa769696-b65c-4500-a94f-3921ab7f2f23",
   "metadata": {},
   "outputs": [],
   "source": [
    "CCr = CPCContainer(CPC.from_pk(p=2000+i*100, k=10*(20000+10000*i), pair=f\"{T.ETH}/{T.USDC}\") for i in range(11))\n",
    "CCi = CPCContainer(CPC.from_pk(p=1/(2050+i*100), k=10*(20000+10000*i), pair=f\"{T.USDC}/{T.ETH}\") for i in range(11))\n",
    "CC  = CCr.bycids()\n",
    "assert len(CC) == len(CCr)\n",
    "CC += CCi\n",
    "assert len(CC) == len(CCr) + len(CCi)\n",
    "CC.plot()"
   ]
  },
  {
   "cell_type": "code",
   "execution_count": null,
   "id": "3efeade6-48d5-4d1c-9ac2-09db20658b03",
   "metadata": {},
   "outputs": [],
   "source": [
    "O = CPCArbOptimizer(CC)\n",
    "r = O.simple_optimizer()\n",
    "print(f\"Arbitrage gains: {-r.valx:.4f} {r.tknxp} [time={r.time:.4f}s]\")\n",
    "CC_ex = CPCContainer(c.execute(dx=dx) for c, dx in zip(r.curves, r.dxvalues))\n",
    "prices_ex = [c.pairo.primary_price(c.p) for c in CC_ex]\n",
    "print(\"prices post arb:\", prices_ex)\n",
    "print(\"stdev\", np.std(prices_ex))\n",
    "#CC.plot()\n",
    "CC_ex.plot()"
   ]
  },
  {
   "cell_type": "markdown",
   "id": "b8f26292-9900-4c39-af96-86c1060814a2",
   "metadata": {},
   "source": [
    "## Operating on leverage ranges [NOTEST]"
   ]
  },
  {
   "cell_type": "code",
   "execution_count": null,
   "id": "8dde5e5d-ebdb-4bed-84c2-0ee3214bef16",
   "metadata": {},
   "outputs": [],
   "source": [
    "N = 10"
   ]
  },
  {
   "cell_type": "code",
   "execution_count": null,
   "id": "7ba3c796-4ac2-4090-a0ea-e5ddb7ad13bf",
   "metadata": {},
   "outputs": [],
   "source": [
    "CCc, CCm, ctr = CPCContainer(), CPCContainer(), 0\n",
    "U, U1 = CPCContainer.u, CPCContainer.u1\n",
    "tknb, tknq = T.ETH, T.USDC\n",
    "pb, pq = 2000, 1\n",
    "pair = f\"{tknb}/{tknq}\"\n",
    "pp = pb/pq\n",
    "k = 100000**2/(pb*pq)\n",
    "CCm += CPC.from_pk(p=pp, k=k, pair=pair, cid = f\"mkt-{pair}\", params=dict(xc=\"market\"))\n",
    "#print(\"\\n***PAIR:\", tknb, pb, tknq, pq, pair, pp)\n",
    "for i in range(N):\n",
    "    p = pp * (1+0.2*U(-0.5, 0.5))\n",
    "    p_min, p_max = (p, U(1.001, 1.5)*p) if U1()>0.5 else (U(0.8, 0.999)*p, p)\n",
    "    amtusdc = U(10000, 200000)\n",
    "    k = amtusdc**2/(pb*pq)\n",
    "    #print(\"*curve\", int(amtusdc), p, p_min, p_max, int(k))\n",
    "    CCc += CPC.from_pkpp(p=p, k=k, p_min=p_min, p_max=p_max, \n",
    "                         pair=pair, cid = f\"carb-{ctr}\", params=dict(xc=\"carbon\"))\n",
    "    ctr += 1\n",
    "    \n",
    "CC = CCc.bycids().add(CCm)\n",
    "CC.plot()"
   ]
  },
  {
   "cell_type": "code",
   "execution_count": null,
   "id": "c9d09d0e-0767-41d4-a88e-a061b2f8c66d",
   "metadata": {},
   "outputs": [],
   "source": [
    "O = CPCArbOptimizer(CC)\n",
    "r = O.simple_optimizer()\n",
    "print(f\"Arbitrage gains: {-r.valx:.4f} {r.tknxp} [time={r.time:.4f}s]\")\n",
    "CC_ex = CPCContainer(c.execute(dx=dx) for c, dx in zip(r.curves, r.dxvalues))\n",
    "prices_ex = [c.pairo.primary_price(c.p) for c in CC_ex]\n",
    "print(\"prices post arb:\", prices_ex)\n",
    "print(\"stdev\", np.std(prices_ex))\n",
    "#CC.plot()\n",
    "CC_ex.plot()"
   ]
  },
  {
   "cell_type": "code",
   "execution_count": null,
   "id": "63a18934-a79e-44b0-9001-0ce89b9d9598",
   "metadata": {},
   "outputs": [],
   "source": [
    "r.dxvalues"
   ]
  },
  {
   "cell_type": "markdown",
   "id": "d0ed5167-4d92-4b24-8446-9c6b07c3861d",
   "metadata": {},
   "source": [
    "## Arbitrage testing [NOTEST]"
   ]
  },
  {
   "cell_type": "code",
   "execution_count": null,
   "id": "e4abb0a7-e3be-45cb-960b-ab1a9668fb15",
   "metadata": {},
   "outputs": [],
   "source": [
    "c1 = CPC.from_pkpp(p=95, k=100*10000, p_min=90, p_max=110, pair=f\"{T.ETH}/{T.USDC}\")\n",
    "c2 = CPC.from_pkpp(p=105, k=90*10000, p_min=90, p_max=110, pair=f\"{T.ETH}/{T.USDC}\")\n",
    "CC = CPCContainer([c1,c2])\n",
    "CC.plot()"
   ]
  },
  {
   "cell_type": "code",
   "execution_count": null,
   "id": "77be5b24-8714-4170-a44a-dcb77cccc452",
   "metadata": {},
   "outputs": [],
   "source": [
    "a = lambda x: np.array(x)\n",
    "pr = np.linspace(70,130,200)\n",
    "dx1, dy1, p = zip(*(c1.dxdyfromp_f(p) for p in pr))\n",
    "assert np.all(p == pr)\n",
    "dx2, dy2, p = zip(*(c2.dxdyfromp_f(p) for p in pr))\n",
    "assert np.all(p == pr)\n",
    "v1 = a(dy1)+a(p)*a(dx1)\n",
    "v2 = a(dy2)+a(p)*a(dx2)\n",
    "plt.plot(p, v1, label=\"Value curve c1\")\n",
    "plt.plot(p, v2, label=\"Value curve c2\")\n",
    "plt.plot(p, v1+v2, label=\"Value combined curves\")\n",
    "plt.legend()\n",
    "plt.grid()"
   ]
  },
  {
   "cell_type": "code",
   "execution_count": null,
   "id": "9dd61773-3bb1-4e84-86cc-1dcebe6ef0b4",
   "metadata": {},
   "outputs": [],
   "source": [
    "def vfunc(p):\n",
    "    \n",
    "    dx1, dy1, _ = c1.dxdyfromp_f(p)\n",
    "    dx2, dy2, _ = c2.dxdyfromp_f(p)\n",
    "    v1 = dy1 + p*dx1\n",
    "    v2 = dy2 + p*dx2\n",
    "    v = v1+v2\n",
    "    #print(f\"[v] v({p}) = {v}\")\n",
    "    return -v"
   ]
  },
  {
   "cell_type": "code",
   "execution_count": null,
   "id": "3c44d75a-167c-40cc-8106-cd2b7a91989c",
   "metadata": {},
   "outputs": [],
   "source": [
    "O = CPCArbOptimizer\n",
    "O.findmin(vfunc, 100, N=100)"
   ]
  },
  {
   "cell_type": "code",
   "execution_count": null,
   "id": "ae1c2c25-271b-4c82-8dbe-56091de6c270",
   "metadata": {},
   "outputs": [],
   "source": [
    "func1 = lambda x: (x-2)**2\n",
    "O.findmin(func1, 1)"
   ]
  },
  {
   "cell_type": "code",
   "execution_count": null,
   "id": "f4d5c834-f7ea-46e5-8e85-7c3615ebe122",
   "metadata": {},
   "outputs": [],
   "source": [
    "func2 = lambda x: 1-(x-3)**2\n",
    "O.findmax(func2, 2.5)"
   ]
  },
  {
   "cell_type": "code",
   "execution_count": null,
   "id": "23b1d421-a3f9-4b0d-9a44-53f4ec0006dd",
   "metadata": {},
   "outputs": [],
   "source": [
    "val = tuple(float(O.findmin(func1, 100, N=n)) for n in range(100))\n",
    "val = tuple(abs(v-val[-1]) for v in val)\n",
    "val = tuple(v for v in val if v > 0)\n",
    "plt.plot(val)\n",
    "plt.yscale('log')\n",
    "plt.grid()"
   ]
  },
  {
   "cell_type": "code",
   "execution_count": null,
   "id": "01cdc314-9b7e-4f47-8cd7-daa87cd5af4d",
   "metadata": {},
   "outputs": [],
   "source": [
    "val = tuple(float(O.findmin(func2, 100, N=n)) for n in range(100))\n",
    "val = tuple(abs(v-val[-1]) for v in val)\n",
    "val = tuple(v for v in val if v > 0)\n",
    "plt.plot(val)\n",
    "plt.yscale('log')\n",
    "plt.grid()"
   ]
  },
  {
   "cell_type": "code",
   "execution_count": null,
   "id": "d263dcc4-bfdd-4580-9584-b34b07fab178",
   "metadata": {},
   "outputs": [],
   "source": [
    "val0 = tuple(float(O.findmin(vfunc, 99, N=n)) for n in range(100))\n",
    "val = tuple(abs(v-val0[-1]) for v in val0)\n",
    "val = tuple(v for v in val if v > 0)\n",
    "print(val0[-1])\n",
    "plt.plot(val)\n",
    "plt.yscale('log')\n",
    "plt.grid()"
   ]
  },
  {
   "cell_type": "code",
   "execution_count": null,
   "id": "11418d75-986d-4b10-a2fa-37cb442027cb",
   "metadata": {},
   "outputs": [],
   "source": [
    "val0 = tuple(float(O.findmin_gd(vfunc, 99, N=n)) for n in range(100))\n",
    "val = tuple(abs(v-val0[-1]) for v in val0)\n",
    "val = tuple(v for v in val if v > 0)\n",
    "print(val0[-1])\n",
    "plt.plot(val)\n",
    "plt.yscale('log')\n",
    "plt.grid()"
   ]
  },
  {
   "cell_type": "code",
   "execution_count": null,
   "id": "39c3cc3a-98cd-473d-9de0-0aa8a78d4e92",
   "metadata": {},
   "outputs": [],
   "source": [
    "O.findmin(vfunc, 99, N=700)"
   ]
  },
  {
   "cell_type": "markdown",
   "id": "c941ee63-4ac1-448b-a078-1e1ad6212d2c",
   "metadata": {},
   "source": [
    "## Charts [NOTEST]"
   ]
  },
  {
   "cell_type": "markdown",
   "id": "e1b90540-ec88-4771-ab77-ef20d8c02fe2",
   "metadata": {},
   "source": [
    "### Chars (x,y)"
   ]
  },
  {
   "cell_type": "code",
   "execution_count": null,
   "id": "85ccbd93-8821-40e6-94e3-85391676861a",
   "metadata": {},
   "outputs": [],
   "source": [
    "xr = np.linspace(1,300,200)"
   ]
  },
  {
   "cell_type": "code",
   "execution_count": null,
   "id": "d3179497-4340-41ff-859b-ff11936a081b",
   "metadata": {},
   "outputs": [],
   "source": [
    "defaults = dict(p=2)\n",
    "curves = [\n",
    "    CPC.from_px(x=100, **defaults),\n",
    "    CPC.from_px(x=50, **defaults),\n",
    "    CPC.from_px(x=150, **defaults),\n",
    "]\n",
    "for c in curves:\n",
    "    plt.plot(xr, [c.yfromx_f(x) for x in xr])\n",
    "\n",
    "plt.ylim((0,1000))\n",
    "plt.xlim((0,300))\n",
    "plt.grid()"
   ]
  },
  {
   "cell_type": "code",
   "execution_count": null,
   "id": "5b1ed2c5-6bb7-44b0-a07e-f4b6a124cdd1",
   "metadata": {},
   "outputs": [],
   "source": [
    "defaults = dict(p=2, x_act=10)\n",
    "curves = [\n",
    "    CPC.from_px(x=100, **defaults),\n",
    "    CPC.from_px(x=50, **defaults),\n",
    "    CPC.from_px(x=150, **defaults),\n",
    "]\n",
    "for c in curves:\n",
    "    plt.plot(xr, [c.yfromx_f(x) for x in xr])\n",
    "\n",
    "plt.ylim((0,1000))\n",
    "plt.xlim((0,300))\n",
    "plt.grid()"
   ]
  },
  {
   "cell_type": "code",
   "execution_count": null,
   "id": "21513447-aacf-4fcc-8d71-94924ae44845",
   "metadata": {},
   "outputs": [],
   "source": [
    "defaults = dict(p=2, y_act=20)\n",
    "curves = [\n",
    "    CPC.from_px(x=100, **defaults),\n",
    "    CPC.from_px(x=50, **defaults),\n",
    "    CPC.from_px(x=150, **defaults),\n",
    "]\n",
    "for c in curves:\n",
    "    plt.plot(xr, [c.yfromx_f(x) for x in xr])\n",
    "\n",
    "plt.ylim((0,1000))\n",
    "plt.xlim((0,300))\n",
    "plt.grid()"
   ]
  },
  {
   "cell_type": "code",
   "execution_count": null,
   "id": "8a5df413-de9f-485a-951a-bb046fd9687c",
   "metadata": {
    "lines_to_next_cell": 0
   },
   "outputs": [],
   "source": [
    "defaults = dict(p=2, x_act=10, y_act=20)\n",
    "curves = [\n",
    "    CPC.from_px(x=100, **defaults),\n",
    "    CPC.from_px(x=50, **defaults),\n",
    "    CPC.from_px(x=150, **defaults),\n",
    "]\n",
    "for c in curves:\n",
    "    plt.plot(xr, [c.yfromx_f(x) for x in xr])\n",
    "\n",
    "plt.ylim((0,1000))\n",
    "plt.xlim((0,300))\n",
    "plt.grid()"
   ]
  },
  {
   "cell_type": "markdown",
   "id": "ac7e6dc1-992b-448d-a8fe-cff6c0e24d59",
   "metadata": {
    "lines_to_next_cell": 2
   },
   "source": [
    "### Charts (dx, dy)"
   ]
  },
  {
   "cell_type": "code",
   "execution_count": null,
   "id": "f7127e10-e463-4ae2-ba78-2c10483cdae0",
   "metadata": {},
   "outputs": [],
   "source": [
    "e=1e-5\n",
    "dxr = np.linspace(-50+e,50-e,100)"
   ]
  },
  {
   "cell_type": "code",
   "execution_count": null,
   "id": "d1051e52-d073-4656-b43e-d6c7404fe2e6",
   "metadata": {},
   "outputs": [],
   "source": [
    "defaults = dict(p=2)\n",
    "curves = [\n",
    "    CPC.from_px(x=100, **defaults),\n",
    "    CPC.from_px(x=50, **defaults),\n",
    "    CPC.from_px(x=150, **defaults),\n",
    "]\n",
    "for c in curves:\n",
    "    plt.plot(dxr, [c.dyfromdx_f(dx) for dx in dxr])\n",
    "\n",
    "plt.ylim((-100,200))\n",
    "plt.xlim((-50,50))\n",
    "plt.grid()"
   ]
  },
  {
   "cell_type": "code",
   "execution_count": null,
   "id": "f6ae5188-ded5-49c4-b106-88cb2d7eddbe",
   "metadata": {},
   "outputs": [],
   "source": [
    "defaults = dict(p=2, x_act=10)\n",
    "curves = [\n",
    "    CPC.from_px(x=100, **defaults),\n",
    "    CPC.from_px(x=50, **defaults),\n",
    "    CPC.from_px(x=150, **defaults),\n",
    "]\n",
    "for c in curves:\n",
    "    plt.plot(dxr, [c.dyfromdx_f(dx) for dx in dxr])\n",
    "\n",
    "plt.ylim((-100,200))\n",
    "plt.xlim((-50,50))\n",
    "plt.grid()"
   ]
  },
  {
   "cell_type": "code",
   "execution_count": null,
   "id": "f1650f4a-56c7-4aec-a5e6-196f5a5e77aa",
   "metadata": {},
   "outputs": [],
   "source": [
    "defaults = dict(p=2, y_act=20)\n",
    "curves = [\n",
    "    CPC.from_px(x=100, **defaults),\n",
    "    CPC.from_px(x=50, **defaults),\n",
    "    CPC.from_px(x=150, **defaults),\n",
    "]\n",
    "for c in curves:\n",
    "    plt.plot(dxr, [c.dyfromdx_f(dx) for dx in dxr])\n",
    "\n",
    "plt.ylim((-100,200))\n",
    "plt.xlim((-50,50))\n",
    "plt.grid()"
   ]
  },
  {
   "cell_type": "code",
   "execution_count": null,
   "id": "b0cfdea8-ae01-406a-9f7e-5871d9e5d140",
   "metadata": {},
   "outputs": [],
   "source": [
    "defaults = dict(p=2, x_act=10, y_act=20)\n",
    "curves = [\n",
    "    CPC.from_px(x=100, **defaults),\n",
    "    CPC.from_px(x=50, **defaults),\n",
    "    CPC.from_px(x=150, **defaults),\n",
    "]\n",
    "for c in curves:\n",
    "    plt.plot(dxr, [c.dyfromdx_f(dx) for dx in dxr])\n",
    "\n",
    "plt.ylim((-100,200))\n",
    "plt.xlim((-50,50))\n",
    "plt.grid()"
   ]
  },
  {
   "cell_type": "code",
   "execution_count": null,
   "id": "669bcaca-0d61-44be-bda1-8a271719064d",
   "metadata": {
    "lines_to_next_cell": 0
   },
   "outputs": [],
   "source": [
    "defaults = dict(p=2, x_act=10, y_act=20)\n",
    "curves = [\n",
    "    CPC.from_px(x=100, **defaults),\n",
    "    CPC.from_px(x=50, **defaults),\n",
    "    CPC.from_px(x=150, **defaults),\n",
    "]\n",
    "for c in curves:\n",
    "    plt.plot(dxr, [c.dyfromdx_f(dx) for dx in dxr])\n",
    "\n",
    "# plt.ylim((-100,200))\n",
    "# plt.xlim((-50,50))\n",
    "plt.grid()"
   ]
  },
  {
   "cell_type": "code",
   "execution_count": null,
   "id": "59b18c4c",
   "metadata": {},
   "outputs": [],
   "source": []
  },
  {
   "cell_type": "code",
   "execution_count": null,
   "id": "c5d91773",
   "metadata": {},
   "outputs": [],
   "source": []
  },
  {
   "cell_type": "code",
   "execution_count": null,
   "id": "a5c0af1b",
   "metadata": {},
   "outputs": [],
   "source": []
  }
 ],
 "metadata": {
  "jupytext": {
   "encoding": "# -*- coding: utf-8 -*-",
   "formats": "ipynb,py:light"
  },
  "kernelspec": {
   "display_name": "Python 3",
   "language": "python",
   "name": "python3"
  },
  "language_info": {
   "codemirror_mode": {
    "name": "ipython",
    "version": 3
   },
   "file_extension": ".py",
   "mimetype": "text/x-python",
   "name": "python",
   "nbconvert_exporter": "python",
   "pygments_lexer": "ipython3",
   "version": "3.8.8"
  }
 },
 "nbformat": 4,
 "nbformat_minor": 5
}

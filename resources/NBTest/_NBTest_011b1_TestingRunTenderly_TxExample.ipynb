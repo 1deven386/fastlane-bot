{
 "cells": [
  {
   "cell_type": "code",
   "execution_count": null,
   "id": "8f04c50a-67fe-4f09-822d-6ed6e3ac43e4",
   "metadata": {},
   "outputs": [],
   "source": [
    "from fastlane_bot import Config, ConfigDB, ConfigNetwork, ConfigProvider\n",
    "from fastlane_bot.bot import CarbonBot\n",
    "from fastlane_bot.tools.cpc import ConstantProductCurve as CPC, CPCContainer, T\n",
    "print(\"{0.__name__} v{0.__VERSION__} ({0.__DATE__})\".format(CPC))\n",
    "print(\"{0.__name__} v{0.__VERSION__} ({0.__DATE__})\".format(CarbonBot))\n",
    "from fastlane_bot.testing import *\n",
    "plt.style.use('seaborn-dark')\n",
    "plt.rcParams['figure.figsize'] = [12,6]\n",
    "from fastlane_bot import __VERSION__\n",
    "require(\"2.0\", __VERSION__)"
   ]
  },
  {
   "attachments": {},
   "cell_type": "markdown",
   "id": "b3f59f14-b91b-4dba-94b0-3d513aaf41c7",
   "metadata": {},
   "source": [
    "# Testing the _run functions on TENDERLY EXAMPLE TX [NBTest011b1]"
   ]
  },
  {
   "cell_type": "markdown",
   "id": "cf03072d-6304-41f8-b132-9470ae81ac7c",
   "metadata": {},
   "source": [
    "## TENDERLY Configuration"
   ]
  },
  {
   "cell_type": "markdown",
   "id": "0990888a-698c-487c-9142-80e62a8393ac",
   "metadata": {},
   "source": [
    "### Set up the bot and curves"
   ]
  },
  {
   "cell_type": "code",
   "execution_count": null,
   "id": "da9ff008-cb12-44f7-93a8-84f7386da886",
   "metadata": {},
   "outputs": [],
   "source": [
    "C = Config.new(config=Config.CONFIG_TENDERLY)\n",
    "assert C.DATABASE == C.DATABASE_POSTGRES\n",
    "assert C.POSTGRES_DB == \"tenderly\"\n",
    "assert C.NETWORK == C.NETWORK_TENDERLY\n",
    "assert C.PROVIDER == C.PROVIDER_TENDERLY\n",
    "bot = CarbonBot(ConfigObj=C)\n",
    "assert str(type(bot.db)) == \"<class 'fastlane_bot.db.manager.DatabaseManager'>\""
   ]
  },
  {
   "cell_type": "code",
   "execution_count": null,
   "id": "cf93211a",
   "metadata": {},
   "outputs": [],
   "source": [
    "# provided here for convenience; must be commented out for tests\n",
    "# bot.update(drop_tables=False)"
   ]
  },
  {
   "cell_type": "code",
   "execution_count": null,
   "id": "4c184a25",
   "metadata": {},
   "outputs": [],
   "source": [
    "CCm = bot.get_curves()\n",
    "exch = {c.P(\"exchange\") for c in CCm}\n",
    "print(\"Number of curvers:\", len(CCm))\n",
    "print(\"Number of tokens:\", len(CCm.tokens()))\n",
    "print(\"Exchanges:\", exch)"
   ]
  },
  {
   "cell_type": "code",
   "execution_count": null,
   "id": "5382d20f",
   "metadata": {},
   "outputs": [],
   "source": [
    "flt = [T.ETH]\n",
    "route_struct = bot._run(flashloan_tokens=flt, CCm=CCm, result=bot.XS_ROUTE)\n",
    "route_struct"
   ]
  },
  {
   "cell_type": "code",
   "execution_count": null,
   "id": "fd4fb74d",
   "metadata": {},
   "outputs": [],
   "source": [
    "ordinfo = bot._run(flashloan_tokens=flt, CCm=CCm, result=bot.XS_ORDINFO)\n",
    "flashloan_amount = ordinfo[1]\n",
    "flashloan_token_address = ordinfo[2]"
   ]
  },
  {
   "cell_type": "code",
   "execution_count": null,
   "id": "5f5f3193",
   "metadata": {},
   "outputs": [],
   "source": [
    "bot._validate_and_submit_transaction_tenderly(\n",
    "        ConfigObj = C,\n",
    "        route_struct = route_struct,\n",
    "        src_amount = flashloan_amount,\n",
    "        src_address = flashloan_token_address,\n",
    "            )"
   ]
  },
  {
   "cell_type": "markdown",
   "id": "4361a6fc",
   "metadata": {},
   "source": [
    "### Hard coded example"
   ]
  },
  {
   "cell_type": "code",
   "execution_count": null,
   "id": "fade4fc9",
   "metadata": {},
   "outputs": [],
   "source": [
    "# deadline = bot._get_deadline()"
   ]
  },
  {
   "cell_type": "code",
   "execution_count": null,
   "id": "8090a22e",
   "metadata": {},
   "outputs": [],
   "source": [
    "## example format encoded data\n",
    "\n",
    "# 0x\n",
    "# 0000000000000000000000000000000000000000000000000000000000000020    # this is 32\n",
    "# 0000000000000000000000000000000000000000000000000000000000000001    # this is number of orders\n",
    "# 0000000000000000000000000000000c00000000000000000000000000000048    # cid\n",
    "# 000000000000000000000000000000000000000000000000000000012a05f200    # amount"
   ]
  },
  {
   "cell_type": "code",
   "execution_count": null,
   "id": "dec5b828",
   "metadata": {},
   "outputs": [],
   "source": [
    "# want to input $5000 USDC in exchang for WBTC\n",
    "# amount = hex(int(5000 * 1e6))  #amount to pad out zeros\n",
    "# amount"
   ]
  },
  {
   "cell_type": "code",
   "execution_count": null,
   "id": "b8c9dadf",
   "metadata": {},
   "outputs": [],
   "source": [
    "# convert the cid and then pad with zeros\n",
    "# cid = hex(4083388403051261561560495289181218537544)\n",
    "# cid"
   ]
  },
  {
   "cell_type": "code",
   "execution_count": null,
   "id": "42568ba1",
   "metadata": {},
   "outputs": [],
   "source": [
    "# TODO create the customdata with the zero padding"
   ]
  },
  {
   "cell_type": "code",
   "execution_count": null,
   "id": "66831895",
   "metadata": {},
   "outputs": [],
   "source": [
    "# route_struct = [\n",
    "#   {'exchangeId': 6,\n",
    "#   'targetToken': C.w3.toChecksumAddress('0x2260FAC5E5542a773Aa44fBCfeDf7C193bc2C599'),\n",
    "#   'minTargetAmount': 1,\n",
    "#   'deadline': deadline,\n",
    "#   'customAddress': C.w3.toChecksumAddress('0x2260FAC5E5542a773Aa44fBCfeDf7C193bc2C599'),\n",
    "#   'customInt': 0,\n",
    "#   'customData': '0x000000000000000000000000000000000000000000000000000000000000002000000000000000000000000000000000000000000000000000000000000000010000000000000000000000000000000c00000000000000000000000000000048000000000000000000000000000000000000000000000000000000012a05f200'},\n",
    "#  {'exchangeId': 2,\n",
    "#   'targetToken': C.w3.toChecksumAddress('0xA0b86991c6218b36c1d19D4a2e9Eb0cE3606eB48'),\n",
    "#   'minTargetAmount': 1,\n",
    "#   'deadline': deadline,\n",
    "#   'customAddress': C.w3.toChecksumAddress('0xA0b86991c6218b36c1d19D4a2e9Eb0cE3606eB48'),\n",
    "#   'customInt': 0,\n",
    "#   'customData': '0x'}\n",
    "# ]\n",
    "# flashloan_token_address =C.w3.toChecksumAddress('0xA0b86991c6218b36c1d19D4a2e9Eb0cE3606eB48')\n",
    "# flashloan_amount = 5000000000"
   ]
  },
  {
   "cell_type": "code",
   "execution_count": null,
   "id": "76ed9a8c",
   "metadata": {},
   "outputs": [],
   "source": [
    "# bot._validate_and_submit_transaction_tenderly(\n",
    "#         ConfigObj = C,\n",
    "#         route_struct = route_struct,\n",
    "#         src_amount = flashloan_amount,\n",
    "#         src_address = flashloan_token_address,\n",
    "#             )"
   ]
  }
 ],
 "metadata": {
  "jupytext": {
   "encoding": "# -*- coding: utf-8 -*-",
   "formats": "ipynb,py:light"
  },
  "kernelspec": {
   "display_name": "Python 3",
   "language": "python",
   "name": "python3"
  },
  "language_info": {
   "codemirror_mode": {
    "name": "ipython",
    "version": 3
   },
   "file_extension": ".py",
   "mimetype": "text/x-python",
   "name": "python",
   "nbconvert_exporter": "python",
   "pygments_lexer": "ipython3",
   "version": "3.10.10"
  }
 },
 "nbformat": 4,
 "nbformat_minor": 5
}

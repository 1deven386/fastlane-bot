{
 "cells": [
  {
   "cell_type": "code",
   "execution_count": 7,
   "id": "84fa264b",
   "metadata": {
    "ExecuteTime": {
     "end_time": "2023-09-18T18:18:48.736684Z",
     "start_time": "2023-09-18T18:18:48.703103Z"
    }
   },
   "outputs": [
    {
     "name": "stdout",
     "output_type": "stream",
     "text": [
      "ConstantProductCurve v3.2 (15/Sep/2023)\n",
      "CarbonBot v3-b2.2 (20/June/2023)\n",
      "UniswapV2 v0.0.2 (2023-08-27)\n",
      "UniswapV3 v0.0.2 (2023-08-27)\n",
      "SushiswapV2 v0.0.2 (2023-08-27)\n",
      "CarbonV1 v0.0.2 (2023-08-27)\n",
      "BancorV3 v0.0.2 (2023-08-27)\n",
      "Version = 3-b2.2 [requirements >= 3.0 is met]\n"
     ]
    }
   ],
   "source": [
    "# coding=utf-8\n",
    "\"\"\"\n",
    "This module contains the tests for the exchanges classes\n",
    "\"\"\"\n",
    "from fastlane_bot import Bot, Config\n",
    "from fastlane_bot.bot import CarbonBot\n",
    "from fastlane_bot.tools.cpc import ConstantProductCurve\n",
    "from fastlane_bot.tools.cpc import ConstantProductCurve as CPC\n",
    "from fastlane_bot.events.exchanges import UniswapV2, UniswapV3, SushiswapV2, CarbonV1, BancorV3\n",
    "from fastlane_bot.events.interface import QueryInterface\n",
    "from fastlane_bot.helpers.poolandtokens import PoolAndTokens\n",
    "from fastlane_bot.helpers import TradeInstruction, TxReceiptHandler, TxRouteHandler, TxSubmitHandler, TxHelpers, TxHelper\n",
    "from fastlane_bot.events.managers.manager import Manager\n",
    "from fastlane_bot.events.interface import QueryInterface\n",
    "from joblib import Parallel, delayed\n",
    "import pytest\n",
    "import math\n",
    "import json\n",
    "print(\"{0.__name__} v{0.__VERSION__} ({0.__DATE__})\".format(CPC))\n",
    "print(\"{0.__name__} v{0.__VERSION__} ({0.__DATE__})\".format(Bot))\n",
    "print(\"{0.__name__} v{0.__VERSION__} ({0.__DATE__})\".format(UniswapV2))\n",
    "print(\"{0.__name__} v{0.__VERSION__} ({0.__DATE__})\".format(UniswapV3))\n",
    "print(\"{0.__name__} v{0.__VERSION__} ({0.__DATE__})\".format(SushiswapV2))\n",
    "print(\"{0.__name__} v{0.__VERSION__} ({0.__DATE__})\".format(CarbonV1))\n",
    "print(\"{0.__name__} v{0.__VERSION__} ({0.__DATE__})\".format(BancorV3))\n",
    "from fastlane_bot.testing import *\n",
    "from fastlane_bot.modes import triangle_single_bancor3\n",
    "#plt.style.use('seaborn-dark')\n",
    "plt.rcParams['figure.figsize'] = [12,6]\n",
    "from fastlane_bot import __VERSION__\n",
    "require(\"3.0\", __VERSION__)"
   ]
  },
  {
   "cell_type": "markdown",
   "id": "4c4e2283",
   "metadata": {},
   "source": [
    "# Single Mode [NB038]"
   ]
  },
  {
   "cell_type": "code",
   "execution_count": 8,
   "id": "a51e5ec2",
   "metadata": {
    "ExecuteTime": {
     "end_time": "2023-09-18T18:18:51.415985Z",
     "start_time": "2023-09-18T18:18:48.713252Z"
    }
   },
   "outputs": [
    {
     "name": "stderr",
     "output_type": "stream",
     "text": [
      "2023-09-18 11:18:48,713 [fastlane:INFO] - \n",
      "2023-09-18 11:18:48,713 [fastlane:INFO] - \n",
      "2023-09-18 11:18:48,713 [fastlane:INFO] - **********************************************\n",
      "2023-09-18 11:18:48,713 [fastlane:INFO] - **********************************************\n",
      "2023-09-18 11:18:48,714 [fastlane:INFO] - The logging path is set to: logs/20230918-111848/bot.log\n",
      "2023-09-18 11:18:48,714 [fastlane:INFO] - The logging path is set to: logs/20230918-111848/bot.log\n",
      "2023-09-18 11:18:48,715 [fastlane:INFO] - **********************************************\n",
      "2023-09-18 11:18:48,715 [fastlane:INFO] - **********************************************\n",
      "2023-09-18 11:18:48,716 [fastlane:INFO] - \n",
      "2023-09-18 11:18:48,716 [fastlane:INFO] - \n",
      "2023-09-18 11:18:50,035 [fastlane:INFO] - Retrieved 168 carbon pairs from contract\n",
      "2023-09-18 11:18:50,035 [fastlane:INFO] - Retrieved 168 carbon pairs from contract\n",
      "2023-09-18 11:18:50,957 [fastlane:INFO] - Time taken to add initial pools: 0.06984496116638184\n",
      "2023-09-18 11:18:50,957 [fastlane:INFO] - Time taken to add initial pools: 0.06984496116638184\n",
      "2023-09-18 11:18:50,960 [fastlane:INFO] - Initializing the bot...\n",
      "2023-09-18 11:18:50,960 [fastlane:INFO] - Initializing the bot...\n",
      "2023-09-18 11:18:51,102 [fastlane:INFO] - Removed 3242 unmapped uniswap_v2/sushi pools. 1897 uniswap_v2/sushi pools remaining\n",
      "2023-09-18 11:18:51,102 [fastlane:INFO] - Removed 3242 unmapped uniswap_v2/sushi pools. 1897 uniswap_v2/sushi pools remaining\n",
      "2023-09-18 11:18:51,102 [fastlane:INFO] - Unmapped uniswap_v2/sushi pools:\n",
      "2023-09-18 11:18:51,102 [fastlane:INFO] - Unmapped uniswap_v2/sushi pools:\n",
      "2023-09-18 11:18:51,298 [fastlane:INFO] - uniswap_v3: 0\n",
      "2023-09-18 11:18:51,298 [fastlane:INFO] - uniswap_v3: 0\n",
      "2023-09-18 11:18:51,299 [fastlane:INFO] - uniswap_v2: 3242\n",
      "2023-09-18 11:18:51,299 [fastlane:INFO] - uniswap_v2: 3242\n",
      "2023-09-18 11:18:51,300 [fastlane:INFO] - sushiswap_v2: 0\n",
      "2023-09-18 11:18:51,300 [fastlane:INFO] - sushiswap_v2: 0\n",
      "2023-09-18 11:18:51,302 [fastlane:INFO] - uniswap_v3: 636\n",
      "2023-09-18 11:18:51,302 [fastlane:INFO] - uniswap_v3: 636\n",
      "2023-09-18 11:18:51,302 [fastlane:INFO] - sushiswap_v2: 78\n",
      "2023-09-18 11:18:51,302 [fastlane:INFO] - sushiswap_v2: 78\n",
      "2023-09-18 11:18:51,303 [fastlane:INFO] - uniswap_v2: 0\n",
      "2023-09-18 11:18:51,303 [fastlane:INFO] - uniswap_v2: 0\n",
      "2023-09-18 11:18:51,303 [fastlane:INFO] - bancor_v2: 0\n",
      "2023-09-18 11:18:51,303 [fastlane:INFO] - bancor_v2: 0\n",
      "2023-09-18 11:18:51,304 [fastlane:INFO] - bancor_v3: 34\n",
      "2023-09-18 11:18:51,304 [fastlane:INFO] - bancor_v3: 34\n",
      "2023-09-18 11:18:51,304 [fastlane:INFO] - carbon_v1: 220\n",
      "2023-09-18 11:18:51,304 [fastlane:INFO] - carbon_v1: 220\n",
      "2023-09-18 11:18:51,336 [fastlane:INFO] - uniswap_v3_zero_liquidity_pools: 858\n",
      "2023-09-18 11:18:51,336 [fastlane:INFO] - uniswap_v3_zero_liquidity_pools: 858\n",
      "2023-09-18 11:18:51,337 [fastlane:INFO] - sushiswap_v2_zero_liquidity_pools: 34\n",
      "2023-09-18 11:18:51,337 [fastlane:INFO] - sushiswap_v2_zero_liquidity_pools: 34\n",
      "2023-09-18 11:18:51,337 [fastlane:INFO] - uniswap_v2_zero_liquidity_pools: 0\n",
      "2023-09-18 11:18:51,337 [fastlane:INFO] - uniswap_v2_zero_liquidity_pools: 0\n",
      "2023-09-18 11:18:51,338 [fastlane:INFO] - bancor_v2_zero_liquidity_pools: 0\n",
      "2023-09-18 11:18:51,338 [fastlane:INFO] - bancor_v2_zero_liquidity_pools: 0\n",
      "2023-09-18 11:18:51,338 [fastlane:INFO] - bancor_v3_zero_liquidity_pools: 37\n",
      "2023-09-18 11:18:51,338 [fastlane:INFO] - bancor_v3_zero_liquidity_pools: 37\n",
      "2023-09-18 11:18:51,339 [fastlane:INFO] - carbon_v1_zero_liquidity_pools: 0\n",
      "2023-09-18 11:18:51,339 [fastlane:INFO] - carbon_v1_zero_liquidity_pools: 0\n",
      "2023-09-18 11:18:51,340 [fastlane:INFO] - Removed 0 unsupported exchanges. 968 pools remaining\n",
      "2023-09-18 11:18:51,340 [fastlane:INFO] - Removed 0 unsupported exchanges. 968 pools remaining\n",
      "2023-09-18 11:18:51,340 [fastlane:INFO] - Pools remaining per exchange:\n",
      "2023-09-18 11:18:51,340 [fastlane:INFO] - Pools remaining per exchange:\n",
      "2023-09-18 11:18:51,341 [fastlane:INFO] - carbon_v1: 220\n",
      "2023-09-18 11:18:51,341 [fastlane:INFO] - carbon_v1: 220\n",
      "2023-09-18 11:18:51,341 [fastlane:INFO] - uniswap_v3: 636\n",
      "2023-09-18 11:18:51,341 [fastlane:INFO] - uniswap_v3: 636\n",
      "2023-09-18 11:18:51,341 [fastlane:INFO] - bancor_v3: 34\n",
      "2023-09-18 11:18:51,341 [fastlane:INFO] - bancor_v3: 34\n",
      "2023-09-18 11:18:51,342 [fastlane:INFO] - sushiswap_v2: 78\n",
      "2023-09-18 11:18:51,342 [fastlane:INFO] - sushiswap_v2: 78\n",
      "2023-09-18 11:18:51,342 [fastlane:INFO] - uniswap_v2: 0\n",
      "2023-09-18 11:18:51,342 [fastlane:INFO] - uniswap_v2: 0\n"
     ]
    }
   ],
   "source": [
    "C = cfg = Config.new(config=Config.CONFIG_MAINNET)\n",
    "C.DEFAULT_MIN_PROFIT_BNT = 0.02\n",
    "C.DEFAULT_MIN_PROFIT = 0.02\n",
    "cfg.DEFAULT_MIN_PROFIT_BNT = 0.02\n",
    "cfg.DEFAULT_MIN_PROFIT = 0.02\n",
    "assert (C.NETWORK == C.NETWORK_MAINNET)\n",
    "assert (C.PROVIDER == C.PROVIDER_ALCHEMY)\n",
    "setup_bot = CarbonBot(ConfigObj=C)\n",
    "pools = None\n",
    "with open('fastlane_bot/data/tests/latest_pool_data_testing.json') as f:\n",
    "    pools = json.load(f)\n",
    "pools = [pool for pool in pools]\n",
    "pools[0]\n",
    "static_pools = pools\n",
    "state = pools\n",
    "exchanges = list({ex['exchange_name'] for ex in state})\n",
    "db = QueryInterface(state=state, ConfigObj=C, exchanges=exchanges)\n",
    "setup_bot.db = db\n",
    "\n",
    "static_pool_data_filename = \"static_pool_data\"\n",
    "\n",
    "static_pool_data = pd.read_csv(f\"fastlane_bot/data/{static_pool_data_filename}.csv\", low_memory=False)\n",
    "    \n",
    "uniswap_v2_event_mappings = pd.read_csv(\"fastlane_bot/data/uniswap_v2_event_mappings.csv\", low_memory=False)\n",
    "        \n",
    "tokens = pd.read_csv(\"fastlane_bot/data/tokens.csv\", low_memory=False)\n",
    "        \n",
    "exchanges = \"carbon_v1,bancor_v3,uniswap_v3,uniswap_v2,sushiswap_v2\"\n",
    "\n",
    "exchanges = exchanges.split(\",\")\n",
    "\n",
    "\n",
    "alchemy_max_block_fetch = 20\n",
    "static_pool_data[\"cid\"] = [\n",
    "        cfg.w3.keccak(text=f\"{row['descr']}\").hex()\n",
    "        for index, row in static_pool_data.iterrows()\n",
    "    ]\n",
    "# Filter out pools that are not in the supported exchanges\n",
    "static_pool_data = [\n",
    "    row for index, row in static_pool_data.iterrows()\n",
    "    if row[\"exchange_name\"] in exchanges\n",
    "]\n",
    "\n",
    "static_pool_data = pd.DataFrame(static_pool_data)\n",
    "static_pool_data['exchange_name'].unique()\n",
    "# Initialize data fetch manager\n",
    "mgr = Manager(\n",
    "    web3=cfg.w3,\n",
    "    cfg=cfg,\n",
    "    pool_data=static_pool_data.to_dict(orient=\"records\"),\n",
    "    SUPPORTED_EXCHANGES=exchanges,\n",
    "    alchemy_max_block_fetch=alchemy_max_block_fetch,\n",
    "    uniswap_v2_event_mappings=uniswap_v2_event_mappings,\n",
    "    tokens=tokens.to_dict(orient=\"records\"),\n",
    ")\n",
    "\n",
    "# Add initial pools for each row in the static_pool_data\n",
    "start_time = time.time()\n",
    "Parallel(n_jobs=-1, backend=\"threading\")(\n",
    "    delayed(mgr.add_pool_to_exchange)(row) for row in mgr.pool_data\n",
    ")\n",
    "cfg.logger.info(f\"Time taken to add initial pools: {time.time() - start_time}\")\n",
    "\n",
    "# check if any duplicate cid's exist in the pool data\n",
    "mgr.deduplicate_pool_data()\n",
    "cids = [pool[\"cid\"] for pool in mgr.pool_data]\n",
    "assert len(cids) == len(set(cids)), \"duplicate cid's exist in the pool data\"\n",
    "def init_bot(mgr: Manager) -> CarbonBot:\n",
    "    \"\"\"\n",
    "    Initializes the bot.\n",
    "\n",
    "    Parameters\n",
    "    ----------\n",
    "    mgr : Manager\n",
    "        The manager object.\n",
    "\n",
    "    Returns\n",
    "    -------\n",
    "    CarbonBot\n",
    "        The bot object.\n",
    "    \"\"\"\n",
    "    mgr.cfg.logger.info(\"Initializing the bot...\")\n",
    "    bot = CarbonBot(ConfigObj=mgr.cfg)\n",
    "    bot.db = db\n",
    "    bot.db.mgr = mgr\n",
    "    assert isinstance(\n",
    "        bot.db, QueryInterface\n",
    "    ), \"QueryInterface not initialized correctly\"\n",
    "    return bot\n",
    "bot = init_bot(mgr)\n",
    "# add data cleanup steps from main.py\n",
    "bot.db.handle_token_key_cleanup()\n",
    "bot.db.remove_unmapped_uniswap_v2_pools()\n",
    "bot.db.remove_zero_liquidity_pools()\n",
    "bot.db.remove_unsupported_exchanges()\n",
    "tokens = bot.db.get_tokens()\n",
    "ADDRDEC = {t.key: (t.address, int(t.decimals)) for t in tokens if not math.isnan(t.decimals)}\n",
    "flashloan_tokens = bot.setup_flashloan_tokens(None)\n",
    "CCm = bot.setup_CCm(None)\n",
    "pools = db.get_pool_data_with_tokens()\n",
    "\n",
    "arb_mode = \"single\""
   ]
  },
  {
   "cell_type": "code",
   "execution_count": 9,
   "id": "71b83fef",
   "metadata": {
    "ExecuteTime": {
     "end_time": "2023-09-18T18:18:51.419388Z",
     "start_time": "2023-09-18T18:18:51.417290Z"
    }
   },
   "outputs": [],
   "source": [
    "assert(cfg.DEFAULT_MIN_PROFIT_BNT <= 0.02), f\"[TestSingleMode], DEFAULT_MIN_PROFIT_BNT must be <= 0.02 for this Notebook to run, currently set to {cfg.DEFAULT_MIN_PROFIT_BNT}\"\n",
    "assert(C.DEFAULT_MIN_PROFIT_BNT <= 0.02), f\"[TestSingleMode], DEFAULT_MIN_PROFIT_BNT must be <= 0.02 for this Notebook to run, currently set to {cfg.DEFAULT_MIN_PROFIT_BNT}\""
   ]
  },
  {
   "cell_type": "code",
   "execution_count": 9,
   "id": "f729b8dd",
   "metadata": {
    "ExecuteTime": {
     "end_time": "2023-09-18T18:18:51.422311Z",
     "start_time": "2023-09-18T18:18:51.419690Z"
    }
   },
   "outputs": [],
   "source": []
  },
  {
   "cell_type": "markdown",
   "id": "d1c95bad",
   "metadata": {},
   "source": [
    "## Test_arb_mode_class"
   ]
  },
  {
   "cell_type": "code",
   "execution_count": 10,
   "id": "aaaf7423",
   "metadata": {
    "ExecuteTime": {
     "end_time": "2023-09-18T18:18:51.425463Z",
     "start_time": "2023-09-18T18:18:51.421849Z"
    }
   },
   "outputs": [],
   "source": [
    "arb_finder = bot._get_arb_finder(\"single\")\n",
    "assert arb_finder.__name__ == \"FindArbitrageSinglePairwise\", f\"[TestSingleMode] Expected arb_finder class name name = FindArbitrageSinglePairwise, found {arb_finder.__name__}\""
   ]
  },
  {
   "cell_type": "markdown",
   "id": "d19e14ac",
   "metadata": {},
   "source": [
    "## Test_tokens_and_combos"
   ]
  },
  {
   "cell_type": "code",
   "execution_count": 11,
   "id": "b1f40498",
   "metadata": {
    "ExecuteTime": {
     "end_time": "2023-09-18T18:18:51.428260Z",
     "start_time": "2023-09-18T18:18:51.423970Z"
    }
   },
   "outputs": [],
   "source": [
    "arb_finder = bot._get_arb_finder(\"single\")\n",
    "finder2 = arb_finder(\n",
    "            flashloan_tokens=flashloan_tokens,\n",
    "            CCm=CCm,\n",
    "            mode=\"bothin\",\n",
    "            result=bot.AO_TOKENS,\n",
    "            ConfigObj=bot.ConfigObj,\n",
    "        )\n",
    "all_tokens, combos = finder2.find_arbitrage()\n",
    "assert len(all_tokens) == 545, f\"[TestMultiMode] Using wrong dataset, expected 545 tokens, found {len(all_tokens)}\"\n",
    "assert len(combos) == 3264, f\"[TestMultiMode] Using wrong dataset, expected 3264 tokens, found {len(combos)}\""
   ]
  },
  {
   "cell_type": "markdown",
   "id": "e703ba6b",
   "metadata": {},
   "source": [
    "### Test_Single_Arb_Finder_vs_run"
   ]
  },
  {
   "cell_type": "code",
   "execution_count": 12,
   "id": "48e2f5a1",
   "metadata": {
    "ExecuteTime": {
     "end_time": "2023-09-18T18:18:57.580253Z",
     "start_time": "2023-09-18T18:18:51.431388Z"
    }
   },
   "outputs": [
    {
     "data": {
      "text/plain": "0it [00:00, ?it/s]",
      "application/vnd.jupyter.widget-view+json": {
       "version_major": 2,
       "version_minor": 0,
       "model_id": "831a39a888dd411291f219f421132df0"
      }
     },
     "metadata": {},
     "output_type": "display_data"
    },
    {
     "data": {
      "text/plain": "0it [00:00, ?it/s]",
      "application/vnd.jupyter.widget-view+json": {
       "version_major": 2,
       "version_minor": 0,
       "model_id": "89cb5a9ed01b4705838da61732ca1abb"
      }
     },
     "metadata": {},
     "output_type": "display_data"
    },
    {
     "data": {
      "text/plain": "0it [00:00, ?it/s]",
      "application/vnd.jupyter.widget-view+json": {
       "version_major": 2,
       "version_minor": 0,
       "model_id": "46dbce8f13644202a9a21718d7c5a0c5"
      }
     },
     "metadata": {},
     "output_type": "display_data"
    },
    {
     "data": {
      "text/plain": "  0%|          | 0/4 [00:00<?, ?it/s]",
      "application/vnd.jupyter.widget-view+json": {
       "version_major": 2,
       "version_minor": 0,
       "model_id": "f25964ebe94f4ff596bf0b2b6075e598"
      }
     },
     "metadata": {},
     "output_type": "display_data"
    },
    {
     "name": "stdout",
     "output_type": "stream",
     "text": [
      "[PairOptimizer.optimize] curves_t agEUR-Bce8/USDC-eB48\n",
      "[PairOptimizer.optimize] p_optimal OptimizerBase.SimpleResult(result=1.1012586819982886, method='bisection', errormsg=None, context_dct=None) full_result [-0.00028294  0.00031158]\n",
      "[PairOptimizer.optimize] curves_t agEUR-Bce8/USDC-eB48\n",
      "[PairOptimizer.optimize] p_optimal OptimizerBase.SimpleResult(result=1.1012068414056138, method='bisection', errormsg=None, context_dct=None) full_result [ 1.56512065e-03 -1.18761945e+01]\n",
      "[PairOptimizer.optimize] curves_t agEUR-Bce8/USDC-eB48\n",
      "[PairOptimizer.optimize] p_optimal OptimizerBase.SimpleResult(result=1.0977629060087901, method='bisection', errormsg=None, context_dct=None) full_result [ 2.36049527e-06 -2.59128865e-06]\n",
      "[PairOptimizer.optimize] curves_t agEUR-Bce8/USDC-eB48\n",
      "[PairOptimizer.optimize] p_optimal OptimizerBase.SimpleResult(result=1.095424874858844, method='bisection', errormsg=None, context_dct=None) full_result [-1.56286405e-05 -2.33128487e-01]\n"
     ]
    },
    {
     "data": {
      "text/plain": "0it [00:00, ?it/s]",
      "application/vnd.jupyter.widget-view+json": {
       "version_major": 2,
       "version_minor": 0,
       "model_id": "337b5557069f49afbcf3aefa29655835"
      }
     },
     "metadata": {},
     "output_type": "display_data"
    },
    {
     "data": {
      "text/plain": "0it [00:00, ?it/s]",
      "application/vnd.jupyter.widget-view+json": {
       "version_major": 2,
       "version_minor": 0,
       "model_id": "8bf52aa852f4465aa951365a63d0e2aa"
      }
     },
     "metadata": {},
     "output_type": "display_data"
    },
    {
     "data": {
      "text/plain": "0it [00:00, ?it/s]",
      "application/vnd.jupyter.widget-view+json": {
       "version_major": 2,
       "version_minor": 0,
       "model_id": "0389fb1e19184fb08ddc4c32d4763939"
      }
     },
     "metadata": {},
     "output_type": "display_data"
    },
    {
     "data": {
      "text/plain": "0it [00:00, ?it/s]",
      "application/vnd.jupyter.widget-view+json": {
       "version_major": 2,
       "version_minor": 0,
       "model_id": "cfa11589153f478dac7987a52806ee71"
      }
     },
     "metadata": {},
     "output_type": "display_data"
    },
    {
     "data": {
      "text/plain": "0it [00:00, ?it/s]",
      "application/vnd.jupyter.widget-view+json": {
       "version_major": 2,
       "version_minor": 0,
       "model_id": "f6d0797410124f7a808e265320f2a0a6"
      }
     },
     "metadata": {},
     "output_type": "display_data"
    },
    {
     "data": {
      "text/plain": "  0%|          | 0/4 [00:00<?, ?it/s]",
      "application/vnd.jupyter.widget-view+json": {
       "version_major": 2,
       "version_minor": 0,
       "model_id": "f484cd2cce334f5abb7e256242034116"
      }
     },
     "metadata": {},
     "output_type": "display_data"
    },
    {
     "name": "stdout",
     "output_type": "stream",
     "text": [
      "[PairOptimizer.optimize] curves_t DAI-1d0F/USDC-eB48\n",
      "[PairOptimizer.optimize] p_optimal OptimizerBase.SimpleResult(result=1.0003813756215658, method='bisection', errormsg=None, context_dct=None) full_result [ 0.27017212 -0.27027893]\n",
      "[PairOptimizer.optimize] curves_t DAI-1d0F/USDC-eB48\n",
      "[PairOptimizer.optimize] p_optimal OptimizerBase.SimpleResult(result=1.0003813756365758, method='bisection', errormsg=None, context_dct=None) full_result [-0.19481659  0.19488525]\n",
      "[PairOptimizer.optimize] curves_t DAI-1d0F/USDC-eB48\n",
      "[PairOptimizer.optimize] p_optimal OptimizerBase.SimpleResult(result=0.9999799635362349, method='bisection', errormsg=None, context_dct=None) full_result [ 10.07507324 -10.0748291 ]\n",
      "[PairOptimizer.optimize] curves_t DAI-1d0F/USDC-eB48\n",
      "[PairOptimizer.optimize] p_optimal OptimizerBase.SimpleResult(result=0.9999799635754507, method='bisection', errormsg=None, context_dct=None) full_result [-0.39575195  0.39581299]\n"
     ]
    },
    {
     "data": {
      "text/plain": "  0%|          | 0/4 [00:00<?, ?it/s]",
      "application/vnd.jupyter.widget-view+json": {
       "version_major": 2,
       "version_minor": 0,
       "model_id": "02fc820d98f44efebddd29da090642a3"
      }
     },
     "metadata": {},
     "output_type": "display_data"
    },
    {
     "name": "stdout",
     "output_type": "stream",
     "text": [
      "[PairOptimizer.optimize] curves_t DAI-1d0F/USDT-1ec7\n",
      "[PairOptimizer.optimize] p_optimal OptimizerBase.SimpleResult(result=0.9998810288149655, method='bisection', errormsg=None, context_dct=None) full_result [ 0.03739882 -0.03739452]\n",
      "[PairOptimizer.optimize] curves_t DAI-1d0F/USDT-1ec7\n",
      "[PairOptimizer.optimize] p_optimal OptimizerBase.SimpleResult(result=0.9998810288451494, method='bisection', errormsg=None, context_dct=None) full_result [-0.01955795  0.01955557]\n",
      "[PairOptimizer.optimize] curves_t DAI-1d0F/USDT-1ec7\n",
      "[PairOptimizer.optimize] p_optimal OptimizerBase.SimpleResult(result=1.0000277727814577, method='bisection', errormsg=None, context_dct=None) full_result [ 0.00187576 -0.00187576]\n",
      "[PairOptimizer.optimize] curves_t DAI-1d0F/USDT-1ec7\n",
      "[PairOptimizer.optimize] p_optimal OptimizerBase.SimpleResult(result=1.000027772749948, method='bisection', errormsg=None, context_dct=None) full_result [ 0.00692052 -0.0069207 ]\n"
     ]
    },
    {
     "data": {
      "text/plain": "  0%|          | 0/18 [00:00<?, ?it/s]",
      "application/vnd.jupyter.widget-view+json": {
       "version_major": 2,
       "version_minor": 0,
       "model_id": "e10c28a52cce4d28ab0a56fcfb0ed8da"
      }
     },
     "metadata": {},
     "output_type": "display_data"
    },
    {
     "name": "stdout",
     "output_type": "stream",
     "text": [
      "[PairOptimizer.optimize] curves_t WETH-6Cc2/DAI-1d0F\n",
      "[PairOptimizer.optimize] p_optimal OptimizerBase.SimpleResult(result=1889.8516355281042, method='bisection', errormsg=None, context_dct=None) full_result [-2.25554686e-10  4.32133675e-07]\n",
      "[PairOptimizer.optimize] curves_t WETH-6Cc2/DAI-1d0F\n",
      "[PairOptimizer.optimize] p_optimal OptimizerBase.SimpleResult(result=1889.8516355281013, method='bisection', errormsg=None, context_dct=None) full_result [-1.89174898e-10  3.57627869e-07]\n",
      "[PairOptimizer.optimize] curves_t WETH-6Cc2/DAI-1d0F\n",
      "[PairOptimizer.optimize] p_optimal OptimizerBase.SimpleResult(result=1889.8516355280663, method='bisection', errormsg=None, context_dct=None) full_result [ 1.74622983e-10 -3.27825546e-07]\n",
      "[PairOptimizer.optimize] curves_t WETH-6Cc2/DAI-1d0F\n",
      "[PairOptimizer.optimize] p_optimal OptimizerBase.SimpleResult(result=1889.851635528079, method='bisection', errormsg=None, context_dct=None) full_result [ 3.63797881e-11 -7.45058060e-08]\n",
      "[PairOptimizer.optimize] curves_t WETH-6Cc2/DAI-1d0F\n",
      "[PairOptimizer.optimize] p_optimal OptimizerBase.SimpleResult(result=1889.8516355281054, method='bisection', errormsg=None, context_dct=None) full_result [-2.40106602e-10  4.47034836e-07]\n",
      "[PairOptimizer.optimize] curves_t WETH-6Cc2/DAI-1d0F\n",
      "[PairOptimizer.optimize] p_optimal OptimizerBase.SimpleResult(result=1889.8516355281217, method='bisection', errormsg=None, context_dct=None) full_result [-4.07453626e-10  7.59959221e-07]\n",
      "[PairOptimizer.optimize] curves_t WETH-6Cc2/DAI-1d0F\n",
      "[PairOptimizer.optimize] p_optimal OptimizerBase.SimpleResult(result=1889.8516355280967, method='bisection', errormsg=None, context_dct=None) full_result [-1.38243195e-10  2.68220901e-07]\n",
      "[PairOptimizer.optimize] curves_t WETH-6Cc2/DAI-1d0F\n",
      "[PairOptimizer.optimize] p_optimal OptimizerBase.SimpleResult(result=1889.8516355280508, method='bisection', errormsg=None, context_dct=None) full_result [ 3.34694050e-10 -6.40749931e-07]\n",
      "[PairOptimizer.optimize] curves_t WETH-6Cc2/DAI-1d0F\n",
      "[PairOptimizer.optimize] p_optimal OptimizerBase.SimpleResult(result=1889.8516355280644, method='bisection', errormsg=None, context_dct=None) full_result [ 1.89174898e-10 -3.57627869e-07]\n",
      "[PairOptimizer.optimize] curves_t WETH-6Cc2/DAI-1d0F\n",
      "[PairOptimizer.optimize] p_optimal OptimizerBase.SimpleResult(result=1889.2342508777633, method='bisection', errormsg=None, context_dct=None) full_result [ 1.85536919e-10 -3.50177288e-07]\n",
      "[PairOptimizer.optimize] curves_t WETH-6Cc2/DAI-1d0F\n",
      "[PairOptimizer.optimize] p_optimal OptimizerBase.SimpleResult(result=1889.2342508777883, method='bisection', errormsg=None, context_dct=None) full_result [-2.54658516e-11  5.21540642e-08]\n",
      "[PairOptimizer.optimize] curves_t WETH-6Cc2/DAI-1d0F\n",
      "[PairOptimizer.optimize] p_optimal OptimizerBase.SimpleResult(result=1889.2342508777967, method='bisection', errormsg=None, context_dct=None) full_result [-1.01863407e-10  1.93715096e-07]\n",
      "[PairOptimizer.optimize] curves_t WETH-6Cc2/DAI-1d0F\n",
      "[PairOptimizer.optimize] p_optimal OptimizerBase.SimpleResult(result=1889.23425087778, method='bisection', errormsg=None, context_dct=None) full_result [ 4.36557457e-11 -7.45058060e-08]\n",
      "[PairOptimizer.optimize] curves_t WETH-6Cc2/DAI-1d0F\n",
      "[PairOptimizer.optimize] p_optimal OptimizerBase.SimpleResult(result=1889.2342508777592, method='bisection', errormsg=None, context_dct=None) full_result [ 2.25554685e-10 -4.24683094e-07]\n",
      "[PairOptimizer.optimize] curves_t WETH-6Cc2/DAI-1d0F\n",
      "[PairOptimizer.optimize] p_optimal OptimizerBase.SimpleResult(result=1889.2342508778206, method='bisection', errormsg=None, context_dct=None) full_result [-3.09228199e-10  5.81145287e-07]\n",
      "[PairOptimizer.optimize] curves_t WETH-6Cc2/DAI-1d0F\n",
      "[PairOptimizer.optimize] p_optimal OptimizerBase.SimpleResult(result=1889.2342508777615, method='bisection', errormsg=None, context_dct=None) full_result [ 2.03726813e-10 -3.87430191e-07]\n",
      "[PairOptimizer.optimize] curves_t WETH-6Cc2/DAI-1d0F\n",
      "[PairOptimizer.optimize] p_optimal OptimizerBase.SimpleResult(result=1889.234250877789, method='bisection', errormsg=None, context_dct=None) full_result [-3.63797881e-11  7.45058060e-08]\n",
      "[PairOptimizer.optimize] curves_t WETH-6Cc2/DAI-1d0F\n",
      "[PairOptimizer.optimize] p_optimal OptimizerBase.SimpleResult(result=1889.2342508777924, method='bisection', errormsg=None, context_dct=None) full_result [-6.54836185e-11  1.26659870e-07]\n"
     ]
    },
    {
     "data": {
      "text/plain": "  0%|          | 0/2 [00:00<?, ?it/s]",
      "application/vnd.jupyter.widget-view+json": {
       "version_major": 2,
       "version_minor": 0,
       "model_id": "786f7a9aca214cf98e2f6f714e9edefb"
      }
     },
     "metadata": {},
     "output_type": "display_data"
    },
    {
     "name": "stdout",
     "output_type": "stream",
     "text": [
      "[PairOptimizer.optimize] curves_t LINK-86CA/USDT-1ec7\n",
      "[PairOptimizer.optimize] p_optimal OptimizerBase.SimpleResult(result=6.198117111446582, method='bisection', errormsg=None, context_dct=None) full_result [-8.02097011e-09 -8.85214240e-03]\n",
      "[PairOptimizer.optimize] curves_t LINK-86CA/USDT-1ec7\n",
      "[PairOptimizer.optimize] p_optimal OptimizerBase.SimpleResult(result=6.198055572641563, method='bisection', errormsg=None, context_dct=None) full_result [ 7.24139682e-09 -4.48817445e-08]\n"
     ]
    },
    {
     "data": {
      "text/plain": "  0%|          | 0/2 [00:00<?, ?it/s]",
      "application/vnd.jupyter.widget-view+json": {
       "version_major": 2,
       "version_minor": 0,
       "model_id": "05a398aa22a04e03a979aaa8b39c28aa"
      }
     },
     "metadata": {},
     "output_type": "display_data"
    },
    {
     "name": "stdout",
     "output_type": "stream",
     "text": [
      "[PairOptimizer.optimize] curves_t LINK-86CA/WETH-6Cc2\n",
      "[PairOptimizer.optimize] p_optimal OptimizerBase.SimpleResult(result=0.0033128000531845283, method='bisection', errormsg=None, context_dct=None) full_result [-0.16782973  0.00055599]\n",
      "[PairOptimizer.optimize] curves_t LINK-86CA/WETH-6Cc2\n",
      "[PairOptimizer.optimize] p_optimal OptimizerBase.SimpleResult(result=0.0033127999719611487, method='bisection', errormsg=None, context_dct=None) full_result [-0.13771125  0.00042809]\n"
     ]
    },
    {
     "data": {
      "text/plain": "0it [00:00, ?it/s]",
      "application/vnd.jupyter.widget-view+json": {
       "version_major": 2,
       "version_minor": 0,
       "model_id": "998b15eb6a1c47138b8be9e4bac37798"
      }
     },
     "metadata": {},
     "output_type": "display_data"
    },
    {
     "data": {
      "text/plain": "0it [00:00, ?it/s]",
      "application/vnd.jupyter.widget-view+json": {
       "version_major": 2,
       "version_minor": 0,
       "model_id": "c914026c96c54538ae77ec8378356450"
      }
     },
     "metadata": {},
     "output_type": "display_data"
    },
    {
     "data": {
      "text/plain": "  0%|          | 0/2 [00:00<?, ?it/s]",
      "application/vnd.jupyter.widget-view+json": {
       "version_major": 2,
       "version_minor": 0,
       "model_id": "361db4129c724f568145b533f9f170d7"
      }
     },
     "metadata": {},
     "output_type": "display_data"
    },
    {
     "name": "stdout",
     "output_type": "stream",
     "text": [
      "[PairOptimizer.optimize] curves_t LYXe-be6D/WETH-6Cc2\n",
      "[PairOptimizer.optimize] p_optimal OptimizerBase.SimpleResult(result=0.00442545533353754, method='bisection', errormsg=None, context_dct=None) full_result [ 4.28492494e-05 -1.89627372e-07]\n",
      "[PairOptimizer.optimize] curves_t LYXe-be6D/WETH-6Cc2\n",
      "[PairOptimizer.optimize] p_optimal OptimizerBase.SimpleResult(result=0.004418792370941116, method='bisection', errormsg=None, context_dct=None) full_result [ 2.68626009e-05 -1.18700250e-07]\n"
     ]
    },
    {
     "data": {
      "text/plain": "0it [00:00, ?it/s]",
      "application/vnd.jupyter.widget-view+json": {
       "version_major": 2,
       "version_minor": 0,
       "model_id": "7cf59414db164436b7ff7b84544075cb"
      }
     },
     "metadata": {},
     "output_type": "display_data"
    },
    {
     "data": {
      "text/plain": "  0%|          | 0/3 [00:00<?, ?it/s]",
      "application/vnd.jupyter.widget-view+json": {
       "version_major": 2,
       "version_minor": 0,
       "model_id": "43d7de089b53460f8967360df6f08ea5"
      }
     },
     "metadata": {},
     "output_type": "display_data"
    },
    {
     "name": "stdout",
     "output_type": "stream",
     "text": [
      "[PairOptimizer.optimize] curves_t PEPE-1933/USDC-eB48\n",
      "[PairOptimizer.optimize] p_optimal OptimizerBase.SimpleResult(result=1.5362764284360806e-06, method='bisection', errormsg=None, context_dct=None) full_result [ 3.31085297e+05 -5.15307869e-01]\n",
      "[PairOptimizer.optimize] curves_t PEPE-1933/USDC-eB48\n",
      "[PairOptimizer.optimize] p_optimal OptimizerBase.SimpleResult(result=1.5360413484964488e-06, method='bisection', errormsg=None, context_dct=None) full_result [ 1.24107905e+06 -1.90637755e+00]\n",
      "[PairOptimizer.optimize] curves_t PEPE-1933/USDC-eB48\n",
      "[PairOptimizer.optimize] p_optimal OptimizerBase.SimpleResult(result=1.5361018372863056e-06, method='bisection', errormsg=None, context_dct=None) full_result [-3.75824662e+05  5.77302312e-01]\n"
     ]
    },
    {
     "data": {
      "text/plain": "  0%|          | 0/4 [00:00<?, ?it/s]",
      "application/vnd.jupyter.widget-view+json": {
       "version_major": 2,
       "version_minor": 0,
       "model_id": "4bbfc436b2b4403588e07264944df95c"
      }
     },
     "metadata": {},
     "output_type": "display_data"
    },
    {
     "name": "stdout",
     "output_type": "stream",
     "text": [
      "[PairOptimizer.optimize] curves_t PEPE-1933/WETH-6Cc2\n",
      "[PairOptimizer.optimize] p_optimal OptimizerBase.SimpleResult(result=8.559826188530744e-10, method='bisection', errormsg=None, context_dct=None) full_result [-1.21937536e+10  9.94175394e+00]\n",
      "[PairOptimizer.optimize] curves_t PEPE-1933/WETH-6Cc2\n",
      "[PairOptimizer.optimize] p_optimal OptimizerBase.SimpleResult(result=8.344559342857861e-10, method='bisection', errormsg=None, context_dct=None) full_result [-1.21937536e+10  9.94175394e+00]\n",
      "[PairOptimizer.optimize] curves_t PEPE-1933/WETH-6Cc2\n",
      "[PairOptimizer.optimize] p_optimal OptimizerBase.SimpleResult(result=8.518911123836612e-10, method='bisection', errormsg=None, context_dct=None) full_result [-2.67154608e+09  2.18132892e+00]\n",
      "[PairOptimizer.optimize] curves_t PEPE-1933/WETH-6Cc2\n",
      "[PairOptimizer.optimize] p_optimal OptimizerBase.SimpleResult(result=8.303641780601484e-10, method='bisection', errormsg=None, context_dct=None) full_result [-2.67154608e+09  2.18132892e+00]\n"
     ]
    },
    {
     "data": {
      "text/plain": "0it [00:00, ?it/s]",
      "application/vnd.jupyter.widget-view+json": {
       "version_major": 2,
       "version_minor": 0,
       "model_id": "e0c0dce7d29349de88c78c076cf7160c"
      }
     },
     "metadata": {},
     "output_type": "display_data"
    },
    {
     "data": {
      "text/plain": "0it [00:00, ?it/s]",
      "application/vnd.jupyter.widget-view+json": {
       "version_major": 2,
       "version_minor": 0,
       "model_id": "2b7b47e804f64447a3028e18673530da"
      }
     },
     "metadata": {},
     "output_type": "display_data"
    },
    {
     "data": {
      "text/plain": "0it [00:00, ?it/s]",
      "application/vnd.jupyter.widget-view+json": {
       "version_major": 2,
       "version_minor": 0,
       "model_id": "92aae2f3f0f4408288807f542d2e8efb"
      }
     },
     "metadata": {},
     "output_type": "display_data"
    },
    {
     "data": {
      "text/plain": "0it [00:00, ?it/s]",
      "application/vnd.jupyter.widget-view+json": {
       "version_major": 2,
       "version_minor": 0,
       "model_id": "6eafdd3bd750466b95e3f1e7e251692b"
      }
     },
     "metadata": {},
     "output_type": "display_data"
    },
    {
     "data": {
      "text/plain": "0it [00:00, ?it/s]",
      "application/vnd.jupyter.widget-view+json": {
       "version_major": 2,
       "version_minor": 0,
       "model_id": "58b78476d01f4424b5630e8508a66564"
      }
     },
     "metadata": {},
     "output_type": "display_data"
    },
    {
     "data": {
      "text/plain": "  0%|          | 0/1 [00:00<?, ?it/s]",
      "application/vnd.jupyter.widget-view+json": {
       "version_major": 2,
       "version_minor": 0,
       "model_id": "f81a9e39e7d94ab19db4aa01bec14222"
      }
     },
     "metadata": {},
     "output_type": "display_data"
    },
    {
     "name": "stdout",
     "output_type": "stream",
     "text": [
      "[PairOptimizer.optimize] curves_t MATIC-eBB0/USDC-eB48\n",
      "[PairOptimizer.optimize] p_optimal OptimizerBase.SimpleResult(result=0.7402602510964393, method='bisection', errormsg=None, context_dct=None) full_result [ 1.93977030e-08 -1.43554644e-08]\n"
     ]
    },
    {
     "data": {
      "text/plain": "0it [00:00, ?it/s]",
      "application/vnd.jupyter.widget-view+json": {
       "version_major": 2,
       "version_minor": 0,
       "model_id": "5edf5449523042ada2450c1c3ca5ae49"
      }
     },
     "metadata": {},
     "output_type": "display_data"
    },
    {
     "data": {
      "text/plain": "  0%|          | 0/10 [00:00<?, ?it/s]",
      "application/vnd.jupyter.widget-view+json": {
       "version_major": 2,
       "version_minor": 0,
       "model_id": "243305dad9ec4465ae116669a5a3f04f"
      }
     },
     "metadata": {},
     "output_type": "display_data"
    },
    {
     "name": "stdout",
     "output_type": "stream",
     "text": [
      "[PairOptimizer.optimize] curves_t ETH2x_FLI-65BD/WETH-6Cc2\n",
      "[PairOptimizer.optimize] p_optimal OptimizerBase.SimpleResult(result=0.006679129508676205, method='bisection', errormsg=None, context_dct=None) full_result [-3.10834672e-04  2.07610492e-06]\n",
      "[PairOptimizer.optimize] curves_t ETH2x_FLI-65BD/WETH-6Cc2\n",
      "[PairOptimizer.optimize] p_optimal OptimizerBase.SimpleResult(result=0.006679129463190039, method='bisection', errormsg=None, context_dct=None) full_result [ 4.31903813e-04 -2.88474143e-06]\n",
      "[PairOptimizer.optimize] curves_t ETH2x_FLI-65BD/WETH-6Cc2\n",
      "[PairOptimizer.optimize] p_optimal OptimizerBase.SimpleResult(result=0.006679129508676205, method='bisection', errormsg=None, context_dct=None) full_result [-3.10834672e-04  2.07610492e-06]\n",
      "[PairOptimizer.optimize] curves_t ETH2x_FLI-65BD/WETH-6Cc2\n",
      "[PairOptimizer.optimize] p_optimal OptimizerBase.SimpleResult(result=0.006679129463190039, method='bisection', errormsg=None, context_dct=None) full_result [ 4.31903813e-04 -2.88474143e-06]\n",
      "[PairOptimizer.optimize] curves_t ETH2x_FLI-65BD/WETH-6Cc2\n",
      "[PairOptimizer.optimize] p_optimal OptimizerBase.SimpleResult(result=0.006679129488953929, method='bisection', errormsg=None, context_dct=None) full_result [ 1.12081470e-05 -7.48605089e-08]\n",
      "[PairOptimizer.optimize] curves_t ETH2x_FLI-65BD/WETH-6Cc2\n",
      "[PairOptimizer.optimize] p_optimal OptimizerBase.SimpleResult(result=0.0066791294858909115, method='bisection', errormsg=None, context_dct=None) full_result [ 6.12238073e-05 -4.08921778e-07]\n",
      "[PairOptimizer.optimize] curves_t ETH2x_FLI-65BD/WETH-6Cc2\n",
      "[PairOptimizer.optimize] p_optimal OptimizerBase.SimpleResult(result=0.006679129466468897, method='bisection', errormsg=None, context_dct=None) full_result [ 3.78363678e-04 -2.52713994e-06]\n",
      "[PairOptimizer.optimize] curves_t ETH2x_FLI-65BD/WETH-6Cc2\n",
      "[PairOptimizer.optimize] p_optimal OptimizerBase.SimpleResult(result=0.006679129485902879, method='bisection', errormsg=None, context_dct=None) full_result [ 6.10283751e-05 -4.07616426e-07]\n",
      "[PairOptimizer.optimize] curves_t ETH2x_FLI-65BD/WETH-6Cc2\n",
      "[PairOptimizer.optimize] p_optimal OptimizerBase.SimpleResult(result=0.0066791294539485435, method='bisection', errormsg=None, context_dct=None) full_result [ 5.82807115e-04 -3.89264414e-06]\n",
      "[PairOptimizer.optimize] curves_t ETH2x_FLI-65BD/WETH-6Cc2\n",
      "[PairOptimizer.optimize] p_optimal OptimizerBase.SimpleResult(result=0.006679129470729444, method='bisection', errormsg=None, context_dct=None) full_result [ 3.08793708e-04 -2.06247319e-06]\n"
     ]
    },
    {
     "data": {
      "text/plain": "0it [00:00, ?it/s]",
      "application/vnd.jupyter.widget-view+json": {
       "version_major": 2,
       "version_minor": 0,
       "model_id": "5654e88fe7d347f199dfd1cac6d34c9a"
      }
     },
     "metadata": {},
     "output_type": "display_data"
    },
    {
     "data": {
      "text/plain": "0it [00:00, ?it/s]",
      "application/vnd.jupyter.widget-view+json": {
       "version_major": 2,
       "version_minor": 0,
       "model_id": "77d2e694d7654aa1a93980ed4f2a3309"
      }
     },
     "metadata": {},
     "output_type": "display_data"
    },
    {
     "data": {
      "text/plain": "0it [00:00, ?it/s]",
      "application/vnd.jupyter.widget-view+json": {
       "version_major": 2,
       "version_minor": 0,
       "model_id": "a4fb1df792984bdfb979ddb62485e182"
      }
     },
     "metadata": {},
     "output_type": "display_data"
    },
    {
     "data": {
      "text/plain": "0it [00:00, ?it/s]",
      "application/vnd.jupyter.widget-view+json": {
       "version_major": 2,
       "version_minor": 0,
       "model_id": "552543b920544da3bc4c12f80a040a55"
      }
     },
     "metadata": {},
     "output_type": "display_data"
    },
    {
     "data": {
      "text/plain": "0it [00:00, ?it/s]",
      "application/vnd.jupyter.widget-view+json": {
       "version_major": 2,
       "version_minor": 0,
       "model_id": "4a7a4734a0ac4809be5d2119161d9248"
      }
     },
     "metadata": {},
     "output_type": "display_data"
    },
    {
     "data": {
      "text/plain": "0it [00:00, ?it/s]",
      "application/vnd.jupyter.widget-view+json": {
       "version_major": 2,
       "version_minor": 0,
       "model_id": "e1615281216e4c8eafc7bca01436a1e2"
      }
     },
     "metadata": {},
     "output_type": "display_data"
    },
    {
     "data": {
      "text/plain": "0it [00:00, ?it/s]",
      "application/vnd.jupyter.widget-view+json": {
       "version_major": 2,
       "version_minor": 0,
       "model_id": "c44e28035c534815a2b2fffb7b8f2d3f"
      }
     },
     "metadata": {},
     "output_type": "display_data"
    },
    {
     "data": {
      "text/plain": "0it [00:00, ?it/s]",
      "application/vnd.jupyter.widget-view+json": {
       "version_major": 2,
       "version_minor": 0,
       "model_id": "9de875dbcb834d6981aa41660d89b13f"
      }
     },
     "metadata": {},
     "output_type": "display_data"
    },
    {
     "data": {
      "text/plain": "0it [00:00, ?it/s]",
      "application/vnd.jupyter.widget-view+json": {
       "version_major": 2,
       "version_minor": 0,
       "model_id": "8293100e059a4a479874a02fba2db4b6"
      }
     },
     "metadata": {},
     "output_type": "display_data"
    },
    {
     "data": {
      "text/plain": "0it [00:00, ?it/s]",
      "application/vnd.jupyter.widget-view+json": {
       "version_major": 2,
       "version_minor": 0,
       "model_id": "0dc59e92bdad4258b544a07515bc69b5"
      }
     },
     "metadata": {},
     "output_type": "display_data"
    },
    {
     "data": {
      "text/plain": "0it [00:00, ?it/s]",
      "application/vnd.jupyter.widget-view+json": {
       "version_major": 2,
       "version_minor": 0,
       "model_id": "1de140e8cdfa4889b9930f4a75eda9c5"
      }
     },
     "metadata": {},
     "output_type": "display_data"
    },
    {
     "data": {
      "text/plain": "  0%|          | 0/6 [00:00<?, ?it/s]",
      "application/vnd.jupyter.widget-view+json": {
       "version_major": 2,
       "version_minor": 0,
       "model_id": "e71be826ee554cc899de4834a0a94858"
      }
     },
     "metadata": {},
     "output_type": "display_data"
    },
    {
     "name": "stdout",
     "output_type": "stream",
     "text": [
      "[PairOptimizer.optimize] curves_t BNT-FF1C/USDC-eB48\n",
      "[PairOptimizer.optimize] p_optimal OptimizerBase.SimpleResult(result=0.39333884843841355, method='bisection', errormsg=None, context_dct=None) full_result [ 1.75605528e-05 -6.90715387e-06]\n",
      "[PairOptimizer.optimize] curves_t BNT-FF1C/USDC-eB48\n",
      "[PairOptimizer.optimize] p_optimal OptimizerBase.SimpleResult(result=0.3933388484490955, method='bisection', errormsg=None, context_dct=None) full_result [-1.94469467e-05  7.64918514e-06]\n",
      "[PairOptimizer.optimize] curves_t BNT-FF1C/USDC-eB48\n",
      "[PairOptimizer.optimize] p_optimal OptimizerBase.SimpleResult(result=0.39333884846937545, method='bisection', errormsg=None, context_dct=None) full_result [-8.97073187e-05  3.52852512e-05]\n",
      "[PairOptimizer.optimize] curves_t BNT-FF1C/USDC-eB48\n",
      "[PairOptimizer.optimize] p_optimal OptimizerBase.SimpleResult(result=0.39333884845532807, method='bisection', errormsg=None, context_dct=None) full_result [-4.10396606e-05  1.61423814e-05]\n",
      "[PairOptimizer.optimize] curves_t BNT-FF1C/USDC-eB48\n",
      "[PairOptimizer.optimize] p_optimal OptimizerBase.SimpleResult(result=0.3933379880312765, method='bisection', errormsg=None, context_dct=None) full_result [-0.00013706 -0.00989813]\n",
      "[PairOptimizer.optimize] curves_t BNT-FF1C/USDC-eB48\n",
      "[PairOptimizer.optimize] p_optimal OptimizerBase.SimpleResult(result=0.39333884846627104, method='bisection', errormsg=None, context_dct=None) full_result [-7.89514743e-05  3.10547184e-05]\n"
     ]
    },
    {
     "data": {
      "text/plain": "  0%|          | 0/4 [00:00<?, ?it/s]",
      "application/vnd.jupyter.widget-view+json": {
       "version_major": 2,
       "version_minor": 0,
       "model_id": "f58424eec30942ea8d840283146c2b2e"
      }
     },
     "metadata": {},
     "output_type": "display_data"
    },
    {
     "name": "stdout",
     "output_type": "stream",
     "text": [
      "[PairOptimizer.optimize] curves_t WETH-6Cc2/BNT-FF1C\n",
      "[PairOptimizer.optimize] p_optimal OptimizerBase.SimpleResult(result=4764.128744551157, method='bisection', errormsg=None, context_dct=None) full_result [-5.01323686e-04 -2.76886567e-08]\n",
      "[PairOptimizer.optimize] curves_t WETH-6Cc2/BNT-FF1C\n",
      "[PairOptimizer.optimize] p_optimal OptimizerBase.SimpleResult(result=4764.138098143878, method='bisection', errormsg=None, context_dct=None) full_result [ 2.72848411e-12 -1.49011612e-08]\n",
      "[PairOptimizer.optimize] curves_t WETH-6Cc2/BNT-FF1C\n",
      "[PairOptimizer.optimize] p_optimal OptimizerBase.SimpleResult(result=4764.138098143918, method='bisection', errormsg=None, context_dct=None) full_result [-1.18234311e-11  5.58793545e-08]\n",
      "[PairOptimizer.optimize] curves_t WETH-6Cc2/BNT-FF1C\n",
      "[PairOptimizer.optimize] p_optimal OptimizerBase.SimpleResult(result=4764.138098143867, method='bisection', errormsg=None, context_dct=None) full_result [ 7.27595761e-12 -3.35276127e-08]\n"
     ]
    },
    {
     "data": {
      "text/plain": "0it [00:00, ?it/s]",
      "application/vnd.jupyter.widget-view+json": {
       "version_major": 2,
       "version_minor": 0,
       "model_id": "1919a116bba64cdbb399d6a1ac534833"
      }
     },
     "metadata": {},
     "output_type": "display_data"
    },
    {
     "data": {
      "text/plain": "0it [00:00, ?it/s]",
      "application/vnd.jupyter.widget-view+json": {
       "version_major": 2,
       "version_minor": 0,
       "model_id": "c8572589baeb4268a72f8bac9b153842"
      }
     },
     "metadata": {},
     "output_type": "display_data"
    },
    {
     "data": {
      "text/plain": "0it [00:00, ?it/s]",
      "application/vnd.jupyter.widget-view+json": {
       "version_major": 2,
       "version_minor": 0,
       "model_id": "2c68958237ca4e6489f03c7e86b0d0e9"
      }
     },
     "metadata": {},
     "output_type": "display_data"
    },
    {
     "data": {
      "text/plain": "  0%|          | 0/2 [00:00<?, ?it/s]",
      "application/vnd.jupyter.widget-view+json": {
       "version_major": 2,
       "version_minor": 0,
       "model_id": "76ef37083af14430a2dddb7cb8db58f7"
      }
     },
     "metadata": {},
     "output_type": "display_data"
    },
    {
     "name": "stdout",
     "output_type": "stream",
     "text": [
      "[PairOptimizer.optimize] curves_t CRV-cd52/USDC-eB48\n",
      "[PairOptimizer.optimize] p_optimal OptimizerBase.SimpleResult(result=0.7931937487301034, method='bisection', errormsg=None, context_dct=None) full_result [ 6.64254185e-06 -1.90729802e-01]\n",
      "[PairOptimizer.optimize] curves_t CRV-cd52/USDC-eB48\n",
      "[PairOptimizer.optimize] p_optimal OptimizerBase.SimpleResult(result=0.793190313085959, method='bisection', errormsg=None, context_dct=None) full_result [-9.03115142e-06  7.16338400e-06]\n"
     ]
    },
    {
     "data": {
      "text/plain": "0it [00:00, ?it/s]",
      "application/vnd.jupyter.widget-view+json": {
       "version_major": 2,
       "version_minor": 0,
       "model_id": "73be7655776e425a88d477b9ca524a4b"
      }
     },
     "metadata": {},
     "output_type": "display_data"
    },
    {
     "data": {
      "text/plain": "0it [00:00, ?it/s]",
      "application/vnd.jupyter.widget-view+json": {
       "version_major": 2,
       "version_minor": 0,
       "model_id": "f283268c6ac74fcab7e12ac09bb478c5"
      }
     },
     "metadata": {},
     "output_type": "display_data"
    },
    {
     "data": {
      "text/plain": "0it [00:00, ?it/s]",
      "application/vnd.jupyter.widget-view+json": {
       "version_major": 2,
       "version_minor": 0,
       "model_id": "97e8a99022df4cddb8e72a98c7fe8f77"
      }
     },
     "metadata": {},
     "output_type": "display_data"
    },
    {
     "data": {
      "text/plain": "0it [00:00, ?it/s]",
      "application/vnd.jupyter.widget-view+json": {
       "version_major": 2,
       "version_minor": 0,
       "model_id": "18ebc6dd64744eada8a99f8bb18f381a"
      }
     },
     "metadata": {},
     "output_type": "display_data"
    },
    {
     "data": {
      "text/plain": "0it [00:00, ?it/s]",
      "application/vnd.jupyter.widget-view+json": {
       "version_major": 2,
       "version_minor": 0,
       "model_id": "9d6b7bdeda9f41d4beaa7408801441b5"
      }
     },
     "metadata": {},
     "output_type": "display_data"
    },
    {
     "data": {
      "text/plain": "0it [00:00, ?it/s]",
      "application/vnd.jupyter.widget-view+json": {
       "version_major": 2,
       "version_minor": 0,
       "model_id": "b667813b84ed44db8cd5d26e9e3f73f8"
      }
     },
     "metadata": {},
     "output_type": "display_data"
    },
    {
     "data": {
      "text/plain": "0it [00:00, ?it/s]",
      "application/vnd.jupyter.widget-view+json": {
       "version_major": 2,
       "version_minor": 0,
       "model_id": "d3788fed55e741b889cfe48e3d81d983"
      }
     },
     "metadata": {},
     "output_type": "display_data"
    },
    {
     "data": {
      "text/plain": "0it [00:00, ?it/s]",
      "application/vnd.jupyter.widget-view+json": {
       "version_major": 2,
       "version_minor": 0,
       "model_id": "83f164244d7048b29675e00c060e3db7"
      }
     },
     "metadata": {},
     "output_type": "display_data"
    },
    {
     "data": {
      "text/plain": "0it [00:00, ?it/s]",
      "application/vnd.jupyter.widget-view+json": {
       "version_major": 2,
       "version_minor": 0,
       "model_id": "8c83aef8c2504d7aae5619b2c0170041"
      }
     },
     "metadata": {},
     "output_type": "display_data"
    },
    {
     "data": {
      "text/plain": "  0%|          | 0/4 [00:00<?, ?it/s]",
      "application/vnd.jupyter.widget-view+json": {
       "version_major": 2,
       "version_minor": 0,
       "model_id": "ada94a960ad548139ab90f2049d4db8e"
      }
     },
     "metadata": {},
     "output_type": "display_data"
    },
    {
     "name": "stdout",
     "output_type": "stream",
     "text": [
      "[PairOptimizer.optimize] curves_t DAI-1d0F/USDT-1ec7\n",
      "[PairOptimizer.optimize] p_optimal OptimizerBase.SimpleResult(result=0.9998810288149655, method='bisection', errormsg=None, context_dct=None) full_result [ 0.03739882 -0.03739452]\n",
      "[PairOptimizer.optimize] curves_t DAI-1d0F/USDT-1ec7\n",
      "[PairOptimizer.optimize] p_optimal OptimizerBase.SimpleResult(result=0.9998810288451494, method='bisection', errormsg=None, context_dct=None) full_result [-0.01955795  0.01955557]\n",
      "[PairOptimizer.optimize] curves_t DAI-1d0F/USDT-1ec7\n",
      "[PairOptimizer.optimize] p_optimal OptimizerBase.SimpleResult(result=1.0000277727814577, method='bisection', errormsg=None, context_dct=None) full_result [ 0.00187576 -0.00187576]\n",
      "[PairOptimizer.optimize] curves_t DAI-1d0F/USDT-1ec7\n",
      "[PairOptimizer.optimize] p_optimal OptimizerBase.SimpleResult(result=1.000027772749948, method='bisection', errormsg=None, context_dct=None) full_result [ 0.00692052 -0.0069207 ]\n"
     ]
    },
    {
     "data": {
      "text/plain": "  0%|          | 0/10 [00:00<?, ?it/s]",
      "application/vnd.jupyter.widget-view+json": {
       "version_major": 2,
       "version_minor": 0,
       "model_id": "67849a7800434de9acefbf9ba6241c74"
      }
     },
     "metadata": {},
     "output_type": "display_data"
    },
    {
     "name": "stdout",
     "output_type": "stream",
     "text": [
      "[PairOptimizer.optimize] curves_t USDT-1ec7/USDC-eB48\n",
      "[PairOptimizer.optimize] p_optimal OptimizerBase.SimpleResult(result=1.0000207903497311, method='bisection', errormsg=None, context_dct=None) full_result [ 7.05828857 -7.05841064]\n",
      "[PairOptimizer.optimize] curves_t USDT-1ec7/USDC-eB48\n",
      "[PairOptimizer.optimize] p_optimal OptimizerBase.SimpleResult(result=1.0000207904081506, method='bisection', errormsg=None, context_dct=None) full_result [-8.25445557  8.25463867]\n",
      "[PairOptimizer.optimize] curves_t USDT-1ec7/USDC-eB48\n",
      "[PairOptimizer.optimize] p_optimal OptimizerBase.SimpleResult(result=1.0000207904020626, method='bisection', errormsg=None, context_dct=None) full_result [-6.65869141  6.65881348]\n",
      "[PairOptimizer.optimize] curves_t USDT-1ec7/USDC-eB48\n",
      "[PairOptimizer.optimize] p_optimal OptimizerBase.SimpleResult(result=1.000020791638284, method='bisection', errormsg=None, context_dct=None) full_result [ 3.87104021 -3.98310679]\n",
      "[PairOptimizer.optimize] curves_t USDT-1ec7/USDC-eB48\n",
      "[PairOptimizer.optimize] p_optimal OptimizerBase.SimpleResult(result=1.000020790340398, method='bisection', errormsg=None, context_dct=None) full_result [ 9.50469971 -9.50488281]\n",
      "[PairOptimizer.optimize] curves_t USDT-1ec7/USDC-eB48\n",
      "[PairOptimizer.optimize] p_optimal OptimizerBase.SimpleResult(result=0.9999812258785822, method='bisection', errormsg=None, context_dct=None) full_result [-0.01484537  0.01484489]\n",
      "[PairOptimizer.optimize] curves_t USDT-1ec7/USDC-eB48\n",
      "[PairOptimizer.optimize] p_optimal OptimizerBase.SimpleResult(result=0.9999812258567959, method='bisection', errormsg=None, context_dct=None) full_result [ 0.02874136 -0.02874088]\n",
      "[PairOptimizer.optimize] curves_t USDT-1ec7/USDC-eB48\n",
      "[PairOptimizer.optimize] p_optimal OptimizerBase.SimpleResult(result=0.9999812258950511, method='bisection', errormsg=None, context_dct=None) full_result [-0.04779387  0.04779243]\n",
      "[PairOptimizer.optimize] curves_t USDT-1ec7/USDC-eB48\n",
      "[PairOptimizer.optimize] p_optimal OptimizerBase.SimpleResult(result=0.9999814029627629, method='bisection', errormsg=None, context_dct=None) full_result [-0.04363578 -0.08196931]\n",
      "[PairOptimizer.optimize] curves_t USDT-1ec7/USDC-eB48\n",
      "[PairOptimizer.optimize] p_optimal OptimizerBase.SimpleResult(result=0.9999812258655427, method='bisection', errormsg=None, context_dct=None) full_result [ 0.01124191 -0.01124191]\n"
     ]
    },
    {
     "data": {
      "text/plain": "  0%|          | 0/1 [00:00<?, ?it/s]",
      "application/vnd.jupyter.widget-view+json": {
       "version_major": 2,
       "version_minor": 0,
       "model_id": "c85ab775dca7425488eacbeda3d7c30a"
      }
     },
     "metadata": {},
     "output_type": "display_data"
    },
    {
     "name": "stdout",
     "output_type": "stream",
     "text": [
      "[PairOptimizer.optimize] curves_t WBTC-C599/USDT-1ec7\n",
      "[PairOptimizer.optimize] p_optimal OptimizerBase.SimpleResult(result=30694.61394905813, method='bisection', errormsg=None, context_dct=None) full_result [-6.27944824e-07  9.15003540e-09]\n"
     ]
    },
    {
     "data": {
      "text/plain": "  0%|          | 0/39 [00:00<?, ?it/s]",
      "application/vnd.jupyter.widget-view+json": {
       "version_major": 2,
       "version_minor": 0,
       "model_id": "386d3ac5af364d18a5bd346ef574a66f"
      }
     },
     "metadata": {},
     "output_type": "display_data"
    },
    {
     "name": "stdout",
     "output_type": "stream",
     "text": [
      "[PairOptimizer.optimize] curves_t WETH-6Cc2/USDT-1ec7\n",
      "[PairOptimizer.optimize] p_optimal OptimizerBase.SimpleResult(result=1890.390259964137, method='bisection', errormsg=None, context_dct=None) full_result [-2.06273398e-09 -2.01165676e-07]\n",
      "[PairOptimizer.optimize] curves_t WETH-6Cc2/USDT-1ec7\n",
      "[PairOptimizer.optimize] p_optimal OptimizerBase.SimpleResult(result=1890.3902598801692, method='bisection', errormsg=None, context_dct=None) full_result [ 8.73114914e-10 -1.66893005e-06]\n",
      "[PairOptimizer.optimize] curves_t WETH-6Cc2/USDT-1ec7\n",
      "[PairOptimizer.optimize] p_optimal OptimizerBase.SimpleResult(result=1890.390259880171, method='bisection', errormsg=None, context_dct=None) full_result [ 6.98491931e-10 -1.31130219e-06]\n",
      "[PairOptimizer.optimize] curves_t WETH-6Cc2/USDT-1ec7\n",
      "[PairOptimizer.optimize] p_optimal OptimizerBase.SimpleResult(result=1890.390259880202, method='bisection', errormsg=None, context_dct=None) full_result [-1.80443749e-09  3.33786011e-06]\n",
      "[PairOptimizer.optimize] curves_t WETH-6Cc2/USDT-1ec7\n",
      "[PairOptimizer.optimize] p_optimal 1890.3902598801792 full_result [0. 0.]\n",
      "[FindArbitrageSinglePairwise] Exception:  'numpy.float64' object has no attribute 'is_error'\n",
      "[PairOptimizer.optimize] curves_t WETH-6Cc2/USDT-1ec7\n",
      "[PairOptimizer.optimize] p_optimal OptimizerBase.SimpleResult(result=1890.3902598801692, method='bisection', errormsg=None, context_dct=None) full_result [ 8.73114914e-10 -1.66893005e-06]\n",
      "[PairOptimizer.optimize] curves_t WETH-6Cc2/USDT-1ec7\n",
      "[PairOptimizer.optimize] p_optimal OptimizerBase.SimpleResult(result=1890.3902598801506, method='bisection', errormsg=None, context_dct=None) full_result [ 2.32830644e-09 -4.41074371e-06]\n",
      "[PairOptimizer.optimize] curves_t WETH-6Cc2/USDT-1ec7\n",
      "[PairOptimizer.optimize] p_optimal OptimizerBase.SimpleResult(result=1890.3902702014298, method='bisection', errormsg=None, context_dct=None) full_result [-1.49065873e-05  2.75946513e-06]\n",
      "[PairOptimizer.optimize] curves_t WETH-6Cc2/USDT-1ec7\n",
      "[PairOptimizer.optimize] p_optimal OptimizerBase.SimpleResult(result=1890.3902598801637, method='bisection', errormsg=None, context_dct=None) full_result [ 1.28056854e-09 -2.50339508e-06]\n",
      "[PairOptimizer.optimize] curves_t WETH-6Cc2/USDT-1ec7\n",
      "[PairOptimizer.optimize] p_optimal OptimizerBase.SimpleResult(result=1890.390259880181, method='bisection', errormsg=None, context_dct=None) full_result [-1.16415322e-10  1.19209290e-07]\n",
      "[PairOptimizer.optimize] curves_t WETH-6Cc2/USDT-1ec7\n",
      "[PairOptimizer.optimize] p_optimal OptimizerBase.SimpleResult(result=1890.3902598801799, method='bisection', errormsg=None, context_dct=None) full_result [-5.82076609e-11  0.00000000e+00]\n",
      "[PairOptimizer.optimize] curves_t WETH-6Cc2/USDT-1ec7\n",
      "[PairOptimizer.optimize] p_optimal OptimizerBase.SimpleResult(result=1890.3902598801478, method='bisection', errormsg=None, context_dct=None) full_result [ 2.56113708e-09 -4.76837158e-06]\n",
      "[PairOptimizer.optimize] curves_t WETH-6Cc2/USDT-1ec7\n",
      "[PairOptimizer.optimize] p_optimal OptimizerBase.SimpleResult(result=1890.390259880165, method='bisection', errormsg=None, context_dct=None) full_result [ 1.16415322e-09 -2.14576721e-06]\n",
      "[PairOptimizer.optimize] curves_t WETH-6Cc2/USDT-1ec7\n",
      "[PairOptimizer.optimize] p_optimal OptimizerBase.SimpleResult(result=1889.1458891680038, method='bisection', errormsg=None, context_dct=None) full_result [-5.84623194e-09 -1.45286322e-06]\n",
      "[PairOptimizer.optimize] curves_t WETH-6Cc2/USDT-1ec7\n",
      "[PairOptimizer.optimize] p_optimal OptimizerBase.SimpleResult(result=1889.145888875987, method='bisection', errormsg=None, context_dct=None) full_result [-6.11180440e-10  1.16229057e-06]\n",
      "[PairOptimizer.optimize] curves_t WETH-6Cc2/USDT-1ec7\n",
      "[PairOptimizer.optimize] p_optimal 1889.1458888759603 full_result [0. 0.]\n",
      "[FindArbitrageSinglePairwise] Exception:  'numpy.float64' object has no attribute 'is_error'\n",
      "[PairOptimizer.optimize] curves_t WETH-6Cc2/USDT-1ec7\n",
      "[PairOptimizer.optimize] p_optimal OptimizerBase.SimpleResult(result=1889.1458888759319, method='bisection', errormsg=None, context_dct=None) full_result [ 6.69388101e-10 -1.25169754e-06]\n",
      "[PairOptimizer.optimize] curves_t WETH-6Cc2/USDT-1ec7\n",
      "[PairOptimizer.optimize] p_optimal OptimizerBase.SimpleResult(result=1889.1458888759628, method='bisection', errormsg=None, context_dct=None) full_result [-5.82076609e-11  1.19209290e-07]\n",
      "[PairOptimizer.optimize] curves_t WETH-6Cc2/USDT-1ec7\n",
      "[PairOptimizer.optimize] p_optimal OptimizerBase.SimpleResult(result=1889.145888875937, method='bisection', errormsg=None, context_dct=None) full_result [ 5.38420863e-10 -1.01327896e-06]\n",
      "[PairOptimizer.optimize] curves_t WETH-6Cc2/USDT-1ec7\n",
      "[PairOptimizer.optimize] p_optimal OptimizerBase.SimpleResult(result=1889.1458888759466, method='bisection', errormsg=None, context_dct=None) full_result [ 3.20142135e-10 -6.25848770e-07]\n",
      "[PairOptimizer.optimize] curves_t WETH-6Cc2/USDT-1ec7\n",
      "[PairOptimizer.optimize] p_optimal OptimizerBase.SimpleResult(result=1889.1459247817706, method='bisection', errormsg=None, context_dct=None) full_result [-1.54507852e-05  1.36860763e-07]\n",
      "[PairOptimizer.optimize] curves_t WETH-6Cc2/USDT-1ec7\n",
      "[PairOptimizer.optimize] p_optimal OptimizerBase.SimpleResult(result=1889.145888875984, method='bisection', errormsg=None, context_dct=None) full_result [-5.52972779e-10  1.04308128e-06]\n",
      "[PairOptimizer.optimize] curves_t WETH-6Cc2/USDT-1ec7\n",
      "[PairOptimizer.optimize] p_optimal OptimizerBase.SimpleResult(result=1889.1458888759767, method='bisection', errormsg=None, context_dct=None) full_result [-3.78349796e-10  7.15255737e-07]\n",
      "[PairOptimizer.optimize] curves_t WETH-6Cc2/USDT-1ec7\n",
      "[PairOptimizer.optimize] p_optimal OptimizerBase.SimpleResult(result=1889.1458888759503, method='bisection', errormsg=None, context_dct=None) full_result [ 2.32830644e-10 -4.47034836e-07]\n",
      "[PairOptimizer.optimize] curves_t WETH-6Cc2/USDT-1ec7\n",
      "[PairOptimizer.optimize] p_optimal OptimizerBase.SimpleResult(result=1889.1458888759323, method='bisection', errormsg=None, context_dct=None) full_result [ 6.54836185e-10 -1.22189522e-06]\n",
      "[PairOptimizer.optimize] curves_t WETH-6Cc2/USDT-1ec7\n",
      "[PairOptimizer.optimize] p_optimal OptimizerBase.SimpleResult(result=1889.1458888759523, method='bisection', errormsg=None, context_dct=None) full_result [ 1.74622983e-10 -3.27825546e-07]\n",
      "[PairOptimizer.optimize] curves_t WETH-6Cc2/USDT-1ec7\n",
      "[PairOptimizer.optimize] p_optimal OptimizerBase.SimpleResult(result=1881.7106092926715, method='bisection', errormsg=None, context_dct=None) full_result [-3.31456249e-08 -1.93715096e-07]\n",
      "[PairOptimizer.optimize] curves_t WETH-6Cc2/USDT-1ec7\n",
      "[PairOptimizer.optimize] p_optimal OptimizerBase.SimpleResult(result=1881.7106081912802, method='bisection', errormsg=None, context_dct=None) full_result [-1.85536919e-10  3.50177288e-07]\n",
      "[PairOptimizer.optimize] curves_t WETH-6Cc2/USDT-1ec7\n",
      "[PairOptimizer.optimize] p_optimal OptimizerBase.SimpleResult(result=1881.7106081912625, method='bisection', errormsg=None, context_dct=None) full_result [-7.63975549e-11  1.41561031e-07]\n",
      "[PairOptimizer.optimize] curves_t WETH-6Cc2/USDT-1ec7\n",
      "[PairOptimizer.optimize] p_optimal OptimizerBase.SimpleResult(result=1881.7106081912243, method='bisection', errormsg=None, context_dct=None) full_result [ 1.60071068e-10 -3.05473804e-07]\n",
      "[PairOptimizer.optimize] curves_t WETH-6Cc2/USDT-1ec7\n",
      "[PairOptimizer.optimize] p_optimal OptimizerBase.SimpleResult(result=1881.7106081912748, method='bisection', errormsg=None, context_dct=None) full_result [-1.52795110e-10  2.83122063e-07]\n",
      "[PairOptimizer.optimize] curves_t WETH-6Cc2/USDT-1ec7\n",
      "[PairOptimizer.optimize] p_optimal OptimizerBase.SimpleResult(result=1881.7106081912675, method='bisection', errormsg=None, context_dct=None) full_result [-1.05501385e-10  1.93715096e-07]\n",
      "[PairOptimizer.optimize] curves_t WETH-6Cc2/USDT-1ec7\n",
      "[PairOptimizer.optimize] p_optimal OptimizerBase.SimpleResult(result=1881.7106081912423, method='bisection', errormsg=None, context_dct=None) full_result [ 5.09317033e-11 -9.68575478e-08]\n",
      "[PairOptimizer.optimize] curves_t WETH-6Cc2/USDT-1ec7\n",
      "[PairOptimizer.optimize] p_optimal OptimizerBase.SimpleResult(result=1881.710743594186, method='bisection', errormsg=None, context_dct=None) full_result [-1.87258684e-05  2.70971213e-07]\n",
      "[PairOptimizer.optimize] curves_t WETH-6Cc2/USDT-1ec7\n",
      "[PairOptimizer.optimize] p_optimal OptimizerBase.SimpleResult(result=1881.71060819127, method='bisection', errormsg=None, context_dct=None) full_result [-1.20053301e-10  2.23517418e-07]\n",
      "[PairOptimizer.optimize] curves_t WETH-6Cc2/USDT-1ec7\n",
      "[PairOptimizer.optimize] p_optimal OptimizerBase.SimpleResult(result=1881.7106081912555, method='bisection', errormsg=None, context_dct=None) full_result [-2.91038305e-11  5.21540642e-08]\n",
      "[PairOptimizer.optimize] curves_t WETH-6Cc2/USDT-1ec7\n",
      "[PairOptimizer.optimize] p_optimal OptimizerBase.SimpleResult(result=1881.710608191252, method='bisection', errormsg=None, context_dct=None) full_result [-1.09139364e-11  2.23517418e-08]\n",
      "[PairOptimizer.optimize] curves_t WETH-6Cc2/USDT-1ec7\n",
      "[PairOptimizer.optimize] p_optimal OptimizerBase.SimpleResult(result=1881.7106081912298, method='bisection', errormsg=None, context_dct=None) full_result [ 1.23691279e-10 -2.38418579e-07]\n",
      "[PairOptimizer.optimize] curves_t WETH-6Cc2/USDT-1ec7\n",
      "[PairOptimizer.optimize] p_optimal OptimizerBase.SimpleResult(result=1881.7106081912725, method='bisection', errormsg=None, context_dct=None) full_result [-1.34605216e-10  2.53319740e-07]\n"
     ]
    },
    {
     "data": {
      "text/plain": "0it [00:00, ?it/s]",
      "application/vnd.jupyter.widget-view+json": {
       "version_major": 2,
       "version_minor": 0,
       "model_id": "7a439b5a35a744bbbb5213b8663d9d02"
      }
     },
     "metadata": {},
     "output_type": "display_data"
    },
    {
     "data": {
      "text/plain": "0it [00:00, ?it/s]",
      "application/vnd.jupyter.widget-view+json": {
       "version_major": 2,
       "version_minor": 0,
       "model_id": "0145cd9431e043d8aefc9e6a3d8e8b02"
      }
     },
     "metadata": {},
     "output_type": "display_data"
    },
    {
     "data": {
      "text/plain": "0it [00:00, ?it/s]",
      "application/vnd.jupyter.widget-view+json": {
       "version_major": 2,
       "version_minor": 0,
       "model_id": "3354daf3f0e444cea5c647d62450be1e"
      }
     },
     "metadata": {},
     "output_type": "display_data"
    },
    {
     "data": {
      "text/plain": "  0%|          | 0/16 [00:00<?, ?it/s]",
      "application/vnd.jupyter.widget-view+json": {
       "version_major": 2,
       "version_minor": 0,
       "model_id": "6fef149d9409429c8884363308dcf44c"
      }
     },
     "metadata": {},
     "output_type": "display_data"
    },
    {
     "name": "stdout",
     "output_type": "stream",
     "text": [
      "[PairOptimizer.optimize] curves_t WBTC-C599/USDC-eB48\n",
      "[PairOptimizer.optimize] p_optimal OptimizerBase.SimpleResult(result=30709.171178596996, method='bisection', errormsg=None, context_dct=None) full_result [-1.13686838e-13  1.86264515e-09]\n",
      "[PairOptimizer.optimize] curves_t WBTC-C599/USDC-eB48\n",
      "[PairOptimizer.optimize] p_optimal OptimizerBase.SimpleResult(result=30709.171178596982, method='bisection', errormsg=None, context_dct=None) full_result [ 0.00000000e+00 -9.31322575e-10]\n",
      "[PairOptimizer.optimize] curves_t WBTC-C599/USDC-eB48\n",
      "[PairOptimizer.optimize] p_optimal OptimizerBase.SimpleResult(result=30709.171178596964, method='bisection', errormsg=None, context_dct=None) full_result [ 1.13686838e-13 -3.72529030e-09]\n",
      "[PairOptimizer.optimize] curves_t WBTC-C599/USDC-eB48\n",
      "[PairOptimizer.optimize] p_optimal 30709.171178596982 full_result [ 0.00000000e+00 -9.31322575e-10]\n",
      "[FindArbitrageSinglePairwise] Exception:  'numpy.float64' object has no attribute 'is_error'\n",
      "[PairOptimizer.optimize] curves_t WBTC-C599/USDC-eB48\n",
      "[PairOptimizer.optimize] p_optimal OptimizerBase.SimpleResult(result=30709.171178596967, method='bisection', errormsg=None, context_dct=None) full_result [ 5.68434189e-14 -1.86264515e-09]\n",
      "[PairOptimizer.optimize] curves_t WBTC-C599/USDC-eB48\n",
      "[PairOptimizer.optimize] p_optimal OptimizerBase.SimpleResult(result=30709.171178597004, method='bisection', errormsg=None, context_dct=None) full_result [-1.13686838e-13  1.86264515e-09]\n",
      "[PairOptimizer.optimize] curves_t WBTC-C599/USDC-eB48\n",
      "[PairOptimizer.optimize] p_optimal OptimizerBase.SimpleResult(result=30708.38628090415, method='bisection', errormsg=None, context_dct=None) full_result [ 8.8096197e-14 -8.9227018e-01]\n",
      "[PairOptimizer.optimize] curves_t WBTC-C599/USDC-eB48\n",
      "[PairOptimizer.optimize] p_optimal OptimizerBase.SimpleResult(result=30709.171178596956, method='bisection', errormsg=None, context_dct=None) full_result [ 1.13686838e-13 -3.72529030e-09]\n",
      "[PairOptimizer.optimize] curves_t WBTC-C599/USDC-eB48\n",
      "[PairOptimizer.optimize] p_optimal OptimizerBase.SimpleResult(result=30681.192450075563, method='bisection', errormsg=None, context_dct=None) full_result [ 1.81898940e-12 -5.96046448e-08]\n",
      "[PairOptimizer.optimize] curves_t WBTC-C599/USDC-eB48\n",
      "[PairOptimizer.optimize] p_optimal OptimizerBase.SimpleResult(result=30681.192450075552, method='bisection', errormsg=None, context_dct=None) full_result [ 1.81898940e-12 -8.94069672e-08]\n",
      "[PairOptimizer.optimize] curves_t WBTC-C599/USDC-eB48\n",
      "[PairOptimizer.optimize] p_optimal OptimizerBase.SimpleResult(result=30681.19245007563, method='bisection', errormsg=None, context_dct=None) full_result [-2.72848411e-12  5.96046448e-08]\n",
      "[PairOptimizer.optimize] curves_t WBTC-C599/USDC-eB48\n",
      "[PairOptimizer.optimize] p_optimal OptimizerBase.SimpleResult(result=30681.192450075592, method='bisection', errormsg=None, context_dct=None) full_result [-9.09494702e-13  0.00000000e+00]\n",
      "[PairOptimizer.optimize] curves_t WBTC-C599/USDC-eB48\n",
      "[PairOptimizer.optimize] p_optimal OptimizerBase.SimpleResult(result=30681.192450075556, method='bisection', errormsg=None, context_dct=None) full_result [ 1.81898940e-12 -8.94069672e-08]\n",
      "[PairOptimizer.optimize] curves_t WBTC-C599/USDC-eB48\n",
      "[PairOptimizer.optimize] p_optimal OptimizerBase.SimpleResult(result=30681.1924500756, method='bisection', errormsg=None, context_dct=None) full_result [-9.09494702e-13  0.00000000e+00]\n",
      "[PairOptimizer.optimize] curves_t WBTC-C599/USDC-eB48\n",
      "[PairOptimizer.optimize] p_optimal OptimizerBase.SimpleResult(result=30681.14901464669, method='bisection', errormsg=None, context_dct=None) full_result [ 1.90064631e-12 -7.98423445e-01]\n",
      "[PairOptimizer.optimize] curves_t WBTC-C599/USDC-eB48\n",
      "[PairOptimizer.optimize] p_optimal OptimizerBase.SimpleResult(result=30681.19245007559, method='bisection', errormsg=None, context_dct=None) full_result [ 0.00000000e+00 -2.98023224e-08]\n"
     ]
    },
    {
     "data": {
      "text/plain": "  0%|          | 0/1 [00:00<?, ?it/s]",
      "application/vnd.jupyter.widget-view+json": {
       "version_major": 2,
       "version_minor": 0,
       "model_id": "e617bceccc134dda89c43de672af4b3d"
      }
     },
     "metadata": {},
     "output_type": "display_data"
    },
    {
     "name": "stdout",
     "output_type": "stream",
     "text": [
      "[PairOptimizer.optimize] curves_t WBTC-C599/USDT-1ec7\n",
      "[PairOptimizer.optimize] p_optimal OptimizerBase.SimpleResult(result=30694.613926064292, method='bisection', errormsg=None, context_dct=None) full_result [ 4.73837115e-13 -1.92745271e-02]\n"
     ]
    },
    {
     "data": {
      "text/plain": "  0%|          | 0/16 [00:00<?, ?it/s]",
      "application/vnd.jupyter.widget-view+json": {
       "version_major": 2,
       "version_minor": 0,
       "model_id": "6aa7331d327343fb8e4bedae4aa9cd39"
      }
     },
     "metadata": {},
     "output_type": "display_data"
    },
    {
     "name": "stdout",
     "output_type": "stream",
     "text": [
      "[PairOptimizer.optimize] curves_t WBTC-C599/WETH-6Cc2\n",
      "[PairOptimizer.optimize] p_optimal OptimizerBase.SimpleResult(result=16.25127735727674, method='bisection', errormsg=None, context_dct=None) full_result [-1.39116310e-08  2.26078555e-07]\n",
      "[PairOptimizer.optimize] curves_t WBTC-C599/WETH-6Cc2\n",
      "[PairOptimizer.optimize] p_optimal OptimizerBase.SimpleResult(result=16.251277357210903, method='bisection', errormsg=None, context_dct=None) full_result [ 9.79060477e-09 -1.62155537e-07]\n",
      "[PairOptimizer.optimize] curves_t WBTC-C599/WETH-6Cc2\n",
      "[PairOptimizer.optimize] p_optimal OptimizerBase.SimpleResult(result=16.25127735723521, method='bisection', errormsg=None, context_dct=None) full_result [ 7.34507921e-09 -1.19383913e-07]\n",
      "[PairOptimizer.optimize] curves_t WBTC-C599/WETH-6Cc2\n",
      "[PairOptimizer.optimize] p_optimal OptimizerBase.SimpleResult(result=16.251277357269036, method='bisection', errormsg=None, context_dct=None) full_result [-9.96806193e-09  1.61991920e-07]\n",
      "[PairOptimizer.optimize] curves_t WBTC-C599/WETH-6Cc2\n",
      "[PairOptimizer.optimize] p_optimal OptimizerBase.SimpleResult(result=16.251277357223323, method='bisection', errormsg=None, context_dct=None) full_result [ 1.34314178e-08 -2.18278728e-07]\n",
      "[PairOptimizer.optimize] curves_t WBTC-C599/WETH-6Cc2\n",
      "[PairOptimizer.optimize] p_optimal OptimizerBase.SimpleResult(result=16.25127735723416, method='bisection', errormsg=None, context_dct=None) full_result [ 7.88713805e-09 -1.28115062e-07]\n",
      "[PairOptimizer.optimize] curves_t WBTC-C599/WETH-6Cc2\n",
      "[PairOptimizer.optimize] p_optimal OptimizerBase.SimpleResult(result=16.25127564701836, method='bisection', errormsg=None, context_dct=None) full_result [-1.20896217e-08 -3.62709670e-07]\n",
      "[PairOptimizer.optimize] curves_t WBTC-C599/WETH-6Cc2\n",
      "[PairOptimizer.optimize] p_optimal OptimizerBase.SimpleResult(result=16.25127735725026, method='bisection', errormsg=None, context_dct=None) full_result [-3.56521923e-10  5.76255843e-09]\n",
      "[PairOptimizer.optimize] curves_t WBTC-C599/WETH-6Cc2\n",
      "[PairOptimizer.optimize] p_optimal OptimizerBase.SimpleResult(result=16.262500335184633, method='bisection', errormsg=None, context_dct=None) full_result [ 1.16415322e-09 -1.89756975e-08]\n",
      "[PairOptimizer.optimize] curves_t WBTC-C599/WETH-6Cc2\n",
      "[PairOptimizer.optimize] p_optimal OptimizerBase.SimpleResult(result=16.26250033520447, method='bisection', errormsg=None, context_dct=None) full_result [-3.23444658e-08  5.22832217e-07]\n",
      "[PairOptimizer.optimize] curves_t WBTC-C599/WETH-6Cc2\n",
      "[PairOptimizer.optimize] p_optimal OptimizerBase.SimpleResult(result=16.26250033520776, method='bisection', errormsg=None, context_dct=None) full_result [-2.62516551e-08  4.26894985e-07]\n",
      "[PairOptimizer.optimize] curves_t WBTC-C599/WETH-6Cc2\n",
      "[PairOptimizer.optimize] p_optimal OptimizerBase.SimpleResult(result=16.262500335150982, method='bisection', errormsg=None, context_dct=None) full_result [ 4.10509529e-08 -6.67641871e-07]\n",
      "[PairOptimizer.optimize] curves_t WBTC-C599/WETH-6Cc2\n",
      "[PairOptimizer.optimize] p_optimal OptimizerBase.SimpleResult(result=16.262500335167502, method='bisection', errormsg=None, context_dct=None) full_result [ 2.1464075e-08 -3.4912955e-07]\n",
      "[PairOptimizer.optimize] curves_t WBTC-C599/WETH-6Cc2\n",
      "[PairOptimizer.optimize] p_optimal OptimizerBase.SimpleResult(result=16.262500335153014, method='bisection', errormsg=None, context_dct=None) full_result [ 3.86353349e-08 -6.28409907e-07]\n",
      "[PairOptimizer.optimize] curves_t WBTC-C599/WETH-6Cc2\n",
      "[PairOptimizer.optimize] p_optimal OptimizerBase.SimpleResult(result=16.262493103941633, method='bisection', errormsg=None, context_dct=None) full_result [-2.51424090e-08 -5.31672718e-05]\n",
      "[PairOptimizer.optimize] curves_t WBTC-C599/WETH-6Cc2\n",
      "[PairOptimizer.optimize] p_optimal OptimizerBase.SimpleResult(result=16.262500335210227, method='bisection', errormsg=None, context_dct=None) full_result [-2.91693141e-08  4.74392436e-07]\n"
     ]
    },
    {
     "data": {
      "text/plain": "  0%|          | 0/2 [00:00<?, ?it/s]",
      "application/vnd.jupyter.widget-view+json": {
       "version_major": 2,
       "version_minor": 0,
       "model_id": "7d12e6b07d424745b0ba4d76da0efeb6"
      }
     },
     "metadata": {},
     "output_type": "display_data"
    },
    {
     "name": "stdout",
     "output_type": "stream",
     "text": [
      "[PairOptimizer.optimize] curves_t SGT-EcDD/WETH-6Cc2\n",
      "[PairOptimizer.optimize] p_optimal OptimizerBase.SimpleResult(result=0.00022209611167832275, method='bisection', errormsg=None, context_dct=None) full_result [ 4.02343472e-02 -8.93589251e-06]\n",
      "[PairOptimizer.optimize] curves_t SGT-EcDD/WETH-6Cc2\n",
      "[PairOptimizer.optimize] p_optimal OptimizerBase.SimpleResult(result=0.00021922395369175377, method='bisection', errormsg=None, context_dct=None) full_result [ 1.96211165e-03 -4.30141885e-07]\n"
     ]
    },
    {
     "data": {
      "text/plain": "  0%|          | 0/14 [00:00<?, ?it/s]",
      "application/vnd.jupyter.widget-view+json": {
       "version_major": 2,
       "version_minor": 0,
       "model_id": "222b03b4a99d4e9d831f3dba810829fd"
      }
     },
     "metadata": {},
     "output_type": "display_data"
    },
    {
     "name": "stdout",
     "output_type": "stream",
     "text": [
      "[PairOptimizer.optimize] curves_t vBNT-7f94/BNT-FF1C\n",
      "[PairOptimizer.optimize] p_optimal OptimizerBase.SimpleResult(result=0.4979713671803965, method='bisection', errormsg=None, context_dct=None) full_result [ 9.86899249e-06 -4.91423998e-06]\n",
      "[PairOptimizer.optimize] curves_t vBNT-7f94/BNT-FF1C\n",
      "[PairOptimizer.optimize] p_optimal OptimizerBase.SimpleResult(result=0.4979713671750061, method='bisection', errormsg=None, context_dct=None) full_result [ 2.04464886e-05 -1.01815676e-05]\n",
      "[PairOptimizer.optimize] curves_t vBNT-7f94/BNT-FF1C\n",
      "[PairOptimizer.optimize] p_optimal OptimizerBase.SimpleResult(result=0.49797136719226054, method='bisection', errormsg=None, context_dct=None) full_result [-1.34117436e-05  6.67886343e-06]\n",
      "[PairOptimizer.optimize] curves_t vBNT-7f94/BNT-FF1C\n",
      "[PairOptimizer.optimize] p_optimal OptimizerBase.SimpleResult(result=0.49797136717779344, method='bisection', errormsg=None, context_dct=None) full_result [ 1.49765983e-05 -7.45779835e-06]\n",
      "[PairOptimizer.optimize] curves_t vBNT-7f94/BNT-FF1C\n",
      "[PairOptimizer.optimize] p_optimal OptimizerBase.SimpleResult(result=0.4979713671723526, method='bisection', errormsg=None, context_dct=None) full_result [ 2.56535131e-05 -1.27746025e-05]\n",
      "[PairOptimizer.optimize] curves_t vBNT-7f94/BNT-FF1C\n",
      "[PairOptimizer.optimize] p_optimal OptimizerBase.SimpleResult(result=0.49797136721387747, method='bisection', errormsg=None, context_dct=None) full_result [-5.58306929e-05  2.78021907e-05]\n",
      "[PairOptimizer.optimize] curves_t vBNT-7f94/BNT-FF1C\n",
      "[PairOptimizer.optimize] p_optimal OptimizerBase.SimpleResult(result=0.4979713671844595, method='bisection', errormsg=None, context_dct=None) full_result [ 1.89593993e-06 -9.44011845e-07]\n",
      "[PairOptimizer.optimize] curves_t vBNT-7f94/BNT-FF1C\n",
      "[PairOptimizer.optimize] p_optimal OptimizerBase.SimpleResult(result=0.4979713671630217, method='bisection', errormsg=None, context_dct=None) full_result [ 4.39633150e-05 -2.18922505e-05]\n",
      "[PairOptimizer.optimize] curves_t vBNT-7f94/BNT-FF1C\n",
      "[PairOptimizer.optimize] p_optimal OptimizerBase.SimpleResult(result=0.4979713671877447, method='bisection', errormsg=None, context_dct=None) full_result [-4.55020927e-06  2.26602424e-06]\n",
      "[PairOptimizer.optimize] curves_t vBNT-7f94/BNT-FF1C\n",
      "[PairOptimizer.optimize] p_optimal OptimizerBase.SimpleResult(result=0.4979713671551543, method='bisection', errormsg=None, context_dct=None) full_result [ 5.94011508e-05 -2.95799691e-05]\n",
      "[PairOptimizer.optimize] curves_t vBNT-7f94/BNT-FF1C\n",
      "[PairOptimizer.optimize] p_optimal OptimizerBase.SimpleResult(result=0.4979713671804163, method='bisection', errormsg=None, context_dct=None) full_result [ 9.82987694e-06 -4.89491504e-06]\n",
      "[PairOptimizer.optimize] curves_t vBNT-7f94/BNT-FF1C\n",
      "[PairOptimizer.optimize] p_optimal OptimizerBase.SimpleResult(result=0.49797136717327084, method='bisection', errormsg=None, context_dct=None) full_result [ 2.38514040e-05 -1.18771568e-05]\n",
      "[PairOptimizer.optimize] curves_t vBNT-7f94/BNT-FF1C\n",
      "[PairOptimizer.optimize] p_optimal OptimizerBase.SimpleResult(result=0.49797136721025953, method='bisection', errormsg=None, context_dct=None) full_result [-4.87312209e-05  2.42668903e-05]\n",
      "[PairOptimizer.optimize] curves_t vBNT-7f94/BNT-FF1C\n",
      "[PairOptimizer.optimize] p_optimal OptimizerBase.SimpleResult(result=0.49772183462991615, method='bisection', errormsg=None, context_dct=None) full_result [ 8.03344919e-05 -2.42115757e+01]\n"
     ]
    },
    {
     "data": {
      "text/plain": "0it [00:00, ?it/s]",
      "application/vnd.jupyter.widget-view+json": {
       "version_major": 2,
       "version_minor": 0,
       "model_id": "5799ffc973cf46658293e3d505612018"
      }
     },
     "metadata": {},
     "output_type": "display_data"
    },
    {
     "data": {
      "text/plain": "0it [00:00, ?it/s]",
      "application/vnd.jupyter.widget-view+json": {
       "version_major": 2,
       "version_minor": 0,
       "model_id": "bd98d93fda6949a5b13045835272f477"
      }
     },
     "metadata": {},
     "output_type": "display_data"
    },
    {
     "data": {
      "text/plain": "0it [00:00, ?it/s]",
      "application/vnd.jupyter.widget-view+json": {
       "version_major": 2,
       "version_minor": 0,
       "model_id": "7a19a5d114e143909885534c3f54988e"
      }
     },
     "metadata": {},
     "output_type": "display_data"
    },
    {
     "data": {
      "text/plain": "0it [00:00, ?it/s]",
      "application/vnd.jupyter.widget-view+json": {
       "version_major": 2,
       "version_minor": 0,
       "model_id": "33bcc249769e487b90027d5f3e14f4d6"
      }
     },
     "metadata": {},
     "output_type": "display_data"
    },
    {
     "data": {
      "text/plain": "  0%|          | 0/2 [00:00<?, ?it/s]",
      "application/vnd.jupyter.widget-view+json": {
       "version_major": 2,
       "version_minor": 0,
       "model_id": "372eb1a1c5fc4486a3c667d6034b25df"
      }
     },
     "metadata": {},
     "output_type": "display_data"
    },
    {
     "name": "stdout",
     "output_type": "stream",
     "text": [
      "[PairOptimizer.optimize] curves_t wstETH-2Ca0/USDC-eB48\n",
      "[PairOptimizer.optimize] p_optimal OptimizerBase.SimpleResult(result=2132.8228517303273, method='bisection', errormsg=None, context_dct=None) full_result [ 8.66862138e-13 -1.86264515e-09]\n",
      "[PairOptimizer.optimize] curves_t wstETH-2Ca0/USDC-eB48\n",
      "[PairOptimizer.optimize] p_optimal OptimizerBase.SimpleResult(result=2132.822851730366, method='bisection', errormsg=None, context_dct=None) full_result [-1.98951966e-13  4.07453626e-10]\n"
     ]
    },
    {
     "data": {
      "text/plain": "0it [00:00, ?it/s]",
      "application/vnd.jupyter.widget-view+json": {
       "version_major": 2,
       "version_minor": 0,
       "model_id": "50bf82306acd4be99aa8706c85d1269c"
      }
     },
     "metadata": {},
     "output_type": "display_data"
    },
    {
     "data": {
      "text/plain": "  0%|          | 0/1 [00:00<?, ?it/s]",
      "application/vnd.jupyter.widget-view+json": {
       "version_major": 2,
       "version_minor": 0,
       "model_id": "518208482177414c9a96579fad41e0ed"
      }
     },
     "metadata": {},
     "output_type": "display_data"
    },
    {
     "name": "stdout",
     "output_type": "stream",
     "text": [
      "[PairOptimizer.optimize] curves_t TSUKA-69eD/USDC-eB48\n",
      "[PairOptimizer.optimize] p_optimal OptimizerBase.SimpleResult(result=0.0311299900733118, method='bisection', errormsg=None, context_dct=None) full_result [-1.19291304e-04  3.71353781e-06]\n"
     ]
    },
    {
     "data": {
      "text/plain": "0it [00:00, ?it/s]",
      "application/vnd.jupyter.widget-view+json": {
       "version_major": 2,
       "version_minor": 0,
       "model_id": "24b8d5b07f414255ad415abab1f2fddc"
      }
     },
     "metadata": {},
     "output_type": "display_data"
    },
    {
     "data": {
      "text/plain": "0it [00:00, ?it/s]",
      "application/vnd.jupyter.widget-view+json": {
       "version_major": 2,
       "version_minor": 0,
       "model_id": "e81d0051947a46bc8cd148a2519503d0"
      }
     },
     "metadata": {},
     "output_type": "display_data"
    },
    {
     "data": {
      "text/plain": "0it [00:00, ?it/s]",
      "application/vnd.jupyter.widget-view+json": {
       "version_major": 2,
       "version_minor": 0,
       "model_id": "b3c728e889774341b4c0fc7e30c687f9"
      }
     },
     "metadata": {},
     "output_type": "display_data"
    },
    {
     "data": {
      "text/plain": "0it [00:00, ?it/s]",
      "application/vnd.jupyter.widget-view+json": {
       "version_major": 2,
       "version_minor": 0,
       "model_id": "b707823d522545e69496b940ea1e6ae3"
      }
     },
     "metadata": {},
     "output_type": "display_data"
    },
    {
     "data": {
      "text/plain": "0it [00:00, ?it/s]",
      "application/vnd.jupyter.widget-view+json": {
       "version_major": 2,
       "version_minor": 0,
       "model_id": "a10f8e67dbbd4403ab0bc5a603fdc5e9"
      }
     },
     "metadata": {},
     "output_type": "display_data"
    },
    {
     "data": {
      "text/plain": "0it [00:00, ?it/s]",
      "application/vnd.jupyter.widget-view+json": {
       "version_major": 2,
       "version_minor": 0,
       "model_id": "c22ca6e908f94f278f5f59c829fd02fb"
      }
     },
     "metadata": {},
     "output_type": "display_data"
    },
    {
     "data": {
      "text/plain": "  0%|          | 0/4 [00:00<?, ?it/s]",
      "application/vnd.jupyter.widget-view+json": {
       "version_major": 2,
       "version_minor": 0,
       "model_id": "e7a0c644dd4f477f8b352aef00eff9d6"
      }
     },
     "metadata": {},
     "output_type": "display_data"
    },
    {
     "name": "stdout",
     "output_type": "stream",
     "text": [
      "[PairOptimizer.optimize] curves_t rETH-6393/WETH-6Cc2\n",
      "[PairOptimizer.optimize] p_optimal OptimizerBase.SimpleResult(result=1.076708344487575, method='bisection', errormsg=None, context_dct=None) full_result [ 9.73506700e-06 -1.10356404e-03]\n",
      "[PairOptimizer.optimize] curves_t rETH-6393/WETH-6Cc2\n",
      "[PairOptimizer.optimize] p_optimal OptimizerBase.SimpleResult(result=1.0767087671170115, method='bisection', errormsg=None, context_dct=None) full_result [-1.27418898e-05  1.37193128e-05]\n",
      "[PairOptimizer.optimize] curves_t rETH-6393/WETH-6Cc2\n",
      "[PairOptimizer.optimize] p_optimal OptimizerBase.SimpleResult(result=1.0767087671074367, method='bisection', errormsg=None, context_dct=None) full_result [-7.08457083e-06  7.62799755e-06]\n",
      "[PairOptimizer.optimize] curves_t rETH-6393/WETH-6Cc2\n",
      "[PairOptimizer.optimize] p_optimal OptimizerBase.SimpleResult(result=1.0767087671119273, method='bisection', errormsg=None, context_dct=None) full_result [-9.73767601e-06  1.04848295e-05]\n"
     ]
    },
    {
     "data": {
      "text/plain": "0it [00:00, ?it/s]",
      "application/vnd.jupyter.widget-view+json": {
       "version_major": 2,
       "version_minor": 0,
       "model_id": "58dd8cd0def748ccaa70182eaad70732"
      }
     },
     "metadata": {},
     "output_type": "display_data"
    },
    {
     "data": {
      "text/plain": "0it [00:00, ?it/s]",
      "application/vnd.jupyter.widget-view+json": {
       "version_major": 2,
       "version_minor": 0,
       "model_id": "3a80bee69063453d8bf5c948db2e5a4b"
      }
     },
     "metadata": {},
     "output_type": "display_data"
    },
    {
     "data": {
      "text/plain": "  0%|          | 0/1 [00:00<?, ?it/s]",
      "application/vnd.jupyter.widget-view+json": {
       "version_major": 2,
       "version_minor": 0,
       "model_id": "c8b3b38a90e54942a4606be1da07bfa1"
      }
     },
     "metadata": {},
     "output_type": "display_data"
    },
    {
     "name": "stdout",
     "output_type": "stream",
     "text": [
      "[PairOptimizer.optimize] curves_t icETH-6A84/WETH-6Cc2\n",
      "[PairOptimizer.optimize] p_optimal OptimizerBase.SimpleResult(result=1.0625676227365368, method='bisection', errormsg=None, context_dct=None) full_result [-7.29091880e-08  7.74703039e-08]\n"
     ]
    },
    {
     "data": {
      "text/plain": "0it [00:00, ?it/s]",
      "application/vnd.jupyter.widget-view+json": {
       "version_major": 2,
       "version_minor": 0,
       "model_id": "162c7a4f169a450c92ab07cb2b223ae3"
      }
     },
     "metadata": {},
     "output_type": "display_data"
    },
    {
     "data": {
      "text/plain": "  0%|          | 0/2 [00:00<?, ?it/s]",
      "application/vnd.jupyter.widget-view+json": {
       "version_major": 2,
       "version_minor": 0,
       "model_id": "7bf3f2b24b79484a90e2ad6a73a6355e"
      }
     },
     "metadata": {},
     "output_type": "display_data"
    },
    {
     "name": "stdout",
     "output_type": "stream",
     "text": [
      "[PairOptimizer.optimize] curves_t HEX-eb39/WETH-6Cc2\n",
      "[PairOptimizer.optimize] p_optimal OptimizerBase.SimpleResult(result=4.63904289749294e-06, method='bisection', errormsg=None, context_dct=None) full_result [ 2.47876970e+02 -2.55874718e-03]\n",
      "[PairOptimizer.optimize] curves_t HEX-eb39/WETH-6Cc2\n",
      "[PairOptimizer.optimize] p_optimal OptimizerBase.SimpleResult(result=4.6173659450547375e-06, method='bisection', errormsg=None, context_dct=None) full_result [ 1.71379994e+02 -2.21271301e-03]\n"
     ]
    },
    {
     "data": {
      "text/plain": "0it [00:00, ?it/s]",
      "application/vnd.jupyter.widget-view+json": {
       "version_major": 2,
       "version_minor": 0,
       "model_id": "5f5b2f0d312f409095dc8c2734942992"
      }
     },
     "metadata": {},
     "output_type": "display_data"
    },
    {
     "data": {
      "text/plain": "  0%|          | 0/6 [00:00<?, ?it/s]",
      "application/vnd.jupyter.widget-view+json": {
       "version_major": 2,
       "version_minor": 0,
       "model_id": "fb0d843630334bfa87656a920e18eab1"
      }
     },
     "metadata": {},
     "output_type": "display_data"
    },
    {
     "name": "stdout",
     "output_type": "stream",
     "text": [
      "[PairOptimizer.optimize] curves_t BNT-FF1C/USDC-eB48\n",
      "[PairOptimizer.optimize] p_optimal OptimizerBase.SimpleResult(result=0.39333884843841355, method='bisection', errormsg=None, context_dct=None) full_result [ 1.75605528e-05 -6.90715387e-06]\n",
      "[PairOptimizer.optimize] curves_t BNT-FF1C/USDC-eB48\n",
      "[PairOptimizer.optimize] p_optimal OptimizerBase.SimpleResult(result=0.3933388484490955, method='bisection', errormsg=None, context_dct=None) full_result [-1.94469467e-05  7.64918514e-06]\n",
      "[PairOptimizer.optimize] curves_t BNT-FF1C/USDC-eB48\n",
      "[PairOptimizer.optimize] p_optimal OptimizerBase.SimpleResult(result=0.39333884846937545, method='bisection', errormsg=None, context_dct=None) full_result [-8.97073187e-05  3.52852512e-05]\n",
      "[PairOptimizer.optimize] curves_t BNT-FF1C/USDC-eB48\n",
      "[PairOptimizer.optimize] p_optimal OptimizerBase.SimpleResult(result=0.39333884845532807, method='bisection', errormsg=None, context_dct=None) full_result [-4.10396606e-05  1.61423814e-05]\n",
      "[PairOptimizer.optimize] curves_t BNT-FF1C/USDC-eB48\n",
      "[PairOptimizer.optimize] p_optimal OptimizerBase.SimpleResult(result=0.3933379952731014, method='bisection', errormsg=None, context_dct=None) full_result [-2.52265013e-02 -2.94963829e-05]\n",
      "[PairOptimizer.optimize] curves_t BNT-FF1C/USDC-eB48\n",
      "[PairOptimizer.optimize] p_optimal OptimizerBase.SimpleResult(result=0.39333884846627104, method='bisection', errormsg=None, context_dct=None) full_result [-7.89514743e-05  3.10547184e-05]\n"
     ]
    },
    {
     "data": {
      "text/plain": "  0%|          | 0/4 [00:00<?, ?it/s]",
      "application/vnd.jupyter.widget-view+json": {
       "version_major": 2,
       "version_minor": 0,
       "model_id": "4eef7730e3ff4520a215115fd54acf3f"
      }
     },
     "metadata": {},
     "output_type": "display_data"
    },
    {
     "name": "stdout",
     "output_type": "stream",
     "text": [
      "[PairOptimizer.optimize] curves_t DAI-1d0F/USDC-eB48\n",
      "[PairOptimizer.optimize] p_optimal OptimizerBase.SimpleResult(result=1.0003813756215658, method='bisection', errormsg=None, context_dct=None) full_result [ 0.27017212 -0.27027893]\n",
      "[PairOptimizer.optimize] curves_t DAI-1d0F/USDC-eB48\n",
      "[PairOptimizer.optimize] p_optimal OptimizerBase.SimpleResult(result=1.0003813756365758, method='bisection', errormsg=None, context_dct=None) full_result [-0.19481659  0.19488525]\n",
      "[PairOptimizer.optimize] curves_t DAI-1d0F/USDC-eB48\n",
      "[PairOptimizer.optimize] p_optimal OptimizerBase.SimpleResult(result=0.9999799635362349, method='bisection', errormsg=None, context_dct=None) full_result [ 10.07507324 -10.0748291 ]\n",
      "[PairOptimizer.optimize] curves_t DAI-1d0F/USDC-eB48\n",
      "[PairOptimizer.optimize] p_optimal OptimizerBase.SimpleResult(result=0.9999799635754507, method='bisection', errormsg=None, context_dct=None) full_result [-0.39575195  0.39581299]\n"
     ]
    },
    {
     "data": {
      "text/plain": "  0%|          | 0/16 [00:00<?, ?it/s]",
      "application/vnd.jupyter.widget-view+json": {
       "version_major": 2,
       "version_minor": 0,
       "model_id": "fc14c7b28c2844eeb34726856e9b6016"
      }
     },
     "metadata": {},
     "output_type": "display_data"
    },
    {
     "name": "stdout",
     "output_type": "stream",
     "text": [
      "[PairOptimizer.optimize] curves_t WBTC-C599/USDC-eB48\n",
      "[PairOptimizer.optimize] p_optimal OptimizerBase.SimpleResult(result=30709.171178596996, method='bisection', errormsg=None, context_dct=None) full_result [-1.13686838e-13  1.86264515e-09]\n",
      "[PairOptimizer.optimize] curves_t WBTC-C599/USDC-eB48\n",
      "[PairOptimizer.optimize] p_optimal OptimizerBase.SimpleResult(result=30709.171178596982, method='bisection', errormsg=None, context_dct=None) full_result [ 0.00000000e+00 -9.31322575e-10]\n",
      "[PairOptimizer.optimize] curves_t WBTC-C599/USDC-eB48\n",
      "[PairOptimizer.optimize] p_optimal 30709.17117859699 full_result [-5.68434189e-14  0.00000000e+00]\n",
      "[FindArbitrageSinglePairwise] Exception:  'numpy.float64' object has no attribute 'is_error'\n",
      "[PairOptimizer.optimize] curves_t WBTC-C599/USDC-eB48\n",
      "[PairOptimizer.optimize] p_optimal OptimizerBase.SimpleResult(result=30709.17117859702, method='bisection', errormsg=None, context_dct=None) full_result [-1.70530257e-13  4.65661287e-09]\n",
      "[PairOptimizer.optimize] curves_t WBTC-C599/USDC-eB48\n",
      "[PairOptimizer.optimize] p_optimal OptimizerBase.SimpleResult(result=30709.171178596967, method='bisection', errormsg=None, context_dct=None) full_result [ 5.68434189e-14 -1.86264515e-09]\n",
      "[PairOptimizer.optimize] curves_t WBTC-C599/USDC-eB48\n",
      "[PairOptimizer.optimize] p_optimal OptimizerBase.SimpleResult(result=30709.171178597004, method='bisection', errormsg=None, context_dct=None) full_result [-1.13686838e-13  1.86264515e-09]\n",
      "[PairOptimizer.optimize] curves_t WBTC-C599/USDC-eB48\n",
      "[PairOptimizer.optimize] p_optimal OptimizerBase.SimpleResult(result=30708.392805083105, method='bisection', errormsg=None, context_dct=None) full_result [-2.90562348e-05 -2.85581336e-10]\n",
      "[PairOptimizer.optimize] curves_t WBTC-C599/USDC-eB48\n",
      "[PairOptimizer.optimize] p_optimal 30709.17117859699 full_result [-5.68434189e-14  0.00000000e+00]\n",
      "[FindArbitrageSinglePairwise] Exception:  'numpy.float64' object has no attribute 'is_error'\n",
      "[PairOptimizer.optimize] curves_t WBTC-C599/USDC-eB48\n",
      "[PairOptimizer.optimize] p_optimal 30681.1924500756 full_result [-9.09494702e-13  0.00000000e+00]\n",
      "[FindArbitrageSinglePairwise] Exception:  'numpy.float64' object has no attribute 'is_error'\n",
      "[PairOptimizer.optimize] curves_t WBTC-C599/USDC-eB48\n",
      "[PairOptimizer.optimize] p_optimal 30681.1924500756 full_result [-9.09494702e-13  0.00000000e+00]\n",
      "[FindArbitrageSinglePairwise] Exception:  'numpy.float64' object has no attribute 'is_error'\n",
      "[PairOptimizer.optimize] curves_t WBTC-C599/USDC-eB48\n",
      "[PairOptimizer.optimize] p_optimal OptimizerBase.SimpleResult(result=30681.19245007563, method='bisection', errormsg=None, context_dct=None) full_result [-2.72848411e-12  5.96046448e-08]\n",
      "[PairOptimizer.optimize] curves_t WBTC-C599/USDC-eB48\n",
      "[PairOptimizer.optimize] p_optimal OptimizerBase.SimpleResult(result=30681.192450075592, method='bisection', errormsg=None, context_dct=None) full_result [-9.09494702e-13  0.00000000e+00]\n",
      "[PairOptimizer.optimize] curves_t WBTC-C599/USDC-eB48\n",
      "[PairOptimizer.optimize] p_optimal 30681.192450075592 full_result [-9.09494702e-13  0.00000000e+00]\n",
      "[FindArbitrageSinglePairwise] Exception:  'numpy.float64' object has no attribute 'is_error'\n",
      "[PairOptimizer.optimize] curves_t WBTC-C599/USDC-eB48\n",
      "[PairOptimizer.optimize] p_optimal OptimizerBase.SimpleResult(result=30681.1924500756, method='bisection', errormsg=None, context_dct=None) full_result [-9.09494702e-13  0.00000000e+00]\n",
      "[PairOptimizer.optimize] curves_t WBTC-C599/USDC-eB48\n",
      "[PairOptimizer.optimize] p_optimal OptimizerBase.SimpleResult(result=30681.149356574755, method='bisection', errormsg=None, context_dct=None) full_result [-2.60232557e-05 -1.14014256e-08]\n",
      "[PairOptimizer.optimize] curves_t WBTC-C599/USDC-eB48\n",
      "[PairOptimizer.optimize] p_optimal OptimizerBase.SimpleResult(result=30681.19245007559, method='bisection', errormsg=None, context_dct=None) full_result [ 0.00000000e+00 -2.98023224e-08]\n"
     ]
    },
    {
     "data": {
      "text/plain": "  0%|          | 0/10 [00:00<?, ?it/s]",
      "application/vnd.jupyter.widget-view+json": {
       "version_major": 2,
       "version_minor": 0,
       "model_id": "ef1fd96975ca4721addc77673190e67a"
      }
     },
     "metadata": {},
     "output_type": "display_data"
    },
    {
     "name": "stdout",
     "output_type": "stream",
     "text": [
      "[PairOptimizer.optimize] curves_t USDT-1ec7/USDC-eB48\n",
      "[PairOptimizer.optimize] p_optimal OptimizerBase.SimpleResult(result=1.0000207903497311, method='bisection', errormsg=None, context_dct=None) full_result [ 7.05828857 -7.05841064]\n",
      "[PairOptimizer.optimize] curves_t USDT-1ec7/USDC-eB48\n",
      "[PairOptimizer.optimize] p_optimal OptimizerBase.SimpleResult(result=1.0000207904081506, method='bisection', errormsg=None, context_dct=None) full_result [-8.25445557  8.25463867]\n",
      "[PairOptimizer.optimize] curves_t USDT-1ec7/USDC-eB48\n",
      "[PairOptimizer.optimize] p_optimal OptimizerBase.SimpleResult(result=1.0000207904020626, method='bisection', errormsg=None, context_dct=None) full_result [-6.65869141  6.65881348]\n",
      "[PairOptimizer.optimize] curves_t USDT-1ec7/USDC-eB48\n",
      "[PairOptimizer.optimize] p_optimal OptimizerBase.SimpleResult(result=1.000020791638284, method='bisection', errormsg=None, context_dct=None) full_result [ 3.87104021 -3.98310679]\n",
      "[PairOptimizer.optimize] curves_t USDT-1ec7/USDC-eB48\n",
      "[PairOptimizer.optimize] p_optimal OptimizerBase.SimpleResult(result=1.000020790340398, method='bisection', errormsg=None, context_dct=None) full_result [ 9.50469971 -9.50488281]\n",
      "[PairOptimizer.optimize] curves_t USDT-1ec7/USDC-eB48\n",
      "[PairOptimizer.optimize] p_optimal OptimizerBase.SimpleResult(result=0.9999812258785822, method='bisection', errormsg=None, context_dct=None) full_result [-0.01484537  0.01484489]\n",
      "[PairOptimizer.optimize] curves_t USDT-1ec7/USDC-eB48\n",
      "[PairOptimizer.optimize] p_optimal OptimizerBase.SimpleResult(result=0.9999812258567959, method='bisection', errormsg=None, context_dct=None) full_result [ 0.02874136 -0.02874088]\n",
      "[PairOptimizer.optimize] curves_t USDT-1ec7/USDC-eB48\n",
      "[PairOptimizer.optimize] p_optimal OptimizerBase.SimpleResult(result=0.9999812258950511, method='bisection', errormsg=None, context_dct=None) full_result [-0.04779387  0.04779243]\n",
      "[PairOptimizer.optimize] curves_t USDT-1ec7/USDC-eB48\n",
      "[PairOptimizer.optimize] p_optimal OptimizerBase.SimpleResult(result=0.9999814030399359, method='bisection', errormsg=None, context_dct=None) full_result [-0.19806946  0.07246103]\n",
      "[PairOptimizer.optimize] curves_t USDT-1ec7/USDC-eB48\n",
      "[PairOptimizer.optimize] p_optimal OptimizerBase.SimpleResult(result=0.9999812258655427, method='bisection', errormsg=None, context_dct=None) full_result [ 0.01124191 -0.01124191]\n"
     ]
    },
    {
     "data": {
      "text/plain": "  0%|          | 0/54 [00:00<?, ?it/s]",
      "application/vnd.jupyter.widget-view+json": {
       "version_major": 2,
       "version_minor": 0,
       "model_id": "41a050c1823f4ef58b978a6187cfa1bb"
      }
     },
     "metadata": {},
     "output_type": "display_data"
    },
    {
     "name": "stdout",
     "output_type": "stream",
     "text": [
      "[PairOptimizer.optimize] curves_t WETH-6Cc2/USDC-eB48\n",
      "[PairOptimizer.optimize] p_optimal OptimizerBase.SimpleResult(result=1888.9922146300491, method='bisection', errormsg=None, context_dct=None) full_result [ 8.73114914e-11 -1.19209290e-07]\n",
      "[PairOptimizer.optimize] curves_t WETH-6Cc2/USDC-eB48\n",
      "[PairOptimizer.optimize] p_optimal OptimizerBase.SimpleResult(result=1888.9922146300569, method='bisection', errormsg=None, context_dct=None) full_result [-2.91038305e-10  5.96046448e-07]\n",
      "[PairOptimizer.optimize] curves_t WETH-6Cc2/USDC-eB48\n",
      "[PairOptimizer.optimize] p_optimal OptimizerBase.SimpleResult(result=1888.9922146300253, method='bisection', errormsg=None, context_dct=None) full_result [ 1.19325705e-09 -2.26497650e-06]\n",
      "[PairOptimizer.optimize] curves_t WETH-6Cc2/USDC-eB48\n",
      "[PairOptimizer.optimize] p_optimal OptimizerBase.SimpleResult(result=1888.9922146300537, method='bisection', errormsg=None, context_dct=None) full_result [-1.45519152e-10  2.98023224e-07]\n",
      "[PairOptimizer.optimize] curves_t WETH-6Cc2/USDC-eB48\n",
      "[PairOptimizer.optimize] p_optimal OptimizerBase.SimpleResult(result=1888.9922146300496, method='bisection', errormsg=None, context_dct=None) full_result [ 5.82076609e-11 -5.96046448e-08]\n",
      "[PairOptimizer.optimize] curves_t WETH-6Cc2/USDC-eB48\n",
      "[PairOptimizer.optimize] p_optimal OptimizerBase.SimpleResult(result=1888.9922146300532, method='bisection', errormsg=None, context_dct=None) full_result [-1.16415322e-10  2.38418579e-07]\n",
      "[PairOptimizer.optimize] curves_t WETH-6Cc2/USDC-eB48\n",
      "[PairOptimizer.optimize] p_optimal OptimizerBase.SimpleResult(result=1888.9922146300578, method='bisection', errormsg=None, context_dct=None) full_result [-3.20142135e-10  6.55651093e-07]\n",
      "[PairOptimizer.optimize] curves_t WETH-6Cc2/USDC-eB48\n",
      "[PairOptimizer.optimize] p_optimal OptimizerBase.SimpleResult(result=1888.9922146300444, method='bisection', errormsg=None, context_dct=None) full_result [ 2.91038305e-10 -5.36441803e-07]\n",
      "[PairOptimizer.optimize] curves_t WETH-6Cc2/USDC-eB48\n",
      "[PairOptimizer.optimize] p_optimal OptimizerBase.SimpleResult(result=1888.9922146300455, method='bisection', errormsg=None, context_dct=None) full_result [ 2.32830644e-10 -4.17232513e-07]\n",
      "[PairOptimizer.optimize] curves_t WETH-6Cc2/USDC-eB48\n",
      "[PairOptimizer.optimize] p_optimal OptimizerBase.SimpleResult(result=1888.99221463004, method='bisection', errormsg=None, context_dct=None) full_result [ 4.94765118e-10 -9.53674316e-07]\n",
      "[PairOptimizer.optimize] curves_t WETH-6Cc2/USDC-eB48\n",
      "[PairOptimizer.optimize] p_optimal OptimizerBase.SimpleResult(result=1888.992214630059, method='bisection', errormsg=None, context_dct=None) full_result [-3.78349796e-10  7.15255737e-07]\n",
      "[PairOptimizer.optimize] curves_t WETH-6Cc2/USDC-eB48\n",
      "[PairOptimizer.optimize] p_optimal OptimizerBase.SimpleResult(result=1888.9922146300523, method='bisection', errormsg=None, context_dct=None) full_result [-8.73114914e-11  1.78813934e-07]\n",
      "[PairOptimizer.optimize] curves_t WETH-6Cc2/USDC-eB48\n",
      "[PairOptimizer.optimize] p_optimal OptimizerBase.SimpleResult(result=1888.9922146300391, method='bisection', errormsg=None, context_dct=None) full_result [ 5.23868948e-10 -1.01327896e-06]\n",
      "[PairOptimizer.optimize] curves_t WETH-6Cc2/USDC-eB48\n",
      "[PairOptimizer.optimize] p_optimal OptimizerBase.SimpleResult(result=1888.9922146300473, method='bisection', errormsg=None, context_dct=None) full_result [ 1.45519152e-10 -2.98023224e-07]\n",
      "[PairOptimizer.optimize] curves_t WETH-6Cc2/USDC-eB48\n",
      "[PairOptimizer.optimize] p_optimal OptimizerBase.SimpleResult(result=1888.9922146300362, method='bisection', errormsg=None, context_dct=None) full_result [ 6.98491931e-10 -1.31130219e-06]\n",
      "[PairOptimizer.optimize] curves_t WETH-6Cc2/USDC-eB48\n",
      "[PairOptimizer.optimize] p_optimal OptimizerBase.SimpleResult(result=1888.9922146300369, method='bisection', errormsg=None, context_dct=None) full_result [ 6.4028427e-10 -1.1920929e-06]\n",
      "[PairOptimizer.optimize] curves_t WETH-6Cc2/USDC-eB48\n",
      "[PairOptimizer.optimize] p_optimal OptimizerBase.SimpleResult(result=1888.992214630031, method='bisection', errormsg=None, context_dct=None) full_result [ 9.02218744e-10 -1.66893005e-06]\n",
      "[PairOptimizer.optimize] curves_t WETH-6Cc2/USDC-eB48\n",
      "[PairOptimizer.optimize] p_optimal OptimizerBase.SimpleResult(result=1888.9922146300394, method='bisection', errormsg=None, context_dct=None) full_result [ 5.23868948e-10 -1.01327896e-06]\n",
      "[PairOptimizer.optimize] curves_t WETH-6Cc2/USDC-eB48\n",
      "[PairOptimizer.optimize] p_optimal OptimizerBase.SimpleResult(result=1888.9922146300503, method='bisection', errormsg=None, context_dct=None) full_result [2.91038305e-11 0.00000000e+00]\n",
      "[PairOptimizer.optimize] curves_t WETH-6Cc2/USDC-eB48\n",
      "[PairOptimizer.optimize] p_optimal OptimizerBase.SimpleResult(result=1888.9922146300855, method='bisection', errormsg=None, context_dct=None) full_result [-1.62981451e-09  3.09944153e-06]\n",
      "[PairOptimizer.optimize] curves_t WETH-6Cc2/USDC-eB48\n",
      "[PairOptimizer.optimize] p_optimal OptimizerBase.SimpleResult(result=1888.9922146300478, method='bisection', errormsg=None, context_dct=None) full_result [ 1.45519152e-10 -2.38418579e-07]\n",
      "[PairOptimizer.optimize] curves_t WETH-6Cc2/USDC-eB48\n",
      "[PairOptimizer.optimize] p_optimal OptimizerBase.SimpleResult(result=1888.9922146300792, method='bisection', errormsg=None, context_dct=None) full_result [-1.33877620e-09  2.56299973e-06]\n",
      "[PairOptimizer.optimize] curves_t WETH-6Cc2/USDC-eB48\n",
      "[PairOptimizer.optimize] p_optimal OptimizerBase.SimpleResult(result=1888.9922146300391, method='bisection', errormsg=None, context_dct=None) full_result [ 5.23868948e-10 -1.01327896e-06]\n",
      "[PairOptimizer.optimize] curves_t WETH-6Cc2/USDC-eB48\n",
      "[PairOptimizer.optimize] p_optimal OptimizerBase.SimpleResult(result=1888.9922146300619, method='bisection', errormsg=None, context_dct=None) full_result [-5.23868948e-10  1.01327896e-06]\n",
      "[PairOptimizer.optimize] curves_t WETH-6Cc2/USDC-eB48\n",
      "[PairOptimizer.optimize] p_optimal OptimizerBase.SimpleResult(result=1888.9922050253144, method='bisection', errormsg=None, context_dct=None) full_result [-2.22688450e-05  8.56816769e-08]\n",
      "[PairOptimizer.optimize] curves_t WETH-6Cc2/USDC-eB48\n",
      "[PairOptimizer.optimize] p_optimal OptimizerBase.SimpleResult(result=1888.9922146300673, method='bisection', errormsg=None, context_dct=None) full_result [-7.85803422e-10  1.49011612e-06]\n",
      "[PairOptimizer.optimize] curves_t WETH-6Cc2/USDC-eB48\n",
      "[PairOptimizer.optimize] p_optimal OptimizerBase.SimpleResult(result=1888.9922146300664, method='bisection', errormsg=None, context_dct=None) full_result [-7.27595761e-10  1.37090683e-06]\n",
      "[PairOptimizer.optimize] curves_t WETH-6Cc2/USDC-eB48\n",
      "[PairOptimizer.optimize] p_optimal OptimizerBase.SimpleResult(result=1888.9922146300737, method='bisection', errormsg=None, context_dct=None) full_result [-1.07684173e-09  2.02655792e-06]\n",
      "[PairOptimizer.optimize] curves_t WETH-6Cc2/USDC-eB48\n",
      "[PairOptimizer.optimize] p_optimal OptimizerBase.SimpleResult(result=1888.9922146300778, method='bisection', errormsg=None, context_dct=None) full_result [-1.28056854e-09  2.44379044e-06]\n",
      "[PairOptimizer.optimize] curves_t WETH-6Cc2/USDC-eB48\n",
      "[PairOptimizer.optimize] p_optimal OptimizerBase.SimpleResult(result=1888.9922146300296, method='bisection', errormsg=None, context_dct=None) full_result [ 9.89530236e-10 -1.84774399e-06]\n",
      "[PairOptimizer.optimize] curves_t WETH-6Cc2/USDC-eB48\n",
      "[PairOptimizer.optimize] p_optimal OptimizerBase.SimpleResult(result=1888.9922146300314, method='bisection', errormsg=None, context_dct=None) full_result [ 9.02218744e-10 -1.66893005e-06]\n",
      "[PairOptimizer.optimize] curves_t WETH-6Cc2/USDC-eB48\n",
      "[PairOptimizer.optimize] p_optimal OptimizerBase.SimpleResult(result=1888.992214630077, method='bisection', errormsg=None, context_dct=None) full_result [-1.22236088e-09  2.32458115e-06]\n",
      "[PairOptimizer.optimize] curves_t WETH-6Cc2/USDC-eB48\n",
      "[PairOptimizer.optimize] p_optimal OptimizerBase.SimpleResult(result=1888.9922146300594, method='bisection', errormsg=None, context_dct=None) full_result [-4.07453626e-10  7.74860382e-07]\n",
      "[PairOptimizer.optimize] curves_t WETH-6Cc2/USDC-eB48\n",
      "[PairOptimizer.optimize] p_optimal OptimizerBase.SimpleResult(result=1888.9922146300491, method='bisection', errormsg=None, context_dct=None) full_result [ 8.73114914e-11 -1.19209290e-07]\n",
      "[PairOptimizer.optimize] curves_t WETH-6Cc2/USDC-eB48\n",
      "[PairOptimizer.optimize] p_optimal OptimizerBase.SimpleResult(result=1888.9922146300614, method='bisection', errormsg=None, context_dct=None) full_result [-4.94765118e-10  9.53674316e-07]\n",
      "[PairOptimizer.optimize] curves_t WETH-6Cc2/USDC-eB48\n",
      "[PairOptimizer.optimize] p_optimal OptimizerBase.SimpleResult(result=1888.992214630031, method='bisection', errormsg=None, context_dct=None) full_result [ 4.79416506e-10 -8.99430233e-07]\n",
      "[PairOptimizer.optimize] curves_t WETH-6Cc2/USDC-eB48\n",
      "[PairOptimizer.optimize] p_optimal OptimizerBase.SimpleResult(result=1888.99221463004, method='bisection', errormsg=None, context_dct=None) full_result [ 4.94765118e-10 -9.53674316e-07]\n",
      "[PairOptimizer.optimize] curves_t WETH-6Cc2/USDC-eB48\n",
      "[PairOptimizer.optimize] p_optimal OptimizerBase.SimpleResult(result=1888.9922146300391, method='bisection', errormsg=None, context_dct=None) full_result [ 5.23868948e-10 -1.01327896e-06]\n",
      "[PairOptimizer.optimize] curves_t WETH-6Cc2/USDC-eB48\n",
      "[PairOptimizer.optimize] p_optimal OptimizerBase.SimpleResult(result=1888.9922146300337, method='bisection', errormsg=None, context_dct=None) full_result [ 7.85803422e-10 -1.49011612e-06]\n",
      "[PairOptimizer.optimize] curves_t WETH-6Cc2/USDC-eB48\n",
      "[PairOptimizer.optimize] p_optimal OptimizerBase.SimpleResult(result=1888.9922146300673, method='bisection', errormsg=None, context_dct=None) full_result [-7.85803422e-10  1.49011612e-06]\n",
      "[PairOptimizer.optimize] curves_t WETH-6Cc2/USDC-eB48\n",
      "[PairOptimizer.optimize] p_optimal OptimizerBase.SimpleResult(result=1888.9922146300228, method='bisection', errormsg=None, context_dct=None) full_result [ 1.30967237e-09 -2.44379044e-06]\n",
      "[PairOptimizer.optimize] curves_t WETH-6Cc2/USDC-eB48\n",
      "[PairOptimizer.optimize] p_optimal OptimizerBase.SimpleResult(result=1888.992214630025, method='bisection', errormsg=None, context_dct=None) full_result [ 1.19325705e-09 -2.26497650e-06]\n",
      "[PairOptimizer.optimize] curves_t WETH-6Cc2/USDC-eB48\n",
      "[PairOptimizer.optimize] p_optimal OptimizerBase.SimpleResult(result=1888.9922146300191, method='bisection', errormsg=None, context_dct=None) full_result [ 1.48429535e-09 -2.80141830e-06]\n",
      "[PairOptimizer.optimize] curves_t WETH-6Cc2/USDC-eB48\n",
      "[PairOptimizer.optimize] p_optimal OptimizerBase.SimpleResult(result=1888.9922146300532, method='bisection', errormsg=None, context_dct=None) full_result [-1.16415322e-10  2.38418579e-07]\n",
      "[PairOptimizer.optimize] curves_t WETH-6Cc2/USDC-eB48\n",
      "[PairOptimizer.optimize] p_optimal OptimizerBase.SimpleResult(result=1888.9922146300728, method='bisection', errormsg=None, context_dct=None) full_result [-1.04773790e-09  1.96695328e-06]\n",
      "[PairOptimizer.optimize] curves_t WETH-6Cc2/USDC-eB48\n",
      "[PairOptimizer.optimize] p_optimal OptimizerBase.SimpleResult(result=1888.9922146300314, method='bisection', errormsg=None, context_dct=None) full_result [ 9.02218744e-10 -1.66893005e-06]\n",
      "[PairOptimizer.optimize] curves_t WETH-6Cc2/USDC-eB48\n",
      "[PairOptimizer.optimize] p_optimal OptimizerBase.SimpleResult(result=1888.9922146300853, method='bisection', errormsg=None, context_dct=None) full_result [-1.62981451e-09  3.09944153e-06]\n",
      "[PairOptimizer.optimize] curves_t WETH-6Cc2/USDC-eB48\n",
      "[PairOptimizer.optimize] p_optimal OptimizerBase.SimpleResult(result=1888.9922146300532, method='bisection', errormsg=None, context_dct=None) full_result [-1.16415322e-10  2.38418579e-07]\n",
      "[PairOptimizer.optimize] curves_t WETH-6Cc2/USDC-eB48\n",
      "[PairOptimizer.optimize] p_optimal OptimizerBase.SimpleResult(result=1888.9922146300314, method='bisection', errormsg=None, context_dct=None) full_result [ 9.02218744e-10 -1.66893005e-06]\n",
      "[PairOptimizer.optimize] curves_t WETH-6Cc2/USDC-eB48\n",
      "[PairOptimizer.optimize] p_optimal OptimizerBase.SimpleResult(result=1888.9922146300917, method='bisection', errormsg=None, context_dct=None) full_result [-1.92085281e-09  3.63588333e-06]\n",
      "[PairOptimizer.optimize] curves_t WETH-6Cc2/USDC-eB48\n",
      "[PairOptimizer.optimize] p_optimal OptimizerBase.SimpleResult(result=1888.9922146300532, method='bisection', errormsg=None, context_dct=None) full_result [-1.16415322e-10  2.38418579e-07]\n",
      "[PairOptimizer.optimize] curves_t WETH-6Cc2/USDC-eB48\n",
      "[PairOptimizer.optimize] p_optimal OptimizerBase.SimpleResult(result=1888.9922146300405, method='bisection', errormsg=None, context_dct=None) full_result [ 4.65661287e-10 -8.94069672e-07]\n",
      "[PairOptimizer.optimize] curves_t WETH-6Cc2/USDC-eB48\n",
      "[PairOptimizer.optimize] p_optimal OptimizerBase.SimpleResult(result=1888.9922146300532, method='bisection', errormsg=None, context_dct=None) full_result [-1.16415322e-10  2.38418579e-07]\n",
      "[PairOptimizer.optimize] curves_t WETH-6Cc2/USDC-eB48\n",
      "[PairOptimizer.optimize] p_optimal OptimizerBase.SimpleResult(result=1888.9922146300455, method='bisection', errormsg=None, context_dct=None) full_result [ 2.32830644e-10 -4.17232513e-07]\n"
     ]
    },
    {
     "data": {
      "text/plain": "0it [00:00, ?it/s]",
      "application/vnd.jupyter.widget-view+json": {
       "version_major": 2,
       "version_minor": 0,
       "model_id": "5f6bce52eb8f4a0b9e6a1c2eec82b6a5"
      }
     },
     "metadata": {},
     "output_type": "display_data"
    },
    {
     "data": {
      "text/plain": "  0%|          | 0/1 [00:00<?, ?it/s]",
      "application/vnd.jupyter.widget-view+json": {
       "version_major": 2,
       "version_minor": 0,
       "model_id": "50af44d51a054b30aeda05eff5d5c927"
      }
     },
     "metadata": {},
     "output_type": "display_data"
    },
    {
     "name": "stdout",
     "output_type": "stream",
     "text": [
      "[PairOptimizer.optimize] curves_t SMT-7173/WETH-6Cc2\n",
      "[PairOptimizer.optimize] p_optimal OptimizerBase.SimpleResult(result=3.412389120192642e-05, method='bisection', errormsg=None, context_dct=None) full_result [-2.28550270e-01  7.79902077e-06]\n"
     ]
    },
    {
     "data": {
      "text/plain": "0it [00:00, ?it/s]",
      "application/vnd.jupyter.widget-view+json": {
       "version_major": 2,
       "version_minor": 0,
       "model_id": "07134b21e8294de888a0d79607b3acc6"
      }
     },
     "metadata": {},
     "output_type": "display_data"
    },
    {
     "data": {
      "text/plain": "0it [00:00, ?it/s]",
      "application/vnd.jupyter.widget-view+json": {
       "version_major": 2,
       "version_minor": 0,
       "model_id": "41b233fa7b4f4fc6ba5ef1beb3fe8db8"
      }
     },
     "metadata": {},
     "output_type": "display_data"
    },
    {
     "data": {
      "text/plain": "  0%|          | 0/4 [00:00<?, ?it/s]",
      "application/vnd.jupyter.widget-view+json": {
       "version_major": 2,
       "version_minor": 0,
       "model_id": "a489be0530434d24953a73e6f64420a5"
      }
     },
     "metadata": {},
     "output_type": "display_data"
    },
    {
     "name": "stdout",
     "output_type": "stream",
     "text": [
      "[PairOptimizer.optimize] curves_t WETH-6Cc2/BNT-FF1C\n",
      "[PairOptimizer.optimize] p_optimal OptimizerBase.SimpleResult(result=4764.127397630934, method='bisection', errormsg=None, context_dct=None) full_result [-2.08544293e-12 -2.38837026e+00]\n",
      "[PairOptimizer.optimize] curves_t WETH-6Cc2/BNT-FF1C\n",
      "[PairOptimizer.optimize] p_optimal OptimizerBase.SimpleResult(result=4764.138098143878, method='bisection', errormsg=None, context_dct=None) full_result [ 2.72848411e-12 -1.49011612e-08]\n",
      "[PairOptimizer.optimize] curves_t WETH-6Cc2/BNT-FF1C\n",
      "[PairOptimizer.optimize] p_optimal OptimizerBase.SimpleResult(result=4764.138098143918, method='bisection', errormsg=None, context_dct=None) full_result [-1.18234311e-11  5.58793545e-08]\n",
      "[PairOptimizer.optimize] curves_t WETH-6Cc2/BNT-FF1C\n",
      "[PairOptimizer.optimize] p_optimal OptimizerBase.SimpleResult(result=4764.138098143867, method='bisection', errormsg=None, context_dct=None) full_result [ 7.27595761e-12 -3.35276127e-08]\n"
     ]
    },
    {
     "data": {
      "text/plain": "  0%|          | 0/18 [00:00<?, ?it/s]",
      "application/vnd.jupyter.widget-view+json": {
       "version_major": 2,
       "version_minor": 0,
       "model_id": "5ae94f23f08e46ff82288f20475c221f"
      }
     },
     "metadata": {},
     "output_type": "display_data"
    },
    {
     "name": "stdout",
     "output_type": "stream",
     "text": [
      "[PairOptimizer.optimize] curves_t WETH-6Cc2/DAI-1d0F\n",
      "[PairOptimizer.optimize] p_optimal OptimizerBase.SimpleResult(result=1889.8516355281042, method='bisection', errormsg=None, context_dct=None) full_result [-2.25554686e-10  4.32133675e-07]\n",
      "[PairOptimizer.optimize] curves_t WETH-6Cc2/DAI-1d0F\n",
      "[PairOptimizer.optimize] p_optimal OptimizerBase.SimpleResult(result=1889.8516355281013, method='bisection', errormsg=None, context_dct=None) full_result [-1.89174898e-10  3.57627869e-07]\n",
      "[PairOptimizer.optimize] curves_t WETH-6Cc2/DAI-1d0F\n",
      "[PairOptimizer.optimize] p_optimal OptimizerBase.SimpleResult(result=1889.8516355280663, method='bisection', errormsg=None, context_dct=None) full_result [ 1.74622983e-10 -3.27825546e-07]\n",
      "[PairOptimizer.optimize] curves_t WETH-6Cc2/DAI-1d0F\n",
      "[PairOptimizer.optimize] p_optimal OptimizerBase.SimpleResult(result=1889.851635528079, method='bisection', errormsg=None, context_dct=None) full_result [ 3.63797881e-11 -7.45058060e-08]\n",
      "[PairOptimizer.optimize] curves_t WETH-6Cc2/DAI-1d0F\n",
      "[PairOptimizer.optimize] p_optimal OptimizerBase.SimpleResult(result=1889.8516355281054, method='bisection', errormsg=None, context_dct=None) full_result [-2.40106602e-10  4.47034836e-07]\n",
      "[PairOptimizer.optimize] curves_t WETH-6Cc2/DAI-1d0F\n",
      "[PairOptimizer.optimize] p_optimal OptimizerBase.SimpleResult(result=1889.8516355281217, method='bisection', errormsg=None, context_dct=None) full_result [-4.07453626e-10  7.59959221e-07]\n",
      "[PairOptimizer.optimize] curves_t WETH-6Cc2/DAI-1d0F\n",
      "[PairOptimizer.optimize] p_optimal OptimizerBase.SimpleResult(result=1889.8516355280967, method='bisection', errormsg=None, context_dct=None) full_result [-1.38243195e-10  2.68220901e-07]\n",
      "[PairOptimizer.optimize] curves_t WETH-6Cc2/DAI-1d0F\n",
      "[PairOptimizer.optimize] p_optimal OptimizerBase.SimpleResult(result=1889.8516355280508, method='bisection', errormsg=None, context_dct=None) full_result [ 3.34694050e-10 -6.40749931e-07]\n",
      "[PairOptimizer.optimize] curves_t WETH-6Cc2/DAI-1d0F\n",
      "[PairOptimizer.optimize] p_optimal OptimizerBase.SimpleResult(result=1889.8516355280644, method='bisection', errormsg=None, context_dct=None) full_result [ 1.89174898e-10 -3.57627869e-07]\n",
      "[PairOptimizer.optimize] curves_t WETH-6Cc2/DAI-1d0F\n",
      "[PairOptimizer.optimize] p_optimal OptimizerBase.SimpleResult(result=1889.2342508777633, method='bisection', errormsg=None, context_dct=None) full_result [ 1.85536919e-10 -3.50177288e-07]\n",
      "[PairOptimizer.optimize] curves_t WETH-6Cc2/DAI-1d0F\n",
      "[PairOptimizer.optimize] p_optimal OptimizerBase.SimpleResult(result=1889.2342508777883, method='bisection', errormsg=None, context_dct=None) full_result [-2.54658516e-11  5.21540642e-08]\n",
      "[PairOptimizer.optimize] curves_t WETH-6Cc2/DAI-1d0F\n",
      "[PairOptimizer.optimize] p_optimal OptimizerBase.SimpleResult(result=1889.2342508777967, method='bisection', errormsg=None, context_dct=None) full_result [-1.01863407e-10  1.93715096e-07]\n",
      "[PairOptimizer.optimize] curves_t WETH-6Cc2/DAI-1d0F\n",
      "[PairOptimizer.optimize] p_optimal OptimizerBase.SimpleResult(result=1889.23425087778, method='bisection', errormsg=None, context_dct=None) full_result [ 4.36557457e-11 -7.45058060e-08]\n",
      "[PairOptimizer.optimize] curves_t WETH-6Cc2/DAI-1d0F\n",
      "[PairOptimizer.optimize] p_optimal OptimizerBase.SimpleResult(result=1889.2342508777592, method='bisection', errormsg=None, context_dct=None) full_result [ 2.25554685e-10 -4.24683094e-07]\n",
      "[PairOptimizer.optimize] curves_t WETH-6Cc2/DAI-1d0F\n",
      "[PairOptimizer.optimize] p_optimal OptimizerBase.SimpleResult(result=1889.2342508778206, method='bisection', errormsg=None, context_dct=None) full_result [-3.09228199e-10  5.81145287e-07]\n",
      "[PairOptimizer.optimize] curves_t WETH-6Cc2/DAI-1d0F\n",
      "[PairOptimizer.optimize] p_optimal OptimizerBase.SimpleResult(result=1889.2342508777615, method='bisection', errormsg=None, context_dct=None) full_result [ 2.03726813e-10 -3.87430191e-07]\n",
      "[PairOptimizer.optimize] curves_t WETH-6Cc2/DAI-1d0F\n",
      "[PairOptimizer.optimize] p_optimal OptimizerBase.SimpleResult(result=1889.234250877789, method='bisection', errormsg=None, context_dct=None) full_result [-3.63797881e-11  7.45058060e-08]\n",
      "[PairOptimizer.optimize] curves_t WETH-6Cc2/DAI-1d0F\n",
      "[PairOptimizer.optimize] p_optimal OptimizerBase.SimpleResult(result=1889.2342508777924, method='bisection', errormsg=None, context_dct=None) full_result [-6.54836185e-11  1.26659870e-07]\n"
     ]
    },
    {
     "data": {
      "text/plain": "  0%|          | 0/54 [00:00<?, ?it/s]",
      "application/vnd.jupyter.widget-view+json": {
       "version_major": 2,
       "version_minor": 0,
       "model_id": "ffcc84110a954cb59ea561b46b070c1e"
      }
     },
     "metadata": {},
     "output_type": "display_data"
    },
    {
     "name": "stdout",
     "output_type": "stream",
     "text": [
      "[PairOptimizer.optimize] curves_t WETH-6Cc2/USDC-eB48\n",
      "[PairOptimizer.optimize] p_optimal OptimizerBase.SimpleResult(result=1888.9922146300491, method='bisection', errormsg=None, context_dct=None) full_result [ 8.73114914e-11 -1.19209290e-07]\n",
      "[PairOptimizer.optimize] curves_t WETH-6Cc2/USDC-eB48\n",
      "[PairOptimizer.optimize] p_optimal OptimizerBase.SimpleResult(result=1888.9922146300569, method='bisection', errormsg=None, context_dct=None) full_result [-2.91038305e-10  5.96046448e-07]\n",
      "[PairOptimizer.optimize] curves_t WETH-6Cc2/USDC-eB48\n",
      "[PairOptimizer.optimize] p_optimal OptimizerBase.SimpleResult(result=1888.9922146300253, method='bisection', errormsg=None, context_dct=None) full_result [ 1.19325705e-09 -2.26497650e-06]\n",
      "[PairOptimizer.optimize] curves_t WETH-6Cc2/USDC-eB48\n",
      "[PairOptimizer.optimize] p_optimal OptimizerBase.SimpleResult(result=1888.9922146300537, method='bisection', errormsg=None, context_dct=None) full_result [-1.45519152e-10  2.98023224e-07]\n",
      "[PairOptimizer.optimize] curves_t WETH-6Cc2/USDC-eB48\n",
      "[PairOptimizer.optimize] p_optimal OptimizerBase.SimpleResult(result=1888.9922146300496, method='bisection', errormsg=None, context_dct=None) full_result [ 5.82076609e-11 -5.96046448e-08]\n",
      "[PairOptimizer.optimize] curves_t WETH-6Cc2/USDC-eB48\n",
      "[PairOptimizer.optimize] p_optimal OptimizerBase.SimpleResult(result=1888.9922146300532, method='bisection', errormsg=None, context_dct=None) full_result [-1.16415322e-10  2.38418579e-07]\n",
      "[PairOptimizer.optimize] curves_t WETH-6Cc2/USDC-eB48\n",
      "[PairOptimizer.optimize] p_optimal OptimizerBase.SimpleResult(result=1888.9922146300578, method='bisection', errormsg=None, context_dct=None) full_result [-3.20142135e-10  6.55651093e-07]\n",
      "[PairOptimizer.optimize] curves_t WETH-6Cc2/USDC-eB48\n",
      "[PairOptimizer.optimize] p_optimal OptimizerBase.SimpleResult(result=1888.9922146300444, method='bisection', errormsg=None, context_dct=None) full_result [ 2.91038305e-10 -5.36441803e-07]\n",
      "[PairOptimizer.optimize] curves_t WETH-6Cc2/USDC-eB48\n",
      "[PairOptimizer.optimize] p_optimal OptimizerBase.SimpleResult(result=1888.9922146300455, method='bisection', errormsg=None, context_dct=None) full_result [ 2.32830644e-10 -4.17232513e-07]\n",
      "[PairOptimizer.optimize] curves_t WETH-6Cc2/USDC-eB48\n",
      "[PairOptimizer.optimize] p_optimal OptimizerBase.SimpleResult(result=1888.99221463004, method='bisection', errormsg=None, context_dct=None) full_result [ 4.94765118e-10 -9.53674316e-07]\n",
      "[PairOptimizer.optimize] curves_t WETH-6Cc2/USDC-eB48\n",
      "[PairOptimizer.optimize] p_optimal OptimizerBase.SimpleResult(result=1888.992214630059, method='bisection', errormsg=None, context_dct=None) full_result [-3.78349796e-10  7.15255737e-07]\n",
      "[PairOptimizer.optimize] curves_t WETH-6Cc2/USDC-eB48\n",
      "[PairOptimizer.optimize] p_optimal OptimizerBase.SimpleResult(result=1888.9922146300523, method='bisection', errormsg=None, context_dct=None) full_result [-8.73114914e-11  1.78813934e-07]\n",
      "[PairOptimizer.optimize] curves_t WETH-6Cc2/USDC-eB48\n",
      "[PairOptimizer.optimize] p_optimal OptimizerBase.SimpleResult(result=1888.9922146300391, method='bisection', errormsg=None, context_dct=None) full_result [ 5.23868948e-10 -1.01327896e-06]\n",
      "[PairOptimizer.optimize] curves_t WETH-6Cc2/USDC-eB48\n",
      "[PairOptimizer.optimize] p_optimal OptimizerBase.SimpleResult(result=1888.9922146300473, method='bisection', errormsg=None, context_dct=None) full_result [ 1.45519152e-10 -2.98023224e-07]\n",
      "[PairOptimizer.optimize] curves_t WETH-6Cc2/USDC-eB48\n",
      "[PairOptimizer.optimize] p_optimal OptimizerBase.SimpleResult(result=1888.9922146300362, method='bisection', errormsg=None, context_dct=None) full_result [ 6.98491931e-10 -1.31130219e-06]\n",
      "[PairOptimizer.optimize] curves_t WETH-6Cc2/USDC-eB48\n",
      "[PairOptimizer.optimize] p_optimal OptimizerBase.SimpleResult(result=1888.9922146300369, method='bisection', errormsg=None, context_dct=None) full_result [ 6.4028427e-10 -1.1920929e-06]\n",
      "[PairOptimizer.optimize] curves_t WETH-6Cc2/USDC-eB48\n",
      "[PairOptimizer.optimize] p_optimal OptimizerBase.SimpleResult(result=1888.992214630031, method='bisection', errormsg=None, context_dct=None) full_result [ 9.02218744e-10 -1.66893005e-06]\n",
      "[PairOptimizer.optimize] curves_t WETH-6Cc2/USDC-eB48\n",
      "[PairOptimizer.optimize] p_optimal OptimizerBase.SimpleResult(result=1888.9922146300394, method='bisection', errormsg=None, context_dct=None) full_result [ 5.23868948e-10 -1.01327896e-06]\n",
      "[PairOptimizer.optimize] curves_t WETH-6Cc2/USDC-eB48\n",
      "[PairOptimizer.optimize] p_optimal OptimizerBase.SimpleResult(result=1888.9922146300503, method='bisection', errormsg=None, context_dct=None) full_result [2.91038305e-11 0.00000000e+00]\n",
      "[PairOptimizer.optimize] curves_t WETH-6Cc2/USDC-eB48\n",
      "[PairOptimizer.optimize] p_optimal OptimizerBase.SimpleResult(result=1888.9922146300855, method='bisection', errormsg=None, context_dct=None) full_result [-1.62981451e-09  3.09944153e-06]\n",
      "[PairOptimizer.optimize] curves_t WETH-6Cc2/USDC-eB48\n",
      "[PairOptimizer.optimize] p_optimal OptimizerBase.SimpleResult(result=1888.9922146300478, method='bisection', errormsg=None, context_dct=None) full_result [ 1.45519152e-10 -2.38418579e-07]\n",
      "[PairOptimizer.optimize] curves_t WETH-6Cc2/USDC-eB48\n",
      "[PairOptimizer.optimize] p_optimal OptimizerBase.SimpleResult(result=1888.9922146300792, method='bisection', errormsg=None, context_dct=None) full_result [-1.33877620e-09  2.56299973e-06]\n",
      "[PairOptimizer.optimize] curves_t WETH-6Cc2/USDC-eB48\n",
      "[PairOptimizer.optimize] p_optimal OptimizerBase.SimpleResult(result=1888.9922146300391, method='bisection', errormsg=None, context_dct=None) full_result [ 5.23868948e-10 -1.01327896e-06]\n",
      "[PairOptimizer.optimize] curves_t WETH-6Cc2/USDC-eB48\n",
      "[PairOptimizer.optimize] p_optimal OptimizerBase.SimpleResult(result=1888.9922146300619, method='bisection', errormsg=None, context_dct=None) full_result [-5.23868948e-10  1.01327896e-06]\n",
      "[PairOptimizer.optimize] curves_t WETH-6Cc2/USDC-eB48\n",
      "[PairOptimizer.optimize] p_optimal OptimizerBase.SimpleResult(result=1888.9922045504713, method='bisection', errormsg=None, context_dct=None) full_result [-7.76708475e-10 -4.20641638e-02]\n",
      "[PairOptimizer.optimize] curves_t WETH-6Cc2/USDC-eB48\n",
      "[PairOptimizer.optimize] p_optimal OptimizerBase.SimpleResult(result=1888.9922146300673, method='bisection', errormsg=None, context_dct=None) full_result [-7.85803422e-10  1.49011612e-06]\n",
      "[PairOptimizer.optimize] curves_t WETH-6Cc2/USDC-eB48\n",
      "[PairOptimizer.optimize] p_optimal OptimizerBase.SimpleResult(result=1888.9922146300664, method='bisection', errormsg=None, context_dct=None) full_result [-7.27595761e-10  1.37090683e-06]\n",
      "[PairOptimizer.optimize] curves_t WETH-6Cc2/USDC-eB48\n",
      "[PairOptimizer.optimize] p_optimal OptimizerBase.SimpleResult(result=1888.9922146300737, method='bisection', errormsg=None, context_dct=None) full_result [-1.07684173e-09  2.02655792e-06]\n",
      "[PairOptimizer.optimize] curves_t WETH-6Cc2/USDC-eB48\n",
      "[PairOptimizer.optimize] p_optimal OptimizerBase.SimpleResult(result=1888.9922146300778, method='bisection', errormsg=None, context_dct=None) full_result [-1.28056854e-09  2.44379044e-06]\n",
      "[PairOptimizer.optimize] curves_t WETH-6Cc2/USDC-eB48\n",
      "[PairOptimizer.optimize] p_optimal OptimizerBase.SimpleResult(result=1888.9922146300296, method='bisection', errormsg=None, context_dct=None) full_result [ 9.89530236e-10 -1.84774399e-06]\n",
      "[PairOptimizer.optimize] curves_t WETH-6Cc2/USDC-eB48\n",
      "[PairOptimizer.optimize] p_optimal OptimizerBase.SimpleResult(result=1888.9922146300314, method='bisection', errormsg=None, context_dct=None) full_result [ 9.02218744e-10 -1.66893005e-06]\n",
      "[PairOptimizer.optimize] curves_t WETH-6Cc2/USDC-eB48\n",
      "[PairOptimizer.optimize] p_optimal OptimizerBase.SimpleResult(result=1888.992214630077, method='bisection', errormsg=None, context_dct=None) full_result [-1.22236088e-09  2.32458115e-06]\n",
      "[PairOptimizer.optimize] curves_t WETH-6Cc2/USDC-eB48\n",
      "[PairOptimizer.optimize] p_optimal OptimizerBase.SimpleResult(result=1888.9922146300594, method='bisection', errormsg=None, context_dct=None) full_result [-4.07453626e-10  7.74860382e-07]\n",
      "[PairOptimizer.optimize] curves_t WETH-6Cc2/USDC-eB48\n",
      "[PairOptimizer.optimize] p_optimal OptimizerBase.SimpleResult(result=1888.9922146300491, method='bisection', errormsg=None, context_dct=None) full_result [ 8.73114914e-11 -1.19209290e-07]\n",
      "[PairOptimizer.optimize] curves_t WETH-6Cc2/USDC-eB48\n",
      "[PairOptimizer.optimize] p_optimal OptimizerBase.SimpleResult(result=1888.9922146300614, method='bisection', errormsg=None, context_dct=None) full_result [-4.94765118e-10  9.53674316e-07]\n",
      "[PairOptimizer.optimize] curves_t WETH-6Cc2/USDC-eB48\n",
      "[PairOptimizer.optimize] p_optimal OptimizerBase.SimpleResult(result=1888.992214630031, method='bisection', errormsg=None, context_dct=None) full_result [ 4.79416506e-10 -8.99430233e-07]\n",
      "[PairOptimizer.optimize] curves_t WETH-6Cc2/USDC-eB48\n",
      "[PairOptimizer.optimize] p_optimal OptimizerBase.SimpleResult(result=1888.99221463004, method='bisection', errormsg=None, context_dct=None) full_result [ 4.94765118e-10 -9.53674316e-07]\n",
      "[PairOptimizer.optimize] curves_t WETH-6Cc2/USDC-eB48\n",
      "[PairOptimizer.optimize] p_optimal OptimizerBase.SimpleResult(result=1888.9922146300391, method='bisection', errormsg=None, context_dct=None) full_result [ 5.23868948e-10 -1.01327896e-06]\n",
      "[PairOptimizer.optimize] curves_t WETH-6Cc2/USDC-eB48\n",
      "[PairOptimizer.optimize] p_optimal OptimizerBase.SimpleResult(result=1888.9922146300337, method='bisection', errormsg=None, context_dct=None) full_result [ 7.85803422e-10 -1.49011612e-06]\n",
      "[PairOptimizer.optimize] curves_t WETH-6Cc2/USDC-eB48\n",
      "[PairOptimizer.optimize] p_optimal OptimizerBase.SimpleResult(result=1888.9922146300673, method='bisection', errormsg=None, context_dct=None) full_result [-7.85803422e-10  1.49011612e-06]\n",
      "[PairOptimizer.optimize] curves_t WETH-6Cc2/USDC-eB48\n",
      "[PairOptimizer.optimize] p_optimal OptimizerBase.SimpleResult(result=1888.9922146300228, method='bisection', errormsg=None, context_dct=None) full_result [ 1.30967237e-09 -2.44379044e-06]\n",
      "[PairOptimizer.optimize] curves_t WETH-6Cc2/USDC-eB48\n",
      "[PairOptimizer.optimize] p_optimal OptimizerBase.SimpleResult(result=1888.992214630025, method='bisection', errormsg=None, context_dct=None) full_result [ 1.19325705e-09 -2.26497650e-06]\n",
      "[PairOptimizer.optimize] curves_t WETH-6Cc2/USDC-eB48\n",
      "[PairOptimizer.optimize] p_optimal OptimizerBase.SimpleResult(result=1888.9922146300191, method='bisection', errormsg=None, context_dct=None) full_result [ 1.48429535e-09 -2.80141830e-06]\n",
      "[PairOptimizer.optimize] curves_t WETH-6Cc2/USDC-eB48\n",
      "[PairOptimizer.optimize] p_optimal OptimizerBase.SimpleResult(result=1888.9922146300532, method='bisection', errormsg=None, context_dct=None) full_result [-1.16415322e-10  2.38418579e-07]\n",
      "[PairOptimizer.optimize] curves_t WETH-6Cc2/USDC-eB48\n",
      "[PairOptimizer.optimize] p_optimal OptimizerBase.SimpleResult(result=1888.9922146300728, method='bisection', errormsg=None, context_dct=None) full_result [-1.04773790e-09  1.96695328e-06]\n",
      "[PairOptimizer.optimize] curves_t WETH-6Cc2/USDC-eB48\n",
      "[PairOptimizer.optimize] p_optimal OptimizerBase.SimpleResult(result=1888.9922146300314, method='bisection', errormsg=None, context_dct=None) full_result [ 9.02218744e-10 -1.66893005e-06]\n",
      "[PairOptimizer.optimize] curves_t WETH-6Cc2/USDC-eB48\n",
      "[PairOptimizer.optimize] p_optimal OptimizerBase.SimpleResult(result=1888.9922146300853, method='bisection', errormsg=None, context_dct=None) full_result [-1.62981451e-09  3.09944153e-06]\n",
      "[PairOptimizer.optimize] curves_t WETH-6Cc2/USDC-eB48\n",
      "[PairOptimizer.optimize] p_optimal OptimizerBase.SimpleResult(result=1888.9922146300532, method='bisection', errormsg=None, context_dct=None) full_result [-1.16415322e-10  2.38418579e-07]\n",
      "[PairOptimizer.optimize] curves_t WETH-6Cc2/USDC-eB48\n",
      "[PairOptimizer.optimize] p_optimal OptimizerBase.SimpleResult(result=1888.9922146300314, method='bisection', errormsg=None, context_dct=None) full_result [ 9.02218744e-10 -1.66893005e-06]\n",
      "[PairOptimizer.optimize] curves_t WETH-6Cc2/USDC-eB48\n",
      "[PairOptimizer.optimize] p_optimal OptimizerBase.SimpleResult(result=1888.9922146300917, method='bisection', errormsg=None, context_dct=None) full_result [-1.92085281e-09  3.63588333e-06]\n",
      "[PairOptimizer.optimize] curves_t WETH-6Cc2/USDC-eB48\n",
      "[PairOptimizer.optimize] p_optimal OptimizerBase.SimpleResult(result=1888.9922146300532, method='bisection', errormsg=None, context_dct=None) full_result [-1.16415322e-10  2.38418579e-07]\n",
      "[PairOptimizer.optimize] curves_t WETH-6Cc2/USDC-eB48\n",
      "[PairOptimizer.optimize] p_optimal OptimizerBase.SimpleResult(result=1888.9922146300405, method='bisection', errormsg=None, context_dct=None) full_result [ 4.65661287e-10 -8.94069672e-07]\n",
      "[PairOptimizer.optimize] curves_t WETH-6Cc2/USDC-eB48\n",
      "[PairOptimizer.optimize] p_optimal OptimizerBase.SimpleResult(result=1888.9922146300532, method='bisection', errormsg=None, context_dct=None) full_result [-1.16415322e-10  2.38418579e-07]\n",
      "[PairOptimizer.optimize] curves_t WETH-6Cc2/USDC-eB48\n",
      "[PairOptimizer.optimize] p_optimal OptimizerBase.SimpleResult(result=1888.9922146300455, method='bisection', errormsg=None, context_dct=None) full_result [ 2.32830644e-10 -4.17232513e-07]\n"
     ]
    },
    {
     "data": {
      "text/plain": "  0%|          | 0/16 [00:00<?, ?it/s]",
      "application/vnd.jupyter.widget-view+json": {
       "version_major": 2,
       "version_minor": 0,
       "model_id": "f416328d8d9f4e7aa4acc86494bb7c57"
      }
     },
     "metadata": {},
     "output_type": "display_data"
    },
    {
     "name": "stdout",
     "output_type": "stream",
     "text": [
      "[PairOptimizer.optimize] curves_t WBTC-C599/WETH-6Cc2\n",
      "[PairOptimizer.optimize] p_optimal OptimizerBase.SimpleResult(result=16.25127735727674, method='bisection', errormsg=None, context_dct=None) full_result [-1.39116310e-08  2.26078555e-07]\n",
      "[PairOptimizer.optimize] curves_t WBTC-C599/WETH-6Cc2\n",
      "[PairOptimizer.optimize] p_optimal OptimizerBase.SimpleResult(result=16.251277357210903, method='bisection', errormsg=None, context_dct=None) full_result [ 9.79060477e-09 -1.62155537e-07]\n",
      "[PairOptimizer.optimize] curves_t WBTC-C599/WETH-6Cc2\n",
      "[PairOptimizer.optimize] p_optimal OptimizerBase.SimpleResult(result=16.25127735723521, method='bisection', errormsg=None, context_dct=None) full_result [ 7.34507921e-09 -1.19383913e-07]\n",
      "[PairOptimizer.optimize] curves_t WBTC-C599/WETH-6Cc2\n",
      "[PairOptimizer.optimize] p_optimal OptimizerBase.SimpleResult(result=16.251277357269036, method='bisection', errormsg=None, context_dct=None) full_result [-9.96806193e-09  1.61991920e-07]\n",
      "[PairOptimizer.optimize] curves_t WBTC-C599/WETH-6Cc2\n",
      "[PairOptimizer.optimize] p_optimal OptimizerBase.SimpleResult(result=16.251277357223323, method='bisection', errormsg=None, context_dct=None) full_result [ 1.34314178e-08 -2.18278728e-07]\n",
      "[PairOptimizer.optimize] curves_t WBTC-C599/WETH-6Cc2\n",
      "[PairOptimizer.optimize] p_optimal OptimizerBase.SimpleResult(result=16.25127735723416, method='bisection', errormsg=None, context_dct=None) full_result [ 7.88713805e-09 -1.28115062e-07]\n",
      "[PairOptimizer.optimize] curves_t WBTC-C599/WETH-6Cc2\n",
      "[PairOptimizer.optimize] p_optimal OptimizerBase.SimpleResult(result=16.25127564709433, method='bisection', errormsg=None, context_dct=None) full_result [-5.10353928e-08  2.70214628e-07]\n",
      "[PairOptimizer.optimize] curves_t WBTC-C599/WETH-6Cc2\n",
      "[PairOptimizer.optimize] p_optimal OptimizerBase.SimpleResult(result=16.25127735725026, method='bisection', errormsg=None, context_dct=None) full_result [-3.56521923e-10  5.76255843e-09]\n",
      "[PairOptimizer.optimize] curves_t WBTC-C599/WETH-6Cc2\n",
      "[PairOptimizer.optimize] p_optimal OptimizerBase.SimpleResult(result=16.262500335184633, method='bisection', errormsg=None, context_dct=None) full_result [ 1.16415322e-09 -1.89756975e-08]\n",
      "[PairOptimizer.optimize] curves_t WBTC-C599/WETH-6Cc2\n",
      "[PairOptimizer.optimize] p_optimal OptimizerBase.SimpleResult(result=16.26250033520447, method='bisection', errormsg=None, context_dct=None) full_result [-3.23444658e-08  5.22832217e-07]\n",
      "[PairOptimizer.optimize] curves_t WBTC-C599/WETH-6Cc2\n",
      "[PairOptimizer.optimize] p_optimal OptimizerBase.SimpleResult(result=16.26250033520776, method='bisection', errormsg=None, context_dct=None) full_result [-2.62516551e-08  4.26894985e-07]\n",
      "[PairOptimizer.optimize] curves_t WBTC-C599/WETH-6Cc2\n",
      "[PairOptimizer.optimize] p_optimal OptimizerBase.SimpleResult(result=16.262500335150982, method='bisection', errormsg=None, context_dct=None) full_result [ 4.10509529e-08 -6.67641871e-07]\n",
      "[PairOptimizer.optimize] curves_t WBTC-C599/WETH-6Cc2\n",
      "[PairOptimizer.optimize] p_optimal OptimizerBase.SimpleResult(result=16.262500335167502, method='bisection', errormsg=None, context_dct=None) full_result [ 2.1464075e-08 -3.4912955e-07]\n",
      "[PairOptimizer.optimize] curves_t WBTC-C599/WETH-6Cc2\n",
      "[PairOptimizer.optimize] p_optimal OptimizerBase.SimpleResult(result=16.262500335153014, method='bisection', errormsg=None, context_dct=None) full_result [ 3.86353349e-08 -6.28409907e-07]\n",
      "[PairOptimizer.optimize] curves_t WBTC-C599/WETH-6Cc2\n",
      "[PairOptimizer.optimize] p_optimal OptimizerBase.SimpleResult(result=16.26249310669297, method='bisection', errormsg=None, context_dct=None) full_result [-3.28784375e-06 -1.07553376e-07]\n",
      "[PairOptimizer.optimize] curves_t WBTC-C599/WETH-6Cc2\n",
      "[PairOptimizer.optimize] p_optimal OptimizerBase.SimpleResult(result=16.262500335210227, method='bisection', errormsg=None, context_dct=None) full_result [-2.91693141e-08  4.74392436e-07]\n"
     ]
    },
    {
     "data": {
      "text/plain": "  0%|          | 0/39 [00:00<?, ?it/s]",
      "application/vnd.jupyter.widget-view+json": {
       "version_major": 2,
       "version_minor": 0,
       "model_id": "5fd76f12175f4c07b8c378afaea84efb"
      }
     },
     "metadata": {},
     "output_type": "display_data"
    },
    {
     "name": "stdout",
     "output_type": "stream",
     "text": [
      "[PairOptimizer.optimize] curves_t WETH-6Cc2/USDT-1ec7\n",
      "[PairOptimizer.optimize] p_optimal OptimizerBase.SimpleResult(result=1890.390259964137, method='bisection', errormsg=None, context_dct=None) full_result [-2.06273398e-09 -2.01165676e-07]\n",
      "[PairOptimizer.optimize] curves_t WETH-6Cc2/USDT-1ec7\n",
      "[PairOptimizer.optimize] p_optimal OptimizerBase.SimpleResult(result=1890.3902598801692, method='bisection', errormsg=None, context_dct=None) full_result [ 8.73114914e-10 -1.66893005e-06]\n",
      "[PairOptimizer.optimize] curves_t WETH-6Cc2/USDT-1ec7\n",
      "[PairOptimizer.optimize] p_optimal OptimizerBase.SimpleResult(result=1890.390259880171, method='bisection', errormsg=None, context_dct=None) full_result [ 6.98491931e-10 -1.31130219e-06]\n",
      "[PairOptimizer.optimize] curves_t WETH-6Cc2/USDT-1ec7\n",
      "[PairOptimizer.optimize] p_optimal OptimizerBase.SimpleResult(result=1890.390259880202, method='bisection', errormsg=None, context_dct=None) full_result [-1.80443749e-09  3.33786011e-06]\n",
      "[PairOptimizer.optimize] curves_t WETH-6Cc2/USDT-1ec7\n",
      "[PairOptimizer.optimize] p_optimal 1890.3902598801792 full_result [0. 0.]\n",
      "[FindArbitrageSinglePairwise] Exception:  'numpy.float64' object has no attribute 'is_error'\n",
      "[PairOptimizer.optimize] curves_t WETH-6Cc2/USDT-1ec7\n",
      "[PairOptimizer.optimize] p_optimal OptimizerBase.SimpleResult(result=1890.3902598801692, method='bisection', errormsg=None, context_dct=None) full_result [ 8.73114914e-10 -1.66893005e-06]\n",
      "[PairOptimizer.optimize] curves_t WETH-6Cc2/USDT-1ec7\n",
      "[PairOptimizer.optimize] p_optimal OptimizerBase.SimpleResult(result=1890.3902598801506, method='bisection', errormsg=None, context_dct=None) full_result [ 2.32830644e-09 -4.41074371e-06]\n",
      "[PairOptimizer.optimize] curves_t WETH-6Cc2/USDT-1ec7\n",
      "[PairOptimizer.optimize] p_optimal OptimizerBase.SimpleResult(result=1890.390270015705, method='bisection', errormsg=None, context_dct=None) full_result [-1.99181471e-09 -2.81728330e-02]\n",
      "[PairOptimizer.optimize] curves_t WETH-6Cc2/USDT-1ec7\n",
      "[PairOptimizer.optimize] p_optimal OptimizerBase.SimpleResult(result=1890.3902598801637, method='bisection', errormsg=None, context_dct=None) full_result [ 1.28056854e-09 -2.50339508e-06]\n",
      "[PairOptimizer.optimize] curves_t WETH-6Cc2/USDT-1ec7\n",
      "[PairOptimizer.optimize] p_optimal OptimizerBase.SimpleResult(result=1890.390259880181, method='bisection', errormsg=None, context_dct=None) full_result [-1.16415322e-10  1.19209290e-07]\n",
      "[PairOptimizer.optimize] curves_t WETH-6Cc2/USDT-1ec7\n",
      "[PairOptimizer.optimize] p_optimal OptimizerBase.SimpleResult(result=1890.3902598801799, method='bisection', errormsg=None, context_dct=None) full_result [-5.82076609e-11  0.00000000e+00]\n",
      "[PairOptimizer.optimize] curves_t WETH-6Cc2/USDT-1ec7\n",
      "[PairOptimizer.optimize] p_optimal OptimizerBase.SimpleResult(result=1890.3902598801478, method='bisection', errormsg=None, context_dct=None) full_result [ 2.56113708e-09 -4.76837158e-06]\n",
      "[PairOptimizer.optimize] curves_t WETH-6Cc2/USDT-1ec7\n",
      "[PairOptimizer.optimize] p_optimal OptimizerBase.SimpleResult(result=1890.390259880165, method='bisection', errormsg=None, context_dct=None) full_result [ 1.16415322e-09 -2.14576721e-06]\n",
      "[PairOptimizer.optimize] curves_t WETH-6Cc2/USDT-1ec7\n",
      "[PairOptimizer.optimize] p_optimal OptimizerBase.SimpleResult(result=1889.1458891677153, method='bisection', errormsg=None, context_dct=None) full_result [ 8.18545232e-10 -1.40294433e-05]\n",
      "[PairOptimizer.optimize] curves_t WETH-6Cc2/USDT-1ec7\n",
      "[PairOptimizer.optimize] p_optimal OptimizerBase.SimpleResult(result=1889.145888875987, method='bisection', errormsg=None, context_dct=None) full_result [-6.11180440e-10  1.16229057e-06]\n",
      "[PairOptimizer.optimize] curves_t WETH-6Cc2/USDT-1ec7\n",
      "[PairOptimizer.optimize] p_optimal 1889.1458888759603 full_result [0. 0.]\n",
      "[FindArbitrageSinglePairwise] Exception:  'numpy.float64' object has no attribute 'is_error'\n",
      "[PairOptimizer.optimize] curves_t WETH-6Cc2/USDT-1ec7\n",
      "[PairOptimizer.optimize] p_optimal OptimizerBase.SimpleResult(result=1889.1458888759319, method='bisection', errormsg=None, context_dct=None) full_result [ 6.69388101e-10 -1.25169754e-06]\n",
      "[PairOptimizer.optimize] curves_t WETH-6Cc2/USDT-1ec7\n",
      "[PairOptimizer.optimize] p_optimal OptimizerBase.SimpleResult(result=1889.1458888759628, method='bisection', errormsg=None, context_dct=None) full_result [-5.82076609e-11  1.19209290e-07]\n",
      "[PairOptimizer.optimize] curves_t WETH-6Cc2/USDT-1ec7\n",
      "[PairOptimizer.optimize] p_optimal OptimizerBase.SimpleResult(result=1889.145888875937, method='bisection', errormsg=None, context_dct=None) full_result [ 5.38420863e-10 -1.01327896e-06]\n",
      "[PairOptimizer.optimize] curves_t WETH-6Cc2/USDT-1ec7\n",
      "[PairOptimizer.optimize] p_optimal OptimizerBase.SimpleResult(result=1889.1458888759466, method='bisection', errormsg=None, context_dct=None) full_result [ 3.20142135e-10 -6.25848770e-07]\n",
      "[PairOptimizer.optimize] curves_t WETH-6Cc2/USDT-1ec7\n",
      "[PairOptimizer.optimize] p_optimal OptimizerBase.SimpleResult(result=1889.145924112454, method='bisection', errormsg=None, context_dct=None) full_result [-5.07519360e-10 -2.91877212e-02]\n",
      "[PairOptimizer.optimize] curves_t WETH-6Cc2/USDT-1ec7\n",
      "[PairOptimizer.optimize] p_optimal OptimizerBase.SimpleResult(result=1889.145888875984, method='bisection', errormsg=None, context_dct=None) full_result [-5.52972779e-10  1.04308128e-06]\n",
      "[PairOptimizer.optimize] curves_t WETH-6Cc2/USDT-1ec7\n",
      "[PairOptimizer.optimize] p_optimal OptimizerBase.SimpleResult(result=1889.1458888759767, method='bisection', errormsg=None, context_dct=None) full_result [-3.78349796e-10  7.15255737e-07]\n",
      "[PairOptimizer.optimize] curves_t WETH-6Cc2/USDT-1ec7\n",
      "[PairOptimizer.optimize] p_optimal OptimizerBase.SimpleResult(result=1889.1458888759503, method='bisection', errormsg=None, context_dct=None) full_result [ 2.32830644e-10 -4.47034836e-07]\n",
      "[PairOptimizer.optimize] curves_t WETH-6Cc2/USDT-1ec7\n",
      "[PairOptimizer.optimize] p_optimal OptimizerBase.SimpleResult(result=1889.1458888759323, method='bisection', errormsg=None, context_dct=None) full_result [ 6.54836185e-10 -1.22189522e-06]\n",
      "[PairOptimizer.optimize] curves_t WETH-6Cc2/USDT-1ec7\n",
      "[PairOptimizer.optimize] p_optimal OptimizerBase.SimpleResult(result=1889.1458888759523, method='bisection', errormsg=None, context_dct=None) full_result [ 1.74622983e-10 -3.27825546e-07]\n",
      "[PairOptimizer.optimize] curves_t WETH-6Cc2/USDT-1ec7\n",
      "[PairOptimizer.optimize] p_optimal OptimizerBase.SimpleResult(result=1881.7106092872837, method='bisection', errormsg=None, context_dct=None) full_result [-3.63797881e-11 -6.24954700e-05]\n",
      "[PairOptimizer.optimize] curves_t WETH-6Cc2/USDT-1ec7\n",
      "[PairOptimizer.optimize] p_optimal OptimizerBase.SimpleResult(result=1881.7106081912802, method='bisection', errormsg=None, context_dct=None) full_result [-1.85536919e-10  3.50177288e-07]\n",
      "[PairOptimizer.optimize] curves_t WETH-6Cc2/USDT-1ec7\n",
      "[PairOptimizer.optimize] p_optimal OptimizerBase.SimpleResult(result=1881.7106081912625, method='bisection', errormsg=None, context_dct=None) full_result [-7.63975549e-11  1.41561031e-07]\n",
      "[PairOptimizer.optimize] curves_t WETH-6Cc2/USDT-1ec7\n",
      "[PairOptimizer.optimize] p_optimal OptimizerBase.SimpleResult(result=1881.7106081912243, method='bisection', errormsg=None, context_dct=None) full_result [ 1.60071068e-10 -3.05473804e-07]\n",
      "[PairOptimizer.optimize] curves_t WETH-6Cc2/USDT-1ec7\n",
      "[PairOptimizer.optimize] p_optimal OptimizerBase.SimpleResult(result=1881.7106081912748, method='bisection', errormsg=None, context_dct=None) full_result [-1.52795110e-10  2.83122063e-07]\n",
      "[PairOptimizer.optimize] curves_t WETH-6Cc2/USDT-1ec7\n",
      "[PairOptimizer.optimize] p_optimal OptimizerBase.SimpleResult(result=1881.7106081912675, method='bisection', errormsg=None, context_dct=None) full_result [-1.05501385e-10  1.93715096e-07]\n",
      "[PairOptimizer.optimize] curves_t WETH-6Cc2/USDT-1ec7\n",
      "[PairOptimizer.optimize] p_optimal OptimizerBase.SimpleResult(result=1881.7106081912423, method='bisection', errormsg=None, context_dct=None) full_result [ 5.09317033e-11 -9.68575478e-08]\n",
      "[PairOptimizer.optimize] curves_t WETH-6Cc2/USDT-1ec7\n",
      "[PairOptimizer.optimize] p_optimal OptimizerBase.SimpleResult(result=1881.7107405470742, method='bisection', errormsg=None, context_dct=None) full_result [ 3.09015036e-11 -3.52364527e-02]\n",
      "[PairOptimizer.optimize] curves_t WETH-6Cc2/USDT-1ec7\n",
      "[PairOptimizer.optimize] p_optimal OptimizerBase.SimpleResult(result=1881.71060819127, method='bisection', errormsg=None, context_dct=None) full_result [-1.20053301e-10  2.23517418e-07]\n",
      "[PairOptimizer.optimize] curves_t WETH-6Cc2/USDT-1ec7\n",
      "[PairOptimizer.optimize] p_optimal OptimizerBase.SimpleResult(result=1881.7106081912555, method='bisection', errormsg=None, context_dct=None) full_result [-2.91038305e-11  5.21540642e-08]\n",
      "[PairOptimizer.optimize] curves_t WETH-6Cc2/USDT-1ec7\n",
      "[PairOptimizer.optimize] p_optimal OptimizerBase.SimpleResult(result=1881.710608191252, method='bisection', errormsg=None, context_dct=None) full_result [-1.09139364e-11  2.23517418e-08]\n",
      "[PairOptimizer.optimize] curves_t WETH-6Cc2/USDT-1ec7\n",
      "[PairOptimizer.optimize] p_optimal OptimizerBase.SimpleResult(result=1881.7106081912298, method='bisection', errormsg=None, context_dct=None) full_result [ 1.23691279e-10 -2.38418579e-07]\n",
      "[PairOptimizer.optimize] curves_t WETH-6Cc2/USDT-1ec7\n",
      "[PairOptimizer.optimize] p_optimal OptimizerBase.SimpleResult(result=1881.7106081912725, method='bisection', errormsg=None, context_dct=None) full_result [-1.34605216e-10  2.53319740e-07]\n"
     ]
    },
    {
     "data": {
      "text/plain": "  0%|          | 0/6 [00:00<?, ?it/s]",
      "application/vnd.jupyter.widget-view+json": {
       "version_major": 2,
       "version_minor": 0,
       "model_id": "e0d971228ab84a63895414cc650c9f2d"
      }
     },
     "metadata": {},
     "output_type": "display_data"
    },
    {
     "name": "stdout",
     "output_type": "stream",
     "text": [
      "[PairOptimizer.optimize] curves_t SNX-2a6F/WETH-6Cc2\n",
      "[PairOptimizer.optimize] p_optimal OptimizerBase.SimpleResult(result=0.0010930027501734703, method='bisection', errormsg=None, context_dct=None) full_result [ 8.45163665e-03 -9.23766231e-06]\n",
      "[PairOptimizer.optimize] curves_t SNX-2a6F/WETH-6Cc2\n",
      "[PairOptimizer.optimize] p_optimal OptimizerBase.SimpleResult(result=0.00109300277135908, method='bisection', errormsg=None, context_dct=None) full_result [ 1.19889504e-04 -1.31039656e-07]\n",
      "[PairOptimizer.optimize] curves_t SNX-2a6F/WETH-6Cc2\n",
      "[PairOptimizer.optimize] p_optimal OptimizerBase.SimpleResult(result=0.0010827174934704142, method='bisection', errormsg=None, context_dct=None) full_result [-1.71903921e-05  1.86123383e-08]\n",
      "[PairOptimizer.optimize] curves_t SNX-2a6F/WETH-6Cc2\n",
      "[PairOptimizer.optimize] p_optimal OptimizerBase.SimpleResult(result=0.0010827174789443481, method='bisection', errormsg=None, context_dct=None) full_result [ 2.19765025e-05 -2.37943425e-08]\n",
      "[PairOptimizer.optimize] curves_t SNX-2a6F/WETH-6Cc2\n",
      "[PairOptimizer.optimize] p_optimal OptimizerBase.SimpleResult(result=0.0010940339542683335, method='bisection', errormsg=None, context_dct=None) full_result [ 6.85955281e-04 -7.50458398e-07]\n",
      "[PairOptimizer.optimize] curves_t SNX-2a6F/WETH-6Cc2\n",
      "[PairOptimizer.optimize] p_optimal OptimizerBase.SimpleResult(result=0.0010940339757887759, method='bisection', errormsg=None, context_dct=None) full_result [-2.76098726e-04  3.02061380e-07]\n"
     ]
    },
    {
     "data": {
      "text/plain": "0it [00:00, ?it/s]",
      "application/vnd.jupyter.widget-view+json": {
       "version_major": 2,
       "version_minor": 0,
       "model_id": "291ab9c04bbe4bb1bf18fca719b5141e"
      }
     },
     "metadata": {},
     "output_type": "display_data"
    },
    {
     "data": {
      "text/plain": "0it [00:00, ?it/s]",
      "application/vnd.jupyter.widget-view+json": {
       "version_major": 2,
       "version_minor": 0,
       "model_id": "993fe6c075934d0da14e3fe57f5407a0"
      }
     },
     "metadata": {},
     "output_type": "display_data"
    },
    {
     "data": {
      "text/plain": "0it [00:00, ?it/s]",
      "application/vnd.jupyter.widget-view+json": {
       "version_major": 2,
       "version_minor": 0,
       "model_id": "a9e9c7ddc5b3439b8e76786095ecf5c4"
      }
     },
     "metadata": {},
     "output_type": "display_data"
    },
    {
     "data": {
      "text/plain": "0it [00:00, ?it/s]",
      "application/vnd.jupyter.widget-view+json": {
       "version_major": 2,
       "version_minor": 0,
       "model_id": "02432652b2b447f393dab507b6deb202"
      }
     },
     "metadata": {},
     "output_type": "display_data"
    },
    {
     "data": {
      "text/plain": "0it [00:00, ?it/s]",
      "application/vnd.jupyter.widget-view+json": {
       "version_major": 2,
       "version_minor": 0,
       "model_id": "931a657f963d48b9b5105b0b6606ae1b"
      }
     },
     "metadata": {},
     "output_type": "display_data"
    },
    {
     "data": {
      "text/plain": "0it [00:00, ?it/s]",
      "application/vnd.jupyter.widget-view+json": {
       "version_major": 2,
       "version_minor": 0,
       "model_id": "66b7b1d5f0c34682971ecb69e95777c5"
      }
     },
     "metadata": {},
     "output_type": "display_data"
    },
    {
     "data": {
      "text/plain": "0it [00:00, ?it/s]",
      "application/vnd.jupyter.widget-view+json": {
       "version_major": 2,
       "version_minor": 0,
       "model_id": "d1bf203a399249c1b322e383c8de207c"
      }
     },
     "metadata": {},
     "output_type": "display_data"
    },
    {
     "data": {
      "text/plain": "  0%|          | 0/4 [00:00<?, ?it/s]",
      "application/vnd.jupyter.widget-view+json": {
       "version_major": 2,
       "version_minor": 0,
       "model_id": "6aff5fe16f73499e98ef60e5ea808149"
      }
     },
     "metadata": {},
     "output_type": "display_data"
    },
    {
     "name": "stdout",
     "output_type": "stream",
     "text": [
      "[PairOptimizer.optimize] curves_t agEUR-Bce8/USDC-eB48\n",
      "[PairOptimizer.optimize] p_optimal OptimizerBase.SimpleResult(result=1.1012586819982886, method='bisection', errormsg=None, context_dct=None) full_result [-0.00028294  0.00031158]\n",
      "[PairOptimizer.optimize] curves_t agEUR-Bce8/USDC-eB48\n",
      "[PairOptimizer.optimize] p_optimal OptimizerBase.SimpleResult(result=1.1012068414056138, method='bisection', errormsg=None, context_dct=None) full_result [ 1.56512065e-03 -1.18761945e+01]\n",
      "[PairOptimizer.optimize] curves_t agEUR-Bce8/USDC-eB48\n",
      "[PairOptimizer.optimize] p_optimal OptimizerBase.SimpleResult(result=1.0977629060087901, method='bisection', errormsg=None, context_dct=None) full_result [ 2.36049527e-06 -2.59128865e-06]\n",
      "[PairOptimizer.optimize] curves_t agEUR-Bce8/USDC-eB48\n",
      "[PairOptimizer.optimize] p_optimal OptimizerBase.SimpleResult(result=1.095424874858844, method='bisection', errormsg=None, context_dct=None) full_result [-1.56286405e-05 -2.33128487e-01]\n"
     ]
    },
    {
     "data": {
      "text/plain": "0it [00:00, ?it/s]",
      "application/vnd.jupyter.widget-view+json": {
       "version_major": 2,
       "version_minor": 0,
       "model_id": "aebe2fc5d31f4ab4b3959d05122e2c5c"
      }
     },
     "metadata": {},
     "output_type": "display_data"
    },
    {
     "data": {
      "text/plain": "0it [00:00, ?it/s]",
      "application/vnd.jupyter.widget-view+json": {
       "version_major": 2,
       "version_minor": 0,
       "model_id": "414902326dca401bb360427136f1f222"
      }
     },
     "metadata": {},
     "output_type": "display_data"
    },
    {
     "data": {
      "text/plain": "0it [00:00, ?it/s]",
      "application/vnd.jupyter.widget-view+json": {
       "version_major": 2,
       "version_minor": 0,
       "model_id": "11f3e68c00f3449c941bc463dedc9e95"
      }
     },
     "metadata": {},
     "output_type": "display_data"
    },
    {
     "data": {
      "text/plain": "0it [00:00, ?it/s]",
      "application/vnd.jupyter.widget-view+json": {
       "version_major": 2,
       "version_minor": 0,
       "model_id": "bb13577ed27f41fc8e52059330b464bf"
      }
     },
     "metadata": {},
     "output_type": "display_data"
    },
    {
     "data": {
      "text/plain": "0it [00:00, ?it/s]",
      "application/vnd.jupyter.widget-view+json": {
       "version_major": 2,
       "version_minor": 0,
       "model_id": "2c119ef3cde747bfa172a2162de6e001"
      }
     },
     "metadata": {},
     "output_type": "display_data"
    },
    {
     "data": {
      "text/plain": "  0%|          | 0/4 [00:00<?, ?it/s]",
      "application/vnd.jupyter.widget-view+json": {
       "version_major": 2,
       "version_minor": 0,
       "model_id": "2f3c3e1a59824f488b6723e87e0bc53e"
      }
     },
     "metadata": {},
     "output_type": "display_data"
    },
    {
     "name": "stdout",
     "output_type": "stream",
     "text": [
      "[PairOptimizer.optimize] curves_t DAI-1d0F/USDC-eB48\n",
      "[PairOptimizer.optimize] p_optimal OptimizerBase.SimpleResult(result=1.0003813756215658, method='bisection', errormsg=None, context_dct=None) full_result [ 0.27017212 -0.27027893]\n",
      "[PairOptimizer.optimize] curves_t DAI-1d0F/USDC-eB48\n",
      "[PairOptimizer.optimize] p_optimal OptimizerBase.SimpleResult(result=1.0003813756365758, method='bisection', errormsg=None, context_dct=None) full_result [-0.19481659  0.19488525]\n",
      "[PairOptimizer.optimize] curves_t DAI-1d0F/USDC-eB48\n",
      "[PairOptimizer.optimize] p_optimal OptimizerBase.SimpleResult(result=0.9999799635362349, method='bisection', errormsg=None, context_dct=None) full_result [ 10.07507324 -10.0748291 ]\n",
      "[PairOptimizer.optimize] curves_t DAI-1d0F/USDC-eB48\n",
      "[PairOptimizer.optimize] p_optimal OptimizerBase.SimpleResult(result=0.9999799635754507, method='bisection', errormsg=None, context_dct=None) full_result [-0.39575195  0.39581299]\n"
     ]
    },
    {
     "data": {
      "text/plain": "  0%|          | 0/4 [00:00<?, ?it/s]",
      "application/vnd.jupyter.widget-view+json": {
       "version_major": 2,
       "version_minor": 0,
       "model_id": "8964edba3bb24860bcb131c4f660914f"
      }
     },
     "metadata": {},
     "output_type": "display_data"
    },
    {
     "name": "stdout",
     "output_type": "stream",
     "text": [
      "[PairOptimizer.optimize] curves_t DAI-1d0F/USDT-1ec7\n",
      "[PairOptimizer.optimize] p_optimal OptimizerBase.SimpleResult(result=0.9998810288149655, method='bisection', errormsg=None, context_dct=None) full_result [ 0.03739882 -0.03739452]\n",
      "[PairOptimizer.optimize] curves_t DAI-1d0F/USDT-1ec7\n",
      "[PairOptimizer.optimize] p_optimal OptimizerBase.SimpleResult(result=0.9998810288451494, method='bisection', errormsg=None, context_dct=None) full_result [-0.01955795  0.01955557]\n",
      "[PairOptimizer.optimize] curves_t DAI-1d0F/USDT-1ec7\n",
      "[PairOptimizer.optimize] p_optimal OptimizerBase.SimpleResult(result=1.0000277727814577, method='bisection', errormsg=None, context_dct=None) full_result [ 0.00187576 -0.00187576]\n",
      "[PairOptimizer.optimize] curves_t DAI-1d0F/USDT-1ec7\n",
      "[PairOptimizer.optimize] p_optimal OptimizerBase.SimpleResult(result=1.000027772749948, method='bisection', errormsg=None, context_dct=None) full_result [ 0.00692052 -0.0069207 ]\n"
     ]
    },
    {
     "data": {
      "text/plain": "  0%|          | 0/18 [00:00<?, ?it/s]",
      "application/vnd.jupyter.widget-view+json": {
       "version_major": 2,
       "version_minor": 0,
       "model_id": "2380b4931869459aae69706343113f50"
      }
     },
     "metadata": {},
     "output_type": "display_data"
    },
    {
     "name": "stdout",
     "output_type": "stream",
     "text": [
      "[PairOptimizer.optimize] curves_t WETH-6Cc2/DAI-1d0F\n",
      "[PairOptimizer.optimize] p_optimal OptimizerBase.SimpleResult(result=1889.8516355281042, method='bisection', errormsg=None, context_dct=None) full_result [-2.25554686e-10  4.32133675e-07]\n",
      "[PairOptimizer.optimize] curves_t WETH-6Cc2/DAI-1d0F\n",
      "[PairOptimizer.optimize] p_optimal OptimizerBase.SimpleResult(result=1889.8516355281013, method='bisection', errormsg=None, context_dct=None) full_result [-1.89174898e-10  3.57627869e-07]\n",
      "[PairOptimizer.optimize] curves_t WETH-6Cc2/DAI-1d0F\n",
      "[PairOptimizer.optimize] p_optimal OptimizerBase.SimpleResult(result=1889.8516355280663, method='bisection', errormsg=None, context_dct=None) full_result [ 1.74622983e-10 -3.27825546e-07]\n",
      "[PairOptimizer.optimize] curves_t WETH-6Cc2/DAI-1d0F\n",
      "[PairOptimizer.optimize] p_optimal OptimizerBase.SimpleResult(result=1889.851635528079, method='bisection', errormsg=None, context_dct=None) full_result [ 3.63797881e-11 -7.45058060e-08]\n",
      "[PairOptimizer.optimize] curves_t WETH-6Cc2/DAI-1d0F\n",
      "[PairOptimizer.optimize] p_optimal OptimizerBase.SimpleResult(result=1889.8516355281054, method='bisection', errormsg=None, context_dct=None) full_result [-2.40106602e-10  4.47034836e-07]\n",
      "[PairOptimizer.optimize] curves_t WETH-6Cc2/DAI-1d0F\n",
      "[PairOptimizer.optimize] p_optimal OptimizerBase.SimpleResult(result=1889.8516355281217, method='bisection', errormsg=None, context_dct=None) full_result [-4.07453626e-10  7.59959221e-07]\n",
      "[PairOptimizer.optimize] curves_t WETH-6Cc2/DAI-1d0F\n",
      "[PairOptimizer.optimize] p_optimal OptimizerBase.SimpleResult(result=1889.8516355280967, method='bisection', errormsg=None, context_dct=None) full_result [-1.38243195e-10  2.68220901e-07]\n",
      "[PairOptimizer.optimize] curves_t WETH-6Cc2/DAI-1d0F\n",
      "[PairOptimizer.optimize] p_optimal OptimizerBase.SimpleResult(result=1889.8516355280508, method='bisection', errormsg=None, context_dct=None) full_result [ 3.34694050e-10 -6.40749931e-07]\n",
      "[PairOptimizer.optimize] curves_t WETH-6Cc2/DAI-1d0F\n",
      "[PairOptimizer.optimize] p_optimal OptimizerBase.SimpleResult(result=1889.8516355280644, method='bisection', errormsg=None, context_dct=None) full_result [ 1.89174898e-10 -3.57627869e-07]\n",
      "[PairOptimizer.optimize] curves_t WETH-6Cc2/DAI-1d0F\n",
      "[PairOptimizer.optimize] p_optimal OptimizerBase.SimpleResult(result=1889.2342508777633, method='bisection', errormsg=None, context_dct=None) full_result [ 1.85536919e-10 -3.50177288e-07]\n",
      "[PairOptimizer.optimize] curves_t WETH-6Cc2/DAI-1d0F\n",
      "[PairOptimizer.optimize] p_optimal OptimizerBase.SimpleResult(result=1889.2342508777883, method='bisection', errormsg=None, context_dct=None) full_result [-2.54658516e-11  5.21540642e-08]\n",
      "[PairOptimizer.optimize] curves_t WETH-6Cc2/DAI-1d0F\n",
      "[PairOptimizer.optimize] p_optimal OptimizerBase.SimpleResult(result=1889.2342508777967, method='bisection', errormsg=None, context_dct=None) full_result [-1.01863407e-10  1.93715096e-07]\n",
      "[PairOptimizer.optimize] curves_t WETH-6Cc2/DAI-1d0F\n",
      "[PairOptimizer.optimize] p_optimal OptimizerBase.SimpleResult(result=1889.23425087778, method='bisection', errormsg=None, context_dct=None) full_result [ 4.36557457e-11 -7.45058060e-08]\n",
      "[PairOptimizer.optimize] curves_t WETH-6Cc2/DAI-1d0F\n",
      "[PairOptimizer.optimize] p_optimal OptimizerBase.SimpleResult(result=1889.2342508777592, method='bisection', errormsg=None, context_dct=None) full_result [ 2.25554685e-10 -4.24683094e-07]\n",
      "[PairOptimizer.optimize] curves_t WETH-6Cc2/DAI-1d0F\n",
      "[PairOptimizer.optimize] p_optimal OptimizerBase.SimpleResult(result=1889.2342508778206, method='bisection', errormsg=None, context_dct=None) full_result [-3.09228199e-10  5.81145287e-07]\n",
      "[PairOptimizer.optimize] curves_t WETH-6Cc2/DAI-1d0F\n",
      "[PairOptimizer.optimize] p_optimal OptimizerBase.SimpleResult(result=1889.2342508777615, method='bisection', errormsg=None, context_dct=None) full_result [ 2.03726813e-10 -3.87430191e-07]\n",
      "[PairOptimizer.optimize] curves_t WETH-6Cc2/DAI-1d0F\n",
      "[PairOptimizer.optimize] p_optimal OptimizerBase.SimpleResult(result=1889.234250877789, method='bisection', errormsg=None, context_dct=None) full_result [-3.63797881e-11  7.45058060e-08]\n",
      "[PairOptimizer.optimize] curves_t WETH-6Cc2/DAI-1d0F\n",
      "[PairOptimizer.optimize] p_optimal OptimizerBase.SimpleResult(result=1889.2342508777924, method='bisection', errormsg=None, context_dct=None) full_result [-6.54836185e-11  1.26659870e-07]\n"
     ]
    },
    {
     "data": {
      "text/plain": "  0%|          | 0/2 [00:00<?, ?it/s]",
      "application/vnd.jupyter.widget-view+json": {
       "version_major": 2,
       "version_minor": 0,
       "model_id": "465c73dd93774343a2a847c576ca15c1"
      }
     },
     "metadata": {},
     "output_type": "display_data"
    },
    {
     "name": "stdout",
     "output_type": "stream",
     "text": [
      "[PairOptimizer.optimize] curves_t LINK-86CA/USDT-1ec7\n",
      "[PairOptimizer.optimize] p_optimal OptimizerBase.SimpleResult(result=6.198117111446582, method='bisection', errormsg=None, context_dct=None) full_result [-8.02097011e-09 -8.85214240e-03]\n",
      "[PairOptimizer.optimize] curves_t LINK-86CA/USDT-1ec7\n",
      "[PairOptimizer.optimize] p_optimal OptimizerBase.SimpleResult(result=6.198055572641563, method='bisection', errormsg=None, context_dct=None) full_result [ 7.24139682e-09 -4.48817445e-08]\n"
     ]
    },
    {
     "data": {
      "text/plain": "  0%|          | 0/2 [00:00<?, ?it/s]",
      "application/vnd.jupyter.widget-view+json": {
       "version_major": 2,
       "version_minor": 0,
       "model_id": "59eec69543db4a9b85893b55995a6527"
      }
     },
     "metadata": {},
     "output_type": "display_data"
    },
    {
     "name": "stdout",
     "output_type": "stream",
     "text": [
      "[PairOptimizer.optimize] curves_t LINK-86CA/WETH-6Cc2\n",
      "[PairOptimizer.optimize] p_optimal OptimizerBase.SimpleResult(result=0.0033128000531845283, method='bisection', errormsg=None, context_dct=None) full_result [-0.16782973  0.00055599]\n",
      "[PairOptimizer.optimize] curves_t LINK-86CA/WETH-6Cc2\n",
      "[PairOptimizer.optimize] p_optimal OptimizerBase.SimpleResult(result=0.0033127999719611487, method='bisection', errormsg=None, context_dct=None) full_result [-0.13771125  0.00042809]\n"
     ]
    },
    {
     "data": {
      "text/plain": "0it [00:00, ?it/s]",
      "application/vnd.jupyter.widget-view+json": {
       "version_major": 2,
       "version_minor": 0,
       "model_id": "200ccd64acca4eb1ae7d0cebfa12adc1"
      }
     },
     "metadata": {},
     "output_type": "display_data"
    },
    {
     "data": {
      "text/plain": "0it [00:00, ?it/s]",
      "application/vnd.jupyter.widget-view+json": {
       "version_major": 2,
       "version_minor": 0,
       "model_id": "462e49f3b92a4a338a329a382c378a89"
      }
     },
     "metadata": {},
     "output_type": "display_data"
    },
    {
     "data": {
      "text/plain": "  0%|          | 0/2 [00:00<?, ?it/s]",
      "application/vnd.jupyter.widget-view+json": {
       "version_major": 2,
       "version_minor": 0,
       "model_id": "9464480e651d4742b175a436ef491918"
      }
     },
     "metadata": {},
     "output_type": "display_data"
    },
    {
     "name": "stdout",
     "output_type": "stream",
     "text": [
      "[PairOptimizer.optimize] curves_t LYXe-be6D/WETH-6Cc2\n",
      "[PairOptimizer.optimize] p_optimal OptimizerBase.SimpleResult(result=0.00442545533353754, method='bisection', errormsg=None, context_dct=None) full_result [ 4.28492494e-05 -1.89627372e-07]\n",
      "[PairOptimizer.optimize] curves_t LYXe-be6D/WETH-6Cc2\n",
      "[PairOptimizer.optimize] p_optimal OptimizerBase.SimpleResult(result=0.004418792370941116, method='bisection', errormsg=None, context_dct=None) full_result [ 2.68626009e-05 -1.18700250e-07]\n"
     ]
    },
    {
     "data": {
      "text/plain": "0it [00:00, ?it/s]",
      "application/vnd.jupyter.widget-view+json": {
       "version_major": 2,
       "version_minor": 0,
       "model_id": "b76cec46706f4e3ea8c902cb09f9f500"
      }
     },
     "metadata": {},
     "output_type": "display_data"
    },
    {
     "data": {
      "text/plain": "  0%|          | 0/3 [00:00<?, ?it/s]",
      "application/vnd.jupyter.widget-view+json": {
       "version_major": 2,
       "version_minor": 0,
       "model_id": "8e1dec7765d24f01aa5dd2898f093bb6"
      }
     },
     "metadata": {},
     "output_type": "display_data"
    },
    {
     "name": "stdout",
     "output_type": "stream",
     "text": [
      "[PairOptimizer.optimize] curves_t PEPE-1933/USDC-eB48\n",
      "[PairOptimizer.optimize] p_optimal OptimizerBase.SimpleResult(result=1.5362764284360806e-06, method='bisection', errormsg=None, context_dct=None) full_result [ 3.31085297e+05 -5.15307869e-01]\n",
      "[PairOptimizer.optimize] curves_t PEPE-1933/USDC-eB48\n",
      "[PairOptimizer.optimize] p_optimal OptimizerBase.SimpleResult(result=1.5360413484964488e-06, method='bisection', errormsg=None, context_dct=None) full_result [ 1.24107905e+06 -1.90637755e+00]\n",
      "[PairOptimizer.optimize] curves_t PEPE-1933/USDC-eB48\n",
      "[PairOptimizer.optimize] p_optimal OptimizerBase.SimpleResult(result=1.5361018372863056e-06, method='bisection', errormsg=None, context_dct=None) full_result [-3.75824662e+05  5.77302312e-01]\n"
     ]
    },
    {
     "data": {
      "text/plain": "  0%|          | 0/4 [00:00<?, ?it/s]",
      "application/vnd.jupyter.widget-view+json": {
       "version_major": 2,
       "version_minor": 0,
       "model_id": "172ce0010ce7456a8a255dbceb006613"
      }
     },
     "metadata": {},
     "output_type": "display_data"
    },
    {
     "name": "stdout",
     "output_type": "stream",
     "text": [
      "[PairOptimizer.optimize] curves_t PEPE-1933/WETH-6Cc2\n",
      "[PairOptimizer.optimize] p_optimal OptimizerBase.SimpleResult(result=8.559826188530744e-10, method='bisection', errormsg=None, context_dct=None) full_result [-1.21937536e+10  9.94175394e+00]\n",
      "[PairOptimizer.optimize] curves_t PEPE-1933/WETH-6Cc2\n",
      "[PairOptimizer.optimize] p_optimal OptimizerBase.SimpleResult(result=8.344559342857861e-10, method='bisection', errormsg=None, context_dct=None) full_result [-1.21937536e+10  9.94175394e+00]\n",
      "[PairOptimizer.optimize] curves_t PEPE-1933/WETH-6Cc2\n",
      "[PairOptimizer.optimize] p_optimal OptimizerBase.SimpleResult(result=8.518911123836612e-10, method='bisection', errormsg=None, context_dct=None) full_result [-2.67154608e+09  2.18132892e+00]\n",
      "[PairOptimizer.optimize] curves_t PEPE-1933/WETH-6Cc2\n",
      "[PairOptimizer.optimize] p_optimal OptimizerBase.SimpleResult(result=8.303641780601484e-10, method='bisection', errormsg=None, context_dct=None) full_result [-2.67154608e+09  2.18132892e+00]\n"
     ]
    },
    {
     "data": {
      "text/plain": "0it [00:00, ?it/s]",
      "application/vnd.jupyter.widget-view+json": {
       "version_major": 2,
       "version_minor": 0,
       "model_id": "21cb1b23085f443e8be38ba88f40d110"
      }
     },
     "metadata": {},
     "output_type": "display_data"
    },
    {
     "data": {
      "text/plain": "0it [00:00, ?it/s]",
      "application/vnd.jupyter.widget-view+json": {
       "version_major": 2,
       "version_minor": 0,
       "model_id": "0a8663c301374813bf2f35728ca238b1"
      }
     },
     "metadata": {},
     "output_type": "display_data"
    },
    {
     "data": {
      "text/plain": "0it [00:00, ?it/s]",
      "application/vnd.jupyter.widget-view+json": {
       "version_major": 2,
       "version_minor": 0,
       "model_id": "30ad47341e5d430d9214a3dca30a53fb"
      }
     },
     "metadata": {},
     "output_type": "display_data"
    },
    {
     "data": {
      "text/plain": "0it [00:00, ?it/s]",
      "application/vnd.jupyter.widget-view+json": {
       "version_major": 2,
       "version_minor": 0,
       "model_id": "8fa888cfcc184801a53a490d632b20be"
      }
     },
     "metadata": {},
     "output_type": "display_data"
    },
    {
     "data": {
      "text/plain": "0it [00:00, ?it/s]",
      "application/vnd.jupyter.widget-view+json": {
       "version_major": 2,
       "version_minor": 0,
       "model_id": "34bb2e6ddcff4a79b595e2fd19ef1ef6"
      }
     },
     "metadata": {},
     "output_type": "display_data"
    },
    {
     "data": {
      "text/plain": "  0%|          | 0/1 [00:00<?, ?it/s]",
      "application/vnd.jupyter.widget-view+json": {
       "version_major": 2,
       "version_minor": 0,
       "model_id": "53e1a3e8e15d4b3a93ce7f706ab5f3f1"
      }
     },
     "metadata": {},
     "output_type": "display_data"
    },
    {
     "name": "stdout",
     "output_type": "stream",
     "text": [
      "[PairOptimizer.optimize] curves_t MATIC-eBB0/USDC-eB48\n",
      "[PairOptimizer.optimize] p_optimal OptimizerBase.SimpleResult(result=0.7402602510964393, method='bisection', errormsg=None, context_dct=None) full_result [ 1.93977030e-08 -1.43554644e-08]\n"
     ]
    },
    {
     "data": {
      "text/plain": "0it [00:00, ?it/s]",
      "application/vnd.jupyter.widget-view+json": {
       "version_major": 2,
       "version_minor": 0,
       "model_id": "b64c97c6f47c4e18a9c9d867a5787823"
      }
     },
     "metadata": {},
     "output_type": "display_data"
    },
    {
     "data": {
      "text/plain": "  0%|          | 0/10 [00:00<?, ?it/s]",
      "application/vnd.jupyter.widget-view+json": {
       "version_major": 2,
       "version_minor": 0,
       "model_id": "44379951115047c1afc8cf295662aa24"
      }
     },
     "metadata": {},
     "output_type": "display_data"
    },
    {
     "name": "stdout",
     "output_type": "stream",
     "text": [
      "[PairOptimizer.optimize] curves_t ETH2x_FLI-65BD/WETH-6Cc2\n",
      "[PairOptimizer.optimize] p_optimal OptimizerBase.SimpleResult(result=0.006679129508676205, method='bisection', errormsg=None, context_dct=None) full_result [-3.10834672e-04  2.07610492e-06]\n",
      "[PairOptimizer.optimize] curves_t ETH2x_FLI-65BD/WETH-6Cc2\n",
      "[PairOptimizer.optimize] p_optimal OptimizerBase.SimpleResult(result=0.006679129463190039, method='bisection', errormsg=None, context_dct=None) full_result [ 4.31903813e-04 -2.88474143e-06]\n",
      "[PairOptimizer.optimize] curves_t ETH2x_FLI-65BD/WETH-6Cc2\n",
      "[PairOptimizer.optimize] p_optimal OptimizerBase.SimpleResult(result=0.006679129508676205, method='bisection', errormsg=None, context_dct=None) full_result [-3.10834672e-04  2.07610492e-06]\n",
      "[PairOptimizer.optimize] curves_t ETH2x_FLI-65BD/WETH-6Cc2\n",
      "[PairOptimizer.optimize] p_optimal OptimizerBase.SimpleResult(result=0.006679129463190039, method='bisection', errormsg=None, context_dct=None) full_result [ 4.31903813e-04 -2.88474143e-06]\n",
      "[PairOptimizer.optimize] curves_t ETH2x_FLI-65BD/WETH-6Cc2\n",
      "[PairOptimizer.optimize] p_optimal OptimizerBase.SimpleResult(result=0.006679129488953929, method='bisection', errormsg=None, context_dct=None) full_result [ 1.12081470e-05 -7.48605089e-08]\n",
      "[PairOptimizer.optimize] curves_t ETH2x_FLI-65BD/WETH-6Cc2\n",
      "[PairOptimizer.optimize] p_optimal OptimizerBase.SimpleResult(result=0.0066791294858909115, method='bisection', errormsg=None, context_dct=None) full_result [ 6.12238073e-05 -4.08921778e-07]\n",
      "[PairOptimizer.optimize] curves_t ETH2x_FLI-65BD/WETH-6Cc2\n",
      "[PairOptimizer.optimize] p_optimal OptimizerBase.SimpleResult(result=0.006679129466468897, method='bisection', errormsg=None, context_dct=None) full_result [ 3.78363678e-04 -2.52713994e-06]\n",
      "[PairOptimizer.optimize] curves_t ETH2x_FLI-65BD/WETH-6Cc2\n",
      "[PairOptimizer.optimize] p_optimal OptimizerBase.SimpleResult(result=0.006679129485902879, method='bisection', errormsg=None, context_dct=None) full_result [ 6.10283751e-05 -4.07616426e-07]\n",
      "[PairOptimizer.optimize] curves_t ETH2x_FLI-65BD/WETH-6Cc2\n",
      "[PairOptimizer.optimize] p_optimal OptimizerBase.SimpleResult(result=0.0066791294539485435, method='bisection', errormsg=None, context_dct=None) full_result [ 5.82807115e-04 -3.89264414e-06]\n",
      "[PairOptimizer.optimize] curves_t ETH2x_FLI-65BD/WETH-6Cc2\n",
      "[PairOptimizer.optimize] p_optimal OptimizerBase.SimpleResult(result=0.006679129470729444, method='bisection', errormsg=None, context_dct=None) full_result [ 3.08793708e-04 -2.06247319e-06]\n"
     ]
    },
    {
     "data": {
      "text/plain": "0it [00:00, ?it/s]",
      "application/vnd.jupyter.widget-view+json": {
       "version_major": 2,
       "version_minor": 0,
       "model_id": "dca2e1db1f3845238b6fa9461a68ded2"
      }
     },
     "metadata": {},
     "output_type": "display_data"
    },
    {
     "data": {
      "text/plain": "0it [00:00, ?it/s]",
      "application/vnd.jupyter.widget-view+json": {
       "version_major": 2,
       "version_minor": 0,
       "model_id": "6eaa415eef8a4cd6b754feea0db5fc0f"
      }
     },
     "metadata": {},
     "output_type": "display_data"
    },
    {
     "data": {
      "text/plain": "0it [00:00, ?it/s]",
      "application/vnd.jupyter.widget-view+json": {
       "version_major": 2,
       "version_minor": 0,
       "model_id": "215cdf05337348b48b87e93a9a73e8dd"
      }
     },
     "metadata": {},
     "output_type": "display_data"
    },
    {
     "data": {
      "text/plain": "0it [00:00, ?it/s]",
      "application/vnd.jupyter.widget-view+json": {
       "version_major": 2,
       "version_minor": 0,
       "model_id": "6549582907914548aca45421c67dc2a7"
      }
     },
     "metadata": {},
     "output_type": "display_data"
    },
    {
     "data": {
      "text/plain": "0it [00:00, ?it/s]",
      "application/vnd.jupyter.widget-view+json": {
       "version_major": 2,
       "version_minor": 0,
       "model_id": "49f8f81784d7409fbf3ba736a2ef575e"
      }
     },
     "metadata": {},
     "output_type": "display_data"
    },
    {
     "data": {
      "text/plain": "0it [00:00, ?it/s]",
      "application/vnd.jupyter.widget-view+json": {
       "version_major": 2,
       "version_minor": 0,
       "model_id": "3b0bc6e0975a45528c397cba7e35547f"
      }
     },
     "metadata": {},
     "output_type": "display_data"
    },
    {
     "data": {
      "text/plain": "0it [00:00, ?it/s]",
      "application/vnd.jupyter.widget-view+json": {
       "version_major": 2,
       "version_minor": 0,
       "model_id": "06fb155408324908b359cf3ec1a01e73"
      }
     },
     "metadata": {},
     "output_type": "display_data"
    },
    {
     "data": {
      "text/plain": "0it [00:00, ?it/s]",
      "application/vnd.jupyter.widget-view+json": {
       "version_major": 2,
       "version_minor": 0,
       "model_id": "f06f92c21c444a5e86f2dbc7b0ac1d81"
      }
     },
     "metadata": {},
     "output_type": "display_data"
    },
    {
     "data": {
      "text/plain": "0it [00:00, ?it/s]",
      "application/vnd.jupyter.widget-view+json": {
       "version_major": 2,
       "version_minor": 0,
       "model_id": "5e2787c4cf754b3db242313cecbdef42"
      }
     },
     "metadata": {},
     "output_type": "display_data"
    },
    {
     "data": {
      "text/plain": "0it [00:00, ?it/s]",
      "application/vnd.jupyter.widget-view+json": {
       "version_major": 2,
       "version_minor": 0,
       "model_id": "753aa4f408364bc990dbcf5eff311405"
      }
     },
     "metadata": {},
     "output_type": "display_data"
    },
    {
     "data": {
      "text/plain": "0it [00:00, ?it/s]",
      "application/vnd.jupyter.widget-view+json": {
       "version_major": 2,
       "version_minor": 0,
       "model_id": "f202b32ece77491cafa6029ce3e2bf90"
      }
     },
     "metadata": {},
     "output_type": "display_data"
    },
    {
     "data": {
      "text/plain": "  0%|          | 0/6 [00:00<?, ?it/s]",
      "application/vnd.jupyter.widget-view+json": {
       "version_major": 2,
       "version_minor": 0,
       "model_id": "08d24e67ac014cc9ab98d94466e5481b"
      }
     },
     "metadata": {},
     "output_type": "display_data"
    },
    {
     "name": "stdout",
     "output_type": "stream",
     "text": [
      "[PairOptimizer.optimize] curves_t BNT-FF1C/USDC-eB48\n",
      "[PairOptimizer.optimize] p_optimal OptimizerBase.SimpleResult(result=0.39333884843841355, method='bisection', errormsg=None, context_dct=None) full_result [ 1.75605528e-05 -6.90715387e-06]\n",
      "[PairOptimizer.optimize] curves_t BNT-FF1C/USDC-eB48\n",
      "[PairOptimizer.optimize] p_optimal OptimizerBase.SimpleResult(result=0.3933388484490955, method='bisection', errormsg=None, context_dct=None) full_result [-1.94469467e-05  7.64918514e-06]\n",
      "[PairOptimizer.optimize] curves_t BNT-FF1C/USDC-eB48\n",
      "[PairOptimizer.optimize] p_optimal OptimizerBase.SimpleResult(result=0.39333884846937545, method='bisection', errormsg=None, context_dct=None) full_result [-8.97073187e-05  3.52852512e-05]\n",
      "[PairOptimizer.optimize] curves_t BNT-FF1C/USDC-eB48\n",
      "[PairOptimizer.optimize] p_optimal OptimizerBase.SimpleResult(result=0.39333884845532807, method='bisection', errormsg=None, context_dct=None) full_result [-4.10396606e-05  1.61423814e-05]\n",
      "[PairOptimizer.optimize] curves_t BNT-FF1C/USDC-eB48\n",
      "[PairOptimizer.optimize] p_optimal OptimizerBase.SimpleResult(result=0.3933379880312765, method='bisection', errormsg=None, context_dct=None) full_result [-0.00013706 -0.00989813]\n",
      "[PairOptimizer.optimize] curves_t BNT-FF1C/USDC-eB48\n",
      "[PairOptimizer.optimize] p_optimal OptimizerBase.SimpleResult(result=0.39333884846627104, method='bisection', errormsg=None, context_dct=None) full_result [-7.89514743e-05  3.10547184e-05]\n"
     ]
    },
    {
     "data": {
      "text/plain": "  0%|          | 0/4 [00:00<?, ?it/s]",
      "application/vnd.jupyter.widget-view+json": {
       "version_major": 2,
       "version_minor": 0,
       "model_id": "0696c87a296a4eb390be21773af3940c"
      }
     },
     "metadata": {},
     "output_type": "display_data"
    },
    {
     "name": "stdout",
     "output_type": "stream",
     "text": [
      "[PairOptimizer.optimize] curves_t WETH-6Cc2/BNT-FF1C\n",
      "[PairOptimizer.optimize] p_optimal OptimizerBase.SimpleResult(result=4764.128744551157, method='bisection', errormsg=None, context_dct=None) full_result [-5.01323686e-04 -2.76886567e-08]\n",
      "[PairOptimizer.optimize] curves_t WETH-6Cc2/BNT-FF1C\n",
      "[PairOptimizer.optimize] p_optimal OptimizerBase.SimpleResult(result=4764.138098143878, method='bisection', errormsg=None, context_dct=None) full_result [ 2.72848411e-12 -1.49011612e-08]\n",
      "[PairOptimizer.optimize] curves_t WETH-6Cc2/BNT-FF1C\n",
      "[PairOptimizer.optimize] p_optimal OptimizerBase.SimpleResult(result=4764.138098143918, method='bisection', errormsg=None, context_dct=None) full_result [-1.18234311e-11  5.58793545e-08]\n",
      "[PairOptimizer.optimize] curves_t WETH-6Cc2/BNT-FF1C\n",
      "[PairOptimizer.optimize] p_optimal OptimizerBase.SimpleResult(result=4764.138098143867, method='bisection', errormsg=None, context_dct=None) full_result [ 7.27595761e-12 -3.35276127e-08]\n"
     ]
    },
    {
     "data": {
      "text/plain": "0it [00:00, ?it/s]",
      "application/vnd.jupyter.widget-view+json": {
       "version_major": 2,
       "version_minor": 0,
       "model_id": "1bf2c54671874b3082e88707c531c0a8"
      }
     },
     "metadata": {},
     "output_type": "display_data"
    },
    {
     "data": {
      "text/plain": "0it [00:00, ?it/s]",
      "application/vnd.jupyter.widget-view+json": {
       "version_major": 2,
       "version_minor": 0,
       "model_id": "92b54110497c4e14a0684e37c59f81eb"
      }
     },
     "metadata": {},
     "output_type": "display_data"
    },
    {
     "data": {
      "text/plain": "0it [00:00, ?it/s]",
      "application/vnd.jupyter.widget-view+json": {
       "version_major": 2,
       "version_minor": 0,
       "model_id": "985798f41f2e495e980c48b5de622342"
      }
     },
     "metadata": {},
     "output_type": "display_data"
    },
    {
     "data": {
      "text/plain": "  0%|          | 0/2 [00:00<?, ?it/s]",
      "application/vnd.jupyter.widget-view+json": {
       "version_major": 2,
       "version_minor": 0,
       "model_id": "c229dbad473b4448a54645b044603327"
      }
     },
     "metadata": {},
     "output_type": "display_data"
    },
    {
     "name": "stdout",
     "output_type": "stream",
     "text": [
      "[PairOptimizer.optimize] curves_t CRV-cd52/USDC-eB48\n",
      "[PairOptimizer.optimize] p_optimal OptimizerBase.SimpleResult(result=0.7931937487301034, method='bisection', errormsg=None, context_dct=None) full_result [ 6.64254185e-06 -1.90729802e-01]\n",
      "[PairOptimizer.optimize] curves_t CRV-cd52/USDC-eB48\n",
      "[PairOptimizer.optimize] p_optimal OptimizerBase.SimpleResult(result=0.793190313085959, method='bisection', errormsg=None, context_dct=None) full_result [-9.03115142e-06  7.16338400e-06]\n"
     ]
    },
    {
     "data": {
      "text/plain": "0it [00:00, ?it/s]",
      "application/vnd.jupyter.widget-view+json": {
       "version_major": 2,
       "version_minor": 0,
       "model_id": "fe668f40bf0749eaa8506c489ea613b3"
      }
     },
     "metadata": {},
     "output_type": "display_data"
    },
    {
     "data": {
      "text/plain": "0it [00:00, ?it/s]",
      "application/vnd.jupyter.widget-view+json": {
       "version_major": 2,
       "version_minor": 0,
       "model_id": "3463e8650c804e738a2c53968db52c74"
      }
     },
     "metadata": {},
     "output_type": "display_data"
    },
    {
     "data": {
      "text/plain": "0it [00:00, ?it/s]",
      "application/vnd.jupyter.widget-view+json": {
       "version_major": 2,
       "version_minor": 0,
       "model_id": "2373b29fc49e4a4fa94f2c313bbca22c"
      }
     },
     "metadata": {},
     "output_type": "display_data"
    },
    {
     "data": {
      "text/plain": "0it [00:00, ?it/s]",
      "application/vnd.jupyter.widget-view+json": {
       "version_major": 2,
       "version_minor": 0,
       "model_id": "5c525eb5cb6e4587b735d834c95f50ea"
      }
     },
     "metadata": {},
     "output_type": "display_data"
    },
    {
     "data": {
      "text/plain": "0it [00:00, ?it/s]",
      "application/vnd.jupyter.widget-view+json": {
       "version_major": 2,
       "version_minor": 0,
       "model_id": "d953dfa06b304528a6042fab05079466"
      }
     },
     "metadata": {},
     "output_type": "display_data"
    },
    {
     "data": {
      "text/plain": "0it [00:00, ?it/s]",
      "application/vnd.jupyter.widget-view+json": {
       "version_major": 2,
       "version_minor": 0,
       "model_id": "68e537a4f2d84dd0abf8b9c04f81abcc"
      }
     },
     "metadata": {},
     "output_type": "display_data"
    },
    {
     "data": {
      "text/plain": "0it [00:00, ?it/s]",
      "application/vnd.jupyter.widget-view+json": {
       "version_major": 2,
       "version_minor": 0,
       "model_id": "d0775cac86f84a60a5ccc2d34bc5024c"
      }
     },
     "metadata": {},
     "output_type": "display_data"
    },
    {
     "data": {
      "text/plain": "0it [00:00, ?it/s]",
      "application/vnd.jupyter.widget-view+json": {
       "version_major": 2,
       "version_minor": 0,
       "model_id": "279ecc3a62604a1b9789778544d9f9ec"
      }
     },
     "metadata": {},
     "output_type": "display_data"
    },
    {
     "data": {
      "text/plain": "0it [00:00, ?it/s]",
      "application/vnd.jupyter.widget-view+json": {
       "version_major": 2,
       "version_minor": 0,
       "model_id": "f1af31295f1147d29df2f407a768d559"
      }
     },
     "metadata": {},
     "output_type": "display_data"
    },
    {
     "data": {
      "text/plain": "  0%|          | 0/4 [00:00<?, ?it/s]",
      "application/vnd.jupyter.widget-view+json": {
       "version_major": 2,
       "version_minor": 0,
       "model_id": "2e1bcc5a03a14227bd913c6fe59f973e"
      }
     },
     "metadata": {},
     "output_type": "display_data"
    },
    {
     "name": "stdout",
     "output_type": "stream",
     "text": [
      "[PairOptimizer.optimize] curves_t DAI-1d0F/USDT-1ec7\n",
      "[PairOptimizer.optimize] p_optimal OptimizerBase.SimpleResult(result=0.9998810288149655, method='bisection', errormsg=None, context_dct=None) full_result [ 0.03739882 -0.03739452]\n",
      "[PairOptimizer.optimize] curves_t DAI-1d0F/USDT-1ec7\n",
      "[PairOptimizer.optimize] p_optimal OptimizerBase.SimpleResult(result=0.9998810288451494, method='bisection', errormsg=None, context_dct=None) full_result [-0.01955795  0.01955557]\n",
      "[PairOptimizer.optimize] curves_t DAI-1d0F/USDT-1ec7\n",
      "[PairOptimizer.optimize] p_optimal OptimizerBase.SimpleResult(result=1.0000277727814577, method='bisection', errormsg=None, context_dct=None) full_result [ 0.00187576 -0.00187576]\n",
      "[PairOptimizer.optimize] curves_t DAI-1d0F/USDT-1ec7\n",
      "[PairOptimizer.optimize] p_optimal OptimizerBase.SimpleResult(result=1.000027772749948, method='bisection', errormsg=None, context_dct=None) full_result [ 0.00692052 -0.0069207 ]\n"
     ]
    },
    {
     "data": {
      "text/plain": "  0%|          | 0/10 [00:00<?, ?it/s]",
      "application/vnd.jupyter.widget-view+json": {
       "version_major": 2,
       "version_minor": 0,
       "model_id": "47455a052cc246d983975df473c10862"
      }
     },
     "metadata": {},
     "output_type": "display_data"
    },
    {
     "name": "stdout",
     "output_type": "stream",
     "text": [
      "[PairOptimizer.optimize] curves_t USDT-1ec7/USDC-eB48\n",
      "[PairOptimizer.optimize] p_optimal OptimizerBase.SimpleResult(result=1.0000207903497311, method='bisection', errormsg=None, context_dct=None) full_result [ 7.05828857 -7.05841064]\n",
      "[PairOptimizer.optimize] curves_t USDT-1ec7/USDC-eB48\n",
      "[PairOptimizer.optimize] p_optimal OptimizerBase.SimpleResult(result=1.0000207904081506, method='bisection', errormsg=None, context_dct=None) full_result [-8.25445557  8.25463867]\n",
      "[PairOptimizer.optimize] curves_t USDT-1ec7/USDC-eB48\n",
      "[PairOptimizer.optimize] p_optimal OptimizerBase.SimpleResult(result=1.0000207904020626, method='bisection', errormsg=None, context_dct=None) full_result [-6.65869141  6.65881348]\n",
      "[PairOptimizer.optimize] curves_t USDT-1ec7/USDC-eB48\n",
      "[PairOptimizer.optimize] p_optimal OptimizerBase.SimpleResult(result=1.000020791638284, method='bisection', errormsg=None, context_dct=None) full_result [ 3.87104021 -3.98310679]\n",
      "[PairOptimizer.optimize] curves_t USDT-1ec7/USDC-eB48\n",
      "[PairOptimizer.optimize] p_optimal OptimizerBase.SimpleResult(result=1.000020790340398, method='bisection', errormsg=None, context_dct=None) full_result [ 9.50469971 -9.50488281]\n",
      "[PairOptimizer.optimize] curves_t USDT-1ec7/USDC-eB48\n",
      "[PairOptimizer.optimize] p_optimal OptimizerBase.SimpleResult(result=0.9999812258785822, method='bisection', errormsg=None, context_dct=None) full_result [-0.01484537  0.01484489]\n",
      "[PairOptimizer.optimize] curves_t USDT-1ec7/USDC-eB48\n",
      "[PairOptimizer.optimize] p_optimal OptimizerBase.SimpleResult(result=0.9999812258567959, method='bisection', errormsg=None, context_dct=None) full_result [ 0.02874136 -0.02874088]\n",
      "[PairOptimizer.optimize] curves_t USDT-1ec7/USDC-eB48\n",
      "[PairOptimizer.optimize] p_optimal OptimizerBase.SimpleResult(result=0.9999812258950511, method='bisection', errormsg=None, context_dct=None) full_result [-0.04779387  0.04779243]\n",
      "[PairOptimizer.optimize] curves_t USDT-1ec7/USDC-eB48\n",
      "[PairOptimizer.optimize] p_optimal OptimizerBase.SimpleResult(result=0.9999814029627629, method='bisection', errormsg=None, context_dct=None) full_result [-0.04363578 -0.08196931]\n",
      "[PairOptimizer.optimize] curves_t USDT-1ec7/USDC-eB48\n",
      "[PairOptimizer.optimize] p_optimal OptimizerBase.SimpleResult(result=0.9999812258655427, method='bisection', errormsg=None, context_dct=None) full_result [ 0.01124191 -0.01124191]\n"
     ]
    },
    {
     "data": {
      "text/plain": "  0%|          | 0/1 [00:00<?, ?it/s]",
      "application/vnd.jupyter.widget-view+json": {
       "version_major": 2,
       "version_minor": 0,
       "model_id": "a3a947f0d71a4ecbaf47cfc98602d300"
      }
     },
     "metadata": {},
     "output_type": "display_data"
    },
    {
     "name": "stdout",
     "output_type": "stream",
     "text": [
      "[PairOptimizer.optimize] curves_t WBTC-C599/USDT-1ec7\n",
      "[PairOptimizer.optimize] p_optimal OptimizerBase.SimpleResult(result=30694.61394905813, method='bisection', errormsg=None, context_dct=None) full_result [-6.27944824e-07  9.15003540e-09]\n"
     ]
    },
    {
     "data": {
      "text/plain": "  0%|          | 0/39 [00:00<?, ?it/s]",
      "application/vnd.jupyter.widget-view+json": {
       "version_major": 2,
       "version_minor": 0,
       "model_id": "4dac5de722f840c7ab6b4fe37f069e62"
      }
     },
     "metadata": {},
     "output_type": "display_data"
    },
    {
     "name": "stdout",
     "output_type": "stream",
     "text": [
      "[PairOptimizer.optimize] curves_t WETH-6Cc2/USDT-1ec7\n",
      "[PairOptimizer.optimize] p_optimal OptimizerBase.SimpleResult(result=1890.390259964137, method='bisection', errormsg=None, context_dct=None) full_result [-2.06273398e-09 -2.01165676e-07]\n",
      "[PairOptimizer.optimize] curves_t WETH-6Cc2/USDT-1ec7\n",
      "[PairOptimizer.optimize] p_optimal OptimizerBase.SimpleResult(result=1890.3902598801692, method='bisection', errormsg=None, context_dct=None) full_result [ 8.73114914e-10 -1.66893005e-06]\n",
      "[PairOptimizer.optimize] curves_t WETH-6Cc2/USDT-1ec7\n",
      "[PairOptimizer.optimize] p_optimal OptimizerBase.SimpleResult(result=1890.390259880171, method='bisection', errormsg=None, context_dct=None) full_result [ 6.98491931e-10 -1.31130219e-06]\n",
      "[PairOptimizer.optimize] curves_t WETH-6Cc2/USDT-1ec7\n",
      "[PairOptimizer.optimize] p_optimal OptimizerBase.SimpleResult(result=1890.390259880202, method='bisection', errormsg=None, context_dct=None) full_result [-1.80443749e-09  3.33786011e-06]\n",
      "[PairOptimizer.optimize] curves_t WETH-6Cc2/USDT-1ec7\n",
      "[PairOptimizer.optimize] p_optimal 1890.3902598801792 full_result [0. 0.]\n",
      "[FindArbitrageSinglePairwise] Exception:  'numpy.float64' object has no attribute 'is_error'\n",
      "[PairOptimizer.optimize] curves_t WETH-6Cc2/USDT-1ec7\n",
      "[PairOptimizer.optimize] p_optimal OptimizerBase.SimpleResult(result=1890.3902598801692, method='bisection', errormsg=None, context_dct=None) full_result [ 8.73114914e-10 -1.66893005e-06]\n",
      "[PairOptimizer.optimize] curves_t WETH-6Cc2/USDT-1ec7\n",
      "[PairOptimizer.optimize] p_optimal OptimizerBase.SimpleResult(result=1890.3902598801506, method='bisection', errormsg=None, context_dct=None) full_result [ 2.32830644e-09 -4.41074371e-06]\n",
      "[PairOptimizer.optimize] curves_t WETH-6Cc2/USDT-1ec7\n",
      "[PairOptimizer.optimize] p_optimal OptimizerBase.SimpleResult(result=1890.3902702014298, method='bisection', errormsg=None, context_dct=None) full_result [-1.49065873e-05  2.75946513e-06]\n",
      "[PairOptimizer.optimize] curves_t WETH-6Cc2/USDT-1ec7\n",
      "[PairOptimizer.optimize] p_optimal OptimizerBase.SimpleResult(result=1890.3902598801637, method='bisection', errormsg=None, context_dct=None) full_result [ 1.28056854e-09 -2.50339508e-06]\n",
      "[PairOptimizer.optimize] curves_t WETH-6Cc2/USDT-1ec7\n",
      "[PairOptimizer.optimize] p_optimal OptimizerBase.SimpleResult(result=1890.390259880181, method='bisection', errormsg=None, context_dct=None) full_result [-1.16415322e-10  1.19209290e-07]\n",
      "[PairOptimizer.optimize] curves_t WETH-6Cc2/USDT-1ec7\n",
      "[PairOptimizer.optimize] p_optimal OptimizerBase.SimpleResult(result=1890.3902598801799, method='bisection', errormsg=None, context_dct=None) full_result [-5.82076609e-11  0.00000000e+00]\n",
      "[PairOptimizer.optimize] curves_t WETH-6Cc2/USDT-1ec7\n",
      "[PairOptimizer.optimize] p_optimal OptimizerBase.SimpleResult(result=1890.3902598801478, method='bisection', errormsg=None, context_dct=None) full_result [ 2.56113708e-09 -4.76837158e-06]\n",
      "[PairOptimizer.optimize] curves_t WETH-6Cc2/USDT-1ec7\n",
      "[PairOptimizer.optimize] p_optimal OptimizerBase.SimpleResult(result=1890.390259880165, method='bisection', errormsg=None, context_dct=None) full_result [ 1.16415322e-09 -2.14576721e-06]\n",
      "[PairOptimizer.optimize] curves_t WETH-6Cc2/USDT-1ec7\n",
      "[PairOptimizer.optimize] p_optimal OptimizerBase.SimpleResult(result=1889.1458891680038, method='bisection', errormsg=None, context_dct=None) full_result [-5.84623194e-09 -1.45286322e-06]\n",
      "[PairOptimizer.optimize] curves_t WETH-6Cc2/USDT-1ec7\n",
      "[PairOptimizer.optimize] p_optimal OptimizerBase.SimpleResult(result=1889.145888875987, method='bisection', errormsg=None, context_dct=None) full_result [-6.11180440e-10  1.16229057e-06]\n",
      "[PairOptimizer.optimize] curves_t WETH-6Cc2/USDT-1ec7\n",
      "[PairOptimizer.optimize] p_optimal 1889.1458888759603 full_result [0. 0.]\n",
      "[FindArbitrageSinglePairwise] Exception:  'numpy.float64' object has no attribute 'is_error'\n",
      "[PairOptimizer.optimize] curves_t WETH-6Cc2/USDT-1ec7\n",
      "[PairOptimizer.optimize] p_optimal OptimizerBase.SimpleResult(result=1889.1458888759319, method='bisection', errormsg=None, context_dct=None) full_result [ 6.69388101e-10 -1.25169754e-06]\n",
      "[PairOptimizer.optimize] curves_t WETH-6Cc2/USDT-1ec7\n",
      "[PairOptimizer.optimize] p_optimal OptimizerBase.SimpleResult(result=1889.1458888759628, method='bisection', errormsg=None, context_dct=None) full_result [-5.82076609e-11  1.19209290e-07]\n",
      "[PairOptimizer.optimize] curves_t WETH-6Cc2/USDT-1ec7\n",
      "[PairOptimizer.optimize] p_optimal OptimizerBase.SimpleResult(result=1889.145888875937, method='bisection', errormsg=None, context_dct=None) full_result [ 5.38420863e-10 -1.01327896e-06]\n",
      "[PairOptimizer.optimize] curves_t WETH-6Cc2/USDT-1ec7\n",
      "[PairOptimizer.optimize] p_optimal OptimizerBase.SimpleResult(result=1889.1458888759466, method='bisection', errormsg=None, context_dct=None) full_result [ 3.20142135e-10 -6.25848770e-07]\n",
      "[PairOptimizer.optimize] curves_t WETH-6Cc2/USDT-1ec7\n",
      "[PairOptimizer.optimize] p_optimal OptimizerBase.SimpleResult(result=1889.1459247817706, method='bisection', errormsg=None, context_dct=None) full_result [-1.54507852e-05  1.36860763e-07]\n",
      "[PairOptimizer.optimize] curves_t WETH-6Cc2/USDT-1ec7\n",
      "[PairOptimizer.optimize] p_optimal OptimizerBase.SimpleResult(result=1889.145888875984, method='bisection', errormsg=None, context_dct=None) full_result [-5.52972779e-10  1.04308128e-06]\n",
      "[PairOptimizer.optimize] curves_t WETH-6Cc2/USDT-1ec7\n",
      "[PairOptimizer.optimize] p_optimal OptimizerBase.SimpleResult(result=1889.1458888759767, method='bisection', errormsg=None, context_dct=None) full_result [-3.78349796e-10  7.15255737e-07]\n",
      "[PairOptimizer.optimize] curves_t WETH-6Cc2/USDT-1ec7\n",
      "[PairOptimizer.optimize] p_optimal OptimizerBase.SimpleResult(result=1889.1458888759503, method='bisection', errormsg=None, context_dct=None) full_result [ 2.32830644e-10 -4.47034836e-07]\n",
      "[PairOptimizer.optimize] curves_t WETH-6Cc2/USDT-1ec7\n",
      "[PairOptimizer.optimize] p_optimal OptimizerBase.SimpleResult(result=1889.1458888759323, method='bisection', errormsg=None, context_dct=None) full_result [ 6.54836185e-10 -1.22189522e-06]\n",
      "[PairOptimizer.optimize] curves_t WETH-6Cc2/USDT-1ec7\n",
      "[PairOptimizer.optimize] p_optimal OptimizerBase.SimpleResult(result=1889.1458888759523, method='bisection', errormsg=None, context_dct=None) full_result [ 1.74622983e-10 -3.27825546e-07]\n",
      "[PairOptimizer.optimize] curves_t WETH-6Cc2/USDT-1ec7\n",
      "[PairOptimizer.optimize] p_optimal OptimizerBase.SimpleResult(result=1881.7106092926715, method='bisection', errormsg=None, context_dct=None) full_result [-3.31456249e-08 -1.93715096e-07]\n",
      "[PairOptimizer.optimize] curves_t WETH-6Cc2/USDT-1ec7\n",
      "[PairOptimizer.optimize] p_optimal OptimizerBase.SimpleResult(result=1881.7106081912802, method='bisection', errormsg=None, context_dct=None) full_result [-1.85536919e-10  3.50177288e-07]\n",
      "[PairOptimizer.optimize] curves_t WETH-6Cc2/USDT-1ec7\n",
      "[PairOptimizer.optimize] p_optimal OptimizerBase.SimpleResult(result=1881.7106081912625, method='bisection', errormsg=None, context_dct=None) full_result [-7.63975549e-11  1.41561031e-07]\n",
      "[PairOptimizer.optimize] curves_t WETH-6Cc2/USDT-1ec7\n",
      "[PairOptimizer.optimize] p_optimal OptimizerBase.SimpleResult(result=1881.7106081912243, method='bisection', errormsg=None, context_dct=None) full_result [ 1.60071068e-10 -3.05473804e-07]\n",
      "[PairOptimizer.optimize] curves_t WETH-6Cc2/USDT-1ec7\n",
      "[PairOptimizer.optimize] p_optimal OptimizerBase.SimpleResult(result=1881.7106081912748, method='bisection', errormsg=None, context_dct=None) full_result [-1.52795110e-10  2.83122063e-07]\n",
      "[PairOptimizer.optimize] curves_t WETH-6Cc2/USDT-1ec7\n",
      "[PairOptimizer.optimize] p_optimal OptimizerBase.SimpleResult(result=1881.7106081912675, method='bisection', errormsg=None, context_dct=None) full_result [-1.05501385e-10  1.93715096e-07]\n",
      "[PairOptimizer.optimize] curves_t WETH-6Cc2/USDT-1ec7\n",
      "[PairOptimizer.optimize] p_optimal OptimizerBase.SimpleResult(result=1881.7106081912423, method='bisection', errormsg=None, context_dct=None) full_result [ 5.09317033e-11 -9.68575478e-08]\n",
      "[PairOptimizer.optimize] curves_t WETH-6Cc2/USDT-1ec7\n",
      "[PairOptimizer.optimize] p_optimal OptimizerBase.SimpleResult(result=1881.710743594186, method='bisection', errormsg=None, context_dct=None) full_result [-1.87258684e-05  2.70971213e-07]\n",
      "[PairOptimizer.optimize] curves_t WETH-6Cc2/USDT-1ec7\n",
      "[PairOptimizer.optimize] p_optimal OptimizerBase.SimpleResult(result=1881.71060819127, method='bisection', errormsg=None, context_dct=None) full_result [-1.20053301e-10  2.23517418e-07]\n",
      "[PairOptimizer.optimize] curves_t WETH-6Cc2/USDT-1ec7\n",
      "[PairOptimizer.optimize] p_optimal OptimizerBase.SimpleResult(result=1881.7106081912555, method='bisection', errormsg=None, context_dct=None) full_result [-2.91038305e-11  5.21540642e-08]\n",
      "[PairOptimizer.optimize] curves_t WETH-6Cc2/USDT-1ec7\n",
      "[PairOptimizer.optimize] p_optimal OptimizerBase.SimpleResult(result=1881.710608191252, method='bisection', errormsg=None, context_dct=None) full_result [-1.09139364e-11  2.23517418e-08]\n",
      "[PairOptimizer.optimize] curves_t WETH-6Cc2/USDT-1ec7\n",
      "[PairOptimizer.optimize] p_optimal OptimizerBase.SimpleResult(result=1881.7106081912298, method='bisection', errormsg=None, context_dct=None) full_result [ 1.23691279e-10 -2.38418579e-07]\n",
      "[PairOptimizer.optimize] curves_t WETH-6Cc2/USDT-1ec7\n",
      "[PairOptimizer.optimize] p_optimal OptimizerBase.SimpleResult(result=1881.7106081912725, method='bisection', errormsg=None, context_dct=None) full_result [-1.34605216e-10  2.53319740e-07]\n"
     ]
    },
    {
     "data": {
      "text/plain": "0it [00:00, ?it/s]",
      "application/vnd.jupyter.widget-view+json": {
       "version_major": 2,
       "version_minor": 0,
       "model_id": "b819b07d6c174d64a5a160538059b553"
      }
     },
     "metadata": {},
     "output_type": "display_data"
    },
    {
     "data": {
      "text/plain": "0it [00:00, ?it/s]",
      "application/vnd.jupyter.widget-view+json": {
       "version_major": 2,
       "version_minor": 0,
       "model_id": "0479c8649de543959eb266d4e40a39b0"
      }
     },
     "metadata": {},
     "output_type": "display_data"
    },
    {
     "data": {
      "text/plain": "0it [00:00, ?it/s]",
      "application/vnd.jupyter.widget-view+json": {
       "version_major": 2,
       "version_minor": 0,
       "model_id": "5bc77e23bc5f497ca37260e15bde3726"
      }
     },
     "metadata": {},
     "output_type": "display_data"
    },
    {
     "data": {
      "text/plain": "  0%|          | 0/16 [00:00<?, ?it/s]",
      "application/vnd.jupyter.widget-view+json": {
       "version_major": 2,
       "version_minor": 0,
       "model_id": "54dead123c1445858f93df8a89c0b40f"
      }
     },
     "metadata": {},
     "output_type": "display_data"
    },
    {
     "name": "stdout",
     "output_type": "stream",
     "text": [
      "[PairOptimizer.optimize] curves_t WBTC-C599/USDC-eB48\n",
      "[PairOptimizer.optimize] p_optimal OptimizerBase.SimpleResult(result=30709.171178596996, method='bisection', errormsg=None, context_dct=None) full_result [-1.13686838e-13  1.86264515e-09]\n",
      "[PairOptimizer.optimize] curves_t WBTC-C599/USDC-eB48\n",
      "[PairOptimizer.optimize] p_optimal OptimizerBase.SimpleResult(result=30709.171178596982, method='bisection', errormsg=None, context_dct=None) full_result [ 0.00000000e+00 -9.31322575e-10]\n",
      "[PairOptimizer.optimize] curves_t WBTC-C599/USDC-eB48\n",
      "[PairOptimizer.optimize] p_optimal OptimizerBase.SimpleResult(result=30709.171178596964, method='bisection', errormsg=None, context_dct=None) full_result [ 1.13686838e-13 -3.72529030e-09]\n",
      "[PairOptimizer.optimize] curves_t WBTC-C599/USDC-eB48\n",
      "[PairOptimizer.optimize] p_optimal 30709.171178596982 full_result [ 0.00000000e+00 -9.31322575e-10]\n",
      "[FindArbitrageSinglePairwise] Exception:  'numpy.float64' object has no attribute 'is_error'\n",
      "[PairOptimizer.optimize] curves_t WBTC-C599/USDC-eB48\n",
      "[PairOptimizer.optimize] p_optimal OptimizerBase.SimpleResult(result=30709.171178596967, method='bisection', errormsg=None, context_dct=None) full_result [ 5.68434189e-14 -1.86264515e-09]\n",
      "[PairOptimizer.optimize] curves_t WBTC-C599/USDC-eB48\n",
      "[PairOptimizer.optimize] p_optimal OptimizerBase.SimpleResult(result=30709.171178597004, method='bisection', errormsg=None, context_dct=None) full_result [-1.13686838e-13  1.86264515e-09]\n",
      "[PairOptimizer.optimize] curves_t WBTC-C599/USDC-eB48\n",
      "[PairOptimizer.optimize] p_optimal OptimizerBase.SimpleResult(result=30708.38628090415, method='bisection', errormsg=None, context_dct=None) full_result [ 8.8096197e-14 -8.9227018e-01]\n",
      "[PairOptimizer.optimize] curves_t WBTC-C599/USDC-eB48\n",
      "[PairOptimizer.optimize] p_optimal OptimizerBase.SimpleResult(result=30709.171178596956, method='bisection', errormsg=None, context_dct=None) full_result [ 1.13686838e-13 -3.72529030e-09]\n",
      "[PairOptimizer.optimize] curves_t WBTC-C599/USDC-eB48\n",
      "[PairOptimizer.optimize] p_optimal OptimizerBase.SimpleResult(result=30681.192450075563, method='bisection', errormsg=None, context_dct=None) full_result [ 1.81898940e-12 -5.96046448e-08]\n",
      "[PairOptimizer.optimize] curves_t WBTC-C599/USDC-eB48\n",
      "[PairOptimizer.optimize] p_optimal OptimizerBase.SimpleResult(result=30681.192450075552, method='bisection', errormsg=None, context_dct=None) full_result [ 1.81898940e-12 -8.94069672e-08]\n",
      "[PairOptimizer.optimize] curves_t WBTC-C599/USDC-eB48\n",
      "[PairOptimizer.optimize] p_optimal OptimizerBase.SimpleResult(result=30681.19245007563, method='bisection', errormsg=None, context_dct=None) full_result [-2.72848411e-12  5.96046448e-08]\n",
      "[PairOptimizer.optimize] curves_t WBTC-C599/USDC-eB48\n",
      "[PairOptimizer.optimize] p_optimal OptimizerBase.SimpleResult(result=30681.192450075592, method='bisection', errormsg=None, context_dct=None) full_result [-9.09494702e-13  0.00000000e+00]\n",
      "[PairOptimizer.optimize] curves_t WBTC-C599/USDC-eB48\n",
      "[PairOptimizer.optimize] p_optimal OptimizerBase.SimpleResult(result=30681.192450075556, method='bisection', errormsg=None, context_dct=None) full_result [ 1.81898940e-12 -8.94069672e-08]\n",
      "[PairOptimizer.optimize] curves_t WBTC-C599/USDC-eB48\n",
      "[PairOptimizer.optimize] p_optimal OptimizerBase.SimpleResult(result=30681.1924500756, method='bisection', errormsg=None, context_dct=None) full_result [-9.09494702e-13  0.00000000e+00]\n",
      "[PairOptimizer.optimize] curves_t WBTC-C599/USDC-eB48\n",
      "[PairOptimizer.optimize] p_optimal OptimizerBase.SimpleResult(result=30681.14901464669, method='bisection', errormsg=None, context_dct=None) full_result [ 1.90064631e-12 -7.98423445e-01]\n",
      "[PairOptimizer.optimize] curves_t WBTC-C599/USDC-eB48\n",
      "[PairOptimizer.optimize] p_optimal OptimizerBase.SimpleResult(result=30681.19245007559, method='bisection', errormsg=None, context_dct=None) full_result [ 0.00000000e+00 -2.98023224e-08]\n"
     ]
    },
    {
     "data": {
      "text/plain": "  0%|          | 0/1 [00:00<?, ?it/s]",
      "application/vnd.jupyter.widget-view+json": {
       "version_major": 2,
       "version_minor": 0,
       "model_id": "971c2d4caf5742d09500309da11cb042"
      }
     },
     "metadata": {},
     "output_type": "display_data"
    },
    {
     "name": "stdout",
     "output_type": "stream",
     "text": [
      "[PairOptimizer.optimize] curves_t WBTC-C599/USDT-1ec7\n",
      "[PairOptimizer.optimize] p_optimal OptimizerBase.SimpleResult(result=30694.613926064292, method='bisection', errormsg=None, context_dct=None) full_result [ 4.73837115e-13 -1.92745271e-02]\n"
     ]
    },
    {
     "data": {
      "text/plain": "  0%|          | 0/16 [00:00<?, ?it/s]",
      "application/vnd.jupyter.widget-view+json": {
       "version_major": 2,
       "version_minor": 0,
       "model_id": "2d2852e4efe743b4ab8cea48f57a1eb6"
      }
     },
     "metadata": {},
     "output_type": "display_data"
    },
    {
     "name": "stdout",
     "output_type": "stream",
     "text": [
      "[PairOptimizer.optimize] curves_t WBTC-C599/WETH-6Cc2\n",
      "[PairOptimizer.optimize] p_optimal OptimizerBase.SimpleResult(result=16.25127735727674, method='bisection', errormsg=None, context_dct=None) full_result [-1.39116310e-08  2.26078555e-07]\n",
      "[PairOptimizer.optimize] curves_t WBTC-C599/WETH-6Cc2\n",
      "[PairOptimizer.optimize] p_optimal OptimizerBase.SimpleResult(result=16.251277357210903, method='bisection', errormsg=None, context_dct=None) full_result [ 9.79060477e-09 -1.62155537e-07]\n",
      "[PairOptimizer.optimize] curves_t WBTC-C599/WETH-6Cc2\n",
      "[PairOptimizer.optimize] p_optimal OptimizerBase.SimpleResult(result=16.25127735723521, method='bisection', errormsg=None, context_dct=None) full_result [ 7.34507921e-09 -1.19383913e-07]\n",
      "[PairOptimizer.optimize] curves_t WBTC-C599/WETH-6Cc2\n",
      "[PairOptimizer.optimize] p_optimal OptimizerBase.SimpleResult(result=16.251277357269036, method='bisection', errormsg=None, context_dct=None) full_result [-9.96806193e-09  1.61991920e-07]\n",
      "[PairOptimizer.optimize] curves_t WBTC-C599/WETH-6Cc2\n",
      "[PairOptimizer.optimize] p_optimal OptimizerBase.SimpleResult(result=16.251277357223323, method='bisection', errormsg=None, context_dct=None) full_result [ 1.34314178e-08 -2.18278728e-07]\n",
      "[PairOptimizer.optimize] curves_t WBTC-C599/WETH-6Cc2\n",
      "[PairOptimizer.optimize] p_optimal OptimizerBase.SimpleResult(result=16.25127735723416, method='bisection', errormsg=None, context_dct=None) full_result [ 7.88713805e-09 -1.28115062e-07]\n",
      "[PairOptimizer.optimize] curves_t WBTC-C599/WETH-6Cc2\n",
      "[PairOptimizer.optimize] p_optimal OptimizerBase.SimpleResult(result=16.25127564701836, method='bisection', errormsg=None, context_dct=None) full_result [-1.20896217e-08 -3.62709670e-07]\n",
      "[PairOptimizer.optimize] curves_t WBTC-C599/WETH-6Cc2\n",
      "[PairOptimizer.optimize] p_optimal OptimizerBase.SimpleResult(result=16.25127735725026, method='bisection', errormsg=None, context_dct=None) full_result [-3.56521923e-10  5.76255843e-09]\n",
      "[PairOptimizer.optimize] curves_t WBTC-C599/WETH-6Cc2\n",
      "[PairOptimizer.optimize] p_optimal OptimizerBase.SimpleResult(result=16.262500335184633, method='bisection', errormsg=None, context_dct=None) full_result [ 1.16415322e-09 -1.89756975e-08]\n",
      "[PairOptimizer.optimize] curves_t WBTC-C599/WETH-6Cc2\n",
      "[PairOptimizer.optimize] p_optimal OptimizerBase.SimpleResult(result=16.26250033520447, method='bisection', errormsg=None, context_dct=None) full_result [-3.23444658e-08  5.22832217e-07]\n",
      "[PairOptimizer.optimize] curves_t WBTC-C599/WETH-6Cc2\n",
      "[PairOptimizer.optimize] p_optimal OptimizerBase.SimpleResult(result=16.26250033520776, method='bisection', errormsg=None, context_dct=None) full_result [-2.62516551e-08  4.26894985e-07]\n",
      "[PairOptimizer.optimize] curves_t WBTC-C599/WETH-6Cc2\n",
      "[PairOptimizer.optimize] p_optimal OptimizerBase.SimpleResult(result=16.262500335150982, method='bisection', errormsg=None, context_dct=None) full_result [ 4.10509529e-08 -6.67641871e-07]\n",
      "[PairOptimizer.optimize] curves_t WBTC-C599/WETH-6Cc2\n",
      "[PairOptimizer.optimize] p_optimal OptimizerBase.SimpleResult(result=16.262500335167502, method='bisection', errormsg=None, context_dct=None) full_result [ 2.1464075e-08 -3.4912955e-07]\n",
      "[PairOptimizer.optimize] curves_t WBTC-C599/WETH-6Cc2\n",
      "[PairOptimizer.optimize] p_optimal OptimizerBase.SimpleResult(result=16.262500335153014, method='bisection', errormsg=None, context_dct=None) full_result [ 3.86353349e-08 -6.28409907e-07]\n",
      "[PairOptimizer.optimize] curves_t WBTC-C599/WETH-6Cc2\n",
      "[PairOptimizer.optimize] p_optimal OptimizerBase.SimpleResult(result=16.262493103941633, method='bisection', errormsg=None, context_dct=None) full_result [-2.51424090e-08 -5.31672718e-05]\n",
      "[PairOptimizer.optimize] curves_t WBTC-C599/WETH-6Cc2\n",
      "[PairOptimizer.optimize] p_optimal OptimizerBase.SimpleResult(result=16.262500335210227, method='bisection', errormsg=None, context_dct=None) full_result [-2.91693141e-08  4.74392436e-07]\n"
     ]
    },
    {
     "data": {
      "text/plain": "  0%|          | 0/2 [00:00<?, ?it/s]",
      "application/vnd.jupyter.widget-view+json": {
       "version_major": 2,
       "version_minor": 0,
       "model_id": "60131273087a4fb29283eba9968ab16f"
      }
     },
     "metadata": {},
     "output_type": "display_data"
    },
    {
     "name": "stdout",
     "output_type": "stream",
     "text": [
      "[PairOptimizer.optimize] curves_t SGT-EcDD/WETH-6Cc2\n",
      "[PairOptimizer.optimize] p_optimal OptimizerBase.SimpleResult(result=0.00022209611167832275, method='bisection', errormsg=None, context_dct=None) full_result [ 4.02343472e-02 -8.93589251e-06]\n",
      "[PairOptimizer.optimize] curves_t SGT-EcDD/WETH-6Cc2\n",
      "[PairOptimizer.optimize] p_optimal OptimizerBase.SimpleResult(result=0.00021922395369175377, method='bisection', errormsg=None, context_dct=None) full_result [ 1.96211165e-03 -4.30141885e-07]\n"
     ]
    },
    {
     "data": {
      "text/plain": "  0%|          | 0/14 [00:00<?, ?it/s]",
      "application/vnd.jupyter.widget-view+json": {
       "version_major": 2,
       "version_minor": 0,
       "model_id": "c30c6447d2f04535a4a7e960512294ba"
      }
     },
     "metadata": {},
     "output_type": "display_data"
    },
    {
     "name": "stdout",
     "output_type": "stream",
     "text": [
      "[PairOptimizer.optimize] curves_t vBNT-7f94/BNT-FF1C\n",
      "[PairOptimizer.optimize] p_optimal OptimizerBase.SimpleResult(result=0.4979713671803965, method='bisection', errormsg=None, context_dct=None) full_result [ 9.86899249e-06 -4.91423998e-06]\n",
      "[PairOptimizer.optimize] curves_t vBNT-7f94/BNT-FF1C\n",
      "[PairOptimizer.optimize] p_optimal OptimizerBase.SimpleResult(result=0.4979713671750061, method='bisection', errormsg=None, context_dct=None) full_result [ 2.04464886e-05 -1.01815676e-05]\n",
      "[PairOptimizer.optimize] curves_t vBNT-7f94/BNT-FF1C\n",
      "[PairOptimizer.optimize] p_optimal OptimizerBase.SimpleResult(result=0.49797136719226054, method='bisection', errormsg=None, context_dct=None) full_result [-1.34117436e-05  6.67886343e-06]\n",
      "[PairOptimizer.optimize] curves_t vBNT-7f94/BNT-FF1C\n",
      "[PairOptimizer.optimize] p_optimal OptimizerBase.SimpleResult(result=0.49797136717779344, method='bisection', errormsg=None, context_dct=None) full_result [ 1.49765983e-05 -7.45779835e-06]\n",
      "[PairOptimizer.optimize] curves_t vBNT-7f94/BNT-FF1C\n",
      "[PairOptimizer.optimize] p_optimal OptimizerBase.SimpleResult(result=0.4979713671723526, method='bisection', errormsg=None, context_dct=None) full_result [ 2.56535131e-05 -1.27746025e-05]\n",
      "[PairOptimizer.optimize] curves_t vBNT-7f94/BNT-FF1C\n",
      "[PairOptimizer.optimize] p_optimal OptimizerBase.SimpleResult(result=0.49797136721387747, method='bisection', errormsg=None, context_dct=None) full_result [-5.58306929e-05  2.78021907e-05]\n",
      "[PairOptimizer.optimize] curves_t vBNT-7f94/BNT-FF1C\n",
      "[PairOptimizer.optimize] p_optimal OptimizerBase.SimpleResult(result=0.4979713671844595, method='bisection', errormsg=None, context_dct=None) full_result [ 1.89593993e-06 -9.44011845e-07]\n",
      "[PairOptimizer.optimize] curves_t vBNT-7f94/BNT-FF1C\n",
      "[PairOptimizer.optimize] p_optimal OptimizerBase.SimpleResult(result=0.4979713671630217, method='bisection', errormsg=None, context_dct=None) full_result [ 4.39633150e-05 -2.18922505e-05]\n",
      "[PairOptimizer.optimize] curves_t vBNT-7f94/BNT-FF1C\n",
      "[PairOptimizer.optimize] p_optimal OptimizerBase.SimpleResult(result=0.4979713671877447, method='bisection', errormsg=None, context_dct=None) full_result [-4.55020927e-06  2.26602424e-06]\n",
      "[PairOptimizer.optimize] curves_t vBNT-7f94/BNT-FF1C\n",
      "[PairOptimizer.optimize] p_optimal OptimizerBase.SimpleResult(result=0.4979713671551543, method='bisection', errormsg=None, context_dct=None) full_result [ 5.94011508e-05 -2.95799691e-05]\n",
      "[PairOptimizer.optimize] curves_t vBNT-7f94/BNT-FF1C\n",
      "[PairOptimizer.optimize] p_optimal OptimizerBase.SimpleResult(result=0.4979713671804163, method='bisection', errormsg=None, context_dct=None) full_result [ 9.82987694e-06 -4.89491504e-06]\n",
      "[PairOptimizer.optimize] curves_t vBNT-7f94/BNT-FF1C\n",
      "[PairOptimizer.optimize] p_optimal OptimizerBase.SimpleResult(result=0.49797136717327084, method='bisection', errormsg=None, context_dct=None) full_result [ 2.38514040e-05 -1.18771568e-05]\n",
      "[PairOptimizer.optimize] curves_t vBNT-7f94/BNT-FF1C\n",
      "[PairOptimizer.optimize] p_optimal OptimizerBase.SimpleResult(result=0.49797136721025953, method='bisection', errormsg=None, context_dct=None) full_result [-4.87312209e-05  2.42668903e-05]\n",
      "[PairOptimizer.optimize] curves_t vBNT-7f94/BNT-FF1C\n",
      "[PairOptimizer.optimize] p_optimal OptimizerBase.SimpleResult(result=0.49772183462991615, method='bisection', errormsg=None, context_dct=None) full_result [ 8.03344919e-05 -2.42115757e+01]\n"
     ]
    },
    {
     "data": {
      "text/plain": "0it [00:00, ?it/s]",
      "application/vnd.jupyter.widget-view+json": {
       "version_major": 2,
       "version_minor": 0,
       "model_id": "389690e728c648adbf8f7d64072e718a"
      }
     },
     "metadata": {},
     "output_type": "display_data"
    },
    {
     "data": {
      "text/plain": "0it [00:00, ?it/s]",
      "application/vnd.jupyter.widget-view+json": {
       "version_major": 2,
       "version_minor": 0,
       "model_id": "0020b7b5f4d54592966cff2b222bea45"
      }
     },
     "metadata": {},
     "output_type": "display_data"
    },
    {
     "data": {
      "text/plain": "0it [00:00, ?it/s]",
      "application/vnd.jupyter.widget-view+json": {
       "version_major": 2,
       "version_minor": 0,
       "model_id": "f2d8d6c3ff8e4783812c08114c209740"
      }
     },
     "metadata": {},
     "output_type": "display_data"
    },
    {
     "data": {
      "text/plain": "0it [00:00, ?it/s]",
      "application/vnd.jupyter.widget-view+json": {
       "version_major": 2,
       "version_minor": 0,
       "model_id": "0dccad54adf9437d992a086d1a344e49"
      }
     },
     "metadata": {},
     "output_type": "display_data"
    },
    {
     "data": {
      "text/plain": "  0%|          | 0/2 [00:00<?, ?it/s]",
      "application/vnd.jupyter.widget-view+json": {
       "version_major": 2,
       "version_minor": 0,
       "model_id": "d1173165cf4e46898b1fea8b9747cbda"
      }
     },
     "metadata": {},
     "output_type": "display_data"
    },
    {
     "name": "stdout",
     "output_type": "stream",
     "text": [
      "[PairOptimizer.optimize] curves_t wstETH-2Ca0/USDC-eB48\n",
      "[PairOptimizer.optimize] p_optimal OptimizerBase.SimpleResult(result=2132.8228517303273, method='bisection', errormsg=None, context_dct=None) full_result [ 8.66862138e-13 -1.86264515e-09]\n",
      "[PairOptimizer.optimize] curves_t wstETH-2Ca0/USDC-eB48\n",
      "[PairOptimizer.optimize] p_optimal OptimizerBase.SimpleResult(result=2132.822851730366, method='bisection', errormsg=None, context_dct=None) full_result [-1.98951966e-13  4.07453626e-10]\n"
     ]
    },
    {
     "data": {
      "text/plain": "0it [00:00, ?it/s]",
      "application/vnd.jupyter.widget-view+json": {
       "version_major": 2,
       "version_minor": 0,
       "model_id": "9812d9f1191648d5a477d87ca90a53f8"
      }
     },
     "metadata": {},
     "output_type": "display_data"
    },
    {
     "data": {
      "text/plain": "  0%|          | 0/1 [00:00<?, ?it/s]",
      "application/vnd.jupyter.widget-view+json": {
       "version_major": 2,
       "version_minor": 0,
       "model_id": "0e5aa335ea0a47eaac3d53ad0797f51d"
      }
     },
     "metadata": {},
     "output_type": "display_data"
    },
    {
     "name": "stdout",
     "output_type": "stream",
     "text": [
      "[PairOptimizer.optimize] curves_t TSUKA-69eD/USDC-eB48\n",
      "[PairOptimizer.optimize] p_optimal OptimizerBase.SimpleResult(result=0.0311299900733118, method='bisection', errormsg=None, context_dct=None) full_result [-1.19291304e-04  3.71353781e-06]\n"
     ]
    },
    {
     "data": {
      "text/plain": "0it [00:00, ?it/s]",
      "application/vnd.jupyter.widget-view+json": {
       "version_major": 2,
       "version_minor": 0,
       "model_id": "36a1ac4b36d04d65a33028582bc3de8b"
      }
     },
     "metadata": {},
     "output_type": "display_data"
    },
    {
     "data": {
      "text/plain": "0it [00:00, ?it/s]",
      "application/vnd.jupyter.widget-view+json": {
       "version_major": 2,
       "version_minor": 0,
       "model_id": "de0a83a5f5d04d3698d9c082ecf390ce"
      }
     },
     "metadata": {},
     "output_type": "display_data"
    },
    {
     "data": {
      "text/plain": "0it [00:00, ?it/s]",
      "application/vnd.jupyter.widget-view+json": {
       "version_major": 2,
       "version_minor": 0,
       "model_id": "10c275a6e37546869b88c5fcbf34187c"
      }
     },
     "metadata": {},
     "output_type": "display_data"
    },
    {
     "data": {
      "text/plain": "0it [00:00, ?it/s]",
      "application/vnd.jupyter.widget-view+json": {
       "version_major": 2,
       "version_minor": 0,
       "model_id": "97c74349faf94742bc30ebaec29656d1"
      }
     },
     "metadata": {},
     "output_type": "display_data"
    },
    {
     "data": {
      "text/plain": "0it [00:00, ?it/s]",
      "application/vnd.jupyter.widget-view+json": {
       "version_major": 2,
       "version_minor": 0,
       "model_id": "a1f27a02e2154fe38c798c4552fb9a1d"
      }
     },
     "metadata": {},
     "output_type": "display_data"
    },
    {
     "data": {
      "text/plain": "0it [00:00, ?it/s]",
      "application/vnd.jupyter.widget-view+json": {
       "version_major": 2,
       "version_minor": 0,
       "model_id": "1e71fe7ea5af40298a02cb7e72ff85de"
      }
     },
     "metadata": {},
     "output_type": "display_data"
    },
    {
     "data": {
      "text/plain": "  0%|          | 0/4 [00:00<?, ?it/s]",
      "application/vnd.jupyter.widget-view+json": {
       "version_major": 2,
       "version_minor": 0,
       "model_id": "51354016df314469b096b9b163b95309"
      }
     },
     "metadata": {},
     "output_type": "display_data"
    },
    {
     "name": "stdout",
     "output_type": "stream",
     "text": [
      "[PairOptimizer.optimize] curves_t rETH-6393/WETH-6Cc2\n",
      "[PairOptimizer.optimize] p_optimal OptimizerBase.SimpleResult(result=1.076708344487575, method='bisection', errormsg=None, context_dct=None) full_result [ 9.73506700e-06 -1.10356404e-03]\n",
      "[PairOptimizer.optimize] curves_t rETH-6393/WETH-6Cc2\n",
      "[PairOptimizer.optimize] p_optimal OptimizerBase.SimpleResult(result=1.0767087671170115, method='bisection', errormsg=None, context_dct=None) full_result [-1.27418898e-05  1.37193128e-05]\n",
      "[PairOptimizer.optimize] curves_t rETH-6393/WETH-6Cc2\n",
      "[PairOptimizer.optimize] p_optimal OptimizerBase.SimpleResult(result=1.0767087671074367, method='bisection', errormsg=None, context_dct=None) full_result [-7.08457083e-06  7.62799755e-06]\n",
      "[PairOptimizer.optimize] curves_t rETH-6393/WETH-6Cc2\n",
      "[PairOptimizer.optimize] p_optimal OptimizerBase.SimpleResult(result=1.0767087671119273, method='bisection', errormsg=None, context_dct=None) full_result [-9.73767601e-06  1.04848295e-05]\n"
     ]
    },
    {
     "data": {
      "text/plain": "0it [00:00, ?it/s]",
      "application/vnd.jupyter.widget-view+json": {
       "version_major": 2,
       "version_minor": 0,
       "model_id": "0e651ad21bc348b58bd0834578194dcb"
      }
     },
     "metadata": {},
     "output_type": "display_data"
    },
    {
     "data": {
      "text/plain": "0it [00:00, ?it/s]",
      "application/vnd.jupyter.widget-view+json": {
       "version_major": 2,
       "version_minor": 0,
       "model_id": "aa4df536644d4d68b8d6db59f65837dc"
      }
     },
     "metadata": {},
     "output_type": "display_data"
    },
    {
     "data": {
      "text/plain": "  0%|          | 0/1 [00:00<?, ?it/s]",
      "application/vnd.jupyter.widget-view+json": {
       "version_major": 2,
       "version_minor": 0,
       "model_id": "9a3f43dfaaaf4ea9bb6365f97dff11ea"
      }
     },
     "metadata": {},
     "output_type": "display_data"
    },
    {
     "name": "stdout",
     "output_type": "stream",
     "text": [
      "[PairOptimizer.optimize] curves_t icETH-6A84/WETH-6Cc2\n",
      "[PairOptimizer.optimize] p_optimal OptimizerBase.SimpleResult(result=1.0625676227365368, method='bisection', errormsg=None, context_dct=None) full_result [-7.29091880e-08  7.74703039e-08]\n"
     ]
    },
    {
     "data": {
      "text/plain": "0it [00:00, ?it/s]",
      "application/vnd.jupyter.widget-view+json": {
       "version_major": 2,
       "version_minor": 0,
       "model_id": "f58e52dac2864ac0a7d57b3f60358afc"
      }
     },
     "metadata": {},
     "output_type": "display_data"
    },
    {
     "data": {
      "text/plain": "  0%|          | 0/2 [00:00<?, ?it/s]",
      "application/vnd.jupyter.widget-view+json": {
       "version_major": 2,
       "version_minor": 0,
       "model_id": "dc596118ec004aca867a3ab25cb0182b"
      }
     },
     "metadata": {},
     "output_type": "display_data"
    },
    {
     "name": "stdout",
     "output_type": "stream",
     "text": [
      "[PairOptimizer.optimize] curves_t HEX-eb39/WETH-6Cc2\n",
      "[PairOptimizer.optimize] p_optimal OptimizerBase.SimpleResult(result=4.63904289749294e-06, method='bisection', errormsg=None, context_dct=None) full_result [ 2.47876970e+02 -2.55874718e-03]\n",
      "[PairOptimizer.optimize] curves_t HEX-eb39/WETH-6Cc2\n",
      "[PairOptimizer.optimize] p_optimal OptimizerBase.SimpleResult(result=4.6173659450547375e-06, method='bisection', errormsg=None, context_dct=None) full_result [ 1.71379994e+02 -2.21271301e-03]\n"
     ]
    },
    {
     "data": {
      "text/plain": "0it [00:00, ?it/s]",
      "application/vnd.jupyter.widget-view+json": {
       "version_major": 2,
       "version_minor": 0,
       "model_id": "dc4e0bf02f17482c976a279be2e611eb"
      }
     },
     "metadata": {},
     "output_type": "display_data"
    },
    {
     "data": {
      "text/plain": "  0%|          | 0/6 [00:00<?, ?it/s]",
      "application/vnd.jupyter.widget-view+json": {
       "version_major": 2,
       "version_minor": 0,
       "model_id": "2469a47eac514bf480b24eea71f361de"
      }
     },
     "metadata": {},
     "output_type": "display_data"
    },
    {
     "name": "stdout",
     "output_type": "stream",
     "text": [
      "[PairOptimizer.optimize] curves_t BNT-FF1C/USDC-eB48\n",
      "[PairOptimizer.optimize] p_optimal OptimizerBase.SimpleResult(result=0.39333884843841355, method='bisection', errormsg=None, context_dct=None) full_result [ 1.75605528e-05 -6.90715387e-06]\n",
      "[PairOptimizer.optimize] curves_t BNT-FF1C/USDC-eB48\n",
      "[PairOptimizer.optimize] p_optimal OptimizerBase.SimpleResult(result=0.3933388484490955, method='bisection', errormsg=None, context_dct=None) full_result [-1.94469467e-05  7.64918514e-06]\n",
      "[PairOptimizer.optimize] curves_t BNT-FF1C/USDC-eB48\n",
      "[PairOptimizer.optimize] p_optimal OptimizerBase.SimpleResult(result=0.39333884846937545, method='bisection', errormsg=None, context_dct=None) full_result [-8.97073187e-05  3.52852512e-05]\n",
      "[PairOptimizer.optimize] curves_t BNT-FF1C/USDC-eB48\n",
      "[PairOptimizer.optimize] p_optimal OptimizerBase.SimpleResult(result=0.39333884845532807, method='bisection', errormsg=None, context_dct=None) full_result [-4.10396606e-05  1.61423814e-05]\n",
      "[PairOptimizer.optimize] curves_t BNT-FF1C/USDC-eB48\n",
      "[PairOptimizer.optimize] p_optimal OptimizerBase.SimpleResult(result=0.3933379952731014, method='bisection', errormsg=None, context_dct=None) full_result [-2.52265013e-02 -2.94963829e-05]\n",
      "[PairOptimizer.optimize] curves_t BNT-FF1C/USDC-eB48\n",
      "[PairOptimizer.optimize] p_optimal OptimizerBase.SimpleResult(result=0.39333884846627104, method='bisection', errormsg=None, context_dct=None) full_result [-7.89514743e-05  3.10547184e-05]\n"
     ]
    },
    {
     "data": {
      "text/plain": "  0%|          | 0/4 [00:00<?, ?it/s]",
      "application/vnd.jupyter.widget-view+json": {
       "version_major": 2,
       "version_minor": 0,
       "model_id": "dc8c0db1bdc3409090227b141112621d"
      }
     },
     "metadata": {},
     "output_type": "display_data"
    },
    {
     "name": "stdout",
     "output_type": "stream",
     "text": [
      "[PairOptimizer.optimize] curves_t DAI-1d0F/USDC-eB48\n",
      "[PairOptimizer.optimize] p_optimal OptimizerBase.SimpleResult(result=1.0003813756215658, method='bisection', errormsg=None, context_dct=None) full_result [ 0.27017212 -0.27027893]\n",
      "[PairOptimizer.optimize] curves_t DAI-1d0F/USDC-eB48\n",
      "[PairOptimizer.optimize] p_optimal OptimizerBase.SimpleResult(result=1.0003813756365758, method='bisection', errormsg=None, context_dct=None) full_result [-0.19481659  0.19488525]\n",
      "[PairOptimizer.optimize] curves_t DAI-1d0F/USDC-eB48\n",
      "[PairOptimizer.optimize] p_optimal OptimizerBase.SimpleResult(result=0.9999799635362349, method='bisection', errormsg=None, context_dct=None) full_result [ 10.07507324 -10.0748291 ]\n",
      "[PairOptimizer.optimize] curves_t DAI-1d0F/USDC-eB48\n",
      "[PairOptimizer.optimize] p_optimal OptimizerBase.SimpleResult(result=0.9999799635754507, method='bisection', errormsg=None, context_dct=None) full_result [-0.39575195  0.39581299]\n"
     ]
    },
    {
     "data": {
      "text/plain": "  0%|          | 0/16 [00:00<?, ?it/s]",
      "application/vnd.jupyter.widget-view+json": {
       "version_major": 2,
       "version_minor": 0,
       "model_id": "a8309b85033b46c8924cd49526202032"
      }
     },
     "metadata": {},
     "output_type": "display_data"
    },
    {
     "name": "stdout",
     "output_type": "stream",
     "text": [
      "[PairOptimizer.optimize] curves_t WBTC-C599/USDC-eB48\n",
      "[PairOptimizer.optimize] p_optimal OptimizerBase.SimpleResult(result=30709.171178596996, method='bisection', errormsg=None, context_dct=None) full_result [-1.13686838e-13  1.86264515e-09]\n",
      "[PairOptimizer.optimize] curves_t WBTC-C599/USDC-eB48\n",
      "[PairOptimizer.optimize] p_optimal OptimizerBase.SimpleResult(result=30709.171178596982, method='bisection', errormsg=None, context_dct=None) full_result [ 0.00000000e+00 -9.31322575e-10]\n",
      "[PairOptimizer.optimize] curves_t WBTC-C599/USDC-eB48\n",
      "[PairOptimizer.optimize] p_optimal 30709.17117859699 full_result [-5.68434189e-14  0.00000000e+00]\n",
      "[FindArbitrageSinglePairwise] Exception:  'numpy.float64' object has no attribute 'is_error'\n",
      "[PairOptimizer.optimize] curves_t WBTC-C599/USDC-eB48\n",
      "[PairOptimizer.optimize] p_optimal OptimizerBase.SimpleResult(result=30709.17117859702, method='bisection', errormsg=None, context_dct=None) full_result [-1.70530257e-13  4.65661287e-09]\n",
      "[PairOptimizer.optimize] curves_t WBTC-C599/USDC-eB48\n",
      "[PairOptimizer.optimize] p_optimal OptimizerBase.SimpleResult(result=30709.171178596967, method='bisection', errormsg=None, context_dct=None) full_result [ 5.68434189e-14 -1.86264515e-09]\n",
      "[PairOptimizer.optimize] curves_t WBTC-C599/USDC-eB48\n",
      "[PairOptimizer.optimize] p_optimal OptimizerBase.SimpleResult(result=30709.171178597004, method='bisection', errormsg=None, context_dct=None) full_result [-1.13686838e-13  1.86264515e-09]\n",
      "[PairOptimizer.optimize] curves_t WBTC-C599/USDC-eB48\n",
      "[PairOptimizer.optimize] p_optimal OptimizerBase.SimpleResult(result=30708.392805083105, method='bisection', errormsg=None, context_dct=None) full_result [-2.90562348e-05 -2.85581336e-10]\n",
      "[PairOptimizer.optimize] curves_t WBTC-C599/USDC-eB48\n",
      "[PairOptimizer.optimize] p_optimal 30709.17117859699 full_result [-5.68434189e-14  0.00000000e+00]\n",
      "[FindArbitrageSinglePairwise] Exception:  'numpy.float64' object has no attribute 'is_error'\n",
      "[PairOptimizer.optimize] curves_t WBTC-C599/USDC-eB48\n",
      "[PairOptimizer.optimize] p_optimal 30681.1924500756 full_result [-9.09494702e-13  0.00000000e+00]\n",
      "[FindArbitrageSinglePairwise] Exception:  'numpy.float64' object has no attribute 'is_error'\n",
      "[PairOptimizer.optimize] curves_t WBTC-C599/USDC-eB48\n",
      "[PairOptimizer.optimize] p_optimal 30681.1924500756 full_result [-9.09494702e-13  0.00000000e+00]\n",
      "[FindArbitrageSinglePairwise] Exception:  'numpy.float64' object has no attribute 'is_error'\n",
      "[PairOptimizer.optimize] curves_t WBTC-C599/USDC-eB48\n",
      "[PairOptimizer.optimize] p_optimal OptimizerBase.SimpleResult(result=30681.19245007563, method='bisection', errormsg=None, context_dct=None) full_result [-2.72848411e-12  5.96046448e-08]\n",
      "[PairOptimizer.optimize] curves_t WBTC-C599/USDC-eB48\n",
      "[PairOptimizer.optimize] p_optimal OptimizerBase.SimpleResult(result=30681.192450075592, method='bisection', errormsg=None, context_dct=None) full_result [-9.09494702e-13  0.00000000e+00]\n",
      "[PairOptimizer.optimize] curves_t WBTC-C599/USDC-eB48\n",
      "[PairOptimizer.optimize] p_optimal 30681.192450075592 full_result [-9.09494702e-13  0.00000000e+00]\n",
      "[FindArbitrageSinglePairwise] Exception:  'numpy.float64' object has no attribute 'is_error'\n",
      "[PairOptimizer.optimize] curves_t WBTC-C599/USDC-eB48\n",
      "[PairOptimizer.optimize] p_optimal OptimizerBase.SimpleResult(result=30681.1924500756, method='bisection', errormsg=None, context_dct=None) full_result [-9.09494702e-13  0.00000000e+00]\n",
      "[PairOptimizer.optimize] curves_t WBTC-C599/USDC-eB48\n",
      "[PairOptimizer.optimize] p_optimal OptimizerBase.SimpleResult(result=30681.149356574755, method='bisection', errormsg=None, context_dct=None) full_result [-2.60232557e-05 -1.14014256e-08]\n",
      "[PairOptimizer.optimize] curves_t WBTC-C599/USDC-eB48\n",
      "[PairOptimizer.optimize] p_optimal OptimizerBase.SimpleResult(result=30681.19245007559, method='bisection', errormsg=None, context_dct=None) full_result [ 0.00000000e+00 -2.98023224e-08]\n"
     ]
    },
    {
     "data": {
      "text/plain": "  0%|          | 0/10 [00:00<?, ?it/s]",
      "application/vnd.jupyter.widget-view+json": {
       "version_major": 2,
       "version_minor": 0,
       "model_id": "b1ed07cf06b34fd2833bd36777a81494"
      }
     },
     "metadata": {},
     "output_type": "display_data"
    },
    {
     "name": "stdout",
     "output_type": "stream",
     "text": [
      "[PairOptimizer.optimize] curves_t USDT-1ec7/USDC-eB48\n",
      "[PairOptimizer.optimize] p_optimal OptimizerBase.SimpleResult(result=1.0000207903497311, method='bisection', errormsg=None, context_dct=None) full_result [ 7.05828857 -7.05841064]\n",
      "[PairOptimizer.optimize] curves_t USDT-1ec7/USDC-eB48\n",
      "[PairOptimizer.optimize] p_optimal OptimizerBase.SimpleResult(result=1.0000207904081506, method='bisection', errormsg=None, context_dct=None) full_result [-8.25445557  8.25463867]\n",
      "[PairOptimizer.optimize] curves_t USDT-1ec7/USDC-eB48\n",
      "[PairOptimizer.optimize] p_optimal OptimizerBase.SimpleResult(result=1.0000207904020626, method='bisection', errormsg=None, context_dct=None) full_result [-6.65869141  6.65881348]\n",
      "[PairOptimizer.optimize] curves_t USDT-1ec7/USDC-eB48\n",
      "[PairOptimizer.optimize] p_optimal OptimizerBase.SimpleResult(result=1.000020791638284, method='bisection', errormsg=None, context_dct=None) full_result [ 3.87104021 -3.98310679]\n",
      "[PairOptimizer.optimize] curves_t USDT-1ec7/USDC-eB48\n",
      "[PairOptimizer.optimize] p_optimal OptimizerBase.SimpleResult(result=1.000020790340398, method='bisection', errormsg=None, context_dct=None) full_result [ 9.50469971 -9.50488281]\n",
      "[PairOptimizer.optimize] curves_t USDT-1ec7/USDC-eB48\n",
      "[PairOptimizer.optimize] p_optimal OptimizerBase.SimpleResult(result=0.9999812258785822, method='bisection', errormsg=None, context_dct=None) full_result [-0.01484537  0.01484489]\n",
      "[PairOptimizer.optimize] curves_t USDT-1ec7/USDC-eB48\n",
      "[PairOptimizer.optimize] p_optimal OptimizerBase.SimpleResult(result=0.9999812258567959, method='bisection', errormsg=None, context_dct=None) full_result [ 0.02874136 -0.02874088]\n",
      "[PairOptimizer.optimize] curves_t USDT-1ec7/USDC-eB48\n",
      "[PairOptimizer.optimize] p_optimal OptimizerBase.SimpleResult(result=0.9999812258950511, method='bisection', errormsg=None, context_dct=None) full_result [-0.04779387  0.04779243]\n",
      "[PairOptimizer.optimize] curves_t USDT-1ec7/USDC-eB48\n",
      "[PairOptimizer.optimize] p_optimal OptimizerBase.SimpleResult(result=0.9999814030399359, method='bisection', errormsg=None, context_dct=None) full_result [-0.19806946  0.07246103]\n",
      "[PairOptimizer.optimize] curves_t USDT-1ec7/USDC-eB48\n",
      "[PairOptimizer.optimize] p_optimal OptimizerBase.SimpleResult(result=0.9999812258655427, method='bisection', errormsg=None, context_dct=None) full_result [ 0.01124191 -0.01124191]\n"
     ]
    },
    {
     "data": {
      "text/plain": "  0%|          | 0/54 [00:00<?, ?it/s]",
      "application/vnd.jupyter.widget-view+json": {
       "version_major": 2,
       "version_minor": 0,
       "model_id": "6630f2774de948d493e4fe17dd5cfc22"
      }
     },
     "metadata": {},
     "output_type": "display_data"
    },
    {
     "name": "stdout",
     "output_type": "stream",
     "text": [
      "[PairOptimizer.optimize] curves_t WETH-6Cc2/USDC-eB48\n",
      "[PairOptimizer.optimize] p_optimal OptimizerBase.SimpleResult(result=1888.9922146300491, method='bisection', errormsg=None, context_dct=None) full_result [ 8.73114914e-11 -1.19209290e-07]\n",
      "[PairOptimizer.optimize] curves_t WETH-6Cc2/USDC-eB48\n",
      "[PairOptimizer.optimize] p_optimal OptimizerBase.SimpleResult(result=1888.9922146300569, method='bisection', errormsg=None, context_dct=None) full_result [-2.91038305e-10  5.96046448e-07]\n",
      "[PairOptimizer.optimize] curves_t WETH-6Cc2/USDC-eB48\n",
      "[PairOptimizer.optimize] p_optimal OptimizerBase.SimpleResult(result=1888.9922146300253, method='bisection', errormsg=None, context_dct=None) full_result [ 1.19325705e-09 -2.26497650e-06]\n",
      "[PairOptimizer.optimize] curves_t WETH-6Cc2/USDC-eB48\n",
      "[PairOptimizer.optimize] p_optimal OptimizerBase.SimpleResult(result=1888.9922146300537, method='bisection', errormsg=None, context_dct=None) full_result [-1.45519152e-10  2.98023224e-07]\n",
      "[PairOptimizer.optimize] curves_t WETH-6Cc2/USDC-eB48\n",
      "[PairOptimizer.optimize] p_optimal OptimizerBase.SimpleResult(result=1888.9922146300496, method='bisection', errormsg=None, context_dct=None) full_result [ 5.82076609e-11 -5.96046448e-08]\n",
      "[PairOptimizer.optimize] curves_t WETH-6Cc2/USDC-eB48\n",
      "[PairOptimizer.optimize] p_optimal OptimizerBase.SimpleResult(result=1888.9922146300532, method='bisection', errormsg=None, context_dct=None) full_result [-1.16415322e-10  2.38418579e-07]\n",
      "[PairOptimizer.optimize] curves_t WETH-6Cc2/USDC-eB48\n",
      "[PairOptimizer.optimize] p_optimal OptimizerBase.SimpleResult(result=1888.9922146300578, method='bisection', errormsg=None, context_dct=None) full_result [-3.20142135e-10  6.55651093e-07]\n",
      "[PairOptimizer.optimize] curves_t WETH-6Cc2/USDC-eB48\n",
      "[PairOptimizer.optimize] p_optimal OptimizerBase.SimpleResult(result=1888.9922146300444, method='bisection', errormsg=None, context_dct=None) full_result [ 2.91038305e-10 -5.36441803e-07]\n",
      "[PairOptimizer.optimize] curves_t WETH-6Cc2/USDC-eB48\n",
      "[PairOptimizer.optimize] p_optimal OptimizerBase.SimpleResult(result=1888.9922146300455, method='bisection', errormsg=None, context_dct=None) full_result [ 2.32830644e-10 -4.17232513e-07]\n",
      "[PairOptimizer.optimize] curves_t WETH-6Cc2/USDC-eB48\n",
      "[PairOptimizer.optimize] p_optimal OptimizerBase.SimpleResult(result=1888.99221463004, method='bisection', errormsg=None, context_dct=None) full_result [ 4.94765118e-10 -9.53674316e-07]\n",
      "[PairOptimizer.optimize] curves_t WETH-6Cc2/USDC-eB48\n",
      "[PairOptimizer.optimize] p_optimal OptimizerBase.SimpleResult(result=1888.992214630059, method='bisection', errormsg=None, context_dct=None) full_result [-3.78349796e-10  7.15255737e-07]\n",
      "[PairOptimizer.optimize] curves_t WETH-6Cc2/USDC-eB48\n",
      "[PairOptimizer.optimize] p_optimal OptimizerBase.SimpleResult(result=1888.9922146300523, method='bisection', errormsg=None, context_dct=None) full_result [-8.73114914e-11  1.78813934e-07]\n",
      "[PairOptimizer.optimize] curves_t WETH-6Cc2/USDC-eB48\n",
      "[PairOptimizer.optimize] p_optimal OptimizerBase.SimpleResult(result=1888.9922146300391, method='bisection', errormsg=None, context_dct=None) full_result [ 5.23868948e-10 -1.01327896e-06]\n",
      "[PairOptimizer.optimize] curves_t WETH-6Cc2/USDC-eB48\n",
      "[PairOptimizer.optimize] p_optimal OptimizerBase.SimpleResult(result=1888.9922146300473, method='bisection', errormsg=None, context_dct=None) full_result [ 1.45519152e-10 -2.98023224e-07]\n",
      "[PairOptimizer.optimize] curves_t WETH-6Cc2/USDC-eB48\n",
      "[PairOptimizer.optimize] p_optimal OptimizerBase.SimpleResult(result=1888.9922146300362, method='bisection', errormsg=None, context_dct=None) full_result [ 6.98491931e-10 -1.31130219e-06]\n",
      "[PairOptimizer.optimize] curves_t WETH-6Cc2/USDC-eB48\n",
      "[PairOptimizer.optimize] p_optimal OptimizerBase.SimpleResult(result=1888.9922146300369, method='bisection', errormsg=None, context_dct=None) full_result [ 6.4028427e-10 -1.1920929e-06]\n",
      "[PairOptimizer.optimize] curves_t WETH-6Cc2/USDC-eB48\n",
      "[PairOptimizer.optimize] p_optimal OptimizerBase.SimpleResult(result=1888.992214630031, method='bisection', errormsg=None, context_dct=None) full_result [ 9.02218744e-10 -1.66893005e-06]\n",
      "[PairOptimizer.optimize] curves_t WETH-6Cc2/USDC-eB48\n",
      "[PairOptimizer.optimize] p_optimal OptimizerBase.SimpleResult(result=1888.9922146300394, method='bisection', errormsg=None, context_dct=None) full_result [ 5.23868948e-10 -1.01327896e-06]\n",
      "[PairOptimizer.optimize] curves_t WETH-6Cc2/USDC-eB48\n",
      "[PairOptimizer.optimize] p_optimal OptimizerBase.SimpleResult(result=1888.9922146300503, method='bisection', errormsg=None, context_dct=None) full_result [2.91038305e-11 0.00000000e+00]\n",
      "[PairOptimizer.optimize] curves_t WETH-6Cc2/USDC-eB48\n",
      "[PairOptimizer.optimize] p_optimal OptimizerBase.SimpleResult(result=1888.9922146300855, method='bisection', errormsg=None, context_dct=None) full_result [-1.62981451e-09  3.09944153e-06]\n",
      "[PairOptimizer.optimize] curves_t WETH-6Cc2/USDC-eB48\n",
      "[PairOptimizer.optimize] p_optimal OptimizerBase.SimpleResult(result=1888.9922146300478, method='bisection', errormsg=None, context_dct=None) full_result [ 1.45519152e-10 -2.38418579e-07]\n",
      "[PairOptimizer.optimize] curves_t WETH-6Cc2/USDC-eB48\n",
      "[PairOptimizer.optimize] p_optimal OptimizerBase.SimpleResult(result=1888.9922146300792, method='bisection', errormsg=None, context_dct=None) full_result [-1.33877620e-09  2.56299973e-06]\n",
      "[PairOptimizer.optimize] curves_t WETH-6Cc2/USDC-eB48\n",
      "[PairOptimizer.optimize] p_optimal OptimizerBase.SimpleResult(result=1888.9922146300391, method='bisection', errormsg=None, context_dct=None) full_result [ 5.23868948e-10 -1.01327896e-06]\n",
      "[PairOptimizer.optimize] curves_t WETH-6Cc2/USDC-eB48\n",
      "[PairOptimizer.optimize] p_optimal OptimizerBase.SimpleResult(result=1888.9922146300619, method='bisection', errormsg=None, context_dct=None) full_result [-5.23868948e-10  1.01327896e-06]\n",
      "[PairOptimizer.optimize] curves_t WETH-6Cc2/USDC-eB48\n",
      "[PairOptimizer.optimize] p_optimal OptimizerBase.SimpleResult(result=1888.9922050253144, method='bisection', errormsg=None, context_dct=None) full_result [-2.22688450e-05  8.56816769e-08]\n",
      "[PairOptimizer.optimize] curves_t WETH-6Cc2/USDC-eB48\n",
      "[PairOptimizer.optimize] p_optimal OptimizerBase.SimpleResult(result=1888.9922146300673, method='bisection', errormsg=None, context_dct=None) full_result [-7.85803422e-10  1.49011612e-06]\n",
      "[PairOptimizer.optimize] curves_t WETH-6Cc2/USDC-eB48\n",
      "[PairOptimizer.optimize] p_optimal OptimizerBase.SimpleResult(result=1888.9922146300664, method='bisection', errormsg=None, context_dct=None) full_result [-7.27595761e-10  1.37090683e-06]\n",
      "[PairOptimizer.optimize] curves_t WETH-6Cc2/USDC-eB48\n",
      "[PairOptimizer.optimize] p_optimal OptimizerBase.SimpleResult(result=1888.9922146300737, method='bisection', errormsg=None, context_dct=None) full_result [-1.07684173e-09  2.02655792e-06]\n",
      "[PairOptimizer.optimize] curves_t WETH-6Cc2/USDC-eB48\n",
      "[PairOptimizer.optimize] p_optimal OptimizerBase.SimpleResult(result=1888.9922146300778, method='bisection', errormsg=None, context_dct=None) full_result [-1.28056854e-09  2.44379044e-06]\n",
      "[PairOptimizer.optimize] curves_t WETH-6Cc2/USDC-eB48\n",
      "[PairOptimizer.optimize] p_optimal OptimizerBase.SimpleResult(result=1888.9922146300296, method='bisection', errormsg=None, context_dct=None) full_result [ 9.89530236e-10 -1.84774399e-06]\n",
      "[PairOptimizer.optimize] curves_t WETH-6Cc2/USDC-eB48\n",
      "[PairOptimizer.optimize] p_optimal OptimizerBase.SimpleResult(result=1888.9922146300314, method='bisection', errormsg=None, context_dct=None) full_result [ 9.02218744e-10 -1.66893005e-06]\n",
      "[PairOptimizer.optimize] curves_t WETH-6Cc2/USDC-eB48\n",
      "[PairOptimizer.optimize] p_optimal OptimizerBase.SimpleResult(result=1888.992214630077, method='bisection', errormsg=None, context_dct=None) full_result [-1.22236088e-09  2.32458115e-06]\n",
      "[PairOptimizer.optimize] curves_t WETH-6Cc2/USDC-eB48\n",
      "[PairOptimizer.optimize] p_optimal OptimizerBase.SimpleResult(result=1888.9922146300594, method='bisection', errormsg=None, context_dct=None) full_result [-4.07453626e-10  7.74860382e-07]\n",
      "[PairOptimizer.optimize] curves_t WETH-6Cc2/USDC-eB48\n",
      "[PairOptimizer.optimize] p_optimal OptimizerBase.SimpleResult(result=1888.9922146300491, method='bisection', errormsg=None, context_dct=None) full_result [ 8.73114914e-11 -1.19209290e-07]\n",
      "[PairOptimizer.optimize] curves_t WETH-6Cc2/USDC-eB48\n",
      "[PairOptimizer.optimize] p_optimal OptimizerBase.SimpleResult(result=1888.9922146300614, method='bisection', errormsg=None, context_dct=None) full_result [-4.94765118e-10  9.53674316e-07]\n",
      "[PairOptimizer.optimize] curves_t WETH-6Cc2/USDC-eB48\n",
      "[PairOptimizer.optimize] p_optimal OptimizerBase.SimpleResult(result=1888.992214630031, method='bisection', errormsg=None, context_dct=None) full_result [ 4.79416506e-10 -8.99430233e-07]\n",
      "[PairOptimizer.optimize] curves_t WETH-6Cc2/USDC-eB48\n",
      "[PairOptimizer.optimize] p_optimal OptimizerBase.SimpleResult(result=1888.99221463004, method='bisection', errormsg=None, context_dct=None) full_result [ 4.94765118e-10 -9.53674316e-07]\n",
      "[PairOptimizer.optimize] curves_t WETH-6Cc2/USDC-eB48\n",
      "[PairOptimizer.optimize] p_optimal OptimizerBase.SimpleResult(result=1888.9922146300391, method='bisection', errormsg=None, context_dct=None) full_result [ 5.23868948e-10 -1.01327896e-06]\n",
      "[PairOptimizer.optimize] curves_t WETH-6Cc2/USDC-eB48\n",
      "[PairOptimizer.optimize] p_optimal OptimizerBase.SimpleResult(result=1888.9922146300337, method='bisection', errormsg=None, context_dct=None) full_result [ 7.85803422e-10 -1.49011612e-06]\n",
      "[PairOptimizer.optimize] curves_t WETH-6Cc2/USDC-eB48\n",
      "[PairOptimizer.optimize] p_optimal OptimizerBase.SimpleResult(result=1888.9922146300673, method='bisection', errormsg=None, context_dct=None) full_result [-7.85803422e-10  1.49011612e-06]\n",
      "[PairOptimizer.optimize] curves_t WETH-6Cc2/USDC-eB48\n",
      "[PairOptimizer.optimize] p_optimal OptimizerBase.SimpleResult(result=1888.9922146300228, method='bisection', errormsg=None, context_dct=None) full_result [ 1.30967237e-09 -2.44379044e-06]\n",
      "[PairOptimizer.optimize] curves_t WETH-6Cc2/USDC-eB48\n",
      "[PairOptimizer.optimize] p_optimal OptimizerBase.SimpleResult(result=1888.992214630025, method='bisection', errormsg=None, context_dct=None) full_result [ 1.19325705e-09 -2.26497650e-06]\n",
      "[PairOptimizer.optimize] curves_t WETH-6Cc2/USDC-eB48\n",
      "[PairOptimizer.optimize] p_optimal OptimizerBase.SimpleResult(result=1888.9922146300191, method='bisection', errormsg=None, context_dct=None) full_result [ 1.48429535e-09 -2.80141830e-06]\n",
      "[PairOptimizer.optimize] curves_t WETH-6Cc2/USDC-eB48\n",
      "[PairOptimizer.optimize] p_optimal OptimizerBase.SimpleResult(result=1888.9922146300532, method='bisection', errormsg=None, context_dct=None) full_result [-1.16415322e-10  2.38418579e-07]\n",
      "[PairOptimizer.optimize] curves_t WETH-6Cc2/USDC-eB48\n",
      "[PairOptimizer.optimize] p_optimal OptimizerBase.SimpleResult(result=1888.9922146300728, method='bisection', errormsg=None, context_dct=None) full_result [-1.04773790e-09  1.96695328e-06]\n",
      "[PairOptimizer.optimize] curves_t WETH-6Cc2/USDC-eB48\n",
      "[PairOptimizer.optimize] p_optimal OptimizerBase.SimpleResult(result=1888.9922146300314, method='bisection', errormsg=None, context_dct=None) full_result [ 9.02218744e-10 -1.66893005e-06]\n",
      "[PairOptimizer.optimize] curves_t WETH-6Cc2/USDC-eB48\n",
      "[PairOptimizer.optimize] p_optimal OptimizerBase.SimpleResult(result=1888.9922146300853, method='bisection', errormsg=None, context_dct=None) full_result [-1.62981451e-09  3.09944153e-06]\n",
      "[PairOptimizer.optimize] curves_t WETH-6Cc2/USDC-eB48\n",
      "[PairOptimizer.optimize] p_optimal OptimizerBase.SimpleResult(result=1888.9922146300532, method='bisection', errormsg=None, context_dct=None) full_result [-1.16415322e-10  2.38418579e-07]\n",
      "[PairOptimizer.optimize] curves_t WETH-6Cc2/USDC-eB48\n",
      "[PairOptimizer.optimize] p_optimal OptimizerBase.SimpleResult(result=1888.9922146300314, method='bisection', errormsg=None, context_dct=None) full_result [ 9.02218744e-10 -1.66893005e-06]\n",
      "[PairOptimizer.optimize] curves_t WETH-6Cc2/USDC-eB48\n",
      "[PairOptimizer.optimize] p_optimal OptimizerBase.SimpleResult(result=1888.9922146300917, method='bisection', errormsg=None, context_dct=None) full_result [-1.92085281e-09  3.63588333e-06]\n",
      "[PairOptimizer.optimize] curves_t WETH-6Cc2/USDC-eB48\n",
      "[PairOptimizer.optimize] p_optimal OptimizerBase.SimpleResult(result=1888.9922146300532, method='bisection', errormsg=None, context_dct=None) full_result [-1.16415322e-10  2.38418579e-07]\n",
      "[PairOptimizer.optimize] curves_t WETH-6Cc2/USDC-eB48\n",
      "[PairOptimizer.optimize] p_optimal OptimizerBase.SimpleResult(result=1888.9922146300405, method='bisection', errormsg=None, context_dct=None) full_result [ 4.65661287e-10 -8.94069672e-07]\n",
      "[PairOptimizer.optimize] curves_t WETH-6Cc2/USDC-eB48\n",
      "[PairOptimizer.optimize] p_optimal OptimizerBase.SimpleResult(result=1888.9922146300532, method='bisection', errormsg=None, context_dct=None) full_result [-1.16415322e-10  2.38418579e-07]\n",
      "[PairOptimizer.optimize] curves_t WETH-6Cc2/USDC-eB48\n",
      "[PairOptimizer.optimize] p_optimal OptimizerBase.SimpleResult(result=1888.9922146300455, method='bisection', errormsg=None, context_dct=None) full_result [ 2.32830644e-10 -4.17232513e-07]\n"
     ]
    },
    {
     "data": {
      "text/plain": "0it [00:00, ?it/s]",
      "application/vnd.jupyter.widget-view+json": {
       "version_major": 2,
       "version_minor": 0,
       "model_id": "56252a95f91643908b6857c41e520d83"
      }
     },
     "metadata": {},
     "output_type": "display_data"
    },
    {
     "data": {
      "text/plain": "  0%|          | 0/1 [00:00<?, ?it/s]",
      "application/vnd.jupyter.widget-view+json": {
       "version_major": 2,
       "version_minor": 0,
       "model_id": "7c9a6f87a8064172a4f9bf01a4b39486"
      }
     },
     "metadata": {},
     "output_type": "display_data"
    },
    {
     "name": "stdout",
     "output_type": "stream",
     "text": [
      "[PairOptimizer.optimize] curves_t SMT-7173/WETH-6Cc2\n",
      "[PairOptimizer.optimize] p_optimal OptimizerBase.SimpleResult(result=3.412389120192642e-05, method='bisection', errormsg=None, context_dct=None) full_result [-2.28550270e-01  7.79902077e-06]\n"
     ]
    },
    {
     "data": {
      "text/plain": "0it [00:00, ?it/s]",
      "application/vnd.jupyter.widget-view+json": {
       "version_major": 2,
       "version_minor": 0,
       "model_id": "2be23a5a734141c5b800fb01729234bd"
      }
     },
     "metadata": {},
     "output_type": "display_data"
    },
    {
     "data": {
      "text/plain": "0it [00:00, ?it/s]",
      "application/vnd.jupyter.widget-view+json": {
       "version_major": 2,
       "version_minor": 0,
       "model_id": "6f8ae13df9554f00b67706355476609f"
      }
     },
     "metadata": {},
     "output_type": "display_data"
    },
    {
     "data": {
      "text/plain": "  0%|          | 0/4 [00:00<?, ?it/s]",
      "application/vnd.jupyter.widget-view+json": {
       "version_major": 2,
       "version_minor": 0,
       "model_id": "41fa5054501c44aeb021a6c854a82c79"
      }
     },
     "metadata": {},
     "output_type": "display_data"
    },
    {
     "name": "stdout",
     "output_type": "stream",
     "text": [
      "[PairOptimizer.optimize] curves_t WETH-6Cc2/BNT-FF1C\n",
      "[PairOptimizer.optimize] p_optimal OptimizerBase.SimpleResult(result=4764.127397630934, method='bisection', errormsg=None, context_dct=None) full_result [-2.08544293e-12 -2.38837026e+00]\n",
      "[PairOptimizer.optimize] curves_t WETH-6Cc2/BNT-FF1C\n",
      "[PairOptimizer.optimize] p_optimal OptimizerBase.SimpleResult(result=4764.138098143878, method='bisection', errormsg=None, context_dct=None) full_result [ 2.72848411e-12 -1.49011612e-08]\n",
      "[PairOptimizer.optimize] curves_t WETH-6Cc2/BNT-FF1C\n",
      "[PairOptimizer.optimize] p_optimal OptimizerBase.SimpleResult(result=4764.138098143918, method='bisection', errormsg=None, context_dct=None) full_result [-1.18234311e-11  5.58793545e-08]\n",
      "[PairOptimizer.optimize] curves_t WETH-6Cc2/BNT-FF1C\n",
      "[PairOptimizer.optimize] p_optimal OptimizerBase.SimpleResult(result=4764.138098143867, method='bisection', errormsg=None, context_dct=None) full_result [ 7.27595761e-12 -3.35276127e-08]\n"
     ]
    },
    {
     "data": {
      "text/plain": "  0%|          | 0/18 [00:00<?, ?it/s]",
      "application/vnd.jupyter.widget-view+json": {
       "version_major": 2,
       "version_minor": 0,
       "model_id": "ad716ed134f24fb08a6f13fa99084441"
      }
     },
     "metadata": {},
     "output_type": "display_data"
    },
    {
     "name": "stdout",
     "output_type": "stream",
     "text": [
      "[PairOptimizer.optimize] curves_t WETH-6Cc2/DAI-1d0F\n",
      "[PairOptimizer.optimize] p_optimal OptimizerBase.SimpleResult(result=1889.8516355281042, method='bisection', errormsg=None, context_dct=None) full_result [-2.25554686e-10  4.32133675e-07]\n",
      "[PairOptimizer.optimize] curves_t WETH-6Cc2/DAI-1d0F\n",
      "[PairOptimizer.optimize] p_optimal OptimizerBase.SimpleResult(result=1889.8516355281013, method='bisection', errormsg=None, context_dct=None) full_result [-1.89174898e-10  3.57627869e-07]\n",
      "[PairOptimizer.optimize] curves_t WETH-6Cc2/DAI-1d0F\n",
      "[PairOptimizer.optimize] p_optimal OptimizerBase.SimpleResult(result=1889.8516355280663, method='bisection', errormsg=None, context_dct=None) full_result [ 1.74622983e-10 -3.27825546e-07]\n",
      "[PairOptimizer.optimize] curves_t WETH-6Cc2/DAI-1d0F\n",
      "[PairOptimizer.optimize] p_optimal OptimizerBase.SimpleResult(result=1889.851635528079, method='bisection', errormsg=None, context_dct=None) full_result [ 3.63797881e-11 -7.45058060e-08]\n",
      "[PairOptimizer.optimize] curves_t WETH-6Cc2/DAI-1d0F\n",
      "[PairOptimizer.optimize] p_optimal OptimizerBase.SimpleResult(result=1889.8516355281054, method='bisection', errormsg=None, context_dct=None) full_result [-2.40106602e-10  4.47034836e-07]\n",
      "[PairOptimizer.optimize] curves_t WETH-6Cc2/DAI-1d0F\n",
      "[PairOptimizer.optimize] p_optimal OptimizerBase.SimpleResult(result=1889.8516355281217, method='bisection', errormsg=None, context_dct=None) full_result [-4.07453626e-10  7.59959221e-07]\n",
      "[PairOptimizer.optimize] curves_t WETH-6Cc2/DAI-1d0F\n",
      "[PairOptimizer.optimize] p_optimal OptimizerBase.SimpleResult(result=1889.8516355280967, method='bisection', errormsg=None, context_dct=None) full_result [-1.38243195e-10  2.68220901e-07]\n",
      "[PairOptimizer.optimize] curves_t WETH-6Cc2/DAI-1d0F\n",
      "[PairOptimizer.optimize] p_optimal OptimizerBase.SimpleResult(result=1889.8516355280508, method='bisection', errormsg=None, context_dct=None) full_result [ 3.34694050e-10 -6.40749931e-07]\n",
      "[PairOptimizer.optimize] curves_t WETH-6Cc2/DAI-1d0F\n",
      "[PairOptimizer.optimize] p_optimal OptimizerBase.SimpleResult(result=1889.8516355280644, method='bisection', errormsg=None, context_dct=None) full_result [ 1.89174898e-10 -3.57627869e-07]\n",
      "[PairOptimizer.optimize] curves_t WETH-6Cc2/DAI-1d0F\n",
      "[PairOptimizer.optimize] p_optimal OptimizerBase.SimpleResult(result=1889.2342508777633, method='bisection', errormsg=None, context_dct=None) full_result [ 1.85536919e-10 -3.50177288e-07]\n",
      "[PairOptimizer.optimize] curves_t WETH-6Cc2/DAI-1d0F\n",
      "[PairOptimizer.optimize] p_optimal OptimizerBase.SimpleResult(result=1889.2342508777883, method='bisection', errormsg=None, context_dct=None) full_result [-2.54658516e-11  5.21540642e-08]\n",
      "[PairOptimizer.optimize] curves_t WETH-6Cc2/DAI-1d0F\n",
      "[PairOptimizer.optimize] p_optimal OptimizerBase.SimpleResult(result=1889.2342508777967, method='bisection', errormsg=None, context_dct=None) full_result [-1.01863407e-10  1.93715096e-07]\n",
      "[PairOptimizer.optimize] curves_t WETH-6Cc2/DAI-1d0F\n",
      "[PairOptimizer.optimize] p_optimal OptimizerBase.SimpleResult(result=1889.23425087778, method='bisection', errormsg=None, context_dct=None) full_result [ 4.36557457e-11 -7.45058060e-08]\n",
      "[PairOptimizer.optimize] curves_t WETH-6Cc2/DAI-1d0F\n",
      "[PairOptimizer.optimize] p_optimal OptimizerBase.SimpleResult(result=1889.2342508777592, method='bisection', errormsg=None, context_dct=None) full_result [ 2.25554685e-10 -4.24683094e-07]\n",
      "[PairOptimizer.optimize] curves_t WETH-6Cc2/DAI-1d0F\n",
      "[PairOptimizer.optimize] p_optimal OptimizerBase.SimpleResult(result=1889.2342508778206, method='bisection', errormsg=None, context_dct=None) full_result [-3.09228199e-10  5.81145287e-07]\n",
      "[PairOptimizer.optimize] curves_t WETH-6Cc2/DAI-1d0F\n",
      "[PairOptimizer.optimize] p_optimal OptimizerBase.SimpleResult(result=1889.2342508777615, method='bisection', errormsg=None, context_dct=None) full_result [ 2.03726813e-10 -3.87430191e-07]\n",
      "[PairOptimizer.optimize] curves_t WETH-6Cc2/DAI-1d0F\n",
      "[PairOptimizer.optimize] p_optimal OptimizerBase.SimpleResult(result=1889.234250877789, method='bisection', errormsg=None, context_dct=None) full_result [-3.63797881e-11  7.45058060e-08]\n",
      "[PairOptimizer.optimize] curves_t WETH-6Cc2/DAI-1d0F\n",
      "[PairOptimizer.optimize] p_optimal OptimizerBase.SimpleResult(result=1889.2342508777924, method='bisection', errormsg=None, context_dct=None) full_result [-6.54836185e-11  1.26659870e-07]\n"
     ]
    },
    {
     "data": {
      "text/plain": "  0%|          | 0/54 [00:00<?, ?it/s]",
      "application/vnd.jupyter.widget-view+json": {
       "version_major": 2,
       "version_minor": 0,
       "model_id": "8dd80b7cf06249c2abb1b552b8f813eb"
      }
     },
     "metadata": {},
     "output_type": "display_data"
    },
    {
     "name": "stdout",
     "output_type": "stream",
     "text": [
      "[PairOptimizer.optimize] curves_t WETH-6Cc2/USDC-eB48\n",
      "[PairOptimizer.optimize] p_optimal OptimizerBase.SimpleResult(result=1888.9922146300491, method='bisection', errormsg=None, context_dct=None) full_result [ 8.73114914e-11 -1.19209290e-07]\n",
      "[PairOptimizer.optimize] curves_t WETH-6Cc2/USDC-eB48\n",
      "[PairOptimizer.optimize] p_optimal OptimizerBase.SimpleResult(result=1888.9922146300569, method='bisection', errormsg=None, context_dct=None) full_result [-2.91038305e-10  5.96046448e-07]\n",
      "[PairOptimizer.optimize] curves_t WETH-6Cc2/USDC-eB48\n",
      "[PairOptimizer.optimize] p_optimal OptimizerBase.SimpleResult(result=1888.9922146300253, method='bisection', errormsg=None, context_dct=None) full_result [ 1.19325705e-09 -2.26497650e-06]\n",
      "[PairOptimizer.optimize] curves_t WETH-6Cc2/USDC-eB48\n",
      "[PairOptimizer.optimize] p_optimal OptimizerBase.SimpleResult(result=1888.9922146300537, method='bisection', errormsg=None, context_dct=None) full_result [-1.45519152e-10  2.98023224e-07]\n",
      "[PairOptimizer.optimize] curves_t WETH-6Cc2/USDC-eB48\n",
      "[PairOptimizer.optimize] p_optimal OptimizerBase.SimpleResult(result=1888.9922146300496, method='bisection', errormsg=None, context_dct=None) full_result [ 5.82076609e-11 -5.96046448e-08]\n",
      "[PairOptimizer.optimize] curves_t WETH-6Cc2/USDC-eB48\n",
      "[PairOptimizer.optimize] p_optimal OptimizerBase.SimpleResult(result=1888.9922146300532, method='bisection', errormsg=None, context_dct=None) full_result [-1.16415322e-10  2.38418579e-07]\n",
      "[PairOptimizer.optimize] curves_t WETH-6Cc2/USDC-eB48\n",
      "[PairOptimizer.optimize] p_optimal OptimizerBase.SimpleResult(result=1888.9922146300578, method='bisection', errormsg=None, context_dct=None) full_result [-3.20142135e-10  6.55651093e-07]\n",
      "[PairOptimizer.optimize] curves_t WETH-6Cc2/USDC-eB48\n",
      "[PairOptimizer.optimize] p_optimal OptimizerBase.SimpleResult(result=1888.9922146300444, method='bisection', errormsg=None, context_dct=None) full_result [ 2.91038305e-10 -5.36441803e-07]\n",
      "[PairOptimizer.optimize] curves_t WETH-6Cc2/USDC-eB48\n",
      "[PairOptimizer.optimize] p_optimal OptimizerBase.SimpleResult(result=1888.9922146300455, method='bisection', errormsg=None, context_dct=None) full_result [ 2.32830644e-10 -4.17232513e-07]\n",
      "[PairOptimizer.optimize] curves_t WETH-6Cc2/USDC-eB48\n",
      "[PairOptimizer.optimize] p_optimal OptimizerBase.SimpleResult(result=1888.99221463004, method='bisection', errormsg=None, context_dct=None) full_result [ 4.94765118e-10 -9.53674316e-07]\n",
      "[PairOptimizer.optimize] curves_t WETH-6Cc2/USDC-eB48\n",
      "[PairOptimizer.optimize] p_optimal OptimizerBase.SimpleResult(result=1888.992214630059, method='bisection', errormsg=None, context_dct=None) full_result [-3.78349796e-10  7.15255737e-07]\n",
      "[PairOptimizer.optimize] curves_t WETH-6Cc2/USDC-eB48\n",
      "[PairOptimizer.optimize] p_optimal OptimizerBase.SimpleResult(result=1888.9922146300523, method='bisection', errormsg=None, context_dct=None) full_result [-8.73114914e-11  1.78813934e-07]\n",
      "[PairOptimizer.optimize] curves_t WETH-6Cc2/USDC-eB48\n",
      "[PairOptimizer.optimize] p_optimal OptimizerBase.SimpleResult(result=1888.9922146300391, method='bisection', errormsg=None, context_dct=None) full_result [ 5.23868948e-10 -1.01327896e-06]\n",
      "[PairOptimizer.optimize] curves_t WETH-6Cc2/USDC-eB48\n",
      "[PairOptimizer.optimize] p_optimal OptimizerBase.SimpleResult(result=1888.9922146300473, method='bisection', errormsg=None, context_dct=None) full_result [ 1.45519152e-10 -2.98023224e-07]\n",
      "[PairOptimizer.optimize] curves_t WETH-6Cc2/USDC-eB48\n",
      "[PairOptimizer.optimize] p_optimal OptimizerBase.SimpleResult(result=1888.9922146300362, method='bisection', errormsg=None, context_dct=None) full_result [ 6.98491931e-10 -1.31130219e-06]\n",
      "[PairOptimizer.optimize] curves_t WETH-6Cc2/USDC-eB48\n",
      "[PairOptimizer.optimize] p_optimal OptimizerBase.SimpleResult(result=1888.9922146300369, method='bisection', errormsg=None, context_dct=None) full_result [ 6.4028427e-10 -1.1920929e-06]\n",
      "[PairOptimizer.optimize] curves_t WETH-6Cc2/USDC-eB48\n",
      "[PairOptimizer.optimize] p_optimal OptimizerBase.SimpleResult(result=1888.992214630031, method='bisection', errormsg=None, context_dct=None) full_result [ 9.02218744e-10 -1.66893005e-06]\n",
      "[PairOptimizer.optimize] curves_t WETH-6Cc2/USDC-eB48\n",
      "[PairOptimizer.optimize] p_optimal OptimizerBase.SimpleResult(result=1888.9922146300394, method='bisection', errormsg=None, context_dct=None) full_result [ 5.23868948e-10 -1.01327896e-06]\n",
      "[PairOptimizer.optimize] curves_t WETH-6Cc2/USDC-eB48\n",
      "[PairOptimizer.optimize] p_optimal OptimizerBase.SimpleResult(result=1888.9922146300503, method='bisection', errormsg=None, context_dct=None) full_result [2.91038305e-11 0.00000000e+00]\n",
      "[PairOptimizer.optimize] curves_t WETH-6Cc2/USDC-eB48\n",
      "[PairOptimizer.optimize] p_optimal OptimizerBase.SimpleResult(result=1888.9922146300855, method='bisection', errormsg=None, context_dct=None) full_result [-1.62981451e-09  3.09944153e-06]\n",
      "[PairOptimizer.optimize] curves_t WETH-6Cc2/USDC-eB48\n",
      "[PairOptimizer.optimize] p_optimal OptimizerBase.SimpleResult(result=1888.9922146300478, method='bisection', errormsg=None, context_dct=None) full_result [ 1.45519152e-10 -2.38418579e-07]\n",
      "[PairOptimizer.optimize] curves_t WETH-6Cc2/USDC-eB48\n",
      "[PairOptimizer.optimize] p_optimal OptimizerBase.SimpleResult(result=1888.9922146300792, method='bisection', errormsg=None, context_dct=None) full_result [-1.33877620e-09  2.56299973e-06]\n",
      "[PairOptimizer.optimize] curves_t WETH-6Cc2/USDC-eB48\n",
      "[PairOptimizer.optimize] p_optimal OptimizerBase.SimpleResult(result=1888.9922146300391, method='bisection', errormsg=None, context_dct=None) full_result [ 5.23868948e-10 -1.01327896e-06]\n",
      "[PairOptimizer.optimize] curves_t WETH-6Cc2/USDC-eB48\n",
      "[PairOptimizer.optimize] p_optimal OptimizerBase.SimpleResult(result=1888.9922146300619, method='bisection', errormsg=None, context_dct=None) full_result [-5.23868948e-10  1.01327896e-06]\n",
      "[PairOptimizer.optimize] curves_t WETH-6Cc2/USDC-eB48\n",
      "[PairOptimizer.optimize] p_optimal OptimizerBase.SimpleResult(result=1888.9922045504713, method='bisection', errormsg=None, context_dct=None) full_result [-7.76708475e-10 -4.20641638e-02]\n",
      "[PairOptimizer.optimize] curves_t WETH-6Cc2/USDC-eB48\n",
      "[PairOptimizer.optimize] p_optimal OptimizerBase.SimpleResult(result=1888.9922146300673, method='bisection', errormsg=None, context_dct=None) full_result [-7.85803422e-10  1.49011612e-06]\n",
      "[PairOptimizer.optimize] curves_t WETH-6Cc2/USDC-eB48\n",
      "[PairOptimizer.optimize] p_optimal OptimizerBase.SimpleResult(result=1888.9922146300664, method='bisection', errormsg=None, context_dct=None) full_result [-7.27595761e-10  1.37090683e-06]\n",
      "[PairOptimizer.optimize] curves_t WETH-6Cc2/USDC-eB48\n",
      "[PairOptimizer.optimize] p_optimal OptimizerBase.SimpleResult(result=1888.9922146300737, method='bisection', errormsg=None, context_dct=None) full_result [-1.07684173e-09  2.02655792e-06]\n",
      "[PairOptimizer.optimize] curves_t WETH-6Cc2/USDC-eB48\n",
      "[PairOptimizer.optimize] p_optimal OptimizerBase.SimpleResult(result=1888.9922146300778, method='bisection', errormsg=None, context_dct=None) full_result [-1.28056854e-09  2.44379044e-06]\n",
      "[PairOptimizer.optimize] curves_t WETH-6Cc2/USDC-eB48\n",
      "[PairOptimizer.optimize] p_optimal OptimizerBase.SimpleResult(result=1888.9922146300296, method='bisection', errormsg=None, context_dct=None) full_result [ 9.89530236e-10 -1.84774399e-06]\n",
      "[PairOptimizer.optimize] curves_t WETH-6Cc2/USDC-eB48\n",
      "[PairOptimizer.optimize] p_optimal OptimizerBase.SimpleResult(result=1888.9922146300314, method='bisection', errormsg=None, context_dct=None) full_result [ 9.02218744e-10 -1.66893005e-06]\n",
      "[PairOptimizer.optimize] curves_t WETH-6Cc2/USDC-eB48\n",
      "[PairOptimizer.optimize] p_optimal OptimizerBase.SimpleResult(result=1888.992214630077, method='bisection', errormsg=None, context_dct=None) full_result [-1.22236088e-09  2.32458115e-06]\n",
      "[PairOptimizer.optimize] curves_t WETH-6Cc2/USDC-eB48\n",
      "[PairOptimizer.optimize] p_optimal OptimizerBase.SimpleResult(result=1888.9922146300594, method='bisection', errormsg=None, context_dct=None) full_result [-4.07453626e-10  7.74860382e-07]\n",
      "[PairOptimizer.optimize] curves_t WETH-6Cc2/USDC-eB48\n",
      "[PairOptimizer.optimize] p_optimal OptimizerBase.SimpleResult(result=1888.9922146300491, method='bisection', errormsg=None, context_dct=None) full_result [ 8.73114914e-11 -1.19209290e-07]\n",
      "[PairOptimizer.optimize] curves_t WETH-6Cc2/USDC-eB48\n",
      "[PairOptimizer.optimize] p_optimal OptimizerBase.SimpleResult(result=1888.9922146300614, method='bisection', errormsg=None, context_dct=None) full_result [-4.94765118e-10  9.53674316e-07]\n",
      "[PairOptimizer.optimize] curves_t WETH-6Cc2/USDC-eB48\n",
      "[PairOptimizer.optimize] p_optimal OptimizerBase.SimpleResult(result=1888.992214630031, method='bisection', errormsg=None, context_dct=None) full_result [ 4.79416506e-10 -8.99430233e-07]\n",
      "[PairOptimizer.optimize] curves_t WETH-6Cc2/USDC-eB48\n",
      "[PairOptimizer.optimize] p_optimal OptimizerBase.SimpleResult(result=1888.99221463004, method='bisection', errormsg=None, context_dct=None) full_result [ 4.94765118e-10 -9.53674316e-07]\n",
      "[PairOptimizer.optimize] curves_t WETH-6Cc2/USDC-eB48\n",
      "[PairOptimizer.optimize] p_optimal OptimizerBase.SimpleResult(result=1888.9922146300391, method='bisection', errormsg=None, context_dct=None) full_result [ 5.23868948e-10 -1.01327896e-06]\n",
      "[PairOptimizer.optimize] curves_t WETH-6Cc2/USDC-eB48\n",
      "[PairOptimizer.optimize] p_optimal OptimizerBase.SimpleResult(result=1888.9922146300337, method='bisection', errormsg=None, context_dct=None) full_result [ 7.85803422e-10 -1.49011612e-06]\n",
      "[PairOptimizer.optimize] curves_t WETH-6Cc2/USDC-eB48\n",
      "[PairOptimizer.optimize] p_optimal OptimizerBase.SimpleResult(result=1888.9922146300673, method='bisection', errormsg=None, context_dct=None) full_result [-7.85803422e-10  1.49011612e-06]\n",
      "[PairOptimizer.optimize] curves_t WETH-6Cc2/USDC-eB48\n",
      "[PairOptimizer.optimize] p_optimal OptimizerBase.SimpleResult(result=1888.9922146300228, method='bisection', errormsg=None, context_dct=None) full_result [ 1.30967237e-09 -2.44379044e-06]\n",
      "[PairOptimizer.optimize] curves_t WETH-6Cc2/USDC-eB48\n",
      "[PairOptimizer.optimize] p_optimal OptimizerBase.SimpleResult(result=1888.992214630025, method='bisection', errormsg=None, context_dct=None) full_result [ 1.19325705e-09 -2.26497650e-06]\n",
      "[PairOptimizer.optimize] curves_t WETH-6Cc2/USDC-eB48\n",
      "[PairOptimizer.optimize] p_optimal OptimizerBase.SimpleResult(result=1888.9922146300191, method='bisection', errormsg=None, context_dct=None) full_result [ 1.48429535e-09 -2.80141830e-06]\n",
      "[PairOptimizer.optimize] curves_t WETH-6Cc2/USDC-eB48\n",
      "[PairOptimizer.optimize] p_optimal OptimizerBase.SimpleResult(result=1888.9922146300532, method='bisection', errormsg=None, context_dct=None) full_result [-1.16415322e-10  2.38418579e-07]\n",
      "[PairOptimizer.optimize] curves_t WETH-6Cc2/USDC-eB48\n",
      "[PairOptimizer.optimize] p_optimal OptimizerBase.SimpleResult(result=1888.9922146300728, method='bisection', errormsg=None, context_dct=None) full_result [-1.04773790e-09  1.96695328e-06]\n",
      "[PairOptimizer.optimize] curves_t WETH-6Cc2/USDC-eB48\n",
      "[PairOptimizer.optimize] p_optimal OptimizerBase.SimpleResult(result=1888.9922146300314, method='bisection', errormsg=None, context_dct=None) full_result [ 9.02218744e-10 -1.66893005e-06]\n",
      "[PairOptimizer.optimize] curves_t WETH-6Cc2/USDC-eB48\n",
      "[PairOptimizer.optimize] p_optimal OptimizerBase.SimpleResult(result=1888.9922146300853, method='bisection', errormsg=None, context_dct=None) full_result [-1.62981451e-09  3.09944153e-06]\n",
      "[PairOptimizer.optimize] curves_t WETH-6Cc2/USDC-eB48\n",
      "[PairOptimizer.optimize] p_optimal OptimizerBase.SimpleResult(result=1888.9922146300532, method='bisection', errormsg=None, context_dct=None) full_result [-1.16415322e-10  2.38418579e-07]\n",
      "[PairOptimizer.optimize] curves_t WETH-6Cc2/USDC-eB48\n",
      "[PairOptimizer.optimize] p_optimal OptimizerBase.SimpleResult(result=1888.9922146300314, method='bisection', errormsg=None, context_dct=None) full_result [ 9.02218744e-10 -1.66893005e-06]\n",
      "[PairOptimizer.optimize] curves_t WETH-6Cc2/USDC-eB48\n",
      "[PairOptimizer.optimize] p_optimal OptimizerBase.SimpleResult(result=1888.9922146300917, method='bisection', errormsg=None, context_dct=None) full_result [-1.92085281e-09  3.63588333e-06]\n",
      "[PairOptimizer.optimize] curves_t WETH-6Cc2/USDC-eB48\n",
      "[PairOptimizer.optimize] p_optimal OptimizerBase.SimpleResult(result=1888.9922146300532, method='bisection', errormsg=None, context_dct=None) full_result [-1.16415322e-10  2.38418579e-07]\n",
      "[PairOptimizer.optimize] curves_t WETH-6Cc2/USDC-eB48\n",
      "[PairOptimizer.optimize] p_optimal OptimizerBase.SimpleResult(result=1888.9922146300405, method='bisection', errormsg=None, context_dct=None) full_result [ 4.65661287e-10 -8.94069672e-07]\n",
      "[PairOptimizer.optimize] curves_t WETH-6Cc2/USDC-eB48\n",
      "[PairOptimizer.optimize] p_optimal OptimizerBase.SimpleResult(result=1888.9922146300532, method='bisection', errormsg=None, context_dct=None) full_result [-1.16415322e-10  2.38418579e-07]\n",
      "[PairOptimizer.optimize] curves_t WETH-6Cc2/USDC-eB48\n",
      "[PairOptimizer.optimize] p_optimal OptimizerBase.SimpleResult(result=1888.9922146300455, method='bisection', errormsg=None, context_dct=None) full_result [ 2.32830644e-10 -4.17232513e-07]\n"
     ]
    },
    {
     "data": {
      "text/plain": "  0%|          | 0/16 [00:00<?, ?it/s]",
      "application/vnd.jupyter.widget-view+json": {
       "version_major": 2,
       "version_minor": 0,
       "model_id": "bb4073d61d23437cb3d68b1909001503"
      }
     },
     "metadata": {},
     "output_type": "display_data"
    },
    {
     "name": "stdout",
     "output_type": "stream",
     "text": [
      "[PairOptimizer.optimize] curves_t WBTC-C599/WETH-6Cc2\n",
      "[PairOptimizer.optimize] p_optimal OptimizerBase.SimpleResult(result=16.25127735727674, method='bisection', errormsg=None, context_dct=None) full_result [-1.39116310e-08  2.26078555e-07]\n",
      "[PairOptimizer.optimize] curves_t WBTC-C599/WETH-6Cc2\n",
      "[PairOptimizer.optimize] p_optimal OptimizerBase.SimpleResult(result=16.251277357210903, method='bisection', errormsg=None, context_dct=None) full_result [ 9.79060477e-09 -1.62155537e-07]\n",
      "[PairOptimizer.optimize] curves_t WBTC-C599/WETH-6Cc2\n",
      "[PairOptimizer.optimize] p_optimal OptimizerBase.SimpleResult(result=16.25127735723521, method='bisection', errormsg=None, context_dct=None) full_result [ 7.34507921e-09 -1.19383913e-07]\n",
      "[PairOptimizer.optimize] curves_t WBTC-C599/WETH-6Cc2\n",
      "[PairOptimizer.optimize] p_optimal OptimizerBase.SimpleResult(result=16.251277357269036, method='bisection', errormsg=None, context_dct=None) full_result [-9.96806193e-09  1.61991920e-07]\n",
      "[PairOptimizer.optimize] curves_t WBTC-C599/WETH-6Cc2\n",
      "[PairOptimizer.optimize] p_optimal OptimizerBase.SimpleResult(result=16.251277357223323, method='bisection', errormsg=None, context_dct=None) full_result [ 1.34314178e-08 -2.18278728e-07]\n",
      "[PairOptimizer.optimize] curves_t WBTC-C599/WETH-6Cc2\n",
      "[PairOptimizer.optimize] p_optimal OptimizerBase.SimpleResult(result=16.25127735723416, method='bisection', errormsg=None, context_dct=None) full_result [ 7.88713805e-09 -1.28115062e-07]\n",
      "[PairOptimizer.optimize] curves_t WBTC-C599/WETH-6Cc2\n",
      "[PairOptimizer.optimize] p_optimal OptimizerBase.SimpleResult(result=16.25127564709433, method='bisection', errormsg=None, context_dct=None) full_result [-5.10353928e-08  2.70214628e-07]\n",
      "[PairOptimizer.optimize] curves_t WBTC-C599/WETH-6Cc2\n",
      "[PairOptimizer.optimize] p_optimal OptimizerBase.SimpleResult(result=16.25127735725026, method='bisection', errormsg=None, context_dct=None) full_result [-3.56521923e-10  5.76255843e-09]\n",
      "[PairOptimizer.optimize] curves_t WBTC-C599/WETH-6Cc2\n",
      "[PairOptimizer.optimize] p_optimal OptimizerBase.SimpleResult(result=16.262500335184633, method='bisection', errormsg=None, context_dct=None) full_result [ 1.16415322e-09 -1.89756975e-08]\n",
      "[PairOptimizer.optimize] curves_t WBTC-C599/WETH-6Cc2\n",
      "[PairOptimizer.optimize] p_optimal OptimizerBase.SimpleResult(result=16.26250033520447, method='bisection', errormsg=None, context_dct=None) full_result [-3.23444658e-08  5.22832217e-07]\n",
      "[PairOptimizer.optimize] curves_t WBTC-C599/WETH-6Cc2\n",
      "[PairOptimizer.optimize] p_optimal OptimizerBase.SimpleResult(result=16.26250033520776, method='bisection', errormsg=None, context_dct=None) full_result [-2.62516551e-08  4.26894985e-07]\n",
      "[PairOptimizer.optimize] curves_t WBTC-C599/WETH-6Cc2\n",
      "[PairOptimizer.optimize] p_optimal OptimizerBase.SimpleResult(result=16.262500335150982, method='bisection', errormsg=None, context_dct=None) full_result [ 4.10509529e-08 -6.67641871e-07]\n",
      "[PairOptimizer.optimize] curves_t WBTC-C599/WETH-6Cc2\n",
      "[PairOptimizer.optimize] p_optimal OptimizerBase.SimpleResult(result=16.262500335167502, method='bisection', errormsg=None, context_dct=None) full_result [ 2.1464075e-08 -3.4912955e-07]\n",
      "[PairOptimizer.optimize] curves_t WBTC-C599/WETH-6Cc2\n",
      "[PairOptimizer.optimize] p_optimal OptimizerBase.SimpleResult(result=16.262500335153014, method='bisection', errormsg=None, context_dct=None) full_result [ 3.86353349e-08 -6.28409907e-07]\n",
      "[PairOptimizer.optimize] curves_t WBTC-C599/WETH-6Cc2\n",
      "[PairOptimizer.optimize] p_optimal OptimizerBase.SimpleResult(result=16.26249310669297, method='bisection', errormsg=None, context_dct=None) full_result [-3.28784375e-06 -1.07553376e-07]\n",
      "[PairOptimizer.optimize] curves_t WBTC-C599/WETH-6Cc2\n",
      "[PairOptimizer.optimize] p_optimal OptimizerBase.SimpleResult(result=16.262500335210227, method='bisection', errormsg=None, context_dct=None) full_result [-2.91693141e-08  4.74392436e-07]\n"
     ]
    },
    {
     "data": {
      "text/plain": "  0%|          | 0/39 [00:00<?, ?it/s]",
      "application/vnd.jupyter.widget-view+json": {
       "version_major": 2,
       "version_minor": 0,
       "model_id": "e178476a19d14e96aec404b557ece5a9"
      }
     },
     "metadata": {},
     "output_type": "display_data"
    },
    {
     "name": "stdout",
     "output_type": "stream",
     "text": [
      "[PairOptimizer.optimize] curves_t WETH-6Cc2/USDT-1ec7\n",
      "[PairOptimizer.optimize] p_optimal OptimizerBase.SimpleResult(result=1890.390259964137, method='bisection', errormsg=None, context_dct=None) full_result [-2.06273398e-09 -2.01165676e-07]\n",
      "[PairOptimizer.optimize] curves_t WETH-6Cc2/USDT-1ec7\n",
      "[PairOptimizer.optimize] p_optimal OptimizerBase.SimpleResult(result=1890.3902598801692, method='bisection', errormsg=None, context_dct=None) full_result [ 8.73114914e-10 -1.66893005e-06]\n",
      "[PairOptimizer.optimize] curves_t WETH-6Cc2/USDT-1ec7\n",
      "[PairOptimizer.optimize] p_optimal OptimizerBase.SimpleResult(result=1890.390259880171, method='bisection', errormsg=None, context_dct=None) full_result [ 6.98491931e-10 -1.31130219e-06]\n",
      "[PairOptimizer.optimize] curves_t WETH-6Cc2/USDT-1ec7\n",
      "[PairOptimizer.optimize] p_optimal OptimizerBase.SimpleResult(result=1890.390259880202, method='bisection', errormsg=None, context_dct=None) full_result [-1.80443749e-09  3.33786011e-06]\n",
      "[PairOptimizer.optimize] curves_t WETH-6Cc2/USDT-1ec7\n",
      "[PairOptimizer.optimize] p_optimal 1890.3902598801792 full_result [0. 0.]\n",
      "[FindArbitrageSinglePairwise] Exception:  'numpy.float64' object has no attribute 'is_error'\n",
      "[PairOptimizer.optimize] curves_t WETH-6Cc2/USDT-1ec7\n",
      "[PairOptimizer.optimize] p_optimal OptimizerBase.SimpleResult(result=1890.3902598801692, method='bisection', errormsg=None, context_dct=None) full_result [ 8.73114914e-10 -1.66893005e-06]\n",
      "[PairOptimizer.optimize] curves_t WETH-6Cc2/USDT-1ec7\n",
      "[PairOptimizer.optimize] p_optimal OptimizerBase.SimpleResult(result=1890.3902598801506, method='bisection', errormsg=None, context_dct=None) full_result [ 2.32830644e-09 -4.41074371e-06]\n",
      "[PairOptimizer.optimize] curves_t WETH-6Cc2/USDT-1ec7\n",
      "[PairOptimizer.optimize] p_optimal OptimizerBase.SimpleResult(result=1890.390270015705, method='bisection', errormsg=None, context_dct=None) full_result [-1.99181471e-09 -2.81728330e-02]\n",
      "[PairOptimizer.optimize] curves_t WETH-6Cc2/USDT-1ec7\n",
      "[PairOptimizer.optimize] p_optimal OptimizerBase.SimpleResult(result=1890.3902598801637, method='bisection', errormsg=None, context_dct=None) full_result [ 1.28056854e-09 -2.50339508e-06]\n",
      "[PairOptimizer.optimize] curves_t WETH-6Cc2/USDT-1ec7\n",
      "[PairOptimizer.optimize] p_optimal OptimizerBase.SimpleResult(result=1890.390259880181, method='bisection', errormsg=None, context_dct=None) full_result [-1.16415322e-10  1.19209290e-07]\n",
      "[PairOptimizer.optimize] curves_t WETH-6Cc2/USDT-1ec7\n",
      "[PairOptimizer.optimize] p_optimal OptimizerBase.SimpleResult(result=1890.3902598801799, method='bisection', errormsg=None, context_dct=None) full_result [-5.82076609e-11  0.00000000e+00]\n",
      "[PairOptimizer.optimize] curves_t WETH-6Cc2/USDT-1ec7\n",
      "[PairOptimizer.optimize] p_optimal OptimizerBase.SimpleResult(result=1890.3902598801478, method='bisection', errormsg=None, context_dct=None) full_result [ 2.56113708e-09 -4.76837158e-06]\n",
      "[PairOptimizer.optimize] curves_t WETH-6Cc2/USDT-1ec7\n",
      "[PairOptimizer.optimize] p_optimal OptimizerBase.SimpleResult(result=1890.390259880165, method='bisection', errormsg=None, context_dct=None) full_result [ 1.16415322e-09 -2.14576721e-06]\n",
      "[PairOptimizer.optimize] curves_t WETH-6Cc2/USDT-1ec7\n",
      "[PairOptimizer.optimize] p_optimal OptimizerBase.SimpleResult(result=1889.1458891677153, method='bisection', errormsg=None, context_dct=None) full_result [ 8.18545232e-10 -1.40294433e-05]\n",
      "[PairOptimizer.optimize] curves_t WETH-6Cc2/USDT-1ec7\n",
      "[PairOptimizer.optimize] p_optimal OptimizerBase.SimpleResult(result=1889.145888875987, method='bisection', errormsg=None, context_dct=None) full_result [-6.11180440e-10  1.16229057e-06]\n",
      "[PairOptimizer.optimize] curves_t WETH-6Cc2/USDT-1ec7\n",
      "[PairOptimizer.optimize] p_optimal 1889.1458888759603 full_result [0. 0.]\n",
      "[FindArbitrageSinglePairwise] Exception:  'numpy.float64' object has no attribute 'is_error'\n",
      "[PairOptimizer.optimize] curves_t WETH-6Cc2/USDT-1ec7\n",
      "[PairOptimizer.optimize] p_optimal OptimizerBase.SimpleResult(result=1889.1458888759319, method='bisection', errormsg=None, context_dct=None) full_result [ 6.69388101e-10 -1.25169754e-06]\n",
      "[PairOptimizer.optimize] curves_t WETH-6Cc2/USDT-1ec7\n",
      "[PairOptimizer.optimize] p_optimal OptimizerBase.SimpleResult(result=1889.1458888759628, method='bisection', errormsg=None, context_dct=None) full_result [-5.82076609e-11  1.19209290e-07]\n",
      "[PairOptimizer.optimize] curves_t WETH-6Cc2/USDT-1ec7\n",
      "[PairOptimizer.optimize] p_optimal OptimizerBase.SimpleResult(result=1889.145888875937, method='bisection', errormsg=None, context_dct=None) full_result [ 5.38420863e-10 -1.01327896e-06]\n",
      "[PairOptimizer.optimize] curves_t WETH-6Cc2/USDT-1ec7\n",
      "[PairOptimizer.optimize] p_optimal OptimizerBase.SimpleResult(result=1889.1458888759466, method='bisection', errormsg=None, context_dct=None) full_result [ 3.20142135e-10 -6.25848770e-07]\n",
      "[PairOptimizer.optimize] curves_t WETH-6Cc2/USDT-1ec7\n",
      "[PairOptimizer.optimize] p_optimal OptimizerBase.SimpleResult(result=1889.145924112454, method='bisection', errormsg=None, context_dct=None) full_result [-5.07519360e-10 -2.91877212e-02]\n",
      "[PairOptimizer.optimize] curves_t WETH-6Cc2/USDT-1ec7\n",
      "[PairOptimizer.optimize] p_optimal OptimizerBase.SimpleResult(result=1889.145888875984, method='bisection', errormsg=None, context_dct=None) full_result [-5.52972779e-10  1.04308128e-06]\n",
      "[PairOptimizer.optimize] curves_t WETH-6Cc2/USDT-1ec7\n",
      "[PairOptimizer.optimize] p_optimal OptimizerBase.SimpleResult(result=1889.1458888759767, method='bisection', errormsg=None, context_dct=None) full_result [-3.78349796e-10  7.15255737e-07]\n",
      "[PairOptimizer.optimize] curves_t WETH-6Cc2/USDT-1ec7\n",
      "[PairOptimizer.optimize] p_optimal OptimizerBase.SimpleResult(result=1889.1458888759503, method='bisection', errormsg=None, context_dct=None) full_result [ 2.32830644e-10 -4.47034836e-07]\n",
      "[PairOptimizer.optimize] curves_t WETH-6Cc2/USDT-1ec7\n",
      "[PairOptimizer.optimize] p_optimal OptimizerBase.SimpleResult(result=1889.1458888759323, method='bisection', errormsg=None, context_dct=None) full_result [ 6.54836185e-10 -1.22189522e-06]\n",
      "[PairOptimizer.optimize] curves_t WETH-6Cc2/USDT-1ec7\n",
      "[PairOptimizer.optimize] p_optimal OptimizerBase.SimpleResult(result=1889.1458888759523, method='bisection', errormsg=None, context_dct=None) full_result [ 1.74622983e-10 -3.27825546e-07]\n",
      "[PairOptimizer.optimize] curves_t WETH-6Cc2/USDT-1ec7\n",
      "[PairOptimizer.optimize] p_optimal OptimizerBase.SimpleResult(result=1881.7106092872837, method='bisection', errormsg=None, context_dct=None) full_result [-3.63797881e-11 -6.24954700e-05]\n",
      "[PairOptimizer.optimize] curves_t WETH-6Cc2/USDT-1ec7\n",
      "[PairOptimizer.optimize] p_optimal OptimizerBase.SimpleResult(result=1881.7106081912802, method='bisection', errormsg=None, context_dct=None) full_result [-1.85536919e-10  3.50177288e-07]\n",
      "[PairOptimizer.optimize] curves_t WETH-6Cc2/USDT-1ec7\n",
      "[PairOptimizer.optimize] p_optimal OptimizerBase.SimpleResult(result=1881.7106081912625, method='bisection', errormsg=None, context_dct=None) full_result [-7.63975549e-11  1.41561031e-07]\n",
      "[PairOptimizer.optimize] curves_t WETH-6Cc2/USDT-1ec7\n",
      "[PairOptimizer.optimize] p_optimal OptimizerBase.SimpleResult(result=1881.7106081912243, method='bisection', errormsg=None, context_dct=None) full_result [ 1.60071068e-10 -3.05473804e-07]\n",
      "[PairOptimizer.optimize] curves_t WETH-6Cc2/USDT-1ec7\n",
      "[PairOptimizer.optimize] p_optimal OptimizerBase.SimpleResult(result=1881.7106081912748, method='bisection', errormsg=None, context_dct=None) full_result [-1.52795110e-10  2.83122063e-07]\n",
      "[PairOptimizer.optimize] curves_t WETH-6Cc2/USDT-1ec7\n",
      "[PairOptimizer.optimize] p_optimal OptimizerBase.SimpleResult(result=1881.7106081912675, method='bisection', errormsg=None, context_dct=None) full_result [-1.05501385e-10  1.93715096e-07]\n",
      "[PairOptimizer.optimize] curves_t WETH-6Cc2/USDT-1ec7\n",
      "[PairOptimizer.optimize] p_optimal OptimizerBase.SimpleResult(result=1881.7106081912423, method='bisection', errormsg=None, context_dct=None) full_result [ 5.09317033e-11 -9.68575478e-08]\n",
      "[PairOptimizer.optimize] curves_t WETH-6Cc2/USDT-1ec7\n",
      "[PairOptimizer.optimize] p_optimal OptimizerBase.SimpleResult(result=1881.7107405470742, method='bisection', errormsg=None, context_dct=None) full_result [ 3.09015036e-11 -3.52364527e-02]\n",
      "[PairOptimizer.optimize] curves_t WETH-6Cc2/USDT-1ec7\n",
      "[PairOptimizer.optimize] p_optimal OptimizerBase.SimpleResult(result=1881.71060819127, method='bisection', errormsg=None, context_dct=None) full_result [-1.20053301e-10  2.23517418e-07]\n",
      "[PairOptimizer.optimize] curves_t WETH-6Cc2/USDT-1ec7\n",
      "[PairOptimizer.optimize] p_optimal OptimizerBase.SimpleResult(result=1881.7106081912555, method='bisection', errormsg=None, context_dct=None) full_result [-2.91038305e-11  5.21540642e-08]\n",
      "[PairOptimizer.optimize] curves_t WETH-6Cc2/USDT-1ec7\n",
      "[PairOptimizer.optimize] p_optimal OptimizerBase.SimpleResult(result=1881.710608191252, method='bisection', errormsg=None, context_dct=None) full_result [-1.09139364e-11  2.23517418e-08]\n",
      "[PairOptimizer.optimize] curves_t WETH-6Cc2/USDT-1ec7\n",
      "[PairOptimizer.optimize] p_optimal OptimizerBase.SimpleResult(result=1881.7106081912298, method='bisection', errormsg=None, context_dct=None) full_result [ 1.23691279e-10 -2.38418579e-07]\n",
      "[PairOptimizer.optimize] curves_t WETH-6Cc2/USDT-1ec7\n",
      "[PairOptimizer.optimize] p_optimal OptimizerBase.SimpleResult(result=1881.7106081912725, method='bisection', errormsg=None, context_dct=None) full_result [-1.34605216e-10  2.53319740e-07]\n"
     ]
    },
    {
     "data": {
      "text/plain": "  0%|          | 0/6 [00:00<?, ?it/s]",
      "application/vnd.jupyter.widget-view+json": {
       "version_major": 2,
       "version_minor": 0,
       "model_id": "15773fdf049c4104a919a7d96c251f54"
      }
     },
     "metadata": {},
     "output_type": "display_data"
    },
    {
     "name": "stdout",
     "output_type": "stream",
     "text": [
      "[PairOptimizer.optimize] curves_t SNX-2a6F/WETH-6Cc2\n",
      "[PairOptimizer.optimize] p_optimal OptimizerBase.SimpleResult(result=0.0010930027501734703, method='bisection', errormsg=None, context_dct=None) full_result [ 8.45163665e-03 -9.23766231e-06]\n",
      "[PairOptimizer.optimize] curves_t SNX-2a6F/WETH-6Cc2\n",
      "[PairOptimizer.optimize] p_optimal OptimizerBase.SimpleResult(result=0.00109300277135908, method='bisection', errormsg=None, context_dct=None) full_result [ 1.19889504e-04 -1.31039656e-07]\n",
      "[PairOptimizer.optimize] curves_t SNX-2a6F/WETH-6Cc2\n",
      "[PairOptimizer.optimize] p_optimal OptimizerBase.SimpleResult(result=0.0010827174934704142, method='bisection', errormsg=None, context_dct=None) full_result [-1.71903921e-05  1.86123383e-08]\n",
      "[PairOptimizer.optimize] curves_t SNX-2a6F/WETH-6Cc2\n",
      "[PairOptimizer.optimize] p_optimal OptimizerBase.SimpleResult(result=0.0010827174789443481, method='bisection', errormsg=None, context_dct=None) full_result [ 2.19765025e-05 -2.37943425e-08]\n",
      "[PairOptimizer.optimize] curves_t SNX-2a6F/WETH-6Cc2\n",
      "[PairOptimizer.optimize] p_optimal OptimizerBase.SimpleResult(result=0.0010940339542683335, method='bisection', errormsg=None, context_dct=None) full_result [ 6.85955281e-04 -7.50458398e-07]\n",
      "[PairOptimizer.optimize] curves_t SNX-2a6F/WETH-6Cc2\n",
      "[PairOptimizer.optimize] p_optimal OptimizerBase.SimpleResult(result=0.0010940339757887759, method='bisection', errormsg=None, context_dct=None) full_result [-2.76098726e-04  3.02061380e-07]\n"
     ]
    },
    {
     "data": {
      "text/plain": "0it [00:00, ?it/s]",
      "application/vnd.jupyter.widget-view+json": {
       "version_major": 2,
       "version_minor": 0,
       "model_id": "9c68668fbf404355b73841ca8a38369c"
      }
     },
     "metadata": {},
     "output_type": "display_data"
    },
    {
     "data": {
      "text/plain": "0it [00:00, ?it/s]",
      "application/vnd.jupyter.widget-view+json": {
       "version_major": 2,
       "version_minor": 0,
       "model_id": "bc13061817284067a4b9fb1f8b821fbe"
      }
     },
     "metadata": {},
     "output_type": "display_data"
    },
    {
     "data": {
      "text/plain": "0it [00:00, ?it/s]",
      "application/vnd.jupyter.widget-view+json": {
       "version_major": 2,
       "version_minor": 0,
       "model_id": "bf65e297f60e470ba26b89ee98a60753"
      }
     },
     "metadata": {},
     "output_type": "display_data"
    },
    {
     "data": {
      "text/plain": "0it [00:00, ?it/s]",
      "application/vnd.jupyter.widget-view+json": {
       "version_major": 2,
       "version_minor": 0,
       "model_id": "67f2de6e0c1c4b4b90b3421e691c125c"
      }
     },
     "metadata": {},
     "output_type": "display_data"
    }
   ],
   "source": [
    "run_full = bot._run(flashloan_tokens=flashloan_tokens, CCm=CCm, arb_mode=arb_mode, data_validator=False, result=bot.XS_ARBOPPS)\n",
    "arb_finder = bot._get_arb_finder(\"single\")\n",
    "finder = arb_finder(\n",
    "            flashloan_tokens=flashloan_tokens,\n",
    "            CCm=CCm,\n",
    "            mode=\"bothin\",\n",
    "            result=bot.AO_CANDIDATES,\n",
    "            ConfigObj=bot.ConfigObj,\n",
    "        )\n",
    "r = finder.find_arbitrage()\n",
    "assert len(r) == 26, f\"[TestSingleMode] Expected 26 arbs, found {len(r)}\"\n",
    "assert len(r) == len(run_full), f\"[TestSingleMode] Expected arbs from .find_arbitrage - {len(r)} - to match _run - {len(run_full)}\""
   ]
  },
  {
   "cell_type": "code",
   "execution_count": 13,
   "id": "a5f5937f-5bc9-44fc-96ac-9b10b9e96742",
   "metadata": {
    "ExecuteTime": {
     "end_time": "2023-09-18T18:18:57.580442Z",
     "start_time": "2023-09-18T18:18:56.188990Z"
    }
   },
   "outputs": [
    {
     "data": {
      "text/plain": "[(0.5926912321210337,\n                                                      agEUR-Bce8   USDC-eB48\n  0x9546a8b47738f2e0584eca2046653b7b16dc9474296a7...  119.967337 -131.637999\n  21778071482940061661655974875633165533369-1        -119.967353  131.404870\n  PRICE                                                 1.095425    1.000000\n  AMMIn                                               119.967337  131.404870\n  AMMOut                                             -119.967353 -131.637999\n  TOTAL NET                                            -0.000016   -0.233128,\n  ({'cid': '0x9546a8b47738f2e0584eca2046653b7b16dc9474296a73d548888c6dae78759d',\n    'tknin': 'agEUR-Bce8',\n    'amtin': 119.96733726689126,\n    'tknout': 'USDC-eB48',\n    'amtout': -131.6379988080007,\n    'error': None},\n   {'cid': '21778071482940061661655974875633165533369-1',\n    'tknin': 'USDC-eB48',\n    'amtin': 131.40487032127567,\n    'tknout': 'agEUR-Bce8',\n    'amtout': -119.9673528955318,\n    'error': None}),\n  'USDC-eB48',\n  (CPCArbOptimizer.TradeInstruction(cid='0x9546a8b47738f2e0584eca2046653b7b16dc9474296a73d548888c6dae78759d', tknin='agEUR-Bce8', amtin=119.96733726689126, tknout='USDC-eB48', amtout=-131.6379988080007, error=None),\n   CPCArbOptimizer.TradeInstruction(cid='21778071482940061661655974875633165533369-1', tknin='USDC-eB48', amtin=131.40487032127567, tknout='agEUR-Bce8', amtout=-119.9673528955318, error=None))),\n (0.02237633573240739,\n                                                      USDT-1ec7     LINK-86CA\n  0xd16316f4a13adf79a9a789e43c8d66baddb7beb53f17b...   0.099713 -1.608768e-02\n  4763953136893138488487244504044754960514-0          -0.108565  1.608768e-02\n  PRICE                                                1.000000  6.198117e+00\n  AMMIn                                                0.099713  1.608768e-02\n  AMMOut                                              -0.108565 -1.608768e-02\n  TOTAL NET                                           -0.008852 -8.020970e-09,\n  ({'cid': '0xd16316f4a13adf79a9a789e43c8d66baddb7beb53f17be1ded15f267e3c32971',\n    'tknin': 'USDT-1ec7',\n    'amtin': 0.09971285760184401,\n    'tknout': 'LINK-86CA',\n    'amtout': -0.016087684504782374,\n    'error': None},\n   {'cid': '4763953136893138488487244504044754960514-0',\n    'tknin': 'LINK-86CA',\n    'amtin': 0.016087676483812263,\n    'tknout': 'USDT-1ec7',\n    'amtout': -0.10856499999999958,\n    'error': None}),\n  'USDT-1ec7',\n  (CPCArbOptimizer.TradeInstruction(cid='0xd16316f4a13adf79a9a789e43c8d66baddb7beb53f17be1ded15f267e3c32971', tknin='USDT-1ec7', amtin=0.09971285760184401, tknout='LINK-86CA', amtout=-0.016087684504782374, error=None),\n   CPCArbOptimizer.TradeInstruction(cid='4763953136893138488487244504044754960514-0', tknin='LINK-86CA', amtin=0.016087676483812263, tknout='USDT-1ec7', amtout=-0.10856499999999958, error=None))),\n (0.025164375779727268,\n                                                      BNT-FF1C  USDC-eB48\n  0xc4771395e1389e2e3a12ec22efbb7aff5b1c04e5ce9c7...  2.980910  -1.172506\n  2381976568446569244243622252022377480332-1         -2.981047   1.162608\n  PRICE                                               0.393338   1.000000\n  AMMIn                                               2.980910   1.162608\n  AMMOut                                             -2.981047  -1.172506\n  TOTAL NET                                          -0.000137  -0.009898,\n  ({'cid': '0xc4771395e1389e2e3a12ec22efbb7aff5b1c04e5ce9c7596a82e9dc8fdec725b',\n    'tknin': 'BNT-FF1C',\n    'amtin': 2.980909615755081,\n    'tknout': 'USDC-eB48',\n    'amtout': -1.1725062732584774,\n    'error': None},\n   {'cid': '2381976568446569244243622252022377480332-1',\n    'tknin': 'USDC-eB48',\n    'amtin': 1.1626081466674805,\n    'tknout': 'BNT-FF1C',\n    'amtout': -2.981046676635742,\n    'error': None}),\n  'USDC-eB48',\n  (CPCArbOptimizer.TradeInstruction(cid='0xc4771395e1389e2e3a12ec22efbb7aff5b1c04e5ce9c7596a82e9dc8fdec725b', tknin='BNT-FF1C', amtin=2.980909615755081, tknout='USDC-eB48', amtout=-1.1725062732584774, error=None),\n   CPCArbOptimizer.TradeInstruction(cid='2381976568446569244243622252022377480332-1', tknin='USDC-eB48', amtin=1.1626081466674805, tknout='BNT-FF1C', amtout=-2.981046676635742, error=None))),\n (2.388375273085686,\n                                                      WETH-6Cc2      BNT-FF1C\n  0x748ab2bef0d97e5a044268626e6c9c104bab818605d44...   0.003481 -1.658586e+01\n  3743106036130323098097120681749450326076-0          -0.003983  1.658586e+01\n  PRICE                                                1.000000  2.099020e-04\n  AMMIn                                                0.003481  1.658586e+01\n  AMMOut                                              -0.003983 -1.658586e+01\n  TOTAL NET                                           -0.000501 -2.768866e-08,\n  ({'cid': '0x748ab2bef0d97e5a044268626e6c9c104bab818605d44f650fdeaa03a3c742d2',\n    'tknin': 'WETH-6Cc2',\n    'amtin': 0.003481401188309974,\n    'tknout': 'BNT-FF1C',\n    'amtout': -16.58585975691676,\n    'error': None},\n   {'cid': '3743106036130323098097120681749450326076-0',\n    'tknin': 'BNT-FF1C',\n    'amtin': 16.585859729228105,\n    'tknout': 'WETH-6Cc2',\n    'amtout': -0.003982724874543209,\n    'error': None}),\n  'WETH-6Cc2',\n  (CPCArbOptimizer.TradeInstruction(cid='0x748ab2bef0d97e5a044268626e6c9c104bab818605d44f650fdeaa03a3c742d2', tknin='WETH-6Cc2', amtin=0.003481401188309974, tknout='BNT-FF1C', amtout=-16.58585975691676, error=None),\n   CPCArbOptimizer.TradeInstruction(cid='3743106036130323098097120681749450326076-0', tknin='BNT-FF1C', amtin=16.585859729228105, tknout='WETH-6Cc2', amtout=-0.003982724874543209, error=None))),\n (0.4848994772915842,\n                                                      USDC-eB48  CRV-cd52\n  0x71d367320e6ef3e9cf800f5cae020980d53f3acffee82...   1.416402 -1.785699\n  12250165209153784684681485867543655612490-0         -1.607132  1.785706\n  PRICE                                                1.000000  0.793194\n  AMMIn                                                1.416402  1.785706\n  AMMOut                                              -1.607132 -1.785699\n  TOTAL NET                                           -0.190730  0.000007,\n  ({'cid': '0x71d367320e6ef3e9cf800f5cae020980d53f3acffee82b2c2a17512653ec92a7',\n    'tknin': 'USDC-eB48',\n    'amtin': 1.4164021559990942,\n    'tknout': 'CRV-cd52',\n    'amtout': -1.7856989238644019,\n    'error': None},\n   {'cid': '12250165209153784684681485867543655612490-0',\n    'tknin': 'CRV-cd52',\n    'amtin': 1.78570556640625,\n    'tknout': 'USDC-eB48',\n    'amtout': -1.6071319580078125,\n    'error': None}),\n  'USDC-eB48',\n  (CPCArbOptimizer.TradeInstruction(cid='0x71d367320e6ef3e9cf800f5cae020980d53f3acffee82b2c2a17512653ec92a7', tknin='USDC-eB48', amtin=1.4164021559990942, tknout='CRV-cd52', amtout=-1.7856989238644019, error=None),\n   CPCArbOptimizer.TradeInstruction(cid='12250165209153784684681485867543655612490-0', tknin='CRV-cd52', amtin=1.78570556640625, tknout='USDC-eB48', amtout=-1.6071319580078125, error=None))),\n (0.2083936319852218,\n                                                       USDC-eB48   USDT-1ec7\n  0xab545184db79ea540f8661f6a96cbef6b4b05a1853193...  354.289077 -354.295697\n  1020847100762815390390123822295304634391-1         -354.371047  354.252061\n  PRICE                                                 1.000000    0.999981\n  AMMIn                                               354.289077  354.252061\n  AMMOut                                             -354.371047 -354.295697\n  TOTAL NET                                            -0.081969   -0.043636,\n  ({'cid': '0xab545184db79ea540f8661f6a96cbef6b4b05a1853193c08c648c7ddf5be231a',\n    'tknin': 'USDC-eB48',\n    'amtin': 354.2890772819519,\n    'tknout': 'USDT-1ec7',\n    'amtout': -354.29569721221924,\n    'error': None},\n   {'cid': '1020847100762815390390123822295304634391-1',\n    'tknin': 'USDT-1ec7',\n    'amtin': 354.25206143583637,\n    'tknout': 'USDC-eB48',\n    'amtout': -354.3710465931799,\n    'error': None}),\n  'USDC-eB48',\n  (CPCArbOptimizer.TradeInstruction(cid='0xab545184db79ea540f8661f6a96cbef6b4b05a1853193c08c648c7ddf5be231a', tknin='USDC-eB48', amtin=354.2890772819519, tknout='USDT-1ec7', amtout=-354.29569721221924, error=None),\n   CPCArbOptimizer.TradeInstruction(cid='1020847100762815390390123822295304634391-1', tknin='USDT-1ec7', amtin=354.25206143583637, tknout='USDC-eB48', amtout=-354.3710465931799, error=None))),\n (0.04877436362869649,\n                                                         WBTC-C599     USDT-1ec7\n  0xae74d344dcbd233af25d4c0659168d3c47dd7f5ad39b7...  3.132397e-05 -9.614771e-01\n  9527906273786276976974489008089509920820-1         -3.195191e-05  9.614771e-01\n  PRICE                                               1.000000e+00  3.257901e-05\n  AMMIn                                               3.132397e-05  9.614771e-01\n  AMMOut                                             -3.195191e-05 -9.614771e-01\n  TOTAL NET                                          -6.279448e-07  9.150035e-09,\n  ({'cid': '0xae74d344dcbd233af25d4c0659168d3c47dd7f5ad39b7cc07efada00d3b9424f',\n    'tknin': 'WBTC-C599',\n    'amtin': 3.132396659566439e-05,\n    'tknout': 'USDT-1ec7',\n    'amtout': -0.9614770784974098,\n    'error': None},\n   {'cid': '9527906273786276976974489008089509920820-1',\n    'tknin': 'USDT-1ec7',\n    'amtin': 0.9614770876474452,\n    'tknout': 'WBTC-C599',\n    'amtout': -3.1951911419505954e-05,\n    'error': None}),\n  'WBTC-C599',\n  (CPCArbOptimizer.TradeInstruction(cid='0xae74d344dcbd233af25d4c0659168d3c47dd7f5ad39b7cc07efada00d3b9424f', tknin='WBTC-C599', amtin=3.132396659566439e-05, tknout='USDT-1ec7', amtout=-0.9614770784974098, error=None),\n   CPCArbOptimizer.TradeInstruction(cid='9527906273786276976974489008089509920820-1', tknin='USDT-1ec7', amtin=0.9614770876474452, tknout='WBTC-C599', amtout=-3.1951911419505954e-05, error=None))),\n (0.07101704028131503,\n                                                      USDT-1ec7  WETH-6Cc2\n  0x7c746d3518854384f7a73a6d2da821454319d305a2af4...   1.565799  -0.000828\n  2722258935367507707706996859454145691868-0          -1.565796   0.000813\n  PRICE                                                0.000529   1.000000\n  AMMIn                                                1.565799   0.000813\n  AMMOut                                              -1.565796  -0.000828\n  TOTAL NET                                            0.000003  -0.000015,\n  ({'cid': '0x7c746d3518854384f7a73a6d2da821454319d305a2af4b7015bbf8734a394e49',\n    'tknin': 'USDT-1ec7',\n    'amtin': 1.5657988786697388,\n    'tknout': 'WETH-6Cc2',\n    'amtout': -0.0008282939670607448,\n    'error': None},\n   {'cid': '2722258935367507707706996859454145691868-0',\n    'tknin': 'WETH-6Cc2',\n    'amtin': 0.0008133873215925291,\n    'tknout': 'USDT-1ec7',\n    'amtout': -1.5657959999953164,\n    'error': None}),\n  'WETH-6Cc2',\n  (CPCArbOptimizer.TradeInstruction(cid='0x7c746d3518854384f7a73a6d2da821454319d305a2af4b7015bbf8734a394e49', tknin='USDT-1ec7', amtin=1.5657988786697388, tknout='WETH-6Cc2', amtout=-0.0008282939670607448, error=None),\n   CPCArbOptimizer.TradeInstruction(cid='2722258935367507707706996859454145691868-0', tknin='WETH-6Cc2', amtin=0.0008133873215925291, tknout='USDT-1ec7', amtout=-1.5657959999953164, error=None))),\n (0.07360967458120561,\n                                                         USDT-1ec7  WETH-6Cc2\n  0x756d9e632902f414e914ddcb16b7388f3c405ff3bebb5...  1.565796e+00  -0.000829\n  2722258935367507707706996859454145691868-0         -1.565796e+00   0.000813\n  PRICE                                               5.293397e-04   1.000000\n  AMMIn                                               1.565796e+00   0.000813\n  AMMOut                                             -1.565796e+00  -0.000829\n  TOTAL NET                                           1.368608e-07  -0.000015,\n  ({'cid': '0x756d9e632902f414e914ddcb16b7388f3c405ff3bebb5f95e6d668813bd24802',\n    'tknin': 'USDT-1ec7',\n    'amtin': 1.565796136856079,\n    'tknout': 'WETH-6Cc2',\n    'amtout': -0.0008288381068268791,\n    'error': None},\n   {'cid': '2722258935367507707706996859454145691868-0',\n    'tknin': 'WETH-6Cc2',\n    'amtin': 0.0008133873215925291,\n    'tknout': 'USDT-1ec7',\n    'amtout': -1.5657959999953164,\n    'error': None}),\n  'WETH-6Cc2',\n  (CPCArbOptimizer.TradeInstruction(cid='0x756d9e632902f414e914ddcb16b7388f3c405ff3bebb5f95e6d668813bd24802', tknin='USDT-1ec7', amtin=1.565796136856079, tknout='WETH-6Cc2', amtout=-0.0008288381068268791, error=None),\n   CPCArbOptimizer.TradeInstruction(cid='2722258935367507707706996859454145691868-0', tknin='WETH-6Cc2', amtin=0.0008133873215925291, tknout='USDT-1ec7', amtout=-1.5657959999953164, error=None))),\n (0.08921262296749263,\n                                                         USDT-1ec7  WETH-6Cc2\n  0xb14173c7c0fb596f249943c2c337df5bebe046b6ed98a...  1.565796e+00  -0.000832\n  2722258935367507707706996859454145691868-0         -1.565796e+00   0.000813\n  PRICE                                               5.314313e-04   1.000000\n  AMMIn                                               1.565796e+00   0.000813\n  AMMOut                                             -1.565796e+00  -0.000832\n  TOTAL NET                                           2.709712e-07  -0.000019,\n  ({'cid': '0xb14173c7c0fb596f249943c2c337df5bebe046b6ed98a8b7434c18270648a9dd',\n    'tknin': 'USDT-1ec7',\n    'amtin': 1.5657962709665298,\n    'tknout': 'WETH-6Cc2',\n    'amtout': -0.0008321131899720058,\n    'error': None},\n   {'cid': '2722258935367507707706996859454145691868-0',\n    'tknin': 'WETH-6Cc2',\n    'amtin': 0.0008133873215925291,\n    'tknout': 'USDT-1ec7',\n    'amtout': -1.5657959999953164,\n    'error': None}),\n  'WETH-6Cc2',\n  (CPCArbOptimizer.TradeInstruction(cid='0xb14173c7c0fb596f249943c2c337df5bebe046b6ed98a8b7434c18270648a9dd', tknin='USDT-1ec7', amtin=1.5657962709665298, tknout='WETH-6Cc2', amtout=-0.0008321131899720058, error=None),\n   CPCArbOptimizer.TradeInstruction(cid='2722258935367507707706996859454145691868-0', tknin='WETH-6Cc2', amtin=0.0008133873215925291, tknout='USDT-1ec7', amtout=-1.5657959999953164, error=None))),\n (2.26845170042432,\n                                                         WBTC-C599   USDC-eB48\n  0x8d7ac7e77704f3ac75534d5500159a7a4b7e6e23dbdca...  3.490251e-03 -107.181335\n  4083388403051261561560495289181218537639-1         -3.490251e-03  106.289064\n  PRICE                                               3.070839e+04    1.000000\n  AMMIn                                               3.490251e-03  106.289064\n  AMMOut                                             -3.490251e-03 -107.181335\n  TOTAL NET                                           8.809620e-14   -0.892270,\n  ({'cid': '0x8d7ac7e77704f3ac75534d5500159a7a4b7e6e23dbdca7d9a8085bdea0348d0c',\n    'tknin': 'WBTC-C599',\n    'amtin': 0.0034902506400271704,\n    'tknout': 'USDC-eB48',\n    'amtout': -107.18133460916579,\n    'error': None},\n   {'cid': '4083388403051261561560495289181218537639-1',\n    'tknin': 'USDC-eB48',\n    'amtin': 106.28906442957123,\n    'tknout': 'WBTC-C599',\n    'amtout': -0.0034902506399390743,\n    'error': None}),\n  'USDC-eB48',\n  (CPCArbOptimizer.TradeInstruction(cid='0x8d7ac7e77704f3ac75534d5500159a7a4b7e6e23dbdca7d9a8085bdea0348d0c', tknin='WBTC-C599', amtin=0.0034902506400271704, tknout='USDC-eB48', amtout=-107.18133460916579, error=None),\n   CPCArbOptimizer.TradeInstruction(cid='4083388403051261561560495289181218537639-1', tknin='USDC-eB48', amtin=106.28906442957123, tknout='WBTC-C599', amtout=-0.0034902506399390743, error=None))),\n (2.029861652773189,\n                                                         WBTC-C599   USDC-eB48\n  0x49ed97db2c080b7eac91dfaa7d51d5e8ac34c4dcfbcd3...  3.305459e-03 -101.415362\n  4083388403051261561560495289181218537639-1         -3.305459e-03  100.616938\n  PRICE                                               3.068115e+04    1.000000\n  AMMIn                                               3.305459e-03  100.616938\n  AMMOut                                             -3.305459e-03 -101.415362\n  TOTAL NET                                           1.900646e-12   -0.798423,\n  ({'cid': '0x49ed97db2c080b7eac91dfaa7d51d5e8ac34c4dcfbcd3e8f2ed326a2a527b959',\n    'tknin': 'WBTC-C599',\n    'amtin': 0.0033054593195629423,\n    'tknout': 'USDC-eB48',\n    'amtout': -101.41536173224449,\n    'error': None},\n   {'cid': '4083388403051261561560495289181218537639-1',\n    'tknin': 'USDC-eB48',\n    'amtin': 100.6169382872431,\n    'tknout': 'WBTC-C599',\n    'amtout': -0.003305459317662296,\n    'error': None}),\n  'USDC-eB48',\n  (CPCArbOptimizer.TradeInstruction(cid='0x49ed97db2c080b7eac91dfaa7d51d5e8ac34c4dcfbcd3e8f2ed326a2a527b959', tknin='WBTC-C599', amtin=0.0033054593195629423, tknout='USDC-eB48', amtout=-101.41536173224449, error=None),\n   CPCArbOptimizer.TradeInstruction(cid='4083388403051261561560495289181218537639-1', tknin='USDC-eB48', amtin=100.6169382872431, tknout='WBTC-C599', amtout=-0.003305459317662296, error=None))),\n (0.04872191039927476,\n                                                         WBTC-C599  USDT-1ec7\n  0xae74d344dcbd233af25d4c0659168d3c47dd7f5ad39b7...  3.195191e-05  -0.980752\n  9527906273786276976974489008089509920820-1         -3.195191e-05   0.961477\n  PRICE                                               3.069461e+04   1.000000\n  AMMIn                                               3.195191e-05   0.961477\n  AMMOut                                             -3.195191e-05  -0.980752\n  TOTAL NET                                           4.738371e-13  -0.019275,\n  ({'cid': '0xae74d344dcbd233af25d4c0659168d3c47dd7f5ad39b7cc07efada00d3b9424f',\n    'tknin': 'WBTC-C599',\n    'amtin': 3.1951911296346225e-05,\n    'tknout': 'USDT-1ec7',\n    'amtout': -0.980751596391201,\n    'error': None},\n   {'cid': '9527906273786276976974489008089509920820-1',\n    'tknin': 'USDT-1ec7',\n    'amtin': 0.9614770693228607,\n    'tknout': 'WBTC-C599',\n    'amtout': -3.195191082250911e-05,\n    'error': None}),\n  'USDT-1ec7',\n  (CPCArbOptimizer.TradeInstruction(cid='0xae74d344dcbd233af25d4c0659168d3c47dd7f5ad39b7cc07efada00d3b9424f', tknin='WBTC-C599', amtin=3.1951911296346225e-05, tknout='USDT-1ec7', amtout=-0.980751596391201, error=None),\n   CPCArbOptimizer.TradeInstruction(cid='9527906273786276976974489008089509920820-1', tknin='USDT-1ec7', amtin=0.9614770693228607, tknout='WBTC-C599', amtout=-3.195191082250911e-05, error=None))),\n (0.25329622516226685,\n                                                         WBTC-C599  WETH-6Cc2\n  0x36445535fc762f6c53277a667500a41e31b51bec800e7...  8.570301e-03  -0.139374\n  9187623906865338513511114400657741709458-1         -8.570326e-03   0.139321\n  PRICE                                               1.626249e+01   1.000000\n  AMMIn                                               8.570301e-03   0.139321\n  AMMOut                                             -8.570326e-03  -0.139374\n  TOTAL NET                                          -2.514241e-08  -0.000053,\n  ({'cid': '0x36445535fc762f6c53277a667500a41e31b51bec800e76aab33dafab75da4eaa',\n    'tknin': 'WBTC-C599',\n    'amtin': 0.008570301048166584,\n    'tknout': 'WETH-6Cc2',\n    'amtout': -0.13937449268996716,\n    'error': None},\n   {'cid': '9187623906865338513511114400657741709458-1',\n    'tknin': 'WETH-6Cc2',\n    'amtin': 0.139321325418166,\n    'tknout': 'WBTC-C599',\n    'amtout': -0.008570326190575628,\n    'error': None}),\n  'WETH-6Cc2',\n  (CPCArbOptimizer.TradeInstruction(cid='0x36445535fc762f6c53277a667500a41e31b51bec800e76aab33dafab75da4eaa', tknin='WBTC-C599', amtin=0.008570301048166584, tknout='WETH-6Cc2', amtout=-0.13937449268996716, error=None),\n   CPCArbOptimizer.TradeInstruction(cid='9187623906865338513511114400657741709458-1', tknin='WETH-6Cc2', amtin=0.139321325418166, tknout='WBTC-C599', amtout=-0.008570326190575628, error=None))),\n (24.211575735652787,\n                                                       vBNT-7f94    BNT-FF1C\n  0xc4be7ee1e92f6eaebe2b6c46db7eb95e883dc9baa7691...  489.838850 -243.864599\n  4423670769972200025023869896612986749191-1         -489.838770  219.653023\n  PRICE                                                 0.497722    1.000000\n  AMMIn                                               489.838850  219.653023\n  AMMOut                                             -489.838770 -243.864599\n  TOTAL NET                                             0.000080  -24.211576,\n  ({'cid': '0xc4be7ee1e92f6eaebe2b6c46db7eb95e883dc9baa76915812d9b50b83af82b26',\n    'tknin': 'vBNT-7f94',\n    'amtin': 489.83884994406253,\n    'tknout': 'BNT-FF1C',\n    'amtout': -243.86459877889138,\n    'error': None},\n   {'cid': '4423670769972200025023869896612986749191-1',\n    'tknin': 'BNT-FF1C',\n    'amtin': 219.6530230432386,\n    'tknout': 'vBNT-7f94',\n    'amtout': -489.8387696095706,\n    'error': None}),\n  'BNT-FF1C',\n  (CPCArbOptimizer.TradeInstruction(cid='0xc4be7ee1e92f6eaebe2b6c46db7eb95e883dc9baa76915812d9b50b83af82b26', tknin='vBNT-7f94', amtin=489.83884994406253, tknout='BNT-FF1C', amtout=-243.86459877889138, error=None),\n   CPCArbOptimizer.TradeInstruction(cid='4423670769972200025023869896612986749191-1', tknin='BNT-FF1C', amtin=219.6530230432386, tknout='vBNT-7f94', amtout=-489.8387696095706, error=None))),\n (5.2575314918219025,\n                                                      rETH-6393  WETH-6Cc2\n  0x1eda42a2cced5e9cfffe1b15d7c39253514267401c5bd...   0.249693  -0.268846\n  3062541302288446171170371466885913903202-0          -0.249683   0.267743\n  PRICE                                                1.076708   1.000000\n  AMMIn                                                0.249693   0.267743\n  AMMOut                                              -0.249683  -0.268846\n  TOTAL NET                                            0.000010  -0.001104,\n  ({'cid': '0x1eda42a2cced5e9cfffe1b15d7c39253514267401c5bd2e9ca28287f8a996fde',\n    'tknin': 'rETH-6393',\n    'amtin': 0.24969252478331327,\n    'tknout': 'WETH-6Cc2',\n    'amtout': -0.2688460776116699,\n    'error': None},\n   {'cid': '3062541302288446171170371466885913903202-0',\n    'tknin': 'WETH-6Cc2',\n    'amtin': 0.267742513570596,\n    'tknout': 'rETH-6393',\n    'amtout': -0.2496827897163172,\n    'error': None}),\n  'WETH-6Cc2',\n  (CPCArbOptimizer.TradeInstruction(cid='0x1eda42a2cced5e9cfffe1b15d7c39253514267401c5bd2e9ca28287f8a996fde', tknin='rETH-6393', amtin=0.24969252478331327, tknout='WETH-6Cc2', amtout=-0.2688460776116699, error=None),\n   CPCArbOptimizer.TradeInstruction(cid='3062541302288446171170371466885913903202-0', tknin='WETH-6Cc2', amtin=0.267742513570596, tknout='rETH-6393', amtout=-0.2496827897163172, error=None))),\n (0.025226501282304525,\n                                                      BNT-FF1C  USDC-eB48\n  0xc4771395e1389e2e3a12ec22efbb7aff5b1c04e5ce9c7...  2.955820  -1.162638\n  2381976568446569244243622252022377480332-1         -2.981047   1.162608\n  PRICE                                               1.000000   2.542343\n  AMMIn                                               2.955820   1.162608\n  AMMOut                                             -2.981047  -1.162638\n  TOTAL NET                                          -0.025227  -0.000029,\n  ({'cid': '0xc4771395e1389e2e3a12ec22efbb7aff5b1c04e5ce9c7596a82e9dc8fdec725b',\n    'tknin': 'BNT-FF1C',\n    'amtin': 2.955820175819099,\n    'tknout': 'USDC-eB48',\n    'amtout': -1.162637643283233,\n    'error': None},\n   {'cid': '2381976568446569244243622252022377480332-1',\n    'tknin': 'USDC-eB48',\n    'amtin': 1.1626081466674805,\n    'tknout': 'BNT-FF1C',\n    'amtout': -2.981046676635742,\n    'error': None}),\n  'BNT-FF1C',\n  (CPCArbOptimizer.TradeInstruction(cid='0xc4771395e1389e2e3a12ec22efbb7aff5b1c04e5ce9c7596a82e9dc8fdec725b', tknin='BNT-FF1C', amtin=2.955820175819099, tknout='USDC-eB48', amtout=-1.162637643283233, error=None),\n   CPCArbOptimizer.TradeInstruction(cid='2381976568446569244243622252022377480332-1', tknin='USDC-eB48', amtin=1.1626081466674805, tknout='BNT-FF1C', amtout=-2.981046676635742, error=None))),\n (2.25688516935085,\n                                                      WBTC-C599     USDC-eB48\n  0x8d7ac7e77704f3ac75534d5500159a7a4b7e6e23dbdca...   0.003461 -1.062904e+02\n  4083388403051261561560495289181218537639-1          -0.003490  1.062904e+02\n  PRICE                                                1.000000  3.256439e-05\n  AMMIn                                                0.003461  1.062904e+02\n  AMMOut                                              -0.003490 -1.062904e+02\n  TOTAL NET                                           -0.000029 -1.216904e-09,\n  ({'cid': '0x8d7ac7e77704f3ac75534d5500159a7a4b7e6e23dbdca7d9a8085bdea0348d0c',\n    'tknin': 'WBTC-C599',\n    'amtin': 0.003461238639090425,\n    'tknout': 'USDC-eB48',\n    'amtout': -106.29042278137058,\n    'error': None},\n   {'cid': '4083388403051261561560495289181218537639-1',\n    'tknin': 'USDC-eB48',\n    'amtin': 106.29042278015368,\n    'tknout': 'WBTC-C599',\n    'amtout': -0.003490294873798372,\n    'error': None}),\n  'WBTC-C599',\n  (CPCArbOptimizer.TradeInstruction(cid='0x8d7ac7e77704f3ac75534d5500159a7a4b7e6e23dbdca7d9a8085bdea0348d0c', tknin='WBTC-C599', amtin=0.003461238639090425, tknout='USDC-eB48', amtout=-106.29042278137058, error=None),\n   CPCArbOptimizer.TradeInstruction(cid='4083388403051261561560495289181218537639-1', tknin='USDC-eB48', amtin=106.29042278015368, tknout='WBTC-C599', amtout=-0.003490294873798372, error=None))),\n (2.0213045631264253,\n                                                      WBTC-C599     USDC-eB48\n  0x49ed97db2c080b7eac91dfaa7d51d5e8ac34c4dcfbcd3...   0.003279 -1.006170e+02\n  4083388403051261561560495289181218537639-1          -0.003305  1.006170e+02\n  PRICE                                                1.000000  3.259330e-05\n  AMMIn                                                0.003279  1.006170e+02\n  AMMOut                                              -0.003305 -1.006170e+02\n  TOTAL NET                                           -0.000026 -1.140143e-08,\n  ({'cid': '0x49ed97db2c080b7eac91dfaa7d51d5e8ac34c4dcfbcd3e8f2ed326a2a527b959',\n    'tknin': 'WBTC-C599',\n    'amtin': 0.003279438383287925,\n    'tknout': 'USDC-eB48',\n    'amtout': -100.6170095205307,\n    'error': None},\n   {'cid': '4083388403051261561560495289181218537639-1',\n    'tknin': 'USDC-eB48',\n    'amtin': 100.61700950912928,\n    'tknout': 'WBTC-C599',\n    'amtout': -0.0033054616390188474,\n    'error': None}),\n  'WBTC-C599',\n  (CPCArbOptimizer.TradeInstruction(cid='0x49ed97db2c080b7eac91dfaa7d51d5e8ac34c4dcfbcd3e8f2ed326a2a527b959', tknin='WBTC-C599', amtin=0.003279438383287925, tknout='USDC-eB48', amtout=-100.6170095205307, error=None),\n   CPCArbOptimizer.TradeInstruction(cid='4083388403051261561560495289181218537639-1', tknin='USDC-eB48', amtin=100.61700950912928, tknout='WBTC-C599', amtout=-0.0033054616390188474, error=None))),\n (0.10609185280272025,\n                                                      WETH-6Cc2     USDC-eB48\n  0x38a4847880387ca4a93a5d202263135d162f37adf6e46...   0.000450 -8.508408e-01\n  1701411834604692317316873037158841057409-1          -0.000473  8.508409e-01\n  PRICE                                                1.000000  5.293828e-04\n  AMMIn                                                0.000450  8.508409e-01\n  AMMOut                                              -0.000473 -8.508408e-01\n  TOTAL NET                                           -0.000022  8.568168e-08,\n  ({'cid': '0x38a4847880387ca4a93a5d202263135d162f37adf6e46b505f1f2117f4909a83',\n    'tknin': 'WETH-6Cc2',\n    'amtin': 0.000450420513516292,\n    'tknout': 'USDC-eB48',\n    'amtout': -0.8508408069610596,\n    'error': None},\n   {'cid': '1701411834604692317316873037158841057409-1',\n    'tknin': 'USDC-eB48',\n    'amtin': 0.8508408926427364,\n    'tknout': 'WETH-6Cc2',\n    'amtout': -0.00047268935850297567,\n    'error': None}),\n  'WETH-6Cc2',\n  (CPCArbOptimizer.TradeInstruction(cid='0x38a4847880387ca4a93a5d202263135d162f37adf6e46b505f1f2117f4909a83', tknin='WETH-6Cc2', amtin=0.000450420513516292, tknout='USDC-eB48', amtout=-0.8508408069610596, error=None),\n   CPCArbOptimizer.TradeInstruction(cid='1701411834604692317316873037158841057409-1', tknin='USDC-eB48', amtin=0.8508408926427364, tknout='WETH-6Cc2', amtout=-0.00047268935850297567, error=None))),\n (2.3883702622079,\n                                                         WETH-6Cc2  BNT-FF1C\n  0x748ab2bef0d97e5a044268626e6c9c104bab818605d44...  3.982725e-03 -18.97423\n  3743106036130323098097120681749450326076-0         -3.982725e-03  16.58586\n  PRICE                                               4.764127e+03   1.00000\n  AMMIn                                               3.982725e-03  16.58586\n  AMMOut                                             -3.982725e-03 -18.97423\n  TOTAL NET                                          -2.085443e-12  -2.38837,\n  ({'cid': '0x748ab2bef0d97e5a044268626e6c9c104bab818605d44f650fdeaa03a3c742d2',\n    'tknin': 'WETH-6Cc2',\n    'amtin': 0.003982724872457766,\n    'tknout': 'BNT-FF1C',\n    'amtout': -18.974229991436005,\n    'error': None},\n   {'cid': '3743106036130323098097120681749450326076-0',\n    'tknin': 'BNT-FF1C',\n    'amtin': 16.585859729228105,\n    'tknout': 'WETH-6Cc2',\n    'amtout': -0.003982724874543209,\n    'error': None}),\n  'BNT-FF1C',\n  (CPCArbOptimizer.TradeInstruction(cid='0x748ab2bef0d97e5a044268626e6c9c104bab818605d44f650fdeaa03a3c742d2', tknin='WETH-6Cc2', amtin=0.003982724872457766, tknout='BNT-FF1C', amtout=-18.974229991436005, error=None),\n   CPCArbOptimizer.TradeInstruction(cid='3743106036130323098097120681749450326076-0', tknin='BNT-FF1C', amtin=16.585859729228105, tknout='WETH-6Cc2', amtout=-0.003982724874543209, error=None))),\n (0.10694128993439776,\n                                                         WETH-6Cc2  USDC-eB48\n  0x38a4847880387ca4a93a5d202263135d162f37adf6e46...  4.726886e-04  -0.892905\n  1701411834604692317316873037158841057409-1         -4.726894e-04   0.850841\n  PRICE                                               1.888992e+03   1.000000\n  AMMIn                                               4.726886e-04   0.850841\n  AMMOut                                             -4.726894e-04  -0.892905\n  TOTAL NET                                          -7.767085e-10  -0.042064,\n  ({'cid': '0x38a4847880387ca4a93a5d202263135d162f37adf6e46b505f1f2117f4909a83',\n    'tknin': 'WETH-6Cc2',\n    'amtin': 0.00047268858179450035,\n    'tknout': 'USDC-eB48',\n    'amtout': -0.892905056476593,\n    'error': None},\n   {'cid': '1701411834604692317316873037158841057409-1',\n    'tknin': 'USDC-eB48',\n    'amtin': 0.8508408926427364,\n    'tknout': 'WETH-6Cc2',\n    'amtout': -0.00047268935850297567,\n    'error': None}),\n  'USDC-eB48',\n  (CPCArbOptimizer.TradeInstruction(cid='0x38a4847880387ca4a93a5d202263135d162f37adf6e46b505f1f2117f4909a83', tknin='WETH-6Cc2', amtin=0.00047268858179450035, tknout='USDC-eB48', amtout=-0.892905056476593, error=None),\n   CPCArbOptimizer.TradeInstruction(cid='1701411834604692317316873037158841057409-1', tknin='USDC-eB48', amtin=0.8508408926427364, tknout='WETH-6Cc2', amtout=-0.00047268935850297567, error=None))),\n (0.2553767152176247,\n                                                      WBTC-C599     WETH-6Cc2\n  0x36445535fc762f6c53277a667500a41e31b51bec800e7...   0.008567 -1.393215e-01\n  9187623906865338513511114400657741709458-1          -0.008570  1.393214e-01\n  PRICE                                                1.000000  6.149119e-02\n  AMMIn                                                0.008567  1.393214e-01\n  AMMOut                                              -0.008570 -1.393215e-01\n  TOTAL NET                                           -0.000003 -1.075534e-07,\n  ({'cid': '0x36445535fc762f6c53277a667500a41e31b51bec800e76aab33dafab75da4eaa',\n    'tknin': 'WBTC-C599',\n    'amtin': 0.008567040233174339,\n    'tknout': 'WETH-6Cc2',\n    'amtout': -0.13932146364822984,\n    'error': None},\n   {'cid': '9187623906865338513511114400657741709458-1',\n    'tknin': 'WETH-6Cc2',\n    'amtin': 0.13932135609485385,\n    'tknout': 'WBTC-C599',\n    'amtout': -0.00857032807692093,\n    'error': None}),\n  'WBTC-C599',\n  (CPCArbOptimizer.TradeInstruction(cid='0x36445535fc762f6c53277a667500a41e31b51bec800e76aab33dafab75da4eaa', tknin='WBTC-C599', amtin=0.008567040233174339, tknout='WETH-6Cc2', amtout=-0.13932146364822984, error=None),\n   CPCArbOptimizer.TradeInstruction(cid='9187623906865338513511114400657741709458-1', tknin='WETH-6Cc2', amtin=0.13932135609485385, tknout='WBTC-C599', amtout=-0.00857032807692093, error=None))),\n (0.07121493763115497,\n                                                      USDT-1ec7     WETH-6Cc2\n  0x7c746d3518854384f7a73a6d2da821454319d305a2af4...   1.537623 -8.133893e-04\n  2722258935367507707706996859454145691868-0          -1.565796  8.133873e-04\n  PRICE                                                1.000000  1.890390e+03\n  AMMIn                                                1.537623  8.133873e-04\n  AMMOut                                              -1.565796 -8.133893e-04\n  TOTAL NET                                           -0.028173 -1.991815e-09,\n  ({'cid': '0x7c746d3518854384f7a73a6d2da821454319d305a2af4b7015bbf8734a394e49',\n    'tknin': 'USDT-1ec7',\n    'amtin': 1.5376231670379639,\n    'tknout': 'WETH-6Cc2',\n    'amtout': -0.0008133893134072423,\n    'error': None},\n   {'cid': '2722258935367507707706996859454145691868-0',\n    'tknin': 'WETH-6Cc2',\n    'amtin': 0.0008133873215925291,\n    'tknout': 'USDT-1ec7',\n    'amtout': -1.5657959999953164,\n    'error': None}),\n  'USDT-1ec7',\n  (CPCArbOptimizer.TradeInstruction(cid='0x7c746d3518854384f7a73a6d2da821454319d305a2af4b7015bbf8734a394e49', tknin='USDT-1ec7', amtin=1.5376231670379639, tknout='WETH-6Cc2', amtout=-0.0008133893134072423, error=None),\n   CPCArbOptimizer.TradeInstruction(cid='2722258935367507707706996859454145691868-0', tknin='WETH-6Cc2', amtin=0.0008133873215925291, tknout='USDT-1ec7', amtout=-1.5657959999953164, error=None))),\n (0.0737803596510685,\n                                                      USDT-1ec7     WETH-6Cc2\n  0x756d9e632902f414e914ddcb16b7388f3c405ff3bebb5...   1.536608 -8.133878e-04\n  2722258935367507707706996859454145691868-0          -1.565796  8.133873e-04\n  PRICE                                                1.000000  1.889146e+03\n  AMMIn                                                1.536608  8.133873e-04\n  AMMOut                                              -1.565796 -8.133878e-04\n  TOTAL NET                                           -0.029188 -5.075194e-10,\n  ({'cid': '0x756d9e632902f414e914ddcb16b7388f3c405ff3bebb5f95e6d668813bd24802',\n    'tknin': 'USDT-1ec7',\n    'amtin': 1.5366082787513733,\n    'tknout': 'WETH-6Cc2',\n    'amtout': -0.000813387829111889,\n    'error': None},\n   {'cid': '2722258935367507707706996859454145691868-0',\n    'tknin': 'WETH-6Cc2',\n    'amtin': 0.0008133873215925291,\n    'tknout': 'USDT-1ec7',\n    'amtout': -1.5657959999953164,\n    'error': None}),\n  'USDT-1ec7',\n  (CPCArbOptimizer.TradeInstruction(cid='0x756d9e632902f414e914ddcb16b7388f3c405ff3bebb5f95e6d668813bd24802', tknin='USDT-1ec7', amtin=1.5366082787513733, tknout='WETH-6Cc2', amtout=-0.000813387829111889, error=None),\n   CPCArbOptimizer.TradeInstruction(cid='2722258935367507707706996859454145691868-0', tknin='WETH-6Cc2', amtin=0.0008133873215925291, tknout='USDT-1ec7', amtout=-1.5657959999953164, error=None))),\n (0.08907026810969843,\n                                                      USDT-1ec7     WETH-6Cc2\n  0xb14173c7c0fb596f249943c2c337df5bebe046b6ed98a...   1.530560 -8.133873e-04\n  2722258935367507707706996859454145691868-0          -1.565796  8.133873e-04\n  PRICE                                                1.000000  1.881711e+03\n  AMMIn                                                1.530560  8.133873e-04\n  AMMOut                                              -1.565796 -8.133873e-04\n  TOTAL NET                                           -0.035236  3.090150e-11,\n  ({'cid': '0xb14173c7c0fb596f249943c2c337df5bebe046b6ed98a8b7434c18270648a9dd',\n    'tknin': 'USDT-1ec7',\n    'amtin': 1.5305595472455025,\n    'tknout': 'WETH-6Cc2',\n    'amtout': -0.0008133872906910256,\n    'error': None},\n   {'cid': '2722258935367507707706996859454145691868-0',\n    'tknin': 'WETH-6Cc2',\n    'amtin': 0.0008133873215925291,\n    'tknout': 'USDT-1ec7',\n    'amtout': -1.5657959999953164,\n    'error': None}),\n  'USDT-1ec7',\n  (CPCArbOptimizer.TradeInstruction(cid='0xb14173c7c0fb596f249943c2c337df5bebe046b6ed98a8b7434c18270648a9dd', tknin='USDT-1ec7', amtin=1.5305595472455025, tknout='WETH-6Cc2', amtout=-0.0008133872906910256, error=None),\n   CPCArbOptimizer.TradeInstruction(cid='2722258935367507707706996859454145691868-0', tknin='WETH-6Cc2', amtin=0.0008133873215925291, tknout='USDT-1ec7', amtout=-1.5657959999953164, error=None)))]"
     },
     "execution_count": 13,
     "metadata": {},
     "output_type": "execute_result"
    }
   ],
   "source": [
    "r"
   ]
  },
  {
   "cell_type": "markdown",
   "id": "d4c12c4b",
   "metadata": {},
   "source": [
    "## Test_no_multi_carbon"
   ]
  },
  {
   "cell_type": "code",
   "execution_count": 14,
   "id": "c4f92d83",
   "metadata": {
    "ExecuteTime": {
     "end_time": "2023-09-18T18:19:11.961703Z",
     "start_time": "2023-09-18T18:18:56.190922Z"
    }
   },
   "outputs": [
    {
     "data": {
      "text/plain": "0it [00:00, ?it/s]",
      "application/vnd.jupyter.widget-view+json": {
       "version_major": 2,
       "version_minor": 0,
       "model_id": "033b5efbd578467091caba9642acd1ee"
      }
     },
     "metadata": {},
     "output_type": "display_data"
    },
    {
     "data": {
      "text/plain": "0it [00:00, ?it/s]",
      "application/vnd.jupyter.widget-view+json": {
       "version_major": 2,
       "version_minor": 0,
       "model_id": "6863be41607a485e8ea03eef35634e26"
      }
     },
     "metadata": {},
     "output_type": "display_data"
    },
    {
     "data": {
      "text/plain": "0it [00:00, ?it/s]",
      "application/vnd.jupyter.widget-view+json": {
       "version_major": 2,
       "version_minor": 0,
       "model_id": "c2a11f5f54004560ade6ef54584611c7"
      }
     },
     "metadata": {},
     "output_type": "display_data"
    },
    {
     "data": {
      "text/plain": "  0%|          | 0/4 [00:00<?, ?it/s]",
      "application/vnd.jupyter.widget-view+json": {
       "version_major": 2,
       "version_minor": 0,
       "model_id": "43e9c1ecc8864a4ca6c1cf6ea42e67cb"
      }
     },
     "metadata": {},
     "output_type": "display_data"
    },
    {
     "name": "stdout",
     "output_type": "stream",
     "text": [
      "[PairOptimizer.optimize] curves_t agEUR-Bce8/USDC-eB48\n",
      "[PairOptimizer.optimize] p_optimal OptimizerBase.SimpleResult(result=1.1012586819982886, method='bisection', errormsg=None, context_dct=None) full_result [-0.00028294  0.00031158]\n",
      "[PairOptimizer.optimize] curves_t agEUR-Bce8/USDC-eB48\n",
      "[PairOptimizer.optimize] p_optimal OptimizerBase.SimpleResult(result=1.1012068414056138, method='bisection', errormsg=None, context_dct=None) full_result [ 1.56512065e-03 -1.18761945e+01]\n",
      "[PairOptimizer.optimize] curves_t agEUR-Bce8/USDC-eB48\n",
      "[PairOptimizer.optimize] p_optimal OptimizerBase.SimpleResult(result=1.0977629060087901, method='bisection', errormsg=None, context_dct=None) full_result [ 2.36049527e-06 -2.59128865e-06]\n",
      "[PairOptimizer.optimize] curves_t agEUR-Bce8/USDC-eB48\n",
      "[PairOptimizer.optimize] p_optimal OptimizerBase.SimpleResult(result=1.095424874858844, method='bisection', errormsg=None, context_dct=None) full_result [-1.56286405e-05 -2.33128487e-01]\n"
     ]
    },
    {
     "data": {
      "text/plain": "0it [00:00, ?it/s]",
      "application/vnd.jupyter.widget-view+json": {
       "version_major": 2,
       "version_minor": 0,
       "model_id": "48fe76971df4428a8c4f97fc16983d63"
      }
     },
     "metadata": {},
     "output_type": "display_data"
    },
    {
     "data": {
      "text/plain": "0it [00:00, ?it/s]",
      "application/vnd.jupyter.widget-view+json": {
       "version_major": 2,
       "version_minor": 0,
       "model_id": "866824a4f34a45508c9e8053b1277a53"
      }
     },
     "metadata": {},
     "output_type": "display_data"
    },
    {
     "data": {
      "text/plain": "0it [00:00, ?it/s]",
      "application/vnd.jupyter.widget-view+json": {
       "version_major": 2,
       "version_minor": 0,
       "model_id": "c5f5cbcddb044cb09fbddc0396801bd7"
      }
     },
     "metadata": {},
     "output_type": "display_data"
    },
    {
     "data": {
      "text/plain": "0it [00:00, ?it/s]",
      "application/vnd.jupyter.widget-view+json": {
       "version_major": 2,
       "version_minor": 0,
       "model_id": "c9961546175e4ef59a68dbe2485f981d"
      }
     },
     "metadata": {},
     "output_type": "display_data"
    },
    {
     "data": {
      "text/plain": "0it [00:00, ?it/s]",
      "application/vnd.jupyter.widget-view+json": {
       "version_major": 2,
       "version_minor": 0,
       "model_id": "67a76dec0100465da6bec5bc7f90a39d"
      }
     },
     "metadata": {},
     "output_type": "display_data"
    },
    {
     "data": {
      "text/plain": "  0%|          | 0/4 [00:00<?, ?it/s]",
      "application/vnd.jupyter.widget-view+json": {
       "version_major": 2,
       "version_minor": 0,
       "model_id": "71224904b64d41b6a428fd652b8a97fc"
      }
     },
     "metadata": {},
     "output_type": "display_data"
    },
    {
     "name": "stdout",
     "output_type": "stream",
     "text": [
      "[PairOptimizer.optimize] curves_t DAI-1d0F/USDC-eB48\n",
      "[PairOptimizer.optimize] p_optimal OptimizerBase.SimpleResult(result=1.0003813756215658, method='bisection', errormsg=None, context_dct=None) full_result [ 0.27017212 -0.27027893]\n",
      "[PairOptimizer.optimize] curves_t DAI-1d0F/USDC-eB48\n",
      "[PairOptimizer.optimize] p_optimal OptimizerBase.SimpleResult(result=1.0003813756365758, method='bisection', errormsg=None, context_dct=None) full_result [-0.19481659  0.19488525]\n",
      "[PairOptimizer.optimize] curves_t DAI-1d0F/USDC-eB48\n",
      "[PairOptimizer.optimize] p_optimal OptimizerBase.SimpleResult(result=0.9999799635362349, method='bisection', errormsg=None, context_dct=None) full_result [ 10.07507324 -10.0748291 ]\n",
      "[PairOptimizer.optimize] curves_t DAI-1d0F/USDC-eB48\n",
      "[PairOptimizer.optimize] p_optimal OptimizerBase.SimpleResult(result=0.9999799635754507, method='bisection', errormsg=None, context_dct=None) full_result [-0.39575195  0.39581299]\n"
     ]
    },
    {
     "data": {
      "text/plain": "  0%|          | 0/4 [00:00<?, ?it/s]",
      "application/vnd.jupyter.widget-view+json": {
       "version_major": 2,
       "version_minor": 0,
       "model_id": "511665a34d014a52af6a47c77adcda7e"
      }
     },
     "metadata": {},
     "output_type": "display_data"
    },
    {
     "name": "stdout",
     "output_type": "stream",
     "text": [
      "[PairOptimizer.optimize] curves_t DAI-1d0F/USDT-1ec7\n",
      "[PairOptimizer.optimize] p_optimal OptimizerBase.SimpleResult(result=0.9998810288149655, method='bisection', errormsg=None, context_dct=None) full_result [ 0.03739882 -0.03739452]\n",
      "[PairOptimizer.optimize] curves_t DAI-1d0F/USDT-1ec7\n",
      "[PairOptimizer.optimize] p_optimal OptimizerBase.SimpleResult(result=0.9998810288451494, method='bisection', errormsg=None, context_dct=None) full_result [-0.01955795  0.01955557]\n",
      "[PairOptimizer.optimize] curves_t DAI-1d0F/USDT-1ec7\n",
      "[PairOptimizer.optimize] p_optimal OptimizerBase.SimpleResult(result=1.0000277727814577, method='bisection', errormsg=None, context_dct=None) full_result [ 0.00187576 -0.00187576]\n",
      "[PairOptimizer.optimize] curves_t DAI-1d0F/USDT-1ec7\n",
      "[PairOptimizer.optimize] p_optimal OptimizerBase.SimpleResult(result=1.000027772749948, method='bisection', errormsg=None, context_dct=None) full_result [ 0.00692052 -0.0069207 ]\n"
     ]
    },
    {
     "data": {
      "text/plain": "  0%|          | 0/18 [00:00<?, ?it/s]",
      "application/vnd.jupyter.widget-view+json": {
       "version_major": 2,
       "version_minor": 0,
       "model_id": "fe594b974df94c449cf5e58235ad1d6d"
      }
     },
     "metadata": {},
     "output_type": "display_data"
    },
    {
     "name": "stdout",
     "output_type": "stream",
     "text": [
      "[PairOptimizer.optimize] curves_t WETH-6Cc2/DAI-1d0F\n",
      "[PairOptimizer.optimize] p_optimal OptimizerBase.SimpleResult(result=1889.8516355281042, method='bisection', errormsg=None, context_dct=None) full_result [-2.25554686e-10  4.32133675e-07]\n",
      "[PairOptimizer.optimize] curves_t WETH-6Cc2/DAI-1d0F\n",
      "[PairOptimizer.optimize] p_optimal OptimizerBase.SimpleResult(result=1889.8516355281013, method='bisection', errormsg=None, context_dct=None) full_result [-1.89174898e-10  3.57627869e-07]\n",
      "[PairOptimizer.optimize] curves_t WETH-6Cc2/DAI-1d0F\n",
      "[PairOptimizer.optimize] p_optimal OptimizerBase.SimpleResult(result=1889.8516355280663, method='bisection', errormsg=None, context_dct=None) full_result [ 1.74622983e-10 -3.27825546e-07]\n",
      "[PairOptimizer.optimize] curves_t WETH-6Cc2/DAI-1d0F\n",
      "[PairOptimizer.optimize] p_optimal OptimizerBase.SimpleResult(result=1889.851635528079, method='bisection', errormsg=None, context_dct=None) full_result [ 3.63797881e-11 -7.45058060e-08]\n",
      "[PairOptimizer.optimize] curves_t WETH-6Cc2/DAI-1d0F\n",
      "[PairOptimizer.optimize] p_optimal OptimizerBase.SimpleResult(result=1889.8516355281054, method='bisection', errormsg=None, context_dct=None) full_result [-2.40106602e-10  4.47034836e-07]\n",
      "[PairOptimizer.optimize] curves_t WETH-6Cc2/DAI-1d0F\n",
      "[PairOptimizer.optimize] p_optimal OptimizerBase.SimpleResult(result=1889.8516355281217, method='bisection', errormsg=None, context_dct=None) full_result [-4.07453626e-10  7.59959221e-07]\n",
      "[PairOptimizer.optimize] curves_t WETH-6Cc2/DAI-1d0F\n",
      "[PairOptimizer.optimize] p_optimal OptimizerBase.SimpleResult(result=1889.8516355280967, method='bisection', errormsg=None, context_dct=None) full_result [-1.38243195e-10  2.68220901e-07]\n",
      "[PairOptimizer.optimize] curves_t WETH-6Cc2/DAI-1d0F\n",
      "[PairOptimizer.optimize] p_optimal OptimizerBase.SimpleResult(result=1889.8516355280508, method='bisection', errormsg=None, context_dct=None) full_result [ 3.34694050e-10 -6.40749931e-07]\n",
      "[PairOptimizer.optimize] curves_t WETH-6Cc2/DAI-1d0F\n",
      "[PairOptimizer.optimize] p_optimal OptimizerBase.SimpleResult(result=1889.8516355280644, method='bisection', errormsg=None, context_dct=None) full_result [ 1.89174898e-10 -3.57627869e-07]\n",
      "[PairOptimizer.optimize] curves_t WETH-6Cc2/DAI-1d0F\n",
      "[PairOptimizer.optimize] p_optimal OptimizerBase.SimpleResult(result=1889.2342508777633, method='bisection', errormsg=None, context_dct=None) full_result [ 1.85536919e-10 -3.50177288e-07]\n",
      "[PairOptimizer.optimize] curves_t WETH-6Cc2/DAI-1d0F\n",
      "[PairOptimizer.optimize] p_optimal OptimizerBase.SimpleResult(result=1889.2342508777883, method='bisection', errormsg=None, context_dct=None) full_result [-2.54658516e-11  5.21540642e-08]\n",
      "[PairOptimizer.optimize] curves_t WETH-6Cc2/DAI-1d0F\n",
      "[PairOptimizer.optimize] p_optimal OptimizerBase.SimpleResult(result=1889.2342508777967, method='bisection', errormsg=None, context_dct=None) full_result [-1.01863407e-10  1.93715096e-07]\n",
      "[PairOptimizer.optimize] curves_t WETH-6Cc2/DAI-1d0F\n",
      "[PairOptimizer.optimize] p_optimal OptimizerBase.SimpleResult(result=1889.23425087778, method='bisection', errormsg=None, context_dct=None) full_result [ 4.36557457e-11 -7.45058060e-08]\n",
      "[PairOptimizer.optimize] curves_t WETH-6Cc2/DAI-1d0F\n",
      "[PairOptimizer.optimize] p_optimal OptimizerBase.SimpleResult(result=1889.2342508777592, method='bisection', errormsg=None, context_dct=None) full_result [ 2.25554685e-10 -4.24683094e-07]\n",
      "[PairOptimizer.optimize] curves_t WETH-6Cc2/DAI-1d0F\n",
      "[PairOptimizer.optimize] p_optimal OptimizerBase.SimpleResult(result=1889.2342508778206, method='bisection', errormsg=None, context_dct=None) full_result [-3.09228199e-10  5.81145287e-07]\n",
      "[PairOptimizer.optimize] curves_t WETH-6Cc2/DAI-1d0F\n",
      "[PairOptimizer.optimize] p_optimal OptimizerBase.SimpleResult(result=1889.2342508777615, method='bisection', errormsg=None, context_dct=None) full_result [ 2.03726813e-10 -3.87430191e-07]\n",
      "[PairOptimizer.optimize] curves_t WETH-6Cc2/DAI-1d0F\n",
      "[PairOptimizer.optimize] p_optimal OptimizerBase.SimpleResult(result=1889.234250877789, method='bisection', errormsg=None, context_dct=None) full_result [-3.63797881e-11  7.45058060e-08]\n",
      "[PairOptimizer.optimize] curves_t WETH-6Cc2/DAI-1d0F\n",
      "[PairOptimizer.optimize] p_optimal OptimizerBase.SimpleResult(result=1889.2342508777924, method='bisection', errormsg=None, context_dct=None) full_result [-6.54836185e-11  1.26659870e-07]\n"
     ]
    },
    {
     "data": {
      "text/plain": "  0%|          | 0/2 [00:00<?, ?it/s]",
      "application/vnd.jupyter.widget-view+json": {
       "version_major": 2,
       "version_minor": 0,
       "model_id": "6528e7afc7b24921b0337df3621efed3"
      }
     },
     "metadata": {},
     "output_type": "display_data"
    },
    {
     "name": "stdout",
     "output_type": "stream",
     "text": [
      "[PairOptimizer.optimize] curves_t LINK-86CA/USDT-1ec7\n",
      "[PairOptimizer.optimize] p_optimal OptimizerBase.SimpleResult(result=6.198117111446582, method='bisection', errormsg=None, context_dct=None) full_result [-8.02097011e-09 -8.85214240e-03]\n",
      "[PairOptimizer.optimize] curves_t LINK-86CA/USDT-1ec7\n",
      "[PairOptimizer.optimize] p_optimal OptimizerBase.SimpleResult(result=6.198055572641563, method='bisection', errormsg=None, context_dct=None) full_result [ 7.24139682e-09 -4.48817445e-08]\n"
     ]
    },
    {
     "data": {
      "text/plain": "  0%|          | 0/2 [00:00<?, ?it/s]",
      "application/vnd.jupyter.widget-view+json": {
       "version_major": 2,
       "version_minor": 0,
       "model_id": "a69e402107c64443819c7ab2accb0445"
      }
     },
     "metadata": {},
     "output_type": "display_data"
    },
    {
     "name": "stdout",
     "output_type": "stream",
     "text": [
      "[PairOptimizer.optimize] curves_t LINK-86CA/WETH-6Cc2\n",
      "[PairOptimizer.optimize] p_optimal OptimizerBase.SimpleResult(result=0.0033128000531845283, method='bisection', errormsg=None, context_dct=None) full_result [-0.16782973  0.00055599]\n",
      "[PairOptimizer.optimize] curves_t LINK-86CA/WETH-6Cc2\n",
      "[PairOptimizer.optimize] p_optimal OptimizerBase.SimpleResult(result=0.0033127999719611487, method='bisection', errormsg=None, context_dct=None) full_result [-0.13771125  0.00042809]\n"
     ]
    },
    {
     "data": {
      "text/plain": "0it [00:00, ?it/s]",
      "application/vnd.jupyter.widget-view+json": {
       "version_major": 2,
       "version_minor": 0,
       "model_id": "6a3d7d052f604d4b85250b2dc7bca5bc"
      }
     },
     "metadata": {},
     "output_type": "display_data"
    },
    {
     "data": {
      "text/plain": "0it [00:00, ?it/s]",
      "application/vnd.jupyter.widget-view+json": {
       "version_major": 2,
       "version_minor": 0,
       "model_id": "5b9262c103684280819addc80662edac"
      }
     },
     "metadata": {},
     "output_type": "display_data"
    },
    {
     "data": {
      "text/plain": "  0%|          | 0/2 [00:00<?, ?it/s]",
      "application/vnd.jupyter.widget-view+json": {
       "version_major": 2,
       "version_minor": 0,
       "model_id": "5c2260b2d04b460aafd8ec2452bc8d65"
      }
     },
     "metadata": {},
     "output_type": "display_data"
    },
    {
     "name": "stdout",
     "output_type": "stream",
     "text": [
      "[PairOptimizer.optimize] curves_t LYXe-be6D/WETH-6Cc2\n",
      "[PairOptimizer.optimize] p_optimal OptimizerBase.SimpleResult(result=0.00442545533353754, method='bisection', errormsg=None, context_dct=None) full_result [ 4.28492494e-05 -1.89627372e-07]\n",
      "[PairOptimizer.optimize] curves_t LYXe-be6D/WETH-6Cc2\n",
      "[PairOptimizer.optimize] p_optimal OptimizerBase.SimpleResult(result=0.004418792370941116, method='bisection', errormsg=None, context_dct=None) full_result [ 2.68626009e-05 -1.18700250e-07]\n"
     ]
    },
    {
     "data": {
      "text/plain": "0it [00:00, ?it/s]",
      "application/vnd.jupyter.widget-view+json": {
       "version_major": 2,
       "version_minor": 0,
       "model_id": "77ac2821dbee447d94bc6775a76eb65c"
      }
     },
     "metadata": {},
     "output_type": "display_data"
    },
    {
     "data": {
      "text/plain": "  0%|          | 0/3 [00:00<?, ?it/s]",
      "application/vnd.jupyter.widget-view+json": {
       "version_major": 2,
       "version_minor": 0,
       "model_id": "d368c6b4ed664ec5ae4c97d5aa0566e4"
      }
     },
     "metadata": {},
     "output_type": "display_data"
    },
    {
     "name": "stdout",
     "output_type": "stream",
     "text": [
      "[PairOptimizer.optimize] curves_t PEPE-1933/USDC-eB48\n",
      "[PairOptimizer.optimize] p_optimal OptimizerBase.SimpleResult(result=1.5362764284360806e-06, method='bisection', errormsg=None, context_dct=None) full_result [ 3.31085297e+05 -5.15307869e-01]\n",
      "[PairOptimizer.optimize] curves_t PEPE-1933/USDC-eB48\n",
      "[PairOptimizer.optimize] p_optimal OptimizerBase.SimpleResult(result=1.5360413484964488e-06, method='bisection', errormsg=None, context_dct=None) full_result [ 1.24107905e+06 -1.90637755e+00]\n",
      "[PairOptimizer.optimize] curves_t PEPE-1933/USDC-eB48\n",
      "[PairOptimizer.optimize] p_optimal OptimizerBase.SimpleResult(result=1.5361018372863056e-06, method='bisection', errormsg=None, context_dct=None) full_result [-3.75824662e+05  5.77302312e-01]\n"
     ]
    },
    {
     "data": {
      "text/plain": "  0%|          | 0/4 [00:00<?, ?it/s]",
      "application/vnd.jupyter.widget-view+json": {
       "version_major": 2,
       "version_minor": 0,
       "model_id": "5ec07615176e485fb60421910ec8d709"
      }
     },
     "metadata": {},
     "output_type": "display_data"
    },
    {
     "name": "stdout",
     "output_type": "stream",
     "text": [
      "[PairOptimizer.optimize] curves_t PEPE-1933/WETH-6Cc2\n",
      "[PairOptimizer.optimize] p_optimal OptimizerBase.SimpleResult(result=8.559826188530744e-10, method='bisection', errormsg=None, context_dct=None) full_result [-1.21937536e+10  9.94175394e+00]\n",
      "[PairOptimizer.optimize] curves_t PEPE-1933/WETH-6Cc2\n",
      "[PairOptimizer.optimize] p_optimal OptimizerBase.SimpleResult(result=8.344559342857861e-10, method='bisection', errormsg=None, context_dct=None) full_result [-1.21937536e+10  9.94175394e+00]\n",
      "[PairOptimizer.optimize] curves_t PEPE-1933/WETH-6Cc2\n",
      "[PairOptimizer.optimize] p_optimal OptimizerBase.SimpleResult(result=8.518911123836612e-10, method='bisection', errormsg=None, context_dct=None) full_result [-2.67154608e+09  2.18132892e+00]\n",
      "[PairOptimizer.optimize] curves_t PEPE-1933/WETH-6Cc2\n",
      "[PairOptimizer.optimize] p_optimal OptimizerBase.SimpleResult(result=8.303641780601484e-10, method='bisection', errormsg=None, context_dct=None) full_result [-2.67154608e+09  2.18132892e+00]\n"
     ]
    },
    {
     "data": {
      "text/plain": "0it [00:00, ?it/s]",
      "application/vnd.jupyter.widget-view+json": {
       "version_major": 2,
       "version_minor": 0,
       "model_id": "cf3a1ff28e9740d795cef62feecdbfe3"
      }
     },
     "metadata": {},
     "output_type": "display_data"
    },
    {
     "data": {
      "text/plain": "0it [00:00, ?it/s]",
      "application/vnd.jupyter.widget-view+json": {
       "version_major": 2,
       "version_minor": 0,
       "model_id": "cee2d3c2c6374822973e2e73ec2b7610"
      }
     },
     "metadata": {},
     "output_type": "display_data"
    },
    {
     "data": {
      "text/plain": "0it [00:00, ?it/s]",
      "application/vnd.jupyter.widget-view+json": {
       "version_major": 2,
       "version_minor": 0,
       "model_id": "7daca1145dc847bfb57d886caed3979c"
      }
     },
     "metadata": {},
     "output_type": "display_data"
    },
    {
     "data": {
      "text/plain": "0it [00:00, ?it/s]",
      "application/vnd.jupyter.widget-view+json": {
       "version_major": 2,
       "version_minor": 0,
       "model_id": "5335fc18e7ae4f50829d3cb45aaf4a5c"
      }
     },
     "metadata": {},
     "output_type": "display_data"
    },
    {
     "data": {
      "text/plain": "0it [00:00, ?it/s]",
      "application/vnd.jupyter.widget-view+json": {
       "version_major": 2,
       "version_minor": 0,
       "model_id": "b6fade6872fe42f0b0b5174556c44198"
      }
     },
     "metadata": {},
     "output_type": "display_data"
    },
    {
     "data": {
      "text/plain": "  0%|          | 0/1 [00:00<?, ?it/s]",
      "application/vnd.jupyter.widget-view+json": {
       "version_major": 2,
       "version_minor": 0,
       "model_id": "34e0da090da84f57b80efd8ffabdb3ca"
      }
     },
     "metadata": {},
     "output_type": "display_data"
    },
    {
     "name": "stdout",
     "output_type": "stream",
     "text": [
      "[PairOptimizer.optimize] curves_t MATIC-eBB0/USDC-eB48\n",
      "[PairOptimizer.optimize] p_optimal OptimizerBase.SimpleResult(result=0.7402602510964393, method='bisection', errormsg=None, context_dct=None) full_result [ 1.93977030e-08 -1.43554644e-08]\n"
     ]
    },
    {
     "data": {
      "text/plain": "0it [00:00, ?it/s]",
      "application/vnd.jupyter.widget-view+json": {
       "version_major": 2,
       "version_minor": 0,
       "model_id": "0aa8d7b5da354867960b048dbb5ff244"
      }
     },
     "metadata": {},
     "output_type": "display_data"
    },
    {
     "data": {
      "text/plain": "  0%|          | 0/10 [00:00<?, ?it/s]",
      "application/vnd.jupyter.widget-view+json": {
       "version_major": 2,
       "version_minor": 0,
       "model_id": "f26af06ba1d14ffbb42bc604a8b85eba"
      }
     },
     "metadata": {},
     "output_type": "display_data"
    },
    {
     "name": "stdout",
     "output_type": "stream",
     "text": [
      "[PairOptimizer.optimize] curves_t ETH2x_FLI-65BD/WETH-6Cc2\n",
      "[PairOptimizer.optimize] p_optimal OptimizerBase.SimpleResult(result=0.006679129508676205, method='bisection', errormsg=None, context_dct=None) full_result [-3.10834672e-04  2.07610492e-06]\n",
      "[PairOptimizer.optimize] curves_t ETH2x_FLI-65BD/WETH-6Cc2\n",
      "[PairOptimizer.optimize] p_optimal OptimizerBase.SimpleResult(result=0.006679129463190039, method='bisection', errormsg=None, context_dct=None) full_result [ 4.31903813e-04 -2.88474143e-06]\n",
      "[PairOptimizer.optimize] curves_t ETH2x_FLI-65BD/WETH-6Cc2\n",
      "[PairOptimizer.optimize] p_optimal OptimizerBase.SimpleResult(result=0.006679129508676205, method='bisection', errormsg=None, context_dct=None) full_result [-3.10834672e-04  2.07610492e-06]\n",
      "[PairOptimizer.optimize] curves_t ETH2x_FLI-65BD/WETH-6Cc2\n",
      "[PairOptimizer.optimize] p_optimal OptimizerBase.SimpleResult(result=0.006679129463190039, method='bisection', errormsg=None, context_dct=None) full_result [ 4.31903813e-04 -2.88474143e-06]\n",
      "[PairOptimizer.optimize] curves_t ETH2x_FLI-65BD/WETH-6Cc2\n",
      "[PairOptimizer.optimize] p_optimal OptimizerBase.SimpleResult(result=0.006679129488953929, method='bisection', errormsg=None, context_dct=None) full_result [ 1.12081470e-05 -7.48605089e-08]\n",
      "[PairOptimizer.optimize] curves_t ETH2x_FLI-65BD/WETH-6Cc2\n",
      "[PairOptimizer.optimize] p_optimal OptimizerBase.SimpleResult(result=0.0066791294858909115, method='bisection', errormsg=None, context_dct=None) full_result [ 6.12238073e-05 -4.08921778e-07]\n",
      "[PairOptimizer.optimize] curves_t ETH2x_FLI-65BD/WETH-6Cc2\n",
      "[PairOptimizer.optimize] p_optimal OptimizerBase.SimpleResult(result=0.006679129466468897, method='bisection', errormsg=None, context_dct=None) full_result [ 3.78363678e-04 -2.52713994e-06]\n",
      "[PairOptimizer.optimize] curves_t ETH2x_FLI-65BD/WETH-6Cc2\n",
      "[PairOptimizer.optimize] p_optimal OptimizerBase.SimpleResult(result=0.006679129485902879, method='bisection', errormsg=None, context_dct=None) full_result [ 6.10283751e-05 -4.07616426e-07]\n",
      "[PairOptimizer.optimize] curves_t ETH2x_FLI-65BD/WETH-6Cc2\n",
      "[PairOptimizer.optimize] p_optimal OptimizerBase.SimpleResult(result=0.0066791294539485435, method='bisection', errormsg=None, context_dct=None) full_result [ 5.82807115e-04 -3.89264414e-06]\n",
      "[PairOptimizer.optimize] curves_t ETH2x_FLI-65BD/WETH-6Cc2\n",
      "[PairOptimizer.optimize] p_optimal OptimizerBase.SimpleResult(result=0.006679129470729444, method='bisection', errormsg=None, context_dct=None) full_result [ 3.08793708e-04 -2.06247319e-06]\n"
     ]
    },
    {
     "data": {
      "text/plain": "0it [00:00, ?it/s]",
      "application/vnd.jupyter.widget-view+json": {
       "version_major": 2,
       "version_minor": 0,
       "model_id": "eafa2e32f2a74e7c9e601367e79e8049"
      }
     },
     "metadata": {},
     "output_type": "display_data"
    },
    {
     "data": {
      "text/plain": "0it [00:00, ?it/s]",
      "application/vnd.jupyter.widget-view+json": {
       "version_major": 2,
       "version_minor": 0,
       "model_id": "05e62f79879445a592faedc020ca57af"
      }
     },
     "metadata": {},
     "output_type": "display_data"
    },
    {
     "data": {
      "text/plain": "0it [00:00, ?it/s]",
      "application/vnd.jupyter.widget-view+json": {
       "version_major": 2,
       "version_minor": 0,
       "model_id": "5eaa13588d0e4098a53e0b9758ee597d"
      }
     },
     "metadata": {},
     "output_type": "display_data"
    },
    {
     "data": {
      "text/plain": "0it [00:00, ?it/s]",
      "application/vnd.jupyter.widget-view+json": {
       "version_major": 2,
       "version_minor": 0,
       "model_id": "036596d5cfb6453b94597fb7032394bc"
      }
     },
     "metadata": {},
     "output_type": "display_data"
    },
    {
     "data": {
      "text/plain": "0it [00:00, ?it/s]",
      "application/vnd.jupyter.widget-view+json": {
       "version_major": 2,
       "version_minor": 0,
       "model_id": "b52302e02fd243eea6cb31f5653313c5"
      }
     },
     "metadata": {},
     "output_type": "display_data"
    },
    {
     "data": {
      "text/plain": "0it [00:00, ?it/s]",
      "application/vnd.jupyter.widget-view+json": {
       "version_major": 2,
       "version_minor": 0,
       "model_id": "273ff7be3614466fac65a6cd0176d19f"
      }
     },
     "metadata": {},
     "output_type": "display_data"
    },
    {
     "data": {
      "text/plain": "0it [00:00, ?it/s]",
      "application/vnd.jupyter.widget-view+json": {
       "version_major": 2,
       "version_minor": 0,
       "model_id": "953e9e23b4e941f1af8bd2b0403b80b0"
      }
     },
     "metadata": {},
     "output_type": "display_data"
    },
    {
     "data": {
      "text/plain": "0it [00:00, ?it/s]",
      "application/vnd.jupyter.widget-view+json": {
       "version_major": 2,
       "version_minor": 0,
       "model_id": "00c81d668ff94453bf3e6f98b81045d3"
      }
     },
     "metadata": {},
     "output_type": "display_data"
    },
    {
     "data": {
      "text/plain": "0it [00:00, ?it/s]",
      "application/vnd.jupyter.widget-view+json": {
       "version_major": 2,
       "version_minor": 0,
       "model_id": "4f8b42b745424be2bac29530517c6955"
      }
     },
     "metadata": {},
     "output_type": "display_data"
    },
    {
     "data": {
      "text/plain": "0it [00:00, ?it/s]",
      "application/vnd.jupyter.widget-view+json": {
       "version_major": 2,
       "version_minor": 0,
       "model_id": "3c8a5e3335b149e88d4ef22a42b1cf83"
      }
     },
     "metadata": {},
     "output_type": "display_data"
    },
    {
     "data": {
      "text/plain": "0it [00:00, ?it/s]",
      "application/vnd.jupyter.widget-view+json": {
       "version_major": 2,
       "version_minor": 0,
       "model_id": "190b1db260c34094a018e77d380121ed"
      }
     },
     "metadata": {},
     "output_type": "display_data"
    },
    {
     "data": {
      "text/plain": "  0%|          | 0/6 [00:00<?, ?it/s]",
      "application/vnd.jupyter.widget-view+json": {
       "version_major": 2,
       "version_minor": 0,
       "model_id": "cfab4289010645b7ab46086c87edb2d9"
      }
     },
     "metadata": {},
     "output_type": "display_data"
    },
    {
     "name": "stdout",
     "output_type": "stream",
     "text": [
      "[PairOptimizer.optimize] curves_t BNT-FF1C/USDC-eB48\n",
      "[PairOptimizer.optimize] p_optimal OptimizerBase.SimpleResult(result=0.39333884843841355, method='bisection', errormsg=None, context_dct=None) full_result [ 1.75605528e-05 -6.90715387e-06]\n",
      "[PairOptimizer.optimize] curves_t BNT-FF1C/USDC-eB48\n",
      "[PairOptimizer.optimize] p_optimal OptimizerBase.SimpleResult(result=0.3933388484490955, method='bisection', errormsg=None, context_dct=None) full_result [-1.94469467e-05  7.64918514e-06]\n",
      "[PairOptimizer.optimize] curves_t BNT-FF1C/USDC-eB48\n",
      "[PairOptimizer.optimize] p_optimal OptimizerBase.SimpleResult(result=0.39333884846937545, method='bisection', errormsg=None, context_dct=None) full_result [-8.97073187e-05  3.52852512e-05]\n",
      "[PairOptimizer.optimize] curves_t BNT-FF1C/USDC-eB48\n",
      "[PairOptimizer.optimize] p_optimal OptimizerBase.SimpleResult(result=0.39333884845532807, method='bisection', errormsg=None, context_dct=None) full_result [-4.10396606e-05  1.61423814e-05]\n",
      "[PairOptimizer.optimize] curves_t BNT-FF1C/USDC-eB48\n",
      "[PairOptimizer.optimize] p_optimal OptimizerBase.SimpleResult(result=0.3933379880312765, method='bisection', errormsg=None, context_dct=None) full_result [-0.00013706 -0.00989813]\n",
      "[PairOptimizer.optimize] curves_t BNT-FF1C/USDC-eB48\n",
      "[PairOptimizer.optimize] p_optimal OptimizerBase.SimpleResult(result=0.39333884846627104, method='bisection', errormsg=None, context_dct=None) full_result [-7.89514743e-05  3.10547184e-05]\n"
     ]
    },
    {
     "data": {
      "text/plain": "  0%|          | 0/4 [00:00<?, ?it/s]",
      "application/vnd.jupyter.widget-view+json": {
       "version_major": 2,
       "version_minor": 0,
       "model_id": "c4197e1b3b3044559374ae177abfffc5"
      }
     },
     "metadata": {},
     "output_type": "display_data"
    },
    {
     "name": "stdout",
     "output_type": "stream",
     "text": [
      "[PairOptimizer.optimize] curves_t WETH-6Cc2/BNT-FF1C\n",
      "[PairOptimizer.optimize] p_optimal OptimizerBase.SimpleResult(result=4764.128744551157, method='bisection', errormsg=None, context_dct=None) full_result [-5.01323686e-04 -2.76886567e-08]\n",
      "[PairOptimizer.optimize] curves_t WETH-6Cc2/BNT-FF1C\n",
      "[PairOptimizer.optimize] p_optimal OptimizerBase.SimpleResult(result=4764.138098143878, method='bisection', errormsg=None, context_dct=None) full_result [ 2.72848411e-12 -1.49011612e-08]\n",
      "[PairOptimizer.optimize] curves_t WETH-6Cc2/BNT-FF1C\n",
      "[PairOptimizer.optimize] p_optimal OptimizerBase.SimpleResult(result=4764.138098143918, method='bisection', errormsg=None, context_dct=None) full_result [-1.18234311e-11  5.58793545e-08]\n",
      "[PairOptimizer.optimize] curves_t WETH-6Cc2/BNT-FF1C\n",
      "[PairOptimizer.optimize] p_optimal OptimizerBase.SimpleResult(result=4764.138098143867, method='bisection', errormsg=None, context_dct=None) full_result [ 7.27595761e-12 -3.35276127e-08]\n"
     ]
    },
    {
     "data": {
      "text/plain": "0it [00:00, ?it/s]",
      "application/vnd.jupyter.widget-view+json": {
       "version_major": 2,
       "version_minor": 0,
       "model_id": "167673450e7a41adb9b63ae5cd9849df"
      }
     },
     "metadata": {},
     "output_type": "display_data"
    },
    {
     "data": {
      "text/plain": "0it [00:00, ?it/s]",
      "application/vnd.jupyter.widget-view+json": {
       "version_major": 2,
       "version_minor": 0,
       "model_id": "d28dd74ffb974dd6a03623ca0ddd93ee"
      }
     },
     "metadata": {},
     "output_type": "display_data"
    },
    {
     "data": {
      "text/plain": "0it [00:00, ?it/s]",
      "application/vnd.jupyter.widget-view+json": {
       "version_major": 2,
       "version_minor": 0,
       "model_id": "5311fb5db6644a3198126a1c42d0146b"
      }
     },
     "metadata": {},
     "output_type": "display_data"
    },
    {
     "data": {
      "text/plain": "  0%|          | 0/2 [00:00<?, ?it/s]",
      "application/vnd.jupyter.widget-view+json": {
       "version_major": 2,
       "version_minor": 0,
       "model_id": "574ba02b28594a9e9604893083d09089"
      }
     },
     "metadata": {},
     "output_type": "display_data"
    },
    {
     "name": "stdout",
     "output_type": "stream",
     "text": [
      "[PairOptimizer.optimize] curves_t CRV-cd52/USDC-eB48\n",
      "[PairOptimizer.optimize] p_optimal OptimizerBase.SimpleResult(result=0.7931937487301034, method='bisection', errormsg=None, context_dct=None) full_result [ 6.64254185e-06 -1.90729802e-01]\n",
      "[PairOptimizer.optimize] curves_t CRV-cd52/USDC-eB48\n",
      "[PairOptimizer.optimize] p_optimal OptimizerBase.SimpleResult(result=0.793190313085959, method='bisection', errormsg=None, context_dct=None) full_result [-9.03115142e-06  7.16338400e-06]\n"
     ]
    },
    {
     "data": {
      "text/plain": "0it [00:00, ?it/s]",
      "application/vnd.jupyter.widget-view+json": {
       "version_major": 2,
       "version_minor": 0,
       "model_id": "23deb4cf5ea94ef2a830fd55419ab5d3"
      }
     },
     "metadata": {},
     "output_type": "display_data"
    },
    {
     "data": {
      "text/plain": "0it [00:00, ?it/s]",
      "application/vnd.jupyter.widget-view+json": {
       "version_major": 2,
       "version_minor": 0,
       "model_id": "33054764fe11428ca43236c6dcefe4c1"
      }
     },
     "metadata": {},
     "output_type": "display_data"
    },
    {
     "data": {
      "text/plain": "0it [00:00, ?it/s]",
      "application/vnd.jupyter.widget-view+json": {
       "version_major": 2,
       "version_minor": 0,
       "model_id": "544192b7b6b247b3b046d955bba319c0"
      }
     },
     "metadata": {},
     "output_type": "display_data"
    },
    {
     "data": {
      "text/plain": "0it [00:00, ?it/s]",
      "application/vnd.jupyter.widget-view+json": {
       "version_major": 2,
       "version_minor": 0,
       "model_id": "76f8cd5ad59f46e5891eca92b8856c80"
      }
     },
     "metadata": {},
     "output_type": "display_data"
    },
    {
     "data": {
      "text/plain": "0it [00:00, ?it/s]",
      "application/vnd.jupyter.widget-view+json": {
       "version_major": 2,
       "version_minor": 0,
       "model_id": "15b62d0a3cd242b0a61466bb880960bf"
      }
     },
     "metadata": {},
     "output_type": "display_data"
    },
    {
     "data": {
      "text/plain": "0it [00:00, ?it/s]",
      "application/vnd.jupyter.widget-view+json": {
       "version_major": 2,
       "version_minor": 0,
       "model_id": "edbcdcbbb28648cc9cafd4dffb48ac6a"
      }
     },
     "metadata": {},
     "output_type": "display_data"
    },
    {
     "data": {
      "text/plain": "0it [00:00, ?it/s]",
      "application/vnd.jupyter.widget-view+json": {
       "version_major": 2,
       "version_minor": 0,
       "model_id": "0326265bc83f41e0aaa8cee27b64eee0"
      }
     },
     "metadata": {},
     "output_type": "display_data"
    },
    {
     "data": {
      "text/plain": "0it [00:00, ?it/s]",
      "application/vnd.jupyter.widget-view+json": {
       "version_major": 2,
       "version_minor": 0,
       "model_id": "cf89de05525041228e28a1f9060ddaf3"
      }
     },
     "metadata": {},
     "output_type": "display_data"
    },
    {
     "data": {
      "text/plain": "0it [00:00, ?it/s]",
      "application/vnd.jupyter.widget-view+json": {
       "version_major": 2,
       "version_minor": 0,
       "model_id": "5e789b16fbec410ba1afb0b8958a01df"
      }
     },
     "metadata": {},
     "output_type": "display_data"
    },
    {
     "data": {
      "text/plain": "  0%|          | 0/4 [00:00<?, ?it/s]",
      "application/vnd.jupyter.widget-view+json": {
       "version_major": 2,
       "version_minor": 0,
       "model_id": "f76e29122aca47328c3b7d6496391121"
      }
     },
     "metadata": {},
     "output_type": "display_data"
    },
    {
     "name": "stdout",
     "output_type": "stream",
     "text": [
      "[PairOptimizer.optimize] curves_t DAI-1d0F/USDT-1ec7\n",
      "[PairOptimizer.optimize] p_optimal OptimizerBase.SimpleResult(result=0.9998810288149655, method='bisection', errormsg=None, context_dct=None) full_result [ 0.03739882 -0.03739452]\n",
      "[PairOptimizer.optimize] curves_t DAI-1d0F/USDT-1ec7\n",
      "[PairOptimizer.optimize] p_optimal OptimizerBase.SimpleResult(result=0.9998810288451494, method='bisection', errormsg=None, context_dct=None) full_result [-0.01955795  0.01955557]\n",
      "[PairOptimizer.optimize] curves_t DAI-1d0F/USDT-1ec7\n",
      "[PairOptimizer.optimize] p_optimal OptimizerBase.SimpleResult(result=1.0000277727814577, method='bisection', errormsg=None, context_dct=None) full_result [ 0.00187576 -0.00187576]\n",
      "[PairOptimizer.optimize] curves_t DAI-1d0F/USDT-1ec7\n",
      "[PairOptimizer.optimize] p_optimal OptimizerBase.SimpleResult(result=1.000027772749948, method='bisection', errormsg=None, context_dct=None) full_result [ 0.00692052 -0.0069207 ]\n"
     ]
    },
    {
     "data": {
      "text/plain": "  0%|          | 0/10 [00:00<?, ?it/s]",
      "application/vnd.jupyter.widget-view+json": {
       "version_major": 2,
       "version_minor": 0,
       "model_id": "52431d8d645145268d3e293b5529d95f"
      }
     },
     "metadata": {},
     "output_type": "display_data"
    },
    {
     "name": "stdout",
     "output_type": "stream",
     "text": [
      "[PairOptimizer.optimize] curves_t USDT-1ec7/USDC-eB48\n",
      "[PairOptimizer.optimize] p_optimal OptimizerBase.SimpleResult(result=1.0000207903497311, method='bisection', errormsg=None, context_dct=None) full_result [ 7.05828857 -7.05841064]\n",
      "[PairOptimizer.optimize] curves_t USDT-1ec7/USDC-eB48\n",
      "[PairOptimizer.optimize] p_optimal OptimizerBase.SimpleResult(result=1.0000207904081506, method='bisection', errormsg=None, context_dct=None) full_result [-8.25445557  8.25463867]\n",
      "[PairOptimizer.optimize] curves_t USDT-1ec7/USDC-eB48\n",
      "[PairOptimizer.optimize] p_optimal OptimizerBase.SimpleResult(result=1.0000207904020626, method='bisection', errormsg=None, context_dct=None) full_result [-6.65869141  6.65881348]\n",
      "[PairOptimizer.optimize] curves_t USDT-1ec7/USDC-eB48\n",
      "[PairOptimizer.optimize] p_optimal OptimizerBase.SimpleResult(result=1.000020791638284, method='bisection', errormsg=None, context_dct=None) full_result [ 3.87104021 -3.98310679]\n",
      "[PairOptimizer.optimize] curves_t USDT-1ec7/USDC-eB48\n",
      "[PairOptimizer.optimize] p_optimal OptimizerBase.SimpleResult(result=1.000020790340398, method='bisection', errormsg=None, context_dct=None) full_result [ 9.50469971 -9.50488281]\n",
      "[PairOptimizer.optimize] curves_t USDT-1ec7/USDC-eB48\n",
      "[PairOptimizer.optimize] p_optimal OptimizerBase.SimpleResult(result=0.9999812258785822, method='bisection', errormsg=None, context_dct=None) full_result [-0.01484537  0.01484489]\n",
      "[PairOptimizer.optimize] curves_t USDT-1ec7/USDC-eB48\n",
      "[PairOptimizer.optimize] p_optimal OptimizerBase.SimpleResult(result=0.9999812258567959, method='bisection', errormsg=None, context_dct=None) full_result [ 0.02874136 -0.02874088]\n",
      "[PairOptimizer.optimize] curves_t USDT-1ec7/USDC-eB48\n",
      "[PairOptimizer.optimize] p_optimal OptimizerBase.SimpleResult(result=0.9999812258950511, method='bisection', errormsg=None, context_dct=None) full_result [-0.04779387  0.04779243]\n",
      "[PairOptimizer.optimize] curves_t USDT-1ec7/USDC-eB48\n",
      "[PairOptimizer.optimize] p_optimal OptimizerBase.SimpleResult(result=0.9999814029627629, method='bisection', errormsg=None, context_dct=None) full_result [-0.04363578 -0.08196931]\n",
      "[PairOptimizer.optimize] curves_t USDT-1ec7/USDC-eB48\n",
      "[PairOptimizer.optimize] p_optimal OptimizerBase.SimpleResult(result=0.9999812258655427, method='bisection', errormsg=None, context_dct=None) full_result [ 0.01124191 -0.01124191]\n"
     ]
    },
    {
     "data": {
      "text/plain": "  0%|          | 0/1 [00:00<?, ?it/s]",
      "application/vnd.jupyter.widget-view+json": {
       "version_major": 2,
       "version_minor": 0,
       "model_id": "b944bbc07b0b4f47a32b7261389f76f9"
      }
     },
     "metadata": {},
     "output_type": "display_data"
    },
    {
     "name": "stdout",
     "output_type": "stream",
     "text": [
      "[PairOptimizer.optimize] curves_t WBTC-C599/USDT-1ec7\n",
      "[PairOptimizer.optimize] p_optimal OptimizerBase.SimpleResult(result=30694.61394905813, method='bisection', errormsg=None, context_dct=None) full_result [-6.27944824e-07  9.15003540e-09]\n"
     ]
    },
    {
     "data": {
      "text/plain": "  0%|          | 0/39 [00:00<?, ?it/s]",
      "application/vnd.jupyter.widget-view+json": {
       "version_major": 2,
       "version_minor": 0,
       "model_id": "d027744c0321448ebef814acd4849337"
      }
     },
     "metadata": {},
     "output_type": "display_data"
    },
    {
     "name": "stdout",
     "output_type": "stream",
     "text": [
      "[PairOptimizer.optimize] curves_t WETH-6Cc2/USDT-1ec7\n",
      "[PairOptimizer.optimize] p_optimal OptimizerBase.SimpleResult(result=1890.390259964137, method='bisection', errormsg=None, context_dct=None) full_result [-2.06273398e-09 -2.01165676e-07]\n",
      "[PairOptimizer.optimize] curves_t WETH-6Cc2/USDT-1ec7\n",
      "[PairOptimizer.optimize] p_optimal OptimizerBase.SimpleResult(result=1890.3902598801692, method='bisection', errormsg=None, context_dct=None) full_result [ 8.73114914e-10 -1.66893005e-06]\n",
      "[PairOptimizer.optimize] curves_t WETH-6Cc2/USDT-1ec7\n",
      "[PairOptimizer.optimize] p_optimal OptimizerBase.SimpleResult(result=1890.390259880171, method='bisection', errormsg=None, context_dct=None) full_result [ 6.98491931e-10 -1.31130219e-06]\n",
      "[PairOptimizer.optimize] curves_t WETH-6Cc2/USDT-1ec7\n",
      "[PairOptimizer.optimize] p_optimal OptimizerBase.SimpleResult(result=1890.390259880202, method='bisection', errormsg=None, context_dct=None) full_result [-1.80443749e-09  3.33786011e-06]\n",
      "[PairOptimizer.optimize] curves_t WETH-6Cc2/USDT-1ec7\n",
      "[PairOptimizer.optimize] p_optimal 1890.3902598801792 full_result [0. 0.]\n",
      "[FindArbitrageSinglePairwise] Exception:  'numpy.float64' object has no attribute 'is_error'\n",
      "[PairOptimizer.optimize] curves_t WETH-6Cc2/USDT-1ec7\n",
      "[PairOptimizer.optimize] p_optimal OptimizerBase.SimpleResult(result=1890.3902598801692, method='bisection', errormsg=None, context_dct=None) full_result [ 8.73114914e-10 -1.66893005e-06]\n",
      "[PairOptimizer.optimize] curves_t WETH-6Cc2/USDT-1ec7\n",
      "[PairOptimizer.optimize] p_optimal OptimizerBase.SimpleResult(result=1890.3902598801506, method='bisection', errormsg=None, context_dct=None) full_result [ 2.32830644e-09 -4.41074371e-06]\n",
      "[PairOptimizer.optimize] curves_t WETH-6Cc2/USDT-1ec7\n",
      "[PairOptimizer.optimize] p_optimal OptimizerBase.SimpleResult(result=1890.3902702014298, method='bisection', errormsg=None, context_dct=None) full_result [-1.49065873e-05  2.75946513e-06]\n",
      "[PairOptimizer.optimize] curves_t WETH-6Cc2/USDT-1ec7\n",
      "[PairOptimizer.optimize] p_optimal OptimizerBase.SimpleResult(result=1890.3902598801637, method='bisection', errormsg=None, context_dct=None) full_result [ 1.28056854e-09 -2.50339508e-06]\n",
      "[PairOptimizer.optimize] curves_t WETH-6Cc2/USDT-1ec7\n",
      "[PairOptimizer.optimize] p_optimal OptimizerBase.SimpleResult(result=1890.390259880181, method='bisection', errormsg=None, context_dct=None) full_result [-1.16415322e-10  1.19209290e-07]\n",
      "[PairOptimizer.optimize] curves_t WETH-6Cc2/USDT-1ec7\n",
      "[PairOptimizer.optimize] p_optimal OptimizerBase.SimpleResult(result=1890.3902598801799, method='bisection', errormsg=None, context_dct=None) full_result [-5.82076609e-11  0.00000000e+00]\n",
      "[PairOptimizer.optimize] curves_t WETH-6Cc2/USDT-1ec7\n",
      "[PairOptimizer.optimize] p_optimal OptimizerBase.SimpleResult(result=1890.3902598801478, method='bisection', errormsg=None, context_dct=None) full_result [ 2.56113708e-09 -4.76837158e-06]\n",
      "[PairOptimizer.optimize] curves_t WETH-6Cc2/USDT-1ec7\n",
      "[PairOptimizer.optimize] p_optimal OptimizerBase.SimpleResult(result=1890.390259880165, method='bisection', errormsg=None, context_dct=None) full_result [ 1.16415322e-09 -2.14576721e-06]\n",
      "[PairOptimizer.optimize] curves_t WETH-6Cc2/USDT-1ec7\n",
      "[PairOptimizer.optimize] p_optimal OptimizerBase.SimpleResult(result=1889.1458891680038, method='bisection', errormsg=None, context_dct=None) full_result [-5.84623194e-09 -1.45286322e-06]\n",
      "[PairOptimizer.optimize] curves_t WETH-6Cc2/USDT-1ec7\n",
      "[PairOptimizer.optimize] p_optimal OptimizerBase.SimpleResult(result=1889.145888875987, method='bisection', errormsg=None, context_dct=None) full_result [-6.11180440e-10  1.16229057e-06]\n",
      "[PairOptimizer.optimize] curves_t WETH-6Cc2/USDT-1ec7\n",
      "[PairOptimizer.optimize] p_optimal 1889.1458888759603 full_result [0. 0.]\n",
      "[FindArbitrageSinglePairwise] Exception:  'numpy.float64' object has no attribute 'is_error'\n",
      "[PairOptimizer.optimize] curves_t WETH-6Cc2/USDT-1ec7\n",
      "[PairOptimizer.optimize] p_optimal OptimizerBase.SimpleResult(result=1889.1458888759319, method='bisection', errormsg=None, context_dct=None) full_result [ 6.69388101e-10 -1.25169754e-06]\n",
      "[PairOptimizer.optimize] curves_t WETH-6Cc2/USDT-1ec7\n",
      "[PairOptimizer.optimize] p_optimal OptimizerBase.SimpleResult(result=1889.1458888759628, method='bisection', errormsg=None, context_dct=None) full_result [-5.82076609e-11  1.19209290e-07]\n",
      "[PairOptimizer.optimize] curves_t WETH-6Cc2/USDT-1ec7\n",
      "[PairOptimizer.optimize] p_optimal OptimizerBase.SimpleResult(result=1889.145888875937, method='bisection', errormsg=None, context_dct=None) full_result [ 5.38420863e-10 -1.01327896e-06]\n",
      "[PairOptimizer.optimize] curves_t WETH-6Cc2/USDT-1ec7\n",
      "[PairOptimizer.optimize] p_optimal OptimizerBase.SimpleResult(result=1889.1458888759466, method='bisection', errormsg=None, context_dct=None) full_result [ 3.20142135e-10 -6.25848770e-07]\n",
      "[PairOptimizer.optimize] curves_t WETH-6Cc2/USDT-1ec7\n",
      "[PairOptimizer.optimize] p_optimal OptimizerBase.SimpleResult(result=1889.1459247817706, method='bisection', errormsg=None, context_dct=None) full_result [-1.54507852e-05  1.36860763e-07]\n",
      "[PairOptimizer.optimize] curves_t WETH-6Cc2/USDT-1ec7\n",
      "[PairOptimizer.optimize] p_optimal OptimizerBase.SimpleResult(result=1889.145888875984, method='bisection', errormsg=None, context_dct=None) full_result [-5.52972779e-10  1.04308128e-06]\n",
      "[PairOptimizer.optimize] curves_t WETH-6Cc2/USDT-1ec7\n",
      "[PairOptimizer.optimize] p_optimal OptimizerBase.SimpleResult(result=1889.1458888759767, method='bisection', errormsg=None, context_dct=None) full_result [-3.78349796e-10  7.15255737e-07]\n",
      "[PairOptimizer.optimize] curves_t WETH-6Cc2/USDT-1ec7\n",
      "[PairOptimizer.optimize] p_optimal OptimizerBase.SimpleResult(result=1889.1458888759503, method='bisection', errormsg=None, context_dct=None) full_result [ 2.32830644e-10 -4.47034836e-07]\n",
      "[PairOptimizer.optimize] curves_t WETH-6Cc2/USDT-1ec7\n",
      "[PairOptimizer.optimize] p_optimal OptimizerBase.SimpleResult(result=1889.1458888759323, method='bisection', errormsg=None, context_dct=None) full_result [ 6.54836185e-10 -1.22189522e-06]\n",
      "[PairOptimizer.optimize] curves_t WETH-6Cc2/USDT-1ec7\n",
      "[PairOptimizer.optimize] p_optimal OptimizerBase.SimpleResult(result=1889.1458888759523, method='bisection', errormsg=None, context_dct=None) full_result [ 1.74622983e-10 -3.27825546e-07]\n",
      "[PairOptimizer.optimize] curves_t WETH-6Cc2/USDT-1ec7\n",
      "[PairOptimizer.optimize] p_optimal OptimizerBase.SimpleResult(result=1881.7106092926715, method='bisection', errormsg=None, context_dct=None) full_result [-3.31456249e-08 -1.93715096e-07]\n",
      "[PairOptimizer.optimize] curves_t WETH-6Cc2/USDT-1ec7\n",
      "[PairOptimizer.optimize] p_optimal OptimizerBase.SimpleResult(result=1881.7106081912802, method='bisection', errormsg=None, context_dct=None) full_result [-1.85536919e-10  3.50177288e-07]\n",
      "[PairOptimizer.optimize] curves_t WETH-6Cc2/USDT-1ec7\n",
      "[PairOptimizer.optimize] p_optimal OptimizerBase.SimpleResult(result=1881.7106081912625, method='bisection', errormsg=None, context_dct=None) full_result [-7.63975549e-11  1.41561031e-07]\n",
      "[PairOptimizer.optimize] curves_t WETH-6Cc2/USDT-1ec7\n",
      "[PairOptimizer.optimize] p_optimal OptimizerBase.SimpleResult(result=1881.7106081912243, method='bisection', errormsg=None, context_dct=None) full_result [ 1.60071068e-10 -3.05473804e-07]\n",
      "[PairOptimizer.optimize] curves_t WETH-6Cc2/USDT-1ec7\n",
      "[PairOptimizer.optimize] p_optimal OptimizerBase.SimpleResult(result=1881.7106081912748, method='bisection', errormsg=None, context_dct=None) full_result [-1.52795110e-10  2.83122063e-07]\n",
      "[PairOptimizer.optimize] curves_t WETH-6Cc2/USDT-1ec7\n",
      "[PairOptimizer.optimize] p_optimal OptimizerBase.SimpleResult(result=1881.7106081912675, method='bisection', errormsg=None, context_dct=None) full_result [-1.05501385e-10  1.93715096e-07]\n",
      "[PairOptimizer.optimize] curves_t WETH-6Cc2/USDT-1ec7\n",
      "[PairOptimizer.optimize] p_optimal OptimizerBase.SimpleResult(result=1881.7106081912423, method='bisection', errormsg=None, context_dct=None) full_result [ 5.09317033e-11 -9.68575478e-08]\n",
      "[PairOptimizer.optimize] curves_t WETH-6Cc2/USDT-1ec7\n",
      "[PairOptimizer.optimize] p_optimal OptimizerBase.SimpleResult(result=1881.710743594186, method='bisection', errormsg=None, context_dct=None) full_result [-1.87258684e-05  2.70971213e-07]\n",
      "[PairOptimizer.optimize] curves_t WETH-6Cc2/USDT-1ec7\n",
      "[PairOptimizer.optimize] p_optimal OptimizerBase.SimpleResult(result=1881.71060819127, method='bisection', errormsg=None, context_dct=None) full_result [-1.20053301e-10  2.23517418e-07]\n",
      "[PairOptimizer.optimize] curves_t WETH-6Cc2/USDT-1ec7\n",
      "[PairOptimizer.optimize] p_optimal OptimizerBase.SimpleResult(result=1881.7106081912555, method='bisection', errormsg=None, context_dct=None) full_result [-2.91038305e-11  5.21540642e-08]\n",
      "[PairOptimizer.optimize] curves_t WETH-6Cc2/USDT-1ec7\n",
      "[PairOptimizer.optimize] p_optimal OptimizerBase.SimpleResult(result=1881.710608191252, method='bisection', errormsg=None, context_dct=None) full_result [-1.09139364e-11  2.23517418e-08]\n",
      "[PairOptimizer.optimize] curves_t WETH-6Cc2/USDT-1ec7\n",
      "[PairOptimizer.optimize] p_optimal OptimizerBase.SimpleResult(result=1881.7106081912298, method='bisection', errormsg=None, context_dct=None) full_result [ 1.23691279e-10 -2.38418579e-07]\n",
      "[PairOptimizer.optimize] curves_t WETH-6Cc2/USDT-1ec7\n",
      "[PairOptimizer.optimize] p_optimal OptimizerBase.SimpleResult(result=1881.7106081912725, method='bisection', errormsg=None, context_dct=None) full_result [-1.34605216e-10  2.53319740e-07]\n"
     ]
    },
    {
     "data": {
      "text/plain": "0it [00:00, ?it/s]",
      "application/vnd.jupyter.widget-view+json": {
       "version_major": 2,
       "version_minor": 0,
       "model_id": "110c093a39474e26ae3221fd92ef628d"
      }
     },
     "metadata": {},
     "output_type": "display_data"
    },
    {
     "data": {
      "text/plain": "0it [00:00, ?it/s]",
      "application/vnd.jupyter.widget-view+json": {
       "version_major": 2,
       "version_minor": 0,
       "model_id": "9d8ebdbe9ba04a819226e318c9cbec7d"
      }
     },
     "metadata": {},
     "output_type": "display_data"
    },
    {
     "data": {
      "text/plain": "0it [00:00, ?it/s]",
      "application/vnd.jupyter.widget-view+json": {
       "version_major": 2,
       "version_minor": 0,
       "model_id": "35ee9f0b9b9c443fbf8a25f9f393dad9"
      }
     },
     "metadata": {},
     "output_type": "display_data"
    },
    {
     "data": {
      "text/plain": "  0%|          | 0/16 [00:00<?, ?it/s]",
      "application/vnd.jupyter.widget-view+json": {
       "version_major": 2,
       "version_minor": 0,
       "model_id": "0650354d939e40e2a775df28cf81fde8"
      }
     },
     "metadata": {},
     "output_type": "display_data"
    },
    {
     "name": "stdout",
     "output_type": "stream",
     "text": [
      "[PairOptimizer.optimize] curves_t WBTC-C599/USDC-eB48\n",
      "[PairOptimizer.optimize] p_optimal OptimizerBase.SimpleResult(result=30709.171178596996, method='bisection', errormsg=None, context_dct=None) full_result [-1.13686838e-13  1.86264515e-09]\n",
      "[PairOptimizer.optimize] curves_t WBTC-C599/USDC-eB48\n",
      "[PairOptimizer.optimize] p_optimal OptimizerBase.SimpleResult(result=30709.171178596982, method='bisection', errormsg=None, context_dct=None) full_result [ 0.00000000e+00 -9.31322575e-10]\n",
      "[PairOptimizer.optimize] curves_t WBTC-C599/USDC-eB48\n",
      "[PairOptimizer.optimize] p_optimal OptimizerBase.SimpleResult(result=30709.171178596964, method='bisection', errormsg=None, context_dct=None) full_result [ 1.13686838e-13 -3.72529030e-09]\n",
      "[PairOptimizer.optimize] curves_t WBTC-C599/USDC-eB48\n",
      "[PairOptimizer.optimize] p_optimal 30709.171178596982 full_result [ 0.00000000e+00 -9.31322575e-10]\n",
      "[FindArbitrageSinglePairwise] Exception:  'numpy.float64' object has no attribute 'is_error'\n",
      "[PairOptimizer.optimize] curves_t WBTC-C599/USDC-eB48\n",
      "[PairOptimizer.optimize] p_optimal OptimizerBase.SimpleResult(result=30709.171178596967, method='bisection', errormsg=None, context_dct=None) full_result [ 5.68434189e-14 -1.86264515e-09]\n",
      "[PairOptimizer.optimize] curves_t WBTC-C599/USDC-eB48\n",
      "[PairOptimizer.optimize] p_optimal OptimizerBase.SimpleResult(result=30709.171178597004, method='bisection', errormsg=None, context_dct=None) full_result [-1.13686838e-13  1.86264515e-09]\n",
      "[PairOptimizer.optimize] curves_t WBTC-C599/USDC-eB48\n",
      "[PairOptimizer.optimize] p_optimal OptimizerBase.SimpleResult(result=30708.38628090415, method='bisection', errormsg=None, context_dct=None) full_result [ 8.8096197e-14 -8.9227018e-01]\n",
      "[PairOptimizer.optimize] curves_t WBTC-C599/USDC-eB48\n",
      "[PairOptimizer.optimize] p_optimal OptimizerBase.SimpleResult(result=30709.171178596956, method='bisection', errormsg=None, context_dct=None) full_result [ 1.13686838e-13 -3.72529030e-09]\n",
      "[PairOptimizer.optimize] curves_t WBTC-C599/USDC-eB48\n",
      "[PairOptimizer.optimize] p_optimal OptimizerBase.SimpleResult(result=30681.192450075563, method='bisection', errormsg=None, context_dct=None) full_result [ 1.81898940e-12 -5.96046448e-08]\n",
      "[PairOptimizer.optimize] curves_t WBTC-C599/USDC-eB48\n",
      "[PairOptimizer.optimize] p_optimal OptimizerBase.SimpleResult(result=30681.192450075552, method='bisection', errormsg=None, context_dct=None) full_result [ 1.81898940e-12 -8.94069672e-08]\n",
      "[PairOptimizer.optimize] curves_t WBTC-C599/USDC-eB48\n",
      "[PairOptimizer.optimize] p_optimal OptimizerBase.SimpleResult(result=30681.19245007563, method='bisection', errormsg=None, context_dct=None) full_result [-2.72848411e-12  5.96046448e-08]\n",
      "[PairOptimizer.optimize] curves_t WBTC-C599/USDC-eB48\n",
      "[PairOptimizer.optimize] p_optimal OptimizerBase.SimpleResult(result=30681.192450075592, method='bisection', errormsg=None, context_dct=None) full_result [-9.09494702e-13  0.00000000e+00]\n",
      "[PairOptimizer.optimize] curves_t WBTC-C599/USDC-eB48\n",
      "[PairOptimizer.optimize] p_optimal OptimizerBase.SimpleResult(result=30681.192450075556, method='bisection', errormsg=None, context_dct=None) full_result [ 1.81898940e-12 -8.94069672e-08]\n",
      "[PairOptimizer.optimize] curves_t WBTC-C599/USDC-eB48\n",
      "[PairOptimizer.optimize] p_optimal OptimizerBase.SimpleResult(result=30681.1924500756, method='bisection', errormsg=None, context_dct=None) full_result [-9.09494702e-13  0.00000000e+00]\n",
      "[PairOptimizer.optimize] curves_t WBTC-C599/USDC-eB48\n",
      "[PairOptimizer.optimize] p_optimal OptimizerBase.SimpleResult(result=30681.14901464669, method='bisection', errormsg=None, context_dct=None) full_result [ 1.90064631e-12 -7.98423445e-01]\n",
      "[PairOptimizer.optimize] curves_t WBTC-C599/USDC-eB48\n",
      "[PairOptimizer.optimize] p_optimal OptimizerBase.SimpleResult(result=30681.19245007559, method='bisection', errormsg=None, context_dct=None) full_result [ 0.00000000e+00 -2.98023224e-08]\n"
     ]
    },
    {
     "data": {
      "text/plain": "  0%|          | 0/1 [00:00<?, ?it/s]",
      "application/vnd.jupyter.widget-view+json": {
       "version_major": 2,
       "version_minor": 0,
       "model_id": "ba18d4acfa394a85b62c29331524ee8e"
      }
     },
     "metadata": {},
     "output_type": "display_data"
    },
    {
     "name": "stdout",
     "output_type": "stream",
     "text": [
      "[PairOptimizer.optimize] curves_t WBTC-C599/USDT-1ec7\n",
      "[PairOptimizer.optimize] p_optimal OptimizerBase.SimpleResult(result=30694.613926064292, method='bisection', errormsg=None, context_dct=None) full_result [ 4.73837115e-13 -1.92745271e-02]\n"
     ]
    },
    {
     "data": {
      "text/plain": "  0%|          | 0/16 [00:00<?, ?it/s]",
      "application/vnd.jupyter.widget-view+json": {
       "version_major": 2,
       "version_minor": 0,
       "model_id": "e8dd774eb1f04407af0f719e54c5562e"
      }
     },
     "metadata": {},
     "output_type": "display_data"
    },
    {
     "name": "stdout",
     "output_type": "stream",
     "text": [
      "[PairOptimizer.optimize] curves_t WBTC-C599/WETH-6Cc2\n",
      "[PairOptimizer.optimize] p_optimal OptimizerBase.SimpleResult(result=16.25127735727674, method='bisection', errormsg=None, context_dct=None) full_result [-1.39116310e-08  2.26078555e-07]\n",
      "[PairOptimizer.optimize] curves_t WBTC-C599/WETH-6Cc2\n",
      "[PairOptimizer.optimize] p_optimal OptimizerBase.SimpleResult(result=16.251277357210903, method='bisection', errormsg=None, context_dct=None) full_result [ 9.79060477e-09 -1.62155537e-07]\n",
      "[PairOptimizer.optimize] curves_t WBTC-C599/WETH-6Cc2\n",
      "[PairOptimizer.optimize] p_optimal OptimizerBase.SimpleResult(result=16.25127735723521, method='bisection', errormsg=None, context_dct=None) full_result [ 7.34507921e-09 -1.19383913e-07]\n",
      "[PairOptimizer.optimize] curves_t WBTC-C599/WETH-6Cc2\n",
      "[PairOptimizer.optimize] p_optimal OptimizerBase.SimpleResult(result=16.251277357269036, method='bisection', errormsg=None, context_dct=None) full_result [-9.96806193e-09  1.61991920e-07]\n",
      "[PairOptimizer.optimize] curves_t WBTC-C599/WETH-6Cc2\n",
      "[PairOptimizer.optimize] p_optimal OptimizerBase.SimpleResult(result=16.251277357223323, method='bisection', errormsg=None, context_dct=None) full_result [ 1.34314178e-08 -2.18278728e-07]\n",
      "[PairOptimizer.optimize] curves_t WBTC-C599/WETH-6Cc2\n",
      "[PairOptimizer.optimize] p_optimal OptimizerBase.SimpleResult(result=16.25127735723416, method='bisection', errormsg=None, context_dct=None) full_result [ 7.88713805e-09 -1.28115062e-07]\n",
      "[PairOptimizer.optimize] curves_t WBTC-C599/WETH-6Cc2\n",
      "[PairOptimizer.optimize] p_optimal OptimizerBase.SimpleResult(result=16.25127564701836, method='bisection', errormsg=None, context_dct=None) full_result [-1.20896217e-08 -3.62709670e-07]\n",
      "[PairOptimizer.optimize] curves_t WBTC-C599/WETH-6Cc2\n",
      "[PairOptimizer.optimize] p_optimal OptimizerBase.SimpleResult(result=16.25127735725026, method='bisection', errormsg=None, context_dct=None) full_result [-3.56521923e-10  5.76255843e-09]\n",
      "[PairOptimizer.optimize] curves_t WBTC-C599/WETH-6Cc2\n",
      "[PairOptimizer.optimize] p_optimal OptimizerBase.SimpleResult(result=16.262500335184633, method='bisection', errormsg=None, context_dct=None) full_result [ 1.16415322e-09 -1.89756975e-08]\n",
      "[PairOptimizer.optimize] curves_t WBTC-C599/WETH-6Cc2\n",
      "[PairOptimizer.optimize] p_optimal OptimizerBase.SimpleResult(result=16.26250033520447, method='bisection', errormsg=None, context_dct=None) full_result [-3.23444658e-08  5.22832217e-07]\n",
      "[PairOptimizer.optimize] curves_t WBTC-C599/WETH-6Cc2\n",
      "[PairOptimizer.optimize] p_optimal OptimizerBase.SimpleResult(result=16.26250033520776, method='bisection', errormsg=None, context_dct=None) full_result [-2.62516551e-08  4.26894985e-07]\n",
      "[PairOptimizer.optimize] curves_t WBTC-C599/WETH-6Cc2\n",
      "[PairOptimizer.optimize] p_optimal OptimizerBase.SimpleResult(result=16.262500335150982, method='bisection', errormsg=None, context_dct=None) full_result [ 4.10509529e-08 -6.67641871e-07]\n",
      "[PairOptimizer.optimize] curves_t WBTC-C599/WETH-6Cc2\n",
      "[PairOptimizer.optimize] p_optimal OptimizerBase.SimpleResult(result=16.262500335167502, method='bisection', errormsg=None, context_dct=None) full_result [ 2.1464075e-08 -3.4912955e-07]\n",
      "[PairOptimizer.optimize] curves_t WBTC-C599/WETH-6Cc2\n",
      "[PairOptimizer.optimize] p_optimal OptimizerBase.SimpleResult(result=16.262500335153014, method='bisection', errormsg=None, context_dct=None) full_result [ 3.86353349e-08 -6.28409907e-07]\n",
      "[PairOptimizer.optimize] curves_t WBTC-C599/WETH-6Cc2\n",
      "[PairOptimizer.optimize] p_optimal OptimizerBase.SimpleResult(result=16.262493103941633, method='bisection', errormsg=None, context_dct=None) full_result [-2.51424090e-08 -5.31672718e-05]\n",
      "[PairOptimizer.optimize] curves_t WBTC-C599/WETH-6Cc2\n",
      "[PairOptimizer.optimize] p_optimal OptimizerBase.SimpleResult(result=16.262500335210227, method='bisection', errormsg=None, context_dct=None) full_result [-2.91693141e-08  4.74392436e-07]\n"
     ]
    },
    {
     "data": {
      "text/plain": "  0%|          | 0/2 [00:00<?, ?it/s]",
      "application/vnd.jupyter.widget-view+json": {
       "version_major": 2,
       "version_minor": 0,
       "model_id": "f7e0fbce397a4f20b0eac7f48a54e8d3"
      }
     },
     "metadata": {},
     "output_type": "display_data"
    },
    {
     "name": "stdout",
     "output_type": "stream",
     "text": [
      "[PairOptimizer.optimize] curves_t SGT-EcDD/WETH-6Cc2\n",
      "[PairOptimizer.optimize] p_optimal OptimizerBase.SimpleResult(result=0.00022209611167832275, method='bisection', errormsg=None, context_dct=None) full_result [ 4.02343472e-02 -8.93589251e-06]\n",
      "[PairOptimizer.optimize] curves_t SGT-EcDD/WETH-6Cc2\n",
      "[PairOptimizer.optimize] p_optimal OptimizerBase.SimpleResult(result=0.00021922395369175377, method='bisection', errormsg=None, context_dct=None) full_result [ 1.96211165e-03 -4.30141885e-07]\n"
     ]
    },
    {
     "data": {
      "text/plain": "  0%|          | 0/14 [00:00<?, ?it/s]",
      "application/vnd.jupyter.widget-view+json": {
       "version_major": 2,
       "version_minor": 0,
       "model_id": "c69874e1d92d466c9e01b723691d9243"
      }
     },
     "metadata": {},
     "output_type": "display_data"
    },
    {
     "name": "stdout",
     "output_type": "stream",
     "text": [
      "[PairOptimizer.optimize] curves_t vBNT-7f94/BNT-FF1C\n",
      "[PairOptimizer.optimize] p_optimal OptimizerBase.SimpleResult(result=0.4979713671803965, method='bisection', errormsg=None, context_dct=None) full_result [ 9.86899249e-06 -4.91423998e-06]\n",
      "[PairOptimizer.optimize] curves_t vBNT-7f94/BNT-FF1C\n",
      "[PairOptimizer.optimize] p_optimal OptimizerBase.SimpleResult(result=0.4979713671750061, method='bisection', errormsg=None, context_dct=None) full_result [ 2.04464886e-05 -1.01815676e-05]\n",
      "[PairOptimizer.optimize] curves_t vBNT-7f94/BNT-FF1C\n",
      "[PairOptimizer.optimize] p_optimal OptimizerBase.SimpleResult(result=0.49797136719226054, method='bisection', errormsg=None, context_dct=None) full_result [-1.34117436e-05  6.67886343e-06]\n",
      "[PairOptimizer.optimize] curves_t vBNT-7f94/BNT-FF1C\n",
      "[PairOptimizer.optimize] p_optimal OptimizerBase.SimpleResult(result=0.49797136717779344, method='bisection', errormsg=None, context_dct=None) full_result [ 1.49765983e-05 -7.45779835e-06]\n",
      "[PairOptimizer.optimize] curves_t vBNT-7f94/BNT-FF1C\n",
      "[PairOptimizer.optimize] p_optimal OptimizerBase.SimpleResult(result=0.4979713671723526, method='bisection', errormsg=None, context_dct=None) full_result [ 2.56535131e-05 -1.27746025e-05]\n",
      "[PairOptimizer.optimize] curves_t vBNT-7f94/BNT-FF1C\n",
      "[PairOptimizer.optimize] p_optimal OptimizerBase.SimpleResult(result=0.49797136721387747, method='bisection', errormsg=None, context_dct=None) full_result [-5.58306929e-05  2.78021907e-05]\n",
      "[PairOptimizer.optimize] curves_t vBNT-7f94/BNT-FF1C\n",
      "[PairOptimizer.optimize] p_optimal OptimizerBase.SimpleResult(result=0.4979713671844595, method='bisection', errormsg=None, context_dct=None) full_result [ 1.89593993e-06 -9.44011845e-07]\n",
      "[PairOptimizer.optimize] curves_t vBNT-7f94/BNT-FF1C\n",
      "[PairOptimizer.optimize] p_optimal OptimizerBase.SimpleResult(result=0.4979713671630217, method='bisection', errormsg=None, context_dct=None) full_result [ 4.39633150e-05 -2.18922505e-05]\n",
      "[PairOptimizer.optimize] curves_t vBNT-7f94/BNT-FF1C\n",
      "[PairOptimizer.optimize] p_optimal OptimizerBase.SimpleResult(result=0.4979713671877447, method='bisection', errormsg=None, context_dct=None) full_result [-4.55020927e-06  2.26602424e-06]\n",
      "[PairOptimizer.optimize] curves_t vBNT-7f94/BNT-FF1C\n",
      "[PairOptimizer.optimize] p_optimal OptimizerBase.SimpleResult(result=0.4979713671551543, method='bisection', errormsg=None, context_dct=None) full_result [ 5.94011508e-05 -2.95799691e-05]\n",
      "[PairOptimizer.optimize] curves_t vBNT-7f94/BNT-FF1C\n",
      "[PairOptimizer.optimize] p_optimal OptimizerBase.SimpleResult(result=0.4979713671804163, method='bisection', errormsg=None, context_dct=None) full_result [ 9.82987694e-06 -4.89491504e-06]\n",
      "[PairOptimizer.optimize] curves_t vBNT-7f94/BNT-FF1C\n",
      "[PairOptimizer.optimize] p_optimal OptimizerBase.SimpleResult(result=0.49797136717327084, method='bisection', errormsg=None, context_dct=None) full_result [ 2.38514040e-05 -1.18771568e-05]\n",
      "[PairOptimizer.optimize] curves_t vBNT-7f94/BNT-FF1C\n",
      "[PairOptimizer.optimize] p_optimal OptimizerBase.SimpleResult(result=0.49797136721025953, method='bisection', errormsg=None, context_dct=None) full_result [-4.87312209e-05  2.42668903e-05]\n",
      "[PairOptimizer.optimize] curves_t vBNT-7f94/BNT-FF1C\n",
      "[PairOptimizer.optimize] p_optimal OptimizerBase.SimpleResult(result=0.49772183462991615, method='bisection', errormsg=None, context_dct=None) full_result [ 8.03344919e-05 -2.42115757e+01]\n"
     ]
    },
    {
     "data": {
      "text/plain": "0it [00:00, ?it/s]",
      "application/vnd.jupyter.widget-view+json": {
       "version_major": 2,
       "version_minor": 0,
       "model_id": "a92a333a52454f0191af90194b8b60b9"
      }
     },
     "metadata": {},
     "output_type": "display_data"
    },
    {
     "data": {
      "text/plain": "0it [00:00, ?it/s]",
      "application/vnd.jupyter.widget-view+json": {
       "version_major": 2,
       "version_minor": 0,
       "model_id": "43ecdc1f6d3e4a5b8eef09404062f5f0"
      }
     },
     "metadata": {},
     "output_type": "display_data"
    },
    {
     "data": {
      "text/plain": "0it [00:00, ?it/s]",
      "application/vnd.jupyter.widget-view+json": {
       "version_major": 2,
       "version_minor": 0,
       "model_id": "ea9bcf705a3d46fd8e51998f09d28fe3"
      }
     },
     "metadata": {},
     "output_type": "display_data"
    },
    {
     "data": {
      "text/plain": "0it [00:00, ?it/s]",
      "application/vnd.jupyter.widget-view+json": {
       "version_major": 2,
       "version_minor": 0,
       "model_id": "d7c1251dfdff420db1cf67710e5f4429"
      }
     },
     "metadata": {},
     "output_type": "display_data"
    },
    {
     "data": {
      "text/plain": "  0%|          | 0/2 [00:00<?, ?it/s]",
      "application/vnd.jupyter.widget-view+json": {
       "version_major": 2,
       "version_minor": 0,
       "model_id": "b6e5364dadd642559ac08d43035a7895"
      }
     },
     "metadata": {},
     "output_type": "display_data"
    },
    {
     "name": "stdout",
     "output_type": "stream",
     "text": [
      "[PairOptimizer.optimize] curves_t wstETH-2Ca0/USDC-eB48\n",
      "[PairOptimizer.optimize] p_optimal OptimizerBase.SimpleResult(result=2132.8228517303273, method='bisection', errormsg=None, context_dct=None) full_result [ 8.66862138e-13 -1.86264515e-09]\n",
      "[PairOptimizer.optimize] curves_t wstETH-2Ca0/USDC-eB48\n",
      "[PairOptimizer.optimize] p_optimal OptimizerBase.SimpleResult(result=2132.822851730366, method='bisection', errormsg=None, context_dct=None) full_result [-1.98951966e-13  4.07453626e-10]\n"
     ]
    },
    {
     "data": {
      "text/plain": "0it [00:00, ?it/s]",
      "application/vnd.jupyter.widget-view+json": {
       "version_major": 2,
       "version_minor": 0,
       "model_id": "031a5d8bfda6422faae5525a138528c9"
      }
     },
     "metadata": {},
     "output_type": "display_data"
    },
    {
     "data": {
      "text/plain": "  0%|          | 0/1 [00:00<?, ?it/s]",
      "application/vnd.jupyter.widget-view+json": {
       "version_major": 2,
       "version_minor": 0,
       "model_id": "830a306413f64e6390bdc093116ebaf7"
      }
     },
     "metadata": {},
     "output_type": "display_data"
    },
    {
     "name": "stdout",
     "output_type": "stream",
     "text": [
      "[PairOptimizer.optimize] curves_t TSUKA-69eD/USDC-eB48\n",
      "[PairOptimizer.optimize] p_optimal OptimizerBase.SimpleResult(result=0.0311299900733118, method='bisection', errormsg=None, context_dct=None) full_result [-1.19291304e-04  3.71353781e-06]\n"
     ]
    },
    {
     "data": {
      "text/plain": "0it [00:00, ?it/s]",
      "application/vnd.jupyter.widget-view+json": {
       "version_major": 2,
       "version_minor": 0,
       "model_id": "3da9c39fbed6499d8c974134208d5964"
      }
     },
     "metadata": {},
     "output_type": "display_data"
    },
    {
     "data": {
      "text/plain": "0it [00:00, ?it/s]",
      "application/vnd.jupyter.widget-view+json": {
       "version_major": 2,
       "version_minor": 0,
       "model_id": "96cda4dc561b4ace8c56a64b5796ad6c"
      }
     },
     "metadata": {},
     "output_type": "display_data"
    },
    {
     "data": {
      "text/plain": "0it [00:00, ?it/s]",
      "application/vnd.jupyter.widget-view+json": {
       "version_major": 2,
       "version_minor": 0,
       "model_id": "ea58eb62244c415e8ec0a40d4192fe94"
      }
     },
     "metadata": {},
     "output_type": "display_data"
    },
    {
     "data": {
      "text/plain": "0it [00:00, ?it/s]",
      "application/vnd.jupyter.widget-view+json": {
       "version_major": 2,
       "version_minor": 0,
       "model_id": "d6b058c4d18b4ef0b4e9abfd28c780f4"
      }
     },
     "metadata": {},
     "output_type": "display_data"
    },
    {
     "data": {
      "text/plain": "0it [00:00, ?it/s]",
      "application/vnd.jupyter.widget-view+json": {
       "version_major": 2,
       "version_minor": 0,
       "model_id": "494b0b44d6fe4331a0e5b12c2dbe0dae"
      }
     },
     "metadata": {},
     "output_type": "display_data"
    },
    {
     "data": {
      "text/plain": "0it [00:00, ?it/s]",
      "application/vnd.jupyter.widget-view+json": {
       "version_major": 2,
       "version_minor": 0,
       "model_id": "11e6d020b5564214a69717b4ef3de40f"
      }
     },
     "metadata": {},
     "output_type": "display_data"
    },
    {
     "data": {
      "text/plain": "  0%|          | 0/4 [00:00<?, ?it/s]",
      "application/vnd.jupyter.widget-view+json": {
       "version_major": 2,
       "version_minor": 0,
       "model_id": "e1ea3eea780f4831ab72ad2a8a4800d5"
      }
     },
     "metadata": {},
     "output_type": "display_data"
    },
    {
     "name": "stdout",
     "output_type": "stream",
     "text": [
      "[PairOptimizer.optimize] curves_t rETH-6393/WETH-6Cc2\n",
      "[PairOptimizer.optimize] p_optimal OptimizerBase.SimpleResult(result=1.076708344487575, method='bisection', errormsg=None, context_dct=None) full_result [ 9.73506700e-06 -1.10356404e-03]\n",
      "[PairOptimizer.optimize] curves_t rETH-6393/WETH-6Cc2\n",
      "[PairOptimizer.optimize] p_optimal OptimizerBase.SimpleResult(result=1.0767087671170115, method='bisection', errormsg=None, context_dct=None) full_result [-1.27418898e-05  1.37193128e-05]\n",
      "[PairOptimizer.optimize] curves_t rETH-6393/WETH-6Cc2\n",
      "[PairOptimizer.optimize] p_optimal OptimizerBase.SimpleResult(result=1.0767087671074367, method='bisection', errormsg=None, context_dct=None) full_result [-7.08457083e-06  7.62799755e-06]\n",
      "[PairOptimizer.optimize] curves_t rETH-6393/WETH-6Cc2\n",
      "[PairOptimizer.optimize] p_optimal OptimizerBase.SimpleResult(result=1.0767087671119273, method='bisection', errormsg=None, context_dct=None) full_result [-9.73767601e-06  1.04848295e-05]\n"
     ]
    },
    {
     "data": {
      "text/plain": "0it [00:00, ?it/s]",
      "application/vnd.jupyter.widget-view+json": {
       "version_major": 2,
       "version_minor": 0,
       "model_id": "b7b1538631ea4555a09b581c2b301f34"
      }
     },
     "metadata": {},
     "output_type": "display_data"
    },
    {
     "data": {
      "text/plain": "0it [00:00, ?it/s]",
      "application/vnd.jupyter.widget-view+json": {
       "version_major": 2,
       "version_minor": 0,
       "model_id": "ca2d627a975d4780a36500f873c4a7db"
      }
     },
     "metadata": {},
     "output_type": "display_data"
    },
    {
     "data": {
      "text/plain": "  0%|          | 0/1 [00:00<?, ?it/s]",
      "application/vnd.jupyter.widget-view+json": {
       "version_major": 2,
       "version_minor": 0,
       "model_id": "747d5fe2fd8d4eb48b13fee22d894663"
      }
     },
     "metadata": {},
     "output_type": "display_data"
    },
    {
     "name": "stdout",
     "output_type": "stream",
     "text": [
      "[PairOptimizer.optimize] curves_t icETH-6A84/WETH-6Cc2\n",
      "[PairOptimizer.optimize] p_optimal OptimizerBase.SimpleResult(result=1.0625676227365368, method='bisection', errormsg=None, context_dct=None) full_result [-7.29091880e-08  7.74703039e-08]\n"
     ]
    },
    {
     "data": {
      "text/plain": "0it [00:00, ?it/s]",
      "application/vnd.jupyter.widget-view+json": {
       "version_major": 2,
       "version_minor": 0,
       "model_id": "9f8dd8098b6242849028de92749b7da6"
      }
     },
     "metadata": {},
     "output_type": "display_data"
    },
    {
     "data": {
      "text/plain": "  0%|          | 0/2 [00:00<?, ?it/s]",
      "application/vnd.jupyter.widget-view+json": {
       "version_major": 2,
       "version_minor": 0,
       "model_id": "2a08dcb1295e435dabdafdc29a2ec1a1"
      }
     },
     "metadata": {},
     "output_type": "display_data"
    },
    {
     "name": "stdout",
     "output_type": "stream",
     "text": [
      "[PairOptimizer.optimize] curves_t HEX-eb39/WETH-6Cc2\n",
      "[PairOptimizer.optimize] p_optimal OptimizerBase.SimpleResult(result=4.63904289749294e-06, method='bisection', errormsg=None, context_dct=None) full_result [ 2.47876970e+02 -2.55874718e-03]\n",
      "[PairOptimizer.optimize] curves_t HEX-eb39/WETH-6Cc2\n",
      "[PairOptimizer.optimize] p_optimal OptimizerBase.SimpleResult(result=4.6173659450547375e-06, method='bisection', errormsg=None, context_dct=None) full_result [ 1.71379994e+02 -2.21271301e-03]\n"
     ]
    },
    {
     "data": {
      "text/plain": "0it [00:00, ?it/s]",
      "application/vnd.jupyter.widget-view+json": {
       "version_major": 2,
       "version_minor": 0,
       "model_id": "b968e4aa05a44b1e86b29902b35e87c4"
      }
     },
     "metadata": {},
     "output_type": "display_data"
    },
    {
     "data": {
      "text/plain": "  0%|          | 0/6 [00:00<?, ?it/s]",
      "application/vnd.jupyter.widget-view+json": {
       "version_major": 2,
       "version_minor": 0,
       "model_id": "b7ed41418a33450fa403702175420e10"
      }
     },
     "metadata": {},
     "output_type": "display_data"
    },
    {
     "name": "stdout",
     "output_type": "stream",
     "text": [
      "[PairOptimizer.optimize] curves_t BNT-FF1C/USDC-eB48\n",
      "[PairOptimizer.optimize] p_optimal OptimizerBase.SimpleResult(result=0.39333884843841355, method='bisection', errormsg=None, context_dct=None) full_result [ 1.75605528e-05 -6.90715387e-06]\n",
      "[PairOptimizer.optimize] curves_t BNT-FF1C/USDC-eB48\n",
      "[PairOptimizer.optimize] p_optimal OptimizerBase.SimpleResult(result=0.3933388484490955, method='bisection', errormsg=None, context_dct=None) full_result [-1.94469467e-05  7.64918514e-06]\n",
      "[PairOptimizer.optimize] curves_t BNT-FF1C/USDC-eB48\n",
      "[PairOptimizer.optimize] p_optimal OptimizerBase.SimpleResult(result=0.39333884846937545, method='bisection', errormsg=None, context_dct=None) full_result [-8.97073187e-05  3.52852512e-05]\n",
      "[PairOptimizer.optimize] curves_t BNT-FF1C/USDC-eB48\n",
      "[PairOptimizer.optimize] p_optimal OptimizerBase.SimpleResult(result=0.39333884845532807, method='bisection', errormsg=None, context_dct=None) full_result [-4.10396606e-05  1.61423814e-05]\n",
      "[PairOptimizer.optimize] curves_t BNT-FF1C/USDC-eB48\n",
      "[PairOptimizer.optimize] p_optimal OptimizerBase.SimpleResult(result=0.3933379952731014, method='bisection', errormsg=None, context_dct=None) full_result [-2.52265013e-02 -2.94963829e-05]\n",
      "[PairOptimizer.optimize] curves_t BNT-FF1C/USDC-eB48\n",
      "[PairOptimizer.optimize] p_optimal OptimizerBase.SimpleResult(result=0.39333884846627104, method='bisection', errormsg=None, context_dct=None) full_result [-7.89514743e-05  3.10547184e-05]\n"
     ]
    },
    {
     "data": {
      "text/plain": "  0%|          | 0/4 [00:00<?, ?it/s]",
      "application/vnd.jupyter.widget-view+json": {
       "version_major": 2,
       "version_minor": 0,
       "model_id": "40e6ead1146e4e5c9d540afded5841ca"
      }
     },
     "metadata": {},
     "output_type": "display_data"
    },
    {
     "name": "stdout",
     "output_type": "stream",
     "text": [
      "[PairOptimizer.optimize] curves_t DAI-1d0F/USDC-eB48\n",
      "[PairOptimizer.optimize] p_optimal OptimizerBase.SimpleResult(result=1.0003813756215658, method='bisection', errormsg=None, context_dct=None) full_result [ 0.27017212 -0.27027893]\n",
      "[PairOptimizer.optimize] curves_t DAI-1d0F/USDC-eB48\n",
      "[PairOptimizer.optimize] p_optimal OptimizerBase.SimpleResult(result=1.0003813756365758, method='bisection', errormsg=None, context_dct=None) full_result [-0.19481659  0.19488525]\n",
      "[PairOptimizer.optimize] curves_t DAI-1d0F/USDC-eB48\n",
      "[PairOptimizer.optimize] p_optimal OptimizerBase.SimpleResult(result=0.9999799635362349, method='bisection', errormsg=None, context_dct=None) full_result [ 10.07507324 -10.0748291 ]\n",
      "[PairOptimizer.optimize] curves_t DAI-1d0F/USDC-eB48\n",
      "[PairOptimizer.optimize] p_optimal OptimizerBase.SimpleResult(result=0.9999799635754507, method='bisection', errormsg=None, context_dct=None) full_result [-0.39575195  0.39581299]\n"
     ]
    },
    {
     "data": {
      "text/plain": "  0%|          | 0/16 [00:00<?, ?it/s]",
      "application/vnd.jupyter.widget-view+json": {
       "version_major": 2,
       "version_minor": 0,
       "model_id": "5b412bf4aa3748828d496ea0b4599c2a"
      }
     },
     "metadata": {},
     "output_type": "display_data"
    },
    {
     "name": "stdout",
     "output_type": "stream",
     "text": [
      "[PairOptimizer.optimize] curves_t WBTC-C599/USDC-eB48\n",
      "[PairOptimizer.optimize] p_optimal OptimizerBase.SimpleResult(result=30709.171178596996, method='bisection', errormsg=None, context_dct=None) full_result [-1.13686838e-13  1.86264515e-09]\n",
      "[PairOptimizer.optimize] curves_t WBTC-C599/USDC-eB48\n",
      "[PairOptimizer.optimize] p_optimal OptimizerBase.SimpleResult(result=30709.171178596982, method='bisection', errormsg=None, context_dct=None) full_result [ 0.00000000e+00 -9.31322575e-10]\n",
      "[PairOptimizer.optimize] curves_t WBTC-C599/USDC-eB48\n",
      "[PairOptimizer.optimize] p_optimal 30709.17117859699 full_result [-5.68434189e-14  0.00000000e+00]\n",
      "[FindArbitrageSinglePairwise] Exception:  'numpy.float64' object has no attribute 'is_error'\n",
      "[PairOptimizer.optimize] curves_t WBTC-C599/USDC-eB48\n",
      "[PairOptimizer.optimize] p_optimal OptimizerBase.SimpleResult(result=30709.17117859702, method='bisection', errormsg=None, context_dct=None) full_result [-1.70530257e-13  4.65661287e-09]\n",
      "[PairOptimizer.optimize] curves_t WBTC-C599/USDC-eB48\n",
      "[PairOptimizer.optimize] p_optimal OptimizerBase.SimpleResult(result=30709.171178596967, method='bisection', errormsg=None, context_dct=None) full_result [ 5.68434189e-14 -1.86264515e-09]\n",
      "[PairOptimizer.optimize] curves_t WBTC-C599/USDC-eB48\n",
      "[PairOptimizer.optimize] p_optimal OptimizerBase.SimpleResult(result=30709.171178597004, method='bisection', errormsg=None, context_dct=None) full_result [-1.13686838e-13  1.86264515e-09]\n",
      "[PairOptimizer.optimize] curves_t WBTC-C599/USDC-eB48\n",
      "[PairOptimizer.optimize] p_optimal OptimizerBase.SimpleResult(result=30708.392805083105, method='bisection', errormsg=None, context_dct=None) full_result [-2.90562348e-05 -2.85581336e-10]\n",
      "[PairOptimizer.optimize] curves_t WBTC-C599/USDC-eB48\n",
      "[PairOptimizer.optimize] p_optimal 30709.17117859699 full_result [-5.68434189e-14  0.00000000e+00]\n",
      "[FindArbitrageSinglePairwise] Exception:  'numpy.float64' object has no attribute 'is_error'\n",
      "[PairOptimizer.optimize] curves_t WBTC-C599/USDC-eB48\n",
      "[PairOptimizer.optimize] p_optimal 30681.1924500756 full_result [-9.09494702e-13  0.00000000e+00]\n",
      "[FindArbitrageSinglePairwise] Exception:  'numpy.float64' object has no attribute 'is_error'\n",
      "[PairOptimizer.optimize] curves_t WBTC-C599/USDC-eB48\n",
      "[PairOptimizer.optimize] p_optimal 30681.1924500756 full_result [-9.09494702e-13  0.00000000e+00]\n",
      "[FindArbitrageSinglePairwise] Exception:  'numpy.float64' object has no attribute 'is_error'\n",
      "[PairOptimizer.optimize] curves_t WBTC-C599/USDC-eB48\n",
      "[PairOptimizer.optimize] p_optimal OptimizerBase.SimpleResult(result=30681.19245007563, method='bisection', errormsg=None, context_dct=None) full_result [-2.72848411e-12  5.96046448e-08]\n",
      "[PairOptimizer.optimize] curves_t WBTC-C599/USDC-eB48\n",
      "[PairOptimizer.optimize] p_optimal OptimizerBase.SimpleResult(result=30681.192450075592, method='bisection', errormsg=None, context_dct=None) full_result [-9.09494702e-13  0.00000000e+00]\n",
      "[PairOptimizer.optimize] curves_t WBTC-C599/USDC-eB48\n",
      "[PairOptimizer.optimize] p_optimal 30681.192450075592 full_result [-9.09494702e-13  0.00000000e+00]\n",
      "[FindArbitrageSinglePairwise] Exception:  'numpy.float64' object has no attribute 'is_error'\n",
      "[PairOptimizer.optimize] curves_t WBTC-C599/USDC-eB48\n",
      "[PairOptimizer.optimize] p_optimal OptimizerBase.SimpleResult(result=30681.1924500756, method='bisection', errormsg=None, context_dct=None) full_result [-9.09494702e-13  0.00000000e+00]\n",
      "[PairOptimizer.optimize] curves_t WBTC-C599/USDC-eB48\n",
      "[PairOptimizer.optimize] p_optimal OptimizerBase.SimpleResult(result=30681.149356574755, method='bisection', errormsg=None, context_dct=None) full_result [-2.60232557e-05 -1.14014256e-08]\n",
      "[PairOptimizer.optimize] curves_t WBTC-C599/USDC-eB48\n",
      "[PairOptimizer.optimize] p_optimal OptimizerBase.SimpleResult(result=30681.19245007559, method='bisection', errormsg=None, context_dct=None) full_result [ 0.00000000e+00 -2.98023224e-08]\n"
     ]
    },
    {
     "data": {
      "text/plain": "  0%|          | 0/10 [00:00<?, ?it/s]",
      "application/vnd.jupyter.widget-view+json": {
       "version_major": 2,
       "version_minor": 0,
       "model_id": "ff8f9ed578d647edb3af10d43c143151"
      }
     },
     "metadata": {},
     "output_type": "display_data"
    },
    {
     "name": "stdout",
     "output_type": "stream",
     "text": [
      "[PairOptimizer.optimize] curves_t USDT-1ec7/USDC-eB48\n",
      "[PairOptimizer.optimize] p_optimal OptimizerBase.SimpleResult(result=1.0000207903497311, method='bisection', errormsg=None, context_dct=None) full_result [ 7.05828857 -7.05841064]\n",
      "[PairOptimizer.optimize] curves_t USDT-1ec7/USDC-eB48\n",
      "[PairOptimizer.optimize] p_optimal OptimizerBase.SimpleResult(result=1.0000207904081506, method='bisection', errormsg=None, context_dct=None) full_result [-8.25445557  8.25463867]\n",
      "[PairOptimizer.optimize] curves_t USDT-1ec7/USDC-eB48\n",
      "[PairOptimizer.optimize] p_optimal OptimizerBase.SimpleResult(result=1.0000207904020626, method='bisection', errormsg=None, context_dct=None) full_result [-6.65869141  6.65881348]\n",
      "[PairOptimizer.optimize] curves_t USDT-1ec7/USDC-eB48\n",
      "[PairOptimizer.optimize] p_optimal OptimizerBase.SimpleResult(result=1.000020791638284, method='bisection', errormsg=None, context_dct=None) full_result [ 3.87104021 -3.98310679]\n",
      "[PairOptimizer.optimize] curves_t USDT-1ec7/USDC-eB48\n",
      "[PairOptimizer.optimize] p_optimal OptimizerBase.SimpleResult(result=1.000020790340398, method='bisection', errormsg=None, context_dct=None) full_result [ 9.50469971 -9.50488281]\n",
      "[PairOptimizer.optimize] curves_t USDT-1ec7/USDC-eB48\n",
      "[PairOptimizer.optimize] p_optimal OptimizerBase.SimpleResult(result=0.9999812258785822, method='bisection', errormsg=None, context_dct=None) full_result [-0.01484537  0.01484489]\n",
      "[PairOptimizer.optimize] curves_t USDT-1ec7/USDC-eB48\n",
      "[PairOptimizer.optimize] p_optimal OptimizerBase.SimpleResult(result=0.9999812258567959, method='bisection', errormsg=None, context_dct=None) full_result [ 0.02874136 -0.02874088]\n",
      "[PairOptimizer.optimize] curves_t USDT-1ec7/USDC-eB48\n",
      "[PairOptimizer.optimize] p_optimal OptimizerBase.SimpleResult(result=0.9999812258950511, method='bisection', errormsg=None, context_dct=None) full_result [-0.04779387  0.04779243]\n",
      "[PairOptimizer.optimize] curves_t USDT-1ec7/USDC-eB48\n",
      "[PairOptimizer.optimize] p_optimal OptimizerBase.SimpleResult(result=0.9999814030399359, method='bisection', errormsg=None, context_dct=None) full_result [-0.19806946  0.07246103]\n",
      "[PairOptimizer.optimize] curves_t USDT-1ec7/USDC-eB48\n",
      "[PairOptimizer.optimize] p_optimal OptimizerBase.SimpleResult(result=0.9999812258655427, method='bisection', errormsg=None, context_dct=None) full_result [ 0.01124191 -0.01124191]\n"
     ]
    },
    {
     "data": {
      "text/plain": "  0%|          | 0/54 [00:00<?, ?it/s]",
      "application/vnd.jupyter.widget-view+json": {
       "version_major": 2,
       "version_minor": 0,
       "model_id": "27537c0ab16d42b69e00fb4f7bd85dfd"
      }
     },
     "metadata": {},
     "output_type": "display_data"
    },
    {
     "name": "stdout",
     "output_type": "stream",
     "text": [
      "[PairOptimizer.optimize] curves_t WETH-6Cc2/USDC-eB48\n",
      "[PairOptimizer.optimize] p_optimal OptimizerBase.SimpleResult(result=1888.9922146300491, method='bisection', errormsg=None, context_dct=None) full_result [ 8.73114914e-11 -1.19209290e-07]\n",
      "[PairOptimizer.optimize] curves_t WETH-6Cc2/USDC-eB48\n",
      "[PairOptimizer.optimize] p_optimal OptimizerBase.SimpleResult(result=1888.9922146300569, method='bisection', errormsg=None, context_dct=None) full_result [-2.91038305e-10  5.96046448e-07]\n",
      "[PairOptimizer.optimize] curves_t WETH-6Cc2/USDC-eB48\n",
      "[PairOptimizer.optimize] p_optimal OptimizerBase.SimpleResult(result=1888.9922146300253, method='bisection', errormsg=None, context_dct=None) full_result [ 1.19325705e-09 -2.26497650e-06]\n",
      "[PairOptimizer.optimize] curves_t WETH-6Cc2/USDC-eB48\n",
      "[PairOptimizer.optimize] p_optimal OptimizerBase.SimpleResult(result=1888.9922146300537, method='bisection', errormsg=None, context_dct=None) full_result [-1.45519152e-10  2.98023224e-07]\n",
      "[PairOptimizer.optimize] curves_t WETH-6Cc2/USDC-eB48\n",
      "[PairOptimizer.optimize] p_optimal OptimizerBase.SimpleResult(result=1888.9922146300496, method='bisection', errormsg=None, context_dct=None) full_result [ 5.82076609e-11 -5.96046448e-08]\n",
      "[PairOptimizer.optimize] curves_t WETH-6Cc2/USDC-eB48\n",
      "[PairOptimizer.optimize] p_optimal OptimizerBase.SimpleResult(result=1888.9922146300532, method='bisection', errormsg=None, context_dct=None) full_result [-1.16415322e-10  2.38418579e-07]\n",
      "[PairOptimizer.optimize] curves_t WETH-6Cc2/USDC-eB48\n",
      "[PairOptimizer.optimize] p_optimal OptimizerBase.SimpleResult(result=1888.9922146300578, method='bisection', errormsg=None, context_dct=None) full_result [-3.20142135e-10  6.55651093e-07]\n",
      "[PairOptimizer.optimize] curves_t WETH-6Cc2/USDC-eB48\n",
      "[PairOptimizer.optimize] p_optimal OptimizerBase.SimpleResult(result=1888.9922146300444, method='bisection', errormsg=None, context_dct=None) full_result [ 2.91038305e-10 -5.36441803e-07]\n",
      "[PairOptimizer.optimize] curves_t WETH-6Cc2/USDC-eB48\n",
      "[PairOptimizer.optimize] p_optimal OptimizerBase.SimpleResult(result=1888.9922146300455, method='bisection', errormsg=None, context_dct=None) full_result [ 2.32830644e-10 -4.17232513e-07]\n",
      "[PairOptimizer.optimize] curves_t WETH-6Cc2/USDC-eB48\n",
      "[PairOptimizer.optimize] p_optimal OptimizerBase.SimpleResult(result=1888.99221463004, method='bisection', errormsg=None, context_dct=None) full_result [ 4.94765118e-10 -9.53674316e-07]\n",
      "[PairOptimizer.optimize] curves_t WETH-6Cc2/USDC-eB48\n",
      "[PairOptimizer.optimize] p_optimal OptimizerBase.SimpleResult(result=1888.992214630059, method='bisection', errormsg=None, context_dct=None) full_result [-3.78349796e-10  7.15255737e-07]\n",
      "[PairOptimizer.optimize] curves_t WETH-6Cc2/USDC-eB48\n",
      "[PairOptimizer.optimize] p_optimal OptimizerBase.SimpleResult(result=1888.9922146300523, method='bisection', errormsg=None, context_dct=None) full_result [-8.73114914e-11  1.78813934e-07]\n",
      "[PairOptimizer.optimize] curves_t WETH-6Cc2/USDC-eB48\n",
      "[PairOptimizer.optimize] p_optimal OptimizerBase.SimpleResult(result=1888.9922146300391, method='bisection', errormsg=None, context_dct=None) full_result [ 5.23868948e-10 -1.01327896e-06]\n",
      "[PairOptimizer.optimize] curves_t WETH-6Cc2/USDC-eB48\n",
      "[PairOptimizer.optimize] p_optimal OptimizerBase.SimpleResult(result=1888.9922146300473, method='bisection', errormsg=None, context_dct=None) full_result [ 1.45519152e-10 -2.98023224e-07]\n",
      "[PairOptimizer.optimize] curves_t WETH-6Cc2/USDC-eB48\n",
      "[PairOptimizer.optimize] p_optimal OptimizerBase.SimpleResult(result=1888.9922146300362, method='bisection', errormsg=None, context_dct=None) full_result [ 6.98491931e-10 -1.31130219e-06]\n",
      "[PairOptimizer.optimize] curves_t WETH-6Cc2/USDC-eB48\n",
      "[PairOptimizer.optimize] p_optimal OptimizerBase.SimpleResult(result=1888.9922146300369, method='bisection', errormsg=None, context_dct=None) full_result [ 6.4028427e-10 -1.1920929e-06]\n",
      "[PairOptimizer.optimize] curves_t WETH-6Cc2/USDC-eB48\n",
      "[PairOptimizer.optimize] p_optimal OptimizerBase.SimpleResult(result=1888.992214630031, method='bisection', errormsg=None, context_dct=None) full_result [ 9.02218744e-10 -1.66893005e-06]\n",
      "[PairOptimizer.optimize] curves_t WETH-6Cc2/USDC-eB48\n",
      "[PairOptimizer.optimize] p_optimal OptimizerBase.SimpleResult(result=1888.9922146300394, method='bisection', errormsg=None, context_dct=None) full_result [ 5.23868948e-10 -1.01327896e-06]\n",
      "[PairOptimizer.optimize] curves_t WETH-6Cc2/USDC-eB48\n",
      "[PairOptimizer.optimize] p_optimal OptimizerBase.SimpleResult(result=1888.9922146300503, method='bisection', errormsg=None, context_dct=None) full_result [2.91038305e-11 0.00000000e+00]\n",
      "[PairOptimizer.optimize] curves_t WETH-6Cc2/USDC-eB48\n",
      "[PairOptimizer.optimize] p_optimal OptimizerBase.SimpleResult(result=1888.9922146300855, method='bisection', errormsg=None, context_dct=None) full_result [-1.62981451e-09  3.09944153e-06]\n",
      "[PairOptimizer.optimize] curves_t WETH-6Cc2/USDC-eB48\n",
      "[PairOptimizer.optimize] p_optimal OptimizerBase.SimpleResult(result=1888.9922146300478, method='bisection', errormsg=None, context_dct=None) full_result [ 1.45519152e-10 -2.38418579e-07]\n",
      "[PairOptimizer.optimize] curves_t WETH-6Cc2/USDC-eB48\n",
      "[PairOptimizer.optimize] p_optimal OptimizerBase.SimpleResult(result=1888.9922146300792, method='bisection', errormsg=None, context_dct=None) full_result [-1.33877620e-09  2.56299973e-06]\n",
      "[PairOptimizer.optimize] curves_t WETH-6Cc2/USDC-eB48\n",
      "[PairOptimizer.optimize] p_optimal OptimizerBase.SimpleResult(result=1888.9922146300391, method='bisection', errormsg=None, context_dct=None) full_result [ 5.23868948e-10 -1.01327896e-06]\n",
      "[PairOptimizer.optimize] curves_t WETH-6Cc2/USDC-eB48\n",
      "[PairOptimizer.optimize] p_optimal OptimizerBase.SimpleResult(result=1888.9922146300619, method='bisection', errormsg=None, context_dct=None) full_result [-5.23868948e-10  1.01327896e-06]\n",
      "[PairOptimizer.optimize] curves_t WETH-6Cc2/USDC-eB48\n",
      "[PairOptimizer.optimize] p_optimal OptimizerBase.SimpleResult(result=1888.9922050253144, method='bisection', errormsg=None, context_dct=None) full_result [-2.22688450e-05  8.56816769e-08]\n",
      "[PairOptimizer.optimize] curves_t WETH-6Cc2/USDC-eB48\n",
      "[PairOptimizer.optimize] p_optimal OptimizerBase.SimpleResult(result=1888.9922146300673, method='bisection', errormsg=None, context_dct=None) full_result [-7.85803422e-10  1.49011612e-06]\n",
      "[PairOptimizer.optimize] curves_t WETH-6Cc2/USDC-eB48\n",
      "[PairOptimizer.optimize] p_optimal OptimizerBase.SimpleResult(result=1888.9922146300664, method='bisection', errormsg=None, context_dct=None) full_result [-7.27595761e-10  1.37090683e-06]\n",
      "[PairOptimizer.optimize] curves_t WETH-6Cc2/USDC-eB48\n",
      "[PairOptimizer.optimize] p_optimal OptimizerBase.SimpleResult(result=1888.9922146300737, method='bisection', errormsg=None, context_dct=None) full_result [-1.07684173e-09  2.02655792e-06]\n",
      "[PairOptimizer.optimize] curves_t WETH-6Cc2/USDC-eB48\n",
      "[PairOptimizer.optimize] p_optimal OptimizerBase.SimpleResult(result=1888.9922146300778, method='bisection', errormsg=None, context_dct=None) full_result [-1.28056854e-09  2.44379044e-06]\n",
      "[PairOptimizer.optimize] curves_t WETH-6Cc2/USDC-eB48\n",
      "[PairOptimizer.optimize] p_optimal OptimizerBase.SimpleResult(result=1888.9922146300296, method='bisection', errormsg=None, context_dct=None) full_result [ 9.89530236e-10 -1.84774399e-06]\n",
      "[PairOptimizer.optimize] curves_t WETH-6Cc2/USDC-eB48\n",
      "[PairOptimizer.optimize] p_optimal OptimizerBase.SimpleResult(result=1888.9922146300314, method='bisection', errormsg=None, context_dct=None) full_result [ 9.02218744e-10 -1.66893005e-06]\n",
      "[PairOptimizer.optimize] curves_t WETH-6Cc2/USDC-eB48\n",
      "[PairOptimizer.optimize] p_optimal OptimizerBase.SimpleResult(result=1888.992214630077, method='bisection', errormsg=None, context_dct=None) full_result [-1.22236088e-09  2.32458115e-06]\n",
      "[PairOptimizer.optimize] curves_t WETH-6Cc2/USDC-eB48\n",
      "[PairOptimizer.optimize] p_optimal OptimizerBase.SimpleResult(result=1888.9922146300594, method='bisection', errormsg=None, context_dct=None) full_result [-4.07453626e-10  7.74860382e-07]\n",
      "[PairOptimizer.optimize] curves_t WETH-6Cc2/USDC-eB48\n",
      "[PairOptimizer.optimize] p_optimal OptimizerBase.SimpleResult(result=1888.9922146300491, method='bisection', errormsg=None, context_dct=None) full_result [ 8.73114914e-11 -1.19209290e-07]\n",
      "[PairOptimizer.optimize] curves_t WETH-6Cc2/USDC-eB48\n",
      "[PairOptimizer.optimize] p_optimal OptimizerBase.SimpleResult(result=1888.9922146300614, method='bisection', errormsg=None, context_dct=None) full_result [-4.94765118e-10  9.53674316e-07]\n",
      "[PairOptimizer.optimize] curves_t WETH-6Cc2/USDC-eB48\n",
      "[PairOptimizer.optimize] p_optimal OptimizerBase.SimpleResult(result=1888.992214630031, method='bisection', errormsg=None, context_dct=None) full_result [ 4.79416506e-10 -8.99430233e-07]\n",
      "[PairOptimizer.optimize] curves_t WETH-6Cc2/USDC-eB48\n",
      "[PairOptimizer.optimize] p_optimal OptimizerBase.SimpleResult(result=1888.99221463004, method='bisection', errormsg=None, context_dct=None) full_result [ 4.94765118e-10 -9.53674316e-07]\n",
      "[PairOptimizer.optimize] curves_t WETH-6Cc2/USDC-eB48\n",
      "[PairOptimizer.optimize] p_optimal OptimizerBase.SimpleResult(result=1888.9922146300391, method='bisection', errormsg=None, context_dct=None) full_result [ 5.23868948e-10 -1.01327896e-06]\n",
      "[PairOptimizer.optimize] curves_t WETH-6Cc2/USDC-eB48\n",
      "[PairOptimizer.optimize] p_optimal OptimizerBase.SimpleResult(result=1888.9922146300337, method='bisection', errormsg=None, context_dct=None) full_result [ 7.85803422e-10 -1.49011612e-06]\n",
      "[PairOptimizer.optimize] curves_t WETH-6Cc2/USDC-eB48\n",
      "[PairOptimizer.optimize] p_optimal OptimizerBase.SimpleResult(result=1888.9922146300673, method='bisection', errormsg=None, context_dct=None) full_result [-7.85803422e-10  1.49011612e-06]\n",
      "[PairOptimizer.optimize] curves_t WETH-6Cc2/USDC-eB48\n",
      "[PairOptimizer.optimize] p_optimal OptimizerBase.SimpleResult(result=1888.9922146300228, method='bisection', errormsg=None, context_dct=None) full_result [ 1.30967237e-09 -2.44379044e-06]\n",
      "[PairOptimizer.optimize] curves_t WETH-6Cc2/USDC-eB48\n",
      "[PairOptimizer.optimize] p_optimal OptimizerBase.SimpleResult(result=1888.992214630025, method='bisection', errormsg=None, context_dct=None) full_result [ 1.19325705e-09 -2.26497650e-06]\n",
      "[PairOptimizer.optimize] curves_t WETH-6Cc2/USDC-eB48\n",
      "[PairOptimizer.optimize] p_optimal OptimizerBase.SimpleResult(result=1888.9922146300191, method='bisection', errormsg=None, context_dct=None) full_result [ 1.48429535e-09 -2.80141830e-06]\n",
      "[PairOptimizer.optimize] curves_t WETH-6Cc2/USDC-eB48\n",
      "[PairOptimizer.optimize] p_optimal OptimizerBase.SimpleResult(result=1888.9922146300532, method='bisection', errormsg=None, context_dct=None) full_result [-1.16415322e-10  2.38418579e-07]\n",
      "[PairOptimizer.optimize] curves_t WETH-6Cc2/USDC-eB48\n",
      "[PairOptimizer.optimize] p_optimal OptimizerBase.SimpleResult(result=1888.9922146300728, method='bisection', errormsg=None, context_dct=None) full_result [-1.04773790e-09  1.96695328e-06]\n",
      "[PairOptimizer.optimize] curves_t WETH-6Cc2/USDC-eB48\n",
      "[PairOptimizer.optimize] p_optimal OptimizerBase.SimpleResult(result=1888.9922146300314, method='bisection', errormsg=None, context_dct=None) full_result [ 9.02218744e-10 -1.66893005e-06]\n",
      "[PairOptimizer.optimize] curves_t WETH-6Cc2/USDC-eB48\n",
      "[PairOptimizer.optimize] p_optimal OptimizerBase.SimpleResult(result=1888.9922146300853, method='bisection', errormsg=None, context_dct=None) full_result [-1.62981451e-09  3.09944153e-06]\n",
      "[PairOptimizer.optimize] curves_t WETH-6Cc2/USDC-eB48\n",
      "[PairOptimizer.optimize] p_optimal OptimizerBase.SimpleResult(result=1888.9922146300532, method='bisection', errormsg=None, context_dct=None) full_result [-1.16415322e-10  2.38418579e-07]\n",
      "[PairOptimizer.optimize] curves_t WETH-6Cc2/USDC-eB48\n",
      "[PairOptimizer.optimize] p_optimal OptimizerBase.SimpleResult(result=1888.9922146300314, method='bisection', errormsg=None, context_dct=None) full_result [ 9.02218744e-10 -1.66893005e-06]\n",
      "[PairOptimizer.optimize] curves_t WETH-6Cc2/USDC-eB48\n",
      "[PairOptimizer.optimize] p_optimal OptimizerBase.SimpleResult(result=1888.9922146300917, method='bisection', errormsg=None, context_dct=None) full_result [-1.92085281e-09  3.63588333e-06]\n",
      "[PairOptimizer.optimize] curves_t WETH-6Cc2/USDC-eB48\n",
      "[PairOptimizer.optimize] p_optimal OptimizerBase.SimpleResult(result=1888.9922146300532, method='bisection', errormsg=None, context_dct=None) full_result [-1.16415322e-10  2.38418579e-07]\n",
      "[PairOptimizer.optimize] curves_t WETH-6Cc2/USDC-eB48\n",
      "[PairOptimizer.optimize] p_optimal OptimizerBase.SimpleResult(result=1888.9922146300405, method='bisection', errormsg=None, context_dct=None) full_result [ 4.65661287e-10 -8.94069672e-07]\n",
      "[PairOptimizer.optimize] curves_t WETH-6Cc2/USDC-eB48\n",
      "[PairOptimizer.optimize] p_optimal OptimizerBase.SimpleResult(result=1888.9922146300532, method='bisection', errormsg=None, context_dct=None) full_result [-1.16415322e-10  2.38418579e-07]\n",
      "[PairOptimizer.optimize] curves_t WETH-6Cc2/USDC-eB48\n",
      "[PairOptimizer.optimize] p_optimal OptimizerBase.SimpleResult(result=1888.9922146300455, method='bisection', errormsg=None, context_dct=None) full_result [ 2.32830644e-10 -4.17232513e-07]\n"
     ]
    },
    {
     "data": {
      "text/plain": "0it [00:00, ?it/s]",
      "application/vnd.jupyter.widget-view+json": {
       "version_major": 2,
       "version_minor": 0,
       "model_id": "c695a4df03044ffa8c9dbc49f399a779"
      }
     },
     "metadata": {},
     "output_type": "display_data"
    },
    {
     "data": {
      "text/plain": "  0%|          | 0/1 [00:00<?, ?it/s]",
      "application/vnd.jupyter.widget-view+json": {
       "version_major": 2,
       "version_minor": 0,
       "model_id": "05fffe7447ba415b8f1f286a0f4d54a6"
      }
     },
     "metadata": {},
     "output_type": "display_data"
    },
    {
     "name": "stdout",
     "output_type": "stream",
     "text": [
      "[PairOptimizer.optimize] curves_t SMT-7173/WETH-6Cc2\n",
      "[PairOptimizer.optimize] p_optimal OptimizerBase.SimpleResult(result=3.412389120192642e-05, method='bisection', errormsg=None, context_dct=None) full_result [-2.28550270e-01  7.79902077e-06]\n"
     ]
    },
    {
     "data": {
      "text/plain": "0it [00:00, ?it/s]",
      "application/vnd.jupyter.widget-view+json": {
       "version_major": 2,
       "version_minor": 0,
       "model_id": "5e932b04befb4fcfaaefda973ff77b5e"
      }
     },
     "metadata": {},
     "output_type": "display_data"
    },
    {
     "data": {
      "text/plain": "0it [00:00, ?it/s]",
      "application/vnd.jupyter.widget-view+json": {
       "version_major": 2,
       "version_minor": 0,
       "model_id": "0b868cd13fa6469ebf796f7b415602a4"
      }
     },
     "metadata": {},
     "output_type": "display_data"
    },
    {
     "data": {
      "text/plain": "  0%|          | 0/4 [00:00<?, ?it/s]",
      "application/vnd.jupyter.widget-view+json": {
       "version_major": 2,
       "version_minor": 0,
       "model_id": "5fc76ca2fde046c697429f958f5af092"
      }
     },
     "metadata": {},
     "output_type": "display_data"
    },
    {
     "name": "stdout",
     "output_type": "stream",
     "text": [
      "[PairOptimizer.optimize] curves_t WETH-6Cc2/BNT-FF1C\n",
      "[PairOptimizer.optimize] p_optimal OptimizerBase.SimpleResult(result=4764.127397630934, method='bisection', errormsg=None, context_dct=None) full_result [-2.08544293e-12 -2.38837026e+00]\n",
      "[PairOptimizer.optimize] curves_t WETH-6Cc2/BNT-FF1C\n",
      "[PairOptimizer.optimize] p_optimal OptimizerBase.SimpleResult(result=4764.138098143878, method='bisection', errormsg=None, context_dct=None) full_result [ 2.72848411e-12 -1.49011612e-08]\n",
      "[PairOptimizer.optimize] curves_t WETH-6Cc2/BNT-FF1C\n",
      "[PairOptimizer.optimize] p_optimal OptimizerBase.SimpleResult(result=4764.138098143918, method='bisection', errormsg=None, context_dct=None) full_result [-1.18234311e-11  5.58793545e-08]\n",
      "[PairOptimizer.optimize] curves_t WETH-6Cc2/BNT-FF1C\n",
      "[PairOptimizer.optimize] p_optimal OptimizerBase.SimpleResult(result=4764.138098143867, method='bisection', errormsg=None, context_dct=None) full_result [ 7.27595761e-12 -3.35276127e-08]\n"
     ]
    },
    {
     "data": {
      "text/plain": "  0%|          | 0/18 [00:00<?, ?it/s]",
      "application/vnd.jupyter.widget-view+json": {
       "version_major": 2,
       "version_minor": 0,
       "model_id": "a13ba0c125f143bf9df6f81faf206091"
      }
     },
     "metadata": {},
     "output_type": "display_data"
    },
    {
     "name": "stdout",
     "output_type": "stream",
     "text": [
      "[PairOptimizer.optimize] curves_t WETH-6Cc2/DAI-1d0F\n",
      "[PairOptimizer.optimize] p_optimal OptimizerBase.SimpleResult(result=1889.8516355281042, method='bisection', errormsg=None, context_dct=None) full_result [-2.25554686e-10  4.32133675e-07]\n",
      "[PairOptimizer.optimize] curves_t WETH-6Cc2/DAI-1d0F\n",
      "[PairOptimizer.optimize] p_optimal OptimizerBase.SimpleResult(result=1889.8516355281013, method='bisection', errormsg=None, context_dct=None) full_result [-1.89174898e-10  3.57627869e-07]\n",
      "[PairOptimizer.optimize] curves_t WETH-6Cc2/DAI-1d0F\n",
      "[PairOptimizer.optimize] p_optimal OptimizerBase.SimpleResult(result=1889.8516355280663, method='bisection', errormsg=None, context_dct=None) full_result [ 1.74622983e-10 -3.27825546e-07]\n",
      "[PairOptimizer.optimize] curves_t WETH-6Cc2/DAI-1d0F\n",
      "[PairOptimizer.optimize] p_optimal OptimizerBase.SimpleResult(result=1889.851635528079, method='bisection', errormsg=None, context_dct=None) full_result [ 3.63797881e-11 -7.45058060e-08]\n",
      "[PairOptimizer.optimize] curves_t WETH-6Cc2/DAI-1d0F\n",
      "[PairOptimizer.optimize] p_optimal OptimizerBase.SimpleResult(result=1889.8516355281054, method='bisection', errormsg=None, context_dct=None) full_result [-2.40106602e-10  4.47034836e-07]\n",
      "[PairOptimizer.optimize] curves_t WETH-6Cc2/DAI-1d0F\n",
      "[PairOptimizer.optimize] p_optimal OptimizerBase.SimpleResult(result=1889.8516355281217, method='bisection', errormsg=None, context_dct=None) full_result [-4.07453626e-10  7.59959221e-07]\n",
      "[PairOptimizer.optimize] curves_t WETH-6Cc2/DAI-1d0F\n",
      "[PairOptimizer.optimize] p_optimal OptimizerBase.SimpleResult(result=1889.8516355280967, method='bisection', errormsg=None, context_dct=None) full_result [-1.38243195e-10  2.68220901e-07]\n",
      "[PairOptimizer.optimize] curves_t WETH-6Cc2/DAI-1d0F\n",
      "[PairOptimizer.optimize] p_optimal OptimizerBase.SimpleResult(result=1889.8516355280508, method='bisection', errormsg=None, context_dct=None) full_result [ 3.34694050e-10 -6.40749931e-07]\n",
      "[PairOptimizer.optimize] curves_t WETH-6Cc2/DAI-1d0F\n",
      "[PairOptimizer.optimize] p_optimal OptimizerBase.SimpleResult(result=1889.8516355280644, method='bisection', errormsg=None, context_dct=None) full_result [ 1.89174898e-10 -3.57627869e-07]\n",
      "[PairOptimizer.optimize] curves_t WETH-6Cc2/DAI-1d0F\n",
      "[PairOptimizer.optimize] p_optimal OptimizerBase.SimpleResult(result=1889.2342508777633, method='bisection', errormsg=None, context_dct=None) full_result [ 1.85536919e-10 -3.50177288e-07]\n",
      "[PairOptimizer.optimize] curves_t WETH-6Cc2/DAI-1d0F\n",
      "[PairOptimizer.optimize] p_optimal OptimizerBase.SimpleResult(result=1889.2342508777883, method='bisection', errormsg=None, context_dct=None) full_result [-2.54658516e-11  5.21540642e-08]\n",
      "[PairOptimizer.optimize] curves_t WETH-6Cc2/DAI-1d0F\n",
      "[PairOptimizer.optimize] p_optimal OptimizerBase.SimpleResult(result=1889.2342508777967, method='bisection', errormsg=None, context_dct=None) full_result [-1.01863407e-10  1.93715096e-07]\n",
      "[PairOptimizer.optimize] curves_t WETH-6Cc2/DAI-1d0F\n",
      "[PairOptimizer.optimize] p_optimal OptimizerBase.SimpleResult(result=1889.23425087778, method='bisection', errormsg=None, context_dct=None) full_result [ 4.36557457e-11 -7.45058060e-08]\n",
      "[PairOptimizer.optimize] curves_t WETH-6Cc2/DAI-1d0F\n",
      "[PairOptimizer.optimize] p_optimal OptimizerBase.SimpleResult(result=1889.2342508777592, method='bisection', errormsg=None, context_dct=None) full_result [ 2.25554685e-10 -4.24683094e-07]\n",
      "[PairOptimizer.optimize] curves_t WETH-6Cc2/DAI-1d0F\n",
      "[PairOptimizer.optimize] p_optimal OptimizerBase.SimpleResult(result=1889.2342508778206, method='bisection', errormsg=None, context_dct=None) full_result [-3.09228199e-10  5.81145287e-07]\n",
      "[PairOptimizer.optimize] curves_t WETH-6Cc2/DAI-1d0F\n",
      "[PairOptimizer.optimize] p_optimal OptimizerBase.SimpleResult(result=1889.2342508777615, method='bisection', errormsg=None, context_dct=None) full_result [ 2.03726813e-10 -3.87430191e-07]\n",
      "[PairOptimizer.optimize] curves_t WETH-6Cc2/DAI-1d0F\n",
      "[PairOptimizer.optimize] p_optimal OptimizerBase.SimpleResult(result=1889.234250877789, method='bisection', errormsg=None, context_dct=None) full_result [-3.63797881e-11  7.45058060e-08]\n",
      "[PairOptimizer.optimize] curves_t WETH-6Cc2/DAI-1d0F\n",
      "[PairOptimizer.optimize] p_optimal OptimizerBase.SimpleResult(result=1889.2342508777924, method='bisection', errormsg=None, context_dct=None) full_result [-6.54836185e-11  1.26659870e-07]\n"
     ]
    },
    {
     "data": {
      "text/plain": "  0%|          | 0/54 [00:00<?, ?it/s]",
      "application/vnd.jupyter.widget-view+json": {
       "version_major": 2,
       "version_minor": 0,
       "model_id": "906a6f5767364f968567d189bfb53671"
      }
     },
     "metadata": {},
     "output_type": "display_data"
    },
    {
     "name": "stdout",
     "output_type": "stream",
     "text": [
      "[PairOptimizer.optimize] curves_t WETH-6Cc2/USDC-eB48\n",
      "[PairOptimizer.optimize] p_optimal OptimizerBase.SimpleResult(result=1888.9922146300491, method='bisection', errormsg=None, context_dct=None) full_result [ 8.73114914e-11 -1.19209290e-07]\n",
      "[PairOptimizer.optimize] curves_t WETH-6Cc2/USDC-eB48\n",
      "[PairOptimizer.optimize] p_optimal OptimizerBase.SimpleResult(result=1888.9922146300569, method='bisection', errormsg=None, context_dct=None) full_result [-2.91038305e-10  5.96046448e-07]\n",
      "[PairOptimizer.optimize] curves_t WETH-6Cc2/USDC-eB48\n",
      "[PairOptimizer.optimize] p_optimal OptimizerBase.SimpleResult(result=1888.9922146300253, method='bisection', errormsg=None, context_dct=None) full_result [ 1.19325705e-09 -2.26497650e-06]\n",
      "[PairOptimizer.optimize] curves_t WETH-6Cc2/USDC-eB48\n",
      "[PairOptimizer.optimize] p_optimal OptimizerBase.SimpleResult(result=1888.9922146300537, method='bisection', errormsg=None, context_dct=None) full_result [-1.45519152e-10  2.98023224e-07]\n",
      "[PairOptimizer.optimize] curves_t WETH-6Cc2/USDC-eB48\n",
      "[PairOptimizer.optimize] p_optimal OptimizerBase.SimpleResult(result=1888.9922146300496, method='bisection', errormsg=None, context_dct=None) full_result [ 5.82076609e-11 -5.96046448e-08]\n",
      "[PairOptimizer.optimize] curves_t WETH-6Cc2/USDC-eB48\n",
      "[PairOptimizer.optimize] p_optimal OptimizerBase.SimpleResult(result=1888.9922146300532, method='bisection', errormsg=None, context_dct=None) full_result [-1.16415322e-10  2.38418579e-07]\n",
      "[PairOptimizer.optimize] curves_t WETH-6Cc2/USDC-eB48\n",
      "[PairOptimizer.optimize] p_optimal OptimizerBase.SimpleResult(result=1888.9922146300578, method='bisection', errormsg=None, context_dct=None) full_result [-3.20142135e-10  6.55651093e-07]\n",
      "[PairOptimizer.optimize] curves_t WETH-6Cc2/USDC-eB48\n",
      "[PairOptimizer.optimize] p_optimal OptimizerBase.SimpleResult(result=1888.9922146300444, method='bisection', errormsg=None, context_dct=None) full_result [ 2.91038305e-10 -5.36441803e-07]\n",
      "[PairOptimizer.optimize] curves_t WETH-6Cc2/USDC-eB48\n",
      "[PairOptimizer.optimize] p_optimal OptimizerBase.SimpleResult(result=1888.9922146300455, method='bisection', errormsg=None, context_dct=None) full_result [ 2.32830644e-10 -4.17232513e-07]\n",
      "[PairOptimizer.optimize] curves_t WETH-6Cc2/USDC-eB48\n",
      "[PairOptimizer.optimize] p_optimal OptimizerBase.SimpleResult(result=1888.99221463004, method='bisection', errormsg=None, context_dct=None) full_result [ 4.94765118e-10 -9.53674316e-07]\n",
      "[PairOptimizer.optimize] curves_t WETH-6Cc2/USDC-eB48\n",
      "[PairOptimizer.optimize] p_optimal OptimizerBase.SimpleResult(result=1888.992214630059, method='bisection', errormsg=None, context_dct=None) full_result [-3.78349796e-10  7.15255737e-07]\n",
      "[PairOptimizer.optimize] curves_t WETH-6Cc2/USDC-eB48\n",
      "[PairOptimizer.optimize] p_optimal OptimizerBase.SimpleResult(result=1888.9922146300523, method='bisection', errormsg=None, context_dct=None) full_result [-8.73114914e-11  1.78813934e-07]\n",
      "[PairOptimizer.optimize] curves_t WETH-6Cc2/USDC-eB48\n",
      "[PairOptimizer.optimize] p_optimal OptimizerBase.SimpleResult(result=1888.9922146300391, method='bisection', errormsg=None, context_dct=None) full_result [ 5.23868948e-10 -1.01327896e-06]\n",
      "[PairOptimizer.optimize] curves_t WETH-6Cc2/USDC-eB48\n",
      "[PairOptimizer.optimize] p_optimal OptimizerBase.SimpleResult(result=1888.9922146300473, method='bisection', errormsg=None, context_dct=None) full_result [ 1.45519152e-10 -2.98023224e-07]\n",
      "[PairOptimizer.optimize] curves_t WETH-6Cc2/USDC-eB48\n",
      "[PairOptimizer.optimize] p_optimal OptimizerBase.SimpleResult(result=1888.9922146300362, method='bisection', errormsg=None, context_dct=None) full_result [ 6.98491931e-10 -1.31130219e-06]\n",
      "[PairOptimizer.optimize] curves_t WETH-6Cc2/USDC-eB48\n",
      "[PairOptimizer.optimize] p_optimal OptimizerBase.SimpleResult(result=1888.9922146300369, method='bisection', errormsg=None, context_dct=None) full_result [ 6.4028427e-10 -1.1920929e-06]\n",
      "[PairOptimizer.optimize] curves_t WETH-6Cc2/USDC-eB48\n",
      "[PairOptimizer.optimize] p_optimal OptimizerBase.SimpleResult(result=1888.992214630031, method='bisection', errormsg=None, context_dct=None) full_result [ 9.02218744e-10 -1.66893005e-06]\n",
      "[PairOptimizer.optimize] curves_t WETH-6Cc2/USDC-eB48\n",
      "[PairOptimizer.optimize] p_optimal OptimizerBase.SimpleResult(result=1888.9922146300394, method='bisection', errormsg=None, context_dct=None) full_result [ 5.23868948e-10 -1.01327896e-06]\n",
      "[PairOptimizer.optimize] curves_t WETH-6Cc2/USDC-eB48\n",
      "[PairOptimizer.optimize] p_optimal OptimizerBase.SimpleResult(result=1888.9922146300503, method='bisection', errormsg=None, context_dct=None) full_result [2.91038305e-11 0.00000000e+00]\n",
      "[PairOptimizer.optimize] curves_t WETH-6Cc2/USDC-eB48\n",
      "[PairOptimizer.optimize] p_optimal OptimizerBase.SimpleResult(result=1888.9922146300855, method='bisection', errormsg=None, context_dct=None) full_result [-1.62981451e-09  3.09944153e-06]\n",
      "[PairOptimizer.optimize] curves_t WETH-6Cc2/USDC-eB48\n",
      "[PairOptimizer.optimize] p_optimal OptimizerBase.SimpleResult(result=1888.9922146300478, method='bisection', errormsg=None, context_dct=None) full_result [ 1.45519152e-10 -2.38418579e-07]\n",
      "[PairOptimizer.optimize] curves_t WETH-6Cc2/USDC-eB48\n",
      "[PairOptimizer.optimize] p_optimal OptimizerBase.SimpleResult(result=1888.9922146300792, method='bisection', errormsg=None, context_dct=None) full_result [-1.33877620e-09  2.56299973e-06]\n",
      "[PairOptimizer.optimize] curves_t WETH-6Cc2/USDC-eB48\n",
      "[PairOptimizer.optimize] p_optimal OptimizerBase.SimpleResult(result=1888.9922146300391, method='bisection', errormsg=None, context_dct=None) full_result [ 5.23868948e-10 -1.01327896e-06]\n",
      "[PairOptimizer.optimize] curves_t WETH-6Cc2/USDC-eB48\n",
      "[PairOptimizer.optimize] p_optimal OptimizerBase.SimpleResult(result=1888.9922146300619, method='bisection', errormsg=None, context_dct=None) full_result [-5.23868948e-10  1.01327896e-06]\n",
      "[PairOptimizer.optimize] curves_t WETH-6Cc2/USDC-eB48\n",
      "[PairOptimizer.optimize] p_optimal OptimizerBase.SimpleResult(result=1888.9922045504713, method='bisection', errormsg=None, context_dct=None) full_result [-7.76708475e-10 -4.20641638e-02]\n",
      "[PairOptimizer.optimize] curves_t WETH-6Cc2/USDC-eB48\n",
      "[PairOptimizer.optimize] p_optimal OptimizerBase.SimpleResult(result=1888.9922146300673, method='bisection', errormsg=None, context_dct=None) full_result [-7.85803422e-10  1.49011612e-06]\n",
      "[PairOptimizer.optimize] curves_t WETH-6Cc2/USDC-eB48\n",
      "[PairOptimizer.optimize] p_optimal OptimizerBase.SimpleResult(result=1888.9922146300664, method='bisection', errormsg=None, context_dct=None) full_result [-7.27595761e-10  1.37090683e-06]\n",
      "[PairOptimizer.optimize] curves_t WETH-6Cc2/USDC-eB48\n",
      "[PairOptimizer.optimize] p_optimal OptimizerBase.SimpleResult(result=1888.9922146300737, method='bisection', errormsg=None, context_dct=None) full_result [-1.07684173e-09  2.02655792e-06]\n",
      "[PairOptimizer.optimize] curves_t WETH-6Cc2/USDC-eB48\n",
      "[PairOptimizer.optimize] p_optimal OptimizerBase.SimpleResult(result=1888.9922146300778, method='bisection', errormsg=None, context_dct=None) full_result [-1.28056854e-09  2.44379044e-06]\n",
      "[PairOptimizer.optimize] curves_t WETH-6Cc2/USDC-eB48\n",
      "[PairOptimizer.optimize] p_optimal OptimizerBase.SimpleResult(result=1888.9922146300296, method='bisection', errormsg=None, context_dct=None) full_result [ 9.89530236e-10 -1.84774399e-06]\n",
      "[PairOptimizer.optimize] curves_t WETH-6Cc2/USDC-eB48\n",
      "[PairOptimizer.optimize] p_optimal OptimizerBase.SimpleResult(result=1888.9922146300314, method='bisection', errormsg=None, context_dct=None) full_result [ 9.02218744e-10 -1.66893005e-06]\n",
      "[PairOptimizer.optimize] curves_t WETH-6Cc2/USDC-eB48\n",
      "[PairOptimizer.optimize] p_optimal OptimizerBase.SimpleResult(result=1888.992214630077, method='bisection', errormsg=None, context_dct=None) full_result [-1.22236088e-09  2.32458115e-06]\n",
      "[PairOptimizer.optimize] curves_t WETH-6Cc2/USDC-eB48\n",
      "[PairOptimizer.optimize] p_optimal OptimizerBase.SimpleResult(result=1888.9922146300594, method='bisection', errormsg=None, context_dct=None) full_result [-4.07453626e-10  7.74860382e-07]\n",
      "[PairOptimizer.optimize] curves_t WETH-6Cc2/USDC-eB48\n",
      "[PairOptimizer.optimize] p_optimal OptimizerBase.SimpleResult(result=1888.9922146300491, method='bisection', errormsg=None, context_dct=None) full_result [ 8.73114914e-11 -1.19209290e-07]\n",
      "[PairOptimizer.optimize] curves_t WETH-6Cc2/USDC-eB48\n",
      "[PairOptimizer.optimize] p_optimal OptimizerBase.SimpleResult(result=1888.9922146300614, method='bisection', errormsg=None, context_dct=None) full_result [-4.94765118e-10  9.53674316e-07]\n",
      "[PairOptimizer.optimize] curves_t WETH-6Cc2/USDC-eB48\n",
      "[PairOptimizer.optimize] p_optimal OptimizerBase.SimpleResult(result=1888.992214630031, method='bisection', errormsg=None, context_dct=None) full_result [ 4.79416506e-10 -8.99430233e-07]\n",
      "[PairOptimizer.optimize] curves_t WETH-6Cc2/USDC-eB48\n",
      "[PairOptimizer.optimize] p_optimal OptimizerBase.SimpleResult(result=1888.99221463004, method='bisection', errormsg=None, context_dct=None) full_result [ 4.94765118e-10 -9.53674316e-07]\n",
      "[PairOptimizer.optimize] curves_t WETH-6Cc2/USDC-eB48\n",
      "[PairOptimizer.optimize] p_optimal OptimizerBase.SimpleResult(result=1888.9922146300391, method='bisection', errormsg=None, context_dct=None) full_result [ 5.23868948e-10 -1.01327896e-06]\n",
      "[PairOptimizer.optimize] curves_t WETH-6Cc2/USDC-eB48\n",
      "[PairOptimizer.optimize] p_optimal OptimizerBase.SimpleResult(result=1888.9922146300337, method='bisection', errormsg=None, context_dct=None) full_result [ 7.85803422e-10 -1.49011612e-06]\n",
      "[PairOptimizer.optimize] curves_t WETH-6Cc2/USDC-eB48\n",
      "[PairOptimizer.optimize] p_optimal OptimizerBase.SimpleResult(result=1888.9922146300673, method='bisection', errormsg=None, context_dct=None) full_result [-7.85803422e-10  1.49011612e-06]\n",
      "[PairOptimizer.optimize] curves_t WETH-6Cc2/USDC-eB48\n",
      "[PairOptimizer.optimize] p_optimal OptimizerBase.SimpleResult(result=1888.9922146300228, method='bisection', errormsg=None, context_dct=None) full_result [ 1.30967237e-09 -2.44379044e-06]\n",
      "[PairOptimizer.optimize] curves_t WETH-6Cc2/USDC-eB48\n",
      "[PairOptimizer.optimize] p_optimal OptimizerBase.SimpleResult(result=1888.992214630025, method='bisection', errormsg=None, context_dct=None) full_result [ 1.19325705e-09 -2.26497650e-06]\n",
      "[PairOptimizer.optimize] curves_t WETH-6Cc2/USDC-eB48\n",
      "[PairOptimizer.optimize] p_optimal OptimizerBase.SimpleResult(result=1888.9922146300191, method='bisection', errormsg=None, context_dct=None) full_result [ 1.48429535e-09 -2.80141830e-06]\n",
      "[PairOptimizer.optimize] curves_t WETH-6Cc2/USDC-eB48\n",
      "[PairOptimizer.optimize] p_optimal OptimizerBase.SimpleResult(result=1888.9922146300532, method='bisection', errormsg=None, context_dct=None) full_result [-1.16415322e-10  2.38418579e-07]\n",
      "[PairOptimizer.optimize] curves_t WETH-6Cc2/USDC-eB48\n",
      "[PairOptimizer.optimize] p_optimal OptimizerBase.SimpleResult(result=1888.9922146300728, method='bisection', errormsg=None, context_dct=None) full_result [-1.04773790e-09  1.96695328e-06]\n",
      "[PairOptimizer.optimize] curves_t WETH-6Cc2/USDC-eB48\n",
      "[PairOptimizer.optimize] p_optimal OptimizerBase.SimpleResult(result=1888.9922146300314, method='bisection', errormsg=None, context_dct=None) full_result [ 9.02218744e-10 -1.66893005e-06]\n",
      "[PairOptimizer.optimize] curves_t WETH-6Cc2/USDC-eB48\n",
      "[PairOptimizer.optimize] p_optimal OptimizerBase.SimpleResult(result=1888.9922146300853, method='bisection', errormsg=None, context_dct=None) full_result [-1.62981451e-09  3.09944153e-06]\n",
      "[PairOptimizer.optimize] curves_t WETH-6Cc2/USDC-eB48\n",
      "[PairOptimizer.optimize] p_optimal OptimizerBase.SimpleResult(result=1888.9922146300532, method='bisection', errormsg=None, context_dct=None) full_result [-1.16415322e-10  2.38418579e-07]\n",
      "[PairOptimizer.optimize] curves_t WETH-6Cc2/USDC-eB48\n",
      "[PairOptimizer.optimize] p_optimal OptimizerBase.SimpleResult(result=1888.9922146300314, method='bisection', errormsg=None, context_dct=None) full_result [ 9.02218744e-10 -1.66893005e-06]\n",
      "[PairOptimizer.optimize] curves_t WETH-6Cc2/USDC-eB48\n",
      "[PairOptimizer.optimize] p_optimal OptimizerBase.SimpleResult(result=1888.9922146300917, method='bisection', errormsg=None, context_dct=None) full_result [-1.92085281e-09  3.63588333e-06]\n",
      "[PairOptimizer.optimize] curves_t WETH-6Cc2/USDC-eB48\n",
      "[PairOptimizer.optimize] p_optimal OptimizerBase.SimpleResult(result=1888.9922146300532, method='bisection', errormsg=None, context_dct=None) full_result [-1.16415322e-10  2.38418579e-07]\n",
      "[PairOptimizer.optimize] curves_t WETH-6Cc2/USDC-eB48\n",
      "[PairOptimizer.optimize] p_optimal OptimizerBase.SimpleResult(result=1888.9922146300405, method='bisection', errormsg=None, context_dct=None) full_result [ 4.65661287e-10 -8.94069672e-07]\n",
      "[PairOptimizer.optimize] curves_t WETH-6Cc2/USDC-eB48\n",
      "[PairOptimizer.optimize] p_optimal OptimizerBase.SimpleResult(result=1888.9922146300532, method='bisection', errormsg=None, context_dct=None) full_result [-1.16415322e-10  2.38418579e-07]\n",
      "[PairOptimizer.optimize] curves_t WETH-6Cc2/USDC-eB48\n",
      "[PairOptimizer.optimize] p_optimal OptimizerBase.SimpleResult(result=1888.9922146300455, method='bisection', errormsg=None, context_dct=None) full_result [ 2.32830644e-10 -4.17232513e-07]\n"
     ]
    },
    {
     "data": {
      "text/plain": "  0%|          | 0/16 [00:00<?, ?it/s]",
      "application/vnd.jupyter.widget-view+json": {
       "version_major": 2,
       "version_minor": 0,
       "model_id": "d3c7e8e9a5ef4c92b1499b01ea938170"
      }
     },
     "metadata": {},
     "output_type": "display_data"
    },
    {
     "name": "stdout",
     "output_type": "stream",
     "text": [
      "[PairOptimizer.optimize] curves_t WBTC-C599/WETH-6Cc2\n",
      "[PairOptimizer.optimize] p_optimal OptimizerBase.SimpleResult(result=16.25127735727674, method='bisection', errormsg=None, context_dct=None) full_result [-1.39116310e-08  2.26078555e-07]\n",
      "[PairOptimizer.optimize] curves_t WBTC-C599/WETH-6Cc2\n",
      "[PairOptimizer.optimize] p_optimal OptimizerBase.SimpleResult(result=16.251277357210903, method='bisection', errormsg=None, context_dct=None) full_result [ 9.79060477e-09 -1.62155537e-07]\n",
      "[PairOptimizer.optimize] curves_t WBTC-C599/WETH-6Cc2\n",
      "[PairOptimizer.optimize] p_optimal OptimizerBase.SimpleResult(result=16.25127735723521, method='bisection', errormsg=None, context_dct=None) full_result [ 7.34507921e-09 -1.19383913e-07]\n",
      "[PairOptimizer.optimize] curves_t WBTC-C599/WETH-6Cc2\n",
      "[PairOptimizer.optimize] p_optimal OptimizerBase.SimpleResult(result=16.251277357269036, method='bisection', errormsg=None, context_dct=None) full_result [-9.96806193e-09  1.61991920e-07]\n",
      "[PairOptimizer.optimize] curves_t WBTC-C599/WETH-6Cc2\n",
      "[PairOptimizer.optimize] p_optimal OptimizerBase.SimpleResult(result=16.251277357223323, method='bisection', errormsg=None, context_dct=None) full_result [ 1.34314178e-08 -2.18278728e-07]\n",
      "[PairOptimizer.optimize] curves_t WBTC-C599/WETH-6Cc2\n",
      "[PairOptimizer.optimize] p_optimal OptimizerBase.SimpleResult(result=16.25127735723416, method='bisection', errormsg=None, context_dct=None) full_result [ 7.88713805e-09 -1.28115062e-07]\n",
      "[PairOptimizer.optimize] curves_t WBTC-C599/WETH-6Cc2\n",
      "[PairOptimizer.optimize] p_optimal OptimizerBase.SimpleResult(result=16.25127564709433, method='bisection', errormsg=None, context_dct=None) full_result [-5.10353928e-08  2.70214628e-07]\n",
      "[PairOptimizer.optimize] curves_t WBTC-C599/WETH-6Cc2\n",
      "[PairOptimizer.optimize] p_optimal OptimizerBase.SimpleResult(result=16.25127735725026, method='bisection', errormsg=None, context_dct=None) full_result [-3.56521923e-10  5.76255843e-09]\n",
      "[PairOptimizer.optimize] curves_t WBTC-C599/WETH-6Cc2\n",
      "[PairOptimizer.optimize] p_optimal OptimizerBase.SimpleResult(result=16.262500335184633, method='bisection', errormsg=None, context_dct=None) full_result [ 1.16415322e-09 -1.89756975e-08]\n",
      "[PairOptimizer.optimize] curves_t WBTC-C599/WETH-6Cc2\n",
      "[PairOptimizer.optimize] p_optimal OptimizerBase.SimpleResult(result=16.26250033520447, method='bisection', errormsg=None, context_dct=None) full_result [-3.23444658e-08  5.22832217e-07]\n",
      "[PairOptimizer.optimize] curves_t WBTC-C599/WETH-6Cc2\n",
      "[PairOptimizer.optimize] p_optimal OptimizerBase.SimpleResult(result=16.26250033520776, method='bisection', errormsg=None, context_dct=None) full_result [-2.62516551e-08  4.26894985e-07]\n",
      "[PairOptimizer.optimize] curves_t WBTC-C599/WETH-6Cc2\n",
      "[PairOptimizer.optimize] p_optimal OptimizerBase.SimpleResult(result=16.262500335150982, method='bisection', errormsg=None, context_dct=None) full_result [ 4.10509529e-08 -6.67641871e-07]\n",
      "[PairOptimizer.optimize] curves_t WBTC-C599/WETH-6Cc2\n",
      "[PairOptimizer.optimize] p_optimal OptimizerBase.SimpleResult(result=16.262500335167502, method='bisection', errormsg=None, context_dct=None) full_result [ 2.1464075e-08 -3.4912955e-07]\n",
      "[PairOptimizer.optimize] curves_t WBTC-C599/WETH-6Cc2\n",
      "[PairOptimizer.optimize] p_optimal OptimizerBase.SimpleResult(result=16.262500335153014, method='bisection', errormsg=None, context_dct=None) full_result [ 3.86353349e-08 -6.28409907e-07]\n",
      "[PairOptimizer.optimize] curves_t WBTC-C599/WETH-6Cc2\n",
      "[PairOptimizer.optimize] p_optimal OptimizerBase.SimpleResult(result=16.26249310669297, method='bisection', errormsg=None, context_dct=None) full_result [-3.28784375e-06 -1.07553376e-07]\n",
      "[PairOptimizer.optimize] curves_t WBTC-C599/WETH-6Cc2\n",
      "[PairOptimizer.optimize] p_optimal OptimizerBase.SimpleResult(result=16.262500335210227, method='bisection', errormsg=None, context_dct=None) full_result [-2.91693141e-08  4.74392436e-07]\n"
     ]
    },
    {
     "data": {
      "text/plain": "  0%|          | 0/39 [00:00<?, ?it/s]",
      "application/vnd.jupyter.widget-view+json": {
       "version_major": 2,
       "version_minor": 0,
       "model_id": "c1cd91664f6547cd8009b342a31894ed"
      }
     },
     "metadata": {},
     "output_type": "display_data"
    },
    {
     "name": "stdout",
     "output_type": "stream",
     "text": [
      "[PairOptimizer.optimize] curves_t WETH-6Cc2/USDT-1ec7\n",
      "[PairOptimizer.optimize] p_optimal OptimizerBase.SimpleResult(result=1890.390259964137, method='bisection', errormsg=None, context_dct=None) full_result [-2.06273398e-09 -2.01165676e-07]\n",
      "[PairOptimizer.optimize] curves_t WETH-6Cc2/USDT-1ec7\n",
      "[PairOptimizer.optimize] p_optimal OptimizerBase.SimpleResult(result=1890.3902598801692, method='bisection', errormsg=None, context_dct=None) full_result [ 8.73114914e-10 -1.66893005e-06]\n",
      "[PairOptimizer.optimize] curves_t WETH-6Cc2/USDT-1ec7\n",
      "[PairOptimizer.optimize] p_optimal OptimizerBase.SimpleResult(result=1890.390259880171, method='bisection', errormsg=None, context_dct=None) full_result [ 6.98491931e-10 -1.31130219e-06]\n",
      "[PairOptimizer.optimize] curves_t WETH-6Cc2/USDT-1ec7\n",
      "[PairOptimizer.optimize] p_optimal OptimizerBase.SimpleResult(result=1890.390259880202, method='bisection', errormsg=None, context_dct=None) full_result [-1.80443749e-09  3.33786011e-06]\n",
      "[PairOptimizer.optimize] curves_t WETH-6Cc2/USDT-1ec7\n",
      "[PairOptimizer.optimize] p_optimal 1890.3902598801792 full_result [0. 0.]\n",
      "[FindArbitrageSinglePairwise] Exception:  'numpy.float64' object has no attribute 'is_error'\n",
      "[PairOptimizer.optimize] curves_t WETH-6Cc2/USDT-1ec7\n",
      "[PairOptimizer.optimize] p_optimal OptimizerBase.SimpleResult(result=1890.3902598801692, method='bisection', errormsg=None, context_dct=None) full_result [ 8.73114914e-10 -1.66893005e-06]\n",
      "[PairOptimizer.optimize] curves_t WETH-6Cc2/USDT-1ec7\n",
      "[PairOptimizer.optimize] p_optimal OptimizerBase.SimpleResult(result=1890.3902598801506, method='bisection', errormsg=None, context_dct=None) full_result [ 2.32830644e-09 -4.41074371e-06]\n",
      "[PairOptimizer.optimize] curves_t WETH-6Cc2/USDT-1ec7\n",
      "[PairOptimizer.optimize] p_optimal OptimizerBase.SimpleResult(result=1890.390270015705, method='bisection', errormsg=None, context_dct=None) full_result [-1.99181471e-09 -2.81728330e-02]\n",
      "[PairOptimizer.optimize] curves_t WETH-6Cc2/USDT-1ec7\n",
      "[PairOptimizer.optimize] p_optimal OptimizerBase.SimpleResult(result=1890.3902598801637, method='bisection', errormsg=None, context_dct=None) full_result [ 1.28056854e-09 -2.50339508e-06]\n",
      "[PairOptimizer.optimize] curves_t WETH-6Cc2/USDT-1ec7\n",
      "[PairOptimizer.optimize] p_optimal OptimizerBase.SimpleResult(result=1890.390259880181, method='bisection', errormsg=None, context_dct=None) full_result [-1.16415322e-10  1.19209290e-07]\n",
      "[PairOptimizer.optimize] curves_t WETH-6Cc2/USDT-1ec7\n",
      "[PairOptimizer.optimize] p_optimal OptimizerBase.SimpleResult(result=1890.3902598801799, method='bisection', errormsg=None, context_dct=None) full_result [-5.82076609e-11  0.00000000e+00]\n",
      "[PairOptimizer.optimize] curves_t WETH-6Cc2/USDT-1ec7\n",
      "[PairOptimizer.optimize] p_optimal OptimizerBase.SimpleResult(result=1890.3902598801478, method='bisection', errormsg=None, context_dct=None) full_result [ 2.56113708e-09 -4.76837158e-06]\n",
      "[PairOptimizer.optimize] curves_t WETH-6Cc2/USDT-1ec7\n",
      "[PairOptimizer.optimize] p_optimal OptimizerBase.SimpleResult(result=1890.390259880165, method='bisection', errormsg=None, context_dct=None) full_result [ 1.16415322e-09 -2.14576721e-06]\n",
      "[PairOptimizer.optimize] curves_t WETH-6Cc2/USDT-1ec7\n",
      "[PairOptimizer.optimize] p_optimal OptimizerBase.SimpleResult(result=1889.1458891677153, method='bisection', errormsg=None, context_dct=None) full_result [ 8.18545232e-10 -1.40294433e-05]\n",
      "[PairOptimizer.optimize] curves_t WETH-6Cc2/USDT-1ec7\n",
      "[PairOptimizer.optimize] p_optimal OptimizerBase.SimpleResult(result=1889.145888875987, method='bisection', errormsg=None, context_dct=None) full_result [-6.11180440e-10  1.16229057e-06]\n",
      "[PairOptimizer.optimize] curves_t WETH-6Cc2/USDT-1ec7\n",
      "[PairOptimizer.optimize] p_optimal 1889.1458888759603 full_result [0. 0.]\n",
      "[FindArbitrageSinglePairwise] Exception:  'numpy.float64' object has no attribute 'is_error'\n",
      "[PairOptimizer.optimize] curves_t WETH-6Cc2/USDT-1ec7\n",
      "[PairOptimizer.optimize] p_optimal OptimizerBase.SimpleResult(result=1889.1458888759319, method='bisection', errormsg=None, context_dct=None) full_result [ 6.69388101e-10 -1.25169754e-06]\n",
      "[PairOptimizer.optimize] curves_t WETH-6Cc2/USDT-1ec7\n",
      "[PairOptimizer.optimize] p_optimal OptimizerBase.SimpleResult(result=1889.1458888759628, method='bisection', errormsg=None, context_dct=None) full_result [-5.82076609e-11  1.19209290e-07]\n",
      "[PairOptimizer.optimize] curves_t WETH-6Cc2/USDT-1ec7\n",
      "[PairOptimizer.optimize] p_optimal OptimizerBase.SimpleResult(result=1889.145888875937, method='bisection', errormsg=None, context_dct=None) full_result [ 5.38420863e-10 -1.01327896e-06]\n",
      "[PairOptimizer.optimize] curves_t WETH-6Cc2/USDT-1ec7\n",
      "[PairOptimizer.optimize] p_optimal OptimizerBase.SimpleResult(result=1889.1458888759466, method='bisection', errormsg=None, context_dct=None) full_result [ 3.20142135e-10 -6.25848770e-07]\n",
      "[PairOptimizer.optimize] curves_t WETH-6Cc2/USDT-1ec7\n",
      "[PairOptimizer.optimize] p_optimal OptimizerBase.SimpleResult(result=1889.145924112454, method='bisection', errormsg=None, context_dct=None) full_result [-5.07519360e-10 -2.91877212e-02]\n",
      "[PairOptimizer.optimize] curves_t WETH-6Cc2/USDT-1ec7\n",
      "[PairOptimizer.optimize] p_optimal OptimizerBase.SimpleResult(result=1889.145888875984, method='bisection', errormsg=None, context_dct=None) full_result [-5.52972779e-10  1.04308128e-06]\n",
      "[PairOptimizer.optimize] curves_t WETH-6Cc2/USDT-1ec7\n",
      "[PairOptimizer.optimize] p_optimal OptimizerBase.SimpleResult(result=1889.1458888759767, method='bisection', errormsg=None, context_dct=None) full_result [-3.78349796e-10  7.15255737e-07]\n",
      "[PairOptimizer.optimize] curves_t WETH-6Cc2/USDT-1ec7\n",
      "[PairOptimizer.optimize] p_optimal OptimizerBase.SimpleResult(result=1889.1458888759503, method='bisection', errormsg=None, context_dct=None) full_result [ 2.32830644e-10 -4.47034836e-07]\n",
      "[PairOptimizer.optimize] curves_t WETH-6Cc2/USDT-1ec7\n",
      "[PairOptimizer.optimize] p_optimal OptimizerBase.SimpleResult(result=1889.1458888759323, method='bisection', errormsg=None, context_dct=None) full_result [ 6.54836185e-10 -1.22189522e-06]\n",
      "[PairOptimizer.optimize] curves_t WETH-6Cc2/USDT-1ec7\n",
      "[PairOptimizer.optimize] p_optimal OptimizerBase.SimpleResult(result=1889.1458888759523, method='bisection', errormsg=None, context_dct=None) full_result [ 1.74622983e-10 -3.27825546e-07]\n",
      "[PairOptimizer.optimize] curves_t WETH-6Cc2/USDT-1ec7\n",
      "[PairOptimizer.optimize] p_optimal OptimizerBase.SimpleResult(result=1881.7106092872837, method='bisection', errormsg=None, context_dct=None) full_result [-3.63797881e-11 -6.24954700e-05]\n",
      "[PairOptimizer.optimize] curves_t WETH-6Cc2/USDT-1ec7\n",
      "[PairOptimizer.optimize] p_optimal OptimizerBase.SimpleResult(result=1881.7106081912802, method='bisection', errormsg=None, context_dct=None) full_result [-1.85536919e-10  3.50177288e-07]\n",
      "[PairOptimizer.optimize] curves_t WETH-6Cc2/USDT-1ec7\n",
      "[PairOptimizer.optimize] p_optimal OptimizerBase.SimpleResult(result=1881.7106081912625, method='bisection', errormsg=None, context_dct=None) full_result [-7.63975549e-11  1.41561031e-07]\n",
      "[PairOptimizer.optimize] curves_t WETH-6Cc2/USDT-1ec7\n",
      "[PairOptimizer.optimize] p_optimal OptimizerBase.SimpleResult(result=1881.7106081912243, method='bisection', errormsg=None, context_dct=None) full_result [ 1.60071068e-10 -3.05473804e-07]\n",
      "[PairOptimizer.optimize] curves_t WETH-6Cc2/USDT-1ec7\n",
      "[PairOptimizer.optimize] p_optimal OptimizerBase.SimpleResult(result=1881.7106081912748, method='bisection', errormsg=None, context_dct=None) full_result [-1.52795110e-10  2.83122063e-07]\n",
      "[PairOptimizer.optimize] curves_t WETH-6Cc2/USDT-1ec7\n",
      "[PairOptimizer.optimize] p_optimal OptimizerBase.SimpleResult(result=1881.7106081912675, method='bisection', errormsg=None, context_dct=None) full_result [-1.05501385e-10  1.93715096e-07]\n",
      "[PairOptimizer.optimize] curves_t WETH-6Cc2/USDT-1ec7\n",
      "[PairOptimizer.optimize] p_optimal OptimizerBase.SimpleResult(result=1881.7106081912423, method='bisection', errormsg=None, context_dct=None) full_result [ 5.09317033e-11 -9.68575478e-08]\n",
      "[PairOptimizer.optimize] curves_t WETH-6Cc2/USDT-1ec7\n",
      "[PairOptimizer.optimize] p_optimal OptimizerBase.SimpleResult(result=1881.7107405470742, method='bisection', errormsg=None, context_dct=None) full_result [ 3.09015036e-11 -3.52364527e-02]\n",
      "[PairOptimizer.optimize] curves_t WETH-6Cc2/USDT-1ec7\n",
      "[PairOptimizer.optimize] p_optimal OptimizerBase.SimpleResult(result=1881.71060819127, method='bisection', errormsg=None, context_dct=None) full_result [-1.20053301e-10  2.23517418e-07]\n",
      "[PairOptimizer.optimize] curves_t WETH-6Cc2/USDT-1ec7\n",
      "[PairOptimizer.optimize] p_optimal OptimizerBase.SimpleResult(result=1881.7106081912555, method='bisection', errormsg=None, context_dct=None) full_result [-2.91038305e-11  5.21540642e-08]\n",
      "[PairOptimizer.optimize] curves_t WETH-6Cc2/USDT-1ec7\n",
      "[PairOptimizer.optimize] p_optimal OptimizerBase.SimpleResult(result=1881.710608191252, method='bisection', errormsg=None, context_dct=None) full_result [-1.09139364e-11  2.23517418e-08]\n",
      "[PairOptimizer.optimize] curves_t WETH-6Cc2/USDT-1ec7\n",
      "[PairOptimizer.optimize] p_optimal OptimizerBase.SimpleResult(result=1881.7106081912298, method='bisection', errormsg=None, context_dct=None) full_result [ 1.23691279e-10 -2.38418579e-07]\n",
      "[PairOptimizer.optimize] curves_t WETH-6Cc2/USDT-1ec7\n",
      "[PairOptimizer.optimize] p_optimal OptimizerBase.SimpleResult(result=1881.7106081912725, method='bisection', errormsg=None, context_dct=None) full_result [-1.34605216e-10  2.53319740e-07]\n"
     ]
    },
    {
     "data": {
      "text/plain": "  0%|          | 0/6 [00:00<?, ?it/s]",
      "application/vnd.jupyter.widget-view+json": {
       "version_major": 2,
       "version_minor": 0,
       "model_id": "b95f15bef0a4498bbc386e6a802bd001"
      }
     },
     "metadata": {},
     "output_type": "display_data"
    },
    {
     "name": "stdout",
     "output_type": "stream",
     "text": [
      "[PairOptimizer.optimize] curves_t SNX-2a6F/WETH-6Cc2\n",
      "[PairOptimizer.optimize] p_optimal OptimizerBase.SimpleResult(result=0.0010930027501734703, method='bisection', errormsg=None, context_dct=None) full_result [ 8.45163665e-03 -9.23766231e-06]\n",
      "[PairOptimizer.optimize] curves_t SNX-2a6F/WETH-6Cc2\n",
      "[PairOptimizer.optimize] p_optimal OptimizerBase.SimpleResult(result=0.00109300277135908, method='bisection', errormsg=None, context_dct=None) full_result [ 1.19889504e-04 -1.31039656e-07]\n",
      "[PairOptimizer.optimize] curves_t SNX-2a6F/WETH-6Cc2\n",
      "[PairOptimizer.optimize] p_optimal OptimizerBase.SimpleResult(result=0.0010827174934704142, method='bisection', errormsg=None, context_dct=None) full_result [-1.71903921e-05  1.86123383e-08]\n",
      "[PairOptimizer.optimize] curves_t SNX-2a6F/WETH-6Cc2\n",
      "[PairOptimizer.optimize] p_optimal OptimizerBase.SimpleResult(result=0.0010827174789443481, method='bisection', errormsg=None, context_dct=None) full_result [ 2.19765025e-05 -2.37943425e-08]\n",
      "[PairOptimizer.optimize] curves_t SNX-2a6F/WETH-6Cc2\n",
      "[PairOptimizer.optimize] p_optimal OptimizerBase.SimpleResult(result=0.0010940339542683335, method='bisection', errormsg=None, context_dct=None) full_result [ 6.85955281e-04 -7.50458398e-07]\n",
      "[PairOptimizer.optimize] curves_t SNX-2a6F/WETH-6Cc2\n",
      "[PairOptimizer.optimize] p_optimal OptimizerBase.SimpleResult(result=0.0010940339757887759, method='bisection', errormsg=None, context_dct=None) full_result [-2.76098726e-04  3.02061380e-07]\n"
     ]
    },
    {
     "data": {
      "text/plain": "0it [00:00, ?it/s]",
      "application/vnd.jupyter.widget-view+json": {
       "version_major": 2,
       "version_minor": 0,
       "model_id": "5ff766b0df0a4d1cbe8e32a4970cba42"
      }
     },
     "metadata": {},
     "output_type": "display_data"
    },
    {
     "data": {
      "text/plain": "0it [00:00, ?it/s]",
      "application/vnd.jupyter.widget-view+json": {
       "version_major": 2,
       "version_minor": 0,
       "model_id": "6ec94561a1a44c05ad4899c852b270a8"
      }
     },
     "metadata": {},
     "output_type": "display_data"
    },
    {
     "data": {
      "text/plain": "0it [00:00, ?it/s]",
      "application/vnd.jupyter.widget-view+json": {
       "version_major": 2,
       "version_minor": 0,
       "model_id": "4e50626de2a14370ac9f942f9fb5711f"
      }
     },
     "metadata": {},
     "output_type": "display_data"
    },
    {
     "data": {
      "text/plain": "0it [00:00, ?it/s]",
      "application/vnd.jupyter.widget-view+json": {
       "version_major": 2,
       "version_minor": 0,
       "model_id": "6497becd5c9d44229d25ef7b5ac099cf"
      }
     },
     "metadata": {},
     "output_type": "display_data"
    }
   ],
   "source": [
    "arb_finder = bot._get_arb_finder(\"single\")\n",
    "finder = arb_finder(\n",
    "            flashloan_tokens=flashloan_tokens,\n",
    "            CCm=CCm,\n",
    "            mode=\"bothin\",\n",
    "            result=bot.AO_CANDIDATES,\n",
    "            ConfigObj=bot.ConfigObj,\n",
    "        )\n",
    "r = finder.find_arbitrage()\n",
    "multi_carbon_count = 0\n",
    "\n",
    "for arb in r:\n",
    "    (\n",
    "            best_profit,\n",
    "            best_trade_instructions_df,\n",
    "            best_trade_instructions_dic,\n",
    "            best_src_token,\n",
    "            best_trade_instructions,\n",
    "        ) = arb\n",
    "    if len(best_trade_instructions_dic) > 2:\n",
    "        multi_carbon_count += 1\n",
    "\n",
    "assert multi_carbon_count == 0, f\"[TestSingleMode] Expected arbs without multiple Carbon curves, but found {len(multi_carbon_count)}\""
   ]
  }
 ],
 "metadata": {
  "jupytext": {
   "formats": "ipynb,py:light"
  },
  "kernelspec": {
   "display_name": "Python 3",
   "language": "python",
   "name": "python3"
  },
  "language_info": {
   "codemirror_mode": {
    "name": "ipython",
    "version": 3
   },
   "file_extension": ".py",
   "mimetype": "text/x-python",
   "name": "python",
   "nbconvert_exporter": "python",
   "pygments_lexer": "ipython3",
   "version": "3.8.8"
  }
 },
 "nbformat": 4,
 "nbformat_minor": 5
}

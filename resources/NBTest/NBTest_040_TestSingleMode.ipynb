{
 "cells": [
  {
   "cell_type": "code",
   "execution_count": 1,
   "id": "84fa264b",
   "metadata": {
    "ExecuteTime": {
     "end_time": "2023-09-18T18:18:48.736684Z",
     "start_time": "2023-09-18T18:18:48.703103Z"
    }
   },
   "outputs": [
    {
     "name": "stdout",
     "output_type": "stream",
     "text": [
      "ConstantProductCurve v3.2 (15/Sep/2023)\n",
      "CarbonBot v3-b2.2 (20/June/2023)\n",
      "UniswapV2 v0.0.2 (2023-08-27)\n",
      "UniswapV3 v0.0.2 (2023-08-27)\n",
      "SushiswapV2 v0.0.2 (2023-08-27)\n",
      "CarbonV1 v0.0.2 (2023-08-27)\n",
      "BancorV3 v0.0.2 (2023-08-27)\n",
      "imported m, np, pd, plt, os, sys, decimal; defined iseq, raises, require\n",
      "Version = 3-b2.2 [requirements >= 3.0 is met]\n"
     ]
    }
   ],
   "source": [
    "# coding=utf-8\n",
    "\"\"\"\n",
    "This module contains the tests for the exchanges classes\n",
    "\"\"\"\n",
    "from fastlane_bot import Bot, Config\n",
    "from fastlane_bot.bot import CarbonBot\n",
    "from fastlane_bot.tools.cpc import ConstantProductCurve\n",
    "from fastlane_bot.tools.cpc import ConstantProductCurve as CPC\n",
    "from fastlane_bot.events.exchanges import UniswapV2, UniswapV3, SushiswapV2, CarbonV1, BancorV3\n",
    "from fastlane_bot.events.interface import QueryInterface\n",
    "from fastlane_bot.helpers.poolandtokens import PoolAndTokens\n",
    "from fastlane_bot.helpers import TradeInstruction, TxReceiptHandler, TxRouteHandler, TxSubmitHandler, TxHelpers, TxHelper\n",
    "from fastlane_bot.events.managers.manager import Manager\n",
    "from fastlane_bot.events.interface import QueryInterface\n",
    "from joblib import Parallel, delayed\n",
    "import pytest\n",
    "import math\n",
    "import json\n",
    "print(\"{0.__name__} v{0.__VERSION__} ({0.__DATE__})\".format(CPC))\n",
    "print(\"{0.__name__} v{0.__VERSION__} ({0.__DATE__})\".format(Bot))\n",
    "print(\"{0.__name__} v{0.__VERSION__} ({0.__DATE__})\".format(UniswapV2))\n",
    "print(\"{0.__name__} v{0.__VERSION__} ({0.__DATE__})\".format(UniswapV3))\n",
    "print(\"{0.__name__} v{0.__VERSION__} ({0.__DATE__})\".format(SushiswapV2))\n",
    "print(\"{0.__name__} v{0.__VERSION__} ({0.__DATE__})\".format(CarbonV1))\n",
    "print(\"{0.__name__} v{0.__VERSION__} ({0.__DATE__})\".format(BancorV3))\n",
    "from fastlane_bot.testing import *\n",
    "from fastlane_bot.modes import triangle_single_bancor3\n",
    "#plt.style.use('seaborn-dark')\n",
    "plt.rcParams['figure.figsize'] = [12,6]\n",
    "from fastlane_bot import __VERSION__\n",
    "require(\"3.0\", __VERSION__)"
   ]
  },
  {
   "cell_type": "markdown",
   "id": "4c4e2283",
   "metadata": {},
   "source": [
    "# Single Mode [NB038]"
   ]
  },
  {
   "cell_type": "code",
   "execution_count": 2,
   "id": "a51e5ec2",
   "metadata": {
    "ExecuteTime": {
     "end_time": "2023-09-18T18:18:51.415985Z",
     "start_time": "2023-09-18T18:18:48.713252Z"
    }
   },
   "outputs": [
    {
     "name": "stderr",
     "output_type": "stream",
     "text": [
      "2023-09-21 15:32:00,021 [fastlane:INFO] - \n",
      "2023-09-21 15:32:00,021 [fastlane:INFO] - **********************************************\n",
      "2023-09-21 15:32:00,022 [fastlane:INFO] - The logging path is set to: logs/20230921-153200\\bot.log\n",
      "2023-09-21 15:32:00,022 [fastlane:INFO] - **********************************************\n",
      "2023-09-21 15:32:00,023 [fastlane:INFO] - \n",
      "2023-09-21 15:32:03,179 [fastlane:INFO] - Retrieved 169 carbon pairs from contract\n",
      "2023-09-21 15:32:04,969 [fastlane:INFO] - Time taken to add initial pools: 0.08947968482971191\n",
      "2023-09-21 15:32:04,973 [fastlane:INFO] - Initializing the bot...\n",
      "2023-09-21 15:32:05,189 [fastlane:INFO] - Removed 3242 unmapped uniswap_v2/sushi pools. 1897 uniswap_v2/sushi pools remaining\n",
      "2023-09-21 15:32:05,201 [fastlane:INFO] - Unmapped uniswap_v2/sushi pools:\n",
      "2023-09-21 15:32:05,360 [fastlane:INFO] - uniswap_v3: 0\n",
      "2023-09-21 15:32:05,361 [fastlane:INFO] - uniswap_v2: 3242\n",
      "2023-09-21 15:32:05,362 [fastlane:INFO] - sushiswap_v2: 0\n",
      "2023-09-21 15:32:05,364 [fastlane:INFO] - uniswap_v3: 636\n",
      "2023-09-21 15:32:05,365 [fastlane:INFO] - sushiswap_v2: 78\n",
      "2023-09-21 15:32:05,366 [fastlane:INFO] - uniswap_v2: 0\n",
      "2023-09-21 15:32:05,366 [fastlane:INFO] - bancor_v2: 0\n",
      "2023-09-21 15:32:05,367 [fastlane:INFO] - bancor_v3: 34\n",
      "2023-09-21 15:32:05,368 [fastlane:INFO] - carbon_v1: 220\n",
      "2023-09-21 15:32:05,393 [fastlane:INFO] - uniswap_v3_zero_liquidity_pools: 858\n",
      "2023-09-21 15:32:05,394 [fastlane:INFO] - sushiswap_v2_zero_liquidity_pools: 34\n",
      "2023-09-21 15:32:05,395 [fastlane:INFO] - uniswap_v2_zero_liquidity_pools: 0\n",
      "2023-09-21 15:32:05,396 [fastlane:INFO] - bancor_v2_zero_liquidity_pools: 0\n",
      "2023-09-21 15:32:05,396 [fastlane:INFO] - bancor_v3_zero_liquidity_pools: 37\n",
      "2023-09-21 15:32:05,397 [fastlane:INFO] - carbon_v1_zero_liquidity_pools: 0\n",
      "2023-09-21 15:32:05,398 [fastlane:INFO] - Removed 0 unsupported exchanges. 968 pools remaining\n",
      "2023-09-21 15:32:05,399 [fastlane:INFO] - Pools remaining per exchange:\n",
      "2023-09-21 15:32:05,400 [fastlane:INFO] - uniswap_v3: 636\n",
      "2023-09-21 15:32:05,401 [fastlane:INFO] - carbon_v1: 220\n",
      "2023-09-21 15:32:05,402 [fastlane:INFO] - uniswap_v2: 0\n",
      "2023-09-21 15:32:05,402 [fastlane:INFO] - bancor_v3: 34\n",
      "2023-09-21 15:32:05,403 [fastlane:INFO] - sushiswap_v2: 78\n"
     ]
    }
   ],
   "source": [
    "C = cfg = Config.new(config=Config.CONFIG_MAINNET)\n",
    "C.DEFAULT_MIN_PROFIT_BNT = 0.02\n",
    "C.DEFAULT_MIN_PROFIT = 0.02\n",
    "cfg.DEFAULT_MIN_PROFIT_BNT = 0.02\n",
    "cfg.DEFAULT_MIN_PROFIT = 0.02\n",
    "assert (C.NETWORK == C.NETWORK_MAINNET)\n",
    "assert (C.PROVIDER == C.PROVIDER_ALCHEMY)\n",
    "setup_bot = CarbonBot(ConfigObj=C)\n",
    "pools = None\n",
    "with open('fastlane_bot/data/tests/latest_pool_data_testing.json') as f:\n",
    "    pools = json.load(f)\n",
    "pools = [pool for pool in pools]\n",
    "pools[0]\n",
    "static_pools = pools\n",
    "state = pools\n",
    "exchanges = list({ex['exchange_name'] for ex in state})\n",
    "db = QueryInterface(state=state, ConfigObj=C, exchanges=exchanges)\n",
    "setup_bot.db = db\n",
    "\n",
    "static_pool_data_filename = \"static_pool_data\"\n",
    "\n",
    "static_pool_data = pd.read_csv(f\"fastlane_bot/data/{static_pool_data_filename}.csv\", low_memory=False)\n",
    "    \n",
    "uniswap_v2_event_mappings = pd.read_csv(\"fastlane_bot/data/uniswap_v2_event_mappings.csv\", low_memory=False)\n",
    "        \n",
    "tokens = pd.read_csv(\"fastlane_bot/data/tokens.csv\", low_memory=False)\n",
    "        \n",
    "exchanges = \"carbon_v1,bancor_v3,uniswap_v3,uniswap_v2,sushiswap_v2\"\n",
    "\n",
    "exchanges = exchanges.split(\",\")\n",
    "\n",
    "\n",
    "alchemy_max_block_fetch = 20\n",
    "static_pool_data[\"cid\"] = [\n",
    "        cfg.w3.keccak(text=f\"{row['descr']}\").hex()\n",
    "        for index, row in static_pool_data.iterrows()\n",
    "    ]\n",
    "# Filter out pools that are not in the supported exchanges\n",
    "static_pool_data = [\n",
    "    row for index, row in static_pool_data.iterrows()\n",
    "    if row[\"exchange_name\"] in exchanges\n",
    "]\n",
    "\n",
    "static_pool_data = pd.DataFrame(static_pool_data)\n",
    "static_pool_data['exchange_name'].unique()\n",
    "# Initialize data fetch manager\n",
    "mgr = Manager(\n",
    "    web3=cfg.w3,\n",
    "    cfg=cfg,\n",
    "    pool_data=static_pool_data.to_dict(orient=\"records\"),\n",
    "    SUPPORTED_EXCHANGES=exchanges,\n",
    "    alchemy_max_block_fetch=alchemy_max_block_fetch,\n",
    "    uniswap_v2_event_mappings=uniswap_v2_event_mappings,\n",
    "    tokens=tokens.to_dict(orient=\"records\"),\n",
    ")\n",
    "\n",
    "# Add initial pools for each row in the static_pool_data\n",
    "start_time = time.time()\n",
    "Parallel(n_jobs=-1, backend=\"threading\")(\n",
    "    delayed(mgr.add_pool_to_exchange)(row) for row in mgr.pool_data\n",
    ")\n",
    "cfg.logger.info(f\"Time taken to add initial pools: {time.time() - start_time}\")\n",
    "\n",
    "# check if any duplicate cid's exist in the pool data\n",
    "mgr.deduplicate_pool_data()\n",
    "cids = [pool[\"cid\"] for pool in mgr.pool_data]\n",
    "assert len(cids) == len(set(cids)), \"duplicate cid's exist in the pool data\"\n",
    "def init_bot(mgr: Manager) -> CarbonBot:\n",
    "    \"\"\"\n",
    "    Initializes the bot.\n",
    "\n",
    "    Parameters\n",
    "    ----------\n",
    "    mgr : Manager\n",
    "        The manager object.\n",
    "\n",
    "    Returns\n",
    "    -------\n",
    "    CarbonBot\n",
    "        The bot object.\n",
    "    \"\"\"\n",
    "    mgr.cfg.logger.info(\"Initializing the bot...\")\n",
    "    bot = CarbonBot(ConfigObj=mgr.cfg)\n",
    "    bot.db = db\n",
    "    bot.db.mgr = mgr\n",
    "    assert isinstance(\n",
    "        bot.db, QueryInterface\n",
    "    ), \"QueryInterface not initialized correctly\"\n",
    "    return bot\n",
    "bot = init_bot(mgr)\n",
    "# add data cleanup steps from main.py\n",
    "bot.db.handle_token_key_cleanup()\n",
    "bot.db.remove_unmapped_uniswap_v2_pools()\n",
    "bot.db.remove_zero_liquidity_pools()\n",
    "bot.db.remove_unsupported_exchanges()\n",
    "tokens = bot.db.get_tokens()\n",
    "ADDRDEC = {t.key: (t.address, int(t.decimals)) for t in tokens if not math.isnan(t.decimals)}\n",
    "flashloan_tokens = bot.setup_flashloan_tokens(None)\n",
    "CCm = bot.setup_CCm(None)\n",
    "pools = db.get_pool_data_with_tokens()\n",
    "\n",
    "arb_mode = \"single\""
   ]
  },
  {
   "cell_type": "code",
   "execution_count": 3,
   "id": "71b83fef",
   "metadata": {
    "ExecuteTime": {
     "end_time": "2023-09-18T18:18:51.419388Z",
     "start_time": "2023-09-18T18:18:51.417290Z"
    }
   },
   "outputs": [],
   "source": [
    "assert(cfg.DEFAULT_MIN_PROFIT_BNT <= 0.02), f\"[TestSingleMode], DEFAULT_MIN_PROFIT_BNT must be <= 0.02 for this Notebook to run, currently set to {cfg.DEFAULT_MIN_PROFIT_BNT}\"\n",
    "assert(C.DEFAULT_MIN_PROFIT_BNT <= 0.02), f\"[TestSingleMode], DEFAULT_MIN_PROFIT_BNT must be <= 0.02 for this Notebook to run, currently set to {cfg.DEFAULT_MIN_PROFIT_BNT}\""
   ]
  },
  {
   "cell_type": "code",
   "execution_count": null,
   "id": "f729b8dd",
   "metadata": {
    "ExecuteTime": {
     "end_time": "2023-09-18T18:18:51.422311Z",
     "start_time": "2023-09-18T18:18:51.419690Z"
    }
   },
   "outputs": [],
   "source": []
  },
  {
   "cell_type": "markdown",
   "id": "d1c95bad",
   "metadata": {},
   "source": [
    "## Test_arb_mode_class"
   ]
  },
  {
   "cell_type": "code",
   "execution_count": 4,
   "id": "aaaf7423",
   "metadata": {
    "ExecuteTime": {
     "end_time": "2023-09-18T18:18:51.425463Z",
     "start_time": "2023-09-18T18:18:51.421849Z"
    }
   },
   "outputs": [],
   "source": [
    "arb_finder = bot._get_arb_finder(\"single\")\n",
    "assert arb_finder.__name__ == \"FindArbitrageSinglePairwise\", f\"[TestSingleMode] Expected arb_finder class name name = FindArbitrageSinglePairwise, found {arb_finder.__name__}\""
   ]
  },
  {
   "cell_type": "markdown",
   "id": "d19e14ac",
   "metadata": {},
   "source": [
    "## Test_tokens_and_combos"
   ]
  },
  {
   "cell_type": "code",
   "execution_count": 5,
   "id": "b1f40498",
   "metadata": {
    "ExecuteTime": {
     "end_time": "2023-09-18T18:18:51.428260Z",
     "start_time": "2023-09-18T18:18:51.423970Z"
    }
   },
   "outputs": [],
   "source": [
    "arb_finder = bot._get_arb_finder(\"single\")\n",
    "finder2 = arb_finder(\n",
    "            flashloan_tokens=flashloan_tokens,\n",
    "            CCm=CCm,\n",
    "            mode=\"bothin\",\n",
    "            result=bot.AO_TOKENS,\n",
    "            ConfigObj=bot.ConfigObj,\n",
    "        )\n",
    "all_tokens, combos = finder2.find_arbitrage()\n",
    "assert len(all_tokens) == 545, f\"[TestMultiMode] Using wrong dataset, expected 545 tokens, found {len(all_tokens)}\"\n",
    "assert len(combos) == 3264, f\"[TestMultiMode] Using wrong dataset, expected 3264 tokens, found {len(combos)}\""
   ]
  },
  {
   "cell_type": "markdown",
   "id": "e703ba6b",
   "metadata": {},
   "source": [
    "### Test_Single_Arb_Finder_vs_run"
   ]
  },
  {
   "cell_type": "code",
   "execution_count": 6,
   "id": "48e2f5a1",
   "metadata": {
    "ExecuteTime": {
     "end_time": "2023-09-18T18:18:57.580253Z",
     "start_time": "2023-09-18T18:18:51.431388Z"
    }
   },
   "outputs": [
    {
     "data": {
      "application/vnd.jupyter.widget-view+json": {
       "model_id": "2e697a8297ec4334b5a23d3c86ae2a97",
       "version_major": 2,
       "version_minor": 0
      },
      "text/plain": [
       "0it [00:00, ?it/s]"
      ]
     },
     "metadata": {},
     "output_type": "display_data"
    },
    {
     "data": {
      "application/vnd.jupyter.widget-view+json": {
       "model_id": "78b2738732fc447d9faae7a1250c5379",
       "version_major": 2,
       "version_minor": 0
      },
      "text/plain": [
       "  0%|          | 0/2 [00:00<?, ?it/s]"
      ]
     },
     "metadata": {},
     "output_type": "display_data"
    },
    {
     "name": "stdout",
     "output_type": "stream",
     "text": [
      "[PairOptimizer.optimize] curves_t SGT-EcDD/WETH-6Cc2\n",
      "[PairOptimizer.optimize] p_optimal OptimizerBase.SimpleResult(result=0.00022209613284442402, method='bisection', errormsg=None, context_dct=None) full_result [ 4.06289473e-08 -9.00968189e-12]\n",
      "[PairOptimizer.optimize] curves_t SGT-EcDD/WETH-6Cc2\n",
      "[PairOptimizer.optimize] p_optimal OptimizerBase.SimpleResult(result=0.00021922396426222578, method='bisection', errormsg=None, context_dct=None) full_result [ 1.04773790e-09 -2.30926389e-13]\n"
     ]
    },
    {
     "data": {
      "application/vnd.jupyter.widget-view+json": {
       "model_id": "9f99f3cbaee74bd39536e00946d4ceb7",
       "version_major": 2,
       "version_minor": 0
      },
      "text/plain": [
       "  0%|          | 0/4 [00:00<?, ?it/s]"
      ]
     },
     "metadata": {},
     "output_type": "display_data"
    },
    {
     "name": "stdout",
     "output_type": "stream",
     "text": [
      "[PairOptimizer.optimize] curves_t rETH-6393/WETH-6Cc2\n",
      "[PairOptimizer.optimize] p_optimal OptimizerBase.SimpleResult(result=1.076708344504264, method='bisection', errormsg=None, context_dct=None) full_result [-1.25543593e-07 -1.09294720e-03]\n",
      "[PairOptimizer.optimize] curves_t rETH-6393/WETH-6Cc2\n",
      "[PairOptimizer.optimize] p_optimal OptimizerBase.SimpleResult(result=1.0767087670950288, method='bisection', errormsg=None, context_dct=None) full_result [ 2.46334821e-07 -2.65194103e-07]\n",
      "[PairOptimizer.optimize] curves_t rETH-6393/WETH-6Cc2\n",
      "[PairOptimizer.optimize] p_optimal OptimizerBase.SimpleResult(result=1.0767087670955016, method='bisection', errormsg=None, context_dct=None) full_result [-3.30619514e-08  3.53902578e-08]\n",
      "[PairOptimizer.optimize] curves_t rETH-6393/WETH-6Cc2\n",
      "[PairOptimizer.optimize] p_optimal OptimizerBase.SimpleResult(result=1.076708767095204, method='bisection', errormsg=None, context_dct=None) full_result [ 1.42958015e-07 -1.53901055e-07]\n"
     ]
    },
    {
     "data": {
      "application/vnd.jupyter.widget-view+json": {
       "model_id": "a5ccaf6391a54e88b28288b5e2d1c8f8",
       "version_major": 2,
       "version_minor": 0
      },
      "text/plain": [
       "0it [00:00, ?it/s]"
      ]
     },
     "metadata": {},
     "output_type": "display_data"
    },
    {
     "data": {
      "application/vnd.jupyter.widget-view+json": {
       "model_id": "f1c922bcdf1b4252b27c7c2c96559c11",
       "version_major": 2,
       "version_minor": 0
      },
      "text/plain": [
       "  0%|          | 0/10 [00:00<?, ?it/s]"
      ]
     },
     "metadata": {},
     "output_type": "display_data"
    },
    {
     "name": "stdout",
     "output_type": "stream",
     "text": [
      "[PairOptimizer.optimize] curves_t ETH2x_FLI-65BD/WETH-6Cc2\n",
      "[PairOptimizer.optimize] p_optimal OptimizerBase.SimpleResult(result=0.006679129489639779, method='bisection', errormsg=None, context_dct=None) full_result [ 8.99308361e-09 -6.00266503e-11]\n",
      "[PairOptimizer.optimize] curves_t ETH2x_FLI-65BD/WETH-6Cc2\n",
      "[PairOptimizer.optimize] p_optimal OptimizerBase.SimpleResult(result=0.006679129489639276, method='bisection', errormsg=None, context_dct=None) full_result [ 1.72003638e-08 -1.14823706e-10]\n",
      "[PairOptimizer.optimize] curves_t ETH2x_FLI-65BD/WETH-6Cc2\n",
      "[PairOptimizer.optimize] p_optimal OptimizerBase.SimpleResult(result=0.006679129489639779, method='bisection', errormsg=None, context_dct=None) full_result [ 8.99308361e-09 -6.00266503e-11]\n",
      "[PairOptimizer.optimize] curves_t ETH2x_FLI-65BD/WETH-6Cc2\n",
      "[PairOptimizer.optimize] p_optimal OptimizerBase.SimpleResult(result=0.006679129489639276, method='bisection', errormsg=None, context_dct=None) full_result [ 1.72003638e-08 -1.14823706e-10]\n",
      "[PairOptimizer.optimize] curves_t ETH2x_FLI-65BD/WETH-6Cc2\n",
      "[PairOptimizer.optimize] p_optimal OptimizerBase.SimpleResult(result=0.006679129489641052, method='bisection', errormsg=None, context_dct=None) full_result [-1.17870513e-08  7.88986654e-11]\n",
      "[PairOptimizer.optimize] curves_t ETH2x_FLI-65BD/WETH-6Cc2\n",
      "[PairOptimizer.optimize] p_optimal OptimizerBase.SimpleResult(result=0.006679129489638686, method='bisection', errormsg=None, context_dct=None) full_result [ 2.68337317e-08 -1.79170456e-10]\n",
      "[PairOptimizer.optimize] curves_t ETH2x_FLI-65BD/WETH-6Cc2\n",
      "[PairOptimizer.optimize] p_optimal OptimizerBase.SimpleResult(result=0.006679129489638975, method='bisection', errormsg=None, context_dct=None) full_result [ 2.20898073e-08 -1.47565515e-10]\n",
      "[PairOptimizer.optimize] curves_t ETH2x_FLI-65BD/WETH-6Cc2\n",
      "[PairOptimizer.optimize] p_optimal OptimizerBase.SimpleResult(result=0.006679129489640365, method='bisection', errormsg=None, context_dct=None) full_result [-6.11180440e-10  4.09272616e-12]\n",
      "[PairOptimizer.optimize] curves_t ETH2x_FLI-65BD/WETH-6Cc2\n",
      "[PairOptimizer.optimize] p_optimal OptimizerBase.SimpleResult(result=0.006679129489642534, method='bisection', errormsg=None, context_dct=None) full_result [-3.59723344e-08  2.40333975e-10]\n",
      "[PairOptimizer.optimize] curves_t ETH2x_FLI-65BD/WETH-6Cc2\n",
      "[PairOptimizer.optimize] p_optimal OptimizerBase.SimpleResult(result=0.006679129489639819, method='bisection', errormsg=None, context_dct=None) full_result [ 8.32369551e-09 -5.54791768e-11]\n"
     ]
    },
    {
     "data": {
      "application/vnd.jupyter.widget-view+json": {
       "model_id": "17db425003264777ae4f68bce68a1bc7",
       "version_major": 2,
       "version_minor": 0
      },
      "text/plain": [
       "0it [00:00, ?it/s]"
      ]
     },
     "metadata": {},
     "output_type": "display_data"
    },
    {
     "data": {
      "application/vnd.jupyter.widget-view+json": {
       "model_id": "16c0b88e26a24f288aa2866f6c206555",
       "version_major": 2,
       "version_minor": 0
      },
      "text/plain": [
       "0it [00:00, ?it/s]"
      ]
     },
     "metadata": {},
     "output_type": "display_data"
    },
    {
     "data": {
      "application/vnd.jupyter.widget-view+json": {
       "model_id": "656f316a051040a1bfcab1333fdc3210",
       "version_major": 2,
       "version_minor": 0
      },
      "text/plain": [
       "0it [00:00, ?it/s]"
      ]
     },
     "metadata": {},
     "output_type": "display_data"
    },
    {
     "data": {
      "application/vnd.jupyter.widget-view+json": {
       "model_id": "3ea8075a72cb49c3bd946fa6ad30f7b1",
       "version_major": 2,
       "version_minor": 0
      },
      "text/plain": [
       "0it [00:00, ?it/s]"
      ]
     },
     "metadata": {},
     "output_type": "display_data"
    },
    {
     "data": {
      "application/vnd.jupyter.widget-view+json": {
       "model_id": "f11a1593252c4995abf8ae6fbd1071c5",
       "version_major": 2,
       "version_minor": 0
      },
      "text/plain": [
       "0it [00:00, ?it/s]"
      ]
     },
     "metadata": {},
     "output_type": "display_data"
    },
    {
     "data": {
      "application/vnd.jupyter.widget-view+json": {
       "model_id": "ba51eca68aa742d1824b12c1ac7ac37e",
       "version_major": 2,
       "version_minor": 0
      },
      "text/plain": [
       "0it [00:00, ?it/s]"
      ]
     },
     "metadata": {},
     "output_type": "display_data"
    },
    {
     "data": {
      "application/vnd.jupyter.widget-view+json": {
       "model_id": "ad7b2e8f620f4dc1a10e9451818d2900",
       "version_major": 2,
       "version_minor": 0
      },
      "text/plain": [
       "  0%|          | 0/10 [00:00<?, ?it/s]"
      ]
     },
     "metadata": {},
     "output_type": "display_data"
    },
    {
     "name": "stdout",
     "output_type": "stream",
     "text": [
      "[PairOptimizer.optimize] curves_t USDT-1ec7/USDC-eB48\n",
      "[PairOptimizer.optimize] p_optimal OptimizerBase.SimpleResult(result=1.0000207903769063, method='bisection', errormsg=None, context_dct=None) full_result [-0.0647583  0.0647583]\n",
      "[PairOptimizer.optimize] curves_t USDT-1ec7/USDC-eB48\n",
      "[PairOptimizer.optimize] p_optimal OptimizerBase.SimpleResult(result=1.000020790376823, method='bisection', errormsg=None, context_dct=None) full_result [-0.04290771  0.04290771]\n",
      "[PairOptimizer.optimize] curves_t USDT-1ec7/USDC-eB48\n",
      "[PairOptimizer.optimize] p_optimal OptimizerBase.SimpleResult(result=1.0000207903767104, method='bisection', errormsg=None, context_dct=None) full_result [-0.01342773  0.01342773]\n",
      "[PairOptimizer.optimize] curves_t USDT-1ec7/USDC-eB48\n",
      "[PairOptimizer.optimize] p_optimal OptimizerBase.SimpleResult(result=1.0000207916536292, method='bisection', errormsg=None, context_dct=None) full_result [-0.1512453   0.03923975]\n",
      "[PairOptimizer.optimize] curves_t USDT-1ec7/USDC-eB48\n",
      "[PairOptimizer.optimize] p_optimal OptimizerBase.SimpleResult(result=1.0000207903766147, method='bisection', errormsg=None, context_dct=None) full_result [ 0.01165771 -0.01165771]\n",
      "[PairOptimizer.optimize] curves_t USDT-1ec7/USDC-eB48\n",
      "[PairOptimizer.optimize] p_optimal OptimizerBase.SimpleResult(result=0.9999812258712628, method='bisection', errormsg=None, context_dct=None) full_result [-0.0002017  0.0002017]\n",
      "[PairOptimizer.optimize] curves_t USDT-1ec7/USDC-eB48\n",
      "[PairOptimizer.optimize] p_optimal OptimizerBase.SimpleResult(result=0.9999812258711138, method='bisection', errormsg=None, context_dct=None) full_result [ 9.67979431e-05 -9.67979431e-05]\n",
      "[PairOptimizer.optimize] curves_t USDT-1ec7/USDC-eB48\n",
      "[PairOptimizer.optimize] p_optimal OptimizerBase.SimpleResult(result=0.9999812258708753, method='bisection', errormsg=None, context_dct=None) full_result [ 0.00057364 -0.00057364]\n",
      "[PairOptimizer.optimize] curves_t USDT-1ec7/USDC-eB48\n",
      "[PairOptimizer.optimize] p_optimal OptimizerBase.SimpleResult(result=0.9999814030034596, method='bisection', errormsg=None, context_dct=None) full_result [-0.12507511 -0.00053189]\n",
      "[PairOptimizer.optimize] curves_t USDT-1ec7/USDC-eB48\n",
      "[PairOptimizer.optimize] p_optimal OptimizerBase.SimpleResult(result=0.9999812258710422, method='bisection', errormsg=None, context_dct=None) full_result [ 0.00023985 -0.00023985]\n"
     ]
    },
    {
     "data": {
      "application/vnd.jupyter.widget-view+json": {
       "model_id": "a4c64051515e4dac9f0f416f07c27e9d",
       "version_major": 2,
       "version_minor": 0
      },
      "text/plain": [
       "  0%|          | 0/6 [00:00<?, ?it/s]"
      ]
     },
     "metadata": {},
     "output_type": "display_data"
    },
    {
     "name": "stdout",
     "output_type": "stream",
     "text": [
      "[PairOptimizer.optimize] curves_t BNT-FF1C/USDC-eB48\n",
      "[PairOptimizer.optimize] p_optimal OptimizerBase.SimpleResult(result=0.3933388484434187, method='bisection', errormsg=None, context_dct=None) full_result [ 2.20257789e-07 -8.66129994e-08]\n",
      "[PairOptimizer.optimize] curves_t BNT-FF1C/USDC-eB48\n",
      "[PairOptimizer.optimize] p_optimal OptimizerBase.SimpleResult(result=0.3933388484435465, method='bisection', errormsg=None, context_dct=None) full_result [-2.22586095e-07  8.75443220e-08]\n",
      "[PairOptimizer.optimize] curves_t BNT-FF1C/USDC-eB48\n",
      "[PairOptimizer.optimize] p_optimal OptimizerBase.SimpleResult(result=0.3933388484434076, method='bisection', errormsg=None, context_dct=None) full_result [ 2.58907676e-07 -1.01746991e-07]\n",
      "[PairOptimizer.optimize] curves_t BNT-FF1C/USDC-eB48\n",
      "[PairOptimizer.optimize] p_optimal OptimizerBase.SimpleResult(result=0.39333884844358136, method='bisection', errormsg=None, context_dct=None) full_result [-3.43192369e-07  1.35041773e-07]\n",
      "[PairOptimizer.optimize] curves_t BNT-FF1C/USDC-eB48\n",
      "[PairOptimizer.optimize] p_optimal OptimizerBase.SimpleResult(result=0.39333799529472413, method='bisection', errormsg=None, context_dct=None) full_result [-2.53014131e-02 -3.07336450e-08]\n",
      "[PairOptimizer.optimize] curves_t BNT-FF1C/USDC-eB48\n",
      "[PairOptimizer.optimize] p_optimal OptimizerBase.SimpleResult(result=0.3933388484434884, method='bisection', errormsg=None, context_dct=None) full_result [-2.09547579e-08  8.14907253e-09]\n"
     ]
    },
    {
     "data": {
      "application/vnd.jupyter.widget-view+json": {
       "model_id": "d2689c66fbfb414d838fae4a00761bfd",
       "version_major": 2,
       "version_minor": 0
      },
      "text/plain": [
       "  0%|          | 0/54 [00:00<?, ?it/s]"
      ]
     },
     "metadata": {},
     "output_type": "display_data"
    },
    {
     "name": "stdout",
     "output_type": "stream",
     "text": [
      "[PairOptimizer.optimize] curves_t WETH-6Cc2/USDC-eB48\n",
      "[PairOptimizer.optimize] p_optimal OptimizerBase.SimpleResult(result=1888.9922146301515, method='bisection', errormsg=None, context_dct=None) full_result [-4.74392436e-09  8.94069672e-06]\n",
      "[PairOptimizer.optimize] curves_t WETH-6Cc2/USDC-eB48\n",
      "[PairOptimizer.optimize] p_optimal OptimizerBase.SimpleResult(result=1888.992214629935, method='bisection', errormsg=None, context_dct=None) full_result [ 5.41331246e-09 -1.02519989e-05]\n",
      "[PairOptimizer.optimize] curves_t WETH-6Cc2/USDC-eB48\n",
      "[PairOptimizer.optimize] p_optimal OptimizerBase.SimpleResult(result=1888.9922146308772, method='bisection', errormsg=None, context_dct=None) full_result [-3.87663022e-08  7.32541084e-05]\n",
      "[PairOptimizer.optimize] curves_t WETH-6Cc2/USDC-eB48\n",
      "[PairOptimizer.optimize] p_optimal OptimizerBase.SimpleResult(result=1888.9922146296476, method='bisection', errormsg=None, context_dct=None) full_result [ 1.88883860e-08 -3.56435776e-05]\n",
      "[PairOptimizer.optimize] curves_t WETH-6Cc2/USDC-eB48\n",
      "[PairOptimizer.optimize] p_optimal OptimizerBase.SimpleResult(result=1888.992214630152, method='bisection', errormsg=None, context_dct=None) full_result [-4.74392436e-09  8.94069672e-06]\n",
      "[PairOptimizer.optimize] curves_t WETH-6Cc2/USDC-eB48\n",
      "[PairOptimizer.optimize] p_optimal OptimizerBase.SimpleResult(result=1888.9922146300873, method='bisection', errormsg=None, context_dct=None) full_result [-1.71712600e-09  3.27825546e-06]\n",
      "[PairOptimizer.optimize] curves_t WETH-6Cc2/USDC-eB48\n",
      "[PairOptimizer.optimize] p_optimal OptimizerBase.SimpleResult(result=1888.9922146304884, method='bisection', errormsg=None, context_dct=None) full_result [-2.05182005e-08  3.88026237e-05]\n",
      "[PairOptimizer.optimize] curves_t WETH-6Cc2/USDC-eB48\n",
      "[PairOptimizer.optimize] p_optimal OptimizerBase.SimpleResult(result=1888.9922146299593, method='bisection', errormsg=None, context_dct=None) full_result [ 4.30736691e-09 -8.10623169e-06]\n",
      "[PairOptimizer.optimize] curves_t WETH-6Cc2/USDC-eB48\n",
      "[PairOptimizer.optimize] p_optimal OptimizerBase.SimpleResult(result=1888.992214629823, method='bisection', errormsg=None, context_dct=None) full_result [ 1.06811058e-08 -2.01463699e-05]\n",
      "[PairOptimizer.optimize] curves_t WETH-6Cc2/USDC-eB48\n",
      "[PairOptimizer.optimize] p_optimal OptimizerBase.SimpleResult(result=1888.9922146295216, method='bisection', errormsg=None, context_dct=None) full_result [ 2.48255674e-08 -4.68492508e-05]\n",
      "[PairOptimizer.optimize] curves_t WETH-6Cc2/USDC-eB48\n",
      "[PairOptimizer.optimize] p_optimal OptimizerBase.SimpleResult(result=1888.992214630285, method='bisection', errormsg=None, context_dct=None) full_result [-1.09721441e-08  2.07424164e-05]\n",
      "[PairOptimizer.optimize] curves_t WETH-6Cc2/USDC-eB48\n",
      "[PairOptimizer.optimize] p_optimal OptimizerBase.SimpleResult(result=1888.992214630096, method='bisection', errormsg=None, context_dct=None) full_result [-2.12457962e-09  4.05311584e-06]\n",
      "[PairOptimizer.optimize] curves_t WETH-6Cc2/USDC-eB48\n",
      "[PairOptimizer.optimize] p_optimal OptimizerBase.SimpleResult(result=1888.9922146296672, method='bisection', errormsg=None, context_dct=None) full_result [ 1.79861672e-08 -3.39150429e-05]\n",
      "[PairOptimizer.optimize] curves_t WETH-6Cc2/USDC-eB48\n",
      "[PairOptimizer.optimize] p_optimal OptimizerBase.SimpleResult(result=1888.992214630273, method='bisection', errormsg=None, context_dct=None) full_result [-1.04482751e-08  1.97291374e-05]\n",
      "[PairOptimizer.optimize] curves_t WETH-6Cc2/USDC-eB48\n",
      "[PairOptimizer.optimize] p_optimal OptimizerBase.SimpleResult(result=1888.992214630557, method='bisection', errormsg=None, context_dct=None) full_result [-2.37487257e-08  4.48822975e-05]\n",
      "[PairOptimizer.optimize] curves_t WETH-6Cc2/USDC-eB48\n",
      "[PairOptimizer.optimize] p_optimal OptimizerBase.SimpleResult(result=1888.9922146305262, method='bisection', errormsg=None, context_dct=None) full_result [-2.23226380e-08  4.21404839e-05]\n",
      "[PairOptimizer.optimize] curves_t WETH-6Cc2/USDC-eB48\n",
      "[PairOptimizer.optimize] p_optimal OptimizerBase.SimpleResult(result=1888.9922146295794, method='bisection', errormsg=None, context_dct=None) full_result [ 2.21189111e-08 -4.17828560e-05]\n",
      "[PairOptimizer.optimize] curves_t WETH-6Cc2/USDC-eB48\n",
      "[PairOptimizer.optimize] p_optimal OptimizerBase.SimpleResult(result=1888.9922146299941, method='bisection', errormsg=None, context_dct=None) full_result [ 2.67755240e-09 -5.00679016e-06]\n",
      "[PairOptimizer.optimize] curves_t WETH-6Cc2/USDC-eB48\n",
      "[PairOptimizer.optimize] p_optimal OptimizerBase.SimpleResult(result=1888.9922146298563, method='bisection', errormsg=None, context_dct=None) full_result [ 9.10949893e-09 -1.71661377e-05]\n",
      "[PairOptimizer.optimize] curves_t WETH-6Cc2/USDC-eB48\n",
      "[PairOptimizer.optimize] p_optimal OptimizerBase.SimpleResult(result=1888.9922146307526, method='bisection', errormsg=None, context_dct=None) full_result [-3.29164322e-08  6.21676445e-05]\n",
      "[PairOptimizer.optimize] curves_t WETH-6Cc2/USDC-eB48\n",
      "[PairOptimizer.optimize] p_optimal OptimizerBase.SimpleResult(result=1888.9922146292975, method='bisection', errormsg=None, context_dct=None) full_result [ 3.53029463e-08 -6.66975975e-05]\n",
      "[PairOptimizer.optimize] curves_t WETH-6Cc2/USDC-eB48\n",
      "[PairOptimizer.optimize] p_optimal OptimizerBase.SimpleResult(result=1888.9922146298, method='bisection', errormsg=None, context_dct=None) full_result [ 1.17870513e-08 -2.22325325e-05]\n",
      "[PairOptimizer.optimize] curves_t WETH-6Cc2/USDC-eB48\n",
      "[PairOptimizer.optimize] p_optimal OptimizerBase.SimpleResult(result=1888.9922146296672, method='bisection', errormsg=None, context_dct=None) full_result [ 1.79861672e-08 -3.39150429e-05]\n",
      "[PairOptimizer.optimize] curves_t WETH-6Cc2/USDC-eB48\n",
      "[PairOptimizer.optimize] p_optimal OptimizerBase.SimpleResult(result=1888.9922146300303, method='bisection', errormsg=None, context_dct=None) full_result [ 9.60426405e-10 -1.78813934e-06]\n",
      "[PairOptimizer.optimize] curves_t WETH-6Cc2/USDC-eB48\n",
      "[PairOptimizer.optimize] p_optimal OptimizerBase.SimpleResult(result=1888.9922050247133, method='bisection', errormsg=None, context_dct=None) full_result [-2.22406434e-05 -5.32008708e-05]\n",
      "[PairOptimizer.optimize] curves_t WETH-6Cc2/USDC-eB48\n",
      "[PairOptimizer.optimize] p_optimal OptimizerBase.SimpleResult(result=1888.9922146306424, method='bisection', errormsg=None, context_dct=None) full_result [-2.77650543e-08  5.24520874e-05]\n",
      "[PairOptimizer.optimize] curves_t WETH-6Cc2/USDC-eB48\n",
      "[PairOptimizer.optimize] p_optimal OptimizerBase.SimpleResult(result=1888.9922146304034, method='bisection', errormsg=None, context_dct=None) full_result [-1.65309757e-08  3.12328339e-05]\n",
      "[PairOptimizer.optimize] curves_t WETH-6Cc2/USDC-eB48\n",
      "[PairOptimizer.optimize] p_optimal OptimizerBase.SimpleResult(result=1888.9922146305626, method='bisection', errormsg=None, context_dct=None) full_result [-2.40106601e-08  4.54187393e-05]\n",
      "[PairOptimizer.optimize] curves_t WETH-6Cc2/USDC-eB48\n",
      "[PairOptimizer.optimize] p_optimal OptimizerBase.SimpleResult(result=1888.992214630815, method='bisection', errormsg=None, context_dct=None) full_result [-3.58268153e-08  6.77108765e-05]\n",
      "[PairOptimizer.optimize] curves_t WETH-6Cc2/USDC-eB48\n",
      "[PairOptimizer.optimize] p_optimal OptimizerBase.SimpleResult(result=1888.9922146306358, method='bisection', errormsg=None, context_dct=None) full_result [-2.74449121e-08  5.18560410e-05]\n",
      "[PairOptimizer.optimize] curves_t WETH-6Cc2/USDC-eB48\n",
      "[PairOptimizer.optimize] p_optimal OptimizerBase.SimpleResult(result=1888.9922146295798, method='bisection', errormsg=None, context_dct=None) full_result [ 2.20607035e-08 -4.16636467e-05]\n",
      "[PairOptimizer.optimize] curves_t WETH-6Cc2/USDC-eB48\n",
      "[PairOptimizer.optimize] p_optimal OptimizerBase.SimpleResult(result=1888.9922146296767, method='bisection', errormsg=None, context_dct=None) full_result [ 1.75496098e-08 -3.31401825e-05]\n",
      "[PairOptimizer.optimize] curves_t WETH-6Cc2/USDC-eB48\n",
      "[PairOptimizer.optimize] p_optimal OptimizerBase.SimpleResult(result=1888.992214630015, method='bisection', errormsg=None, context_dct=None) full_result [ 1.68802217e-09 -3.15904617e-06]\n",
      "[PairOptimizer.optimize] curves_t WETH-6Cc2/USDC-eB48\n",
      "[PairOptimizer.optimize] p_optimal OptimizerBase.SimpleResult(result=1888.9922146301515, method='bisection', errormsg=None, context_dct=None) full_result [-4.74392436e-09  8.94069672e-06]\n",
      "[PairOptimizer.optimize] curves_t WETH-6Cc2/USDC-eB48\n",
      "[PairOptimizer.optimize] p_optimal OptimizerBase.SimpleResult(result=1888.9922146304305, method='bisection', errormsg=None, context_dct=None) full_result [-1.77824404e-08  3.36170197e-05]\n",
      "[PairOptimizer.optimize] curves_t WETH-6Cc2/USDC-eB48\n",
      "[PairOptimizer.optimize] p_optimal OptimizerBase.SimpleResult(result=1888.9922146295005, method='bisection', errormsg=None, context_dct=None) full_result [ 2.53922954e-08 -4.79870996e-05]\n",
      "[PairOptimizer.optimize] curves_t WETH-6Cc2/USDC-eB48\n",
      "[PairOptimizer.optimize] p_optimal OptimizerBase.SimpleResult(result=1888.9922146295216, method='bisection', errormsg=None, context_dct=None) full_result [ 2.48255674e-08 -4.68492508e-05]\n",
      "[PairOptimizer.optimize] curves_t WETH-6Cc2/USDC-eB48\n",
      "[PairOptimizer.optimize] p_optimal OptimizerBase.SimpleResult(result=1888.9922146296672, method='bisection', errormsg=None, context_dct=None) full_result [ 1.79861672e-08 -3.39150429e-05]\n",
      "[PairOptimizer.optimize] curves_t WETH-6Cc2/USDC-eB48\n",
      "[PairOptimizer.optimize] p_optimal OptimizerBase.SimpleResult(result=1888.9922146306121, method='bisection', errormsg=None, context_dct=None) full_result [-2.63389666e-08  4.97698784e-05]\n",
      "[PairOptimizer.optimize] curves_t WETH-6Cc2/USDC-eB48\n",
      "[PairOptimizer.optimize] p_optimal OptimizerBase.SimpleResult(result=1888.9922146306424, method='bisection', errormsg=None, context_dct=None) full_result [-2.77650543e-08  5.24520874e-05]\n",
      "[PairOptimizer.optimize] curves_t WETH-6Cc2/USDC-eB48\n",
      "[PairOptimizer.optimize] p_optimal OptimizerBase.SimpleResult(result=1888.99221463018, method='bisection', errormsg=None, context_dct=None) full_result [-6.05359674e-09  1.15036964e-05]\n",
      "[PairOptimizer.optimize] curves_t WETH-6Cc2/USDC-eB48\n",
      "[PairOptimizer.optimize] p_optimal OptimizerBase.SimpleResult(result=1888.9922146308115, method='bisection', errormsg=None, context_dct=None) full_result [-3.56812961e-08  6.74128532e-05]\n",
      "[PairOptimizer.optimize] curves_t WETH-6Cc2/USDC-eB48\n",
      "[PairOptimizer.optimize] p_optimal OptimizerBase.SimpleResult(result=1888.9922146302497, method='bisection', errormsg=None, context_dct=None) full_result [-9.31322575e-09  1.76429749e-05]\n",
      "[PairOptimizer.optimize] curves_t WETH-6Cc2/USDC-eB48\n",
      "[PairOptimizer.optimize] p_optimal OptimizerBase.SimpleResult(result=1888.9922146300873, method='bisection', errormsg=None, context_dct=None) full_result [-1.71712600e-09  3.27825546e-06]\n",
      "[PairOptimizer.optimize] curves_t WETH-6Cc2/USDC-eB48\n",
      "[PairOptimizer.optimize] p_optimal OptimizerBase.SimpleResult(result=1888.9922146298663, method='bisection', errormsg=None, context_dct=None) full_result [ 8.64383765e-09 -1.63316727e-05]\n",
      "[PairOptimizer.optimize] curves_t WETH-6Cc2/USDC-eB48\n",
      "[PairOptimizer.optimize] p_optimal OptimizerBase.SimpleResult(result=1888.9922146297727, method='bisection', errormsg=None, context_dct=None) full_result [ 1.30385160e-08 -2.46167183e-05]\n",
      "[PairOptimizer.optimize] curves_t WETH-6Cc2/USDC-eB48\n",
      "[PairOptimizer.optimize] p_optimal OptimizerBase.SimpleResult(result=1888.9922146295776, method='bisection', errormsg=None, context_dct=None) full_result [ 2.21771188e-08 -4.18424606e-05]\n",
      "[PairOptimizer.optimize] curves_t WETH-6Cc2/USDC-eB48\n",
      "[PairOptimizer.optimize] p_optimal OptimizerBase.SimpleResult(result=1888.9922146300873, method='bisection', errormsg=None, context_dct=None) full_result [-1.71712600e-09  3.27825546e-06]\n",
      "[PairOptimizer.optimize] curves_t WETH-6Cc2/USDC-eB48\n",
      "[PairOptimizer.optimize] p_optimal OptimizerBase.SimpleResult(result=1888.9922146295798, method='bisection', errormsg=None, context_dct=None) full_result [ 2.20607035e-08 -4.16636467e-05]\n",
      "[PairOptimizer.optimize] curves_t WETH-6Cc2/USDC-eB48\n",
      "[PairOptimizer.optimize] p_optimal OptimizerBase.SimpleResult(result=1888.9922146299475, method='bisection', errormsg=None, context_dct=None) full_result [ 4.83123586e-09 -9.11951065e-06]\n",
      "[PairOptimizer.optimize] curves_t WETH-6Cc2/USDC-eB48\n",
      "[PairOptimizer.optimize] p_optimal OptimizerBase.SimpleResult(result=1888.9922146300873, method='bisection', errormsg=None, context_dct=None) full_result [-1.71712600e-09  3.27825546e-06]\n",
      "[PairOptimizer.optimize] curves_t WETH-6Cc2/USDC-eB48\n",
      "[PairOptimizer.optimize] p_optimal OptimizerBase.SimpleResult(result=1888.9922146306799, method='bisection', errormsg=None, context_dct=None) full_result [-2.94821803e-08  5.57303429e-05]\n",
      "[PairOptimizer.optimize] curves_t WETH-6Cc2/USDC-eB48\n",
      "[PairOptimizer.optimize] p_optimal OptimizerBase.SimpleResult(result=1888.9922146300873, method='bisection', errormsg=None, context_dct=None) full_result [-1.71712600e-09  3.27825546e-06]\n",
      "[PairOptimizer.optimize] curves_t WETH-6Cc2/USDC-eB48\n",
      "[PairOptimizer.optimize] p_optimal OptimizerBase.SimpleResult(result=1888.992214629823, method='bisection', errormsg=None, context_dct=None) full_result [ 1.06811058e-08 -2.01463699e-05]\n"
     ]
    },
    {
     "data": {
      "application/vnd.jupyter.widget-view+json": {
       "model_id": "10b6316d83fd462eb23065512271fac9",
       "version_major": 2,
       "version_minor": 0
      },
      "text/plain": [
       "  0%|          | 0/16 [00:00<?, ?it/s]"
      ]
     },
     "metadata": {},
     "output_type": "display_data"
    },
    {
     "name": "stdout",
     "output_type": "stream",
     "text": [
      "[PairOptimizer.optimize] curves_t WBTC-C599/USDC-eB48\n",
      "[PairOptimizer.optimize] p_optimal OptimizerBase.SimpleResult(result=30709.171178589037, method='bisection', errormsg=None, context_dct=None) full_result [ 3.52997631e-11 -1.08499080e-06]\n",
      "[PairOptimizer.optimize] curves_t WBTC-C599/USDC-eB48\n",
      "[PairOptimizer.optimize] p_optimal OptimizerBase.SimpleResult(result=30709.17117859955, method='bisection', errormsg=None, context_dct=None) full_result [-1.14255272e-11  3.50177288e-07]\n",
      "[PairOptimizer.optimize] curves_t WBTC-C599/USDC-eB48\n",
      "[PairOptimizer.optimize] p_optimal OptimizerBase.SimpleResult(result=30709.17117859282, method='bisection', errormsg=None, context_dct=None) full_result [ 1.85309545e-11 -5.69969416e-07]\n",
      "[PairOptimizer.optimize] curves_t WBTC-C599/USDC-eB48\n",
      "[PairOptimizer.optimize] p_optimal OptimizerBase.SimpleResult(result=30709.17117859589, method='bisection', errormsg=None, context_dct=None) full_result [ 4.83169060e-12 -1.49011612e-07]\n",
      "[PairOptimizer.optimize] curves_t WBTC-C599/USDC-eB48\n",
      "[PairOptimizer.optimize] p_optimal OptimizerBase.SimpleResult(result=30709.17117859447, method='bisection', errormsg=None, context_dct=None) full_result [ 1.11413101e-11 -3.43658030e-07]\n",
      "[PairOptimizer.optimize] curves_t WBTC-C599/USDC-eB48\n",
      "[PairOptimizer.optimize] p_optimal OptimizerBase.SimpleResult(result=30709.171178601522, method='bisection', errormsg=None, context_dct=None) full_result [-2.01794137e-11  6.19329512e-07]\n",
      "[PairOptimizer.optimize] curves_t WBTC-C599/USDC-eB48\n",
      "[PairOptimizer.optimize] p_optimal OptimizerBase.SimpleResult(result=30708.392805080344, method='bisection', errormsg=None, context_dct=None) full_result [-2.90562225e-05 -3.77116521e-07]\n",
      "[PairOptimizer.optimize] curves_t WBTC-C599/USDC-eB48\n",
      "[PairOptimizer.optimize] p_optimal OptimizerBase.SimpleResult(result=30709.171178605357, method='bisection', errormsg=None, context_dct=None) full_result [-3.72324394e-11  1.14273280e-06]\n",
      "[PairOptimizer.optimize] curves_t WBTC-C599/USDC-eB48\n",
      "[PairOptimizer.optimize] p_optimal OptimizerBase.SimpleResult(result=30681.192450067927, method='bisection', errormsg=None, context_dct=None) full_result [ 5.82986104e-10 -1.79111958e-05]\n",
      "[PairOptimizer.optimize] curves_t WBTC-C599/USDC-eB48\n",
      "[PairOptimizer.optimize] p_optimal OptimizerBase.SimpleResult(result=30681.192450086935, method='bisection', errormsg=None, context_dct=None) full_result [-8.64019967e-10  2.64942646e-05]\n",
      "[PairOptimizer.optimize] curves_t WBTC-C599/USDC-eB48\n",
      "[PairOptimizer.optimize] p_optimal OptimizerBase.SimpleResult(result=30681.192450084593, method='bisection', errormsg=None, context_dct=None) full_result [-6.85759005e-10  2.10106373e-05]\n",
      "[PairOptimizer.optimize] curves_t WBTC-C599/USDC-eB48\n",
      "[PairOptimizer.optimize] p_optimal OptimizerBase.SimpleResult(result=30681.192450076273, method='bisection', errormsg=None, context_dct=None) full_result [-5.27506927e-11  1.57952309e-06]\n",
      "[PairOptimizer.optimize] curves_t WBTC-C599/USDC-eB48\n",
      "[PairOptimizer.optimize] p_optimal OptimizerBase.SimpleResult(result=30681.19245007934, method='bisection', errormsg=None, context_dct=None) full_result [-2.85581336e-10  8.73208046e-06]\n",
      "[PairOptimizer.optimize] curves_t WBTC-C599/USDC-eB48\n",
      "[PairOptimizer.optimize] p_optimal OptimizerBase.SimpleResult(result=30681.192450081726, method='bisection', errormsg=None, context_dct=None) full_result [-4.67480277e-10  1.43349171e-05]\n",
      "[PairOptimizer.optimize] curves_t WBTC-C599/USDC-eB48\n",
      "[PairOptimizer.optimize] p_optimal OptimizerBase.SimpleResult(result=30681.149356572678, method='bisection', errormsg=None, context_dct=None) full_result [-2.60230975e-05 -4.86961289e-06]\n",
      "[PairOptimizer.optimize] curves_t WBTC-C599/USDC-eB48\n",
      "[PairOptimizer.optimize] p_optimal OptimizerBase.SimpleResult(result=30681.192450076527, method='bisection', errormsg=None, context_dct=None) full_result [-7.18500814e-11  2.17556953e-06]\n"
     ]
    },
    {
     "data": {
      "application/vnd.jupyter.widget-view+json": {
       "model_id": "10bd4a9007ec4cb98d5f279620f77890",
       "version_major": 2,
       "version_minor": 0
      },
      "text/plain": [
       "  0%|          | 0/4 [00:00<?, ?it/s]"
      ]
     },
     "metadata": {},
     "output_type": "display_data"
    },
    {
     "name": "stdout",
     "output_type": "stream",
     "text": [
      "[PairOptimizer.optimize] curves_t DAI-1d0F/USDC-eB48\n",
      "[PairOptimizer.optimize] p_optimal OptimizerBase.SimpleResult(result=1.0003813756302735, method='bisection', errormsg=None, context_dct=None) full_result [ 0.00042725 -0.00042725]\n",
      "[PairOptimizer.optimize] curves_t DAI-1d0F/USDC-eB48\n",
      "[PairOptimizer.optimize] p_optimal OptimizerBase.SimpleResult(result=1.000381375630044, method='bisection', errormsg=None, context_dct=None) full_result [ 0.00753784 -0.00754547]\n",
      "[PairOptimizer.optimize] curves_t DAI-1d0F/USDC-eB48\n",
      "[PairOptimizer.optimize] p_optimal OptimizerBase.SimpleResult(result=0.999979963573878, method='bisection', errormsg=None, context_dct=None) full_result [ 0.02416992 -0.02410889]\n",
      "[PairOptimizer.optimize] curves_t DAI-1d0F/USDC-eB48\n",
      "[PairOptimizer.optimize] p_optimal OptimizerBase.SimpleResult(result=0.999979963573925, method='bisection', errormsg=None, context_dct=None) full_result [ 0.01159668 -0.01153564]\n"
     ]
    },
    {
     "data": {
      "application/vnd.jupyter.widget-view+json": {
       "model_id": "8d3acfc3d8184fc9bd499620c42807a5",
       "version_major": 2,
       "version_minor": 0
      },
      "text/plain": [
       "0it [00:00, ?it/s]"
      ]
     },
     "metadata": {},
     "output_type": "display_data"
    },
    {
     "data": {
      "application/vnd.jupyter.widget-view+json": {
       "model_id": "a113dd8b9ff5470d8893ba504b3ab835",
       "version_major": 2,
       "version_minor": 0
      },
      "text/plain": [
       "  0%|          | 0/39 [00:00<?, ?it/s]"
      ]
     },
     "metadata": {},
     "output_type": "display_data"
    },
    {
     "name": "stdout",
     "output_type": "stream",
     "text": [
      "[PairOptimizer.optimize] curves_t WETH-6Cc2/USDT-1ec7\n",
      "[PairOptimizer.optimize] p_optimal OptimizerBase.SimpleResult(result=1890.3902599636826, method='bisection', errormsg=None, context_dct=None) full_result [ 3.43752617e-08 -6.91041350e-05]\n",
      "[PairOptimizer.optimize] curves_t WETH-6Cc2/USDT-1ec7\n",
      "[PairOptimizer.optimize] p_optimal OptimizerBase.SimpleResult(result=1890.3902598796512, method='bisection', errormsg=None, context_dct=None) full_result [ 4.23751771e-08 -8.02278519e-05]\n",
      "[PairOptimizer.optimize] curves_t WETH-6Cc2/USDT-1ec7\n",
      "[PairOptimizer.optimize] p_optimal OptimizerBase.SimpleResult(result=1890.3902598804298, method='bisection', errormsg=None, context_dct=None) full_result [-2.00816430e-08  3.79085541e-05]\n",
      "[PairOptimizer.optimize] curves_t WETH-6Cc2/USDT-1ec7\n",
      "[PairOptimizer.optimize] p_optimal OptimizerBase.SimpleResult(result=1890.3902598796158, method='bisection', errormsg=None, context_dct=None) full_result [ 4.52273525e-08 -8.54730606e-05]\n",
      "[PairOptimizer.optimize] curves_t WETH-6Cc2/USDT-1ec7\n",
      "[PairOptimizer.optimize] p_optimal OptimizerBase.SimpleResult(result=1890.3902598801792, method='bisection', errormsg=None, context_dct=None) full_result [0. 0.]\n",
      "[PairOptimizer.optimize] curves_t WETH-6Cc2/USDT-1ec7\n",
      "[PairOptimizer.optimize] p_optimal OptimizerBase.SimpleResult(result=1890.3902598800487, method='bisection', errormsg=None, context_dct=None) full_result [ 1.05355866e-08 -1.99079514e-05]\n",
      "[PairOptimizer.optimize] curves_t WETH-6Cc2/USDT-1ec7\n",
      "[PairOptimizer.optimize] p_optimal OptimizerBase.SimpleResult(result=1890.3902598806571, method='bisection', errormsg=None, context_dct=None) full_result [-3.83006409e-08  7.23600388e-05]\n",
      "[PairOptimizer.optimize] curves_t WETH-6Cc2/USDT-1ec7\n",
      "[PairOptimizer.optimize] p_optimal OptimizerBase.SimpleResult(result=1890.3902702016617, method='bisection', errormsg=None, context_dct=None) full_result [-1.49252719e-05  3.80454148e-05]\n",
      "[PairOptimizer.optimize] curves_t WETH-6Cc2/USDT-1ec7\n",
      "[PairOptimizer.optimize] p_optimal OptimizerBase.SimpleResult(result=1890.390259880636, method='bisection', errormsg=None, context_dct=None) full_result [-3.66126187e-08  6.92605972e-05]\n",
      "[PairOptimizer.optimize] curves_t WETH-6Cc2/USDT-1ec7\n",
      "[PairOptimizer.optimize] p_optimal OptimizerBase.SimpleResult(result=1890.3902598796271, method='bisection', errormsg=None, context_dct=None) full_result [ 4.43542376e-08 -8.38041306e-05]\n",
      "[PairOptimizer.optimize] curves_t WETH-6Cc2/USDT-1ec7\n",
      "[PairOptimizer.optimize] p_optimal OptimizerBase.SimpleResult(result=1890.3902598805803, method='bisection', errormsg=None, context_dct=None) full_result [-3.21888365e-08  6.07967377e-05]\n",
      "[PairOptimizer.optimize] curves_t WETH-6Cc2/USDT-1ec7\n",
      "[PairOptimizer.optimize] p_optimal OptimizerBase.SimpleResult(result=1890.3902598803247, method='bisection', errormsg=None, context_dct=None) full_result [-1.16415322e-08  2.19345093e-05]\n",
      "[PairOptimizer.optimize] curves_t WETH-6Cc2/USDT-1ec7\n",
      "[PairOptimizer.optimize] p_optimal OptimizerBase.SimpleResult(result=1890.3902598804148, method='bisection', errormsg=None, context_dct=None) full_result [-1.88592821e-08  3.56435776e-05]\n",
      "[PairOptimizer.optimize] curves_t WETH-6Cc2/USDT-1ec7\n",
      "[PairOptimizer.optimize] p_optimal OptimizerBase.SimpleResult(result=1889.145889168184, method='bisection', errormsg=None, context_dct=None) full_result [-1.00080797e-08  6.41494989e-06]\n",
      "[PairOptimizer.optimize] curves_t WETH-6Cc2/USDT-1ec7\n",
      "[PairOptimizer.optimize] p_optimal OptimizerBase.SimpleResult(result=1889.145888876507, method='bisection', errormsg=None, context_dct=None) full_result [-1.26019586e-08  2.38120556e-05]\n",
      "[PairOptimizer.optimize] curves_t WETH-6Cc2/USDT-1ec7\n",
      "[PairOptimizer.optimize] p_optimal OptimizerBase.SimpleResult(result=1889.1458888757393, method='bisection', errormsg=None, context_dct=None) full_result [ 5.09317033e-09 -9.62615013e-06]\n",
      "[PairOptimizer.optimize] curves_t WETH-6Cc2/USDT-1ec7\n",
      "[PairOptimizer.optimize] p_optimal OptimizerBase.SimpleResult(result=1889.1458888758934, method='bisection', errormsg=None, context_dct=None) full_result [ 1.54250301e-09 -2.92062759e-06]\n",
      "[PairOptimizer.optimize] curves_t WETH-6Cc2/USDT-1ec7\n",
      "[PairOptimizer.optimize] p_optimal OptimizerBase.SimpleResult(result=1889.1458888762731, method='bisection', errormsg=None, context_dct=None) full_result [-7.21774995e-09  1.36494637e-05]\n",
      "[PairOptimizer.optimize] curves_t WETH-6Cc2/USDT-1ec7\n",
      "[PairOptimizer.optimize] p_optimal OptimizerBase.SimpleResult(result=1889.1458888758175, method='bisection', errormsg=None, context_dct=None) full_result [ 3.30328476e-09 -6.22868538e-06]\n",
      "[PairOptimizer.optimize] curves_t WETH-6Cc2/USDT-1ec7\n",
      "[PairOptimizer.optimize] p_optimal OptimizerBase.SimpleResult(result=1889.145888875436, method='bisection', errormsg=None, context_dct=None) full_result [ 1.21071935e-08 -2.28583813e-05]\n",
      "[PairOptimizer.optimize] curves_t WETH-6Cc2/USDT-1ec7\n",
      "[PairOptimizer.optimize] p_optimal OptimizerBase.SimpleResult(result=1889.1459247812654, method='bisection', errormsg=None, context_dct=None) full_result [-1.54391292e-05 -2.19168578e-05]\n",
      "[PairOptimizer.optimize] curves_t WETH-6Cc2/USDT-1ec7\n",
      "[PairOptimizer.optimize] p_optimal OptimizerBase.SimpleResult(result=1889.1458888762695, method='bisection', errormsg=None, context_dct=None) full_result [-7.13043846e-09  1.34706497e-05]\n",
      "[PairOptimizer.optimize] curves_t WETH-6Cc2/USDT-1ec7\n",
      "[PairOptimizer.optimize] p_optimal OptimizerBase.SimpleResult(result=1889.1458888752281, method='bisection', errormsg=None, context_dct=None) full_result [ 1.69093255e-08 -3.19480896e-05]\n",
      "[PairOptimizer.optimize] curves_t WETH-6Cc2/USDT-1ec7\n",
      "[PairOptimizer.optimize] p_optimal OptimizerBase.SimpleResult(result=1889.1458888757306, method='bisection', errormsg=None, context_dct=None) full_result [ 5.29689714e-09 -1.00135803e-05]\n",
      "[PairOptimizer.optimize] curves_t WETH-6Cc2/USDT-1ec7\n",
      "[PairOptimizer.optimize] p_optimal OptimizerBase.SimpleResult(result=1889.1458888758277, method='bisection', errormsg=None, context_dct=None) full_result [ 3.05590220e-09 -5.78165054e-06]\n",
      "[PairOptimizer.optimize] curves_t WETH-6Cc2/USDT-1ec7\n",
      "[PairOptimizer.optimize] p_optimal OptimizerBase.SimpleResult(result=1889.1458888764319, method='bisection', errormsg=None, context_dct=None) full_result [-1.08848326e-08  2.05636024e-05]\n",
      "[PairOptimizer.optimize] curves_t WETH-6Cc2/USDT-1ec7\n",
      "[PairOptimizer.optimize] p_optimal OptimizerBase.SimpleResult(result=1881.710609293142, method='bisection', errormsg=None, context_dct=None) full_result [-3.60378181e-08  5.24520874e-06]\n",
      "[PairOptimizer.optimize] curves_t WETH-6Cc2/USDT-1ec7\n",
      "[PairOptimizer.optimize] p_optimal OptimizerBase.SimpleResult(result=1881.710608190668, method='bisection', errormsg=None, context_dct=None) full_result [ 3.57977115e-09 -6.74277544e-06]\n",
      "[PairOptimizer.optimize] curves_t WETH-6Cc2/USDT-1ec7\n",
      "[PairOptimizer.optimize] p_optimal OptimizerBase.SimpleResult(result=1881.7106081911547, method='bisection', errormsg=None, context_dct=None) full_result [ 5.85714588e-10 -1.11013651e-06]\n",
      "[PairOptimizer.optimize] curves_t WETH-6Cc2/USDT-1ec7\n",
      "[PairOptimizer.optimize] p_optimal OptimizerBase.SimpleResult(result=1881.7106081913296, method='bisection', errormsg=None, context_dct=None) full_result [-4.87489160e-10  9.16421413e-07]\n",
      "[PairOptimizer.optimize] curves_t WETH-6Cc2/USDT-1ec7\n",
      "[PairOptimizer.optimize] p_optimal OptimizerBase.SimpleResult(result=1881.710608190739, method='bisection', errormsg=None, context_dct=None) full_result [ 3.13957571e-09 -5.91576099e-06]\n",
      "[PairOptimizer.optimize] curves_t WETH-6Cc2/USDT-1ec7\n",
      "[PairOptimizer.optimize] p_optimal OptimizerBase.SimpleResult(result=1881.7106081908473, method='bisection', errormsg=None, context_dct=None) full_result [ 2.47746357e-09 -4.66406345e-06]\n",
      "[PairOptimizer.optimize] curves_t WETH-6Cc2/USDT-1ec7\n",
      "[PairOptimizer.optimize] p_optimal OptimizerBase.SimpleResult(result=1881.7106081914208, method='bisection', errormsg=None, context_dct=None) full_result [-1.04773790e-09  1.97440386e-06]\n",
      "[PairOptimizer.optimize] curves_t WETH-6Cc2/USDT-1ec7\n",
      "[PairOptimizer.optimize] p_optimal OptimizerBase.SimpleResult(result=1881.7107435941489, method='bisection', errormsg=None, context_dct=None) full_result [-1.87256392e-05 -1.61162461e-07]\n",
      "[PairOptimizer.optimize] curves_t WETH-6Cc2/USDT-1ec7\n",
      "[PairOptimizer.optimize] p_optimal OptimizerBase.SimpleResult(result=1881.7106081909023, method='bisection', errormsg=None, context_dct=None) full_result [ 2.13549356e-09 -4.02331352e-06]\n",
      "[PairOptimizer.optimize] curves_t WETH-6Cc2/USDT-1ec7\n",
      "[PairOptimizer.optimize] p_optimal OptimizerBase.SimpleResult(result=1881.7106081915688, method='bisection', errormsg=None, context_dct=None) full_result [-1.95723260e-09  3.68058681e-06]\n",
      "[PairOptimizer.optimize] curves_t WETH-6Cc2/USDT-1ec7\n",
      "[PairOptimizer.optimize] p_optimal OptimizerBase.SimpleResult(result=1881.7106081915645, method='bisection', errormsg=None, context_dct=None) full_result [-1.93176675e-09  3.63588333e-06]\n",
      "[PairOptimizer.optimize] curves_t WETH-6Cc2/USDT-1ec7\n",
      "[PairOptimizer.optimize] p_optimal OptimizerBase.SimpleResult(result=1881.7106081915751, method='bisection', errormsg=None, context_dct=None) full_result [-1.99725037e-09  3.75509262e-06]\n",
      "[PairOptimizer.optimize] curves_t WETH-6Cc2/USDT-1ec7\n",
      "[PairOptimizer.optimize] p_optimal OptimizerBase.SimpleResult(result=1881.7106081909228, method='bisection', errormsg=None, context_dct=None) full_result [ 2.01180228e-09 -3.78489494e-06]\n"
     ]
    },
    {
     "data": {
      "application/vnd.jupyter.widget-view+json": {
       "model_id": "e12aa862e8cb49f9a3a5692215fe7f99",
       "version_major": 2,
       "version_minor": 0
      },
      "text/plain": [
       "  0%|          | 0/1 [00:00<?, ?it/s]"
      ]
     },
     "metadata": {},
     "output_type": "display_data"
    },
    {
     "name": "stdout",
     "output_type": "stream",
     "text": [
      "[PairOptimizer.optimize] curves_t WBTC-C599/USDT-1ec7\n",
      "[PairOptimizer.optimize] p_optimal OptimizerBase.SimpleResult(result=30694.613949047027, method='bisection', errormsg=None, context_dct=None) full_result [-6.27641507e-07 -9.29663398e-06]\n"
     ]
    },
    {
     "data": {
      "application/vnd.jupyter.widget-view+json": {
       "model_id": "237882924463411a8d5cdb097d12b99c",
       "version_major": 2,
       "version_minor": 0
      },
      "text/plain": [
       "  0%|          | 0/10 [00:00<?, ?it/s]"
      ]
     },
     "metadata": {},
     "output_type": "display_data"
    },
    {
     "name": "stdout",
     "output_type": "stream",
     "text": [
      "[PairOptimizer.optimize] curves_t USDT-1ec7/USDC-eB48\n",
      "[PairOptimizer.optimize] p_optimal OptimizerBase.SimpleResult(result=1.0000207903769063, method='bisection', errormsg=None, context_dct=None) full_result [-0.0647583  0.0647583]\n",
      "[PairOptimizer.optimize] curves_t USDT-1ec7/USDC-eB48\n",
      "[PairOptimizer.optimize] p_optimal OptimizerBase.SimpleResult(result=1.000020790376823, method='bisection', errormsg=None, context_dct=None) full_result [-0.04290771  0.04290771]\n",
      "[PairOptimizer.optimize] curves_t USDT-1ec7/USDC-eB48\n",
      "[PairOptimizer.optimize] p_optimal OptimizerBase.SimpleResult(result=1.0000207903767104, method='bisection', errormsg=None, context_dct=None) full_result [-0.01342773  0.01342773]\n",
      "[PairOptimizer.optimize] curves_t USDT-1ec7/USDC-eB48\n",
      "[PairOptimizer.optimize] p_optimal OptimizerBase.SimpleResult(result=1.0000207916530273, method='bisection', errormsg=None, context_dct=None) full_result [ 0.00653088 -0.11853643]\n",
      "[PairOptimizer.optimize] curves_t USDT-1ec7/USDC-eB48\n",
      "[PairOptimizer.optimize] p_optimal OptimizerBase.SimpleResult(result=1.0000207903766147, method='bisection', errormsg=None, context_dct=None) full_result [ 0.01165771 -0.01165771]\n",
      "[PairOptimizer.optimize] curves_t USDT-1ec7/USDC-eB48\n",
      "[PairOptimizer.optimize] p_optimal OptimizerBase.SimpleResult(result=0.9999812258712628, method='bisection', errormsg=None, context_dct=None) full_result [-0.0002017  0.0002017]\n",
      "[PairOptimizer.optimize] curves_t USDT-1ec7/USDC-eB48\n",
      "[PairOptimizer.optimize] p_optimal OptimizerBase.SimpleResult(result=0.9999812258711138, method='bisection', errormsg=None, context_dct=None) full_result [ 9.67979431e-05 -9.67979431e-05]\n",
      "[PairOptimizer.optimize] curves_t USDT-1ec7/USDC-eB48\n",
      "[PairOptimizer.optimize] p_optimal OptimizerBase.SimpleResult(result=0.9999812258708753, method='bisection', errormsg=None, context_dct=None) full_result [ 0.00057364 -0.00057364]\n",
      "[PairOptimizer.optimize] curves_t USDT-1ec7/USDC-eB48\n",
      "[PairOptimizer.optimize] p_optimal OptimizerBase.SimpleResult(result=0.9999814029407567, method='bisection', errormsg=None, context_dct=None) full_result [ 0.0004016  -0.12600621]\n",
      "[PairOptimizer.optimize] curves_t USDT-1ec7/USDC-eB48\n",
      "[PairOptimizer.optimize] p_optimal OptimizerBase.SimpleResult(result=0.9999812258710422, method='bisection', errormsg=None, context_dct=None) full_result [ 0.00023985 -0.00023985]\n"
     ]
    },
    {
     "data": {
      "application/vnd.jupyter.widget-view+json": {
       "model_id": "4ebde39145664a0082292082567a0ee5",
       "version_major": 2,
       "version_minor": 0
      },
      "text/plain": [
       "  0%|          | 0/4 [00:00<?, ?it/s]"
      ]
     },
     "metadata": {},
     "output_type": "display_data"
    },
    {
     "name": "stdout",
     "output_type": "stream",
     "text": [
      "[PairOptimizer.optimize] curves_t DAI-1d0F/USDT-1ec7\n",
      "[PairOptimizer.optimize] p_optimal OptimizerBase.SimpleResult(result=0.9998810288348383, method='bisection', errormsg=None, context_dct=None) full_result [-0.00010109  0.00010061]\n",
      "[PairOptimizer.optimize] curves_t DAI-1d0F/USDT-1ec7\n",
      "[PairOptimizer.optimize] p_optimal OptimizerBase.SimpleResult(result=0.9998810288345285, method='bisection', errormsg=None, context_dct=None) full_result [ 0.00048351 -0.00048351]\n",
      "[PairOptimizer.optimize] curves_t DAI-1d0F/USDT-1ec7\n",
      "[PairOptimizer.optimize] p_optimal OptimizerBase.SimpleResult(result=1.0000277727934523, method='bisection', errormsg=None, context_dct=None) full_result [-4.46438789e-05  4.47034836e-05]\n",
      "[PairOptimizer.optimize] curves_t DAI-1d0F/USDT-1ec7\n",
      "[PairOptimizer.optimize] p_optimal OptimizerBase.SimpleResult(result=1.000027772793279, method='bisection', errormsg=None, context_dct=None) full_result [-1.69277191e-05  1.69873238e-05]\n"
     ]
    },
    {
     "data": {
      "application/vnd.jupyter.widget-view+json": {
       "model_id": "a34f373e0178447bbd713ee7d51de86c",
       "version_major": 2,
       "version_minor": 0
      },
      "text/plain": [
       "0it [00:00, ?it/s]"
      ]
     },
     "metadata": {},
     "output_type": "display_data"
    },
    {
     "data": {
      "application/vnd.jupyter.widget-view+json": {
       "model_id": "123a06ab01ad478f9112e171d7f53276",
       "version_major": 2,
       "version_minor": 0
      },
      "text/plain": [
       "0it [00:00, ?it/s]"
      ]
     },
     "metadata": {},
     "output_type": "display_data"
    },
    {
     "data": {
      "application/vnd.jupyter.widget-view+json": {
       "model_id": "55448c0710384fbc9df09137dcc5b2fb",
       "version_major": 2,
       "version_minor": 0
      },
      "text/plain": [
       "  0%|          | 0/14 [00:00<?, ?it/s]"
      ]
     },
     "metadata": {},
     "output_type": "display_data"
    },
    {
     "name": "stdout",
     "output_type": "stream",
     "text": [
      "[PairOptimizer.optimize] curves_t vBNT-7f94/BNT-FF1C\n",
      "[PairOptimizer.optimize] p_optimal OptimizerBase.SimpleResult(result=0.4979713671854289, method='bisection', errormsg=None, context_dct=None) full_result [-6.28642738e-09  3.25962901e-09]\n",
      "[PairOptimizer.optimize] curves_t vBNT-7f94/BNT-FF1C\n",
      "[PairOptimizer.optimize] p_optimal OptimizerBase.SimpleResult(result=0.497971367185545, method='bisection', errormsg=None, context_dct=None) full_result [-2.33994797e-07  1.16648152e-07]\n",
      "[PairOptimizer.optimize] curves_t vBNT-7f94/BNT-FF1C\n",
      "[PairOptimizer.optimize] p_optimal OptimizerBase.SimpleResult(result=0.49797136718544244, method='bisection', errormsg=None, context_dct=None) full_result [-3.28291208e-08  1.65309757e-08]\n",
      "[PairOptimizer.optimize] curves_t vBNT-7f94/BNT-FF1C\n",
      "[PairOptimizer.optimize] p_optimal OptimizerBase.SimpleResult(result=0.4979713671855498, method='bisection', errormsg=None, context_dct=None) full_result [-2.43540853e-07  1.21421181e-07]\n",
      "[PairOptimizer.optimize] curves_t vBNT-7f94/BNT-FF1C\n",
      "[PairOptimizer.optimize] p_optimal OptimizerBase.SimpleResult(result=0.49797136718538826, method='bisection', errormsg=None, context_dct=None) full_result [ 7.33416528e-08 -3.64379957e-08]\n",
      "[PairOptimizer.optimize] curves_t vBNT-7f94/BNT-FF1C\n",
      "[PairOptimizer.optimize] p_optimal OptimizerBase.SimpleResult(result=0.4979713671852612, method='bisection', errormsg=None, context_dct=None) full_result [ 3.22936103e-07 -1.60653144e-07]\n",
      "[PairOptimizer.optimize] curves_t vBNT-7f94/BNT-FF1C\n",
      "[PairOptimizer.optimize] p_optimal OptimizerBase.SimpleResult(result=0.4979713671853365, method='bisection', errormsg=None, context_dct=None) full_result [ 1.75088644e-07 -8.70786607e-08]\n",
      "[PairOptimizer.optimize] curves_t vBNT-7f94/BNT-FF1C\n",
      "[PairOptimizer.optimize] p_optimal OptimizerBase.SimpleResult(result=0.4979713671853946, method='bisection', errormsg=None, context_dct=None) full_result [ 6.12344593e-08 -3.02679837e-08]\n",
      "[PairOptimizer.optimize] curves_t vBNT-7f94/BNT-FF1C\n",
      "[PairOptimizer.optimize] p_optimal OptimizerBase.SimpleResult(result=0.4979713671855437, method='bisection', errormsg=None, context_dct=None) full_result [-2.31200829e-07  1.15367584e-07]\n",
      "[PairOptimizer.optimize] curves_t vBNT-7f94/BNT-FF1C\n",
      "[PairOptimizer.optimize] p_optimal OptimizerBase.SimpleResult(result=0.4979713671856121, method='bisection', errormsg=None, context_dct=None) full_result [-3.65544111e-07  1.82073563e-07]\n",
      "[PairOptimizer.optimize] curves_t vBNT-7f94/BNT-FF1C\n",
      "[PairOptimizer.optimize] p_optimal OptimizerBase.SimpleResult(result=0.4979713671853978, method='bisection', errormsg=None, context_dct=None) full_result [ 5.49480319e-08 -2.72411853e-08]\n",
      "[PairOptimizer.optimize] curves_t vBNT-7f94/BNT-FF1C\n",
      "[PairOptimizer.optimize] p_optimal OptimizerBase.SimpleResult(result=0.49797136718555435, method='bisection', errormsg=None, context_dct=None) full_result [-2.52388418e-07  1.25844963e-07]\n",
      "[PairOptimizer.optimize] curves_t vBNT-7f94/BNT-FF1C\n",
      "[PairOptimizer.optimize] p_optimal OptimizerBase.SimpleResult(result=0.4979713671851882, method='bisection', errormsg=None, context_dct=None) full_result [ 4.66359779e-07 -2.32015736e-07]\n",
      "[PairOptimizer.optimize] curves_t vBNT-7f94/BNT-FF1C\n",
      "[PairOptimizer.optimize] p_optimal OptimizerBase.SimpleResult(result=0.4977218346705689, method='bisection', errormsg=None, context_dct=None) full_result [ 3.20274921e-07 -2.42115359e+01]\n"
     ]
    },
    {
     "data": {
      "application/vnd.jupyter.widget-view+json": {
       "model_id": "1f41294fc7d74d23beaf02dea3e2fee4",
       "version_major": 2,
       "version_minor": 0
      },
      "text/plain": [
       "0it [00:00, ?it/s]"
      ]
     },
     "metadata": {},
     "output_type": "display_data"
    },
    {
     "data": {
      "application/vnd.jupyter.widget-view+json": {
       "model_id": "4ee088d931f1405eb5e6c499d03b998b",
       "version_major": 2,
       "version_minor": 0
      },
      "text/plain": [
       "0it [00:00, ?it/s]"
      ]
     },
     "metadata": {},
     "output_type": "display_data"
    },
    {
     "data": {
      "application/vnd.jupyter.widget-view+json": {
       "model_id": "a1b7df7abfce46b1b4ba7e4c359c49eb",
       "version_major": 2,
       "version_minor": 0
      },
      "text/plain": [
       "0it [00:00, ?it/s]"
      ]
     },
     "metadata": {},
     "output_type": "display_data"
    },
    {
     "data": {
      "application/vnd.jupyter.widget-view+json": {
       "model_id": "162bf67d915f40668544c0d0e3db4a72",
       "version_major": 2,
       "version_minor": 0
      },
      "text/plain": [
       "0it [00:00, ?it/s]"
      ]
     },
     "metadata": {},
     "output_type": "display_data"
    },
    {
     "data": {
      "application/vnd.jupyter.widget-view+json": {
       "model_id": "5cd3e3bd4ac647b0a41a800afce95d8d",
       "version_major": 2,
       "version_minor": 0
      },
      "text/plain": [
       "0it [00:00, ?it/s]"
      ]
     },
     "metadata": {},
     "output_type": "display_data"
    },
    {
     "data": {
      "application/vnd.jupyter.widget-view+json": {
       "model_id": "6cd1ee25cb244fb984f7dde941279b9f",
       "version_major": 2,
       "version_minor": 0
      },
      "text/plain": [
       "0it [00:00, ?it/s]"
      ]
     },
     "metadata": {},
     "output_type": "display_data"
    },
    {
     "data": {
      "application/vnd.jupyter.widget-view+json": {
       "model_id": "e3596536b7c84e3fa1d7da84a0383d40",
       "version_major": 2,
       "version_minor": 0
      },
      "text/plain": [
       "0it [00:00, ?it/s]"
      ]
     },
     "metadata": {},
     "output_type": "display_data"
    },
    {
     "data": {
      "application/vnd.jupyter.widget-view+json": {
       "model_id": "8716ef24ba85427fad21087313bf37b5",
       "version_major": 2,
       "version_minor": 0
      },
      "text/plain": [
       "0it [00:00, ?it/s]"
      ]
     },
     "metadata": {},
     "output_type": "display_data"
    },
    {
     "data": {
      "application/vnd.jupyter.widget-view+json": {
       "model_id": "5f63eb95e2c64fdf8ec775b6f8038645",
       "version_major": 2,
       "version_minor": 0
      },
      "text/plain": [
       "0it [00:00, ?it/s]"
      ]
     },
     "metadata": {},
     "output_type": "display_data"
    },
    {
     "data": {
      "application/vnd.jupyter.widget-view+json": {
       "model_id": "1f505f6a08c0464a9ac44b4d67f2d178",
       "version_major": 2,
       "version_minor": 0
      },
      "text/plain": [
       "0it [00:00, ?it/s]"
      ]
     },
     "metadata": {},
     "output_type": "display_data"
    },
    {
     "data": {
      "application/vnd.jupyter.widget-view+json": {
       "model_id": "517d90763ff24ecb96e7964d87adf1a6",
       "version_major": 2,
       "version_minor": 0
      },
      "text/plain": [
       "0it [00:00, ?it/s]"
      ]
     },
     "metadata": {},
     "output_type": "display_data"
    },
    {
     "data": {
      "application/vnd.jupyter.widget-view+json": {
       "model_id": "6967fcdb11dd4778ae924d1f344aaf32",
       "version_major": 2,
       "version_minor": 0
      },
      "text/plain": [
       "0it [00:00, ?it/s]"
      ]
     },
     "metadata": {},
     "output_type": "display_data"
    },
    {
     "data": {
      "application/vnd.jupyter.widget-view+json": {
       "model_id": "074411fb3f9849d19b92d841a9d7a2f3",
       "version_major": 2,
       "version_minor": 0
      },
      "text/plain": [
       "  0%|          | 0/2 [00:00<?, ?it/s]"
      ]
     },
     "metadata": {},
     "output_type": "display_data"
    },
    {
     "name": "stdout",
     "output_type": "stream",
     "text": [
      "[PairOptimizer.optimize] curves_t wstETH-2Ca0/USDC-eB48\n",
      "[PairOptimizer.optimize] p_optimal OptimizerBase.SimpleResult(result=2132.8228517299513, method='bisection', errormsg=None, context_dct=None) full_result [ 1.12692078e-11 -2.40397640e-08]\n",
      "[PairOptimizer.optimize] curves_t wstETH-2Ca0/USDC-eB48\n",
      "[PairOptimizer.optimize] p_optimal OptimizerBase.SimpleResult(result=2132.8228517296384, method='bisection', errormsg=None, context_dct=None) full_result [ 1.99236183e-11 -4.24915925e-08]\n"
     ]
    },
    {
     "data": {
      "application/vnd.jupyter.widget-view+json": {
       "model_id": "601ae38fe4d04732ad3b3758786b9371",
       "version_major": 2,
       "version_minor": 0
      },
      "text/plain": [
       "0it [00:00, ?it/s]"
      ]
     },
     "metadata": {},
     "output_type": "display_data"
    },
    {
     "data": {
      "application/vnd.jupyter.widget-view+json": {
       "model_id": "b30cba809d6f43baa9bc5dd61e40c51b",
       "version_major": 2,
       "version_minor": 0
      },
      "text/plain": [
       "0it [00:00, ?it/s]"
      ]
     },
     "metadata": {},
     "output_type": "display_data"
    },
    {
     "data": {
      "application/vnd.jupyter.widget-view+json": {
       "model_id": "ea74e16ef77243e988ed10650f09e554",
       "version_major": 2,
       "version_minor": 0
      },
      "text/plain": [
       "  0%|          | 0/39 [00:00<?, ?it/s]"
      ]
     },
     "metadata": {},
     "output_type": "display_data"
    },
    {
     "name": "stdout",
     "output_type": "stream",
     "text": [
      "[PairOptimizer.optimize] curves_t WETH-6Cc2/USDT-1ec7\n",
      "[PairOptimizer.optimize] p_optimal OptimizerBase.SimpleResult(result=1890.3902599636826, method='bisection', errormsg=None, context_dct=None) full_result [ 3.43752617e-08 -6.91041350e-05]\n",
      "[PairOptimizer.optimize] curves_t WETH-6Cc2/USDT-1ec7\n",
      "[PairOptimizer.optimize] p_optimal OptimizerBase.SimpleResult(result=1890.3902598796512, method='bisection', errormsg=None, context_dct=None) full_result [ 4.23751771e-08 -8.02278519e-05]\n",
      "[PairOptimizer.optimize] curves_t WETH-6Cc2/USDT-1ec7\n",
      "[PairOptimizer.optimize] p_optimal OptimizerBase.SimpleResult(result=1890.3902598804298, method='bisection', errormsg=None, context_dct=None) full_result [-2.00816430e-08  3.79085541e-05]\n",
      "[PairOptimizer.optimize] curves_t WETH-6Cc2/USDT-1ec7\n",
      "[PairOptimizer.optimize] p_optimal OptimizerBase.SimpleResult(result=1890.3902598796158, method='bisection', errormsg=None, context_dct=None) full_result [ 4.52273525e-08 -8.54730606e-05]\n",
      "[PairOptimizer.optimize] curves_t WETH-6Cc2/USDT-1ec7\n",
      "[PairOptimizer.optimize] p_optimal OptimizerBase.SimpleResult(result=1890.3902598801792, method='bisection', errormsg=None, context_dct=None) full_result [0. 0.]\n",
      "[PairOptimizer.optimize] curves_t WETH-6Cc2/USDT-1ec7\n",
      "[PairOptimizer.optimize] p_optimal OptimizerBase.SimpleResult(result=1890.3902598800487, method='bisection', errormsg=None, context_dct=None) full_result [ 1.05355866e-08 -1.99079514e-05]\n",
      "[PairOptimizer.optimize] curves_t WETH-6Cc2/USDT-1ec7\n",
      "[PairOptimizer.optimize] p_optimal OptimizerBase.SimpleResult(result=1890.3902598806571, method='bisection', errormsg=None, context_dct=None) full_result [-3.83006409e-08  7.23600388e-05]\n",
      "[PairOptimizer.optimize] curves_t WETH-6Cc2/USDT-1ec7\n",
      "[PairOptimizer.optimize] p_optimal OptimizerBase.SimpleResult(result=1890.3902700162016, method='bisection', errormsg=None, context_dct=None) full_result [-4.18058548e-08 -2.80974927e-02]\n",
      "[PairOptimizer.optimize] curves_t WETH-6Cc2/USDT-1ec7\n",
      "[PairOptimizer.optimize] p_optimal OptimizerBase.SimpleResult(result=1890.390259880636, method='bisection', errormsg=None, context_dct=None) full_result [-3.66126187e-08  6.92605972e-05]\n",
      "[PairOptimizer.optimize] curves_t WETH-6Cc2/USDT-1ec7\n",
      "[PairOptimizer.optimize] p_optimal OptimizerBase.SimpleResult(result=1890.3902598796271, method='bisection', errormsg=None, context_dct=None) full_result [ 4.43542376e-08 -8.38041306e-05]\n",
      "[PairOptimizer.optimize] curves_t WETH-6Cc2/USDT-1ec7\n",
      "[PairOptimizer.optimize] p_optimal OptimizerBase.SimpleResult(result=1890.3902598805803, method='bisection', errormsg=None, context_dct=None) full_result [-3.21888365e-08  6.07967377e-05]\n",
      "[PairOptimizer.optimize] curves_t WETH-6Cc2/USDT-1ec7\n",
      "[PairOptimizer.optimize] p_optimal OptimizerBase.SimpleResult(result=1890.3902598803247, method='bisection', errormsg=None, context_dct=None) full_result [-1.16415322e-08  2.19345093e-05]\n",
      "[PairOptimizer.optimize] curves_t WETH-6Cc2/USDT-1ec7\n",
      "[PairOptimizer.optimize] p_optimal OptimizerBase.SimpleResult(result=1890.3902598804148, method='bisection', errormsg=None, context_dct=None) full_result [-1.88592821e-08  3.56435776e-05]\n",
      "[PairOptimizer.optimize] curves_t WETH-6Cc2/USDT-1ec7\n",
      "[PairOptimizer.optimize] p_optimal OptimizerBase.SimpleResult(result=1889.145889168184, method='bisection', errormsg=None, context_dct=None) full_result [-1.00080797e-08  6.41494989e-06]\n",
      "[PairOptimizer.optimize] curves_t WETH-6Cc2/USDT-1ec7\n",
      "[PairOptimizer.optimize] p_optimal OptimizerBase.SimpleResult(result=1889.145888876507, method='bisection', errormsg=None, context_dct=None) full_result [-1.26019586e-08  2.38120556e-05]\n",
      "[PairOptimizer.optimize] curves_t WETH-6Cc2/USDT-1ec7\n",
      "[PairOptimizer.optimize] p_optimal OptimizerBase.SimpleResult(result=1889.1458888757393, method='bisection', errormsg=None, context_dct=None) full_result [ 5.09317033e-09 -9.62615013e-06]\n",
      "[PairOptimizer.optimize] curves_t WETH-6Cc2/USDT-1ec7\n",
      "[PairOptimizer.optimize] p_optimal OptimizerBase.SimpleResult(result=1889.1458888758934, method='bisection', errormsg=None, context_dct=None) full_result [ 1.54250301e-09 -2.92062759e-06]\n",
      "[PairOptimizer.optimize] curves_t WETH-6Cc2/USDT-1ec7\n",
      "[PairOptimizer.optimize] p_optimal OptimizerBase.SimpleResult(result=1889.1458888762731, method='bisection', errormsg=None, context_dct=None) full_result [-7.21774995e-09  1.36494637e-05]\n",
      "[PairOptimizer.optimize] curves_t WETH-6Cc2/USDT-1ec7\n",
      "[PairOptimizer.optimize] p_optimal OptimizerBase.SimpleResult(result=1889.1458888758175, method='bisection', errormsg=None, context_dct=None) full_result [ 3.30328476e-09 -6.22868538e-06]\n",
      "[PairOptimizer.optimize] curves_t WETH-6Cc2/USDT-1ec7\n",
      "[PairOptimizer.optimize] p_optimal OptimizerBase.SimpleResult(result=1889.145888875436, method='bisection', errormsg=None, context_dct=None) full_result [ 1.21071935e-08 -2.28583813e-05]\n",
      "[PairOptimizer.optimize] curves_t WETH-6Cc2/USDT-1ec7\n",
      "[PairOptimizer.optimize] p_optimal OptimizerBase.SimpleResult(result=1889.145924112016, method='bisection', errormsg=None, context_dct=None) full_result [ 9.60606172e-09 -2.92068245e-02]\n",
      "[PairOptimizer.optimize] curves_t WETH-6Cc2/USDT-1ec7\n",
      "[PairOptimizer.optimize] p_optimal OptimizerBase.SimpleResult(result=1889.1458888762695, method='bisection', errormsg=None, context_dct=None) full_result [-7.13043846e-09  1.34706497e-05]\n",
      "[PairOptimizer.optimize] curves_t WETH-6Cc2/USDT-1ec7\n",
      "[PairOptimizer.optimize] p_optimal OptimizerBase.SimpleResult(result=1889.1458888752281, method='bisection', errormsg=None, context_dct=None) full_result [ 1.69093255e-08 -3.19480896e-05]\n",
      "[PairOptimizer.optimize] curves_t WETH-6Cc2/USDT-1ec7\n",
      "[PairOptimizer.optimize] p_optimal OptimizerBase.SimpleResult(result=1889.1458888757306, method='bisection', errormsg=None, context_dct=None) full_result [ 5.29689714e-09 -1.00135803e-05]\n",
      "[PairOptimizer.optimize] curves_t WETH-6Cc2/USDT-1ec7\n",
      "[PairOptimizer.optimize] p_optimal OptimizerBase.SimpleResult(result=1889.1458888758277, method='bisection', errormsg=None, context_dct=None) full_result [ 3.05590220e-09 -5.78165054e-06]\n",
      "[PairOptimizer.optimize] curves_t WETH-6Cc2/USDT-1ec7\n",
      "[PairOptimizer.optimize] p_optimal OptimizerBase.SimpleResult(result=1889.1458888764319, method='bisection', errormsg=None, context_dct=None) full_result [-1.08848326e-08  2.05636024e-05]\n",
      "[PairOptimizer.optimize] curves_t WETH-6Cc2/USDT-1ec7\n",
      "[PairOptimizer.optimize] p_optimal OptimizerBase.SimpleResult(result=1881.7106092876686, method='bisection', errormsg=None, context_dct=None) full_result [-2.40470399e-09 -5.80400229e-05]\n",
      "[PairOptimizer.optimize] curves_t WETH-6Cc2/USDT-1ec7\n",
      "[PairOptimizer.optimize] p_optimal OptimizerBase.SimpleResult(result=1881.710608190668, method='bisection', errormsg=None, context_dct=None) full_result [ 3.57977115e-09 -6.74277544e-06]\n",
      "[PairOptimizer.optimize] curves_t WETH-6Cc2/USDT-1ec7\n",
      "[PairOptimizer.optimize] p_optimal OptimizerBase.SimpleResult(result=1881.7106081911547, method='bisection', errormsg=None, context_dct=None) full_result [ 5.85714588e-10 -1.11013651e-06]\n",
      "[PairOptimizer.optimize] curves_t WETH-6Cc2/USDT-1ec7\n",
      "[PairOptimizer.optimize] p_optimal OptimizerBase.SimpleResult(result=1881.7106081913296, method='bisection', errormsg=None, context_dct=None) full_result [-4.87489160e-10  9.16421413e-07]\n",
      "[PairOptimizer.optimize] curves_t WETH-6Cc2/USDT-1ec7\n",
      "[PairOptimizer.optimize] p_optimal OptimizerBase.SimpleResult(result=1881.710608190739, method='bisection', errormsg=None, context_dct=None) full_result [ 3.13957571e-09 -5.91576099e-06]\n",
      "[PairOptimizer.optimize] curves_t WETH-6Cc2/USDT-1ec7\n",
      "[PairOptimizer.optimize] p_optimal OptimizerBase.SimpleResult(result=1881.7106081908473, method='bisection', errormsg=None, context_dct=None) full_result [ 2.47746357e-09 -4.66406345e-06]\n",
      "[PairOptimizer.optimize] curves_t WETH-6Cc2/USDT-1ec7\n",
      "[PairOptimizer.optimize] p_optimal OptimizerBase.SimpleResult(result=1881.7106081914208, method='bisection', errormsg=None, context_dct=None) full_result [-1.04773790e-09  1.97440386e-06]\n",
      "[PairOptimizer.optimize] curves_t WETH-6Cc2/USDT-1ec7\n",
      "[PairOptimizer.optimize] p_optimal OptimizerBase.SimpleResult(result=1881.710740546815, method='bisection', errormsg=None, context_dct=None) full_result [ 1.62797420e-09 -3.52394553e-02]\n",
      "[PairOptimizer.optimize] curves_t WETH-6Cc2/USDT-1ec7\n",
      "[PairOptimizer.optimize] p_optimal OptimizerBase.SimpleResult(result=1881.7106081909023, method='bisection', errormsg=None, context_dct=None) full_result [ 2.13549356e-09 -4.02331352e-06]\n",
      "[PairOptimizer.optimize] curves_t WETH-6Cc2/USDT-1ec7\n",
      "[PairOptimizer.optimize] p_optimal OptimizerBase.SimpleResult(result=1881.7106081915688, method='bisection', errormsg=None, context_dct=None) full_result [-1.95723260e-09  3.68058681e-06]\n",
      "[PairOptimizer.optimize] curves_t WETH-6Cc2/USDT-1ec7\n",
      "[PairOptimizer.optimize] p_optimal OptimizerBase.SimpleResult(result=1881.7106081915645, method='bisection', errormsg=None, context_dct=None) full_result [-1.93176675e-09  3.63588333e-06]\n",
      "[PairOptimizer.optimize] curves_t WETH-6Cc2/USDT-1ec7\n",
      "[PairOptimizer.optimize] p_optimal OptimizerBase.SimpleResult(result=1881.7106081915751, method='bisection', errormsg=None, context_dct=None) full_result [-1.99725037e-09  3.75509262e-06]\n",
      "[PairOptimizer.optimize] curves_t WETH-6Cc2/USDT-1ec7\n",
      "[PairOptimizer.optimize] p_optimal OptimizerBase.SimpleResult(result=1881.7106081909228, method='bisection', errormsg=None, context_dct=None) full_result [ 2.01180228e-09 -3.78489494e-06]\n"
     ]
    },
    {
     "data": {
      "application/vnd.jupyter.widget-view+json": {
       "model_id": "2b964b1b71504b0a8e87f1ee221a8b6c",
       "version_major": 2,
       "version_minor": 0
      },
      "text/plain": [
       "  0%|          | 0/4 [00:00<?, ?it/s]"
      ]
     },
     "metadata": {},
     "output_type": "display_data"
    },
    {
     "name": "stdout",
     "output_type": "stream",
     "text": [
      "[PairOptimizer.optimize] curves_t WETH-6Cc2/BNT-FF1C\n",
      "[PairOptimizer.optimize] p_optimal OptimizerBase.SimpleResult(result=4764.127397630187, method='bisection', errormsg=None, context_dct=None) full_result [ 2.75765188e-10 -2.38837158e+00]\n",
      "[PairOptimizer.optimize] curves_t WETH-6Cc2/BNT-FF1C\n",
      "[PairOptimizer.optimize] p_optimal OptimizerBase.SimpleResult(result=4764.138098143359, method='bisection', errormsg=None, context_dct=None) full_result [ 1.95996108e-10 -9.35047865e-07]\n",
      "[PairOptimizer.optimize] curves_t WETH-6Cc2/BNT-FF1C\n",
      "[PairOptimizer.optimize] p_optimal OptimizerBase.SimpleResult(result=4764.138098141909, method='bisection', errormsg=None, context_dct=None) full_result [ 7.35781214e-10 -3.50549817e-06]\n",
      "[PairOptimizer.optimize] curves_t WETH-6Cc2/BNT-FF1C\n",
      "[PairOptimizer.optimize] p_optimal OptimizerBase.SimpleResult(result=4764.138098143836, method='bisection', errormsg=None, context_dct=None) full_result [ 1.86446414e-11 -8.94069672e-08]\n"
     ]
    },
    {
     "data": {
      "application/vnd.jupyter.widget-view+json": {
       "model_id": "f3a82930e5c649beaadca5ba2c515be1",
       "version_major": 2,
       "version_minor": 0
      },
      "text/plain": [
       "  0%|          | 0/16 [00:00<?, ?it/s]"
      ]
     },
     "metadata": {},
     "output_type": "display_data"
    },
    {
     "name": "stdout",
     "output_type": "stream",
     "text": [
      "[PairOptimizer.optimize] curves_t WBTC-C599/WETH-6Cc2\n",
      "[PairOptimizer.optimize] p_optimal OptimizerBase.SimpleResult(result=16.25127735725492, method='bisection', errormsg=None, context_dct=None) full_result [-2.74303602e-09  4.45870683e-08]\n",
      "[PairOptimizer.optimize] curves_t WBTC-C599/WETH-6Cc2\n",
      "[PairOptimizer.optimize] p_optimal OptimizerBase.SimpleResult(result=16.251277357233576, method='bisection', errormsg=None, context_dct=None) full_result [-1.81454762e-09  2.64954920e-08]\n",
      "[PairOptimizer.optimize] curves_t WBTC-C599/WETH-6Cc2\n",
      "[PairOptimizer.optimize] p_optimal OptimizerBase.SimpleResult(result=16.25127735724241, method='bisection', errormsg=None, context_dct=None) full_result [ 3.66344466e-09 -5.94882295e-08]\n",
      "[PairOptimizer.optimize] curves_t WBTC-C599/WETH-6Cc2\n",
      "[PairOptimizer.optimize] p_optimal OptimizerBase.SimpleResult(result=16.25127735725219, method='bisection', errormsg=None, context_dct=None) full_result [-1.34605216e-09  2.18860805e-08]\n",
      "[PairOptimizer.optimize] curves_t WBTC-C599/WETH-6Cc2\n",
      "[PairOptimizer.optimize] p_optimal OptimizerBase.SimpleResult(result=16.251277357247133, method='bisection', errormsg=None, context_dct=None) full_result [ 1.24418875e-09 -2.01980583e-08]\n",
      "[PairOptimizer.optimize] curves_t WBTC-C599/WETH-6Cc2\n",
      "[PairOptimizer.optimize] p_optimal OptimizerBase.SimpleResult(result=16.251277357247766, method='bisection', errormsg=None, context_dct=None) full_result [ 9.20408638e-10 -1.49593689e-08]\n",
      "[PairOptimizer.optimize] curves_t WBTC-C599/WETH-6Cc2\n",
      "[PairOptimizer.optimize] p_optimal OptimizerBase.SimpleResult(result=16.251275647061092, method='bisection', errormsg=None, context_dct=None) full_result [-3.39941160e-08 -6.70070222e-09]\n",
      "[PairOptimizer.optimize] curves_t WBTC-C599/WETH-6Cc2\n",
      "[PairOptimizer.optimize] p_optimal OptimizerBase.SimpleResult(result=16.25127735724613, method='bisection', errormsg=None, context_dct=None) full_result [ 1.75714376e-09 -2.85217538e-08]\n",
      "[PairOptimizer.optimize] curves_t WBTC-C599/WETH-6Cc2\n",
      "[PairOptimizer.optimize] p_optimal OptimizerBase.SimpleResult(result=16.262500335191948, method='bisection', errormsg=None, context_dct=None) full_result [-7.50151230e-09  1.22003257e-07]\n",
      "[PairOptimizer.optimize] curves_t WBTC-C599/WETH-6Cc2\n",
      "[PairOptimizer.optimize] p_optimal OptimizerBase.SimpleResult(result=16.262500335181386, method='bisection', errormsg=None, context_dct=None) full_result [-4.99414110e-09  7.80092719e-08]\n",
      "[PairOptimizer.optimize] curves_t WBTC-C599/WETH-6Cc2\n",
      "[PairOptimizer.optimize] p_optimal OptimizerBase.SimpleResult(result=16.262500335186033, method='bisection', errormsg=None, context_dct=None) full_result [-4.94765118e-10  7.91624188e-09]\n",
      "[PairOptimizer.optimize] curves_t WBTC-C599/WETH-6Cc2\n",
      "[PairOptimizer.optimize] p_optimal OptimizerBase.SimpleResult(result=16.26250033519087, method='bisection', errormsg=None, context_dct=None) full_result [-6.22821972e-09  1.01281330e-07]\n",
      "[PairOptimizer.optimize] curves_t WBTC-C599/WETH-6Cc2\n",
      "[PairOptimizer.optimize] p_optimal OptimizerBase.SimpleResult(result=16.262500335190833, method='bisection', errormsg=None, context_dct=None) full_result [-6.17728801e-09  1.00466423e-07]\n",
      "[PairOptimizer.optimize] curves_t WBTC-C599/WETH-6Cc2\n",
      "[PairOptimizer.optimize] p_optimal OptimizerBase.SimpleResult(result=16.262500335185337, method='bisection', errormsg=None, context_dct=None) full_result [ 3.34694050e-10 -5.47152013e-09]\n",
      "[PairOptimizer.optimize] curves_t WBTC-C599/WETH-6Cc2\n",
      "[PairOptimizer.optimize] p_optimal OptimizerBase.SimpleResult(result=16.26249310669788, method='bisection', errormsg=None, context_dct=None) full_result [-3.29367515e-06 -1.28529791e-08]\n",
      "[PairOptimizer.optimize] curves_t WBTC-C599/WETH-6Cc2\n",
      "[PairOptimizer.optimize] p_optimal OptimizerBase.SimpleResult(result=16.262500335189472, method='bisection', errormsg=None, context_dct=None) full_result [-4.57657734e-09  7.43893906e-08]\n"
     ]
    },
    {
     "data": {
      "application/vnd.jupyter.widget-view+json": {
       "model_id": "04c1267ad35a48cc907862567e81ed50",
       "version_major": 2,
       "version_minor": 0
      },
      "text/plain": [
       "  0%|          | 0/54 [00:00<?, ?it/s]"
      ]
     },
     "metadata": {},
     "output_type": "display_data"
    },
    {
     "name": "stdout",
     "output_type": "stream",
     "text": [
      "[PairOptimizer.optimize] curves_t WETH-6Cc2/USDC-eB48\n",
      "[PairOptimizer.optimize] p_optimal OptimizerBase.SimpleResult(result=1888.9922146301515, method='bisection', errormsg=None, context_dct=None) full_result [-4.74392436e-09  8.94069672e-06]\n",
      "[PairOptimizer.optimize] curves_t WETH-6Cc2/USDC-eB48\n",
      "[PairOptimizer.optimize] p_optimal OptimizerBase.SimpleResult(result=1888.992214629935, method='bisection', errormsg=None, context_dct=None) full_result [ 5.41331246e-09 -1.02519989e-05]\n",
      "[PairOptimizer.optimize] curves_t WETH-6Cc2/USDC-eB48\n",
      "[PairOptimizer.optimize] p_optimal OptimizerBase.SimpleResult(result=1888.9922146308772, method='bisection', errormsg=None, context_dct=None) full_result [-3.87663022e-08  7.32541084e-05]\n",
      "[PairOptimizer.optimize] curves_t WETH-6Cc2/USDC-eB48\n",
      "[PairOptimizer.optimize] p_optimal OptimizerBase.SimpleResult(result=1888.9922146296476, method='bisection', errormsg=None, context_dct=None) full_result [ 1.88883860e-08 -3.56435776e-05]\n",
      "[PairOptimizer.optimize] curves_t WETH-6Cc2/USDC-eB48\n",
      "[PairOptimizer.optimize] p_optimal OptimizerBase.SimpleResult(result=1888.992214630152, method='bisection', errormsg=None, context_dct=None) full_result [-4.74392436e-09  8.94069672e-06]\n",
      "[PairOptimizer.optimize] curves_t WETH-6Cc2/USDC-eB48\n",
      "[PairOptimizer.optimize] p_optimal OptimizerBase.SimpleResult(result=1888.9922146300873, method='bisection', errormsg=None, context_dct=None) full_result [-1.71712600e-09  3.27825546e-06]\n",
      "[PairOptimizer.optimize] curves_t WETH-6Cc2/USDC-eB48\n",
      "[PairOptimizer.optimize] p_optimal OptimizerBase.SimpleResult(result=1888.9922146304884, method='bisection', errormsg=None, context_dct=None) full_result [-2.05182005e-08  3.88026237e-05]\n",
      "[PairOptimizer.optimize] curves_t WETH-6Cc2/USDC-eB48\n",
      "[PairOptimizer.optimize] p_optimal OptimizerBase.SimpleResult(result=1888.9922146299593, method='bisection', errormsg=None, context_dct=None) full_result [ 4.30736691e-09 -8.10623169e-06]\n",
      "[PairOptimizer.optimize] curves_t WETH-6Cc2/USDC-eB48\n",
      "[PairOptimizer.optimize] p_optimal OptimizerBase.SimpleResult(result=1888.992214629823, method='bisection', errormsg=None, context_dct=None) full_result [ 1.06811058e-08 -2.01463699e-05]\n",
      "[PairOptimizer.optimize] curves_t WETH-6Cc2/USDC-eB48\n",
      "[PairOptimizer.optimize] p_optimal OptimizerBase.SimpleResult(result=1888.9922146295216, method='bisection', errormsg=None, context_dct=None) full_result [ 2.48255674e-08 -4.68492508e-05]\n",
      "[PairOptimizer.optimize] curves_t WETH-6Cc2/USDC-eB48\n",
      "[PairOptimizer.optimize] p_optimal OptimizerBase.SimpleResult(result=1888.992214630285, method='bisection', errormsg=None, context_dct=None) full_result [-1.09721441e-08  2.07424164e-05]\n",
      "[PairOptimizer.optimize] curves_t WETH-6Cc2/USDC-eB48\n",
      "[PairOptimizer.optimize] p_optimal OptimizerBase.SimpleResult(result=1888.992214630096, method='bisection', errormsg=None, context_dct=None) full_result [-2.12457962e-09  4.05311584e-06]\n",
      "[PairOptimizer.optimize] curves_t WETH-6Cc2/USDC-eB48\n",
      "[PairOptimizer.optimize] p_optimal OptimizerBase.SimpleResult(result=1888.9922146296672, method='bisection', errormsg=None, context_dct=None) full_result [ 1.79861672e-08 -3.39150429e-05]\n",
      "[PairOptimizer.optimize] curves_t WETH-6Cc2/USDC-eB48\n",
      "[PairOptimizer.optimize] p_optimal OptimizerBase.SimpleResult(result=1888.992214630273, method='bisection', errormsg=None, context_dct=None) full_result [-1.04482751e-08  1.97291374e-05]\n",
      "[PairOptimizer.optimize] curves_t WETH-6Cc2/USDC-eB48\n",
      "[PairOptimizer.optimize] p_optimal OptimizerBase.SimpleResult(result=1888.992214630557, method='bisection', errormsg=None, context_dct=None) full_result [-2.37487257e-08  4.48822975e-05]\n",
      "[PairOptimizer.optimize] curves_t WETH-6Cc2/USDC-eB48\n",
      "[PairOptimizer.optimize] p_optimal OptimizerBase.SimpleResult(result=1888.9922146305262, method='bisection', errormsg=None, context_dct=None) full_result [-2.23226380e-08  4.21404839e-05]\n",
      "[PairOptimizer.optimize] curves_t WETH-6Cc2/USDC-eB48\n",
      "[PairOptimizer.optimize] p_optimal OptimizerBase.SimpleResult(result=1888.9922146295794, method='bisection', errormsg=None, context_dct=None) full_result [ 2.21189111e-08 -4.17828560e-05]\n",
      "[PairOptimizer.optimize] curves_t WETH-6Cc2/USDC-eB48\n",
      "[PairOptimizer.optimize] p_optimal OptimizerBase.SimpleResult(result=1888.9922146299941, method='bisection', errormsg=None, context_dct=None) full_result [ 2.67755240e-09 -5.00679016e-06]\n",
      "[PairOptimizer.optimize] curves_t WETH-6Cc2/USDC-eB48\n",
      "[PairOptimizer.optimize] p_optimal OptimizerBase.SimpleResult(result=1888.9922146298563, method='bisection', errormsg=None, context_dct=None) full_result [ 9.10949893e-09 -1.71661377e-05]\n",
      "[PairOptimizer.optimize] curves_t WETH-6Cc2/USDC-eB48\n",
      "[PairOptimizer.optimize] p_optimal OptimizerBase.SimpleResult(result=1888.9922146307526, method='bisection', errormsg=None, context_dct=None) full_result [-3.29164322e-08  6.21676445e-05]\n",
      "[PairOptimizer.optimize] curves_t WETH-6Cc2/USDC-eB48\n",
      "[PairOptimizer.optimize] p_optimal OptimizerBase.SimpleResult(result=1888.9922146292975, method='bisection', errormsg=None, context_dct=None) full_result [ 3.53029463e-08 -6.66975975e-05]\n",
      "[PairOptimizer.optimize] curves_t WETH-6Cc2/USDC-eB48\n",
      "[PairOptimizer.optimize] p_optimal OptimizerBase.SimpleResult(result=1888.9922146298, method='bisection', errormsg=None, context_dct=None) full_result [ 1.17870513e-08 -2.22325325e-05]\n",
      "[PairOptimizer.optimize] curves_t WETH-6Cc2/USDC-eB48\n",
      "[PairOptimizer.optimize] p_optimal OptimizerBase.SimpleResult(result=1888.9922146296672, method='bisection', errormsg=None, context_dct=None) full_result [ 1.79861672e-08 -3.39150429e-05]\n",
      "[PairOptimizer.optimize] curves_t WETH-6Cc2/USDC-eB48\n",
      "[PairOptimizer.optimize] p_optimal OptimizerBase.SimpleResult(result=1888.9922146300303, method='bisection', errormsg=None, context_dct=None) full_result [ 9.60426405e-10 -1.78813934e-06]\n",
      "[PairOptimizer.optimize] curves_t WETH-6Cc2/USDC-eB48\n",
      "[PairOptimizer.optimize] p_optimal OptimizerBase.SimpleResult(result=1888.9922045502708, method='bisection', errormsg=None, context_dct=None) full_result [ 8.62382876e-09 -4.20819260e-02]\n",
      "[PairOptimizer.optimize] curves_t WETH-6Cc2/USDC-eB48\n",
      "[PairOptimizer.optimize] p_optimal OptimizerBase.SimpleResult(result=1888.9922146306424, method='bisection', errormsg=None, context_dct=None) full_result [-2.77650543e-08  5.24520874e-05]\n",
      "[PairOptimizer.optimize] curves_t WETH-6Cc2/USDC-eB48\n",
      "[PairOptimizer.optimize] p_optimal OptimizerBase.SimpleResult(result=1888.9922146304034, method='bisection', errormsg=None, context_dct=None) full_result [-1.65309757e-08  3.12328339e-05]\n",
      "[PairOptimizer.optimize] curves_t WETH-6Cc2/USDC-eB48\n",
      "[PairOptimizer.optimize] p_optimal OptimizerBase.SimpleResult(result=1888.9922146305626, method='bisection', errormsg=None, context_dct=None) full_result [-2.40106601e-08  4.54187393e-05]\n",
      "[PairOptimizer.optimize] curves_t WETH-6Cc2/USDC-eB48\n",
      "[PairOptimizer.optimize] p_optimal OptimizerBase.SimpleResult(result=1888.992214630815, method='bisection', errormsg=None, context_dct=None) full_result [-3.58268153e-08  6.77108765e-05]\n",
      "[PairOptimizer.optimize] curves_t WETH-6Cc2/USDC-eB48\n",
      "[PairOptimizer.optimize] p_optimal OptimizerBase.SimpleResult(result=1888.9922146306358, method='bisection', errormsg=None, context_dct=None) full_result [-2.74449121e-08  5.18560410e-05]\n",
      "[PairOptimizer.optimize] curves_t WETH-6Cc2/USDC-eB48\n",
      "[PairOptimizer.optimize] p_optimal OptimizerBase.SimpleResult(result=1888.9922146295798, method='bisection', errormsg=None, context_dct=None) full_result [ 2.20607035e-08 -4.16636467e-05]\n",
      "[PairOptimizer.optimize] curves_t WETH-6Cc2/USDC-eB48\n",
      "[PairOptimizer.optimize] p_optimal OptimizerBase.SimpleResult(result=1888.9922146296767, method='bisection', errormsg=None, context_dct=None) full_result [ 1.75496098e-08 -3.31401825e-05]\n",
      "[PairOptimizer.optimize] curves_t WETH-6Cc2/USDC-eB48\n",
      "[PairOptimizer.optimize] p_optimal OptimizerBase.SimpleResult(result=1888.992214630015, method='bisection', errormsg=None, context_dct=None) full_result [ 1.68802217e-09 -3.15904617e-06]\n",
      "[PairOptimizer.optimize] curves_t WETH-6Cc2/USDC-eB48\n",
      "[PairOptimizer.optimize] p_optimal OptimizerBase.SimpleResult(result=1888.9922146301515, method='bisection', errormsg=None, context_dct=None) full_result [-4.74392436e-09  8.94069672e-06]\n",
      "[PairOptimizer.optimize] curves_t WETH-6Cc2/USDC-eB48\n",
      "[PairOptimizer.optimize] p_optimal OptimizerBase.SimpleResult(result=1888.9922146304305, method='bisection', errormsg=None, context_dct=None) full_result [-1.77824404e-08  3.36170197e-05]\n",
      "[PairOptimizer.optimize] curves_t WETH-6Cc2/USDC-eB48\n",
      "[PairOptimizer.optimize] p_optimal OptimizerBase.SimpleResult(result=1888.9922146295005, method='bisection', errormsg=None, context_dct=None) full_result [ 2.53922954e-08 -4.79870996e-05]\n",
      "[PairOptimizer.optimize] curves_t WETH-6Cc2/USDC-eB48\n",
      "[PairOptimizer.optimize] p_optimal OptimizerBase.SimpleResult(result=1888.9922146295216, method='bisection', errormsg=None, context_dct=None) full_result [ 2.48255674e-08 -4.68492508e-05]\n",
      "[PairOptimizer.optimize] curves_t WETH-6Cc2/USDC-eB48\n",
      "[PairOptimizer.optimize] p_optimal OptimizerBase.SimpleResult(result=1888.9922146296672, method='bisection', errormsg=None, context_dct=None) full_result [ 1.79861672e-08 -3.39150429e-05]\n",
      "[PairOptimizer.optimize] curves_t WETH-6Cc2/USDC-eB48\n",
      "[PairOptimizer.optimize] p_optimal OptimizerBase.SimpleResult(result=1888.9922146306121, method='bisection', errormsg=None, context_dct=None) full_result [-2.63389666e-08  4.97698784e-05]\n",
      "[PairOptimizer.optimize] curves_t WETH-6Cc2/USDC-eB48\n",
      "[PairOptimizer.optimize] p_optimal OptimizerBase.SimpleResult(result=1888.9922146306424, method='bisection', errormsg=None, context_dct=None) full_result [-2.77650543e-08  5.24520874e-05]\n",
      "[PairOptimizer.optimize] curves_t WETH-6Cc2/USDC-eB48\n",
      "[PairOptimizer.optimize] p_optimal OptimizerBase.SimpleResult(result=1888.99221463018, method='bisection', errormsg=None, context_dct=None) full_result [-6.05359674e-09  1.15036964e-05]\n",
      "[PairOptimizer.optimize] curves_t WETH-6Cc2/USDC-eB48\n",
      "[PairOptimizer.optimize] p_optimal OptimizerBase.SimpleResult(result=1888.9922146308115, method='bisection', errormsg=None, context_dct=None) full_result [-3.56812961e-08  6.74128532e-05]\n",
      "[PairOptimizer.optimize] curves_t WETH-6Cc2/USDC-eB48\n",
      "[PairOptimizer.optimize] p_optimal OptimizerBase.SimpleResult(result=1888.9922146302497, method='bisection', errormsg=None, context_dct=None) full_result [-9.31322575e-09  1.76429749e-05]\n",
      "[PairOptimizer.optimize] curves_t WETH-6Cc2/USDC-eB48\n",
      "[PairOptimizer.optimize] p_optimal OptimizerBase.SimpleResult(result=1888.9922146300873, method='bisection', errormsg=None, context_dct=None) full_result [-1.71712600e-09  3.27825546e-06]\n",
      "[PairOptimizer.optimize] curves_t WETH-6Cc2/USDC-eB48\n",
      "[PairOptimizer.optimize] p_optimal OptimizerBase.SimpleResult(result=1888.9922146298663, method='bisection', errormsg=None, context_dct=None) full_result [ 8.64383765e-09 -1.63316727e-05]\n",
      "[PairOptimizer.optimize] curves_t WETH-6Cc2/USDC-eB48\n",
      "[PairOptimizer.optimize] p_optimal OptimizerBase.SimpleResult(result=1888.9922146297727, method='bisection', errormsg=None, context_dct=None) full_result [ 1.30385160e-08 -2.46167183e-05]\n",
      "[PairOptimizer.optimize] curves_t WETH-6Cc2/USDC-eB48\n",
      "[PairOptimizer.optimize] p_optimal OptimizerBase.SimpleResult(result=1888.9922146295776, method='bisection', errormsg=None, context_dct=None) full_result [ 2.21771188e-08 -4.18424606e-05]\n",
      "[PairOptimizer.optimize] curves_t WETH-6Cc2/USDC-eB48\n",
      "[PairOptimizer.optimize] p_optimal OptimizerBase.SimpleResult(result=1888.9922146300873, method='bisection', errormsg=None, context_dct=None) full_result [-1.71712600e-09  3.27825546e-06]\n",
      "[PairOptimizer.optimize] curves_t WETH-6Cc2/USDC-eB48\n",
      "[PairOptimizer.optimize] p_optimal OptimizerBase.SimpleResult(result=1888.9922146295798, method='bisection', errormsg=None, context_dct=None) full_result [ 2.20607035e-08 -4.16636467e-05]\n",
      "[PairOptimizer.optimize] curves_t WETH-6Cc2/USDC-eB48\n",
      "[PairOptimizer.optimize] p_optimal OptimizerBase.SimpleResult(result=1888.9922146299475, method='bisection', errormsg=None, context_dct=None) full_result [ 4.83123586e-09 -9.11951065e-06]\n",
      "[PairOptimizer.optimize] curves_t WETH-6Cc2/USDC-eB48\n",
      "[PairOptimizer.optimize] p_optimal OptimizerBase.SimpleResult(result=1888.9922146300873, method='bisection', errormsg=None, context_dct=None) full_result [-1.71712600e-09  3.27825546e-06]\n",
      "[PairOptimizer.optimize] curves_t WETH-6Cc2/USDC-eB48\n",
      "[PairOptimizer.optimize] p_optimal OptimizerBase.SimpleResult(result=1888.9922146306799, method='bisection', errormsg=None, context_dct=None) full_result [-2.94821803e-08  5.57303429e-05]\n",
      "[PairOptimizer.optimize] curves_t WETH-6Cc2/USDC-eB48\n",
      "[PairOptimizer.optimize] p_optimal OptimizerBase.SimpleResult(result=1888.9922146300873, method='bisection', errormsg=None, context_dct=None) full_result [-1.71712600e-09  3.27825546e-06]\n",
      "[PairOptimizer.optimize] curves_t WETH-6Cc2/USDC-eB48\n",
      "[PairOptimizer.optimize] p_optimal OptimizerBase.SimpleResult(result=1888.992214629823, method='bisection', errormsg=None, context_dct=None) full_result [ 1.06811058e-08 -2.01463699e-05]\n"
     ]
    },
    {
     "data": {
      "application/vnd.jupyter.widget-view+json": {
       "model_id": "81ce0bdde7ee466a9cea1055890e2c49",
       "version_major": 2,
       "version_minor": 0
      },
      "text/plain": [
       "  0%|          | 0/18 [00:00<?, ?it/s]"
      ]
     },
     "metadata": {},
     "output_type": "display_data"
    },
    {
     "name": "stdout",
     "output_type": "stream",
     "text": [
      "[PairOptimizer.optimize] curves_t WETH-6Cc2/DAI-1d0F\n",
      "[PairOptimizer.optimize] p_optimal OptimizerBase.SimpleResult(result=1889.851635528572, method='bisection', errormsg=None, context_dct=None) full_result [-5.12227416e-09  9.67085361e-06]\n",
      "[PairOptimizer.optimize] curves_t WETH-6Cc2/DAI-1d0F\n",
      "[PairOptimizer.optimize] p_optimal OptimizerBase.SimpleResult(result=1889.8516355283218, method='bisection', errormsg=None, context_dct=None) full_result [-2.50292942e-09  4.73856926e-06]\n",
      "[PairOptimizer.optimize] curves_t WETH-6Cc2/DAI-1d0F\n",
      "[PairOptimizer.optimize] p_optimal OptimizerBase.SimpleResult(result=1889.8516355280997, method='bisection', errormsg=None, context_dct=None) full_result [-1.74622983e-10  3.42726707e-07]\n",
      "[PairOptimizer.optimize] curves_t WETH-6Cc2/DAI-1d0F\n",
      "[PairOptimizer.optimize] p_optimal OptimizerBase.SimpleResult(result=1889.8516355278348, method='bisection', errormsg=None, context_dct=None) full_result [ 2.59751687e-09 -4.91738319e-06]\n",
      "[PairOptimizer.optimize] curves_t WETH-6Cc2/DAI-1d0F\n",
      "[PairOptimizer.optimize] p_optimal OptimizerBase.SimpleResult(result=1889.8516355280783, method='bisection', errormsg=None, context_dct=None) full_result [ 5.09317023e-11 -8.94069672e-08]\n",
      "[PairOptimizer.optimize] curves_t WETH-6Cc2/DAI-1d0F\n",
      "[PairOptimizer.optimize] p_optimal OptimizerBase.SimpleResult(result=1889.8516355275206, method='bisection', errormsg=None, context_dct=None) full_result [ 5.88624971e-09 -1.11311674e-05]\n",
      "[PairOptimizer.optimize] curves_t WETH-6Cc2/DAI-1d0F\n",
      "[PairOptimizer.optimize] p_optimal OptimizerBase.SimpleResult(result=1889.8516355279294, method='bisection', errormsg=None, context_dct=None) full_result [ 1.60798663e-09 -3.03983688e-06]\n",
      "[PairOptimizer.optimize] curves_t WETH-6Cc2/DAI-1d0F\n",
      "[PairOptimizer.optimize] p_optimal OptimizerBase.SimpleResult(result=1889.8516355281563, method='bisection', errormsg=None, context_dct=None) full_result [-7.71251507e-10  1.46031380e-06]\n",
      "[PairOptimizer.optimize] curves_t WETH-6Cc2/DAI-1d0F\n",
      "[PairOptimizer.optimize] p_optimal OptimizerBase.SimpleResult(result=1889.8516355283907, method='bisection', errormsg=None, context_dct=None) full_result [-3.23052518e-09  6.09457493e-06]\n",
      "[PairOptimizer.optimize] curves_t WETH-6Cc2/DAI-1d0F\n",
      "[PairOptimizer.optimize] p_optimal OptimizerBase.SimpleResult(result=1889.2342508777206, method='bisection', errormsg=None, context_dct=None) full_result [ 5.60248736e-10 -1.05053186e-06]\n",
      "[PairOptimizer.optimize] curves_t WETH-6Cc2/DAI-1d0F\n",
      "[PairOptimizer.optimize] p_optimal OptimizerBase.SimpleResult(result=1889.2342508777572, method='bisection', errormsg=None, context_dct=None) full_result [ 2.40106601e-10 -4.47034836e-07]\n",
      "[PairOptimizer.optimize] curves_t WETH-6Cc2/DAI-1d0F\n",
      "[PairOptimizer.optimize] p_optimal OptimizerBase.SimpleResult(result=1889.2342508777629, method='bisection', errormsg=None, context_dct=None) full_result [ 1.89174898e-10 -3.57627869e-07]\n",
      "[PairOptimizer.optimize] curves_t WETH-6Cc2/DAI-1d0F\n",
      "[PairOptimizer.optimize] p_optimal OptimizerBase.SimpleResult(result=1889.234250877536, method='bisection', errormsg=None, context_dct=None) full_result [ 2.15004547e-09 -4.06056643e-06]\n",
      "[PairOptimizer.optimize] curves_t WETH-6Cc2/DAI-1d0F\n",
      "[PairOptimizer.optimize] p_optimal OptimizerBase.SimpleResult(result=1889.234250876973, method='bisection', errormsg=None, context_dct=None) full_result [ 7.02129910e-09 -1.32620335e-05]\n",
      "[PairOptimizer.optimize] curves_t WETH-6Cc2/DAI-1d0F\n",
      "[PairOptimizer.optimize] p_optimal OptimizerBase.SimpleResult(result=1889.2342508772217, method='bisection', errormsg=None, context_dct=None) full_result [ 4.87125362e-09 -9.19401646e-06]\n",
      "[PairOptimizer.optimize] curves_t WETH-6Cc2/DAI-1d0F\n",
      "[PairOptimizer.optimize] p_optimal OptimizerBase.SimpleResult(result=1889.23425087766, method='bisection', errormsg=None, context_dct=None) full_result [ 1.07684173e-09 -2.03400850e-06]\n",
      "[PairOptimizer.optimize] curves_t WETH-6Cc2/DAI-1d0F\n",
      "[PairOptimizer.optimize] p_optimal OptimizerBase.SimpleResult(result=1889.234250877545, method='bisection', errormsg=None, context_dct=None) full_result [ 2.07364792e-09 -3.91155481e-06]\n",
      "[PairOptimizer.optimize] curves_t WETH-6Cc2/DAI-1d0F\n",
      "[PairOptimizer.optimize] p_optimal OptimizerBase.SimpleResult(result=1889.2342508780198, method='bisection', errormsg=None, context_dct=None) full_result [-2.02635420e-09  3.82959843e-06]\n"
     ]
    },
    {
     "data": {
      "application/vnd.jupyter.widget-view+json": {
       "model_id": "2cabea9cb33a45e0b16feea8ef849a44",
       "version_major": 2,
       "version_minor": 0
      },
      "text/plain": [
       "0it [00:00, ?it/s]"
      ]
     },
     "metadata": {},
     "output_type": "display_data"
    },
    {
     "data": {
      "application/vnd.jupyter.widget-view+json": {
       "model_id": "ed0f423bc6d04cc28e1c00c6e10539de",
       "version_major": 2,
       "version_minor": 0
      },
      "text/plain": [
       "0it [00:00, ?it/s]"
      ]
     },
     "metadata": {},
     "output_type": "display_data"
    },
    {
     "data": {
      "application/vnd.jupyter.widget-view+json": {
       "model_id": "7a8c06ee4f844c8b9c89a437d28414c8",
       "version_major": 2,
       "version_minor": 0
      },
      "text/plain": [
       "  0%|          | 0/4 [00:00<?, ?it/s]"
      ]
     },
     "metadata": {},
     "output_type": "display_data"
    },
    {
     "name": "stdout",
     "output_type": "stream",
     "text": [
      "[PairOptimizer.optimize] curves_t WETH-6Cc2/BNT-FF1C\n",
      "[PairOptimizer.optimize] p_optimal OptimizerBase.SimpleResult(result=4764.128744550646, method='bisection', errormsg=None, context_dct=None) full_result [-5.01323496e-04 -9.32934199e-07]\n",
      "[PairOptimizer.optimize] curves_t WETH-6Cc2/BNT-FF1C\n",
      "[PairOptimizer.optimize] p_optimal OptimizerBase.SimpleResult(result=4764.138098143359, method='bisection', errormsg=None, context_dct=None) full_result [ 1.95996108e-10 -9.35047865e-07]\n",
      "[PairOptimizer.optimize] curves_t WETH-6Cc2/BNT-FF1C\n",
      "[PairOptimizer.optimize] p_optimal OptimizerBase.SimpleResult(result=4764.138098141909, method='bisection', errormsg=None, context_dct=None) full_result [ 7.35781214e-10 -3.50549817e-06]\n",
      "[PairOptimizer.optimize] curves_t WETH-6Cc2/BNT-FF1C\n",
      "[PairOptimizer.optimize] p_optimal OptimizerBase.SimpleResult(result=4764.138098143836, method='bisection', errormsg=None, context_dct=None) full_result [ 1.86446414e-11 -8.94069672e-08]\n"
     ]
    },
    {
     "data": {
      "application/vnd.jupyter.widget-view+json": {
       "model_id": "c8dbfe9d75584913a4234370ae16307c",
       "version_major": 2,
       "version_minor": 0
      },
      "text/plain": [
       "  0%|          | 0/6 [00:00<?, ?it/s]"
      ]
     },
     "metadata": {},
     "output_type": "display_data"
    },
    {
     "name": "stdout",
     "output_type": "stream",
     "text": [
      "[PairOptimizer.optimize] curves_t BNT-FF1C/USDC-eB48\n",
      "[PairOptimizer.optimize] p_optimal OptimizerBase.SimpleResult(result=0.3933388484434187, method='bisection', errormsg=None, context_dct=None) full_result [ 2.20257789e-07 -8.66129994e-08]\n",
      "[PairOptimizer.optimize] curves_t BNT-FF1C/USDC-eB48\n",
      "[PairOptimizer.optimize] p_optimal OptimizerBase.SimpleResult(result=0.3933388484435465, method='bisection', errormsg=None, context_dct=None) full_result [-2.22586095e-07  8.75443220e-08]\n",
      "[PairOptimizer.optimize] curves_t BNT-FF1C/USDC-eB48\n",
      "[PairOptimizer.optimize] p_optimal OptimizerBase.SimpleResult(result=0.3933388484434076, method='bisection', errormsg=None, context_dct=None) full_result [ 2.58907676e-07 -1.01746991e-07]\n",
      "[PairOptimizer.optimize] curves_t BNT-FF1C/USDC-eB48\n",
      "[PairOptimizer.optimize] p_optimal OptimizerBase.SimpleResult(result=0.39333884844358136, method='bisection', errormsg=None, context_dct=None) full_result [-3.43192369e-07  1.35041773e-07]\n",
      "[PairOptimizer.optimize] curves_t BNT-FF1C/USDC-eB48\n",
      "[PairOptimizer.optimize] p_optimal OptimizerBase.SimpleResult(result=0.39333798799177033, method='bisection', errormsg=None, context_dct=None) full_result [-1.90921128e-07 -9.95196286e-03]\n",
      "[PairOptimizer.optimize] curves_t BNT-FF1C/USDC-eB48\n",
      "[PairOptimizer.optimize] p_optimal OptimizerBase.SimpleResult(result=0.3933388484434884, method='bisection', errormsg=None, context_dct=None) full_result [-2.09547579e-08  8.14907253e-09]\n"
     ]
    },
    {
     "data": {
      "application/vnd.jupyter.widget-view+json": {
       "model_id": "bb54b912369645e2808d8b1b8141489b",
       "version_major": 2,
       "version_minor": 0
      },
      "text/plain": [
       "  0%|          | 0/2 [00:00<?, ?it/s]"
      ]
     },
     "metadata": {},
     "output_type": "display_data"
    },
    {
     "name": "stdout",
     "output_type": "stream",
     "text": [
      "[PairOptimizer.optimize] curves_t LINK-86CA/USDT-1ec7\n",
      "[PairOptimizer.optimize] p_optimal OptimizerBase.SimpleResult(result=6.19811711141325, method='bisection', errormsg=None, context_dct=None) full_result [ 6.92898627e-10 -8.85219641e-03]\n",
      "[PairOptimizer.optimize] curves_t LINK-86CA/USDT-1ec7\n",
      "[PairOptimizer.optimize] p_optimal OptimizerBase.SimpleResult(result=6.198055572670811, method='bisection', errormsg=None, context_dct=None) full_result [-4.04725142e-10  2.51020538e-09]\n"
     ]
    },
    {
     "data": {
      "application/vnd.jupyter.widget-view+json": {
       "model_id": "9a201debf03e4b1389b16b00ad4bfd13",
       "version_major": 2,
       "version_minor": 0
      },
      "text/plain": [
       "  0%|          | 0/2 [00:00<?, ?it/s]"
      ]
     },
     "metadata": {},
     "output_type": "display_data"
    },
    {
     "name": "stdout",
     "output_type": "stream",
     "text": [
      "[PairOptimizer.optimize] curves_t LINK-86CA/WETH-6Cc2\n",
      "[PairOptimizer.optimize] p_optimal OptimizerBase.SimpleResult(result=0.0033128000163160634, method='bisection', errormsg=None, context_dct=None) full_result [ 3.74391675e-06 -1.24127837e-08]\n",
      "[PairOptimizer.optimize] curves_t LINK-86CA/WETH-6Cc2\n",
      "[PairOptimizer.optimize] p_optimal OptimizerBase.SimpleResult(result=0.0033127999417103446, method='bisection', errormsg=None, context_dct=None) full_result [-2.84612179e-06 -2.81119865e-05]\n"
     ]
    },
    {
     "data": {
      "application/vnd.jupyter.widget-view+json": {
       "model_id": "7903562cd02243ccbaa9d777df2e7d89",
       "version_major": 2,
       "version_minor": 0
      },
      "text/plain": [
       "0it [00:00, ?it/s]"
      ]
     },
     "metadata": {},
     "output_type": "display_data"
    },
    {
     "data": {
      "application/vnd.jupyter.widget-view+json": {
       "model_id": "aa19ea8790284caa899126c31dbb6b7e",
       "version_major": 2,
       "version_minor": 0
      },
      "text/plain": [
       "  0%|          | 0/2 [00:00<?, ?it/s]"
      ]
     },
     "metadata": {},
     "output_type": "display_data"
    },
    {
     "name": "stdout",
     "output_type": "stream",
     "text": [
      "[PairOptimizer.optimize] curves_t CRV-cd52/USDC-eB48\n",
      "[PairOptimizer.optimize] p_optimal OptimizerBase.SimpleResult(result=0.7931937487429332, method='bisection', errormsg=None, context_dct=None) full_result [-2.58442014e-08 -1.90724513e-01]\n",
      "[PairOptimizer.optimize] curves_t CRV-cd52/USDC-eB48\n",
      "[PairOptimizer.optimize] p_optimal OptimizerBase.SimpleResult(result=0.7931903130686275, method='bisection', errormsg=None, context_dct=None) full_result [-2.30502337e-08  1.81607902e-08]\n"
     ]
    },
    {
     "data": {
      "application/vnd.jupyter.widget-view+json": {
       "model_id": "af128ad15c7841e18f190669e76ce202",
       "version_major": 2,
       "version_minor": 0
      },
      "text/plain": [
       "0it [00:00, ?it/s]"
      ]
     },
     "metadata": {},
     "output_type": "display_data"
    },
    {
     "data": {
      "application/vnd.jupyter.widget-view+json": {
       "model_id": "4fd30913b424450091be4d3ecac00060",
       "version_major": 2,
       "version_minor": 0
      },
      "text/plain": [
       "0it [00:00, ?it/s]"
      ]
     },
     "metadata": {},
     "output_type": "display_data"
    },
    {
     "data": {
      "application/vnd.jupyter.widget-view+json": {
       "model_id": "8c1f647e3a074979805dfc1d503d501a",
       "version_major": 2,
       "version_minor": 0
      },
      "text/plain": [
       "0it [00:00, ?it/s]"
      ]
     },
     "metadata": {},
     "output_type": "display_data"
    },
    {
     "data": {
      "application/vnd.jupyter.widget-view+json": {
       "model_id": "a2879b7b1a7646e5b4073a0c77c9b17c",
       "version_major": 2,
       "version_minor": 0
      },
      "text/plain": [
       "0it [00:00, ?it/s]"
      ]
     },
     "metadata": {},
     "output_type": "display_data"
    },
    {
     "data": {
      "application/vnd.jupyter.widget-view+json": {
       "model_id": "0d2f30c7da454d36a8125f7621699079",
       "version_major": 2,
       "version_minor": 0
      },
      "text/plain": [
       "  0%|          | 0/2 [00:00<?, ?it/s]"
      ]
     },
     "metadata": {},
     "output_type": "display_data"
    },
    {
     "name": "stdout",
     "output_type": "stream",
     "text": [
      "[PairOptimizer.optimize] curves_t HEX-eb39/WETH-6Cc2\n",
      "[PairOptimizer.optimize] p_optimal OptimizerBase.SimpleResult(result=4.639072734871654e-06, method='bisection', errormsg=None, context_dct=None) full_result [ 6.18013860e-06 -1.40883161e-03]\n",
      "[PairOptimizer.optimize] curves_t HEX-eb39/WETH-6Cc2\n",
      "[PairOptimizer.optimize] p_optimal OptimizerBase.SimpleResult(result=4.617372379227854e-06, method='bisection', errormsg=None, context_dct=None) full_result [-3.09833574e-05 -1.42138817e-03]\n"
     ]
    },
    {
     "data": {
      "application/vnd.jupyter.widget-view+json": {
       "model_id": "acaafe8f45f04446b5c481b882256670",
       "version_major": 2,
       "version_minor": 0
      },
      "text/plain": [
       "0it [00:00, ?it/s]"
      ]
     },
     "metadata": {},
     "output_type": "display_data"
    },
    {
     "data": {
      "application/vnd.jupyter.widget-view+json": {
       "model_id": "3d2bb289d0ab4f3e83a6f33150d8b301",
       "version_major": 2,
       "version_minor": 0
      },
      "text/plain": [
       "0it [00:00, ?it/s]"
      ]
     },
     "metadata": {},
     "output_type": "display_data"
    },
    {
     "data": {
      "application/vnd.jupyter.widget-view+json": {
       "model_id": "c0c60c70e99843d8bcc7dbe81ad47192",
       "version_major": 2,
       "version_minor": 0
      },
      "text/plain": [
       "0it [00:00, ?it/s]"
      ]
     },
     "metadata": {},
     "output_type": "display_data"
    },
    {
     "data": {
      "application/vnd.jupyter.widget-view+json": {
       "model_id": "dd0c700917f24b76a664ba825d8292ce",
       "version_major": 2,
       "version_minor": 0
      },
      "text/plain": [
       "  0%|          | 0/1 [00:00<?, ?it/s]"
      ]
     },
     "metadata": {},
     "output_type": "display_data"
    },
    {
     "name": "stdout",
     "output_type": "stream",
     "text": [
      "[PairOptimizer.optimize] curves_t TSUKA-69eD/USDC-eB48\n",
      "[PairOptimizer.optimize] p_optimal OptimizerBase.SimpleResult(result=0.031129990028112127, method='bisection', errormsg=None, context_dct=None) full_result [ 1.87428668e-08 -5.82986104e-10]\n"
     ]
    },
    {
     "data": {
      "application/vnd.jupyter.widget-view+json": {
       "model_id": "acf6cac633ea4693ae95db0857d70376",
       "version_major": 2,
       "version_minor": 0
      },
      "text/plain": [
       "0it [00:00, ?it/s]"
      ]
     },
     "metadata": {},
     "output_type": "display_data"
    },
    {
     "data": {
      "application/vnd.jupyter.widget-view+json": {
       "model_id": "827d2f88fcf74727aea5df92de277951",
       "version_major": 2,
       "version_minor": 0
      },
      "text/plain": [
       "0it [00:00, ?it/s]"
      ]
     },
     "metadata": {},
     "output_type": "display_data"
    },
    {
     "data": {
      "application/vnd.jupyter.widget-view+json": {
       "model_id": "f524f6ef0f8b46c98f0933a9978eb518",
       "version_major": 2,
       "version_minor": 0
      },
      "text/plain": [
       "0it [00:00, ?it/s]"
      ]
     },
     "metadata": {},
     "output_type": "display_data"
    },
    {
     "data": {
      "application/vnd.jupyter.widget-view+json": {
       "model_id": "b69748c83ca94db686a846fc289b1690",
       "version_major": 2,
       "version_minor": 0
      },
      "text/plain": [
       "0it [00:00, ?it/s]"
      ]
     },
     "metadata": {},
     "output_type": "display_data"
    },
    {
     "data": {
      "application/vnd.jupyter.widget-view+json": {
       "model_id": "5b0cbc1c46184d5496f6ff66821a50d9",
       "version_major": 2,
       "version_minor": 0
      },
      "text/plain": [
       "0it [00:00, ?it/s]"
      ]
     },
     "metadata": {},
     "output_type": "display_data"
    },
    {
     "data": {
      "application/vnd.jupyter.widget-view+json": {
       "model_id": "65f652d589014b83813dfc42048ff797",
       "version_major": 2,
       "version_minor": 0
      },
      "text/plain": [
       "  0%|          | 0/2 [00:00<?, ?it/s]"
      ]
     },
     "metadata": {},
     "output_type": "display_data"
    },
    {
     "name": "stdout",
     "output_type": "stream",
     "text": [
      "[PairOptimizer.optimize] curves_t LYXe-be6D/WETH-6Cc2\n",
      "[PairOptimizer.optimize] p_optimal OptimizerBase.SimpleResult(result=0.004425455338543597, method='bisection', errormsg=None, context_dct=None) full_result [-6.97036739e-09  3.08659764e-11]\n",
      "[PairOptimizer.optimize] curves_t LYXe-be6D/WETH-6Cc2\n",
      "[PairOptimizer.optimize] p_optimal OptimizerBase.SimpleResult(result=0.004418792395805483, method='bisection', errormsg=None, context_dct=None) full_result [ 1.22963684e-09 -5.43565193e-12]\n"
     ]
    },
    {
     "data": {
      "application/vnd.jupyter.widget-view+json": {
       "model_id": "96c70883dc644d27949cbfbe1e17395b",
       "version_major": 2,
       "version_minor": 0
      },
      "text/plain": [
       "0it [00:00, ?it/s]"
      ]
     },
     "metadata": {},
     "output_type": "display_data"
    },
    {
     "data": {
      "application/vnd.jupyter.widget-view+json": {
       "model_id": "7b37244664b24ebba936ffac593f2ea6",
       "version_major": 2,
       "version_minor": 0
      },
      "text/plain": [
       "0it [00:00, ?it/s]"
      ]
     },
     "metadata": {},
     "output_type": "display_data"
    },
    {
     "data": {
      "application/vnd.jupyter.widget-view+json": {
       "model_id": "f461627a5b6a46cba952187b03566aaf",
       "version_major": 2,
       "version_minor": 0
      },
      "text/plain": [
       "0it [00:00, ?it/s]"
      ]
     },
     "metadata": {},
     "output_type": "display_data"
    },
    {
     "data": {
      "application/vnd.jupyter.widget-view+json": {
       "model_id": "63f882ada2b94e41be2758355b5398c2",
       "version_major": 2,
       "version_minor": 0
      },
      "text/plain": [
       "  0%|          | 0/4 [00:00<?, ?it/s]"
      ]
     },
     "metadata": {},
     "output_type": "display_data"
    },
    {
     "name": "stdout",
     "output_type": "stream",
     "text": [
      "[PairOptimizer.optimize] curves_t agEUR-Bce8/USDC-eB48\n",
      "[PairOptimizer.optimize] p_optimal OptimizerBase.SimpleResult(result=1.1012586819934904, method='bisection', errormsg=None, context_dct=None) full_result [ 2.15768814e-05 -2.37524509e-05]\n",
      "[PairOptimizer.optimize] curves_t agEUR-Bce8/USDC-eB48\n",
      "[PairOptimizer.optimize] p_optimal OptimizerBase.SimpleResult(result=1.1012068414304432, method='bisection', errormsg=None, context_dct=None) full_result [-1.07367523e-05 -1.18744592e+01]\n",
      "[PairOptimizer.optimize] curves_t agEUR-Bce8/USDC-eB48\n",
      "[PairOptimizer.optimize] p_optimal OptimizerBase.SimpleResult(result=1.0977629060275782, method='bisection', errormsg=None, context_dct=None) full_result [ 1.81025825e-08 -1.99652277e-08]\n",
      "[PairOptimizer.optimize] curves_t agEUR-Bce8/USDC-eB48\n",
      "[PairOptimizer.optimize] p_optimal OptimizerBase.SimpleResult(result=1.0954248748364375, method='bisection', errormsg=None, context_dct=None) full_result [-5.43659553e-08 -2.33145547e-01]\n"
     ]
    },
    {
     "data": {
      "application/vnd.jupyter.widget-view+json": {
       "model_id": "89c91db1dad94d34a04ab54efb28b6fc",
       "version_major": 2,
       "version_minor": 0
      },
      "text/plain": [
       "  0%|          | 0/4 [00:00<?, ?it/s]"
      ]
     },
     "metadata": {},
     "output_type": "display_data"
    },
    {
     "name": "stdout",
     "output_type": "stream",
     "text": [
      "[PairOptimizer.optimize] curves_t DAI-1d0F/USDT-1ec7\n",
      "[PairOptimizer.optimize] p_optimal OptimizerBase.SimpleResult(result=0.9998810288348383, method='bisection', errormsg=None, context_dct=None) full_result [-0.00010109  0.00010061]\n",
      "[PairOptimizer.optimize] curves_t DAI-1d0F/USDT-1ec7\n",
      "[PairOptimizer.optimize] p_optimal OptimizerBase.SimpleResult(result=0.9998810288345285, method='bisection', errormsg=None, context_dct=None) full_result [ 0.00048351 -0.00048351]\n",
      "[PairOptimizer.optimize] curves_t DAI-1d0F/USDT-1ec7\n",
      "[PairOptimizer.optimize] p_optimal OptimizerBase.SimpleResult(result=1.0000277727934523, method='bisection', errormsg=None, context_dct=None) full_result [-4.46438789e-05  4.47034836e-05]\n",
      "[PairOptimizer.optimize] curves_t DAI-1d0F/USDT-1ec7\n",
      "[PairOptimizer.optimize] p_optimal OptimizerBase.SimpleResult(result=1.000027772793279, method='bisection', errormsg=None, context_dct=None) full_result [-1.69277191e-05  1.69873238e-05]\n"
     ]
    },
    {
     "data": {
      "application/vnd.jupyter.widget-view+json": {
       "model_id": "e647d87f064b4a37a83179912824cff3",
       "version_major": 2,
       "version_minor": 0
      },
      "text/plain": [
       "  0%|          | 0/18 [00:00<?, ?it/s]"
      ]
     },
     "metadata": {},
     "output_type": "display_data"
    },
    {
     "name": "stdout",
     "output_type": "stream",
     "text": [
      "[PairOptimizer.optimize] curves_t WETH-6Cc2/DAI-1d0F\n",
      "[PairOptimizer.optimize] p_optimal OptimizerBase.SimpleResult(result=1889.851635528572, method='bisection', errormsg=None, context_dct=None) full_result [-5.12227416e-09  9.67085361e-06]\n",
      "[PairOptimizer.optimize] curves_t WETH-6Cc2/DAI-1d0F\n",
      "[PairOptimizer.optimize] p_optimal OptimizerBase.SimpleResult(result=1889.8516355283218, method='bisection', errormsg=None, context_dct=None) full_result [-2.50292942e-09  4.73856926e-06]\n",
      "[PairOptimizer.optimize] curves_t WETH-6Cc2/DAI-1d0F\n",
      "[PairOptimizer.optimize] p_optimal OptimizerBase.SimpleResult(result=1889.8516355280997, method='bisection', errormsg=None, context_dct=None) full_result [-1.74622983e-10  3.42726707e-07]\n",
      "[PairOptimizer.optimize] curves_t WETH-6Cc2/DAI-1d0F\n",
      "[PairOptimizer.optimize] p_optimal OptimizerBase.SimpleResult(result=1889.8516355278348, method='bisection', errormsg=None, context_dct=None) full_result [ 2.59751687e-09 -4.91738319e-06]\n",
      "[PairOptimizer.optimize] curves_t WETH-6Cc2/DAI-1d0F\n",
      "[PairOptimizer.optimize] p_optimal OptimizerBase.SimpleResult(result=1889.8516355280783, method='bisection', errormsg=None, context_dct=None) full_result [ 5.09317023e-11 -8.94069672e-08]\n",
      "[PairOptimizer.optimize] curves_t WETH-6Cc2/DAI-1d0F\n",
      "[PairOptimizer.optimize] p_optimal OptimizerBase.SimpleResult(result=1889.8516355275206, method='bisection', errormsg=None, context_dct=None) full_result [ 5.88624971e-09 -1.11311674e-05]\n",
      "[PairOptimizer.optimize] curves_t WETH-6Cc2/DAI-1d0F\n",
      "[PairOptimizer.optimize] p_optimal OptimizerBase.SimpleResult(result=1889.8516355279294, method='bisection', errormsg=None, context_dct=None) full_result [ 1.60798663e-09 -3.03983688e-06]\n",
      "[PairOptimizer.optimize] curves_t WETH-6Cc2/DAI-1d0F\n",
      "[PairOptimizer.optimize] p_optimal OptimizerBase.SimpleResult(result=1889.8516355281563, method='bisection', errormsg=None, context_dct=None) full_result [-7.71251507e-10  1.46031380e-06]\n",
      "[PairOptimizer.optimize] curves_t WETH-6Cc2/DAI-1d0F\n",
      "[PairOptimizer.optimize] p_optimal OptimizerBase.SimpleResult(result=1889.8516355283907, method='bisection', errormsg=None, context_dct=None) full_result [-3.23052518e-09  6.09457493e-06]\n",
      "[PairOptimizer.optimize] curves_t WETH-6Cc2/DAI-1d0F\n",
      "[PairOptimizer.optimize] p_optimal OptimizerBase.SimpleResult(result=1889.2342508777206, method='bisection', errormsg=None, context_dct=None) full_result [ 5.60248736e-10 -1.05053186e-06]\n",
      "[PairOptimizer.optimize] curves_t WETH-6Cc2/DAI-1d0F\n",
      "[PairOptimizer.optimize] p_optimal OptimizerBase.SimpleResult(result=1889.2342508777572, method='bisection', errormsg=None, context_dct=None) full_result [ 2.40106601e-10 -4.47034836e-07]\n",
      "[PairOptimizer.optimize] curves_t WETH-6Cc2/DAI-1d0F\n",
      "[PairOptimizer.optimize] p_optimal OptimizerBase.SimpleResult(result=1889.2342508777629, method='bisection', errormsg=None, context_dct=None) full_result [ 1.89174898e-10 -3.57627869e-07]\n",
      "[PairOptimizer.optimize] curves_t WETH-6Cc2/DAI-1d0F\n",
      "[PairOptimizer.optimize] p_optimal OptimizerBase.SimpleResult(result=1889.234250877536, method='bisection', errormsg=None, context_dct=None) full_result [ 2.15004547e-09 -4.06056643e-06]\n",
      "[PairOptimizer.optimize] curves_t WETH-6Cc2/DAI-1d0F\n",
      "[PairOptimizer.optimize] p_optimal OptimizerBase.SimpleResult(result=1889.234250876973, method='bisection', errormsg=None, context_dct=None) full_result [ 7.02129910e-09 -1.32620335e-05]\n",
      "[PairOptimizer.optimize] curves_t WETH-6Cc2/DAI-1d0F\n",
      "[PairOptimizer.optimize] p_optimal OptimizerBase.SimpleResult(result=1889.2342508772217, method='bisection', errormsg=None, context_dct=None) full_result [ 4.87125362e-09 -9.19401646e-06]\n",
      "[PairOptimizer.optimize] curves_t WETH-6Cc2/DAI-1d0F\n",
      "[PairOptimizer.optimize] p_optimal OptimizerBase.SimpleResult(result=1889.23425087766, method='bisection', errormsg=None, context_dct=None) full_result [ 1.07684173e-09 -2.03400850e-06]\n",
      "[PairOptimizer.optimize] curves_t WETH-6Cc2/DAI-1d0F\n",
      "[PairOptimizer.optimize] p_optimal OptimizerBase.SimpleResult(result=1889.234250877545, method='bisection', errormsg=None, context_dct=None) full_result [ 2.07364792e-09 -3.91155481e-06]\n",
      "[PairOptimizer.optimize] curves_t WETH-6Cc2/DAI-1d0F\n",
      "[PairOptimizer.optimize] p_optimal OptimizerBase.SimpleResult(result=1889.2342508780198, method='bisection', errormsg=None, context_dct=None) full_result [-2.02635420e-09  3.82959843e-06]\n"
     ]
    },
    {
     "data": {
      "application/vnd.jupyter.widget-view+json": {
       "model_id": "6280fa53f2ee4aa5829e7d6f61af8160",
       "version_major": 2,
       "version_minor": 0
      },
      "text/plain": [
       "  0%|          | 0/4 [00:00<?, ?it/s]"
      ]
     },
     "metadata": {},
     "output_type": "display_data"
    },
    {
     "name": "stdout",
     "output_type": "stream",
     "text": [
      "[PairOptimizer.optimize] curves_t DAI-1d0F/USDC-eB48\n",
      "[PairOptimizer.optimize] p_optimal OptimizerBase.SimpleResult(result=1.0003813756302735, method='bisection', errormsg=None, context_dct=None) full_result [ 0.00042725 -0.00042725]\n",
      "[PairOptimizer.optimize] curves_t DAI-1d0F/USDC-eB48\n",
      "[PairOptimizer.optimize] p_optimal OptimizerBase.SimpleResult(result=1.000381375630044, method='bisection', errormsg=None, context_dct=None) full_result [ 0.00753784 -0.00754547]\n",
      "[PairOptimizer.optimize] curves_t DAI-1d0F/USDC-eB48\n",
      "[PairOptimizer.optimize] p_optimal OptimizerBase.SimpleResult(result=0.999979963573878, method='bisection', errormsg=None, context_dct=None) full_result [ 0.02416992 -0.02410889]\n",
      "[PairOptimizer.optimize] curves_t DAI-1d0F/USDC-eB48\n",
      "[PairOptimizer.optimize] p_optimal OptimizerBase.SimpleResult(result=0.999979963573925, method='bisection', errormsg=None, context_dct=None) full_result [ 0.01159668 -0.01153564]\n"
     ]
    },
    {
     "data": {
      "application/vnd.jupyter.widget-view+json": {
       "model_id": "d82b0afa57aa4d8bbf69504459ad9484",
       "version_major": 2,
       "version_minor": 0
      },
      "text/plain": [
       "0it [00:00, ?it/s]"
      ]
     },
     "metadata": {},
     "output_type": "display_data"
    },
    {
     "data": {
      "application/vnd.jupyter.widget-view+json": {
       "model_id": "f5881fc2ab4041bebede207cc3a0d434",
       "version_major": 2,
       "version_minor": 0
      },
      "text/plain": [
       "0it [00:00, ?it/s]"
      ]
     },
     "metadata": {},
     "output_type": "display_data"
    },
    {
     "data": {
      "application/vnd.jupyter.widget-view+json": {
       "model_id": "4230f08aa5384349bed0a3ec80b1c46b",
       "version_major": 2,
       "version_minor": 0
      },
      "text/plain": [
       "0it [00:00, ?it/s]"
      ]
     },
     "metadata": {},
     "output_type": "display_data"
    },
    {
     "data": {
      "application/vnd.jupyter.widget-view+json": {
       "model_id": "af28213ba08843218b963eaa989e4d46",
       "version_major": 2,
       "version_minor": 0
      },
      "text/plain": [
       "0it [00:00, ?it/s]"
      ]
     },
     "metadata": {},
     "output_type": "display_data"
    },
    {
     "data": {
      "application/vnd.jupyter.widget-view+json": {
       "model_id": "3ab9745edcca4367a1d70c6468c4d9d0",
       "version_major": 2,
       "version_minor": 0
      },
      "text/plain": [
       "0it [00:00, ?it/s]"
      ]
     },
     "metadata": {},
     "output_type": "display_data"
    },
    {
     "data": {
      "application/vnd.jupyter.widget-view+json": {
       "model_id": "b68ac468e2554bb58f50c6aeb2978881",
       "version_major": 2,
       "version_minor": 0
      },
      "text/plain": [
       "  0%|          | 0/1 [00:00<?, ?it/s]"
      ]
     },
     "metadata": {},
     "output_type": "display_data"
    },
    {
     "name": "stdout",
     "output_type": "stream",
     "text": [
      "[PairOptimizer.optimize] curves_t WBTC-C599/USDT-1ec7\n",
      "[PairOptimizer.optimize] p_optimal OptimizerBase.SimpleResult(result=30694.613926066977, method='bisection', errormsg=None, context_dct=None) full_result [-7.29679297e-11 -1.92722695e-02]\n"
     ]
    },
    {
     "data": {
      "application/vnd.jupyter.widget-view+json": {
       "model_id": "a8a879f2bacb4e5f9d4acb519f2e913a",
       "version_major": 2,
       "version_minor": 0
      },
      "text/plain": [
       "  0%|          | 0/16 [00:00<?, ?it/s]"
      ]
     },
     "metadata": {},
     "output_type": "display_data"
    },
    {
     "name": "stdout",
     "output_type": "stream",
     "text": [
      "[PairOptimizer.optimize] curves_t WBTC-C599/WETH-6Cc2\n",
      "[PairOptimizer.optimize] p_optimal OptimizerBase.SimpleResult(result=16.25127735725492, method='bisection', errormsg=None, context_dct=None) full_result [-2.74303602e-09  4.45870683e-08]\n",
      "[PairOptimizer.optimize] curves_t WBTC-C599/WETH-6Cc2\n",
      "[PairOptimizer.optimize] p_optimal OptimizerBase.SimpleResult(result=16.251277357233576, method='bisection', errormsg=None, context_dct=None) full_result [-1.81454762e-09  2.64954920e-08]\n",
      "[PairOptimizer.optimize] curves_t WBTC-C599/WETH-6Cc2\n",
      "[PairOptimizer.optimize] p_optimal OptimizerBase.SimpleResult(result=16.25127735724241, method='bisection', errormsg=None, context_dct=None) full_result [ 3.66344466e-09 -5.94882295e-08]\n",
      "[PairOptimizer.optimize] curves_t WBTC-C599/WETH-6Cc2\n",
      "[PairOptimizer.optimize] p_optimal OptimizerBase.SimpleResult(result=16.25127735725219, method='bisection', errormsg=None, context_dct=None) full_result [-1.34605216e-09  2.18860805e-08]\n",
      "[PairOptimizer.optimize] curves_t WBTC-C599/WETH-6Cc2\n",
      "[PairOptimizer.optimize] p_optimal OptimizerBase.SimpleResult(result=16.251277357247133, method='bisection', errormsg=None, context_dct=None) full_result [ 1.24418875e-09 -2.01980583e-08]\n",
      "[PairOptimizer.optimize] curves_t WBTC-C599/WETH-6Cc2\n",
      "[PairOptimizer.optimize] p_optimal OptimizerBase.SimpleResult(result=16.251277357247766, method='bisection', errormsg=None, context_dct=None) full_result [ 9.20408638e-10 -1.49593689e-08]\n",
      "[PairOptimizer.optimize] curves_t WBTC-C599/WETH-6Cc2\n",
      "[PairOptimizer.optimize] p_optimal OptimizerBase.SimpleResult(result=16.25127564699462, method='bisection', errormsg=None, context_dct=None) full_result [ 7.75202125e-11 -5.60414833e-07]\n",
      "[PairOptimizer.optimize] curves_t WBTC-C599/WETH-6Cc2\n",
      "[PairOptimizer.optimize] p_optimal OptimizerBase.SimpleResult(result=16.25127735724613, method='bisection', errormsg=None, context_dct=None) full_result [ 1.75714376e-09 -2.85217538e-08]\n",
      "[PairOptimizer.optimize] curves_t WBTC-C599/WETH-6Cc2\n",
      "[PairOptimizer.optimize] p_optimal OptimizerBase.SimpleResult(result=16.262500335191948, method='bisection', errormsg=None, context_dct=None) full_result [-7.50151230e-09  1.22003257e-07]\n",
      "[PairOptimizer.optimize] curves_t WBTC-C599/WETH-6Cc2\n",
      "[PairOptimizer.optimize] p_optimal OptimizerBase.SimpleResult(result=16.262500335181386, method='bisection', errormsg=None, context_dct=None) full_result [-4.99414110e-09  7.80092719e-08]\n",
      "[PairOptimizer.optimize] curves_t WBTC-C599/WETH-6Cc2\n",
      "[PairOptimizer.optimize] p_optimal OptimizerBase.SimpleResult(result=16.262500335186033, method='bisection', errormsg=None, context_dct=None) full_result [-4.94765118e-10  7.91624188e-09]\n",
      "[PairOptimizer.optimize] curves_t WBTC-C599/WETH-6Cc2\n",
      "[PairOptimizer.optimize] p_optimal OptimizerBase.SimpleResult(result=16.26250033519087, method='bisection', errormsg=None, context_dct=None) full_result [-6.22821972e-09  1.01281330e-07]\n",
      "[PairOptimizer.optimize] curves_t WBTC-C599/WETH-6Cc2\n",
      "[PairOptimizer.optimize] p_optimal OptimizerBase.SimpleResult(result=16.262500335190833, method='bisection', errormsg=None, context_dct=None) full_result [-6.17728801e-09  1.00466423e-07]\n",
      "[PairOptimizer.optimize] curves_t WBTC-C599/WETH-6Cc2\n",
      "[PairOptimizer.optimize] p_optimal OptimizerBase.SimpleResult(result=16.262500335185337, method='bisection', errormsg=None, context_dct=None) full_result [ 3.34694050e-10 -5.47152013e-09]\n",
      "[PairOptimizer.optimize] curves_t WBTC-C599/WETH-6Cc2\n",
      "[PairOptimizer.optimize] p_optimal OptimizerBase.SimpleResult(result=16.26249310391707, method='bisection', errormsg=None, context_dct=None) full_result [ 3.98554079e-09 -5.36410068e-05]\n",
      "[PairOptimizer.optimize] curves_t WBTC-C599/WETH-6Cc2\n",
      "[PairOptimizer.optimize] p_optimal OptimizerBase.SimpleResult(result=16.262500335189472, method='bisection', errormsg=None, context_dct=None) full_result [-4.57657734e-09  7.43893906e-08]\n"
     ]
    },
    {
     "data": {
      "application/vnd.jupyter.widget-view+json": {
       "model_id": "7baed0b09c68410caa8661d67c932fff",
       "version_major": 2,
       "version_minor": 0
      },
      "text/plain": [
       "  0%|          | 0/16 [00:00<?, ?it/s]"
      ]
     },
     "metadata": {},
     "output_type": "display_data"
    },
    {
     "name": "stdout",
     "output_type": "stream",
     "text": [
      "[PairOptimizer.optimize] curves_t WBTC-C599/USDC-eB48\n",
      "[PairOptimizer.optimize] p_optimal OptimizerBase.SimpleResult(result=30709.171178589037, method='bisection', errormsg=None, context_dct=None) full_result [ 3.52997631e-11 -1.08499080e-06]\n",
      "[PairOptimizer.optimize] curves_t WBTC-C599/USDC-eB48\n",
      "[PairOptimizer.optimize] p_optimal OptimizerBase.SimpleResult(result=30709.17117859955, method='bisection', errormsg=None, context_dct=None) full_result [-1.14255272e-11  3.50177288e-07]\n",
      "[PairOptimizer.optimize] curves_t WBTC-C599/USDC-eB48\n",
      "[PairOptimizer.optimize] p_optimal OptimizerBase.SimpleResult(result=30709.17117859282, method='bisection', errormsg=None, context_dct=None) full_result [ 1.85309545e-11 -5.69969416e-07]\n",
      "[PairOptimizer.optimize] curves_t WBTC-C599/USDC-eB48\n",
      "[PairOptimizer.optimize] p_optimal OptimizerBase.SimpleResult(result=30709.17117859589, method='bisection', errormsg=None, context_dct=None) full_result [ 4.83169060e-12 -1.49011612e-07]\n",
      "[PairOptimizer.optimize] curves_t WBTC-C599/USDC-eB48\n",
      "[PairOptimizer.optimize] p_optimal OptimizerBase.SimpleResult(result=30709.17117859447, method='bisection', errormsg=None, context_dct=None) full_result [ 1.11413101e-11 -3.43658030e-07]\n",
      "[PairOptimizer.optimize] curves_t WBTC-C599/USDC-eB48\n",
      "[PairOptimizer.optimize] p_optimal OptimizerBase.SimpleResult(result=30709.171178601522, method='bisection', errormsg=None, context_dct=None) full_result [-2.01794137e-11  6.19329512e-07]\n",
      "[PairOptimizer.optimize] curves_t WBTC-C599/USDC-eB48\n",
      "[PairOptimizer.optimize] p_optimal OptimizerBase.SimpleResult(result=30708.386280897503, method='bisection', errormsg=None, context_dct=None) full_result [ 2.96917491e-11 -8.92271088e-01]\n",
      "[PairOptimizer.optimize] curves_t WBTC-C599/USDC-eB48\n",
      "[PairOptimizer.optimize] p_optimal OptimizerBase.SimpleResult(result=30709.171178605357, method='bisection', errormsg=None, context_dct=None) full_result [-3.72324394e-11  1.14273280e-06]\n",
      "[PairOptimizer.optimize] curves_t WBTC-C599/USDC-eB48\n",
      "[PairOptimizer.optimize] p_optimal OptimizerBase.SimpleResult(result=30681.192450067927, method='bisection', errormsg=None, context_dct=None) full_result [ 5.82986104e-10 -1.79111958e-05]\n",
      "[PairOptimizer.optimize] curves_t WBTC-C599/USDC-eB48\n",
      "[PairOptimizer.optimize] p_optimal OptimizerBase.SimpleResult(result=30681.192450086935, method='bisection', errormsg=None, context_dct=None) full_result [-8.64019967e-10  2.64942646e-05]\n",
      "[PairOptimizer.optimize] curves_t WBTC-C599/USDC-eB48\n",
      "[PairOptimizer.optimize] p_optimal OptimizerBase.SimpleResult(result=30681.192450084593, method='bisection', errormsg=None, context_dct=None) full_result [-6.85759005e-10  2.10106373e-05]\n",
      "[PairOptimizer.optimize] curves_t WBTC-C599/USDC-eB48\n",
      "[PairOptimizer.optimize] p_optimal OptimizerBase.SimpleResult(result=30681.192450076273, method='bisection', errormsg=None, context_dct=None) full_result [-5.27506927e-11  1.57952309e-06]\n",
      "[PairOptimizer.optimize] curves_t WBTC-C599/USDC-eB48\n",
      "[PairOptimizer.optimize] p_optimal OptimizerBase.SimpleResult(result=30681.19245007934, method='bisection', errormsg=None, context_dct=None) full_result [-2.85581336e-10  8.73208046e-06]\n",
      "[PairOptimizer.optimize] curves_t WBTC-C599/USDC-eB48\n",
      "[PairOptimizer.optimize] p_optimal OptimizerBase.SimpleResult(result=30681.192450081726, method='bisection', errormsg=None, context_dct=None) full_result [-4.67480277e-10  1.43349171e-05]\n",
      "[PairOptimizer.optimize] curves_t WBTC-C599/USDC-eB48\n",
      "[PairOptimizer.optimize] p_optimal OptimizerBase.SimpleResult(result=30681.149014643066, method='bisection', errormsg=None, context_dct=None) full_result [ 2.77502132e-10 -7.98431910e-01]\n",
      "[PairOptimizer.optimize] curves_t WBTC-C599/USDC-eB48\n",
      "[PairOptimizer.optimize] p_optimal OptimizerBase.SimpleResult(result=30681.192450076527, method='bisection', errormsg=None, context_dct=None) full_result [-7.18500814e-11  2.17556953e-06]\n"
     ]
    },
    {
     "data": {
      "application/vnd.jupyter.widget-view+json": {
       "model_id": "0389a423df7e4060a71e294164226262",
       "version_major": 2,
       "version_minor": 0
      },
      "text/plain": [
       "  0%|          | 0/1 [00:00<?, ?it/s]"
      ]
     },
     "metadata": {},
     "output_type": "display_data"
    },
    {
     "name": "stdout",
     "output_type": "stream",
     "text": [
      "[PairOptimizer.optimize] curves_t MATIC-eBB0/USDC-eB48\n",
      "[PairOptimizer.optimize] p_optimal OptimizerBase.SimpleResult(result=0.7402602510973211, method='bisection', errormsg=None, context_dct=None) full_result [-9.26957000e-09  6.86122803e-09]\n"
     ]
    },
    {
     "data": {
      "application/vnd.jupyter.widget-view+json": {
       "model_id": "c6405ea7db92447cbfc227261158f151",
       "version_major": 2,
       "version_minor": 0
      },
      "text/plain": [
       "0it [00:00, ?it/s]"
      ]
     },
     "metadata": {},
     "output_type": "display_data"
    },
    {
     "data": {
      "application/vnd.jupyter.widget-view+json": {
       "model_id": "1007afd6c1cb489a9e7b6bb444321c84",
       "version_major": 2,
       "version_minor": 0
      },
      "text/plain": [
       "0it [00:00, ?it/s]"
      ]
     },
     "metadata": {},
     "output_type": "display_data"
    },
    {
     "data": {
      "application/vnd.jupyter.widget-view+json": {
       "model_id": "def1030145424d77aabe99295f608a7e",
       "version_major": 2,
       "version_minor": 0
      },
      "text/plain": [
       "0it [00:00, ?it/s]"
      ]
     },
     "metadata": {},
     "output_type": "display_data"
    },
    {
     "data": {
      "application/vnd.jupyter.widget-view+json": {
       "model_id": "643610dccd8d442cabcece35ffcaa4dc",
       "version_major": 2,
       "version_minor": 0
      },
      "text/plain": [
       "0it [00:00, ?it/s]"
      ]
     },
     "metadata": {},
     "output_type": "display_data"
    },
    {
     "data": {
      "application/vnd.jupyter.widget-view+json": {
       "model_id": "4533093c1fb64672bd20603cb1c2c862",
       "version_major": 2,
       "version_minor": 0
      },
      "text/plain": [
       "0it [00:00, ?it/s]"
      ]
     },
     "metadata": {},
     "output_type": "display_data"
    },
    {
     "data": {
      "application/vnd.jupyter.widget-view+json": {
       "model_id": "54da94f129b14ae097e678235ddeed31",
       "version_major": 2,
       "version_minor": 0
      },
      "text/plain": [
       "0it [00:00, ?it/s]"
      ]
     },
     "metadata": {},
     "output_type": "display_data"
    },
    {
     "data": {
      "application/vnd.jupyter.widget-view+json": {
       "model_id": "cc45bcd081654f1ca9e05288937d9fa9",
       "version_major": 2,
       "version_minor": 0
      },
      "text/plain": [
       "0it [00:00, ?it/s]"
      ]
     },
     "metadata": {},
     "output_type": "display_data"
    },
    {
     "data": {
      "application/vnd.jupyter.widget-view+json": {
       "model_id": "108985d420ce4427b8f38dd96534c79f",
       "version_major": 2,
       "version_minor": 0
      },
      "text/plain": [
       "0it [00:00, ?it/s]"
      ]
     },
     "metadata": {},
     "output_type": "display_data"
    },
    {
     "data": {
      "application/vnd.jupyter.widget-view+json": {
       "model_id": "59de133689b442778e59cd0ad01a0d09",
       "version_major": 2,
       "version_minor": 0
      },
      "text/plain": [
       "0it [00:00, ?it/s]"
      ]
     },
     "metadata": {},
     "output_type": "display_data"
    },
    {
     "data": {
      "application/vnd.jupyter.widget-view+json": {
       "model_id": "24d9f94a8b1c40e08da9baf1ee90fcf4",
       "version_major": 2,
       "version_minor": 0
      },
      "text/plain": [
       "0it [00:00, ?it/s]"
      ]
     },
     "metadata": {},
     "output_type": "display_data"
    },
    {
     "data": {
      "application/vnd.jupyter.widget-view+json": {
       "model_id": "881ccb03ea4440f98a1961b76f7d6b64",
       "version_major": 2,
       "version_minor": 0
      },
      "text/plain": [
       "  0%|          | 0/1 [00:00<?, ?it/s]"
      ]
     },
     "metadata": {},
     "output_type": "display_data"
    },
    {
     "name": "stdout",
     "output_type": "stream",
     "text": [
      "[PairOptimizer.optimize] curves_t SMT-7173/WETH-6Cc2\n",
      "[PairOptimizer.optimize] p_optimal OptimizerBase.SimpleResult(result=3.412385811295565e-05, method='bisection', errormsg=None, context_dct=None) full_result [ 2.57859938e-08 -8.81072992e-13]\n"
     ]
    },
    {
     "data": {
      "application/vnd.jupyter.widget-view+json": {
       "model_id": "07d9369ba42e44d9bcc3f194f3737d18",
       "version_major": 2,
       "version_minor": 0
      },
      "text/plain": [
       "0it [00:00, ?it/s]"
      ]
     },
     "metadata": {},
     "output_type": "display_data"
    },
    {
     "data": {
      "application/vnd.jupyter.widget-view+json": {
       "model_id": "345e35d2a231488e83a760bc7f767e11",
       "version_major": 2,
       "version_minor": 0
      },
      "text/plain": [
       "0it [00:00, ?it/s]"
      ]
     },
     "metadata": {},
     "output_type": "display_data"
    },
    {
     "data": {
      "application/vnd.jupyter.widget-view+json": {
       "model_id": "e40c0a63aef04701bf33ddc97f4434ee",
       "version_major": 2,
       "version_minor": 0
      },
      "text/plain": [
       "  0%|          | 0/4 [00:00<?, ?it/s]"
      ]
     },
     "metadata": {},
     "output_type": "display_data"
    },
    {
     "name": "stdout",
     "output_type": "stream",
     "text": [
      "[PairOptimizer.optimize] curves_t PEPE-1933/WETH-6Cc2\n",
      "[PairOptimizer.optimize] p_optimal OptimizerBase.SimpleResult(result=8.149138379328678e-10, method='bisection', errormsg=None, context_dct=None) full_result [ 2.51562500e+00 -2.04818207e-09]\n",
      "[PairOptimizer.optimize] curves_t PEPE-1933/WETH-6Cc2\n",
      "[PairOptimizer.optimize] p_optimal OptimizerBase.SimpleResult(result=8.149138379327994e-10, method='bisection', errormsg=None, context_dct=None) full_result [ 3.55078125e+00 -2.89583113e-09]\n",
      "[PairOptimizer.optimize] curves_t PEPE-1933/WETH-6Cc2\n",
      "[PairOptimizer.optimize] p_optimal OptimizerBase.SimpleResult(result=8.107804985572999e-10, method='bisection', errormsg=None, context_dct=None) full_result [ 2.69775391e-02 -2.18278728e-11]\n",
      "[PairOptimizer.optimize] curves_t PEPE-1933/WETH-6Cc2\n",
      "[PairOptimizer.optimize] p_optimal OptimizerBase.SimpleResult(result=8.107804985574788e-10, method='bisection', errormsg=None, context_dct=None) full_result [-1.50756836e-02  1.22213351e-11]\n"
     ]
    },
    {
     "data": {
      "application/vnd.jupyter.widget-view+json": {
       "model_id": "549a2ca7ce1a453bb47dd56ddc7638c1",
       "version_major": 2,
       "version_minor": 0
      },
      "text/plain": [
       "  0%|          | 0/3 [00:00<?, ?it/s]"
      ]
     },
     "metadata": {},
     "output_type": "display_data"
    },
    {
     "name": "stdout",
     "output_type": "stream",
     "text": [
      "[PairOptimizer.optimize] curves_t PEPE-1933/USDC-eB48\n",
      "[PairOptimizer.optimize] p_optimal OptimizerBase.SimpleResult(result=1.5362878225146734e-06, method='bisection', errormsg=None, context_dct=None) full_result [ 0.00651264 -0.00666746]\n",
      "[PairOptimizer.optimize] curves_t PEPE-1933/USDC-eB48\n",
      "[PairOptimizer.optimize] p_optimal OptimizerBase.SimpleResult(result=1.5360877772687104e-06, method='bisection', errormsg=None, context_dct=None) full_result [ 4.19616699e-03 -6.43194653e-09]\n",
      "[PairOptimizer.optimize] curves_t PEPE-1933/USDC-eB48\n",
      "[PairOptimizer.optimize] p_optimal OptimizerBase.SimpleResult(result=1.53608777726908e-06, method='bisection', errormsg=None, context_dct=None) full_result [-5.69152832e-03  8.74570105e-09]\n"
     ]
    },
    {
     "data": {
      "application/vnd.jupyter.widget-view+json": {
       "model_id": "7aa0edbfd073429e84cc4bfd680f6a3a",
       "version_major": 2,
       "version_minor": 0
      },
      "text/plain": [
       "  0%|          | 0/6 [00:00<?, ?it/s]"
      ]
     },
     "metadata": {},
     "output_type": "display_data"
    },
    {
     "name": "stdout",
     "output_type": "stream",
     "text": [
      "[PairOptimizer.optimize] curves_t SNX-2a6F/WETH-6Cc2\n",
      "[PairOptimizer.optimize] p_optimal OptimizerBase.SimpleResult(result=0.0010930027716636022, method='bisection', errormsg=None, context_dct=None) full_result [ 1.28871761e-07 -1.40971679e-10]\n",
      "[PairOptimizer.optimize] curves_t SNX-2a6F/WETH-6Cc2\n",
      "[PairOptimizer.optimize] p_optimal OptimizerBase.SimpleResult(result=0.0010930027716642321, method='bisection', errormsg=None, context_dct=None) full_result [-1.18860044e-07  1.29830369e-10]\n",
      "[PairOptimizer.optimize] curves_t SNX-2a6F/WETH-6Cc2\n",
      "[PairOptimizer.optimize] p_optimal OptimizerBase.SimpleResult(result=0.0010827174870951528, method='bisection', errormsg=None, context_dct=None) full_result [-6.58474164e-10  7.14095449e-13]\n",
      "[PairOptimizer.optimize] curves_t SNX-2a6F/WETH-6Cc2\n",
      "[PairOptimizer.optimize] p_optimal OptimizerBase.SimpleResult(result=0.0010827174870951424, method='bisection', errormsg=None, context_dct=None) full_result [-6.32098818e-10  6.84785562e-13]\n",
      "[PairOptimizer.optimize] curves_t SNX-2a6F/WETH-6Cc2\n",
      "[PairOptimizer.optimize] p_optimal OptimizerBase.SimpleResult(result=0.0010940339696130523, method='bisection', errormsg=None, context_dct=None) full_result [-1.79861672e-08  1.96678229e-11]\n",
      "[PairOptimizer.optimize] curves_t SNX-2a6F/WETH-6Cc2\n",
      "[PairOptimizer.optimize] p_optimal OptimizerBase.SimpleResult(result=0.0010940339696125217, method='bisection', errormsg=None, context_dct=None) full_result [ 5.73345460e-09 -6.28119778e-12]\n"
     ]
    },
    {
     "data": {
      "application/vnd.jupyter.widget-view+json": {
       "model_id": "6c84ccf4c3304b2aa33c9e26d01724c1",
       "version_major": 2,
       "version_minor": 0
      },
      "text/plain": [
       "0it [00:00, ?it/s]"
      ]
     },
     "metadata": {},
     "output_type": "display_data"
    },
    {
     "data": {
      "application/vnd.jupyter.widget-view+json": {
       "model_id": "f7ba8143c85f43e6888fb030744400d6",
       "version_major": 2,
       "version_minor": 0
      },
      "text/plain": [
       "0it [00:00, ?it/s]"
      ]
     },
     "metadata": {},
     "output_type": "display_data"
    },
    {
     "data": {
      "application/vnd.jupyter.widget-view+json": {
       "model_id": "eb75840766324243ac588bd071348aed",
       "version_major": 2,
       "version_minor": 0
      },
      "text/plain": [
       "0it [00:00, ?it/s]"
      ]
     },
     "metadata": {},
     "output_type": "display_data"
    },
    {
     "data": {
      "application/vnd.jupyter.widget-view+json": {
       "model_id": "209e7439eb2843c5a4e972c4740c6142",
       "version_major": 2,
       "version_minor": 0
      },
      "text/plain": [
       "0it [00:00, ?it/s]"
      ]
     },
     "metadata": {},
     "output_type": "display_data"
    },
    {
     "data": {
      "application/vnd.jupyter.widget-view+json": {
       "model_id": "1e5d762a762844d4a7cf0811d45699b4",
       "version_major": 2,
       "version_minor": 0
      },
      "text/plain": [
       "0it [00:00, ?it/s]"
      ]
     },
     "metadata": {},
     "output_type": "display_data"
    },
    {
     "data": {
      "application/vnd.jupyter.widget-view+json": {
       "model_id": "8c90a24d6c684cc5b2f49c594173d7a2",
       "version_major": 2,
       "version_minor": 0
      },
      "text/plain": [
       "  0%|          | 0/1 [00:00<?, ?it/s]"
      ]
     },
     "metadata": {},
     "output_type": "display_data"
    },
    {
     "name": "stdout",
     "output_type": "stream",
     "text": [
      "[PairOptimizer.optimize] curves_t icETH-6A84/WETH-6Cc2\n",
      "[PairOptimizer.optimize] p_optimal OptimizerBase.SimpleResult(result=1.0625676226961724, method='bisection', errormsg=None, context_dct=None) full_result [-4.33828973e-10  4.60659066e-10]\n"
     ]
    },
    {
     "data": {
      "application/vnd.jupyter.widget-view+json": {
       "model_id": "cb376539831d47cfbb8534161c65c639",
       "version_major": 2,
       "version_minor": 0
      },
      "text/plain": [
       "0it [00:00, ?it/s]"
      ]
     },
     "metadata": {},
     "output_type": "display_data"
    },
    {
     "data": {
      "application/vnd.jupyter.widget-view+json": {
       "model_id": "a0e9898e13ac428aaab7cc32de53a6c1",
       "version_major": 2,
       "version_minor": 0
      },
      "text/plain": [
       "  0%|          | 0/2 [00:00<?, ?it/s]"
      ]
     },
     "metadata": {},
     "output_type": "display_data"
    },
    {
     "name": "stdout",
     "output_type": "stream",
     "text": [
      "[PairOptimizer.optimize] curves_t SGT-EcDD/WETH-6Cc2\n",
      "[PairOptimizer.optimize] p_optimal OptimizerBase.SimpleResult(result=0.00022209613284442402, method='bisection', errormsg=None, context_dct=None) full_result [ 4.06289473e-08 -9.00968189e-12]\n",
      "[PairOptimizer.optimize] curves_t SGT-EcDD/WETH-6Cc2\n",
      "[PairOptimizer.optimize] p_optimal OptimizerBase.SimpleResult(result=0.00021922396426222578, method='bisection', errormsg=None, context_dct=None) full_result [ 1.04773790e-09 -2.30926389e-13]\n"
     ]
    },
    {
     "data": {
      "application/vnd.jupyter.widget-view+json": {
       "model_id": "5a976c50e38d49fb9439c1068bebb063",
       "version_major": 2,
       "version_minor": 0
      },
      "text/plain": [
       "  0%|          | 0/4 [00:00<?, ?it/s]"
      ]
     },
     "metadata": {},
     "output_type": "display_data"
    },
    {
     "name": "stdout",
     "output_type": "stream",
     "text": [
      "[PairOptimizer.optimize] curves_t rETH-6393/WETH-6Cc2\n",
      "[PairOptimizer.optimize] p_optimal OptimizerBase.SimpleResult(result=1.076708344504264, method='bisection', errormsg=None, context_dct=None) full_result [-1.25543593e-07 -1.09294720e-03]\n",
      "[PairOptimizer.optimize] curves_t rETH-6393/WETH-6Cc2\n",
      "[PairOptimizer.optimize] p_optimal OptimizerBase.SimpleResult(result=1.0767087670950288, method='bisection', errormsg=None, context_dct=None) full_result [ 2.46334821e-07 -2.65194103e-07]\n",
      "[PairOptimizer.optimize] curves_t rETH-6393/WETH-6Cc2\n",
      "[PairOptimizer.optimize] p_optimal OptimizerBase.SimpleResult(result=1.0767087670955016, method='bisection', errormsg=None, context_dct=None) full_result [-3.30619514e-08  3.53902578e-08]\n",
      "[PairOptimizer.optimize] curves_t rETH-6393/WETH-6Cc2\n",
      "[PairOptimizer.optimize] p_optimal OptimizerBase.SimpleResult(result=1.076708767095204, method='bisection', errormsg=None, context_dct=None) full_result [ 1.42958015e-07 -1.53901055e-07]\n"
     ]
    },
    {
     "data": {
      "application/vnd.jupyter.widget-view+json": {
       "model_id": "bf6a2acae8a34bbb9551174aef0a4e86",
       "version_major": 2,
       "version_minor": 0
      },
      "text/plain": [
       "0it [00:00, ?it/s]"
      ]
     },
     "metadata": {},
     "output_type": "display_data"
    },
    {
     "data": {
      "application/vnd.jupyter.widget-view+json": {
       "model_id": "e42f6c01268a40daa3e861bdf032d5de",
       "version_major": 2,
       "version_minor": 0
      },
      "text/plain": [
       "  0%|          | 0/10 [00:00<?, ?it/s]"
      ]
     },
     "metadata": {},
     "output_type": "display_data"
    },
    {
     "name": "stdout",
     "output_type": "stream",
     "text": [
      "[PairOptimizer.optimize] curves_t ETH2x_FLI-65BD/WETH-6Cc2\n",
      "[PairOptimizer.optimize] p_optimal OptimizerBase.SimpleResult(result=0.006679129489639779, method='bisection', errormsg=None, context_dct=None) full_result [ 8.99308361e-09 -6.00266503e-11]\n",
      "[PairOptimizer.optimize] curves_t ETH2x_FLI-65BD/WETH-6Cc2\n",
      "[PairOptimizer.optimize] p_optimal OptimizerBase.SimpleResult(result=0.006679129489639276, method='bisection', errormsg=None, context_dct=None) full_result [ 1.72003638e-08 -1.14823706e-10]\n",
      "[PairOptimizer.optimize] curves_t ETH2x_FLI-65BD/WETH-6Cc2\n",
      "[PairOptimizer.optimize] p_optimal OptimizerBase.SimpleResult(result=0.006679129489639779, method='bisection', errormsg=None, context_dct=None) full_result [ 8.99308361e-09 -6.00266503e-11]\n",
      "[PairOptimizer.optimize] curves_t ETH2x_FLI-65BD/WETH-6Cc2\n",
      "[PairOptimizer.optimize] p_optimal OptimizerBase.SimpleResult(result=0.006679129489639276, method='bisection', errormsg=None, context_dct=None) full_result [ 1.72003638e-08 -1.14823706e-10]\n",
      "[PairOptimizer.optimize] curves_t ETH2x_FLI-65BD/WETH-6Cc2\n",
      "[PairOptimizer.optimize] p_optimal OptimizerBase.SimpleResult(result=0.006679129489641052, method='bisection', errormsg=None, context_dct=None) full_result [-1.17870513e-08  7.88986654e-11]\n",
      "[PairOptimizer.optimize] curves_t ETH2x_FLI-65BD/WETH-6Cc2\n",
      "[PairOptimizer.optimize] p_optimal OptimizerBase.SimpleResult(result=0.006679129489638686, method='bisection', errormsg=None, context_dct=None) full_result [ 2.68337317e-08 -1.79170456e-10]\n",
      "[PairOptimizer.optimize] curves_t ETH2x_FLI-65BD/WETH-6Cc2\n",
      "[PairOptimizer.optimize] p_optimal OptimizerBase.SimpleResult(result=0.006679129489638975, method='bisection', errormsg=None, context_dct=None) full_result [ 2.20898073e-08 -1.47565515e-10]\n",
      "[PairOptimizer.optimize] curves_t ETH2x_FLI-65BD/WETH-6Cc2\n",
      "[PairOptimizer.optimize] p_optimal OptimizerBase.SimpleResult(result=0.006679129489640365, method='bisection', errormsg=None, context_dct=None) full_result [-6.11180440e-10  4.09272616e-12]\n",
      "[PairOptimizer.optimize] curves_t ETH2x_FLI-65BD/WETH-6Cc2\n",
      "[PairOptimizer.optimize] p_optimal OptimizerBase.SimpleResult(result=0.006679129489642534, method='bisection', errormsg=None, context_dct=None) full_result [-3.59723344e-08  2.40333975e-10]\n",
      "[PairOptimizer.optimize] curves_t ETH2x_FLI-65BD/WETH-6Cc2\n",
      "[PairOptimizer.optimize] p_optimal OptimizerBase.SimpleResult(result=0.006679129489639819, method='bisection', errormsg=None, context_dct=None) full_result [ 8.32369551e-09 -5.54791768e-11]\n"
     ]
    },
    {
     "data": {
      "application/vnd.jupyter.widget-view+json": {
       "model_id": "9065d0e4bb9f4be08e6afa223de050ca",
       "version_major": 2,
       "version_minor": 0
      },
      "text/plain": [
       "0it [00:00, ?it/s]"
      ]
     },
     "metadata": {},
     "output_type": "display_data"
    },
    {
     "data": {
      "application/vnd.jupyter.widget-view+json": {
       "model_id": "84e96d0248784a8998708424656fb8e1",
       "version_major": 2,
       "version_minor": 0
      },
      "text/plain": [
       "0it [00:00, ?it/s]"
      ]
     },
     "metadata": {},
     "output_type": "display_data"
    },
    {
     "data": {
      "application/vnd.jupyter.widget-view+json": {
       "model_id": "9fa76330a40b4434a854ed67cf0bafaa",
       "version_major": 2,
       "version_minor": 0
      },
      "text/plain": [
       "0it [00:00, ?it/s]"
      ]
     },
     "metadata": {},
     "output_type": "display_data"
    },
    {
     "data": {
      "application/vnd.jupyter.widget-view+json": {
       "model_id": "7576541f86934080847e72bb5cf46b48",
       "version_major": 2,
       "version_minor": 0
      },
      "text/plain": [
       "0it [00:00, ?it/s]"
      ]
     },
     "metadata": {},
     "output_type": "display_data"
    },
    {
     "data": {
      "application/vnd.jupyter.widget-view+json": {
       "model_id": "a14bdcd4625d40f7a143164f799ebb03",
       "version_major": 2,
       "version_minor": 0
      },
      "text/plain": [
       "0it [00:00, ?it/s]"
      ]
     },
     "metadata": {},
     "output_type": "display_data"
    },
    {
     "data": {
      "application/vnd.jupyter.widget-view+json": {
       "model_id": "b2c90c749b1049afbf8578465badd151",
       "version_major": 2,
       "version_minor": 0
      },
      "text/plain": [
       "0it [00:00, ?it/s]"
      ]
     },
     "metadata": {},
     "output_type": "display_data"
    },
    {
     "data": {
      "application/vnd.jupyter.widget-view+json": {
       "model_id": "10e181d06d394f508199988659a0492e",
       "version_major": 2,
       "version_minor": 0
      },
      "text/plain": [
       "  0%|          | 0/10 [00:00<?, ?it/s]"
      ]
     },
     "metadata": {},
     "output_type": "display_data"
    },
    {
     "name": "stdout",
     "output_type": "stream",
     "text": [
      "[PairOptimizer.optimize] curves_t USDT-1ec7/USDC-eB48\n",
      "[PairOptimizer.optimize] p_optimal OptimizerBase.SimpleResult(result=1.0000207903769063, method='bisection', errormsg=None, context_dct=None) full_result [-0.0647583  0.0647583]\n",
      "[PairOptimizer.optimize] curves_t USDT-1ec7/USDC-eB48\n",
      "[PairOptimizer.optimize] p_optimal OptimizerBase.SimpleResult(result=1.000020790376823, method='bisection', errormsg=None, context_dct=None) full_result [-0.04290771  0.04290771]\n",
      "[PairOptimizer.optimize] curves_t USDT-1ec7/USDC-eB48\n",
      "[PairOptimizer.optimize] p_optimal OptimizerBase.SimpleResult(result=1.0000207903767104, method='bisection', errormsg=None, context_dct=None) full_result [-0.01342773  0.01342773]\n",
      "[PairOptimizer.optimize] curves_t USDT-1ec7/USDC-eB48\n",
      "[PairOptimizer.optimize] p_optimal OptimizerBase.SimpleResult(result=1.0000207916536292, method='bisection', errormsg=None, context_dct=None) full_result [-0.1512453   0.03923975]\n",
      "[PairOptimizer.optimize] curves_t USDT-1ec7/USDC-eB48\n",
      "[PairOptimizer.optimize] p_optimal OptimizerBase.SimpleResult(result=1.0000207903766147, method='bisection', errormsg=None, context_dct=None) full_result [ 0.01165771 -0.01165771]\n",
      "[PairOptimizer.optimize] curves_t USDT-1ec7/USDC-eB48\n",
      "[PairOptimizer.optimize] p_optimal OptimizerBase.SimpleResult(result=0.9999812258712628, method='bisection', errormsg=None, context_dct=None) full_result [-0.0002017  0.0002017]\n",
      "[PairOptimizer.optimize] curves_t USDT-1ec7/USDC-eB48\n",
      "[PairOptimizer.optimize] p_optimal OptimizerBase.SimpleResult(result=0.9999812258711138, method='bisection', errormsg=None, context_dct=None) full_result [ 9.67979431e-05 -9.67979431e-05]\n",
      "[PairOptimizer.optimize] curves_t USDT-1ec7/USDC-eB48\n",
      "[PairOptimizer.optimize] p_optimal OptimizerBase.SimpleResult(result=0.9999812258708753, method='bisection', errormsg=None, context_dct=None) full_result [ 0.00057364 -0.00057364]\n",
      "[PairOptimizer.optimize] curves_t USDT-1ec7/USDC-eB48\n",
      "[PairOptimizer.optimize] p_optimal OptimizerBase.SimpleResult(result=0.9999814030034596, method='bisection', errormsg=None, context_dct=None) full_result [-0.12507511 -0.00053189]\n",
      "[PairOptimizer.optimize] curves_t USDT-1ec7/USDC-eB48\n",
      "[PairOptimizer.optimize] p_optimal OptimizerBase.SimpleResult(result=0.9999812258710422, method='bisection', errormsg=None, context_dct=None) full_result [ 0.00023985 -0.00023985]\n"
     ]
    },
    {
     "data": {
      "application/vnd.jupyter.widget-view+json": {
       "model_id": "466ad8ed82264dd5aadfdc623d998bcd",
       "version_major": 2,
       "version_minor": 0
      },
      "text/plain": [
       "  0%|          | 0/6 [00:00<?, ?it/s]"
      ]
     },
     "metadata": {},
     "output_type": "display_data"
    },
    {
     "name": "stdout",
     "output_type": "stream",
     "text": [
      "[PairOptimizer.optimize] curves_t BNT-FF1C/USDC-eB48\n",
      "[PairOptimizer.optimize] p_optimal OptimizerBase.SimpleResult(result=0.3933388484434187, method='bisection', errormsg=None, context_dct=None) full_result [ 2.20257789e-07 -8.66129994e-08]\n",
      "[PairOptimizer.optimize] curves_t BNT-FF1C/USDC-eB48\n",
      "[PairOptimizer.optimize] p_optimal OptimizerBase.SimpleResult(result=0.3933388484435465, method='bisection', errormsg=None, context_dct=None) full_result [-2.22586095e-07  8.75443220e-08]\n",
      "[PairOptimizer.optimize] curves_t BNT-FF1C/USDC-eB48\n",
      "[PairOptimizer.optimize] p_optimal OptimizerBase.SimpleResult(result=0.3933388484434076, method='bisection', errormsg=None, context_dct=None) full_result [ 2.58907676e-07 -1.01746991e-07]\n",
      "[PairOptimizer.optimize] curves_t BNT-FF1C/USDC-eB48\n",
      "[PairOptimizer.optimize] p_optimal OptimizerBase.SimpleResult(result=0.39333884844358136, method='bisection', errormsg=None, context_dct=None) full_result [-3.43192369e-07  1.35041773e-07]\n",
      "[PairOptimizer.optimize] curves_t BNT-FF1C/USDC-eB48\n",
      "[PairOptimizer.optimize] p_optimal OptimizerBase.SimpleResult(result=0.39333799529472413, method='bisection', errormsg=None, context_dct=None) full_result [-2.53014131e-02 -3.07336450e-08]\n",
      "[PairOptimizer.optimize] curves_t BNT-FF1C/USDC-eB48\n",
      "[PairOptimizer.optimize] p_optimal OptimizerBase.SimpleResult(result=0.3933388484434884, method='bisection', errormsg=None, context_dct=None) full_result [-2.09547579e-08  8.14907253e-09]\n"
     ]
    },
    {
     "data": {
      "application/vnd.jupyter.widget-view+json": {
       "model_id": "39b408a31c494acca60c46f73177eac1",
       "version_major": 2,
       "version_minor": 0
      },
      "text/plain": [
       "  0%|          | 0/54 [00:00<?, ?it/s]"
      ]
     },
     "metadata": {},
     "output_type": "display_data"
    },
    {
     "name": "stdout",
     "output_type": "stream",
     "text": [
      "[PairOptimizer.optimize] curves_t WETH-6Cc2/USDC-eB48\n",
      "[PairOptimizer.optimize] p_optimal OptimizerBase.SimpleResult(result=1888.9922146301515, method='bisection', errormsg=None, context_dct=None) full_result [-4.74392436e-09  8.94069672e-06]\n",
      "[PairOptimizer.optimize] curves_t WETH-6Cc2/USDC-eB48\n",
      "[PairOptimizer.optimize] p_optimal OptimizerBase.SimpleResult(result=1888.992214629935, method='bisection', errormsg=None, context_dct=None) full_result [ 5.41331246e-09 -1.02519989e-05]\n",
      "[PairOptimizer.optimize] curves_t WETH-6Cc2/USDC-eB48\n",
      "[PairOptimizer.optimize] p_optimal OptimizerBase.SimpleResult(result=1888.9922146308772, method='bisection', errormsg=None, context_dct=None) full_result [-3.87663022e-08  7.32541084e-05]\n",
      "[PairOptimizer.optimize] curves_t WETH-6Cc2/USDC-eB48\n",
      "[PairOptimizer.optimize] p_optimal OptimizerBase.SimpleResult(result=1888.9922146296476, method='bisection', errormsg=None, context_dct=None) full_result [ 1.88883860e-08 -3.56435776e-05]\n",
      "[PairOptimizer.optimize] curves_t WETH-6Cc2/USDC-eB48\n",
      "[PairOptimizer.optimize] p_optimal OptimizerBase.SimpleResult(result=1888.992214630152, method='bisection', errormsg=None, context_dct=None) full_result [-4.74392436e-09  8.94069672e-06]\n",
      "[PairOptimizer.optimize] curves_t WETH-6Cc2/USDC-eB48\n",
      "[PairOptimizer.optimize] p_optimal OptimizerBase.SimpleResult(result=1888.9922146300873, method='bisection', errormsg=None, context_dct=None) full_result [-1.71712600e-09  3.27825546e-06]\n",
      "[PairOptimizer.optimize] curves_t WETH-6Cc2/USDC-eB48\n",
      "[PairOptimizer.optimize] p_optimal OptimizerBase.SimpleResult(result=1888.9922146304884, method='bisection', errormsg=None, context_dct=None) full_result [-2.05182005e-08  3.88026237e-05]\n",
      "[PairOptimizer.optimize] curves_t WETH-6Cc2/USDC-eB48\n",
      "[PairOptimizer.optimize] p_optimal OptimizerBase.SimpleResult(result=1888.9922146299593, method='bisection', errormsg=None, context_dct=None) full_result [ 4.30736691e-09 -8.10623169e-06]\n",
      "[PairOptimizer.optimize] curves_t WETH-6Cc2/USDC-eB48\n",
      "[PairOptimizer.optimize] p_optimal OptimizerBase.SimpleResult(result=1888.992214629823, method='bisection', errormsg=None, context_dct=None) full_result [ 1.06811058e-08 -2.01463699e-05]\n",
      "[PairOptimizer.optimize] curves_t WETH-6Cc2/USDC-eB48\n",
      "[PairOptimizer.optimize] p_optimal OptimizerBase.SimpleResult(result=1888.9922146295216, method='bisection', errormsg=None, context_dct=None) full_result [ 2.48255674e-08 -4.68492508e-05]\n",
      "[PairOptimizer.optimize] curves_t WETH-6Cc2/USDC-eB48\n",
      "[PairOptimizer.optimize] p_optimal OptimizerBase.SimpleResult(result=1888.992214630285, method='bisection', errormsg=None, context_dct=None) full_result [-1.09721441e-08  2.07424164e-05]\n",
      "[PairOptimizer.optimize] curves_t WETH-6Cc2/USDC-eB48\n",
      "[PairOptimizer.optimize] p_optimal OptimizerBase.SimpleResult(result=1888.992214630096, method='bisection', errormsg=None, context_dct=None) full_result [-2.12457962e-09  4.05311584e-06]\n",
      "[PairOptimizer.optimize] curves_t WETH-6Cc2/USDC-eB48\n",
      "[PairOptimizer.optimize] p_optimal OptimizerBase.SimpleResult(result=1888.9922146296672, method='bisection', errormsg=None, context_dct=None) full_result [ 1.79861672e-08 -3.39150429e-05]\n",
      "[PairOptimizer.optimize] curves_t WETH-6Cc2/USDC-eB48\n",
      "[PairOptimizer.optimize] p_optimal OptimizerBase.SimpleResult(result=1888.992214630273, method='bisection', errormsg=None, context_dct=None) full_result [-1.04482751e-08  1.97291374e-05]\n",
      "[PairOptimizer.optimize] curves_t WETH-6Cc2/USDC-eB48\n",
      "[PairOptimizer.optimize] p_optimal OptimizerBase.SimpleResult(result=1888.992214630557, method='bisection', errormsg=None, context_dct=None) full_result [-2.37487257e-08  4.48822975e-05]\n",
      "[PairOptimizer.optimize] curves_t WETH-6Cc2/USDC-eB48\n",
      "[PairOptimizer.optimize] p_optimal OptimizerBase.SimpleResult(result=1888.9922146305262, method='bisection', errormsg=None, context_dct=None) full_result [-2.23226380e-08  4.21404839e-05]\n",
      "[PairOptimizer.optimize] curves_t WETH-6Cc2/USDC-eB48\n",
      "[PairOptimizer.optimize] p_optimal OptimizerBase.SimpleResult(result=1888.9922146295794, method='bisection', errormsg=None, context_dct=None) full_result [ 2.21189111e-08 -4.17828560e-05]\n",
      "[PairOptimizer.optimize] curves_t WETH-6Cc2/USDC-eB48\n",
      "[PairOptimizer.optimize] p_optimal OptimizerBase.SimpleResult(result=1888.9922146299941, method='bisection', errormsg=None, context_dct=None) full_result [ 2.67755240e-09 -5.00679016e-06]\n",
      "[PairOptimizer.optimize] curves_t WETH-6Cc2/USDC-eB48\n",
      "[PairOptimizer.optimize] p_optimal OptimizerBase.SimpleResult(result=1888.9922146298563, method='bisection', errormsg=None, context_dct=None) full_result [ 9.10949893e-09 -1.71661377e-05]\n",
      "[PairOptimizer.optimize] curves_t WETH-6Cc2/USDC-eB48\n",
      "[PairOptimizer.optimize] p_optimal OptimizerBase.SimpleResult(result=1888.9922146307526, method='bisection', errormsg=None, context_dct=None) full_result [-3.29164322e-08  6.21676445e-05]\n",
      "[PairOptimizer.optimize] curves_t WETH-6Cc2/USDC-eB48\n",
      "[PairOptimizer.optimize] p_optimal OptimizerBase.SimpleResult(result=1888.9922146292975, method='bisection', errormsg=None, context_dct=None) full_result [ 3.53029463e-08 -6.66975975e-05]\n",
      "[PairOptimizer.optimize] curves_t WETH-6Cc2/USDC-eB48\n",
      "[PairOptimizer.optimize] p_optimal OptimizerBase.SimpleResult(result=1888.9922146298, method='bisection', errormsg=None, context_dct=None) full_result [ 1.17870513e-08 -2.22325325e-05]\n",
      "[PairOptimizer.optimize] curves_t WETH-6Cc2/USDC-eB48\n",
      "[PairOptimizer.optimize] p_optimal OptimizerBase.SimpleResult(result=1888.9922146296672, method='bisection', errormsg=None, context_dct=None) full_result [ 1.79861672e-08 -3.39150429e-05]\n",
      "[PairOptimizer.optimize] curves_t WETH-6Cc2/USDC-eB48\n",
      "[PairOptimizer.optimize] p_optimal OptimizerBase.SimpleResult(result=1888.9922146300303, method='bisection', errormsg=None, context_dct=None) full_result [ 9.60426405e-10 -1.78813934e-06]\n",
      "[PairOptimizer.optimize] curves_t WETH-6Cc2/USDC-eB48\n",
      "[PairOptimizer.optimize] p_optimal OptimizerBase.SimpleResult(result=1888.9922050247133, method='bisection', errormsg=None, context_dct=None) full_result [-2.22406434e-05 -5.32008708e-05]\n",
      "[PairOptimizer.optimize] curves_t WETH-6Cc2/USDC-eB48\n",
      "[PairOptimizer.optimize] p_optimal OptimizerBase.SimpleResult(result=1888.9922146306424, method='bisection', errormsg=None, context_dct=None) full_result [-2.77650543e-08  5.24520874e-05]\n",
      "[PairOptimizer.optimize] curves_t WETH-6Cc2/USDC-eB48\n",
      "[PairOptimizer.optimize] p_optimal OptimizerBase.SimpleResult(result=1888.9922146304034, method='bisection', errormsg=None, context_dct=None) full_result [-1.65309757e-08  3.12328339e-05]\n",
      "[PairOptimizer.optimize] curves_t WETH-6Cc2/USDC-eB48\n",
      "[PairOptimizer.optimize] p_optimal OptimizerBase.SimpleResult(result=1888.9922146305626, method='bisection', errormsg=None, context_dct=None) full_result [-2.40106601e-08  4.54187393e-05]\n",
      "[PairOptimizer.optimize] curves_t WETH-6Cc2/USDC-eB48\n",
      "[PairOptimizer.optimize] p_optimal OptimizerBase.SimpleResult(result=1888.992214630815, method='bisection', errormsg=None, context_dct=None) full_result [-3.58268153e-08  6.77108765e-05]\n",
      "[PairOptimizer.optimize] curves_t WETH-6Cc2/USDC-eB48\n",
      "[PairOptimizer.optimize] p_optimal OptimizerBase.SimpleResult(result=1888.9922146306358, method='bisection', errormsg=None, context_dct=None) full_result [-2.74449121e-08  5.18560410e-05]\n",
      "[PairOptimizer.optimize] curves_t WETH-6Cc2/USDC-eB48\n",
      "[PairOptimizer.optimize] p_optimal OptimizerBase.SimpleResult(result=1888.9922146295798, method='bisection', errormsg=None, context_dct=None) full_result [ 2.20607035e-08 -4.16636467e-05]\n",
      "[PairOptimizer.optimize] curves_t WETH-6Cc2/USDC-eB48\n",
      "[PairOptimizer.optimize] p_optimal OptimizerBase.SimpleResult(result=1888.9922146296767, method='bisection', errormsg=None, context_dct=None) full_result [ 1.75496098e-08 -3.31401825e-05]\n",
      "[PairOptimizer.optimize] curves_t WETH-6Cc2/USDC-eB48\n",
      "[PairOptimizer.optimize] p_optimal OptimizerBase.SimpleResult(result=1888.992214630015, method='bisection', errormsg=None, context_dct=None) full_result [ 1.68802217e-09 -3.15904617e-06]\n",
      "[PairOptimizer.optimize] curves_t WETH-6Cc2/USDC-eB48\n",
      "[PairOptimizer.optimize] p_optimal OptimizerBase.SimpleResult(result=1888.9922146301515, method='bisection', errormsg=None, context_dct=None) full_result [-4.74392436e-09  8.94069672e-06]\n",
      "[PairOptimizer.optimize] curves_t WETH-6Cc2/USDC-eB48\n",
      "[PairOptimizer.optimize] p_optimal OptimizerBase.SimpleResult(result=1888.9922146304305, method='bisection', errormsg=None, context_dct=None) full_result [-1.77824404e-08  3.36170197e-05]\n",
      "[PairOptimizer.optimize] curves_t WETH-6Cc2/USDC-eB48\n",
      "[PairOptimizer.optimize] p_optimal OptimizerBase.SimpleResult(result=1888.9922146295005, method='bisection', errormsg=None, context_dct=None) full_result [ 2.53922954e-08 -4.79870996e-05]\n",
      "[PairOptimizer.optimize] curves_t WETH-6Cc2/USDC-eB48\n",
      "[PairOptimizer.optimize] p_optimal OptimizerBase.SimpleResult(result=1888.9922146295216, method='bisection', errormsg=None, context_dct=None) full_result [ 2.48255674e-08 -4.68492508e-05]\n",
      "[PairOptimizer.optimize] curves_t WETH-6Cc2/USDC-eB48\n",
      "[PairOptimizer.optimize] p_optimal OptimizerBase.SimpleResult(result=1888.9922146296672, method='bisection', errormsg=None, context_dct=None) full_result [ 1.79861672e-08 -3.39150429e-05]\n",
      "[PairOptimizer.optimize] curves_t WETH-6Cc2/USDC-eB48\n",
      "[PairOptimizer.optimize] p_optimal OptimizerBase.SimpleResult(result=1888.9922146306121, method='bisection', errormsg=None, context_dct=None) full_result [-2.63389666e-08  4.97698784e-05]\n",
      "[PairOptimizer.optimize] curves_t WETH-6Cc2/USDC-eB48\n",
      "[PairOptimizer.optimize] p_optimal OptimizerBase.SimpleResult(result=1888.9922146306424, method='bisection', errormsg=None, context_dct=None) full_result [-2.77650543e-08  5.24520874e-05]\n",
      "[PairOptimizer.optimize] curves_t WETH-6Cc2/USDC-eB48\n",
      "[PairOptimizer.optimize] p_optimal OptimizerBase.SimpleResult(result=1888.99221463018, method='bisection', errormsg=None, context_dct=None) full_result [-6.05359674e-09  1.15036964e-05]\n",
      "[PairOptimizer.optimize] curves_t WETH-6Cc2/USDC-eB48\n",
      "[PairOptimizer.optimize] p_optimal OptimizerBase.SimpleResult(result=1888.9922146308115, method='bisection', errormsg=None, context_dct=None) full_result [-3.56812961e-08  6.74128532e-05]\n",
      "[PairOptimizer.optimize] curves_t WETH-6Cc2/USDC-eB48\n",
      "[PairOptimizer.optimize] p_optimal OptimizerBase.SimpleResult(result=1888.9922146302497, method='bisection', errormsg=None, context_dct=None) full_result [-9.31322575e-09  1.76429749e-05]\n",
      "[PairOptimizer.optimize] curves_t WETH-6Cc2/USDC-eB48\n",
      "[PairOptimizer.optimize] p_optimal OptimizerBase.SimpleResult(result=1888.9922146300873, method='bisection', errormsg=None, context_dct=None) full_result [-1.71712600e-09  3.27825546e-06]\n",
      "[PairOptimizer.optimize] curves_t WETH-6Cc2/USDC-eB48\n",
      "[PairOptimizer.optimize] p_optimal OptimizerBase.SimpleResult(result=1888.9922146298663, method='bisection', errormsg=None, context_dct=None) full_result [ 8.64383765e-09 -1.63316727e-05]\n",
      "[PairOptimizer.optimize] curves_t WETH-6Cc2/USDC-eB48\n",
      "[PairOptimizer.optimize] p_optimal OptimizerBase.SimpleResult(result=1888.9922146297727, method='bisection', errormsg=None, context_dct=None) full_result [ 1.30385160e-08 -2.46167183e-05]\n",
      "[PairOptimizer.optimize] curves_t WETH-6Cc2/USDC-eB48\n",
      "[PairOptimizer.optimize] p_optimal OptimizerBase.SimpleResult(result=1888.9922146295776, method='bisection', errormsg=None, context_dct=None) full_result [ 2.21771188e-08 -4.18424606e-05]\n",
      "[PairOptimizer.optimize] curves_t WETH-6Cc2/USDC-eB48\n",
      "[PairOptimizer.optimize] p_optimal OptimizerBase.SimpleResult(result=1888.9922146300873, method='bisection', errormsg=None, context_dct=None) full_result [-1.71712600e-09  3.27825546e-06]\n",
      "[PairOptimizer.optimize] curves_t WETH-6Cc2/USDC-eB48\n",
      "[PairOptimizer.optimize] p_optimal OptimizerBase.SimpleResult(result=1888.9922146295798, method='bisection', errormsg=None, context_dct=None) full_result [ 2.20607035e-08 -4.16636467e-05]\n",
      "[PairOptimizer.optimize] curves_t WETH-6Cc2/USDC-eB48\n",
      "[PairOptimizer.optimize] p_optimal OptimizerBase.SimpleResult(result=1888.9922146299475, method='bisection', errormsg=None, context_dct=None) full_result [ 4.83123586e-09 -9.11951065e-06]\n",
      "[PairOptimizer.optimize] curves_t WETH-6Cc2/USDC-eB48\n",
      "[PairOptimizer.optimize] p_optimal OptimizerBase.SimpleResult(result=1888.9922146300873, method='bisection', errormsg=None, context_dct=None) full_result [-1.71712600e-09  3.27825546e-06]\n",
      "[PairOptimizer.optimize] curves_t WETH-6Cc2/USDC-eB48\n",
      "[PairOptimizer.optimize] p_optimal OptimizerBase.SimpleResult(result=1888.9922146306799, method='bisection', errormsg=None, context_dct=None) full_result [-2.94821803e-08  5.57303429e-05]\n",
      "[PairOptimizer.optimize] curves_t WETH-6Cc2/USDC-eB48\n",
      "[PairOptimizer.optimize] p_optimal OptimizerBase.SimpleResult(result=1888.9922146300873, method='bisection', errormsg=None, context_dct=None) full_result [-1.71712600e-09  3.27825546e-06]\n",
      "[PairOptimizer.optimize] curves_t WETH-6Cc2/USDC-eB48\n",
      "[PairOptimizer.optimize] p_optimal OptimizerBase.SimpleResult(result=1888.992214629823, method='bisection', errormsg=None, context_dct=None) full_result [ 1.06811058e-08 -2.01463699e-05]\n"
     ]
    },
    {
     "data": {
      "application/vnd.jupyter.widget-view+json": {
       "model_id": "7a05c00df07d4bfe9057456f8fbc0941",
       "version_major": 2,
       "version_minor": 0
      },
      "text/plain": [
       "  0%|          | 0/16 [00:00<?, ?it/s]"
      ]
     },
     "metadata": {},
     "output_type": "display_data"
    },
    {
     "name": "stdout",
     "output_type": "stream",
     "text": [
      "[PairOptimizer.optimize] curves_t WBTC-C599/USDC-eB48\n",
      "[PairOptimizer.optimize] p_optimal OptimizerBase.SimpleResult(result=30709.171178589037, method='bisection', errormsg=None, context_dct=None) full_result [ 3.52997631e-11 -1.08499080e-06]\n",
      "[PairOptimizer.optimize] curves_t WBTC-C599/USDC-eB48\n",
      "[PairOptimizer.optimize] p_optimal OptimizerBase.SimpleResult(result=30709.17117859955, method='bisection', errormsg=None, context_dct=None) full_result [-1.14255272e-11  3.50177288e-07]\n",
      "[PairOptimizer.optimize] curves_t WBTC-C599/USDC-eB48\n",
      "[PairOptimizer.optimize] p_optimal OptimizerBase.SimpleResult(result=30709.17117859282, method='bisection', errormsg=None, context_dct=None) full_result [ 1.85309545e-11 -5.69969416e-07]\n",
      "[PairOptimizer.optimize] curves_t WBTC-C599/USDC-eB48\n",
      "[PairOptimizer.optimize] p_optimal OptimizerBase.SimpleResult(result=30709.17117859589, method='bisection', errormsg=None, context_dct=None) full_result [ 4.83169060e-12 -1.49011612e-07]\n",
      "[PairOptimizer.optimize] curves_t WBTC-C599/USDC-eB48\n",
      "[PairOptimizer.optimize] p_optimal OptimizerBase.SimpleResult(result=30709.17117859447, method='bisection', errormsg=None, context_dct=None) full_result [ 1.11413101e-11 -3.43658030e-07]\n",
      "[PairOptimizer.optimize] curves_t WBTC-C599/USDC-eB48\n",
      "[PairOptimizer.optimize] p_optimal OptimizerBase.SimpleResult(result=30709.171178601522, method='bisection', errormsg=None, context_dct=None) full_result [-2.01794137e-11  6.19329512e-07]\n",
      "[PairOptimizer.optimize] curves_t WBTC-C599/USDC-eB48\n",
      "[PairOptimizer.optimize] p_optimal OptimizerBase.SimpleResult(result=30708.392805080344, method='bisection', errormsg=None, context_dct=None) full_result [-2.90562225e-05 -3.77116521e-07]\n",
      "[PairOptimizer.optimize] curves_t WBTC-C599/USDC-eB48\n",
      "[PairOptimizer.optimize] p_optimal OptimizerBase.SimpleResult(result=30709.171178605357, method='bisection', errormsg=None, context_dct=None) full_result [-3.72324394e-11  1.14273280e-06]\n",
      "[PairOptimizer.optimize] curves_t WBTC-C599/USDC-eB48\n",
      "[PairOptimizer.optimize] p_optimal OptimizerBase.SimpleResult(result=30681.192450067927, method='bisection', errormsg=None, context_dct=None) full_result [ 5.82986104e-10 -1.79111958e-05]\n",
      "[PairOptimizer.optimize] curves_t WBTC-C599/USDC-eB48\n",
      "[PairOptimizer.optimize] p_optimal OptimizerBase.SimpleResult(result=30681.192450086935, method='bisection', errormsg=None, context_dct=None) full_result [-8.64019967e-10  2.64942646e-05]\n",
      "[PairOptimizer.optimize] curves_t WBTC-C599/USDC-eB48\n",
      "[PairOptimizer.optimize] p_optimal OptimizerBase.SimpleResult(result=30681.192450084593, method='bisection', errormsg=None, context_dct=None) full_result [-6.85759005e-10  2.10106373e-05]\n",
      "[PairOptimizer.optimize] curves_t WBTC-C599/USDC-eB48\n",
      "[PairOptimizer.optimize] p_optimal OptimizerBase.SimpleResult(result=30681.192450076273, method='bisection', errormsg=None, context_dct=None) full_result [-5.27506927e-11  1.57952309e-06]\n",
      "[PairOptimizer.optimize] curves_t WBTC-C599/USDC-eB48\n",
      "[PairOptimizer.optimize] p_optimal OptimizerBase.SimpleResult(result=30681.19245007934, method='bisection', errormsg=None, context_dct=None) full_result [-2.85581336e-10  8.73208046e-06]\n",
      "[PairOptimizer.optimize] curves_t WBTC-C599/USDC-eB48\n",
      "[PairOptimizer.optimize] p_optimal OptimizerBase.SimpleResult(result=30681.192450081726, method='bisection', errormsg=None, context_dct=None) full_result [-4.67480277e-10  1.43349171e-05]\n",
      "[PairOptimizer.optimize] curves_t WBTC-C599/USDC-eB48\n",
      "[PairOptimizer.optimize] p_optimal OptimizerBase.SimpleResult(result=30681.149356572678, method='bisection', errormsg=None, context_dct=None) full_result [-2.60230975e-05 -4.86961289e-06]\n",
      "[PairOptimizer.optimize] curves_t WBTC-C599/USDC-eB48\n",
      "[PairOptimizer.optimize] p_optimal OptimizerBase.SimpleResult(result=30681.192450076527, method='bisection', errormsg=None, context_dct=None) full_result [-7.18500814e-11  2.17556953e-06]\n"
     ]
    },
    {
     "data": {
      "application/vnd.jupyter.widget-view+json": {
       "model_id": "f2e7ce4058cb4ed28f899919cc930faa",
       "version_major": 2,
       "version_minor": 0
      },
      "text/plain": [
       "  0%|          | 0/4 [00:00<?, ?it/s]"
      ]
     },
     "metadata": {},
     "output_type": "display_data"
    },
    {
     "name": "stdout",
     "output_type": "stream",
     "text": [
      "[PairOptimizer.optimize] curves_t DAI-1d0F/USDC-eB48\n",
      "[PairOptimizer.optimize] p_optimal OptimizerBase.SimpleResult(result=1.0003813756302735, method='bisection', errormsg=None, context_dct=None) full_result [ 0.00042725 -0.00042725]\n",
      "[PairOptimizer.optimize] curves_t DAI-1d0F/USDC-eB48\n",
      "[PairOptimizer.optimize] p_optimal OptimizerBase.SimpleResult(result=1.000381375630044, method='bisection', errormsg=None, context_dct=None) full_result [ 0.00753784 -0.00754547]\n",
      "[PairOptimizer.optimize] curves_t DAI-1d0F/USDC-eB48\n",
      "[PairOptimizer.optimize] p_optimal OptimizerBase.SimpleResult(result=0.999979963573878, method='bisection', errormsg=None, context_dct=None) full_result [ 0.02416992 -0.02410889]\n",
      "[PairOptimizer.optimize] curves_t DAI-1d0F/USDC-eB48\n",
      "[PairOptimizer.optimize] p_optimal OptimizerBase.SimpleResult(result=0.999979963573925, method='bisection', errormsg=None, context_dct=None) full_result [ 0.01159668 -0.01153564]\n"
     ]
    },
    {
     "data": {
      "application/vnd.jupyter.widget-view+json": {
       "model_id": "964c8a9d67bf492780ddd8717376d8bb",
       "version_major": 2,
       "version_minor": 0
      },
      "text/plain": [
       "0it [00:00, ?it/s]"
      ]
     },
     "metadata": {},
     "output_type": "display_data"
    },
    {
     "data": {
      "application/vnd.jupyter.widget-view+json": {
       "model_id": "f193729169c2495b820aa6072b92bcca",
       "version_major": 2,
       "version_minor": 0
      },
      "text/plain": [
       "  0%|          | 0/39 [00:00<?, ?it/s]"
      ]
     },
     "metadata": {},
     "output_type": "display_data"
    },
    {
     "name": "stdout",
     "output_type": "stream",
     "text": [
      "[PairOptimizer.optimize] curves_t WETH-6Cc2/USDT-1ec7\n",
      "[PairOptimizer.optimize] p_optimal OptimizerBase.SimpleResult(result=1890.3902599636826, method='bisection', errormsg=None, context_dct=None) full_result [ 3.43752617e-08 -6.91041350e-05]\n",
      "[PairOptimizer.optimize] curves_t WETH-6Cc2/USDT-1ec7\n",
      "[PairOptimizer.optimize] p_optimal OptimizerBase.SimpleResult(result=1890.3902598796512, method='bisection', errormsg=None, context_dct=None) full_result [ 4.23751771e-08 -8.02278519e-05]\n",
      "[PairOptimizer.optimize] curves_t WETH-6Cc2/USDT-1ec7\n",
      "[PairOptimizer.optimize] p_optimal OptimizerBase.SimpleResult(result=1890.3902598804298, method='bisection', errormsg=None, context_dct=None) full_result [-2.00816430e-08  3.79085541e-05]\n",
      "[PairOptimizer.optimize] curves_t WETH-6Cc2/USDT-1ec7\n",
      "[PairOptimizer.optimize] p_optimal OptimizerBase.SimpleResult(result=1890.3902598796158, method='bisection', errormsg=None, context_dct=None) full_result [ 4.52273525e-08 -8.54730606e-05]\n",
      "[PairOptimizer.optimize] curves_t WETH-6Cc2/USDT-1ec7\n",
      "[PairOptimizer.optimize] p_optimal OptimizerBase.SimpleResult(result=1890.3902598801792, method='bisection', errormsg=None, context_dct=None) full_result [0. 0.]\n",
      "[PairOptimizer.optimize] curves_t WETH-6Cc2/USDT-1ec7\n",
      "[PairOptimizer.optimize] p_optimal OptimizerBase.SimpleResult(result=1890.3902598800487, method='bisection', errormsg=None, context_dct=None) full_result [ 1.05355866e-08 -1.99079514e-05]\n",
      "[PairOptimizer.optimize] curves_t WETH-6Cc2/USDT-1ec7\n",
      "[PairOptimizer.optimize] p_optimal OptimizerBase.SimpleResult(result=1890.3902598806571, method='bisection', errormsg=None, context_dct=None) full_result [-3.83006409e-08  7.23600388e-05]\n",
      "[PairOptimizer.optimize] curves_t WETH-6Cc2/USDT-1ec7\n",
      "[PairOptimizer.optimize] p_optimal OptimizerBase.SimpleResult(result=1890.3902702016617, method='bisection', errormsg=None, context_dct=None) full_result [-1.49252719e-05  3.80454148e-05]\n",
      "[PairOptimizer.optimize] curves_t WETH-6Cc2/USDT-1ec7\n",
      "[PairOptimizer.optimize] p_optimal OptimizerBase.SimpleResult(result=1890.390259880636, method='bisection', errormsg=None, context_dct=None) full_result [-3.66126187e-08  6.92605972e-05]\n",
      "[PairOptimizer.optimize] curves_t WETH-6Cc2/USDT-1ec7\n",
      "[PairOptimizer.optimize] p_optimal OptimizerBase.SimpleResult(result=1890.3902598796271, method='bisection', errormsg=None, context_dct=None) full_result [ 4.43542376e-08 -8.38041306e-05]\n",
      "[PairOptimizer.optimize] curves_t WETH-6Cc2/USDT-1ec7\n",
      "[PairOptimizer.optimize] p_optimal OptimizerBase.SimpleResult(result=1890.3902598805803, method='bisection', errormsg=None, context_dct=None) full_result [-3.21888365e-08  6.07967377e-05]\n",
      "[PairOptimizer.optimize] curves_t WETH-6Cc2/USDT-1ec7\n",
      "[PairOptimizer.optimize] p_optimal OptimizerBase.SimpleResult(result=1890.3902598803247, method='bisection', errormsg=None, context_dct=None) full_result [-1.16415322e-08  2.19345093e-05]\n",
      "[PairOptimizer.optimize] curves_t WETH-6Cc2/USDT-1ec7\n",
      "[PairOptimizer.optimize] p_optimal OptimizerBase.SimpleResult(result=1890.3902598804148, method='bisection', errormsg=None, context_dct=None) full_result [-1.88592821e-08  3.56435776e-05]\n",
      "[PairOptimizer.optimize] curves_t WETH-6Cc2/USDT-1ec7\n",
      "[PairOptimizer.optimize] p_optimal OptimizerBase.SimpleResult(result=1889.145889168184, method='bisection', errormsg=None, context_dct=None) full_result [-1.00080797e-08  6.41494989e-06]\n",
      "[PairOptimizer.optimize] curves_t WETH-6Cc2/USDT-1ec7\n",
      "[PairOptimizer.optimize] p_optimal OptimizerBase.SimpleResult(result=1889.145888876507, method='bisection', errormsg=None, context_dct=None) full_result [-1.26019586e-08  2.38120556e-05]\n",
      "[PairOptimizer.optimize] curves_t WETH-6Cc2/USDT-1ec7\n",
      "[PairOptimizer.optimize] p_optimal OptimizerBase.SimpleResult(result=1889.1458888757393, method='bisection', errormsg=None, context_dct=None) full_result [ 5.09317033e-09 -9.62615013e-06]\n",
      "[PairOptimizer.optimize] curves_t WETH-6Cc2/USDT-1ec7\n",
      "[PairOptimizer.optimize] p_optimal OptimizerBase.SimpleResult(result=1889.1458888758934, method='bisection', errormsg=None, context_dct=None) full_result [ 1.54250301e-09 -2.92062759e-06]\n",
      "[PairOptimizer.optimize] curves_t WETH-6Cc2/USDT-1ec7\n",
      "[PairOptimizer.optimize] p_optimal OptimizerBase.SimpleResult(result=1889.1458888762731, method='bisection', errormsg=None, context_dct=None) full_result [-7.21774995e-09  1.36494637e-05]\n",
      "[PairOptimizer.optimize] curves_t WETH-6Cc2/USDT-1ec7\n",
      "[PairOptimizer.optimize] p_optimal OptimizerBase.SimpleResult(result=1889.1458888758175, method='bisection', errormsg=None, context_dct=None) full_result [ 3.30328476e-09 -6.22868538e-06]\n",
      "[PairOptimizer.optimize] curves_t WETH-6Cc2/USDT-1ec7\n",
      "[PairOptimizer.optimize] p_optimal OptimizerBase.SimpleResult(result=1889.145888875436, method='bisection', errormsg=None, context_dct=None) full_result [ 1.21071935e-08 -2.28583813e-05]\n",
      "[PairOptimizer.optimize] curves_t WETH-6Cc2/USDT-1ec7\n",
      "[PairOptimizer.optimize] p_optimal OptimizerBase.SimpleResult(result=1889.1459247812654, method='bisection', errormsg=None, context_dct=None) full_result [-1.54391292e-05 -2.19168578e-05]\n",
      "[PairOptimizer.optimize] curves_t WETH-6Cc2/USDT-1ec7\n",
      "[PairOptimizer.optimize] p_optimal OptimizerBase.SimpleResult(result=1889.1458888762695, method='bisection', errormsg=None, context_dct=None) full_result [-7.13043846e-09  1.34706497e-05]\n",
      "[PairOptimizer.optimize] curves_t WETH-6Cc2/USDT-1ec7\n",
      "[PairOptimizer.optimize] p_optimal OptimizerBase.SimpleResult(result=1889.1458888752281, method='bisection', errormsg=None, context_dct=None) full_result [ 1.69093255e-08 -3.19480896e-05]\n",
      "[PairOptimizer.optimize] curves_t WETH-6Cc2/USDT-1ec7\n",
      "[PairOptimizer.optimize] p_optimal OptimizerBase.SimpleResult(result=1889.1458888757306, method='bisection', errormsg=None, context_dct=None) full_result [ 5.29689714e-09 -1.00135803e-05]\n",
      "[PairOptimizer.optimize] curves_t WETH-6Cc2/USDT-1ec7\n",
      "[PairOptimizer.optimize] p_optimal OptimizerBase.SimpleResult(result=1889.1458888758277, method='bisection', errormsg=None, context_dct=None) full_result [ 3.05590220e-09 -5.78165054e-06]\n",
      "[PairOptimizer.optimize] curves_t WETH-6Cc2/USDT-1ec7\n",
      "[PairOptimizer.optimize] p_optimal OptimizerBase.SimpleResult(result=1889.1458888764319, method='bisection', errormsg=None, context_dct=None) full_result [-1.08848326e-08  2.05636024e-05]\n",
      "[PairOptimizer.optimize] curves_t WETH-6Cc2/USDT-1ec7\n",
      "[PairOptimizer.optimize] p_optimal OptimizerBase.SimpleResult(result=1881.710609293142, method='bisection', errormsg=None, context_dct=None) full_result [-3.60378181e-08  5.24520874e-06]\n",
      "[PairOptimizer.optimize] curves_t WETH-6Cc2/USDT-1ec7\n",
      "[PairOptimizer.optimize] p_optimal OptimizerBase.SimpleResult(result=1881.710608190668, method='bisection', errormsg=None, context_dct=None) full_result [ 3.57977115e-09 -6.74277544e-06]\n",
      "[PairOptimizer.optimize] curves_t WETH-6Cc2/USDT-1ec7\n",
      "[PairOptimizer.optimize] p_optimal OptimizerBase.SimpleResult(result=1881.7106081911547, method='bisection', errormsg=None, context_dct=None) full_result [ 5.85714588e-10 -1.11013651e-06]\n",
      "[PairOptimizer.optimize] curves_t WETH-6Cc2/USDT-1ec7\n",
      "[PairOptimizer.optimize] p_optimal OptimizerBase.SimpleResult(result=1881.7106081913296, method='bisection', errormsg=None, context_dct=None) full_result [-4.87489160e-10  9.16421413e-07]\n",
      "[PairOptimizer.optimize] curves_t WETH-6Cc2/USDT-1ec7\n",
      "[PairOptimizer.optimize] p_optimal OptimizerBase.SimpleResult(result=1881.710608190739, method='bisection', errormsg=None, context_dct=None) full_result [ 3.13957571e-09 -5.91576099e-06]\n",
      "[PairOptimizer.optimize] curves_t WETH-6Cc2/USDT-1ec7\n",
      "[PairOptimizer.optimize] p_optimal OptimizerBase.SimpleResult(result=1881.7106081908473, method='bisection', errormsg=None, context_dct=None) full_result [ 2.47746357e-09 -4.66406345e-06]\n",
      "[PairOptimizer.optimize] curves_t WETH-6Cc2/USDT-1ec7\n",
      "[PairOptimizer.optimize] p_optimal OptimizerBase.SimpleResult(result=1881.7106081914208, method='bisection', errormsg=None, context_dct=None) full_result [-1.04773790e-09  1.97440386e-06]\n",
      "[PairOptimizer.optimize] curves_t WETH-6Cc2/USDT-1ec7\n",
      "[PairOptimizer.optimize] p_optimal OptimizerBase.SimpleResult(result=1881.7107435941489, method='bisection', errormsg=None, context_dct=None) full_result [-1.87256392e-05 -1.61162461e-07]\n",
      "[PairOptimizer.optimize] curves_t WETH-6Cc2/USDT-1ec7\n",
      "[PairOptimizer.optimize] p_optimal OptimizerBase.SimpleResult(result=1881.7106081909023, method='bisection', errormsg=None, context_dct=None) full_result [ 2.13549356e-09 -4.02331352e-06]\n",
      "[PairOptimizer.optimize] curves_t WETH-6Cc2/USDT-1ec7\n",
      "[PairOptimizer.optimize] p_optimal OptimizerBase.SimpleResult(result=1881.7106081915688, method='bisection', errormsg=None, context_dct=None) full_result [-1.95723260e-09  3.68058681e-06]\n",
      "[PairOptimizer.optimize] curves_t WETH-6Cc2/USDT-1ec7\n",
      "[PairOptimizer.optimize] p_optimal OptimizerBase.SimpleResult(result=1881.7106081915645, method='bisection', errormsg=None, context_dct=None) full_result [-1.93176675e-09  3.63588333e-06]\n",
      "[PairOptimizer.optimize] curves_t WETH-6Cc2/USDT-1ec7\n",
      "[PairOptimizer.optimize] p_optimal OptimizerBase.SimpleResult(result=1881.7106081915751, method='bisection', errormsg=None, context_dct=None) full_result [-1.99725037e-09  3.75509262e-06]\n",
      "[PairOptimizer.optimize] curves_t WETH-6Cc2/USDT-1ec7\n",
      "[PairOptimizer.optimize] p_optimal OptimizerBase.SimpleResult(result=1881.7106081909228, method='bisection', errormsg=None, context_dct=None) full_result [ 2.01180228e-09 -3.78489494e-06]\n"
     ]
    },
    {
     "data": {
      "application/vnd.jupyter.widget-view+json": {
       "model_id": "73bfd9b9fb9a4ec99f8f37a811df909d",
       "version_major": 2,
       "version_minor": 0
      },
      "text/plain": [
       "  0%|          | 0/1 [00:00<?, ?it/s]"
      ]
     },
     "metadata": {},
     "output_type": "display_data"
    },
    {
     "name": "stdout",
     "output_type": "stream",
     "text": [
      "[PairOptimizer.optimize] curves_t WBTC-C599/USDT-1ec7\n",
      "[PairOptimizer.optimize] p_optimal OptimizerBase.SimpleResult(result=30694.613949047027, method='bisection', errormsg=None, context_dct=None) full_result [-6.27641507e-07 -9.29663398e-06]\n"
     ]
    },
    {
     "data": {
      "application/vnd.jupyter.widget-view+json": {
       "model_id": "55e6fcd93da9459eb9db153a3ffdd5c0",
       "version_major": 2,
       "version_minor": 0
      },
      "text/plain": [
       "  0%|          | 0/10 [00:00<?, ?it/s]"
      ]
     },
     "metadata": {},
     "output_type": "display_data"
    },
    {
     "name": "stdout",
     "output_type": "stream",
     "text": [
      "[PairOptimizer.optimize] curves_t USDT-1ec7/USDC-eB48\n",
      "[PairOptimizer.optimize] p_optimal OptimizerBase.SimpleResult(result=1.0000207903769063, method='bisection', errormsg=None, context_dct=None) full_result [-0.0647583  0.0647583]\n",
      "[PairOptimizer.optimize] curves_t USDT-1ec7/USDC-eB48\n",
      "[PairOptimizer.optimize] p_optimal OptimizerBase.SimpleResult(result=1.000020790376823, method='bisection', errormsg=None, context_dct=None) full_result [-0.04290771  0.04290771]\n",
      "[PairOptimizer.optimize] curves_t USDT-1ec7/USDC-eB48\n",
      "[PairOptimizer.optimize] p_optimal OptimizerBase.SimpleResult(result=1.0000207903767104, method='bisection', errormsg=None, context_dct=None) full_result [-0.01342773  0.01342773]\n",
      "[PairOptimizer.optimize] curves_t USDT-1ec7/USDC-eB48\n",
      "[PairOptimizer.optimize] p_optimal OptimizerBase.SimpleResult(result=1.0000207916530273, method='bisection', errormsg=None, context_dct=None) full_result [ 0.00653088 -0.11853643]\n",
      "[PairOptimizer.optimize] curves_t USDT-1ec7/USDC-eB48\n",
      "[PairOptimizer.optimize] p_optimal OptimizerBase.SimpleResult(result=1.0000207903766147, method='bisection', errormsg=None, context_dct=None) full_result [ 0.01165771 -0.01165771]\n",
      "[PairOptimizer.optimize] curves_t USDT-1ec7/USDC-eB48\n",
      "[PairOptimizer.optimize] p_optimal OptimizerBase.SimpleResult(result=0.9999812258712628, method='bisection', errormsg=None, context_dct=None) full_result [-0.0002017  0.0002017]\n",
      "[PairOptimizer.optimize] curves_t USDT-1ec7/USDC-eB48\n",
      "[PairOptimizer.optimize] p_optimal OptimizerBase.SimpleResult(result=0.9999812258711138, method='bisection', errormsg=None, context_dct=None) full_result [ 9.67979431e-05 -9.67979431e-05]\n",
      "[PairOptimizer.optimize] curves_t USDT-1ec7/USDC-eB48\n",
      "[PairOptimizer.optimize] p_optimal OptimizerBase.SimpleResult(result=0.9999812258708753, method='bisection', errormsg=None, context_dct=None) full_result [ 0.00057364 -0.00057364]\n",
      "[PairOptimizer.optimize] curves_t USDT-1ec7/USDC-eB48\n",
      "[PairOptimizer.optimize] p_optimal OptimizerBase.SimpleResult(result=0.9999814029407567, method='bisection', errormsg=None, context_dct=None) full_result [ 0.0004016  -0.12600621]\n",
      "[PairOptimizer.optimize] curves_t USDT-1ec7/USDC-eB48\n",
      "[PairOptimizer.optimize] p_optimal OptimizerBase.SimpleResult(result=0.9999812258710422, method='bisection', errormsg=None, context_dct=None) full_result [ 0.00023985 -0.00023985]\n"
     ]
    },
    {
     "data": {
      "application/vnd.jupyter.widget-view+json": {
       "model_id": "4f56b40ffef84a5cafa940403e010d49",
       "version_major": 2,
       "version_minor": 0
      },
      "text/plain": [
       "  0%|          | 0/4 [00:00<?, ?it/s]"
      ]
     },
     "metadata": {},
     "output_type": "display_data"
    },
    {
     "name": "stdout",
     "output_type": "stream",
     "text": [
      "[PairOptimizer.optimize] curves_t DAI-1d0F/USDT-1ec7\n",
      "[PairOptimizer.optimize] p_optimal OptimizerBase.SimpleResult(result=0.9998810288348383, method='bisection', errormsg=None, context_dct=None) full_result [-0.00010109  0.00010061]\n",
      "[PairOptimizer.optimize] curves_t DAI-1d0F/USDT-1ec7\n",
      "[PairOptimizer.optimize] p_optimal OptimizerBase.SimpleResult(result=0.9998810288345285, method='bisection', errormsg=None, context_dct=None) full_result [ 0.00048351 -0.00048351]\n",
      "[PairOptimizer.optimize] curves_t DAI-1d0F/USDT-1ec7\n",
      "[PairOptimizer.optimize] p_optimal OptimizerBase.SimpleResult(result=1.0000277727934523, method='bisection', errormsg=None, context_dct=None) full_result [-4.46438789e-05  4.47034836e-05]\n",
      "[PairOptimizer.optimize] curves_t DAI-1d0F/USDT-1ec7\n",
      "[PairOptimizer.optimize] p_optimal OptimizerBase.SimpleResult(result=1.000027772793279, method='bisection', errormsg=None, context_dct=None) full_result [-1.69277191e-05  1.69873238e-05]\n"
     ]
    },
    {
     "data": {
      "application/vnd.jupyter.widget-view+json": {
       "model_id": "43c63e2330e3433398ae490b5862010b",
       "version_major": 2,
       "version_minor": 0
      },
      "text/plain": [
       "0it [00:00, ?it/s]"
      ]
     },
     "metadata": {},
     "output_type": "display_data"
    },
    {
     "data": {
      "application/vnd.jupyter.widget-view+json": {
       "model_id": "16f7703d417a4381914f0d0d0342ca23",
       "version_major": 2,
       "version_minor": 0
      },
      "text/plain": [
       "0it [00:00, ?it/s]"
      ]
     },
     "metadata": {},
     "output_type": "display_data"
    },
    {
     "data": {
      "application/vnd.jupyter.widget-view+json": {
       "model_id": "505f15bfdaf54c9cb3053da8ff4a5fdc",
       "version_major": 2,
       "version_minor": 0
      },
      "text/plain": [
       "  0%|          | 0/14 [00:00<?, ?it/s]"
      ]
     },
     "metadata": {},
     "output_type": "display_data"
    },
    {
     "name": "stdout",
     "output_type": "stream",
     "text": [
      "[PairOptimizer.optimize] curves_t vBNT-7f94/BNT-FF1C\n",
      "[PairOptimizer.optimize] p_optimal OptimizerBase.SimpleResult(result=0.4979713671854289, method='bisection', errormsg=None, context_dct=None) full_result [-6.28642738e-09  3.25962901e-09]\n",
      "[PairOptimizer.optimize] curves_t vBNT-7f94/BNT-FF1C\n",
      "[PairOptimizer.optimize] p_optimal OptimizerBase.SimpleResult(result=0.497971367185545, method='bisection', errormsg=None, context_dct=None) full_result [-2.33994797e-07  1.16648152e-07]\n",
      "[PairOptimizer.optimize] curves_t vBNT-7f94/BNT-FF1C\n",
      "[PairOptimizer.optimize] p_optimal OptimizerBase.SimpleResult(result=0.49797136718544244, method='bisection', errormsg=None, context_dct=None) full_result [-3.28291208e-08  1.65309757e-08]\n",
      "[PairOptimizer.optimize] curves_t vBNT-7f94/BNT-FF1C\n",
      "[PairOptimizer.optimize] p_optimal OptimizerBase.SimpleResult(result=0.4979713671855498, method='bisection', errormsg=None, context_dct=None) full_result [-2.43540853e-07  1.21421181e-07]\n",
      "[PairOptimizer.optimize] curves_t vBNT-7f94/BNT-FF1C\n",
      "[PairOptimizer.optimize] p_optimal OptimizerBase.SimpleResult(result=0.49797136718538826, method='bisection', errormsg=None, context_dct=None) full_result [ 7.33416528e-08 -3.64379957e-08]\n",
      "[PairOptimizer.optimize] curves_t vBNT-7f94/BNT-FF1C\n",
      "[PairOptimizer.optimize] p_optimal OptimizerBase.SimpleResult(result=0.4979713671852612, method='bisection', errormsg=None, context_dct=None) full_result [ 3.22936103e-07 -1.60653144e-07]\n",
      "[PairOptimizer.optimize] curves_t vBNT-7f94/BNT-FF1C\n",
      "[PairOptimizer.optimize] p_optimal OptimizerBase.SimpleResult(result=0.4979713671853365, method='bisection', errormsg=None, context_dct=None) full_result [ 1.75088644e-07 -8.70786607e-08]\n",
      "[PairOptimizer.optimize] curves_t vBNT-7f94/BNT-FF1C\n",
      "[PairOptimizer.optimize] p_optimal OptimizerBase.SimpleResult(result=0.4979713671853946, method='bisection', errormsg=None, context_dct=None) full_result [ 6.12344593e-08 -3.02679837e-08]\n",
      "[PairOptimizer.optimize] curves_t vBNT-7f94/BNT-FF1C\n",
      "[PairOptimizer.optimize] p_optimal OptimizerBase.SimpleResult(result=0.4979713671855437, method='bisection', errormsg=None, context_dct=None) full_result [-2.31200829e-07  1.15367584e-07]\n",
      "[PairOptimizer.optimize] curves_t vBNT-7f94/BNT-FF1C\n",
      "[PairOptimizer.optimize] p_optimal OptimizerBase.SimpleResult(result=0.4979713671856121, method='bisection', errormsg=None, context_dct=None) full_result [-3.65544111e-07  1.82073563e-07]\n",
      "[PairOptimizer.optimize] curves_t vBNT-7f94/BNT-FF1C\n",
      "[PairOptimizer.optimize] p_optimal OptimizerBase.SimpleResult(result=0.4979713671853978, method='bisection', errormsg=None, context_dct=None) full_result [ 5.49480319e-08 -2.72411853e-08]\n",
      "[PairOptimizer.optimize] curves_t vBNT-7f94/BNT-FF1C\n",
      "[PairOptimizer.optimize] p_optimal OptimizerBase.SimpleResult(result=0.49797136718555435, method='bisection', errormsg=None, context_dct=None) full_result [-2.52388418e-07  1.25844963e-07]\n",
      "[PairOptimizer.optimize] curves_t vBNT-7f94/BNT-FF1C\n",
      "[PairOptimizer.optimize] p_optimal OptimizerBase.SimpleResult(result=0.4979713671851882, method='bisection', errormsg=None, context_dct=None) full_result [ 4.66359779e-07 -2.32015736e-07]\n",
      "[PairOptimizer.optimize] curves_t vBNT-7f94/BNT-FF1C\n",
      "[PairOptimizer.optimize] p_optimal OptimizerBase.SimpleResult(result=0.4977218346705689, method='bisection', errormsg=None, context_dct=None) full_result [ 3.20274921e-07 -2.42115359e+01]\n"
     ]
    },
    {
     "data": {
      "application/vnd.jupyter.widget-view+json": {
       "model_id": "73dd2e830c00440cb4d588d649b0de5f",
       "version_major": 2,
       "version_minor": 0
      },
      "text/plain": [
       "0it [00:00, ?it/s]"
      ]
     },
     "metadata": {},
     "output_type": "display_data"
    },
    {
     "data": {
      "application/vnd.jupyter.widget-view+json": {
       "model_id": "5a004a2f12024846824b77577d904c51",
       "version_major": 2,
       "version_minor": 0
      },
      "text/plain": [
       "0it [00:00, ?it/s]"
      ]
     },
     "metadata": {},
     "output_type": "display_data"
    },
    {
     "data": {
      "application/vnd.jupyter.widget-view+json": {
       "model_id": "7be3aff4f02b4657afb8f708f7ff0079",
       "version_major": 2,
       "version_minor": 0
      },
      "text/plain": [
       "0it [00:00, ?it/s]"
      ]
     },
     "metadata": {},
     "output_type": "display_data"
    },
    {
     "data": {
      "application/vnd.jupyter.widget-view+json": {
       "model_id": "e8604b7e87c34a8481de76d083535c70",
       "version_major": 2,
       "version_minor": 0
      },
      "text/plain": [
       "0it [00:00, ?it/s]"
      ]
     },
     "metadata": {},
     "output_type": "display_data"
    },
    {
     "data": {
      "application/vnd.jupyter.widget-view+json": {
       "model_id": "ab7d58e27f884848bd9efa642ddaed7f",
       "version_major": 2,
       "version_minor": 0
      },
      "text/plain": [
       "0it [00:00, ?it/s]"
      ]
     },
     "metadata": {},
     "output_type": "display_data"
    },
    {
     "data": {
      "application/vnd.jupyter.widget-view+json": {
       "model_id": "672688bda8b5444baeed0460984687d2",
       "version_major": 2,
       "version_minor": 0
      },
      "text/plain": [
       "0it [00:00, ?it/s]"
      ]
     },
     "metadata": {},
     "output_type": "display_data"
    },
    {
     "data": {
      "application/vnd.jupyter.widget-view+json": {
       "model_id": "cd9b9fafde33404f833710b17e8d375e",
       "version_major": 2,
       "version_minor": 0
      },
      "text/plain": [
       "0it [00:00, ?it/s]"
      ]
     },
     "metadata": {},
     "output_type": "display_data"
    },
    {
     "data": {
      "application/vnd.jupyter.widget-view+json": {
       "model_id": "146d5833e8e443ba96104ec5146d98b1",
       "version_major": 2,
       "version_minor": 0
      },
      "text/plain": [
       "0it [00:00, ?it/s]"
      ]
     },
     "metadata": {},
     "output_type": "display_data"
    },
    {
     "data": {
      "application/vnd.jupyter.widget-view+json": {
       "model_id": "f372d70c254a4e7ea6a5ebb7cad2f568",
       "version_major": 2,
       "version_minor": 0
      },
      "text/plain": [
       "0it [00:00, ?it/s]"
      ]
     },
     "metadata": {},
     "output_type": "display_data"
    },
    {
     "data": {
      "application/vnd.jupyter.widget-view+json": {
       "model_id": "9247db1de72b4878809f31e82ae0c830",
       "version_major": 2,
       "version_minor": 0
      },
      "text/plain": [
       "0it [00:00, ?it/s]"
      ]
     },
     "metadata": {},
     "output_type": "display_data"
    },
    {
     "data": {
      "application/vnd.jupyter.widget-view+json": {
       "model_id": "e4d21af1d9e04636ba65c3131f72c32d",
       "version_major": 2,
       "version_minor": 0
      },
      "text/plain": [
       "0it [00:00, ?it/s]"
      ]
     },
     "metadata": {},
     "output_type": "display_data"
    },
    {
     "data": {
      "application/vnd.jupyter.widget-view+json": {
       "model_id": "24d2175f462b4caf9f679902728fdaf9",
       "version_major": 2,
       "version_minor": 0
      },
      "text/plain": [
       "0it [00:00, ?it/s]"
      ]
     },
     "metadata": {},
     "output_type": "display_data"
    },
    {
     "data": {
      "application/vnd.jupyter.widget-view+json": {
       "model_id": "330eebc9d21f48f49826494fb3672db2",
       "version_major": 2,
       "version_minor": 0
      },
      "text/plain": [
       "  0%|          | 0/2 [00:00<?, ?it/s]"
      ]
     },
     "metadata": {},
     "output_type": "display_data"
    },
    {
     "name": "stdout",
     "output_type": "stream",
     "text": [
      "[PairOptimizer.optimize] curves_t wstETH-2Ca0/USDC-eB48\n",
      "[PairOptimizer.optimize] p_optimal OptimizerBase.SimpleResult(result=2132.8228517299513, method='bisection', errormsg=None, context_dct=None) full_result [ 1.12692078e-11 -2.40397640e-08]\n",
      "[PairOptimizer.optimize] curves_t wstETH-2Ca0/USDC-eB48\n",
      "[PairOptimizer.optimize] p_optimal OptimizerBase.SimpleResult(result=2132.8228517296384, method='bisection', errormsg=None, context_dct=None) full_result [ 1.99236183e-11 -4.24915925e-08]\n"
     ]
    },
    {
     "data": {
      "application/vnd.jupyter.widget-view+json": {
       "model_id": "0ef6daa8277e4bb6bd1bc1d5cbdab62f",
       "version_major": 2,
       "version_minor": 0
      },
      "text/plain": [
       "0it [00:00, ?it/s]"
      ]
     },
     "metadata": {},
     "output_type": "display_data"
    },
    {
     "data": {
      "application/vnd.jupyter.widget-view+json": {
       "model_id": "639eb3b8cd2348e7b4a5afa3847b3ad0",
       "version_major": 2,
       "version_minor": 0
      },
      "text/plain": [
       "0it [00:00, ?it/s]"
      ]
     },
     "metadata": {},
     "output_type": "display_data"
    },
    {
     "data": {
      "application/vnd.jupyter.widget-view+json": {
       "model_id": "82a135b8590c4d7c88cad228d829f76d",
       "version_major": 2,
       "version_minor": 0
      },
      "text/plain": [
       "  0%|          | 0/39 [00:00<?, ?it/s]"
      ]
     },
     "metadata": {},
     "output_type": "display_data"
    },
    {
     "name": "stdout",
     "output_type": "stream",
     "text": [
      "[PairOptimizer.optimize] curves_t WETH-6Cc2/USDT-1ec7\n",
      "[PairOptimizer.optimize] p_optimal OptimizerBase.SimpleResult(result=1890.3902599636826, method='bisection', errormsg=None, context_dct=None) full_result [ 3.43752617e-08 -6.91041350e-05]\n",
      "[PairOptimizer.optimize] curves_t WETH-6Cc2/USDT-1ec7\n",
      "[PairOptimizer.optimize] p_optimal OptimizerBase.SimpleResult(result=1890.3902598796512, method='bisection', errormsg=None, context_dct=None) full_result [ 4.23751771e-08 -8.02278519e-05]\n",
      "[PairOptimizer.optimize] curves_t WETH-6Cc2/USDT-1ec7\n",
      "[PairOptimizer.optimize] p_optimal OptimizerBase.SimpleResult(result=1890.3902598804298, method='bisection', errormsg=None, context_dct=None) full_result [-2.00816430e-08  3.79085541e-05]\n",
      "[PairOptimizer.optimize] curves_t WETH-6Cc2/USDT-1ec7\n",
      "[PairOptimizer.optimize] p_optimal OptimizerBase.SimpleResult(result=1890.3902598796158, method='bisection', errormsg=None, context_dct=None) full_result [ 4.52273525e-08 -8.54730606e-05]\n",
      "[PairOptimizer.optimize] curves_t WETH-6Cc2/USDT-1ec7\n",
      "[PairOptimizer.optimize] p_optimal OptimizerBase.SimpleResult(result=1890.3902598801792, method='bisection', errormsg=None, context_dct=None) full_result [0. 0.]\n",
      "[PairOptimizer.optimize] curves_t WETH-6Cc2/USDT-1ec7\n",
      "[PairOptimizer.optimize] p_optimal OptimizerBase.SimpleResult(result=1890.3902598800487, method='bisection', errormsg=None, context_dct=None) full_result [ 1.05355866e-08 -1.99079514e-05]\n",
      "[PairOptimizer.optimize] curves_t WETH-6Cc2/USDT-1ec7\n",
      "[PairOptimizer.optimize] p_optimal OptimizerBase.SimpleResult(result=1890.3902598806571, method='bisection', errormsg=None, context_dct=None) full_result [-3.83006409e-08  7.23600388e-05]\n",
      "[PairOptimizer.optimize] curves_t WETH-6Cc2/USDT-1ec7\n",
      "[PairOptimizer.optimize] p_optimal OptimizerBase.SimpleResult(result=1890.3902700162016, method='bisection', errormsg=None, context_dct=None) full_result [-4.18058548e-08 -2.80974927e-02]\n",
      "[PairOptimizer.optimize] curves_t WETH-6Cc2/USDT-1ec7\n",
      "[PairOptimizer.optimize] p_optimal OptimizerBase.SimpleResult(result=1890.390259880636, method='bisection', errormsg=None, context_dct=None) full_result [-3.66126187e-08  6.92605972e-05]\n",
      "[PairOptimizer.optimize] curves_t WETH-6Cc2/USDT-1ec7\n",
      "[PairOptimizer.optimize] p_optimal OptimizerBase.SimpleResult(result=1890.3902598796271, method='bisection', errormsg=None, context_dct=None) full_result [ 4.43542376e-08 -8.38041306e-05]\n",
      "[PairOptimizer.optimize] curves_t WETH-6Cc2/USDT-1ec7\n",
      "[PairOptimizer.optimize] p_optimal OptimizerBase.SimpleResult(result=1890.3902598805803, method='bisection', errormsg=None, context_dct=None) full_result [-3.21888365e-08  6.07967377e-05]\n",
      "[PairOptimizer.optimize] curves_t WETH-6Cc2/USDT-1ec7\n",
      "[PairOptimizer.optimize] p_optimal OptimizerBase.SimpleResult(result=1890.3902598803247, method='bisection', errormsg=None, context_dct=None) full_result [-1.16415322e-08  2.19345093e-05]\n",
      "[PairOptimizer.optimize] curves_t WETH-6Cc2/USDT-1ec7\n",
      "[PairOptimizer.optimize] p_optimal OptimizerBase.SimpleResult(result=1890.3902598804148, method='bisection', errormsg=None, context_dct=None) full_result [-1.88592821e-08  3.56435776e-05]\n",
      "[PairOptimizer.optimize] curves_t WETH-6Cc2/USDT-1ec7\n",
      "[PairOptimizer.optimize] p_optimal OptimizerBase.SimpleResult(result=1889.145889168184, method='bisection', errormsg=None, context_dct=None) full_result [-1.00080797e-08  6.41494989e-06]\n",
      "[PairOptimizer.optimize] curves_t WETH-6Cc2/USDT-1ec7\n",
      "[PairOptimizer.optimize] p_optimal OptimizerBase.SimpleResult(result=1889.145888876507, method='bisection', errormsg=None, context_dct=None) full_result [-1.26019586e-08  2.38120556e-05]\n",
      "[PairOptimizer.optimize] curves_t WETH-6Cc2/USDT-1ec7\n",
      "[PairOptimizer.optimize] p_optimal OptimizerBase.SimpleResult(result=1889.1458888757393, method='bisection', errormsg=None, context_dct=None) full_result [ 5.09317033e-09 -9.62615013e-06]\n",
      "[PairOptimizer.optimize] curves_t WETH-6Cc2/USDT-1ec7\n",
      "[PairOptimizer.optimize] p_optimal OptimizerBase.SimpleResult(result=1889.1458888758934, method='bisection', errormsg=None, context_dct=None) full_result [ 1.54250301e-09 -2.92062759e-06]\n",
      "[PairOptimizer.optimize] curves_t WETH-6Cc2/USDT-1ec7\n",
      "[PairOptimizer.optimize] p_optimal OptimizerBase.SimpleResult(result=1889.1458888762731, method='bisection', errormsg=None, context_dct=None) full_result [-7.21774995e-09  1.36494637e-05]\n",
      "[PairOptimizer.optimize] curves_t WETH-6Cc2/USDT-1ec7\n",
      "[PairOptimizer.optimize] p_optimal OptimizerBase.SimpleResult(result=1889.1458888758175, method='bisection', errormsg=None, context_dct=None) full_result [ 3.30328476e-09 -6.22868538e-06]\n",
      "[PairOptimizer.optimize] curves_t WETH-6Cc2/USDT-1ec7\n",
      "[PairOptimizer.optimize] p_optimal OptimizerBase.SimpleResult(result=1889.145888875436, method='bisection', errormsg=None, context_dct=None) full_result [ 1.21071935e-08 -2.28583813e-05]\n",
      "[PairOptimizer.optimize] curves_t WETH-6Cc2/USDT-1ec7\n",
      "[PairOptimizer.optimize] p_optimal OptimizerBase.SimpleResult(result=1889.145924112016, method='bisection', errormsg=None, context_dct=None) full_result [ 9.60606172e-09 -2.92068245e-02]\n",
      "[PairOptimizer.optimize] curves_t WETH-6Cc2/USDT-1ec7\n",
      "[PairOptimizer.optimize] p_optimal OptimizerBase.SimpleResult(result=1889.1458888762695, method='bisection', errormsg=None, context_dct=None) full_result [-7.13043846e-09  1.34706497e-05]\n",
      "[PairOptimizer.optimize] curves_t WETH-6Cc2/USDT-1ec7\n",
      "[PairOptimizer.optimize] p_optimal OptimizerBase.SimpleResult(result=1889.1458888752281, method='bisection', errormsg=None, context_dct=None) full_result [ 1.69093255e-08 -3.19480896e-05]\n",
      "[PairOptimizer.optimize] curves_t WETH-6Cc2/USDT-1ec7\n",
      "[PairOptimizer.optimize] p_optimal OptimizerBase.SimpleResult(result=1889.1458888757306, method='bisection', errormsg=None, context_dct=None) full_result [ 5.29689714e-09 -1.00135803e-05]\n",
      "[PairOptimizer.optimize] curves_t WETH-6Cc2/USDT-1ec7\n",
      "[PairOptimizer.optimize] p_optimal OptimizerBase.SimpleResult(result=1889.1458888758277, method='bisection', errormsg=None, context_dct=None) full_result [ 3.05590220e-09 -5.78165054e-06]\n",
      "[PairOptimizer.optimize] curves_t WETH-6Cc2/USDT-1ec7\n",
      "[PairOptimizer.optimize] p_optimal OptimizerBase.SimpleResult(result=1889.1458888764319, method='bisection', errormsg=None, context_dct=None) full_result [-1.08848326e-08  2.05636024e-05]\n",
      "[PairOptimizer.optimize] curves_t WETH-6Cc2/USDT-1ec7\n",
      "[PairOptimizer.optimize] p_optimal OptimizerBase.SimpleResult(result=1881.7106092876686, method='bisection', errormsg=None, context_dct=None) full_result [-2.40470399e-09 -5.80400229e-05]\n",
      "[PairOptimizer.optimize] curves_t WETH-6Cc2/USDT-1ec7\n",
      "[PairOptimizer.optimize] p_optimal OptimizerBase.SimpleResult(result=1881.710608190668, method='bisection', errormsg=None, context_dct=None) full_result [ 3.57977115e-09 -6.74277544e-06]\n",
      "[PairOptimizer.optimize] curves_t WETH-6Cc2/USDT-1ec7\n",
      "[PairOptimizer.optimize] p_optimal OptimizerBase.SimpleResult(result=1881.7106081911547, method='bisection', errormsg=None, context_dct=None) full_result [ 5.85714588e-10 -1.11013651e-06]\n",
      "[PairOptimizer.optimize] curves_t WETH-6Cc2/USDT-1ec7\n",
      "[PairOptimizer.optimize] p_optimal OptimizerBase.SimpleResult(result=1881.7106081913296, method='bisection', errormsg=None, context_dct=None) full_result [-4.87489160e-10  9.16421413e-07]\n",
      "[PairOptimizer.optimize] curves_t WETH-6Cc2/USDT-1ec7\n",
      "[PairOptimizer.optimize] p_optimal OptimizerBase.SimpleResult(result=1881.710608190739, method='bisection', errormsg=None, context_dct=None) full_result [ 3.13957571e-09 -5.91576099e-06]\n",
      "[PairOptimizer.optimize] curves_t WETH-6Cc2/USDT-1ec7\n",
      "[PairOptimizer.optimize] p_optimal OptimizerBase.SimpleResult(result=1881.7106081908473, method='bisection', errormsg=None, context_dct=None) full_result [ 2.47746357e-09 -4.66406345e-06]\n",
      "[PairOptimizer.optimize] curves_t WETH-6Cc2/USDT-1ec7\n",
      "[PairOptimizer.optimize] p_optimal OptimizerBase.SimpleResult(result=1881.7106081914208, method='bisection', errormsg=None, context_dct=None) full_result [-1.04773790e-09  1.97440386e-06]\n",
      "[PairOptimizer.optimize] curves_t WETH-6Cc2/USDT-1ec7\n",
      "[PairOptimizer.optimize] p_optimal OptimizerBase.SimpleResult(result=1881.710740546815, method='bisection', errormsg=None, context_dct=None) full_result [ 1.62797420e-09 -3.52394553e-02]\n",
      "[PairOptimizer.optimize] curves_t WETH-6Cc2/USDT-1ec7\n",
      "[PairOptimizer.optimize] p_optimal OptimizerBase.SimpleResult(result=1881.7106081909023, method='bisection', errormsg=None, context_dct=None) full_result [ 2.13549356e-09 -4.02331352e-06]\n",
      "[PairOptimizer.optimize] curves_t WETH-6Cc2/USDT-1ec7\n",
      "[PairOptimizer.optimize] p_optimal OptimizerBase.SimpleResult(result=1881.7106081915688, method='bisection', errormsg=None, context_dct=None) full_result [-1.95723260e-09  3.68058681e-06]\n",
      "[PairOptimizer.optimize] curves_t WETH-6Cc2/USDT-1ec7\n",
      "[PairOptimizer.optimize] p_optimal OptimizerBase.SimpleResult(result=1881.7106081915645, method='bisection', errormsg=None, context_dct=None) full_result [-1.93176675e-09  3.63588333e-06]\n",
      "[PairOptimizer.optimize] curves_t WETH-6Cc2/USDT-1ec7\n",
      "[PairOptimizer.optimize] p_optimal OptimizerBase.SimpleResult(result=1881.7106081915751, method='bisection', errormsg=None, context_dct=None) full_result [-1.99725037e-09  3.75509262e-06]\n",
      "[PairOptimizer.optimize] curves_t WETH-6Cc2/USDT-1ec7\n",
      "[PairOptimizer.optimize] p_optimal OptimizerBase.SimpleResult(result=1881.7106081909228, method='bisection', errormsg=None, context_dct=None) full_result [ 2.01180228e-09 -3.78489494e-06]\n"
     ]
    },
    {
     "data": {
      "application/vnd.jupyter.widget-view+json": {
       "model_id": "d5979d29eb144796956471ec55d83e41",
       "version_major": 2,
       "version_minor": 0
      },
      "text/plain": [
       "  0%|          | 0/4 [00:00<?, ?it/s]"
      ]
     },
     "metadata": {},
     "output_type": "display_data"
    },
    {
     "name": "stdout",
     "output_type": "stream",
     "text": [
      "[PairOptimizer.optimize] curves_t WETH-6Cc2/BNT-FF1C\n",
      "[PairOptimizer.optimize] p_optimal OptimizerBase.SimpleResult(result=4764.127397630187, method='bisection', errormsg=None, context_dct=None) full_result [ 2.75765188e-10 -2.38837158e+00]\n",
      "[PairOptimizer.optimize] curves_t WETH-6Cc2/BNT-FF1C\n",
      "[PairOptimizer.optimize] p_optimal OptimizerBase.SimpleResult(result=4764.138098143359, method='bisection', errormsg=None, context_dct=None) full_result [ 1.95996108e-10 -9.35047865e-07]\n",
      "[PairOptimizer.optimize] curves_t WETH-6Cc2/BNT-FF1C\n",
      "[PairOptimizer.optimize] p_optimal OptimizerBase.SimpleResult(result=4764.138098141909, method='bisection', errormsg=None, context_dct=None) full_result [ 7.35781214e-10 -3.50549817e-06]\n",
      "[PairOptimizer.optimize] curves_t WETH-6Cc2/BNT-FF1C\n",
      "[PairOptimizer.optimize] p_optimal OptimizerBase.SimpleResult(result=4764.138098143836, method='bisection', errormsg=None, context_dct=None) full_result [ 1.86446414e-11 -8.94069672e-08]\n"
     ]
    },
    {
     "data": {
      "application/vnd.jupyter.widget-view+json": {
       "model_id": "ee6394f52645405abc4d42bf82c23ca3",
       "version_major": 2,
       "version_minor": 0
      },
      "text/plain": [
       "  0%|          | 0/16 [00:00<?, ?it/s]"
      ]
     },
     "metadata": {},
     "output_type": "display_data"
    },
    {
     "name": "stdout",
     "output_type": "stream",
     "text": [
      "[PairOptimizer.optimize] curves_t WBTC-C599/WETH-6Cc2\n",
      "[PairOptimizer.optimize] p_optimal OptimizerBase.SimpleResult(result=16.25127735725492, method='bisection', errormsg=None, context_dct=None) full_result [-2.74303602e-09  4.45870683e-08]\n",
      "[PairOptimizer.optimize] curves_t WBTC-C599/WETH-6Cc2\n",
      "[PairOptimizer.optimize] p_optimal OptimizerBase.SimpleResult(result=16.251277357233576, method='bisection', errormsg=None, context_dct=None) full_result [-1.81454762e-09  2.64954920e-08]\n",
      "[PairOptimizer.optimize] curves_t WBTC-C599/WETH-6Cc2\n",
      "[PairOptimizer.optimize] p_optimal OptimizerBase.SimpleResult(result=16.25127735724241, method='bisection', errormsg=None, context_dct=None) full_result [ 3.66344466e-09 -5.94882295e-08]\n",
      "[PairOptimizer.optimize] curves_t WBTC-C599/WETH-6Cc2\n",
      "[PairOptimizer.optimize] p_optimal OptimizerBase.SimpleResult(result=16.25127735725219, method='bisection', errormsg=None, context_dct=None) full_result [-1.34605216e-09  2.18860805e-08]\n",
      "[PairOptimizer.optimize] curves_t WBTC-C599/WETH-6Cc2\n",
      "[PairOptimizer.optimize] p_optimal OptimizerBase.SimpleResult(result=16.251277357247133, method='bisection', errormsg=None, context_dct=None) full_result [ 1.24418875e-09 -2.01980583e-08]\n",
      "[PairOptimizer.optimize] curves_t WBTC-C599/WETH-6Cc2\n",
      "[PairOptimizer.optimize] p_optimal OptimizerBase.SimpleResult(result=16.251277357247766, method='bisection', errormsg=None, context_dct=None) full_result [ 9.20408638e-10 -1.49593689e-08]\n",
      "[PairOptimizer.optimize] curves_t WBTC-C599/WETH-6Cc2\n",
      "[PairOptimizer.optimize] p_optimal OptimizerBase.SimpleResult(result=16.251275647061092, method='bisection', errormsg=None, context_dct=None) full_result [-3.39941160e-08 -6.70070222e-09]\n",
      "[PairOptimizer.optimize] curves_t WBTC-C599/WETH-6Cc2\n",
      "[PairOptimizer.optimize] p_optimal OptimizerBase.SimpleResult(result=16.25127735724613, method='bisection', errormsg=None, context_dct=None) full_result [ 1.75714376e-09 -2.85217538e-08]\n",
      "[PairOptimizer.optimize] curves_t WBTC-C599/WETH-6Cc2\n",
      "[PairOptimizer.optimize] p_optimal OptimizerBase.SimpleResult(result=16.262500335191948, method='bisection', errormsg=None, context_dct=None) full_result [-7.50151230e-09  1.22003257e-07]\n",
      "[PairOptimizer.optimize] curves_t WBTC-C599/WETH-6Cc2\n",
      "[PairOptimizer.optimize] p_optimal OptimizerBase.SimpleResult(result=16.262500335181386, method='bisection', errormsg=None, context_dct=None) full_result [-4.99414110e-09  7.80092719e-08]\n",
      "[PairOptimizer.optimize] curves_t WBTC-C599/WETH-6Cc2\n",
      "[PairOptimizer.optimize] p_optimal OptimizerBase.SimpleResult(result=16.262500335186033, method='bisection', errormsg=None, context_dct=None) full_result [-4.94765118e-10  7.91624188e-09]\n",
      "[PairOptimizer.optimize] curves_t WBTC-C599/WETH-6Cc2\n",
      "[PairOptimizer.optimize] p_optimal OptimizerBase.SimpleResult(result=16.26250033519087, method='bisection', errormsg=None, context_dct=None) full_result [-6.22821972e-09  1.01281330e-07]\n",
      "[PairOptimizer.optimize] curves_t WBTC-C599/WETH-6Cc2\n",
      "[PairOptimizer.optimize] p_optimal OptimizerBase.SimpleResult(result=16.262500335190833, method='bisection', errormsg=None, context_dct=None) full_result [-6.17728801e-09  1.00466423e-07]\n",
      "[PairOptimizer.optimize] curves_t WBTC-C599/WETH-6Cc2\n",
      "[PairOptimizer.optimize] p_optimal OptimizerBase.SimpleResult(result=16.262500335185337, method='bisection', errormsg=None, context_dct=None) full_result [ 3.34694050e-10 -5.47152013e-09]\n",
      "[PairOptimizer.optimize] curves_t WBTC-C599/WETH-6Cc2\n",
      "[PairOptimizer.optimize] p_optimal OptimizerBase.SimpleResult(result=16.26249310669788, method='bisection', errormsg=None, context_dct=None) full_result [-3.29367515e-06 -1.28529791e-08]\n",
      "[PairOptimizer.optimize] curves_t WBTC-C599/WETH-6Cc2\n",
      "[PairOptimizer.optimize] p_optimal OptimizerBase.SimpleResult(result=16.262500335189472, method='bisection', errormsg=None, context_dct=None) full_result [-4.57657734e-09  7.43893906e-08]\n"
     ]
    },
    {
     "data": {
      "application/vnd.jupyter.widget-view+json": {
       "model_id": "63891a261a5e4a80a62ccf890d515fff",
       "version_major": 2,
       "version_minor": 0
      },
      "text/plain": [
       "  0%|          | 0/54 [00:00<?, ?it/s]"
      ]
     },
     "metadata": {},
     "output_type": "display_data"
    },
    {
     "name": "stdout",
     "output_type": "stream",
     "text": [
      "[PairOptimizer.optimize] curves_t WETH-6Cc2/USDC-eB48\n",
      "[PairOptimizer.optimize] p_optimal OptimizerBase.SimpleResult(result=1888.9922146301515, method='bisection', errormsg=None, context_dct=None) full_result [-4.74392436e-09  8.94069672e-06]\n",
      "[PairOptimizer.optimize] curves_t WETH-6Cc2/USDC-eB48\n",
      "[PairOptimizer.optimize] p_optimal OptimizerBase.SimpleResult(result=1888.992214629935, method='bisection', errormsg=None, context_dct=None) full_result [ 5.41331246e-09 -1.02519989e-05]\n",
      "[PairOptimizer.optimize] curves_t WETH-6Cc2/USDC-eB48\n",
      "[PairOptimizer.optimize] p_optimal OptimizerBase.SimpleResult(result=1888.9922146308772, method='bisection', errormsg=None, context_dct=None) full_result [-3.87663022e-08  7.32541084e-05]\n",
      "[PairOptimizer.optimize] curves_t WETH-6Cc2/USDC-eB48\n",
      "[PairOptimizer.optimize] p_optimal OptimizerBase.SimpleResult(result=1888.9922146296476, method='bisection', errormsg=None, context_dct=None) full_result [ 1.88883860e-08 -3.56435776e-05]\n",
      "[PairOptimizer.optimize] curves_t WETH-6Cc2/USDC-eB48\n",
      "[PairOptimizer.optimize] p_optimal OptimizerBase.SimpleResult(result=1888.992214630152, method='bisection', errormsg=None, context_dct=None) full_result [-4.74392436e-09  8.94069672e-06]\n",
      "[PairOptimizer.optimize] curves_t WETH-6Cc2/USDC-eB48\n",
      "[PairOptimizer.optimize] p_optimal OptimizerBase.SimpleResult(result=1888.9922146300873, method='bisection', errormsg=None, context_dct=None) full_result [-1.71712600e-09  3.27825546e-06]\n",
      "[PairOptimizer.optimize] curves_t WETH-6Cc2/USDC-eB48\n",
      "[PairOptimizer.optimize] p_optimal OptimizerBase.SimpleResult(result=1888.9922146304884, method='bisection', errormsg=None, context_dct=None) full_result [-2.05182005e-08  3.88026237e-05]\n",
      "[PairOptimizer.optimize] curves_t WETH-6Cc2/USDC-eB48\n",
      "[PairOptimizer.optimize] p_optimal OptimizerBase.SimpleResult(result=1888.9922146299593, method='bisection', errormsg=None, context_dct=None) full_result [ 4.30736691e-09 -8.10623169e-06]\n",
      "[PairOptimizer.optimize] curves_t WETH-6Cc2/USDC-eB48\n",
      "[PairOptimizer.optimize] p_optimal OptimizerBase.SimpleResult(result=1888.992214629823, method='bisection', errormsg=None, context_dct=None) full_result [ 1.06811058e-08 -2.01463699e-05]\n",
      "[PairOptimizer.optimize] curves_t WETH-6Cc2/USDC-eB48\n",
      "[PairOptimizer.optimize] p_optimal OptimizerBase.SimpleResult(result=1888.9922146295216, method='bisection', errormsg=None, context_dct=None) full_result [ 2.48255674e-08 -4.68492508e-05]\n",
      "[PairOptimizer.optimize] curves_t WETH-6Cc2/USDC-eB48\n",
      "[PairOptimizer.optimize] p_optimal OptimizerBase.SimpleResult(result=1888.992214630285, method='bisection', errormsg=None, context_dct=None) full_result [-1.09721441e-08  2.07424164e-05]\n",
      "[PairOptimizer.optimize] curves_t WETH-6Cc2/USDC-eB48\n",
      "[PairOptimizer.optimize] p_optimal OptimizerBase.SimpleResult(result=1888.992214630096, method='bisection', errormsg=None, context_dct=None) full_result [-2.12457962e-09  4.05311584e-06]\n",
      "[PairOptimizer.optimize] curves_t WETH-6Cc2/USDC-eB48\n",
      "[PairOptimizer.optimize] p_optimal OptimizerBase.SimpleResult(result=1888.9922146296672, method='bisection', errormsg=None, context_dct=None) full_result [ 1.79861672e-08 -3.39150429e-05]\n",
      "[PairOptimizer.optimize] curves_t WETH-6Cc2/USDC-eB48\n",
      "[PairOptimizer.optimize] p_optimal OptimizerBase.SimpleResult(result=1888.992214630273, method='bisection', errormsg=None, context_dct=None) full_result [-1.04482751e-08  1.97291374e-05]\n",
      "[PairOptimizer.optimize] curves_t WETH-6Cc2/USDC-eB48\n",
      "[PairOptimizer.optimize] p_optimal OptimizerBase.SimpleResult(result=1888.992214630557, method='bisection', errormsg=None, context_dct=None) full_result [-2.37487257e-08  4.48822975e-05]\n",
      "[PairOptimizer.optimize] curves_t WETH-6Cc2/USDC-eB48\n",
      "[PairOptimizer.optimize] p_optimal OptimizerBase.SimpleResult(result=1888.9922146305262, method='bisection', errormsg=None, context_dct=None) full_result [-2.23226380e-08  4.21404839e-05]\n",
      "[PairOptimizer.optimize] curves_t WETH-6Cc2/USDC-eB48\n",
      "[PairOptimizer.optimize] p_optimal OptimizerBase.SimpleResult(result=1888.9922146295794, method='bisection', errormsg=None, context_dct=None) full_result [ 2.21189111e-08 -4.17828560e-05]\n",
      "[PairOptimizer.optimize] curves_t WETH-6Cc2/USDC-eB48\n",
      "[PairOptimizer.optimize] p_optimal OptimizerBase.SimpleResult(result=1888.9922146299941, method='bisection', errormsg=None, context_dct=None) full_result [ 2.67755240e-09 -5.00679016e-06]\n",
      "[PairOptimizer.optimize] curves_t WETH-6Cc2/USDC-eB48\n",
      "[PairOptimizer.optimize] p_optimal OptimizerBase.SimpleResult(result=1888.9922146298563, method='bisection', errormsg=None, context_dct=None) full_result [ 9.10949893e-09 -1.71661377e-05]\n",
      "[PairOptimizer.optimize] curves_t WETH-6Cc2/USDC-eB48\n",
      "[PairOptimizer.optimize] p_optimal OptimizerBase.SimpleResult(result=1888.9922146307526, method='bisection', errormsg=None, context_dct=None) full_result [-3.29164322e-08  6.21676445e-05]\n",
      "[PairOptimizer.optimize] curves_t WETH-6Cc2/USDC-eB48\n",
      "[PairOptimizer.optimize] p_optimal OptimizerBase.SimpleResult(result=1888.9922146292975, method='bisection', errormsg=None, context_dct=None) full_result [ 3.53029463e-08 -6.66975975e-05]\n",
      "[PairOptimizer.optimize] curves_t WETH-6Cc2/USDC-eB48\n",
      "[PairOptimizer.optimize] p_optimal OptimizerBase.SimpleResult(result=1888.9922146298, method='bisection', errormsg=None, context_dct=None) full_result [ 1.17870513e-08 -2.22325325e-05]\n",
      "[PairOptimizer.optimize] curves_t WETH-6Cc2/USDC-eB48\n",
      "[PairOptimizer.optimize] p_optimal OptimizerBase.SimpleResult(result=1888.9922146296672, method='bisection', errormsg=None, context_dct=None) full_result [ 1.79861672e-08 -3.39150429e-05]\n",
      "[PairOptimizer.optimize] curves_t WETH-6Cc2/USDC-eB48\n",
      "[PairOptimizer.optimize] p_optimal OptimizerBase.SimpleResult(result=1888.9922146300303, method='bisection', errormsg=None, context_dct=None) full_result [ 9.60426405e-10 -1.78813934e-06]\n",
      "[PairOptimizer.optimize] curves_t WETH-6Cc2/USDC-eB48\n",
      "[PairOptimizer.optimize] p_optimal OptimizerBase.SimpleResult(result=1888.9922045502708, method='bisection', errormsg=None, context_dct=None) full_result [ 8.62382876e-09 -4.20819260e-02]\n",
      "[PairOptimizer.optimize] curves_t WETH-6Cc2/USDC-eB48\n",
      "[PairOptimizer.optimize] p_optimal OptimizerBase.SimpleResult(result=1888.9922146306424, method='bisection', errormsg=None, context_dct=None) full_result [-2.77650543e-08  5.24520874e-05]\n",
      "[PairOptimizer.optimize] curves_t WETH-6Cc2/USDC-eB48\n",
      "[PairOptimizer.optimize] p_optimal OptimizerBase.SimpleResult(result=1888.9922146304034, method='bisection', errormsg=None, context_dct=None) full_result [-1.65309757e-08  3.12328339e-05]\n",
      "[PairOptimizer.optimize] curves_t WETH-6Cc2/USDC-eB48\n",
      "[PairOptimizer.optimize] p_optimal OptimizerBase.SimpleResult(result=1888.9922146305626, method='bisection', errormsg=None, context_dct=None) full_result [-2.40106601e-08  4.54187393e-05]\n",
      "[PairOptimizer.optimize] curves_t WETH-6Cc2/USDC-eB48\n",
      "[PairOptimizer.optimize] p_optimal OptimizerBase.SimpleResult(result=1888.992214630815, method='bisection', errormsg=None, context_dct=None) full_result [-3.58268153e-08  6.77108765e-05]\n",
      "[PairOptimizer.optimize] curves_t WETH-6Cc2/USDC-eB48\n",
      "[PairOptimizer.optimize] p_optimal OptimizerBase.SimpleResult(result=1888.9922146306358, method='bisection', errormsg=None, context_dct=None) full_result [-2.74449121e-08  5.18560410e-05]\n",
      "[PairOptimizer.optimize] curves_t WETH-6Cc2/USDC-eB48\n",
      "[PairOptimizer.optimize] p_optimal OptimizerBase.SimpleResult(result=1888.9922146295798, method='bisection', errormsg=None, context_dct=None) full_result [ 2.20607035e-08 -4.16636467e-05]\n",
      "[PairOptimizer.optimize] curves_t WETH-6Cc2/USDC-eB48\n",
      "[PairOptimizer.optimize] p_optimal OptimizerBase.SimpleResult(result=1888.9922146296767, method='bisection', errormsg=None, context_dct=None) full_result [ 1.75496098e-08 -3.31401825e-05]\n",
      "[PairOptimizer.optimize] curves_t WETH-6Cc2/USDC-eB48\n",
      "[PairOptimizer.optimize] p_optimal OptimizerBase.SimpleResult(result=1888.992214630015, method='bisection', errormsg=None, context_dct=None) full_result [ 1.68802217e-09 -3.15904617e-06]\n",
      "[PairOptimizer.optimize] curves_t WETH-6Cc2/USDC-eB48\n",
      "[PairOptimizer.optimize] p_optimal OptimizerBase.SimpleResult(result=1888.9922146301515, method='bisection', errormsg=None, context_dct=None) full_result [-4.74392436e-09  8.94069672e-06]\n",
      "[PairOptimizer.optimize] curves_t WETH-6Cc2/USDC-eB48\n",
      "[PairOptimizer.optimize] p_optimal OptimizerBase.SimpleResult(result=1888.9922146304305, method='bisection', errormsg=None, context_dct=None) full_result [-1.77824404e-08  3.36170197e-05]\n",
      "[PairOptimizer.optimize] curves_t WETH-6Cc2/USDC-eB48\n",
      "[PairOptimizer.optimize] p_optimal OptimizerBase.SimpleResult(result=1888.9922146295005, method='bisection', errormsg=None, context_dct=None) full_result [ 2.53922954e-08 -4.79870996e-05]\n",
      "[PairOptimizer.optimize] curves_t WETH-6Cc2/USDC-eB48\n",
      "[PairOptimizer.optimize] p_optimal OptimizerBase.SimpleResult(result=1888.9922146295216, method='bisection', errormsg=None, context_dct=None) full_result [ 2.48255674e-08 -4.68492508e-05]\n",
      "[PairOptimizer.optimize] curves_t WETH-6Cc2/USDC-eB48\n",
      "[PairOptimizer.optimize] p_optimal OptimizerBase.SimpleResult(result=1888.9922146296672, method='bisection', errormsg=None, context_dct=None) full_result [ 1.79861672e-08 -3.39150429e-05]\n",
      "[PairOptimizer.optimize] curves_t WETH-6Cc2/USDC-eB48\n",
      "[PairOptimizer.optimize] p_optimal OptimizerBase.SimpleResult(result=1888.9922146306121, method='bisection', errormsg=None, context_dct=None) full_result [-2.63389666e-08  4.97698784e-05]\n",
      "[PairOptimizer.optimize] curves_t WETH-6Cc2/USDC-eB48\n",
      "[PairOptimizer.optimize] p_optimal OptimizerBase.SimpleResult(result=1888.9922146306424, method='bisection', errormsg=None, context_dct=None) full_result [-2.77650543e-08  5.24520874e-05]\n",
      "[PairOptimizer.optimize] curves_t WETH-6Cc2/USDC-eB48\n",
      "[PairOptimizer.optimize] p_optimal OptimizerBase.SimpleResult(result=1888.99221463018, method='bisection', errormsg=None, context_dct=None) full_result [-6.05359674e-09  1.15036964e-05]\n",
      "[PairOptimizer.optimize] curves_t WETH-6Cc2/USDC-eB48\n",
      "[PairOptimizer.optimize] p_optimal OptimizerBase.SimpleResult(result=1888.9922146308115, method='bisection', errormsg=None, context_dct=None) full_result [-3.56812961e-08  6.74128532e-05]\n",
      "[PairOptimizer.optimize] curves_t WETH-6Cc2/USDC-eB48\n",
      "[PairOptimizer.optimize] p_optimal OptimizerBase.SimpleResult(result=1888.9922146302497, method='bisection', errormsg=None, context_dct=None) full_result [-9.31322575e-09  1.76429749e-05]\n",
      "[PairOptimizer.optimize] curves_t WETH-6Cc2/USDC-eB48\n",
      "[PairOptimizer.optimize] p_optimal OptimizerBase.SimpleResult(result=1888.9922146300873, method='bisection', errormsg=None, context_dct=None) full_result [-1.71712600e-09  3.27825546e-06]\n",
      "[PairOptimizer.optimize] curves_t WETH-6Cc2/USDC-eB48\n",
      "[PairOptimizer.optimize] p_optimal OptimizerBase.SimpleResult(result=1888.9922146298663, method='bisection', errormsg=None, context_dct=None) full_result [ 8.64383765e-09 -1.63316727e-05]\n",
      "[PairOptimizer.optimize] curves_t WETH-6Cc2/USDC-eB48\n",
      "[PairOptimizer.optimize] p_optimal OptimizerBase.SimpleResult(result=1888.9922146297727, method='bisection', errormsg=None, context_dct=None) full_result [ 1.30385160e-08 -2.46167183e-05]\n",
      "[PairOptimizer.optimize] curves_t WETH-6Cc2/USDC-eB48\n",
      "[PairOptimizer.optimize] p_optimal OptimizerBase.SimpleResult(result=1888.9922146295776, method='bisection', errormsg=None, context_dct=None) full_result [ 2.21771188e-08 -4.18424606e-05]\n",
      "[PairOptimizer.optimize] curves_t WETH-6Cc2/USDC-eB48\n",
      "[PairOptimizer.optimize] p_optimal OptimizerBase.SimpleResult(result=1888.9922146300873, method='bisection', errormsg=None, context_dct=None) full_result [-1.71712600e-09  3.27825546e-06]\n",
      "[PairOptimizer.optimize] curves_t WETH-6Cc2/USDC-eB48\n",
      "[PairOptimizer.optimize] p_optimal OptimizerBase.SimpleResult(result=1888.9922146295798, method='bisection', errormsg=None, context_dct=None) full_result [ 2.20607035e-08 -4.16636467e-05]\n",
      "[PairOptimizer.optimize] curves_t WETH-6Cc2/USDC-eB48\n",
      "[PairOptimizer.optimize] p_optimal OptimizerBase.SimpleResult(result=1888.9922146299475, method='bisection', errormsg=None, context_dct=None) full_result [ 4.83123586e-09 -9.11951065e-06]\n",
      "[PairOptimizer.optimize] curves_t WETH-6Cc2/USDC-eB48\n",
      "[PairOptimizer.optimize] p_optimal OptimizerBase.SimpleResult(result=1888.9922146300873, method='bisection', errormsg=None, context_dct=None) full_result [-1.71712600e-09  3.27825546e-06]\n",
      "[PairOptimizer.optimize] curves_t WETH-6Cc2/USDC-eB48\n",
      "[PairOptimizer.optimize] p_optimal OptimizerBase.SimpleResult(result=1888.9922146306799, method='bisection', errormsg=None, context_dct=None) full_result [-2.94821803e-08  5.57303429e-05]\n",
      "[PairOptimizer.optimize] curves_t WETH-6Cc2/USDC-eB48\n",
      "[PairOptimizer.optimize] p_optimal OptimizerBase.SimpleResult(result=1888.9922146300873, method='bisection', errormsg=None, context_dct=None) full_result [-1.71712600e-09  3.27825546e-06]\n",
      "[PairOptimizer.optimize] curves_t WETH-6Cc2/USDC-eB48\n",
      "[PairOptimizer.optimize] p_optimal OptimizerBase.SimpleResult(result=1888.992214629823, method='bisection', errormsg=None, context_dct=None) full_result [ 1.06811058e-08 -2.01463699e-05]\n"
     ]
    },
    {
     "data": {
      "application/vnd.jupyter.widget-view+json": {
       "model_id": "607814fdfd324f9f9911708464ac6a26",
       "version_major": 2,
       "version_minor": 0
      },
      "text/plain": [
       "  0%|          | 0/18 [00:00<?, ?it/s]"
      ]
     },
     "metadata": {},
     "output_type": "display_data"
    },
    {
     "name": "stdout",
     "output_type": "stream",
     "text": [
      "[PairOptimizer.optimize] curves_t WETH-6Cc2/DAI-1d0F\n",
      "[PairOptimizer.optimize] p_optimal OptimizerBase.SimpleResult(result=1889.851635528572, method='bisection', errormsg=None, context_dct=None) full_result [-5.12227416e-09  9.67085361e-06]\n",
      "[PairOptimizer.optimize] curves_t WETH-6Cc2/DAI-1d0F\n",
      "[PairOptimizer.optimize] p_optimal OptimizerBase.SimpleResult(result=1889.8516355283218, method='bisection', errormsg=None, context_dct=None) full_result [-2.50292942e-09  4.73856926e-06]\n",
      "[PairOptimizer.optimize] curves_t WETH-6Cc2/DAI-1d0F\n",
      "[PairOptimizer.optimize] p_optimal OptimizerBase.SimpleResult(result=1889.8516355280997, method='bisection', errormsg=None, context_dct=None) full_result [-1.74622983e-10  3.42726707e-07]\n",
      "[PairOptimizer.optimize] curves_t WETH-6Cc2/DAI-1d0F\n",
      "[PairOptimizer.optimize] p_optimal OptimizerBase.SimpleResult(result=1889.8516355278348, method='bisection', errormsg=None, context_dct=None) full_result [ 2.59751687e-09 -4.91738319e-06]\n",
      "[PairOptimizer.optimize] curves_t WETH-6Cc2/DAI-1d0F\n",
      "[PairOptimizer.optimize] p_optimal OptimizerBase.SimpleResult(result=1889.8516355280783, method='bisection', errormsg=None, context_dct=None) full_result [ 5.09317023e-11 -8.94069672e-08]\n",
      "[PairOptimizer.optimize] curves_t WETH-6Cc2/DAI-1d0F\n",
      "[PairOptimizer.optimize] p_optimal OptimizerBase.SimpleResult(result=1889.8516355275206, method='bisection', errormsg=None, context_dct=None) full_result [ 5.88624971e-09 -1.11311674e-05]\n",
      "[PairOptimizer.optimize] curves_t WETH-6Cc2/DAI-1d0F\n",
      "[PairOptimizer.optimize] p_optimal OptimizerBase.SimpleResult(result=1889.8516355279294, method='bisection', errormsg=None, context_dct=None) full_result [ 1.60798663e-09 -3.03983688e-06]\n",
      "[PairOptimizer.optimize] curves_t WETH-6Cc2/DAI-1d0F\n",
      "[PairOptimizer.optimize] p_optimal OptimizerBase.SimpleResult(result=1889.8516355281563, method='bisection', errormsg=None, context_dct=None) full_result [-7.71251507e-10  1.46031380e-06]\n",
      "[PairOptimizer.optimize] curves_t WETH-6Cc2/DAI-1d0F\n",
      "[PairOptimizer.optimize] p_optimal OptimizerBase.SimpleResult(result=1889.8516355283907, method='bisection', errormsg=None, context_dct=None) full_result [-3.23052518e-09  6.09457493e-06]\n",
      "[PairOptimizer.optimize] curves_t WETH-6Cc2/DAI-1d0F\n",
      "[PairOptimizer.optimize] p_optimal OptimizerBase.SimpleResult(result=1889.2342508777206, method='bisection', errormsg=None, context_dct=None) full_result [ 5.60248736e-10 -1.05053186e-06]\n",
      "[PairOptimizer.optimize] curves_t WETH-6Cc2/DAI-1d0F\n",
      "[PairOptimizer.optimize] p_optimal OptimizerBase.SimpleResult(result=1889.2342508777572, method='bisection', errormsg=None, context_dct=None) full_result [ 2.40106601e-10 -4.47034836e-07]\n",
      "[PairOptimizer.optimize] curves_t WETH-6Cc2/DAI-1d0F\n",
      "[PairOptimizer.optimize] p_optimal OptimizerBase.SimpleResult(result=1889.2342508777629, method='bisection', errormsg=None, context_dct=None) full_result [ 1.89174898e-10 -3.57627869e-07]\n",
      "[PairOptimizer.optimize] curves_t WETH-6Cc2/DAI-1d0F\n",
      "[PairOptimizer.optimize] p_optimal OptimizerBase.SimpleResult(result=1889.234250877536, method='bisection', errormsg=None, context_dct=None) full_result [ 2.15004547e-09 -4.06056643e-06]\n",
      "[PairOptimizer.optimize] curves_t WETH-6Cc2/DAI-1d0F\n",
      "[PairOptimizer.optimize] p_optimal OptimizerBase.SimpleResult(result=1889.234250876973, method='bisection', errormsg=None, context_dct=None) full_result [ 7.02129910e-09 -1.32620335e-05]\n",
      "[PairOptimizer.optimize] curves_t WETH-6Cc2/DAI-1d0F\n",
      "[PairOptimizer.optimize] p_optimal OptimizerBase.SimpleResult(result=1889.2342508772217, method='bisection', errormsg=None, context_dct=None) full_result [ 4.87125362e-09 -9.19401646e-06]\n",
      "[PairOptimizer.optimize] curves_t WETH-6Cc2/DAI-1d0F\n",
      "[PairOptimizer.optimize] p_optimal OptimizerBase.SimpleResult(result=1889.23425087766, method='bisection', errormsg=None, context_dct=None) full_result [ 1.07684173e-09 -2.03400850e-06]\n",
      "[PairOptimizer.optimize] curves_t WETH-6Cc2/DAI-1d0F\n",
      "[PairOptimizer.optimize] p_optimal OptimizerBase.SimpleResult(result=1889.234250877545, method='bisection', errormsg=None, context_dct=None) full_result [ 2.07364792e-09 -3.91155481e-06]\n",
      "[PairOptimizer.optimize] curves_t WETH-6Cc2/DAI-1d0F\n",
      "[PairOptimizer.optimize] p_optimal OptimizerBase.SimpleResult(result=1889.2342508780198, method='bisection', errormsg=None, context_dct=None) full_result [-2.02635420e-09  3.82959843e-06]\n"
     ]
    },
    {
     "data": {
      "application/vnd.jupyter.widget-view+json": {
       "model_id": "56a059da7674467a8f1b2c1adb61a711",
       "version_major": 2,
       "version_minor": 0
      },
      "text/plain": [
       "0it [00:00, ?it/s]"
      ]
     },
     "metadata": {},
     "output_type": "display_data"
    },
    {
     "data": {
      "application/vnd.jupyter.widget-view+json": {
       "model_id": "6ced17d99b3548f8ad30c51418cd5db6",
       "version_major": 2,
       "version_minor": 0
      },
      "text/plain": [
       "0it [00:00, ?it/s]"
      ]
     },
     "metadata": {},
     "output_type": "display_data"
    },
    {
     "data": {
      "application/vnd.jupyter.widget-view+json": {
       "model_id": "c7a176de89d84360a3eb13a1d5bb5065",
       "version_major": 2,
       "version_minor": 0
      },
      "text/plain": [
       "  0%|          | 0/4 [00:00<?, ?it/s]"
      ]
     },
     "metadata": {},
     "output_type": "display_data"
    },
    {
     "name": "stdout",
     "output_type": "stream",
     "text": [
      "[PairOptimizer.optimize] curves_t WETH-6Cc2/BNT-FF1C\n",
      "[PairOptimizer.optimize] p_optimal OptimizerBase.SimpleResult(result=4764.128744550646, method='bisection', errormsg=None, context_dct=None) full_result [-5.01323496e-04 -9.32934199e-07]\n",
      "[PairOptimizer.optimize] curves_t WETH-6Cc2/BNT-FF1C\n",
      "[PairOptimizer.optimize] p_optimal OptimizerBase.SimpleResult(result=4764.138098143359, method='bisection', errormsg=None, context_dct=None) full_result [ 1.95996108e-10 -9.35047865e-07]\n",
      "[PairOptimizer.optimize] curves_t WETH-6Cc2/BNT-FF1C\n",
      "[PairOptimizer.optimize] p_optimal OptimizerBase.SimpleResult(result=4764.138098141909, method='bisection', errormsg=None, context_dct=None) full_result [ 7.35781214e-10 -3.50549817e-06]\n",
      "[PairOptimizer.optimize] curves_t WETH-6Cc2/BNT-FF1C\n",
      "[PairOptimizer.optimize] p_optimal OptimizerBase.SimpleResult(result=4764.138098143836, method='bisection', errormsg=None, context_dct=None) full_result [ 1.86446414e-11 -8.94069672e-08]\n"
     ]
    },
    {
     "data": {
      "application/vnd.jupyter.widget-view+json": {
       "model_id": "85af5c6774f544febf4b0fdd9321f409",
       "version_major": 2,
       "version_minor": 0
      },
      "text/plain": [
       "  0%|          | 0/6 [00:00<?, ?it/s]"
      ]
     },
     "metadata": {},
     "output_type": "display_data"
    },
    {
     "name": "stdout",
     "output_type": "stream",
     "text": [
      "[PairOptimizer.optimize] curves_t BNT-FF1C/USDC-eB48\n",
      "[PairOptimizer.optimize] p_optimal OptimizerBase.SimpleResult(result=0.3933388484434187, method='bisection', errormsg=None, context_dct=None) full_result [ 2.20257789e-07 -8.66129994e-08]\n",
      "[PairOptimizer.optimize] curves_t BNT-FF1C/USDC-eB48\n",
      "[PairOptimizer.optimize] p_optimal OptimizerBase.SimpleResult(result=0.3933388484435465, method='bisection', errormsg=None, context_dct=None) full_result [-2.22586095e-07  8.75443220e-08]\n",
      "[PairOptimizer.optimize] curves_t BNT-FF1C/USDC-eB48\n",
      "[PairOptimizer.optimize] p_optimal OptimizerBase.SimpleResult(result=0.3933388484434076, method='bisection', errormsg=None, context_dct=None) full_result [ 2.58907676e-07 -1.01746991e-07]\n",
      "[PairOptimizer.optimize] curves_t BNT-FF1C/USDC-eB48\n",
      "[PairOptimizer.optimize] p_optimal OptimizerBase.SimpleResult(result=0.39333884844358136, method='bisection', errormsg=None, context_dct=None) full_result [-3.43192369e-07  1.35041773e-07]\n",
      "[PairOptimizer.optimize] curves_t BNT-FF1C/USDC-eB48\n",
      "[PairOptimizer.optimize] p_optimal OptimizerBase.SimpleResult(result=0.39333798799177033, method='bisection', errormsg=None, context_dct=None) full_result [-1.90921128e-07 -9.95196286e-03]\n",
      "[PairOptimizer.optimize] curves_t BNT-FF1C/USDC-eB48\n",
      "[PairOptimizer.optimize] p_optimal OptimizerBase.SimpleResult(result=0.3933388484434884, method='bisection', errormsg=None, context_dct=None) full_result [-2.09547579e-08  8.14907253e-09]\n"
     ]
    },
    {
     "data": {
      "application/vnd.jupyter.widget-view+json": {
       "model_id": "50e5ad3a5c7c40d188a20bd08d931039",
       "version_major": 2,
       "version_minor": 0
      },
      "text/plain": [
       "  0%|          | 0/2 [00:00<?, ?it/s]"
      ]
     },
     "metadata": {},
     "output_type": "display_data"
    },
    {
     "name": "stdout",
     "output_type": "stream",
     "text": [
      "[PairOptimizer.optimize] curves_t LINK-86CA/USDT-1ec7\n",
      "[PairOptimizer.optimize] p_optimal OptimizerBase.SimpleResult(result=6.19811711141325, method='bisection', errormsg=None, context_dct=None) full_result [ 6.92898627e-10 -8.85219641e-03]\n",
      "[PairOptimizer.optimize] curves_t LINK-86CA/USDT-1ec7\n",
      "[PairOptimizer.optimize] p_optimal OptimizerBase.SimpleResult(result=6.198055572670811, method='bisection', errormsg=None, context_dct=None) full_result [-4.04725142e-10  2.51020538e-09]\n"
     ]
    },
    {
     "data": {
      "application/vnd.jupyter.widget-view+json": {
       "model_id": "bee05c884ead44fc8054c00f141bf2ad",
       "version_major": 2,
       "version_minor": 0
      },
      "text/plain": [
       "  0%|          | 0/2 [00:00<?, ?it/s]"
      ]
     },
     "metadata": {},
     "output_type": "display_data"
    },
    {
     "name": "stdout",
     "output_type": "stream",
     "text": [
      "[PairOptimizer.optimize] curves_t LINK-86CA/WETH-6Cc2\n",
      "[PairOptimizer.optimize] p_optimal OptimizerBase.SimpleResult(result=0.0033128000163160634, method='bisection', errormsg=None, context_dct=None) full_result [ 3.74391675e-06 -1.24127837e-08]\n",
      "[PairOptimizer.optimize] curves_t LINK-86CA/WETH-6Cc2\n",
      "[PairOptimizer.optimize] p_optimal OptimizerBase.SimpleResult(result=0.0033127999417103446, method='bisection', errormsg=None, context_dct=None) full_result [-2.84612179e-06 -2.81119865e-05]\n"
     ]
    },
    {
     "data": {
      "application/vnd.jupyter.widget-view+json": {
       "model_id": "e81ef8f3cc1e4e4f8cdb451e168773f8",
       "version_major": 2,
       "version_minor": 0
      },
      "text/plain": [
       "0it [00:00, ?it/s]"
      ]
     },
     "metadata": {},
     "output_type": "display_data"
    },
    {
     "data": {
      "application/vnd.jupyter.widget-view+json": {
       "model_id": "29d191e0f8244aba83d18e2443d1234f",
       "version_major": 2,
       "version_minor": 0
      },
      "text/plain": [
       "  0%|          | 0/2 [00:00<?, ?it/s]"
      ]
     },
     "metadata": {},
     "output_type": "display_data"
    },
    {
     "name": "stdout",
     "output_type": "stream",
     "text": [
      "[PairOptimizer.optimize] curves_t CRV-cd52/USDC-eB48\n",
      "[PairOptimizer.optimize] p_optimal OptimizerBase.SimpleResult(result=0.7931937487429332, method='bisection', errormsg=None, context_dct=None) full_result [-2.58442014e-08 -1.90724513e-01]\n",
      "[PairOptimizer.optimize] curves_t CRV-cd52/USDC-eB48\n",
      "[PairOptimizer.optimize] p_optimal OptimizerBase.SimpleResult(result=0.7931903130686275, method='bisection', errormsg=None, context_dct=None) full_result [-2.30502337e-08  1.81607902e-08]\n"
     ]
    },
    {
     "data": {
      "application/vnd.jupyter.widget-view+json": {
       "model_id": "e08b493bfe694a1e83813541db683284",
       "version_major": 2,
       "version_minor": 0
      },
      "text/plain": [
       "0it [00:00, ?it/s]"
      ]
     },
     "metadata": {},
     "output_type": "display_data"
    },
    {
     "data": {
      "application/vnd.jupyter.widget-view+json": {
       "model_id": "232a1de2aa1c40679999213095643269",
       "version_major": 2,
       "version_minor": 0
      },
      "text/plain": [
       "0it [00:00, ?it/s]"
      ]
     },
     "metadata": {},
     "output_type": "display_data"
    },
    {
     "data": {
      "application/vnd.jupyter.widget-view+json": {
       "model_id": "89caf172036543eaa228a343d2967e76",
       "version_major": 2,
       "version_minor": 0
      },
      "text/plain": [
       "0it [00:00, ?it/s]"
      ]
     },
     "metadata": {},
     "output_type": "display_data"
    },
    {
     "data": {
      "application/vnd.jupyter.widget-view+json": {
       "model_id": "efeaa7ccc8a64efca279f3e08deb13c9",
       "version_major": 2,
       "version_minor": 0
      },
      "text/plain": [
       "0it [00:00, ?it/s]"
      ]
     },
     "metadata": {},
     "output_type": "display_data"
    },
    {
     "data": {
      "application/vnd.jupyter.widget-view+json": {
       "model_id": "be7297dbf5584ccf8704d4734c8b4881",
       "version_major": 2,
       "version_minor": 0
      },
      "text/plain": [
       "  0%|          | 0/2 [00:00<?, ?it/s]"
      ]
     },
     "metadata": {},
     "output_type": "display_data"
    },
    {
     "name": "stdout",
     "output_type": "stream",
     "text": [
      "[PairOptimizer.optimize] curves_t HEX-eb39/WETH-6Cc2\n",
      "[PairOptimizer.optimize] p_optimal OptimizerBase.SimpleResult(result=4.639072734871654e-06, method='bisection', errormsg=None, context_dct=None) full_result [ 6.18013860e-06 -1.40883161e-03]\n",
      "[PairOptimizer.optimize] curves_t HEX-eb39/WETH-6Cc2\n",
      "[PairOptimizer.optimize] p_optimal OptimizerBase.SimpleResult(result=4.617372379227854e-06, method='bisection', errormsg=None, context_dct=None) full_result [-3.09833574e-05 -1.42138817e-03]\n"
     ]
    },
    {
     "data": {
      "application/vnd.jupyter.widget-view+json": {
       "model_id": "1ae519ffb9fd4fc6be8355eefc650f4f",
       "version_major": 2,
       "version_minor": 0
      },
      "text/plain": [
       "0it [00:00, ?it/s]"
      ]
     },
     "metadata": {},
     "output_type": "display_data"
    },
    {
     "data": {
      "application/vnd.jupyter.widget-view+json": {
       "model_id": "9d8aa79b46d4460a9911d6c43fed6249",
       "version_major": 2,
       "version_minor": 0
      },
      "text/plain": [
       "0it [00:00, ?it/s]"
      ]
     },
     "metadata": {},
     "output_type": "display_data"
    },
    {
     "data": {
      "application/vnd.jupyter.widget-view+json": {
       "model_id": "fc940c1ee8f84dedbf5144cb11e0185c",
       "version_major": 2,
       "version_minor": 0
      },
      "text/plain": [
       "0it [00:00, ?it/s]"
      ]
     },
     "metadata": {},
     "output_type": "display_data"
    },
    {
     "data": {
      "application/vnd.jupyter.widget-view+json": {
       "model_id": "84f80d472aab4a779c8fdcb2ed304502",
       "version_major": 2,
       "version_minor": 0
      },
      "text/plain": [
       "  0%|          | 0/1 [00:00<?, ?it/s]"
      ]
     },
     "metadata": {},
     "output_type": "display_data"
    },
    {
     "name": "stdout",
     "output_type": "stream",
     "text": [
      "[PairOptimizer.optimize] curves_t TSUKA-69eD/USDC-eB48\n",
      "[PairOptimizer.optimize] p_optimal OptimizerBase.SimpleResult(result=0.031129990028112127, method='bisection', errormsg=None, context_dct=None) full_result [ 1.87428668e-08 -5.82986104e-10]\n"
     ]
    },
    {
     "data": {
      "application/vnd.jupyter.widget-view+json": {
       "model_id": "aeef6fcdd919408dab095a3a88135a09",
       "version_major": 2,
       "version_minor": 0
      },
      "text/plain": [
       "0it [00:00, ?it/s]"
      ]
     },
     "metadata": {},
     "output_type": "display_data"
    },
    {
     "data": {
      "application/vnd.jupyter.widget-view+json": {
       "model_id": "02ce98df53be460e89c10609147c83aa",
       "version_major": 2,
       "version_minor": 0
      },
      "text/plain": [
       "0it [00:00, ?it/s]"
      ]
     },
     "metadata": {},
     "output_type": "display_data"
    },
    {
     "data": {
      "application/vnd.jupyter.widget-view+json": {
       "model_id": "f8a5266c547f463eb46f1b3671d1623b",
       "version_major": 2,
       "version_minor": 0
      },
      "text/plain": [
       "0it [00:00, ?it/s]"
      ]
     },
     "metadata": {},
     "output_type": "display_data"
    },
    {
     "data": {
      "application/vnd.jupyter.widget-view+json": {
       "model_id": "4be073bb1e2d40c3bf1ccd46060607d3",
       "version_major": 2,
       "version_minor": 0
      },
      "text/plain": [
       "0it [00:00, ?it/s]"
      ]
     },
     "metadata": {},
     "output_type": "display_data"
    },
    {
     "data": {
      "application/vnd.jupyter.widget-view+json": {
       "model_id": "50409ac11dd1464eb390217e32eebf2b",
       "version_major": 2,
       "version_minor": 0
      },
      "text/plain": [
       "0it [00:00, ?it/s]"
      ]
     },
     "metadata": {},
     "output_type": "display_data"
    },
    {
     "data": {
      "application/vnd.jupyter.widget-view+json": {
       "model_id": "c0a175d55bb84652980ebc122f4db285",
       "version_major": 2,
       "version_minor": 0
      },
      "text/plain": [
       "  0%|          | 0/2 [00:00<?, ?it/s]"
      ]
     },
     "metadata": {},
     "output_type": "display_data"
    },
    {
     "name": "stdout",
     "output_type": "stream",
     "text": [
      "[PairOptimizer.optimize] curves_t LYXe-be6D/WETH-6Cc2\n",
      "[PairOptimizer.optimize] p_optimal OptimizerBase.SimpleResult(result=0.004425455338543597, method='bisection', errormsg=None, context_dct=None) full_result [-6.97036739e-09  3.08659764e-11]\n",
      "[PairOptimizer.optimize] curves_t LYXe-be6D/WETH-6Cc2\n",
      "[PairOptimizer.optimize] p_optimal OptimizerBase.SimpleResult(result=0.004418792395805483, method='bisection', errormsg=None, context_dct=None) full_result [ 1.22963684e-09 -5.43565193e-12]\n"
     ]
    },
    {
     "data": {
      "application/vnd.jupyter.widget-view+json": {
       "model_id": "258d759a483d4c06b3e7d13a2d5c890a",
       "version_major": 2,
       "version_minor": 0
      },
      "text/plain": [
       "0it [00:00, ?it/s]"
      ]
     },
     "metadata": {},
     "output_type": "display_data"
    },
    {
     "data": {
      "application/vnd.jupyter.widget-view+json": {
       "model_id": "b3287f2ff2f442849560ac0005037daf",
       "version_major": 2,
       "version_minor": 0
      },
      "text/plain": [
       "0it [00:00, ?it/s]"
      ]
     },
     "metadata": {},
     "output_type": "display_data"
    },
    {
     "data": {
      "application/vnd.jupyter.widget-view+json": {
       "model_id": "fc3e6df23cbf4215ad23e990e0b1e2f5",
       "version_major": 2,
       "version_minor": 0
      },
      "text/plain": [
       "0it [00:00, ?it/s]"
      ]
     },
     "metadata": {},
     "output_type": "display_data"
    },
    {
     "data": {
      "application/vnd.jupyter.widget-view+json": {
       "model_id": "3026d8b276d948b88578923ad54cb21a",
       "version_major": 2,
       "version_minor": 0
      },
      "text/plain": [
       "  0%|          | 0/4 [00:00<?, ?it/s]"
      ]
     },
     "metadata": {},
     "output_type": "display_data"
    },
    {
     "name": "stdout",
     "output_type": "stream",
     "text": [
      "[PairOptimizer.optimize] curves_t agEUR-Bce8/USDC-eB48\n",
      "[PairOptimizer.optimize] p_optimal OptimizerBase.SimpleResult(result=1.1012586819934904, method='bisection', errormsg=None, context_dct=None) full_result [ 2.15768814e-05 -2.37524509e-05]\n",
      "[PairOptimizer.optimize] curves_t agEUR-Bce8/USDC-eB48\n",
      "[PairOptimizer.optimize] p_optimal OptimizerBase.SimpleResult(result=1.1012068414304432, method='bisection', errormsg=None, context_dct=None) full_result [-1.07367523e-05 -1.18744592e+01]\n",
      "[PairOptimizer.optimize] curves_t agEUR-Bce8/USDC-eB48\n",
      "[PairOptimizer.optimize] p_optimal OptimizerBase.SimpleResult(result=1.0977629060275782, method='bisection', errormsg=None, context_dct=None) full_result [ 1.81025825e-08 -1.99652277e-08]\n",
      "[PairOptimizer.optimize] curves_t agEUR-Bce8/USDC-eB48\n",
      "[PairOptimizer.optimize] p_optimal OptimizerBase.SimpleResult(result=1.0954248748364375, method='bisection', errormsg=None, context_dct=None) full_result [-5.43659553e-08 -2.33145547e-01]\n"
     ]
    },
    {
     "data": {
      "application/vnd.jupyter.widget-view+json": {
       "model_id": "bd30c1c5c9a6451385557027fa80fb53",
       "version_major": 2,
       "version_minor": 0
      },
      "text/plain": [
       "  0%|          | 0/4 [00:00<?, ?it/s]"
      ]
     },
     "metadata": {},
     "output_type": "display_data"
    },
    {
     "name": "stdout",
     "output_type": "stream",
     "text": [
      "[PairOptimizer.optimize] curves_t DAI-1d0F/USDT-1ec7\n",
      "[PairOptimizer.optimize] p_optimal OptimizerBase.SimpleResult(result=0.9998810288348383, method='bisection', errormsg=None, context_dct=None) full_result [-0.00010109  0.00010061]\n",
      "[PairOptimizer.optimize] curves_t DAI-1d0F/USDT-1ec7\n",
      "[PairOptimizer.optimize] p_optimal OptimizerBase.SimpleResult(result=0.9998810288345285, method='bisection', errormsg=None, context_dct=None) full_result [ 0.00048351 -0.00048351]\n",
      "[PairOptimizer.optimize] curves_t DAI-1d0F/USDT-1ec7\n",
      "[PairOptimizer.optimize] p_optimal OptimizerBase.SimpleResult(result=1.0000277727934523, method='bisection', errormsg=None, context_dct=None) full_result [-4.46438789e-05  4.47034836e-05]\n",
      "[PairOptimizer.optimize] curves_t DAI-1d0F/USDT-1ec7\n",
      "[PairOptimizer.optimize] p_optimal OptimizerBase.SimpleResult(result=1.000027772793279, method='bisection', errormsg=None, context_dct=None) full_result [-1.69277191e-05  1.69873238e-05]\n"
     ]
    },
    {
     "data": {
      "application/vnd.jupyter.widget-view+json": {
       "model_id": "b2d07fb3e03a4340982a8982acc04b71",
       "version_major": 2,
       "version_minor": 0
      },
      "text/plain": [
       "  0%|          | 0/18 [00:00<?, ?it/s]"
      ]
     },
     "metadata": {},
     "output_type": "display_data"
    },
    {
     "name": "stdout",
     "output_type": "stream",
     "text": [
      "[PairOptimizer.optimize] curves_t WETH-6Cc2/DAI-1d0F\n",
      "[PairOptimizer.optimize] p_optimal OptimizerBase.SimpleResult(result=1889.851635528572, method='bisection', errormsg=None, context_dct=None) full_result [-5.12227416e-09  9.67085361e-06]\n",
      "[PairOptimizer.optimize] curves_t WETH-6Cc2/DAI-1d0F\n",
      "[PairOptimizer.optimize] p_optimal OptimizerBase.SimpleResult(result=1889.8516355283218, method='bisection', errormsg=None, context_dct=None) full_result [-2.50292942e-09  4.73856926e-06]\n",
      "[PairOptimizer.optimize] curves_t WETH-6Cc2/DAI-1d0F\n",
      "[PairOptimizer.optimize] p_optimal OptimizerBase.SimpleResult(result=1889.8516355280997, method='bisection', errormsg=None, context_dct=None) full_result [-1.74622983e-10  3.42726707e-07]\n",
      "[PairOptimizer.optimize] curves_t WETH-6Cc2/DAI-1d0F\n",
      "[PairOptimizer.optimize] p_optimal OptimizerBase.SimpleResult(result=1889.8516355278348, method='bisection', errormsg=None, context_dct=None) full_result [ 2.59751687e-09 -4.91738319e-06]\n",
      "[PairOptimizer.optimize] curves_t WETH-6Cc2/DAI-1d0F\n",
      "[PairOptimizer.optimize] p_optimal OptimizerBase.SimpleResult(result=1889.8516355280783, method='bisection', errormsg=None, context_dct=None) full_result [ 5.09317023e-11 -8.94069672e-08]\n",
      "[PairOptimizer.optimize] curves_t WETH-6Cc2/DAI-1d0F\n",
      "[PairOptimizer.optimize] p_optimal OptimizerBase.SimpleResult(result=1889.8516355275206, method='bisection', errormsg=None, context_dct=None) full_result [ 5.88624971e-09 -1.11311674e-05]\n",
      "[PairOptimizer.optimize] curves_t WETH-6Cc2/DAI-1d0F\n",
      "[PairOptimizer.optimize] p_optimal OptimizerBase.SimpleResult(result=1889.8516355279294, method='bisection', errormsg=None, context_dct=None) full_result [ 1.60798663e-09 -3.03983688e-06]\n",
      "[PairOptimizer.optimize] curves_t WETH-6Cc2/DAI-1d0F\n",
      "[PairOptimizer.optimize] p_optimal OptimizerBase.SimpleResult(result=1889.8516355281563, method='bisection', errormsg=None, context_dct=None) full_result [-7.71251507e-10  1.46031380e-06]\n",
      "[PairOptimizer.optimize] curves_t WETH-6Cc2/DAI-1d0F\n",
      "[PairOptimizer.optimize] p_optimal OptimizerBase.SimpleResult(result=1889.8516355283907, method='bisection', errormsg=None, context_dct=None) full_result [-3.23052518e-09  6.09457493e-06]\n",
      "[PairOptimizer.optimize] curves_t WETH-6Cc2/DAI-1d0F\n",
      "[PairOptimizer.optimize] p_optimal OptimizerBase.SimpleResult(result=1889.2342508777206, method='bisection', errormsg=None, context_dct=None) full_result [ 5.60248736e-10 -1.05053186e-06]\n",
      "[PairOptimizer.optimize] curves_t WETH-6Cc2/DAI-1d0F\n",
      "[PairOptimizer.optimize] p_optimal OptimizerBase.SimpleResult(result=1889.2342508777572, method='bisection', errormsg=None, context_dct=None) full_result [ 2.40106601e-10 -4.47034836e-07]\n",
      "[PairOptimizer.optimize] curves_t WETH-6Cc2/DAI-1d0F\n",
      "[PairOptimizer.optimize] p_optimal OptimizerBase.SimpleResult(result=1889.2342508777629, method='bisection', errormsg=None, context_dct=None) full_result [ 1.89174898e-10 -3.57627869e-07]\n",
      "[PairOptimizer.optimize] curves_t WETH-6Cc2/DAI-1d0F\n",
      "[PairOptimizer.optimize] p_optimal OptimizerBase.SimpleResult(result=1889.234250877536, method='bisection', errormsg=None, context_dct=None) full_result [ 2.15004547e-09 -4.06056643e-06]\n",
      "[PairOptimizer.optimize] curves_t WETH-6Cc2/DAI-1d0F\n",
      "[PairOptimizer.optimize] p_optimal OptimizerBase.SimpleResult(result=1889.234250876973, method='bisection', errormsg=None, context_dct=None) full_result [ 7.02129910e-09 -1.32620335e-05]\n",
      "[PairOptimizer.optimize] curves_t WETH-6Cc2/DAI-1d0F\n",
      "[PairOptimizer.optimize] p_optimal OptimizerBase.SimpleResult(result=1889.2342508772217, method='bisection', errormsg=None, context_dct=None) full_result [ 4.87125362e-09 -9.19401646e-06]\n",
      "[PairOptimizer.optimize] curves_t WETH-6Cc2/DAI-1d0F\n",
      "[PairOptimizer.optimize] p_optimal OptimizerBase.SimpleResult(result=1889.23425087766, method='bisection', errormsg=None, context_dct=None) full_result [ 1.07684173e-09 -2.03400850e-06]\n",
      "[PairOptimizer.optimize] curves_t WETH-6Cc2/DAI-1d0F\n",
      "[PairOptimizer.optimize] p_optimal OptimizerBase.SimpleResult(result=1889.234250877545, method='bisection', errormsg=None, context_dct=None) full_result [ 2.07364792e-09 -3.91155481e-06]\n",
      "[PairOptimizer.optimize] curves_t WETH-6Cc2/DAI-1d0F\n",
      "[PairOptimizer.optimize] p_optimal OptimizerBase.SimpleResult(result=1889.2342508780198, method='bisection', errormsg=None, context_dct=None) full_result [-2.02635420e-09  3.82959843e-06]\n"
     ]
    },
    {
     "data": {
      "application/vnd.jupyter.widget-view+json": {
       "model_id": "6c17a3d12bf44e6d82785799ec7348fc",
       "version_major": 2,
       "version_minor": 0
      },
      "text/plain": [
       "  0%|          | 0/4 [00:00<?, ?it/s]"
      ]
     },
     "metadata": {},
     "output_type": "display_data"
    },
    {
     "name": "stdout",
     "output_type": "stream",
     "text": [
      "[PairOptimizer.optimize] curves_t DAI-1d0F/USDC-eB48\n",
      "[PairOptimizer.optimize] p_optimal OptimizerBase.SimpleResult(result=1.0003813756302735, method='bisection', errormsg=None, context_dct=None) full_result [ 0.00042725 -0.00042725]\n",
      "[PairOptimizer.optimize] curves_t DAI-1d0F/USDC-eB48\n",
      "[PairOptimizer.optimize] p_optimal OptimizerBase.SimpleResult(result=1.000381375630044, method='bisection', errormsg=None, context_dct=None) full_result [ 0.00753784 -0.00754547]\n",
      "[PairOptimizer.optimize] curves_t DAI-1d0F/USDC-eB48\n",
      "[PairOptimizer.optimize] p_optimal OptimizerBase.SimpleResult(result=0.999979963573878, method='bisection', errormsg=None, context_dct=None) full_result [ 0.02416992 -0.02410889]\n",
      "[PairOptimizer.optimize] curves_t DAI-1d0F/USDC-eB48\n",
      "[PairOptimizer.optimize] p_optimal OptimizerBase.SimpleResult(result=0.999979963573925, method='bisection', errormsg=None, context_dct=None) full_result [ 0.01159668 -0.01153564]\n"
     ]
    },
    {
     "data": {
      "application/vnd.jupyter.widget-view+json": {
       "model_id": "72d1cf9862d746b2950d0da9fff8511b",
       "version_major": 2,
       "version_minor": 0
      },
      "text/plain": [
       "0it [00:00, ?it/s]"
      ]
     },
     "metadata": {},
     "output_type": "display_data"
    },
    {
     "data": {
      "application/vnd.jupyter.widget-view+json": {
       "model_id": "d043415464b140fa881a417a7c3ca530",
       "version_major": 2,
       "version_minor": 0
      },
      "text/plain": [
       "0it [00:00, ?it/s]"
      ]
     },
     "metadata": {},
     "output_type": "display_data"
    },
    {
     "data": {
      "application/vnd.jupyter.widget-view+json": {
       "model_id": "33ca27ededca4831ac210d6995c82e1e",
       "version_major": 2,
       "version_minor": 0
      },
      "text/plain": [
       "0it [00:00, ?it/s]"
      ]
     },
     "metadata": {},
     "output_type": "display_data"
    },
    {
     "data": {
      "application/vnd.jupyter.widget-view+json": {
       "model_id": "fd61cdb04f46451b8b43078f8d3390b9",
       "version_major": 2,
       "version_minor": 0
      },
      "text/plain": [
       "0it [00:00, ?it/s]"
      ]
     },
     "metadata": {},
     "output_type": "display_data"
    },
    {
     "data": {
      "application/vnd.jupyter.widget-view+json": {
       "model_id": "3797e2cc414648db8913b1f3aa7a88df",
       "version_major": 2,
       "version_minor": 0
      },
      "text/plain": [
       "0it [00:00, ?it/s]"
      ]
     },
     "metadata": {},
     "output_type": "display_data"
    },
    {
     "data": {
      "application/vnd.jupyter.widget-view+json": {
       "model_id": "ed546e03740a4356a7cd4063d03f6ae2",
       "version_major": 2,
       "version_minor": 0
      },
      "text/plain": [
       "  0%|          | 0/1 [00:00<?, ?it/s]"
      ]
     },
     "metadata": {},
     "output_type": "display_data"
    },
    {
     "name": "stdout",
     "output_type": "stream",
     "text": [
      "[PairOptimizer.optimize] curves_t WBTC-C599/USDT-1ec7\n",
      "[PairOptimizer.optimize] p_optimal OptimizerBase.SimpleResult(result=30694.613926066977, method='bisection', errormsg=None, context_dct=None) full_result [-7.29679297e-11 -1.92722695e-02]\n"
     ]
    },
    {
     "data": {
      "application/vnd.jupyter.widget-view+json": {
       "model_id": "57e3b922df8c49f2aab51c010deb2362",
       "version_major": 2,
       "version_minor": 0
      },
      "text/plain": [
       "  0%|          | 0/16 [00:00<?, ?it/s]"
      ]
     },
     "metadata": {},
     "output_type": "display_data"
    },
    {
     "name": "stdout",
     "output_type": "stream",
     "text": [
      "[PairOptimizer.optimize] curves_t WBTC-C599/WETH-6Cc2\n",
      "[PairOptimizer.optimize] p_optimal OptimizerBase.SimpleResult(result=16.25127735725492, method='bisection', errormsg=None, context_dct=None) full_result [-2.74303602e-09  4.45870683e-08]\n",
      "[PairOptimizer.optimize] curves_t WBTC-C599/WETH-6Cc2\n",
      "[PairOptimizer.optimize] p_optimal OptimizerBase.SimpleResult(result=16.251277357233576, method='bisection', errormsg=None, context_dct=None) full_result [-1.81454762e-09  2.64954920e-08]\n",
      "[PairOptimizer.optimize] curves_t WBTC-C599/WETH-6Cc2\n",
      "[PairOptimizer.optimize] p_optimal OptimizerBase.SimpleResult(result=16.25127735724241, method='bisection', errormsg=None, context_dct=None) full_result [ 3.66344466e-09 -5.94882295e-08]\n",
      "[PairOptimizer.optimize] curves_t WBTC-C599/WETH-6Cc2\n",
      "[PairOptimizer.optimize] p_optimal OptimizerBase.SimpleResult(result=16.25127735725219, method='bisection', errormsg=None, context_dct=None) full_result [-1.34605216e-09  2.18860805e-08]\n",
      "[PairOptimizer.optimize] curves_t WBTC-C599/WETH-6Cc2\n",
      "[PairOptimizer.optimize] p_optimal OptimizerBase.SimpleResult(result=16.251277357247133, method='bisection', errormsg=None, context_dct=None) full_result [ 1.24418875e-09 -2.01980583e-08]\n",
      "[PairOptimizer.optimize] curves_t WBTC-C599/WETH-6Cc2\n",
      "[PairOptimizer.optimize] p_optimal OptimizerBase.SimpleResult(result=16.251277357247766, method='bisection', errormsg=None, context_dct=None) full_result [ 9.20408638e-10 -1.49593689e-08]\n",
      "[PairOptimizer.optimize] curves_t WBTC-C599/WETH-6Cc2\n",
      "[PairOptimizer.optimize] p_optimal OptimizerBase.SimpleResult(result=16.25127564699462, method='bisection', errormsg=None, context_dct=None) full_result [ 7.75202125e-11 -5.60414833e-07]\n",
      "[PairOptimizer.optimize] curves_t WBTC-C599/WETH-6Cc2\n",
      "[PairOptimizer.optimize] p_optimal OptimizerBase.SimpleResult(result=16.25127735724613, method='bisection', errormsg=None, context_dct=None) full_result [ 1.75714376e-09 -2.85217538e-08]\n",
      "[PairOptimizer.optimize] curves_t WBTC-C599/WETH-6Cc2\n",
      "[PairOptimizer.optimize] p_optimal OptimizerBase.SimpleResult(result=16.262500335191948, method='bisection', errormsg=None, context_dct=None) full_result [-7.50151230e-09  1.22003257e-07]\n",
      "[PairOptimizer.optimize] curves_t WBTC-C599/WETH-6Cc2\n",
      "[PairOptimizer.optimize] p_optimal OptimizerBase.SimpleResult(result=16.262500335181386, method='bisection', errormsg=None, context_dct=None) full_result [-4.99414110e-09  7.80092719e-08]\n",
      "[PairOptimizer.optimize] curves_t WBTC-C599/WETH-6Cc2\n",
      "[PairOptimizer.optimize] p_optimal OptimizerBase.SimpleResult(result=16.262500335186033, method='bisection', errormsg=None, context_dct=None) full_result [-4.94765118e-10  7.91624188e-09]\n",
      "[PairOptimizer.optimize] curves_t WBTC-C599/WETH-6Cc2\n",
      "[PairOptimizer.optimize] p_optimal OptimizerBase.SimpleResult(result=16.26250033519087, method='bisection', errormsg=None, context_dct=None) full_result [-6.22821972e-09  1.01281330e-07]\n",
      "[PairOptimizer.optimize] curves_t WBTC-C599/WETH-6Cc2\n",
      "[PairOptimizer.optimize] p_optimal OptimizerBase.SimpleResult(result=16.262500335190833, method='bisection', errormsg=None, context_dct=None) full_result [-6.17728801e-09  1.00466423e-07]\n",
      "[PairOptimizer.optimize] curves_t WBTC-C599/WETH-6Cc2\n",
      "[PairOptimizer.optimize] p_optimal OptimizerBase.SimpleResult(result=16.262500335185337, method='bisection', errormsg=None, context_dct=None) full_result [ 3.34694050e-10 -5.47152013e-09]\n",
      "[PairOptimizer.optimize] curves_t WBTC-C599/WETH-6Cc2\n",
      "[PairOptimizer.optimize] p_optimal OptimizerBase.SimpleResult(result=16.26249310391707, method='bisection', errormsg=None, context_dct=None) full_result [ 3.98554079e-09 -5.36410068e-05]\n",
      "[PairOptimizer.optimize] curves_t WBTC-C599/WETH-6Cc2\n",
      "[PairOptimizer.optimize] p_optimal OptimizerBase.SimpleResult(result=16.262500335189472, method='bisection', errormsg=None, context_dct=None) full_result [-4.57657734e-09  7.43893906e-08]\n"
     ]
    },
    {
     "data": {
      "application/vnd.jupyter.widget-view+json": {
       "model_id": "73b24941ce9642399c889fdf15abc78c",
       "version_major": 2,
       "version_minor": 0
      },
      "text/plain": [
       "  0%|          | 0/16 [00:00<?, ?it/s]"
      ]
     },
     "metadata": {},
     "output_type": "display_data"
    },
    {
     "name": "stdout",
     "output_type": "stream",
     "text": [
      "[PairOptimizer.optimize] curves_t WBTC-C599/USDC-eB48\n",
      "[PairOptimizer.optimize] p_optimal OptimizerBase.SimpleResult(result=30709.171178589037, method='bisection', errormsg=None, context_dct=None) full_result [ 3.52997631e-11 -1.08499080e-06]\n",
      "[PairOptimizer.optimize] curves_t WBTC-C599/USDC-eB48\n",
      "[PairOptimizer.optimize] p_optimal OptimizerBase.SimpleResult(result=30709.17117859955, method='bisection', errormsg=None, context_dct=None) full_result [-1.14255272e-11  3.50177288e-07]\n",
      "[PairOptimizer.optimize] curves_t WBTC-C599/USDC-eB48\n",
      "[PairOptimizer.optimize] p_optimal OptimizerBase.SimpleResult(result=30709.17117859282, method='bisection', errormsg=None, context_dct=None) full_result [ 1.85309545e-11 -5.69969416e-07]\n",
      "[PairOptimizer.optimize] curves_t WBTC-C599/USDC-eB48\n",
      "[PairOptimizer.optimize] p_optimal OptimizerBase.SimpleResult(result=30709.17117859589, method='bisection', errormsg=None, context_dct=None) full_result [ 4.83169060e-12 -1.49011612e-07]\n",
      "[PairOptimizer.optimize] curves_t WBTC-C599/USDC-eB48\n",
      "[PairOptimizer.optimize] p_optimal OptimizerBase.SimpleResult(result=30709.17117859447, method='bisection', errormsg=None, context_dct=None) full_result [ 1.11413101e-11 -3.43658030e-07]\n",
      "[PairOptimizer.optimize] curves_t WBTC-C599/USDC-eB48\n",
      "[PairOptimizer.optimize] p_optimal OptimizerBase.SimpleResult(result=30709.171178601522, method='bisection', errormsg=None, context_dct=None) full_result [-2.01794137e-11  6.19329512e-07]\n",
      "[PairOptimizer.optimize] curves_t WBTC-C599/USDC-eB48\n",
      "[PairOptimizer.optimize] p_optimal OptimizerBase.SimpleResult(result=30708.386280897503, method='bisection', errormsg=None, context_dct=None) full_result [ 2.96917491e-11 -8.92271088e-01]\n",
      "[PairOptimizer.optimize] curves_t WBTC-C599/USDC-eB48\n",
      "[PairOptimizer.optimize] p_optimal OptimizerBase.SimpleResult(result=30709.171178605357, method='bisection', errormsg=None, context_dct=None) full_result [-3.72324394e-11  1.14273280e-06]\n",
      "[PairOptimizer.optimize] curves_t WBTC-C599/USDC-eB48\n",
      "[PairOptimizer.optimize] p_optimal OptimizerBase.SimpleResult(result=30681.192450067927, method='bisection', errormsg=None, context_dct=None) full_result [ 5.82986104e-10 -1.79111958e-05]\n",
      "[PairOptimizer.optimize] curves_t WBTC-C599/USDC-eB48\n",
      "[PairOptimizer.optimize] p_optimal OptimizerBase.SimpleResult(result=30681.192450086935, method='bisection', errormsg=None, context_dct=None) full_result [-8.64019967e-10  2.64942646e-05]\n",
      "[PairOptimizer.optimize] curves_t WBTC-C599/USDC-eB48\n",
      "[PairOptimizer.optimize] p_optimal OptimizerBase.SimpleResult(result=30681.192450084593, method='bisection', errormsg=None, context_dct=None) full_result [-6.85759005e-10  2.10106373e-05]\n",
      "[PairOptimizer.optimize] curves_t WBTC-C599/USDC-eB48\n",
      "[PairOptimizer.optimize] p_optimal OptimizerBase.SimpleResult(result=30681.192450076273, method='bisection', errormsg=None, context_dct=None) full_result [-5.27506927e-11  1.57952309e-06]\n",
      "[PairOptimizer.optimize] curves_t WBTC-C599/USDC-eB48\n",
      "[PairOptimizer.optimize] p_optimal OptimizerBase.SimpleResult(result=30681.19245007934, method='bisection', errormsg=None, context_dct=None) full_result [-2.85581336e-10  8.73208046e-06]\n",
      "[PairOptimizer.optimize] curves_t WBTC-C599/USDC-eB48\n",
      "[PairOptimizer.optimize] p_optimal OptimizerBase.SimpleResult(result=30681.192450081726, method='bisection', errormsg=None, context_dct=None) full_result [-4.67480277e-10  1.43349171e-05]\n",
      "[PairOptimizer.optimize] curves_t WBTC-C599/USDC-eB48\n",
      "[PairOptimizer.optimize] p_optimal OptimizerBase.SimpleResult(result=30681.149014643066, method='bisection', errormsg=None, context_dct=None) full_result [ 2.77502132e-10 -7.98431910e-01]\n",
      "[PairOptimizer.optimize] curves_t WBTC-C599/USDC-eB48\n",
      "[PairOptimizer.optimize] p_optimal OptimizerBase.SimpleResult(result=30681.192450076527, method='bisection', errormsg=None, context_dct=None) full_result [-7.18500814e-11  2.17556953e-06]\n"
     ]
    },
    {
     "data": {
      "application/vnd.jupyter.widget-view+json": {
       "model_id": "dfdcf98d499a49e8b2aacc0abaca2ad0",
       "version_major": 2,
       "version_minor": 0
      },
      "text/plain": [
       "  0%|          | 0/1 [00:00<?, ?it/s]"
      ]
     },
     "metadata": {},
     "output_type": "display_data"
    },
    {
     "name": "stdout",
     "output_type": "stream",
     "text": [
      "[PairOptimizer.optimize] curves_t MATIC-eBB0/USDC-eB48\n",
      "[PairOptimizer.optimize] p_optimal OptimizerBase.SimpleResult(result=0.7402602510973211, method='bisection', errormsg=None, context_dct=None) full_result [-9.26957000e-09  6.86122803e-09]\n"
     ]
    },
    {
     "data": {
      "application/vnd.jupyter.widget-view+json": {
       "model_id": "39cf81cb764d429ab7efe24e7787f5c7",
       "version_major": 2,
       "version_minor": 0
      },
      "text/plain": [
       "0it [00:00, ?it/s]"
      ]
     },
     "metadata": {},
     "output_type": "display_data"
    },
    {
     "data": {
      "application/vnd.jupyter.widget-view+json": {
       "model_id": "5976dad82ccf411e9729766b5c270e56",
       "version_major": 2,
       "version_minor": 0
      },
      "text/plain": [
       "0it [00:00, ?it/s]"
      ]
     },
     "metadata": {},
     "output_type": "display_data"
    },
    {
     "data": {
      "application/vnd.jupyter.widget-view+json": {
       "model_id": "e9fb4ddd1d284166bdfa94fe01d1651c",
       "version_major": 2,
       "version_minor": 0
      },
      "text/plain": [
       "0it [00:00, ?it/s]"
      ]
     },
     "metadata": {},
     "output_type": "display_data"
    },
    {
     "data": {
      "application/vnd.jupyter.widget-view+json": {
       "model_id": "1230367e5e344f1b832552abfe3a3c4e",
       "version_major": 2,
       "version_minor": 0
      },
      "text/plain": [
       "0it [00:00, ?it/s]"
      ]
     },
     "metadata": {},
     "output_type": "display_data"
    },
    {
     "data": {
      "application/vnd.jupyter.widget-view+json": {
       "model_id": "1db4eadedd0b4ca3afa09c8de895edc6",
       "version_major": 2,
       "version_minor": 0
      },
      "text/plain": [
       "0it [00:00, ?it/s]"
      ]
     },
     "metadata": {},
     "output_type": "display_data"
    },
    {
     "data": {
      "application/vnd.jupyter.widget-view+json": {
       "model_id": "c09886411e19459b935986642e6361b8",
       "version_major": 2,
       "version_minor": 0
      },
      "text/plain": [
       "0it [00:00, ?it/s]"
      ]
     },
     "metadata": {},
     "output_type": "display_data"
    },
    {
     "data": {
      "application/vnd.jupyter.widget-view+json": {
       "model_id": "e112c394f0e44d2f9e14beb34c612e0a",
       "version_major": 2,
       "version_minor": 0
      },
      "text/plain": [
       "0it [00:00, ?it/s]"
      ]
     },
     "metadata": {},
     "output_type": "display_data"
    },
    {
     "data": {
      "application/vnd.jupyter.widget-view+json": {
       "model_id": "bca71d2396be43f888b2f0bca70561bd",
       "version_major": 2,
       "version_minor": 0
      },
      "text/plain": [
       "0it [00:00, ?it/s]"
      ]
     },
     "metadata": {},
     "output_type": "display_data"
    },
    {
     "data": {
      "application/vnd.jupyter.widget-view+json": {
       "model_id": "baabe7f5c09f4e4ba24c677ec7c156d9",
       "version_major": 2,
       "version_minor": 0
      },
      "text/plain": [
       "0it [00:00, ?it/s]"
      ]
     },
     "metadata": {},
     "output_type": "display_data"
    },
    {
     "data": {
      "application/vnd.jupyter.widget-view+json": {
       "model_id": "e342eabceca64435a3d3714efbb750c7",
       "version_major": 2,
       "version_minor": 0
      },
      "text/plain": [
       "0it [00:00, ?it/s]"
      ]
     },
     "metadata": {},
     "output_type": "display_data"
    },
    {
     "data": {
      "application/vnd.jupyter.widget-view+json": {
       "model_id": "a2ee3b94b7e6404c9f1c07e9d2593df3",
       "version_major": 2,
       "version_minor": 0
      },
      "text/plain": [
       "  0%|          | 0/1 [00:00<?, ?it/s]"
      ]
     },
     "metadata": {},
     "output_type": "display_data"
    },
    {
     "name": "stdout",
     "output_type": "stream",
     "text": [
      "[PairOptimizer.optimize] curves_t SMT-7173/WETH-6Cc2\n",
      "[PairOptimizer.optimize] p_optimal OptimizerBase.SimpleResult(result=3.412385811295565e-05, method='bisection', errormsg=None, context_dct=None) full_result [ 2.57859938e-08 -8.81072992e-13]\n"
     ]
    },
    {
     "data": {
      "application/vnd.jupyter.widget-view+json": {
       "model_id": "bc49d1f03dda4b7a9424992d671deb3e",
       "version_major": 2,
       "version_minor": 0
      },
      "text/plain": [
       "0it [00:00, ?it/s]"
      ]
     },
     "metadata": {},
     "output_type": "display_data"
    },
    {
     "data": {
      "application/vnd.jupyter.widget-view+json": {
       "model_id": "fc4d1354365d4e5c85ba5269a1199cba",
       "version_major": 2,
       "version_minor": 0
      },
      "text/plain": [
       "0it [00:00, ?it/s]"
      ]
     },
     "metadata": {},
     "output_type": "display_data"
    },
    {
     "data": {
      "application/vnd.jupyter.widget-view+json": {
       "model_id": "051e7a98a6174332811c41eeeda4030d",
       "version_major": 2,
       "version_minor": 0
      },
      "text/plain": [
       "  0%|          | 0/4 [00:00<?, ?it/s]"
      ]
     },
     "metadata": {},
     "output_type": "display_data"
    },
    {
     "name": "stdout",
     "output_type": "stream",
     "text": [
      "[PairOptimizer.optimize] curves_t PEPE-1933/WETH-6Cc2\n",
      "[PairOptimizer.optimize] p_optimal OptimizerBase.SimpleResult(result=8.149138379328678e-10, method='bisection', errormsg=None, context_dct=None) full_result [ 2.51562500e+00 -2.04818207e-09]\n",
      "[PairOptimizer.optimize] curves_t PEPE-1933/WETH-6Cc2\n",
      "[PairOptimizer.optimize] p_optimal OptimizerBase.SimpleResult(result=8.149138379327994e-10, method='bisection', errormsg=None, context_dct=None) full_result [ 3.55078125e+00 -2.89583113e-09]\n",
      "[PairOptimizer.optimize] curves_t PEPE-1933/WETH-6Cc2\n",
      "[PairOptimizer.optimize] p_optimal OptimizerBase.SimpleResult(result=8.107804985572999e-10, method='bisection', errormsg=None, context_dct=None) full_result [ 2.69775391e-02 -2.18278728e-11]\n",
      "[PairOptimizer.optimize] curves_t PEPE-1933/WETH-6Cc2\n",
      "[PairOptimizer.optimize] p_optimal OptimizerBase.SimpleResult(result=8.107804985574788e-10, method='bisection', errormsg=None, context_dct=None) full_result [-1.50756836e-02  1.22213351e-11]\n"
     ]
    },
    {
     "data": {
      "application/vnd.jupyter.widget-view+json": {
       "model_id": "321d47d2bd7f4c31b6ed88788484554c",
       "version_major": 2,
       "version_minor": 0
      },
      "text/plain": [
       "  0%|          | 0/3 [00:00<?, ?it/s]"
      ]
     },
     "metadata": {},
     "output_type": "display_data"
    },
    {
     "name": "stdout",
     "output_type": "stream",
     "text": [
      "[PairOptimizer.optimize] curves_t PEPE-1933/USDC-eB48\n",
      "[PairOptimizer.optimize] p_optimal OptimizerBase.SimpleResult(result=1.5362878225146734e-06, method='bisection', errormsg=None, context_dct=None) full_result [ 0.00651264 -0.00666746]\n",
      "[PairOptimizer.optimize] curves_t PEPE-1933/USDC-eB48\n",
      "[PairOptimizer.optimize] p_optimal OptimizerBase.SimpleResult(result=1.5360877772687104e-06, method='bisection', errormsg=None, context_dct=None) full_result [ 4.19616699e-03 -6.43194653e-09]\n",
      "[PairOptimizer.optimize] curves_t PEPE-1933/USDC-eB48\n",
      "[PairOptimizer.optimize] p_optimal OptimizerBase.SimpleResult(result=1.53608777726908e-06, method='bisection', errormsg=None, context_dct=None) full_result [-5.69152832e-03  8.74570105e-09]\n"
     ]
    },
    {
     "data": {
      "application/vnd.jupyter.widget-view+json": {
       "model_id": "ded5c6c6a4364c25966a091a9ec3ab7e",
       "version_major": 2,
       "version_minor": 0
      },
      "text/plain": [
       "  0%|          | 0/6 [00:00<?, ?it/s]"
      ]
     },
     "metadata": {},
     "output_type": "display_data"
    },
    {
     "name": "stdout",
     "output_type": "stream",
     "text": [
      "[PairOptimizer.optimize] curves_t SNX-2a6F/WETH-6Cc2\n",
      "[PairOptimizer.optimize] p_optimal OptimizerBase.SimpleResult(result=0.0010930027716636022, method='bisection', errormsg=None, context_dct=None) full_result [ 1.28871761e-07 -1.40971679e-10]\n",
      "[PairOptimizer.optimize] curves_t SNX-2a6F/WETH-6Cc2\n",
      "[PairOptimizer.optimize] p_optimal OptimizerBase.SimpleResult(result=0.0010930027716642321, method='bisection', errormsg=None, context_dct=None) full_result [-1.18860044e-07  1.29830369e-10]\n",
      "[PairOptimizer.optimize] curves_t SNX-2a6F/WETH-6Cc2\n",
      "[PairOptimizer.optimize] p_optimal OptimizerBase.SimpleResult(result=0.0010827174870951528, method='bisection', errormsg=None, context_dct=None) full_result [-6.58474164e-10  7.14095449e-13]\n",
      "[PairOptimizer.optimize] curves_t SNX-2a6F/WETH-6Cc2\n",
      "[PairOptimizer.optimize] p_optimal OptimizerBase.SimpleResult(result=0.0010827174870951424, method='bisection', errormsg=None, context_dct=None) full_result [-6.32098818e-10  6.84785562e-13]\n",
      "[PairOptimizer.optimize] curves_t SNX-2a6F/WETH-6Cc2\n",
      "[PairOptimizer.optimize] p_optimal OptimizerBase.SimpleResult(result=0.0010940339696130523, method='bisection', errormsg=None, context_dct=None) full_result [-1.79861672e-08  1.96678229e-11]\n",
      "[PairOptimizer.optimize] curves_t SNX-2a6F/WETH-6Cc2\n",
      "[PairOptimizer.optimize] p_optimal OptimizerBase.SimpleResult(result=0.0010940339696125217, method='bisection', errormsg=None, context_dct=None) full_result [ 5.73345460e-09 -6.28119778e-12]\n"
     ]
    },
    {
     "data": {
      "application/vnd.jupyter.widget-view+json": {
       "model_id": "d2f5fc75ce89497dbbdbf00f4876e381",
       "version_major": 2,
       "version_minor": 0
      },
      "text/plain": [
       "0it [00:00, ?it/s]"
      ]
     },
     "metadata": {},
     "output_type": "display_data"
    },
    {
     "data": {
      "application/vnd.jupyter.widget-view+json": {
       "model_id": "6fc3b6014fc14ec49ddbdad8284a506c",
       "version_major": 2,
       "version_minor": 0
      },
      "text/plain": [
       "0it [00:00, ?it/s]"
      ]
     },
     "metadata": {},
     "output_type": "display_data"
    },
    {
     "data": {
      "application/vnd.jupyter.widget-view+json": {
       "model_id": "d8cf12c04bc643dd9f476995173cd2aa",
       "version_major": 2,
       "version_minor": 0
      },
      "text/plain": [
       "0it [00:00, ?it/s]"
      ]
     },
     "metadata": {},
     "output_type": "display_data"
    },
    {
     "data": {
      "application/vnd.jupyter.widget-view+json": {
       "model_id": "d388d9b20ce846caa4184646342e809e",
       "version_major": 2,
       "version_minor": 0
      },
      "text/plain": [
       "0it [00:00, ?it/s]"
      ]
     },
     "metadata": {},
     "output_type": "display_data"
    },
    {
     "data": {
      "application/vnd.jupyter.widget-view+json": {
       "model_id": "56409962e80f49ca945a035f259a510a",
       "version_major": 2,
       "version_minor": 0
      },
      "text/plain": [
       "0it [00:00, ?it/s]"
      ]
     },
     "metadata": {},
     "output_type": "display_data"
    },
    {
     "data": {
      "application/vnd.jupyter.widget-view+json": {
       "model_id": "32eb282e1b9f4f0caf4eedecd013a0fd",
       "version_major": 2,
       "version_minor": 0
      },
      "text/plain": [
       "  0%|          | 0/1 [00:00<?, ?it/s]"
      ]
     },
     "metadata": {},
     "output_type": "display_data"
    },
    {
     "name": "stdout",
     "output_type": "stream",
     "text": [
      "[PairOptimizer.optimize] curves_t icETH-6A84/WETH-6Cc2\n",
      "[PairOptimizer.optimize] p_optimal OptimizerBase.SimpleResult(result=1.0625676226961724, method='bisection', errormsg=None, context_dct=None) full_result [-4.33828973e-10  4.60659066e-10]\n"
     ]
    }
   ],
   "source": [
    "run_full = bot._run(flashloan_tokens=flashloan_tokens, CCm=CCm, arb_mode=arb_mode, data_validator=False, result=bot.XS_ARBOPPS)\n",
    "arb_finder = bot._get_arb_finder(\"single\")\n",
    "finder = arb_finder(\n",
    "            flashloan_tokens=flashloan_tokens,\n",
    "            CCm=CCm,\n",
    "            mode=\"bothin\",\n",
    "            result=bot.AO_CANDIDATES,\n",
    "            ConfigObj=bot.ConfigObj,\n",
    "        )\n",
    "r = finder.find_arbitrage()\n",
    "assert len(r) == 30, f\"[TestSingleMode] Expected 26 arbs, found {len(r)}\"\n",
    "assert len(r) == len(run_full), f\"[TestSingleMode] Expected arbs from .find_arbitrage - {len(r)} - to match _run - {len(run_full)}\""
   ]
  },
  {
   "cell_type": "code",
   "execution_count": null,
   "id": "a5f5937f-5bc9-44fc-96ac-9b10b9e96742",
   "metadata": {
    "ExecuteTime": {
     "end_time": "2023-09-18T18:18:57.580442Z",
     "start_time": "2023-09-18T18:18:56.188990Z"
    }
   },
   "outputs": [],
   "source": []
  },
  {
   "cell_type": "markdown",
   "id": "d4c12c4b",
   "metadata": {},
   "source": [
    "## Test_no_multi_carbon"
   ]
  },
  {
   "cell_type": "code",
   "execution_count": 7,
   "id": "c4f92d83",
   "metadata": {
    "ExecuteTime": {
     "end_time": "2023-09-18T18:19:11.961703Z",
     "start_time": "2023-09-18T18:18:56.190922Z"
    }
   },
   "outputs": [
    {
     "data": {
      "application/vnd.jupyter.widget-view+json": {
       "model_id": "34b06d7d20e14f3c882964ffe0e878cc",
       "version_major": 2,
       "version_minor": 0
      },
      "text/plain": [
       "0it [00:00, ?it/s]"
      ]
     },
     "metadata": {},
     "output_type": "display_data"
    },
    {
     "data": {
      "application/vnd.jupyter.widget-view+json": {
       "model_id": "2c596a606a2548bf81903af9b52cd962",
       "version_major": 2,
       "version_minor": 0
      },
      "text/plain": [
       "  0%|          | 0/2 [00:00<?, ?it/s]"
      ]
     },
     "metadata": {},
     "output_type": "display_data"
    },
    {
     "name": "stdout",
     "output_type": "stream",
     "text": [
      "[PairOptimizer.optimize] curves_t SGT-EcDD/WETH-6Cc2\n",
      "[PairOptimizer.optimize] p_optimal OptimizerBase.SimpleResult(result=0.00022209613284442402, method='bisection', errormsg=None, context_dct=None) full_result [ 4.06289473e-08 -9.00968189e-12]\n",
      "[PairOptimizer.optimize] curves_t SGT-EcDD/WETH-6Cc2\n",
      "[PairOptimizer.optimize] p_optimal OptimizerBase.SimpleResult(result=0.00021922396426222578, method='bisection', errormsg=None, context_dct=None) full_result [ 1.04773790e-09 -2.30926389e-13]\n"
     ]
    },
    {
     "data": {
      "application/vnd.jupyter.widget-view+json": {
       "model_id": "948f104b798944679651994328f8527d",
       "version_major": 2,
       "version_minor": 0
      },
      "text/plain": [
       "  0%|          | 0/4 [00:00<?, ?it/s]"
      ]
     },
     "metadata": {},
     "output_type": "display_data"
    },
    {
     "name": "stdout",
     "output_type": "stream",
     "text": [
      "[PairOptimizer.optimize] curves_t rETH-6393/WETH-6Cc2\n",
      "[PairOptimizer.optimize] p_optimal OptimizerBase.SimpleResult(result=1.076708344504264, method='bisection', errormsg=None, context_dct=None) full_result [-1.25543593e-07 -1.09294720e-03]\n",
      "[PairOptimizer.optimize] curves_t rETH-6393/WETH-6Cc2\n",
      "[PairOptimizer.optimize] p_optimal OptimizerBase.SimpleResult(result=1.0767087670950288, method='bisection', errormsg=None, context_dct=None) full_result [ 2.46334821e-07 -2.65194103e-07]\n",
      "[PairOptimizer.optimize] curves_t rETH-6393/WETH-6Cc2\n",
      "[PairOptimizer.optimize] p_optimal OptimizerBase.SimpleResult(result=1.0767087670955016, method='bisection', errormsg=None, context_dct=None) full_result [-3.30619514e-08  3.53902578e-08]\n",
      "[PairOptimizer.optimize] curves_t rETH-6393/WETH-6Cc2\n",
      "[PairOptimizer.optimize] p_optimal OptimizerBase.SimpleResult(result=1.076708767095204, method='bisection', errormsg=None, context_dct=None) full_result [ 1.42958015e-07 -1.53901055e-07]\n"
     ]
    },
    {
     "data": {
      "application/vnd.jupyter.widget-view+json": {
       "model_id": "cf0024878d0b400486c2d44c7c66b0e2",
       "version_major": 2,
       "version_minor": 0
      },
      "text/plain": [
       "0it [00:00, ?it/s]"
      ]
     },
     "metadata": {},
     "output_type": "display_data"
    },
    {
     "data": {
      "application/vnd.jupyter.widget-view+json": {
       "model_id": "050b99b653ca4e27a0437a15531030e8",
       "version_major": 2,
       "version_minor": 0
      },
      "text/plain": [
       "  0%|          | 0/10 [00:00<?, ?it/s]"
      ]
     },
     "metadata": {},
     "output_type": "display_data"
    },
    {
     "name": "stdout",
     "output_type": "stream",
     "text": [
      "[PairOptimizer.optimize] curves_t ETH2x_FLI-65BD/WETH-6Cc2\n",
      "[PairOptimizer.optimize] p_optimal OptimizerBase.SimpleResult(result=0.006679129489639779, method='bisection', errormsg=None, context_dct=None) full_result [ 8.99308361e-09 -6.00266503e-11]\n",
      "[PairOptimizer.optimize] curves_t ETH2x_FLI-65BD/WETH-6Cc2\n",
      "[PairOptimizer.optimize] p_optimal OptimizerBase.SimpleResult(result=0.006679129489639276, method='bisection', errormsg=None, context_dct=None) full_result [ 1.72003638e-08 -1.14823706e-10]\n",
      "[PairOptimizer.optimize] curves_t ETH2x_FLI-65BD/WETH-6Cc2\n",
      "[PairOptimizer.optimize] p_optimal OptimizerBase.SimpleResult(result=0.006679129489639779, method='bisection', errormsg=None, context_dct=None) full_result [ 8.99308361e-09 -6.00266503e-11]\n",
      "[PairOptimizer.optimize] curves_t ETH2x_FLI-65BD/WETH-6Cc2\n",
      "[PairOptimizer.optimize] p_optimal OptimizerBase.SimpleResult(result=0.006679129489639276, method='bisection', errormsg=None, context_dct=None) full_result [ 1.72003638e-08 -1.14823706e-10]\n",
      "[PairOptimizer.optimize] curves_t ETH2x_FLI-65BD/WETH-6Cc2\n",
      "[PairOptimizer.optimize] p_optimal OptimizerBase.SimpleResult(result=0.006679129489641052, method='bisection', errormsg=None, context_dct=None) full_result [-1.17870513e-08  7.88986654e-11]\n",
      "[PairOptimizer.optimize] curves_t ETH2x_FLI-65BD/WETH-6Cc2\n",
      "[PairOptimizer.optimize] p_optimal OptimizerBase.SimpleResult(result=0.006679129489638686, method='bisection', errormsg=None, context_dct=None) full_result [ 2.68337317e-08 -1.79170456e-10]\n",
      "[PairOptimizer.optimize] curves_t ETH2x_FLI-65BD/WETH-6Cc2\n",
      "[PairOptimizer.optimize] p_optimal OptimizerBase.SimpleResult(result=0.006679129489638975, method='bisection', errormsg=None, context_dct=None) full_result [ 2.20898073e-08 -1.47565515e-10]\n",
      "[PairOptimizer.optimize] curves_t ETH2x_FLI-65BD/WETH-6Cc2\n",
      "[PairOptimizer.optimize] p_optimal OptimizerBase.SimpleResult(result=0.006679129489640365, method='bisection', errormsg=None, context_dct=None) full_result [-6.11180440e-10  4.09272616e-12]\n",
      "[PairOptimizer.optimize] curves_t ETH2x_FLI-65BD/WETH-6Cc2\n",
      "[PairOptimizer.optimize] p_optimal OptimizerBase.SimpleResult(result=0.006679129489642534, method='bisection', errormsg=None, context_dct=None) full_result [-3.59723344e-08  2.40333975e-10]\n",
      "[PairOptimizer.optimize] curves_t ETH2x_FLI-65BD/WETH-6Cc2\n",
      "[PairOptimizer.optimize] p_optimal OptimizerBase.SimpleResult(result=0.006679129489639819, method='bisection', errormsg=None, context_dct=None) full_result [ 8.32369551e-09 -5.54791768e-11]\n"
     ]
    },
    {
     "data": {
      "application/vnd.jupyter.widget-view+json": {
       "model_id": "01c383b2a3f9414ba5246760f0406a12",
       "version_major": 2,
       "version_minor": 0
      },
      "text/plain": [
       "0it [00:00, ?it/s]"
      ]
     },
     "metadata": {},
     "output_type": "display_data"
    },
    {
     "data": {
      "application/vnd.jupyter.widget-view+json": {
       "model_id": "d7272cfade0a4ff5828e234135f0208b",
       "version_major": 2,
       "version_minor": 0
      },
      "text/plain": [
       "0it [00:00, ?it/s]"
      ]
     },
     "metadata": {},
     "output_type": "display_data"
    },
    {
     "data": {
      "application/vnd.jupyter.widget-view+json": {
       "model_id": "4d6d5dff1d324f208a6eb5377c58639e",
       "version_major": 2,
       "version_minor": 0
      },
      "text/plain": [
       "0it [00:00, ?it/s]"
      ]
     },
     "metadata": {},
     "output_type": "display_data"
    },
    {
     "data": {
      "application/vnd.jupyter.widget-view+json": {
       "model_id": "52dbe192eee54dca9d5d3de89d2ed540",
       "version_major": 2,
       "version_minor": 0
      },
      "text/plain": [
       "0it [00:00, ?it/s]"
      ]
     },
     "metadata": {},
     "output_type": "display_data"
    },
    {
     "data": {
      "application/vnd.jupyter.widget-view+json": {
       "model_id": "cc644fec2eed48a4aef4c30c1ed747a8",
       "version_major": 2,
       "version_minor": 0
      },
      "text/plain": [
       "0it [00:00, ?it/s]"
      ]
     },
     "metadata": {},
     "output_type": "display_data"
    },
    {
     "data": {
      "application/vnd.jupyter.widget-view+json": {
       "model_id": "a25ed97af8ef41b2a4c06404896efbb2",
       "version_major": 2,
       "version_minor": 0
      },
      "text/plain": [
       "0it [00:00, ?it/s]"
      ]
     },
     "metadata": {},
     "output_type": "display_data"
    },
    {
     "data": {
      "application/vnd.jupyter.widget-view+json": {
       "model_id": "2acc7a61606544a3a39f661396aa3522",
       "version_major": 2,
       "version_minor": 0
      },
      "text/plain": [
       "  0%|          | 0/10 [00:00<?, ?it/s]"
      ]
     },
     "metadata": {},
     "output_type": "display_data"
    },
    {
     "name": "stdout",
     "output_type": "stream",
     "text": [
      "[PairOptimizer.optimize] curves_t USDT-1ec7/USDC-eB48\n",
      "[PairOptimizer.optimize] p_optimal OptimizerBase.SimpleResult(result=1.0000207903769063, method='bisection', errormsg=None, context_dct=None) full_result [-0.0647583  0.0647583]\n",
      "[PairOptimizer.optimize] curves_t USDT-1ec7/USDC-eB48\n",
      "[PairOptimizer.optimize] p_optimal OptimizerBase.SimpleResult(result=1.000020790376823, method='bisection', errormsg=None, context_dct=None) full_result [-0.04290771  0.04290771]\n",
      "[PairOptimizer.optimize] curves_t USDT-1ec7/USDC-eB48\n",
      "[PairOptimizer.optimize] p_optimal OptimizerBase.SimpleResult(result=1.0000207903767104, method='bisection', errormsg=None, context_dct=None) full_result [-0.01342773  0.01342773]\n",
      "[PairOptimizer.optimize] curves_t USDT-1ec7/USDC-eB48\n",
      "[PairOptimizer.optimize] p_optimal OptimizerBase.SimpleResult(result=1.0000207916536292, method='bisection', errormsg=None, context_dct=None) full_result [-0.1512453   0.03923975]\n",
      "[PairOptimizer.optimize] curves_t USDT-1ec7/USDC-eB48\n",
      "[PairOptimizer.optimize] p_optimal OptimizerBase.SimpleResult(result=1.0000207903766147, method='bisection', errormsg=None, context_dct=None) full_result [ 0.01165771 -0.01165771]\n",
      "[PairOptimizer.optimize] curves_t USDT-1ec7/USDC-eB48\n",
      "[PairOptimizer.optimize] p_optimal OptimizerBase.SimpleResult(result=0.9999812258712628, method='bisection', errormsg=None, context_dct=None) full_result [-0.0002017  0.0002017]\n",
      "[PairOptimizer.optimize] curves_t USDT-1ec7/USDC-eB48\n",
      "[PairOptimizer.optimize] p_optimal OptimizerBase.SimpleResult(result=0.9999812258711138, method='bisection', errormsg=None, context_dct=None) full_result [ 9.67979431e-05 -9.67979431e-05]\n",
      "[PairOptimizer.optimize] curves_t USDT-1ec7/USDC-eB48\n",
      "[PairOptimizer.optimize] p_optimal OptimizerBase.SimpleResult(result=0.9999812258708753, method='bisection', errormsg=None, context_dct=None) full_result [ 0.00057364 -0.00057364]\n",
      "[PairOptimizer.optimize] curves_t USDT-1ec7/USDC-eB48\n",
      "[PairOptimizer.optimize] p_optimal OptimizerBase.SimpleResult(result=0.9999814030034596, method='bisection', errormsg=None, context_dct=None) full_result [-0.12507511 -0.00053189]\n",
      "[PairOptimizer.optimize] curves_t USDT-1ec7/USDC-eB48\n",
      "[PairOptimizer.optimize] p_optimal OptimizerBase.SimpleResult(result=0.9999812258710422, method='bisection', errormsg=None, context_dct=None) full_result [ 0.00023985 -0.00023985]\n"
     ]
    },
    {
     "data": {
      "application/vnd.jupyter.widget-view+json": {
       "model_id": "27ec08e64e684507afc0741da3c6dad4",
       "version_major": 2,
       "version_minor": 0
      },
      "text/plain": [
       "  0%|          | 0/6 [00:00<?, ?it/s]"
      ]
     },
     "metadata": {},
     "output_type": "display_data"
    },
    {
     "name": "stdout",
     "output_type": "stream",
     "text": [
      "[PairOptimizer.optimize] curves_t BNT-FF1C/USDC-eB48\n",
      "[PairOptimizer.optimize] p_optimal OptimizerBase.SimpleResult(result=0.3933388484434187, method='bisection', errormsg=None, context_dct=None) full_result [ 2.20257789e-07 -8.66129994e-08]\n",
      "[PairOptimizer.optimize] curves_t BNT-FF1C/USDC-eB48\n",
      "[PairOptimizer.optimize] p_optimal OptimizerBase.SimpleResult(result=0.3933388484435465, method='bisection', errormsg=None, context_dct=None) full_result [-2.22586095e-07  8.75443220e-08]\n",
      "[PairOptimizer.optimize] curves_t BNT-FF1C/USDC-eB48\n",
      "[PairOptimizer.optimize] p_optimal OptimizerBase.SimpleResult(result=0.3933388484434076, method='bisection', errormsg=None, context_dct=None) full_result [ 2.58907676e-07 -1.01746991e-07]\n",
      "[PairOptimizer.optimize] curves_t BNT-FF1C/USDC-eB48\n",
      "[PairOptimizer.optimize] p_optimal OptimizerBase.SimpleResult(result=0.39333884844358136, method='bisection', errormsg=None, context_dct=None) full_result [-3.43192369e-07  1.35041773e-07]\n",
      "[PairOptimizer.optimize] curves_t BNT-FF1C/USDC-eB48\n",
      "[PairOptimizer.optimize] p_optimal OptimizerBase.SimpleResult(result=0.39333799529472413, method='bisection', errormsg=None, context_dct=None) full_result [-2.53014131e-02 -3.07336450e-08]\n",
      "[PairOptimizer.optimize] curves_t BNT-FF1C/USDC-eB48\n",
      "[PairOptimizer.optimize] p_optimal OptimizerBase.SimpleResult(result=0.3933388484434884, method='bisection', errormsg=None, context_dct=None) full_result [-2.09547579e-08  8.14907253e-09]\n"
     ]
    },
    {
     "data": {
      "application/vnd.jupyter.widget-view+json": {
       "model_id": "6c1485f53d314c289b8e3084cddb1183",
       "version_major": 2,
       "version_minor": 0
      },
      "text/plain": [
       "  0%|          | 0/54 [00:00<?, ?it/s]"
      ]
     },
     "metadata": {},
     "output_type": "display_data"
    },
    {
     "name": "stdout",
     "output_type": "stream",
     "text": [
      "[PairOptimizer.optimize] curves_t WETH-6Cc2/USDC-eB48\n",
      "[PairOptimizer.optimize] p_optimal OptimizerBase.SimpleResult(result=1888.9922146301515, method='bisection', errormsg=None, context_dct=None) full_result [-4.74392436e-09  8.94069672e-06]\n",
      "[PairOptimizer.optimize] curves_t WETH-6Cc2/USDC-eB48\n",
      "[PairOptimizer.optimize] p_optimal OptimizerBase.SimpleResult(result=1888.992214629935, method='bisection', errormsg=None, context_dct=None) full_result [ 5.41331246e-09 -1.02519989e-05]\n",
      "[PairOptimizer.optimize] curves_t WETH-6Cc2/USDC-eB48\n",
      "[PairOptimizer.optimize] p_optimal OptimizerBase.SimpleResult(result=1888.9922146308772, method='bisection', errormsg=None, context_dct=None) full_result [-3.87663022e-08  7.32541084e-05]\n",
      "[PairOptimizer.optimize] curves_t WETH-6Cc2/USDC-eB48\n",
      "[PairOptimizer.optimize] p_optimal OptimizerBase.SimpleResult(result=1888.9922146296476, method='bisection', errormsg=None, context_dct=None) full_result [ 1.88883860e-08 -3.56435776e-05]\n",
      "[PairOptimizer.optimize] curves_t WETH-6Cc2/USDC-eB48\n",
      "[PairOptimizer.optimize] p_optimal OptimizerBase.SimpleResult(result=1888.992214630152, method='bisection', errormsg=None, context_dct=None) full_result [-4.74392436e-09  8.94069672e-06]\n",
      "[PairOptimizer.optimize] curves_t WETH-6Cc2/USDC-eB48\n",
      "[PairOptimizer.optimize] p_optimal OptimizerBase.SimpleResult(result=1888.9922146300873, method='bisection', errormsg=None, context_dct=None) full_result [-1.71712600e-09  3.27825546e-06]\n",
      "[PairOptimizer.optimize] curves_t WETH-6Cc2/USDC-eB48\n",
      "[PairOptimizer.optimize] p_optimal OptimizerBase.SimpleResult(result=1888.9922146304884, method='bisection', errormsg=None, context_dct=None) full_result [-2.05182005e-08  3.88026237e-05]\n",
      "[PairOptimizer.optimize] curves_t WETH-6Cc2/USDC-eB48\n",
      "[PairOptimizer.optimize] p_optimal OptimizerBase.SimpleResult(result=1888.9922146299593, method='bisection', errormsg=None, context_dct=None) full_result [ 4.30736691e-09 -8.10623169e-06]\n",
      "[PairOptimizer.optimize] curves_t WETH-6Cc2/USDC-eB48\n",
      "[PairOptimizer.optimize] p_optimal OptimizerBase.SimpleResult(result=1888.992214629823, method='bisection', errormsg=None, context_dct=None) full_result [ 1.06811058e-08 -2.01463699e-05]\n",
      "[PairOptimizer.optimize] curves_t WETH-6Cc2/USDC-eB48\n",
      "[PairOptimizer.optimize] p_optimal OptimizerBase.SimpleResult(result=1888.9922146295216, method='bisection', errormsg=None, context_dct=None) full_result [ 2.48255674e-08 -4.68492508e-05]\n",
      "[PairOptimizer.optimize] curves_t WETH-6Cc2/USDC-eB48\n",
      "[PairOptimizer.optimize] p_optimal OptimizerBase.SimpleResult(result=1888.992214630285, method='bisection', errormsg=None, context_dct=None) full_result [-1.09721441e-08  2.07424164e-05]\n",
      "[PairOptimizer.optimize] curves_t WETH-6Cc2/USDC-eB48\n",
      "[PairOptimizer.optimize] p_optimal OptimizerBase.SimpleResult(result=1888.992214630096, method='bisection', errormsg=None, context_dct=None) full_result [-2.12457962e-09  4.05311584e-06]\n",
      "[PairOptimizer.optimize] curves_t WETH-6Cc2/USDC-eB48\n",
      "[PairOptimizer.optimize] p_optimal OptimizerBase.SimpleResult(result=1888.9922146296672, method='bisection', errormsg=None, context_dct=None) full_result [ 1.79861672e-08 -3.39150429e-05]\n",
      "[PairOptimizer.optimize] curves_t WETH-6Cc2/USDC-eB48\n",
      "[PairOptimizer.optimize] p_optimal OptimizerBase.SimpleResult(result=1888.992214630273, method='bisection', errormsg=None, context_dct=None) full_result [-1.04482751e-08  1.97291374e-05]\n",
      "[PairOptimizer.optimize] curves_t WETH-6Cc2/USDC-eB48\n",
      "[PairOptimizer.optimize] p_optimal OptimizerBase.SimpleResult(result=1888.992214630557, method='bisection', errormsg=None, context_dct=None) full_result [-2.37487257e-08  4.48822975e-05]\n",
      "[PairOptimizer.optimize] curves_t WETH-6Cc2/USDC-eB48\n",
      "[PairOptimizer.optimize] p_optimal OptimizerBase.SimpleResult(result=1888.9922146305262, method='bisection', errormsg=None, context_dct=None) full_result [-2.23226380e-08  4.21404839e-05]\n",
      "[PairOptimizer.optimize] curves_t WETH-6Cc2/USDC-eB48\n",
      "[PairOptimizer.optimize] p_optimal OptimizerBase.SimpleResult(result=1888.9922146295794, method='bisection', errormsg=None, context_dct=None) full_result [ 2.21189111e-08 -4.17828560e-05]\n",
      "[PairOptimizer.optimize] curves_t WETH-6Cc2/USDC-eB48\n",
      "[PairOptimizer.optimize] p_optimal OptimizerBase.SimpleResult(result=1888.9922146299941, method='bisection', errormsg=None, context_dct=None) full_result [ 2.67755240e-09 -5.00679016e-06]\n",
      "[PairOptimizer.optimize] curves_t WETH-6Cc2/USDC-eB48\n",
      "[PairOptimizer.optimize] p_optimal OptimizerBase.SimpleResult(result=1888.9922146298563, method='bisection', errormsg=None, context_dct=None) full_result [ 9.10949893e-09 -1.71661377e-05]\n",
      "[PairOptimizer.optimize] curves_t WETH-6Cc2/USDC-eB48\n",
      "[PairOptimizer.optimize] p_optimal OptimizerBase.SimpleResult(result=1888.9922146307526, method='bisection', errormsg=None, context_dct=None) full_result [-3.29164322e-08  6.21676445e-05]\n",
      "[PairOptimizer.optimize] curves_t WETH-6Cc2/USDC-eB48\n",
      "[PairOptimizer.optimize] p_optimal OptimizerBase.SimpleResult(result=1888.9922146292975, method='bisection', errormsg=None, context_dct=None) full_result [ 3.53029463e-08 -6.66975975e-05]\n",
      "[PairOptimizer.optimize] curves_t WETH-6Cc2/USDC-eB48\n",
      "[PairOptimizer.optimize] p_optimal OptimizerBase.SimpleResult(result=1888.9922146298, method='bisection', errormsg=None, context_dct=None) full_result [ 1.17870513e-08 -2.22325325e-05]\n",
      "[PairOptimizer.optimize] curves_t WETH-6Cc2/USDC-eB48\n",
      "[PairOptimizer.optimize] p_optimal OptimizerBase.SimpleResult(result=1888.9922146296672, method='bisection', errormsg=None, context_dct=None) full_result [ 1.79861672e-08 -3.39150429e-05]\n",
      "[PairOptimizer.optimize] curves_t WETH-6Cc2/USDC-eB48\n",
      "[PairOptimizer.optimize] p_optimal OptimizerBase.SimpleResult(result=1888.9922146300303, method='bisection', errormsg=None, context_dct=None) full_result [ 9.60426405e-10 -1.78813934e-06]\n",
      "[PairOptimizer.optimize] curves_t WETH-6Cc2/USDC-eB48\n",
      "[PairOptimizer.optimize] p_optimal OptimizerBase.SimpleResult(result=1888.9922050247133, method='bisection', errormsg=None, context_dct=None) full_result [-2.22406434e-05 -5.32008708e-05]\n",
      "[PairOptimizer.optimize] curves_t WETH-6Cc2/USDC-eB48\n",
      "[PairOptimizer.optimize] p_optimal OptimizerBase.SimpleResult(result=1888.9922146306424, method='bisection', errormsg=None, context_dct=None) full_result [-2.77650543e-08  5.24520874e-05]\n",
      "[PairOptimizer.optimize] curves_t WETH-6Cc2/USDC-eB48\n",
      "[PairOptimizer.optimize] p_optimal OptimizerBase.SimpleResult(result=1888.9922146304034, method='bisection', errormsg=None, context_dct=None) full_result [-1.65309757e-08  3.12328339e-05]\n",
      "[PairOptimizer.optimize] curves_t WETH-6Cc2/USDC-eB48\n",
      "[PairOptimizer.optimize] p_optimal OptimizerBase.SimpleResult(result=1888.9922146305626, method='bisection', errormsg=None, context_dct=None) full_result [-2.40106601e-08  4.54187393e-05]\n",
      "[PairOptimizer.optimize] curves_t WETH-6Cc2/USDC-eB48\n",
      "[PairOptimizer.optimize] p_optimal OptimizerBase.SimpleResult(result=1888.992214630815, method='bisection', errormsg=None, context_dct=None) full_result [-3.58268153e-08  6.77108765e-05]\n",
      "[PairOptimizer.optimize] curves_t WETH-6Cc2/USDC-eB48\n",
      "[PairOptimizer.optimize] p_optimal OptimizerBase.SimpleResult(result=1888.9922146306358, method='bisection', errormsg=None, context_dct=None) full_result [-2.74449121e-08  5.18560410e-05]\n",
      "[PairOptimizer.optimize] curves_t WETH-6Cc2/USDC-eB48\n",
      "[PairOptimizer.optimize] p_optimal OptimizerBase.SimpleResult(result=1888.9922146295798, method='bisection', errormsg=None, context_dct=None) full_result [ 2.20607035e-08 -4.16636467e-05]\n",
      "[PairOptimizer.optimize] curves_t WETH-6Cc2/USDC-eB48\n",
      "[PairOptimizer.optimize] p_optimal OptimizerBase.SimpleResult(result=1888.9922146296767, method='bisection', errormsg=None, context_dct=None) full_result [ 1.75496098e-08 -3.31401825e-05]\n",
      "[PairOptimizer.optimize] curves_t WETH-6Cc2/USDC-eB48\n",
      "[PairOptimizer.optimize] p_optimal OptimizerBase.SimpleResult(result=1888.992214630015, method='bisection', errormsg=None, context_dct=None) full_result [ 1.68802217e-09 -3.15904617e-06]\n",
      "[PairOptimizer.optimize] curves_t WETH-6Cc2/USDC-eB48\n",
      "[PairOptimizer.optimize] p_optimal OptimizerBase.SimpleResult(result=1888.9922146301515, method='bisection', errormsg=None, context_dct=None) full_result [-4.74392436e-09  8.94069672e-06]\n",
      "[PairOptimizer.optimize] curves_t WETH-6Cc2/USDC-eB48\n",
      "[PairOptimizer.optimize] p_optimal OptimizerBase.SimpleResult(result=1888.9922146304305, method='bisection', errormsg=None, context_dct=None) full_result [-1.77824404e-08  3.36170197e-05]\n",
      "[PairOptimizer.optimize] curves_t WETH-6Cc2/USDC-eB48\n",
      "[PairOptimizer.optimize] p_optimal OptimizerBase.SimpleResult(result=1888.9922146295005, method='bisection', errormsg=None, context_dct=None) full_result [ 2.53922954e-08 -4.79870996e-05]\n",
      "[PairOptimizer.optimize] curves_t WETH-6Cc2/USDC-eB48\n",
      "[PairOptimizer.optimize] p_optimal OptimizerBase.SimpleResult(result=1888.9922146295216, method='bisection', errormsg=None, context_dct=None) full_result [ 2.48255674e-08 -4.68492508e-05]\n",
      "[PairOptimizer.optimize] curves_t WETH-6Cc2/USDC-eB48\n",
      "[PairOptimizer.optimize] p_optimal OptimizerBase.SimpleResult(result=1888.9922146296672, method='bisection', errormsg=None, context_dct=None) full_result [ 1.79861672e-08 -3.39150429e-05]\n",
      "[PairOptimizer.optimize] curves_t WETH-6Cc2/USDC-eB48\n",
      "[PairOptimizer.optimize] p_optimal OptimizerBase.SimpleResult(result=1888.9922146306121, method='bisection', errormsg=None, context_dct=None) full_result [-2.63389666e-08  4.97698784e-05]\n",
      "[PairOptimizer.optimize] curves_t WETH-6Cc2/USDC-eB48\n",
      "[PairOptimizer.optimize] p_optimal OptimizerBase.SimpleResult(result=1888.9922146306424, method='bisection', errormsg=None, context_dct=None) full_result [-2.77650543e-08  5.24520874e-05]\n",
      "[PairOptimizer.optimize] curves_t WETH-6Cc2/USDC-eB48\n",
      "[PairOptimizer.optimize] p_optimal OptimizerBase.SimpleResult(result=1888.99221463018, method='bisection', errormsg=None, context_dct=None) full_result [-6.05359674e-09  1.15036964e-05]\n",
      "[PairOptimizer.optimize] curves_t WETH-6Cc2/USDC-eB48\n",
      "[PairOptimizer.optimize] p_optimal OptimizerBase.SimpleResult(result=1888.9922146308115, method='bisection', errormsg=None, context_dct=None) full_result [-3.56812961e-08  6.74128532e-05]\n",
      "[PairOptimizer.optimize] curves_t WETH-6Cc2/USDC-eB48\n",
      "[PairOptimizer.optimize] p_optimal OptimizerBase.SimpleResult(result=1888.9922146302497, method='bisection', errormsg=None, context_dct=None) full_result [-9.31322575e-09  1.76429749e-05]\n",
      "[PairOptimizer.optimize] curves_t WETH-6Cc2/USDC-eB48\n",
      "[PairOptimizer.optimize] p_optimal OptimizerBase.SimpleResult(result=1888.9922146300873, method='bisection', errormsg=None, context_dct=None) full_result [-1.71712600e-09  3.27825546e-06]\n",
      "[PairOptimizer.optimize] curves_t WETH-6Cc2/USDC-eB48\n",
      "[PairOptimizer.optimize] p_optimal OptimizerBase.SimpleResult(result=1888.9922146298663, method='bisection', errormsg=None, context_dct=None) full_result [ 8.64383765e-09 -1.63316727e-05]\n",
      "[PairOptimizer.optimize] curves_t WETH-6Cc2/USDC-eB48\n",
      "[PairOptimizer.optimize] p_optimal OptimizerBase.SimpleResult(result=1888.9922146297727, method='bisection', errormsg=None, context_dct=None) full_result [ 1.30385160e-08 -2.46167183e-05]\n",
      "[PairOptimizer.optimize] curves_t WETH-6Cc2/USDC-eB48\n",
      "[PairOptimizer.optimize] p_optimal OptimizerBase.SimpleResult(result=1888.9922146295776, method='bisection', errormsg=None, context_dct=None) full_result [ 2.21771188e-08 -4.18424606e-05]\n",
      "[PairOptimizer.optimize] curves_t WETH-6Cc2/USDC-eB48\n",
      "[PairOptimizer.optimize] p_optimal OptimizerBase.SimpleResult(result=1888.9922146300873, method='bisection', errormsg=None, context_dct=None) full_result [-1.71712600e-09  3.27825546e-06]\n",
      "[PairOptimizer.optimize] curves_t WETH-6Cc2/USDC-eB48\n",
      "[PairOptimizer.optimize] p_optimal OptimizerBase.SimpleResult(result=1888.9922146295798, method='bisection', errormsg=None, context_dct=None) full_result [ 2.20607035e-08 -4.16636467e-05]\n",
      "[PairOptimizer.optimize] curves_t WETH-6Cc2/USDC-eB48\n",
      "[PairOptimizer.optimize] p_optimal OptimizerBase.SimpleResult(result=1888.9922146299475, method='bisection', errormsg=None, context_dct=None) full_result [ 4.83123586e-09 -9.11951065e-06]\n",
      "[PairOptimizer.optimize] curves_t WETH-6Cc2/USDC-eB48\n",
      "[PairOptimizer.optimize] p_optimal OptimizerBase.SimpleResult(result=1888.9922146300873, method='bisection', errormsg=None, context_dct=None) full_result [-1.71712600e-09  3.27825546e-06]\n",
      "[PairOptimizer.optimize] curves_t WETH-6Cc2/USDC-eB48\n",
      "[PairOptimizer.optimize] p_optimal OptimizerBase.SimpleResult(result=1888.9922146306799, method='bisection', errormsg=None, context_dct=None) full_result [-2.94821803e-08  5.57303429e-05]\n",
      "[PairOptimizer.optimize] curves_t WETH-6Cc2/USDC-eB48\n",
      "[PairOptimizer.optimize] p_optimal OptimizerBase.SimpleResult(result=1888.9922146300873, method='bisection', errormsg=None, context_dct=None) full_result [-1.71712600e-09  3.27825546e-06]\n",
      "[PairOptimizer.optimize] curves_t WETH-6Cc2/USDC-eB48\n",
      "[PairOptimizer.optimize] p_optimal OptimizerBase.SimpleResult(result=1888.992214629823, method='bisection', errormsg=None, context_dct=None) full_result [ 1.06811058e-08 -2.01463699e-05]\n"
     ]
    },
    {
     "data": {
      "application/vnd.jupyter.widget-view+json": {
       "model_id": "4cdb9ee7d50f4eed81151ed8dd3522ba",
       "version_major": 2,
       "version_minor": 0
      },
      "text/plain": [
       "  0%|          | 0/16 [00:00<?, ?it/s]"
      ]
     },
     "metadata": {},
     "output_type": "display_data"
    },
    {
     "name": "stdout",
     "output_type": "stream",
     "text": [
      "[PairOptimizer.optimize] curves_t WBTC-C599/USDC-eB48\n",
      "[PairOptimizer.optimize] p_optimal OptimizerBase.SimpleResult(result=30709.171178589037, method='bisection', errormsg=None, context_dct=None) full_result [ 3.52997631e-11 -1.08499080e-06]\n",
      "[PairOptimizer.optimize] curves_t WBTC-C599/USDC-eB48\n",
      "[PairOptimizer.optimize] p_optimal OptimizerBase.SimpleResult(result=30709.17117859955, method='bisection', errormsg=None, context_dct=None) full_result [-1.14255272e-11  3.50177288e-07]\n",
      "[PairOptimizer.optimize] curves_t WBTC-C599/USDC-eB48\n",
      "[PairOptimizer.optimize] p_optimal OptimizerBase.SimpleResult(result=30709.17117859282, method='bisection', errormsg=None, context_dct=None) full_result [ 1.85309545e-11 -5.69969416e-07]\n",
      "[PairOptimizer.optimize] curves_t WBTC-C599/USDC-eB48\n",
      "[PairOptimizer.optimize] p_optimal OptimizerBase.SimpleResult(result=30709.17117859589, method='bisection', errormsg=None, context_dct=None) full_result [ 4.83169060e-12 -1.49011612e-07]\n",
      "[PairOptimizer.optimize] curves_t WBTC-C599/USDC-eB48\n",
      "[PairOptimizer.optimize] p_optimal OptimizerBase.SimpleResult(result=30709.17117859447, method='bisection', errormsg=None, context_dct=None) full_result [ 1.11413101e-11 -3.43658030e-07]\n",
      "[PairOptimizer.optimize] curves_t WBTC-C599/USDC-eB48\n",
      "[PairOptimizer.optimize] p_optimal OptimizerBase.SimpleResult(result=30709.171178601522, method='bisection', errormsg=None, context_dct=None) full_result [-2.01794137e-11  6.19329512e-07]\n",
      "[PairOptimizer.optimize] curves_t WBTC-C599/USDC-eB48\n",
      "[PairOptimizer.optimize] p_optimal OptimizerBase.SimpleResult(result=30708.392805080344, method='bisection', errormsg=None, context_dct=None) full_result [-2.90562225e-05 -3.77116521e-07]\n",
      "[PairOptimizer.optimize] curves_t WBTC-C599/USDC-eB48\n",
      "[PairOptimizer.optimize] p_optimal OptimizerBase.SimpleResult(result=30709.171178605357, method='bisection', errormsg=None, context_dct=None) full_result [-3.72324394e-11  1.14273280e-06]\n",
      "[PairOptimizer.optimize] curves_t WBTC-C599/USDC-eB48\n",
      "[PairOptimizer.optimize] p_optimal OptimizerBase.SimpleResult(result=30681.192450067927, method='bisection', errormsg=None, context_dct=None) full_result [ 5.82986104e-10 -1.79111958e-05]\n",
      "[PairOptimizer.optimize] curves_t WBTC-C599/USDC-eB48\n",
      "[PairOptimizer.optimize] p_optimal OptimizerBase.SimpleResult(result=30681.192450086935, method='bisection', errormsg=None, context_dct=None) full_result [-8.64019967e-10  2.64942646e-05]\n",
      "[PairOptimizer.optimize] curves_t WBTC-C599/USDC-eB48\n",
      "[PairOptimizer.optimize] p_optimal OptimizerBase.SimpleResult(result=30681.192450084593, method='bisection', errormsg=None, context_dct=None) full_result [-6.85759005e-10  2.10106373e-05]\n",
      "[PairOptimizer.optimize] curves_t WBTC-C599/USDC-eB48\n",
      "[PairOptimizer.optimize] p_optimal OptimizerBase.SimpleResult(result=30681.192450076273, method='bisection', errormsg=None, context_dct=None) full_result [-5.27506927e-11  1.57952309e-06]\n",
      "[PairOptimizer.optimize] curves_t WBTC-C599/USDC-eB48\n",
      "[PairOptimizer.optimize] p_optimal OptimizerBase.SimpleResult(result=30681.19245007934, method='bisection', errormsg=None, context_dct=None) full_result [-2.85581336e-10  8.73208046e-06]\n",
      "[PairOptimizer.optimize] curves_t WBTC-C599/USDC-eB48\n",
      "[PairOptimizer.optimize] p_optimal OptimizerBase.SimpleResult(result=30681.192450081726, method='bisection', errormsg=None, context_dct=None) full_result [-4.67480277e-10  1.43349171e-05]\n",
      "[PairOptimizer.optimize] curves_t WBTC-C599/USDC-eB48\n",
      "[PairOptimizer.optimize] p_optimal OptimizerBase.SimpleResult(result=30681.149356572678, method='bisection', errormsg=None, context_dct=None) full_result [-2.60230975e-05 -4.86961289e-06]\n",
      "[PairOptimizer.optimize] curves_t WBTC-C599/USDC-eB48\n",
      "[PairOptimizer.optimize] p_optimal OptimizerBase.SimpleResult(result=30681.192450076527, method='bisection', errormsg=None, context_dct=None) full_result [-7.18500814e-11  2.17556953e-06]\n"
     ]
    },
    {
     "data": {
      "application/vnd.jupyter.widget-view+json": {
       "model_id": "28488238bf7642419ea977f120454961",
       "version_major": 2,
       "version_minor": 0
      },
      "text/plain": [
       "  0%|          | 0/4 [00:00<?, ?it/s]"
      ]
     },
     "metadata": {},
     "output_type": "display_data"
    },
    {
     "name": "stdout",
     "output_type": "stream",
     "text": [
      "[PairOptimizer.optimize] curves_t DAI-1d0F/USDC-eB48\n",
      "[PairOptimizer.optimize] p_optimal OptimizerBase.SimpleResult(result=1.0003813756302735, method='bisection', errormsg=None, context_dct=None) full_result [ 0.00042725 -0.00042725]\n",
      "[PairOptimizer.optimize] curves_t DAI-1d0F/USDC-eB48\n",
      "[PairOptimizer.optimize] p_optimal OptimizerBase.SimpleResult(result=1.000381375630044, method='bisection', errormsg=None, context_dct=None) full_result [ 0.00753784 -0.00754547]\n",
      "[PairOptimizer.optimize] curves_t DAI-1d0F/USDC-eB48\n",
      "[PairOptimizer.optimize] p_optimal OptimizerBase.SimpleResult(result=0.999979963573878, method='bisection', errormsg=None, context_dct=None) full_result [ 0.02416992 -0.02410889]\n",
      "[PairOptimizer.optimize] curves_t DAI-1d0F/USDC-eB48\n",
      "[PairOptimizer.optimize] p_optimal OptimizerBase.SimpleResult(result=0.999979963573925, method='bisection', errormsg=None, context_dct=None) full_result [ 0.01159668 -0.01153564]\n"
     ]
    },
    {
     "data": {
      "application/vnd.jupyter.widget-view+json": {
       "model_id": "f7a743112ac64f388b89c833adb0806a",
       "version_major": 2,
       "version_minor": 0
      },
      "text/plain": [
       "0it [00:00, ?it/s]"
      ]
     },
     "metadata": {},
     "output_type": "display_data"
    },
    {
     "data": {
      "application/vnd.jupyter.widget-view+json": {
       "model_id": "836b70fb7918448081d37baf240937ed",
       "version_major": 2,
       "version_minor": 0
      },
      "text/plain": [
       "  0%|          | 0/39 [00:00<?, ?it/s]"
      ]
     },
     "metadata": {},
     "output_type": "display_data"
    },
    {
     "name": "stdout",
     "output_type": "stream",
     "text": [
      "[PairOptimizer.optimize] curves_t WETH-6Cc2/USDT-1ec7\n",
      "[PairOptimizer.optimize] p_optimal OptimizerBase.SimpleResult(result=1890.3902599636826, method='bisection', errormsg=None, context_dct=None) full_result [ 3.43752617e-08 -6.91041350e-05]\n",
      "[PairOptimizer.optimize] curves_t WETH-6Cc2/USDT-1ec7\n",
      "[PairOptimizer.optimize] p_optimal OptimizerBase.SimpleResult(result=1890.3902598796512, method='bisection', errormsg=None, context_dct=None) full_result [ 4.23751771e-08 -8.02278519e-05]\n",
      "[PairOptimizer.optimize] curves_t WETH-6Cc2/USDT-1ec7\n",
      "[PairOptimizer.optimize] p_optimal OptimizerBase.SimpleResult(result=1890.3902598804298, method='bisection', errormsg=None, context_dct=None) full_result [-2.00816430e-08  3.79085541e-05]\n",
      "[PairOptimizer.optimize] curves_t WETH-6Cc2/USDT-1ec7\n",
      "[PairOptimizer.optimize] p_optimal OptimizerBase.SimpleResult(result=1890.3902598796158, method='bisection', errormsg=None, context_dct=None) full_result [ 4.52273525e-08 -8.54730606e-05]\n",
      "[PairOptimizer.optimize] curves_t WETH-6Cc2/USDT-1ec7\n",
      "[PairOptimizer.optimize] p_optimal OptimizerBase.SimpleResult(result=1890.3902598801792, method='bisection', errormsg=None, context_dct=None) full_result [0. 0.]\n",
      "[PairOptimizer.optimize] curves_t WETH-6Cc2/USDT-1ec7\n",
      "[PairOptimizer.optimize] p_optimal OptimizerBase.SimpleResult(result=1890.3902598800487, method='bisection', errormsg=None, context_dct=None) full_result [ 1.05355866e-08 -1.99079514e-05]\n",
      "[PairOptimizer.optimize] curves_t WETH-6Cc2/USDT-1ec7\n",
      "[PairOptimizer.optimize] p_optimal OptimizerBase.SimpleResult(result=1890.3902598806571, method='bisection', errormsg=None, context_dct=None) full_result [-3.83006409e-08  7.23600388e-05]\n",
      "[PairOptimizer.optimize] curves_t WETH-6Cc2/USDT-1ec7\n",
      "[PairOptimizer.optimize] p_optimal OptimizerBase.SimpleResult(result=1890.3902702016617, method='bisection', errormsg=None, context_dct=None) full_result [-1.49252719e-05  3.80454148e-05]\n",
      "[PairOptimizer.optimize] curves_t WETH-6Cc2/USDT-1ec7\n",
      "[PairOptimizer.optimize] p_optimal OptimizerBase.SimpleResult(result=1890.390259880636, method='bisection', errormsg=None, context_dct=None) full_result [-3.66126187e-08  6.92605972e-05]\n",
      "[PairOptimizer.optimize] curves_t WETH-6Cc2/USDT-1ec7\n",
      "[PairOptimizer.optimize] p_optimal OptimizerBase.SimpleResult(result=1890.3902598796271, method='bisection', errormsg=None, context_dct=None) full_result [ 4.43542376e-08 -8.38041306e-05]\n",
      "[PairOptimizer.optimize] curves_t WETH-6Cc2/USDT-1ec7\n",
      "[PairOptimizer.optimize] p_optimal OptimizerBase.SimpleResult(result=1890.3902598805803, method='bisection', errormsg=None, context_dct=None) full_result [-3.21888365e-08  6.07967377e-05]\n",
      "[PairOptimizer.optimize] curves_t WETH-6Cc2/USDT-1ec7\n",
      "[PairOptimizer.optimize] p_optimal OptimizerBase.SimpleResult(result=1890.3902598803247, method='bisection', errormsg=None, context_dct=None) full_result [-1.16415322e-08  2.19345093e-05]\n",
      "[PairOptimizer.optimize] curves_t WETH-6Cc2/USDT-1ec7\n",
      "[PairOptimizer.optimize] p_optimal OptimizerBase.SimpleResult(result=1890.3902598804148, method='bisection', errormsg=None, context_dct=None) full_result [-1.88592821e-08  3.56435776e-05]\n",
      "[PairOptimizer.optimize] curves_t WETH-6Cc2/USDT-1ec7\n",
      "[PairOptimizer.optimize] p_optimal OptimizerBase.SimpleResult(result=1889.145889168184, method='bisection', errormsg=None, context_dct=None) full_result [-1.00080797e-08  6.41494989e-06]\n",
      "[PairOptimizer.optimize] curves_t WETH-6Cc2/USDT-1ec7\n",
      "[PairOptimizer.optimize] p_optimal OptimizerBase.SimpleResult(result=1889.145888876507, method='bisection', errormsg=None, context_dct=None) full_result [-1.26019586e-08  2.38120556e-05]\n",
      "[PairOptimizer.optimize] curves_t WETH-6Cc2/USDT-1ec7\n",
      "[PairOptimizer.optimize] p_optimal OptimizerBase.SimpleResult(result=1889.1458888757393, method='bisection', errormsg=None, context_dct=None) full_result [ 5.09317033e-09 -9.62615013e-06]\n",
      "[PairOptimizer.optimize] curves_t WETH-6Cc2/USDT-1ec7\n",
      "[PairOptimizer.optimize] p_optimal OptimizerBase.SimpleResult(result=1889.1458888758934, method='bisection', errormsg=None, context_dct=None) full_result [ 1.54250301e-09 -2.92062759e-06]\n",
      "[PairOptimizer.optimize] curves_t WETH-6Cc2/USDT-1ec7\n",
      "[PairOptimizer.optimize] p_optimal OptimizerBase.SimpleResult(result=1889.1458888762731, method='bisection', errormsg=None, context_dct=None) full_result [-7.21774995e-09  1.36494637e-05]\n",
      "[PairOptimizer.optimize] curves_t WETH-6Cc2/USDT-1ec7\n",
      "[PairOptimizer.optimize] p_optimal OptimizerBase.SimpleResult(result=1889.1458888758175, method='bisection', errormsg=None, context_dct=None) full_result [ 3.30328476e-09 -6.22868538e-06]\n",
      "[PairOptimizer.optimize] curves_t WETH-6Cc2/USDT-1ec7\n",
      "[PairOptimizer.optimize] p_optimal OptimizerBase.SimpleResult(result=1889.145888875436, method='bisection', errormsg=None, context_dct=None) full_result [ 1.21071935e-08 -2.28583813e-05]\n",
      "[PairOptimizer.optimize] curves_t WETH-6Cc2/USDT-1ec7\n",
      "[PairOptimizer.optimize] p_optimal OptimizerBase.SimpleResult(result=1889.1459247812654, method='bisection', errormsg=None, context_dct=None) full_result [-1.54391292e-05 -2.19168578e-05]\n",
      "[PairOptimizer.optimize] curves_t WETH-6Cc2/USDT-1ec7\n",
      "[PairOptimizer.optimize] p_optimal OptimizerBase.SimpleResult(result=1889.1458888762695, method='bisection', errormsg=None, context_dct=None) full_result [-7.13043846e-09  1.34706497e-05]\n",
      "[PairOptimizer.optimize] curves_t WETH-6Cc2/USDT-1ec7\n",
      "[PairOptimizer.optimize] p_optimal OptimizerBase.SimpleResult(result=1889.1458888752281, method='bisection', errormsg=None, context_dct=None) full_result [ 1.69093255e-08 -3.19480896e-05]\n",
      "[PairOptimizer.optimize] curves_t WETH-6Cc2/USDT-1ec7\n",
      "[PairOptimizer.optimize] p_optimal OptimizerBase.SimpleResult(result=1889.1458888757306, method='bisection', errormsg=None, context_dct=None) full_result [ 5.29689714e-09 -1.00135803e-05]\n",
      "[PairOptimizer.optimize] curves_t WETH-6Cc2/USDT-1ec7\n",
      "[PairOptimizer.optimize] p_optimal OptimizerBase.SimpleResult(result=1889.1458888758277, method='bisection', errormsg=None, context_dct=None) full_result [ 3.05590220e-09 -5.78165054e-06]\n",
      "[PairOptimizer.optimize] curves_t WETH-6Cc2/USDT-1ec7\n",
      "[PairOptimizer.optimize] p_optimal OptimizerBase.SimpleResult(result=1889.1458888764319, method='bisection', errormsg=None, context_dct=None) full_result [-1.08848326e-08  2.05636024e-05]\n",
      "[PairOptimizer.optimize] curves_t WETH-6Cc2/USDT-1ec7\n",
      "[PairOptimizer.optimize] p_optimal OptimizerBase.SimpleResult(result=1881.710609293142, method='bisection', errormsg=None, context_dct=None) full_result [-3.60378181e-08  5.24520874e-06]\n",
      "[PairOptimizer.optimize] curves_t WETH-6Cc2/USDT-1ec7\n",
      "[PairOptimizer.optimize] p_optimal OptimizerBase.SimpleResult(result=1881.710608190668, method='bisection', errormsg=None, context_dct=None) full_result [ 3.57977115e-09 -6.74277544e-06]\n",
      "[PairOptimizer.optimize] curves_t WETH-6Cc2/USDT-1ec7\n",
      "[PairOptimizer.optimize] p_optimal OptimizerBase.SimpleResult(result=1881.7106081911547, method='bisection', errormsg=None, context_dct=None) full_result [ 5.85714588e-10 -1.11013651e-06]\n",
      "[PairOptimizer.optimize] curves_t WETH-6Cc2/USDT-1ec7\n",
      "[PairOptimizer.optimize] p_optimal OptimizerBase.SimpleResult(result=1881.7106081913296, method='bisection', errormsg=None, context_dct=None) full_result [-4.87489160e-10  9.16421413e-07]\n",
      "[PairOptimizer.optimize] curves_t WETH-6Cc2/USDT-1ec7\n",
      "[PairOptimizer.optimize] p_optimal OptimizerBase.SimpleResult(result=1881.710608190739, method='bisection', errormsg=None, context_dct=None) full_result [ 3.13957571e-09 -5.91576099e-06]\n",
      "[PairOptimizer.optimize] curves_t WETH-6Cc2/USDT-1ec7\n",
      "[PairOptimizer.optimize] p_optimal OptimizerBase.SimpleResult(result=1881.7106081908473, method='bisection', errormsg=None, context_dct=None) full_result [ 2.47746357e-09 -4.66406345e-06]\n",
      "[PairOptimizer.optimize] curves_t WETH-6Cc2/USDT-1ec7\n",
      "[PairOptimizer.optimize] p_optimal OptimizerBase.SimpleResult(result=1881.7106081914208, method='bisection', errormsg=None, context_dct=None) full_result [-1.04773790e-09  1.97440386e-06]\n",
      "[PairOptimizer.optimize] curves_t WETH-6Cc2/USDT-1ec7\n",
      "[PairOptimizer.optimize] p_optimal OptimizerBase.SimpleResult(result=1881.7107435941489, method='bisection', errormsg=None, context_dct=None) full_result [-1.87256392e-05 -1.61162461e-07]\n",
      "[PairOptimizer.optimize] curves_t WETH-6Cc2/USDT-1ec7\n",
      "[PairOptimizer.optimize] p_optimal OptimizerBase.SimpleResult(result=1881.7106081909023, method='bisection', errormsg=None, context_dct=None) full_result [ 2.13549356e-09 -4.02331352e-06]\n",
      "[PairOptimizer.optimize] curves_t WETH-6Cc2/USDT-1ec7\n",
      "[PairOptimizer.optimize] p_optimal OptimizerBase.SimpleResult(result=1881.7106081915688, method='bisection', errormsg=None, context_dct=None) full_result [-1.95723260e-09  3.68058681e-06]\n",
      "[PairOptimizer.optimize] curves_t WETH-6Cc2/USDT-1ec7\n",
      "[PairOptimizer.optimize] p_optimal OptimizerBase.SimpleResult(result=1881.7106081915645, method='bisection', errormsg=None, context_dct=None) full_result [-1.93176675e-09  3.63588333e-06]\n",
      "[PairOptimizer.optimize] curves_t WETH-6Cc2/USDT-1ec7\n",
      "[PairOptimizer.optimize] p_optimal OptimizerBase.SimpleResult(result=1881.7106081915751, method='bisection', errormsg=None, context_dct=None) full_result [-1.99725037e-09  3.75509262e-06]\n",
      "[PairOptimizer.optimize] curves_t WETH-6Cc2/USDT-1ec7\n",
      "[PairOptimizer.optimize] p_optimal OptimizerBase.SimpleResult(result=1881.7106081909228, method='bisection', errormsg=None, context_dct=None) full_result [ 2.01180228e-09 -3.78489494e-06]\n"
     ]
    },
    {
     "data": {
      "application/vnd.jupyter.widget-view+json": {
       "model_id": "0de7c403674e464eabb5036e28d499ce",
       "version_major": 2,
       "version_minor": 0
      },
      "text/plain": [
       "  0%|          | 0/1 [00:00<?, ?it/s]"
      ]
     },
     "metadata": {},
     "output_type": "display_data"
    },
    {
     "name": "stdout",
     "output_type": "stream",
     "text": [
      "[PairOptimizer.optimize] curves_t WBTC-C599/USDT-1ec7\n",
      "[PairOptimizer.optimize] p_optimal OptimizerBase.SimpleResult(result=30694.613949047027, method='bisection', errormsg=None, context_dct=None) full_result [-6.27641507e-07 -9.29663398e-06]\n"
     ]
    },
    {
     "data": {
      "application/vnd.jupyter.widget-view+json": {
       "model_id": "36d348d729a1465f808563210047abfe",
       "version_major": 2,
       "version_minor": 0
      },
      "text/plain": [
       "  0%|          | 0/10 [00:00<?, ?it/s]"
      ]
     },
     "metadata": {},
     "output_type": "display_data"
    },
    {
     "name": "stdout",
     "output_type": "stream",
     "text": [
      "[PairOptimizer.optimize] curves_t USDT-1ec7/USDC-eB48\n",
      "[PairOptimizer.optimize] p_optimal OptimizerBase.SimpleResult(result=1.0000207903769063, method='bisection', errormsg=None, context_dct=None) full_result [-0.0647583  0.0647583]\n",
      "[PairOptimizer.optimize] curves_t USDT-1ec7/USDC-eB48\n",
      "[PairOptimizer.optimize] p_optimal OptimizerBase.SimpleResult(result=1.000020790376823, method='bisection', errormsg=None, context_dct=None) full_result [-0.04290771  0.04290771]\n",
      "[PairOptimizer.optimize] curves_t USDT-1ec7/USDC-eB48\n",
      "[PairOptimizer.optimize] p_optimal OptimizerBase.SimpleResult(result=1.0000207903767104, method='bisection', errormsg=None, context_dct=None) full_result [-0.01342773  0.01342773]\n",
      "[PairOptimizer.optimize] curves_t USDT-1ec7/USDC-eB48\n",
      "[PairOptimizer.optimize] p_optimal OptimizerBase.SimpleResult(result=1.0000207916530273, method='bisection', errormsg=None, context_dct=None) full_result [ 0.00653088 -0.11853643]\n",
      "[PairOptimizer.optimize] curves_t USDT-1ec7/USDC-eB48\n",
      "[PairOptimizer.optimize] p_optimal OptimizerBase.SimpleResult(result=1.0000207903766147, method='bisection', errormsg=None, context_dct=None) full_result [ 0.01165771 -0.01165771]\n",
      "[PairOptimizer.optimize] curves_t USDT-1ec7/USDC-eB48\n",
      "[PairOptimizer.optimize] p_optimal OptimizerBase.SimpleResult(result=0.9999812258712628, method='bisection', errormsg=None, context_dct=None) full_result [-0.0002017  0.0002017]\n",
      "[PairOptimizer.optimize] curves_t USDT-1ec7/USDC-eB48\n",
      "[PairOptimizer.optimize] p_optimal OptimizerBase.SimpleResult(result=0.9999812258711138, method='bisection', errormsg=None, context_dct=None) full_result [ 9.67979431e-05 -9.67979431e-05]\n",
      "[PairOptimizer.optimize] curves_t USDT-1ec7/USDC-eB48\n",
      "[PairOptimizer.optimize] p_optimal OptimizerBase.SimpleResult(result=0.9999812258708753, method='bisection', errormsg=None, context_dct=None) full_result [ 0.00057364 -0.00057364]\n",
      "[PairOptimizer.optimize] curves_t USDT-1ec7/USDC-eB48\n",
      "[PairOptimizer.optimize] p_optimal OptimizerBase.SimpleResult(result=0.9999814029407567, method='bisection', errormsg=None, context_dct=None) full_result [ 0.0004016  -0.12600621]\n",
      "[PairOptimizer.optimize] curves_t USDT-1ec7/USDC-eB48\n",
      "[PairOptimizer.optimize] p_optimal OptimizerBase.SimpleResult(result=0.9999812258710422, method='bisection', errormsg=None, context_dct=None) full_result [ 0.00023985 -0.00023985]\n"
     ]
    },
    {
     "data": {
      "application/vnd.jupyter.widget-view+json": {
       "model_id": "7b74ff4dc28645148b447821d3caaf37",
       "version_major": 2,
       "version_minor": 0
      },
      "text/plain": [
       "  0%|          | 0/4 [00:00<?, ?it/s]"
      ]
     },
     "metadata": {},
     "output_type": "display_data"
    },
    {
     "name": "stdout",
     "output_type": "stream",
     "text": [
      "[PairOptimizer.optimize] curves_t DAI-1d0F/USDT-1ec7\n",
      "[PairOptimizer.optimize] p_optimal OptimizerBase.SimpleResult(result=0.9998810288348383, method='bisection', errormsg=None, context_dct=None) full_result [-0.00010109  0.00010061]\n",
      "[PairOptimizer.optimize] curves_t DAI-1d0F/USDT-1ec7\n",
      "[PairOptimizer.optimize] p_optimal OptimizerBase.SimpleResult(result=0.9998810288345285, method='bisection', errormsg=None, context_dct=None) full_result [ 0.00048351 -0.00048351]\n",
      "[PairOptimizer.optimize] curves_t DAI-1d0F/USDT-1ec7\n",
      "[PairOptimizer.optimize] p_optimal OptimizerBase.SimpleResult(result=1.0000277727934523, method='bisection', errormsg=None, context_dct=None) full_result [-4.46438789e-05  4.47034836e-05]\n",
      "[PairOptimizer.optimize] curves_t DAI-1d0F/USDT-1ec7\n",
      "[PairOptimizer.optimize] p_optimal OptimizerBase.SimpleResult(result=1.000027772793279, method='bisection', errormsg=None, context_dct=None) full_result [-1.69277191e-05  1.69873238e-05]\n"
     ]
    },
    {
     "data": {
      "application/vnd.jupyter.widget-view+json": {
       "model_id": "dd1f866f4b3744f690ab433517306327",
       "version_major": 2,
       "version_minor": 0
      },
      "text/plain": [
       "0it [00:00, ?it/s]"
      ]
     },
     "metadata": {},
     "output_type": "display_data"
    },
    {
     "data": {
      "application/vnd.jupyter.widget-view+json": {
       "model_id": "e2d5435aebe8401780a57e86acd547f0",
       "version_major": 2,
       "version_minor": 0
      },
      "text/plain": [
       "0it [00:00, ?it/s]"
      ]
     },
     "metadata": {},
     "output_type": "display_data"
    },
    {
     "data": {
      "application/vnd.jupyter.widget-view+json": {
       "model_id": "e5ffc36d62a8430586859108ea92de64",
       "version_major": 2,
       "version_minor": 0
      },
      "text/plain": [
       "  0%|          | 0/14 [00:00<?, ?it/s]"
      ]
     },
     "metadata": {},
     "output_type": "display_data"
    },
    {
     "name": "stdout",
     "output_type": "stream",
     "text": [
      "[PairOptimizer.optimize] curves_t vBNT-7f94/BNT-FF1C\n",
      "[PairOptimizer.optimize] p_optimal OptimizerBase.SimpleResult(result=0.4979713671854289, method='bisection', errormsg=None, context_dct=None) full_result [-6.28642738e-09  3.25962901e-09]\n",
      "[PairOptimizer.optimize] curves_t vBNT-7f94/BNT-FF1C\n",
      "[PairOptimizer.optimize] p_optimal OptimizerBase.SimpleResult(result=0.497971367185545, method='bisection', errormsg=None, context_dct=None) full_result [-2.33994797e-07  1.16648152e-07]\n",
      "[PairOptimizer.optimize] curves_t vBNT-7f94/BNT-FF1C\n",
      "[PairOptimizer.optimize] p_optimal OptimizerBase.SimpleResult(result=0.49797136718544244, method='bisection', errormsg=None, context_dct=None) full_result [-3.28291208e-08  1.65309757e-08]\n",
      "[PairOptimizer.optimize] curves_t vBNT-7f94/BNT-FF1C\n",
      "[PairOptimizer.optimize] p_optimal OptimizerBase.SimpleResult(result=0.4979713671855498, method='bisection', errormsg=None, context_dct=None) full_result [-2.43540853e-07  1.21421181e-07]\n",
      "[PairOptimizer.optimize] curves_t vBNT-7f94/BNT-FF1C\n",
      "[PairOptimizer.optimize] p_optimal OptimizerBase.SimpleResult(result=0.49797136718538826, method='bisection', errormsg=None, context_dct=None) full_result [ 7.33416528e-08 -3.64379957e-08]\n",
      "[PairOptimizer.optimize] curves_t vBNT-7f94/BNT-FF1C\n",
      "[PairOptimizer.optimize] p_optimal OptimizerBase.SimpleResult(result=0.4979713671852612, method='bisection', errormsg=None, context_dct=None) full_result [ 3.22936103e-07 -1.60653144e-07]\n",
      "[PairOptimizer.optimize] curves_t vBNT-7f94/BNT-FF1C\n",
      "[PairOptimizer.optimize] p_optimal OptimizerBase.SimpleResult(result=0.4979713671853365, method='bisection', errormsg=None, context_dct=None) full_result [ 1.75088644e-07 -8.70786607e-08]\n",
      "[PairOptimizer.optimize] curves_t vBNT-7f94/BNT-FF1C\n",
      "[PairOptimizer.optimize] p_optimal OptimizerBase.SimpleResult(result=0.4979713671853946, method='bisection', errormsg=None, context_dct=None) full_result [ 6.12344593e-08 -3.02679837e-08]\n",
      "[PairOptimizer.optimize] curves_t vBNT-7f94/BNT-FF1C\n",
      "[PairOptimizer.optimize] p_optimal OptimizerBase.SimpleResult(result=0.4979713671855437, method='bisection', errormsg=None, context_dct=None) full_result [-2.31200829e-07  1.15367584e-07]\n",
      "[PairOptimizer.optimize] curves_t vBNT-7f94/BNT-FF1C\n",
      "[PairOptimizer.optimize] p_optimal OptimizerBase.SimpleResult(result=0.4979713671856121, method='bisection', errormsg=None, context_dct=None) full_result [-3.65544111e-07  1.82073563e-07]\n",
      "[PairOptimizer.optimize] curves_t vBNT-7f94/BNT-FF1C\n",
      "[PairOptimizer.optimize] p_optimal OptimizerBase.SimpleResult(result=0.4979713671853978, method='bisection', errormsg=None, context_dct=None) full_result [ 5.49480319e-08 -2.72411853e-08]\n",
      "[PairOptimizer.optimize] curves_t vBNT-7f94/BNT-FF1C\n",
      "[PairOptimizer.optimize] p_optimal OptimizerBase.SimpleResult(result=0.49797136718555435, method='bisection', errormsg=None, context_dct=None) full_result [-2.52388418e-07  1.25844963e-07]\n",
      "[PairOptimizer.optimize] curves_t vBNT-7f94/BNT-FF1C\n",
      "[PairOptimizer.optimize] p_optimal OptimizerBase.SimpleResult(result=0.4979713671851882, method='bisection', errormsg=None, context_dct=None) full_result [ 4.66359779e-07 -2.32015736e-07]\n",
      "[PairOptimizer.optimize] curves_t vBNT-7f94/BNT-FF1C\n",
      "[PairOptimizer.optimize] p_optimal OptimizerBase.SimpleResult(result=0.4977218346705689, method='bisection', errormsg=None, context_dct=None) full_result [ 3.20274921e-07 -2.42115359e+01]\n"
     ]
    },
    {
     "data": {
      "application/vnd.jupyter.widget-view+json": {
       "model_id": "f12d3287a41c47d6adef13d4a80acb30",
       "version_major": 2,
       "version_minor": 0
      },
      "text/plain": [
       "0it [00:00, ?it/s]"
      ]
     },
     "metadata": {},
     "output_type": "display_data"
    },
    {
     "data": {
      "application/vnd.jupyter.widget-view+json": {
       "model_id": "afbe72ff71374858ac3709ce89ed7803",
       "version_major": 2,
       "version_minor": 0
      },
      "text/plain": [
       "0it [00:00, ?it/s]"
      ]
     },
     "metadata": {},
     "output_type": "display_data"
    },
    {
     "data": {
      "application/vnd.jupyter.widget-view+json": {
       "model_id": "e6e54fc5e5cf49a7b996fa3296362038",
       "version_major": 2,
       "version_minor": 0
      },
      "text/plain": [
       "0it [00:00, ?it/s]"
      ]
     },
     "metadata": {},
     "output_type": "display_data"
    },
    {
     "data": {
      "application/vnd.jupyter.widget-view+json": {
       "model_id": "45d4b9c1e9b1481bb98a24abe8ca889c",
       "version_major": 2,
       "version_minor": 0
      },
      "text/plain": [
       "0it [00:00, ?it/s]"
      ]
     },
     "metadata": {},
     "output_type": "display_data"
    },
    {
     "data": {
      "application/vnd.jupyter.widget-view+json": {
       "model_id": "bedcb6e1dc9b4aefa54cf9168fc7b229",
       "version_major": 2,
       "version_minor": 0
      },
      "text/plain": [
       "0it [00:00, ?it/s]"
      ]
     },
     "metadata": {},
     "output_type": "display_data"
    },
    {
     "data": {
      "application/vnd.jupyter.widget-view+json": {
       "model_id": "89ed178b92564073acf8c9bbe4964883",
       "version_major": 2,
       "version_minor": 0
      },
      "text/plain": [
       "0it [00:00, ?it/s]"
      ]
     },
     "metadata": {},
     "output_type": "display_data"
    },
    {
     "data": {
      "application/vnd.jupyter.widget-view+json": {
       "model_id": "d44d699004af4511a60f1149dc0deb50",
       "version_major": 2,
       "version_minor": 0
      },
      "text/plain": [
       "0it [00:00, ?it/s]"
      ]
     },
     "metadata": {},
     "output_type": "display_data"
    },
    {
     "data": {
      "application/vnd.jupyter.widget-view+json": {
       "model_id": "1e2b8e303f92499eaa5c96dda4bde18c",
       "version_major": 2,
       "version_minor": 0
      },
      "text/plain": [
       "0it [00:00, ?it/s]"
      ]
     },
     "metadata": {},
     "output_type": "display_data"
    },
    {
     "data": {
      "application/vnd.jupyter.widget-view+json": {
       "model_id": "8a04c93e96ba4051bc35d5b102e93c9a",
       "version_major": 2,
       "version_minor": 0
      },
      "text/plain": [
       "0it [00:00, ?it/s]"
      ]
     },
     "metadata": {},
     "output_type": "display_data"
    },
    {
     "data": {
      "application/vnd.jupyter.widget-view+json": {
       "model_id": "150a488069a7414c9dd18c4735b21934",
       "version_major": 2,
       "version_minor": 0
      },
      "text/plain": [
       "0it [00:00, ?it/s]"
      ]
     },
     "metadata": {},
     "output_type": "display_data"
    },
    {
     "data": {
      "application/vnd.jupyter.widget-view+json": {
       "model_id": "b0be85eced4a473688c737085dfdeed6",
       "version_major": 2,
       "version_minor": 0
      },
      "text/plain": [
       "0it [00:00, ?it/s]"
      ]
     },
     "metadata": {},
     "output_type": "display_data"
    },
    {
     "data": {
      "application/vnd.jupyter.widget-view+json": {
       "model_id": "803308291a514333bef8cf3735352666",
       "version_major": 2,
       "version_minor": 0
      },
      "text/plain": [
       "0it [00:00, ?it/s]"
      ]
     },
     "metadata": {},
     "output_type": "display_data"
    },
    {
     "data": {
      "application/vnd.jupyter.widget-view+json": {
       "model_id": "cf79c4b21a614c159c47fd3636583ef4",
       "version_major": 2,
       "version_minor": 0
      },
      "text/plain": [
       "  0%|          | 0/2 [00:00<?, ?it/s]"
      ]
     },
     "metadata": {},
     "output_type": "display_data"
    },
    {
     "name": "stdout",
     "output_type": "stream",
     "text": [
      "[PairOptimizer.optimize] curves_t wstETH-2Ca0/USDC-eB48\n",
      "[PairOptimizer.optimize] p_optimal OptimizerBase.SimpleResult(result=2132.8228517299513, method='bisection', errormsg=None, context_dct=None) full_result [ 1.12692078e-11 -2.40397640e-08]\n",
      "[PairOptimizer.optimize] curves_t wstETH-2Ca0/USDC-eB48\n",
      "[PairOptimizer.optimize] p_optimal OptimizerBase.SimpleResult(result=2132.8228517296384, method='bisection', errormsg=None, context_dct=None) full_result [ 1.99236183e-11 -4.24915925e-08]\n"
     ]
    },
    {
     "data": {
      "application/vnd.jupyter.widget-view+json": {
       "model_id": "17845957768c462ca32d9f7105d0bff5",
       "version_major": 2,
       "version_minor": 0
      },
      "text/plain": [
       "0it [00:00, ?it/s]"
      ]
     },
     "metadata": {},
     "output_type": "display_data"
    },
    {
     "data": {
      "application/vnd.jupyter.widget-view+json": {
       "model_id": "f5cbb942201548e7a3bc1939ab680c2c",
       "version_major": 2,
       "version_minor": 0
      },
      "text/plain": [
       "0it [00:00, ?it/s]"
      ]
     },
     "metadata": {},
     "output_type": "display_data"
    },
    {
     "data": {
      "application/vnd.jupyter.widget-view+json": {
       "model_id": "9d3572ae9db847d2bf6d957cad3dceb6",
       "version_major": 2,
       "version_minor": 0
      },
      "text/plain": [
       "  0%|          | 0/39 [00:00<?, ?it/s]"
      ]
     },
     "metadata": {},
     "output_type": "display_data"
    },
    {
     "name": "stdout",
     "output_type": "stream",
     "text": [
      "[PairOptimizer.optimize] curves_t WETH-6Cc2/USDT-1ec7\n",
      "[PairOptimizer.optimize] p_optimal OptimizerBase.SimpleResult(result=1890.3902599636826, method='bisection', errormsg=None, context_dct=None) full_result [ 3.43752617e-08 -6.91041350e-05]\n",
      "[PairOptimizer.optimize] curves_t WETH-6Cc2/USDT-1ec7\n",
      "[PairOptimizer.optimize] p_optimal OptimizerBase.SimpleResult(result=1890.3902598796512, method='bisection', errormsg=None, context_dct=None) full_result [ 4.23751771e-08 -8.02278519e-05]\n",
      "[PairOptimizer.optimize] curves_t WETH-6Cc2/USDT-1ec7\n",
      "[PairOptimizer.optimize] p_optimal OptimizerBase.SimpleResult(result=1890.3902598804298, method='bisection', errormsg=None, context_dct=None) full_result [-2.00816430e-08  3.79085541e-05]\n",
      "[PairOptimizer.optimize] curves_t WETH-6Cc2/USDT-1ec7\n",
      "[PairOptimizer.optimize] p_optimal OptimizerBase.SimpleResult(result=1890.3902598796158, method='bisection', errormsg=None, context_dct=None) full_result [ 4.52273525e-08 -8.54730606e-05]\n",
      "[PairOptimizer.optimize] curves_t WETH-6Cc2/USDT-1ec7\n",
      "[PairOptimizer.optimize] p_optimal OptimizerBase.SimpleResult(result=1890.3902598801792, method='bisection', errormsg=None, context_dct=None) full_result [0. 0.]\n",
      "[PairOptimizer.optimize] curves_t WETH-6Cc2/USDT-1ec7\n",
      "[PairOptimizer.optimize] p_optimal OptimizerBase.SimpleResult(result=1890.3902598800487, method='bisection', errormsg=None, context_dct=None) full_result [ 1.05355866e-08 -1.99079514e-05]\n",
      "[PairOptimizer.optimize] curves_t WETH-6Cc2/USDT-1ec7\n",
      "[PairOptimizer.optimize] p_optimal OptimizerBase.SimpleResult(result=1890.3902598806571, method='bisection', errormsg=None, context_dct=None) full_result [-3.83006409e-08  7.23600388e-05]\n",
      "[PairOptimizer.optimize] curves_t WETH-6Cc2/USDT-1ec7\n",
      "[PairOptimizer.optimize] p_optimal OptimizerBase.SimpleResult(result=1890.3902700162016, method='bisection', errormsg=None, context_dct=None) full_result [-4.18058548e-08 -2.80974927e-02]\n",
      "[PairOptimizer.optimize] curves_t WETH-6Cc2/USDT-1ec7\n",
      "[PairOptimizer.optimize] p_optimal OptimizerBase.SimpleResult(result=1890.390259880636, method='bisection', errormsg=None, context_dct=None) full_result [-3.66126187e-08  6.92605972e-05]\n",
      "[PairOptimizer.optimize] curves_t WETH-6Cc2/USDT-1ec7\n",
      "[PairOptimizer.optimize] p_optimal OptimizerBase.SimpleResult(result=1890.3902598796271, method='bisection', errormsg=None, context_dct=None) full_result [ 4.43542376e-08 -8.38041306e-05]\n",
      "[PairOptimizer.optimize] curves_t WETH-6Cc2/USDT-1ec7\n",
      "[PairOptimizer.optimize] p_optimal OptimizerBase.SimpleResult(result=1890.3902598805803, method='bisection', errormsg=None, context_dct=None) full_result [-3.21888365e-08  6.07967377e-05]\n",
      "[PairOptimizer.optimize] curves_t WETH-6Cc2/USDT-1ec7\n",
      "[PairOptimizer.optimize] p_optimal OptimizerBase.SimpleResult(result=1890.3902598803247, method='bisection', errormsg=None, context_dct=None) full_result [-1.16415322e-08  2.19345093e-05]\n",
      "[PairOptimizer.optimize] curves_t WETH-6Cc2/USDT-1ec7\n",
      "[PairOptimizer.optimize] p_optimal OptimizerBase.SimpleResult(result=1890.3902598804148, method='bisection', errormsg=None, context_dct=None) full_result [-1.88592821e-08  3.56435776e-05]\n",
      "[PairOptimizer.optimize] curves_t WETH-6Cc2/USDT-1ec7\n",
      "[PairOptimizer.optimize] p_optimal OptimizerBase.SimpleResult(result=1889.145889168184, method='bisection', errormsg=None, context_dct=None) full_result [-1.00080797e-08  6.41494989e-06]\n",
      "[PairOptimizer.optimize] curves_t WETH-6Cc2/USDT-1ec7\n",
      "[PairOptimizer.optimize] p_optimal OptimizerBase.SimpleResult(result=1889.145888876507, method='bisection', errormsg=None, context_dct=None) full_result [-1.26019586e-08  2.38120556e-05]\n",
      "[PairOptimizer.optimize] curves_t WETH-6Cc2/USDT-1ec7\n",
      "[PairOptimizer.optimize] p_optimal OptimizerBase.SimpleResult(result=1889.1458888757393, method='bisection', errormsg=None, context_dct=None) full_result [ 5.09317033e-09 -9.62615013e-06]\n",
      "[PairOptimizer.optimize] curves_t WETH-6Cc2/USDT-1ec7\n",
      "[PairOptimizer.optimize] p_optimal OptimizerBase.SimpleResult(result=1889.1458888758934, method='bisection', errormsg=None, context_dct=None) full_result [ 1.54250301e-09 -2.92062759e-06]\n",
      "[PairOptimizer.optimize] curves_t WETH-6Cc2/USDT-1ec7\n",
      "[PairOptimizer.optimize] p_optimal OptimizerBase.SimpleResult(result=1889.1458888762731, method='bisection', errormsg=None, context_dct=None) full_result [-7.21774995e-09  1.36494637e-05]\n",
      "[PairOptimizer.optimize] curves_t WETH-6Cc2/USDT-1ec7\n",
      "[PairOptimizer.optimize] p_optimal OptimizerBase.SimpleResult(result=1889.1458888758175, method='bisection', errormsg=None, context_dct=None) full_result [ 3.30328476e-09 -6.22868538e-06]\n",
      "[PairOptimizer.optimize] curves_t WETH-6Cc2/USDT-1ec7\n",
      "[PairOptimizer.optimize] p_optimal OptimizerBase.SimpleResult(result=1889.145888875436, method='bisection', errormsg=None, context_dct=None) full_result [ 1.21071935e-08 -2.28583813e-05]\n",
      "[PairOptimizer.optimize] curves_t WETH-6Cc2/USDT-1ec7\n",
      "[PairOptimizer.optimize] p_optimal OptimizerBase.SimpleResult(result=1889.145924112016, method='bisection', errormsg=None, context_dct=None) full_result [ 9.60606172e-09 -2.92068245e-02]\n",
      "[PairOptimizer.optimize] curves_t WETH-6Cc2/USDT-1ec7\n",
      "[PairOptimizer.optimize] p_optimal OptimizerBase.SimpleResult(result=1889.1458888762695, method='bisection', errormsg=None, context_dct=None) full_result [-7.13043846e-09  1.34706497e-05]\n",
      "[PairOptimizer.optimize] curves_t WETH-6Cc2/USDT-1ec7\n",
      "[PairOptimizer.optimize] p_optimal OptimizerBase.SimpleResult(result=1889.1458888752281, method='bisection', errormsg=None, context_dct=None) full_result [ 1.69093255e-08 -3.19480896e-05]\n",
      "[PairOptimizer.optimize] curves_t WETH-6Cc2/USDT-1ec7\n",
      "[PairOptimizer.optimize] p_optimal OptimizerBase.SimpleResult(result=1889.1458888757306, method='bisection', errormsg=None, context_dct=None) full_result [ 5.29689714e-09 -1.00135803e-05]\n",
      "[PairOptimizer.optimize] curves_t WETH-6Cc2/USDT-1ec7\n",
      "[PairOptimizer.optimize] p_optimal OptimizerBase.SimpleResult(result=1889.1458888758277, method='bisection', errormsg=None, context_dct=None) full_result [ 3.05590220e-09 -5.78165054e-06]\n",
      "[PairOptimizer.optimize] curves_t WETH-6Cc2/USDT-1ec7\n",
      "[PairOptimizer.optimize] p_optimal OptimizerBase.SimpleResult(result=1889.1458888764319, method='bisection', errormsg=None, context_dct=None) full_result [-1.08848326e-08  2.05636024e-05]\n",
      "[PairOptimizer.optimize] curves_t WETH-6Cc2/USDT-1ec7\n",
      "[PairOptimizer.optimize] p_optimal OptimizerBase.SimpleResult(result=1881.7106092876686, method='bisection', errormsg=None, context_dct=None) full_result [-2.40470399e-09 -5.80400229e-05]\n",
      "[PairOptimizer.optimize] curves_t WETH-6Cc2/USDT-1ec7\n",
      "[PairOptimizer.optimize] p_optimal OptimizerBase.SimpleResult(result=1881.710608190668, method='bisection', errormsg=None, context_dct=None) full_result [ 3.57977115e-09 -6.74277544e-06]\n",
      "[PairOptimizer.optimize] curves_t WETH-6Cc2/USDT-1ec7\n",
      "[PairOptimizer.optimize] p_optimal OptimizerBase.SimpleResult(result=1881.7106081911547, method='bisection', errormsg=None, context_dct=None) full_result [ 5.85714588e-10 -1.11013651e-06]\n",
      "[PairOptimizer.optimize] curves_t WETH-6Cc2/USDT-1ec7\n",
      "[PairOptimizer.optimize] p_optimal OptimizerBase.SimpleResult(result=1881.7106081913296, method='bisection', errormsg=None, context_dct=None) full_result [-4.87489160e-10  9.16421413e-07]\n",
      "[PairOptimizer.optimize] curves_t WETH-6Cc2/USDT-1ec7\n",
      "[PairOptimizer.optimize] p_optimal OptimizerBase.SimpleResult(result=1881.710608190739, method='bisection', errormsg=None, context_dct=None) full_result [ 3.13957571e-09 -5.91576099e-06]\n",
      "[PairOptimizer.optimize] curves_t WETH-6Cc2/USDT-1ec7\n",
      "[PairOptimizer.optimize] p_optimal OptimizerBase.SimpleResult(result=1881.7106081908473, method='bisection', errormsg=None, context_dct=None) full_result [ 2.47746357e-09 -4.66406345e-06]\n",
      "[PairOptimizer.optimize] curves_t WETH-6Cc2/USDT-1ec7\n",
      "[PairOptimizer.optimize] p_optimal OptimizerBase.SimpleResult(result=1881.7106081914208, method='bisection', errormsg=None, context_dct=None) full_result [-1.04773790e-09  1.97440386e-06]\n",
      "[PairOptimizer.optimize] curves_t WETH-6Cc2/USDT-1ec7\n",
      "[PairOptimizer.optimize] p_optimal OptimizerBase.SimpleResult(result=1881.710740546815, method='bisection', errormsg=None, context_dct=None) full_result [ 1.62797420e-09 -3.52394553e-02]\n",
      "[PairOptimizer.optimize] curves_t WETH-6Cc2/USDT-1ec7\n",
      "[PairOptimizer.optimize] p_optimal OptimizerBase.SimpleResult(result=1881.7106081909023, method='bisection', errormsg=None, context_dct=None) full_result [ 2.13549356e-09 -4.02331352e-06]\n",
      "[PairOptimizer.optimize] curves_t WETH-6Cc2/USDT-1ec7\n",
      "[PairOptimizer.optimize] p_optimal OptimizerBase.SimpleResult(result=1881.7106081915688, method='bisection', errormsg=None, context_dct=None) full_result [-1.95723260e-09  3.68058681e-06]\n",
      "[PairOptimizer.optimize] curves_t WETH-6Cc2/USDT-1ec7\n",
      "[PairOptimizer.optimize] p_optimal OptimizerBase.SimpleResult(result=1881.7106081915645, method='bisection', errormsg=None, context_dct=None) full_result [-1.93176675e-09  3.63588333e-06]\n",
      "[PairOptimizer.optimize] curves_t WETH-6Cc2/USDT-1ec7\n",
      "[PairOptimizer.optimize] p_optimal OptimizerBase.SimpleResult(result=1881.7106081915751, method='bisection', errormsg=None, context_dct=None) full_result [-1.99725037e-09  3.75509262e-06]\n",
      "[PairOptimizer.optimize] curves_t WETH-6Cc2/USDT-1ec7\n",
      "[PairOptimizer.optimize] p_optimal OptimizerBase.SimpleResult(result=1881.7106081909228, method='bisection', errormsg=None, context_dct=None) full_result [ 2.01180228e-09 -3.78489494e-06]\n"
     ]
    },
    {
     "data": {
      "application/vnd.jupyter.widget-view+json": {
       "model_id": "82d633bc711a4460986d95d399f9dcdf",
       "version_major": 2,
       "version_minor": 0
      },
      "text/plain": [
       "  0%|          | 0/4 [00:00<?, ?it/s]"
      ]
     },
     "metadata": {},
     "output_type": "display_data"
    },
    {
     "name": "stdout",
     "output_type": "stream",
     "text": [
      "[PairOptimizer.optimize] curves_t WETH-6Cc2/BNT-FF1C\n",
      "[PairOptimizer.optimize] p_optimal OptimizerBase.SimpleResult(result=4764.127397630187, method='bisection', errormsg=None, context_dct=None) full_result [ 2.75765188e-10 -2.38837158e+00]\n",
      "[PairOptimizer.optimize] curves_t WETH-6Cc2/BNT-FF1C\n",
      "[PairOptimizer.optimize] p_optimal OptimizerBase.SimpleResult(result=4764.138098143359, method='bisection', errormsg=None, context_dct=None) full_result [ 1.95996108e-10 -9.35047865e-07]\n",
      "[PairOptimizer.optimize] curves_t WETH-6Cc2/BNT-FF1C\n",
      "[PairOptimizer.optimize] p_optimal OptimizerBase.SimpleResult(result=4764.138098141909, method='bisection', errormsg=None, context_dct=None) full_result [ 7.35781214e-10 -3.50549817e-06]\n",
      "[PairOptimizer.optimize] curves_t WETH-6Cc2/BNT-FF1C\n",
      "[PairOptimizer.optimize] p_optimal OptimizerBase.SimpleResult(result=4764.138098143836, method='bisection', errormsg=None, context_dct=None) full_result [ 1.86446414e-11 -8.94069672e-08]\n"
     ]
    },
    {
     "data": {
      "application/vnd.jupyter.widget-view+json": {
       "model_id": "0176a8f65a8241cbb86f316a292e2ce4",
       "version_major": 2,
       "version_minor": 0
      },
      "text/plain": [
       "  0%|          | 0/16 [00:00<?, ?it/s]"
      ]
     },
     "metadata": {},
     "output_type": "display_data"
    },
    {
     "name": "stdout",
     "output_type": "stream",
     "text": [
      "[PairOptimizer.optimize] curves_t WBTC-C599/WETH-6Cc2\n",
      "[PairOptimizer.optimize] p_optimal OptimizerBase.SimpleResult(result=16.25127735725492, method='bisection', errormsg=None, context_dct=None) full_result [-2.74303602e-09  4.45870683e-08]\n",
      "[PairOptimizer.optimize] curves_t WBTC-C599/WETH-6Cc2\n",
      "[PairOptimizer.optimize] p_optimal OptimizerBase.SimpleResult(result=16.251277357233576, method='bisection', errormsg=None, context_dct=None) full_result [-1.81454762e-09  2.64954920e-08]\n",
      "[PairOptimizer.optimize] curves_t WBTC-C599/WETH-6Cc2\n",
      "[PairOptimizer.optimize] p_optimal OptimizerBase.SimpleResult(result=16.25127735724241, method='bisection', errormsg=None, context_dct=None) full_result [ 3.66344466e-09 -5.94882295e-08]\n",
      "[PairOptimizer.optimize] curves_t WBTC-C599/WETH-6Cc2\n",
      "[PairOptimizer.optimize] p_optimal OptimizerBase.SimpleResult(result=16.25127735725219, method='bisection', errormsg=None, context_dct=None) full_result [-1.34605216e-09  2.18860805e-08]\n",
      "[PairOptimizer.optimize] curves_t WBTC-C599/WETH-6Cc2\n",
      "[PairOptimizer.optimize] p_optimal OptimizerBase.SimpleResult(result=16.251277357247133, method='bisection', errormsg=None, context_dct=None) full_result [ 1.24418875e-09 -2.01980583e-08]\n",
      "[PairOptimizer.optimize] curves_t WBTC-C599/WETH-6Cc2\n",
      "[PairOptimizer.optimize] p_optimal OptimizerBase.SimpleResult(result=16.251277357247766, method='bisection', errormsg=None, context_dct=None) full_result [ 9.20408638e-10 -1.49593689e-08]\n",
      "[PairOptimizer.optimize] curves_t WBTC-C599/WETH-6Cc2\n",
      "[PairOptimizer.optimize] p_optimal OptimizerBase.SimpleResult(result=16.251275647061092, method='bisection', errormsg=None, context_dct=None) full_result [-3.39941160e-08 -6.70070222e-09]\n",
      "[PairOptimizer.optimize] curves_t WBTC-C599/WETH-6Cc2\n",
      "[PairOptimizer.optimize] p_optimal OptimizerBase.SimpleResult(result=16.25127735724613, method='bisection', errormsg=None, context_dct=None) full_result [ 1.75714376e-09 -2.85217538e-08]\n",
      "[PairOptimizer.optimize] curves_t WBTC-C599/WETH-6Cc2\n",
      "[PairOptimizer.optimize] p_optimal OptimizerBase.SimpleResult(result=16.262500335191948, method='bisection', errormsg=None, context_dct=None) full_result [-7.50151230e-09  1.22003257e-07]\n",
      "[PairOptimizer.optimize] curves_t WBTC-C599/WETH-6Cc2\n",
      "[PairOptimizer.optimize] p_optimal OptimizerBase.SimpleResult(result=16.262500335181386, method='bisection', errormsg=None, context_dct=None) full_result [-4.99414110e-09  7.80092719e-08]\n",
      "[PairOptimizer.optimize] curves_t WBTC-C599/WETH-6Cc2\n",
      "[PairOptimizer.optimize] p_optimal OptimizerBase.SimpleResult(result=16.262500335186033, method='bisection', errormsg=None, context_dct=None) full_result [-4.94765118e-10  7.91624188e-09]\n",
      "[PairOptimizer.optimize] curves_t WBTC-C599/WETH-6Cc2\n",
      "[PairOptimizer.optimize] p_optimal OptimizerBase.SimpleResult(result=16.26250033519087, method='bisection', errormsg=None, context_dct=None) full_result [-6.22821972e-09  1.01281330e-07]\n",
      "[PairOptimizer.optimize] curves_t WBTC-C599/WETH-6Cc2\n",
      "[PairOptimizer.optimize] p_optimal OptimizerBase.SimpleResult(result=16.262500335190833, method='bisection', errormsg=None, context_dct=None) full_result [-6.17728801e-09  1.00466423e-07]\n",
      "[PairOptimizer.optimize] curves_t WBTC-C599/WETH-6Cc2\n",
      "[PairOptimizer.optimize] p_optimal OptimizerBase.SimpleResult(result=16.262500335185337, method='bisection', errormsg=None, context_dct=None) full_result [ 3.34694050e-10 -5.47152013e-09]\n",
      "[PairOptimizer.optimize] curves_t WBTC-C599/WETH-6Cc2\n",
      "[PairOptimizer.optimize] p_optimal OptimizerBase.SimpleResult(result=16.26249310669788, method='bisection', errormsg=None, context_dct=None) full_result [-3.29367515e-06 -1.28529791e-08]\n",
      "[PairOptimizer.optimize] curves_t WBTC-C599/WETH-6Cc2\n",
      "[PairOptimizer.optimize] p_optimal OptimizerBase.SimpleResult(result=16.262500335189472, method='bisection', errormsg=None, context_dct=None) full_result [-4.57657734e-09  7.43893906e-08]\n"
     ]
    },
    {
     "data": {
      "application/vnd.jupyter.widget-view+json": {
       "model_id": "490533e276d54bd182357229732daa8e",
       "version_major": 2,
       "version_minor": 0
      },
      "text/plain": [
       "  0%|          | 0/54 [00:00<?, ?it/s]"
      ]
     },
     "metadata": {},
     "output_type": "display_data"
    },
    {
     "name": "stdout",
     "output_type": "stream",
     "text": [
      "[PairOptimizer.optimize] curves_t WETH-6Cc2/USDC-eB48\n",
      "[PairOptimizer.optimize] p_optimal OptimizerBase.SimpleResult(result=1888.9922146301515, method='bisection', errormsg=None, context_dct=None) full_result [-4.74392436e-09  8.94069672e-06]\n",
      "[PairOptimizer.optimize] curves_t WETH-6Cc2/USDC-eB48\n",
      "[PairOptimizer.optimize] p_optimal OptimizerBase.SimpleResult(result=1888.992214629935, method='bisection', errormsg=None, context_dct=None) full_result [ 5.41331246e-09 -1.02519989e-05]\n",
      "[PairOptimizer.optimize] curves_t WETH-6Cc2/USDC-eB48\n",
      "[PairOptimizer.optimize] p_optimal OptimizerBase.SimpleResult(result=1888.9922146308772, method='bisection', errormsg=None, context_dct=None) full_result [-3.87663022e-08  7.32541084e-05]\n",
      "[PairOptimizer.optimize] curves_t WETH-6Cc2/USDC-eB48\n",
      "[PairOptimizer.optimize] p_optimal OptimizerBase.SimpleResult(result=1888.9922146296476, method='bisection', errormsg=None, context_dct=None) full_result [ 1.88883860e-08 -3.56435776e-05]\n",
      "[PairOptimizer.optimize] curves_t WETH-6Cc2/USDC-eB48\n",
      "[PairOptimizer.optimize] p_optimal OptimizerBase.SimpleResult(result=1888.992214630152, method='bisection', errormsg=None, context_dct=None) full_result [-4.74392436e-09  8.94069672e-06]\n",
      "[PairOptimizer.optimize] curves_t WETH-6Cc2/USDC-eB48\n",
      "[PairOptimizer.optimize] p_optimal OptimizerBase.SimpleResult(result=1888.9922146300873, method='bisection', errormsg=None, context_dct=None) full_result [-1.71712600e-09  3.27825546e-06]\n",
      "[PairOptimizer.optimize] curves_t WETH-6Cc2/USDC-eB48\n",
      "[PairOptimizer.optimize] p_optimal OptimizerBase.SimpleResult(result=1888.9922146304884, method='bisection', errormsg=None, context_dct=None) full_result [-2.05182005e-08  3.88026237e-05]\n",
      "[PairOptimizer.optimize] curves_t WETH-6Cc2/USDC-eB48\n",
      "[PairOptimizer.optimize] p_optimal OptimizerBase.SimpleResult(result=1888.9922146299593, method='bisection', errormsg=None, context_dct=None) full_result [ 4.30736691e-09 -8.10623169e-06]\n",
      "[PairOptimizer.optimize] curves_t WETH-6Cc2/USDC-eB48\n",
      "[PairOptimizer.optimize] p_optimal OptimizerBase.SimpleResult(result=1888.992214629823, method='bisection', errormsg=None, context_dct=None) full_result [ 1.06811058e-08 -2.01463699e-05]\n",
      "[PairOptimizer.optimize] curves_t WETH-6Cc2/USDC-eB48\n",
      "[PairOptimizer.optimize] p_optimal OptimizerBase.SimpleResult(result=1888.9922146295216, method='bisection', errormsg=None, context_dct=None) full_result [ 2.48255674e-08 -4.68492508e-05]\n",
      "[PairOptimizer.optimize] curves_t WETH-6Cc2/USDC-eB48\n",
      "[PairOptimizer.optimize] p_optimal OptimizerBase.SimpleResult(result=1888.992214630285, method='bisection', errormsg=None, context_dct=None) full_result [-1.09721441e-08  2.07424164e-05]\n",
      "[PairOptimizer.optimize] curves_t WETH-6Cc2/USDC-eB48\n",
      "[PairOptimizer.optimize] p_optimal OptimizerBase.SimpleResult(result=1888.992214630096, method='bisection', errormsg=None, context_dct=None) full_result [-2.12457962e-09  4.05311584e-06]\n",
      "[PairOptimizer.optimize] curves_t WETH-6Cc2/USDC-eB48\n",
      "[PairOptimizer.optimize] p_optimal OptimizerBase.SimpleResult(result=1888.9922146296672, method='bisection', errormsg=None, context_dct=None) full_result [ 1.79861672e-08 -3.39150429e-05]\n",
      "[PairOptimizer.optimize] curves_t WETH-6Cc2/USDC-eB48\n",
      "[PairOptimizer.optimize] p_optimal OptimizerBase.SimpleResult(result=1888.992214630273, method='bisection', errormsg=None, context_dct=None) full_result [-1.04482751e-08  1.97291374e-05]\n",
      "[PairOptimizer.optimize] curves_t WETH-6Cc2/USDC-eB48\n",
      "[PairOptimizer.optimize] p_optimal OptimizerBase.SimpleResult(result=1888.992214630557, method='bisection', errormsg=None, context_dct=None) full_result [-2.37487257e-08  4.48822975e-05]\n",
      "[PairOptimizer.optimize] curves_t WETH-6Cc2/USDC-eB48\n",
      "[PairOptimizer.optimize] p_optimal OptimizerBase.SimpleResult(result=1888.9922146305262, method='bisection', errormsg=None, context_dct=None) full_result [-2.23226380e-08  4.21404839e-05]\n",
      "[PairOptimizer.optimize] curves_t WETH-6Cc2/USDC-eB48\n",
      "[PairOptimizer.optimize] p_optimal OptimizerBase.SimpleResult(result=1888.9922146295794, method='bisection', errormsg=None, context_dct=None) full_result [ 2.21189111e-08 -4.17828560e-05]\n",
      "[PairOptimizer.optimize] curves_t WETH-6Cc2/USDC-eB48\n",
      "[PairOptimizer.optimize] p_optimal OptimizerBase.SimpleResult(result=1888.9922146299941, method='bisection', errormsg=None, context_dct=None) full_result [ 2.67755240e-09 -5.00679016e-06]\n",
      "[PairOptimizer.optimize] curves_t WETH-6Cc2/USDC-eB48\n",
      "[PairOptimizer.optimize] p_optimal OptimizerBase.SimpleResult(result=1888.9922146298563, method='bisection', errormsg=None, context_dct=None) full_result [ 9.10949893e-09 -1.71661377e-05]\n",
      "[PairOptimizer.optimize] curves_t WETH-6Cc2/USDC-eB48\n",
      "[PairOptimizer.optimize] p_optimal OptimizerBase.SimpleResult(result=1888.9922146307526, method='bisection', errormsg=None, context_dct=None) full_result [-3.29164322e-08  6.21676445e-05]\n",
      "[PairOptimizer.optimize] curves_t WETH-6Cc2/USDC-eB48\n",
      "[PairOptimizer.optimize] p_optimal OptimizerBase.SimpleResult(result=1888.9922146292975, method='bisection', errormsg=None, context_dct=None) full_result [ 3.53029463e-08 -6.66975975e-05]\n",
      "[PairOptimizer.optimize] curves_t WETH-6Cc2/USDC-eB48\n",
      "[PairOptimizer.optimize] p_optimal OptimizerBase.SimpleResult(result=1888.9922146298, method='bisection', errormsg=None, context_dct=None) full_result [ 1.17870513e-08 -2.22325325e-05]\n",
      "[PairOptimizer.optimize] curves_t WETH-6Cc2/USDC-eB48\n",
      "[PairOptimizer.optimize] p_optimal OptimizerBase.SimpleResult(result=1888.9922146296672, method='bisection', errormsg=None, context_dct=None) full_result [ 1.79861672e-08 -3.39150429e-05]\n",
      "[PairOptimizer.optimize] curves_t WETH-6Cc2/USDC-eB48\n",
      "[PairOptimizer.optimize] p_optimal OptimizerBase.SimpleResult(result=1888.9922146300303, method='bisection', errormsg=None, context_dct=None) full_result [ 9.60426405e-10 -1.78813934e-06]\n",
      "[PairOptimizer.optimize] curves_t WETH-6Cc2/USDC-eB48\n",
      "[PairOptimizer.optimize] p_optimal OptimizerBase.SimpleResult(result=1888.9922045502708, method='bisection', errormsg=None, context_dct=None) full_result [ 8.62382876e-09 -4.20819260e-02]\n",
      "[PairOptimizer.optimize] curves_t WETH-6Cc2/USDC-eB48\n",
      "[PairOptimizer.optimize] p_optimal OptimizerBase.SimpleResult(result=1888.9922146306424, method='bisection', errormsg=None, context_dct=None) full_result [-2.77650543e-08  5.24520874e-05]\n",
      "[PairOptimizer.optimize] curves_t WETH-6Cc2/USDC-eB48\n",
      "[PairOptimizer.optimize] p_optimal OptimizerBase.SimpleResult(result=1888.9922146304034, method='bisection', errormsg=None, context_dct=None) full_result [-1.65309757e-08  3.12328339e-05]\n",
      "[PairOptimizer.optimize] curves_t WETH-6Cc2/USDC-eB48\n",
      "[PairOptimizer.optimize] p_optimal OptimizerBase.SimpleResult(result=1888.9922146305626, method='bisection', errormsg=None, context_dct=None) full_result [-2.40106601e-08  4.54187393e-05]\n",
      "[PairOptimizer.optimize] curves_t WETH-6Cc2/USDC-eB48\n",
      "[PairOptimizer.optimize] p_optimal OptimizerBase.SimpleResult(result=1888.992214630815, method='bisection', errormsg=None, context_dct=None) full_result [-3.58268153e-08  6.77108765e-05]\n",
      "[PairOptimizer.optimize] curves_t WETH-6Cc2/USDC-eB48\n",
      "[PairOptimizer.optimize] p_optimal OptimizerBase.SimpleResult(result=1888.9922146306358, method='bisection', errormsg=None, context_dct=None) full_result [-2.74449121e-08  5.18560410e-05]\n",
      "[PairOptimizer.optimize] curves_t WETH-6Cc2/USDC-eB48\n",
      "[PairOptimizer.optimize] p_optimal OptimizerBase.SimpleResult(result=1888.9922146295798, method='bisection', errormsg=None, context_dct=None) full_result [ 2.20607035e-08 -4.16636467e-05]\n",
      "[PairOptimizer.optimize] curves_t WETH-6Cc2/USDC-eB48\n",
      "[PairOptimizer.optimize] p_optimal OptimizerBase.SimpleResult(result=1888.9922146296767, method='bisection', errormsg=None, context_dct=None) full_result [ 1.75496098e-08 -3.31401825e-05]\n",
      "[PairOptimizer.optimize] curves_t WETH-6Cc2/USDC-eB48\n",
      "[PairOptimizer.optimize] p_optimal OptimizerBase.SimpleResult(result=1888.992214630015, method='bisection', errormsg=None, context_dct=None) full_result [ 1.68802217e-09 -3.15904617e-06]\n",
      "[PairOptimizer.optimize] curves_t WETH-6Cc2/USDC-eB48\n",
      "[PairOptimizer.optimize] p_optimal OptimizerBase.SimpleResult(result=1888.9922146301515, method='bisection', errormsg=None, context_dct=None) full_result [-4.74392436e-09  8.94069672e-06]\n",
      "[PairOptimizer.optimize] curves_t WETH-6Cc2/USDC-eB48\n",
      "[PairOptimizer.optimize] p_optimal OptimizerBase.SimpleResult(result=1888.9922146304305, method='bisection', errormsg=None, context_dct=None) full_result [-1.77824404e-08  3.36170197e-05]\n",
      "[PairOptimizer.optimize] curves_t WETH-6Cc2/USDC-eB48\n",
      "[PairOptimizer.optimize] p_optimal OptimizerBase.SimpleResult(result=1888.9922146295005, method='bisection', errormsg=None, context_dct=None) full_result [ 2.53922954e-08 -4.79870996e-05]\n",
      "[PairOptimizer.optimize] curves_t WETH-6Cc2/USDC-eB48\n",
      "[PairOptimizer.optimize] p_optimal OptimizerBase.SimpleResult(result=1888.9922146295216, method='bisection', errormsg=None, context_dct=None) full_result [ 2.48255674e-08 -4.68492508e-05]\n",
      "[PairOptimizer.optimize] curves_t WETH-6Cc2/USDC-eB48\n",
      "[PairOptimizer.optimize] p_optimal OptimizerBase.SimpleResult(result=1888.9922146296672, method='bisection', errormsg=None, context_dct=None) full_result [ 1.79861672e-08 -3.39150429e-05]\n",
      "[PairOptimizer.optimize] curves_t WETH-6Cc2/USDC-eB48\n",
      "[PairOptimizer.optimize] p_optimal OptimizerBase.SimpleResult(result=1888.9922146306121, method='bisection', errormsg=None, context_dct=None) full_result [-2.63389666e-08  4.97698784e-05]\n",
      "[PairOptimizer.optimize] curves_t WETH-6Cc2/USDC-eB48\n",
      "[PairOptimizer.optimize] p_optimal OptimizerBase.SimpleResult(result=1888.9922146306424, method='bisection', errormsg=None, context_dct=None) full_result [-2.77650543e-08  5.24520874e-05]\n",
      "[PairOptimizer.optimize] curves_t WETH-6Cc2/USDC-eB48\n",
      "[PairOptimizer.optimize] p_optimal OptimizerBase.SimpleResult(result=1888.99221463018, method='bisection', errormsg=None, context_dct=None) full_result [-6.05359674e-09  1.15036964e-05]\n",
      "[PairOptimizer.optimize] curves_t WETH-6Cc2/USDC-eB48\n",
      "[PairOptimizer.optimize] p_optimal OptimizerBase.SimpleResult(result=1888.9922146308115, method='bisection', errormsg=None, context_dct=None) full_result [-3.56812961e-08  6.74128532e-05]\n",
      "[PairOptimizer.optimize] curves_t WETH-6Cc2/USDC-eB48\n",
      "[PairOptimizer.optimize] p_optimal OptimizerBase.SimpleResult(result=1888.9922146302497, method='bisection', errormsg=None, context_dct=None) full_result [-9.31322575e-09  1.76429749e-05]\n",
      "[PairOptimizer.optimize] curves_t WETH-6Cc2/USDC-eB48\n",
      "[PairOptimizer.optimize] p_optimal OptimizerBase.SimpleResult(result=1888.9922146300873, method='bisection', errormsg=None, context_dct=None) full_result [-1.71712600e-09  3.27825546e-06]\n",
      "[PairOptimizer.optimize] curves_t WETH-6Cc2/USDC-eB48\n",
      "[PairOptimizer.optimize] p_optimal OptimizerBase.SimpleResult(result=1888.9922146298663, method='bisection', errormsg=None, context_dct=None) full_result [ 8.64383765e-09 -1.63316727e-05]\n",
      "[PairOptimizer.optimize] curves_t WETH-6Cc2/USDC-eB48\n",
      "[PairOptimizer.optimize] p_optimal OptimizerBase.SimpleResult(result=1888.9922146297727, method='bisection', errormsg=None, context_dct=None) full_result [ 1.30385160e-08 -2.46167183e-05]\n",
      "[PairOptimizer.optimize] curves_t WETH-6Cc2/USDC-eB48\n",
      "[PairOptimizer.optimize] p_optimal OptimizerBase.SimpleResult(result=1888.9922146295776, method='bisection', errormsg=None, context_dct=None) full_result [ 2.21771188e-08 -4.18424606e-05]\n",
      "[PairOptimizer.optimize] curves_t WETH-6Cc2/USDC-eB48\n",
      "[PairOptimizer.optimize] p_optimal OptimizerBase.SimpleResult(result=1888.9922146300873, method='bisection', errormsg=None, context_dct=None) full_result [-1.71712600e-09  3.27825546e-06]\n",
      "[PairOptimizer.optimize] curves_t WETH-6Cc2/USDC-eB48\n",
      "[PairOptimizer.optimize] p_optimal OptimizerBase.SimpleResult(result=1888.9922146295798, method='bisection', errormsg=None, context_dct=None) full_result [ 2.20607035e-08 -4.16636467e-05]\n",
      "[PairOptimizer.optimize] curves_t WETH-6Cc2/USDC-eB48\n",
      "[PairOptimizer.optimize] p_optimal OptimizerBase.SimpleResult(result=1888.9922146299475, method='bisection', errormsg=None, context_dct=None) full_result [ 4.83123586e-09 -9.11951065e-06]\n",
      "[PairOptimizer.optimize] curves_t WETH-6Cc2/USDC-eB48\n",
      "[PairOptimizer.optimize] p_optimal OptimizerBase.SimpleResult(result=1888.9922146300873, method='bisection', errormsg=None, context_dct=None) full_result [-1.71712600e-09  3.27825546e-06]\n",
      "[PairOptimizer.optimize] curves_t WETH-6Cc2/USDC-eB48\n",
      "[PairOptimizer.optimize] p_optimal OptimizerBase.SimpleResult(result=1888.9922146306799, method='bisection', errormsg=None, context_dct=None) full_result [-2.94821803e-08  5.57303429e-05]\n",
      "[PairOptimizer.optimize] curves_t WETH-6Cc2/USDC-eB48\n",
      "[PairOptimizer.optimize] p_optimal OptimizerBase.SimpleResult(result=1888.9922146300873, method='bisection', errormsg=None, context_dct=None) full_result [-1.71712600e-09  3.27825546e-06]\n",
      "[PairOptimizer.optimize] curves_t WETH-6Cc2/USDC-eB48\n",
      "[PairOptimizer.optimize] p_optimal OptimizerBase.SimpleResult(result=1888.992214629823, method='bisection', errormsg=None, context_dct=None) full_result [ 1.06811058e-08 -2.01463699e-05]\n"
     ]
    },
    {
     "data": {
      "application/vnd.jupyter.widget-view+json": {
       "model_id": "b9990fb9ce8e4ac4b02a679a50aded63",
       "version_major": 2,
       "version_minor": 0
      },
      "text/plain": [
       "  0%|          | 0/18 [00:00<?, ?it/s]"
      ]
     },
     "metadata": {},
     "output_type": "display_data"
    },
    {
     "name": "stdout",
     "output_type": "stream",
     "text": [
      "[PairOptimizer.optimize] curves_t WETH-6Cc2/DAI-1d0F\n",
      "[PairOptimizer.optimize] p_optimal OptimizerBase.SimpleResult(result=1889.851635528572, method='bisection', errormsg=None, context_dct=None) full_result [-5.12227416e-09  9.67085361e-06]\n",
      "[PairOptimizer.optimize] curves_t WETH-6Cc2/DAI-1d0F\n",
      "[PairOptimizer.optimize] p_optimal OptimizerBase.SimpleResult(result=1889.8516355283218, method='bisection', errormsg=None, context_dct=None) full_result [-2.50292942e-09  4.73856926e-06]\n",
      "[PairOptimizer.optimize] curves_t WETH-6Cc2/DAI-1d0F\n",
      "[PairOptimizer.optimize] p_optimal OptimizerBase.SimpleResult(result=1889.8516355280997, method='bisection', errormsg=None, context_dct=None) full_result [-1.74622983e-10  3.42726707e-07]\n",
      "[PairOptimizer.optimize] curves_t WETH-6Cc2/DAI-1d0F\n",
      "[PairOptimizer.optimize] p_optimal OptimizerBase.SimpleResult(result=1889.8516355278348, method='bisection', errormsg=None, context_dct=None) full_result [ 2.59751687e-09 -4.91738319e-06]\n",
      "[PairOptimizer.optimize] curves_t WETH-6Cc2/DAI-1d0F\n",
      "[PairOptimizer.optimize] p_optimal OptimizerBase.SimpleResult(result=1889.8516355280783, method='bisection', errormsg=None, context_dct=None) full_result [ 5.09317023e-11 -8.94069672e-08]\n",
      "[PairOptimizer.optimize] curves_t WETH-6Cc2/DAI-1d0F\n",
      "[PairOptimizer.optimize] p_optimal OptimizerBase.SimpleResult(result=1889.8516355275206, method='bisection', errormsg=None, context_dct=None) full_result [ 5.88624971e-09 -1.11311674e-05]\n",
      "[PairOptimizer.optimize] curves_t WETH-6Cc2/DAI-1d0F\n",
      "[PairOptimizer.optimize] p_optimal OptimizerBase.SimpleResult(result=1889.8516355279294, method='bisection', errormsg=None, context_dct=None) full_result [ 1.60798663e-09 -3.03983688e-06]\n",
      "[PairOptimizer.optimize] curves_t WETH-6Cc2/DAI-1d0F\n",
      "[PairOptimizer.optimize] p_optimal OptimizerBase.SimpleResult(result=1889.8516355281563, method='bisection', errormsg=None, context_dct=None) full_result [-7.71251507e-10  1.46031380e-06]\n",
      "[PairOptimizer.optimize] curves_t WETH-6Cc2/DAI-1d0F\n",
      "[PairOptimizer.optimize] p_optimal OptimizerBase.SimpleResult(result=1889.8516355283907, method='bisection', errormsg=None, context_dct=None) full_result [-3.23052518e-09  6.09457493e-06]\n",
      "[PairOptimizer.optimize] curves_t WETH-6Cc2/DAI-1d0F\n",
      "[PairOptimizer.optimize] p_optimal OptimizerBase.SimpleResult(result=1889.2342508777206, method='bisection', errormsg=None, context_dct=None) full_result [ 5.60248736e-10 -1.05053186e-06]\n",
      "[PairOptimizer.optimize] curves_t WETH-6Cc2/DAI-1d0F\n",
      "[PairOptimizer.optimize] p_optimal OptimizerBase.SimpleResult(result=1889.2342508777572, method='bisection', errormsg=None, context_dct=None) full_result [ 2.40106601e-10 -4.47034836e-07]\n",
      "[PairOptimizer.optimize] curves_t WETH-6Cc2/DAI-1d0F\n",
      "[PairOptimizer.optimize] p_optimal OptimizerBase.SimpleResult(result=1889.2342508777629, method='bisection', errormsg=None, context_dct=None) full_result [ 1.89174898e-10 -3.57627869e-07]\n",
      "[PairOptimizer.optimize] curves_t WETH-6Cc2/DAI-1d0F\n",
      "[PairOptimizer.optimize] p_optimal OptimizerBase.SimpleResult(result=1889.234250877536, method='bisection', errormsg=None, context_dct=None) full_result [ 2.15004547e-09 -4.06056643e-06]\n",
      "[PairOptimizer.optimize] curves_t WETH-6Cc2/DAI-1d0F\n",
      "[PairOptimizer.optimize] p_optimal OptimizerBase.SimpleResult(result=1889.234250876973, method='bisection', errormsg=None, context_dct=None) full_result [ 7.02129910e-09 -1.32620335e-05]\n",
      "[PairOptimizer.optimize] curves_t WETH-6Cc2/DAI-1d0F\n",
      "[PairOptimizer.optimize] p_optimal OptimizerBase.SimpleResult(result=1889.2342508772217, method='bisection', errormsg=None, context_dct=None) full_result [ 4.87125362e-09 -9.19401646e-06]\n",
      "[PairOptimizer.optimize] curves_t WETH-6Cc2/DAI-1d0F\n",
      "[PairOptimizer.optimize] p_optimal OptimizerBase.SimpleResult(result=1889.23425087766, method='bisection', errormsg=None, context_dct=None) full_result [ 1.07684173e-09 -2.03400850e-06]\n",
      "[PairOptimizer.optimize] curves_t WETH-6Cc2/DAI-1d0F\n",
      "[PairOptimizer.optimize] p_optimal OptimizerBase.SimpleResult(result=1889.234250877545, method='bisection', errormsg=None, context_dct=None) full_result [ 2.07364792e-09 -3.91155481e-06]\n",
      "[PairOptimizer.optimize] curves_t WETH-6Cc2/DAI-1d0F\n",
      "[PairOptimizer.optimize] p_optimal OptimizerBase.SimpleResult(result=1889.2342508780198, method='bisection', errormsg=None, context_dct=None) full_result [-2.02635420e-09  3.82959843e-06]\n"
     ]
    },
    {
     "data": {
      "application/vnd.jupyter.widget-view+json": {
       "model_id": "057ec0a00dbd4dffb7c7b2ac66754b09",
       "version_major": 2,
       "version_minor": 0
      },
      "text/plain": [
       "0it [00:00, ?it/s]"
      ]
     },
     "metadata": {},
     "output_type": "display_data"
    },
    {
     "data": {
      "application/vnd.jupyter.widget-view+json": {
       "model_id": "dee390d9a1c24fb19e311398ca6425c4",
       "version_major": 2,
       "version_minor": 0
      },
      "text/plain": [
       "0it [00:00, ?it/s]"
      ]
     },
     "metadata": {},
     "output_type": "display_data"
    },
    {
     "data": {
      "application/vnd.jupyter.widget-view+json": {
       "model_id": "6dd6ec83c24f4d15913d26c6b8ba1b4a",
       "version_major": 2,
       "version_minor": 0
      },
      "text/plain": [
       "  0%|          | 0/4 [00:00<?, ?it/s]"
      ]
     },
     "metadata": {},
     "output_type": "display_data"
    },
    {
     "name": "stdout",
     "output_type": "stream",
     "text": [
      "[PairOptimizer.optimize] curves_t WETH-6Cc2/BNT-FF1C\n",
      "[PairOptimizer.optimize] p_optimal OptimizerBase.SimpleResult(result=4764.128744550646, method='bisection', errormsg=None, context_dct=None) full_result [-5.01323496e-04 -9.32934199e-07]\n",
      "[PairOptimizer.optimize] curves_t WETH-6Cc2/BNT-FF1C\n",
      "[PairOptimizer.optimize] p_optimal OptimizerBase.SimpleResult(result=4764.138098143359, method='bisection', errormsg=None, context_dct=None) full_result [ 1.95996108e-10 -9.35047865e-07]\n",
      "[PairOptimizer.optimize] curves_t WETH-6Cc2/BNT-FF1C\n",
      "[PairOptimizer.optimize] p_optimal OptimizerBase.SimpleResult(result=4764.138098141909, method='bisection', errormsg=None, context_dct=None) full_result [ 7.35781214e-10 -3.50549817e-06]\n",
      "[PairOptimizer.optimize] curves_t WETH-6Cc2/BNT-FF1C\n",
      "[PairOptimizer.optimize] p_optimal OptimizerBase.SimpleResult(result=4764.138098143836, method='bisection', errormsg=None, context_dct=None) full_result [ 1.86446414e-11 -8.94069672e-08]\n"
     ]
    },
    {
     "data": {
      "application/vnd.jupyter.widget-view+json": {
       "model_id": "37be5aea8acb4ba18c2d72a0132ca1b9",
       "version_major": 2,
       "version_minor": 0
      },
      "text/plain": [
       "  0%|          | 0/6 [00:00<?, ?it/s]"
      ]
     },
     "metadata": {},
     "output_type": "display_data"
    },
    {
     "name": "stdout",
     "output_type": "stream",
     "text": [
      "[PairOptimizer.optimize] curves_t BNT-FF1C/USDC-eB48\n",
      "[PairOptimizer.optimize] p_optimal OptimizerBase.SimpleResult(result=0.3933388484434187, method='bisection', errormsg=None, context_dct=None) full_result [ 2.20257789e-07 -8.66129994e-08]\n",
      "[PairOptimizer.optimize] curves_t BNT-FF1C/USDC-eB48\n",
      "[PairOptimizer.optimize] p_optimal OptimizerBase.SimpleResult(result=0.3933388484435465, method='bisection', errormsg=None, context_dct=None) full_result [-2.22586095e-07  8.75443220e-08]\n",
      "[PairOptimizer.optimize] curves_t BNT-FF1C/USDC-eB48\n",
      "[PairOptimizer.optimize] p_optimal OptimizerBase.SimpleResult(result=0.3933388484434076, method='bisection', errormsg=None, context_dct=None) full_result [ 2.58907676e-07 -1.01746991e-07]\n",
      "[PairOptimizer.optimize] curves_t BNT-FF1C/USDC-eB48\n",
      "[PairOptimizer.optimize] p_optimal OptimizerBase.SimpleResult(result=0.39333884844358136, method='bisection', errormsg=None, context_dct=None) full_result [-3.43192369e-07  1.35041773e-07]\n",
      "[PairOptimizer.optimize] curves_t BNT-FF1C/USDC-eB48\n",
      "[PairOptimizer.optimize] p_optimal OptimizerBase.SimpleResult(result=0.39333798799177033, method='bisection', errormsg=None, context_dct=None) full_result [-1.90921128e-07 -9.95196286e-03]\n",
      "[PairOptimizer.optimize] curves_t BNT-FF1C/USDC-eB48\n",
      "[PairOptimizer.optimize] p_optimal OptimizerBase.SimpleResult(result=0.3933388484434884, method='bisection', errormsg=None, context_dct=None) full_result [-2.09547579e-08  8.14907253e-09]\n"
     ]
    },
    {
     "data": {
      "application/vnd.jupyter.widget-view+json": {
       "model_id": "c05480c75e7c497b9cc06e588dc4253d",
       "version_major": 2,
       "version_minor": 0
      },
      "text/plain": [
       "  0%|          | 0/2 [00:00<?, ?it/s]"
      ]
     },
     "metadata": {},
     "output_type": "display_data"
    },
    {
     "name": "stdout",
     "output_type": "stream",
     "text": [
      "[PairOptimizer.optimize] curves_t LINK-86CA/USDT-1ec7\n",
      "[PairOptimizer.optimize] p_optimal OptimizerBase.SimpleResult(result=6.19811711141325, method='bisection', errormsg=None, context_dct=None) full_result [ 6.92898627e-10 -8.85219641e-03]\n",
      "[PairOptimizer.optimize] curves_t LINK-86CA/USDT-1ec7\n",
      "[PairOptimizer.optimize] p_optimal OptimizerBase.SimpleResult(result=6.198055572670811, method='bisection', errormsg=None, context_dct=None) full_result [-4.04725142e-10  2.51020538e-09]\n"
     ]
    },
    {
     "data": {
      "application/vnd.jupyter.widget-view+json": {
       "model_id": "d68cd42deab24701b7fee184130c18f7",
       "version_major": 2,
       "version_minor": 0
      },
      "text/plain": [
       "  0%|          | 0/2 [00:00<?, ?it/s]"
      ]
     },
     "metadata": {},
     "output_type": "display_data"
    },
    {
     "name": "stdout",
     "output_type": "stream",
     "text": [
      "[PairOptimizer.optimize] curves_t LINK-86CA/WETH-6Cc2\n",
      "[PairOptimizer.optimize] p_optimal OptimizerBase.SimpleResult(result=0.0033128000163160634, method='bisection', errormsg=None, context_dct=None) full_result [ 3.74391675e-06 -1.24127837e-08]\n",
      "[PairOptimizer.optimize] curves_t LINK-86CA/WETH-6Cc2\n",
      "[PairOptimizer.optimize] p_optimal OptimizerBase.SimpleResult(result=0.0033127999417103446, method='bisection', errormsg=None, context_dct=None) full_result [-2.84612179e-06 -2.81119865e-05]\n"
     ]
    },
    {
     "data": {
      "application/vnd.jupyter.widget-view+json": {
       "model_id": "57bae25280a5417a973ca0ab649b08c9",
       "version_major": 2,
       "version_minor": 0
      },
      "text/plain": [
       "0it [00:00, ?it/s]"
      ]
     },
     "metadata": {},
     "output_type": "display_data"
    },
    {
     "data": {
      "application/vnd.jupyter.widget-view+json": {
       "model_id": "840cbd77c81c49ccbb52d655a7a7cbb6",
       "version_major": 2,
       "version_minor": 0
      },
      "text/plain": [
       "  0%|          | 0/2 [00:00<?, ?it/s]"
      ]
     },
     "metadata": {},
     "output_type": "display_data"
    },
    {
     "name": "stdout",
     "output_type": "stream",
     "text": [
      "[PairOptimizer.optimize] curves_t CRV-cd52/USDC-eB48\n",
      "[PairOptimizer.optimize] p_optimal OptimizerBase.SimpleResult(result=0.7931937487429332, method='bisection', errormsg=None, context_dct=None) full_result [-2.58442014e-08 -1.90724513e-01]\n",
      "[PairOptimizer.optimize] curves_t CRV-cd52/USDC-eB48\n",
      "[PairOptimizer.optimize] p_optimal OptimizerBase.SimpleResult(result=0.7931903130686275, method='bisection', errormsg=None, context_dct=None) full_result [-2.30502337e-08  1.81607902e-08]\n"
     ]
    },
    {
     "data": {
      "application/vnd.jupyter.widget-view+json": {
       "model_id": "4ac2e5c902e94195977ea64c68e359e5",
       "version_major": 2,
       "version_minor": 0
      },
      "text/plain": [
       "0it [00:00, ?it/s]"
      ]
     },
     "metadata": {},
     "output_type": "display_data"
    },
    {
     "data": {
      "application/vnd.jupyter.widget-view+json": {
       "model_id": "838747da21e54dadaa715b5ed50a4fce",
       "version_major": 2,
       "version_minor": 0
      },
      "text/plain": [
       "0it [00:00, ?it/s]"
      ]
     },
     "metadata": {},
     "output_type": "display_data"
    },
    {
     "data": {
      "application/vnd.jupyter.widget-view+json": {
       "model_id": "06f1e3f7fb684d12b5ac79c84678f170",
       "version_major": 2,
       "version_minor": 0
      },
      "text/plain": [
       "0it [00:00, ?it/s]"
      ]
     },
     "metadata": {},
     "output_type": "display_data"
    },
    {
     "data": {
      "application/vnd.jupyter.widget-view+json": {
       "model_id": "226ec691af494bc5b228a0f857f09c85",
       "version_major": 2,
       "version_minor": 0
      },
      "text/plain": [
       "0it [00:00, ?it/s]"
      ]
     },
     "metadata": {},
     "output_type": "display_data"
    },
    {
     "data": {
      "application/vnd.jupyter.widget-view+json": {
       "model_id": "d5f80cebadca4e37b1e8c91815af9386",
       "version_major": 2,
       "version_minor": 0
      },
      "text/plain": [
       "  0%|          | 0/2 [00:00<?, ?it/s]"
      ]
     },
     "metadata": {},
     "output_type": "display_data"
    },
    {
     "name": "stdout",
     "output_type": "stream",
     "text": [
      "[PairOptimizer.optimize] curves_t HEX-eb39/WETH-6Cc2\n",
      "[PairOptimizer.optimize] p_optimal OptimizerBase.SimpleResult(result=4.639072734871654e-06, method='bisection', errormsg=None, context_dct=None) full_result [ 6.18013860e-06 -1.40883161e-03]\n",
      "[PairOptimizer.optimize] curves_t HEX-eb39/WETH-6Cc2\n",
      "[PairOptimizer.optimize] p_optimal OptimizerBase.SimpleResult(result=4.617372379227854e-06, method='bisection', errormsg=None, context_dct=None) full_result [-3.09833574e-05 -1.42138817e-03]\n"
     ]
    },
    {
     "data": {
      "application/vnd.jupyter.widget-view+json": {
       "model_id": "50bc519b13be4e5f8d6f1a7c217eade9",
       "version_major": 2,
       "version_minor": 0
      },
      "text/plain": [
       "0it [00:00, ?it/s]"
      ]
     },
     "metadata": {},
     "output_type": "display_data"
    },
    {
     "data": {
      "application/vnd.jupyter.widget-view+json": {
       "model_id": "3e6ac64610fe4b27bed1fb69b6da72cf",
       "version_major": 2,
       "version_minor": 0
      },
      "text/plain": [
       "0it [00:00, ?it/s]"
      ]
     },
     "metadata": {},
     "output_type": "display_data"
    },
    {
     "data": {
      "application/vnd.jupyter.widget-view+json": {
       "model_id": "3cdd3c13f07f4462819c76fb898cd168",
       "version_major": 2,
       "version_minor": 0
      },
      "text/plain": [
       "0it [00:00, ?it/s]"
      ]
     },
     "metadata": {},
     "output_type": "display_data"
    },
    {
     "data": {
      "application/vnd.jupyter.widget-view+json": {
       "model_id": "0d614e871ccb405dba8269a49f39948b",
       "version_major": 2,
       "version_minor": 0
      },
      "text/plain": [
       "  0%|          | 0/1 [00:00<?, ?it/s]"
      ]
     },
     "metadata": {},
     "output_type": "display_data"
    },
    {
     "name": "stdout",
     "output_type": "stream",
     "text": [
      "[PairOptimizer.optimize] curves_t TSUKA-69eD/USDC-eB48\n",
      "[PairOptimizer.optimize] p_optimal OptimizerBase.SimpleResult(result=0.031129990028112127, method='bisection', errormsg=None, context_dct=None) full_result [ 1.87428668e-08 -5.82986104e-10]\n"
     ]
    },
    {
     "data": {
      "application/vnd.jupyter.widget-view+json": {
       "model_id": "8ca95734479d4a92befccb467df4dbdc",
       "version_major": 2,
       "version_minor": 0
      },
      "text/plain": [
       "0it [00:00, ?it/s]"
      ]
     },
     "metadata": {},
     "output_type": "display_data"
    },
    {
     "data": {
      "application/vnd.jupyter.widget-view+json": {
       "model_id": "50746475d08b408fb4312e6c6ca05437",
       "version_major": 2,
       "version_minor": 0
      },
      "text/plain": [
       "0it [00:00, ?it/s]"
      ]
     },
     "metadata": {},
     "output_type": "display_data"
    },
    {
     "data": {
      "application/vnd.jupyter.widget-view+json": {
       "model_id": "8bedcfe58c5840ff9a49975f947fe9e9",
       "version_major": 2,
       "version_minor": 0
      },
      "text/plain": [
       "0it [00:00, ?it/s]"
      ]
     },
     "metadata": {},
     "output_type": "display_data"
    },
    {
     "data": {
      "application/vnd.jupyter.widget-view+json": {
       "model_id": "181d811429db4224b3ed67d3bba824c2",
       "version_major": 2,
       "version_minor": 0
      },
      "text/plain": [
       "0it [00:00, ?it/s]"
      ]
     },
     "metadata": {},
     "output_type": "display_data"
    },
    {
     "data": {
      "application/vnd.jupyter.widget-view+json": {
       "model_id": "80ad1ddf5bb445f5989a8b4be4dc9141",
       "version_major": 2,
       "version_minor": 0
      },
      "text/plain": [
       "0it [00:00, ?it/s]"
      ]
     },
     "metadata": {},
     "output_type": "display_data"
    },
    {
     "data": {
      "application/vnd.jupyter.widget-view+json": {
       "model_id": "c5255d66fa9c45f8b9506a48158d83a2",
       "version_major": 2,
       "version_minor": 0
      },
      "text/plain": [
       "  0%|          | 0/2 [00:00<?, ?it/s]"
      ]
     },
     "metadata": {},
     "output_type": "display_data"
    },
    {
     "name": "stdout",
     "output_type": "stream",
     "text": [
      "[PairOptimizer.optimize] curves_t LYXe-be6D/WETH-6Cc2\n",
      "[PairOptimizer.optimize] p_optimal OptimizerBase.SimpleResult(result=0.004425455338543597, method='bisection', errormsg=None, context_dct=None) full_result [-6.97036739e-09  3.08659764e-11]\n",
      "[PairOptimizer.optimize] curves_t LYXe-be6D/WETH-6Cc2\n",
      "[PairOptimizer.optimize] p_optimal OptimizerBase.SimpleResult(result=0.004418792395805483, method='bisection', errormsg=None, context_dct=None) full_result [ 1.22963684e-09 -5.43565193e-12]\n"
     ]
    },
    {
     "data": {
      "application/vnd.jupyter.widget-view+json": {
       "model_id": "66b670b2f95344528cff3d3fd65482ee",
       "version_major": 2,
       "version_minor": 0
      },
      "text/plain": [
       "0it [00:00, ?it/s]"
      ]
     },
     "metadata": {},
     "output_type": "display_data"
    },
    {
     "data": {
      "application/vnd.jupyter.widget-view+json": {
       "model_id": "9b232181a5624f878790ab61cf9b5d62",
       "version_major": 2,
       "version_minor": 0
      },
      "text/plain": [
       "0it [00:00, ?it/s]"
      ]
     },
     "metadata": {},
     "output_type": "display_data"
    },
    {
     "data": {
      "application/vnd.jupyter.widget-view+json": {
       "model_id": "7d84a8f1449e4bf39ea3b00aa03a7db7",
       "version_major": 2,
       "version_minor": 0
      },
      "text/plain": [
       "0it [00:00, ?it/s]"
      ]
     },
     "metadata": {},
     "output_type": "display_data"
    },
    {
     "data": {
      "application/vnd.jupyter.widget-view+json": {
       "model_id": "2297fffb2d7648c89024ca8388212a7b",
       "version_major": 2,
       "version_minor": 0
      },
      "text/plain": [
       "  0%|          | 0/4 [00:00<?, ?it/s]"
      ]
     },
     "metadata": {},
     "output_type": "display_data"
    },
    {
     "name": "stdout",
     "output_type": "stream",
     "text": [
      "[PairOptimizer.optimize] curves_t agEUR-Bce8/USDC-eB48\n",
      "[PairOptimizer.optimize] p_optimal OptimizerBase.SimpleResult(result=1.1012586819934904, method='bisection', errormsg=None, context_dct=None) full_result [ 2.15768814e-05 -2.37524509e-05]\n",
      "[PairOptimizer.optimize] curves_t agEUR-Bce8/USDC-eB48\n",
      "[PairOptimizer.optimize] p_optimal OptimizerBase.SimpleResult(result=1.1012068414304432, method='bisection', errormsg=None, context_dct=None) full_result [-1.07367523e-05 -1.18744592e+01]\n",
      "[PairOptimizer.optimize] curves_t agEUR-Bce8/USDC-eB48\n",
      "[PairOptimizer.optimize] p_optimal OptimizerBase.SimpleResult(result=1.0977629060275782, method='bisection', errormsg=None, context_dct=None) full_result [ 1.81025825e-08 -1.99652277e-08]\n",
      "[PairOptimizer.optimize] curves_t agEUR-Bce8/USDC-eB48\n",
      "[PairOptimizer.optimize] p_optimal OptimizerBase.SimpleResult(result=1.0954248748364375, method='bisection', errormsg=None, context_dct=None) full_result [-5.43659553e-08 -2.33145547e-01]\n"
     ]
    },
    {
     "data": {
      "application/vnd.jupyter.widget-view+json": {
       "model_id": "9106ab55b2d943adb1a94af7660bbfd5",
       "version_major": 2,
       "version_minor": 0
      },
      "text/plain": [
       "  0%|          | 0/4 [00:00<?, ?it/s]"
      ]
     },
     "metadata": {},
     "output_type": "display_data"
    },
    {
     "name": "stdout",
     "output_type": "stream",
     "text": [
      "[PairOptimizer.optimize] curves_t DAI-1d0F/USDT-1ec7\n",
      "[PairOptimizer.optimize] p_optimal OptimizerBase.SimpleResult(result=0.9998810288348383, method='bisection', errormsg=None, context_dct=None) full_result [-0.00010109  0.00010061]\n",
      "[PairOptimizer.optimize] curves_t DAI-1d0F/USDT-1ec7\n",
      "[PairOptimizer.optimize] p_optimal OptimizerBase.SimpleResult(result=0.9998810288345285, method='bisection', errormsg=None, context_dct=None) full_result [ 0.00048351 -0.00048351]\n",
      "[PairOptimizer.optimize] curves_t DAI-1d0F/USDT-1ec7\n",
      "[PairOptimizer.optimize] p_optimal OptimizerBase.SimpleResult(result=1.0000277727934523, method='bisection', errormsg=None, context_dct=None) full_result [-4.46438789e-05  4.47034836e-05]\n",
      "[PairOptimizer.optimize] curves_t DAI-1d0F/USDT-1ec7\n",
      "[PairOptimizer.optimize] p_optimal OptimizerBase.SimpleResult(result=1.000027772793279, method='bisection', errormsg=None, context_dct=None) full_result [-1.69277191e-05  1.69873238e-05]\n"
     ]
    },
    {
     "data": {
      "application/vnd.jupyter.widget-view+json": {
       "model_id": "0373d36652e549d38f8b43e877c768db",
       "version_major": 2,
       "version_minor": 0
      },
      "text/plain": [
       "  0%|          | 0/18 [00:00<?, ?it/s]"
      ]
     },
     "metadata": {},
     "output_type": "display_data"
    },
    {
     "name": "stdout",
     "output_type": "stream",
     "text": [
      "[PairOptimizer.optimize] curves_t WETH-6Cc2/DAI-1d0F\n",
      "[PairOptimizer.optimize] p_optimal OptimizerBase.SimpleResult(result=1889.851635528572, method='bisection', errormsg=None, context_dct=None) full_result [-5.12227416e-09  9.67085361e-06]\n",
      "[PairOptimizer.optimize] curves_t WETH-6Cc2/DAI-1d0F\n",
      "[PairOptimizer.optimize] p_optimal OptimizerBase.SimpleResult(result=1889.8516355283218, method='bisection', errormsg=None, context_dct=None) full_result [-2.50292942e-09  4.73856926e-06]\n",
      "[PairOptimizer.optimize] curves_t WETH-6Cc2/DAI-1d0F\n",
      "[PairOptimizer.optimize] p_optimal OptimizerBase.SimpleResult(result=1889.8516355280997, method='bisection', errormsg=None, context_dct=None) full_result [-1.74622983e-10  3.42726707e-07]\n",
      "[PairOptimizer.optimize] curves_t WETH-6Cc2/DAI-1d0F\n",
      "[PairOptimizer.optimize] p_optimal OptimizerBase.SimpleResult(result=1889.8516355278348, method='bisection', errormsg=None, context_dct=None) full_result [ 2.59751687e-09 -4.91738319e-06]\n",
      "[PairOptimizer.optimize] curves_t WETH-6Cc2/DAI-1d0F\n",
      "[PairOptimizer.optimize] p_optimal OptimizerBase.SimpleResult(result=1889.8516355280783, method='bisection', errormsg=None, context_dct=None) full_result [ 5.09317023e-11 -8.94069672e-08]\n",
      "[PairOptimizer.optimize] curves_t WETH-6Cc2/DAI-1d0F\n",
      "[PairOptimizer.optimize] p_optimal OptimizerBase.SimpleResult(result=1889.8516355275206, method='bisection', errormsg=None, context_dct=None) full_result [ 5.88624971e-09 -1.11311674e-05]\n",
      "[PairOptimizer.optimize] curves_t WETH-6Cc2/DAI-1d0F\n",
      "[PairOptimizer.optimize] p_optimal OptimizerBase.SimpleResult(result=1889.8516355279294, method='bisection', errormsg=None, context_dct=None) full_result [ 1.60798663e-09 -3.03983688e-06]\n",
      "[PairOptimizer.optimize] curves_t WETH-6Cc2/DAI-1d0F\n",
      "[PairOptimizer.optimize] p_optimal OptimizerBase.SimpleResult(result=1889.8516355281563, method='bisection', errormsg=None, context_dct=None) full_result [-7.71251507e-10  1.46031380e-06]\n",
      "[PairOptimizer.optimize] curves_t WETH-6Cc2/DAI-1d0F\n",
      "[PairOptimizer.optimize] p_optimal OptimizerBase.SimpleResult(result=1889.8516355283907, method='bisection', errormsg=None, context_dct=None) full_result [-3.23052518e-09  6.09457493e-06]\n",
      "[PairOptimizer.optimize] curves_t WETH-6Cc2/DAI-1d0F\n",
      "[PairOptimizer.optimize] p_optimal OptimizerBase.SimpleResult(result=1889.2342508777206, method='bisection', errormsg=None, context_dct=None) full_result [ 5.60248736e-10 -1.05053186e-06]\n",
      "[PairOptimizer.optimize] curves_t WETH-6Cc2/DAI-1d0F\n",
      "[PairOptimizer.optimize] p_optimal OptimizerBase.SimpleResult(result=1889.2342508777572, method='bisection', errormsg=None, context_dct=None) full_result [ 2.40106601e-10 -4.47034836e-07]\n",
      "[PairOptimizer.optimize] curves_t WETH-6Cc2/DAI-1d0F\n",
      "[PairOptimizer.optimize] p_optimal OptimizerBase.SimpleResult(result=1889.2342508777629, method='bisection', errormsg=None, context_dct=None) full_result [ 1.89174898e-10 -3.57627869e-07]\n",
      "[PairOptimizer.optimize] curves_t WETH-6Cc2/DAI-1d0F\n",
      "[PairOptimizer.optimize] p_optimal OptimizerBase.SimpleResult(result=1889.234250877536, method='bisection', errormsg=None, context_dct=None) full_result [ 2.15004547e-09 -4.06056643e-06]\n",
      "[PairOptimizer.optimize] curves_t WETH-6Cc2/DAI-1d0F\n",
      "[PairOptimizer.optimize] p_optimal OptimizerBase.SimpleResult(result=1889.234250876973, method='bisection', errormsg=None, context_dct=None) full_result [ 7.02129910e-09 -1.32620335e-05]\n",
      "[PairOptimizer.optimize] curves_t WETH-6Cc2/DAI-1d0F\n",
      "[PairOptimizer.optimize] p_optimal OptimizerBase.SimpleResult(result=1889.2342508772217, method='bisection', errormsg=None, context_dct=None) full_result [ 4.87125362e-09 -9.19401646e-06]\n",
      "[PairOptimizer.optimize] curves_t WETH-6Cc2/DAI-1d0F\n",
      "[PairOptimizer.optimize] p_optimal OptimizerBase.SimpleResult(result=1889.23425087766, method='bisection', errormsg=None, context_dct=None) full_result [ 1.07684173e-09 -2.03400850e-06]\n",
      "[PairOptimizer.optimize] curves_t WETH-6Cc2/DAI-1d0F\n",
      "[PairOptimizer.optimize] p_optimal OptimizerBase.SimpleResult(result=1889.234250877545, method='bisection', errormsg=None, context_dct=None) full_result [ 2.07364792e-09 -3.91155481e-06]\n",
      "[PairOptimizer.optimize] curves_t WETH-6Cc2/DAI-1d0F\n",
      "[PairOptimizer.optimize] p_optimal OptimizerBase.SimpleResult(result=1889.2342508780198, method='bisection', errormsg=None, context_dct=None) full_result [-2.02635420e-09  3.82959843e-06]\n"
     ]
    },
    {
     "data": {
      "application/vnd.jupyter.widget-view+json": {
       "model_id": "83de856e77b54977bd32e6528bb2e0d5",
       "version_major": 2,
       "version_minor": 0
      },
      "text/plain": [
       "  0%|          | 0/4 [00:00<?, ?it/s]"
      ]
     },
     "metadata": {},
     "output_type": "display_data"
    },
    {
     "name": "stdout",
     "output_type": "stream",
     "text": [
      "[PairOptimizer.optimize] curves_t DAI-1d0F/USDC-eB48\n",
      "[PairOptimizer.optimize] p_optimal OptimizerBase.SimpleResult(result=1.0003813756302735, method='bisection', errormsg=None, context_dct=None) full_result [ 0.00042725 -0.00042725]\n",
      "[PairOptimizer.optimize] curves_t DAI-1d0F/USDC-eB48\n",
      "[PairOptimizer.optimize] p_optimal OptimizerBase.SimpleResult(result=1.000381375630044, method='bisection', errormsg=None, context_dct=None) full_result [ 0.00753784 -0.00754547]\n",
      "[PairOptimizer.optimize] curves_t DAI-1d0F/USDC-eB48\n",
      "[PairOptimizer.optimize] p_optimal OptimizerBase.SimpleResult(result=0.999979963573878, method='bisection', errormsg=None, context_dct=None) full_result [ 0.02416992 -0.02410889]\n",
      "[PairOptimizer.optimize] curves_t DAI-1d0F/USDC-eB48\n",
      "[PairOptimizer.optimize] p_optimal OptimizerBase.SimpleResult(result=0.999979963573925, method='bisection', errormsg=None, context_dct=None) full_result [ 0.01159668 -0.01153564]\n"
     ]
    },
    {
     "data": {
      "application/vnd.jupyter.widget-view+json": {
       "model_id": "c36967b6ff8748f2ac341d3988a6e956",
       "version_major": 2,
       "version_minor": 0
      },
      "text/plain": [
       "0it [00:00, ?it/s]"
      ]
     },
     "metadata": {},
     "output_type": "display_data"
    },
    {
     "data": {
      "application/vnd.jupyter.widget-view+json": {
       "model_id": "24293ff616b04173bb53d479db9851e7",
       "version_major": 2,
       "version_minor": 0
      },
      "text/plain": [
       "0it [00:00, ?it/s]"
      ]
     },
     "metadata": {},
     "output_type": "display_data"
    },
    {
     "data": {
      "application/vnd.jupyter.widget-view+json": {
       "model_id": "2a228b557fcd4629aad8153923dfc17b",
       "version_major": 2,
       "version_minor": 0
      },
      "text/plain": [
       "0it [00:00, ?it/s]"
      ]
     },
     "metadata": {},
     "output_type": "display_data"
    },
    {
     "data": {
      "application/vnd.jupyter.widget-view+json": {
       "model_id": "ff6a0e2590dd46da99b8ea10cf3f88a3",
       "version_major": 2,
       "version_minor": 0
      },
      "text/plain": [
       "0it [00:00, ?it/s]"
      ]
     },
     "metadata": {},
     "output_type": "display_data"
    },
    {
     "data": {
      "application/vnd.jupyter.widget-view+json": {
       "model_id": "6f8b92fdf3ae4a758adb639d076ba970",
       "version_major": 2,
       "version_minor": 0
      },
      "text/plain": [
       "0it [00:00, ?it/s]"
      ]
     },
     "metadata": {},
     "output_type": "display_data"
    },
    {
     "data": {
      "application/vnd.jupyter.widget-view+json": {
       "model_id": "0a83e14f15c04e92ab54e67b328ee657",
       "version_major": 2,
       "version_minor": 0
      },
      "text/plain": [
       "  0%|          | 0/1 [00:00<?, ?it/s]"
      ]
     },
     "metadata": {},
     "output_type": "display_data"
    },
    {
     "name": "stdout",
     "output_type": "stream",
     "text": [
      "[PairOptimizer.optimize] curves_t WBTC-C599/USDT-1ec7\n",
      "[PairOptimizer.optimize] p_optimal OptimizerBase.SimpleResult(result=30694.613926066977, method='bisection', errormsg=None, context_dct=None) full_result [-7.29679297e-11 -1.92722695e-02]\n"
     ]
    },
    {
     "data": {
      "application/vnd.jupyter.widget-view+json": {
       "model_id": "cb3089463a0842ac9fdb41a49625a0cd",
       "version_major": 2,
       "version_minor": 0
      },
      "text/plain": [
       "  0%|          | 0/16 [00:00<?, ?it/s]"
      ]
     },
     "metadata": {},
     "output_type": "display_data"
    },
    {
     "name": "stdout",
     "output_type": "stream",
     "text": [
      "[PairOptimizer.optimize] curves_t WBTC-C599/WETH-6Cc2\n",
      "[PairOptimizer.optimize] p_optimal OptimizerBase.SimpleResult(result=16.25127735725492, method='bisection', errormsg=None, context_dct=None) full_result [-2.74303602e-09  4.45870683e-08]\n",
      "[PairOptimizer.optimize] curves_t WBTC-C599/WETH-6Cc2\n",
      "[PairOptimizer.optimize] p_optimal OptimizerBase.SimpleResult(result=16.251277357233576, method='bisection', errormsg=None, context_dct=None) full_result [-1.81454762e-09  2.64954920e-08]\n",
      "[PairOptimizer.optimize] curves_t WBTC-C599/WETH-6Cc2\n",
      "[PairOptimizer.optimize] p_optimal OptimizerBase.SimpleResult(result=16.25127735724241, method='bisection', errormsg=None, context_dct=None) full_result [ 3.66344466e-09 -5.94882295e-08]\n",
      "[PairOptimizer.optimize] curves_t WBTC-C599/WETH-6Cc2\n",
      "[PairOptimizer.optimize] p_optimal OptimizerBase.SimpleResult(result=16.25127735725219, method='bisection', errormsg=None, context_dct=None) full_result [-1.34605216e-09  2.18860805e-08]\n",
      "[PairOptimizer.optimize] curves_t WBTC-C599/WETH-6Cc2\n",
      "[PairOptimizer.optimize] p_optimal OptimizerBase.SimpleResult(result=16.251277357247133, method='bisection', errormsg=None, context_dct=None) full_result [ 1.24418875e-09 -2.01980583e-08]\n",
      "[PairOptimizer.optimize] curves_t WBTC-C599/WETH-6Cc2\n",
      "[PairOptimizer.optimize] p_optimal OptimizerBase.SimpleResult(result=16.251277357247766, method='bisection', errormsg=None, context_dct=None) full_result [ 9.20408638e-10 -1.49593689e-08]\n",
      "[PairOptimizer.optimize] curves_t WBTC-C599/WETH-6Cc2\n",
      "[PairOptimizer.optimize] p_optimal OptimizerBase.SimpleResult(result=16.25127564699462, method='bisection', errormsg=None, context_dct=None) full_result [ 7.75202125e-11 -5.60414833e-07]\n",
      "[PairOptimizer.optimize] curves_t WBTC-C599/WETH-6Cc2\n",
      "[PairOptimizer.optimize] p_optimal OptimizerBase.SimpleResult(result=16.25127735724613, method='bisection', errormsg=None, context_dct=None) full_result [ 1.75714376e-09 -2.85217538e-08]\n",
      "[PairOptimizer.optimize] curves_t WBTC-C599/WETH-6Cc2\n",
      "[PairOptimizer.optimize] p_optimal OptimizerBase.SimpleResult(result=16.262500335191948, method='bisection', errormsg=None, context_dct=None) full_result [-7.50151230e-09  1.22003257e-07]\n",
      "[PairOptimizer.optimize] curves_t WBTC-C599/WETH-6Cc2\n",
      "[PairOptimizer.optimize] p_optimal OptimizerBase.SimpleResult(result=16.262500335181386, method='bisection', errormsg=None, context_dct=None) full_result [-4.99414110e-09  7.80092719e-08]\n",
      "[PairOptimizer.optimize] curves_t WBTC-C599/WETH-6Cc2\n",
      "[PairOptimizer.optimize] p_optimal OptimizerBase.SimpleResult(result=16.262500335186033, method='bisection', errormsg=None, context_dct=None) full_result [-4.94765118e-10  7.91624188e-09]\n",
      "[PairOptimizer.optimize] curves_t WBTC-C599/WETH-6Cc2\n",
      "[PairOptimizer.optimize] p_optimal OptimizerBase.SimpleResult(result=16.26250033519087, method='bisection', errormsg=None, context_dct=None) full_result [-6.22821972e-09  1.01281330e-07]\n",
      "[PairOptimizer.optimize] curves_t WBTC-C599/WETH-6Cc2\n",
      "[PairOptimizer.optimize] p_optimal OptimizerBase.SimpleResult(result=16.262500335190833, method='bisection', errormsg=None, context_dct=None) full_result [-6.17728801e-09  1.00466423e-07]\n",
      "[PairOptimizer.optimize] curves_t WBTC-C599/WETH-6Cc2\n",
      "[PairOptimizer.optimize] p_optimal OptimizerBase.SimpleResult(result=16.262500335185337, method='bisection', errormsg=None, context_dct=None) full_result [ 3.34694050e-10 -5.47152013e-09]\n",
      "[PairOptimizer.optimize] curves_t WBTC-C599/WETH-6Cc2\n",
      "[PairOptimizer.optimize] p_optimal OptimizerBase.SimpleResult(result=16.26249310391707, method='bisection', errormsg=None, context_dct=None) full_result [ 3.98554079e-09 -5.36410068e-05]\n",
      "[PairOptimizer.optimize] curves_t WBTC-C599/WETH-6Cc2\n",
      "[PairOptimizer.optimize] p_optimal OptimizerBase.SimpleResult(result=16.262500335189472, method='bisection', errormsg=None, context_dct=None) full_result [-4.57657734e-09  7.43893906e-08]\n"
     ]
    },
    {
     "data": {
      "application/vnd.jupyter.widget-view+json": {
       "model_id": "45e7b7932c7e48d1bb41b124515f209b",
       "version_major": 2,
       "version_minor": 0
      },
      "text/plain": [
       "  0%|          | 0/16 [00:00<?, ?it/s]"
      ]
     },
     "metadata": {},
     "output_type": "display_data"
    },
    {
     "name": "stdout",
     "output_type": "stream",
     "text": [
      "[PairOptimizer.optimize] curves_t WBTC-C599/USDC-eB48\n",
      "[PairOptimizer.optimize] p_optimal OptimizerBase.SimpleResult(result=30709.171178589037, method='bisection', errormsg=None, context_dct=None) full_result [ 3.52997631e-11 -1.08499080e-06]\n",
      "[PairOptimizer.optimize] curves_t WBTC-C599/USDC-eB48\n",
      "[PairOptimizer.optimize] p_optimal OptimizerBase.SimpleResult(result=30709.17117859955, method='bisection', errormsg=None, context_dct=None) full_result [-1.14255272e-11  3.50177288e-07]\n",
      "[PairOptimizer.optimize] curves_t WBTC-C599/USDC-eB48\n",
      "[PairOptimizer.optimize] p_optimal OptimizerBase.SimpleResult(result=30709.17117859282, method='bisection', errormsg=None, context_dct=None) full_result [ 1.85309545e-11 -5.69969416e-07]\n",
      "[PairOptimizer.optimize] curves_t WBTC-C599/USDC-eB48\n",
      "[PairOptimizer.optimize] p_optimal OptimizerBase.SimpleResult(result=30709.17117859589, method='bisection', errormsg=None, context_dct=None) full_result [ 4.83169060e-12 -1.49011612e-07]\n",
      "[PairOptimizer.optimize] curves_t WBTC-C599/USDC-eB48\n",
      "[PairOptimizer.optimize] p_optimal OptimizerBase.SimpleResult(result=30709.17117859447, method='bisection', errormsg=None, context_dct=None) full_result [ 1.11413101e-11 -3.43658030e-07]\n",
      "[PairOptimizer.optimize] curves_t WBTC-C599/USDC-eB48\n",
      "[PairOptimizer.optimize] p_optimal OptimizerBase.SimpleResult(result=30709.171178601522, method='bisection', errormsg=None, context_dct=None) full_result [-2.01794137e-11  6.19329512e-07]\n",
      "[PairOptimizer.optimize] curves_t WBTC-C599/USDC-eB48\n",
      "[PairOptimizer.optimize] p_optimal OptimizerBase.SimpleResult(result=30708.386280897503, method='bisection', errormsg=None, context_dct=None) full_result [ 2.96917491e-11 -8.92271088e-01]\n",
      "[PairOptimizer.optimize] curves_t WBTC-C599/USDC-eB48\n",
      "[PairOptimizer.optimize] p_optimal OptimizerBase.SimpleResult(result=30709.171178605357, method='bisection', errormsg=None, context_dct=None) full_result [-3.72324394e-11  1.14273280e-06]\n",
      "[PairOptimizer.optimize] curves_t WBTC-C599/USDC-eB48\n",
      "[PairOptimizer.optimize] p_optimal OptimizerBase.SimpleResult(result=30681.192450067927, method='bisection', errormsg=None, context_dct=None) full_result [ 5.82986104e-10 -1.79111958e-05]\n",
      "[PairOptimizer.optimize] curves_t WBTC-C599/USDC-eB48\n",
      "[PairOptimizer.optimize] p_optimal OptimizerBase.SimpleResult(result=30681.192450086935, method='bisection', errormsg=None, context_dct=None) full_result [-8.64019967e-10  2.64942646e-05]\n",
      "[PairOptimizer.optimize] curves_t WBTC-C599/USDC-eB48\n",
      "[PairOptimizer.optimize] p_optimal OptimizerBase.SimpleResult(result=30681.192450084593, method='bisection', errormsg=None, context_dct=None) full_result [-6.85759005e-10  2.10106373e-05]\n",
      "[PairOptimizer.optimize] curves_t WBTC-C599/USDC-eB48\n",
      "[PairOptimizer.optimize] p_optimal OptimizerBase.SimpleResult(result=30681.192450076273, method='bisection', errormsg=None, context_dct=None) full_result [-5.27506927e-11  1.57952309e-06]\n",
      "[PairOptimizer.optimize] curves_t WBTC-C599/USDC-eB48\n",
      "[PairOptimizer.optimize] p_optimal OptimizerBase.SimpleResult(result=30681.19245007934, method='bisection', errormsg=None, context_dct=None) full_result [-2.85581336e-10  8.73208046e-06]\n",
      "[PairOptimizer.optimize] curves_t WBTC-C599/USDC-eB48\n",
      "[PairOptimizer.optimize] p_optimal OptimizerBase.SimpleResult(result=30681.192450081726, method='bisection', errormsg=None, context_dct=None) full_result [-4.67480277e-10  1.43349171e-05]\n",
      "[PairOptimizer.optimize] curves_t WBTC-C599/USDC-eB48\n",
      "[PairOptimizer.optimize] p_optimal OptimizerBase.SimpleResult(result=30681.149014643066, method='bisection', errormsg=None, context_dct=None) full_result [ 2.77502132e-10 -7.98431910e-01]\n",
      "[PairOptimizer.optimize] curves_t WBTC-C599/USDC-eB48\n",
      "[PairOptimizer.optimize] p_optimal OptimizerBase.SimpleResult(result=30681.192450076527, method='bisection', errormsg=None, context_dct=None) full_result [-7.18500814e-11  2.17556953e-06]\n"
     ]
    },
    {
     "data": {
      "application/vnd.jupyter.widget-view+json": {
       "model_id": "90d4a310976c420cb80fe8edc223390a",
       "version_major": 2,
       "version_minor": 0
      },
      "text/plain": [
       "  0%|          | 0/1 [00:00<?, ?it/s]"
      ]
     },
     "metadata": {},
     "output_type": "display_data"
    },
    {
     "name": "stdout",
     "output_type": "stream",
     "text": [
      "[PairOptimizer.optimize] curves_t MATIC-eBB0/USDC-eB48\n",
      "[PairOptimizer.optimize] p_optimal OptimizerBase.SimpleResult(result=0.7402602510973211, method='bisection', errormsg=None, context_dct=None) full_result [-9.26957000e-09  6.86122803e-09]\n"
     ]
    },
    {
     "data": {
      "application/vnd.jupyter.widget-view+json": {
       "model_id": "e6ecc0cb64574ddf8dacb2802fea0a20",
       "version_major": 2,
       "version_minor": 0
      },
      "text/plain": [
       "0it [00:00, ?it/s]"
      ]
     },
     "metadata": {},
     "output_type": "display_data"
    },
    {
     "data": {
      "application/vnd.jupyter.widget-view+json": {
       "model_id": "19bc9eacc2ad40269926c40f03bee40f",
       "version_major": 2,
       "version_minor": 0
      },
      "text/plain": [
       "0it [00:00, ?it/s]"
      ]
     },
     "metadata": {},
     "output_type": "display_data"
    },
    {
     "data": {
      "application/vnd.jupyter.widget-view+json": {
       "model_id": "cd8e66e2e2c641518ed493edb57a3cff",
       "version_major": 2,
       "version_minor": 0
      },
      "text/plain": [
       "0it [00:00, ?it/s]"
      ]
     },
     "metadata": {},
     "output_type": "display_data"
    },
    {
     "data": {
      "application/vnd.jupyter.widget-view+json": {
       "model_id": "2429ded9cffc4ef9b9144990cdef0a89",
       "version_major": 2,
       "version_minor": 0
      },
      "text/plain": [
       "0it [00:00, ?it/s]"
      ]
     },
     "metadata": {},
     "output_type": "display_data"
    },
    {
     "data": {
      "application/vnd.jupyter.widget-view+json": {
       "model_id": "5f868bb5dfb84a56b216eb0f40d9d335",
       "version_major": 2,
       "version_minor": 0
      },
      "text/plain": [
       "0it [00:00, ?it/s]"
      ]
     },
     "metadata": {},
     "output_type": "display_data"
    },
    {
     "data": {
      "application/vnd.jupyter.widget-view+json": {
       "model_id": "4ccd790d38e44ee5a34d0889c0f2196c",
       "version_major": 2,
       "version_minor": 0
      },
      "text/plain": [
       "0it [00:00, ?it/s]"
      ]
     },
     "metadata": {},
     "output_type": "display_data"
    },
    {
     "data": {
      "application/vnd.jupyter.widget-view+json": {
       "model_id": "0443a21d514d4824b7cd9259a13e5de1",
       "version_major": 2,
       "version_minor": 0
      },
      "text/plain": [
       "0it [00:00, ?it/s]"
      ]
     },
     "metadata": {},
     "output_type": "display_data"
    },
    {
     "data": {
      "application/vnd.jupyter.widget-view+json": {
       "model_id": "f138bcbefbc14c47a35c368bf54522e3",
       "version_major": 2,
       "version_minor": 0
      },
      "text/plain": [
       "0it [00:00, ?it/s]"
      ]
     },
     "metadata": {},
     "output_type": "display_data"
    },
    {
     "data": {
      "application/vnd.jupyter.widget-view+json": {
       "model_id": "494d7dfbbd44420fbaed9195d3dc4b23",
       "version_major": 2,
       "version_minor": 0
      },
      "text/plain": [
       "0it [00:00, ?it/s]"
      ]
     },
     "metadata": {},
     "output_type": "display_data"
    },
    {
     "data": {
      "application/vnd.jupyter.widget-view+json": {
       "model_id": "917f0006c0ba4322abc4c89fcb1568e4",
       "version_major": 2,
       "version_minor": 0
      },
      "text/plain": [
       "0it [00:00, ?it/s]"
      ]
     },
     "metadata": {},
     "output_type": "display_data"
    },
    {
     "data": {
      "application/vnd.jupyter.widget-view+json": {
       "model_id": "041aa4b926e04742b6b959da0ce0e5bf",
       "version_major": 2,
       "version_minor": 0
      },
      "text/plain": [
       "  0%|          | 0/1 [00:00<?, ?it/s]"
      ]
     },
     "metadata": {},
     "output_type": "display_data"
    },
    {
     "name": "stdout",
     "output_type": "stream",
     "text": [
      "[PairOptimizer.optimize] curves_t SMT-7173/WETH-6Cc2\n",
      "[PairOptimizer.optimize] p_optimal OptimizerBase.SimpleResult(result=3.412385811295565e-05, method='bisection', errormsg=None, context_dct=None) full_result [ 2.57859938e-08 -8.81072992e-13]\n"
     ]
    },
    {
     "data": {
      "application/vnd.jupyter.widget-view+json": {
       "model_id": "dfaba746deda4d5a8e32a27225864be2",
       "version_major": 2,
       "version_minor": 0
      },
      "text/plain": [
       "0it [00:00, ?it/s]"
      ]
     },
     "metadata": {},
     "output_type": "display_data"
    },
    {
     "data": {
      "application/vnd.jupyter.widget-view+json": {
       "model_id": "62416820d3e84a15b1554715b4bf8b2b",
       "version_major": 2,
       "version_minor": 0
      },
      "text/plain": [
       "0it [00:00, ?it/s]"
      ]
     },
     "metadata": {},
     "output_type": "display_data"
    },
    {
     "data": {
      "application/vnd.jupyter.widget-view+json": {
       "model_id": "3d7ed74e0e254a1c9cc704d928d8999f",
       "version_major": 2,
       "version_minor": 0
      },
      "text/plain": [
       "  0%|          | 0/4 [00:00<?, ?it/s]"
      ]
     },
     "metadata": {},
     "output_type": "display_data"
    },
    {
     "name": "stdout",
     "output_type": "stream",
     "text": [
      "[PairOptimizer.optimize] curves_t PEPE-1933/WETH-6Cc2\n",
      "[PairOptimizer.optimize] p_optimal OptimizerBase.SimpleResult(result=8.149138379328678e-10, method='bisection', errormsg=None, context_dct=None) full_result [ 2.51562500e+00 -2.04818207e-09]\n",
      "[PairOptimizer.optimize] curves_t PEPE-1933/WETH-6Cc2\n",
      "[PairOptimizer.optimize] p_optimal OptimizerBase.SimpleResult(result=8.149138379327994e-10, method='bisection', errormsg=None, context_dct=None) full_result [ 3.55078125e+00 -2.89583113e-09]\n",
      "[PairOptimizer.optimize] curves_t PEPE-1933/WETH-6Cc2\n",
      "[PairOptimizer.optimize] p_optimal OptimizerBase.SimpleResult(result=8.107804985572999e-10, method='bisection', errormsg=None, context_dct=None) full_result [ 2.69775391e-02 -2.18278728e-11]\n",
      "[PairOptimizer.optimize] curves_t PEPE-1933/WETH-6Cc2\n",
      "[PairOptimizer.optimize] p_optimal OptimizerBase.SimpleResult(result=8.107804985574788e-10, method='bisection', errormsg=None, context_dct=None) full_result [-1.50756836e-02  1.22213351e-11]\n"
     ]
    },
    {
     "data": {
      "application/vnd.jupyter.widget-view+json": {
       "model_id": "21d68340631a45d5bb21585bf7d38443",
       "version_major": 2,
       "version_minor": 0
      },
      "text/plain": [
       "  0%|          | 0/3 [00:00<?, ?it/s]"
      ]
     },
     "metadata": {},
     "output_type": "display_data"
    },
    {
     "name": "stdout",
     "output_type": "stream",
     "text": [
      "[PairOptimizer.optimize] curves_t PEPE-1933/USDC-eB48\n",
      "[PairOptimizer.optimize] p_optimal OptimizerBase.SimpleResult(result=1.5362878225146734e-06, method='bisection', errormsg=None, context_dct=None) full_result [ 0.00651264 -0.00666746]\n",
      "[PairOptimizer.optimize] curves_t PEPE-1933/USDC-eB48\n",
      "[PairOptimizer.optimize] p_optimal OptimizerBase.SimpleResult(result=1.5360877772687104e-06, method='bisection', errormsg=None, context_dct=None) full_result [ 4.19616699e-03 -6.43194653e-09]\n",
      "[PairOptimizer.optimize] curves_t PEPE-1933/USDC-eB48\n",
      "[PairOptimizer.optimize] p_optimal OptimizerBase.SimpleResult(result=1.53608777726908e-06, method='bisection', errormsg=None, context_dct=None) full_result [-5.69152832e-03  8.74570105e-09]\n"
     ]
    },
    {
     "data": {
      "application/vnd.jupyter.widget-view+json": {
       "model_id": "f1723281c34243aa94e6cec2b8a78712",
       "version_major": 2,
       "version_minor": 0
      },
      "text/plain": [
       "  0%|          | 0/6 [00:00<?, ?it/s]"
      ]
     },
     "metadata": {},
     "output_type": "display_data"
    },
    {
     "name": "stdout",
     "output_type": "stream",
     "text": [
      "[PairOptimizer.optimize] curves_t SNX-2a6F/WETH-6Cc2\n",
      "[PairOptimizer.optimize] p_optimal OptimizerBase.SimpleResult(result=0.0010930027716636022, method='bisection', errormsg=None, context_dct=None) full_result [ 1.28871761e-07 -1.40971679e-10]\n",
      "[PairOptimizer.optimize] curves_t SNX-2a6F/WETH-6Cc2\n",
      "[PairOptimizer.optimize] p_optimal OptimizerBase.SimpleResult(result=0.0010930027716642321, method='bisection', errormsg=None, context_dct=None) full_result [-1.18860044e-07  1.29830369e-10]\n",
      "[PairOptimizer.optimize] curves_t SNX-2a6F/WETH-6Cc2\n",
      "[PairOptimizer.optimize] p_optimal OptimizerBase.SimpleResult(result=0.0010827174870951528, method='bisection', errormsg=None, context_dct=None) full_result [-6.58474164e-10  7.14095449e-13]\n",
      "[PairOptimizer.optimize] curves_t SNX-2a6F/WETH-6Cc2\n",
      "[PairOptimizer.optimize] p_optimal OptimizerBase.SimpleResult(result=0.0010827174870951424, method='bisection', errormsg=None, context_dct=None) full_result [-6.32098818e-10  6.84785562e-13]\n",
      "[PairOptimizer.optimize] curves_t SNX-2a6F/WETH-6Cc2\n",
      "[PairOptimizer.optimize] p_optimal OptimizerBase.SimpleResult(result=0.0010940339696130523, method='bisection', errormsg=None, context_dct=None) full_result [-1.79861672e-08  1.96678229e-11]\n",
      "[PairOptimizer.optimize] curves_t SNX-2a6F/WETH-6Cc2\n",
      "[PairOptimizer.optimize] p_optimal OptimizerBase.SimpleResult(result=0.0010940339696125217, method='bisection', errormsg=None, context_dct=None) full_result [ 5.73345460e-09 -6.28119778e-12]\n"
     ]
    },
    {
     "data": {
      "application/vnd.jupyter.widget-view+json": {
       "model_id": "2b5d02ae145540b59617b298daa5961f",
       "version_major": 2,
       "version_minor": 0
      },
      "text/plain": [
       "0it [00:00, ?it/s]"
      ]
     },
     "metadata": {},
     "output_type": "display_data"
    },
    {
     "data": {
      "application/vnd.jupyter.widget-view+json": {
       "model_id": "9c59800ab5d141838e5906f6930e9a8e",
       "version_major": 2,
       "version_minor": 0
      },
      "text/plain": [
       "0it [00:00, ?it/s]"
      ]
     },
     "metadata": {},
     "output_type": "display_data"
    },
    {
     "data": {
      "application/vnd.jupyter.widget-view+json": {
       "model_id": "b20cbf961de44ae3ae3723032acffa87",
       "version_major": 2,
       "version_minor": 0
      },
      "text/plain": [
       "0it [00:00, ?it/s]"
      ]
     },
     "metadata": {},
     "output_type": "display_data"
    },
    {
     "data": {
      "application/vnd.jupyter.widget-view+json": {
       "model_id": "4ff59b80a6eb4fcebd2b653c7d7ba869",
       "version_major": 2,
       "version_minor": 0
      },
      "text/plain": [
       "0it [00:00, ?it/s]"
      ]
     },
     "metadata": {},
     "output_type": "display_data"
    },
    {
     "data": {
      "application/vnd.jupyter.widget-view+json": {
       "model_id": "e257be9350524f8390d895f16053629b",
       "version_major": 2,
       "version_minor": 0
      },
      "text/plain": [
       "0it [00:00, ?it/s]"
      ]
     },
     "metadata": {},
     "output_type": "display_data"
    },
    {
     "data": {
      "application/vnd.jupyter.widget-view+json": {
       "model_id": "7d816b658277429aa22d5231411e5c74",
       "version_major": 2,
       "version_minor": 0
      },
      "text/plain": [
       "  0%|          | 0/1 [00:00<?, ?it/s]"
      ]
     },
     "metadata": {},
     "output_type": "display_data"
    },
    {
     "name": "stdout",
     "output_type": "stream",
     "text": [
      "[PairOptimizer.optimize] curves_t icETH-6A84/WETH-6Cc2\n",
      "[PairOptimizer.optimize] p_optimal OptimizerBase.SimpleResult(result=1.0625676226961724, method='bisection', errormsg=None, context_dct=None) full_result [-4.33828973e-10  4.60659066e-10]\n"
     ]
    }
   ],
   "source": [
    "arb_finder = bot._get_arb_finder(\"single\")\n",
    "finder = arb_finder(\n",
    "            flashloan_tokens=flashloan_tokens,\n",
    "            CCm=CCm,\n",
    "            mode=\"bothin\",\n",
    "            result=bot.AO_CANDIDATES,\n",
    "            ConfigObj=bot.ConfigObj,\n",
    "        )\n",
    "r = finder.find_arbitrage()\n",
    "multi_carbon_count = 0\n",
    "\n",
    "for arb in r:\n",
    "    (\n",
    "            best_profit,\n",
    "            best_trade_instructions_df,\n",
    "            best_trade_instructions_dic,\n",
    "            best_src_token,\n",
    "            best_trade_instructions,\n",
    "        ) = arb\n",
    "    if len(best_trade_instructions_dic) > 2:\n",
    "        multi_carbon_count += 1\n",
    "\n",
    "assert multi_carbon_count == 0, f\"[TestSingleMode] Expected arbs without multiple Carbon curves, but found {len(multi_carbon_count)}\""
   ]
  },
  {
   "cell_type": "code",
   "execution_count": null,
   "id": "cbd2e2fd",
   "metadata": {},
   "outputs": [],
   "source": []
  }
 ],
 "metadata": {
  "jupytext": {
   "formats": "ipynb,py:light"
  },
  "kernelspec": {
   "display_name": "Python 3",
   "language": "python",
   "name": "python3"
  },
  "language_info": {
   "codemirror_mode": {
    "name": "ipython",
    "version": 3
   },
   "file_extension": ".py",
   "mimetype": "text/x-python",
   "name": "python",
   "nbconvert_exporter": "python",
   "pygments_lexer": "ipython3",
   "version": "3.8.8"
  }
 },
 "nbformat": 4,
 "nbformat_minor": 5
}

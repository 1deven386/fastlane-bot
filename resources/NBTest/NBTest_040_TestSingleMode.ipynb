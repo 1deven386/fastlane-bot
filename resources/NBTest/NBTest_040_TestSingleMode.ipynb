{
 "cells": [
  {
   "cell_type": "code",
   "execution_count": 1,
   "id": "84fa264b",
   "metadata": {
    "ExecuteTime": {
     "end_time": "2023-09-18T18:18:48.736684Z",
     "start_time": "2023-09-18T18:18:48.703103Z"
    }
   },
   "outputs": [
    {
     "name": "stdout",
     "output_type": "stream",
     "text": [
      "ConstantProductCurve v3.2 (15/Sep/2023)\n",
      "CarbonBot v3-b2.2 (20/June/2023)\n",
      "UniswapV2 v0.0.2 (2023-08-27)\n",
      "UniswapV3 v0.0.2 (2023-08-27)\n",
      "SushiswapV2 v0.0.2 (2023-08-27)\n",
      "CarbonV1 v0.0.2 (2023-08-27)\n",
      "BancorV3 v0.0.2 (2023-08-27)\n",
      "imported m, np, pd, plt, os, sys, decimal; defined iseq, raises, require\n",
      "Version = 3-b2.2 [requirements >= 3.0 is met]\n"
     ]
    }
   ],
   "source": [
    "# coding=utf-8\n",
    "\"\"\"\n",
    "This module contains the tests for the exchanges classes\n",
    "\"\"\"\n",
    "from fastlane_bot import Bot, Config\n",
    "from fastlane_bot.bot import CarbonBot\n",
    "from fastlane_bot.tools.cpc import ConstantProductCurve\n",
    "from fastlane_bot.tools.cpc import ConstantProductCurve as CPC\n",
    "from fastlane_bot.events.exchanges import UniswapV2, UniswapV3, SushiswapV2, CarbonV1, BancorV3\n",
    "from fastlane_bot.events.interface import QueryInterface\n",
    "from fastlane_bot.helpers.poolandtokens import PoolAndTokens\n",
    "from fastlane_bot.helpers import TradeInstruction, TxReceiptHandler, TxRouteHandler, TxSubmitHandler, TxHelpers, TxHelper\n",
    "from fastlane_bot.events.managers.manager import Manager\n",
    "from fastlane_bot.events.interface import QueryInterface\n",
    "from joblib import Parallel, delayed\n",
    "import pytest\n",
    "import math\n",
    "import json\n",
    "print(\"{0.__name__} v{0.__VERSION__} ({0.__DATE__})\".format(CPC))\n",
    "print(\"{0.__name__} v{0.__VERSION__} ({0.__DATE__})\".format(Bot))\n",
    "print(\"{0.__name__} v{0.__VERSION__} ({0.__DATE__})\".format(UniswapV2))\n",
    "print(\"{0.__name__} v{0.__VERSION__} ({0.__DATE__})\".format(UniswapV3))\n",
    "print(\"{0.__name__} v{0.__VERSION__} ({0.__DATE__})\".format(SushiswapV2))\n",
    "print(\"{0.__name__} v{0.__VERSION__} ({0.__DATE__})\".format(CarbonV1))\n",
    "print(\"{0.__name__} v{0.__VERSION__} ({0.__DATE__})\".format(BancorV3))\n",
    "from fastlane_bot.testing import *\n",
    "from fastlane_bot.modes import triangle_single_bancor3\n",
    "#plt.style.use('seaborn-dark')\n",
    "plt.rcParams['figure.figsize'] = [12,6]\n",
    "from fastlane_bot import __VERSION__\n",
    "require(\"3.0\", __VERSION__)"
   ]
  },
  {
   "cell_type": "markdown",
   "id": "4c4e2283",
   "metadata": {},
   "source": [
    "# Single Mode [NB038]"
   ]
  },
  {
   "cell_type": "code",
   "execution_count": 2,
   "id": "a51e5ec2",
   "metadata": {
    "ExecuteTime": {
     "end_time": "2023-09-18T18:18:51.415985Z",
     "start_time": "2023-09-18T18:18:48.713252Z"
    }
   },
   "outputs": [
    {
     "name": "stderr",
     "output_type": "stream",
     "text": [
      "2023-09-20 18:21:44,358 [fastlane:INFO] - \n",
      "2023-09-20 18:21:44,358 [fastlane:INFO] - **********************************************\n",
      "2023-09-20 18:21:44,359 [fastlane:INFO] - The logging path is set to: logs/20230920-182144/bot.log\n",
      "2023-09-20 18:21:44,359 [fastlane:INFO] - **********************************************\n",
      "2023-09-20 18:21:44,360 [fastlane:INFO] - \n",
      "2023-09-20 18:21:46,318 [fastlane:INFO] - Retrieved 169 carbon pairs from contract\n",
      "2023-09-20 18:21:47,526 [fastlane:INFO] - Time taken to add initial pools: 0.1376359462738037\n",
      "2023-09-20 18:21:47,530 [fastlane:INFO] - Initializing the bot...\n",
      "2023-09-20 18:21:47,737 [fastlane:INFO] - Removed 3242 unmapped uniswap_v2/sushi pools. 1897 uniswap_v2/sushi pools remaining\n",
      "2023-09-20 18:21:47,737 [fastlane:INFO] - Unmapped uniswap_v2/sushi pools:\n",
      "2023-09-20 18:21:48,018 [fastlane:INFO] - uniswap_v3: 0\n",
      "2023-09-20 18:21:48,019 [fastlane:INFO] - uniswap_v2: 3242\n",
      "2023-09-20 18:21:48,019 [fastlane:INFO] - sushiswap_v2: 0\n",
      "2023-09-20 18:21:48,021 [fastlane:INFO] - uniswap_v3: 636\n",
      "2023-09-20 18:21:48,021 [fastlane:INFO] - sushiswap_v2: 78\n",
      "2023-09-20 18:21:48,022 [fastlane:INFO] - uniswap_v2: 0\n",
      "2023-09-20 18:21:48,022 [fastlane:INFO] - bancor_v2: 0\n",
      "2023-09-20 18:21:48,022 [fastlane:INFO] - bancor_v3: 34\n",
      "2023-09-20 18:21:48,023 [fastlane:INFO] - carbon_v1: 220\n",
      "2023-09-20 18:21:48,068 [fastlane:INFO] - uniswap_v3_zero_liquidity_pools: 858\n",
      "2023-09-20 18:21:48,068 [fastlane:INFO] - sushiswap_v2_zero_liquidity_pools: 34\n",
      "2023-09-20 18:21:48,069 [fastlane:INFO] - uniswap_v2_zero_liquidity_pools: 0\n",
      "2023-09-20 18:21:48,069 [fastlane:INFO] - bancor_v2_zero_liquidity_pools: 0\n",
      "2023-09-20 18:21:48,070 [fastlane:INFO] - bancor_v3_zero_liquidity_pools: 37\n",
      "2023-09-20 18:21:48,070 [fastlane:INFO] - carbon_v1_zero_liquidity_pools: 0\n",
      "2023-09-20 18:21:48,071 [fastlane:INFO] - Removed 0 unsupported exchanges. 968 pools remaining\n",
      "2023-09-20 18:21:48,071 [fastlane:INFO] - Pools remaining per exchange:\n",
      "2023-09-20 18:21:48,072 [fastlane:INFO] - bancor_v3: 34\n",
      "2023-09-20 18:21:48,072 [fastlane:INFO] - uniswap_v3: 636\n",
      "2023-09-20 18:21:48,073 [fastlane:INFO] - uniswap_v2: 0\n",
      "2023-09-20 18:21:48,073 [fastlane:INFO] - sushiswap_v2: 78\n",
      "2023-09-20 18:21:48,074 [fastlane:INFO] - carbon_v1: 220\n"
     ]
    }
   ],
   "source": [
    "C = cfg = Config.new(config=Config.CONFIG_MAINNET)\n",
    "C.DEFAULT_MIN_PROFIT_BNT = 0.02\n",
    "C.DEFAULT_MIN_PROFIT = 0.02\n",
    "cfg.DEFAULT_MIN_PROFIT_BNT = 0.02\n",
    "cfg.DEFAULT_MIN_PROFIT = 0.02\n",
    "assert (C.NETWORK == C.NETWORK_MAINNET)\n",
    "assert (C.PROVIDER == C.PROVIDER_ALCHEMY)\n",
    "setup_bot = CarbonBot(ConfigObj=C)\n",
    "pools = None\n",
    "with open('fastlane_bot/data/tests/latest_pool_data_testing.json') as f:\n",
    "    pools = json.load(f)\n",
    "pools = [pool for pool in pools]\n",
    "pools[0]\n",
    "static_pools = pools\n",
    "state = pools\n",
    "exchanges = list({ex['exchange_name'] for ex in state})\n",
    "db = QueryInterface(state=state, ConfigObj=C, exchanges=exchanges)\n",
    "setup_bot.db = db\n",
    "\n",
    "static_pool_data_filename = \"static_pool_data\"\n",
    "\n",
    "static_pool_data = pd.read_csv(f\"fastlane_bot/data/{static_pool_data_filename}.csv\", low_memory=False)\n",
    "    \n",
    "uniswap_v2_event_mappings = pd.read_csv(\"fastlane_bot/data/uniswap_v2_event_mappings.csv\", low_memory=False)\n",
    "        \n",
    "tokens = pd.read_csv(\"fastlane_bot/data/tokens.csv\", low_memory=False)\n",
    "        \n",
    "exchanges = \"carbon_v1,bancor_v3,uniswap_v3,uniswap_v2,sushiswap_v2\"\n",
    "\n",
    "exchanges = exchanges.split(\",\")\n",
    "\n",
    "\n",
    "alchemy_max_block_fetch = 20\n",
    "static_pool_data[\"cid\"] = [\n",
    "        cfg.w3.keccak(text=f\"{row['descr']}\").hex()\n",
    "        for index, row in static_pool_data.iterrows()\n",
    "    ]\n",
    "# Filter out pools that are not in the supported exchanges\n",
    "static_pool_data = [\n",
    "    row for index, row in static_pool_data.iterrows()\n",
    "    if row[\"exchange_name\"] in exchanges\n",
    "]\n",
    "\n",
    "static_pool_data = pd.DataFrame(static_pool_data)\n",
    "static_pool_data['exchange_name'].unique()\n",
    "# Initialize data fetch manager\n",
    "mgr = Manager(\n",
    "    web3=cfg.w3,\n",
    "    cfg=cfg,\n",
    "    pool_data=static_pool_data.to_dict(orient=\"records\"),\n",
    "    SUPPORTED_EXCHANGES=exchanges,\n",
    "    alchemy_max_block_fetch=alchemy_max_block_fetch,\n",
    "    uniswap_v2_event_mappings=uniswap_v2_event_mappings,\n",
    "    tokens=tokens.to_dict(orient=\"records\"),\n",
    ")\n",
    "\n",
    "# Add initial pools for each row in the static_pool_data\n",
    "start_time = time.time()\n",
    "Parallel(n_jobs=-1, backend=\"threading\")(\n",
    "    delayed(mgr.add_pool_to_exchange)(row) for row in mgr.pool_data\n",
    ")\n",
    "cfg.logger.info(f\"Time taken to add initial pools: {time.time() - start_time}\")\n",
    "\n",
    "# check if any duplicate cid's exist in the pool data\n",
    "mgr.deduplicate_pool_data()\n",
    "cids = [pool[\"cid\"] for pool in mgr.pool_data]\n",
    "assert len(cids) == len(set(cids)), \"duplicate cid's exist in the pool data\"\n",
    "def init_bot(mgr: Manager) -> CarbonBot:\n",
    "    \"\"\"\n",
    "    Initializes the bot.\n",
    "\n",
    "    Parameters\n",
    "    ----------\n",
    "    mgr : Manager\n",
    "        The manager object.\n",
    "\n",
    "    Returns\n",
    "    -------\n",
    "    CarbonBot\n",
    "        The bot object.\n",
    "    \"\"\"\n",
    "    mgr.cfg.logger.info(\"Initializing the bot...\")\n",
    "    bot = CarbonBot(ConfigObj=mgr.cfg)\n",
    "    bot.db = db\n",
    "    bot.db.mgr = mgr\n",
    "    assert isinstance(\n",
    "        bot.db, QueryInterface\n",
    "    ), \"QueryInterface not initialized correctly\"\n",
    "    return bot\n",
    "bot = init_bot(mgr)\n",
    "# add data cleanup steps from main.py\n",
    "bot.db.handle_token_key_cleanup()\n",
    "bot.db.remove_unmapped_uniswap_v2_pools()\n",
    "bot.db.remove_zero_liquidity_pools()\n",
    "bot.db.remove_unsupported_exchanges()\n",
    "tokens = bot.db.get_tokens()\n",
    "ADDRDEC = {t.key: (t.address, int(t.decimals)) for t in tokens if not math.isnan(t.decimals)}\n",
    "flashloan_tokens = bot.setup_flashloan_tokens(None)\n",
    "CCm = bot.setup_CCm(None)\n",
    "pools = db.get_pool_data_with_tokens()\n",
    "\n",
    "arb_mode = \"single\""
   ]
  },
  {
   "cell_type": "code",
   "execution_count": 3,
   "id": "71b83fef",
   "metadata": {
    "ExecuteTime": {
     "end_time": "2023-09-18T18:18:51.419388Z",
     "start_time": "2023-09-18T18:18:51.417290Z"
    }
   },
   "outputs": [],
   "source": [
    "assert(cfg.DEFAULT_MIN_PROFIT_BNT <= 0.02), f\"[TestSingleMode], DEFAULT_MIN_PROFIT_BNT must be <= 0.02 for this Notebook to run, currently set to {cfg.DEFAULT_MIN_PROFIT_BNT}\"\n",
    "assert(C.DEFAULT_MIN_PROFIT_BNT <= 0.02), f\"[TestSingleMode], DEFAULT_MIN_PROFIT_BNT must be <= 0.02 for this Notebook to run, currently set to {cfg.DEFAULT_MIN_PROFIT_BNT}\""
   ]
  },
  {
   "cell_type": "code",
   "execution_count": null,
   "id": "f729b8dd",
   "metadata": {
    "ExecuteTime": {
     "end_time": "2023-09-18T18:18:51.422311Z",
     "start_time": "2023-09-18T18:18:51.419690Z"
    }
   },
   "outputs": [],
   "source": []
  },
  {
   "cell_type": "markdown",
   "id": "d1c95bad",
   "metadata": {},
   "source": [
    "## Test_arb_mode_class"
   ]
  },
  {
   "cell_type": "code",
   "execution_count": 4,
   "id": "aaaf7423",
   "metadata": {
    "ExecuteTime": {
     "end_time": "2023-09-18T18:18:51.425463Z",
     "start_time": "2023-09-18T18:18:51.421849Z"
    }
   },
   "outputs": [],
   "source": [
    "arb_finder = bot._get_arb_finder(\"single\")\n",
    "assert arb_finder.__name__ == \"FindArbitrageSinglePairwise\", f\"[TestSingleMode] Expected arb_finder class name name = FindArbitrageSinglePairwise, found {arb_finder.__name__}\""
   ]
  },
  {
   "cell_type": "markdown",
   "id": "d19e14ac",
   "metadata": {},
   "source": [
    "## Test_tokens_and_combos"
   ]
  },
  {
   "cell_type": "code",
   "execution_count": 5,
   "id": "b1f40498",
   "metadata": {
    "ExecuteTime": {
     "end_time": "2023-09-18T18:18:51.428260Z",
     "start_time": "2023-09-18T18:18:51.423970Z"
    }
   },
   "outputs": [],
   "source": [
    "arb_finder = bot._get_arb_finder(\"single\")\n",
    "finder2 = arb_finder(\n",
    "            flashloan_tokens=flashloan_tokens,\n",
    "            CCm=CCm,\n",
    "            mode=\"bothin\",\n",
    "            result=bot.AO_TOKENS,\n",
    "            ConfigObj=bot.ConfigObj,\n",
    "        )\n",
    "all_tokens, combos = finder2.find_arbitrage()\n",
    "assert len(all_tokens) == 545, f\"[TestMultiMode] Using wrong dataset, expected 545 tokens, found {len(all_tokens)}\"\n",
    "assert len(combos) == 3264, f\"[TestMultiMode] Using wrong dataset, expected 3264 tokens, found {len(combos)}\""
   ]
  },
  {
   "cell_type": "markdown",
   "id": "e703ba6b",
   "metadata": {},
   "source": [
    "### Test_Single_Arb_Finder_vs_run"
   ]
  },
  {
   "cell_type": "code",
   "execution_count": 6,
   "id": "48e2f5a1",
   "metadata": {
    "ExecuteTime": {
     "end_time": "2023-09-18T18:18:57.580253Z",
     "start_time": "2023-09-18T18:18:51.431388Z"
    }
   },
   "outputs": [
    {
     "data": {
      "application/vnd.jupyter.widget-view+json": {
       "model_id": "9ee95b8b444a45edbdb23bdab79fc1f2",
       "version_major": 2,
       "version_minor": 0
      },
      "text/plain": [
       "0it [00:00, ?it/s]"
      ]
     },
     "metadata": {},
     "output_type": "display_data"
    },
    {
     "data": {
      "application/vnd.jupyter.widget-view+json": {
       "model_id": "82073ed9b8ce4832946210bf18bcc56d",
       "version_major": 2,
       "version_minor": 0
      },
      "text/plain": [
       "0it [00:00, ?it/s]"
      ]
     },
     "metadata": {},
     "output_type": "display_data"
    },
    {
     "data": {
      "application/vnd.jupyter.widget-view+json": {
       "model_id": "082ec68b2d4e49299f7f50cc3b106c06",
       "version_major": 2,
       "version_minor": 0
      },
      "text/plain": [
       "0it [00:00, ?it/s]"
      ]
     },
     "metadata": {},
     "output_type": "display_data"
    },
    {
     "data": {
      "application/vnd.jupyter.widget-view+json": {
       "model_id": "5617fcce0b6e46cabff466518fa72180",
       "version_major": 2,
       "version_minor": 0
      },
      "text/plain": [
       "0it [00:00, ?it/s]"
      ]
     },
     "metadata": {},
     "output_type": "display_data"
    },
    {
     "data": {
      "application/vnd.jupyter.widget-view+json": {
       "model_id": "08932b950f874195a776a24af150e82d",
       "version_major": 2,
       "version_minor": 0
      },
      "text/plain": [
       "0it [00:00, ?it/s]"
      ]
     },
     "metadata": {},
     "output_type": "display_data"
    },
    {
     "data": {
      "application/vnd.jupyter.widget-view+json": {
       "model_id": "79eea54b3d84467c8737ad48b02c5b44",
       "version_major": 2,
       "version_minor": 0
      },
      "text/plain": [
       "0it [00:00, ?it/s]"
      ]
     },
     "metadata": {},
     "output_type": "display_data"
    },
    {
     "data": {
      "application/vnd.jupyter.widget-view+json": {
       "model_id": "2fcf073ba26b4c50b0291eb553608807",
       "version_major": 2,
       "version_minor": 0
      },
      "text/plain": [
       "0it [00:00, ?it/s]"
      ]
     },
     "metadata": {},
     "output_type": "display_data"
    },
    {
     "data": {
      "application/vnd.jupyter.widget-view+json": {
       "model_id": "b7ef70fc5e50429b8eceb8d6500ccf3b",
       "version_major": 2,
       "version_minor": 0
      },
      "text/plain": [
       "0it [00:00, ?it/s]"
      ]
     },
     "metadata": {},
     "output_type": "display_data"
    },
    {
     "data": {
      "application/vnd.jupyter.widget-view+json": {
       "model_id": "616acb7cb8f44494ad6624217ddb318a",
       "version_major": 2,
       "version_minor": 0
      },
      "text/plain": [
       "0it [00:00, ?it/s]"
      ]
     },
     "metadata": {},
     "output_type": "display_data"
    },
    {
     "data": {
      "application/vnd.jupyter.widget-view+json": {
       "model_id": "2ef9ccf25a8c408ca710c58aedcee26c",
       "version_major": 2,
       "version_minor": 0
      },
      "text/plain": [
       "0it [00:00, ?it/s]"
      ]
     },
     "metadata": {},
     "output_type": "display_data"
    },
    {
     "data": {
      "application/vnd.jupyter.widget-view+json": {
       "model_id": "9d60a09e4f7142e6b9b01218a937e38f",
       "version_major": 2,
       "version_minor": 0
      },
      "text/plain": [
       "  0%|          | 0/2 [00:00<?, ?it/s]"
      ]
     },
     "metadata": {},
     "output_type": "display_data"
    },
    {
     "name": "stdout",
     "output_type": "stream",
     "text": [
      "[PairOptimizer.optimize] curves_t wstETH-2Ca0/USDC-eB48\n",
      "[PairOptimizer.optimize] p_optimal OptimizerBase.SimpleResult(result=2132.8228517299513, method='bisection', errormsg=None, context_dct=None) full_result [ 1.12692078e-11 -2.40397640e-08]\n",
      "[PairOptimizer.optimize] curves_t wstETH-2Ca0/USDC-eB48\n",
      "[PairOptimizer.optimize] p_optimal OptimizerBase.SimpleResult(result=2132.8228517296384, method='bisection', errormsg=None, context_dct=None) full_result [ 1.99236183e-11 -4.24915925e-08]\n"
     ]
    },
    {
     "data": {
      "application/vnd.jupyter.widget-view+json": {
       "model_id": "5d4f95e647e14c59ab35e2d696e41b56",
       "version_major": 2,
       "version_minor": 0
      },
      "text/plain": [
       "0it [00:00, ?it/s]"
      ]
     },
     "metadata": {},
     "output_type": "display_data"
    },
    {
     "data": {
      "application/vnd.jupyter.widget-view+json": {
       "model_id": "b74dcd2d5343439ab5d5f6c78eec0945",
       "version_major": 2,
       "version_minor": 0
      },
      "text/plain": [
       "  0%|          | 0/2 [00:00<?, ?it/s]"
      ]
     },
     "metadata": {},
     "output_type": "display_data"
    },
    {
     "name": "stdout",
     "output_type": "stream",
     "text": [
      "[PairOptimizer.optimize] curves_t HEX-eb39/WETH-6Cc2\n",
      "[PairOptimizer.optimize] p_optimal OptimizerBase.SimpleResult(result=4.639072734871654e-06, method='bisection', errormsg=None, context_dct=None) full_result [ 6.18013860e-06 -1.40883161e-03]\n",
      "[PairOptimizer.optimize] curves_t HEX-eb39/WETH-6Cc2\n",
      "[PairOptimizer.optimize] p_optimal OptimizerBase.SimpleResult(result=4.617372379227854e-06, method='bisection', errormsg=None, context_dct=None) full_result [-3.09833574e-05 -1.42138817e-03]\n"
     ]
    },
    {
     "data": {
      "application/vnd.jupyter.widget-view+json": {
       "model_id": "94d8b632c5f14fb0b8121242e85a259d",
       "version_major": 2,
       "version_minor": 0
      },
      "text/plain": [
       "0it [00:00, ?it/s]"
      ]
     },
     "metadata": {},
     "output_type": "display_data"
    },
    {
     "data": {
      "application/vnd.jupyter.widget-view+json": {
       "model_id": "544edf10eedc4a2fb7fe2422e61bb1c1",
       "version_major": 2,
       "version_minor": 0
      },
      "text/plain": [
       "  0%|          | 0/2 [00:00<?, ?it/s]"
      ]
     },
     "metadata": {},
     "output_type": "display_data"
    },
    {
     "name": "stdout",
     "output_type": "stream",
     "text": [
      "[PairOptimizer.optimize] curves_t LYXe-be6D/WETH-6Cc2\n",
      "[PairOptimizer.optimize] p_optimal OptimizerBase.SimpleResult(result=0.004425455338543597, method='bisection', errormsg=None, context_dct=None) full_result [-6.97036739e-09  3.08659764e-11]\n",
      "[PairOptimizer.optimize] curves_t LYXe-be6D/WETH-6Cc2\n",
      "[PairOptimizer.optimize] p_optimal OptimizerBase.SimpleResult(result=0.004418792395805483, method='bisection', errormsg=None, context_dct=None) full_result [ 1.22963684e-09 -5.43565193e-12]\n"
     ]
    },
    {
     "data": {
      "application/vnd.jupyter.widget-view+json": {
       "model_id": "1ac5f03d25b24292bf6184c531a54b26",
       "version_major": 2,
       "version_minor": 0
      },
      "text/plain": [
       "0it [00:00, ?it/s]"
      ]
     },
     "metadata": {},
     "output_type": "display_data"
    },
    {
     "data": {
      "application/vnd.jupyter.widget-view+json": {
       "model_id": "93916a6da0a4428ab530f3c2aa16e762",
       "version_major": 2,
       "version_minor": 0
      },
      "text/plain": [
       "  0%|          | 0/4 [00:00<?, ?it/s]"
      ]
     },
     "metadata": {},
     "output_type": "display_data"
    },
    {
     "name": "stdout",
     "output_type": "stream",
     "text": [
      "[PairOptimizer.optimize] curves_t agEUR-Bce8/USDC-eB48\n",
      "[PairOptimizer.optimize] p_optimal OptimizerBase.SimpleResult(result=1.1012586819934904, method='bisection', errormsg=None, context_dct=None) full_result [ 2.15768814e-05 -2.37524509e-05]\n",
      "[PairOptimizer.optimize] curves_t agEUR-Bce8/USDC-eB48\n",
      "[PairOptimizer.optimize] p_optimal OptimizerBase.SimpleResult(result=1.1012068414304432, method='bisection', errormsg=None, context_dct=None) full_result [-1.07367523e-05 -1.18744592e+01]\n",
      "[PairOptimizer.optimize] curves_t agEUR-Bce8/USDC-eB48\n",
      "[PairOptimizer.optimize] p_optimal OptimizerBase.SimpleResult(result=1.0977629060275782, method='bisection', errormsg=None, context_dct=None) full_result [ 1.81025825e-08 -1.99652277e-08]\n",
      "[PairOptimizer.optimize] curves_t agEUR-Bce8/USDC-eB48\n",
      "[PairOptimizer.optimize] p_optimal OptimizerBase.SimpleResult(result=1.0954248748364375, method='bisection', errormsg=None, context_dct=None) full_result [-5.43659553e-08 -2.33145547e-01]\n"
     ]
    },
    {
     "data": {
      "application/vnd.jupyter.widget-view+json": {
       "model_id": "291151e2ee9d441ea929586646168d3a",
       "version_major": 2,
       "version_minor": 0
      },
      "text/plain": [
       "0it [00:00, ?it/s]"
      ]
     },
     "metadata": {},
     "output_type": "display_data"
    },
    {
     "data": {
      "application/vnd.jupyter.widget-view+json": {
       "model_id": "c9194fb8aefe4877a8164f024873e73b",
       "version_major": 2,
       "version_minor": 0
      },
      "text/plain": [
       "  0%|          | 0/6 [00:00<?, ?it/s]"
      ]
     },
     "metadata": {},
     "output_type": "display_data"
    },
    {
     "name": "stdout",
     "output_type": "stream",
     "text": [
      "[PairOptimizer.optimize] curves_t SNX-2a6F/WETH-6Cc2\n",
      "[PairOptimizer.optimize] p_optimal OptimizerBase.SimpleResult(result=0.0010930027716636022, method='bisection', errormsg=None, context_dct=None) full_result [ 1.28871761e-07 -1.40971679e-10]\n",
      "[PairOptimizer.optimize] curves_t SNX-2a6F/WETH-6Cc2\n",
      "[PairOptimizer.optimize] p_optimal OptimizerBase.SimpleResult(result=0.0010930027716642321, method='bisection', errormsg=None, context_dct=None) full_result [-1.18860044e-07  1.29830369e-10]\n",
      "[PairOptimizer.optimize] curves_t SNX-2a6F/WETH-6Cc2\n",
      "[PairOptimizer.optimize] p_optimal OptimizerBase.SimpleResult(result=0.0010827174870951528, method='bisection', errormsg=None, context_dct=None) full_result [-6.58474164e-10  7.14095449e-13]\n",
      "[PairOptimizer.optimize] curves_t SNX-2a6F/WETH-6Cc2\n",
      "[PairOptimizer.optimize] p_optimal OptimizerBase.SimpleResult(result=0.0010827174870951424, method='bisection', errormsg=None, context_dct=None) full_result [-6.32098818e-10  6.84785562e-13]\n",
      "[PairOptimizer.optimize] curves_t SNX-2a6F/WETH-6Cc2\n",
      "[PairOptimizer.optimize] p_optimal OptimizerBase.SimpleResult(result=0.0010940339696130523, method='bisection', errormsg=None, context_dct=None) full_result [-1.79861672e-08  1.96678229e-11]\n",
      "[PairOptimizer.optimize] curves_t SNX-2a6F/WETH-6Cc2\n",
      "[PairOptimizer.optimize] p_optimal OptimizerBase.SimpleResult(result=0.0010940339696125217, method='bisection', errormsg=None, context_dct=None) full_result [ 5.73345460e-09 -6.28119778e-12]\n"
     ]
    },
    {
     "data": {
      "application/vnd.jupyter.widget-view+json": {
       "model_id": "f589a36fbe934df681b735b0cb4a8b81",
       "version_major": 2,
       "version_minor": 0
      },
      "text/plain": [
       "0it [00:00, ?it/s]"
      ]
     },
     "metadata": {},
     "output_type": "display_data"
    },
    {
     "data": {
      "application/vnd.jupyter.widget-view+json": {
       "model_id": "d6df8da9336d4a5ebdf292599d2f7976",
       "version_major": 2,
       "version_minor": 0
      },
      "text/plain": [
       "0it [00:00, ?it/s]"
      ]
     },
     "metadata": {},
     "output_type": "display_data"
    },
    {
     "data": {
      "application/vnd.jupyter.widget-view+json": {
       "model_id": "dacef8e22aa8490a8995d76da045227d",
       "version_major": 2,
       "version_minor": 0
      },
      "text/plain": [
       "0it [00:00, ?it/s]"
      ]
     },
     "metadata": {},
     "output_type": "display_data"
    },
    {
     "data": {
      "application/vnd.jupyter.widget-view+json": {
       "model_id": "988c0dde937e45c6bc2fd90023270f1c",
       "version_major": 2,
       "version_minor": 0
      },
      "text/plain": [
       "0it [00:00, ?it/s]"
      ]
     },
     "metadata": {},
     "output_type": "display_data"
    },
    {
     "data": {
      "application/vnd.jupyter.widget-view+json": {
       "model_id": "bd8c80f3a84241e7826a0f60f37a9df1",
       "version_major": 2,
       "version_minor": 0
      },
      "text/plain": [
       "0it [00:00, ?it/s]"
      ]
     },
     "metadata": {},
     "output_type": "display_data"
    },
    {
     "data": {
      "application/vnd.jupyter.widget-view+json": {
       "model_id": "6fcd7e0fb65747caad6e4696581191de",
       "version_major": 2,
       "version_minor": 0
      },
      "text/plain": [
       "  0%|          | 0/2 [00:00<?, ?it/s]"
      ]
     },
     "metadata": {},
     "output_type": "display_data"
    },
    {
     "name": "stdout",
     "output_type": "stream",
     "text": [
      "[PairOptimizer.optimize] curves_t SGT-EcDD/WETH-6Cc2\n",
      "[PairOptimizer.optimize] p_optimal OptimizerBase.SimpleResult(result=0.00022209613284442402, method='bisection', errormsg=None, context_dct=None) full_result [ 4.06289473e-08 -9.00968189e-12]\n",
      "[PairOptimizer.optimize] curves_t SGT-EcDD/WETH-6Cc2\n",
      "[PairOptimizer.optimize] p_optimal OptimizerBase.SimpleResult(result=0.00021922396426222578, method='bisection', errormsg=None, context_dct=None) full_result [ 1.04773790e-09 -2.30926389e-13]\n"
     ]
    },
    {
     "data": {
      "application/vnd.jupyter.widget-view+json": {
       "model_id": "6f9eded0c77a497094e65da77dcb9bbc",
       "version_major": 2,
       "version_minor": 0
      },
      "text/plain": [
       "  0%|          | 0/16 [00:00<?, ?it/s]"
      ]
     },
     "metadata": {},
     "output_type": "display_data"
    },
    {
     "name": "stdout",
     "output_type": "stream",
     "text": [
      "[PairOptimizer.optimize] curves_t WBTC-C599/WETH-6Cc2\n",
      "[PairOptimizer.optimize] p_optimal OptimizerBase.SimpleResult(result=16.25127735725492, method='bisection', errormsg=None, context_dct=None) full_result [-2.74303602e-09  4.45870683e-08]\n",
      "[PairOptimizer.optimize] curves_t WBTC-C599/WETH-6Cc2\n",
      "[PairOptimizer.optimize] p_optimal OptimizerBase.SimpleResult(result=16.251277357233576, method='bisection', errormsg=None, context_dct=None) full_result [-1.81454762e-09  2.64954920e-08]\n",
      "[PairOptimizer.optimize] curves_t WBTC-C599/WETH-6Cc2\n",
      "[PairOptimizer.optimize] p_optimal OptimizerBase.SimpleResult(result=16.25127735724241, method='bisection', errormsg=None, context_dct=None) full_result [ 3.66344466e-09 -5.94882295e-08]\n",
      "[PairOptimizer.optimize] curves_t WBTC-C599/WETH-6Cc2\n",
      "[PairOptimizer.optimize] p_optimal OptimizerBase.SimpleResult(result=16.25127735725219, method='bisection', errormsg=None, context_dct=None) full_result [-1.34605216e-09  2.18860805e-08]\n",
      "[PairOptimizer.optimize] curves_t WBTC-C599/WETH-6Cc2\n",
      "[PairOptimizer.optimize] p_optimal OptimizerBase.SimpleResult(result=16.251277357247133, method='bisection', errormsg=None, context_dct=None) full_result [ 1.24418875e-09 -2.01980583e-08]\n",
      "[PairOptimizer.optimize] curves_t WBTC-C599/WETH-6Cc2\n",
      "[PairOptimizer.optimize] p_optimal OptimizerBase.SimpleResult(result=16.251277357247766, method='bisection', errormsg=None, context_dct=None) full_result [ 9.20408638e-10 -1.49593689e-08]\n",
      "[PairOptimizer.optimize] curves_t WBTC-C599/WETH-6Cc2\n",
      "[PairOptimizer.optimize] p_optimal OptimizerBase.SimpleResult(result=16.25127564699462, method='bisection', errormsg=None, context_dct=None) full_result [ 7.75202125e-11 -5.60414833e-07]\n",
      "[PairOptimizer.optimize] curves_t WBTC-C599/WETH-6Cc2\n",
      "[PairOptimizer.optimize] p_optimal OptimizerBase.SimpleResult(result=16.25127735724613, method='bisection', errormsg=None, context_dct=None) full_result [ 1.75714376e-09 -2.85217538e-08]\n",
      "[PairOptimizer.optimize] curves_t WBTC-C599/WETH-6Cc2\n",
      "[PairOptimizer.optimize] p_optimal OptimizerBase.SimpleResult(result=16.262500335191948, method='bisection', errormsg=None, context_dct=None) full_result [-7.50151230e-09  1.22003257e-07]\n",
      "[PairOptimizer.optimize] curves_t WBTC-C599/WETH-6Cc2\n",
      "[PairOptimizer.optimize] p_optimal OptimizerBase.SimpleResult(result=16.262500335181386, method='bisection', errormsg=None, context_dct=None) full_result [-4.99414110e-09  7.80092719e-08]\n",
      "[PairOptimizer.optimize] curves_t WBTC-C599/WETH-6Cc2\n",
      "[PairOptimizer.optimize] p_optimal OptimizerBase.SimpleResult(result=16.262500335186033, method='bisection', errormsg=None, context_dct=None) full_result [-4.94765118e-10  7.91624188e-09]\n",
      "[PairOptimizer.optimize] curves_t WBTC-C599/WETH-6Cc2\n",
      "[PairOptimizer.optimize] p_optimal OptimizerBase.SimpleResult(result=16.26250033519087, method='bisection', errormsg=None, context_dct=None) full_result [-6.22821972e-09  1.01281330e-07]\n",
      "[PairOptimizer.optimize] curves_t WBTC-C599/WETH-6Cc2\n",
      "[PairOptimizer.optimize] p_optimal OptimizerBase.SimpleResult(result=16.262500335190833, method='bisection', errormsg=None, context_dct=None) full_result [-6.17728801e-09  1.00466423e-07]\n",
      "[PairOptimizer.optimize] curves_t WBTC-C599/WETH-6Cc2\n",
      "[PairOptimizer.optimize] p_optimal OptimizerBase.SimpleResult(result=16.262500335185337, method='bisection', errormsg=None, context_dct=None) full_result [ 3.34694050e-10 -5.47152013e-09]\n",
      "[PairOptimizer.optimize] curves_t WBTC-C599/WETH-6Cc2\n",
      "[PairOptimizer.optimize] p_optimal OptimizerBase.SimpleResult(result=16.26249310391707, method='bisection', errormsg=None, context_dct=None) full_result [ 3.98554079e-09 -5.36410068e-05]\n",
      "[PairOptimizer.optimize] curves_t WBTC-C599/WETH-6Cc2\n",
      "[PairOptimizer.optimize] p_optimal OptimizerBase.SimpleResult(result=16.262500335189472, method='bisection', errormsg=None, context_dct=None) full_result [-4.57657734e-09  7.43893906e-08]\n"
     ]
    },
    {
     "data": {
      "application/vnd.jupyter.widget-view+json": {
       "model_id": "9267fecb42de4e66a91d43def80fe440",
       "version_major": 2,
       "version_minor": 0
      },
      "text/plain": [
       "  0%|          | 0/16 [00:00<?, ?it/s]"
      ]
     },
     "metadata": {},
     "output_type": "display_data"
    },
    {
     "name": "stdout",
     "output_type": "stream",
     "text": [
      "[PairOptimizer.optimize] curves_t WBTC-C599/USDC-eB48\n",
      "[PairOptimizer.optimize] p_optimal OptimizerBase.SimpleResult(result=30709.171178589037, method='bisection', errormsg=None, context_dct=None) full_result [ 3.52997631e-11 -1.08499080e-06]\n",
      "[PairOptimizer.optimize] curves_t WBTC-C599/USDC-eB48\n",
      "[PairOptimizer.optimize] p_optimal OptimizerBase.SimpleResult(result=30709.17117859955, method='bisection', errormsg=None, context_dct=None) full_result [-1.14255272e-11  3.50177288e-07]\n",
      "[PairOptimizer.optimize] curves_t WBTC-C599/USDC-eB48\n",
      "[PairOptimizer.optimize] p_optimal OptimizerBase.SimpleResult(result=30709.17117859282, method='bisection', errormsg=None, context_dct=None) full_result [ 1.85309545e-11 -5.69969416e-07]\n",
      "[PairOptimizer.optimize] curves_t WBTC-C599/USDC-eB48\n",
      "[PairOptimizer.optimize] p_optimal OptimizerBase.SimpleResult(result=30709.17117859589, method='bisection', errormsg=None, context_dct=None) full_result [ 4.83169060e-12 -1.49011612e-07]\n",
      "[PairOptimizer.optimize] curves_t WBTC-C599/USDC-eB48\n",
      "[PairOptimizer.optimize] p_optimal OptimizerBase.SimpleResult(result=30709.17117859447, method='bisection', errormsg=None, context_dct=None) full_result [ 1.11413101e-11 -3.43658030e-07]\n",
      "[PairOptimizer.optimize] curves_t WBTC-C599/USDC-eB48\n",
      "[PairOptimizer.optimize] p_optimal OptimizerBase.SimpleResult(result=30709.171178601522, method='bisection', errormsg=None, context_dct=None) full_result [-2.01794137e-11  6.19329512e-07]\n",
      "[PairOptimizer.optimize] curves_t WBTC-C599/USDC-eB48\n",
      "[PairOptimizer.optimize] p_optimal OptimizerBase.SimpleResult(result=30708.386280897503, method='bisection', errormsg=None, context_dct=None) full_result [ 2.96917491e-11 -8.92271088e-01]\n",
      "[PairOptimizer.optimize] curves_t WBTC-C599/USDC-eB48\n",
      "[PairOptimizer.optimize] p_optimal OptimizerBase.SimpleResult(result=30709.171178605357, method='bisection', errormsg=None, context_dct=None) full_result [-3.72324394e-11  1.14273280e-06]\n",
      "[PairOptimizer.optimize] curves_t WBTC-C599/USDC-eB48\n",
      "[PairOptimizer.optimize] p_optimal OptimizerBase.SimpleResult(result=30681.192450067927, method='bisection', errormsg=None, context_dct=None) full_result [ 5.82986104e-10 -1.79111958e-05]\n",
      "[PairOptimizer.optimize] curves_t WBTC-C599/USDC-eB48\n",
      "[PairOptimizer.optimize] p_optimal OptimizerBase.SimpleResult(result=30681.192450086935, method='bisection', errormsg=None, context_dct=None) full_result [-8.64019967e-10  2.64942646e-05]\n",
      "[PairOptimizer.optimize] curves_t WBTC-C599/USDC-eB48\n",
      "[PairOptimizer.optimize] p_optimal OptimizerBase.SimpleResult(result=30681.192450084593, method='bisection', errormsg=None, context_dct=None) full_result [-6.85759005e-10  2.10106373e-05]\n",
      "[PairOptimizer.optimize] curves_t WBTC-C599/USDC-eB48\n",
      "[PairOptimizer.optimize] p_optimal OptimizerBase.SimpleResult(result=30681.192450076273, method='bisection', errormsg=None, context_dct=None) full_result [-5.27506927e-11  1.57952309e-06]\n",
      "[PairOptimizer.optimize] curves_t WBTC-C599/USDC-eB48\n",
      "[PairOptimizer.optimize] p_optimal OptimizerBase.SimpleResult(result=30681.19245007934, method='bisection', errormsg=None, context_dct=None) full_result [-2.85581336e-10  8.73208046e-06]\n",
      "[PairOptimizer.optimize] curves_t WBTC-C599/USDC-eB48\n",
      "[PairOptimizer.optimize] p_optimal OptimizerBase.SimpleResult(result=30681.192450081726, method='bisection', errormsg=None, context_dct=None) full_result [-4.67480277e-10  1.43349171e-05]\n",
      "[PairOptimizer.optimize] curves_t WBTC-C599/USDC-eB48\n",
      "[PairOptimizer.optimize] p_optimal OptimizerBase.SimpleResult(result=30681.149014643066, method='bisection', errormsg=None, context_dct=None) full_result [ 2.77502132e-10 -7.98431910e-01]\n",
      "[PairOptimizer.optimize] curves_t WBTC-C599/USDC-eB48\n",
      "[PairOptimizer.optimize] p_optimal OptimizerBase.SimpleResult(result=30681.192450076527, method='bisection', errormsg=None, context_dct=None) full_result [-7.18500814e-11  2.17556953e-06]\n"
     ]
    },
    {
     "data": {
      "application/vnd.jupyter.widget-view+json": {
       "model_id": "37271e9c77394b28a54362047241e8f9",
       "version_major": 2,
       "version_minor": 0
      },
      "text/plain": [
       "  0%|          | 0/1 [00:00<?, ?it/s]"
      ]
     },
     "metadata": {},
     "output_type": "display_data"
    },
    {
     "name": "stdout",
     "output_type": "stream",
     "text": [
      "[PairOptimizer.optimize] curves_t WBTC-C599/USDT-1ec7\n",
      "[PairOptimizer.optimize] p_optimal OptimizerBase.SimpleResult(result=30694.613926066977, method='bisection', errormsg=None, context_dct=None) full_result [-7.29679297e-11 -1.92722695e-02]\n"
     ]
    },
    {
     "data": {
      "application/vnd.jupyter.widget-view+json": {
       "model_id": "e5c13c8ba58c446d94d463e92b629691",
       "version_major": 2,
       "version_minor": 0
      },
      "text/plain": [
       "0it [00:00, ?it/s]"
      ]
     },
     "metadata": {},
     "output_type": "display_data"
    },
    {
     "data": {
      "application/vnd.jupyter.widget-view+json": {
       "model_id": "fde17e92676f4bd8958e4c7ab15c0558",
       "version_major": 2,
       "version_minor": 0
      },
      "text/plain": [
       "0it [00:00, ?it/s]"
      ]
     },
     "metadata": {},
     "output_type": "display_data"
    },
    {
     "data": {
      "application/vnd.jupyter.widget-view+json": {
       "model_id": "792510e25ed14d97befc5e96ecc34aa2",
       "version_major": 2,
       "version_minor": 0
      },
      "text/plain": [
       "0it [00:00, ?it/s]"
      ]
     },
     "metadata": {},
     "output_type": "display_data"
    },
    {
     "data": {
      "application/vnd.jupyter.widget-view+json": {
       "model_id": "f887c197b76f463c8092ca9fe1824ba2",
       "version_major": 2,
       "version_minor": 0
      },
      "text/plain": [
       "0it [00:00, ?it/s]"
      ]
     },
     "metadata": {},
     "output_type": "display_data"
    },
    {
     "data": {
      "application/vnd.jupyter.widget-view+json": {
       "model_id": "8a346674be3a4ff7bd40a65468160bd6",
       "version_major": 2,
       "version_minor": 0
      },
      "text/plain": [
       "0it [00:00, ?it/s]"
      ]
     },
     "metadata": {},
     "output_type": "display_data"
    },
    {
     "data": {
      "application/vnd.jupyter.widget-view+json": {
       "model_id": "dd393a5b09e647f9a5fcf849b6b19c4d",
       "version_major": 2,
       "version_minor": 0
      },
      "text/plain": [
       "0it [00:00, ?it/s]"
      ]
     },
     "metadata": {},
     "output_type": "display_data"
    },
    {
     "data": {
      "application/vnd.jupyter.widget-view+json": {
       "model_id": "154b754f9b9a415abdcbd2d7bed828a3",
       "version_major": 2,
       "version_minor": 0
      },
      "text/plain": [
       "0it [00:00, ?it/s]"
      ]
     },
     "metadata": {},
     "output_type": "display_data"
    },
    {
     "data": {
      "application/vnd.jupyter.widget-view+json": {
       "model_id": "0e5f972c0e4b4be8ba0ff4beab880c4d",
       "version_major": 2,
       "version_minor": 0
      },
      "text/plain": [
       "0it [00:00, ?it/s]"
      ]
     },
     "metadata": {},
     "output_type": "display_data"
    },
    {
     "data": {
      "application/vnd.jupyter.widget-view+json": {
       "model_id": "4072f7981a55408fbc46a0994278fa08",
       "version_major": 2,
       "version_minor": 0
      },
      "text/plain": [
       "  0%|          | 0/1 [00:00<?, ?it/s]"
      ]
     },
     "metadata": {},
     "output_type": "display_data"
    },
    {
     "name": "stdout",
     "output_type": "stream",
     "text": [
      "[PairOptimizer.optimize] curves_t MATIC-eBB0/USDC-eB48\n",
      "[PairOptimizer.optimize] p_optimal OptimizerBase.SimpleResult(result=0.7402602510973211, method='bisection', errormsg=None, context_dct=None) full_result [-9.26957000e-09  6.86122803e-09]\n"
     ]
    },
    {
     "data": {
      "application/vnd.jupyter.widget-view+json": {
       "model_id": "eb1d8c670bc044df8c025808a2c568d6",
       "version_major": 2,
       "version_minor": 0
      },
      "text/plain": [
       "  0%|          | 0/4 [00:00<?, ?it/s]"
      ]
     },
     "metadata": {},
     "output_type": "display_data"
    },
    {
     "name": "stdout",
     "output_type": "stream",
     "text": [
      "[PairOptimizer.optimize] curves_t PEPE-1933/WETH-6Cc2\n",
      "[PairOptimizer.optimize] p_optimal OptimizerBase.SimpleResult(result=8.149138379328678e-10, method='bisection', errormsg=None, context_dct=None) full_result [ 2.51562500e+00 -2.04818207e-09]\n",
      "[PairOptimizer.optimize] curves_t PEPE-1933/WETH-6Cc2\n",
      "[PairOptimizer.optimize] p_optimal OptimizerBase.SimpleResult(result=8.149138379327994e-10, method='bisection', errormsg=None, context_dct=None) full_result [ 3.55078125e+00 -2.89583113e-09]\n",
      "[PairOptimizer.optimize] curves_t PEPE-1933/WETH-6Cc2\n",
      "[PairOptimizer.optimize] p_optimal OptimizerBase.SimpleResult(result=8.107804985572999e-10, method='bisection', errormsg=None, context_dct=None) full_result [ 2.69775391e-02 -2.18278728e-11]\n",
      "[PairOptimizer.optimize] curves_t PEPE-1933/WETH-6Cc2\n",
      "[PairOptimizer.optimize] p_optimal OptimizerBase.SimpleResult(result=8.107804985574788e-10, method='bisection', errormsg=None, context_dct=None) full_result [-1.50756836e-02  1.22213351e-11]\n"
     ]
    },
    {
     "data": {
      "application/vnd.jupyter.widget-view+json": {
       "model_id": "b7f0617c0afe4d18ac841cf0136cadf1",
       "version_major": 2,
       "version_minor": 0
      },
      "text/plain": [
       "  0%|          | 0/3 [00:00<?, ?it/s]"
      ]
     },
     "metadata": {},
     "output_type": "display_data"
    },
    {
     "name": "stdout",
     "output_type": "stream",
     "text": [
      "[PairOptimizer.optimize] curves_t PEPE-1933/USDC-eB48\n",
      "[PairOptimizer.optimize] p_optimal OptimizerBase.SimpleResult(result=1.5362878225146734e-06, method='bisection', errormsg=None, context_dct=None) full_result [ 0.00651264 -0.00666746]\n",
      "[PairOptimizer.optimize] curves_t PEPE-1933/USDC-eB48\n",
      "[PairOptimizer.optimize] p_optimal OptimizerBase.SimpleResult(result=1.5360877772687104e-06, method='bisection', errormsg=None, context_dct=None) full_result [ 4.19616699e-03 -6.43194653e-09]\n",
      "[PairOptimizer.optimize] curves_t PEPE-1933/USDC-eB48\n",
      "[PairOptimizer.optimize] p_optimal OptimizerBase.SimpleResult(result=1.53608777726908e-06, method='bisection', errormsg=None, context_dct=None) full_result [-5.69152832e-03  8.74570105e-09]\n"
     ]
    },
    {
     "data": {
      "application/vnd.jupyter.widget-view+json": {
       "model_id": "c39f14c73dc34914834c9516b68e7892",
       "version_major": 2,
       "version_minor": 0
      },
      "text/plain": [
       "0it [00:00, ?it/s]"
      ]
     },
     "metadata": {},
     "output_type": "display_data"
    },
    {
     "data": {
      "application/vnd.jupyter.widget-view+json": {
       "model_id": "907f5e22b2eb4b3d9090b1601beec5bf",
       "version_major": 2,
       "version_minor": 0
      },
      "text/plain": [
       "0it [00:00, ?it/s]"
      ]
     },
     "metadata": {},
     "output_type": "display_data"
    },
    {
     "data": {
      "application/vnd.jupyter.widget-view+json": {
       "model_id": "db860e9c72f4490bb8f46d861918ff1c",
       "version_major": 2,
       "version_minor": 0
      },
      "text/plain": [
       "0it [00:00, ?it/s]"
      ]
     },
     "metadata": {},
     "output_type": "display_data"
    },
    {
     "data": {
      "application/vnd.jupyter.widget-view+json": {
       "model_id": "93fe76ada0cb4995baddff0e99a03fe0",
       "version_major": 2,
       "version_minor": 0
      },
      "text/plain": [
       "  0%|          | 0/1 [00:00<?, ?it/s]"
      ]
     },
     "metadata": {},
     "output_type": "display_data"
    },
    {
     "name": "stdout",
     "output_type": "stream",
     "text": [
      "[PairOptimizer.optimize] curves_t TSUKA-69eD/USDC-eB48\n",
      "[PairOptimizer.optimize] p_optimal OptimizerBase.SimpleResult(result=0.031129990028112127, method='bisection', errormsg=None, context_dct=None) full_result [ 1.87428668e-08 -5.82986104e-10]\n"
     ]
    },
    {
     "data": {
      "application/vnd.jupyter.widget-view+json": {
       "model_id": "febea2bfb141409b868d503dd5fc5fa3",
       "version_major": 2,
       "version_minor": 0
      },
      "text/plain": [
       "0it [00:00, ?it/s]"
      ]
     },
     "metadata": {},
     "output_type": "display_data"
    },
    {
     "data": {
      "application/vnd.jupyter.widget-view+json": {
       "model_id": "8cc78480b45b474aae0cbd5456d15e6b",
       "version_major": 2,
       "version_minor": 0
      },
      "text/plain": [
       "0it [00:00, ?it/s]"
      ]
     },
     "metadata": {},
     "output_type": "display_data"
    },
    {
     "data": {
      "application/vnd.jupyter.widget-view+json": {
       "model_id": "ef3d87e60e554b2f899f9ce9af40f883",
       "version_major": 2,
       "version_minor": 0
      },
      "text/plain": [
       "0it [00:00, ?it/s]"
      ]
     },
     "metadata": {},
     "output_type": "display_data"
    },
    {
     "data": {
      "application/vnd.jupyter.widget-view+json": {
       "model_id": "de608617081e4c868008bccbbd9eb817",
       "version_major": 2,
       "version_minor": 0
      },
      "text/plain": [
       "0it [00:00, ?it/s]"
      ]
     },
     "metadata": {},
     "output_type": "display_data"
    },
    {
     "data": {
      "application/vnd.jupyter.widget-view+json": {
       "model_id": "053d983801ca4bb09a53f6098bcd0762",
       "version_major": 2,
       "version_minor": 0
      },
      "text/plain": [
       "0it [00:00, ?it/s]"
      ]
     },
     "metadata": {},
     "output_type": "display_data"
    },
    {
     "data": {
      "application/vnd.jupyter.widget-view+json": {
       "model_id": "288543d52d92469b93f0c6b17334d262",
       "version_major": 2,
       "version_minor": 0
      },
      "text/plain": [
       "  0%|          | 0/1 [00:00<?, ?it/s]"
      ]
     },
     "metadata": {},
     "output_type": "display_data"
    },
    {
     "name": "stdout",
     "output_type": "stream",
     "text": [
      "[PairOptimizer.optimize] curves_t SMT-7173/WETH-6Cc2\n",
      "[PairOptimizer.optimize] p_optimal OptimizerBase.SimpleResult(result=3.412385811295565e-05, method='bisection', errormsg=None, context_dct=None) full_result [ 2.57859938e-08 -8.81072992e-13]\n"
     ]
    },
    {
     "data": {
      "application/vnd.jupyter.widget-view+json": {
       "model_id": "8284955193f54476ba3da2df965a9217",
       "version_major": 2,
       "version_minor": 0
      },
      "text/plain": [
       "0it [00:00, ?it/s]"
      ]
     },
     "metadata": {},
     "output_type": "display_data"
    },
    {
     "data": {
      "application/vnd.jupyter.widget-view+json": {
       "model_id": "d755c8dacb2745bb945952581344161c",
       "version_major": 2,
       "version_minor": 0
      },
      "text/plain": [
       "0it [00:00, ?it/s]"
      ]
     },
     "metadata": {},
     "output_type": "display_data"
    },
    {
     "data": {
      "application/vnd.jupyter.widget-view+json": {
       "model_id": "644b4beaf41a4fd99a23e6e4f315239c",
       "version_major": 2,
       "version_minor": 0
      },
      "text/plain": [
       "  0%|          | 0/4 [00:00<?, ?it/s]"
      ]
     },
     "metadata": {},
     "output_type": "display_data"
    },
    {
     "name": "stdout",
     "output_type": "stream",
     "text": [
      "[PairOptimizer.optimize] curves_t rETH-6393/WETH-6Cc2\n",
      "[PairOptimizer.optimize] p_optimal OptimizerBase.SimpleResult(result=1.076708344504264, method='bisection', errormsg=None, context_dct=None) full_result [-1.25543593e-07 -1.09294720e-03]\n",
      "[PairOptimizer.optimize] curves_t rETH-6393/WETH-6Cc2\n",
      "[PairOptimizer.optimize] p_optimal OptimizerBase.SimpleResult(result=1.0767087670950288, method='bisection', errormsg=None, context_dct=None) full_result [ 2.46334821e-07 -2.65194103e-07]\n",
      "[PairOptimizer.optimize] curves_t rETH-6393/WETH-6Cc2\n",
      "[PairOptimizer.optimize] p_optimal OptimizerBase.SimpleResult(result=1.0767087670955016, method='bisection', errormsg=None, context_dct=None) full_result [-3.30619514e-08  3.53902578e-08]\n",
      "[PairOptimizer.optimize] curves_t rETH-6393/WETH-6Cc2\n",
      "[PairOptimizer.optimize] p_optimal OptimizerBase.SimpleResult(result=1.076708767095204, method='bisection', errormsg=None, context_dct=None) full_result [ 1.42958015e-07 -1.53901055e-07]\n"
     ]
    },
    {
     "data": {
      "application/vnd.jupyter.widget-view+json": {
       "model_id": "57296329df1840b8a959baf65f0ac9f1",
       "version_major": 2,
       "version_minor": 0
      },
      "text/plain": [
       "0it [00:00, ?it/s]"
      ]
     },
     "metadata": {},
     "output_type": "display_data"
    },
    {
     "data": {
      "application/vnd.jupyter.widget-view+json": {
       "model_id": "3f25799d4d504a72bfaa7bbd8da999b4",
       "version_major": 2,
       "version_minor": 0
      },
      "text/plain": [
       "  0%|          | 0/54 [00:00<?, ?it/s]"
      ]
     },
     "metadata": {},
     "output_type": "display_data"
    },
    {
     "name": "stdout",
     "output_type": "stream",
     "text": [
      "[PairOptimizer.optimize] curves_t WETH-6Cc2/USDC-eB48\n",
      "[PairOptimizer.optimize] p_optimal OptimizerBase.SimpleResult(result=1888.9922146301515, method='bisection', errormsg=None, context_dct=None) full_result [-4.74392436e-09  8.94069672e-06]\n",
      "[PairOptimizer.optimize] curves_t WETH-6Cc2/USDC-eB48\n",
      "[PairOptimizer.optimize] p_optimal OptimizerBase.SimpleResult(result=1888.992214629935, method='bisection', errormsg=None, context_dct=None) full_result [ 5.41331246e-09 -1.02519989e-05]\n",
      "[PairOptimizer.optimize] curves_t WETH-6Cc2/USDC-eB48\n",
      "[PairOptimizer.optimize] p_optimal OptimizerBase.SimpleResult(result=1888.9922146308772, method='bisection', errormsg=None, context_dct=None) full_result [-3.87663022e-08  7.32541084e-05]\n",
      "[PairOptimizer.optimize] curves_t WETH-6Cc2/USDC-eB48\n",
      "[PairOptimizer.optimize] p_optimal OptimizerBase.SimpleResult(result=1888.9922146296476, method='bisection', errormsg=None, context_dct=None) full_result [ 1.88883860e-08 -3.56435776e-05]\n",
      "[PairOptimizer.optimize] curves_t WETH-6Cc2/USDC-eB48\n",
      "[PairOptimizer.optimize] p_optimal OptimizerBase.SimpleResult(result=1888.992214630152, method='bisection', errormsg=None, context_dct=None) full_result [-4.74392436e-09  8.94069672e-06]\n",
      "[PairOptimizer.optimize] curves_t WETH-6Cc2/USDC-eB48\n",
      "[PairOptimizer.optimize] p_optimal OptimizerBase.SimpleResult(result=1888.9922146300873, method='bisection', errormsg=None, context_dct=None) full_result [-1.71712600e-09  3.27825546e-06]\n",
      "[PairOptimizer.optimize] curves_t WETH-6Cc2/USDC-eB48\n",
      "[PairOptimizer.optimize] p_optimal OptimizerBase.SimpleResult(result=1888.9922146304884, method='bisection', errormsg=None, context_dct=None) full_result [-2.05182005e-08  3.88026237e-05]\n",
      "[PairOptimizer.optimize] curves_t WETH-6Cc2/USDC-eB48\n",
      "[PairOptimizer.optimize] p_optimal OptimizerBase.SimpleResult(result=1888.9922146299593, method='bisection', errormsg=None, context_dct=None) full_result [ 4.30736691e-09 -8.10623169e-06]\n",
      "[PairOptimizer.optimize] curves_t WETH-6Cc2/USDC-eB48\n",
      "[PairOptimizer.optimize] p_optimal OptimizerBase.SimpleResult(result=1888.992214629823, method='bisection', errormsg=None, context_dct=None) full_result [ 1.06811058e-08 -2.01463699e-05]\n",
      "[PairOptimizer.optimize] curves_t WETH-6Cc2/USDC-eB48\n",
      "[PairOptimizer.optimize] p_optimal OptimizerBase.SimpleResult(result=1888.9922146295216, method='bisection', errormsg=None, context_dct=None) full_result [ 2.48255674e-08 -4.68492508e-05]\n",
      "[PairOptimizer.optimize] curves_t WETH-6Cc2/USDC-eB48\n",
      "[PairOptimizer.optimize] p_optimal OptimizerBase.SimpleResult(result=1888.992214630285, method='bisection', errormsg=None, context_dct=None) full_result [-1.09721441e-08  2.07424164e-05]\n",
      "[PairOptimizer.optimize] curves_t WETH-6Cc2/USDC-eB48\n",
      "[PairOptimizer.optimize] p_optimal OptimizerBase.SimpleResult(result=1888.992214630096, method='bisection', errormsg=None, context_dct=None) full_result [-2.12457962e-09  4.05311584e-06]\n",
      "[PairOptimizer.optimize] curves_t WETH-6Cc2/USDC-eB48\n",
      "[PairOptimizer.optimize] p_optimal OptimizerBase.SimpleResult(result=1888.9922146296672, method='bisection', errormsg=None, context_dct=None) full_result [ 1.79861672e-08 -3.39150429e-05]\n",
      "[PairOptimizer.optimize] curves_t WETH-6Cc2/USDC-eB48\n",
      "[PairOptimizer.optimize] p_optimal OptimizerBase.SimpleResult(result=1888.992214630273, method='bisection', errormsg=None, context_dct=None) full_result [-1.04482751e-08  1.97291374e-05]\n",
      "[PairOptimizer.optimize] curves_t WETH-6Cc2/USDC-eB48\n",
      "[PairOptimizer.optimize] p_optimal OptimizerBase.SimpleResult(result=1888.992214630557, method='bisection', errormsg=None, context_dct=None) full_result [-2.37487257e-08  4.48822975e-05]\n",
      "[PairOptimizer.optimize] curves_t WETH-6Cc2/USDC-eB48\n",
      "[PairOptimizer.optimize] p_optimal OptimizerBase.SimpleResult(result=1888.9922146305262, method='bisection', errormsg=None, context_dct=None) full_result [-2.23226380e-08  4.21404839e-05]\n",
      "[PairOptimizer.optimize] curves_t WETH-6Cc2/USDC-eB48\n",
      "[PairOptimizer.optimize] p_optimal OptimizerBase.SimpleResult(result=1888.9922146295794, method='bisection', errormsg=None, context_dct=None) full_result [ 2.21189111e-08 -4.17828560e-05]\n",
      "[PairOptimizer.optimize] curves_t WETH-6Cc2/USDC-eB48\n",
      "[PairOptimizer.optimize] p_optimal OptimizerBase.SimpleResult(result=1888.9922146299941, method='bisection', errormsg=None, context_dct=None) full_result [ 2.67755240e-09 -5.00679016e-06]\n",
      "[PairOptimizer.optimize] curves_t WETH-6Cc2/USDC-eB48\n",
      "[PairOptimizer.optimize] p_optimal OptimizerBase.SimpleResult(result=1888.9922146298563, method='bisection', errormsg=None, context_dct=None) full_result [ 9.10949893e-09 -1.71661377e-05]\n",
      "[PairOptimizer.optimize] curves_t WETH-6Cc2/USDC-eB48\n",
      "[PairOptimizer.optimize] p_optimal OptimizerBase.SimpleResult(result=1888.9922146307526, method='bisection', errormsg=None, context_dct=None) full_result [-3.29164322e-08  6.21676445e-05]\n",
      "[PairOptimizer.optimize] curves_t WETH-6Cc2/USDC-eB48\n",
      "[PairOptimizer.optimize] p_optimal OptimizerBase.SimpleResult(result=1888.9922146292975, method='bisection', errormsg=None, context_dct=None) full_result [ 3.53029463e-08 -6.66975975e-05]\n",
      "[PairOptimizer.optimize] curves_t WETH-6Cc2/USDC-eB48\n",
      "[PairOptimizer.optimize] p_optimal OptimizerBase.SimpleResult(result=1888.9922146298, method='bisection', errormsg=None, context_dct=None) full_result [ 1.17870513e-08 -2.22325325e-05]\n",
      "[PairOptimizer.optimize] curves_t WETH-6Cc2/USDC-eB48\n",
      "[PairOptimizer.optimize] p_optimal OptimizerBase.SimpleResult(result=1888.9922146296672, method='bisection', errormsg=None, context_dct=None) full_result [ 1.79861672e-08 -3.39150429e-05]\n",
      "[PairOptimizer.optimize] curves_t WETH-6Cc2/USDC-eB48\n",
      "[PairOptimizer.optimize] p_optimal OptimizerBase.SimpleResult(result=1888.9922146300303, method='bisection', errormsg=None, context_dct=None) full_result [ 9.60426405e-10 -1.78813934e-06]\n",
      "[PairOptimizer.optimize] curves_t WETH-6Cc2/USDC-eB48\n",
      "[PairOptimizer.optimize] p_optimal OptimizerBase.SimpleResult(result=1888.9922045502708, method='bisection', errormsg=None, context_dct=None) full_result [ 8.62382876e-09 -4.20819260e-02]\n",
      "[PairOptimizer.optimize] curves_t WETH-6Cc2/USDC-eB48\n",
      "[PairOptimizer.optimize] p_optimal OptimizerBase.SimpleResult(result=1888.9922146306424, method='bisection', errormsg=None, context_dct=None) full_result [-2.77650543e-08  5.24520874e-05]\n",
      "[PairOptimizer.optimize] curves_t WETH-6Cc2/USDC-eB48\n",
      "[PairOptimizer.optimize] p_optimal OptimizerBase.SimpleResult(result=1888.9922146304034, method='bisection', errormsg=None, context_dct=None) full_result [-1.65309757e-08  3.12328339e-05]\n",
      "[PairOptimizer.optimize] curves_t WETH-6Cc2/USDC-eB48\n",
      "[PairOptimizer.optimize] p_optimal OptimizerBase.SimpleResult(result=1888.9922146305626, method='bisection', errormsg=None, context_dct=None) full_result [-2.40106601e-08  4.54187393e-05]\n",
      "[PairOptimizer.optimize] curves_t WETH-6Cc2/USDC-eB48\n",
      "[PairOptimizer.optimize] p_optimal OptimizerBase.SimpleResult(result=1888.992214630815, method='bisection', errormsg=None, context_dct=None) full_result [-3.58268153e-08  6.77108765e-05]\n",
      "[PairOptimizer.optimize] curves_t WETH-6Cc2/USDC-eB48\n",
      "[PairOptimizer.optimize] p_optimal OptimizerBase.SimpleResult(result=1888.9922146306358, method='bisection', errormsg=None, context_dct=None) full_result [-2.74449121e-08  5.18560410e-05]\n",
      "[PairOptimizer.optimize] curves_t WETH-6Cc2/USDC-eB48\n",
      "[PairOptimizer.optimize] p_optimal OptimizerBase.SimpleResult(result=1888.9922146295798, method='bisection', errormsg=None, context_dct=None) full_result [ 2.20607035e-08 -4.16636467e-05]\n",
      "[PairOptimizer.optimize] curves_t WETH-6Cc2/USDC-eB48\n",
      "[PairOptimizer.optimize] p_optimal OptimizerBase.SimpleResult(result=1888.9922146296767, method='bisection', errormsg=None, context_dct=None) full_result [ 1.75496098e-08 -3.31401825e-05]\n",
      "[PairOptimizer.optimize] curves_t WETH-6Cc2/USDC-eB48\n",
      "[PairOptimizer.optimize] p_optimal OptimizerBase.SimpleResult(result=1888.992214630015, method='bisection', errormsg=None, context_dct=None) full_result [ 1.68802217e-09 -3.15904617e-06]\n",
      "[PairOptimizer.optimize] curves_t WETH-6Cc2/USDC-eB48\n",
      "[PairOptimizer.optimize] p_optimal OptimizerBase.SimpleResult(result=1888.9922146301515, method='bisection', errormsg=None, context_dct=None) full_result [-4.74392436e-09  8.94069672e-06]\n",
      "[PairOptimizer.optimize] curves_t WETH-6Cc2/USDC-eB48\n",
      "[PairOptimizer.optimize] p_optimal OptimizerBase.SimpleResult(result=1888.9922146304305, method='bisection', errormsg=None, context_dct=None) full_result [-1.77824404e-08  3.36170197e-05]\n",
      "[PairOptimizer.optimize] curves_t WETH-6Cc2/USDC-eB48\n",
      "[PairOptimizer.optimize] p_optimal OptimizerBase.SimpleResult(result=1888.9922146295005, method='bisection', errormsg=None, context_dct=None) full_result [ 2.53922954e-08 -4.79870996e-05]\n",
      "[PairOptimizer.optimize] curves_t WETH-6Cc2/USDC-eB48\n",
      "[PairOptimizer.optimize] p_optimal OptimizerBase.SimpleResult(result=1888.9922146295216, method='bisection', errormsg=None, context_dct=None) full_result [ 2.48255674e-08 -4.68492508e-05]\n",
      "[PairOptimizer.optimize] curves_t WETH-6Cc2/USDC-eB48\n",
      "[PairOptimizer.optimize] p_optimal OptimizerBase.SimpleResult(result=1888.9922146296672, method='bisection', errormsg=None, context_dct=None) full_result [ 1.79861672e-08 -3.39150429e-05]\n",
      "[PairOptimizer.optimize] curves_t WETH-6Cc2/USDC-eB48\n",
      "[PairOptimizer.optimize] p_optimal OptimizerBase.SimpleResult(result=1888.9922146306121, method='bisection', errormsg=None, context_dct=None) full_result [-2.63389666e-08  4.97698784e-05]\n",
      "[PairOptimizer.optimize] curves_t WETH-6Cc2/USDC-eB48\n",
      "[PairOptimizer.optimize] p_optimal OptimizerBase.SimpleResult(result=1888.9922146306424, method='bisection', errormsg=None, context_dct=None) full_result [-2.77650543e-08  5.24520874e-05]\n",
      "[PairOptimizer.optimize] curves_t WETH-6Cc2/USDC-eB48\n",
      "[PairOptimizer.optimize] p_optimal OptimizerBase.SimpleResult(result=1888.99221463018, method='bisection', errormsg=None, context_dct=None) full_result [-6.05359674e-09  1.15036964e-05]\n",
      "[PairOptimizer.optimize] curves_t WETH-6Cc2/USDC-eB48\n",
      "[PairOptimizer.optimize] p_optimal OptimizerBase.SimpleResult(result=1888.9922146308115, method='bisection', errormsg=None, context_dct=None) full_result [-3.56812961e-08  6.74128532e-05]\n",
      "[PairOptimizer.optimize] curves_t WETH-6Cc2/USDC-eB48\n",
      "[PairOptimizer.optimize] p_optimal OptimizerBase.SimpleResult(result=1888.9922146302497, method='bisection', errormsg=None, context_dct=None) full_result [-9.31322575e-09  1.76429749e-05]\n",
      "[PairOptimizer.optimize] curves_t WETH-6Cc2/USDC-eB48\n",
      "[PairOptimizer.optimize] p_optimal OptimizerBase.SimpleResult(result=1888.9922146300873, method='bisection', errormsg=None, context_dct=None) full_result [-1.71712600e-09  3.27825546e-06]\n",
      "[PairOptimizer.optimize] curves_t WETH-6Cc2/USDC-eB48\n",
      "[PairOptimizer.optimize] p_optimal OptimizerBase.SimpleResult(result=1888.9922146298663, method='bisection', errormsg=None, context_dct=None) full_result [ 8.64383765e-09 -1.63316727e-05]\n",
      "[PairOptimizer.optimize] curves_t WETH-6Cc2/USDC-eB48\n",
      "[PairOptimizer.optimize] p_optimal OptimizerBase.SimpleResult(result=1888.9922146297727, method='bisection', errormsg=None, context_dct=None) full_result [ 1.30385160e-08 -2.46167183e-05]\n",
      "[PairOptimizer.optimize] curves_t WETH-6Cc2/USDC-eB48\n",
      "[PairOptimizer.optimize] p_optimal OptimizerBase.SimpleResult(result=1888.9922146295776, method='bisection', errormsg=None, context_dct=None) full_result [ 2.21771188e-08 -4.18424606e-05]\n",
      "[PairOptimizer.optimize] curves_t WETH-6Cc2/USDC-eB48\n",
      "[PairOptimizer.optimize] p_optimal OptimizerBase.SimpleResult(result=1888.9922146300873, method='bisection', errormsg=None, context_dct=None) full_result [-1.71712600e-09  3.27825546e-06]\n",
      "[PairOptimizer.optimize] curves_t WETH-6Cc2/USDC-eB48\n",
      "[PairOptimizer.optimize] p_optimal OptimizerBase.SimpleResult(result=1888.9922146295798, method='bisection', errormsg=None, context_dct=None) full_result [ 2.20607035e-08 -4.16636467e-05]\n",
      "[PairOptimizer.optimize] curves_t WETH-6Cc2/USDC-eB48\n",
      "[PairOptimizer.optimize] p_optimal OptimizerBase.SimpleResult(result=1888.9922146299475, method='bisection', errormsg=None, context_dct=None) full_result [ 4.83123586e-09 -9.11951065e-06]\n",
      "[PairOptimizer.optimize] curves_t WETH-6Cc2/USDC-eB48\n",
      "[PairOptimizer.optimize] p_optimal OptimizerBase.SimpleResult(result=1888.9922146300873, method='bisection', errormsg=None, context_dct=None) full_result [-1.71712600e-09  3.27825546e-06]\n",
      "[PairOptimizer.optimize] curves_t WETH-6Cc2/USDC-eB48\n",
      "[PairOptimizer.optimize] p_optimal OptimizerBase.SimpleResult(result=1888.9922146306799, method='bisection', errormsg=None, context_dct=None) full_result [-2.94821803e-08  5.57303429e-05]\n",
      "[PairOptimizer.optimize] curves_t WETH-6Cc2/USDC-eB48\n",
      "[PairOptimizer.optimize] p_optimal OptimizerBase.SimpleResult(result=1888.9922146300873, method='bisection', errormsg=None, context_dct=None) full_result [-1.71712600e-09  3.27825546e-06]\n",
      "[PairOptimizer.optimize] curves_t WETH-6Cc2/USDC-eB48\n",
      "[PairOptimizer.optimize] p_optimal OptimizerBase.SimpleResult(result=1888.992214629823, method='bisection', errormsg=None, context_dct=None) full_result [ 1.06811058e-08 -2.01463699e-05]\n"
     ]
    },
    {
     "data": {
      "application/vnd.jupyter.widget-view+json": {
       "model_id": "b889cc7e276141bb9e318dfcb40b6586",
       "version_major": 2,
       "version_minor": 0
      },
      "text/plain": [
       "  0%|          | 0/4 [00:00<?, ?it/s]"
      ]
     },
     "metadata": {},
     "output_type": "display_data"
    },
    {
     "name": "stdout",
     "output_type": "stream",
     "text": [
      "[PairOptimizer.optimize] curves_t WETH-6Cc2/BNT-FF1C\n",
      "[PairOptimizer.optimize] p_optimal OptimizerBase.SimpleResult(result=4764.127397630187, method='bisection', errormsg=None, context_dct=None) full_result [ 2.75765188e-10 -2.38837158e+00]\n",
      "[PairOptimizer.optimize] curves_t WETH-6Cc2/BNT-FF1C\n",
      "[PairOptimizer.optimize] p_optimal OptimizerBase.SimpleResult(result=4764.138098143359, method='bisection', errormsg=None, context_dct=None) full_result [ 1.95996108e-10 -9.35047865e-07]\n",
      "[PairOptimizer.optimize] curves_t WETH-6Cc2/BNT-FF1C\n",
      "[PairOptimizer.optimize] p_optimal OptimizerBase.SimpleResult(result=4764.138098141909, method='bisection', errormsg=None, context_dct=None) full_result [ 7.35781214e-10 -3.50549817e-06]\n",
      "[PairOptimizer.optimize] curves_t WETH-6Cc2/BNT-FF1C\n",
      "[PairOptimizer.optimize] p_optimal OptimizerBase.SimpleResult(result=4764.138098143836, method='bisection', errormsg=None, context_dct=None) full_result [ 1.86446414e-11 -8.94069672e-08]\n"
     ]
    },
    {
     "data": {
      "application/vnd.jupyter.widget-view+json": {
       "model_id": "b26feefb304645aba939a215b8424844",
       "version_major": 2,
       "version_minor": 0
      },
      "text/plain": [
       "  0%|          | 0/16 [00:00<?, ?it/s]"
      ]
     },
     "metadata": {},
     "output_type": "display_data"
    },
    {
     "name": "stdout",
     "output_type": "stream",
     "text": [
      "[PairOptimizer.optimize] curves_t WBTC-C599/WETH-6Cc2\n",
      "[PairOptimizer.optimize] p_optimal OptimizerBase.SimpleResult(result=16.25127735725492, method='bisection', errormsg=None, context_dct=None) full_result [-2.74303602e-09  4.45870683e-08]\n",
      "[PairOptimizer.optimize] curves_t WBTC-C599/WETH-6Cc2\n",
      "[PairOptimizer.optimize] p_optimal OptimizerBase.SimpleResult(result=16.251277357233576, method='bisection', errormsg=None, context_dct=None) full_result [-1.81454762e-09  2.64954920e-08]\n",
      "[PairOptimizer.optimize] curves_t WBTC-C599/WETH-6Cc2\n",
      "[PairOptimizer.optimize] p_optimal OptimizerBase.SimpleResult(result=16.25127735724241, method='bisection', errormsg=None, context_dct=None) full_result [ 3.66344466e-09 -5.94882295e-08]\n",
      "[PairOptimizer.optimize] curves_t WBTC-C599/WETH-6Cc2\n",
      "[PairOptimizer.optimize] p_optimal OptimizerBase.SimpleResult(result=16.25127735725219, method='bisection', errormsg=None, context_dct=None) full_result [-1.34605216e-09  2.18860805e-08]\n",
      "[PairOptimizer.optimize] curves_t WBTC-C599/WETH-6Cc2\n",
      "[PairOptimizer.optimize] p_optimal OptimizerBase.SimpleResult(result=16.251277357247133, method='bisection', errormsg=None, context_dct=None) full_result [ 1.24418875e-09 -2.01980583e-08]\n",
      "[PairOptimizer.optimize] curves_t WBTC-C599/WETH-6Cc2\n",
      "[PairOptimizer.optimize] p_optimal OptimizerBase.SimpleResult(result=16.251277357247766, method='bisection', errormsg=None, context_dct=None) full_result [ 9.20408638e-10 -1.49593689e-08]\n",
      "[PairOptimizer.optimize] curves_t WBTC-C599/WETH-6Cc2\n",
      "[PairOptimizer.optimize] p_optimal OptimizerBase.SimpleResult(result=16.251275647061092, method='bisection', errormsg=None, context_dct=None) full_result [-3.39941160e-08 -6.70070222e-09]\n",
      "[PairOptimizer.optimize] curves_t WBTC-C599/WETH-6Cc2\n",
      "[PairOptimizer.optimize] p_optimal OptimizerBase.SimpleResult(result=16.25127735724613, method='bisection', errormsg=None, context_dct=None) full_result [ 1.75714376e-09 -2.85217538e-08]\n",
      "[PairOptimizer.optimize] curves_t WBTC-C599/WETH-6Cc2\n",
      "[PairOptimizer.optimize] p_optimal OptimizerBase.SimpleResult(result=16.262500335191948, method='bisection', errormsg=None, context_dct=None) full_result [-7.50151230e-09  1.22003257e-07]\n",
      "[PairOptimizer.optimize] curves_t WBTC-C599/WETH-6Cc2\n",
      "[PairOptimizer.optimize] p_optimal OptimizerBase.SimpleResult(result=16.262500335181386, method='bisection', errormsg=None, context_dct=None) full_result [-4.99414110e-09  7.80092719e-08]\n",
      "[PairOptimizer.optimize] curves_t WBTC-C599/WETH-6Cc2\n",
      "[PairOptimizer.optimize] p_optimal OptimizerBase.SimpleResult(result=16.262500335186033, method='bisection', errormsg=None, context_dct=None) full_result [-4.94765118e-10  7.91624188e-09]\n",
      "[PairOptimizer.optimize] curves_t WBTC-C599/WETH-6Cc2\n",
      "[PairOptimizer.optimize] p_optimal OptimizerBase.SimpleResult(result=16.26250033519087, method='bisection', errormsg=None, context_dct=None) full_result [-6.22821972e-09  1.01281330e-07]\n",
      "[PairOptimizer.optimize] curves_t WBTC-C599/WETH-6Cc2\n",
      "[PairOptimizer.optimize] p_optimal OptimizerBase.SimpleResult(result=16.262500335190833, method='bisection', errormsg=None, context_dct=None) full_result [-6.17728801e-09  1.00466423e-07]\n",
      "[PairOptimizer.optimize] curves_t WBTC-C599/WETH-6Cc2\n",
      "[PairOptimizer.optimize] p_optimal OptimizerBase.SimpleResult(result=16.262500335185337, method='bisection', errormsg=None, context_dct=None) full_result [ 3.34694050e-10 -5.47152013e-09]\n",
      "[PairOptimizer.optimize] curves_t WBTC-C599/WETH-6Cc2\n",
      "[PairOptimizer.optimize] p_optimal OptimizerBase.SimpleResult(result=16.26249310669788, method='bisection', errormsg=None, context_dct=None) full_result [-3.29367515e-06 -1.28529791e-08]\n",
      "[PairOptimizer.optimize] curves_t WBTC-C599/WETH-6Cc2\n",
      "[PairOptimizer.optimize] p_optimal OptimizerBase.SimpleResult(result=16.262500335189472, method='bisection', errormsg=None, context_dct=None) full_result [-4.57657734e-09  7.43893906e-08]\n"
     ]
    },
    {
     "data": {
      "application/vnd.jupyter.widget-view+json": {
       "model_id": "e17fca98240849f4ac9fdac772ecc153",
       "version_major": 2,
       "version_minor": 0
      },
      "text/plain": [
       "  0%|          | 0/39 [00:00<?, ?it/s]"
      ]
     },
     "metadata": {},
     "output_type": "display_data"
    },
    {
     "name": "stdout",
     "output_type": "stream",
     "text": [
      "[PairOptimizer.optimize] curves_t WETH-6Cc2/USDT-1ec7\n",
      "[PairOptimizer.optimize] p_optimal OptimizerBase.SimpleResult(result=1890.3902599636826, method='bisection', errormsg=None, context_dct=None) full_result [ 3.43752617e-08 -6.91041350e-05]\n",
      "[PairOptimizer.optimize] curves_t WETH-6Cc2/USDT-1ec7\n",
      "[PairOptimizer.optimize] p_optimal OptimizerBase.SimpleResult(result=1890.3902598796512, method='bisection', errormsg=None, context_dct=None) full_result [ 4.23751771e-08 -8.02278519e-05]\n",
      "[PairOptimizer.optimize] curves_t WETH-6Cc2/USDT-1ec7\n",
      "[PairOptimizer.optimize] p_optimal OptimizerBase.SimpleResult(result=1890.3902598804298, method='bisection', errormsg=None, context_dct=None) full_result [-2.00816430e-08  3.79085541e-05]\n",
      "[PairOptimizer.optimize] curves_t WETH-6Cc2/USDT-1ec7\n",
      "[PairOptimizer.optimize] p_optimal OptimizerBase.SimpleResult(result=1890.3902598796158, method='bisection', errormsg=None, context_dct=None) full_result [ 4.52273525e-08 -8.54730606e-05]\n",
      "[PairOptimizer.optimize] curves_t WETH-6Cc2/USDT-1ec7\n",
      "[PairOptimizer.optimize] p_optimal OptimizerBase.SimpleResult(result=1890.3902598801792, method='bisection', errormsg=None, context_dct=None) full_result [0. 0.]\n",
      "[PairOptimizer.optimize] curves_t WETH-6Cc2/USDT-1ec7\n",
      "[PairOptimizer.optimize] p_optimal OptimizerBase.SimpleResult(result=1890.3902598800487, method='bisection', errormsg=None, context_dct=None) full_result [ 1.05355866e-08 -1.99079514e-05]\n",
      "[PairOptimizer.optimize] curves_t WETH-6Cc2/USDT-1ec7\n",
      "[PairOptimizer.optimize] p_optimal OptimizerBase.SimpleResult(result=1890.3902598806571, method='bisection', errormsg=None, context_dct=None) full_result [-3.83006409e-08  7.23600388e-05]\n",
      "[PairOptimizer.optimize] curves_t WETH-6Cc2/USDT-1ec7\n",
      "[PairOptimizer.optimize] p_optimal OptimizerBase.SimpleResult(result=1890.3902700162016, method='bisection', errormsg=None, context_dct=None) full_result [-4.18058548e-08 -2.80974927e-02]\n",
      "[PairOptimizer.optimize] curves_t WETH-6Cc2/USDT-1ec7\n",
      "[PairOptimizer.optimize] p_optimal OptimizerBase.SimpleResult(result=1890.390259880636, method='bisection', errormsg=None, context_dct=None) full_result [-3.66126187e-08  6.92605972e-05]\n",
      "[PairOptimizer.optimize] curves_t WETH-6Cc2/USDT-1ec7\n",
      "[PairOptimizer.optimize] p_optimal OptimizerBase.SimpleResult(result=1890.3902598796271, method='bisection', errormsg=None, context_dct=None) full_result [ 4.43542376e-08 -8.38041306e-05]\n",
      "[PairOptimizer.optimize] curves_t WETH-6Cc2/USDT-1ec7\n",
      "[PairOptimizer.optimize] p_optimal OptimizerBase.SimpleResult(result=1890.3902598805803, method='bisection', errormsg=None, context_dct=None) full_result [-3.21888365e-08  6.07967377e-05]\n",
      "[PairOptimizer.optimize] curves_t WETH-6Cc2/USDT-1ec7\n",
      "[PairOptimizer.optimize] p_optimal OptimizerBase.SimpleResult(result=1890.3902598803247, method='bisection', errormsg=None, context_dct=None) full_result [-1.16415322e-08  2.19345093e-05]\n",
      "[PairOptimizer.optimize] curves_t WETH-6Cc2/USDT-1ec7\n",
      "[PairOptimizer.optimize] p_optimal OptimizerBase.SimpleResult(result=1890.3902598804148, method='bisection', errormsg=None, context_dct=None) full_result [-1.88592821e-08  3.56435776e-05]\n",
      "[PairOptimizer.optimize] curves_t WETH-6Cc2/USDT-1ec7\n",
      "[PairOptimizer.optimize] p_optimal OptimizerBase.SimpleResult(result=1889.145889168184, method='bisection', errormsg=None, context_dct=None) full_result [-1.00080797e-08  6.41494989e-06]\n",
      "[PairOptimizer.optimize] curves_t WETH-6Cc2/USDT-1ec7\n",
      "[PairOptimizer.optimize] p_optimal OptimizerBase.SimpleResult(result=1889.145888876507, method='bisection', errormsg=None, context_dct=None) full_result [-1.26019586e-08  2.38120556e-05]\n",
      "[PairOptimizer.optimize] curves_t WETH-6Cc2/USDT-1ec7\n",
      "[PairOptimizer.optimize] p_optimal OptimizerBase.SimpleResult(result=1889.1458888757393, method='bisection', errormsg=None, context_dct=None) full_result [ 5.09317033e-09 -9.62615013e-06]\n",
      "[PairOptimizer.optimize] curves_t WETH-6Cc2/USDT-1ec7\n",
      "[PairOptimizer.optimize] p_optimal OptimizerBase.SimpleResult(result=1889.1458888758934, method='bisection', errormsg=None, context_dct=None) full_result [ 1.54250301e-09 -2.92062759e-06]\n",
      "[PairOptimizer.optimize] curves_t WETH-6Cc2/USDT-1ec7\n",
      "[PairOptimizer.optimize] p_optimal OptimizerBase.SimpleResult(result=1889.1458888762731, method='bisection', errormsg=None, context_dct=None) full_result [-7.21774995e-09  1.36494637e-05]\n",
      "[PairOptimizer.optimize] curves_t WETH-6Cc2/USDT-1ec7\n",
      "[PairOptimizer.optimize] p_optimal OptimizerBase.SimpleResult(result=1889.1458888758175, method='bisection', errormsg=None, context_dct=None) full_result [ 3.30328476e-09 -6.22868538e-06]\n",
      "[PairOptimizer.optimize] curves_t WETH-6Cc2/USDT-1ec7\n",
      "[PairOptimizer.optimize] p_optimal OptimizerBase.SimpleResult(result=1889.145888875436, method='bisection', errormsg=None, context_dct=None) full_result [ 1.21071935e-08 -2.28583813e-05]\n",
      "[PairOptimizer.optimize] curves_t WETH-6Cc2/USDT-1ec7\n",
      "[PairOptimizer.optimize] p_optimal OptimizerBase.SimpleResult(result=1889.145924112016, method='bisection', errormsg=None, context_dct=None) full_result [ 9.60606172e-09 -2.92068245e-02]\n",
      "[PairOptimizer.optimize] curves_t WETH-6Cc2/USDT-1ec7\n",
      "[PairOptimizer.optimize] p_optimal OptimizerBase.SimpleResult(result=1889.1458888762695, method='bisection', errormsg=None, context_dct=None) full_result [-7.13043846e-09  1.34706497e-05]\n",
      "[PairOptimizer.optimize] curves_t WETH-6Cc2/USDT-1ec7\n",
      "[PairOptimizer.optimize] p_optimal OptimizerBase.SimpleResult(result=1889.1458888752281, method='bisection', errormsg=None, context_dct=None) full_result [ 1.69093255e-08 -3.19480896e-05]\n",
      "[PairOptimizer.optimize] curves_t WETH-6Cc2/USDT-1ec7\n",
      "[PairOptimizer.optimize] p_optimal OptimizerBase.SimpleResult(result=1889.1458888757306, method='bisection', errormsg=None, context_dct=None) full_result [ 5.29689714e-09 -1.00135803e-05]\n",
      "[PairOptimizer.optimize] curves_t WETH-6Cc2/USDT-1ec7\n",
      "[PairOptimizer.optimize] p_optimal OptimizerBase.SimpleResult(result=1889.1458888758277, method='bisection', errormsg=None, context_dct=None) full_result [ 3.05590220e-09 -5.78165054e-06]\n",
      "[PairOptimizer.optimize] curves_t WETH-6Cc2/USDT-1ec7\n",
      "[PairOptimizer.optimize] p_optimal OptimizerBase.SimpleResult(result=1889.1458888764319, method='bisection', errormsg=None, context_dct=None) full_result [-1.08848326e-08  2.05636024e-05]\n",
      "[PairOptimizer.optimize] curves_t WETH-6Cc2/USDT-1ec7\n",
      "[PairOptimizer.optimize] p_optimal OptimizerBase.SimpleResult(result=1881.7106092876686, method='bisection', errormsg=None, context_dct=None) full_result [-2.40470399e-09 -5.80400229e-05]\n",
      "[PairOptimizer.optimize] curves_t WETH-6Cc2/USDT-1ec7\n",
      "[PairOptimizer.optimize] p_optimal OptimizerBase.SimpleResult(result=1881.710608190668, method='bisection', errormsg=None, context_dct=None) full_result [ 3.57977115e-09 -6.74277544e-06]\n",
      "[PairOptimizer.optimize] curves_t WETH-6Cc2/USDT-1ec7\n",
      "[PairOptimizer.optimize] p_optimal OptimizerBase.SimpleResult(result=1881.7106081911547, method='bisection', errormsg=None, context_dct=None) full_result [ 5.85714588e-10 -1.11013651e-06]\n",
      "[PairOptimizer.optimize] curves_t WETH-6Cc2/USDT-1ec7\n",
      "[PairOptimizer.optimize] p_optimal OptimizerBase.SimpleResult(result=1881.7106081913296, method='bisection', errormsg=None, context_dct=None) full_result [-4.87489160e-10  9.16421413e-07]\n",
      "[PairOptimizer.optimize] curves_t WETH-6Cc2/USDT-1ec7\n",
      "[PairOptimizer.optimize] p_optimal OptimizerBase.SimpleResult(result=1881.710608190739, method='bisection', errormsg=None, context_dct=None) full_result [ 3.13957571e-09 -5.91576099e-06]\n",
      "[PairOptimizer.optimize] curves_t WETH-6Cc2/USDT-1ec7\n",
      "[PairOptimizer.optimize] p_optimal OptimizerBase.SimpleResult(result=1881.7106081908473, method='bisection', errormsg=None, context_dct=None) full_result [ 2.47746357e-09 -4.66406345e-06]\n",
      "[PairOptimizer.optimize] curves_t WETH-6Cc2/USDT-1ec7\n",
      "[PairOptimizer.optimize] p_optimal OptimizerBase.SimpleResult(result=1881.7106081914208, method='bisection', errormsg=None, context_dct=None) full_result [-1.04773790e-09  1.97440386e-06]\n",
      "[PairOptimizer.optimize] curves_t WETH-6Cc2/USDT-1ec7\n",
      "[PairOptimizer.optimize] p_optimal OptimizerBase.SimpleResult(result=1881.710740546815, method='bisection', errormsg=None, context_dct=None) full_result [ 1.62797420e-09 -3.52394553e-02]\n",
      "[PairOptimizer.optimize] curves_t WETH-6Cc2/USDT-1ec7\n",
      "[PairOptimizer.optimize] p_optimal OptimizerBase.SimpleResult(result=1881.7106081909023, method='bisection', errormsg=None, context_dct=None) full_result [ 2.13549356e-09 -4.02331352e-06]\n",
      "[PairOptimizer.optimize] curves_t WETH-6Cc2/USDT-1ec7\n",
      "[PairOptimizer.optimize] p_optimal OptimizerBase.SimpleResult(result=1881.7106081915688, method='bisection', errormsg=None, context_dct=None) full_result [-1.95723260e-09  3.68058681e-06]\n",
      "[PairOptimizer.optimize] curves_t WETH-6Cc2/USDT-1ec7\n",
      "[PairOptimizer.optimize] p_optimal OptimizerBase.SimpleResult(result=1881.7106081915645, method='bisection', errormsg=None, context_dct=None) full_result [-1.93176675e-09  3.63588333e-06]\n",
      "[PairOptimizer.optimize] curves_t WETH-6Cc2/USDT-1ec7\n",
      "[PairOptimizer.optimize] p_optimal OptimizerBase.SimpleResult(result=1881.7106081915751, method='bisection', errormsg=None, context_dct=None) full_result [-1.99725037e-09  3.75509262e-06]\n",
      "[PairOptimizer.optimize] curves_t WETH-6Cc2/USDT-1ec7\n",
      "[PairOptimizer.optimize] p_optimal OptimizerBase.SimpleResult(result=1881.7106081909228, method='bisection', errormsg=None, context_dct=None) full_result [ 2.01180228e-09 -3.78489494e-06]\n"
     ]
    },
    {
     "data": {
      "application/vnd.jupyter.widget-view+json": {
       "model_id": "c03f2286676b448faad4db89a4bb490b",
       "version_major": 2,
       "version_minor": 0
      },
      "text/plain": [
       "  0%|          | 0/18 [00:00<?, ?it/s]"
      ]
     },
     "metadata": {},
     "output_type": "display_data"
    },
    {
     "name": "stdout",
     "output_type": "stream",
     "text": [
      "[PairOptimizer.optimize] curves_t WETH-6Cc2/DAI-1d0F\n",
      "[PairOptimizer.optimize] p_optimal OptimizerBase.SimpleResult(result=1889.851635528572, method='bisection', errormsg=None, context_dct=None) full_result [-5.12227416e-09  9.67085361e-06]\n",
      "[PairOptimizer.optimize] curves_t WETH-6Cc2/DAI-1d0F\n",
      "[PairOptimizer.optimize] p_optimal OptimizerBase.SimpleResult(result=1889.8516355283218, method='bisection', errormsg=None, context_dct=None) full_result [-2.50292942e-09  4.73856926e-06]\n",
      "[PairOptimizer.optimize] curves_t WETH-6Cc2/DAI-1d0F\n",
      "[PairOptimizer.optimize] p_optimal OptimizerBase.SimpleResult(result=1889.8516355280997, method='bisection', errormsg=None, context_dct=None) full_result [-1.74622983e-10  3.42726707e-07]\n",
      "[PairOptimizer.optimize] curves_t WETH-6Cc2/DAI-1d0F\n",
      "[PairOptimizer.optimize] p_optimal OptimizerBase.SimpleResult(result=1889.8516355278348, method='bisection', errormsg=None, context_dct=None) full_result [ 2.59751687e-09 -4.91738319e-06]\n",
      "[PairOptimizer.optimize] curves_t WETH-6Cc2/DAI-1d0F\n",
      "[PairOptimizer.optimize] p_optimal OptimizerBase.SimpleResult(result=1889.8516355280783, method='bisection', errormsg=None, context_dct=None) full_result [ 5.09317023e-11 -8.94069672e-08]\n",
      "[PairOptimizer.optimize] curves_t WETH-6Cc2/DAI-1d0F\n",
      "[PairOptimizer.optimize] p_optimal OptimizerBase.SimpleResult(result=1889.8516355275206, method='bisection', errormsg=None, context_dct=None) full_result [ 5.88624971e-09 -1.11311674e-05]\n",
      "[PairOptimizer.optimize] curves_t WETH-6Cc2/DAI-1d0F\n",
      "[PairOptimizer.optimize] p_optimal OptimizerBase.SimpleResult(result=1889.8516355279294, method='bisection', errormsg=None, context_dct=None) full_result [ 1.60798663e-09 -3.03983688e-06]\n",
      "[PairOptimizer.optimize] curves_t WETH-6Cc2/DAI-1d0F\n",
      "[PairOptimizer.optimize] p_optimal OptimizerBase.SimpleResult(result=1889.8516355281563, method='bisection', errormsg=None, context_dct=None) full_result [-7.71251507e-10  1.46031380e-06]\n",
      "[PairOptimizer.optimize] curves_t WETH-6Cc2/DAI-1d0F\n",
      "[PairOptimizer.optimize] p_optimal OptimizerBase.SimpleResult(result=1889.8516355283907, method='bisection', errormsg=None, context_dct=None) full_result [-3.23052518e-09  6.09457493e-06]\n",
      "[PairOptimizer.optimize] curves_t WETH-6Cc2/DAI-1d0F\n",
      "[PairOptimizer.optimize] p_optimal OptimizerBase.SimpleResult(result=1889.2342508777206, method='bisection', errormsg=None, context_dct=None) full_result [ 5.60248736e-10 -1.05053186e-06]\n",
      "[PairOptimizer.optimize] curves_t WETH-6Cc2/DAI-1d0F\n",
      "[PairOptimizer.optimize] p_optimal OptimizerBase.SimpleResult(result=1889.2342508777572, method='bisection', errormsg=None, context_dct=None) full_result [ 2.40106601e-10 -4.47034836e-07]\n",
      "[PairOptimizer.optimize] curves_t WETH-6Cc2/DAI-1d0F\n",
      "[PairOptimizer.optimize] p_optimal OptimizerBase.SimpleResult(result=1889.2342508777629, method='bisection', errormsg=None, context_dct=None) full_result [ 1.89174898e-10 -3.57627869e-07]\n",
      "[PairOptimizer.optimize] curves_t WETH-6Cc2/DAI-1d0F\n",
      "[PairOptimizer.optimize] p_optimal OptimizerBase.SimpleResult(result=1889.234250877536, method='bisection', errormsg=None, context_dct=None) full_result [ 2.15004547e-09 -4.06056643e-06]\n",
      "[PairOptimizer.optimize] curves_t WETH-6Cc2/DAI-1d0F\n",
      "[PairOptimizer.optimize] p_optimal OptimizerBase.SimpleResult(result=1889.234250876973, method='bisection', errormsg=None, context_dct=None) full_result [ 7.02129910e-09 -1.32620335e-05]\n",
      "[PairOptimizer.optimize] curves_t WETH-6Cc2/DAI-1d0F\n",
      "[PairOptimizer.optimize] p_optimal OptimizerBase.SimpleResult(result=1889.2342508772217, method='bisection', errormsg=None, context_dct=None) full_result [ 4.87125362e-09 -9.19401646e-06]\n",
      "[PairOptimizer.optimize] curves_t WETH-6Cc2/DAI-1d0F\n",
      "[PairOptimizer.optimize] p_optimal OptimizerBase.SimpleResult(result=1889.23425087766, method='bisection', errormsg=None, context_dct=None) full_result [ 1.07684173e-09 -2.03400850e-06]\n",
      "[PairOptimizer.optimize] curves_t WETH-6Cc2/DAI-1d0F\n",
      "[PairOptimizer.optimize] p_optimal OptimizerBase.SimpleResult(result=1889.234250877545, method='bisection', errormsg=None, context_dct=None) full_result [ 2.07364792e-09 -3.91155481e-06]\n",
      "[PairOptimizer.optimize] curves_t WETH-6Cc2/DAI-1d0F\n",
      "[PairOptimizer.optimize] p_optimal OptimizerBase.SimpleResult(result=1889.2342508780198, method='bisection', errormsg=None, context_dct=None) full_result [-2.02635420e-09  3.82959843e-06]\n"
     ]
    },
    {
     "data": {
      "application/vnd.jupyter.widget-view+json": {
       "model_id": "cf07a9b01e58498cadb4099f4b9236d2",
       "version_major": 2,
       "version_minor": 0
      },
      "text/plain": [
       "0it [00:00, ?it/s]"
      ]
     },
     "metadata": {},
     "output_type": "display_data"
    },
    {
     "data": {
      "application/vnd.jupyter.widget-view+json": {
       "model_id": "730dd25e18ba4adaad34c704b64a311b",
       "version_major": 2,
       "version_minor": 0
      },
      "text/plain": [
       "  0%|          | 0/2 [00:00<?, ?it/s]"
      ]
     },
     "metadata": {},
     "output_type": "display_data"
    },
    {
     "name": "stdout",
     "output_type": "stream",
     "text": [
      "[PairOptimizer.optimize] curves_t LINK-86CA/WETH-6Cc2\n",
      "[PairOptimizer.optimize] p_optimal OptimizerBase.SimpleResult(result=0.0033128000163160634, method='bisection', errormsg=None, context_dct=None) full_result [ 3.74391675e-06 -1.24127837e-08]\n",
      "[PairOptimizer.optimize] curves_t LINK-86CA/WETH-6Cc2\n",
      "[PairOptimizer.optimize] p_optimal OptimizerBase.SimpleResult(result=0.0033127999417103446, method='bisection', errormsg=None, context_dct=None) full_result [-2.84612179e-06 -2.81119865e-05]\n"
     ]
    },
    {
     "data": {
      "application/vnd.jupyter.widget-view+json": {
       "model_id": "fec83b3eb5b74de380585415b027a859",
       "version_major": 2,
       "version_minor": 0
      },
      "text/plain": [
       "  0%|          | 0/2 [00:00<?, ?it/s]"
      ]
     },
     "metadata": {},
     "output_type": "display_data"
    },
    {
     "name": "stdout",
     "output_type": "stream",
     "text": [
      "[PairOptimizer.optimize] curves_t LINK-86CA/USDT-1ec7\n",
      "[PairOptimizer.optimize] p_optimal OptimizerBase.SimpleResult(result=6.19811711141325, method='bisection', errormsg=None, context_dct=None) full_result [ 6.92898627e-10 -8.85219641e-03]\n",
      "[PairOptimizer.optimize] curves_t LINK-86CA/USDT-1ec7\n",
      "[PairOptimizer.optimize] p_optimal OptimizerBase.SimpleResult(result=6.198055572670811, method='bisection', errormsg=None, context_dct=None) full_result [-4.04725142e-10  2.51020538e-09]\n"
     ]
    },
    {
     "data": {
      "application/vnd.jupyter.widget-view+json": {
       "model_id": "ba8107eae6714611b6246b0045c5d975",
       "version_major": 2,
       "version_minor": 0
      },
      "text/plain": [
       "0it [00:00, ?it/s]"
      ]
     },
     "metadata": {},
     "output_type": "display_data"
    },
    {
     "data": {
      "application/vnd.jupyter.widget-view+json": {
       "model_id": "f9019f67013d419ca64cbbd1ae526496",
       "version_major": 2,
       "version_minor": 0
      },
      "text/plain": [
       "0it [00:00, ?it/s]"
      ]
     },
     "metadata": {},
     "output_type": "display_data"
    },
    {
     "data": {
      "application/vnd.jupyter.widget-view+json": {
       "model_id": "7c9913ffca76482a8ff7fe9583bbaecc",
       "version_major": 2,
       "version_minor": 0
      },
      "text/plain": [
       "0it [00:00, ?it/s]"
      ]
     },
     "metadata": {},
     "output_type": "display_data"
    },
    {
     "data": {
      "application/vnd.jupyter.widget-view+json": {
       "model_id": "052729b2e7614fa29f735db2769a0326",
       "version_major": 2,
       "version_minor": 0
      },
      "text/plain": [
       "0it [00:00, ?it/s]"
      ]
     },
     "metadata": {},
     "output_type": "display_data"
    },
    {
     "data": {
      "application/vnd.jupyter.widget-view+json": {
       "model_id": "d531d7a2d85c4b6a9efa8373cefa97eb",
       "version_major": 2,
       "version_minor": 0
      },
      "text/plain": [
       "0it [00:00, ?it/s]"
      ]
     },
     "metadata": {},
     "output_type": "display_data"
    },
    {
     "data": {
      "application/vnd.jupyter.widget-view+json": {
       "model_id": "e9954f50ac40454397388e63fec2d6d6",
       "version_major": 2,
       "version_minor": 0
      },
      "text/plain": [
       "  0%|          | 0/2 [00:00<?, ?it/s]"
      ]
     },
     "metadata": {},
     "output_type": "display_data"
    },
    {
     "name": "stdout",
     "output_type": "stream",
     "text": [
      "[PairOptimizer.optimize] curves_t CRV-cd52/USDC-eB48\n",
      "[PairOptimizer.optimize] p_optimal OptimizerBase.SimpleResult(result=0.7931937487429332, method='bisection', errormsg=None, context_dct=None) full_result [-2.58442014e-08 -1.90724513e-01]\n",
      "[PairOptimizer.optimize] curves_t CRV-cd52/USDC-eB48\n",
      "[PairOptimizer.optimize] p_optimal OptimizerBase.SimpleResult(result=0.7931903130686275, method='bisection', errormsg=None, context_dct=None) full_result [-2.30502337e-08  1.81607902e-08]\n"
     ]
    },
    {
     "data": {
      "application/vnd.jupyter.widget-view+json": {
       "model_id": "92a51edae8e045ada69a874bdea05e34",
       "version_major": 2,
       "version_minor": 0
      },
      "text/plain": [
       "  0%|          | 0/18 [00:00<?, ?it/s]"
      ]
     },
     "metadata": {},
     "output_type": "display_data"
    },
    {
     "name": "stdout",
     "output_type": "stream",
     "text": [
      "[PairOptimizer.optimize] curves_t WETH-6Cc2/DAI-1d0F\n",
      "[PairOptimizer.optimize] p_optimal OptimizerBase.SimpleResult(result=1889.851635528572, method='bisection', errormsg=None, context_dct=None) full_result [-5.12227416e-09  9.67085361e-06]\n",
      "[PairOptimizer.optimize] curves_t WETH-6Cc2/DAI-1d0F\n",
      "[PairOptimizer.optimize] p_optimal OptimizerBase.SimpleResult(result=1889.8516355283218, method='bisection', errormsg=None, context_dct=None) full_result [-2.50292942e-09  4.73856926e-06]\n",
      "[PairOptimizer.optimize] curves_t WETH-6Cc2/DAI-1d0F\n",
      "[PairOptimizer.optimize] p_optimal OptimizerBase.SimpleResult(result=1889.8516355280997, method='bisection', errormsg=None, context_dct=None) full_result [-1.74622983e-10  3.42726707e-07]\n",
      "[PairOptimizer.optimize] curves_t WETH-6Cc2/DAI-1d0F\n",
      "[PairOptimizer.optimize] p_optimal OptimizerBase.SimpleResult(result=1889.8516355278348, method='bisection', errormsg=None, context_dct=None) full_result [ 2.59751687e-09 -4.91738319e-06]\n",
      "[PairOptimizer.optimize] curves_t WETH-6Cc2/DAI-1d0F\n",
      "[PairOptimizer.optimize] p_optimal OptimizerBase.SimpleResult(result=1889.8516355280783, method='bisection', errormsg=None, context_dct=None) full_result [ 5.09317023e-11 -8.94069672e-08]\n",
      "[PairOptimizer.optimize] curves_t WETH-6Cc2/DAI-1d0F\n",
      "[PairOptimizer.optimize] p_optimal OptimizerBase.SimpleResult(result=1889.8516355275206, method='bisection', errormsg=None, context_dct=None) full_result [ 5.88624971e-09 -1.11311674e-05]\n",
      "[PairOptimizer.optimize] curves_t WETH-6Cc2/DAI-1d0F\n",
      "[PairOptimizer.optimize] p_optimal OptimizerBase.SimpleResult(result=1889.8516355279294, method='bisection', errormsg=None, context_dct=None) full_result [ 1.60798663e-09 -3.03983688e-06]\n",
      "[PairOptimizer.optimize] curves_t WETH-6Cc2/DAI-1d0F\n",
      "[PairOptimizer.optimize] p_optimal OptimizerBase.SimpleResult(result=1889.8516355281563, method='bisection', errormsg=None, context_dct=None) full_result [-7.71251507e-10  1.46031380e-06]\n",
      "[PairOptimizer.optimize] curves_t WETH-6Cc2/DAI-1d0F\n",
      "[PairOptimizer.optimize] p_optimal OptimizerBase.SimpleResult(result=1889.8516355283907, method='bisection', errormsg=None, context_dct=None) full_result [-3.23052518e-09  6.09457493e-06]\n",
      "[PairOptimizer.optimize] curves_t WETH-6Cc2/DAI-1d0F\n",
      "[PairOptimizer.optimize] p_optimal OptimizerBase.SimpleResult(result=1889.2342508777206, method='bisection', errormsg=None, context_dct=None) full_result [ 5.60248736e-10 -1.05053186e-06]\n",
      "[PairOptimizer.optimize] curves_t WETH-6Cc2/DAI-1d0F\n",
      "[PairOptimizer.optimize] p_optimal OptimizerBase.SimpleResult(result=1889.2342508777572, method='bisection', errormsg=None, context_dct=None) full_result [ 2.40106601e-10 -4.47034836e-07]\n",
      "[PairOptimizer.optimize] curves_t WETH-6Cc2/DAI-1d0F\n",
      "[PairOptimizer.optimize] p_optimal OptimizerBase.SimpleResult(result=1889.2342508777629, method='bisection', errormsg=None, context_dct=None) full_result [ 1.89174898e-10 -3.57627869e-07]\n",
      "[PairOptimizer.optimize] curves_t WETH-6Cc2/DAI-1d0F\n",
      "[PairOptimizer.optimize] p_optimal OptimizerBase.SimpleResult(result=1889.234250877536, method='bisection', errormsg=None, context_dct=None) full_result [ 2.15004547e-09 -4.06056643e-06]\n",
      "[PairOptimizer.optimize] curves_t WETH-6Cc2/DAI-1d0F\n",
      "[PairOptimizer.optimize] p_optimal OptimizerBase.SimpleResult(result=1889.234250876973, method='bisection', errormsg=None, context_dct=None) full_result [ 7.02129910e-09 -1.32620335e-05]\n",
      "[PairOptimizer.optimize] curves_t WETH-6Cc2/DAI-1d0F\n",
      "[PairOptimizer.optimize] p_optimal OptimizerBase.SimpleResult(result=1889.2342508772217, method='bisection', errormsg=None, context_dct=None) full_result [ 4.87125362e-09 -9.19401646e-06]\n",
      "[PairOptimizer.optimize] curves_t WETH-6Cc2/DAI-1d0F\n",
      "[PairOptimizer.optimize] p_optimal OptimizerBase.SimpleResult(result=1889.23425087766, method='bisection', errormsg=None, context_dct=None) full_result [ 1.07684173e-09 -2.03400850e-06]\n",
      "[PairOptimizer.optimize] curves_t WETH-6Cc2/DAI-1d0F\n",
      "[PairOptimizer.optimize] p_optimal OptimizerBase.SimpleResult(result=1889.234250877545, method='bisection', errormsg=None, context_dct=None) full_result [ 2.07364792e-09 -3.91155481e-06]\n",
      "[PairOptimizer.optimize] curves_t WETH-6Cc2/DAI-1d0F\n",
      "[PairOptimizer.optimize] p_optimal OptimizerBase.SimpleResult(result=1889.2342508780198, method='bisection', errormsg=None, context_dct=None) full_result [-2.02635420e-09  3.82959843e-06]\n"
     ]
    },
    {
     "data": {
      "application/vnd.jupyter.widget-view+json": {
       "model_id": "e93950084ba94752ae2c1f4b37586e9e",
       "version_major": 2,
       "version_minor": 0
      },
      "text/plain": [
       "  0%|          | 0/4 [00:00<?, ?it/s]"
      ]
     },
     "metadata": {},
     "output_type": "display_data"
    },
    {
     "name": "stdout",
     "output_type": "stream",
     "text": [
      "[PairOptimizer.optimize] curves_t DAI-1d0F/USDC-eB48\n",
      "[PairOptimizer.optimize] p_optimal OptimizerBase.SimpleResult(result=1.0003813756302735, method='bisection', errormsg=None, context_dct=None) full_result [ 0.00042725 -0.00042725]\n",
      "[PairOptimizer.optimize] curves_t DAI-1d0F/USDC-eB48\n",
      "[PairOptimizer.optimize] p_optimal OptimizerBase.SimpleResult(result=1.000381375630044, method='bisection', errormsg=None, context_dct=None) full_result [ 0.00753784 -0.00754547]\n",
      "[PairOptimizer.optimize] curves_t DAI-1d0F/USDC-eB48\n",
      "[PairOptimizer.optimize] p_optimal OptimizerBase.SimpleResult(result=0.999979963573878, method='bisection', errormsg=None, context_dct=None) full_result [ 0.02416992 -0.02410889]\n",
      "[PairOptimizer.optimize] curves_t DAI-1d0F/USDC-eB48\n",
      "[PairOptimizer.optimize] p_optimal OptimizerBase.SimpleResult(result=0.999979963573925, method='bisection', errormsg=None, context_dct=None) full_result [ 0.01159668 -0.01153564]\n"
     ]
    },
    {
     "data": {
      "application/vnd.jupyter.widget-view+json": {
       "model_id": "28ee84b384ba4be589a360863a4e0ec7",
       "version_major": 2,
       "version_minor": 0
      },
      "text/plain": [
       "  0%|          | 0/4 [00:00<?, ?it/s]"
      ]
     },
     "metadata": {},
     "output_type": "display_data"
    },
    {
     "name": "stdout",
     "output_type": "stream",
     "text": [
      "[PairOptimizer.optimize] curves_t DAI-1d0F/USDT-1ec7\n",
      "[PairOptimizer.optimize] p_optimal OptimizerBase.SimpleResult(result=0.9998810288348383, method='bisection', errormsg=None, context_dct=None) full_result [-0.00010109  0.00010061]\n",
      "[PairOptimizer.optimize] curves_t DAI-1d0F/USDT-1ec7\n",
      "[PairOptimizer.optimize] p_optimal OptimizerBase.SimpleResult(result=0.9998810288345285, method='bisection', errormsg=None, context_dct=None) full_result [ 0.00048351 -0.00048351]\n",
      "[PairOptimizer.optimize] curves_t DAI-1d0F/USDT-1ec7\n",
      "[PairOptimizer.optimize] p_optimal OptimizerBase.SimpleResult(result=1.0000277727934523, method='bisection', errormsg=None, context_dct=None) full_result [-4.46438789e-05  4.47034836e-05]\n",
      "[PairOptimizer.optimize] curves_t DAI-1d0F/USDT-1ec7\n",
      "[PairOptimizer.optimize] p_optimal OptimizerBase.SimpleResult(result=1.000027772793279, method='bisection', errormsg=None, context_dct=None) full_result [-1.69277191e-05  1.69873238e-05]\n"
     ]
    },
    {
     "data": {
      "application/vnd.jupyter.widget-view+json": {
       "model_id": "eed901f964d042618e0a5b0c4a8e164e",
       "version_major": 2,
       "version_minor": 0
      },
      "text/plain": [
       "0it [00:00, ?it/s]"
      ]
     },
     "metadata": {},
     "output_type": "display_data"
    },
    {
     "data": {
      "application/vnd.jupyter.widget-view+json": {
       "model_id": "6d08da01396a456fb1f37b4b6f713309",
       "version_major": 2,
       "version_minor": 0
      },
      "text/plain": [
       "0it [00:00, ?it/s]"
      ]
     },
     "metadata": {},
     "output_type": "display_data"
    },
    {
     "data": {
      "application/vnd.jupyter.widget-view+json": {
       "model_id": "c13dc39989584a809cfbe66f86e6f3b4",
       "version_major": 2,
       "version_minor": 0
      },
      "text/plain": [
       "0it [00:00, ?it/s]"
      ]
     },
     "metadata": {},
     "output_type": "display_data"
    },
    {
     "data": {
      "application/vnd.jupyter.widget-view+json": {
       "model_id": "7b1d89ef28e34e1a901d719e36736123",
       "version_major": 2,
       "version_minor": 0
      },
      "text/plain": [
       "0it [00:00, ?it/s]"
      ]
     },
     "metadata": {},
     "output_type": "display_data"
    },
    {
     "data": {
      "application/vnd.jupyter.widget-view+json": {
       "model_id": "dbf828652cad41f58094940d5c1d99a8",
       "version_major": 2,
       "version_minor": 0
      },
      "text/plain": [
       "0it [00:00, ?it/s]"
      ]
     },
     "metadata": {},
     "output_type": "display_data"
    },
    {
     "data": {
      "application/vnd.jupyter.widget-view+json": {
       "model_id": "81c830adf3214d13bde8852803ed6919",
       "version_major": 2,
       "version_minor": 0
      },
      "text/plain": [
       "0it [00:00, ?it/s]"
      ]
     },
     "metadata": {},
     "output_type": "display_data"
    },
    {
     "data": {
      "application/vnd.jupyter.widget-view+json": {
       "model_id": "00afb952f10a4f5a8cba9879a16cb33d",
       "version_major": 2,
       "version_minor": 0
      },
      "text/plain": [
       "  0%|          | 0/54 [00:00<?, ?it/s]"
      ]
     },
     "metadata": {},
     "output_type": "display_data"
    },
    {
     "name": "stdout",
     "output_type": "stream",
     "text": [
      "[PairOptimizer.optimize] curves_t WETH-6Cc2/USDC-eB48\n",
      "[PairOptimizer.optimize] p_optimal OptimizerBase.SimpleResult(result=1888.9922146301515, method='bisection', errormsg=None, context_dct=None) full_result [-4.74392436e-09  8.94069672e-06]\n",
      "[PairOptimizer.optimize] curves_t WETH-6Cc2/USDC-eB48\n",
      "[PairOptimizer.optimize] p_optimal OptimizerBase.SimpleResult(result=1888.992214629935, method='bisection', errormsg=None, context_dct=None) full_result [ 5.41331246e-09 -1.02519989e-05]\n",
      "[PairOptimizer.optimize] curves_t WETH-6Cc2/USDC-eB48\n",
      "[PairOptimizer.optimize] p_optimal OptimizerBase.SimpleResult(result=1888.9922146308772, method='bisection', errormsg=None, context_dct=None) full_result [-3.87663022e-08  7.32541084e-05]\n",
      "[PairOptimizer.optimize] curves_t WETH-6Cc2/USDC-eB48\n",
      "[PairOptimizer.optimize] p_optimal OptimizerBase.SimpleResult(result=1888.9922146296476, method='bisection', errormsg=None, context_dct=None) full_result [ 1.88883860e-08 -3.56435776e-05]\n",
      "[PairOptimizer.optimize] curves_t WETH-6Cc2/USDC-eB48\n",
      "[PairOptimizer.optimize] p_optimal OptimizerBase.SimpleResult(result=1888.992214630152, method='bisection', errormsg=None, context_dct=None) full_result [-4.74392436e-09  8.94069672e-06]\n",
      "[PairOptimizer.optimize] curves_t WETH-6Cc2/USDC-eB48\n",
      "[PairOptimizer.optimize] p_optimal OptimizerBase.SimpleResult(result=1888.9922146300873, method='bisection', errormsg=None, context_dct=None) full_result [-1.71712600e-09  3.27825546e-06]\n",
      "[PairOptimizer.optimize] curves_t WETH-6Cc2/USDC-eB48\n",
      "[PairOptimizer.optimize] p_optimal OptimizerBase.SimpleResult(result=1888.9922146304884, method='bisection', errormsg=None, context_dct=None) full_result [-2.05182005e-08  3.88026237e-05]\n",
      "[PairOptimizer.optimize] curves_t WETH-6Cc2/USDC-eB48\n",
      "[PairOptimizer.optimize] p_optimal OptimizerBase.SimpleResult(result=1888.9922146299593, method='bisection', errormsg=None, context_dct=None) full_result [ 4.30736691e-09 -8.10623169e-06]\n",
      "[PairOptimizer.optimize] curves_t WETH-6Cc2/USDC-eB48\n",
      "[PairOptimizer.optimize] p_optimal OptimizerBase.SimpleResult(result=1888.992214629823, method='bisection', errormsg=None, context_dct=None) full_result [ 1.06811058e-08 -2.01463699e-05]\n",
      "[PairOptimizer.optimize] curves_t WETH-6Cc2/USDC-eB48\n",
      "[PairOptimizer.optimize] p_optimal OptimizerBase.SimpleResult(result=1888.9922146295216, method='bisection', errormsg=None, context_dct=None) full_result [ 2.48255674e-08 -4.68492508e-05]\n",
      "[PairOptimizer.optimize] curves_t WETH-6Cc2/USDC-eB48\n",
      "[PairOptimizer.optimize] p_optimal OptimizerBase.SimpleResult(result=1888.992214630285, method='bisection', errormsg=None, context_dct=None) full_result [-1.09721441e-08  2.07424164e-05]\n",
      "[PairOptimizer.optimize] curves_t WETH-6Cc2/USDC-eB48\n",
      "[PairOptimizer.optimize] p_optimal OptimizerBase.SimpleResult(result=1888.992214630096, method='bisection', errormsg=None, context_dct=None) full_result [-2.12457962e-09  4.05311584e-06]\n",
      "[PairOptimizer.optimize] curves_t WETH-6Cc2/USDC-eB48\n",
      "[PairOptimizer.optimize] p_optimal OptimizerBase.SimpleResult(result=1888.9922146296672, method='bisection', errormsg=None, context_dct=None) full_result [ 1.79861672e-08 -3.39150429e-05]\n",
      "[PairOptimizer.optimize] curves_t WETH-6Cc2/USDC-eB48\n",
      "[PairOptimizer.optimize] p_optimal OptimizerBase.SimpleResult(result=1888.992214630273, method='bisection', errormsg=None, context_dct=None) full_result [-1.04482751e-08  1.97291374e-05]\n",
      "[PairOptimizer.optimize] curves_t WETH-6Cc2/USDC-eB48\n",
      "[PairOptimizer.optimize] p_optimal OptimizerBase.SimpleResult(result=1888.992214630557, method='bisection', errormsg=None, context_dct=None) full_result [-2.37487257e-08  4.48822975e-05]\n",
      "[PairOptimizer.optimize] curves_t WETH-6Cc2/USDC-eB48\n",
      "[PairOptimizer.optimize] p_optimal OptimizerBase.SimpleResult(result=1888.9922146305262, method='bisection', errormsg=None, context_dct=None) full_result [-2.23226380e-08  4.21404839e-05]\n",
      "[PairOptimizer.optimize] curves_t WETH-6Cc2/USDC-eB48\n",
      "[PairOptimizer.optimize] p_optimal OptimizerBase.SimpleResult(result=1888.9922146295794, method='bisection', errormsg=None, context_dct=None) full_result [ 2.21189111e-08 -4.17828560e-05]\n",
      "[PairOptimizer.optimize] curves_t WETH-6Cc2/USDC-eB48\n",
      "[PairOptimizer.optimize] p_optimal OptimizerBase.SimpleResult(result=1888.9922146299941, method='bisection', errormsg=None, context_dct=None) full_result [ 2.67755240e-09 -5.00679016e-06]\n",
      "[PairOptimizer.optimize] curves_t WETH-6Cc2/USDC-eB48\n",
      "[PairOptimizer.optimize] p_optimal OptimizerBase.SimpleResult(result=1888.9922146298563, method='bisection', errormsg=None, context_dct=None) full_result [ 9.10949893e-09 -1.71661377e-05]\n",
      "[PairOptimizer.optimize] curves_t WETH-6Cc2/USDC-eB48\n",
      "[PairOptimizer.optimize] p_optimal OptimizerBase.SimpleResult(result=1888.9922146307526, method='bisection', errormsg=None, context_dct=None) full_result [-3.29164322e-08  6.21676445e-05]\n",
      "[PairOptimizer.optimize] curves_t WETH-6Cc2/USDC-eB48\n",
      "[PairOptimizer.optimize] p_optimal OptimizerBase.SimpleResult(result=1888.9922146292975, method='bisection', errormsg=None, context_dct=None) full_result [ 3.53029463e-08 -6.66975975e-05]\n",
      "[PairOptimizer.optimize] curves_t WETH-6Cc2/USDC-eB48\n",
      "[PairOptimizer.optimize] p_optimal OptimizerBase.SimpleResult(result=1888.9922146298, method='bisection', errormsg=None, context_dct=None) full_result [ 1.17870513e-08 -2.22325325e-05]\n",
      "[PairOptimizer.optimize] curves_t WETH-6Cc2/USDC-eB48\n",
      "[PairOptimizer.optimize] p_optimal OptimizerBase.SimpleResult(result=1888.9922146296672, method='bisection', errormsg=None, context_dct=None) full_result [ 1.79861672e-08 -3.39150429e-05]\n",
      "[PairOptimizer.optimize] curves_t WETH-6Cc2/USDC-eB48\n",
      "[PairOptimizer.optimize] p_optimal OptimizerBase.SimpleResult(result=1888.9922146300303, method='bisection', errormsg=None, context_dct=None) full_result [ 9.60426405e-10 -1.78813934e-06]\n",
      "[PairOptimizer.optimize] curves_t WETH-6Cc2/USDC-eB48\n",
      "[PairOptimizer.optimize] p_optimal OptimizerBase.SimpleResult(result=1888.9922050247133, method='bisection', errormsg=None, context_dct=None) full_result [-2.22406434e-05 -5.32008708e-05]\n",
      "[PairOptimizer.optimize] curves_t WETH-6Cc2/USDC-eB48\n",
      "[PairOptimizer.optimize] p_optimal OptimizerBase.SimpleResult(result=1888.9922146306424, method='bisection', errormsg=None, context_dct=None) full_result [-2.77650543e-08  5.24520874e-05]\n",
      "[PairOptimizer.optimize] curves_t WETH-6Cc2/USDC-eB48\n",
      "[PairOptimizer.optimize] p_optimal OptimizerBase.SimpleResult(result=1888.9922146304034, method='bisection', errormsg=None, context_dct=None) full_result [-1.65309757e-08  3.12328339e-05]\n",
      "[PairOptimizer.optimize] curves_t WETH-6Cc2/USDC-eB48\n",
      "[PairOptimizer.optimize] p_optimal OptimizerBase.SimpleResult(result=1888.9922146305626, method='bisection', errormsg=None, context_dct=None) full_result [-2.40106601e-08  4.54187393e-05]\n",
      "[PairOptimizer.optimize] curves_t WETH-6Cc2/USDC-eB48\n",
      "[PairOptimizer.optimize] p_optimal OptimizerBase.SimpleResult(result=1888.992214630815, method='bisection', errormsg=None, context_dct=None) full_result [-3.58268153e-08  6.77108765e-05]\n",
      "[PairOptimizer.optimize] curves_t WETH-6Cc2/USDC-eB48\n",
      "[PairOptimizer.optimize] p_optimal OptimizerBase.SimpleResult(result=1888.9922146306358, method='bisection', errormsg=None, context_dct=None) full_result [-2.74449121e-08  5.18560410e-05]\n",
      "[PairOptimizer.optimize] curves_t WETH-6Cc2/USDC-eB48\n",
      "[PairOptimizer.optimize] p_optimal OptimizerBase.SimpleResult(result=1888.9922146295798, method='bisection', errormsg=None, context_dct=None) full_result [ 2.20607035e-08 -4.16636467e-05]\n",
      "[PairOptimizer.optimize] curves_t WETH-6Cc2/USDC-eB48\n",
      "[PairOptimizer.optimize] p_optimal OptimizerBase.SimpleResult(result=1888.9922146296767, method='bisection', errormsg=None, context_dct=None) full_result [ 1.75496098e-08 -3.31401825e-05]\n",
      "[PairOptimizer.optimize] curves_t WETH-6Cc2/USDC-eB48\n",
      "[PairOptimizer.optimize] p_optimal OptimizerBase.SimpleResult(result=1888.992214630015, method='bisection', errormsg=None, context_dct=None) full_result [ 1.68802217e-09 -3.15904617e-06]\n",
      "[PairOptimizer.optimize] curves_t WETH-6Cc2/USDC-eB48\n",
      "[PairOptimizer.optimize] p_optimal OptimizerBase.SimpleResult(result=1888.9922146301515, method='bisection', errormsg=None, context_dct=None) full_result [-4.74392436e-09  8.94069672e-06]\n",
      "[PairOptimizer.optimize] curves_t WETH-6Cc2/USDC-eB48\n",
      "[PairOptimizer.optimize] p_optimal OptimizerBase.SimpleResult(result=1888.9922146304305, method='bisection', errormsg=None, context_dct=None) full_result [-1.77824404e-08  3.36170197e-05]\n",
      "[PairOptimizer.optimize] curves_t WETH-6Cc2/USDC-eB48\n",
      "[PairOptimizer.optimize] p_optimal OptimizerBase.SimpleResult(result=1888.9922146295005, method='bisection', errormsg=None, context_dct=None) full_result [ 2.53922954e-08 -4.79870996e-05]\n",
      "[PairOptimizer.optimize] curves_t WETH-6Cc2/USDC-eB48\n",
      "[PairOptimizer.optimize] p_optimal OptimizerBase.SimpleResult(result=1888.9922146295216, method='bisection', errormsg=None, context_dct=None) full_result [ 2.48255674e-08 -4.68492508e-05]\n",
      "[PairOptimizer.optimize] curves_t WETH-6Cc2/USDC-eB48\n",
      "[PairOptimizer.optimize] p_optimal OptimizerBase.SimpleResult(result=1888.9922146296672, method='bisection', errormsg=None, context_dct=None) full_result [ 1.79861672e-08 -3.39150429e-05]\n",
      "[PairOptimizer.optimize] curves_t WETH-6Cc2/USDC-eB48\n",
      "[PairOptimizer.optimize] p_optimal OptimizerBase.SimpleResult(result=1888.9922146306121, method='bisection', errormsg=None, context_dct=None) full_result [-2.63389666e-08  4.97698784e-05]\n",
      "[PairOptimizer.optimize] curves_t WETH-6Cc2/USDC-eB48\n",
      "[PairOptimizer.optimize] p_optimal OptimizerBase.SimpleResult(result=1888.9922146306424, method='bisection', errormsg=None, context_dct=None) full_result [-2.77650543e-08  5.24520874e-05]\n",
      "[PairOptimizer.optimize] curves_t WETH-6Cc2/USDC-eB48\n",
      "[PairOptimizer.optimize] p_optimal OptimizerBase.SimpleResult(result=1888.99221463018, method='bisection', errormsg=None, context_dct=None) full_result [-6.05359674e-09  1.15036964e-05]\n",
      "[PairOptimizer.optimize] curves_t WETH-6Cc2/USDC-eB48\n",
      "[PairOptimizer.optimize] p_optimal OptimizerBase.SimpleResult(result=1888.9922146308115, method='bisection', errormsg=None, context_dct=None) full_result [-3.56812961e-08  6.74128532e-05]\n",
      "[PairOptimizer.optimize] curves_t WETH-6Cc2/USDC-eB48\n",
      "[PairOptimizer.optimize] p_optimal OptimizerBase.SimpleResult(result=1888.9922146302497, method='bisection', errormsg=None, context_dct=None) full_result [-9.31322575e-09  1.76429749e-05]\n",
      "[PairOptimizer.optimize] curves_t WETH-6Cc2/USDC-eB48\n",
      "[PairOptimizer.optimize] p_optimal OptimizerBase.SimpleResult(result=1888.9922146300873, method='bisection', errormsg=None, context_dct=None) full_result [-1.71712600e-09  3.27825546e-06]\n",
      "[PairOptimizer.optimize] curves_t WETH-6Cc2/USDC-eB48\n",
      "[PairOptimizer.optimize] p_optimal OptimizerBase.SimpleResult(result=1888.9922146298663, method='bisection', errormsg=None, context_dct=None) full_result [ 8.64383765e-09 -1.63316727e-05]\n",
      "[PairOptimizer.optimize] curves_t WETH-6Cc2/USDC-eB48\n",
      "[PairOptimizer.optimize] p_optimal OptimizerBase.SimpleResult(result=1888.9922146297727, method='bisection', errormsg=None, context_dct=None) full_result [ 1.30385160e-08 -2.46167183e-05]\n",
      "[PairOptimizer.optimize] curves_t WETH-6Cc2/USDC-eB48\n",
      "[PairOptimizer.optimize] p_optimal OptimizerBase.SimpleResult(result=1888.9922146295776, method='bisection', errormsg=None, context_dct=None) full_result [ 2.21771188e-08 -4.18424606e-05]\n",
      "[PairOptimizer.optimize] curves_t WETH-6Cc2/USDC-eB48\n",
      "[PairOptimizer.optimize] p_optimal OptimizerBase.SimpleResult(result=1888.9922146300873, method='bisection', errormsg=None, context_dct=None) full_result [-1.71712600e-09  3.27825546e-06]\n",
      "[PairOptimizer.optimize] curves_t WETH-6Cc2/USDC-eB48\n",
      "[PairOptimizer.optimize] p_optimal OptimizerBase.SimpleResult(result=1888.9922146295798, method='bisection', errormsg=None, context_dct=None) full_result [ 2.20607035e-08 -4.16636467e-05]\n",
      "[PairOptimizer.optimize] curves_t WETH-6Cc2/USDC-eB48\n",
      "[PairOptimizer.optimize] p_optimal OptimizerBase.SimpleResult(result=1888.9922146299475, method='bisection', errormsg=None, context_dct=None) full_result [ 4.83123586e-09 -9.11951065e-06]\n",
      "[PairOptimizer.optimize] curves_t WETH-6Cc2/USDC-eB48\n",
      "[PairOptimizer.optimize] p_optimal OptimizerBase.SimpleResult(result=1888.9922146300873, method='bisection', errormsg=None, context_dct=None) full_result [-1.71712600e-09  3.27825546e-06]\n",
      "[PairOptimizer.optimize] curves_t WETH-6Cc2/USDC-eB48\n",
      "[PairOptimizer.optimize] p_optimal OptimizerBase.SimpleResult(result=1888.9922146306799, method='bisection', errormsg=None, context_dct=None) full_result [-2.94821803e-08  5.57303429e-05]\n",
      "[PairOptimizer.optimize] curves_t WETH-6Cc2/USDC-eB48\n",
      "[PairOptimizer.optimize] p_optimal OptimizerBase.SimpleResult(result=1888.9922146300873, method='bisection', errormsg=None, context_dct=None) full_result [-1.71712600e-09  3.27825546e-06]\n",
      "[PairOptimizer.optimize] curves_t WETH-6Cc2/USDC-eB48\n",
      "[PairOptimizer.optimize] p_optimal OptimizerBase.SimpleResult(result=1888.992214629823, method='bisection', errormsg=None, context_dct=None) full_result [ 1.06811058e-08 -2.01463699e-05]\n"
     ]
    },
    {
     "data": {
      "application/vnd.jupyter.widget-view+json": {
       "model_id": "76a9f34d8f984b75b5a3a5c940dbdab4",
       "version_major": 2,
       "version_minor": 0
      },
      "text/plain": [
       "  0%|          | 0/6 [00:00<?, ?it/s]"
      ]
     },
     "metadata": {},
     "output_type": "display_data"
    },
    {
     "name": "stdout",
     "output_type": "stream",
     "text": [
      "[PairOptimizer.optimize] curves_t BNT-FF1C/USDC-eB48\n",
      "[PairOptimizer.optimize] p_optimal OptimizerBase.SimpleResult(result=0.3933388484434187, method='bisection', errormsg=None, context_dct=None) full_result [ 2.20257789e-07 -8.66129994e-08]\n",
      "[PairOptimizer.optimize] curves_t BNT-FF1C/USDC-eB48\n",
      "[PairOptimizer.optimize] p_optimal OptimizerBase.SimpleResult(result=0.3933388484435465, method='bisection', errormsg=None, context_dct=None) full_result [-2.22586095e-07  8.75443220e-08]\n",
      "[PairOptimizer.optimize] curves_t BNT-FF1C/USDC-eB48\n",
      "[PairOptimizer.optimize] p_optimal OptimizerBase.SimpleResult(result=0.3933388484434076, method='bisection', errormsg=None, context_dct=None) full_result [ 2.58907676e-07 -1.01746991e-07]\n",
      "[PairOptimizer.optimize] curves_t BNT-FF1C/USDC-eB48\n",
      "[PairOptimizer.optimize] p_optimal OptimizerBase.SimpleResult(result=0.39333884844358136, method='bisection', errormsg=None, context_dct=None) full_result [-3.43192369e-07  1.35041773e-07]\n",
      "[PairOptimizer.optimize] curves_t BNT-FF1C/USDC-eB48\n",
      "[PairOptimizer.optimize] p_optimal OptimizerBase.SimpleResult(result=0.39333799529472413, method='bisection', errormsg=None, context_dct=None) full_result [-2.53014131e-02 -3.07336450e-08]\n",
      "[PairOptimizer.optimize] curves_t BNT-FF1C/USDC-eB48\n",
      "[PairOptimizer.optimize] p_optimal OptimizerBase.SimpleResult(result=0.3933388484434884, method='bisection', errormsg=None, context_dct=None) full_result [-2.09547579e-08  8.14907253e-09]\n"
     ]
    },
    {
     "data": {
      "application/vnd.jupyter.widget-view+json": {
       "model_id": "1e16bfc593434c67b5b62c71026b8561",
       "version_major": 2,
       "version_minor": 0
      },
      "text/plain": [
       "  0%|          | 0/16 [00:00<?, ?it/s]"
      ]
     },
     "metadata": {},
     "output_type": "display_data"
    },
    {
     "name": "stdout",
     "output_type": "stream",
     "text": [
      "[PairOptimizer.optimize] curves_t WBTC-C599/USDC-eB48\n",
      "[PairOptimizer.optimize] p_optimal OptimizerBase.SimpleResult(result=30709.171178589037, method='bisection', errormsg=None, context_dct=None) full_result [ 3.52997631e-11 -1.08499080e-06]\n",
      "[PairOptimizer.optimize] curves_t WBTC-C599/USDC-eB48\n",
      "[PairOptimizer.optimize] p_optimal OptimizerBase.SimpleResult(result=30709.17117859955, method='bisection', errormsg=None, context_dct=None) full_result [-1.14255272e-11  3.50177288e-07]\n",
      "[PairOptimizer.optimize] curves_t WBTC-C599/USDC-eB48\n",
      "[PairOptimizer.optimize] p_optimal OptimizerBase.SimpleResult(result=30709.17117859282, method='bisection', errormsg=None, context_dct=None) full_result [ 1.85309545e-11 -5.69969416e-07]\n",
      "[PairOptimizer.optimize] curves_t WBTC-C599/USDC-eB48\n",
      "[PairOptimizer.optimize] p_optimal OptimizerBase.SimpleResult(result=30709.17117859589, method='bisection', errormsg=None, context_dct=None) full_result [ 4.83169060e-12 -1.49011612e-07]\n",
      "[PairOptimizer.optimize] curves_t WBTC-C599/USDC-eB48\n",
      "[PairOptimizer.optimize] p_optimal OptimizerBase.SimpleResult(result=30709.17117859447, method='bisection', errormsg=None, context_dct=None) full_result [ 1.11413101e-11 -3.43658030e-07]\n",
      "[PairOptimizer.optimize] curves_t WBTC-C599/USDC-eB48\n",
      "[PairOptimizer.optimize] p_optimal OptimizerBase.SimpleResult(result=30709.171178601522, method='bisection', errormsg=None, context_dct=None) full_result [-2.01794137e-11  6.19329512e-07]\n",
      "[PairOptimizer.optimize] curves_t WBTC-C599/USDC-eB48\n",
      "[PairOptimizer.optimize] p_optimal OptimizerBase.SimpleResult(result=30708.392805080344, method='bisection', errormsg=None, context_dct=None) full_result [-2.90562225e-05 -3.77116521e-07]\n",
      "[PairOptimizer.optimize] curves_t WBTC-C599/USDC-eB48\n",
      "[PairOptimizer.optimize] p_optimal OptimizerBase.SimpleResult(result=30709.171178605357, method='bisection', errormsg=None, context_dct=None) full_result [-3.72324394e-11  1.14273280e-06]\n",
      "[PairOptimizer.optimize] curves_t WBTC-C599/USDC-eB48\n",
      "[PairOptimizer.optimize] p_optimal OptimizerBase.SimpleResult(result=30681.192450067927, method='bisection', errormsg=None, context_dct=None) full_result [ 5.82986104e-10 -1.79111958e-05]\n",
      "[PairOptimizer.optimize] curves_t WBTC-C599/USDC-eB48\n",
      "[PairOptimizer.optimize] p_optimal OptimizerBase.SimpleResult(result=30681.192450086935, method='bisection', errormsg=None, context_dct=None) full_result [-8.64019967e-10  2.64942646e-05]\n",
      "[PairOptimizer.optimize] curves_t WBTC-C599/USDC-eB48\n",
      "[PairOptimizer.optimize] p_optimal OptimizerBase.SimpleResult(result=30681.192450084593, method='bisection', errormsg=None, context_dct=None) full_result [-6.85759005e-10  2.10106373e-05]\n",
      "[PairOptimizer.optimize] curves_t WBTC-C599/USDC-eB48\n",
      "[PairOptimizer.optimize] p_optimal OptimizerBase.SimpleResult(result=30681.192450076273, method='bisection', errormsg=None, context_dct=None) full_result [-5.27506927e-11  1.57952309e-06]\n",
      "[PairOptimizer.optimize] curves_t WBTC-C599/USDC-eB48\n",
      "[PairOptimizer.optimize] p_optimal OptimizerBase.SimpleResult(result=30681.19245007934, method='bisection', errormsg=None, context_dct=None) full_result [-2.85581336e-10  8.73208046e-06]\n",
      "[PairOptimizer.optimize] curves_t WBTC-C599/USDC-eB48\n",
      "[PairOptimizer.optimize] p_optimal OptimizerBase.SimpleResult(result=30681.192450081726, method='bisection', errormsg=None, context_dct=None) full_result [-4.67480277e-10  1.43349171e-05]\n",
      "[PairOptimizer.optimize] curves_t WBTC-C599/USDC-eB48\n",
      "[PairOptimizer.optimize] p_optimal OptimizerBase.SimpleResult(result=30681.149356572678, method='bisection', errormsg=None, context_dct=None) full_result [-2.60230975e-05 -4.86961289e-06]\n",
      "[PairOptimizer.optimize] curves_t WBTC-C599/USDC-eB48\n",
      "[PairOptimizer.optimize] p_optimal OptimizerBase.SimpleResult(result=30681.192450076527, method='bisection', errormsg=None, context_dct=None) full_result [-7.18500814e-11  2.17556953e-06]\n"
     ]
    },
    {
     "data": {
      "application/vnd.jupyter.widget-view+json": {
       "model_id": "4d113604e63445f9b1f545c9a74eb917",
       "version_major": 2,
       "version_minor": 0
      },
      "text/plain": [
       "  0%|          | 0/10 [00:00<?, ?it/s]"
      ]
     },
     "metadata": {},
     "output_type": "display_data"
    },
    {
     "name": "stdout",
     "output_type": "stream",
     "text": [
      "[PairOptimizer.optimize] curves_t USDT-1ec7/USDC-eB48\n",
      "[PairOptimizer.optimize] p_optimal OptimizerBase.SimpleResult(result=1.0000207903769063, method='bisection', errormsg=None, context_dct=None) full_result [-0.0647583  0.0647583]\n",
      "[PairOptimizer.optimize] curves_t USDT-1ec7/USDC-eB48\n",
      "[PairOptimizer.optimize] p_optimal OptimizerBase.SimpleResult(result=1.000020790376823, method='bisection', errormsg=None, context_dct=None) full_result [-0.04290771  0.04290771]\n",
      "[PairOptimizer.optimize] curves_t USDT-1ec7/USDC-eB48\n",
      "[PairOptimizer.optimize] p_optimal OptimizerBase.SimpleResult(result=1.0000207903767104, method='bisection', errormsg=None, context_dct=None) full_result [-0.01342773  0.01342773]\n",
      "[PairOptimizer.optimize] curves_t USDT-1ec7/USDC-eB48\n",
      "[PairOptimizer.optimize] p_optimal OptimizerBase.SimpleResult(result=1.0000207916536292, method='bisection', errormsg=None, context_dct=None) full_result [-0.1512453   0.03923975]\n",
      "[PairOptimizer.optimize] curves_t USDT-1ec7/USDC-eB48\n",
      "[PairOptimizer.optimize] p_optimal OptimizerBase.SimpleResult(result=1.0000207903766147, method='bisection', errormsg=None, context_dct=None) full_result [ 0.01165771 -0.01165771]\n",
      "[PairOptimizer.optimize] curves_t USDT-1ec7/USDC-eB48\n",
      "[PairOptimizer.optimize] p_optimal OptimizerBase.SimpleResult(result=0.9999812258712628, method='bisection', errormsg=None, context_dct=None) full_result [-0.0002017  0.0002017]\n",
      "[PairOptimizer.optimize] curves_t USDT-1ec7/USDC-eB48\n",
      "[PairOptimizer.optimize] p_optimal OptimizerBase.SimpleResult(result=0.9999812258711138, method='bisection', errormsg=None, context_dct=None) full_result [ 9.67979431e-05 -9.67979431e-05]\n",
      "[PairOptimizer.optimize] curves_t USDT-1ec7/USDC-eB48\n",
      "[PairOptimizer.optimize] p_optimal OptimizerBase.SimpleResult(result=0.9999812258708753, method='bisection', errormsg=None, context_dct=None) full_result [ 0.00057364 -0.00057364]\n",
      "[PairOptimizer.optimize] curves_t USDT-1ec7/USDC-eB48\n",
      "[PairOptimizer.optimize] p_optimal OptimizerBase.SimpleResult(result=0.9999814030034596, method='bisection', errormsg=None, context_dct=None) full_result [-0.12507511 -0.00053189]\n",
      "[PairOptimizer.optimize] curves_t USDT-1ec7/USDC-eB48\n",
      "[PairOptimizer.optimize] p_optimal OptimizerBase.SimpleResult(result=0.9999812258710422, method='bisection', errormsg=None, context_dct=None) full_result [ 0.00023985 -0.00023985]\n"
     ]
    },
    {
     "data": {
      "application/vnd.jupyter.widget-view+json": {
       "model_id": "6715f64a3a794c859cd6e708bc775e26",
       "version_major": 2,
       "version_minor": 0
      },
      "text/plain": [
       "  0%|          | 0/4 [00:00<?, ?it/s]"
      ]
     },
     "metadata": {},
     "output_type": "display_data"
    },
    {
     "name": "stdout",
     "output_type": "stream",
     "text": [
      "[PairOptimizer.optimize] curves_t DAI-1d0F/USDC-eB48\n",
      "[PairOptimizer.optimize] p_optimal OptimizerBase.SimpleResult(result=1.0003813756302735, method='bisection', errormsg=None, context_dct=None) full_result [ 0.00042725 -0.00042725]\n",
      "[PairOptimizer.optimize] curves_t DAI-1d0F/USDC-eB48\n",
      "[PairOptimizer.optimize] p_optimal OptimizerBase.SimpleResult(result=1.000381375630044, method='bisection', errormsg=None, context_dct=None) full_result [ 0.00753784 -0.00754547]\n",
      "[PairOptimizer.optimize] curves_t DAI-1d0F/USDC-eB48\n",
      "[PairOptimizer.optimize] p_optimal OptimizerBase.SimpleResult(result=0.999979963573878, method='bisection', errormsg=None, context_dct=None) full_result [ 0.02416992 -0.02410889]\n",
      "[PairOptimizer.optimize] curves_t DAI-1d0F/USDC-eB48\n",
      "[PairOptimizer.optimize] p_optimal OptimizerBase.SimpleResult(result=0.999979963573925, method='bisection', errormsg=None, context_dct=None) full_result [ 0.01159668 -0.01153564]\n"
     ]
    },
    {
     "data": {
      "application/vnd.jupyter.widget-view+json": {
       "model_id": "fb12a7cf60fa4ad7a3fb765cc69999b0",
       "version_major": 2,
       "version_minor": 0
      },
      "text/plain": [
       "0it [00:00, ?it/s]"
      ]
     },
     "metadata": {},
     "output_type": "display_data"
    },
    {
     "data": {
      "application/vnd.jupyter.widget-view+json": {
       "model_id": "8d9420fd97c14d69b495946bccfa0b0e",
       "version_major": 2,
       "version_minor": 0
      },
      "text/plain": [
       "0it [00:00, ?it/s]"
      ]
     },
     "metadata": {},
     "output_type": "display_data"
    },
    {
     "data": {
      "application/vnd.jupyter.widget-view+json": {
       "model_id": "f1bcf5c9000a49e298690e9cf7c69c89",
       "version_major": 2,
       "version_minor": 0
      },
      "text/plain": [
       "0it [00:00, ?it/s]"
      ]
     },
     "metadata": {},
     "output_type": "display_data"
    },
    {
     "data": {
      "application/vnd.jupyter.widget-view+json": {
       "model_id": "a40aeaa61ff84b279b8b9a93a9f78bb0",
       "version_major": 2,
       "version_minor": 0
      },
      "text/plain": [
       "0it [00:00, ?it/s]"
      ]
     },
     "metadata": {},
     "output_type": "display_data"
    },
    {
     "data": {
      "application/vnd.jupyter.widget-view+json": {
       "model_id": "17b03e1d09884b2e80787265ce29fea8",
       "version_major": 2,
       "version_minor": 0
      },
      "text/plain": [
       "0it [00:00, ?it/s]"
      ]
     },
     "metadata": {},
     "output_type": "display_data"
    },
    {
     "data": {
      "application/vnd.jupyter.widget-view+json": {
       "model_id": "de2f14f2316c4aa59fc1493c5dd7ff06",
       "version_major": 2,
       "version_minor": 0
      },
      "text/plain": [
       "  0%|          | 0/10 [00:00<?, ?it/s]"
      ]
     },
     "metadata": {},
     "output_type": "display_data"
    },
    {
     "name": "stdout",
     "output_type": "stream",
     "text": [
      "[PairOptimizer.optimize] curves_t ETH2x_FLI-65BD/WETH-6Cc2\n",
      "[PairOptimizer.optimize] p_optimal OptimizerBase.SimpleResult(result=0.006679129489639779, method='bisection', errormsg=None, context_dct=None) full_result [ 8.99308361e-09 -6.00266503e-11]\n",
      "[PairOptimizer.optimize] curves_t ETH2x_FLI-65BD/WETH-6Cc2\n",
      "[PairOptimizer.optimize] p_optimal OptimizerBase.SimpleResult(result=0.006679129489639276, method='bisection', errormsg=None, context_dct=None) full_result [ 1.72003638e-08 -1.14823706e-10]\n",
      "[PairOptimizer.optimize] curves_t ETH2x_FLI-65BD/WETH-6Cc2\n",
      "[PairOptimizer.optimize] p_optimal OptimizerBase.SimpleResult(result=0.006679129489639779, method='bisection', errormsg=None, context_dct=None) full_result [ 8.99308361e-09 -6.00266503e-11]\n",
      "[PairOptimizer.optimize] curves_t ETH2x_FLI-65BD/WETH-6Cc2\n",
      "[PairOptimizer.optimize] p_optimal OptimizerBase.SimpleResult(result=0.006679129489639276, method='bisection', errormsg=None, context_dct=None) full_result [ 1.72003638e-08 -1.14823706e-10]\n",
      "[PairOptimizer.optimize] curves_t ETH2x_FLI-65BD/WETH-6Cc2\n",
      "[PairOptimizer.optimize] p_optimal OptimizerBase.SimpleResult(result=0.006679129489641052, method='bisection', errormsg=None, context_dct=None) full_result [-1.17870513e-08  7.88986654e-11]\n",
      "[PairOptimizer.optimize] curves_t ETH2x_FLI-65BD/WETH-6Cc2\n",
      "[PairOptimizer.optimize] p_optimal OptimizerBase.SimpleResult(result=0.006679129489638686, method='bisection', errormsg=None, context_dct=None) full_result [ 2.68337317e-08 -1.79170456e-10]\n",
      "[PairOptimizer.optimize] curves_t ETH2x_FLI-65BD/WETH-6Cc2\n",
      "[PairOptimizer.optimize] p_optimal OptimizerBase.SimpleResult(result=0.006679129489638977, method='bisection', errormsg=None, context_dct=None) full_result [ 2.20898073e-08 -1.47565515e-10]\n",
      "[PairOptimizer.optimize] curves_t ETH2x_FLI-65BD/WETH-6Cc2\n",
      "[PairOptimizer.optimize] p_optimal OptimizerBase.SimpleResult(result=0.006679129489640365, method='bisection', errormsg=None, context_dct=None) full_result [-6.11180440e-10  4.09272616e-12]\n",
      "[PairOptimizer.optimize] curves_t ETH2x_FLI-65BD/WETH-6Cc2\n",
      "[PairOptimizer.optimize] p_optimal OptimizerBase.SimpleResult(result=0.006679129489642534, method='bisection', errormsg=None, context_dct=None) full_result [-3.59723344e-08  2.40333975e-10]\n",
      "[PairOptimizer.optimize] curves_t ETH2x_FLI-65BD/WETH-6Cc2\n",
      "[PairOptimizer.optimize] p_optimal OptimizerBase.SimpleResult(result=0.006679129489639819, method='bisection', errormsg=None, context_dct=None) full_result [ 8.32369551e-09 -5.54791768e-11]\n"
     ]
    },
    {
     "data": {
      "application/vnd.jupyter.widget-view+json": {
       "model_id": "17ae18819d85453a816bdfb8c751176e",
       "version_major": 2,
       "version_minor": 0
      },
      "text/plain": [
       "  0%|          | 0/14 [00:00<?, ?it/s]"
      ]
     },
     "metadata": {},
     "output_type": "display_data"
    },
    {
     "name": "stdout",
     "output_type": "stream",
     "text": [
      "[PairOptimizer.optimize] curves_t vBNT-7f94/BNT-FF1C\n",
      "[PairOptimizer.optimize] p_optimal OptimizerBase.SimpleResult(result=0.4979713671854289, method='bisection', errormsg=None, context_dct=None) full_result [-6.28642738e-09  3.25962901e-09]\n",
      "[PairOptimizer.optimize] curves_t vBNT-7f94/BNT-FF1C\n",
      "[PairOptimizer.optimize] p_optimal OptimizerBase.SimpleResult(result=0.497971367185545, method='bisection', errormsg=None, context_dct=None) full_result [-2.33994797e-07  1.16648152e-07]\n",
      "[PairOptimizer.optimize] curves_t vBNT-7f94/BNT-FF1C\n",
      "[PairOptimizer.optimize] p_optimal OptimizerBase.SimpleResult(result=0.49797136718544244, method='bisection', errormsg=None, context_dct=None) full_result [-3.28291208e-08  1.65309757e-08]\n",
      "[PairOptimizer.optimize] curves_t vBNT-7f94/BNT-FF1C\n",
      "[PairOptimizer.optimize] p_optimal OptimizerBase.SimpleResult(result=0.4979713671855498, method='bisection', errormsg=None, context_dct=None) full_result [-2.43540853e-07  1.21421181e-07]\n",
      "[PairOptimizer.optimize] curves_t vBNT-7f94/BNT-FF1C\n",
      "[PairOptimizer.optimize] p_optimal OptimizerBase.SimpleResult(result=0.49797136718538826, method='bisection', errormsg=None, context_dct=None) full_result [ 7.33416528e-08 -3.64379957e-08]\n",
      "[PairOptimizer.optimize] curves_t vBNT-7f94/BNT-FF1C\n",
      "[PairOptimizer.optimize] p_optimal OptimizerBase.SimpleResult(result=0.4979713671852612, method='bisection', errormsg=None, context_dct=None) full_result [ 3.22936103e-07 -1.60653144e-07]\n",
      "[PairOptimizer.optimize] curves_t vBNT-7f94/BNT-FF1C\n",
      "[PairOptimizer.optimize] p_optimal OptimizerBase.SimpleResult(result=0.4979713671853365, method='bisection', errormsg=None, context_dct=None) full_result [ 1.75088644e-07 -8.70786607e-08]\n",
      "[PairOptimizer.optimize] curves_t vBNT-7f94/BNT-FF1C\n",
      "[PairOptimizer.optimize] p_optimal OptimizerBase.SimpleResult(result=0.4979713671853946, method='bisection', errormsg=None, context_dct=None) full_result [ 6.12344593e-08 -3.02679837e-08]\n",
      "[PairOptimizer.optimize] curves_t vBNT-7f94/BNT-FF1C\n",
      "[PairOptimizer.optimize] p_optimal OptimizerBase.SimpleResult(result=0.4979713671855437, method='bisection', errormsg=None, context_dct=None) full_result [-2.31200829e-07  1.15367584e-07]\n",
      "[PairOptimizer.optimize] curves_t vBNT-7f94/BNT-FF1C\n",
      "[PairOptimizer.optimize] p_optimal OptimizerBase.SimpleResult(result=0.4979713671856121, method='bisection', errormsg=None, context_dct=None) full_result [-3.65544111e-07  1.82073563e-07]\n",
      "[PairOptimizer.optimize] curves_t vBNT-7f94/BNT-FF1C\n",
      "[PairOptimizer.optimize] p_optimal OptimizerBase.SimpleResult(result=0.4979713671853978, method='bisection', errormsg=None, context_dct=None) full_result [ 5.49480319e-08 -2.72411853e-08]\n",
      "[PairOptimizer.optimize] curves_t vBNT-7f94/BNT-FF1C\n",
      "[PairOptimizer.optimize] p_optimal OptimizerBase.SimpleResult(result=0.49797136718555435, method='bisection', errormsg=None, context_dct=None) full_result [-2.52388418e-07  1.25844963e-07]\n",
      "[PairOptimizer.optimize] curves_t vBNT-7f94/BNT-FF1C\n",
      "[PairOptimizer.optimize] p_optimal OptimizerBase.SimpleResult(result=0.4979713671851882, method='bisection', errormsg=None, context_dct=None) full_result [ 4.66359779e-07 -2.32015736e-07]\n",
      "[PairOptimizer.optimize] curves_t vBNT-7f94/BNT-FF1C\n",
      "[PairOptimizer.optimize] p_optimal OptimizerBase.SimpleResult(result=0.4977218346705689, method='bisection', errormsg=None, context_dct=None) full_result [ 3.20274921e-07 -2.42115359e+01]\n"
     ]
    },
    {
     "data": {
      "application/vnd.jupyter.widget-view+json": {
       "model_id": "40b87d2941424d9084d3b27cb9896069",
       "version_major": 2,
       "version_minor": 0
      },
      "text/plain": [
       "  0%|          | 0/39 [00:00<?, ?it/s]"
      ]
     },
     "metadata": {},
     "output_type": "display_data"
    },
    {
     "name": "stdout",
     "output_type": "stream",
     "text": [
      "[PairOptimizer.optimize] curves_t WETH-6Cc2/USDT-1ec7\n",
      "[PairOptimizer.optimize] p_optimal OptimizerBase.SimpleResult(result=1890.3902599636826, method='bisection', errormsg=None, context_dct=None) full_result [ 3.43752617e-08 -6.91041350e-05]\n",
      "[PairOptimizer.optimize] curves_t WETH-6Cc2/USDT-1ec7\n",
      "[PairOptimizer.optimize] p_optimal OptimizerBase.SimpleResult(result=1890.3902598796512, method='bisection', errormsg=None, context_dct=None) full_result [ 4.23751771e-08 -8.02278519e-05]\n",
      "[PairOptimizer.optimize] curves_t WETH-6Cc2/USDT-1ec7\n",
      "[PairOptimizer.optimize] p_optimal OptimizerBase.SimpleResult(result=1890.3902598804298, method='bisection', errormsg=None, context_dct=None) full_result [-2.00816430e-08  3.79085541e-05]\n",
      "[PairOptimizer.optimize] curves_t WETH-6Cc2/USDT-1ec7\n",
      "[PairOptimizer.optimize] p_optimal OptimizerBase.SimpleResult(result=1890.3902598796158, method='bisection', errormsg=None, context_dct=None) full_result [ 4.52273525e-08 -8.54730606e-05]\n",
      "[PairOptimizer.optimize] curves_t WETH-6Cc2/USDT-1ec7\n",
      "[PairOptimizer.optimize] p_optimal OptimizerBase.SimpleResult(result=1890.3902598801792, method='bisection', errormsg=None, context_dct=None) full_result [0. 0.]\n",
      "[PairOptimizer.optimize] curves_t WETH-6Cc2/USDT-1ec7\n",
      "[PairOptimizer.optimize] p_optimal OptimizerBase.SimpleResult(result=1890.3902598800487, method='bisection', errormsg=None, context_dct=None) full_result [ 1.05355866e-08 -1.99079514e-05]\n",
      "[PairOptimizer.optimize] curves_t WETH-6Cc2/USDT-1ec7\n",
      "[PairOptimizer.optimize] p_optimal OptimizerBase.SimpleResult(result=1890.3902598806571, method='bisection', errormsg=None, context_dct=None) full_result [-3.83006409e-08  7.23600388e-05]\n",
      "[PairOptimizer.optimize] curves_t WETH-6Cc2/USDT-1ec7\n",
      "[PairOptimizer.optimize] p_optimal OptimizerBase.SimpleResult(result=1890.3902702016617, method='bisection', errormsg=None, context_dct=None) full_result [-1.49252719e-05  3.80454148e-05]\n",
      "[PairOptimizer.optimize] curves_t WETH-6Cc2/USDT-1ec7\n",
      "[PairOptimizer.optimize] p_optimal OptimizerBase.SimpleResult(result=1890.390259880636, method='bisection', errormsg=None, context_dct=None) full_result [-3.66126187e-08  6.92605972e-05]\n",
      "[PairOptimizer.optimize] curves_t WETH-6Cc2/USDT-1ec7\n",
      "[PairOptimizer.optimize] p_optimal OptimizerBase.SimpleResult(result=1890.3902598796271, method='bisection', errormsg=None, context_dct=None) full_result [ 4.43542376e-08 -8.38041306e-05]\n",
      "[PairOptimizer.optimize] curves_t WETH-6Cc2/USDT-1ec7\n",
      "[PairOptimizer.optimize] p_optimal OptimizerBase.SimpleResult(result=1890.3902598805803, method='bisection', errormsg=None, context_dct=None) full_result [-3.21888365e-08  6.07967377e-05]\n",
      "[PairOptimizer.optimize] curves_t WETH-6Cc2/USDT-1ec7\n",
      "[PairOptimizer.optimize] p_optimal OptimizerBase.SimpleResult(result=1890.3902598803247, method='bisection', errormsg=None, context_dct=None) full_result [-1.16415322e-08  2.19345093e-05]\n",
      "[PairOptimizer.optimize] curves_t WETH-6Cc2/USDT-1ec7\n",
      "[PairOptimizer.optimize] p_optimal OptimizerBase.SimpleResult(result=1890.3902598804148, method='bisection', errormsg=None, context_dct=None) full_result [-1.88592821e-08  3.56435776e-05]\n",
      "[PairOptimizer.optimize] curves_t WETH-6Cc2/USDT-1ec7\n",
      "[PairOptimizer.optimize] p_optimal OptimizerBase.SimpleResult(result=1889.145889168184, method='bisection', errormsg=None, context_dct=None) full_result [-1.00080797e-08  6.41494989e-06]\n",
      "[PairOptimizer.optimize] curves_t WETH-6Cc2/USDT-1ec7\n",
      "[PairOptimizer.optimize] p_optimal OptimizerBase.SimpleResult(result=1889.145888876507, method='bisection', errormsg=None, context_dct=None) full_result [-1.26019586e-08  2.38120556e-05]\n",
      "[PairOptimizer.optimize] curves_t WETH-6Cc2/USDT-1ec7\n",
      "[PairOptimizer.optimize] p_optimal OptimizerBase.SimpleResult(result=1889.1458888757393, method='bisection', errormsg=None, context_dct=None) full_result [ 5.09317033e-09 -9.62615013e-06]\n",
      "[PairOptimizer.optimize] curves_t WETH-6Cc2/USDT-1ec7\n",
      "[PairOptimizer.optimize] p_optimal OptimizerBase.SimpleResult(result=1889.1458888758934, method='bisection', errormsg=None, context_dct=None) full_result [ 1.54250301e-09 -2.92062759e-06]\n",
      "[PairOptimizer.optimize] curves_t WETH-6Cc2/USDT-1ec7\n",
      "[PairOptimizer.optimize] p_optimal OptimizerBase.SimpleResult(result=1889.1458888762731, method='bisection', errormsg=None, context_dct=None) full_result [-7.21774995e-09  1.36494637e-05]\n",
      "[PairOptimizer.optimize] curves_t WETH-6Cc2/USDT-1ec7\n",
      "[PairOptimizer.optimize] p_optimal OptimizerBase.SimpleResult(result=1889.1458888758175, method='bisection', errormsg=None, context_dct=None) full_result [ 3.30328476e-09 -6.22868538e-06]\n",
      "[PairOptimizer.optimize] curves_t WETH-6Cc2/USDT-1ec7\n",
      "[PairOptimizer.optimize] p_optimal OptimizerBase.SimpleResult(result=1889.145888875436, method='bisection', errormsg=None, context_dct=None) full_result [ 1.21071935e-08 -2.28583813e-05]\n",
      "[PairOptimizer.optimize] curves_t WETH-6Cc2/USDT-1ec7\n",
      "[PairOptimizer.optimize] p_optimal OptimizerBase.SimpleResult(result=1889.1459247812654, method='bisection', errormsg=None, context_dct=None) full_result [-1.54391292e-05 -2.19168578e-05]\n",
      "[PairOptimizer.optimize] curves_t WETH-6Cc2/USDT-1ec7\n",
      "[PairOptimizer.optimize] p_optimal OptimizerBase.SimpleResult(result=1889.1458888762695, method='bisection', errormsg=None, context_dct=None) full_result [-7.13043846e-09  1.34706497e-05]\n",
      "[PairOptimizer.optimize] curves_t WETH-6Cc2/USDT-1ec7\n",
      "[PairOptimizer.optimize] p_optimal OptimizerBase.SimpleResult(result=1889.1458888752281, method='bisection', errormsg=None, context_dct=None) full_result [ 1.69093255e-08 -3.19480896e-05]\n",
      "[PairOptimizer.optimize] curves_t WETH-6Cc2/USDT-1ec7\n",
      "[PairOptimizer.optimize] p_optimal OptimizerBase.SimpleResult(result=1889.1458888757306, method='bisection', errormsg=None, context_dct=None) full_result [ 5.29689714e-09 -1.00135803e-05]\n",
      "[PairOptimizer.optimize] curves_t WETH-6Cc2/USDT-1ec7\n",
      "[PairOptimizer.optimize] p_optimal OptimizerBase.SimpleResult(result=1889.1458888758277, method='bisection', errormsg=None, context_dct=None) full_result [ 3.05590220e-09 -5.78165054e-06]\n",
      "[PairOptimizer.optimize] curves_t WETH-6Cc2/USDT-1ec7\n",
      "[PairOptimizer.optimize] p_optimal OptimizerBase.SimpleResult(result=1889.1458888764319, method='bisection', errormsg=None, context_dct=None) full_result [-1.08848326e-08  2.05636024e-05]\n",
      "[PairOptimizer.optimize] curves_t WETH-6Cc2/USDT-1ec7\n",
      "[PairOptimizer.optimize] p_optimal OptimizerBase.SimpleResult(result=1881.710609293142, method='bisection', errormsg=None, context_dct=None) full_result [-3.60378181e-08  5.24520874e-06]\n",
      "[PairOptimizer.optimize] curves_t WETH-6Cc2/USDT-1ec7\n",
      "[PairOptimizer.optimize] p_optimal OptimizerBase.SimpleResult(result=1881.710608190668, method='bisection', errormsg=None, context_dct=None) full_result [ 3.57977115e-09 -6.74277544e-06]\n",
      "[PairOptimizer.optimize] curves_t WETH-6Cc2/USDT-1ec7\n",
      "[PairOptimizer.optimize] p_optimal OptimizerBase.SimpleResult(result=1881.7106081911547, method='bisection', errormsg=None, context_dct=None) full_result [ 5.85714588e-10 -1.11013651e-06]\n",
      "[PairOptimizer.optimize] curves_t WETH-6Cc2/USDT-1ec7\n",
      "[PairOptimizer.optimize] p_optimal OptimizerBase.SimpleResult(result=1881.7106081913296, method='bisection', errormsg=None, context_dct=None) full_result [-4.87489160e-10  9.16421413e-07]\n",
      "[PairOptimizer.optimize] curves_t WETH-6Cc2/USDT-1ec7\n",
      "[PairOptimizer.optimize] p_optimal OptimizerBase.SimpleResult(result=1881.710608190739, method='bisection', errormsg=None, context_dct=None) full_result [ 3.13957571e-09 -5.91576099e-06]\n",
      "[PairOptimizer.optimize] curves_t WETH-6Cc2/USDT-1ec7\n",
      "[PairOptimizer.optimize] p_optimal OptimizerBase.SimpleResult(result=1881.7106081908473, method='bisection', errormsg=None, context_dct=None) full_result [ 2.47746357e-09 -4.66406345e-06]\n",
      "[PairOptimizer.optimize] curves_t WETH-6Cc2/USDT-1ec7\n",
      "[PairOptimizer.optimize] p_optimal OptimizerBase.SimpleResult(result=1881.7106081914208, method='bisection', errormsg=None, context_dct=None) full_result [-1.04773790e-09  1.97440386e-06]\n",
      "[PairOptimizer.optimize] curves_t WETH-6Cc2/USDT-1ec7\n",
      "[PairOptimizer.optimize] p_optimal OptimizerBase.SimpleResult(result=1881.7107435941489, method='bisection', errormsg=None, context_dct=None) full_result [-1.87256392e-05 -1.61162461e-07]\n",
      "[PairOptimizer.optimize] curves_t WETH-6Cc2/USDT-1ec7\n",
      "[PairOptimizer.optimize] p_optimal OptimizerBase.SimpleResult(result=1881.7106081909023, method='bisection', errormsg=None, context_dct=None) full_result [ 2.13549356e-09 -4.02331352e-06]\n",
      "[PairOptimizer.optimize] curves_t WETH-6Cc2/USDT-1ec7\n",
      "[PairOptimizer.optimize] p_optimal OptimizerBase.SimpleResult(result=1881.7106081915688, method='bisection', errormsg=None, context_dct=None) full_result [-1.95723260e-09  3.68058681e-06]\n",
      "[PairOptimizer.optimize] curves_t WETH-6Cc2/USDT-1ec7\n",
      "[PairOptimizer.optimize] p_optimal OptimizerBase.SimpleResult(result=1881.7106081915645, method='bisection', errormsg=None, context_dct=None) full_result [-1.93176675e-09  3.63588333e-06]\n",
      "[PairOptimizer.optimize] curves_t WETH-6Cc2/USDT-1ec7\n",
      "[PairOptimizer.optimize] p_optimal OptimizerBase.SimpleResult(result=1881.7106081915751, method='bisection', errormsg=None, context_dct=None) full_result [-1.99725037e-09  3.75509262e-06]\n",
      "[PairOptimizer.optimize] curves_t WETH-6Cc2/USDT-1ec7\n",
      "[PairOptimizer.optimize] p_optimal OptimizerBase.SimpleResult(result=1881.7106081909228, method='bisection', errormsg=None, context_dct=None) full_result [ 2.01180228e-09 -3.78489494e-06]\n"
     ]
    },
    {
     "data": {
      "application/vnd.jupyter.widget-view+json": {
       "model_id": "3fa1da7b8d824284a01a6e33ff0dfa92",
       "version_major": 2,
       "version_minor": 0
      },
      "text/plain": [
       "  0%|          | 0/10 [00:00<?, ?it/s]"
      ]
     },
     "metadata": {},
     "output_type": "display_data"
    },
    {
     "name": "stdout",
     "output_type": "stream",
     "text": [
      "[PairOptimizer.optimize] curves_t USDT-1ec7/USDC-eB48\n",
      "[PairOptimizer.optimize] p_optimal OptimizerBase.SimpleResult(result=1.0000207903769063, method='bisection', errormsg=None, context_dct=None) full_result [-0.0647583  0.0647583]\n",
      "[PairOptimizer.optimize] curves_t USDT-1ec7/USDC-eB48\n",
      "[PairOptimizer.optimize] p_optimal OptimizerBase.SimpleResult(result=1.000020790376823, method='bisection', errormsg=None, context_dct=None) full_result [-0.04290771  0.04290771]\n",
      "[PairOptimizer.optimize] curves_t USDT-1ec7/USDC-eB48\n",
      "[PairOptimizer.optimize] p_optimal OptimizerBase.SimpleResult(result=1.0000207903767104, method='bisection', errormsg=None, context_dct=None) full_result [-0.01342773  0.01342773]\n",
      "[PairOptimizer.optimize] curves_t USDT-1ec7/USDC-eB48\n",
      "[PairOptimizer.optimize] p_optimal OptimizerBase.SimpleResult(result=1.0000207916530273, method='bisection', errormsg=None, context_dct=None) full_result [ 0.00653088 -0.11853643]\n",
      "[PairOptimizer.optimize] curves_t USDT-1ec7/USDC-eB48\n",
      "[PairOptimizer.optimize] p_optimal OptimizerBase.SimpleResult(result=1.0000207903766147, method='bisection', errormsg=None, context_dct=None) full_result [ 0.01165771 -0.01165771]\n",
      "[PairOptimizer.optimize] curves_t USDT-1ec7/USDC-eB48\n",
      "[PairOptimizer.optimize] p_optimal OptimizerBase.SimpleResult(result=0.9999812258712628, method='bisection', errormsg=None, context_dct=None) full_result [-0.0002017  0.0002017]\n",
      "[PairOptimizer.optimize] curves_t USDT-1ec7/USDC-eB48\n",
      "[PairOptimizer.optimize] p_optimal OptimizerBase.SimpleResult(result=0.9999812258711138, method='bisection', errormsg=None, context_dct=None) full_result [ 9.67979431e-05 -9.67979431e-05]\n",
      "[PairOptimizer.optimize] curves_t USDT-1ec7/USDC-eB48\n",
      "[PairOptimizer.optimize] p_optimal OptimizerBase.SimpleResult(result=0.9999812258708753, method='bisection', errormsg=None, context_dct=None) full_result [ 0.00057364 -0.00057364]\n",
      "[PairOptimizer.optimize] curves_t USDT-1ec7/USDC-eB48\n",
      "[PairOptimizer.optimize] p_optimal OptimizerBase.SimpleResult(result=0.9999814029407567, method='bisection', errormsg=None, context_dct=None) full_result [ 0.0004016  -0.12600621]\n",
      "[PairOptimizer.optimize] curves_t USDT-1ec7/USDC-eB48\n",
      "[PairOptimizer.optimize] p_optimal OptimizerBase.SimpleResult(result=0.9999812258710422, method='bisection', errormsg=None, context_dct=None) full_result [ 0.00023985 -0.00023985]\n"
     ]
    },
    {
     "data": {
      "application/vnd.jupyter.widget-view+json": {
       "model_id": "354a188d2d684f10bbc0e3fbe2088a2a",
       "version_major": 2,
       "version_minor": 0
      },
      "text/plain": [
       "  0%|          | 0/1 [00:00<?, ?it/s]"
      ]
     },
     "metadata": {},
     "output_type": "display_data"
    },
    {
     "name": "stdout",
     "output_type": "stream",
     "text": [
      "[PairOptimizer.optimize] curves_t WBTC-C599/USDT-1ec7\n",
      "[PairOptimizer.optimize] p_optimal OptimizerBase.SimpleResult(result=30694.613949047027, method='bisection', errormsg=None, context_dct=None) full_result [-6.27641507e-07 -9.29663398e-06]\n"
     ]
    },
    {
     "data": {
      "application/vnd.jupyter.widget-view+json": {
       "model_id": "3f5d1dd23d41433a89a78bbd2a7314cb",
       "version_major": 2,
       "version_minor": 0
      },
      "text/plain": [
       "  0%|          | 0/4 [00:00<?, ?it/s]"
      ]
     },
     "metadata": {},
     "output_type": "display_data"
    },
    {
     "name": "stdout",
     "output_type": "stream",
     "text": [
      "[PairOptimizer.optimize] curves_t DAI-1d0F/USDT-1ec7\n",
      "[PairOptimizer.optimize] p_optimal OptimizerBase.SimpleResult(result=0.9998810288348383, method='bisection', errormsg=None, context_dct=None) full_result [-0.00010109  0.00010061]\n",
      "[PairOptimizer.optimize] curves_t DAI-1d0F/USDT-1ec7\n",
      "[PairOptimizer.optimize] p_optimal OptimizerBase.SimpleResult(result=0.9998810288345285, method='bisection', errormsg=None, context_dct=None) full_result [ 0.00048351 -0.00048351]\n",
      "[PairOptimizer.optimize] curves_t DAI-1d0F/USDT-1ec7\n",
      "[PairOptimizer.optimize] p_optimal OptimizerBase.SimpleResult(result=1.0000277727934523, method='bisection', errormsg=None, context_dct=None) full_result [-4.46438789e-05  4.47034836e-05]\n",
      "[PairOptimizer.optimize] curves_t DAI-1d0F/USDT-1ec7\n",
      "[PairOptimizer.optimize] p_optimal OptimizerBase.SimpleResult(result=1.000027772793279, method='bisection', errormsg=None, context_dct=None) full_result [-1.69277191e-05  1.69873238e-05]\n"
     ]
    },
    {
     "data": {
      "application/vnd.jupyter.widget-view+json": {
       "model_id": "71827a7b5c57461098009a05a97c9eaa",
       "version_major": 2,
       "version_minor": 0
      },
      "text/plain": [
       "0it [00:00, ?it/s]"
      ]
     },
     "metadata": {},
     "output_type": "display_data"
    },
    {
     "data": {
      "application/vnd.jupyter.widget-view+json": {
       "model_id": "227b4cd560654f668e281e2684de89cc",
       "version_major": 2,
       "version_minor": 0
      },
      "text/plain": [
       "0it [00:00, ?it/s]"
      ]
     },
     "metadata": {},
     "output_type": "display_data"
    },
    {
     "data": {
      "application/vnd.jupyter.widget-view+json": {
       "model_id": "25b97c24dd7149dc9fc8bcfcd2e3ac7b",
       "version_major": 2,
       "version_minor": 0
      },
      "text/plain": [
       "0it [00:00, ?it/s]"
      ]
     },
     "metadata": {},
     "output_type": "display_data"
    },
    {
     "data": {
      "application/vnd.jupyter.widget-view+json": {
       "model_id": "615eed25eb274b10b8c710f5a789ba09",
       "version_major": 2,
       "version_minor": 0
      },
      "text/plain": [
       "0it [00:00, ?it/s]"
      ]
     },
     "metadata": {},
     "output_type": "display_data"
    },
    {
     "data": {
      "application/vnd.jupyter.widget-view+json": {
       "model_id": "cf6d62ffd2774ec3801b2ac734b2feda",
       "version_major": 2,
       "version_minor": 0
      },
      "text/plain": [
       "  0%|          | 0/1 [00:00<?, ?it/s]"
      ]
     },
     "metadata": {},
     "output_type": "display_data"
    },
    {
     "name": "stdout",
     "output_type": "stream",
     "text": [
      "[PairOptimizer.optimize] curves_t icETH-6A84/WETH-6Cc2\n",
      "[PairOptimizer.optimize] p_optimal OptimizerBase.SimpleResult(result=1.0625676226961724, method='bisection', errormsg=None, context_dct=None) full_result [-4.33828973e-10  4.60659066e-10]\n"
     ]
    },
    {
     "data": {
      "application/vnd.jupyter.widget-view+json": {
       "model_id": "38f95cda4cdf4e2c9047d70662326975",
       "version_major": 2,
       "version_minor": 0
      },
      "text/plain": [
       "0it [00:00, ?it/s]"
      ]
     },
     "metadata": {},
     "output_type": "display_data"
    },
    {
     "data": {
      "application/vnd.jupyter.widget-view+json": {
       "model_id": "dd555b55141643a4b21cc5b0615c7599",
       "version_major": 2,
       "version_minor": 0
      },
      "text/plain": [
       "  0%|          | 0/4 [00:00<?, ?it/s]"
      ]
     },
     "metadata": {},
     "output_type": "display_data"
    },
    {
     "name": "stdout",
     "output_type": "stream",
     "text": [
      "[PairOptimizer.optimize] curves_t WETH-6Cc2/BNT-FF1C\n",
      "[PairOptimizer.optimize] p_optimal OptimizerBase.SimpleResult(result=4764.128744550646, method='bisection', errormsg=None, context_dct=None) full_result [-5.01323496e-04 -9.32934199e-07]\n",
      "[PairOptimizer.optimize] curves_t WETH-6Cc2/BNT-FF1C\n",
      "[PairOptimizer.optimize] p_optimal OptimizerBase.SimpleResult(result=4764.138098143359, method='bisection', errormsg=None, context_dct=None) full_result [ 1.95996108e-10 -9.35047865e-07]\n",
      "[PairOptimizer.optimize] curves_t WETH-6Cc2/BNT-FF1C\n",
      "[PairOptimizer.optimize] p_optimal OptimizerBase.SimpleResult(result=4764.138098141909, method='bisection', errormsg=None, context_dct=None) full_result [ 7.35781214e-10 -3.50549817e-06]\n",
      "[PairOptimizer.optimize] curves_t WETH-6Cc2/BNT-FF1C\n",
      "[PairOptimizer.optimize] p_optimal OptimizerBase.SimpleResult(result=4764.138098143836, method='bisection', errormsg=None, context_dct=None) full_result [ 1.86446414e-11 -8.94069672e-08]\n"
     ]
    },
    {
     "data": {
      "application/vnd.jupyter.widget-view+json": {
       "model_id": "d367c57c8afc4355bd20871138145f3f",
       "version_major": 2,
       "version_minor": 0
      },
      "text/plain": [
       "  0%|          | 0/6 [00:00<?, ?it/s]"
      ]
     },
     "metadata": {},
     "output_type": "display_data"
    },
    {
     "name": "stdout",
     "output_type": "stream",
     "text": [
      "[PairOptimizer.optimize] curves_t BNT-FF1C/USDC-eB48\n",
      "[PairOptimizer.optimize] p_optimal OptimizerBase.SimpleResult(result=0.3933388484434187, method='bisection', errormsg=None, context_dct=None) full_result [ 2.20257789e-07 -8.66129994e-08]\n",
      "[PairOptimizer.optimize] curves_t BNT-FF1C/USDC-eB48\n",
      "[PairOptimizer.optimize] p_optimal OptimizerBase.SimpleResult(result=0.3933388484435465, method='bisection', errormsg=None, context_dct=None) full_result [-2.22586095e-07  8.75443220e-08]\n",
      "[PairOptimizer.optimize] curves_t BNT-FF1C/USDC-eB48\n",
      "[PairOptimizer.optimize] p_optimal OptimizerBase.SimpleResult(result=0.3933388484434076, method='bisection', errormsg=None, context_dct=None) full_result [ 2.58907676e-07 -1.01746991e-07]\n",
      "[PairOptimizer.optimize] curves_t BNT-FF1C/USDC-eB48\n",
      "[PairOptimizer.optimize] p_optimal OptimizerBase.SimpleResult(result=0.39333884844358136, method='bisection', errormsg=None, context_dct=None) full_result [-3.43192369e-07  1.35041773e-07]\n",
      "[PairOptimizer.optimize] curves_t BNT-FF1C/USDC-eB48\n",
      "[PairOptimizer.optimize] p_optimal OptimizerBase.SimpleResult(result=0.39333798799177033, method='bisection', errormsg=None, context_dct=None) full_result [-1.90921128e-07 -9.95196286e-03]\n",
      "[PairOptimizer.optimize] curves_t BNT-FF1C/USDC-eB48\n",
      "[PairOptimizer.optimize] p_optimal OptimizerBase.SimpleResult(result=0.3933388484434884, method='bisection', errormsg=None, context_dct=None) full_result [-2.09547579e-08  8.14907253e-09]\n"
     ]
    },
    {
     "data": {
      "application/vnd.jupyter.widget-view+json": {
       "model_id": "163d969aa7f34fef9da11efa7e0620cb",
       "version_major": 2,
       "version_minor": 0
      },
      "text/plain": [
       "0it [00:00, ?it/s]"
      ]
     },
     "metadata": {},
     "output_type": "display_data"
    },
    {
     "data": {
      "application/vnd.jupyter.widget-view+json": {
       "model_id": "fe025b2eceec42fbb246bdd8a9c26200",
       "version_major": 2,
       "version_minor": 0
      },
      "text/plain": [
       "0it [00:00, ?it/s]"
      ]
     },
     "metadata": {},
     "output_type": "display_data"
    },
    {
     "data": {
      "application/vnd.jupyter.widget-view+json": {
       "model_id": "b67a6559d1e9439f941137b08dfccc59",
       "version_major": 2,
       "version_minor": 0
      },
      "text/plain": [
       "0it [00:00, ?it/s]"
      ]
     },
     "metadata": {},
     "output_type": "display_data"
    },
    {
     "data": {
      "application/vnd.jupyter.widget-view+json": {
       "model_id": "6f9e04fa5e8f43b08993aae5831b9376",
       "version_major": 2,
       "version_minor": 0
      },
      "text/plain": [
       "0it [00:00, ?it/s]"
      ]
     },
     "metadata": {},
     "output_type": "display_data"
    },
    {
     "data": {
      "application/vnd.jupyter.widget-view+json": {
       "model_id": "c3581d7a75264515bb7c27ca8a64d125",
       "version_major": 2,
       "version_minor": 0
      },
      "text/plain": [
       "0it [00:00, ?it/s]"
      ]
     },
     "metadata": {},
     "output_type": "display_data"
    },
    {
     "data": {
      "application/vnd.jupyter.widget-view+json": {
       "model_id": "ff9f5f1c18f744aca53c5e1ad3d422fa",
       "version_major": 2,
       "version_minor": 0
      },
      "text/plain": [
       "0it [00:00, ?it/s]"
      ]
     },
     "metadata": {},
     "output_type": "display_data"
    },
    {
     "data": {
      "application/vnd.jupyter.widget-view+json": {
       "model_id": "18d64ef8e1ea4e6aa9e714e0a49b6e0f",
       "version_major": 2,
       "version_minor": 0
      },
      "text/plain": [
       "0it [00:00, ?it/s]"
      ]
     },
     "metadata": {},
     "output_type": "display_data"
    },
    {
     "data": {
      "application/vnd.jupyter.widget-view+json": {
       "model_id": "152da8ecc50f4881ba9d4429c02fd3ce",
       "version_major": 2,
       "version_minor": 0
      },
      "text/plain": [
       "0it [00:00, ?it/s]"
      ]
     },
     "metadata": {},
     "output_type": "display_data"
    },
    {
     "data": {
      "application/vnd.jupyter.widget-view+json": {
       "model_id": "4c90be20bedf4e20ab18aa683b46bd15",
       "version_major": 2,
       "version_minor": 0
      },
      "text/plain": [
       "0it [00:00, ?it/s]"
      ]
     },
     "metadata": {},
     "output_type": "display_data"
    },
    {
     "data": {
      "application/vnd.jupyter.widget-view+json": {
       "model_id": "90bbf7e6ca50454bb0414e9691bf5e50",
       "version_major": 2,
       "version_minor": 0
      },
      "text/plain": [
       "0it [00:00, ?it/s]"
      ]
     },
     "metadata": {},
     "output_type": "display_data"
    },
    {
     "data": {
      "application/vnd.jupyter.widget-view+json": {
       "model_id": "bd6216645a7441318d802162198e09bc",
       "version_major": 2,
       "version_minor": 0
      },
      "text/plain": [
       "0it [00:00, ?it/s]"
      ]
     },
     "metadata": {},
     "output_type": "display_data"
    },
    {
     "data": {
      "application/vnd.jupyter.widget-view+json": {
       "model_id": "9ce51957d96640ddb97abee74a8bf622",
       "version_major": 2,
       "version_minor": 0
      },
      "text/plain": [
       "0it [00:00, ?it/s]"
      ]
     },
     "metadata": {},
     "output_type": "display_data"
    },
    {
     "data": {
      "application/vnd.jupyter.widget-view+json": {
       "model_id": "ff767486f8c1459a82326a938948f145",
       "version_major": 2,
       "version_minor": 0
      },
      "text/plain": [
       "0it [00:00, ?it/s]"
      ]
     },
     "metadata": {},
     "output_type": "display_data"
    },
    {
     "data": {
      "application/vnd.jupyter.widget-view+json": {
       "model_id": "200d56a89445466aa92092669967106e",
       "version_major": 2,
       "version_minor": 0
      },
      "text/plain": [
       "0it [00:00, ?it/s]"
      ]
     },
     "metadata": {},
     "output_type": "display_data"
    },
    {
     "data": {
      "application/vnd.jupyter.widget-view+json": {
       "model_id": "854f5851aa404a80b253b5c0bd287340",
       "version_major": 2,
       "version_minor": 0
      },
      "text/plain": [
       "0it [00:00, ?it/s]"
      ]
     },
     "metadata": {},
     "output_type": "display_data"
    },
    {
     "data": {
      "application/vnd.jupyter.widget-view+json": {
       "model_id": "c356d21dba5c45a48daa4076973038a6",
       "version_major": 2,
       "version_minor": 0
      },
      "text/plain": [
       "  0%|          | 0/2 [00:00<?, ?it/s]"
      ]
     },
     "metadata": {},
     "output_type": "display_data"
    },
    {
     "name": "stdout",
     "output_type": "stream",
     "text": [
      "[PairOptimizer.optimize] curves_t wstETH-2Ca0/USDC-eB48\n",
      "[PairOptimizer.optimize] p_optimal OptimizerBase.SimpleResult(result=2132.8228517299513, method='bisection', errormsg=None, context_dct=None) full_result [ 1.12692078e-11 -2.40397640e-08]\n",
      "[PairOptimizer.optimize] curves_t wstETH-2Ca0/USDC-eB48\n",
      "[PairOptimizer.optimize] p_optimal OptimizerBase.SimpleResult(result=2132.8228517296384, method='bisection', errormsg=None, context_dct=None) full_result [ 1.99236183e-11 -4.24915925e-08]\n"
     ]
    },
    {
     "data": {
      "application/vnd.jupyter.widget-view+json": {
       "model_id": "904719e6025f4a0f8dd4bd48b45ec7a5",
       "version_major": 2,
       "version_minor": 0
      },
      "text/plain": [
       "0it [00:00, ?it/s]"
      ]
     },
     "metadata": {},
     "output_type": "display_data"
    },
    {
     "data": {
      "application/vnd.jupyter.widget-view+json": {
       "model_id": "747a8e978497489b894a218326012cb8",
       "version_major": 2,
       "version_minor": 0
      },
      "text/plain": [
       "  0%|          | 0/2 [00:00<?, ?it/s]"
      ]
     },
     "metadata": {},
     "output_type": "display_data"
    },
    {
     "name": "stdout",
     "output_type": "stream",
     "text": [
      "[PairOptimizer.optimize] curves_t HEX-eb39/WETH-6Cc2\n",
      "[PairOptimizer.optimize] p_optimal OptimizerBase.SimpleResult(result=4.639072734871654e-06, method='bisection', errormsg=None, context_dct=None) full_result [ 6.18013860e-06 -1.40883161e-03]\n",
      "[PairOptimizer.optimize] curves_t HEX-eb39/WETH-6Cc2\n",
      "[PairOptimizer.optimize] p_optimal OptimizerBase.SimpleResult(result=4.617372379227854e-06, method='bisection', errormsg=None, context_dct=None) full_result [-3.09833574e-05 -1.42138817e-03]\n"
     ]
    },
    {
     "data": {
      "application/vnd.jupyter.widget-view+json": {
       "model_id": "ba11b5d2ff9946178102206eaf5a3392",
       "version_major": 2,
       "version_minor": 0
      },
      "text/plain": [
       "0it [00:00, ?it/s]"
      ]
     },
     "metadata": {},
     "output_type": "display_data"
    },
    {
     "data": {
      "application/vnd.jupyter.widget-view+json": {
       "model_id": "b2aaa696fa484b6ca8a91871c3fb8668",
       "version_major": 2,
       "version_minor": 0
      },
      "text/plain": [
       "  0%|          | 0/2 [00:00<?, ?it/s]"
      ]
     },
     "metadata": {},
     "output_type": "display_data"
    },
    {
     "name": "stdout",
     "output_type": "stream",
     "text": [
      "[PairOptimizer.optimize] curves_t LYXe-be6D/WETH-6Cc2\n",
      "[PairOptimizer.optimize] p_optimal OptimizerBase.SimpleResult(result=0.004425455338543597, method='bisection', errormsg=None, context_dct=None) full_result [-6.97036739e-09  3.08659764e-11]\n",
      "[PairOptimizer.optimize] curves_t LYXe-be6D/WETH-6Cc2\n",
      "[PairOptimizer.optimize] p_optimal OptimizerBase.SimpleResult(result=0.004418792395805483, method='bisection', errormsg=None, context_dct=None) full_result [ 1.22963684e-09 -5.43565193e-12]\n"
     ]
    },
    {
     "data": {
      "application/vnd.jupyter.widget-view+json": {
       "model_id": "42a553948358462197ad9ea6e7209116",
       "version_major": 2,
       "version_minor": 0
      },
      "text/plain": [
       "0it [00:00, ?it/s]"
      ]
     },
     "metadata": {},
     "output_type": "display_data"
    },
    {
     "data": {
      "application/vnd.jupyter.widget-view+json": {
       "model_id": "4ff9465efada4bdc80fe0be23b634cfa",
       "version_major": 2,
       "version_minor": 0
      },
      "text/plain": [
       "  0%|          | 0/4 [00:00<?, ?it/s]"
      ]
     },
     "metadata": {},
     "output_type": "display_data"
    },
    {
     "name": "stdout",
     "output_type": "stream",
     "text": [
      "[PairOptimizer.optimize] curves_t agEUR-Bce8/USDC-eB48\n",
      "[PairOptimizer.optimize] p_optimal OptimizerBase.SimpleResult(result=1.1012586819934904, method='bisection', errormsg=None, context_dct=None) full_result [ 2.15768814e-05 -2.37524509e-05]\n",
      "[PairOptimizer.optimize] curves_t agEUR-Bce8/USDC-eB48\n",
      "[PairOptimizer.optimize] p_optimal OptimizerBase.SimpleResult(result=1.1012068414304432, method='bisection', errormsg=None, context_dct=None) full_result [-1.07367523e-05 -1.18744592e+01]\n",
      "[PairOptimizer.optimize] curves_t agEUR-Bce8/USDC-eB48\n",
      "[PairOptimizer.optimize] p_optimal OptimizerBase.SimpleResult(result=1.0977629060275782, method='bisection', errormsg=None, context_dct=None) full_result [ 1.81025825e-08 -1.99652277e-08]\n",
      "[PairOptimizer.optimize] curves_t agEUR-Bce8/USDC-eB48\n",
      "[PairOptimizer.optimize] p_optimal OptimizerBase.SimpleResult(result=1.0954248748364375, method='bisection', errormsg=None, context_dct=None) full_result [-5.43659553e-08 -2.33145547e-01]\n"
     ]
    },
    {
     "data": {
      "application/vnd.jupyter.widget-view+json": {
       "model_id": "c06d39c4474c45afa880f4ae7f5ec251",
       "version_major": 2,
       "version_minor": 0
      },
      "text/plain": [
       "0it [00:00, ?it/s]"
      ]
     },
     "metadata": {},
     "output_type": "display_data"
    },
    {
     "data": {
      "application/vnd.jupyter.widget-view+json": {
       "model_id": "9e23846b071d48f0916bc8527866aa62",
       "version_major": 2,
       "version_minor": 0
      },
      "text/plain": [
       "  0%|          | 0/6 [00:00<?, ?it/s]"
      ]
     },
     "metadata": {},
     "output_type": "display_data"
    },
    {
     "name": "stdout",
     "output_type": "stream",
     "text": [
      "[PairOptimizer.optimize] curves_t SNX-2a6F/WETH-6Cc2\n",
      "[PairOptimizer.optimize] p_optimal OptimizerBase.SimpleResult(result=0.0010930027716636022, method='bisection', errormsg=None, context_dct=None) full_result [ 1.28871761e-07 -1.40971679e-10]\n",
      "[PairOptimizer.optimize] curves_t SNX-2a6F/WETH-6Cc2\n",
      "[PairOptimizer.optimize] p_optimal OptimizerBase.SimpleResult(result=0.0010930027716642321, method='bisection', errormsg=None, context_dct=None) full_result [-1.18860044e-07  1.29830369e-10]\n",
      "[PairOptimizer.optimize] curves_t SNX-2a6F/WETH-6Cc2\n",
      "[PairOptimizer.optimize] p_optimal OptimizerBase.SimpleResult(result=0.0010827174870951528, method='bisection', errormsg=None, context_dct=None) full_result [-6.58474164e-10  7.14095449e-13]\n",
      "[PairOptimizer.optimize] curves_t SNX-2a6F/WETH-6Cc2\n",
      "[PairOptimizer.optimize] p_optimal OptimizerBase.SimpleResult(result=0.0010827174870951424, method='bisection', errormsg=None, context_dct=None) full_result [-6.32098818e-10  6.84785562e-13]\n",
      "[PairOptimizer.optimize] curves_t SNX-2a6F/WETH-6Cc2\n",
      "[PairOptimizer.optimize] p_optimal OptimizerBase.SimpleResult(result=0.0010940339696130523, method='bisection', errormsg=None, context_dct=None) full_result [-1.79861672e-08  1.96678229e-11]\n",
      "[PairOptimizer.optimize] curves_t SNX-2a6F/WETH-6Cc2\n",
      "[PairOptimizer.optimize] p_optimal OptimizerBase.SimpleResult(result=0.0010940339696125217, method='bisection', errormsg=None, context_dct=None) full_result [ 5.73345460e-09 -6.28119778e-12]\n"
     ]
    },
    {
     "data": {
      "application/vnd.jupyter.widget-view+json": {
       "model_id": "2734da9331b54314ba57caa9d2967815",
       "version_major": 2,
       "version_minor": 0
      },
      "text/plain": [
       "0it [00:00, ?it/s]"
      ]
     },
     "metadata": {},
     "output_type": "display_data"
    },
    {
     "data": {
      "application/vnd.jupyter.widget-view+json": {
       "model_id": "2054b038fe644f8188888a0d6c38dca6",
       "version_major": 2,
       "version_minor": 0
      },
      "text/plain": [
       "0it [00:00, ?it/s]"
      ]
     },
     "metadata": {},
     "output_type": "display_data"
    },
    {
     "data": {
      "application/vnd.jupyter.widget-view+json": {
       "model_id": "83a50fe1e2b34c29a891dea3ff25bc7c",
       "version_major": 2,
       "version_minor": 0
      },
      "text/plain": [
       "0it [00:00, ?it/s]"
      ]
     },
     "metadata": {},
     "output_type": "display_data"
    },
    {
     "data": {
      "application/vnd.jupyter.widget-view+json": {
       "model_id": "66c3aa83da544154af28ebc6a3eb29fc",
       "version_major": 2,
       "version_minor": 0
      },
      "text/plain": [
       "0it [00:00, ?it/s]"
      ]
     },
     "metadata": {},
     "output_type": "display_data"
    },
    {
     "data": {
      "application/vnd.jupyter.widget-view+json": {
       "model_id": "782cd83d1b4d477e97a647c2aa7394e6",
       "version_major": 2,
       "version_minor": 0
      },
      "text/plain": [
       "0it [00:00, ?it/s]"
      ]
     },
     "metadata": {},
     "output_type": "display_data"
    },
    {
     "data": {
      "application/vnd.jupyter.widget-view+json": {
       "model_id": "fc6d38af5ed34036970519bf6ad83337",
       "version_major": 2,
       "version_minor": 0
      },
      "text/plain": [
       "  0%|          | 0/2 [00:00<?, ?it/s]"
      ]
     },
     "metadata": {},
     "output_type": "display_data"
    },
    {
     "name": "stdout",
     "output_type": "stream",
     "text": [
      "[PairOptimizer.optimize] curves_t SGT-EcDD/WETH-6Cc2\n",
      "[PairOptimizer.optimize] p_optimal OptimizerBase.SimpleResult(result=0.00022209613284442402, method='bisection', errormsg=None, context_dct=None) full_result [ 4.06289473e-08 -9.00968189e-12]\n",
      "[PairOptimizer.optimize] curves_t SGT-EcDD/WETH-6Cc2\n",
      "[PairOptimizer.optimize] p_optimal OptimizerBase.SimpleResult(result=0.00021922396426222578, method='bisection', errormsg=None, context_dct=None) full_result [ 1.04773790e-09 -2.30926389e-13]\n"
     ]
    },
    {
     "data": {
      "application/vnd.jupyter.widget-view+json": {
       "model_id": "02596050cc1c4167bb6564b91ea13c7e",
       "version_major": 2,
       "version_minor": 0
      },
      "text/plain": [
       "  0%|          | 0/16 [00:00<?, ?it/s]"
      ]
     },
     "metadata": {},
     "output_type": "display_data"
    },
    {
     "name": "stdout",
     "output_type": "stream",
     "text": [
      "[PairOptimizer.optimize] curves_t WBTC-C599/WETH-6Cc2\n",
      "[PairOptimizer.optimize] p_optimal OptimizerBase.SimpleResult(result=16.25127735725492, method='bisection', errormsg=None, context_dct=None) full_result [-2.74303602e-09  4.45870683e-08]\n",
      "[PairOptimizer.optimize] curves_t WBTC-C599/WETH-6Cc2\n",
      "[PairOptimizer.optimize] p_optimal OptimizerBase.SimpleResult(result=16.251277357233576, method='bisection', errormsg=None, context_dct=None) full_result [-1.81454762e-09  2.64954920e-08]\n",
      "[PairOptimizer.optimize] curves_t WBTC-C599/WETH-6Cc2\n",
      "[PairOptimizer.optimize] p_optimal OptimizerBase.SimpleResult(result=16.25127735724241, method='bisection', errormsg=None, context_dct=None) full_result [ 3.66344466e-09 -5.94882295e-08]\n",
      "[PairOptimizer.optimize] curves_t WBTC-C599/WETH-6Cc2\n",
      "[PairOptimizer.optimize] p_optimal OptimizerBase.SimpleResult(result=16.25127735725219, method='bisection', errormsg=None, context_dct=None) full_result [-1.34605216e-09  2.18860805e-08]\n",
      "[PairOptimizer.optimize] curves_t WBTC-C599/WETH-6Cc2\n",
      "[PairOptimizer.optimize] p_optimal OptimizerBase.SimpleResult(result=16.251277357247133, method='bisection', errormsg=None, context_dct=None) full_result [ 1.24418875e-09 -2.01980583e-08]\n",
      "[PairOptimizer.optimize] curves_t WBTC-C599/WETH-6Cc2\n",
      "[PairOptimizer.optimize] p_optimal OptimizerBase.SimpleResult(result=16.251277357247766, method='bisection', errormsg=None, context_dct=None) full_result [ 9.20408638e-10 -1.49593689e-08]\n",
      "[PairOptimizer.optimize] curves_t WBTC-C599/WETH-6Cc2\n",
      "[PairOptimizer.optimize] p_optimal OptimizerBase.SimpleResult(result=16.25127564699462, method='bisection', errormsg=None, context_dct=None) full_result [ 7.75202125e-11 -5.60414833e-07]\n",
      "[PairOptimizer.optimize] curves_t WBTC-C599/WETH-6Cc2\n",
      "[PairOptimizer.optimize] p_optimal OptimizerBase.SimpleResult(result=16.25127735724613, method='bisection', errormsg=None, context_dct=None) full_result [ 1.75714376e-09 -2.85217538e-08]\n",
      "[PairOptimizer.optimize] curves_t WBTC-C599/WETH-6Cc2\n",
      "[PairOptimizer.optimize] p_optimal OptimizerBase.SimpleResult(result=16.262500335191948, method='bisection', errormsg=None, context_dct=None) full_result [-7.50151230e-09  1.22003257e-07]\n",
      "[PairOptimizer.optimize] curves_t WBTC-C599/WETH-6Cc2\n",
      "[PairOptimizer.optimize] p_optimal OptimizerBase.SimpleResult(result=16.262500335181386, method='bisection', errormsg=None, context_dct=None) full_result [-4.99414110e-09  7.80092719e-08]\n",
      "[PairOptimizer.optimize] curves_t WBTC-C599/WETH-6Cc2\n",
      "[PairOptimizer.optimize] p_optimal OptimizerBase.SimpleResult(result=16.262500335186033, method='bisection', errormsg=None, context_dct=None) full_result [-4.94765118e-10  7.91624188e-09]\n",
      "[PairOptimizer.optimize] curves_t WBTC-C599/WETH-6Cc2\n",
      "[PairOptimizer.optimize] p_optimal OptimizerBase.SimpleResult(result=16.26250033519087, method='bisection', errormsg=None, context_dct=None) full_result [-6.22821972e-09  1.01281330e-07]\n",
      "[PairOptimizer.optimize] curves_t WBTC-C599/WETH-6Cc2\n",
      "[PairOptimizer.optimize] p_optimal OptimizerBase.SimpleResult(result=16.262500335190833, method='bisection', errormsg=None, context_dct=None) full_result [-6.17728801e-09  1.00466423e-07]\n",
      "[PairOptimizer.optimize] curves_t WBTC-C599/WETH-6Cc2\n",
      "[PairOptimizer.optimize] p_optimal OptimizerBase.SimpleResult(result=16.262500335185337, method='bisection', errormsg=None, context_dct=None) full_result [ 3.34694050e-10 -5.47152013e-09]\n",
      "[PairOptimizer.optimize] curves_t WBTC-C599/WETH-6Cc2\n",
      "[PairOptimizer.optimize] p_optimal OptimizerBase.SimpleResult(result=16.26249310391707, method='bisection', errormsg=None, context_dct=None) full_result [ 3.98554079e-09 -5.36410068e-05]\n",
      "[PairOptimizer.optimize] curves_t WBTC-C599/WETH-6Cc2\n",
      "[PairOptimizer.optimize] p_optimal OptimizerBase.SimpleResult(result=16.262500335189472, method='bisection', errormsg=None, context_dct=None) full_result [-4.57657734e-09  7.43893906e-08]\n"
     ]
    },
    {
     "data": {
      "application/vnd.jupyter.widget-view+json": {
       "model_id": "2398f388622c432bb40575e81e4e9427",
       "version_major": 2,
       "version_minor": 0
      },
      "text/plain": [
       "  0%|          | 0/16 [00:00<?, ?it/s]"
      ]
     },
     "metadata": {},
     "output_type": "display_data"
    },
    {
     "name": "stdout",
     "output_type": "stream",
     "text": [
      "[PairOptimizer.optimize] curves_t WBTC-C599/USDC-eB48\n",
      "[PairOptimizer.optimize] p_optimal OptimizerBase.SimpleResult(result=30709.171178589037, method='bisection', errormsg=None, context_dct=None) full_result [ 3.52997631e-11 -1.08499080e-06]\n",
      "[PairOptimizer.optimize] curves_t WBTC-C599/USDC-eB48\n",
      "[PairOptimizer.optimize] p_optimal OptimizerBase.SimpleResult(result=30709.17117859955, method='bisection', errormsg=None, context_dct=None) full_result [-1.14255272e-11  3.50177288e-07]\n",
      "[PairOptimizer.optimize] curves_t WBTC-C599/USDC-eB48\n",
      "[PairOptimizer.optimize] p_optimal OptimizerBase.SimpleResult(result=30709.17117859282, method='bisection', errormsg=None, context_dct=None) full_result [ 1.85309545e-11 -5.69969416e-07]\n",
      "[PairOptimizer.optimize] curves_t WBTC-C599/USDC-eB48\n",
      "[PairOptimizer.optimize] p_optimal OptimizerBase.SimpleResult(result=30709.17117859589, method='bisection', errormsg=None, context_dct=None) full_result [ 4.83169060e-12 -1.49011612e-07]\n",
      "[PairOptimizer.optimize] curves_t WBTC-C599/USDC-eB48\n",
      "[PairOptimizer.optimize] p_optimal OptimizerBase.SimpleResult(result=30709.17117859447, method='bisection', errormsg=None, context_dct=None) full_result [ 1.11413101e-11 -3.43658030e-07]\n",
      "[PairOptimizer.optimize] curves_t WBTC-C599/USDC-eB48\n",
      "[PairOptimizer.optimize] p_optimal OptimizerBase.SimpleResult(result=30709.171178601522, method='bisection', errormsg=None, context_dct=None) full_result [-2.01794137e-11  6.19329512e-07]\n",
      "[PairOptimizer.optimize] curves_t WBTC-C599/USDC-eB48\n",
      "[PairOptimizer.optimize] p_optimal OptimizerBase.SimpleResult(result=30708.386280897503, method='bisection', errormsg=None, context_dct=None) full_result [ 2.96917491e-11 -8.92271088e-01]\n",
      "[PairOptimizer.optimize] curves_t WBTC-C599/USDC-eB48\n",
      "[PairOptimizer.optimize] p_optimal OptimizerBase.SimpleResult(result=30709.171178605357, method='bisection', errormsg=None, context_dct=None) full_result [-3.72324394e-11  1.14273280e-06]\n",
      "[PairOptimizer.optimize] curves_t WBTC-C599/USDC-eB48\n",
      "[PairOptimizer.optimize] p_optimal OptimizerBase.SimpleResult(result=30681.192450067927, method='bisection', errormsg=None, context_dct=None) full_result [ 5.82986104e-10 -1.79111958e-05]\n",
      "[PairOptimizer.optimize] curves_t WBTC-C599/USDC-eB48\n",
      "[PairOptimizer.optimize] p_optimal OptimizerBase.SimpleResult(result=30681.192450086935, method='bisection', errormsg=None, context_dct=None) full_result [-8.64019967e-10  2.64942646e-05]\n",
      "[PairOptimizer.optimize] curves_t WBTC-C599/USDC-eB48\n",
      "[PairOptimizer.optimize] p_optimal OptimizerBase.SimpleResult(result=30681.192450084593, method='bisection', errormsg=None, context_dct=None) full_result [-6.85759005e-10  2.10106373e-05]\n",
      "[PairOptimizer.optimize] curves_t WBTC-C599/USDC-eB48\n",
      "[PairOptimizer.optimize] p_optimal OptimizerBase.SimpleResult(result=30681.192450076273, method='bisection', errormsg=None, context_dct=None) full_result [-5.27506927e-11  1.57952309e-06]\n",
      "[PairOptimizer.optimize] curves_t WBTC-C599/USDC-eB48\n",
      "[PairOptimizer.optimize] p_optimal OptimizerBase.SimpleResult(result=30681.19245007934, method='bisection', errormsg=None, context_dct=None) full_result [-2.85581336e-10  8.73208046e-06]\n",
      "[PairOptimizer.optimize] curves_t WBTC-C599/USDC-eB48\n",
      "[PairOptimizer.optimize] p_optimal OptimizerBase.SimpleResult(result=30681.192450081726, method='bisection', errormsg=None, context_dct=None) full_result [-4.67480277e-10  1.43349171e-05]\n",
      "[PairOptimizer.optimize] curves_t WBTC-C599/USDC-eB48\n",
      "[PairOptimizer.optimize] p_optimal OptimizerBase.SimpleResult(result=30681.149014643066, method='bisection', errormsg=None, context_dct=None) full_result [ 2.77502132e-10 -7.98431910e-01]\n",
      "[PairOptimizer.optimize] curves_t WBTC-C599/USDC-eB48\n",
      "[PairOptimizer.optimize] p_optimal OptimizerBase.SimpleResult(result=30681.192450076527, method='bisection', errormsg=None, context_dct=None) full_result [-7.18500814e-11  2.17556953e-06]\n"
     ]
    },
    {
     "data": {
      "application/vnd.jupyter.widget-view+json": {
       "model_id": "2394c141503a42148b6386ed1654a03d",
       "version_major": 2,
       "version_minor": 0
      },
      "text/plain": [
       "  0%|          | 0/1 [00:00<?, ?it/s]"
      ]
     },
     "metadata": {},
     "output_type": "display_data"
    },
    {
     "name": "stdout",
     "output_type": "stream",
     "text": [
      "[PairOptimizer.optimize] curves_t WBTC-C599/USDT-1ec7\n",
      "[PairOptimizer.optimize] p_optimal OptimizerBase.SimpleResult(result=30694.613926066977, method='bisection', errormsg=None, context_dct=None) full_result [-7.29679297e-11 -1.92722695e-02]\n"
     ]
    },
    {
     "data": {
      "application/vnd.jupyter.widget-view+json": {
       "model_id": "d8406a4a2c0842adbbf5568c88bf5ce8",
       "version_major": 2,
       "version_minor": 0
      },
      "text/plain": [
       "0it [00:00, ?it/s]"
      ]
     },
     "metadata": {},
     "output_type": "display_data"
    },
    {
     "data": {
      "application/vnd.jupyter.widget-view+json": {
       "model_id": "90420dc31e4745648503a5c3cf56b79b",
       "version_major": 2,
       "version_minor": 0
      },
      "text/plain": [
       "0it [00:00, ?it/s]"
      ]
     },
     "metadata": {},
     "output_type": "display_data"
    },
    {
     "data": {
      "application/vnd.jupyter.widget-view+json": {
       "model_id": "5c301a7334e54ab3a3d1d4adb7fd0010",
       "version_major": 2,
       "version_minor": 0
      },
      "text/plain": [
       "0it [00:00, ?it/s]"
      ]
     },
     "metadata": {},
     "output_type": "display_data"
    },
    {
     "data": {
      "application/vnd.jupyter.widget-view+json": {
       "model_id": "99eb94e9e22b4cb0a0710c3146926a33",
       "version_major": 2,
       "version_minor": 0
      },
      "text/plain": [
       "0it [00:00, ?it/s]"
      ]
     },
     "metadata": {},
     "output_type": "display_data"
    },
    {
     "data": {
      "application/vnd.jupyter.widget-view+json": {
       "model_id": "28b18be9bf514cd685ddd19622c8f549",
       "version_major": 2,
       "version_minor": 0
      },
      "text/plain": [
       "0it [00:00, ?it/s]"
      ]
     },
     "metadata": {},
     "output_type": "display_data"
    },
    {
     "data": {
      "application/vnd.jupyter.widget-view+json": {
       "model_id": "3f860a3f0daf4f3bbd70db4a25c99318",
       "version_major": 2,
       "version_minor": 0
      },
      "text/plain": [
       "0it [00:00, ?it/s]"
      ]
     },
     "metadata": {},
     "output_type": "display_data"
    },
    {
     "data": {
      "application/vnd.jupyter.widget-view+json": {
       "model_id": "3a4e4a6390b54c15ab8e665c29e3b75d",
       "version_major": 2,
       "version_minor": 0
      },
      "text/plain": [
       "0it [00:00, ?it/s]"
      ]
     },
     "metadata": {},
     "output_type": "display_data"
    },
    {
     "data": {
      "application/vnd.jupyter.widget-view+json": {
       "model_id": "03f7ead6d48a496ba695a5e39e894354",
       "version_major": 2,
       "version_minor": 0
      },
      "text/plain": [
       "0it [00:00, ?it/s]"
      ]
     },
     "metadata": {},
     "output_type": "display_data"
    },
    {
     "data": {
      "application/vnd.jupyter.widget-view+json": {
       "model_id": "8b61a0e220244559a05cd55f17d3e077",
       "version_major": 2,
       "version_minor": 0
      },
      "text/plain": [
       "  0%|          | 0/1 [00:00<?, ?it/s]"
      ]
     },
     "metadata": {},
     "output_type": "display_data"
    },
    {
     "name": "stdout",
     "output_type": "stream",
     "text": [
      "[PairOptimizer.optimize] curves_t MATIC-eBB0/USDC-eB48\n",
      "[PairOptimizer.optimize] p_optimal OptimizerBase.SimpleResult(result=0.7402602510973211, method='bisection', errormsg=None, context_dct=None) full_result [-9.26957000e-09  6.86122803e-09]\n"
     ]
    },
    {
     "data": {
      "application/vnd.jupyter.widget-view+json": {
       "model_id": "a5fb7bf252ee459ea7d568f33a33b257",
       "version_major": 2,
       "version_minor": 0
      },
      "text/plain": [
       "  0%|          | 0/4 [00:00<?, ?it/s]"
      ]
     },
     "metadata": {},
     "output_type": "display_data"
    },
    {
     "name": "stdout",
     "output_type": "stream",
     "text": [
      "[PairOptimizer.optimize] curves_t PEPE-1933/WETH-6Cc2\n",
      "[PairOptimizer.optimize] p_optimal OptimizerBase.SimpleResult(result=8.149138379328678e-10, method='bisection', errormsg=None, context_dct=None) full_result [ 2.51562500e+00 -2.04818207e-09]\n",
      "[PairOptimizer.optimize] curves_t PEPE-1933/WETH-6Cc2\n",
      "[PairOptimizer.optimize] p_optimal OptimizerBase.SimpleResult(result=8.149138379327994e-10, method='bisection', errormsg=None, context_dct=None) full_result [ 3.55078125e+00 -2.89583113e-09]\n",
      "[PairOptimizer.optimize] curves_t PEPE-1933/WETH-6Cc2\n",
      "[PairOptimizer.optimize] p_optimal OptimizerBase.SimpleResult(result=8.107804985572999e-10, method='bisection', errormsg=None, context_dct=None) full_result [ 2.69775391e-02 -2.18278728e-11]\n",
      "[PairOptimizer.optimize] curves_t PEPE-1933/WETH-6Cc2\n",
      "[PairOptimizer.optimize] p_optimal OptimizerBase.SimpleResult(result=8.107804985574788e-10, method='bisection', errormsg=None, context_dct=None) full_result [-1.50756836e-02  1.22213351e-11]\n"
     ]
    },
    {
     "data": {
      "application/vnd.jupyter.widget-view+json": {
       "model_id": "7e6fc9a0258e4a9ba8ef4c47dfc235b2",
       "version_major": 2,
       "version_minor": 0
      },
      "text/plain": [
       "  0%|          | 0/3 [00:00<?, ?it/s]"
      ]
     },
     "metadata": {},
     "output_type": "display_data"
    },
    {
     "name": "stdout",
     "output_type": "stream",
     "text": [
      "[PairOptimizer.optimize] curves_t PEPE-1933/USDC-eB48\n",
      "[PairOptimizer.optimize] p_optimal OptimizerBase.SimpleResult(result=1.5362878225146734e-06, method='bisection', errormsg=None, context_dct=None) full_result [ 0.00651264 -0.00666746]\n",
      "[PairOptimizer.optimize] curves_t PEPE-1933/USDC-eB48\n",
      "[PairOptimizer.optimize] p_optimal OptimizerBase.SimpleResult(result=1.5360877772687104e-06, method='bisection', errormsg=None, context_dct=None) full_result [ 4.19616699e-03 -6.43194653e-09]\n",
      "[PairOptimizer.optimize] curves_t PEPE-1933/USDC-eB48\n",
      "[PairOptimizer.optimize] p_optimal OptimizerBase.SimpleResult(result=1.53608777726908e-06, method='bisection', errormsg=None, context_dct=None) full_result [-5.69152832e-03  8.74570105e-09]\n"
     ]
    },
    {
     "data": {
      "application/vnd.jupyter.widget-view+json": {
       "model_id": "36ebc3eb8e934e61b845cfac130d942e",
       "version_major": 2,
       "version_minor": 0
      },
      "text/plain": [
       "0it [00:00, ?it/s]"
      ]
     },
     "metadata": {},
     "output_type": "display_data"
    },
    {
     "data": {
      "application/vnd.jupyter.widget-view+json": {
       "model_id": "8d7d0df685a34198adbc2127d0400ea0",
       "version_major": 2,
       "version_minor": 0
      },
      "text/plain": [
       "0it [00:00, ?it/s]"
      ]
     },
     "metadata": {},
     "output_type": "display_data"
    },
    {
     "data": {
      "application/vnd.jupyter.widget-view+json": {
       "model_id": "01a085f4c73c4438930d0d498b9b35ae",
       "version_major": 2,
       "version_minor": 0
      },
      "text/plain": [
       "0it [00:00, ?it/s]"
      ]
     },
     "metadata": {},
     "output_type": "display_data"
    },
    {
     "data": {
      "application/vnd.jupyter.widget-view+json": {
       "model_id": "3e4a171bdf0d4b24bed92258bfcfa72c",
       "version_major": 2,
       "version_minor": 0
      },
      "text/plain": [
       "  0%|          | 0/1 [00:00<?, ?it/s]"
      ]
     },
     "metadata": {},
     "output_type": "display_data"
    },
    {
     "name": "stdout",
     "output_type": "stream",
     "text": [
      "[PairOptimizer.optimize] curves_t TSUKA-69eD/USDC-eB48\n",
      "[PairOptimizer.optimize] p_optimal OptimizerBase.SimpleResult(result=0.031129990028112127, method='bisection', errormsg=None, context_dct=None) full_result [ 1.87428668e-08 -5.82986104e-10]\n"
     ]
    },
    {
     "data": {
      "application/vnd.jupyter.widget-view+json": {
       "model_id": "0cf08cfecd244cef84340e94700817d8",
       "version_major": 2,
       "version_minor": 0
      },
      "text/plain": [
       "0it [00:00, ?it/s]"
      ]
     },
     "metadata": {},
     "output_type": "display_data"
    },
    {
     "data": {
      "application/vnd.jupyter.widget-view+json": {
       "model_id": "cf1cf145afd54c52be76e13ab18e4dc9",
       "version_major": 2,
       "version_minor": 0
      },
      "text/plain": [
       "0it [00:00, ?it/s]"
      ]
     },
     "metadata": {},
     "output_type": "display_data"
    },
    {
     "data": {
      "application/vnd.jupyter.widget-view+json": {
       "model_id": "1ce988d93b444a85a665363ec561e7ea",
       "version_major": 2,
       "version_minor": 0
      },
      "text/plain": [
       "0it [00:00, ?it/s]"
      ]
     },
     "metadata": {},
     "output_type": "display_data"
    },
    {
     "data": {
      "application/vnd.jupyter.widget-view+json": {
       "model_id": "7398344803d74a01b81f0c2d0083f7be",
       "version_major": 2,
       "version_minor": 0
      },
      "text/plain": [
       "0it [00:00, ?it/s]"
      ]
     },
     "metadata": {},
     "output_type": "display_data"
    },
    {
     "data": {
      "application/vnd.jupyter.widget-view+json": {
       "model_id": "818a0f77a7e645ccb05bd544a27b7630",
       "version_major": 2,
       "version_minor": 0
      },
      "text/plain": [
       "0it [00:00, ?it/s]"
      ]
     },
     "metadata": {},
     "output_type": "display_data"
    },
    {
     "data": {
      "application/vnd.jupyter.widget-view+json": {
       "model_id": "9df782faa16b48e1b4aeabfa6dc250b4",
       "version_major": 2,
       "version_minor": 0
      },
      "text/plain": [
       "  0%|          | 0/1 [00:00<?, ?it/s]"
      ]
     },
     "metadata": {},
     "output_type": "display_data"
    },
    {
     "name": "stdout",
     "output_type": "stream",
     "text": [
      "[PairOptimizer.optimize] curves_t SMT-7173/WETH-6Cc2\n",
      "[PairOptimizer.optimize] p_optimal OptimizerBase.SimpleResult(result=3.412385811295565e-05, method='bisection', errormsg=None, context_dct=None) full_result [ 2.57859938e-08 -8.81072992e-13]\n"
     ]
    },
    {
     "data": {
      "application/vnd.jupyter.widget-view+json": {
       "model_id": "34c80f145c3c4e11bcd3c875e7bca01c",
       "version_major": 2,
       "version_minor": 0
      },
      "text/plain": [
       "0it [00:00, ?it/s]"
      ]
     },
     "metadata": {},
     "output_type": "display_data"
    },
    {
     "data": {
      "application/vnd.jupyter.widget-view+json": {
       "model_id": "c0d1ac94af0542dfabdc19a8c7480eb4",
       "version_major": 2,
       "version_minor": 0
      },
      "text/plain": [
       "0it [00:00, ?it/s]"
      ]
     },
     "metadata": {},
     "output_type": "display_data"
    },
    {
     "data": {
      "application/vnd.jupyter.widget-view+json": {
       "model_id": "190832d7823e49f7928fc21e701bde87",
       "version_major": 2,
       "version_minor": 0
      },
      "text/plain": [
       "  0%|          | 0/4 [00:00<?, ?it/s]"
      ]
     },
     "metadata": {},
     "output_type": "display_data"
    },
    {
     "name": "stdout",
     "output_type": "stream",
     "text": [
      "[PairOptimizer.optimize] curves_t rETH-6393/WETH-6Cc2\n",
      "[PairOptimizer.optimize] p_optimal OptimizerBase.SimpleResult(result=1.076708344504264, method='bisection', errormsg=None, context_dct=None) full_result [-1.25543593e-07 -1.09294720e-03]\n",
      "[PairOptimizer.optimize] curves_t rETH-6393/WETH-6Cc2\n",
      "[PairOptimizer.optimize] p_optimal OptimizerBase.SimpleResult(result=1.0767087670950288, method='bisection', errormsg=None, context_dct=None) full_result [ 2.46334821e-07 -2.65194103e-07]\n",
      "[PairOptimizer.optimize] curves_t rETH-6393/WETH-6Cc2\n",
      "[PairOptimizer.optimize] p_optimal OptimizerBase.SimpleResult(result=1.0767087670955016, method='bisection', errormsg=None, context_dct=None) full_result [-3.30619514e-08  3.53902578e-08]\n",
      "[PairOptimizer.optimize] curves_t rETH-6393/WETH-6Cc2\n",
      "[PairOptimizer.optimize] p_optimal OptimizerBase.SimpleResult(result=1.076708767095204, method='bisection', errormsg=None, context_dct=None) full_result [ 1.42958015e-07 -1.53901055e-07]\n"
     ]
    },
    {
     "data": {
      "application/vnd.jupyter.widget-view+json": {
       "model_id": "f18fd01300764286b6dff834e3535003",
       "version_major": 2,
       "version_minor": 0
      },
      "text/plain": [
       "0it [00:00, ?it/s]"
      ]
     },
     "metadata": {},
     "output_type": "display_data"
    },
    {
     "data": {
      "application/vnd.jupyter.widget-view+json": {
       "model_id": "c8666427d3ec4e54acd9f4c4a3c4dde5",
       "version_major": 2,
       "version_minor": 0
      },
      "text/plain": [
       "  0%|          | 0/54 [00:00<?, ?it/s]"
      ]
     },
     "metadata": {},
     "output_type": "display_data"
    },
    {
     "name": "stdout",
     "output_type": "stream",
     "text": [
      "[PairOptimizer.optimize] curves_t WETH-6Cc2/USDC-eB48\n",
      "[PairOptimizer.optimize] p_optimal OptimizerBase.SimpleResult(result=1888.9922146301515, method='bisection', errormsg=None, context_dct=None) full_result [-4.74392436e-09  8.94069672e-06]\n",
      "[PairOptimizer.optimize] curves_t WETH-6Cc2/USDC-eB48\n",
      "[PairOptimizer.optimize] p_optimal OptimizerBase.SimpleResult(result=1888.992214629935, method='bisection', errormsg=None, context_dct=None) full_result [ 5.41331246e-09 -1.02519989e-05]\n",
      "[PairOptimizer.optimize] curves_t WETH-6Cc2/USDC-eB48\n",
      "[PairOptimizer.optimize] p_optimal OptimizerBase.SimpleResult(result=1888.9922146308772, method='bisection', errormsg=None, context_dct=None) full_result [-3.87663022e-08  7.32541084e-05]\n",
      "[PairOptimizer.optimize] curves_t WETH-6Cc2/USDC-eB48\n",
      "[PairOptimizer.optimize] p_optimal OptimizerBase.SimpleResult(result=1888.9922146296476, method='bisection', errormsg=None, context_dct=None) full_result [ 1.88883860e-08 -3.56435776e-05]\n",
      "[PairOptimizer.optimize] curves_t WETH-6Cc2/USDC-eB48\n",
      "[PairOptimizer.optimize] p_optimal OptimizerBase.SimpleResult(result=1888.992214630152, method='bisection', errormsg=None, context_dct=None) full_result [-4.74392436e-09  8.94069672e-06]\n",
      "[PairOptimizer.optimize] curves_t WETH-6Cc2/USDC-eB48\n",
      "[PairOptimizer.optimize] p_optimal OptimizerBase.SimpleResult(result=1888.9922146300873, method='bisection', errormsg=None, context_dct=None) full_result [-1.71712600e-09  3.27825546e-06]\n",
      "[PairOptimizer.optimize] curves_t WETH-6Cc2/USDC-eB48\n",
      "[PairOptimizer.optimize] p_optimal OptimizerBase.SimpleResult(result=1888.9922146304884, method='bisection', errormsg=None, context_dct=None) full_result [-2.05182005e-08  3.88026237e-05]\n",
      "[PairOptimizer.optimize] curves_t WETH-6Cc2/USDC-eB48\n",
      "[PairOptimizer.optimize] p_optimal OptimizerBase.SimpleResult(result=1888.9922146299593, method='bisection', errormsg=None, context_dct=None) full_result [ 4.30736691e-09 -8.10623169e-06]\n",
      "[PairOptimizer.optimize] curves_t WETH-6Cc2/USDC-eB48\n",
      "[PairOptimizer.optimize] p_optimal OptimizerBase.SimpleResult(result=1888.992214629823, method='bisection', errormsg=None, context_dct=None) full_result [ 1.06811058e-08 -2.01463699e-05]\n",
      "[PairOptimizer.optimize] curves_t WETH-6Cc2/USDC-eB48\n",
      "[PairOptimizer.optimize] p_optimal OptimizerBase.SimpleResult(result=1888.9922146295216, method='bisection', errormsg=None, context_dct=None) full_result [ 2.48255674e-08 -4.68492508e-05]\n",
      "[PairOptimizer.optimize] curves_t WETH-6Cc2/USDC-eB48\n",
      "[PairOptimizer.optimize] p_optimal OptimizerBase.SimpleResult(result=1888.992214630285, method='bisection', errormsg=None, context_dct=None) full_result [-1.09721441e-08  2.07424164e-05]\n",
      "[PairOptimizer.optimize] curves_t WETH-6Cc2/USDC-eB48\n",
      "[PairOptimizer.optimize] p_optimal OptimizerBase.SimpleResult(result=1888.992214630096, method='bisection', errormsg=None, context_dct=None) full_result [-2.12457962e-09  4.05311584e-06]\n",
      "[PairOptimizer.optimize] curves_t WETH-6Cc2/USDC-eB48\n",
      "[PairOptimizer.optimize] p_optimal OptimizerBase.SimpleResult(result=1888.9922146296672, method='bisection', errormsg=None, context_dct=None) full_result [ 1.79861672e-08 -3.39150429e-05]\n",
      "[PairOptimizer.optimize] curves_t WETH-6Cc2/USDC-eB48\n",
      "[PairOptimizer.optimize] p_optimal OptimizerBase.SimpleResult(result=1888.992214630273, method='bisection', errormsg=None, context_dct=None) full_result [-1.04482751e-08  1.97291374e-05]\n",
      "[PairOptimizer.optimize] curves_t WETH-6Cc2/USDC-eB48\n",
      "[PairOptimizer.optimize] p_optimal OptimizerBase.SimpleResult(result=1888.992214630557, method='bisection', errormsg=None, context_dct=None) full_result [-2.37487257e-08  4.48822975e-05]\n",
      "[PairOptimizer.optimize] curves_t WETH-6Cc2/USDC-eB48\n",
      "[PairOptimizer.optimize] p_optimal OptimizerBase.SimpleResult(result=1888.9922146305262, method='bisection', errormsg=None, context_dct=None) full_result [-2.23226380e-08  4.21404839e-05]\n",
      "[PairOptimizer.optimize] curves_t WETH-6Cc2/USDC-eB48\n",
      "[PairOptimizer.optimize] p_optimal OptimizerBase.SimpleResult(result=1888.9922146295794, method='bisection', errormsg=None, context_dct=None) full_result [ 2.21189111e-08 -4.17828560e-05]\n",
      "[PairOptimizer.optimize] curves_t WETH-6Cc2/USDC-eB48\n",
      "[PairOptimizer.optimize] p_optimal OptimizerBase.SimpleResult(result=1888.9922146299941, method='bisection', errormsg=None, context_dct=None) full_result [ 2.67755240e-09 -5.00679016e-06]\n",
      "[PairOptimizer.optimize] curves_t WETH-6Cc2/USDC-eB48\n",
      "[PairOptimizer.optimize] p_optimal OptimizerBase.SimpleResult(result=1888.9922146298563, method='bisection', errormsg=None, context_dct=None) full_result [ 9.10949893e-09 -1.71661377e-05]\n",
      "[PairOptimizer.optimize] curves_t WETH-6Cc2/USDC-eB48\n",
      "[PairOptimizer.optimize] p_optimal OptimizerBase.SimpleResult(result=1888.9922146307526, method='bisection', errormsg=None, context_dct=None) full_result [-3.29164322e-08  6.21676445e-05]\n",
      "[PairOptimizer.optimize] curves_t WETH-6Cc2/USDC-eB48\n",
      "[PairOptimizer.optimize] p_optimal OptimizerBase.SimpleResult(result=1888.9922146292975, method='bisection', errormsg=None, context_dct=None) full_result [ 3.53029463e-08 -6.66975975e-05]\n",
      "[PairOptimizer.optimize] curves_t WETH-6Cc2/USDC-eB48\n",
      "[PairOptimizer.optimize] p_optimal OptimizerBase.SimpleResult(result=1888.9922146298, method='bisection', errormsg=None, context_dct=None) full_result [ 1.17870513e-08 -2.22325325e-05]\n",
      "[PairOptimizer.optimize] curves_t WETH-6Cc2/USDC-eB48\n",
      "[PairOptimizer.optimize] p_optimal OptimizerBase.SimpleResult(result=1888.9922146296672, method='bisection', errormsg=None, context_dct=None) full_result [ 1.79861672e-08 -3.39150429e-05]\n",
      "[PairOptimizer.optimize] curves_t WETH-6Cc2/USDC-eB48\n",
      "[PairOptimizer.optimize] p_optimal OptimizerBase.SimpleResult(result=1888.9922146300303, method='bisection', errormsg=None, context_dct=None) full_result [ 9.60426405e-10 -1.78813934e-06]\n",
      "[PairOptimizer.optimize] curves_t WETH-6Cc2/USDC-eB48\n",
      "[PairOptimizer.optimize] p_optimal OptimizerBase.SimpleResult(result=1888.9922045502708, method='bisection', errormsg=None, context_dct=None) full_result [ 8.62382876e-09 -4.20819260e-02]\n",
      "[PairOptimizer.optimize] curves_t WETH-6Cc2/USDC-eB48\n",
      "[PairOptimizer.optimize] p_optimal OptimizerBase.SimpleResult(result=1888.9922146306424, method='bisection', errormsg=None, context_dct=None) full_result [-2.77650543e-08  5.24520874e-05]\n",
      "[PairOptimizer.optimize] curves_t WETH-6Cc2/USDC-eB48\n",
      "[PairOptimizer.optimize] p_optimal OptimizerBase.SimpleResult(result=1888.9922146304034, method='bisection', errormsg=None, context_dct=None) full_result [-1.65309757e-08  3.12328339e-05]\n",
      "[PairOptimizer.optimize] curves_t WETH-6Cc2/USDC-eB48\n",
      "[PairOptimizer.optimize] p_optimal OptimizerBase.SimpleResult(result=1888.9922146305626, method='bisection', errormsg=None, context_dct=None) full_result [-2.40106601e-08  4.54187393e-05]\n",
      "[PairOptimizer.optimize] curves_t WETH-6Cc2/USDC-eB48\n",
      "[PairOptimizer.optimize] p_optimal OptimizerBase.SimpleResult(result=1888.992214630815, method='bisection', errormsg=None, context_dct=None) full_result [-3.58268153e-08  6.77108765e-05]\n",
      "[PairOptimizer.optimize] curves_t WETH-6Cc2/USDC-eB48\n",
      "[PairOptimizer.optimize] p_optimal OptimizerBase.SimpleResult(result=1888.9922146306358, method='bisection', errormsg=None, context_dct=None) full_result [-2.74449121e-08  5.18560410e-05]\n",
      "[PairOptimizer.optimize] curves_t WETH-6Cc2/USDC-eB48\n",
      "[PairOptimizer.optimize] p_optimal OptimizerBase.SimpleResult(result=1888.9922146295798, method='bisection', errormsg=None, context_dct=None) full_result [ 2.20607035e-08 -4.16636467e-05]\n",
      "[PairOptimizer.optimize] curves_t WETH-6Cc2/USDC-eB48\n",
      "[PairOptimizer.optimize] p_optimal OptimizerBase.SimpleResult(result=1888.9922146296767, method='bisection', errormsg=None, context_dct=None) full_result [ 1.75496098e-08 -3.31401825e-05]\n",
      "[PairOptimizer.optimize] curves_t WETH-6Cc2/USDC-eB48\n",
      "[PairOptimizer.optimize] p_optimal OptimizerBase.SimpleResult(result=1888.992214630015, method='bisection', errormsg=None, context_dct=None) full_result [ 1.68802217e-09 -3.15904617e-06]\n",
      "[PairOptimizer.optimize] curves_t WETH-6Cc2/USDC-eB48\n",
      "[PairOptimizer.optimize] p_optimal OptimizerBase.SimpleResult(result=1888.9922146301515, method='bisection', errormsg=None, context_dct=None) full_result [-4.74392436e-09  8.94069672e-06]\n",
      "[PairOptimizer.optimize] curves_t WETH-6Cc2/USDC-eB48\n",
      "[PairOptimizer.optimize] p_optimal OptimizerBase.SimpleResult(result=1888.9922146304305, method='bisection', errormsg=None, context_dct=None) full_result [-1.77824404e-08  3.36170197e-05]\n",
      "[PairOptimizer.optimize] curves_t WETH-6Cc2/USDC-eB48\n",
      "[PairOptimizer.optimize] p_optimal OptimizerBase.SimpleResult(result=1888.9922146295005, method='bisection', errormsg=None, context_dct=None) full_result [ 2.53922954e-08 -4.79870996e-05]\n",
      "[PairOptimizer.optimize] curves_t WETH-6Cc2/USDC-eB48\n",
      "[PairOptimizer.optimize] p_optimal OptimizerBase.SimpleResult(result=1888.9922146295216, method='bisection', errormsg=None, context_dct=None) full_result [ 2.48255674e-08 -4.68492508e-05]\n",
      "[PairOptimizer.optimize] curves_t WETH-6Cc2/USDC-eB48\n",
      "[PairOptimizer.optimize] p_optimal OptimizerBase.SimpleResult(result=1888.9922146296672, method='bisection', errormsg=None, context_dct=None) full_result [ 1.79861672e-08 -3.39150429e-05]\n",
      "[PairOptimizer.optimize] curves_t WETH-6Cc2/USDC-eB48\n",
      "[PairOptimizer.optimize] p_optimal OptimizerBase.SimpleResult(result=1888.9922146306121, method='bisection', errormsg=None, context_dct=None) full_result [-2.63389666e-08  4.97698784e-05]\n",
      "[PairOptimizer.optimize] curves_t WETH-6Cc2/USDC-eB48\n",
      "[PairOptimizer.optimize] p_optimal OptimizerBase.SimpleResult(result=1888.9922146306424, method='bisection', errormsg=None, context_dct=None) full_result [-2.77650543e-08  5.24520874e-05]\n",
      "[PairOptimizer.optimize] curves_t WETH-6Cc2/USDC-eB48\n",
      "[PairOptimizer.optimize] p_optimal OptimizerBase.SimpleResult(result=1888.99221463018, method='bisection', errormsg=None, context_dct=None) full_result [-6.05359674e-09  1.15036964e-05]\n",
      "[PairOptimizer.optimize] curves_t WETH-6Cc2/USDC-eB48\n",
      "[PairOptimizer.optimize] p_optimal OptimizerBase.SimpleResult(result=1888.9922146308115, method='bisection', errormsg=None, context_dct=None) full_result [-3.56812961e-08  6.74128532e-05]\n",
      "[PairOptimizer.optimize] curves_t WETH-6Cc2/USDC-eB48\n",
      "[PairOptimizer.optimize] p_optimal OptimizerBase.SimpleResult(result=1888.9922146302497, method='bisection', errormsg=None, context_dct=None) full_result [-9.31322575e-09  1.76429749e-05]\n",
      "[PairOptimizer.optimize] curves_t WETH-6Cc2/USDC-eB48\n",
      "[PairOptimizer.optimize] p_optimal OptimizerBase.SimpleResult(result=1888.9922146300873, method='bisection', errormsg=None, context_dct=None) full_result [-1.71712600e-09  3.27825546e-06]\n",
      "[PairOptimizer.optimize] curves_t WETH-6Cc2/USDC-eB48\n",
      "[PairOptimizer.optimize] p_optimal OptimizerBase.SimpleResult(result=1888.9922146298663, method='bisection', errormsg=None, context_dct=None) full_result [ 8.64383765e-09 -1.63316727e-05]\n",
      "[PairOptimizer.optimize] curves_t WETH-6Cc2/USDC-eB48\n",
      "[PairOptimizer.optimize] p_optimal OptimizerBase.SimpleResult(result=1888.9922146297727, method='bisection', errormsg=None, context_dct=None) full_result [ 1.30385160e-08 -2.46167183e-05]\n",
      "[PairOptimizer.optimize] curves_t WETH-6Cc2/USDC-eB48\n",
      "[PairOptimizer.optimize] p_optimal OptimizerBase.SimpleResult(result=1888.9922146295776, method='bisection', errormsg=None, context_dct=None) full_result [ 2.21771188e-08 -4.18424606e-05]\n",
      "[PairOptimizer.optimize] curves_t WETH-6Cc2/USDC-eB48\n",
      "[PairOptimizer.optimize] p_optimal OptimizerBase.SimpleResult(result=1888.9922146300873, method='bisection', errormsg=None, context_dct=None) full_result [-1.71712600e-09  3.27825546e-06]\n",
      "[PairOptimizer.optimize] curves_t WETH-6Cc2/USDC-eB48\n",
      "[PairOptimizer.optimize] p_optimal OptimizerBase.SimpleResult(result=1888.9922146295798, method='bisection', errormsg=None, context_dct=None) full_result [ 2.20607035e-08 -4.16636467e-05]\n",
      "[PairOptimizer.optimize] curves_t WETH-6Cc2/USDC-eB48\n",
      "[PairOptimizer.optimize] p_optimal OptimizerBase.SimpleResult(result=1888.9922146299475, method='bisection', errormsg=None, context_dct=None) full_result [ 4.83123586e-09 -9.11951065e-06]\n",
      "[PairOptimizer.optimize] curves_t WETH-6Cc2/USDC-eB48\n",
      "[PairOptimizer.optimize] p_optimal OptimizerBase.SimpleResult(result=1888.9922146300873, method='bisection', errormsg=None, context_dct=None) full_result [-1.71712600e-09  3.27825546e-06]\n",
      "[PairOptimizer.optimize] curves_t WETH-6Cc2/USDC-eB48\n",
      "[PairOptimizer.optimize] p_optimal OptimizerBase.SimpleResult(result=1888.9922146306799, method='bisection', errormsg=None, context_dct=None) full_result [-2.94821803e-08  5.57303429e-05]\n",
      "[PairOptimizer.optimize] curves_t WETH-6Cc2/USDC-eB48\n",
      "[PairOptimizer.optimize] p_optimal OptimizerBase.SimpleResult(result=1888.9922146300873, method='bisection', errormsg=None, context_dct=None) full_result [-1.71712600e-09  3.27825546e-06]\n",
      "[PairOptimizer.optimize] curves_t WETH-6Cc2/USDC-eB48\n",
      "[PairOptimizer.optimize] p_optimal OptimizerBase.SimpleResult(result=1888.992214629823, method='bisection', errormsg=None, context_dct=None) full_result [ 1.06811058e-08 -2.01463699e-05]\n"
     ]
    },
    {
     "data": {
      "application/vnd.jupyter.widget-view+json": {
       "model_id": "bde111fd22564e0ebc51eb8fd97de802",
       "version_major": 2,
       "version_minor": 0
      },
      "text/plain": [
       "  0%|          | 0/4 [00:00<?, ?it/s]"
      ]
     },
     "metadata": {},
     "output_type": "display_data"
    },
    {
     "name": "stdout",
     "output_type": "stream",
     "text": [
      "[PairOptimizer.optimize] curves_t WETH-6Cc2/BNT-FF1C\n",
      "[PairOptimizer.optimize] p_optimal OptimizerBase.SimpleResult(result=4764.127397630187, method='bisection', errormsg=None, context_dct=None) full_result [ 2.75765188e-10 -2.38837158e+00]\n",
      "[PairOptimizer.optimize] curves_t WETH-6Cc2/BNT-FF1C\n",
      "[PairOptimizer.optimize] p_optimal OptimizerBase.SimpleResult(result=4764.138098143359, method='bisection', errormsg=None, context_dct=None) full_result [ 1.95996108e-10 -9.35047865e-07]\n",
      "[PairOptimizer.optimize] curves_t WETH-6Cc2/BNT-FF1C\n",
      "[PairOptimizer.optimize] p_optimal OptimizerBase.SimpleResult(result=4764.138098141909, method='bisection', errormsg=None, context_dct=None) full_result [ 7.35781214e-10 -3.50549817e-06]\n",
      "[PairOptimizer.optimize] curves_t WETH-6Cc2/BNT-FF1C\n",
      "[PairOptimizer.optimize] p_optimal OptimizerBase.SimpleResult(result=4764.138098143836, method='bisection', errormsg=None, context_dct=None) full_result [ 1.86446414e-11 -8.94069672e-08]\n"
     ]
    },
    {
     "data": {
      "application/vnd.jupyter.widget-view+json": {
       "model_id": "e715deb4ca754c3fac6b1395be86b655",
       "version_major": 2,
       "version_minor": 0
      },
      "text/plain": [
       "  0%|          | 0/16 [00:00<?, ?it/s]"
      ]
     },
     "metadata": {},
     "output_type": "display_data"
    },
    {
     "name": "stdout",
     "output_type": "stream",
     "text": [
      "[PairOptimizer.optimize] curves_t WBTC-C599/WETH-6Cc2\n",
      "[PairOptimizer.optimize] p_optimal OptimizerBase.SimpleResult(result=16.25127735725492, method='bisection', errormsg=None, context_dct=None) full_result [-2.74303602e-09  4.45870683e-08]\n",
      "[PairOptimizer.optimize] curves_t WBTC-C599/WETH-6Cc2\n",
      "[PairOptimizer.optimize] p_optimal OptimizerBase.SimpleResult(result=16.251277357233576, method='bisection', errormsg=None, context_dct=None) full_result [-1.81454762e-09  2.64954920e-08]\n",
      "[PairOptimizer.optimize] curves_t WBTC-C599/WETH-6Cc2\n",
      "[PairOptimizer.optimize] p_optimal OptimizerBase.SimpleResult(result=16.25127735724241, method='bisection', errormsg=None, context_dct=None) full_result [ 3.66344466e-09 -5.94882295e-08]\n",
      "[PairOptimizer.optimize] curves_t WBTC-C599/WETH-6Cc2\n",
      "[PairOptimizer.optimize] p_optimal OptimizerBase.SimpleResult(result=16.25127735725219, method='bisection', errormsg=None, context_dct=None) full_result [-1.34605216e-09  2.18860805e-08]\n",
      "[PairOptimizer.optimize] curves_t WBTC-C599/WETH-6Cc2\n",
      "[PairOptimizer.optimize] p_optimal OptimizerBase.SimpleResult(result=16.251277357247133, method='bisection', errormsg=None, context_dct=None) full_result [ 1.24418875e-09 -2.01980583e-08]\n",
      "[PairOptimizer.optimize] curves_t WBTC-C599/WETH-6Cc2\n",
      "[PairOptimizer.optimize] p_optimal OptimizerBase.SimpleResult(result=16.251277357247766, method='bisection', errormsg=None, context_dct=None) full_result [ 9.20408638e-10 -1.49593689e-08]\n",
      "[PairOptimizer.optimize] curves_t WBTC-C599/WETH-6Cc2\n",
      "[PairOptimizer.optimize] p_optimal OptimizerBase.SimpleResult(result=16.251275647061092, method='bisection', errormsg=None, context_dct=None) full_result [-3.39941160e-08 -6.70070222e-09]\n",
      "[PairOptimizer.optimize] curves_t WBTC-C599/WETH-6Cc2\n",
      "[PairOptimizer.optimize] p_optimal OptimizerBase.SimpleResult(result=16.25127735724613, method='bisection', errormsg=None, context_dct=None) full_result [ 1.75714376e-09 -2.85217538e-08]\n",
      "[PairOptimizer.optimize] curves_t WBTC-C599/WETH-6Cc2\n",
      "[PairOptimizer.optimize] p_optimal OptimizerBase.SimpleResult(result=16.262500335191948, method='bisection', errormsg=None, context_dct=None) full_result [-7.50151230e-09  1.22003257e-07]\n",
      "[PairOptimizer.optimize] curves_t WBTC-C599/WETH-6Cc2\n",
      "[PairOptimizer.optimize] p_optimal OptimizerBase.SimpleResult(result=16.262500335181386, method='bisection', errormsg=None, context_dct=None) full_result [-4.99414110e-09  7.80092719e-08]\n",
      "[PairOptimizer.optimize] curves_t WBTC-C599/WETH-6Cc2\n",
      "[PairOptimizer.optimize] p_optimal OptimizerBase.SimpleResult(result=16.262500335186033, method='bisection', errormsg=None, context_dct=None) full_result [-4.94765118e-10  7.91624188e-09]\n",
      "[PairOptimizer.optimize] curves_t WBTC-C599/WETH-6Cc2\n",
      "[PairOptimizer.optimize] p_optimal OptimizerBase.SimpleResult(result=16.26250033519087, method='bisection', errormsg=None, context_dct=None) full_result [-6.22821972e-09  1.01281330e-07]\n",
      "[PairOptimizer.optimize] curves_t WBTC-C599/WETH-6Cc2\n",
      "[PairOptimizer.optimize] p_optimal OptimizerBase.SimpleResult(result=16.262500335190833, method='bisection', errormsg=None, context_dct=None) full_result [-6.17728801e-09  1.00466423e-07]\n",
      "[PairOptimizer.optimize] curves_t WBTC-C599/WETH-6Cc2\n",
      "[PairOptimizer.optimize] p_optimal OptimizerBase.SimpleResult(result=16.262500335185337, method='bisection', errormsg=None, context_dct=None) full_result [ 3.34694050e-10 -5.47152013e-09]\n",
      "[PairOptimizer.optimize] curves_t WBTC-C599/WETH-6Cc2\n",
      "[PairOptimizer.optimize] p_optimal OptimizerBase.SimpleResult(result=16.26249310669788, method='bisection', errormsg=None, context_dct=None) full_result [-3.29367515e-06 -1.28529791e-08]\n",
      "[PairOptimizer.optimize] curves_t WBTC-C599/WETH-6Cc2\n",
      "[PairOptimizer.optimize] p_optimal OptimizerBase.SimpleResult(result=16.262500335189472, method='bisection', errormsg=None, context_dct=None) full_result [-4.57657734e-09  7.43893906e-08]\n"
     ]
    },
    {
     "data": {
      "application/vnd.jupyter.widget-view+json": {
       "model_id": "24018264c7fd4ce1ad8e99d04488625f",
       "version_major": 2,
       "version_minor": 0
      },
      "text/plain": [
       "  0%|          | 0/39 [00:00<?, ?it/s]"
      ]
     },
     "metadata": {},
     "output_type": "display_data"
    },
    {
     "name": "stdout",
     "output_type": "stream",
     "text": [
      "[PairOptimizer.optimize] curves_t WETH-6Cc2/USDT-1ec7\n",
      "[PairOptimizer.optimize] p_optimal OptimizerBase.SimpleResult(result=1890.3902599636826, method='bisection', errormsg=None, context_dct=None) full_result [ 3.43752617e-08 -6.91041350e-05]\n",
      "[PairOptimizer.optimize] curves_t WETH-6Cc2/USDT-1ec7\n",
      "[PairOptimizer.optimize] p_optimal OptimizerBase.SimpleResult(result=1890.3902598796512, method='bisection', errormsg=None, context_dct=None) full_result [ 4.23751771e-08 -8.02278519e-05]\n",
      "[PairOptimizer.optimize] curves_t WETH-6Cc2/USDT-1ec7\n",
      "[PairOptimizer.optimize] p_optimal OptimizerBase.SimpleResult(result=1890.3902598804298, method='bisection', errormsg=None, context_dct=None) full_result [-2.00816430e-08  3.79085541e-05]\n",
      "[PairOptimizer.optimize] curves_t WETH-6Cc2/USDT-1ec7\n",
      "[PairOptimizer.optimize] p_optimal OptimizerBase.SimpleResult(result=1890.3902598796158, method='bisection', errormsg=None, context_dct=None) full_result [ 4.52273525e-08 -8.54730606e-05]\n",
      "[PairOptimizer.optimize] curves_t WETH-6Cc2/USDT-1ec7\n",
      "[PairOptimizer.optimize] p_optimal OptimizerBase.SimpleResult(result=1890.3902598801792, method='bisection', errormsg=None, context_dct=None) full_result [0. 0.]\n",
      "[PairOptimizer.optimize] curves_t WETH-6Cc2/USDT-1ec7\n",
      "[PairOptimizer.optimize] p_optimal OptimizerBase.SimpleResult(result=1890.3902598800487, method='bisection', errormsg=None, context_dct=None) full_result [ 1.05355866e-08 -1.99079514e-05]\n",
      "[PairOptimizer.optimize] curves_t WETH-6Cc2/USDT-1ec7\n",
      "[PairOptimizer.optimize] p_optimal OptimizerBase.SimpleResult(result=1890.3902598806571, method='bisection', errormsg=None, context_dct=None) full_result [-3.83006409e-08  7.23600388e-05]\n",
      "[PairOptimizer.optimize] curves_t WETH-6Cc2/USDT-1ec7\n",
      "[PairOptimizer.optimize] p_optimal OptimizerBase.SimpleResult(result=1890.3902700162016, method='bisection', errormsg=None, context_dct=None) full_result [-4.18058548e-08 -2.80974927e-02]\n",
      "[PairOptimizer.optimize] curves_t WETH-6Cc2/USDT-1ec7\n",
      "[PairOptimizer.optimize] p_optimal OptimizerBase.SimpleResult(result=1890.390259880636, method='bisection', errormsg=None, context_dct=None) full_result [-3.66126187e-08  6.92605972e-05]\n",
      "[PairOptimizer.optimize] curves_t WETH-6Cc2/USDT-1ec7\n",
      "[PairOptimizer.optimize] p_optimal OptimizerBase.SimpleResult(result=1890.3902598796271, method='bisection', errormsg=None, context_dct=None) full_result [ 4.43542376e-08 -8.38041306e-05]\n",
      "[PairOptimizer.optimize] curves_t WETH-6Cc2/USDT-1ec7\n",
      "[PairOptimizer.optimize] p_optimal OptimizerBase.SimpleResult(result=1890.3902598805803, method='bisection', errormsg=None, context_dct=None) full_result [-3.21888365e-08  6.07967377e-05]\n",
      "[PairOptimizer.optimize] curves_t WETH-6Cc2/USDT-1ec7\n",
      "[PairOptimizer.optimize] p_optimal OptimizerBase.SimpleResult(result=1890.3902598803247, method='bisection', errormsg=None, context_dct=None) full_result [-1.16415322e-08  2.19345093e-05]\n",
      "[PairOptimizer.optimize] curves_t WETH-6Cc2/USDT-1ec7\n",
      "[PairOptimizer.optimize] p_optimal OptimizerBase.SimpleResult(result=1890.3902598804148, method='bisection', errormsg=None, context_dct=None) full_result [-1.88592821e-08  3.56435776e-05]\n",
      "[PairOptimizer.optimize] curves_t WETH-6Cc2/USDT-1ec7\n",
      "[PairOptimizer.optimize] p_optimal OptimizerBase.SimpleResult(result=1889.145889168184, method='bisection', errormsg=None, context_dct=None) full_result [-1.00080797e-08  6.41494989e-06]\n",
      "[PairOptimizer.optimize] curves_t WETH-6Cc2/USDT-1ec7\n",
      "[PairOptimizer.optimize] p_optimal OptimizerBase.SimpleResult(result=1889.145888876507, method='bisection', errormsg=None, context_dct=None) full_result [-1.26019586e-08  2.38120556e-05]\n",
      "[PairOptimizer.optimize] curves_t WETH-6Cc2/USDT-1ec7\n",
      "[PairOptimizer.optimize] p_optimal OptimizerBase.SimpleResult(result=1889.1458888757393, method='bisection', errormsg=None, context_dct=None) full_result [ 5.09317033e-09 -9.62615013e-06]\n",
      "[PairOptimizer.optimize] curves_t WETH-6Cc2/USDT-1ec7\n",
      "[PairOptimizer.optimize] p_optimal OptimizerBase.SimpleResult(result=1889.1458888758934, method='bisection', errormsg=None, context_dct=None) full_result [ 1.54250301e-09 -2.92062759e-06]\n",
      "[PairOptimizer.optimize] curves_t WETH-6Cc2/USDT-1ec7\n",
      "[PairOptimizer.optimize] p_optimal OptimizerBase.SimpleResult(result=1889.1458888762731, method='bisection', errormsg=None, context_dct=None) full_result [-7.21774995e-09  1.36494637e-05]\n",
      "[PairOptimizer.optimize] curves_t WETH-6Cc2/USDT-1ec7\n",
      "[PairOptimizer.optimize] p_optimal OptimizerBase.SimpleResult(result=1889.1458888758175, method='bisection', errormsg=None, context_dct=None) full_result [ 3.30328476e-09 -6.22868538e-06]\n",
      "[PairOptimizer.optimize] curves_t WETH-6Cc2/USDT-1ec7\n",
      "[PairOptimizer.optimize] p_optimal OptimizerBase.SimpleResult(result=1889.145888875436, method='bisection', errormsg=None, context_dct=None) full_result [ 1.21071935e-08 -2.28583813e-05]\n",
      "[PairOptimizer.optimize] curves_t WETH-6Cc2/USDT-1ec7\n",
      "[PairOptimizer.optimize] p_optimal OptimizerBase.SimpleResult(result=1889.145924112016, method='bisection', errormsg=None, context_dct=None) full_result [ 9.60606172e-09 -2.92068245e-02]\n",
      "[PairOptimizer.optimize] curves_t WETH-6Cc2/USDT-1ec7\n",
      "[PairOptimizer.optimize] p_optimal OptimizerBase.SimpleResult(result=1889.1458888762695, method='bisection', errormsg=None, context_dct=None) full_result [-7.13043846e-09  1.34706497e-05]\n",
      "[PairOptimizer.optimize] curves_t WETH-6Cc2/USDT-1ec7\n",
      "[PairOptimizer.optimize] p_optimal OptimizerBase.SimpleResult(result=1889.1458888752281, method='bisection', errormsg=None, context_dct=None) full_result [ 1.69093255e-08 -3.19480896e-05]\n",
      "[PairOptimizer.optimize] curves_t WETH-6Cc2/USDT-1ec7\n",
      "[PairOptimizer.optimize] p_optimal OptimizerBase.SimpleResult(result=1889.1458888757306, method='bisection', errormsg=None, context_dct=None) full_result [ 5.29689714e-09 -1.00135803e-05]\n",
      "[PairOptimizer.optimize] curves_t WETH-6Cc2/USDT-1ec7\n",
      "[PairOptimizer.optimize] p_optimal OptimizerBase.SimpleResult(result=1889.1458888758277, method='bisection', errormsg=None, context_dct=None) full_result [ 3.05590220e-09 -5.78165054e-06]\n",
      "[PairOptimizer.optimize] curves_t WETH-6Cc2/USDT-1ec7\n",
      "[PairOptimizer.optimize] p_optimal OptimizerBase.SimpleResult(result=1889.1458888764319, method='bisection', errormsg=None, context_dct=None) full_result [-1.08848326e-08  2.05636024e-05]\n",
      "[PairOptimizer.optimize] curves_t WETH-6Cc2/USDT-1ec7\n",
      "[PairOptimizer.optimize] p_optimal OptimizerBase.SimpleResult(result=1881.7106092876686, method='bisection', errormsg=None, context_dct=None) full_result [-2.40470399e-09 -5.80400229e-05]\n",
      "[PairOptimizer.optimize] curves_t WETH-6Cc2/USDT-1ec7\n",
      "[PairOptimizer.optimize] p_optimal OptimizerBase.SimpleResult(result=1881.710608190668, method='bisection', errormsg=None, context_dct=None) full_result [ 3.57977115e-09 -6.74277544e-06]\n",
      "[PairOptimizer.optimize] curves_t WETH-6Cc2/USDT-1ec7\n",
      "[PairOptimizer.optimize] p_optimal OptimizerBase.SimpleResult(result=1881.7106081911547, method='bisection', errormsg=None, context_dct=None) full_result [ 5.85714588e-10 -1.11013651e-06]\n",
      "[PairOptimizer.optimize] curves_t WETH-6Cc2/USDT-1ec7\n",
      "[PairOptimizer.optimize] p_optimal OptimizerBase.SimpleResult(result=1881.7106081913296, method='bisection', errormsg=None, context_dct=None) full_result [-4.87489160e-10  9.16421413e-07]\n",
      "[PairOptimizer.optimize] curves_t WETH-6Cc2/USDT-1ec7\n",
      "[PairOptimizer.optimize] p_optimal OptimizerBase.SimpleResult(result=1881.710608190739, method='bisection', errormsg=None, context_dct=None) full_result [ 3.13957571e-09 -5.91576099e-06]\n",
      "[PairOptimizer.optimize] curves_t WETH-6Cc2/USDT-1ec7\n",
      "[PairOptimizer.optimize] p_optimal OptimizerBase.SimpleResult(result=1881.7106081908473, method='bisection', errormsg=None, context_dct=None) full_result [ 2.47746357e-09 -4.66406345e-06]\n",
      "[PairOptimizer.optimize] curves_t WETH-6Cc2/USDT-1ec7\n",
      "[PairOptimizer.optimize] p_optimal OptimizerBase.SimpleResult(result=1881.7106081914208, method='bisection', errormsg=None, context_dct=None) full_result [-1.04773790e-09  1.97440386e-06]\n",
      "[PairOptimizer.optimize] curves_t WETH-6Cc2/USDT-1ec7\n",
      "[PairOptimizer.optimize] p_optimal OptimizerBase.SimpleResult(result=1881.710740546815, method='bisection', errormsg=None, context_dct=None) full_result [ 1.62797420e-09 -3.52394553e-02]\n",
      "[PairOptimizer.optimize] curves_t WETH-6Cc2/USDT-1ec7\n",
      "[PairOptimizer.optimize] p_optimal OptimizerBase.SimpleResult(result=1881.7106081909023, method='bisection', errormsg=None, context_dct=None) full_result [ 2.13549356e-09 -4.02331352e-06]\n",
      "[PairOptimizer.optimize] curves_t WETH-6Cc2/USDT-1ec7\n",
      "[PairOptimizer.optimize] p_optimal OptimizerBase.SimpleResult(result=1881.7106081915688, method='bisection', errormsg=None, context_dct=None) full_result [-1.95723260e-09  3.68058681e-06]\n",
      "[PairOptimizer.optimize] curves_t WETH-6Cc2/USDT-1ec7\n",
      "[PairOptimizer.optimize] p_optimal OptimizerBase.SimpleResult(result=1881.7106081915645, method='bisection', errormsg=None, context_dct=None) full_result [-1.93176675e-09  3.63588333e-06]\n",
      "[PairOptimizer.optimize] curves_t WETH-6Cc2/USDT-1ec7\n",
      "[PairOptimizer.optimize] p_optimal OptimizerBase.SimpleResult(result=1881.7106081915751, method='bisection', errormsg=None, context_dct=None) full_result [-1.99725037e-09  3.75509262e-06]\n",
      "[PairOptimizer.optimize] curves_t WETH-6Cc2/USDT-1ec7\n",
      "[PairOptimizer.optimize] p_optimal OptimizerBase.SimpleResult(result=1881.7106081909228, method='bisection', errormsg=None, context_dct=None) full_result [ 2.01180228e-09 -3.78489494e-06]\n"
     ]
    },
    {
     "data": {
      "application/vnd.jupyter.widget-view+json": {
       "model_id": "72b05de0ad6542dc973611794c669b0e",
       "version_major": 2,
       "version_minor": 0
      },
      "text/plain": [
       "  0%|          | 0/18 [00:00<?, ?it/s]"
      ]
     },
     "metadata": {},
     "output_type": "display_data"
    },
    {
     "name": "stdout",
     "output_type": "stream",
     "text": [
      "[PairOptimizer.optimize] curves_t WETH-6Cc2/DAI-1d0F\n",
      "[PairOptimizer.optimize] p_optimal OptimizerBase.SimpleResult(result=1889.851635528572, method='bisection', errormsg=None, context_dct=None) full_result [-5.12227416e-09  9.67085361e-06]\n",
      "[PairOptimizer.optimize] curves_t WETH-6Cc2/DAI-1d0F\n",
      "[PairOptimizer.optimize] p_optimal OptimizerBase.SimpleResult(result=1889.8516355283218, method='bisection', errormsg=None, context_dct=None) full_result [-2.50292942e-09  4.73856926e-06]\n",
      "[PairOptimizer.optimize] curves_t WETH-6Cc2/DAI-1d0F\n",
      "[PairOptimizer.optimize] p_optimal OptimizerBase.SimpleResult(result=1889.8516355280997, method='bisection', errormsg=None, context_dct=None) full_result [-1.74622983e-10  3.42726707e-07]\n",
      "[PairOptimizer.optimize] curves_t WETH-6Cc2/DAI-1d0F\n",
      "[PairOptimizer.optimize] p_optimal OptimizerBase.SimpleResult(result=1889.8516355278348, method='bisection', errormsg=None, context_dct=None) full_result [ 2.59751687e-09 -4.91738319e-06]\n",
      "[PairOptimizer.optimize] curves_t WETH-6Cc2/DAI-1d0F\n",
      "[PairOptimizer.optimize] p_optimal OptimizerBase.SimpleResult(result=1889.8516355280783, method='bisection', errormsg=None, context_dct=None) full_result [ 5.09317023e-11 -8.94069672e-08]\n",
      "[PairOptimizer.optimize] curves_t WETH-6Cc2/DAI-1d0F\n",
      "[PairOptimizer.optimize] p_optimal OptimizerBase.SimpleResult(result=1889.8516355275206, method='bisection', errormsg=None, context_dct=None) full_result [ 5.88624971e-09 -1.11311674e-05]\n",
      "[PairOptimizer.optimize] curves_t WETH-6Cc2/DAI-1d0F\n",
      "[PairOptimizer.optimize] p_optimal OptimizerBase.SimpleResult(result=1889.8516355279294, method='bisection', errormsg=None, context_dct=None) full_result [ 1.60798663e-09 -3.03983688e-06]\n",
      "[PairOptimizer.optimize] curves_t WETH-6Cc2/DAI-1d0F\n",
      "[PairOptimizer.optimize] p_optimal OptimizerBase.SimpleResult(result=1889.8516355281563, method='bisection', errormsg=None, context_dct=None) full_result [-7.71251507e-10  1.46031380e-06]\n",
      "[PairOptimizer.optimize] curves_t WETH-6Cc2/DAI-1d0F\n",
      "[PairOptimizer.optimize] p_optimal OptimizerBase.SimpleResult(result=1889.8516355283907, method='bisection', errormsg=None, context_dct=None) full_result [-3.23052518e-09  6.09457493e-06]\n",
      "[PairOptimizer.optimize] curves_t WETH-6Cc2/DAI-1d0F\n",
      "[PairOptimizer.optimize] p_optimal OptimizerBase.SimpleResult(result=1889.2342508777206, method='bisection', errormsg=None, context_dct=None) full_result [ 5.60248736e-10 -1.05053186e-06]\n",
      "[PairOptimizer.optimize] curves_t WETH-6Cc2/DAI-1d0F\n",
      "[PairOptimizer.optimize] p_optimal OptimizerBase.SimpleResult(result=1889.2342508777572, method='bisection', errormsg=None, context_dct=None) full_result [ 2.40106601e-10 -4.47034836e-07]\n",
      "[PairOptimizer.optimize] curves_t WETH-6Cc2/DAI-1d0F\n",
      "[PairOptimizer.optimize] p_optimal OptimizerBase.SimpleResult(result=1889.2342508777629, method='bisection', errormsg=None, context_dct=None) full_result [ 1.89174898e-10 -3.57627869e-07]\n",
      "[PairOptimizer.optimize] curves_t WETH-6Cc2/DAI-1d0F\n",
      "[PairOptimizer.optimize] p_optimal OptimizerBase.SimpleResult(result=1889.234250877536, method='bisection', errormsg=None, context_dct=None) full_result [ 2.15004547e-09 -4.06056643e-06]\n",
      "[PairOptimizer.optimize] curves_t WETH-6Cc2/DAI-1d0F\n",
      "[PairOptimizer.optimize] p_optimal OptimizerBase.SimpleResult(result=1889.234250876973, method='bisection', errormsg=None, context_dct=None) full_result [ 7.02129910e-09 -1.32620335e-05]\n",
      "[PairOptimizer.optimize] curves_t WETH-6Cc2/DAI-1d0F\n",
      "[PairOptimizer.optimize] p_optimal OptimizerBase.SimpleResult(result=1889.2342508772217, method='bisection', errormsg=None, context_dct=None) full_result [ 4.87125362e-09 -9.19401646e-06]\n",
      "[PairOptimizer.optimize] curves_t WETH-6Cc2/DAI-1d0F\n",
      "[PairOptimizer.optimize] p_optimal OptimizerBase.SimpleResult(result=1889.23425087766, method='bisection', errormsg=None, context_dct=None) full_result [ 1.07684173e-09 -2.03400850e-06]\n",
      "[PairOptimizer.optimize] curves_t WETH-6Cc2/DAI-1d0F\n",
      "[PairOptimizer.optimize] p_optimal OptimizerBase.SimpleResult(result=1889.234250877545, method='bisection', errormsg=None, context_dct=None) full_result [ 2.07364792e-09 -3.91155481e-06]\n",
      "[PairOptimizer.optimize] curves_t WETH-6Cc2/DAI-1d0F\n",
      "[PairOptimizer.optimize] p_optimal OptimizerBase.SimpleResult(result=1889.2342508780198, method='bisection', errormsg=None, context_dct=None) full_result [-2.02635420e-09  3.82959843e-06]\n"
     ]
    },
    {
     "data": {
      "application/vnd.jupyter.widget-view+json": {
       "model_id": "9353063808f24e1c9812e4a3ee7e6e5b",
       "version_major": 2,
       "version_minor": 0
      },
      "text/plain": [
       "0it [00:00, ?it/s]"
      ]
     },
     "metadata": {},
     "output_type": "display_data"
    },
    {
     "data": {
      "application/vnd.jupyter.widget-view+json": {
       "model_id": "32486dd4bead405a85e9dc53ad618cff",
       "version_major": 2,
       "version_minor": 0
      },
      "text/plain": [
       "  0%|          | 0/2 [00:00<?, ?it/s]"
      ]
     },
     "metadata": {},
     "output_type": "display_data"
    },
    {
     "name": "stdout",
     "output_type": "stream",
     "text": [
      "[PairOptimizer.optimize] curves_t LINK-86CA/WETH-6Cc2\n",
      "[PairOptimizer.optimize] p_optimal OptimizerBase.SimpleResult(result=0.0033128000163160634, method='bisection', errormsg=None, context_dct=None) full_result [ 3.74391675e-06 -1.24127837e-08]\n",
      "[PairOptimizer.optimize] curves_t LINK-86CA/WETH-6Cc2\n",
      "[PairOptimizer.optimize] p_optimal OptimizerBase.SimpleResult(result=0.0033127999417103446, method='bisection', errormsg=None, context_dct=None) full_result [-2.84612179e-06 -2.81119865e-05]\n"
     ]
    },
    {
     "data": {
      "application/vnd.jupyter.widget-view+json": {
       "model_id": "bdaec7e3833a4fe99fe81a77208cdde6",
       "version_major": 2,
       "version_minor": 0
      },
      "text/plain": [
       "  0%|          | 0/2 [00:00<?, ?it/s]"
      ]
     },
     "metadata": {},
     "output_type": "display_data"
    },
    {
     "name": "stdout",
     "output_type": "stream",
     "text": [
      "[PairOptimizer.optimize] curves_t LINK-86CA/USDT-1ec7\n",
      "[PairOptimizer.optimize] p_optimal OptimizerBase.SimpleResult(result=6.19811711141325, method='bisection', errormsg=None, context_dct=None) full_result [ 6.92898627e-10 -8.85219641e-03]\n",
      "[PairOptimizer.optimize] curves_t LINK-86CA/USDT-1ec7\n",
      "[PairOptimizer.optimize] p_optimal OptimizerBase.SimpleResult(result=6.198055572670811, method='bisection', errormsg=None, context_dct=None) full_result [-4.04725142e-10  2.51020538e-09]\n"
     ]
    },
    {
     "data": {
      "application/vnd.jupyter.widget-view+json": {
       "model_id": "46c00cbaf9c744668824ee5312598e91",
       "version_major": 2,
       "version_minor": 0
      },
      "text/plain": [
       "0it [00:00, ?it/s]"
      ]
     },
     "metadata": {},
     "output_type": "display_data"
    },
    {
     "data": {
      "application/vnd.jupyter.widget-view+json": {
       "model_id": "b91dca4c51c24bdba7cd7cc30da8679b",
       "version_major": 2,
       "version_minor": 0
      },
      "text/plain": [
       "0it [00:00, ?it/s]"
      ]
     },
     "metadata": {},
     "output_type": "display_data"
    },
    {
     "data": {
      "application/vnd.jupyter.widget-view+json": {
       "model_id": "ae2033cbb3ef448ba26d106f3552cd2c",
       "version_major": 2,
       "version_minor": 0
      },
      "text/plain": [
       "0it [00:00, ?it/s]"
      ]
     },
     "metadata": {},
     "output_type": "display_data"
    },
    {
     "data": {
      "application/vnd.jupyter.widget-view+json": {
       "model_id": "a3e54bd2be81418f891928fac3437c17",
       "version_major": 2,
       "version_minor": 0
      },
      "text/plain": [
       "0it [00:00, ?it/s]"
      ]
     },
     "metadata": {},
     "output_type": "display_data"
    },
    {
     "data": {
      "application/vnd.jupyter.widget-view+json": {
       "model_id": "c152ec4243e2427789535cdd10404543",
       "version_major": 2,
       "version_minor": 0
      },
      "text/plain": [
       "0it [00:00, ?it/s]"
      ]
     },
     "metadata": {},
     "output_type": "display_data"
    },
    {
     "data": {
      "application/vnd.jupyter.widget-view+json": {
       "model_id": "536b80a11e7f4a30b1fc83e1cdba5f71",
       "version_major": 2,
       "version_minor": 0
      },
      "text/plain": [
       "  0%|          | 0/2 [00:00<?, ?it/s]"
      ]
     },
     "metadata": {},
     "output_type": "display_data"
    },
    {
     "name": "stdout",
     "output_type": "stream",
     "text": [
      "[PairOptimizer.optimize] curves_t CRV-cd52/USDC-eB48\n",
      "[PairOptimizer.optimize] p_optimal OptimizerBase.SimpleResult(result=0.7931937487429332, method='bisection', errormsg=None, context_dct=None) full_result [-2.58442014e-08 -1.90724513e-01]\n",
      "[PairOptimizer.optimize] curves_t CRV-cd52/USDC-eB48\n",
      "[PairOptimizer.optimize] p_optimal OptimizerBase.SimpleResult(result=0.7931903130686275, method='bisection', errormsg=None, context_dct=None) full_result [-2.30502337e-08  1.81607902e-08]\n"
     ]
    },
    {
     "data": {
      "application/vnd.jupyter.widget-view+json": {
       "model_id": "4c6e8dee8a914126bf80a02d9fa76870",
       "version_major": 2,
       "version_minor": 0
      },
      "text/plain": [
       "  0%|          | 0/18 [00:00<?, ?it/s]"
      ]
     },
     "metadata": {},
     "output_type": "display_data"
    },
    {
     "name": "stdout",
     "output_type": "stream",
     "text": [
      "[PairOptimizer.optimize] curves_t WETH-6Cc2/DAI-1d0F\n",
      "[PairOptimizer.optimize] p_optimal OptimizerBase.SimpleResult(result=1889.851635528572, method='bisection', errormsg=None, context_dct=None) full_result [-5.12227416e-09  9.67085361e-06]\n",
      "[PairOptimizer.optimize] curves_t WETH-6Cc2/DAI-1d0F\n",
      "[PairOptimizer.optimize] p_optimal OptimizerBase.SimpleResult(result=1889.8516355283218, method='bisection', errormsg=None, context_dct=None) full_result [-2.50292942e-09  4.73856926e-06]\n",
      "[PairOptimizer.optimize] curves_t WETH-6Cc2/DAI-1d0F\n",
      "[PairOptimizer.optimize] p_optimal OptimizerBase.SimpleResult(result=1889.8516355280997, method='bisection', errormsg=None, context_dct=None) full_result [-1.74622983e-10  3.42726707e-07]\n",
      "[PairOptimizer.optimize] curves_t WETH-6Cc2/DAI-1d0F\n",
      "[PairOptimizer.optimize] p_optimal OptimizerBase.SimpleResult(result=1889.8516355278348, method='bisection', errormsg=None, context_dct=None) full_result [ 2.59751687e-09 -4.91738319e-06]\n",
      "[PairOptimizer.optimize] curves_t WETH-6Cc2/DAI-1d0F\n",
      "[PairOptimizer.optimize] p_optimal OptimizerBase.SimpleResult(result=1889.8516355280783, method='bisection', errormsg=None, context_dct=None) full_result [ 5.09317023e-11 -8.94069672e-08]\n",
      "[PairOptimizer.optimize] curves_t WETH-6Cc2/DAI-1d0F\n",
      "[PairOptimizer.optimize] p_optimal OptimizerBase.SimpleResult(result=1889.8516355275206, method='bisection', errormsg=None, context_dct=None) full_result [ 5.88624971e-09 -1.11311674e-05]\n",
      "[PairOptimizer.optimize] curves_t WETH-6Cc2/DAI-1d0F\n",
      "[PairOptimizer.optimize] p_optimal OptimizerBase.SimpleResult(result=1889.8516355279294, method='bisection', errormsg=None, context_dct=None) full_result [ 1.60798663e-09 -3.03983688e-06]\n",
      "[PairOptimizer.optimize] curves_t WETH-6Cc2/DAI-1d0F\n",
      "[PairOptimizer.optimize] p_optimal OptimizerBase.SimpleResult(result=1889.8516355281563, method='bisection', errormsg=None, context_dct=None) full_result [-7.71251507e-10  1.46031380e-06]\n",
      "[PairOptimizer.optimize] curves_t WETH-6Cc2/DAI-1d0F\n",
      "[PairOptimizer.optimize] p_optimal OptimizerBase.SimpleResult(result=1889.8516355283907, method='bisection', errormsg=None, context_dct=None) full_result [-3.23052518e-09  6.09457493e-06]\n",
      "[PairOptimizer.optimize] curves_t WETH-6Cc2/DAI-1d0F\n",
      "[PairOptimizer.optimize] p_optimal OptimizerBase.SimpleResult(result=1889.2342508777206, method='bisection', errormsg=None, context_dct=None) full_result [ 5.60248736e-10 -1.05053186e-06]\n",
      "[PairOptimizer.optimize] curves_t WETH-6Cc2/DAI-1d0F\n",
      "[PairOptimizer.optimize] p_optimal OptimizerBase.SimpleResult(result=1889.2342508777572, method='bisection', errormsg=None, context_dct=None) full_result [ 2.40106601e-10 -4.47034836e-07]\n",
      "[PairOptimizer.optimize] curves_t WETH-6Cc2/DAI-1d0F\n",
      "[PairOptimizer.optimize] p_optimal OptimizerBase.SimpleResult(result=1889.2342508777629, method='bisection', errormsg=None, context_dct=None) full_result [ 1.89174898e-10 -3.57627869e-07]\n",
      "[PairOptimizer.optimize] curves_t WETH-6Cc2/DAI-1d0F\n",
      "[PairOptimizer.optimize] p_optimal OptimizerBase.SimpleResult(result=1889.234250877536, method='bisection', errormsg=None, context_dct=None) full_result [ 2.15004547e-09 -4.06056643e-06]\n",
      "[PairOptimizer.optimize] curves_t WETH-6Cc2/DAI-1d0F\n",
      "[PairOptimizer.optimize] p_optimal OptimizerBase.SimpleResult(result=1889.234250876973, method='bisection', errormsg=None, context_dct=None) full_result [ 7.02129910e-09 -1.32620335e-05]\n",
      "[PairOptimizer.optimize] curves_t WETH-6Cc2/DAI-1d0F\n",
      "[PairOptimizer.optimize] p_optimal OptimizerBase.SimpleResult(result=1889.2342508772217, method='bisection', errormsg=None, context_dct=None) full_result [ 4.87125362e-09 -9.19401646e-06]\n",
      "[PairOptimizer.optimize] curves_t WETH-6Cc2/DAI-1d0F\n",
      "[PairOptimizer.optimize] p_optimal OptimizerBase.SimpleResult(result=1889.23425087766, method='bisection', errormsg=None, context_dct=None) full_result [ 1.07684173e-09 -2.03400850e-06]\n",
      "[PairOptimizer.optimize] curves_t WETH-6Cc2/DAI-1d0F\n",
      "[PairOptimizer.optimize] p_optimal OptimizerBase.SimpleResult(result=1889.234250877545, method='bisection', errormsg=None, context_dct=None) full_result [ 2.07364792e-09 -3.91155481e-06]\n",
      "[PairOptimizer.optimize] curves_t WETH-6Cc2/DAI-1d0F\n",
      "[PairOptimizer.optimize] p_optimal OptimizerBase.SimpleResult(result=1889.2342508780198, method='bisection', errormsg=None, context_dct=None) full_result [-2.02635420e-09  3.82959843e-06]\n"
     ]
    },
    {
     "data": {
      "application/vnd.jupyter.widget-view+json": {
       "model_id": "e7cd62d94c0e40ff9b4ecba505a03ffe",
       "version_major": 2,
       "version_minor": 0
      },
      "text/plain": [
       "  0%|          | 0/4 [00:00<?, ?it/s]"
      ]
     },
     "metadata": {},
     "output_type": "display_data"
    },
    {
     "name": "stdout",
     "output_type": "stream",
     "text": [
      "[PairOptimizer.optimize] curves_t DAI-1d0F/USDC-eB48\n",
      "[PairOptimizer.optimize] p_optimal OptimizerBase.SimpleResult(result=1.0003813756302735, method='bisection', errormsg=None, context_dct=None) full_result [ 0.00042725 -0.00042725]\n",
      "[PairOptimizer.optimize] curves_t DAI-1d0F/USDC-eB48\n",
      "[PairOptimizer.optimize] p_optimal OptimizerBase.SimpleResult(result=1.000381375630044, method='bisection', errormsg=None, context_dct=None) full_result [ 0.00753784 -0.00754547]\n",
      "[PairOptimizer.optimize] curves_t DAI-1d0F/USDC-eB48\n",
      "[PairOptimizer.optimize] p_optimal OptimizerBase.SimpleResult(result=0.999979963573878, method='bisection', errormsg=None, context_dct=None) full_result [ 0.02416992 -0.02410889]\n",
      "[PairOptimizer.optimize] curves_t DAI-1d0F/USDC-eB48\n",
      "[PairOptimizer.optimize] p_optimal OptimizerBase.SimpleResult(result=0.999979963573925, method='bisection', errormsg=None, context_dct=None) full_result [ 0.01159668 -0.01153564]\n"
     ]
    },
    {
     "data": {
      "application/vnd.jupyter.widget-view+json": {
       "model_id": "1e8520ce1fff4d0e88fc9c610eb94c83",
       "version_major": 2,
       "version_minor": 0
      },
      "text/plain": [
       "  0%|          | 0/4 [00:00<?, ?it/s]"
      ]
     },
     "metadata": {},
     "output_type": "display_data"
    },
    {
     "name": "stdout",
     "output_type": "stream",
     "text": [
      "[PairOptimizer.optimize] curves_t DAI-1d0F/USDT-1ec7\n",
      "[PairOptimizer.optimize] p_optimal OptimizerBase.SimpleResult(result=0.9998810288348383, method='bisection', errormsg=None, context_dct=None) full_result [-0.00010109  0.00010061]\n",
      "[PairOptimizer.optimize] curves_t DAI-1d0F/USDT-1ec7\n",
      "[PairOptimizer.optimize] p_optimal OptimizerBase.SimpleResult(result=0.9998810288345285, method='bisection', errormsg=None, context_dct=None) full_result [ 0.00048351 -0.00048351]\n",
      "[PairOptimizer.optimize] curves_t DAI-1d0F/USDT-1ec7\n",
      "[PairOptimizer.optimize] p_optimal OptimizerBase.SimpleResult(result=1.0000277727934523, method='bisection', errormsg=None, context_dct=None) full_result [-4.46438789e-05  4.47034836e-05]\n",
      "[PairOptimizer.optimize] curves_t DAI-1d0F/USDT-1ec7\n",
      "[PairOptimizer.optimize] p_optimal OptimizerBase.SimpleResult(result=1.000027772793279, method='bisection', errormsg=None, context_dct=None) full_result [-1.69277191e-05  1.69873238e-05]\n"
     ]
    },
    {
     "data": {
      "application/vnd.jupyter.widget-view+json": {
       "model_id": "35672cae9d5442a2a4eae79b1abfbbd2",
       "version_major": 2,
       "version_minor": 0
      },
      "text/plain": [
       "0it [00:00, ?it/s]"
      ]
     },
     "metadata": {},
     "output_type": "display_data"
    },
    {
     "data": {
      "application/vnd.jupyter.widget-view+json": {
       "model_id": "84fb635b32c244199de4245c05fd81a3",
       "version_major": 2,
       "version_minor": 0
      },
      "text/plain": [
       "0it [00:00, ?it/s]"
      ]
     },
     "metadata": {},
     "output_type": "display_data"
    },
    {
     "data": {
      "application/vnd.jupyter.widget-view+json": {
       "model_id": "0ea977c474a64fcfb88a25131c532620",
       "version_major": 2,
       "version_minor": 0
      },
      "text/plain": [
       "0it [00:00, ?it/s]"
      ]
     },
     "metadata": {},
     "output_type": "display_data"
    },
    {
     "data": {
      "application/vnd.jupyter.widget-view+json": {
       "model_id": "d0febf51c4034f6b89f8330915341113",
       "version_major": 2,
       "version_minor": 0
      },
      "text/plain": [
       "0it [00:00, ?it/s]"
      ]
     },
     "metadata": {},
     "output_type": "display_data"
    },
    {
     "data": {
      "application/vnd.jupyter.widget-view+json": {
       "model_id": "c40538a7291b4647820fdd4b2bfedb38",
       "version_major": 2,
       "version_minor": 0
      },
      "text/plain": [
       "0it [00:00, ?it/s]"
      ]
     },
     "metadata": {},
     "output_type": "display_data"
    },
    {
     "data": {
      "application/vnd.jupyter.widget-view+json": {
       "model_id": "4b1304256cf44543896ce00a70afeca3",
       "version_major": 2,
       "version_minor": 0
      },
      "text/plain": [
       "0it [00:00, ?it/s]"
      ]
     },
     "metadata": {},
     "output_type": "display_data"
    },
    {
     "data": {
      "application/vnd.jupyter.widget-view+json": {
       "model_id": "b7b54c9337e347f7be3961eca125027a",
       "version_major": 2,
       "version_minor": 0
      },
      "text/plain": [
       "  0%|          | 0/54 [00:00<?, ?it/s]"
      ]
     },
     "metadata": {},
     "output_type": "display_data"
    },
    {
     "name": "stdout",
     "output_type": "stream",
     "text": [
      "[PairOptimizer.optimize] curves_t WETH-6Cc2/USDC-eB48\n",
      "[PairOptimizer.optimize] p_optimal OptimizerBase.SimpleResult(result=1888.9922146301515, method='bisection', errormsg=None, context_dct=None) full_result [-4.74392436e-09  8.94069672e-06]\n",
      "[PairOptimizer.optimize] curves_t WETH-6Cc2/USDC-eB48\n",
      "[PairOptimizer.optimize] p_optimal OptimizerBase.SimpleResult(result=1888.992214629935, method='bisection', errormsg=None, context_dct=None) full_result [ 5.41331246e-09 -1.02519989e-05]\n",
      "[PairOptimizer.optimize] curves_t WETH-6Cc2/USDC-eB48\n",
      "[PairOptimizer.optimize] p_optimal OptimizerBase.SimpleResult(result=1888.9922146308772, method='bisection', errormsg=None, context_dct=None) full_result [-3.87663022e-08  7.32541084e-05]\n",
      "[PairOptimizer.optimize] curves_t WETH-6Cc2/USDC-eB48\n",
      "[PairOptimizer.optimize] p_optimal OptimizerBase.SimpleResult(result=1888.9922146296476, method='bisection', errormsg=None, context_dct=None) full_result [ 1.88883860e-08 -3.56435776e-05]\n",
      "[PairOptimizer.optimize] curves_t WETH-6Cc2/USDC-eB48\n",
      "[PairOptimizer.optimize] p_optimal OptimizerBase.SimpleResult(result=1888.992214630152, method='bisection', errormsg=None, context_dct=None) full_result [-4.74392436e-09  8.94069672e-06]\n",
      "[PairOptimizer.optimize] curves_t WETH-6Cc2/USDC-eB48\n",
      "[PairOptimizer.optimize] p_optimal OptimizerBase.SimpleResult(result=1888.9922146300873, method='bisection', errormsg=None, context_dct=None) full_result [-1.71712600e-09  3.27825546e-06]\n",
      "[PairOptimizer.optimize] curves_t WETH-6Cc2/USDC-eB48\n",
      "[PairOptimizer.optimize] p_optimal OptimizerBase.SimpleResult(result=1888.9922146304884, method='bisection', errormsg=None, context_dct=None) full_result [-2.05182005e-08  3.88026237e-05]\n",
      "[PairOptimizer.optimize] curves_t WETH-6Cc2/USDC-eB48\n",
      "[PairOptimizer.optimize] p_optimal OptimizerBase.SimpleResult(result=1888.9922146299593, method='bisection', errormsg=None, context_dct=None) full_result [ 4.30736691e-09 -8.10623169e-06]\n",
      "[PairOptimizer.optimize] curves_t WETH-6Cc2/USDC-eB48\n",
      "[PairOptimizer.optimize] p_optimal OptimizerBase.SimpleResult(result=1888.992214629823, method='bisection', errormsg=None, context_dct=None) full_result [ 1.06811058e-08 -2.01463699e-05]\n",
      "[PairOptimizer.optimize] curves_t WETH-6Cc2/USDC-eB48\n",
      "[PairOptimizer.optimize] p_optimal OptimizerBase.SimpleResult(result=1888.9922146295216, method='bisection', errormsg=None, context_dct=None) full_result [ 2.48255674e-08 -4.68492508e-05]\n",
      "[PairOptimizer.optimize] curves_t WETH-6Cc2/USDC-eB48\n",
      "[PairOptimizer.optimize] p_optimal OptimizerBase.SimpleResult(result=1888.992214630285, method='bisection', errormsg=None, context_dct=None) full_result [-1.09721441e-08  2.07424164e-05]\n",
      "[PairOptimizer.optimize] curves_t WETH-6Cc2/USDC-eB48\n",
      "[PairOptimizer.optimize] p_optimal OptimizerBase.SimpleResult(result=1888.992214630096, method='bisection', errormsg=None, context_dct=None) full_result [-2.12457962e-09  4.05311584e-06]\n",
      "[PairOptimizer.optimize] curves_t WETH-6Cc2/USDC-eB48\n",
      "[PairOptimizer.optimize] p_optimal OptimizerBase.SimpleResult(result=1888.9922146296672, method='bisection', errormsg=None, context_dct=None) full_result [ 1.79861672e-08 -3.39150429e-05]\n",
      "[PairOptimizer.optimize] curves_t WETH-6Cc2/USDC-eB48\n",
      "[PairOptimizer.optimize] p_optimal OptimizerBase.SimpleResult(result=1888.992214630273, method='bisection', errormsg=None, context_dct=None) full_result [-1.04482751e-08  1.97291374e-05]\n",
      "[PairOptimizer.optimize] curves_t WETH-6Cc2/USDC-eB48\n",
      "[PairOptimizer.optimize] p_optimal OptimizerBase.SimpleResult(result=1888.992214630557, method='bisection', errormsg=None, context_dct=None) full_result [-2.37487257e-08  4.48822975e-05]\n",
      "[PairOptimizer.optimize] curves_t WETH-6Cc2/USDC-eB48\n",
      "[PairOptimizer.optimize] p_optimal OptimizerBase.SimpleResult(result=1888.9922146305262, method='bisection', errormsg=None, context_dct=None) full_result [-2.23226380e-08  4.21404839e-05]\n",
      "[PairOptimizer.optimize] curves_t WETH-6Cc2/USDC-eB48\n",
      "[PairOptimizer.optimize] p_optimal OptimizerBase.SimpleResult(result=1888.9922146295794, method='bisection', errormsg=None, context_dct=None) full_result [ 2.21189111e-08 -4.17828560e-05]\n",
      "[PairOptimizer.optimize] curves_t WETH-6Cc2/USDC-eB48\n",
      "[PairOptimizer.optimize] p_optimal OptimizerBase.SimpleResult(result=1888.9922146299941, method='bisection', errormsg=None, context_dct=None) full_result [ 2.67755240e-09 -5.00679016e-06]\n",
      "[PairOptimizer.optimize] curves_t WETH-6Cc2/USDC-eB48\n",
      "[PairOptimizer.optimize] p_optimal OptimizerBase.SimpleResult(result=1888.9922146298563, method='bisection', errormsg=None, context_dct=None) full_result [ 9.10949893e-09 -1.71661377e-05]\n",
      "[PairOptimizer.optimize] curves_t WETH-6Cc2/USDC-eB48\n",
      "[PairOptimizer.optimize] p_optimal OptimizerBase.SimpleResult(result=1888.9922146307526, method='bisection', errormsg=None, context_dct=None) full_result [-3.29164322e-08  6.21676445e-05]\n",
      "[PairOptimizer.optimize] curves_t WETH-6Cc2/USDC-eB48\n",
      "[PairOptimizer.optimize] p_optimal OptimizerBase.SimpleResult(result=1888.9922146292975, method='bisection', errormsg=None, context_dct=None) full_result [ 3.53029463e-08 -6.66975975e-05]\n",
      "[PairOptimizer.optimize] curves_t WETH-6Cc2/USDC-eB48\n",
      "[PairOptimizer.optimize] p_optimal OptimizerBase.SimpleResult(result=1888.9922146298, method='bisection', errormsg=None, context_dct=None) full_result [ 1.17870513e-08 -2.22325325e-05]\n",
      "[PairOptimizer.optimize] curves_t WETH-6Cc2/USDC-eB48\n",
      "[PairOptimizer.optimize] p_optimal OptimizerBase.SimpleResult(result=1888.9922146296672, method='bisection', errormsg=None, context_dct=None) full_result [ 1.79861672e-08 -3.39150429e-05]\n",
      "[PairOptimizer.optimize] curves_t WETH-6Cc2/USDC-eB48\n",
      "[PairOptimizer.optimize] p_optimal OptimizerBase.SimpleResult(result=1888.9922146300303, method='bisection', errormsg=None, context_dct=None) full_result [ 9.60426405e-10 -1.78813934e-06]\n",
      "[PairOptimizer.optimize] curves_t WETH-6Cc2/USDC-eB48\n",
      "[PairOptimizer.optimize] p_optimal OptimizerBase.SimpleResult(result=1888.9922050247133, method='bisection', errormsg=None, context_dct=None) full_result [-2.22406434e-05 -5.32008708e-05]\n",
      "[PairOptimizer.optimize] curves_t WETH-6Cc2/USDC-eB48\n",
      "[PairOptimizer.optimize] p_optimal OptimizerBase.SimpleResult(result=1888.9922146306424, method='bisection', errormsg=None, context_dct=None) full_result [-2.77650543e-08  5.24520874e-05]\n",
      "[PairOptimizer.optimize] curves_t WETH-6Cc2/USDC-eB48\n",
      "[PairOptimizer.optimize] p_optimal OptimizerBase.SimpleResult(result=1888.9922146304034, method='bisection', errormsg=None, context_dct=None) full_result [-1.65309757e-08  3.12328339e-05]\n",
      "[PairOptimizer.optimize] curves_t WETH-6Cc2/USDC-eB48\n",
      "[PairOptimizer.optimize] p_optimal OptimizerBase.SimpleResult(result=1888.9922146305626, method='bisection', errormsg=None, context_dct=None) full_result [-2.40106601e-08  4.54187393e-05]\n",
      "[PairOptimizer.optimize] curves_t WETH-6Cc2/USDC-eB48\n",
      "[PairOptimizer.optimize] p_optimal OptimizerBase.SimpleResult(result=1888.992214630815, method='bisection', errormsg=None, context_dct=None) full_result [-3.58268153e-08  6.77108765e-05]\n",
      "[PairOptimizer.optimize] curves_t WETH-6Cc2/USDC-eB48\n",
      "[PairOptimizer.optimize] p_optimal OptimizerBase.SimpleResult(result=1888.9922146306358, method='bisection', errormsg=None, context_dct=None) full_result [-2.74449121e-08  5.18560410e-05]\n",
      "[PairOptimizer.optimize] curves_t WETH-6Cc2/USDC-eB48\n",
      "[PairOptimizer.optimize] p_optimal OptimizerBase.SimpleResult(result=1888.9922146295798, method='bisection', errormsg=None, context_dct=None) full_result [ 2.20607035e-08 -4.16636467e-05]\n",
      "[PairOptimizer.optimize] curves_t WETH-6Cc2/USDC-eB48\n",
      "[PairOptimizer.optimize] p_optimal OptimizerBase.SimpleResult(result=1888.9922146296767, method='bisection', errormsg=None, context_dct=None) full_result [ 1.75496098e-08 -3.31401825e-05]\n",
      "[PairOptimizer.optimize] curves_t WETH-6Cc2/USDC-eB48\n",
      "[PairOptimizer.optimize] p_optimal OptimizerBase.SimpleResult(result=1888.992214630015, method='bisection', errormsg=None, context_dct=None) full_result [ 1.68802217e-09 -3.15904617e-06]\n",
      "[PairOptimizer.optimize] curves_t WETH-6Cc2/USDC-eB48\n",
      "[PairOptimizer.optimize] p_optimal OptimizerBase.SimpleResult(result=1888.9922146301515, method='bisection', errormsg=None, context_dct=None) full_result [-4.74392436e-09  8.94069672e-06]\n",
      "[PairOptimizer.optimize] curves_t WETH-6Cc2/USDC-eB48\n",
      "[PairOptimizer.optimize] p_optimal OptimizerBase.SimpleResult(result=1888.9922146304305, method='bisection', errormsg=None, context_dct=None) full_result [-1.77824404e-08  3.36170197e-05]\n",
      "[PairOptimizer.optimize] curves_t WETH-6Cc2/USDC-eB48\n",
      "[PairOptimizer.optimize] p_optimal OptimizerBase.SimpleResult(result=1888.9922146295005, method='bisection', errormsg=None, context_dct=None) full_result [ 2.53922954e-08 -4.79870996e-05]\n",
      "[PairOptimizer.optimize] curves_t WETH-6Cc2/USDC-eB48\n",
      "[PairOptimizer.optimize] p_optimal OptimizerBase.SimpleResult(result=1888.9922146295216, method='bisection', errormsg=None, context_dct=None) full_result [ 2.48255674e-08 -4.68492508e-05]\n",
      "[PairOptimizer.optimize] curves_t WETH-6Cc2/USDC-eB48\n",
      "[PairOptimizer.optimize] p_optimal OptimizerBase.SimpleResult(result=1888.9922146296672, method='bisection', errormsg=None, context_dct=None) full_result [ 1.79861672e-08 -3.39150429e-05]\n",
      "[PairOptimizer.optimize] curves_t WETH-6Cc2/USDC-eB48\n",
      "[PairOptimizer.optimize] p_optimal OptimizerBase.SimpleResult(result=1888.9922146306121, method='bisection', errormsg=None, context_dct=None) full_result [-2.63389666e-08  4.97698784e-05]\n",
      "[PairOptimizer.optimize] curves_t WETH-6Cc2/USDC-eB48\n",
      "[PairOptimizer.optimize] p_optimal OptimizerBase.SimpleResult(result=1888.9922146306424, method='bisection', errormsg=None, context_dct=None) full_result [-2.77650543e-08  5.24520874e-05]\n",
      "[PairOptimizer.optimize] curves_t WETH-6Cc2/USDC-eB48\n",
      "[PairOptimizer.optimize] p_optimal OptimizerBase.SimpleResult(result=1888.99221463018, method='bisection', errormsg=None, context_dct=None) full_result [-6.05359674e-09  1.15036964e-05]\n",
      "[PairOptimizer.optimize] curves_t WETH-6Cc2/USDC-eB48\n",
      "[PairOptimizer.optimize] p_optimal OptimizerBase.SimpleResult(result=1888.9922146308115, method='bisection', errormsg=None, context_dct=None) full_result [-3.56812961e-08  6.74128532e-05]\n",
      "[PairOptimizer.optimize] curves_t WETH-6Cc2/USDC-eB48\n",
      "[PairOptimizer.optimize] p_optimal OptimizerBase.SimpleResult(result=1888.9922146302497, method='bisection', errormsg=None, context_dct=None) full_result [-9.31322575e-09  1.76429749e-05]\n",
      "[PairOptimizer.optimize] curves_t WETH-6Cc2/USDC-eB48\n",
      "[PairOptimizer.optimize] p_optimal OptimizerBase.SimpleResult(result=1888.9922146300873, method='bisection', errormsg=None, context_dct=None) full_result [-1.71712600e-09  3.27825546e-06]\n",
      "[PairOptimizer.optimize] curves_t WETH-6Cc2/USDC-eB48\n",
      "[PairOptimizer.optimize] p_optimal OptimizerBase.SimpleResult(result=1888.9922146298663, method='bisection', errormsg=None, context_dct=None) full_result [ 8.64383765e-09 -1.63316727e-05]\n",
      "[PairOptimizer.optimize] curves_t WETH-6Cc2/USDC-eB48\n",
      "[PairOptimizer.optimize] p_optimal OptimizerBase.SimpleResult(result=1888.9922146297727, method='bisection', errormsg=None, context_dct=None) full_result [ 1.30385160e-08 -2.46167183e-05]\n",
      "[PairOptimizer.optimize] curves_t WETH-6Cc2/USDC-eB48\n",
      "[PairOptimizer.optimize] p_optimal OptimizerBase.SimpleResult(result=1888.9922146295776, method='bisection', errormsg=None, context_dct=None) full_result [ 2.21771188e-08 -4.18424606e-05]\n",
      "[PairOptimizer.optimize] curves_t WETH-6Cc2/USDC-eB48\n",
      "[PairOptimizer.optimize] p_optimal OptimizerBase.SimpleResult(result=1888.9922146300873, method='bisection', errormsg=None, context_dct=None) full_result [-1.71712600e-09  3.27825546e-06]\n",
      "[PairOptimizer.optimize] curves_t WETH-6Cc2/USDC-eB48\n",
      "[PairOptimizer.optimize] p_optimal OptimizerBase.SimpleResult(result=1888.9922146295798, method='bisection', errormsg=None, context_dct=None) full_result [ 2.20607035e-08 -4.16636467e-05]\n",
      "[PairOptimizer.optimize] curves_t WETH-6Cc2/USDC-eB48\n",
      "[PairOptimizer.optimize] p_optimal OptimizerBase.SimpleResult(result=1888.9922146299475, method='bisection', errormsg=None, context_dct=None) full_result [ 4.83123586e-09 -9.11951065e-06]\n",
      "[PairOptimizer.optimize] curves_t WETH-6Cc2/USDC-eB48\n",
      "[PairOptimizer.optimize] p_optimal OptimizerBase.SimpleResult(result=1888.9922146300873, method='bisection', errormsg=None, context_dct=None) full_result [-1.71712600e-09  3.27825546e-06]\n",
      "[PairOptimizer.optimize] curves_t WETH-6Cc2/USDC-eB48\n",
      "[PairOptimizer.optimize] p_optimal OptimizerBase.SimpleResult(result=1888.9922146306799, method='bisection', errormsg=None, context_dct=None) full_result [-2.94821803e-08  5.57303429e-05]\n",
      "[PairOptimizer.optimize] curves_t WETH-6Cc2/USDC-eB48\n",
      "[PairOptimizer.optimize] p_optimal OptimizerBase.SimpleResult(result=1888.9922146300873, method='bisection', errormsg=None, context_dct=None) full_result [-1.71712600e-09  3.27825546e-06]\n",
      "[PairOptimizer.optimize] curves_t WETH-6Cc2/USDC-eB48\n",
      "[PairOptimizer.optimize] p_optimal OptimizerBase.SimpleResult(result=1888.992214629823, method='bisection', errormsg=None, context_dct=None) full_result [ 1.06811058e-08 -2.01463699e-05]\n"
     ]
    },
    {
     "data": {
      "application/vnd.jupyter.widget-view+json": {
       "model_id": "7e27df576fc04ed09c5539fd2201a004",
       "version_major": 2,
       "version_minor": 0
      },
      "text/plain": [
       "  0%|          | 0/6 [00:00<?, ?it/s]"
      ]
     },
     "metadata": {},
     "output_type": "display_data"
    },
    {
     "name": "stdout",
     "output_type": "stream",
     "text": [
      "[PairOptimizer.optimize] curves_t BNT-FF1C/USDC-eB48\n",
      "[PairOptimizer.optimize] p_optimal OptimizerBase.SimpleResult(result=0.3933388484434187, method='bisection', errormsg=None, context_dct=None) full_result [ 2.20257789e-07 -8.66129994e-08]\n",
      "[PairOptimizer.optimize] curves_t BNT-FF1C/USDC-eB48\n",
      "[PairOptimizer.optimize] p_optimal OptimizerBase.SimpleResult(result=0.3933388484435465, method='bisection', errormsg=None, context_dct=None) full_result [-2.22586095e-07  8.75443220e-08]\n",
      "[PairOptimizer.optimize] curves_t BNT-FF1C/USDC-eB48\n",
      "[PairOptimizer.optimize] p_optimal OptimizerBase.SimpleResult(result=0.3933388484434076, method='bisection', errormsg=None, context_dct=None) full_result [ 2.58907676e-07 -1.01746991e-07]\n",
      "[PairOptimizer.optimize] curves_t BNT-FF1C/USDC-eB48\n",
      "[PairOptimizer.optimize] p_optimal OptimizerBase.SimpleResult(result=0.39333884844358136, method='bisection', errormsg=None, context_dct=None) full_result [-3.43192369e-07  1.35041773e-07]\n",
      "[PairOptimizer.optimize] curves_t BNT-FF1C/USDC-eB48\n",
      "[PairOptimizer.optimize] p_optimal OptimizerBase.SimpleResult(result=0.39333799529472413, method='bisection', errormsg=None, context_dct=None) full_result [-2.53014131e-02 -3.07336450e-08]\n",
      "[PairOptimizer.optimize] curves_t BNT-FF1C/USDC-eB48\n",
      "[PairOptimizer.optimize] p_optimal OptimizerBase.SimpleResult(result=0.3933388484434884, method='bisection', errormsg=None, context_dct=None) full_result [-2.09547579e-08  8.14907253e-09]\n"
     ]
    },
    {
     "data": {
      "application/vnd.jupyter.widget-view+json": {
       "model_id": "ac538460b01c4a409b3e5d6482a2324e",
       "version_major": 2,
       "version_minor": 0
      },
      "text/plain": [
       "  0%|          | 0/16 [00:00<?, ?it/s]"
      ]
     },
     "metadata": {},
     "output_type": "display_data"
    },
    {
     "name": "stdout",
     "output_type": "stream",
     "text": [
      "[PairOptimizer.optimize] curves_t WBTC-C599/USDC-eB48\n",
      "[PairOptimizer.optimize] p_optimal OptimizerBase.SimpleResult(result=30709.171178589037, method='bisection', errormsg=None, context_dct=None) full_result [ 3.52997631e-11 -1.08499080e-06]\n",
      "[PairOptimizer.optimize] curves_t WBTC-C599/USDC-eB48\n",
      "[PairOptimizer.optimize] p_optimal OptimizerBase.SimpleResult(result=30709.17117859955, method='bisection', errormsg=None, context_dct=None) full_result [-1.14255272e-11  3.50177288e-07]\n",
      "[PairOptimizer.optimize] curves_t WBTC-C599/USDC-eB48\n",
      "[PairOptimizer.optimize] p_optimal OptimizerBase.SimpleResult(result=30709.17117859282, method='bisection', errormsg=None, context_dct=None) full_result [ 1.85309545e-11 -5.69969416e-07]\n",
      "[PairOptimizer.optimize] curves_t WBTC-C599/USDC-eB48\n",
      "[PairOptimizer.optimize] p_optimal OptimizerBase.SimpleResult(result=30709.17117859589, method='bisection', errormsg=None, context_dct=None) full_result [ 4.83169060e-12 -1.49011612e-07]\n",
      "[PairOptimizer.optimize] curves_t WBTC-C599/USDC-eB48\n",
      "[PairOptimizer.optimize] p_optimal OptimizerBase.SimpleResult(result=30709.17117859447, method='bisection', errormsg=None, context_dct=None) full_result [ 1.11413101e-11 -3.43658030e-07]\n",
      "[PairOptimizer.optimize] curves_t WBTC-C599/USDC-eB48\n",
      "[PairOptimizer.optimize] p_optimal OptimizerBase.SimpleResult(result=30709.171178601522, method='bisection', errormsg=None, context_dct=None) full_result [-2.01794137e-11  6.19329512e-07]\n",
      "[PairOptimizer.optimize] curves_t WBTC-C599/USDC-eB48\n",
      "[PairOptimizer.optimize] p_optimal OptimizerBase.SimpleResult(result=30708.392805080344, method='bisection', errormsg=None, context_dct=None) full_result [-2.90562225e-05 -3.77116521e-07]\n",
      "[PairOptimizer.optimize] curves_t WBTC-C599/USDC-eB48\n",
      "[PairOptimizer.optimize] p_optimal OptimizerBase.SimpleResult(result=30709.171178605357, method='bisection', errormsg=None, context_dct=None) full_result [-3.72324394e-11  1.14273280e-06]\n",
      "[PairOptimizer.optimize] curves_t WBTC-C599/USDC-eB48\n",
      "[PairOptimizer.optimize] p_optimal OptimizerBase.SimpleResult(result=30681.192450067927, method='bisection', errormsg=None, context_dct=None) full_result [ 5.82986104e-10 -1.79111958e-05]\n",
      "[PairOptimizer.optimize] curves_t WBTC-C599/USDC-eB48\n",
      "[PairOptimizer.optimize] p_optimal OptimizerBase.SimpleResult(result=30681.192450086935, method='bisection', errormsg=None, context_dct=None) full_result [-8.64019967e-10  2.64942646e-05]\n",
      "[PairOptimizer.optimize] curves_t WBTC-C599/USDC-eB48\n",
      "[PairOptimizer.optimize] p_optimal OptimizerBase.SimpleResult(result=30681.192450084593, method='bisection', errormsg=None, context_dct=None) full_result [-6.85759005e-10  2.10106373e-05]\n",
      "[PairOptimizer.optimize] curves_t WBTC-C599/USDC-eB48\n",
      "[PairOptimizer.optimize] p_optimal OptimizerBase.SimpleResult(result=30681.192450076273, method='bisection', errormsg=None, context_dct=None) full_result [-5.27506927e-11  1.57952309e-06]\n",
      "[PairOptimizer.optimize] curves_t WBTC-C599/USDC-eB48\n",
      "[PairOptimizer.optimize] p_optimal OptimizerBase.SimpleResult(result=30681.19245007934, method='bisection', errormsg=None, context_dct=None) full_result [-2.85581336e-10  8.73208046e-06]\n",
      "[PairOptimizer.optimize] curves_t WBTC-C599/USDC-eB48\n",
      "[PairOptimizer.optimize] p_optimal OptimizerBase.SimpleResult(result=30681.192450081726, method='bisection', errormsg=None, context_dct=None) full_result [-4.67480277e-10  1.43349171e-05]\n",
      "[PairOptimizer.optimize] curves_t WBTC-C599/USDC-eB48\n",
      "[PairOptimizer.optimize] p_optimal OptimizerBase.SimpleResult(result=30681.149356572678, method='bisection', errormsg=None, context_dct=None) full_result [-2.60230975e-05 -4.86961289e-06]\n",
      "[PairOptimizer.optimize] curves_t WBTC-C599/USDC-eB48\n",
      "[PairOptimizer.optimize] p_optimal OptimizerBase.SimpleResult(result=30681.192450076527, method='bisection', errormsg=None, context_dct=None) full_result [-7.18500814e-11  2.17556953e-06]\n"
     ]
    },
    {
     "data": {
      "application/vnd.jupyter.widget-view+json": {
       "model_id": "0c0104dbe77543c7895aea96c4c9194c",
       "version_major": 2,
       "version_minor": 0
      },
      "text/plain": [
       "  0%|          | 0/10 [00:00<?, ?it/s]"
      ]
     },
     "metadata": {},
     "output_type": "display_data"
    },
    {
     "name": "stdout",
     "output_type": "stream",
     "text": [
      "[PairOptimizer.optimize] curves_t USDT-1ec7/USDC-eB48\n",
      "[PairOptimizer.optimize] p_optimal OptimizerBase.SimpleResult(result=1.0000207903769063, method='bisection', errormsg=None, context_dct=None) full_result [-0.0647583  0.0647583]\n",
      "[PairOptimizer.optimize] curves_t USDT-1ec7/USDC-eB48\n",
      "[PairOptimizer.optimize] p_optimal OptimizerBase.SimpleResult(result=1.000020790376823, method='bisection', errormsg=None, context_dct=None) full_result [-0.04290771  0.04290771]\n",
      "[PairOptimizer.optimize] curves_t USDT-1ec7/USDC-eB48\n",
      "[PairOptimizer.optimize] p_optimal OptimizerBase.SimpleResult(result=1.0000207903767104, method='bisection', errormsg=None, context_dct=None) full_result [-0.01342773  0.01342773]\n",
      "[PairOptimizer.optimize] curves_t USDT-1ec7/USDC-eB48\n",
      "[PairOptimizer.optimize] p_optimal OptimizerBase.SimpleResult(result=1.0000207916536292, method='bisection', errormsg=None, context_dct=None) full_result [-0.1512453   0.03923975]\n",
      "[PairOptimizer.optimize] curves_t USDT-1ec7/USDC-eB48\n",
      "[PairOptimizer.optimize] p_optimal OptimizerBase.SimpleResult(result=1.0000207903766147, method='bisection', errormsg=None, context_dct=None) full_result [ 0.01165771 -0.01165771]\n",
      "[PairOptimizer.optimize] curves_t USDT-1ec7/USDC-eB48\n",
      "[PairOptimizer.optimize] p_optimal OptimizerBase.SimpleResult(result=0.9999812258712628, method='bisection', errormsg=None, context_dct=None) full_result [-0.0002017  0.0002017]\n",
      "[PairOptimizer.optimize] curves_t USDT-1ec7/USDC-eB48\n",
      "[PairOptimizer.optimize] p_optimal OptimizerBase.SimpleResult(result=0.9999812258711138, method='bisection', errormsg=None, context_dct=None) full_result [ 9.67979431e-05 -9.67979431e-05]\n",
      "[PairOptimizer.optimize] curves_t USDT-1ec7/USDC-eB48\n",
      "[PairOptimizer.optimize] p_optimal OptimizerBase.SimpleResult(result=0.9999812258708753, method='bisection', errormsg=None, context_dct=None) full_result [ 0.00057364 -0.00057364]\n",
      "[PairOptimizer.optimize] curves_t USDT-1ec7/USDC-eB48\n",
      "[PairOptimizer.optimize] p_optimal OptimizerBase.SimpleResult(result=0.9999814030034596, method='bisection', errormsg=None, context_dct=None) full_result [-0.12507511 -0.00053189]\n",
      "[PairOptimizer.optimize] curves_t USDT-1ec7/USDC-eB48\n",
      "[PairOptimizer.optimize] p_optimal OptimizerBase.SimpleResult(result=0.9999812258710422, method='bisection', errormsg=None, context_dct=None) full_result [ 0.00023985 -0.00023985]\n"
     ]
    },
    {
     "data": {
      "application/vnd.jupyter.widget-view+json": {
       "model_id": "e3af8597ea2b47b5a9d199f025056a56",
       "version_major": 2,
       "version_minor": 0
      },
      "text/plain": [
       "  0%|          | 0/4 [00:00<?, ?it/s]"
      ]
     },
     "metadata": {},
     "output_type": "display_data"
    },
    {
     "name": "stdout",
     "output_type": "stream",
     "text": [
      "[PairOptimizer.optimize] curves_t DAI-1d0F/USDC-eB48\n",
      "[PairOptimizer.optimize] p_optimal OptimizerBase.SimpleResult(result=1.0003813756302735, method='bisection', errormsg=None, context_dct=None) full_result [ 0.00042725 -0.00042725]\n",
      "[PairOptimizer.optimize] curves_t DAI-1d0F/USDC-eB48\n",
      "[PairOptimizer.optimize] p_optimal OptimizerBase.SimpleResult(result=1.000381375630044, method='bisection', errormsg=None, context_dct=None) full_result [ 0.00753784 -0.00754547]\n",
      "[PairOptimizer.optimize] curves_t DAI-1d0F/USDC-eB48\n",
      "[PairOptimizer.optimize] p_optimal OptimizerBase.SimpleResult(result=0.999979963573878, method='bisection', errormsg=None, context_dct=None) full_result [ 0.02416992 -0.02410889]\n",
      "[PairOptimizer.optimize] curves_t DAI-1d0F/USDC-eB48\n",
      "[PairOptimizer.optimize] p_optimal OptimizerBase.SimpleResult(result=0.999979963573925, method='bisection', errormsg=None, context_dct=None) full_result [ 0.01159668 -0.01153564]\n"
     ]
    },
    {
     "data": {
      "application/vnd.jupyter.widget-view+json": {
       "model_id": "0bb8c0f5195247888ad592b8fbb81a44",
       "version_major": 2,
       "version_minor": 0
      },
      "text/plain": [
       "0it [00:00, ?it/s]"
      ]
     },
     "metadata": {},
     "output_type": "display_data"
    },
    {
     "data": {
      "application/vnd.jupyter.widget-view+json": {
       "model_id": "450dcc5c22f649458336ba3cdda92143",
       "version_major": 2,
       "version_minor": 0
      },
      "text/plain": [
       "0it [00:00, ?it/s]"
      ]
     },
     "metadata": {},
     "output_type": "display_data"
    },
    {
     "data": {
      "application/vnd.jupyter.widget-view+json": {
       "model_id": "44b4775447a74e709dd5d1d7b462f001",
       "version_major": 2,
       "version_minor": 0
      },
      "text/plain": [
       "0it [00:00, ?it/s]"
      ]
     },
     "metadata": {},
     "output_type": "display_data"
    },
    {
     "data": {
      "application/vnd.jupyter.widget-view+json": {
       "model_id": "b65303c08f024dbf9b9471f3dfaf7b41",
       "version_major": 2,
       "version_minor": 0
      },
      "text/plain": [
       "0it [00:00, ?it/s]"
      ]
     },
     "metadata": {},
     "output_type": "display_data"
    },
    {
     "data": {
      "application/vnd.jupyter.widget-view+json": {
       "model_id": "ef9862af9e8f4ff6bfb95fc64e91975f",
       "version_major": 2,
       "version_minor": 0
      },
      "text/plain": [
       "0it [00:00, ?it/s]"
      ]
     },
     "metadata": {},
     "output_type": "display_data"
    },
    {
     "data": {
      "application/vnd.jupyter.widget-view+json": {
       "model_id": "f414aa0c5cf642b38f6504aa67881423",
       "version_major": 2,
       "version_minor": 0
      },
      "text/plain": [
       "  0%|          | 0/10 [00:00<?, ?it/s]"
      ]
     },
     "metadata": {},
     "output_type": "display_data"
    },
    {
     "name": "stdout",
     "output_type": "stream",
     "text": [
      "[PairOptimizer.optimize] curves_t ETH2x_FLI-65BD/WETH-6Cc2\n",
      "[PairOptimizer.optimize] p_optimal OptimizerBase.SimpleResult(result=0.006679129489639779, method='bisection', errormsg=None, context_dct=None) full_result [ 8.99308361e-09 -6.00266503e-11]\n",
      "[PairOptimizer.optimize] curves_t ETH2x_FLI-65BD/WETH-6Cc2\n",
      "[PairOptimizer.optimize] p_optimal OptimizerBase.SimpleResult(result=0.006679129489639276, method='bisection', errormsg=None, context_dct=None) full_result [ 1.72003638e-08 -1.14823706e-10]\n",
      "[PairOptimizer.optimize] curves_t ETH2x_FLI-65BD/WETH-6Cc2\n",
      "[PairOptimizer.optimize] p_optimal OptimizerBase.SimpleResult(result=0.006679129489639779, method='bisection', errormsg=None, context_dct=None) full_result [ 8.99308361e-09 -6.00266503e-11]\n",
      "[PairOptimizer.optimize] curves_t ETH2x_FLI-65BD/WETH-6Cc2\n",
      "[PairOptimizer.optimize] p_optimal OptimizerBase.SimpleResult(result=0.006679129489639276, method='bisection', errormsg=None, context_dct=None) full_result [ 1.72003638e-08 -1.14823706e-10]\n",
      "[PairOptimizer.optimize] curves_t ETH2x_FLI-65BD/WETH-6Cc2\n",
      "[PairOptimizer.optimize] p_optimal OptimizerBase.SimpleResult(result=0.006679129489641052, method='bisection', errormsg=None, context_dct=None) full_result [-1.17870513e-08  7.88986654e-11]\n",
      "[PairOptimizer.optimize] curves_t ETH2x_FLI-65BD/WETH-6Cc2\n",
      "[PairOptimizer.optimize] p_optimal OptimizerBase.SimpleResult(result=0.006679129489638686, method='bisection', errormsg=None, context_dct=None) full_result [ 2.68337317e-08 -1.79170456e-10]\n",
      "[PairOptimizer.optimize] curves_t ETH2x_FLI-65BD/WETH-6Cc2\n",
      "[PairOptimizer.optimize] p_optimal OptimizerBase.SimpleResult(result=0.006679129489638977, method='bisection', errormsg=None, context_dct=None) full_result [ 2.20898073e-08 -1.47565515e-10]\n",
      "[PairOptimizer.optimize] curves_t ETH2x_FLI-65BD/WETH-6Cc2\n",
      "[PairOptimizer.optimize] p_optimal OptimizerBase.SimpleResult(result=0.006679129489640365, method='bisection', errormsg=None, context_dct=None) full_result [-6.11180440e-10  4.09272616e-12]\n",
      "[PairOptimizer.optimize] curves_t ETH2x_FLI-65BD/WETH-6Cc2\n",
      "[PairOptimizer.optimize] p_optimal OptimizerBase.SimpleResult(result=0.006679129489642534, method='bisection', errormsg=None, context_dct=None) full_result [-3.59723344e-08  2.40333975e-10]\n",
      "[PairOptimizer.optimize] curves_t ETH2x_FLI-65BD/WETH-6Cc2\n",
      "[PairOptimizer.optimize] p_optimal OptimizerBase.SimpleResult(result=0.006679129489639819, method='bisection', errormsg=None, context_dct=None) full_result [ 8.32369551e-09 -5.54791768e-11]\n"
     ]
    },
    {
     "data": {
      "application/vnd.jupyter.widget-view+json": {
       "model_id": "c23b3524aeca42c3a1f0c30761cc668e",
       "version_major": 2,
       "version_minor": 0
      },
      "text/plain": [
       "  0%|          | 0/14 [00:00<?, ?it/s]"
      ]
     },
     "metadata": {},
     "output_type": "display_data"
    },
    {
     "name": "stdout",
     "output_type": "stream",
     "text": [
      "[PairOptimizer.optimize] curves_t vBNT-7f94/BNT-FF1C\n",
      "[PairOptimizer.optimize] p_optimal OptimizerBase.SimpleResult(result=0.4979713671854289, method='bisection', errormsg=None, context_dct=None) full_result [-6.28642738e-09  3.25962901e-09]\n",
      "[PairOptimizer.optimize] curves_t vBNT-7f94/BNT-FF1C\n",
      "[PairOptimizer.optimize] p_optimal OptimizerBase.SimpleResult(result=0.497971367185545, method='bisection', errormsg=None, context_dct=None) full_result [-2.33994797e-07  1.16648152e-07]\n",
      "[PairOptimizer.optimize] curves_t vBNT-7f94/BNT-FF1C\n",
      "[PairOptimizer.optimize] p_optimal OptimizerBase.SimpleResult(result=0.49797136718544244, method='bisection', errormsg=None, context_dct=None) full_result [-3.28291208e-08  1.65309757e-08]\n",
      "[PairOptimizer.optimize] curves_t vBNT-7f94/BNT-FF1C\n",
      "[PairOptimizer.optimize] p_optimal OptimizerBase.SimpleResult(result=0.4979713671855498, method='bisection', errormsg=None, context_dct=None) full_result [-2.43540853e-07  1.21421181e-07]\n",
      "[PairOptimizer.optimize] curves_t vBNT-7f94/BNT-FF1C\n",
      "[PairOptimizer.optimize] p_optimal OptimizerBase.SimpleResult(result=0.49797136718538826, method='bisection', errormsg=None, context_dct=None) full_result [ 7.33416528e-08 -3.64379957e-08]\n",
      "[PairOptimizer.optimize] curves_t vBNT-7f94/BNT-FF1C\n",
      "[PairOptimizer.optimize] p_optimal OptimizerBase.SimpleResult(result=0.4979713671852612, method='bisection', errormsg=None, context_dct=None) full_result [ 3.22936103e-07 -1.60653144e-07]\n",
      "[PairOptimizer.optimize] curves_t vBNT-7f94/BNT-FF1C\n",
      "[PairOptimizer.optimize] p_optimal OptimizerBase.SimpleResult(result=0.4979713671853365, method='bisection', errormsg=None, context_dct=None) full_result [ 1.75088644e-07 -8.70786607e-08]\n",
      "[PairOptimizer.optimize] curves_t vBNT-7f94/BNT-FF1C\n",
      "[PairOptimizer.optimize] p_optimal OptimizerBase.SimpleResult(result=0.4979713671853946, method='bisection', errormsg=None, context_dct=None) full_result [ 6.12344593e-08 -3.02679837e-08]\n",
      "[PairOptimizer.optimize] curves_t vBNT-7f94/BNT-FF1C\n",
      "[PairOptimizer.optimize] p_optimal OptimizerBase.SimpleResult(result=0.4979713671855437, method='bisection', errormsg=None, context_dct=None) full_result [-2.31200829e-07  1.15367584e-07]\n",
      "[PairOptimizer.optimize] curves_t vBNT-7f94/BNT-FF1C\n",
      "[PairOptimizer.optimize] p_optimal OptimizerBase.SimpleResult(result=0.4979713671856121, method='bisection', errormsg=None, context_dct=None) full_result [-3.65544111e-07  1.82073563e-07]\n",
      "[PairOptimizer.optimize] curves_t vBNT-7f94/BNT-FF1C\n",
      "[PairOptimizer.optimize] p_optimal OptimizerBase.SimpleResult(result=0.4979713671853978, method='bisection', errormsg=None, context_dct=None) full_result [ 5.49480319e-08 -2.72411853e-08]\n",
      "[PairOptimizer.optimize] curves_t vBNT-7f94/BNT-FF1C\n",
      "[PairOptimizer.optimize] p_optimal OptimizerBase.SimpleResult(result=0.49797136718555435, method='bisection', errormsg=None, context_dct=None) full_result [-2.52388418e-07  1.25844963e-07]\n",
      "[PairOptimizer.optimize] curves_t vBNT-7f94/BNT-FF1C\n",
      "[PairOptimizer.optimize] p_optimal OptimizerBase.SimpleResult(result=0.4979713671851882, method='bisection', errormsg=None, context_dct=None) full_result [ 4.66359779e-07 -2.32015736e-07]\n",
      "[PairOptimizer.optimize] curves_t vBNT-7f94/BNT-FF1C\n",
      "[PairOptimizer.optimize] p_optimal OptimizerBase.SimpleResult(result=0.4977218346705689, method='bisection', errormsg=None, context_dct=None) full_result [ 3.20274921e-07 -2.42115359e+01]\n"
     ]
    },
    {
     "data": {
      "application/vnd.jupyter.widget-view+json": {
       "model_id": "84953811c8844f24a6a67cbc89bdb3b4",
       "version_major": 2,
       "version_minor": 0
      },
      "text/plain": [
       "  0%|          | 0/39 [00:00<?, ?it/s]"
      ]
     },
     "metadata": {},
     "output_type": "display_data"
    },
    {
     "name": "stdout",
     "output_type": "stream",
     "text": [
      "[PairOptimizer.optimize] curves_t WETH-6Cc2/USDT-1ec7\n",
      "[PairOptimizer.optimize] p_optimal OptimizerBase.SimpleResult(result=1890.3902599636826, method='bisection', errormsg=None, context_dct=None) full_result [ 3.43752617e-08 -6.91041350e-05]\n",
      "[PairOptimizer.optimize] curves_t WETH-6Cc2/USDT-1ec7\n",
      "[PairOptimizer.optimize] p_optimal OptimizerBase.SimpleResult(result=1890.3902598796512, method='bisection', errormsg=None, context_dct=None) full_result [ 4.23751771e-08 -8.02278519e-05]\n",
      "[PairOptimizer.optimize] curves_t WETH-6Cc2/USDT-1ec7\n",
      "[PairOptimizer.optimize] p_optimal OptimizerBase.SimpleResult(result=1890.3902598804298, method='bisection', errormsg=None, context_dct=None) full_result [-2.00816430e-08  3.79085541e-05]\n",
      "[PairOptimizer.optimize] curves_t WETH-6Cc2/USDT-1ec7\n",
      "[PairOptimizer.optimize] p_optimal OptimizerBase.SimpleResult(result=1890.3902598796158, method='bisection', errormsg=None, context_dct=None) full_result [ 4.52273525e-08 -8.54730606e-05]\n",
      "[PairOptimizer.optimize] curves_t WETH-6Cc2/USDT-1ec7\n",
      "[PairOptimizer.optimize] p_optimal OptimizerBase.SimpleResult(result=1890.3902598801792, method='bisection', errormsg=None, context_dct=None) full_result [0. 0.]\n",
      "[PairOptimizer.optimize] curves_t WETH-6Cc2/USDT-1ec7\n",
      "[PairOptimizer.optimize] p_optimal OptimizerBase.SimpleResult(result=1890.3902598800487, method='bisection', errormsg=None, context_dct=None) full_result [ 1.05355866e-08 -1.99079514e-05]\n",
      "[PairOptimizer.optimize] curves_t WETH-6Cc2/USDT-1ec7\n",
      "[PairOptimizer.optimize] p_optimal OptimizerBase.SimpleResult(result=1890.3902598806571, method='bisection', errormsg=None, context_dct=None) full_result [-3.83006409e-08  7.23600388e-05]\n",
      "[PairOptimizer.optimize] curves_t WETH-6Cc2/USDT-1ec7\n",
      "[PairOptimizer.optimize] p_optimal OptimizerBase.SimpleResult(result=1890.3902702016617, method='bisection', errormsg=None, context_dct=None) full_result [-1.49252719e-05  3.80454148e-05]\n",
      "[PairOptimizer.optimize] curves_t WETH-6Cc2/USDT-1ec7\n",
      "[PairOptimizer.optimize] p_optimal OptimizerBase.SimpleResult(result=1890.390259880636, method='bisection', errormsg=None, context_dct=None) full_result [-3.66126187e-08  6.92605972e-05]\n",
      "[PairOptimizer.optimize] curves_t WETH-6Cc2/USDT-1ec7\n",
      "[PairOptimizer.optimize] p_optimal OptimizerBase.SimpleResult(result=1890.3902598796271, method='bisection', errormsg=None, context_dct=None) full_result [ 4.43542376e-08 -8.38041306e-05]\n",
      "[PairOptimizer.optimize] curves_t WETH-6Cc2/USDT-1ec7\n",
      "[PairOptimizer.optimize] p_optimal OptimizerBase.SimpleResult(result=1890.3902598805803, method='bisection', errormsg=None, context_dct=None) full_result [-3.21888365e-08  6.07967377e-05]\n",
      "[PairOptimizer.optimize] curves_t WETH-6Cc2/USDT-1ec7\n",
      "[PairOptimizer.optimize] p_optimal OptimizerBase.SimpleResult(result=1890.3902598803247, method='bisection', errormsg=None, context_dct=None) full_result [-1.16415322e-08  2.19345093e-05]\n",
      "[PairOptimizer.optimize] curves_t WETH-6Cc2/USDT-1ec7\n",
      "[PairOptimizer.optimize] p_optimal OptimizerBase.SimpleResult(result=1890.3902598804148, method='bisection', errormsg=None, context_dct=None) full_result [-1.88592821e-08  3.56435776e-05]\n",
      "[PairOptimizer.optimize] curves_t WETH-6Cc2/USDT-1ec7\n",
      "[PairOptimizer.optimize] p_optimal OptimizerBase.SimpleResult(result=1889.145889168184, method='bisection', errormsg=None, context_dct=None) full_result [-1.00080797e-08  6.41494989e-06]\n",
      "[PairOptimizer.optimize] curves_t WETH-6Cc2/USDT-1ec7\n",
      "[PairOptimizer.optimize] p_optimal OptimizerBase.SimpleResult(result=1889.145888876507, method='bisection', errormsg=None, context_dct=None) full_result [-1.26019586e-08  2.38120556e-05]\n",
      "[PairOptimizer.optimize] curves_t WETH-6Cc2/USDT-1ec7\n",
      "[PairOptimizer.optimize] p_optimal OptimizerBase.SimpleResult(result=1889.1458888757393, method='bisection', errormsg=None, context_dct=None) full_result [ 5.09317033e-09 -9.62615013e-06]\n",
      "[PairOptimizer.optimize] curves_t WETH-6Cc2/USDT-1ec7\n",
      "[PairOptimizer.optimize] p_optimal OptimizerBase.SimpleResult(result=1889.1458888758934, method='bisection', errormsg=None, context_dct=None) full_result [ 1.54250301e-09 -2.92062759e-06]\n",
      "[PairOptimizer.optimize] curves_t WETH-6Cc2/USDT-1ec7\n",
      "[PairOptimizer.optimize] p_optimal OptimizerBase.SimpleResult(result=1889.1458888762731, method='bisection', errormsg=None, context_dct=None) full_result [-7.21774995e-09  1.36494637e-05]\n",
      "[PairOptimizer.optimize] curves_t WETH-6Cc2/USDT-1ec7\n",
      "[PairOptimizer.optimize] p_optimal OptimizerBase.SimpleResult(result=1889.1458888758175, method='bisection', errormsg=None, context_dct=None) full_result [ 3.30328476e-09 -6.22868538e-06]\n",
      "[PairOptimizer.optimize] curves_t WETH-6Cc2/USDT-1ec7\n",
      "[PairOptimizer.optimize] p_optimal OptimizerBase.SimpleResult(result=1889.145888875436, method='bisection', errormsg=None, context_dct=None) full_result [ 1.21071935e-08 -2.28583813e-05]\n",
      "[PairOptimizer.optimize] curves_t WETH-6Cc2/USDT-1ec7\n",
      "[PairOptimizer.optimize] p_optimal OptimizerBase.SimpleResult(result=1889.1459247812654, method='bisection', errormsg=None, context_dct=None) full_result [-1.54391292e-05 -2.19168578e-05]\n",
      "[PairOptimizer.optimize] curves_t WETH-6Cc2/USDT-1ec7\n",
      "[PairOptimizer.optimize] p_optimal OptimizerBase.SimpleResult(result=1889.1458888762695, method='bisection', errormsg=None, context_dct=None) full_result [-7.13043846e-09  1.34706497e-05]\n",
      "[PairOptimizer.optimize] curves_t WETH-6Cc2/USDT-1ec7\n",
      "[PairOptimizer.optimize] p_optimal OptimizerBase.SimpleResult(result=1889.1458888752281, method='bisection', errormsg=None, context_dct=None) full_result [ 1.69093255e-08 -3.19480896e-05]\n",
      "[PairOptimizer.optimize] curves_t WETH-6Cc2/USDT-1ec7\n",
      "[PairOptimizer.optimize] p_optimal OptimizerBase.SimpleResult(result=1889.1458888757306, method='bisection', errormsg=None, context_dct=None) full_result [ 5.29689714e-09 -1.00135803e-05]\n",
      "[PairOptimizer.optimize] curves_t WETH-6Cc2/USDT-1ec7\n",
      "[PairOptimizer.optimize] p_optimal OptimizerBase.SimpleResult(result=1889.1458888758277, method='bisection', errormsg=None, context_dct=None) full_result [ 3.05590220e-09 -5.78165054e-06]\n",
      "[PairOptimizer.optimize] curves_t WETH-6Cc2/USDT-1ec7\n",
      "[PairOptimizer.optimize] p_optimal OptimizerBase.SimpleResult(result=1889.1458888764319, method='bisection', errormsg=None, context_dct=None) full_result [-1.08848326e-08  2.05636024e-05]\n",
      "[PairOptimizer.optimize] curves_t WETH-6Cc2/USDT-1ec7\n",
      "[PairOptimizer.optimize] p_optimal OptimizerBase.SimpleResult(result=1881.710609293142, method='bisection', errormsg=None, context_dct=None) full_result [-3.60378181e-08  5.24520874e-06]\n",
      "[PairOptimizer.optimize] curves_t WETH-6Cc2/USDT-1ec7\n",
      "[PairOptimizer.optimize] p_optimal OptimizerBase.SimpleResult(result=1881.710608190668, method='bisection', errormsg=None, context_dct=None) full_result [ 3.57977115e-09 -6.74277544e-06]\n",
      "[PairOptimizer.optimize] curves_t WETH-6Cc2/USDT-1ec7\n",
      "[PairOptimizer.optimize] p_optimal OptimizerBase.SimpleResult(result=1881.7106081911547, method='bisection', errormsg=None, context_dct=None) full_result [ 5.85714588e-10 -1.11013651e-06]\n",
      "[PairOptimizer.optimize] curves_t WETH-6Cc2/USDT-1ec7\n",
      "[PairOptimizer.optimize] p_optimal OptimizerBase.SimpleResult(result=1881.7106081913296, method='bisection', errormsg=None, context_dct=None) full_result [-4.87489160e-10  9.16421413e-07]\n",
      "[PairOptimizer.optimize] curves_t WETH-6Cc2/USDT-1ec7\n",
      "[PairOptimizer.optimize] p_optimal OptimizerBase.SimpleResult(result=1881.710608190739, method='bisection', errormsg=None, context_dct=None) full_result [ 3.13957571e-09 -5.91576099e-06]\n",
      "[PairOptimizer.optimize] curves_t WETH-6Cc2/USDT-1ec7\n",
      "[PairOptimizer.optimize] p_optimal OptimizerBase.SimpleResult(result=1881.7106081908473, method='bisection', errormsg=None, context_dct=None) full_result [ 2.47746357e-09 -4.66406345e-06]\n",
      "[PairOptimizer.optimize] curves_t WETH-6Cc2/USDT-1ec7\n",
      "[PairOptimizer.optimize] p_optimal OptimizerBase.SimpleResult(result=1881.7106081914208, method='bisection', errormsg=None, context_dct=None) full_result [-1.04773790e-09  1.97440386e-06]\n",
      "[PairOptimizer.optimize] curves_t WETH-6Cc2/USDT-1ec7\n",
      "[PairOptimizer.optimize] p_optimal OptimizerBase.SimpleResult(result=1881.7107435941489, method='bisection', errormsg=None, context_dct=None) full_result [-1.87256392e-05 -1.61162461e-07]\n",
      "[PairOptimizer.optimize] curves_t WETH-6Cc2/USDT-1ec7\n",
      "[PairOptimizer.optimize] p_optimal OptimizerBase.SimpleResult(result=1881.7106081909023, method='bisection', errormsg=None, context_dct=None) full_result [ 2.13549356e-09 -4.02331352e-06]\n",
      "[PairOptimizer.optimize] curves_t WETH-6Cc2/USDT-1ec7\n",
      "[PairOptimizer.optimize] p_optimal OptimizerBase.SimpleResult(result=1881.7106081915688, method='bisection', errormsg=None, context_dct=None) full_result [-1.95723260e-09  3.68058681e-06]\n",
      "[PairOptimizer.optimize] curves_t WETH-6Cc2/USDT-1ec7\n",
      "[PairOptimizer.optimize] p_optimal OptimizerBase.SimpleResult(result=1881.7106081915645, method='bisection', errormsg=None, context_dct=None) full_result [-1.93176675e-09  3.63588333e-06]\n",
      "[PairOptimizer.optimize] curves_t WETH-6Cc2/USDT-1ec7\n",
      "[PairOptimizer.optimize] p_optimal OptimizerBase.SimpleResult(result=1881.7106081915751, method='bisection', errormsg=None, context_dct=None) full_result [-1.99725037e-09  3.75509262e-06]\n",
      "[PairOptimizer.optimize] curves_t WETH-6Cc2/USDT-1ec7\n",
      "[PairOptimizer.optimize] p_optimal OptimizerBase.SimpleResult(result=1881.7106081909228, method='bisection', errormsg=None, context_dct=None) full_result [ 2.01180228e-09 -3.78489494e-06]\n"
     ]
    },
    {
     "data": {
      "application/vnd.jupyter.widget-view+json": {
       "model_id": "c582a5f9a74644fdb8f80dce159a910f",
       "version_major": 2,
       "version_minor": 0
      },
      "text/plain": [
       "  0%|          | 0/10 [00:00<?, ?it/s]"
      ]
     },
     "metadata": {},
     "output_type": "display_data"
    },
    {
     "name": "stdout",
     "output_type": "stream",
     "text": [
      "[PairOptimizer.optimize] curves_t USDT-1ec7/USDC-eB48\n",
      "[PairOptimizer.optimize] p_optimal OptimizerBase.SimpleResult(result=1.0000207903769063, method='bisection', errormsg=None, context_dct=None) full_result [-0.0647583  0.0647583]\n",
      "[PairOptimizer.optimize] curves_t USDT-1ec7/USDC-eB48\n",
      "[PairOptimizer.optimize] p_optimal OptimizerBase.SimpleResult(result=1.000020790376823, method='bisection', errormsg=None, context_dct=None) full_result [-0.04290771  0.04290771]\n",
      "[PairOptimizer.optimize] curves_t USDT-1ec7/USDC-eB48\n",
      "[PairOptimizer.optimize] p_optimal OptimizerBase.SimpleResult(result=1.0000207903767104, method='bisection', errormsg=None, context_dct=None) full_result [-0.01342773  0.01342773]\n",
      "[PairOptimizer.optimize] curves_t USDT-1ec7/USDC-eB48\n",
      "[PairOptimizer.optimize] p_optimal OptimizerBase.SimpleResult(result=1.0000207916530273, method='bisection', errormsg=None, context_dct=None) full_result [ 0.00653088 -0.11853643]\n",
      "[PairOptimizer.optimize] curves_t USDT-1ec7/USDC-eB48\n",
      "[PairOptimizer.optimize] p_optimal OptimizerBase.SimpleResult(result=1.0000207903766147, method='bisection', errormsg=None, context_dct=None) full_result [ 0.01165771 -0.01165771]\n",
      "[PairOptimizer.optimize] curves_t USDT-1ec7/USDC-eB48\n",
      "[PairOptimizer.optimize] p_optimal OptimizerBase.SimpleResult(result=0.9999812258712628, method='bisection', errormsg=None, context_dct=None) full_result [-0.0002017  0.0002017]\n",
      "[PairOptimizer.optimize] curves_t USDT-1ec7/USDC-eB48\n",
      "[PairOptimizer.optimize] p_optimal OptimizerBase.SimpleResult(result=0.9999812258711138, method='bisection', errormsg=None, context_dct=None) full_result [ 9.67979431e-05 -9.67979431e-05]\n",
      "[PairOptimizer.optimize] curves_t USDT-1ec7/USDC-eB48\n",
      "[PairOptimizer.optimize] p_optimal OptimizerBase.SimpleResult(result=0.9999812258708753, method='bisection', errormsg=None, context_dct=None) full_result [ 0.00057364 -0.00057364]\n",
      "[PairOptimizer.optimize] curves_t USDT-1ec7/USDC-eB48\n",
      "[PairOptimizer.optimize] p_optimal OptimizerBase.SimpleResult(result=0.9999814029407567, method='bisection', errormsg=None, context_dct=None) full_result [ 0.0004016  -0.12600621]\n",
      "[PairOptimizer.optimize] curves_t USDT-1ec7/USDC-eB48\n",
      "[PairOptimizer.optimize] p_optimal OptimizerBase.SimpleResult(result=0.9999812258710422, method='bisection', errormsg=None, context_dct=None) full_result [ 0.00023985 -0.00023985]\n"
     ]
    },
    {
     "data": {
      "application/vnd.jupyter.widget-view+json": {
       "model_id": "45da209e6b2744fab1772fb12e76509e",
       "version_major": 2,
       "version_minor": 0
      },
      "text/plain": [
       "  0%|          | 0/1 [00:00<?, ?it/s]"
      ]
     },
     "metadata": {},
     "output_type": "display_data"
    },
    {
     "name": "stdout",
     "output_type": "stream",
     "text": [
      "[PairOptimizer.optimize] curves_t WBTC-C599/USDT-1ec7\n",
      "[PairOptimizer.optimize] p_optimal OptimizerBase.SimpleResult(result=30694.613949047027, method='bisection', errormsg=None, context_dct=None) full_result [-6.27641507e-07 -9.29663398e-06]\n"
     ]
    },
    {
     "data": {
      "application/vnd.jupyter.widget-view+json": {
       "model_id": "9c5bf9ccfd9546c48b6a3d67773b65ea",
       "version_major": 2,
       "version_minor": 0
      },
      "text/plain": [
       "  0%|          | 0/4 [00:00<?, ?it/s]"
      ]
     },
     "metadata": {},
     "output_type": "display_data"
    },
    {
     "name": "stdout",
     "output_type": "stream",
     "text": [
      "[PairOptimizer.optimize] curves_t DAI-1d0F/USDT-1ec7\n",
      "[PairOptimizer.optimize] p_optimal OptimizerBase.SimpleResult(result=0.9998810288348383, method='bisection', errormsg=None, context_dct=None) full_result [-0.00010109  0.00010061]\n",
      "[PairOptimizer.optimize] curves_t DAI-1d0F/USDT-1ec7\n",
      "[PairOptimizer.optimize] p_optimal OptimizerBase.SimpleResult(result=0.9998810288345285, method='bisection', errormsg=None, context_dct=None) full_result [ 0.00048351 -0.00048351]\n",
      "[PairOptimizer.optimize] curves_t DAI-1d0F/USDT-1ec7\n",
      "[PairOptimizer.optimize] p_optimal OptimizerBase.SimpleResult(result=1.0000277727934523, method='bisection', errormsg=None, context_dct=None) full_result [-4.46438789e-05  4.47034836e-05]\n",
      "[PairOptimizer.optimize] curves_t DAI-1d0F/USDT-1ec7\n",
      "[PairOptimizer.optimize] p_optimal OptimizerBase.SimpleResult(result=1.000027772793279, method='bisection', errormsg=None, context_dct=None) full_result [-1.69277191e-05  1.69873238e-05]\n"
     ]
    },
    {
     "data": {
      "application/vnd.jupyter.widget-view+json": {
       "model_id": "0a1c6de8bf064b598bac37029f1e9e9a",
       "version_major": 2,
       "version_minor": 0
      },
      "text/plain": [
       "0it [00:00, ?it/s]"
      ]
     },
     "metadata": {},
     "output_type": "display_data"
    },
    {
     "data": {
      "application/vnd.jupyter.widget-view+json": {
       "model_id": "828b1c736ef94664ba3dc642c8b37797",
       "version_major": 2,
       "version_minor": 0
      },
      "text/plain": [
       "0it [00:00, ?it/s]"
      ]
     },
     "metadata": {},
     "output_type": "display_data"
    },
    {
     "data": {
      "application/vnd.jupyter.widget-view+json": {
       "model_id": "a9303def6b4a4b36b704716fa25154a1",
       "version_major": 2,
       "version_minor": 0
      },
      "text/plain": [
       "0it [00:00, ?it/s]"
      ]
     },
     "metadata": {},
     "output_type": "display_data"
    },
    {
     "data": {
      "application/vnd.jupyter.widget-view+json": {
       "model_id": "c5b356b21e484660b353d2fbb1d775fe",
       "version_major": 2,
       "version_minor": 0
      },
      "text/plain": [
       "0it [00:00, ?it/s]"
      ]
     },
     "metadata": {},
     "output_type": "display_data"
    },
    {
     "data": {
      "application/vnd.jupyter.widget-view+json": {
       "model_id": "174e1e011713489aa6dfe85c505acba9",
       "version_major": 2,
       "version_minor": 0
      },
      "text/plain": [
       "  0%|          | 0/1 [00:00<?, ?it/s]"
      ]
     },
     "metadata": {},
     "output_type": "display_data"
    },
    {
     "name": "stdout",
     "output_type": "stream",
     "text": [
      "[PairOptimizer.optimize] curves_t icETH-6A84/WETH-6Cc2\n",
      "[PairOptimizer.optimize] p_optimal OptimizerBase.SimpleResult(result=1.0625676226961724, method='bisection', errormsg=None, context_dct=None) full_result [-4.33828973e-10  4.60659066e-10]\n"
     ]
    },
    {
     "data": {
      "application/vnd.jupyter.widget-view+json": {
       "model_id": "7ee3745c91da4ca89cd2b06a321113cb",
       "version_major": 2,
       "version_minor": 0
      },
      "text/plain": [
       "0it [00:00, ?it/s]"
      ]
     },
     "metadata": {},
     "output_type": "display_data"
    },
    {
     "data": {
      "application/vnd.jupyter.widget-view+json": {
       "model_id": "4c941b80b10f4c0e8b880287b954b728",
       "version_major": 2,
       "version_minor": 0
      },
      "text/plain": [
       "  0%|          | 0/4 [00:00<?, ?it/s]"
      ]
     },
     "metadata": {},
     "output_type": "display_data"
    },
    {
     "name": "stdout",
     "output_type": "stream",
     "text": [
      "[PairOptimizer.optimize] curves_t WETH-6Cc2/BNT-FF1C\n",
      "[PairOptimizer.optimize] p_optimal OptimizerBase.SimpleResult(result=4764.128744550646, method='bisection', errormsg=None, context_dct=None) full_result [-5.01323496e-04 -9.32934199e-07]\n",
      "[PairOptimizer.optimize] curves_t WETH-6Cc2/BNT-FF1C\n",
      "[PairOptimizer.optimize] p_optimal OptimizerBase.SimpleResult(result=4764.138098143359, method='bisection', errormsg=None, context_dct=None) full_result [ 1.95996108e-10 -9.35047865e-07]\n",
      "[PairOptimizer.optimize] curves_t WETH-6Cc2/BNT-FF1C\n",
      "[PairOptimizer.optimize] p_optimal OptimizerBase.SimpleResult(result=4764.138098141909, method='bisection', errormsg=None, context_dct=None) full_result [ 7.35781214e-10 -3.50549817e-06]\n",
      "[PairOptimizer.optimize] curves_t WETH-6Cc2/BNT-FF1C\n",
      "[PairOptimizer.optimize] p_optimal OptimizerBase.SimpleResult(result=4764.138098143836, method='bisection', errormsg=None, context_dct=None) full_result [ 1.86446414e-11 -8.94069672e-08]\n"
     ]
    },
    {
     "data": {
      "application/vnd.jupyter.widget-view+json": {
       "model_id": "809349a813b84adf9e46d28e9806a9eb",
       "version_major": 2,
       "version_minor": 0
      },
      "text/plain": [
       "  0%|          | 0/6 [00:00<?, ?it/s]"
      ]
     },
     "metadata": {},
     "output_type": "display_data"
    },
    {
     "name": "stdout",
     "output_type": "stream",
     "text": [
      "[PairOptimizer.optimize] curves_t BNT-FF1C/USDC-eB48\n",
      "[PairOptimizer.optimize] p_optimal OptimizerBase.SimpleResult(result=0.3933388484434187, method='bisection', errormsg=None, context_dct=None) full_result [ 2.20257789e-07 -8.66129994e-08]\n",
      "[PairOptimizer.optimize] curves_t BNT-FF1C/USDC-eB48\n",
      "[PairOptimizer.optimize] p_optimal OptimizerBase.SimpleResult(result=0.3933388484435465, method='bisection', errormsg=None, context_dct=None) full_result [-2.22586095e-07  8.75443220e-08]\n",
      "[PairOptimizer.optimize] curves_t BNT-FF1C/USDC-eB48\n",
      "[PairOptimizer.optimize] p_optimal OptimizerBase.SimpleResult(result=0.3933388484434076, method='bisection', errormsg=None, context_dct=None) full_result [ 2.58907676e-07 -1.01746991e-07]\n",
      "[PairOptimizer.optimize] curves_t BNT-FF1C/USDC-eB48\n",
      "[PairOptimizer.optimize] p_optimal OptimizerBase.SimpleResult(result=0.39333884844358136, method='bisection', errormsg=None, context_dct=None) full_result [-3.43192369e-07  1.35041773e-07]\n",
      "[PairOptimizer.optimize] curves_t BNT-FF1C/USDC-eB48\n",
      "[PairOptimizer.optimize] p_optimal OptimizerBase.SimpleResult(result=0.39333798799177033, method='bisection', errormsg=None, context_dct=None) full_result [-1.90921128e-07 -9.95196286e-03]\n",
      "[PairOptimizer.optimize] curves_t BNT-FF1C/USDC-eB48\n",
      "[PairOptimizer.optimize] p_optimal OptimizerBase.SimpleResult(result=0.3933388484434884, method='bisection', errormsg=None, context_dct=None) full_result [-2.09547579e-08  8.14907253e-09]\n"
     ]
    },
    {
     "data": {
      "application/vnd.jupyter.widget-view+json": {
       "model_id": "66eb63e8765540159969c3525b2fd5b9",
       "version_major": 2,
       "version_minor": 0
      },
      "text/plain": [
       "0it [00:00, ?it/s]"
      ]
     },
     "metadata": {},
     "output_type": "display_data"
    },
    {
     "data": {
      "application/vnd.jupyter.widget-view+json": {
       "model_id": "ab50ff9298784323a4540a70ac5550a7",
       "version_major": 2,
       "version_minor": 0
      },
      "text/plain": [
       "0it [00:00, ?it/s]"
      ]
     },
     "metadata": {},
     "output_type": "display_data"
    },
    {
     "data": {
      "application/vnd.jupyter.widget-view+json": {
       "model_id": "e504680648a04001a4fb35f09da7dd6d",
       "version_major": 2,
       "version_minor": 0
      },
      "text/plain": [
       "0it [00:00, ?it/s]"
      ]
     },
     "metadata": {},
     "output_type": "display_data"
    },
    {
     "data": {
      "application/vnd.jupyter.widget-view+json": {
       "model_id": "deb872d3cddb4e878a83c80f578100ae",
       "version_major": 2,
       "version_minor": 0
      },
      "text/plain": [
       "0it [00:00, ?it/s]"
      ]
     },
     "metadata": {},
     "output_type": "display_data"
    },
    {
     "data": {
      "application/vnd.jupyter.widget-view+json": {
       "model_id": "42a7d0c74d01468fbe8152f0f8287314",
       "version_major": 2,
       "version_minor": 0
      },
      "text/plain": [
       "0it [00:00, ?it/s]"
      ]
     },
     "metadata": {},
     "output_type": "display_data"
    },
    {
     "ename": "AssertionError",
     "evalue": "[TestSingleMode] Expected 26 arbs, found 30",
     "output_type": "error",
     "traceback": [
      "\u001b[0;31m---------------------------------------------------------------------------\u001b[0m",
      "\u001b[0;31mAssertionError\u001b[0m                            Traceback (most recent call last)",
      "\u001b[0;32m<ipython-input-6-0d5006eea372>\u001b[0m in \u001b[0;36m<module>\u001b[0;34m\u001b[0m\n\u001b[1;32m      9\u001b[0m         )\n\u001b[1;32m     10\u001b[0m \u001b[0mr\u001b[0m \u001b[0;34m=\u001b[0m \u001b[0mfinder\u001b[0m\u001b[0;34m.\u001b[0m\u001b[0mfind_arbitrage\u001b[0m\u001b[0;34m(\u001b[0m\u001b[0;34m)\u001b[0m\u001b[0;34m\u001b[0m\u001b[0;34m\u001b[0m\u001b[0m\n\u001b[0;32m---> 11\u001b[0;31m \u001b[0;32massert\u001b[0m \u001b[0mlen\u001b[0m\u001b[0;34m(\u001b[0m\u001b[0mr\u001b[0m\u001b[0;34m)\u001b[0m \u001b[0;34m==\u001b[0m \u001b[0;36m26\u001b[0m\u001b[0;34m,\u001b[0m \u001b[0;34mf\"[TestSingleMode] Expected 26 arbs, found {len(r)}\"\u001b[0m\u001b[0;34m\u001b[0m\u001b[0;34m\u001b[0m\u001b[0m\n\u001b[0m\u001b[1;32m     12\u001b[0m \u001b[0;32massert\u001b[0m \u001b[0mlen\u001b[0m\u001b[0;34m(\u001b[0m\u001b[0mr\u001b[0m\u001b[0;34m)\u001b[0m \u001b[0;34m==\u001b[0m \u001b[0mlen\u001b[0m\u001b[0;34m(\u001b[0m\u001b[0mrun_full\u001b[0m\u001b[0;34m)\u001b[0m\u001b[0;34m,\u001b[0m \u001b[0;34mf\"[TestSingleMode] Expected arbs from .find_arbitrage - {len(r)} - to match _run - {len(run_full)}\"\u001b[0m\u001b[0;34m\u001b[0m\u001b[0;34m\u001b[0m\u001b[0m\n",
      "\u001b[0;31mAssertionError\u001b[0m: [TestSingleMode] Expected 26 arbs, found 30"
     ]
    }
   ],
   "source": [
    "run_full = bot._run(flashloan_tokens=flashloan_tokens, CCm=CCm, arb_mode=arb_mode, data_validator=False, result=bot.XS_ARBOPPS)\n",
    "arb_finder = bot._get_arb_finder(\"single\")\n",
    "finder = arb_finder(\n",
    "            flashloan_tokens=flashloan_tokens,\n",
    "            CCm=CCm,\n",
    "            mode=\"bothin\",\n",
    "            result=bot.AO_CANDIDATES,\n",
    "            ConfigObj=bot.ConfigObj,\n",
    "        )\n",
    "r = finder.find_arbitrage()\n",
    "assert len(r) == 26, f\"[TestSingleMode] Expected 26 arbs, found {len(r)}\"\n",
    "assert len(r) == len(run_full), f\"[TestSingleMode] Expected arbs from .find_arbitrage - {len(r)} - to match _run - {len(run_full)}\""
   ]
  },
  {
   "cell_type": "code",
   "execution_count": 7,
   "id": "a5f5937f-5bc9-44fc-96ac-9b10b9e96742",
   "metadata": {
    "ExecuteTime": {
     "end_time": "2023-09-18T18:18:57.580442Z",
     "start_time": "2023-09-18T18:18:56.188990Z"
    }
   },
   "outputs": [
    {
     "data": {
      "text/plain": [
       "[(6.711868337933519,\n",
       "                                                      WETH-6Cc2    HEX-eb39\n",
       "  0x6d2372776a5beac5ae5352308a74201337ea626ff1a94...   0.002687 -579.282163\n",
       "  14291859410679415465461733512134264881242-0         -0.004096  579.282169\n",
       "  PRICE                                                1.000000    0.000005\n",
       "  AMMIn                                                0.002687  579.282169\n",
       "  AMMOut                                              -0.004096 -579.282163\n",
       "  TOTAL NET                                           -0.001409    0.000006,\n",
       "  ({'cid': '0x6d2372776a5beac5ae5352308a74201337ea626ff1a949243eb051481792aa2f',\n",
       "    'tknin': 'WETH-6Cc2',\n",
       "    'amtin': 0.002687311890667843,\n",
       "    'tknout': 'HEX-eb39',\n",
       "    'amtout': -579.2821627557278,\n",
       "    'error': None},\n",
       "   {'cid': '14291859410679415465461733512134264881242-0',\n",
       "    'tknin': 'HEX-eb39',\n",
       "    'amtin': 579.2821689358664,\n",
       "    'tknout': 'WETH-6Cc2',\n",
       "    'amtout': -0.00409614349875,\n",
       "    'error': None}),\n",
       "  'WETH-6Cc2',\n",
       "  (CPCArbOptimizer.TradeInstruction(cid='0x6d2372776a5beac5ae5352308a74201337ea626ff1a949243eb051481792aa2f', tknin='WETH-6Cc2', amtin=0.002687311890667843, tknout='HEX-eb39', amtout=-579.2821627557278, error=None),\n",
       "   CPCArbOptimizer.TradeInstruction(cid='14291859410679415465461733512134264881242-0', tknin='HEX-eb39', amtin=579.2821689358664, tknout='WETH-6Cc2', amtout=-0.00409614349875, error=None))),\n",
       " (6.771689525003289,\n",
       "                                                      WETH-6Cc2    HEX-eb39\n",
       "  0x8f9771f2886aa12c1659c275b8e305f58c7c41ba82df0...   0.002675 -579.282200\n",
       "  14291859410679415465461733512134264881242-0         -0.004096  579.282169\n",
       "  PRICE                                                1.000000    0.000005\n",
       "  AMMIn                                                0.002675  579.282169\n",
       "  AMMOut                                              -0.004096 -579.282200\n",
       "  TOTAL NET                                           -0.001421   -0.000031,\n",
       "  ({'cid': '0x8f9771f2886aa12c1659c275b8e305f58c7c41ba82df03bb21c0bcac98ffde4b',\n",
       "    'tknin': 'WETH-6Cc2',\n",
       "    'amtin': 0.002674755330417611,\n",
       "    'tknout': 'HEX-eb39',\n",
       "    'amtout': -579.2821999192238,\n",
       "    'error': None},\n",
       "   {'cid': '14291859410679415465461733512134264881242-0',\n",
       "    'tknin': 'HEX-eb39',\n",
       "    'amtin': 579.2821689358664,\n",
       "    'tknout': 'WETH-6Cc2',\n",
       "    'amtout': -0.00409614349875,\n",
       "    'error': None}),\n",
       "  'WETH-6Cc2',\n",
       "  (CPCArbOptimizer.TradeInstruction(cid='0x8f9771f2886aa12c1659c275b8e305f58c7c41ba82df03bb21c0bcac98ffde4b', tknin='WETH-6Cc2', amtin=0.002674755330417611, tknout='HEX-eb39', amtout=-579.2821999192238, error=None),\n",
       "   CPCArbOptimizer.TradeInstruction(cid='14291859410679415465461733512134264881242-0', tknin='HEX-eb39', amtin=579.2821689358664, tknout='WETH-6Cc2', amtout=-0.00409614349875, error=None))),\n",
       " (30.188879682899962,\n",
       "                                                       agEUR-Bce8    USDC-eB48\n",
       "  0xcb487fc19b1e23857870b0743650419594c1883e4cee7...  3290.074956 -3623.138329\n",
       "  21778071482940061661655974875633165533369-1        -3290.074966  3611.263870\n",
       "  PRICE                                                  1.101207     1.000000\n",
       "  AMMIn                                               3290.074956  3611.263870\n",
       "  AMMOut                                             -3290.074966 -3623.138329\n",
       "  TOTAL NET                                             -0.000011   -11.874459,\n",
       "  ({'cid': '0xcb487fc19b1e23857870b0743650419594c1883e4cee744984589f0093c6366a',\n",
       "    'tknin': 'agEUR-Bce8',\n",
       "    'amtin': 3290.0749557614326,\n",
       "    'tknout': 'USDC-eB48',\n",
       "    'amtout': -3623.1383287608624,\n",
       "    'error': None},\n",
       "   {'cid': '21778071482940061661655974875633165533369-1',\n",
       "    'tknin': 'USDC-eB48',\n",
       "    'amtin': 3611.2638695905916,\n",
       "    'tknout': 'agEUR-Bce8',\n",
       "    'amtout': -3290.074966498185,\n",
       "    'error': None}),\n",
       "  'USDC-eB48',\n",
       "  (CPCArbOptimizer.TradeInstruction(cid='0xcb487fc19b1e23857870b0743650419594c1883e4cee744984589f0093c6366a', tknin='agEUR-Bce8', amtin=3290.0749557614326, tknout='USDC-eB48', amtout=-3623.1383287608624, error=None),\n",
       "   CPCArbOptimizer.TradeInstruction(cid='21778071482940061661655974875633165533369-1', tknin='USDC-eB48', amtin=3611.2638695905916, tknout='agEUR-Bce8', amtout=-3290.074966498185, error=None))),\n",
       " (0.5927346049020847,\n",
       "                                                        agEUR-Bce8   USDC-eB48\n",
       "  0x9546a8b47738f2e0584eca2046653b7b16dc9474296a7...  1.199673e+02 -131.637999\n",
       "  21778071482940061661655974875633165533369-1        -1.199673e+02  131.404853\n",
       "  PRICE                                               1.095425e+00    1.000000\n",
       "  AMMIn                                               1.199673e+02  131.404853\n",
       "  AMMOut                                             -1.199673e+02 -131.637999\n",
       "  TOTAL NET                                          -5.436596e-08   -0.233146,\n",
       "  ({'cid': '0x9546a8b47738f2e0584eca2046653b7b16dc9474296a73d548888c6dae78759d',\n",
       "    'tknin': 'agEUR-Bce8',\n",
       "    'amtin': 119.96733726689126,\n",
       "    'tknout': 'USDC-eB48',\n",
       "    'amtout': -131.6379988080007,\n",
       "    'error': None},\n",
       "   {'cid': '21778071482940061661655974875633165533369-1',\n",
       "    'tknin': 'USDC-eB48',\n",
       "    'amtin': 131.4048532610759,\n",
       "    'tknout': 'agEUR-Bce8',\n",
       "    'amtout': -119.96733732125722,\n",
       "    'error': None}),\n",
       "  'USDC-eB48',\n",
       "  (CPCArbOptimizer.TradeInstruction(cid='0x9546a8b47738f2e0584eca2046653b7b16dc9474296a73d548888c6dae78759d', tknin='agEUR-Bce8', amtin=119.96733726689126, tknout='USDC-eB48', amtout=-131.6379988080007, error=None),\n",
       "   CPCArbOptimizer.TradeInstruction(cid='21778071482940061661655974875633165533369-1', tknin='USDC-eB48', amtin=131.4048532610759, tknout='agEUR-Bce8', amtout=-119.96733732125722, error=None))),\n",
       " (0.25555316432574093,\n",
       "                                                         WBTC-C599  WETH-6Cc2\n",
       "  0x36445535fc762f6c53277a667500a41e31b51bec800e7...  8.570330e-03  -0.139375\n",
       "  9187623906865338513511114400657741709458-1         -8.570326e-03   0.139321\n",
       "  PRICE                                               1.626249e+01   1.000000\n",
       "  AMMIn                                               8.570330e-03   0.139321\n",
       "  AMMOut                                             -8.570326e-03  -0.139375\n",
       "  TOTAL NET                                           3.985541e-09  -0.000054,\n",
       "  ({'cid': '0x36445535fc762f6c53277a667500a41e31b51bec800e76aab33dafab75da4eaa',\n",
       "    'tknin': 'WBTC-C599',\n",
       "    'amtin': 0.008570330159272999,\n",
       "    'tknout': 'WETH-6Cc2',\n",
       "    'amtout': -0.13937496615108103,\n",
       "    'error': None},\n",
       "   {'cid': '9187623906865338513511114400657741709458-1',\n",
       "    'tknin': 'WETH-6Cc2',\n",
       "    'amtin': 0.13932132514423756,\n",
       "    'tknout': 'WBTC-C599',\n",
       "    'amtout': -0.008570326173732212,\n",
       "    'error': None}),\n",
       "  'WETH-6Cc2',\n",
       "  (CPCArbOptimizer.TradeInstruction(cid='0x36445535fc762f6c53277a667500a41e31b51bec800e76aab33dafab75da4eaa', tknin='WBTC-C599', amtin=0.008570330159272999, tknout='WETH-6Cc2', amtout=-0.13937496615108103, error=None),\n",
       "   CPCArbOptimizer.TradeInstruction(cid='9187623906865338513511114400657741709458-1', tknin='WETH-6Cc2', amtin=0.13932132514423756, tknout='WBTC-C599', amtout=-0.008570326173732212, error=None))),\n",
       " (2.2684540101184734,\n",
       "                                                         WBTC-C599   USDC-eB48\n",
       "  0x8d7ac7e77704f3ac75534d5500159a7a4b7e6e23dbdca...  3.490251e-03 -107.181336\n",
       "  4083388403051261561560495289181218537639-1         -3.490251e-03  106.289064\n",
       "  PRICE                                               3.070839e+04    1.000000\n",
       "  AMMIn                                               3.490251e-03  106.289064\n",
       "  AMMOut                                             -3.490251e-03 -107.181336\n",
       "  TOTAL NET                                           2.969175e-11   -0.892271,\n",
       "  ({'cid': '0x8d7ac7e77704f3ac75534d5500159a7a4b7e6e23dbdca7d9a8085bdea0348d0c',\n",
       "    'tknin': 'WBTC-C599',\n",
       "    'amtin': 0.0034902506695857483,\n",
       "    'tknout': 'USDC-eB48',\n",
       "    'amtout': -107.18133551627398,\n",
       "    'error': None},\n",
       "   {'cid': '4083388403051261561560495289181218537639-1',\n",
       "    'tknin': 'USDC-eB48',\n",
       "    'amtin': 106.28906442818698,\n",
       "    'tknout': 'WBTC-C599',\n",
       "    'amtout': -0.003490250639893999,\n",
       "    'error': None}),\n",
       "  'USDC-eB48',\n",
       "  (CPCArbOptimizer.TradeInstruction(cid='0x8d7ac7e77704f3ac75534d5500159a7a4b7e6e23dbdca7d9a8085bdea0348d0c', tknin='WBTC-C599', amtin=0.0034902506695857483, tknout='USDC-eB48', amtout=-107.18133551627398, error=None),\n",
       "   CPCArbOptimizer.TradeInstruction(cid='4083388403051261561560495289181218537639-1', tknin='USDC-eB48', amtin=106.28906442818698, tknout='WBTC-C599', amtout=-0.003490250639893999, error=None))),\n",
       " (2.029883172677649,\n",
       "                                                         WBTC-C599   USDC-eB48\n",
       "  0x49ed97db2c080b7eac91dfaa7d51d5e8ac34c4dcfbcd3...  3.305460e-03 -101.415370\n",
       "  4083388403051261561560495289181218537639-1         -3.305459e-03  100.616938\n",
       "  PRICE                                               3.068115e+04    1.000000\n",
       "  AMMIn                                               3.305460e-03  100.616938\n",
       "  AMMOut                                             -3.305459e-03 -101.415370\n",
       "  TOTAL NET                                           2.775021e-10   -0.798432,\n",
       "  ({'cid': '0x49ed97db2c080b7eac91dfaa7d51d5e8ac34c4dcfbcd3e8f2ed326a2a527b959',\n",
       "    'tknin': 'WBTC-C599',\n",
       "    'amtin': 0.003305459595139837,\n",
       "    'tknout': 'USDC-eB48',\n",
       "    'amtout': -101.41537019610405,\n",
       "    'error': None},\n",
       "   {'cid': '4083388403051261561560495289181218537639-1',\n",
       "    'tknin': 'USDC-eB48',\n",
       "    'amtin': 100.61693828648822,\n",
       "    'tknout': 'WBTC-C599',\n",
       "    'amtout': -0.0033054593176377045,\n",
       "    'error': None}),\n",
       "  'USDC-eB48',\n",
       "  (CPCArbOptimizer.TradeInstruction(cid='0x49ed97db2c080b7eac91dfaa7d51d5e8ac34c4dcfbcd3e8f2ed326a2a527b959', tknin='WBTC-C599', amtin=0.003305459595139837, tknout='USDC-eB48', amtout=-101.41537019610405, error=None),\n",
       "   CPCArbOptimizer.TradeInstruction(cid='4083388403051261561560495289181218537639-1', tknin='USDC-eB48', amtin=100.61693828648822, tknout='WBTC-C599', amtout=-0.0033054593176377045, error=None))),\n",
       " (0.04871620384787105,\n",
       "                                                         WBTC-C599  USDT-1ec7\n",
       "  0xae74d344dcbd233af25d4c0659168d3c47dd7f5ad39b7...  3.195184e-05  -0.980749\n",
       "  9527906273786276976974489008089509920820-1         -3.195191e-05   0.961477\n",
       "  PRICE                                               3.069461e+04   1.000000\n",
       "  AMMIn                                               3.195184e-05   0.961477\n",
       "  AMMOut                                             -3.195191e-05  -0.980749\n",
       "  TOTAL NET                                          -7.296793e-11  -0.019272,\n",
       "  ({'cid': '0xae74d344dcbd233af25d4c0659168d3c47dd7f5ad39b7cc07efada00d3b9424f',\n",
       "    'tknin': 'WBTC-C599',\n",
       "    'amtin': 3.195183785464906e-05,\n",
       "    'tknout': 'USDT-1ec7',\n",
       "    'amtout': -0.9807493388652802,\n",
       "    'error': None},\n",
       "   {'cid': '9527906273786276976974489008089509920820-1',\n",
       "    'tknin': 'USDT-1ec7',\n",
       "    'amtin': 0.9614770693249923,\n",
       "    'tknout': 'WBTC-C599',\n",
       "    'amtout': -3.1951910822578715e-05,\n",
       "    'error': None}),\n",
       "  'USDT-1ec7',\n",
       "  (CPCArbOptimizer.TradeInstruction(cid='0xae74d344dcbd233af25d4c0659168d3c47dd7f5ad39b7cc07efada00d3b9424f', tknin='WBTC-C599', amtin=3.195183785464906e-05, tknout='USDT-1ec7', amtout=-0.9807493388652802, error=None),\n",
       "   CPCArbOptimizer.TradeInstruction(cid='9527906273786276976974489008089509920820-1', tknin='USDT-1ec7', amtin=0.9614770693249923, tknout='WBTC-C599', amtout=-3.1951910822578715e-05, error=None))),\n",
       " (5.2069513783622305,\n",
       "                                                         rETH-6393  WETH-6Cc2\n",
       "  0x1eda42a2cced5e9cfffe1b15d7c39253514267401c5bd...  2.496827e-01  -0.268835\n",
       "  3062541302288446171170371466885913903202-0         -2.496828e-01   0.267743\n",
       "  PRICE                                               1.076708e+00   1.000000\n",
       "  AMMIn                                               2.496827e-01   0.267743\n",
       "  AMMOut                                             -2.496828e-01  -0.268835\n",
       "  TOTAL NET                                          -1.255436e-07  -0.001093,\n",
       "  ({'cid': '0x1eda42a2cced5e9cfffe1b15d7c39253514267401c5bd2e9ca28287f8a996fde',\n",
       "    'tknin': 'rETH-6393',\n",
       "    'amtin': 0.2496826641727239,\n",
       "    'tknout': 'WETH-6Cc2',\n",
       "    'amtout': -0.2688354607671499,\n",
       "    'error': None},\n",
       "   {'cid': '3062541302288446171170371466885913903202-0',\n",
       "    'tknin': 'WETH-6Cc2',\n",
       "    'amtin': 0.267742513570596,\n",
       "    'tknout': 'rETH-6393',\n",
       "    'amtout': -0.2496827897163172,\n",
       "    'error': None}),\n",
       "  'WETH-6Cc2',\n",
       "  (CPCArbOptimizer.TradeInstruction(cid='0x1eda42a2cced5e9cfffe1b15d7c39253514267401c5bd2e9ca28287f8a996fde', tknin='rETH-6393', amtin=0.2496826641727239, tknout='WETH-6Cc2', amtout=-0.2688354607671499, error=None),\n",
       "   CPCArbOptimizer.TradeInstruction(cid='3062541302288446171170371466885913903202-0', tknin='WETH-6Cc2', amtin=0.267742513570596, tknout='rETH-6393', amtout=-0.2496827897163172, error=None))),\n",
       " (0.1069864473965029,\n",
       "                                                         WETH-6Cc2  USDC-eB48\n",
       "  0x38a4847880387ca4a93a5d202263135d162f37adf6e46...  4.726980e-04  -0.892923\n",
       "  1701411834604692317316873037158841057409-1         -4.726894e-04   0.850841\n",
       "  PRICE                                               1.888992e+03   1.000000\n",
       "  AMMIn                                               4.726980e-04   0.850841\n",
       "  AMMOut                                             -4.726894e-04  -0.892923\n",
       "  TOTAL NET                                           8.623829e-09  -0.042082,\n",
       "  ({'cid': '0x38a4847880387ca4a93a5d202263135d162f37adf6e46b505f1f2117f4909a83',\n",
       "    'tknin': 'WETH-6Cc2',\n",
       "    'amtin': 0.0004726979823317379,\n",
       "    'tknout': 'USDC-eB48',\n",
       "    'amtout': -0.8929228186607361,\n",
       "    'error': None},\n",
       "   {'cid': '1701411834604692317316873037158841057409-1',\n",
       "    'tknin': 'USDC-eB48',\n",
       "    'amtin': 0.8508408926427364,\n",
       "    'tknout': 'WETH-6Cc2',\n",
       "    'amtout': -0.00047268935850297567,\n",
       "    'error': None}),\n",
       "  'USDC-eB48',\n",
       "  (CPCArbOptimizer.TradeInstruction(cid='0x38a4847880387ca4a93a5d202263135d162f37adf6e46b505f1f2117f4909a83', tknin='WETH-6Cc2', amtin=0.0004726979823317379, tknout='USDC-eB48', amtout=-0.8929228186607361, error=None),\n",
       "   CPCArbOptimizer.TradeInstruction(cid='1701411834604692317316873037158841057409-1', tknin='USDC-eB48', amtin=0.8508408926427364, tknout='WETH-6Cc2', amtout=-0.00047268935850297567, error=None))),\n",
       " (2.388371584685956,\n",
       "                                                         WETH-6Cc2   BNT-FF1C\n",
       "  0x748ab2bef0d97e5a044268626e6c9c104bab818605d44...  3.982725e-03 -18.974231\n",
       "  3743106036130323098097120681749450326076-0         -3.982725e-03  16.585860\n",
       "  PRICE                                               4.764127e+03   1.000000\n",
       "  AMMIn                                               3.982725e-03  16.585860\n",
       "  AMMOut                                             -3.982725e-03 -18.974231\n",
       "  TOTAL NET                                           2.757652e-10  -2.388372,\n",
       "  ({'cid': '0x748ab2bef0d97e5a044268626e6c9c104bab818605d44f650fdeaa03a3c742d2',\n",
       "    'tknin': 'WETH-6Cc2',\n",
       "    'amtin': 0.003982725150308397,\n",
       "    'tknout': 'BNT-FF1C',\n",
       "    'amtout': -18.97423131391406,\n",
       "    'error': None},\n",
       "   {'cid': '3743106036130323098097120681749450326076-0',\n",
       "    'tknin': 'BNT-FF1C',\n",
       "    'amtin': 16.585859729228105,\n",
       "    'tknout': 'WETH-6Cc2',\n",
       "    'amtout': -0.003982724874543209,\n",
       "    'error': None}),\n",
       "  'BNT-FF1C',\n",
       "  (CPCArbOptimizer.TradeInstruction(cid='0x748ab2bef0d97e5a044268626e6c9c104bab818605d44f650fdeaa03a3c742d2', tknin='WETH-6Cc2', amtin=0.003982725150308397, tknout='BNT-FF1C', amtout=-18.97423131391406, error=None),\n",
       "   CPCArbOptimizer.TradeInstruction(cid='3743106036130323098097120681749450326076-0', tknin='BNT-FF1C', amtin=16.585859729228105, tknout='WETH-6Cc2', amtout=-0.003982724874543209, error=None))),\n",
       " (0.25582965810174096,\n",
       "                                                      WBTC-C599     WETH-6Cc2\n",
       "  0x36445535fc762f6c53277a667500a41e31b51bec800e7...   0.008567 -1.393214e-01\n",
       "  9187623906865338513511114400657741709458-1          -0.008570  1.393214e-01\n",
       "  PRICE                                                1.000000  6.149119e-02\n",
       "  AMMIn                                                0.008567  1.393214e-01\n",
       "  AMMOut                                              -0.008570 -1.393214e-01\n",
       "  TOTAL NET                                           -0.000003 -1.285298e-08,\n",
       "  ({'cid': '0x36445535fc762f6c53277a667500a41e31b51bec800e76aab33dafab75da4eaa',\n",
       "    'tknin': 'WBTC-C599',\n",
       "    'amtin': 0.00856703440513229,\n",
       "    'tknout': 'WETH-6Cc2',\n",
       "    'amtout': -0.1393213690025732,\n",
       "    'error': None},\n",
       "   {'cid': '9187623906865338513511114400657741709458-1',\n",
       "    'tknin': 'WETH-6Cc2',\n",
       "    'amtin': 0.13932135614959407,\n",
       "    'tknout': 'WBTC-C599',\n",
       "    'amtout': -0.00857032808028535,\n",
       "    'error': None}),\n",
       "  'WBTC-C599',\n",
       "  (CPCArbOptimizer.TradeInstruction(cid='0x36445535fc762f6c53277a667500a41e31b51bec800e76aab33dafab75da4eaa', tknin='WBTC-C599', amtin=0.00856703440513229, tknout='WETH-6Cc2', amtout=-0.1393213690025732, error=None),\n",
       "   CPCArbOptimizer.TradeInstruction(cid='9187623906865338513511114400657741709458-1', tknin='WETH-6Cc2', amtin=0.13932135614959407, tknout='WBTC-C599', amtout=-0.00857032808028535, error=None))),\n",
       " (0.07102449342881922,\n",
       "                                                      USDT-1ec7     WETH-6Cc2\n",
       "  0x7c746d3518854384f7a73a6d2da821454319d305a2af4...   1.537699 -8.134291e-04\n",
       "  2722258935367507707706996859454145691868-0          -1.565796  8.133873e-04\n",
       "  PRICE                                                1.000000  1.890390e+03\n",
       "  AMMIn                                                1.537699  8.133873e-04\n",
       "  AMMOut                                              -1.565796 -8.134291e-04\n",
       "  TOTAL NET                                           -0.028097 -4.180585e-08,\n",
       "  ({'cid': '0x7c746d3518854384f7a73a6d2da821454319d305a2af4b7015bbf8734a394e49',\n",
       "    'tknin': 'USDT-1ec7',\n",
       "    'amtin': 1.53769850730896,\n",
       "    'tknout': 'WETH-6Cc2',\n",
       "    'amtout': -0.0008134291274473071,\n",
       "    'error': None},\n",
       "   {'cid': '2722258935367507707706996859454145691868-0',\n",
       "    'tknin': 'WETH-6Cc2',\n",
       "    'amtin': 0.0008133873215925291,\n",
       "    'tknout': 'USDT-1ec7',\n",
       "    'amtout': -1.5657959999953164,\n",
       "    'error': None}),\n",
       "  'USDT-1ec7',\n",
       "  (CPCArbOptimizer.TradeInstruction(cid='0x7c746d3518854384f7a73a6d2da821454319d305a2af4b7015bbf8734a394e49', tknin='USDT-1ec7', amtin=1.53769850730896, tknout='WETH-6Cc2', amtout=-0.0008134291274473071, error=None),\n",
       "   CPCArbOptimizer.TradeInstruction(cid='2722258935367507707706996859454145691868-0', tknin='WETH-6Cc2', amtin=0.0008133873215925291, tknout='USDT-1ec7', amtout=-1.5657959999953164, error=None))),\n",
       " (0.0738286487071196,\n",
       "                                                      USDT-1ec7     WETH-6Cc2\n",
       "  0x756d9e632902f414e914ddcb16b7388f3c405ff3bebb5...   1.536589 -8.133777e-04\n",
       "  2722258935367507707706996859454145691868-0          -1.565796  8.133873e-04\n",
       "  PRICE                                                1.000000  1.889146e+03\n",
       "  AMMIn                                                1.536589  8.133873e-04\n",
       "  AMMOut                                              -1.565796 -8.133777e-04\n",
       "  TOTAL NET                                           -0.029207  9.606062e-09,\n",
       "  ({'cid': '0x756d9e632902f414e914ddcb16b7388f3c405ff3bebb5f95e6d668813bd24802',\n",
       "    'tknin': 'USDT-1ec7',\n",
       "    'amtin': 1.5365891754627228,\n",
       "    'tknout': 'WETH-6Cc2',\n",
       "    'amtout': -0.0008133777155308053,\n",
       "    'error': None},\n",
       "   {'cid': '2722258935367507707706996859454145691868-0',\n",
       "    'tknin': 'WETH-6Cc2',\n",
       "    'amtin': 0.0008133873215925291,\n",
       "    'tknout': 'USDT-1ec7',\n",
       "    'amtout': -1.5657959999953164,\n",
       "    'error': None}),\n",
       "  'USDT-1ec7',\n",
       "  (CPCArbOptimizer.TradeInstruction(cid='0x756d9e632902f414e914ddcb16b7388f3c405ff3bebb5f95e6d668813bd24802', tknin='USDT-1ec7', amtin=1.5365891754627228, tknout='WETH-6Cc2', amtout=-0.0008133777155308053, error=None),\n",
       "   CPCArbOptimizer.TradeInstruction(cid='2722258935367507707706996859454145691868-0', tknin='WETH-6Cc2', amtin=0.0008133873215925291, tknout='USDT-1ec7', amtout=-1.5657959999953164, error=None))),\n",
       " (0.08907785800423376,\n",
       "                                                      USDT-1ec7     WETH-6Cc2\n",
       "  0xb14173c7c0fb596f249943c2c337df5bebe046b6ed98a...   1.530557 -8.133857e-04\n",
       "  2722258935367507707706996859454145691868-0          -1.565796  8.133873e-04\n",
       "  PRICE                                                1.000000  1.881711e+03\n",
       "  AMMIn                                                1.530557  8.133873e-04\n",
       "  AMMOut                                              -1.565796 -8.133857e-04\n",
       "  TOTAL NET                                           -0.035239  1.627974e-09,\n",
       "  ({'cid': '0xb14173c7c0fb596f249943c2c337df5bebe046b6ed98a8b7434c18270648a9dd',\n",
       "    'tknin': 'USDT-1ec7',\n",
       "    'amtin': 1.530556544661522,\n",
       "    'tknout': 'WETH-6Cc2',\n",
       "    'amtout': -0.0008133856936183292,\n",
       "    'error': None},\n",
       "   {'cid': '2722258935367507707706996859454145691868-0',\n",
       "    'tknin': 'WETH-6Cc2',\n",
       "    'amtin': 0.0008133873215925291,\n",
       "    'tknout': 'USDT-1ec7',\n",
       "    'amtout': -1.5657959999953164,\n",
       "    'error': None}),\n",
       "  'USDT-1ec7',\n",
       "  (CPCArbOptimizer.TradeInstruction(cid='0xb14173c7c0fb596f249943c2c337df5bebe046b6ed98a8b7434c18270648a9dd', tknin='USDT-1ec7', amtin=1.530556544661522, tknout='WETH-6Cc2', amtout=-0.0008133856936183292, error=None),\n",
       "   CPCArbOptimizer.TradeInstruction(cid='2722258935367507707706996859454145691868-0', tknin='WETH-6Cc2', amtin=0.0008133873215925291, tknout='USDT-1ec7', amtout=-1.5657959999953164, error=None))),\n",
       " (0.13392938574043195,\n",
       "                                                      LINK-86CA  WETH-6Cc2\n",
       "  0xb09fc461328afbc93753852a60579f5b77b43400b46f8...   0.339626  -0.001125\n",
       "  20416942015256307807802476445906092687540-1         -0.339628   0.001097\n",
       "  PRICE                                                0.003313   1.000000\n",
       "  AMMIn                                                0.339626   0.001097\n",
       "  AMMOut                                              -0.339628  -0.001125\n",
       "  TOTAL NET                                           -0.000003  -0.000028,\n",
       "  ({'cid': '0xb09fc461328afbc93753852a60579f5b77b43400b46f862430d98db0eb3de97e',\n",
       "    'tknin': 'LINK-86CA',\n",
       "    'amtin': 0.33962561190128326,\n",
       "    'tknout': 'WETH-6Cc2',\n",
       "    'amtout': -0.0011251117248320952,\n",
       "    'error': None},\n",
       "   {'cid': '20416942015256307807802476445906092687540-1',\n",
       "    'tknin': 'WETH-6Cc2',\n",
       "    'amtin': 0.0010969997383654118,\n",
       "    'tknout': 'LINK-86CA',\n",
       "    'amtout': -0.3396284580230713,\n",
       "    'error': None}),\n",
       "  'WETH-6Cc2',\n",
       "  (CPCArbOptimizer.TradeInstruction(cid='0xb09fc461328afbc93753852a60579f5b77b43400b46f862430d98db0eb3de97e', tknin='LINK-86CA', amtin=0.33962561190128326, tknout='WETH-6Cc2', amtout=-0.0011251117248320952, error=None),\n",
       "   CPCArbOptimizer.TradeInstruction(cid='20416942015256307807802476445906092687540-1', tknin='WETH-6Cc2', amtin=0.0010969997383654118, tknout='LINK-86CA', amtout=-0.3396284580230713, error=None))),\n",
       " (0.02237647225678301,\n",
       "                                                      USDT-1ec7     LINK-86CA\n",
       "  0xd16316f4a13adf79a9a789e43c8d66baddb7beb53f17b...   0.099713 -1.608768e-02\n",
       "  4763953136893138488487244504044754960514-0          -0.108565  1.608768e-02\n",
       "  PRICE                                                1.000000  6.198117e+00\n",
       "  AMMIn                                                0.099713  1.608768e-02\n",
       "  AMMOut                                              -0.108565 -1.608768e-02\n",
       "  TOTAL NET                                           -0.008852  6.928986e-10,\n",
       "  ({'cid': '0xd16316f4a13adf79a9a789e43c8d66baddb7beb53f17be1ded15f267e3c32971',\n",
       "    'tknin': 'USDT-1ec7',\n",
       "    'amtin': 0.09971280359241064,\n",
       "    'tknout': 'LINK-86CA',\n",
       "    'amtout': -0.016087675790913636,\n",
       "    'error': None},\n",
       "   {'cid': '4763953136893138488487244504044754960514-0',\n",
       "    'tknin': 'LINK-86CA',\n",
       "    'amtin': 0.016087676483812263,\n",
       "    'tknout': 'USDT-1ec7',\n",
       "    'amtout': -0.10856499999999958,\n",
       "    'error': None}),\n",
       "  'USDT-1ec7',\n",
       "  (CPCArbOptimizer.TradeInstruction(cid='0xd16316f4a13adf79a9a789e43c8d66baddb7beb53f17be1ded15f267e3c32971', tknin='USDT-1ec7', amtin=0.09971280359241064, tknout='LINK-86CA', amtout=-0.016087675790913636, error=None),\n",
       "   CPCArbOptimizer.TradeInstruction(cid='4763953136893138488487244504044754960514-0', tknin='LINK-86CA', amtin=0.016087676483812263, tknout='USDT-1ec7', amtout=-0.10856499999999958, error=None))),\n",
       " (0.4848860303265748,\n",
       "                                                      USDC-eB48      CRV-cd52\n",
       "  0x71d367320e6ef3e9cf800f5cae020980d53f3acffee82...   1.416407 -1.785706e+00\n",
       "  12250165209153784684681485867543655612490-0         -1.607132  1.785706e+00\n",
       "  PRICE                                                1.000000  7.931937e-01\n",
       "  AMMIn                                                1.416407  1.785706e+00\n",
       "  AMMOut                                              -1.607132 -1.785706e+00\n",
       "  TOTAL NET                                           -0.190725 -2.584420e-08,\n",
       "  ({'cid': '0x71d367320e6ef3e9cf800f5cae020980d53f3acffee82b2c2a17512653ec92a7',\n",
       "    'tknin': 'USDC-eB48',\n",
       "    'amtin': 1.4164074452128261,\n",
       "    'tknout': 'CRV-cd52',\n",
       "    'amtout': -1.7857055922504514,\n",
       "    'error': None},\n",
       "   {'cid': '12250165209153784684681485867543655612490-0',\n",
       "    'tknin': 'CRV-cd52',\n",
       "    'amtin': 1.78570556640625,\n",
       "    'tknout': 'USDC-eB48',\n",
       "    'amtout': -1.6071319580078125,\n",
       "    'error': None}),\n",
       "  'USDC-eB48',\n",
       "  (CPCArbOptimizer.TradeInstruction(cid='0x71d367320e6ef3e9cf800f5cae020980d53f3acffee82b2c2a17512653ec92a7', tknin='USDC-eB48', amtin=1.4164074452128261, tknout='CRV-cd52', amtout=-1.7857055922504514, error=None),\n",
       "   CPCArbOptimizer.TradeInstruction(cid='12250165209153784684681485867543655612490-0', tknin='CRV-cd52', amtin=1.78570556640625, tknout='USDC-eB48', amtout=-1.6071319580078125, error=None))),\n",
       " (0.10595749642993131,\n",
       "                                                      WETH-6Cc2  USDC-eB48\n",
       "  0x38a4847880387ca4a93a5d202263135d162f37adf6e46...   0.000450  -0.850894\n",
       "  1701411834604692317316873037158841057409-1          -0.000473   0.850841\n",
       "  PRICE                                                1.000000   0.000529\n",
       "  AMMIn                                                0.000450   0.850841\n",
       "  AMMOut                                              -0.000473  -0.850894\n",
       "  TOTAL NET                                           -0.000022  -0.000053,\n",
       "  ({'cid': '0x38a4847880387ca4a93a5d202263135d162f37adf6e46b505f1f2117f4909a83',\n",
       "    'tknin': 'WETH-6Cc2',\n",
       "    'amtin': 0.00045044871512800455,\n",
       "    'tknout': 'USDC-eB48',\n",
       "    'amtout': -0.8508940935134888,\n",
       "    'error': None},\n",
       "   {'cid': '1701411834604692317316873037158841057409-1',\n",
       "    'tknin': 'USDC-eB48',\n",
       "    'amtin': 0.8508408926427364,\n",
       "    'tknout': 'WETH-6Cc2',\n",
       "    'amtout': -0.00047268935850297567,\n",
       "    'error': None}),\n",
       "  'WETH-6Cc2',\n",
       "  (CPCArbOptimizer.TradeInstruction(cid='0x38a4847880387ca4a93a5d202263135d162f37adf6e46b505f1f2117f4909a83', tknin='WETH-6Cc2', amtin=0.00045044871512800455, tknout='USDC-eB48', amtout=-0.8508940935134888, error=None),\n",
       "   CPCArbOptimizer.TradeInstruction(cid='1701411834604692317316873037158841057409-1', tknin='USDC-eB48', amtin=0.8508408926427364, tknout='WETH-6Cc2', amtout=-0.00047268935850297567, error=None))),\n",
       " (0.025301413144916296,\n",
       "                                                      BNT-FF1C     USDC-eB48\n",
       "  0xc4771395e1389e2e3a12ec22efbb7aff5b1c04e5ce9c7...  2.955745 -1.162608e+00\n",
       "  2381976568446569244243622252022377480332-1         -2.981047  1.162608e+00\n",
       "  PRICE                                               1.000000  2.542343e+00\n",
       "  AMMIn                                               2.955745  1.162608e+00\n",
       "  AMMOut                                             -2.981047 -1.162608e+00\n",
       "  TOTAL NET                                          -0.025301 -3.050081e-08,\n",
       "  ({'cid': '0xc4771395e1389e2e3a12ec22efbb7aff5b1c04e5ce9c7596a82e9dc8fdec725b',\n",
       "    'tknin': 'BNT-FF1C',\n",
       "    'amtin': 2.9557452630251646,\n",
       "    'tknout': 'USDC-eB48',\n",
       "    'amtout': -1.1626081771682948,\n",
       "    'error': None},\n",
       "   {'cid': '2381976568446569244243622252022377480332-1',\n",
       "    'tknin': 'USDC-eB48',\n",
       "    'amtin': 1.1626081466674805,\n",
       "    'tknout': 'BNT-FF1C',\n",
       "    'amtout': -2.981046676635742,\n",
       "    'error': None}),\n",
       "  'BNT-FF1C',\n",
       "  (CPCArbOptimizer.TradeInstruction(cid='0xc4771395e1389e2e3a12ec22efbb7aff5b1c04e5ce9c7596a82e9dc8fdec725b', tknin='BNT-FF1C', amtin=2.9557452630251646, tknout='USDC-eB48', amtout=-1.1626081771682948, error=None),\n",
       "   CPCArbOptimizer.TradeInstruction(cid='2381976568446569244243622252022377480332-1', tknin='USDC-eB48', amtin=1.1626081466674805, tknout='BNT-FF1C', amtout=-2.981046676635742, error=None))),\n",
       " (2.2568842142104284,\n",
       "                                                      WBTC-C599     USDC-eB48\n",
       "  0x8d7ac7e77704f3ac75534d5500159a7a4b7e6e23dbdca...   0.003461 -1.062904e+02\n",
       "  4083388403051261561560495289181218537639-1          -0.003490  1.062904e+02\n",
       "  PRICE                                                1.000000  3.256439e-05\n",
       "  AMMIn                                                0.003461  1.062904e+02\n",
       "  AMMOut                                              -0.003490 -1.062904e+02\n",
       "  TOTAL NET                                           -0.000029 -3.789792e-07,\n",
       "  ({'cid': '0x8d7ac7e77704f3ac75534d5500159a7a4b7e6e23dbdca7d9a8085bdea0348d0c',\n",
       "    'tknin': 'WBTC-C599',\n",
       "    'amtin': 0.0034612386513686033,\n",
       "    'tknout': 'USDC-eB48',\n",
       "    'amtout': -106.29042315855622,\n",
       "    'error': None},\n",
       "   {'cid': '4083388403051261561560495289181218537639-1',\n",
       "    'tknin': 'USDC-eB48',\n",
       "    'amtin': 106.29042277957706,\n",
       "    'tknout': 'WBTC-C599',\n",
       "    'amtout': -0.003490294873779609,\n",
       "    'error': None}),\n",
       "  'WBTC-C599',\n",
       "  (CPCArbOptimizer.TradeInstruction(cid='0x8d7ac7e77704f3ac75534d5500159a7a4b7e6e23dbdca7d9a8085bdea0348d0c', tknin='WBTC-C599', amtin=0.0034612386513686033, tknout='USDC-eB48', amtout=-106.29042315855622, error=None),\n",
       "   CPCArbOptimizer.TradeInstruction(cid='4083388403051261561560495289181218537639-1', tknin='USDC-eB48', amtin=106.29042277957706, tknout='WBTC-C599', amtout=-0.003490294873779609, error=None))),\n",
       " (2.0212922701119322,\n",
       "                                                      WBTC-C599   USDC-eB48\n",
       "  0x49ed97db2c080b7eac91dfaa7d51d5e8ac34c4dcfbcd3...   0.003279 -100.617014\n",
       "  4083388403051261561560495289181218537639-1          -0.003305  100.617010\n",
       "  PRICE                                                1.000000    0.000033\n",
       "  AMMIn                                                0.003279  100.617010\n",
       "  AMMOut                                              -0.003305 -100.617014\n",
       "  TOTAL NET                                           -0.000026   -0.000005,\n",
       "  ({'cid': '0x49ed97db2c080b7eac91dfaa7d51d5e8ac34c4dcfbcd3e8f2ed326a2a527b959',\n",
       "    'tknin': 'WBTC-C599',\n",
       "    'amtin': 0.003279438541540003,\n",
       "    'tknout': 'USDC-eB48',\n",
       "    'amtout': -100.61701437830925,\n",
       "    'error': None},\n",
       "   {'cid': '4083388403051261561560495289181218537639-1',\n",
       "    'tknin': 'USDC-eB48',\n",
       "    'amtin': 100.61700950869636,\n",
       "    'tknout': 'WBTC-C599',\n",
       "    'amtout': -0.003305461639004692,\n",
       "    'error': None}),\n",
       "  'WBTC-C599',\n",
       "  (CPCArbOptimizer.TradeInstruction(cid='0x49ed97db2c080b7eac91dfaa7d51d5e8ac34c4dcfbcd3e8f2ed326a2a527b959', tknin='WBTC-C599', amtin=0.003279438541540003, tknout='USDC-eB48', amtout=-100.61701437830925, error=None),\n",
       "   CPCArbOptimizer.TradeInstruction(cid='4083388403051261561560495289181218537639-1', tknin='USDC-eB48', amtin=100.61700950869636, tknout='WBTC-C599', amtout=-0.003305461639004692, error=None))),\n",
       " (0.31616331194063846,\n",
       "                                                       USDC-eB48   USDT-1ec7\n",
       "  0xab545184db79ea540f8661f6a96cbef6b4b05a1853193...  354.370494 -354.377116\n",
       "  1020847100762815390390123822295304634391-1         -354.371026  354.252041\n",
       "  PRICE                                                 1.000019    1.000000\n",
       "  AMMIn                                               354.370494  354.252041\n",
       "  AMMOut                                             -354.371026 -354.377116\n",
       "  TOTAL NET                                            -0.000532   -0.125075,\n",
       "  ({'cid': '0xab545184db79ea540f8661f6a96cbef6b4b05a1853193c08c648c7ddf5be231a',\n",
       "    'tknin': 'USDC-eB48',\n",
       "    'amtin': 354.37049436569214,\n",
       "    'tknout': 'USDT-1ec7',\n",
       "    'amtout': -354.3771162033081,\n",
       "    'error': None},\n",
       "   {'cid': '1020847100762815390390123822295304634391-1',\n",
       "    'tknin': 'USDT-1ec7',\n",
       "    'amtin': 354.2520410930738,\n",
       "    'tknout': 'USDC-eB48',\n",
       "    'amtout': -354.3710262507666,\n",
       "    'error': None}),\n",
       "  'USDT-1ec7',\n",
       "  (CPCArbOptimizer.TradeInstruction(cid='0xab545184db79ea540f8661f6a96cbef6b4b05a1853193c08c648c7ddf5be231a', tknin='USDC-eB48', amtin=354.37049436569214, tknout='USDT-1ec7', amtout=-354.3771162033081, error=None),\n",
       "   CPCArbOptimizer.TradeInstruction(cid='1020847100762815390390123822295304634391-1', tknin='USDT-1ec7', amtin=354.2520410930738, tknout='USDC-eB48', amtout=-354.3710262507666, error=None))),\n",
       " (24.21153591079974,\n",
       "                                                         vBNT-7f94    BNT-FF1C\n",
       "  0xc4be7ee1e92f6eaebe2b6c46db7eb95e883dc9baa7691...  4.898388e+02 -243.864559\n",
       "  4423670769972200025023869896612986749191-1         -4.898388e+02  219.653023\n",
       "  PRICE                                               4.977218e-01    1.000000\n",
       "  AMMIn                                               4.898388e+02  219.653023\n",
       "  AMMOut                                             -4.898388e+02 -243.864559\n",
       "  TOTAL NET                                           3.202749e-07  -24.211536,\n",
       "  ({'cid': '0xc4be7ee1e92f6eaebe2b6c46db7eb95e883dc9baa76915812d9b50b83af82b26',\n",
       "    'tknin': 'vBNT-7f94',\n",
       "    'amtin': 489.8387701117899,\n",
       "    'tknout': 'BNT-FF1C',\n",
       "    'amtout': -243.8645590445958,\n",
       "    'error': None},\n",
       "   {'cid': '4423670769972200025023869896612986749191-1',\n",
       "    'tknin': 'BNT-FF1C',\n",
       "    'amtin': 219.65302313379607,\n",
       "    'tknout': 'vBNT-7f94',\n",
       "    'amtout': -489.838769791515,\n",
       "    'error': None}),\n",
       "  'BNT-FF1C',\n",
       "  (CPCArbOptimizer.TradeInstruction(cid='0xc4be7ee1e92f6eaebe2b6c46db7eb95e883dc9baa76915812d9b50b83af82b26', tknin='vBNT-7f94', amtin=489.8387701117899, tknout='BNT-FF1C', amtout=-243.8645590445958, error=None),\n",
       "   CPCArbOptimizer.TradeInstruction(cid='4423670769972200025023869896612986749191-1', tknin='BNT-FF1C', amtin=219.65302313379607, tknout='vBNT-7f94', amtout=-489.838769791515, error=None))),\n",
       " (0.07110605657783772,\n",
       "                                                      USDT-1ec7  WETH-6Cc2\n",
       "  0x7c746d3518854384f7a73a6d2da821454319d305a2af4...   1.565834  -0.000828\n",
       "  2722258935367507707706996859454145691868-0          -1.565796   0.000813\n",
       "  PRICE                                                0.000529   1.000000\n",
       "  AMMIn                                                1.565834   0.000813\n",
       "  AMMOut                                              -1.565796  -0.000828\n",
       "  TOTAL NET                                            0.000038  -0.000015,\n",
       "  ({'cid': '0x7c746d3518854384f7a73a6d2da821454319d305a2af4b7015bbf8734a394e49',\n",
       "    'tknin': 'USDT-1ec7',\n",
       "    'amtin': 1.5658340454101562,\n",
       "    'tknout': 'WETH-6Cc2',\n",
       "    'amtout': -0.0008283125935122371,\n",
       "    'error': None},\n",
       "   {'cid': '2722258935367507707706996859454145691868-0',\n",
       "    'tknin': 'WETH-6Cc2',\n",
       "    'amtin': 0.0008133873215925291,\n",
       "    'tknout': 'USDT-1ec7',\n",
       "    'amtout': -1.5657959999953164,\n",
       "    'error': None}),\n",
       "  'WETH-6Cc2',\n",
       "  (CPCArbOptimizer.TradeInstruction(cid='0x7c746d3518854384f7a73a6d2da821454319d305a2af4b7015bbf8734a394e49', tknin='USDT-1ec7', amtin=1.5658340454101562, tknout='WETH-6Cc2', amtout=-0.0008283125935122371, error=None),\n",
       "   CPCArbOptimizer.TradeInstruction(cid='2722258935367507707706996859454145691868-0', tknin='WETH-6Cc2', amtin=0.0008133873215925291, tknout='USDT-1ec7', amtout=-1.5657959999953164, error=None))),\n",
       " (0.07355414338687953,\n",
       "                                                      USDT-1ec7  WETH-6Cc2\n",
       "  0x756d9e632902f414e914ddcb16b7388f3c405ff3bebb5...   1.565774  -0.000829\n",
       "  2722258935367507707706996859454145691868-0          -1.565796   0.000813\n",
       "  PRICE                                                0.000529   1.000000\n",
       "  AMMIn                                                1.565774   0.000813\n",
       "  AMMOut                                              -1.565796  -0.000829\n",
       "  TOTAL NET                                           -0.000022  -0.000015,\n",
       "  ({'cid': '0x756d9e632902f414e914ddcb16b7388f3c405ff3bebb5f95e6d668813bd24802',\n",
       "    'tknin': 'USDT-1ec7',\n",
       "    'amtin': 1.5657741129398346,\n",
       "    'tknout': 'WETH-6Cc2',\n",
       "    'amtout': -0.0008288264652946964,\n",
       "    'error': None},\n",
       "   {'cid': '2722258935367507707706996859454145691868-0',\n",
       "    'tknin': 'WETH-6Cc2',\n",
       "    'amtin': 0.0008133873215925291,\n",
       "    'tknout': 'USDT-1ec7',\n",
       "    'amtout': -1.5657959999953164,\n",
       "    'error': None}),\n",
       "  'WETH-6Cc2',\n",
       "  (CPCArbOptimizer.TradeInstruction(cid='0x756d9e632902f414e914ddcb16b7388f3c405ff3bebb5f95e6d668813bd24802', tknin='USDT-1ec7', amtin=1.5657741129398346, tknout='WETH-6Cc2', amtout=-0.0008288264652946964, error=None),\n",
       "   CPCArbOptimizer.TradeInstruction(cid='2722258935367507707706996859454145691868-0', tknin='WETH-6Cc2', amtin=0.0008133873215925291, tknout='USDT-1ec7', amtout=-1.5657959999953164, error=None))),\n",
       " (0.08921153106198622,\n",
       "                                                         USDT-1ec7  WETH-6Cc2\n",
       "  0xb14173c7c0fb596f249943c2c337df5bebe046b6ed98a...  1.565796e+00  -0.000832\n",
       "  2722258935367507707706996859454145691868-0         -1.565796e+00   0.000813\n",
       "  PRICE                                               5.314313e-04   1.000000\n",
       "  AMMIn                                               1.565796e+00   0.000813\n",
       "  AMMOut                                             -1.565796e+00  -0.000832\n",
       "  TOTAL NET                                          -1.611625e-07  -0.000019,\n",
       "  ({'cid': '0xb14173c7c0fb596f249943c2c337df5bebe046b6ed98a8b7434c18270648a9dd',\n",
       "    'tknin': 'USDT-1ec7',\n",
       "    'amtin': 1.5657958388328552,\n",
       "    'tknout': 'WETH-6Cc2',\n",
       "    'amtout': -0.0008321129607793409,\n",
       "    'error': None},\n",
       "   {'cid': '2722258935367507707706996859454145691868-0',\n",
       "    'tknin': 'WETH-6Cc2',\n",
       "    'amtin': 0.0008133873215925291,\n",
       "    'tknout': 'USDT-1ec7',\n",
       "    'amtout': -1.5657959999953164,\n",
       "    'error': None}),\n",
       "  'WETH-6Cc2',\n",
       "  (CPCArbOptimizer.TradeInstruction(cid='0xb14173c7c0fb596f249943c2c337df5bebe046b6ed98a8b7434c18270648a9dd', tknin='USDT-1ec7', amtin=1.5657958388328552, tknout='WETH-6Cc2', amtout=-0.0008321129607793409, error=None),\n",
       "   CPCArbOptimizer.TradeInstruction(cid='2722258935367507707706996859454145691868-0', tknin='WETH-6Cc2', amtin=0.0008133873215925291, tknout='USDT-1ec7', amtout=-1.5657959999953164, error=None))),\n",
       " (0.04875080410253566,\n",
       "                                                         WBTC-C599  USDT-1ec7\n",
       "  0xae74d344dcbd233af25d4c0659168d3c47dd7f5ad39b7...  3.132427e-05  -0.961486\n",
       "  9527906273786276976974489008089509920820-1         -3.195191e-05   0.961477\n",
       "  PRICE                                               1.000000e+00   0.000033\n",
       "  AMMIn                                               3.132427e-05   0.961477\n",
       "  AMMOut                                             -3.195191e-05  -0.961486\n",
       "  TOTAL NET                                          -6.276415e-07  -0.000009,\n",
       "  ({'cid': '0xae74d344dcbd233af25d4c0659168d3c47dd7f5ad39b7cc07efada00d3b9424f',\n",
       "    'tknin': 'WBTC-C599',\n",
       "    'amtin': 3.132426991214743e-05,\n",
       "    'tknout': 'USDT-1ec7',\n",
       "    'amtout': -0.9614863842725754,\n",
       "    'error': None},\n",
       "   {'cid': '9527906273786276976974489008089509920820-1',\n",
       "    'tknin': 'USDT-1ec7',\n",
       "    'amtin': 0.9614770876385919,\n",
       "    'tknout': 'WBTC-C599',\n",
       "    'amtout': -3.1951911419217556e-05,\n",
       "    'error': None}),\n",
       "  'WBTC-C599',\n",
       "  (CPCArbOptimizer.TradeInstruction(cid='0xae74d344dcbd233af25d4c0659168d3c47dd7f5ad39b7cc07efada00d3b9424f', tknin='WBTC-C599', amtin=3.132426991214743e-05, tknout='USDT-1ec7', amtout=-0.9614863842725754, error=None),\n",
       "   CPCArbOptimizer.TradeInstruction(cid='9527906273786276976974489008089509920820-1', tknin='USDT-1ec7', amtin=0.9614770876385919, tknout='WBTC-C599', amtout=-3.1951911419217556e-05, error=None))),\n",
       " (2.388374367497389,\n",
       "                                                      WETH-6Cc2      BNT-FF1C\n",
       "  0x748ab2bef0d97e5a044268626e6c9c104bab818605d44...   0.003481 -1.658586e+01\n",
       "  3743106036130323098097120681749450326076-0          -0.003983  1.658586e+01\n",
       "  PRICE                                                1.000000  2.099020e-04\n",
       "  AMMIn                                                0.003481  1.658586e+01\n",
       "  AMMOut                                              -0.003983 -1.658586e+01\n",
       "  TOTAL NET                                           -0.000501 -9.329342e-07,\n",
       "  ({'cid': '0x748ab2bef0d97e5a044268626e6c9c104bab818605d44f650fdeaa03a3c742d2',\n",
       "    'tknin': 'WETH-6Cc2',\n",
       "    'amtin': 0.0034814013783943665,\n",
       "    'tknout': 'BNT-FF1C',\n",
       "    'amtout': -16.585860662162304,\n",
       "    'error': None},\n",
       "   {'cid': '3743106036130323098097120681749450326076-0',\n",
       "    'tknin': 'BNT-FF1C',\n",
       "    'amtin': 16.585859729228105,\n",
       "    'tknout': 'WETH-6Cc2',\n",
       "    'amtout': -0.003982724874543209,\n",
       "    'error': None}),\n",
       "  'WETH-6Cc2',\n",
       "  (CPCArbOptimizer.TradeInstruction(cid='0x748ab2bef0d97e5a044268626e6c9c104bab818605d44f650fdeaa03a3c742d2', tknin='WETH-6Cc2', amtin=0.0034814013783943665, tknout='BNT-FF1C', amtout=-16.585860662162304, error=None),\n",
       "   CPCArbOptimizer.TradeInstruction(cid='3743106036130323098097120681749450326076-0', tknin='BNT-FF1C', amtin=16.585859729228105, tknout='WETH-6Cc2', amtout=-0.003982724874543209, error=None))),\n",
       " (0.02530124572225114,\n",
       "                                                          BNT-FF1C  USDC-eB48\n",
       "  0xc4771395e1389e2e3a12ec22efbb7aff5b1c04e5ce9c7...  2.981046e+00  -1.172560\n",
       "  2381976568446569244243622252022377480332-1         -2.981047e+00   1.162608\n",
       "  PRICE                                               3.933380e-01   1.000000\n",
       "  AMMIn                                               2.981046e+00   1.162608\n",
       "  AMMOut                                             -2.981047e+00  -1.172560\n",
       "  TOTAL NET                                          -1.909211e-07  -0.009952,\n",
       "  ({'cid': '0xc4771395e1389e2e3a12ec22efbb7aff5b1c04e5ce9c7596a82e9dc8fdec725b',\n",
       "    'tknin': 'BNT-FF1C',\n",
       "    'amtin': 2.9810464857146144,\n",
       "    'tknout': 'USDC-eB48',\n",
       "    'amtout': -1.1725601095240563,\n",
       "    'error': None},\n",
       "   {'cid': '2381976568446569244243622252022377480332-1',\n",
       "    'tknin': 'USDC-eB48',\n",
       "    'amtin': 1.1626081466674805,\n",
       "    'tknout': 'BNT-FF1C',\n",
       "    'amtout': -2.981046676635742,\n",
       "    'error': None}),\n",
       "  'USDC-eB48',\n",
       "  (CPCArbOptimizer.TradeInstruction(cid='0xc4771395e1389e2e3a12ec22efbb7aff5b1c04e5ce9c7596a82e9dc8fdec725b', tknin='BNT-FF1C', amtin=2.9810464857146144, tknout='USDC-eB48', amtout=-1.1725601095240563, error=None),\n",
       "   CPCArbOptimizer.TradeInstruction(cid='2381976568446569244243622252022377480332-1', tknin='USDC-eB48', amtin=1.1626081466674805, tknout='BNT-FF1C', amtout=-2.981046676635742, error=None)))]"
      ]
     },
     "execution_count": 7,
     "metadata": {},
     "output_type": "execute_result"
    }
   ],
   "source": [
    "r"
   ]
  },
  {
   "cell_type": "markdown",
   "id": "d4c12c4b",
   "metadata": {},
   "source": [
    "## Test_no_multi_carbon"
   ]
  },
  {
   "cell_type": "code",
   "execution_count": 8,
   "id": "c4f92d83",
   "metadata": {
    "ExecuteTime": {
     "end_time": "2023-09-18T18:19:11.961703Z",
     "start_time": "2023-09-18T18:18:56.190922Z"
    }
   },
   "outputs": [
    {
     "data": {
      "application/vnd.jupyter.widget-view+json": {
       "model_id": "c37a4962c37c4ca7a4f67278465b615c",
       "version_major": 2,
       "version_minor": 0
      },
      "text/plain": [
       "0it [00:00, ?it/s]"
      ]
     },
     "metadata": {},
     "output_type": "display_data"
    },
    {
     "data": {
      "application/vnd.jupyter.widget-view+json": {
       "model_id": "7f552a0f3b1a446aa6480c12c6c7f57b",
       "version_major": 2,
       "version_minor": 0
      },
      "text/plain": [
       "0it [00:00, ?it/s]"
      ]
     },
     "metadata": {},
     "output_type": "display_data"
    },
    {
     "data": {
      "application/vnd.jupyter.widget-view+json": {
       "model_id": "39706a639cac46cb851008479577e3ba",
       "version_major": 2,
       "version_minor": 0
      },
      "text/plain": [
       "0it [00:00, ?it/s]"
      ]
     },
     "metadata": {},
     "output_type": "display_data"
    },
    {
     "data": {
      "application/vnd.jupyter.widget-view+json": {
       "model_id": "593e0f4c692f4cf7aba3630323d7bc59",
       "version_major": 2,
       "version_minor": 0
      },
      "text/plain": [
       "0it [00:00, ?it/s]"
      ]
     },
     "metadata": {},
     "output_type": "display_data"
    },
    {
     "data": {
      "application/vnd.jupyter.widget-view+json": {
       "model_id": "88dff8f9a0df43958f0bb67f7ff7988c",
       "version_major": 2,
       "version_minor": 0
      },
      "text/plain": [
       "0it [00:00, ?it/s]"
      ]
     },
     "metadata": {},
     "output_type": "display_data"
    },
    {
     "data": {
      "application/vnd.jupyter.widget-view+json": {
       "model_id": "0434f5ed419f47eaad33de393feddc4e",
       "version_major": 2,
       "version_minor": 0
      },
      "text/plain": [
       "0it [00:00, ?it/s]"
      ]
     },
     "metadata": {},
     "output_type": "display_data"
    },
    {
     "data": {
      "application/vnd.jupyter.widget-view+json": {
       "model_id": "6aeb2b6670d04d2c9111f11ab2f5a99f",
       "version_major": 2,
       "version_minor": 0
      },
      "text/plain": [
       "0it [00:00, ?it/s]"
      ]
     },
     "metadata": {},
     "output_type": "display_data"
    },
    {
     "data": {
      "application/vnd.jupyter.widget-view+json": {
       "model_id": "0b1b3e09649442379c644ac05db2b31c",
       "version_major": 2,
       "version_minor": 0
      },
      "text/plain": [
       "0it [00:00, ?it/s]"
      ]
     },
     "metadata": {},
     "output_type": "display_data"
    },
    {
     "data": {
      "application/vnd.jupyter.widget-view+json": {
       "model_id": "97311bc2a9bb4142a045b2297336c510",
       "version_major": 2,
       "version_minor": 0
      },
      "text/plain": [
       "0it [00:00, ?it/s]"
      ]
     },
     "metadata": {},
     "output_type": "display_data"
    },
    {
     "data": {
      "application/vnd.jupyter.widget-view+json": {
       "model_id": "400f14eb81284f689b28826bcda66331",
       "version_major": 2,
       "version_minor": 0
      },
      "text/plain": [
       "0it [00:00, ?it/s]"
      ]
     },
     "metadata": {},
     "output_type": "display_data"
    },
    {
     "data": {
      "application/vnd.jupyter.widget-view+json": {
       "model_id": "efb5a659860248de8013046f8bbd1f99",
       "version_major": 2,
       "version_minor": 0
      },
      "text/plain": [
       "  0%|          | 0/2 [00:00<?, ?it/s]"
      ]
     },
     "metadata": {},
     "output_type": "display_data"
    },
    {
     "name": "stdout",
     "output_type": "stream",
     "text": [
      "[PairOptimizer.optimize] curves_t wstETH-2Ca0/USDC-eB48\n",
      "[PairOptimizer.optimize] p_optimal OptimizerBase.SimpleResult(result=2132.8228517299513, method='bisection', errormsg=None, context_dct=None) full_result [ 1.12692078e-11 -2.40397640e-08]\n",
      "[PairOptimizer.optimize] curves_t wstETH-2Ca0/USDC-eB48\n",
      "[PairOptimizer.optimize] p_optimal OptimizerBase.SimpleResult(result=2132.8228517296384, method='bisection', errormsg=None, context_dct=None) full_result [ 1.99236183e-11 -4.24915925e-08]\n"
     ]
    },
    {
     "data": {
      "application/vnd.jupyter.widget-view+json": {
       "model_id": "e630186a2ad34f38808adb7e234eb27e",
       "version_major": 2,
       "version_minor": 0
      },
      "text/plain": [
       "0it [00:00, ?it/s]"
      ]
     },
     "metadata": {},
     "output_type": "display_data"
    },
    {
     "data": {
      "application/vnd.jupyter.widget-view+json": {
       "model_id": "76da094188af44c080a72350e0f2e6aa",
       "version_major": 2,
       "version_minor": 0
      },
      "text/plain": [
       "  0%|          | 0/2 [00:00<?, ?it/s]"
      ]
     },
     "metadata": {},
     "output_type": "display_data"
    },
    {
     "name": "stdout",
     "output_type": "stream",
     "text": [
      "[PairOptimizer.optimize] curves_t HEX-eb39/WETH-6Cc2\n",
      "[PairOptimizer.optimize] p_optimal OptimizerBase.SimpleResult(result=4.639072734871654e-06, method='bisection', errormsg=None, context_dct=None) full_result [ 6.18013860e-06 -1.40883161e-03]\n",
      "[PairOptimizer.optimize] curves_t HEX-eb39/WETH-6Cc2\n",
      "[PairOptimizer.optimize] p_optimal OptimizerBase.SimpleResult(result=4.617372379227854e-06, method='bisection', errormsg=None, context_dct=None) full_result [-3.09833574e-05 -1.42138817e-03]\n"
     ]
    },
    {
     "data": {
      "application/vnd.jupyter.widget-view+json": {
       "model_id": "5c8c7bb8e29c4de795a28765c1748856",
       "version_major": 2,
       "version_minor": 0
      },
      "text/plain": [
       "0it [00:00, ?it/s]"
      ]
     },
     "metadata": {},
     "output_type": "display_data"
    },
    {
     "data": {
      "application/vnd.jupyter.widget-view+json": {
       "model_id": "c21a3f31d4a5407fbdb27d66f8441ba3",
       "version_major": 2,
       "version_minor": 0
      },
      "text/plain": [
       "  0%|          | 0/2 [00:00<?, ?it/s]"
      ]
     },
     "metadata": {},
     "output_type": "display_data"
    },
    {
     "name": "stdout",
     "output_type": "stream",
     "text": [
      "[PairOptimizer.optimize] curves_t LYXe-be6D/WETH-6Cc2\n",
      "[PairOptimizer.optimize] p_optimal OptimizerBase.SimpleResult(result=0.004425455338543597, method='bisection', errormsg=None, context_dct=None) full_result [-6.97036739e-09  3.08659764e-11]\n",
      "[PairOptimizer.optimize] curves_t LYXe-be6D/WETH-6Cc2\n",
      "[PairOptimizer.optimize] p_optimal OptimizerBase.SimpleResult(result=0.004418792395805483, method='bisection', errormsg=None, context_dct=None) full_result [ 1.22963684e-09 -5.43565193e-12]\n"
     ]
    },
    {
     "data": {
      "application/vnd.jupyter.widget-view+json": {
       "model_id": "6017c85b76234f5a8fba899f3e06bda0",
       "version_major": 2,
       "version_minor": 0
      },
      "text/plain": [
       "0it [00:00, ?it/s]"
      ]
     },
     "metadata": {},
     "output_type": "display_data"
    },
    {
     "data": {
      "application/vnd.jupyter.widget-view+json": {
       "model_id": "73f7715c300c483c8967269f48258d3e",
       "version_major": 2,
       "version_minor": 0
      },
      "text/plain": [
       "  0%|          | 0/4 [00:00<?, ?it/s]"
      ]
     },
     "metadata": {},
     "output_type": "display_data"
    },
    {
     "name": "stdout",
     "output_type": "stream",
     "text": [
      "[PairOptimizer.optimize] curves_t agEUR-Bce8/USDC-eB48\n",
      "[PairOptimizer.optimize] p_optimal OptimizerBase.SimpleResult(result=1.1012586819934904, method='bisection', errormsg=None, context_dct=None) full_result [ 2.15768814e-05 -2.37524509e-05]\n",
      "[PairOptimizer.optimize] curves_t agEUR-Bce8/USDC-eB48\n",
      "[PairOptimizer.optimize] p_optimal OptimizerBase.SimpleResult(result=1.1012068414304432, method='bisection', errormsg=None, context_dct=None) full_result [-1.07367523e-05 -1.18744592e+01]\n",
      "[PairOptimizer.optimize] curves_t agEUR-Bce8/USDC-eB48\n",
      "[PairOptimizer.optimize] p_optimal OptimizerBase.SimpleResult(result=1.0977629060275782, method='bisection', errormsg=None, context_dct=None) full_result [ 1.81025825e-08 -1.99652277e-08]\n",
      "[PairOptimizer.optimize] curves_t agEUR-Bce8/USDC-eB48\n",
      "[PairOptimizer.optimize] p_optimal OptimizerBase.SimpleResult(result=1.0954248748364375, method='bisection', errormsg=None, context_dct=None) full_result [-5.43659553e-08 -2.33145547e-01]\n"
     ]
    },
    {
     "data": {
      "application/vnd.jupyter.widget-view+json": {
       "model_id": "1fc819338825432c8063a770418308b1",
       "version_major": 2,
       "version_minor": 0
      },
      "text/plain": [
       "0it [00:00, ?it/s]"
      ]
     },
     "metadata": {},
     "output_type": "display_data"
    },
    {
     "data": {
      "application/vnd.jupyter.widget-view+json": {
       "model_id": "0820da23b59041e4ac680300ab144411",
       "version_major": 2,
       "version_minor": 0
      },
      "text/plain": [
       "  0%|          | 0/6 [00:00<?, ?it/s]"
      ]
     },
     "metadata": {},
     "output_type": "display_data"
    },
    {
     "name": "stdout",
     "output_type": "stream",
     "text": [
      "[PairOptimizer.optimize] curves_t SNX-2a6F/WETH-6Cc2\n",
      "[PairOptimizer.optimize] p_optimal OptimizerBase.SimpleResult(result=0.0010930027716636022, method='bisection', errormsg=None, context_dct=None) full_result [ 1.28871761e-07 -1.40971679e-10]\n",
      "[PairOptimizer.optimize] curves_t SNX-2a6F/WETH-6Cc2\n",
      "[PairOptimizer.optimize] p_optimal OptimizerBase.SimpleResult(result=0.0010930027716642321, method='bisection', errormsg=None, context_dct=None) full_result [-1.18860044e-07  1.29830369e-10]\n",
      "[PairOptimizer.optimize] curves_t SNX-2a6F/WETH-6Cc2\n",
      "[PairOptimizer.optimize] p_optimal OptimizerBase.SimpleResult(result=0.0010827174870951528, method='bisection', errormsg=None, context_dct=None) full_result [-6.58474164e-10  7.14095449e-13]\n",
      "[PairOptimizer.optimize] curves_t SNX-2a6F/WETH-6Cc2\n",
      "[PairOptimizer.optimize] p_optimal OptimizerBase.SimpleResult(result=0.0010827174870951424, method='bisection', errormsg=None, context_dct=None) full_result [-6.32098818e-10  6.84785562e-13]\n",
      "[PairOptimizer.optimize] curves_t SNX-2a6F/WETH-6Cc2\n",
      "[PairOptimizer.optimize] p_optimal OptimizerBase.SimpleResult(result=0.0010940339696130523, method='bisection', errormsg=None, context_dct=None) full_result [-1.79861672e-08  1.96678229e-11]\n",
      "[PairOptimizer.optimize] curves_t SNX-2a6F/WETH-6Cc2\n",
      "[PairOptimizer.optimize] p_optimal OptimizerBase.SimpleResult(result=0.0010940339696125217, method='bisection', errormsg=None, context_dct=None) full_result [ 5.73345460e-09 -6.28119778e-12]\n"
     ]
    },
    {
     "data": {
      "application/vnd.jupyter.widget-view+json": {
       "model_id": "003953e8b2494e3bbd8127ae5ea16abf",
       "version_major": 2,
       "version_minor": 0
      },
      "text/plain": [
       "0it [00:00, ?it/s]"
      ]
     },
     "metadata": {},
     "output_type": "display_data"
    },
    {
     "data": {
      "application/vnd.jupyter.widget-view+json": {
       "model_id": "c0531f1129864e3aa124ee907bd1458b",
       "version_major": 2,
       "version_minor": 0
      },
      "text/plain": [
       "0it [00:00, ?it/s]"
      ]
     },
     "metadata": {},
     "output_type": "display_data"
    },
    {
     "data": {
      "application/vnd.jupyter.widget-view+json": {
       "model_id": "130b376d560f48eebc4c3c9445a02e96",
       "version_major": 2,
       "version_minor": 0
      },
      "text/plain": [
       "0it [00:00, ?it/s]"
      ]
     },
     "metadata": {},
     "output_type": "display_data"
    },
    {
     "data": {
      "application/vnd.jupyter.widget-view+json": {
       "model_id": "fe839479e14f4f729b98badf27f56099",
       "version_major": 2,
       "version_minor": 0
      },
      "text/plain": [
       "0it [00:00, ?it/s]"
      ]
     },
     "metadata": {},
     "output_type": "display_data"
    },
    {
     "data": {
      "application/vnd.jupyter.widget-view+json": {
       "model_id": "3d35e8fa6e654e629ee02d22f926928d",
       "version_major": 2,
       "version_minor": 0
      },
      "text/plain": [
       "0it [00:00, ?it/s]"
      ]
     },
     "metadata": {},
     "output_type": "display_data"
    },
    {
     "data": {
      "application/vnd.jupyter.widget-view+json": {
       "model_id": "e21c11290420439f9aa5f2f660928589",
       "version_major": 2,
       "version_minor": 0
      },
      "text/plain": [
       "  0%|          | 0/2 [00:00<?, ?it/s]"
      ]
     },
     "metadata": {},
     "output_type": "display_data"
    },
    {
     "name": "stdout",
     "output_type": "stream",
     "text": [
      "[PairOptimizer.optimize] curves_t SGT-EcDD/WETH-6Cc2\n",
      "[PairOptimizer.optimize] p_optimal OptimizerBase.SimpleResult(result=0.00022209613284442402, method='bisection', errormsg=None, context_dct=None) full_result [ 4.06289473e-08 -9.00968189e-12]\n",
      "[PairOptimizer.optimize] curves_t SGT-EcDD/WETH-6Cc2\n",
      "[PairOptimizer.optimize] p_optimal OptimizerBase.SimpleResult(result=0.00021922396426222578, method='bisection', errormsg=None, context_dct=None) full_result [ 1.04773790e-09 -2.30926389e-13]\n"
     ]
    },
    {
     "data": {
      "application/vnd.jupyter.widget-view+json": {
       "model_id": "378df5438a364cb2992a693346d31e24",
       "version_major": 2,
       "version_minor": 0
      },
      "text/plain": [
       "  0%|          | 0/16 [00:00<?, ?it/s]"
      ]
     },
     "metadata": {},
     "output_type": "display_data"
    },
    {
     "name": "stdout",
     "output_type": "stream",
     "text": [
      "[PairOptimizer.optimize] curves_t WBTC-C599/WETH-6Cc2\n",
      "[PairOptimizer.optimize] p_optimal OptimizerBase.SimpleResult(result=16.25127735725492, method='bisection', errormsg=None, context_dct=None) full_result [-2.74303602e-09  4.45870683e-08]\n",
      "[PairOptimizer.optimize] curves_t WBTC-C599/WETH-6Cc2\n",
      "[PairOptimizer.optimize] p_optimal OptimizerBase.SimpleResult(result=16.251277357233576, method='bisection', errormsg=None, context_dct=None) full_result [-1.81454762e-09  2.64954920e-08]\n",
      "[PairOptimizer.optimize] curves_t WBTC-C599/WETH-6Cc2\n",
      "[PairOptimizer.optimize] p_optimal OptimizerBase.SimpleResult(result=16.25127735724241, method='bisection', errormsg=None, context_dct=None) full_result [ 3.66344466e-09 -5.94882295e-08]\n",
      "[PairOptimizer.optimize] curves_t WBTC-C599/WETH-6Cc2\n",
      "[PairOptimizer.optimize] p_optimal OptimizerBase.SimpleResult(result=16.25127735725219, method='bisection', errormsg=None, context_dct=None) full_result [-1.34605216e-09  2.18860805e-08]\n",
      "[PairOptimizer.optimize] curves_t WBTC-C599/WETH-6Cc2\n",
      "[PairOptimizer.optimize] p_optimal OptimizerBase.SimpleResult(result=16.251277357247133, method='bisection', errormsg=None, context_dct=None) full_result [ 1.24418875e-09 -2.01980583e-08]\n",
      "[PairOptimizer.optimize] curves_t WBTC-C599/WETH-6Cc2\n",
      "[PairOptimizer.optimize] p_optimal OptimizerBase.SimpleResult(result=16.251277357247766, method='bisection', errormsg=None, context_dct=None) full_result [ 9.20408638e-10 -1.49593689e-08]\n",
      "[PairOptimizer.optimize] curves_t WBTC-C599/WETH-6Cc2\n",
      "[PairOptimizer.optimize] p_optimal OptimizerBase.SimpleResult(result=16.25127564699462, method='bisection', errormsg=None, context_dct=None) full_result [ 7.75202125e-11 -5.60414833e-07]\n",
      "[PairOptimizer.optimize] curves_t WBTC-C599/WETH-6Cc2\n",
      "[PairOptimizer.optimize] p_optimal OptimizerBase.SimpleResult(result=16.25127735724613, method='bisection', errormsg=None, context_dct=None) full_result [ 1.75714376e-09 -2.85217538e-08]\n",
      "[PairOptimizer.optimize] curves_t WBTC-C599/WETH-6Cc2\n",
      "[PairOptimizer.optimize] p_optimal OptimizerBase.SimpleResult(result=16.262500335191948, method='bisection', errormsg=None, context_dct=None) full_result [-7.50151230e-09  1.22003257e-07]\n",
      "[PairOptimizer.optimize] curves_t WBTC-C599/WETH-6Cc2\n",
      "[PairOptimizer.optimize] p_optimal OptimizerBase.SimpleResult(result=16.262500335181386, method='bisection', errormsg=None, context_dct=None) full_result [-4.99414110e-09  7.80092719e-08]\n",
      "[PairOptimizer.optimize] curves_t WBTC-C599/WETH-6Cc2\n",
      "[PairOptimizer.optimize] p_optimal OptimizerBase.SimpleResult(result=16.262500335186033, method='bisection', errormsg=None, context_dct=None) full_result [-4.94765118e-10  7.91624188e-09]\n",
      "[PairOptimizer.optimize] curves_t WBTC-C599/WETH-6Cc2\n",
      "[PairOptimizer.optimize] p_optimal OptimizerBase.SimpleResult(result=16.26250033519087, method='bisection', errormsg=None, context_dct=None) full_result [-6.22821972e-09  1.01281330e-07]\n",
      "[PairOptimizer.optimize] curves_t WBTC-C599/WETH-6Cc2\n",
      "[PairOptimizer.optimize] p_optimal OptimizerBase.SimpleResult(result=16.262500335190833, method='bisection', errormsg=None, context_dct=None) full_result [-6.17728801e-09  1.00466423e-07]\n",
      "[PairOptimizer.optimize] curves_t WBTC-C599/WETH-6Cc2\n",
      "[PairOptimizer.optimize] p_optimal OptimizerBase.SimpleResult(result=16.262500335185337, method='bisection', errormsg=None, context_dct=None) full_result [ 3.34694050e-10 -5.47152013e-09]\n",
      "[PairOptimizer.optimize] curves_t WBTC-C599/WETH-6Cc2\n",
      "[PairOptimizer.optimize] p_optimal OptimizerBase.SimpleResult(result=16.26249310391707, method='bisection', errormsg=None, context_dct=None) full_result [ 3.98554079e-09 -5.36410068e-05]\n",
      "[PairOptimizer.optimize] curves_t WBTC-C599/WETH-6Cc2\n",
      "[PairOptimizer.optimize] p_optimal OptimizerBase.SimpleResult(result=16.262500335189472, method='bisection', errormsg=None, context_dct=None) full_result [-4.57657734e-09  7.43893906e-08]\n"
     ]
    },
    {
     "data": {
      "application/vnd.jupyter.widget-view+json": {
       "model_id": "cf02afae5dac400983647316a9b175ab",
       "version_major": 2,
       "version_minor": 0
      },
      "text/plain": [
       "  0%|          | 0/16 [00:00<?, ?it/s]"
      ]
     },
     "metadata": {},
     "output_type": "display_data"
    },
    {
     "name": "stdout",
     "output_type": "stream",
     "text": [
      "[PairOptimizer.optimize] curves_t WBTC-C599/USDC-eB48\n",
      "[PairOptimizer.optimize] p_optimal OptimizerBase.SimpleResult(result=30709.171178589037, method='bisection', errormsg=None, context_dct=None) full_result [ 3.52997631e-11 -1.08499080e-06]\n",
      "[PairOptimizer.optimize] curves_t WBTC-C599/USDC-eB48\n",
      "[PairOptimizer.optimize] p_optimal OptimizerBase.SimpleResult(result=30709.17117859955, method='bisection', errormsg=None, context_dct=None) full_result [-1.14255272e-11  3.50177288e-07]\n",
      "[PairOptimizer.optimize] curves_t WBTC-C599/USDC-eB48\n",
      "[PairOptimizer.optimize] p_optimal OptimizerBase.SimpleResult(result=30709.17117859282, method='bisection', errormsg=None, context_dct=None) full_result [ 1.85309545e-11 -5.69969416e-07]\n",
      "[PairOptimizer.optimize] curves_t WBTC-C599/USDC-eB48\n",
      "[PairOptimizer.optimize] p_optimal OptimizerBase.SimpleResult(result=30709.17117859589, method='bisection', errormsg=None, context_dct=None) full_result [ 4.83169060e-12 -1.49011612e-07]\n",
      "[PairOptimizer.optimize] curves_t WBTC-C599/USDC-eB48\n",
      "[PairOptimizer.optimize] p_optimal OptimizerBase.SimpleResult(result=30709.17117859447, method='bisection', errormsg=None, context_dct=None) full_result [ 1.11413101e-11 -3.43658030e-07]\n",
      "[PairOptimizer.optimize] curves_t WBTC-C599/USDC-eB48\n",
      "[PairOptimizer.optimize] p_optimal OptimizerBase.SimpleResult(result=30709.171178601522, method='bisection', errormsg=None, context_dct=None) full_result [-2.01794137e-11  6.19329512e-07]\n",
      "[PairOptimizer.optimize] curves_t WBTC-C599/USDC-eB48\n",
      "[PairOptimizer.optimize] p_optimal OptimizerBase.SimpleResult(result=30708.386280897503, method='bisection', errormsg=None, context_dct=None) full_result [ 2.96917491e-11 -8.92271088e-01]\n",
      "[PairOptimizer.optimize] curves_t WBTC-C599/USDC-eB48\n",
      "[PairOptimizer.optimize] p_optimal OptimizerBase.SimpleResult(result=30709.171178605357, method='bisection', errormsg=None, context_dct=None) full_result [-3.72324394e-11  1.14273280e-06]\n",
      "[PairOptimizer.optimize] curves_t WBTC-C599/USDC-eB48\n",
      "[PairOptimizer.optimize] p_optimal OptimizerBase.SimpleResult(result=30681.192450067927, method='bisection', errormsg=None, context_dct=None) full_result [ 5.82986104e-10 -1.79111958e-05]\n",
      "[PairOptimizer.optimize] curves_t WBTC-C599/USDC-eB48\n",
      "[PairOptimizer.optimize] p_optimal OptimizerBase.SimpleResult(result=30681.192450086935, method='bisection', errormsg=None, context_dct=None) full_result [-8.64019967e-10  2.64942646e-05]\n",
      "[PairOptimizer.optimize] curves_t WBTC-C599/USDC-eB48\n",
      "[PairOptimizer.optimize] p_optimal OptimizerBase.SimpleResult(result=30681.192450084593, method='bisection', errormsg=None, context_dct=None) full_result [-6.85759005e-10  2.10106373e-05]\n",
      "[PairOptimizer.optimize] curves_t WBTC-C599/USDC-eB48\n",
      "[PairOptimizer.optimize] p_optimal OptimizerBase.SimpleResult(result=30681.192450076273, method='bisection', errormsg=None, context_dct=None) full_result [-5.27506927e-11  1.57952309e-06]\n",
      "[PairOptimizer.optimize] curves_t WBTC-C599/USDC-eB48\n",
      "[PairOptimizer.optimize] p_optimal OptimizerBase.SimpleResult(result=30681.19245007934, method='bisection', errormsg=None, context_dct=None) full_result [-2.85581336e-10  8.73208046e-06]\n",
      "[PairOptimizer.optimize] curves_t WBTC-C599/USDC-eB48\n",
      "[PairOptimizer.optimize] p_optimal OptimizerBase.SimpleResult(result=30681.192450081726, method='bisection', errormsg=None, context_dct=None) full_result [-4.67480277e-10  1.43349171e-05]\n",
      "[PairOptimizer.optimize] curves_t WBTC-C599/USDC-eB48\n",
      "[PairOptimizer.optimize] p_optimal OptimizerBase.SimpleResult(result=30681.149014643066, method='bisection', errormsg=None, context_dct=None) full_result [ 2.77502132e-10 -7.98431910e-01]\n",
      "[PairOptimizer.optimize] curves_t WBTC-C599/USDC-eB48\n",
      "[PairOptimizer.optimize] p_optimal OptimizerBase.SimpleResult(result=30681.192450076527, method='bisection', errormsg=None, context_dct=None) full_result [-7.18500814e-11  2.17556953e-06]\n"
     ]
    },
    {
     "data": {
      "application/vnd.jupyter.widget-view+json": {
       "model_id": "7094fade9e774c8ca0b02b05bff4b2d7",
       "version_major": 2,
       "version_minor": 0
      },
      "text/plain": [
       "  0%|          | 0/1 [00:00<?, ?it/s]"
      ]
     },
     "metadata": {},
     "output_type": "display_data"
    },
    {
     "name": "stdout",
     "output_type": "stream",
     "text": [
      "[PairOptimizer.optimize] curves_t WBTC-C599/USDT-1ec7\n",
      "[PairOptimizer.optimize] p_optimal OptimizerBase.SimpleResult(result=30694.613926066977, method='bisection', errormsg=None, context_dct=None) full_result [-7.29679297e-11 -1.92722695e-02]\n"
     ]
    },
    {
     "data": {
      "application/vnd.jupyter.widget-view+json": {
       "model_id": "6a1781a1dde24e779e75021fd977dfc0",
       "version_major": 2,
       "version_minor": 0
      },
      "text/plain": [
       "0it [00:00, ?it/s]"
      ]
     },
     "metadata": {},
     "output_type": "display_data"
    },
    {
     "data": {
      "application/vnd.jupyter.widget-view+json": {
       "model_id": "c4b88ac247904cb4b491305cefa1f68c",
       "version_major": 2,
       "version_minor": 0
      },
      "text/plain": [
       "0it [00:00, ?it/s]"
      ]
     },
     "metadata": {},
     "output_type": "display_data"
    },
    {
     "data": {
      "application/vnd.jupyter.widget-view+json": {
       "model_id": "4e65431de69a47699a398259bf902e8e",
       "version_major": 2,
       "version_minor": 0
      },
      "text/plain": [
       "0it [00:00, ?it/s]"
      ]
     },
     "metadata": {},
     "output_type": "display_data"
    },
    {
     "data": {
      "application/vnd.jupyter.widget-view+json": {
       "model_id": "87d1c39b4cdc401d993ccbc5fd0a7e18",
       "version_major": 2,
       "version_minor": 0
      },
      "text/plain": [
       "0it [00:00, ?it/s]"
      ]
     },
     "metadata": {},
     "output_type": "display_data"
    },
    {
     "data": {
      "application/vnd.jupyter.widget-view+json": {
       "model_id": "dca3cfa9817d446aab0b47d6360b1c50",
       "version_major": 2,
       "version_minor": 0
      },
      "text/plain": [
       "0it [00:00, ?it/s]"
      ]
     },
     "metadata": {},
     "output_type": "display_data"
    },
    {
     "data": {
      "application/vnd.jupyter.widget-view+json": {
       "model_id": "40636dacc0994da6b684ca52abe0fa04",
       "version_major": 2,
       "version_minor": 0
      },
      "text/plain": [
       "0it [00:00, ?it/s]"
      ]
     },
     "metadata": {},
     "output_type": "display_data"
    },
    {
     "data": {
      "application/vnd.jupyter.widget-view+json": {
       "model_id": "9ffa206acf794d8db906f56f749fe332",
       "version_major": 2,
       "version_minor": 0
      },
      "text/plain": [
       "0it [00:00, ?it/s]"
      ]
     },
     "metadata": {},
     "output_type": "display_data"
    },
    {
     "data": {
      "application/vnd.jupyter.widget-view+json": {
       "model_id": "a7e2383d22d043e0b58db2923a32e16b",
       "version_major": 2,
       "version_minor": 0
      },
      "text/plain": [
       "0it [00:00, ?it/s]"
      ]
     },
     "metadata": {},
     "output_type": "display_data"
    },
    {
     "data": {
      "application/vnd.jupyter.widget-view+json": {
       "model_id": "1004d5e99e9a484493068b75af4b6095",
       "version_major": 2,
       "version_minor": 0
      },
      "text/plain": [
       "  0%|          | 0/1 [00:00<?, ?it/s]"
      ]
     },
     "metadata": {},
     "output_type": "display_data"
    },
    {
     "name": "stdout",
     "output_type": "stream",
     "text": [
      "[PairOptimizer.optimize] curves_t MATIC-eBB0/USDC-eB48\n",
      "[PairOptimizer.optimize] p_optimal OptimizerBase.SimpleResult(result=0.7402602510973211, method='bisection', errormsg=None, context_dct=None) full_result [-9.26957000e-09  6.86122803e-09]\n"
     ]
    },
    {
     "data": {
      "application/vnd.jupyter.widget-view+json": {
       "model_id": "10e4aa431cfd4f14997e1e842e7c3ee3",
       "version_major": 2,
       "version_minor": 0
      },
      "text/plain": [
       "  0%|          | 0/4 [00:00<?, ?it/s]"
      ]
     },
     "metadata": {},
     "output_type": "display_data"
    },
    {
     "name": "stdout",
     "output_type": "stream",
     "text": [
      "[PairOptimizer.optimize] curves_t PEPE-1933/WETH-6Cc2\n",
      "[PairOptimizer.optimize] p_optimal OptimizerBase.SimpleResult(result=8.149138379328678e-10, method='bisection', errormsg=None, context_dct=None) full_result [ 2.51562500e+00 -2.04818207e-09]\n",
      "[PairOptimizer.optimize] curves_t PEPE-1933/WETH-6Cc2\n",
      "[PairOptimizer.optimize] p_optimal OptimizerBase.SimpleResult(result=8.149138379327994e-10, method='bisection', errormsg=None, context_dct=None) full_result [ 3.55078125e+00 -2.89583113e-09]\n",
      "[PairOptimizer.optimize] curves_t PEPE-1933/WETH-6Cc2\n",
      "[PairOptimizer.optimize] p_optimal OptimizerBase.SimpleResult(result=8.107804985572999e-10, method='bisection', errormsg=None, context_dct=None) full_result [ 2.69775391e-02 -2.18278728e-11]\n",
      "[PairOptimizer.optimize] curves_t PEPE-1933/WETH-6Cc2\n",
      "[PairOptimizer.optimize] p_optimal OptimizerBase.SimpleResult(result=8.107804985574788e-10, method='bisection', errormsg=None, context_dct=None) full_result [-1.50756836e-02  1.22213351e-11]\n"
     ]
    },
    {
     "data": {
      "application/vnd.jupyter.widget-view+json": {
       "model_id": "23041639306a4a9cbc4af8789aed1225",
       "version_major": 2,
       "version_minor": 0
      },
      "text/plain": [
       "  0%|          | 0/3 [00:00<?, ?it/s]"
      ]
     },
     "metadata": {},
     "output_type": "display_data"
    },
    {
     "name": "stdout",
     "output_type": "stream",
     "text": [
      "[PairOptimizer.optimize] curves_t PEPE-1933/USDC-eB48\n",
      "[PairOptimizer.optimize] p_optimal OptimizerBase.SimpleResult(result=1.5362878225146734e-06, method='bisection', errormsg=None, context_dct=None) full_result [ 0.00651264 -0.00666746]\n",
      "[PairOptimizer.optimize] curves_t PEPE-1933/USDC-eB48\n",
      "[PairOptimizer.optimize] p_optimal OptimizerBase.SimpleResult(result=1.5360877772687104e-06, method='bisection', errormsg=None, context_dct=None) full_result [ 4.19616699e-03 -6.43194653e-09]\n",
      "[PairOptimizer.optimize] curves_t PEPE-1933/USDC-eB48\n",
      "[PairOptimizer.optimize] p_optimal OptimizerBase.SimpleResult(result=1.53608777726908e-06, method='bisection', errormsg=None, context_dct=None) full_result [-5.69152832e-03  8.74570105e-09]\n"
     ]
    },
    {
     "data": {
      "application/vnd.jupyter.widget-view+json": {
       "model_id": "77519087a90d471692c32cc1021eff4e",
       "version_major": 2,
       "version_minor": 0
      },
      "text/plain": [
       "0it [00:00, ?it/s]"
      ]
     },
     "metadata": {},
     "output_type": "display_data"
    },
    {
     "data": {
      "application/vnd.jupyter.widget-view+json": {
       "model_id": "aa0dfb97b05e4a069b274ec5e5f65eaa",
       "version_major": 2,
       "version_minor": 0
      },
      "text/plain": [
       "0it [00:00, ?it/s]"
      ]
     },
     "metadata": {},
     "output_type": "display_data"
    },
    {
     "data": {
      "application/vnd.jupyter.widget-view+json": {
       "model_id": "90f5ca55b9f744679a6231f6eb51a965",
       "version_major": 2,
       "version_minor": 0
      },
      "text/plain": [
       "0it [00:00, ?it/s]"
      ]
     },
     "metadata": {},
     "output_type": "display_data"
    },
    {
     "data": {
      "application/vnd.jupyter.widget-view+json": {
       "model_id": "90f7a54fc6ff4c7d856e9e3fff0ae382",
       "version_major": 2,
       "version_minor": 0
      },
      "text/plain": [
       "  0%|          | 0/1 [00:00<?, ?it/s]"
      ]
     },
     "metadata": {},
     "output_type": "display_data"
    },
    {
     "name": "stdout",
     "output_type": "stream",
     "text": [
      "[PairOptimizer.optimize] curves_t TSUKA-69eD/USDC-eB48\n",
      "[PairOptimizer.optimize] p_optimal OptimizerBase.SimpleResult(result=0.031129990028112127, method='bisection', errormsg=None, context_dct=None) full_result [ 1.87428668e-08 -5.82986104e-10]\n"
     ]
    },
    {
     "data": {
      "application/vnd.jupyter.widget-view+json": {
       "model_id": "152d06cbb40f4e88bd272e49d4eebb5d",
       "version_major": 2,
       "version_minor": 0
      },
      "text/plain": [
       "0it [00:00, ?it/s]"
      ]
     },
     "metadata": {},
     "output_type": "display_data"
    },
    {
     "data": {
      "application/vnd.jupyter.widget-view+json": {
       "model_id": "31a8003de56c411ba558751238ede8d5",
       "version_major": 2,
       "version_minor": 0
      },
      "text/plain": [
       "0it [00:00, ?it/s]"
      ]
     },
     "metadata": {},
     "output_type": "display_data"
    },
    {
     "data": {
      "application/vnd.jupyter.widget-view+json": {
       "model_id": "4882e115da714780a394b9993a7f3936",
       "version_major": 2,
       "version_minor": 0
      },
      "text/plain": [
       "0it [00:00, ?it/s]"
      ]
     },
     "metadata": {},
     "output_type": "display_data"
    },
    {
     "data": {
      "application/vnd.jupyter.widget-view+json": {
       "model_id": "ed46748257114c4188657fa3e3e88556",
       "version_major": 2,
       "version_minor": 0
      },
      "text/plain": [
       "0it [00:00, ?it/s]"
      ]
     },
     "metadata": {},
     "output_type": "display_data"
    },
    {
     "data": {
      "application/vnd.jupyter.widget-view+json": {
       "model_id": "4769b68a3dd14c7abadabc207627c331",
       "version_major": 2,
       "version_minor": 0
      },
      "text/plain": [
       "0it [00:00, ?it/s]"
      ]
     },
     "metadata": {},
     "output_type": "display_data"
    },
    {
     "data": {
      "application/vnd.jupyter.widget-view+json": {
       "model_id": "e3ac8ba91f2b4751a8b1bd0205f9b74f",
       "version_major": 2,
       "version_minor": 0
      },
      "text/plain": [
       "  0%|          | 0/1 [00:00<?, ?it/s]"
      ]
     },
     "metadata": {},
     "output_type": "display_data"
    },
    {
     "name": "stdout",
     "output_type": "stream",
     "text": [
      "[PairOptimizer.optimize] curves_t SMT-7173/WETH-6Cc2\n",
      "[PairOptimizer.optimize] p_optimal OptimizerBase.SimpleResult(result=3.412385811295565e-05, method='bisection', errormsg=None, context_dct=None) full_result [ 2.57859938e-08 -8.81072992e-13]\n"
     ]
    },
    {
     "data": {
      "application/vnd.jupyter.widget-view+json": {
       "model_id": "fcc1e75443da4505960a2b466d2bd3b0",
       "version_major": 2,
       "version_minor": 0
      },
      "text/plain": [
       "0it [00:00, ?it/s]"
      ]
     },
     "metadata": {},
     "output_type": "display_data"
    },
    {
     "data": {
      "application/vnd.jupyter.widget-view+json": {
       "model_id": "6814e7f8297843b98577c4a980f638c0",
       "version_major": 2,
       "version_minor": 0
      },
      "text/plain": [
       "0it [00:00, ?it/s]"
      ]
     },
     "metadata": {},
     "output_type": "display_data"
    },
    {
     "data": {
      "application/vnd.jupyter.widget-view+json": {
       "model_id": "9b4fdbd94b0248e9a8058c9bf17b7b11",
       "version_major": 2,
       "version_minor": 0
      },
      "text/plain": [
       "  0%|          | 0/4 [00:00<?, ?it/s]"
      ]
     },
     "metadata": {},
     "output_type": "display_data"
    },
    {
     "name": "stdout",
     "output_type": "stream",
     "text": [
      "[PairOptimizer.optimize] curves_t rETH-6393/WETH-6Cc2\n",
      "[PairOptimizer.optimize] p_optimal OptimizerBase.SimpleResult(result=1.076708344504264, method='bisection', errormsg=None, context_dct=None) full_result [-1.25543593e-07 -1.09294720e-03]\n",
      "[PairOptimizer.optimize] curves_t rETH-6393/WETH-6Cc2\n",
      "[PairOptimizer.optimize] p_optimal OptimizerBase.SimpleResult(result=1.0767087670950288, method='bisection', errormsg=None, context_dct=None) full_result [ 2.46334821e-07 -2.65194103e-07]\n",
      "[PairOptimizer.optimize] curves_t rETH-6393/WETH-6Cc2\n",
      "[PairOptimizer.optimize] p_optimal OptimizerBase.SimpleResult(result=1.0767087670955016, method='bisection', errormsg=None, context_dct=None) full_result [-3.30619514e-08  3.53902578e-08]\n",
      "[PairOptimizer.optimize] curves_t rETH-6393/WETH-6Cc2\n",
      "[PairOptimizer.optimize] p_optimal OptimizerBase.SimpleResult(result=1.076708767095204, method='bisection', errormsg=None, context_dct=None) full_result [ 1.42958015e-07 -1.53901055e-07]\n"
     ]
    },
    {
     "data": {
      "application/vnd.jupyter.widget-view+json": {
       "model_id": "bf01757ee2ae41cab6b300e3ef2740b9",
       "version_major": 2,
       "version_minor": 0
      },
      "text/plain": [
       "0it [00:00, ?it/s]"
      ]
     },
     "metadata": {},
     "output_type": "display_data"
    },
    {
     "data": {
      "application/vnd.jupyter.widget-view+json": {
       "model_id": "40bb2ceed2fa43b8873f7f852d84519e",
       "version_major": 2,
       "version_minor": 0
      },
      "text/plain": [
       "  0%|          | 0/54 [00:00<?, ?it/s]"
      ]
     },
     "metadata": {},
     "output_type": "display_data"
    },
    {
     "name": "stdout",
     "output_type": "stream",
     "text": [
      "[PairOptimizer.optimize] curves_t WETH-6Cc2/USDC-eB48\n",
      "[PairOptimizer.optimize] p_optimal OptimizerBase.SimpleResult(result=1888.9922146301515, method='bisection', errormsg=None, context_dct=None) full_result [-4.74392436e-09  8.94069672e-06]\n",
      "[PairOptimizer.optimize] curves_t WETH-6Cc2/USDC-eB48\n",
      "[PairOptimizer.optimize] p_optimal OptimizerBase.SimpleResult(result=1888.992214629935, method='bisection', errormsg=None, context_dct=None) full_result [ 5.41331246e-09 -1.02519989e-05]\n",
      "[PairOptimizer.optimize] curves_t WETH-6Cc2/USDC-eB48\n",
      "[PairOptimizer.optimize] p_optimal OptimizerBase.SimpleResult(result=1888.9922146308772, method='bisection', errormsg=None, context_dct=None) full_result [-3.87663022e-08  7.32541084e-05]\n",
      "[PairOptimizer.optimize] curves_t WETH-6Cc2/USDC-eB48\n",
      "[PairOptimizer.optimize] p_optimal OptimizerBase.SimpleResult(result=1888.9922146296476, method='bisection', errormsg=None, context_dct=None) full_result [ 1.88883860e-08 -3.56435776e-05]\n",
      "[PairOptimizer.optimize] curves_t WETH-6Cc2/USDC-eB48\n",
      "[PairOptimizer.optimize] p_optimal OptimizerBase.SimpleResult(result=1888.992214630152, method='bisection', errormsg=None, context_dct=None) full_result [-4.74392436e-09  8.94069672e-06]\n",
      "[PairOptimizer.optimize] curves_t WETH-6Cc2/USDC-eB48\n",
      "[PairOptimizer.optimize] p_optimal OptimizerBase.SimpleResult(result=1888.9922146300873, method='bisection', errormsg=None, context_dct=None) full_result [-1.71712600e-09  3.27825546e-06]\n",
      "[PairOptimizer.optimize] curves_t WETH-6Cc2/USDC-eB48\n",
      "[PairOptimizer.optimize] p_optimal OptimizerBase.SimpleResult(result=1888.9922146304884, method='bisection', errormsg=None, context_dct=None) full_result [-2.05182005e-08  3.88026237e-05]\n",
      "[PairOptimizer.optimize] curves_t WETH-6Cc2/USDC-eB48\n",
      "[PairOptimizer.optimize] p_optimal OptimizerBase.SimpleResult(result=1888.9922146299593, method='bisection', errormsg=None, context_dct=None) full_result [ 4.30736691e-09 -8.10623169e-06]\n",
      "[PairOptimizer.optimize] curves_t WETH-6Cc2/USDC-eB48\n",
      "[PairOptimizer.optimize] p_optimal OptimizerBase.SimpleResult(result=1888.992214629823, method='bisection', errormsg=None, context_dct=None) full_result [ 1.06811058e-08 -2.01463699e-05]\n",
      "[PairOptimizer.optimize] curves_t WETH-6Cc2/USDC-eB48\n",
      "[PairOptimizer.optimize] p_optimal OptimizerBase.SimpleResult(result=1888.9922146295216, method='bisection', errormsg=None, context_dct=None) full_result [ 2.48255674e-08 -4.68492508e-05]\n",
      "[PairOptimizer.optimize] curves_t WETH-6Cc2/USDC-eB48\n",
      "[PairOptimizer.optimize] p_optimal OptimizerBase.SimpleResult(result=1888.992214630285, method='bisection', errormsg=None, context_dct=None) full_result [-1.09721441e-08  2.07424164e-05]\n",
      "[PairOptimizer.optimize] curves_t WETH-6Cc2/USDC-eB48\n",
      "[PairOptimizer.optimize] p_optimal OptimizerBase.SimpleResult(result=1888.992214630096, method='bisection', errormsg=None, context_dct=None) full_result [-2.12457962e-09  4.05311584e-06]\n",
      "[PairOptimizer.optimize] curves_t WETH-6Cc2/USDC-eB48\n",
      "[PairOptimizer.optimize] p_optimal OptimizerBase.SimpleResult(result=1888.9922146296672, method='bisection', errormsg=None, context_dct=None) full_result [ 1.79861672e-08 -3.39150429e-05]\n",
      "[PairOptimizer.optimize] curves_t WETH-6Cc2/USDC-eB48\n",
      "[PairOptimizer.optimize] p_optimal OptimizerBase.SimpleResult(result=1888.992214630273, method='bisection', errormsg=None, context_dct=None) full_result [-1.04482751e-08  1.97291374e-05]\n",
      "[PairOptimizer.optimize] curves_t WETH-6Cc2/USDC-eB48\n",
      "[PairOptimizer.optimize] p_optimal OptimizerBase.SimpleResult(result=1888.992214630557, method='bisection', errormsg=None, context_dct=None) full_result [-2.37487257e-08  4.48822975e-05]\n",
      "[PairOptimizer.optimize] curves_t WETH-6Cc2/USDC-eB48\n",
      "[PairOptimizer.optimize] p_optimal OptimizerBase.SimpleResult(result=1888.9922146305262, method='bisection', errormsg=None, context_dct=None) full_result [-2.23226380e-08  4.21404839e-05]\n",
      "[PairOptimizer.optimize] curves_t WETH-6Cc2/USDC-eB48\n",
      "[PairOptimizer.optimize] p_optimal OptimizerBase.SimpleResult(result=1888.9922146295794, method='bisection', errormsg=None, context_dct=None) full_result [ 2.21189111e-08 -4.17828560e-05]\n",
      "[PairOptimizer.optimize] curves_t WETH-6Cc2/USDC-eB48\n",
      "[PairOptimizer.optimize] p_optimal OptimizerBase.SimpleResult(result=1888.9922146299941, method='bisection', errormsg=None, context_dct=None) full_result [ 2.67755240e-09 -5.00679016e-06]\n",
      "[PairOptimizer.optimize] curves_t WETH-6Cc2/USDC-eB48\n",
      "[PairOptimizer.optimize] p_optimal OptimizerBase.SimpleResult(result=1888.9922146298563, method='bisection', errormsg=None, context_dct=None) full_result [ 9.10949893e-09 -1.71661377e-05]\n",
      "[PairOptimizer.optimize] curves_t WETH-6Cc2/USDC-eB48\n",
      "[PairOptimizer.optimize] p_optimal OptimizerBase.SimpleResult(result=1888.9922146307526, method='bisection', errormsg=None, context_dct=None) full_result [-3.29164322e-08  6.21676445e-05]\n",
      "[PairOptimizer.optimize] curves_t WETH-6Cc2/USDC-eB48\n",
      "[PairOptimizer.optimize] p_optimal OptimizerBase.SimpleResult(result=1888.9922146292975, method='bisection', errormsg=None, context_dct=None) full_result [ 3.53029463e-08 -6.66975975e-05]\n",
      "[PairOptimizer.optimize] curves_t WETH-6Cc2/USDC-eB48\n",
      "[PairOptimizer.optimize] p_optimal OptimizerBase.SimpleResult(result=1888.9922146298, method='bisection', errormsg=None, context_dct=None) full_result [ 1.17870513e-08 -2.22325325e-05]\n",
      "[PairOptimizer.optimize] curves_t WETH-6Cc2/USDC-eB48\n",
      "[PairOptimizer.optimize] p_optimal OptimizerBase.SimpleResult(result=1888.9922146296672, method='bisection', errormsg=None, context_dct=None) full_result [ 1.79861672e-08 -3.39150429e-05]\n",
      "[PairOptimizer.optimize] curves_t WETH-6Cc2/USDC-eB48\n",
      "[PairOptimizer.optimize] p_optimal OptimizerBase.SimpleResult(result=1888.9922146300303, method='bisection', errormsg=None, context_dct=None) full_result [ 9.60426405e-10 -1.78813934e-06]\n",
      "[PairOptimizer.optimize] curves_t WETH-6Cc2/USDC-eB48\n",
      "[PairOptimizer.optimize] p_optimal OptimizerBase.SimpleResult(result=1888.9922045502708, method='bisection', errormsg=None, context_dct=None) full_result [ 8.62382876e-09 -4.20819260e-02]\n",
      "[PairOptimizer.optimize] curves_t WETH-6Cc2/USDC-eB48\n",
      "[PairOptimizer.optimize] p_optimal OptimizerBase.SimpleResult(result=1888.9922146306424, method='bisection', errormsg=None, context_dct=None) full_result [-2.77650543e-08  5.24520874e-05]\n",
      "[PairOptimizer.optimize] curves_t WETH-6Cc2/USDC-eB48\n",
      "[PairOptimizer.optimize] p_optimal OptimizerBase.SimpleResult(result=1888.9922146304034, method='bisection', errormsg=None, context_dct=None) full_result [-1.65309757e-08  3.12328339e-05]\n",
      "[PairOptimizer.optimize] curves_t WETH-6Cc2/USDC-eB48\n",
      "[PairOptimizer.optimize] p_optimal OptimizerBase.SimpleResult(result=1888.9922146305626, method='bisection', errormsg=None, context_dct=None) full_result [-2.40106601e-08  4.54187393e-05]\n",
      "[PairOptimizer.optimize] curves_t WETH-6Cc2/USDC-eB48\n",
      "[PairOptimizer.optimize] p_optimal OptimizerBase.SimpleResult(result=1888.992214630815, method='bisection', errormsg=None, context_dct=None) full_result [-3.58268153e-08  6.77108765e-05]\n",
      "[PairOptimizer.optimize] curves_t WETH-6Cc2/USDC-eB48\n",
      "[PairOptimizer.optimize] p_optimal OptimizerBase.SimpleResult(result=1888.9922146306358, method='bisection', errormsg=None, context_dct=None) full_result [-2.74449121e-08  5.18560410e-05]\n",
      "[PairOptimizer.optimize] curves_t WETH-6Cc2/USDC-eB48\n",
      "[PairOptimizer.optimize] p_optimal OptimizerBase.SimpleResult(result=1888.9922146295798, method='bisection', errormsg=None, context_dct=None) full_result [ 2.20607035e-08 -4.16636467e-05]\n",
      "[PairOptimizer.optimize] curves_t WETH-6Cc2/USDC-eB48\n",
      "[PairOptimizer.optimize] p_optimal OptimizerBase.SimpleResult(result=1888.9922146296767, method='bisection', errormsg=None, context_dct=None) full_result [ 1.75496098e-08 -3.31401825e-05]\n",
      "[PairOptimizer.optimize] curves_t WETH-6Cc2/USDC-eB48\n",
      "[PairOptimizer.optimize] p_optimal OptimizerBase.SimpleResult(result=1888.992214630015, method='bisection', errormsg=None, context_dct=None) full_result [ 1.68802217e-09 -3.15904617e-06]\n",
      "[PairOptimizer.optimize] curves_t WETH-6Cc2/USDC-eB48\n",
      "[PairOptimizer.optimize] p_optimal OptimizerBase.SimpleResult(result=1888.9922146301515, method='bisection', errormsg=None, context_dct=None) full_result [-4.74392436e-09  8.94069672e-06]\n",
      "[PairOptimizer.optimize] curves_t WETH-6Cc2/USDC-eB48\n",
      "[PairOptimizer.optimize] p_optimal OptimizerBase.SimpleResult(result=1888.9922146304305, method='bisection', errormsg=None, context_dct=None) full_result [-1.77824404e-08  3.36170197e-05]\n",
      "[PairOptimizer.optimize] curves_t WETH-6Cc2/USDC-eB48\n",
      "[PairOptimizer.optimize] p_optimal OptimizerBase.SimpleResult(result=1888.9922146295005, method='bisection', errormsg=None, context_dct=None) full_result [ 2.53922954e-08 -4.79870996e-05]\n",
      "[PairOptimizer.optimize] curves_t WETH-6Cc2/USDC-eB48\n",
      "[PairOptimizer.optimize] p_optimal OptimizerBase.SimpleResult(result=1888.9922146295216, method='bisection', errormsg=None, context_dct=None) full_result [ 2.48255674e-08 -4.68492508e-05]\n",
      "[PairOptimizer.optimize] curves_t WETH-6Cc2/USDC-eB48\n",
      "[PairOptimizer.optimize] p_optimal OptimizerBase.SimpleResult(result=1888.9922146296672, method='bisection', errormsg=None, context_dct=None) full_result [ 1.79861672e-08 -3.39150429e-05]\n",
      "[PairOptimizer.optimize] curves_t WETH-6Cc2/USDC-eB48\n",
      "[PairOptimizer.optimize] p_optimal OptimizerBase.SimpleResult(result=1888.9922146306121, method='bisection', errormsg=None, context_dct=None) full_result [-2.63389666e-08  4.97698784e-05]\n",
      "[PairOptimizer.optimize] curves_t WETH-6Cc2/USDC-eB48\n",
      "[PairOptimizer.optimize] p_optimal OptimizerBase.SimpleResult(result=1888.9922146306424, method='bisection', errormsg=None, context_dct=None) full_result [-2.77650543e-08  5.24520874e-05]\n",
      "[PairOptimizer.optimize] curves_t WETH-6Cc2/USDC-eB48\n",
      "[PairOptimizer.optimize] p_optimal OptimizerBase.SimpleResult(result=1888.99221463018, method='bisection', errormsg=None, context_dct=None) full_result [-6.05359674e-09  1.15036964e-05]\n",
      "[PairOptimizer.optimize] curves_t WETH-6Cc2/USDC-eB48\n",
      "[PairOptimizer.optimize] p_optimal OptimizerBase.SimpleResult(result=1888.9922146308115, method='bisection', errormsg=None, context_dct=None) full_result [-3.56812961e-08  6.74128532e-05]\n",
      "[PairOptimizer.optimize] curves_t WETH-6Cc2/USDC-eB48\n",
      "[PairOptimizer.optimize] p_optimal OptimizerBase.SimpleResult(result=1888.9922146302497, method='bisection', errormsg=None, context_dct=None) full_result [-9.31322575e-09  1.76429749e-05]\n",
      "[PairOptimizer.optimize] curves_t WETH-6Cc2/USDC-eB48\n",
      "[PairOptimizer.optimize] p_optimal OptimizerBase.SimpleResult(result=1888.9922146300873, method='bisection', errormsg=None, context_dct=None) full_result [-1.71712600e-09  3.27825546e-06]\n",
      "[PairOptimizer.optimize] curves_t WETH-6Cc2/USDC-eB48\n",
      "[PairOptimizer.optimize] p_optimal OptimizerBase.SimpleResult(result=1888.9922146298663, method='bisection', errormsg=None, context_dct=None) full_result [ 8.64383765e-09 -1.63316727e-05]\n",
      "[PairOptimizer.optimize] curves_t WETH-6Cc2/USDC-eB48\n",
      "[PairOptimizer.optimize] p_optimal OptimizerBase.SimpleResult(result=1888.9922146297727, method='bisection', errormsg=None, context_dct=None) full_result [ 1.30385160e-08 -2.46167183e-05]\n",
      "[PairOptimizer.optimize] curves_t WETH-6Cc2/USDC-eB48\n",
      "[PairOptimizer.optimize] p_optimal OptimizerBase.SimpleResult(result=1888.9922146295776, method='bisection', errormsg=None, context_dct=None) full_result [ 2.21771188e-08 -4.18424606e-05]\n",
      "[PairOptimizer.optimize] curves_t WETH-6Cc2/USDC-eB48\n",
      "[PairOptimizer.optimize] p_optimal OptimizerBase.SimpleResult(result=1888.9922146300873, method='bisection', errormsg=None, context_dct=None) full_result [-1.71712600e-09  3.27825546e-06]\n",
      "[PairOptimizer.optimize] curves_t WETH-6Cc2/USDC-eB48\n",
      "[PairOptimizer.optimize] p_optimal OptimizerBase.SimpleResult(result=1888.9922146295798, method='bisection', errormsg=None, context_dct=None) full_result [ 2.20607035e-08 -4.16636467e-05]\n",
      "[PairOptimizer.optimize] curves_t WETH-6Cc2/USDC-eB48\n",
      "[PairOptimizer.optimize] p_optimal OptimizerBase.SimpleResult(result=1888.9922146299475, method='bisection', errormsg=None, context_dct=None) full_result [ 4.83123586e-09 -9.11951065e-06]\n",
      "[PairOptimizer.optimize] curves_t WETH-6Cc2/USDC-eB48\n",
      "[PairOptimizer.optimize] p_optimal OptimizerBase.SimpleResult(result=1888.9922146300873, method='bisection', errormsg=None, context_dct=None) full_result [-1.71712600e-09  3.27825546e-06]\n",
      "[PairOptimizer.optimize] curves_t WETH-6Cc2/USDC-eB48\n",
      "[PairOptimizer.optimize] p_optimal OptimizerBase.SimpleResult(result=1888.9922146306799, method='bisection', errormsg=None, context_dct=None) full_result [-2.94821803e-08  5.57303429e-05]\n",
      "[PairOptimizer.optimize] curves_t WETH-6Cc2/USDC-eB48\n",
      "[PairOptimizer.optimize] p_optimal OptimizerBase.SimpleResult(result=1888.9922146300873, method='bisection', errormsg=None, context_dct=None) full_result [-1.71712600e-09  3.27825546e-06]\n",
      "[PairOptimizer.optimize] curves_t WETH-6Cc2/USDC-eB48\n",
      "[PairOptimizer.optimize] p_optimal OptimizerBase.SimpleResult(result=1888.992214629823, method='bisection', errormsg=None, context_dct=None) full_result [ 1.06811058e-08 -2.01463699e-05]\n"
     ]
    },
    {
     "data": {
      "application/vnd.jupyter.widget-view+json": {
       "model_id": "bae417e551f542debb608dca31b7c817",
       "version_major": 2,
       "version_minor": 0
      },
      "text/plain": [
       "  0%|          | 0/4 [00:00<?, ?it/s]"
      ]
     },
     "metadata": {},
     "output_type": "display_data"
    },
    {
     "name": "stdout",
     "output_type": "stream",
     "text": [
      "[PairOptimizer.optimize] curves_t WETH-6Cc2/BNT-FF1C\n",
      "[PairOptimizer.optimize] p_optimal OptimizerBase.SimpleResult(result=4764.127397630187, method='bisection', errormsg=None, context_dct=None) full_result [ 2.75765188e-10 -2.38837158e+00]\n",
      "[PairOptimizer.optimize] curves_t WETH-6Cc2/BNT-FF1C\n",
      "[PairOptimizer.optimize] p_optimal OptimizerBase.SimpleResult(result=4764.138098143359, method='bisection', errormsg=None, context_dct=None) full_result [ 1.95996108e-10 -9.35047865e-07]\n",
      "[PairOptimizer.optimize] curves_t WETH-6Cc2/BNT-FF1C\n",
      "[PairOptimizer.optimize] p_optimal OptimizerBase.SimpleResult(result=4764.138098141909, method='bisection', errormsg=None, context_dct=None) full_result [ 7.35781214e-10 -3.50549817e-06]\n",
      "[PairOptimizer.optimize] curves_t WETH-6Cc2/BNT-FF1C\n",
      "[PairOptimizer.optimize] p_optimal OptimizerBase.SimpleResult(result=4764.138098143836, method='bisection', errormsg=None, context_dct=None) full_result [ 1.86446414e-11 -8.94069672e-08]\n"
     ]
    },
    {
     "data": {
      "application/vnd.jupyter.widget-view+json": {
       "model_id": "1e9ec934296c47c1a902bf8e3eb7ac41",
       "version_major": 2,
       "version_minor": 0
      },
      "text/plain": [
       "  0%|          | 0/16 [00:00<?, ?it/s]"
      ]
     },
     "metadata": {},
     "output_type": "display_data"
    },
    {
     "name": "stdout",
     "output_type": "stream",
     "text": [
      "[PairOptimizer.optimize] curves_t WBTC-C599/WETH-6Cc2\n",
      "[PairOptimizer.optimize] p_optimal OptimizerBase.SimpleResult(result=16.25127735725492, method='bisection', errormsg=None, context_dct=None) full_result [-2.74303602e-09  4.45870683e-08]\n",
      "[PairOptimizer.optimize] curves_t WBTC-C599/WETH-6Cc2\n",
      "[PairOptimizer.optimize] p_optimal OptimizerBase.SimpleResult(result=16.251277357233576, method='bisection', errormsg=None, context_dct=None) full_result [-1.81454762e-09  2.64954920e-08]\n",
      "[PairOptimizer.optimize] curves_t WBTC-C599/WETH-6Cc2\n",
      "[PairOptimizer.optimize] p_optimal OptimizerBase.SimpleResult(result=16.25127735724241, method='bisection', errormsg=None, context_dct=None) full_result [ 3.66344466e-09 -5.94882295e-08]\n",
      "[PairOptimizer.optimize] curves_t WBTC-C599/WETH-6Cc2\n",
      "[PairOptimizer.optimize] p_optimal OptimizerBase.SimpleResult(result=16.25127735725219, method='bisection', errormsg=None, context_dct=None) full_result [-1.34605216e-09  2.18860805e-08]\n",
      "[PairOptimizer.optimize] curves_t WBTC-C599/WETH-6Cc2\n",
      "[PairOptimizer.optimize] p_optimal OptimizerBase.SimpleResult(result=16.251277357247133, method='bisection', errormsg=None, context_dct=None) full_result [ 1.24418875e-09 -2.01980583e-08]\n",
      "[PairOptimizer.optimize] curves_t WBTC-C599/WETH-6Cc2\n",
      "[PairOptimizer.optimize] p_optimal OptimizerBase.SimpleResult(result=16.251277357247766, method='bisection', errormsg=None, context_dct=None) full_result [ 9.20408638e-10 -1.49593689e-08]\n",
      "[PairOptimizer.optimize] curves_t WBTC-C599/WETH-6Cc2\n",
      "[PairOptimizer.optimize] p_optimal OptimizerBase.SimpleResult(result=16.251275647061092, method='bisection', errormsg=None, context_dct=None) full_result [-3.39941160e-08 -6.70070222e-09]\n",
      "[PairOptimizer.optimize] curves_t WBTC-C599/WETH-6Cc2\n",
      "[PairOptimizer.optimize] p_optimal OptimizerBase.SimpleResult(result=16.25127735724613, method='bisection', errormsg=None, context_dct=None) full_result [ 1.75714376e-09 -2.85217538e-08]\n",
      "[PairOptimizer.optimize] curves_t WBTC-C599/WETH-6Cc2\n",
      "[PairOptimizer.optimize] p_optimal OptimizerBase.SimpleResult(result=16.262500335191948, method='bisection', errormsg=None, context_dct=None) full_result [-7.50151230e-09  1.22003257e-07]\n",
      "[PairOptimizer.optimize] curves_t WBTC-C599/WETH-6Cc2\n",
      "[PairOptimizer.optimize] p_optimal OptimizerBase.SimpleResult(result=16.262500335181386, method='bisection', errormsg=None, context_dct=None) full_result [-4.99414110e-09  7.80092719e-08]\n",
      "[PairOptimizer.optimize] curves_t WBTC-C599/WETH-6Cc2\n",
      "[PairOptimizer.optimize] p_optimal OptimizerBase.SimpleResult(result=16.262500335186033, method='bisection', errormsg=None, context_dct=None) full_result [-4.94765118e-10  7.91624188e-09]\n",
      "[PairOptimizer.optimize] curves_t WBTC-C599/WETH-6Cc2\n",
      "[PairOptimizer.optimize] p_optimal OptimizerBase.SimpleResult(result=16.26250033519087, method='bisection', errormsg=None, context_dct=None) full_result [-6.22821972e-09  1.01281330e-07]\n",
      "[PairOptimizer.optimize] curves_t WBTC-C599/WETH-6Cc2\n",
      "[PairOptimizer.optimize] p_optimal OptimizerBase.SimpleResult(result=16.262500335190833, method='bisection', errormsg=None, context_dct=None) full_result [-6.17728801e-09  1.00466423e-07]\n",
      "[PairOptimizer.optimize] curves_t WBTC-C599/WETH-6Cc2\n",
      "[PairOptimizer.optimize] p_optimal OptimizerBase.SimpleResult(result=16.262500335185337, method='bisection', errormsg=None, context_dct=None) full_result [ 3.34694050e-10 -5.47152013e-09]\n",
      "[PairOptimizer.optimize] curves_t WBTC-C599/WETH-6Cc2\n",
      "[PairOptimizer.optimize] p_optimal OptimizerBase.SimpleResult(result=16.26249310669788, method='bisection', errormsg=None, context_dct=None) full_result [-3.29367515e-06 -1.28529791e-08]\n",
      "[PairOptimizer.optimize] curves_t WBTC-C599/WETH-6Cc2\n",
      "[PairOptimizer.optimize] p_optimal OptimizerBase.SimpleResult(result=16.262500335189472, method='bisection', errormsg=None, context_dct=None) full_result [-4.57657734e-09  7.43893906e-08]\n"
     ]
    },
    {
     "data": {
      "application/vnd.jupyter.widget-view+json": {
       "model_id": "03318cc43af3487aa02aafa78c0738f0",
       "version_major": 2,
       "version_minor": 0
      },
      "text/plain": [
       "  0%|          | 0/39 [00:00<?, ?it/s]"
      ]
     },
     "metadata": {},
     "output_type": "display_data"
    },
    {
     "name": "stdout",
     "output_type": "stream",
     "text": [
      "[PairOptimizer.optimize] curves_t WETH-6Cc2/USDT-1ec7\n",
      "[PairOptimizer.optimize] p_optimal OptimizerBase.SimpleResult(result=1890.3902599636826, method='bisection', errormsg=None, context_dct=None) full_result [ 3.43752617e-08 -6.91041350e-05]\n",
      "[PairOptimizer.optimize] curves_t WETH-6Cc2/USDT-1ec7\n",
      "[PairOptimizer.optimize] p_optimal OptimizerBase.SimpleResult(result=1890.3902598796512, method='bisection', errormsg=None, context_dct=None) full_result [ 4.23751771e-08 -8.02278519e-05]\n",
      "[PairOptimizer.optimize] curves_t WETH-6Cc2/USDT-1ec7\n",
      "[PairOptimizer.optimize] p_optimal OptimizerBase.SimpleResult(result=1890.3902598804298, method='bisection', errormsg=None, context_dct=None) full_result [-2.00816430e-08  3.79085541e-05]\n",
      "[PairOptimizer.optimize] curves_t WETH-6Cc2/USDT-1ec7\n",
      "[PairOptimizer.optimize] p_optimal OptimizerBase.SimpleResult(result=1890.3902598796158, method='bisection', errormsg=None, context_dct=None) full_result [ 4.52273525e-08 -8.54730606e-05]\n",
      "[PairOptimizer.optimize] curves_t WETH-6Cc2/USDT-1ec7\n",
      "[PairOptimizer.optimize] p_optimal OptimizerBase.SimpleResult(result=1890.3902598801792, method='bisection', errormsg=None, context_dct=None) full_result [0. 0.]\n",
      "[PairOptimizer.optimize] curves_t WETH-6Cc2/USDT-1ec7\n",
      "[PairOptimizer.optimize] p_optimal OptimizerBase.SimpleResult(result=1890.3902598800487, method='bisection', errormsg=None, context_dct=None) full_result [ 1.05355866e-08 -1.99079514e-05]\n",
      "[PairOptimizer.optimize] curves_t WETH-6Cc2/USDT-1ec7\n",
      "[PairOptimizer.optimize] p_optimal OptimizerBase.SimpleResult(result=1890.3902598806571, method='bisection', errormsg=None, context_dct=None) full_result [-3.83006409e-08  7.23600388e-05]\n",
      "[PairOptimizer.optimize] curves_t WETH-6Cc2/USDT-1ec7\n",
      "[PairOptimizer.optimize] p_optimal OptimizerBase.SimpleResult(result=1890.3902700162016, method='bisection', errormsg=None, context_dct=None) full_result [-4.18058548e-08 -2.80974927e-02]\n",
      "[PairOptimizer.optimize] curves_t WETH-6Cc2/USDT-1ec7\n",
      "[PairOptimizer.optimize] p_optimal OptimizerBase.SimpleResult(result=1890.390259880636, method='bisection', errormsg=None, context_dct=None) full_result [-3.66126187e-08  6.92605972e-05]\n",
      "[PairOptimizer.optimize] curves_t WETH-6Cc2/USDT-1ec7\n",
      "[PairOptimizer.optimize] p_optimal OptimizerBase.SimpleResult(result=1890.3902598796271, method='bisection', errormsg=None, context_dct=None) full_result [ 4.43542376e-08 -8.38041306e-05]\n",
      "[PairOptimizer.optimize] curves_t WETH-6Cc2/USDT-1ec7\n",
      "[PairOptimizer.optimize] p_optimal OptimizerBase.SimpleResult(result=1890.3902598805803, method='bisection', errormsg=None, context_dct=None) full_result [-3.21888365e-08  6.07967377e-05]\n",
      "[PairOptimizer.optimize] curves_t WETH-6Cc2/USDT-1ec7\n",
      "[PairOptimizer.optimize] p_optimal OptimizerBase.SimpleResult(result=1890.3902598803247, method='bisection', errormsg=None, context_dct=None) full_result [-1.16415322e-08  2.19345093e-05]\n",
      "[PairOptimizer.optimize] curves_t WETH-6Cc2/USDT-1ec7\n",
      "[PairOptimizer.optimize] p_optimal OptimizerBase.SimpleResult(result=1890.3902598804148, method='bisection', errormsg=None, context_dct=None) full_result [-1.88592821e-08  3.56435776e-05]\n",
      "[PairOptimizer.optimize] curves_t WETH-6Cc2/USDT-1ec7\n",
      "[PairOptimizer.optimize] p_optimal OptimizerBase.SimpleResult(result=1889.145889168184, method='bisection', errormsg=None, context_dct=None) full_result [-1.00080797e-08  6.41494989e-06]\n",
      "[PairOptimizer.optimize] curves_t WETH-6Cc2/USDT-1ec7\n",
      "[PairOptimizer.optimize] p_optimal OptimizerBase.SimpleResult(result=1889.145888876507, method='bisection', errormsg=None, context_dct=None) full_result [-1.26019586e-08  2.38120556e-05]\n",
      "[PairOptimizer.optimize] curves_t WETH-6Cc2/USDT-1ec7\n",
      "[PairOptimizer.optimize] p_optimal OptimizerBase.SimpleResult(result=1889.1458888757393, method='bisection', errormsg=None, context_dct=None) full_result [ 5.09317033e-09 -9.62615013e-06]\n",
      "[PairOptimizer.optimize] curves_t WETH-6Cc2/USDT-1ec7\n",
      "[PairOptimizer.optimize] p_optimal OptimizerBase.SimpleResult(result=1889.1458888758934, method='bisection', errormsg=None, context_dct=None) full_result [ 1.54250301e-09 -2.92062759e-06]\n",
      "[PairOptimizer.optimize] curves_t WETH-6Cc2/USDT-1ec7\n",
      "[PairOptimizer.optimize] p_optimal OptimizerBase.SimpleResult(result=1889.1458888762731, method='bisection', errormsg=None, context_dct=None) full_result [-7.21774995e-09  1.36494637e-05]\n",
      "[PairOptimizer.optimize] curves_t WETH-6Cc2/USDT-1ec7\n",
      "[PairOptimizer.optimize] p_optimal OptimizerBase.SimpleResult(result=1889.1458888758175, method='bisection', errormsg=None, context_dct=None) full_result [ 3.30328476e-09 -6.22868538e-06]\n",
      "[PairOptimizer.optimize] curves_t WETH-6Cc2/USDT-1ec7\n",
      "[PairOptimizer.optimize] p_optimal OptimizerBase.SimpleResult(result=1889.145888875436, method='bisection', errormsg=None, context_dct=None) full_result [ 1.21071935e-08 -2.28583813e-05]\n",
      "[PairOptimizer.optimize] curves_t WETH-6Cc2/USDT-1ec7\n",
      "[PairOptimizer.optimize] p_optimal OptimizerBase.SimpleResult(result=1889.145924112016, method='bisection', errormsg=None, context_dct=None) full_result [ 9.60606172e-09 -2.92068245e-02]\n",
      "[PairOptimizer.optimize] curves_t WETH-6Cc2/USDT-1ec7\n",
      "[PairOptimizer.optimize] p_optimal OptimizerBase.SimpleResult(result=1889.1458888762695, method='bisection', errormsg=None, context_dct=None) full_result [-7.13043846e-09  1.34706497e-05]\n",
      "[PairOptimizer.optimize] curves_t WETH-6Cc2/USDT-1ec7\n",
      "[PairOptimizer.optimize] p_optimal OptimizerBase.SimpleResult(result=1889.1458888752281, method='bisection', errormsg=None, context_dct=None) full_result [ 1.69093255e-08 -3.19480896e-05]\n",
      "[PairOptimizer.optimize] curves_t WETH-6Cc2/USDT-1ec7\n",
      "[PairOptimizer.optimize] p_optimal OptimizerBase.SimpleResult(result=1889.1458888757306, method='bisection', errormsg=None, context_dct=None) full_result [ 5.29689714e-09 -1.00135803e-05]\n",
      "[PairOptimizer.optimize] curves_t WETH-6Cc2/USDT-1ec7\n",
      "[PairOptimizer.optimize] p_optimal OptimizerBase.SimpleResult(result=1889.1458888758277, method='bisection', errormsg=None, context_dct=None) full_result [ 3.05590220e-09 -5.78165054e-06]\n",
      "[PairOptimizer.optimize] curves_t WETH-6Cc2/USDT-1ec7\n",
      "[PairOptimizer.optimize] p_optimal OptimizerBase.SimpleResult(result=1889.1458888764319, method='bisection', errormsg=None, context_dct=None) full_result [-1.08848326e-08  2.05636024e-05]\n",
      "[PairOptimizer.optimize] curves_t WETH-6Cc2/USDT-1ec7\n",
      "[PairOptimizer.optimize] p_optimal OptimizerBase.SimpleResult(result=1881.7106092876686, method='bisection', errormsg=None, context_dct=None) full_result [-2.40470399e-09 -5.80400229e-05]\n",
      "[PairOptimizer.optimize] curves_t WETH-6Cc2/USDT-1ec7\n",
      "[PairOptimizer.optimize] p_optimal OptimizerBase.SimpleResult(result=1881.710608190668, method='bisection', errormsg=None, context_dct=None) full_result [ 3.57977115e-09 -6.74277544e-06]\n",
      "[PairOptimizer.optimize] curves_t WETH-6Cc2/USDT-1ec7\n",
      "[PairOptimizer.optimize] p_optimal OptimizerBase.SimpleResult(result=1881.7106081911547, method='bisection', errormsg=None, context_dct=None) full_result [ 5.85714588e-10 -1.11013651e-06]\n",
      "[PairOptimizer.optimize] curves_t WETH-6Cc2/USDT-1ec7\n",
      "[PairOptimizer.optimize] p_optimal OptimizerBase.SimpleResult(result=1881.7106081913296, method='bisection', errormsg=None, context_dct=None) full_result [-4.87489160e-10  9.16421413e-07]\n",
      "[PairOptimizer.optimize] curves_t WETH-6Cc2/USDT-1ec7\n",
      "[PairOptimizer.optimize] p_optimal OptimizerBase.SimpleResult(result=1881.710608190739, method='bisection', errormsg=None, context_dct=None) full_result [ 3.13957571e-09 -5.91576099e-06]\n",
      "[PairOptimizer.optimize] curves_t WETH-6Cc2/USDT-1ec7\n",
      "[PairOptimizer.optimize] p_optimal OptimizerBase.SimpleResult(result=1881.7106081908473, method='bisection', errormsg=None, context_dct=None) full_result [ 2.47746357e-09 -4.66406345e-06]\n",
      "[PairOptimizer.optimize] curves_t WETH-6Cc2/USDT-1ec7\n",
      "[PairOptimizer.optimize] p_optimal OptimizerBase.SimpleResult(result=1881.7106081914208, method='bisection', errormsg=None, context_dct=None) full_result [-1.04773790e-09  1.97440386e-06]\n",
      "[PairOptimizer.optimize] curves_t WETH-6Cc2/USDT-1ec7\n",
      "[PairOptimizer.optimize] p_optimal OptimizerBase.SimpleResult(result=1881.710740546815, method='bisection', errormsg=None, context_dct=None) full_result [ 1.62797420e-09 -3.52394553e-02]\n",
      "[PairOptimizer.optimize] curves_t WETH-6Cc2/USDT-1ec7\n",
      "[PairOptimizer.optimize] p_optimal OptimizerBase.SimpleResult(result=1881.7106081909023, method='bisection', errormsg=None, context_dct=None) full_result [ 2.13549356e-09 -4.02331352e-06]\n",
      "[PairOptimizer.optimize] curves_t WETH-6Cc2/USDT-1ec7\n",
      "[PairOptimizer.optimize] p_optimal OptimizerBase.SimpleResult(result=1881.7106081915688, method='bisection', errormsg=None, context_dct=None) full_result [-1.95723260e-09  3.68058681e-06]\n",
      "[PairOptimizer.optimize] curves_t WETH-6Cc2/USDT-1ec7\n",
      "[PairOptimizer.optimize] p_optimal OptimizerBase.SimpleResult(result=1881.7106081915645, method='bisection', errormsg=None, context_dct=None) full_result [-1.93176675e-09  3.63588333e-06]\n",
      "[PairOptimizer.optimize] curves_t WETH-6Cc2/USDT-1ec7\n",
      "[PairOptimizer.optimize] p_optimal OptimizerBase.SimpleResult(result=1881.7106081915751, method='bisection', errormsg=None, context_dct=None) full_result [-1.99725037e-09  3.75509262e-06]\n",
      "[PairOptimizer.optimize] curves_t WETH-6Cc2/USDT-1ec7\n",
      "[PairOptimizer.optimize] p_optimal OptimizerBase.SimpleResult(result=1881.7106081909228, method='bisection', errormsg=None, context_dct=None) full_result [ 2.01180228e-09 -3.78489494e-06]\n"
     ]
    },
    {
     "data": {
      "application/vnd.jupyter.widget-view+json": {
       "model_id": "16d0eeca3c964acb886b98549eed29e0",
       "version_major": 2,
       "version_minor": 0
      },
      "text/plain": [
       "  0%|          | 0/18 [00:00<?, ?it/s]"
      ]
     },
     "metadata": {},
     "output_type": "display_data"
    },
    {
     "name": "stdout",
     "output_type": "stream",
     "text": [
      "[PairOptimizer.optimize] curves_t WETH-6Cc2/DAI-1d0F\n",
      "[PairOptimizer.optimize] p_optimal OptimizerBase.SimpleResult(result=1889.851635528572, method='bisection', errormsg=None, context_dct=None) full_result [-5.12227416e-09  9.67085361e-06]\n",
      "[PairOptimizer.optimize] curves_t WETH-6Cc2/DAI-1d0F\n",
      "[PairOptimizer.optimize] p_optimal OptimizerBase.SimpleResult(result=1889.8516355283218, method='bisection', errormsg=None, context_dct=None) full_result [-2.50292942e-09  4.73856926e-06]\n",
      "[PairOptimizer.optimize] curves_t WETH-6Cc2/DAI-1d0F\n",
      "[PairOptimizer.optimize] p_optimal OptimizerBase.SimpleResult(result=1889.8516355280997, method='bisection', errormsg=None, context_dct=None) full_result [-1.74622983e-10  3.42726707e-07]\n",
      "[PairOptimizer.optimize] curves_t WETH-6Cc2/DAI-1d0F\n",
      "[PairOptimizer.optimize] p_optimal OptimizerBase.SimpleResult(result=1889.8516355278348, method='bisection', errormsg=None, context_dct=None) full_result [ 2.59751687e-09 -4.91738319e-06]\n",
      "[PairOptimizer.optimize] curves_t WETH-6Cc2/DAI-1d0F\n",
      "[PairOptimizer.optimize] p_optimal OptimizerBase.SimpleResult(result=1889.8516355280783, method='bisection', errormsg=None, context_dct=None) full_result [ 5.09317023e-11 -8.94069672e-08]\n",
      "[PairOptimizer.optimize] curves_t WETH-6Cc2/DAI-1d0F\n",
      "[PairOptimizer.optimize] p_optimal OptimizerBase.SimpleResult(result=1889.8516355275206, method='bisection', errormsg=None, context_dct=None) full_result [ 5.88624971e-09 -1.11311674e-05]\n",
      "[PairOptimizer.optimize] curves_t WETH-6Cc2/DAI-1d0F\n",
      "[PairOptimizer.optimize] p_optimal OptimizerBase.SimpleResult(result=1889.8516355279294, method='bisection', errormsg=None, context_dct=None) full_result [ 1.60798663e-09 -3.03983688e-06]\n",
      "[PairOptimizer.optimize] curves_t WETH-6Cc2/DAI-1d0F\n",
      "[PairOptimizer.optimize] p_optimal OptimizerBase.SimpleResult(result=1889.8516355281563, method='bisection', errormsg=None, context_dct=None) full_result [-7.71251507e-10  1.46031380e-06]\n",
      "[PairOptimizer.optimize] curves_t WETH-6Cc2/DAI-1d0F\n",
      "[PairOptimizer.optimize] p_optimal OptimizerBase.SimpleResult(result=1889.8516355283907, method='bisection', errormsg=None, context_dct=None) full_result [-3.23052518e-09  6.09457493e-06]\n",
      "[PairOptimizer.optimize] curves_t WETH-6Cc2/DAI-1d0F\n",
      "[PairOptimizer.optimize] p_optimal OptimizerBase.SimpleResult(result=1889.2342508777206, method='bisection', errormsg=None, context_dct=None) full_result [ 5.60248736e-10 -1.05053186e-06]\n",
      "[PairOptimizer.optimize] curves_t WETH-6Cc2/DAI-1d0F\n",
      "[PairOptimizer.optimize] p_optimal OptimizerBase.SimpleResult(result=1889.2342508777572, method='bisection', errormsg=None, context_dct=None) full_result [ 2.40106601e-10 -4.47034836e-07]\n",
      "[PairOptimizer.optimize] curves_t WETH-6Cc2/DAI-1d0F\n",
      "[PairOptimizer.optimize] p_optimal OptimizerBase.SimpleResult(result=1889.2342508777629, method='bisection', errormsg=None, context_dct=None) full_result [ 1.89174898e-10 -3.57627869e-07]\n",
      "[PairOptimizer.optimize] curves_t WETH-6Cc2/DAI-1d0F\n",
      "[PairOptimizer.optimize] p_optimal OptimizerBase.SimpleResult(result=1889.234250877536, method='bisection', errormsg=None, context_dct=None) full_result [ 2.15004547e-09 -4.06056643e-06]\n",
      "[PairOptimizer.optimize] curves_t WETH-6Cc2/DAI-1d0F\n",
      "[PairOptimizer.optimize] p_optimal OptimizerBase.SimpleResult(result=1889.234250876973, method='bisection', errormsg=None, context_dct=None) full_result [ 7.02129910e-09 -1.32620335e-05]\n",
      "[PairOptimizer.optimize] curves_t WETH-6Cc2/DAI-1d0F\n",
      "[PairOptimizer.optimize] p_optimal OptimizerBase.SimpleResult(result=1889.2342508772217, method='bisection', errormsg=None, context_dct=None) full_result [ 4.87125362e-09 -9.19401646e-06]\n",
      "[PairOptimizer.optimize] curves_t WETH-6Cc2/DAI-1d0F\n",
      "[PairOptimizer.optimize] p_optimal OptimizerBase.SimpleResult(result=1889.23425087766, method='bisection', errormsg=None, context_dct=None) full_result [ 1.07684173e-09 -2.03400850e-06]\n",
      "[PairOptimizer.optimize] curves_t WETH-6Cc2/DAI-1d0F\n",
      "[PairOptimizer.optimize] p_optimal OptimizerBase.SimpleResult(result=1889.234250877545, method='bisection', errormsg=None, context_dct=None) full_result [ 2.07364792e-09 -3.91155481e-06]\n",
      "[PairOptimizer.optimize] curves_t WETH-6Cc2/DAI-1d0F\n",
      "[PairOptimizer.optimize] p_optimal OptimizerBase.SimpleResult(result=1889.2342508780198, method='bisection', errormsg=None, context_dct=None) full_result [-2.02635420e-09  3.82959843e-06]\n"
     ]
    },
    {
     "data": {
      "application/vnd.jupyter.widget-view+json": {
       "model_id": "a66e82ff038c4f5cb8f90a6d987cf4c2",
       "version_major": 2,
       "version_minor": 0
      },
      "text/plain": [
       "0it [00:00, ?it/s]"
      ]
     },
     "metadata": {},
     "output_type": "display_data"
    },
    {
     "data": {
      "application/vnd.jupyter.widget-view+json": {
       "model_id": "631de7f074d14c7b9ebf8a845137da6f",
       "version_major": 2,
       "version_minor": 0
      },
      "text/plain": [
       "  0%|          | 0/2 [00:00<?, ?it/s]"
      ]
     },
     "metadata": {},
     "output_type": "display_data"
    },
    {
     "name": "stdout",
     "output_type": "stream",
     "text": [
      "[PairOptimizer.optimize] curves_t LINK-86CA/WETH-6Cc2\n",
      "[PairOptimizer.optimize] p_optimal OptimizerBase.SimpleResult(result=0.0033128000163160634, method='bisection', errormsg=None, context_dct=None) full_result [ 3.74391675e-06 -1.24127837e-08]\n",
      "[PairOptimizer.optimize] curves_t LINK-86CA/WETH-6Cc2\n",
      "[PairOptimizer.optimize] p_optimal OptimizerBase.SimpleResult(result=0.0033127999417103446, method='bisection', errormsg=None, context_dct=None) full_result [-2.84612179e-06 -2.81119865e-05]\n"
     ]
    },
    {
     "data": {
      "application/vnd.jupyter.widget-view+json": {
       "model_id": "52bd4f96fd914f5a819739ba608d1f42",
       "version_major": 2,
       "version_minor": 0
      },
      "text/plain": [
       "  0%|          | 0/2 [00:00<?, ?it/s]"
      ]
     },
     "metadata": {},
     "output_type": "display_data"
    },
    {
     "name": "stdout",
     "output_type": "stream",
     "text": [
      "[PairOptimizer.optimize] curves_t LINK-86CA/USDT-1ec7\n",
      "[PairOptimizer.optimize] p_optimal OptimizerBase.SimpleResult(result=6.19811711141325, method='bisection', errormsg=None, context_dct=None) full_result [ 6.92898627e-10 -8.85219641e-03]\n",
      "[PairOptimizer.optimize] curves_t LINK-86CA/USDT-1ec7\n",
      "[PairOptimizer.optimize] p_optimal OptimizerBase.SimpleResult(result=6.198055572670811, method='bisection', errormsg=None, context_dct=None) full_result [-4.04725142e-10  2.51020538e-09]\n"
     ]
    },
    {
     "data": {
      "application/vnd.jupyter.widget-view+json": {
       "model_id": "35888cd6fc694dc6997285063f8e2880",
       "version_major": 2,
       "version_minor": 0
      },
      "text/plain": [
       "0it [00:00, ?it/s]"
      ]
     },
     "metadata": {},
     "output_type": "display_data"
    },
    {
     "data": {
      "application/vnd.jupyter.widget-view+json": {
       "model_id": "0429628470594fb4823d5874a9765927",
       "version_major": 2,
       "version_minor": 0
      },
      "text/plain": [
       "0it [00:00, ?it/s]"
      ]
     },
     "metadata": {},
     "output_type": "display_data"
    },
    {
     "data": {
      "application/vnd.jupyter.widget-view+json": {
       "model_id": "a24c0dec749f4902950a50d855c6f4fb",
       "version_major": 2,
       "version_minor": 0
      },
      "text/plain": [
       "0it [00:00, ?it/s]"
      ]
     },
     "metadata": {},
     "output_type": "display_data"
    },
    {
     "data": {
      "application/vnd.jupyter.widget-view+json": {
       "model_id": "3a4ec06541d7487c9b99307652eb7ccc",
       "version_major": 2,
       "version_minor": 0
      },
      "text/plain": [
       "0it [00:00, ?it/s]"
      ]
     },
     "metadata": {},
     "output_type": "display_data"
    },
    {
     "data": {
      "application/vnd.jupyter.widget-view+json": {
       "model_id": "3e1135ffffdf4ccd8e06727dd1281c94",
       "version_major": 2,
       "version_minor": 0
      },
      "text/plain": [
       "0it [00:00, ?it/s]"
      ]
     },
     "metadata": {},
     "output_type": "display_data"
    },
    {
     "data": {
      "application/vnd.jupyter.widget-view+json": {
       "model_id": "7b0ce8774d3c4c0a8a8b323b5d460730",
       "version_major": 2,
       "version_minor": 0
      },
      "text/plain": [
       "  0%|          | 0/2 [00:00<?, ?it/s]"
      ]
     },
     "metadata": {},
     "output_type": "display_data"
    },
    {
     "name": "stdout",
     "output_type": "stream",
     "text": [
      "[PairOptimizer.optimize] curves_t CRV-cd52/USDC-eB48\n",
      "[PairOptimizer.optimize] p_optimal OptimizerBase.SimpleResult(result=0.7931937487429332, method='bisection', errormsg=None, context_dct=None) full_result [-2.58442014e-08 -1.90724513e-01]\n",
      "[PairOptimizer.optimize] curves_t CRV-cd52/USDC-eB48\n",
      "[PairOptimizer.optimize] p_optimal OptimizerBase.SimpleResult(result=0.7931903130686275, method='bisection', errormsg=None, context_dct=None) full_result [-2.30502337e-08  1.81607902e-08]\n"
     ]
    },
    {
     "data": {
      "application/vnd.jupyter.widget-view+json": {
       "model_id": "d945623100d24ecb83ef28cd01cbcbd9",
       "version_major": 2,
       "version_minor": 0
      },
      "text/plain": [
       "  0%|          | 0/18 [00:00<?, ?it/s]"
      ]
     },
     "metadata": {},
     "output_type": "display_data"
    },
    {
     "name": "stdout",
     "output_type": "stream",
     "text": [
      "[PairOptimizer.optimize] curves_t WETH-6Cc2/DAI-1d0F\n",
      "[PairOptimizer.optimize] p_optimal OptimizerBase.SimpleResult(result=1889.851635528572, method='bisection', errormsg=None, context_dct=None) full_result [-5.12227416e-09  9.67085361e-06]\n",
      "[PairOptimizer.optimize] curves_t WETH-6Cc2/DAI-1d0F\n",
      "[PairOptimizer.optimize] p_optimal OptimizerBase.SimpleResult(result=1889.8516355283218, method='bisection', errormsg=None, context_dct=None) full_result [-2.50292942e-09  4.73856926e-06]\n",
      "[PairOptimizer.optimize] curves_t WETH-6Cc2/DAI-1d0F\n",
      "[PairOptimizer.optimize] p_optimal OptimizerBase.SimpleResult(result=1889.8516355280997, method='bisection', errormsg=None, context_dct=None) full_result [-1.74622983e-10  3.42726707e-07]\n",
      "[PairOptimizer.optimize] curves_t WETH-6Cc2/DAI-1d0F\n",
      "[PairOptimizer.optimize] p_optimal OptimizerBase.SimpleResult(result=1889.8516355278348, method='bisection', errormsg=None, context_dct=None) full_result [ 2.59751687e-09 -4.91738319e-06]\n",
      "[PairOptimizer.optimize] curves_t WETH-6Cc2/DAI-1d0F\n",
      "[PairOptimizer.optimize] p_optimal OptimizerBase.SimpleResult(result=1889.8516355280783, method='bisection', errormsg=None, context_dct=None) full_result [ 5.09317023e-11 -8.94069672e-08]\n",
      "[PairOptimizer.optimize] curves_t WETH-6Cc2/DAI-1d0F\n",
      "[PairOptimizer.optimize] p_optimal OptimizerBase.SimpleResult(result=1889.8516355275206, method='bisection', errormsg=None, context_dct=None) full_result [ 5.88624971e-09 -1.11311674e-05]\n",
      "[PairOptimizer.optimize] curves_t WETH-6Cc2/DAI-1d0F\n",
      "[PairOptimizer.optimize] p_optimal OptimizerBase.SimpleResult(result=1889.8516355279294, method='bisection', errormsg=None, context_dct=None) full_result [ 1.60798663e-09 -3.03983688e-06]\n",
      "[PairOptimizer.optimize] curves_t WETH-6Cc2/DAI-1d0F\n",
      "[PairOptimizer.optimize] p_optimal OptimizerBase.SimpleResult(result=1889.8516355281563, method='bisection', errormsg=None, context_dct=None) full_result [-7.71251507e-10  1.46031380e-06]\n",
      "[PairOptimizer.optimize] curves_t WETH-6Cc2/DAI-1d0F\n",
      "[PairOptimizer.optimize] p_optimal OptimizerBase.SimpleResult(result=1889.8516355283907, method='bisection', errormsg=None, context_dct=None) full_result [-3.23052518e-09  6.09457493e-06]\n",
      "[PairOptimizer.optimize] curves_t WETH-6Cc2/DAI-1d0F\n",
      "[PairOptimizer.optimize] p_optimal OptimizerBase.SimpleResult(result=1889.2342508777206, method='bisection', errormsg=None, context_dct=None) full_result [ 5.60248736e-10 -1.05053186e-06]\n",
      "[PairOptimizer.optimize] curves_t WETH-6Cc2/DAI-1d0F\n",
      "[PairOptimizer.optimize] p_optimal OptimizerBase.SimpleResult(result=1889.2342508777572, method='bisection', errormsg=None, context_dct=None) full_result [ 2.40106601e-10 -4.47034836e-07]\n",
      "[PairOptimizer.optimize] curves_t WETH-6Cc2/DAI-1d0F\n",
      "[PairOptimizer.optimize] p_optimal OptimizerBase.SimpleResult(result=1889.2342508777629, method='bisection', errormsg=None, context_dct=None) full_result [ 1.89174898e-10 -3.57627869e-07]\n",
      "[PairOptimizer.optimize] curves_t WETH-6Cc2/DAI-1d0F\n",
      "[PairOptimizer.optimize] p_optimal OptimizerBase.SimpleResult(result=1889.234250877536, method='bisection', errormsg=None, context_dct=None) full_result [ 2.15004547e-09 -4.06056643e-06]\n",
      "[PairOptimizer.optimize] curves_t WETH-6Cc2/DAI-1d0F\n",
      "[PairOptimizer.optimize] p_optimal OptimizerBase.SimpleResult(result=1889.234250876973, method='bisection', errormsg=None, context_dct=None) full_result [ 7.02129910e-09 -1.32620335e-05]\n",
      "[PairOptimizer.optimize] curves_t WETH-6Cc2/DAI-1d0F\n",
      "[PairOptimizer.optimize] p_optimal OptimizerBase.SimpleResult(result=1889.2342508772217, method='bisection', errormsg=None, context_dct=None) full_result [ 4.87125362e-09 -9.19401646e-06]\n",
      "[PairOptimizer.optimize] curves_t WETH-6Cc2/DAI-1d0F\n",
      "[PairOptimizer.optimize] p_optimal OptimizerBase.SimpleResult(result=1889.23425087766, method='bisection', errormsg=None, context_dct=None) full_result [ 1.07684173e-09 -2.03400850e-06]\n",
      "[PairOptimizer.optimize] curves_t WETH-6Cc2/DAI-1d0F\n",
      "[PairOptimizer.optimize] p_optimal OptimizerBase.SimpleResult(result=1889.234250877545, method='bisection', errormsg=None, context_dct=None) full_result [ 2.07364792e-09 -3.91155481e-06]\n",
      "[PairOptimizer.optimize] curves_t WETH-6Cc2/DAI-1d0F\n",
      "[PairOptimizer.optimize] p_optimal OptimizerBase.SimpleResult(result=1889.2342508780198, method='bisection', errormsg=None, context_dct=None) full_result [-2.02635420e-09  3.82959843e-06]\n"
     ]
    },
    {
     "data": {
      "application/vnd.jupyter.widget-view+json": {
       "model_id": "00ed5a7c06114b7882739340b6fce8ee",
       "version_major": 2,
       "version_minor": 0
      },
      "text/plain": [
       "  0%|          | 0/4 [00:00<?, ?it/s]"
      ]
     },
     "metadata": {},
     "output_type": "display_data"
    },
    {
     "name": "stdout",
     "output_type": "stream",
     "text": [
      "[PairOptimizer.optimize] curves_t DAI-1d0F/USDC-eB48\n",
      "[PairOptimizer.optimize] p_optimal OptimizerBase.SimpleResult(result=1.0003813756302735, method='bisection', errormsg=None, context_dct=None) full_result [ 0.00042725 -0.00042725]\n",
      "[PairOptimizer.optimize] curves_t DAI-1d0F/USDC-eB48\n",
      "[PairOptimizer.optimize] p_optimal OptimizerBase.SimpleResult(result=1.000381375630044, method='bisection', errormsg=None, context_dct=None) full_result [ 0.00753784 -0.00754547]\n",
      "[PairOptimizer.optimize] curves_t DAI-1d0F/USDC-eB48\n",
      "[PairOptimizer.optimize] p_optimal OptimizerBase.SimpleResult(result=0.999979963573878, method='bisection', errormsg=None, context_dct=None) full_result [ 0.02416992 -0.02410889]\n",
      "[PairOptimizer.optimize] curves_t DAI-1d0F/USDC-eB48\n",
      "[PairOptimizer.optimize] p_optimal OptimizerBase.SimpleResult(result=0.999979963573925, method='bisection', errormsg=None, context_dct=None) full_result [ 0.01159668 -0.01153564]\n"
     ]
    },
    {
     "data": {
      "application/vnd.jupyter.widget-view+json": {
       "model_id": "24894ef6a2f24276837662f6c7ca6c23",
       "version_major": 2,
       "version_minor": 0
      },
      "text/plain": [
       "  0%|          | 0/4 [00:00<?, ?it/s]"
      ]
     },
     "metadata": {},
     "output_type": "display_data"
    },
    {
     "name": "stdout",
     "output_type": "stream",
     "text": [
      "[PairOptimizer.optimize] curves_t DAI-1d0F/USDT-1ec7\n",
      "[PairOptimizer.optimize] p_optimal OptimizerBase.SimpleResult(result=0.9998810288348383, method='bisection', errormsg=None, context_dct=None) full_result [-0.00010109  0.00010061]\n",
      "[PairOptimizer.optimize] curves_t DAI-1d0F/USDT-1ec7\n",
      "[PairOptimizer.optimize] p_optimal OptimizerBase.SimpleResult(result=0.9998810288345285, method='bisection', errormsg=None, context_dct=None) full_result [ 0.00048351 -0.00048351]\n",
      "[PairOptimizer.optimize] curves_t DAI-1d0F/USDT-1ec7\n",
      "[PairOptimizer.optimize] p_optimal OptimizerBase.SimpleResult(result=1.0000277727934523, method='bisection', errormsg=None, context_dct=None) full_result [-4.46438789e-05  4.47034836e-05]\n",
      "[PairOptimizer.optimize] curves_t DAI-1d0F/USDT-1ec7\n",
      "[PairOptimizer.optimize] p_optimal OptimizerBase.SimpleResult(result=1.000027772793279, method='bisection', errormsg=None, context_dct=None) full_result [-1.69277191e-05  1.69873238e-05]\n"
     ]
    },
    {
     "data": {
      "application/vnd.jupyter.widget-view+json": {
       "model_id": "70b904e27bd3447392abb381f4e98d4a",
       "version_major": 2,
       "version_minor": 0
      },
      "text/plain": [
       "0it [00:00, ?it/s]"
      ]
     },
     "metadata": {},
     "output_type": "display_data"
    },
    {
     "data": {
      "application/vnd.jupyter.widget-view+json": {
       "model_id": "9c1c4d9a0f1d4b2db053030084830647",
       "version_major": 2,
       "version_minor": 0
      },
      "text/plain": [
       "0it [00:00, ?it/s]"
      ]
     },
     "metadata": {},
     "output_type": "display_data"
    },
    {
     "data": {
      "application/vnd.jupyter.widget-view+json": {
       "model_id": "597bef48d9e744b5a0d8a07b3babc57a",
       "version_major": 2,
       "version_minor": 0
      },
      "text/plain": [
       "0it [00:00, ?it/s]"
      ]
     },
     "metadata": {},
     "output_type": "display_data"
    },
    {
     "data": {
      "application/vnd.jupyter.widget-view+json": {
       "model_id": "a690326406e348a9a903e00d74f84d1c",
       "version_major": 2,
       "version_minor": 0
      },
      "text/plain": [
       "0it [00:00, ?it/s]"
      ]
     },
     "metadata": {},
     "output_type": "display_data"
    },
    {
     "data": {
      "application/vnd.jupyter.widget-view+json": {
       "model_id": "9b14c1eb7df84843a95caf919cacd106",
       "version_major": 2,
       "version_minor": 0
      },
      "text/plain": [
       "0it [00:00, ?it/s]"
      ]
     },
     "metadata": {},
     "output_type": "display_data"
    },
    {
     "data": {
      "application/vnd.jupyter.widget-view+json": {
       "model_id": "5526f9e259c147c188ccd3ae465cce7d",
       "version_major": 2,
       "version_minor": 0
      },
      "text/plain": [
       "0it [00:00, ?it/s]"
      ]
     },
     "metadata": {},
     "output_type": "display_data"
    },
    {
     "data": {
      "application/vnd.jupyter.widget-view+json": {
       "model_id": "e424c231035747449f0f89d6b3df6477",
       "version_major": 2,
       "version_minor": 0
      },
      "text/plain": [
       "  0%|          | 0/54 [00:00<?, ?it/s]"
      ]
     },
     "metadata": {},
     "output_type": "display_data"
    },
    {
     "name": "stdout",
     "output_type": "stream",
     "text": [
      "[PairOptimizer.optimize] curves_t WETH-6Cc2/USDC-eB48\n",
      "[PairOptimizer.optimize] p_optimal OptimizerBase.SimpleResult(result=1888.9922146301515, method='bisection', errormsg=None, context_dct=None) full_result [-4.74392436e-09  8.94069672e-06]\n",
      "[PairOptimizer.optimize] curves_t WETH-6Cc2/USDC-eB48\n",
      "[PairOptimizer.optimize] p_optimal OptimizerBase.SimpleResult(result=1888.992214629935, method='bisection', errormsg=None, context_dct=None) full_result [ 5.41331246e-09 -1.02519989e-05]\n",
      "[PairOptimizer.optimize] curves_t WETH-6Cc2/USDC-eB48\n",
      "[PairOptimizer.optimize] p_optimal OptimizerBase.SimpleResult(result=1888.9922146308772, method='bisection', errormsg=None, context_dct=None) full_result [-3.87663022e-08  7.32541084e-05]\n",
      "[PairOptimizer.optimize] curves_t WETH-6Cc2/USDC-eB48\n",
      "[PairOptimizer.optimize] p_optimal OptimizerBase.SimpleResult(result=1888.9922146296476, method='bisection', errormsg=None, context_dct=None) full_result [ 1.88883860e-08 -3.56435776e-05]\n",
      "[PairOptimizer.optimize] curves_t WETH-6Cc2/USDC-eB48\n",
      "[PairOptimizer.optimize] p_optimal OptimizerBase.SimpleResult(result=1888.992214630152, method='bisection', errormsg=None, context_dct=None) full_result [-4.74392436e-09  8.94069672e-06]\n",
      "[PairOptimizer.optimize] curves_t WETH-6Cc2/USDC-eB48\n",
      "[PairOptimizer.optimize] p_optimal OptimizerBase.SimpleResult(result=1888.9922146300873, method='bisection', errormsg=None, context_dct=None) full_result [-1.71712600e-09  3.27825546e-06]\n",
      "[PairOptimizer.optimize] curves_t WETH-6Cc2/USDC-eB48\n",
      "[PairOptimizer.optimize] p_optimal OptimizerBase.SimpleResult(result=1888.9922146304884, method='bisection', errormsg=None, context_dct=None) full_result [-2.05182005e-08  3.88026237e-05]\n",
      "[PairOptimizer.optimize] curves_t WETH-6Cc2/USDC-eB48\n",
      "[PairOptimizer.optimize] p_optimal OptimizerBase.SimpleResult(result=1888.9922146299593, method='bisection', errormsg=None, context_dct=None) full_result [ 4.30736691e-09 -8.10623169e-06]\n",
      "[PairOptimizer.optimize] curves_t WETH-6Cc2/USDC-eB48\n",
      "[PairOptimizer.optimize] p_optimal OptimizerBase.SimpleResult(result=1888.992214629823, method='bisection', errormsg=None, context_dct=None) full_result [ 1.06811058e-08 -2.01463699e-05]\n",
      "[PairOptimizer.optimize] curves_t WETH-6Cc2/USDC-eB48\n",
      "[PairOptimizer.optimize] p_optimal OptimizerBase.SimpleResult(result=1888.9922146295216, method='bisection', errormsg=None, context_dct=None) full_result [ 2.48255674e-08 -4.68492508e-05]\n",
      "[PairOptimizer.optimize] curves_t WETH-6Cc2/USDC-eB48\n",
      "[PairOptimizer.optimize] p_optimal OptimizerBase.SimpleResult(result=1888.992214630285, method='bisection', errormsg=None, context_dct=None) full_result [-1.09721441e-08  2.07424164e-05]\n",
      "[PairOptimizer.optimize] curves_t WETH-6Cc2/USDC-eB48\n",
      "[PairOptimizer.optimize] p_optimal OptimizerBase.SimpleResult(result=1888.992214630096, method='bisection', errormsg=None, context_dct=None) full_result [-2.12457962e-09  4.05311584e-06]\n",
      "[PairOptimizer.optimize] curves_t WETH-6Cc2/USDC-eB48\n",
      "[PairOptimizer.optimize] p_optimal OptimizerBase.SimpleResult(result=1888.9922146296672, method='bisection', errormsg=None, context_dct=None) full_result [ 1.79861672e-08 -3.39150429e-05]\n",
      "[PairOptimizer.optimize] curves_t WETH-6Cc2/USDC-eB48\n",
      "[PairOptimizer.optimize] p_optimal OptimizerBase.SimpleResult(result=1888.992214630273, method='bisection', errormsg=None, context_dct=None) full_result [-1.04482751e-08  1.97291374e-05]\n",
      "[PairOptimizer.optimize] curves_t WETH-6Cc2/USDC-eB48\n",
      "[PairOptimizer.optimize] p_optimal OptimizerBase.SimpleResult(result=1888.992214630557, method='bisection', errormsg=None, context_dct=None) full_result [-2.37487257e-08  4.48822975e-05]\n",
      "[PairOptimizer.optimize] curves_t WETH-6Cc2/USDC-eB48\n",
      "[PairOptimizer.optimize] p_optimal OptimizerBase.SimpleResult(result=1888.9922146305262, method='bisection', errormsg=None, context_dct=None) full_result [-2.23226380e-08  4.21404839e-05]\n",
      "[PairOptimizer.optimize] curves_t WETH-6Cc2/USDC-eB48\n",
      "[PairOptimizer.optimize] p_optimal OptimizerBase.SimpleResult(result=1888.9922146295794, method='bisection', errormsg=None, context_dct=None) full_result [ 2.21189111e-08 -4.17828560e-05]\n",
      "[PairOptimizer.optimize] curves_t WETH-6Cc2/USDC-eB48\n",
      "[PairOptimizer.optimize] p_optimal OptimizerBase.SimpleResult(result=1888.9922146299941, method='bisection', errormsg=None, context_dct=None) full_result [ 2.67755240e-09 -5.00679016e-06]\n",
      "[PairOptimizer.optimize] curves_t WETH-6Cc2/USDC-eB48\n",
      "[PairOptimizer.optimize] p_optimal OptimizerBase.SimpleResult(result=1888.9922146298563, method='bisection', errormsg=None, context_dct=None) full_result [ 9.10949893e-09 -1.71661377e-05]\n",
      "[PairOptimizer.optimize] curves_t WETH-6Cc2/USDC-eB48\n",
      "[PairOptimizer.optimize] p_optimal OptimizerBase.SimpleResult(result=1888.9922146307526, method='bisection', errormsg=None, context_dct=None) full_result [-3.29164322e-08  6.21676445e-05]\n",
      "[PairOptimizer.optimize] curves_t WETH-6Cc2/USDC-eB48\n",
      "[PairOptimizer.optimize] p_optimal OptimizerBase.SimpleResult(result=1888.9922146292975, method='bisection', errormsg=None, context_dct=None) full_result [ 3.53029463e-08 -6.66975975e-05]\n",
      "[PairOptimizer.optimize] curves_t WETH-6Cc2/USDC-eB48\n",
      "[PairOptimizer.optimize] p_optimal OptimizerBase.SimpleResult(result=1888.9922146298, method='bisection', errormsg=None, context_dct=None) full_result [ 1.17870513e-08 -2.22325325e-05]\n",
      "[PairOptimizer.optimize] curves_t WETH-6Cc2/USDC-eB48\n",
      "[PairOptimizer.optimize] p_optimal OptimizerBase.SimpleResult(result=1888.9922146296672, method='bisection', errormsg=None, context_dct=None) full_result [ 1.79861672e-08 -3.39150429e-05]\n",
      "[PairOptimizer.optimize] curves_t WETH-6Cc2/USDC-eB48\n",
      "[PairOptimizer.optimize] p_optimal OptimizerBase.SimpleResult(result=1888.9922146300303, method='bisection', errormsg=None, context_dct=None) full_result [ 9.60426405e-10 -1.78813934e-06]\n",
      "[PairOptimizer.optimize] curves_t WETH-6Cc2/USDC-eB48\n",
      "[PairOptimizer.optimize] p_optimal OptimizerBase.SimpleResult(result=1888.9922050247133, method='bisection', errormsg=None, context_dct=None) full_result [-2.22406434e-05 -5.32008708e-05]\n",
      "[PairOptimizer.optimize] curves_t WETH-6Cc2/USDC-eB48\n",
      "[PairOptimizer.optimize] p_optimal OptimizerBase.SimpleResult(result=1888.9922146306424, method='bisection', errormsg=None, context_dct=None) full_result [-2.77650543e-08  5.24520874e-05]\n",
      "[PairOptimizer.optimize] curves_t WETH-6Cc2/USDC-eB48\n",
      "[PairOptimizer.optimize] p_optimal OptimizerBase.SimpleResult(result=1888.9922146304034, method='bisection', errormsg=None, context_dct=None) full_result [-1.65309757e-08  3.12328339e-05]\n",
      "[PairOptimizer.optimize] curves_t WETH-6Cc2/USDC-eB48\n",
      "[PairOptimizer.optimize] p_optimal OptimizerBase.SimpleResult(result=1888.9922146305626, method='bisection', errormsg=None, context_dct=None) full_result [-2.40106601e-08  4.54187393e-05]\n",
      "[PairOptimizer.optimize] curves_t WETH-6Cc2/USDC-eB48\n",
      "[PairOptimizer.optimize] p_optimal OptimizerBase.SimpleResult(result=1888.992214630815, method='bisection', errormsg=None, context_dct=None) full_result [-3.58268153e-08  6.77108765e-05]\n",
      "[PairOptimizer.optimize] curves_t WETH-6Cc2/USDC-eB48\n",
      "[PairOptimizer.optimize] p_optimal OptimizerBase.SimpleResult(result=1888.9922146306358, method='bisection', errormsg=None, context_dct=None) full_result [-2.74449121e-08  5.18560410e-05]\n",
      "[PairOptimizer.optimize] curves_t WETH-6Cc2/USDC-eB48\n",
      "[PairOptimizer.optimize] p_optimal OptimizerBase.SimpleResult(result=1888.9922146295798, method='bisection', errormsg=None, context_dct=None) full_result [ 2.20607035e-08 -4.16636467e-05]\n",
      "[PairOptimizer.optimize] curves_t WETH-6Cc2/USDC-eB48\n",
      "[PairOptimizer.optimize] p_optimal OptimizerBase.SimpleResult(result=1888.9922146296767, method='bisection', errormsg=None, context_dct=None) full_result [ 1.75496098e-08 -3.31401825e-05]\n",
      "[PairOptimizer.optimize] curves_t WETH-6Cc2/USDC-eB48\n",
      "[PairOptimizer.optimize] p_optimal OptimizerBase.SimpleResult(result=1888.992214630015, method='bisection', errormsg=None, context_dct=None) full_result [ 1.68802217e-09 -3.15904617e-06]\n",
      "[PairOptimizer.optimize] curves_t WETH-6Cc2/USDC-eB48\n",
      "[PairOptimizer.optimize] p_optimal OptimizerBase.SimpleResult(result=1888.9922146301515, method='bisection', errormsg=None, context_dct=None) full_result [-4.74392436e-09  8.94069672e-06]\n",
      "[PairOptimizer.optimize] curves_t WETH-6Cc2/USDC-eB48\n",
      "[PairOptimizer.optimize] p_optimal OptimizerBase.SimpleResult(result=1888.9922146304305, method='bisection', errormsg=None, context_dct=None) full_result [-1.77824404e-08  3.36170197e-05]\n",
      "[PairOptimizer.optimize] curves_t WETH-6Cc2/USDC-eB48\n",
      "[PairOptimizer.optimize] p_optimal OptimizerBase.SimpleResult(result=1888.9922146295005, method='bisection', errormsg=None, context_dct=None) full_result [ 2.53922954e-08 -4.79870996e-05]\n",
      "[PairOptimizer.optimize] curves_t WETH-6Cc2/USDC-eB48\n",
      "[PairOptimizer.optimize] p_optimal OptimizerBase.SimpleResult(result=1888.9922146295216, method='bisection', errormsg=None, context_dct=None) full_result [ 2.48255674e-08 -4.68492508e-05]\n",
      "[PairOptimizer.optimize] curves_t WETH-6Cc2/USDC-eB48\n",
      "[PairOptimizer.optimize] p_optimal OptimizerBase.SimpleResult(result=1888.9922146296672, method='bisection', errormsg=None, context_dct=None) full_result [ 1.79861672e-08 -3.39150429e-05]\n",
      "[PairOptimizer.optimize] curves_t WETH-6Cc2/USDC-eB48\n",
      "[PairOptimizer.optimize] p_optimal OptimizerBase.SimpleResult(result=1888.9922146306121, method='bisection', errormsg=None, context_dct=None) full_result [-2.63389666e-08  4.97698784e-05]\n",
      "[PairOptimizer.optimize] curves_t WETH-6Cc2/USDC-eB48\n",
      "[PairOptimizer.optimize] p_optimal OptimizerBase.SimpleResult(result=1888.9922146306424, method='bisection', errormsg=None, context_dct=None) full_result [-2.77650543e-08  5.24520874e-05]\n",
      "[PairOptimizer.optimize] curves_t WETH-6Cc2/USDC-eB48\n",
      "[PairOptimizer.optimize] p_optimal OptimizerBase.SimpleResult(result=1888.99221463018, method='bisection', errormsg=None, context_dct=None) full_result [-6.05359674e-09  1.15036964e-05]\n",
      "[PairOptimizer.optimize] curves_t WETH-6Cc2/USDC-eB48\n",
      "[PairOptimizer.optimize] p_optimal OptimizerBase.SimpleResult(result=1888.9922146308115, method='bisection', errormsg=None, context_dct=None) full_result [-3.56812961e-08  6.74128532e-05]\n",
      "[PairOptimizer.optimize] curves_t WETH-6Cc2/USDC-eB48\n",
      "[PairOptimizer.optimize] p_optimal OptimizerBase.SimpleResult(result=1888.9922146302497, method='bisection', errormsg=None, context_dct=None) full_result [-9.31322575e-09  1.76429749e-05]\n",
      "[PairOptimizer.optimize] curves_t WETH-6Cc2/USDC-eB48\n",
      "[PairOptimizer.optimize] p_optimal OptimizerBase.SimpleResult(result=1888.9922146300873, method='bisection', errormsg=None, context_dct=None) full_result [-1.71712600e-09  3.27825546e-06]\n",
      "[PairOptimizer.optimize] curves_t WETH-6Cc2/USDC-eB48\n",
      "[PairOptimizer.optimize] p_optimal OptimizerBase.SimpleResult(result=1888.9922146298663, method='bisection', errormsg=None, context_dct=None) full_result [ 8.64383765e-09 -1.63316727e-05]\n",
      "[PairOptimizer.optimize] curves_t WETH-6Cc2/USDC-eB48\n",
      "[PairOptimizer.optimize] p_optimal OptimizerBase.SimpleResult(result=1888.9922146297727, method='bisection', errormsg=None, context_dct=None) full_result [ 1.30385160e-08 -2.46167183e-05]\n",
      "[PairOptimizer.optimize] curves_t WETH-6Cc2/USDC-eB48\n",
      "[PairOptimizer.optimize] p_optimal OptimizerBase.SimpleResult(result=1888.9922146295776, method='bisection', errormsg=None, context_dct=None) full_result [ 2.21771188e-08 -4.18424606e-05]\n",
      "[PairOptimizer.optimize] curves_t WETH-6Cc2/USDC-eB48\n",
      "[PairOptimizer.optimize] p_optimal OptimizerBase.SimpleResult(result=1888.9922146300873, method='bisection', errormsg=None, context_dct=None) full_result [-1.71712600e-09  3.27825546e-06]\n",
      "[PairOptimizer.optimize] curves_t WETH-6Cc2/USDC-eB48\n",
      "[PairOptimizer.optimize] p_optimal OptimizerBase.SimpleResult(result=1888.9922146295798, method='bisection', errormsg=None, context_dct=None) full_result [ 2.20607035e-08 -4.16636467e-05]\n",
      "[PairOptimizer.optimize] curves_t WETH-6Cc2/USDC-eB48\n",
      "[PairOptimizer.optimize] p_optimal OptimizerBase.SimpleResult(result=1888.9922146299475, method='bisection', errormsg=None, context_dct=None) full_result [ 4.83123586e-09 -9.11951065e-06]\n",
      "[PairOptimizer.optimize] curves_t WETH-6Cc2/USDC-eB48\n",
      "[PairOptimizer.optimize] p_optimal OptimizerBase.SimpleResult(result=1888.9922146300873, method='bisection', errormsg=None, context_dct=None) full_result [-1.71712600e-09  3.27825546e-06]\n",
      "[PairOptimizer.optimize] curves_t WETH-6Cc2/USDC-eB48\n",
      "[PairOptimizer.optimize] p_optimal OptimizerBase.SimpleResult(result=1888.9922146306799, method='bisection', errormsg=None, context_dct=None) full_result [-2.94821803e-08  5.57303429e-05]\n",
      "[PairOptimizer.optimize] curves_t WETH-6Cc2/USDC-eB48\n",
      "[PairOptimizer.optimize] p_optimal OptimizerBase.SimpleResult(result=1888.9922146300873, method='bisection', errormsg=None, context_dct=None) full_result [-1.71712600e-09  3.27825546e-06]\n",
      "[PairOptimizer.optimize] curves_t WETH-6Cc2/USDC-eB48\n",
      "[PairOptimizer.optimize] p_optimal OptimizerBase.SimpleResult(result=1888.992214629823, method='bisection', errormsg=None, context_dct=None) full_result [ 1.06811058e-08 -2.01463699e-05]\n"
     ]
    },
    {
     "data": {
      "application/vnd.jupyter.widget-view+json": {
       "model_id": "edb3dd50ca9b4a1887ebccab9dd0deb2",
       "version_major": 2,
       "version_minor": 0
      },
      "text/plain": [
       "  0%|          | 0/6 [00:00<?, ?it/s]"
      ]
     },
     "metadata": {},
     "output_type": "display_data"
    },
    {
     "name": "stdout",
     "output_type": "stream",
     "text": [
      "[PairOptimizer.optimize] curves_t BNT-FF1C/USDC-eB48\n",
      "[PairOptimizer.optimize] p_optimal OptimizerBase.SimpleResult(result=0.3933388484434187, method='bisection', errormsg=None, context_dct=None) full_result [ 2.20257789e-07 -8.66129994e-08]\n",
      "[PairOptimizer.optimize] curves_t BNT-FF1C/USDC-eB48\n",
      "[PairOptimizer.optimize] p_optimal OptimizerBase.SimpleResult(result=0.3933388484435465, method='bisection', errormsg=None, context_dct=None) full_result [-2.22586095e-07  8.75443220e-08]\n",
      "[PairOptimizer.optimize] curves_t BNT-FF1C/USDC-eB48\n",
      "[PairOptimizer.optimize] p_optimal OptimizerBase.SimpleResult(result=0.3933388484434076, method='bisection', errormsg=None, context_dct=None) full_result [ 2.58907676e-07 -1.01746991e-07]\n",
      "[PairOptimizer.optimize] curves_t BNT-FF1C/USDC-eB48\n",
      "[PairOptimizer.optimize] p_optimal OptimizerBase.SimpleResult(result=0.39333884844358136, method='bisection', errormsg=None, context_dct=None) full_result [-3.43192369e-07  1.35041773e-07]\n",
      "[PairOptimizer.optimize] curves_t BNT-FF1C/USDC-eB48\n",
      "[PairOptimizer.optimize] p_optimal OptimizerBase.SimpleResult(result=0.39333799529472413, method='bisection', errormsg=None, context_dct=None) full_result [-2.53014131e-02 -3.07336450e-08]\n",
      "[PairOptimizer.optimize] curves_t BNT-FF1C/USDC-eB48\n",
      "[PairOptimizer.optimize] p_optimal OptimizerBase.SimpleResult(result=0.3933388484434884, method='bisection', errormsg=None, context_dct=None) full_result [-2.09547579e-08  8.14907253e-09]\n"
     ]
    },
    {
     "data": {
      "application/vnd.jupyter.widget-view+json": {
       "model_id": "e545c08a45754c8589bffa3aac436cf9",
       "version_major": 2,
       "version_minor": 0
      },
      "text/plain": [
       "  0%|          | 0/16 [00:00<?, ?it/s]"
      ]
     },
     "metadata": {},
     "output_type": "display_data"
    },
    {
     "name": "stdout",
     "output_type": "stream",
     "text": [
      "[PairOptimizer.optimize] curves_t WBTC-C599/USDC-eB48\n",
      "[PairOptimizer.optimize] p_optimal OptimizerBase.SimpleResult(result=30709.171178589037, method='bisection', errormsg=None, context_dct=None) full_result [ 3.52997631e-11 -1.08499080e-06]\n",
      "[PairOptimizer.optimize] curves_t WBTC-C599/USDC-eB48\n",
      "[PairOptimizer.optimize] p_optimal OptimizerBase.SimpleResult(result=30709.17117859955, method='bisection', errormsg=None, context_dct=None) full_result [-1.14255272e-11  3.50177288e-07]\n",
      "[PairOptimizer.optimize] curves_t WBTC-C599/USDC-eB48\n",
      "[PairOptimizer.optimize] p_optimal OptimizerBase.SimpleResult(result=30709.17117859282, method='bisection', errormsg=None, context_dct=None) full_result [ 1.85309545e-11 -5.69969416e-07]\n",
      "[PairOptimizer.optimize] curves_t WBTC-C599/USDC-eB48\n",
      "[PairOptimizer.optimize] p_optimal OptimizerBase.SimpleResult(result=30709.17117859589, method='bisection', errormsg=None, context_dct=None) full_result [ 4.83169060e-12 -1.49011612e-07]\n",
      "[PairOptimizer.optimize] curves_t WBTC-C599/USDC-eB48\n",
      "[PairOptimizer.optimize] p_optimal OptimizerBase.SimpleResult(result=30709.17117859447, method='bisection', errormsg=None, context_dct=None) full_result [ 1.11413101e-11 -3.43658030e-07]\n",
      "[PairOptimizer.optimize] curves_t WBTC-C599/USDC-eB48\n",
      "[PairOptimizer.optimize] p_optimal OptimizerBase.SimpleResult(result=30709.171178601522, method='bisection', errormsg=None, context_dct=None) full_result [-2.01794137e-11  6.19329512e-07]\n",
      "[PairOptimizer.optimize] curves_t WBTC-C599/USDC-eB48\n",
      "[PairOptimizer.optimize] p_optimal OptimizerBase.SimpleResult(result=30708.392805080344, method='bisection', errormsg=None, context_dct=None) full_result [-2.90562225e-05 -3.77116521e-07]\n",
      "[PairOptimizer.optimize] curves_t WBTC-C599/USDC-eB48\n",
      "[PairOptimizer.optimize] p_optimal OptimizerBase.SimpleResult(result=30709.171178605357, method='bisection', errormsg=None, context_dct=None) full_result [-3.72324394e-11  1.14273280e-06]\n",
      "[PairOptimizer.optimize] curves_t WBTC-C599/USDC-eB48\n",
      "[PairOptimizer.optimize] p_optimal OptimizerBase.SimpleResult(result=30681.192450067927, method='bisection', errormsg=None, context_dct=None) full_result [ 5.82986104e-10 -1.79111958e-05]\n",
      "[PairOptimizer.optimize] curves_t WBTC-C599/USDC-eB48\n",
      "[PairOptimizer.optimize] p_optimal OptimizerBase.SimpleResult(result=30681.192450086935, method='bisection', errormsg=None, context_dct=None) full_result [-8.64019967e-10  2.64942646e-05]\n",
      "[PairOptimizer.optimize] curves_t WBTC-C599/USDC-eB48\n",
      "[PairOptimizer.optimize] p_optimal OptimizerBase.SimpleResult(result=30681.192450084593, method='bisection', errormsg=None, context_dct=None) full_result [-6.85759005e-10  2.10106373e-05]\n",
      "[PairOptimizer.optimize] curves_t WBTC-C599/USDC-eB48\n",
      "[PairOptimizer.optimize] p_optimal OptimizerBase.SimpleResult(result=30681.192450076273, method='bisection', errormsg=None, context_dct=None) full_result [-5.27506927e-11  1.57952309e-06]\n",
      "[PairOptimizer.optimize] curves_t WBTC-C599/USDC-eB48\n",
      "[PairOptimizer.optimize] p_optimal OptimizerBase.SimpleResult(result=30681.19245007934, method='bisection', errormsg=None, context_dct=None) full_result [-2.85581336e-10  8.73208046e-06]\n",
      "[PairOptimizer.optimize] curves_t WBTC-C599/USDC-eB48\n",
      "[PairOptimizer.optimize] p_optimal OptimizerBase.SimpleResult(result=30681.192450081726, method='bisection', errormsg=None, context_dct=None) full_result [-4.67480277e-10  1.43349171e-05]\n",
      "[PairOptimizer.optimize] curves_t WBTC-C599/USDC-eB48\n",
      "[PairOptimizer.optimize] p_optimal OptimizerBase.SimpleResult(result=30681.149356572678, method='bisection', errormsg=None, context_dct=None) full_result [-2.60230975e-05 -4.86961289e-06]\n",
      "[PairOptimizer.optimize] curves_t WBTC-C599/USDC-eB48\n",
      "[PairOptimizer.optimize] p_optimal OptimizerBase.SimpleResult(result=30681.192450076527, method='bisection', errormsg=None, context_dct=None) full_result [-7.18500814e-11  2.17556953e-06]\n"
     ]
    },
    {
     "data": {
      "application/vnd.jupyter.widget-view+json": {
       "model_id": "b51b477779a54d9181898f36ba7c56cb",
       "version_major": 2,
       "version_minor": 0
      },
      "text/plain": [
       "  0%|          | 0/10 [00:00<?, ?it/s]"
      ]
     },
     "metadata": {},
     "output_type": "display_data"
    },
    {
     "name": "stdout",
     "output_type": "stream",
     "text": [
      "[PairOptimizer.optimize] curves_t USDT-1ec7/USDC-eB48\n",
      "[PairOptimizer.optimize] p_optimal OptimizerBase.SimpleResult(result=1.0000207903769063, method='bisection', errormsg=None, context_dct=None) full_result [-0.0647583  0.0647583]\n",
      "[PairOptimizer.optimize] curves_t USDT-1ec7/USDC-eB48\n",
      "[PairOptimizer.optimize] p_optimal OptimizerBase.SimpleResult(result=1.000020790376823, method='bisection', errormsg=None, context_dct=None) full_result [-0.04290771  0.04290771]\n",
      "[PairOptimizer.optimize] curves_t USDT-1ec7/USDC-eB48\n",
      "[PairOptimizer.optimize] p_optimal OptimizerBase.SimpleResult(result=1.0000207903767104, method='bisection', errormsg=None, context_dct=None) full_result [-0.01342773  0.01342773]\n",
      "[PairOptimizer.optimize] curves_t USDT-1ec7/USDC-eB48\n",
      "[PairOptimizer.optimize] p_optimal OptimizerBase.SimpleResult(result=1.0000207916536292, method='bisection', errormsg=None, context_dct=None) full_result [-0.1512453   0.03923975]\n",
      "[PairOptimizer.optimize] curves_t USDT-1ec7/USDC-eB48\n",
      "[PairOptimizer.optimize] p_optimal OptimizerBase.SimpleResult(result=1.0000207903766147, method='bisection', errormsg=None, context_dct=None) full_result [ 0.01165771 -0.01165771]\n",
      "[PairOptimizer.optimize] curves_t USDT-1ec7/USDC-eB48\n",
      "[PairOptimizer.optimize] p_optimal OptimizerBase.SimpleResult(result=0.9999812258712628, method='bisection', errormsg=None, context_dct=None) full_result [-0.0002017  0.0002017]\n",
      "[PairOptimizer.optimize] curves_t USDT-1ec7/USDC-eB48\n",
      "[PairOptimizer.optimize] p_optimal OptimizerBase.SimpleResult(result=0.9999812258711138, method='bisection', errormsg=None, context_dct=None) full_result [ 9.67979431e-05 -9.67979431e-05]\n",
      "[PairOptimizer.optimize] curves_t USDT-1ec7/USDC-eB48\n",
      "[PairOptimizer.optimize] p_optimal OptimizerBase.SimpleResult(result=0.9999812258708753, method='bisection', errormsg=None, context_dct=None) full_result [ 0.00057364 -0.00057364]\n",
      "[PairOptimizer.optimize] curves_t USDT-1ec7/USDC-eB48\n",
      "[PairOptimizer.optimize] p_optimal OptimizerBase.SimpleResult(result=0.9999814030034596, method='bisection', errormsg=None, context_dct=None) full_result [-0.12507511 -0.00053189]\n",
      "[PairOptimizer.optimize] curves_t USDT-1ec7/USDC-eB48\n",
      "[PairOptimizer.optimize] p_optimal OptimizerBase.SimpleResult(result=0.9999812258710422, method='bisection', errormsg=None, context_dct=None) full_result [ 0.00023985 -0.00023985]\n"
     ]
    },
    {
     "data": {
      "application/vnd.jupyter.widget-view+json": {
       "model_id": "5fc1332c9caa4063b73443c42af1f3e4",
       "version_major": 2,
       "version_minor": 0
      },
      "text/plain": [
       "  0%|          | 0/4 [00:00<?, ?it/s]"
      ]
     },
     "metadata": {},
     "output_type": "display_data"
    },
    {
     "name": "stdout",
     "output_type": "stream",
     "text": [
      "[PairOptimizer.optimize] curves_t DAI-1d0F/USDC-eB48\n",
      "[PairOptimizer.optimize] p_optimal OptimizerBase.SimpleResult(result=1.0003813756302735, method='bisection', errormsg=None, context_dct=None) full_result [ 0.00042725 -0.00042725]\n",
      "[PairOptimizer.optimize] curves_t DAI-1d0F/USDC-eB48\n",
      "[PairOptimizer.optimize] p_optimal OptimizerBase.SimpleResult(result=1.000381375630044, method='bisection', errormsg=None, context_dct=None) full_result [ 0.00753784 -0.00754547]\n",
      "[PairOptimizer.optimize] curves_t DAI-1d0F/USDC-eB48\n",
      "[PairOptimizer.optimize] p_optimal OptimizerBase.SimpleResult(result=0.999979963573878, method='bisection', errormsg=None, context_dct=None) full_result [ 0.02416992 -0.02410889]\n",
      "[PairOptimizer.optimize] curves_t DAI-1d0F/USDC-eB48\n",
      "[PairOptimizer.optimize] p_optimal OptimizerBase.SimpleResult(result=0.999979963573925, method='bisection', errormsg=None, context_dct=None) full_result [ 0.01159668 -0.01153564]\n"
     ]
    },
    {
     "data": {
      "application/vnd.jupyter.widget-view+json": {
       "model_id": "01a6739506424361a0c410a0cc978261",
       "version_major": 2,
       "version_minor": 0
      },
      "text/plain": [
       "0it [00:00, ?it/s]"
      ]
     },
     "metadata": {},
     "output_type": "display_data"
    },
    {
     "data": {
      "application/vnd.jupyter.widget-view+json": {
       "model_id": "373d9650a37947418d0cd2c56786d2bf",
       "version_major": 2,
       "version_minor": 0
      },
      "text/plain": [
       "0it [00:00, ?it/s]"
      ]
     },
     "metadata": {},
     "output_type": "display_data"
    },
    {
     "data": {
      "application/vnd.jupyter.widget-view+json": {
       "model_id": "7d5ffd1155464a2e91ef177772b975b1",
       "version_major": 2,
       "version_minor": 0
      },
      "text/plain": [
       "0it [00:00, ?it/s]"
      ]
     },
     "metadata": {},
     "output_type": "display_data"
    },
    {
     "data": {
      "application/vnd.jupyter.widget-view+json": {
       "model_id": "d7a2dcb033bf499ea13ccdeefd810a45",
       "version_major": 2,
       "version_minor": 0
      },
      "text/plain": [
       "0it [00:00, ?it/s]"
      ]
     },
     "metadata": {},
     "output_type": "display_data"
    },
    {
     "data": {
      "application/vnd.jupyter.widget-view+json": {
       "model_id": "6523687f9454463ca8db068501a052ce",
       "version_major": 2,
       "version_minor": 0
      },
      "text/plain": [
       "0it [00:00, ?it/s]"
      ]
     },
     "metadata": {},
     "output_type": "display_data"
    },
    {
     "data": {
      "application/vnd.jupyter.widget-view+json": {
       "model_id": "c5a054790f834299a0b93da5725c7449",
       "version_major": 2,
       "version_minor": 0
      },
      "text/plain": [
       "  0%|          | 0/10 [00:00<?, ?it/s]"
      ]
     },
     "metadata": {},
     "output_type": "display_data"
    },
    {
     "name": "stdout",
     "output_type": "stream",
     "text": [
      "[PairOptimizer.optimize] curves_t ETH2x_FLI-65BD/WETH-6Cc2\n",
      "[PairOptimizer.optimize] p_optimal OptimizerBase.SimpleResult(result=0.006679129489639779, method='bisection', errormsg=None, context_dct=None) full_result [ 8.99308361e-09 -6.00266503e-11]\n",
      "[PairOptimizer.optimize] curves_t ETH2x_FLI-65BD/WETH-6Cc2\n",
      "[PairOptimizer.optimize] p_optimal OptimizerBase.SimpleResult(result=0.006679129489639276, method='bisection', errormsg=None, context_dct=None) full_result [ 1.72003638e-08 -1.14823706e-10]\n",
      "[PairOptimizer.optimize] curves_t ETH2x_FLI-65BD/WETH-6Cc2\n",
      "[PairOptimizer.optimize] p_optimal OptimizerBase.SimpleResult(result=0.006679129489639779, method='bisection', errormsg=None, context_dct=None) full_result [ 8.99308361e-09 -6.00266503e-11]\n",
      "[PairOptimizer.optimize] curves_t ETH2x_FLI-65BD/WETH-6Cc2\n",
      "[PairOptimizer.optimize] p_optimal OptimizerBase.SimpleResult(result=0.006679129489639276, method='bisection', errormsg=None, context_dct=None) full_result [ 1.72003638e-08 -1.14823706e-10]\n",
      "[PairOptimizer.optimize] curves_t ETH2x_FLI-65BD/WETH-6Cc2\n",
      "[PairOptimizer.optimize] p_optimal OptimizerBase.SimpleResult(result=0.006679129489641052, method='bisection', errormsg=None, context_dct=None) full_result [-1.17870513e-08  7.88986654e-11]\n",
      "[PairOptimizer.optimize] curves_t ETH2x_FLI-65BD/WETH-6Cc2\n",
      "[PairOptimizer.optimize] p_optimal OptimizerBase.SimpleResult(result=0.006679129489638686, method='bisection', errormsg=None, context_dct=None) full_result [ 2.68337317e-08 -1.79170456e-10]\n",
      "[PairOptimizer.optimize] curves_t ETH2x_FLI-65BD/WETH-6Cc2\n",
      "[PairOptimizer.optimize] p_optimal OptimizerBase.SimpleResult(result=0.006679129489638977, method='bisection', errormsg=None, context_dct=None) full_result [ 2.20898073e-08 -1.47565515e-10]\n",
      "[PairOptimizer.optimize] curves_t ETH2x_FLI-65BD/WETH-6Cc2\n",
      "[PairOptimizer.optimize] p_optimal OptimizerBase.SimpleResult(result=0.006679129489640365, method='bisection', errormsg=None, context_dct=None) full_result [-6.11180440e-10  4.09272616e-12]\n",
      "[PairOptimizer.optimize] curves_t ETH2x_FLI-65BD/WETH-6Cc2\n",
      "[PairOptimizer.optimize] p_optimal OptimizerBase.SimpleResult(result=0.006679129489642534, method='bisection', errormsg=None, context_dct=None) full_result [-3.59723344e-08  2.40333975e-10]\n",
      "[PairOptimizer.optimize] curves_t ETH2x_FLI-65BD/WETH-6Cc2\n",
      "[PairOptimizer.optimize] p_optimal OptimizerBase.SimpleResult(result=0.006679129489639819, method='bisection', errormsg=None, context_dct=None) full_result [ 8.32369551e-09 -5.54791768e-11]\n"
     ]
    },
    {
     "data": {
      "application/vnd.jupyter.widget-view+json": {
       "model_id": "8152b4b9da6e4e29a127d581d37c5832",
       "version_major": 2,
       "version_minor": 0
      },
      "text/plain": [
       "  0%|          | 0/14 [00:00<?, ?it/s]"
      ]
     },
     "metadata": {},
     "output_type": "display_data"
    },
    {
     "name": "stdout",
     "output_type": "stream",
     "text": [
      "[PairOptimizer.optimize] curves_t vBNT-7f94/BNT-FF1C\n",
      "[PairOptimizer.optimize] p_optimal OptimizerBase.SimpleResult(result=0.4979713671854289, method='bisection', errormsg=None, context_dct=None) full_result [-6.28642738e-09  3.25962901e-09]\n",
      "[PairOptimizer.optimize] curves_t vBNT-7f94/BNT-FF1C\n",
      "[PairOptimizer.optimize] p_optimal OptimizerBase.SimpleResult(result=0.497971367185545, method='bisection', errormsg=None, context_dct=None) full_result [-2.33994797e-07  1.16648152e-07]\n",
      "[PairOptimizer.optimize] curves_t vBNT-7f94/BNT-FF1C\n",
      "[PairOptimizer.optimize] p_optimal OptimizerBase.SimpleResult(result=0.49797136718544244, method='bisection', errormsg=None, context_dct=None) full_result [-3.28291208e-08  1.65309757e-08]\n",
      "[PairOptimizer.optimize] curves_t vBNT-7f94/BNT-FF1C\n",
      "[PairOptimizer.optimize] p_optimal OptimizerBase.SimpleResult(result=0.4979713671855498, method='bisection', errormsg=None, context_dct=None) full_result [-2.43540853e-07  1.21421181e-07]\n",
      "[PairOptimizer.optimize] curves_t vBNT-7f94/BNT-FF1C\n",
      "[PairOptimizer.optimize] p_optimal OptimizerBase.SimpleResult(result=0.49797136718538826, method='bisection', errormsg=None, context_dct=None) full_result [ 7.33416528e-08 -3.64379957e-08]\n",
      "[PairOptimizer.optimize] curves_t vBNT-7f94/BNT-FF1C\n",
      "[PairOptimizer.optimize] p_optimal OptimizerBase.SimpleResult(result=0.4979713671852612, method='bisection', errormsg=None, context_dct=None) full_result [ 3.22936103e-07 -1.60653144e-07]\n",
      "[PairOptimizer.optimize] curves_t vBNT-7f94/BNT-FF1C\n",
      "[PairOptimizer.optimize] p_optimal OptimizerBase.SimpleResult(result=0.4979713671853365, method='bisection', errormsg=None, context_dct=None) full_result [ 1.75088644e-07 -8.70786607e-08]\n",
      "[PairOptimizer.optimize] curves_t vBNT-7f94/BNT-FF1C\n",
      "[PairOptimizer.optimize] p_optimal OptimizerBase.SimpleResult(result=0.4979713671853946, method='bisection', errormsg=None, context_dct=None) full_result [ 6.12344593e-08 -3.02679837e-08]\n",
      "[PairOptimizer.optimize] curves_t vBNT-7f94/BNT-FF1C\n",
      "[PairOptimizer.optimize] p_optimal OptimizerBase.SimpleResult(result=0.4979713671855437, method='bisection', errormsg=None, context_dct=None) full_result [-2.31200829e-07  1.15367584e-07]\n",
      "[PairOptimizer.optimize] curves_t vBNT-7f94/BNT-FF1C\n",
      "[PairOptimizer.optimize] p_optimal OptimizerBase.SimpleResult(result=0.4979713671856121, method='bisection', errormsg=None, context_dct=None) full_result [-3.65544111e-07  1.82073563e-07]\n",
      "[PairOptimizer.optimize] curves_t vBNT-7f94/BNT-FF1C\n",
      "[PairOptimizer.optimize] p_optimal OptimizerBase.SimpleResult(result=0.4979713671853978, method='bisection', errormsg=None, context_dct=None) full_result [ 5.49480319e-08 -2.72411853e-08]\n",
      "[PairOptimizer.optimize] curves_t vBNT-7f94/BNT-FF1C\n",
      "[PairOptimizer.optimize] p_optimal OptimizerBase.SimpleResult(result=0.49797136718555435, method='bisection', errormsg=None, context_dct=None) full_result [-2.52388418e-07  1.25844963e-07]\n",
      "[PairOptimizer.optimize] curves_t vBNT-7f94/BNT-FF1C\n",
      "[PairOptimizer.optimize] p_optimal OptimizerBase.SimpleResult(result=0.4979713671851882, method='bisection', errormsg=None, context_dct=None) full_result [ 4.66359779e-07 -2.32015736e-07]\n",
      "[PairOptimizer.optimize] curves_t vBNT-7f94/BNT-FF1C\n",
      "[PairOptimizer.optimize] p_optimal OptimizerBase.SimpleResult(result=0.4977218346705689, method='bisection', errormsg=None, context_dct=None) full_result [ 3.20274921e-07 -2.42115359e+01]\n"
     ]
    },
    {
     "data": {
      "application/vnd.jupyter.widget-view+json": {
       "model_id": "cc3cbc5dc7b749c6adaa322275a329ec",
       "version_major": 2,
       "version_minor": 0
      },
      "text/plain": [
       "  0%|          | 0/39 [00:00<?, ?it/s]"
      ]
     },
     "metadata": {},
     "output_type": "display_data"
    },
    {
     "name": "stdout",
     "output_type": "stream",
     "text": [
      "[PairOptimizer.optimize] curves_t WETH-6Cc2/USDT-1ec7\n",
      "[PairOptimizer.optimize] p_optimal OptimizerBase.SimpleResult(result=1890.3902599636826, method='bisection', errormsg=None, context_dct=None) full_result [ 3.43752617e-08 -6.91041350e-05]\n",
      "[PairOptimizer.optimize] curves_t WETH-6Cc2/USDT-1ec7\n",
      "[PairOptimizer.optimize] p_optimal OptimizerBase.SimpleResult(result=1890.3902598796512, method='bisection', errormsg=None, context_dct=None) full_result [ 4.23751771e-08 -8.02278519e-05]\n",
      "[PairOptimizer.optimize] curves_t WETH-6Cc2/USDT-1ec7\n",
      "[PairOptimizer.optimize] p_optimal OptimizerBase.SimpleResult(result=1890.3902598804298, method='bisection', errormsg=None, context_dct=None) full_result [-2.00816430e-08  3.79085541e-05]\n",
      "[PairOptimizer.optimize] curves_t WETH-6Cc2/USDT-1ec7\n",
      "[PairOptimizer.optimize] p_optimal OptimizerBase.SimpleResult(result=1890.3902598796158, method='bisection', errormsg=None, context_dct=None) full_result [ 4.52273525e-08 -8.54730606e-05]\n",
      "[PairOptimizer.optimize] curves_t WETH-6Cc2/USDT-1ec7\n",
      "[PairOptimizer.optimize] p_optimal OptimizerBase.SimpleResult(result=1890.3902598801792, method='bisection', errormsg=None, context_dct=None) full_result [0. 0.]\n",
      "[PairOptimizer.optimize] curves_t WETH-6Cc2/USDT-1ec7\n",
      "[PairOptimizer.optimize] p_optimal OptimizerBase.SimpleResult(result=1890.3902598800487, method='bisection', errormsg=None, context_dct=None) full_result [ 1.05355866e-08 -1.99079514e-05]\n",
      "[PairOptimizer.optimize] curves_t WETH-6Cc2/USDT-1ec7\n",
      "[PairOptimizer.optimize] p_optimal OptimizerBase.SimpleResult(result=1890.3902598806571, method='bisection', errormsg=None, context_dct=None) full_result [-3.83006409e-08  7.23600388e-05]\n",
      "[PairOptimizer.optimize] curves_t WETH-6Cc2/USDT-1ec7\n",
      "[PairOptimizer.optimize] p_optimal OptimizerBase.SimpleResult(result=1890.3902702016617, method='bisection', errormsg=None, context_dct=None) full_result [-1.49252719e-05  3.80454148e-05]\n",
      "[PairOptimizer.optimize] curves_t WETH-6Cc2/USDT-1ec7\n",
      "[PairOptimizer.optimize] p_optimal OptimizerBase.SimpleResult(result=1890.390259880636, method='bisection', errormsg=None, context_dct=None) full_result [-3.66126187e-08  6.92605972e-05]\n",
      "[PairOptimizer.optimize] curves_t WETH-6Cc2/USDT-1ec7\n",
      "[PairOptimizer.optimize] p_optimal OptimizerBase.SimpleResult(result=1890.3902598796271, method='bisection', errormsg=None, context_dct=None) full_result [ 4.43542376e-08 -8.38041306e-05]\n",
      "[PairOptimizer.optimize] curves_t WETH-6Cc2/USDT-1ec7\n",
      "[PairOptimizer.optimize] p_optimal OptimizerBase.SimpleResult(result=1890.3902598805803, method='bisection', errormsg=None, context_dct=None) full_result [-3.21888365e-08  6.07967377e-05]\n",
      "[PairOptimizer.optimize] curves_t WETH-6Cc2/USDT-1ec7\n",
      "[PairOptimizer.optimize] p_optimal OptimizerBase.SimpleResult(result=1890.3902598803247, method='bisection', errormsg=None, context_dct=None) full_result [-1.16415322e-08  2.19345093e-05]\n",
      "[PairOptimizer.optimize] curves_t WETH-6Cc2/USDT-1ec7\n",
      "[PairOptimizer.optimize] p_optimal OptimizerBase.SimpleResult(result=1890.3902598804148, method='bisection', errormsg=None, context_dct=None) full_result [-1.88592821e-08  3.56435776e-05]\n",
      "[PairOptimizer.optimize] curves_t WETH-6Cc2/USDT-1ec7\n",
      "[PairOptimizer.optimize] p_optimal OptimizerBase.SimpleResult(result=1889.145889168184, method='bisection', errormsg=None, context_dct=None) full_result [-1.00080797e-08  6.41494989e-06]\n",
      "[PairOptimizer.optimize] curves_t WETH-6Cc2/USDT-1ec7\n",
      "[PairOptimizer.optimize] p_optimal OptimizerBase.SimpleResult(result=1889.145888876507, method='bisection', errormsg=None, context_dct=None) full_result [-1.26019586e-08  2.38120556e-05]\n",
      "[PairOptimizer.optimize] curves_t WETH-6Cc2/USDT-1ec7\n",
      "[PairOptimizer.optimize] p_optimal OptimizerBase.SimpleResult(result=1889.1458888757393, method='bisection', errormsg=None, context_dct=None) full_result [ 5.09317033e-09 -9.62615013e-06]\n",
      "[PairOptimizer.optimize] curves_t WETH-6Cc2/USDT-1ec7\n",
      "[PairOptimizer.optimize] p_optimal OptimizerBase.SimpleResult(result=1889.1458888758934, method='bisection', errormsg=None, context_dct=None) full_result [ 1.54250301e-09 -2.92062759e-06]\n",
      "[PairOptimizer.optimize] curves_t WETH-6Cc2/USDT-1ec7\n",
      "[PairOptimizer.optimize] p_optimal OptimizerBase.SimpleResult(result=1889.1458888762731, method='bisection', errormsg=None, context_dct=None) full_result [-7.21774995e-09  1.36494637e-05]\n",
      "[PairOptimizer.optimize] curves_t WETH-6Cc2/USDT-1ec7\n",
      "[PairOptimizer.optimize] p_optimal OptimizerBase.SimpleResult(result=1889.1458888758175, method='bisection', errormsg=None, context_dct=None) full_result [ 3.30328476e-09 -6.22868538e-06]\n",
      "[PairOptimizer.optimize] curves_t WETH-6Cc2/USDT-1ec7\n",
      "[PairOptimizer.optimize] p_optimal OptimizerBase.SimpleResult(result=1889.145888875436, method='bisection', errormsg=None, context_dct=None) full_result [ 1.21071935e-08 -2.28583813e-05]\n",
      "[PairOptimizer.optimize] curves_t WETH-6Cc2/USDT-1ec7\n",
      "[PairOptimizer.optimize] p_optimal OptimizerBase.SimpleResult(result=1889.1459247812654, method='bisection', errormsg=None, context_dct=None) full_result [-1.54391292e-05 -2.19168578e-05]\n",
      "[PairOptimizer.optimize] curves_t WETH-6Cc2/USDT-1ec7\n",
      "[PairOptimizer.optimize] p_optimal OptimizerBase.SimpleResult(result=1889.1458888762695, method='bisection', errormsg=None, context_dct=None) full_result [-7.13043846e-09  1.34706497e-05]\n",
      "[PairOptimizer.optimize] curves_t WETH-6Cc2/USDT-1ec7\n",
      "[PairOptimizer.optimize] p_optimal OptimizerBase.SimpleResult(result=1889.1458888752281, method='bisection', errormsg=None, context_dct=None) full_result [ 1.69093255e-08 -3.19480896e-05]\n",
      "[PairOptimizer.optimize] curves_t WETH-6Cc2/USDT-1ec7\n",
      "[PairOptimizer.optimize] p_optimal OptimizerBase.SimpleResult(result=1889.1458888757306, method='bisection', errormsg=None, context_dct=None) full_result [ 5.29689714e-09 -1.00135803e-05]\n",
      "[PairOptimizer.optimize] curves_t WETH-6Cc2/USDT-1ec7\n",
      "[PairOptimizer.optimize] p_optimal OptimizerBase.SimpleResult(result=1889.1458888758277, method='bisection', errormsg=None, context_dct=None) full_result [ 3.05590220e-09 -5.78165054e-06]\n",
      "[PairOptimizer.optimize] curves_t WETH-6Cc2/USDT-1ec7\n",
      "[PairOptimizer.optimize] p_optimal OptimizerBase.SimpleResult(result=1889.1458888764319, method='bisection', errormsg=None, context_dct=None) full_result [-1.08848326e-08  2.05636024e-05]\n",
      "[PairOptimizer.optimize] curves_t WETH-6Cc2/USDT-1ec7\n",
      "[PairOptimizer.optimize] p_optimal OptimizerBase.SimpleResult(result=1881.710609293142, method='bisection', errormsg=None, context_dct=None) full_result [-3.60378181e-08  5.24520874e-06]\n",
      "[PairOptimizer.optimize] curves_t WETH-6Cc2/USDT-1ec7\n",
      "[PairOptimizer.optimize] p_optimal OptimizerBase.SimpleResult(result=1881.710608190668, method='bisection', errormsg=None, context_dct=None) full_result [ 3.57977115e-09 -6.74277544e-06]\n",
      "[PairOptimizer.optimize] curves_t WETH-6Cc2/USDT-1ec7\n",
      "[PairOptimizer.optimize] p_optimal OptimizerBase.SimpleResult(result=1881.7106081911547, method='bisection', errormsg=None, context_dct=None) full_result [ 5.85714588e-10 -1.11013651e-06]\n",
      "[PairOptimizer.optimize] curves_t WETH-6Cc2/USDT-1ec7\n",
      "[PairOptimizer.optimize] p_optimal OptimizerBase.SimpleResult(result=1881.7106081913296, method='bisection', errormsg=None, context_dct=None) full_result [-4.87489160e-10  9.16421413e-07]\n",
      "[PairOptimizer.optimize] curves_t WETH-6Cc2/USDT-1ec7\n",
      "[PairOptimizer.optimize] p_optimal OptimizerBase.SimpleResult(result=1881.710608190739, method='bisection', errormsg=None, context_dct=None) full_result [ 3.13957571e-09 -5.91576099e-06]\n",
      "[PairOptimizer.optimize] curves_t WETH-6Cc2/USDT-1ec7\n",
      "[PairOptimizer.optimize] p_optimal OptimizerBase.SimpleResult(result=1881.7106081908473, method='bisection', errormsg=None, context_dct=None) full_result [ 2.47746357e-09 -4.66406345e-06]\n",
      "[PairOptimizer.optimize] curves_t WETH-6Cc2/USDT-1ec7\n",
      "[PairOptimizer.optimize] p_optimal OptimizerBase.SimpleResult(result=1881.7106081914208, method='bisection', errormsg=None, context_dct=None) full_result [-1.04773790e-09  1.97440386e-06]\n",
      "[PairOptimizer.optimize] curves_t WETH-6Cc2/USDT-1ec7\n",
      "[PairOptimizer.optimize] p_optimal OptimizerBase.SimpleResult(result=1881.7107435941489, method='bisection', errormsg=None, context_dct=None) full_result [-1.87256392e-05 -1.61162461e-07]\n",
      "[PairOptimizer.optimize] curves_t WETH-6Cc2/USDT-1ec7\n",
      "[PairOptimizer.optimize] p_optimal OptimizerBase.SimpleResult(result=1881.7106081909023, method='bisection', errormsg=None, context_dct=None) full_result [ 2.13549356e-09 -4.02331352e-06]\n",
      "[PairOptimizer.optimize] curves_t WETH-6Cc2/USDT-1ec7\n",
      "[PairOptimizer.optimize] p_optimal OptimizerBase.SimpleResult(result=1881.7106081915688, method='bisection', errormsg=None, context_dct=None) full_result [-1.95723260e-09  3.68058681e-06]\n",
      "[PairOptimizer.optimize] curves_t WETH-6Cc2/USDT-1ec7\n",
      "[PairOptimizer.optimize] p_optimal OptimizerBase.SimpleResult(result=1881.7106081915645, method='bisection', errormsg=None, context_dct=None) full_result [-1.93176675e-09  3.63588333e-06]\n",
      "[PairOptimizer.optimize] curves_t WETH-6Cc2/USDT-1ec7\n",
      "[PairOptimizer.optimize] p_optimal OptimizerBase.SimpleResult(result=1881.7106081915751, method='bisection', errormsg=None, context_dct=None) full_result [-1.99725037e-09  3.75509262e-06]\n",
      "[PairOptimizer.optimize] curves_t WETH-6Cc2/USDT-1ec7\n",
      "[PairOptimizer.optimize] p_optimal OptimizerBase.SimpleResult(result=1881.7106081909228, method='bisection', errormsg=None, context_dct=None) full_result [ 2.01180228e-09 -3.78489494e-06]\n"
     ]
    },
    {
     "data": {
      "application/vnd.jupyter.widget-view+json": {
       "model_id": "b61076d28c164215b8d672eccf037ec7",
       "version_major": 2,
       "version_minor": 0
      },
      "text/plain": [
       "  0%|          | 0/10 [00:00<?, ?it/s]"
      ]
     },
     "metadata": {},
     "output_type": "display_data"
    },
    {
     "name": "stdout",
     "output_type": "stream",
     "text": [
      "[PairOptimizer.optimize] curves_t USDT-1ec7/USDC-eB48\n",
      "[PairOptimizer.optimize] p_optimal OptimizerBase.SimpleResult(result=1.0000207903769063, method='bisection', errormsg=None, context_dct=None) full_result [-0.0647583  0.0647583]\n",
      "[PairOptimizer.optimize] curves_t USDT-1ec7/USDC-eB48\n",
      "[PairOptimizer.optimize] p_optimal OptimizerBase.SimpleResult(result=1.000020790376823, method='bisection', errormsg=None, context_dct=None) full_result [-0.04290771  0.04290771]\n",
      "[PairOptimizer.optimize] curves_t USDT-1ec7/USDC-eB48\n",
      "[PairOptimizer.optimize] p_optimal OptimizerBase.SimpleResult(result=1.0000207903767104, method='bisection', errormsg=None, context_dct=None) full_result [-0.01342773  0.01342773]\n",
      "[PairOptimizer.optimize] curves_t USDT-1ec7/USDC-eB48\n",
      "[PairOptimizer.optimize] p_optimal OptimizerBase.SimpleResult(result=1.0000207916530273, method='bisection', errormsg=None, context_dct=None) full_result [ 0.00653088 -0.11853643]\n",
      "[PairOptimizer.optimize] curves_t USDT-1ec7/USDC-eB48\n",
      "[PairOptimizer.optimize] p_optimal OptimizerBase.SimpleResult(result=1.0000207903766147, method='bisection', errormsg=None, context_dct=None) full_result [ 0.01165771 -0.01165771]\n",
      "[PairOptimizer.optimize] curves_t USDT-1ec7/USDC-eB48\n",
      "[PairOptimizer.optimize] p_optimal OptimizerBase.SimpleResult(result=0.9999812258712628, method='bisection', errormsg=None, context_dct=None) full_result [-0.0002017  0.0002017]\n",
      "[PairOptimizer.optimize] curves_t USDT-1ec7/USDC-eB48\n",
      "[PairOptimizer.optimize] p_optimal OptimizerBase.SimpleResult(result=0.9999812258711138, method='bisection', errormsg=None, context_dct=None) full_result [ 9.67979431e-05 -9.67979431e-05]\n",
      "[PairOptimizer.optimize] curves_t USDT-1ec7/USDC-eB48\n",
      "[PairOptimizer.optimize] p_optimal OptimizerBase.SimpleResult(result=0.9999812258708753, method='bisection', errormsg=None, context_dct=None) full_result [ 0.00057364 -0.00057364]\n",
      "[PairOptimizer.optimize] curves_t USDT-1ec7/USDC-eB48\n",
      "[PairOptimizer.optimize] p_optimal OptimizerBase.SimpleResult(result=0.9999814029407567, method='bisection', errormsg=None, context_dct=None) full_result [ 0.0004016  -0.12600621]\n",
      "[PairOptimizer.optimize] curves_t USDT-1ec7/USDC-eB48\n",
      "[PairOptimizer.optimize] p_optimal OptimizerBase.SimpleResult(result=0.9999812258710422, method='bisection', errormsg=None, context_dct=None) full_result [ 0.00023985 -0.00023985]\n"
     ]
    },
    {
     "data": {
      "application/vnd.jupyter.widget-view+json": {
       "model_id": "7389238dfe324abbbd6beccfb1a15449",
       "version_major": 2,
       "version_minor": 0
      },
      "text/plain": [
       "  0%|          | 0/1 [00:00<?, ?it/s]"
      ]
     },
     "metadata": {},
     "output_type": "display_data"
    },
    {
     "name": "stdout",
     "output_type": "stream",
     "text": [
      "[PairOptimizer.optimize] curves_t WBTC-C599/USDT-1ec7\n",
      "[PairOptimizer.optimize] p_optimal OptimizerBase.SimpleResult(result=30694.613949047027, method='bisection', errormsg=None, context_dct=None) full_result [-6.27641507e-07 -9.29663398e-06]\n"
     ]
    },
    {
     "data": {
      "application/vnd.jupyter.widget-view+json": {
       "model_id": "67d6159baa144d4b964062d10eb0c77c",
       "version_major": 2,
       "version_minor": 0
      },
      "text/plain": [
       "  0%|          | 0/4 [00:00<?, ?it/s]"
      ]
     },
     "metadata": {},
     "output_type": "display_data"
    },
    {
     "name": "stdout",
     "output_type": "stream",
     "text": [
      "[PairOptimizer.optimize] curves_t DAI-1d0F/USDT-1ec7\n",
      "[PairOptimizer.optimize] p_optimal OptimizerBase.SimpleResult(result=0.9998810288348383, method='bisection', errormsg=None, context_dct=None) full_result [-0.00010109  0.00010061]\n",
      "[PairOptimizer.optimize] curves_t DAI-1d0F/USDT-1ec7\n",
      "[PairOptimizer.optimize] p_optimal OptimizerBase.SimpleResult(result=0.9998810288345285, method='bisection', errormsg=None, context_dct=None) full_result [ 0.00048351 -0.00048351]\n",
      "[PairOptimizer.optimize] curves_t DAI-1d0F/USDT-1ec7\n",
      "[PairOptimizer.optimize] p_optimal OptimizerBase.SimpleResult(result=1.0000277727934523, method='bisection', errormsg=None, context_dct=None) full_result [-4.46438789e-05  4.47034836e-05]\n",
      "[PairOptimizer.optimize] curves_t DAI-1d0F/USDT-1ec7\n",
      "[PairOptimizer.optimize] p_optimal OptimizerBase.SimpleResult(result=1.000027772793279, method='bisection', errormsg=None, context_dct=None) full_result [-1.69277191e-05  1.69873238e-05]\n"
     ]
    },
    {
     "data": {
      "application/vnd.jupyter.widget-view+json": {
       "model_id": "5e686aef3bb84e7eb478990572767374",
       "version_major": 2,
       "version_minor": 0
      },
      "text/plain": [
       "0it [00:00, ?it/s]"
      ]
     },
     "metadata": {},
     "output_type": "display_data"
    },
    {
     "data": {
      "application/vnd.jupyter.widget-view+json": {
       "model_id": "195a8f4400a6430d954082ce211ca610",
       "version_major": 2,
       "version_minor": 0
      },
      "text/plain": [
       "0it [00:00, ?it/s]"
      ]
     },
     "metadata": {},
     "output_type": "display_data"
    },
    {
     "data": {
      "application/vnd.jupyter.widget-view+json": {
       "model_id": "3cb63dfd8759438fa38f4f879caf510b",
       "version_major": 2,
       "version_minor": 0
      },
      "text/plain": [
       "0it [00:00, ?it/s]"
      ]
     },
     "metadata": {},
     "output_type": "display_data"
    },
    {
     "data": {
      "application/vnd.jupyter.widget-view+json": {
       "model_id": "87088fe8c8344107bee0e8bd2ea5a5dd",
       "version_major": 2,
       "version_minor": 0
      },
      "text/plain": [
       "0it [00:00, ?it/s]"
      ]
     },
     "metadata": {},
     "output_type": "display_data"
    },
    {
     "data": {
      "application/vnd.jupyter.widget-view+json": {
       "model_id": "f640cae332c44f7a8666de05eecc4693",
       "version_major": 2,
       "version_minor": 0
      },
      "text/plain": [
       "  0%|          | 0/1 [00:00<?, ?it/s]"
      ]
     },
     "metadata": {},
     "output_type": "display_data"
    },
    {
     "name": "stdout",
     "output_type": "stream",
     "text": [
      "[PairOptimizer.optimize] curves_t icETH-6A84/WETH-6Cc2\n",
      "[PairOptimizer.optimize] p_optimal OptimizerBase.SimpleResult(result=1.0625676226961724, method='bisection', errormsg=None, context_dct=None) full_result [-4.33828973e-10  4.60659066e-10]\n"
     ]
    },
    {
     "data": {
      "application/vnd.jupyter.widget-view+json": {
       "model_id": "536d8edaa964428386a5d340630802cf",
       "version_major": 2,
       "version_minor": 0
      },
      "text/plain": [
       "0it [00:00, ?it/s]"
      ]
     },
     "metadata": {},
     "output_type": "display_data"
    },
    {
     "data": {
      "application/vnd.jupyter.widget-view+json": {
       "model_id": "1dc471957bed4f0cb646035a14bf1f7c",
       "version_major": 2,
       "version_minor": 0
      },
      "text/plain": [
       "  0%|          | 0/4 [00:00<?, ?it/s]"
      ]
     },
     "metadata": {},
     "output_type": "display_data"
    },
    {
     "name": "stdout",
     "output_type": "stream",
     "text": [
      "[PairOptimizer.optimize] curves_t WETH-6Cc2/BNT-FF1C\n",
      "[PairOptimizer.optimize] p_optimal OptimizerBase.SimpleResult(result=4764.128744550646, method='bisection', errormsg=None, context_dct=None) full_result [-5.01323496e-04 -9.32934199e-07]\n",
      "[PairOptimizer.optimize] curves_t WETH-6Cc2/BNT-FF1C\n",
      "[PairOptimizer.optimize] p_optimal OptimizerBase.SimpleResult(result=4764.138098143359, method='bisection', errormsg=None, context_dct=None) full_result [ 1.95996108e-10 -9.35047865e-07]\n",
      "[PairOptimizer.optimize] curves_t WETH-6Cc2/BNT-FF1C\n",
      "[PairOptimizer.optimize] p_optimal OptimizerBase.SimpleResult(result=4764.138098141909, method='bisection', errormsg=None, context_dct=None) full_result [ 7.35781214e-10 -3.50549817e-06]\n",
      "[PairOptimizer.optimize] curves_t WETH-6Cc2/BNT-FF1C\n",
      "[PairOptimizer.optimize] p_optimal OptimizerBase.SimpleResult(result=4764.138098143836, method='bisection', errormsg=None, context_dct=None) full_result [ 1.86446414e-11 -8.94069672e-08]\n"
     ]
    },
    {
     "data": {
      "application/vnd.jupyter.widget-view+json": {
       "model_id": "da5a4cf62adb4f6c90c4200ca34715cd",
       "version_major": 2,
       "version_minor": 0
      },
      "text/plain": [
       "  0%|          | 0/6 [00:00<?, ?it/s]"
      ]
     },
     "metadata": {},
     "output_type": "display_data"
    },
    {
     "name": "stdout",
     "output_type": "stream",
     "text": [
      "[PairOptimizer.optimize] curves_t BNT-FF1C/USDC-eB48\n",
      "[PairOptimizer.optimize] p_optimal OptimizerBase.SimpleResult(result=0.3933388484434187, method='bisection', errormsg=None, context_dct=None) full_result [ 2.20257789e-07 -8.66129994e-08]\n",
      "[PairOptimizer.optimize] curves_t BNT-FF1C/USDC-eB48\n",
      "[PairOptimizer.optimize] p_optimal OptimizerBase.SimpleResult(result=0.3933388484435465, method='bisection', errormsg=None, context_dct=None) full_result [-2.22586095e-07  8.75443220e-08]\n",
      "[PairOptimizer.optimize] curves_t BNT-FF1C/USDC-eB48\n",
      "[PairOptimizer.optimize] p_optimal OptimizerBase.SimpleResult(result=0.3933388484434076, method='bisection', errormsg=None, context_dct=None) full_result [ 2.58907676e-07 -1.01746991e-07]\n",
      "[PairOptimizer.optimize] curves_t BNT-FF1C/USDC-eB48\n",
      "[PairOptimizer.optimize] p_optimal OptimizerBase.SimpleResult(result=0.39333884844358136, method='bisection', errormsg=None, context_dct=None) full_result [-3.43192369e-07  1.35041773e-07]\n",
      "[PairOptimizer.optimize] curves_t BNT-FF1C/USDC-eB48\n",
      "[PairOptimizer.optimize] p_optimal OptimizerBase.SimpleResult(result=0.39333798799177033, method='bisection', errormsg=None, context_dct=None) full_result [-1.90921128e-07 -9.95196286e-03]\n",
      "[PairOptimizer.optimize] curves_t BNT-FF1C/USDC-eB48\n",
      "[PairOptimizer.optimize] p_optimal OptimizerBase.SimpleResult(result=0.3933388484434884, method='bisection', errormsg=None, context_dct=None) full_result [-2.09547579e-08  8.14907253e-09]\n"
     ]
    },
    {
     "data": {
      "application/vnd.jupyter.widget-view+json": {
       "model_id": "69e6110bb4e340468fe21e677831dac1",
       "version_major": 2,
       "version_minor": 0
      },
      "text/plain": [
       "0it [00:00, ?it/s]"
      ]
     },
     "metadata": {},
     "output_type": "display_data"
    },
    {
     "data": {
      "application/vnd.jupyter.widget-view+json": {
       "model_id": "993a69acde5a43759595cacbb8300d50",
       "version_major": 2,
       "version_minor": 0
      },
      "text/plain": [
       "0it [00:00, ?it/s]"
      ]
     },
     "metadata": {},
     "output_type": "display_data"
    },
    {
     "data": {
      "application/vnd.jupyter.widget-view+json": {
       "model_id": "b89d86362e5744b0a48d171972e76124",
       "version_major": 2,
       "version_minor": 0
      },
      "text/plain": [
       "0it [00:00, ?it/s]"
      ]
     },
     "metadata": {},
     "output_type": "display_data"
    },
    {
     "data": {
      "application/vnd.jupyter.widget-view+json": {
       "model_id": "7a9642e7690c42d79ca2937c19c4e46a",
       "version_major": 2,
       "version_minor": 0
      },
      "text/plain": [
       "0it [00:00, ?it/s]"
      ]
     },
     "metadata": {},
     "output_type": "display_data"
    },
    {
     "data": {
      "application/vnd.jupyter.widget-view+json": {
       "model_id": "faca22bbd9f0436e886da846a4df9b17",
       "version_major": 2,
       "version_minor": 0
      },
      "text/plain": [
       "0it [00:00, ?it/s]"
      ]
     },
     "metadata": {},
     "output_type": "display_data"
    }
   ],
   "source": [
    "arb_finder = bot._get_arb_finder(\"single\")\n",
    "finder = arb_finder(\n",
    "            flashloan_tokens=flashloan_tokens,\n",
    "            CCm=CCm,\n",
    "            mode=\"bothin\",\n",
    "            result=bot.AO_CANDIDATES,\n",
    "            ConfigObj=bot.ConfigObj,\n",
    "        )\n",
    "r = finder.find_arbitrage()\n",
    "multi_carbon_count = 0\n",
    "\n",
    "for arb in r:\n",
    "    (\n",
    "            best_profit,\n",
    "            best_trade_instructions_df,\n",
    "            best_trade_instructions_dic,\n",
    "            best_src_token,\n",
    "            best_trade_instructions,\n",
    "        ) = arb\n",
    "    if len(best_trade_instructions_dic) > 2:\n",
    "        multi_carbon_count += 1\n",
    "\n",
    "assert multi_carbon_count == 0, f\"[TestSingleMode] Expected arbs without multiple Carbon curves, but found {len(multi_carbon_count)}\""
   ]
  }
 ],
 "metadata": {
  "jupytext": {
   "formats": "ipynb,py:light"
  },
  "kernelspec": {
   "display_name": "Python 3",
   "language": "python",
   "name": "python3"
  },
  "language_info": {
   "codemirror_mode": {
    "name": "ipython",
    "version": 3
   },
   "file_extension": ".py",
   "mimetype": "text/x-python",
   "name": "python",
   "nbconvert_exporter": "python",
   "pygments_lexer": "ipython3",
   "version": "3.8.8"
  }
 },
 "nbformat": 4,
 "nbformat_minor": 5
}

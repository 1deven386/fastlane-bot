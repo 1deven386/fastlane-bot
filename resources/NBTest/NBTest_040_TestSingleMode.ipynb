{
 "cells": [
  {
   "cell_type": "code",
   "execution_count": 1,
   "id": "84fa264b",
   "metadata": {
    "ExecuteTime": {
     "end_time": "2023-07-09T13:54:12.577531Z",
     "start_time": "2023-07-09T13:54:12.514167Z"
    }
   },
   "outputs": [
    {
     "name": "stdout",
     "output_type": "stream",
     "text": [
      "ConstantProductCurve v2.14 (23/May/2023)\n",
      "CarbonBot v3-b2.2 (20/June/2023)\n",
      "UniswapV2 v0.0.1 (2023-07-03)\n",
      "UniswapV3 v0.0.1 (2023-07-03)\n",
      "SushiswapV2 v0.0.1 (2023-07-03)\n",
      "CarbonV1 v0.0.1 (2023-07-03)\n",
      "BancorV3 v0.0.1 (2023-07-03)\n",
      "imported m, np, pd, plt, os, sys, decimal; defined iseq, raises, require\n",
      "Version = 3-b2.2 [requirements >= 3.0 is met]\n"
     ]
    }
   ],
   "source": [
    "# coding=utf-8\n",
    "\"\"\"\n",
    "This module contains the tests for the exchanges classes\n",
    "\"\"\"\n",
    "from fastlane_bot import Bot, Config\n",
    "from fastlane_bot.bot import CarbonBot\n",
    "from fastlane_bot.tools.cpc import ConstantProductCurve\n",
    "from fastlane_bot.tools.cpc import ConstantProductCurve as CPC\n",
    "from fastlane_bot.events.exchanges import UniswapV2, UniswapV3, SushiswapV2, CarbonV1, BancorV3\n",
    "from fastlane_bot.events.interface import QueryInterface\n",
    "from fastlane_bot.helpers.poolandtokens import PoolAndTokens\n",
    "from fastlane_bot.helpers import TradeInstruction, TxReceiptHandler, TxRouteHandler, TxSubmitHandler, TxHelpers, TxHelper\n",
    "from fastlane_bot.events.managers.manager import Manager\n",
    "from fastlane_bot.events.interface import QueryInterface\n",
    "from joblib import Parallel, delayed\n",
    "import pytest\n",
    "import math\n",
    "import json\n",
    "print(\"{0.__name__} v{0.__VERSION__} ({0.__DATE__})\".format(CPC))\n",
    "print(\"{0.__name__} v{0.__VERSION__} ({0.__DATE__})\".format(Bot))\n",
    "print(\"{0.__name__} v{0.__VERSION__} ({0.__DATE__})\".format(UniswapV2))\n",
    "print(\"{0.__name__} v{0.__VERSION__} ({0.__DATE__})\".format(UniswapV3))\n",
    "print(\"{0.__name__} v{0.__VERSION__} ({0.__DATE__})\".format(SushiswapV2))\n",
    "print(\"{0.__name__} v{0.__VERSION__} ({0.__DATE__})\".format(CarbonV1))\n",
    "print(\"{0.__name__} v{0.__VERSION__} ({0.__DATE__})\".format(BancorV3))\n",
    "from fastlane_bot.testing import *\n",
    "from fastlane_bot.modes import triangle_single_bancor3\n",
    "#plt.style.use('seaborn-dark')\n",
    "plt.rcParams['figure.figsize'] = [12,6]\n",
    "from fastlane_bot import __VERSION__\n",
    "require(\"3.0\", __VERSION__)"
   ]
  },
  {
   "cell_type": "markdown",
   "id": "4c4e2283",
   "metadata": {},
   "source": [
    "# Single Mode [NB038]"
   ]
  },
  {
   "cell_type": "code",
   "execution_count": 2,
   "id": "a51e5ec2",
   "metadata": {
    "ExecuteTime": {
     "end_time": "2023-07-09T13:54:13.771032Z",
     "start_time": "2023-07-09T13:54:12.517536Z"
    }
   },
   "outputs": [
    {
     "name": "stderr",
     "output_type": "stream",
     "text": [
      "2023-07-25 23:09:05,731 [fastlane:INFO] - Time taken to add initial pools: 0.14443588256835938\n",
      "2023-07-25 23:09:05,736 [fastlane:INFO] - Initializing the bot...\n",
      "2023-07-25 23:09:05,876 [fastlane:INFO] - Removed 3242 unmapped uniswap_v2/sushi pools. 1897 uniswap_v2/sushi pools remaining\n",
      "2023-07-25 23:09:05,876 [fastlane:INFO] - Unmapped uniswap_v2/sushi pools:\n",
      "2023-07-25 23:09:06,183 [fastlane:INFO] - uniswap_v3: 0\n",
      "2023-07-25 23:09:06,184 [fastlane:INFO] - uniswap_v2: 3242\n",
      "2023-07-25 23:09:06,184 [fastlane:INFO] - sushiswap_v2: 0\n",
      "2023-07-25 23:09:06,186 [fastlane:INFO] - uniswap_v3: 636\n",
      "2023-07-25 23:09:06,187 [fastlane:INFO] - sushiswap_v2: 78\n",
      "2023-07-25 23:09:06,187 [fastlane:INFO] - uniswap_v2: 0\n",
      "2023-07-25 23:09:06,188 [fastlane:INFO] - bancor_v2: 0\n",
      "2023-07-25 23:09:06,188 [fastlane:INFO] - bancor_v3: 34\n",
      "2023-07-25 23:09:06,188 [fastlane:INFO] - carbon_v1: 220\n",
      "2023-07-25 23:09:06,235 [fastlane:INFO] - uniswap_v3_zero_liquidity_pools: 858\n",
      "2023-07-25 23:09:06,235 [fastlane:INFO] - sushiswap_v2_zero_liquidity_pools: 34\n",
      "2023-07-25 23:09:06,236 [fastlane:INFO] - uniswap_v2_zero_liquidity_pools: 0\n",
      "2023-07-25 23:09:06,236 [fastlane:INFO] - bancor_v2_zero_liquidity_pools: 0\n",
      "2023-07-25 23:09:06,236 [fastlane:INFO] - bancor_v3_zero_liquidity_pools: 37\n",
      "2023-07-25 23:09:06,236 [fastlane:INFO] - carbon_v1_zero_liquidity_pools: 0\n",
      "2023-07-25 23:09:06,237 [fastlane:INFO] - Removed 0 unsupported exchanges. 968 pools remaining\n",
      "2023-07-25 23:09:06,237 [fastlane:INFO] - Pools remaining per exchange:\n",
      "2023-07-25 23:09:06,238 [fastlane:INFO] - uniswap_v3: 636\n",
      "2023-07-25 23:09:06,238 [fastlane:INFO] - sushiswap_v2: 78\n",
      "2023-07-25 23:09:06,238 [fastlane:INFO] - uniswap_v2: 0\n",
      "2023-07-25 23:09:06,239 [fastlane:INFO] - bancor_v3: 34\n",
      "2023-07-25 23:09:06,239 [fastlane:INFO] - carbon_v1: 220\n"
     ]
    }
   ],
   "source": [
    "C = cfg = Config.new(config=Config.CONFIG_MAINNET)\n",
    "C.DEFAULT_MIN_PROFIT_BNT = 0.02\n",
    "C.DEFAULT_MIN_PROFIT = 0.02\n",
    "cfg.DEFAULT_MIN_PROFIT_BNT = 0.02\n",
    "cfg.DEFAULT_MIN_PROFIT = 0.02\n",
    "assert (C.NETWORK == C.NETWORK_MAINNET)\n",
    "assert (C.PROVIDER == C.PROVIDER_ALCHEMY)\n",
    "setup_bot = CarbonBot(ConfigObj=C)\n",
    "pools = None\n",
    "with open('fastlane_bot/data/tests/latest_pool_data_testing.json') as f:\n",
    "    pools = json.load(f)\n",
    "pools = [pool for pool in pools]\n",
    "pools[0]\n",
    "static_pools = pools\n",
    "state = pools\n",
    "exchanges = list({ex['exchange_name'] for ex in state})\n",
    "db = QueryInterface(state=state, ConfigObj=C, exchanges=exchanges)\n",
    "setup_bot.db = db\n",
    "\n",
    "static_pool_data_filename = \"static_pool_data\"\n",
    "\n",
    "static_pool_data = pd.read_csv(f\"fastlane_bot/data/{static_pool_data_filename}.csv\", low_memory=False)\n",
    "    \n",
    "uniswap_v2_event_mappings = pd.read_csv(\"fastlane_bot/data/uniswap_v2_event_mappings.csv\", low_memory=False)\n",
    "        \n",
    "tokens = pd.read_csv(\"fastlane_bot/data/tokens.csv\", low_memory=False)\n",
    "        \n",
    "exchanges = \"carbon_v1,bancor_v3,uniswap_v3,uniswap_v2,sushiswap_v2\"\n",
    "\n",
    "exchanges = exchanges.split(\",\")\n",
    "\n",
    "\n",
    "alchemy_max_block_fetch = 20\n",
    "static_pool_data[\"cid\"] = [\n",
    "        cfg.w3.keccak(text=f\"{row['descr']}\").hex()\n",
    "        for index, row in static_pool_data.iterrows()\n",
    "    ]\n",
    "# Filter out pools that are not in the supported exchanges\n",
    "static_pool_data = [\n",
    "    row for index, row in static_pool_data.iterrows()\n",
    "    if row[\"exchange_name\"] in exchanges\n",
    "]\n",
    "\n",
    "static_pool_data = pd.DataFrame(static_pool_data)\n",
    "static_pool_data['exchange_name'].unique()\n",
    "# Initialize data fetch manager\n",
    "mgr = Manager(\n",
    "    web3=cfg.w3,\n",
    "    cfg=cfg,\n",
    "    pool_data=static_pool_data.to_dict(orient=\"records\"),\n",
    "    SUPPORTED_EXCHANGES=exchanges,\n",
    "    alchemy_max_block_fetch=alchemy_max_block_fetch,\n",
    "    uniswap_v2_event_mappings=uniswap_v2_event_mappings,\n",
    "    tokens=tokens.to_dict(orient=\"records\"),\n",
    ")\n",
    "\n",
    "# Add initial pools for each row in the static_pool_data\n",
    "start_time = time.time()\n",
    "Parallel(n_jobs=-1, backend=\"threading\")(\n",
    "    delayed(mgr.add_pool_to_exchange)(row) for row in mgr.pool_data\n",
    ")\n",
    "cfg.logger.info(f\"Time taken to add initial pools: {time.time() - start_time}\")\n",
    "\n",
    "# check if any duplicate cid's exist in the pool data\n",
    "mgr.deduplicate_pool_data()\n",
    "cids = [pool[\"cid\"] for pool in mgr.pool_data]\n",
    "assert len(cids) == len(set(cids)), \"duplicate cid's exist in the pool data\"\n",
    "def init_bot(mgr: Manager) -> CarbonBot:\n",
    "    \"\"\"\n",
    "    Initializes the bot.\n",
    "\n",
    "    Parameters\n",
    "    ----------\n",
    "    mgr : Manager\n",
    "        The manager object.\n",
    "\n",
    "    Returns\n",
    "    -------\n",
    "    CarbonBot\n",
    "        The bot object.\n",
    "    \"\"\"\n",
    "    mgr.cfg.logger.info(\"Initializing the bot...\")\n",
    "    bot = CarbonBot(ConfigObj=mgr.cfg)\n",
    "    bot.db = db\n",
    "    bot.db.mgr = mgr\n",
    "    assert isinstance(\n",
    "        bot.db, QueryInterface\n",
    "    ), \"QueryInterface not initialized correctly\"\n",
    "    return bot\n",
    "bot = init_bot(mgr)\n",
    "# add data cleanup steps from main.py\n",
    "bot.db.handle_token_key_cleanup()\n",
    "bot.db.remove_unmapped_uniswap_v2_pools()\n",
    "bot.db.remove_zero_liquidity_pools()\n",
    "bot.db.remove_unsupported_exchanges()\n",
    "tokens = bot.db.get_tokens()\n",
    "ADDRDEC = {t.key: (t.address, int(t.decimals)) for t in tokens if not math.isnan(t.decimals)}\n",
    "flashloan_tokens = bot.setup_flashloan_tokens(None)\n",
    "CCm = bot.setup_CCm(None)\n",
    "pools = db.get_pool_data_with_tokens()\n",
    "\n",
    "arb_mode = \"single\""
   ]
  },
  {
   "cell_type": "code",
   "execution_count": 3,
   "id": "71b83fef",
   "metadata": {},
   "outputs": [],
   "source": [
    "assert(cfg.DEFAULT_MIN_PROFIT_BNT <= 0.02), f\"[TestSingleMode], DEFAULT_MIN_PROFIT_BNT must be <= 0.02 for this Notebook to run, currently set to {cfg.DEFAULT_MIN_PROFIT_BNT}\"\n",
    "assert(C.DEFAULT_MIN_PROFIT_BNT <= 0.02), f\"[TestSingleMode], DEFAULT_MIN_PROFIT_BNT must be <= 0.02 for this Notebook to run, currently set to {cfg.DEFAULT_MIN_PROFIT_BNT}\""
   ]
  },
  {
   "cell_type": "code",
   "execution_count": null,
   "id": "f729b8dd",
   "metadata": {
    "ExecuteTime": {
     "end_time": "2023-07-09T13:54:15.356070Z",
     "start_time": "2023-07-09T13:54:15.145394Z"
    }
   },
   "outputs": [],
   "source": []
  },
  {
   "cell_type": "markdown",
   "id": "d1c95bad",
   "metadata": {},
   "source": [
    "## Test_arb_mode_class"
   ]
  },
  {
   "cell_type": "code",
   "execution_count": 4,
   "id": "aaaf7423",
   "metadata": {
    "ExecuteTime": {
     "end_time": "2023-07-09T13:54:15.356301Z",
     "start_time": "2023-07-09T13:54:15.352256Z"
    }
   },
   "outputs": [],
   "source": [
    "arb_finder = bot._get_arb_finder(\"single\")\n",
    "assert arb_finder.__name__ == \"FindArbitrageSinglePairwise\", f\"[TestSingleMode] Expected arb_finder class name name = FindArbitrageSinglePairwise, found {arb_finder.__name__}\""
   ]
  },
  {
   "cell_type": "markdown",
   "id": "d19e14ac",
   "metadata": {},
   "source": [
    "## Test_tokens_and_combos"
   ]
  },
  {
   "cell_type": "code",
   "execution_count": 5,
   "id": "b1f40498",
   "metadata": {},
   "outputs": [],
   "source": [
    "arb_finder = bot._get_arb_finder(\"single\")\n",
    "finder2 = arb_finder(\n",
    "            flashloan_tokens=flashloan_tokens,\n",
    "            CCm=CCm,\n",
    "            mode=\"bothin\",\n",
    "            result=bot.AO_TOKENS,\n",
    "            ConfigObj=bot.ConfigObj,\n",
    "        )\n",
    "all_tokens, combos = finder2.find_arbitrage()\n",
    "assert len(all_tokens) == 545, f\"[TestMultiMode] Using wrong dataset, expected 545 tokens, found {len(all_tokens)}\"\n",
    "assert len(combos) == 3264, f\"[TestMultiMode] Using wrong dataset, expected 3264 tokens, found {len(combos)}\""
   ]
  },
  {
   "cell_type": "markdown",
   "id": "e703ba6b",
   "metadata": {},
   "source": [
    "### Test_Single_Arb_Finder_vs_run"
   ]
  },
  {
   "cell_type": "code",
   "execution_count": 6,
   "id": "48e2f5a1",
   "metadata": {},
   "outputs": [
    {
     "data": {
      "application/vnd.jupyter.widget-view+json": {
       "model_id": "eeb889af3add4e21a07ea96c9f32d098",
       "version_major": 2,
       "version_minor": 0
      },
      "text/plain": [
       "  0%|          | 0/1 [00:00<?, ?it/s]"
      ]
     },
     "metadata": {},
     "output_type": "display_data"
    },
    {
     "name": "stdout",
     "output_type": "stream",
     "text": [
      "[TradeInstruction.to_dicts]\n"
     ]
    },
    {
     "data": {
      "application/vnd.jupyter.widget-view+json": {
       "model_id": "0804c4f3485c4a9a9f7787bd18ebedc7",
       "version_major": 2,
       "version_minor": 0
      },
      "text/plain": [
       "  0%|          | 0/1 [00:00<?, ?it/s]"
      ]
     },
     "metadata": {},
     "output_type": "display_data"
    },
    {
     "name": "stdout",
     "output_type": "stream",
     "text": [
      "[TradeInstruction.to_dicts]\n"
     ]
    },
    {
     "data": {
      "application/vnd.jupyter.widget-view+json": {
       "model_id": "df0ebaef880a4e3d9ac368a2d3b949d8",
       "version_major": 2,
       "version_minor": 0
      },
      "text/plain": [
       "  0%|          | 0/2 [00:00<?, ?it/s]"
      ]
     },
     "metadata": {},
     "output_type": "display_data"
    },
    {
     "name": "stdout",
     "output_type": "stream",
     "text": [
      "[TradeInstruction.to_dicts]\n",
      "[TradeInstruction.to_dicts]\n"
     ]
    },
    {
     "data": {
      "application/vnd.jupyter.widget-view+json": {
       "model_id": "72071e898d764950bf3d7610b78a8666",
       "version_major": 2,
       "version_minor": 0
      },
      "text/plain": [
       "0it [00:00, ?it/s]"
      ]
     },
     "metadata": {},
     "output_type": "display_data"
    },
    {
     "data": {
      "application/vnd.jupyter.widget-view+json": {
       "model_id": "c2fbe52c4a0a4921b50781d267e17ddb",
       "version_major": 2,
       "version_minor": 0
      },
      "text/plain": [
       "0it [00:00, ?it/s]"
      ]
     },
     "metadata": {},
     "output_type": "display_data"
    },
    {
     "data": {
      "application/vnd.jupyter.widget-view+json": {
       "model_id": "6d54c4984de94338b64acd02fdde2244",
       "version_major": 2,
       "version_minor": 0
      },
      "text/plain": [
       "  0%|          | 0/2 [00:00<?, ?it/s]"
      ]
     },
     "metadata": {},
     "output_type": "display_data"
    },
    {
     "name": "stdout",
     "output_type": "stream",
     "text": [
      "[TradeInstruction.to_dicts]\n",
      "[TradeInstruction.to_dicts]\n"
     ]
    },
    {
     "data": {
      "application/vnd.jupyter.widget-view+json": {
       "model_id": "0a7ef82b0b724c46bef62efa2d43198e",
       "version_major": 2,
       "version_minor": 0
      },
      "text/plain": [
       "0it [00:00, ?it/s]"
      ]
     },
     "metadata": {},
     "output_type": "display_data"
    },
    {
     "data": {
      "application/vnd.jupyter.widget-view+json": {
       "model_id": "a7662fe54b0c4fdd8489aa8a0cd4aa6a",
       "version_major": 2,
       "version_minor": 0
      },
      "text/plain": [
       "0it [00:00, ?it/s]"
      ]
     },
     "metadata": {},
     "output_type": "display_data"
    },
    {
     "data": {
      "application/vnd.jupyter.widget-view+json": {
       "model_id": "bdc87f4396a5494e81aad6eb7760899d",
       "version_major": 2,
       "version_minor": 0
      },
      "text/plain": [
       "0it [00:00, ?it/s]"
      ]
     },
     "metadata": {},
     "output_type": "display_data"
    },
    {
     "data": {
      "application/vnd.jupyter.widget-view+json": {
       "model_id": "71c7f3e012c3490886ab28c80c5044ac",
       "version_major": 2,
       "version_minor": 0
      },
      "text/plain": [
       "0it [00:00, ?it/s]"
      ]
     },
     "metadata": {},
     "output_type": "display_data"
    },
    {
     "data": {
      "application/vnd.jupyter.widget-view+json": {
       "model_id": "c08b3a2587be4c4ebf3207f257a215cc",
       "version_major": 2,
       "version_minor": 0
      },
      "text/plain": [
       "  0%|          | 0/16 [00:00<?, ?it/s]"
      ]
     },
     "metadata": {},
     "output_type": "display_data"
    },
    {
     "name": "stdout",
     "output_type": "stream",
     "text": [
      "[TradeInstruction.to_dicts]\n",
      "[TradeInstruction.to_dicts]\n",
      "[TradeInstruction.to_dicts]\n",
      "[TradeInstruction.to_dicts]\n",
      "[TradeInstruction.to_dicts]\n",
      "[TradeInstruction.to_dicts]\n",
      "[TradeInstruction.to_dicts]\n",
      "[TradeInstruction.to_dicts]\n",
      "[TradeInstruction.to_dicts]\n",
      "[TradeInstruction.to_dicts]\n",
      "[TradeInstruction.to_dicts]\n",
      "[TradeInstruction.to_dicts]\n",
      "[TradeInstruction.to_dicts]\n",
      "[TradeInstruction.to_dicts]\n",
      "[TradeInstruction.to_dicts]\n",
      "[TradeInstruction.to_dicts]\n"
     ]
    },
    {
     "data": {
      "application/vnd.jupyter.widget-view+json": {
       "model_id": "ce253d46fc22459782edb39dd4e45273",
       "version_major": 2,
       "version_minor": 0
      },
      "text/plain": [
       "  0%|          | 0/16 [00:00<?, ?it/s]"
      ]
     },
     "metadata": {},
     "output_type": "display_data"
    },
    {
     "name": "stdout",
     "output_type": "stream",
     "text": [
      "[TradeInstruction.to_dicts]\n",
      "[TradeInstruction.to_dicts]\n",
      "[TradeInstruction.to_dicts]\n",
      "[TradeInstruction.to_dicts]\n",
      "[TradeInstruction.to_dicts]\n",
      "[TradeInstruction.to_dicts]\n",
      "[TradeInstruction.to_dicts]\n",
      "[TradeInstruction.to_dicts]\n",
      "[TradeInstruction.to_dicts]\n",
      "[TradeInstruction.to_dicts]\n",
      "[TradeInstruction.to_dicts]\n",
      "[TradeInstruction.to_dicts]\n",
      "[TradeInstruction.to_dicts]\n",
      "[TradeInstruction.to_dicts]\n",
      "[TradeInstruction.to_dicts]\n",
      "[TradeInstruction.to_dicts]\n"
     ]
    },
    {
     "data": {
      "application/vnd.jupyter.widget-view+json": {
       "model_id": "2a6e3ca0f351416db8556ede5d567ebb",
       "version_major": 2,
       "version_minor": 0
      },
      "text/plain": [
       "  0%|          | 0/1 [00:00<?, ?it/s]"
      ]
     },
     "metadata": {},
     "output_type": "display_data"
    },
    {
     "name": "stdout",
     "output_type": "stream",
     "text": [
      "[TradeInstruction.to_dicts]\n"
     ]
    },
    {
     "data": {
      "application/vnd.jupyter.widget-view+json": {
       "model_id": "3b453ce5566d4a59ab32858dee65d9ff",
       "version_major": 2,
       "version_minor": 0
      },
      "text/plain": [
       "0it [00:00, ?it/s]"
      ]
     },
     "metadata": {},
     "output_type": "display_data"
    },
    {
     "data": {
      "application/vnd.jupyter.widget-view+json": {
       "model_id": "e09eddbc200546a6a4da9f7bbe66d46b",
       "version_major": 2,
       "version_minor": 0
      },
      "text/plain": [
       "0it [00:00, ?it/s]"
      ]
     },
     "metadata": {},
     "output_type": "display_data"
    },
    {
     "data": {
      "application/vnd.jupyter.widget-view+json": {
       "model_id": "9ba13907087a4361b531c8a336b98754",
       "version_major": 2,
       "version_minor": 0
      },
      "text/plain": [
       "0it [00:00, ?it/s]"
      ]
     },
     "metadata": {},
     "output_type": "display_data"
    },
    {
     "data": {
      "application/vnd.jupyter.widget-view+json": {
       "model_id": "ceeab309dd41496e8bd7d61f1f1fc312",
       "version_major": 2,
       "version_minor": 0
      },
      "text/plain": [
       "0it [00:00, ?it/s]"
      ]
     },
     "metadata": {},
     "output_type": "display_data"
    },
    {
     "data": {
      "application/vnd.jupyter.widget-view+json": {
       "model_id": "296abba4552142919a860f92b3268d18",
       "version_major": 2,
       "version_minor": 0
      },
      "text/plain": [
       "0it [00:00, ?it/s]"
      ]
     },
     "metadata": {},
     "output_type": "display_data"
    },
    {
     "data": {
      "application/vnd.jupyter.widget-view+json": {
       "model_id": "637d7a30d35e4a0f8614828e6e22a68b",
       "version_major": 2,
       "version_minor": 0
      },
      "text/plain": [
       "0it [00:00, ?it/s]"
      ]
     },
     "metadata": {},
     "output_type": "display_data"
    },
    {
     "data": {
      "application/vnd.jupyter.widget-view+json": {
       "model_id": "6e1813147efc46f482114f8639e5e0d3",
       "version_major": 2,
       "version_minor": 0
      },
      "text/plain": [
       "0it [00:00, ?it/s]"
      ]
     },
     "metadata": {},
     "output_type": "display_data"
    },
    {
     "data": {
      "application/vnd.jupyter.widget-view+json": {
       "model_id": "f17b979e14804662be698865a526980a",
       "version_major": 2,
       "version_minor": 0
      },
      "text/plain": [
       "  0%|          | 0/2 [00:00<?, ?it/s]"
      ]
     },
     "metadata": {},
     "output_type": "display_data"
    },
    {
     "name": "stdout",
     "output_type": "stream",
     "text": [
      "[TradeInstruction.to_dicts]\n",
      "[TradeInstruction.to_dicts]\n"
     ]
    },
    {
     "data": {
      "application/vnd.jupyter.widget-view+json": {
       "model_id": "be09dbc768174b46985ac0b00193eb37",
       "version_major": 2,
       "version_minor": 0
      },
      "text/plain": [
       "0it [00:00, ?it/s]"
      ]
     },
     "metadata": {},
     "output_type": "display_data"
    },
    {
     "data": {
      "application/vnd.jupyter.widget-view+json": {
       "model_id": "6dad30ed323c4fcca58ce273959e2a5c",
       "version_major": 2,
       "version_minor": 0
      },
      "text/plain": [
       "0it [00:00, ?it/s]"
      ]
     },
     "metadata": {},
     "output_type": "display_data"
    },
    {
     "data": {
      "application/vnd.jupyter.widget-view+json": {
       "model_id": "98d15d7f3fb8483183eeefbb68728d3e",
       "version_major": 2,
       "version_minor": 0
      },
      "text/plain": [
       "0it [00:00, ?it/s]"
      ]
     },
     "metadata": {},
     "output_type": "display_data"
    },
    {
     "data": {
      "application/vnd.jupyter.widget-view+json": {
       "model_id": "f0bfe3645f1d4180b077c03acd0a795a",
       "version_major": 2,
       "version_minor": 0
      },
      "text/plain": [
       "0it [00:00, ?it/s]"
      ]
     },
     "metadata": {},
     "output_type": "display_data"
    },
    {
     "data": {
      "application/vnd.jupyter.widget-view+json": {
       "model_id": "c16d5f583c5e4df3adbe7fd1036d26fc",
       "version_major": 2,
       "version_minor": 0
      },
      "text/plain": [
       "0it [00:00, ?it/s]"
      ]
     },
     "metadata": {},
     "output_type": "display_data"
    },
    {
     "data": {
      "application/vnd.jupyter.widget-view+json": {
       "model_id": "85a0788b43ec451282e9207b4b13467e",
       "version_major": 2,
       "version_minor": 0
      },
      "text/plain": [
       "  0%|          | 0/2 [00:00<?, ?it/s]"
      ]
     },
     "metadata": {},
     "output_type": "display_data"
    },
    {
     "name": "stdout",
     "output_type": "stream",
     "text": [
      "[TradeInstruction.to_dicts]\n",
      "[TradeInstruction.to_dicts]\n"
     ]
    },
    {
     "data": {
      "application/vnd.jupyter.widget-view+json": {
       "model_id": "08239921bdfc4e58aba2f4f9350bd4c4",
       "version_major": 2,
       "version_minor": 0
      },
      "text/plain": [
       "0it [00:00, ?it/s]"
      ]
     },
     "metadata": {},
     "output_type": "display_data"
    },
    {
     "data": {
      "application/vnd.jupyter.widget-view+json": {
       "model_id": "7df646b2e82f405793ba93b44419f2f8",
       "version_major": 2,
       "version_minor": 0
      },
      "text/plain": [
       "0it [00:00, ?it/s]"
      ]
     },
     "metadata": {},
     "output_type": "display_data"
    },
    {
     "data": {
      "application/vnd.jupyter.widget-view+json": {
       "model_id": "adf2b29b93ac4beab3d249845784038f",
       "version_major": 2,
       "version_minor": 0
      },
      "text/plain": [
       "  0%|          | 0/1 [00:00<?, ?it/s]"
      ]
     },
     "metadata": {},
     "output_type": "display_data"
    },
    {
     "name": "stdout",
     "output_type": "stream",
     "text": [
      "[TradeInstruction.to_dicts]\n"
     ]
    },
    {
     "data": {
      "application/vnd.jupyter.widget-view+json": {
       "model_id": "4356ffecdc1c47cfa33052d270fc9298",
       "version_major": 2,
       "version_minor": 0
      },
      "text/plain": [
       "  0%|          | 0/54 [00:00<?, ?it/s]"
      ]
     },
     "metadata": {},
     "output_type": "display_data"
    },
    {
     "name": "stdout",
     "output_type": "stream",
     "text": [
      "[TradeInstruction.to_dicts]\n",
      "[TradeInstruction.to_dicts]\n",
      "[TradeInstruction.to_dicts]\n",
      "[TradeInstruction.to_dicts]\n",
      "[TradeInstruction.to_dicts]\n",
      "[TradeInstruction.to_dicts]\n",
      "[TradeInstruction.to_dicts]\n",
      "[TradeInstruction.to_dicts]\n",
      "[TradeInstruction.to_dicts]\n",
      "[TradeInstruction.to_dicts]\n",
      "[TradeInstruction.to_dicts]\n",
      "[TradeInstruction.to_dicts]\n",
      "[TradeInstruction.to_dicts]\n",
      "[TradeInstruction.to_dicts]\n",
      "[TradeInstruction.to_dicts]\n",
      "[TradeInstruction.to_dicts]\n",
      "[TradeInstruction.to_dicts]\n",
      "[TradeInstruction.to_dicts]\n",
      "[TradeInstruction.to_dicts]\n",
      "[TradeInstruction.to_dicts]\n",
      "[TradeInstruction.to_dicts]\n",
      "[TradeInstruction.to_dicts]\n",
      "[TradeInstruction.to_dicts]\n",
      "[TradeInstruction.to_dicts]\n",
      "[TradeInstruction.to_dicts]\n",
      "[TradeInstruction.to_dicts]\n",
      "[TradeInstruction.to_dicts]\n",
      "[TradeInstruction.to_dicts]\n",
      "[TradeInstruction.to_dicts]\n",
      "[TradeInstruction.to_dicts]\n",
      "[TradeInstruction.to_dicts]\n",
      "[TradeInstruction.to_dicts]\n",
      "[TradeInstruction.to_dicts]\n",
      "[TradeInstruction.to_dicts]\n",
      "[TradeInstruction.to_dicts]\n",
      "[TradeInstruction.to_dicts]\n",
      "[TradeInstruction.to_dicts]\n",
      "[TradeInstruction.to_dicts]\n",
      "[TradeInstruction.to_dicts]\n",
      "[TradeInstruction.to_dicts]\n",
      "[TradeInstruction.to_dicts]\n",
      "[TradeInstruction.to_dicts]\n",
      "[TradeInstruction.to_dicts]\n",
      "[TradeInstruction.to_dicts]\n",
      "[TradeInstruction.to_dicts]\n",
      "[TradeInstruction.to_dicts]\n",
      "[TradeInstruction.to_dicts]\n",
      "[TradeInstruction.to_dicts]\n",
      "[TradeInstruction.to_dicts]\n",
      "[TradeInstruction.to_dicts]\n",
      "[TradeInstruction.to_dicts]\n",
      "[TradeInstruction.to_dicts]\n",
      "[TradeInstruction.to_dicts]\n",
      "[TradeInstruction.to_dicts]\n"
     ]
    },
    {
     "data": {
      "application/vnd.jupyter.widget-view+json": {
       "model_id": "dfb69c832acf4705aa6f33b3bb3e8c62",
       "version_major": 2,
       "version_minor": 0
      },
      "text/plain": [
       "  0%|          | 0/16 [00:00<?, ?it/s]"
      ]
     },
     "metadata": {},
     "output_type": "display_data"
    },
    {
     "name": "stdout",
     "output_type": "stream",
     "text": [
      "[TradeInstruction.to_dicts]\n",
      "[TradeInstruction.to_dicts]\n",
      "[TradeInstruction.to_dicts]\n",
      "[TradeInstruction.to_dicts]\n",
      "[TradeInstruction.to_dicts]\n",
      "[TradeInstruction.to_dicts]\n",
      "[TradeInstruction.to_dicts]\n",
      "[TradeInstruction.to_dicts]\n",
      "[TradeInstruction.to_dicts]\n",
      "[TradeInstruction.to_dicts]\n",
      "[TradeInstruction.to_dicts]\n",
      "[TradeInstruction.to_dicts]\n",
      "[TradeInstruction.to_dicts]\n",
      "[TradeInstruction.to_dicts]\n",
      "[TradeInstruction.to_dicts]\n",
      "[TradeInstruction.to_dicts]\n"
     ]
    },
    {
     "data": {
      "application/vnd.jupyter.widget-view+json": {
       "model_id": "fa3395958d264fa591b7b5fdd0750505",
       "version_major": 2,
       "version_minor": 0
      },
      "text/plain": [
       "  0%|          | 0/39 [00:00<?, ?it/s]"
      ]
     },
     "metadata": {},
     "output_type": "display_data"
    },
    {
     "name": "stdout",
     "output_type": "stream",
     "text": [
      "[TradeInstruction.to_dicts]\n",
      "[TradeInstruction.to_dicts]\n",
      "[TradeInstruction.to_dicts]\n",
      "[TradeInstruction.to_dicts]\n",
      "[TradeInstruction.to_dicts]\n",
      "[TradeInstruction.to_dicts]\n",
      "[TradeInstruction.to_dicts]\n",
      "[TradeInstruction.to_dicts]\n",
      "[TradeInstruction.to_dicts]\n",
      "[TradeInstruction.to_dicts]\n",
      "[TradeInstruction.to_dicts]\n",
      "[TradeInstruction.to_dicts]\n",
      "[TradeInstruction.to_dicts]\n",
      "[TradeInstruction.to_dicts]\n",
      "[TradeInstruction.to_dicts]\n",
      "[TradeInstruction.to_dicts]\n",
      "[TradeInstruction.to_dicts]\n",
      "[TradeInstruction.to_dicts]\n",
      "[TradeInstruction.to_dicts]\n",
      "[TradeInstruction.to_dicts]\n",
      "[TradeInstruction.to_dicts]\n",
      "[TradeInstruction.to_dicts]\n",
      "[TradeInstruction.to_dicts]\n",
      "[TradeInstruction.to_dicts]\n",
      "[TradeInstruction.to_dicts]\n",
      "[TradeInstruction.to_dicts]\n",
      "[TradeInstruction.to_dicts]\n",
      "[TradeInstruction.to_dicts]\n",
      "[TradeInstruction.to_dicts]\n",
      "[TradeInstruction.to_dicts]\n",
      "[TradeInstruction.to_dicts]\n",
      "[TradeInstruction.to_dicts]\n",
      "[TradeInstruction.to_dicts]\n",
      "[TradeInstruction.to_dicts]\n",
      "[TradeInstruction.to_dicts]\n",
      "[TradeInstruction.to_dicts]\n",
      "[TradeInstruction.to_dicts]\n",
      "[TradeInstruction.to_dicts]\n",
      "[TradeInstruction.to_dicts]\n"
     ]
    },
    {
     "data": {
      "application/vnd.jupyter.widget-view+json": {
       "model_id": "02a8992338c1401690d0646ce5aa4ea5",
       "version_major": 2,
       "version_minor": 0
      },
      "text/plain": [
       "  0%|          | 0/18 [00:00<?, ?it/s]"
      ]
     },
     "metadata": {},
     "output_type": "display_data"
    },
    {
     "name": "stdout",
     "output_type": "stream",
     "text": [
      "[TradeInstruction.to_dicts]\n",
      "[TradeInstruction.to_dicts]\n",
      "[TradeInstruction.to_dicts]\n",
      "[TradeInstruction.to_dicts]\n",
      "[TradeInstruction.to_dicts]\n",
      "[TradeInstruction.to_dicts]\n",
      "[TradeInstruction.to_dicts]\n",
      "[TradeInstruction.to_dicts]\n",
      "[TradeInstruction.to_dicts]\n",
      "[TradeInstruction.to_dicts]\n",
      "[TradeInstruction.to_dicts]\n",
      "[TradeInstruction.to_dicts]\n",
      "[TradeInstruction.to_dicts]\n",
      "[TradeInstruction.to_dicts]\n",
      "[TradeInstruction.to_dicts]\n",
      "[TradeInstruction.to_dicts]\n",
      "[TradeInstruction.to_dicts]\n",
      "[TradeInstruction.to_dicts]\n"
     ]
    },
    {
     "data": {
      "application/vnd.jupyter.widget-view+json": {
       "model_id": "48a5ceea429f435fb5a9c31dea8f4ba3",
       "version_major": 2,
       "version_minor": 0
      },
      "text/plain": [
       "  0%|          | 0/4 [00:00<?, ?it/s]"
      ]
     },
     "metadata": {},
     "output_type": "display_data"
    },
    {
     "name": "stdout",
     "output_type": "stream",
     "text": [
      "[TradeInstruction.to_dicts]\n",
      "[TradeInstruction.to_dicts]\n",
      "[TradeInstruction.to_dicts]\n",
      "[TradeInstruction.to_dicts]\n"
     ]
    },
    {
     "data": {
      "application/vnd.jupyter.widget-view+json": {
       "model_id": "9048b47e99fd43d1b47ba54967505794",
       "version_major": 2,
       "version_minor": 0
      },
      "text/plain": [
       "0it [00:00, ?it/s]"
      ]
     },
     "metadata": {},
     "output_type": "display_data"
    },
    {
     "data": {
      "application/vnd.jupyter.widget-view+json": {
       "model_id": "cff8e3d5ed614f858aac7abb19306832",
       "version_major": 2,
       "version_minor": 0
      },
      "text/plain": [
       "0it [00:00, ?it/s]"
      ]
     },
     "metadata": {},
     "output_type": "display_data"
    },
    {
     "data": {
      "application/vnd.jupyter.widget-view+json": {
       "model_id": "5470ce61632e4120979e19563e6b90da",
       "version_major": 2,
       "version_minor": 0
      },
      "text/plain": [
       "0it [00:00, ?it/s]"
      ]
     },
     "metadata": {},
     "output_type": "display_data"
    },
    {
     "data": {
      "application/vnd.jupyter.widget-view+json": {
       "model_id": "6a6cf6500fc44aa780b0350cd83b9871",
       "version_major": 2,
       "version_minor": 0
      },
      "text/plain": [
       "0it [00:00, ?it/s]"
      ]
     },
     "metadata": {},
     "output_type": "display_data"
    },
    {
     "data": {
      "application/vnd.jupyter.widget-view+json": {
       "model_id": "a08cd26354c44fc1b58ba0e722adb1b4",
       "version_major": 2,
       "version_minor": 0
      },
      "text/plain": [
       "0it [00:00, ?it/s]"
      ]
     },
     "metadata": {},
     "output_type": "display_data"
    },
    {
     "data": {
      "application/vnd.jupyter.widget-view+json": {
       "model_id": "14bb26263f014471b4fba727304ace72",
       "version_major": 2,
       "version_minor": 0
      },
      "text/plain": [
       "0it [00:00, ?it/s]"
      ]
     },
     "metadata": {},
     "output_type": "display_data"
    },
    {
     "data": {
      "application/vnd.jupyter.widget-view+json": {
       "model_id": "ab59d55899b548ada78113ce13a760a0",
       "version_major": 2,
       "version_minor": 0
      },
      "text/plain": [
       "  0%|          | 0/10 [00:00<?, ?it/s]"
      ]
     },
     "metadata": {},
     "output_type": "display_data"
    },
    {
     "name": "stdout",
     "output_type": "stream",
     "text": [
      "[TradeInstruction.to_dicts]\n",
      "[TradeInstruction.to_dicts]\n",
      "[TradeInstruction.to_dicts]\n",
      "[TradeInstruction.to_dicts]\n",
      "[TradeInstruction.to_dicts]\n",
      "[TradeInstruction.to_dicts]\n",
      "[TradeInstruction.to_dicts]\n",
      "[TradeInstruction.to_dicts]\n",
      "[TradeInstruction.to_dicts]\n",
      "[TradeInstruction.to_dicts]\n"
     ]
    },
    {
     "data": {
      "application/vnd.jupyter.widget-view+json": {
       "model_id": "e9ea7aed28db4a7cacfc09a78aa60ff5",
       "version_major": 2,
       "version_minor": 0
      },
      "text/plain": [
       "  0%|          | 0/1 [00:00<?, ?it/s]"
      ]
     },
     "metadata": {},
     "output_type": "display_data"
    },
    {
     "name": "stdout",
     "output_type": "stream",
     "text": [
      "[TradeInstruction.to_dicts]\n"
     ]
    },
    {
     "data": {
      "application/vnd.jupyter.widget-view+json": {
       "model_id": "b9e44cf7a4784ada949f932259f8a189",
       "version_major": 2,
       "version_minor": 0
      },
      "text/plain": [
       "  0%|          | 0/39 [00:00<?, ?it/s]"
      ]
     },
     "metadata": {},
     "output_type": "display_data"
    },
    {
     "name": "stdout",
     "output_type": "stream",
     "text": [
      "[TradeInstruction.to_dicts]\n",
      "[TradeInstruction.to_dicts]\n",
      "[TradeInstruction.to_dicts]\n",
      "[TradeInstruction.to_dicts]\n",
      "[TradeInstruction.to_dicts]\n",
      "[TradeInstruction.to_dicts]\n",
      "[TradeInstruction.to_dicts]\n",
      "[TradeInstruction.to_dicts]\n",
      "[TradeInstruction.to_dicts]\n",
      "[TradeInstruction.to_dicts]\n",
      "[TradeInstruction.to_dicts]\n",
      "[TradeInstruction.to_dicts]\n",
      "[TradeInstruction.to_dicts]\n",
      "[TradeInstruction.to_dicts]\n",
      "[TradeInstruction.to_dicts]\n",
      "[TradeInstruction.to_dicts]\n",
      "[TradeInstruction.to_dicts]\n",
      "[TradeInstruction.to_dicts]\n",
      "[TradeInstruction.to_dicts]\n",
      "[TradeInstruction.to_dicts]\n",
      "[TradeInstruction.to_dicts]\n",
      "[TradeInstruction.to_dicts]\n",
      "[TradeInstruction.to_dicts]\n",
      "[TradeInstruction.to_dicts]\n",
      "[TradeInstruction.to_dicts]\n",
      "[TradeInstruction.to_dicts]\n",
      "[TradeInstruction.to_dicts]\n",
      "[TradeInstruction.to_dicts]\n",
      "[TradeInstruction.to_dicts]\n",
      "[TradeInstruction.to_dicts]\n",
      "[TradeInstruction.to_dicts]\n",
      "[TradeInstruction.to_dicts]\n",
      "[TradeInstruction.to_dicts]\n",
      "[TradeInstruction.to_dicts]\n",
      "[TradeInstruction.to_dicts]\n",
      "[TradeInstruction.to_dicts]\n",
      "[TradeInstruction.to_dicts]\n",
      "[TradeInstruction.to_dicts]\n",
      "[TradeInstruction.to_dicts]\n"
     ]
    },
    {
     "data": {
      "application/vnd.jupyter.widget-view+json": {
       "model_id": "07cb4887c9c6415485993d6c43c2a986",
       "version_major": 2,
       "version_minor": 0
      },
      "text/plain": [
       "  0%|          | 0/4 [00:00<?, ?it/s]"
      ]
     },
     "metadata": {},
     "output_type": "display_data"
    },
    {
     "name": "stdout",
     "output_type": "stream",
     "text": [
      "[TradeInstruction.to_dicts]\n",
      "[TradeInstruction.to_dicts]\n",
      "[TradeInstruction.to_dicts]\n",
      "[TradeInstruction.to_dicts]\n"
     ]
    },
    {
     "data": {
      "application/vnd.jupyter.widget-view+json": {
       "model_id": "beed544115094f9d90cfaebbbe65ebff",
       "version_major": 2,
       "version_minor": 0
      },
      "text/plain": [
       "0it [00:00, ?it/s]"
      ]
     },
     "metadata": {},
     "output_type": "display_data"
    },
    {
     "data": {
      "application/vnd.jupyter.widget-view+json": {
       "model_id": "cf4f24d8a9fe464d989805e85aac7949",
       "version_major": 2,
       "version_minor": 0
      },
      "text/plain": [
       "0it [00:00, ?it/s]"
      ]
     },
     "metadata": {},
     "output_type": "display_data"
    },
    {
     "data": {
      "application/vnd.jupyter.widget-view+json": {
       "model_id": "159b4dfbdc5c4b2099631248da1067c1",
       "version_major": 2,
       "version_minor": 0
      },
      "text/plain": [
       "0it [00:00, ?it/s]"
      ]
     },
     "metadata": {},
     "output_type": "display_data"
    },
    {
     "data": {
      "application/vnd.jupyter.widget-view+json": {
       "model_id": "a2f8d5570f6444ca855528ddbe5682e6",
       "version_major": 2,
       "version_minor": 0
      },
      "text/plain": [
       "  0%|          | 0/4 [00:00<?, ?it/s]"
      ]
     },
     "metadata": {},
     "output_type": "display_data"
    },
    {
     "name": "stdout",
     "output_type": "stream",
     "text": [
      "[TradeInstruction.to_dicts]\n",
      "[TradeInstruction.to_dicts]\n",
      "[TradeInstruction.to_dicts]\n",
      "[TradeInstruction.to_dicts]\n"
     ]
    },
    {
     "data": {
      "application/vnd.jupyter.widget-view+json": {
       "model_id": "c9136ae7e7bb414ebe0b610fcd4ca068",
       "version_major": 2,
       "version_minor": 0
      },
      "text/plain": [
       "0it [00:00, ?it/s]"
      ]
     },
     "metadata": {},
     "output_type": "display_data"
    },
    {
     "data": {
      "application/vnd.jupyter.widget-view+json": {
       "model_id": "bebaa576f72148c3a1b30fd78ac92a0f",
       "version_major": 2,
       "version_minor": 0
      },
      "text/plain": [
       "0it [00:00, ?it/s]"
      ]
     },
     "metadata": {},
     "output_type": "display_data"
    },
    {
     "data": {
      "application/vnd.jupyter.widget-view+json": {
       "model_id": "16ec4806d45644438249d7eb00e4df63",
       "version_major": 2,
       "version_minor": 0
      },
      "text/plain": [
       "0it [00:00, ?it/s]"
      ]
     },
     "metadata": {},
     "output_type": "display_data"
    },
    {
     "data": {
      "application/vnd.jupyter.widget-view+json": {
       "model_id": "2c8b0edac21d4c3482c17269179dea8c",
       "version_major": 2,
       "version_minor": 0
      },
      "text/plain": [
       "  0%|          | 0/2 [00:00<?, ?it/s]"
      ]
     },
     "metadata": {},
     "output_type": "display_data"
    },
    {
     "name": "stdout",
     "output_type": "stream",
     "text": [
      "[TradeInstruction.to_dicts]\n",
      "[TradeInstruction.to_dicts]\n"
     ]
    },
    {
     "data": {
      "application/vnd.jupyter.widget-view+json": {
       "model_id": "f6ae00f71cc04bd5bd1e9e6d3255c999",
       "version_major": 2,
       "version_minor": 0
      },
      "text/plain": [
       "  0%|          | 0/2 [00:00<?, ?it/s]"
      ]
     },
     "metadata": {},
     "output_type": "display_data"
    },
    {
     "name": "stdout",
     "output_type": "stream",
     "text": [
      "[TradeInstruction.to_dicts]\n",
      "[TradeInstruction.to_dicts]\n"
     ]
    },
    {
     "data": {
      "application/vnd.jupyter.widget-view+json": {
       "model_id": "0dfba44b1569457b892cea5a4fb6e739",
       "version_major": 2,
       "version_minor": 0
      },
      "text/plain": [
       "  0%|          | 0/10 [00:00<?, ?it/s]"
      ]
     },
     "metadata": {},
     "output_type": "display_data"
    },
    {
     "name": "stdout",
     "output_type": "stream",
     "text": [
      "[TradeInstruction.to_dicts]\n",
      "[TradeInstruction.to_dicts]\n",
      "[TradeInstruction.to_dicts]\n",
      "[TradeInstruction.to_dicts]\n",
      "[TradeInstruction.to_dicts]\n",
      "[TradeInstruction.to_dicts]\n",
      "[TradeInstruction.to_dicts]\n",
      "[TradeInstruction.to_dicts]\n",
      "[TradeInstruction.to_dicts]\n",
      "[TradeInstruction.to_dicts]\n"
     ]
    },
    {
     "data": {
      "application/vnd.jupyter.widget-view+json": {
       "model_id": "e8d31257a84a429e83335adddaffc492",
       "version_major": 2,
       "version_minor": 0
      },
      "text/plain": [
       "0it [00:00, ?it/s]"
      ]
     },
     "metadata": {},
     "output_type": "display_data"
    },
    {
     "data": {
      "application/vnd.jupyter.widget-view+json": {
       "model_id": "c6a8b1cf9f564e50ab0e1ea675d8de31",
       "version_major": 2,
       "version_minor": 0
      },
      "text/plain": [
       "0it [00:00, ?it/s]"
      ]
     },
     "metadata": {},
     "output_type": "display_data"
    },
    {
     "data": {
      "application/vnd.jupyter.widget-view+json": {
       "model_id": "b8804641bd0b4f4aabde990874c04a47",
       "version_major": 2,
       "version_minor": 0
      },
      "text/plain": [
       "0it [00:00, ?it/s]"
      ]
     },
     "metadata": {},
     "output_type": "display_data"
    },
    {
     "data": {
      "application/vnd.jupyter.widget-view+json": {
       "model_id": "22f79beed7914581af6fd69c727b1d07",
       "version_major": 2,
       "version_minor": 0
      },
      "text/plain": [
       "0it [00:00, ?it/s]"
      ]
     },
     "metadata": {},
     "output_type": "display_data"
    },
    {
     "data": {
      "application/vnd.jupyter.widget-view+json": {
       "model_id": "bd49d94f90e54825b68e4b291468f461",
       "version_major": 2,
       "version_minor": 0
      },
      "text/plain": [
       "  0%|          | 0/6 [00:00<?, ?it/s]"
      ]
     },
     "metadata": {},
     "output_type": "display_data"
    },
    {
     "name": "stdout",
     "output_type": "stream",
     "text": [
      "[TradeInstruction.to_dicts]\n",
      "[TradeInstruction.to_dicts]\n",
      "[TradeInstruction.to_dicts]\n",
      "[TradeInstruction.to_dicts]\n",
      "[TradeInstruction.to_dicts]\n",
      "[TradeInstruction.to_dicts]\n"
     ]
    },
    {
     "data": {
      "application/vnd.jupyter.widget-view+json": {
       "model_id": "6660e020e42043a9ad574e79c29d5a6f",
       "version_major": 2,
       "version_minor": 0
      },
      "text/plain": [
       "  0%|          | 0/4 [00:00<?, ?it/s]"
      ]
     },
     "metadata": {},
     "output_type": "display_data"
    },
    {
     "name": "stdout",
     "output_type": "stream",
     "text": [
      "[TradeInstruction.to_dicts]\n",
      "[TradeInstruction.to_dicts]\n",
      "[TradeInstruction.to_dicts]\n",
      "[TradeInstruction.to_dicts]\n"
     ]
    },
    {
     "data": {
      "application/vnd.jupyter.widget-view+json": {
       "model_id": "6c453ca2f65a40b59bce19ce23d8361d",
       "version_major": 2,
       "version_minor": 0
      },
      "text/plain": [
       "0it [00:00, ?it/s]"
      ]
     },
     "metadata": {},
     "output_type": "display_data"
    },
    {
     "data": {
      "application/vnd.jupyter.widget-view+json": {
       "model_id": "f94709fc3da14918b29d957bee6e7734",
       "version_major": 2,
       "version_minor": 0
      },
      "text/plain": [
       "  0%|          | 0/1 [00:00<?, ?it/s]"
      ]
     },
     "metadata": {},
     "output_type": "display_data"
    },
    {
     "name": "stdout",
     "output_type": "stream",
     "text": [
      "[TradeInstruction.to_dicts]\n"
     ]
    },
    {
     "data": {
      "application/vnd.jupyter.widget-view+json": {
       "model_id": "159ea637f23f406db389c1a262a1d429",
       "version_major": 2,
       "version_minor": 0
      },
      "text/plain": [
       "0it [00:00, ?it/s]"
      ]
     },
     "metadata": {},
     "output_type": "display_data"
    },
    {
     "data": {
      "application/vnd.jupyter.widget-view+json": {
       "model_id": "0644b198385540f0b2f5af2b0b1aa6ea",
       "version_major": 2,
       "version_minor": 0
      },
      "text/plain": [
       "0it [00:00, ?it/s]"
      ]
     },
     "metadata": {},
     "output_type": "display_data"
    },
    {
     "data": {
      "application/vnd.jupyter.widget-view+json": {
       "model_id": "40632074476d4044af42d05bebe7ed12",
       "version_major": 2,
       "version_minor": 0
      },
      "text/plain": [
       "  0%|          | 0/4 [00:00<?, ?it/s]"
      ]
     },
     "metadata": {},
     "output_type": "display_data"
    },
    {
     "name": "stdout",
     "output_type": "stream",
     "text": [
      "[TradeInstruction.to_dicts]\n",
      "[TradeInstruction.to_dicts]\n",
      "[TradeInstruction.to_dicts]\n",
      "[TradeInstruction.to_dicts]\n"
     ]
    },
    {
     "data": {
      "application/vnd.jupyter.widget-view+json": {
       "model_id": "a650f1d276694317ae6326b619411770",
       "version_major": 2,
       "version_minor": 0
      },
      "text/plain": [
       "  0%|          | 0/18 [00:00<?, ?it/s]"
      ]
     },
     "metadata": {},
     "output_type": "display_data"
    },
    {
     "name": "stdout",
     "output_type": "stream",
     "text": [
      "[TradeInstruction.to_dicts]\n",
      "[TradeInstruction.to_dicts]\n",
      "[TradeInstruction.to_dicts]\n",
      "[TradeInstruction.to_dicts]\n",
      "[TradeInstruction.to_dicts]\n",
      "[TradeInstruction.to_dicts]\n",
      "[TradeInstruction.to_dicts]\n",
      "[TradeInstruction.to_dicts]\n",
      "[TradeInstruction.to_dicts]\n",
      "[TradeInstruction.to_dicts]\n",
      "[TradeInstruction.to_dicts]\n",
      "[TradeInstruction.to_dicts]\n",
      "[TradeInstruction.to_dicts]\n",
      "[TradeInstruction.to_dicts]\n",
      "[TradeInstruction.to_dicts]\n",
      "[TradeInstruction.to_dicts]\n",
      "[TradeInstruction.to_dicts]\n",
      "[TradeInstruction.to_dicts]\n"
     ]
    },
    {
     "data": {
      "application/vnd.jupyter.widget-view+json": {
       "model_id": "95cb95386c184edabcbf0edeeb27ff2f",
       "version_major": 2,
       "version_minor": 0
      },
      "text/plain": [
       "  0%|          | 0/4 [00:00<?, ?it/s]"
      ]
     },
     "metadata": {},
     "output_type": "display_data"
    },
    {
     "name": "stdout",
     "output_type": "stream",
     "text": [
      "[TradeInstruction.to_dicts]\n",
      "[TradeInstruction.to_dicts]\n",
      "[TradeInstruction.to_dicts]\n",
      "[TradeInstruction.to_dicts]\n"
     ]
    },
    {
     "data": {
      "application/vnd.jupyter.widget-view+json": {
       "model_id": "6d68a87af562400a904a8ba4a69f777b",
       "version_major": 2,
       "version_minor": 0
      },
      "text/plain": [
       "0it [00:00, ?it/s]"
      ]
     },
     "metadata": {},
     "output_type": "display_data"
    },
    {
     "data": {
      "application/vnd.jupyter.widget-view+json": {
       "model_id": "b485d0b1517c4f0db3dbdd8f7b285821",
       "version_major": 2,
       "version_minor": 0
      },
      "text/plain": [
       "0it [00:00, ?it/s]"
      ]
     },
     "metadata": {},
     "output_type": "display_data"
    },
    {
     "data": {
      "application/vnd.jupyter.widget-view+json": {
       "model_id": "c398d67798e448b3b5c32c573606a91e",
       "version_major": 2,
       "version_minor": 0
      },
      "text/plain": [
       "0it [00:00, ?it/s]"
      ]
     },
     "metadata": {},
     "output_type": "display_data"
    },
    {
     "data": {
      "application/vnd.jupyter.widget-view+json": {
       "model_id": "9e7d0e483ce8428798bf4917966d0049",
       "version_major": 2,
       "version_minor": 0
      },
      "text/plain": [
       "0it [00:00, ?it/s]"
      ]
     },
     "metadata": {},
     "output_type": "display_data"
    },
    {
     "data": {
      "application/vnd.jupyter.widget-view+json": {
       "model_id": "42364500c9184bd3b74d1c8a553a0c62",
       "version_major": 2,
       "version_minor": 0
      },
      "text/plain": [
       "0it [00:00, ?it/s]"
      ]
     },
     "metadata": {},
     "output_type": "display_data"
    },
    {
     "data": {
      "application/vnd.jupyter.widget-view+json": {
       "model_id": "bccbb1a00d0845448126474e9daf8fd4",
       "version_major": 2,
       "version_minor": 0
      },
      "text/plain": [
       "0it [00:00, ?it/s]"
      ]
     },
     "metadata": {},
     "output_type": "display_data"
    },
    {
     "data": {
      "application/vnd.jupyter.widget-view+json": {
       "model_id": "2ac965cbd7834cb28f3e73f0b03021e4",
       "version_major": 2,
       "version_minor": 0
      },
      "text/plain": [
       "0it [00:00, ?it/s]"
      ]
     },
     "metadata": {},
     "output_type": "display_data"
    },
    {
     "data": {
      "application/vnd.jupyter.widget-view+json": {
       "model_id": "a98b832c01594e7690277a2b8c6ce382",
       "version_major": 2,
       "version_minor": 0
      },
      "text/plain": [
       "0it [00:00, ?it/s]"
      ]
     },
     "metadata": {},
     "output_type": "display_data"
    },
    {
     "data": {
      "application/vnd.jupyter.widget-view+json": {
       "model_id": "ea53fe603e9144dcb2c58dc69634242e",
       "version_major": 2,
       "version_minor": 0
      },
      "text/plain": [
       "0it [00:00, ?it/s]"
      ]
     },
     "metadata": {},
     "output_type": "display_data"
    },
    {
     "data": {
      "application/vnd.jupyter.widget-view+json": {
       "model_id": "6faf4673b846419b8abbbddbe5fddcce",
       "version_major": 2,
       "version_minor": 0
      },
      "text/plain": [
       "  0%|          | 0/2 [00:00<?, ?it/s]"
      ]
     },
     "metadata": {},
     "output_type": "display_data"
    },
    {
     "name": "stdout",
     "output_type": "stream",
     "text": [
      "[TradeInstruction.to_dicts]\n",
      "[TradeInstruction.to_dicts]\n"
     ]
    },
    {
     "data": {
      "application/vnd.jupyter.widget-view+json": {
       "model_id": "ffc36c4bd66c480ba917d9868bef2d62",
       "version_major": 2,
       "version_minor": 0
      },
      "text/plain": [
       "0it [00:00, ?it/s]"
      ]
     },
     "metadata": {},
     "output_type": "display_data"
    },
    {
     "data": {
      "application/vnd.jupyter.widget-view+json": {
       "model_id": "f071556f864b4b7d922efb7795d48c52",
       "version_major": 2,
       "version_minor": 0
      },
      "text/plain": [
       "0it [00:00, ?it/s]"
      ]
     },
     "metadata": {},
     "output_type": "display_data"
    },
    {
     "data": {
      "application/vnd.jupyter.widget-view+json": {
       "model_id": "4a49b804a01e4bdaa68eb87c72a5ba33",
       "version_major": 2,
       "version_minor": 0
      },
      "text/plain": [
       "0it [00:00, ?it/s]"
      ]
     },
     "metadata": {},
     "output_type": "display_data"
    },
    {
     "data": {
      "application/vnd.jupyter.widget-view+json": {
       "model_id": "c84ed1fc82e04779b89540acb69b04a3",
       "version_major": 2,
       "version_minor": 0
      },
      "text/plain": [
       "  0%|          | 0/4 [00:00<?, ?it/s]"
      ]
     },
     "metadata": {},
     "output_type": "display_data"
    },
    {
     "name": "stdout",
     "output_type": "stream",
     "text": [
      "[TradeInstruction.to_dicts]\n",
      "[TradeInstruction.to_dicts]\n",
      "[TradeInstruction.to_dicts]\n",
      "[TradeInstruction.to_dicts]\n"
     ]
    },
    {
     "data": {
      "application/vnd.jupyter.widget-view+json": {
       "model_id": "9fc682ccbca54dbbb22324a508e785b0",
       "version_major": 2,
       "version_minor": 0
      },
      "text/plain": [
       "0it [00:00, ?it/s]"
      ]
     },
     "metadata": {},
     "output_type": "display_data"
    },
    {
     "data": {
      "application/vnd.jupyter.widget-view+json": {
       "model_id": "7bf2507603e04b0fb56a4c0aa777f182",
       "version_major": 2,
       "version_minor": 0
      },
      "text/plain": [
       "  0%|          | 0/16 [00:00<?, ?it/s]"
      ]
     },
     "metadata": {},
     "output_type": "display_data"
    },
    {
     "name": "stdout",
     "output_type": "stream",
     "text": [
      "[TradeInstruction.to_dicts]\n",
      "[TradeInstruction.to_dicts]\n",
      "[TradeInstruction.to_dicts]\n",
      "[TradeInstruction.to_dicts]\n",
      "[TradeInstruction.to_dicts]\n",
      "[TradeInstruction.to_dicts]\n",
      "[TradeInstruction.to_dicts]\n",
      "[TradeInstruction.to_dicts]\n",
      "[TradeInstruction.to_dicts]\n",
      "[TradeInstruction.to_dicts]\n",
      "[TradeInstruction.to_dicts]\n",
      "[TradeInstruction.to_dicts]\n",
      "[TradeInstruction.to_dicts]\n",
      "[TradeInstruction.to_dicts]\n",
      "[TradeInstruction.to_dicts]\n",
      "[TradeInstruction.to_dicts]\n"
     ]
    },
    {
     "data": {
      "application/vnd.jupyter.widget-view+json": {
       "model_id": "eae8584abd19427b99f2c9105a22505f",
       "version_major": 2,
       "version_minor": 0
      },
      "text/plain": [
       "  0%|          | 0/54 [00:00<?, ?it/s]"
      ]
     },
     "metadata": {},
     "output_type": "display_data"
    },
    {
     "name": "stdout",
     "output_type": "stream",
     "text": [
      "[TradeInstruction.to_dicts]\n",
      "[TradeInstruction.to_dicts]\n",
      "[TradeInstruction.to_dicts]\n",
      "[TradeInstruction.to_dicts]\n",
      "[TradeInstruction.to_dicts]\n",
      "[TradeInstruction.to_dicts]\n",
      "[TradeInstruction.to_dicts]\n",
      "[TradeInstruction.to_dicts]\n",
      "[TradeInstruction.to_dicts]\n",
      "[TradeInstruction.to_dicts]\n",
      "[TradeInstruction.to_dicts]\n",
      "[TradeInstruction.to_dicts]\n",
      "[TradeInstruction.to_dicts]\n",
      "[TradeInstruction.to_dicts]\n",
      "[TradeInstruction.to_dicts]\n",
      "[TradeInstruction.to_dicts]\n",
      "[TradeInstruction.to_dicts]\n",
      "[TradeInstruction.to_dicts]\n",
      "[TradeInstruction.to_dicts]\n",
      "[TradeInstruction.to_dicts]\n",
      "[TradeInstruction.to_dicts]\n",
      "[TradeInstruction.to_dicts]\n",
      "[TradeInstruction.to_dicts]\n",
      "[TradeInstruction.to_dicts]\n",
      "[TradeInstruction.to_dicts]\n",
      "[TradeInstruction.to_dicts]\n",
      "[TradeInstruction.to_dicts]\n",
      "[TradeInstruction.to_dicts]\n",
      "[TradeInstruction.to_dicts]\n",
      "[TradeInstruction.to_dicts]\n",
      "[TradeInstruction.to_dicts]\n",
      "[TradeInstruction.to_dicts]\n",
      "[TradeInstruction.to_dicts]\n",
      "[TradeInstruction.to_dicts]\n",
      "[TradeInstruction.to_dicts]\n",
      "[TradeInstruction.to_dicts]\n",
      "[TradeInstruction.to_dicts]\n",
      "[TradeInstruction.to_dicts]\n",
      "[TradeInstruction.to_dicts]\n",
      "[TradeInstruction.to_dicts]\n",
      "[TradeInstruction.to_dicts]\n",
      "[TradeInstruction.to_dicts]\n",
      "[TradeInstruction.to_dicts]\n",
      "[TradeInstruction.to_dicts]\n",
      "[TradeInstruction.to_dicts]\n",
      "[TradeInstruction.to_dicts]\n",
      "[TradeInstruction.to_dicts]\n",
      "[TradeInstruction.to_dicts]\n",
      "[TradeInstruction.to_dicts]\n",
      "[TradeInstruction.to_dicts]\n",
      "[TradeInstruction.to_dicts]\n",
      "[TradeInstruction.to_dicts]\n",
      "[TradeInstruction.to_dicts]\n",
      "[TradeInstruction.to_dicts]\n"
     ]
    },
    {
     "data": {
      "application/vnd.jupyter.widget-view+json": {
       "model_id": "b07bdaf116b04160b099d4ebf810e262",
       "version_major": 2,
       "version_minor": 0
      },
      "text/plain": [
       "  0%|          | 0/10 [00:00<?, ?it/s]"
      ]
     },
     "metadata": {},
     "output_type": "display_data"
    },
    {
     "name": "stdout",
     "output_type": "stream",
     "text": [
      "[TradeInstruction.to_dicts]\n",
      "[TradeInstruction.to_dicts]\n",
      "[TradeInstruction.to_dicts]\n",
      "[TradeInstruction.to_dicts]\n",
      "[TradeInstruction.to_dicts]\n",
      "[TradeInstruction.to_dicts]\n",
      "[TradeInstruction.to_dicts]\n",
      "[TradeInstruction.to_dicts]\n",
      "[TradeInstruction.to_dicts]\n",
      "[TradeInstruction.to_dicts]\n"
     ]
    },
    {
     "data": {
      "application/vnd.jupyter.widget-view+json": {
       "model_id": "7a4f315ee7f743cfbab20d1e8dac08c9",
       "version_major": 2,
       "version_minor": 0
      },
      "text/plain": [
       "  0%|          | 0/4 [00:00<?, ?it/s]"
      ]
     },
     "metadata": {},
     "output_type": "display_data"
    },
    {
     "name": "stdout",
     "output_type": "stream",
     "text": [
      "[TradeInstruction.to_dicts]\n",
      "[TradeInstruction.to_dicts]\n",
      "[TradeInstruction.to_dicts]\n",
      "[TradeInstruction.to_dicts]\n"
     ]
    },
    {
     "data": {
      "application/vnd.jupyter.widget-view+json": {
       "model_id": "2e5565e2faf34128b9674bbffae0616f",
       "version_major": 2,
       "version_minor": 0
      },
      "text/plain": [
       "  0%|          | 0/6 [00:00<?, ?it/s]"
      ]
     },
     "metadata": {},
     "output_type": "display_data"
    },
    {
     "name": "stdout",
     "output_type": "stream",
     "text": [
      "[TradeInstruction.to_dicts]\n",
      "[TradeInstruction.to_dicts]\n",
      "[TradeInstruction.to_dicts]\n",
      "[TradeInstruction.to_dicts]\n",
      "[TradeInstruction.to_dicts]\n",
      "[TradeInstruction.to_dicts]\n"
     ]
    },
    {
     "data": {
      "application/vnd.jupyter.widget-view+json": {
       "model_id": "05accbfa85a64421a30157771e51cea1",
       "version_major": 2,
       "version_minor": 0
      },
      "text/plain": [
       "0it [00:00, ?it/s]"
      ]
     },
     "metadata": {},
     "output_type": "display_data"
    },
    {
     "data": {
      "application/vnd.jupyter.widget-view+json": {
       "model_id": "8cc4e51e34c847e5a72bb5478988d7f6",
       "version_major": 2,
       "version_minor": 0
      },
      "text/plain": [
       "0it [00:00, ?it/s]"
      ]
     },
     "metadata": {},
     "output_type": "display_data"
    },
    {
     "data": {
      "application/vnd.jupyter.widget-view+json": {
       "model_id": "e16947f4577c48e38c662332ca073061",
       "version_major": 2,
       "version_minor": 0
      },
      "text/plain": [
       "0it [00:00, ?it/s]"
      ]
     },
     "metadata": {},
     "output_type": "display_data"
    },
    {
     "data": {
      "application/vnd.jupyter.widget-view+json": {
       "model_id": "10e61e8adbee46199f815e7a68e8a739",
       "version_major": 2,
       "version_minor": 0
      },
      "text/plain": [
       "0it [00:00, ?it/s]"
      ]
     },
     "metadata": {},
     "output_type": "display_data"
    },
    {
     "data": {
      "application/vnd.jupyter.widget-view+json": {
       "model_id": "9c30b913ceb14051bdad8deba241d703",
       "version_major": 2,
       "version_minor": 0
      },
      "text/plain": [
       "  0%|          | 0/14 [00:00<?, ?it/s]"
      ]
     },
     "metadata": {},
     "output_type": "display_data"
    },
    {
     "name": "stdout",
     "output_type": "stream",
     "text": [
      "[TradeInstruction.to_dicts]\n",
      "[TradeInstruction.to_dicts]\n",
      "[TradeInstruction.to_dicts]\n",
      "[TradeInstruction.to_dicts]\n",
      "[TradeInstruction.to_dicts]\n",
      "[TradeInstruction.to_dicts]\n",
      "[TradeInstruction.to_dicts]\n",
      "[TradeInstruction.to_dicts]\n",
      "[TradeInstruction.to_dicts]\n",
      "[TradeInstruction.to_dicts]\n",
      "[TradeInstruction.to_dicts]\n",
      "[TradeInstruction.to_dicts]\n",
      "[TradeInstruction.to_dicts]\n",
      "[TradeInstruction.to_dicts]\n"
     ]
    },
    {
     "data": {
      "application/vnd.jupyter.widget-view+json": {
       "model_id": "bb665073469445e382dc81cb22231ff4",
       "version_major": 2,
       "version_minor": 0
      },
      "text/plain": [
       "0it [00:00, ?it/s]"
      ]
     },
     "metadata": {},
     "output_type": "display_data"
    },
    {
     "data": {
      "application/vnd.jupyter.widget-view+json": {
       "model_id": "29972bcb781b40efb6a2e1424aaf829a",
       "version_major": 2,
       "version_minor": 0
      },
      "text/plain": [
       "  0%|          | 0/6 [00:00<?, ?it/s]"
      ]
     },
     "metadata": {},
     "output_type": "display_data"
    },
    {
     "name": "stdout",
     "output_type": "stream",
     "text": [
      "[TradeInstruction.to_dicts]\n",
      "[TradeInstruction.to_dicts]\n",
      "[TradeInstruction.to_dicts]\n",
      "[TradeInstruction.to_dicts]\n",
      "[TradeInstruction.to_dicts]\n",
      "[TradeInstruction.to_dicts]\n"
     ]
    },
    {
     "data": {
      "application/vnd.jupyter.widget-view+json": {
       "model_id": "fe7a316f4ff54f2bb490c41ed7296877",
       "version_major": 2,
       "version_minor": 0
      },
      "text/plain": [
       "0it [00:00, ?it/s]"
      ]
     },
     "metadata": {},
     "output_type": "display_data"
    },
    {
     "data": {
      "application/vnd.jupyter.widget-view+json": {
       "model_id": "5ac111ac7d1244418613bfe1fc8ac59f",
       "version_major": 2,
       "version_minor": 0
      },
      "text/plain": [
       "0it [00:00, ?it/s]"
      ]
     },
     "metadata": {},
     "output_type": "display_data"
    },
    {
     "data": {
      "application/vnd.jupyter.widget-view+json": {
       "model_id": "b99dcdde3015440283e3947526cb4850",
       "version_major": 2,
       "version_minor": 0
      },
      "text/plain": [
       "0it [00:00, ?it/s]"
      ]
     },
     "metadata": {},
     "output_type": "display_data"
    },
    {
     "data": {
      "application/vnd.jupyter.widget-view+json": {
       "model_id": "895e5ac975f54b0f9614b86329d5cb0c",
       "version_major": 2,
       "version_minor": 0
      },
      "text/plain": [
       "0it [00:00, ?it/s]"
      ]
     },
     "metadata": {},
     "output_type": "display_data"
    },
    {
     "data": {
      "application/vnd.jupyter.widget-view+json": {
       "model_id": "61a2e9d5914d475295a3f8ed72e069d0",
       "version_major": 2,
       "version_minor": 0
      },
      "text/plain": [
       "0it [00:00, ?it/s]"
      ]
     },
     "metadata": {},
     "output_type": "display_data"
    },
    {
     "data": {
      "application/vnd.jupyter.widget-view+json": {
       "model_id": "84281342199c4168b59358edbffb16d7",
       "version_major": 2,
       "version_minor": 0
      },
      "text/plain": [
       "0it [00:00, ?it/s]"
      ]
     },
     "metadata": {},
     "output_type": "display_data"
    },
    {
     "data": {
      "application/vnd.jupyter.widget-view+json": {
       "model_id": "4e36c659b11146e085618af767d94e48",
       "version_major": 2,
       "version_minor": 0
      },
      "text/plain": [
       "0it [00:00, ?it/s]"
      ]
     },
     "metadata": {},
     "output_type": "display_data"
    },
    {
     "data": {
      "application/vnd.jupyter.widget-view+json": {
       "model_id": "c6840c939aef474d8a4bbe63afbaa1a7",
       "version_major": 2,
       "version_minor": 0
      },
      "text/plain": [
       "0it [00:00, ?it/s]"
      ]
     },
     "metadata": {},
     "output_type": "display_data"
    },
    {
     "data": {
      "application/vnd.jupyter.widget-view+json": {
       "model_id": "5c24b3d7455f4352af631135dd724d7d",
       "version_major": 2,
       "version_minor": 0
      },
      "text/plain": [
       "  0%|          | 0/3 [00:00<?, ?it/s]"
      ]
     },
     "metadata": {},
     "output_type": "display_data"
    },
    {
     "name": "stdout",
     "output_type": "stream",
     "text": [
      "[TradeInstruction.to_dicts]\n",
      "[TradeInstruction.to_dicts]\n",
      "[TradeInstruction.to_dicts]\n"
     ]
    },
    {
     "data": {
      "application/vnd.jupyter.widget-view+json": {
       "model_id": "2055b97e60c44275acf142f6fda27d3b",
       "version_major": 2,
       "version_minor": 0
      },
      "text/plain": [
       "  0%|          | 0/4 [00:00<?, ?it/s]"
      ]
     },
     "metadata": {},
     "output_type": "display_data"
    },
    {
     "name": "stdout",
     "output_type": "stream",
     "text": [
      "[TradeInstruction.to_dicts]\n",
      "[TradeInstruction.to_dicts]\n",
      "[TradeInstruction.to_dicts]\n",
      "[TradeInstruction.to_dicts]\n"
     ]
    },
    {
     "data": {
      "application/vnd.jupyter.widget-view+json": {
       "model_id": "11bbe4d522fa4bc6815c4458c4f6b398",
       "version_major": 2,
       "version_minor": 0
      },
      "text/plain": [
       "  0%|          | 0/1 [00:00<?, ?it/s]"
      ]
     },
     "metadata": {},
     "output_type": "display_data"
    },
    {
     "name": "stdout",
     "output_type": "stream",
     "text": [
      "[TradeInstruction.to_dicts]\n"
     ]
    },
    {
     "data": {
      "application/vnd.jupyter.widget-view+json": {
       "model_id": "d104d5fb96a847f383acb52d4a4ca132",
       "version_major": 2,
       "version_minor": 0
      },
      "text/plain": [
       "  0%|          | 0/1 [00:00<?, ?it/s]"
      ]
     },
     "metadata": {},
     "output_type": "display_data"
    },
    {
     "name": "stdout",
     "output_type": "stream",
     "text": [
      "[TradeInstruction.to_dicts]\n"
     ]
    },
    {
     "data": {
      "application/vnd.jupyter.widget-view+json": {
       "model_id": "e4dd99224e79453ebc05d3f929a4ca50",
       "version_major": 2,
       "version_minor": 0
      },
      "text/plain": [
       "  0%|          | 0/2 [00:00<?, ?it/s]"
      ]
     },
     "metadata": {},
     "output_type": "display_data"
    },
    {
     "name": "stdout",
     "output_type": "stream",
     "text": [
      "[TradeInstruction.to_dicts]\n",
      "[TradeInstruction.to_dicts]\n"
     ]
    },
    {
     "data": {
      "application/vnd.jupyter.widget-view+json": {
       "model_id": "f79df5dfbe91419d872f11eaa685d552",
       "version_major": 2,
       "version_minor": 0
      },
      "text/plain": [
       "0it [00:00, ?it/s]"
      ]
     },
     "metadata": {},
     "output_type": "display_data"
    },
    {
     "data": {
      "application/vnd.jupyter.widget-view+json": {
       "model_id": "713069d55ae44086a1ae6a45c2bb6e06",
       "version_major": 2,
       "version_minor": 0
      },
      "text/plain": [
       "0it [00:00, ?it/s]"
      ]
     },
     "metadata": {},
     "output_type": "display_data"
    },
    {
     "data": {
      "application/vnd.jupyter.widget-view+json": {
       "model_id": "14f46abca1634ce6bb6c42e61d1eaa1f",
       "version_major": 2,
       "version_minor": 0
      },
      "text/plain": [
       "  0%|          | 0/2 [00:00<?, ?it/s]"
      ]
     },
     "metadata": {},
     "output_type": "display_data"
    },
    {
     "name": "stdout",
     "output_type": "stream",
     "text": [
      "[TradeInstruction.to_dicts]\n",
      "[TradeInstruction.to_dicts]\n"
     ]
    },
    {
     "data": {
      "application/vnd.jupyter.widget-view+json": {
       "model_id": "ea92d396ab9e4b198239edceec71e0d4",
       "version_major": 2,
       "version_minor": 0
      },
      "text/plain": [
       "0it [00:00, ?it/s]"
      ]
     },
     "metadata": {},
     "output_type": "display_data"
    },
    {
     "data": {
      "application/vnd.jupyter.widget-view+json": {
       "model_id": "e76cbe5d8b9e413db707f00727d72ab7",
       "version_major": 2,
       "version_minor": 0
      },
      "text/plain": [
       "0it [00:00, ?it/s]"
      ]
     },
     "metadata": {},
     "output_type": "display_data"
    },
    {
     "data": {
      "application/vnd.jupyter.widget-view+json": {
       "model_id": "2228dff58ab7474abfd6f48ceddd1f42",
       "version_major": 2,
       "version_minor": 0
      },
      "text/plain": [
       "0it [00:00, ?it/s]"
      ]
     },
     "metadata": {},
     "output_type": "display_data"
    },
    {
     "data": {
      "application/vnd.jupyter.widget-view+json": {
       "model_id": "fe6444e888124cd59892387e30883927",
       "version_major": 2,
       "version_minor": 0
      },
      "text/plain": [
       "0it [00:00, ?it/s]"
      ]
     },
     "metadata": {},
     "output_type": "display_data"
    },
    {
     "data": {
      "application/vnd.jupyter.widget-view+json": {
       "model_id": "98999038f65843a5b50ba00b48236cc6",
       "version_major": 2,
       "version_minor": 0
      },
      "text/plain": [
       "  0%|          | 0/16 [00:00<?, ?it/s]"
      ]
     },
     "metadata": {},
     "output_type": "display_data"
    },
    {
     "name": "stdout",
     "output_type": "stream",
     "text": [
      "[TradeInstruction.to_dicts]\n",
      "[TradeInstruction.to_dicts]\n",
      "[TradeInstruction.to_dicts]\n",
      "[TradeInstruction.to_dicts]\n",
      "[TradeInstruction.to_dicts]\n",
      "[TradeInstruction.to_dicts]\n",
      "[TradeInstruction.to_dicts]\n",
      "[TradeInstruction.to_dicts]\n",
      "[TradeInstruction.to_dicts]\n",
      "[TradeInstruction.to_dicts]\n",
      "[TradeInstruction.to_dicts]\n",
      "[TradeInstruction.to_dicts]\n",
      "[TradeInstruction.to_dicts]\n",
      "[TradeInstruction.to_dicts]\n",
      "[TradeInstruction.to_dicts]\n",
      "[TradeInstruction.to_dicts]\n"
     ]
    },
    {
     "data": {
      "application/vnd.jupyter.widget-view+json": {
       "model_id": "63b4cf156fa74bfa9e7c9ad7f0c42483",
       "version_major": 2,
       "version_minor": 0
      },
      "text/plain": [
       "  0%|          | 0/16 [00:00<?, ?it/s]"
      ]
     },
     "metadata": {},
     "output_type": "display_data"
    },
    {
     "name": "stdout",
     "output_type": "stream",
     "text": [
      "[TradeInstruction.to_dicts]\n",
      "[TradeInstruction.to_dicts]\n",
      "[TradeInstruction.to_dicts]\n",
      "[TradeInstruction.to_dicts]\n",
      "[TradeInstruction.to_dicts]\n",
      "[TradeInstruction.to_dicts]\n",
      "[TradeInstruction.to_dicts]\n",
      "[TradeInstruction.to_dicts]\n",
      "[TradeInstruction.to_dicts]\n",
      "[TradeInstruction.to_dicts]\n",
      "[TradeInstruction.to_dicts]\n",
      "[TradeInstruction.to_dicts]\n",
      "[TradeInstruction.to_dicts]\n",
      "[TradeInstruction.to_dicts]\n",
      "[TradeInstruction.to_dicts]\n",
      "[TradeInstruction.to_dicts]\n"
     ]
    },
    {
     "data": {
      "application/vnd.jupyter.widget-view+json": {
       "model_id": "5fba636862be4bff8be8d85237d1d482",
       "version_major": 2,
       "version_minor": 0
      },
      "text/plain": [
       "  0%|          | 0/1 [00:00<?, ?it/s]"
      ]
     },
     "metadata": {},
     "output_type": "display_data"
    },
    {
     "name": "stdout",
     "output_type": "stream",
     "text": [
      "[TradeInstruction.to_dicts]\n"
     ]
    },
    {
     "data": {
      "application/vnd.jupyter.widget-view+json": {
       "model_id": "13958fa08f3f4f7c8c999febd239d486",
       "version_major": 2,
       "version_minor": 0
      },
      "text/plain": [
       "0it [00:00, ?it/s]"
      ]
     },
     "metadata": {},
     "output_type": "display_data"
    },
    {
     "data": {
      "application/vnd.jupyter.widget-view+json": {
       "model_id": "9fc1ecd322264b4cab46b1568c5d682d",
       "version_major": 2,
       "version_minor": 0
      },
      "text/plain": [
       "0it [00:00, ?it/s]"
      ]
     },
     "metadata": {},
     "output_type": "display_data"
    },
    {
     "data": {
      "application/vnd.jupyter.widget-view+json": {
       "model_id": "537b7e6667ae4cfdbc6f1e90a4f46d35",
       "version_major": 2,
       "version_minor": 0
      },
      "text/plain": [
       "0it [00:00, ?it/s]"
      ]
     },
     "metadata": {},
     "output_type": "display_data"
    },
    {
     "data": {
      "application/vnd.jupyter.widget-view+json": {
       "model_id": "9616e4e9d48e4714a3faf12b61ed43d4",
       "version_major": 2,
       "version_minor": 0
      },
      "text/plain": [
       "0it [00:00, ?it/s]"
      ]
     },
     "metadata": {},
     "output_type": "display_data"
    },
    {
     "data": {
      "application/vnd.jupyter.widget-view+json": {
       "model_id": "c71a5a6cb1394b28bc41d2543e11918b",
       "version_major": 2,
       "version_minor": 0
      },
      "text/plain": [
       "0it [00:00, ?it/s]"
      ]
     },
     "metadata": {},
     "output_type": "display_data"
    },
    {
     "data": {
      "application/vnd.jupyter.widget-view+json": {
       "model_id": "ceac2ef1b6a04a769e6128e7681b0777",
       "version_major": 2,
       "version_minor": 0
      },
      "text/plain": [
       "0it [00:00, ?it/s]"
      ]
     },
     "metadata": {},
     "output_type": "display_data"
    },
    {
     "data": {
      "application/vnd.jupyter.widget-view+json": {
       "model_id": "b804ecd4de6c4bddb29c0c88bf780e21",
       "version_major": 2,
       "version_minor": 0
      },
      "text/plain": [
       "0it [00:00, ?it/s]"
      ]
     },
     "metadata": {},
     "output_type": "display_data"
    },
    {
     "data": {
      "application/vnd.jupyter.widget-view+json": {
       "model_id": "a3af14ab92634defae83364f1288dae9",
       "version_major": 2,
       "version_minor": 0
      },
      "text/plain": [
       "  0%|          | 0/2 [00:00<?, ?it/s]"
      ]
     },
     "metadata": {},
     "output_type": "display_data"
    },
    {
     "name": "stdout",
     "output_type": "stream",
     "text": [
      "[TradeInstruction.to_dicts]\n",
      "[TradeInstruction.to_dicts]\n"
     ]
    },
    {
     "data": {
      "application/vnd.jupyter.widget-view+json": {
       "model_id": "6e4a7a24106747cc9d926396978263ee",
       "version_major": 2,
       "version_minor": 0
      },
      "text/plain": [
       "0it [00:00, ?it/s]"
      ]
     },
     "metadata": {},
     "output_type": "display_data"
    },
    {
     "data": {
      "application/vnd.jupyter.widget-view+json": {
       "model_id": "38be171a667b41e8bed39a3f0ad174ba",
       "version_major": 2,
       "version_minor": 0
      },
      "text/plain": [
       "0it [00:00, ?it/s]"
      ]
     },
     "metadata": {},
     "output_type": "display_data"
    },
    {
     "data": {
      "application/vnd.jupyter.widget-view+json": {
       "model_id": "4b4caf692c8a4118a5cd133f23373d7a",
       "version_major": 2,
       "version_minor": 0
      },
      "text/plain": [
       "0it [00:00, ?it/s]"
      ]
     },
     "metadata": {},
     "output_type": "display_data"
    },
    {
     "data": {
      "application/vnd.jupyter.widget-view+json": {
       "model_id": "db38d873d0c74dbeb7d6c28b2e358c8f",
       "version_major": 2,
       "version_minor": 0
      },
      "text/plain": [
       "0it [00:00, ?it/s]"
      ]
     },
     "metadata": {},
     "output_type": "display_data"
    },
    {
     "data": {
      "application/vnd.jupyter.widget-view+json": {
       "model_id": "31e4abd379354229b39839e39391f1c5",
       "version_major": 2,
       "version_minor": 0
      },
      "text/plain": [
       "0it [00:00, ?it/s]"
      ]
     },
     "metadata": {},
     "output_type": "display_data"
    },
    {
     "data": {
      "application/vnd.jupyter.widget-view+json": {
       "model_id": "18ee6c49f3444f389a594aa8e44958cd",
       "version_major": 2,
       "version_minor": 0
      },
      "text/plain": [
       "  0%|          | 0/2 [00:00<?, ?it/s]"
      ]
     },
     "metadata": {},
     "output_type": "display_data"
    },
    {
     "name": "stdout",
     "output_type": "stream",
     "text": [
      "[TradeInstruction.to_dicts]\n",
      "[TradeInstruction.to_dicts]\n"
     ]
    },
    {
     "data": {
      "application/vnd.jupyter.widget-view+json": {
       "model_id": "ff1c4bb4a01f4c9794c941a90e4dbaad",
       "version_major": 2,
       "version_minor": 0
      },
      "text/plain": [
       "0it [00:00, ?it/s]"
      ]
     },
     "metadata": {},
     "output_type": "display_data"
    },
    {
     "data": {
      "application/vnd.jupyter.widget-view+json": {
       "model_id": "7e6884b935884e34b3010a12914a34f2",
       "version_major": 2,
       "version_minor": 0
      },
      "text/plain": [
       "0it [00:00, ?it/s]"
      ]
     },
     "metadata": {},
     "output_type": "display_data"
    },
    {
     "data": {
      "application/vnd.jupyter.widget-view+json": {
       "model_id": "d91f83d12a0b4475892216f31046bc95",
       "version_major": 2,
       "version_minor": 0
      },
      "text/plain": [
       "  0%|          | 0/1 [00:00<?, ?it/s]"
      ]
     },
     "metadata": {},
     "output_type": "display_data"
    },
    {
     "name": "stdout",
     "output_type": "stream",
     "text": [
      "[TradeInstruction.to_dicts]\n"
     ]
    },
    {
     "data": {
      "application/vnd.jupyter.widget-view+json": {
       "model_id": "e13d435e2ddf46138bbef7a4b67c5048",
       "version_major": 2,
       "version_minor": 0
      },
      "text/plain": [
       "  0%|          | 0/54 [00:00<?, ?it/s]"
      ]
     },
     "metadata": {},
     "output_type": "display_data"
    },
    {
     "name": "stdout",
     "output_type": "stream",
     "text": [
      "[TradeInstruction.to_dicts]\n",
      "[TradeInstruction.to_dicts]\n",
      "[TradeInstruction.to_dicts]\n",
      "[TradeInstruction.to_dicts]\n",
      "[TradeInstruction.to_dicts]\n",
      "[TradeInstruction.to_dicts]\n",
      "[TradeInstruction.to_dicts]\n",
      "[TradeInstruction.to_dicts]\n",
      "[TradeInstruction.to_dicts]\n",
      "[TradeInstruction.to_dicts]\n",
      "[TradeInstruction.to_dicts]\n",
      "[TradeInstruction.to_dicts]\n",
      "[TradeInstruction.to_dicts]\n",
      "[TradeInstruction.to_dicts]\n",
      "[TradeInstruction.to_dicts]\n",
      "[TradeInstruction.to_dicts]\n",
      "[TradeInstruction.to_dicts]\n",
      "[TradeInstruction.to_dicts]\n",
      "[TradeInstruction.to_dicts]\n",
      "[TradeInstruction.to_dicts]\n",
      "[TradeInstruction.to_dicts]\n",
      "[TradeInstruction.to_dicts]\n",
      "[TradeInstruction.to_dicts]\n",
      "[TradeInstruction.to_dicts]\n",
      "[TradeInstruction.to_dicts]\n",
      "[TradeInstruction.to_dicts]\n",
      "[TradeInstruction.to_dicts]\n",
      "[TradeInstruction.to_dicts]\n",
      "[TradeInstruction.to_dicts]\n",
      "[TradeInstruction.to_dicts]\n",
      "[TradeInstruction.to_dicts]\n",
      "[TradeInstruction.to_dicts]\n",
      "[TradeInstruction.to_dicts]\n",
      "[TradeInstruction.to_dicts]\n",
      "[TradeInstruction.to_dicts]\n",
      "[TradeInstruction.to_dicts]\n",
      "[TradeInstruction.to_dicts]\n",
      "[TradeInstruction.to_dicts]\n",
      "[TradeInstruction.to_dicts]\n",
      "[TradeInstruction.to_dicts]\n",
      "[TradeInstruction.to_dicts]\n",
      "[TradeInstruction.to_dicts]\n",
      "[TradeInstruction.to_dicts]\n",
      "[TradeInstruction.to_dicts]\n",
      "[TradeInstruction.to_dicts]\n",
      "[TradeInstruction.to_dicts]\n",
      "[TradeInstruction.to_dicts]\n",
      "[TradeInstruction.to_dicts]\n",
      "[TradeInstruction.to_dicts]\n",
      "[TradeInstruction.to_dicts]\n",
      "[TradeInstruction.to_dicts]\n",
      "[TradeInstruction.to_dicts]\n",
      "[TradeInstruction.to_dicts]\n",
      "[TradeInstruction.to_dicts]\n"
     ]
    },
    {
     "data": {
      "application/vnd.jupyter.widget-view+json": {
       "model_id": "7605ff075b474d09851a53a1dbf4fadb",
       "version_major": 2,
       "version_minor": 0
      },
      "text/plain": [
       "  0%|          | 0/16 [00:00<?, ?it/s]"
      ]
     },
     "metadata": {},
     "output_type": "display_data"
    },
    {
     "name": "stdout",
     "output_type": "stream",
     "text": [
      "[TradeInstruction.to_dicts]\n",
      "[TradeInstruction.to_dicts]\n",
      "[TradeInstruction.to_dicts]\n",
      "[TradeInstruction.to_dicts]\n",
      "[TradeInstruction.to_dicts]\n",
      "[TradeInstruction.to_dicts]\n",
      "[TradeInstruction.to_dicts]\n",
      "[TradeInstruction.to_dicts]\n",
      "[TradeInstruction.to_dicts]\n",
      "[TradeInstruction.to_dicts]\n",
      "[TradeInstruction.to_dicts]\n",
      "[TradeInstruction.to_dicts]\n",
      "[TradeInstruction.to_dicts]\n",
      "[TradeInstruction.to_dicts]\n",
      "[TradeInstruction.to_dicts]\n",
      "[TradeInstruction.to_dicts]\n"
     ]
    },
    {
     "data": {
      "application/vnd.jupyter.widget-view+json": {
       "model_id": "de42bbbebc9241a0bb2e621cdc2ed712",
       "version_major": 2,
       "version_minor": 0
      },
      "text/plain": [
       "  0%|          | 0/39 [00:00<?, ?it/s]"
      ]
     },
     "metadata": {},
     "output_type": "display_data"
    },
    {
     "name": "stdout",
     "output_type": "stream",
     "text": [
      "[TradeInstruction.to_dicts]\n",
      "[TradeInstruction.to_dicts]\n",
      "[TradeInstruction.to_dicts]\n",
      "[TradeInstruction.to_dicts]\n",
      "[TradeInstruction.to_dicts]\n",
      "[TradeInstruction.to_dicts]\n",
      "[TradeInstruction.to_dicts]\n",
      "[TradeInstruction.to_dicts]\n",
      "[TradeInstruction.to_dicts]\n",
      "[TradeInstruction.to_dicts]\n",
      "[TradeInstruction.to_dicts]\n",
      "[TradeInstruction.to_dicts]\n",
      "[TradeInstruction.to_dicts]\n",
      "[TradeInstruction.to_dicts]\n",
      "[TradeInstruction.to_dicts]\n",
      "[TradeInstruction.to_dicts]\n",
      "[TradeInstruction.to_dicts]\n",
      "[TradeInstruction.to_dicts]\n",
      "[TradeInstruction.to_dicts]\n",
      "[TradeInstruction.to_dicts]\n",
      "[TradeInstruction.to_dicts]\n",
      "[TradeInstruction.to_dicts]\n",
      "[TradeInstruction.to_dicts]\n",
      "[TradeInstruction.to_dicts]\n",
      "[TradeInstruction.to_dicts]\n",
      "[TradeInstruction.to_dicts]\n",
      "[TradeInstruction.to_dicts]\n",
      "[TradeInstruction.to_dicts]\n",
      "[TradeInstruction.to_dicts]\n",
      "[TradeInstruction.to_dicts]\n",
      "[TradeInstruction.to_dicts]\n",
      "[TradeInstruction.to_dicts]\n",
      "[TradeInstruction.to_dicts]\n",
      "[TradeInstruction.to_dicts]\n",
      "[TradeInstruction.to_dicts]\n",
      "[TradeInstruction.to_dicts]\n",
      "[TradeInstruction.to_dicts]\n",
      "[TradeInstruction.to_dicts]\n",
      "[TradeInstruction.to_dicts]\n"
     ]
    },
    {
     "data": {
      "application/vnd.jupyter.widget-view+json": {
       "model_id": "059d1744980b42c68b8a7d372b0762fd",
       "version_major": 2,
       "version_minor": 0
      },
      "text/plain": [
       "  0%|          | 0/18 [00:00<?, ?it/s]"
      ]
     },
     "metadata": {},
     "output_type": "display_data"
    },
    {
     "name": "stdout",
     "output_type": "stream",
     "text": [
      "[TradeInstruction.to_dicts]\n",
      "[TradeInstruction.to_dicts]\n",
      "[TradeInstruction.to_dicts]\n",
      "[TradeInstruction.to_dicts]\n",
      "[TradeInstruction.to_dicts]\n",
      "[TradeInstruction.to_dicts]\n",
      "[TradeInstruction.to_dicts]\n",
      "[TradeInstruction.to_dicts]\n",
      "[TradeInstruction.to_dicts]\n",
      "[TradeInstruction.to_dicts]\n",
      "[TradeInstruction.to_dicts]\n",
      "[TradeInstruction.to_dicts]\n",
      "[TradeInstruction.to_dicts]\n",
      "[TradeInstruction.to_dicts]\n",
      "[TradeInstruction.to_dicts]\n",
      "[TradeInstruction.to_dicts]\n",
      "[TradeInstruction.to_dicts]\n",
      "[TradeInstruction.to_dicts]\n"
     ]
    },
    {
     "data": {
      "application/vnd.jupyter.widget-view+json": {
       "model_id": "9c1a952eba404419acfb165b3133fc8c",
       "version_major": 2,
       "version_minor": 0
      },
      "text/plain": [
       "  0%|          | 0/4 [00:00<?, ?it/s]"
      ]
     },
     "metadata": {},
     "output_type": "display_data"
    },
    {
     "name": "stdout",
     "output_type": "stream",
     "text": [
      "[TradeInstruction.to_dicts]\n",
      "[TradeInstruction.to_dicts]\n",
      "[TradeInstruction.to_dicts]\n",
      "[TradeInstruction.to_dicts]\n"
     ]
    },
    {
     "data": {
      "application/vnd.jupyter.widget-view+json": {
       "model_id": "02183a6e96254881b7896bcb291a19e1",
       "version_major": 2,
       "version_minor": 0
      },
      "text/plain": [
       "0it [00:00, ?it/s]"
      ]
     },
     "metadata": {},
     "output_type": "display_data"
    },
    {
     "data": {
      "application/vnd.jupyter.widget-view+json": {
       "model_id": "96cfa8865fa04a39a254eb352562aa5d",
       "version_major": 2,
       "version_minor": 0
      },
      "text/plain": [
       "0it [00:00, ?it/s]"
      ]
     },
     "metadata": {},
     "output_type": "display_data"
    },
    {
     "data": {
      "application/vnd.jupyter.widget-view+json": {
       "model_id": "16ad9064a3194ebeba492e6f17cf87ee",
       "version_major": 2,
       "version_minor": 0
      },
      "text/plain": [
       "0it [00:00, ?it/s]"
      ]
     },
     "metadata": {},
     "output_type": "display_data"
    },
    {
     "data": {
      "application/vnd.jupyter.widget-view+json": {
       "model_id": "84d2d623df044d32a78c8b76686acb53",
       "version_major": 2,
       "version_minor": 0
      },
      "text/plain": [
       "0it [00:00, ?it/s]"
      ]
     },
     "metadata": {},
     "output_type": "display_data"
    },
    {
     "data": {
      "application/vnd.jupyter.widget-view+json": {
       "model_id": "1403564c79be4c1295ba45dc3113af70",
       "version_major": 2,
       "version_minor": 0
      },
      "text/plain": [
       "0it [00:00, ?it/s]"
      ]
     },
     "metadata": {},
     "output_type": "display_data"
    },
    {
     "data": {
      "application/vnd.jupyter.widget-view+json": {
       "model_id": "cfc75dc5a8d945378424c5d1bd1fd5b8",
       "version_major": 2,
       "version_minor": 0
      },
      "text/plain": [
       "0it [00:00, ?it/s]"
      ]
     },
     "metadata": {},
     "output_type": "display_data"
    },
    {
     "data": {
      "application/vnd.jupyter.widget-view+json": {
       "model_id": "4b80e7c3f4f34bcea5febc716fe5ad88",
       "version_major": 2,
       "version_minor": 0
      },
      "text/plain": [
       "  0%|          | 0/10 [00:00<?, ?it/s]"
      ]
     },
     "metadata": {},
     "output_type": "display_data"
    },
    {
     "name": "stdout",
     "output_type": "stream",
     "text": [
      "[TradeInstruction.to_dicts]\n",
      "[TradeInstruction.to_dicts]\n",
      "[TradeInstruction.to_dicts]\n",
      "[TradeInstruction.to_dicts]\n",
      "[TradeInstruction.to_dicts]\n",
      "[TradeInstruction.to_dicts]\n",
      "[TradeInstruction.to_dicts]\n",
      "[TradeInstruction.to_dicts]\n",
      "[TradeInstruction.to_dicts]\n",
      "[TradeInstruction.to_dicts]\n"
     ]
    },
    {
     "data": {
      "application/vnd.jupyter.widget-view+json": {
       "model_id": "3331ce3bea9a413fb180ebb68dbb544e",
       "version_major": 2,
       "version_minor": 0
      },
      "text/plain": [
       "  0%|          | 0/1 [00:00<?, ?it/s]"
      ]
     },
     "metadata": {},
     "output_type": "display_data"
    },
    {
     "name": "stdout",
     "output_type": "stream",
     "text": [
      "[TradeInstruction.to_dicts]\n"
     ]
    },
    {
     "data": {
      "application/vnd.jupyter.widget-view+json": {
       "model_id": "6860ef2d41f44c538fa25efbbc7bcc86",
       "version_major": 2,
       "version_minor": 0
      },
      "text/plain": [
       "  0%|          | 0/39 [00:00<?, ?it/s]"
      ]
     },
     "metadata": {},
     "output_type": "display_data"
    },
    {
     "name": "stdout",
     "output_type": "stream",
     "text": [
      "[TradeInstruction.to_dicts]\n",
      "[TradeInstruction.to_dicts]\n",
      "[TradeInstruction.to_dicts]\n",
      "[TradeInstruction.to_dicts]\n",
      "[TradeInstruction.to_dicts]\n",
      "[TradeInstruction.to_dicts]\n",
      "[TradeInstruction.to_dicts]\n",
      "[TradeInstruction.to_dicts]\n",
      "[TradeInstruction.to_dicts]\n",
      "[TradeInstruction.to_dicts]\n",
      "[TradeInstruction.to_dicts]\n",
      "[TradeInstruction.to_dicts]\n",
      "[TradeInstruction.to_dicts]\n",
      "[TradeInstruction.to_dicts]\n",
      "[TradeInstruction.to_dicts]\n",
      "[TradeInstruction.to_dicts]\n",
      "[TradeInstruction.to_dicts]\n",
      "[TradeInstruction.to_dicts]\n",
      "[TradeInstruction.to_dicts]\n",
      "[TradeInstruction.to_dicts]\n",
      "[TradeInstruction.to_dicts]\n",
      "[TradeInstruction.to_dicts]\n",
      "[TradeInstruction.to_dicts]\n",
      "[TradeInstruction.to_dicts]\n",
      "[TradeInstruction.to_dicts]\n",
      "[TradeInstruction.to_dicts]\n",
      "[TradeInstruction.to_dicts]\n",
      "[TradeInstruction.to_dicts]\n",
      "[TradeInstruction.to_dicts]\n",
      "[TradeInstruction.to_dicts]\n",
      "[TradeInstruction.to_dicts]\n",
      "[TradeInstruction.to_dicts]\n",
      "[TradeInstruction.to_dicts]\n",
      "[TradeInstruction.to_dicts]\n",
      "[TradeInstruction.to_dicts]\n",
      "[TradeInstruction.to_dicts]\n",
      "[TradeInstruction.to_dicts]\n",
      "[TradeInstruction.to_dicts]\n",
      "[TradeInstruction.to_dicts]\n"
     ]
    },
    {
     "data": {
      "application/vnd.jupyter.widget-view+json": {
       "model_id": "d90cb06ed9fe44ab832a60a2b3033a37",
       "version_major": 2,
       "version_minor": 0
      },
      "text/plain": [
       "  0%|          | 0/4 [00:00<?, ?it/s]"
      ]
     },
     "metadata": {},
     "output_type": "display_data"
    },
    {
     "name": "stdout",
     "output_type": "stream",
     "text": [
      "[TradeInstruction.to_dicts]\n",
      "[TradeInstruction.to_dicts]\n",
      "[TradeInstruction.to_dicts]\n",
      "[TradeInstruction.to_dicts]\n"
     ]
    },
    {
     "data": {
      "application/vnd.jupyter.widget-view+json": {
       "model_id": "aa4e6c18b7c447a4a42c7e0743a05028",
       "version_major": 2,
       "version_minor": 0
      },
      "text/plain": [
       "0it [00:00, ?it/s]"
      ]
     },
     "metadata": {},
     "output_type": "display_data"
    },
    {
     "data": {
      "application/vnd.jupyter.widget-view+json": {
       "model_id": "36ab09dd38004b66b748918414799657",
       "version_major": 2,
       "version_minor": 0
      },
      "text/plain": [
       "0it [00:00, ?it/s]"
      ]
     },
     "metadata": {},
     "output_type": "display_data"
    },
    {
     "data": {
      "application/vnd.jupyter.widget-view+json": {
       "model_id": "8c11a109505246c8b2e24a93feade0c4",
       "version_major": 2,
       "version_minor": 0
      },
      "text/plain": [
       "0it [00:00, ?it/s]"
      ]
     },
     "metadata": {},
     "output_type": "display_data"
    },
    {
     "data": {
      "application/vnd.jupyter.widget-view+json": {
       "model_id": "e179da8f3f804c19968f2c769134c5d6",
       "version_major": 2,
       "version_minor": 0
      },
      "text/plain": [
       "  0%|          | 0/4 [00:00<?, ?it/s]"
      ]
     },
     "metadata": {},
     "output_type": "display_data"
    },
    {
     "name": "stdout",
     "output_type": "stream",
     "text": [
      "[TradeInstruction.to_dicts]\n",
      "[TradeInstruction.to_dicts]\n",
      "[TradeInstruction.to_dicts]\n",
      "[TradeInstruction.to_dicts]\n"
     ]
    },
    {
     "data": {
      "application/vnd.jupyter.widget-view+json": {
       "model_id": "c3fcad9b9af44758b7392731bf49b32a",
       "version_major": 2,
       "version_minor": 0
      },
      "text/plain": [
       "0it [00:00, ?it/s]"
      ]
     },
     "metadata": {},
     "output_type": "display_data"
    },
    {
     "data": {
      "application/vnd.jupyter.widget-view+json": {
       "model_id": "fd72aef9f11441d0b7cc990954c541bc",
       "version_major": 2,
       "version_minor": 0
      },
      "text/plain": [
       "0it [00:00, ?it/s]"
      ]
     },
     "metadata": {},
     "output_type": "display_data"
    },
    {
     "data": {
      "application/vnd.jupyter.widget-view+json": {
       "model_id": "9f9dda21d5914d9eaf4eca91c75e2519",
       "version_major": 2,
       "version_minor": 0
      },
      "text/plain": [
       "0it [00:00, ?it/s]"
      ]
     },
     "metadata": {},
     "output_type": "display_data"
    },
    {
     "data": {
      "application/vnd.jupyter.widget-view+json": {
       "model_id": "38485cf563cd4eb8b5b795b903bc5ef0",
       "version_major": 2,
       "version_minor": 0
      },
      "text/plain": [
       "  0%|          | 0/2 [00:00<?, ?it/s]"
      ]
     },
     "metadata": {},
     "output_type": "display_data"
    },
    {
     "name": "stdout",
     "output_type": "stream",
     "text": [
      "[TradeInstruction.to_dicts]\n",
      "[TradeInstruction.to_dicts]\n"
     ]
    },
    {
     "data": {
      "application/vnd.jupyter.widget-view+json": {
       "model_id": "3440d0df838a4992bd1f6c27cdeaba01",
       "version_major": 2,
       "version_minor": 0
      },
      "text/plain": [
       "  0%|          | 0/2 [00:00<?, ?it/s]"
      ]
     },
     "metadata": {},
     "output_type": "display_data"
    },
    {
     "name": "stdout",
     "output_type": "stream",
     "text": [
      "[TradeInstruction.to_dicts]\n",
      "[TradeInstruction.to_dicts]\n"
     ]
    },
    {
     "data": {
      "application/vnd.jupyter.widget-view+json": {
       "model_id": "bf38efcd62bb4a7ba261329ad6f8be1b",
       "version_major": 2,
       "version_minor": 0
      },
      "text/plain": [
       "  0%|          | 0/10 [00:00<?, ?it/s]"
      ]
     },
     "metadata": {},
     "output_type": "display_data"
    },
    {
     "name": "stdout",
     "output_type": "stream",
     "text": [
      "[TradeInstruction.to_dicts]\n",
      "[TradeInstruction.to_dicts]\n",
      "[TradeInstruction.to_dicts]\n",
      "[TradeInstruction.to_dicts]\n",
      "[TradeInstruction.to_dicts]\n",
      "[TradeInstruction.to_dicts]\n",
      "[TradeInstruction.to_dicts]\n",
      "[TradeInstruction.to_dicts]\n",
      "[TradeInstruction.to_dicts]\n",
      "[TradeInstruction.to_dicts]\n"
     ]
    },
    {
     "data": {
      "application/vnd.jupyter.widget-view+json": {
       "model_id": "9308a7dee0b04f41b8800a848a02e185",
       "version_major": 2,
       "version_minor": 0
      },
      "text/plain": [
       "0it [00:00, ?it/s]"
      ]
     },
     "metadata": {},
     "output_type": "display_data"
    },
    {
     "data": {
      "application/vnd.jupyter.widget-view+json": {
       "model_id": "ed24616a574942078610acfd70efcfe5",
       "version_major": 2,
       "version_minor": 0
      },
      "text/plain": [
       "0it [00:00, ?it/s]"
      ]
     },
     "metadata": {},
     "output_type": "display_data"
    },
    {
     "data": {
      "application/vnd.jupyter.widget-view+json": {
       "model_id": "6fc7dddf890d4eec91a3ab39ff3113ff",
       "version_major": 2,
       "version_minor": 0
      },
      "text/plain": [
       "0it [00:00, ?it/s]"
      ]
     },
     "metadata": {},
     "output_type": "display_data"
    },
    {
     "data": {
      "application/vnd.jupyter.widget-view+json": {
       "model_id": "82cc37ecc77248f7a73c4840a544d122",
       "version_major": 2,
       "version_minor": 0
      },
      "text/plain": [
       "0it [00:00, ?it/s]"
      ]
     },
     "metadata": {},
     "output_type": "display_data"
    },
    {
     "data": {
      "application/vnd.jupyter.widget-view+json": {
       "model_id": "760f1ea0697f4622905f6d3125d5af59",
       "version_major": 2,
       "version_minor": 0
      },
      "text/plain": [
       "  0%|          | 0/6 [00:00<?, ?it/s]"
      ]
     },
     "metadata": {},
     "output_type": "display_data"
    },
    {
     "name": "stdout",
     "output_type": "stream",
     "text": [
      "[TradeInstruction.to_dicts]\n",
      "[TradeInstruction.to_dicts]\n",
      "[TradeInstruction.to_dicts]\n",
      "[TradeInstruction.to_dicts]\n",
      "[TradeInstruction.to_dicts]\n",
      "[TradeInstruction.to_dicts]\n"
     ]
    },
    {
     "data": {
      "application/vnd.jupyter.widget-view+json": {
       "model_id": "b01eb6dfa40f49fc951aaeef9cbb0c23",
       "version_major": 2,
       "version_minor": 0
      },
      "text/plain": [
       "  0%|          | 0/4 [00:00<?, ?it/s]"
      ]
     },
     "metadata": {},
     "output_type": "display_data"
    },
    {
     "name": "stdout",
     "output_type": "stream",
     "text": [
      "[TradeInstruction.to_dicts]\n",
      "[TradeInstruction.to_dicts]\n",
      "[TradeInstruction.to_dicts]\n",
      "[TradeInstruction.to_dicts]\n"
     ]
    },
    {
     "data": {
      "application/vnd.jupyter.widget-view+json": {
       "model_id": "979f6b31721b420fa54cb042552c020c",
       "version_major": 2,
       "version_minor": 0
      },
      "text/plain": [
       "0it [00:00, ?it/s]"
      ]
     },
     "metadata": {},
     "output_type": "display_data"
    },
    {
     "data": {
      "application/vnd.jupyter.widget-view+json": {
       "model_id": "b246351019794c3492e20d1d765b80f8",
       "version_major": 2,
       "version_minor": 0
      },
      "text/plain": [
       "  0%|          | 0/1 [00:00<?, ?it/s]"
      ]
     },
     "metadata": {},
     "output_type": "display_data"
    },
    {
     "name": "stdout",
     "output_type": "stream",
     "text": [
      "[TradeInstruction.to_dicts]\n"
     ]
    },
    {
     "data": {
      "application/vnd.jupyter.widget-view+json": {
       "model_id": "cb312d21cf834bb4b9e745c28c7dcdbe",
       "version_major": 2,
       "version_minor": 0
      },
      "text/plain": [
       "0it [00:00, ?it/s]"
      ]
     },
     "metadata": {},
     "output_type": "display_data"
    },
    {
     "data": {
      "application/vnd.jupyter.widget-view+json": {
       "model_id": "b4fb2348a87f4c28b736791bbae87fd3",
       "version_major": 2,
       "version_minor": 0
      },
      "text/plain": [
       "0it [00:00, ?it/s]"
      ]
     },
     "metadata": {},
     "output_type": "display_data"
    },
    {
     "data": {
      "application/vnd.jupyter.widget-view+json": {
       "model_id": "6288416a7ea34758a30b74a27ef79d40",
       "version_major": 2,
       "version_minor": 0
      },
      "text/plain": [
       "  0%|          | 0/4 [00:00<?, ?it/s]"
      ]
     },
     "metadata": {},
     "output_type": "display_data"
    },
    {
     "name": "stdout",
     "output_type": "stream",
     "text": [
      "[TradeInstruction.to_dicts]\n",
      "[TradeInstruction.to_dicts]\n",
      "[TradeInstruction.to_dicts]\n",
      "[TradeInstruction.to_dicts]\n"
     ]
    },
    {
     "data": {
      "application/vnd.jupyter.widget-view+json": {
       "model_id": "b15b32b928a24f3dab6f43c69ac1e4ea",
       "version_major": 2,
       "version_minor": 0
      },
      "text/plain": [
       "  0%|          | 0/18 [00:00<?, ?it/s]"
      ]
     },
     "metadata": {},
     "output_type": "display_data"
    },
    {
     "name": "stdout",
     "output_type": "stream",
     "text": [
      "[TradeInstruction.to_dicts]\n",
      "[TradeInstruction.to_dicts]\n",
      "[TradeInstruction.to_dicts]\n",
      "[TradeInstruction.to_dicts]\n",
      "[TradeInstruction.to_dicts]\n",
      "[TradeInstruction.to_dicts]\n",
      "[TradeInstruction.to_dicts]\n",
      "[TradeInstruction.to_dicts]\n",
      "[TradeInstruction.to_dicts]\n",
      "[TradeInstruction.to_dicts]\n",
      "[TradeInstruction.to_dicts]\n",
      "[TradeInstruction.to_dicts]\n",
      "[TradeInstruction.to_dicts]\n",
      "[TradeInstruction.to_dicts]\n",
      "[TradeInstruction.to_dicts]\n",
      "[TradeInstruction.to_dicts]\n",
      "[TradeInstruction.to_dicts]\n",
      "[TradeInstruction.to_dicts]\n"
     ]
    },
    {
     "data": {
      "application/vnd.jupyter.widget-view+json": {
       "model_id": "0a06139d0f3e4d1faecb7e403e8857c2",
       "version_major": 2,
       "version_minor": 0
      },
      "text/plain": [
       "  0%|          | 0/4 [00:00<?, ?it/s]"
      ]
     },
     "metadata": {},
     "output_type": "display_data"
    },
    {
     "name": "stdout",
     "output_type": "stream",
     "text": [
      "[TradeInstruction.to_dicts]\n",
      "[TradeInstruction.to_dicts]\n",
      "[TradeInstruction.to_dicts]\n",
      "[TradeInstruction.to_dicts]\n"
     ]
    },
    {
     "data": {
      "application/vnd.jupyter.widget-view+json": {
       "model_id": "88bc0c898f23464183571c9fdac3cfd8",
       "version_major": 2,
       "version_minor": 0
      },
      "text/plain": [
       "0it [00:00, ?it/s]"
      ]
     },
     "metadata": {},
     "output_type": "display_data"
    },
    {
     "data": {
      "application/vnd.jupyter.widget-view+json": {
       "model_id": "f8838d6266714c8f8e7b645b70a3f74b",
       "version_major": 2,
       "version_minor": 0
      },
      "text/plain": [
       "0it [00:00, ?it/s]"
      ]
     },
     "metadata": {},
     "output_type": "display_data"
    },
    {
     "data": {
      "application/vnd.jupyter.widget-view+json": {
       "model_id": "bb53920e2c32484287d2e748e1ee483e",
       "version_major": 2,
       "version_minor": 0
      },
      "text/plain": [
       "0it [00:00, ?it/s]"
      ]
     },
     "metadata": {},
     "output_type": "display_data"
    },
    {
     "data": {
      "application/vnd.jupyter.widget-view+json": {
       "model_id": "90fbe2e757aa45f8950d2e88414ee075",
       "version_major": 2,
       "version_minor": 0
      },
      "text/plain": [
       "0it [00:00, ?it/s]"
      ]
     },
     "metadata": {},
     "output_type": "display_data"
    },
    {
     "data": {
      "application/vnd.jupyter.widget-view+json": {
       "model_id": "2540d5503409496c8eca3644a2528700",
       "version_major": 2,
       "version_minor": 0
      },
      "text/plain": [
       "0it [00:00, ?it/s]"
      ]
     },
     "metadata": {},
     "output_type": "display_data"
    },
    {
     "data": {
      "application/vnd.jupyter.widget-view+json": {
       "model_id": "7031d980e877483e9765086ed524c8af",
       "version_major": 2,
       "version_minor": 0
      },
      "text/plain": [
       "0it [00:00, ?it/s]"
      ]
     },
     "metadata": {},
     "output_type": "display_data"
    },
    {
     "data": {
      "application/vnd.jupyter.widget-view+json": {
       "model_id": "48fc334156c54f60b0950100455a7d40",
       "version_major": 2,
       "version_minor": 0
      },
      "text/plain": [
       "0it [00:00, ?it/s]"
      ]
     },
     "metadata": {},
     "output_type": "display_data"
    },
    {
     "data": {
      "application/vnd.jupyter.widget-view+json": {
       "model_id": "3a5810d1e39746d895974c27b9e28608",
       "version_major": 2,
       "version_minor": 0
      },
      "text/plain": [
       "0it [00:00, ?it/s]"
      ]
     },
     "metadata": {},
     "output_type": "display_data"
    },
    {
     "data": {
      "application/vnd.jupyter.widget-view+json": {
       "model_id": "3675c2d951c2489cb35cead5a80473bd",
       "version_major": 2,
       "version_minor": 0
      },
      "text/plain": [
       "0it [00:00, ?it/s]"
      ]
     },
     "metadata": {},
     "output_type": "display_data"
    },
    {
     "data": {
      "application/vnd.jupyter.widget-view+json": {
       "model_id": "357aa5a8b0204d24af9c4140cee2fe32",
       "version_major": 2,
       "version_minor": 0
      },
      "text/plain": [
       "  0%|          | 0/2 [00:00<?, ?it/s]"
      ]
     },
     "metadata": {},
     "output_type": "display_data"
    },
    {
     "name": "stdout",
     "output_type": "stream",
     "text": [
      "[TradeInstruction.to_dicts]\n",
      "[TradeInstruction.to_dicts]\n"
     ]
    },
    {
     "data": {
      "application/vnd.jupyter.widget-view+json": {
       "model_id": "d85305acd3604558a02219bcc4e99010",
       "version_major": 2,
       "version_minor": 0
      },
      "text/plain": [
       "0it [00:00, ?it/s]"
      ]
     },
     "metadata": {},
     "output_type": "display_data"
    },
    {
     "data": {
      "application/vnd.jupyter.widget-view+json": {
       "model_id": "a2ed1839f83642f58395f476d3f596dd",
       "version_major": 2,
       "version_minor": 0
      },
      "text/plain": [
       "0it [00:00, ?it/s]"
      ]
     },
     "metadata": {},
     "output_type": "display_data"
    },
    {
     "data": {
      "application/vnd.jupyter.widget-view+json": {
       "model_id": "5f72cb8974584b48b55fe8165c46e875",
       "version_major": 2,
       "version_minor": 0
      },
      "text/plain": [
       "0it [00:00, ?it/s]"
      ]
     },
     "metadata": {},
     "output_type": "display_data"
    },
    {
     "data": {
      "application/vnd.jupyter.widget-view+json": {
       "model_id": "a118ad403ae245b7b7b794e5e08cc9d3",
       "version_major": 2,
       "version_minor": 0
      },
      "text/plain": [
       "  0%|          | 0/4 [00:00<?, ?it/s]"
      ]
     },
     "metadata": {},
     "output_type": "display_data"
    },
    {
     "name": "stdout",
     "output_type": "stream",
     "text": [
      "[TradeInstruction.to_dicts]\n",
      "[TradeInstruction.to_dicts]\n",
      "[TradeInstruction.to_dicts]\n",
      "[TradeInstruction.to_dicts]\n"
     ]
    },
    {
     "data": {
      "application/vnd.jupyter.widget-view+json": {
       "model_id": "1e223ecacdd74e1b82d125e130de59db",
       "version_major": 2,
       "version_minor": 0
      },
      "text/plain": [
       "0it [00:00, ?it/s]"
      ]
     },
     "metadata": {},
     "output_type": "display_data"
    },
    {
     "data": {
      "application/vnd.jupyter.widget-view+json": {
       "model_id": "db8b15b1c81a4700ad3f644c1eb92c23",
       "version_major": 2,
       "version_minor": 0
      },
      "text/plain": [
       "  0%|          | 0/16 [00:00<?, ?it/s]"
      ]
     },
     "metadata": {},
     "output_type": "display_data"
    },
    {
     "name": "stdout",
     "output_type": "stream",
     "text": [
      "[TradeInstruction.to_dicts]\n",
      "[TradeInstruction.to_dicts]\n",
      "[TradeInstruction.to_dicts]\n",
      "[TradeInstruction.to_dicts]\n",
      "[TradeInstruction.to_dicts]\n",
      "[TradeInstruction.to_dicts]\n",
      "[TradeInstruction.to_dicts]\n",
      "[TradeInstruction.to_dicts]\n",
      "[TradeInstruction.to_dicts]\n",
      "[TradeInstruction.to_dicts]\n",
      "[TradeInstruction.to_dicts]\n",
      "[TradeInstruction.to_dicts]\n",
      "[TradeInstruction.to_dicts]\n",
      "[TradeInstruction.to_dicts]\n",
      "[TradeInstruction.to_dicts]\n",
      "[TradeInstruction.to_dicts]\n"
     ]
    },
    {
     "data": {
      "application/vnd.jupyter.widget-view+json": {
       "model_id": "804f0a4cc32048f8a96355561e18c0ca",
       "version_major": 2,
       "version_minor": 0
      },
      "text/plain": [
       "  0%|          | 0/54 [00:00<?, ?it/s]"
      ]
     },
     "metadata": {},
     "output_type": "display_data"
    },
    {
     "name": "stdout",
     "output_type": "stream",
     "text": [
      "[TradeInstruction.to_dicts]\n",
      "[TradeInstruction.to_dicts]\n",
      "[TradeInstruction.to_dicts]\n",
      "[TradeInstruction.to_dicts]\n",
      "[TradeInstruction.to_dicts]\n",
      "[TradeInstruction.to_dicts]\n",
      "[TradeInstruction.to_dicts]\n",
      "[TradeInstruction.to_dicts]\n",
      "[TradeInstruction.to_dicts]\n",
      "[TradeInstruction.to_dicts]\n",
      "[TradeInstruction.to_dicts]\n",
      "[TradeInstruction.to_dicts]\n",
      "[TradeInstruction.to_dicts]\n",
      "[TradeInstruction.to_dicts]\n",
      "[TradeInstruction.to_dicts]\n",
      "[TradeInstruction.to_dicts]\n",
      "[TradeInstruction.to_dicts]\n",
      "[TradeInstruction.to_dicts]\n",
      "[TradeInstruction.to_dicts]\n",
      "[TradeInstruction.to_dicts]\n",
      "[TradeInstruction.to_dicts]\n",
      "[TradeInstruction.to_dicts]\n",
      "[TradeInstruction.to_dicts]\n",
      "[TradeInstruction.to_dicts]\n",
      "[TradeInstruction.to_dicts]\n",
      "[TradeInstruction.to_dicts]\n",
      "[TradeInstruction.to_dicts]\n",
      "[TradeInstruction.to_dicts]\n",
      "[TradeInstruction.to_dicts]\n",
      "[TradeInstruction.to_dicts]\n",
      "[TradeInstruction.to_dicts]\n",
      "[TradeInstruction.to_dicts]\n",
      "[TradeInstruction.to_dicts]\n",
      "[TradeInstruction.to_dicts]\n",
      "[TradeInstruction.to_dicts]\n",
      "[TradeInstruction.to_dicts]\n",
      "[TradeInstruction.to_dicts]\n",
      "[TradeInstruction.to_dicts]\n",
      "[TradeInstruction.to_dicts]\n",
      "[TradeInstruction.to_dicts]\n",
      "[TradeInstruction.to_dicts]\n",
      "[TradeInstruction.to_dicts]\n",
      "[TradeInstruction.to_dicts]\n",
      "[TradeInstruction.to_dicts]\n",
      "[TradeInstruction.to_dicts]\n",
      "[TradeInstruction.to_dicts]\n",
      "[TradeInstruction.to_dicts]\n",
      "[TradeInstruction.to_dicts]\n",
      "[TradeInstruction.to_dicts]\n",
      "[TradeInstruction.to_dicts]\n",
      "[TradeInstruction.to_dicts]\n",
      "[TradeInstruction.to_dicts]\n",
      "[TradeInstruction.to_dicts]\n",
      "[TradeInstruction.to_dicts]\n"
     ]
    },
    {
     "data": {
      "application/vnd.jupyter.widget-view+json": {
       "model_id": "25e3b1ef4dc44058bcb90240c78ea43d",
       "version_major": 2,
       "version_minor": 0
      },
      "text/plain": [
       "  0%|          | 0/10 [00:00<?, ?it/s]"
      ]
     },
     "metadata": {},
     "output_type": "display_data"
    },
    {
     "name": "stdout",
     "output_type": "stream",
     "text": [
      "[TradeInstruction.to_dicts]\n",
      "[TradeInstruction.to_dicts]\n",
      "[TradeInstruction.to_dicts]\n",
      "[TradeInstruction.to_dicts]\n",
      "[TradeInstruction.to_dicts]\n",
      "[TradeInstruction.to_dicts]\n",
      "[TradeInstruction.to_dicts]\n",
      "[TradeInstruction.to_dicts]\n",
      "[TradeInstruction.to_dicts]\n",
      "[TradeInstruction.to_dicts]\n"
     ]
    },
    {
     "data": {
      "application/vnd.jupyter.widget-view+json": {
       "model_id": "5a0afd5c663647be8ea944ce00874962",
       "version_major": 2,
       "version_minor": 0
      },
      "text/plain": [
       "  0%|          | 0/4 [00:00<?, ?it/s]"
      ]
     },
     "metadata": {},
     "output_type": "display_data"
    },
    {
     "name": "stdout",
     "output_type": "stream",
     "text": [
      "[TradeInstruction.to_dicts]\n",
      "[TradeInstruction.to_dicts]\n",
      "[TradeInstruction.to_dicts]\n",
      "[TradeInstruction.to_dicts]\n"
     ]
    },
    {
     "data": {
      "application/vnd.jupyter.widget-view+json": {
       "model_id": "6fd6d337d8b34034be0702afd5bc81ed",
       "version_major": 2,
       "version_minor": 0
      },
      "text/plain": [
       "  0%|          | 0/6 [00:00<?, ?it/s]"
      ]
     },
     "metadata": {},
     "output_type": "display_data"
    },
    {
     "name": "stdout",
     "output_type": "stream",
     "text": [
      "[TradeInstruction.to_dicts]\n",
      "[TradeInstruction.to_dicts]\n",
      "[TradeInstruction.to_dicts]\n",
      "[TradeInstruction.to_dicts]\n",
      "[TradeInstruction.to_dicts]\n",
      "[TradeInstruction.to_dicts]\n"
     ]
    },
    {
     "data": {
      "application/vnd.jupyter.widget-view+json": {
       "model_id": "6d72faa9233c4fd5bbfac97b3782b866",
       "version_major": 2,
       "version_minor": 0
      },
      "text/plain": [
       "0it [00:00, ?it/s]"
      ]
     },
     "metadata": {},
     "output_type": "display_data"
    },
    {
     "data": {
      "application/vnd.jupyter.widget-view+json": {
       "model_id": "dcc28982748a48e482dc6bfbfcfa51bc",
       "version_major": 2,
       "version_minor": 0
      },
      "text/plain": [
       "0it [00:00, ?it/s]"
      ]
     },
     "metadata": {},
     "output_type": "display_data"
    },
    {
     "data": {
      "application/vnd.jupyter.widget-view+json": {
       "model_id": "3360f6fa1abe489cb59d44a0835af91c",
       "version_major": 2,
       "version_minor": 0
      },
      "text/plain": [
       "0it [00:00, ?it/s]"
      ]
     },
     "metadata": {},
     "output_type": "display_data"
    },
    {
     "data": {
      "application/vnd.jupyter.widget-view+json": {
       "model_id": "543f75d74e1f41a0a62702e60dae3d20",
       "version_major": 2,
       "version_minor": 0
      },
      "text/plain": [
       "0it [00:00, ?it/s]"
      ]
     },
     "metadata": {},
     "output_type": "display_data"
    },
    {
     "data": {
      "application/vnd.jupyter.widget-view+json": {
       "model_id": "af8197e06917440b8dee11db3606b7b7",
       "version_major": 2,
       "version_minor": 0
      },
      "text/plain": [
       "  0%|          | 0/14 [00:00<?, ?it/s]"
      ]
     },
     "metadata": {},
     "output_type": "display_data"
    },
    {
     "name": "stdout",
     "output_type": "stream",
     "text": [
      "[TradeInstruction.to_dicts]\n",
      "[TradeInstruction.to_dicts]\n",
      "[TradeInstruction.to_dicts]\n",
      "[TradeInstruction.to_dicts]\n",
      "[TradeInstruction.to_dicts]\n",
      "[TradeInstruction.to_dicts]\n",
      "[TradeInstruction.to_dicts]\n",
      "[TradeInstruction.to_dicts]\n",
      "[TradeInstruction.to_dicts]\n",
      "[TradeInstruction.to_dicts]\n",
      "[TradeInstruction.to_dicts]\n",
      "[TradeInstruction.to_dicts]\n",
      "[TradeInstruction.to_dicts]\n",
      "[TradeInstruction.to_dicts]\n"
     ]
    },
    {
     "data": {
      "application/vnd.jupyter.widget-view+json": {
       "model_id": "353cb1d963cb4ddbb982ea7744684fce",
       "version_major": 2,
       "version_minor": 0
      },
      "text/plain": [
       "0it [00:00, ?it/s]"
      ]
     },
     "metadata": {},
     "output_type": "display_data"
    },
    {
     "data": {
      "application/vnd.jupyter.widget-view+json": {
       "model_id": "aa985ab183af4558996ea160fbd858d3",
       "version_major": 2,
       "version_minor": 0
      },
      "text/plain": [
       "  0%|          | 0/6 [00:00<?, ?it/s]"
      ]
     },
     "metadata": {},
     "output_type": "display_data"
    },
    {
     "name": "stdout",
     "output_type": "stream",
     "text": [
      "[TradeInstruction.to_dicts]\n",
      "[TradeInstruction.to_dicts]\n",
      "[TradeInstruction.to_dicts]\n",
      "[TradeInstruction.to_dicts]\n",
      "[TradeInstruction.to_dicts]\n",
      "[TradeInstruction.to_dicts]\n"
     ]
    },
    {
     "data": {
      "application/vnd.jupyter.widget-view+json": {
       "model_id": "45e57e3aaaf14ff5a25da2a0129eb431",
       "version_major": 2,
       "version_minor": 0
      },
      "text/plain": [
       "0it [00:00, ?it/s]"
      ]
     },
     "metadata": {},
     "output_type": "display_data"
    },
    {
     "data": {
      "application/vnd.jupyter.widget-view+json": {
       "model_id": "d844e152b5bc4e0b801325963360f402",
       "version_major": 2,
       "version_minor": 0
      },
      "text/plain": [
       "0it [00:00, ?it/s]"
      ]
     },
     "metadata": {},
     "output_type": "display_data"
    },
    {
     "data": {
      "application/vnd.jupyter.widget-view+json": {
       "model_id": "0414622b7a7547d8aa00f25ecc5ca662",
       "version_major": 2,
       "version_minor": 0
      },
      "text/plain": [
       "0it [00:00, ?it/s]"
      ]
     },
     "metadata": {},
     "output_type": "display_data"
    },
    {
     "data": {
      "application/vnd.jupyter.widget-view+json": {
       "model_id": "83dee38983004e07875d4b4cc5c4bbfe",
       "version_major": 2,
       "version_minor": 0
      },
      "text/plain": [
       "0it [00:00, ?it/s]"
      ]
     },
     "metadata": {},
     "output_type": "display_data"
    },
    {
     "data": {
      "application/vnd.jupyter.widget-view+json": {
       "model_id": "7b97fe1459dc45ef882b1329d771753a",
       "version_major": 2,
       "version_minor": 0
      },
      "text/plain": [
       "0it [00:00, ?it/s]"
      ]
     },
     "metadata": {},
     "output_type": "display_data"
    },
    {
     "data": {
      "application/vnd.jupyter.widget-view+json": {
       "model_id": "8fd23e6500d346fc841b67ad8a83ffca",
       "version_major": 2,
       "version_minor": 0
      },
      "text/plain": [
       "0it [00:00, ?it/s]"
      ]
     },
     "metadata": {},
     "output_type": "display_data"
    },
    {
     "data": {
      "application/vnd.jupyter.widget-view+json": {
       "model_id": "eb5b5197a66b4aa3ba461aed4fd5fe60",
       "version_major": 2,
       "version_minor": 0
      },
      "text/plain": [
       "0it [00:00, ?it/s]"
      ]
     },
     "metadata": {},
     "output_type": "display_data"
    },
    {
     "data": {
      "application/vnd.jupyter.widget-view+json": {
       "model_id": "922a7bc5f2a24c55a79252917fa8d73d",
       "version_major": 2,
       "version_minor": 0
      },
      "text/plain": [
       "0it [00:00, ?it/s]"
      ]
     },
     "metadata": {},
     "output_type": "display_data"
    },
    {
     "data": {
      "application/vnd.jupyter.widget-view+json": {
       "model_id": "5f2c268f007e459c9a4378dcc19d3734",
       "version_major": 2,
       "version_minor": 0
      },
      "text/plain": [
       "  0%|          | 0/3 [00:00<?, ?it/s]"
      ]
     },
     "metadata": {},
     "output_type": "display_data"
    },
    {
     "name": "stdout",
     "output_type": "stream",
     "text": [
      "[TradeInstruction.to_dicts]\n",
      "[TradeInstruction.to_dicts]\n",
      "[TradeInstruction.to_dicts]\n"
     ]
    },
    {
     "data": {
      "application/vnd.jupyter.widget-view+json": {
       "model_id": "155c114b776a40fdbe2e3eab728b71d3",
       "version_major": 2,
       "version_minor": 0
      },
      "text/plain": [
       "  0%|          | 0/4 [00:00<?, ?it/s]"
      ]
     },
     "metadata": {},
     "output_type": "display_data"
    },
    {
     "name": "stdout",
     "output_type": "stream",
     "text": [
      "[TradeInstruction.to_dicts]\n",
      "[TradeInstruction.to_dicts]\n",
      "[TradeInstruction.to_dicts]\n",
      "[TradeInstruction.to_dicts]\n"
     ]
    }
   ],
   "source": [
    "run_full = bot._run(flashloan_tokens=flashloan_tokens, CCm=CCm, arb_mode=arb_mode, data_validator=False, result=bot.XS_ARBOPPS)\n",
    "arb_finder = bot._get_arb_finder(\"single\")\n",
    "finder = arb_finder(\n",
    "            flashloan_tokens=flashloan_tokens,\n",
    "            CCm=CCm,\n",
    "            mode=\"bothin\",\n",
    "            result=bot.AO_CANDIDATES,\n",
    "            ConfigObj=bot.ConfigObj,\n",
    "        )\n",
    "r = finder.find_arbitrage()\n",
    "assert len(r) == 22, f\"[TestSingleMode] Expected 22 arbs, found {len(r)}\"\n",
    "assert len(r) == len(run_full), f\"[TestSingleMode] Expected arbs from .find_arbitrage - {len(r)} - to match _run - {len(run_full)}\""
   ]
  },
  {
   "cell_type": "code",
   "execution_count": 7,
   "id": "a5f5937f-5bc9-44fc-96ac-9b10b9e96742",
   "metadata": {},
   "outputs": [
    {
     "data": {
      "text/plain": [
       "[(6.711868213631777,\n",
       "                                                      WETH-6Cc2      HEX-eb39\n",
       "  0x6d2372776a5beac5ae5352308a74201337ea626ff1a94...   0.002687 -5.792822e+02\n",
       "  14291859410679415465461733512134264881242-0         -0.004096  5.792822e+02\n",
       "  PRICE                                                1.000000  4.639073e-06\n",
       "  AMMIn                                                0.002687  5.792822e+02\n",
       "  AMMOut                                              -0.004096 -5.792822e+02\n",
       "  TOTAL NET                                           -0.001409  5.474997e-07,\n",
       "  ({'cid': '0x6d2372776a5beac5ae5352308a74201337ea626ff1a949243eb051481792aa2f',\n",
       "    'tknin': 'WETH-6Cc2',\n",
       "    'amtin': 0.002687311916758972,\n",
       "    'tknout': 'HEX-eb39',\n",
       "    'amtout': -579.2821683883667,\n",
       "    'error': None},\n",
       "   {'cid': '14291859410679415465461733512134264881242-0',\n",
       "    'tknin': 'HEX-eb39',\n",
       "    'amtin': 579.2821689358664,\n",
       "    'tknout': 'WETH-6Cc2',\n",
       "    'amtout': -0.00409614349875,\n",
       "    'error': None}),\n",
       "  'WETH-6Cc2',\n",
       "  (CPCArbOptimizer.TradeInstruction(cid='0x6d2372776a5beac5ae5352308a74201337ea626ff1a949243eb051481792aa2f', tknin='WETH-6Cc2', amtin=0.002687311916758972, tknout='HEX-eb39', amtout=-579.2821683883667, error=None),\n",
       "   CPCArbOptimizer.TradeInstruction(cid='14291859410679415465461733512134264881242-0', tknin='HEX-eb39', amtin=579.2821689358664, tknout='WETH-6Cc2', amtout=-0.00409614349875, error=None))),\n",
       " (6.771690215026908,\n",
       "                                                      WETH-6Cc2      HEX-eb39\n",
       "  0x8f9771f2886aa12c1659c275b8e305f58c7c41ba82df0...   0.002675 -5.792822e+02\n",
       "  14291859410679415465461733512134264881242-0         -0.004096  5.792822e+02\n",
       "  PRICE                                                1.000000  4.617372e-06\n",
       "  AMMIn                                                0.002675  5.792822e+02\n",
       "  AMMOut                                              -0.004096 -5.792822e+02\n",
       "  TOTAL NET                                           -0.001421  3.984881e-07,\n",
       "  ({'cid': '0x8f9771f2886aa12c1659c275b8e305f58c7c41ba82df03bb21c0bcac98ffde4b',\n",
       "    'tknin': 'WETH-6Cc2',\n",
       "    'amtin': 0.0026747551855805796,\n",
       "    'tknout': 'HEX-eb39',\n",
       "    'amtout': -579.2821685373783,\n",
       "    'error': None},\n",
       "   {'cid': '14291859410679415465461733512134264881242-0',\n",
       "    'tknin': 'HEX-eb39',\n",
       "    'amtin': 579.2821689358664,\n",
       "    'tknout': 'WETH-6Cc2',\n",
       "    'amtout': -0.00409614349875,\n",
       "    'error': None}),\n",
       "  'WETH-6Cc2',\n",
       "  (CPCArbOptimizer.TradeInstruction(cid='0x8f9771f2886aa12c1659c275b8e305f58c7c41ba82df03bb21c0bcac98ffde4b', tknin='WETH-6Cc2', amtin=0.0026747551855805796, tknout='HEX-eb39', amtout=-579.2821685373783, error=None),\n",
       "   CPCArbOptimizer.TradeInstruction(cid='14291859410679415465461733512134264881242-0', tknin='HEX-eb39', amtin=579.2821689358664, tknout='WETH-6Cc2', amtout=-0.00409614349875, error=None))),\n",
       " (2.268451460917644,\n",
       "                                                         WBTC-C599   USDC-eB48\n",
       "  0x8d7ac7e77704f3ac75534d5500159a7a4b7e6e23dbdca...  3.490251e-03 -107.181335\n",
       "  4083388403051261561560495289181218537639-1         -3.490251e-03  106.289064\n",
       "  PRICE                                               3.070839e+04    1.000000\n",
       "  AMMIn                                               3.490251e-03  106.289064\n",
       "  AMMOut                                             -3.490251e-03 -107.181335\n",
       "  TOTAL NET                                          -2.929268e-12   -0.892270,\n",
       "  ({'cid': '0x8d7ac7e77704f3ac75534d5500159a7a4b7e6e23dbdca7d9a8085bdea0348d0c',\n",
       "    'tknin': 'WBTC-C599',\n",
       "    'amtin': 0.0034902506370144692,\n",
       "    'tknout': 'USDC-eB48',\n",
       "    'amtout': -107.18133451510221,\n",
       "    'error': None},\n",
       "   {'cid': '4083388403051261561560495289181218537639-1',\n",
       "    'tknin': 'USDC-eB48',\n",
       "    'amtin': 106.28906442971493,\n",
       "    'tknout': 'WBTC-C599',\n",
       "    'amtout': -0.003490250639943737,\n",
       "    'error': None}),\n",
       "  'USDC-eB48',\n",
       "  (CPCArbOptimizer.TradeInstruction(cid='0x8d7ac7e77704f3ac75534d5500159a7a4b7e6e23dbdca7d9a8085bdea0348d0c', tknin='WBTC-C599', amtin=0.0034902506370144692, tknout='USDC-eB48', amtout=-107.18133451510221, error=None),\n",
       "   CPCArbOptimizer.TradeInstruction(cid='4083388403051261561560495289181218537639-1', tknin='USDC-eB48', amtin=106.28906442971493, tknout='WBTC-C599', amtout=-0.003490250639943737, error=None))),\n",
       " (2.0298612739030486,\n",
       "                                                         WBTC-C599   USDC-eB48\n",
       "  0x49ed97db2c080b7eac91dfaa7d51d5e8ac34c4dcfbcd3...  3.305459e-03 -101.415362\n",
       "  4083388403051261561560495289181218537639-1         -3.305459e-03  100.616938\n",
       "  PRICE                                               3.068115e+04    1.000000\n",
       "  AMMIn                                               3.305459e-03  100.616938\n",
       "  AMMOut                                             -3.305459e-03 -101.415362\n",
       "  TOTAL NET                                          -3.556710e-12   -0.798423,\n",
       "  ({'cid': '0x49ed97db2c080b7eac91dfaa7d51d5e8ac34c4dcfbcd3e8f2ed326a2a527b959',\n",
       "    'tknin': 'WBTC-C599',\n",
       "    'amtin': 0.003305459314105974,\n",
       "    'tknout': 'USDC-eB48',\n",
       "    'amtout': -101.41536158323288,\n",
       "    'error': None},\n",
       "   {'cid': '4083388403051261561560495289181218537639-1',\n",
       "    'tknin': 'USDC-eB48',\n",
       "    'amtin': 100.61693828725583,\n",
       "    'tknout': 'WBTC-C599',\n",
       "    'amtout': -0.0033054593176626845,\n",
       "    'error': None}),\n",
       "  'USDC-eB48',\n",
       "  (CPCArbOptimizer.TradeInstruction(cid='0x49ed97db2c080b7eac91dfaa7d51d5e8ac34c4dcfbcd3e8f2ed326a2a527b959', tknin='WBTC-C599', amtin=0.003305459314105974, tknout='USDC-eB48', amtout=-101.41536158323288, error=None),\n",
       "   CPCArbOptimizer.TradeInstruction(cid='4083388403051261561560495289181218537639-1', tknin='USDC-eB48', amtin=100.61693828725583, tknout='WBTC-C599', amtout=-0.0033054593176626845, error=None))),\n",
       " (0.2552440624504415,\n",
       "                                                         WBTC-C599  WETH-6Cc2\n",
       "  0x36445535fc762f6c53277a667500a41e31b51bec800e7...  8.570326e-03  -0.139375\n",
       "  9187623906865338513511114400657741709458-1         -8.570326e-03   0.139321\n",
       "  PRICE                                               1.626249e+01   1.000000\n",
       "  AMMIn                                               8.570326e-03   0.139321\n",
       "  AMMOut                                             -8.570326e-03  -0.139375\n",
       "  TOTAL NET                                          -3.993250e-12  -0.000054,\n",
       "  ({'cid': '0x36445535fc762f6c53277a667500a41e31b51bec800e76aab33dafab75da4eaa',\n",
       "    'tknin': 'WBTC-C599',\n",
       "    'amtin': 0.008570326172048226,\n",
       "    'tknout': 'WETH-6Cc2',\n",
       "    'amtout': -0.13937490130774677,\n",
       "    'error': None},\n",
       "   {'cid': '9187623906865338513511114400657741709458-1',\n",
       "    'tknin': 'WETH-6Cc2',\n",
       "    'amtin': 0.1393213251818679,\n",
       "    'tknout': 'WBTC-C599',\n",
       "    'amtout': -0.008570326176041476,\n",
       "    'error': None}),\n",
       "  'WETH-6Cc2',\n",
       "  (CPCArbOptimizer.TradeInstruction(cid='0x36445535fc762f6c53277a667500a41e31b51bec800e76aab33dafab75da4eaa', tknin='WBTC-C599', amtin=0.008570326172048226, tknout='WETH-6Cc2', amtout=-0.13937490130774677, error=None),\n",
       "   CPCArbOptimizer.TradeInstruction(cid='9187623906865338513511114400657741709458-1', tknin='WETH-6Cc2', amtin=0.1393213251818679, tknout='WBTC-C599', amtout=-0.008570326176041476, error=None))),\n",
       " (0.048721835065298036,\n",
       "                                                         WBTC-C599  USDT-1ec7\n",
       "  0xae74d344dcbd233af25d4c0659168d3c47dd7f5ad39b7...  3.195191e-05  -0.980752\n",
       "  9527906273786276976974489008089509920820-1         -3.195191e-05   0.961477\n",
       "  PRICE                                               3.069461e+04   1.000000\n",
       "  AMMIn                                               3.195191e-05   0.961477\n",
       "  AMMOut                                             -3.195191e-05  -0.980752\n",
       "  TOTAL NET                                          -4.356582e-13  -0.019274,\n",
       "  ({'cid': '0xae74d344dcbd233af25d4c0659168d3c47dd7f5ad39b7cc07efada00d3b9424f',\n",
       "    'tknin': 'WBTC-C599',\n",
       "    'amtin': 3.195191038685152e-05,\n",
       "    'tknout': 'USDT-1ec7',\n",
       "    'amtout': -0.9807515665888786,\n",
       "    'error': None},\n",
       "   {'cid': '9527906273786276976974489008089509920820-1',\n",
       "    'tknin': 'USDT-1ec7',\n",
       "    'amtin': 0.9614770693228749,\n",
       "    'tknout': 'WBTC-C599',\n",
       "    'amtout': -3.195191082250976e-05,\n",
       "    'error': None}),\n",
       "  'USDT-1ec7',\n",
       "  (CPCArbOptimizer.TradeInstruction(cid='0xae74d344dcbd233af25d4c0659168d3c47dd7f5ad39b7cc07efada00d3b9424f', tknin='WBTC-C599', amtin=3.195191038685152e-05, tknout='USDT-1ec7', amtout=-0.9807515665888786, error=None),\n",
       "   CPCArbOptimizer.TradeInstruction(cid='9527906273786276976974489008089509920820-1', tknin='USDT-1ec7', amtin=0.9614770693228749, tknout='WBTC-C599', amtout=-3.195191082250976e-05, error=None))),\n",
       " (0.07122337503252427,\n",
       "                                                      USDT-1ec7     WETH-6Cc2\n",
       "  0x7c746d3518854384f7a73a6d2da821454319d305a2af4...   1.537620 -8.133875e-04\n",
       "  2722258935367507707706996859454145691868-0          -1.565796  8.133873e-04\n",
       "  PRICE                                                1.000000  1.890390e+03\n",
       "  AMMIn                                                1.537620  8.133873e-04\n",
       "  AMMOut                                              -1.565796 -8.133875e-04\n",
       "  TOTAL NET                                           -0.028176 -1.873772e-10,\n",
       "  ({'cid': '0x7c746d3518854384f7a73a6d2da821454319d305a2af4b7015bbf8734a394e49',\n",
       "    'tknin': 'USDT-1ec7',\n",
       "    'amtin': 1.5376198291778564,\n",
       "    'tknout': 'WETH-6Cc2',\n",
       "    'amtout': -0.000813387508969754,\n",
       "    'error': None},\n",
       "   {'cid': '2722258935367507707706996859454145691868-0',\n",
       "    'tknin': 'WETH-6Cc2',\n",
       "    'amtin': 0.0008133873215925291,\n",
       "    'tknout': 'USDT-1ec7',\n",
       "    'amtout': -1.5657959999953164,\n",
       "    'error': None}),\n",
       "  'USDT-1ec7',\n",
       "  (CPCArbOptimizer.TradeInstruction(cid='0x7c746d3518854384f7a73a6d2da821454319d305a2af4b7015bbf8734a394e49', tknin='USDT-1ec7', amtin=1.5376198291778564, tknout='WETH-6Cc2', amtout=-0.000813387508969754, error=None),\n",
       "   CPCArbOptimizer.TradeInstruction(cid='2722258935367507707706996859454145691868-0', tknin='WETH-6Cc2', amtin=0.0008133873215925291, tknout='USDT-1ec7', amtout=-1.5657959999953164, error=None))),\n",
       " (0.0737828456711148,\n",
       "                                                      USDT-1ec7     WETH-6Cc2\n",
       "  0x756d9e632902f414e914ddcb16b7388f3c405ff3bebb5...   1.536607 -8.133873e-04\n",
       "  2722258935367507707706996859454145691868-0          -1.565796  8.133873e-04\n",
       "  PRICE                                                1.000000  1.889146e+03\n",
       "  AMMIn                                                1.536607  8.133873e-04\n",
       "  AMMOut                                              -1.565796 -8.133873e-04\n",
       "  TOTAL NET                                           -0.029189  1.634959e-11,\n",
       "  ({'cid': '0x756d9e632902f414e914ddcb16b7388f3c405ff3bebb5f95e6d668813bd24802',\n",
       "    'tknin': 'USDT-1ec7',\n",
       "    'amtin': 1.5366072952747345,\n",
       "    'tknout': 'WETH-6Cc2',\n",
       "    'amtout': -0.0008133873052429408,\n",
       "    'error': None},\n",
       "   {'cid': '2722258935367507707706996859454145691868-0',\n",
       "    'tknin': 'WETH-6Cc2',\n",
       "    'amtin': 0.0008133873215925291,\n",
       "    'tknout': 'USDT-1ec7',\n",
       "    'amtout': -1.5657959999953164,\n",
       "    'error': None}),\n",
       "  'USDT-1ec7',\n",
       "  (CPCArbOptimizer.TradeInstruction(cid='0x756d9e632902f414e914ddcb16b7388f3c405ff3bebb5f95e6d668813bd24802', tknin='USDT-1ec7', amtin=1.5366072952747345, tknout='WETH-6Cc2', amtout=-0.0008133873052429408, error=None),\n",
       "   CPCArbOptimizer.TradeInstruction(cid='2722258935367507707706996859454145691868-0', tknin='WETH-6Cc2', amtin=0.0008133873215925291, tknout='USDT-1ec7', amtout=-1.5657959999953164, error=None))),\n",
       " (0.08907013627530203,\n",
       "                                                      USDT-1ec7     WETH-6Cc2\n",
       "  0xb14173c7c0fb596f249943c2c337df5bebe046b6ed98a...   1.530560 -8.133873e-04\n",
       "  2722258935367507707706996859454145691868-0          -1.565796  8.133873e-04\n",
       "  PRICE                                                1.000000  1.881711e+03\n",
       "  AMMIn                                                1.530560  8.133873e-04\n",
       "  AMMOut                                              -1.565796 -8.133873e-04\n",
       "  TOTAL NET                                           -0.035236  1.797673e-12,\n",
       "  ({'cid': '0xb14173c7c0fb596f249943c2c337df5bebe046b6ed98a8b7434c18270648a9dd',\n",
       "    'tknin': 'USDT-1ec7',\n",
       "    'amtin': 1.5305595993995667,\n",
       "    'tknout': 'WETH-6Cc2',\n",
       "    'amtout': -0.000813387319794856,\n",
       "    'error': None},\n",
       "   {'cid': '2722258935367507707706996859454145691868-0',\n",
       "    'tknin': 'WETH-6Cc2',\n",
       "    'amtin': 0.0008133873215925291,\n",
       "    'tknout': 'USDT-1ec7',\n",
       "    'amtout': -1.5657959999953164,\n",
       "    'error': None}),\n",
       "  'USDT-1ec7',\n",
       "  (CPCArbOptimizer.TradeInstruction(cid='0xb14173c7c0fb596f249943c2c337df5bebe046b6ed98a8b7434c18270648a9dd', tknin='USDT-1ec7', amtin=1.5305595993995667, tknout='WETH-6Cc2', amtout=-0.000813387319794856, error=None),\n",
       "   CPCArbOptimizer.TradeInstruction(cid='2722258935367507707706996859454145691868-0', tknin='WETH-6Cc2', amtin=0.0008133873215925291, tknout='USDT-1ec7', amtout=-1.5657959999953164, error=None))),\n",
       " (2.3883438089214906,\n",
       "                                                         WETH-6Cc2   BNT-FF1C\n",
       "  0x748ab2bef0d97e5a044268626e6c9c104bab818605d44...  3.982719e-03 -18.974204\n",
       "  3743106036130323098097120681749450326076-0         -3.982725e-03  16.585860\n",
       "  PRICE                                               4.764127e+03   1.000000\n",
       "  AMMIn                                               3.982719e-03  16.585860\n",
       "  AMMOut                                             -3.982725e-03 -18.974204\n",
       "  TOTAL NET                                          -5.554551e-09  -2.388344,\n",
       "  ({'cid': '0x748ab2bef0d97e5a044268626e6c9c104bab818605d44f650fdeaa03a3c742d2',\n",
       "    'tknin': 'WETH-6Cc2',\n",
       "    'amtin': 0.003982719319992611,\n",
       "    'tknout': 'BNT-FF1C',\n",
       "    'amtout': -18.974203538149595,\n",
       "    'error': None},\n",
       "   {'cid': '3743106036130323098097120681749450326076-0',\n",
       "    'tknin': 'BNT-FF1C',\n",
       "    'amtin': 16.585859729228105,\n",
       "    'tknout': 'WETH-6Cc2',\n",
       "    'amtout': -0.003982724874543209,\n",
       "    'error': None}),\n",
       "  'BNT-FF1C',\n",
       "  (CPCArbOptimizer.TradeInstruction(cid='0x748ab2bef0d97e5a044268626e6c9c104bab818605d44f650fdeaa03a3c742d2', tknin='WETH-6Cc2', amtin=0.003982719319992611, tknout='BNT-FF1C', amtout=-18.974203538149595, error=None),\n",
       "   CPCArbOptimizer.TradeInstruction(cid='3743106036130323098097120681749450326076-0', tknin='BNT-FF1C', amtin=16.585859729228105, tknout='WETH-6Cc2', amtout=-0.003982724874543209, error=None))),\n",
       " (30.18890976261885,\n",
       "                                                        agEUR-Bce8    USDC-eB48\n",
       "  0xcb487fc19b1e23857870b0743650419594c1883e4cee7...  3.290075e+03 -3623.138341\n",
       "  21778071482940061661655974875633165533369-1        -3.290075e+03  3611.263870\n",
       "  PRICE                                               1.101207e+00     1.000000\n",
       "  AMMIn                                               3.290075e+03  3611.263870\n",
       "  AMMOut                                             -3.290075e+03 -3623.138341\n",
       "  TOTAL NET                                          -7.916242e-09   -11.874471,\n",
       "  ({'cid': '0xcb487fc19b1e23857870b0743650419594c1883e4cee744984589f0093c6366a',\n",
       "    'tknin': 'agEUR-Bce8',\n",
       "    'amtin': 3290.0749664902687,\n",
       "    'tknout': 'USDC-eB48',\n",
       "    'amtout': -3623.1383405923843,\n",
       "    'error': None},\n",
       "   {'cid': '21778071482940061661655974875633165533369-1',\n",
       "    'tknin': 'USDC-eB48',\n",
       "    'amtin': 3611.2638695905916,\n",
       "    'tknout': 'agEUR-Bce8',\n",
       "    'amtout': -3290.074966498185,\n",
       "    'error': None}),\n",
       "  'USDC-eB48',\n",
       "  (CPCArbOptimizer.TradeInstruction(cid='0xcb487fc19b1e23857870b0743650419594c1883e4cee744984589f0093c6366a', tknin='agEUR-Bce8', amtin=3290.0749664902687, tknout='USDC-eB48', amtout=-3623.1383405923843, error=None),\n",
       "   CPCArbOptimizer.TradeInstruction(cid='21778071482940061661655974875633165533369-1', tknin='USDC-eB48', amtin=3611.2638695905916, tknout='agEUR-Bce8', amtout=-3290.074966498185, error=None))),\n",
       " (0.5927347522936545,\n",
       "                                                        agEUR-Bce8   USDC-eB48\n",
       "  0x9546a8b47738f2e0584eca2046653b7b16dc9474296a7...  1.199673e+02 -131.637999\n",
       "  21778071482940061661655974875633165533369-1        -1.199673e+02  131.404853\n",
       "  PRICE                                               1.095425e+00    1.000000\n",
       "  AMMIn                                               1.199673e+02  131.404853\n",
       "  AMMOut                                             -1.199673e+02 -131.637999\n",
       "  TOTAL NET                                          -1.513399e-09   -0.233146,\n",
       "  ({'cid': '0x9546a8b47738f2e0584eca2046653b7b16dc9474296a73d548888c6dae78759d',\n",
       "    'tknin': 'agEUR-Bce8',\n",
       "    'amtin': 119.96733726689126,\n",
       "    'tknout': 'USDC-eB48',\n",
       "    'amtout': -131.6379988080007,\n",
       "    'error': None},\n",
       "   {'cid': '21778071482940061661655974875633165533369-1',\n",
       "    'tknin': 'USDC-eB48',\n",
       "    'amtin': 131.40485320310108,\n",
       "    'tknout': 'agEUR-Bce8',\n",
       "    'amtout': -119.96733726840466,\n",
       "    'error': None}),\n",
       "  'USDC-eB48',\n",
       "  (CPCArbOptimizer.TradeInstruction(cid='0x9546a8b47738f2e0584eca2046653b7b16dc9474296a73d548888c6dae78759d', tknin='agEUR-Bce8', amtin=119.96733726689126, tknout='USDC-eB48', amtout=-131.6379988080007, error=None),\n",
       "   CPCArbOptimizer.TradeInstruction(cid='21778071482940061661655974875633165533369-1', tknin='USDC-eB48', amtin=131.40485320310108, tknout='agEUR-Bce8', amtout=-119.96733726840466, error=None))),\n",
       " (0.13397430985269573,\n",
       "                                                      LINK-86CA  WETH-6Cc2\n",
       "  0xb09fc461328afbc93753852a60579f5b77b43400b46f8...   0.339628  -0.001125\n",
       "  20416942015256307807802476445906092687540-1         -0.339628   0.001097\n",
       "  PRICE                                                0.003313   1.000000\n",
       "  AMMIn                                                0.339628   0.001097\n",
       "  AMMOut                                              -0.339628  -0.001125\n",
       "  TOTAL NET                                            0.000000  -0.000028,\n",
       "  ({'cid': '0xb09fc461328afbc93753852a60579f5b77b43400b46f862430d98db0eb3de97e',\n",
       "    'tknin': 'LINK-86CA',\n",
       "    'amtin': 0.3396284580230713,\n",
       "    'tknout': 'WETH-6Cc2',\n",
       "    'amtout': -0.0011251211544731632,\n",
       "    'error': None},\n",
       "   {'cid': '20416942015256307807802476445906092687540-1',\n",
       "    'tknin': 'WETH-6Cc2',\n",
       "    'amtin': 0.0010969997383654118,\n",
       "    'tknout': 'LINK-86CA',\n",
       "    'amtout': -0.3396284580230713,\n",
       "    'error': None}),\n",
       "  'WETH-6Cc2',\n",
       "  (CPCArbOptimizer.TradeInstruction(cid='0xb09fc461328afbc93753852a60579f5b77b43400b46f862430d98db0eb3de97e', tknin='LINK-86CA', amtin=0.3396284580230713, tknout='WETH-6Cc2', amtout=-0.0011251211544731632, error=None),\n",
       "   CPCArbOptimizer.TradeInstruction(cid='20416942015256307807802476445906092687540-1', tknin='WETH-6Cc2', amtin=0.0010969997383654118, tknout='LINK-86CA', amtout=-0.3396284580230713, error=None))),\n",
       " (0.022376461396262492,\n",
       "                                                      USDT-1ec7     LINK-86CA\n",
       "  0xd16316f4a13adf79a9a789e43c8d66baddb7beb53f17b...   0.099713 -1.608768e-02\n",
       "  4763953136893138488487244504044754960514-0          -0.108565  1.608768e-02\n",
       "  PRICE                                                1.000000  6.198117e+00\n",
       "  AMMIn                                                0.099713  1.608768e-02\n",
       "  AMMOut                                              -0.108565 -1.608768e-02\n",
       "  TOTAL NET                                           -0.008852 -1.363354e-13,\n",
       "  ({'cid': '0xd16316f4a13adf79a9a789e43c8d66baddb7beb53f17be1ded15f267e3c32971',\n",
       "    'tknin': 'USDT-1ec7',\n",
       "    'amtin': 0.09971280788886361,\n",
       "    'tknout': 'LINK-86CA',\n",
       "    'amtout': -0.0160876764839486,\n",
       "    'error': None},\n",
       "   {'cid': '4763953136893138488487244504044754960514-0',\n",
       "    'tknin': 'LINK-86CA',\n",
       "    'amtin': 0.016087676483812263,\n",
       "    'tknout': 'USDT-1ec7',\n",
       "    'amtout': -0.10856499999999958,\n",
       "    'error': None}),\n",
       "  'USDT-1ec7',\n",
       "  (CPCArbOptimizer.TradeInstruction(cid='0xd16316f4a13adf79a9a789e43c8d66baddb7beb53f17be1ded15f267e3c32971', tknin='USDT-1ec7', amtin=0.09971280788886361, tknout='LINK-86CA', amtout=-0.0160876764839486, error=None),\n",
       "   CPCArbOptimizer.TradeInstruction(cid='4763953136893138488487244504044754960514-0', tknin='LINK-86CA', amtin=0.016087676483812263, tknout='USDT-1ec7', amtout=-0.10856499999999958, error=None))),\n",
       " (0.02530143632500384,\n",
       "                                                          BNT-FF1C  USDC-eB48\n",
       "  0xc4771395e1389e2e3a12ec22efbb7aff5b1c04e5ce9c7...  2.981047e+00  -1.172560\n",
       "  2381976568446569244243622252022377480332-1         -2.981047e+00   1.162608\n",
       "  PRICE                                               3.933380e-01   1.000000\n",
       "  AMMIn                                               2.981047e+00   1.162608\n",
       "  AMMOut                                             -2.981047e+00  -1.172560\n",
       "  TOTAL NET                                           4.656613e-10  -0.009952,\n",
       "  ({'cid': '0xc4771395e1389e2e3a12ec22efbb7aff5b1c04e5ce9c7596a82e9dc8fdec725b',\n",
       "    'tknin': 'BNT-FF1C',\n",
       "    'amtin': 2.9810466771014035,\n",
       "    'tknout': 'USDC-eB48',\n",
       "    'amtout': -1.1725601844955236,\n",
       "    'error': None},\n",
       "   {'cid': '2381976568446569244243622252022377480332-1',\n",
       "    'tknin': 'USDC-eB48',\n",
       "    'amtin': 1.1626081466674805,\n",
       "    'tknout': 'BNT-FF1C',\n",
       "    'amtout': -2.981046676635742,\n",
       "    'error': None}),\n",
       "  'USDC-eB48',\n",
       "  (CPCArbOptimizer.TradeInstruction(cid='0xc4771395e1389e2e3a12ec22efbb7aff5b1c04e5ce9c7596a82e9dc8fdec725b', tknin='BNT-FF1C', amtin=2.9810466771014035, tknout='USDC-eB48', amtout=-1.1725601844955236, error=None),\n",
       "   CPCArbOptimizer.TradeInstruction(cid='2381976568446569244243622252022377480332-1', tknin='USDC-eB48', amtin=1.1626081466674805, tknout='BNT-FF1C', amtout=-2.981046676635742, error=None))),\n",
       " (2.388375299083436,\n",
       "                                                      WETH-6Cc2      BNT-FF1C\n",
       "  0x748ab2bef0d97e5a044268626e6c9c104bab818605d44...   0.003481 -1.658586e+01\n",
       "  3743106036130323098097120681749450326076-0          -0.003983  1.658586e+01\n",
       "  PRICE                                                1.000000  2.099020e-04\n",
       "  AMMIn                                                0.003481  1.658586e+01\n",
       "  AMMOut                                              -0.003983 -1.658586e+01\n",
       "  TOTAL NET                                           -0.000501 -1.611625e-09,\n",
       "  ({'cid': '0x748ab2bef0d97e5a044268626e6c9c104bab818605d44f650fdeaa03a3c742d2',\n",
       "    'tknin': 'WETH-6Cc2',\n",
       "    'amtin': 0.0034814011828530056,\n",
       "    'tknout': 'BNT-FF1C',\n",
       "    'amtout': -16.58585973083973,\n",
       "    'error': None},\n",
       "   {'cid': '3743106036130323098097120681749450326076-0',\n",
       "    'tknin': 'BNT-FF1C',\n",
       "    'amtin': 16.585859729228105,\n",
       "    'tknout': 'WETH-6Cc2',\n",
       "    'amtout': -0.003982724874543209,\n",
       "    'error': None}),\n",
       "  'WETH-6Cc2',\n",
       "  (CPCArbOptimizer.TradeInstruction(cid='0x748ab2bef0d97e5a044268626e6c9c104bab818605d44f650fdeaa03a3c742d2', tknin='WETH-6Cc2', amtin=0.0034814011828530056, tknout='BNT-FF1C', amtout=-16.58585973083973, error=None),\n",
       "   CPCArbOptimizer.TradeInstruction(cid='3743106036130323098097120681749450326076-0', tknin='BNT-FF1C', amtin=16.585859729228105, tknout='WETH-6Cc2', amtout=-0.003982724874543209, error=None))),\n",
       " (5.207595845256681,\n",
       "                                                         rETH-6393  WETH-6Cc2\n",
       "  0x1eda42a2cced5e9cfffe1b15d7c39253514267401c5bd...  2.496828e-01  -0.268836\n",
       "  3062541302288446171170371466885913903202-0         -2.496828e-01   0.267743\n",
       "  PRICE                                               1.076708e+00   1.000000\n",
       "  AMMIn                                               2.496828e-01   0.267743\n",
       "  AMMOut                                             -2.496828e-01  -0.268836\n",
       "  TOTAL NET                                          -4.787637e-11  -0.001093,\n",
       "  ({'cid': '0x1eda42a2cced5e9cfffe1b15d7c39253514267401c5bd2e9ca28287f8a996fde',\n",
       "    'tknin': 'rETH-6393',\n",
       "    'amtin': 0.24968278966844082,\n",
       "    'tknout': 'WETH-6Cc2',\n",
       "    'amtout': -0.2688355960417539,\n",
       "    'error': None},\n",
       "   {'cid': '3062541302288446171170371466885913903202-0',\n",
       "    'tknin': 'WETH-6Cc2',\n",
       "    'amtin': 0.267742513570596,\n",
       "    'tknout': 'rETH-6393',\n",
       "    'amtout': -0.2496827897163172,\n",
       "    'error': None}),\n",
       "  'WETH-6Cc2',\n",
       "  (CPCArbOptimizer.TradeInstruction(cid='0x1eda42a2cced5e9cfffe1b15d7c39253514267401c5bd2e9ca28287f8a996fde', tknin='rETH-6393', amtin=0.24968278966844082, tknout='WETH-6Cc2', amtout=-0.2688355960417539, error=None),\n",
       "   CPCArbOptimizer.TradeInstruction(cid='3062541302288446171170371466885913903202-0', tknin='WETH-6Cc2', amtin=0.267742513570596, tknout='rETH-6393', amtout=-0.2496827897163172, error=None))),\n",
       " (0.10609157549338528,\n",
       "                                                      WETH-6Cc2     USDC-eB48\n",
       "  0x38a4847880387ca4a93a5d202263135d162f37adf6e46...   0.000450 -8.508409e-01\n",
       "  1701411834604692317316873037158841057409-1          -0.000473  8.508409e-01\n",
       "  PRICE                                                1.000000  5.293828e-04\n",
       "  AMMIn                                                0.000450  8.508409e-01\n",
       "  AMMOut                                              -0.000473 -8.508409e-01\n",
       "  TOTAL NET                                           -0.000022 -3.352761e-08,\n",
       "  ({'cid': '0x38a4847880387ca4a93a5d202263135d162f37adf6e46b505f1f2117f4909a83',\n",
       "    'tknin': 'WETH-6Cc2',\n",
       "    'amtin': 0.0004504205717239529,\n",
       "    'tknout': 'USDC-eB48',\n",
       "    'amtout': -0.8508409261703491,\n",
       "    'error': None},\n",
       "   {'cid': '1701411834604692317316873037158841057409-1',\n",
       "    'tknin': 'USDC-eB48',\n",
       "    'amtin': 0.8508408926427364,\n",
       "    'tknout': 'WETH-6Cc2',\n",
       "    'amtout': -0.00047268935850297567,\n",
       "    'error': None}),\n",
       "  'WETH-6Cc2',\n",
       "  (CPCArbOptimizer.TradeInstruction(cid='0x38a4847880387ca4a93a5d202263135d162f37adf6e46b505f1f2117f4909a83', tknin='WETH-6Cc2', amtin=0.0004504205717239529, tknout='USDC-eB48', amtout=-0.8508409261703491, error=None),\n",
       "   CPCArbOptimizer.TradeInstruction(cid='1701411834604692317316873037158841057409-1', tknin='USDC-eB48', amtin=0.8508408926427364, tknout='WETH-6Cc2', amtout=-0.00047268935850297567, error=None))),\n",
       " (0.2831112372521017,\n",
       "                                                       USDC-eB48   USDT-1ec7\n",
       "  0x8adf75b03d87eec9b746d54c2b4a8ca6d813437b04b63...  334.682617 -334.675659\n",
       "  1020847100762815390390123822295304634391-1         -334.682623  334.563660\n",
       "  PRICE                                                 0.999979    1.000000\n",
       "  AMMIn                                               334.682617  334.563660\n",
       "  AMMOut                                             -334.682623 -334.675659\n",
       "  TOTAL NET                                            -0.000006   -0.112000,\n",
       "  ({'cid': '0x8adf75b03d87eec9b746d54c2b4a8ca6d813437b04b632440de5366d4a56bd20',\n",
       "    'tknin': 'USDC-eB48',\n",
       "    'amtin': 334.6826171875,\n",
       "    'tknout': 'USDT-1ec7',\n",
       "    'amtout': -334.6756591796875,\n",
       "    'error': None},\n",
       "   {'cid': '1020847100762815390390123822295304634391-1',\n",
       "    'tknin': 'USDT-1ec7',\n",
       "    'amtin': 334.56365956470836,\n",
       "    'tknout': 'USDC-eB48',\n",
       "    'amtout': -334.6826231216546,\n",
       "    'error': None}),\n",
       "  'USDT-1ec7',\n",
       "  (CPCArbOptimizer.TradeInstruction(cid='0x8adf75b03d87eec9b746d54c2b4a8ca6d813437b04b632440de5366d4a56bd20', tknin='USDC-eB48', amtin=334.6826171875, tknout='USDT-1ec7', amtout=-334.6756591796875, error=None),\n",
       "   CPCArbOptimizer.TradeInstruction(cid='1020847100762815390390123822295304634391-1', tknin='USDT-1ec7', amtin=334.56365956470836, tknout='USDC-eB48', amtout=-334.6826231216546, error=None))),\n",
       " (0.31750881084751775,\n",
       "                                                         USDC-eB48   USDT-1ec7\n",
       "  0xab545184db79ea540f8661f6a96cbef6b4b05a1853193...  3.543710e+02 -354.377648\n",
       "  1020847100762815390390123822295304634391-1         -3.543710e+02  354.252041\n",
       "  PRICE                                               1.000019e+00    1.000000\n",
       "  AMMIn                                               3.543710e+02  354.252041\n",
       "  AMMOut                                             -3.543710e+02 -354.377648\n",
       "  TOTAL NET                                           3.980240e-07   -0.125607,\n",
       "  ({'cid': '0xab545184db79ea540f8661f6a96cbef6b4b05a1853193c08c648c7ddf5be231a',\n",
       "    'tknin': 'USDC-eB48',\n",
       "    'amtin': 354.3710265159607,\n",
       "    'tknout': 'USDT-1ec7',\n",
       "    'amtout': -354.37764835357666,\n",
       "    'error': None},\n",
       "   {'cid': '1020847100762815390390123822295304634391-1',\n",
       "    'tknin': 'USDT-1ec7',\n",
       "    'amtin': 354.2520409601275,\n",
       "    'tknout': 'USDC-eB48',\n",
       "    'amtout': -354.3710261179367,\n",
       "    'error': None}),\n",
       "  'USDT-1ec7',\n",
       "  (CPCArbOptimizer.TradeInstruction(cid='0xab545184db79ea540f8661f6a96cbef6b4b05a1853193c08c648c7ddf5be231a', tknin='USDC-eB48', amtin=354.3710265159607, tknout='USDT-1ec7', amtout=-354.37764835357666, error=None),\n",
       "   CPCArbOptimizer.TradeInstruction(cid='1020847100762815390390123822295304634391-1', tknin='USDT-1ec7', amtin=354.2520409601275, tknout='USDC-eB48', amtout=-354.3710261179367, error=None))),\n",
       " (0.025298001244664192,\n",
       "                                                      BNT-FF1C  USDC-eB48\n",
       "  0xc4771395e1389e2e3a12ec22efbb7aff5b1c04e5ce9c7...  2.955749  -1.162610\n",
       "  2381976568446569244243622252022377480332-1         -2.981047   1.162608\n",
       "  PRICE                                               1.000000   2.542343\n",
       "  AMMIn                                               2.955749   1.162608\n",
       "  AMMOut                                             -2.981047  -1.162610\n",
       "  TOTAL NET                                          -0.025298  -0.000001,\n",
       "  ({'cid': '0xc4771395e1389e2e3a12ec22efbb7aff5b1c04e5ce9c7596a82e9dc8fdec725b',\n",
       "    'tknin': 'BNT-FF1C',\n",
       "    'amtin': 2.955748675391078,\n",
       "    'tknout': 'USDC-eB48',\n",
       "    'amtout': -1.1626095194369555,\n",
       "    'error': None},\n",
       "   {'cid': '2381976568446569244243622252022377480332-1',\n",
       "    'tknin': 'USDC-eB48',\n",
       "    'amtin': 1.1626081466674805,\n",
       "    'tknout': 'BNT-FF1C',\n",
       "    'amtout': -2.981046676635742,\n",
       "    'error': None}),\n",
       "  'BNT-FF1C',\n",
       "  (CPCArbOptimizer.TradeInstruction(cid='0xc4771395e1389e2e3a12ec22efbb7aff5b1c04e5ce9c7596a82e9dc8fdec725b', tknin='BNT-FF1C', amtin=2.955748675391078, tknout='USDC-eB48', amtout=-1.1626095194369555, error=None),\n",
       "   CPCArbOptimizer.TradeInstruction(cid='2381976568446569244243622252022377480332-1', tknin='USDC-eB48', amtin=1.1626081466674805, tknout='BNT-FF1C', amtout=-2.981046676635742, error=None))),\n",
       " (24.21153510220256,\n",
       "                                                       vBNT-7f94    BNT-FF1C\n",
       "  0xc4be7ee1e92f6eaebe2b6c46db7eb95e883dc9baa7691...  489.838768 -243.864558\n",
       "  4423670769972200025023869896612986749191-1         -489.838770  219.653023\n",
       "  PRICE                                                 0.497722    1.000000\n",
       "  AMMIn                                               489.838768  219.653023\n",
       "  AMMOut                                             -489.838770 -243.864558\n",
       "  TOTAL NET                                            -0.000001  -24.211535,\n",
       "  ({'cid': '0xc4be7ee1e92f6eaebe2b6c46db7eb95e883dc9baa76915812d9b50b83af82b26',\n",
       "    'tknin': 'vBNT-7f94',\n",
       "    'amtin': 489.838768490823,\n",
       "    'tknout': 'BNT-FF1C',\n",
       "    'amtout': -243.86455823783763,\n",
       "    'error': None},\n",
       "   {'cid': '4423670769972200025023869896612986749191-1',\n",
       "    'tknin': 'BNT-FF1C',\n",
       "    'amtin': 219.65302313563507,\n",
       "    'tknout': 'vBNT-7f94',\n",
       "    'amtout': -489.83876979520846,\n",
       "    'error': None}),\n",
       "  'BNT-FF1C',\n",
       "  (CPCArbOptimizer.TradeInstruction(cid='0xc4be7ee1e92f6eaebe2b6c46db7eb95e883dc9baa76915812d9b50b83af82b26', tknin='vBNT-7f94', amtin=489.838768490823, tknout='BNT-FF1C', amtout=-243.86455823783763, error=None),\n",
       "   CPCArbOptimizer.TradeInstruction(cid='4423670769972200025023869896612986749191-1', tknin='BNT-FF1C', amtin=219.65302313563507, tknout='vBNT-7f94', amtout=-489.83876979520846, error=None)))]"
      ]
     },
     "execution_count": 7,
     "metadata": {},
     "output_type": "execute_result"
    }
   ],
   "source": [
    "r"
   ]
  },
  {
   "cell_type": "markdown",
   "id": "d4c12c4b",
   "metadata": {},
   "source": [
    "## Test_no_multi_carbon"
   ]
  },
  {
   "cell_type": "code",
   "execution_count": 8,
   "id": "c4f92d83",
   "metadata": {},
   "outputs": [
    {
     "data": {
      "application/vnd.jupyter.widget-view+json": {
       "model_id": "5c84e44b38374dc6a45e07d4bdcf266c",
       "version_major": 2,
       "version_minor": 0
      },
      "text/plain": [
       "  0%|          | 0/1 [00:00<?, ?it/s]"
      ]
     },
     "metadata": {},
     "output_type": "display_data"
    },
    {
     "name": "stdout",
     "output_type": "stream",
     "text": [
      "[TradeInstruction.to_dicts]\n"
     ]
    },
    {
     "data": {
      "application/vnd.jupyter.widget-view+json": {
       "model_id": "d8b89f57448c497ab726fd216d5fff78",
       "version_major": 2,
       "version_minor": 0
      },
      "text/plain": [
       "  0%|          | 0/1 [00:00<?, ?it/s]"
      ]
     },
     "metadata": {},
     "output_type": "display_data"
    },
    {
     "name": "stdout",
     "output_type": "stream",
     "text": [
      "[TradeInstruction.to_dicts]\n"
     ]
    },
    {
     "data": {
      "application/vnd.jupyter.widget-view+json": {
       "model_id": "9534d57d0bd8493ab73a3dfebf8c66ce",
       "version_major": 2,
       "version_minor": 0
      },
      "text/plain": [
       "  0%|          | 0/2 [00:00<?, ?it/s]"
      ]
     },
     "metadata": {},
     "output_type": "display_data"
    },
    {
     "name": "stdout",
     "output_type": "stream",
     "text": [
      "[TradeInstruction.to_dicts]\n",
      "[TradeInstruction.to_dicts]\n"
     ]
    },
    {
     "data": {
      "application/vnd.jupyter.widget-view+json": {
       "model_id": "e0760ed4b97d413a9de4d32c6401c62d",
       "version_major": 2,
       "version_minor": 0
      },
      "text/plain": [
       "0it [00:00, ?it/s]"
      ]
     },
     "metadata": {},
     "output_type": "display_data"
    },
    {
     "data": {
      "application/vnd.jupyter.widget-view+json": {
       "model_id": "f1fa5de36a2345c78a5888ae6d5f3832",
       "version_major": 2,
       "version_minor": 0
      },
      "text/plain": [
       "0it [00:00, ?it/s]"
      ]
     },
     "metadata": {},
     "output_type": "display_data"
    },
    {
     "data": {
      "application/vnd.jupyter.widget-view+json": {
       "model_id": "9a9d033e7f3945509d3c36eac0a9172e",
       "version_major": 2,
       "version_minor": 0
      },
      "text/plain": [
       "  0%|          | 0/2 [00:00<?, ?it/s]"
      ]
     },
     "metadata": {},
     "output_type": "display_data"
    },
    {
     "name": "stdout",
     "output_type": "stream",
     "text": [
      "[TradeInstruction.to_dicts]\n",
      "[TradeInstruction.to_dicts]\n"
     ]
    },
    {
     "data": {
      "application/vnd.jupyter.widget-view+json": {
       "model_id": "0aa5f3a3295548e3a1465d257eb2ae59",
       "version_major": 2,
       "version_minor": 0
      },
      "text/plain": [
       "0it [00:00, ?it/s]"
      ]
     },
     "metadata": {},
     "output_type": "display_data"
    },
    {
     "data": {
      "application/vnd.jupyter.widget-view+json": {
       "model_id": "32f88c9eaee547d88cf9fdcd9b57d731",
       "version_major": 2,
       "version_minor": 0
      },
      "text/plain": [
       "0it [00:00, ?it/s]"
      ]
     },
     "metadata": {},
     "output_type": "display_data"
    },
    {
     "data": {
      "application/vnd.jupyter.widget-view+json": {
       "model_id": "2349a97fc27740e7b36dc13cf2bc38a8",
       "version_major": 2,
       "version_minor": 0
      },
      "text/plain": [
       "0it [00:00, ?it/s]"
      ]
     },
     "metadata": {},
     "output_type": "display_data"
    },
    {
     "data": {
      "application/vnd.jupyter.widget-view+json": {
       "model_id": "75c43e52a6b64984bbc4be23d894f88a",
       "version_major": 2,
       "version_minor": 0
      },
      "text/plain": [
       "0it [00:00, ?it/s]"
      ]
     },
     "metadata": {},
     "output_type": "display_data"
    },
    {
     "data": {
      "application/vnd.jupyter.widget-view+json": {
       "model_id": "cc918c7777604eb8981b1bd763f8e3e3",
       "version_major": 2,
       "version_minor": 0
      },
      "text/plain": [
       "  0%|          | 0/16 [00:00<?, ?it/s]"
      ]
     },
     "metadata": {},
     "output_type": "display_data"
    },
    {
     "name": "stdout",
     "output_type": "stream",
     "text": [
      "[TradeInstruction.to_dicts]\n",
      "[TradeInstruction.to_dicts]\n",
      "[TradeInstruction.to_dicts]\n",
      "[TradeInstruction.to_dicts]\n",
      "[TradeInstruction.to_dicts]\n",
      "[TradeInstruction.to_dicts]\n",
      "[TradeInstruction.to_dicts]\n",
      "[TradeInstruction.to_dicts]\n",
      "[TradeInstruction.to_dicts]\n",
      "[TradeInstruction.to_dicts]\n",
      "[TradeInstruction.to_dicts]\n",
      "[TradeInstruction.to_dicts]\n",
      "[TradeInstruction.to_dicts]\n",
      "[TradeInstruction.to_dicts]\n",
      "[TradeInstruction.to_dicts]\n",
      "[TradeInstruction.to_dicts]\n"
     ]
    },
    {
     "data": {
      "application/vnd.jupyter.widget-view+json": {
       "model_id": "eba698ed83ee490585d5ea04f99d4e26",
       "version_major": 2,
       "version_minor": 0
      },
      "text/plain": [
       "  0%|          | 0/16 [00:00<?, ?it/s]"
      ]
     },
     "metadata": {},
     "output_type": "display_data"
    },
    {
     "name": "stdout",
     "output_type": "stream",
     "text": [
      "[TradeInstruction.to_dicts]\n",
      "[TradeInstruction.to_dicts]\n",
      "[TradeInstruction.to_dicts]\n",
      "[TradeInstruction.to_dicts]\n",
      "[TradeInstruction.to_dicts]\n",
      "[TradeInstruction.to_dicts]\n",
      "[TradeInstruction.to_dicts]\n",
      "[TradeInstruction.to_dicts]\n",
      "[TradeInstruction.to_dicts]\n",
      "[TradeInstruction.to_dicts]\n",
      "[TradeInstruction.to_dicts]\n",
      "[TradeInstruction.to_dicts]\n",
      "[TradeInstruction.to_dicts]\n",
      "[TradeInstruction.to_dicts]\n",
      "[TradeInstruction.to_dicts]\n",
      "[TradeInstruction.to_dicts]\n"
     ]
    },
    {
     "data": {
      "application/vnd.jupyter.widget-view+json": {
       "model_id": "bb27877a22824ee49dc170cec04ec406",
       "version_major": 2,
       "version_minor": 0
      },
      "text/plain": [
       "  0%|          | 0/1 [00:00<?, ?it/s]"
      ]
     },
     "metadata": {},
     "output_type": "display_data"
    },
    {
     "name": "stdout",
     "output_type": "stream",
     "text": [
      "[TradeInstruction.to_dicts]\n"
     ]
    },
    {
     "data": {
      "application/vnd.jupyter.widget-view+json": {
       "model_id": "696eaeadbd1847a497cde2048e5560dc",
       "version_major": 2,
       "version_minor": 0
      },
      "text/plain": [
       "0it [00:00, ?it/s]"
      ]
     },
     "metadata": {},
     "output_type": "display_data"
    },
    {
     "data": {
      "application/vnd.jupyter.widget-view+json": {
       "model_id": "7ef0498dce0c4a9786a0cc03ad80adc0",
       "version_major": 2,
       "version_minor": 0
      },
      "text/plain": [
       "0it [00:00, ?it/s]"
      ]
     },
     "metadata": {},
     "output_type": "display_data"
    },
    {
     "data": {
      "application/vnd.jupyter.widget-view+json": {
       "model_id": "2364822eaf2a476f826e15517c9d722a",
       "version_major": 2,
       "version_minor": 0
      },
      "text/plain": [
       "0it [00:00, ?it/s]"
      ]
     },
     "metadata": {},
     "output_type": "display_data"
    },
    {
     "data": {
      "application/vnd.jupyter.widget-view+json": {
       "model_id": "9b047bc08f8a45038d708906560cc280",
       "version_major": 2,
       "version_minor": 0
      },
      "text/plain": [
       "0it [00:00, ?it/s]"
      ]
     },
     "metadata": {},
     "output_type": "display_data"
    },
    {
     "data": {
      "application/vnd.jupyter.widget-view+json": {
       "model_id": "7a2eed1c569647f8966207f9e06d6219",
       "version_major": 2,
       "version_minor": 0
      },
      "text/plain": [
       "0it [00:00, ?it/s]"
      ]
     },
     "metadata": {},
     "output_type": "display_data"
    },
    {
     "data": {
      "application/vnd.jupyter.widget-view+json": {
       "model_id": "ad2a307f29e2437fbcdc1961298329fd",
       "version_major": 2,
       "version_minor": 0
      },
      "text/plain": [
       "0it [00:00, ?it/s]"
      ]
     },
     "metadata": {},
     "output_type": "display_data"
    },
    {
     "data": {
      "application/vnd.jupyter.widget-view+json": {
       "model_id": "d36e33b84a8f4f0c8c841e4ce009bff2",
       "version_major": 2,
       "version_minor": 0
      },
      "text/plain": [
       "0it [00:00, ?it/s]"
      ]
     },
     "metadata": {},
     "output_type": "display_data"
    },
    {
     "data": {
      "application/vnd.jupyter.widget-view+json": {
       "model_id": "e5167e998eb748039edd01d59a710c8b",
       "version_major": 2,
       "version_minor": 0
      },
      "text/plain": [
       "  0%|          | 0/2 [00:00<?, ?it/s]"
      ]
     },
     "metadata": {},
     "output_type": "display_data"
    },
    {
     "name": "stdout",
     "output_type": "stream",
     "text": [
      "[TradeInstruction.to_dicts]\n",
      "[TradeInstruction.to_dicts]\n"
     ]
    },
    {
     "data": {
      "application/vnd.jupyter.widget-view+json": {
       "model_id": "e29cf24055594f218d5d38ac1dc86cab",
       "version_major": 2,
       "version_minor": 0
      },
      "text/plain": [
       "0it [00:00, ?it/s]"
      ]
     },
     "metadata": {},
     "output_type": "display_data"
    },
    {
     "data": {
      "application/vnd.jupyter.widget-view+json": {
       "model_id": "73710b99f7dc4fc199a00f6e9a3a5021",
       "version_major": 2,
       "version_minor": 0
      },
      "text/plain": [
       "0it [00:00, ?it/s]"
      ]
     },
     "metadata": {},
     "output_type": "display_data"
    },
    {
     "data": {
      "application/vnd.jupyter.widget-view+json": {
       "model_id": "d3831d525ed048049c35d27869516bea",
       "version_major": 2,
       "version_minor": 0
      },
      "text/plain": [
       "0it [00:00, ?it/s]"
      ]
     },
     "metadata": {},
     "output_type": "display_data"
    },
    {
     "data": {
      "application/vnd.jupyter.widget-view+json": {
       "model_id": "54846346a6684e7ea79cea06ed0da869",
       "version_major": 2,
       "version_minor": 0
      },
      "text/plain": [
       "0it [00:00, ?it/s]"
      ]
     },
     "metadata": {},
     "output_type": "display_data"
    },
    {
     "data": {
      "application/vnd.jupyter.widget-view+json": {
       "model_id": "dd059bd98ecd4d0ab71cf0882a03e055",
       "version_major": 2,
       "version_minor": 0
      },
      "text/plain": [
       "0it [00:00, ?it/s]"
      ]
     },
     "metadata": {},
     "output_type": "display_data"
    },
    {
     "data": {
      "application/vnd.jupyter.widget-view+json": {
       "model_id": "1e6a48f2c08842b38f51b622c632ec06",
       "version_major": 2,
       "version_minor": 0
      },
      "text/plain": [
       "  0%|          | 0/2 [00:00<?, ?it/s]"
      ]
     },
     "metadata": {},
     "output_type": "display_data"
    },
    {
     "name": "stdout",
     "output_type": "stream",
     "text": [
      "[TradeInstruction.to_dicts]\n",
      "[TradeInstruction.to_dicts]\n"
     ]
    },
    {
     "data": {
      "application/vnd.jupyter.widget-view+json": {
       "model_id": "7ef707f1a45645d09300eb0a0d22ac1a",
       "version_major": 2,
       "version_minor": 0
      },
      "text/plain": [
       "0it [00:00, ?it/s]"
      ]
     },
     "metadata": {},
     "output_type": "display_data"
    },
    {
     "data": {
      "application/vnd.jupyter.widget-view+json": {
       "model_id": "26395fc261a040a1b37f0db374ac1fa4",
       "version_major": 2,
       "version_minor": 0
      },
      "text/plain": [
       "0it [00:00, ?it/s]"
      ]
     },
     "metadata": {},
     "output_type": "display_data"
    },
    {
     "data": {
      "application/vnd.jupyter.widget-view+json": {
       "model_id": "8a9f2896ce634d038b95d05cb56cef2e",
       "version_major": 2,
       "version_minor": 0
      },
      "text/plain": [
       "  0%|          | 0/1 [00:00<?, ?it/s]"
      ]
     },
     "metadata": {},
     "output_type": "display_data"
    },
    {
     "name": "stdout",
     "output_type": "stream",
     "text": [
      "[TradeInstruction.to_dicts]\n"
     ]
    },
    {
     "data": {
      "application/vnd.jupyter.widget-view+json": {
       "model_id": "98504bac4dcc46418be70f8c3e847753",
       "version_major": 2,
       "version_minor": 0
      },
      "text/plain": [
       "  0%|          | 0/54 [00:00<?, ?it/s]"
      ]
     },
     "metadata": {},
     "output_type": "display_data"
    },
    {
     "name": "stdout",
     "output_type": "stream",
     "text": [
      "[TradeInstruction.to_dicts]\n",
      "[TradeInstruction.to_dicts]\n",
      "[TradeInstruction.to_dicts]\n",
      "[TradeInstruction.to_dicts]\n",
      "[TradeInstruction.to_dicts]\n",
      "[TradeInstruction.to_dicts]\n",
      "[TradeInstruction.to_dicts]\n",
      "[TradeInstruction.to_dicts]\n",
      "[TradeInstruction.to_dicts]\n",
      "[TradeInstruction.to_dicts]\n",
      "[TradeInstruction.to_dicts]\n",
      "[TradeInstruction.to_dicts]\n",
      "[TradeInstruction.to_dicts]\n",
      "[TradeInstruction.to_dicts]\n",
      "[TradeInstruction.to_dicts]\n",
      "[TradeInstruction.to_dicts]\n",
      "[TradeInstruction.to_dicts]\n",
      "[TradeInstruction.to_dicts]\n",
      "[TradeInstruction.to_dicts]\n",
      "[TradeInstruction.to_dicts]\n",
      "[TradeInstruction.to_dicts]\n",
      "[TradeInstruction.to_dicts]\n",
      "[TradeInstruction.to_dicts]\n",
      "[TradeInstruction.to_dicts]\n",
      "[TradeInstruction.to_dicts]\n",
      "[TradeInstruction.to_dicts]\n",
      "[TradeInstruction.to_dicts]\n",
      "[TradeInstruction.to_dicts]\n",
      "[TradeInstruction.to_dicts]\n",
      "[TradeInstruction.to_dicts]\n",
      "[TradeInstruction.to_dicts]\n",
      "[TradeInstruction.to_dicts]\n",
      "[TradeInstruction.to_dicts]\n",
      "[TradeInstruction.to_dicts]\n",
      "[TradeInstruction.to_dicts]\n",
      "[TradeInstruction.to_dicts]\n",
      "[TradeInstruction.to_dicts]\n",
      "[TradeInstruction.to_dicts]\n",
      "[TradeInstruction.to_dicts]\n",
      "[TradeInstruction.to_dicts]\n",
      "[TradeInstruction.to_dicts]\n",
      "[TradeInstruction.to_dicts]\n",
      "[TradeInstruction.to_dicts]\n",
      "[TradeInstruction.to_dicts]\n",
      "[TradeInstruction.to_dicts]\n",
      "[TradeInstruction.to_dicts]\n",
      "[TradeInstruction.to_dicts]\n",
      "[TradeInstruction.to_dicts]\n",
      "[TradeInstruction.to_dicts]\n",
      "[TradeInstruction.to_dicts]\n",
      "[TradeInstruction.to_dicts]\n",
      "[TradeInstruction.to_dicts]\n",
      "[TradeInstruction.to_dicts]\n",
      "[TradeInstruction.to_dicts]\n"
     ]
    },
    {
     "data": {
      "application/vnd.jupyter.widget-view+json": {
       "model_id": "1f46c660c13343ff94ec14c4fdeaf39d",
       "version_major": 2,
       "version_minor": 0
      },
      "text/plain": [
       "  0%|          | 0/16 [00:00<?, ?it/s]"
      ]
     },
     "metadata": {},
     "output_type": "display_data"
    },
    {
     "name": "stdout",
     "output_type": "stream",
     "text": [
      "[TradeInstruction.to_dicts]\n",
      "[TradeInstruction.to_dicts]\n",
      "[TradeInstruction.to_dicts]\n",
      "[TradeInstruction.to_dicts]\n",
      "[TradeInstruction.to_dicts]\n",
      "[TradeInstruction.to_dicts]\n",
      "[TradeInstruction.to_dicts]\n",
      "[TradeInstruction.to_dicts]\n",
      "[TradeInstruction.to_dicts]\n",
      "[TradeInstruction.to_dicts]\n",
      "[TradeInstruction.to_dicts]\n",
      "[TradeInstruction.to_dicts]\n",
      "[TradeInstruction.to_dicts]\n",
      "[TradeInstruction.to_dicts]\n",
      "[TradeInstruction.to_dicts]\n",
      "[TradeInstruction.to_dicts]\n"
     ]
    },
    {
     "data": {
      "application/vnd.jupyter.widget-view+json": {
       "model_id": "7b381c42d9684f84a561962920bd40a4",
       "version_major": 2,
       "version_minor": 0
      },
      "text/plain": [
       "  0%|          | 0/39 [00:00<?, ?it/s]"
      ]
     },
     "metadata": {},
     "output_type": "display_data"
    },
    {
     "name": "stdout",
     "output_type": "stream",
     "text": [
      "[TradeInstruction.to_dicts]\n",
      "[TradeInstruction.to_dicts]\n",
      "[TradeInstruction.to_dicts]\n",
      "[TradeInstruction.to_dicts]\n",
      "[TradeInstruction.to_dicts]\n",
      "[TradeInstruction.to_dicts]\n",
      "[TradeInstruction.to_dicts]\n",
      "[TradeInstruction.to_dicts]\n",
      "[TradeInstruction.to_dicts]\n",
      "[TradeInstruction.to_dicts]\n",
      "[TradeInstruction.to_dicts]\n",
      "[TradeInstruction.to_dicts]\n",
      "[TradeInstruction.to_dicts]\n",
      "[TradeInstruction.to_dicts]\n",
      "[TradeInstruction.to_dicts]\n",
      "[TradeInstruction.to_dicts]\n",
      "[TradeInstruction.to_dicts]\n",
      "[TradeInstruction.to_dicts]\n",
      "[TradeInstruction.to_dicts]\n",
      "[TradeInstruction.to_dicts]\n",
      "[TradeInstruction.to_dicts]\n",
      "[TradeInstruction.to_dicts]\n",
      "[TradeInstruction.to_dicts]\n",
      "[TradeInstruction.to_dicts]\n",
      "[TradeInstruction.to_dicts]\n",
      "[TradeInstruction.to_dicts]\n",
      "[TradeInstruction.to_dicts]\n",
      "[TradeInstruction.to_dicts]\n",
      "[TradeInstruction.to_dicts]\n",
      "[TradeInstruction.to_dicts]\n",
      "[TradeInstruction.to_dicts]\n",
      "[TradeInstruction.to_dicts]\n",
      "[TradeInstruction.to_dicts]\n",
      "[TradeInstruction.to_dicts]\n",
      "[TradeInstruction.to_dicts]\n",
      "[TradeInstruction.to_dicts]\n",
      "[TradeInstruction.to_dicts]\n",
      "[TradeInstruction.to_dicts]\n",
      "[TradeInstruction.to_dicts]\n"
     ]
    },
    {
     "data": {
      "application/vnd.jupyter.widget-view+json": {
       "model_id": "9dc3ebd3b4aa4a22ae799f37531bd7cd",
       "version_major": 2,
       "version_minor": 0
      },
      "text/plain": [
       "  0%|          | 0/18 [00:00<?, ?it/s]"
      ]
     },
     "metadata": {},
     "output_type": "display_data"
    },
    {
     "name": "stdout",
     "output_type": "stream",
     "text": [
      "[TradeInstruction.to_dicts]\n",
      "[TradeInstruction.to_dicts]\n",
      "[TradeInstruction.to_dicts]\n",
      "[TradeInstruction.to_dicts]\n",
      "[TradeInstruction.to_dicts]\n",
      "[TradeInstruction.to_dicts]\n",
      "[TradeInstruction.to_dicts]\n",
      "[TradeInstruction.to_dicts]\n",
      "[TradeInstruction.to_dicts]\n",
      "[TradeInstruction.to_dicts]\n",
      "[TradeInstruction.to_dicts]\n",
      "[TradeInstruction.to_dicts]\n",
      "[TradeInstruction.to_dicts]\n",
      "[TradeInstruction.to_dicts]\n",
      "[TradeInstruction.to_dicts]\n",
      "[TradeInstruction.to_dicts]\n",
      "[TradeInstruction.to_dicts]\n",
      "[TradeInstruction.to_dicts]\n"
     ]
    },
    {
     "data": {
      "application/vnd.jupyter.widget-view+json": {
       "model_id": "f2ad78581e9e4adb90f667242705b905",
       "version_major": 2,
       "version_minor": 0
      },
      "text/plain": [
       "  0%|          | 0/4 [00:00<?, ?it/s]"
      ]
     },
     "metadata": {},
     "output_type": "display_data"
    },
    {
     "name": "stdout",
     "output_type": "stream",
     "text": [
      "[TradeInstruction.to_dicts]\n",
      "[TradeInstruction.to_dicts]\n",
      "[TradeInstruction.to_dicts]\n",
      "[TradeInstruction.to_dicts]\n"
     ]
    },
    {
     "data": {
      "application/vnd.jupyter.widget-view+json": {
       "model_id": "a71a05baf50e49099c30b8b1f31d6396",
       "version_major": 2,
       "version_minor": 0
      },
      "text/plain": [
       "0it [00:00, ?it/s]"
      ]
     },
     "metadata": {},
     "output_type": "display_data"
    },
    {
     "data": {
      "application/vnd.jupyter.widget-view+json": {
       "model_id": "bb5cf0d655774826b9ce2f651d8ce97d",
       "version_major": 2,
       "version_minor": 0
      },
      "text/plain": [
       "0it [00:00, ?it/s]"
      ]
     },
     "metadata": {},
     "output_type": "display_data"
    },
    {
     "data": {
      "application/vnd.jupyter.widget-view+json": {
       "model_id": "55e20e02db544862b31135debd87f782",
       "version_major": 2,
       "version_minor": 0
      },
      "text/plain": [
       "0it [00:00, ?it/s]"
      ]
     },
     "metadata": {},
     "output_type": "display_data"
    },
    {
     "data": {
      "application/vnd.jupyter.widget-view+json": {
       "model_id": "e5c9394b8e1243fa938fa0bbdfe83625",
       "version_major": 2,
       "version_minor": 0
      },
      "text/plain": [
       "0it [00:00, ?it/s]"
      ]
     },
     "metadata": {},
     "output_type": "display_data"
    },
    {
     "data": {
      "application/vnd.jupyter.widget-view+json": {
       "model_id": "6b2227716c5b41edb0ffd01513e13ac7",
       "version_major": 2,
       "version_minor": 0
      },
      "text/plain": [
       "0it [00:00, ?it/s]"
      ]
     },
     "metadata": {},
     "output_type": "display_data"
    },
    {
     "data": {
      "application/vnd.jupyter.widget-view+json": {
       "model_id": "ced9b924d43b4c63b10be43f0870c809",
       "version_major": 2,
       "version_minor": 0
      },
      "text/plain": [
       "0it [00:00, ?it/s]"
      ]
     },
     "metadata": {},
     "output_type": "display_data"
    },
    {
     "data": {
      "application/vnd.jupyter.widget-view+json": {
       "model_id": "6b17ed2c708f4d13893934afe5f2cb63",
       "version_major": 2,
       "version_minor": 0
      },
      "text/plain": [
       "  0%|          | 0/10 [00:00<?, ?it/s]"
      ]
     },
     "metadata": {},
     "output_type": "display_data"
    },
    {
     "name": "stdout",
     "output_type": "stream",
     "text": [
      "[TradeInstruction.to_dicts]\n",
      "[TradeInstruction.to_dicts]\n",
      "[TradeInstruction.to_dicts]\n",
      "[TradeInstruction.to_dicts]\n",
      "[TradeInstruction.to_dicts]\n",
      "[TradeInstruction.to_dicts]\n",
      "[TradeInstruction.to_dicts]\n",
      "[TradeInstruction.to_dicts]\n",
      "[TradeInstruction.to_dicts]\n",
      "[TradeInstruction.to_dicts]\n"
     ]
    },
    {
     "data": {
      "application/vnd.jupyter.widget-view+json": {
       "model_id": "92e40c07b39e474b978e1460e18ed275",
       "version_major": 2,
       "version_minor": 0
      },
      "text/plain": [
       "  0%|          | 0/1 [00:00<?, ?it/s]"
      ]
     },
     "metadata": {},
     "output_type": "display_data"
    },
    {
     "name": "stdout",
     "output_type": "stream",
     "text": [
      "[TradeInstruction.to_dicts]\n"
     ]
    },
    {
     "data": {
      "application/vnd.jupyter.widget-view+json": {
       "model_id": "10cfe2ddb52c4956bd566811aed7efb5",
       "version_major": 2,
       "version_minor": 0
      },
      "text/plain": [
       "  0%|          | 0/39 [00:00<?, ?it/s]"
      ]
     },
     "metadata": {},
     "output_type": "display_data"
    },
    {
     "name": "stdout",
     "output_type": "stream",
     "text": [
      "[TradeInstruction.to_dicts]\n",
      "[TradeInstruction.to_dicts]\n",
      "[TradeInstruction.to_dicts]\n",
      "[TradeInstruction.to_dicts]\n",
      "[TradeInstruction.to_dicts]\n",
      "[TradeInstruction.to_dicts]\n",
      "[TradeInstruction.to_dicts]\n",
      "[TradeInstruction.to_dicts]\n",
      "[TradeInstruction.to_dicts]\n",
      "[TradeInstruction.to_dicts]\n",
      "[TradeInstruction.to_dicts]\n",
      "[TradeInstruction.to_dicts]\n",
      "[TradeInstruction.to_dicts]\n",
      "[TradeInstruction.to_dicts]\n",
      "[TradeInstruction.to_dicts]\n",
      "[TradeInstruction.to_dicts]\n",
      "[TradeInstruction.to_dicts]\n",
      "[TradeInstruction.to_dicts]\n",
      "[TradeInstruction.to_dicts]\n",
      "[TradeInstruction.to_dicts]\n",
      "[TradeInstruction.to_dicts]\n",
      "[TradeInstruction.to_dicts]\n",
      "[TradeInstruction.to_dicts]\n",
      "[TradeInstruction.to_dicts]\n",
      "[TradeInstruction.to_dicts]\n",
      "[TradeInstruction.to_dicts]\n",
      "[TradeInstruction.to_dicts]\n",
      "[TradeInstruction.to_dicts]\n",
      "[TradeInstruction.to_dicts]\n",
      "[TradeInstruction.to_dicts]\n",
      "[TradeInstruction.to_dicts]\n",
      "[TradeInstruction.to_dicts]\n",
      "[TradeInstruction.to_dicts]\n",
      "[TradeInstruction.to_dicts]\n",
      "[TradeInstruction.to_dicts]\n",
      "[TradeInstruction.to_dicts]\n",
      "[TradeInstruction.to_dicts]\n",
      "[TradeInstruction.to_dicts]\n",
      "[TradeInstruction.to_dicts]\n"
     ]
    },
    {
     "data": {
      "application/vnd.jupyter.widget-view+json": {
       "model_id": "9e96de62a39d447ab073d9a24321764f",
       "version_major": 2,
       "version_minor": 0
      },
      "text/plain": [
       "  0%|          | 0/4 [00:00<?, ?it/s]"
      ]
     },
     "metadata": {},
     "output_type": "display_data"
    },
    {
     "name": "stdout",
     "output_type": "stream",
     "text": [
      "[TradeInstruction.to_dicts]\n",
      "[TradeInstruction.to_dicts]\n",
      "[TradeInstruction.to_dicts]\n",
      "[TradeInstruction.to_dicts]\n"
     ]
    },
    {
     "data": {
      "application/vnd.jupyter.widget-view+json": {
       "model_id": "35bf54266be449d4bfa344629411aa40",
       "version_major": 2,
       "version_minor": 0
      },
      "text/plain": [
       "0it [00:00, ?it/s]"
      ]
     },
     "metadata": {},
     "output_type": "display_data"
    },
    {
     "data": {
      "application/vnd.jupyter.widget-view+json": {
       "model_id": "d61f79d7af0e4cd79520ab9866944e19",
       "version_major": 2,
       "version_minor": 0
      },
      "text/plain": [
       "0it [00:00, ?it/s]"
      ]
     },
     "metadata": {},
     "output_type": "display_data"
    },
    {
     "data": {
      "application/vnd.jupyter.widget-view+json": {
       "model_id": "a2ef59be09a34575ae568a18d3af4c08",
       "version_major": 2,
       "version_minor": 0
      },
      "text/plain": [
       "0it [00:00, ?it/s]"
      ]
     },
     "metadata": {},
     "output_type": "display_data"
    },
    {
     "data": {
      "application/vnd.jupyter.widget-view+json": {
       "model_id": "18d03f2d744d4f04a51c1314c8fea625",
       "version_major": 2,
       "version_minor": 0
      },
      "text/plain": [
       "  0%|          | 0/4 [00:00<?, ?it/s]"
      ]
     },
     "metadata": {},
     "output_type": "display_data"
    },
    {
     "name": "stdout",
     "output_type": "stream",
     "text": [
      "[TradeInstruction.to_dicts]\n",
      "[TradeInstruction.to_dicts]\n",
      "[TradeInstruction.to_dicts]\n",
      "[TradeInstruction.to_dicts]\n"
     ]
    },
    {
     "data": {
      "application/vnd.jupyter.widget-view+json": {
       "model_id": "e23f15261c04457c9779a7fce67c48c3",
       "version_major": 2,
       "version_minor": 0
      },
      "text/plain": [
       "0it [00:00, ?it/s]"
      ]
     },
     "metadata": {},
     "output_type": "display_data"
    },
    {
     "data": {
      "application/vnd.jupyter.widget-view+json": {
       "model_id": "411275bb162b410391f22a6f08d4b452",
       "version_major": 2,
       "version_minor": 0
      },
      "text/plain": [
       "0it [00:00, ?it/s]"
      ]
     },
     "metadata": {},
     "output_type": "display_data"
    },
    {
     "data": {
      "application/vnd.jupyter.widget-view+json": {
       "model_id": "370e5007ab7447d3b123ca1342f072cb",
       "version_major": 2,
       "version_minor": 0
      },
      "text/plain": [
       "0it [00:00, ?it/s]"
      ]
     },
     "metadata": {},
     "output_type": "display_data"
    },
    {
     "data": {
      "application/vnd.jupyter.widget-view+json": {
       "model_id": "8dd3bce70f9840ecbe176e132a29e885",
       "version_major": 2,
       "version_minor": 0
      },
      "text/plain": [
       "  0%|          | 0/2 [00:00<?, ?it/s]"
      ]
     },
     "metadata": {},
     "output_type": "display_data"
    },
    {
     "name": "stdout",
     "output_type": "stream",
     "text": [
      "[TradeInstruction.to_dicts]\n",
      "[TradeInstruction.to_dicts]\n"
     ]
    },
    {
     "data": {
      "application/vnd.jupyter.widget-view+json": {
       "model_id": "78cf9bb1c7b94aaf8f08b7a096ded7d7",
       "version_major": 2,
       "version_minor": 0
      },
      "text/plain": [
       "  0%|          | 0/2 [00:00<?, ?it/s]"
      ]
     },
     "metadata": {},
     "output_type": "display_data"
    },
    {
     "name": "stdout",
     "output_type": "stream",
     "text": [
      "[TradeInstruction.to_dicts]\n",
      "[TradeInstruction.to_dicts]\n"
     ]
    },
    {
     "data": {
      "application/vnd.jupyter.widget-view+json": {
       "model_id": "30abcd910d6d4cee80216f519e481c25",
       "version_major": 2,
       "version_minor": 0
      },
      "text/plain": [
       "  0%|          | 0/10 [00:00<?, ?it/s]"
      ]
     },
     "metadata": {},
     "output_type": "display_data"
    },
    {
     "name": "stdout",
     "output_type": "stream",
     "text": [
      "[TradeInstruction.to_dicts]\n",
      "[TradeInstruction.to_dicts]\n",
      "[TradeInstruction.to_dicts]\n",
      "[TradeInstruction.to_dicts]\n",
      "[TradeInstruction.to_dicts]\n",
      "[TradeInstruction.to_dicts]\n",
      "[TradeInstruction.to_dicts]\n",
      "[TradeInstruction.to_dicts]\n",
      "[TradeInstruction.to_dicts]\n",
      "[TradeInstruction.to_dicts]\n"
     ]
    },
    {
     "data": {
      "application/vnd.jupyter.widget-view+json": {
       "model_id": "88612a1740b749ef8de4cbaa791d3947",
       "version_major": 2,
       "version_minor": 0
      },
      "text/plain": [
       "0it [00:00, ?it/s]"
      ]
     },
     "metadata": {},
     "output_type": "display_data"
    },
    {
     "data": {
      "application/vnd.jupyter.widget-view+json": {
       "model_id": "86ec09135224403dbc12c1e7e457b372",
       "version_major": 2,
       "version_minor": 0
      },
      "text/plain": [
       "0it [00:00, ?it/s]"
      ]
     },
     "metadata": {},
     "output_type": "display_data"
    },
    {
     "data": {
      "application/vnd.jupyter.widget-view+json": {
       "model_id": "75f5e51654b34c368dd4528a74ce5728",
       "version_major": 2,
       "version_minor": 0
      },
      "text/plain": [
       "0it [00:00, ?it/s]"
      ]
     },
     "metadata": {},
     "output_type": "display_data"
    },
    {
     "data": {
      "application/vnd.jupyter.widget-view+json": {
       "model_id": "6f28420f35c74874af0375c7a71dc759",
       "version_major": 2,
       "version_minor": 0
      },
      "text/plain": [
       "0it [00:00, ?it/s]"
      ]
     },
     "metadata": {},
     "output_type": "display_data"
    },
    {
     "data": {
      "application/vnd.jupyter.widget-view+json": {
       "model_id": "7f825db004e24bfabcf692defdc145ca",
       "version_major": 2,
       "version_minor": 0
      },
      "text/plain": [
       "  0%|          | 0/6 [00:00<?, ?it/s]"
      ]
     },
     "metadata": {},
     "output_type": "display_data"
    },
    {
     "name": "stdout",
     "output_type": "stream",
     "text": [
      "[TradeInstruction.to_dicts]\n",
      "[TradeInstruction.to_dicts]\n",
      "[TradeInstruction.to_dicts]\n",
      "[TradeInstruction.to_dicts]\n",
      "[TradeInstruction.to_dicts]\n",
      "[TradeInstruction.to_dicts]\n"
     ]
    },
    {
     "data": {
      "application/vnd.jupyter.widget-view+json": {
       "model_id": "831126d5585d4e79829587c72b9e9769",
       "version_major": 2,
       "version_minor": 0
      },
      "text/plain": [
       "  0%|          | 0/4 [00:00<?, ?it/s]"
      ]
     },
     "metadata": {},
     "output_type": "display_data"
    },
    {
     "name": "stdout",
     "output_type": "stream",
     "text": [
      "[TradeInstruction.to_dicts]\n",
      "[TradeInstruction.to_dicts]\n",
      "[TradeInstruction.to_dicts]\n",
      "[TradeInstruction.to_dicts]\n"
     ]
    },
    {
     "data": {
      "application/vnd.jupyter.widget-view+json": {
       "model_id": "d863a56bfa474472b31867f841dd5a4e",
       "version_major": 2,
       "version_minor": 0
      },
      "text/plain": [
       "0it [00:00, ?it/s]"
      ]
     },
     "metadata": {},
     "output_type": "display_data"
    },
    {
     "data": {
      "application/vnd.jupyter.widget-view+json": {
       "model_id": "e85818af067b47859a22e117760e99ed",
       "version_major": 2,
       "version_minor": 0
      },
      "text/plain": [
       "  0%|          | 0/1 [00:00<?, ?it/s]"
      ]
     },
     "metadata": {},
     "output_type": "display_data"
    },
    {
     "name": "stdout",
     "output_type": "stream",
     "text": [
      "[TradeInstruction.to_dicts]\n"
     ]
    },
    {
     "data": {
      "application/vnd.jupyter.widget-view+json": {
       "model_id": "a606f9ca9bd949da84c29c29cd58b0b7",
       "version_major": 2,
       "version_minor": 0
      },
      "text/plain": [
       "0it [00:00, ?it/s]"
      ]
     },
     "metadata": {},
     "output_type": "display_data"
    },
    {
     "data": {
      "application/vnd.jupyter.widget-view+json": {
       "model_id": "07c73f25b9ff419db56cd09ab6ace641",
       "version_major": 2,
       "version_minor": 0
      },
      "text/plain": [
       "0it [00:00, ?it/s]"
      ]
     },
     "metadata": {},
     "output_type": "display_data"
    },
    {
     "data": {
      "application/vnd.jupyter.widget-view+json": {
       "model_id": "e32d535cc821486f8debb1114c7cfcce",
       "version_major": 2,
       "version_minor": 0
      },
      "text/plain": [
       "  0%|          | 0/4 [00:00<?, ?it/s]"
      ]
     },
     "metadata": {},
     "output_type": "display_data"
    },
    {
     "name": "stdout",
     "output_type": "stream",
     "text": [
      "[TradeInstruction.to_dicts]\n",
      "[TradeInstruction.to_dicts]\n",
      "[TradeInstruction.to_dicts]\n",
      "[TradeInstruction.to_dicts]\n"
     ]
    },
    {
     "data": {
      "application/vnd.jupyter.widget-view+json": {
       "model_id": "01d346ff80844163a9abdf49ec66353e",
       "version_major": 2,
       "version_minor": 0
      },
      "text/plain": [
       "  0%|          | 0/18 [00:00<?, ?it/s]"
      ]
     },
     "metadata": {},
     "output_type": "display_data"
    },
    {
     "name": "stdout",
     "output_type": "stream",
     "text": [
      "[TradeInstruction.to_dicts]\n",
      "[TradeInstruction.to_dicts]\n",
      "[TradeInstruction.to_dicts]\n",
      "[TradeInstruction.to_dicts]\n",
      "[TradeInstruction.to_dicts]\n",
      "[TradeInstruction.to_dicts]\n",
      "[TradeInstruction.to_dicts]\n",
      "[TradeInstruction.to_dicts]\n",
      "[TradeInstruction.to_dicts]\n",
      "[TradeInstruction.to_dicts]\n",
      "[TradeInstruction.to_dicts]\n",
      "[TradeInstruction.to_dicts]\n",
      "[TradeInstruction.to_dicts]\n",
      "[TradeInstruction.to_dicts]\n",
      "[TradeInstruction.to_dicts]\n",
      "[TradeInstruction.to_dicts]\n",
      "[TradeInstruction.to_dicts]\n",
      "[TradeInstruction.to_dicts]\n"
     ]
    },
    {
     "data": {
      "application/vnd.jupyter.widget-view+json": {
       "model_id": "dee13f56129e4b47be52f5bf3d96f252",
       "version_major": 2,
       "version_minor": 0
      },
      "text/plain": [
       "  0%|          | 0/4 [00:00<?, ?it/s]"
      ]
     },
     "metadata": {},
     "output_type": "display_data"
    },
    {
     "name": "stdout",
     "output_type": "stream",
     "text": [
      "[TradeInstruction.to_dicts]\n",
      "[TradeInstruction.to_dicts]\n",
      "[TradeInstruction.to_dicts]\n",
      "[TradeInstruction.to_dicts]\n"
     ]
    },
    {
     "data": {
      "application/vnd.jupyter.widget-view+json": {
       "model_id": "fbbb07562d814840b21c3bd5f5bb9bb5",
       "version_major": 2,
       "version_minor": 0
      },
      "text/plain": [
       "0it [00:00, ?it/s]"
      ]
     },
     "metadata": {},
     "output_type": "display_data"
    },
    {
     "data": {
      "application/vnd.jupyter.widget-view+json": {
       "model_id": "d63a1592c696472ea2141af18ee1d8c8",
       "version_major": 2,
       "version_minor": 0
      },
      "text/plain": [
       "0it [00:00, ?it/s]"
      ]
     },
     "metadata": {},
     "output_type": "display_data"
    },
    {
     "data": {
      "application/vnd.jupyter.widget-view+json": {
       "model_id": "0c08e0a251a346a3830ddf223792562b",
       "version_major": 2,
       "version_minor": 0
      },
      "text/plain": [
       "0it [00:00, ?it/s]"
      ]
     },
     "metadata": {},
     "output_type": "display_data"
    },
    {
     "data": {
      "application/vnd.jupyter.widget-view+json": {
       "model_id": "eefb9e171a9049a28a0f95a884c9b474",
       "version_major": 2,
       "version_minor": 0
      },
      "text/plain": [
       "0it [00:00, ?it/s]"
      ]
     },
     "metadata": {},
     "output_type": "display_data"
    },
    {
     "data": {
      "application/vnd.jupyter.widget-view+json": {
       "model_id": "433e540009d64ec88975528faa482611",
       "version_major": 2,
       "version_minor": 0
      },
      "text/plain": [
       "0it [00:00, ?it/s]"
      ]
     },
     "metadata": {},
     "output_type": "display_data"
    },
    {
     "data": {
      "application/vnd.jupyter.widget-view+json": {
       "model_id": "ad6e13782b12453db394141049eb3ecb",
       "version_major": 2,
       "version_minor": 0
      },
      "text/plain": [
       "0it [00:00, ?it/s]"
      ]
     },
     "metadata": {},
     "output_type": "display_data"
    },
    {
     "data": {
      "application/vnd.jupyter.widget-view+json": {
       "model_id": "5ba9649579064fa5b15b7a3fbf9d5e98",
       "version_major": 2,
       "version_minor": 0
      },
      "text/plain": [
       "0it [00:00, ?it/s]"
      ]
     },
     "metadata": {},
     "output_type": "display_data"
    },
    {
     "data": {
      "application/vnd.jupyter.widget-view+json": {
       "model_id": "61c503bdd160450ab913af69426ccc4c",
       "version_major": 2,
       "version_minor": 0
      },
      "text/plain": [
       "0it [00:00, ?it/s]"
      ]
     },
     "metadata": {},
     "output_type": "display_data"
    },
    {
     "data": {
      "application/vnd.jupyter.widget-view+json": {
       "model_id": "7524561fc2b2454a923884957a93d935",
       "version_major": 2,
       "version_minor": 0
      },
      "text/plain": [
       "0it [00:00, ?it/s]"
      ]
     },
     "metadata": {},
     "output_type": "display_data"
    },
    {
     "data": {
      "application/vnd.jupyter.widget-view+json": {
       "model_id": "00d084b913f24bde820b9511f8987356",
       "version_major": 2,
       "version_minor": 0
      },
      "text/plain": [
       "  0%|          | 0/2 [00:00<?, ?it/s]"
      ]
     },
     "metadata": {},
     "output_type": "display_data"
    },
    {
     "name": "stdout",
     "output_type": "stream",
     "text": [
      "[TradeInstruction.to_dicts]\n",
      "[TradeInstruction.to_dicts]\n"
     ]
    },
    {
     "data": {
      "application/vnd.jupyter.widget-view+json": {
       "model_id": "6a7df8bc241a44ff835cf1157de910c5",
       "version_major": 2,
       "version_minor": 0
      },
      "text/plain": [
       "0it [00:00, ?it/s]"
      ]
     },
     "metadata": {},
     "output_type": "display_data"
    },
    {
     "data": {
      "application/vnd.jupyter.widget-view+json": {
       "model_id": "7f3d0f00bf664706b7ebb6d6f45293c6",
       "version_major": 2,
       "version_minor": 0
      },
      "text/plain": [
       "0it [00:00, ?it/s]"
      ]
     },
     "metadata": {},
     "output_type": "display_data"
    },
    {
     "data": {
      "application/vnd.jupyter.widget-view+json": {
       "model_id": "a39951e4dc4e47d0b2c133c01899df20",
       "version_major": 2,
       "version_minor": 0
      },
      "text/plain": [
       "0it [00:00, ?it/s]"
      ]
     },
     "metadata": {},
     "output_type": "display_data"
    },
    {
     "data": {
      "application/vnd.jupyter.widget-view+json": {
       "model_id": "8820bada68ca4cc9ab9383f28776363e",
       "version_major": 2,
       "version_minor": 0
      },
      "text/plain": [
       "  0%|          | 0/4 [00:00<?, ?it/s]"
      ]
     },
     "metadata": {},
     "output_type": "display_data"
    },
    {
     "name": "stdout",
     "output_type": "stream",
     "text": [
      "[TradeInstruction.to_dicts]\n",
      "[TradeInstruction.to_dicts]\n",
      "[TradeInstruction.to_dicts]\n",
      "[TradeInstruction.to_dicts]\n"
     ]
    },
    {
     "data": {
      "application/vnd.jupyter.widget-view+json": {
       "model_id": "77a3637ffddb477c8c11692b7d11f4eb",
       "version_major": 2,
       "version_minor": 0
      },
      "text/plain": [
       "0it [00:00, ?it/s]"
      ]
     },
     "metadata": {},
     "output_type": "display_data"
    },
    {
     "data": {
      "application/vnd.jupyter.widget-view+json": {
       "model_id": "f8e9d5f718264863bc5ddc81179686c0",
       "version_major": 2,
       "version_minor": 0
      },
      "text/plain": [
       "  0%|          | 0/16 [00:00<?, ?it/s]"
      ]
     },
     "metadata": {},
     "output_type": "display_data"
    },
    {
     "name": "stdout",
     "output_type": "stream",
     "text": [
      "[TradeInstruction.to_dicts]\n",
      "[TradeInstruction.to_dicts]\n",
      "[TradeInstruction.to_dicts]\n",
      "[TradeInstruction.to_dicts]\n",
      "[TradeInstruction.to_dicts]\n",
      "[TradeInstruction.to_dicts]\n",
      "[TradeInstruction.to_dicts]\n",
      "[TradeInstruction.to_dicts]\n",
      "[TradeInstruction.to_dicts]\n",
      "[TradeInstruction.to_dicts]\n",
      "[TradeInstruction.to_dicts]\n",
      "[TradeInstruction.to_dicts]\n",
      "[TradeInstruction.to_dicts]\n",
      "[TradeInstruction.to_dicts]\n",
      "[TradeInstruction.to_dicts]\n",
      "[TradeInstruction.to_dicts]\n"
     ]
    },
    {
     "data": {
      "application/vnd.jupyter.widget-view+json": {
       "model_id": "1599fcbf19c641d7abd2b05d92ef8af7",
       "version_major": 2,
       "version_minor": 0
      },
      "text/plain": [
       "  0%|          | 0/54 [00:00<?, ?it/s]"
      ]
     },
     "metadata": {},
     "output_type": "display_data"
    },
    {
     "name": "stdout",
     "output_type": "stream",
     "text": [
      "[TradeInstruction.to_dicts]\n",
      "[TradeInstruction.to_dicts]\n",
      "[TradeInstruction.to_dicts]\n",
      "[TradeInstruction.to_dicts]\n",
      "[TradeInstruction.to_dicts]\n",
      "[TradeInstruction.to_dicts]\n",
      "[TradeInstruction.to_dicts]\n",
      "[TradeInstruction.to_dicts]\n",
      "[TradeInstruction.to_dicts]\n",
      "[TradeInstruction.to_dicts]\n",
      "[TradeInstruction.to_dicts]\n",
      "[TradeInstruction.to_dicts]\n",
      "[TradeInstruction.to_dicts]\n",
      "[TradeInstruction.to_dicts]\n",
      "[TradeInstruction.to_dicts]\n",
      "[TradeInstruction.to_dicts]\n",
      "[TradeInstruction.to_dicts]\n",
      "[TradeInstruction.to_dicts]\n",
      "[TradeInstruction.to_dicts]\n",
      "[TradeInstruction.to_dicts]\n",
      "[TradeInstruction.to_dicts]\n",
      "[TradeInstruction.to_dicts]\n",
      "[TradeInstruction.to_dicts]\n",
      "[TradeInstruction.to_dicts]\n",
      "[TradeInstruction.to_dicts]\n",
      "[TradeInstruction.to_dicts]\n",
      "[TradeInstruction.to_dicts]\n",
      "[TradeInstruction.to_dicts]\n",
      "[TradeInstruction.to_dicts]\n",
      "[TradeInstruction.to_dicts]\n",
      "[TradeInstruction.to_dicts]\n",
      "[TradeInstruction.to_dicts]\n",
      "[TradeInstruction.to_dicts]\n",
      "[TradeInstruction.to_dicts]\n",
      "[TradeInstruction.to_dicts]\n",
      "[TradeInstruction.to_dicts]\n",
      "[TradeInstruction.to_dicts]\n",
      "[TradeInstruction.to_dicts]\n",
      "[TradeInstruction.to_dicts]\n",
      "[TradeInstruction.to_dicts]\n",
      "[TradeInstruction.to_dicts]\n",
      "[TradeInstruction.to_dicts]\n",
      "[TradeInstruction.to_dicts]\n",
      "[TradeInstruction.to_dicts]\n",
      "[TradeInstruction.to_dicts]\n",
      "[TradeInstruction.to_dicts]\n",
      "[TradeInstruction.to_dicts]\n",
      "[TradeInstruction.to_dicts]\n",
      "[TradeInstruction.to_dicts]\n",
      "[TradeInstruction.to_dicts]\n",
      "[TradeInstruction.to_dicts]\n",
      "[TradeInstruction.to_dicts]\n",
      "[TradeInstruction.to_dicts]\n",
      "[TradeInstruction.to_dicts]\n"
     ]
    },
    {
     "data": {
      "application/vnd.jupyter.widget-view+json": {
       "model_id": "2d87cf3779624dabab03131f6e20bae2",
       "version_major": 2,
       "version_minor": 0
      },
      "text/plain": [
       "  0%|          | 0/10 [00:00<?, ?it/s]"
      ]
     },
     "metadata": {},
     "output_type": "display_data"
    },
    {
     "name": "stdout",
     "output_type": "stream",
     "text": [
      "[TradeInstruction.to_dicts]\n",
      "[TradeInstruction.to_dicts]\n",
      "[TradeInstruction.to_dicts]\n",
      "[TradeInstruction.to_dicts]\n",
      "[TradeInstruction.to_dicts]\n",
      "[TradeInstruction.to_dicts]\n",
      "[TradeInstruction.to_dicts]\n",
      "[TradeInstruction.to_dicts]\n",
      "[TradeInstruction.to_dicts]\n",
      "[TradeInstruction.to_dicts]\n"
     ]
    },
    {
     "data": {
      "application/vnd.jupyter.widget-view+json": {
       "model_id": "899ac7ce801e4a5199769e6a73455524",
       "version_major": 2,
       "version_minor": 0
      },
      "text/plain": [
       "  0%|          | 0/4 [00:00<?, ?it/s]"
      ]
     },
     "metadata": {},
     "output_type": "display_data"
    },
    {
     "name": "stdout",
     "output_type": "stream",
     "text": [
      "[TradeInstruction.to_dicts]\n",
      "[TradeInstruction.to_dicts]\n",
      "[TradeInstruction.to_dicts]\n",
      "[TradeInstruction.to_dicts]\n"
     ]
    },
    {
     "data": {
      "application/vnd.jupyter.widget-view+json": {
       "model_id": "6d2e80f5fd9248d2bdaf8166ac254303",
       "version_major": 2,
       "version_minor": 0
      },
      "text/plain": [
       "  0%|          | 0/6 [00:00<?, ?it/s]"
      ]
     },
     "metadata": {},
     "output_type": "display_data"
    },
    {
     "name": "stdout",
     "output_type": "stream",
     "text": [
      "[TradeInstruction.to_dicts]\n",
      "[TradeInstruction.to_dicts]\n",
      "[TradeInstruction.to_dicts]\n",
      "[TradeInstruction.to_dicts]\n",
      "[TradeInstruction.to_dicts]\n",
      "[TradeInstruction.to_dicts]\n"
     ]
    },
    {
     "data": {
      "application/vnd.jupyter.widget-view+json": {
       "model_id": "360de8bf46194cf89a1fd99d7edf6c2e",
       "version_major": 2,
       "version_minor": 0
      },
      "text/plain": [
       "0it [00:00, ?it/s]"
      ]
     },
     "metadata": {},
     "output_type": "display_data"
    },
    {
     "data": {
      "application/vnd.jupyter.widget-view+json": {
       "model_id": "b0a60e88b4f04b5ab49a9c78cf7fa990",
       "version_major": 2,
       "version_minor": 0
      },
      "text/plain": [
       "0it [00:00, ?it/s]"
      ]
     },
     "metadata": {},
     "output_type": "display_data"
    },
    {
     "data": {
      "application/vnd.jupyter.widget-view+json": {
       "model_id": "227d90932d8c4729904dd74f307dca7c",
       "version_major": 2,
       "version_minor": 0
      },
      "text/plain": [
       "0it [00:00, ?it/s]"
      ]
     },
     "metadata": {},
     "output_type": "display_data"
    },
    {
     "data": {
      "application/vnd.jupyter.widget-view+json": {
       "model_id": "6e8ab1d05867483a81890e5846e2d0db",
       "version_major": 2,
       "version_minor": 0
      },
      "text/plain": [
       "0it [00:00, ?it/s]"
      ]
     },
     "metadata": {},
     "output_type": "display_data"
    },
    {
     "data": {
      "application/vnd.jupyter.widget-view+json": {
       "model_id": "2eb5fcdfcaaf4f4bb7d775fdfb077e2d",
       "version_major": 2,
       "version_minor": 0
      },
      "text/plain": [
       "  0%|          | 0/14 [00:00<?, ?it/s]"
      ]
     },
     "metadata": {},
     "output_type": "display_data"
    },
    {
     "name": "stdout",
     "output_type": "stream",
     "text": [
      "[TradeInstruction.to_dicts]\n",
      "[TradeInstruction.to_dicts]\n",
      "[TradeInstruction.to_dicts]\n",
      "[TradeInstruction.to_dicts]\n",
      "[TradeInstruction.to_dicts]\n",
      "[TradeInstruction.to_dicts]\n",
      "[TradeInstruction.to_dicts]\n",
      "[TradeInstruction.to_dicts]\n",
      "[TradeInstruction.to_dicts]\n",
      "[TradeInstruction.to_dicts]\n",
      "[TradeInstruction.to_dicts]\n",
      "[TradeInstruction.to_dicts]\n",
      "[TradeInstruction.to_dicts]\n",
      "[TradeInstruction.to_dicts]\n"
     ]
    },
    {
     "data": {
      "application/vnd.jupyter.widget-view+json": {
       "model_id": "4bdd7fed6e1245658eb98dfce39e2e3d",
       "version_major": 2,
       "version_minor": 0
      },
      "text/plain": [
       "0it [00:00, ?it/s]"
      ]
     },
     "metadata": {},
     "output_type": "display_data"
    },
    {
     "data": {
      "application/vnd.jupyter.widget-view+json": {
       "model_id": "d3fe1a9c229047558cf0b7939ef0cd4f",
       "version_major": 2,
       "version_minor": 0
      },
      "text/plain": [
       "  0%|          | 0/6 [00:00<?, ?it/s]"
      ]
     },
     "metadata": {},
     "output_type": "display_data"
    },
    {
     "name": "stdout",
     "output_type": "stream",
     "text": [
      "[TradeInstruction.to_dicts]\n",
      "[TradeInstruction.to_dicts]\n",
      "[TradeInstruction.to_dicts]\n",
      "[TradeInstruction.to_dicts]\n",
      "[TradeInstruction.to_dicts]\n",
      "[TradeInstruction.to_dicts]\n"
     ]
    },
    {
     "data": {
      "application/vnd.jupyter.widget-view+json": {
       "model_id": "713cb27fbad34c7e8da6056f6f143d59",
       "version_major": 2,
       "version_minor": 0
      },
      "text/plain": [
       "0it [00:00, ?it/s]"
      ]
     },
     "metadata": {},
     "output_type": "display_data"
    },
    {
     "data": {
      "application/vnd.jupyter.widget-view+json": {
       "model_id": "1be9dffc52d248f9aa86150597c05a5d",
       "version_major": 2,
       "version_minor": 0
      },
      "text/plain": [
       "0it [00:00, ?it/s]"
      ]
     },
     "metadata": {},
     "output_type": "display_data"
    },
    {
     "data": {
      "application/vnd.jupyter.widget-view+json": {
       "model_id": "942ca8818f794cd8a530b45e01b39c9f",
       "version_major": 2,
       "version_minor": 0
      },
      "text/plain": [
       "0it [00:00, ?it/s]"
      ]
     },
     "metadata": {},
     "output_type": "display_data"
    },
    {
     "data": {
      "application/vnd.jupyter.widget-view+json": {
       "model_id": "0d2c47f2860649e4895718f975a17da9",
       "version_major": 2,
       "version_minor": 0
      },
      "text/plain": [
       "0it [00:00, ?it/s]"
      ]
     },
     "metadata": {},
     "output_type": "display_data"
    },
    {
     "data": {
      "application/vnd.jupyter.widget-view+json": {
       "model_id": "124732923f06424b8d57f00e6086686f",
       "version_major": 2,
       "version_minor": 0
      },
      "text/plain": [
       "0it [00:00, ?it/s]"
      ]
     },
     "metadata": {},
     "output_type": "display_data"
    },
    {
     "data": {
      "application/vnd.jupyter.widget-view+json": {
       "model_id": "15950268909544e3aab0c557608f21f4",
       "version_major": 2,
       "version_minor": 0
      },
      "text/plain": [
       "0it [00:00, ?it/s]"
      ]
     },
     "metadata": {},
     "output_type": "display_data"
    },
    {
     "data": {
      "application/vnd.jupyter.widget-view+json": {
       "model_id": "c9c7885df4b54049b01a18d3a114b43a",
       "version_major": 2,
       "version_minor": 0
      },
      "text/plain": [
       "0it [00:00, ?it/s]"
      ]
     },
     "metadata": {},
     "output_type": "display_data"
    },
    {
     "data": {
      "application/vnd.jupyter.widget-view+json": {
       "model_id": "94671e1936b14129984a123e058c021d",
       "version_major": 2,
       "version_minor": 0
      },
      "text/plain": [
       "0it [00:00, ?it/s]"
      ]
     },
     "metadata": {},
     "output_type": "display_data"
    },
    {
     "data": {
      "application/vnd.jupyter.widget-view+json": {
       "model_id": "a8ae2fce4f0b45abaa2ef1d1862842ff",
       "version_major": 2,
       "version_minor": 0
      },
      "text/plain": [
       "  0%|          | 0/3 [00:00<?, ?it/s]"
      ]
     },
     "metadata": {},
     "output_type": "display_data"
    },
    {
     "name": "stdout",
     "output_type": "stream",
     "text": [
      "[TradeInstruction.to_dicts]\n",
      "[TradeInstruction.to_dicts]\n",
      "[TradeInstruction.to_dicts]\n"
     ]
    },
    {
     "data": {
      "application/vnd.jupyter.widget-view+json": {
       "model_id": "79a2b35f94764877ac470bb5eb3a12f5",
       "version_major": 2,
       "version_minor": 0
      },
      "text/plain": [
       "  0%|          | 0/4 [00:00<?, ?it/s]"
      ]
     },
     "metadata": {},
     "output_type": "display_data"
    },
    {
     "name": "stdout",
     "output_type": "stream",
     "text": [
      "[TradeInstruction.to_dicts]\n",
      "[TradeInstruction.to_dicts]\n",
      "[TradeInstruction.to_dicts]\n",
      "[TradeInstruction.to_dicts]\n"
     ]
    }
   ],
   "source": [
    "arb_finder = bot._get_arb_finder(\"single\")\n",
    "finder = arb_finder(\n",
    "            flashloan_tokens=flashloan_tokens,\n",
    "            CCm=CCm,\n",
    "            mode=\"bothin\",\n",
    "            result=bot.AO_CANDIDATES,\n",
    "            ConfigObj=bot.ConfigObj,\n",
    "        )\n",
    "r = finder.find_arbitrage()\n",
    "multi_carbon_count = 0\n",
    "\n",
    "for arb in r:\n",
    "    (\n",
    "            best_profit,\n",
    "            best_trade_instructions_df,\n",
    "            best_trade_instructions_dic,\n",
    "            best_src_token,\n",
    "            best_trade_instructions,\n",
    "        ) = arb\n",
    "    if len(best_trade_instructions_dic) > 2:\n",
    "        multi_carbon_count += 1\n",
    "\n",
    "assert multi_carbon_count == 0, f\"[TestSingleMode] Expected arbs without multiple Carbon curves, but found {len(multi_carbon_count)}\""
   ]
  }
 ],
 "metadata": {
  "jupytext": {
   "formats": "ipynb,py:light"
  },
  "kernelspec": {
   "display_name": "Python 3",
   "language": "python",
   "name": "python3"
  },
  "language_info": {
   "codemirror_mode": {
    "name": "ipython",
    "version": 3
   },
   "file_extension": ".py",
   "mimetype": "text/x-python",
   "name": "python",
   "nbconvert_exporter": "python",
   "pygments_lexer": "ipython3",
   "version": "3.8.8"
  }
 },
 "nbformat": 4,
 "nbformat_minor": 5
}

{
 "cells": [
  {
   "cell_type": "code",
   "execution_count": 1,
   "id": "8f04c50a-67fe-4f09-822d-6ed6e3ac43e4",
   "metadata": {
    "ExecuteTime": {
     "end_time": "2023-05-01T17:06:30.167835Z",
     "start_time": "2023-05-01T17:06:30.152835Z"
    },
    "lines_to_next_cell": 0
   },
   "outputs": [
    {
     "name": "stdout",
     "output_type": "stream",
     "text": [
      "Config v1.0-BETA8 (01/May 2023)\n",
      "CarbonBot v2.0-BETA4 (30/Apr/2023)\n",
      "imported m, np, pd, plt, os, sys, decimal; defined iseq, raises, require\n",
      "Version = 2.0-BETA4 [requirements >= 2.0 is met]\n"
     ]
    }
   ],
   "source": [
    "from fastlane_bot import Config, ConfigDB, ConfigNetwork, ConfigProvider, Bot\n",
    "from web3 import Web3\n",
    "from fastlane_bot.data.abi import CARBON_CONTROLLER_ABI\n",
    "\n",
    "print(\"{0.__name__} v{0.__VERSION__} ({0.__DATE__})\".format(Config))\n",
    "print(\"{0.__name__} v{0.__VERSION__} ({0.__DATE__})\".format(Bot))\n",
    "from fastlane_bot.testing import *\n",
    "\n",
    "from fastlane_bot import __VERSION__\n",
    "require(\"2.0\", __VERSION__)"
   ]
  },
  {
   "cell_type": "code",
   "execution_count": 2,
   "id": "ef8fa4c7-95c4-439c-9ce8-f89d0260e72e",
   "metadata": {},
   "outputs": [],
   "source": [
    "# raise"
   ]
  },
  {
   "cell_type": "markdown",
   "id": "b3f59f14-b91b-4dba-94b0-3d513aaf41c7",
   "metadata": {},
   "source": [
    "# BOT TEMPLATE [NBTest010]"
   ]
  },
  {
   "cell_type": "markdown",
   "id": "96c7676d-a3c5-428c-a9d0-75e36b246072",
   "metadata": {},
   "source": [
    "## Mainnet Alchemy [NOTEST]"
   ]
  },
  {
   "cell_type": "code",
   "execution_count": 3,
   "id": "64f87aed-3618-4fb2-a911-9420a12dc5b8",
   "metadata": {},
   "outputs": [
    {
     "name": "stdout",
     "output_type": "stream",
     "text": [
      "Web3 API: 5.31.3\n"
     ]
    }
   ],
   "source": [
    "C = Config.new(config=Config.CONFIG_MAINNET)\n",
    "assert C.DATABASE == C.DATABASE_POSTGRES\n",
    "assert C.POSTGRES_DB == \"mainnet\"\n",
    "assert C.NETWORK == C.NETWORK_MAINNET\n",
    "assert C.PROVIDER == C.PROVIDER_ALCHEMY\n",
    "print(\"Web3 API:\", C.w3.api)"
   ]
  },
  {
   "cell_type": "markdown",
   "id": "17a46202-a9c7-4cbb-8700-d6bf1e930cfa",
   "metadata": {},
   "source": [
    "## Tenderly [NOTEST]"
   ]
  },
  {
   "cell_type": "code",
   "execution_count": 4,
   "id": "140dbc32-b5a2-4d3c-bedd-a8b4bda4ac33",
   "metadata": {
    "lines_to_next_cell": 2
   },
   "outputs": [],
   "source": [
    "pass"
   ]
  },
  {
   "cell_type": "markdown",
   "id": "cf03072d-6304-41f8-b132-9470ae81ac7c",
   "metadata": {},
   "source": [
    "## Mainnet Alchemy Configuration"
   ]
  },
  {
   "cell_type": "code",
   "execution_count": 5,
   "id": "da9ff008-cb12-44f7-93a8-84f7386da886",
   "metadata": {},
   "outputs": [],
   "source": [
    "C = Config.new(config=Config.CONFIG_MAINNET)\n",
    "assert C.DATABASE == C.DATABASE_POSTGRES\n",
    "assert C.POSTGRES_DB == \"mainnet\"\n",
    "assert C.NETWORK == C.NETWORK_MAINNET\n",
    "assert C.PROVIDER == C.PROVIDER_ALCHEMY\n",
    "assert C.w3.__class__.__name__ == \"Web3\"\n",
    "assert C.w3.isConnected()\n",
    "assert C.w3.provider.endpoint_uri.startswith(\"https://eth-mainnet.alchemyapi.io/v2\")"
   ]
  },
  {
   "cell_type": "code",
   "execution_count": 6,
   "id": "e52de072-fd88-4c70-a052-a800fea29e20",
   "metadata": {},
   "outputs": [
    {
     "name": "stderr",
     "output_type": "stream",
     "text": [
      "2023-05-01 16:20:20,592 [fastlane:INFO] - Database: None\n",
      "2023-05-01 16:20:20,592 [fastlane:INFO] - Database: None\n"
     ]
    }
   ],
   "source": [
    "bot = Bot(ConfigObj=C)"
   ]
  },
  {
   "cell_type": "code",
   "execution_count": 7,
   "id": "63b58e61-4b44-42d6-93e0-f80613611bd8",
   "metadata": {},
   "outputs": [],
   "source": [
    "# bot.update_pools()"
   ]
  },
  {
   "cell_type": "code",
   "execution_count": 8,
   "id": "0df5aefe-b3b1-4643-b434-f17164cd019c",
   "metadata": {
    "lines_to_next_cell": 2
   },
   "outputs": [],
   "source": [
    "# bot.drop_tables()"
   ]
  },
  {
   "cell_type": "markdown",
   "id": "26959795-1e81-4378-8bd7-52f84e616d98",
   "metadata": {},
   "source": [
    "## Unittest Configuration"
   ]
  },
  {
   "cell_type": "code",
   "execution_count": 9,
   "id": "019a3025-8e65-4f2b-a746-6c73a4721362",
   "metadata": {
    "lines_to_next_cell": 2
   },
   "outputs": [],
   "source": [
    "C = Config.new(config=Config.CONFIG_UNITTEST)\n",
    "assert C.DATABASE == C.DATABASE_UNITTEST\n",
    "assert C.NETWORK == C.NETWORK_MAINNET\n",
    "#assert C.PROVIDER == C.PROVIDER_UNITTEST\n",
    "assert C.PROVIDER == C.PROVIDER_ALCHEMY"
   ]
  },
  {
   "cell_type": "code",
   "execution_count": 10,
   "id": "00962a7d-f7af-4589-90f5-4b2532034f75",
   "metadata": {},
   "outputs": [
    {
     "name": "stderr",
     "output_type": "stream",
     "text": [
      "2023-05-01 16:20:20,797 [fastlane:INFO] - Database: None\n",
      "2023-05-01 16:20:20,797 [fastlane:INFO] - Database: None\n",
      "2023-05-01 16:20:20,797 [fastlane:INFO] - Database: None\n"
     ]
    }
   ],
   "source": [
    "bot = Bot(ConfigObj=C)"
   ]
  },
  {
   "cell_type": "markdown",
   "id": "cadaf6bc-3d1a-4189-95ed-27844d189e4b",
   "metadata": {},
   "source": [
    "## Mainnet Alchemy change DB"
   ]
  },
  {
   "cell_type": "code",
   "execution_count": 11,
   "id": "945df668-afd4-466a-ba2e-1a496eed7e46",
   "metadata": {},
   "outputs": [
    {
     "data": {
      "text/plain": [
       "Config(network=_ConfigNetworkMainnet(), db=_ConfigDBPostgres(), logger=_ConfigLoggerDefault(), provider=_ConfigProviderAlchemy())"
      ]
     },
     "execution_count": 11,
     "metadata": {},
     "output_type": "execute_result"
    }
   ],
   "source": [
    "C_nw = ConfigNetwork.new(network=ConfigNetwork.NETWORK_MAINNET)\n",
    "C_db = ConfigDB.new(db=ConfigDB.DATABASE_POSTGRES, POSTGRES_DB=\"postgres\")\n",
    "C_pr = ConfigProvider.new(network=C_nw)\n",
    "C = Config(db = C_db, network = C_nw, provider = C_pr)\n",
    "assert C_db.POSTGRES_URL.endswith(\"/postgres\")\n",
    "assert C.DATABASE == C.DATABASE_POSTGRES\n",
    "assert C.POSTGRES_DB == \"postgres\"\n",
    "assert C.NETWORK == C.NETWORK_MAINNET\n",
    "assert C.PROVIDER == C.PROVIDER_ALCHEMY\n",
    "assert C.w3.__class__.__name__ == \"Web3\"\n",
    "C"
   ]
  },
  {
   "cell_type": "code",
   "execution_count": 12,
   "id": "a0e247b8-9696-4935-9d49-aa17252e27de",
   "metadata": {},
   "outputs": [
    {
     "name": "stderr",
     "output_type": "stream",
     "text": [
      "2023-05-01 16:20:20,979 [fastlane:INFO] - Database: None\n",
      "2023-05-01 16:20:20,979 [fastlane:INFO] - Database: None\n",
      "2023-05-01 16:20:20,979 [fastlane:INFO] - Database: None\n",
      "2023-05-01 16:20:20,979 [fastlane:INFO] - Database: None\n"
     ]
    }
   ],
   "source": [
    "bot = Bot(ConfigObj=C)"
   ]
  },
  {
   "cell_type": "markdown",
   "id": "981738ae-1217-4b5c-b21f-c3354e573c32",
   "metadata": {
    "lines_to_next_cell": 2
   },
   "source": [
    "## Tenderly Configuration\n",
    "\n",
    "_this does not work in the same notebook as the other stuff due to limitations of the provider_"
   ]
  },
  {
   "cell_type": "code",
   "execution_count": 17,
   "id": "6cefcd77-a643-4373-b67a-3061642c444b",
   "metadata": {},
   "outputs": [],
   "source": [
    "pass"
   ]
  },
  {
   "cell_type": "code",
   "execution_count": 13,
   "id": "bc55a3e2-f5f8-4fa8-9763-2c13b4122fbb",
   "metadata": {
    "ExecuteTime": {
     "end_time": "2023-05-01T17:05:34.293942Z",
     "start_time": "2023-05-01T17:05:28.492814Z"
    }
   },
   "outputs": [],
   "source": [
    "# C = Config.new(config=Config.CONFIG_TENDERLY)\n",
    "# assert C.DATABASE == C.DATABASE_POSTGRES\n",
    "# assert C.POSTGRES_DB == \"tenderly\"\n",
    "# assert C.NETWORK == C.NETWORK_TENDERLY\n",
    "# assert C.PROVIDER == C.PROVIDER_TENDERLY\n",
    "# assert C.w3.__class__.__name__ == \"Web3\"\n",
    "# assert C.w3.isConnected()\n",
    "# assert C.w3.provider.endpoint_uri.startswith(\"https://rpc.tenderly.co/fork/\")\n",
    "\n",
    "# mainnet_w3 = Web3(Web3.HTTPProvider(f\"https://eth-mainnet.alchemyapi.io/v2/{os.environ.get('WEB3_ALCHEMY_PROJECT_ID')}\"))\n",
    "# assert mainnet_w3.eth.blockNumber != C.w3.eth.block_number\n",
    "# print(f\"Mainnet block = {mainnet_w3.eth.block_number}, Tenderly block = {C.w3.eth.block_number}\")\n",
    "# CARBON_CONTROLLER = C.w3.eth.contract(address=\"0xC537e898CD774e2dCBa3B14Ea6f34C93d5eA45e1\", abi=CARBON_CONTROLLER_ABI)\n",
    "# fee = CARBON_CONTROLLER.caller.tradingFeePPM()\n",
    "# assert type(fee) == int"
   ]
  },
  {
   "cell_type": "code",
   "execution_count": 14,
   "id": "e68c4335-f76b-403c-b488-bfa367512ce3",
   "metadata": {
    "lines_to_next_cell": 0
   },
   "outputs": [],
   "source": [
    "# C_nw = ConfigNetwork.new(network=ConfigNetwork.NETWORK_TENDERLY)\n",
    "# C_db = ConfigDB.new(db=ConfigDB.DATABASE_POSTGRES)\n",
    "# C_pr = ConfigProvider.new(network=C_nw)\n",
    "# C = Config(db = C_db, network = C_nw, provider = C_pr)\n",
    "# C"
   ]
  },
  {
   "cell_type": "code",
   "execution_count": 16,
   "id": "c3c11c40-b50c-4b24-834b-4e69b6dde1d8",
   "metadata": {},
   "outputs": [],
   "source": [
    "# bot = Bot(ConfigObj=C)"
   ]
  },
  {
   "cell_type": "code",
   "execution_count": null,
   "id": "5a3313e0-28e4-4b09-836d-2c41a1d629c2",
   "metadata": {},
   "outputs": [],
   "source": []
  },
  {
   "cell_type": "code",
   "execution_count": null,
   "id": "1441b8f6",
   "metadata": {},
   "outputs": [],
   "source": []
  }
 ],
 "metadata": {
  "jupytext": {
   "encoding": "# -*- coding: utf-8 -*-",
   "formats": "ipynb,py:light"
  },
  "kernelspec": {
   "display_name": "Python 3",
   "language": "python",
   "name": "python3"
  },
  "language_info": {
   "codemirror_mode": {
    "name": "ipython",
    "version": 3
   },
   "file_extension": ".py",
   "mimetype": "text/x-python",
   "name": "python",
   "nbconvert_exporter": "python",
   "pygments_lexer": "ipython3",
   "version": "3.8.8"
  }
 },
 "nbformat": 4,
 "nbformat_minor": 5
}

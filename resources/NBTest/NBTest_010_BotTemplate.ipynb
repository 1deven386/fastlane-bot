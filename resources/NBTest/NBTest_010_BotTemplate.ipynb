{
 "cells": [
  {
   "cell_type": "code",
   "execution_count": 1,
   "id": "8f04c50a-67fe-4f09-822d-6ed6e3ac43e4",
   "metadata": {},
   "outputs": [
    {
     "name": "stdout",
     "output_type": "stream",
     "text": [
      "Config v1.0-BETA6 (30/Apr 2023)\n",
      "CarbonBot v2.0-BETA4 (30/Apr/2023)\n",
      "imported m, np, pd, plt, os, sys, decimal; defined iseq, raises, require\n",
      "Version = 2.0-BETA4 [requirements >= 2.0 is met]\n"
     ]
    }
   ],
   "source": [
    "from fastlane_bot import Config, ConfigDB, ConfigNetwork, ConfigProvider, Bot\n",
    "print(\"{0.__name__} v{0.__VERSION__} ({0.__DATE__})\".format(Config))\n",
    "print(\"{0.__name__} v{0.__VERSION__} ({0.__DATE__})\".format(Bot))\n",
    "from fastlane_bot.testing import *\n",
    "\n",
    "from fastlane_bot import __VERSION__\n",
    "require(\"2.0\", __VERSION__)"
   ]
  },
  {
   "cell_type": "markdown",
   "id": "b3f59f14-b91b-4dba-94b0-3d513aaf41c7",
   "metadata": {},
   "source": [
    "# BOT TEMPLATE [NBTest010]"
   ]
  },
  {
   "cell_type": "markdown",
   "id": "cf03072d-6304-41f8-b132-9470ae81ac7c",
   "metadata": {},
   "source": [
    "## Mainnet/Alchemy Configuration"
   ]
  },
  {
   "cell_type": "code",
   "execution_count": 2,
   "id": "b36bd25e-3985-4522-97b1-18a196dde125",
   "metadata": {},
   "outputs": [
    {
     "name": "stdout",
     "output_type": "stream",
     "text": [
      "[is_config_item] _ipython_canary_method_should_not_exist_\n",
      "[is_config_item] _ipython_display_\n",
      "[is_config_item] _ipython_canary_method_should_not_exist_\n",
      "[is_config_item] _repr_mimebundle_\n",
      "[is_config_item] _ipython_canary_method_should_not_exist_\n",
      "[is_config_item] _repr_html_\n",
      "[is_config_item] _ipython_canary_method_should_not_exist_\n",
      "[is_config_item] _repr_markdown_\n",
      "[is_config_item] _ipython_canary_method_should_not_exist_\n",
      "[is_config_item] _repr_svg_\n",
      "[is_config_item] _ipython_canary_method_should_not_exist_\n",
      "[is_config_item] _repr_png_\n",
      "[is_config_item] _ipython_canary_method_should_not_exist_\n",
      "[is_config_item] _repr_pdf_\n",
      "[is_config_item] _ipython_canary_method_should_not_exist_\n",
      "[is_config_item] _repr_jpeg_\n",
      "[is_config_item] _ipython_canary_method_should_not_exist_\n",
      "[is_config_item] _repr_latex_\n",
      "[is_config_item] _ipython_canary_method_should_not_exist_\n",
      "[is_config_item] _repr_json_\n",
      "[is_config_item] _ipython_canary_method_should_not_exist_\n",
      "[is_config_item] _repr_javascript_\n"
     ]
    },
    {
     "data": {
      "text/plain": [
       "Config(network=_ConfigNetworkMainnet(), db=_ConfigDBPostgres(), logger=_ConfigLoggerDefault(), provider=_ConfigProviderAlchemy())"
      ]
     },
     "execution_count": 2,
     "metadata": {},
     "output_type": "execute_result"
    }
   ],
   "source": [
    "C_nw = ConfigNetwork.new(network=ConfigNetwork.NETWORK_MAINNET)\n",
    "C_db = ConfigDB.new(db=ConfigDB.DATABASE_POSTGRES)\n",
    "C_pr = ConfigProvider.new(network=C_nw, provider=ConfigProvider.PROVIDER_ALCHEMY)\n",
    "C = Config(db = C_db, network = C_nw, provider = C_pr)\n",
    "C"
   ]
  },
  {
   "cell_type": "code",
   "execution_count": 3,
   "id": "da9ff008-cb12-44f7-93a8-84f7386da886",
   "metadata": {},
   "outputs": [
    {
     "name": "stdout",
     "output_type": "stream",
     "text": [
      "[is_config_item] DATABASE\n",
      "[is_config_item] DATABASE_POSTGRES\n",
      "[is_config_item] NETWORK\n",
      "[is_config_item] NETWORK_MAINNET\n",
      "[is_config_item] PROVIDER\n",
      "[is_config_item] PROVIDER_ALCHEMY\n"
     ]
    }
   ],
   "source": [
    "assert C.DATABASE == C.DATABASE_POSTGRES\n",
    "assert C.NETWORK == C.NETWORK_MAINNET\n",
    "assert C.PROVIDER == C.PROVIDER_ALCHEMY"
   ]
  },
  {
   "cell_type": "code",
   "execution_count": 4,
   "id": "e52de072-fd88-4c70-a052-a800fea29e20",
   "metadata": {},
   "outputs": [
    {
     "name": "stdout",
     "output_type": "stream",
     "text": [
      "[is_config_item] w3\n",
      "[is_config_item] BANCOR_ARBITRAGE_CONTRACT\n",
      "[is_config_item] BANCOR_NETWORK_INFO_CONTRACT\n",
      "[is_config_item] w3\n",
      "[is_config_item] WEB3_ALCHEMY_PROJECT_ID\n",
      "[is_config_item] BANCOR_ARBITRAGE_CONTRACT\n",
      "[is_config_item] w3\n",
      "[is_config_item] ETH_PRIVATE_KEY_BE_CAREFUL\n"
     ]
    },
    {
     "ename": "ValueError",
     "evalue": "The private key must be exactly 32 bytes long, instead of 42 bytes.",
     "output_type": "error",
     "traceback": [
      "\u001b[0;31m---------------------------------------------------------------------------\u001b[0m",
      "\u001b[0;31mValidationError\u001b[0m                           Traceback (most recent call last)",
      "\u001b[0;32m~/opt/anaconda3/lib/python3.8/site-packages/eth_account/account.py\u001b[0m in \u001b[0;36m_parsePrivateKey\u001b[0;34m(self, key)\u001b[0m\n\u001b[1;32m    774\u001b[0m         \u001b[0;32mtry\u001b[0m\u001b[0;34m:\u001b[0m\u001b[0;34m\u001b[0m\u001b[0;34m\u001b[0m\u001b[0m\n\u001b[0;32m--> 775\u001b[0;31m             \u001b[0;32mreturn\u001b[0m \u001b[0mself\u001b[0m\u001b[0;34m.\u001b[0m\u001b[0m_keys\u001b[0m\u001b[0;34m.\u001b[0m\u001b[0mPrivateKey\u001b[0m\u001b[0;34m(\u001b[0m\u001b[0mHexBytes\u001b[0m\u001b[0;34m(\u001b[0m\u001b[0mkey\u001b[0m\u001b[0;34m)\u001b[0m\u001b[0;34m)\u001b[0m\u001b[0;34m\u001b[0m\u001b[0;34m\u001b[0m\u001b[0m\n\u001b[0m\u001b[1;32m    776\u001b[0m         \u001b[0;32mexcept\u001b[0m \u001b[0mValidationError\u001b[0m \u001b[0;32mas\u001b[0m \u001b[0moriginal_exception\u001b[0m\u001b[0;34m:\u001b[0m\u001b[0;34m\u001b[0m\u001b[0;34m\u001b[0m\u001b[0m\n",
      "\u001b[0;32m~/opt/anaconda3/lib/python3.8/site-packages/eth_keys/datatypes.py\u001b[0m in \u001b[0;36m__init__\u001b[0;34m(self, private_key_bytes, backend)\u001b[0m\n\u001b[1;32m    250\u001b[0m                  ) -> None:\n\u001b[0;32m--> 251\u001b[0;31m         \u001b[0mvalidate_private_key_bytes\u001b[0m\u001b[0;34m(\u001b[0m\u001b[0mprivate_key_bytes\u001b[0m\u001b[0;34m)\u001b[0m\u001b[0;34m\u001b[0m\u001b[0;34m\u001b[0m\u001b[0m\n\u001b[0m\u001b[1;32m    252\u001b[0m \u001b[0;34m\u001b[0m\u001b[0m\n",
      "\u001b[0;32m~/opt/anaconda3/lib/python3.8/site-packages/eth_keys/validation.py\u001b[0m in \u001b[0;36mvalidate_private_key_bytes\u001b[0;34m(value)\u001b[0m\n\u001b[1;32m     88\u001b[0m     \u001b[0mvalidate_bytes\u001b[0m\u001b[0;34m(\u001b[0m\u001b[0mvalue\u001b[0m\u001b[0;34m)\u001b[0m\u001b[0;34m\u001b[0m\u001b[0;34m\u001b[0m\u001b[0m\n\u001b[0;32m---> 89\u001b[0;31m     \u001b[0mvalidate_bytes_length\u001b[0m\u001b[0;34m(\u001b[0m\u001b[0mvalue\u001b[0m\u001b[0;34m,\u001b[0m \u001b[0;36m32\u001b[0m\u001b[0;34m,\u001b[0m \u001b[0;34m\"private key\"\u001b[0m\u001b[0;34m)\u001b[0m\u001b[0;34m\u001b[0m\u001b[0;34m\u001b[0m\u001b[0m\n\u001b[0m\u001b[1;32m     90\u001b[0m \u001b[0;34m\u001b[0m\u001b[0m\n",
      "\u001b[0;32m~/opt/anaconda3/lib/python3.8/site-packages/eth_keys/validation.py\u001b[0m in \u001b[0;36mvalidate_bytes_length\u001b[0;34m(value, expected_length, name)\u001b[0m\n\u001b[1;32m     53\u001b[0m     \u001b[0;32mif\u001b[0m \u001b[0mactual_length\u001b[0m \u001b[0;34m!=\u001b[0m \u001b[0mexpected_length\u001b[0m\u001b[0;34m:\u001b[0m\u001b[0;34m\u001b[0m\u001b[0;34m\u001b[0m\u001b[0m\n\u001b[0;32m---> 54\u001b[0;31m         raise ValidationError(\n\u001b[0m\u001b[1;32m     55\u001b[0m             \u001b[0;34m\"Unexpected {name} length: Expected {expected_length}, but got {actual_length} \"\u001b[0m\u001b[0;34m\u001b[0m\u001b[0;34m\u001b[0m\u001b[0m\n",
      "\u001b[0;31mValidationError\u001b[0m: Unexpected private key length: Expected 32, but got 20 bytes",
      "\nThe above exception was the direct cause of the following exception:\n",
      "\u001b[0;31mValueError\u001b[0m                                Traceback (most recent call last)",
      "\u001b[0;32m<ipython-input-4-64d5a818b7f2>\u001b[0m in \u001b[0;36m<module>\u001b[0;34m\u001b[0m\n\u001b[0;32m----> 1\u001b[0;31m \u001b[0mbot\u001b[0m \u001b[0;34m=\u001b[0m \u001b[0mBot\u001b[0m\u001b[0;34m(\u001b[0m\u001b[0mConfigObj\u001b[0m\u001b[0;34m=\u001b[0m\u001b[0mC\u001b[0m\u001b[0;34m)\u001b[0m\u001b[0;34m\u001b[0m\u001b[0;34m\u001b[0m\u001b[0m\n\u001b[0m",
      "\u001b[0;32m~/REPOES/Bancor/ArbBot/resources/NBTest/fastlane_bot/bot.py\u001b[0m in \u001b[0;36m__init__\u001b[0;34m(self, db, TxSubmitHandlerClass, TxReceiptHandlerClass, TxRouteHandlerClass, TxHelpersClass, ConfigObj, genesis_data, drop_tables, seed_pools, update_pools, usd_gas_limit, min_profit, polling_interval)\u001b[0m\n",
      "\u001b[0;32m~/REPOES/Bancor/ArbBot/resources/NBTest/fastlane_bot/bot.py\u001b[0m in \u001b[0;36m__post_init__\u001b[0;34m(self, genesis_data, drop_tables, seed_pools, update_pools)\u001b[0m\n\u001b[1;32m    211\u001b[0m \u001b[0;34m\u001b[0m\u001b[0m\n\u001b[1;32m    212\u001b[0m     \u001b[0;32mdef\u001b[0m \u001b[0m__post_init__\u001b[0m\u001b[0;34m(\u001b[0m\u001b[0mself\u001b[0m\u001b[0;34m,\u001b[0m \u001b[0mgenesis_data\u001b[0m\u001b[0;34m=\u001b[0m\u001b[0;32mNone\u001b[0m\u001b[0;34m,\u001b[0m \u001b[0mdrop_tables\u001b[0m\u001b[0;34m=\u001b[0m\u001b[0;32mNone\u001b[0m\u001b[0;34m,\u001b[0m \u001b[0mseed_pools\u001b[0m\u001b[0;34m=\u001b[0m\u001b[0;32mNone\u001b[0m\u001b[0;34m,\u001b[0m \u001b[0mupdate_pools\u001b[0m\u001b[0;34m=\u001b[0m\u001b[0;32mNone\u001b[0m\u001b[0;34m)\u001b[0m\u001b[0;34m:\u001b[0m\u001b[0;34m\u001b[0m\u001b[0;34m\u001b[0m\u001b[0m\n\u001b[0;32m--> 213\u001b[0;31m         \u001b[0msuper\u001b[0m\u001b[0;34m(\u001b[0m\u001b[0;34m)\u001b[0m\u001b[0;34m.\u001b[0m\u001b[0m__post_init__\u001b[0m\u001b[0;34m(\u001b[0m\u001b[0mgenesis_data\u001b[0m\u001b[0;34m=\u001b[0m\u001b[0mgenesis_data\u001b[0m\u001b[0;34m,\u001b[0m \u001b[0mdrop_tables\u001b[0m\u001b[0;34m=\u001b[0m\u001b[0mdrop_tables\u001b[0m\u001b[0;34m,\u001b[0m \u001b[0mseed_pools\u001b[0m\u001b[0;34m=\u001b[0m\u001b[0mseed_pools\u001b[0m\u001b[0;34m,\u001b[0m \u001b[0mupdate_pools\u001b[0m\u001b[0;34m=\u001b[0m\u001b[0mupdate_pools\u001b[0m\u001b[0;34m)\u001b[0m\u001b[0;34m\u001b[0m\u001b[0;34m\u001b[0m\u001b[0m\n\u001b[0m\u001b[1;32m    214\u001b[0m \u001b[0;34m\u001b[0m\u001b[0m\n\u001b[1;32m    215\u001b[0m     def _order_and_scale_trade_instruction_dcts(self,\n",
      "\u001b[0;32m~/REPOES/Bancor/ArbBot/resources/NBTest/fastlane_bot/bot.py\u001b[0m in \u001b[0;36m__post_init__\u001b[0;34m(self, genesis_data, drop_tables, seed_pools, update_pools)\u001b[0m\n\u001b[1;32m    133\u001b[0m \u001b[0;34m\u001b[0m\u001b[0m\n\u001b[1;32m    134\u001b[0m         \u001b[0;32mif\u001b[0m \u001b[0mself\u001b[0m\u001b[0;34m.\u001b[0m\u001b[0mTxHelpersClass\u001b[0m \u001b[0;32mis\u001b[0m \u001b[0;32mNone\u001b[0m\u001b[0;34m:\u001b[0m\u001b[0;34m\u001b[0m\u001b[0;34m\u001b[0m\u001b[0m\n\u001b[0;32m--> 135\u001b[0;31m             \u001b[0mself\u001b[0m\u001b[0;34m.\u001b[0m\u001b[0mTxHelpersClass\u001b[0m \u001b[0;34m=\u001b[0m \u001b[0mTxHelpers\u001b[0m\u001b[0;34m(\u001b[0m\u001b[0mConfigObj\u001b[0m\u001b[0;34m=\u001b[0m\u001b[0mself\u001b[0m\u001b[0;34m.\u001b[0m\u001b[0mConfigObj\u001b[0m\u001b[0;34m)\u001b[0m\u001b[0;34m\u001b[0m\u001b[0;34m\u001b[0m\u001b[0m\n\u001b[0m\u001b[1;32m    136\u001b[0m         \u001b[0;32massert\u001b[0m \u001b[0missubclass\u001b[0m\u001b[0;34m(\u001b[0m\u001b[0mself\u001b[0m\u001b[0;34m.\u001b[0m\u001b[0mTxHelpersClass\u001b[0m\u001b[0;34m.\u001b[0m\u001b[0m__class__\u001b[0m\u001b[0;34m,\u001b[0m \u001b[0mTxHelpersBase\u001b[0m\u001b[0;34m)\u001b[0m\u001b[0;34m,\u001b[0m \u001b[0;34mf\"TxHelpersClass not derived from TxHelpersBase {self.TxHelpersClass}\"\u001b[0m\u001b[0;34m\u001b[0m\u001b[0;34m\u001b[0m\u001b[0m\n\u001b[1;32m    137\u001b[0m \u001b[0;34m\u001b[0m\u001b[0m\n",
      "\u001b[0;32m~/REPOES/Bancor/ArbBot/resources/NBTest/fastlane_bot/helpers/txhelpers.py\u001b[0m in \u001b[0;36m__init__\u001b[0;34m(self, ConfigObj)\u001b[0m\n",
      "\u001b[0;32m~/REPOES/Bancor/ArbBot/resources/NBTest/fastlane_bot/helpers/txhelpers.py\u001b[0m in \u001b[0;36m__post_init__\u001b[0;34m(self)\u001b[0m\n\u001b[1;32m    246\u001b[0m         \u001b[0mself\u001b[0m\u001b[0;34m.\u001b[0m\u001b[0mweb3\u001b[0m \u001b[0;34m=\u001b[0m \u001b[0mself\u001b[0m\u001b[0;34m.\u001b[0m\u001b[0mConfigObj\u001b[0m\u001b[0;34m.\u001b[0m\u001b[0mw3\u001b[0m\u001b[0;34m\u001b[0m\u001b[0;34m\u001b[0m\u001b[0m\n\u001b[1;32m    247\u001b[0m         \u001b[0;31m# Set the local account\u001b[0m\u001b[0;34m\u001b[0m\u001b[0;34m\u001b[0m\u001b[0;34m\u001b[0m\u001b[0m\n\u001b[0;32m--> 248\u001b[0;31m         \u001b[0mself\u001b[0m\u001b[0;34m.\u001b[0m\u001b[0mlocal_account\u001b[0m \u001b[0;34m=\u001b[0m \u001b[0mself\u001b[0m\u001b[0;34m.\u001b[0m\u001b[0mweb3\u001b[0m\u001b[0;34m.\u001b[0m\u001b[0meth\u001b[0m\u001b[0;34m.\u001b[0m\u001b[0maccount\u001b[0m\u001b[0;34m.\u001b[0m\u001b[0mfrom_key\u001b[0m\u001b[0;34m(\u001b[0m\u001b[0mself\u001b[0m\u001b[0;34m.\u001b[0m\u001b[0mConfigObj\u001b[0m\u001b[0;34m.\u001b[0m\u001b[0mETH_PRIVATE_KEY_BE_CAREFUL\u001b[0m\u001b[0;34m)\u001b[0m\u001b[0;34m\u001b[0m\u001b[0;34m\u001b[0m\u001b[0m\n\u001b[0m\u001b[1;32m    249\u001b[0m \u001b[0;34m\u001b[0m\u001b[0m\n\u001b[1;32m    250\u001b[0m         \u001b[0;31m# Set the public address\u001b[0m\u001b[0;34m\u001b[0m\u001b[0;34m\u001b[0m\u001b[0;34m\u001b[0m\u001b[0m\n",
      "\u001b[0;32m~/opt/anaconda3/lib/python3.8/site-packages/eth_utils/decorators.py\u001b[0m in \u001b[0;36m_wrapper\u001b[0;34m(*args, **kwargs)\u001b[0m\n\u001b[1;32m     16\u001b[0m         \u001b[0;32mdef\u001b[0m \u001b[0m_wrapper\u001b[0m\u001b[0;34m(\u001b[0m\u001b[0;34m*\u001b[0m\u001b[0margs\u001b[0m\u001b[0;34m:\u001b[0m \u001b[0mAny\u001b[0m\u001b[0;34m,\u001b[0m \u001b[0;34m**\u001b[0m\u001b[0mkwargs\u001b[0m\u001b[0;34m:\u001b[0m \u001b[0mAny\u001b[0m\u001b[0;34m)\u001b[0m \u001b[0;34m->\u001b[0m \u001b[0mAny\u001b[0m\u001b[0;34m:\u001b[0m\u001b[0;34m\u001b[0m\u001b[0;34m\u001b[0m\u001b[0m\n\u001b[1;32m     17\u001b[0m             \u001b[0;32mif\u001b[0m \u001b[0mobj\u001b[0m \u001b[0;32mis\u001b[0m \u001b[0;32mnot\u001b[0m \u001b[0;32mNone\u001b[0m\u001b[0;34m:\u001b[0m\u001b[0;34m\u001b[0m\u001b[0;34m\u001b[0m\u001b[0m\n\u001b[0;32m---> 18\u001b[0;31m                 \u001b[0;32mreturn\u001b[0m \u001b[0mself\u001b[0m\u001b[0;34m.\u001b[0m\u001b[0mmethod\u001b[0m\u001b[0;34m(\u001b[0m\u001b[0mobj\u001b[0m\u001b[0;34m,\u001b[0m \u001b[0;34m*\u001b[0m\u001b[0margs\u001b[0m\u001b[0;34m,\u001b[0m \u001b[0;34m**\u001b[0m\u001b[0mkwargs\u001b[0m\u001b[0;34m)\u001b[0m\u001b[0;34m\u001b[0m\u001b[0;34m\u001b[0m\u001b[0m\n\u001b[0m\u001b[1;32m     19\u001b[0m             \u001b[0;32melse\u001b[0m\u001b[0;34m:\u001b[0m\u001b[0;34m\u001b[0m\u001b[0;34m\u001b[0m\u001b[0m\n\u001b[1;32m     20\u001b[0m                 \u001b[0;32mreturn\u001b[0m \u001b[0mself\u001b[0m\u001b[0;34m.\u001b[0m\u001b[0mmethod\u001b[0m\u001b[0;34m(\u001b[0m\u001b[0mobjtype\u001b[0m\u001b[0;34m,\u001b[0m \u001b[0;34m*\u001b[0m\u001b[0margs\u001b[0m\u001b[0;34m,\u001b[0m \u001b[0;34m**\u001b[0m\u001b[0mkwargs\u001b[0m\u001b[0;34m)\u001b[0m\u001b[0;34m\u001b[0m\u001b[0;34m\u001b[0m\u001b[0m\n",
      "\u001b[0;32m~/opt/anaconda3/lib/python3.8/site-packages/eth_account/account.py\u001b[0m in \u001b[0;36mfrom_key\u001b[0;34m(self, private_key)\u001b[0m\n\u001b[1;32m    248\u001b[0m             \u001b[0;31m# but without the private key argument\u001b[0m\u001b[0;34m\u001b[0m\u001b[0;34m\u001b[0m\u001b[0;34m\u001b[0m\u001b[0m\n\u001b[1;32m    249\u001b[0m         \"\"\"\n\u001b[0;32m--> 250\u001b[0;31m         \u001b[0mkey\u001b[0m \u001b[0;34m=\u001b[0m \u001b[0mself\u001b[0m\u001b[0;34m.\u001b[0m\u001b[0m_parsePrivateKey\u001b[0m\u001b[0;34m(\u001b[0m\u001b[0mprivate_key\u001b[0m\u001b[0;34m)\u001b[0m\u001b[0;34m\u001b[0m\u001b[0;34m\u001b[0m\u001b[0m\n\u001b[0m\u001b[1;32m    251\u001b[0m         \u001b[0;32mreturn\u001b[0m \u001b[0mLocalAccount\u001b[0m\u001b[0;34m(\u001b[0m\u001b[0mkey\u001b[0m\u001b[0;34m,\u001b[0m \u001b[0mself\u001b[0m\u001b[0;34m)\u001b[0m\u001b[0;34m\u001b[0m\u001b[0;34m\u001b[0m\u001b[0m\n\u001b[1;32m    252\u001b[0m \u001b[0;34m\u001b[0m\u001b[0m\n",
      "\u001b[0;32m~/opt/anaconda3/lib/python3.8/site-packages/eth_utils/decorators.py\u001b[0m in \u001b[0;36m_wrapper\u001b[0;34m(*args, **kwargs)\u001b[0m\n\u001b[1;32m     16\u001b[0m         \u001b[0;32mdef\u001b[0m \u001b[0m_wrapper\u001b[0m\u001b[0;34m(\u001b[0m\u001b[0;34m*\u001b[0m\u001b[0margs\u001b[0m\u001b[0;34m:\u001b[0m \u001b[0mAny\u001b[0m\u001b[0;34m,\u001b[0m \u001b[0;34m**\u001b[0m\u001b[0mkwargs\u001b[0m\u001b[0;34m:\u001b[0m \u001b[0mAny\u001b[0m\u001b[0;34m)\u001b[0m \u001b[0;34m->\u001b[0m \u001b[0mAny\u001b[0m\u001b[0;34m:\u001b[0m\u001b[0;34m\u001b[0m\u001b[0;34m\u001b[0m\u001b[0m\n\u001b[1;32m     17\u001b[0m             \u001b[0;32mif\u001b[0m \u001b[0mobj\u001b[0m \u001b[0;32mis\u001b[0m \u001b[0;32mnot\u001b[0m \u001b[0;32mNone\u001b[0m\u001b[0;34m:\u001b[0m\u001b[0;34m\u001b[0m\u001b[0;34m\u001b[0m\u001b[0m\n\u001b[0;32m---> 18\u001b[0;31m                 \u001b[0;32mreturn\u001b[0m \u001b[0mself\u001b[0m\u001b[0;34m.\u001b[0m\u001b[0mmethod\u001b[0m\u001b[0;34m(\u001b[0m\u001b[0mobj\u001b[0m\u001b[0;34m,\u001b[0m \u001b[0;34m*\u001b[0m\u001b[0margs\u001b[0m\u001b[0;34m,\u001b[0m \u001b[0;34m**\u001b[0m\u001b[0mkwargs\u001b[0m\u001b[0;34m)\u001b[0m\u001b[0;34m\u001b[0m\u001b[0;34m\u001b[0m\u001b[0m\n\u001b[0m\u001b[1;32m     19\u001b[0m             \u001b[0;32melse\u001b[0m\u001b[0;34m:\u001b[0m\u001b[0;34m\u001b[0m\u001b[0;34m\u001b[0m\u001b[0m\n\u001b[1;32m     20\u001b[0m                 \u001b[0;32mreturn\u001b[0m \u001b[0mself\u001b[0m\u001b[0;34m.\u001b[0m\u001b[0mmethod\u001b[0m\u001b[0;34m(\u001b[0m\u001b[0mobjtype\u001b[0m\u001b[0;34m,\u001b[0m \u001b[0;34m*\u001b[0m\u001b[0margs\u001b[0m\u001b[0;34m,\u001b[0m \u001b[0;34m**\u001b[0m\u001b[0mkwargs\u001b[0m\u001b[0;34m)\u001b[0m\u001b[0;34m\u001b[0m\u001b[0;34m\u001b[0m\u001b[0m\n",
      "\u001b[0;32m~/opt/anaconda3/lib/python3.8/site-packages/eth_account/account.py\u001b[0m in \u001b[0;36m_parsePrivateKey\u001b[0;34m(self, key)\u001b[0m\n\u001b[1;32m    775\u001b[0m             \u001b[0;32mreturn\u001b[0m \u001b[0mself\u001b[0m\u001b[0;34m.\u001b[0m\u001b[0m_keys\u001b[0m\u001b[0;34m.\u001b[0m\u001b[0mPrivateKey\u001b[0m\u001b[0;34m(\u001b[0m\u001b[0mHexBytes\u001b[0m\u001b[0;34m(\u001b[0m\u001b[0mkey\u001b[0m\u001b[0;34m)\u001b[0m\u001b[0;34m)\u001b[0m\u001b[0;34m\u001b[0m\u001b[0;34m\u001b[0m\u001b[0m\n\u001b[1;32m    776\u001b[0m         \u001b[0;32mexcept\u001b[0m \u001b[0mValidationError\u001b[0m \u001b[0;32mas\u001b[0m \u001b[0moriginal_exception\u001b[0m\u001b[0;34m:\u001b[0m\u001b[0;34m\u001b[0m\u001b[0;34m\u001b[0m\u001b[0m\n\u001b[0;32m--> 777\u001b[0;31m             raise ValueError(\n\u001b[0m\u001b[1;32m    778\u001b[0m                 \u001b[0;34m\"The private key must be exactly 32 bytes long, instead of \"\u001b[0m\u001b[0;34m\u001b[0m\u001b[0;34m\u001b[0m\u001b[0m\n\u001b[1;32m    779\u001b[0m                 \u001b[0;34m\"%d bytes.\"\u001b[0m \u001b[0;34m%\u001b[0m \u001b[0mlen\u001b[0m\u001b[0;34m(\u001b[0m\u001b[0mkey\u001b[0m\u001b[0;34m)\u001b[0m\u001b[0;34m\u001b[0m\u001b[0;34m\u001b[0m\u001b[0m\n",
      "\u001b[0;31mValueError\u001b[0m: The private key must be exactly 32 bytes long, instead of 42 bytes."
     ]
    }
   ],
   "source": [
    "bot = Bot(ConfigObj=C)"
   ]
  },
  {
   "cell_type": "markdown",
   "id": "981738ae-1217-4b5c-b21f-c3354e573c32",
   "metadata": {},
   "source": [
    "## Tenderly Configuration"
   ]
  },
  {
   "cell_type": "code",
   "execution_count": 5,
   "id": "e68c4335-f76b-403c-b488-bfa367512ce3",
   "metadata": {},
   "outputs": [
    {
     "name": "stdout",
     "output_type": "stream",
     "text": [
      "[is_config_item] _ipython_canary_method_should_not_exist_\n",
      "[is_config_item] _ipython_display_\n",
      "[is_config_item] _ipython_canary_method_should_not_exist_\n",
      "[is_config_item] _repr_mimebundle_\n",
      "[is_config_item] _ipython_canary_method_should_not_exist_\n",
      "[is_config_item] _repr_html_\n",
      "[is_config_item] _ipython_canary_method_should_not_exist_\n",
      "[is_config_item] _repr_markdown_\n",
      "[is_config_item] _ipython_canary_method_should_not_exist_\n",
      "[is_config_item] _repr_svg_\n",
      "[is_config_item] _ipython_canary_method_should_not_exist_\n",
      "[is_config_item] _repr_png_\n",
      "[is_config_item] _ipython_canary_method_should_not_exist_\n",
      "[is_config_item] _repr_pdf_\n",
      "[is_config_item] _ipython_canary_method_should_not_exist_\n",
      "[is_config_item] _repr_jpeg_\n",
      "[is_config_item] _ipython_canary_method_should_not_exist_\n",
      "[is_config_item] _repr_latex_\n",
      "[is_config_item] _ipython_canary_method_should_not_exist_\n",
      "[is_config_item] _repr_json_\n",
      "[is_config_item] _ipython_canary_method_should_not_exist_\n",
      "[is_config_item] _repr_javascript_\n"
     ]
    },
    {
     "data": {
      "text/plain": [
       "Config(network=_ConfigNetworkTenderly(), db=_ConfigDBPostgres(), logger=_ConfigLoggerDefault(), provider=_ConfigProviderTenderly())"
      ]
     },
     "execution_count": 5,
     "metadata": {},
     "output_type": "execute_result"
    }
   ],
   "source": [
    "C_nw = ConfigNetwork.new(network=ConfigNetwork.NETWORK_TENDERLY)\n",
    "C_db = ConfigDB.new(db=ConfigDB.DATABASE_POSTGRES)\n",
    "C_pr = ConfigProvider.new(network=C_nw)\n",
    "C = Config(db = C_db, network = C_nw, provider = C_pr)\n",
    "C"
   ]
  },
  {
   "cell_type": "code",
   "execution_count": 6,
   "id": "b1d45366-d6f5-4849-b698-fdb3c368a616",
   "metadata": {},
   "outputs": [
    {
     "name": "stdout",
     "output_type": "stream",
     "text": [
      "[is_config_item] DATABASE\n",
      "[is_config_item] DATABASE_POSTGRES\n",
      "[is_config_item] NETWORK\n",
      "[is_config_item] NETWORK_TENDERLY\n",
      "[is_config_item] PROVIDER\n",
      "[is_config_item] PROVIDER_TENDERLY\n"
     ]
    }
   ],
   "source": [
    "assert C.DATABASE == C.DATABASE_POSTGRES\n",
    "assert C.NETWORK == C.NETWORK_TENDERLY\n",
    "assert C.PROVIDER == C.PROVIDER_TENDERLY"
   ]
  },
  {
   "cell_type": "code",
   "execution_count": 7,
   "id": "c3c11c40-b50c-4b24-834b-4e69b6dde1d8",
   "metadata": {},
   "outputs": [
    {
     "name": "stdout",
     "output_type": "stream",
     "text": [
      "[is_config_item] w3\n",
      "[is_config_item] BANCOR_ARBITRAGE_CONTRACT\n"
     ]
    },
    {
     "ename": "AttributeError",
     "evalue": "'Config' object has no attribute 'BANCOR_ARBITRAGE_CONTRACT'",
     "output_type": "error",
     "traceback": [
      "\u001b[0;31m---------------------------------------------------------------------------\u001b[0m",
      "\u001b[0;31mAttributeError\u001b[0m                            Traceback (most recent call last)",
      "\u001b[0;32m<ipython-input-7-64d5a818b7f2>\u001b[0m in \u001b[0;36m<module>\u001b[0;34m\u001b[0m\n\u001b[0;32m----> 1\u001b[0;31m \u001b[0mbot\u001b[0m \u001b[0;34m=\u001b[0m \u001b[0mBot\u001b[0m\u001b[0;34m(\u001b[0m\u001b[0mConfigObj\u001b[0m\u001b[0;34m=\u001b[0m\u001b[0mC\u001b[0m\u001b[0;34m)\u001b[0m\u001b[0;34m\u001b[0m\u001b[0;34m\u001b[0m\u001b[0m\n\u001b[0m",
      "\u001b[0;32m~/REPOES/Bancor/ArbBot/resources/NBTest/fastlane_bot/bot.py\u001b[0m in \u001b[0;36m__init__\u001b[0;34m(self, db, TxSubmitHandlerClass, TxReceiptHandlerClass, TxRouteHandlerClass, TxHelpersClass, ConfigObj, genesis_data, drop_tables, seed_pools, update_pools, usd_gas_limit, min_profit, polling_interval)\u001b[0m\n",
      "\u001b[0;32m~/REPOES/Bancor/ArbBot/resources/NBTest/fastlane_bot/bot.py\u001b[0m in \u001b[0;36m__post_init__\u001b[0;34m(self, genesis_data, drop_tables, seed_pools, update_pools)\u001b[0m\n\u001b[1;32m    211\u001b[0m \u001b[0;34m\u001b[0m\u001b[0m\n\u001b[1;32m    212\u001b[0m     \u001b[0;32mdef\u001b[0m \u001b[0m__post_init__\u001b[0m\u001b[0;34m(\u001b[0m\u001b[0mself\u001b[0m\u001b[0;34m,\u001b[0m \u001b[0mgenesis_data\u001b[0m\u001b[0;34m=\u001b[0m\u001b[0;32mNone\u001b[0m\u001b[0;34m,\u001b[0m \u001b[0mdrop_tables\u001b[0m\u001b[0;34m=\u001b[0m\u001b[0;32mNone\u001b[0m\u001b[0;34m,\u001b[0m \u001b[0mseed_pools\u001b[0m\u001b[0;34m=\u001b[0m\u001b[0;32mNone\u001b[0m\u001b[0;34m,\u001b[0m \u001b[0mupdate_pools\u001b[0m\u001b[0;34m=\u001b[0m\u001b[0;32mNone\u001b[0m\u001b[0;34m)\u001b[0m\u001b[0;34m:\u001b[0m\u001b[0;34m\u001b[0m\u001b[0;34m\u001b[0m\u001b[0m\n\u001b[0;32m--> 213\u001b[0;31m         \u001b[0msuper\u001b[0m\u001b[0;34m(\u001b[0m\u001b[0;34m)\u001b[0m\u001b[0;34m.\u001b[0m\u001b[0m__post_init__\u001b[0m\u001b[0;34m(\u001b[0m\u001b[0mgenesis_data\u001b[0m\u001b[0;34m=\u001b[0m\u001b[0mgenesis_data\u001b[0m\u001b[0;34m,\u001b[0m \u001b[0mdrop_tables\u001b[0m\u001b[0;34m=\u001b[0m\u001b[0mdrop_tables\u001b[0m\u001b[0;34m,\u001b[0m \u001b[0mseed_pools\u001b[0m\u001b[0;34m=\u001b[0m\u001b[0mseed_pools\u001b[0m\u001b[0;34m,\u001b[0m \u001b[0mupdate_pools\u001b[0m\u001b[0;34m=\u001b[0m\u001b[0mupdate_pools\u001b[0m\u001b[0;34m)\u001b[0m\u001b[0;34m\u001b[0m\u001b[0;34m\u001b[0m\u001b[0m\n\u001b[0m\u001b[1;32m    214\u001b[0m \u001b[0;34m\u001b[0m\u001b[0m\n\u001b[1;32m    215\u001b[0m     def _order_and_scale_trade_instruction_dcts(self,\n",
      "\u001b[0;32m~/REPOES/Bancor/ArbBot/resources/NBTest/fastlane_bot/bot.py\u001b[0m in \u001b[0;36m__post_init__\u001b[0;34m(self, genesis_data, drop_tables, seed_pools, update_pools)\u001b[0m\n\u001b[1;32m    121\u001b[0m \u001b[0;34m\u001b[0m\u001b[0m\n\u001b[1;32m    122\u001b[0m         \u001b[0;32mif\u001b[0m \u001b[0mself\u001b[0m\u001b[0;34m.\u001b[0m\u001b[0mTxSubmitHandlerClass\u001b[0m \u001b[0;32mis\u001b[0m \u001b[0;32mNone\u001b[0m\u001b[0;34m:\u001b[0m\u001b[0;34m\u001b[0m\u001b[0;34m\u001b[0m\u001b[0m\n\u001b[0;32m--> 123\u001b[0;31m             \u001b[0mself\u001b[0m\u001b[0;34m.\u001b[0m\u001b[0mTxSubmitHandlerClass\u001b[0m \u001b[0;34m=\u001b[0m \u001b[0mTxSubmitHandler\u001b[0m\u001b[0;34m(\u001b[0m\u001b[0mConfigObj\u001b[0m\u001b[0;34m=\u001b[0m\u001b[0mself\u001b[0m\u001b[0;34m.\u001b[0m\u001b[0mConfigObj\u001b[0m\u001b[0;34m)\u001b[0m\u001b[0;34m\u001b[0m\u001b[0;34m\u001b[0m\u001b[0m\n\u001b[0m\u001b[1;32m    124\u001b[0m         \u001b[0;32massert\u001b[0m \u001b[0missubclass\u001b[0m\u001b[0;34m(\u001b[0m\u001b[0mself\u001b[0m\u001b[0;34m.\u001b[0m\u001b[0mTxSubmitHandlerClass\u001b[0m\u001b[0;34m.\u001b[0m\u001b[0m__class__\u001b[0m\u001b[0;34m,\u001b[0m \u001b[0mTxSubmitHandlerBase\u001b[0m\u001b[0;34m)\u001b[0m\u001b[0;34m,\u001b[0m \u001b[0;34mf\"TxSubmitHandlerClass not derived from TxSubmitHandlerBase {self.TxSubmitHandlerClass.__class__}\"\u001b[0m\u001b[0;34m\u001b[0m\u001b[0;34m\u001b[0m\u001b[0m\n\u001b[1;32m    125\u001b[0m \u001b[0;34m\u001b[0m\u001b[0m\n",
      "\u001b[0;32m~/REPOES/Bancor/ArbBot/resources/NBTest/fastlane_bot/helpers/submithandler.py\u001b[0m in \u001b[0;36m__init__\u001b[0;34m(self, ConfigObj, route_struct, src_amount, src_address)\u001b[0m\n",
      "\u001b[0;32m~/REPOES/Bancor/ArbBot/resources/NBTest/fastlane_bot/helpers/submithandler.py\u001b[0m in \u001b[0;36m__post_init__\u001b[0;34m(self)\u001b[0m\n\u001b[1;32m     63\u001b[0m     \u001b[0;32mdef\u001b[0m \u001b[0m__post_init__\u001b[0m\u001b[0;34m(\u001b[0m\u001b[0mself\u001b[0m\u001b[0;34m)\u001b[0m\u001b[0;34m:\u001b[0m\u001b[0;34m\u001b[0m\u001b[0;34m\u001b[0m\u001b[0m\n\u001b[1;32m     64\u001b[0m         \u001b[0mself\u001b[0m\u001b[0;34m.\u001b[0m\u001b[0mw3\u001b[0m \u001b[0;34m=\u001b[0m \u001b[0mself\u001b[0m\u001b[0;34m.\u001b[0m\u001b[0mConfigObj\u001b[0m\u001b[0;34m.\u001b[0m\u001b[0mw3\u001b[0m\u001b[0;34m\u001b[0m\u001b[0;34m\u001b[0m\u001b[0m\n\u001b[0;32m---> 65\u001b[0;31m         \u001b[0mself\u001b[0m\u001b[0;34m.\u001b[0m\u001b[0marb_contract\u001b[0m \u001b[0;34m=\u001b[0m \u001b[0mself\u001b[0m\u001b[0;34m.\u001b[0m\u001b[0mConfigObj\u001b[0m\u001b[0;34m.\u001b[0m\u001b[0mBANCOR_ARBITRAGE_CONTRACT\u001b[0m\u001b[0;34m\u001b[0m\u001b[0;34m\u001b[0m\u001b[0m\n\u001b[0m\u001b[1;32m     66\u001b[0m         \u001b[0mself\u001b[0m\u001b[0;34m.\u001b[0m\u001b[0mbancor_network_info\u001b[0m \u001b[0;34m=\u001b[0m \u001b[0mself\u001b[0m\u001b[0;34m.\u001b[0m\u001b[0mConfigObj\u001b[0m\u001b[0;34m.\u001b[0m\u001b[0mBANCOR_NETWORK_INFO_CONTRACT\u001b[0m\u001b[0;34m\u001b[0m\u001b[0;34m\u001b[0m\u001b[0m\n\u001b[1;32m     67\u001b[0m         \u001b[0;31m# self.token_contract = Contract.from_abi(\u001b[0m\u001b[0;34m\u001b[0m\u001b[0;34m\u001b[0m\u001b[0;34m\u001b[0m\u001b[0m\n",
      "\u001b[0;32m~/REPOES/Bancor/ArbBot/resources/NBTest/fastlane_bot/config/config.py\u001b[0m in \u001b[0;36m__getattr__\u001b[0;34m(self, name)\u001b[0m\n\u001b[1;32m     52\u001b[0m         \"\"\"\n\u001b[1;32m     53\u001b[0m         \u001b[0;32mif\u001b[0m \u001b[0mself\u001b[0m\u001b[0;34m.\u001b[0m\u001b[0mis_config_item\u001b[0m\u001b[0;34m(\u001b[0m\u001b[0mname\u001b[0m\u001b[0;34m)\u001b[0m\u001b[0;34m:\u001b[0m\u001b[0;34m\u001b[0m\u001b[0;34m\u001b[0m\u001b[0m\n\u001b[0;32m---> 54\u001b[0;31m             \u001b[0;32mreturn\u001b[0m \u001b[0mself\u001b[0m\u001b[0;34m.\u001b[0m\u001b[0mget_attribute_from_config\u001b[0m\u001b[0;34m(\u001b[0m\u001b[0mname\u001b[0m\u001b[0;34m)\u001b[0m\u001b[0;34m\u001b[0m\u001b[0;34m\u001b[0m\u001b[0m\n\u001b[0m\u001b[1;32m     55\u001b[0m         \u001b[0;32mraise\u001b[0m \u001b[0mAttributeError\u001b[0m\u001b[0;34m(\u001b[0m\u001b[0;34mf\"'{self.__class__.__name__}' object has no attribute '{name}'\"\u001b[0m\u001b[0;34m)\u001b[0m\u001b[0;34m\u001b[0m\u001b[0;34m\u001b[0m\u001b[0m\n\u001b[1;32m     56\u001b[0m \u001b[0;34m\u001b[0m\u001b[0m\n",
      "\u001b[0;32m~/REPOES/Bancor/ArbBot/resources/NBTest/fastlane_bot/config/config.py\u001b[0m in \u001b[0;36mget_attribute_from_config\u001b[0;34m(self, name)\u001b[0m\n\u001b[1;32m     45\u001b[0m             \u001b[0;32mif\u001b[0m \u001b[0mhasattr\u001b[0m\u001b[0;34m(\u001b[0m\u001b[0mobj\u001b[0m\u001b[0;34m,\u001b[0m \u001b[0mname\u001b[0m\u001b[0;34m)\u001b[0m\u001b[0;34m:\u001b[0m\u001b[0;34m\u001b[0m\u001b[0;34m\u001b[0m\u001b[0m\n\u001b[1;32m     46\u001b[0m                 \u001b[0;32mreturn\u001b[0m \u001b[0mgetattr\u001b[0m\u001b[0;34m(\u001b[0m\u001b[0mobj\u001b[0m\u001b[0;34m,\u001b[0m \u001b[0mname\u001b[0m\u001b[0;34m)\u001b[0m\u001b[0;34m\u001b[0m\u001b[0;34m\u001b[0m\u001b[0m\n\u001b[0;32m---> 47\u001b[0;31m         \u001b[0;32mraise\u001b[0m \u001b[0mAttributeError\u001b[0m\u001b[0;34m(\u001b[0m\u001b[0;34mf\"'{self.__class__.__name__}' object has no attribute '{name}'\"\u001b[0m\u001b[0;34m)\u001b[0m\u001b[0;34m\u001b[0m\u001b[0;34m\u001b[0m\u001b[0m\n\u001b[0m\u001b[1;32m     48\u001b[0m \u001b[0;34m\u001b[0m\u001b[0m\n\u001b[1;32m     49\u001b[0m     \u001b[0;32mdef\u001b[0m \u001b[0m__getattr__\u001b[0m\u001b[0;34m(\u001b[0m\u001b[0mself\u001b[0m\u001b[0;34m,\u001b[0m \u001b[0mname\u001b[0m\u001b[0;34m:\u001b[0m \u001b[0mstr\u001b[0m\u001b[0;34m)\u001b[0m\u001b[0;34m:\u001b[0m\u001b[0;34m\u001b[0m\u001b[0;34m\u001b[0m\u001b[0m\n",
      "\u001b[0;31mAttributeError\u001b[0m: 'Config' object has no attribute 'BANCOR_ARBITRAGE_CONTRACT'"
     ]
    }
   ],
   "source": [
    "bot = Bot(ConfigObj=C)"
   ]
  },
  {
   "cell_type": "code",
   "execution_count": null,
   "id": "d5b8c68d-b001-4f6e-a6e2-21355b42fcf7",
   "metadata": {},
   "outputs": [],
   "source": []
  }
 ],
 "metadata": {
  "jupytext": {
   "encoding": "# -*- coding: utf-8 -*-",
   "formats": "ipynb,py:light"
  },
  "kernelspec": {
   "display_name": "Python 3",
   "language": "python",
   "name": "python3"
  },
  "language_info": {
   "codemirror_mode": {
    "name": "ipython",
    "version": 3
   },
   "file_extension": ".py",
   "mimetype": "text/x-python",
   "name": "python",
   "nbconvert_exporter": "python",
   "pygments_lexer": "ipython3",
   "version": "3.8.8"
  }
 },
 "nbformat": 4,
 "nbformat_minor": 5
}

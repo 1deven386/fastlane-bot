{
 "cells": [
  {
   "cell_type": "code",
   "execution_count": 1,
   "id": "6b800d59",
   "metadata": {
    "ExecuteTime": {
     "end_time": "2023-09-20T14:03:06.090221Z",
     "start_time": "2023-09-20T14:03:02.984869Z"
    }
   },
   "outputs": [
    {
     "name": "stdout",
     "output_type": "stream",
     "text": [
      "ConstantProductCurve v3.2 (15/Sep/2023)\n",
      "CarbonBot v3-b2.2 (20/June/2023)\n",
      "UniswapV2 v0.0.2 (2023-08-27)\n",
      "UniswapV3 v0.0.2 (2023-08-27)\n",
      "SushiswapV2 v0.0.2 (2023-08-27)\n",
      "CarbonV1 v0.0.2 (2023-08-27)\n",
      "BancorV3 v0.0.2 (2023-08-27)\n",
      "imported m, np, pd, plt, os, sys, decimal; defined iseq, raises, require\n",
      "Version = 3-b2.2 [requirements >= 3.0 is met]\n"
     ]
    }
   ],
   "source": [
    "from unittest.mock import Mock, patch, call\n",
    "\n",
    "import brownie\n",
    "import pytest\n",
    "from unittest.mock import MagicMock\n",
    "from brownie import multicall as brownie_multicall\n",
    "\n",
    "from fastlane_bot import Bot, Config\n",
    "from fastlane_bot.events.exchanges import UniswapV2, UniswapV3, SushiswapV2, CarbonV1, BancorV3\n",
    "from fastlane_bot.events.managers.manager import Manager\n",
    "Base = None\n",
    "from fastlane_bot.tools.cpc import ConstantProductCurve as CPC\n",
    "\n",
    "print(\"{0.__name__} v{0.__VERSION__} ({0.__DATE__})\".format(CPC))\n",
    "print(\"{0.__name__} v{0.__VERSION__} ({0.__DATE__})\".format(Bot))\n",
    "print(\"{0.__name__} v{0.__VERSION__} ({0.__DATE__})\".format(UniswapV2))\n",
    "print(\"{0.__name__} v{0.__VERSION__} ({0.__DATE__})\".format(UniswapV3))\n",
    "print(\"{0.__name__} v{0.__VERSION__} ({0.__DATE__})\".format(SushiswapV2))\n",
    "print(\"{0.__name__} v{0.__VERSION__} ({0.__DATE__})\".format(CarbonV1))\n",
    "print(\"{0.__name__} v{0.__VERSION__} ({0.__DATE__})\".format(BancorV3))\n",
    "from fastlane_bot.testing import *\n",
    "\n",
    "#plt.style.use('seaborn-dark')\n",
    "plt.rcParams['figure.figsize'] = [12,6]\n",
    "from fastlane_bot import __VERSION__\n",
    "require(\"3.0\", __VERSION__)\n"
   ]
  },
  {
   "cell_type": "markdown",
   "id": "2776105f",
   "metadata": {},
   "source": []
  },
  {
   "cell_type": "code",
   "execution_count": 2,
   "id": "80ddef38",
   "metadata": {
    "ExecuteTime": {
     "end_time": "2023-09-20T14:03:06.128079Z",
     "start_time": "2023-09-20T14:03:06.090785Z"
    }
   },
   "outputs": [],
   "source": [
    "import json\n",
    "\n",
    "with open(\"fastlane_bot/data/event_test_data.json\", \"r\") as f:\n",
    "    event_data = json.load(f)\n",
    "\n",
    "with open(\"fastlane_bot/data/test_pool_data.json\", \"r\") as f:\n",
    "    pool_data = json.load(f)"
   ]
  },
  {
   "cell_type": "code",
   "execution_count": 3,
   "id": "7919999a",
   "metadata": {
    "ExecuteTime": {
     "end_time": "2023-09-20T14:03:08.151919Z",
     "start_time": "2023-09-20T14:03:06.113589Z"
    }
   },
   "outputs": [
    {
     "name": "stderr",
     "output_type": "stream",
     "text": [
      "2023-09-20 07:03:06,113 [fastlane:INFO] - \n",
      "2023-09-20 07:03:06,113 [fastlane:INFO] - **********************************************\n",
      "2023-09-20 07:03:06,114 [fastlane:INFO] - The logging path is set to: logs/20230920-070306/bot.log\n",
      "2023-09-20 07:03:06,114 [fastlane:INFO] - **********************************************\n",
      "2023-09-20 07:03:06,114 [fastlane:INFO] - \n",
      "2023-09-20 07:03:07,076 [fastlane:INFO] - Retrieved 169 carbon pairs from contract\n"
     ]
    }
   ],
   "source": [
    "\n",
    "# Create mock instances for all required parameters\n",
    "cfg = Config.new(config=Config.CONFIG_MAINNET)\n",
    "\n",
    "# create manager instance for all tests\n",
    "manager = Manager(cfg.w3, cfg, pool_data, 20, SUPPORTED_EXCHANGES=['bancor_v3', 'carbon_v1', 'uniswap_v2', 'uniswap_v3'])\n"
   ]
  },
  {
   "cell_type": "markdown",
   "id": "6006eed4-a1e7-4d65-831e-98722b35a0ec",
   "metadata": {},
   "source": [
    "## test_update_from_event_uniswap_v2"
   ]
  },
  {
   "cell_type": "code",
   "execution_count": 4,
   "id": "584c8056",
   "metadata": {
    "ExecuteTime": {
     "end_time": "2023-09-20T14:03:08.158339Z",
     "start_time": "2023-09-20T14:03:08.156731Z"
    }
   },
   "outputs": [],
   "source": [
    "event = event_data['uniswap_v2_event']\n",
    "\n",
    "assert event['args']['reserve0'] != [pool['tkn0_balance'] for pool in manager.pool_data if pool['address'] == event['address']][0]\n",
    "\n",
    "manager.update_from_event(event)\n",
    "\n",
    "assert event['address'] in [pool['address'] for pool in manager.pool_data]\n",
    "assert event['args']['reserve0'] == [pool['tkn0_balance'] for pool in manager.pool_data if pool['address'] == event['address']][0]"
   ]
  },
  {
   "cell_type": "markdown",
   "id": "aa01b503",
   "metadata": {},
   "source": [
    "## test_update_from_event_uniswap_v3"
   ]
  },
  {
   "cell_type": "code",
   "execution_count": 5,
   "id": "2baa6f73",
   "metadata": {
    "ExecuteTime": {
     "end_time": "2023-09-20T14:03:08.164064Z",
     "start_time": "2023-09-20T14:03:08.162595Z"
    }
   },
   "outputs": [],
   "source": [
    "event = event_data['uniswap_v3_event']\n",
    "\n",
    "assert event['args']['liquidity'] != [pool['liquidity'] for pool in manager.pool_data if pool['address'] == event['address']][0]\n",
    "\n",
    "manager.update_from_event(event)\n",
    "\n",
    "assert event['address'] in [pool['address'] for pool in manager.pool_data]\n",
    "assert event['args']['liquidity'] == [pool['liquidity'] for pool in manager.pool_data if pool['address'] == event['address']][0]"
   ]
  },
  {
   "cell_type": "markdown",
   "id": "c1f8f821",
   "metadata": {},
   "source": []
  },
  {
   "cell_type": "markdown",
   "id": "b14ead21",
   "metadata": {},
   "source": [
    "## test_update_from_event_carbon_v1_update"
   ]
  },
  {
   "cell_type": "code",
   "execution_count": 6,
   "id": "71334cab",
   "metadata": {
    "ExecuteTime": {
     "end_time": "2023-09-20T14:03:08.800682Z",
     "start_time": "2023-09-20T14:03:08.166659Z"
    }
   },
   "outputs": [],
   "source": [
    "event_create_for_update = event_data['carbon_v1_event_create_for_update']\n",
    "event = event_data['carbon_v1_event_update']\n",
    "\n",
    "manager.update_from_event(event_create_for_update)\n",
    "assert event['args']['order0'][0] != [pool['y_0'] for pool in manager.pool_data if pool['cid'] == event['args']['id']][0]\n",
    "\n",
    "manager.update_from_event(event)\n",
    "\n",
    "assert event['args']['order0'][0] == [pool['y_0'] for pool in manager.pool_data if pool['cid'] == event['args']['id']][0]"
   ]
  },
  {
   "cell_type": "markdown",
   "id": "a34a2862",
   "metadata": {},
   "source": [
    "## test_update_from_event_carbon_v1_create\n"
   ]
  },
  {
   "cell_type": "code",
   "execution_count": 7,
   "id": "71d67e1c",
   "metadata": {
    "ExecuteTime": {
     "end_time": "2023-09-20T14:03:08.820959Z",
     "start_time": "2023-09-20T14:03:08.805835Z"
    }
   },
   "outputs": [],
   "source": [
    "event = event_data['carbon_v1_event_create']\n",
    "manager.pool_data = [pool for pool in manager.pool_data if pool['cid'] != event['args']['id']]\n",
    "assert event['args']['id'] not in [pool['cid'] for pool in manager.pool_data]\n",
    "\n",
    "manager.update_from_event(event)\n",
    "\n",
    "assert event['args']['id'] in [pool['cid'] for pool in manager.pool_data]"
   ]
  },
  {
   "cell_type": "markdown",
   "id": "8d818585",
   "metadata": {},
   "source": [
    "## test_update_from_event_carbon_v1_delete"
   ]
  },
  {
   "cell_type": "code",
   "execution_count": 8,
   "id": "452029c9",
   "metadata": {
    "ExecuteTime": {
     "end_time": "2023-09-20T14:03:08.838302Z",
     "start_time": "2023-09-20T14:03:08.825262Z"
    }
   },
   "outputs": [],
   "source": [
    "event = event_data['carbon_v1_event_create']\n",
    "manager.pool_data = [pool for pool in manager.pool_data if pool['cid'] != event['args']['id']]\n",
    "assert event['args']['id'] not in [pool['cid'] for pool in manager.pool_data]\n",
    "\n",
    "manager.update_from_event(event)\n",
    "\n",
    "assert event['args']['id'] in [pool['cid'] for pool in manager.pool_data]\n",
    "\n",
    "event['event'] = 'StrategyDeleted'\n",
    "\n",
    "manager.update_from_event(event)\n",
    "\n",
    "assert event['args']['id'] not in [pool['cid'] for pool in manager.pool_data]"
   ]
  },
  {
   "cell_type": "markdown",
   "id": "1cfa616d",
   "metadata": {},
   "source": []
  }
 ],
 "metadata": {
  "jupytext": {
   "formats": "ipynb,py:light"
  },
  "kernelspec": {
   "display_name": "Python 3",
   "language": "python",
   "name": "python3"
  },
  "language_info": {
   "codemirror_mode": {
    "name": "ipython",
    "version": 3
   },
   "file_extension": ".py",
   "mimetype": "text/x-python",
   "name": "python",
   "nbconvert_exporter": "python",
   "pygments_lexer": "ipython3",
   "version": "3.8.8"
  }
 },
 "nbformat": 4,
 "nbformat_minor": 5
}

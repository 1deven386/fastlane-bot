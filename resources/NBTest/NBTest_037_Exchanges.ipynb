{
 "cells": [
  {
   "cell_type": "code",
   "execution_count": 1,
   "id": "c539b26e",
   "metadata": {
    "ExecuteTime": {
     "end_time": "2023-09-18T11:44:46.057449Z",
     "start_time": "2023-09-18T11:44:42.714700Z"
    }
   },
   "outputs": [
    {
     "name": "stdout",
     "output_type": "stream",
     "text": [
      "ConstantProductCurve v3.3 (21/Sep/2023)\n",
      "CarbonBot v3-b2.2 (20/June/2023)\n",
      "UniswapV2 v0.0.2 (2023-08-27)\n",
      "UniswapV3 v0.0.2 (2023-08-27)\n",
      "SushiswapV2 v0.0.2 (2023-08-27)\n",
      "CarbonV1 v0.0.2 (2023-08-27)\n",
      "BancorV3 v0.0.2 (2023-08-27)\n",
      "BancorV2 v0.0.2 (2023-08-27)\n",
      "Balancer v0.0.2 (2023-08-27)\n",
      "imported m, np, pd, plt, os, sys, decimal; defined iseq, raises, require\n",
      "Version = 3-b2.2 [requirements >= 3.0 is met]\n"
     ]
    }
   ],
   "source": [
    "import json\n",
    "\n",
    "from fastlane_bot import Bot\n",
    "from fastlane_bot.events.exchanges.balancer import Balancer\n",
    "from fastlane_bot.tools.cpc import ConstantProductCurve as CPC\n",
    "from fastlane_bot.events.exchanges import UniswapV2, UniswapV3, SushiswapV2, CarbonV1, BancorV3, BancorV2, BancorPol\n",
    "from fastlane_bot.data.abi import UNISWAP_V2_POOL_ABI, UNISWAP_V3_POOL_ABI, SUSHISWAP_POOLS_ABI, \\\n",
    "    BANCOR_V3_POOL_COLLECTION_ABI, \\\n",
    "    CARBON_CONTROLLER_ABI, BANCOR_V2_CONVERTER_ABI, BANCOR_POL_ABI, BALANCER_VAULT_ABI\n",
    "\n",
    "from unittest.mock import Mock\n",
    "import pytest\n",
    "\n",
    "print(\"{0.__name__} v{0.__VERSION__} ({0.__DATE__})\".format(CPC))\n",
    "print(\"{0.__name__} v{0.__VERSION__} ({0.__DATE__})\".format(Bot))\n",
    "print(\"{0.__name__} v{0.__VERSION__} ({0.__DATE__})\".format(UniswapV2))\n",
    "print(\"{0.__name__} v{0.__VERSION__} ({0.__DATE__})\".format(UniswapV3))\n",
    "print(\"{0.__name__} v{0.__VERSION__} ({0.__DATE__})\".format(SushiswapV2))\n",
    "print(\"{0.__name__} v{0.__VERSION__} ({0.__DATE__})\".format(CarbonV1))\n",
    "print(\"{0.__name__} v{0.__VERSION__} ({0.__DATE__})\".format(BancorV3))\n",
    "print(\"{0.__name__} v{0.__VERSION__} ({0.__DATE__})\".format(BancorV2))\n",
    "print(\"{0.__name__} v{0.__VERSION__} ({0.__DATE__})\".format(Balancer))\n",
    "\n",
    "\n",
    "from fastlane_bot.testing import *\n",
    "\n",
    "#plt.style.use('seaborn-dark')\n",
    "plt.rcParams['figure.figsize'] = [12,6]\n",
    "from fastlane_bot import __VERSION__\n",
    "require(\"3.0\", __VERSION__)"
   ]
  },
  {
   "cell_type": "code",
   "execution_count": 2,
   "id": "9c8a3b4d",
   "metadata": {
    "ExecuteTime": {
     "end_time": "2023-09-18T11:44:46.065015Z",
     "start_time": "2023-09-18T11:44:46.058343Z"
    }
   },
   "outputs": [],
   "source": [
    "with open('fastlane_bot/data/event_test_data.json', 'r') as f:\n",
    "    setup_data = json.load(f)"
   ]
  },
  {
   "cell_type": "code",
   "execution_count": 14,
   "id": "cbe1ab01",
   "metadata": {
    "ExecuteTime": {
     "end_time": "2023-09-18T11:44:46.065135Z",
     "start_time": "2023-09-18T11:44:46.063098Z"
    }
   },
   "outputs": [],
   "source": [
    "mocked_contract = Mock()\n",
    "mocked_contract.functions.token0.return_value.call.return_value = 'token0'\n",
    "mocked_contract.functions.token1.return_value.call.return_value = 'token1'\n",
    "mocked_contract.functions._token0.return_value.call.return_value = 'token0'\n",
    "mocked_contract.functions._token1.return_value.call.return_value = 'token1'\n",
    "mocked_contract.functions.conversionFee.return_value.call.return_value = 3000\n",
    "mocked_contract.functions.fee.return_value.call.return_value = 3000\n",
    "mocked_contract.functions.tradingFeePPM.return_value.call.return_value = 2000\n",
    "mocked_contract.functions.getSwapFeePercentage.call.return_value = \"10000000000000000\" or 0.01\n",
    "#mocked_contract.functions.getPoolTokens().call().return_value = "
   ]
  },
  {
   "cell_type": "markdown",
   "id": "5da5900a",
   "metadata": {},
   "source": [
    "## test_balancer_exchange"
   ]
  },
  {
   "cell_type": "code",
   "execution_count": 15,
   "id": "2a6f1bfd",
   "metadata": {},
   "outputs": [
    {
     "ename": "TypeError",
     "evalue": "float() argument must be a string or a real number, not 'Mock'",
     "output_type": "error",
     "traceback": [
      "\u001b[1;31m---------------------------------------------------------------------------\u001b[0m",
      "\u001b[1;31mTypeError\u001b[0m                                 Traceback (most recent call last)",
      "\u001b[1;32mc:\\Users\\Kveen\\PycharmProjects\\fastlane-bot\\resources\\NBTest\\NBTest_037_Exchanges.ipynb Cell 5\u001b[0m line \u001b[0;36m3\n\u001b[0;32m      <a href='vscode-notebook-cell:/c%3A/Users/Kveen/PycharmProjects/fastlane-bot/resources/NBTest/NBTest_037_Exchanges.ipynb#Y105sZmlsZQ%3D%3D?line=0'>1</a>\u001b[0m balancer_exchange \u001b[39m=\u001b[39m Balancer()\n\u001b[0;32m      <a href='vscode-notebook-cell:/c%3A/Users/Kveen/PycharmProjects/fastlane-bot/resources/NBTest/NBTest_037_Exchanges.ipynb#Y105sZmlsZQ%3D%3D?line=1'>2</a>\u001b[0m \u001b[39massert\u001b[39;00m (balancer_exchange\u001b[39m.\u001b[39mget_abi() \u001b[39m==\u001b[39m BALANCER_VAULT_ABI)\n\u001b[1;32m----> <a href='vscode-notebook-cell:/c%3A/Users/Kveen/PycharmProjects/fastlane-bot/resources/NBTest/NBTest_037_Exchanges.ipynb#Y105sZmlsZQ%3D%3D?line=2'>3</a>\u001b[0m \u001b[39mprint\u001b[39m(balancer_exchange\u001b[39m.\u001b[39;49mget_fee(\u001b[39m'\u001b[39;49m\u001b[39m'\u001b[39;49m, mocked_contract))\n\u001b[0;32m      <a href='vscode-notebook-cell:/c%3A/Users/Kveen/PycharmProjects/fastlane-bot/resources/NBTest/NBTest_037_Exchanges.ipynb#Y105sZmlsZQ%3D%3D?line=3'>4</a>\u001b[0m \u001b[39massert\u001b[39;00m (balancer_exchange\u001b[39m.\u001b[39mget_fee(\u001b[39m'\u001b[39m\u001b[39m'\u001b[39m, mocked_contract) \u001b[39m==\u001b[39m (\u001b[39m\"\u001b[39m\u001b[39m10000000000000000\u001b[39m\u001b[39m\"\u001b[39m, \u001b[39m0.01\u001b[39m))\n\u001b[0;32m      <a href='vscode-notebook-cell:/c%3A/Users/Kveen/PycharmProjects/fastlane-bot/resources/NBTest/NBTest_037_Exchanges.ipynb#Y105sZmlsZQ%3D%3D?line=4'>5</a>\u001b[0m \u001b[39m#assert (balancer_exchange.get_tokens('', mocked_contract, {}) == mocked_contract.functions.token0().call())\u001b[39;00m\n",
      "File \u001b[1;32mc:\\Users\\Kveen\\PycharmProjects\\fastlane-bot\\resources\\NBTest\\fastlane_bot\\events\\exchanges\\balancer.py:46\u001b[0m, in \u001b[0;36mBalancer.get_fee\u001b[1;34m(self, pool_id, contract)\u001b[0m\n\u001b[0;32m     39\u001b[0m \u001b[39mdef\u001b[39;00m \u001b[39mget_fee\u001b[39m(\u001b[39mself\u001b[39m, pool_id: \u001b[39mstr\u001b[39m, contract: Contract) \u001b[39m-\u001b[39m\u001b[39m>\u001b[39m Tuple[\u001b[39mstr\u001b[39m, \u001b[39mfloat\u001b[39m]:\n\u001b[0;32m     40\u001b[0m     pool \u001b[39m=\u001b[39m \u001b[39mself\u001b[39m\u001b[39m.\u001b[39mget_pool(pool_id)\n\u001b[0;32m     41\u001b[0m     fee, fee_float \u001b[39m=\u001b[39m (\n\u001b[0;32m     42\u001b[0m         (pool\u001b[39m.\u001b[39mstate[\u001b[39m\"\u001b[39m\u001b[39mfee\u001b[39m\u001b[39m\"\u001b[39m], pool\u001b[39m.\u001b[39mstate[\u001b[39m\"\u001b[39m\u001b[39mfee_float\u001b[39m\u001b[39m\"\u001b[39m])\n\u001b[0;32m     43\u001b[0m         \u001b[39mif\u001b[39;00m pool\n\u001b[0;32m     44\u001b[0m         \u001b[39melse\u001b[39;00m (\n\u001b[0;32m     45\u001b[0m             contract\u001b[39m.\u001b[39mfunctions\u001b[39m.\u001b[39mgetSwapFeePercentage()\u001b[39m.\u001b[39mcall(),\n\u001b[1;32m---> 46\u001b[0m             \u001b[39mfloat\u001b[39;49m(contract\u001b[39m.\u001b[39;49mcaller\u001b[39m.\u001b[39;49mgetSwapFeePercentage()) \u001b[39m/\u001b[39m \u001b[39m1e18\u001b[39m,\n\u001b[0;32m     47\u001b[0m         )\n\u001b[0;32m     48\u001b[0m     )\n\u001b[0;32m     49\u001b[0m     \u001b[39mreturn\u001b[39;00m fee, fee_float\n",
      "\u001b[1;31mTypeError\u001b[0m: float() argument must be a string or a real number, not 'Mock'"
     ]
    }
   ],
   "source": [
    "balancer_exchange = Balancer()\n",
    "assert (balancer_exchange.get_abi() == BALANCER_VAULT_ABI)\n",
    "#assert (balancer_exchange.get_fee('', mocked_contract) == (\"10000000000000000\", 0.01))\n",
    "#assert (balancer_exchange.get_tokens('', mocked_contract, {}) == mocked_contract.functions.token0().call())"
   ]
  },
  {
   "cell_type": "markdown",
   "id": "0d05e8f8",
   "metadata": {},
   "source": [
    "## test_uniswap_v2_exchange"
   ]
  },
  {
   "cell_type": "code",
   "execution_count": 16,
   "id": "e2347c4c",
   "metadata": {
    "ExecuteTime": {
     "end_time": "2023-09-18T11:44:46.068217Z",
     "start_time": "2023-09-18T11:44:46.065484Z"
    }
   },
   "outputs": [],
   "source": [
    "uniswap_v2_exchange = UniswapV2()\n",
    "assert (uniswap_v2_exchange.get_abi() == UNISWAP_V2_POOL_ABI)\n",
    "assert (uniswap_v2_exchange.get_fee('', mocked_contract) == ('0.003', 0.003))\n",
    "assert (uniswap_v2_exchange.get_tkn0('', mocked_contract, {}) == mocked_contract.functions.token0().call())"
   ]
  },
  {
   "cell_type": "markdown",
   "id": "0794f15a",
   "metadata": {},
   "source": [
    "## test_uniswap_v3_exchange"
   ]
  },
  {
   "cell_type": "code",
   "execution_count": null,
   "id": "43c80791",
   "metadata": {
    "ExecuteTime": {
     "end_time": "2023-09-18T11:44:46.071891Z",
     "start_time": "2023-09-18T11:44:46.070149Z"
    }
   },
   "outputs": [],
   "source": [
    "uniswap_v3_exchange = UniswapV3()\n",
    "assert (uniswap_v3_exchange.get_abi() == UNISWAP_V3_POOL_ABI)\n",
    "assert (uniswap_v3_exchange.get_fee('', mocked_contract) == (mocked_contract.functions.fee().call(), (float(mocked_contract.functions.fee().call()) / 1000000.0)))\n",
    "assert (uniswap_v3_exchange.get_tkn0('', mocked_contract, {}) == mocked_contract.functions.token0().call())"
   ]
  },
  {
   "cell_type": "markdown",
   "id": "dfa7e9fc",
   "metadata": {},
   "source": [
    "## test_sushiswap_v2_exchange"
   ]
  },
  {
   "cell_type": "code",
   "execution_count": null,
   "id": "1765d5ff",
   "metadata": {
    "ExecuteTime": {
     "end_time": "2023-09-18T11:44:46.074214Z",
     "start_time": "2023-09-18T11:44:46.072551Z"
    }
   },
   "outputs": [],
   "source": [
    "sushiswap_v2_exchange = SushiswapV2()\n",
    "assert (sushiswap_v2_exchange.get_abi() == SUSHISWAP_POOLS_ABI)\n",
    "assert (sushiswap_v2_exchange.get_fee('', mocked_contract) == ('0.003', 0.003))\n",
    "assert (sushiswap_v2_exchange.get_tkn0('', mocked_contract, {}) == mocked_contract.functions.token0().call())"
   ]
  },
  {
   "cell_type": "markdown",
   "id": "5902a731",
   "metadata": {},
   "source": [
    "## test_bancor_v3_exchange"
   ]
  },
  {
   "cell_type": "code",
   "execution_count": null,
   "id": "05e931be",
   "metadata": {
    "ExecuteTime": {
     "end_time": "2023-09-18T11:44:46.076627Z",
     "start_time": "2023-09-18T11:44:46.074904Z"
    }
   },
   "outputs": [],
   "source": [
    "bancor_v3_exchange = BancorV3()\n",
    "assert (bancor_v3_exchange.get_abi() == BANCOR_V3_POOL_COLLECTION_ABI)\n",
    "assert (bancor_v3_exchange.get_fee('', mocked_contract) == ('0.000', 0.0))\n",
    "assert (bancor_v3_exchange.get_tkn0('', mocked_contract, setup_data['bancor_v3_event']) == bancor_v3_exchange.BNT_ADDRESS)"
   ]
  },
  {
   "cell_type": "markdown",
   "id": "f32659a910430349",
   "metadata": {
    "collapsed": false
   },
   "source": [
    "## test_bancor_v2_exchange"
   ]
  },
  {
   "cell_type": "code",
   "execution_count": null,
   "id": "ed223a660ebc7420",
   "metadata": {
    "ExecuteTime": {
     "end_time": "2023-09-18T11:44:46.078586Z",
     "start_time": "2023-09-18T11:44:46.077374Z"
    },
    "collapsed": false
   },
   "outputs": [],
   "source": [
    "bancor_v2_exchange = BancorV2()\n",
    "assert (bancor_v2_exchange.get_abi() == BANCOR_V2_CONVERTER_ABI)\n",
    "assert (bancor_v2_exchange.get_fee('', mocked_contract) == (3000, 0.003))\n",
    "assert (bancor_v2_exchange.get_tkn0('', mocked_contract, setup_data['bancor_v2_event']) == '0xEeeeeEeeeEeEeeEeEeEeeEEEeeeeEeeeeeeeEEeE')"
   ]
  },
  {
   "cell_type": "markdown",
   "id": "e94d1f0f",
   "metadata": {},
   "source": [
    "## test_carbon_v1_exchange_update"
   ]
  },
  {
   "cell_type": "code",
   "execution_count": null,
   "id": "69f70b07",
   "metadata": {
    "ExecuteTime": {
     "end_time": "2023-09-18T11:44:46.096977Z",
     "start_time": "2023-09-18T11:44:46.079834Z"
    }
   },
   "outputs": [],
   "source": [
    "carbon_v1_exchange = CarbonV1()\n",
    "assert (carbon_v1_exchange.get_abi() == CARBON_CONTROLLER_ABI)\n",
    "assert (carbon_v1_exchange.get_fee('', mocked_contract) == ('2000', 0.002))\n",
    "assert (carbon_v1_exchange.get_tkn0('', mocked_contract, setup_data['carbon_v1_event_update']) == setup_data['carbon_v1_event_update']['args']['token0'])"
   ]
  },
  {
   "cell_type": "markdown",
   "id": "e8bcfdbb",
   "metadata": {},
   "source": [
    "## test_carbon_v1_exchange_create"
   ]
  },
  {
   "cell_type": "code",
   "execution_count": null,
   "id": "62910e09",
   "metadata": {
    "ExecuteTime": {
     "end_time": "2023-09-18T11:44:46.100248Z",
     "start_time": "2023-09-18T11:44:46.082153Z"
    }
   },
   "outputs": [],
   "source": [
    "carbon_v1_exchange = CarbonV1()\n",
    "assert (carbon_v1_exchange.get_abi() == CARBON_CONTROLLER_ABI)\n",
    "assert (carbon_v1_exchange.get_fee('', mocked_contract) == ('2000', 0.002))\n",
    "assert (carbon_v1_exchange.get_tkn0('', mocked_contract, setup_data['carbon_v1_event_create']) == setup_data['carbon_v1_event_create']['args']['token0'])"
   ]
  },
  {
   "cell_type": "markdown",
   "id": "978506b0",
   "metadata": {},
   "source": [
    "## test_carbon_v1_exchange_delete"
   ]
  },
  {
   "cell_type": "code",
   "execution_count": null,
   "id": "cce5df61",
   "metadata": {
    "ExecuteTime": {
     "end_time": "2023-09-18T11:44:46.100406Z",
     "start_time": "2023-09-18T11:44:46.084389Z"
    }
   },
   "outputs": [],
   "source": [
    "carbon_v1_exchange = CarbonV1()\n",
    "assert (carbon_v1_exchange.get_abi() == CARBON_CONTROLLER_ABI)\n",
    "cid = setup_data['carbon_v1_event_delete']['args']['id']"
   ]
  },
  {
   "cell_type": "markdown",
   "id": "9a5a475fc6cc7665",
   "metadata": {
    "collapsed": false
   },
   "source": [
    "test_bancor_pol_exchange"
   ]
  },
  {
   "cell_type": "code",
   "execution_count": null,
   "id": "70948b0190d10035",
   "metadata": {
    "ExecuteTime": {
     "end_time": "2023-09-18T11:45:43.186121Z",
     "start_time": "2023-09-18T11:45:43.181451Z"
    },
    "collapsed": false
   },
   "outputs": [],
   "source": [
    "bancor_pol_exchange = BancorPol()\n",
    "assert (bancor_pol_exchange.get_abi() == BANCOR_POL_ABI)\n",
    "assert (bancor_pol_exchange.get_fee('', mocked_contract) == ('0.000', 0.0))\n",
    "assert (bancor_pol_exchange.get_tkn0('', mocked_contract, setup_data['bancor_pol_trading_enabled_event']) == \"0x86772b1409b61c639EaAc9Ba0AcfBb6E238e5F83\")"
   ]
  }
 ],
 "metadata": {
  "jupytext": {
   "formats": "ipynb,py:light"
  },
  "kernelspec": {
   "display_name": "Python 3",
   "language": "python",
   "name": "python3"
  },
  "language_info": {
   "codemirror_mode": {
    "name": "ipython",
    "version": 3
   },
   "file_extension": ".py",
   "mimetype": "text/x-python",
   "name": "python",
   "nbconvert_exporter": "python",
   "pygments_lexer": "ipython3",
   "version": "3.10.1"
  }
 },
 "nbformat": 4,
 "nbformat_minor": 5
}

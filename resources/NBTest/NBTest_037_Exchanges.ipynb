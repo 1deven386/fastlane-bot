{
 "cells": [
  {
   "cell_type": "code",
   "execution_count": 1,
   "id": "c539b26e",
   "metadata": {
    "ExecuteTime": {
     "end_time": "2023-09-18T11:44:46.057449Z",
     "start_time": "2023-09-18T11:44:42.714700Z"
    }
   },
   "outputs": [
    {
     "name": "stdout",
     "output_type": "stream",
     "text": [
      "ConstantProductCurve v3.1 (25/Aug/2023)\n",
      "CarbonBot v3-b2.2 (20/June/2023)\n",
      "UniswapV2 v0.0.2 (2023-08-27)\n",
      "UniswapV3 v0.0.2 (2023-08-27)\n",
      "SushiswapV2 v0.0.2 (2023-08-27)\n",
      "CarbonV1 v0.0.2 (2023-08-27)\n",
      "BancorV3 v0.0.2 (2023-08-27)\n",
      "BancorV2 v0.0.2 (2023-08-27)\n",
      "imported m, np, pd, plt, os, sys, decimal; defined iseq, raises, require\n",
      "Version = 3-b2.2 [requirements >= 3.0 is met]\n"
     ]
    }
   ],
   "source": [
    "import json\n",
    "\n",
    "from fastlane_bot import Bot\n",
    "from fastlane_bot.tools.cpc import ConstantProductCurve as CPC\n",
    "from fastlane_bot.events.exchanges import UniswapV2, UniswapV3, SushiswapV2, CarbonV1, BancorV3, BancorV2, BancorPol\n",
    "from fastlane_bot.data.abi import UNISWAP_V2_POOL_ABI, UNISWAP_V3_POOL_ABI, SUSHISWAP_POOLS_ABI, \\\n",
    "    BANCOR_V3_POOL_COLLECTION_ABI, \\\n",
    "    CARBON_CONTROLLER_ABI, BANCOR_V2_CONVERTER_ABI, BANCOR_POL_ABI\n",
    "from unittest.mock import Mock\n",
    "import pytest\n",
    "\n",
    "print(\"{0.__name__} v{0.__VERSION__} ({0.__DATE__})\".format(CPC))\n",
    "print(\"{0.__name__} v{0.__VERSION__} ({0.__DATE__})\".format(Bot))\n",
    "print(\"{0.__name__} v{0.__VERSION__} ({0.__DATE__})\".format(UniswapV2))\n",
    "print(\"{0.__name__} v{0.__VERSION__} ({0.__DATE__})\".format(UniswapV3))\n",
    "print(\"{0.__name__} v{0.__VERSION__} ({0.__DATE__})\".format(SushiswapV2))\n",
    "print(\"{0.__name__} v{0.__VERSION__} ({0.__DATE__})\".format(CarbonV1))\n",
    "print(\"{0.__name__} v{0.__VERSION__} ({0.__DATE__})\".format(BancorV3))\n",
    "print(\"{0.__name__} v{0.__VERSION__} ({0.__DATE__})\".format(BancorV2))\n",
    "\n",
    "from fastlane_bot.testing import *\n",
    "\n",
    "#plt.style.use('seaborn-dark')\n",
    "plt.rcParams['figure.figsize'] = [12,6]\n",
    "from fastlane_bot import __VERSION__\n",
    "require(\"3.0\", __VERSION__)"
   ]
  },
  {
   "cell_type": "code",
   "execution_count": 2,
   "id": "9c8a3b4d",
   "metadata": {
    "ExecuteTime": {
     "end_time": "2023-09-18T11:44:46.065015Z",
     "start_time": "2023-09-18T11:44:46.058343Z"
    }
   },
   "outputs": [],
   "source": [
    "with open('fastlane_bot/data/event_test_data.json', 'r') as f:\n",
    "    setup_data = json.load(f)"
   ]
  },
  {
   "cell_type": "code",
   "execution_count": 3,
   "id": "cbe1ab01",
   "metadata": {
    "ExecuteTime": {
     "end_time": "2023-09-18T11:44:46.065135Z",
     "start_time": "2023-09-18T11:44:46.063098Z"
    }
   },
   "outputs": [],
   "source": [
    "mocked_contract = Mock()\n",
    "mocked_contract.functions.token0.return_value.call.return_value = 'token0'\n",
    "mocked_contract.functions.token1.return_value.call.return_value = 'token1'\n",
    "mocked_contract.functions._token0.return_value.call.return_value = 'token0'\n",
    "mocked_contract.functions._token1.return_value.call.return_value = 'token1'\n",
    "mocked_contract.functions.conversionFee.return_value.call.return_value = 3000\n",
    "mocked_contract.functions.fee.return_value.call.return_value = 3000\n",
    "mocked_contract.functions.tradingFeePPM.return_value.call.return_value = 2000"
   ]
  },
  {
   "cell_type": "markdown",
   "id": "0d05e8f8",
   "metadata": {},
   "source": [
    "## test_uniswap_v2_exchange"
   ]
  },
  {
   "cell_type": "code",
   "execution_count": 4,
   "id": "e2347c4c",
   "metadata": {
    "ExecuteTime": {
     "end_time": "2023-09-18T11:44:46.068217Z",
     "start_time": "2023-09-18T11:44:46.065484Z"
    }
   },
   "outputs": [],
   "source": [
    "uniswap_v2_exchange = UniswapV2()\n",
    "assert (uniswap_v2_exchange.get_abi() == UNISWAP_V2_POOL_ABI)\n",
    "assert (uniswap_v2_exchange.get_fee('', mocked_contract) == ('0.003', 0.003))\n",
    "assert (uniswap_v2_exchange.get_tkn0('', mocked_contract, {}) == mocked_contract.functions.token0().call())"
   ]
  },
  {
   "cell_type": "markdown",
   "id": "0794f15a",
   "metadata": {},
   "source": [
    "## test_uniswap_v3_exchange"
   ]
  },
  {
   "cell_type": "code",
   "execution_count": 5,
   "id": "43c80791",
   "metadata": {
    "ExecuteTime": {
     "end_time": "2023-09-18T11:44:46.071891Z",
     "start_time": "2023-09-18T11:44:46.070149Z"
    }
   },
   "outputs": [],
   "source": [
    "uniswap_v3_exchange = UniswapV3()\n",
    "assert (uniswap_v3_exchange.get_abi() == UNISWAP_V3_POOL_ABI)\n",
    "assert (uniswap_v3_exchange.get_fee('', mocked_contract) == (mocked_contract.functions.fee().call(), (float(mocked_contract.functions.fee().call()) / 1000000.0)))\n",
    "assert (uniswap_v3_exchange.get_tkn0('', mocked_contract, {}) == mocked_contract.functions.token0().call())"
   ]
  },
  {
   "cell_type": "markdown",
   "id": "dfa7e9fc",
   "metadata": {},
   "source": [
    "## test_sushiswap_v2_exchange"
   ]
  },
  {
   "cell_type": "code",
   "execution_count": 6,
   "id": "1765d5ff",
   "metadata": {
    "ExecuteTime": {
     "end_time": "2023-09-18T11:44:46.074214Z",
     "start_time": "2023-09-18T11:44:46.072551Z"
    }
   },
   "outputs": [],
   "source": [
    "sushiswap_v2_exchange = SushiswapV2()\n",
    "assert (sushiswap_v2_exchange.get_abi() == SUSHISWAP_POOLS_ABI)\n",
    "assert (sushiswap_v2_exchange.get_fee('', mocked_contract) == ('0.003', 0.003))\n",
    "assert (sushiswap_v2_exchange.get_tkn0('', mocked_contract, {}) == mocked_contract.functions.token0().call())"
   ]
  },
  {
   "cell_type": "markdown",
   "id": "5902a731",
   "metadata": {},
   "source": [
    "## test_bancor_v3_exchange"
   ]
  },
  {
   "cell_type": "code",
   "execution_count": 7,
   "id": "05e931be",
   "metadata": {
    "ExecuteTime": {
     "end_time": "2023-09-18T11:44:46.076627Z",
     "start_time": "2023-09-18T11:44:46.074904Z"
    }
   },
   "outputs": [],
   "source": [
    "bancor_v3_exchange = BancorV3()\n",
    "assert (bancor_v3_exchange.get_abi() == BANCOR_V3_POOL_COLLECTION_ABI)\n",
    "assert (bancor_v3_exchange.get_fee('', mocked_contract) == ('0.000', 0.0))\n",
    "assert (bancor_v3_exchange.get_tkn0('', mocked_contract, setup_data['bancor_v3_event']) == bancor_v3_exchange.BNT_ADDRESS)"
   ]
  },
  {
   "cell_type": "markdown",
   "id": "f32659a910430349",
   "metadata": {
    "collapsed": false
   },
   "source": [
    "## test_bancor_v2_exchange"
   ]
  },
  {
   "cell_type": "code",
   "execution_count": 8,
   "id": "ed223a660ebc7420",
   "metadata": {
    "collapsed": false,
    "ExecuteTime": {
     "end_time": "2023-09-18T11:44:46.078586Z",
     "start_time": "2023-09-18T11:44:46.077374Z"
    }
   },
   "outputs": [],
   "source": [
    "bancor_v2_exchange = BancorV2()\n",
    "assert (bancor_v2_exchange.get_abi() == BANCOR_V2_CONVERTER_ABI)\n",
    "assert (bancor_v2_exchange.get_fee('', mocked_contract) == (3000, 0.003))\n",
    "assert (bancor_v2_exchange.get_tkn0('', mocked_contract, setup_data['bancor_v2_event']) == '0xEeeeeEeeeEeEeeEeEeEeeEEEeeeeEeeeeeeeEEeE')"
   ]
  },
  {
   "cell_type": "markdown",
   "id": "e94d1f0f",
   "metadata": {},
   "source": [
    "## test_carbon_v1_exchange_update"
   ]
  },
  {
   "cell_type": "code",
   "execution_count": 9,
   "id": "69f70b07",
   "metadata": {
    "ExecuteTime": {
     "end_time": "2023-09-18T11:44:46.096977Z",
     "start_time": "2023-09-18T11:44:46.079834Z"
    }
   },
   "outputs": [],
   "source": [
    "carbon_v1_exchange = CarbonV1()\n",
    "assert (carbon_v1_exchange.get_abi() == CARBON_CONTROLLER_ABI)\n",
    "assert (carbon_v1_exchange.get_fee('', mocked_contract) == ('2000', 0.002))\n",
    "assert (carbon_v1_exchange.get_tkn0('', mocked_contract, setup_data['carbon_v1_event_update']) == setup_data['carbon_v1_event_update']['args']['token0'])"
   ]
  },
  {
   "cell_type": "markdown",
   "id": "e8bcfdbb",
   "metadata": {},
   "source": [
    "## test_carbon_v1_exchange_create"
   ]
  },
  {
   "cell_type": "code",
   "execution_count": 10,
   "id": "62910e09",
   "metadata": {
    "ExecuteTime": {
     "end_time": "2023-09-18T11:44:46.100248Z",
     "start_time": "2023-09-18T11:44:46.082153Z"
    }
   },
   "outputs": [],
   "source": [
    "carbon_v1_exchange = CarbonV1()\n",
    "assert (carbon_v1_exchange.get_abi() == CARBON_CONTROLLER_ABI)\n",
    "assert (carbon_v1_exchange.get_fee('', mocked_contract) == ('2000', 0.002))\n",
    "assert (carbon_v1_exchange.get_tkn0('', mocked_contract, setup_data['carbon_v1_event_create']) == setup_data['carbon_v1_event_create']['args']['token0'])"
   ]
  },
  {
   "cell_type": "markdown",
   "id": "978506b0",
   "metadata": {},
   "source": [
    "## test_carbon_v1_exchange_delete"
   ]
  },
  {
   "cell_type": "code",
   "execution_count": 11,
   "id": "cce5df61",
   "metadata": {
    "ExecuteTime": {
     "end_time": "2023-09-18T11:44:46.100406Z",
     "start_time": "2023-09-18T11:44:46.084389Z"
    }
   },
   "outputs": [],
   "source": [
    "carbon_v1_exchange = CarbonV1()\n",
    "assert (carbon_v1_exchange.get_abi() == CARBON_CONTROLLER_ABI)\n",
    "cid = setup_data['carbon_v1_event_delete']['args']['id']"
   ]
  },
  {
   "cell_type": "markdown",
   "source": [
    "test_bancor_pol_exchange"
   ],
   "metadata": {
    "collapsed": false
   },
   "id": "9a5a475fc6cc7665"
  },
  {
   "cell_type": "code",
   "execution_count": 14,
   "outputs": [],
   "source": [
    "bancor_pol_exchange = BancorPol()\n",
    "assert (bancor_pol_exchange.get_abi() == BANCOR_POL_ABI)\n",
    "assert (bancor_pol_exchange.get_fee('', mocked_contract) == ('0.000', 0.0))\n",
    "assert (bancor_pol_exchange.get_tkn0('', mocked_contract, setup_data['bancor_pol_trading_enabled_event']) == \"0x86772b1409b61c639EaAc9Ba0AcfBb6E238e5F83\")"
   ],
   "metadata": {
    "collapsed": false,
    "ExecuteTime": {
     "end_time": "2023-09-18T11:45:43.186121Z",
     "start_time": "2023-09-18T11:45:43.181451Z"
    }
   },
   "id": "70948b0190d10035"
  }
 ],
 "metadata": {
  "jupytext": {
   "formats": "ipynb,py:light"
  },
  "kernelspec": {
   "name": "fastlane-bot-38",
   "language": "python",
   "display_name": "fastlane-bot-38"
  },
  "language_info": {
   "codemirror_mode": {
    "name": "ipython",
    "version": 3
   },
   "file_extension": ".py",
   "mimetype": "text/x-python",
   "name": "python",
   "nbconvert_exporter": "python",
   "pygments_lexer": "ipython3",
   "version": "3.10.1"
  }
 },
 "nbformat": 4,
 "nbformat_minor": 5
}

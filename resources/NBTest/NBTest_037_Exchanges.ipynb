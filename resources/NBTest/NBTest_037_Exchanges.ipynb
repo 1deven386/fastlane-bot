{
 "cells": [
  {
   "cell_type": "code",
   "execution_count": 49,
   "id": "c539b26e",
   "metadata": {
    "ExecuteTime": {
     "end_time": "2023-08-18T15:26:51.652487Z",
     "start_time": "2023-08-18T15:26:51.634148Z"
    }
   },
   "outputs": [
    {
     "name": "stdout",
     "output_type": "stream",
     "text": [
      "ConstantProductCurve v2.14 (23/May/2023)\n",
      "CarbonBot v3-b2.2 (20/June/2023)\n",
      "UniswapV2 v0.0.1 (2023-07-03)\n",
      "UniswapV3 v0.0.1 (2023-07-03)\n",
      "SushiswapV2 v0.0.1 (2023-07-03)\n",
      "CarbonV1 v0.0.1 (2023-07-03)\n",
      "BancorV3 v0.0.1 (2023-07-03)\n",
      "Version = 3-b2.2 [requirements >= 3.0 is met]\n"
     ]
    }
   ],
   "source": [
    "import json\n",
    "\n",
    "from fastlane_bot import Bot\n",
    "from fastlane_bot.tools.cpc import ConstantProductCurve as CPC\n",
    "from fastlane_bot.events.exchanges import UniswapV2, UniswapV3, SushiswapV2, CarbonV1, BancorV3\n",
    "from fastlane_bot.data.abi import UNISWAP_V2_POOL_ABI, UNISWAP_V3_POOL_ABI, SUSHISWAP_POOLS_ABI, BANCOR_V3_POOL_COLLECTION_ABI, \\\n",
    "    CARBON_CONTROLLER_ABI\n",
    "from unittest.mock import Mock\n",
    "import pytest\n",
    "\n",
    "print(\"{0.__name__} v{0.__VERSION__} ({0.__DATE__})\".format(CPC))\n",
    "print(\"{0.__name__} v{0.__VERSION__} ({0.__DATE__})\".format(Bot))\n",
    "print(\"{0.__name__} v{0.__VERSION__} ({0.__DATE__})\".format(UniswapV2))\n",
    "print(\"{0.__name__} v{0.__VERSION__} ({0.__DATE__})\".format(UniswapV3))\n",
    "print(\"{0.__name__} v{0.__VERSION__} ({0.__DATE__})\".format(SushiswapV2))\n",
    "print(\"{0.__name__} v{0.__VERSION__} ({0.__DATE__})\".format(CarbonV1))\n",
    "print(\"{0.__name__} v{0.__VERSION__} ({0.__DATE__})\".format(BancorV3))\n",
    "from fastlane_bot.testing import *\n",
    "\n",
    "#plt.style.use('seaborn-dark')\n",
    "plt.rcParams['figure.figsize'] = [12,6]\n",
    "from fastlane_bot import __VERSION__\n",
    "require(\"3.0\", __VERSION__)"
   ]
  },
  {
   "cell_type": "code",
   "execution_count": 50,
   "id": "9c8a3b4d",
   "metadata": {
    "ExecuteTime": {
     "end_time": "2023-08-18T15:26:51.654033Z",
     "start_time": "2023-08-18T15:26:51.638335Z"
    }
   },
   "outputs": [],
   "source": [
    "with open('fastlane_bot/data/event_test_data.json', 'r') as f:\n",
    "    setup_data = json.load(f)"
   ]
  },
  {
   "cell_type": "code",
   "execution_count": 51,
   "id": "cbe1ab01",
   "metadata": {
    "ExecuteTime": {
     "end_time": "2023-08-18T15:26:51.661555Z",
     "start_time": "2023-08-18T15:26:51.643787Z"
    }
   },
   "outputs": [],
   "source": [
    "mocked_contract = Mock()\n",
    "mocked_contract.functions.token0.return_value.call.return_value = 'token0'\n",
    "mocked_contract.functions.token1.return_value.call.return_value = 'token1'\n",
    "mocked_contract.functions.fee.return_value.call.return_value = 3000\n",
    "mocked_contract.functions.tradingFeePPM.return_value.call.return_value = 2000"
   ]
  },
  {
   "cell_type": "markdown",
   "id": "0d05e8f8",
   "metadata": {},
   "source": [
    "## test_uniswap_v2_exchange"
   ]
  },
  {
   "cell_type": "code",
   "execution_count": 52,
   "id": "e2347c4c",
   "metadata": {
    "ExecuteTime": {
     "end_time": "2023-08-18T15:26:51.677441Z",
     "start_time": "2023-08-18T15:26:51.647694Z"
    }
   },
   "outputs": [],
   "source": [
    "uniswap_v2_exchange = UniswapV2()\n",
    "assert (uniswap_v2_exchange.get_abi() == UNISWAP_V2_POOL_ABI)\n",
    "assert (uniswap_v2_exchange.get_fee('', mocked_contract) == ('0.003', 0.003))\n",
    "assert (uniswap_v2_exchange.get_tkn0('', mocked_contract, {}) == mocked_contract.functions.token0().call())"
   ]
  },
  {
   "cell_type": "markdown",
   "id": "0794f15a",
   "metadata": {},
   "source": [
    "## test_uniswap_v3_exchange"
   ]
  },
  {
   "cell_type": "code",
   "execution_count": 53,
   "id": "43c80791",
   "metadata": {
    "ExecuteTime": {
     "end_time": "2023-08-18T15:26:51.678309Z",
     "start_time": "2023-08-18T15:26:51.652614Z"
    }
   },
   "outputs": [],
   "source": [
    "uniswap_v3_exchange = UniswapV3()\n",
    "assert (uniswap_v3_exchange.get_abi() == UNISWAP_V3_POOL_ABI)\n",
    "assert (uniswap_v3_exchange.get_fee('', mocked_contract) == (mocked_contract.functions.fee().call(), (float(mocked_contract.functions.fee().call()) / 1000000.0)))\n",
    "assert (uniswap_v3_exchange.get_tkn0('', mocked_contract, {}) == mocked_contract.functions.token0().call())"
   ]
  },
  {
   "cell_type": "markdown",
   "id": "dfa7e9fc",
   "metadata": {},
   "source": [
    "## test_sushiswap_v2_exchange"
   ]
  },
  {
   "cell_type": "code",
   "execution_count": 54,
   "id": "1765d5ff",
   "metadata": {
    "ExecuteTime": {
     "end_time": "2023-08-18T15:26:51.678390Z",
     "start_time": "2023-08-18T15:26:51.655363Z"
    }
   },
   "outputs": [],
   "source": [
    "sushiswap_v2_exchange = SushiswapV2()\n",
    "assert (sushiswap_v2_exchange.get_abi() == SUSHISWAP_POOLS_ABI)\n",
    "assert (sushiswap_v2_exchange.get_fee('', mocked_contract) == ('0.003', 0.003))\n",
    "assert (sushiswap_v2_exchange.get_tkn0('', mocked_contract, {}) == mocked_contract.functions.token0().call())"
   ]
  },
  {
   "cell_type": "markdown",
   "id": "5902a731",
   "metadata": {},
   "source": [
    "## test_bancor_v3_exchange"
   ]
  },
  {
   "cell_type": "code",
   "execution_count": 55,
   "id": "05e931be",
   "metadata": {
    "ExecuteTime": {
     "end_time": "2023-08-18T15:26:51.678435Z",
     "start_time": "2023-08-18T15:26:51.657400Z"
    }
   },
   "outputs": [],
   "source": [
    "bancor_v3_exchange = BancorV3()\n",
    "assert (bancor_v3_exchange.get_abi() == BANCOR_V3_POOL_COLLECTION_ABI)\n",
    "assert (bancor_v3_exchange.get_fee('', mocked_contract) == ('0.000', 0.0))\n",
    "assert (bancor_v3_exchange.get_tkn0('', mocked_contract, setup_data['bancor_v3_event']) == bancor_v3_exchange.BNT_ADDRESS)"
   ]
  },
  {
   "cell_type": "markdown",
   "id": "e94d1f0f",
   "metadata": {},
   "source": [
    "## test_carbon_v1_exchange_update"
   ]
  },
  {
   "cell_type": "code",
   "execution_count": 56,
   "id": "69f70b07",
   "metadata": {
    "ExecuteTime": {
     "end_time": "2023-08-18T15:26:51.678698Z",
     "start_time": "2023-08-18T15:26:51.663698Z"
    }
   },
   "outputs": [
    {
     "name": "stdout",
     "output_type": "stream",
     "text": [
      "('2000', 0.002)\n"
     ]
    }
   ],
   "source": [
    "carbon_v1_exchange = CarbonV1()\n",
    "assert (carbon_v1_exchange.get_abi() == CARBON_CONTROLLER_ABI)\n",
    "assert (carbon_v1_exchange.get_fee('', mocked_contract) == ('2000', 0.002))\n",
    "assert (carbon_v1_exchange.get_tkn0('', mocked_contract, setup_data['carbon_v1_event_update']) == setup_data['carbon_v1_event_update']['args']['token0'])"
   ]
  },
  {
   "cell_type": "markdown",
   "id": "e8bcfdbb",
   "metadata": {},
   "source": [
    "## test_carbon_v1_exchange_create"
   ]
  },
  {
   "cell_type": "code",
   "execution_count": 57,
   "id": "62910e09",
   "metadata": {
    "ExecuteTime": {
     "end_time": "2023-08-18T15:26:51.678745Z",
     "start_time": "2023-08-18T15:26:51.666667Z"
    }
   },
   "outputs": [],
   "source": [
    "carbon_v1_exchange = CarbonV1()\n",
    "assert (carbon_v1_exchange.get_abi() == CARBON_CONTROLLER_ABI)\n",
    "assert (carbon_v1_exchange.get_fee('', mocked_contract) == ('2000', 0.002))\n",
    "assert (carbon_v1_exchange.get_tkn0('', mocked_contract, setup_data['carbon_v1_event_create']) == setup_data['carbon_v1_event_create']['args']['token0'])"
   ]
  },
  {
   "cell_type": "markdown",
   "id": "978506b0",
   "metadata": {},
   "source": [
    "## test_carbon_v1_exchange_delete"
   ]
  },
  {
   "cell_type": "code",
   "execution_count": 58,
   "id": "cce5df61",
   "metadata": {
    "ExecuteTime": {
     "end_time": "2023-08-18T15:26:51.678782Z",
     "start_time": "2023-08-18T15:26:51.668788Z"
    }
   },
   "outputs": [],
   "source": [
    "carbon_v1_exchange = CarbonV1()\n",
    "assert (carbon_v1_exchange.get_abi() == CARBON_CONTROLLER_ABI)\n",
    "cid = setup_data['carbon_v1_event_delete']['args']['id']"
   ]
  }
 ],
 "metadata": {
  "jupytext": {
   "formats": "ipynb,py:light"
  },
  "kernelspec": {
   "display_name": "Python 3",
   "language": "python",
   "name": "python3"
  },
  "language_info": {
   "codemirror_mode": {
    "name": "ipython",
    "version": 3
   },
   "file_extension": ".py",
   "mimetype": "text/x-python",
   "name": "python",
   "nbconvert_exporter": "python",
   "pygments_lexer": "ipython3",
   "version": "3.8.8"
  }
 },
 "nbformat": 4,
 "nbformat_minor": 5
}

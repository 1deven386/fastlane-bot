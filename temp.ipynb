{
 "cells": [
  {
   "cell_type": "code",
   "execution_count": 1,
   "metadata": {
    "collapsed": true,
    "ExecuteTime": {
     "start_time": "2023-04-19T14:05:08.125305Z",
     "end_time": "2023-04-19T14:05:19.908569Z"
    }
   },
   "outputs": [
    {
     "name": "stdout",
     "output_type": "stream",
     "text": [
      "ConstantProductCurve v2.6 (17/Apr/2023)\n",
      "ArbGraph v2.1 (16/Apr/2023)\n",
      "TokenScale v1.0 (07/Apr/2022)\n",
      "CPCArbOptimizer v3.3 (17/Apr/2023)\n",
      "(psycopg2.errors.UniqueViolation) duplicate key value violates unique constraint \"ix_blockchains_name\"\n",
      "DETAIL:  Key (name)=(Ethereum) already exists.\n",
      "\n",
      "[SQL: INSERT INTO blockchains (name, block_number) VALUES (%(name)s, %(block_number)s) RETURNING blockchains.id]\n",
      "[parameters: {'name': 'Ethereum', 'block_number': 17067306}]\n",
      "(Background on this error at: https://sqlalche.me/e/20/gkpj)\n"
     ]
    }
   ],
   "source": [
    "from carbon.config import *\n",
    "from carbon.bot import *\n",
    "\n",
    "bot = CarbonBot(\n",
    "    drop_tables=False\n",
    ")"
   ]
  },
  {
   "cell_type": "code",
   "execution_count": 2,
   "outputs": [
    {
     "ename": "ValueError",
     "evalue": "{'code': -32603, 'message': 'write', 'data': {'error_id': 'c8235088-f5d3-47f6-b911-ee4a49940f41'}}",
     "output_type": "error",
     "traceback": [
      "\u001B[0;31m---------------------------------------------------------------------------\u001B[0m",
      "\u001B[0;31mValueError\u001B[0m                                Traceback (most recent call last)",
      "\u001B[0;32m/var/folders/rt/qnj8r6yd6131ccxkw_k9d9gc0000gn/T/ipykernel_59569/1821758735.py\u001B[0m in \u001B[0;36m<module>\u001B[0;34m\u001B[0m\n\u001B[0;32m----> 1\u001B[0;31m \u001B[0mbot\u001B[0m\u001B[0;34m.\u001B[0m\u001B[0mdb\u001B[0m\u001B[0;34m.\u001B[0m\u001B[0mseed_pools\u001B[0m\u001B[0;34m(\u001B[0m\u001B[0;34m)\u001B[0m\u001B[0;34m\u001B[0m\u001B[0;34m\u001B[0m\u001B[0m\n\u001B[0m",
      "\u001B[0;32m~/Local/projects/bancor/carbonbot/carbon/manager.py\u001B[0m in \u001B[0;36mseed_pools\u001B[0;34m(self)\u001B[0m\n\u001B[1;32m    171\u001B[0m \u001B[0;34m\u001B[0m\u001B[0m\n\u001B[1;32m    172\u001B[0m         \u001B[0;32mif\u001B[0m \u001B[0mself\u001B[0m\u001B[0;34m.\u001B[0m\u001B[0muse_multicall\u001B[0m\u001B[0;34m:\u001B[0m\u001B[0;34m\u001B[0m\u001B[0;34m\u001B[0m\u001B[0m\n\u001B[0;32m--> 173\u001B[0;31m             \u001B[0mself\u001B[0m\u001B[0;34m.\u001B[0m\u001B[0mupdate_all_carbon_strategies\u001B[0m\u001B[0;34m(\u001B[0m\u001B[0;34m)\u001B[0m\u001B[0;34m\u001B[0m\u001B[0;34m\u001B[0m\u001B[0m\n\u001B[0m\u001B[1;32m    174\u001B[0m \u001B[0;34m\u001B[0m\u001B[0m\n\u001B[1;32m    175\u001B[0m             \u001B[0;32mif\u001B[0m \u001B[0mv3_pools\u001B[0m\u001B[0;34m:\u001B[0m\u001B[0;34m\u001B[0m\u001B[0;34m\u001B[0m\u001B[0m\n",
      "\u001B[0;32m~/Local/projects/bancor/carbonbot/carbon/manager.py\u001B[0m in \u001B[0;36mupdate_all_carbon_strategies\u001B[0;34m(self)\u001B[0m\n\u001B[1;32m    632\u001B[0m         \u001B[0mFinds\u001B[0m \u001B[0;32mand\u001B[0m \u001B[0mupdates\u001B[0m \u001B[0mall\u001B[0m \u001B[0mCarbon\u001B[0m \u001B[0mstrategies\u001B[0m\u001B[0;34m\u001B[0m\u001B[0;34m\u001B[0m\u001B[0m\n\u001B[1;32m    633\u001B[0m         \"\"\"\n\u001B[0;32m--> 634\u001B[0;31m         \u001B[0mall_strategies\u001B[0m \u001B[0;34m=\u001B[0m \u001B[0mself\u001B[0m\u001B[0;34m.\u001B[0m\u001B[0mget_all_carbon_strategies\u001B[0m\u001B[0;34m(\u001B[0m\u001B[0;34m)\u001B[0m\u001B[0;34m\u001B[0m\u001B[0;34m\u001B[0m\u001B[0m\n\u001B[0m\u001B[1;32m    635\u001B[0m         \u001B[0mself\u001B[0m\u001B[0;34m.\u001B[0m\u001B[0mupdate_raw_carbon_strategies\u001B[0m\u001B[0;34m(\u001B[0m\u001B[0mstrategies\u001B[0m\u001B[0;34m=\u001B[0m\u001B[0mall_strategies\u001B[0m\u001B[0;34m)\u001B[0m\u001B[0;34m\u001B[0m\u001B[0;34m\u001B[0m\u001B[0m\n\u001B[1;32m    636\u001B[0m \u001B[0;34m\u001B[0m\u001B[0m\n",
      "\u001B[0;32m~/Local/projects/bancor/carbonbot/carbon/manager.py\u001B[0m in \u001B[0;36mget_all_carbon_strategies\u001B[0;34m(self)\u001B[0m\n\u001B[1;32m    618\u001B[0m         \u001B[0mstrats\u001B[0m \u001B[0;34m=\u001B[0m \u001B[0;34m[\u001B[0m\u001B[0;34m]\u001B[0m\u001B[0;34m\u001B[0m\u001B[0;34m\u001B[0m\u001B[0m\n\u001B[1;32m    619\u001B[0m \u001B[0;34m\u001B[0m\u001B[0m\n\u001B[0;32m--> 620\u001B[0;31m         \u001B[0;32mwith\u001B[0m \u001B[0mbrownie\u001B[0m\u001B[0;34m.\u001B[0m\u001B[0mmulticall\u001B[0m\u001B[0;34m(\u001B[0m\u001B[0maddress\u001B[0m\u001B[0;34m=\u001B[0m\u001B[0mself\u001B[0m\u001B[0;34m.\u001B[0m\u001B[0mMULTICALL_CONTRACT_ADDRESS\u001B[0m\u001B[0;34m)\u001B[0m\u001B[0;34m:\u001B[0m\u001B[0;34m\u001B[0m\u001B[0;34m\u001B[0m\u001B[0m\n\u001B[0m\u001B[1;32m    621\u001B[0m             \u001B[0;32mfor\u001B[0m \u001B[0mi\u001B[0m \u001B[0;32min\u001B[0m \u001B[0mall_pairs\u001B[0m\u001B[0;34m:\u001B[0m\u001B[0;34m\u001B[0m\u001B[0;34m\u001B[0m\u001B[0m\n\u001B[1;32m    622\u001B[0m                 \u001B[0mnum_strategies\u001B[0m \u001B[0;34m=\u001B[0m \u001B[0mself\u001B[0m\u001B[0;34m.\u001B[0m\u001B[0mget_strategies_count_by_pair\u001B[0m\u001B[0;34m(\u001B[0m\u001B[0mi\u001B[0m\u001B[0;34m[\u001B[0m\u001B[0;36m0\u001B[0m\u001B[0;34m]\u001B[0m\u001B[0;34m,\u001B[0m \u001B[0mi\u001B[0m\u001B[0;34m[\u001B[0m\u001B[0;36m1\u001B[0m\u001B[0;34m]\u001B[0m\u001B[0;34m)\u001B[0m\u001B[0;34m\u001B[0m\u001B[0;34m\u001B[0m\u001B[0m\n",
      "\u001B[0;32m~/miniforge3/lib/python3.9/site-packages/brownie/network/multicall.py\u001B[0m in \u001B[0;36m__enter__\u001B[0;34m(self)\u001B[0m\n\u001B[1;32m    138\u001B[0m                 \u001B[0;34m\"Must set Multicall address via `brownie.multicall(address=...)`\"\u001B[0m\u001B[0;34m\u001B[0m\u001B[0;34m\u001B[0m\u001B[0m\n\u001B[1;32m    139\u001B[0m             )\n\u001B[0;32m--> 140\u001B[0;31m         \u001B[0;32melif\u001B[0m \u001B[0;32mnot\u001B[0m \u001B[0mweb3\u001B[0m\u001B[0;34m.\u001B[0m\u001B[0meth\u001B[0m\u001B[0;34m.\u001B[0m\u001B[0mget_code\u001B[0m\u001B[0;34m(\u001B[0m\u001B[0mself\u001B[0m\u001B[0;34m.\u001B[0m\u001B[0maddress\u001B[0m\u001B[0;34m,\u001B[0m \u001B[0mblock_identifier\u001B[0m\u001B[0;34m=\u001B[0m\u001B[0mself\u001B[0m\u001B[0;34m.\u001B[0m\u001B[0mblock_number\u001B[0m\u001B[0;34m)\u001B[0m\u001B[0;34m:\u001B[0m\u001B[0;34m\u001B[0m\u001B[0;34m\u001B[0m\u001B[0m\n\u001B[0m\u001B[1;32m    141\u001B[0m             raise ContractNotFound(\n\u001B[1;32m    142\u001B[0m                 \u001B[0;34mf\"Multicall at address {self.address} does not exist at block {self.block_number}\"\u001B[0m\u001B[0;34m\u001B[0m\u001B[0;34m\u001B[0m\u001B[0m\n",
      "\u001B[0;32m~/miniforge3/lib/python3.9/site-packages/web3/module.py\u001B[0m in \u001B[0;36mcaller\u001B[0;34m(*args, **kwargs)\u001B[0m\n\u001B[1;32m     55\u001B[0m             \u001B[0;32mreturn\u001B[0m \u001B[0mLogFilter\u001B[0m\u001B[0;34m(\u001B[0m\u001B[0meth_module\u001B[0m\u001B[0;34m=\u001B[0m\u001B[0mmodule\u001B[0m\u001B[0;34m,\u001B[0m \u001B[0mfilter_id\u001B[0m\u001B[0;34m=\u001B[0m\u001B[0merr\u001B[0m\u001B[0;34m.\u001B[0m\u001B[0mfilter_id\u001B[0m\u001B[0;34m)\u001B[0m\u001B[0;34m\u001B[0m\u001B[0;34m\u001B[0m\u001B[0m\n\u001B[1;32m     56\u001B[0m         \u001B[0mresult_formatters\u001B[0m\u001B[0;34m,\u001B[0m \u001B[0merror_formatters\u001B[0m\u001B[0;34m,\u001B[0m \u001B[0mnull_result_formatters\u001B[0m \u001B[0;34m=\u001B[0m \u001B[0mresponse_formatters\u001B[0m\u001B[0;34m\u001B[0m\u001B[0;34m\u001B[0m\u001B[0m\n\u001B[0;32m---> 57\u001B[0;31m         result = w3.manager.request_blocking(method_str,\n\u001B[0m\u001B[1;32m     58\u001B[0m                                              \u001B[0mparams\u001B[0m\u001B[0;34m,\u001B[0m\u001B[0;34m\u001B[0m\u001B[0;34m\u001B[0m\u001B[0m\n\u001B[1;32m     59\u001B[0m                                              \u001B[0merror_formatters\u001B[0m\u001B[0;34m,\u001B[0m\u001B[0;34m\u001B[0m\u001B[0;34m\u001B[0m\u001B[0m\n",
      "\u001B[0;32m~/miniforge3/lib/python3.9/site-packages/web3/manager.py\u001B[0m in \u001B[0;36mrequest_blocking\u001B[0;34m(self, method, params, error_formatters, null_result_formatters)\u001B[0m\n\u001B[1;32m    196\u001B[0m         \"\"\"\n\u001B[1;32m    197\u001B[0m         \u001B[0mresponse\u001B[0m \u001B[0;34m=\u001B[0m \u001B[0mself\u001B[0m\u001B[0;34m.\u001B[0m\u001B[0m_make_request\u001B[0m\u001B[0;34m(\u001B[0m\u001B[0mmethod\u001B[0m\u001B[0;34m,\u001B[0m \u001B[0mparams\u001B[0m\u001B[0;34m)\u001B[0m\u001B[0;34m\u001B[0m\u001B[0;34m\u001B[0m\u001B[0m\n\u001B[0;32m--> 198\u001B[0;31m         return self.formatted_response(response,\n\u001B[0m\u001B[1;32m    199\u001B[0m                                        \u001B[0mparams\u001B[0m\u001B[0;34m,\u001B[0m\u001B[0;34m\u001B[0m\u001B[0;34m\u001B[0m\u001B[0m\n\u001B[1;32m    200\u001B[0m                                        \u001B[0merror_formatters\u001B[0m\u001B[0;34m,\u001B[0m\u001B[0;34m\u001B[0m\u001B[0;34m\u001B[0m\u001B[0m\n",
      "\u001B[0;32m~/miniforge3/lib/python3.9/site-packages/web3/manager.py\u001B[0m in \u001B[0;36mformatted_response\u001B[0;34m(response, params, error_formatters, null_result_formatters)\u001B[0m\n\u001B[1;32m    169\u001B[0m         \u001B[0;32mif\u001B[0m \u001B[0;34m\"error\"\u001B[0m \u001B[0;32min\u001B[0m \u001B[0mresponse\u001B[0m\u001B[0;34m:\u001B[0m\u001B[0;34m\u001B[0m\u001B[0;34m\u001B[0m\u001B[0m\n\u001B[1;32m    170\u001B[0m             \u001B[0mapply_error_formatters\u001B[0m\u001B[0;34m(\u001B[0m\u001B[0merror_formatters\u001B[0m\u001B[0;34m,\u001B[0m \u001B[0mresponse\u001B[0m\u001B[0;34m)\u001B[0m\u001B[0;34m\u001B[0m\u001B[0;34m\u001B[0m\u001B[0m\n\u001B[0;32m--> 171\u001B[0;31m             \u001B[0;32mraise\u001B[0m \u001B[0mValueError\u001B[0m\u001B[0;34m(\u001B[0m\u001B[0mresponse\u001B[0m\u001B[0;34m[\u001B[0m\u001B[0;34m\"error\"\u001B[0m\u001B[0;34m]\u001B[0m\u001B[0;34m)\u001B[0m\u001B[0;34m\u001B[0m\u001B[0;34m\u001B[0m\u001B[0m\n\u001B[0m\u001B[1;32m    172\u001B[0m         \u001B[0;31m# NULL_RESPONSES includes None, so return False here as the default\u001B[0m\u001B[0;34m\u001B[0m\u001B[0;34m\u001B[0m\u001B[0m\n\u001B[1;32m    173\u001B[0m         \u001B[0;31m# so we don't apply the null_result_formatters if there is no 'result' key\u001B[0m\u001B[0;34m\u001B[0m\u001B[0;34m\u001B[0m\u001B[0m\n",
      "\u001B[0;31mValueError\u001B[0m: {'code': -32603, 'message': 'write', 'data': {'error_id': 'c8235088-f5d3-47f6-b911-ee4a49940f41'}}"
     ]
    }
   ],
   "source": [
    "bot.db.seed_pools()"
   ],
   "metadata": {
    "collapsed": false,
    "ExecuteTime": {
     "start_time": "2023-04-19T13:35:52.572861Z",
     "end_time": "2023-04-19T13:45:49.383604Z"
    }
   }
  },
  {
   "cell_type": "code",
   "execution_count": null,
   "outputs": [],
   "source": [
    "\n"
   ],
   "metadata": {
    "collapsed": false,
    "ExecuteTime": {
     "start_time": "2023-04-19T13:45:49.383520Z",
     "end_time": "2023-04-19T13:45:49.384954Z"
    }
   }
  }
 ],
 "metadata": {
  "kernelspec": {
   "name": "backend-sqlite-39",
   "language": "python",
   "display_name": "Python 3.9 (backend-sqlite-39)"
  },
  "language_info": {
   "codemirror_mode": {
    "name": "ipython",
    "version": 2
   },
   "file_extension": ".py",
   "mimetype": "text/x-python",
   "name": "python",
   "nbconvert_exporter": "python",
   "pygments_lexer": "ipython2",
   "version": "2.7.6"
  }
 },
 "nbformat": 4,
 "nbformat_minor": 0
}

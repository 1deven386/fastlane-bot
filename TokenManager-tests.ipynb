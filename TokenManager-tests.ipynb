{
 "cells": [
  {
   "cell_type": "markdown",
   "source": [
    "# Unit tests for TokenManager"
   ],
   "metadata": {
    "collapsed": false
   }
  },
  {
   "cell_type": "code",
   "execution_count": 48,
   "outputs": [],
   "source": [
    "import fastlane_bot.db.models as models\n",
    "from fastlane_bot.db.model_managers import TokenManager"
   ],
   "metadata": {
    "collapsed": false,
    "ExecuteTime": {
     "start_time": "2023-04-26T22:00:36.507176Z",
     "end_time": "2023-04-26T22:00:36.515020Z"
    }
   }
  },
  {
   "cell_type": "code",
   "execution_count": 49,
   "id": "1fd86acd",
   "metadata": {
    "ExecuteTime": {
     "start_time": "2023-04-26T22:00:36.513255Z",
     "end_time": "2023-04-26T22:00:36.581903Z"
    }
   },
   "outputs": [
    {
     "name": "stdout",
     "output_type": "stream",
     "text": [
      "Version: 3.0.1\n",
      "Date: 04-26-2023\n"
     ]
    }
   ],
   "source": [
    "# Create a ContractHelper instance\n",
    "token_manager = TokenManager()\n",
    "\n",
    "# Print and format version and date\n",
    "print(f\"Version: {token_manager.__VERSION__.format('0.0.0')}\")\n",
    "print(f\"Date: {token_manager.__DATE__}\")"
   ]
  },
  {
   "cell_type": "code",
   "execution_count": 50,
   "outputs": [],
   "source": [
    "from sqlalchemy.orm import Session\n",
    "\n",
    "# Test initialization\n",
    "token_manager = TokenManager()\n",
    "assert isinstance(token_manager.session, Session)"
   ],
   "metadata": {
    "collapsed": false,
    "ExecuteTime": {
     "start_time": "2023-04-26T22:00:36.583978Z",
     "end_time": "2023-04-26T22:00:36.617808Z"
    }
   }
  },
  {
   "cell_type": "code",
   "execution_count": 51,
   "outputs": [],
   "source": [
    "# Test add_token\n",
    "token_manager = TokenManager()\n",
    "token = models.Token(symbol=\"TEST\", name=\"Test Token\", address=\"0x1234567890abcdef1234567890abcdef12345678\", decimals=18, key=\"TEST-5678\")\n",
    "token_manager.create_token(token)\n",
    "\n",
    "db_token = token_manager.session.query(models.Token).filter_by(address=token.address).first()\n",
    "assert db_token is not None\n",
    "assert db_token.symbol == \"TEST\"\n",
    "assert db_token.name == \"Test Token\"\n",
    "assert db_token.address == \"0x1234567890abcdef1234567890abcdef12345678\"\n",
    "assert db_token.decimals == 18\n",
    "assert db_token.key == \"TEST-5678\""
   ],
   "metadata": {
    "collapsed": false,
    "ExecuteTime": {
     "start_time": "2023-04-26T22:00:36.617111Z",
     "end_time": "2023-04-26T22:00:36.647994Z"
    }
   }
  },
  {
   "cell_type": "code",
   "execution_count": 52,
   "outputs": [],
   "source": [
    "# Test get_token\n",
    "token = token_manager.get_token(address=\"0x1234567890abcdef1234567890abcdef12345678\")\n",
    "assert token is not None\n",
    "assert token.symbol == \"TEST\""
   ],
   "metadata": {
    "collapsed": false,
    "ExecuteTime": {
     "start_time": "2023-04-26T22:00:36.649352Z",
     "end_time": "2023-04-26T22:00:36.651063Z"
    }
   }
  },
  {
   "cell_type": "code",
   "execution_count": 53,
   "outputs": [],
   "source": [
    "# Test update_token\n",
    "token = token_manager.get_token(address=\"0x1234567890abcdef1234567890abcdef12345678\")\n",
    "token_manager.update_token(token, new_data={\"name\":\"Updated Test Token\"})\n",
    "\n",
    "updated_token = token_manager.get_token(address=\"0x1234567890abcdef1234567890abcdef12345678\")\n",
    "assert updated_token is not None\n",
    "assert updated_token.name == \"Updated Test Token\""
   ],
   "metadata": {
    "collapsed": false,
    "ExecuteTime": {
     "start_time": "2023-04-26T22:00:36.652434Z",
     "end_time": "2023-04-26T22:00:36.658020Z"
    }
   }
  },
  {
   "cell_type": "code",
   "execution_count": 54,
   "outputs": [],
   "source": [
    "# Test delete_token\n",
    "token = token_manager.get_token(address=\"0x1234567890abcdef1234567890abcdef12345678\")\n",
    "token_manager.delete_token(token)\n",
    "\n",
    "deleted_token = token_manager.get_token(address=\"0x1234567890abcdef1234567890abcdef12345678\")\n",
    "assert deleted_token is None"
   ],
   "metadata": {
    "collapsed": false,
    "ExecuteTime": {
     "start_time": "2023-04-26T22:00:36.658871Z",
     "end_time": "2023-04-26T22:00:36.675884Z"
    }
   }
  }
 ],
 "metadata": {
  "jupytext": {
   "formats": "ipynb,py:light"
  },
  "kernelspec": {
   "name": "backend-sqlite-39",
   "language": "python",
   "display_name": "Python 3.9 (backend-sqlite-39)"
  },
  "language_info": {
   "codemirror_mode": {
    "name": "ipython",
    "version": 3
   },
   "file_extension": ".py",
   "mimetype": "text/x-python",
   "name": "python",
   "nbconvert_exporter": "python",
   "pygments_lexer": "ipython3",
   "version": "3.9.16"
  }
 },
 "nbformat": 4,
 "nbformat_minor": 5
}

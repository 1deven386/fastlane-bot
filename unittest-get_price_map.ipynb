{
 "cells": [
  {
   "cell_type": "code",
   "execution_count": 1,
   "outputs": [],
   "source": [
    "import time\n",
    "import json\n",
    "from fastlane_bot.bot import CarbonBot\n",
    "\n",
    "import requests\n",
    "\n",
    "def get_updated_price_in_bnt_units(token_symbol: str, rate_limit: int = 30) -> float:\n",
    "    \"\"\"\n",
    "    Call the coingecko api to get the price of the token in BNT units.\n",
    "\n",
    "    Parameters\n",
    "    ----------\n",
    "    token_symbol : str\n",
    "        Ticker symbol of the token.\n",
    "\n",
    "    Returns\n",
    "    -------\n",
    "    float\n",
    "        The price of the token in BNT units.\n",
    "\n",
    "    \"\"\"\n",
    "    try:\n",
    "        # CoinGecko API base URL\n",
    "        base_url = \"https://api.coingecko.com/api/v3\"\n",
    "\n",
    "        # Get token and BNT IDs from CoinGecko API\n",
    "        token_id_url = f\"{base_url}/search?query={token_symbol}\"\n",
    "        bnt_id_url = f\"{base_url}/search?query=BNT\"\n",
    "        token_id_response = requests.get(token_id_url)\n",
    "        bnt_id_response = requests.get(bnt_id_url)\n",
    "\n",
    "        # decode the Response object to a dict\n",
    "        token_id_response = token_id_response.json()\n",
    "        bnt_id_response = bnt_id_response.json()\n",
    "        token_id = token_id_response['coins'][0]['id']\n",
    "        bnt_id = bnt_id_response['coins'][0]['id']\n",
    "\n",
    "        # Get token and BNT prices in USD\n",
    "        price_url = f\"{base_url}/simple/price?ids={token_id}%2C{bnt_id}&vs_currencies=usd\"\n",
    "        price_response = requests.get(price_url)\n",
    "\n",
    "        # decode the Response object to a dict\n",
    "        price_response = price_response.json()\n",
    "        token_usd_price = price_response[token_id]['usd']\n",
    "        bnt_usd_price = price_response[bnt_id]['usd']\n",
    "\n",
    "        # Calculate the token price in BNT units\n",
    "        token_bnt_price = token_usd_price / bnt_usd_price\n",
    "\n",
    "        time.sleep(rate_limit)\n",
    "        return token_bnt_price\n",
    "\n",
    "    except Exception as e:\n",
    "        print(f\"Error getting price for {token_symbol}: {e}\")\n",
    "        return 0.0\n",
    "\n"
   ],
   "metadata": {
    "collapsed": false,
    "ExecuteTime": {
     "start_time": "2023-04-25T20:19:57.708356Z",
     "end_time": "2023-04-25T20:20:04.482483Z"
    }
   }
  },
  {
   "cell_type": "code",
   "execution_count": 2,
   "outputs": [
    {
     "data": {
      "text/plain": "['0x0']"
     },
     "execution_count": 2,
     "metadata": {},
     "output_type": "execute_result"
    }
   ],
   "source": [
    "from fastlane_bot.tools.cpc import CPCContainer\n",
    "\n",
    "bot = CarbonBot()\n",
    "bnt_price_map = bot.db.bnt_price_map\n",
    "curves = bot.get_curves()\n",
    "CCm = CPCContainer(curves)\n",
    "tokens = CCm.tokens()\n",
    "symbols = list(set([token.split('-')[0] for token in tokens]))\n",
    "symbols = [symbol for symbol in symbols if symbol not in bnt_price_map.keys()]\n",
    "symbols"
   ],
   "metadata": {
    "collapsed": false,
    "ExecuteTime": {
     "start_time": "2023-04-25T20:20:04.493970Z",
     "end_time": "2023-04-25T20:20:04.725313Z"
    }
   }
  },
  {
   "cell_type": "code",
   "execution_count": 3,
   "outputs": [
    {
     "data": {
      "text/plain": "{'0x0': 0.05604001204113781}"
     },
     "execution_count": 3,
     "metadata": {},
     "output_type": "execute_result"
    }
   ],
   "source": [
    "price_dicts = {symbol: get_updated_price_in_bnt_units(symbol) for symbol in symbols}\n",
    "price_dicts"
   ],
   "metadata": {
    "collapsed": false,
    "ExecuteTime": {
     "start_time": "2023-04-25T20:20:04.724171Z",
     "end_time": "2023-04-25T20:20:35.660007Z"
    }
   }
  },
  {
   "cell_type": "code",
   "execution_count": 4,
   "outputs": [],
   "source": [
    "assert len(price_dicts) > 0"
   ],
   "metadata": {
    "collapsed": false,
    "ExecuteTime": {
     "start_time": "2023-04-25T20:20:35.660004Z",
     "end_time": "2023-04-25T20:20:35.664983Z"
    }
   }
  }
 ],
 "metadata": {
  "kernelspec": {
   "display_name": "Python 3",
   "language": "python",
   "name": "python3"
  },
  "language_info": {
   "codemirror_mode": {
    "name": "ipython",
    "version": 2
   },
   "file_extension": ".py",
   "mimetype": "text/x-python",
   "name": "python",
   "nbconvert_exporter": "python",
   "pygments_lexer": "ipython2",
   "version": "2.7.6"
  }
 },
 "nbformat": 4,
 "nbformat_minor": 0
}

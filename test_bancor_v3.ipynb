{
 "cells": [
  {
   "cell_type": "code",
   "execution_count": 57,
   "id": "84fa264b",
   "metadata": {
    "ExecuteTime": {
     "end_time": "2023-07-09T13:54:12.577531Z",
     "start_time": "2023-07-09T13:54:12.514167Z"
    }
   },
   "outputs": [
    {
     "name": "stdout",
     "output_type": "stream",
     "text": [
      "ConstantProductCurve v2.10.1 (07/May/2023)\n",
      "CarbonBot v3-b2.2 (20/June/2023)\n",
      "UniswapV2 v0.0.1 (2023-07-03)\n",
      "UniswapV3 v0.0.1 (2023-07-03)\n",
      "SushiswapV2 v0.0.1 (2023-07-03)\n",
      "CarbonV1 v0.0.1 (2023-07-03)\n",
      "BancorV3 v0.0.1 (2023-07-03)\n",
      "Version = 3-b2.2 [requirements >= 3.0 is met]\n"
     ]
    },
    {
     "name": "stderr",
     "output_type": "stream",
     "text": [
      "/var/folders/rt/qnj8r6yd6131ccxkw_k9d9gc0000gn/T/ipykernel_59284/11046064.py:25: MatplotlibDeprecationWarning: The seaborn styles shipped by Matplotlib are deprecated since 3.6, as they no longer correspond to the styles shipped by seaborn. However, they will remain available as 'seaborn-v0_8-<style>'. Alternatively, directly use the seaborn API instead.\n",
      "  plt.style.use('seaborn-dark')\n"
     ]
    }
   ],
   "source": [
    "# coding=utf-8\n",
    "\"\"\"\n",
    "This module contains the tests for the exchanges classes\n",
    "\"\"\"\n",
    "from fastlane_bot import Bot, Config\n",
    "from fastlane_bot.bot import CarbonBot\n",
    "from fastlane_bot.tools.cpc import ConstantProductCurve as CPC\n",
    "from fastlane_bot.events.exchanges import UniswapV2, UniswapV3, SushiswapV2, CarbonV1, BancorV3\n",
    "from fastlane_bot.events.interface import QueryInterface\n",
    "from fastlane_bot.helpers.poolandtokens import PoolAndTokens\n",
    "from fastlane_bot.helpers import TradeInstruction, TxReceiptHandler, TxRouteHandler, TxSubmitHandler, TxHelpers, TxHelper\n",
    "from fastlane_bot.events.manager import Manager\n",
    "from fastlane_bot.events.interface import QueryInterface\n",
    "import pytest\n",
    "import math\n",
    "print(\"{0.__name__} v{0.__VERSION__} ({0.__DATE__})\".format(CPC))\n",
    "print(\"{0.__name__} v{0.__VERSION__} ({0.__DATE__})\".format(Bot))\n",
    "print(\"{0.__name__} v{0.__VERSION__} ({0.__DATE__})\".format(UniswapV2))\n",
    "print(\"{0.__name__} v{0.__VERSION__} ({0.__DATE__})\".format(UniswapV3))\n",
    "print(\"{0.__name__} v{0.__VERSION__} ({0.__DATE__})\".format(SushiswapV2))\n",
    "print(\"{0.__name__} v{0.__VERSION__} ({0.__DATE__})\".format(CarbonV1))\n",
    "print(\"{0.__name__} v{0.__VERSION__} ({0.__DATE__})\".format(BancorV3))\n",
    "from fastlane_bot.testing import *\n",
    "\n",
    "plt.style.use('seaborn-dark')\n",
    "plt.rcParams['figure.figsize'] = [12,6]\n",
    "from fastlane_bot import __VERSION__\n",
    "require(\"3.0\", __VERSION__)"
   ]
  },
  {
   "cell_type": "code",
   "execution_count": 58,
   "id": "a51e5ec2",
   "metadata": {
    "ExecuteTime": {
     "end_time": "2023-07-09T13:54:13.771032Z",
     "start_time": "2023-07-09T13:54:12.517536Z"
    }
   },
   "outputs": [],
   "source": [
    "C = cfg = Config.new(config=Config.CONFIG_MAINNET)\n",
    "assert (C.NETWORK == C.NETWORK_MAINNET)\n",
    "assert (C.PROVIDER == C.PROVIDER_ALCHEMY)\n",
    "setup_bot = CarbonBot(ConfigObj=C)"
   ]
  },
  {
   "cell_type": "code",
   "execution_count": 59,
   "id": "a8986ce6",
   "metadata": {
    "ExecuteTime": {
     "end_time": "2023-07-09T13:54:13.815668Z",
     "start_time": "2023-07-09T13:54:13.771735Z"
    }
   },
   "outputs": [],
   "source": [
    "import json\n",
    "\n",
    "pools = None\n",
    "with open('latest_pool_data.json') as f:\n",
    "    pools = json.load(f)\n",
    "pools = [pool for pool in pools]"
   ]
  },
  {
   "cell_type": "code",
   "execution_count": 60,
   "id": "b37b1c86",
   "metadata": {
    "ExecuteTime": {
     "end_time": "2023-07-09T13:54:13.818688Z",
     "start_time": "2023-07-09T13:54:13.815923Z"
    }
   },
   "outputs": [],
   "source": [
    "pools[0]\n",
    "static_pools = pools"
   ]
  },
  {
   "cell_type": "code",
   "execution_count": 61,
   "id": "f71ef9b3",
   "metadata": {
    "ExecuteTime": {
     "end_time": "2023-07-09T13:54:13.824345Z",
     "start_time": "2023-07-09T13:54:13.821038Z"
    }
   },
   "outputs": [
    {
     "name": "stdout",
     "output_type": "stream",
     "text": [
      "{'cid': '0x06b295766e941eb449be6a47d11466a50debbacc20638269523dac448fd210d4', 'last_updated': nan, 'last_updated_block': 17656341, 'descr': 'uniswap_v3 WETH-6Cc2/LHINU-038d 3000', 'pair_name': 'WETH-6Cc2/LHINU-038d', 'exchange_name': 'uniswap_v3', 'fee': 3000, 'fee_float': 0.003, 'address': '0xc5BBA4469eD5B55eE21228C9E7261816081C4Bfb', 'anchor': nan, 'tkn0_address': '0xC02aaA39b223FE8D0A0e5C4F27eAD9083C756Cc2', 'tkn1_address': '0xCeDefE438860D2789dA6419b3a19cEcE2A41038d', 'tkn0_key': 'WETH-6Cc2', 'tkn1_key': 'LHINU-038d', 'tkn0_decimals': 18.0, 'tkn1_decimals': 18.0, 'exchange_id': 4.0, 'tkn0_symbol': 'WETH', 'tkn1_symbol': 'LHINU', 'timestamp': nan, 'tkn0_balance': nan, 'tkn1_balance': nan, 'liquidity': 0, 'sqrt_price_q96': 377342446735349330393098223164703, 'tick': 169379, 'tick_spacing': 60, 'exchange': 'uniswap_v3'}\n",
      "{'cid': '0x06b295766e941eb449be6a47d11466a50debbacc20638269523dac448fd210d4', 'last_updated': nan, 'last_updated_block': 17656341, 'descr': 'uniswap_v3 WETH-6Cc2/LHINU-038d 3000', 'pair_name': 'WETH-6Cc2/LHINU-038d', 'exchange_name': 'uniswap_v3', 'fee': 3000, 'fee_float': 0.003, 'address': '0xc5BBA4469eD5B55eE21228C9E7261816081C4Bfb', 'anchor': nan, 'tkn0_address': '0xC02aaA39b223FE8D0A0e5C4F27eAD9083C756Cc2', 'tkn1_address': '0xCeDefE438860D2789dA6419b3a19cEcE2A41038d', 'tkn0_key': 'WETH-6Cc2', 'tkn1_key': 'LHINU-038d', 'tkn0_decimals': 18.0, 'tkn1_decimals': 18.0, 'exchange_id': 4.0, 'tkn0_symbol': 'WETH', 'tkn1_symbol': 'LHINU', 'timestamp': nan, 'tkn0_balance': nan, 'tkn1_balance': nan, 'liquidity': 0, 'sqrt_price_q96': 377342446735349330393098223164703, 'tick': 169379, 'tick_spacing': 60, 'exchange': 'uniswap_v3'}\n"
     ]
    }
   ],
   "source": [
    "print(pools[0])\n",
    "print(static_pools[0])"
   ]
  },
  {
   "cell_type": "code",
   "execution_count": 62,
   "metadata": {
    "ExecuteTime": {
     "end_time": "2023-07-09T13:54:13.839769Z",
     "start_time": "2023-07-09T13:54:13.823320Z"
    }
   },
   "outputs": [],
   "source": [
    "state = pools\n",
    "exchanges = list({ex['exchange_name'] for ex in state})\n",
    "db = QueryInterface(state=state, ConfigObj=C, exchanges=exchanges)\n",
    "setup_bot.db = db"
   ]
  },
  {
   "cell_type": "code",
   "execution_count": 63,
   "outputs": [
    {
     "name": "stdout",
     "output_type": "stream",
     "text": [
      "{'cid': '0x06b295766e941eb449be6a47d11466a50debbacc20638269523dac448fd210d4', 'last_updated': nan, 'last_updated_block': 17656341, 'descr': 'uniswap_v3 WETH-6Cc2/LHINU-038d 3000', 'pair_name': 'WETH-6Cc2/LHINU-038d', 'exchange_name': 'uniswap_v3', 'fee': 3000, 'fee_float': 0.003, 'address': '0xc5BBA4469eD5B55eE21228C9E7261816081C4Bfb', 'anchor': nan, 'tkn0_address': '0xC02aaA39b223FE8D0A0e5C4F27eAD9083C756Cc2', 'tkn1_address': '0xCeDefE438860D2789dA6419b3a19cEcE2A41038d', 'tkn0_key': 'WETH-6Cc2', 'tkn1_key': 'LHINU-038d', 'tkn0_decimals': 18.0, 'tkn1_decimals': 18.0, 'exchange_id': 4.0, 'tkn0_symbol': 'WETH', 'tkn1_symbol': 'LHINU', 'timestamp': nan, 'tkn0_balance': nan, 'tkn1_balance': nan, 'liquidity': 0, 'sqrt_price_q96': 377342446735349330393098223164703, 'tick': 169379, 'tick_spacing': 60, 'exchange': 'uniswap_v3'}\n"
     ]
    }
   ],
   "source": [
    "print(state[0])"
   ],
   "metadata": {
    "collapsed": false,
    "ExecuteTime": {
     "end_time": "2023-07-09T13:54:13.864554Z",
     "start_time": "2023-07-09T13:54:13.840826Z"
    }
   }
  },
  {
   "cell_type": "code",
   "execution_count": 64,
   "id": "79724ded",
   "metadata": {
    "ExecuteTime": {
     "end_time": "2023-07-09T13:54:13.864827Z",
     "start_time": "2023-07-09T13:54:13.843671Z"
    }
   },
   "outputs": [
    {
     "name": "stdout",
     "output_type": "stream",
     "text": [
      "{'cid': '0x06b295766e941eb449be6a47d11466a50debbacc20638269523dac448fd210d4', 'last_updated': nan, 'last_updated_block': 17656341, 'descr': 'uniswap_v3 WETH-6Cc2/LHINU-038d 3000', 'pair_name': 'WETH-6Cc2/LHINU-038d', 'exchange_name': 'uniswap_v3', 'fee': 3000, 'fee_float': 0.003, 'address': '0xc5BBA4469eD5B55eE21228C9E7261816081C4Bfb', 'anchor': nan, 'tkn0_address': '0xC02aaA39b223FE8D0A0e5C4F27eAD9083C756Cc2', 'tkn1_address': '0xCeDefE438860D2789dA6419b3a19cEcE2A41038d', 'tkn0_key': 'WETH-6Cc2', 'tkn1_key': 'LHINU-038d', 'tkn0_decimals': 18.0, 'tkn1_decimals': 18.0, 'exchange_id': 4.0, 'tkn0_symbol': 'WETH', 'tkn1_symbol': 'LHINU', 'timestamp': nan, 'tkn0_balance': nan, 'tkn1_balance': nan, 'liquidity': 0, 'sqrt_price_q96': 377342446735349330393098223164703, 'tick': 169379, 'tick_spacing': 60, 'exchange': 'uniswap_v3'}\n"
     ]
    }
   ],
   "source": [
    "print(pools[0])"
   ]
  },
  {
   "cell_type": "code",
   "execution_count": 65,
   "id": "6cc5b472",
   "metadata": {
    "ExecuteTime": {
     "end_time": "2023-07-09T13:54:13.915008Z",
     "start_time": "2023-07-09T13:54:13.849521Z"
    }
   },
   "outputs": [],
   "source": [
    "static_pool_data_filename = \"static_pool_data\"\n",
    "\n",
    "static_pool_data = pd.read_csv(f\"fastlane_bot/data/{static_pool_data_filename}.csv\", low_memory=False)\n",
    "    \n",
    "uniswap_v2_event_mappings = pd.read_csv(\"fastlane_bot/data/uniswap_v2_event_mappings.csv\", low_memory=False)\n",
    "        \n",
    "tokens = pd.read_csv(\"fastlane_bot/data/tokens.csv\", low_memory=False)\n",
    "        \n",
    "exchanges = \"carbon_v1,bancor_v3,uniswap_v3,uniswap_v2,sushiswap_v2\"\n",
    "\n",
    "exchanges = exchanges.split(\",\")\n",
    "arb_mode = \"bancor_v3\"\n",
    "\n",
    "alchemy_max_block_fetch = 20"
   ]
  },
  {
   "cell_type": "code",
   "execution_count": 66,
   "id": "7695b95f",
   "metadata": {
    "ExecuteTime": {
     "end_time": "2023-07-09T13:54:14.061176Z",
     "start_time": "2023-07-09T13:54:13.913015Z"
    }
   },
   "outputs": [],
   "source": [
    "static_pool_data[\"cid\"] = [\n",
    "        cfg.w3.keccak(text=f\"{row['descr']}\").hex()\n",
    "        for index, row in static_pool_data.iterrows()\n",
    "    ]\n"
   ]
  },
  {
   "cell_type": "code",
   "execution_count": 67,
   "outputs": [],
   "source": [
    "# Filter out pools that are not in the supported exchanges\n",
    "static_pool_data = [\n",
    "    row for index, row in static_pool_data.iterrows()\n",
    "    if row[\"exchange_name\"] in exchanges\n",
    "]\n",
    "\n",
    "static_pool_data = pd.DataFrame(static_pool_data)"
   ],
   "metadata": {
    "collapsed": false,
    "ExecuteTime": {
     "end_time": "2023-07-09T13:54:14.320271Z",
     "start_time": "2023-07-09T13:54:14.062220Z"
    }
   }
  },
  {
   "cell_type": "code",
   "execution_count": 68,
   "outputs": [
    {
     "data": {
      "text/plain": "array(['uniswap_v3', 'bancor_v3', 'uniswap_v2', 'sushiswap_v2'],\n      dtype=object)"
     },
     "execution_count": 68,
     "metadata": {},
     "output_type": "execute_result"
    }
   ],
   "source": [
    "static_pool_data['exchange_name'].unique()"
   ],
   "metadata": {
    "collapsed": false,
    "ExecuteTime": {
     "end_time": "2023-07-09T13:54:14.327195Z",
     "start_time": "2023-07-09T13:54:14.322677Z"
    }
   }
  },
  {
   "cell_type": "code",
   "execution_count": 69,
   "id": "da422583",
   "metadata": {
    "ExecuteTime": {
     "end_time": "2023-07-09T13:54:14.649580Z",
     "start_time": "2023-07-09T13:54:14.352440Z"
    }
   },
   "outputs": [
    {
     "name": "stderr",
     "output_type": "stream",
     "text": [
      "2023-07-09 06:54:14,640 [fastlane:INFO] - Time taken to add initial pools: 0.0918729305267334\n",
      "2023-07-09 06:54:14,640 [fastlane:INFO] - Time taken to add initial pools: 0.0918729305267334\n",
      "2023-07-09 06:54:14,640 [fastlane:INFO] - Time taken to add initial pools: 0.0918729305267334\n"
     ]
    }
   ],
   "source": [
    "from joblib import Parallel, delayed\n",
    "\n",
    "# Initialize data fetch manager\n",
    "mgr = Manager(\n",
    "    web3=cfg.w3,\n",
    "    cfg=cfg,\n",
    "    pool_data=static_pool_data.to_dict(orient=\"records\"),\n",
    "    SUPPORTED_EXCHANGES=exchanges,\n",
    "    alchemy_max_block_fetch=alchemy_max_block_fetch,\n",
    "    uniswap_v2_event_mappings=uniswap_v2_event_mappings,\n",
    "    tokens=tokens.to_dict(orient=\"records\"),\n",
    ")\n",
    "\n",
    "# Add initial pools for each row in the static_pool_data\n",
    "start_time = time.time()\n",
    "Parallel(n_jobs=-1, backend=\"threading\")(\n",
    "    delayed(mgr.add_pool_to_exchange)(row) for row in mgr.pool_data\n",
    ")\n",
    "cfg.logger.info(f\"Time taken to add initial pools: {time.time() - start_time}\")\n",
    "\n",
    "# check if any duplicate cid's exist in the pool data\n",
    "mgr.deduplicate_pool_data()\n",
    "cids = [pool[\"cid\"] for pool in mgr.pool_data]\n",
    "assert len(cids) == len(set(cids)), \"duplicate cid's exist in the pool data\""
   ]
  },
  {
   "cell_type": "code",
   "execution_count": 70,
   "id": "c7b0d9e1",
   "metadata": {
    "ExecuteTime": {
     "end_time": "2023-07-09T13:54:14.657376Z",
     "start_time": "2023-07-09T13:54:14.655798Z"
    }
   },
   "outputs": [],
   "source": [
    "def init_bot(mgr: Manager) -> CarbonBot:\n",
    "    \"\"\"\n",
    "    Initializes the bot.\n",
    "\n",
    "    Parameters\n",
    "    ----------\n",
    "    mgr : Manager\n",
    "        The manager object.\n",
    "\n",
    "    Returns\n",
    "    -------\n",
    "    CarbonBot\n",
    "        The bot object.\n",
    "    \"\"\"\n",
    "    mgr.cfg.logger.info(\"Initializing the bot...\")\n",
    "    bot = CarbonBot(ConfigObj=mgr.cfg)\n",
    "    bot.db = db\n",
    "    assert isinstance(\n",
    "        bot.db, QueryInterface\n",
    "    ), \"QueryInterface not initialized correctly\"\n",
    "    return bot"
   ]
  },
  {
   "cell_type": "code",
   "execution_count": 71,
   "id": "30affd76",
   "metadata": {
    "ExecuteTime": {
     "end_time": "2023-07-09T13:54:14.788568Z",
     "start_time": "2023-07-09T13:54:14.658075Z"
    }
   },
   "outputs": [
    {
     "name": "stderr",
     "output_type": "stream",
     "text": [
      "2023-07-09 06:54:14,657 [fastlane:INFO] - Initializing the bot...\n",
      "2023-07-09 06:54:14,657 [fastlane:INFO] - Initializing the bot...\n",
      "2023-07-09 06:54:14,657 [fastlane:INFO] - Initializing the bot...\n"
     ]
    }
   ],
   "source": [
    "bot = init_bot(mgr)"
   ]
  },
  {
   "cell_type": "code",
   "execution_count": 72,
   "outputs": [
    {
     "name": "stderr",
     "output_type": "stream",
     "text": [
      "2023-07-09 06:54:14,793 [fastlane:INFO] - Removed 3266 unmapped uniswap_v2/sushi pools. 1924 uniswap_v2/sushi pools remaining\n",
      "2023-07-09 06:54:14,793 [fastlane:INFO] - Removed 3266 unmapped uniswap_v2/sushi pools. 1924 uniswap_v2/sushi pools remaining\n",
      "2023-07-09 06:54:14,793 [fastlane:INFO] - Removed 3266 unmapped uniswap_v2/sushi pools. 1924 uniswap_v2/sushi pools remaining\n",
      "2023-07-09 06:54:14,795 [fastlane:INFO] - Unmapped uniswap_v2/sushi pools:\n",
      "2023-07-09 06:54:14,795 [fastlane:INFO] - Unmapped uniswap_v2/sushi pools:\n",
      "2023-07-09 06:54:14,795 [fastlane:INFO] - Unmapped uniswap_v2/sushi pools:\n",
      "2023-07-09 06:54:15,070 [fastlane:INFO] - uniswap_v3: 0\n",
      "2023-07-09 06:54:15,070 [fastlane:INFO] - uniswap_v3: 0\n",
      "2023-07-09 06:54:15,070 [fastlane:INFO] - uniswap_v3: 0\n",
      "2023-07-09 06:54:15,071 [fastlane:INFO] - uniswap_v2: 3266\n",
      "2023-07-09 06:54:15,071 [fastlane:INFO] - uniswap_v2: 3266\n",
      "2023-07-09 06:54:15,071 [fastlane:INFO] - uniswap_v2: 3266\n",
      "2023-07-09 06:54:15,072 [fastlane:INFO] - sushiswap_v2: 0\n",
      "2023-07-09 06:54:15,072 [fastlane:INFO] - sushiswap_v2: 0\n",
      "2023-07-09 06:54:15,072 [fastlane:INFO] - sushiswap_v2: 0\n",
      "2023-07-09 06:54:15,074 [fastlane:INFO] - uniswap_v3: 26\n",
      "2023-07-09 06:54:15,074 [fastlane:INFO] - uniswap_v3: 26\n",
      "2023-07-09 06:54:15,074 [fastlane:INFO] - uniswap_v3: 26\n",
      "2023-07-09 06:54:15,075 [fastlane:INFO] - sushiswap_v2: 8\n",
      "2023-07-09 06:54:15,075 [fastlane:INFO] - sushiswap_v2: 8\n",
      "2023-07-09 06:54:15,075 [fastlane:INFO] - sushiswap_v2: 8\n",
      "2023-07-09 06:54:15,076 [fastlane:INFO] - uniswap_v2: 0\n",
      "2023-07-09 06:54:15,076 [fastlane:INFO] - uniswap_v2: 0\n",
      "2023-07-09 06:54:15,076 [fastlane:INFO] - uniswap_v2: 0\n",
      "2023-07-09 06:54:15,077 [fastlane:INFO] - bancor_v2: 0\n",
      "2023-07-09 06:54:15,077 [fastlane:INFO] - bancor_v2: 0\n",
      "2023-07-09 06:54:15,077 [fastlane:INFO] - bancor_v2: 0\n",
      "2023-07-09 06:54:15,077 [fastlane:INFO] - bancor_v3: 34\n",
      "2023-07-09 06:54:15,077 [fastlane:INFO] - bancor_v3: 34\n",
      "2023-07-09 06:54:15,077 [fastlane:INFO] - bancor_v3: 34\n",
      "2023-07-09 06:54:15,078 [fastlane:INFO] - carbon_v1: 215\n",
      "2023-07-09 06:54:15,078 [fastlane:INFO] - carbon_v1: 215\n",
      "2023-07-09 06:54:15,078 [fastlane:INFO] - carbon_v1: 215\n",
      "2023-07-09 06:54:15,088 [fastlane:INFO] - uniswap_v3_zero_liquidity_pools: 1468\n",
      "2023-07-09 06:54:15,088 [fastlane:INFO] - uniswap_v3_zero_liquidity_pools: 1468\n",
      "2023-07-09 06:54:15,088 [fastlane:INFO] - uniswap_v3_zero_liquidity_pools: 1468\n",
      "2023-07-09 06:54:15,089 [fastlane:INFO] - sushiswap_v2_zero_liquidity_pools: 136\n",
      "2023-07-09 06:54:15,089 [fastlane:INFO] - sushiswap_v2_zero_liquidity_pools: 136\n",
      "2023-07-09 06:54:15,089 [fastlane:INFO] - sushiswap_v2_zero_liquidity_pools: 136\n",
      "2023-07-09 06:54:15,090 [fastlane:INFO] - uniswap_v2_zero_liquidity_pools: 0\n",
      "2023-07-09 06:54:15,090 [fastlane:INFO] - uniswap_v2_zero_liquidity_pools: 0\n",
      "2023-07-09 06:54:15,090 [fastlane:INFO] - uniswap_v2_zero_liquidity_pools: 0\n",
      "2023-07-09 06:54:15,091 [fastlane:INFO] - bancor_v2_zero_liquidity_pools: 0\n",
      "2023-07-09 06:54:15,091 [fastlane:INFO] - bancor_v2_zero_liquidity_pools: 0\n",
      "2023-07-09 06:54:15,091 [fastlane:INFO] - bancor_v2_zero_liquidity_pools: 0\n",
      "2023-07-09 06:54:15,092 [fastlane:INFO] - bancor_v3_zero_liquidity_pools: 37\n",
      "2023-07-09 06:54:15,092 [fastlane:INFO] - bancor_v3_zero_liquidity_pools: 37\n",
      "2023-07-09 06:54:15,092 [fastlane:INFO] - bancor_v3_zero_liquidity_pools: 37\n",
      "2023-07-09 06:54:15,093 [fastlane:INFO] - carbon_v1_zero_liquidity_pools: 0\n",
      "2023-07-09 06:54:15,093 [fastlane:INFO] - carbon_v1_zero_liquidity_pools: 0\n",
      "2023-07-09 06:54:15,093 [fastlane:INFO] - carbon_v1_zero_liquidity_pools: 0\n",
      "2023-07-09 06:54:15,094 [fastlane:INFO] - Removed 0 unsupported exchanges. 283 pools remaining\n",
      "2023-07-09 06:54:15,094 [fastlane:INFO] - Removed 0 unsupported exchanges. 283 pools remaining\n",
      "2023-07-09 06:54:15,094 [fastlane:INFO] - Removed 0 unsupported exchanges. 283 pools remaining\n",
      "2023-07-09 06:54:15,095 [fastlane:INFO] - Pools remaining per exchange:\n",
      "2023-07-09 06:54:15,095 [fastlane:INFO] - Pools remaining per exchange:\n",
      "2023-07-09 06:54:15,095 [fastlane:INFO] - Pools remaining per exchange:\n",
      "2023-07-09 06:54:15,096 [fastlane:INFO] - carbon_v1: 215\n",
      "2023-07-09 06:54:15,096 [fastlane:INFO] - carbon_v1: 215\n",
      "2023-07-09 06:54:15,096 [fastlane:INFO] - carbon_v1: 215\n",
      "2023-07-09 06:54:15,096 [fastlane:INFO] - bancor_v3: 34\n",
      "2023-07-09 06:54:15,096 [fastlane:INFO] - bancor_v3: 34\n",
      "2023-07-09 06:54:15,096 [fastlane:INFO] - bancor_v3: 34\n",
      "2023-07-09 06:54:15,097 [fastlane:INFO] - sushiswap_v2: 8\n",
      "2023-07-09 06:54:15,097 [fastlane:INFO] - sushiswap_v2: 8\n",
      "2023-07-09 06:54:15,097 [fastlane:INFO] - sushiswap_v2: 8\n",
      "2023-07-09 06:54:15,098 [fastlane:INFO] - uniswap_v2: 0\n",
      "2023-07-09 06:54:15,098 [fastlane:INFO] - uniswap_v2: 0\n",
      "2023-07-09 06:54:15,098 [fastlane:INFO] - uniswap_v2: 0\n",
      "2023-07-09 06:54:15,098 [fastlane:INFO] - uniswap_v3: 26\n",
      "2023-07-09 06:54:15,098 [fastlane:INFO] - uniswap_v3: 26\n",
      "2023-07-09 06:54:15,098 [fastlane:INFO] - uniswap_v3: 26\n"
     ]
    }
   ],
   "source": [
    "# add data cleanup steps from main.py\n",
    "bot.db.handle_token_key_cleanup()\n",
    "bot.db.remove_unmapped_uniswap_v2_pools()\n",
    "bot.db.remove_zero_liquidity_pools()\n",
    "bot.db.remove_unsupported_exchanges()"
   ],
   "metadata": {
    "collapsed": false,
    "ExecuteTime": {
     "end_time": "2023-07-09T13:54:15.109721Z",
     "start_time": "2023-07-09T13:54:14.794835Z"
    }
   }
  },
  {
   "cell_type": "code",
   "execution_count": 73,
   "id": "1f5979f7",
   "metadata": {},
   "outputs": [
    {
     "data": {
      "text/plain": "[Token(symbol='RLB', address='0x046EeE2cc3188071C02BfC1745A6b17c656e3f3d', decimals=18, key='RLB-3f3d'),\n Token(symbol='REQ', address='0x8f8221aFbB33998d8584A2B05749bA73c37a938a', decimals=18.0, key='REQ-938a'),\n Token(symbol='STG', address='0xAf5191B0De278C7286d6C7CC6ab6BB8A73bA2Cd6', decimals=18.0, key='STG-2Cd6'),\n Token(symbol='BEN', address='0x9bf1D7D63dD7a4ce167CF4866388226EEefa702E', decimals=18.0, key='BEN-702E'),\n Token(symbol='HEX', address='0x2b591e99afE9f32eAA6214f7B7629768c40Eeb39', decimals=8, key='HEX-eb39'),\n Token(symbol='TUCKER', address='0x6f49694827d46A14Baf2a7b1eAC3e6eB3526A84f', decimals=9, key='TUCKER-A84f'),\n Token(symbol='MONA', address='0x275f5Ad03be0Fa221B4C6649B8AeE09a42D9412A', decimals=18.0, key='MONA-412A'),\n Token(symbol='ENS', address='0xC18360217D8F7Ab5e7c516566761Ea12Ce7F9D72', decimals=18.0, key='ENS-9D72'),\n Token(symbol='POND', address='0x57B946008913B82E4dF85f501cbAeD910e58D26C', decimals=18.0, key='POND-D26C'),\n Token(symbol='BIAO', address='0x00282FD551D03dC033256C4bf119532e8C735D8a', decimals=2, key='BIAO-5D8a'),\n Token(symbol='CDT', address='0xCdB37A4fBC2Da5b78aA4E41a432792f9533e85Cc', decimals=18.0, key='CDT-85Cc'),\n Token(symbol='LRC', address='0xBBbbCA6A901c926F240b89EacB641d8Aec7AEafD', decimals=18.0, key='LRC-EafD'),\n Token(symbol='HOT', address='0x6c6EE5e31d828De241282B9606C8e98Ea48526E2', decimals=18.0, key='HOT-26E2'),\n Token(symbol='ICHI', address='0x903bEF1736CDdf2A537176cf3C64579C3867A881', decimals=9.0, key='ICHI-A881'),\n Token(symbol='TEMP', address='0xA36FDBBAE3c9d55a1d67EE5821d53B50B63A1aB9', decimals=18.0, key='TEMP-1aB9'),\n Token(symbol='ARB', address='0xB50721BCf8d664c30412Cfbc6cf7a15145234ad1', decimals=18, key='ARB-4ad1'),\n Token(symbol='SGT', address='0x24C19F7101c1731b85F1127EaA0407732E36EcDD', decimals=18, key='SGT-EcDD'),\n Token(symbol='LINK', address='0x514910771AF9Ca656af840dff83E8264EcF986CA', decimals=18.0, key='LINK-86CA'),\n Token(symbol='USH', address='0xE60779CC1b2c1d0580611c526a8DF0E3f870EC48', decimals=18.0, key='USH-EC48'),\n Token(symbol='RPL', address='0xD33526068D116cE69F19A9ee46F0bd304F21A51f', decimals=18.0, key='RPL-A51f'),\n Token(symbol='UOS', address='0xD13c7342e1ef687C5ad21b27c2b65D772cAb5C8c', decimals=4.0, key='UOS-5C8c'),\n Token(symbol='LYXe', address='0xA8b919680258d369114910511cc87595aec0be6D', decimals=18, key='LYXe-be6D'),\n Token(symbol='UNIBOT', address='0x25127685dC35d4dc96C7fEAC7370749d004C5040', decimals=18, key='UNIBOT-5040'),\n Token(symbol='LBR', address='0xC98835e792553e505AE46e73a6fD27a23985aCcA', decimals=18, key='LBR-aCcA'),\n Token(symbol='BBS', address='0xFe459828c90c0BA4bC8b42F5C5D44F316700B430', decimals=18, key='BBS-B430'),\n Token(symbol='PAXG', address='0x45804880De22913dAFE09f4980848ECE6EcbAf78', decimals=18, key='PAXG-Af78'),\n Token(symbol='wstETH', address='0x7f39C581F595B53c5cb19bD0b3f8dA6c935E2Ca0', decimals=18.0, key='wstETH-2Ca0'),\n Token(symbol='UNI', address='0x1f9840a85d5aF5bf1D1762F925BDADdC4201F984', decimals=18.0, key='UNI-F984'),\n Token(symbol='CROWN', address='0x444d6088B0F625f8C20192623B3C43001135E0fa', decimals=18.0, key='CROWN-E0fa'),\n Token(symbol='MDT', address='0x814e0908b12A99FeCf5BC101bB5d0b8B5cDf7d26', decimals=18.0, key='MDT-7d26'),\n Token(symbol='CVX', address='0x4e3FBD56CD56c3e72c1403e103b45Db9da5B9D2B', decimals=18, key='CVX-9D2B'),\n Token(symbol='0x0', address='0x5a3e6A77ba2f983eC0d371ea3B475F8Bc0811AD5', decimals=9, key='0x0-1AD5'),\n Token(symbol='USDT', address='0xdAC17F958D2ee523a2206206994597C13D831ec7', decimals=6.0, key='USDT-1ec7'),\n Token(symbol='DIP', address='0xc719d010B63E5bbF2C0551872CD5316ED26AcD83', decimals=18.0, key='DIP-cD83'),\n Token(symbol='OXO', address='0x47daC6BD80f024575a6d367aF5Ba8e89202A09fc', decimals=18, key='OXO-09fc'),\n Token(symbol='USDC', address='0xA0b86991c6218b36c1d19D4a2e9Eb0cE3606eB48', decimals=6.0, key='USDC-eB48'),\n Token(symbol='3Crv', address='0x6c3F90f043a72FA612cbac8115EE7e52BDe6E490', decimals=18.0, key='3Crv-E490'),\n Token(symbol='wNXM', address='0x0d438F3b5175Bebc262bF23753C1E53d03432bDE', decimals=18.0, key='wNXM-2bDE'),\n Token(symbol='DAI', address='0x6B175474E89094C44Da98b954EedeAC495271d0F', decimals=18.0, key='DAI-1d0F'),\n Token(symbol='ETH2x_FLI', address='0xAa6E8127831c9DE45ae56bB1b0d4D4Da6e5665BD', decimals=18, key='ETH2x_FLI-65BD'),\n Token(symbol='Silo', address='0x6f80310CA7F2C654691D1383149Fa1A57d8AB1f8', decimals=18, key='Silo-B1f8'),\n Token(symbol='agEUR', address='0x1a7e4e63778B4f12a199C062f3eFdD288afCBce8', decimals=18, key='agEUR-Bce8'),\n Token(symbol='AURA', address='0xC0c293ce456fF0ED870ADd98a0828Dd4d2903DBF', decimals=18, key='AURA-3DBF'),\n Token(symbol='PEPE3.0', address='0x0e92C90867bF82ebbE66ae0352a4C6D876Fb5398', decimals=18, key='PEPE3.0-5398'),\n Token(symbol='DEXT', address='0xfB7B4564402E5500dB5bB6d63Ae671302777C75a', decimals=18, key='DEXT-C75a'),\n Token(symbol='NMR', address='0x1776e1F26f98b1A5dF9cD347953a26dd3Cb46671', decimals=18.0, key='NMR-6671'),\n Token(symbol='icETH', address='0x7C07F7aBe10CE8e33DC6C5aD68FE033085256A84', decimals=18, key='icETH-6A84'),\n Token(symbol='GET', address='0x8a854288a5976036A725879164Ca3e91d30c6A1B', decimals=18, key='GET-6A1B'),\n Token(symbol='CRV', address='0xD533a949740bb3306d119CC777fa900bA034cd52', decimals=18, key='CRV-cd52'),\n Token(symbol='AAVE', address='0x7Fc66500c84A76Ad7e9c93437bFc5Ac33E2DDaE9', decimals=18.0, key='AAVE-DaE9'),\n Token(symbol='ARCONA', address='0x0f71B8De197A1C84d31de0F1fA7926c365F052B3', decimals=18, key='ARCONA-52B3'),\n Token(symbol='RIO', address='0xf21661D0D1d76d3ECb8e1B9F1c923DBfffAe4097', decimals=18.0, key='RIO-4097'),\n Token(symbol='PEPE2.0', address='0xfb66321D7C674995dFcC2cb67A30bC978dc862AD', decimals=18, key='PEPE2.0-62AD'),\n Token(symbol='SMT', address='0xB17548c7B510427baAc4e267BEa62e800b247173', decimals=18, key='SMT-7173'),\n Token(symbol='SNX', address='0xC011a73ee8576Fb46F5E1c5751cA3B9Fe0af2a6F', decimals=18, key='SNX-2a6F'),\n Token(symbol='SHIK', address='0x24dA31e7BB182cb2cABfEF1d88db19C2AE1f5572', decimals=18.0, key='SHIK-5572'),\n Token(symbol='TURBO', address='0xA35923162C49cF95e6BF26623385eb431ad920D3', decimals=18, key='TURBO-20D3'),\n Token(symbol='PENDLE', address='0x808507121B80c02388fAd14726482e061B8da827', decimals=18.0, key='PENDLE-a827'),\n Token(symbol='OMI', address='0xeD35af169aF46a02eE13b9d79Eb57d6D68C1749e', decimals=18.0, key='OMI-749e'),\n Token(symbol='MKR', address='0x9f8F72aA9304c8B593d555F12eF6589cC3A579A2', decimals=18.0, key='MKR-79A2'),\n Token(symbol='NXRA', address='0x644192291cc835A93d6330b24EA5f5FEdD0eEF9e', decimals=18.0, key='NXRA-EF9e'),\n Token(symbol='ETH', address='0xEeeeeEeeeEeEeeEeEeEeeEEEeeeeEeeeeeeeEEeE', decimals=18.0, key='ETH-EEeE'),\n Token(symbol='CRETH2', address='0x49D72e3973900A195A155a46441F0C08179FdB64', decimals=18, key='CRETH2-dB64'),\n Token(symbol='ENJ', address='0xF629cBd94d3791C9250152BD8dfBDF380E2a3B9c', decimals=18.0, key='ENJ-3B9c'),\n Token(symbol='JAY', address='0xDA7C0810cE6F8329786160bb3d1734cf6661CA6E', decimals=18, key='JAY-CA6E'),\n Token(symbol='xSUSHI', address='0x8798249c2E607446EfB7Ad49eC89dD1865Ff4272', decimals=18.0, key='xSUSHI-4272'),\n Token(symbol='MOVE', address='0x3FA729B4548beCBAd4EaB6EF18413470e6D5324C', decimals=18.0, key='MOVE-324C'),\n Token(symbol='eXRD', address='0x6468e79A80C0eaB0F9A2B574c8d5bC374Af59414', decimals=18, key='eXRD-9414'),\n Token(symbol='pepecoin', address='0xA9E8aCf069C58aEc8825542845Fd754e41a9489A', decimals=18, key='pepecoin-489A'),\n Token(symbol='rETH', address='0xae78736Cd615f374D3085123A210448E74Fc6393', decimals=18, key='rETH-6393'),\n Token(symbol='RLC', address='0x607F4C5BB672230e8672085532f7e901544a7375', decimals=9.0, key='RLC-7375'),\n Token(symbol='XCHF', address='0xB4272071eCAdd69d933AdcD19cA99fe80664fc08', decimals=18, key='XCHF-fc08'),\n Token(symbol='LUSD', address='0x5f98805A4E8be255a32880FDeC7F6728C6568bA0', decimals=18, key='LUSD-8bA0'),\n Token(symbol='WETH', address='0xC02aaA39b223FE8D0A0e5C4F27eAD9083C756Cc2', decimals=18.0, key='WETH-6Cc2'),\n Token(symbol='FXS', address='0x3432B6A60D23Ca0dFCa7761B7ab56459D9C964D0', decimals=18.0, key='FXS-64D0'),\n Token(symbol='QNT', address='0x4a220E6096B25EADb88358cb44068A3248254675', decimals=18.0, key='QNT-4675'),\n Token(symbol='GRT', address='0xc944E90C64B2c07662A292be6244BDf05Cda44a7', decimals=18, key='GRT-44a7'),\n Token(symbol='MATIC', address='0x7D1AfA7B718fb893dB30A3aBc0Cfc608AaCfeBB0', decimals=18.0, key='MATIC-eBB0'),\n Token(symbol='DCHF', address='0x045da4bFe02B320f4403674B3b7d121737727A36', decimals=18.0, key='DCHF-7A36'),\n Token(symbol='BAT', address='0x0D8775F648430679A709E98d2b0Cb6250d2887EF', decimals=18.0, key='BAT-87EF'),\n Token(symbol='vBNT', address='0x48Fb253446873234F2fEBbF9BdeAA72d9d387f94', decimals=18.0, key='vBNT-7f94'),\n Token(symbol='OETH', address='0x856c4Efb76C1D1AE02e20CEB03A2A6a08b0b8dC3', decimals=18, key='OETH-8dC3'),\n Token(symbol='WOO', address='0x4691937a7508860F876c9c0a2a617E7d9E945D4B', decimals=18.0, key='WOO-5D4B'),\n Token(symbol='WBTC', address='0x2260FAC5E5542a773Aa44fBCfeDf7C193bc2C599', decimals=8.0, key='WBTC-C599'),\n Token(symbol='BEE', address='0x4C4F2B9DEB3c91006719Bb3232DD4eb39977307c', decimals=18, key='BEE-307c'),\n Token(symbol='wjAURA', address='0x198d7387Fa97A73F05b8578CdEFf8F2A1f34Cd1F', decimals=18, key='wjAURA-Cd1F'),\n Token(symbol='OM', address='0x3593D125a4f7849a1B059E64F4517A86Dd60c95d', decimals=18, key='OM-c95d'),\n Token(symbol='ANKR', address='0x8290333ceF9e6D528dD5618Fb97a76f268f3EDD4', decimals=18.0, key='ANKR-EDD4'),\n Token(symbol='TRAC', address='0xaA7a9CA87d3694B5755f213B5D04094b8d0F0A6F', decimals=18.0, key='TRAC-0A6F'),\n Token(symbol='BAM', address='0x9DB0FB0Aebe6A925B7838D16e3993A3976A64AaB', decimals=18, key='BAM-4AaB'),\n Token(symbol='PEPE', address='0x6982508145454Ce325dDbE47a25d4ec3d2311933', decimals=18.0, key='PEPE-1933'),\n Token(symbol='CHZ', address='0x3506424F91fD33084466F402d5D97f05F8e3b4AF', decimals=18.0, key='CHZ-b4AF'),\n Token(symbol='TSUKA', address='0xc5fB36dd2fb59d3B98dEfF88425a3F425Ee469eD', decimals=9, key='TSUKA-69eD'),\n Token(symbol='HIFI', address='0x4b9278b94a1112cAD404048903b8d343a810B07e', decimals=18.0, key='HIFI-B07e'),\n Token(symbol='FUN', address='0x419D0d8BdD9aF5e606Ae2232ed285Aff190E711b', decimals=8.0, key='FUN-711b'),\n Token(symbol='MANA', address='0x0F5D2fB29fb7d3CFeE444a200298f468908cC942', decimals=18.0, key='MANA-C942'),\n Token(symbol='BNT', address='0x1F573D6Fb3F13d689FF844B4cE37794d79a7FF1C', decimals=18.0, key='BNT-FF1C'),\n Token(symbol='stETH', address='0xae7ab96520DE3A18E5e111B5EaAb095312D7fE84', decimals=18, key='stETH-fE84'),\n Token(symbol='Metis', address='0x9E32b13ce7f2E80A01932B42553652E053D6ed8e', decimals=18.0, key='Metis-ed8e')]"
     },
     "execution_count": 73,
     "metadata": {},
     "output_type": "execute_result"
    }
   ],
   "source": [
    "tokens = bot.db.get_tokens()\n",
    "tokens"
   ]
  },
  {
   "cell_type": "code",
   "execution_count": 74,
   "id": "54ae3201",
   "metadata": {
    "ExecuteTime": {
     "end_time": "2023-07-09T13:54:15.119648Z",
     "start_time": "2023-07-09T13:54:15.112719Z"
    }
   },
   "outputs": [],
   "source": [
    "ADDRDEC = {t.key: (t.address, int(t.decimals)) for t in tokens if not math.isnan(t.decimals)}\n",
    "# ADDRDEC = {t.key: (t.address, int(t.decimals)) for t in tokens}"
   ]
  },
  {
   "cell_type": "code",
   "execution_count": 75,
   "id": "7d549746",
   "metadata": {
    "ExecuteTime": {
     "end_time": "2023-07-09T13:54:15.119780Z",
     "start_time": "2023-07-09T13:54:15.115001Z"
    }
   },
   "outputs": [
    {
     "name": "stdout",
     "output_type": "stream",
     "text": [
      "99\n"
     ]
    }
   ],
   "source": [
    "\n",
    "print(len(ADDRDEC))"
   ]
  },
  {
   "cell_type": "code",
   "execution_count": 76,
   "id": "56b84131",
   "metadata": {
    "ExecuteTime": {
     "end_time": "2023-07-09T13:54:15.158900Z",
     "start_time": "2023-07-09T13:54:15.123724Z"
    }
   },
   "outputs": [],
   "source": [
    "flashloan_tokens = bot.setup_flashloan_tokens([\"BNT-FF1C\"])\n",
    "CCm = bot.setup_CCm(None)"
   ]
  },
  {
   "cell_type": "code",
   "execution_count": 77,
   "metadata": {
    "ExecuteTime": {
     "end_time": "2023-07-09T13:54:15.164754Z",
     "start_time": "2023-07-09T13:54:15.137291Z"
    }
   },
   "outputs": [],
   "source": [
    "pools = db.get_pool_data_with_tokens()"
   ]
  },
  {
   "cell_type": "code",
   "execution_count": 78,
   "id": "a945fe92",
   "metadata": {
    "ExecuteTime": {
     "end_time": "2023-07-09T13:54:15.165035Z",
     "start_time": "2023-07-09T13:54:15.141233Z"
    }
   },
   "outputs": [
    {
     "name": "stdout",
     "output_type": "stream",
     "text": [
      "283\n"
     ]
    }
   ],
   "source": [
    "print(len(pools))"
   ]
  },
  {
   "cell_type": "code",
   "execution_count": 79,
   "id": "f729b8dd",
   "metadata": {
    "ExecuteTime": {
     "end_time": "2023-07-09T13:54:15.356070Z",
     "start_time": "2023-07-09T13:54:15.145394Z"
    }
   },
   "outputs": [
    {
     "name": "stderr",
     "output_type": "stream",
     "text": [
      "2023-07-09 06:54:15,144 [fastlane:WARNING] - base_exchange must be bancor_v3 for single_triangle_bancor3, setting it to bancor_v3\n",
      "2023-07-09 06:54:15,144 [fastlane:WARNING] - base_exchange must be bancor_v3 for single_triangle_bancor3, setting it to bancor_v3\n",
      "2023-07-09 06:54:15,144 [fastlane:WARNING] - base_exchange must be bancor_v3 for single_triangle_bancor3, setting it to bancor_v3\n",
      "2023-07-09 06:54:15,145 [fastlane:INFO] - flashloan_tokens for arb_mode=single_triangle_bancor3 will be overwritten. \n",
      "2023-07-09 06:54:15,145 [fastlane:INFO] - flashloan_tokens for arb_mode=single_triangle_bancor3 will be overwritten. \n",
      "2023-07-09 06:54:15,145 [fastlane:INFO] - flashloan_tokens for arb_mode=single_triangle_bancor3 will be overwritten. \n",
      "/Users/mikewcasale/Local/projects/bancor/carbonbot/fastlane_bot/tools/optimizer.py:1310: RuntimeWarning: divide by zero encountered in scalar divide\n",
      "  price = get(p, tokens_ix.get(tknb)) / get(p, tokens_ix.get(tknq))\n",
      "/Users/mikewcasale/Local/projects/bancor/carbonbot/fastlane_bot/tools/optimizer.py:1157: RuntimeWarning: invalid value encountered in subtract\n",
      "  jac[:, j] = (func(x_plus) - y) / Dxj\n",
      "/Users/mikewcasale/Local/projects/bancor/carbonbot/fastlane_bot/tools/optimizer.py:1310: RuntimeWarning: divide by zero encountered in scalar divide\n",
      "  price = get(p, tokens_ix.get(tknb)) / get(p, tokens_ix.get(tknq))\n",
      "/Users/mikewcasale/Local/projects/bancor/carbonbot/fastlane_bot/tools/optimizer.py:1157: RuntimeWarning: invalid value encountered in subtract\n",
      "  jac[:, j] = (func(x_plus) - y) / Dxj\n",
      "/Users/mikewcasale/Local/projects/bancor/carbonbot/fastlane_bot/tools/optimizer.py:1310: RuntimeWarning: divide by zero encountered in scalar divide\n",
      "  price = get(p, tokens_ix.get(tknb)) / get(p, tokens_ix.get(tknq))\n",
      "/Users/mikewcasale/Local/projects/bancor/carbonbot/fastlane_bot/tools/optimizer.py:1310: RuntimeWarning: divide by zero encountered in scalar divide\n",
      "  price = get(p, tokens_ix.get(tknb)) / get(p, tokens_ix.get(tknq))\n",
      "2023-07-09 06:54:15,342 [fastlane:INFO] - No eligible arb opportunities.\n",
      "2023-07-09 06:54:15,342 [fastlane:INFO] - No eligible arb opportunities.\n",
      "2023-07-09 06:54:15,342 [fastlane:INFO] - No eligible arb opportunities.\n"
     ]
    }
   ],
   "source": [
    "# single = bot.run_single_mode(flashloan_tokens, CCm, arb_mode, run_data_validator=True)\n",
    "\n",
    "single = bot._run(flashloan_tokens=flashloan_tokens, CCm=CCm, arb_mode=arb_mode, data_validator=True, result=\"calc_trade_instr\")\n"
   ]
  },
  {
   "cell_type": "code",
   "execution_count": 80,
   "id": "1c74f819",
   "metadata": {
    "ExecuteTime": {
     "end_time": "2023-07-09T13:54:15.356172Z",
     "start_time": "2023-07-09T13:54:15.346528Z"
    }
   },
   "outputs": [],
   "source": [
    "# bot.run(\n",
    "#                 polling_interval=12,\n",
    "#                 flashloan_tokens=[\"BNT\"],\n",
    "#                 mode=\"single\",\n",
    "#                 arb_mode=\"bancor_v3\",\n",
    "#                 run_data_validator=True\n",
    "#             )"
   ]
  },
  {
   "cell_type": "code",
   "execution_count": 80,
   "id": "3f4e8613",
   "metadata": {
    "ExecuteTime": {
     "end_time": "2023-07-09T13:54:15.356270Z",
     "start_time": "2023-07-09T13:54:15.349112Z"
    }
   },
   "outputs": [],
   "source": []
  },
  {
   "cell_type": "code",
   "execution_count": 80,
   "id": "aaaf7423",
   "metadata": {
    "ExecuteTime": {
     "end_time": "2023-07-09T13:54:15.356301Z",
     "start_time": "2023-07-09T13:54:15.352256Z"
    }
   },
   "outputs": [],
   "source": []
  },
  {
   "cell_type": "code",
   "execution_count": 80,
   "id": "ad72fcd4",
   "metadata": {
    "ExecuteTime": {
     "end_time": "2023-07-09T13:54:15.358274Z",
     "start_time": "2023-07-09T13:54:15.355484Z"
    }
   },
   "outputs": [],
   "source": []
  },
  {
   "cell_type": "code",
   "execution_count": 80,
   "id": "73e4486c",
   "metadata": {
    "ExecuteTime": {
     "end_time": "2023-07-09T13:54:15.360503Z",
     "start_time": "2023-07-09T13:54:15.357352Z"
    }
   },
   "outputs": [],
   "source": []
  },
  {
   "cell_type": "code",
   "execution_count": 80,
   "id": "d5b3bc28",
   "metadata": {
    "ExecuteTime": {
     "end_time": "2023-07-09T13:54:15.362519Z",
     "start_time": "2023-07-09T13:54:15.360059Z"
    }
   },
   "outputs": [],
   "source": []
  },
  {
   "cell_type": "code",
   "execution_count": 80,
   "id": "a72a1e43",
   "metadata": {
    "ExecuteTime": {
     "end_time": "2023-07-09T13:54:15.364393Z",
     "start_time": "2023-07-09T13:54:15.362139Z"
    }
   },
   "outputs": [],
   "source": []
  },
  {
   "cell_type": "code",
   "execution_count": 80,
   "id": "20153b19",
   "metadata": {
    "ExecuteTime": {
     "end_time": "2023-07-09T13:54:15.366331Z",
     "start_time": "2023-07-09T13:54:15.364297Z"
    }
   },
   "outputs": [],
   "source": []
  }
 ],
 "metadata": {
  "kernelspec": {
   "display_name": "Python 3 (ipykernel)",
   "language": "python",
   "name": "python3"
  },
  "language_info": {
   "codemirror_mode": {
    "name": "ipython",
    "version": 3
   },
   "file_extension": ".py",
   "mimetype": "text/x-python",
   "name": "python",
   "nbconvert_exporter": "python",
   "pygments_lexer": "ipython3",
   "version": "3.10.1"
  }
 },
 "nbformat": 4,
 "nbformat_minor": 5
}

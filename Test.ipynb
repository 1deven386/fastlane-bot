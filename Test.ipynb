{
 "cells": [
  {
   "cell_type": "code",
   "execution_count": 2,
   "id": "26351dfb-4354-42bd-b79d-12ff33d2c228",
   "metadata": {
    "ExecuteTime": {
     "start_time": "2023-04-30T14:15:41.991918Z",
     "end_time": "2023-04-30T14:15:42.638615Z"
    }
   },
   "outputs": [],
   "source": [
    "from fastlane_bot import bot"
   ]
  },
  {
   "cell_type": "code",
   "execution_count": null,
   "id": "2a59eebe-1b12-447d-8fc2-1dc019ff588f",
   "metadata": {},
   "outputs": [],
   "source": []
  }
 ],
 "metadata": {
  "kernelspec": {
   "display_name": "Python 3",
   "language": "python",
   "name": "python3"
  },
  "language_info": {
   "codemirror_mode": {
    "name": "ipython",
    "version": 3
   },
   "file_extension": ".py",
   "mimetype": "text/x-python",
   "name": "python",
   "nbconvert_exporter": "python",
   "pygments_lexer": "ipython3",
   "version": "3.8.8"
  }
 },
 "nbformat": 4,
 "nbformat_minor": 5
}

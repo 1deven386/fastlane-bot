{
 "cells": [
  {
   "cell_type": "markdown",
   "source": [
    "# Unit tests for ContractHelper"
   ],
   "metadata": {
    "collapsed": false
   }
  },
  {
   "cell_type": "code",
   "execution_count": 1,
   "outputs": [],
   "source": [
    "from fastlane_bot.db.updaters.helpers import ContractHelper\n",
    "import fastlane_bot.config as c\n",
    "import unittest\n",
    "from web3.exceptions import InvalidAddress"
   ],
   "metadata": {
    "collapsed": false,
    "ExecuteTime": {
     "start_time": "2023-04-26T11:53:15.644431Z",
     "end_time": "2023-04-26T11:53:21.937605Z"
    }
   }
  },
  {
   "cell_type": "code",
   "execution_count": 2,
   "id": "1fd86acd",
   "metadata": {
    "ExecuteTime": {
     "start_time": "2023-04-26T11:53:21.960983Z",
     "end_time": "2023-04-26T11:53:21.981414Z"
    }
   },
   "outputs": [
    {
     "name": "stdout",
     "output_type": "stream",
     "text": [
      "Version: 3.0.1\n",
      "Date: 04-26-2023\n"
     ]
    }
   ],
   "source": [
    "# Create a ContractHelper instance\n",
    "contract_helper = ContractHelper(w3=c.w3)\n",
    "\n",
    "# Print and format version and date\n",
    "print(f\"Version: {contract_helper.__VERSION__.format('0.0.0')}\")\n",
    "print(f\"Date: {contract_helper.__DATE__}\")"
   ]
  },
  {
   "cell_type": "code",
   "execution_count": 3,
   "outputs": [],
   "source": [
    "# 1. Test initialization of ContractHelper\n",
    "#    - Test if ContractHelper instance is properly created with the given parameters.\n",
    "\n",
    "assert isinstance(contract_helper, ContractHelper)\n",
    "assert contract_helper.w3 == c.w3\n",
    "assert isinstance(contract_helper.contracts, dict)"
   ],
   "metadata": {
    "collapsed": false,
    "ExecuteTime": {
     "start_time": "2023-04-26T11:53:21.986665Z",
     "end_time": "2023-04-26T11:53:21.991444Z"
    }
   }
  },
  {
   "cell_type": "code",
   "execution_count": 4,
   "outputs": [],
   "source": [
    "# 2. Test carbon_controller property\n",
    "#   - Test if the CarbonController contract is returned correctly.\n",
    "assert contract_helper.carbon_controller.address == c.CARBON_CONTROLLER_ADDRESS"
   ],
   "metadata": {
    "collapsed": false,
    "ExecuteTime": {
     "start_time": "2023-04-26T11:53:21.995523Z",
     "end_time": "2023-04-26T11:53:22.020387Z"
    }
   }
  },
  {
   "cell_type": "code",
   "execution_count": 5,
   "outputs": [],
   "source": [
    "\n",
    "# 3. Test initialize_contract_with_abi function\n",
    "#    - Test if the function returns a Contract object when given valid parameters.\n",
    "contract = contract_helper.initialize_contract_with_abi(\n",
    "    address=c.CARBON_CONTROLLER_ADDRESS, abi=c.CARBON_CONTROLLER_ABI, w3=c.w3\n",
    ")\n",
    "\n",
    "assert contract.address == c.CARBON_CONTROLLER_ADDRESS\n",
    "\n",
    "# Create a TestCase instance\n",
    "test_case = unittest.TestCase()\n",
    "\n",
    "# Create an invalid address\n",
    "invalid_address = \"invalid_ethereum_address\"\n",
    "\n",
    "# - Test if the function raises an exception when given invalid parameters.\n",
    "test_case.assertRaises(InvalidAddress, contract_helper.initialize_contract_with_abi, invalid_address, c.CARBON_CONTROLLER_ABI, c.w3)"
   ],
   "metadata": {
    "collapsed": false,
    "ExecuteTime": {
     "start_time": "2023-04-26T11:53:22.017374Z",
     "end_time": "2023-04-26T11:53:22.049750Z"
    }
   }
  },
  {
   "cell_type": "code",
   "execution_count": 6,
   "outputs": [],
   "source": [
    "# 4. Test initialize_contract_without_abi function\n",
    "#    - Test if the function returns a Contract object when given valid parameters.\n",
    "contract = contract_helper.initialize_contract_without_abi(\n",
    "    address=c.CARBON_CONTROLLER_ADDRESS, w3=c.w3\n",
    ")\n",
    "\n",
    "assert contract.address == c.CARBON_CONTROLLER_ADDRESS\n",
    "\n",
    "# Test if the function raises an exception when given invalid parameters.\n",
    "test_case.assertRaises(ValueError, contract_helper.initialize_contract_without_abi, invalid_address, c.w3)"
   ],
   "metadata": {
    "collapsed": false,
    "ExecuteTime": {
     "start_time": "2023-04-26T11:53:22.053770Z",
     "end_time": "2023-04-26T11:53:22.959552Z"
    }
   }
  },
  {
   "cell_type": "code",
   "execution_count": 7,
   "outputs": [],
   "source": [
    "# 5. Test initialize_contract function\n",
    "#    - Test if the function returns a Contract object when given valid parameters with and without ABI.\n",
    "contract_with_abi = contract_helper.initialize_contract(\n",
    "    address=c.CARBON_CONTROLLER_ADDRESS, _abi=c.CARBON_CONTROLLER_ABI, w3=c.w3\n",
    ")\n",
    "\n",
    "contract_without_abi = contract_helper.initialize_contract(\n",
    "    address=c.CARBON_CONTROLLER_ADDRESS, w3=c.w3\n",
    ")\n",
    "\n",
    "assert contract_with_abi.address == c.CARBON_CONTROLLER_ADDRESS\n",
    "assert contract_without_abi.address == c.CARBON_CONTROLLER_ADDRESS\n",
    "\n",
    "#   - Test if the function raises an exception when given invalid parameters.\n",
    "test_case.assertRaises(InvalidAddress, contract_helper.initialize_contract, c.w3, invalid_address, c.CARBON_CONTROLLER_ABI)"
   ],
   "metadata": {
    "collapsed": false,
    "ExecuteTime": {
     "start_time": "2023-04-26T11:53:22.962172Z",
     "end_time": "2023-04-26T11:53:23.407310Z"
    }
   }
  },
  {
   "cell_type": "code",
   "execution_count": 8,
   "outputs": [],
   "source": [
    "# 6. Test contract_from_address function\n",
    "#    - Test if the function returns the correct contract for valid exchange_name and pool_address.\n",
    "\n",
    "# Create a contract\n",
    "contract = contract_helper.contract_from_address(\n",
    "    exchange_name=c.UNISWAP_V2_NAME, pool_address='0x3fd4Cf9303c4BC9E13772618828712C8EaC7Dd2F'\n",
    ")\n",
    "\n",
    "assert contract.address == '0x3fd4Cf9303c4BC9E13772618828712C8EaC7Dd2F'\n",
    "\n",
    "#   - Test if the function raises a NotImplementedError when given an unsupported exchange_name.\n",
    "unsupported_exchange_name = \"unsupported_exchange_name\"\n",
    "\n",
    "test_case.assertRaises(NotImplementedError, contract_helper.contract_from_address, unsupported_exchange_name, c.CARBON_CONTROLLER_ADDRESS)"
   ],
   "metadata": {
    "collapsed": false,
    "ExecuteTime": {
     "start_time": "2023-04-26T11:53:23.408986Z",
     "end_time": "2023-04-26T11:53:23.417921Z"
    }
   }
  },
  {
   "cell_type": "code",
   "execution_count": 9,
   "outputs": [],
   "source": [
    "\n",
    "# 7. Test get_or_init_contract function\n",
    "#    - Test if the function returns the correct contract for valid exchange_name and pool_address.\n",
    "contract = contract_helper.get_or_init_contract(\n",
    "    exchange_name=c.UNISWAP_V2_NAME, pool_address='0x3fd4Cf9303c4BC9E13772618828712C8EaC7Dd2F'\n",
    ")\n",
    "\n",
    "assert contract.address == '0x3fd4Cf9303c4BC9E13772618828712C8EaC7Dd2F'\n",
    "assert contract_helper.contracts[c.UNISWAP_V2_NAME]['0x3fd4Cf9303c4BC9E13772618828712C8EaC7Dd2F'] == contract\n",
    "assert len(contract_helper.contracts[c.UNISWAP_V2_NAME]) == 1\n"
   ],
   "metadata": {
    "collapsed": false,
    "ExecuteTime": {
     "start_time": "2023-04-26T11:53:23.419977Z",
     "end_time": "2023-04-26T11:53:23.430132Z"
    }
   }
  }
 ],
 "metadata": {
  "jupytext": {
   "formats": "ipynb,py:light"
  },
  "kernelspec": {
   "name": "backend-sqlite-39",
   "language": "python",
   "display_name": "Python 3.9 (backend-sqlite-39)"
  },
  "language_info": {
   "codemirror_mode": {
    "name": "ipython",
    "version": 3
   },
   "file_extension": ".py",
   "mimetype": "text/x-python",
   "name": "python",
   "nbconvert_exporter": "python",
   "pygments_lexer": "ipython3",
   "version": "3.9.16"
  }
 },
 "nbformat": 4,
 "nbformat_minor": 5
}

{
 "cells": [
  {
   "cell_type": "code",
   "execution_count": 1,
   "outputs": [],
   "source": [
    "# ! python -m pip install psycopg2"
   ],
   "metadata": {
    "collapsed": false,
    "ExecuteTime": {
     "start_time": "2023-04-19T17:02:07.854780Z",
     "end_time": "2023-04-19T17:02:07.857458Z"
    }
   }
  },
  {
   "cell_type": "code",
   "execution_count": 2,
   "metadata": {
    "collapsed": true,
    "ExecuteTime": {
     "start_time": "2023-04-19T17:02:07.861885Z",
     "end_time": "2023-04-19T17:02:16.106294Z"
    }
   },
   "outputs": [
    {
     "name": "stdout",
     "output_type": "stream",
     "text": [
      "ConstantProductCurve v2.6 (17/Apr/2023)\n",
      "ArbGraph v2.1 (16/Apr/2023)\n",
      "TokenScale v1.0 (07/Apr/2022)\n",
      "CPCArbOptimizer v3.3 (17/Apr/2023)\n",
      "(psycopg2.errors.UniqueViolation) duplicate key value violates unique constraint \"ix_blockchains_name\"\n",
      "DETAIL:  Key (name)=(Ethereum) already exists.\n",
      "\n",
      "[SQL: INSERT INTO blockchains (name, block_number) VALUES (%(name)s, %(block_number)s) RETURNING blockchains.id]\n",
      "[parameters: {'name': 'Ethereum', 'block_number': 17067359}]\n",
      "(Background on this error at: https://sqlalche.me/e/20/gkpj)\n"
     ]
    }
   ],
   "source": [
    "from carbon.config import *\n",
    "from carbon.bot import *\n",
    "\n",
    "session.rollback()\n",
    "\n",
    "bot = CarbonBot(\n",
    "    drop_tables=False\n",
    ")\n",
    "# bot.db.seed_pools()"
   ]
  },
  {
   "cell_type": "code",
   "execution_count": 3,
   "outputs": [],
   "source": [
    "# bot.db.seed_pools()"
   ],
   "metadata": {
    "collapsed": false,
    "ExecuteTime": {
     "start_time": "2023-04-19T17:02:16.103048Z",
     "end_time": "2023-04-19T17:02:16.108527Z"
    }
   }
  },
  {
   "cell_type": "code",
   "execution_count": 4,
   "outputs": [
    {
     "data": {
      "text/plain": "113"
     },
     "execution_count": 4,
     "metadata": {},
     "output_type": "execute_result"
    }
   ],
   "source": [
    "CCm = bot.get_curves()\n",
    "len(CCm.curves)"
   ],
   "metadata": {
    "collapsed": false,
    "ExecuteTime": {
     "start_time": "2023-04-19T17:02:16.112719Z",
     "end_time": "2023-04-19T17:02:16.683050Z"
    }
   }
  },
  {
   "cell_type": "code",
   "execution_count": 5,
   "outputs": [],
   "source": [
    "# CCm.bypairs(f\"{T.BNT}/{T.WETH}\")[0].p"
   ],
   "metadata": {
    "collapsed": false,
    "ExecuteTime": {
     "start_time": "2023-04-19T17:02:16.684268Z",
     "end_time": "2023-04-19T17:02:16.686067Z"
    }
   }
  },
  {
   "cell_type": "code",
   "execution_count": 6,
   "outputs": [],
   "source": [
    "# CCm.filter_pairs(bothin=f\"{T.WETH},{T.USDC}\")"
   ],
   "metadata": {
    "collapsed": false,
    "ExecuteTime": {
     "start_time": "2023-04-19T17:02:16.686400Z",
     "end_time": "2023-04-19T17:02:16.688199Z"
    }
   }
  },
  {
   "cell_type": "code",
   "execution_count": 7,
   "outputs": [],
   "source": [
    "# from carbon.models import *\n",
    "#\n",
    "# tokens = session.query(Token).all()\n",
    "# tokens"
   ],
   "metadata": {
    "collapsed": false,
    "ExecuteTime": {
     "start_time": "2023-04-19T17:02:16.688554Z",
     "end_time": "2023-04-19T17:02:16.690368Z"
    }
   }
  },
  {
   "cell_type": "code",
   "execution_count": 8,
   "outputs": [],
   "source": [
    "# filter = CCm.bypairs(f\"{T.BNT}/{T.ETH}\")\n",
    "# filter"
   ],
   "metadata": {
    "collapsed": false,
    "ExecuteTime": {
     "start_time": "2023-04-19T17:02:16.690762Z",
     "end_time": "2023-04-19T17:02:16.691790Z"
    }
   }
  },
  {
   "cell_type": "code",
   "execution_count": 9,
   "outputs": [],
   "source": [
    "# flashloan_token =[\n",
    "#     T.USDT, T.USDC, T.BNT, T.DAI, T.WETH\n",
    "# ]\n",
    "# other_tokens = tokens"
   ],
   "metadata": {
    "collapsed": false,
    "ExecuteTime": {
     "start_time": "2023-04-19T17:02:16.692354Z",
     "end_time": "2023-04-19T17:02:16.694031Z"
    }
   }
  },
  {
   "cell_type": "code",
   "execution_count": 10,
   "outputs": [],
   "source": [
    "# pstart = {\n",
    "#     T.BNT: CCm.bypairs(f\"{T.BNT}/{T.USDC}\")[0].p\n",
    "# }\n",
    "#\n",
    "# CC = CCm.bypairs(f\"{T.BNT}/{T.USDC}\")\n",
    "# O = CPCArbOptimizer(CC)\n",
    "# r = O.margp_optimizer(T.USDC, params=dict(pstart=pstart, verbose=True))\n",
    "# trade_instructions_df = r.trade_instructions(O.TIF_DFAGGR)\n",
    "# trade_instructions_dic = r.trade_instructions(O.TIF_DICTS)"
   ],
   "metadata": {
    "collapsed": false,
    "ExecuteTime": {
     "start_time": "2023-04-19T17:02:16.694506Z",
     "end_time": "2023-04-19T17:02:16.695707Z"
    }
   }
  },
  {
   "cell_type": "code",
   "execution_count": 11,
   "outputs": [
    {
     "name": "stdout",
     "output_type": "stream",
     "text": [
      "[price_estimates] result [[0.53765601]]\n"
     ]
    },
    {
     "data": {
      "text/plain": "-2646.999914303902"
     },
     "execution_count": 11,
     "metadata": {},
     "output_type": "execute_result"
    }
   ],
   "source": [
    "\n",
    "pstart = {\n",
    "    T.BNT: CCm.bypairs(f\"{T.BNT}/{T.USDC}\")[0].p\n",
    "}\n",
    "\n",
    "CC = CCm.bypairs(f\"{T.BNT}/{T.USDC}\")\n",
    "O = CPCArbOptimizer(CC)\n",
    "r = O.margp_optimizer(T.USDC,\n",
    "                      # params=dict(pstart=pstart, verbose=True)\n",
    "                      )\n",
    "trade_instructions_df = r.trade_instructions(O.TIF_DFAGGR)\n",
    "trade_instructions_dic = r.trade_instructions(O.TIF_DICTS)\n",
    "r.result"
   ],
   "metadata": {
    "collapsed": false,
    "ExecuteTime": {
     "start_time": "2023-04-19T17:02:16.697266Z",
     "end_time": "2023-04-19T17:02:16.705272Z"
    }
   }
  },
  {
   "cell_type": "code",
   "execution_count": 12,
   "outputs": [
    {
     "data": {
      "text/plain": "[{'cid': '680564733841876926926749214863536422921-1',\n  'tknin': 'USDC-eB48',\n  'amtin': 18236.996769205958,\n  'tknout': 'BNT-FF1C',\n  'amtout': -39490.0082070168},\n {'cid': '680564733841876926926749214863536422914-0',\n  'tknin': 'BNT-FF1C',\n  'amtin': 105.75002666954697,\n  'tknout': 'USDC-eB48',\n  'amtout': -55.92378874782435},\n {'cid': '1701411834604692317316873037158841057309',\n  'tknin': 'BNT-FF1C',\n  'amtin': 39384.25818027975,\n  'tknout': 'USDC-eB48',\n  'amtout': -20828.072894762037}]"
     },
     "execution_count": 12,
     "metadata": {},
     "output_type": "execute_result"
    }
   ],
   "source": [
    "r.trade_instructions(O.TIF_DICTS)"
   ],
   "metadata": {
    "collapsed": false,
    "ExecuteTime": {
     "start_time": "2023-04-19T17:02:16.705950Z",
     "end_time": "2023-04-19T17:02:16.722008Z"
    }
   }
  },
  {
   "cell_type": "code",
   "execution_count": 13,
   "outputs": [
    {
     "name": "stdout",
     "output_type": "stream",
     "text": [
      "[_find_arbitrage_opportunities] Number of curves: 113\n",
      "[price_estimates] result [[1.85992529]]\n",
      "[price_estimates] result [[1.85992529]]\n",
      "[price_estimates] result [[0.53765601]]\n",
      "[price_estimates] result [[0.53765601]]\n",
      "new_trade_instructions [{'pair_sorting': 'USDC-eB48BNT-FF1C', 'cid': '680564733841876926926749214863536422921-1', 'tknin': 'USDC-eB48', 'amtin': 18540.92405825603, 'tknout': 'BNT-FF1C', 'amtout': -40073.19822984119, 'raw_txs': \"[{'cid': '680564733841876926926749214863536422921-1', 'tknin': 'USDC-eB48', 'amtin': 18540.92405825603, 'tknout': 'BNT-FF1C', 'amtout': -40073.19822984119, 'pair_sorting': 'USDC-eB48BNT-FF1C'}]\"}]\n",
      "src_amount: 34900316817130428301312\n",
      "trade_instruction.cid: 1701411834604692317316873037158841057309\n",
      "trade_instruction.cid: 680564733841876926926749214863536422921\n",
      "route_struct: [RouteStruct(exchangeId=2, targetToken='0xA0b86991c6218b36c1d19D4a2e9Eb0cE3606eB48', minTargetAmount=1, deadline=1681955140, customAddress='0xA0b86991c6218b36c1d19D4a2e9Eb0cE3606eB48', customInt=0, customData=''), RouteStruct(exchangeId=6, targetToken='0x1F573D6Fb3F13d689FF844B4cE37794d79a7FF1C', minTargetAmount=1, deadline=1681955140, customAddress='0x1F573D6Fb3F13d689FF844B4cE37794d79a7FF1C', customInt=2000, customData=b'\\x00\\x00\\x00\\x00\\x00\\x00\\x00\\x00\\x00\\x00\\x00\\x00\\x00\\x00\\x00\\x00\\x00\\x00\\x00\\x00\\x00\\x00\\x00\\x00\\x00\\x00\\x00\\x00\\x00\\x00\\x00 \\x00\\x00\\x00\\x00\\x00\\x00\\x00\\x00\\x00\\x00\\x00\\x00\\x00\\x00\\x00\\x00\\x00\\x00\\x00\\x00\\x00\\x00\\x00\\x00\\x00\\x00\\x00\\x00\\x00\\x00\\x00\\x01\\x00\\x00\\x00\\x00\\x00\\x00\\x00\\x00\\x00\\x00\\x00\\x00\\x00\\x00\\x00\\x02\\x00\\x00\\x00\\x00\\x00\\x00\\x00\\x00\\x00\\x00\\x00\\x00\\x00\\x00\\x00\\t\\x00\\x00\\x00\\x00\\x00\\x00\\x00\\x00\\x00\\x00\\x00\\x00\\x00\\x00\\x00\\x00\\x00\\x00\\x00\\x00\\x00\\x00\\x00\\x00\\x00\\x00\\x00\\x03\\xe2\\x9c\\xd8$')]\n",
      "src_address 0x1F573D6Fb3F13d689FF844B4cE37794d79a7FF1C\n",
      "{'exchangeId': 2, 'targetToken': '0xA0b86991c6218b36c1d19D4a2e9Eb0cE3606eB48', 'minTargetAmount': 1, 'deadline': 1681955140, 'customAddress': '0xA0b86991c6218b36c1d19D4a2e9Eb0cE3606eB48', 'customInt': 0, 'customData': ''}\n",
      "\n",
      "\n",
      "{'exchangeId': 6, 'targetToken': '0x1F573D6Fb3F13d689FF844B4cE37794d79a7FF1C', 'minTargetAmount': 1, 'deadline': 1681955140, 'customAddress': '0x1F573D6Fb3F13d689FF844B4cE37794d79a7FF1C', 'customInt': 2000, 'customData': b'\\x00\\x00\\x00\\x00\\x00\\x00\\x00\\x00\\x00\\x00\\x00\\x00\\x00\\x00\\x00\\x00\\x00\\x00\\x00\\x00\\x00\\x00\\x00\\x00\\x00\\x00\\x00\\x00\\x00\\x00\\x00 \\x00\\x00\\x00\\x00\\x00\\x00\\x00\\x00\\x00\\x00\\x00\\x00\\x00\\x00\\x00\\x00\\x00\\x00\\x00\\x00\\x00\\x00\\x00\\x00\\x00\\x00\\x00\\x00\\x00\\x00\\x00\\x01\\x00\\x00\\x00\\x00\\x00\\x00\\x00\\x00\\x00\\x00\\x00\\x00\\x00\\x00\\x00\\x02\\x00\\x00\\x00\\x00\\x00\\x00\\x00\\x00\\x00\\x00\\x00\\x00\\x00\\x00\\x00\\t\\x00\\x00\\x00\\x00\\x00\\x00\\x00\\x00\\x00\\x00\\x00\\x00\\x00\\x00\\x00\\x00\\x00\\x00\\x00\\x00\\x00\\x00\\x00\\x00\\x00\\x00\\x00\\x03\\xe2\\x9c\\xd8$'}\n",
      "\n",
      "\n",
      "Submitting transaction to Tenderly...src_amount=34900316817130428301312 src_address=0x1F573D6Fb3F13d689FF844B4cE37794d79a7FF1C\n"
     ]
    },
    {
     "name": "stderr",
     "output_type": "stream",
     "text": [
      "2023-04-19 17:02:20,914 - fastlane - INFO - Flashloan arbitrage executed with transaction hash: AttributeDict({'transactionHash': HexBytes('0xf99df4ad514577e12f776ace305f6e31f2db97c397aa15e21c394372059a5813'), 'transactionIndex': 0, 'blockHash': HexBytes('0x5c74955884086bdbe6e8a79964be478936b926f23d73686268b8cb25cc434b08'), 'blockNumber': 17067362, 'from': '0x28C6c06298d514Db089934071355E5743bf21d60', 'to': '0x41Eeba3355d7D6FF628B7982F3F9D055c39488cB', 'cumulativeGasUsed': 445468, 'gasUsed': 445468, 'effectiveGasPrice': 0, 'contractAddress': None, 'logs': [AttributeDict({'logIndex': 0, 'address': '0x1F573D6Fb3F13d689FF844B4cE37794d79a7FF1C', 'topics': [HexBytes('0xddf252ad1be2c89b69c2b068fc378daa952ba7f163c4a11628f55a4df523b3ef'), HexBytes('0x000000000000000000000000649765821d9f64198c905ec0b2b037a4a52bc373'), HexBytes('0x00000000000000000000000041eeba3355d7d6ff628b7982f3f9d055c39488cb')], 'data': '0x000000000000000000000000000000000000000000000763f330f36072c00000', 'blockHash': HexBytes('0x5c74955884086bdbe6e8a79964be478936b926f23d73686268b8cb25cc434b08'), 'blockNumber': 17067362, 'removed': False, 'transactionHash': HexBytes('0xf99df4ad514577e12f776ace305f6e31f2db97c397aa15e21c394372059a5813'), 'transactionIndex': 0}), AttributeDict({'logIndex': 1, 'address': '0x649765821D9f64198c905eC0B2B037a4a52Bc373', 'topics': [HexBytes('0xc322efa58c9cb2c39cfffdac61d35c8643f5cbf13c6a7d0034de2cf18923aff3'), HexBytes('0x0000000000000000000000001f573d6fb3f13d689ff844b4ce37794d79a7ff1c'), HexBytes('0x000000000000000000000000eef417e1d5cc832e619ae18d2f140de2999dd4fb'), HexBytes('0x00000000000000000000000041eeba3355d7d6ff628b7982f3f9d055c39488cb')], 'data': '0x000000000000000000000000000000000000000000000763f330f36072c00000', 'blockHash': HexBytes('0x5c74955884086bdbe6e8a79964be478936b926f23d73686268b8cb25cc434b08'), 'blockNumber': 17067362, 'removed': False, 'transactionHash': HexBytes('0xf99df4ad514577e12f776ace305f6e31f2db97c397aa15e21c394372059a5813'), 'transactionIndex': 0}), AttributeDict({'logIndex': 2, 'address': '0xB67d563287D12B1F41579cB687b04988Ad564C6C', 'topics': [HexBytes('0x6e96dc5343d067ec486a9920e0304c3610ed05c65e45cc029d9b9fe7ecfa7620'), HexBytes('0x0ee0b5442c38f230cc047ad202c2eb283fd5e76f2a23418a11292e938e9b9d21'), HexBytes('0x000000000000000000000000a0b86991c6218b36c1d19d4a2e9eb0ce3606eb48'), HexBytes('0x0000000000000000000000001f573d6fb3f13d689ff844b4ce37794d79a7ff1c')], 'data': '0x00000000000000000000000000000000000000000001f46e8bf236a2904a07ac00000000000000000000000000000000000000000001fbd27f232a03030a07ac', 'blockHash': HexBytes('0x5c74955884086bdbe6e8a79964be478936b926f23d73686268b8cb25cc434b08'), 'blockNumber': 17067362, 'removed': False, 'transactionHash': HexBytes('0xf99df4ad514577e12f776ace305f6e31f2db97c397aa15e21c394372059a5813'), 'transactionIndex': 0}), AttributeDict({'logIndex': 3, 'address': '0xB67d563287D12B1F41579cB687b04988Ad564C6C', 'topics': [HexBytes('0x6e96dc5343d067ec486a9920e0304c3610ed05c65e45cc029d9b9fe7ecfa7620'), HexBytes('0x0ee0b5442c38f230cc047ad202c2eb283fd5e76f2a23418a11292e938e9b9d21'), HexBytes('0x000000000000000000000000a0b86991c6218b36c1d19d4a2e9eb0ce3606eb48'), HexBytes('0x000000000000000000000000a0b86991c6218b36c1d19d4a2e9eb0ce3606eb48')], 'data': '0x00000000000000000000000000000000000000000000000000000127d5b4d75f00000000000000000000000000000000000000000000000000000123878a3e6a', 'blockHash': HexBytes('0x5c74955884086bdbe6e8a79964be478936b926f23d73686268b8cb25cc434b08'), 'blockNumber': 17067362, 'removed': False, 'transactionHash': HexBytes('0xf99df4ad514577e12f776ace305f6e31f2db97c397aa15e21c394372059a5813'), 'transactionIndex': 0}), AttributeDict({'logIndex': 4, 'address': '0xeEF417e1D5CC832e619ae18D2F140De2999dD4fB', 'topics': [HexBytes('0x5c02c2bb2d1d082317eb23916ca27b3e7c294398b60061a2ad54f1c3c018c318'), HexBytes('0x0ee0b5442c38f230cc047ad202c2eb283fd5e76f2a23418a11292e938e9b9d21'), HexBytes('0x0000000000000000000000001f573d6fb3f13d689ff844b4ce37794d79a7ff1c'), HexBytes('0x000000000000000000000000a0b86991c6218b36c1d19d4a2e9eb0ce3606eb48')], 'data': '0x000000000000000000000000000000000000000000000763f330f36072c00000000000000000000000000000000000000000000000000000000000044e2a98f5000000000000000000000000000000000000000000000763f330f36072c000000000000000000000000000000000000000000000000000000000000000000000000000000000000000000000000000000000000000000000000000000000000000000000000000000000000041eeba3355d7d6ff628b7982f3f9d055c39488cb', 'blockHash': HexBytes('0x5c74955884086bdbe6e8a79964be478936b926f23d73686268b8cb25cc434b08'), 'blockNumber': 17067362, 'removed': False, 'transactionHash': HexBytes('0xf99df4ad514577e12f776ace305f6e31f2db97c397aa15e21c394372059a5813'), 'transactionIndex': 0}), AttributeDict({'logIndex': 5, 'address': '0x1F573D6Fb3F13d689FF844B4cE37794d79a7FF1C', 'topics': [HexBytes('0xddf252ad1be2c89b69c2b068fc378daa952ba7f163c4a11628f55a4df523b3ef'), HexBytes('0x00000000000000000000000041eeba3355d7d6ff628b7982f3f9d055c39488cb'), HexBytes('0x000000000000000000000000649765821d9f64198c905ec0b2b037a4a52bc373')], 'data': '0x000000000000000000000000000000000000000000000763f330f36072c00000', 'blockHash': HexBytes('0x5c74955884086bdbe6e8a79964be478936b926f23d73686268b8cb25cc434b08'), 'blockNumber': 17067362, 'removed': False, 'transactionHash': HexBytes('0xf99df4ad514577e12f776ace305f6e31f2db97c397aa15e21c394372059a5813'), 'transactionIndex': 0}), AttributeDict({'logIndex': 6, 'address': '0xA0b86991c6218b36c1d19D4a2e9Eb0cE3606eB48', 'topics': [HexBytes('0xddf252ad1be2c89b69c2b068fc378daa952ba7f163c4a11628f55a4df523b3ef'), HexBytes('0x000000000000000000000000649765821d9f64198c905ec0b2b037a4a52bc373'), HexBytes('0x00000000000000000000000041eeba3355d7d6ff628b7982f3f9d055c39488cb')], 'data': '0x000000000000000000000000000000000000000000000000000000044e2a98f5', 'blockHash': HexBytes('0x5c74955884086bdbe6e8a79964be478936b926f23d73686268b8cb25cc434b08'), 'blockNumber': 17067362, 'removed': False, 'transactionHash': HexBytes('0xf99df4ad514577e12f776ace305f6e31f2db97c397aa15e21c394372059a5813'), 'transactionIndex': 0}), AttributeDict({'logIndex': 7, 'address': '0x649765821D9f64198c905eC0B2B037a4a52Bc373', 'topics': [HexBytes('0xc322efa58c9cb2c39cfffdac61d35c8643f5cbf13c6a7d0034de2cf18923aff3'), HexBytes('0x000000000000000000000000a0b86991c6218b36c1d19d4a2e9eb0ce3606eb48'), HexBytes('0x000000000000000000000000eef417e1d5cc832e619ae18d2f140de2999dd4fb'), HexBytes('0x00000000000000000000000041eeba3355d7d6ff628b7982f3f9d055c39488cb')], 'data': '0x000000000000000000000000000000000000000000000000000000044e2a98f5', 'blockHash': HexBytes('0x5c74955884086bdbe6e8a79964be478936b926f23d73686268b8cb25cc434b08'), 'blockNumber': 17067362, 'removed': False, 'transactionHash': HexBytes('0xf99df4ad514577e12f776ace305f6e31f2db97c397aa15e21c394372059a5813'), 'transactionIndex': 0}), AttributeDict({'logIndex': 8, 'address': '0xA0b86991c6218b36c1d19D4a2e9Eb0cE3606eB48', 'topics': [HexBytes('0x8c5be1e5ebec7d5bd14f71427d1e84f3dd0314c0f7b2291e5b200ac8c7c3b925'), HexBytes('0x00000000000000000000000041eeba3355d7d6ff628b7982f3f9d055c39488cb'), HexBytes('0x0000000000000000000000006db6ee351fc802833ed2f28a25bbbf971d8b12c1')], 'data': '0xffffffffffffffffffffffffffffffffffffffffffffffffffffffffffffffff', 'blockHash': HexBytes('0x5c74955884086bdbe6e8a79964be478936b926f23d73686268b8cb25cc434b08'), 'blockNumber': 17067362, 'removed': False, 'transactionHash': HexBytes('0xf99df4ad514577e12f776ace305f6e31f2db97c397aa15e21c394372059a5813'), 'transactionIndex': 0}), AttributeDict({'logIndex': 9, 'address': '0x6Db6EE351fc802833ed2f28A25BBBF971D8b12C1', 'topics': [HexBytes('0x720da23a5c920b1d8827ec83c4d3c4d90d9419eadb0036b88cb4c2ffa91aef7d'), HexBytes('0x0000000000000000000000000000000200000000000000000000000000000009'), HexBytes('0x0000000000000000000000001f573d6fb3f13d689ff844b4ce37794d79a7ff1c'), HexBytes('0x000000000000000000000000a0b86991c6218b36c1d19d4a2e9eb0ce3606eb48')], 'data': '0x000000000000000000000000000000000000000000000d735c1ccb8f3bee00ef00000000000000000000000000000000000000000000152d02c7e14af68000000000000000000000000000000000000000000000000000000013d8a6f42a13500000000000000000000000000000000000000000000000000015887a8fe8f5b4000000000000000000000000000000000000000000000000000000088ab4a024000000000000000000000000000000000000000000000000000000088ab4a02400000000000000000000000000000000000000000000000000000000054e301b00000000000000000000000000000000000000000000000000000000054e301b0000000000000000000000000000000000000000000000000000000000000001', 'blockHash': HexBytes('0x5c74955884086bdbe6e8a79964be478936b926f23d73686268b8cb25cc434b08'), 'blockNumber': 17067362, 'removed': False, 'transactionHash': HexBytes('0xf99df4ad514577e12f776ace305f6e31f2db97c397aa15e21c394372059a5813'), 'transactionIndex': 0}), AttributeDict({'logIndex': 10, 'address': '0xA0b86991c6218b36c1d19D4a2e9Eb0cE3606eB48', 'topics': [HexBytes('0xddf252ad1be2c89b69c2b068fc378daa952ba7f163c4a11628f55a4df523b3ef'), HexBytes('0x00000000000000000000000041eeba3355d7d6ff628b7982f3f9d055c39488cb'), HexBytes('0x0000000000000000000000006db6ee351fc802833ed2f28a25bbbf971d8b12c1')], 'data': '0x00000000000000000000000000000000000000000000000000000003e29cd824', 'blockHash': HexBytes('0x5c74955884086bdbe6e8a79964be478936b926f23d73686268b8cb25cc434b08'), 'blockNumber': 17067362, 'removed': False, 'transactionHash': HexBytes('0xf99df4ad514577e12f776ace305f6e31f2db97c397aa15e21c394372059a5813'), 'transactionIndex': 0}), AttributeDict({'logIndex': 11, 'address': '0x1F573D6Fb3F13d689FF844B4cE37794d79a7FF1C', 'topics': [HexBytes('0xddf252ad1be2c89b69c2b068fc378daa952ba7f163c4a11628f55a4df523b3ef'), HexBytes('0x0000000000000000000000006db6ee351fc802833ed2f28a25bbbf971d8b12c1'), HexBytes('0x00000000000000000000000041eeba3355d7d6ff628b7982f3f9d055c39488cb')], 'data': '0x0000000000000000000000000000000000000000000007b5b21c681f317e3f94', 'blockHash': HexBytes('0x5c74955884086bdbe6e8a79964be478936b926f23d73686268b8cb25cc434b08'), 'blockNumber': 17067362, 'removed': False, 'transactionHash': HexBytes('0xf99df4ad514577e12f776ace305f6e31f2db97c397aa15e21c394372059a5813'), 'transactionIndex': 0}), AttributeDict({'logIndex': 12, 'address': '0x6Db6EE351fc802833ed2f28A25BBBF971D8b12C1', 'topics': [HexBytes('0x95f3b01351225fea0e69a46f68b164c9dea10284f12cd4a907ce66510ab7af6a'), HexBytes('0x00000000000000000000000041eeba3355d7d6ff628b7982f3f9d055c39488cb'), HexBytes('0x000000000000000000000000a0b86991c6218b36c1d19d4a2e9eb0ce3606eb48'), HexBytes('0x0000000000000000000000001f573d6fb3f13d689ff844b4ce37794d79a7ff1c')], 'data': '0x00000000000000000000000000000000000000000000000000000003e29cd8240000000000000000000000000000000000000000000007b5b21c681f317e3f94000000000000000000000000000000000000000000000003f48ead9c8913bf7d0000000000000000000000000000000000000000000000000000000000000000', 'blockHash': HexBytes('0x5c74955884086bdbe6e8a79964be478936b926f23d73686268b8cb25cc434b08'), 'blockNumber': 17067362, 'removed': False, 'transactionHash': HexBytes('0xf99df4ad514577e12f776ace305f6e31f2db97c397aa15e21c394372059a5813'), 'transactionIndex': 0}), AttributeDict({'logIndex': 13, 'address': '0xA0b86991c6218b36c1d19D4a2e9Eb0cE3606eB48', 'topics': [HexBytes('0xddf252ad1be2c89b69c2b068fc378daa952ba7f163c4a11628f55a4df523b3ef'), HexBytes('0x00000000000000000000000041eeba3355d7d6ff628b7982f3f9d055c39488cb'), HexBytes('0x000000000000000000000000ebcc959479634eec5a4d7162e36f8b8cc763f491')], 'data': '0x000000000000000000000000000000000000000000000000000000006b8dc0d1', 'blockHash': HexBytes('0x5c74955884086bdbe6e8a79964be478936b926f23d73686268b8cb25cc434b08'), 'blockNumber': 17067362, 'removed': False, 'transactionHash': HexBytes('0xf99df4ad514577e12f776ace305f6e31f2db97c397aa15e21c394372059a5813'), 'transactionIndex': 0}), AttributeDict({'logIndex': 14, 'address': '0x1F573D6Fb3F13d689FF844B4cE37794d79a7FF1C', 'topics': [HexBytes('0xddf252ad1be2c89b69c2b068fc378daa952ba7f163c4a11628f55a4df523b3ef'), HexBytes('0x00000000000000000000000041eeba3355d7d6ff628b7982f3f9d055c39488cb'), HexBytes('0x000000000000000000000000eef417e1d5cc832e619ae18d2f140de2999dd4fb')], 'data': '0x000000000000000000000000000000000000000000000763f330f36072c00000', 'blockHash': HexBytes('0x5c74955884086bdbe6e8a79964be478936b926f23d73686268b8cb25cc434b08'), 'blockNumber': 17067362, 'removed': False, 'transactionHash': HexBytes('0xf99df4ad514577e12f776ace305f6e31f2db97c397aa15e21c394372059a5813'), 'transactionIndex': 0}), AttributeDict({'logIndex': 15, 'address': '0x1F573D6Fb3F13d689FF844B4cE37794d79a7FF1C', 'topics': [HexBytes('0xddf252ad1be2c89b69c2b068fc378daa952ba7f163c4a11628f55a4df523b3ef'), HexBytes('0x000000000000000000000000eef417e1d5cc832e619ae18d2f140de2999dd4fb'), HexBytes('0x000000000000000000000000649765821d9f64198c905ec0b2b037a4a52bc373')], 'data': '0x000000000000000000000000000000000000000000000763f330f36072c00000', 'blockHash': HexBytes('0x5c74955884086bdbe6e8a79964be478936b926f23d73686268b8cb25cc434b08'), 'blockNumber': 17067362, 'removed': False, 'transactionHash': HexBytes('0xf99df4ad514577e12f776ace305f6e31f2db97c397aa15e21c394372059a5813'), 'transactionIndex': 0}), AttributeDict({'logIndex': 16, 'address': '0xeEF417e1D5CC832e619ae18D2F140De2999dD4fB', 'topics': [HexBytes('0x0da3485ef1bb570df7bb888887eae5aa01d81b83cd8ccc80c0ea0922a677ecef'), HexBytes('0x0000000000000000000000001f573d6fb3f13d689ff844b4ce37794d79a7ff1c'), HexBytes('0x00000000000000000000000041eeba3355d7d6ff628b7982f3f9d055c39488cb')], 'data': '0x000000000000000000000000000000000000000000000763f330f36072c000000000000000000000000000000000000000000000000000000000000000000000', 'blockHash': HexBytes('0x5c74955884086bdbe6e8a79964be478936b926f23d73686268b8cb25cc434b08'), 'blockNumber': 17067362, 'removed': False, 'transactionHash': HexBytes('0xf99df4ad514577e12f776ace305f6e31f2db97c397aa15e21c394372059a5813'), 'transactionIndex': 0}), AttributeDict({'logIndex': 17, 'address': '0x1F573D6Fb3F13d689FF844B4cE37794d79a7FF1C', 'topics': [HexBytes('0xddf252ad1be2c89b69c2b068fc378daa952ba7f163c4a11628f55a4df523b3ef'), HexBytes('0x00000000000000000000000041eeba3355d7d6ff628b7982f3f9d055c39488cb'), HexBytes('0x0000000000000000000000001f573d6fb3f13d689ff844b4ce37794d79a7ff1c')], 'data': '0x00000000000000000000000000000000000000000000004c532416915bae3f94', 'blockHash': HexBytes('0x5c74955884086bdbe6e8a79964be478936b926f23d73686268b8cb25cc434b08'), 'blockNumber': 17067362, 'removed': False, 'transactionHash': HexBytes('0xf99df4ad514577e12f776ace305f6e31f2db97c397aa15e21c394372059a5813'), 'transactionIndex': 0}), AttributeDict({'logIndex': 18, 'address': '0x1F573D6Fb3F13d689FF844B4cE37794d79a7FF1C', 'topics': [HexBytes('0x9a1b418bc061a5d80270261562e6986a35d995f8051145f277be16103abd3453')], 'data': '0x00000000000000000000000000000000000000000000004c532416915bae3f94', 'blockHash': HexBytes('0x5c74955884086bdbe6e8a79964be478936b926f23d73686268b8cb25cc434b08'), 'blockNumber': 17067362, 'removed': False, 'transactionHash': HexBytes('0xf99df4ad514577e12f776ace305f6e31f2db97c397aa15e21c394372059a5813'), 'transactionIndex': 0}), AttributeDict({'logIndex': 19, 'address': '0x1F573D6Fb3F13d689FF844B4cE37794d79a7FF1C', 'topics': [HexBytes('0xddf252ad1be2c89b69c2b068fc378daa952ba7f163c4a11628f55a4df523b3ef'), HexBytes('0x00000000000000000000000041eeba3355d7d6ff628b7982f3f9d055c39488cb'), HexBytes('0x00000000000000000000000028c6c06298d514db089934071355e5743bf21d60')], 'data': '0x0000000000000000000000000000000000000000000000056bc75e2d63100000', 'blockHash': HexBytes('0x5c74955884086bdbe6e8a79964be478936b926f23d73686268b8cb25cc434b08'), 'blockNumber': 17067362, 'removed': False, 'transactionHash': HexBytes('0xf99df4ad514577e12f776ace305f6e31f2db97c397aa15e21c394372059a5813'), 'transactionIndex': 0}), AttributeDict({'logIndex': 20, 'address': '0x41Eeba3355d7D6FF628B7982F3F9D055c39488cB', 'topics': [HexBytes('0xff8eb78730569e0ec598efa1a9e2263591cdaa6ad3d6c980a57a60aeee316918'), HexBytes('0x00000000000000000000000028c6c06298d514db089934071355e5743bf21d60')], 'data': '0x00000000000000000000000000000000000000000000000000000000000000a00000000000000000000000000000000000000000000000000000000000000100000000000000000000000000000000000000000000000763f330f36072c0000000000000000000000000000000000000000000000000004c532416915bae3f940000000000000000000000000000000000000000000000056bc75e2d6310000000000000000000000000000000000000000000000000000000000000000000020000000000000000000000000000000000000000000000000000000000000002000000000000000000000000000000000000000000000000000000000000000600000000000000000000000000000000000000000000000000000000000000030000000000000000000000001f573d6fb3f13d689ff844b4ce37794d79a7ff1c000000000000000000000000a0b86991c6218b36c1d19d4a2e9eb0ce3606eb480000000000000000000000001f573d6fb3f13d689ff844b4ce37794d79a7ff1c', 'blockHash': HexBytes('0x5c74955884086bdbe6e8a79964be478936b926f23d73686268b8cb25cc434b08'), 'blockNumber': 17067362, 'removed': False, 'transactionHash': HexBytes('0xf99df4ad514577e12f776ace305f6e31f2db97c397aa15e21c394372059a5813'), 'transactionIndex': 0})], 'logsBloom': HexBytes('0x000000081820000008001000000000800000004000000000000200002000020000000000000000000080030000000100014000004000000008001000002000000800000000000000080000080000000000000000800020000020008002008000000080000102000000000000000000080020000004000000020080100000800000000000000000000400000000000002000000008100000001000000200000000200000000002000400100000104000000000000000000000001008600000000000c0002110000080000000040000004000800000100020402000100000000000014000000000000000000100000000004080000000002000080200000000020'), 'status': 1, 'type': '0x0'})\n"
     ]
    }
   ],
   "source": [
    "bot.run(flashloan_tokens=[T.BNT, T.USDC])"
   ],
   "metadata": {
    "collapsed": false,
    "ExecuteTime": {
     "start_time": "2023-04-19T17:02:16.709236Z",
     "end_time": "2023-04-19T17:02:20.920249Z"
    }
   }
  },
  {
   "cell_type": "code",
   "execution_count": 14,
   "outputs": [],
   "source": [
    "\n",
    "\n",
    "# 18540924058/19940040000, 40073198229841189535744/2360859244912101826533141"
   ],
   "metadata": {
    "collapsed": false,
    "ExecuteTime": {
     "start_time": "2023-04-19T17:02:20.923937Z",
     "end_time": "2023-04-19T17:02:20.926432Z"
    }
   }
  },
  {
   "cell_type": "code",
   "execution_count": 15,
   "outputs": [],
   "source": [
    "# carbon_pools = session.query(Pool).filter(Pool.exchange_name == 'carbon_v1').all()\n",
    "# for pool in carbon_pools:\n",
    "#     pool.fee = 0.002\n",
    "#     session.commit()"
   ],
   "metadata": {
    "collapsed": false,
    "ExecuteTime": {
     "start_time": "2023-04-19T17:02:20.926894Z",
     "end_time": "2023-04-19T17:02:20.929562Z"
    }
   }
  },
  {
   "cell_type": "code",
   "execution_count": 16,
   "outputs": [],
   "source": [
    "# trade_instructions = r.trade_instructions(O.TIF_DICTS)\n",
    "#\n",
    "# tx_route_handler = TxRouteHandler(trade_instructions)\n",
    "#\n",
    "# trade_instructions = tx_route_handler.custom_data_encoder(trade_instructions)\n",
    "#\n",
    "# tx_submit_handler = TxSubmitHandler(trade_instructions,\n",
    "#                                     src_amount=trade_instructions[0].amtin_wei,\n",
    "#                                     src_address=src_address)\n",
    "# deadline = tx_submit_handler._get_deadline()\n",
    "#\n",
    "# route_struct, src_amount = tx_route_handler.get_arb_contract_args(\n",
    "#     trade_instructions, deadline\n",
    "# )\n",
    "#\n",
    "#\n",
    "# tx_details = tx_submit_handler._get_tx_details()\n",
    "# tx_submit_handler.token_contract.functions.approve(\n",
    "#     w3.toChecksumAddress(FASTLANE_CONTRACT_ADDRESS), src_amount\n",
    "# ).transact(tx_details)"
   ],
   "metadata": {
    "collapsed": false,
    "ExecuteTime": {
     "start_time": "2023-04-19T17:02:20.931842Z",
     "end_time": "2023-04-19T17:02:20.934264Z"
    }
   }
  },
  {
   "cell_type": "code",
   "execution_count": 17,
   "outputs": [],
   "source": [
    "\n",
    "# from carbon.helpers import RouteStruct\n",
    "#\n",
    "# var = [RouteStruct(exchangeId=2, targetToken='0xA0b86991c6218b36c1d19D4a2e9Eb0cE3606eB48', minTargetAmount=1,\n",
    "#                    deadline=1681947492, customAddress='0xA0b86991c6218b36c1d19D4a2e9Eb0cE3606eB48', customInt=0,\n",
    "#                    customData=''),\n",
    "#        RouteStruct(exchangeId=6, targetToken='0x1F573D6Fb3F13d689FF844B4cE37794d79a7FF1C', minTargetAmount=1,\n",
    "#                    deadline=1681947492, customAddress='0x1F573D6Fb3F13d689FF844B4cE37794d79a7FF1C', customInt=0,\n",
    "#                    customData=b'\\x00\\x00\\x00\\x00\\x00\\x00\\x00\\x00\\x00\\x00\\x00\\x00\\x00\\x00\\x00\\x00\\x00\\x00\\x00\\x00\\x00\\x00\\x00\\x00\\x00\\x00\\x00\\x00\\x00\\x00\\x00 \\x00\\x00\\x00\\x00\\x00\\x00\\x00\\x00\\x00\\x00\\x00\\x00\\x00\\x00\\x00\\x00\\x00\\x00\\x00\\x00\\x00\\x00\\x00\\x00\\x00\\x00\\x00\\x00\\x00\\x00\\x00\\x01\\x00\\x00\\x00\\x00\\x00\\x00\\x00\\x00\\x00\\x00\\x00\\x00\\x00\\x00\\x00\\x02\\x00\\x00\\x00\\x00\\x00\\x00\\x00\\x00\\x00\\x00\\x00\\x00\\x00\\x00\\x00\\t\\x00\\x00\\x00\\x00\\x00\\x00\\x00\\x00\\x00\\x00\\x00\\x00\\x00\\x00\\x00\\x00\\x00\\x00\\x00\\x00\\x00\\x01\\xefmp\\xf2\\x0cv\\x0c\\xd4\\xd6L')]\n",
    "#\n",
    "# from carbon.abi import ERC20_ABI\n",
    "#\n",
    "# tx_details = {\n",
    "#     \"gasPrice\": DEFAULT_GAS_PRICE,\n",
    "#     \"gas\": DEFAULT_GAS,\n",
    "#     \"from\": w3.toChecksumAddress(FASTLANE_CONTRACT_ADDRESS),\n",
    "#     \"nonce\": w3.eth.get_transaction_count(\n",
    "#         w3.toChecksumAddress(FASTLANE_CONTRACT_ADDRESS)\n",
    "#     ),\n",
    "# }\n",
    "# token_contract = w3.eth.contract(\n",
    "#     address=w3.toChecksumAddress(BNT_ADDRESS),\n",
    "#     abi=ERC20_ABI,\n",
    "# )\n",
    "# token_contract.functions.approve(\n",
    "#     w3.toChecksumAddress(FASTLANE_CONTRACT_ADDRESS), 400000\n",
    "# ).transact(tx_details)"
   ],
   "metadata": {
    "collapsed": false,
    "ExecuteTime": {
     "start_time": "2023-04-19T17:02:20.935319Z",
     "end_time": "2023-04-19T17:02:20.938339Z"
    }
   }
  },
  {
   "cell_type": "code",
   "execution_count": 18,
   "outputs": [],
   "source": [
    "# from eth_utils import to_hex\n",
    "# int(to_hex(b'\\x00\\x00\\x00\\x00\\x00\\x00\\x00\\x00\\x00\\x00\\x00\\x00\\x00\\x00\\x00\\x00\\x00\\x00\\x00\\x00\\x00\\x00\\x00\\x00\\x00\\x00\\x00\\x00\\x00\\x00\\x00 \\x00\\x00\\x00\\x00\\x00\\x00\\x00\\x00\\x00\\x00\\x00\\x00\\x00\\x00\\x00\\x00\\x00\\x00\\x00\\x00\\x00\\x00\\x00\\x00\\x00\\x00\\x00\\x00\\x00\\x00\\x00\\x01\\x00\\x00\\x00\\x00\\x00\\x00\\x00\\x00\\x00\\x00\\x00\\x00\\x00\\x00\\x00\\x02\\x00\\x00\\x00\\x00\\x00\\x00\\x00\\x00\\x00\\x00\\x00\\x00\\x00\\x00\\x00\\t\\x00\\x00\\x00\\x00\\x00\\x00\\x00\\x00\\x00\\x00\\x00\\x00\\x00\\x00\\x00\\x00\\x00\\x00\\x00\\x00\\x00\\x01\\xefmp\\xf2\\x0cv\\x0c\\xd4\\xd6L'))"
   ],
   "metadata": {
    "collapsed": false,
    "ExecuteTime": {
     "start_time": "2023-04-19T17:02:20.939033Z",
     "end_time": "2023-04-19T17:02:20.941479Z"
    }
   }
  }
 ],
 "metadata": {
  "kernelspec": {
   "name": "backend-sqlite-39",
   "language": "python",
   "display_name": "Python 3.9 (backend-sqlite-39)"
  },
  "language_info": {
   "codemirror_mode": {
    "name": "ipython",
    "version": 2
   },
   "file_extension": ".py",
   "mimetype": "text/x-python",
   "name": "python",
   "nbconvert_exporter": "python",
   "pygments_lexer": "ipython2",
   "version": "2.7.6"
  }
 },
 "nbformat": 4,
 "nbformat_minor": 0
}

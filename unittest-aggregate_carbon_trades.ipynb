{
 "cells": [
  {
   "cell_type": "code",
   "execution_count": 39,
   "metadata": {
    "collapsed": true,
    "ExecuteTime": {
     "start_time": "2023-04-25T07:39:31.282887Z",
     "end_time": "2023-04-25T07:39:31.291690Z"
    }
   },
   "outputs": [
    {
     "name": "stderr",
     "output_type": "stream",
     "text": [
      "/var/folders/rt/qnj8r6yd6131ccxkw_k9d9gc0000gn/T/ipykernel_6287/2464640928.py:42: SettingWithCopyWarning: \n",
      "A value is trying to be set on a copy of a slice from a DataFrame.\n",
      "Try using .loc[row_indexer,col_indexer] = value instead\n",
      "\n",
      "See the caveats in the documentation: https://pandas.pydata.org/pandas-docs/stable/user_guide/indexing.html#returning-a-view-versus-a-copy\n",
      "  nocarbons[\"pair_sorting\"] = nocarbons.tknin + nocarbons.tknout\n",
      "/var/folders/rt/qnj8r6yd6131ccxkw_k9d9gc0000gn/T/ipykernel_6287/2464640928.py:43: SettingWithCopyWarning: \n",
      "A value is trying to be set on a copy of a slice from a DataFrame.\n",
      "Try using .loc[row_indexer,col_indexer] = value instead\n",
      "\n",
      "See the caveats in the documentation: https://pandas.pydata.org/pandas-docs/stable/user_guide/indexing.html#returning-a-view-versus-a-copy\n",
      "  nocarbons[\"raw_txs\"] = str([])\n"
     ]
    },
    {
     "data": {
      "text/plain": "[TradeInstruction(cid='8847341539944400050047739793225973497926', tknin='BNT-FF1C', amtin=485.1494996276915, tknout='WETH-6Cc2', amtout=-0.12919924675225047, pair_sorting='BNT-FF1CWETH-6Cc2', raw_txs='[]', custom_data=''),\n TradeInstruction(cid='3743106036130323098097120681749450326030-0', tknin='WETH-6Cc2', amtin=0.1265443077509661, tknout='BNT-FF1C', amtout=-500.0, pair_sorting='WETH-6Cc2BNT-FF1C', raw_txs=\"[{'cid': '3743106036130323098097120681749450326030-0', 'tknin': 'WETH-6Cc2', 'amtin': 0.1265443077509661, 'tknout': 'BNT-FF1C', 'amtout': -500.0, 'pair_sorting': 'WETH-6Cc2BNT-FF1C'}]\", custom_data='')]"
     },
     "execution_count": 39,
     "metadata": {},
     "output_type": "execute_result"
    }
   ],
   "source": [
    "\n",
    "import pandas as pd\n",
    "from typing import List\n",
    "from fastlane_bot.helpers.tradeinstruction import TradeInstruction\n",
    "\n",
    "def _aggregate_carbon_trades(listti: List[dict]) -> List[TradeInstruction]:\n",
    "    \"\"\"\n",
    "    Aggregate carbon independent IDs and create trade instructions.\n",
    "\n",
    "    This function takes a list of dictionaries containing trade instructions,\n",
    "    aggregates the instructions with carbon independent IDs, and creates\n",
    "    a list of TradeInstruction objects.\n",
    "\n",
    "    Parameters\n",
    "    ----------\n",
    "    listti : List[dict]\n",
    "        A list of trade instructions as dictionaries.\n",
    "\n",
    "    Returns\n",
    "    -------\n",
    "    List[TradeInstruction]\n",
    "        A list of aggregated trade instructions as TradeInstruction objects.\n",
    "\n",
    "    \"\"\"\n",
    "    df = pd.DataFrame(listti)\n",
    "    carbons = df[df.cid.str.contains(\"-\")].copy()\n",
    "    nocarbons = df[~df.cid.str.contains(\"-\")]\n",
    "    carbons[\"pair_sorting\"] = carbons.tknin + carbons.tknout\n",
    "\n",
    "    new_trade_instructions = [\n",
    "        {\n",
    "            \"pair_sorting\": pair_sorting,\n",
    "            \"cid\": newdf.cid.values[0],\n",
    "            \"tknin\": newdf.tknin.values[0],\n",
    "            \"amtin\": newdf.amtin.sum(),\n",
    "            \"tknout\": newdf.tknout.values[0],\n",
    "            \"amtout\": newdf.amtout.sum(),\n",
    "            \"raw_txs\": str(newdf.to_dict(orient=\"records\")),\n",
    "        }\n",
    "        for pair_sorting, newdf in carbons.groupby(\"pair_sorting\")\n",
    "    ]\n",
    "\n",
    "    nocarbons[\"pair_sorting\"] = nocarbons.tknin + nocarbons.tknout\n",
    "    nocarbons[\"raw_txs\"] = str([])\n",
    "    new_trade_instructions.extend(nocarbons.to_dict(orient=\"records\"))\n",
    "\n",
    "    trade_instructions = [\n",
    "        TradeInstruction(**instruction)\n",
    "        for instruction in new_trade_instructions\n",
    "    ]\n",
    "\n",
    "    trade_instructions.sort(key=lambda x: x.pair_sorting)\n",
    "\n",
    "    return trade_instructions\n",
    "\n",
    "\n",
    "\n",
    "original_input = [{'cid': '3743106036130323098097120681749450326030-0', 'tknin': 'WETH-6Cc2', 'amtin': 0.1265443077509661, 'tknout': 'BNT-FF1C', 'amtout': -500.0}, {'cid': '8847341539944400050047739793225973497926', 'tknin': 'BNT-FF1C', 'amtin': 485.1494996276915, 'tknout': 'WETH-6Cc2', 'amtout': -0.12919924675225047}]\n",
    "\n",
    "\n",
    "old_incorrect_output = [TradeInstruction(cid='3743106036130323098097120681749450326030-0', tknin='WETH-6Cc2', amtin=0.12655696344731082, tknout='BNT-FF1C', amtout=-500.0, pair_sorting='WETH-6Cc2BNT-FF1C', raw_txs=\"[{'cid': '3743106036130323098097120681749450326030-0', 'tknin': 'WETH-6Cc2', 'amtin': 0.12655696344731082, 'tknout': 'BNT-FF1C', 'amtout': -500.0, 'pair_sorting': 'WETH-6Cc2BNT-FF1C'}]\", custom_data=''),\n",
    "                  TradeInstruction(cid='8847341539944400050047739793225973497926', tknin='BNT-FF1C', amtin=490.04999962393083, tknout='WETH-6Cc2', amtout=-0.12919924675225047, pair_sorting='BNT-FF1CWETH-6Cc2', raw_txs='[]', custom_data='')]\n",
    "\n",
    "\n",
    "correct_output = [TradeInstruction(cid='8847341539944400050047739793225973497926', tknin='BNT-FF1C', amtin=485.1494996276915, tknout='WETH-6Cc2', amtout=-0.12919924675225047, pair_sorting='BNT-FF1CWETH-6Cc2', raw_txs='[]', custom_data=''),\n",
    "                  TradeInstruction(cid='3743106036130323098097120681749450326030-0', tknin='WETH-6Cc2', amtin=0.1265443077509661, tknout='BNT-FF1C', amtout=-500.0, pair_sorting='WETH-6Cc2BNT-FF1C', raw_txs=\"[{'cid': '3743106036130323098097120681749450326030-0', 'tknin': 'WETH-6Cc2', 'amtin': 0.1265443077509661, 'tknout': 'BNT-FF1C', 'amtout': -500.0, 'pair_sorting': 'WETH-6Cc2BNT-FF1C'}]\", custom_data='')]\n",
    "\n",
    "\n",
    "new_output = _aggregate_carbon_trades(original_input)\n",
    "\n",
    "\n",
    "assert new_output == correct_output, \"incorrect output\"\n",
    "\n",
    "new_output"
   ]
  }
 ],
 "metadata": {
  "kernelspec": {
   "display_name": "Python 3",
   "language": "python",
   "name": "python3"
  },
  "language_info": {
   "codemirror_mode": {
    "name": "ipython",
    "version": 2
   },
   "file_extension": ".py",
   "mimetype": "text/x-python",
   "name": "python",
   "nbconvert_exporter": "python",
   "pygments_lexer": "ipython2",
   "version": "2.7.6"
  }
 },
 "nbformat": 4,
 "nbformat_minor": 0
}
